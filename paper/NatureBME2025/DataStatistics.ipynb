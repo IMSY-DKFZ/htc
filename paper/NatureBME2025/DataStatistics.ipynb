{
 "cells": [
  {
   "cell_type": "code",
   "execution_count": 1,
   "metadata": {},
   "outputs": [],
   "source": [
    "%load_ext autoreload\n",
    "%autoreload 2\n",
    "\n",
    "import pandas as pd\n",
    "import plotly.io as pio\n",
    "from plotly import graph_objects as go\n",
    "from plotly.subplots import make_subplots\n",
    "\n",
    "from htc.utils.helper_functions import sort_labels\n",
    "from htc_projects.rat.settings_rat import settings_rat\n",
    "from htc_projects.species.settings_species import settings_species\n",
    "from htc_projects.species.tables import paper_table\n",
    "\n",
    "pio.kaleido.scope.mathjax = None"
   ]
  },
  {
   "cell_type": "code",
   "execution_count": 2,
   "metadata": {},
   "outputs": [],
   "source": [
    "df = paper_table()\n",
    "assert pd.isna(df[\"species_name\"]).sum() == 0"
   ]
  },
  {
   "cell_type": "code",
   "execution_count": 3,
   "metadata": {},
   "outputs": [
    {
     "data": {
      "text/html": [
       "        <script type=\"text/javascript\">\n",
       "        window.PlotlyConfig = {MathJaxConfig: 'local'};\n",
       "        if (window.MathJax && window.MathJax.Hub && window.MathJax.Hub.Config) {window.MathJax.Hub.Config({SVG: {font: \"STIX-Web\"}});}\n",
       "        </script>\n",
       "        <script type=\"module\">import \"https://cdn.plot.ly/plotly-3.0.1.min\"</script>\n",
       "        "
      ]
     },
     "metadata": {},
     "output_type": "display_data"
    },
    {
     "data": {
      "application/vnd.plotly.v1+json": {
       "config": {
        "plotlyServerURL": "https://plot.ly"
       },
       "data": [
        {
         "marker": {
          "color": "#44AA99",
          "line": {
           "color": "black",
           "width": 0.1
          }
         },
         "name": "physiological",
         "type": "bar",
         "x": [
          "kidney"
         ],
         "xaxis": "x",
         "y": {
          "bdata": "Cw==",
          "dtype": "i1"
         },
         "yaxis": "y"
        },
        {
         "marker": {
          "color": "#44AA99",
          "line": {
           "color": "black",
           "width": 0.1
          }
         },
         "name": "physiological",
         "type": "bar",
         "x": [
          "kidney"
         ],
         "xaxis": "x",
         "y": {
          "bdata": "Jw==",
          "dtype": "i1"
         },
         "yaxis": "y"
        },
        {
         "marker": {
          "color": "#44AA99",
          "line": {
           "color": "black",
           "width": 0.1
          }
         },
         "name": "physiological",
         "type": "bar",
         "x": [
          "kidney"
         ],
         "xaxis": "x",
         "y": {
          "bdata": "BQ==",
          "dtype": "i1"
         },
         "yaxis": "y"
        },
        {
         "marker": {
          "color": "#44AA99",
          "line": {
           "color": "black",
           "width": 0.1
          }
         },
         "name": "physiological",
         "type": "bar",
         "x": [
          "kidney"
         ],
         "xaxis": "x",
         "y": {
          "bdata": "Bg==",
          "dtype": "i1"
         },
         "yaxis": "y"
        },
        {
         "marker": {
          "color": "#44AA99",
          "line": {
           "color": "black",
           "width": 0.1
          }
         },
         "name": "physiological",
         "type": "bar",
         "x": [
          "kidney"
         ],
         "xaxis": "x",
         "y": {
          "bdata": "Cw==",
          "dtype": "i1"
         },
         "yaxis": "y"
        },
        {
         "marker": {
          "color": "#44AA99",
          "line": {
           "color": "black",
           "width": 0.1
          }
         },
         "name": "physiological",
         "type": "bar",
         "x": [
          "kidney"
         ],
         "xaxis": "x",
         "y": {
          "bdata": "Bg==",
          "dtype": "i1"
         },
         "yaxis": "y"
        },
        {
         "marker": {
          "color": "#44AA99",
          "line": {
           "color": "black",
           "width": 0.1
          }
         },
         "name": "physiological",
         "type": "bar",
         "x": [
          "kidney",
          "lung",
          "omentum"
         ],
         "xaxis": "x",
         "y": {
          "bdata": "BiQk",
          "dtype": "i1"
         },
         "yaxis": "y"
        },
        {
         "marker": {
          "color": "#44AA99",
          "line": {
           "color": "black",
           "width": 0.1
          }
         },
         "name": "physiological",
         "type": "bar",
         "x": [
          "colon",
          "kidney",
          "liver",
          "lung",
          "omentum",
          "pancreas",
          "peritoneum",
          "skin",
          "small_bowel",
          "spleen",
          "stomach"
         ],
         "xaxis": "x",
         "y": {
          "bdata": "JCYkJCQkJCQkJCQ=",
          "dtype": "i1"
         },
         "yaxis": "y"
        },
        {
         "marker": {
          "color": "#44AA99",
          "line": {
           "color": "black",
           "width": 0.1
          }
         },
         "name": "physiological",
         "type": "bar",
         "x": [
          "colon",
          "kidney",
          "liver",
          "omentum",
          "peritoneum",
          "skin",
          "small_bowel",
          "stomach"
         ],
         "xaxis": "x",
         "y": {
          "bdata": "JE0kJCQkJCQ=",
          "dtype": "i1"
         },
         "yaxis": "y"
        },
        {
         "marker": {
          "color": "#44AA99",
          "line": {
           "color": "black",
           "width": 0.1
          }
         },
         "name": "physiological",
         "type": "bar",
         "x": [
          "kidney"
         ],
         "xaxis": "x",
         "y": {
          "bdata": "EA==",
          "dtype": "i1"
         },
         "yaxis": "y"
        },
        {
         "marker": {
          "color": "#44AA99",
          "line": {
           "color": "black",
           "width": 0.1
          }
         },
         "name": "physiological",
         "type": "bar",
         "x": [
          "kidney"
         ],
         "xaxis": "x",
         "y": {
          "bdata": "Eg==",
          "dtype": "i1"
         },
         "yaxis": "y"
        },
        {
         "marker": {
          "color": "#44AA99",
          "line": {
           "color": "black",
           "width": 0.1
          }
         },
         "name": "physiological",
         "type": "bar",
         "x": [
          "kidney"
         ],
         "xaxis": "x",
         "y": {
          "bdata": "EA==",
          "dtype": "i1"
         },
         "yaxis": "y"
        },
        {
         "marker": {
          "color": "#44AA99",
          "line": {
           "color": "black",
           "width": 0.1
          }
         },
         "name": "physiological",
         "type": "bar",
         "x": [
          "colon",
          "liver",
          "spleen"
         ],
         "xaxis": "x",
         "y": {
          "bdata": "AQEB",
          "dtype": "i1"
         },
         "yaxis": "y"
        },
        {
         "marker": {
          "color": "#44AA99",
          "line": {
           "color": "black",
           "width": 0.1
          }
         },
         "name": "physiological",
         "type": "bar",
         "x": [
          "colon",
          "liver",
          "spleen"
         ],
         "xaxis": "x",
         "y": {
          "bdata": "AQEB",
          "dtype": "i1"
         },
         "yaxis": "y"
        },
        {
         "marker": {
          "color": "#44AA99",
          "line": {
           "color": "black",
           "width": 0.1
          }
         },
         "name": "physiological",
         "type": "bar",
         "x": [
          "colon",
          "liver",
          "spleen"
         ],
         "xaxis": "x",
         "y": {
          "bdata": "AQEB",
          "dtype": "i1"
         },
         "yaxis": "y"
        },
        {
         "marker": {
          "color": "#44AA99",
          "line": {
           "color": "black",
           "width": 0.1
          }
         },
         "name": "physiological",
         "type": "bar",
         "x": [
          "colon",
          "liver",
          "spleen"
         ],
         "xaxis": "x",
         "y": {
          "bdata": "AQEB",
          "dtype": "i1"
         },
         "yaxis": "y"
        },
        {
         "marker": {
          "color": "#44AA99",
          "line": {
           "color": "black",
           "width": 0.1
          }
         },
         "name": "physiological",
         "type": "bar",
         "x": [
          "background",
          "colon",
          "liver",
          "omentum",
          "peritoneum",
          "skin",
          "small_bowel",
          "spleen",
          "stomach"
         ],
         "xaxis": "x",
         "y": {
          "bdata": "BAQCAgICBAIC",
          "dtype": "i1"
         },
         "yaxis": "y"
        },
        {
         "marker": {
          "color": "#44AA99",
          "line": {
           "color": "black",
           "width": 0.1
          }
         },
         "name": "physiological",
         "type": "bar",
         "x": [
          "background",
          "colon",
          "liver",
          "lung",
          "omentum",
          "small_bowel",
          "stomach"
         ],
         "xaxis": "x",
         "y": {
          "bdata": "FQsLCgMLAw==",
          "dtype": "i1"
         },
         "yaxis": "y"
        },
        {
         "marker": {
          "color": "#44AA99",
          "line": {
           "color": "black",
           "width": 0.1
          }
         },
         "name": "physiological",
         "type": "bar",
         "x": [
          "background",
          "colon",
          "liver",
          "lung",
          "omentum",
          "peritoneum",
          "skin",
          "small_bowel",
          "spleen",
          "stomach"
         ],
         "xaxis": "x",
         "y": {
          "bdata": "FxEOBgUREhENBQ==",
          "dtype": "i1"
         },
         "yaxis": "y"
        },
        {
         "marker": {
          "color": "#44AA99",
          "line": {
           "color": "black",
           "width": 0.1
          }
         },
         "name": "physiological",
         "type": "bar",
         "x": [
          "background",
          "colon",
          "liver",
          "lung",
          "omentum",
          "peritoneum",
          "skin",
          "small_bowel",
          "spleen",
          "stomach"
         ],
         "xaxis": "x",
         "y": {
          "bdata": "FhINBAkPEhEPDQ==",
          "dtype": "i1"
         },
         "yaxis": "y"
        },
        {
         "marker": {
          "color": "#44AA99",
          "line": {
           "color": "black",
           "width": 0.1
          }
         },
         "name": "physiological",
         "type": "bar",
         "x": [
          "background",
          "colon",
          "liver",
          "omentum",
          "peritoneum",
          "skin",
          "small_bowel",
          "spleen",
          "stomach"
         ],
         "xaxis": "x",
         "y": {
          "bdata": "EA4NDQ8QEA4M",
          "dtype": "i1"
         },
         "yaxis": "y"
        },
        {
         "marker": {
          "color": "#44AA99",
          "line": {
           "color": "black",
           "width": 0.1
          }
         },
         "name": "physiological",
         "type": "bar",
         "x": [
          "background",
          "colon",
          "liver",
          "omentum",
          "peritoneum",
          "skin",
          "small_bowel",
          "spleen",
          "stomach"
         ],
         "xaxis": "x",
         "y": {
          "bdata": "CgoKCAoKCgoK",
          "dtype": "i1"
         },
         "yaxis": "y"
        },
        {
         "marker": {
          "color": "#44AA99",
          "line": {
           "color": "black",
           "width": 0.1
          }
         },
         "name": "physiological",
         "type": "bar",
         "x": [
          "background",
          "colon",
          "liver",
          "peritoneum",
          "skin",
          "small_bowel",
          "spleen",
          "stomach"
         ],
         "xaxis": "x",
         "y": {
          "bdata": "Dw8KDg8PCwo=",
          "dtype": "i1"
         },
         "yaxis": "y"
        },
        {
         "marker": {
          "color": "#44AA99",
          "line": {
           "color": "black",
           "width": 0.1
          }
         },
         "name": "physiological",
         "type": "bar",
         "x": [
          "background",
          "colon",
          "liver",
          "omentum",
          "peritoneum",
          "skin",
          "small_bowel",
          "spleen",
          "stomach"
         ],
         "xaxis": "x",
         "y": {
          "bdata": "EBAFARAQEA0L",
          "dtype": "i1"
         },
         "yaxis": "y"
        },
        {
         "marker": {
          "color": "#44AA99",
          "line": {
           "color": "black",
           "width": 0.1
          }
         },
         "name": "physiological",
         "type": "bar",
         "x": [
          "background",
          "colon",
          "liver",
          "omentum",
          "peritoneum",
          "skin",
          "small_bowel",
          "spleen",
          "stomach"
         ],
         "xaxis": "x",
         "y": {
          "bdata": "BQUFBQUFBQUF",
          "dtype": "i1"
         },
         "yaxis": "y"
        },
        {
         "marker": {
          "color": "#44AA99",
          "line": {
           "color": "black",
           "width": 0.1
          }
         },
         "name": "physiological",
         "type": "bar",
         "x": [
          "background",
          "colon",
          "liver",
          "omentum",
          "pancreas",
          "peritoneum",
          "skin",
          "small_bowel",
          "spleen",
          "stomach"
         ],
         "xaxis": "x",
         "y": {
          "bdata": "GBQTEwUYGBgVEg==",
          "dtype": "i1"
         },
         "yaxis": "y"
        },
        {
         "marker": {
          "color": "#44AA99",
          "line": {
           "color": "black",
           "width": 0.1
          }
         },
         "name": "physiological",
         "type": "bar",
         "x": [
          "background",
          "colon",
          "kidney",
          "liver",
          "lung",
          "omentum",
          "pancreas",
          "peritoneum",
          "skin",
          "small_bowel",
          "spleen",
          "stomach"
         ],
         "xaxis": "x",
         "y": {
          "bdata": "NRwIIw0RDhgSHREI",
          "dtype": "i1"
         },
         "yaxis": "y"
        },
        {
         "marker": {
          "color": "#44AA99",
          "line": {
           "color": "black",
           "width": 0.1
          }
         },
         "name": "physiological",
         "type": "bar",
         "x": [
          "background",
          "colon",
          "kidney",
          "liver",
          "omentum",
          "pancreas",
          "peritoneum",
          "small_bowel",
          "spleen",
          "stomach"
         ],
         "xaxis": "x",
         "y": {
          "bdata": "FhADCAMFBhMEAQ==",
          "dtype": "i1"
         },
         "yaxis": "y"
        },
        {
         "marker": {
          "color": "#44AA99",
          "line": {
           "color": "black",
           "width": 0.1
          }
         },
         "name": "physiological",
         "type": "bar",
         "x": [
          "background",
          "colon",
          "liver",
          "lung",
          "omentum",
          "pancreas",
          "peritoneum",
          "skin",
          "small_bowel",
          "spleen",
          "stomach"
         ],
         "xaxis": "x",
         "y": {
          "bdata": "MhYcDhAIEg0kGBU=",
          "dtype": "i1"
         },
         "yaxis": "y"
        },
        {
         "marker": {
          "color": "#44AA99",
          "line": {
           "color": "black",
           "width": 0.1
          }
         },
         "name": "physiological",
         "type": "bar",
         "x": [
          "background",
          "colon",
          "kidney",
          "liver",
          "pancreas",
          "peritoneum",
          "skin",
          "small_bowel",
          "spleen",
          "stomach"
         ],
         "xaxis": "x",
         "y": {
          "bdata": "EgwGDAESEhIMCQ==",
          "dtype": "i1"
         },
         "yaxis": "y"
        },
        {
         "marker": {
          "color": "#44AA99",
          "line": {
           "color": "black",
           "width": 0.1
          }
         },
         "name": "physiological",
         "type": "bar",
         "x": [
          "background",
          "colon",
          "kidney",
          "liver",
          "lung",
          "omentum",
          "pancreas",
          "peritoneum",
          "skin",
          "small_bowel",
          "spleen",
          "stomach"
         ],
         "xaxis": "x",
         "y": {
          "bdata": "diwhMgwgDC4vTRw2",
          "dtype": "i1"
         },
         "yaxis": "y"
        },
        {
         "marker": {
          "color": "#44AA99",
          "line": {
           "color": "black",
           "width": 0.1
          }
         },
         "name": "physiological",
         "type": "bar",
         "x": [
          "background",
          "colon",
          "liver",
          "omentum",
          "pancreas",
          "peritoneum",
          "skin",
          "small_bowel",
          "spleen",
          "stomach"
         ],
         "xaxis": "x",
         "y": {
          "bdata": "Fw8NCgUFAxcSEQ==",
          "dtype": "i1"
         },
         "yaxis": "y"
        },
        {
         "marker": {
          "color": "#44AA99",
          "line": {
           "color": "black",
           "width": 0.1
          }
         },
         "name": "physiological",
         "type": "bar",
         "x": [
          "background",
          "colon",
          "liver",
          "omentum",
          "peritoneum",
          "skin",
          "small_bowel",
          "spleen",
          "stomach"
         ],
         "xaxis": "x",
         "y": {
          "bdata": "FBQNDQwOFBMN",
          "dtype": "i1"
         },
         "yaxis": "y"
        },
        {
         "marker": {
          "color": "#44AA99",
          "line": {
           "color": "black",
           "width": 0.1
          }
         },
         "name": "physiological",
         "type": "bar",
         "x": [
          "background",
          "colon",
          "liver",
          "lung",
          "omentum",
          "pancreas",
          "peritoneum",
          "skin",
          "small_bowel",
          "spleen",
          "stomach"
         ],
         "xaxis": "x",
         "y": {
          "bdata": "JxkZDg0JGhwZEA8=",
          "dtype": "i1"
         },
         "yaxis": "y"
        },
        {
         "marker": {
          "color": "#44AA99",
          "line": {
           "color": "black",
           "width": 0.1
          }
         },
         "name": "physiological",
         "type": "bar",
         "x": [
          "background",
          "colon",
          "liver",
          "omentum",
          "pancreas",
          "peritoneum",
          "skin",
          "small_bowel",
          "spleen",
          "stomach"
         ],
         "xaxis": "x",
         "y": {
          "bdata": "EwcJDgYCDA4MEw==",
          "dtype": "i1"
         },
         "yaxis": "y"
        },
        {
         "marker": {
          "color": "#44AA99",
          "line": {
           "color": "black",
           "width": 0.1
          }
         },
         "name": "physiological",
         "type": "bar",
         "x": [
          "background",
          "colon",
          "kidney",
          "liver",
          "lung",
          "omentum",
          "pancreas",
          "peritoneum",
          "skin",
          "small_bowel",
          "spleen",
          "stomach"
         ],
         "xaxis": "x",
         "y": {
          "bdata": "USYUOAkhDikuPSsd",
          "dtype": "i1"
         },
         "yaxis": "y"
        },
        {
         "marker": {
          "color": "#44AA99",
          "line": {
           "color": "black",
           "width": 0.1
          }
         },
         "name": "physiological",
         "type": "bar",
         "x": [
          "colon",
          "kidney",
          "liver",
          "lung",
          "pancreas",
          "peritoneum",
          "skin",
          "small_bowel",
          "spleen",
          "stomach"
         ],
         "xaxis": "x",
         "y": {
          "bdata": "JCQkJCQkJCQkJA==",
          "dtype": "i1"
         },
         "yaxis": "y"
        },
        {
         "marker": {
          "color": "#44AA99",
          "line": {
           "color": "black",
           "width": 0.1
          }
         },
         "name": "physiological",
         "type": "bar",
         "x": [
          "colon",
          "kidney",
          "liver",
          "omentum",
          "skin",
          "small_bowel",
          "spleen",
          "stomach"
         ],
         "xaxis": "x",
         "y": {
          "bdata": "JCQkJCQkJCQ=",
          "dtype": "i1"
         },
         "yaxis": "y"
        },
        {
         "marker": {
          "color": "#44AA99",
          "line": {
           "color": "black",
           "width": 0.1
          }
         },
         "name": "physiological",
         "type": "bar",
         "x": [
          "kidney",
          "omentum",
          "pancreas",
          "peritoneum",
          "small_bowel",
          "spleen",
          "stomach"
         ],
         "xaxis": "x",
         "y": {
          "bdata": "JCQkJCQkJA==",
          "dtype": "i1"
         },
         "yaxis": "y"
        },
        {
         "marker": {
          "color": "#44AA99",
          "line": {
           "color": "black",
           "width": 0.1
          }
         },
         "name": "physiological",
         "type": "bar",
         "x": [
          "colon",
          "lung",
          "pancreas",
          "peritoneum",
          "skin",
          "stomach"
         ],
         "xaxis": "x",
         "y": {
          "bdata": "JCQkJCQk",
          "dtype": "i1"
         },
         "yaxis": "y"
        },
        {
         "marker": {
          "color": "#44AA99",
          "line": {
           "color": "black",
           "width": 0.1
          }
         },
         "name": "physiological",
         "type": "bar",
         "x": [
          "colon",
          "kidney",
          "liver",
          "lung",
          "omentum",
          "pancreas",
          "peritoneum",
          "skin",
          "spleen",
          "stomach"
         ],
         "xaxis": "x",
         "y": {
          "bdata": "JCQkJCQkJCQkJA==",
          "dtype": "i1"
         },
         "yaxis": "y"
        },
        {
         "marker": {
          "color": "#44AA99",
          "line": {
           "color": "black",
           "width": 0.1
          }
         },
         "name": "physiological",
         "type": "bar",
         "x": [
          "colon",
          "kidney",
          "liver",
          "lung",
          "omentum",
          "pancreas",
          "peritoneum",
          "small_bowel",
          "spleen",
          "stomach"
         ],
         "xaxis": "x",
         "y": {
          "bdata": "JCQkJCQkJCQkJA==",
          "dtype": "i1"
         },
         "yaxis": "y"
        },
        {
         "marker": {
          "color": "#44AA99",
          "line": {
           "color": "black",
           "width": 0.1
          }
         },
         "name": "physiological",
         "type": "bar",
         "x": [
          "kidney",
          "liver",
          "lung",
          "omentum",
          "pancreas",
          "peritoneum",
          "skin",
          "small_bowel",
          "spleen"
         ],
         "xaxis": "x",
         "y": {
          "bdata": "JCQkJCQkJCQk",
          "dtype": "i1"
         },
         "yaxis": "y"
        },
        {
         "marker": {
          "color": "#44AA99",
          "line": {
           "color": "black",
           "width": 0.1
          }
         },
         "name": "physiological",
         "type": "bar",
         "x": [
          "colon",
          "kidney",
          "liver",
          "lung",
          "pancreas",
          "skin",
          "small_bowel",
          "spleen"
         ],
         "xaxis": "x",
         "y": {
          "bdata": "JCQkJCQkJCQ=",
          "dtype": "i1"
         },
         "yaxis": "y"
        },
        {
         "marker": {
          "color": "#D8EFEC",
          "line": {
           "color": "black",
           "width": 0.1
          }
         },
         "name": "malperfused",
         "type": "bar",
         "x": [
          "kidney"
         ],
         "xaxis": "x",
         "y": {
          "bdata": "Ew==",
          "dtype": "i1"
         },
         "yaxis": "y"
        },
        {
         "marker": {
          "color": "#D8EFEC",
          "line": {
           "color": "black",
           "width": 0.1
          }
         },
         "name": "malperfused",
         "type": "bar",
         "x": [
          "kidney"
         ],
         "xaxis": "x",
         "y": {
          "bdata": "Hw==",
          "dtype": "i1"
         },
         "yaxis": "y"
        },
        {
         "marker": {
          "color": "#D8EFEC",
          "line": {
           "color": "black",
           "width": 0.1
          }
         },
         "name": "malperfused",
         "type": "bar",
         "x": [
          "kidney"
         ],
         "xaxis": "x",
         "y": {
          "bdata": "JA==",
          "dtype": "i1"
         },
         "yaxis": "y"
        },
        {
         "marker": {
          "color": "#D8EFEC",
          "line": {
           "color": "black",
           "width": 0.1
          }
         },
         "name": "malperfused",
         "type": "bar",
         "x": [
          "kidney"
         ],
         "xaxis": "x",
         "y": {
          "bdata": "GQ==",
          "dtype": "i1"
         },
         "yaxis": "y"
        },
        {
         "marker": {
          "color": "#D8EFEC",
          "line": {
           "color": "black",
           "width": 0.1
          }
         },
         "name": "malperfused",
         "type": "bar",
         "x": [
          "kidney"
         ],
         "xaxis": "x",
         "y": {
          "bdata": "Ew==",
          "dtype": "i1"
         },
         "yaxis": "y"
        },
        {
         "marker": {
          "color": "#D8EFEC",
          "line": {
           "color": "black",
           "width": 0.1
          }
         },
         "name": "malperfused",
         "type": "bar",
         "x": [
          "kidney"
         ],
         "xaxis": "x",
         "y": {
          "bdata": "FA==",
          "dtype": "i1"
         },
         "yaxis": "y"
        },
        {
         "marker": {
          "color": "#D8EFEC",
          "line": {
           "color": "black",
           "width": 0.1
          }
         },
         "name": "malperfused",
         "type": "bar",
         "x": [
          "kidney"
         ],
         "xaxis": "x",
         "y": {
          "bdata": "Bw==",
          "dtype": "i1"
         },
         "yaxis": "y"
        },
        {
         "marker": {
          "color": "#D8EFEC",
          "line": {
           "color": "black",
           "width": 0.1
          }
         },
         "name": "malperfused",
         "type": "bar",
         "x": [
          "kidney"
         ],
         "xaxis": "x",
         "y": {
          "bdata": "Fw==",
          "dtype": "i1"
         },
         "yaxis": "y"
        },
        {
         "marker": {
          "color": "#D8EFEC",
          "line": {
           "color": "black",
           "width": 0.1
          }
         },
         "name": "malperfused",
         "type": "bar",
         "x": [
          "kidney"
         ],
         "xaxis": "x",
         "y": {
          "bdata": "Fg==",
          "dtype": "i1"
         },
         "yaxis": "y"
        },
        {
         "marker": {
          "color": "#D8EFEC",
          "line": {
           "color": "black",
           "width": 0.1
          }
         },
         "name": "malperfused",
         "type": "bar",
         "x": [
          "kidney"
         ],
         "xaxis": "x",
         "y": {
          "bdata": "Ig==",
          "dtype": "i1"
         },
         "yaxis": "y"
        },
        {
         "marker": {
          "color": "#D8EFEC",
          "line": {
           "color": "black",
           "width": 0.1
          }
         },
         "name": "malperfused",
         "type": "bar",
         "x": [
          "kidney"
         ],
         "xaxis": "x",
         "y": {
          "bdata": "JQ==",
          "dtype": "i1"
         },
         "yaxis": "y"
        },
        {
         "marker": {
          "color": "#D8EFEC",
          "line": {
           "color": "black",
           "width": 0.1
          }
         },
         "name": "malperfused",
         "type": "bar",
         "x": [
          "kidney"
         ],
         "xaxis": "x",
         "y": {
          "bdata": "GQ==",
          "dtype": "i1"
         },
         "yaxis": "y"
        },
        {
         "marker": {
          "color": "#D8EFEC",
          "line": {
           "color": "black",
           "width": 0.1
          }
         },
         "name": "malperfused",
         "type": "bar",
         "x": [
          "colon",
          "liver",
          "spleen"
         ],
         "xaxis": "x",
         "y": {
          "bdata": "Ghoa",
          "dtype": "i1"
         },
         "yaxis": "y"
        },
        {
         "marker": {
          "color": "#D8EFEC",
          "line": {
           "color": "black",
           "width": 0.1
          }
         },
         "name": "malperfused",
         "type": "bar",
         "x": [
          "colon",
          "liver",
          "spleen"
         ],
         "xaxis": "x",
         "y": {
          "bdata": "KCgo",
          "dtype": "i1"
         },
         "yaxis": "y"
        },
        {
         "marker": {
          "color": "#D8EFEC",
          "line": {
           "color": "black",
           "width": 0.1
          }
         },
         "name": "malperfused",
         "type": "bar",
         "x": [
          "colon",
          "liver",
          "spleen"
         ],
         "xaxis": "x",
         "y": {
          "bdata": "KSkp",
          "dtype": "i1"
         },
         "yaxis": "y"
        },
        {
         "marker": {
          "color": "#D8EFEC",
          "line": {
           "color": "black",
           "width": 0.1
          }
         },
         "name": "malperfused",
         "type": "bar",
         "x": [
          "colon",
          "liver",
          "spleen"
         ],
         "xaxis": "x",
         "y": {
          "bdata": "KSkp",
          "dtype": "i1"
         },
         "yaxis": "y"
        },
        {
         "marker": {
          "color": "#44AA99",
          "line": {
           "color": "#9ACA3D",
           "width": 1
          }
         },
         "name": "icg",
         "type": "bar",
         "x": [
          "kidney",
          "small_bowel",
          "stomach"
         ],
         "xaxis": "x",
         "y": {
          "bdata": "AQYF",
          "dtype": "i1"
         },
         "yaxis": "y"
        },
        {
         "marker": {
          "color": "#44AA99",
          "line": {
           "color": "#9ACA3D",
           "width": 1
          }
         },
         "name": "icg",
         "type": "bar",
         "x": [
          "small_bowel",
          "stomach"
         ],
         "xaxis": "x",
         "y": {
          "bdata": "AQU=",
          "dtype": "i1"
         },
         "yaxis": "y"
        },
        {
         "marker": {
          "color": "#44AA99",
          "line": {
           "color": "#9ACA3D",
           "width": 1
          }
         },
         "name": "icg",
         "type": "bar",
         "x": [
          "stomach"
         ],
         "xaxis": "x",
         "y": {
          "bdata": "AQ==",
          "dtype": "i1"
         },
         "yaxis": "y"
        },
        {
         "marker": {
          "color": "#44AA99",
          "line": {
           "color": "#9ACA3D",
           "width": 1
          }
         },
         "name": "icg",
         "type": "bar",
         "x": [
          "stomach"
         ],
         "xaxis": "x",
         "y": {
          "bdata": "CA==",
          "dtype": "i1"
         },
         "yaxis": "y"
        },
        {
         "marker": {
          "color": "#44AA99",
          "line": {
           "color": "#9ACA3D",
           "width": 1
          }
         },
         "name": "icg",
         "type": "bar",
         "x": [
          "small_bowel",
          "stomach"
         ],
         "xaxis": "x",
         "y": {
          "bdata": "AgI=",
          "dtype": "i1"
         },
         "yaxis": "y"
        },
        {
         "marker": {
          "color": "#44AA99",
          "line": {
           "color": "#9ACA3D",
           "width": 1
          }
         },
         "name": "icg",
         "type": "bar",
         "x": [
          "stomach"
         ],
         "xaxis": "x",
         "y": {
          "bdata": "Ag==",
          "dtype": "i1"
         },
         "yaxis": "y"
        },
        {
         "marker": {
          "color": "#44AA99",
          "line": {
           "color": "#9ACA3D",
           "width": 1
          }
         },
         "name": "icg",
         "type": "bar",
         "x": [
          "stomach"
         ],
         "xaxis": "x",
         "y": {
          "bdata": "Cg==",
          "dtype": "i1"
         },
         "yaxis": "y"
        },
        {
         "marker": {
          "color": "#44AA99",
          "line": {
           "color": "#9ACA3D",
           "width": 1
          }
         },
         "name": "icg",
         "type": "bar",
         "x": [
          "colon",
          "liver",
          "peritoneum",
          "small_bowel",
          "stomach"
         ],
         "xaxis": "x",
         "y": {
          "bdata": "IyMjIyM=",
          "dtype": "i1"
         },
         "yaxis": "y"
        },
        {
         "marker": {
          "color": "#44AA99",
          "line": {
           "color": "#9ACA3D",
           "width": 1
          }
         },
         "name": "icg",
         "type": "bar",
         "x": [
          "colon",
          "kidney",
          "liver",
          "omentum",
          "pancreas",
          "peritoneum",
          "small_bowel",
          "stomach"
         ],
         "xaxis": "x",
         "y": {
          "bdata": "BgYHBgkIBgY=",
          "dtype": "i1"
         },
         "yaxis": "y"
        },
        {
         "marker": {
          "color": "#44AA99",
          "line": {
           "color": "#9ACA3D",
           "width": 1
          }
         },
         "name": "icg",
         "type": "bar",
         "x": [
          "colon",
          "kidney",
          "liver",
          "omentum",
          "pancreas",
          "peritoneum",
          "small_bowel",
          "stomach"
         ],
         "xaxis": "x",
         "y": {
          "bdata": "JQYjCQYSJiw=",
          "dtype": "i1"
         },
         "yaxis": "y"
        },
        {
         "marker": {
          "color": "#44AA99",
          "line": {
           "color": "#9ACA3D",
           "width": 1
          }
         },
         "name": "icg",
         "type": "bar",
         "x": [
          "colon",
          "kidney",
          "liver",
          "omentum",
          "pancreas",
          "peritoneum",
          "small_bowel",
          "stomach"
         ],
         "xaxis": "x",
         "y": {
          "bdata": "GBISBgYMHh4=",
          "dtype": "i1"
         },
         "yaxis": "y"
        },
        {
         "marker": {
          "color": "#44AA99",
          "line": {
           "color": "#9ACA3D",
           "width": 1
          }
         },
         "name": "icg",
         "type": "bar",
         "x": [
          "colon",
          "kidney",
          "liver",
          "omentum",
          "pancreas",
          "peritoneum",
          "small_bowel",
          "stomach"
         ],
         "xaxis": "x",
         "y": {
          "bdata": "DxgYBgYhGA8=",
          "dtype": "i1"
         },
         "yaxis": "y"
        },
        {
         "marker": {
          "color": "#44AA99",
          "line": {
           "color": "#9ACA3D",
           "width": 1
          }
         },
         "name": "icg",
         "type": "bar",
         "x": [
          "colon",
          "kidney",
          "liver",
          "omentum",
          "pancreas",
          "peritoneum",
          "small_bowel",
          "stomach"
         ],
         "xaxis": "x",
         "y": {
          "bdata": "BhUYBgYVFg8=",
          "dtype": "i1"
         },
         "yaxis": "y"
        },
        {
         "marker": {
          "color": "#44AA99",
          "line": {
           "color": "#9ACA3D",
           "width": 1
          }
         },
         "name": "icg",
         "type": "bar",
         "x": [
          "colon",
          "kidney",
          "liver",
          "omentum",
          "pancreas",
          "peritoneum",
          "skin",
          "small_bowel",
          "stomach"
         ],
         "xaxis": "x",
         "y": {
          "bdata": "DgIPAgIRCE8N",
          "dtype": "i1"
         },
         "yaxis": "y"
        },
        {
         "marker": {
          "color": "#44AA99",
          "line": {
           "color": "#9ACA3D",
           "width": 1
          }
         },
         "name": "icg",
         "type": "bar",
         "x": [
          "small_bowel"
         ],
         "xaxis": "x",
         "y": {
          "bdata": "Bg==",
          "dtype": "i1"
         },
         "yaxis": "y"
        },
        {
         "marker": {
          "color": "#89CCED",
          "line": {
           "color": "gray",
           "width": 0.1
          }
         },
         "name": "physiological",
         "type": "bar",
         "x": [
          "colon",
          "kidney",
          "liver",
          "spleen"
         ],
         "xaxis": "x2",
         "y": {
          "bdata": "AwMDAw==",
          "dtype": "i1"
         },
         "yaxis": "y2"
        },
        {
         "marker": {
          "color": "#89CCED",
          "line": {
           "color": "gray",
           "width": 0.1
          }
         },
         "name": "physiological",
         "type": "bar",
         "x": [
          "colon",
          "kidney",
          "liver",
          "spleen"
         ],
         "xaxis": "x2",
         "y": {
          "bdata": "AgICAg==",
          "dtype": "i1"
         },
         "yaxis": "y2"
        },
        {
         "marker": {
          "color": "#89CCED",
          "line": {
           "color": "gray",
           "width": 0.1
          }
         },
         "name": "physiological",
         "type": "bar",
         "x": [
          "colon",
          "kidney",
          "liver",
          "spleen"
         ],
         "xaxis": "x2",
         "y": {
          "bdata": "AwMDAw==",
          "dtype": "i1"
         },
         "yaxis": "y2"
        },
        {
         "marker": {
          "color": "#89CCED",
          "line": {
           "color": "gray",
           "width": 0.1
          }
         },
         "name": "physiological",
         "type": "bar",
         "x": [
          "colon",
          "kidney",
          "liver",
          "spleen"
         ],
         "xaxis": "x2",
         "y": {
          "bdata": "AwMDAw==",
          "dtype": "i1"
         },
         "yaxis": "y2"
        },
        {
         "marker": {
          "color": "#89CCED",
          "line": {
           "color": "gray",
           "width": 0.1
          }
         },
         "name": "physiological",
         "type": "bar",
         "x": [
          "colon",
          "kidney",
          "liver",
          "spleen"
         ],
         "xaxis": "x2",
         "y": {
          "bdata": "AwMDAw==",
          "dtype": "i1"
         },
         "yaxis": "y2"
        },
        {
         "marker": {
          "color": "#89CCED",
          "line": {
           "color": "gray",
           "width": 0.1
          }
         },
         "name": "physiological",
         "type": "bar",
         "x": [
          "colon",
          "kidney",
          "liver",
          "spleen"
         ],
         "xaxis": "x2",
         "y": {
          "bdata": "AwMDAw==",
          "dtype": "i1"
         },
         "yaxis": "y2"
        },
        {
         "marker": {
          "color": "#89CCED",
          "line": {
           "color": "gray",
           "width": 0.1
          }
         },
         "name": "physiological",
         "type": "bar",
         "x": [
          "colon",
          "kidney",
          "liver",
          "spleen"
         ],
         "xaxis": "x2",
         "y": {
          "bdata": "AwMDAw==",
          "dtype": "i1"
         },
         "yaxis": "y2"
        },
        {
         "marker": {
          "color": "#89CCED",
          "line": {
           "color": "gray",
           "width": 0.1
          }
         },
         "name": "physiological",
         "type": "bar",
         "x": [
          "colon",
          "kidney",
          "liver",
          "spleen"
         ],
         "xaxis": "x2",
         "y": {
          "bdata": "BgYGBg==",
          "dtype": "i1"
         },
         "yaxis": "y2"
        },
        {
         "marker": {
          "color": "#89CCED",
          "line": {
           "color": "gray",
           "width": 0.1
          }
         },
         "name": "physiological",
         "type": "bar",
         "x": [
          "colon",
          "kidney",
          "liver",
          "spleen"
         ],
         "xaxis": "x2",
         "y": {
          "bdata": "AwMDAw==",
          "dtype": "i1"
         },
         "yaxis": "y2"
        },
        {
         "marker": {
          "color": "#89CCED",
          "line": {
           "color": "gray",
           "width": 0.1
          }
         },
         "name": "physiological",
         "type": "bar",
         "x": [
          "colon",
          "kidney",
          "liver",
          "spleen"
         ],
         "xaxis": "x2",
         "y": {
          "bdata": "AwMDAw==",
          "dtype": "i1"
         },
         "yaxis": "y2"
        },
        {
         "marker": {
          "color": "#89CCED",
          "line": {
           "color": "gray",
           "width": 0.1
          }
         },
         "name": "physiological",
         "type": "bar",
         "x": [
          "colon",
          "kidney",
          "liver",
          "spleen"
         ],
         "xaxis": "x2",
         "y": {
          "bdata": "AwMDAw==",
          "dtype": "i1"
         },
         "yaxis": "y2"
        },
        {
         "marker": {
          "color": "#89CCED",
          "line": {
           "color": "gray",
           "width": 0.1
          }
         },
         "name": "physiological",
         "type": "bar",
         "x": [
          "background",
          "colon",
          "kidney",
          "liver",
          "lung",
          "omentum",
          "pancreas",
          "peritoneum",
          "skin",
          "small_bowel",
          "spleen",
          "stomach"
         ],
         "xaxis": "x2",
         "y": {
          "bdata": "MysnRCMyJEk2STo4",
          "dtype": "i1"
         },
         "yaxis": "y2"
        },
        {
         "marker": {
          "color": "#89CCED",
          "line": {
           "color": "gray",
           "width": 0.1
          }
         },
         "name": "physiological",
         "type": "bar",
         "x": [
          "background",
          "colon",
          "kidney",
          "liver",
          "lung",
          "omentum",
          "pancreas",
          "peritoneum",
          "skin",
          "small_bowel",
          "spleen",
          "stomach"
         ],
         "xaxis": "x2",
         "y": {
          "bdata": "LzInQCQsJEU7QS0s",
          "dtype": "i1"
         },
         "yaxis": "y2"
        },
        {
         "marker": {
          "color": "#89CCED",
          "line": {
           "color": "gray",
           "width": 0.1
          }
         },
         "name": "physiological",
         "type": "bar",
         "x": [
          "background",
          "colon",
          "kidney",
          "liver",
          "lung",
          "omentum",
          "pancreas",
          "peritoneum",
          "skin",
          "small_bowel",
          "spleen",
          "stomach"
         ],
         "xaxis": "x2",
         "y": {
          "bdata": "LTAmPSQqJEA3Pi0o",
          "dtype": "i1"
         },
         "yaxis": "y2"
        },
        {
         "marker": {
          "color": "#89CCED",
          "line": {
           "color": "gray",
           "width": 0.1
          }
         },
         "name": "physiological",
         "type": "bar",
         "x": [
          "background",
          "colon",
          "kidney",
          "liver",
          "lung",
          "omentum",
          "pancreas",
          "peritoneum",
          "skin",
          "small_bowel",
          "spleen",
          "stomach"
         ],
         "xaxis": "x2",
         "y": {
          "bdata": "LTYoNyQtJEAxPCwv",
          "dtype": "i1"
         },
         "yaxis": "y2"
        },
        {
         "marker": {
          "color": "#89CCED",
          "line": {
           "color": "gray",
           "width": 0.1
          }
         },
         "name": "physiological",
         "type": "bar",
         "x": [
          "background",
          "colon",
          "kidney",
          "liver",
          "lung",
          "omentum",
          "pancreas",
          "peritoneum",
          "skin",
          "small_bowel",
          "spleen",
          "stomach"
         ],
         "xaxis": "x2",
         "y": {
          "bdata": "LTImPiQsJENCOy8r",
          "dtype": "i1"
         },
         "yaxis": "y2"
        },
        {
         "marker": {
          "color": "#89CCED",
          "line": {
           "color": "gray",
           "width": 0.1
          }
         },
         "name": "physiological",
         "type": "bar",
         "x": [
          "background",
          "colon",
          "kidney",
          "liver",
          "lung",
          "omentum",
          "pancreas",
          "peritoneum",
          "skin",
          "small_bowel",
          "spleen",
          "stomach"
         ],
         "xaxis": "x2",
         "y": {
          "bdata": "LDUpOCQxJj8/Oy80",
          "dtype": "i1"
         },
         "yaxis": "y2"
        },
        {
         "marker": {
          "color": "#89CCED",
          "line": {
           "color": "gray",
           "width": 0.1
          }
         },
         "name": "physiological",
         "type": "bar",
         "x": [
          "background",
          "colon",
          "kidney",
          "liver",
          "lung",
          "omentum",
          "pancreas",
          "peritoneum",
          "skin",
          "small_bowel",
          "spleen",
          "stomach"
         ],
         "xaxis": "x2",
         "y": {
          "bdata": "LTMpNiQxJUFCPjIx",
          "dtype": "i1"
         },
         "yaxis": "y2"
        },
        {
         "marker": {
          "color": "#89CCED",
          "line": {
           "color": "gray",
           "width": 0.1
          }
         },
         "name": "physiological",
         "type": "bar",
         "x": [
          "background",
          "colon",
          "kidney",
          "liver",
          "lung",
          "omentum",
          "pancreas",
          "peritoneum",
          "skin",
          "small_bowel",
          "spleen",
          "stomach"
         ],
         "xaxis": "x2",
         "y": {
          "bdata": "LSgrNiQtJkBEPC0v",
          "dtype": "i1"
         },
         "yaxis": "y2"
        },
        {
         "marker": {
          "color": "#89CCED",
          "line": {
           "color": "gray",
           "width": 0.1
          }
         },
         "name": "physiological",
         "type": "bar",
         "x": [
          "background",
          "colon",
          "kidney",
          "liver",
          "lung",
          "omentum",
          "pancreas",
          "peritoneum",
          "skin",
          "small_bowel",
          "spleen",
          "stomach"
         ],
         "xaxis": "x2",
         "y": {
          "bdata": "LCsrNCQmJUBENyYn",
          "dtype": "i1"
         },
         "yaxis": "y2"
        },
        {
         "marker": {
          "color": "#89CCED",
          "line": {
           "color": "gray",
           "width": 0.1
          }
         },
         "name": "physiological",
         "type": "bar",
         "x": [
          "background",
          "colon",
          "kidney",
          "liver",
          "lung",
          "omentum",
          "pancreas",
          "peritoneum",
          "skin",
          "small_bowel",
          "spleen",
          "stomach"
         ],
         "xaxis": "x2",
         "y": {
          "bdata": "LSwqNCQuKD8/Oy8y",
          "dtype": "i1"
         },
         "yaxis": "y2"
        },
        {
         "marker": {
          "color": "#89CCED",
          "line": {
           "color": "gray",
           "width": 0.1
          }
         },
         "name": "physiological",
         "type": "bar",
         "x": [
          "background",
          "colon",
          "kidney",
          "liver",
          "lung",
          "omentum",
          "pancreas",
          "peritoneum",
          "skin",
          "small_bowel",
          "spleen",
          "stomach"
         ],
         "xaxis": "x2",
         "y": {
          "bdata": "LTImMyQsJT9KPCgs",
          "dtype": "i1"
         },
         "yaxis": "y2"
        },
        {
         "marker": {
          "color": "#89CCED",
          "line": {
           "color": "gray",
           "width": 0.1
          }
         },
         "name": "physiological",
         "type": "bar",
         "x": [
          "background",
          "colon",
          "kidney",
          "liver",
          "lung",
          "omentum",
          "pancreas",
          "peritoneum",
          "skin",
          "small_bowel",
          "spleen",
          "stomach"
         ],
         "xaxis": "x2",
         "y": {
          "bdata": "LSspPSQwJEFJOyox",
          "dtype": "i1"
         },
         "yaxis": "y2"
        },
        {
         "marker": {
          "color": "#89CCED",
          "line": {
           "color": "gray",
           "width": 0.1
          }
         },
         "name": "physiological",
         "type": "bar",
         "x": [
          "background",
          "colon",
          "kidney",
          "liver",
          "lung",
          "omentum",
          "pancreas",
          "peritoneum",
          "skin",
          "small_bowel",
          "spleen",
          "stomach"
         ],
         "xaxis": "x2",
         "y": {
          "bdata": "MzUkRCQwJUxLRTcw",
          "dtype": "i1"
         },
         "yaxis": "y2"
        },
        {
         "marker": {
          "color": "#89CCED",
          "line": {
           "color": "gray",
           "width": 0.1
          }
         },
         "name": "physiological",
         "type": "bar",
         "x": [
          "colon",
          "kidney",
          "liver",
          "omentum",
          "pancreas",
          "peritoneum",
          "skin",
          "small_bowel",
          "spleen",
          "stomach"
         ],
         "xaxis": "x2",
         "y": {
          "bdata": "AQEBAQEBAQEBAQ==",
          "dtype": "i1"
         },
         "yaxis": "y2"
        },
        {
         "marker": {
          "color": "#89CCED",
          "line": {
           "color": "gray",
           "width": 0.1
          }
         },
         "name": "physiological",
         "type": "bar",
         "x": [
          "colon",
          "kidney",
          "liver",
          "omentum",
          "pancreas",
          "peritoneum",
          "skin",
          "small_bowel",
          "spleen",
          "stomach"
         ],
         "xaxis": "x2",
         "y": {
          "bdata": "AQEBAQEBAQEBAQ==",
          "dtype": "i1"
         },
         "yaxis": "y2"
        },
        {
         "marker": {
          "color": "#DCF0FA",
          "line": {
           "color": "gray",
           "width": 0.1
          }
         },
         "name": "malperfused",
         "type": "bar",
         "x": [
          "colon",
          "kidney",
          "liver",
          "spleen"
         ],
         "xaxis": "x2",
         "y": {
          "bdata": "X19fXw==",
          "dtype": "i1"
         },
         "yaxis": "y2"
        },
        {
         "marker": {
          "color": "#DCF0FA",
          "line": {
           "color": "gray",
           "width": 0.1
          }
         },
         "name": "malperfused",
         "type": "bar",
         "x": [
          "colon",
          "kidney",
          "liver",
          "spleen"
         ],
         "xaxis": "x2",
         "y": {
          "bdata": "NjY2Ng==",
          "dtype": "i1"
         },
         "yaxis": "y2"
        },
        {
         "marker": {
          "color": "#DCF0FA",
          "line": {
           "color": "gray",
           "width": 0.1
          }
         },
         "name": "malperfused",
         "type": "bar",
         "x": [
          "colon",
          "kidney",
          "liver",
          "spleen"
         ],
         "xaxis": "x2",
         "y": {
          "bdata": "VlZWVg==",
          "dtype": "i1"
         },
         "yaxis": "y2"
        },
        {
         "marker": {
          "color": "#DCF0FA",
          "line": {
           "color": "gray",
           "width": 0.1
          }
         },
         "name": "malperfused",
         "type": "bar",
         "x": [
          "colon",
          "kidney",
          "liver",
          "spleen"
         ],
         "xaxis": "x2",
         "y": {
          "bdata": "VlZWVg==",
          "dtype": "i1"
         },
         "yaxis": "y2"
        },
        {
         "marker": {
          "color": "#DCF0FA",
          "line": {
           "color": "gray",
           "width": 0.1
          }
         },
         "name": "malperfused",
         "type": "bar",
         "x": [
          "colon",
          "kidney",
          "liver",
          "spleen"
         ],
         "xaxis": "x2",
         "y": {
          "bdata": "VlZWVg==",
          "dtype": "i1"
         },
         "yaxis": "y2"
        },
        {
         "marker": {
          "color": "#DCF0FA",
          "line": {
           "color": "gray",
           "width": 0.1
          }
         },
         "name": "malperfused",
         "type": "bar",
         "x": [
          "colon",
          "kidney",
          "liver",
          "spleen"
         ],
         "xaxis": "x2",
         "y": {
          "bdata": "VlZVVg==",
          "dtype": "i1"
         },
         "yaxis": "y2"
        },
        {
         "marker": {
          "color": "#DCF0FA",
          "line": {
           "color": "gray",
           "width": 0.1
          }
         },
         "name": "malperfused",
         "type": "bar",
         "x": [
          "colon",
          "kidney",
          "liver",
          "spleen"
         ],
         "xaxis": "x2",
         "y": {
          "bdata": "VlZVVg==",
          "dtype": "i1"
         },
         "yaxis": "y2"
        },
        {
         "marker": {
          "color": "#DCF0FA",
          "line": {
           "color": "gray",
           "width": 0.1
          }
         },
         "name": "malperfused",
         "type": "bar",
         "x": [
          "colon",
          "kidney",
          "liver",
          "spleen"
         ],
         "xaxis": "x2",
         "y": {
          "bdata": "rgCuAKwArgA=",
          "dtype": "i2"
         },
         "yaxis": "y2"
        },
        {
         "marker": {
          "color": "#DCF0FA",
          "line": {
           "color": "gray",
           "width": 0.1
          }
         },
         "name": "malperfused",
         "type": "bar",
         "x": [
          "colon",
          "kidney",
          "liver",
          "spleen"
         ],
         "xaxis": "x2",
         "y": {
          "bdata": "VlZWVg==",
          "dtype": "i1"
         },
         "yaxis": "y2"
        },
        {
         "marker": {
          "color": "#DCF0FA",
          "line": {
           "color": "gray",
           "width": 0.1
          }
         },
         "name": "malperfused",
         "type": "bar",
         "x": [
          "colon",
          "kidney",
          "liver",
          "spleen"
         ],
         "xaxis": "x2",
         "y": {
          "bdata": "V1hYWA==",
          "dtype": "i1"
         },
         "yaxis": "y2"
        },
        {
         "marker": {
          "color": "#DCF0FA",
          "line": {
           "color": "gray",
           "width": 0.1
          }
         },
         "name": "malperfused",
         "type": "bar",
         "x": [
          "colon",
          "kidney",
          "liver",
          "spleen"
         ],
         "xaxis": "x2",
         "y": {
          "bdata": "VlZWVg==",
          "dtype": "i1"
         },
         "yaxis": "y2"
        },
        {
         "marker": {
          "color": "#DCF0FA",
          "line": {
           "color": "gray",
           "width": 0.1
          }
         },
         "name": "malperfused",
         "type": "bar",
         "x": [
          "kidney"
         ],
         "xaxis": "x2",
         "y": {
          "bdata": "Kg==",
          "dtype": "i1"
         },
         "yaxis": "y2"
        },
        {
         "marker": {
          "color": "#DCF0FA",
          "line": {
           "color": "gray",
           "width": 0.1
          }
         },
         "name": "malperfused",
         "type": "bar",
         "x": [
          "kidney"
         ],
         "xaxis": "x2",
         "y": {
          "bdata": "LA==",
          "dtype": "i1"
         },
         "yaxis": "y2"
        },
        {
         "marker": {
          "color": "#DCF0FA",
          "line": {
           "color": "gray",
           "width": 0.1
          }
         },
         "name": "malperfused",
         "type": "bar",
         "x": [
          "kidney"
         ],
         "xaxis": "x2",
         "y": {
          "bdata": "LA==",
          "dtype": "i1"
         },
         "yaxis": "y2"
        },
        {
         "marker": {
          "color": "#DCF0FA",
          "line": {
           "color": "gray",
           "width": 0.1
          }
         },
         "name": "malperfused",
         "type": "bar",
         "x": [
          "kidney"
         ],
         "xaxis": "x2",
         "y": {
          "bdata": "Kw==",
          "dtype": "i1"
         },
         "yaxis": "y2"
        },
        {
         "marker": {
          "color": "#DCF0FA",
          "line": {
           "color": "gray",
           "width": 0.1
          }
         },
         "name": "malperfused",
         "type": "bar",
         "x": [
          "kidney"
         ],
         "xaxis": "x2",
         "y": {
          "bdata": "LA==",
          "dtype": "i1"
         },
         "yaxis": "y2"
        },
        {
         "marker": {
          "color": "#DCF0FA",
          "line": {
           "color": "gray",
           "width": 0.1
          }
         },
         "name": "malperfused",
         "type": "bar",
         "x": [
          "kidney"
         ],
         "xaxis": "x2",
         "y": {
          "bdata": "LA==",
          "dtype": "i1"
         },
         "yaxis": "y2"
        },
        {
         "marker": {
          "color": "#DCF0FA",
          "line": {
           "color": "gray",
           "width": 0.1
          }
         },
         "name": "malperfused",
         "type": "bar",
         "x": [
          "kidney"
         ],
         "xaxis": "x2",
         "y": {
          "bdata": "LA==",
          "dtype": "i1"
         },
         "yaxis": "y2"
        },
        {
         "marker": {
          "color": "#DCF0FA",
          "line": {
           "color": "gray",
           "width": 0.1
          }
         },
         "name": "malperfused",
         "type": "bar",
         "x": [
          "kidney"
         ],
         "xaxis": "x2",
         "y": {
          "bdata": "LA==",
          "dtype": "i1"
         },
         "yaxis": "y2"
        },
        {
         "marker": {
          "color": "#DCF0FA",
          "line": {
           "color": "gray",
           "width": 0.1
          }
         },
         "name": "malperfused",
         "type": "bar",
         "x": [
          "kidney"
         ],
         "xaxis": "x2",
         "y": {
          "bdata": "LA==",
          "dtype": "i1"
         },
         "yaxis": "y2"
        },
        {
         "marker": {
          "color": "#DCF0FA",
          "line": {
           "color": "gray",
           "width": 0.1
          }
         },
         "name": "malperfused",
         "type": "bar",
         "x": [
          "kidney"
         ],
         "xaxis": "x2",
         "y": {
          "bdata": "LA==",
          "dtype": "i1"
         },
         "yaxis": "y2"
        },
        {
         "marker": {
          "color": "#DCF0FA",
          "line": {
           "color": "gray",
           "width": 0.1
          }
         },
         "name": "malperfused",
         "type": "bar",
         "x": [
          "kidney"
         ],
         "xaxis": "x2",
         "y": {
          "bdata": "LA==",
          "dtype": "i1"
         },
         "yaxis": "y2"
        },
        {
         "marker": {
          "color": "#DCF0FA",
          "line": {
           "color": "gray",
           "width": 0.1
          }
         },
         "name": "malperfused",
         "type": "bar",
         "x": [
          "kidney"
         ],
         "xaxis": "x2",
         "y": {
          "bdata": "LA==",
          "dtype": "i1"
         },
         "yaxis": "y2"
        },
        {
         "marker": {
          "color": "#89CCED",
          "line": {
           "color": "#9ACA3D",
           "width": 1
          }
         },
         "name": "icg",
         "type": "bar",
         "x": [
          "colon",
          "kidney",
          "liver",
          "omentum",
          "pancreas",
          "peritoneum",
          "small_bowel",
          "stomach"
         ],
         "xaxis": "x2",
         "y": {
          "bdata": "EQEMAQ4BEQEQAREBEQERAQ==",
          "dtype": "i2"
         },
         "yaxis": "y2"
        },
        {
         "marker": {
          "color": "#89CCED",
          "line": {
           "color": "#9ACA3D",
           "width": 1
          }
         },
         "name": "icg",
         "type": "bar",
         "x": [
          "colon",
          "kidney",
          "liver",
          "omentum",
          "pancreas",
          "peritoneum",
          "small_bowel",
          "stomach"
         ],
         "xaxis": "x2",
         "y": {
          "bdata": "Hx8fHx8fHx8=",
          "dtype": "i1"
         },
         "yaxis": "y2"
        },
        {
         "marker": {
          "color": "#89CCED",
          "line": {
           "color": "#9ACA3D",
           "width": 1
          }
         },
         "name": "icg",
         "type": "bar",
         "x": [
          "colon",
          "kidney",
          "liver",
          "omentum",
          "pancreas",
          "peritoneum",
          "small_bowel",
          "stomach"
         ],
         "xaxis": "x2",
         "y": {
          "bdata": "wgDCAMIAwQDCAMIAwgDCAA==",
          "dtype": "i2"
         },
         "yaxis": "y2"
        },
        {
         "marker": {
          "color": "#89CCED",
          "line": {
           "color": "#9ACA3D",
           "width": 1
          }
         },
         "name": "icg",
         "type": "bar",
         "x": [
          "colon",
          "kidney",
          "liver",
          "omentum",
          "pancreas",
          "peritoneum",
          "small_bowel",
          "stomach"
         ],
         "xaxis": "x2",
         "y": {
          "bdata": "1wDXAL4A1wDXANcA1wDXAA==",
          "dtype": "i2"
         },
         "yaxis": "y2"
        },
        {
         "marker": {
          "color": "#89CCED",
          "line": {
           "color": "#9ACA3D",
           "width": 1
          }
         },
         "name": "icg",
         "type": "bar",
         "x": [
          "colon",
          "kidney",
          "liver",
          "omentum",
          "pancreas",
          "peritoneum",
          "small_bowel",
          "stomach"
         ],
         "xaxis": "x2",
         "y": {
          "bdata": "0wDTANMA0wDTANMA0wDTAA==",
          "dtype": "i2"
         },
         "yaxis": "y2"
        },
        {
         "marker": {
          "color": "#89CCED",
          "line": {
           "color": "#9ACA3D",
           "width": 1
          }
         },
         "name": "icg",
         "type": "bar",
         "x": [
          "colon",
          "kidney",
          "liver",
          "omentum",
          "pancreas",
          "peritoneum",
          "small_bowel",
          "stomach"
         ],
         "xaxis": "x2",
         "y": {
          "bdata": "1QDVANUA1QDUANUA1QDVAA==",
          "dtype": "i2"
         },
         "yaxis": "y2"
        },
        {
         "marker": {
          "color": "#DDCB76",
          "line": {
           "color": "gray",
           "width": 0.1
          }
         },
         "name": "physiological",
         "type": "bar",
         "x": [
          "background",
          "colon",
          "liver",
          "omentum",
          "skin",
          "small_bowel",
          "stomach"
         ],
         "xaxis": "x3",
         "y": {
          "bdata": "BwEGBwYBBg==",
          "dtype": "i1"
         },
         "yaxis": "y3"
        },
        {
         "marker": {
          "color": "#DDCB76",
          "line": {
           "color": "gray",
           "width": 0.1
          }
         },
         "name": "physiological",
         "type": "bar",
         "x": [
          "background",
          "colon",
          "liver",
          "omentum",
          "skin",
          "stomach"
         ],
         "xaxis": "x3",
         "y": {
          "bdata": "AgECAgEB",
          "dtype": "i1"
         },
         "yaxis": "y3"
        },
        {
         "marker": {
          "color": "#DDCB76",
          "line": {
           "color": "gray",
           "width": 0.1
          }
         },
         "name": "physiological",
         "type": "bar",
         "x": [
          "background",
          "colon",
          "liver",
          "omentum",
          "stomach"
         ],
         "xaxis": "x3",
         "y": {
          "bdata": "AgEBAgE=",
          "dtype": "i1"
         },
         "yaxis": "y3"
        },
        {
         "marker": {
          "color": "#DDCB76",
          "line": {
           "color": "gray",
           "width": 0.1
          }
         },
         "name": "physiological",
         "type": "bar",
         "x": [
          "background",
          "liver",
          "omentum",
          "peritoneum",
          "small_bowel",
          "spleen",
          "stomach"
         ],
         "xaxis": "x3",
         "y": {
          "bdata": "BQUFAQIFBQ==",
          "dtype": "i1"
         },
         "yaxis": "y3"
        },
        {
         "marker": {
          "color": "#DDCB76",
          "line": {
           "color": "gray",
           "width": 0.1
          }
         },
         "name": "physiological",
         "type": "bar",
         "x": [
          "background",
          "liver",
          "omentum",
          "small_bowel",
          "stomach"
         ],
         "xaxis": "x3",
         "y": {
          "bdata": "AgICAgI=",
          "dtype": "i1"
         },
         "yaxis": "y3"
        },
        {
         "marker": {
          "color": "#DDCB76",
          "line": {
           "color": "gray",
           "width": 0.1
          }
         },
         "name": "physiological",
         "type": "bar",
         "x": [
          "background",
          "liver",
          "omentum",
          "skin",
          "small_bowel",
          "stomach"
         ],
         "xaxis": "x3",
         "y": {
          "bdata": "AgICAgIB",
          "dtype": "i1"
         },
         "yaxis": "y3"
        },
        {
         "marker": {
          "color": "#DDCB76",
          "line": {
           "color": "gray",
           "width": 0.1
          }
         },
         "name": "physiological",
         "type": "bar",
         "x": [
          "background",
          "colon",
          "liver",
          "omentum",
          "skin",
          "small_bowel",
          "stomach"
         ],
         "xaxis": "x3",
         "y": {
          "bdata": "DAIKCQcMCw==",
          "dtype": "i1"
         },
         "yaxis": "y3"
        },
        {
         "marker": {
          "color": "#DDCB76",
          "line": {
           "color": "gray",
           "width": 0.1
          }
         },
         "name": "physiological",
         "type": "bar",
         "x": [
          "background",
          "colon",
          "liver",
          "omentum",
          "pancreas",
          "peritoneum",
          "skin",
          "small_bowel",
          "stomach"
         ],
         "xaxis": "x3",
         "y": {
          "bdata": "CwkKCAIIAgkB",
          "dtype": "i1"
         },
         "yaxis": "y3"
        },
        {
         "marker": {
          "color": "#DDCB76",
          "line": {
           "color": "gray",
           "width": 0.1
          }
         },
         "name": "physiological",
         "type": "bar",
         "x": [
          "background",
          "omentum",
          "small_bowel",
          "stomach"
         ],
         "xaxis": "x3",
         "y": {
          "bdata": "AgICAg==",
          "dtype": "i1"
         },
         "yaxis": "y3"
        },
        {
         "marker": {
          "color": "#DDCB76",
          "line": {
           "color": "gray",
           "width": 0.1
          }
         },
         "name": "physiological",
         "type": "bar",
         "x": [
          "background",
          "colon",
          "liver",
          "omentum",
          "pancreas",
          "peritoneum",
          "small_bowel",
          "spleen",
          "stomach"
         ],
         "xaxis": "x3",
         "y": {
          "bdata": "BgEBBAIBAwMF",
          "dtype": "i1"
         },
         "yaxis": "y3"
        },
        {
         "marker": {
          "color": "#DDCB76",
          "line": {
           "color": "gray",
           "width": 0.1
          }
         },
         "name": "physiological",
         "type": "bar",
         "x": [
          "background",
          "colon",
          "liver",
          "lung",
          "omentum",
          "skin",
          "small_bowel",
          "stomach"
         ],
         "xaxis": "x3",
         "y": {
          "bdata": "BQICBAEFAgE=",
          "dtype": "i1"
         },
         "yaxis": "y3"
        },
        {
         "marker": {
          "color": "#DDCB76",
          "line": {
           "color": "gray",
           "width": 0.1
          }
         },
         "name": "physiological",
         "type": "bar",
         "x": [
          "background",
          "liver",
          "omentum",
          "small_bowel",
          "spleen",
          "stomach"
         ],
         "xaxis": "x3",
         "y": {
          "bdata": "CwsJCwME",
          "dtype": "i1"
         },
         "yaxis": "y3"
        },
        {
         "marker": {
          "color": "#DDCB76",
          "line": {
           "color": "gray",
           "width": 0.1
          }
         },
         "name": "physiological",
         "type": "bar",
         "x": [
          "background",
          "colon",
          "liver",
          "omentum",
          "small_bowel",
          "stomach"
         ],
         "xaxis": "x3",
         "y": {
          "bdata": "AgICAgIB",
          "dtype": "i1"
         },
         "yaxis": "y3"
        },
        {
         "marker": {
          "color": "#DDCB76",
          "line": {
           "color": "gray",
           "width": 0.1
          }
         },
         "name": "physiological",
         "type": "bar",
         "x": [
          "background",
          "liver",
          "omentum",
          "small_bowel",
          "stomach"
         ],
         "xaxis": "x3",
         "y": {
          "bdata": "AgECAQE=",
          "dtype": "i1"
         },
         "yaxis": "y3"
        },
        {
         "marker": {
          "color": "#DDCB76",
          "line": {
           "color": "gray",
           "width": 0.1
          }
         },
         "name": "physiological",
         "type": "bar",
         "x": [
          "background",
          "colon",
          "liver",
          "omentum",
          "peritoneum",
          "stomach"
         ],
         "xaxis": "x3",
         "y": {
          "bdata": "AgECAgEC",
          "dtype": "i1"
         },
         "yaxis": "y3"
        },
        {
         "marker": {
          "color": "#DDCB76",
          "line": {
           "color": "gray",
           "width": 0.1
          }
         },
         "name": "physiological",
         "type": "bar",
         "x": [
          "background",
          "colon",
          "liver",
          "omentum",
          "small_bowel",
          "stomach"
         ],
         "xaxis": "x3",
         "y": {
          "bdata": "AgICAgIC",
          "dtype": "i1"
         },
         "yaxis": "y3"
        },
        {
         "marker": {
          "color": "#DDCB76",
          "line": {
           "color": "gray",
           "width": 0.1
          }
         },
         "name": "physiological",
         "type": "bar",
         "x": [
          "background",
          "colon",
          "liver",
          "omentum",
          "small_bowel",
          "stomach"
         ],
         "xaxis": "x3",
         "y": {
          "bdata": "AgICAQIB",
          "dtype": "i1"
         },
         "yaxis": "y3"
        },
        {
         "marker": {
          "color": "#DDCB76",
          "line": {
           "color": "gray",
           "width": 0.1
          }
         },
         "name": "physiological",
         "type": "bar",
         "x": [
          "background",
          "liver",
          "omentum",
          "pancreas",
          "small_bowel",
          "stomach"
         ],
         "xaxis": "x3",
         "y": {
          "bdata": "AwECAQMB",
          "dtype": "i1"
         },
         "yaxis": "y3"
        },
        {
         "marker": {
          "color": "#DDCB76",
          "line": {
           "color": "gray",
           "width": 0.1
          }
         },
         "name": "physiological",
         "type": "bar",
         "x": [
          "background",
          "colon",
          "liver",
          "omentum",
          "small_bowel",
          "stomach"
         ],
         "xaxis": "x3",
         "y": {
          "bdata": "AgICAQIB",
          "dtype": "i1"
         },
         "yaxis": "y3"
        },
        {
         "marker": {
          "color": "#DDCB76",
          "line": {
           "color": "gray",
           "width": 0.1
          }
         },
         "name": "physiological",
         "type": "bar",
         "x": [
          "background",
          "colon",
          "liver",
          "lung",
          "omentum",
          "peritoneum",
          "skin",
          "small_bowel",
          "stomach"
         ],
         "xaxis": "x3",
         "y": {
          "bdata": "EAkLBQ8KCQIQ",
          "dtype": "i1"
         },
         "yaxis": "y3"
        },
        {
         "marker": {
          "color": "#DDCB76",
          "line": {
           "color": "gray",
           "width": 0.1
          }
         },
         "name": "physiological",
         "type": "bar",
         "x": [
          "background",
          "colon",
          "omentum",
          "pancreas",
          "small_bowel",
          "stomach"
         ],
         "xaxis": "x3",
         "y": {
          "bdata": "AwEDAQEB",
          "dtype": "i1"
         },
         "yaxis": "y3"
        },
        {
         "marker": {
          "color": "#DDCB76",
          "line": {
           "color": "gray",
           "width": 0.1
          }
         },
         "name": "physiological",
         "type": "bar",
         "x": [
          "background",
          "colon",
          "liver",
          "omentum",
          "pancreas",
          "stomach"
         ],
         "xaxis": "x3",
         "y": {
          "bdata": "BgEEBQIG",
          "dtype": "i1"
         },
         "yaxis": "y3"
        },
        {
         "marker": {
          "color": "#DDCB76",
          "line": {
           "color": "gray",
           "width": 0.1
          }
         },
         "name": "physiological",
         "type": "bar",
         "x": [
          "background",
          "colon",
          "liver",
          "omentum",
          "small_bowel",
          "stomach"
         ],
         "xaxis": "x3",
         "y": {
          "bdata": "BQQDBQMF",
          "dtype": "i1"
         },
         "yaxis": "y3"
        },
        {
         "marker": {
          "color": "#DDCB76",
          "line": {
           "color": "gray",
           "width": 0.1
          }
         },
         "name": "physiological",
         "type": "bar",
         "x": [
          "background",
          "liver",
          "omentum",
          "pancreas",
          "stomach"
         ],
         "xaxis": "x3",
         "y": {
          "bdata": "AwMBAgE=",
          "dtype": "i1"
         },
         "yaxis": "y3"
        },
        {
         "marker": {
          "color": "#DDCB76",
          "line": {
           "color": "gray",
           "width": 0.1
          }
         },
         "name": "physiological",
         "type": "bar",
         "x": [
          "background",
          "liver",
          "lung",
          "omentum",
          "peritoneum",
          "skin",
          "stomach"
         ],
         "xaxis": "x3",
         "y": {
          "bdata": "BwEGAQEGAQ==",
          "dtype": "i1"
         },
         "yaxis": "y3"
        },
        {
         "marker": {
          "color": "#DDCB76",
          "line": {
           "color": "gray",
           "width": 0.1
          }
         },
         "name": "physiological",
         "type": "bar",
         "x": [
          "background",
          "colon",
          "liver",
          "omentum",
          "pancreas",
          "peritoneum",
          "skin",
          "small_bowel",
          "spleen",
          "stomach"
         ],
         "xaxis": "x3",
         "y": {
          "bdata": "CQIBBQQEAgUDAQ==",
          "dtype": "i1"
         },
         "yaxis": "y3"
        },
        {
         "marker": {
          "color": "#DDCB76",
          "line": {
           "color": "gray",
           "width": 0.1
          }
         },
         "name": "physiological",
         "type": "bar",
         "x": [
          "background",
          "colon",
          "omentum",
          "pancreas",
          "small_bowel",
          "stomach"
         ],
         "xaxis": "x3",
         "y": {
          "bdata": "AgECAQIC",
          "dtype": "i1"
         },
         "yaxis": "y3"
        },
        {
         "marker": {
          "color": "#DDCB76",
          "line": {
           "color": "gray",
           "width": 0.1
          }
         },
         "name": "physiological",
         "type": "bar",
         "x": [
          "background",
          "colon",
          "liver",
          "omentum",
          "small_bowel",
          "stomach"
         ],
         "xaxis": "x3",
         "y": {
          "bdata": "AgICAgIB",
          "dtype": "i1"
         },
         "yaxis": "y3"
        },
        {
         "marker": {
          "color": "#DDCB76",
          "line": {
           "color": "gray",
           "width": 0.1
          }
         },
         "name": "physiological",
         "type": "bar",
         "x": [
          "background",
          "colon",
          "liver",
          "omentum",
          "peritoneum",
          "skin",
          "small_bowel",
          "stomach"
         ],
         "xaxis": "x3",
         "y": {
          "bdata": "CggKCgoKCgo=",
          "dtype": "i1"
         },
         "yaxis": "y3"
        },
        {
         "marker": {
          "color": "#DDCB76",
          "line": {
           "color": "gray",
           "width": 0.1
          }
         },
         "name": "physiological",
         "type": "bar",
         "x": [
          "background",
          "colon",
          "liver",
          "small_bowel",
          "stomach"
         ],
         "xaxis": "x3",
         "y": {
          "bdata": "AgIBAgE=",
          "dtype": "i1"
         },
         "yaxis": "y3"
        },
        {
         "marker": {
          "color": "#DDCB76",
          "line": {
           "color": "gray",
           "width": 0.1
          }
         },
         "name": "physiological",
         "type": "bar",
         "x": [
          "background",
          "colon",
          "liver",
          "omentum",
          "small_bowel",
          "stomach"
         ],
         "xaxis": "x3",
         "y": {
          "bdata": "AgEBAgEC",
          "dtype": "i1"
         },
         "yaxis": "y3"
        },
        {
         "marker": {
          "color": "#DDCB76",
          "line": {
           "color": "gray",
           "width": 0.1
          }
         },
         "name": "physiological",
         "type": "bar",
         "x": [
          "background",
          "liver",
          "omentum",
          "skin",
          "small_bowel",
          "stomach"
         ],
         "xaxis": "x3",
         "y": {
          "bdata": "AgEBAgEB",
          "dtype": "i1"
         },
         "yaxis": "y3"
        },
        {
         "marker": {
          "color": "#DDCB76",
          "line": {
           "color": "gray",
           "width": 0.1
          }
         },
         "name": "physiological",
         "type": "bar",
         "x": [
          "background",
          "colon",
          "liver",
          "omentum",
          "skin",
          "small_bowel",
          "spleen",
          "stomach"
         ],
         "xaxis": "x3",
         "y": {
          "bdata": "CwULCQQHAwY=",
          "dtype": "i1"
         },
         "yaxis": "y3"
        },
        {
         "marker": {
          "color": "#DDCB76",
          "line": {
           "color": "gray",
           "width": 0.1
          }
         },
         "name": "physiological",
         "type": "bar",
         "x": [
          "background",
          "colon",
          "liver",
          "omentum",
          "stomach"
         ],
         "xaxis": "x3",
         "y": {
          "bdata": "AgICAgE=",
          "dtype": "i1"
         },
         "yaxis": "y3"
        },
        {
         "marker": {
          "color": "#DDCB76",
          "line": {
           "color": "gray",
           "width": 0.1
          }
         },
         "name": "physiological",
         "type": "bar",
         "x": [
          "background",
          "colon",
          "liver",
          "omentum",
          "peritoneum",
          "small_bowel",
          "stomach"
         ],
         "xaxis": "x3",
         "y": {
          "bdata": "BQQEBAMDBA==",
          "dtype": "i1"
         },
         "yaxis": "y3"
        },
        {
         "marker": {
          "color": "#DDCB76",
          "line": {
           "color": "gray",
           "width": 0.1
          }
         },
         "name": "physiological",
         "type": "bar",
         "x": [
          "background",
          "colon",
          "liver",
          "omentum",
          "small_bowel",
          "stomach"
         ],
         "xaxis": "x3",
         "y": {
          "bdata": "BAEDBAQD",
          "dtype": "i1"
         },
         "yaxis": "y3"
        },
        {
         "marker": {
          "color": "#DDCB76",
          "line": {
           "color": "gray",
           "width": 0.1
          }
         },
         "name": "physiological",
         "type": "bar",
         "x": [
          "background",
          "colon",
          "liver",
          "pancreas",
          "small_bowel",
          "stomach"
         ],
         "xaxis": "x3",
         "y": {
          "bdata": "BAQDAwED",
          "dtype": "i1"
         },
         "yaxis": "y3"
        },
        {
         "marker": {
          "color": "#DDCB76",
          "line": {
           "color": "gray",
           "width": 0.1
          }
         },
         "name": "physiological",
         "type": "bar",
         "x": [
          "background",
          "liver",
          "pancreas",
          "skin",
          "small_bowel",
          "spleen",
          "stomach"
         ],
         "xaxis": "x3",
         "y": {
          "bdata": "BQUBAgQCAg==",
          "dtype": "i1"
         },
         "yaxis": "y3"
        },
        {
         "marker": {
          "color": "#DDCB76",
          "line": {
           "color": "gray",
           "width": 0.1
          }
         },
         "name": "physiological",
         "type": "bar",
         "x": [
          "background",
          "liver",
          "omentum",
          "pancreas",
          "stomach"
         ],
         "xaxis": "x3",
         "y": {
          "bdata": "AgECAQE=",
          "dtype": "i1"
         },
         "yaxis": "y3"
        },
        {
         "marker": {
          "color": "#DDCB76",
          "line": {
           "color": "gray",
           "width": 0.1
          }
         },
         "name": "physiological",
         "type": "bar",
         "x": [
          "background",
          "colon",
          "liver",
          "stomach"
         ],
         "xaxis": "x3",
         "y": {
          "bdata": "AgEBAQ==",
          "dtype": "i1"
         },
         "yaxis": "y3"
        },
        {
         "marker": {
          "color": "#DDCB76",
          "line": {
           "color": "gray",
           "width": 0.1
          }
         },
         "name": "physiological",
         "type": "bar",
         "x": [
          "background",
          "colon",
          "liver",
          "omentum",
          "pancreas",
          "small_bowel",
          "stomach"
         ],
         "xaxis": "x3",
         "y": {
          "bdata": "CQQJCAUFBQ==",
          "dtype": "i1"
         },
         "yaxis": "y3"
        },
        {
         "marker": {
          "color": "#DDCB76",
          "line": {
           "color": "gray",
           "width": 0.1
          }
         },
         "name": "physiological",
         "type": "bar",
         "x": [
          "background",
          "colon",
          "liver",
          "omentum",
          "peritoneum",
          "small_bowel",
          "stomach"
         ],
         "xaxis": "x3",
         "y": {
          "bdata": "CAUIBwMDBg==",
          "dtype": "i1"
         },
         "yaxis": "y3"
        },
        {
         "marker": {
          "color": "#DDCB76",
          "line": {
           "color": "gray",
           "width": 0.1
          }
         },
         "name": "physiological",
         "type": "bar",
         "x": [
          "background",
          "colon",
          "liver",
          "omentum",
          "small_bowel",
          "stomach"
         ],
         "xaxis": "x3",
         "y": {
          "bdata": "AgIBAgIB",
          "dtype": "i1"
         },
         "yaxis": "y3"
        },
        {
         "marker": {
          "color": "#DDCB76",
          "line": {
           "color": "gray",
           "width": 0.1
          }
         },
         "name": "physiological",
         "type": "bar",
         "x": [
          "background",
          "colon",
          "liver",
          "omentum",
          "peritoneum",
          "skin",
          "small_bowel",
          "stomach"
         ],
         "xaxis": "x3",
         "y": {
          "bdata": "CAMICAgBAwc=",
          "dtype": "i1"
         },
         "yaxis": "y3"
        },
        {
         "marker": {
          "color": "#DDCB76",
          "line": {
           "color": "gray",
           "width": 0.1
          }
         },
         "name": "physiological",
         "type": "bar",
         "x": [
          "background",
          "colon",
          "liver",
          "omentum",
          "skin",
          "small_bowel",
          "stomach"
         ],
         "xaxis": "x3",
         "y": {
          "bdata": "BAMEAQEDAw==",
          "dtype": "i1"
         },
         "yaxis": "y3"
        },
        {
         "marker": {
          "color": "#DDCB76",
          "line": {
           "color": "gray",
           "width": 0.1
          }
         },
         "name": "physiological",
         "type": "bar",
         "x": [
          "background",
          "colon",
          "liver",
          "omentum",
          "small_bowel",
          "stomach"
         ],
         "xaxis": "x3",
         "y": {
          "bdata": "AgECAQEC",
          "dtype": "i1"
         },
         "yaxis": "y3"
        },
        {
         "marker": {
          "color": "#DDCB76",
          "line": {
           "color": "gray",
           "width": 0.1
          }
         },
         "name": "physiological",
         "type": "bar",
         "x": [
          "background",
          "liver",
          "omentum",
          "pancreas",
          "small_bowel",
          "stomach"
         ],
         "xaxis": "x3",
         "y": {
          "bdata": "AgECAQIC",
          "dtype": "i1"
         },
         "yaxis": "y3"
        },
        {
         "marker": {
          "color": "#DDCB76",
          "line": {
           "color": "gray",
           "width": 0.1
          }
         },
         "name": "physiological",
         "type": "bar",
         "x": [
          "background",
          "liver",
          "omentum",
          "small_bowel",
          "stomach"
         ],
         "xaxis": "x3",
         "y": {
          "bdata": "AgECAgE=",
          "dtype": "i1"
         },
         "yaxis": "y3"
        },
        {
         "marker": {
          "color": "#DDCB76",
          "line": {
           "color": "gray",
           "width": 0.1
          }
         },
         "name": "physiological",
         "type": "bar",
         "x": [
          "background",
          "colon",
          "liver",
          "omentum",
          "pancreas",
          "small_bowel",
          "stomach"
         ],
         "xaxis": "x3",
         "y": {
          "bdata": "BAICBAEBAg==",
          "dtype": "i1"
         },
         "yaxis": "y3"
        },
        {
         "marker": {
          "color": "#DDCB76",
          "line": {
           "color": "gray",
           "width": 0.1
          }
         },
         "name": "physiological",
         "type": "bar",
         "x": [
          "background",
          "colon",
          "liver",
          "omentum",
          "skin",
          "stomach"
         ],
         "xaxis": "x3",
         "y": {
          "bdata": "AwIDAQIB",
          "dtype": "i1"
         },
         "yaxis": "y3"
        },
        {
         "marker": {
          "color": "#DDCB76",
          "line": {
           "color": "gray",
           "width": 0.1
          }
         },
         "name": "physiological",
         "type": "bar",
         "x": [
          "background",
          "colon",
          "liver",
          "omentum",
          "pancreas",
          "peritoneum",
          "skin",
          "small_bowel",
          "spleen",
          "stomach"
         ],
         "xaxis": "x3",
         "y": {
          "bdata": "EQkREQUCAgwDCA==",
          "dtype": "i1"
         },
         "yaxis": "y3"
        },
        {
         "marker": {
          "color": "#DDCB76",
          "line": {
           "color": "gray",
           "width": 0.1
          }
         },
         "name": "physiological",
         "type": "bar",
         "x": [
          "background",
          "colon",
          "liver",
          "omentum",
          "small_bowel",
          "stomach"
         ],
         "xaxis": "x3",
         "y": {
          "bdata": "BQMEBQMB",
          "dtype": "i1"
         },
         "yaxis": "y3"
        },
        {
         "marker": {
          "color": "#DDCB76",
          "line": {
           "color": "gray",
           "width": 0.1
          }
         },
         "name": "physiological",
         "type": "bar",
         "x": [
          "background",
          "colon",
          "liver",
          "omentum",
          "pancreas",
          "small_bowel",
          "stomach"
         ],
         "xaxis": "x3",
         "y": {
          "bdata": "BwYHBwMEBw==",
          "dtype": "i1"
         },
         "yaxis": "y3"
        },
        {
         "marker": {
          "color": "#DDCB76",
          "line": {
           "color": "gray",
           "width": 0.1
          }
         },
         "name": "physiological",
         "type": "bar",
         "x": [
          "background",
          "colon",
          "liver",
          "lung",
          "omentum",
          "peritoneum",
          "skin",
          "small_bowel",
          "spleen",
          "stomach"
         ],
         "xaxis": "x3",
         "y": {
          "bdata": "CQEDBgMCCAMCAw==",
          "dtype": "i1"
         },
         "yaxis": "y3"
        },
        {
         "marker": {
          "color": "#DDCB76",
          "line": {
           "color": "gray",
           "width": 0.1
          }
         },
         "name": "physiological",
         "type": "bar",
         "x": [
          "background",
          "colon",
          "liver",
          "lung",
          "omentum",
          "skin",
          "small_bowel",
          "stomach"
         ],
         "xaxis": "x3",
         "y": {
          "bdata": "BwEBBgEGAQE=",
          "dtype": "i1"
         },
         "yaxis": "y3"
        },
        {
         "marker": {
          "color": "#DDCB76",
          "line": {
           "color": "gray",
           "width": 0.1
          }
         },
         "name": "physiological",
         "type": "bar",
         "x": [
          "background",
          "colon",
          "liver",
          "small_bowel",
          "stomach"
         ],
         "xaxis": "x3",
         "y": {
          "bdata": "AgIBAQE=",
          "dtype": "i1"
         },
         "yaxis": "y3"
        },
        {
         "marker": {
          "color": "#DDCB76",
          "line": {
           "color": "gray",
           "width": 0.1
          }
         },
         "name": "physiological",
         "type": "bar",
         "x": [
          "background",
          "liver",
          "omentum",
          "peritoneum",
          "stomach"
         ],
         "xaxis": "x3",
         "y": {
          "bdata": "BQUFAgQ=",
          "dtype": "i1"
         },
         "yaxis": "y3"
        },
        {
         "marker": {
          "color": "#DDCB76",
          "line": {
           "color": "gray",
           "width": 0.1
          }
         },
         "name": "physiological",
         "type": "bar",
         "x": [
          "background",
          "liver",
          "omentum",
          "stomach"
         ],
         "xaxis": "x3",
         "y": {
          "bdata": "CAgBAQ==",
          "dtype": "i1"
         },
         "yaxis": "y3"
        },
        {
         "marker": {
          "color": "#DDCB76",
          "line": {
           "color": "gray",
           "width": 0.1
          }
         },
         "name": "physiological",
         "type": "bar",
         "x": [
          "background",
          "colon",
          "liver",
          "omentum",
          "peritoneum",
          "skin",
          "small_bowel",
          "stomach"
         ],
         "xaxis": "x3",
         "y": {
          "bdata": "CQYICQMJAQY=",
          "dtype": "i1"
         },
         "yaxis": "y3"
        },
        {
         "marker": {
          "color": "#DDCB76",
          "line": {
           "color": "gray",
           "width": 0.1
          }
         },
         "name": "physiological",
         "type": "bar",
         "x": [
          "background",
          "colon",
          "liver",
          "omentum",
          "pancreas",
          "small_bowel",
          "spleen",
          "stomach"
         ],
         "xaxis": "x3",
         "y": {
          "bdata": "EA0QEAcOBg4=",
          "dtype": "i1"
         },
         "yaxis": "y3"
        },
        {
         "marker": {
          "color": "#DDCB76",
          "line": {
           "color": "gray",
           "width": 0.1
          }
         },
         "name": "physiological",
         "type": "bar",
         "x": [
          "background",
          "colon",
          "liver",
          "omentum",
          "peritoneum",
          "skin",
          "small_bowel",
          "stomach"
         ],
         "xaxis": "x3",
         "y": {
          "bdata": "CAEGBQYEAwE=",
          "dtype": "i1"
         },
         "yaxis": "y3"
        },
        {
         "marker": {
          "color": "#DDCB76",
          "line": {
           "color": "gray",
           "width": 0.1
          }
         },
         "name": "physiological",
         "type": "bar",
         "x": [
          "background",
          "colon",
          "liver",
          "omentum",
          "skin",
          "small_bowel",
          "spleen",
          "stomach"
         ],
         "xaxis": "x3",
         "y": {
          "bdata": "CwgKCwMGAQs=",
          "dtype": "i1"
         },
         "yaxis": "y3"
        },
        {
         "marker": {
          "color": "#DDCB76",
          "line": {
           "color": "gray",
           "width": 0.1
          }
         },
         "name": "physiological",
         "type": "bar",
         "x": [
          "background",
          "colon",
          "liver",
          "omentum",
          "small_bowel",
          "stomach"
         ],
         "xaxis": "x3",
         "y": {
          "bdata": "AgECAgEB",
          "dtype": "i1"
         },
         "yaxis": "y3"
        },
        {
         "marker": {
          "color": "#DDCB76",
          "line": {
           "color": "gray",
           "width": 0.1
          }
         },
         "name": "physiological",
         "type": "bar",
         "x": [
          "background",
          "colon",
          "liver",
          "omentum",
          "small_bowel",
          "stomach"
         ],
         "xaxis": "x3",
         "y": {
          "bdata": "AgEBAgIC",
          "dtype": "i1"
         },
         "yaxis": "y3"
        },
        {
         "marker": {
          "color": "#DDCB76",
          "line": {
           "color": "gray",
           "width": 0.1
          }
         },
         "name": "physiological",
         "type": "bar",
         "x": [
          "background",
          "liver",
          "omentum",
          "small_bowel",
          "stomach"
         ],
         "xaxis": "x3",
         "y": {
          "bdata": "AgIBAQE=",
          "dtype": "i1"
         },
         "yaxis": "y3"
        },
        {
         "marker": {
          "color": "#DDCB76",
          "line": {
           "color": "gray",
           "width": 0.1
          }
         },
         "name": "physiological",
         "type": "bar",
         "x": [
          "background",
          "colon",
          "liver",
          "omentum",
          "small_bowel",
          "stomach"
         ],
         "xaxis": "x3",
         "y": {
          "bdata": "CAUICAIF",
          "dtype": "i1"
         },
         "yaxis": "y3"
        },
        {
         "marker": {
          "color": "#DDCB76",
          "line": {
           "color": "gray",
           "width": 0.1
          }
         },
         "name": "physiological",
         "type": "bar",
         "x": [
          "background",
          "colon",
          "liver",
          "omentum",
          "pancreas",
          "small_bowel",
          "spleen",
          "stomach"
         ],
         "xaxis": "x3",
         "y": {
          "bdata": "BQQFBQQDBAE=",
          "dtype": "i1"
         },
         "yaxis": "y3"
        },
        {
         "marker": {
          "color": "#DDCB76",
          "line": {
           "color": "gray",
           "width": 0.1
          }
         },
         "name": "physiological",
         "type": "bar",
         "x": [
          "background",
          "colon",
          "liver",
          "omentum",
          "peritoneum",
          "skin",
          "small_bowel",
          "stomach"
         ],
         "xaxis": "x3",
         "y": {
          "bdata": "BAQEBAICAQQ=",
          "dtype": "i1"
         },
         "yaxis": "y3"
        },
        {
         "marker": {
          "color": "#DDCB76",
          "line": {
           "color": "gray",
           "width": 0.1
          }
         },
         "name": "physiological",
         "type": "bar",
         "x": [
          "background",
          "colon",
          "liver",
          "omentum",
          "peritoneum",
          "skin",
          "small_bowel",
          "stomach"
         ],
         "xaxis": "x3",
         "y": {
          "bdata": "CAQHCAcGBwU=",
          "dtype": "i1"
         },
         "yaxis": "y3"
        },
        {
         "marker": {
          "color": "#DDCB76",
          "line": {
           "color": "gray",
           "width": 0.1
          }
         },
         "name": "physiological",
         "type": "bar",
         "x": [
          "background",
          "liver",
          "omentum",
          "peritoneum",
          "skin",
          "stomach"
         ],
         "xaxis": "x3",
         "y": {
          "bdata": "AgICAgIC",
          "dtype": "i1"
         },
         "yaxis": "y3"
        },
        {
         "marker": {
          "color": "#DDCB76",
          "line": {
           "color": "gray",
           "width": 0.1
          }
         },
         "name": "physiological",
         "type": "bar",
         "x": [
          "background",
          "colon",
          "liver",
          "omentum",
          "peritoneum",
          "skin",
          "small_bowel",
          "stomach"
         ],
         "xaxis": "x3",
         "y": {
          "bdata": "BgYGBQUEBgQ=",
          "dtype": "i1"
         },
         "yaxis": "y3"
        },
        {
         "marker": {
          "color": "#DDCB76",
          "line": {
           "color": "gray",
           "width": 0.1
          }
         },
         "name": "physiological",
         "type": "bar",
         "x": [
          "background",
          "liver",
          "omentum",
          "peritoneum",
          "skin",
          "stomach"
         ],
         "xaxis": "x3",
         "y": {
          "bdata": "BQcBBgYD",
          "dtype": "i1"
         },
         "yaxis": "y3"
        },
        {
         "marker": {
          "color": "#DDCB76",
          "line": {
           "color": "gray",
           "width": 0.1
          }
         },
         "name": "physiological",
         "type": "bar",
         "x": [
          "background",
          "colon",
          "liver",
          "omentum",
          "pancreas",
          "small_bowel",
          "stomach"
         ],
         "xaxis": "x3",
         "y": {
          "bdata": "AwEDAwIBAQ==",
          "dtype": "i1"
         },
         "yaxis": "y3"
        },
        {
         "marker": {
          "color": "#DDCB76",
          "line": {
           "color": "gray",
           "width": 0.1
          }
         },
         "name": "physiological",
         "type": "bar",
         "x": [
          "background",
          "liver",
          "omentum",
          "skin",
          "small_bowel",
          "spleen",
          "stomach"
         ],
         "xaxis": "x3",
         "y": {
          "bdata": "AwMDAgICAQ==",
          "dtype": "i1"
         },
         "yaxis": "y3"
        },
        {
         "marker": {
          "color": "#DDCB76",
          "line": {
           "color": "gray",
           "width": 0.1
          }
         },
         "name": "physiological",
         "type": "bar",
         "x": [
          "background",
          "omentum",
          "small_bowel",
          "stomach"
         ],
         "xaxis": "x3",
         "y": {
          "bdata": "AgICAg==",
          "dtype": "i1"
         },
         "yaxis": "y3"
        },
        {
         "marker": {
          "color": "#DDCB76",
          "line": {
           "color": "gray",
           "width": 0.1
          }
         },
         "name": "physiological",
         "type": "bar",
         "x": [
          "background",
          "colon",
          "liver",
          "omentum",
          "skin",
          "stomach"
         ],
         "xaxis": "x3",
         "y": {
          "bdata": "AgECAgEB",
          "dtype": "i1"
         },
         "yaxis": "y3"
        },
        {
         "marker": {
          "color": "#DDCB76",
          "line": {
           "color": "gray",
           "width": 0.1
          }
         },
         "name": "physiological",
         "type": "bar",
         "x": [
          "background",
          "liver",
          "omentum",
          "stomach"
         ],
         "xaxis": "x3",
         "y": {
          "bdata": "AgICAg==",
          "dtype": "i1"
         },
         "yaxis": "y3"
        },
        {
         "marker": {
          "color": "#DDCB76",
          "line": {
           "color": "gray",
           "width": 0.1
          }
         },
         "name": "physiological",
         "type": "bar",
         "x": [
          "background",
          "colon",
          "liver",
          "omentum",
          "stomach"
         ],
         "xaxis": "x3",
         "y": {
          "bdata": "AwIDAwM=",
          "dtype": "i1"
         },
         "yaxis": "y3"
        },
        {
         "marker": {
          "color": "#DDCB76",
          "line": {
           "color": "gray",
           "width": 0.1
          }
         },
         "name": "physiological",
         "type": "bar",
         "x": [
          "background",
          "colon",
          "liver",
          "omentum",
          "small_bowel",
          "stomach"
         ],
         "xaxis": "x3",
         "y": {
          "bdata": "AgECAgEB",
          "dtype": "i1"
         },
         "yaxis": "y3"
        },
        {
         "marker": {
          "color": "#DDCB76",
          "line": {
           "color": "gray",
           "width": 0.1
          }
         },
         "name": "physiological",
         "type": "bar",
         "x": [
          "background",
          "liver",
          "peritoneum",
          "skin",
          "small_bowel",
          "stomach"
         ],
         "xaxis": "x3",
         "y": {
          "bdata": "AwMCAwEC",
          "dtype": "i1"
         },
         "yaxis": "y3"
        },
        {
         "marker": {
          "color": "#DDCB76",
          "line": {
           "color": "gray",
           "width": 0.1
          }
         },
         "name": "physiological",
         "type": "bar",
         "x": [
          "background",
          "colon",
          "liver",
          "omentum",
          "small_bowel",
          "stomach"
         ],
         "xaxis": "x3",
         "y": {
          "bdata": "AgICAgEC",
          "dtype": "i1"
         },
         "yaxis": "y3"
        },
        {
         "marker": {
          "color": "#DDCB76",
          "line": {
           "color": "gray",
           "width": 0.1
          }
         },
         "name": "physiological",
         "type": "bar",
         "x": [
          "background",
          "liver",
          "omentum",
          "small_bowel",
          "stomach"
         ],
         "xaxis": "x3",
         "y": {
          "bdata": "AgICAgI=",
          "dtype": "i1"
         },
         "yaxis": "y3"
        },
        {
         "marker": {
          "color": "#DDCB76",
          "line": {
           "color": "gray",
           "width": 0.1
          }
         },
         "name": "physiological",
         "type": "bar",
         "x": [
          "background",
          "colon",
          "liver",
          "omentum",
          "stomach"
         ],
         "xaxis": "x3",
         "y": {
          "bdata": "AgICAgI=",
          "dtype": "i1"
         },
         "yaxis": "y3"
        },
        {
         "marker": {
          "color": "#DDCB76",
          "line": {
           "color": "gray",
           "width": 0.1
          }
         },
         "name": "physiological",
         "type": "bar",
         "x": [
          "background",
          "colon",
          "liver",
          "omentum",
          "small_bowel",
          "stomach"
         ],
         "xaxis": "x3",
         "y": {
          "bdata": "AgIBAQIB",
          "dtype": "i1"
         },
         "yaxis": "y3"
        },
        {
         "marker": {
          "color": "#DDCB76",
          "line": {
           "color": "gray",
           "width": 0.1
          }
         },
         "name": "physiological",
         "type": "bar",
         "x": [
          "background",
          "colon",
          "liver",
          "omentum",
          "peritoneum",
          "small_bowel",
          "stomach"
         ],
         "xaxis": "x3",
         "y": {
          "bdata": "AgEBAQEBAQ==",
          "dtype": "i1"
         },
         "yaxis": "y3"
        },
        {
         "marker": {
          "color": "#DDCB76",
          "line": {
           "color": "gray",
           "width": 0.1
          }
         },
         "name": "physiological",
         "type": "bar",
         "x": [
          "background",
          "omentum",
          "stomach"
         ],
         "xaxis": "x3",
         "y": {
          "bdata": "AgIC",
          "dtype": "i1"
         },
         "yaxis": "y3"
        },
        {
         "marker": {
          "color": "#DDCB76",
          "line": {
           "color": "gray",
           "width": 0.1
          }
         },
         "name": "physiological",
         "type": "bar",
         "x": [
          "background",
          "colon",
          "liver",
          "omentum",
          "pancreas",
          "small_bowel",
          "stomach"
         ],
         "xaxis": "x3",
         "y": {
          "bdata": "BAMEAwIBAw==",
          "dtype": "i1"
         },
         "yaxis": "y3"
        },
        {
         "marker": {
          "color": "#DDCB76",
          "line": {
           "color": "gray",
           "width": 0.1
          }
         },
         "name": "physiological",
         "type": "bar",
         "x": [
          "background",
          "liver",
          "omentum",
          "small_bowel",
          "stomach"
         ],
         "xaxis": "x3",
         "y": {
          "bdata": "AgICAQI=",
          "dtype": "i1"
         },
         "yaxis": "y3"
        },
        {
         "marker": {
          "color": "#DDCB76",
          "line": {
           "color": "gray",
           "width": 0.1
          }
         },
         "name": "physiological",
         "type": "bar",
         "x": [
          "background",
          "colon",
          "liver",
          "omentum",
          "small_bowel",
          "stomach"
         ],
         "xaxis": "x3",
         "y": {
          "bdata": "BwcHBwcH",
          "dtype": "i1"
         },
         "yaxis": "y3"
        },
        {
         "marker": {
          "color": "#DDCB76",
          "line": {
           "color": "gray",
           "width": 0.1
          }
         },
         "name": "physiological",
         "type": "bar",
         "x": [
          "background",
          "colon",
          "omentum",
          "small_bowel",
          "stomach"
         ],
         "xaxis": "x3",
         "y": {
          "bdata": "AgEBAgE=",
          "dtype": "i1"
         },
         "yaxis": "y3"
        },
        {
         "marker": {
          "color": "#DDCB76",
          "line": {
           "color": "gray",
           "width": 0.1
          }
         },
         "name": "physiological",
         "type": "bar",
         "x": [
          "background",
          "colon",
          "omentum",
          "pancreas",
          "skin",
          "small_bowel",
          "stomach"
         ],
         "xaxis": "x3",
         "y": {
          "bdata": "AgECAQEBAQ==",
          "dtype": "i1"
         },
         "yaxis": "y3"
        },
        {
         "marker": {
          "color": "#DDCB76",
          "line": {
           "color": "gray",
           "width": 0.1
          }
         },
         "name": "physiological",
         "type": "bar",
         "x": [
          "background",
          "colon",
          "liver",
          "omentum",
          "pancreas",
          "small_bowel",
          "stomach"
         ],
         "xaxis": "x3",
         "y": {
          "bdata": "AgIBAQEBAQ==",
          "dtype": "i1"
         },
         "yaxis": "y3"
        },
        {
         "marker": {
          "color": "#DDCB76",
          "line": {
           "color": "gray",
           "width": 0.1
          }
         },
         "name": "physiological",
         "type": "bar",
         "x": [
          "background",
          "colon",
          "liver",
          "omentum",
          "peritoneum",
          "small_bowel",
          "stomach"
         ],
         "xaxis": "x3",
         "y": {
          "bdata": "AgICAQECAQ==",
          "dtype": "i1"
         },
         "yaxis": "y3"
        },
        {
         "marker": {
          "color": "#DDCB76",
          "line": {
           "color": "gray",
           "width": 0.1
          }
         },
         "name": "physiological",
         "type": "bar",
         "x": [
          "background",
          "colon",
          "liver",
          "omentum",
          "peritoneum",
          "skin",
          "small_bowel",
          "stomach"
         ],
         "xaxis": "x3",
         "y": {
          "bdata": "BQMFBQUDAgI=",
          "dtype": "i1"
         },
         "yaxis": "y3"
        },
        {
         "marker": {
          "color": "#DDCB76",
          "line": {
           "color": "gray",
           "width": 0.1
          }
         },
         "name": "physiological",
         "type": "bar",
         "x": [
          "background",
          "colon",
          "liver",
          "omentum",
          "small_bowel",
          "stomach"
         ],
         "xaxis": "x3",
         "y": {
          "bdata": "AgEBAgEB",
          "dtype": "i1"
         },
         "yaxis": "y3"
        },
        {
         "marker": {
          "color": "#DDCB76",
          "line": {
           "color": "gray",
           "width": 0.1
          }
         },
         "name": "physiological",
         "type": "bar",
         "x": [
          "background",
          "colon",
          "liver",
          "omentum",
          "pancreas",
          "stomach"
         ],
         "xaxis": "x3",
         "y": {
          "bdata": "CAYCCAQE",
          "dtype": "i1"
         },
         "yaxis": "y3"
        },
        {
         "marker": {
          "color": "#DDCB76",
          "line": {
           "color": "gray",
           "width": 0.1
          }
         },
         "name": "physiological",
         "type": "bar",
         "x": [
          "background",
          "liver",
          "lung",
          "omentum",
          "peritoneum",
          "skin",
          "small_bowel",
          "stomach"
         ],
         "xaxis": "x3",
         "y": {
          "bdata": "BAEDAQEDAQE=",
          "dtype": "i1"
         },
         "yaxis": "y3"
        },
        {
         "marker": {
          "color": "#DDCB76",
          "line": {
           "color": "gray",
           "width": 0.1
          }
         },
         "name": "physiological",
         "type": "bar",
         "x": [
          "background",
          "colon",
          "liver",
          "omentum",
          "peritoneum",
          "skin",
          "small_bowel",
          "stomach"
         ],
         "xaxis": "x3",
         "y": {
          "bdata": "BQUFBQUCAwE=",
          "dtype": "i1"
         },
         "yaxis": "y3"
        },
        {
         "marker": {
          "color": "#DDCB76",
          "line": {
           "color": "gray",
           "width": 0.1
          }
         },
         "name": "physiological",
         "type": "bar",
         "x": [
          "background",
          "colon",
          "omentum",
          "spleen",
          "stomach"
         ],
         "xaxis": "x3",
         "y": {
          "bdata": "BgEGBgY=",
          "dtype": "i1"
         },
         "yaxis": "y3"
        },
        {
         "marker": {
          "color": "#DDCB76",
          "line": {
           "color": "gray",
           "width": 0.1
          }
         },
         "name": "physiological",
         "type": "bar",
         "x": [
          "background",
          "colon",
          "liver",
          "omentum",
          "pancreas",
          "peritoneum",
          "skin",
          "small_bowel",
          "stomach"
         ],
         "xaxis": "x3",
         "y": {
          "bdata": "BQUEBQEBAQEC",
          "dtype": "i1"
         },
         "yaxis": "y3"
        },
        {
         "marker": {
          "color": "#DDCB76",
          "line": {
           "color": "gray",
           "width": 0.1
          }
         },
         "name": "physiological",
         "type": "bar",
         "x": [
          "background",
          "colon",
          "liver",
          "omentum",
          "small_bowel",
          "spleen",
          "stomach"
         ],
         "xaxis": "x3",
         "y": {
          "bdata": "AgECAgIBAg==",
          "dtype": "i1"
         },
         "yaxis": "y3"
        },
        {
         "marker": {
          "color": "#DDCB76",
          "line": {
           "color": "gray",
           "width": 0.1
          }
         },
         "name": "physiological",
         "type": "bar",
         "x": [
          "background",
          "colon",
          "liver",
          "omentum",
          "stomach"
         ],
         "xaxis": "x3",
         "y": {
          "bdata": "AgECAgI=",
          "dtype": "i1"
         },
         "yaxis": "y3"
        },
        {
         "marker": {
          "color": "#DDCB76",
          "line": {
           "color": "gray",
           "width": 0.1
          }
         },
         "name": "physiological",
         "type": "bar",
         "x": [
          "background",
          "colon",
          "kidney",
          "liver",
          "omentum",
          "small_bowel",
          "stomach"
         ],
         "xaxis": "x3",
         "y": {
          "bdata": "AgEBAgECAQ==",
          "dtype": "i1"
         },
         "yaxis": "y3"
        },
        {
         "marker": {
          "color": "#DDCB76",
          "line": {
           "color": "gray",
           "width": 0.1
          }
         },
         "name": "physiological",
         "type": "bar",
         "x": [
          "background",
          "liver",
          "omentum",
          "pancreas",
          "small_bowel",
          "stomach"
         ],
         "xaxis": "x3",
         "y": {
          "bdata": "AwMDAwID",
          "dtype": "i1"
         },
         "yaxis": "y3"
        },
        {
         "marker": {
          "color": "#DDCB76",
          "line": {
           "color": "gray",
           "width": 0.1
          }
         },
         "name": "physiological",
         "type": "bar",
         "x": [
          "background",
          "omentum",
          "pancreas",
          "small_bowel",
          "stomach"
         ],
         "xaxis": "x3",
         "y": {
          "bdata": "AgIBAQE=",
          "dtype": "i1"
         },
         "yaxis": "y3"
        },
        {
         "marker": {
          "color": "#DDCB76",
          "line": {
           "color": "gray",
           "width": 0.1
          }
         },
         "name": "physiological",
         "type": "bar",
         "x": [
          "background",
          "colon",
          "liver",
          "small_bowel",
          "stomach"
         ],
         "xaxis": "x3",
         "y": {
          "bdata": "AgIBAQI=",
          "dtype": "i1"
         },
         "yaxis": "y3"
        },
        {
         "marker": {
          "color": "#DDCB76",
          "line": {
           "color": "gray",
           "width": 0.1
          }
         },
         "name": "physiological",
         "type": "bar",
         "x": [
          "background",
          "colon",
          "omentum",
          "stomach"
         ],
         "xaxis": "x3",
         "y": {
          "bdata": "AgECAQ==",
          "dtype": "i1"
         },
         "yaxis": "y3"
        },
        {
         "marker": {
          "color": "#DDCB76",
          "line": {
           "color": "gray",
           "width": 0.1
          }
         },
         "name": "physiological",
         "type": "bar",
         "x": [
          "background",
          "colon",
          "liver",
          "omentum",
          "peritoneum",
          "small_bowel",
          "stomach"
         ],
         "xaxis": "x3",
         "y": {
          "bdata": "AgECAQEBAQ==",
          "dtype": "i1"
         },
         "yaxis": "y3"
        },
        {
         "marker": {
          "color": "#DDCB76",
          "line": {
           "color": "gray",
           "width": 0.1
          }
         },
         "name": "physiological",
         "type": "bar",
         "x": [
          "background",
          "colon",
          "liver",
          "omentum",
          "small_bowel",
          "stomach"
         ],
         "xaxis": "x3",
         "y": {
          "bdata": "AgECAgEB",
          "dtype": "i1"
         },
         "yaxis": "y3"
        },
        {
         "marker": {
          "color": "#DDCB76",
          "line": {
           "color": "gray",
           "width": 0.1
          }
         },
         "name": "physiological",
         "type": "bar",
         "x": [
          "background",
          "colon",
          "liver",
          "omentum",
          "pancreas",
          "skin",
          "small_bowel",
          "stomach"
         ],
         "xaxis": "x3",
         "y": {
          "bdata": "BwMFBAYBAQE=",
          "dtype": "i1"
         },
         "yaxis": "y3"
        },
        {
         "marker": {
          "color": "#DDCB76",
          "line": {
           "color": "gray",
           "width": 0.1
          }
         },
         "name": "physiological",
         "type": "bar",
         "x": [
          "background",
          "colon",
          "liver",
          "omentum",
          "small_bowel",
          "stomach"
         ],
         "xaxis": "x3",
         "y": {
          "bdata": "AwIDAwIC",
          "dtype": "i1"
         },
         "yaxis": "y3"
        },
        {
         "marker": {
          "color": "#DDCB76",
          "line": {
           "color": "gray",
           "width": 0.1
          }
         },
         "name": "physiological",
         "type": "bar",
         "x": [
          "background",
          "colon",
          "liver",
          "omentum",
          "pancreas",
          "small_bowel",
          "stomach"
         ],
         "xaxis": "x3",
         "y": {
          "bdata": "BQUEAwMFAw==",
          "dtype": "i1"
         },
         "yaxis": "y3"
        },
        {
         "marker": {
          "color": "#DDCB76",
          "line": {
           "color": "gray",
           "width": 0.1
          }
         },
         "name": "physiological",
         "type": "bar",
         "x": [
          "background",
          "colon",
          "liver",
          "omentum",
          "pancreas",
          "small_bowel",
          "stomach"
         ],
         "xaxis": "x3",
         "y": {
          "bdata": "AwIDAQICAQ==",
          "dtype": "i1"
         },
         "yaxis": "y3"
        },
        {
         "marker": {
          "color": "#DDCB76",
          "line": {
           "color": "gray",
           "width": 0.1
          }
         },
         "name": "physiological",
         "type": "bar",
         "x": [
          "background",
          "colon",
          "liver",
          "omentum",
          "pancreas",
          "small_bowel",
          "stomach"
         ],
         "xaxis": "x3",
         "y": {
          "bdata": "BQIDBQQDAQ==",
          "dtype": "i1"
         },
         "yaxis": "y3"
        },
        {
         "marker": {
          "color": "#DDCB76",
          "line": {
           "color": "gray",
           "width": 0.1
          }
         },
         "name": "physiological",
         "type": "bar",
         "x": [
          "background",
          "colon",
          "liver",
          "pancreas",
          "small_bowel",
          "stomach"
         ],
         "xaxis": "x3",
         "y": {
          "bdata": "AwEDAgMB",
          "dtype": "i1"
         },
         "yaxis": "y3"
        },
        {
         "marker": {
          "color": "#DDCB76",
          "line": {
           "color": "gray",
           "width": 0.1
          }
         },
         "name": "physiological",
         "type": "bar",
         "x": [
          "background",
          "liver",
          "omentum",
          "pancreas",
          "small_bowel",
          "stomach"
         ],
         "xaxis": "x3",
         "y": {
          "bdata": "BAQEAwQC",
          "dtype": "i1"
         },
         "yaxis": "y3"
        },
        {
         "marker": {
          "color": "#DDCB76",
          "line": {
           "color": "gray",
           "width": 0.1
          }
         },
         "name": "physiological",
         "type": "bar",
         "x": [
          "background",
          "colon",
          "liver",
          "omentum",
          "skin",
          "small_bowel",
          "stomach"
         ],
         "xaxis": "x3",
         "y": {
          "bdata": "AgICAgEBAg==",
          "dtype": "i1"
         },
         "yaxis": "y3"
        },
        {
         "marker": {
          "color": "#DDCB76",
          "line": {
           "color": "gray",
           "width": 0.1
          }
         },
         "name": "physiological",
         "type": "bar",
         "x": [
          "background",
          "liver",
          "omentum",
          "small_bowel",
          "stomach"
         ],
         "xaxis": "x3",
         "y": {
          "bdata": "AwMDAQE=",
          "dtype": "i1"
         },
         "yaxis": "y3"
        },
        {
         "marker": {
          "color": "#DDCB76",
          "line": {
           "color": "gray",
           "width": 0.1
          }
         },
         "name": "physiological",
         "type": "bar",
         "x": [
          "background",
          "lung",
          "omentum",
          "skin",
          "small_bowel",
          "stomach"
         ],
         "xaxis": "x3",
         "y": {
          "bdata": "BAQCBAIB",
          "dtype": "i1"
         },
         "yaxis": "y3"
        },
        {
         "marker": {
          "color": "#DDCB76",
          "line": {
           "color": "gray",
           "width": 0.1
          }
         },
         "name": "physiological",
         "type": "bar",
         "x": [
          "background",
          "colon",
          "liver",
          "omentum",
          "small_bowel",
          "stomach"
         ],
         "xaxis": "x3",
         "y": {
          "bdata": "AgECAgEB",
          "dtype": "i1"
         },
         "yaxis": "y3"
        },
        {
         "marker": {
          "color": "#DDCB76",
          "line": {
           "color": "gray",
           "width": 0.1
          }
         },
         "name": "physiological",
         "type": "bar",
         "x": [
          "background",
          "colon",
          "liver",
          "omentum",
          "stomach"
         ],
         "xaxis": "x3",
         "y": {
          "bdata": "AgICAgE=",
          "dtype": "i1"
         },
         "yaxis": "y3"
        },
        {
         "marker": {
          "color": "#DDCB76",
          "line": {
           "color": "gray",
           "width": 0.1
          }
         },
         "name": "physiological",
         "type": "bar",
         "x": [
          "background",
          "liver",
          "small_bowel",
          "stomach"
         ],
         "xaxis": "x3",
         "y": {
          "bdata": "AgICAQ==",
          "dtype": "i1"
         },
         "yaxis": "y3"
        },
        {
         "marker": {
          "color": "#DDCB76",
          "line": {
           "color": "gray",
           "width": 0.1
          }
         },
         "name": "physiological",
         "type": "bar",
         "x": [
          "background",
          "colon",
          "liver",
          "small_bowel",
          "spleen"
         ],
         "xaxis": "x3",
         "y": {
          "bdata": "AgECAQE=",
          "dtype": "i1"
         },
         "yaxis": "y3"
        },
        {
         "marker": {
          "color": "#DDCB76",
          "line": {
           "color": "gray",
           "width": 0.1
          }
         },
         "name": "physiological",
         "type": "bar",
         "x": [
          "background",
          "colon",
          "skin",
          "small_bowel"
         ],
         "xaxis": "x3",
         "y": {
          "bdata": "AgECAg==",
          "dtype": "i1"
         },
         "yaxis": "y3"
        },
        {
         "marker": {
          "color": "#DDCB76",
          "line": {
           "color": "gray",
           "width": 0.1
          }
         },
         "name": "physiological",
         "type": "bar",
         "x": [
          "background",
          "skin",
          "small_bowel"
         ],
         "xaxis": "x3",
         "y": {
          "bdata": "AgIC",
          "dtype": "i1"
         },
         "yaxis": "y3"
        },
        {
         "marker": {
          "color": "#DDCB76",
          "line": {
           "color": "gray",
           "width": 0.1
          }
         },
         "name": "physiological",
         "type": "bar",
         "x": [
          "background",
          "colon",
          "omentum",
          "small_bowel"
         ],
         "xaxis": "x3",
         "y": {
          "bdata": "AgEBAg==",
          "dtype": "i1"
         },
         "yaxis": "y3"
        },
        {
         "marker": {
          "color": "#DDCB76",
          "line": {
           "color": "gray",
           "width": 0.1
          }
         },
         "name": "physiological",
         "type": "bar",
         "x": [
          "background",
          "omentum",
          "small_bowel"
         ],
         "xaxis": "x3",
         "y": {
          "bdata": "AgEC",
          "dtype": "i1"
         },
         "yaxis": "y3"
        },
        {
         "marker": {
          "color": "#DDCB76",
          "line": {
           "color": "gray",
           "width": 0.1
          }
         },
         "name": "physiological",
         "type": "bar",
         "x": [
          "background",
          "colon",
          "omentum",
          "small_bowel"
         ],
         "xaxis": "x3",
         "y": {
          "bdata": "AgIBAQ==",
          "dtype": "i1"
         },
         "yaxis": "y3"
        },
        {
         "marker": {
          "color": "#DDCB76",
          "line": {
           "color": "gray",
           "width": 0.1
          }
         },
         "name": "physiological",
         "type": "bar",
         "x": [
          "background",
          "colon",
          "liver",
          "omentum",
          "small_bowel"
         ],
         "xaxis": "x3",
         "y": {
          "bdata": "AgICAQI=",
          "dtype": "i1"
         },
         "yaxis": "y3"
        },
        {
         "marker": {
          "color": "#DDCB76",
          "line": {
           "color": "gray",
           "width": 0.1
          }
         },
         "name": "physiological",
         "type": "bar",
         "x": [
          "background",
          "colon",
          "liver",
          "small_bowel"
         ],
         "xaxis": "x3",
         "y": {
          "bdata": "AgEBAg==",
          "dtype": "i1"
         },
         "yaxis": "y3"
        },
        {
         "marker": {
          "color": "#DDCB76",
          "line": {
           "color": "gray",
           "width": 0.1
          }
         },
         "name": "physiological",
         "type": "bar",
         "x": [
          "background",
          "liver",
          "small_bowel"
         ],
         "xaxis": "x3",
         "y": {
          "bdata": "AgIC",
          "dtype": "i1"
         },
         "yaxis": "y3"
        },
        {
         "marker": {
          "color": "#DDCB76",
          "line": {
           "color": "gray",
           "width": 0.1
          }
         },
         "name": "physiological",
         "type": "bar",
         "x": [
          "background",
          "colon",
          "liver",
          "omentum",
          "small_bowel"
         ],
         "xaxis": "x3",
         "y": {
          "bdata": "AwEBAgE=",
          "dtype": "i1"
         },
         "yaxis": "y3"
        },
        {
         "marker": {
          "color": "#DDCB76",
          "line": {
           "color": "gray",
           "width": 0.1
          }
         },
         "name": "physiological",
         "type": "bar",
         "x": [
          "background",
          "omentum",
          "skin",
          "small_bowel"
         ],
         "xaxis": "x3",
         "y": {
          "bdata": "AgECAg==",
          "dtype": "i1"
         },
         "yaxis": "y3"
        },
        {
         "marker": {
          "color": "#DDCB76",
          "line": {
           "color": "gray",
           "width": 0.1
          }
         },
         "name": "physiological",
         "type": "bar",
         "x": [
          "background",
          "colon",
          "omentum",
          "small_bowel"
         ],
         "xaxis": "x3",
         "y": {
          "bdata": "AgICAQ==",
          "dtype": "i1"
         },
         "yaxis": "y3"
        },
        {
         "marker": {
          "color": "#DDCB76",
          "line": {
           "color": "gray",
           "width": 0.1
          }
         },
         "name": "physiological",
         "type": "bar",
         "x": [
          "background",
          "colon",
          "omentum",
          "pancreas",
          "small_bowel"
         ],
         "xaxis": "x3",
         "y": {
          "bdata": "AgEBAQE=",
          "dtype": "i1"
         },
         "yaxis": "y3"
        },
        {
         "marker": {
          "color": "#DDCB76",
          "line": {
           "color": "gray",
           "width": 0.1
          }
         },
         "name": "physiological",
         "type": "bar",
         "x": [
          "background",
          "colon",
          "liver",
          "lung",
          "skin",
          "small_bowel"
         ],
         "xaxis": "x3",
         "y": {
          "bdata": "CwEDCQoB",
          "dtype": "i1"
         },
         "yaxis": "y3"
        },
        {
         "marker": {
          "color": "#DDCB76",
          "line": {
           "color": "gray",
           "width": 0.1
          }
         },
         "name": "physiological",
         "type": "bar",
         "x": [
          "background",
          "colon",
          "liver",
          "omentum",
          "small_bowel"
         ],
         "xaxis": "x3",
         "y": {
          "bdata": "AgICAQI=",
          "dtype": "i1"
         },
         "yaxis": "y3"
        },
        {
         "marker": {
          "color": "#DDCB76",
          "line": {
           "color": "gray",
           "width": 0.1
          }
         },
         "name": "physiological",
         "type": "bar",
         "x": [
          "background",
          "colon",
          "liver",
          "small_bowel"
         ],
         "xaxis": "x3",
         "y": {
          "bdata": "AgEBAg==",
          "dtype": "i1"
         },
         "yaxis": "y3"
        },
        {
         "marker": {
          "color": "#DDCB76",
          "line": {
           "color": "gray",
           "width": 0.1
          }
         },
         "name": "physiological",
         "type": "bar",
         "x": [
          "background",
          "colon",
          "lung",
          "omentum",
          "skin",
          "small_bowel"
         ],
         "xaxis": "x3",
         "y": {
          "bdata": "CgEIAQgB",
          "dtype": "i1"
         },
         "yaxis": "y3"
        },
        {
         "marker": {
          "color": "#DDCB76",
          "line": {
           "color": "gray",
           "width": 0.1
          }
         },
         "name": "physiological",
         "type": "bar",
         "x": [
          "background",
          "liver",
          "omentum",
          "small_bowel"
         ],
         "xaxis": "x3",
         "y": {
          "bdata": "AgIBAQ==",
          "dtype": "i1"
         },
         "yaxis": "y3"
        },
        {
         "marker": {
          "color": "#DDCB76",
          "line": {
           "color": "gray",
           "width": 0.1
          }
         },
         "name": "physiological",
         "type": "bar",
         "x": [
          "background",
          "colon",
          "liver",
          "omentum",
          "small_bowel"
         ],
         "xaxis": "x3",
         "y": {
          "bdata": "AgICAgI=",
          "dtype": "i1"
         },
         "yaxis": "y3"
        },
        {
         "marker": {
          "color": "#DDCB76",
          "line": {
           "color": "gray",
           "width": 0.1
          }
         },
         "name": "physiological",
         "type": "bar",
         "x": [
          "background",
          "colon",
          "liver",
          "omentum",
          "small_bowel"
         ],
         "xaxis": "x3",
         "y": {
          "bdata": "AgECAgI=",
          "dtype": "i1"
         },
         "yaxis": "y3"
        },
        {
         "marker": {
          "color": "#DDCB76",
          "line": {
           "color": "gray",
           "width": 0.1
          }
         },
         "name": "physiological",
         "type": "bar",
         "x": [
          "background",
          "liver",
          "omentum",
          "pancreas",
          "small_bowel"
         ],
         "xaxis": "x3",
         "y": {
          "bdata": "BAMEBAQ=",
          "dtype": "i1"
         },
         "yaxis": "y3"
        },
        {
         "marker": {
          "color": "#DDCB76",
          "line": {
           "color": "gray",
           "width": 0.1
          }
         },
         "name": "physiological",
         "type": "bar",
         "x": [
          "background",
          "colon",
          "liver",
          "lung",
          "omentum",
          "skin",
          "small_bowel"
         ],
         "xaxis": "x3",
         "y": {
          "bdata": "BgEBBQEFAQ==",
          "dtype": "i1"
         },
         "yaxis": "y3"
        },
        {
         "marker": {
          "color": "#DDCB76",
          "line": {
           "color": "gray",
           "width": 0.1
          }
         },
         "name": "physiological",
         "type": "bar",
         "x": [
          "background",
          "liver",
          "omentum",
          "small_bowel"
         ],
         "xaxis": "x3",
         "y": {
          "bdata": "AgICAQ==",
          "dtype": "i1"
         },
         "yaxis": "y3"
        },
        {
         "marker": {
          "color": "#DDCB76",
          "line": {
           "color": "gray",
           "width": 0.1
          }
         },
         "name": "physiological",
         "type": "bar",
         "x": [
          "background",
          "colon",
          "small_bowel"
         ],
         "xaxis": "x3",
         "y": {
          "bdata": "AgEC",
          "dtype": "i1"
         },
         "yaxis": "y3"
        },
        {
         "marker": {
          "color": "#DDCB76",
          "line": {
           "color": "gray",
           "width": 0.1
          }
         },
         "name": "physiological",
         "type": "bar",
         "x": [
          "background",
          "liver",
          "omentum",
          "peritoneum",
          "skin",
          "small_bowel"
         ],
         "xaxis": "x3",
         "y": {
          "bdata": "AwMDAQMD",
          "dtype": "i1"
         },
         "yaxis": "y3"
        },
        {
         "marker": {
          "color": "#DDCB76",
          "line": {
           "color": "gray",
           "width": 0.1
          }
         },
         "name": "physiological",
         "type": "bar",
         "x": [
          "background",
          "colon",
          "liver",
          "omentum",
          "pancreas",
          "peritoneum",
          "small_bowel"
         ],
         "xaxis": "x3",
         "y": {
          "bdata": "CQcICQgBCA==",
          "dtype": "i1"
         },
         "yaxis": "y3"
        },
        {
         "marker": {
          "color": "#DDCB76",
          "line": {
           "color": "gray",
           "width": 0.1
          }
         },
         "name": "physiological",
         "type": "bar",
         "x": [
          "background",
          "omentum",
          "pancreas",
          "small_bowel"
         ],
         "xaxis": "x3",
         "y": {
          "bdata": "BAQDBA==",
          "dtype": "i1"
         },
         "yaxis": "y3"
        },
        {
         "marker": {
          "color": "#DDCB76",
          "line": {
           "color": "gray",
           "width": 0.1
          }
         },
         "name": "physiological",
         "type": "bar",
         "x": [
          "background",
          "colon",
          "pancreas",
          "peritoneum",
          "small_bowel"
         ],
         "xaxis": "x3",
         "y": {
          "bdata": "BAMCAQQ=",
          "dtype": "i1"
         },
         "yaxis": "y3"
        },
        {
         "marker": {
          "color": "#DDCB76",
          "line": {
           "color": "gray",
           "width": 0.1
          }
         },
         "name": "physiological",
         "type": "bar",
         "x": [
          "background",
          "colon",
          "omentum",
          "pancreas",
          "peritoneum",
          "skin",
          "small_bowel"
         ],
         "xaxis": "x3",
         "y": {
          "bdata": "CgoKBQQBAw==",
          "dtype": "i1"
         },
         "yaxis": "y3"
        },
        {
         "marker": {
          "color": "#DDCB76",
          "line": {
           "color": "gray",
           "width": 0.1
          }
         },
         "name": "physiological",
         "type": "bar",
         "x": [
          "background",
          "liver",
          "omentum",
          "small_bowel"
         ],
         "xaxis": "x3",
         "y": {
          "bdata": "AgIBAg==",
          "dtype": "i1"
         },
         "yaxis": "y3"
        },
        {
         "marker": {
          "color": "#DDCB76",
          "line": {
           "color": "gray",
           "width": 0.1
          }
         },
         "name": "physiological",
         "type": "bar",
         "x": [
          "background",
          "colon",
          "liver",
          "peritoneum",
          "skin",
          "small_bowel"
         ],
         "xaxis": "x3",
         "y": {
          "bdata": "AgECAQIC",
          "dtype": "i1"
         },
         "yaxis": "y3"
        },
        {
         "marker": {
          "color": "#DDCB76",
          "line": {
           "color": "gray",
           "width": 0.1
          }
         },
         "name": "physiological",
         "type": "bar",
         "x": [
          "background",
          "colon",
          "liver",
          "omentum",
          "pancreas",
          "small_bowel"
         ],
         "xaxis": "x3",
         "y": {
          "bdata": "BAQEAQME",
          "dtype": "i1"
         },
         "yaxis": "y3"
        },
        {
         "marker": {
          "color": "#DDCB76",
          "line": {
           "color": "gray",
           "width": 0.1
          }
         },
         "name": "physiological",
         "type": "bar",
         "x": [
          "background",
          "small_bowel"
         ],
         "xaxis": "x3",
         "y": {
          "bdata": "AgI=",
          "dtype": "i1"
         },
         "yaxis": "y3"
        },
        {
         "marker": {
          "color": "#DDCB76",
          "line": {
           "color": "gray",
           "width": 0.1
          }
         },
         "name": "physiological",
         "type": "bar",
         "x": [
          "background",
          "small_bowel"
         ],
         "xaxis": "x3",
         "y": {
          "bdata": "AgI=",
          "dtype": "i1"
         },
         "yaxis": "y3"
        },
        {
         "marker": {
          "color": "#DDCB76",
          "line": {
           "color": "gray",
           "width": 0.1
          }
         },
         "name": "physiological",
         "type": "bar",
         "x": [
          "background",
          "colon",
          "omentum",
          "pancreas",
          "small_bowel"
         ],
         "xaxis": "x3",
         "y": {
          "bdata": "AgICAQI=",
          "dtype": "i1"
         },
         "yaxis": "y3"
        },
        {
         "marker": {
          "color": "#DDCB76",
          "line": {
           "color": "gray",
           "width": 0.1
          }
         },
         "name": "physiological",
         "type": "bar",
         "x": [
          "background",
          "small_bowel"
         ],
         "xaxis": "x3",
         "y": {
          "bdata": "AgI=",
          "dtype": "i1"
         },
         "yaxis": "y3"
        },
        {
         "marker": {
          "color": "#DDCB76",
          "line": {
           "color": "gray",
           "width": 0.1
          }
         },
         "name": "physiological",
         "type": "bar",
         "x": [
          "background",
          "colon",
          "liver",
          "peritoneum",
          "skin",
          "small_bowel"
         ],
         "xaxis": "x3",
         "y": {
          "bdata": "AgECAQIB",
          "dtype": "i1"
         },
         "yaxis": "y3"
        },
        {
         "marker": {
          "color": "#DDCB76",
          "line": {
           "color": "gray",
           "width": 0.1
          }
         },
         "name": "physiological",
         "type": "bar",
         "x": [
          "background",
          "colon",
          "liver",
          "omentum",
          "small_bowel"
         ],
         "xaxis": "x3",
         "y": {
          "bdata": "AgEBAgE=",
          "dtype": "i1"
         },
         "yaxis": "y3"
        },
        {
         "marker": {
          "color": "#DDCB76",
          "line": {
           "color": "gray",
           "width": 0.1
          }
         },
         "name": "physiological",
         "type": "bar",
         "x": [
          "background",
          "colon",
          "liver",
          "omentum",
          "skin"
         ],
         "xaxis": "x3",
         "y": {
          "bdata": "AgECAgI=",
          "dtype": "i1"
         },
         "yaxis": "y3"
        },
        {
         "marker": {
          "color": "#DDCB76",
          "line": {
           "color": "gray",
           "width": 0.1
          }
         },
         "name": "physiological",
         "type": "bar",
         "x": [
          "background",
          "colon",
          "liver",
          "omentum",
          "skin"
         ],
         "xaxis": "x3",
         "y": {
          "bdata": "AgECAgE=",
          "dtype": "i1"
         },
         "yaxis": "y3"
        },
        {
         "marker": {
          "color": "#DDCB76",
          "line": {
           "color": "gray",
           "width": 0.1
          }
         },
         "name": "physiological",
         "type": "bar",
         "x": [
          "background",
          "colon",
          "liver",
          "omentum",
          "spleen"
         ],
         "xaxis": "x3",
         "y": {
          "bdata": "AgECAgE=",
          "dtype": "i1"
         },
         "yaxis": "y3"
        },
        {
         "marker": {
          "color": "#DDCB76",
          "line": {
           "color": "gray",
           "width": 0.1
          }
         },
         "name": "physiological",
         "type": "bar",
         "x": [
          "background",
          "colon",
          "liver",
          "omentum",
          "skin"
         ],
         "xaxis": "x3",
         "y": {
          "bdata": "AgECAQI=",
          "dtype": "i1"
         },
         "yaxis": "y3"
        },
        {
         "marker": {
          "color": "#DDCB76",
          "line": {
           "color": "gray",
           "width": 0.1
          }
         },
         "name": "physiological",
         "type": "bar",
         "x": [
          "background",
          "colon",
          "kidney",
          "skin"
         ],
         "xaxis": "x3",
         "y": {
          "bdata": "AgECAg==",
          "dtype": "i1"
         },
         "yaxis": "y3"
        },
        {
         "marker": {
          "color": "#DDCB76",
          "line": {
           "color": "gray",
           "width": 0.1
          }
         },
         "name": "physiological",
         "type": "bar",
         "x": [
          "background",
          "colon",
          "liver",
          "omentum"
         ],
         "xaxis": "x3",
         "y": {
          "bdata": "AgICAg==",
          "dtype": "i1"
         },
         "yaxis": "y3"
        },
        {
         "marker": {
          "color": "#DDCB76",
          "line": {
           "color": "gray",
           "width": 0.1
          }
         },
         "name": "physiological",
         "type": "bar",
         "x": [
          "background",
          "colon",
          "liver",
          "peritoneum",
          "skin"
         ],
         "xaxis": "x3",
         "y": {
          "bdata": "AgECAQI=",
          "dtype": "i1"
         },
         "yaxis": "y3"
        },
        {
         "marker": {
          "color": "#DDCB76",
          "line": {
           "color": "gray",
           "width": 0.1
          }
         },
         "name": "physiological",
         "type": "bar",
         "x": [
          "background",
          "colon",
          "liver",
          "omentum"
         ],
         "xaxis": "x3",
         "y": {
          "bdata": "AwMDAw==",
          "dtype": "i1"
         },
         "yaxis": "y3"
        },
        {
         "marker": {
          "color": "#DDCB76",
          "line": {
           "color": "gray",
           "width": 0.1
          }
         },
         "name": "physiological",
         "type": "bar",
         "x": [
          "background",
          "colon",
          "liver",
          "omentum"
         ],
         "xaxis": "x3",
         "y": {
          "bdata": "AgICAQ==",
          "dtype": "i1"
         },
         "yaxis": "y3"
        },
        {
         "marker": {
          "color": "#DDCB76",
          "line": {
           "color": "gray",
           "width": 0.1
          }
         },
         "name": "physiological",
         "type": "bar",
         "x": [
          "background",
          "colon",
          "kidney",
          "omentum",
          "pancreas",
          "skin"
         ],
         "xaxis": "x3",
         "y": {
          "bdata": "AwECAQEC",
          "dtype": "i1"
         },
         "yaxis": "y3"
        },
        {
         "marker": {
          "color": "#DDCB76",
          "line": {
           "color": "gray",
           "width": 0.1
          }
         },
         "name": "physiological",
         "type": "bar",
         "x": [
          "background",
          "liver",
          "peritoneum",
          "skin"
         ],
         "xaxis": "x3",
         "y": {
          "bdata": "AgIBAQ==",
          "dtype": "i1"
         },
         "yaxis": "y3"
        },
        {
         "marker": {
          "color": "#DDCB76",
          "line": {
           "color": "gray",
           "width": 0.1
          }
         },
         "name": "physiological",
         "type": "bar",
         "x": [
          "background",
          "liver",
          "skin"
         ],
         "xaxis": "x3",
         "y": {
          "bdata": "AgEB",
          "dtype": "i1"
         },
         "yaxis": "y3"
        },
        {
         "marker": {
          "color": "#DDCB76",
          "line": {
           "color": "gray",
           "width": 0.1
          }
         },
         "name": "physiological",
         "type": "bar",
         "x": [
          "background",
          "liver",
          "omentum",
          "skin"
         ],
         "xaxis": "x3",
         "y": {
          "bdata": "AgICAg==",
          "dtype": "i1"
         },
         "yaxis": "y3"
        },
        {
         "marker": {
          "color": "#DDCB76",
          "line": {
           "color": "gray",
           "width": 0.1
          }
         },
         "name": "physiological",
         "type": "bar",
         "x": [
          "background",
          "liver",
          "peritoneum"
         ],
         "xaxis": "x3",
         "y": {
          "bdata": "AwED",
          "dtype": "i1"
         },
         "yaxis": "y3"
        },
        {
         "marker": {
          "color": "#DDCB76",
          "line": {
           "color": "gray",
           "width": 0.1
          }
         },
         "name": "physiological",
         "type": "bar",
         "x": [
          "background",
          "kidney",
          "skin"
         ],
         "xaxis": "x3",
         "y": {
          "bdata": "AgEC",
          "dtype": "i1"
         },
         "yaxis": "y3"
        },
        {
         "marker": {
          "color": "#DDCB76",
          "line": {
           "color": "gray",
           "width": 0.1
          }
         },
         "name": "physiological",
         "type": "bar",
         "x": [
          "background",
          "kidney",
          "peritoneum",
          "skin"
         ],
         "xaxis": "x3",
         "y": {
          "bdata": "BwcHBw==",
          "dtype": "i1"
         },
         "yaxis": "y3"
        },
        {
         "marker": {
          "color": "#DDCB76",
          "line": {
           "color": "gray",
           "width": 0.1
          }
         },
         "name": "physiological",
         "type": "bar",
         "x": [
          "background",
          "kidney",
          "skin"
         ],
         "xaxis": "x3",
         "y": {
          "bdata": "AgIC",
          "dtype": "i1"
         },
         "yaxis": "y3"
        },
        {
         "marker": {
          "color": "#DDCB76",
          "line": {
           "color": "gray",
           "width": 0.1
          }
         },
         "name": "physiological",
         "type": "bar",
         "x": [
          "background",
          "kidney",
          "peritoneum",
          "skin"
         ],
         "xaxis": "x3",
         "y": {
          "bdata": "AgIBAg==",
          "dtype": "i1"
         },
         "yaxis": "y3"
        },
        {
         "marker": {
          "color": "#DDCB76",
          "line": {
           "color": "gray",
           "width": 0.1
          }
         },
         "name": "physiological",
         "type": "bar",
         "x": [
          "background",
          "kidney",
          "peritoneum",
          "skin"
         ],
         "xaxis": "x3",
         "y": {
          "bdata": "BQUFBQ==",
          "dtype": "i1"
         },
         "yaxis": "y3"
        },
        {
         "marker": {
          "color": "#DDCB76",
          "line": {
           "color": "gray",
           "width": 0.1
          }
         },
         "name": "physiological",
         "type": "bar",
         "x": [
          "background",
          "kidney",
          "peritoneum",
          "skin"
         ],
         "xaxis": "x3",
         "y": {
          "bdata": "BAQEBA==",
          "dtype": "i1"
         },
         "yaxis": "y3"
        },
        {
         "marker": {
          "color": "#DDCB76",
          "line": {
           "color": "gray",
           "width": 0.1
          }
         },
         "name": "physiological",
         "type": "bar",
         "x": [
          "background",
          "kidney",
          "peritoneum",
          "skin"
         ],
         "xaxis": "x3",
         "y": {
          "bdata": "BQUDBQ==",
          "dtype": "i1"
         },
         "yaxis": "y3"
        },
        {
         "marker": {
          "color": "#DDCB76",
          "line": {
           "color": "gray",
           "width": 0.1
          }
         },
         "name": "physiological",
         "type": "bar",
         "x": [
          "background",
          "kidney",
          "skin"
         ],
         "xaxis": "x3",
         "y": {
          "bdata": "AgIC",
          "dtype": "i1"
         },
         "yaxis": "y3"
        },
        {
         "marker": {
          "color": "#DDCB76",
          "line": {
           "color": "gray",
           "width": 0.1
          }
         },
         "name": "physiological",
         "type": "bar",
         "x": [
          "background",
          "kidney",
          "skin"
         ],
         "xaxis": "x3",
         "y": {
          "bdata": "AgEC",
          "dtype": "i1"
         },
         "yaxis": "y3"
        },
        {
         "marker": {
          "color": "#DDCB76",
          "line": {
           "color": "gray",
           "width": 0.1
          }
         },
         "name": "physiological",
         "type": "bar",
         "x": [
          "background",
          "kidney",
          "peritoneum",
          "skin"
         ],
         "xaxis": "x3",
         "y": {
          "bdata": "CwsGCg==",
          "dtype": "i1"
         },
         "yaxis": "y3"
        },
        {
         "marker": {
          "color": "#DDCB76",
          "line": {
           "color": "gray",
           "width": 0.1
          }
         },
         "name": "physiological",
         "type": "bar",
         "x": [
          "background",
          "kidney",
          "peritoneum",
          "skin"
         ],
         "xaxis": "x3",
         "y": {
          "bdata": "BAQEBA==",
          "dtype": "i1"
         },
         "yaxis": "y3"
        },
        {
         "marker": {
          "color": "#DDCB76",
          "line": {
           "color": "gray",
           "width": 0.1
          }
         },
         "name": "physiological",
         "type": "bar",
         "x": [
          "background",
          "kidney",
          "peritoneum",
          "skin"
         ],
         "xaxis": "x3",
         "y": {
          "bdata": "BQUEBQ==",
          "dtype": "i1"
         },
         "yaxis": "y3"
        },
        {
         "marker": {
          "color": "#DDCB76",
          "line": {
           "color": "gray",
           "width": 0.1
          }
         },
         "name": "physiological",
         "type": "bar",
         "x": [
          "background",
          "kidney",
          "skin"
         ],
         "xaxis": "x3",
         "y": {
          "bdata": "AgIC",
          "dtype": "i1"
         },
         "yaxis": "y3"
        },
        {
         "marker": {
          "color": "#DDCB76",
          "line": {
           "color": "gray",
           "width": 0.1
          }
         },
         "name": "physiological",
         "type": "bar",
         "x": [
          "background",
          "kidney",
          "peritoneum",
          "skin"
         ],
         "xaxis": "x3",
         "y": {
          "bdata": "AwMBAw==",
          "dtype": "i1"
         },
         "yaxis": "y3"
        },
        {
         "marker": {
          "color": "#DDCB76",
          "line": {
           "color": "gray",
           "width": 0.1
          }
         },
         "name": "physiological",
         "type": "bar",
         "x": [
          "background",
          "kidney",
          "skin"
         ],
         "xaxis": "x3",
         "y": {
          "bdata": "BQUF",
          "dtype": "i1"
         },
         "yaxis": "y3"
        },
        {
         "marker": {
          "color": "#DDCB76",
          "line": {
           "color": "gray",
           "width": 0.1
          }
         },
         "name": "physiological",
         "type": "bar",
         "x": [
          "background",
          "kidney",
          "peritoneum",
          "skin"
         ],
         "xaxis": "x3",
         "y": {
          "bdata": "AgIBAQ==",
          "dtype": "i1"
         },
         "yaxis": "y3"
        },
        {
         "marker": {
          "color": "#DDCB76",
          "line": {
           "color": "gray",
           "width": 0.1
          }
         },
         "name": "physiological",
         "type": "bar",
         "x": [
          "background",
          "kidney",
          "peritoneum",
          "skin"
         ],
         "xaxis": "x3",
         "y": {
          "bdata": "AgIBAg==",
          "dtype": "i1"
         },
         "yaxis": "y3"
        },
        {
         "marker": {
          "color": "#DDCB76",
          "line": {
           "color": "gray",
           "width": 0.1
          }
         },
         "name": "physiological",
         "type": "bar",
         "x": [
          "background",
          "kidney",
          "skin"
         ],
         "xaxis": "x3",
         "y": {
          "bdata": "AQEB",
          "dtype": "i1"
         },
         "yaxis": "y3"
        },
        {
         "marker": {
          "color": "#DDCB76",
          "line": {
           "color": "gray",
           "width": 0.1
          }
         },
         "name": "physiological",
         "type": "bar",
         "x": [
          "background",
          "kidney",
          "peritoneum",
          "skin"
         ],
         "xaxis": "x3",
         "y": {
          "bdata": "BAQDBA==",
          "dtype": "i1"
         },
         "yaxis": "y3"
        },
        {
         "marker": {
          "color": "#DDCB76",
          "line": {
           "color": "gray",
           "width": 0.1
          }
         },
         "name": "physiological",
         "type": "bar",
         "x": [
          "background",
          "kidney",
          "skin"
         ],
         "xaxis": "x3",
         "y": {
          "bdata": "AgIC",
          "dtype": "i1"
         },
         "yaxis": "y3"
        },
        {
         "marker": {
          "color": "#DDCB76",
          "line": {
           "color": "gray",
           "width": 0.1
          }
         },
         "name": "physiological",
         "type": "bar",
         "x": [
          "background",
          "kidney",
          "skin"
         ],
         "xaxis": "x3",
         "y": {
          "bdata": "AgIC",
          "dtype": "i1"
         },
         "yaxis": "y3"
        },
        {
         "marker": {
          "color": "#DDCB76",
          "line": {
           "color": "gray",
           "width": 0.1
          }
         },
         "name": "physiological",
         "type": "bar",
         "x": [
          "background",
          "kidney",
          "peritoneum",
          "skin"
         ],
         "xaxis": "x3",
         "y": {
          "bdata": "AgICAg==",
          "dtype": "i1"
         },
         "yaxis": "y3"
        },
        {
         "marker": {
          "color": "#DDCB76",
          "line": {
           "color": "gray",
           "width": 0.1
          }
         },
         "name": "physiological",
         "type": "bar",
         "x": [
          "background",
          "kidney",
          "skin"
         ],
         "xaxis": "x3",
         "y": {
          "bdata": "AQEB",
          "dtype": "i1"
         },
         "yaxis": "y3"
        },
        {
         "marker": {
          "color": "#DDCB76",
          "line": {
           "color": "gray",
           "width": 0.1
          }
         },
         "name": "physiological",
         "type": "bar",
         "x": [
          "background",
          "kidney",
          "skin"
         ],
         "xaxis": "x3",
         "y": {
          "bdata": "AgIC",
          "dtype": "i1"
         },
         "yaxis": "y3"
        },
        {
         "marker": {
          "color": "#DDCB76",
          "line": {
           "color": "gray",
           "width": 0.1
          }
         },
         "name": "physiological",
         "type": "bar",
         "x": [
          "background",
          "kidney",
          "skin"
         ],
         "xaxis": "x3",
         "y": {
          "bdata": "AgIC",
          "dtype": "i1"
         },
         "yaxis": "y3"
        },
        {
         "marker": {
          "color": "#DDCB76",
          "line": {
           "color": "gray",
           "width": 0.1
          }
         },
         "name": "physiological",
         "type": "bar",
         "x": [
          "background",
          "kidney",
          "skin"
         ],
         "xaxis": "x3",
         "y": {
          "bdata": "AgIC",
          "dtype": "i1"
         },
         "yaxis": "y3"
        },
        {
         "marker": {
          "color": "#DDCB76",
          "line": {
           "color": "gray",
           "width": 0.1
          }
         },
         "name": "physiological",
         "type": "bar",
         "x": [
          "background",
          "kidney",
          "skin"
         ],
         "xaxis": "x3",
         "y": {
          "bdata": "AgIC",
          "dtype": "i1"
         },
         "yaxis": "y3"
        },
        {
         "marker": {
          "color": "#DDCB76",
          "line": {
           "color": "gray",
           "width": 0.1
          }
         },
         "name": "physiological",
         "type": "bar",
         "x": [
          "background",
          "kidney",
          "skin"
         ],
         "xaxis": "x3",
         "y": {
          "bdata": "AgIC",
          "dtype": "i1"
         },
         "yaxis": "y3"
        },
        {
         "marker": {
          "color": "#DDCB76",
          "line": {
           "color": "gray",
           "width": 0.1
          }
         },
         "name": "physiological",
         "type": "bar",
         "x": [
          "background",
          "kidney",
          "skin"
         ],
         "xaxis": "x3",
         "y": {
          "bdata": "AgIC",
          "dtype": "i1"
         },
         "yaxis": "y3"
        },
        {
         "marker": {
          "color": "#DDCB76",
          "line": {
           "color": "gray",
           "width": 0.1
          }
         },
         "name": "physiological",
         "type": "bar",
         "x": [
          "background",
          "skin"
         ],
         "xaxis": "x3",
         "y": {
          "bdata": "AgI=",
          "dtype": "i1"
         },
         "yaxis": "y3"
        },
        {
         "marker": {
          "color": "#DDCB76",
          "line": {
           "color": "gray",
           "width": 0.1
          }
         },
         "name": "physiological",
         "type": "bar",
         "x": [
          "background",
          "skin"
         ],
         "xaxis": "x3",
         "y": {
          "bdata": "AgI=",
          "dtype": "i1"
         },
         "yaxis": "y3"
        },
        {
         "marker": {
          "color": "#DDCB76",
          "line": {
           "color": "gray",
           "width": 0.1
          }
         },
         "name": "physiological",
         "type": "bar",
         "x": [
          "background",
          "skin"
         ],
         "xaxis": "x3",
         "y": {
          "bdata": "AgI=",
          "dtype": "i1"
         },
         "yaxis": "y3"
        },
        {
         "marker": {
          "color": "#DDCB76",
          "line": {
           "color": "gray",
           "width": 0.1
          }
         },
         "name": "physiological",
         "type": "bar",
         "x": [
          "background",
          "skin"
         ],
         "xaxis": "x3",
         "y": {
          "bdata": "AgI=",
          "dtype": "i1"
         },
         "yaxis": "y3"
        },
        {
         "marker": {
          "color": "#DDCB76",
          "line": {
           "color": "gray",
           "width": 0.1
          }
         },
         "name": "physiological",
         "type": "bar",
         "x": [
          "background",
          "skin"
         ],
         "xaxis": "x3",
         "y": {
          "bdata": "AgI=",
          "dtype": "i1"
         },
         "yaxis": "y3"
        },
        {
         "marker": {
          "color": "#DDCB76",
          "line": {
           "color": "gray",
           "width": 0.1
          }
         },
         "name": "physiological",
         "type": "bar",
         "x": [
          "background",
          "skin"
         ],
         "xaxis": "x3",
         "y": {
          "bdata": "AgI=",
          "dtype": "i1"
         },
         "yaxis": "y3"
        },
        {
         "marker": {
          "color": "#DDCB76",
          "line": {
           "color": "gray",
           "width": 0.1
          }
         },
         "name": "physiological",
         "type": "bar",
         "x": [
          "background",
          "skin"
         ],
         "xaxis": "x3",
         "y": {
          "bdata": "AgI=",
          "dtype": "i1"
         },
         "yaxis": "y3"
        },
        {
         "marker": {
          "color": "#DDCB76",
          "line": {
           "color": "gray",
           "width": 0.1
          }
         },
         "name": "physiological",
         "type": "bar",
         "x": [
          "background",
          "skin"
         ],
         "xaxis": "x3",
         "y": {
          "bdata": "AgI=",
          "dtype": "i1"
         },
         "yaxis": "y3"
        },
        {
         "marker": {
          "color": "#DDCB76",
          "line": {
           "color": "gray",
           "width": 0.1
          }
         },
         "name": "physiological",
         "type": "bar",
         "x": [
          "background",
          "skin"
         ],
         "xaxis": "x3",
         "y": {
          "bdata": "AgI=",
          "dtype": "i1"
         },
         "yaxis": "y3"
        },
        {
         "marker": {
          "color": "#DDCB76",
          "line": {
           "color": "gray",
           "width": 0.1
          }
         },
         "name": "physiological",
         "type": "bar",
         "x": [
          "background",
          "skin"
         ],
         "xaxis": "x3",
         "y": {
          "bdata": "AgI=",
          "dtype": "i1"
         },
         "yaxis": "y3"
        },
        {
         "marker": {
          "color": "#DDCB76",
          "line": {
           "color": "gray",
           "width": 0.1
          }
         },
         "name": "unclear",
         "type": "bar",
         "x": [
          "kidney"
         ],
         "xaxis": "x3",
         "y": {
          "bdata": "AQ==",
          "dtype": "i1"
         },
         "yaxis": "y3"
        },
        {
         "marker": {
          "color": "#DDCB76",
          "line": {
           "color": "gray",
           "width": 0.1
          }
         },
         "name": "unclear",
         "type": "bar",
         "x": [
          "kidney"
         ],
         "xaxis": "x3",
         "y": {
          "bdata": "Cw==",
          "dtype": "i1"
         },
         "yaxis": "y3"
        },
        {
         "marker": {
          "color": "#DDCB76",
          "line": {
           "color": "gray",
           "width": 0.1
          }
         },
         "name": "unclear",
         "type": "bar",
         "x": [
          "kidney"
         ],
         "xaxis": "x3",
         "y": {
          "bdata": "Ag==",
          "dtype": "i1"
         },
         "yaxis": "y3"
        },
        {
         "marker": {
          "color": "#DDCB76",
          "line": {
           "color": "gray",
           "width": 0.1
          }
         },
         "name": "unclear",
         "type": "bar",
         "x": [
          "kidney"
         ],
         "xaxis": "x3",
         "y": {
          "bdata": "Ag==",
          "dtype": "i1"
         },
         "yaxis": "y3"
        },
        {
         "marker": {
          "color": "#DDCB76",
          "line": {
           "color": "gray",
           "width": 0.1
          }
         },
         "name": "unclear",
         "type": "bar",
         "x": [
          "kidney"
         ],
         "xaxis": "x3",
         "y": {
          "bdata": "AQ==",
          "dtype": "i1"
         },
         "yaxis": "y3"
        },
        {
         "marker": {
          "color": "#DDCB76",
          "line": {
           "color": "gray",
           "width": 0.1
          }
         },
         "name": "unclear",
         "type": "bar",
         "x": [
          "kidney"
         ],
         "xaxis": "x3",
         "y": {
          "bdata": "BQ==",
          "dtype": "i1"
         },
         "yaxis": "y3"
        },
        {
         "marker": {
          "color": "#DDCB76",
          "line": {
           "color": "gray",
           "width": 0.1
          }
         },
         "name": "unclear",
         "type": "bar",
         "x": [
          "kidney"
         ],
         "xaxis": "x3",
         "y": {
          "bdata": "Ag==",
          "dtype": "i1"
         },
         "yaxis": "y3"
        },
        {
         "marker": {
          "color": "#DDCB76",
          "line": {
           "color": "gray",
           "width": 0.1
          }
         },
         "name": "unclear",
         "type": "bar",
         "x": [
          "kidney"
         ],
         "xaxis": "x3",
         "y": {
          "bdata": "AQ==",
          "dtype": "i1"
         },
         "yaxis": "y3"
        },
        {
         "marker": {
          "color": "#DDCB76",
          "line": {
           "color": "gray",
           "width": 0.1
          }
         },
         "name": "unclear",
         "type": "bar",
         "x": [
          "kidney"
         ],
         "xaxis": "x3",
         "y": {
          "bdata": "Ag==",
          "dtype": "i1"
         },
         "yaxis": "y3"
        },
        {
         "marker": {
          "color": "#DDCB76",
          "line": {
           "color": "gray",
           "width": 0.1
          }
         },
         "name": "unclear",
         "type": "bar",
         "x": [
          "kidney"
         ],
         "xaxis": "x3",
         "y": {
          "bdata": "Aw==",
          "dtype": "i1"
         },
         "yaxis": "y3"
        },
        {
         "marker": {
          "color": "#DDCB76",
          "line": {
           "color": "gray",
           "width": 0.1
          }
         },
         "name": "unclear",
         "type": "bar",
         "x": [
          "kidney"
         ],
         "xaxis": "x3",
         "y": {
          "bdata": "BA==",
          "dtype": "i1"
         },
         "yaxis": "y3"
        },
        {
         "marker": {
          "color": "#DDCB76",
          "line": {
           "color": "gray",
           "width": 0.1
          }
         },
         "name": "unclear",
         "type": "bar",
         "x": [
          "kidney"
         ],
         "xaxis": "x3",
         "y": {
          "bdata": "AQ==",
          "dtype": "i1"
         },
         "yaxis": "y3"
        },
        {
         "marker": {
          "color": "#DDCB76",
          "line": {
           "color": "gray",
           "width": 0.1
          }
         },
         "name": "unclear",
         "type": "bar",
         "x": [
          "kidney"
         ],
         "xaxis": "x3",
         "y": {
          "bdata": "AQ==",
          "dtype": "i1"
         },
         "yaxis": "y3"
        },
        {
         "marker": {
          "color": "#F8F5E4",
          "line": {
           "color": "gray",
           "width": 0.1
          }
         },
         "name": "malperfused",
         "type": "bar",
         "x": [
          "colon",
          "spleen"
         ],
         "xaxis": "x3",
         "y": {
          "bdata": "FQw=",
          "dtype": "i1"
         },
         "yaxis": "y3"
        },
        {
         "marker": {
          "color": "#F8F5E4",
          "line": {
           "color": "gray",
           "width": 0.1
          }
         },
         "name": "malperfused",
         "type": "bar",
         "x": [
          "colon",
          "spleen"
         ],
         "xaxis": "x3",
         "y": {
          "bdata": "EQ0=",
          "dtype": "i1"
         },
         "yaxis": "y3"
        },
        {
         "marker": {
          "color": "#F8F5E4",
          "line": {
           "color": "gray",
           "width": 0.1
          }
         },
         "name": "malperfused",
         "type": "bar",
         "x": [
          "colon"
         ],
         "xaxis": "x3",
         "y": {
          "bdata": "HA==",
          "dtype": "i1"
         },
         "yaxis": "y3"
        },
        {
         "marker": {
          "color": "#F8F5E4",
          "line": {
           "color": "gray",
           "width": 0.1
          }
         },
         "name": "malperfused",
         "type": "bar",
         "x": [
          "liver",
          "spleen"
         ],
         "xaxis": "x3",
         "y": {
          "bdata": "BQ8=",
          "dtype": "i1"
         },
         "yaxis": "y3"
        },
        {
         "marker": {
          "color": "#F8F5E4",
          "line": {
           "color": "gray",
           "width": 0.1
          }
         },
         "name": "malperfused",
         "type": "bar",
         "x": [
          "liver"
         ],
         "xaxis": "x3",
         "y": {
          "bdata": "Bw==",
          "dtype": "i1"
         },
         "yaxis": "y3"
        },
        {
         "marker": {
          "color": "#F8F5E4",
          "line": {
           "color": "gray",
           "width": 0.1
          }
         },
         "name": "malperfused",
         "type": "bar",
         "x": [
          "liver"
         ],
         "xaxis": "x3",
         "y": {
          "bdata": "Cg==",
          "dtype": "i1"
         },
         "yaxis": "y3"
        },
        {
         "marker": {
          "color": "#F8F5E4",
          "line": {
           "color": "gray",
           "width": 0.1
          }
         },
         "name": "malperfused",
         "type": "bar",
         "x": [
          "liver"
         ],
         "xaxis": "x3",
         "y": {
          "bdata": "Bw==",
          "dtype": "i1"
         },
         "yaxis": "y3"
        },
        {
         "marker": {
          "color": "#F8F5E4",
          "line": {
           "color": "gray",
           "width": 0.1
          }
         },
         "name": "malperfused",
         "type": "bar",
         "x": [
          "liver"
         ],
         "xaxis": "x3",
         "y": {
          "bdata": "Ag==",
          "dtype": "i1"
         },
         "yaxis": "y3"
        },
        {
         "marker": {
          "color": "#F8F5E4",
          "line": {
           "color": "gray",
           "width": 0.1
          }
         },
         "name": "malperfused",
         "type": "bar",
         "x": [
          "liver"
         ],
         "xaxis": "x3",
         "y": {
          "bdata": "GA==",
          "dtype": "i1"
         },
         "yaxis": "y3"
        },
        {
         "marker": {
          "color": "#F8F5E4",
          "line": {
           "color": "gray",
           "width": 0.1
          }
         },
         "name": "malperfused",
         "type": "bar",
         "x": [
          "liver"
         ],
         "xaxis": "x3",
         "y": {
          "bdata": "Dw==",
          "dtype": "i1"
         },
         "yaxis": "y3"
        },
        {
         "marker": {
          "color": "#F8F5E4",
          "line": {
           "color": "gray",
           "width": 0.1
          }
         },
         "name": "malperfused",
         "type": "bar",
         "x": [
          "liver"
         ],
         "xaxis": "x3",
         "y": {
          "bdata": "HA==",
          "dtype": "i1"
         },
         "yaxis": "y3"
        },
        {
         "marker": {
          "color": "#F8F5E4",
          "line": {
           "color": "gray",
           "width": 0.1
          }
         },
         "name": "malperfused",
         "type": "bar",
         "x": [
          "liver"
         ],
         "xaxis": "x3",
         "y": {
          "bdata": "JA==",
          "dtype": "i1"
         },
         "yaxis": "y3"
        },
        {
         "marker": {
          "color": "#F8F5E4",
          "line": {
           "color": "gray",
           "width": 0.1
          }
         },
         "name": "malperfused",
         "type": "bar",
         "x": [
          "liver"
         ],
         "xaxis": "x3",
         "y": {
          "bdata": "Eg==",
          "dtype": "i1"
         },
         "yaxis": "y3"
        },
        {
         "marker": {
          "color": "#F8F5E4",
          "line": {
           "color": "gray",
           "width": 0.1
          }
         },
         "name": "malperfused",
         "type": "bar",
         "x": [
          "liver"
         ],
         "xaxis": "x3",
         "y": {
          "bdata": "DA==",
          "dtype": "i1"
         },
         "yaxis": "y3"
        },
        {
         "marker": {
          "color": "#F8F5E4",
          "line": {
           "color": "gray",
           "width": 0.1
          }
         },
         "name": "malperfused",
         "type": "bar",
         "x": [
          "liver"
         ],
         "xaxis": "x3",
         "y": {
          "bdata": "EA==",
          "dtype": "i1"
         },
         "yaxis": "y3"
        },
        {
         "marker": {
          "color": "#F8F5E4",
          "line": {
           "color": "gray",
           "width": 0.1
          }
         },
         "name": "malperfused",
         "type": "bar",
         "x": [
          "liver"
         ],
         "xaxis": "x3",
         "y": {
          "bdata": "EA==",
          "dtype": "i1"
         },
         "yaxis": "y3"
        },
        {
         "marker": {
          "color": "#F8F5E4",
          "line": {
           "color": "gray",
           "width": 0.1
          }
         },
         "name": "malperfused",
         "type": "bar",
         "x": [
          "liver"
         ],
         "xaxis": "x3",
         "y": {
          "bdata": "Cg==",
          "dtype": "i1"
         },
         "yaxis": "y3"
        },
        {
         "marker": {
          "color": "#F8F5E4",
          "line": {
           "color": "gray",
           "width": 0.1
          }
         },
         "name": "malperfused",
         "type": "bar",
         "x": [
          "kidney"
         ],
         "xaxis": "x3",
         "y": {
          "bdata": "DQ==",
          "dtype": "i1"
         },
         "yaxis": "y3"
        },
        {
         "marker": {
          "color": "#F8F5E4",
          "line": {
           "color": "gray",
           "width": 0.1
          }
         },
         "name": "malperfused",
         "type": "bar",
         "x": [
          "kidney"
         ],
         "xaxis": "x3",
         "y": {
          "bdata": "BQ==",
          "dtype": "i1"
         },
         "yaxis": "y3"
        },
        {
         "marker": {
          "color": "#F8F5E4",
          "line": {
           "color": "gray",
           "width": 0.1
          }
         },
         "name": "malperfused",
         "type": "bar",
         "x": [
          "kidney"
         ],
         "xaxis": "x3",
         "y": {
          "bdata": "BA==",
          "dtype": "i1"
         },
         "yaxis": "y3"
        },
        {
         "marker": {
          "color": "#F8F5E4",
          "line": {
           "color": "gray",
           "width": 0.1
          }
         },
         "name": "malperfused",
         "type": "bar",
         "x": [
          "kidney"
         ],
         "xaxis": "x3",
         "y": {
          "bdata": "BA==",
          "dtype": "i1"
         },
         "yaxis": "y3"
        },
        {
         "marker": {
          "color": "#F8F5E4",
          "line": {
           "color": "gray",
           "width": 0.1
          }
         },
         "name": "malperfused",
         "type": "bar",
         "x": [
          "kidney"
         ],
         "xaxis": "x3",
         "y": {
          "bdata": "BQ==",
          "dtype": "i1"
         },
         "yaxis": "y3"
        },
        {
         "marker": {
          "color": "#F8F5E4",
          "line": {
           "color": "gray",
           "width": 0.1
          }
         },
         "name": "malperfused",
         "type": "bar",
         "x": [
          "kidney"
         ],
         "xaxis": "x3",
         "y": {
          "bdata": "Aw==",
          "dtype": "i1"
         },
         "yaxis": "y3"
        },
        {
         "marker": {
          "color": "#F8F5E4",
          "line": {
           "color": "gray",
           "width": 0.1
          }
         },
         "name": "malperfused",
         "type": "bar",
         "x": [
          "spleen"
         ],
         "xaxis": "x3",
         "y": {
          "bdata": "Ag==",
          "dtype": "i1"
         },
         "yaxis": "y3"
        },
        {
         "marker": {
          "color": "#F8F5E4",
          "line": {
           "color": "gray",
           "width": 0.1
          }
         },
         "name": "malperfused",
         "type": "bar",
         "x": [
          "spleen"
         ],
         "xaxis": "x3",
         "y": {
          "bdata": "FA==",
          "dtype": "i1"
         },
         "yaxis": "y3"
        },
        {
         "marker": {
          "color": "#F8F5E4",
          "line": {
           "color": "gray",
           "width": 0.1
          }
         },
         "name": "malperfused",
         "type": "bar",
         "x": [
          "spleen"
         ],
         "xaxis": "x3",
         "y": {
          "bdata": "MQ==",
          "dtype": "i1"
         },
         "yaxis": "y3"
        },
        {
         "marker": {
          "color": "#F8F5E4",
          "line": {
           "color": "gray",
           "width": 0.1
          }
         },
         "name": "malperfused",
         "type": "bar",
         "x": [
          "spleen"
         ],
         "xaxis": "x3",
         "y": {
          "bdata": "Eg==",
          "dtype": "i1"
         },
         "yaxis": "y3"
        },
        {
         "marker": {
          "color": "#F8F5E4",
          "line": {
           "color": "gray",
           "width": 0.1
          }
         },
         "name": "malperfused",
         "type": "bar",
         "x": [
          "spleen"
         ],
         "xaxis": "x3",
         "y": {
          "bdata": "Ig==",
          "dtype": "i1"
         },
         "yaxis": "y3"
        },
        {
         "marker": {
          "color": "#F8F5E4",
          "line": {
           "color": "gray",
           "width": 0.1
          }
         },
         "name": "malperfused",
         "type": "bar",
         "x": [
          "spleen"
         ],
         "xaxis": "x3",
         "y": {
          "bdata": "Ew==",
          "dtype": "i1"
         },
         "yaxis": "y3"
        },
        {
         "marker": {
          "color": "#F8F5E4",
          "line": {
           "color": "gray",
           "width": 0.1
          }
         },
         "name": "malperfused",
         "type": "bar",
         "x": [
          "spleen"
         ],
         "xaxis": "x3",
         "y": {
          "bdata": "GQ==",
          "dtype": "i1"
         },
         "yaxis": "y3"
        },
        {
         "marker": {
          "color": "#F8F5E4",
          "line": {
           "color": "gray",
           "width": 0.1
          }
         },
         "name": "malperfused",
         "type": "bar",
         "x": [
          "spleen"
         ],
         "xaxis": "x3",
         "y": {
          "bdata": "DA==",
          "dtype": "i1"
         },
         "yaxis": "y3"
        },
        {
         "marker": {
          "color": "#F8F5E4",
          "line": {
           "color": "gray",
           "width": 0.1
          }
         },
         "name": "malperfused",
         "type": "bar",
         "x": [
          "spleen"
         ],
         "xaxis": "x3",
         "y": {
          "bdata": "DQ==",
          "dtype": "i1"
         },
         "yaxis": "y3"
        },
        {
         "marker": {
          "color": "#F8F5E4",
          "line": {
           "color": "gray",
           "width": 0.1
          }
         },
         "name": "malperfused",
         "type": "bar",
         "x": [
          "spleen"
         ],
         "xaxis": "x3",
         "y": {
          "bdata": "Dg==",
          "dtype": "i1"
         },
         "yaxis": "y3"
        },
        {
         "marker": {
          "color": "#F8F5E4",
          "line": {
           "color": "gray",
           "width": 0.1
          }
         },
         "name": "malperfused",
         "type": "bar",
         "x": [
          "spleen"
         ],
         "xaxis": "x3",
         "y": {
          "bdata": "Dw==",
          "dtype": "i1"
         },
         "yaxis": "y3"
        },
        {
         "marker": {
          "color": "#F8F5E4",
          "line": {
           "color": "gray",
           "width": 0.1
          }
         },
         "name": "malperfused",
         "type": "bar",
         "x": [
          "spleen"
         ],
         "xaxis": "x3",
         "y": {
          "bdata": "CA==",
          "dtype": "i1"
         },
         "yaxis": "y3"
        },
        {
         "marker": {
          "color": "#F8F5E4",
          "line": {
           "color": "gray",
           "width": 0.1
          }
         },
         "name": "malperfused",
         "type": "bar",
         "x": [
          "spleen"
         ],
         "xaxis": "x3",
         "y": {
          "bdata": "DA==",
          "dtype": "i1"
         },
         "yaxis": "y3"
        },
        {
         "marker": {
          "color": "#F8F5E4",
          "line": {
           "color": "gray",
           "width": 0.1
          }
         },
         "name": "malperfused",
         "type": "bar",
         "x": [
          "spleen"
         ],
         "xaxis": "x3",
         "y": {
          "bdata": "GA==",
          "dtype": "i1"
         },
         "yaxis": "y3"
        },
        {
         "marker": {
          "color": "#F8F5E4",
          "line": {
           "color": "gray",
           "width": 0.1
          }
         },
         "name": "malperfused",
         "type": "bar",
         "x": [
          "spleen"
         ],
         "xaxis": "x3",
         "y": {
          "bdata": "DQ==",
          "dtype": "i1"
         },
         "yaxis": "y3"
        },
        {
         "marker": {
          "color": "#F8F5E4",
          "line": {
           "color": "gray",
           "width": 0.1
          }
         },
         "name": "malperfused",
         "type": "bar",
         "x": [
          "spleen"
         ],
         "xaxis": "x3",
         "y": {
          "bdata": "DQ==",
          "dtype": "i1"
         },
         "yaxis": "y3"
        },
        {
         "marker": {
          "color": "#F8F5E4",
          "line": {
           "color": "gray",
           "width": 0.1
          }
         },
         "name": "malperfused",
         "type": "bar",
         "x": [
          "spleen"
         ],
         "xaxis": "x3",
         "y": {
          "bdata": "Ew==",
          "dtype": "i1"
         },
         "yaxis": "y3"
        },
        {
         "marker": {
          "color": "#F8F5E4",
          "line": {
           "color": "gray",
           "width": 0.1
          }
         },
         "name": "malperfused",
         "type": "bar",
         "x": [
          "spleen"
         ],
         "xaxis": "x3",
         "y": {
          "bdata": "Cg==",
          "dtype": "i1"
         },
         "yaxis": "y3"
        },
        {
         "marker": {
          "color": "#F8F5E4",
          "line": {
           "color": "gray",
           "width": 0.1
          }
         },
         "name": "malperfused",
         "type": "bar",
         "x": [
          "spleen"
         ],
         "xaxis": "x3",
         "y": {
          "bdata": "Dg==",
          "dtype": "i1"
         },
         "yaxis": "y3"
        },
        {
         "marker": {
          "color": "#F8F5E4",
          "line": {
           "color": "gray",
           "width": 0.1
          }
         },
         "name": "malperfused",
         "type": "bar",
         "x": [
          "spleen"
         ],
         "xaxis": "x3",
         "y": {
          "bdata": "Ew==",
          "dtype": "i1"
         },
         "yaxis": "y3"
        },
        {
         "marker": {
          "color": "#F8F5E4",
          "line": {
           "color": "gray",
           "width": 0.1
          }
         },
         "name": "malperfused",
         "type": "bar",
         "x": [
          "spleen"
         ],
         "xaxis": "x3",
         "y": {
          "bdata": "Dw==",
          "dtype": "i1"
         },
         "yaxis": "y3"
        },
        {
         "marker": {
          "color": "#F8F5E4",
          "line": {
           "color": "gray",
           "width": 0.1
          }
         },
         "name": "malperfused",
         "type": "bar",
         "x": [
          "spleen"
         ],
         "xaxis": "x3",
         "y": {
          "bdata": "DA==",
          "dtype": "i1"
         },
         "yaxis": "y3"
        },
        {
         "marker": {
          "color": "#F8F5E4",
          "line": {
           "color": "gray",
           "width": 0.1
          }
         },
         "name": "malperfused",
         "type": "bar",
         "x": [
          "spleen"
         ],
         "xaxis": "x3",
         "y": {
          "bdata": "DQ==",
          "dtype": "i1"
         },
         "yaxis": "y3"
        },
        {
         "marker": {
          "color": "#F8F5E4",
          "line": {
           "color": "gray",
           "width": 0.1
          }
         },
         "name": "malperfused",
         "type": "bar",
         "x": [
          "spleen"
         ],
         "xaxis": "x3",
         "y": {
          "bdata": "BQ==",
          "dtype": "i1"
         },
         "yaxis": "y3"
        },
        {
         "marker": {
          "color": "#F8F5E4",
          "line": {
           "color": "gray",
           "width": 0.1
          }
         },
         "name": "malperfused",
         "type": "bar",
         "x": [
          "spleen"
         ],
         "xaxis": "x3",
         "y": {
          "bdata": "EA==",
          "dtype": "i1"
         },
         "yaxis": "y3"
        },
        {
         "marker": {
          "color": "#F8F5E4",
          "line": {
           "color": "gray",
           "width": 0.1
          }
         },
         "name": "malperfused",
         "type": "bar",
         "x": [
          "spleen"
         ],
         "xaxis": "x3",
         "y": {
          "bdata": "Cg==",
          "dtype": "i1"
         },
         "yaxis": "y3"
        },
        {
         "marker": {
          "color": "#F8F5E4",
          "line": {
           "color": "gray",
           "width": 0.1
          }
         },
         "name": "malperfused",
         "type": "bar",
         "x": [
          "spleen"
         ],
         "xaxis": "x3",
         "y": {
          "bdata": "Cw==",
          "dtype": "i1"
         },
         "yaxis": "y3"
        },
        {
         "marker": {
          "color": "#F8F5E4",
          "line": {
           "color": "gray",
           "width": 0.1
          }
         },
         "name": "malperfused",
         "type": "bar",
         "x": [
          "spleen"
         ],
         "xaxis": "x3",
         "y": {
          "bdata": "CQ==",
          "dtype": "i1"
         },
         "yaxis": "y3"
        },
        {
         "marker": {
          "color": "#F8F5E4",
          "line": {
           "color": "gray",
           "width": 0.1
          }
         },
         "name": "malperfused",
         "type": "bar",
         "x": [
          "spleen"
         ],
         "xaxis": "x3",
         "y": {
          "bdata": "Cw==",
          "dtype": "i1"
         },
         "yaxis": "y3"
        },
        {
         "marker": {
          "color": "#F8F5E4",
          "line": {
           "color": "gray",
           "width": 0.1
          }
         },
         "name": "malperfused",
         "type": "bar",
         "x": [
          "spleen"
         ],
         "xaxis": "x3",
         "y": {
          "bdata": "CQ==",
          "dtype": "i1"
         },
         "yaxis": "y3"
        }
       ],
       "layout": {
        "annotations": [
         {
          "font": {
           "size": 20
          },
          "showarrow": false,
          "text": "(599; 20)",
          "x": "background",
          "xanchor": "center",
          "xref": "x",
          "y": 599,
          "yanchor": "bottom",
          "yref": "y"
         },
         {
          "font": {
           "size": 20
          },
          "showarrow": false,
          "text": "(934; 39)",
          "x": "colon",
          "xanchor": "center",
          "xref": "x",
          "y": 934,
          "yanchor": "bottom",
          "yref": "y"
         },
         {
          "font": {
           "size": 20
          },
          "showarrow": false,
          "text": "(947; 31)",
          "x": "kidney",
          "xanchor": "center",
          "xref": "x",
          "y": 947,
          "yanchor": "bottom",
          "yref": "y"
         },
         {
          "font": {
           "size": 20
          },
          "showarrow": false,
          "text": "(949; 39)",
          "x": "liver",
          "xanchor": "center",
          "xref": "x",
          "y": 949,
          "yanchor": "bottom",
          "yref": "y"
         },
         {
          "font": {
           "size": 20
          },
          "showarrow": false,
          "text": "(370; 16)",
          "x": "lung",
          "xanchor": "center",
          "xref": "x",
          "y": 370,
          "yanchor": "bottom",
          "yref": "y"
         },
         {
          "font": {
           "size": 20
          },
          "showarrow": false,
          "text": "(539; 32)",
          "x": "omentum",
          "xanchor": "center",
          "xref": "x",
          "y": 539,
          "yanchor": "bottom",
          "yref": "y"
         },
         {
          "font": {
           "size": 20
          },
          "showarrow": false,
          "text": "(402; 24)",
          "x": "pancreas",
          "xanchor": "center",
          "xref": "x",
          "y": 402,
          "yanchor": "bottom",
          "yref": "y"
         },
         {
          "font": {
           "size": 20
          },
          "showarrow": false,
          "text": "(748; 34)",
          "x": "peritoneum",
          "xanchor": "center",
          "xref": "x",
          "y": 748,
          "yanchor": "bottom",
          "yref": "y"
         },
         {
          "font": {
           "size": 20
          },
          "showarrow": false,
          "text": "(619; 27)",
          "x": "skin",
          "xanchor": "center",
          "xref": "x",
          "y": 619,
          "yanchor": "bottom",
          "yref": "y"
         },
         {
          "font": {
           "size": 20
          },
          "showarrow": false,
          "text": "(994; 39)",
          "x": "small_bowel",
          "xanchor": "center",
          "xref": "x",
          "y": 994,
          "yanchor": "bottom",
          "yref": "y"
         },
         {
          "font": {
           "size": 20
          },
          "showarrow": false,
          "text": "(737; 31)",
          "x": "spleen",
          "xanchor": "center",
          "xref": "x",
          "y": 737,
          "yanchor": "bottom",
          "yref": "y"
         },
         {
          "font": {
           "size": 20
          },
          "showarrow": false,
          "text": "(754; 42)",
          "x": "stomach",
          "xanchor": "center",
          "xref": "x",
          "y": 754,
          "yanchor": "bottom",
          "yref": "y"
         },
         {
          "font": {
           "size": 20
          },
          "showarrow": false,
          "text": "(597; 13)",
          "x": "background",
          "xanchor": "center",
          "xref": "x2",
          "y": 597,
          "yanchor": "bottom",
          "yref": "y2"
         },
         {
          "font": {
           "size": 20
          },
          "showarrow": false,
          "text": "(2,808; 30)",
          "x": "colon",
          "xanchor": "center",
          "xref": "x2",
          "y": 2808,
          "yanchor": "bottom",
          "yref": "y2"
         },
         {
          "font": {
           "size": 20
          },
          "showarrow": false,
          "text": "(3,226; 30)",
          "x": "kidney",
          "xanchor": "center",
          "xref": "x2",
          "y": 3226,
          "yanchor": "bottom",
          "yref": "y2"
         },
         {
          "font": {
           "size": 20
          },
          "showarrow": false,
          "text": "(2,913; 30)",
          "x": "liver",
          "xanchor": "center",
          "xref": "x2",
          "y": 2913,
          "yanchor": "bottom",
          "yref": "y2"
         },
         {
          "font": {
           "size": 20
          },
          "showarrow": false,
          "text": "(467; 13)",
          "x": "lung",
          "xanchor": "center",
          "xref": "x2",
          "y": 467,
          "yanchor": "bottom",
          "yref": "y2"
         },
         {
          "font": {
           "size": 20
          },
          "showarrow": false,
          "text": "(1,730; 19)",
          "x": "omentum",
          "xanchor": "center",
          "xref": "x2",
          "y": 1730,
          "yanchor": "bottom",
          "yref": "y2"
         },
         {
          "font": {
           "size": 20
          },
          "showarrow": false,
          "text": "(1,617; 19)",
          "x": "pancreas",
          "xanchor": "center",
          "xref": "x2",
          "y": 1617,
          "yanchor": "bottom",
          "yref": "y2"
         },
         {
          "font": {
           "size": 20
          },
          "showarrow": false,
          "text": "(1,999; 19)",
          "x": "peritoneum",
          "xanchor": "center",
          "xref": "x2",
          "y": 1999,
          "yanchor": "bottom",
          "yref": "y2"
         },
         {
          "font": {
           "size": 20
          },
          "showarrow": false,
          "text": "(835; 15)",
          "x": "skin",
          "xanchor": "center",
          "xref": "x2",
          "y": 835,
          "yanchor": "bottom",
          "yref": "y2"
         },
         {
          "font": {
           "size": 20
          },
          "showarrow": false,
          "text": "(1,941; 19)",
          "x": "small_bowel",
          "xanchor": "center",
          "xref": "x2",
          "y": 1941,
          "yanchor": "bottom",
          "yref": "y2"
         },
         {
          "font": {
           "size": 20
          },
          "showarrow": false,
          "text": "(1,653; 26)",
          "x": "spleen",
          "xanchor": "center",
          "xref": "x2",
          "y": 1653,
          "yanchor": "bottom",
          "yref": "y2"
         },
         {
          "font": {
           "size": 20
          },
          "showarrow": false,
          "text": "(1,747; 19)",
          "x": "stomach",
          "xanchor": "center",
          "xref": "x2",
          "y": 1747,
          "yanchor": "bottom",
          "yref": "y2"
         },
         {
          "font": {
           "size": 20
          },
          "showarrow": false,
          "text": "(792; 213)",
          "x": "background",
          "xanchor": "center",
          "xref": "x3",
          "y": 792,
          "yanchor": "bottom",
          "yref": "y3"
         },
         {
          "font": {
           "size": 20
          },
          "showarrow": false,
          "text": "(379; 126)",
          "x": "colon",
          "xanchor": "center",
          "xref": "x3",
          "y": 379,
          "yanchor": "bottom",
          "yref": "y3"
         },
         {
          "font": {
           "size": 20
          },
          "showarrow": false,
          "text": "(162; 49)",
          "x": "kidney",
          "xanchor": "center",
          "xref": "x3",
          "y": 162,
          "yanchor": "bottom",
          "yref": "y3"
         },
         {
          "font": {
           "size": 20
          },
          "showarrow": false,
          "text": "(688; 145)",
          "x": "liver",
          "xanchor": "center",
          "xref": "x3",
          "y": 688,
          "yanchor": "bottom",
          "yref": "y3"
         },
         {
          "font": {
           "size": 20
          },
          "showarrow": false,
          "text": "(56; 10)",
          "x": "lung",
          "xanchor": "center",
          "xref": "x3",
          "y": 56,
          "yanchor": "bottom",
          "yref": "y3"
         },
         {
          "font": {
           "size": 20
          },
          "showarrow": false,
          "text": "(486; 146)",
          "x": "omentum",
          "xanchor": "center",
          "xref": "x3",
          "y": 486,
          "yanchor": "bottom",
          "yref": "y3"
         },
         {
          "font": {
           "size": 20
          },
          "showarrow": false,
          "text": "(109; 41)",
          "x": "pancreas",
          "xanchor": "center",
          "xref": "x3",
          "y": 109,
          "yanchor": "bottom",
          "yref": "y3"
         },
         {
          "font": {
           "size": 20
          },
          "showarrow": false,
          "text": "(160; 51)",
          "x": "peritoneum",
          "xanchor": "center",
          "xref": "x3",
          "y": 160,
          "yanchor": "bottom",
          "yref": "y3"
         },
         {
          "font": {
           "size": 20
          },
          "showarrow": false,
          "text": "(295; 96)",
          "x": "skin",
          "xanchor": "center",
          "xref": "x3",
          "y": 295,
          "yanchor": "bottom",
          "yref": "y3"
         },
         {
          "font": {
           "size": 20
          },
          "showarrow": false,
          "text": "(352; 136)",
          "x": "small_bowel",
          "xanchor": "center",
          "xref": "x3",
          "y": 352,
          "yanchor": "bottom",
          "yref": "y3"
         },
         {
          "font": {
           "size": 20
          },
          "showarrow": false,
          "text": "(550; 45)",
          "x": "spleen",
          "xanchor": "center",
          "xref": "x3",
          "y": 550,
          "yanchor": "bottom",
          "yref": "y3"
         },
         {
          "font": {
           "size": 20
          },
          "showarrow": false,
          "text": "(322; 122)",
          "x": "stomach",
          "xanchor": "center",
          "xref": "x3",
          "y": 322,
          "yanchor": "bottom",
          "yref": "y3"
         }
        ],
        "barmode": "stack",
        "font": {
         "family": "Libertinus Sans",
         "size": 16
        },
        "height": 1200,
        "showlegend": false,
        "template": {
         "data": {
          "bar": [
           {
            "error_x": {
             "color": "#2a3f5f"
            },
            "error_y": {
             "color": "#2a3f5f"
            },
            "marker": {
             "line": {
              "color": "white",
              "width": 0.5
             },
             "pattern": {
              "fillmode": "overlay",
              "size": 10,
              "solidity": 0.2
             }
            },
            "type": "bar"
           }
          ],
          "barpolar": [
           {
            "marker": {
             "line": {
              "color": "white",
              "width": 0.5
             },
             "pattern": {
              "fillmode": "overlay",
              "size": 10,
              "solidity": 0.2
             }
            },
            "type": "barpolar"
           }
          ],
          "carpet": [
           {
            "aaxis": {
             "endlinecolor": "#2a3f5f",
             "gridcolor": "#C8D4E3",
             "linecolor": "#C8D4E3",
             "minorgridcolor": "#C8D4E3",
             "startlinecolor": "#2a3f5f"
            },
            "baxis": {
             "endlinecolor": "#2a3f5f",
             "gridcolor": "#C8D4E3",
             "linecolor": "#C8D4E3",
             "minorgridcolor": "#C8D4E3",
             "startlinecolor": "#2a3f5f"
            },
            "type": "carpet"
           }
          ],
          "choropleth": [
           {
            "colorbar": {
             "outlinewidth": 0,
             "ticks": ""
            },
            "type": "choropleth"
           }
          ],
          "contour": [
           {
            "colorbar": {
             "outlinewidth": 0,
             "ticks": ""
            },
            "colorscale": [
             [
              0,
              "#0d0887"
             ],
             [
              0.1111111111111111,
              "#46039f"
             ],
             [
              0.2222222222222222,
              "#7201a8"
             ],
             [
              0.3333333333333333,
              "#9c179e"
             ],
             [
              0.4444444444444444,
              "#bd3786"
             ],
             [
              0.5555555555555556,
              "#d8576b"
             ],
             [
              0.6666666666666666,
              "#ed7953"
             ],
             [
              0.7777777777777778,
              "#fb9f3a"
             ],
             [
              0.8888888888888888,
              "#fdca26"
             ],
             [
              1,
              "#f0f921"
             ]
            ],
            "type": "contour"
           }
          ],
          "contourcarpet": [
           {
            "colorbar": {
             "outlinewidth": 0,
             "ticks": ""
            },
            "type": "contourcarpet"
           }
          ],
          "heatmap": [
           {
            "colorbar": {
             "outlinewidth": 0,
             "ticks": ""
            },
            "colorscale": [
             [
              0,
              "#0d0887"
             ],
             [
              0.1111111111111111,
              "#46039f"
             ],
             [
              0.2222222222222222,
              "#7201a8"
             ],
             [
              0.3333333333333333,
              "#9c179e"
             ],
             [
              0.4444444444444444,
              "#bd3786"
             ],
             [
              0.5555555555555556,
              "#d8576b"
             ],
             [
              0.6666666666666666,
              "#ed7953"
             ],
             [
              0.7777777777777778,
              "#fb9f3a"
             ],
             [
              0.8888888888888888,
              "#fdca26"
             ],
             [
              1,
              "#f0f921"
             ]
            ],
            "type": "heatmap"
           }
          ],
          "histogram": [
           {
            "marker": {
             "pattern": {
              "fillmode": "overlay",
              "size": 10,
              "solidity": 0.2
             }
            },
            "type": "histogram"
           }
          ],
          "histogram2d": [
           {
            "colorbar": {
             "outlinewidth": 0,
             "ticks": ""
            },
            "colorscale": [
             [
              0,
              "#0d0887"
             ],
             [
              0.1111111111111111,
              "#46039f"
             ],
             [
              0.2222222222222222,
              "#7201a8"
             ],
             [
              0.3333333333333333,
              "#9c179e"
             ],
             [
              0.4444444444444444,
              "#bd3786"
             ],
             [
              0.5555555555555556,
              "#d8576b"
             ],
             [
              0.6666666666666666,
              "#ed7953"
             ],
             [
              0.7777777777777778,
              "#fb9f3a"
             ],
             [
              0.8888888888888888,
              "#fdca26"
             ],
             [
              1,
              "#f0f921"
             ]
            ],
            "type": "histogram2d"
           }
          ],
          "histogram2dcontour": [
           {
            "colorbar": {
             "outlinewidth": 0,
             "ticks": ""
            },
            "colorscale": [
             [
              0,
              "#0d0887"
             ],
             [
              0.1111111111111111,
              "#46039f"
             ],
             [
              0.2222222222222222,
              "#7201a8"
             ],
             [
              0.3333333333333333,
              "#9c179e"
             ],
             [
              0.4444444444444444,
              "#bd3786"
             ],
             [
              0.5555555555555556,
              "#d8576b"
             ],
             [
              0.6666666666666666,
              "#ed7953"
             ],
             [
              0.7777777777777778,
              "#fb9f3a"
             ],
             [
              0.8888888888888888,
              "#fdca26"
             ],
             [
              1,
              "#f0f921"
             ]
            ],
            "type": "histogram2dcontour"
           }
          ],
          "mesh3d": [
           {
            "colorbar": {
             "outlinewidth": 0,
             "ticks": ""
            },
            "type": "mesh3d"
           }
          ],
          "parcoords": [
           {
            "line": {
             "colorbar": {
              "outlinewidth": 0,
              "ticks": ""
             }
            },
            "type": "parcoords"
           }
          ],
          "pie": [
           {
            "automargin": true,
            "type": "pie"
           }
          ],
          "scatter": [
           {
            "fillpattern": {
             "fillmode": "overlay",
             "size": 10,
             "solidity": 0.2
            },
            "type": "scatter"
           }
          ],
          "scatter3d": [
           {
            "line": {
             "colorbar": {
              "outlinewidth": 0,
              "ticks": ""
             }
            },
            "marker": {
             "colorbar": {
              "outlinewidth": 0,
              "ticks": ""
             }
            },
            "type": "scatter3d"
           }
          ],
          "scattercarpet": [
           {
            "marker": {
             "colorbar": {
              "outlinewidth": 0,
              "ticks": ""
             }
            },
            "type": "scattercarpet"
           }
          ],
          "scattergeo": [
           {
            "marker": {
             "colorbar": {
              "outlinewidth": 0,
              "ticks": ""
             }
            },
            "type": "scattergeo"
           }
          ],
          "scattergl": [
           {
            "marker": {
             "colorbar": {
              "outlinewidth": 0,
              "ticks": ""
             }
            },
            "type": "scattergl"
           }
          ],
          "scattermap": [
           {
            "marker": {
             "colorbar": {
              "outlinewidth": 0,
              "ticks": ""
             }
            },
            "type": "scattermap"
           }
          ],
          "scattermapbox": [
           {
            "marker": {
             "colorbar": {
              "outlinewidth": 0,
              "ticks": ""
             }
            },
            "type": "scattermapbox"
           }
          ],
          "scatterpolar": [
           {
            "marker": {
             "colorbar": {
              "outlinewidth": 0,
              "ticks": ""
             }
            },
            "type": "scatterpolar"
           }
          ],
          "scatterpolargl": [
           {
            "marker": {
             "colorbar": {
              "outlinewidth": 0,
              "ticks": ""
             }
            },
            "type": "scatterpolargl"
           }
          ],
          "scatterternary": [
           {
            "marker": {
             "colorbar": {
              "outlinewidth": 0,
              "ticks": ""
             }
            },
            "type": "scatterternary"
           }
          ],
          "surface": [
           {
            "colorbar": {
             "outlinewidth": 0,
             "ticks": ""
            },
            "colorscale": [
             [
              0,
              "#0d0887"
             ],
             [
              0.1111111111111111,
              "#46039f"
             ],
             [
              0.2222222222222222,
              "#7201a8"
             ],
             [
              0.3333333333333333,
              "#9c179e"
             ],
             [
              0.4444444444444444,
              "#bd3786"
             ],
             [
              0.5555555555555556,
              "#d8576b"
             ],
             [
              0.6666666666666666,
              "#ed7953"
             ],
             [
              0.7777777777777778,
              "#fb9f3a"
             ],
             [
              0.8888888888888888,
              "#fdca26"
             ],
             [
              1,
              "#f0f921"
             ]
            ],
            "type": "surface"
           }
          ],
          "table": [
           {
            "cells": {
             "fill": {
              "color": "#EBF0F8"
             },
             "line": {
              "color": "white"
             }
            },
            "header": {
             "fill": {
              "color": "#C8D4E3"
             },
             "line": {
              "color": "white"
             }
            },
            "type": "table"
           }
          ]
         },
         "layout": {
          "annotationdefaults": {
           "arrowcolor": "#2a3f5f",
           "arrowhead": 0,
           "arrowwidth": 1
          },
          "autotypenumbers": "strict",
          "coloraxis": {
           "colorbar": {
            "outlinewidth": 0,
            "ticks": ""
           }
          },
          "colorscale": {
           "diverging": [
            [
             0,
             "#8e0152"
            ],
            [
             0.1,
             "#c51b7d"
            ],
            [
             0.2,
             "#de77ae"
            ],
            [
             0.3,
             "#f1b6da"
            ],
            [
             0.4,
             "#fde0ef"
            ],
            [
             0.5,
             "#f7f7f7"
            ],
            [
             0.6,
             "#e6f5d0"
            ],
            [
             0.7,
             "#b8e186"
            ],
            [
             0.8,
             "#7fbc41"
            ],
            [
             0.9,
             "#4d9221"
            ],
            [
             1,
             "#276419"
            ]
           ],
           "sequential": [
            [
             0,
             "#0d0887"
            ],
            [
             0.1111111111111111,
             "#46039f"
            ],
            [
             0.2222222222222222,
             "#7201a8"
            ],
            [
             0.3333333333333333,
             "#9c179e"
            ],
            [
             0.4444444444444444,
             "#bd3786"
            ],
            [
             0.5555555555555556,
             "#d8576b"
            ],
            [
             0.6666666666666666,
             "#ed7953"
            ],
            [
             0.7777777777777778,
             "#fb9f3a"
            ],
            [
             0.8888888888888888,
             "#fdca26"
            ],
            [
             1,
             "#f0f921"
            ]
           ],
           "sequentialminus": [
            [
             0,
             "#0d0887"
            ],
            [
             0.1111111111111111,
             "#46039f"
            ],
            [
             0.2222222222222222,
             "#7201a8"
            ],
            [
             0.3333333333333333,
             "#9c179e"
            ],
            [
             0.4444444444444444,
             "#bd3786"
            ],
            [
             0.5555555555555556,
             "#d8576b"
            ],
            [
             0.6666666666666666,
             "#ed7953"
            ],
            [
             0.7777777777777778,
             "#fb9f3a"
            ],
            [
             0.8888888888888888,
             "#fdca26"
            ],
            [
             1,
             "#f0f921"
            ]
           ]
          },
          "colorway": [
           "#636efa",
           "#EF553B",
           "#00cc96",
           "#ab63fa",
           "#FFA15A",
           "#19d3f3",
           "#FF6692",
           "#B6E880",
           "#FF97FF",
           "#FECB52"
          ],
          "font": {
           "color": "#2a3f5f"
          },
          "geo": {
           "bgcolor": "white",
           "lakecolor": "white",
           "landcolor": "white",
           "showlakes": true,
           "showland": true,
           "subunitcolor": "#C8D4E3"
          },
          "hoverlabel": {
           "align": "left"
          },
          "hovermode": "closest",
          "mapbox": {
           "style": "light"
          },
          "paper_bgcolor": "white",
          "plot_bgcolor": "white",
          "polar": {
           "angularaxis": {
            "gridcolor": "#EBF0F8",
            "linecolor": "#EBF0F8",
            "ticks": ""
           },
           "bgcolor": "white",
           "radialaxis": {
            "gridcolor": "#EBF0F8",
            "linecolor": "#EBF0F8",
            "ticks": ""
           }
          },
          "scene": {
           "xaxis": {
            "backgroundcolor": "white",
            "gridcolor": "#DFE8F3",
            "gridwidth": 2,
            "linecolor": "#EBF0F8",
            "showbackground": true,
            "ticks": "",
            "zerolinecolor": "#EBF0F8"
           },
           "yaxis": {
            "backgroundcolor": "white",
            "gridcolor": "#DFE8F3",
            "gridwidth": 2,
            "linecolor": "#EBF0F8",
            "showbackground": true,
            "ticks": "",
            "zerolinecolor": "#EBF0F8"
           },
           "zaxis": {
            "backgroundcolor": "white",
            "gridcolor": "#DFE8F3",
            "gridwidth": 2,
            "linecolor": "#EBF0F8",
            "showbackground": true,
            "ticks": "",
            "zerolinecolor": "#EBF0F8"
           }
          },
          "shapedefaults": {
           "line": {
            "color": "#2a3f5f"
           }
          },
          "ternary": {
           "aaxis": {
            "gridcolor": "#DFE8F3",
            "linecolor": "#A2B1C6",
            "ticks": ""
           },
           "baxis": {
            "gridcolor": "#DFE8F3",
            "linecolor": "#A2B1C6",
            "ticks": ""
           },
           "bgcolor": "white",
           "caxis": {
            "gridcolor": "#DFE8F3",
            "linecolor": "#A2B1C6",
            "ticks": ""
           }
          },
          "title": {
           "x": 0.05
          },
          "xaxis": {
           "automargin": true,
           "gridcolor": "#EBF0F8",
           "linecolor": "#EBF0F8",
           "ticks": "",
           "title": {
            "standoff": 15
           },
           "zerolinecolor": "#EBF0F8",
           "zerolinewidth": 2
          },
          "yaxis": {
           "automargin": true,
           "gridcolor": "#EBF0F8",
           "linecolor": "#EBF0F8",
           "ticks": "",
           "title": {
            "standoff": 15
           },
           "zerolinecolor": "#EBF0F8",
           "zerolinewidth": 2
          }
         }
        },
        "width": 1200,
        "xaxis": {
         "anchor": "y",
         "categoryarray": [
          "stomach",
          "small_bowel",
          "colon",
          "liver",
          "pancreas",
          "kidney",
          "spleen",
          "omentum",
          "lung",
          "skin",
          "peritoneum",
          "background"
         ],
         "categoryorder": "array",
         "domain": [
          0,
          1
         ],
         "matches": "x3",
         "showticklabels": false
        },
        "xaxis2": {
         "anchor": "y2",
         "categoryarray": [
          "stomach",
          "small_bowel",
          "colon",
          "liver",
          "pancreas",
          "kidney",
          "spleen",
          "omentum",
          "lung",
          "skin",
          "peritoneum",
          "background"
         ],
         "categoryorder": "array",
         "domain": [
          0,
          1
         ],
         "matches": "x3",
         "showticklabels": false
        },
        "xaxis3": {
         "anchor": "y3",
         "categoryarray": [
          "stomach",
          "small_bowel",
          "colon",
          "liver",
          "pancreas",
          "kidney",
          "spleen",
          "omentum",
          "lung",
          "skin",
          "peritoneum",
          "background"
         ],
         "categoryorder": "array",
         "domain": [
          0,
          1
         ],
         "title": {
          "text": "<b>label name</b>"
         }
        },
        "yaxis": {
         "anchor": "x",
         "domain": [
          0.7333333333333333,
          1
         ],
         "tickformat": ",",
         "title": {
          "standoff": 5,
          "text": "<b># images</b>"
         }
        },
        "yaxis2": {
         "anchor": "x2",
         "domain": [
          0.36666666666666664,
          0.6333333333333333
         ],
         "tickformat": ",",
         "title": {
          "standoff": 5,
          "text": "<b># images</b>"
         }
        },
        "yaxis3": {
         "anchor": "x3",
         "domain": [
          0,
          0.26666666666666666
         ],
         "tickformat": ",",
         "title": {
          "standoff": 5,
          "text": "<b># images</b>"
         }
        }
       }
      },
      "text/html": [
       "<div>            <script src=\"https://cdnjs.cloudflare.com/ajax/libs/mathjax/2.7.5/MathJax.js?config=TeX-AMS-MML_SVG\"></script><script type=\"text/javascript\">if (window.MathJax && window.MathJax.Hub && window.MathJax.Hub.Config) {window.MathJax.Hub.Config({SVG: {font: \"STIX-Web\"}});}</script>                <script type=\"text/javascript\">window.PlotlyConfig = {MathJaxConfig: 'local'};</script>\n",
       "        <script charset=\"utf-8\" src=\"https://cdn.plot.ly/plotly-3.0.1.min.js\"></script>                <div id=\"cd072cd8-be6f-4f62-ac4c-09c28206e7e3\" class=\"plotly-graph-div\" style=\"height:1200px; width:1200px;\"></div>            <script type=\"text/javascript\">                window.PLOTLYENV=window.PLOTLYENV || {};                                if (document.getElementById(\"cd072cd8-be6f-4f62-ac4c-09c28206e7e3\")) {                    Plotly.newPlot(                        \"cd072cd8-be6f-4f62-ac4c-09c28206e7e3\",                        [{\"marker\":{\"color\":\"#44AA99\",\"line\":{\"color\":\"black\",\"width\":0.1}},\"name\":\"physiological\",\"x\":[\"kidney\"],\"y\":{\"dtype\":\"i1\",\"bdata\":\"Cw==\"},\"type\":\"bar\",\"xaxis\":\"x\",\"yaxis\":\"y\"},{\"marker\":{\"color\":\"#44AA99\",\"line\":{\"color\":\"black\",\"width\":0.1}},\"name\":\"physiological\",\"x\":[\"kidney\"],\"y\":{\"dtype\":\"i1\",\"bdata\":\"Jw==\"},\"type\":\"bar\",\"xaxis\":\"x\",\"yaxis\":\"y\"},{\"marker\":{\"color\":\"#44AA99\",\"line\":{\"color\":\"black\",\"width\":0.1}},\"name\":\"physiological\",\"x\":[\"kidney\"],\"y\":{\"dtype\":\"i1\",\"bdata\":\"BQ==\"},\"type\":\"bar\",\"xaxis\":\"x\",\"yaxis\":\"y\"},{\"marker\":{\"color\":\"#44AA99\",\"line\":{\"color\":\"black\",\"width\":0.1}},\"name\":\"physiological\",\"x\":[\"kidney\"],\"y\":{\"dtype\":\"i1\",\"bdata\":\"Bg==\"},\"type\":\"bar\",\"xaxis\":\"x\",\"yaxis\":\"y\"},{\"marker\":{\"color\":\"#44AA99\",\"line\":{\"color\":\"black\",\"width\":0.1}},\"name\":\"physiological\",\"x\":[\"kidney\"],\"y\":{\"dtype\":\"i1\",\"bdata\":\"Cw==\"},\"type\":\"bar\",\"xaxis\":\"x\",\"yaxis\":\"y\"},{\"marker\":{\"color\":\"#44AA99\",\"line\":{\"color\":\"black\",\"width\":0.1}},\"name\":\"physiological\",\"x\":[\"kidney\"],\"y\":{\"dtype\":\"i1\",\"bdata\":\"Bg==\"},\"type\":\"bar\",\"xaxis\":\"x\",\"yaxis\":\"y\"},{\"marker\":{\"color\":\"#44AA99\",\"line\":{\"color\":\"black\",\"width\":0.1}},\"name\":\"physiological\",\"x\":[\"kidney\",\"lung\",\"omentum\"],\"y\":{\"dtype\":\"i1\",\"bdata\":\"BiQk\"},\"type\":\"bar\",\"xaxis\":\"x\",\"yaxis\":\"y\"},{\"marker\":{\"color\":\"#44AA99\",\"line\":{\"color\":\"black\",\"width\":0.1}},\"name\":\"physiological\",\"x\":[\"colon\",\"kidney\",\"liver\",\"lung\",\"omentum\",\"pancreas\",\"peritoneum\",\"skin\",\"small_bowel\",\"spleen\",\"stomach\"],\"y\":{\"dtype\":\"i1\",\"bdata\":\"JCYkJCQkJCQkJCQ=\"},\"type\":\"bar\",\"xaxis\":\"x\",\"yaxis\":\"y\"},{\"marker\":{\"color\":\"#44AA99\",\"line\":{\"color\":\"black\",\"width\":0.1}},\"name\":\"physiological\",\"x\":[\"colon\",\"kidney\",\"liver\",\"omentum\",\"peritoneum\",\"skin\",\"small_bowel\",\"stomach\"],\"y\":{\"dtype\":\"i1\",\"bdata\":\"JE0kJCQkJCQ=\"},\"type\":\"bar\",\"xaxis\":\"x\",\"yaxis\":\"y\"},{\"marker\":{\"color\":\"#44AA99\",\"line\":{\"color\":\"black\",\"width\":0.1}},\"name\":\"physiological\",\"x\":[\"kidney\"],\"y\":{\"dtype\":\"i1\",\"bdata\":\"EA==\"},\"type\":\"bar\",\"xaxis\":\"x\",\"yaxis\":\"y\"},{\"marker\":{\"color\":\"#44AA99\",\"line\":{\"color\":\"black\",\"width\":0.1}},\"name\":\"physiological\",\"x\":[\"kidney\"],\"y\":{\"dtype\":\"i1\",\"bdata\":\"Eg==\"},\"type\":\"bar\",\"xaxis\":\"x\",\"yaxis\":\"y\"},{\"marker\":{\"color\":\"#44AA99\",\"line\":{\"color\":\"black\",\"width\":0.1}},\"name\":\"physiological\",\"x\":[\"kidney\"],\"y\":{\"dtype\":\"i1\",\"bdata\":\"EA==\"},\"type\":\"bar\",\"xaxis\":\"x\",\"yaxis\":\"y\"},{\"marker\":{\"color\":\"#44AA99\",\"line\":{\"color\":\"black\",\"width\":0.1}},\"name\":\"physiological\",\"x\":[\"colon\",\"liver\",\"spleen\"],\"y\":{\"dtype\":\"i1\",\"bdata\":\"AQEB\"},\"type\":\"bar\",\"xaxis\":\"x\",\"yaxis\":\"y\"},{\"marker\":{\"color\":\"#44AA99\",\"line\":{\"color\":\"black\",\"width\":0.1}},\"name\":\"physiological\",\"x\":[\"colon\",\"liver\",\"spleen\"],\"y\":{\"dtype\":\"i1\",\"bdata\":\"AQEB\"},\"type\":\"bar\",\"xaxis\":\"x\",\"yaxis\":\"y\"},{\"marker\":{\"color\":\"#44AA99\",\"line\":{\"color\":\"black\",\"width\":0.1}},\"name\":\"physiological\",\"x\":[\"colon\",\"liver\",\"spleen\"],\"y\":{\"dtype\":\"i1\",\"bdata\":\"AQEB\"},\"type\":\"bar\",\"xaxis\":\"x\",\"yaxis\":\"y\"},{\"marker\":{\"color\":\"#44AA99\",\"line\":{\"color\":\"black\",\"width\":0.1}},\"name\":\"physiological\",\"x\":[\"colon\",\"liver\",\"spleen\"],\"y\":{\"dtype\":\"i1\",\"bdata\":\"AQEB\"},\"type\":\"bar\",\"xaxis\":\"x\",\"yaxis\":\"y\"},{\"marker\":{\"color\":\"#44AA99\",\"line\":{\"color\":\"black\",\"width\":0.1}},\"name\":\"physiological\",\"x\":[\"background\",\"colon\",\"liver\",\"omentum\",\"peritoneum\",\"skin\",\"small_bowel\",\"spleen\",\"stomach\"],\"y\":{\"dtype\":\"i1\",\"bdata\":\"BAQCAgICBAIC\"},\"type\":\"bar\",\"xaxis\":\"x\",\"yaxis\":\"y\"},{\"marker\":{\"color\":\"#44AA99\",\"line\":{\"color\":\"black\",\"width\":0.1}},\"name\":\"physiological\",\"x\":[\"background\",\"colon\",\"liver\",\"lung\",\"omentum\",\"small_bowel\",\"stomach\"],\"y\":{\"dtype\":\"i1\",\"bdata\":\"FQsLCgMLAw==\"},\"type\":\"bar\",\"xaxis\":\"x\",\"yaxis\":\"y\"},{\"marker\":{\"color\":\"#44AA99\",\"line\":{\"color\":\"black\",\"width\":0.1}},\"name\":\"physiological\",\"x\":[\"background\",\"colon\",\"liver\",\"lung\",\"omentum\",\"peritoneum\",\"skin\",\"small_bowel\",\"spleen\",\"stomach\"],\"y\":{\"dtype\":\"i1\",\"bdata\":\"FxEOBgUREhENBQ==\"},\"type\":\"bar\",\"xaxis\":\"x\",\"yaxis\":\"y\"},{\"marker\":{\"color\":\"#44AA99\",\"line\":{\"color\":\"black\",\"width\":0.1}},\"name\":\"physiological\",\"x\":[\"background\",\"colon\",\"liver\",\"lung\",\"omentum\",\"peritoneum\",\"skin\",\"small_bowel\",\"spleen\",\"stomach\"],\"y\":{\"dtype\":\"i1\",\"bdata\":\"FhINBAkPEhEPDQ==\"},\"type\":\"bar\",\"xaxis\":\"x\",\"yaxis\":\"y\"},{\"marker\":{\"color\":\"#44AA99\",\"line\":{\"color\":\"black\",\"width\":0.1}},\"name\":\"physiological\",\"x\":[\"background\",\"colon\",\"liver\",\"omentum\",\"peritoneum\",\"skin\",\"small_bowel\",\"spleen\",\"stomach\"],\"y\":{\"dtype\":\"i1\",\"bdata\":\"EA4NDQ8QEA4M\"},\"type\":\"bar\",\"xaxis\":\"x\",\"yaxis\":\"y\"},{\"marker\":{\"color\":\"#44AA99\",\"line\":{\"color\":\"black\",\"width\":0.1}},\"name\":\"physiological\",\"x\":[\"background\",\"colon\",\"liver\",\"omentum\",\"peritoneum\",\"skin\",\"small_bowel\",\"spleen\",\"stomach\"],\"y\":{\"dtype\":\"i1\",\"bdata\":\"CgoKCAoKCgoK\"},\"type\":\"bar\",\"xaxis\":\"x\",\"yaxis\":\"y\"},{\"marker\":{\"color\":\"#44AA99\",\"line\":{\"color\":\"black\",\"width\":0.1}},\"name\":\"physiological\",\"x\":[\"background\",\"colon\",\"liver\",\"peritoneum\",\"skin\",\"small_bowel\",\"spleen\",\"stomach\"],\"y\":{\"dtype\":\"i1\",\"bdata\":\"Dw8KDg8PCwo=\"},\"type\":\"bar\",\"xaxis\":\"x\",\"yaxis\":\"y\"},{\"marker\":{\"color\":\"#44AA99\",\"line\":{\"color\":\"black\",\"width\":0.1}},\"name\":\"physiological\",\"x\":[\"background\",\"colon\",\"liver\",\"omentum\",\"peritoneum\",\"skin\",\"small_bowel\",\"spleen\",\"stomach\"],\"y\":{\"dtype\":\"i1\",\"bdata\":\"EBAFARAQEA0L\"},\"type\":\"bar\",\"xaxis\":\"x\",\"yaxis\":\"y\"},{\"marker\":{\"color\":\"#44AA99\",\"line\":{\"color\":\"black\",\"width\":0.1}},\"name\":\"physiological\",\"x\":[\"background\",\"colon\",\"liver\",\"omentum\",\"peritoneum\",\"skin\",\"small_bowel\",\"spleen\",\"stomach\"],\"y\":{\"dtype\":\"i1\",\"bdata\":\"BQUFBQUFBQUF\"},\"type\":\"bar\",\"xaxis\":\"x\",\"yaxis\":\"y\"},{\"marker\":{\"color\":\"#44AA99\",\"line\":{\"color\":\"black\",\"width\":0.1}},\"name\":\"physiological\",\"x\":[\"background\",\"colon\",\"liver\",\"omentum\",\"pancreas\",\"peritoneum\",\"skin\",\"small_bowel\",\"spleen\",\"stomach\"],\"y\":{\"dtype\":\"i1\",\"bdata\":\"GBQTEwUYGBgVEg==\"},\"type\":\"bar\",\"xaxis\":\"x\",\"yaxis\":\"y\"},{\"marker\":{\"color\":\"#44AA99\",\"line\":{\"color\":\"black\",\"width\":0.1}},\"name\":\"physiological\",\"x\":[\"background\",\"colon\",\"kidney\",\"liver\",\"lung\",\"omentum\",\"pancreas\",\"peritoneum\",\"skin\",\"small_bowel\",\"spleen\",\"stomach\"],\"y\":{\"dtype\":\"i1\",\"bdata\":\"NRwIIw0RDhgSHREI\"},\"type\":\"bar\",\"xaxis\":\"x\",\"yaxis\":\"y\"},{\"marker\":{\"color\":\"#44AA99\",\"line\":{\"color\":\"black\",\"width\":0.1}},\"name\":\"physiological\",\"x\":[\"background\",\"colon\",\"kidney\",\"liver\",\"omentum\",\"pancreas\",\"peritoneum\",\"small_bowel\",\"spleen\",\"stomach\"],\"y\":{\"dtype\":\"i1\",\"bdata\":\"FhADCAMFBhMEAQ==\"},\"type\":\"bar\",\"xaxis\":\"x\",\"yaxis\":\"y\"},{\"marker\":{\"color\":\"#44AA99\",\"line\":{\"color\":\"black\",\"width\":0.1}},\"name\":\"physiological\",\"x\":[\"background\",\"colon\",\"liver\",\"lung\",\"omentum\",\"pancreas\",\"peritoneum\",\"skin\",\"small_bowel\",\"spleen\",\"stomach\"],\"y\":{\"dtype\":\"i1\",\"bdata\":\"MhYcDhAIEg0kGBU=\"},\"type\":\"bar\",\"xaxis\":\"x\",\"yaxis\":\"y\"},{\"marker\":{\"color\":\"#44AA99\",\"line\":{\"color\":\"black\",\"width\":0.1}},\"name\":\"physiological\",\"x\":[\"background\",\"colon\",\"kidney\",\"liver\",\"pancreas\",\"peritoneum\",\"skin\",\"small_bowel\",\"spleen\",\"stomach\"],\"y\":{\"dtype\":\"i1\",\"bdata\":\"EgwGDAESEhIMCQ==\"},\"type\":\"bar\",\"xaxis\":\"x\",\"yaxis\":\"y\"},{\"marker\":{\"color\":\"#44AA99\",\"line\":{\"color\":\"black\",\"width\":0.1}},\"name\":\"physiological\",\"x\":[\"background\",\"colon\",\"kidney\",\"liver\",\"lung\",\"omentum\",\"pancreas\",\"peritoneum\",\"skin\",\"small_bowel\",\"spleen\",\"stomach\"],\"y\":{\"dtype\":\"i1\",\"bdata\":\"diwhMgwgDC4vTRw2\"},\"type\":\"bar\",\"xaxis\":\"x\",\"yaxis\":\"y\"},{\"marker\":{\"color\":\"#44AA99\",\"line\":{\"color\":\"black\",\"width\":0.1}},\"name\":\"physiological\",\"x\":[\"background\",\"colon\",\"liver\",\"omentum\",\"pancreas\",\"peritoneum\",\"skin\",\"small_bowel\",\"spleen\",\"stomach\"],\"y\":{\"dtype\":\"i1\",\"bdata\":\"Fw8NCgUFAxcSEQ==\"},\"type\":\"bar\",\"xaxis\":\"x\",\"yaxis\":\"y\"},{\"marker\":{\"color\":\"#44AA99\",\"line\":{\"color\":\"black\",\"width\":0.1}},\"name\":\"physiological\",\"x\":[\"background\",\"colon\",\"liver\",\"omentum\",\"peritoneum\",\"skin\",\"small_bowel\",\"spleen\",\"stomach\"],\"y\":{\"dtype\":\"i1\",\"bdata\":\"FBQNDQwOFBMN\"},\"type\":\"bar\",\"xaxis\":\"x\",\"yaxis\":\"y\"},{\"marker\":{\"color\":\"#44AA99\",\"line\":{\"color\":\"black\",\"width\":0.1}},\"name\":\"physiological\",\"x\":[\"background\",\"colon\",\"liver\",\"lung\",\"omentum\",\"pancreas\",\"peritoneum\",\"skin\",\"small_bowel\",\"spleen\",\"stomach\"],\"y\":{\"dtype\":\"i1\",\"bdata\":\"JxkZDg0JGhwZEA8=\"},\"type\":\"bar\",\"xaxis\":\"x\",\"yaxis\":\"y\"},{\"marker\":{\"color\":\"#44AA99\",\"line\":{\"color\":\"black\",\"width\":0.1}},\"name\":\"physiological\",\"x\":[\"background\",\"colon\",\"liver\",\"omentum\",\"pancreas\",\"peritoneum\",\"skin\",\"small_bowel\",\"spleen\",\"stomach\"],\"y\":{\"dtype\":\"i1\",\"bdata\":\"EwcJDgYCDA4MEw==\"},\"type\":\"bar\",\"xaxis\":\"x\",\"yaxis\":\"y\"},{\"marker\":{\"color\":\"#44AA99\",\"line\":{\"color\":\"black\",\"width\":0.1}},\"name\":\"physiological\",\"x\":[\"background\",\"colon\",\"kidney\",\"liver\",\"lung\",\"omentum\",\"pancreas\",\"peritoneum\",\"skin\",\"small_bowel\",\"spleen\",\"stomach\"],\"y\":{\"dtype\":\"i1\",\"bdata\":\"USYUOAkhDikuPSsd\"},\"type\":\"bar\",\"xaxis\":\"x\",\"yaxis\":\"y\"},{\"marker\":{\"color\":\"#44AA99\",\"line\":{\"color\":\"black\",\"width\":0.1}},\"name\":\"physiological\",\"x\":[\"colon\",\"kidney\",\"liver\",\"lung\",\"pancreas\",\"peritoneum\",\"skin\",\"small_bowel\",\"spleen\",\"stomach\"],\"y\":{\"dtype\":\"i1\",\"bdata\":\"JCQkJCQkJCQkJA==\"},\"type\":\"bar\",\"xaxis\":\"x\",\"yaxis\":\"y\"},{\"marker\":{\"color\":\"#44AA99\",\"line\":{\"color\":\"black\",\"width\":0.1}},\"name\":\"physiological\",\"x\":[\"colon\",\"kidney\",\"liver\",\"omentum\",\"skin\",\"small_bowel\",\"spleen\",\"stomach\"],\"y\":{\"dtype\":\"i1\",\"bdata\":\"JCQkJCQkJCQ=\"},\"type\":\"bar\",\"xaxis\":\"x\",\"yaxis\":\"y\"},{\"marker\":{\"color\":\"#44AA99\",\"line\":{\"color\":\"black\",\"width\":0.1}},\"name\":\"physiological\",\"x\":[\"kidney\",\"omentum\",\"pancreas\",\"peritoneum\",\"small_bowel\",\"spleen\",\"stomach\"],\"y\":{\"dtype\":\"i1\",\"bdata\":\"JCQkJCQkJA==\"},\"type\":\"bar\",\"xaxis\":\"x\",\"yaxis\":\"y\"},{\"marker\":{\"color\":\"#44AA99\",\"line\":{\"color\":\"black\",\"width\":0.1}},\"name\":\"physiological\",\"x\":[\"colon\",\"lung\",\"pancreas\",\"peritoneum\",\"skin\",\"stomach\"],\"y\":{\"dtype\":\"i1\",\"bdata\":\"JCQkJCQk\"},\"type\":\"bar\",\"xaxis\":\"x\",\"yaxis\":\"y\"},{\"marker\":{\"color\":\"#44AA99\",\"line\":{\"color\":\"black\",\"width\":0.1}},\"name\":\"physiological\",\"x\":[\"colon\",\"kidney\",\"liver\",\"lung\",\"omentum\",\"pancreas\",\"peritoneum\",\"skin\",\"spleen\",\"stomach\"],\"y\":{\"dtype\":\"i1\",\"bdata\":\"JCQkJCQkJCQkJA==\"},\"type\":\"bar\",\"xaxis\":\"x\",\"yaxis\":\"y\"},{\"marker\":{\"color\":\"#44AA99\",\"line\":{\"color\":\"black\",\"width\":0.1}},\"name\":\"physiological\",\"x\":[\"colon\",\"kidney\",\"liver\",\"lung\",\"omentum\",\"pancreas\",\"peritoneum\",\"small_bowel\",\"spleen\",\"stomach\"],\"y\":{\"dtype\":\"i1\",\"bdata\":\"JCQkJCQkJCQkJA==\"},\"type\":\"bar\",\"xaxis\":\"x\",\"yaxis\":\"y\"},{\"marker\":{\"color\":\"#44AA99\",\"line\":{\"color\":\"black\",\"width\":0.1}},\"name\":\"physiological\",\"x\":[\"kidney\",\"liver\",\"lung\",\"omentum\",\"pancreas\",\"peritoneum\",\"skin\",\"small_bowel\",\"spleen\"],\"y\":{\"dtype\":\"i1\",\"bdata\":\"JCQkJCQkJCQk\"},\"type\":\"bar\",\"xaxis\":\"x\",\"yaxis\":\"y\"},{\"marker\":{\"color\":\"#44AA99\",\"line\":{\"color\":\"black\",\"width\":0.1}},\"name\":\"physiological\",\"x\":[\"colon\",\"kidney\",\"liver\",\"lung\",\"pancreas\",\"skin\",\"small_bowel\",\"spleen\"],\"y\":{\"dtype\":\"i1\",\"bdata\":\"JCQkJCQkJCQ=\"},\"type\":\"bar\",\"xaxis\":\"x\",\"yaxis\":\"y\"},{\"marker\":{\"color\":\"#D8EFEC\",\"line\":{\"color\":\"black\",\"width\":0.1}},\"name\":\"malperfused\",\"x\":[\"kidney\"],\"y\":{\"dtype\":\"i1\",\"bdata\":\"Ew==\"},\"type\":\"bar\",\"xaxis\":\"x\",\"yaxis\":\"y\"},{\"marker\":{\"color\":\"#D8EFEC\",\"line\":{\"color\":\"black\",\"width\":0.1}},\"name\":\"malperfused\",\"x\":[\"kidney\"],\"y\":{\"dtype\":\"i1\",\"bdata\":\"Hw==\"},\"type\":\"bar\",\"xaxis\":\"x\",\"yaxis\":\"y\"},{\"marker\":{\"color\":\"#D8EFEC\",\"line\":{\"color\":\"black\",\"width\":0.1}},\"name\":\"malperfused\",\"x\":[\"kidney\"],\"y\":{\"dtype\":\"i1\",\"bdata\":\"JA==\"},\"type\":\"bar\",\"xaxis\":\"x\",\"yaxis\":\"y\"},{\"marker\":{\"color\":\"#D8EFEC\",\"line\":{\"color\":\"black\",\"width\":0.1}},\"name\":\"malperfused\",\"x\":[\"kidney\"],\"y\":{\"dtype\":\"i1\",\"bdata\":\"GQ==\"},\"type\":\"bar\",\"xaxis\":\"x\",\"yaxis\":\"y\"},{\"marker\":{\"color\":\"#D8EFEC\",\"line\":{\"color\":\"black\",\"width\":0.1}},\"name\":\"malperfused\",\"x\":[\"kidney\"],\"y\":{\"dtype\":\"i1\",\"bdata\":\"Ew==\"},\"type\":\"bar\",\"xaxis\":\"x\",\"yaxis\":\"y\"},{\"marker\":{\"color\":\"#D8EFEC\",\"line\":{\"color\":\"black\",\"width\":0.1}},\"name\":\"malperfused\",\"x\":[\"kidney\"],\"y\":{\"dtype\":\"i1\",\"bdata\":\"FA==\"},\"type\":\"bar\",\"xaxis\":\"x\",\"yaxis\":\"y\"},{\"marker\":{\"color\":\"#D8EFEC\",\"line\":{\"color\":\"black\",\"width\":0.1}},\"name\":\"malperfused\",\"x\":[\"kidney\"],\"y\":{\"dtype\":\"i1\",\"bdata\":\"Bw==\"},\"type\":\"bar\",\"xaxis\":\"x\",\"yaxis\":\"y\"},{\"marker\":{\"color\":\"#D8EFEC\",\"line\":{\"color\":\"black\",\"width\":0.1}},\"name\":\"malperfused\",\"x\":[\"kidney\"],\"y\":{\"dtype\":\"i1\",\"bdata\":\"Fw==\"},\"type\":\"bar\",\"xaxis\":\"x\",\"yaxis\":\"y\"},{\"marker\":{\"color\":\"#D8EFEC\",\"line\":{\"color\":\"black\",\"width\":0.1}},\"name\":\"malperfused\",\"x\":[\"kidney\"],\"y\":{\"dtype\":\"i1\",\"bdata\":\"Fg==\"},\"type\":\"bar\",\"xaxis\":\"x\",\"yaxis\":\"y\"},{\"marker\":{\"color\":\"#D8EFEC\",\"line\":{\"color\":\"black\",\"width\":0.1}},\"name\":\"malperfused\",\"x\":[\"kidney\"],\"y\":{\"dtype\":\"i1\",\"bdata\":\"Ig==\"},\"type\":\"bar\",\"xaxis\":\"x\",\"yaxis\":\"y\"},{\"marker\":{\"color\":\"#D8EFEC\",\"line\":{\"color\":\"black\",\"width\":0.1}},\"name\":\"malperfused\",\"x\":[\"kidney\"],\"y\":{\"dtype\":\"i1\",\"bdata\":\"JQ==\"},\"type\":\"bar\",\"xaxis\":\"x\",\"yaxis\":\"y\"},{\"marker\":{\"color\":\"#D8EFEC\",\"line\":{\"color\":\"black\",\"width\":0.1}},\"name\":\"malperfused\",\"x\":[\"kidney\"],\"y\":{\"dtype\":\"i1\",\"bdata\":\"GQ==\"},\"type\":\"bar\",\"xaxis\":\"x\",\"yaxis\":\"y\"},{\"marker\":{\"color\":\"#D8EFEC\",\"line\":{\"color\":\"black\",\"width\":0.1}},\"name\":\"malperfused\",\"x\":[\"colon\",\"liver\",\"spleen\"],\"y\":{\"dtype\":\"i1\",\"bdata\":\"Ghoa\"},\"type\":\"bar\",\"xaxis\":\"x\",\"yaxis\":\"y\"},{\"marker\":{\"color\":\"#D8EFEC\",\"line\":{\"color\":\"black\",\"width\":0.1}},\"name\":\"malperfused\",\"x\":[\"colon\",\"liver\",\"spleen\"],\"y\":{\"dtype\":\"i1\",\"bdata\":\"KCgo\"},\"type\":\"bar\",\"xaxis\":\"x\",\"yaxis\":\"y\"},{\"marker\":{\"color\":\"#D8EFEC\",\"line\":{\"color\":\"black\",\"width\":0.1}},\"name\":\"malperfused\",\"x\":[\"colon\",\"liver\",\"spleen\"],\"y\":{\"dtype\":\"i1\",\"bdata\":\"KSkp\"},\"type\":\"bar\",\"xaxis\":\"x\",\"yaxis\":\"y\"},{\"marker\":{\"color\":\"#D8EFEC\",\"line\":{\"color\":\"black\",\"width\":0.1}},\"name\":\"malperfused\",\"x\":[\"colon\",\"liver\",\"spleen\"],\"y\":{\"dtype\":\"i1\",\"bdata\":\"KSkp\"},\"type\":\"bar\",\"xaxis\":\"x\",\"yaxis\":\"y\"},{\"marker\":{\"color\":\"#44AA99\",\"line\":{\"color\":\"#9ACA3D\",\"width\":1}},\"name\":\"icg\",\"x\":[\"kidney\",\"small_bowel\",\"stomach\"],\"y\":{\"dtype\":\"i1\",\"bdata\":\"AQYF\"},\"type\":\"bar\",\"xaxis\":\"x\",\"yaxis\":\"y\"},{\"marker\":{\"color\":\"#44AA99\",\"line\":{\"color\":\"#9ACA3D\",\"width\":1}},\"name\":\"icg\",\"x\":[\"small_bowel\",\"stomach\"],\"y\":{\"dtype\":\"i1\",\"bdata\":\"AQU=\"},\"type\":\"bar\",\"xaxis\":\"x\",\"yaxis\":\"y\"},{\"marker\":{\"color\":\"#44AA99\",\"line\":{\"color\":\"#9ACA3D\",\"width\":1}},\"name\":\"icg\",\"x\":[\"stomach\"],\"y\":{\"dtype\":\"i1\",\"bdata\":\"AQ==\"},\"type\":\"bar\",\"xaxis\":\"x\",\"yaxis\":\"y\"},{\"marker\":{\"color\":\"#44AA99\",\"line\":{\"color\":\"#9ACA3D\",\"width\":1}},\"name\":\"icg\",\"x\":[\"stomach\"],\"y\":{\"dtype\":\"i1\",\"bdata\":\"CA==\"},\"type\":\"bar\",\"xaxis\":\"x\",\"yaxis\":\"y\"},{\"marker\":{\"color\":\"#44AA99\",\"line\":{\"color\":\"#9ACA3D\",\"width\":1}},\"name\":\"icg\",\"x\":[\"small_bowel\",\"stomach\"],\"y\":{\"dtype\":\"i1\",\"bdata\":\"AgI=\"},\"type\":\"bar\",\"xaxis\":\"x\",\"yaxis\":\"y\"},{\"marker\":{\"color\":\"#44AA99\",\"line\":{\"color\":\"#9ACA3D\",\"width\":1}},\"name\":\"icg\",\"x\":[\"stomach\"],\"y\":{\"dtype\":\"i1\",\"bdata\":\"Ag==\"},\"type\":\"bar\",\"xaxis\":\"x\",\"yaxis\":\"y\"},{\"marker\":{\"color\":\"#44AA99\",\"line\":{\"color\":\"#9ACA3D\",\"width\":1}},\"name\":\"icg\",\"x\":[\"stomach\"],\"y\":{\"dtype\":\"i1\",\"bdata\":\"Cg==\"},\"type\":\"bar\",\"xaxis\":\"x\",\"yaxis\":\"y\"},{\"marker\":{\"color\":\"#44AA99\",\"line\":{\"color\":\"#9ACA3D\",\"width\":1}},\"name\":\"icg\",\"x\":[\"colon\",\"liver\",\"peritoneum\",\"small_bowel\",\"stomach\"],\"y\":{\"dtype\":\"i1\",\"bdata\":\"IyMjIyM=\"},\"type\":\"bar\",\"xaxis\":\"x\",\"yaxis\":\"y\"},{\"marker\":{\"color\":\"#44AA99\",\"line\":{\"color\":\"#9ACA3D\",\"width\":1}},\"name\":\"icg\",\"x\":[\"colon\",\"kidney\",\"liver\",\"omentum\",\"pancreas\",\"peritoneum\",\"small_bowel\",\"stomach\"],\"y\":{\"dtype\":\"i1\",\"bdata\":\"BgYHBgkIBgY=\"},\"type\":\"bar\",\"xaxis\":\"x\",\"yaxis\":\"y\"},{\"marker\":{\"color\":\"#44AA99\",\"line\":{\"color\":\"#9ACA3D\",\"width\":1}},\"name\":\"icg\",\"x\":[\"colon\",\"kidney\",\"liver\",\"omentum\",\"pancreas\",\"peritoneum\",\"small_bowel\",\"stomach\"],\"y\":{\"dtype\":\"i1\",\"bdata\":\"JQYjCQYSJiw=\"},\"type\":\"bar\",\"xaxis\":\"x\",\"yaxis\":\"y\"},{\"marker\":{\"color\":\"#44AA99\",\"line\":{\"color\":\"#9ACA3D\",\"width\":1}},\"name\":\"icg\",\"x\":[\"colon\",\"kidney\",\"liver\",\"omentum\",\"pancreas\",\"peritoneum\",\"small_bowel\",\"stomach\"],\"y\":{\"dtype\":\"i1\",\"bdata\":\"GBISBgYMHh4=\"},\"type\":\"bar\",\"xaxis\":\"x\",\"yaxis\":\"y\"},{\"marker\":{\"color\":\"#44AA99\",\"line\":{\"color\":\"#9ACA3D\",\"width\":1}},\"name\":\"icg\",\"x\":[\"colon\",\"kidney\",\"liver\",\"omentum\",\"pancreas\",\"peritoneum\",\"small_bowel\",\"stomach\"],\"y\":{\"dtype\":\"i1\",\"bdata\":\"DxgYBgYhGA8=\"},\"type\":\"bar\",\"xaxis\":\"x\",\"yaxis\":\"y\"},{\"marker\":{\"color\":\"#44AA99\",\"line\":{\"color\":\"#9ACA3D\",\"width\":1}},\"name\":\"icg\",\"x\":[\"colon\",\"kidney\",\"liver\",\"omentum\",\"pancreas\",\"peritoneum\",\"small_bowel\",\"stomach\"],\"y\":{\"dtype\":\"i1\",\"bdata\":\"BhUYBgYVFg8=\"},\"type\":\"bar\",\"xaxis\":\"x\",\"yaxis\":\"y\"},{\"marker\":{\"color\":\"#44AA99\",\"line\":{\"color\":\"#9ACA3D\",\"width\":1}},\"name\":\"icg\",\"x\":[\"colon\",\"kidney\",\"liver\",\"omentum\",\"pancreas\",\"peritoneum\",\"skin\",\"small_bowel\",\"stomach\"],\"y\":{\"dtype\":\"i1\",\"bdata\":\"DgIPAgIRCE8N\"},\"type\":\"bar\",\"xaxis\":\"x\",\"yaxis\":\"y\"},{\"marker\":{\"color\":\"#44AA99\",\"line\":{\"color\":\"#9ACA3D\",\"width\":1}},\"name\":\"icg\",\"x\":[\"small_bowel\"],\"y\":{\"dtype\":\"i1\",\"bdata\":\"Bg==\"},\"type\":\"bar\",\"xaxis\":\"x\",\"yaxis\":\"y\"},{\"marker\":{\"color\":\"#89CCED\",\"line\":{\"color\":\"gray\",\"width\":0.1}},\"name\":\"physiological\",\"x\":[\"colon\",\"kidney\",\"liver\",\"spleen\"],\"y\":{\"dtype\":\"i1\",\"bdata\":\"AwMDAw==\"},\"type\":\"bar\",\"xaxis\":\"x2\",\"yaxis\":\"y2\"},{\"marker\":{\"color\":\"#89CCED\",\"line\":{\"color\":\"gray\",\"width\":0.1}},\"name\":\"physiological\",\"x\":[\"colon\",\"kidney\",\"liver\",\"spleen\"],\"y\":{\"dtype\":\"i1\",\"bdata\":\"AgICAg==\"},\"type\":\"bar\",\"xaxis\":\"x2\",\"yaxis\":\"y2\"},{\"marker\":{\"color\":\"#89CCED\",\"line\":{\"color\":\"gray\",\"width\":0.1}},\"name\":\"physiological\",\"x\":[\"colon\",\"kidney\",\"liver\",\"spleen\"],\"y\":{\"dtype\":\"i1\",\"bdata\":\"AwMDAw==\"},\"type\":\"bar\",\"xaxis\":\"x2\",\"yaxis\":\"y2\"},{\"marker\":{\"color\":\"#89CCED\",\"line\":{\"color\":\"gray\",\"width\":0.1}},\"name\":\"physiological\",\"x\":[\"colon\",\"kidney\",\"liver\",\"spleen\"],\"y\":{\"dtype\":\"i1\",\"bdata\":\"AwMDAw==\"},\"type\":\"bar\",\"xaxis\":\"x2\",\"yaxis\":\"y2\"},{\"marker\":{\"color\":\"#89CCED\",\"line\":{\"color\":\"gray\",\"width\":0.1}},\"name\":\"physiological\",\"x\":[\"colon\",\"kidney\",\"liver\",\"spleen\"],\"y\":{\"dtype\":\"i1\",\"bdata\":\"AwMDAw==\"},\"type\":\"bar\",\"xaxis\":\"x2\",\"yaxis\":\"y2\"},{\"marker\":{\"color\":\"#89CCED\",\"line\":{\"color\":\"gray\",\"width\":0.1}},\"name\":\"physiological\",\"x\":[\"colon\",\"kidney\",\"liver\",\"spleen\"],\"y\":{\"dtype\":\"i1\",\"bdata\":\"AwMDAw==\"},\"type\":\"bar\",\"xaxis\":\"x2\",\"yaxis\":\"y2\"},{\"marker\":{\"color\":\"#89CCED\",\"line\":{\"color\":\"gray\",\"width\":0.1}},\"name\":\"physiological\",\"x\":[\"colon\",\"kidney\",\"liver\",\"spleen\"],\"y\":{\"dtype\":\"i1\",\"bdata\":\"AwMDAw==\"},\"type\":\"bar\",\"xaxis\":\"x2\",\"yaxis\":\"y2\"},{\"marker\":{\"color\":\"#89CCED\",\"line\":{\"color\":\"gray\",\"width\":0.1}},\"name\":\"physiological\",\"x\":[\"colon\",\"kidney\",\"liver\",\"spleen\"],\"y\":{\"dtype\":\"i1\",\"bdata\":\"BgYGBg==\"},\"type\":\"bar\",\"xaxis\":\"x2\",\"yaxis\":\"y2\"},{\"marker\":{\"color\":\"#89CCED\",\"line\":{\"color\":\"gray\",\"width\":0.1}},\"name\":\"physiological\",\"x\":[\"colon\",\"kidney\",\"liver\",\"spleen\"],\"y\":{\"dtype\":\"i1\",\"bdata\":\"AwMDAw==\"},\"type\":\"bar\",\"xaxis\":\"x2\",\"yaxis\":\"y2\"},{\"marker\":{\"color\":\"#89CCED\",\"line\":{\"color\":\"gray\",\"width\":0.1}},\"name\":\"physiological\",\"x\":[\"colon\",\"kidney\",\"liver\",\"spleen\"],\"y\":{\"dtype\":\"i1\",\"bdata\":\"AwMDAw==\"},\"type\":\"bar\",\"xaxis\":\"x2\",\"yaxis\":\"y2\"},{\"marker\":{\"color\":\"#89CCED\",\"line\":{\"color\":\"gray\",\"width\":0.1}},\"name\":\"physiological\",\"x\":[\"colon\",\"kidney\",\"liver\",\"spleen\"],\"y\":{\"dtype\":\"i1\",\"bdata\":\"AwMDAw==\"},\"type\":\"bar\",\"xaxis\":\"x2\",\"yaxis\":\"y2\"},{\"marker\":{\"color\":\"#89CCED\",\"line\":{\"color\":\"gray\",\"width\":0.1}},\"name\":\"physiological\",\"x\":[\"background\",\"colon\",\"kidney\",\"liver\",\"lung\",\"omentum\",\"pancreas\",\"peritoneum\",\"skin\",\"small_bowel\",\"spleen\",\"stomach\"],\"y\":{\"dtype\":\"i1\",\"bdata\":\"MysnRCMyJEk2STo4\"},\"type\":\"bar\",\"xaxis\":\"x2\",\"yaxis\":\"y2\"},{\"marker\":{\"color\":\"#89CCED\",\"line\":{\"color\":\"gray\",\"width\":0.1}},\"name\":\"physiological\",\"x\":[\"background\",\"colon\",\"kidney\",\"liver\",\"lung\",\"omentum\",\"pancreas\",\"peritoneum\",\"skin\",\"small_bowel\",\"spleen\",\"stomach\"],\"y\":{\"dtype\":\"i1\",\"bdata\":\"LzInQCQsJEU7QS0s\"},\"type\":\"bar\",\"xaxis\":\"x2\",\"yaxis\":\"y2\"},{\"marker\":{\"color\":\"#89CCED\",\"line\":{\"color\":\"gray\",\"width\":0.1}},\"name\":\"physiological\",\"x\":[\"background\",\"colon\",\"kidney\",\"liver\",\"lung\",\"omentum\",\"pancreas\",\"peritoneum\",\"skin\",\"small_bowel\",\"spleen\",\"stomach\"],\"y\":{\"dtype\":\"i1\",\"bdata\":\"LTAmPSQqJEA3Pi0o\"},\"type\":\"bar\",\"xaxis\":\"x2\",\"yaxis\":\"y2\"},{\"marker\":{\"color\":\"#89CCED\",\"line\":{\"color\":\"gray\",\"width\":0.1}},\"name\":\"physiological\",\"x\":[\"background\",\"colon\",\"kidney\",\"liver\",\"lung\",\"omentum\",\"pancreas\",\"peritoneum\",\"skin\",\"small_bowel\",\"spleen\",\"stomach\"],\"y\":{\"dtype\":\"i1\",\"bdata\":\"LTYoNyQtJEAxPCwv\"},\"type\":\"bar\",\"xaxis\":\"x2\",\"yaxis\":\"y2\"},{\"marker\":{\"color\":\"#89CCED\",\"line\":{\"color\":\"gray\",\"width\":0.1}},\"name\":\"physiological\",\"x\":[\"background\",\"colon\",\"kidney\",\"liver\",\"lung\",\"omentum\",\"pancreas\",\"peritoneum\",\"skin\",\"small_bowel\",\"spleen\",\"stomach\"],\"y\":{\"dtype\":\"i1\",\"bdata\":\"LTImPiQsJENCOy8r\"},\"type\":\"bar\",\"xaxis\":\"x2\",\"yaxis\":\"y2\"},{\"marker\":{\"color\":\"#89CCED\",\"line\":{\"color\":\"gray\",\"width\":0.1}},\"name\":\"physiological\",\"x\":[\"background\",\"colon\",\"kidney\",\"liver\",\"lung\",\"omentum\",\"pancreas\",\"peritoneum\",\"skin\",\"small_bowel\",\"spleen\",\"stomach\"],\"y\":{\"dtype\":\"i1\",\"bdata\":\"LDUpOCQxJj8\\u002fOy80\"},\"type\":\"bar\",\"xaxis\":\"x2\",\"yaxis\":\"y2\"},{\"marker\":{\"color\":\"#89CCED\",\"line\":{\"color\":\"gray\",\"width\":0.1}},\"name\":\"physiological\",\"x\":[\"background\",\"colon\",\"kidney\",\"liver\",\"lung\",\"omentum\",\"pancreas\",\"peritoneum\",\"skin\",\"small_bowel\",\"spleen\",\"stomach\"],\"y\":{\"dtype\":\"i1\",\"bdata\":\"LTMpNiQxJUFCPjIx\"},\"type\":\"bar\",\"xaxis\":\"x2\",\"yaxis\":\"y2\"},{\"marker\":{\"color\":\"#89CCED\",\"line\":{\"color\":\"gray\",\"width\":0.1}},\"name\":\"physiological\",\"x\":[\"background\",\"colon\",\"kidney\",\"liver\",\"lung\",\"omentum\",\"pancreas\",\"peritoneum\",\"skin\",\"small_bowel\",\"spleen\",\"stomach\"],\"y\":{\"dtype\":\"i1\",\"bdata\":\"LSgrNiQtJkBEPC0v\"},\"type\":\"bar\",\"xaxis\":\"x2\",\"yaxis\":\"y2\"},{\"marker\":{\"color\":\"#89CCED\",\"line\":{\"color\":\"gray\",\"width\":0.1}},\"name\":\"physiological\",\"x\":[\"background\",\"colon\",\"kidney\",\"liver\",\"lung\",\"omentum\",\"pancreas\",\"peritoneum\",\"skin\",\"small_bowel\",\"spleen\",\"stomach\"],\"y\":{\"dtype\":\"i1\",\"bdata\":\"LCsrNCQmJUBENyYn\"},\"type\":\"bar\",\"xaxis\":\"x2\",\"yaxis\":\"y2\"},{\"marker\":{\"color\":\"#89CCED\",\"line\":{\"color\":\"gray\",\"width\":0.1}},\"name\":\"physiological\",\"x\":[\"background\",\"colon\",\"kidney\",\"liver\",\"lung\",\"omentum\",\"pancreas\",\"peritoneum\",\"skin\",\"small_bowel\",\"spleen\",\"stomach\"],\"y\":{\"dtype\":\"i1\",\"bdata\":\"LSwqNCQuKD8\\u002fOy8y\"},\"type\":\"bar\",\"xaxis\":\"x2\",\"yaxis\":\"y2\"},{\"marker\":{\"color\":\"#89CCED\",\"line\":{\"color\":\"gray\",\"width\":0.1}},\"name\":\"physiological\",\"x\":[\"background\",\"colon\",\"kidney\",\"liver\",\"lung\",\"omentum\",\"pancreas\",\"peritoneum\",\"skin\",\"small_bowel\",\"spleen\",\"stomach\"],\"y\":{\"dtype\":\"i1\",\"bdata\":\"LTImMyQsJT9KPCgs\"},\"type\":\"bar\",\"xaxis\":\"x2\",\"yaxis\":\"y2\"},{\"marker\":{\"color\":\"#89CCED\",\"line\":{\"color\":\"gray\",\"width\":0.1}},\"name\":\"physiological\",\"x\":[\"background\",\"colon\",\"kidney\",\"liver\",\"lung\",\"omentum\",\"pancreas\",\"peritoneum\",\"skin\",\"small_bowel\",\"spleen\",\"stomach\"],\"y\":{\"dtype\":\"i1\",\"bdata\":\"LSspPSQwJEFJOyox\"},\"type\":\"bar\",\"xaxis\":\"x2\",\"yaxis\":\"y2\"},{\"marker\":{\"color\":\"#89CCED\",\"line\":{\"color\":\"gray\",\"width\":0.1}},\"name\":\"physiological\",\"x\":[\"background\",\"colon\",\"kidney\",\"liver\",\"lung\",\"omentum\",\"pancreas\",\"peritoneum\",\"skin\",\"small_bowel\",\"spleen\",\"stomach\"],\"y\":{\"dtype\":\"i1\",\"bdata\":\"MzUkRCQwJUxLRTcw\"},\"type\":\"bar\",\"xaxis\":\"x2\",\"yaxis\":\"y2\"},{\"marker\":{\"color\":\"#89CCED\",\"line\":{\"color\":\"gray\",\"width\":0.1}},\"name\":\"physiological\",\"x\":[\"colon\",\"kidney\",\"liver\",\"omentum\",\"pancreas\",\"peritoneum\",\"skin\",\"small_bowel\",\"spleen\",\"stomach\"],\"y\":{\"dtype\":\"i1\",\"bdata\":\"AQEBAQEBAQEBAQ==\"},\"type\":\"bar\",\"xaxis\":\"x2\",\"yaxis\":\"y2\"},{\"marker\":{\"color\":\"#89CCED\",\"line\":{\"color\":\"gray\",\"width\":0.1}},\"name\":\"physiological\",\"x\":[\"colon\",\"kidney\",\"liver\",\"omentum\",\"pancreas\",\"peritoneum\",\"skin\",\"small_bowel\",\"spleen\",\"stomach\"],\"y\":{\"dtype\":\"i1\",\"bdata\":\"AQEBAQEBAQEBAQ==\"},\"type\":\"bar\",\"xaxis\":\"x2\",\"yaxis\":\"y2\"},{\"marker\":{\"color\":\"#DCF0FA\",\"line\":{\"color\":\"gray\",\"width\":0.1}},\"name\":\"malperfused\",\"x\":[\"colon\",\"kidney\",\"liver\",\"spleen\"],\"y\":{\"dtype\":\"i1\",\"bdata\":\"X19fXw==\"},\"type\":\"bar\",\"xaxis\":\"x2\",\"yaxis\":\"y2\"},{\"marker\":{\"color\":\"#DCF0FA\",\"line\":{\"color\":\"gray\",\"width\":0.1}},\"name\":\"malperfused\",\"x\":[\"colon\",\"kidney\",\"liver\",\"spleen\"],\"y\":{\"dtype\":\"i1\",\"bdata\":\"NjY2Ng==\"},\"type\":\"bar\",\"xaxis\":\"x2\",\"yaxis\":\"y2\"},{\"marker\":{\"color\":\"#DCF0FA\",\"line\":{\"color\":\"gray\",\"width\":0.1}},\"name\":\"malperfused\",\"x\":[\"colon\",\"kidney\",\"liver\",\"spleen\"],\"y\":{\"dtype\":\"i1\",\"bdata\":\"VlZWVg==\"},\"type\":\"bar\",\"xaxis\":\"x2\",\"yaxis\":\"y2\"},{\"marker\":{\"color\":\"#DCF0FA\",\"line\":{\"color\":\"gray\",\"width\":0.1}},\"name\":\"malperfused\",\"x\":[\"colon\",\"kidney\",\"liver\",\"spleen\"],\"y\":{\"dtype\":\"i1\",\"bdata\":\"VlZWVg==\"},\"type\":\"bar\",\"xaxis\":\"x2\",\"yaxis\":\"y2\"},{\"marker\":{\"color\":\"#DCF0FA\",\"line\":{\"color\":\"gray\",\"width\":0.1}},\"name\":\"malperfused\",\"x\":[\"colon\",\"kidney\",\"liver\",\"spleen\"],\"y\":{\"dtype\":\"i1\",\"bdata\":\"VlZWVg==\"},\"type\":\"bar\",\"xaxis\":\"x2\",\"yaxis\":\"y2\"},{\"marker\":{\"color\":\"#DCF0FA\",\"line\":{\"color\":\"gray\",\"width\":0.1}},\"name\":\"malperfused\",\"x\":[\"colon\",\"kidney\",\"liver\",\"spleen\"],\"y\":{\"dtype\":\"i1\",\"bdata\":\"VlZVVg==\"},\"type\":\"bar\",\"xaxis\":\"x2\",\"yaxis\":\"y2\"},{\"marker\":{\"color\":\"#DCF0FA\",\"line\":{\"color\":\"gray\",\"width\":0.1}},\"name\":\"malperfused\",\"x\":[\"colon\",\"kidney\",\"liver\",\"spleen\"],\"y\":{\"dtype\":\"i1\",\"bdata\":\"VlZVVg==\"},\"type\":\"bar\",\"xaxis\":\"x2\",\"yaxis\":\"y2\"},{\"marker\":{\"color\":\"#DCF0FA\",\"line\":{\"color\":\"gray\",\"width\":0.1}},\"name\":\"malperfused\",\"x\":[\"colon\",\"kidney\",\"liver\",\"spleen\"],\"y\":{\"dtype\":\"i2\",\"bdata\":\"rgCuAKwArgA=\"},\"type\":\"bar\",\"xaxis\":\"x2\",\"yaxis\":\"y2\"},{\"marker\":{\"color\":\"#DCF0FA\",\"line\":{\"color\":\"gray\",\"width\":0.1}},\"name\":\"malperfused\",\"x\":[\"colon\",\"kidney\",\"liver\",\"spleen\"],\"y\":{\"dtype\":\"i1\",\"bdata\":\"VlZWVg==\"},\"type\":\"bar\",\"xaxis\":\"x2\",\"yaxis\":\"y2\"},{\"marker\":{\"color\":\"#DCF0FA\",\"line\":{\"color\":\"gray\",\"width\":0.1}},\"name\":\"malperfused\",\"x\":[\"colon\",\"kidney\",\"liver\",\"spleen\"],\"y\":{\"dtype\":\"i1\",\"bdata\":\"V1hYWA==\"},\"type\":\"bar\",\"xaxis\":\"x2\",\"yaxis\":\"y2\"},{\"marker\":{\"color\":\"#DCF0FA\",\"line\":{\"color\":\"gray\",\"width\":0.1}},\"name\":\"malperfused\",\"x\":[\"colon\",\"kidney\",\"liver\",\"spleen\"],\"y\":{\"dtype\":\"i1\",\"bdata\":\"VlZWVg==\"},\"type\":\"bar\",\"xaxis\":\"x2\",\"yaxis\":\"y2\"},{\"marker\":{\"color\":\"#DCF0FA\",\"line\":{\"color\":\"gray\",\"width\":0.1}},\"name\":\"malperfused\",\"x\":[\"kidney\"],\"y\":{\"dtype\":\"i1\",\"bdata\":\"Kg==\"},\"type\":\"bar\",\"xaxis\":\"x2\",\"yaxis\":\"y2\"},{\"marker\":{\"color\":\"#DCF0FA\",\"line\":{\"color\":\"gray\",\"width\":0.1}},\"name\":\"malperfused\",\"x\":[\"kidney\"],\"y\":{\"dtype\":\"i1\",\"bdata\":\"LA==\"},\"type\":\"bar\",\"xaxis\":\"x2\",\"yaxis\":\"y2\"},{\"marker\":{\"color\":\"#DCF0FA\",\"line\":{\"color\":\"gray\",\"width\":0.1}},\"name\":\"malperfused\",\"x\":[\"kidney\"],\"y\":{\"dtype\":\"i1\",\"bdata\":\"LA==\"},\"type\":\"bar\",\"xaxis\":\"x2\",\"yaxis\":\"y2\"},{\"marker\":{\"color\":\"#DCF0FA\",\"line\":{\"color\":\"gray\",\"width\":0.1}},\"name\":\"malperfused\",\"x\":[\"kidney\"],\"y\":{\"dtype\":\"i1\",\"bdata\":\"Kw==\"},\"type\":\"bar\",\"xaxis\":\"x2\",\"yaxis\":\"y2\"},{\"marker\":{\"color\":\"#DCF0FA\",\"line\":{\"color\":\"gray\",\"width\":0.1}},\"name\":\"malperfused\",\"x\":[\"kidney\"],\"y\":{\"dtype\":\"i1\",\"bdata\":\"LA==\"},\"type\":\"bar\",\"xaxis\":\"x2\",\"yaxis\":\"y2\"},{\"marker\":{\"color\":\"#DCF0FA\",\"line\":{\"color\":\"gray\",\"width\":0.1}},\"name\":\"malperfused\",\"x\":[\"kidney\"],\"y\":{\"dtype\":\"i1\",\"bdata\":\"LA==\"},\"type\":\"bar\",\"xaxis\":\"x2\",\"yaxis\":\"y2\"},{\"marker\":{\"color\":\"#DCF0FA\",\"line\":{\"color\":\"gray\",\"width\":0.1}},\"name\":\"malperfused\",\"x\":[\"kidney\"],\"y\":{\"dtype\":\"i1\",\"bdata\":\"LA==\"},\"type\":\"bar\",\"xaxis\":\"x2\",\"yaxis\":\"y2\"},{\"marker\":{\"color\":\"#DCF0FA\",\"line\":{\"color\":\"gray\",\"width\":0.1}},\"name\":\"malperfused\",\"x\":[\"kidney\"],\"y\":{\"dtype\":\"i1\",\"bdata\":\"LA==\"},\"type\":\"bar\",\"xaxis\":\"x2\",\"yaxis\":\"y2\"},{\"marker\":{\"color\":\"#DCF0FA\",\"line\":{\"color\":\"gray\",\"width\":0.1}},\"name\":\"malperfused\",\"x\":[\"kidney\"],\"y\":{\"dtype\":\"i1\",\"bdata\":\"LA==\"},\"type\":\"bar\",\"xaxis\":\"x2\",\"yaxis\":\"y2\"},{\"marker\":{\"color\":\"#DCF0FA\",\"line\":{\"color\":\"gray\",\"width\":0.1}},\"name\":\"malperfused\",\"x\":[\"kidney\"],\"y\":{\"dtype\":\"i1\",\"bdata\":\"LA==\"},\"type\":\"bar\",\"xaxis\":\"x2\",\"yaxis\":\"y2\"},{\"marker\":{\"color\":\"#DCF0FA\",\"line\":{\"color\":\"gray\",\"width\":0.1}},\"name\":\"malperfused\",\"x\":[\"kidney\"],\"y\":{\"dtype\":\"i1\",\"bdata\":\"LA==\"},\"type\":\"bar\",\"xaxis\":\"x2\",\"yaxis\":\"y2\"},{\"marker\":{\"color\":\"#DCF0FA\",\"line\":{\"color\":\"gray\",\"width\":0.1}},\"name\":\"malperfused\",\"x\":[\"kidney\"],\"y\":{\"dtype\":\"i1\",\"bdata\":\"LA==\"},\"type\":\"bar\",\"xaxis\":\"x2\",\"yaxis\":\"y2\"},{\"marker\":{\"color\":\"#89CCED\",\"line\":{\"color\":\"#9ACA3D\",\"width\":1}},\"name\":\"icg\",\"x\":[\"colon\",\"kidney\",\"liver\",\"omentum\",\"pancreas\",\"peritoneum\",\"small_bowel\",\"stomach\"],\"y\":{\"dtype\":\"i2\",\"bdata\":\"EQEMAQ4BEQEQAREBEQERAQ==\"},\"type\":\"bar\",\"xaxis\":\"x2\",\"yaxis\":\"y2\"},{\"marker\":{\"color\":\"#89CCED\",\"line\":{\"color\":\"#9ACA3D\",\"width\":1}},\"name\":\"icg\",\"x\":[\"colon\",\"kidney\",\"liver\",\"omentum\",\"pancreas\",\"peritoneum\",\"small_bowel\",\"stomach\"],\"y\":{\"dtype\":\"i1\",\"bdata\":\"Hx8fHx8fHx8=\"},\"type\":\"bar\",\"xaxis\":\"x2\",\"yaxis\":\"y2\"},{\"marker\":{\"color\":\"#89CCED\",\"line\":{\"color\":\"#9ACA3D\",\"width\":1}},\"name\":\"icg\",\"x\":[\"colon\",\"kidney\",\"liver\",\"omentum\",\"pancreas\",\"peritoneum\",\"small_bowel\",\"stomach\"],\"y\":{\"dtype\":\"i2\",\"bdata\":\"wgDCAMIAwQDCAMIAwgDCAA==\"},\"type\":\"bar\",\"xaxis\":\"x2\",\"yaxis\":\"y2\"},{\"marker\":{\"color\":\"#89CCED\",\"line\":{\"color\":\"#9ACA3D\",\"width\":1}},\"name\":\"icg\",\"x\":[\"colon\",\"kidney\",\"liver\",\"omentum\",\"pancreas\",\"peritoneum\",\"small_bowel\",\"stomach\"],\"y\":{\"dtype\":\"i2\",\"bdata\":\"1wDXAL4A1wDXANcA1wDXAA==\"},\"type\":\"bar\",\"xaxis\":\"x2\",\"yaxis\":\"y2\"},{\"marker\":{\"color\":\"#89CCED\",\"line\":{\"color\":\"#9ACA3D\",\"width\":1}},\"name\":\"icg\",\"x\":[\"colon\",\"kidney\",\"liver\",\"omentum\",\"pancreas\",\"peritoneum\",\"small_bowel\",\"stomach\"],\"y\":{\"dtype\":\"i2\",\"bdata\":\"0wDTANMA0wDTANMA0wDTAA==\"},\"type\":\"bar\",\"xaxis\":\"x2\",\"yaxis\":\"y2\"},{\"marker\":{\"color\":\"#89CCED\",\"line\":{\"color\":\"#9ACA3D\",\"width\":1}},\"name\":\"icg\",\"x\":[\"colon\",\"kidney\",\"liver\",\"omentum\",\"pancreas\",\"peritoneum\",\"small_bowel\",\"stomach\"],\"y\":{\"dtype\":\"i2\",\"bdata\":\"1QDVANUA1QDUANUA1QDVAA==\"},\"type\":\"bar\",\"xaxis\":\"x2\",\"yaxis\":\"y2\"},{\"marker\":{\"color\":\"#DDCB76\",\"line\":{\"color\":\"gray\",\"width\":0.1}},\"name\":\"physiological\",\"x\":[\"background\",\"colon\",\"liver\",\"omentum\",\"skin\",\"small_bowel\",\"stomach\"],\"y\":{\"dtype\":\"i1\",\"bdata\":\"BwEGBwYBBg==\"},\"type\":\"bar\",\"xaxis\":\"x3\",\"yaxis\":\"y3\"},{\"marker\":{\"color\":\"#DDCB76\",\"line\":{\"color\":\"gray\",\"width\":0.1}},\"name\":\"physiological\",\"x\":[\"background\",\"colon\",\"liver\",\"omentum\",\"skin\",\"stomach\"],\"y\":{\"dtype\":\"i1\",\"bdata\":\"AgECAgEB\"},\"type\":\"bar\",\"xaxis\":\"x3\",\"yaxis\":\"y3\"},{\"marker\":{\"color\":\"#DDCB76\",\"line\":{\"color\":\"gray\",\"width\":0.1}},\"name\":\"physiological\",\"x\":[\"background\",\"colon\",\"liver\",\"omentum\",\"stomach\"],\"y\":{\"dtype\":\"i1\",\"bdata\":\"AgEBAgE=\"},\"type\":\"bar\",\"xaxis\":\"x3\",\"yaxis\":\"y3\"},{\"marker\":{\"color\":\"#DDCB76\",\"line\":{\"color\":\"gray\",\"width\":0.1}},\"name\":\"physiological\",\"x\":[\"background\",\"liver\",\"omentum\",\"peritoneum\",\"small_bowel\",\"spleen\",\"stomach\"],\"y\":{\"dtype\":\"i1\",\"bdata\":\"BQUFAQIFBQ==\"},\"type\":\"bar\",\"xaxis\":\"x3\",\"yaxis\":\"y3\"},{\"marker\":{\"color\":\"#DDCB76\",\"line\":{\"color\":\"gray\",\"width\":0.1}},\"name\":\"physiological\",\"x\":[\"background\",\"liver\",\"omentum\",\"small_bowel\",\"stomach\"],\"y\":{\"dtype\":\"i1\",\"bdata\":\"AgICAgI=\"},\"type\":\"bar\",\"xaxis\":\"x3\",\"yaxis\":\"y3\"},{\"marker\":{\"color\":\"#DDCB76\",\"line\":{\"color\":\"gray\",\"width\":0.1}},\"name\":\"physiological\",\"x\":[\"background\",\"liver\",\"omentum\",\"skin\",\"small_bowel\",\"stomach\"],\"y\":{\"dtype\":\"i1\",\"bdata\":\"AgICAgIB\"},\"type\":\"bar\",\"xaxis\":\"x3\",\"yaxis\":\"y3\"},{\"marker\":{\"color\":\"#DDCB76\",\"line\":{\"color\":\"gray\",\"width\":0.1}},\"name\":\"physiological\",\"x\":[\"background\",\"colon\",\"liver\",\"omentum\",\"skin\",\"small_bowel\",\"stomach\"],\"y\":{\"dtype\":\"i1\",\"bdata\":\"DAIKCQcMCw==\"},\"type\":\"bar\",\"xaxis\":\"x3\",\"yaxis\":\"y3\"},{\"marker\":{\"color\":\"#DDCB76\",\"line\":{\"color\":\"gray\",\"width\":0.1}},\"name\":\"physiological\",\"x\":[\"background\",\"colon\",\"liver\",\"omentum\",\"pancreas\",\"peritoneum\",\"skin\",\"small_bowel\",\"stomach\"],\"y\":{\"dtype\":\"i1\",\"bdata\":\"CwkKCAIIAgkB\"},\"type\":\"bar\",\"xaxis\":\"x3\",\"yaxis\":\"y3\"},{\"marker\":{\"color\":\"#DDCB76\",\"line\":{\"color\":\"gray\",\"width\":0.1}},\"name\":\"physiological\",\"x\":[\"background\",\"omentum\",\"small_bowel\",\"stomach\"],\"y\":{\"dtype\":\"i1\",\"bdata\":\"AgICAg==\"},\"type\":\"bar\",\"xaxis\":\"x3\",\"yaxis\":\"y3\"},{\"marker\":{\"color\":\"#DDCB76\",\"line\":{\"color\":\"gray\",\"width\":0.1}},\"name\":\"physiological\",\"x\":[\"background\",\"colon\",\"liver\",\"omentum\",\"pancreas\",\"peritoneum\",\"small_bowel\",\"spleen\",\"stomach\"],\"y\":{\"dtype\":\"i1\",\"bdata\":\"BgEBBAIBAwMF\"},\"type\":\"bar\",\"xaxis\":\"x3\",\"yaxis\":\"y3\"},{\"marker\":{\"color\":\"#DDCB76\",\"line\":{\"color\":\"gray\",\"width\":0.1}},\"name\":\"physiological\",\"x\":[\"background\",\"colon\",\"liver\",\"lung\",\"omentum\",\"skin\",\"small_bowel\",\"stomach\"],\"y\":{\"dtype\":\"i1\",\"bdata\":\"BQICBAEFAgE=\"},\"type\":\"bar\",\"xaxis\":\"x3\",\"yaxis\":\"y3\"},{\"marker\":{\"color\":\"#DDCB76\",\"line\":{\"color\":\"gray\",\"width\":0.1}},\"name\":\"physiological\",\"x\":[\"background\",\"liver\",\"omentum\",\"small_bowel\",\"spleen\",\"stomach\"],\"y\":{\"dtype\":\"i1\",\"bdata\":\"CwsJCwME\"},\"type\":\"bar\",\"xaxis\":\"x3\",\"yaxis\":\"y3\"},{\"marker\":{\"color\":\"#DDCB76\",\"line\":{\"color\":\"gray\",\"width\":0.1}},\"name\":\"physiological\",\"x\":[\"background\",\"colon\",\"liver\",\"omentum\",\"small_bowel\",\"stomach\"],\"y\":{\"dtype\":\"i1\",\"bdata\":\"AgICAgIB\"},\"type\":\"bar\",\"xaxis\":\"x3\",\"yaxis\":\"y3\"},{\"marker\":{\"color\":\"#DDCB76\",\"line\":{\"color\":\"gray\",\"width\":0.1}},\"name\":\"physiological\",\"x\":[\"background\",\"liver\",\"omentum\",\"small_bowel\",\"stomach\"],\"y\":{\"dtype\":\"i1\",\"bdata\":\"AgECAQE=\"},\"type\":\"bar\",\"xaxis\":\"x3\",\"yaxis\":\"y3\"},{\"marker\":{\"color\":\"#DDCB76\",\"line\":{\"color\":\"gray\",\"width\":0.1}},\"name\":\"physiological\",\"x\":[\"background\",\"colon\",\"liver\",\"omentum\",\"peritoneum\",\"stomach\"],\"y\":{\"dtype\":\"i1\",\"bdata\":\"AgECAgEC\"},\"type\":\"bar\",\"xaxis\":\"x3\",\"yaxis\":\"y3\"},{\"marker\":{\"color\":\"#DDCB76\",\"line\":{\"color\":\"gray\",\"width\":0.1}},\"name\":\"physiological\",\"x\":[\"background\",\"colon\",\"liver\",\"omentum\",\"small_bowel\",\"stomach\"],\"y\":{\"dtype\":\"i1\",\"bdata\":\"AgICAgIC\"},\"type\":\"bar\",\"xaxis\":\"x3\",\"yaxis\":\"y3\"},{\"marker\":{\"color\":\"#DDCB76\",\"line\":{\"color\":\"gray\",\"width\":0.1}},\"name\":\"physiological\",\"x\":[\"background\",\"colon\",\"liver\",\"omentum\",\"small_bowel\",\"stomach\"],\"y\":{\"dtype\":\"i1\",\"bdata\":\"AgICAQIB\"},\"type\":\"bar\",\"xaxis\":\"x3\",\"yaxis\":\"y3\"},{\"marker\":{\"color\":\"#DDCB76\",\"line\":{\"color\":\"gray\",\"width\":0.1}},\"name\":\"physiological\",\"x\":[\"background\",\"liver\",\"omentum\",\"pancreas\",\"small_bowel\",\"stomach\"],\"y\":{\"dtype\":\"i1\",\"bdata\":\"AwECAQMB\"},\"type\":\"bar\",\"xaxis\":\"x3\",\"yaxis\":\"y3\"},{\"marker\":{\"color\":\"#DDCB76\",\"line\":{\"color\":\"gray\",\"width\":0.1}},\"name\":\"physiological\",\"x\":[\"background\",\"colon\",\"liver\",\"omentum\",\"small_bowel\",\"stomach\"],\"y\":{\"dtype\":\"i1\",\"bdata\":\"AgICAQIB\"},\"type\":\"bar\",\"xaxis\":\"x3\",\"yaxis\":\"y3\"},{\"marker\":{\"color\":\"#DDCB76\",\"line\":{\"color\":\"gray\",\"width\":0.1}},\"name\":\"physiological\",\"x\":[\"background\",\"colon\",\"liver\",\"lung\",\"omentum\",\"peritoneum\",\"skin\",\"small_bowel\",\"stomach\"],\"y\":{\"dtype\":\"i1\",\"bdata\":\"EAkLBQ8KCQIQ\"},\"type\":\"bar\",\"xaxis\":\"x3\",\"yaxis\":\"y3\"},{\"marker\":{\"color\":\"#DDCB76\",\"line\":{\"color\":\"gray\",\"width\":0.1}},\"name\":\"physiological\",\"x\":[\"background\",\"colon\",\"omentum\",\"pancreas\",\"small_bowel\",\"stomach\"],\"y\":{\"dtype\":\"i1\",\"bdata\":\"AwEDAQEB\"},\"type\":\"bar\",\"xaxis\":\"x3\",\"yaxis\":\"y3\"},{\"marker\":{\"color\":\"#DDCB76\",\"line\":{\"color\":\"gray\",\"width\":0.1}},\"name\":\"physiological\",\"x\":[\"background\",\"colon\",\"liver\",\"omentum\",\"pancreas\",\"stomach\"],\"y\":{\"dtype\":\"i1\",\"bdata\":\"BgEEBQIG\"},\"type\":\"bar\",\"xaxis\":\"x3\",\"yaxis\":\"y3\"},{\"marker\":{\"color\":\"#DDCB76\",\"line\":{\"color\":\"gray\",\"width\":0.1}},\"name\":\"physiological\",\"x\":[\"background\",\"colon\",\"liver\",\"omentum\",\"small_bowel\",\"stomach\"],\"y\":{\"dtype\":\"i1\",\"bdata\":\"BQQDBQMF\"},\"type\":\"bar\",\"xaxis\":\"x3\",\"yaxis\":\"y3\"},{\"marker\":{\"color\":\"#DDCB76\",\"line\":{\"color\":\"gray\",\"width\":0.1}},\"name\":\"physiological\",\"x\":[\"background\",\"liver\",\"omentum\",\"pancreas\",\"stomach\"],\"y\":{\"dtype\":\"i1\",\"bdata\":\"AwMBAgE=\"},\"type\":\"bar\",\"xaxis\":\"x3\",\"yaxis\":\"y3\"},{\"marker\":{\"color\":\"#DDCB76\",\"line\":{\"color\":\"gray\",\"width\":0.1}},\"name\":\"physiological\",\"x\":[\"background\",\"liver\",\"lung\",\"omentum\",\"peritoneum\",\"skin\",\"stomach\"],\"y\":{\"dtype\":\"i1\",\"bdata\":\"BwEGAQEGAQ==\"},\"type\":\"bar\",\"xaxis\":\"x3\",\"yaxis\":\"y3\"},{\"marker\":{\"color\":\"#DDCB76\",\"line\":{\"color\":\"gray\",\"width\":0.1}},\"name\":\"physiological\",\"x\":[\"background\",\"colon\",\"liver\",\"omentum\",\"pancreas\",\"peritoneum\",\"skin\",\"small_bowel\",\"spleen\",\"stomach\"],\"y\":{\"dtype\":\"i1\",\"bdata\":\"CQIBBQQEAgUDAQ==\"},\"type\":\"bar\",\"xaxis\":\"x3\",\"yaxis\":\"y3\"},{\"marker\":{\"color\":\"#DDCB76\",\"line\":{\"color\":\"gray\",\"width\":0.1}},\"name\":\"physiological\",\"x\":[\"background\",\"colon\",\"omentum\",\"pancreas\",\"small_bowel\",\"stomach\"],\"y\":{\"dtype\":\"i1\",\"bdata\":\"AgECAQIC\"},\"type\":\"bar\",\"xaxis\":\"x3\",\"yaxis\":\"y3\"},{\"marker\":{\"color\":\"#DDCB76\",\"line\":{\"color\":\"gray\",\"width\":0.1}},\"name\":\"physiological\",\"x\":[\"background\",\"colon\",\"liver\",\"omentum\",\"small_bowel\",\"stomach\"],\"y\":{\"dtype\":\"i1\",\"bdata\":\"AgICAgIB\"},\"type\":\"bar\",\"xaxis\":\"x3\",\"yaxis\":\"y3\"},{\"marker\":{\"color\":\"#DDCB76\",\"line\":{\"color\":\"gray\",\"width\":0.1}},\"name\":\"physiological\",\"x\":[\"background\",\"colon\",\"liver\",\"omentum\",\"peritoneum\",\"skin\",\"small_bowel\",\"stomach\"],\"y\":{\"dtype\":\"i1\",\"bdata\":\"CggKCgoKCgo=\"},\"type\":\"bar\",\"xaxis\":\"x3\",\"yaxis\":\"y3\"},{\"marker\":{\"color\":\"#DDCB76\",\"line\":{\"color\":\"gray\",\"width\":0.1}},\"name\":\"physiological\",\"x\":[\"background\",\"colon\",\"liver\",\"small_bowel\",\"stomach\"],\"y\":{\"dtype\":\"i1\",\"bdata\":\"AgIBAgE=\"},\"type\":\"bar\",\"xaxis\":\"x3\",\"yaxis\":\"y3\"},{\"marker\":{\"color\":\"#DDCB76\",\"line\":{\"color\":\"gray\",\"width\":0.1}},\"name\":\"physiological\",\"x\":[\"background\",\"colon\",\"liver\",\"omentum\",\"small_bowel\",\"stomach\"],\"y\":{\"dtype\":\"i1\",\"bdata\":\"AgEBAgEC\"},\"type\":\"bar\",\"xaxis\":\"x3\",\"yaxis\":\"y3\"},{\"marker\":{\"color\":\"#DDCB76\",\"line\":{\"color\":\"gray\",\"width\":0.1}},\"name\":\"physiological\",\"x\":[\"background\",\"liver\",\"omentum\",\"skin\",\"small_bowel\",\"stomach\"],\"y\":{\"dtype\":\"i1\",\"bdata\":\"AgEBAgEB\"},\"type\":\"bar\",\"xaxis\":\"x3\",\"yaxis\":\"y3\"},{\"marker\":{\"color\":\"#DDCB76\",\"line\":{\"color\":\"gray\",\"width\":0.1}},\"name\":\"physiological\",\"x\":[\"background\",\"colon\",\"liver\",\"omentum\",\"skin\",\"small_bowel\",\"spleen\",\"stomach\"],\"y\":{\"dtype\":\"i1\",\"bdata\":\"CwULCQQHAwY=\"},\"type\":\"bar\",\"xaxis\":\"x3\",\"yaxis\":\"y3\"},{\"marker\":{\"color\":\"#DDCB76\",\"line\":{\"color\":\"gray\",\"width\":0.1}},\"name\":\"physiological\",\"x\":[\"background\",\"colon\",\"liver\",\"omentum\",\"stomach\"],\"y\":{\"dtype\":\"i1\",\"bdata\":\"AgICAgE=\"},\"type\":\"bar\",\"xaxis\":\"x3\",\"yaxis\":\"y3\"},{\"marker\":{\"color\":\"#DDCB76\",\"line\":{\"color\":\"gray\",\"width\":0.1}},\"name\":\"physiological\",\"x\":[\"background\",\"colon\",\"liver\",\"omentum\",\"peritoneum\",\"small_bowel\",\"stomach\"],\"y\":{\"dtype\":\"i1\",\"bdata\":\"BQQEBAMDBA==\"},\"type\":\"bar\",\"xaxis\":\"x3\",\"yaxis\":\"y3\"},{\"marker\":{\"color\":\"#DDCB76\",\"line\":{\"color\":\"gray\",\"width\":0.1}},\"name\":\"physiological\",\"x\":[\"background\",\"colon\",\"liver\",\"omentum\",\"small_bowel\",\"stomach\"],\"y\":{\"dtype\":\"i1\",\"bdata\":\"BAEDBAQD\"},\"type\":\"bar\",\"xaxis\":\"x3\",\"yaxis\":\"y3\"},{\"marker\":{\"color\":\"#DDCB76\",\"line\":{\"color\":\"gray\",\"width\":0.1}},\"name\":\"physiological\",\"x\":[\"background\",\"colon\",\"liver\",\"pancreas\",\"small_bowel\",\"stomach\"],\"y\":{\"dtype\":\"i1\",\"bdata\":\"BAQDAwED\"},\"type\":\"bar\",\"xaxis\":\"x3\",\"yaxis\":\"y3\"},{\"marker\":{\"color\":\"#DDCB76\",\"line\":{\"color\":\"gray\",\"width\":0.1}},\"name\":\"physiological\",\"x\":[\"background\",\"liver\",\"pancreas\",\"skin\",\"small_bowel\",\"spleen\",\"stomach\"],\"y\":{\"dtype\":\"i1\",\"bdata\":\"BQUBAgQCAg==\"},\"type\":\"bar\",\"xaxis\":\"x3\",\"yaxis\":\"y3\"},{\"marker\":{\"color\":\"#DDCB76\",\"line\":{\"color\":\"gray\",\"width\":0.1}},\"name\":\"physiological\",\"x\":[\"background\",\"liver\",\"omentum\",\"pancreas\",\"stomach\"],\"y\":{\"dtype\":\"i1\",\"bdata\":\"AgECAQE=\"},\"type\":\"bar\",\"xaxis\":\"x3\",\"yaxis\":\"y3\"},{\"marker\":{\"color\":\"#DDCB76\",\"line\":{\"color\":\"gray\",\"width\":0.1}},\"name\":\"physiological\",\"x\":[\"background\",\"colon\",\"liver\",\"stomach\"],\"y\":{\"dtype\":\"i1\",\"bdata\":\"AgEBAQ==\"},\"type\":\"bar\",\"xaxis\":\"x3\",\"yaxis\":\"y3\"},{\"marker\":{\"color\":\"#DDCB76\",\"line\":{\"color\":\"gray\",\"width\":0.1}},\"name\":\"physiological\",\"x\":[\"background\",\"colon\",\"liver\",\"omentum\",\"pancreas\",\"small_bowel\",\"stomach\"],\"y\":{\"dtype\":\"i1\",\"bdata\":\"CQQJCAUFBQ==\"},\"type\":\"bar\",\"xaxis\":\"x3\",\"yaxis\":\"y3\"},{\"marker\":{\"color\":\"#DDCB76\",\"line\":{\"color\":\"gray\",\"width\":0.1}},\"name\":\"physiological\",\"x\":[\"background\",\"colon\",\"liver\",\"omentum\",\"peritoneum\",\"small_bowel\",\"stomach\"],\"y\":{\"dtype\":\"i1\",\"bdata\":\"CAUIBwMDBg==\"},\"type\":\"bar\",\"xaxis\":\"x3\",\"yaxis\":\"y3\"},{\"marker\":{\"color\":\"#DDCB76\",\"line\":{\"color\":\"gray\",\"width\":0.1}},\"name\":\"physiological\",\"x\":[\"background\",\"colon\",\"liver\",\"omentum\",\"small_bowel\",\"stomach\"],\"y\":{\"dtype\":\"i1\",\"bdata\":\"AgIBAgIB\"},\"type\":\"bar\",\"xaxis\":\"x3\",\"yaxis\":\"y3\"},{\"marker\":{\"color\":\"#DDCB76\",\"line\":{\"color\":\"gray\",\"width\":0.1}},\"name\":\"physiological\",\"x\":[\"background\",\"colon\",\"liver\",\"omentum\",\"peritoneum\",\"skin\",\"small_bowel\",\"stomach\"],\"y\":{\"dtype\":\"i1\",\"bdata\":\"CAMICAgBAwc=\"},\"type\":\"bar\",\"xaxis\":\"x3\",\"yaxis\":\"y3\"},{\"marker\":{\"color\":\"#DDCB76\",\"line\":{\"color\":\"gray\",\"width\":0.1}},\"name\":\"physiological\",\"x\":[\"background\",\"colon\",\"liver\",\"omentum\",\"skin\",\"small_bowel\",\"stomach\"],\"y\":{\"dtype\":\"i1\",\"bdata\":\"BAMEAQEDAw==\"},\"type\":\"bar\",\"xaxis\":\"x3\",\"yaxis\":\"y3\"},{\"marker\":{\"color\":\"#DDCB76\",\"line\":{\"color\":\"gray\",\"width\":0.1}},\"name\":\"physiological\",\"x\":[\"background\",\"colon\",\"liver\",\"omentum\",\"small_bowel\",\"stomach\"],\"y\":{\"dtype\":\"i1\",\"bdata\":\"AgECAQEC\"},\"type\":\"bar\",\"xaxis\":\"x3\",\"yaxis\":\"y3\"},{\"marker\":{\"color\":\"#DDCB76\",\"line\":{\"color\":\"gray\",\"width\":0.1}},\"name\":\"physiological\",\"x\":[\"background\",\"liver\",\"omentum\",\"pancreas\",\"small_bowel\",\"stomach\"],\"y\":{\"dtype\":\"i1\",\"bdata\":\"AgECAQIC\"},\"type\":\"bar\",\"xaxis\":\"x3\",\"yaxis\":\"y3\"},{\"marker\":{\"color\":\"#DDCB76\",\"line\":{\"color\":\"gray\",\"width\":0.1}},\"name\":\"physiological\",\"x\":[\"background\",\"liver\",\"omentum\",\"small_bowel\",\"stomach\"],\"y\":{\"dtype\":\"i1\",\"bdata\":\"AgECAgE=\"},\"type\":\"bar\",\"xaxis\":\"x3\",\"yaxis\":\"y3\"},{\"marker\":{\"color\":\"#DDCB76\",\"line\":{\"color\":\"gray\",\"width\":0.1}},\"name\":\"physiological\",\"x\":[\"background\",\"colon\",\"liver\",\"omentum\",\"pancreas\",\"small_bowel\",\"stomach\"],\"y\":{\"dtype\":\"i1\",\"bdata\":\"BAICBAEBAg==\"},\"type\":\"bar\",\"xaxis\":\"x3\",\"yaxis\":\"y3\"},{\"marker\":{\"color\":\"#DDCB76\",\"line\":{\"color\":\"gray\",\"width\":0.1}},\"name\":\"physiological\",\"x\":[\"background\",\"colon\",\"liver\",\"omentum\",\"skin\",\"stomach\"],\"y\":{\"dtype\":\"i1\",\"bdata\":\"AwIDAQIB\"},\"type\":\"bar\",\"xaxis\":\"x3\",\"yaxis\":\"y3\"},{\"marker\":{\"color\":\"#DDCB76\",\"line\":{\"color\":\"gray\",\"width\":0.1}},\"name\":\"physiological\",\"x\":[\"background\",\"colon\",\"liver\",\"omentum\",\"pancreas\",\"peritoneum\",\"skin\",\"small_bowel\",\"spleen\",\"stomach\"],\"y\":{\"dtype\":\"i1\",\"bdata\":\"EQkREQUCAgwDCA==\"},\"type\":\"bar\",\"xaxis\":\"x3\",\"yaxis\":\"y3\"},{\"marker\":{\"color\":\"#DDCB76\",\"line\":{\"color\":\"gray\",\"width\":0.1}},\"name\":\"physiological\",\"x\":[\"background\",\"colon\",\"liver\",\"omentum\",\"small_bowel\",\"stomach\"],\"y\":{\"dtype\":\"i1\",\"bdata\":\"BQMEBQMB\"},\"type\":\"bar\",\"xaxis\":\"x3\",\"yaxis\":\"y3\"},{\"marker\":{\"color\":\"#DDCB76\",\"line\":{\"color\":\"gray\",\"width\":0.1}},\"name\":\"physiological\",\"x\":[\"background\",\"colon\",\"liver\",\"omentum\",\"pancreas\",\"small_bowel\",\"stomach\"],\"y\":{\"dtype\":\"i1\",\"bdata\":\"BwYHBwMEBw==\"},\"type\":\"bar\",\"xaxis\":\"x3\",\"yaxis\":\"y3\"},{\"marker\":{\"color\":\"#DDCB76\",\"line\":{\"color\":\"gray\",\"width\":0.1}},\"name\":\"physiological\",\"x\":[\"background\",\"colon\",\"liver\",\"lung\",\"omentum\",\"peritoneum\",\"skin\",\"small_bowel\",\"spleen\",\"stomach\"],\"y\":{\"dtype\":\"i1\",\"bdata\":\"CQEDBgMCCAMCAw==\"},\"type\":\"bar\",\"xaxis\":\"x3\",\"yaxis\":\"y3\"},{\"marker\":{\"color\":\"#DDCB76\",\"line\":{\"color\":\"gray\",\"width\":0.1}},\"name\":\"physiological\",\"x\":[\"background\",\"colon\",\"liver\",\"lung\",\"omentum\",\"skin\",\"small_bowel\",\"stomach\"],\"y\":{\"dtype\":\"i1\",\"bdata\":\"BwEBBgEGAQE=\"},\"type\":\"bar\",\"xaxis\":\"x3\",\"yaxis\":\"y3\"},{\"marker\":{\"color\":\"#DDCB76\",\"line\":{\"color\":\"gray\",\"width\":0.1}},\"name\":\"physiological\",\"x\":[\"background\",\"colon\",\"liver\",\"small_bowel\",\"stomach\"],\"y\":{\"dtype\":\"i1\",\"bdata\":\"AgIBAQE=\"},\"type\":\"bar\",\"xaxis\":\"x3\",\"yaxis\":\"y3\"},{\"marker\":{\"color\":\"#DDCB76\",\"line\":{\"color\":\"gray\",\"width\":0.1}},\"name\":\"physiological\",\"x\":[\"background\",\"liver\",\"omentum\",\"peritoneum\",\"stomach\"],\"y\":{\"dtype\":\"i1\",\"bdata\":\"BQUFAgQ=\"},\"type\":\"bar\",\"xaxis\":\"x3\",\"yaxis\":\"y3\"},{\"marker\":{\"color\":\"#DDCB76\",\"line\":{\"color\":\"gray\",\"width\":0.1}},\"name\":\"physiological\",\"x\":[\"background\",\"liver\",\"omentum\",\"stomach\"],\"y\":{\"dtype\":\"i1\",\"bdata\":\"CAgBAQ==\"},\"type\":\"bar\",\"xaxis\":\"x3\",\"yaxis\":\"y3\"},{\"marker\":{\"color\":\"#DDCB76\",\"line\":{\"color\":\"gray\",\"width\":0.1}},\"name\":\"physiological\",\"x\":[\"background\",\"colon\",\"liver\",\"omentum\",\"peritoneum\",\"skin\",\"small_bowel\",\"stomach\"],\"y\":{\"dtype\":\"i1\",\"bdata\":\"CQYICQMJAQY=\"},\"type\":\"bar\",\"xaxis\":\"x3\",\"yaxis\":\"y3\"},{\"marker\":{\"color\":\"#DDCB76\",\"line\":{\"color\":\"gray\",\"width\":0.1}},\"name\":\"physiological\",\"x\":[\"background\",\"colon\",\"liver\",\"omentum\",\"pancreas\",\"small_bowel\",\"spleen\",\"stomach\"],\"y\":{\"dtype\":\"i1\",\"bdata\":\"EA0QEAcOBg4=\"},\"type\":\"bar\",\"xaxis\":\"x3\",\"yaxis\":\"y3\"},{\"marker\":{\"color\":\"#DDCB76\",\"line\":{\"color\":\"gray\",\"width\":0.1}},\"name\":\"physiological\",\"x\":[\"background\",\"colon\",\"liver\",\"omentum\",\"peritoneum\",\"skin\",\"small_bowel\",\"stomach\"],\"y\":{\"dtype\":\"i1\",\"bdata\":\"CAEGBQYEAwE=\"},\"type\":\"bar\",\"xaxis\":\"x3\",\"yaxis\":\"y3\"},{\"marker\":{\"color\":\"#DDCB76\",\"line\":{\"color\":\"gray\",\"width\":0.1}},\"name\":\"physiological\",\"x\":[\"background\",\"colon\",\"liver\",\"omentum\",\"skin\",\"small_bowel\",\"spleen\",\"stomach\"],\"y\":{\"dtype\":\"i1\",\"bdata\":\"CwgKCwMGAQs=\"},\"type\":\"bar\",\"xaxis\":\"x3\",\"yaxis\":\"y3\"},{\"marker\":{\"color\":\"#DDCB76\",\"line\":{\"color\":\"gray\",\"width\":0.1}},\"name\":\"physiological\",\"x\":[\"background\",\"colon\",\"liver\",\"omentum\",\"small_bowel\",\"stomach\"],\"y\":{\"dtype\":\"i1\",\"bdata\":\"AgECAgEB\"},\"type\":\"bar\",\"xaxis\":\"x3\",\"yaxis\":\"y3\"},{\"marker\":{\"color\":\"#DDCB76\",\"line\":{\"color\":\"gray\",\"width\":0.1}},\"name\":\"physiological\",\"x\":[\"background\",\"colon\",\"liver\",\"omentum\",\"small_bowel\",\"stomach\"],\"y\":{\"dtype\":\"i1\",\"bdata\":\"AgEBAgIC\"},\"type\":\"bar\",\"xaxis\":\"x3\",\"yaxis\":\"y3\"},{\"marker\":{\"color\":\"#DDCB76\",\"line\":{\"color\":\"gray\",\"width\":0.1}},\"name\":\"physiological\",\"x\":[\"background\",\"liver\",\"omentum\",\"small_bowel\",\"stomach\"],\"y\":{\"dtype\":\"i1\",\"bdata\":\"AgIBAQE=\"},\"type\":\"bar\",\"xaxis\":\"x3\",\"yaxis\":\"y3\"},{\"marker\":{\"color\":\"#DDCB76\",\"line\":{\"color\":\"gray\",\"width\":0.1}},\"name\":\"physiological\",\"x\":[\"background\",\"colon\",\"liver\",\"omentum\",\"small_bowel\",\"stomach\"],\"y\":{\"dtype\":\"i1\",\"bdata\":\"CAUICAIF\"},\"type\":\"bar\",\"xaxis\":\"x3\",\"yaxis\":\"y3\"},{\"marker\":{\"color\":\"#DDCB76\",\"line\":{\"color\":\"gray\",\"width\":0.1}},\"name\":\"physiological\",\"x\":[\"background\",\"colon\",\"liver\",\"omentum\",\"pancreas\",\"small_bowel\",\"spleen\",\"stomach\"],\"y\":{\"dtype\":\"i1\",\"bdata\":\"BQQFBQQDBAE=\"},\"type\":\"bar\",\"xaxis\":\"x3\",\"yaxis\":\"y3\"},{\"marker\":{\"color\":\"#DDCB76\",\"line\":{\"color\":\"gray\",\"width\":0.1}},\"name\":\"physiological\",\"x\":[\"background\",\"colon\",\"liver\",\"omentum\",\"peritoneum\",\"skin\",\"small_bowel\",\"stomach\"],\"y\":{\"dtype\":\"i1\",\"bdata\":\"BAQEBAICAQQ=\"},\"type\":\"bar\",\"xaxis\":\"x3\",\"yaxis\":\"y3\"},{\"marker\":{\"color\":\"#DDCB76\",\"line\":{\"color\":\"gray\",\"width\":0.1}},\"name\":\"physiological\",\"x\":[\"background\",\"colon\",\"liver\",\"omentum\",\"peritoneum\",\"skin\",\"small_bowel\",\"stomach\"],\"y\":{\"dtype\":\"i1\",\"bdata\":\"CAQHCAcGBwU=\"},\"type\":\"bar\",\"xaxis\":\"x3\",\"yaxis\":\"y3\"},{\"marker\":{\"color\":\"#DDCB76\",\"line\":{\"color\":\"gray\",\"width\":0.1}},\"name\":\"physiological\",\"x\":[\"background\",\"liver\",\"omentum\",\"peritoneum\",\"skin\",\"stomach\"],\"y\":{\"dtype\":\"i1\",\"bdata\":\"AgICAgIC\"},\"type\":\"bar\",\"xaxis\":\"x3\",\"yaxis\":\"y3\"},{\"marker\":{\"color\":\"#DDCB76\",\"line\":{\"color\":\"gray\",\"width\":0.1}},\"name\":\"physiological\",\"x\":[\"background\",\"colon\",\"liver\",\"omentum\",\"peritoneum\",\"skin\",\"small_bowel\",\"stomach\"],\"y\":{\"dtype\":\"i1\",\"bdata\":\"BgYGBQUEBgQ=\"},\"type\":\"bar\",\"xaxis\":\"x3\",\"yaxis\":\"y3\"},{\"marker\":{\"color\":\"#DDCB76\",\"line\":{\"color\":\"gray\",\"width\":0.1}},\"name\":\"physiological\",\"x\":[\"background\",\"liver\",\"omentum\",\"peritoneum\",\"skin\",\"stomach\"],\"y\":{\"dtype\":\"i1\",\"bdata\":\"BQcBBgYD\"},\"type\":\"bar\",\"xaxis\":\"x3\",\"yaxis\":\"y3\"},{\"marker\":{\"color\":\"#DDCB76\",\"line\":{\"color\":\"gray\",\"width\":0.1}},\"name\":\"physiological\",\"x\":[\"background\",\"colon\",\"liver\",\"omentum\",\"pancreas\",\"small_bowel\",\"stomach\"],\"y\":{\"dtype\":\"i1\",\"bdata\":\"AwEDAwIBAQ==\"},\"type\":\"bar\",\"xaxis\":\"x3\",\"yaxis\":\"y3\"},{\"marker\":{\"color\":\"#DDCB76\",\"line\":{\"color\":\"gray\",\"width\":0.1}},\"name\":\"physiological\",\"x\":[\"background\",\"liver\",\"omentum\",\"skin\",\"small_bowel\",\"spleen\",\"stomach\"],\"y\":{\"dtype\":\"i1\",\"bdata\":\"AwMDAgICAQ==\"},\"type\":\"bar\",\"xaxis\":\"x3\",\"yaxis\":\"y3\"},{\"marker\":{\"color\":\"#DDCB76\",\"line\":{\"color\":\"gray\",\"width\":0.1}},\"name\":\"physiological\",\"x\":[\"background\",\"omentum\",\"small_bowel\",\"stomach\"],\"y\":{\"dtype\":\"i1\",\"bdata\":\"AgICAg==\"},\"type\":\"bar\",\"xaxis\":\"x3\",\"yaxis\":\"y3\"},{\"marker\":{\"color\":\"#DDCB76\",\"line\":{\"color\":\"gray\",\"width\":0.1}},\"name\":\"physiological\",\"x\":[\"background\",\"colon\",\"liver\",\"omentum\",\"skin\",\"stomach\"],\"y\":{\"dtype\":\"i1\",\"bdata\":\"AgECAgEB\"},\"type\":\"bar\",\"xaxis\":\"x3\",\"yaxis\":\"y3\"},{\"marker\":{\"color\":\"#DDCB76\",\"line\":{\"color\":\"gray\",\"width\":0.1}},\"name\":\"physiological\",\"x\":[\"background\",\"liver\",\"omentum\",\"stomach\"],\"y\":{\"dtype\":\"i1\",\"bdata\":\"AgICAg==\"},\"type\":\"bar\",\"xaxis\":\"x3\",\"yaxis\":\"y3\"},{\"marker\":{\"color\":\"#DDCB76\",\"line\":{\"color\":\"gray\",\"width\":0.1}},\"name\":\"physiological\",\"x\":[\"background\",\"colon\",\"liver\",\"omentum\",\"stomach\"],\"y\":{\"dtype\":\"i1\",\"bdata\":\"AwIDAwM=\"},\"type\":\"bar\",\"xaxis\":\"x3\",\"yaxis\":\"y3\"},{\"marker\":{\"color\":\"#DDCB76\",\"line\":{\"color\":\"gray\",\"width\":0.1}},\"name\":\"physiological\",\"x\":[\"background\",\"colon\",\"liver\",\"omentum\",\"small_bowel\",\"stomach\"],\"y\":{\"dtype\":\"i1\",\"bdata\":\"AgECAgEB\"},\"type\":\"bar\",\"xaxis\":\"x3\",\"yaxis\":\"y3\"},{\"marker\":{\"color\":\"#DDCB76\",\"line\":{\"color\":\"gray\",\"width\":0.1}},\"name\":\"physiological\",\"x\":[\"background\",\"liver\",\"peritoneum\",\"skin\",\"small_bowel\",\"stomach\"],\"y\":{\"dtype\":\"i1\",\"bdata\":\"AwMCAwEC\"},\"type\":\"bar\",\"xaxis\":\"x3\",\"yaxis\":\"y3\"},{\"marker\":{\"color\":\"#DDCB76\",\"line\":{\"color\":\"gray\",\"width\":0.1}},\"name\":\"physiological\",\"x\":[\"background\",\"colon\",\"liver\",\"omentum\",\"small_bowel\",\"stomach\"],\"y\":{\"dtype\":\"i1\",\"bdata\":\"AgICAgEC\"},\"type\":\"bar\",\"xaxis\":\"x3\",\"yaxis\":\"y3\"},{\"marker\":{\"color\":\"#DDCB76\",\"line\":{\"color\":\"gray\",\"width\":0.1}},\"name\":\"physiological\",\"x\":[\"background\",\"liver\",\"omentum\",\"small_bowel\",\"stomach\"],\"y\":{\"dtype\":\"i1\",\"bdata\":\"AgICAgI=\"},\"type\":\"bar\",\"xaxis\":\"x3\",\"yaxis\":\"y3\"},{\"marker\":{\"color\":\"#DDCB76\",\"line\":{\"color\":\"gray\",\"width\":0.1}},\"name\":\"physiological\",\"x\":[\"background\",\"colon\",\"liver\",\"omentum\",\"stomach\"],\"y\":{\"dtype\":\"i1\",\"bdata\":\"AgICAgI=\"},\"type\":\"bar\",\"xaxis\":\"x3\",\"yaxis\":\"y3\"},{\"marker\":{\"color\":\"#DDCB76\",\"line\":{\"color\":\"gray\",\"width\":0.1}},\"name\":\"physiological\",\"x\":[\"background\",\"colon\",\"liver\",\"omentum\",\"small_bowel\",\"stomach\"],\"y\":{\"dtype\":\"i1\",\"bdata\":\"AgIBAQIB\"},\"type\":\"bar\",\"xaxis\":\"x3\",\"yaxis\":\"y3\"},{\"marker\":{\"color\":\"#DDCB76\",\"line\":{\"color\":\"gray\",\"width\":0.1}},\"name\":\"physiological\",\"x\":[\"background\",\"colon\",\"liver\",\"omentum\",\"peritoneum\",\"small_bowel\",\"stomach\"],\"y\":{\"dtype\":\"i1\",\"bdata\":\"AgEBAQEBAQ==\"},\"type\":\"bar\",\"xaxis\":\"x3\",\"yaxis\":\"y3\"},{\"marker\":{\"color\":\"#DDCB76\",\"line\":{\"color\":\"gray\",\"width\":0.1}},\"name\":\"physiological\",\"x\":[\"background\",\"omentum\",\"stomach\"],\"y\":{\"dtype\":\"i1\",\"bdata\":\"AgIC\"},\"type\":\"bar\",\"xaxis\":\"x3\",\"yaxis\":\"y3\"},{\"marker\":{\"color\":\"#DDCB76\",\"line\":{\"color\":\"gray\",\"width\":0.1}},\"name\":\"physiological\",\"x\":[\"background\",\"colon\",\"liver\",\"omentum\",\"pancreas\",\"small_bowel\",\"stomach\"],\"y\":{\"dtype\":\"i1\",\"bdata\":\"BAMEAwIBAw==\"},\"type\":\"bar\",\"xaxis\":\"x3\",\"yaxis\":\"y3\"},{\"marker\":{\"color\":\"#DDCB76\",\"line\":{\"color\":\"gray\",\"width\":0.1}},\"name\":\"physiological\",\"x\":[\"background\",\"liver\",\"omentum\",\"small_bowel\",\"stomach\"],\"y\":{\"dtype\":\"i1\",\"bdata\":\"AgICAQI=\"},\"type\":\"bar\",\"xaxis\":\"x3\",\"yaxis\":\"y3\"},{\"marker\":{\"color\":\"#DDCB76\",\"line\":{\"color\":\"gray\",\"width\":0.1}},\"name\":\"physiological\",\"x\":[\"background\",\"colon\",\"liver\",\"omentum\",\"small_bowel\",\"stomach\"],\"y\":{\"dtype\":\"i1\",\"bdata\":\"BwcHBwcH\"},\"type\":\"bar\",\"xaxis\":\"x3\",\"yaxis\":\"y3\"},{\"marker\":{\"color\":\"#DDCB76\",\"line\":{\"color\":\"gray\",\"width\":0.1}},\"name\":\"physiological\",\"x\":[\"background\",\"colon\",\"omentum\",\"small_bowel\",\"stomach\"],\"y\":{\"dtype\":\"i1\",\"bdata\":\"AgEBAgE=\"},\"type\":\"bar\",\"xaxis\":\"x3\",\"yaxis\":\"y3\"},{\"marker\":{\"color\":\"#DDCB76\",\"line\":{\"color\":\"gray\",\"width\":0.1}},\"name\":\"physiological\",\"x\":[\"background\",\"colon\",\"omentum\",\"pancreas\",\"skin\",\"small_bowel\",\"stomach\"],\"y\":{\"dtype\":\"i1\",\"bdata\":\"AgECAQEBAQ==\"},\"type\":\"bar\",\"xaxis\":\"x3\",\"yaxis\":\"y3\"},{\"marker\":{\"color\":\"#DDCB76\",\"line\":{\"color\":\"gray\",\"width\":0.1}},\"name\":\"physiological\",\"x\":[\"background\",\"colon\",\"liver\",\"omentum\",\"pancreas\",\"small_bowel\",\"stomach\"],\"y\":{\"dtype\":\"i1\",\"bdata\":\"AgIBAQEBAQ==\"},\"type\":\"bar\",\"xaxis\":\"x3\",\"yaxis\":\"y3\"},{\"marker\":{\"color\":\"#DDCB76\",\"line\":{\"color\":\"gray\",\"width\":0.1}},\"name\":\"physiological\",\"x\":[\"background\",\"colon\",\"liver\",\"omentum\",\"peritoneum\",\"small_bowel\",\"stomach\"],\"y\":{\"dtype\":\"i1\",\"bdata\":\"AgICAQECAQ==\"},\"type\":\"bar\",\"xaxis\":\"x3\",\"yaxis\":\"y3\"},{\"marker\":{\"color\":\"#DDCB76\",\"line\":{\"color\":\"gray\",\"width\":0.1}},\"name\":\"physiological\",\"x\":[\"background\",\"colon\",\"liver\",\"omentum\",\"peritoneum\",\"skin\",\"small_bowel\",\"stomach\"],\"y\":{\"dtype\":\"i1\",\"bdata\":\"BQMFBQUDAgI=\"},\"type\":\"bar\",\"xaxis\":\"x3\",\"yaxis\":\"y3\"},{\"marker\":{\"color\":\"#DDCB76\",\"line\":{\"color\":\"gray\",\"width\":0.1}},\"name\":\"physiological\",\"x\":[\"background\",\"colon\",\"liver\",\"omentum\",\"small_bowel\",\"stomach\"],\"y\":{\"dtype\":\"i1\",\"bdata\":\"AgEBAgEB\"},\"type\":\"bar\",\"xaxis\":\"x3\",\"yaxis\":\"y3\"},{\"marker\":{\"color\":\"#DDCB76\",\"line\":{\"color\":\"gray\",\"width\":0.1}},\"name\":\"physiological\",\"x\":[\"background\",\"colon\",\"liver\",\"omentum\",\"pancreas\",\"stomach\"],\"y\":{\"dtype\":\"i1\",\"bdata\":\"CAYCCAQE\"},\"type\":\"bar\",\"xaxis\":\"x3\",\"yaxis\":\"y3\"},{\"marker\":{\"color\":\"#DDCB76\",\"line\":{\"color\":\"gray\",\"width\":0.1}},\"name\":\"physiological\",\"x\":[\"background\",\"liver\",\"lung\",\"omentum\",\"peritoneum\",\"skin\",\"small_bowel\",\"stomach\"],\"y\":{\"dtype\":\"i1\",\"bdata\":\"BAEDAQEDAQE=\"},\"type\":\"bar\",\"xaxis\":\"x3\",\"yaxis\":\"y3\"},{\"marker\":{\"color\":\"#DDCB76\",\"line\":{\"color\":\"gray\",\"width\":0.1}},\"name\":\"physiological\",\"x\":[\"background\",\"colon\",\"liver\",\"omentum\",\"peritoneum\",\"skin\",\"small_bowel\",\"stomach\"],\"y\":{\"dtype\":\"i1\",\"bdata\":\"BQUFBQUCAwE=\"},\"type\":\"bar\",\"xaxis\":\"x3\",\"yaxis\":\"y3\"},{\"marker\":{\"color\":\"#DDCB76\",\"line\":{\"color\":\"gray\",\"width\":0.1}},\"name\":\"physiological\",\"x\":[\"background\",\"colon\",\"omentum\",\"spleen\",\"stomach\"],\"y\":{\"dtype\":\"i1\",\"bdata\":\"BgEGBgY=\"},\"type\":\"bar\",\"xaxis\":\"x3\",\"yaxis\":\"y3\"},{\"marker\":{\"color\":\"#DDCB76\",\"line\":{\"color\":\"gray\",\"width\":0.1}},\"name\":\"physiological\",\"x\":[\"background\",\"colon\",\"liver\",\"omentum\",\"pancreas\",\"peritoneum\",\"skin\",\"small_bowel\",\"stomach\"],\"y\":{\"dtype\":\"i1\",\"bdata\":\"BQUEBQEBAQEC\"},\"type\":\"bar\",\"xaxis\":\"x3\",\"yaxis\":\"y3\"},{\"marker\":{\"color\":\"#DDCB76\",\"line\":{\"color\":\"gray\",\"width\":0.1}},\"name\":\"physiological\",\"x\":[\"background\",\"colon\",\"liver\",\"omentum\",\"small_bowel\",\"spleen\",\"stomach\"],\"y\":{\"dtype\":\"i1\",\"bdata\":\"AgECAgIBAg==\"},\"type\":\"bar\",\"xaxis\":\"x3\",\"yaxis\":\"y3\"},{\"marker\":{\"color\":\"#DDCB76\",\"line\":{\"color\":\"gray\",\"width\":0.1}},\"name\":\"physiological\",\"x\":[\"background\",\"colon\",\"liver\",\"omentum\",\"stomach\"],\"y\":{\"dtype\":\"i1\",\"bdata\":\"AgECAgI=\"},\"type\":\"bar\",\"xaxis\":\"x3\",\"yaxis\":\"y3\"},{\"marker\":{\"color\":\"#DDCB76\",\"line\":{\"color\":\"gray\",\"width\":0.1}},\"name\":\"physiological\",\"x\":[\"background\",\"colon\",\"kidney\",\"liver\",\"omentum\",\"small_bowel\",\"stomach\"],\"y\":{\"dtype\":\"i1\",\"bdata\":\"AgEBAgECAQ==\"},\"type\":\"bar\",\"xaxis\":\"x3\",\"yaxis\":\"y3\"},{\"marker\":{\"color\":\"#DDCB76\",\"line\":{\"color\":\"gray\",\"width\":0.1}},\"name\":\"physiological\",\"x\":[\"background\",\"liver\",\"omentum\",\"pancreas\",\"small_bowel\",\"stomach\"],\"y\":{\"dtype\":\"i1\",\"bdata\":\"AwMDAwID\"},\"type\":\"bar\",\"xaxis\":\"x3\",\"yaxis\":\"y3\"},{\"marker\":{\"color\":\"#DDCB76\",\"line\":{\"color\":\"gray\",\"width\":0.1}},\"name\":\"physiological\",\"x\":[\"background\",\"omentum\",\"pancreas\",\"small_bowel\",\"stomach\"],\"y\":{\"dtype\":\"i1\",\"bdata\":\"AgIBAQE=\"},\"type\":\"bar\",\"xaxis\":\"x3\",\"yaxis\":\"y3\"},{\"marker\":{\"color\":\"#DDCB76\",\"line\":{\"color\":\"gray\",\"width\":0.1}},\"name\":\"physiological\",\"x\":[\"background\",\"colon\",\"liver\",\"small_bowel\",\"stomach\"],\"y\":{\"dtype\":\"i1\",\"bdata\":\"AgIBAQI=\"},\"type\":\"bar\",\"xaxis\":\"x3\",\"yaxis\":\"y3\"},{\"marker\":{\"color\":\"#DDCB76\",\"line\":{\"color\":\"gray\",\"width\":0.1}},\"name\":\"physiological\",\"x\":[\"background\",\"colon\",\"omentum\",\"stomach\"],\"y\":{\"dtype\":\"i1\",\"bdata\":\"AgECAQ==\"},\"type\":\"bar\",\"xaxis\":\"x3\",\"yaxis\":\"y3\"},{\"marker\":{\"color\":\"#DDCB76\",\"line\":{\"color\":\"gray\",\"width\":0.1}},\"name\":\"physiological\",\"x\":[\"background\",\"colon\",\"liver\",\"omentum\",\"peritoneum\",\"small_bowel\",\"stomach\"],\"y\":{\"dtype\":\"i1\",\"bdata\":\"AgECAQEBAQ==\"},\"type\":\"bar\",\"xaxis\":\"x3\",\"yaxis\":\"y3\"},{\"marker\":{\"color\":\"#DDCB76\",\"line\":{\"color\":\"gray\",\"width\":0.1}},\"name\":\"physiological\",\"x\":[\"background\",\"colon\",\"liver\",\"omentum\",\"small_bowel\",\"stomach\"],\"y\":{\"dtype\":\"i1\",\"bdata\":\"AgECAgEB\"},\"type\":\"bar\",\"xaxis\":\"x3\",\"yaxis\":\"y3\"},{\"marker\":{\"color\":\"#DDCB76\",\"line\":{\"color\":\"gray\",\"width\":0.1}},\"name\":\"physiological\",\"x\":[\"background\",\"colon\",\"liver\",\"omentum\",\"pancreas\",\"skin\",\"small_bowel\",\"stomach\"],\"y\":{\"dtype\":\"i1\",\"bdata\":\"BwMFBAYBAQE=\"},\"type\":\"bar\",\"xaxis\":\"x3\",\"yaxis\":\"y3\"},{\"marker\":{\"color\":\"#DDCB76\",\"line\":{\"color\":\"gray\",\"width\":0.1}},\"name\":\"physiological\",\"x\":[\"background\",\"colon\",\"liver\",\"omentum\",\"small_bowel\",\"stomach\"],\"y\":{\"dtype\":\"i1\",\"bdata\":\"AwIDAwIC\"},\"type\":\"bar\",\"xaxis\":\"x3\",\"yaxis\":\"y3\"},{\"marker\":{\"color\":\"#DDCB76\",\"line\":{\"color\":\"gray\",\"width\":0.1}},\"name\":\"physiological\",\"x\":[\"background\",\"colon\",\"liver\",\"omentum\",\"pancreas\",\"small_bowel\",\"stomach\"],\"y\":{\"dtype\":\"i1\",\"bdata\":\"BQUEAwMFAw==\"},\"type\":\"bar\",\"xaxis\":\"x3\",\"yaxis\":\"y3\"},{\"marker\":{\"color\":\"#DDCB76\",\"line\":{\"color\":\"gray\",\"width\":0.1}},\"name\":\"physiological\",\"x\":[\"background\",\"colon\",\"liver\",\"omentum\",\"pancreas\",\"small_bowel\",\"stomach\"],\"y\":{\"dtype\":\"i1\",\"bdata\":\"AwIDAQICAQ==\"},\"type\":\"bar\",\"xaxis\":\"x3\",\"yaxis\":\"y3\"},{\"marker\":{\"color\":\"#DDCB76\",\"line\":{\"color\":\"gray\",\"width\":0.1}},\"name\":\"physiological\",\"x\":[\"background\",\"colon\",\"liver\",\"omentum\",\"pancreas\",\"small_bowel\",\"stomach\"],\"y\":{\"dtype\":\"i1\",\"bdata\":\"BQIDBQQDAQ==\"},\"type\":\"bar\",\"xaxis\":\"x3\",\"yaxis\":\"y3\"},{\"marker\":{\"color\":\"#DDCB76\",\"line\":{\"color\":\"gray\",\"width\":0.1}},\"name\":\"physiological\",\"x\":[\"background\",\"colon\",\"liver\",\"pancreas\",\"small_bowel\",\"stomach\"],\"y\":{\"dtype\":\"i1\",\"bdata\":\"AwEDAgMB\"},\"type\":\"bar\",\"xaxis\":\"x3\",\"yaxis\":\"y3\"},{\"marker\":{\"color\":\"#DDCB76\",\"line\":{\"color\":\"gray\",\"width\":0.1}},\"name\":\"physiological\",\"x\":[\"background\",\"liver\",\"omentum\",\"pancreas\",\"small_bowel\",\"stomach\"],\"y\":{\"dtype\":\"i1\",\"bdata\":\"BAQEAwQC\"},\"type\":\"bar\",\"xaxis\":\"x3\",\"yaxis\":\"y3\"},{\"marker\":{\"color\":\"#DDCB76\",\"line\":{\"color\":\"gray\",\"width\":0.1}},\"name\":\"physiological\",\"x\":[\"background\",\"colon\",\"liver\",\"omentum\",\"skin\",\"small_bowel\",\"stomach\"],\"y\":{\"dtype\":\"i1\",\"bdata\":\"AgICAgEBAg==\"},\"type\":\"bar\",\"xaxis\":\"x3\",\"yaxis\":\"y3\"},{\"marker\":{\"color\":\"#DDCB76\",\"line\":{\"color\":\"gray\",\"width\":0.1}},\"name\":\"physiological\",\"x\":[\"background\",\"liver\",\"omentum\",\"small_bowel\",\"stomach\"],\"y\":{\"dtype\":\"i1\",\"bdata\":\"AwMDAQE=\"},\"type\":\"bar\",\"xaxis\":\"x3\",\"yaxis\":\"y3\"},{\"marker\":{\"color\":\"#DDCB76\",\"line\":{\"color\":\"gray\",\"width\":0.1}},\"name\":\"physiological\",\"x\":[\"background\",\"lung\",\"omentum\",\"skin\",\"small_bowel\",\"stomach\"],\"y\":{\"dtype\":\"i1\",\"bdata\":\"BAQCBAIB\"},\"type\":\"bar\",\"xaxis\":\"x3\",\"yaxis\":\"y3\"},{\"marker\":{\"color\":\"#DDCB76\",\"line\":{\"color\":\"gray\",\"width\":0.1}},\"name\":\"physiological\",\"x\":[\"background\",\"colon\",\"liver\",\"omentum\",\"small_bowel\",\"stomach\"],\"y\":{\"dtype\":\"i1\",\"bdata\":\"AgECAgEB\"},\"type\":\"bar\",\"xaxis\":\"x3\",\"yaxis\":\"y3\"},{\"marker\":{\"color\":\"#DDCB76\",\"line\":{\"color\":\"gray\",\"width\":0.1}},\"name\":\"physiological\",\"x\":[\"background\",\"colon\",\"liver\",\"omentum\",\"stomach\"],\"y\":{\"dtype\":\"i1\",\"bdata\":\"AgICAgE=\"},\"type\":\"bar\",\"xaxis\":\"x3\",\"yaxis\":\"y3\"},{\"marker\":{\"color\":\"#DDCB76\",\"line\":{\"color\":\"gray\",\"width\":0.1}},\"name\":\"physiological\",\"x\":[\"background\",\"liver\",\"small_bowel\",\"stomach\"],\"y\":{\"dtype\":\"i1\",\"bdata\":\"AgICAQ==\"},\"type\":\"bar\",\"xaxis\":\"x3\",\"yaxis\":\"y3\"},{\"marker\":{\"color\":\"#DDCB76\",\"line\":{\"color\":\"gray\",\"width\":0.1}},\"name\":\"physiological\",\"x\":[\"background\",\"colon\",\"liver\",\"small_bowel\",\"spleen\"],\"y\":{\"dtype\":\"i1\",\"bdata\":\"AgECAQE=\"},\"type\":\"bar\",\"xaxis\":\"x3\",\"yaxis\":\"y3\"},{\"marker\":{\"color\":\"#DDCB76\",\"line\":{\"color\":\"gray\",\"width\":0.1}},\"name\":\"physiological\",\"x\":[\"background\",\"colon\",\"skin\",\"small_bowel\"],\"y\":{\"dtype\":\"i1\",\"bdata\":\"AgECAg==\"},\"type\":\"bar\",\"xaxis\":\"x3\",\"yaxis\":\"y3\"},{\"marker\":{\"color\":\"#DDCB76\",\"line\":{\"color\":\"gray\",\"width\":0.1}},\"name\":\"physiological\",\"x\":[\"background\",\"skin\",\"small_bowel\"],\"y\":{\"dtype\":\"i1\",\"bdata\":\"AgIC\"},\"type\":\"bar\",\"xaxis\":\"x3\",\"yaxis\":\"y3\"},{\"marker\":{\"color\":\"#DDCB76\",\"line\":{\"color\":\"gray\",\"width\":0.1}},\"name\":\"physiological\",\"x\":[\"background\",\"colon\",\"omentum\",\"small_bowel\"],\"y\":{\"dtype\":\"i1\",\"bdata\":\"AgEBAg==\"},\"type\":\"bar\",\"xaxis\":\"x3\",\"yaxis\":\"y3\"},{\"marker\":{\"color\":\"#DDCB76\",\"line\":{\"color\":\"gray\",\"width\":0.1}},\"name\":\"physiological\",\"x\":[\"background\",\"omentum\",\"small_bowel\"],\"y\":{\"dtype\":\"i1\",\"bdata\":\"AgEC\"},\"type\":\"bar\",\"xaxis\":\"x3\",\"yaxis\":\"y3\"},{\"marker\":{\"color\":\"#DDCB76\",\"line\":{\"color\":\"gray\",\"width\":0.1}},\"name\":\"physiological\",\"x\":[\"background\",\"colon\",\"omentum\",\"small_bowel\"],\"y\":{\"dtype\":\"i1\",\"bdata\":\"AgIBAQ==\"},\"type\":\"bar\",\"xaxis\":\"x3\",\"yaxis\":\"y3\"},{\"marker\":{\"color\":\"#DDCB76\",\"line\":{\"color\":\"gray\",\"width\":0.1}},\"name\":\"physiological\",\"x\":[\"background\",\"colon\",\"liver\",\"omentum\",\"small_bowel\"],\"y\":{\"dtype\":\"i1\",\"bdata\":\"AgICAQI=\"},\"type\":\"bar\",\"xaxis\":\"x3\",\"yaxis\":\"y3\"},{\"marker\":{\"color\":\"#DDCB76\",\"line\":{\"color\":\"gray\",\"width\":0.1}},\"name\":\"physiological\",\"x\":[\"background\",\"colon\",\"liver\",\"small_bowel\"],\"y\":{\"dtype\":\"i1\",\"bdata\":\"AgEBAg==\"},\"type\":\"bar\",\"xaxis\":\"x3\",\"yaxis\":\"y3\"},{\"marker\":{\"color\":\"#DDCB76\",\"line\":{\"color\":\"gray\",\"width\":0.1}},\"name\":\"physiological\",\"x\":[\"background\",\"liver\",\"small_bowel\"],\"y\":{\"dtype\":\"i1\",\"bdata\":\"AgIC\"},\"type\":\"bar\",\"xaxis\":\"x3\",\"yaxis\":\"y3\"},{\"marker\":{\"color\":\"#DDCB76\",\"line\":{\"color\":\"gray\",\"width\":0.1}},\"name\":\"physiological\",\"x\":[\"background\",\"colon\",\"liver\",\"omentum\",\"small_bowel\"],\"y\":{\"dtype\":\"i1\",\"bdata\":\"AwEBAgE=\"},\"type\":\"bar\",\"xaxis\":\"x3\",\"yaxis\":\"y3\"},{\"marker\":{\"color\":\"#DDCB76\",\"line\":{\"color\":\"gray\",\"width\":0.1}},\"name\":\"physiological\",\"x\":[\"background\",\"omentum\",\"skin\",\"small_bowel\"],\"y\":{\"dtype\":\"i1\",\"bdata\":\"AgECAg==\"},\"type\":\"bar\",\"xaxis\":\"x3\",\"yaxis\":\"y3\"},{\"marker\":{\"color\":\"#DDCB76\",\"line\":{\"color\":\"gray\",\"width\":0.1}},\"name\":\"physiological\",\"x\":[\"background\",\"colon\",\"omentum\",\"small_bowel\"],\"y\":{\"dtype\":\"i1\",\"bdata\":\"AgICAQ==\"},\"type\":\"bar\",\"xaxis\":\"x3\",\"yaxis\":\"y3\"},{\"marker\":{\"color\":\"#DDCB76\",\"line\":{\"color\":\"gray\",\"width\":0.1}},\"name\":\"physiological\",\"x\":[\"background\",\"colon\",\"omentum\",\"pancreas\",\"small_bowel\"],\"y\":{\"dtype\":\"i1\",\"bdata\":\"AgEBAQE=\"},\"type\":\"bar\",\"xaxis\":\"x3\",\"yaxis\":\"y3\"},{\"marker\":{\"color\":\"#DDCB76\",\"line\":{\"color\":\"gray\",\"width\":0.1}},\"name\":\"physiological\",\"x\":[\"background\",\"colon\",\"liver\",\"lung\",\"skin\",\"small_bowel\"],\"y\":{\"dtype\":\"i1\",\"bdata\":\"CwEDCQoB\"},\"type\":\"bar\",\"xaxis\":\"x3\",\"yaxis\":\"y3\"},{\"marker\":{\"color\":\"#DDCB76\",\"line\":{\"color\":\"gray\",\"width\":0.1}},\"name\":\"physiological\",\"x\":[\"background\",\"colon\",\"liver\",\"omentum\",\"small_bowel\"],\"y\":{\"dtype\":\"i1\",\"bdata\":\"AgICAQI=\"},\"type\":\"bar\",\"xaxis\":\"x3\",\"yaxis\":\"y3\"},{\"marker\":{\"color\":\"#DDCB76\",\"line\":{\"color\":\"gray\",\"width\":0.1}},\"name\":\"physiological\",\"x\":[\"background\",\"colon\",\"liver\",\"small_bowel\"],\"y\":{\"dtype\":\"i1\",\"bdata\":\"AgEBAg==\"},\"type\":\"bar\",\"xaxis\":\"x3\",\"yaxis\":\"y3\"},{\"marker\":{\"color\":\"#DDCB76\",\"line\":{\"color\":\"gray\",\"width\":0.1}},\"name\":\"physiological\",\"x\":[\"background\",\"colon\",\"lung\",\"omentum\",\"skin\",\"small_bowel\"],\"y\":{\"dtype\":\"i1\",\"bdata\":\"CgEIAQgB\"},\"type\":\"bar\",\"xaxis\":\"x3\",\"yaxis\":\"y3\"},{\"marker\":{\"color\":\"#DDCB76\",\"line\":{\"color\":\"gray\",\"width\":0.1}},\"name\":\"physiological\",\"x\":[\"background\",\"liver\",\"omentum\",\"small_bowel\"],\"y\":{\"dtype\":\"i1\",\"bdata\":\"AgIBAQ==\"},\"type\":\"bar\",\"xaxis\":\"x3\",\"yaxis\":\"y3\"},{\"marker\":{\"color\":\"#DDCB76\",\"line\":{\"color\":\"gray\",\"width\":0.1}},\"name\":\"physiological\",\"x\":[\"background\",\"colon\",\"liver\",\"omentum\",\"small_bowel\"],\"y\":{\"dtype\":\"i1\",\"bdata\":\"AgICAgI=\"},\"type\":\"bar\",\"xaxis\":\"x3\",\"yaxis\":\"y3\"},{\"marker\":{\"color\":\"#DDCB76\",\"line\":{\"color\":\"gray\",\"width\":0.1}},\"name\":\"physiological\",\"x\":[\"background\",\"colon\",\"liver\",\"omentum\",\"small_bowel\"],\"y\":{\"dtype\":\"i1\",\"bdata\":\"AgECAgI=\"},\"type\":\"bar\",\"xaxis\":\"x3\",\"yaxis\":\"y3\"},{\"marker\":{\"color\":\"#DDCB76\",\"line\":{\"color\":\"gray\",\"width\":0.1}},\"name\":\"physiological\",\"x\":[\"background\",\"liver\",\"omentum\",\"pancreas\",\"small_bowel\"],\"y\":{\"dtype\":\"i1\",\"bdata\":\"BAMEBAQ=\"},\"type\":\"bar\",\"xaxis\":\"x3\",\"yaxis\":\"y3\"},{\"marker\":{\"color\":\"#DDCB76\",\"line\":{\"color\":\"gray\",\"width\":0.1}},\"name\":\"physiological\",\"x\":[\"background\",\"colon\",\"liver\",\"lung\",\"omentum\",\"skin\",\"small_bowel\"],\"y\":{\"dtype\":\"i1\",\"bdata\":\"BgEBBQEFAQ==\"},\"type\":\"bar\",\"xaxis\":\"x3\",\"yaxis\":\"y3\"},{\"marker\":{\"color\":\"#DDCB76\",\"line\":{\"color\":\"gray\",\"width\":0.1}},\"name\":\"physiological\",\"x\":[\"background\",\"liver\",\"omentum\",\"small_bowel\"],\"y\":{\"dtype\":\"i1\",\"bdata\":\"AgICAQ==\"},\"type\":\"bar\",\"xaxis\":\"x3\",\"yaxis\":\"y3\"},{\"marker\":{\"color\":\"#DDCB76\",\"line\":{\"color\":\"gray\",\"width\":0.1}},\"name\":\"physiological\",\"x\":[\"background\",\"colon\",\"small_bowel\"],\"y\":{\"dtype\":\"i1\",\"bdata\":\"AgEC\"},\"type\":\"bar\",\"xaxis\":\"x3\",\"yaxis\":\"y3\"},{\"marker\":{\"color\":\"#DDCB76\",\"line\":{\"color\":\"gray\",\"width\":0.1}},\"name\":\"physiological\",\"x\":[\"background\",\"liver\",\"omentum\",\"peritoneum\",\"skin\",\"small_bowel\"],\"y\":{\"dtype\":\"i1\",\"bdata\":\"AwMDAQMD\"},\"type\":\"bar\",\"xaxis\":\"x3\",\"yaxis\":\"y3\"},{\"marker\":{\"color\":\"#DDCB76\",\"line\":{\"color\":\"gray\",\"width\":0.1}},\"name\":\"physiological\",\"x\":[\"background\",\"colon\",\"liver\",\"omentum\",\"pancreas\",\"peritoneum\",\"small_bowel\"],\"y\":{\"dtype\":\"i1\",\"bdata\":\"CQcICQgBCA==\"},\"type\":\"bar\",\"xaxis\":\"x3\",\"yaxis\":\"y3\"},{\"marker\":{\"color\":\"#DDCB76\",\"line\":{\"color\":\"gray\",\"width\":0.1}},\"name\":\"physiological\",\"x\":[\"background\",\"omentum\",\"pancreas\",\"small_bowel\"],\"y\":{\"dtype\":\"i1\",\"bdata\":\"BAQDBA==\"},\"type\":\"bar\",\"xaxis\":\"x3\",\"yaxis\":\"y3\"},{\"marker\":{\"color\":\"#DDCB76\",\"line\":{\"color\":\"gray\",\"width\":0.1}},\"name\":\"physiological\",\"x\":[\"background\",\"colon\",\"pancreas\",\"peritoneum\",\"small_bowel\"],\"y\":{\"dtype\":\"i1\",\"bdata\":\"BAMCAQQ=\"},\"type\":\"bar\",\"xaxis\":\"x3\",\"yaxis\":\"y3\"},{\"marker\":{\"color\":\"#DDCB76\",\"line\":{\"color\":\"gray\",\"width\":0.1}},\"name\":\"physiological\",\"x\":[\"background\",\"colon\",\"omentum\",\"pancreas\",\"peritoneum\",\"skin\",\"small_bowel\"],\"y\":{\"dtype\":\"i1\",\"bdata\":\"CgoKBQQBAw==\"},\"type\":\"bar\",\"xaxis\":\"x3\",\"yaxis\":\"y3\"},{\"marker\":{\"color\":\"#DDCB76\",\"line\":{\"color\":\"gray\",\"width\":0.1}},\"name\":\"physiological\",\"x\":[\"background\",\"liver\",\"omentum\",\"small_bowel\"],\"y\":{\"dtype\":\"i1\",\"bdata\":\"AgIBAg==\"},\"type\":\"bar\",\"xaxis\":\"x3\",\"yaxis\":\"y3\"},{\"marker\":{\"color\":\"#DDCB76\",\"line\":{\"color\":\"gray\",\"width\":0.1}},\"name\":\"physiological\",\"x\":[\"background\",\"colon\",\"liver\",\"peritoneum\",\"skin\",\"small_bowel\"],\"y\":{\"dtype\":\"i1\",\"bdata\":\"AgECAQIC\"},\"type\":\"bar\",\"xaxis\":\"x3\",\"yaxis\":\"y3\"},{\"marker\":{\"color\":\"#DDCB76\",\"line\":{\"color\":\"gray\",\"width\":0.1}},\"name\":\"physiological\",\"x\":[\"background\",\"colon\",\"liver\",\"omentum\",\"pancreas\",\"small_bowel\"],\"y\":{\"dtype\":\"i1\",\"bdata\":\"BAQEAQME\"},\"type\":\"bar\",\"xaxis\":\"x3\",\"yaxis\":\"y3\"},{\"marker\":{\"color\":\"#DDCB76\",\"line\":{\"color\":\"gray\",\"width\":0.1}},\"name\":\"physiological\",\"x\":[\"background\",\"small_bowel\"],\"y\":{\"dtype\":\"i1\",\"bdata\":\"AgI=\"},\"type\":\"bar\",\"xaxis\":\"x3\",\"yaxis\":\"y3\"},{\"marker\":{\"color\":\"#DDCB76\",\"line\":{\"color\":\"gray\",\"width\":0.1}},\"name\":\"physiological\",\"x\":[\"background\",\"small_bowel\"],\"y\":{\"dtype\":\"i1\",\"bdata\":\"AgI=\"},\"type\":\"bar\",\"xaxis\":\"x3\",\"yaxis\":\"y3\"},{\"marker\":{\"color\":\"#DDCB76\",\"line\":{\"color\":\"gray\",\"width\":0.1}},\"name\":\"physiological\",\"x\":[\"background\",\"colon\",\"omentum\",\"pancreas\",\"small_bowel\"],\"y\":{\"dtype\":\"i1\",\"bdata\":\"AgICAQI=\"},\"type\":\"bar\",\"xaxis\":\"x3\",\"yaxis\":\"y3\"},{\"marker\":{\"color\":\"#DDCB76\",\"line\":{\"color\":\"gray\",\"width\":0.1}},\"name\":\"physiological\",\"x\":[\"background\",\"small_bowel\"],\"y\":{\"dtype\":\"i1\",\"bdata\":\"AgI=\"},\"type\":\"bar\",\"xaxis\":\"x3\",\"yaxis\":\"y3\"},{\"marker\":{\"color\":\"#DDCB76\",\"line\":{\"color\":\"gray\",\"width\":0.1}},\"name\":\"physiological\",\"x\":[\"background\",\"colon\",\"liver\",\"peritoneum\",\"skin\",\"small_bowel\"],\"y\":{\"dtype\":\"i1\",\"bdata\":\"AgECAQIB\"},\"type\":\"bar\",\"xaxis\":\"x3\",\"yaxis\":\"y3\"},{\"marker\":{\"color\":\"#DDCB76\",\"line\":{\"color\":\"gray\",\"width\":0.1}},\"name\":\"physiological\",\"x\":[\"background\",\"colon\",\"liver\",\"omentum\",\"small_bowel\"],\"y\":{\"dtype\":\"i1\",\"bdata\":\"AgEBAgE=\"},\"type\":\"bar\",\"xaxis\":\"x3\",\"yaxis\":\"y3\"},{\"marker\":{\"color\":\"#DDCB76\",\"line\":{\"color\":\"gray\",\"width\":0.1}},\"name\":\"physiological\",\"x\":[\"background\",\"colon\",\"liver\",\"omentum\",\"skin\"],\"y\":{\"dtype\":\"i1\",\"bdata\":\"AgECAgI=\"},\"type\":\"bar\",\"xaxis\":\"x3\",\"yaxis\":\"y3\"},{\"marker\":{\"color\":\"#DDCB76\",\"line\":{\"color\":\"gray\",\"width\":0.1}},\"name\":\"physiological\",\"x\":[\"background\",\"colon\",\"liver\",\"omentum\",\"skin\"],\"y\":{\"dtype\":\"i1\",\"bdata\":\"AgECAgE=\"},\"type\":\"bar\",\"xaxis\":\"x3\",\"yaxis\":\"y3\"},{\"marker\":{\"color\":\"#DDCB76\",\"line\":{\"color\":\"gray\",\"width\":0.1}},\"name\":\"physiological\",\"x\":[\"background\",\"colon\",\"liver\",\"omentum\",\"spleen\"],\"y\":{\"dtype\":\"i1\",\"bdata\":\"AgECAgE=\"},\"type\":\"bar\",\"xaxis\":\"x3\",\"yaxis\":\"y3\"},{\"marker\":{\"color\":\"#DDCB76\",\"line\":{\"color\":\"gray\",\"width\":0.1}},\"name\":\"physiological\",\"x\":[\"background\",\"colon\",\"liver\",\"omentum\",\"skin\"],\"y\":{\"dtype\":\"i1\",\"bdata\":\"AgECAQI=\"},\"type\":\"bar\",\"xaxis\":\"x3\",\"yaxis\":\"y3\"},{\"marker\":{\"color\":\"#DDCB76\",\"line\":{\"color\":\"gray\",\"width\":0.1}},\"name\":\"physiological\",\"x\":[\"background\",\"colon\",\"kidney\",\"skin\"],\"y\":{\"dtype\":\"i1\",\"bdata\":\"AgECAg==\"},\"type\":\"bar\",\"xaxis\":\"x3\",\"yaxis\":\"y3\"},{\"marker\":{\"color\":\"#DDCB76\",\"line\":{\"color\":\"gray\",\"width\":0.1}},\"name\":\"physiological\",\"x\":[\"background\",\"colon\",\"liver\",\"omentum\"],\"y\":{\"dtype\":\"i1\",\"bdata\":\"AgICAg==\"},\"type\":\"bar\",\"xaxis\":\"x3\",\"yaxis\":\"y3\"},{\"marker\":{\"color\":\"#DDCB76\",\"line\":{\"color\":\"gray\",\"width\":0.1}},\"name\":\"physiological\",\"x\":[\"background\",\"colon\",\"liver\",\"peritoneum\",\"skin\"],\"y\":{\"dtype\":\"i1\",\"bdata\":\"AgECAQI=\"},\"type\":\"bar\",\"xaxis\":\"x3\",\"yaxis\":\"y3\"},{\"marker\":{\"color\":\"#DDCB76\",\"line\":{\"color\":\"gray\",\"width\":0.1}},\"name\":\"physiological\",\"x\":[\"background\",\"colon\",\"liver\",\"omentum\"],\"y\":{\"dtype\":\"i1\",\"bdata\":\"AwMDAw==\"},\"type\":\"bar\",\"xaxis\":\"x3\",\"yaxis\":\"y3\"},{\"marker\":{\"color\":\"#DDCB76\",\"line\":{\"color\":\"gray\",\"width\":0.1}},\"name\":\"physiological\",\"x\":[\"background\",\"colon\",\"liver\",\"omentum\"],\"y\":{\"dtype\":\"i1\",\"bdata\":\"AgICAQ==\"},\"type\":\"bar\",\"xaxis\":\"x3\",\"yaxis\":\"y3\"},{\"marker\":{\"color\":\"#DDCB76\",\"line\":{\"color\":\"gray\",\"width\":0.1}},\"name\":\"physiological\",\"x\":[\"background\",\"colon\",\"kidney\",\"omentum\",\"pancreas\",\"skin\"],\"y\":{\"dtype\":\"i1\",\"bdata\":\"AwECAQEC\"},\"type\":\"bar\",\"xaxis\":\"x3\",\"yaxis\":\"y3\"},{\"marker\":{\"color\":\"#DDCB76\",\"line\":{\"color\":\"gray\",\"width\":0.1}},\"name\":\"physiological\",\"x\":[\"background\",\"liver\",\"peritoneum\",\"skin\"],\"y\":{\"dtype\":\"i1\",\"bdata\":\"AgIBAQ==\"},\"type\":\"bar\",\"xaxis\":\"x3\",\"yaxis\":\"y3\"},{\"marker\":{\"color\":\"#DDCB76\",\"line\":{\"color\":\"gray\",\"width\":0.1}},\"name\":\"physiological\",\"x\":[\"background\",\"liver\",\"skin\"],\"y\":{\"dtype\":\"i1\",\"bdata\":\"AgEB\"},\"type\":\"bar\",\"xaxis\":\"x3\",\"yaxis\":\"y3\"},{\"marker\":{\"color\":\"#DDCB76\",\"line\":{\"color\":\"gray\",\"width\":0.1}},\"name\":\"physiological\",\"x\":[\"background\",\"liver\",\"omentum\",\"skin\"],\"y\":{\"dtype\":\"i1\",\"bdata\":\"AgICAg==\"},\"type\":\"bar\",\"xaxis\":\"x3\",\"yaxis\":\"y3\"},{\"marker\":{\"color\":\"#DDCB76\",\"line\":{\"color\":\"gray\",\"width\":0.1}},\"name\":\"physiological\",\"x\":[\"background\",\"liver\",\"peritoneum\"],\"y\":{\"dtype\":\"i1\",\"bdata\":\"AwED\"},\"type\":\"bar\",\"xaxis\":\"x3\",\"yaxis\":\"y3\"},{\"marker\":{\"color\":\"#DDCB76\",\"line\":{\"color\":\"gray\",\"width\":0.1}},\"name\":\"physiological\",\"x\":[\"background\",\"kidney\",\"skin\"],\"y\":{\"dtype\":\"i1\",\"bdata\":\"AgEC\"},\"type\":\"bar\",\"xaxis\":\"x3\",\"yaxis\":\"y3\"},{\"marker\":{\"color\":\"#DDCB76\",\"line\":{\"color\":\"gray\",\"width\":0.1}},\"name\":\"physiological\",\"x\":[\"background\",\"kidney\",\"peritoneum\",\"skin\"],\"y\":{\"dtype\":\"i1\",\"bdata\":\"BwcHBw==\"},\"type\":\"bar\",\"xaxis\":\"x3\",\"yaxis\":\"y3\"},{\"marker\":{\"color\":\"#DDCB76\",\"line\":{\"color\":\"gray\",\"width\":0.1}},\"name\":\"physiological\",\"x\":[\"background\",\"kidney\",\"skin\"],\"y\":{\"dtype\":\"i1\",\"bdata\":\"AgIC\"},\"type\":\"bar\",\"xaxis\":\"x3\",\"yaxis\":\"y3\"},{\"marker\":{\"color\":\"#DDCB76\",\"line\":{\"color\":\"gray\",\"width\":0.1}},\"name\":\"physiological\",\"x\":[\"background\",\"kidney\",\"peritoneum\",\"skin\"],\"y\":{\"dtype\":\"i1\",\"bdata\":\"AgIBAg==\"},\"type\":\"bar\",\"xaxis\":\"x3\",\"yaxis\":\"y3\"},{\"marker\":{\"color\":\"#DDCB76\",\"line\":{\"color\":\"gray\",\"width\":0.1}},\"name\":\"physiological\",\"x\":[\"background\",\"kidney\",\"peritoneum\",\"skin\"],\"y\":{\"dtype\":\"i1\",\"bdata\":\"BQUFBQ==\"},\"type\":\"bar\",\"xaxis\":\"x3\",\"yaxis\":\"y3\"},{\"marker\":{\"color\":\"#DDCB76\",\"line\":{\"color\":\"gray\",\"width\":0.1}},\"name\":\"physiological\",\"x\":[\"background\",\"kidney\",\"peritoneum\",\"skin\"],\"y\":{\"dtype\":\"i1\",\"bdata\":\"BAQEBA==\"},\"type\":\"bar\",\"xaxis\":\"x3\",\"yaxis\":\"y3\"},{\"marker\":{\"color\":\"#DDCB76\",\"line\":{\"color\":\"gray\",\"width\":0.1}},\"name\":\"physiological\",\"x\":[\"background\",\"kidney\",\"peritoneum\",\"skin\"],\"y\":{\"dtype\":\"i1\",\"bdata\":\"BQUDBQ==\"},\"type\":\"bar\",\"xaxis\":\"x3\",\"yaxis\":\"y3\"},{\"marker\":{\"color\":\"#DDCB76\",\"line\":{\"color\":\"gray\",\"width\":0.1}},\"name\":\"physiological\",\"x\":[\"background\",\"kidney\",\"skin\"],\"y\":{\"dtype\":\"i1\",\"bdata\":\"AgIC\"},\"type\":\"bar\",\"xaxis\":\"x3\",\"yaxis\":\"y3\"},{\"marker\":{\"color\":\"#DDCB76\",\"line\":{\"color\":\"gray\",\"width\":0.1}},\"name\":\"physiological\",\"x\":[\"background\",\"kidney\",\"skin\"],\"y\":{\"dtype\":\"i1\",\"bdata\":\"AgEC\"},\"type\":\"bar\",\"xaxis\":\"x3\",\"yaxis\":\"y3\"},{\"marker\":{\"color\":\"#DDCB76\",\"line\":{\"color\":\"gray\",\"width\":0.1}},\"name\":\"physiological\",\"x\":[\"background\",\"kidney\",\"peritoneum\",\"skin\"],\"y\":{\"dtype\":\"i1\",\"bdata\":\"CwsGCg==\"},\"type\":\"bar\",\"xaxis\":\"x3\",\"yaxis\":\"y3\"},{\"marker\":{\"color\":\"#DDCB76\",\"line\":{\"color\":\"gray\",\"width\":0.1}},\"name\":\"physiological\",\"x\":[\"background\",\"kidney\",\"peritoneum\",\"skin\"],\"y\":{\"dtype\":\"i1\",\"bdata\":\"BAQEBA==\"},\"type\":\"bar\",\"xaxis\":\"x3\",\"yaxis\":\"y3\"},{\"marker\":{\"color\":\"#DDCB76\",\"line\":{\"color\":\"gray\",\"width\":0.1}},\"name\":\"physiological\",\"x\":[\"background\",\"kidney\",\"peritoneum\",\"skin\"],\"y\":{\"dtype\":\"i1\",\"bdata\":\"BQUEBQ==\"},\"type\":\"bar\",\"xaxis\":\"x3\",\"yaxis\":\"y3\"},{\"marker\":{\"color\":\"#DDCB76\",\"line\":{\"color\":\"gray\",\"width\":0.1}},\"name\":\"physiological\",\"x\":[\"background\",\"kidney\",\"skin\"],\"y\":{\"dtype\":\"i1\",\"bdata\":\"AgIC\"},\"type\":\"bar\",\"xaxis\":\"x3\",\"yaxis\":\"y3\"},{\"marker\":{\"color\":\"#DDCB76\",\"line\":{\"color\":\"gray\",\"width\":0.1}},\"name\":\"physiological\",\"x\":[\"background\",\"kidney\",\"peritoneum\",\"skin\"],\"y\":{\"dtype\":\"i1\",\"bdata\":\"AwMBAw==\"},\"type\":\"bar\",\"xaxis\":\"x3\",\"yaxis\":\"y3\"},{\"marker\":{\"color\":\"#DDCB76\",\"line\":{\"color\":\"gray\",\"width\":0.1}},\"name\":\"physiological\",\"x\":[\"background\",\"kidney\",\"skin\"],\"y\":{\"dtype\":\"i1\",\"bdata\":\"BQUF\"},\"type\":\"bar\",\"xaxis\":\"x3\",\"yaxis\":\"y3\"},{\"marker\":{\"color\":\"#DDCB76\",\"line\":{\"color\":\"gray\",\"width\":0.1}},\"name\":\"physiological\",\"x\":[\"background\",\"kidney\",\"peritoneum\",\"skin\"],\"y\":{\"dtype\":\"i1\",\"bdata\":\"AgIBAQ==\"},\"type\":\"bar\",\"xaxis\":\"x3\",\"yaxis\":\"y3\"},{\"marker\":{\"color\":\"#DDCB76\",\"line\":{\"color\":\"gray\",\"width\":0.1}},\"name\":\"physiological\",\"x\":[\"background\",\"kidney\",\"peritoneum\",\"skin\"],\"y\":{\"dtype\":\"i1\",\"bdata\":\"AgIBAg==\"},\"type\":\"bar\",\"xaxis\":\"x3\",\"yaxis\":\"y3\"},{\"marker\":{\"color\":\"#DDCB76\",\"line\":{\"color\":\"gray\",\"width\":0.1}},\"name\":\"physiological\",\"x\":[\"background\",\"kidney\",\"skin\"],\"y\":{\"dtype\":\"i1\",\"bdata\":\"AQEB\"},\"type\":\"bar\",\"xaxis\":\"x3\",\"yaxis\":\"y3\"},{\"marker\":{\"color\":\"#DDCB76\",\"line\":{\"color\":\"gray\",\"width\":0.1}},\"name\":\"physiological\",\"x\":[\"background\",\"kidney\",\"peritoneum\",\"skin\"],\"y\":{\"dtype\":\"i1\",\"bdata\":\"BAQDBA==\"},\"type\":\"bar\",\"xaxis\":\"x3\",\"yaxis\":\"y3\"},{\"marker\":{\"color\":\"#DDCB76\",\"line\":{\"color\":\"gray\",\"width\":0.1}},\"name\":\"physiological\",\"x\":[\"background\",\"kidney\",\"skin\"],\"y\":{\"dtype\":\"i1\",\"bdata\":\"AgIC\"},\"type\":\"bar\",\"xaxis\":\"x3\",\"yaxis\":\"y3\"},{\"marker\":{\"color\":\"#DDCB76\",\"line\":{\"color\":\"gray\",\"width\":0.1}},\"name\":\"physiological\",\"x\":[\"background\",\"kidney\",\"skin\"],\"y\":{\"dtype\":\"i1\",\"bdata\":\"AgIC\"},\"type\":\"bar\",\"xaxis\":\"x3\",\"yaxis\":\"y3\"},{\"marker\":{\"color\":\"#DDCB76\",\"line\":{\"color\":\"gray\",\"width\":0.1}},\"name\":\"physiological\",\"x\":[\"background\",\"kidney\",\"peritoneum\",\"skin\"],\"y\":{\"dtype\":\"i1\",\"bdata\":\"AgICAg==\"},\"type\":\"bar\",\"xaxis\":\"x3\",\"yaxis\":\"y3\"},{\"marker\":{\"color\":\"#DDCB76\",\"line\":{\"color\":\"gray\",\"width\":0.1}},\"name\":\"physiological\",\"x\":[\"background\",\"kidney\",\"skin\"],\"y\":{\"dtype\":\"i1\",\"bdata\":\"AQEB\"},\"type\":\"bar\",\"xaxis\":\"x3\",\"yaxis\":\"y3\"},{\"marker\":{\"color\":\"#DDCB76\",\"line\":{\"color\":\"gray\",\"width\":0.1}},\"name\":\"physiological\",\"x\":[\"background\",\"kidney\",\"skin\"],\"y\":{\"dtype\":\"i1\",\"bdata\":\"AgIC\"},\"type\":\"bar\",\"xaxis\":\"x3\",\"yaxis\":\"y3\"},{\"marker\":{\"color\":\"#DDCB76\",\"line\":{\"color\":\"gray\",\"width\":0.1}},\"name\":\"physiological\",\"x\":[\"background\",\"kidney\",\"skin\"],\"y\":{\"dtype\":\"i1\",\"bdata\":\"AgIC\"},\"type\":\"bar\",\"xaxis\":\"x3\",\"yaxis\":\"y3\"},{\"marker\":{\"color\":\"#DDCB76\",\"line\":{\"color\":\"gray\",\"width\":0.1}},\"name\":\"physiological\",\"x\":[\"background\",\"kidney\",\"skin\"],\"y\":{\"dtype\":\"i1\",\"bdata\":\"AgIC\"},\"type\":\"bar\",\"xaxis\":\"x3\",\"yaxis\":\"y3\"},{\"marker\":{\"color\":\"#DDCB76\",\"line\":{\"color\":\"gray\",\"width\":0.1}},\"name\":\"physiological\",\"x\":[\"background\",\"kidney\",\"skin\"],\"y\":{\"dtype\":\"i1\",\"bdata\":\"AgIC\"},\"type\":\"bar\",\"xaxis\":\"x3\",\"yaxis\":\"y3\"},{\"marker\":{\"color\":\"#DDCB76\",\"line\":{\"color\":\"gray\",\"width\":0.1}},\"name\":\"physiological\",\"x\":[\"background\",\"kidney\",\"skin\"],\"y\":{\"dtype\":\"i1\",\"bdata\":\"AgIC\"},\"type\":\"bar\",\"xaxis\":\"x3\",\"yaxis\":\"y3\"},{\"marker\":{\"color\":\"#DDCB76\",\"line\":{\"color\":\"gray\",\"width\":0.1}},\"name\":\"physiological\",\"x\":[\"background\",\"kidney\",\"skin\"],\"y\":{\"dtype\":\"i1\",\"bdata\":\"AgIC\"},\"type\":\"bar\",\"xaxis\":\"x3\",\"yaxis\":\"y3\"},{\"marker\":{\"color\":\"#DDCB76\",\"line\":{\"color\":\"gray\",\"width\":0.1}},\"name\":\"physiological\",\"x\":[\"background\",\"skin\"],\"y\":{\"dtype\":\"i1\",\"bdata\":\"AgI=\"},\"type\":\"bar\",\"xaxis\":\"x3\",\"yaxis\":\"y3\"},{\"marker\":{\"color\":\"#DDCB76\",\"line\":{\"color\":\"gray\",\"width\":0.1}},\"name\":\"physiological\",\"x\":[\"background\",\"skin\"],\"y\":{\"dtype\":\"i1\",\"bdata\":\"AgI=\"},\"type\":\"bar\",\"xaxis\":\"x3\",\"yaxis\":\"y3\"},{\"marker\":{\"color\":\"#DDCB76\",\"line\":{\"color\":\"gray\",\"width\":0.1}},\"name\":\"physiological\",\"x\":[\"background\",\"skin\"],\"y\":{\"dtype\":\"i1\",\"bdata\":\"AgI=\"},\"type\":\"bar\",\"xaxis\":\"x3\",\"yaxis\":\"y3\"},{\"marker\":{\"color\":\"#DDCB76\",\"line\":{\"color\":\"gray\",\"width\":0.1}},\"name\":\"physiological\",\"x\":[\"background\",\"skin\"],\"y\":{\"dtype\":\"i1\",\"bdata\":\"AgI=\"},\"type\":\"bar\",\"xaxis\":\"x3\",\"yaxis\":\"y3\"},{\"marker\":{\"color\":\"#DDCB76\",\"line\":{\"color\":\"gray\",\"width\":0.1}},\"name\":\"physiological\",\"x\":[\"background\",\"skin\"],\"y\":{\"dtype\":\"i1\",\"bdata\":\"AgI=\"},\"type\":\"bar\",\"xaxis\":\"x3\",\"yaxis\":\"y3\"},{\"marker\":{\"color\":\"#DDCB76\",\"line\":{\"color\":\"gray\",\"width\":0.1}},\"name\":\"physiological\",\"x\":[\"background\",\"skin\"],\"y\":{\"dtype\":\"i1\",\"bdata\":\"AgI=\"},\"type\":\"bar\",\"xaxis\":\"x3\",\"yaxis\":\"y3\"},{\"marker\":{\"color\":\"#DDCB76\",\"line\":{\"color\":\"gray\",\"width\":0.1}},\"name\":\"physiological\",\"x\":[\"background\",\"skin\"],\"y\":{\"dtype\":\"i1\",\"bdata\":\"AgI=\"},\"type\":\"bar\",\"xaxis\":\"x3\",\"yaxis\":\"y3\"},{\"marker\":{\"color\":\"#DDCB76\",\"line\":{\"color\":\"gray\",\"width\":0.1}},\"name\":\"physiological\",\"x\":[\"background\",\"skin\"],\"y\":{\"dtype\":\"i1\",\"bdata\":\"AgI=\"},\"type\":\"bar\",\"xaxis\":\"x3\",\"yaxis\":\"y3\"},{\"marker\":{\"color\":\"#DDCB76\",\"line\":{\"color\":\"gray\",\"width\":0.1}},\"name\":\"physiological\",\"x\":[\"background\",\"skin\"],\"y\":{\"dtype\":\"i1\",\"bdata\":\"AgI=\"},\"type\":\"bar\",\"xaxis\":\"x3\",\"yaxis\":\"y3\"},{\"marker\":{\"color\":\"#DDCB76\",\"line\":{\"color\":\"gray\",\"width\":0.1}},\"name\":\"physiological\",\"x\":[\"background\",\"skin\"],\"y\":{\"dtype\":\"i1\",\"bdata\":\"AgI=\"},\"type\":\"bar\",\"xaxis\":\"x3\",\"yaxis\":\"y3\"},{\"marker\":{\"color\":\"#DDCB76\",\"line\":{\"color\":\"gray\",\"width\":0.1}},\"name\":\"unclear\",\"x\":[\"kidney\"],\"y\":{\"dtype\":\"i1\",\"bdata\":\"AQ==\"},\"type\":\"bar\",\"xaxis\":\"x3\",\"yaxis\":\"y3\"},{\"marker\":{\"color\":\"#DDCB76\",\"line\":{\"color\":\"gray\",\"width\":0.1}},\"name\":\"unclear\",\"x\":[\"kidney\"],\"y\":{\"dtype\":\"i1\",\"bdata\":\"Cw==\"},\"type\":\"bar\",\"xaxis\":\"x3\",\"yaxis\":\"y3\"},{\"marker\":{\"color\":\"#DDCB76\",\"line\":{\"color\":\"gray\",\"width\":0.1}},\"name\":\"unclear\",\"x\":[\"kidney\"],\"y\":{\"dtype\":\"i1\",\"bdata\":\"Ag==\"},\"type\":\"bar\",\"xaxis\":\"x3\",\"yaxis\":\"y3\"},{\"marker\":{\"color\":\"#DDCB76\",\"line\":{\"color\":\"gray\",\"width\":0.1}},\"name\":\"unclear\",\"x\":[\"kidney\"],\"y\":{\"dtype\":\"i1\",\"bdata\":\"Ag==\"},\"type\":\"bar\",\"xaxis\":\"x3\",\"yaxis\":\"y3\"},{\"marker\":{\"color\":\"#DDCB76\",\"line\":{\"color\":\"gray\",\"width\":0.1}},\"name\":\"unclear\",\"x\":[\"kidney\"],\"y\":{\"dtype\":\"i1\",\"bdata\":\"AQ==\"},\"type\":\"bar\",\"xaxis\":\"x3\",\"yaxis\":\"y3\"},{\"marker\":{\"color\":\"#DDCB76\",\"line\":{\"color\":\"gray\",\"width\":0.1}},\"name\":\"unclear\",\"x\":[\"kidney\"],\"y\":{\"dtype\":\"i1\",\"bdata\":\"BQ==\"},\"type\":\"bar\",\"xaxis\":\"x3\",\"yaxis\":\"y3\"},{\"marker\":{\"color\":\"#DDCB76\",\"line\":{\"color\":\"gray\",\"width\":0.1}},\"name\":\"unclear\",\"x\":[\"kidney\"],\"y\":{\"dtype\":\"i1\",\"bdata\":\"Ag==\"},\"type\":\"bar\",\"xaxis\":\"x3\",\"yaxis\":\"y3\"},{\"marker\":{\"color\":\"#DDCB76\",\"line\":{\"color\":\"gray\",\"width\":0.1}},\"name\":\"unclear\",\"x\":[\"kidney\"],\"y\":{\"dtype\":\"i1\",\"bdata\":\"AQ==\"},\"type\":\"bar\",\"xaxis\":\"x3\",\"yaxis\":\"y3\"},{\"marker\":{\"color\":\"#DDCB76\",\"line\":{\"color\":\"gray\",\"width\":0.1}},\"name\":\"unclear\",\"x\":[\"kidney\"],\"y\":{\"dtype\":\"i1\",\"bdata\":\"Ag==\"},\"type\":\"bar\",\"xaxis\":\"x3\",\"yaxis\":\"y3\"},{\"marker\":{\"color\":\"#DDCB76\",\"line\":{\"color\":\"gray\",\"width\":0.1}},\"name\":\"unclear\",\"x\":[\"kidney\"],\"y\":{\"dtype\":\"i1\",\"bdata\":\"Aw==\"},\"type\":\"bar\",\"xaxis\":\"x3\",\"yaxis\":\"y3\"},{\"marker\":{\"color\":\"#DDCB76\",\"line\":{\"color\":\"gray\",\"width\":0.1}},\"name\":\"unclear\",\"x\":[\"kidney\"],\"y\":{\"dtype\":\"i1\",\"bdata\":\"BA==\"},\"type\":\"bar\",\"xaxis\":\"x3\",\"yaxis\":\"y3\"},{\"marker\":{\"color\":\"#DDCB76\",\"line\":{\"color\":\"gray\",\"width\":0.1}},\"name\":\"unclear\",\"x\":[\"kidney\"],\"y\":{\"dtype\":\"i1\",\"bdata\":\"AQ==\"},\"type\":\"bar\",\"xaxis\":\"x3\",\"yaxis\":\"y3\"},{\"marker\":{\"color\":\"#DDCB76\",\"line\":{\"color\":\"gray\",\"width\":0.1}},\"name\":\"unclear\",\"x\":[\"kidney\"],\"y\":{\"dtype\":\"i1\",\"bdata\":\"AQ==\"},\"type\":\"bar\",\"xaxis\":\"x3\",\"yaxis\":\"y3\"},{\"marker\":{\"color\":\"#F8F5E4\",\"line\":{\"color\":\"gray\",\"width\":0.1}},\"name\":\"malperfused\",\"x\":[\"colon\",\"spleen\"],\"y\":{\"dtype\":\"i1\",\"bdata\":\"FQw=\"},\"type\":\"bar\",\"xaxis\":\"x3\",\"yaxis\":\"y3\"},{\"marker\":{\"color\":\"#F8F5E4\",\"line\":{\"color\":\"gray\",\"width\":0.1}},\"name\":\"malperfused\",\"x\":[\"colon\",\"spleen\"],\"y\":{\"dtype\":\"i1\",\"bdata\":\"EQ0=\"},\"type\":\"bar\",\"xaxis\":\"x3\",\"yaxis\":\"y3\"},{\"marker\":{\"color\":\"#F8F5E4\",\"line\":{\"color\":\"gray\",\"width\":0.1}},\"name\":\"malperfused\",\"x\":[\"colon\"],\"y\":{\"dtype\":\"i1\",\"bdata\":\"HA==\"},\"type\":\"bar\",\"xaxis\":\"x3\",\"yaxis\":\"y3\"},{\"marker\":{\"color\":\"#F8F5E4\",\"line\":{\"color\":\"gray\",\"width\":0.1}},\"name\":\"malperfused\",\"x\":[\"liver\",\"spleen\"],\"y\":{\"dtype\":\"i1\",\"bdata\":\"BQ8=\"},\"type\":\"bar\",\"xaxis\":\"x3\",\"yaxis\":\"y3\"},{\"marker\":{\"color\":\"#F8F5E4\",\"line\":{\"color\":\"gray\",\"width\":0.1}},\"name\":\"malperfused\",\"x\":[\"liver\"],\"y\":{\"dtype\":\"i1\",\"bdata\":\"Bw==\"},\"type\":\"bar\",\"xaxis\":\"x3\",\"yaxis\":\"y3\"},{\"marker\":{\"color\":\"#F8F5E4\",\"line\":{\"color\":\"gray\",\"width\":0.1}},\"name\":\"malperfused\",\"x\":[\"liver\"],\"y\":{\"dtype\":\"i1\",\"bdata\":\"Cg==\"},\"type\":\"bar\",\"xaxis\":\"x3\",\"yaxis\":\"y3\"},{\"marker\":{\"color\":\"#F8F5E4\",\"line\":{\"color\":\"gray\",\"width\":0.1}},\"name\":\"malperfused\",\"x\":[\"liver\"],\"y\":{\"dtype\":\"i1\",\"bdata\":\"Bw==\"},\"type\":\"bar\",\"xaxis\":\"x3\",\"yaxis\":\"y3\"},{\"marker\":{\"color\":\"#F8F5E4\",\"line\":{\"color\":\"gray\",\"width\":0.1}},\"name\":\"malperfused\",\"x\":[\"liver\"],\"y\":{\"dtype\":\"i1\",\"bdata\":\"Ag==\"},\"type\":\"bar\",\"xaxis\":\"x3\",\"yaxis\":\"y3\"},{\"marker\":{\"color\":\"#F8F5E4\",\"line\":{\"color\":\"gray\",\"width\":0.1}},\"name\":\"malperfused\",\"x\":[\"liver\"],\"y\":{\"dtype\":\"i1\",\"bdata\":\"GA==\"},\"type\":\"bar\",\"xaxis\":\"x3\",\"yaxis\":\"y3\"},{\"marker\":{\"color\":\"#F8F5E4\",\"line\":{\"color\":\"gray\",\"width\":0.1}},\"name\":\"malperfused\",\"x\":[\"liver\"],\"y\":{\"dtype\":\"i1\",\"bdata\":\"Dw==\"},\"type\":\"bar\",\"xaxis\":\"x3\",\"yaxis\":\"y3\"},{\"marker\":{\"color\":\"#F8F5E4\",\"line\":{\"color\":\"gray\",\"width\":0.1}},\"name\":\"malperfused\",\"x\":[\"liver\"],\"y\":{\"dtype\":\"i1\",\"bdata\":\"HA==\"},\"type\":\"bar\",\"xaxis\":\"x3\",\"yaxis\":\"y3\"},{\"marker\":{\"color\":\"#F8F5E4\",\"line\":{\"color\":\"gray\",\"width\":0.1}},\"name\":\"malperfused\",\"x\":[\"liver\"],\"y\":{\"dtype\":\"i1\",\"bdata\":\"JA==\"},\"type\":\"bar\",\"xaxis\":\"x3\",\"yaxis\":\"y3\"},{\"marker\":{\"color\":\"#F8F5E4\",\"line\":{\"color\":\"gray\",\"width\":0.1}},\"name\":\"malperfused\",\"x\":[\"liver\"],\"y\":{\"dtype\":\"i1\",\"bdata\":\"Eg==\"},\"type\":\"bar\",\"xaxis\":\"x3\",\"yaxis\":\"y3\"},{\"marker\":{\"color\":\"#F8F5E4\",\"line\":{\"color\":\"gray\",\"width\":0.1}},\"name\":\"malperfused\",\"x\":[\"liver\"],\"y\":{\"dtype\":\"i1\",\"bdata\":\"DA==\"},\"type\":\"bar\",\"xaxis\":\"x3\",\"yaxis\":\"y3\"},{\"marker\":{\"color\":\"#F8F5E4\",\"line\":{\"color\":\"gray\",\"width\":0.1}},\"name\":\"malperfused\",\"x\":[\"liver\"],\"y\":{\"dtype\":\"i1\",\"bdata\":\"EA==\"},\"type\":\"bar\",\"xaxis\":\"x3\",\"yaxis\":\"y3\"},{\"marker\":{\"color\":\"#F8F5E4\",\"line\":{\"color\":\"gray\",\"width\":0.1}},\"name\":\"malperfused\",\"x\":[\"liver\"],\"y\":{\"dtype\":\"i1\",\"bdata\":\"EA==\"},\"type\":\"bar\",\"xaxis\":\"x3\",\"yaxis\":\"y3\"},{\"marker\":{\"color\":\"#F8F5E4\",\"line\":{\"color\":\"gray\",\"width\":0.1}},\"name\":\"malperfused\",\"x\":[\"liver\"],\"y\":{\"dtype\":\"i1\",\"bdata\":\"Cg==\"},\"type\":\"bar\",\"xaxis\":\"x3\",\"yaxis\":\"y3\"},{\"marker\":{\"color\":\"#F8F5E4\",\"line\":{\"color\":\"gray\",\"width\":0.1}},\"name\":\"malperfused\",\"x\":[\"kidney\"],\"y\":{\"dtype\":\"i1\",\"bdata\":\"DQ==\"},\"type\":\"bar\",\"xaxis\":\"x3\",\"yaxis\":\"y3\"},{\"marker\":{\"color\":\"#F8F5E4\",\"line\":{\"color\":\"gray\",\"width\":0.1}},\"name\":\"malperfused\",\"x\":[\"kidney\"],\"y\":{\"dtype\":\"i1\",\"bdata\":\"BQ==\"},\"type\":\"bar\",\"xaxis\":\"x3\",\"yaxis\":\"y3\"},{\"marker\":{\"color\":\"#F8F5E4\",\"line\":{\"color\":\"gray\",\"width\":0.1}},\"name\":\"malperfused\",\"x\":[\"kidney\"],\"y\":{\"dtype\":\"i1\",\"bdata\":\"BA==\"},\"type\":\"bar\",\"xaxis\":\"x3\",\"yaxis\":\"y3\"},{\"marker\":{\"color\":\"#F8F5E4\",\"line\":{\"color\":\"gray\",\"width\":0.1}},\"name\":\"malperfused\",\"x\":[\"kidney\"],\"y\":{\"dtype\":\"i1\",\"bdata\":\"BA==\"},\"type\":\"bar\",\"xaxis\":\"x3\",\"yaxis\":\"y3\"},{\"marker\":{\"color\":\"#F8F5E4\",\"line\":{\"color\":\"gray\",\"width\":0.1}},\"name\":\"malperfused\",\"x\":[\"kidney\"],\"y\":{\"dtype\":\"i1\",\"bdata\":\"BQ==\"},\"type\":\"bar\",\"xaxis\":\"x3\",\"yaxis\":\"y3\"},{\"marker\":{\"color\":\"#F8F5E4\",\"line\":{\"color\":\"gray\",\"width\":0.1}},\"name\":\"malperfused\",\"x\":[\"kidney\"],\"y\":{\"dtype\":\"i1\",\"bdata\":\"Aw==\"},\"type\":\"bar\",\"xaxis\":\"x3\",\"yaxis\":\"y3\"},{\"marker\":{\"color\":\"#F8F5E4\",\"line\":{\"color\":\"gray\",\"width\":0.1}},\"name\":\"malperfused\",\"x\":[\"spleen\"],\"y\":{\"dtype\":\"i1\",\"bdata\":\"Ag==\"},\"type\":\"bar\",\"xaxis\":\"x3\",\"yaxis\":\"y3\"},{\"marker\":{\"color\":\"#F8F5E4\",\"line\":{\"color\":\"gray\",\"width\":0.1}},\"name\":\"malperfused\",\"x\":[\"spleen\"],\"y\":{\"dtype\":\"i1\",\"bdata\":\"FA==\"},\"type\":\"bar\",\"xaxis\":\"x3\",\"yaxis\":\"y3\"},{\"marker\":{\"color\":\"#F8F5E4\",\"line\":{\"color\":\"gray\",\"width\":0.1}},\"name\":\"malperfused\",\"x\":[\"spleen\"],\"y\":{\"dtype\":\"i1\",\"bdata\":\"MQ==\"},\"type\":\"bar\",\"xaxis\":\"x3\",\"yaxis\":\"y3\"},{\"marker\":{\"color\":\"#F8F5E4\",\"line\":{\"color\":\"gray\",\"width\":0.1}},\"name\":\"malperfused\",\"x\":[\"spleen\"],\"y\":{\"dtype\":\"i1\",\"bdata\":\"Eg==\"},\"type\":\"bar\",\"xaxis\":\"x3\",\"yaxis\":\"y3\"},{\"marker\":{\"color\":\"#F8F5E4\",\"line\":{\"color\":\"gray\",\"width\":0.1}},\"name\":\"malperfused\",\"x\":[\"spleen\"],\"y\":{\"dtype\":\"i1\",\"bdata\":\"Ig==\"},\"type\":\"bar\",\"xaxis\":\"x3\",\"yaxis\":\"y3\"},{\"marker\":{\"color\":\"#F8F5E4\",\"line\":{\"color\":\"gray\",\"width\":0.1}},\"name\":\"malperfused\",\"x\":[\"spleen\"],\"y\":{\"dtype\":\"i1\",\"bdata\":\"Ew==\"},\"type\":\"bar\",\"xaxis\":\"x3\",\"yaxis\":\"y3\"},{\"marker\":{\"color\":\"#F8F5E4\",\"line\":{\"color\":\"gray\",\"width\":0.1}},\"name\":\"malperfused\",\"x\":[\"spleen\"],\"y\":{\"dtype\":\"i1\",\"bdata\":\"GQ==\"},\"type\":\"bar\",\"xaxis\":\"x3\",\"yaxis\":\"y3\"},{\"marker\":{\"color\":\"#F8F5E4\",\"line\":{\"color\":\"gray\",\"width\":0.1}},\"name\":\"malperfused\",\"x\":[\"spleen\"],\"y\":{\"dtype\":\"i1\",\"bdata\":\"DA==\"},\"type\":\"bar\",\"xaxis\":\"x3\",\"yaxis\":\"y3\"},{\"marker\":{\"color\":\"#F8F5E4\",\"line\":{\"color\":\"gray\",\"width\":0.1}},\"name\":\"malperfused\",\"x\":[\"spleen\"],\"y\":{\"dtype\":\"i1\",\"bdata\":\"DQ==\"},\"type\":\"bar\",\"xaxis\":\"x3\",\"yaxis\":\"y3\"},{\"marker\":{\"color\":\"#F8F5E4\",\"line\":{\"color\":\"gray\",\"width\":0.1}},\"name\":\"malperfused\",\"x\":[\"spleen\"],\"y\":{\"dtype\":\"i1\",\"bdata\":\"Dg==\"},\"type\":\"bar\",\"xaxis\":\"x3\",\"yaxis\":\"y3\"},{\"marker\":{\"color\":\"#F8F5E4\",\"line\":{\"color\":\"gray\",\"width\":0.1}},\"name\":\"malperfused\",\"x\":[\"spleen\"],\"y\":{\"dtype\":\"i1\",\"bdata\":\"Dw==\"},\"type\":\"bar\",\"xaxis\":\"x3\",\"yaxis\":\"y3\"},{\"marker\":{\"color\":\"#F8F5E4\",\"line\":{\"color\":\"gray\",\"width\":0.1}},\"name\":\"malperfused\",\"x\":[\"spleen\"],\"y\":{\"dtype\":\"i1\",\"bdata\":\"CA==\"},\"type\":\"bar\",\"xaxis\":\"x3\",\"yaxis\":\"y3\"},{\"marker\":{\"color\":\"#F8F5E4\",\"line\":{\"color\":\"gray\",\"width\":0.1}},\"name\":\"malperfused\",\"x\":[\"spleen\"],\"y\":{\"dtype\":\"i1\",\"bdata\":\"DA==\"},\"type\":\"bar\",\"xaxis\":\"x3\",\"yaxis\":\"y3\"},{\"marker\":{\"color\":\"#F8F5E4\",\"line\":{\"color\":\"gray\",\"width\":0.1}},\"name\":\"malperfused\",\"x\":[\"spleen\"],\"y\":{\"dtype\":\"i1\",\"bdata\":\"GA==\"},\"type\":\"bar\",\"xaxis\":\"x3\",\"yaxis\":\"y3\"},{\"marker\":{\"color\":\"#F8F5E4\",\"line\":{\"color\":\"gray\",\"width\":0.1}},\"name\":\"malperfused\",\"x\":[\"spleen\"],\"y\":{\"dtype\":\"i1\",\"bdata\":\"DQ==\"},\"type\":\"bar\",\"xaxis\":\"x3\",\"yaxis\":\"y3\"},{\"marker\":{\"color\":\"#F8F5E4\",\"line\":{\"color\":\"gray\",\"width\":0.1}},\"name\":\"malperfused\",\"x\":[\"spleen\"],\"y\":{\"dtype\":\"i1\",\"bdata\":\"DQ==\"},\"type\":\"bar\",\"xaxis\":\"x3\",\"yaxis\":\"y3\"},{\"marker\":{\"color\":\"#F8F5E4\",\"line\":{\"color\":\"gray\",\"width\":0.1}},\"name\":\"malperfused\",\"x\":[\"spleen\"],\"y\":{\"dtype\":\"i1\",\"bdata\":\"Ew==\"},\"type\":\"bar\",\"xaxis\":\"x3\",\"yaxis\":\"y3\"},{\"marker\":{\"color\":\"#F8F5E4\",\"line\":{\"color\":\"gray\",\"width\":0.1}},\"name\":\"malperfused\",\"x\":[\"spleen\"],\"y\":{\"dtype\":\"i1\",\"bdata\":\"Cg==\"},\"type\":\"bar\",\"xaxis\":\"x3\",\"yaxis\":\"y3\"},{\"marker\":{\"color\":\"#F8F5E4\",\"line\":{\"color\":\"gray\",\"width\":0.1}},\"name\":\"malperfused\",\"x\":[\"spleen\"],\"y\":{\"dtype\":\"i1\",\"bdata\":\"Dg==\"},\"type\":\"bar\",\"xaxis\":\"x3\",\"yaxis\":\"y3\"},{\"marker\":{\"color\":\"#F8F5E4\",\"line\":{\"color\":\"gray\",\"width\":0.1}},\"name\":\"malperfused\",\"x\":[\"spleen\"],\"y\":{\"dtype\":\"i1\",\"bdata\":\"Ew==\"},\"type\":\"bar\",\"xaxis\":\"x3\",\"yaxis\":\"y3\"},{\"marker\":{\"color\":\"#F8F5E4\",\"line\":{\"color\":\"gray\",\"width\":0.1}},\"name\":\"malperfused\",\"x\":[\"spleen\"],\"y\":{\"dtype\":\"i1\",\"bdata\":\"Dw==\"},\"type\":\"bar\",\"xaxis\":\"x3\",\"yaxis\":\"y3\"},{\"marker\":{\"color\":\"#F8F5E4\",\"line\":{\"color\":\"gray\",\"width\":0.1}},\"name\":\"malperfused\",\"x\":[\"spleen\"],\"y\":{\"dtype\":\"i1\",\"bdata\":\"DA==\"},\"type\":\"bar\",\"xaxis\":\"x3\",\"yaxis\":\"y3\"},{\"marker\":{\"color\":\"#F8F5E4\",\"line\":{\"color\":\"gray\",\"width\":0.1}},\"name\":\"malperfused\",\"x\":[\"spleen\"],\"y\":{\"dtype\":\"i1\",\"bdata\":\"DQ==\"},\"type\":\"bar\",\"xaxis\":\"x3\",\"yaxis\":\"y3\"},{\"marker\":{\"color\":\"#F8F5E4\",\"line\":{\"color\":\"gray\",\"width\":0.1}},\"name\":\"malperfused\",\"x\":[\"spleen\"],\"y\":{\"dtype\":\"i1\",\"bdata\":\"BQ==\"},\"type\":\"bar\",\"xaxis\":\"x3\",\"yaxis\":\"y3\"},{\"marker\":{\"color\":\"#F8F5E4\",\"line\":{\"color\":\"gray\",\"width\":0.1}},\"name\":\"malperfused\",\"x\":[\"spleen\"],\"y\":{\"dtype\":\"i1\",\"bdata\":\"EA==\"},\"type\":\"bar\",\"xaxis\":\"x3\",\"yaxis\":\"y3\"},{\"marker\":{\"color\":\"#F8F5E4\",\"line\":{\"color\":\"gray\",\"width\":0.1}},\"name\":\"malperfused\",\"x\":[\"spleen\"],\"y\":{\"dtype\":\"i1\",\"bdata\":\"Cg==\"},\"type\":\"bar\",\"xaxis\":\"x3\",\"yaxis\":\"y3\"},{\"marker\":{\"color\":\"#F8F5E4\",\"line\":{\"color\":\"gray\",\"width\":0.1}},\"name\":\"malperfused\",\"x\":[\"spleen\"],\"y\":{\"dtype\":\"i1\",\"bdata\":\"Cw==\"},\"type\":\"bar\",\"xaxis\":\"x3\",\"yaxis\":\"y3\"},{\"marker\":{\"color\":\"#F8F5E4\",\"line\":{\"color\":\"gray\",\"width\":0.1}},\"name\":\"malperfused\",\"x\":[\"spleen\"],\"y\":{\"dtype\":\"i1\",\"bdata\":\"CQ==\"},\"type\":\"bar\",\"xaxis\":\"x3\",\"yaxis\":\"y3\"},{\"marker\":{\"color\":\"#F8F5E4\",\"line\":{\"color\":\"gray\",\"width\":0.1}},\"name\":\"malperfused\",\"x\":[\"spleen\"],\"y\":{\"dtype\":\"i1\",\"bdata\":\"Cw==\"},\"type\":\"bar\",\"xaxis\":\"x3\",\"yaxis\":\"y3\"},{\"marker\":{\"color\":\"#F8F5E4\",\"line\":{\"color\":\"gray\",\"width\":0.1}},\"name\":\"malperfused\",\"x\":[\"spleen\"],\"y\":{\"dtype\":\"i1\",\"bdata\":\"CQ==\"},\"type\":\"bar\",\"xaxis\":\"x3\",\"yaxis\":\"y3\"}],                        {\"template\":{\"data\":{\"barpolar\":[{\"marker\":{\"line\":{\"color\":\"white\",\"width\":0.5},\"pattern\":{\"fillmode\":\"overlay\",\"size\":10,\"solidity\":0.2}},\"type\":\"barpolar\"}],\"bar\":[{\"error_x\":{\"color\":\"#2a3f5f\"},\"error_y\":{\"color\":\"#2a3f5f\"},\"marker\":{\"line\":{\"color\":\"white\",\"width\":0.5},\"pattern\":{\"fillmode\":\"overlay\",\"size\":10,\"solidity\":0.2}},\"type\":\"bar\"}],\"carpet\":[{\"aaxis\":{\"endlinecolor\":\"#2a3f5f\",\"gridcolor\":\"#C8D4E3\",\"linecolor\":\"#C8D4E3\",\"minorgridcolor\":\"#C8D4E3\",\"startlinecolor\":\"#2a3f5f\"},\"baxis\":{\"endlinecolor\":\"#2a3f5f\",\"gridcolor\":\"#C8D4E3\",\"linecolor\":\"#C8D4E3\",\"minorgridcolor\":\"#C8D4E3\",\"startlinecolor\":\"#2a3f5f\"},\"type\":\"carpet\"}],\"choropleth\":[{\"colorbar\":{\"outlinewidth\":0,\"ticks\":\"\"},\"type\":\"choropleth\"}],\"contourcarpet\":[{\"colorbar\":{\"outlinewidth\":0,\"ticks\":\"\"},\"type\":\"contourcarpet\"}],\"contour\":[{\"colorbar\":{\"outlinewidth\":0,\"ticks\":\"\"},\"colorscale\":[[0.0,\"#0d0887\"],[0.1111111111111111,\"#46039f\"],[0.2222222222222222,\"#7201a8\"],[0.3333333333333333,\"#9c179e\"],[0.4444444444444444,\"#bd3786\"],[0.5555555555555556,\"#d8576b\"],[0.6666666666666666,\"#ed7953\"],[0.7777777777777778,\"#fb9f3a\"],[0.8888888888888888,\"#fdca26\"],[1.0,\"#f0f921\"]],\"type\":\"contour\"}],\"heatmap\":[{\"colorbar\":{\"outlinewidth\":0,\"ticks\":\"\"},\"colorscale\":[[0.0,\"#0d0887\"],[0.1111111111111111,\"#46039f\"],[0.2222222222222222,\"#7201a8\"],[0.3333333333333333,\"#9c179e\"],[0.4444444444444444,\"#bd3786\"],[0.5555555555555556,\"#d8576b\"],[0.6666666666666666,\"#ed7953\"],[0.7777777777777778,\"#fb9f3a\"],[0.8888888888888888,\"#fdca26\"],[1.0,\"#f0f921\"]],\"type\":\"heatmap\"}],\"histogram2dcontour\":[{\"colorbar\":{\"outlinewidth\":0,\"ticks\":\"\"},\"colorscale\":[[0.0,\"#0d0887\"],[0.1111111111111111,\"#46039f\"],[0.2222222222222222,\"#7201a8\"],[0.3333333333333333,\"#9c179e\"],[0.4444444444444444,\"#bd3786\"],[0.5555555555555556,\"#d8576b\"],[0.6666666666666666,\"#ed7953\"],[0.7777777777777778,\"#fb9f3a\"],[0.8888888888888888,\"#fdca26\"],[1.0,\"#f0f921\"]],\"type\":\"histogram2dcontour\"}],\"histogram2d\":[{\"colorbar\":{\"outlinewidth\":0,\"ticks\":\"\"},\"colorscale\":[[0.0,\"#0d0887\"],[0.1111111111111111,\"#46039f\"],[0.2222222222222222,\"#7201a8\"],[0.3333333333333333,\"#9c179e\"],[0.4444444444444444,\"#bd3786\"],[0.5555555555555556,\"#d8576b\"],[0.6666666666666666,\"#ed7953\"],[0.7777777777777778,\"#fb9f3a\"],[0.8888888888888888,\"#fdca26\"],[1.0,\"#f0f921\"]],\"type\":\"histogram2d\"}],\"histogram\":[{\"marker\":{\"pattern\":{\"fillmode\":\"overlay\",\"size\":10,\"solidity\":0.2}},\"type\":\"histogram\"}],\"mesh3d\":[{\"colorbar\":{\"outlinewidth\":0,\"ticks\":\"\"},\"type\":\"mesh3d\"}],\"parcoords\":[{\"line\":{\"colorbar\":{\"outlinewidth\":0,\"ticks\":\"\"}},\"type\":\"parcoords\"}],\"pie\":[{\"automargin\":true,\"type\":\"pie\"}],\"scatter3d\":[{\"line\":{\"colorbar\":{\"outlinewidth\":0,\"ticks\":\"\"}},\"marker\":{\"colorbar\":{\"outlinewidth\":0,\"ticks\":\"\"}},\"type\":\"scatter3d\"}],\"scattercarpet\":[{\"marker\":{\"colorbar\":{\"outlinewidth\":0,\"ticks\":\"\"}},\"type\":\"scattercarpet\"}],\"scattergeo\":[{\"marker\":{\"colorbar\":{\"outlinewidth\":0,\"ticks\":\"\"}},\"type\":\"scattergeo\"}],\"scattergl\":[{\"marker\":{\"colorbar\":{\"outlinewidth\":0,\"ticks\":\"\"}},\"type\":\"scattergl\"}],\"scattermapbox\":[{\"marker\":{\"colorbar\":{\"outlinewidth\":0,\"ticks\":\"\"}},\"type\":\"scattermapbox\"}],\"scattermap\":[{\"marker\":{\"colorbar\":{\"outlinewidth\":0,\"ticks\":\"\"}},\"type\":\"scattermap\"}],\"scatterpolargl\":[{\"marker\":{\"colorbar\":{\"outlinewidth\":0,\"ticks\":\"\"}},\"type\":\"scatterpolargl\"}],\"scatterpolar\":[{\"marker\":{\"colorbar\":{\"outlinewidth\":0,\"ticks\":\"\"}},\"type\":\"scatterpolar\"}],\"scatter\":[{\"fillpattern\":{\"fillmode\":\"overlay\",\"size\":10,\"solidity\":0.2},\"type\":\"scatter\"}],\"scatterternary\":[{\"marker\":{\"colorbar\":{\"outlinewidth\":0,\"ticks\":\"\"}},\"type\":\"scatterternary\"}],\"surface\":[{\"colorbar\":{\"outlinewidth\":0,\"ticks\":\"\"},\"colorscale\":[[0.0,\"#0d0887\"],[0.1111111111111111,\"#46039f\"],[0.2222222222222222,\"#7201a8\"],[0.3333333333333333,\"#9c179e\"],[0.4444444444444444,\"#bd3786\"],[0.5555555555555556,\"#d8576b\"],[0.6666666666666666,\"#ed7953\"],[0.7777777777777778,\"#fb9f3a\"],[0.8888888888888888,\"#fdca26\"],[1.0,\"#f0f921\"]],\"type\":\"surface\"}],\"table\":[{\"cells\":{\"fill\":{\"color\":\"#EBF0F8\"},\"line\":{\"color\":\"white\"}},\"header\":{\"fill\":{\"color\":\"#C8D4E3\"},\"line\":{\"color\":\"white\"}},\"type\":\"table\"}]},\"layout\":{\"annotationdefaults\":{\"arrowcolor\":\"#2a3f5f\",\"arrowhead\":0,\"arrowwidth\":1},\"autotypenumbers\":\"strict\",\"coloraxis\":{\"colorbar\":{\"outlinewidth\":0,\"ticks\":\"\"}},\"colorscale\":{\"diverging\":[[0,\"#8e0152\"],[0.1,\"#c51b7d\"],[0.2,\"#de77ae\"],[0.3,\"#f1b6da\"],[0.4,\"#fde0ef\"],[0.5,\"#f7f7f7\"],[0.6,\"#e6f5d0\"],[0.7,\"#b8e186\"],[0.8,\"#7fbc41\"],[0.9,\"#4d9221\"],[1,\"#276419\"]],\"sequential\":[[0.0,\"#0d0887\"],[0.1111111111111111,\"#46039f\"],[0.2222222222222222,\"#7201a8\"],[0.3333333333333333,\"#9c179e\"],[0.4444444444444444,\"#bd3786\"],[0.5555555555555556,\"#d8576b\"],[0.6666666666666666,\"#ed7953\"],[0.7777777777777778,\"#fb9f3a\"],[0.8888888888888888,\"#fdca26\"],[1.0,\"#f0f921\"]],\"sequentialminus\":[[0.0,\"#0d0887\"],[0.1111111111111111,\"#46039f\"],[0.2222222222222222,\"#7201a8\"],[0.3333333333333333,\"#9c179e\"],[0.4444444444444444,\"#bd3786\"],[0.5555555555555556,\"#d8576b\"],[0.6666666666666666,\"#ed7953\"],[0.7777777777777778,\"#fb9f3a\"],[0.8888888888888888,\"#fdca26\"],[1.0,\"#f0f921\"]]},\"colorway\":[\"#636efa\",\"#EF553B\",\"#00cc96\",\"#ab63fa\",\"#FFA15A\",\"#19d3f3\",\"#FF6692\",\"#B6E880\",\"#FF97FF\",\"#FECB52\"],\"font\":{\"color\":\"#2a3f5f\"},\"geo\":{\"bgcolor\":\"white\",\"lakecolor\":\"white\",\"landcolor\":\"white\",\"showlakes\":true,\"showland\":true,\"subunitcolor\":\"#C8D4E3\"},\"hoverlabel\":{\"align\":\"left\"},\"hovermode\":\"closest\",\"mapbox\":{\"style\":\"light\"},\"paper_bgcolor\":\"white\",\"plot_bgcolor\":\"white\",\"polar\":{\"angularaxis\":{\"gridcolor\":\"#EBF0F8\",\"linecolor\":\"#EBF0F8\",\"ticks\":\"\"},\"bgcolor\":\"white\",\"radialaxis\":{\"gridcolor\":\"#EBF0F8\",\"linecolor\":\"#EBF0F8\",\"ticks\":\"\"}},\"scene\":{\"xaxis\":{\"backgroundcolor\":\"white\",\"gridcolor\":\"#DFE8F3\",\"gridwidth\":2,\"linecolor\":\"#EBF0F8\",\"showbackground\":true,\"ticks\":\"\",\"zerolinecolor\":\"#EBF0F8\"},\"yaxis\":{\"backgroundcolor\":\"white\",\"gridcolor\":\"#DFE8F3\",\"gridwidth\":2,\"linecolor\":\"#EBF0F8\",\"showbackground\":true,\"ticks\":\"\",\"zerolinecolor\":\"#EBF0F8\"},\"zaxis\":{\"backgroundcolor\":\"white\",\"gridcolor\":\"#DFE8F3\",\"gridwidth\":2,\"linecolor\":\"#EBF0F8\",\"showbackground\":true,\"ticks\":\"\",\"zerolinecolor\":\"#EBF0F8\"}},\"shapedefaults\":{\"line\":{\"color\":\"#2a3f5f\"}},\"ternary\":{\"aaxis\":{\"gridcolor\":\"#DFE8F3\",\"linecolor\":\"#A2B1C6\",\"ticks\":\"\"},\"baxis\":{\"gridcolor\":\"#DFE8F3\",\"linecolor\":\"#A2B1C6\",\"ticks\":\"\"},\"bgcolor\":\"white\",\"caxis\":{\"gridcolor\":\"#DFE8F3\",\"linecolor\":\"#A2B1C6\",\"ticks\":\"\"}},\"title\":{\"x\":0.05},\"xaxis\":{\"automargin\":true,\"gridcolor\":\"#EBF0F8\",\"linecolor\":\"#EBF0F8\",\"ticks\":\"\",\"title\":{\"standoff\":15},\"zerolinecolor\":\"#EBF0F8\",\"zerolinewidth\":2},\"yaxis\":{\"automargin\":true,\"gridcolor\":\"#EBF0F8\",\"linecolor\":\"#EBF0F8\",\"ticks\":\"\",\"title\":{\"standoff\":15},\"zerolinecolor\":\"#EBF0F8\",\"zerolinewidth\":2}}},\"xaxis\":{\"anchor\":\"y\",\"domain\":[0.0,1.0],\"matches\":\"x3\",\"showticklabels\":false,\"categoryorder\":\"array\",\"categoryarray\":[\"stomach\",\"small_bowel\",\"colon\",\"liver\",\"pancreas\",\"kidney\",\"spleen\",\"omentum\",\"lung\",\"skin\",\"peritoneum\",\"background\"]},\"yaxis\":{\"anchor\":\"x\",\"domain\":[0.7333333333333333,1.0],\"title\":{\"text\":\"\\u003cb\\u003e# images\\u003c\\u002fb\\u003e\",\"standoff\":5},\"tickformat\":\",\"},\"xaxis2\":{\"anchor\":\"y2\",\"domain\":[0.0,1.0],\"matches\":\"x3\",\"showticklabels\":false,\"categoryorder\":\"array\",\"categoryarray\":[\"stomach\",\"small_bowel\",\"colon\",\"liver\",\"pancreas\",\"kidney\",\"spleen\",\"omentum\",\"lung\",\"skin\",\"peritoneum\",\"background\"]},\"yaxis2\":{\"anchor\":\"x2\",\"domain\":[0.36666666666666664,0.6333333333333333],\"title\":{\"text\":\"\\u003cb\\u003e# images\\u003c\\u002fb\\u003e\",\"standoff\":5},\"tickformat\":\",\"},\"xaxis3\":{\"anchor\":\"y3\",\"domain\":[0.0,1.0],\"categoryorder\":\"array\",\"categoryarray\":[\"stomach\",\"small_bowel\",\"colon\",\"liver\",\"pancreas\",\"kidney\",\"spleen\",\"omentum\",\"lung\",\"skin\",\"peritoneum\",\"background\"],\"title\":{\"text\":\"\\u003cb\\u003elabel name\\u003c\\u002fb\\u003e\"}},\"yaxis3\":{\"anchor\":\"x3\",\"domain\":[0.0,0.26666666666666666],\"title\":{\"text\":\"\\u003cb\\u003e# images\\u003c\\u002fb\\u003e\",\"standoff\":5},\"tickformat\":\",\"},\"annotations\":[{\"showarrow\":false,\"text\":\"(599; 20)\",\"x\":\"background\",\"xanchor\":\"center\",\"xref\":\"x\",\"y\":599,\"yanchor\":\"bottom\",\"yref\":\"y\",\"font\":{\"size\":20}},{\"showarrow\":false,\"text\":\"(934; 39)\",\"x\":\"colon\",\"xanchor\":\"center\",\"xref\":\"x\",\"y\":934,\"yanchor\":\"bottom\",\"yref\":\"y\",\"font\":{\"size\":20}},{\"showarrow\":false,\"text\":\"(947; 31)\",\"x\":\"kidney\",\"xanchor\":\"center\",\"xref\":\"x\",\"y\":947,\"yanchor\":\"bottom\",\"yref\":\"y\",\"font\":{\"size\":20}},{\"showarrow\":false,\"text\":\"(949; 39)\",\"x\":\"liver\",\"xanchor\":\"center\",\"xref\":\"x\",\"y\":949,\"yanchor\":\"bottom\",\"yref\":\"y\",\"font\":{\"size\":20}},{\"showarrow\":false,\"text\":\"(370; 16)\",\"x\":\"lung\",\"xanchor\":\"center\",\"xref\":\"x\",\"y\":370,\"yanchor\":\"bottom\",\"yref\":\"y\",\"font\":{\"size\":20}},{\"showarrow\":false,\"text\":\"(539; 32)\",\"x\":\"omentum\",\"xanchor\":\"center\",\"xref\":\"x\",\"y\":539,\"yanchor\":\"bottom\",\"yref\":\"y\",\"font\":{\"size\":20}},{\"showarrow\":false,\"text\":\"(402; 24)\",\"x\":\"pancreas\",\"xanchor\":\"center\",\"xref\":\"x\",\"y\":402,\"yanchor\":\"bottom\",\"yref\":\"y\",\"font\":{\"size\":20}},{\"showarrow\":false,\"text\":\"(748; 34)\",\"x\":\"peritoneum\",\"xanchor\":\"center\",\"xref\":\"x\",\"y\":748,\"yanchor\":\"bottom\",\"yref\":\"y\",\"font\":{\"size\":20}},{\"showarrow\":false,\"text\":\"(619; 27)\",\"x\":\"skin\",\"xanchor\":\"center\",\"xref\":\"x\",\"y\":619,\"yanchor\":\"bottom\",\"yref\":\"y\",\"font\":{\"size\":20}},{\"showarrow\":false,\"text\":\"(994; 39)\",\"x\":\"small_bowel\",\"xanchor\":\"center\",\"xref\":\"x\",\"y\":994,\"yanchor\":\"bottom\",\"yref\":\"y\",\"font\":{\"size\":20}},{\"showarrow\":false,\"text\":\"(737; 31)\",\"x\":\"spleen\",\"xanchor\":\"center\",\"xref\":\"x\",\"y\":737,\"yanchor\":\"bottom\",\"yref\":\"y\",\"font\":{\"size\":20}},{\"showarrow\":false,\"text\":\"(754; 42)\",\"x\":\"stomach\",\"xanchor\":\"center\",\"xref\":\"x\",\"y\":754,\"yanchor\":\"bottom\",\"yref\":\"y\",\"font\":{\"size\":20}},{\"showarrow\":false,\"text\":\"(597; 13)\",\"x\":\"background\",\"xanchor\":\"center\",\"xref\":\"x2\",\"y\":597,\"yanchor\":\"bottom\",\"yref\":\"y2\",\"font\":{\"size\":20}},{\"showarrow\":false,\"text\":\"(2,808; 30)\",\"x\":\"colon\",\"xanchor\":\"center\",\"xref\":\"x2\",\"y\":2808,\"yanchor\":\"bottom\",\"yref\":\"y2\",\"font\":{\"size\":20}},{\"showarrow\":false,\"text\":\"(3,226; 30)\",\"x\":\"kidney\",\"xanchor\":\"center\",\"xref\":\"x2\",\"y\":3226,\"yanchor\":\"bottom\",\"yref\":\"y2\",\"font\":{\"size\":20}},{\"showarrow\":false,\"text\":\"(2,913; 30)\",\"x\":\"liver\",\"xanchor\":\"center\",\"xref\":\"x2\",\"y\":2913,\"yanchor\":\"bottom\",\"yref\":\"y2\",\"font\":{\"size\":20}},{\"showarrow\":false,\"text\":\"(467; 13)\",\"x\":\"lung\",\"xanchor\":\"center\",\"xref\":\"x2\",\"y\":467,\"yanchor\":\"bottom\",\"yref\":\"y2\",\"font\":{\"size\":20}},{\"showarrow\":false,\"text\":\"(1,730; 19)\",\"x\":\"omentum\",\"xanchor\":\"center\",\"xref\":\"x2\",\"y\":1730,\"yanchor\":\"bottom\",\"yref\":\"y2\",\"font\":{\"size\":20}},{\"showarrow\":false,\"text\":\"(1,617; 19)\",\"x\":\"pancreas\",\"xanchor\":\"center\",\"xref\":\"x2\",\"y\":1617,\"yanchor\":\"bottom\",\"yref\":\"y2\",\"font\":{\"size\":20}},{\"showarrow\":false,\"text\":\"(1,999; 19)\",\"x\":\"peritoneum\",\"xanchor\":\"center\",\"xref\":\"x2\",\"y\":1999,\"yanchor\":\"bottom\",\"yref\":\"y2\",\"font\":{\"size\":20}},{\"showarrow\":false,\"text\":\"(835; 15)\",\"x\":\"skin\",\"xanchor\":\"center\",\"xref\":\"x2\",\"y\":835,\"yanchor\":\"bottom\",\"yref\":\"y2\",\"font\":{\"size\":20}},{\"showarrow\":false,\"text\":\"(1,941; 19)\",\"x\":\"small_bowel\",\"xanchor\":\"center\",\"xref\":\"x2\",\"y\":1941,\"yanchor\":\"bottom\",\"yref\":\"y2\",\"font\":{\"size\":20}},{\"showarrow\":false,\"text\":\"(1,653; 26)\",\"x\":\"spleen\",\"xanchor\":\"center\",\"xref\":\"x2\",\"y\":1653,\"yanchor\":\"bottom\",\"yref\":\"y2\",\"font\":{\"size\":20}},{\"showarrow\":false,\"text\":\"(1,747; 19)\",\"x\":\"stomach\",\"xanchor\":\"center\",\"xref\":\"x2\",\"y\":1747,\"yanchor\":\"bottom\",\"yref\":\"y2\",\"font\":{\"size\":20}},{\"showarrow\":false,\"text\":\"(792; 213)\",\"x\":\"background\",\"xanchor\":\"center\",\"xref\":\"x3\",\"y\":792,\"yanchor\":\"bottom\",\"yref\":\"y3\",\"font\":{\"size\":20}},{\"showarrow\":false,\"text\":\"(379; 126)\",\"x\":\"colon\",\"xanchor\":\"center\",\"xref\":\"x3\",\"y\":379,\"yanchor\":\"bottom\",\"yref\":\"y3\",\"font\":{\"size\":20}},{\"showarrow\":false,\"text\":\"(162; 49)\",\"x\":\"kidney\",\"xanchor\":\"center\",\"xref\":\"x3\",\"y\":162,\"yanchor\":\"bottom\",\"yref\":\"y3\",\"font\":{\"size\":20}},{\"showarrow\":false,\"text\":\"(688; 145)\",\"x\":\"liver\",\"xanchor\":\"center\",\"xref\":\"x3\",\"y\":688,\"yanchor\":\"bottom\",\"yref\":\"y3\",\"font\":{\"size\":20}},{\"showarrow\":false,\"text\":\"(56; 10)\",\"x\":\"lung\",\"xanchor\":\"center\",\"xref\":\"x3\",\"y\":56,\"yanchor\":\"bottom\",\"yref\":\"y3\",\"font\":{\"size\":20}},{\"showarrow\":false,\"text\":\"(486; 146)\",\"x\":\"omentum\",\"xanchor\":\"center\",\"xref\":\"x3\",\"y\":486,\"yanchor\":\"bottom\",\"yref\":\"y3\",\"font\":{\"size\":20}},{\"showarrow\":false,\"text\":\"(109; 41)\",\"x\":\"pancreas\",\"xanchor\":\"center\",\"xref\":\"x3\",\"y\":109,\"yanchor\":\"bottom\",\"yref\":\"y3\",\"font\":{\"size\":20}},{\"showarrow\":false,\"text\":\"(160; 51)\",\"x\":\"peritoneum\",\"xanchor\":\"center\",\"xref\":\"x3\",\"y\":160,\"yanchor\":\"bottom\",\"yref\":\"y3\",\"font\":{\"size\":20}},{\"showarrow\":false,\"text\":\"(295; 96)\",\"x\":\"skin\",\"xanchor\":\"center\",\"xref\":\"x3\",\"y\":295,\"yanchor\":\"bottom\",\"yref\":\"y3\",\"font\":{\"size\":20}},{\"showarrow\":false,\"text\":\"(352; 136)\",\"x\":\"small_bowel\",\"xanchor\":\"center\",\"xref\":\"x3\",\"y\":352,\"yanchor\":\"bottom\",\"yref\":\"y3\",\"font\":{\"size\":20}},{\"showarrow\":false,\"text\":\"(550; 45)\",\"x\":\"spleen\",\"xanchor\":\"center\",\"xref\":\"x3\",\"y\":550,\"yanchor\":\"bottom\",\"yref\":\"y3\",\"font\":{\"size\":20}},{\"showarrow\":false,\"text\":\"(322; 122)\",\"x\":\"stomach\",\"xanchor\":\"center\",\"xref\":\"x3\",\"y\":322,\"yanchor\":\"bottom\",\"yref\":\"y3\",\"font\":{\"size\":20}}],\"barmode\":\"stack\",\"height\":1200,\"width\":1200,\"font\":{\"family\":\"Libertinus Sans\",\"size\":16},\"showlegend\":false},                        {\"responsive\": true}                    ).then(function(){\n",
       "                            \n",
       "var gd = document.getElementById('cd072cd8-be6f-4f62-ac4c-09c28206e7e3');\n",
       "var x = new MutationObserver(function (mutations, observer) {{\n",
       "        var display = window.getComputedStyle(gd).display;\n",
       "        if (!display || display === 'none') {{\n",
       "            console.log([gd, 'removed!']);\n",
       "            Plotly.purge(gd);\n",
       "            observer.disconnect();\n",
       "        }}\n",
       "}});\n",
       "\n",
       "// Listen for the removal of the full notebook cells\n",
       "var notebookContainer = gd.closest('#notebook-container');\n",
       "if (notebookContainer) {{\n",
       "    x.observe(notebookContainer, {childList: true});\n",
       "}}\n",
       "\n",
       "// Listen for the clearing of the current output cell\n",
       "var outputEl = gd.closest('.output');\n",
       "if (outputEl) {{\n",
       "    x.observe(outputEl, {childList: true});\n",
       "}}\n",
       "\n",
       "                        })                };            </script>        </div>"
      ]
     },
     "metadata": {},
     "output_type": "display_data"
    }
   ],
   "source": [
    "fig = make_subplots(rows=3, cols=1, shared_xaxes=True)\n",
    "\n",
    "# Bar plot\n",
    "for i, species_name in enumerate(df[\"species_name\"].unique()):\n",
    "    for state in [\"physiological\", \"unclear\", \"malperfused\", \"icg\"]:\n",
    "        df_state = df[(df[\"perfusion_state\"] == state) & (df[\"species_name\"] == species_name)]\n",
    "        for subject_name in df_state[\"subject_name\"].unique():\n",
    "            df_subject = df_state[df_state[\"subject_name\"] == subject_name]\n",
    "            df_subject = df_subject.groupby([\"label_name\"], as_index=False).agg(\n",
    "                n_images=pd.NamedAgg(column=\"image_name\", aggfunc=\"nunique\")\n",
    "            )\n",
    "\n",
    "            kwargs = {\n",
    "                \"marker_line_width\": 0.1,\n",
    "                \"marker_line_color\": \"black\" if species_name == \"pig\" else \"gray\",\n",
    "            }\n",
    "            if state == \"icg\":\n",
    "                kwargs[\"marker_color\"] = settings_species.species_colors[species_name]\n",
    "                kwargs[\"marker_line_width\"] = 1\n",
    "                kwargs[\"marker_line_color\"] = settings_species.icg_color\n",
    "            elif state == \"malperfused\":\n",
    "                kwargs[\"marker_color\"] = settings_species.species_colors_malperfused[species_name]\n",
    "            elif state == \"physiological\":\n",
    "                kwargs[\"marker_color\"] = settings_species.species_colors[species_name]\n",
    "            elif state == \"unclear\":\n",
    "                kwargs[\"marker_color\"] = settings_species.species_colors[species_name]\n",
    "            else:\n",
    "                raise ValueError(f\"Unknown state: {state}\")\n",
    "\n",
    "            fig.add_trace(\n",
    "                go.Bar(\n",
    "                    x=df_subject[\"label_name\"],\n",
    "                    y=df_subject[\"n_images\"],\n",
    "                    name=state,\n",
    "                    **kwargs,\n",
    "                ),\n",
    "                row=i + 1,\n",
    "                col=1,\n",
    "            )\n",
    "\n",
    "# Subject numbers\n",
    "for i, species_name in enumerate(df[\"species_name\"].unique()):\n",
    "    df_species = df[df.species_name == species_name]\n",
    "    df_species = df_species.groupby(\"label_name\", as_index=False).agg(\n",
    "        n_subjects=pd.NamedAgg(column=\"subject_name\", aggfunc=\"nunique\")\n",
    "    )\n",
    "    for _, row_data in df_species.iterrows():\n",
    "        n_images = df[(df.species_name == species_name) & (df.label_name == row_data[\"label_name\"])][\n",
    "            \"image_name\"\n",
    "        ].nunique()\n",
    "        fig.add_annotation(\n",
    "            x=row_data[\"label_name\"],\n",
    "            y=n_images,\n",
    "            text=f\"({n_images:,}; {row_data['n_subjects']:,})\",\n",
    "            xanchor=\"center\",\n",
    "            yanchor=\"bottom\",\n",
    "            xref=\"x\",\n",
    "            yref=\"y\",\n",
    "            showarrow=False,\n",
    "            row=i + 1,\n",
    "            col=1,\n",
    "        )\n",
    "\n",
    "labels = sort_labels(df.label_name.unique())\n",
    "labels_plotly = [settings_rat.labels_paper_renaming.get(l, l) for l in labels]\n",
    "fig.update_xaxes(categoryorder=\"array\", categoryarray=labels)\n",
    "\n",
    "fig.update_layout(barmode=\"stack\")\n",
    "fig.update_xaxes(title=\"<b>label name</b>\", row=3)\n",
    "fig.update_yaxes(title=\"<b># images</b>\", title_standoff=5)\n",
    "fig.update_layout(height=1200, width=1200, template=\"plotly_white\")\n",
    "fig.update_layout(font_family=\"Libertinus Sans\", font_size=16)\n",
    "fig.update_layout(showlegend=False)\n",
    "fig.update_annotations(font=dict(size=20))\n",
    "fig.update_yaxes(tickformat=\",\")\n",
    "fig.write_image(settings_species.paper_dir / \"data_statistics.pdf\")\n",
    "fig.show()"
   ]
  }
 ],
 "metadata": {
  "kernelspec": {
   "display_name": "htc",
   "language": "python",
   "name": "python3"
  },
  "language_info": {
   "codemirror_mode": {
    "name": "ipython",
    "version": 3
   },
   "file_extension": ".py",
   "mimetype": "text/x-python",
   "name": "python",
   "nbconvert_exporter": "python",
   "pygments_lexer": "ipython3",
   "version": "3.13.3"
  }
 },
 "nbformat": 4,
 "nbformat_minor": 2
}
