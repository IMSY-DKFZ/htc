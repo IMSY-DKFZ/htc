{
 "cells": [
  {
   "cell_type": "code",
   "execution_count": 1,
   "metadata": {},
   "outputs": [],
   "source": [
    "%load_ext autoreload\n",
    "%autoreload 2\n",
    "\n",
    "import matplotlib.image as mpl_img\n",
    "import numpy as np\n",
    "import plotly.graph_objects as go\n",
    "import plotly.io as pio\n",
    "\n",
    "from htc.cpp import map_label_image\n",
    "from htc.models.image.DatasetImage import DatasetImage\n",
    "from htc.settings_seg import settings_seg\n",
    "from htc.tivita.DataPath import DataPath\n",
    "from htc.utils.colors import lighten_color\n",
    "from htc.utils.Config import Config\n",
    "from htc.utils.helper_functions import median_table\n",
    "from htc.utils.LabelMapping import LabelMapping\n",
    "from htc_projects.species.settings_species import settings_species\n",
    "\n",
    "pio.kaleido.scope.mathjax = None"
   ]
  },
  {
   "cell_type": "code",
   "execution_count": 2,
   "metadata": {},
   "outputs": [],
   "source": [
    "label_mapping = settings_species.label_mapping\n",
    "label_mapping.label_colors = settings_seg.label_colors_paper\n",
    "config = Config({\"label_mapping\": label_mapping, \"input/n_channels\": 3})\n",
    "path_physiological = DataPath.from_image_name(\"SPACE_000102#2020_12_17_19_00_25@semantic#primary\")\n",
    "path_malperfused = DataPath.from_image_name(\"SPACE_000106#2021_01_09_16_30_15@semantic#primary\")\n",
    "sample_physiological = DatasetImage([path_physiological], train=False, config=config)[0]\n",
    "sample_malperfused = DatasetImage([path_malperfused], train=False, config=config)[0]\n",
    "\n",
    "mpl_img.imsave(\n",
    "    settings_species.paper_dir / \"method_concept_example_physiological_rgb.png\",\n",
    "    sample_physiological[\"features\"].numpy(),\n",
    ")\n",
    "mpl_img.imsave(\n",
    "    settings_species.paper_dir / \"method_concept_example_malperfused_rgb.png\", sample_malperfused[\"features\"].numpy()\n",
    ")\n",
    "\n",
    "mpl_img.imsave(\n",
    "    settings_species.paper_dir / \"method_concept_example_physiological_seg.png\",\n",
    "    map_label_image(sample_physiological[\"labels\"].numpy(), label_mapping),\n",
    ")\n",
    "mpl_img.imsave(\n",
    "    settings_species.paper_dir / \"method_concept_example_malperfused_seg.png\",\n",
    "    map_label_image(sample_malperfused[\"labels\"].numpy(), label_mapping),\n",
    ")"
   ]
  },
  {
   "cell_type": "code",
   "execution_count": 3,
   "metadata": {},
   "outputs": [],
   "source": [
    "label_mapping = LabelMapping(\n",
    "    {\"kidney\": 0},\n",
    "    label_colors={\"kidney\": settings_seg.label_colors_paper[\"kidney\"], \"unknown\": \"#00000000\"},\n",
    ")\n",
    "config = Config({\"label_mapping\": label_mapping, \"input/n_channels\": 3})\n",
    "sample_physiological = DatasetImage([path_physiological], train=False, config=config)[0]\n",
    "mpl_img.imsave(\n",
    "    settings_species.paper_dir / \"method_concept_example_physiological_seg_kidney-only.png\",\n",
    "    map_label_image(sample_physiological[\"labels\"].numpy(), label_mapping),\n",
    ")\n",
    "\n",
    "label_mapping.label_colors[\"kidney\"] = lighten_color(settings_seg.label_colors_paper[\"kidney\"], 0.65)\n",
    "config = Config({\"label_mapping\": label_mapping, \"input/n_channels\": 3})\n",
    "sample_malperfused = DatasetImage([path_malperfused], train=False, config=config)[0]\n",
    "mpl_img.imsave(\n",
    "    settings_species.paper_dir / \"method_concept_example_malperfused_seg_kidney-only.png\",\n",
    "    map_label_image(sample_malperfused[\"labels\"].numpy(), label_mapping),\n",
    ")"
   ]
  },
  {
   "cell_type": "code",
   "execution_count": 4,
   "metadata": {},
   "outputs": [
    {
     "data": {
      "text/html": [
       "        <script type=\"text/javascript\">\n",
       "        window.PlotlyConfig = {MathJaxConfig: 'local'};\n",
       "        if (window.MathJax && window.MathJax.Hub && window.MathJax.Hub.Config) {window.MathJax.Hub.Config({SVG: {font: \"STIX-Web\"}});}\n",
       "        </script>\n",
       "        <script type=\"module\">import \"https://cdn.plot.ly/plotly-3.0.1.min\"</script>\n",
       "        "
      ]
     },
     "metadata": {},
     "output_type": "display_data"
    },
    {
     "data": {
      "application/vnd.plotly.v1+json": {
       "config": {
        "plotlyServerURL": "https://plot.ly"
       },
       "data": [
        {
         "line": {
          "color": "#dbdb8d"
         },
         "name": "physiological",
         "type": "scatter",
         "x": {
          "bdata": "AAAAAABof0AAAAAAALh/QAAAAAAABIBAAAAAAAAsgEAAAAAAAFSAQAAAAAAAfIBAAAAAAACkgEAAAAAAAMyAQAAAAAAA9IBAAAAAAAAcgUAAAAAAAESBQAAAAAAAbIFAAAAAAACUgUAAAAAAALyBQAAAAAAA5IFAAAAAAAAMgkAAAAAAADSCQAAAAAAAXIJAAAAAAACEgkAAAAAAAKyCQAAAAAAA1IJAAAAAAAD8gkAAAAAAACSDQAAAAAAATINAAAAAAAB0g0AAAAAAAJyDQAAAAAAAxINAAAAAAADsg0AAAAAAABSEQAAAAAAAPIRAAAAAAABkhEAAAAAAAIyEQAAAAAAAtIRAAAAAAADchEAAAAAAAASFQAAAAAAALIVAAAAAAABUhUAAAAAAAHyFQAAAAAAApIVAAAAAAADMhUAAAAAAAPSFQAAAAAAAHIZAAAAAAABEhkAAAAAAAGyGQAAAAAAAlIZAAAAAAAC8hkAAAAAAAOSGQAAAAAAADIdAAAAAAAA0h0AAAAAAAFyHQAAAAAAAhIdAAAAAAACsh0AAAAAAANSHQAAAAAAA/IdAAAAAAAAkiEAAAAAAAEyIQAAAAAAAdIhAAAAAAACciEAAAAAAAMSIQAAAAAAA7IhAAAAAAAAUiUAAAAAAADyJQAAAAAAAZIlAAAAAAACMiUAAAAAAALSJQAAAAAAA3IlAAAAAAAAEikAAAAAAACyKQAAAAAAAVIpAAAAAAAB8ikAAAAAAAKSKQAAAAAAAzIpAAAAAAAD0ikAAAAAAAByLQAAAAAAARItAAAAAAABsi0AAAAAAAJSLQAAAAAAAvItAAAAAAADki0AAAAAAAAyMQAAAAAAANIxAAAAAAABcjEAAAAAAAISMQAAAAAAArIxAAAAAAADUjEAAAAAAAPyMQAAAAAAAJI1AAAAAAABMjUAAAAAAAHSNQAAAAAAAnI1AAAAAAADEjUAAAAAAAOyNQAAAAAAAFI5AAAAAAAA8jkAAAAAAAGSOQAAAAAAAjI5AAAAAAAC0jkAAAAAAANyOQAAAAAAABI9AAAAAAAAsj0A=",
          "dtype": "f8"
         },
         "y": {
          "bdata": "yhCAO3gieTsImmw7LnVcO5oqSDv3Nzc7DsInO6asHjtgZB07michO4XbIzvwBio7BeEnO1ECHzvg5hA7MdYJO+xgEjtCbzQ7e4B1O0Z/pjumttE7aU73O30fDDz0OBo8lq8lPEaJLjx2lzU8vMM7PKHjQDwsV0U8rdxIPKAaTDzuHk88VUVSPKB+VTxEQFk8pHNdPOJxYTzuh2U8fQppPLi6azxCnG083pduPEw4bzwWw248yvdtPEK/azwKA2k8nmxmPG7EYzyhWGE8WttePNzgXDyqs1s8fu5aPJYdWjyiKFk8he1XPIJKVjxtnlQ8p9dSPHzFUDxauE48mqhMPMZDSjzgY0c8DKVEPHRpQjyKe0A8jv4+PJ1RPTzs/zs8CLw6PACaOTyIyDg8LSo4PBftNjzGITY82Vk1PMiONDyKDTQ80MQzPMXTMzyi7zM8+JgzPDXJMjxqZTE8WnUvPFTvLDzSCyo8FI0mPCAmIjyDZhw8sBwYPMqZEzw16A88tlEKPKn1ATz8tfI7wfHmOw==",
          "dtype": "f4"
         }
        },
        {
         "line": {
          "color": "#dbdb8d",
          "dash": "dot"
         },
         "name": "malperfused",
         "type": "scatter",
         "x": {
          "bdata": "AAAAAABof0AAAAAAALh/QAAAAAAABIBAAAAAAAAsgEAAAAAAAFSAQAAAAAAAfIBAAAAAAACkgEAAAAAAAMyAQAAAAAAA9IBAAAAAAAAcgUAAAAAAAESBQAAAAAAAbIFAAAAAAACUgUAAAAAAALyBQAAAAAAA5IFAAAAAAAAMgkAAAAAAADSCQAAAAAAAXIJAAAAAAACEgkAAAAAAAKyCQAAAAAAA1IJAAAAAAAD8gkAAAAAAACSDQAAAAAAATINAAAAAAAB0g0AAAAAAAJyDQAAAAAAAxINAAAAAAADsg0AAAAAAABSEQAAAAAAAPIRAAAAAAABkhEAAAAAAAIyEQAAAAAAAtIRAAAAAAADchEAAAAAAAASFQAAAAAAALIVAAAAAAABUhUAAAAAAAHyFQAAAAAAApIVAAAAAAADMhUAAAAAAAPSFQAAAAAAAHIZAAAAAAABEhkAAAAAAAGyGQAAAAAAAlIZAAAAAAAC8hkAAAAAAAOSGQAAAAAAADIdAAAAAAAA0h0AAAAAAAFyHQAAAAAAAhIdAAAAAAACsh0AAAAAAANSHQAAAAAAA/IdAAAAAAAAkiEAAAAAAAEyIQAAAAAAAdIhAAAAAAACciEAAAAAAAMSIQAAAAAAA7IhAAAAAAAAUiUAAAAAAADyJQAAAAAAAZIlAAAAAAACMiUAAAAAAALSJQAAAAAAA3IlAAAAAAAAEikAAAAAAACyKQAAAAAAAVIpAAAAAAAB8ikAAAAAAAKSKQAAAAAAAzIpAAAAAAAD0ikAAAAAAAByLQAAAAAAARItAAAAAAABsi0AAAAAAAJSLQAAAAAAAvItAAAAAAADki0AAAAAAAAyMQAAAAAAANIxAAAAAAABcjEAAAAAAAISMQAAAAAAArIxAAAAAAADUjEAAAAAAAPyMQAAAAAAAJI1AAAAAAABMjUAAAAAAAHSNQAAAAAAAnI1AAAAAAADEjUAAAAAAAOyNQAAAAAAAFI5AAAAAAAA8jkAAAAAAAGSOQAAAAAAAjI5AAAAAAAC0jkAAAAAAANyOQAAAAAAABI9AAAAAAAAsj0A=",
          "dtype": "f8"
         },
         "y": {
          "bdata": "nfQbOzyoETucZQY7CzX3OhdR2TqzAtA6One5OhQosDo5Qac6ndGlOuqWpjqmlag6hrKkOnZAoDppIJY6jBiQOq4ZlTo9G6s6cCzVOscbBTslVyc7C/FRO5ykgDtTyJY7aYCqO1z0ujsURsg7yu3TOw2M3Tv8I+U7dsnrOwUd8jv+g/k7jS4BPIOrBzxMQw88yFIYPHsBIjwv1Ss85vg0POMJPTzoG0Q8VO5KPOioUTyeiFc84xNcPEpcXTzUIFs8dmNVPNtjTTywMkU8fm1APATBQTxCrkk8pt1VPPuBYjwt/2w8QVp0PBNveTxkzHw8n/d+PKHOfzxQtH887lh/PGu8fTxpg3s8xih5PMAYdzzonXU8TJF0PPQeczysxXE83ZZwPGTWbjwPnW08R7xsPMQYazz+gWk8wZZoPEWqZzyw6WY8rNNmPOuvZzz2jGg8dqZpPHcMajzylWo8HtdpPI8+aTy382c8xa5mPHngYzwIkF08FOFYPMqUUjydgk88QJdFPIU1NjxO9SU8tVsWPA==",
          "dtype": "f4"
         }
        }
       ],
       "layout": {
        "font": {
         "family": "Libertinus Sans",
         "size": 16
        },
        "height": 300,
        "legend": {
         "orientation": "h",
         "x": 0.5,
         "xanchor": "center",
         "y": 1.17,
         "yanchor": "top"
        },
        "margin": {
         "b": 0,
         "l": 0,
         "r": 0,
         "t": 10
        },
        "template": {
         "data": {
          "bar": [
           {
            "error_x": {
             "color": "#2a3f5f"
            },
            "error_y": {
             "color": "#2a3f5f"
            },
            "marker": {
             "line": {
              "color": "white",
              "width": 0.5
             },
             "pattern": {
              "fillmode": "overlay",
              "size": 10,
              "solidity": 0.2
             }
            },
            "type": "bar"
           }
          ],
          "barpolar": [
           {
            "marker": {
             "line": {
              "color": "white",
              "width": 0.5
             },
             "pattern": {
              "fillmode": "overlay",
              "size": 10,
              "solidity": 0.2
             }
            },
            "type": "barpolar"
           }
          ],
          "carpet": [
           {
            "aaxis": {
             "endlinecolor": "#2a3f5f",
             "gridcolor": "#C8D4E3",
             "linecolor": "#C8D4E3",
             "minorgridcolor": "#C8D4E3",
             "startlinecolor": "#2a3f5f"
            },
            "baxis": {
             "endlinecolor": "#2a3f5f",
             "gridcolor": "#C8D4E3",
             "linecolor": "#C8D4E3",
             "minorgridcolor": "#C8D4E3",
             "startlinecolor": "#2a3f5f"
            },
            "type": "carpet"
           }
          ],
          "choropleth": [
           {
            "colorbar": {
             "outlinewidth": 0,
             "ticks": ""
            },
            "type": "choropleth"
           }
          ],
          "contour": [
           {
            "colorbar": {
             "outlinewidth": 0,
             "ticks": ""
            },
            "colorscale": [
             [
              0,
              "#0d0887"
             ],
             [
              0.1111111111111111,
              "#46039f"
             ],
             [
              0.2222222222222222,
              "#7201a8"
             ],
             [
              0.3333333333333333,
              "#9c179e"
             ],
             [
              0.4444444444444444,
              "#bd3786"
             ],
             [
              0.5555555555555556,
              "#d8576b"
             ],
             [
              0.6666666666666666,
              "#ed7953"
             ],
             [
              0.7777777777777778,
              "#fb9f3a"
             ],
             [
              0.8888888888888888,
              "#fdca26"
             ],
             [
              1,
              "#f0f921"
             ]
            ],
            "type": "contour"
           }
          ],
          "contourcarpet": [
           {
            "colorbar": {
             "outlinewidth": 0,
             "ticks": ""
            },
            "type": "contourcarpet"
           }
          ],
          "heatmap": [
           {
            "colorbar": {
             "outlinewidth": 0,
             "ticks": ""
            },
            "colorscale": [
             [
              0,
              "#0d0887"
             ],
             [
              0.1111111111111111,
              "#46039f"
             ],
             [
              0.2222222222222222,
              "#7201a8"
             ],
             [
              0.3333333333333333,
              "#9c179e"
             ],
             [
              0.4444444444444444,
              "#bd3786"
             ],
             [
              0.5555555555555556,
              "#d8576b"
             ],
             [
              0.6666666666666666,
              "#ed7953"
             ],
             [
              0.7777777777777778,
              "#fb9f3a"
             ],
             [
              0.8888888888888888,
              "#fdca26"
             ],
             [
              1,
              "#f0f921"
             ]
            ],
            "type": "heatmap"
           }
          ],
          "histogram": [
           {
            "marker": {
             "pattern": {
              "fillmode": "overlay",
              "size": 10,
              "solidity": 0.2
             }
            },
            "type": "histogram"
           }
          ],
          "histogram2d": [
           {
            "colorbar": {
             "outlinewidth": 0,
             "ticks": ""
            },
            "colorscale": [
             [
              0,
              "#0d0887"
             ],
             [
              0.1111111111111111,
              "#46039f"
             ],
             [
              0.2222222222222222,
              "#7201a8"
             ],
             [
              0.3333333333333333,
              "#9c179e"
             ],
             [
              0.4444444444444444,
              "#bd3786"
             ],
             [
              0.5555555555555556,
              "#d8576b"
             ],
             [
              0.6666666666666666,
              "#ed7953"
             ],
             [
              0.7777777777777778,
              "#fb9f3a"
             ],
             [
              0.8888888888888888,
              "#fdca26"
             ],
             [
              1,
              "#f0f921"
             ]
            ],
            "type": "histogram2d"
           }
          ],
          "histogram2dcontour": [
           {
            "colorbar": {
             "outlinewidth": 0,
             "ticks": ""
            },
            "colorscale": [
             [
              0,
              "#0d0887"
             ],
             [
              0.1111111111111111,
              "#46039f"
             ],
             [
              0.2222222222222222,
              "#7201a8"
             ],
             [
              0.3333333333333333,
              "#9c179e"
             ],
             [
              0.4444444444444444,
              "#bd3786"
             ],
             [
              0.5555555555555556,
              "#d8576b"
             ],
             [
              0.6666666666666666,
              "#ed7953"
             ],
             [
              0.7777777777777778,
              "#fb9f3a"
             ],
             [
              0.8888888888888888,
              "#fdca26"
             ],
             [
              1,
              "#f0f921"
             ]
            ],
            "type": "histogram2dcontour"
           }
          ],
          "mesh3d": [
           {
            "colorbar": {
             "outlinewidth": 0,
             "ticks": ""
            },
            "type": "mesh3d"
           }
          ],
          "parcoords": [
           {
            "line": {
             "colorbar": {
              "outlinewidth": 0,
              "ticks": ""
             }
            },
            "type": "parcoords"
           }
          ],
          "pie": [
           {
            "automargin": true,
            "type": "pie"
           }
          ],
          "scatter": [
           {
            "fillpattern": {
             "fillmode": "overlay",
             "size": 10,
             "solidity": 0.2
            },
            "type": "scatter"
           }
          ],
          "scatter3d": [
           {
            "line": {
             "colorbar": {
              "outlinewidth": 0,
              "ticks": ""
             }
            },
            "marker": {
             "colorbar": {
              "outlinewidth": 0,
              "ticks": ""
             }
            },
            "type": "scatter3d"
           }
          ],
          "scattercarpet": [
           {
            "marker": {
             "colorbar": {
              "outlinewidth": 0,
              "ticks": ""
             }
            },
            "type": "scattercarpet"
           }
          ],
          "scattergeo": [
           {
            "marker": {
             "colorbar": {
              "outlinewidth": 0,
              "ticks": ""
             }
            },
            "type": "scattergeo"
           }
          ],
          "scattergl": [
           {
            "marker": {
             "colorbar": {
              "outlinewidth": 0,
              "ticks": ""
             }
            },
            "type": "scattergl"
           }
          ],
          "scattermap": [
           {
            "marker": {
             "colorbar": {
              "outlinewidth": 0,
              "ticks": ""
             }
            },
            "type": "scattermap"
           }
          ],
          "scattermapbox": [
           {
            "marker": {
             "colorbar": {
              "outlinewidth": 0,
              "ticks": ""
             }
            },
            "type": "scattermapbox"
           }
          ],
          "scatterpolar": [
           {
            "marker": {
             "colorbar": {
              "outlinewidth": 0,
              "ticks": ""
             }
            },
            "type": "scatterpolar"
           }
          ],
          "scatterpolargl": [
           {
            "marker": {
             "colorbar": {
              "outlinewidth": 0,
              "ticks": ""
             }
            },
            "type": "scatterpolargl"
           }
          ],
          "scatterternary": [
           {
            "marker": {
             "colorbar": {
              "outlinewidth": 0,
              "ticks": ""
             }
            },
            "type": "scatterternary"
           }
          ],
          "surface": [
           {
            "colorbar": {
             "outlinewidth": 0,
             "ticks": ""
            },
            "colorscale": [
             [
              0,
              "#0d0887"
             ],
             [
              0.1111111111111111,
              "#46039f"
             ],
             [
              0.2222222222222222,
              "#7201a8"
             ],
             [
              0.3333333333333333,
              "#9c179e"
             ],
             [
              0.4444444444444444,
              "#bd3786"
             ],
             [
              0.5555555555555556,
              "#d8576b"
             ],
             [
              0.6666666666666666,
              "#ed7953"
             ],
             [
              0.7777777777777778,
              "#fb9f3a"
             ],
             [
              0.8888888888888888,
              "#fdca26"
             ],
             [
              1,
              "#f0f921"
             ]
            ],
            "type": "surface"
           }
          ],
          "table": [
           {
            "cells": {
             "fill": {
              "color": "#EBF0F8"
             },
             "line": {
              "color": "white"
             }
            },
            "header": {
             "fill": {
              "color": "#C8D4E3"
             },
             "line": {
              "color": "white"
             }
            },
            "type": "table"
           }
          ]
         },
         "layout": {
          "annotationdefaults": {
           "arrowcolor": "#2a3f5f",
           "arrowhead": 0,
           "arrowwidth": 1
          },
          "autotypenumbers": "strict",
          "coloraxis": {
           "colorbar": {
            "outlinewidth": 0,
            "ticks": ""
           }
          },
          "colorscale": {
           "diverging": [
            [
             0,
             "#8e0152"
            ],
            [
             0.1,
             "#c51b7d"
            ],
            [
             0.2,
             "#de77ae"
            ],
            [
             0.3,
             "#f1b6da"
            ],
            [
             0.4,
             "#fde0ef"
            ],
            [
             0.5,
             "#f7f7f7"
            ],
            [
             0.6,
             "#e6f5d0"
            ],
            [
             0.7,
             "#b8e186"
            ],
            [
             0.8,
             "#7fbc41"
            ],
            [
             0.9,
             "#4d9221"
            ],
            [
             1,
             "#276419"
            ]
           ],
           "sequential": [
            [
             0,
             "#0d0887"
            ],
            [
             0.1111111111111111,
             "#46039f"
            ],
            [
             0.2222222222222222,
             "#7201a8"
            ],
            [
             0.3333333333333333,
             "#9c179e"
            ],
            [
             0.4444444444444444,
             "#bd3786"
            ],
            [
             0.5555555555555556,
             "#d8576b"
            ],
            [
             0.6666666666666666,
             "#ed7953"
            ],
            [
             0.7777777777777778,
             "#fb9f3a"
            ],
            [
             0.8888888888888888,
             "#fdca26"
            ],
            [
             1,
             "#f0f921"
            ]
           ],
           "sequentialminus": [
            [
             0,
             "#0d0887"
            ],
            [
             0.1111111111111111,
             "#46039f"
            ],
            [
             0.2222222222222222,
             "#7201a8"
            ],
            [
             0.3333333333333333,
             "#9c179e"
            ],
            [
             0.4444444444444444,
             "#bd3786"
            ],
            [
             0.5555555555555556,
             "#d8576b"
            ],
            [
             0.6666666666666666,
             "#ed7953"
            ],
            [
             0.7777777777777778,
             "#fb9f3a"
            ],
            [
             0.8888888888888888,
             "#fdca26"
            ],
            [
             1,
             "#f0f921"
            ]
           ]
          },
          "colorway": [
           "#636efa",
           "#EF553B",
           "#00cc96",
           "#ab63fa",
           "#FFA15A",
           "#19d3f3",
           "#FF6692",
           "#B6E880",
           "#FF97FF",
           "#FECB52"
          ],
          "font": {
           "color": "#2a3f5f"
          },
          "geo": {
           "bgcolor": "white",
           "lakecolor": "white",
           "landcolor": "white",
           "showlakes": true,
           "showland": true,
           "subunitcolor": "#C8D4E3"
          },
          "hoverlabel": {
           "align": "left"
          },
          "hovermode": "closest",
          "mapbox": {
           "style": "light"
          },
          "paper_bgcolor": "white",
          "plot_bgcolor": "white",
          "polar": {
           "angularaxis": {
            "gridcolor": "#EBF0F8",
            "linecolor": "#EBF0F8",
            "ticks": ""
           },
           "bgcolor": "white",
           "radialaxis": {
            "gridcolor": "#EBF0F8",
            "linecolor": "#EBF0F8",
            "ticks": ""
           }
          },
          "scene": {
           "xaxis": {
            "backgroundcolor": "white",
            "gridcolor": "#DFE8F3",
            "gridwidth": 2,
            "linecolor": "#EBF0F8",
            "showbackground": true,
            "ticks": "",
            "zerolinecolor": "#EBF0F8"
           },
           "yaxis": {
            "backgroundcolor": "white",
            "gridcolor": "#DFE8F3",
            "gridwidth": 2,
            "linecolor": "#EBF0F8",
            "showbackground": true,
            "ticks": "",
            "zerolinecolor": "#EBF0F8"
           },
           "zaxis": {
            "backgroundcolor": "white",
            "gridcolor": "#DFE8F3",
            "gridwidth": 2,
            "linecolor": "#EBF0F8",
            "showbackground": true,
            "ticks": "",
            "zerolinecolor": "#EBF0F8"
           }
          },
          "shapedefaults": {
           "line": {
            "color": "#2a3f5f"
           }
          },
          "ternary": {
           "aaxis": {
            "gridcolor": "#DFE8F3",
            "linecolor": "#A2B1C6",
            "ticks": ""
           },
           "baxis": {
            "gridcolor": "#DFE8F3",
            "linecolor": "#A2B1C6",
            "ticks": ""
           },
           "bgcolor": "white",
           "caxis": {
            "gridcolor": "#DFE8F3",
            "linecolor": "#A2B1C6",
            "ticks": ""
           }
          },
          "title": {
           "x": 0.05
          },
          "xaxis": {
           "automargin": true,
           "gridcolor": "#EBF0F8",
           "linecolor": "#EBF0F8",
           "ticks": "",
           "title": {
            "standoff": 15
           },
           "zerolinecolor": "#EBF0F8",
           "zerolinewidth": 2
          },
          "yaxis": {
           "automargin": true,
           "gridcolor": "#EBF0F8",
           "linecolor": "#EBF0F8",
           "ticks": "",
           "title": {
            "standoff": 15
           },
           "zerolinecolor": "#EBF0F8",
           "zerolinewidth": 2
          }
         }
        },
        "width": 500,
        "xaxis": {
         "title": {
          "text": "<b>wavelength [nm]</b>"
         }
        },
        "yaxis": {
         "title": {
          "text": "<b>L1 normalized<br>reflectance [a.u.]</b>"
         }
        }
       }
      },
      "text/html": [
       "<div>            <script src=\"https://cdnjs.cloudflare.com/ajax/libs/mathjax/2.7.5/MathJax.js?config=TeX-AMS-MML_SVG\"></script><script type=\"text/javascript\">if (window.MathJax && window.MathJax.Hub && window.MathJax.Hub.Config) {window.MathJax.Hub.Config({SVG: {font: \"STIX-Web\"}});}</script>                <script type=\"text/javascript\">window.PlotlyConfig = {MathJaxConfig: 'local'};</script>\n",
       "        <script charset=\"utf-8\" src=\"https://cdn.plot.ly/plotly-3.0.1.min.js\"></script>                <div id=\"cd072cd8-be6f-4f62-ac4c-09c28206e7e3\" class=\"plotly-graph-div\" style=\"height:300px; width:500px;\"></div>            <script type=\"text/javascript\">                window.PLOTLYENV=window.PLOTLYENV || {};                                if (document.getElementById(\"cd072cd8-be6f-4f62-ac4c-09c28206e7e3\")) {                    Plotly.newPlot(                        \"cd072cd8-be6f-4f62-ac4c-09c28206e7e3\",                        [{\"line\":{\"color\":\"#dbdb8d\"},\"name\":\"physiological\",\"x\":{\"dtype\":\"f8\",\"bdata\":\"AAAAAABof0AAAAAAALh\\u002fQAAAAAAABIBAAAAAAAAsgEAAAAAAAFSAQAAAAAAAfIBAAAAAAACkgEAAAAAAAMyAQAAAAAAA9IBAAAAAAAAcgUAAAAAAAESBQAAAAAAAbIFAAAAAAACUgUAAAAAAALyBQAAAAAAA5IFAAAAAAAAMgkAAAAAAADSCQAAAAAAAXIJAAAAAAACEgkAAAAAAAKyCQAAAAAAA1IJAAAAAAAD8gkAAAAAAACSDQAAAAAAATINAAAAAAAB0g0AAAAAAAJyDQAAAAAAAxINAAAAAAADsg0AAAAAAABSEQAAAAAAAPIRAAAAAAABkhEAAAAAAAIyEQAAAAAAAtIRAAAAAAADchEAAAAAAAASFQAAAAAAALIVAAAAAAABUhUAAAAAAAHyFQAAAAAAApIVAAAAAAADMhUAAAAAAAPSFQAAAAAAAHIZAAAAAAABEhkAAAAAAAGyGQAAAAAAAlIZAAAAAAAC8hkAAAAAAAOSGQAAAAAAADIdAAAAAAAA0h0AAAAAAAFyHQAAAAAAAhIdAAAAAAACsh0AAAAAAANSHQAAAAAAA\\u002fIdAAAAAAAAkiEAAAAAAAEyIQAAAAAAAdIhAAAAAAACciEAAAAAAAMSIQAAAAAAA7IhAAAAAAAAUiUAAAAAAADyJQAAAAAAAZIlAAAAAAACMiUAAAAAAALSJQAAAAAAA3IlAAAAAAAAEikAAAAAAACyKQAAAAAAAVIpAAAAAAAB8ikAAAAAAAKSKQAAAAAAAzIpAAAAAAAD0ikAAAAAAAByLQAAAAAAARItAAAAAAABsi0AAAAAAAJSLQAAAAAAAvItAAAAAAADki0AAAAAAAAyMQAAAAAAANIxAAAAAAABcjEAAAAAAAISMQAAAAAAArIxAAAAAAADUjEAAAAAAAPyMQAAAAAAAJI1AAAAAAABMjUAAAAAAAHSNQAAAAAAAnI1AAAAAAADEjUAAAAAAAOyNQAAAAAAAFI5AAAAAAAA8jkAAAAAAAGSOQAAAAAAAjI5AAAAAAAC0jkAAAAAAANyOQAAAAAAABI9AAAAAAAAsj0A=\"},\"y\":{\"dtype\":\"f4\",\"bdata\":\"yhCAO3gieTsImmw7LnVcO5oqSDv3Nzc7DsInO6asHjtgZB07michO4XbIzvwBio7BeEnO1ECHzvg5hA7MdYJO+xgEjtCbzQ7e4B1O0Z\\u002fpjumttE7aU73O30fDDz0OBo8lq8lPEaJLjx2lzU8vMM7PKHjQDwsV0U8rdxIPKAaTDzuHk88VUVSPKB+VTxEQFk8pHNdPOJxYTzuh2U8fQppPLi6azxCnG083pduPEw4bzwWw248yvdtPEK\\u002fazwKA2k8nmxmPG7EYzyhWGE8WttePNzgXDyqs1s8fu5aPJYdWjyiKFk8he1XPIJKVjxtnlQ8p9dSPHzFUDxauE48mqhMPMZDSjzgY0c8DKVEPHRpQjyKe0A8jv4+PJ1RPTzs\\u002fzs8CLw6PACaOTyIyDg8LSo4PBftNjzGITY82Vk1PMiONDyKDTQ80MQzPMXTMzyi7zM8+JgzPDXJMjxqZTE8WnUvPFTvLDzSCyo8FI0mPCAmIjyDZhw8sBwYPMqZEzw16A88tlEKPKn1ATz8tfI7wfHmOw==\"},\"type\":\"scatter\"},{\"line\":{\"color\":\"#dbdb8d\",\"dash\":\"dot\"},\"name\":\"malperfused\",\"x\":{\"dtype\":\"f8\",\"bdata\":\"AAAAAABof0AAAAAAALh\\u002fQAAAAAAABIBAAAAAAAAsgEAAAAAAAFSAQAAAAAAAfIBAAAAAAACkgEAAAAAAAMyAQAAAAAAA9IBAAAAAAAAcgUAAAAAAAESBQAAAAAAAbIFAAAAAAACUgUAAAAAAALyBQAAAAAAA5IFAAAAAAAAMgkAAAAAAADSCQAAAAAAAXIJAAAAAAACEgkAAAAAAAKyCQAAAAAAA1IJAAAAAAAD8gkAAAAAAACSDQAAAAAAATINAAAAAAAB0g0AAAAAAAJyDQAAAAAAAxINAAAAAAADsg0AAAAAAABSEQAAAAAAAPIRAAAAAAABkhEAAAAAAAIyEQAAAAAAAtIRAAAAAAADchEAAAAAAAASFQAAAAAAALIVAAAAAAABUhUAAAAAAAHyFQAAAAAAApIVAAAAAAADMhUAAAAAAAPSFQAAAAAAAHIZAAAAAAABEhkAAAAAAAGyGQAAAAAAAlIZAAAAAAAC8hkAAAAAAAOSGQAAAAAAADIdAAAAAAAA0h0AAAAAAAFyHQAAAAAAAhIdAAAAAAACsh0AAAAAAANSHQAAAAAAA\\u002fIdAAAAAAAAkiEAAAAAAAEyIQAAAAAAAdIhAAAAAAACciEAAAAAAAMSIQAAAAAAA7IhAAAAAAAAUiUAAAAAAADyJQAAAAAAAZIlAAAAAAACMiUAAAAAAALSJQAAAAAAA3IlAAAAAAAAEikAAAAAAACyKQAAAAAAAVIpAAAAAAAB8ikAAAAAAAKSKQAAAAAAAzIpAAAAAAAD0ikAAAAAAAByLQAAAAAAARItAAAAAAABsi0AAAAAAAJSLQAAAAAAAvItAAAAAAADki0AAAAAAAAyMQAAAAAAANIxAAAAAAABcjEAAAAAAAISMQAAAAAAArIxAAAAAAADUjEAAAAAAAPyMQAAAAAAAJI1AAAAAAABMjUAAAAAAAHSNQAAAAAAAnI1AAAAAAADEjUAAAAAAAOyNQAAAAAAAFI5AAAAAAAA8jkAAAAAAAGSOQAAAAAAAjI5AAAAAAAC0jkAAAAAAANyOQAAAAAAABI9AAAAAAAAsj0A=\"},\"y\":{\"dtype\":\"f4\",\"bdata\":\"nfQbOzyoETucZQY7CzX3OhdR2TqzAtA6One5OhQosDo5Qac6ndGlOuqWpjqmlag6hrKkOnZAoDppIJY6jBiQOq4ZlTo9G6s6cCzVOscbBTslVyc7C\\u002fFRO5ykgDtTyJY7aYCqO1z0ujsURsg7yu3TOw2M3Tv8I+U7dsnrOwUd8jv+g\\u002fk7jS4BPIOrBzxMQw88yFIYPHsBIjwv1Ss85vg0POMJPTzoG0Q8VO5KPOioUTyeiFc84xNcPEpcXTzUIFs8dmNVPNtjTTywMkU8fm1APATBQTxCrkk8pt1VPPuBYjwt\\u002f2w8QVp0PBNveTxkzHw8n\\u002fd+PKHOfzxQtH887lh\\u002fPGu8fTxpg3s8xih5PMAYdzzonXU8TJF0PPQeczysxXE83ZZwPGTWbjwPnW08R7xsPMQYazz+gWk8wZZoPEWqZzyw6WY8rNNmPOuvZzz2jGg8dqZpPHcMajzylWo8HtdpPI8+aTy382c8xa5mPHngYzwIkF08FOFYPMqUUjydgk88QJdFPIU1NjxO9SU8tVsWPA==\"},\"type\":\"scatter\"}],                        {\"template\":{\"data\":{\"barpolar\":[{\"marker\":{\"line\":{\"color\":\"white\",\"width\":0.5},\"pattern\":{\"fillmode\":\"overlay\",\"size\":10,\"solidity\":0.2}},\"type\":\"barpolar\"}],\"bar\":[{\"error_x\":{\"color\":\"#2a3f5f\"},\"error_y\":{\"color\":\"#2a3f5f\"},\"marker\":{\"line\":{\"color\":\"white\",\"width\":0.5},\"pattern\":{\"fillmode\":\"overlay\",\"size\":10,\"solidity\":0.2}},\"type\":\"bar\"}],\"carpet\":[{\"aaxis\":{\"endlinecolor\":\"#2a3f5f\",\"gridcolor\":\"#C8D4E3\",\"linecolor\":\"#C8D4E3\",\"minorgridcolor\":\"#C8D4E3\",\"startlinecolor\":\"#2a3f5f\"},\"baxis\":{\"endlinecolor\":\"#2a3f5f\",\"gridcolor\":\"#C8D4E3\",\"linecolor\":\"#C8D4E3\",\"minorgridcolor\":\"#C8D4E3\",\"startlinecolor\":\"#2a3f5f\"},\"type\":\"carpet\"}],\"choropleth\":[{\"colorbar\":{\"outlinewidth\":0,\"ticks\":\"\"},\"type\":\"choropleth\"}],\"contourcarpet\":[{\"colorbar\":{\"outlinewidth\":0,\"ticks\":\"\"},\"type\":\"contourcarpet\"}],\"contour\":[{\"colorbar\":{\"outlinewidth\":0,\"ticks\":\"\"},\"colorscale\":[[0.0,\"#0d0887\"],[0.1111111111111111,\"#46039f\"],[0.2222222222222222,\"#7201a8\"],[0.3333333333333333,\"#9c179e\"],[0.4444444444444444,\"#bd3786\"],[0.5555555555555556,\"#d8576b\"],[0.6666666666666666,\"#ed7953\"],[0.7777777777777778,\"#fb9f3a\"],[0.8888888888888888,\"#fdca26\"],[1.0,\"#f0f921\"]],\"type\":\"contour\"}],\"heatmap\":[{\"colorbar\":{\"outlinewidth\":0,\"ticks\":\"\"},\"colorscale\":[[0.0,\"#0d0887\"],[0.1111111111111111,\"#46039f\"],[0.2222222222222222,\"#7201a8\"],[0.3333333333333333,\"#9c179e\"],[0.4444444444444444,\"#bd3786\"],[0.5555555555555556,\"#d8576b\"],[0.6666666666666666,\"#ed7953\"],[0.7777777777777778,\"#fb9f3a\"],[0.8888888888888888,\"#fdca26\"],[1.0,\"#f0f921\"]],\"type\":\"heatmap\"}],\"histogram2dcontour\":[{\"colorbar\":{\"outlinewidth\":0,\"ticks\":\"\"},\"colorscale\":[[0.0,\"#0d0887\"],[0.1111111111111111,\"#46039f\"],[0.2222222222222222,\"#7201a8\"],[0.3333333333333333,\"#9c179e\"],[0.4444444444444444,\"#bd3786\"],[0.5555555555555556,\"#d8576b\"],[0.6666666666666666,\"#ed7953\"],[0.7777777777777778,\"#fb9f3a\"],[0.8888888888888888,\"#fdca26\"],[1.0,\"#f0f921\"]],\"type\":\"histogram2dcontour\"}],\"histogram2d\":[{\"colorbar\":{\"outlinewidth\":0,\"ticks\":\"\"},\"colorscale\":[[0.0,\"#0d0887\"],[0.1111111111111111,\"#46039f\"],[0.2222222222222222,\"#7201a8\"],[0.3333333333333333,\"#9c179e\"],[0.4444444444444444,\"#bd3786\"],[0.5555555555555556,\"#d8576b\"],[0.6666666666666666,\"#ed7953\"],[0.7777777777777778,\"#fb9f3a\"],[0.8888888888888888,\"#fdca26\"],[1.0,\"#f0f921\"]],\"type\":\"histogram2d\"}],\"histogram\":[{\"marker\":{\"pattern\":{\"fillmode\":\"overlay\",\"size\":10,\"solidity\":0.2}},\"type\":\"histogram\"}],\"mesh3d\":[{\"colorbar\":{\"outlinewidth\":0,\"ticks\":\"\"},\"type\":\"mesh3d\"}],\"parcoords\":[{\"line\":{\"colorbar\":{\"outlinewidth\":0,\"ticks\":\"\"}},\"type\":\"parcoords\"}],\"pie\":[{\"automargin\":true,\"type\":\"pie\"}],\"scatter3d\":[{\"line\":{\"colorbar\":{\"outlinewidth\":0,\"ticks\":\"\"}},\"marker\":{\"colorbar\":{\"outlinewidth\":0,\"ticks\":\"\"}},\"type\":\"scatter3d\"}],\"scattercarpet\":[{\"marker\":{\"colorbar\":{\"outlinewidth\":0,\"ticks\":\"\"}},\"type\":\"scattercarpet\"}],\"scattergeo\":[{\"marker\":{\"colorbar\":{\"outlinewidth\":0,\"ticks\":\"\"}},\"type\":\"scattergeo\"}],\"scattergl\":[{\"marker\":{\"colorbar\":{\"outlinewidth\":0,\"ticks\":\"\"}},\"type\":\"scattergl\"}],\"scattermapbox\":[{\"marker\":{\"colorbar\":{\"outlinewidth\":0,\"ticks\":\"\"}},\"type\":\"scattermapbox\"}],\"scattermap\":[{\"marker\":{\"colorbar\":{\"outlinewidth\":0,\"ticks\":\"\"}},\"type\":\"scattermap\"}],\"scatterpolargl\":[{\"marker\":{\"colorbar\":{\"outlinewidth\":0,\"ticks\":\"\"}},\"type\":\"scatterpolargl\"}],\"scatterpolar\":[{\"marker\":{\"colorbar\":{\"outlinewidth\":0,\"ticks\":\"\"}},\"type\":\"scatterpolar\"}],\"scatter\":[{\"fillpattern\":{\"fillmode\":\"overlay\",\"size\":10,\"solidity\":0.2},\"type\":\"scatter\"}],\"scatterternary\":[{\"marker\":{\"colorbar\":{\"outlinewidth\":0,\"ticks\":\"\"}},\"type\":\"scatterternary\"}],\"surface\":[{\"colorbar\":{\"outlinewidth\":0,\"ticks\":\"\"},\"colorscale\":[[0.0,\"#0d0887\"],[0.1111111111111111,\"#46039f\"],[0.2222222222222222,\"#7201a8\"],[0.3333333333333333,\"#9c179e\"],[0.4444444444444444,\"#bd3786\"],[0.5555555555555556,\"#d8576b\"],[0.6666666666666666,\"#ed7953\"],[0.7777777777777778,\"#fb9f3a\"],[0.8888888888888888,\"#fdca26\"],[1.0,\"#f0f921\"]],\"type\":\"surface\"}],\"table\":[{\"cells\":{\"fill\":{\"color\":\"#EBF0F8\"},\"line\":{\"color\":\"white\"}},\"header\":{\"fill\":{\"color\":\"#C8D4E3\"},\"line\":{\"color\":\"white\"}},\"type\":\"table\"}]},\"layout\":{\"annotationdefaults\":{\"arrowcolor\":\"#2a3f5f\",\"arrowhead\":0,\"arrowwidth\":1},\"autotypenumbers\":\"strict\",\"coloraxis\":{\"colorbar\":{\"outlinewidth\":0,\"ticks\":\"\"}},\"colorscale\":{\"diverging\":[[0,\"#8e0152\"],[0.1,\"#c51b7d\"],[0.2,\"#de77ae\"],[0.3,\"#f1b6da\"],[0.4,\"#fde0ef\"],[0.5,\"#f7f7f7\"],[0.6,\"#e6f5d0\"],[0.7,\"#b8e186\"],[0.8,\"#7fbc41\"],[0.9,\"#4d9221\"],[1,\"#276419\"]],\"sequential\":[[0.0,\"#0d0887\"],[0.1111111111111111,\"#46039f\"],[0.2222222222222222,\"#7201a8\"],[0.3333333333333333,\"#9c179e\"],[0.4444444444444444,\"#bd3786\"],[0.5555555555555556,\"#d8576b\"],[0.6666666666666666,\"#ed7953\"],[0.7777777777777778,\"#fb9f3a\"],[0.8888888888888888,\"#fdca26\"],[1.0,\"#f0f921\"]],\"sequentialminus\":[[0.0,\"#0d0887\"],[0.1111111111111111,\"#46039f\"],[0.2222222222222222,\"#7201a8\"],[0.3333333333333333,\"#9c179e\"],[0.4444444444444444,\"#bd3786\"],[0.5555555555555556,\"#d8576b\"],[0.6666666666666666,\"#ed7953\"],[0.7777777777777778,\"#fb9f3a\"],[0.8888888888888888,\"#fdca26\"],[1.0,\"#f0f921\"]]},\"colorway\":[\"#636efa\",\"#EF553B\",\"#00cc96\",\"#ab63fa\",\"#FFA15A\",\"#19d3f3\",\"#FF6692\",\"#B6E880\",\"#FF97FF\",\"#FECB52\"],\"font\":{\"color\":\"#2a3f5f\"},\"geo\":{\"bgcolor\":\"white\",\"lakecolor\":\"white\",\"landcolor\":\"white\",\"showlakes\":true,\"showland\":true,\"subunitcolor\":\"#C8D4E3\"},\"hoverlabel\":{\"align\":\"left\"},\"hovermode\":\"closest\",\"mapbox\":{\"style\":\"light\"},\"paper_bgcolor\":\"white\",\"plot_bgcolor\":\"white\",\"polar\":{\"angularaxis\":{\"gridcolor\":\"#EBF0F8\",\"linecolor\":\"#EBF0F8\",\"ticks\":\"\"},\"bgcolor\":\"white\",\"radialaxis\":{\"gridcolor\":\"#EBF0F8\",\"linecolor\":\"#EBF0F8\",\"ticks\":\"\"}},\"scene\":{\"xaxis\":{\"backgroundcolor\":\"white\",\"gridcolor\":\"#DFE8F3\",\"gridwidth\":2,\"linecolor\":\"#EBF0F8\",\"showbackground\":true,\"ticks\":\"\",\"zerolinecolor\":\"#EBF0F8\"},\"yaxis\":{\"backgroundcolor\":\"white\",\"gridcolor\":\"#DFE8F3\",\"gridwidth\":2,\"linecolor\":\"#EBF0F8\",\"showbackground\":true,\"ticks\":\"\",\"zerolinecolor\":\"#EBF0F8\"},\"zaxis\":{\"backgroundcolor\":\"white\",\"gridcolor\":\"#DFE8F3\",\"gridwidth\":2,\"linecolor\":\"#EBF0F8\",\"showbackground\":true,\"ticks\":\"\",\"zerolinecolor\":\"#EBF0F8\"}},\"shapedefaults\":{\"line\":{\"color\":\"#2a3f5f\"}},\"ternary\":{\"aaxis\":{\"gridcolor\":\"#DFE8F3\",\"linecolor\":\"#A2B1C6\",\"ticks\":\"\"},\"baxis\":{\"gridcolor\":\"#DFE8F3\",\"linecolor\":\"#A2B1C6\",\"ticks\":\"\"},\"bgcolor\":\"white\",\"caxis\":{\"gridcolor\":\"#DFE8F3\",\"linecolor\":\"#A2B1C6\",\"ticks\":\"\"}},\"title\":{\"x\":0.05},\"xaxis\":{\"automargin\":true,\"gridcolor\":\"#EBF0F8\",\"linecolor\":\"#EBF0F8\",\"ticks\":\"\",\"title\":{\"standoff\":15},\"zerolinecolor\":\"#EBF0F8\",\"zerolinewidth\":2},\"yaxis\":{\"automargin\":true,\"gridcolor\":\"#EBF0F8\",\"linecolor\":\"#EBF0F8\",\"ticks\":\"\",\"title\":{\"standoff\":15},\"zerolinecolor\":\"#EBF0F8\",\"zerolinewidth\":2}}},\"height\":300,\"width\":500,\"font\":{\"family\":\"Libertinus Sans\",\"size\":16},\"margin\":{\"l\":0,\"r\":0,\"t\":10,\"b\":0},\"legend\":{\"orientation\":\"h\",\"yanchor\":\"top\",\"y\":1.17,\"xanchor\":\"center\",\"x\":0.5},\"yaxis\":{\"title\":{\"text\":\"\\u003cb\\u003eL1 normalized\\u003cbr\\u003ereflectance [a.u.]\\u003c\\u002fb\\u003e\"}},\"xaxis\":{\"title\":{\"text\":\"\\u003cb\\u003ewavelength [nm]\\u003c\\u002fb\\u003e\"}}},                        {\"responsive\": true}                    ).then(function(){\n",
       "                            \n",
       "var gd = document.getElementById('cd072cd8-be6f-4f62-ac4c-09c28206e7e3');\n",
       "var x = new MutationObserver(function (mutations, observer) {{\n",
       "        var display = window.getComputedStyle(gd).display;\n",
       "        if (!display || display === 'none') {{\n",
       "            console.log([gd, 'removed!']);\n",
       "            Plotly.purge(gd);\n",
       "            observer.disconnect();\n",
       "        }}\n",
       "}});\n",
       "\n",
       "// Listen for the removal of the full notebook cells\n",
       "var notebookContainer = gd.closest('#notebook-container');\n",
       "if (notebookContainer) {{\n",
       "    x.observe(notebookContainer, {childList: true});\n",
       "}}\n",
       "\n",
       "// Listen for the clearing of the current output cell\n",
       "var outputEl = gd.closest('.output');\n",
       "if (outputEl) {{\n",
       "    x.observe(outputEl, {childList: true});\n",
       "}}\n",
       "\n",
       "                        })                };            </script>        </div>"
      ]
     },
     "metadata": {},
     "output_type": "display_data"
    }
   ],
   "source": [
    "df = median_table(paths=[path_physiological, path_malperfused])\n",
    "wavelengths = np.arange(500, 1000, 5) + 2.5\n",
    "\n",
    "spectrum_physiological = df[(df.image_name == path_physiological.image_name()) & (df.label_name == \"kidney\")].iloc[0][\n",
    "    \"median_normalized_spectrum\"\n",
    "]\n",
    "spectrum_malperfused = df[(df.image_name == path_malperfused.image_name()) & (df.label_name == \"kidney\")].iloc[0][\n",
    "    \"median_normalized_spectrum\"\n",
    "]\n",
    "\n",
    "fig = go.Figure()\n",
    "fig.add_trace(\n",
    "    go.Scatter(\n",
    "        x=wavelengths,\n",
    "        y=spectrum_physiological,\n",
    "        line_color=settings_seg.label_colors_paper[\"kidney\"],\n",
    "        name=\"physiological\",\n",
    "    )\n",
    ")\n",
    "fig.add_trace(\n",
    "    go.Scatter(\n",
    "        x=wavelengths,\n",
    "        y=spectrum_malperfused,\n",
    "        line_color=settings_seg.label_colors_paper[\"kidney\"],\n",
    "        line_dash=\"dot\",\n",
    "        name=\"malperfused\",\n",
    "    )\n",
    ")\n",
    "\n",
    "fig.update_layout(height=300, width=500, template=\"plotly_white\")\n",
    "fig.update_layout(font_family=\"Libertinus Sans\", font_size=16)\n",
    "fig.update_layout(margin=dict(l=0, r=0, t=10, b=0))\n",
    "fig.update_layout(legend=dict(orientation=\"h\", yanchor=\"top\", y=1.17, xanchor=\"center\", x=0.5))\n",
    "fig.update_yaxes(title=\"<b>L1 normalized<br>reflectance [a.u.]</b>\")\n",
    "fig.update_xaxes(title=\"<b>wavelength [nm]</b>\")\n",
    "\n",
    "fig.write_image(settings_species.paper_dir / \"method_concept_example_spectra_kidney.pdf\")\n",
    "fig"
   ]
  }
 ],
 "metadata": {
  "kernelspec": {
   "display_name": "htc",
   "language": "python",
   "name": "python3"
  },
  "language_info": {
   "codemirror_mode": {
    "name": "ipython",
    "version": 3
   },
   "file_extension": ".py",
   "mimetype": "text/x-python",
   "name": "python",
   "nbconvert_exporter": "python",
   "pygments_lexer": "ipython3",
   "version": "3.13.3"
  }
 },
 "nbformat": 4,
 "nbformat_minor": 2
}
