{
 "cells": [
  {
   "cell_type": "code",
   "execution_count": 1,
   "metadata": {},
   "outputs": [],
   "source": [
    "%load_ext autoreload\n",
    "%autoreload 2\n",
    "\n",
    "import numpy as np\n",
    "import plotly.graph_objects as go\n",
    "import plotly.io as pio\n",
    "from plotly.subplots import make_subplots\n",
    "\n",
    "from htc.settings_seg import settings_seg\n",
    "from htc.utils.helper_functions import sort_labels\n",
    "from htc.utils.visualization import boxplot_symbols\n",
    "from htc_projects.species.settings_species import settings_species\n",
    "from htc_projects.species.species_evaluation import baseline_performance\n",
    "\n",
    "pio.kaleido.scope.mathjax = None"
   ]
  },
  {
   "cell_type": "code",
   "execution_count": 2,
   "metadata": {},
   "outputs": [
    {
     "data": {
      "text/html": [
       "<div>\n",
       "<style scoped>\n",
       "    .dataframe tbody tr th:only-of-type {\n",
       "        vertical-align: middle;\n",
       "    }\n",
       "\n",
       "    .dataframe tbody tr th {\n",
       "        vertical-align: top;\n",
       "    }\n",
       "\n",
       "    .dataframe thead th {\n",
       "        text-align: right;\n",
       "    }\n",
       "</style>\n",
       "<table border=\"1\" class=\"dataframe\">\n",
       "  <thead>\n",
       "    <tr style=\"text-align: right;\">\n",
       "      <th></th>\n",
       "      <th>label_index</th>\n",
       "      <th>dice_metric</th>\n",
       "      <th>dice_metric_bootstraps</th>\n",
       "      <th>surface_dice_metric_mean</th>\n",
       "      <th>surface_dice_metric_mean_bootstraps</th>\n",
       "      <th>label_name</th>\n",
       "      <th>network</th>\n",
       "      <th>source_species</th>\n",
       "      <th>target_species</th>\n",
       "    </tr>\n",
       "  </thead>\n",
       "  <tbody>\n",
       "    <tr>\n",
       "      <th>0</th>\n",
       "      <td>1</td>\n",
       "      <td>0.313875</td>\n",
       "      <td>[0.33624719538943526, 0.3495526881545618, 0.31...</td>\n",
       "      <td>0.244484</td>\n",
       "      <td>[0.25158693587530234, 0.2507578224890751, 0.25...</td>\n",
       "      <td>stomach</td>\n",
       "      <td>baseline_human</td>\n",
       "      <td>human</td>\n",
       "      <td>pig</td>\n",
       "    </tr>\n",
       "    <tr>\n",
       "      <th>1</th>\n",
       "      <td>2</td>\n",
       "      <td>0.618449</td>\n",
       "      <td>[0.6668461833569955, 0.5755083175330398, 0.676...</td>\n",
       "      <td>0.383367</td>\n",
       "      <td>[0.38216757144117564, 0.36171737972862295, 0.4...</td>\n",
       "      <td>small_bowel</td>\n",
       "      <td>baseline_human</td>\n",
       "      <td>human</td>\n",
       "      <td>pig</td>\n",
       "    </tr>\n",
       "    <tr>\n",
       "      <th>2</th>\n",
       "      <td>3</td>\n",
       "      <td>0.399226</td>\n",
       "      <td>[0.3637829237616209, 0.3761668796248114, 0.356...</td>\n",
       "      <td>0.277434</td>\n",
       "      <td>[0.25444409700727133, 0.26577364487947175, 0.2...</td>\n",
       "      <td>colon</td>\n",
       "      <td>baseline_human</td>\n",
       "      <td>human</td>\n",
       "      <td>pig</td>\n",
       "    </tr>\n",
       "    <tr>\n",
       "      <th>3</th>\n",
       "      <td>4</td>\n",
       "      <td>0.537611</td>\n",
       "      <td>[0.5177921226446983, 0.6639741052093328, 0.543...</td>\n",
       "      <td>0.290353</td>\n",
       "      <td>[0.27865982791702704, 0.3263526230365636, 0.28...</td>\n",
       "      <td>liver</td>\n",
       "      <td>baseline_human</td>\n",
       "      <td>human</td>\n",
       "      <td>pig</td>\n",
       "    </tr>\n",
       "    <tr>\n",
       "      <th>4</th>\n",
       "      <td>5</td>\n",
       "      <td>0.006627</td>\n",
       "      <td>[0.006627236945288521, 0.0, 0.0066272369452885...</td>\n",
       "      <td>0.005879</td>\n",
       "      <td>[0.005879223346710205, 0.0, 0.0058792233467102...</td>\n",
       "      <td>pancreas</td>\n",
       "      <td>baseline_human</td>\n",
       "      <td>human</td>\n",
       "      <td>pig</td>\n",
       "    </tr>\n",
       "    <tr>\n",
       "      <th>...</th>\n",
       "      <td>...</td>\n",
       "      <td>...</td>\n",
       "      <td>...</td>\n",
       "      <td>...</td>\n",
       "      <td>...</td>\n",
       "      <td>...</td>\n",
       "      <td>...</td>\n",
       "      <td>...</td>\n",
       "      <td>...</td>\n",
       "    </tr>\n",
       "    <tr>\n",
       "      <th>139</th>\n",
       "      <td>8</td>\n",
       "      <td>0.884005</td>\n",
       "      <td>[0.8754188400654349, 0.8928557882362288, 0.886...</td>\n",
       "      <td>0.786107</td>\n",
       "      <td>[0.7868702215869043, 0.7932600932576384, 0.796...</td>\n",
       "      <td>omentum</td>\n",
       "      <td>joint_pig-p+rat-p2human</td>\n",
       "      <td>pig-p+rat-p2human</td>\n",
       "      <td>human</td>\n",
       "    </tr>\n",
       "    <tr>\n",
       "      <th>140</th>\n",
       "      <td>9</td>\n",
       "      <td>0.852342</td>\n",
       "      <td>[0.8735243572129143, 0.8496070424715679, 0.920...</td>\n",
       "      <td>0.745890</td>\n",
       "      <td>[0.7891469269328647, 0.6919352936744688, 0.782...</td>\n",
       "      <td>lung</td>\n",
       "      <td>joint_pig-p+rat-p2human</td>\n",
       "      <td>pig-p+rat-p2human</td>\n",
       "      <td>human</td>\n",
       "    </tr>\n",
       "    <tr>\n",
       "      <th>141</th>\n",
       "      <td>10</td>\n",
       "      <td>0.810152</td>\n",
       "      <td>[0.7936052020890538, 0.8183816260234429, 0.808...</td>\n",
       "      <td>0.843698</td>\n",
       "      <td>[0.8274412400151724, 0.8362806841445268, 0.850...</td>\n",
       "      <td>skin</td>\n",
       "      <td>joint_pig-p+rat-p2human</td>\n",
       "      <td>pig-p+rat-p2human</td>\n",
       "      <td>human</td>\n",
       "    </tr>\n",
       "    <tr>\n",
       "      <th>142</th>\n",
       "      <td>11</td>\n",
       "      <td>0.613972</td>\n",
       "      <td>[0.5338582265026429, 0.5842160611565597, 0.581...</td>\n",
       "      <td>0.644649</td>\n",
       "      <td>[0.5738497746313542, 0.6150082722375818, 0.600...</td>\n",
       "      <td>peritoneum</td>\n",
       "      <td>joint_pig-p+rat-p2human</td>\n",
       "      <td>pig-p+rat-p2human</td>\n",
       "      <td>human</td>\n",
       "    </tr>\n",
       "    <tr>\n",
       "      <th>143</th>\n",
       "      <td>0</td>\n",
       "      <td>0.986326</td>\n",
       "      <td>[0.9876884622524392, 0.9891142062768408, 0.986...</td>\n",
       "      <td>0.905259</td>\n",
       "      <td>[0.906669825703811, 0.9144691975821871, 0.9022...</td>\n",
       "      <td>background</td>\n",
       "      <td>joint_pig-p+rat-p2human</td>\n",
       "      <td>pig-p+rat-p2human</td>\n",
       "      <td>human</td>\n",
       "    </tr>\n",
       "  </tbody>\n",
       "</table>\n",
       "<p>144 rows × 9 columns</p>\n",
       "</div>"
      ],
      "text/plain": [
       "     label_index  dice_metric  \\\n",
       "0              1     0.313875   \n",
       "1              2     0.618449   \n",
       "2              3     0.399226   \n",
       "3              4     0.537611   \n",
       "4              5     0.006627   \n",
       "..           ...          ...   \n",
       "139            8     0.884005   \n",
       "140            9     0.852342   \n",
       "141           10     0.810152   \n",
       "142           11     0.613972   \n",
       "143            0     0.986326   \n",
       "\n",
       "                                dice_metric_bootstraps  \\\n",
       "0    [0.33624719538943526, 0.3495526881545618, 0.31...   \n",
       "1    [0.6668461833569955, 0.5755083175330398, 0.676...   \n",
       "2    [0.3637829237616209, 0.3761668796248114, 0.356...   \n",
       "3    [0.5177921226446983, 0.6639741052093328, 0.543...   \n",
       "4    [0.006627236945288521, 0.0, 0.0066272369452885...   \n",
       "..                                                 ...   \n",
       "139  [0.8754188400654349, 0.8928557882362288, 0.886...   \n",
       "140  [0.8735243572129143, 0.8496070424715679, 0.920...   \n",
       "141  [0.7936052020890538, 0.8183816260234429, 0.808...   \n",
       "142  [0.5338582265026429, 0.5842160611565597, 0.581...   \n",
       "143  [0.9876884622524392, 0.9891142062768408, 0.986...   \n",
       "\n",
       "     surface_dice_metric_mean  \\\n",
       "0                    0.244484   \n",
       "1                    0.383367   \n",
       "2                    0.277434   \n",
       "3                    0.290353   \n",
       "4                    0.005879   \n",
       "..                        ...   \n",
       "139                  0.786107   \n",
       "140                  0.745890   \n",
       "141                  0.843698   \n",
       "142                  0.644649   \n",
       "143                  0.905259   \n",
       "\n",
       "                   surface_dice_metric_mean_bootstraps   label_name  \\\n",
       "0    [0.25158693587530234, 0.2507578224890751, 0.25...      stomach   \n",
       "1    [0.38216757144117564, 0.36171737972862295, 0.4...  small_bowel   \n",
       "2    [0.25444409700727133, 0.26577364487947175, 0.2...        colon   \n",
       "3    [0.27865982791702704, 0.3263526230365636, 0.28...        liver   \n",
       "4    [0.005879223346710205, 0.0, 0.0058792233467102...     pancreas   \n",
       "..                                                 ...          ...   \n",
       "139  [0.7868702215869043, 0.7932600932576384, 0.796...      omentum   \n",
       "140  [0.7891469269328647, 0.6919352936744688, 0.782...         lung   \n",
       "141  [0.8274412400151724, 0.8362806841445268, 0.850...         skin   \n",
       "142  [0.5738497746313542, 0.6150082722375818, 0.600...   peritoneum   \n",
       "143  [0.906669825703811, 0.9144691975821871, 0.9022...   background   \n",
       "\n",
       "                     network     source_species target_species  \n",
       "0             baseline_human              human            pig  \n",
       "1             baseline_human              human            pig  \n",
       "2             baseline_human              human            pig  \n",
       "3             baseline_human              human            pig  \n",
       "4             baseline_human              human            pig  \n",
       "..                       ...                ...            ...  \n",
       "139  joint_pig-p+rat-p2human  pig-p+rat-p2human          human  \n",
       "140  joint_pig-p+rat-p2human  pig-p+rat-p2human          human  \n",
       "141  joint_pig-p+rat-p2human  pig-p+rat-p2human          human  \n",
       "142  joint_pig-p+rat-p2human  pig-p+rat-p2human          human  \n",
       "143  joint_pig-p+rat-p2human  pig-p+rat-p2human          human  \n",
       "\n",
       "[144 rows x 9 columns]"
      ]
     },
     "execution_count": 2,
     "metadata": {},
     "output_type": "execute_result"
    }
   ],
   "source": [
    "df = baseline_performance()\n",
    "df"
   ]
  },
  {
   "cell_type": "code",
   "execution_count": 3,
   "metadata": {},
   "outputs": [
    {
     "data": {
      "text/html": [
       "        <script type=\"text/javascript\">\n",
       "        window.PlotlyConfig = {MathJaxConfig: 'local'};\n",
       "        if (window.MathJax && window.MathJax.Hub && window.MathJax.Hub.Config) {window.MathJax.Hub.Config({SVG: {font: \"STIX-Web\"}});}\n",
       "        </script>\n",
       "        <script type=\"module\">import \"https://cdn.plot.ly/plotly-3.0.1.min\"</script>\n",
       "        "
      ]
     },
     "metadata": {},
     "output_type": "display_data"
    },
    {
     "data": {
      "application/vnd.plotly.v1+json": {
       "config": {
        "plotlyServerURL": "https://plot.ly"
       },
       "data": [
        {
         "legend": "legend",
         "marker": {
          "color": "gray",
          "line": {
           "color": "black",
           "width": 1
          },
          "size": 9,
          "symbol": "circle"
         },
         "mode": "markers",
         "name": "stomach",
         "showlegend": true,
         "type": "scatter",
         "x": [
          null
         ],
         "xaxis": "x",
         "y": [
          null
         ],
         "yaxis": "y"
        },
        {
         "legend": "legend",
         "marker": {
          "color": "gray",
          "line": {
           "color": "black",
           "width": 1
          },
          "size": 9,
          "symbol": "square"
         },
         "mode": "markers",
         "name": "small_bowel",
         "showlegend": true,
         "type": "scatter",
         "x": [
          null
         ],
         "xaxis": "x",
         "y": [
          null
         ],
         "yaxis": "y"
        },
        {
         "legend": "legend",
         "marker": {
          "color": "gray",
          "line": {
           "color": "black",
           "width": 1
          },
          "size": 9,
          "symbol": "diamond"
         },
         "mode": "markers",
         "name": "colon",
         "showlegend": true,
         "type": "scatter",
         "x": [
          null
         ],
         "xaxis": "x",
         "y": [
          null
         ],
         "yaxis": "y"
        },
        {
         "legend": "legend",
         "marker": {
          "color": "gray",
          "line": {
           "color": "black",
           "width": 1
          },
          "size": 9,
          "symbol": "cross"
         },
         "mode": "markers",
         "name": "liver",
         "showlegend": true,
         "type": "scatter",
         "x": [
          null
         ],
         "xaxis": "x",
         "y": [
          null
         ],
         "yaxis": "y"
        },
        {
         "legend": "legend",
         "marker": {
          "color": "gray",
          "line": {
           "color": "black",
           "width": 1
          },
          "size": 9,
          "symbol": "x"
         },
         "mode": "markers",
         "name": "pancreas",
         "showlegend": true,
         "type": "scatter",
         "x": [
          null
         ],
         "xaxis": "x",
         "y": [
          null
         ],
         "yaxis": "y"
        },
        {
         "legend": "legend",
         "marker": {
          "color": "gray",
          "line": {
           "color": "black",
           "width": 1
          },
          "size": 9,
          "symbol": "triangle-up"
         },
         "mode": "markers",
         "name": "kidney",
         "showlegend": true,
         "type": "scatter",
         "x": [
          null
         ],
         "xaxis": "x",
         "y": [
          null
         ],
         "yaxis": "y"
        },
        {
         "legend": "legend",
         "marker": {
          "color": "gray",
          "line": {
           "color": "black",
           "width": 1
          },
          "size": 9,
          "symbol": "triangle-down"
         },
         "mode": "markers",
         "name": "spleen",
         "showlegend": true,
         "type": "scatter",
         "x": [
          null
         ],
         "xaxis": "x",
         "y": [
          null
         ],
         "yaxis": "y"
        },
        {
         "legend": "legend",
         "marker": {
          "color": "gray",
          "line": {
           "color": "black",
           "width": 1
          },
          "size": 9,
          "symbol": "triangle-left"
         },
         "mode": "markers",
         "name": "omentum",
         "showlegend": true,
         "type": "scatter",
         "x": [
          null
         ],
         "xaxis": "x",
         "y": [
          null
         ],
         "yaxis": "y"
        },
        {
         "legend": "legend",
         "marker": {
          "color": "gray",
          "line": {
           "color": "black",
           "width": 1
          },
          "size": 9,
          "symbol": "triangle-right"
         },
         "mode": "markers",
         "name": "lung",
         "showlegend": true,
         "type": "scatter",
         "x": [
          null
         ],
         "xaxis": "x",
         "y": [
          null
         ],
         "yaxis": "y"
        },
        {
         "legend": "legend",
         "marker": {
          "color": "gray",
          "line": {
           "color": "black",
           "width": 1
          },
          "size": 9,
          "symbol": "star"
         },
         "mode": "markers",
         "name": "skin",
         "showlegend": true,
         "type": "scatter",
         "x": [
          null
         ],
         "xaxis": "x",
         "y": [
          null
         ],
         "yaxis": "y"
        },
        {
         "legend": "legend",
         "marker": {
          "color": "gray",
          "line": {
           "color": "black",
           "width": 1
          },
          "size": 9,
          "symbol": "diamond-wide"
         },
         "mode": "markers",
         "name": "peritoneum",
         "showlegend": true,
         "type": "scatter",
         "x": [
          null
         ],
         "xaxis": "x",
         "y": [
          null
         ],
         "yaxis": "y"
        },
        {
         "legend": "legend",
         "marker": {
          "color": "gray",
          "line": {
           "color": "black",
           "width": 1
          },
          "size": 9,
          "symbol": "diamond-tall"
         },
         "mode": "markers",
         "name": "background",
         "showlegend": true,
         "type": "scatter",
         "x": [
          null
         ],
         "xaxis": "x",
         "y": [
          null
         ],
         "yaxis": "y"
        },
        {
         "legend": "legend",
         "legendgroup": "pig2pig",
         "marker": {
          "color": "#44AA99",
          "line": {
           "color": "black",
           "width": 1
          },
          "size": 9,
          "symbol": "diamond-tall"
         },
         "mode": "markers",
         "name": "background",
         "showlegend": false,
         "type": "scatter",
         "x": [
          0
         ],
         "xaxis": "x",
         "y": [
          0.9893842534220079
         ],
         "yaxis": "y"
        },
        {
         "legend": "legend",
         "legendgroup": "pig2pig",
         "marker": {
          "color": "#44AA99",
          "line": {
           "color": "black",
           "width": 1
          },
          "size": 9,
          "symbol": "triangle-right"
         },
         "mode": "markers",
         "name": "lung",
         "showlegend": false,
         "type": "scatter",
         "x": [
          0.09333333333333334
         ],
         "xaxis": "x",
         "y": [
          0.9747844543376248
         ],
         "yaxis": "y"
        },
        {
         "legend": "legend",
         "legendgroup": "pig2pig",
         "marker": {
          "color": "#44AA99",
          "line": {
           "color": "black",
           "width": 1
          },
          "size": 9,
          "symbol": "triangle-down"
         },
         "mode": "markers",
         "name": "spleen",
         "showlegend": false,
         "type": "scatter",
         "x": [
          0.18666666666666668
         ],
         "xaxis": "x",
         "y": [
          0.9657712445374494
         ],
         "yaxis": "y"
        },
        {
         "legend": "legend",
         "legendgroup": "pig2pig",
         "marker": {
          "color": "#44AA99",
          "line": {
           "color": "black",
           "width": 1
          },
          "size": 9,
          "symbol": "diamond"
         },
         "mode": "markers",
         "name": "colon",
         "showlegend": false,
         "type": "scatter",
         "x": [
          0.28
         ],
         "xaxis": "x",
         "y": [
          0.9652041585795311
         ],
         "yaxis": "y"
        },
        {
         "legend": "legend",
         "legendgroup": "pig2pig",
         "marker": {
          "color": "#44AA99",
          "line": {
           "color": "black",
           "width": 1
          },
          "size": 9,
          "symbol": "square"
         },
         "mode": "markers",
         "name": "small_bowel",
         "showlegend": false,
         "type": "scatter",
         "x": [
          0
         ],
         "xaxis": "x",
         "y": [
          0.9622925943782528
         ],
         "yaxis": "y"
        },
        {
         "legend": "legend",
         "legendgroup": "pig2pig",
         "marker": {
          "color": "#44AA99",
          "line": {
           "color": "black",
           "width": 1
          },
          "size": 9,
          "symbol": "cross"
         },
         "mode": "markers",
         "name": "liver",
         "showlegend": false,
         "type": "scatter",
         "x": [
          0.09333333333333334
         ],
         "xaxis": "x",
         "y": [
          0.9593306272894886
         ],
         "yaxis": "y"
        },
        {
         "legend": "legend",
         "legendgroup": "pig2pig",
         "marker": {
          "color": "#44AA99",
          "line": {
           "color": "black",
           "width": 1
          },
          "size": 9,
          "symbol": "triangle-up"
         },
         "mode": "markers",
         "name": "kidney",
         "showlegend": false,
         "type": "scatter",
         "x": [
          0.18666666666666668
         ],
         "xaxis": "x",
         "y": [
          0.9443360910696142
         ],
         "yaxis": "y"
        },
        {
         "legend": "legend",
         "legendgroup": "pig2pig",
         "marker": {
          "color": "#44AA99",
          "line": {
           "color": "black",
           "width": 1
          },
          "size": 9,
          "symbol": "star"
         },
         "mode": "markers",
         "name": "skin",
         "showlegend": false,
         "type": "scatter",
         "x": [
          0.28
         ],
         "xaxis": "x",
         "y": [
          0.927014201251023
         ],
         "yaxis": "y"
        },
        {
         "legend": "legend",
         "legendgroup": "pig2pig",
         "marker": {
          "color": "#44AA99",
          "line": {
           "color": "black",
           "width": 1
          },
          "size": 9,
          "symbol": "diamond-wide"
         },
         "mode": "markers",
         "name": "peritoneum",
         "showlegend": false,
         "type": "scatter",
         "x": [
          0
         ],
         "xaxis": "x",
         "y": [
          0.8726571720652956
         ],
         "yaxis": "y"
        },
        {
         "legend": "legend",
         "legendgroup": "pig2pig",
         "marker": {
          "color": "#44AA99",
          "line": {
           "color": "black",
           "width": 1
          },
          "size": 9,
          "symbol": "x"
         },
         "mode": "markers",
         "name": "pancreas",
         "showlegend": false,
         "type": "scatter",
         "x": [
          0.09333333333333334
         ],
         "xaxis": "x",
         "y": [
          0.8713895898205892
         ],
         "yaxis": "y"
        },
        {
         "legend": "legend",
         "legendgroup": "pig2pig",
         "marker": {
          "color": "#44AA99",
          "line": {
           "color": "black",
           "width": 1
          },
          "size": 9,
          "symbol": "circle"
         },
         "mode": "markers",
         "name": "stomach",
         "showlegend": false,
         "type": "scatter",
         "x": [
          0.18666666666666668
         ],
         "xaxis": "x",
         "y": [
          0.8635207585356858
         ],
         "yaxis": "y"
        },
        {
         "legend": "legend",
         "legendgroup": "pig2pig",
         "marker": {
          "color": "#44AA99",
          "line": {
           "color": "black",
           "width": 1
          },
          "size": 9,
          "symbol": "triangle-left"
         },
         "mode": "markers",
         "name": "omentum",
         "showlegend": false,
         "type": "scatter",
         "x": [
          0.28
         ],
         "xaxis": "x",
         "y": [
          0.5928834459312615
         ],
         "yaxis": "y"
        },
        {
         "boxmean": true,
         "boxpoints": false,
         "legend": "legend2",
         "legendgroup": "pig2pig",
         "line": {
          "color": "#44AA99"
         },
         "name": "pig2pig",
         "showlegend": true,
         "type": "box",
         "x": [
          0.6,
          0.6,
          0.6,
          0.6,
          0.6,
          0.6,
          0.6,
          0.6,
          0.6,
          0.6,
          0.6,
          0.6
         ],
         "xaxis": "x",
         "y": {
          "bdata": "Lv9zKgmp7z8P8AArbzHvP/uT1hiZ5+4/O/7h1PPi7j/uM8HWGcvuP/pNyCTWsu4/c3JyUgA47j9in6mvGartP0B91LvO7Os/TlbLa2zi6z8FfipJ9qHrP2qqU7Tm+OI/",
          "dtype": "f8"
         },
         "yaxis": "y"
        },
        {
         "legendgroup": "pig2pig",
         "line": {
          "color": "#44AA99",
          "dash": "dot"
         },
         "mode": "lines",
         "name": "pig2pig",
         "showlegend": false,
         "text": "95 % CI mean: [0.89;0.92]",
         "type": "scatter",
         "x": [
          0.5,
          0.5
         ],
         "xaxis": "x",
         "y": [
          0.8913575205016374,
          0.922292095957031
         ],
         "yaxis": "y"
        },
        {
         "legendgroup": "pig2pig",
         "line": {
          "color": "#44AA99"
         },
         "marker": {
          "size": 10,
          "symbol": "triangle-down-open"
         },
         "mode": "markers",
         "name": "pig2pig",
         "showlegend": false,
         "text": "95 % CI mean: [0.89;0.92]",
         "type": "scatter",
         "x": [
          0.5
         ],
         "xaxis": "x",
         "y": [
          0.8913575205016374
         ],
         "yaxis": "y"
        },
        {
         "legendgroup": "pig2pig",
         "line": {
          "color": "#44AA99"
         },
         "marker": {
          "size": 10,
          "symbol": "triangle-up-open"
         },
         "mode": "markers",
         "name": "pig2pig",
         "showlegend": false,
         "text": "95 % CI mean: [0.89;0.92]",
         "type": "scatter",
         "x": [
          0.5
         ],
         "xaxis": "x",
         "y": [
          0.922292095957031
         ],
         "yaxis": "y"
        },
        {
         "legendgroup": "pig2pig",
         "line": {
          "color": "#44AA99",
          "dash": "solid"
         },
         "mode": "lines",
         "name": "pig2pig",
         "showlegend": false,
         "text": "95 % CI median: [0.94;0.96]",
         "type": "scatter",
         "x": [
          0.7,
          0.7
         ],
         "xaxis": "x",
         "y": [
          0.9372813264012252,
          0.9625813197895268
         ],
         "yaxis": "y"
        },
        {
         "legendgroup": "pig2pig",
         "line": {
          "color": "#44AA99"
         },
         "marker": {
          "size": 10,
          "symbol": "triangle-down"
         },
         "mode": "markers",
         "name": "pig2pig",
         "showlegend": false,
         "text": "95 % CI median: [0.94;0.96]",
         "type": "scatter",
         "x": [
          0.7
         ],
         "xaxis": "x",
         "y": [
          0.9372813264012252
         ],
         "yaxis": "y"
        },
        {
         "legendgroup": "pig2pig",
         "line": {
          "color": "#44AA99"
         },
         "marker": {
          "size": 10,
          "symbol": "triangle-up"
         },
         "mode": "markers",
         "name": "pig2pig",
         "showlegend": false,
         "text": "95 % CI median: [0.94;0.96]",
         "type": "scatter",
         "x": [
          0.7
         ],
         "xaxis": "x",
         "y": [
          0.9625813197895268
         ],
         "yaxis": "y"
        },
        {
         "legend": "legend",
         "legendgroup": "pig2rat",
         "marker": {
          "color": "#89CCED",
          "line": {
           "color": "black",
           "width": 1
          },
          "size": 9,
          "symbol": "triangle-right"
         },
         "mode": "markers",
         "name": "lung",
         "showlegend": false,
         "type": "scatter",
         "x": [
          1
         ],
         "xaxis": "x",
         "y": [
          0.9886027910770514
         ],
         "yaxis": "y"
        },
        {
         "legend": "legend",
         "legendgroup": "pig2rat",
         "marker": {
          "color": "#89CCED",
          "line": {
           "color": "black",
           "width": 1
          },
          "size": 9,
          "symbol": "triangle-up"
         },
         "mode": "markers",
         "name": "kidney",
         "showlegend": false,
         "type": "scatter",
         "x": [
          1.0933333333333333
         ],
         "xaxis": "x",
         "y": [
          0.8316342751621763
         ],
         "yaxis": "y"
        },
        {
         "legend": "legend",
         "legendgroup": "pig2rat",
         "marker": {
          "color": "#89CCED",
          "line": {
           "color": "black",
           "width": 1
          },
          "size": 9,
          "symbol": "cross"
         },
         "mode": "markers",
         "name": "liver",
         "showlegend": false,
         "type": "scatter",
         "x": [
          1.1866666666666668
         ],
         "xaxis": "x",
         "y": [
          0.8058963443919412
         ],
         "yaxis": "y"
        },
        {
         "legend": "legend",
         "legendgroup": "pig2rat",
         "marker": {
          "color": "#89CCED",
          "line": {
           "color": "black",
           "width": 1
          },
          "size": 9,
          "symbol": "diamond-tall"
         },
         "mode": "markers",
         "name": "background",
         "showlegend": false,
         "type": "scatter",
         "x": [
          1.28
         ],
         "xaxis": "x",
         "y": [
          0.7668117963773639
         ],
         "yaxis": "y"
        },
        {
         "legend": "legend",
         "legendgroup": "pig2rat",
         "marker": {
          "color": "#89CCED",
          "line": {
           "color": "black",
           "width": 1
          },
          "size": 9,
          "symbol": "diamond-wide"
         },
         "mode": "markers",
         "name": "peritoneum",
         "showlegend": false,
         "type": "scatter",
         "x": [
          1
         ],
         "xaxis": "x",
         "y": [
          0.6881980334893105
         ],
         "yaxis": "y"
        },
        {
         "legend": "legend",
         "legendgroup": "pig2rat",
         "marker": {
          "color": "#89CCED",
          "line": {
           "color": "black",
           "width": 1
          },
          "size": 9,
          "symbol": "star"
         },
         "mode": "markers",
         "name": "skin",
         "showlegend": false,
         "type": "scatter",
         "x": [
          1.0933333333333333
         ],
         "xaxis": "x",
         "y": [
          0.47965133161773726
         ],
         "yaxis": "y"
        },
        {
         "legend": "legend",
         "legendgroup": "pig2rat",
         "marker": {
          "color": "#89CCED",
          "line": {
           "color": "black",
           "width": 1
          },
          "size": 9,
          "symbol": "diamond"
         },
         "mode": "markers",
         "name": "colon",
         "showlegend": false,
         "type": "scatter",
         "x": [
          1.1866666666666668
         ],
         "xaxis": "x",
         "y": [
          0.4780215654357726
         ],
         "yaxis": "y"
        },
        {
         "legend": "legend",
         "legendgroup": "pig2rat",
         "marker": {
          "color": "#89CCED",
          "line": {
           "color": "black",
           "width": 1
          },
          "size": 9,
          "symbol": "triangle-left"
         },
         "mode": "markers",
         "name": "omentum",
         "showlegend": false,
         "type": "scatter",
         "x": [
          1.28
         ],
         "xaxis": "x",
         "y": [
          0.3076327510847347
         ],
         "yaxis": "y"
        },
        {
         "legend": "legend",
         "legendgroup": "pig2rat",
         "marker": {
          "color": "#89CCED",
          "line": {
           "color": "black",
           "width": 1
          },
          "size": 9,
          "symbol": "x"
         },
         "mode": "markers",
         "name": "pancreas",
         "showlegend": false,
         "type": "scatter",
         "x": [
          1
         ],
         "xaxis": "x",
         "y": [
          0.2009739672089671
         ],
         "yaxis": "y"
        },
        {
         "legend": "legend",
         "legendgroup": "pig2rat",
         "marker": {
          "color": "#89CCED",
          "line": {
           "color": "black",
           "width": 1
          },
          "size": 9,
          "symbol": "square"
         },
         "mode": "markers",
         "name": "small_bowel",
         "showlegend": false,
         "type": "scatter",
         "x": [
          1.0933333333333333
         ],
         "xaxis": "x",
         "y": [
          0.1552711256120132
         ],
         "yaxis": "y"
        },
        {
         "legend": "legend",
         "legendgroup": "pig2rat",
         "marker": {
          "color": "#89CCED",
          "line": {
           "color": "black",
           "width": 1
          },
          "size": 9,
          "symbol": "triangle-down"
         },
         "mode": "markers",
         "name": "spleen",
         "showlegend": false,
         "type": "scatter",
         "x": [
          1.1866666666666668
         ],
         "xaxis": "x",
         "y": [
          0.11841620126736846
         ],
         "yaxis": "y"
        },
        {
         "legend": "legend",
         "legendgroup": "pig2rat",
         "marker": {
          "color": "#89CCED",
          "line": {
           "color": "black",
           "width": 1
          },
          "size": 9,
          "symbol": "circle"
         },
         "mode": "markers",
         "name": "stomach",
         "showlegend": false,
         "type": "scatter",
         "x": [
          1.28
         ],
         "xaxis": "x",
         "y": [
          0.07265870594535634
         ],
         "yaxis": "y"
        },
        {
         "boxmean": true,
         "boxpoints": false,
         "legend": "legend2",
         "legendgroup": "pig2rat",
         "line": {
          "color": "#89CCED"
         },
         "name": "pig2rat",
         "showlegend": true,
         "type": "box",
         "x": [
          1.6,
          1.6,
          1.6,
          1.6,
          1.6,
          1.6,
          1.6,
          1.6,
          1.6,
          1.6,
          1.6,
          1.6
         ],
         "xaxis": "x",
         "y": {
          "bdata": "0iANUqKi7z8bvMF7v5zqP48jZCHnyek/2RZ05LiJ6D9eQuDhtwXmP2/8sX+bst4/WxSVw+eX3j+vmEVHQbDTPxREQdSDuck/YSNCm+zfwz/kiMIvhlC+P5QTzs3CmbI/",
          "dtype": "f8"
         },
         "yaxis": "y"
        },
        {
         "legendgroup": "pig2rat",
         "line": {
          "color": "#89CCED",
          "dash": "dot"
         },
         "mode": "lines",
         "name": "pig2rat",
         "showlegend": false,
         "text": "95 % CI mean: [0.48;0.51]",
         "type": "scatter",
         "x": [
          1.5,
          1.5
         ],
         "xaxis": "x",
         "y": [
          0.47572516725547886,
          0.5088595976950078
         ],
         "yaxis": "y"
        },
        {
         "legendgroup": "pig2rat",
         "line": {
          "color": "#89CCED"
         },
         "marker": {
          "size": 10,
          "symbol": "triangle-down-open"
         },
         "mode": "markers",
         "name": "pig2rat",
         "showlegend": false,
         "text": "95 % CI mean: [0.48;0.51]",
         "type": "scatter",
         "x": [
          1.5
         ],
         "xaxis": "x",
         "y": [
          0.47572516725547886
         ],
         "yaxis": "y"
        },
        {
         "legendgroup": "pig2rat",
         "line": {
          "color": "#89CCED"
         },
         "marker": {
          "size": 10,
          "symbol": "triangle-up-open"
         },
         "mode": "markers",
         "name": "pig2rat",
         "showlegend": false,
         "text": "95 % CI mean: [0.48;0.51]",
         "type": "scatter",
         "x": [
          1.5
         ],
         "xaxis": "x",
         "y": [
          0.5088595976950078
         ],
         "yaxis": "y"
        },
        {
         "legendgroup": "pig2rat",
         "line": {
          "color": "#89CCED",
          "dash": "solid"
         },
         "mode": "lines",
         "name": "pig2rat",
         "showlegend": false,
         "text": "95 % CI median: [0.44;0.51]",
         "type": "scatter",
         "x": [
          1.7,
          1.7
         ],
         "xaxis": "x",
         "y": [
          0.4422581833041644,
          0.5123394874799175
         ],
         "yaxis": "y"
        },
        {
         "legendgroup": "pig2rat",
         "line": {
          "color": "#89CCED"
         },
         "marker": {
          "size": 10,
          "symbol": "triangle-down"
         },
         "mode": "markers",
         "name": "pig2rat",
         "showlegend": false,
         "text": "95 % CI median: [0.44;0.51]",
         "type": "scatter",
         "x": [
          1.7
         ],
         "xaxis": "x",
         "y": [
          0.4422581833041644
         ],
         "yaxis": "y"
        },
        {
         "legendgroup": "pig2rat",
         "line": {
          "color": "#89CCED"
         },
         "marker": {
          "size": 10,
          "symbol": "triangle-up"
         },
         "mode": "markers",
         "name": "pig2rat",
         "showlegend": false,
         "text": "95 % CI median: [0.44;0.51]",
         "type": "scatter",
         "x": [
          1.7
         ],
         "xaxis": "x",
         "y": [
          0.5123394874799175
         ],
         "yaxis": "y"
        },
        {
         "legend": "legend",
         "legendgroup": "pig2human",
         "marker": {
          "color": "#DDCB76",
          "line": {
           "color": "black",
           "width": 1
          },
          "size": 9,
          "symbol": "diamond-tall"
         },
         "mode": "markers",
         "name": "background",
         "showlegend": false,
         "type": "scatter",
         "x": [
          2
         ],
         "xaxis": "x",
         "y": [
          0.8931438789165318
         ],
         "yaxis": "y"
        },
        {
         "legend": "legend",
         "legendgroup": "pig2human",
         "marker": {
          "color": "#DDCB76",
          "line": {
           "color": "black",
           "width": 1
          },
          "size": 9,
          "symbol": "star"
         },
         "mode": "markers",
         "name": "skin",
         "showlegend": false,
         "type": "scatter",
         "x": [
          2.0933333333333333
         ],
         "xaxis": "x",
         "y": [
          0.7601791671770298
         ],
         "yaxis": "y"
        },
        {
         "legend": "legend",
         "legendgroup": "pig2human",
         "marker": {
          "color": "#DDCB76",
          "line": {
           "color": "black",
           "width": 1
          },
          "size": 9,
          "symbol": "triangle-right"
         },
         "mode": "markers",
         "name": "lung",
         "showlegend": false,
         "type": "scatter",
         "x": [
          2.1866666666666665
         ],
         "xaxis": "x",
         "y": [
          0.6128867449094024
         ],
         "yaxis": "y"
        },
        {
         "legend": "legend",
         "legendgroup": "pig2human",
         "marker": {
          "color": "#DDCB76",
          "line": {
           "color": "black",
           "width": 1
          },
          "size": 9,
          "symbol": "triangle-left"
         },
         "mode": "markers",
         "name": "omentum",
         "showlegend": false,
         "type": "scatter",
         "x": [
          2.2800000000000002
         ],
         "xaxis": "x",
         "y": [
          0.5876641691561656
         ],
         "yaxis": "y"
        },
        {
         "legend": "legend",
         "legendgroup": "pig2human",
         "marker": {
          "color": "#DDCB76",
          "line": {
           "color": "black",
           "width": 1
          },
          "size": 9,
          "symbol": "circle"
         },
         "mode": "markers",
         "name": "stomach",
         "showlegend": false,
         "type": "scatter",
         "x": [
          2
         ],
         "xaxis": "x",
         "y": [
          0.491333364185137
         ],
         "yaxis": "y"
        },
        {
         "legend": "legend",
         "legendgroup": "pig2human",
         "marker": {
          "color": "#DDCB76",
          "line": {
           "color": "black",
           "width": 1
          },
          "size": 9,
          "symbol": "triangle-up"
         },
         "mode": "markers",
         "name": "kidney",
         "showlegend": false,
         "type": "scatter",
         "x": [
          2.0933333333333333
         ],
         "xaxis": "x",
         "y": [
          0.40413107841186935
         ],
         "yaxis": "y"
        },
        {
         "legend": "legend",
         "legendgroup": "pig2human",
         "marker": {
          "color": "#DDCB76",
          "line": {
           "color": "black",
           "width": 1
          },
          "size": 9,
          "symbol": "diamond-wide"
         },
         "mode": "markers",
         "name": "peritoneum",
         "showlegend": false,
         "type": "scatter",
         "x": [
          2.1866666666666665
         ],
         "xaxis": "x",
         "y": [
          0.34797153744923104
         ],
         "yaxis": "y"
        },
        {
         "legend": "legend",
         "legendgroup": "pig2human",
         "marker": {
          "color": "#DDCB76",
          "line": {
           "color": "black",
           "width": 1
          },
          "size": 9,
          "symbol": "triangle-down"
         },
         "mode": "markers",
         "name": "spleen",
         "showlegend": false,
         "type": "scatter",
         "x": [
          2.2800000000000002
         ],
         "xaxis": "x",
         "y": [
          0.3434207160569107
         ],
         "yaxis": "y"
        },
        {
         "legend": "legend",
         "legendgroup": "pig2human",
         "marker": {
          "color": "#DDCB76",
          "line": {
           "color": "black",
           "width": 1
          },
          "size": 9,
          "symbol": "diamond"
         },
         "mode": "markers",
         "name": "colon",
         "showlegend": false,
         "type": "scatter",
         "x": [
          2
         ],
         "xaxis": "x",
         "y": [
          0.29698603167119453
         ],
         "yaxis": "y"
        },
        {
         "legend": "legend",
         "legendgroup": "pig2human",
         "marker": {
          "color": "#DDCB76",
          "line": {
           "color": "black",
           "width": 1
          },
          "size": 9,
          "symbol": "square"
         },
         "mode": "markers",
         "name": "small_bowel",
         "showlegend": false,
         "type": "scatter",
         "x": [
          2.0933333333333333
         ],
         "xaxis": "x",
         "y": [
          0.254679873456854
         ],
         "yaxis": "y"
        },
        {
         "legend": "legend",
         "legendgroup": "pig2human",
         "marker": {
          "color": "#DDCB76",
          "line": {
           "color": "black",
           "width": 1
          },
          "size": 9,
          "symbol": "cross"
         },
         "mode": "markers",
         "name": "liver",
         "showlegend": false,
         "type": "scatter",
         "x": [
          2.1866666666666665
         ],
         "xaxis": "x",
         "y": [
          0.22388982560910117
         ],
         "yaxis": "y"
        },
        {
         "legend": "legend",
         "legendgroup": "pig2human",
         "marker": {
          "color": "#DDCB76",
          "line": {
           "color": "black",
           "width": 1
          },
          "size": 9,
          "symbol": "x"
         },
         "mode": "markers",
         "name": "pancreas",
         "showlegend": false,
         "type": "scatter",
         "x": [
          2.2800000000000002
         ],
         "xaxis": "x",
         "y": [
          0.06734250328632269
         ],
         "yaxis": "y"
        },
        {
         "boxmean": true,
         "boxpoints": false,
         "legend": "legend2",
         "legendgroup": "pig2human",
         "line": {
          "color": "#DDCB76"
         },
         "name": "pig2human",
         "showlegend": true,
         "type": "box",
         "x": [
          2.6,
          2.6,
          2.6,
          2.6,
          2.6,
          2.6,
          2.6,
          2.6,
          2.6,
          2.6,
          2.6,
          2.6
         ],
         "xaxis": "x",
         "y": {
          "bdata": "+DXSeKKU7D8LB8RCY1PoP3o1sanEnOM/19BxFiXO4j/t9qZ+AXLfP07gRJlI3dk/XiFSaSpF1j/w7g7imvrVP+hhWbPRAdM/M5Xcz6xM0D9L+XL7a6jMP/TaPrlbPbE/",
          "dtype": "f8"
         },
         "yaxis": "y"
        },
        {
         "legendgroup": "pig2human",
         "line": {
          "color": "#DDCB76",
          "dash": "dot"
         },
         "mode": "lines",
         "name": "pig2human",
         "showlegend": false,
         "text": "95 % CI mean: [0.41;0.47]",
         "type": "scatter",
         "x": [
          2.5,
          2.5
         ],
         "xaxis": "x",
         "y": [
          0.4126547578109482,
          0.46801827112970845
         ],
         "yaxis": "y"
        },
        {
         "legendgroup": "pig2human",
         "line": {
          "color": "#DDCB76"
         },
         "marker": {
          "size": 10,
          "symbol": "triangle-down-open"
         },
         "mode": "markers",
         "name": "pig2human",
         "showlegend": false,
         "text": "95 % CI mean: [0.41;0.47]",
         "type": "scatter",
         "x": [
          2.5
         ],
         "xaxis": "x",
         "y": [
          0.4126547578109482
         ],
         "yaxis": "y"
        },
        {
         "legendgroup": "pig2human",
         "line": {
          "color": "#DDCB76"
         },
         "marker": {
          "size": 10,
          "symbol": "triangle-up-open"
         },
         "mode": "markers",
         "name": "pig2human",
         "showlegend": false,
         "text": "95 % CI mean: [0.41;0.47]",
         "type": "scatter",
         "x": [
          2.5
         ],
         "xaxis": "x",
         "y": [
          0.46801827112970845
         ],
         "yaxis": "y"
        },
        {
         "legendgroup": "pig2human",
         "line": {
          "color": "#DDCB76",
          "dash": "solid"
         },
         "mode": "lines",
         "name": "pig2human",
         "showlegend": false,
         "text": "95 % CI median: [0.33;0.47]",
         "type": "scatter",
         "x": [
          2.7,
          2.7
         ],
         "xaxis": "x",
         "y": [
          0.33024946090499857,
          0.46584229340781125
         ],
         "yaxis": "y"
        },
        {
         "legendgroup": "pig2human",
         "line": {
          "color": "#DDCB76"
         },
         "marker": {
          "size": 10,
          "symbol": "triangle-down"
         },
         "mode": "markers",
         "name": "pig2human",
         "showlegend": false,
         "text": "95 % CI median: [0.33;0.47]",
         "type": "scatter",
         "x": [
          2.7
         ],
         "xaxis": "x",
         "y": [
          0.33024946090499857
         ],
         "yaxis": "y"
        },
        {
         "legendgroup": "pig2human",
         "line": {
          "color": "#DDCB76"
         },
         "marker": {
          "size": 10,
          "symbol": "triangle-up"
         },
         "mode": "markers",
         "name": "pig2human",
         "showlegend": false,
         "text": "95 % CI median: [0.33;0.47]",
         "type": "scatter",
         "x": [
          2.7
         ],
         "xaxis": "x",
         "y": [
          0.46584229340781125
         ],
         "yaxis": "y"
        },
        {
         "legend": "legend",
         "marker": {
          "color": "gray",
          "line": {
           "color": "black",
           "width": 1
          },
          "size": 9,
          "symbol": "circle"
         },
         "mode": "markers",
         "name": "stomach",
         "showlegend": false,
         "type": "scatter",
         "x": [
          null
         ],
         "xaxis": "x2",
         "y": [
          null
         ],
         "yaxis": "y2"
        },
        {
         "legend": "legend",
         "marker": {
          "color": "gray",
          "line": {
           "color": "black",
           "width": 1
          },
          "size": 9,
          "symbol": "square"
         },
         "mode": "markers",
         "name": "small_bowel",
         "showlegend": false,
         "type": "scatter",
         "x": [
          null
         ],
         "xaxis": "x2",
         "y": [
          null
         ],
         "yaxis": "y2"
        },
        {
         "legend": "legend",
         "marker": {
          "color": "gray",
          "line": {
           "color": "black",
           "width": 1
          },
          "size": 9,
          "symbol": "diamond"
         },
         "mode": "markers",
         "name": "colon",
         "showlegend": false,
         "type": "scatter",
         "x": [
          null
         ],
         "xaxis": "x2",
         "y": [
          null
         ],
         "yaxis": "y2"
        },
        {
         "legend": "legend",
         "marker": {
          "color": "gray",
          "line": {
           "color": "black",
           "width": 1
          },
          "size": 9,
          "symbol": "cross"
         },
         "mode": "markers",
         "name": "liver",
         "showlegend": false,
         "type": "scatter",
         "x": [
          null
         ],
         "xaxis": "x2",
         "y": [
          null
         ],
         "yaxis": "y2"
        },
        {
         "legend": "legend",
         "marker": {
          "color": "gray",
          "line": {
           "color": "black",
           "width": 1
          },
          "size": 9,
          "symbol": "x"
         },
         "mode": "markers",
         "name": "pancreas",
         "showlegend": false,
         "type": "scatter",
         "x": [
          null
         ],
         "xaxis": "x2",
         "y": [
          null
         ],
         "yaxis": "y2"
        },
        {
         "legend": "legend",
         "marker": {
          "color": "gray",
          "line": {
           "color": "black",
           "width": 1
          },
          "size": 9,
          "symbol": "triangle-up"
         },
         "mode": "markers",
         "name": "kidney",
         "showlegend": false,
         "type": "scatter",
         "x": [
          null
         ],
         "xaxis": "x2",
         "y": [
          null
         ],
         "yaxis": "y2"
        },
        {
         "legend": "legend",
         "marker": {
          "color": "gray",
          "line": {
           "color": "black",
           "width": 1
          },
          "size": 9,
          "symbol": "triangle-down"
         },
         "mode": "markers",
         "name": "spleen",
         "showlegend": false,
         "type": "scatter",
         "x": [
          null
         ],
         "xaxis": "x2",
         "y": [
          null
         ],
         "yaxis": "y2"
        },
        {
         "legend": "legend",
         "marker": {
          "color": "gray",
          "line": {
           "color": "black",
           "width": 1
          },
          "size": 9,
          "symbol": "triangle-left"
         },
         "mode": "markers",
         "name": "omentum",
         "showlegend": false,
         "type": "scatter",
         "x": [
          null
         ],
         "xaxis": "x2",
         "y": [
          null
         ],
         "yaxis": "y2"
        },
        {
         "legend": "legend",
         "marker": {
          "color": "gray",
          "line": {
           "color": "black",
           "width": 1
          },
          "size": 9,
          "symbol": "triangle-right"
         },
         "mode": "markers",
         "name": "lung",
         "showlegend": false,
         "type": "scatter",
         "x": [
          null
         ],
         "xaxis": "x2",
         "y": [
          null
         ],
         "yaxis": "y2"
        },
        {
         "legend": "legend",
         "marker": {
          "color": "gray",
          "line": {
           "color": "black",
           "width": 1
          },
          "size": 9,
          "symbol": "star"
         },
         "mode": "markers",
         "name": "skin",
         "showlegend": false,
         "type": "scatter",
         "x": [
          null
         ],
         "xaxis": "x2",
         "y": [
          null
         ],
         "yaxis": "y2"
        },
        {
         "legend": "legend",
         "marker": {
          "color": "gray",
          "line": {
           "color": "black",
           "width": 1
          },
          "size": 9,
          "symbol": "diamond-wide"
         },
         "mode": "markers",
         "name": "peritoneum",
         "showlegend": false,
         "type": "scatter",
         "x": [
          null
         ],
         "xaxis": "x2",
         "y": [
          null
         ],
         "yaxis": "y2"
        },
        {
         "legend": "legend",
         "marker": {
          "color": "gray",
          "line": {
           "color": "black",
           "width": 1
          },
          "size": 9,
          "symbol": "diamond-tall"
         },
         "mode": "markers",
         "name": "background",
         "showlegend": false,
         "type": "scatter",
         "x": [
          null
         ],
         "xaxis": "x2",
         "y": [
          null
         ],
         "yaxis": "y2"
        },
        {
         "legend": "legend",
         "legendgroup": "rat2rat",
         "marker": {
          "color": "#89CCED",
          "line": {
           "color": "black",
           "width": 1
          },
          "size": 9,
          "symbol": "triangle-right"
         },
         "mode": "markers",
         "name": "lung",
         "showlegend": false,
         "type": "scatter",
         "x": [
          0
         ],
         "xaxis": "x2",
         "y": [
          0.9976883362501096
         ],
         "yaxis": "y2"
        },
        {
         "legend": "legend",
         "legendgroup": "rat2rat",
         "marker": {
          "color": "#89CCED",
          "line": {
           "color": "black",
           "width": 1
          },
          "size": 9,
          "symbol": "diamond-tall"
         },
         "mode": "markers",
         "name": "background",
         "showlegend": false,
         "type": "scatter",
         "x": [
          0.09333333333333334
         ],
         "xaxis": "x2",
         "y": [
          0.9856789268217437
         ],
         "yaxis": "y2"
        },
        {
         "legend": "legend",
         "legendgroup": "rat2rat",
         "marker": {
          "color": "#89CCED",
          "line": {
           "color": "black",
           "width": 1
          },
          "size": 9,
          "symbol": "diamond-wide"
         },
         "mode": "markers",
         "name": "peritoneum",
         "showlegend": false,
         "type": "scatter",
         "x": [
          0.18666666666666668
         ],
         "xaxis": "x2",
         "y": [
          0.9818086741501555
         ],
         "yaxis": "y2"
        },
        {
         "legend": "legend",
         "legendgroup": "rat2rat",
         "marker": {
          "color": "#89CCED",
          "line": {
           "color": "black",
           "width": 1
          },
          "size": 9,
          "symbol": "triangle-up"
         },
         "mode": "markers",
         "name": "kidney",
         "showlegend": false,
         "type": "scatter",
         "x": [
          0.28
         ],
         "xaxis": "x2",
         "y": [
          0.9664866114274049
         ],
         "yaxis": "y2"
        },
        {
         "legend": "legend",
         "legendgroup": "rat2rat",
         "marker": {
          "color": "#89CCED",
          "line": {
           "color": "black",
           "width": 1
          },
          "size": 9,
          "symbol": "square"
         },
         "mode": "markers",
         "name": "small_bowel",
         "showlegend": false,
         "type": "scatter",
         "x": [
          0
         ],
         "xaxis": "x2",
         "y": [
          0.951204650236147
         ],
         "yaxis": "y2"
        },
        {
         "legend": "legend",
         "legendgroup": "rat2rat",
         "marker": {
          "color": "#89CCED",
          "line": {
           "color": "black",
           "width": 1
          },
          "size": 9,
          "symbol": "cross"
         },
         "mode": "markers",
         "name": "liver",
         "showlegend": false,
         "type": "scatter",
         "x": [
          0.09333333333333334
         ],
         "xaxis": "x2",
         "y": [
          0.930712023156027
         ],
         "yaxis": "y2"
        },
        {
         "legend": "legend",
         "legendgroup": "rat2rat",
         "marker": {
          "color": "#89CCED",
          "line": {
           "color": "black",
           "width": 1
          },
          "size": 9,
          "symbol": "star"
         },
         "mode": "markers",
         "name": "skin",
         "showlegend": false,
         "type": "scatter",
         "x": [
          0.18666666666666668
         ],
         "xaxis": "x2",
         "y": [
          0.9239342932772165
         ],
         "yaxis": "y2"
        },
        {
         "legend": "legend",
         "legendgroup": "rat2rat",
         "marker": {
          "color": "#89CCED",
          "line": {
           "color": "black",
           "width": 1
          },
          "size": 9,
          "symbol": "triangle-down"
         },
         "mode": "markers",
         "name": "spleen",
         "showlegend": false,
         "type": "scatter",
         "x": [
          0.28
         ],
         "xaxis": "x2",
         "y": [
          0.9044535149485129
         ],
         "yaxis": "y2"
        },
        {
         "legend": "legend",
         "legendgroup": "rat2rat",
         "marker": {
          "color": "#89CCED",
          "line": {
           "color": "black",
           "width": 1
          },
          "size": 9,
          "symbol": "circle"
         },
         "mode": "markers",
         "name": "stomach",
         "showlegend": false,
         "type": "scatter",
         "x": [
          0
         ],
         "xaxis": "x2",
         "y": [
          0.8647751136331447
         ],
         "yaxis": "y2"
        },
        {
         "legend": "legend",
         "legendgroup": "rat2rat",
         "marker": {
          "color": "#89CCED",
          "line": {
           "color": "black",
           "width": 1
          },
          "size": 9,
          "symbol": "triangle-left"
         },
         "mode": "markers",
         "name": "omentum",
         "showlegend": false,
         "type": "scatter",
         "x": [
          0.09333333333333334
         ],
         "xaxis": "x2",
         "y": [
          0.8282295157769682
         ],
         "yaxis": "y2"
        },
        {
         "legend": "legend",
         "legendgroup": "rat2rat",
         "marker": {
          "color": "#89CCED",
          "line": {
           "color": "black",
           "width": 1
          },
          "size": 9,
          "symbol": "diamond"
         },
         "mode": "markers",
         "name": "colon",
         "showlegend": false,
         "type": "scatter",
         "x": [
          0.18666666666666668
         ],
         "xaxis": "x2",
         "y": [
          0.8094864844304476
         ],
         "yaxis": "y2"
        },
        {
         "legend": "legend",
         "legendgroup": "rat2rat",
         "marker": {
          "color": "#89CCED",
          "line": {
           "color": "black",
           "width": 1
          },
          "size": 9,
          "symbol": "x"
         },
         "mode": "markers",
         "name": "pancreas",
         "showlegend": false,
         "type": "scatter",
         "x": [
          0.28
         ],
         "xaxis": "x2",
         "y": [
          0.6787031203835875
         ],
         "yaxis": "y2"
        },
        {
         "boxmean": true,
         "boxpoints": false,
         "legend": "legend2",
         "legendgroup": "rat2rat",
         "line": {
          "color": "#89CCED"
         },
         "name": "rat2rat",
         "showlegend": false,
         "type": "box",
         "x": [
          0.6,
          0.6,
          0.6,
          0.6,
          0.6,
          0.6,
          0.6,
          0.6,
          0.6,
          0.6,
          0.6,
          0.6
         ],
         "xaxis": "x2",
         "y": {
          "bdata": "l2/5FhDt7z/XyGGIrorvP+LtTAb6au8/NEiDVHXt7j/lJxK8RHDuP0dfrpRkyO0/numopt6Q7T90mG5/SPHsP4pe7ts8rOs/AQJ7L9uA6j9h2SUzUOfpP3uzN5vvt+U/",
          "dtype": "f8"
         },
         "yaxis": "y2"
        },
        {
         "legendgroup": "rat2rat",
         "line": {
          "color": "#89CCED",
          "dash": "dot"
         },
         "mode": "lines",
         "name": "rat2rat",
         "showlegend": false,
         "text": "95 % CI mean: [0.89;0.91]",
         "type": "scatter",
         "x": [
          0.5,
          0.5
         ],
         "xaxis": "x2",
         "y": [
          0.8909164699105535,
          0.9136335148911321
         ],
         "yaxis": "y2"
        },
        {
         "legendgroup": "rat2rat",
         "line": {
          "color": "#89CCED"
         },
         "marker": {
          "size": 10,
          "symbol": "triangle-down-open"
         },
         "mode": "markers",
         "name": "rat2rat",
         "showlegend": false,
         "text": "95 % CI mean: [0.89;0.91]",
         "type": "scatter",
         "x": [
          0.5
         ],
         "xaxis": "x2",
         "y": [
          0.8909164699105535
         ],
         "yaxis": "y2"
        },
        {
         "legendgroup": "rat2rat",
         "line": {
          "color": "#89CCED"
         },
         "marker": {
          "size": 10,
          "symbol": "triangle-up-open"
         },
         "mode": "markers",
         "name": "rat2rat",
         "showlegend": false,
         "text": "95 % CI mean: [0.89;0.91]",
         "type": "scatter",
         "x": [
          0.5
         ],
         "xaxis": "x2",
         "y": [
          0.9136335148911321
         ],
         "yaxis": "y2"
        },
        {
         "legendgroup": "rat2rat",
         "line": {
          "color": "#89CCED",
          "dash": "solid"
         },
         "mode": "lines",
         "name": "rat2rat",
         "showlegend": false,
         "text": "95 % CI median: [0.91;0.94]",
         "type": "scatter",
         "x": [
          0.7,
          0.7
         ],
         "xaxis": "x2",
         "y": [
          0.9146862969396741,
          0.9404203997859543
         ],
         "yaxis": "y2"
        },
        {
         "legendgroup": "rat2rat",
         "line": {
          "color": "#89CCED"
         },
         "marker": {
          "size": 10,
          "symbol": "triangle-down"
         },
         "mode": "markers",
         "name": "rat2rat",
         "showlegend": false,
         "text": "95 % CI median: [0.91;0.94]",
         "type": "scatter",
         "x": [
          0.7
         ],
         "xaxis": "x2",
         "y": [
          0.9146862969396741
         ],
         "yaxis": "y2"
        },
        {
         "legendgroup": "rat2rat",
         "line": {
          "color": "#89CCED"
         },
         "marker": {
          "size": 10,
          "symbol": "triangle-up"
         },
         "mode": "markers",
         "name": "rat2rat",
         "showlegend": false,
         "text": "95 % CI median: [0.91;0.94]",
         "type": "scatter",
         "x": [
          0.7
         ],
         "xaxis": "x2",
         "y": [
          0.9404203997859543
         ],
         "yaxis": "y2"
        },
        {
         "legend": "legend",
         "legendgroup": "rat2pig",
         "marker": {
          "color": "#44AA99",
          "line": {
           "color": "black",
           "width": 1
          },
          "size": 9,
          "symbol": "cross"
         },
         "mode": "markers",
         "name": "liver",
         "showlegend": false,
         "type": "scatter",
         "x": [
          1
         ],
         "xaxis": "x2",
         "y": [
          0.904012442288988
         ],
         "yaxis": "y2"
        },
        {
         "legend": "legend",
         "legendgroup": "rat2pig",
         "marker": {
          "color": "#44AA99",
          "line": {
           "color": "black",
           "width": 1
          },
          "size": 9,
          "symbol": "diamond-tall"
         },
         "mode": "markers",
         "name": "background",
         "showlegend": false,
         "type": "scatter",
         "x": [
          1.0933333333333333
         ],
         "xaxis": "x2",
         "y": [
          0.7920308987715156
         ],
         "yaxis": "y2"
        },
        {
         "legend": "legend",
         "legendgroup": "rat2pig",
         "marker": {
          "color": "#44AA99",
          "line": {
           "color": "black",
           "width": 1
          },
          "size": 9,
          "symbol": "square"
         },
         "mode": "markers",
         "name": "small_bowel",
         "showlegend": false,
         "type": "scatter",
         "x": [
          1.1866666666666668
         ],
         "xaxis": "x2",
         "y": [
          0.7509603423631653
         ],
         "yaxis": "y2"
        },
        {
         "legend": "legend",
         "legendgroup": "rat2pig",
         "marker": {
          "color": "#44AA99",
          "line": {
           "color": "black",
           "width": 1
          },
          "size": 9,
          "symbol": "triangle-down"
         },
         "mode": "markers",
         "name": "spleen",
         "showlegend": false,
         "type": "scatter",
         "x": [
          1.28
         ],
         "xaxis": "x2",
         "y": [
          0.7086873066474462
         ],
         "yaxis": "y2"
        },
        {
         "legend": "legend",
         "legendgroup": "rat2pig",
         "marker": {
          "color": "#44AA99",
          "line": {
           "color": "black",
           "width": 1
          },
          "size": 9,
          "symbol": "triangle-right"
         },
         "mode": "markers",
         "name": "lung",
         "showlegend": false,
         "type": "scatter",
         "x": [
          1
         ],
         "xaxis": "x2",
         "y": [
          0.5577273360156751
         ],
         "yaxis": "y2"
        },
        {
         "legend": "legend",
         "legendgroup": "rat2pig",
         "marker": {
          "color": "#44AA99",
          "line": {
           "color": "black",
           "width": 1
          },
          "size": 9,
          "symbol": "diamond"
         },
         "mode": "markers",
         "name": "colon",
         "showlegend": false,
         "type": "scatter",
         "x": [
          1.0933333333333333
         ],
         "xaxis": "x2",
         "y": [
          0.49831375168345
         ],
         "yaxis": "y2"
        },
        {
         "legend": "legend",
         "legendgroup": "rat2pig",
         "marker": {
          "color": "#44AA99",
          "line": {
           "color": "black",
           "width": 1
          },
          "size": 9,
          "symbol": "star"
         },
         "mode": "markers",
         "name": "skin",
         "showlegend": false,
         "type": "scatter",
         "x": [
          1.1866666666666668
         ],
         "xaxis": "x2",
         "y": [
          0.4948125321246597
         ],
         "yaxis": "y2"
        },
        {
         "legend": "legend",
         "legendgroup": "rat2pig",
         "marker": {
          "color": "#44AA99",
          "line": {
           "color": "black",
           "width": 1
          },
          "size": 9,
          "symbol": "x"
         },
         "mode": "markers",
         "name": "pancreas",
         "showlegend": false,
         "type": "scatter",
         "x": [
          1.28
         ],
         "xaxis": "x2",
         "y": [
          0.35734931918836776
         ],
         "yaxis": "y2"
        },
        {
         "legend": "legend",
         "legendgroup": "rat2pig",
         "marker": {
          "color": "#44AA99",
          "line": {
           "color": "black",
           "width": 1
          },
          "size": 9,
          "symbol": "diamond-wide"
         },
         "mode": "markers",
         "name": "peritoneum",
         "showlegend": false,
         "type": "scatter",
         "x": [
          1
         ],
         "xaxis": "x2",
         "y": [
          0.319881221796871
         ],
         "yaxis": "y2"
        },
        {
         "legend": "legend",
         "legendgroup": "rat2pig",
         "marker": {
          "color": "#44AA99",
          "line": {
           "color": "black",
           "width": 1
          },
          "size": 9,
          "symbol": "triangle-left"
         },
         "mode": "markers",
         "name": "omentum",
         "showlegend": false,
         "type": "scatter",
         "x": [
          1.0933333333333333
         ],
         "xaxis": "x2",
         "y": [
          0.1583581739498793
         ],
         "yaxis": "y2"
        },
        {
         "legend": "legend",
         "legendgroup": "rat2pig",
         "marker": {
          "color": "#44AA99",
          "line": {
           "color": "black",
           "width": 1
          },
          "size": 9,
          "symbol": "circle"
         },
         "mode": "markers",
         "name": "stomach",
         "showlegend": false,
         "type": "scatter",
         "x": [
          1.1866666666666668
         ],
         "xaxis": "x2",
         "y": [
          0.08947814759343234
         ],
         "yaxis": "y2"
        },
        {
         "legend": "legend",
         "legendgroup": "rat2pig",
         "marker": {
          "color": "#44AA99",
          "line": {
           "color": "black",
           "width": 1
          },
          "size": 9,
          "symbol": "triangle-up"
         },
         "mode": "markers",
         "name": "kidney",
         "showlegend": false,
         "type": "scatter",
         "x": [
          1.28
         ],
         "xaxis": "x2",
         "y": [
          0.009552446613849134
         ],
         "yaxis": "y2"
        },
        {
         "boxmean": true,
         "boxpoints": false,
         "legend": "legend2",
         "legendgroup": "rat2pig",
         "line": {
          "color": "#44AA99"
         },
         "name": "rat2pig",
         "showlegend": false,
         "type": "box",
         "x": [
          1.6,
          1.6,
          1.6,
          1.6,
          1.6,
          1.6,
          1.6,
          1.6,
          1.6,
          1.6,
          1.6,
          1.6
         ],
         "xaxis": "x2",
         "y": {
          "bdata": "hd1ZgKvt7D8JpfQuUVjpP0de4fvdB+g/7oOkAJGt5j+MuIj/5tjhP60oqFxf5N8/VBbILgKr3z+mXMqtz97WP502jhbveNQ/JaIVpRRFxD8C1p41Cui2P8IXba47kIM/",
          "dtype": "f8"
         },
         "yaxis": "y2"
        },
        {
         "legendgroup": "rat2pig",
         "line": {
          "color": "#44AA99",
          "dash": "dot"
         },
         "mode": "lines",
         "name": "rat2pig",
         "showlegend": false,
         "text": "95 % CI mean: [0.44;0.50]",
         "type": "scatter",
         "x": [
          1.5,
          1.5
         ],
         "xaxis": "x2",
         "y": [
          0.4382038769450295,
          0.5006256342194584
         ],
         "yaxis": "y2"
        },
        {
         "legendgroup": "rat2pig",
         "line": {
          "color": "#44AA99"
         },
         "marker": {
          "size": 10,
          "symbol": "triangle-down-open"
         },
         "mode": "markers",
         "name": "rat2pig",
         "showlegend": false,
         "text": "95 % CI mean: [0.44;0.50]",
         "type": "scatter",
         "x": [
          1.5
         ],
         "xaxis": "x2",
         "y": [
          0.4382038769450295
         ],
         "yaxis": "y2"
        },
        {
         "legendgroup": "rat2pig",
         "line": {
          "color": "#44AA99"
         },
         "marker": {
          "size": 10,
          "symbol": "triangle-up-open"
         },
         "mode": "markers",
         "name": "rat2pig",
         "showlegend": false,
         "text": "95 % CI mean: [0.44;0.50]",
         "type": "scatter",
         "x": [
          1.5
         ],
         "xaxis": "x2",
         "y": [
          0.5006256342194584
         ],
         "yaxis": "y2"
        },
        {
         "legendgroup": "rat2pig",
         "line": {
          "color": "#44AA99",
          "dash": "solid"
         },
         "mode": "lines",
         "name": "rat2pig",
         "showlegend": false,
         "text": "95 % CI median: [0.40;0.56]",
         "type": "scatter",
         "x": [
          1.7,
          1.7
         ],
         "xaxis": "x2",
         "y": [
          0.4001753601672757,
          0.5571277924942601
         ],
         "yaxis": "y2"
        },
        {
         "legendgroup": "rat2pig",
         "line": {
          "color": "#44AA99"
         },
         "marker": {
          "size": 10,
          "symbol": "triangle-down"
         },
         "mode": "markers",
         "name": "rat2pig",
         "showlegend": false,
         "text": "95 % CI median: [0.40;0.56]",
         "type": "scatter",
         "x": [
          1.7
         ],
         "xaxis": "x2",
         "y": [
          0.4001753601672757
         ],
         "yaxis": "y2"
        },
        {
         "legendgroup": "rat2pig",
         "line": {
          "color": "#44AA99"
         },
         "marker": {
          "size": 10,
          "symbol": "triangle-up"
         },
         "mode": "markers",
         "name": "rat2pig",
         "showlegend": false,
         "text": "95 % CI median: [0.40;0.56]",
         "type": "scatter",
         "x": [
          1.7
         ],
         "xaxis": "x2",
         "y": [
          0.5571277924942601
         ],
         "yaxis": "y2"
        },
        {
         "legend": "legend",
         "legendgroup": "rat2human",
         "marker": {
          "color": "#DDCB76",
          "line": {
           "color": "black",
           "width": 1
          },
          "size": 9,
          "symbol": "diamond-tall"
         },
         "mode": "markers",
         "name": "background",
         "showlegend": false,
         "type": "scatter",
         "x": [
          2
         ],
         "xaxis": "x2",
         "y": [
          0.8205095685400732
         ],
         "yaxis": "y2"
        },
        {
         "legend": "legend",
         "legendgroup": "rat2human",
         "marker": {
          "color": "#DDCB76",
          "line": {
           "color": "black",
           "width": 1
          },
          "size": 9,
          "symbol": "triangle-down"
         },
         "mode": "markers",
         "name": "spleen",
         "showlegend": false,
         "type": "scatter",
         "x": [
          2.0933333333333333
         ],
         "xaxis": "x2",
         "y": [
          0.6211896854064738
         ],
         "yaxis": "y2"
        },
        {
         "legend": "legend",
         "legendgroup": "rat2human",
         "marker": {
          "color": "#DDCB76",
          "line": {
           "color": "black",
           "width": 1
          },
          "size": 9,
          "symbol": "triangle-left"
         },
         "mode": "markers",
         "name": "omentum",
         "showlegend": false,
         "type": "scatter",
         "x": [
          2.1866666666666665
         ],
         "xaxis": "x2",
         "y": [
          0.5776697166056891
         ],
         "yaxis": "y2"
        },
        {
         "legend": "legend",
         "legendgroup": "rat2human",
         "marker": {
          "color": "#DDCB76",
          "line": {
           "color": "black",
           "width": 1
          },
          "size": 9,
          "symbol": "star"
         },
         "mode": "markers",
         "name": "skin",
         "showlegend": false,
         "type": "scatter",
         "x": [
          2.2800000000000002
         ],
         "xaxis": "x2",
         "y": [
          0.5598880548741237
         ],
         "yaxis": "y2"
        },
        {
         "legend": "legend",
         "legendgroup": "rat2human",
         "marker": {
          "color": "#DDCB76",
          "line": {
           "color": "black",
           "width": 1
          },
          "size": 9,
          "symbol": "square"
         },
         "mode": "markers",
         "name": "small_bowel",
         "showlegend": false,
         "type": "scatter",
         "x": [
          2
         ],
         "xaxis": "x2",
         "y": [
          0.4634234585972149
         ],
         "yaxis": "y2"
        },
        {
         "legend": "legend",
         "legendgroup": "rat2human",
         "marker": {
          "color": "#DDCB76",
          "line": {
           "color": "black",
           "width": 1
          },
          "size": 9,
          "symbol": "cross"
         },
         "mode": "markers",
         "name": "liver",
         "showlegend": false,
         "type": "scatter",
         "x": [
          2.0933333333333333
         ],
         "xaxis": "x2",
         "y": [
          0.43734400737490703
         ],
         "yaxis": "y2"
        },
        {
         "legend": "legend",
         "legendgroup": "rat2human",
         "marker": {
          "color": "#DDCB76",
          "line": {
           "color": "black",
           "width": 1
          },
          "size": 9,
          "symbol": "triangle-right"
         },
         "mode": "markers",
         "name": "lung",
         "showlegend": false,
         "type": "scatter",
         "x": [
          2.1866666666666665
         ],
         "xaxis": "x2",
         "y": [
          0.4098363009012408
         ],
         "yaxis": "y2"
        },
        {
         "legend": "legend",
         "legendgroup": "rat2human",
         "marker": {
          "color": "#DDCB76",
          "line": {
           "color": "black",
           "width": 1
          },
          "size": 9,
          "symbol": "diamond-wide"
         },
         "mode": "markers",
         "name": "peritoneum",
         "showlegend": false,
         "type": "scatter",
         "x": [
          2.2800000000000002
         ],
         "xaxis": "x2",
         "y": [
          0.1505212463272441
         ],
         "yaxis": "y2"
        },
        {
         "legend": "legend",
         "legendgroup": "rat2human",
         "marker": {
          "color": "#DDCB76",
          "line": {
           "color": "black",
           "width": 1
          },
          "size": 9,
          "symbol": "x"
         },
         "mode": "markers",
         "name": "pancreas",
         "showlegend": false,
         "type": "scatter",
         "x": [
          2
         ],
         "xaxis": "x2",
         "y": [
          0.06399467264688233
         ],
         "yaxis": "y2"
        },
        {
         "legend": "legend",
         "legendgroup": "rat2human",
         "marker": {
          "color": "#DDCB76",
          "line": {
           "color": "black",
           "width": 1
          },
          "size": 9,
          "symbol": "circle"
         },
         "mode": "markers",
         "name": "stomach",
         "showlegend": false,
         "type": "scatter",
         "x": [
          2.0933333333333333
         ],
         "xaxis": "x2",
         "y": [
          0.024325104402838554
         ],
         "yaxis": "y2"
        },
        {
         "legend": "legend",
         "legendgroup": "rat2human",
         "marker": {
          "color": "#DDCB76",
          "line": {
           "color": "black",
           "width": 1
          },
          "size": 9,
          "symbol": "diamond"
         },
         "mode": "markers",
         "name": "colon",
         "showlegend": false,
         "type": "scatter",
         "x": [
          2.1866666666666665
         ],
         "xaxis": "x2",
         "y": [
          0.0023763988214820417
         ],
         "yaxis": "y2"
        },
        {
         "legend": "legend",
         "legendgroup": "rat2human",
         "marker": {
          "color": "#DDCB76",
          "line": {
           "color": "black",
           "width": 1
          },
          "size": 9,
          "symbol": "triangle-up"
         },
         "mode": "markers",
         "name": "kidney",
         "showlegend": false,
         "type": "scatter",
         "x": [
          2.2800000000000002
         ],
         "xaxis": "x2",
         "y": [
          0.002326004158817341
         ],
         "yaxis": "y2"
        },
        {
         "boxmean": true,
         "boxpoints": false,
         "legend": "legend2",
         "legendgroup": "rat2human",
         "line": {
          "color": "#DDCB76"
         },
         "name": "rat2human",
         "showlegend": false,
         "type": "box",
         "x": [
          2.6,
          2.6,
          2.6,
          2.6,
          2.6,
          2.6,
          2.6,
          2.6,
          2.6,
          2.6,
          2.6,
          2.6
         ],
         "xaxis": "x2",
         "y": {
          "bdata": "8OhdSJ1B6j/e3e0wyeDjP7PAljNFfOI/j1+jWprq4T+u87fduqjdPzu3Mbhx/ds/imdFCcI62j/5ESq7R0TDP0L3InL0YbA/CCWHH67omD9rfA5nq3djPwAAXPn7DWM/",
          "dtype": "f8"
         },
         "yaxis": "y2"
        },
        {
         "legendgroup": "rat2human",
         "line": {
          "color": "#DDCB76",
          "dash": "dot"
         },
         "mode": "lines",
         "name": "rat2human",
         "showlegend": false,
         "text": "95 % CI mean: [0.32;0.37]",
         "type": "scatter",
         "x": [
          2.5,
          2.5
         ],
         "xaxis": "x2",
         "y": [
          0.3231039294190914,
          0.36632368678644
         ],
         "yaxis": "y2"
        },
        {
         "legendgroup": "rat2human",
         "line": {
          "color": "#DDCB76"
         },
         "marker": {
          "size": 10,
          "symbol": "triangle-down-open"
         },
         "mode": "markers",
         "name": "rat2human",
         "showlegend": false,
         "text": "95 % CI mean: [0.32;0.37]",
         "type": "scatter",
         "x": [
          2.5
         ],
         "xaxis": "x2",
         "y": [
          0.3231039294190914
         ],
         "yaxis": "y2"
        },
        {
         "legendgroup": "rat2human",
         "line": {
          "color": "#DDCB76"
         },
         "marker": {
          "size": 10,
          "symbol": "triangle-up-open"
         },
         "mode": "markers",
         "name": "rat2human",
         "showlegend": false,
         "text": "95 % CI mean: [0.32;0.37]",
         "type": "scatter",
         "x": [
          2.5
         ],
         "xaxis": "x2",
         "y": [
          0.36632368678644
         ],
         "yaxis": "y2"
        },
        {
         "legendgroup": "rat2human",
         "line": {
          "color": "#DDCB76",
          "dash": "solid"
         },
         "mode": "lines",
         "name": "rat2human",
         "showlegend": false,
         "text": "95 % CI median: [0.34;0.47]",
         "type": "scatter",
         "x": [
          2.7,
          2.7
         ],
         "xaxis": "x2",
         "y": [
          0.338246638081353,
          0.469441872512023
         ],
         "yaxis": "y2"
        },
        {
         "legendgroup": "rat2human",
         "line": {
          "color": "#DDCB76"
         },
         "marker": {
          "size": 10,
          "symbol": "triangle-down"
         },
         "mode": "markers",
         "name": "rat2human",
         "showlegend": false,
         "text": "95 % CI median: [0.34;0.47]",
         "type": "scatter",
         "x": [
          2.7
         ],
         "xaxis": "x2",
         "y": [
          0.338246638081353
         ],
         "yaxis": "y2"
        },
        {
         "legendgroup": "rat2human",
         "line": {
          "color": "#DDCB76"
         },
         "marker": {
          "size": 10,
          "symbol": "triangle-up"
         },
         "mode": "markers",
         "name": "rat2human",
         "showlegend": false,
         "text": "95 % CI median: [0.34;0.47]",
         "type": "scatter",
         "x": [
          2.7
         ],
         "xaxis": "x2",
         "y": [
          0.469441872512023
         ],
         "yaxis": "y2"
        },
        {
         "legend": "legend",
         "marker": {
          "color": "gray",
          "line": {
           "color": "black",
           "width": 1
          },
          "size": 9,
          "symbol": "circle"
         },
         "mode": "markers",
         "name": "stomach",
         "showlegend": false,
         "type": "scatter",
         "x": [
          null
         ],
         "xaxis": "x3",
         "y": [
          null
         ],
         "yaxis": "y3"
        },
        {
         "legend": "legend",
         "marker": {
          "color": "gray",
          "line": {
           "color": "black",
           "width": 1
          },
          "size": 9,
          "symbol": "square"
         },
         "mode": "markers",
         "name": "small_bowel",
         "showlegend": false,
         "type": "scatter",
         "x": [
          null
         ],
         "xaxis": "x3",
         "y": [
          null
         ],
         "yaxis": "y3"
        },
        {
         "legend": "legend",
         "marker": {
          "color": "gray",
          "line": {
           "color": "black",
           "width": 1
          },
          "size": 9,
          "symbol": "diamond"
         },
         "mode": "markers",
         "name": "colon",
         "showlegend": false,
         "type": "scatter",
         "x": [
          null
         ],
         "xaxis": "x3",
         "y": [
          null
         ],
         "yaxis": "y3"
        },
        {
         "legend": "legend",
         "marker": {
          "color": "gray",
          "line": {
           "color": "black",
           "width": 1
          },
          "size": 9,
          "symbol": "cross"
         },
         "mode": "markers",
         "name": "liver",
         "showlegend": false,
         "type": "scatter",
         "x": [
          null
         ],
         "xaxis": "x3",
         "y": [
          null
         ],
         "yaxis": "y3"
        },
        {
         "legend": "legend",
         "marker": {
          "color": "gray",
          "line": {
           "color": "black",
           "width": 1
          },
          "size": 9,
          "symbol": "x"
         },
         "mode": "markers",
         "name": "pancreas",
         "showlegend": false,
         "type": "scatter",
         "x": [
          null
         ],
         "xaxis": "x3",
         "y": [
          null
         ],
         "yaxis": "y3"
        },
        {
         "legend": "legend",
         "marker": {
          "color": "gray",
          "line": {
           "color": "black",
           "width": 1
          },
          "size": 9,
          "symbol": "triangle-up"
         },
         "mode": "markers",
         "name": "kidney",
         "showlegend": false,
         "type": "scatter",
         "x": [
          null
         ],
         "xaxis": "x3",
         "y": [
          null
         ],
         "yaxis": "y3"
        },
        {
         "legend": "legend",
         "marker": {
          "color": "gray",
          "line": {
           "color": "black",
           "width": 1
          },
          "size": 9,
          "symbol": "triangle-down"
         },
         "mode": "markers",
         "name": "spleen",
         "showlegend": false,
         "type": "scatter",
         "x": [
          null
         ],
         "xaxis": "x3",
         "y": [
          null
         ],
         "yaxis": "y3"
        },
        {
         "legend": "legend",
         "marker": {
          "color": "gray",
          "line": {
           "color": "black",
           "width": 1
          },
          "size": 9,
          "symbol": "triangle-left"
         },
         "mode": "markers",
         "name": "omentum",
         "showlegend": false,
         "type": "scatter",
         "x": [
          null
         ],
         "xaxis": "x3",
         "y": [
          null
         ],
         "yaxis": "y3"
        },
        {
         "legend": "legend",
         "marker": {
          "color": "gray",
          "line": {
           "color": "black",
           "width": 1
          },
          "size": 9,
          "symbol": "triangle-right"
         },
         "mode": "markers",
         "name": "lung",
         "showlegend": false,
         "type": "scatter",
         "x": [
          null
         ],
         "xaxis": "x3",
         "y": [
          null
         ],
         "yaxis": "y3"
        },
        {
         "legend": "legend",
         "marker": {
          "color": "gray",
          "line": {
           "color": "black",
           "width": 1
          },
          "size": 9,
          "symbol": "star"
         },
         "mode": "markers",
         "name": "skin",
         "showlegend": false,
         "type": "scatter",
         "x": [
          null
         ],
         "xaxis": "x3",
         "y": [
          null
         ],
         "yaxis": "y3"
        },
        {
         "legend": "legend",
         "marker": {
          "color": "gray",
          "line": {
           "color": "black",
           "width": 1
          },
          "size": 9,
          "symbol": "diamond-wide"
         },
         "mode": "markers",
         "name": "peritoneum",
         "showlegend": false,
         "type": "scatter",
         "x": [
          null
         ],
         "xaxis": "x3",
         "y": [
          null
         ],
         "yaxis": "y3"
        },
        {
         "legend": "legend",
         "marker": {
          "color": "gray",
          "line": {
           "color": "black",
           "width": 1
          },
          "size": 9,
          "symbol": "diamond-tall"
         },
         "mode": "markers",
         "name": "background",
         "showlegend": false,
         "type": "scatter",
         "x": [
          null
         ],
         "xaxis": "x3",
         "y": [
          null
         ],
         "yaxis": "y3"
        },
        {
         "legend": "legend",
         "legendgroup": "human2human",
         "marker": {
          "color": "#DDCB76",
          "line": {
           "color": "black",
           "width": 1
          },
          "size": 9,
          "symbol": "diamond-tall"
         },
         "mode": "markers",
         "name": "background",
         "showlegend": false,
         "type": "scatter",
         "x": [
          0
         ],
         "xaxis": "x3",
         "y": [
          0.9860373035256218
         ],
         "yaxis": "y3"
        },
        {
         "legend": "legend",
         "legendgroup": "human2human",
         "marker": {
          "color": "#DDCB76",
          "line": {
           "color": "black",
           "width": 1
          },
          "size": 9,
          "symbol": "triangle-up"
         },
         "mode": "markers",
         "name": "kidney",
         "showlegend": false,
         "type": "scatter",
         "x": [
          0.09333333333333334
         ],
         "xaxis": "x3",
         "y": [
          0.9531400355199973
         ],
         "yaxis": "y3"
        },
        {
         "legend": "legend",
         "legendgroup": "human2human",
         "marker": {
          "color": "#DDCB76",
          "line": {
           "color": "black",
           "width": 1
          },
          "size": 9,
          "symbol": "cross"
         },
         "mode": "markers",
         "name": "liver",
         "showlegend": false,
         "type": "scatter",
         "x": [
          0.18666666666666668
         ],
         "xaxis": "x3",
         "y": [
          0.9341440364699393
         ],
         "yaxis": "y3"
        },
        {
         "legend": "legend",
         "legendgroup": "human2human",
         "marker": {
          "color": "#DDCB76",
          "line": {
           "color": "black",
           "width": 1
          },
          "size": 9,
          "symbol": "triangle-left"
         },
         "mode": "markers",
         "name": "omentum",
         "showlegend": false,
         "type": "scatter",
         "x": [
          0.28
         ],
         "xaxis": "x3",
         "y": [
          0.8878672347019656
         ],
         "yaxis": "y3"
        },
        {
         "legend": "legend",
         "legendgroup": "human2human",
         "marker": {
          "color": "#DDCB76",
          "line": {
           "color": "black",
           "width": 1
          },
          "size": 9,
          "symbol": "star"
         },
         "mode": "markers",
         "name": "skin",
         "showlegend": false,
         "type": "scatter",
         "x": [
          0
         ],
         "xaxis": "x3",
         "y": [
          0.8108857959518753
         ],
         "yaxis": "y3"
        },
        {
         "legend": "legend",
         "legendgroup": "human2human",
         "marker": {
          "color": "#DDCB76",
          "line": {
           "color": "black",
           "width": 1
          },
          "size": 9,
          "symbol": "triangle-right"
         },
         "mode": "markers",
         "name": "lung",
         "showlegend": false,
         "type": "scatter",
         "x": [
          0.09333333333333334
         ],
         "xaxis": "x3",
         "y": [
          0.8108777288595835
         ],
         "yaxis": "y3"
        },
        {
         "legend": "legend",
         "legendgroup": "human2human",
         "marker": {
          "color": "#DDCB76",
          "line": {
           "color": "black",
           "width": 1
          },
          "size": 9,
          "symbol": "square"
         },
         "mode": "markers",
         "name": "small_bowel",
         "showlegend": false,
         "type": "scatter",
         "x": [
          0.18666666666666668
         ],
         "xaxis": "x3",
         "y": [
          0.7951855261379918
         ],
         "yaxis": "y3"
        },
        {
         "legend": "legend",
         "legendgroup": "human2human",
         "marker": {
          "color": "#DDCB76",
          "line": {
           "color": "black",
           "width": 1
          },
          "size": 9,
          "symbol": "circle"
         },
         "mode": "markers",
         "name": "stomach",
         "showlegend": false,
         "type": "scatter",
         "x": [
          0.28
         ],
         "xaxis": "x3",
         "y": [
          0.7634115777827932
         ],
         "yaxis": "y3"
        },
        {
         "legend": "legend",
         "legendgroup": "human2human",
         "marker": {
          "color": "#DDCB76",
          "line": {
           "color": "black",
           "width": 1
          },
          "size": 9,
          "symbol": "diamond"
         },
         "mode": "markers",
         "name": "colon",
         "showlegend": false,
         "type": "scatter",
         "x": [
          0
         ],
         "xaxis": "x3",
         "y": [
          0.7506586656924346
         ],
         "yaxis": "y3"
        },
        {
         "legend": "legend",
         "legendgroup": "human2human",
         "marker": {
          "color": "#DDCB76",
          "line": {
           "color": "black",
           "width": 1
          },
          "size": 9,
          "symbol": "triangle-down"
         },
         "mode": "markers",
         "name": "spleen",
         "showlegend": false,
         "type": "scatter",
         "x": [
          0.09333333333333334
         ],
         "xaxis": "x3",
         "y": [
          0.687429531912009
         ],
         "yaxis": "y3"
        },
        {
         "legend": "legend",
         "legendgroup": "human2human",
         "marker": {
          "color": "#DDCB76",
          "line": {
           "color": "black",
           "width": 1
          },
          "size": 9,
          "symbol": "diamond-wide"
         },
         "mode": "markers",
         "name": "peritoneum",
         "showlegend": false,
         "type": "scatter",
         "x": [
          0.18666666666666668
         ],
         "xaxis": "x3",
         "y": [
          0.5273481482384251
         ],
         "yaxis": "y3"
        },
        {
         "legend": "legend",
         "legendgroup": "human2human",
         "marker": {
          "color": "#DDCB76",
          "line": {
           "color": "black",
           "width": 1
          },
          "size": 9,
          "symbol": "x"
         },
         "mode": "markers",
         "name": "pancreas",
         "showlegend": false,
         "type": "scatter",
         "x": [
          0.28
         ],
         "xaxis": "x3",
         "y": [
          0.4158338566796376
         ],
         "yaxis": "y3"
        },
        {
         "boxmean": true,
         "boxpoints": false,
         "legend": "legend2",
         "legendgroup": "human2human",
         "line": {
          "color": "#DDCB76"
         },
         "name": "human2human",
         "showlegend": false,
         "type": "box",
         "x": [
          0.6,
          0.6,
          0.6,
          0.6,
          0.6,
          0.6,
          0.6,
          0.6,
          0.6,
          0.6,
          0.6,
          0.6
         ],
         "xaxis": "x3",
         "y": {
          "bdata": "DupoGp6N7z8iIiKIH4DuP8uJzAiC5O0/SoQHjGhp7D9778zExvLpP5020Nm18uk/v3yg6ihy6T8c4P4d3m3oP8R0c1JlBeg/vLu7N2z/5T9JSUk5CeDgP9GMwJsFndo/",
          "dtype": "f8"
         },
         "yaxis": "y3"
        },
        {
         "legendgroup": "human2human",
         "line": {
          "color": "#DDCB76",
          "dash": "dot"
         },
         "mode": "lines",
         "name": "human2human",
         "showlegend": false,
         "text": "95 % CI mean: [0.75;0.80]",
         "type": "scatter",
         "x": [
          0.5,
          0.5
         ],
         "xaxis": "x3",
         "y": [
          0.7497759031651031,
          0.8020421043527042
         ],
         "yaxis": "y3"
        },
        {
         "legendgroup": "human2human",
         "line": {
          "color": "#DDCB76"
         },
         "marker": {
          "size": 10,
          "symbol": "triangle-down-open"
         },
         "mode": "markers",
         "name": "human2human",
         "showlegend": false,
         "text": "95 % CI mean: [0.75;0.80]",
         "type": "scatter",
         "x": [
          0.5
         ],
         "xaxis": "x3",
         "y": [
          0.7497759031651031
         ],
         "yaxis": "y3"
        },
        {
         "legendgroup": "human2human",
         "line": {
          "color": "#DDCB76"
         },
         "marker": {
          "size": 10,
          "symbol": "triangle-up-open"
         },
         "mode": "markers",
         "name": "human2human",
         "showlegend": false,
         "text": "95 % CI mean: [0.75;0.80]",
         "type": "scatter",
         "x": [
          0.5
         ],
         "xaxis": "x3",
         "y": [
          0.8020421043527042
         ],
         "yaxis": "y3"
        },
        {
         "legendgroup": "human2human",
         "line": {
          "color": "#DDCB76",
          "dash": "solid"
         },
         "mode": "lines",
         "name": "human2human",
         "showlegend": false,
         "text": "95 % CI median: [0.76;0.84]",
         "type": "scatter",
         "x": [
          0.7,
          0.7
         ],
         "xaxis": "x3",
         "y": [
          0.7620565243248654,
          0.8372512884938326
         ],
         "yaxis": "y3"
        },
        {
         "legendgroup": "human2human",
         "line": {
          "color": "#DDCB76"
         },
         "marker": {
          "size": 10,
          "symbol": "triangle-down"
         },
         "mode": "markers",
         "name": "human2human",
         "showlegend": false,
         "text": "95 % CI median: [0.76;0.84]",
         "type": "scatter",
         "x": [
          0.7
         ],
         "xaxis": "x3",
         "y": [
          0.7620565243248654
         ],
         "yaxis": "y3"
        },
        {
         "legendgroup": "human2human",
         "line": {
          "color": "#DDCB76"
         },
         "marker": {
          "size": 10,
          "symbol": "triangle-up"
         },
         "mode": "markers",
         "name": "human2human",
         "showlegend": false,
         "text": "95 % CI median: [0.76;0.84]",
         "type": "scatter",
         "x": [
          0.7
         ],
         "xaxis": "x3",
         "y": [
          0.8372512884938326
         ],
         "yaxis": "y3"
        },
        {
         "legend": "legend",
         "legendgroup": "pig-p+rat-p2human2human",
         "marker": {
          "color": "#DDCB76",
          "line": {
           "color": "black",
           "width": 1
          },
          "size": 9,
          "symbol": "diamond-tall"
         },
         "mode": "markers",
         "name": "background",
         "showlegend": false,
         "type": "scatter",
         "x": [
          1
         ],
         "xaxis": "x3",
         "y": [
          0.9863258019100002
         ],
         "yaxis": "y3"
        },
        {
         "legend": "legend",
         "legendgroup": "pig-p+rat-p2human2human",
         "marker": {
          "color": "#DDCB76",
          "line": {
           "color": "black",
           "width": 1
          },
          "size": 9,
          "symbol": "triangle-up"
         },
         "mode": "markers",
         "name": "kidney",
         "showlegend": false,
         "type": "scatter",
         "x": [
          1.0933333333333333
         ],
         "xaxis": "x3",
         "y": [
          0.9544695308391666
         ],
         "yaxis": "y3"
        },
        {
         "legend": "legend",
         "legendgroup": "pig-p+rat-p2human2human",
         "marker": {
          "color": "#DDCB76",
          "line": {
           "color": "black",
           "width": 1
          },
          "size": 9,
          "symbol": "cross"
         },
         "mode": "markers",
         "name": "liver",
         "showlegend": false,
         "type": "scatter",
         "x": [
          1.1866666666666668
         ],
         "xaxis": "x3",
         "y": [
          0.9269499498609552
         ],
         "yaxis": "y3"
        },
        {
         "legend": "legend",
         "legendgroup": "pig-p+rat-p2human2human",
         "marker": {
          "color": "#DDCB76",
          "line": {
           "color": "black",
           "width": 1
          },
          "size": 9,
          "symbol": "triangle-left"
         },
         "mode": "markers",
         "name": "omentum",
         "showlegend": false,
         "type": "scatter",
         "x": [
          1.28
         ],
         "xaxis": "x3",
         "y": [
          0.8840046021681592
         ],
         "yaxis": "y3"
        },
        {
         "legend": "legend",
         "legendgroup": "pig-p+rat-p2human2human",
         "marker": {
          "color": "#DDCB76",
          "line": {
           "color": "black",
           "width": 1
          },
          "size": 9,
          "symbol": "triangle-right"
         },
         "mode": "markers",
         "name": "lung",
         "showlegend": false,
         "type": "scatter",
         "x": [
          1
         ],
         "xaxis": "x3",
         "y": [
          0.8523418141735923
         ],
         "yaxis": "y3"
        },
        {
         "legend": "legend",
         "legendgroup": "pig-p+rat-p2human2human",
         "marker": {
          "color": "#DDCB76",
          "line": {
           "color": "black",
           "width": 1
          },
          "size": 9,
          "symbol": "star"
         },
         "mode": "markers",
         "name": "skin",
         "showlegend": false,
         "type": "scatter",
         "x": [
          1.0933333333333333
         ],
         "xaxis": "x3",
         "y": [
          0.8101517377051737
         ],
         "yaxis": "y3"
        },
        {
         "legend": "legend",
         "legendgroup": "pig-p+rat-p2human2human",
         "marker": {
          "color": "#DDCB76",
          "line": {
           "color": "black",
           "width": 1
          },
          "size": 9,
          "symbol": "square"
         },
         "mode": "markers",
         "name": "small_bowel",
         "showlegend": false,
         "type": "scatter",
         "x": [
          1.1866666666666668
         ],
         "xaxis": "x3",
         "y": [
          0.784778074623416
         ],
         "yaxis": "y3"
        },
        {
         "legend": "legend",
         "legendgroup": "pig-p+rat-p2human2human",
         "marker": {
          "color": "#DDCB76",
          "line": {
           "color": "black",
           "width": 1
          },
          "size": 9,
          "symbol": "circle"
         },
         "mode": "markers",
         "name": "stomach",
         "showlegend": false,
         "type": "scatter",
         "x": [
          1.28
         ],
         "xaxis": "x3",
         "y": [
          0.7511452077138043
         ],
         "yaxis": "y3"
        },
        {
         "legend": "legend",
         "legendgroup": "pig-p+rat-p2human2human",
         "marker": {
          "color": "#DDCB76",
          "line": {
           "color": "black",
           "width": 1
          },
          "size": 9,
          "symbol": "diamond"
         },
         "mode": "markers",
         "name": "colon",
         "showlegend": false,
         "type": "scatter",
         "x": [
          1
         ],
         "xaxis": "x3",
         "y": [
          0.7248171756851872
         ],
         "yaxis": "y3"
        },
        {
         "legend": "legend",
         "legendgroup": "pig-p+rat-p2human2human",
         "marker": {
          "color": "#DDCB76",
          "line": {
           "color": "black",
           "width": 1
          },
          "size": 9,
          "symbol": "triangle-down"
         },
         "mode": "markers",
         "name": "spleen",
         "showlegend": false,
         "type": "scatter",
         "x": [
          1.0933333333333333
         ],
         "xaxis": "x3",
         "y": [
          0.7204479306315381
         ],
         "yaxis": "y3"
        },
        {
         "legend": "legend",
         "legendgroup": "pig-p+rat-p2human2human",
         "marker": {
          "color": "#DDCB76",
          "line": {
           "color": "black",
           "width": 1
          },
          "size": 9,
          "symbol": "diamond-wide"
         },
         "mode": "markers",
         "name": "peritoneum",
         "showlegend": false,
         "type": "scatter",
         "x": [
          1.1866666666666668
         ],
         "xaxis": "x3",
         "y": [
          0.6139724179615382
         ],
         "yaxis": "y3"
        },
        {
         "legend": "legend",
         "legendgroup": "pig-p+rat-p2human2human",
         "marker": {
          "color": "#DDCB76",
          "line": {
           "color": "black",
           "width": 1
          },
          "size": 9,
          "symbol": "x"
         },
         "mode": "markers",
         "name": "pancreas",
         "showlegend": false,
         "type": "scatter",
         "x": [
          1.28
         ],
         "xaxis": "x3",
         "y": [
          0.4717370926053127
         ],
         "yaxis": "y3"
        },
        {
         "boxmean": true,
         "boxpoints": false,
         "legend": "legend2",
         "legendgroup": "pig-p+rat-p2human2human",
         "line": {
          "color": "#DDCB76"
         },
         "name": "pig-p+rat-p2human2human",
         "showlegend": false,
         "type": "box",
         "x": [
          1.6,
          1.6,
          1.6,
          1.6,
          1.6,
          1.6,
          1.6,
          1.6,
          1.6,
          1.6,
          1.6,
          1.6
         ],
         "xaxis": "x3",
         "y": {
          "bdata": "DfHMIPuP7z8mcn+vA4vuPwTQ9fCSqe0/a2z6BMRJ7D/GcRxXYkbrP6i4R1bD7Ok/bwOk6OYc6T9+sbWsYQnoP/GzJMqzMec/EBGR0egN5z+kTvl7qaXjPz4yQ8bwMN4/",
          "dtype": "f8"
         },
         "yaxis": "y3"
        },
        {
         "legendgroup": "pig-p+rat-p2human2human",
         "line": {
          "color": "#DDCB76",
          "dash": "dot"
         },
         "mode": "lines",
         "name": "pig-p+rat-p2human2human",
         "showlegend": false,
         "text": "95 % CI mean: [0.77;0.81]",
         "type": "scatter",
         "x": [
          1.5,
          1.5
         ],
         "xaxis": "x3",
         "y": [
          0.7669185604487239,
          0.8102605197430315
         ],
         "yaxis": "y3"
        },
        {
         "legendgroup": "pig-p+rat-p2human2human",
         "line": {
          "color": "#DDCB76"
         },
         "marker": {
          "size": 10,
          "symbol": "triangle-down-open"
         },
         "mode": "markers",
         "name": "pig-p+rat-p2human2human",
         "showlegend": false,
         "text": "95 % CI mean: [0.77;0.81]",
         "type": "scatter",
         "x": [
          1.5
         ],
         "xaxis": "x3",
         "y": [
          0.7669185604487239
         ],
         "yaxis": "y3"
        },
        {
         "legendgroup": "pig-p+rat-p2human2human",
         "line": {
          "color": "#DDCB76"
         },
         "marker": {
          "size": 10,
          "symbol": "triangle-up-open"
         },
         "mode": "markers",
         "name": "pig-p+rat-p2human2human",
         "showlegend": false,
         "text": "95 % CI mean: [0.77;0.81]",
         "type": "scatter",
         "x": [
          1.5
         ],
         "xaxis": "x3",
         "y": [
          0.8102605197430315
         ],
         "yaxis": "y3"
        },
        {
         "legendgroup": "pig-p+rat-p2human2human",
         "line": {
          "color": "#DDCB76",
          "dash": "solid"
         },
         "mode": "lines",
         "name": "pig-p+rat-p2human2human",
         "showlegend": false,
         "text": "95 % CI median: [0.77;0.84]",
         "type": "scatter",
         "x": [
          1.7,
          1.7
         ],
         "xaxis": "x3",
         "y": [
          0.76527911567469,
          0.8384689587028541
         ],
         "yaxis": "y3"
        },
        {
         "legendgroup": "pig-p+rat-p2human2human",
         "line": {
          "color": "#DDCB76"
         },
         "marker": {
          "size": 10,
          "symbol": "triangle-down"
         },
         "mode": "markers",
         "name": "pig-p+rat-p2human2human",
         "showlegend": false,
         "text": "95 % CI median: [0.77;0.84]",
         "type": "scatter",
         "x": [
          1.7
         ],
         "xaxis": "x3",
         "y": [
          0.76527911567469
         ],
         "yaxis": "y3"
        },
        {
         "legendgroup": "pig-p+rat-p2human2human",
         "line": {
          "color": "#DDCB76"
         },
         "marker": {
          "size": 10,
          "symbol": "triangle-up"
         },
         "mode": "markers",
         "name": "pig-p+rat-p2human2human",
         "showlegend": false,
         "text": "95 % CI median: [0.77;0.84]",
         "type": "scatter",
         "x": [
          1.7
         ],
         "xaxis": "x3",
         "y": [
          0.8384689587028541
         ],
         "yaxis": "y3"
        }
       ],
       "layout": {
        "font": {
         "family": "Libertinus Sans",
         "size": 16
        },
        "height": 400,
        "legend": {
         "orientation": "h",
         "title": {},
         "x": 0.2,
         "xanchor": "center",
         "y": 1.05,
         "yanchor": "bottom"
        },
        "legend2": {
         "orientation": "h",
         "title": {},
         "x": 0.8,
         "xanchor": "center",
         "y": 1.05,
         "yanchor": "bottom"
        },
        "margin": {
         "b": 0,
         "l": 0,
         "r": 0,
         "t": 0
        },
        "showlegend": false,
        "template": {
         "data": {
          "bar": [
           {
            "error_x": {
             "color": "#2a3f5f"
            },
            "error_y": {
             "color": "#2a3f5f"
            },
            "marker": {
             "line": {
              "color": "white",
              "width": 0.5
             },
             "pattern": {
              "fillmode": "overlay",
              "size": 10,
              "solidity": 0.2
             }
            },
            "type": "bar"
           }
          ],
          "barpolar": [
           {
            "marker": {
             "line": {
              "color": "white",
              "width": 0.5
             },
             "pattern": {
              "fillmode": "overlay",
              "size": 10,
              "solidity": 0.2
             }
            },
            "type": "barpolar"
           }
          ],
          "carpet": [
           {
            "aaxis": {
             "endlinecolor": "#2a3f5f",
             "gridcolor": "#C8D4E3",
             "linecolor": "#C8D4E3",
             "minorgridcolor": "#C8D4E3",
             "startlinecolor": "#2a3f5f"
            },
            "baxis": {
             "endlinecolor": "#2a3f5f",
             "gridcolor": "#C8D4E3",
             "linecolor": "#C8D4E3",
             "minorgridcolor": "#C8D4E3",
             "startlinecolor": "#2a3f5f"
            },
            "type": "carpet"
           }
          ],
          "choropleth": [
           {
            "colorbar": {
             "outlinewidth": 0,
             "ticks": ""
            },
            "type": "choropleth"
           }
          ],
          "contour": [
           {
            "colorbar": {
             "outlinewidth": 0,
             "ticks": ""
            },
            "colorscale": [
             [
              0,
              "#0d0887"
             ],
             [
              0.1111111111111111,
              "#46039f"
             ],
             [
              0.2222222222222222,
              "#7201a8"
             ],
             [
              0.3333333333333333,
              "#9c179e"
             ],
             [
              0.4444444444444444,
              "#bd3786"
             ],
             [
              0.5555555555555556,
              "#d8576b"
             ],
             [
              0.6666666666666666,
              "#ed7953"
             ],
             [
              0.7777777777777778,
              "#fb9f3a"
             ],
             [
              0.8888888888888888,
              "#fdca26"
             ],
             [
              1,
              "#f0f921"
             ]
            ],
            "type": "contour"
           }
          ],
          "contourcarpet": [
           {
            "colorbar": {
             "outlinewidth": 0,
             "ticks": ""
            },
            "type": "contourcarpet"
           }
          ],
          "heatmap": [
           {
            "colorbar": {
             "outlinewidth": 0,
             "ticks": ""
            },
            "colorscale": [
             [
              0,
              "#0d0887"
             ],
             [
              0.1111111111111111,
              "#46039f"
             ],
             [
              0.2222222222222222,
              "#7201a8"
             ],
             [
              0.3333333333333333,
              "#9c179e"
             ],
             [
              0.4444444444444444,
              "#bd3786"
             ],
             [
              0.5555555555555556,
              "#d8576b"
             ],
             [
              0.6666666666666666,
              "#ed7953"
             ],
             [
              0.7777777777777778,
              "#fb9f3a"
             ],
             [
              0.8888888888888888,
              "#fdca26"
             ],
             [
              1,
              "#f0f921"
             ]
            ],
            "type": "heatmap"
           }
          ],
          "histogram": [
           {
            "marker": {
             "pattern": {
              "fillmode": "overlay",
              "size": 10,
              "solidity": 0.2
             }
            },
            "type": "histogram"
           }
          ],
          "histogram2d": [
           {
            "colorbar": {
             "outlinewidth": 0,
             "ticks": ""
            },
            "colorscale": [
             [
              0,
              "#0d0887"
             ],
             [
              0.1111111111111111,
              "#46039f"
             ],
             [
              0.2222222222222222,
              "#7201a8"
             ],
             [
              0.3333333333333333,
              "#9c179e"
             ],
             [
              0.4444444444444444,
              "#bd3786"
             ],
             [
              0.5555555555555556,
              "#d8576b"
             ],
             [
              0.6666666666666666,
              "#ed7953"
             ],
             [
              0.7777777777777778,
              "#fb9f3a"
             ],
             [
              0.8888888888888888,
              "#fdca26"
             ],
             [
              1,
              "#f0f921"
             ]
            ],
            "type": "histogram2d"
           }
          ],
          "histogram2dcontour": [
           {
            "colorbar": {
             "outlinewidth": 0,
             "ticks": ""
            },
            "colorscale": [
             [
              0,
              "#0d0887"
             ],
             [
              0.1111111111111111,
              "#46039f"
             ],
             [
              0.2222222222222222,
              "#7201a8"
             ],
             [
              0.3333333333333333,
              "#9c179e"
             ],
             [
              0.4444444444444444,
              "#bd3786"
             ],
             [
              0.5555555555555556,
              "#d8576b"
             ],
             [
              0.6666666666666666,
              "#ed7953"
             ],
             [
              0.7777777777777778,
              "#fb9f3a"
             ],
             [
              0.8888888888888888,
              "#fdca26"
             ],
             [
              1,
              "#f0f921"
             ]
            ],
            "type": "histogram2dcontour"
           }
          ],
          "mesh3d": [
           {
            "colorbar": {
             "outlinewidth": 0,
             "ticks": ""
            },
            "type": "mesh3d"
           }
          ],
          "parcoords": [
           {
            "line": {
             "colorbar": {
              "outlinewidth": 0,
              "ticks": ""
             }
            },
            "type": "parcoords"
           }
          ],
          "pie": [
           {
            "automargin": true,
            "type": "pie"
           }
          ],
          "scatter": [
           {
            "fillpattern": {
             "fillmode": "overlay",
             "size": 10,
             "solidity": 0.2
            },
            "type": "scatter"
           }
          ],
          "scatter3d": [
           {
            "line": {
             "colorbar": {
              "outlinewidth": 0,
              "ticks": ""
             }
            },
            "marker": {
             "colorbar": {
              "outlinewidth": 0,
              "ticks": ""
             }
            },
            "type": "scatter3d"
           }
          ],
          "scattercarpet": [
           {
            "marker": {
             "colorbar": {
              "outlinewidth": 0,
              "ticks": ""
             }
            },
            "type": "scattercarpet"
           }
          ],
          "scattergeo": [
           {
            "marker": {
             "colorbar": {
              "outlinewidth": 0,
              "ticks": ""
             }
            },
            "type": "scattergeo"
           }
          ],
          "scattergl": [
           {
            "marker": {
             "colorbar": {
              "outlinewidth": 0,
              "ticks": ""
             }
            },
            "type": "scattergl"
           }
          ],
          "scattermap": [
           {
            "marker": {
             "colorbar": {
              "outlinewidth": 0,
              "ticks": ""
             }
            },
            "type": "scattermap"
           }
          ],
          "scattermapbox": [
           {
            "marker": {
             "colorbar": {
              "outlinewidth": 0,
              "ticks": ""
             }
            },
            "type": "scattermapbox"
           }
          ],
          "scatterpolar": [
           {
            "marker": {
             "colorbar": {
              "outlinewidth": 0,
              "ticks": ""
             }
            },
            "type": "scatterpolar"
           }
          ],
          "scatterpolargl": [
           {
            "marker": {
             "colorbar": {
              "outlinewidth": 0,
              "ticks": ""
             }
            },
            "type": "scatterpolargl"
           }
          ],
          "scatterternary": [
           {
            "marker": {
             "colorbar": {
              "outlinewidth": 0,
              "ticks": ""
             }
            },
            "type": "scatterternary"
           }
          ],
          "surface": [
           {
            "colorbar": {
             "outlinewidth": 0,
             "ticks": ""
            },
            "colorscale": [
             [
              0,
              "#0d0887"
             ],
             [
              0.1111111111111111,
              "#46039f"
             ],
             [
              0.2222222222222222,
              "#7201a8"
             ],
             [
              0.3333333333333333,
              "#9c179e"
             ],
             [
              0.4444444444444444,
              "#bd3786"
             ],
             [
              0.5555555555555556,
              "#d8576b"
             ],
             [
              0.6666666666666666,
              "#ed7953"
             ],
             [
              0.7777777777777778,
              "#fb9f3a"
             ],
             [
              0.8888888888888888,
              "#fdca26"
             ],
             [
              1,
              "#f0f921"
             ]
            ],
            "type": "surface"
           }
          ],
          "table": [
           {
            "cells": {
             "fill": {
              "color": "#EBF0F8"
             },
             "line": {
              "color": "white"
             }
            },
            "header": {
             "fill": {
              "color": "#C8D4E3"
             },
             "line": {
              "color": "white"
             }
            },
            "type": "table"
           }
          ]
         },
         "layout": {
          "annotationdefaults": {
           "arrowcolor": "#2a3f5f",
           "arrowhead": 0,
           "arrowwidth": 1
          },
          "autotypenumbers": "strict",
          "coloraxis": {
           "colorbar": {
            "outlinewidth": 0,
            "ticks": ""
           }
          },
          "colorscale": {
           "diverging": [
            [
             0,
             "#8e0152"
            ],
            [
             0.1,
             "#c51b7d"
            ],
            [
             0.2,
             "#de77ae"
            ],
            [
             0.3,
             "#f1b6da"
            ],
            [
             0.4,
             "#fde0ef"
            ],
            [
             0.5,
             "#f7f7f7"
            ],
            [
             0.6,
             "#e6f5d0"
            ],
            [
             0.7,
             "#b8e186"
            ],
            [
             0.8,
             "#7fbc41"
            ],
            [
             0.9,
             "#4d9221"
            ],
            [
             1,
             "#276419"
            ]
           ],
           "sequential": [
            [
             0,
             "#0d0887"
            ],
            [
             0.1111111111111111,
             "#46039f"
            ],
            [
             0.2222222222222222,
             "#7201a8"
            ],
            [
             0.3333333333333333,
             "#9c179e"
            ],
            [
             0.4444444444444444,
             "#bd3786"
            ],
            [
             0.5555555555555556,
             "#d8576b"
            ],
            [
             0.6666666666666666,
             "#ed7953"
            ],
            [
             0.7777777777777778,
             "#fb9f3a"
            ],
            [
             0.8888888888888888,
             "#fdca26"
            ],
            [
             1,
             "#f0f921"
            ]
           ],
           "sequentialminus": [
            [
             0,
             "#0d0887"
            ],
            [
             0.1111111111111111,
             "#46039f"
            ],
            [
             0.2222222222222222,
             "#7201a8"
            ],
            [
             0.3333333333333333,
             "#9c179e"
            ],
            [
             0.4444444444444444,
             "#bd3786"
            ],
            [
             0.5555555555555556,
             "#d8576b"
            ],
            [
             0.6666666666666666,
             "#ed7953"
            ],
            [
             0.7777777777777778,
             "#fb9f3a"
            ],
            [
             0.8888888888888888,
             "#fdca26"
            ],
            [
             1,
             "#f0f921"
            ]
           ]
          },
          "colorway": [
           "#636efa",
           "#EF553B",
           "#00cc96",
           "#ab63fa",
           "#FFA15A",
           "#19d3f3",
           "#FF6692",
           "#B6E880",
           "#FF97FF",
           "#FECB52"
          ],
          "font": {
           "color": "#2a3f5f"
          },
          "geo": {
           "bgcolor": "white",
           "lakecolor": "white",
           "landcolor": "white",
           "showlakes": true,
           "showland": true,
           "subunitcolor": "#C8D4E3"
          },
          "hoverlabel": {
           "align": "left"
          },
          "hovermode": "closest",
          "mapbox": {
           "style": "light"
          },
          "paper_bgcolor": "white",
          "plot_bgcolor": "white",
          "polar": {
           "angularaxis": {
            "gridcolor": "#EBF0F8",
            "linecolor": "#EBF0F8",
            "ticks": ""
           },
           "bgcolor": "white",
           "radialaxis": {
            "gridcolor": "#EBF0F8",
            "linecolor": "#EBF0F8",
            "ticks": ""
           }
          },
          "scene": {
           "xaxis": {
            "backgroundcolor": "white",
            "gridcolor": "#DFE8F3",
            "gridwidth": 2,
            "linecolor": "#EBF0F8",
            "showbackground": true,
            "ticks": "",
            "zerolinecolor": "#EBF0F8"
           },
           "yaxis": {
            "backgroundcolor": "white",
            "gridcolor": "#DFE8F3",
            "gridwidth": 2,
            "linecolor": "#EBF0F8",
            "showbackground": true,
            "ticks": "",
            "zerolinecolor": "#EBF0F8"
           },
           "zaxis": {
            "backgroundcolor": "white",
            "gridcolor": "#DFE8F3",
            "gridwidth": 2,
            "linecolor": "#EBF0F8",
            "showbackground": true,
            "ticks": "",
            "zerolinecolor": "#EBF0F8"
           }
          },
          "shapedefaults": {
           "line": {
            "color": "#2a3f5f"
           }
          },
          "ternary": {
           "aaxis": {
            "gridcolor": "#DFE8F3",
            "linecolor": "#A2B1C6",
            "ticks": ""
           },
           "baxis": {
            "gridcolor": "#DFE8F3",
            "linecolor": "#A2B1C6",
            "ticks": ""
           },
           "bgcolor": "white",
           "caxis": {
            "gridcolor": "#DFE8F3",
            "linecolor": "#A2B1C6",
            "ticks": ""
           }
          },
          "title": {
           "x": 0.05
          },
          "xaxis": {
           "automargin": true,
           "gridcolor": "#EBF0F8",
           "linecolor": "#EBF0F8",
           "ticks": "",
           "title": {
            "standoff": 15
           },
           "zerolinecolor": "#EBF0F8",
           "zerolinewidth": 2
          },
          "yaxis": {
           "automargin": true,
           "gridcolor": "#EBF0F8",
           "linecolor": "#EBF0F8",
           "ticks": "",
           "title": {
            "standoff": 15
           },
           "zerolinecolor": "#EBF0F8",
           "zerolinewidth": 2
          }
         }
        },
        "width": 1200,
        "xaxis": {
         "anchor": "y",
         "domain": [
          0,
          0.3525
         ],
         "showticklabels": false
        },
        "xaxis2": {
         "anchor": "y2",
         "domain": [
          0.38249999999999995,
          0.7349999999999999
         ],
         "showticklabels": false
        },
        "xaxis3": {
         "anchor": "y3",
         "domain": [
          0.7649999999999999,
          0.9999999999999999
         ],
         "showticklabels": false
        },
        "yaxis": {
         "anchor": "x",
         "domain": [
          0,
          1
         ],
         "title": {
          "standoff": 12,
          "text": "<b>DSC</b>"
         },
         "zeroline": false
        },
        "yaxis2": {
         "anchor": "x2",
         "domain": [
          0,
          1
         ],
         "matches": "y",
         "showticklabels": false,
         "zeroline": false
        },
        "yaxis3": {
         "anchor": "x3",
         "domain": [
          0,
          1
         ],
         "matches": "y",
         "showticklabels": false,
         "zeroline": false
        }
       }
      },
      "text/html": [
       "<div>            <script src=\"https://cdnjs.cloudflare.com/ajax/libs/mathjax/2.7.5/MathJax.js?config=TeX-AMS-MML_SVG\"></script><script type=\"text/javascript\">if (window.MathJax && window.MathJax.Hub && window.MathJax.Hub.Config) {window.MathJax.Hub.Config({SVG: {font: \"STIX-Web\"}});}</script>                <script type=\"text/javascript\">window.PlotlyConfig = {MathJaxConfig: 'local'};</script>\n",
       "        <script charset=\"utf-8\" src=\"https://cdn.plot.ly/plotly-3.0.1.min.js\"></script>                <div id=\"62e6e282-e5c1-457c-b8c3-a967b36711eb\" class=\"plotly-graph-div\" style=\"height:400px; width:1200px;\"></div>            <script type=\"text/javascript\">                window.PLOTLYENV=window.PLOTLYENV || {};                                if (document.getElementById(\"62e6e282-e5c1-457c-b8c3-a967b36711eb\")) {                    Plotly.newPlot(                        \"62e6e282-e5c1-457c-b8c3-a967b36711eb\",                        [{\"legend\":\"legend\",\"marker\":{\"color\":\"gray\",\"line\":{\"color\":\"black\",\"width\":1},\"size\":9,\"symbol\":\"circle\"},\"mode\":\"markers\",\"name\":\"stomach\",\"showlegend\":true,\"x\":[null],\"y\":[null],\"type\":\"scatter\",\"xaxis\":\"x\",\"yaxis\":\"y\"},{\"legend\":\"legend\",\"marker\":{\"color\":\"gray\",\"line\":{\"color\":\"black\",\"width\":1},\"size\":9,\"symbol\":\"square\"},\"mode\":\"markers\",\"name\":\"small_bowel\",\"showlegend\":true,\"x\":[null],\"y\":[null],\"type\":\"scatter\",\"xaxis\":\"x\",\"yaxis\":\"y\"},{\"legend\":\"legend\",\"marker\":{\"color\":\"gray\",\"line\":{\"color\":\"black\",\"width\":1},\"size\":9,\"symbol\":\"diamond\"},\"mode\":\"markers\",\"name\":\"colon\",\"showlegend\":true,\"x\":[null],\"y\":[null],\"type\":\"scatter\",\"xaxis\":\"x\",\"yaxis\":\"y\"},{\"legend\":\"legend\",\"marker\":{\"color\":\"gray\",\"line\":{\"color\":\"black\",\"width\":1},\"size\":9,\"symbol\":\"cross\"},\"mode\":\"markers\",\"name\":\"liver\",\"showlegend\":true,\"x\":[null],\"y\":[null],\"type\":\"scatter\",\"xaxis\":\"x\",\"yaxis\":\"y\"},{\"legend\":\"legend\",\"marker\":{\"color\":\"gray\",\"line\":{\"color\":\"black\",\"width\":1},\"size\":9,\"symbol\":\"x\"},\"mode\":\"markers\",\"name\":\"pancreas\",\"showlegend\":true,\"x\":[null],\"y\":[null],\"type\":\"scatter\",\"xaxis\":\"x\",\"yaxis\":\"y\"},{\"legend\":\"legend\",\"marker\":{\"color\":\"gray\",\"line\":{\"color\":\"black\",\"width\":1},\"size\":9,\"symbol\":\"triangle-up\"},\"mode\":\"markers\",\"name\":\"kidney\",\"showlegend\":true,\"x\":[null],\"y\":[null],\"type\":\"scatter\",\"xaxis\":\"x\",\"yaxis\":\"y\"},{\"legend\":\"legend\",\"marker\":{\"color\":\"gray\",\"line\":{\"color\":\"black\",\"width\":1},\"size\":9,\"symbol\":\"triangle-down\"},\"mode\":\"markers\",\"name\":\"spleen\",\"showlegend\":true,\"x\":[null],\"y\":[null],\"type\":\"scatter\",\"xaxis\":\"x\",\"yaxis\":\"y\"},{\"legend\":\"legend\",\"marker\":{\"color\":\"gray\",\"line\":{\"color\":\"black\",\"width\":1},\"size\":9,\"symbol\":\"triangle-left\"},\"mode\":\"markers\",\"name\":\"omentum\",\"showlegend\":true,\"x\":[null],\"y\":[null],\"type\":\"scatter\",\"xaxis\":\"x\",\"yaxis\":\"y\"},{\"legend\":\"legend\",\"marker\":{\"color\":\"gray\",\"line\":{\"color\":\"black\",\"width\":1},\"size\":9,\"symbol\":\"triangle-right\"},\"mode\":\"markers\",\"name\":\"lung\",\"showlegend\":true,\"x\":[null],\"y\":[null],\"type\":\"scatter\",\"xaxis\":\"x\",\"yaxis\":\"y\"},{\"legend\":\"legend\",\"marker\":{\"color\":\"gray\",\"line\":{\"color\":\"black\",\"width\":1},\"size\":9,\"symbol\":\"star\"},\"mode\":\"markers\",\"name\":\"skin\",\"showlegend\":true,\"x\":[null],\"y\":[null],\"type\":\"scatter\",\"xaxis\":\"x\",\"yaxis\":\"y\"},{\"legend\":\"legend\",\"marker\":{\"color\":\"gray\",\"line\":{\"color\":\"black\",\"width\":1},\"size\":9,\"symbol\":\"diamond-wide\"},\"mode\":\"markers\",\"name\":\"peritoneum\",\"showlegend\":true,\"x\":[null],\"y\":[null],\"type\":\"scatter\",\"xaxis\":\"x\",\"yaxis\":\"y\"},{\"legend\":\"legend\",\"marker\":{\"color\":\"gray\",\"line\":{\"color\":\"black\",\"width\":1},\"size\":9,\"symbol\":\"diamond-tall\"},\"mode\":\"markers\",\"name\":\"background\",\"showlegend\":true,\"x\":[null],\"y\":[null],\"type\":\"scatter\",\"xaxis\":\"x\",\"yaxis\":\"y\"},{\"legend\":\"legend\",\"legendgroup\":\"pig2pig\",\"marker\":{\"color\":\"#44AA99\",\"line\":{\"color\":\"black\",\"width\":1},\"size\":9,\"symbol\":\"diamond-tall\"},\"mode\":\"markers\",\"name\":\"background\",\"showlegend\":false,\"x\":[0.0],\"y\":[0.9893842534220079],\"type\":\"scatter\",\"xaxis\":\"x\",\"yaxis\":\"y\"},{\"legend\":\"legend\",\"legendgroup\":\"pig2pig\",\"marker\":{\"color\":\"#44AA99\",\"line\":{\"color\":\"black\",\"width\":1},\"size\":9,\"symbol\":\"triangle-right\"},\"mode\":\"markers\",\"name\":\"lung\",\"showlegend\":false,\"x\":[0.09333333333333334],\"y\":[0.9747844543376248],\"type\":\"scatter\",\"xaxis\":\"x\",\"yaxis\":\"y\"},{\"legend\":\"legend\",\"legendgroup\":\"pig2pig\",\"marker\":{\"color\":\"#44AA99\",\"line\":{\"color\":\"black\",\"width\":1},\"size\":9,\"symbol\":\"triangle-down\"},\"mode\":\"markers\",\"name\":\"spleen\",\"showlegend\":false,\"x\":[0.18666666666666668],\"y\":[0.9657712445374494],\"type\":\"scatter\",\"xaxis\":\"x\",\"yaxis\":\"y\"},{\"legend\":\"legend\",\"legendgroup\":\"pig2pig\",\"marker\":{\"color\":\"#44AA99\",\"line\":{\"color\":\"black\",\"width\":1},\"size\":9,\"symbol\":\"diamond\"},\"mode\":\"markers\",\"name\":\"colon\",\"showlegend\":false,\"x\":[0.28],\"y\":[0.9652041585795311],\"type\":\"scatter\",\"xaxis\":\"x\",\"yaxis\":\"y\"},{\"legend\":\"legend\",\"legendgroup\":\"pig2pig\",\"marker\":{\"color\":\"#44AA99\",\"line\":{\"color\":\"black\",\"width\":1},\"size\":9,\"symbol\":\"square\"},\"mode\":\"markers\",\"name\":\"small_bowel\",\"showlegend\":false,\"x\":[0.0],\"y\":[0.9622925943782528],\"type\":\"scatter\",\"xaxis\":\"x\",\"yaxis\":\"y\"},{\"legend\":\"legend\",\"legendgroup\":\"pig2pig\",\"marker\":{\"color\":\"#44AA99\",\"line\":{\"color\":\"black\",\"width\":1},\"size\":9,\"symbol\":\"cross\"},\"mode\":\"markers\",\"name\":\"liver\",\"showlegend\":false,\"x\":[0.09333333333333334],\"y\":[0.9593306272894886],\"type\":\"scatter\",\"xaxis\":\"x\",\"yaxis\":\"y\"},{\"legend\":\"legend\",\"legendgroup\":\"pig2pig\",\"marker\":{\"color\":\"#44AA99\",\"line\":{\"color\":\"black\",\"width\":1},\"size\":9,\"symbol\":\"triangle-up\"},\"mode\":\"markers\",\"name\":\"kidney\",\"showlegend\":false,\"x\":[0.18666666666666668],\"y\":[0.9443360910696142],\"type\":\"scatter\",\"xaxis\":\"x\",\"yaxis\":\"y\"},{\"legend\":\"legend\",\"legendgroup\":\"pig2pig\",\"marker\":{\"color\":\"#44AA99\",\"line\":{\"color\":\"black\",\"width\":1},\"size\":9,\"symbol\":\"star\"},\"mode\":\"markers\",\"name\":\"skin\",\"showlegend\":false,\"x\":[0.28],\"y\":[0.927014201251023],\"type\":\"scatter\",\"xaxis\":\"x\",\"yaxis\":\"y\"},{\"legend\":\"legend\",\"legendgroup\":\"pig2pig\",\"marker\":{\"color\":\"#44AA99\",\"line\":{\"color\":\"black\",\"width\":1},\"size\":9,\"symbol\":\"diamond-wide\"},\"mode\":\"markers\",\"name\":\"peritoneum\",\"showlegend\":false,\"x\":[0.0],\"y\":[0.8726571720652956],\"type\":\"scatter\",\"xaxis\":\"x\",\"yaxis\":\"y\"},{\"legend\":\"legend\",\"legendgroup\":\"pig2pig\",\"marker\":{\"color\":\"#44AA99\",\"line\":{\"color\":\"black\",\"width\":1},\"size\":9,\"symbol\":\"x\"},\"mode\":\"markers\",\"name\":\"pancreas\",\"showlegend\":false,\"x\":[0.09333333333333334],\"y\":[0.8713895898205892],\"type\":\"scatter\",\"xaxis\":\"x\",\"yaxis\":\"y\"},{\"legend\":\"legend\",\"legendgroup\":\"pig2pig\",\"marker\":{\"color\":\"#44AA99\",\"line\":{\"color\":\"black\",\"width\":1},\"size\":9,\"symbol\":\"circle\"},\"mode\":\"markers\",\"name\":\"stomach\",\"showlegend\":false,\"x\":[0.18666666666666668],\"y\":[0.8635207585356858],\"type\":\"scatter\",\"xaxis\":\"x\",\"yaxis\":\"y\"},{\"legend\":\"legend\",\"legendgroup\":\"pig2pig\",\"marker\":{\"color\":\"#44AA99\",\"line\":{\"color\":\"black\",\"width\":1},\"size\":9,\"symbol\":\"triangle-left\"},\"mode\":\"markers\",\"name\":\"omentum\",\"showlegend\":false,\"x\":[0.28],\"y\":[0.5928834459312615],\"type\":\"scatter\",\"xaxis\":\"x\",\"yaxis\":\"y\"},{\"boxmean\":true,\"boxpoints\":false,\"legend\":\"legend2\",\"legendgroup\":\"pig2pig\",\"line\":{\"color\":\"#44AA99\"},\"name\":\"pig2pig\",\"showlegend\":true,\"x\":[0.6,0.6,0.6,0.6,0.6,0.6,0.6,0.6,0.6,0.6,0.6,0.6],\"y\":{\"dtype\":\"f8\",\"bdata\":\"Lv9zKgmp7z8P8AArbzHvP\\u002fuT1hiZ5+4\\u002fO\\u002f7h1PPi7j\\u002fuM8HWGcvuP\\u002fpNyCTWsu4\\u002fc3JyUgA47j9in6mvGartP0B91LvO7Os\\u002fTlbLa2zi6z8FfipJ9qHrP2qqU7Tm+OI\\u002f\"},\"type\":\"box\",\"xaxis\":\"x\",\"yaxis\":\"y\"},{\"legendgroup\":\"pig2pig\",\"line\":{\"color\":\"#44AA99\",\"dash\":\"dot\"},\"mode\":\"lines\",\"name\":\"pig2pig\",\"showlegend\":false,\"text\":\"95\\u202f% CI mean: [0.89;0.92]\",\"x\":[0.5,0.5],\"y\":[0.8913575205016374,0.922292095957031],\"type\":\"scatter\",\"xaxis\":\"x\",\"yaxis\":\"y\"},{\"legendgroup\":\"pig2pig\",\"line\":{\"color\":\"#44AA99\"},\"marker\":{\"size\":10,\"symbol\":\"triangle-down-open\"},\"mode\":\"markers\",\"name\":\"pig2pig\",\"showlegend\":false,\"text\":\"95\\u202f% CI mean: [0.89;0.92]\",\"x\":[0.5],\"y\":[0.8913575205016374],\"type\":\"scatter\",\"xaxis\":\"x\",\"yaxis\":\"y\"},{\"legendgroup\":\"pig2pig\",\"line\":{\"color\":\"#44AA99\"},\"marker\":{\"size\":10,\"symbol\":\"triangle-up-open\"},\"mode\":\"markers\",\"name\":\"pig2pig\",\"showlegend\":false,\"text\":\"95\\u202f% CI mean: [0.89;0.92]\",\"x\":[0.5],\"y\":[0.922292095957031],\"type\":\"scatter\",\"xaxis\":\"x\",\"yaxis\":\"y\"},{\"legendgroup\":\"pig2pig\",\"line\":{\"color\":\"#44AA99\",\"dash\":\"solid\"},\"mode\":\"lines\",\"name\":\"pig2pig\",\"showlegend\":false,\"text\":\"95\\u202f% CI median: [0.94;0.96]\",\"x\":[0.7,0.7],\"y\":[0.9372813264012252,0.9625813197895268],\"type\":\"scatter\",\"xaxis\":\"x\",\"yaxis\":\"y\"},{\"legendgroup\":\"pig2pig\",\"line\":{\"color\":\"#44AA99\"},\"marker\":{\"size\":10,\"symbol\":\"triangle-down\"},\"mode\":\"markers\",\"name\":\"pig2pig\",\"showlegend\":false,\"text\":\"95\\u202f% CI median: [0.94;0.96]\",\"x\":[0.7],\"y\":[0.9372813264012252],\"type\":\"scatter\",\"xaxis\":\"x\",\"yaxis\":\"y\"},{\"legendgroup\":\"pig2pig\",\"line\":{\"color\":\"#44AA99\"},\"marker\":{\"size\":10,\"symbol\":\"triangle-up\"},\"mode\":\"markers\",\"name\":\"pig2pig\",\"showlegend\":false,\"text\":\"95\\u202f% CI median: [0.94;0.96]\",\"x\":[0.7],\"y\":[0.9625813197895268],\"type\":\"scatter\",\"xaxis\":\"x\",\"yaxis\":\"y\"},{\"legend\":\"legend\",\"legendgroup\":\"pig2rat\",\"marker\":{\"color\":\"#89CCED\",\"line\":{\"color\":\"black\",\"width\":1},\"size\":9,\"symbol\":\"triangle-right\"},\"mode\":\"markers\",\"name\":\"lung\",\"showlegend\":false,\"x\":[1.0],\"y\":[0.9886027910770514],\"type\":\"scatter\",\"xaxis\":\"x\",\"yaxis\":\"y\"},{\"legend\":\"legend\",\"legendgroup\":\"pig2rat\",\"marker\":{\"color\":\"#89CCED\",\"line\":{\"color\":\"black\",\"width\":1},\"size\":9,\"symbol\":\"triangle-up\"},\"mode\":\"markers\",\"name\":\"kidney\",\"showlegend\":false,\"x\":[1.0933333333333333],\"y\":[0.8316342751621763],\"type\":\"scatter\",\"xaxis\":\"x\",\"yaxis\":\"y\"},{\"legend\":\"legend\",\"legendgroup\":\"pig2rat\",\"marker\":{\"color\":\"#89CCED\",\"line\":{\"color\":\"black\",\"width\":1},\"size\":9,\"symbol\":\"cross\"},\"mode\":\"markers\",\"name\":\"liver\",\"showlegend\":false,\"x\":[1.1866666666666668],\"y\":[0.8058963443919412],\"type\":\"scatter\",\"xaxis\":\"x\",\"yaxis\":\"y\"},{\"legend\":\"legend\",\"legendgroup\":\"pig2rat\",\"marker\":{\"color\":\"#89CCED\",\"line\":{\"color\":\"black\",\"width\":1},\"size\":9,\"symbol\":\"diamond-tall\"},\"mode\":\"markers\",\"name\":\"background\",\"showlegend\":false,\"x\":[1.28],\"y\":[0.7668117963773639],\"type\":\"scatter\",\"xaxis\":\"x\",\"yaxis\":\"y\"},{\"legend\":\"legend\",\"legendgroup\":\"pig2rat\",\"marker\":{\"color\":\"#89CCED\",\"line\":{\"color\":\"black\",\"width\":1},\"size\":9,\"symbol\":\"diamond-wide\"},\"mode\":\"markers\",\"name\":\"peritoneum\",\"showlegend\":false,\"x\":[1.0],\"y\":[0.6881980334893105],\"type\":\"scatter\",\"xaxis\":\"x\",\"yaxis\":\"y\"},{\"legend\":\"legend\",\"legendgroup\":\"pig2rat\",\"marker\":{\"color\":\"#89CCED\",\"line\":{\"color\":\"black\",\"width\":1},\"size\":9,\"symbol\":\"star\"},\"mode\":\"markers\",\"name\":\"skin\",\"showlegend\":false,\"x\":[1.0933333333333333],\"y\":[0.47965133161773726],\"type\":\"scatter\",\"xaxis\":\"x\",\"yaxis\":\"y\"},{\"legend\":\"legend\",\"legendgroup\":\"pig2rat\",\"marker\":{\"color\":\"#89CCED\",\"line\":{\"color\":\"black\",\"width\":1},\"size\":9,\"symbol\":\"diamond\"},\"mode\":\"markers\",\"name\":\"colon\",\"showlegend\":false,\"x\":[1.1866666666666668],\"y\":[0.4780215654357726],\"type\":\"scatter\",\"xaxis\":\"x\",\"yaxis\":\"y\"},{\"legend\":\"legend\",\"legendgroup\":\"pig2rat\",\"marker\":{\"color\":\"#89CCED\",\"line\":{\"color\":\"black\",\"width\":1},\"size\":9,\"symbol\":\"triangle-left\"},\"mode\":\"markers\",\"name\":\"omentum\",\"showlegend\":false,\"x\":[1.28],\"y\":[0.3076327510847347],\"type\":\"scatter\",\"xaxis\":\"x\",\"yaxis\":\"y\"},{\"legend\":\"legend\",\"legendgroup\":\"pig2rat\",\"marker\":{\"color\":\"#89CCED\",\"line\":{\"color\":\"black\",\"width\":1},\"size\":9,\"symbol\":\"x\"},\"mode\":\"markers\",\"name\":\"pancreas\",\"showlegend\":false,\"x\":[1.0],\"y\":[0.2009739672089671],\"type\":\"scatter\",\"xaxis\":\"x\",\"yaxis\":\"y\"},{\"legend\":\"legend\",\"legendgroup\":\"pig2rat\",\"marker\":{\"color\":\"#89CCED\",\"line\":{\"color\":\"black\",\"width\":1},\"size\":9,\"symbol\":\"square\"},\"mode\":\"markers\",\"name\":\"small_bowel\",\"showlegend\":false,\"x\":[1.0933333333333333],\"y\":[0.1552711256120132],\"type\":\"scatter\",\"xaxis\":\"x\",\"yaxis\":\"y\"},{\"legend\":\"legend\",\"legendgroup\":\"pig2rat\",\"marker\":{\"color\":\"#89CCED\",\"line\":{\"color\":\"black\",\"width\":1},\"size\":9,\"symbol\":\"triangle-down\"},\"mode\":\"markers\",\"name\":\"spleen\",\"showlegend\":false,\"x\":[1.1866666666666668],\"y\":[0.11841620126736846],\"type\":\"scatter\",\"xaxis\":\"x\",\"yaxis\":\"y\"},{\"legend\":\"legend\",\"legendgroup\":\"pig2rat\",\"marker\":{\"color\":\"#89CCED\",\"line\":{\"color\":\"black\",\"width\":1},\"size\":9,\"symbol\":\"circle\"},\"mode\":\"markers\",\"name\":\"stomach\",\"showlegend\":false,\"x\":[1.28],\"y\":[0.07265870594535634],\"type\":\"scatter\",\"xaxis\":\"x\",\"yaxis\":\"y\"},{\"boxmean\":true,\"boxpoints\":false,\"legend\":\"legend2\",\"legendgroup\":\"pig2rat\",\"line\":{\"color\":\"#89CCED\"},\"name\":\"pig2rat\",\"showlegend\":true,\"x\":[1.6,1.6,1.6,1.6,1.6,1.6,1.6,1.6,1.6,1.6,1.6,1.6],\"y\":{\"dtype\":\"f8\",\"bdata\":\"0iANUqKi7z8bvMF7v5zqP48jZCHnyek\\u002f2RZ05LiJ6D9eQuDhtwXmP2\\u002f8sX+bst4\\u002fWxSVw+eX3j+vmEVHQbDTPxREQdSDuck\\u002fYSNCm+zfwz\\u002fkiMIvhlC+P5QTzs3CmbI\\u002f\"},\"type\":\"box\",\"xaxis\":\"x\",\"yaxis\":\"y\"},{\"legendgroup\":\"pig2rat\",\"line\":{\"color\":\"#89CCED\",\"dash\":\"dot\"},\"mode\":\"lines\",\"name\":\"pig2rat\",\"showlegend\":false,\"text\":\"95\\u202f% CI mean: [0.48;0.51]\",\"x\":[1.5,1.5],\"y\":[0.47572516725547886,0.5088595976950078],\"type\":\"scatter\",\"xaxis\":\"x\",\"yaxis\":\"y\"},{\"legendgroup\":\"pig2rat\",\"line\":{\"color\":\"#89CCED\"},\"marker\":{\"size\":10,\"symbol\":\"triangle-down-open\"},\"mode\":\"markers\",\"name\":\"pig2rat\",\"showlegend\":false,\"text\":\"95\\u202f% CI mean: [0.48;0.51]\",\"x\":[1.5],\"y\":[0.47572516725547886],\"type\":\"scatter\",\"xaxis\":\"x\",\"yaxis\":\"y\"},{\"legendgroup\":\"pig2rat\",\"line\":{\"color\":\"#89CCED\"},\"marker\":{\"size\":10,\"symbol\":\"triangle-up-open\"},\"mode\":\"markers\",\"name\":\"pig2rat\",\"showlegend\":false,\"text\":\"95\\u202f% CI mean: [0.48;0.51]\",\"x\":[1.5],\"y\":[0.5088595976950078],\"type\":\"scatter\",\"xaxis\":\"x\",\"yaxis\":\"y\"},{\"legendgroup\":\"pig2rat\",\"line\":{\"color\":\"#89CCED\",\"dash\":\"solid\"},\"mode\":\"lines\",\"name\":\"pig2rat\",\"showlegend\":false,\"text\":\"95\\u202f% CI median: [0.44;0.51]\",\"x\":[1.7,1.7],\"y\":[0.4422581833041644,0.5123394874799175],\"type\":\"scatter\",\"xaxis\":\"x\",\"yaxis\":\"y\"},{\"legendgroup\":\"pig2rat\",\"line\":{\"color\":\"#89CCED\"},\"marker\":{\"size\":10,\"symbol\":\"triangle-down\"},\"mode\":\"markers\",\"name\":\"pig2rat\",\"showlegend\":false,\"text\":\"95\\u202f% CI median: [0.44;0.51]\",\"x\":[1.7],\"y\":[0.4422581833041644],\"type\":\"scatter\",\"xaxis\":\"x\",\"yaxis\":\"y\"},{\"legendgroup\":\"pig2rat\",\"line\":{\"color\":\"#89CCED\"},\"marker\":{\"size\":10,\"symbol\":\"triangle-up\"},\"mode\":\"markers\",\"name\":\"pig2rat\",\"showlegend\":false,\"text\":\"95\\u202f% CI median: [0.44;0.51]\",\"x\":[1.7],\"y\":[0.5123394874799175],\"type\":\"scatter\",\"xaxis\":\"x\",\"yaxis\":\"y\"},{\"legend\":\"legend\",\"legendgroup\":\"pig2human\",\"marker\":{\"color\":\"#DDCB76\",\"line\":{\"color\":\"black\",\"width\":1},\"size\":9,\"symbol\":\"diamond-tall\"},\"mode\":\"markers\",\"name\":\"background\",\"showlegend\":false,\"x\":[2.0],\"y\":[0.8931438789165318],\"type\":\"scatter\",\"xaxis\":\"x\",\"yaxis\":\"y\"},{\"legend\":\"legend\",\"legendgroup\":\"pig2human\",\"marker\":{\"color\":\"#DDCB76\",\"line\":{\"color\":\"black\",\"width\":1},\"size\":9,\"symbol\":\"star\"},\"mode\":\"markers\",\"name\":\"skin\",\"showlegend\":false,\"x\":[2.0933333333333333],\"y\":[0.7601791671770298],\"type\":\"scatter\",\"xaxis\":\"x\",\"yaxis\":\"y\"},{\"legend\":\"legend\",\"legendgroup\":\"pig2human\",\"marker\":{\"color\":\"#DDCB76\",\"line\":{\"color\":\"black\",\"width\":1},\"size\":9,\"symbol\":\"triangle-right\"},\"mode\":\"markers\",\"name\":\"lung\",\"showlegend\":false,\"x\":[2.1866666666666665],\"y\":[0.6128867449094024],\"type\":\"scatter\",\"xaxis\":\"x\",\"yaxis\":\"y\"},{\"legend\":\"legend\",\"legendgroup\":\"pig2human\",\"marker\":{\"color\":\"#DDCB76\",\"line\":{\"color\":\"black\",\"width\":1},\"size\":9,\"symbol\":\"triangle-left\"},\"mode\":\"markers\",\"name\":\"omentum\",\"showlegend\":false,\"x\":[2.2800000000000002],\"y\":[0.5876641691561656],\"type\":\"scatter\",\"xaxis\":\"x\",\"yaxis\":\"y\"},{\"legend\":\"legend\",\"legendgroup\":\"pig2human\",\"marker\":{\"color\":\"#DDCB76\",\"line\":{\"color\":\"black\",\"width\":1},\"size\":9,\"symbol\":\"circle\"},\"mode\":\"markers\",\"name\":\"stomach\",\"showlegend\":false,\"x\":[2.0],\"y\":[0.491333364185137],\"type\":\"scatter\",\"xaxis\":\"x\",\"yaxis\":\"y\"},{\"legend\":\"legend\",\"legendgroup\":\"pig2human\",\"marker\":{\"color\":\"#DDCB76\",\"line\":{\"color\":\"black\",\"width\":1},\"size\":9,\"symbol\":\"triangle-up\"},\"mode\":\"markers\",\"name\":\"kidney\",\"showlegend\":false,\"x\":[2.0933333333333333],\"y\":[0.40413107841186935],\"type\":\"scatter\",\"xaxis\":\"x\",\"yaxis\":\"y\"},{\"legend\":\"legend\",\"legendgroup\":\"pig2human\",\"marker\":{\"color\":\"#DDCB76\",\"line\":{\"color\":\"black\",\"width\":1},\"size\":9,\"symbol\":\"diamond-wide\"},\"mode\":\"markers\",\"name\":\"peritoneum\",\"showlegend\":false,\"x\":[2.1866666666666665],\"y\":[0.34797153744923104],\"type\":\"scatter\",\"xaxis\":\"x\",\"yaxis\":\"y\"},{\"legend\":\"legend\",\"legendgroup\":\"pig2human\",\"marker\":{\"color\":\"#DDCB76\",\"line\":{\"color\":\"black\",\"width\":1},\"size\":9,\"symbol\":\"triangle-down\"},\"mode\":\"markers\",\"name\":\"spleen\",\"showlegend\":false,\"x\":[2.2800000000000002],\"y\":[0.3434207160569107],\"type\":\"scatter\",\"xaxis\":\"x\",\"yaxis\":\"y\"},{\"legend\":\"legend\",\"legendgroup\":\"pig2human\",\"marker\":{\"color\":\"#DDCB76\",\"line\":{\"color\":\"black\",\"width\":1},\"size\":9,\"symbol\":\"diamond\"},\"mode\":\"markers\",\"name\":\"colon\",\"showlegend\":false,\"x\":[2.0],\"y\":[0.29698603167119453],\"type\":\"scatter\",\"xaxis\":\"x\",\"yaxis\":\"y\"},{\"legend\":\"legend\",\"legendgroup\":\"pig2human\",\"marker\":{\"color\":\"#DDCB76\",\"line\":{\"color\":\"black\",\"width\":1},\"size\":9,\"symbol\":\"square\"},\"mode\":\"markers\",\"name\":\"small_bowel\",\"showlegend\":false,\"x\":[2.0933333333333333],\"y\":[0.254679873456854],\"type\":\"scatter\",\"xaxis\":\"x\",\"yaxis\":\"y\"},{\"legend\":\"legend\",\"legendgroup\":\"pig2human\",\"marker\":{\"color\":\"#DDCB76\",\"line\":{\"color\":\"black\",\"width\":1},\"size\":9,\"symbol\":\"cross\"},\"mode\":\"markers\",\"name\":\"liver\",\"showlegend\":false,\"x\":[2.1866666666666665],\"y\":[0.22388982560910117],\"type\":\"scatter\",\"xaxis\":\"x\",\"yaxis\":\"y\"},{\"legend\":\"legend\",\"legendgroup\":\"pig2human\",\"marker\":{\"color\":\"#DDCB76\",\"line\":{\"color\":\"black\",\"width\":1},\"size\":9,\"symbol\":\"x\"},\"mode\":\"markers\",\"name\":\"pancreas\",\"showlegend\":false,\"x\":[2.2800000000000002],\"y\":[0.06734250328632269],\"type\":\"scatter\",\"xaxis\":\"x\",\"yaxis\":\"y\"},{\"boxmean\":true,\"boxpoints\":false,\"legend\":\"legend2\",\"legendgroup\":\"pig2human\",\"line\":{\"color\":\"#DDCB76\"},\"name\":\"pig2human\",\"showlegend\":true,\"x\":[2.6,2.6,2.6,2.6,2.6,2.6,2.6,2.6,2.6,2.6,2.6,2.6],\"y\":{\"dtype\":\"f8\",\"bdata\":\"+DXSeKKU7D8LB8RCY1PoP3o1sanEnOM\\u002f19BxFiXO4j\\u002ft9qZ+AXLfP07gRJlI3dk\\u002fXiFSaSpF1j\\u002fw7g7imvrVP+hhWbPRAdM\\u002fM5Xcz6xM0D9L+XL7a6jMP\\u002fTaPrlbPbE\\u002f\"},\"type\":\"box\",\"xaxis\":\"x\",\"yaxis\":\"y\"},{\"legendgroup\":\"pig2human\",\"line\":{\"color\":\"#DDCB76\",\"dash\":\"dot\"},\"mode\":\"lines\",\"name\":\"pig2human\",\"showlegend\":false,\"text\":\"95\\u202f% CI mean: [0.41;0.47]\",\"x\":[2.5,2.5],\"y\":[0.4126547578109482,0.46801827112970845],\"type\":\"scatter\",\"xaxis\":\"x\",\"yaxis\":\"y\"},{\"legendgroup\":\"pig2human\",\"line\":{\"color\":\"#DDCB76\"},\"marker\":{\"size\":10,\"symbol\":\"triangle-down-open\"},\"mode\":\"markers\",\"name\":\"pig2human\",\"showlegend\":false,\"text\":\"95\\u202f% CI mean: [0.41;0.47]\",\"x\":[2.5],\"y\":[0.4126547578109482],\"type\":\"scatter\",\"xaxis\":\"x\",\"yaxis\":\"y\"},{\"legendgroup\":\"pig2human\",\"line\":{\"color\":\"#DDCB76\"},\"marker\":{\"size\":10,\"symbol\":\"triangle-up-open\"},\"mode\":\"markers\",\"name\":\"pig2human\",\"showlegend\":false,\"text\":\"95\\u202f% CI mean: [0.41;0.47]\",\"x\":[2.5],\"y\":[0.46801827112970845],\"type\":\"scatter\",\"xaxis\":\"x\",\"yaxis\":\"y\"},{\"legendgroup\":\"pig2human\",\"line\":{\"color\":\"#DDCB76\",\"dash\":\"solid\"},\"mode\":\"lines\",\"name\":\"pig2human\",\"showlegend\":false,\"text\":\"95\\u202f% CI median: [0.33;0.47]\",\"x\":[2.7,2.7],\"y\":[0.33024946090499857,0.46584229340781125],\"type\":\"scatter\",\"xaxis\":\"x\",\"yaxis\":\"y\"},{\"legendgroup\":\"pig2human\",\"line\":{\"color\":\"#DDCB76\"},\"marker\":{\"size\":10,\"symbol\":\"triangle-down\"},\"mode\":\"markers\",\"name\":\"pig2human\",\"showlegend\":false,\"text\":\"95\\u202f% CI median: [0.33;0.47]\",\"x\":[2.7],\"y\":[0.33024946090499857],\"type\":\"scatter\",\"xaxis\":\"x\",\"yaxis\":\"y\"},{\"legendgroup\":\"pig2human\",\"line\":{\"color\":\"#DDCB76\"},\"marker\":{\"size\":10,\"symbol\":\"triangle-up\"},\"mode\":\"markers\",\"name\":\"pig2human\",\"showlegend\":false,\"text\":\"95\\u202f% CI median: [0.33;0.47]\",\"x\":[2.7],\"y\":[0.46584229340781125],\"type\":\"scatter\",\"xaxis\":\"x\",\"yaxis\":\"y\"},{\"legend\":\"legend\",\"marker\":{\"color\":\"gray\",\"line\":{\"color\":\"black\",\"width\":1},\"size\":9,\"symbol\":\"circle\"},\"mode\":\"markers\",\"name\":\"stomach\",\"showlegend\":false,\"x\":[null],\"y\":[null],\"type\":\"scatter\",\"xaxis\":\"x2\",\"yaxis\":\"y2\"},{\"legend\":\"legend\",\"marker\":{\"color\":\"gray\",\"line\":{\"color\":\"black\",\"width\":1},\"size\":9,\"symbol\":\"square\"},\"mode\":\"markers\",\"name\":\"small_bowel\",\"showlegend\":false,\"x\":[null],\"y\":[null],\"type\":\"scatter\",\"xaxis\":\"x2\",\"yaxis\":\"y2\"},{\"legend\":\"legend\",\"marker\":{\"color\":\"gray\",\"line\":{\"color\":\"black\",\"width\":1},\"size\":9,\"symbol\":\"diamond\"},\"mode\":\"markers\",\"name\":\"colon\",\"showlegend\":false,\"x\":[null],\"y\":[null],\"type\":\"scatter\",\"xaxis\":\"x2\",\"yaxis\":\"y2\"},{\"legend\":\"legend\",\"marker\":{\"color\":\"gray\",\"line\":{\"color\":\"black\",\"width\":1},\"size\":9,\"symbol\":\"cross\"},\"mode\":\"markers\",\"name\":\"liver\",\"showlegend\":false,\"x\":[null],\"y\":[null],\"type\":\"scatter\",\"xaxis\":\"x2\",\"yaxis\":\"y2\"},{\"legend\":\"legend\",\"marker\":{\"color\":\"gray\",\"line\":{\"color\":\"black\",\"width\":1},\"size\":9,\"symbol\":\"x\"},\"mode\":\"markers\",\"name\":\"pancreas\",\"showlegend\":false,\"x\":[null],\"y\":[null],\"type\":\"scatter\",\"xaxis\":\"x2\",\"yaxis\":\"y2\"},{\"legend\":\"legend\",\"marker\":{\"color\":\"gray\",\"line\":{\"color\":\"black\",\"width\":1},\"size\":9,\"symbol\":\"triangle-up\"},\"mode\":\"markers\",\"name\":\"kidney\",\"showlegend\":false,\"x\":[null],\"y\":[null],\"type\":\"scatter\",\"xaxis\":\"x2\",\"yaxis\":\"y2\"},{\"legend\":\"legend\",\"marker\":{\"color\":\"gray\",\"line\":{\"color\":\"black\",\"width\":1},\"size\":9,\"symbol\":\"triangle-down\"},\"mode\":\"markers\",\"name\":\"spleen\",\"showlegend\":false,\"x\":[null],\"y\":[null],\"type\":\"scatter\",\"xaxis\":\"x2\",\"yaxis\":\"y2\"},{\"legend\":\"legend\",\"marker\":{\"color\":\"gray\",\"line\":{\"color\":\"black\",\"width\":1},\"size\":9,\"symbol\":\"triangle-left\"},\"mode\":\"markers\",\"name\":\"omentum\",\"showlegend\":false,\"x\":[null],\"y\":[null],\"type\":\"scatter\",\"xaxis\":\"x2\",\"yaxis\":\"y2\"},{\"legend\":\"legend\",\"marker\":{\"color\":\"gray\",\"line\":{\"color\":\"black\",\"width\":1},\"size\":9,\"symbol\":\"triangle-right\"},\"mode\":\"markers\",\"name\":\"lung\",\"showlegend\":false,\"x\":[null],\"y\":[null],\"type\":\"scatter\",\"xaxis\":\"x2\",\"yaxis\":\"y2\"},{\"legend\":\"legend\",\"marker\":{\"color\":\"gray\",\"line\":{\"color\":\"black\",\"width\":1},\"size\":9,\"symbol\":\"star\"},\"mode\":\"markers\",\"name\":\"skin\",\"showlegend\":false,\"x\":[null],\"y\":[null],\"type\":\"scatter\",\"xaxis\":\"x2\",\"yaxis\":\"y2\"},{\"legend\":\"legend\",\"marker\":{\"color\":\"gray\",\"line\":{\"color\":\"black\",\"width\":1},\"size\":9,\"symbol\":\"diamond-wide\"},\"mode\":\"markers\",\"name\":\"peritoneum\",\"showlegend\":false,\"x\":[null],\"y\":[null],\"type\":\"scatter\",\"xaxis\":\"x2\",\"yaxis\":\"y2\"},{\"legend\":\"legend\",\"marker\":{\"color\":\"gray\",\"line\":{\"color\":\"black\",\"width\":1},\"size\":9,\"symbol\":\"diamond-tall\"},\"mode\":\"markers\",\"name\":\"background\",\"showlegend\":false,\"x\":[null],\"y\":[null],\"type\":\"scatter\",\"xaxis\":\"x2\",\"yaxis\":\"y2\"},{\"legend\":\"legend\",\"legendgroup\":\"rat2rat\",\"marker\":{\"color\":\"#89CCED\",\"line\":{\"color\":\"black\",\"width\":1},\"size\":9,\"symbol\":\"triangle-right\"},\"mode\":\"markers\",\"name\":\"lung\",\"showlegend\":false,\"x\":[0.0],\"y\":[0.9976883362501096],\"type\":\"scatter\",\"xaxis\":\"x2\",\"yaxis\":\"y2\"},{\"legend\":\"legend\",\"legendgroup\":\"rat2rat\",\"marker\":{\"color\":\"#89CCED\",\"line\":{\"color\":\"black\",\"width\":1},\"size\":9,\"symbol\":\"diamond-tall\"},\"mode\":\"markers\",\"name\":\"background\",\"showlegend\":false,\"x\":[0.09333333333333334],\"y\":[0.9856789268217437],\"type\":\"scatter\",\"xaxis\":\"x2\",\"yaxis\":\"y2\"},{\"legend\":\"legend\",\"legendgroup\":\"rat2rat\",\"marker\":{\"color\":\"#89CCED\",\"line\":{\"color\":\"black\",\"width\":1},\"size\":9,\"symbol\":\"diamond-wide\"},\"mode\":\"markers\",\"name\":\"peritoneum\",\"showlegend\":false,\"x\":[0.18666666666666668],\"y\":[0.9818086741501555],\"type\":\"scatter\",\"xaxis\":\"x2\",\"yaxis\":\"y2\"},{\"legend\":\"legend\",\"legendgroup\":\"rat2rat\",\"marker\":{\"color\":\"#89CCED\",\"line\":{\"color\":\"black\",\"width\":1},\"size\":9,\"symbol\":\"triangle-up\"},\"mode\":\"markers\",\"name\":\"kidney\",\"showlegend\":false,\"x\":[0.28],\"y\":[0.9664866114274049],\"type\":\"scatter\",\"xaxis\":\"x2\",\"yaxis\":\"y2\"},{\"legend\":\"legend\",\"legendgroup\":\"rat2rat\",\"marker\":{\"color\":\"#89CCED\",\"line\":{\"color\":\"black\",\"width\":1},\"size\":9,\"symbol\":\"square\"},\"mode\":\"markers\",\"name\":\"small_bowel\",\"showlegend\":false,\"x\":[0.0],\"y\":[0.951204650236147],\"type\":\"scatter\",\"xaxis\":\"x2\",\"yaxis\":\"y2\"},{\"legend\":\"legend\",\"legendgroup\":\"rat2rat\",\"marker\":{\"color\":\"#89CCED\",\"line\":{\"color\":\"black\",\"width\":1},\"size\":9,\"symbol\":\"cross\"},\"mode\":\"markers\",\"name\":\"liver\",\"showlegend\":false,\"x\":[0.09333333333333334],\"y\":[0.930712023156027],\"type\":\"scatter\",\"xaxis\":\"x2\",\"yaxis\":\"y2\"},{\"legend\":\"legend\",\"legendgroup\":\"rat2rat\",\"marker\":{\"color\":\"#89CCED\",\"line\":{\"color\":\"black\",\"width\":1},\"size\":9,\"symbol\":\"star\"},\"mode\":\"markers\",\"name\":\"skin\",\"showlegend\":false,\"x\":[0.18666666666666668],\"y\":[0.9239342932772165],\"type\":\"scatter\",\"xaxis\":\"x2\",\"yaxis\":\"y2\"},{\"legend\":\"legend\",\"legendgroup\":\"rat2rat\",\"marker\":{\"color\":\"#89CCED\",\"line\":{\"color\":\"black\",\"width\":1},\"size\":9,\"symbol\":\"triangle-down\"},\"mode\":\"markers\",\"name\":\"spleen\",\"showlegend\":false,\"x\":[0.28],\"y\":[0.9044535149485129],\"type\":\"scatter\",\"xaxis\":\"x2\",\"yaxis\":\"y2\"},{\"legend\":\"legend\",\"legendgroup\":\"rat2rat\",\"marker\":{\"color\":\"#89CCED\",\"line\":{\"color\":\"black\",\"width\":1},\"size\":9,\"symbol\":\"circle\"},\"mode\":\"markers\",\"name\":\"stomach\",\"showlegend\":false,\"x\":[0.0],\"y\":[0.8647751136331447],\"type\":\"scatter\",\"xaxis\":\"x2\",\"yaxis\":\"y2\"},{\"legend\":\"legend\",\"legendgroup\":\"rat2rat\",\"marker\":{\"color\":\"#89CCED\",\"line\":{\"color\":\"black\",\"width\":1},\"size\":9,\"symbol\":\"triangle-left\"},\"mode\":\"markers\",\"name\":\"omentum\",\"showlegend\":false,\"x\":[0.09333333333333334],\"y\":[0.8282295157769682],\"type\":\"scatter\",\"xaxis\":\"x2\",\"yaxis\":\"y2\"},{\"legend\":\"legend\",\"legendgroup\":\"rat2rat\",\"marker\":{\"color\":\"#89CCED\",\"line\":{\"color\":\"black\",\"width\":1},\"size\":9,\"symbol\":\"diamond\"},\"mode\":\"markers\",\"name\":\"colon\",\"showlegend\":false,\"x\":[0.18666666666666668],\"y\":[0.8094864844304476],\"type\":\"scatter\",\"xaxis\":\"x2\",\"yaxis\":\"y2\"},{\"legend\":\"legend\",\"legendgroup\":\"rat2rat\",\"marker\":{\"color\":\"#89CCED\",\"line\":{\"color\":\"black\",\"width\":1},\"size\":9,\"symbol\":\"x\"},\"mode\":\"markers\",\"name\":\"pancreas\",\"showlegend\":false,\"x\":[0.28],\"y\":[0.6787031203835875],\"type\":\"scatter\",\"xaxis\":\"x2\",\"yaxis\":\"y2\"},{\"boxmean\":true,\"boxpoints\":false,\"legend\":\"legend2\",\"legendgroup\":\"rat2rat\",\"line\":{\"color\":\"#89CCED\"},\"name\":\"rat2rat\",\"showlegend\":false,\"x\":[0.6,0.6,0.6,0.6,0.6,0.6,0.6,0.6,0.6,0.6,0.6,0.6],\"y\":{\"dtype\":\"f8\",\"bdata\":\"l2\\u002f5FhDt7z\\u002fXyGGIrorvP+LtTAb6au8\\u002fNEiDVHXt7j\\u002flJxK8RHDuP0dfrpRkyO0\\u002fnumopt6Q7T90mG5\\u002fSPHsP4pe7ts8rOs\\u002fAQJ7L9uA6j9h2SUzUOfpP3uzN5vvt+U\\u002f\"},\"type\":\"box\",\"xaxis\":\"x2\",\"yaxis\":\"y2\"},{\"legendgroup\":\"rat2rat\",\"line\":{\"color\":\"#89CCED\",\"dash\":\"dot\"},\"mode\":\"lines\",\"name\":\"rat2rat\",\"showlegend\":false,\"text\":\"95\\u202f% CI mean: [0.89;0.91]\",\"x\":[0.5,0.5],\"y\":[0.8909164699105535,0.9136335148911321],\"type\":\"scatter\",\"xaxis\":\"x2\",\"yaxis\":\"y2\"},{\"legendgroup\":\"rat2rat\",\"line\":{\"color\":\"#89CCED\"},\"marker\":{\"size\":10,\"symbol\":\"triangle-down-open\"},\"mode\":\"markers\",\"name\":\"rat2rat\",\"showlegend\":false,\"text\":\"95\\u202f% CI mean: [0.89;0.91]\",\"x\":[0.5],\"y\":[0.8909164699105535],\"type\":\"scatter\",\"xaxis\":\"x2\",\"yaxis\":\"y2\"},{\"legendgroup\":\"rat2rat\",\"line\":{\"color\":\"#89CCED\"},\"marker\":{\"size\":10,\"symbol\":\"triangle-up-open\"},\"mode\":\"markers\",\"name\":\"rat2rat\",\"showlegend\":false,\"text\":\"95\\u202f% CI mean: [0.89;0.91]\",\"x\":[0.5],\"y\":[0.9136335148911321],\"type\":\"scatter\",\"xaxis\":\"x2\",\"yaxis\":\"y2\"},{\"legendgroup\":\"rat2rat\",\"line\":{\"color\":\"#89CCED\",\"dash\":\"solid\"},\"mode\":\"lines\",\"name\":\"rat2rat\",\"showlegend\":false,\"text\":\"95\\u202f% CI median: [0.91;0.94]\",\"x\":[0.7,0.7],\"y\":[0.9146862969396741,0.9404203997859543],\"type\":\"scatter\",\"xaxis\":\"x2\",\"yaxis\":\"y2\"},{\"legendgroup\":\"rat2rat\",\"line\":{\"color\":\"#89CCED\"},\"marker\":{\"size\":10,\"symbol\":\"triangle-down\"},\"mode\":\"markers\",\"name\":\"rat2rat\",\"showlegend\":false,\"text\":\"95\\u202f% CI median: [0.91;0.94]\",\"x\":[0.7],\"y\":[0.9146862969396741],\"type\":\"scatter\",\"xaxis\":\"x2\",\"yaxis\":\"y2\"},{\"legendgroup\":\"rat2rat\",\"line\":{\"color\":\"#89CCED\"},\"marker\":{\"size\":10,\"symbol\":\"triangle-up\"},\"mode\":\"markers\",\"name\":\"rat2rat\",\"showlegend\":false,\"text\":\"95\\u202f% CI median: [0.91;0.94]\",\"x\":[0.7],\"y\":[0.9404203997859543],\"type\":\"scatter\",\"xaxis\":\"x2\",\"yaxis\":\"y2\"},{\"legend\":\"legend\",\"legendgroup\":\"rat2pig\",\"marker\":{\"color\":\"#44AA99\",\"line\":{\"color\":\"black\",\"width\":1},\"size\":9,\"symbol\":\"cross\"},\"mode\":\"markers\",\"name\":\"liver\",\"showlegend\":false,\"x\":[1.0],\"y\":[0.904012442288988],\"type\":\"scatter\",\"xaxis\":\"x2\",\"yaxis\":\"y2\"},{\"legend\":\"legend\",\"legendgroup\":\"rat2pig\",\"marker\":{\"color\":\"#44AA99\",\"line\":{\"color\":\"black\",\"width\":1},\"size\":9,\"symbol\":\"diamond-tall\"},\"mode\":\"markers\",\"name\":\"background\",\"showlegend\":false,\"x\":[1.0933333333333333],\"y\":[0.7920308987715156],\"type\":\"scatter\",\"xaxis\":\"x2\",\"yaxis\":\"y2\"},{\"legend\":\"legend\",\"legendgroup\":\"rat2pig\",\"marker\":{\"color\":\"#44AA99\",\"line\":{\"color\":\"black\",\"width\":1},\"size\":9,\"symbol\":\"square\"},\"mode\":\"markers\",\"name\":\"small_bowel\",\"showlegend\":false,\"x\":[1.1866666666666668],\"y\":[0.7509603423631653],\"type\":\"scatter\",\"xaxis\":\"x2\",\"yaxis\":\"y2\"},{\"legend\":\"legend\",\"legendgroup\":\"rat2pig\",\"marker\":{\"color\":\"#44AA99\",\"line\":{\"color\":\"black\",\"width\":1},\"size\":9,\"symbol\":\"triangle-down\"},\"mode\":\"markers\",\"name\":\"spleen\",\"showlegend\":false,\"x\":[1.28],\"y\":[0.7086873066474462],\"type\":\"scatter\",\"xaxis\":\"x2\",\"yaxis\":\"y2\"},{\"legend\":\"legend\",\"legendgroup\":\"rat2pig\",\"marker\":{\"color\":\"#44AA99\",\"line\":{\"color\":\"black\",\"width\":1},\"size\":9,\"symbol\":\"triangle-right\"},\"mode\":\"markers\",\"name\":\"lung\",\"showlegend\":false,\"x\":[1.0],\"y\":[0.5577273360156751],\"type\":\"scatter\",\"xaxis\":\"x2\",\"yaxis\":\"y2\"},{\"legend\":\"legend\",\"legendgroup\":\"rat2pig\",\"marker\":{\"color\":\"#44AA99\",\"line\":{\"color\":\"black\",\"width\":1},\"size\":9,\"symbol\":\"diamond\"},\"mode\":\"markers\",\"name\":\"colon\",\"showlegend\":false,\"x\":[1.0933333333333333],\"y\":[0.49831375168345],\"type\":\"scatter\",\"xaxis\":\"x2\",\"yaxis\":\"y2\"},{\"legend\":\"legend\",\"legendgroup\":\"rat2pig\",\"marker\":{\"color\":\"#44AA99\",\"line\":{\"color\":\"black\",\"width\":1},\"size\":9,\"symbol\":\"star\"},\"mode\":\"markers\",\"name\":\"skin\",\"showlegend\":false,\"x\":[1.1866666666666668],\"y\":[0.4948125321246597],\"type\":\"scatter\",\"xaxis\":\"x2\",\"yaxis\":\"y2\"},{\"legend\":\"legend\",\"legendgroup\":\"rat2pig\",\"marker\":{\"color\":\"#44AA99\",\"line\":{\"color\":\"black\",\"width\":1},\"size\":9,\"symbol\":\"x\"},\"mode\":\"markers\",\"name\":\"pancreas\",\"showlegend\":false,\"x\":[1.28],\"y\":[0.35734931918836776],\"type\":\"scatter\",\"xaxis\":\"x2\",\"yaxis\":\"y2\"},{\"legend\":\"legend\",\"legendgroup\":\"rat2pig\",\"marker\":{\"color\":\"#44AA99\",\"line\":{\"color\":\"black\",\"width\":1},\"size\":9,\"symbol\":\"diamond-wide\"},\"mode\":\"markers\",\"name\":\"peritoneum\",\"showlegend\":false,\"x\":[1.0],\"y\":[0.319881221796871],\"type\":\"scatter\",\"xaxis\":\"x2\",\"yaxis\":\"y2\"},{\"legend\":\"legend\",\"legendgroup\":\"rat2pig\",\"marker\":{\"color\":\"#44AA99\",\"line\":{\"color\":\"black\",\"width\":1},\"size\":9,\"symbol\":\"triangle-left\"},\"mode\":\"markers\",\"name\":\"omentum\",\"showlegend\":false,\"x\":[1.0933333333333333],\"y\":[0.1583581739498793],\"type\":\"scatter\",\"xaxis\":\"x2\",\"yaxis\":\"y2\"},{\"legend\":\"legend\",\"legendgroup\":\"rat2pig\",\"marker\":{\"color\":\"#44AA99\",\"line\":{\"color\":\"black\",\"width\":1},\"size\":9,\"symbol\":\"circle\"},\"mode\":\"markers\",\"name\":\"stomach\",\"showlegend\":false,\"x\":[1.1866666666666668],\"y\":[0.08947814759343234],\"type\":\"scatter\",\"xaxis\":\"x2\",\"yaxis\":\"y2\"},{\"legend\":\"legend\",\"legendgroup\":\"rat2pig\",\"marker\":{\"color\":\"#44AA99\",\"line\":{\"color\":\"black\",\"width\":1},\"size\":9,\"symbol\":\"triangle-up\"},\"mode\":\"markers\",\"name\":\"kidney\",\"showlegend\":false,\"x\":[1.28],\"y\":[0.009552446613849134],\"type\":\"scatter\",\"xaxis\":\"x2\",\"yaxis\":\"y2\"},{\"boxmean\":true,\"boxpoints\":false,\"legend\":\"legend2\",\"legendgroup\":\"rat2pig\",\"line\":{\"color\":\"#44AA99\"},\"name\":\"rat2pig\",\"showlegend\":false,\"x\":[1.6,1.6,1.6,1.6,1.6,1.6,1.6,1.6,1.6,1.6,1.6,1.6],\"y\":{\"dtype\":\"f8\",\"bdata\":\"hd1ZgKvt7D8JpfQuUVjpP0de4fvdB+g\\u002f7oOkAJGt5j+MuIj\\u002f5tjhP60oqFxf5N8\\u002fVBbILgKr3z+mXMqtz97WP502jhbveNQ\\u002fJaIVpRRFxD8C1p41Cui2P8IXba47kIM\\u002f\"},\"type\":\"box\",\"xaxis\":\"x2\",\"yaxis\":\"y2\"},{\"legendgroup\":\"rat2pig\",\"line\":{\"color\":\"#44AA99\",\"dash\":\"dot\"},\"mode\":\"lines\",\"name\":\"rat2pig\",\"showlegend\":false,\"text\":\"95\\u202f% CI mean: [0.44;0.50]\",\"x\":[1.5,1.5],\"y\":[0.4382038769450295,0.5006256342194584],\"type\":\"scatter\",\"xaxis\":\"x2\",\"yaxis\":\"y2\"},{\"legendgroup\":\"rat2pig\",\"line\":{\"color\":\"#44AA99\"},\"marker\":{\"size\":10,\"symbol\":\"triangle-down-open\"},\"mode\":\"markers\",\"name\":\"rat2pig\",\"showlegend\":false,\"text\":\"95\\u202f% CI mean: [0.44;0.50]\",\"x\":[1.5],\"y\":[0.4382038769450295],\"type\":\"scatter\",\"xaxis\":\"x2\",\"yaxis\":\"y2\"},{\"legendgroup\":\"rat2pig\",\"line\":{\"color\":\"#44AA99\"},\"marker\":{\"size\":10,\"symbol\":\"triangle-up-open\"},\"mode\":\"markers\",\"name\":\"rat2pig\",\"showlegend\":false,\"text\":\"95\\u202f% CI mean: [0.44;0.50]\",\"x\":[1.5],\"y\":[0.5006256342194584],\"type\":\"scatter\",\"xaxis\":\"x2\",\"yaxis\":\"y2\"},{\"legendgroup\":\"rat2pig\",\"line\":{\"color\":\"#44AA99\",\"dash\":\"solid\"},\"mode\":\"lines\",\"name\":\"rat2pig\",\"showlegend\":false,\"text\":\"95\\u202f% CI median: [0.40;0.56]\",\"x\":[1.7,1.7],\"y\":[0.4001753601672757,0.5571277924942601],\"type\":\"scatter\",\"xaxis\":\"x2\",\"yaxis\":\"y2\"},{\"legendgroup\":\"rat2pig\",\"line\":{\"color\":\"#44AA99\"},\"marker\":{\"size\":10,\"symbol\":\"triangle-down\"},\"mode\":\"markers\",\"name\":\"rat2pig\",\"showlegend\":false,\"text\":\"95\\u202f% CI median: [0.40;0.56]\",\"x\":[1.7],\"y\":[0.4001753601672757],\"type\":\"scatter\",\"xaxis\":\"x2\",\"yaxis\":\"y2\"},{\"legendgroup\":\"rat2pig\",\"line\":{\"color\":\"#44AA99\"},\"marker\":{\"size\":10,\"symbol\":\"triangle-up\"},\"mode\":\"markers\",\"name\":\"rat2pig\",\"showlegend\":false,\"text\":\"95\\u202f% CI median: [0.40;0.56]\",\"x\":[1.7],\"y\":[0.5571277924942601],\"type\":\"scatter\",\"xaxis\":\"x2\",\"yaxis\":\"y2\"},{\"legend\":\"legend\",\"legendgroup\":\"rat2human\",\"marker\":{\"color\":\"#DDCB76\",\"line\":{\"color\":\"black\",\"width\":1},\"size\":9,\"symbol\":\"diamond-tall\"},\"mode\":\"markers\",\"name\":\"background\",\"showlegend\":false,\"x\":[2.0],\"y\":[0.8205095685400732],\"type\":\"scatter\",\"xaxis\":\"x2\",\"yaxis\":\"y2\"},{\"legend\":\"legend\",\"legendgroup\":\"rat2human\",\"marker\":{\"color\":\"#DDCB76\",\"line\":{\"color\":\"black\",\"width\":1},\"size\":9,\"symbol\":\"triangle-down\"},\"mode\":\"markers\",\"name\":\"spleen\",\"showlegend\":false,\"x\":[2.0933333333333333],\"y\":[0.6211896854064738],\"type\":\"scatter\",\"xaxis\":\"x2\",\"yaxis\":\"y2\"},{\"legend\":\"legend\",\"legendgroup\":\"rat2human\",\"marker\":{\"color\":\"#DDCB76\",\"line\":{\"color\":\"black\",\"width\":1},\"size\":9,\"symbol\":\"triangle-left\"},\"mode\":\"markers\",\"name\":\"omentum\",\"showlegend\":false,\"x\":[2.1866666666666665],\"y\":[0.5776697166056891],\"type\":\"scatter\",\"xaxis\":\"x2\",\"yaxis\":\"y2\"},{\"legend\":\"legend\",\"legendgroup\":\"rat2human\",\"marker\":{\"color\":\"#DDCB76\",\"line\":{\"color\":\"black\",\"width\":1},\"size\":9,\"symbol\":\"star\"},\"mode\":\"markers\",\"name\":\"skin\",\"showlegend\":false,\"x\":[2.2800000000000002],\"y\":[0.5598880548741237],\"type\":\"scatter\",\"xaxis\":\"x2\",\"yaxis\":\"y2\"},{\"legend\":\"legend\",\"legendgroup\":\"rat2human\",\"marker\":{\"color\":\"#DDCB76\",\"line\":{\"color\":\"black\",\"width\":1},\"size\":9,\"symbol\":\"square\"},\"mode\":\"markers\",\"name\":\"small_bowel\",\"showlegend\":false,\"x\":[2.0],\"y\":[0.4634234585972149],\"type\":\"scatter\",\"xaxis\":\"x2\",\"yaxis\":\"y2\"},{\"legend\":\"legend\",\"legendgroup\":\"rat2human\",\"marker\":{\"color\":\"#DDCB76\",\"line\":{\"color\":\"black\",\"width\":1},\"size\":9,\"symbol\":\"cross\"},\"mode\":\"markers\",\"name\":\"liver\",\"showlegend\":false,\"x\":[2.0933333333333333],\"y\":[0.43734400737490703],\"type\":\"scatter\",\"xaxis\":\"x2\",\"yaxis\":\"y2\"},{\"legend\":\"legend\",\"legendgroup\":\"rat2human\",\"marker\":{\"color\":\"#DDCB76\",\"line\":{\"color\":\"black\",\"width\":1},\"size\":9,\"symbol\":\"triangle-right\"},\"mode\":\"markers\",\"name\":\"lung\",\"showlegend\":false,\"x\":[2.1866666666666665],\"y\":[0.4098363009012408],\"type\":\"scatter\",\"xaxis\":\"x2\",\"yaxis\":\"y2\"},{\"legend\":\"legend\",\"legendgroup\":\"rat2human\",\"marker\":{\"color\":\"#DDCB76\",\"line\":{\"color\":\"black\",\"width\":1},\"size\":9,\"symbol\":\"diamond-wide\"},\"mode\":\"markers\",\"name\":\"peritoneum\",\"showlegend\":false,\"x\":[2.2800000000000002],\"y\":[0.1505212463272441],\"type\":\"scatter\",\"xaxis\":\"x2\",\"yaxis\":\"y2\"},{\"legend\":\"legend\",\"legendgroup\":\"rat2human\",\"marker\":{\"color\":\"#DDCB76\",\"line\":{\"color\":\"black\",\"width\":1},\"size\":9,\"symbol\":\"x\"},\"mode\":\"markers\",\"name\":\"pancreas\",\"showlegend\":false,\"x\":[2.0],\"y\":[0.06399467264688233],\"type\":\"scatter\",\"xaxis\":\"x2\",\"yaxis\":\"y2\"},{\"legend\":\"legend\",\"legendgroup\":\"rat2human\",\"marker\":{\"color\":\"#DDCB76\",\"line\":{\"color\":\"black\",\"width\":1},\"size\":9,\"symbol\":\"circle\"},\"mode\":\"markers\",\"name\":\"stomach\",\"showlegend\":false,\"x\":[2.0933333333333333],\"y\":[0.024325104402838554],\"type\":\"scatter\",\"xaxis\":\"x2\",\"yaxis\":\"y2\"},{\"legend\":\"legend\",\"legendgroup\":\"rat2human\",\"marker\":{\"color\":\"#DDCB76\",\"line\":{\"color\":\"black\",\"width\":1},\"size\":9,\"symbol\":\"diamond\"},\"mode\":\"markers\",\"name\":\"colon\",\"showlegend\":false,\"x\":[2.1866666666666665],\"y\":[0.0023763988214820417],\"type\":\"scatter\",\"xaxis\":\"x2\",\"yaxis\":\"y2\"},{\"legend\":\"legend\",\"legendgroup\":\"rat2human\",\"marker\":{\"color\":\"#DDCB76\",\"line\":{\"color\":\"black\",\"width\":1},\"size\":9,\"symbol\":\"triangle-up\"},\"mode\":\"markers\",\"name\":\"kidney\",\"showlegend\":false,\"x\":[2.2800000000000002],\"y\":[0.002326004158817341],\"type\":\"scatter\",\"xaxis\":\"x2\",\"yaxis\":\"y2\"},{\"boxmean\":true,\"boxpoints\":false,\"legend\":\"legend2\",\"legendgroup\":\"rat2human\",\"line\":{\"color\":\"#DDCB76\"},\"name\":\"rat2human\",\"showlegend\":false,\"x\":[2.6,2.6,2.6,2.6,2.6,2.6,2.6,2.6,2.6,2.6,2.6,2.6],\"y\":{\"dtype\":\"f8\",\"bdata\":\"8OhdSJ1B6j\\u002fe3e0wyeDjP7PAljNFfOI\\u002fj1+jWprq4T+u87fduqjdPzu3Mbhx\\u002fds\\u002fimdFCcI62j\\u002f5ESq7R0TDP0L3InL0YbA\\u002fCCWHH67omD9rfA5nq3djPwAAXPn7DWM\\u002f\"},\"type\":\"box\",\"xaxis\":\"x2\",\"yaxis\":\"y2\"},{\"legendgroup\":\"rat2human\",\"line\":{\"color\":\"#DDCB76\",\"dash\":\"dot\"},\"mode\":\"lines\",\"name\":\"rat2human\",\"showlegend\":false,\"text\":\"95\\u202f% CI mean: [0.32;0.37]\",\"x\":[2.5,2.5],\"y\":[0.3231039294190914,0.36632368678644],\"type\":\"scatter\",\"xaxis\":\"x2\",\"yaxis\":\"y2\"},{\"legendgroup\":\"rat2human\",\"line\":{\"color\":\"#DDCB76\"},\"marker\":{\"size\":10,\"symbol\":\"triangle-down-open\"},\"mode\":\"markers\",\"name\":\"rat2human\",\"showlegend\":false,\"text\":\"95\\u202f% CI mean: [0.32;0.37]\",\"x\":[2.5],\"y\":[0.3231039294190914],\"type\":\"scatter\",\"xaxis\":\"x2\",\"yaxis\":\"y2\"},{\"legendgroup\":\"rat2human\",\"line\":{\"color\":\"#DDCB76\"},\"marker\":{\"size\":10,\"symbol\":\"triangle-up-open\"},\"mode\":\"markers\",\"name\":\"rat2human\",\"showlegend\":false,\"text\":\"95\\u202f% CI mean: [0.32;0.37]\",\"x\":[2.5],\"y\":[0.36632368678644],\"type\":\"scatter\",\"xaxis\":\"x2\",\"yaxis\":\"y2\"},{\"legendgroup\":\"rat2human\",\"line\":{\"color\":\"#DDCB76\",\"dash\":\"solid\"},\"mode\":\"lines\",\"name\":\"rat2human\",\"showlegend\":false,\"text\":\"95\\u202f% CI median: [0.34;0.47]\",\"x\":[2.7,2.7],\"y\":[0.338246638081353,0.469441872512023],\"type\":\"scatter\",\"xaxis\":\"x2\",\"yaxis\":\"y2\"},{\"legendgroup\":\"rat2human\",\"line\":{\"color\":\"#DDCB76\"},\"marker\":{\"size\":10,\"symbol\":\"triangle-down\"},\"mode\":\"markers\",\"name\":\"rat2human\",\"showlegend\":false,\"text\":\"95\\u202f% CI median: [0.34;0.47]\",\"x\":[2.7],\"y\":[0.338246638081353],\"type\":\"scatter\",\"xaxis\":\"x2\",\"yaxis\":\"y2\"},{\"legendgroup\":\"rat2human\",\"line\":{\"color\":\"#DDCB76\"},\"marker\":{\"size\":10,\"symbol\":\"triangle-up\"},\"mode\":\"markers\",\"name\":\"rat2human\",\"showlegend\":false,\"text\":\"95\\u202f% CI median: [0.34;0.47]\",\"x\":[2.7],\"y\":[0.469441872512023],\"type\":\"scatter\",\"xaxis\":\"x2\",\"yaxis\":\"y2\"},{\"legend\":\"legend\",\"marker\":{\"color\":\"gray\",\"line\":{\"color\":\"black\",\"width\":1},\"size\":9,\"symbol\":\"circle\"},\"mode\":\"markers\",\"name\":\"stomach\",\"showlegend\":false,\"x\":[null],\"y\":[null],\"type\":\"scatter\",\"xaxis\":\"x3\",\"yaxis\":\"y3\"},{\"legend\":\"legend\",\"marker\":{\"color\":\"gray\",\"line\":{\"color\":\"black\",\"width\":1},\"size\":9,\"symbol\":\"square\"},\"mode\":\"markers\",\"name\":\"small_bowel\",\"showlegend\":false,\"x\":[null],\"y\":[null],\"type\":\"scatter\",\"xaxis\":\"x3\",\"yaxis\":\"y3\"},{\"legend\":\"legend\",\"marker\":{\"color\":\"gray\",\"line\":{\"color\":\"black\",\"width\":1},\"size\":9,\"symbol\":\"diamond\"},\"mode\":\"markers\",\"name\":\"colon\",\"showlegend\":false,\"x\":[null],\"y\":[null],\"type\":\"scatter\",\"xaxis\":\"x3\",\"yaxis\":\"y3\"},{\"legend\":\"legend\",\"marker\":{\"color\":\"gray\",\"line\":{\"color\":\"black\",\"width\":1},\"size\":9,\"symbol\":\"cross\"},\"mode\":\"markers\",\"name\":\"liver\",\"showlegend\":false,\"x\":[null],\"y\":[null],\"type\":\"scatter\",\"xaxis\":\"x3\",\"yaxis\":\"y3\"},{\"legend\":\"legend\",\"marker\":{\"color\":\"gray\",\"line\":{\"color\":\"black\",\"width\":1},\"size\":9,\"symbol\":\"x\"},\"mode\":\"markers\",\"name\":\"pancreas\",\"showlegend\":false,\"x\":[null],\"y\":[null],\"type\":\"scatter\",\"xaxis\":\"x3\",\"yaxis\":\"y3\"},{\"legend\":\"legend\",\"marker\":{\"color\":\"gray\",\"line\":{\"color\":\"black\",\"width\":1},\"size\":9,\"symbol\":\"triangle-up\"},\"mode\":\"markers\",\"name\":\"kidney\",\"showlegend\":false,\"x\":[null],\"y\":[null],\"type\":\"scatter\",\"xaxis\":\"x3\",\"yaxis\":\"y3\"},{\"legend\":\"legend\",\"marker\":{\"color\":\"gray\",\"line\":{\"color\":\"black\",\"width\":1},\"size\":9,\"symbol\":\"triangle-down\"},\"mode\":\"markers\",\"name\":\"spleen\",\"showlegend\":false,\"x\":[null],\"y\":[null],\"type\":\"scatter\",\"xaxis\":\"x3\",\"yaxis\":\"y3\"},{\"legend\":\"legend\",\"marker\":{\"color\":\"gray\",\"line\":{\"color\":\"black\",\"width\":1},\"size\":9,\"symbol\":\"triangle-left\"},\"mode\":\"markers\",\"name\":\"omentum\",\"showlegend\":false,\"x\":[null],\"y\":[null],\"type\":\"scatter\",\"xaxis\":\"x3\",\"yaxis\":\"y3\"},{\"legend\":\"legend\",\"marker\":{\"color\":\"gray\",\"line\":{\"color\":\"black\",\"width\":1},\"size\":9,\"symbol\":\"triangle-right\"},\"mode\":\"markers\",\"name\":\"lung\",\"showlegend\":false,\"x\":[null],\"y\":[null],\"type\":\"scatter\",\"xaxis\":\"x3\",\"yaxis\":\"y3\"},{\"legend\":\"legend\",\"marker\":{\"color\":\"gray\",\"line\":{\"color\":\"black\",\"width\":1},\"size\":9,\"symbol\":\"star\"},\"mode\":\"markers\",\"name\":\"skin\",\"showlegend\":false,\"x\":[null],\"y\":[null],\"type\":\"scatter\",\"xaxis\":\"x3\",\"yaxis\":\"y3\"},{\"legend\":\"legend\",\"marker\":{\"color\":\"gray\",\"line\":{\"color\":\"black\",\"width\":1},\"size\":9,\"symbol\":\"diamond-wide\"},\"mode\":\"markers\",\"name\":\"peritoneum\",\"showlegend\":false,\"x\":[null],\"y\":[null],\"type\":\"scatter\",\"xaxis\":\"x3\",\"yaxis\":\"y3\"},{\"legend\":\"legend\",\"marker\":{\"color\":\"gray\",\"line\":{\"color\":\"black\",\"width\":1},\"size\":9,\"symbol\":\"diamond-tall\"},\"mode\":\"markers\",\"name\":\"background\",\"showlegend\":false,\"x\":[null],\"y\":[null],\"type\":\"scatter\",\"xaxis\":\"x3\",\"yaxis\":\"y3\"},{\"legend\":\"legend\",\"legendgroup\":\"human2human\",\"marker\":{\"color\":\"#DDCB76\",\"line\":{\"color\":\"black\",\"width\":1},\"size\":9,\"symbol\":\"diamond-tall\"},\"mode\":\"markers\",\"name\":\"background\",\"showlegend\":false,\"x\":[0.0],\"y\":[0.9860373035256218],\"type\":\"scatter\",\"xaxis\":\"x3\",\"yaxis\":\"y3\"},{\"legend\":\"legend\",\"legendgroup\":\"human2human\",\"marker\":{\"color\":\"#DDCB76\",\"line\":{\"color\":\"black\",\"width\":1},\"size\":9,\"symbol\":\"triangle-up\"},\"mode\":\"markers\",\"name\":\"kidney\",\"showlegend\":false,\"x\":[0.09333333333333334],\"y\":[0.9531400355199973],\"type\":\"scatter\",\"xaxis\":\"x3\",\"yaxis\":\"y3\"},{\"legend\":\"legend\",\"legendgroup\":\"human2human\",\"marker\":{\"color\":\"#DDCB76\",\"line\":{\"color\":\"black\",\"width\":1},\"size\":9,\"symbol\":\"cross\"},\"mode\":\"markers\",\"name\":\"liver\",\"showlegend\":false,\"x\":[0.18666666666666668],\"y\":[0.9341440364699393],\"type\":\"scatter\",\"xaxis\":\"x3\",\"yaxis\":\"y3\"},{\"legend\":\"legend\",\"legendgroup\":\"human2human\",\"marker\":{\"color\":\"#DDCB76\",\"line\":{\"color\":\"black\",\"width\":1},\"size\":9,\"symbol\":\"triangle-left\"},\"mode\":\"markers\",\"name\":\"omentum\",\"showlegend\":false,\"x\":[0.28],\"y\":[0.8878672347019656],\"type\":\"scatter\",\"xaxis\":\"x3\",\"yaxis\":\"y3\"},{\"legend\":\"legend\",\"legendgroup\":\"human2human\",\"marker\":{\"color\":\"#DDCB76\",\"line\":{\"color\":\"black\",\"width\":1},\"size\":9,\"symbol\":\"star\"},\"mode\":\"markers\",\"name\":\"skin\",\"showlegend\":false,\"x\":[0.0],\"y\":[0.8108857959518753],\"type\":\"scatter\",\"xaxis\":\"x3\",\"yaxis\":\"y3\"},{\"legend\":\"legend\",\"legendgroup\":\"human2human\",\"marker\":{\"color\":\"#DDCB76\",\"line\":{\"color\":\"black\",\"width\":1},\"size\":9,\"symbol\":\"triangle-right\"},\"mode\":\"markers\",\"name\":\"lung\",\"showlegend\":false,\"x\":[0.09333333333333334],\"y\":[0.8108777288595835],\"type\":\"scatter\",\"xaxis\":\"x3\",\"yaxis\":\"y3\"},{\"legend\":\"legend\",\"legendgroup\":\"human2human\",\"marker\":{\"color\":\"#DDCB76\",\"line\":{\"color\":\"black\",\"width\":1},\"size\":9,\"symbol\":\"square\"},\"mode\":\"markers\",\"name\":\"small_bowel\",\"showlegend\":false,\"x\":[0.18666666666666668],\"y\":[0.7951855261379918],\"type\":\"scatter\",\"xaxis\":\"x3\",\"yaxis\":\"y3\"},{\"legend\":\"legend\",\"legendgroup\":\"human2human\",\"marker\":{\"color\":\"#DDCB76\",\"line\":{\"color\":\"black\",\"width\":1},\"size\":9,\"symbol\":\"circle\"},\"mode\":\"markers\",\"name\":\"stomach\",\"showlegend\":false,\"x\":[0.28],\"y\":[0.7634115777827932],\"type\":\"scatter\",\"xaxis\":\"x3\",\"yaxis\":\"y3\"},{\"legend\":\"legend\",\"legendgroup\":\"human2human\",\"marker\":{\"color\":\"#DDCB76\",\"line\":{\"color\":\"black\",\"width\":1},\"size\":9,\"symbol\":\"diamond\"},\"mode\":\"markers\",\"name\":\"colon\",\"showlegend\":false,\"x\":[0.0],\"y\":[0.7506586656924346],\"type\":\"scatter\",\"xaxis\":\"x3\",\"yaxis\":\"y3\"},{\"legend\":\"legend\",\"legendgroup\":\"human2human\",\"marker\":{\"color\":\"#DDCB76\",\"line\":{\"color\":\"black\",\"width\":1},\"size\":9,\"symbol\":\"triangle-down\"},\"mode\":\"markers\",\"name\":\"spleen\",\"showlegend\":false,\"x\":[0.09333333333333334],\"y\":[0.687429531912009],\"type\":\"scatter\",\"xaxis\":\"x3\",\"yaxis\":\"y3\"},{\"legend\":\"legend\",\"legendgroup\":\"human2human\",\"marker\":{\"color\":\"#DDCB76\",\"line\":{\"color\":\"black\",\"width\":1},\"size\":9,\"symbol\":\"diamond-wide\"},\"mode\":\"markers\",\"name\":\"peritoneum\",\"showlegend\":false,\"x\":[0.18666666666666668],\"y\":[0.5273481482384251],\"type\":\"scatter\",\"xaxis\":\"x3\",\"yaxis\":\"y3\"},{\"legend\":\"legend\",\"legendgroup\":\"human2human\",\"marker\":{\"color\":\"#DDCB76\",\"line\":{\"color\":\"black\",\"width\":1},\"size\":9,\"symbol\":\"x\"},\"mode\":\"markers\",\"name\":\"pancreas\",\"showlegend\":false,\"x\":[0.28],\"y\":[0.4158338566796376],\"type\":\"scatter\",\"xaxis\":\"x3\",\"yaxis\":\"y3\"},{\"boxmean\":true,\"boxpoints\":false,\"legend\":\"legend2\",\"legendgroup\":\"human2human\",\"line\":{\"color\":\"#DDCB76\"},\"name\":\"human2human\",\"showlegend\":false,\"x\":[0.6,0.6,0.6,0.6,0.6,0.6,0.6,0.6,0.6,0.6,0.6,0.6],\"y\":{\"dtype\":\"f8\",\"bdata\":\"DupoGp6N7z8iIiKIH4DuP8uJzAiC5O0\\u002fSoQHjGhp7D9778zExvLpP5020Nm18uk\\u002fv3yg6ihy6T8c4P4d3m3oP8R0c1JlBeg\\u002fvLu7N2z\\u002f5T9JSUk5CeDgP9GMwJsFndo\\u002f\"},\"type\":\"box\",\"xaxis\":\"x3\",\"yaxis\":\"y3\"},{\"legendgroup\":\"human2human\",\"line\":{\"color\":\"#DDCB76\",\"dash\":\"dot\"},\"mode\":\"lines\",\"name\":\"human2human\",\"showlegend\":false,\"text\":\"95\\u202f% CI mean: [0.75;0.80]\",\"x\":[0.5,0.5],\"y\":[0.7497759031651031,0.8020421043527042],\"type\":\"scatter\",\"xaxis\":\"x3\",\"yaxis\":\"y3\"},{\"legendgroup\":\"human2human\",\"line\":{\"color\":\"#DDCB76\"},\"marker\":{\"size\":10,\"symbol\":\"triangle-down-open\"},\"mode\":\"markers\",\"name\":\"human2human\",\"showlegend\":false,\"text\":\"95\\u202f% CI mean: [0.75;0.80]\",\"x\":[0.5],\"y\":[0.7497759031651031],\"type\":\"scatter\",\"xaxis\":\"x3\",\"yaxis\":\"y3\"},{\"legendgroup\":\"human2human\",\"line\":{\"color\":\"#DDCB76\"},\"marker\":{\"size\":10,\"symbol\":\"triangle-up-open\"},\"mode\":\"markers\",\"name\":\"human2human\",\"showlegend\":false,\"text\":\"95\\u202f% CI mean: [0.75;0.80]\",\"x\":[0.5],\"y\":[0.8020421043527042],\"type\":\"scatter\",\"xaxis\":\"x3\",\"yaxis\":\"y3\"},{\"legendgroup\":\"human2human\",\"line\":{\"color\":\"#DDCB76\",\"dash\":\"solid\"},\"mode\":\"lines\",\"name\":\"human2human\",\"showlegend\":false,\"text\":\"95\\u202f% CI median: [0.76;0.84]\",\"x\":[0.7,0.7],\"y\":[0.7620565243248654,0.8372512884938326],\"type\":\"scatter\",\"xaxis\":\"x3\",\"yaxis\":\"y3\"},{\"legendgroup\":\"human2human\",\"line\":{\"color\":\"#DDCB76\"},\"marker\":{\"size\":10,\"symbol\":\"triangle-down\"},\"mode\":\"markers\",\"name\":\"human2human\",\"showlegend\":false,\"text\":\"95\\u202f% CI median: [0.76;0.84]\",\"x\":[0.7],\"y\":[0.7620565243248654],\"type\":\"scatter\",\"xaxis\":\"x3\",\"yaxis\":\"y3\"},{\"legendgroup\":\"human2human\",\"line\":{\"color\":\"#DDCB76\"},\"marker\":{\"size\":10,\"symbol\":\"triangle-up\"},\"mode\":\"markers\",\"name\":\"human2human\",\"showlegend\":false,\"text\":\"95\\u202f% CI median: [0.76;0.84]\",\"x\":[0.7],\"y\":[0.8372512884938326],\"type\":\"scatter\",\"xaxis\":\"x3\",\"yaxis\":\"y3\"},{\"legend\":\"legend\",\"legendgroup\":\"pig-p+rat-p2human2human\",\"marker\":{\"color\":\"#DDCB76\",\"line\":{\"color\":\"black\",\"width\":1},\"size\":9,\"symbol\":\"diamond-tall\"},\"mode\":\"markers\",\"name\":\"background\",\"showlegend\":false,\"x\":[1.0],\"y\":[0.9863258019100002],\"type\":\"scatter\",\"xaxis\":\"x3\",\"yaxis\":\"y3\"},{\"legend\":\"legend\",\"legendgroup\":\"pig-p+rat-p2human2human\",\"marker\":{\"color\":\"#DDCB76\",\"line\":{\"color\":\"black\",\"width\":1},\"size\":9,\"symbol\":\"triangle-up\"},\"mode\":\"markers\",\"name\":\"kidney\",\"showlegend\":false,\"x\":[1.0933333333333333],\"y\":[0.9544695308391666],\"type\":\"scatter\",\"xaxis\":\"x3\",\"yaxis\":\"y3\"},{\"legend\":\"legend\",\"legendgroup\":\"pig-p+rat-p2human2human\",\"marker\":{\"color\":\"#DDCB76\",\"line\":{\"color\":\"black\",\"width\":1},\"size\":9,\"symbol\":\"cross\"},\"mode\":\"markers\",\"name\":\"liver\",\"showlegend\":false,\"x\":[1.1866666666666668],\"y\":[0.9269499498609552],\"type\":\"scatter\",\"xaxis\":\"x3\",\"yaxis\":\"y3\"},{\"legend\":\"legend\",\"legendgroup\":\"pig-p+rat-p2human2human\",\"marker\":{\"color\":\"#DDCB76\",\"line\":{\"color\":\"black\",\"width\":1},\"size\":9,\"symbol\":\"triangle-left\"},\"mode\":\"markers\",\"name\":\"omentum\",\"showlegend\":false,\"x\":[1.28],\"y\":[0.8840046021681592],\"type\":\"scatter\",\"xaxis\":\"x3\",\"yaxis\":\"y3\"},{\"legend\":\"legend\",\"legendgroup\":\"pig-p+rat-p2human2human\",\"marker\":{\"color\":\"#DDCB76\",\"line\":{\"color\":\"black\",\"width\":1},\"size\":9,\"symbol\":\"triangle-right\"},\"mode\":\"markers\",\"name\":\"lung\",\"showlegend\":false,\"x\":[1.0],\"y\":[0.8523418141735923],\"type\":\"scatter\",\"xaxis\":\"x3\",\"yaxis\":\"y3\"},{\"legend\":\"legend\",\"legendgroup\":\"pig-p+rat-p2human2human\",\"marker\":{\"color\":\"#DDCB76\",\"line\":{\"color\":\"black\",\"width\":1},\"size\":9,\"symbol\":\"star\"},\"mode\":\"markers\",\"name\":\"skin\",\"showlegend\":false,\"x\":[1.0933333333333333],\"y\":[0.8101517377051737],\"type\":\"scatter\",\"xaxis\":\"x3\",\"yaxis\":\"y3\"},{\"legend\":\"legend\",\"legendgroup\":\"pig-p+rat-p2human2human\",\"marker\":{\"color\":\"#DDCB76\",\"line\":{\"color\":\"black\",\"width\":1},\"size\":9,\"symbol\":\"square\"},\"mode\":\"markers\",\"name\":\"small_bowel\",\"showlegend\":false,\"x\":[1.1866666666666668],\"y\":[0.784778074623416],\"type\":\"scatter\",\"xaxis\":\"x3\",\"yaxis\":\"y3\"},{\"legend\":\"legend\",\"legendgroup\":\"pig-p+rat-p2human2human\",\"marker\":{\"color\":\"#DDCB76\",\"line\":{\"color\":\"black\",\"width\":1},\"size\":9,\"symbol\":\"circle\"},\"mode\":\"markers\",\"name\":\"stomach\",\"showlegend\":false,\"x\":[1.28],\"y\":[0.7511452077138043],\"type\":\"scatter\",\"xaxis\":\"x3\",\"yaxis\":\"y3\"},{\"legend\":\"legend\",\"legendgroup\":\"pig-p+rat-p2human2human\",\"marker\":{\"color\":\"#DDCB76\",\"line\":{\"color\":\"black\",\"width\":1},\"size\":9,\"symbol\":\"diamond\"},\"mode\":\"markers\",\"name\":\"colon\",\"showlegend\":false,\"x\":[1.0],\"y\":[0.7248171756851872],\"type\":\"scatter\",\"xaxis\":\"x3\",\"yaxis\":\"y3\"},{\"legend\":\"legend\",\"legendgroup\":\"pig-p+rat-p2human2human\",\"marker\":{\"color\":\"#DDCB76\",\"line\":{\"color\":\"black\",\"width\":1},\"size\":9,\"symbol\":\"triangle-down\"},\"mode\":\"markers\",\"name\":\"spleen\",\"showlegend\":false,\"x\":[1.0933333333333333],\"y\":[0.7204479306315381],\"type\":\"scatter\",\"xaxis\":\"x3\",\"yaxis\":\"y3\"},{\"legend\":\"legend\",\"legendgroup\":\"pig-p+rat-p2human2human\",\"marker\":{\"color\":\"#DDCB76\",\"line\":{\"color\":\"black\",\"width\":1},\"size\":9,\"symbol\":\"diamond-wide\"},\"mode\":\"markers\",\"name\":\"peritoneum\",\"showlegend\":false,\"x\":[1.1866666666666668],\"y\":[0.6139724179615382],\"type\":\"scatter\",\"xaxis\":\"x3\",\"yaxis\":\"y3\"},{\"legend\":\"legend\",\"legendgroup\":\"pig-p+rat-p2human2human\",\"marker\":{\"color\":\"#DDCB76\",\"line\":{\"color\":\"black\",\"width\":1},\"size\":9,\"symbol\":\"x\"},\"mode\":\"markers\",\"name\":\"pancreas\",\"showlegend\":false,\"x\":[1.28],\"y\":[0.4717370926053127],\"type\":\"scatter\",\"xaxis\":\"x3\",\"yaxis\":\"y3\"},{\"boxmean\":true,\"boxpoints\":false,\"legend\":\"legend2\",\"legendgroup\":\"pig-p+rat-p2human2human\",\"line\":{\"color\":\"#DDCB76\"},\"name\":\"pig-p+rat-p2human2human\",\"showlegend\":false,\"x\":[1.6,1.6,1.6,1.6,1.6,1.6,1.6,1.6,1.6,1.6,1.6,1.6],\"y\":{\"dtype\":\"f8\",\"bdata\":\"DfHMIPuP7z8mcn+vA4vuPwTQ9fCSqe0\\u002fa2z6BMRJ7D\\u002fGcRxXYkbrP6i4R1bD7Ok\\u002fbwOk6OYc6T9+sbWsYQnoP\\u002fGzJMqzMec\\u002fEBGR0egN5z+kTvl7qaXjPz4yQ8bwMN4\\u002f\"},\"type\":\"box\",\"xaxis\":\"x3\",\"yaxis\":\"y3\"},{\"legendgroup\":\"pig-p+rat-p2human2human\",\"line\":{\"color\":\"#DDCB76\",\"dash\":\"dot\"},\"mode\":\"lines\",\"name\":\"pig-p+rat-p2human2human\",\"showlegend\":false,\"text\":\"95\\u202f% CI mean: [0.77;0.81]\",\"x\":[1.5,1.5],\"y\":[0.7669185604487239,0.8102605197430315],\"type\":\"scatter\",\"xaxis\":\"x3\",\"yaxis\":\"y3\"},{\"legendgroup\":\"pig-p+rat-p2human2human\",\"line\":{\"color\":\"#DDCB76\"},\"marker\":{\"size\":10,\"symbol\":\"triangle-down-open\"},\"mode\":\"markers\",\"name\":\"pig-p+rat-p2human2human\",\"showlegend\":false,\"text\":\"95\\u202f% CI mean: [0.77;0.81]\",\"x\":[1.5],\"y\":[0.7669185604487239],\"type\":\"scatter\",\"xaxis\":\"x3\",\"yaxis\":\"y3\"},{\"legendgroup\":\"pig-p+rat-p2human2human\",\"line\":{\"color\":\"#DDCB76\"},\"marker\":{\"size\":10,\"symbol\":\"triangle-up-open\"},\"mode\":\"markers\",\"name\":\"pig-p+rat-p2human2human\",\"showlegend\":false,\"text\":\"95\\u202f% CI mean: [0.77;0.81]\",\"x\":[1.5],\"y\":[0.8102605197430315],\"type\":\"scatter\",\"xaxis\":\"x3\",\"yaxis\":\"y3\"},{\"legendgroup\":\"pig-p+rat-p2human2human\",\"line\":{\"color\":\"#DDCB76\",\"dash\":\"solid\"},\"mode\":\"lines\",\"name\":\"pig-p+rat-p2human2human\",\"showlegend\":false,\"text\":\"95\\u202f% CI median: [0.77;0.84]\",\"x\":[1.7,1.7],\"y\":[0.76527911567469,0.8384689587028541],\"type\":\"scatter\",\"xaxis\":\"x3\",\"yaxis\":\"y3\"},{\"legendgroup\":\"pig-p+rat-p2human2human\",\"line\":{\"color\":\"#DDCB76\"},\"marker\":{\"size\":10,\"symbol\":\"triangle-down\"},\"mode\":\"markers\",\"name\":\"pig-p+rat-p2human2human\",\"showlegend\":false,\"text\":\"95\\u202f% CI median: [0.77;0.84]\",\"x\":[1.7],\"y\":[0.76527911567469],\"type\":\"scatter\",\"xaxis\":\"x3\",\"yaxis\":\"y3\"},{\"legendgroup\":\"pig-p+rat-p2human2human\",\"line\":{\"color\":\"#DDCB76\"},\"marker\":{\"size\":10,\"symbol\":\"triangle-up\"},\"mode\":\"markers\",\"name\":\"pig-p+rat-p2human2human\",\"showlegend\":false,\"text\":\"95\\u202f% CI median: [0.77;0.84]\",\"x\":[1.7],\"y\":[0.8384689587028541],\"type\":\"scatter\",\"xaxis\":\"x3\",\"yaxis\":\"y3\"}],                        {\"template\":{\"data\":{\"barpolar\":[{\"marker\":{\"line\":{\"color\":\"white\",\"width\":0.5},\"pattern\":{\"fillmode\":\"overlay\",\"size\":10,\"solidity\":0.2}},\"type\":\"barpolar\"}],\"bar\":[{\"error_x\":{\"color\":\"#2a3f5f\"},\"error_y\":{\"color\":\"#2a3f5f\"},\"marker\":{\"line\":{\"color\":\"white\",\"width\":0.5},\"pattern\":{\"fillmode\":\"overlay\",\"size\":10,\"solidity\":0.2}},\"type\":\"bar\"}],\"carpet\":[{\"aaxis\":{\"endlinecolor\":\"#2a3f5f\",\"gridcolor\":\"#C8D4E3\",\"linecolor\":\"#C8D4E3\",\"minorgridcolor\":\"#C8D4E3\",\"startlinecolor\":\"#2a3f5f\"},\"baxis\":{\"endlinecolor\":\"#2a3f5f\",\"gridcolor\":\"#C8D4E3\",\"linecolor\":\"#C8D4E3\",\"minorgridcolor\":\"#C8D4E3\",\"startlinecolor\":\"#2a3f5f\"},\"type\":\"carpet\"}],\"choropleth\":[{\"colorbar\":{\"outlinewidth\":0,\"ticks\":\"\"},\"type\":\"choropleth\"}],\"contourcarpet\":[{\"colorbar\":{\"outlinewidth\":0,\"ticks\":\"\"},\"type\":\"contourcarpet\"}],\"contour\":[{\"colorbar\":{\"outlinewidth\":0,\"ticks\":\"\"},\"colorscale\":[[0.0,\"#0d0887\"],[0.1111111111111111,\"#46039f\"],[0.2222222222222222,\"#7201a8\"],[0.3333333333333333,\"#9c179e\"],[0.4444444444444444,\"#bd3786\"],[0.5555555555555556,\"#d8576b\"],[0.6666666666666666,\"#ed7953\"],[0.7777777777777778,\"#fb9f3a\"],[0.8888888888888888,\"#fdca26\"],[1.0,\"#f0f921\"]],\"type\":\"contour\"}],\"heatmap\":[{\"colorbar\":{\"outlinewidth\":0,\"ticks\":\"\"},\"colorscale\":[[0.0,\"#0d0887\"],[0.1111111111111111,\"#46039f\"],[0.2222222222222222,\"#7201a8\"],[0.3333333333333333,\"#9c179e\"],[0.4444444444444444,\"#bd3786\"],[0.5555555555555556,\"#d8576b\"],[0.6666666666666666,\"#ed7953\"],[0.7777777777777778,\"#fb9f3a\"],[0.8888888888888888,\"#fdca26\"],[1.0,\"#f0f921\"]],\"type\":\"heatmap\"}],\"histogram2dcontour\":[{\"colorbar\":{\"outlinewidth\":0,\"ticks\":\"\"},\"colorscale\":[[0.0,\"#0d0887\"],[0.1111111111111111,\"#46039f\"],[0.2222222222222222,\"#7201a8\"],[0.3333333333333333,\"#9c179e\"],[0.4444444444444444,\"#bd3786\"],[0.5555555555555556,\"#d8576b\"],[0.6666666666666666,\"#ed7953\"],[0.7777777777777778,\"#fb9f3a\"],[0.8888888888888888,\"#fdca26\"],[1.0,\"#f0f921\"]],\"type\":\"histogram2dcontour\"}],\"histogram2d\":[{\"colorbar\":{\"outlinewidth\":0,\"ticks\":\"\"},\"colorscale\":[[0.0,\"#0d0887\"],[0.1111111111111111,\"#46039f\"],[0.2222222222222222,\"#7201a8\"],[0.3333333333333333,\"#9c179e\"],[0.4444444444444444,\"#bd3786\"],[0.5555555555555556,\"#d8576b\"],[0.6666666666666666,\"#ed7953\"],[0.7777777777777778,\"#fb9f3a\"],[0.8888888888888888,\"#fdca26\"],[1.0,\"#f0f921\"]],\"type\":\"histogram2d\"}],\"histogram\":[{\"marker\":{\"pattern\":{\"fillmode\":\"overlay\",\"size\":10,\"solidity\":0.2}},\"type\":\"histogram\"}],\"mesh3d\":[{\"colorbar\":{\"outlinewidth\":0,\"ticks\":\"\"},\"type\":\"mesh3d\"}],\"parcoords\":[{\"line\":{\"colorbar\":{\"outlinewidth\":0,\"ticks\":\"\"}},\"type\":\"parcoords\"}],\"pie\":[{\"automargin\":true,\"type\":\"pie\"}],\"scatter3d\":[{\"line\":{\"colorbar\":{\"outlinewidth\":0,\"ticks\":\"\"}},\"marker\":{\"colorbar\":{\"outlinewidth\":0,\"ticks\":\"\"}},\"type\":\"scatter3d\"}],\"scattercarpet\":[{\"marker\":{\"colorbar\":{\"outlinewidth\":0,\"ticks\":\"\"}},\"type\":\"scattercarpet\"}],\"scattergeo\":[{\"marker\":{\"colorbar\":{\"outlinewidth\":0,\"ticks\":\"\"}},\"type\":\"scattergeo\"}],\"scattergl\":[{\"marker\":{\"colorbar\":{\"outlinewidth\":0,\"ticks\":\"\"}},\"type\":\"scattergl\"}],\"scattermapbox\":[{\"marker\":{\"colorbar\":{\"outlinewidth\":0,\"ticks\":\"\"}},\"type\":\"scattermapbox\"}],\"scattermap\":[{\"marker\":{\"colorbar\":{\"outlinewidth\":0,\"ticks\":\"\"}},\"type\":\"scattermap\"}],\"scatterpolargl\":[{\"marker\":{\"colorbar\":{\"outlinewidth\":0,\"ticks\":\"\"}},\"type\":\"scatterpolargl\"}],\"scatterpolar\":[{\"marker\":{\"colorbar\":{\"outlinewidth\":0,\"ticks\":\"\"}},\"type\":\"scatterpolar\"}],\"scatter\":[{\"fillpattern\":{\"fillmode\":\"overlay\",\"size\":10,\"solidity\":0.2},\"type\":\"scatter\"}],\"scatterternary\":[{\"marker\":{\"colorbar\":{\"outlinewidth\":0,\"ticks\":\"\"}},\"type\":\"scatterternary\"}],\"surface\":[{\"colorbar\":{\"outlinewidth\":0,\"ticks\":\"\"},\"colorscale\":[[0.0,\"#0d0887\"],[0.1111111111111111,\"#46039f\"],[0.2222222222222222,\"#7201a8\"],[0.3333333333333333,\"#9c179e\"],[0.4444444444444444,\"#bd3786\"],[0.5555555555555556,\"#d8576b\"],[0.6666666666666666,\"#ed7953\"],[0.7777777777777778,\"#fb9f3a\"],[0.8888888888888888,\"#fdca26\"],[1.0,\"#f0f921\"]],\"type\":\"surface\"}],\"table\":[{\"cells\":{\"fill\":{\"color\":\"#EBF0F8\"},\"line\":{\"color\":\"white\"}},\"header\":{\"fill\":{\"color\":\"#C8D4E3\"},\"line\":{\"color\":\"white\"}},\"type\":\"table\"}]},\"layout\":{\"annotationdefaults\":{\"arrowcolor\":\"#2a3f5f\",\"arrowhead\":0,\"arrowwidth\":1},\"autotypenumbers\":\"strict\",\"coloraxis\":{\"colorbar\":{\"outlinewidth\":0,\"ticks\":\"\"}},\"colorscale\":{\"diverging\":[[0,\"#8e0152\"],[0.1,\"#c51b7d\"],[0.2,\"#de77ae\"],[0.3,\"#f1b6da\"],[0.4,\"#fde0ef\"],[0.5,\"#f7f7f7\"],[0.6,\"#e6f5d0\"],[0.7,\"#b8e186\"],[0.8,\"#7fbc41\"],[0.9,\"#4d9221\"],[1,\"#276419\"]],\"sequential\":[[0.0,\"#0d0887\"],[0.1111111111111111,\"#46039f\"],[0.2222222222222222,\"#7201a8\"],[0.3333333333333333,\"#9c179e\"],[0.4444444444444444,\"#bd3786\"],[0.5555555555555556,\"#d8576b\"],[0.6666666666666666,\"#ed7953\"],[0.7777777777777778,\"#fb9f3a\"],[0.8888888888888888,\"#fdca26\"],[1.0,\"#f0f921\"]],\"sequentialminus\":[[0.0,\"#0d0887\"],[0.1111111111111111,\"#46039f\"],[0.2222222222222222,\"#7201a8\"],[0.3333333333333333,\"#9c179e\"],[0.4444444444444444,\"#bd3786\"],[0.5555555555555556,\"#d8576b\"],[0.6666666666666666,\"#ed7953\"],[0.7777777777777778,\"#fb9f3a\"],[0.8888888888888888,\"#fdca26\"],[1.0,\"#f0f921\"]]},\"colorway\":[\"#636efa\",\"#EF553B\",\"#00cc96\",\"#ab63fa\",\"#FFA15A\",\"#19d3f3\",\"#FF6692\",\"#B6E880\",\"#FF97FF\",\"#FECB52\"],\"font\":{\"color\":\"#2a3f5f\"},\"geo\":{\"bgcolor\":\"white\",\"lakecolor\":\"white\",\"landcolor\":\"white\",\"showlakes\":true,\"showland\":true,\"subunitcolor\":\"#C8D4E3\"},\"hoverlabel\":{\"align\":\"left\"},\"hovermode\":\"closest\",\"mapbox\":{\"style\":\"light\"},\"paper_bgcolor\":\"white\",\"plot_bgcolor\":\"white\",\"polar\":{\"angularaxis\":{\"gridcolor\":\"#EBF0F8\",\"linecolor\":\"#EBF0F8\",\"ticks\":\"\"},\"bgcolor\":\"white\",\"radialaxis\":{\"gridcolor\":\"#EBF0F8\",\"linecolor\":\"#EBF0F8\",\"ticks\":\"\"}},\"scene\":{\"xaxis\":{\"backgroundcolor\":\"white\",\"gridcolor\":\"#DFE8F3\",\"gridwidth\":2,\"linecolor\":\"#EBF0F8\",\"showbackground\":true,\"ticks\":\"\",\"zerolinecolor\":\"#EBF0F8\"},\"yaxis\":{\"backgroundcolor\":\"white\",\"gridcolor\":\"#DFE8F3\",\"gridwidth\":2,\"linecolor\":\"#EBF0F8\",\"showbackground\":true,\"ticks\":\"\",\"zerolinecolor\":\"#EBF0F8\"},\"zaxis\":{\"backgroundcolor\":\"white\",\"gridcolor\":\"#DFE8F3\",\"gridwidth\":2,\"linecolor\":\"#EBF0F8\",\"showbackground\":true,\"ticks\":\"\",\"zerolinecolor\":\"#EBF0F8\"}},\"shapedefaults\":{\"line\":{\"color\":\"#2a3f5f\"}},\"ternary\":{\"aaxis\":{\"gridcolor\":\"#DFE8F3\",\"linecolor\":\"#A2B1C6\",\"ticks\":\"\"},\"baxis\":{\"gridcolor\":\"#DFE8F3\",\"linecolor\":\"#A2B1C6\",\"ticks\":\"\"},\"bgcolor\":\"white\",\"caxis\":{\"gridcolor\":\"#DFE8F3\",\"linecolor\":\"#A2B1C6\",\"ticks\":\"\"}},\"title\":{\"x\":0.05},\"xaxis\":{\"automargin\":true,\"gridcolor\":\"#EBF0F8\",\"linecolor\":\"#EBF0F8\",\"ticks\":\"\",\"title\":{\"standoff\":15},\"zerolinecolor\":\"#EBF0F8\",\"zerolinewidth\":2},\"yaxis\":{\"automargin\":true,\"gridcolor\":\"#EBF0F8\",\"linecolor\":\"#EBF0F8\",\"ticks\":\"\",\"title\":{\"standoff\":15},\"zerolinecolor\":\"#EBF0F8\",\"zerolinewidth\":2}}},\"xaxis\":{\"anchor\":\"y\",\"domain\":[0.0,0.3525],\"showticklabels\":false},\"yaxis\":{\"anchor\":\"x\",\"domain\":[0.0,1.0],\"zeroline\":false,\"title\":{\"text\":\"\\u003cb\\u003eDSC\\u003c\\u002fb\\u003e\",\"standoff\":12}},\"xaxis2\":{\"anchor\":\"y2\",\"domain\":[0.38249999999999995,0.7349999999999999],\"showticklabels\":false},\"yaxis2\":{\"anchor\":\"x2\",\"domain\":[0.0,1.0],\"matches\":\"y\",\"showticklabels\":false,\"zeroline\":false},\"xaxis3\":{\"anchor\":\"y3\",\"domain\":[0.7649999999999999,0.9999999999999999],\"showticklabels\":false},\"yaxis3\":{\"anchor\":\"x3\",\"domain\":[0.0,1.0],\"matches\":\"y\",\"showticklabels\":false,\"zeroline\":false},\"height\":400,\"width\":1200,\"font\":{\"family\":\"Libertinus Sans\",\"size\":16},\"showlegend\":false,\"legend\":{\"title\":{},\"orientation\":\"h\",\"yanchor\":\"bottom\",\"y\":1.05,\"xanchor\":\"center\",\"x\":0.2},\"legend2\":{\"title\":{},\"orientation\":\"h\",\"yanchor\":\"bottom\",\"y\":1.05,\"xanchor\":\"center\",\"x\":0.8},\"margin\":{\"l\":0,\"r\":0,\"t\":0,\"b\":0}},                        {\"responsive\": true}                    ).then(function(){\n",
       "                            \n",
       "var gd = document.getElementById('62e6e282-e5c1-457c-b8c3-a967b36711eb');\n",
       "var x = new MutationObserver(function (mutations, observer) {{\n",
       "        var display = window.getComputedStyle(gd).display;\n",
       "        if (!display || display === 'none') {{\n",
       "            console.log([gd, 'removed!']);\n",
       "            Plotly.purge(gd);\n",
       "            observer.disconnect();\n",
       "        }}\n",
       "}});\n",
       "\n",
       "// Listen for the removal of the full notebook cells\n",
       "var notebookContainer = gd.closest('#notebook-container');\n",
       "if (notebookContainer) {{\n",
       "    x.observe(notebookContainer, {childList: true});\n",
       "}}\n",
       "\n",
       "// Listen for the clearing of the current output cell\n",
       "var outputEl = gd.closest('.output');\n",
       "if (outputEl) {{\n",
       "    x.observe(outputEl, {childList: true});\n",
       "}}\n",
       "\n",
       "                        })                };            </script>        </div>"
      ]
     },
     "metadata": {},
     "output_type": "display_data"
    }
   ],
   "source": [
    "def species_comparison(metric_name: str, metric_name_short: str) -> go.Figure:\n",
    "    fig = make_subplots(\n",
    "        rows=1,\n",
    "        cols=3,\n",
    "        shared_yaxes=True,\n",
    "        vertical_spacing=0.1,\n",
    "        horizontal_spacing=0.03,\n",
    "        column_widths=[3, 3, 2],\n",
    "    )\n",
    "    label_names = None\n",
    "\n",
    "    targets = {\n",
    "        (1, \"pig\"): [(0, \"pig\"), (1, \"rat\"), (2, \"human\")],\n",
    "        (2, \"rat\"): [(0, \"rat\"), (1, \"pig\"), (2, \"human\")],\n",
    "        (3, \"human\"): [(0, \"human\")],\n",
    "        (3, \"pig-p+rat-p2human\"): [(1, \"human\")],\n",
    "    }\n",
    "    for (i, source_species), source_targets in targets.items():\n",
    "        for j, target_species in source_targets:\n",
    "            df_box = df[(df[\"source_species\"] == source_species) & (df[\"target_species\"] == target_species)]\n",
    "            sort_labels(df_box)\n",
    "\n",
    "            label_names_comparison = df_box[\"label_name\"].tolist()\n",
    "            if \"background\" not in label_names_comparison:\n",
    "                label_names_comparison.append(\"background\")\n",
    "            if label_names is None:\n",
    "                label_names = label_names_comparison\n",
    "            else:\n",
    "                assert label_names == label_names_comparison, (\n",
    "                    f\"Label names do not match: {label_names} vs {label_names_comparison}\"\n",
    "                )\n",
    "\n",
    "            # Average across organs per bootstrap sample\n",
    "            bootstraps_mean = np.mean(np.stack(df_box[f\"{metric_name}_bootstraps\"]), axis=0)\n",
    "            bootstraps_median = np.median(np.stack(df_box[f\"{metric_name}_bootstraps\"]), axis=0)\n",
    "\n",
    "            boxplot_symbols(\n",
    "                fig,\n",
    "                df_box[metric_name],\n",
    "                df_box[\"label_name\"],\n",
    "                ci_mean=(np.quantile(bootstraps_mean, q=0.025), np.quantile(bootstraps_mean, q=0.975)),\n",
    "                ci_median=(np.quantile(bootstraps_median, q=0.025), np.quantile(bootstraps_median, q=0.975)),\n",
    "                trace_name=f\"{source_species}2{target_species}\",\n",
    "                box_index=j,\n",
    "                color=settings_species.species_colors[target_species],\n",
    "                showlegend=i == 1,\n",
    "                row=1,\n",
    "                col=i,\n",
    "            )\n",
    "\n",
    "    fig.update_layout(height=400, width=1200, template=\"plotly_white\")\n",
    "    fig.update_layout(font_family=\"Libertinus Sans\", font_size=16)\n",
    "    fig.update_annotations(font=dict(size=20))\n",
    "    fig.update_layout(showlegend=False)\n",
    "    fig.update_yaxes(zeroline=False)\n",
    "    fig.update_yaxes(title=f\"<b>{metric_name_short}</b>\", title_standoff=12, col=1)\n",
    "    fig.update_xaxes(showticklabels=False)\n",
    "    fig.update_layout(legend=dict(title=None, orientation=\"h\", yanchor=\"bottom\", y=1.05, xanchor=\"center\", x=0.2))\n",
    "    fig.update_layout(legend2=dict(title=None, orientation=\"h\", yanchor=\"bottom\", y=1.05, xanchor=\"center\", x=0.8))\n",
    "    fig.update_layout(margin=dict(l=0, r=0, t=0, b=0))\n",
    "    fig.write_image(settings_species.paper_dir / f\"domain_shift_performance_{metric_name_short}.pdf\")\n",
    "\n",
    "    return fig\n",
    "\n",
    "\n",
    "species_comparison(\"dice_metric\", \"DSC\")"
   ]
  },
  {
   "cell_type": "code",
   "execution_count": 4,
   "metadata": {},
   "outputs": [
    {
     "data": {
      "application/vnd.plotly.v1+json": {
       "config": {
        "plotlyServerURL": "https://plot.ly"
       },
       "data": [
        {
         "legend": "legend",
         "marker": {
          "color": "gray",
          "line": {
           "color": "black",
           "width": 1
          },
          "size": 9,
          "symbol": "circle"
         },
         "mode": "markers",
         "name": "stomach",
         "showlegend": true,
         "type": "scatter",
         "x": [
          null
         ],
         "xaxis": "x",
         "y": [
          null
         ],
         "yaxis": "y"
        },
        {
         "legend": "legend",
         "marker": {
          "color": "gray",
          "line": {
           "color": "black",
           "width": 1
          },
          "size": 9,
          "symbol": "square"
         },
         "mode": "markers",
         "name": "small_bowel",
         "showlegend": true,
         "type": "scatter",
         "x": [
          null
         ],
         "xaxis": "x",
         "y": [
          null
         ],
         "yaxis": "y"
        },
        {
         "legend": "legend",
         "marker": {
          "color": "gray",
          "line": {
           "color": "black",
           "width": 1
          },
          "size": 9,
          "symbol": "diamond"
         },
         "mode": "markers",
         "name": "colon",
         "showlegend": true,
         "type": "scatter",
         "x": [
          null
         ],
         "xaxis": "x",
         "y": [
          null
         ],
         "yaxis": "y"
        },
        {
         "legend": "legend",
         "marker": {
          "color": "gray",
          "line": {
           "color": "black",
           "width": 1
          },
          "size": 9,
          "symbol": "cross"
         },
         "mode": "markers",
         "name": "liver",
         "showlegend": true,
         "type": "scatter",
         "x": [
          null
         ],
         "xaxis": "x",
         "y": [
          null
         ],
         "yaxis": "y"
        },
        {
         "legend": "legend",
         "marker": {
          "color": "gray",
          "line": {
           "color": "black",
           "width": 1
          },
          "size": 9,
          "symbol": "x"
         },
         "mode": "markers",
         "name": "pancreas",
         "showlegend": true,
         "type": "scatter",
         "x": [
          null
         ],
         "xaxis": "x",
         "y": [
          null
         ],
         "yaxis": "y"
        },
        {
         "legend": "legend",
         "marker": {
          "color": "gray",
          "line": {
           "color": "black",
           "width": 1
          },
          "size": 9,
          "symbol": "triangle-up"
         },
         "mode": "markers",
         "name": "kidney",
         "showlegend": true,
         "type": "scatter",
         "x": [
          null
         ],
         "xaxis": "x",
         "y": [
          null
         ],
         "yaxis": "y"
        },
        {
         "legend": "legend",
         "marker": {
          "color": "gray",
          "line": {
           "color": "black",
           "width": 1
          },
          "size": 9,
          "symbol": "triangle-down"
         },
         "mode": "markers",
         "name": "spleen",
         "showlegend": true,
         "type": "scatter",
         "x": [
          null
         ],
         "xaxis": "x",
         "y": [
          null
         ],
         "yaxis": "y"
        },
        {
         "legend": "legend",
         "marker": {
          "color": "gray",
          "line": {
           "color": "black",
           "width": 1
          },
          "size": 9,
          "symbol": "triangle-left"
         },
         "mode": "markers",
         "name": "omentum",
         "showlegend": true,
         "type": "scatter",
         "x": [
          null
         ],
         "xaxis": "x",
         "y": [
          null
         ],
         "yaxis": "y"
        },
        {
         "legend": "legend",
         "marker": {
          "color": "gray",
          "line": {
           "color": "black",
           "width": 1
          },
          "size": 9,
          "symbol": "triangle-right"
         },
         "mode": "markers",
         "name": "lung",
         "showlegend": true,
         "type": "scatter",
         "x": [
          null
         ],
         "xaxis": "x",
         "y": [
          null
         ],
         "yaxis": "y"
        },
        {
         "legend": "legend",
         "marker": {
          "color": "gray",
          "line": {
           "color": "black",
           "width": 1
          },
          "size": 9,
          "symbol": "star"
         },
         "mode": "markers",
         "name": "skin",
         "showlegend": true,
         "type": "scatter",
         "x": [
          null
         ],
         "xaxis": "x",
         "y": [
          null
         ],
         "yaxis": "y"
        },
        {
         "legend": "legend",
         "marker": {
          "color": "gray",
          "line": {
           "color": "black",
           "width": 1
          },
          "size": 9,
          "symbol": "diamond-wide"
         },
         "mode": "markers",
         "name": "peritoneum",
         "showlegend": true,
         "type": "scatter",
         "x": [
          null
         ],
         "xaxis": "x",
         "y": [
          null
         ],
         "yaxis": "y"
        },
        {
         "legend": "legend",
         "marker": {
          "color": "gray",
          "line": {
           "color": "black",
           "width": 1
          },
          "size": 9,
          "symbol": "diamond-tall"
         },
         "mode": "markers",
         "name": "background",
         "showlegend": true,
         "type": "scatter",
         "x": [
          null
         ],
         "xaxis": "x",
         "y": [
          null
         ],
         "yaxis": "y"
        },
        {
         "legend": "legend",
         "legendgroup": "pig2pig",
         "marker": {
          "color": "#44AA99",
          "line": {
           "color": "black",
           "width": 1
          },
          "size": 9,
          "symbol": "triangle-right"
         },
         "mode": "markers",
         "name": "lung",
         "showlegend": false,
         "type": "scatter",
         "x": [
          0
         ],
         "xaxis": "x",
         "y": [
          0.9620525942835616
         ],
         "yaxis": "y"
        },
        {
         "legend": "legend",
         "legendgroup": "pig2pig",
         "marker": {
          "color": "#44AA99",
          "line": {
           "color": "black",
           "width": 1
          },
          "size": 9,
          "symbol": "star"
         },
         "mode": "markers",
         "name": "skin",
         "showlegend": false,
         "type": "scatter",
         "x": [
          0.09333333333333334
         ],
         "xaxis": "x",
         "y": [
          0.953202265908213
         ],
         "yaxis": "y"
        },
        {
         "legend": "legend",
         "legendgroup": "pig2pig",
         "marker": {
          "color": "#44AA99",
          "line": {
           "color": "black",
           "width": 1
          },
          "size": 9,
          "symbol": "diamond-tall"
         },
         "mode": "markers",
         "name": "background",
         "showlegend": false,
         "type": "scatter",
         "x": [
          0.18666666666666668
         ],
         "xaxis": "x",
         "y": [
          0.9481848069960334
         ],
         "yaxis": "y"
        },
        {
         "legend": "legend",
         "legendgroup": "pig2pig",
         "marker": {
          "color": "#44AA99",
          "line": {
           "color": "black",
           "width": 1
          },
          "size": 9,
          "symbol": "diamond"
         },
         "mode": "markers",
         "name": "colon",
         "showlegend": false,
         "type": "scatter",
         "x": [
          0.28
         ],
         "xaxis": "x",
         "y": [
          0.9362653715273854
         ],
         "yaxis": "y"
        },
        {
         "legend": "legend",
         "legendgroup": "pig2pig",
         "marker": {
          "color": "#44AA99",
          "line": {
           "color": "black",
           "width": 1
          },
          "size": 9,
          "symbol": "diamond-wide"
         },
         "mode": "markers",
         "name": "peritoneum",
         "showlegend": false,
         "type": "scatter",
         "x": [
          0
         ],
         "xaxis": "x",
         "y": [
          0.8933161660463673
         ],
         "yaxis": "y"
        },
        {
         "legend": "legend",
         "legendgroup": "pig2pig",
         "marker": {
          "color": "#44AA99",
          "line": {
           "color": "black",
           "width": 1
          },
          "size": 9,
          "symbol": "x"
         },
         "mode": "markers",
         "name": "pancreas",
         "showlegend": false,
         "type": "scatter",
         "x": [
          0.09333333333333334
         ],
         "xaxis": "x",
         "y": [
          0.848190675065631
         ],
         "yaxis": "y"
        },
        {
         "legend": "legend",
         "legendgroup": "pig2pig",
         "marker": {
          "color": "#44AA99",
          "line": {
           "color": "black",
           "width": 1
          },
          "size": 9,
          "symbol": "square"
         },
         "mode": "markers",
         "name": "small_bowel",
         "showlegend": false,
         "type": "scatter",
         "x": [
          0.18666666666666668
         ],
         "xaxis": "x",
         "y": [
          0.8307946216353017
         ],
         "yaxis": "y"
        },
        {
         "legend": "legend",
         "legendgroup": "pig2pig",
         "marker": {
          "color": "#44AA99",
          "line": {
           "color": "black",
           "width": 1
          },
          "size": 9,
          "symbol": "circle"
         },
         "mode": "markers",
         "name": "stomach",
         "showlegend": false,
         "type": "scatter",
         "x": [
          0.28
         ],
         "xaxis": "x",
         "y": [
          0.8020519800086635
         ],
         "yaxis": "y"
        },
        {
         "legend": "legend",
         "legendgroup": "pig2pig",
         "marker": {
          "color": "#44AA99",
          "line": {
           "color": "black",
           "width": 1
          },
          "size": 9,
          "symbol": "triangle-down"
         },
         "mode": "markers",
         "name": "spleen",
         "showlegend": false,
         "type": "scatter",
         "x": [
          0
         ],
         "xaxis": "x",
         "y": [
          0.79012117679157
         ],
         "yaxis": "y"
        },
        {
         "legend": "legend",
         "legendgroup": "pig2pig",
         "marker": {
          "color": "#44AA99",
          "line": {
           "color": "black",
           "width": 1
          },
          "size": 9,
          "symbol": "triangle-up"
         },
         "mode": "markers",
         "name": "kidney",
         "showlegend": false,
         "type": "scatter",
         "x": [
          0.09333333333333334
         ],
         "xaxis": "x",
         "y": [
          0.7349971889670378
         ],
         "yaxis": "y"
        },
        {
         "legend": "legend",
         "legendgroup": "pig2pig",
         "marker": {
          "color": "#44AA99",
          "line": {
           "color": "black",
           "width": 1
          },
          "size": 9,
          "symbol": "cross"
         },
         "mode": "markers",
         "name": "liver",
         "showlegend": false,
         "type": "scatter",
         "x": [
          0.18666666666666668
         ],
         "xaxis": "x",
         "y": [
          0.7325153681612633
         ],
         "yaxis": "y"
        },
        {
         "legend": "legend",
         "legendgroup": "pig2pig",
         "marker": {
          "color": "#44AA99",
          "line": {
           "color": "black",
           "width": 1
          },
          "size": 9,
          "symbol": "triangle-left"
         },
         "mode": "markers",
         "name": "omentum",
         "showlegend": false,
         "type": "scatter",
         "x": [
          0.28
         ],
         "xaxis": "x",
         "y": [
          0.6576264142989912
         ],
         "yaxis": "y"
        },
        {
         "boxmean": true,
         "boxpoints": false,
         "legend": "legend2",
         "legendgroup": "pig2pig",
         "line": {
          "color": "#44AA99"
         },
         "name": "pig2pig",
         "showlegend": true,
         "type": "box",
         "x": [
          0.6,
          0.6,
          0.6,
          0.6,
          0.6,
          0.6,
          0.6,
          0.6,
          0.6,
          0.6,
          0.6,
          0.6
         ],
         "xaxis": "x",
         "y": {
          "bdata": "9lqvhSLJ7j9ZkNEJooDuP8uVE6qHV+4/EMziy+L17T84CMXIC5bsP8K6RcVgJOs/2rgzmt6V6j9DifrpaKrpP2lMxjSsSOk/030o0xiF5z+mPcIRxHDnPxjMzIxGC+U/",
          "dtype": "f8"
         },
         "yaxis": "y"
        },
        {
         "legendgroup": "pig2pig",
         "line": {
          "color": "#44AA99",
          "dash": "dot"
         },
         "mode": "lines",
         "name": "pig2pig",
         "showlegend": false,
         "text": "95 % CI mean: [0.82;0.86]",
         "type": "scatter",
         "x": [
          0.5,
          0.5
         ],
         "xaxis": "x",
         "y": [
          0.8224148659653854,
          0.857234422631869
         ],
         "yaxis": "y"
        },
        {
         "legendgroup": "pig2pig",
         "line": {
          "color": "#44AA99"
         },
         "marker": {
          "size": 10,
          "symbol": "triangle-down-open"
         },
         "mode": "markers",
         "name": "pig2pig",
         "showlegend": false,
         "text": "95 % CI mean: [0.82;0.86]",
         "type": "scatter",
         "x": [
          0.5
         ],
         "xaxis": "x",
         "y": [
          0.8224148659653854
         ],
         "yaxis": "y"
        },
        {
         "legendgroup": "pig2pig",
         "line": {
          "color": "#44AA99"
         },
         "marker": {
          "size": 10,
          "symbol": "triangle-up-open"
         },
         "mode": "markers",
         "name": "pig2pig",
         "showlegend": false,
         "text": "95 % CI mean: [0.82;0.86]",
         "type": "scatter",
         "x": [
          0.5
         ],
         "xaxis": "x",
         "y": [
          0.857234422631869
         ],
         "yaxis": "y"
        },
        {
         "legendgroup": "pig2pig",
         "line": {
          "color": "#44AA99",
          "dash": "solid"
         },
         "mode": "lines",
         "name": "pig2pig",
         "showlegend": false,
         "text": "95 % CI median: [0.81;0.88]",
         "type": "scatter",
         "x": [
          0.7,
          0.7
         ],
         "xaxis": "x",
         "y": [
          0.8117115651263063,
          0.8751981169762082
         ],
         "yaxis": "y"
        },
        {
         "legendgroup": "pig2pig",
         "line": {
          "color": "#44AA99"
         },
         "marker": {
          "size": 10,
          "symbol": "triangle-down"
         },
         "mode": "markers",
         "name": "pig2pig",
         "showlegend": false,
         "text": "95 % CI median: [0.81;0.88]",
         "type": "scatter",
         "x": [
          0.7
         ],
         "xaxis": "x",
         "y": [
          0.8117115651263063
         ],
         "yaxis": "y"
        },
        {
         "legendgroup": "pig2pig",
         "line": {
          "color": "#44AA99"
         },
         "marker": {
          "size": 10,
          "symbol": "triangle-up"
         },
         "mode": "markers",
         "name": "pig2pig",
         "showlegend": false,
         "text": "95 % CI median: [0.81;0.88]",
         "type": "scatter",
         "x": [
          0.7
         ],
         "xaxis": "x",
         "y": [
          0.8751981169762082
         ],
         "yaxis": "y"
        },
        {
         "legend": "legend",
         "legendgroup": "pig2rat",
         "marker": {
          "color": "#89CCED",
          "line": {
           "color": "black",
           "width": 1
          },
          "size": 9,
          "symbol": "triangle-right"
         },
         "mode": "markers",
         "name": "lung",
         "showlegend": false,
         "type": "scatter",
         "x": [
          1
         ],
         "xaxis": "x",
         "y": [
          0.9476058666522685
         ],
         "yaxis": "y"
        },
        {
         "legend": "legend",
         "legendgroup": "pig2rat",
         "marker": {
          "color": "#89CCED",
          "line": {
           "color": "black",
           "width": 1
          },
          "size": 9,
          "symbol": "diamond-tall"
         },
         "mode": "markers",
         "name": "background",
         "showlegend": false,
         "type": "scatter",
         "x": [
          1.0933333333333333
         ],
         "xaxis": "x",
         "y": [
          0.6924099791134387
         ],
         "yaxis": "y"
        },
        {
         "legend": "legend",
         "legendgroup": "pig2rat",
         "marker": {
          "color": "#89CCED",
          "line": {
           "color": "black",
           "width": 1
          },
          "size": 9,
          "symbol": "diamond-wide"
         },
         "mode": "markers",
         "name": "peritoneum",
         "showlegend": false,
         "type": "scatter",
         "x": [
          1.1866666666666668
         ],
         "xaxis": "x",
         "y": [
          0.6465815117058414
         ],
         "yaxis": "y"
        },
        {
         "legend": "legend",
         "legendgroup": "pig2rat",
         "marker": {
          "color": "#89CCED",
          "line": {
           "color": "black",
           "width": 1
          },
          "size": 9,
          "symbol": "triangle-up"
         },
         "mode": "markers",
         "name": "kidney",
         "showlegend": false,
         "type": "scatter",
         "x": [
          1.28
         ],
         "xaxis": "x",
         "y": [
          0.6016194076983484
         ],
         "yaxis": "y"
        },
        {
         "legend": "legend",
         "legendgroup": "pig2rat",
         "marker": {
          "color": "#89CCED",
          "line": {
           "color": "black",
           "width": 1
          },
          "size": 9,
          "symbol": "star"
         },
         "mode": "markers",
         "name": "skin",
         "showlegend": false,
         "type": "scatter",
         "x": [
          1
         ],
         "xaxis": "x",
         "y": [
          0.5676654851885143
         ],
         "yaxis": "y"
        },
        {
         "legend": "legend",
         "legendgroup": "pig2rat",
         "marker": {
          "color": "#89CCED",
          "line": {
           "color": "black",
           "width": 1
          },
          "size": 9,
          "symbol": "cross"
         },
         "mode": "markers",
         "name": "liver",
         "showlegend": false,
         "type": "scatter",
         "x": [
          1.0933333333333333
         ],
         "xaxis": "x",
         "y": [
          0.464141132338418
         ],
         "yaxis": "y"
        },
        {
         "legend": "legend",
         "legendgroup": "pig2rat",
         "marker": {
          "color": "#89CCED",
          "line": {
           "color": "black",
           "width": 1
          },
          "size": 9,
          "symbol": "diamond"
         },
         "mode": "markers",
         "name": "colon",
         "showlegend": false,
         "type": "scatter",
         "x": [
          1.1866666666666668
         ],
         "xaxis": "x",
         "y": [
          0.3076395393500617
         ],
         "yaxis": "y"
        },
        {
         "legend": "legend",
         "legendgroup": "pig2rat",
         "marker": {
          "color": "#89CCED",
          "line": {
           "color": "black",
           "width": 1
          },
          "size": 9,
          "symbol": "triangle-left"
         },
         "mode": "markers",
         "name": "omentum",
         "showlegend": false,
         "type": "scatter",
         "x": [
          1.28
         ],
         "xaxis": "x",
         "y": [
          0.2975888720772976
         ],
         "yaxis": "y"
        },
        {
         "legend": "legend",
         "legendgroup": "pig2rat",
         "marker": {
          "color": "#89CCED",
          "line": {
           "color": "black",
           "width": 1
          },
          "size": 9,
          "symbol": "x"
         },
         "mode": "markers",
         "name": "pancreas",
         "showlegend": false,
         "type": "scatter",
         "x": [
          1
         ],
         "xaxis": "x",
         "y": [
          0.1862461492801324
         ],
         "yaxis": "y"
        },
        {
         "legend": "legend",
         "legendgroup": "pig2rat",
         "marker": {
          "color": "#89CCED",
          "line": {
           "color": "black",
           "width": 1
          },
          "size": 9,
          "symbol": "square"
         },
         "mode": "markers",
         "name": "small_bowel",
         "showlegend": false,
         "type": "scatter",
         "x": [
          1.0933333333333333
         ],
         "xaxis": "x",
         "y": [
          0.1168393371797251
         ],
         "yaxis": "y"
        },
        {
         "legend": "legend",
         "legendgroup": "pig2rat",
         "marker": {
          "color": "#89CCED",
          "line": {
           "color": "black",
           "width": 1
          },
          "size": 9,
          "symbol": "circle"
         },
         "mode": "markers",
         "name": "stomach",
         "showlegend": false,
         "type": "scatter",
         "x": [
          1.1866666666666668
         ],
         "xaxis": "x",
         "y": [
          0.08701050513298209
         ],
         "yaxis": "y"
        },
        {
         "legend": "legend",
         "legendgroup": "pig2rat",
         "marker": {
          "color": "#89CCED",
          "line": {
           "color": "black",
           "width": 1
          },
          "size": 9,
          "symbol": "triangle-down"
         },
         "mode": "markers",
         "name": "spleen",
         "showlegend": false,
         "type": "scatter",
         "x": [
          1.28
         ],
         "xaxis": "x",
         "y": [
          0.08462030839429403
         ],
         "yaxis": "y"
        },
        {
         "boxmean": true,
         "boxpoints": false,
         "legend": "legend2",
         "legendgroup": "pig2rat",
         "line": {
          "color": "#89CCED"
         },
         "name": "pig2rat",
         "showlegend": true,
         "type": "box",
         "x": [
          1.6,
          1.6,
          1.6,
          1.6,
          1.6,
          1.6,
          1.6,
          1.6,
          1.6,
          1.6,
          1.6,
          1.6
         ],
         "xaxis": "x",
         "y": {
          "bdata": "iZ3YiclS7j+f6/b4OCjmP88x37XLsOQ/aYEWWHdA4z8KfL7OUCriP27NBwJ9tN0/5MIdwF2w0z/vbk4ysgvTP1ABFfDp1sc/m78SzC7pvT+MYPQJUka2P3GEITGtqbU/",
          "dtype": "f8"
         },
         "yaxis": "y"
        },
        {
         "legendgroup": "pig2rat",
         "line": {
          "color": "#89CCED",
          "dash": "dot"
         },
         "mode": "lines",
         "name": "pig2rat",
         "showlegend": false,
         "text": "95 % CI mean: [0.40;0.43]",
         "type": "scatter",
         "x": [
          1.5,
          1.5
         ],
         "xaxis": "x",
         "y": [
          0.40229098303647637,
          0.4333156599533298
         ],
         "yaxis": "y"
        },
        {
         "legendgroup": "pig2rat",
         "line": {
          "color": "#89CCED"
         },
         "marker": {
          "size": 10,
          "symbol": "triangle-down-open"
         },
         "mode": "markers",
         "name": "pig2rat",
         "showlegend": false,
         "text": "95 % CI mean: [0.40;0.43]",
         "type": "scatter",
         "x": [
          1.5
         ],
         "xaxis": "x",
         "y": [
          0.40229098303647637
         ],
         "yaxis": "y"
        },
        {
         "legendgroup": "pig2rat",
         "line": {
          "color": "#89CCED"
         },
         "marker": {
          "size": 10,
          "symbol": "triangle-up-open"
         },
         "mode": "markers",
         "name": "pig2rat",
         "showlegend": false,
         "text": "95 % CI mean: [0.40;0.43]",
         "type": "scatter",
         "x": [
          1.5
         ],
         "xaxis": "x",
         "y": [
          0.4333156599533298
         ],
         "yaxis": "y"
        },
        {
         "legendgroup": "pig2rat",
         "line": {
          "color": "#89CCED",
          "dash": "solid"
         },
         "mode": "lines",
         "name": "pig2rat",
         "showlegend": false,
         "text": "95 % CI median: [0.37;0.43]",
         "type": "scatter",
         "x": [
          1.7,
          1.7
         ],
         "xaxis": "x",
         "y": [
          0.36823498967472135,
          0.42717343779846
         ],
         "yaxis": "y"
        },
        {
         "legendgroup": "pig2rat",
         "line": {
          "color": "#89CCED"
         },
         "marker": {
          "size": 10,
          "symbol": "triangle-down"
         },
         "mode": "markers",
         "name": "pig2rat",
         "showlegend": false,
         "text": "95 % CI median: [0.37;0.43]",
         "type": "scatter",
         "x": [
          1.7
         ],
         "xaxis": "x",
         "y": [
          0.36823498967472135
         ],
         "yaxis": "y"
        },
        {
         "legendgroup": "pig2rat",
         "line": {
          "color": "#89CCED"
         },
         "marker": {
          "size": 10,
          "symbol": "triangle-up"
         },
         "mode": "markers",
         "name": "pig2rat",
         "showlegend": false,
         "text": "95 % CI median: [0.37;0.43]",
         "type": "scatter",
         "x": [
          1.7
         ],
         "xaxis": "x",
         "y": [
          0.42717343779846
         ],
         "yaxis": "y"
        },
        {
         "legend": "legend",
         "legendgroup": "pig2human",
         "marker": {
          "color": "#DDCB76",
          "line": {
           "color": "black",
           "width": 1
          },
          "size": 9,
          "symbol": "star"
         },
         "mode": "markers",
         "name": "skin",
         "showlegend": false,
         "type": "scatter",
         "x": [
          2
         ],
         "xaxis": "x",
         "y": [
          0.7735537873196696
         ],
         "yaxis": "y"
        },
        {
         "legend": "legend",
         "legendgroup": "pig2human",
         "marker": {
          "color": "#DDCB76",
          "line": {
           "color": "black",
           "width": 1
          },
          "size": 9,
          "symbol": "diamond-tall"
         },
         "mode": "markers",
         "name": "background",
         "showlegend": false,
         "type": "scatter",
         "x": [
          2.0933333333333333
         ],
         "xaxis": "x",
         "y": [
          0.6919477938632245
         ],
         "yaxis": "y"
        },
        {
         "legend": "legend",
         "legendgroup": "pig2human",
         "marker": {
          "color": "#DDCB76",
          "line": {
           "color": "black",
           "width": 1
          },
          "size": 9,
          "symbol": "triangle-left"
         },
         "mode": "markers",
         "name": "omentum",
         "showlegend": false,
         "type": "scatter",
         "x": [
          2.1866666666666665
         ],
         "xaxis": "x",
         "y": [
          0.4926273763240808
         ],
         "yaxis": "y"
        },
        {
         "legend": "legend",
         "legendgroup": "pig2human",
         "marker": {
          "color": "#DDCB76",
          "line": {
           "color": "black",
           "width": 1
          },
          "size": 9,
          "symbol": "triangle-right"
         },
         "mode": "markers",
         "name": "lung",
         "showlegend": false,
         "type": "scatter",
         "x": [
          2.2800000000000002
         ],
         "xaxis": "x",
         "y": [
          0.43497287176549443
         ],
         "yaxis": "y"
        },
        {
         "legend": "legend",
         "legendgroup": "pig2human",
         "marker": {
          "color": "#DDCB76",
          "line": {
           "color": "black",
           "width": 1
          },
          "size": 9,
          "symbol": "diamond-wide"
         },
         "mode": "markers",
         "name": "peritoneum",
         "showlegend": false,
         "type": "scatter",
         "x": [
          2
         ],
         "xaxis": "x",
         "y": [
          0.36405937593190274
         ],
         "yaxis": "y"
        },
        {
         "legend": "legend",
         "legendgroup": "pig2human",
         "marker": {
          "color": "#DDCB76",
          "line": {
           "color": "black",
           "width": 1
          },
          "size": 9,
          "symbol": "circle"
         },
         "mode": "markers",
         "name": "stomach",
         "showlegend": false,
         "type": "scatter",
         "x": [
          2.0933333333333333
         ],
         "xaxis": "x",
         "y": [
          0.35970752510103304
         ],
         "yaxis": "y"
        },
        {
         "legend": "legend",
         "legendgroup": "pig2human",
         "marker": {
          "color": "#DDCB76",
          "line": {
           "color": "black",
           "width": 1
          },
          "size": 9,
          "symbol": "diamond"
         },
         "mode": "markers",
         "name": "colon",
         "showlegend": false,
         "type": "scatter",
         "x": [
          2.1866666666666665
         ],
         "xaxis": "x",
         "y": [
          0.21412389498132683
         ],
         "yaxis": "y"
        },
        {
         "legend": "legend",
         "legendgroup": "pig2human",
         "marker": {
          "color": "#DDCB76",
          "line": {
           "color": "black",
           "width": 1
          },
          "size": 9,
          "symbol": "triangle-down"
         },
         "mode": "markers",
         "name": "spleen",
         "showlegend": false,
         "type": "scatter",
         "x": [
          2.2800000000000002
         ],
         "xaxis": "x",
         "y": [
          0.19402342941612005
         ],
         "yaxis": "y"
        },
        {
         "legend": "legend",
         "legendgroup": "pig2human",
         "marker": {
          "color": "#DDCB76",
          "line": {
           "color": "black",
           "width": 1
          },
          "size": 9,
          "symbol": "square"
         },
         "mode": "markers",
         "name": "small_bowel",
         "showlegend": false,
         "type": "scatter",
         "x": [
          2
         ],
         "xaxis": "x",
         "y": [
          0.18788148270377694
         ],
         "yaxis": "y"
        },
        {
         "legend": "legend",
         "legendgroup": "pig2human",
         "marker": {
          "color": "#DDCB76",
          "line": {
           "color": "black",
           "width": 1
          },
          "size": 9,
          "symbol": "triangle-up"
         },
         "mode": "markers",
         "name": "kidney",
         "showlegend": false,
         "type": "scatter",
         "x": [
          2.0933333333333333
         ],
         "xaxis": "x",
         "y": [
          0.15611111817196582
         ],
         "yaxis": "y"
        },
        {
         "legend": "legend",
         "legendgroup": "pig2human",
         "marker": {
          "color": "#DDCB76",
          "line": {
           "color": "black",
           "width": 1
          },
          "size": 9,
          "symbol": "cross"
         },
         "mode": "markers",
         "name": "liver",
         "showlegend": false,
         "type": "scatter",
         "x": [
          2.1866666666666665
         ],
         "xaxis": "x",
         "y": [
          0.09631710144828373
         ],
         "yaxis": "y"
        },
        {
         "legend": "legend",
         "legendgroup": "pig2human",
         "marker": {
          "color": "#DDCB76",
          "line": {
           "color": "black",
           "width": 1
          },
          "size": 9,
          "symbol": "x"
         },
         "mode": "markers",
         "name": "pancreas",
         "showlegend": false,
         "type": "scatter",
         "x": [
          2.2800000000000002
         ],
         "xaxis": "x",
         "y": [
          0.05084995212851138
         ],
         "yaxis": "y"
        },
        {
         "boxmean": true,
         "boxpoints": false,
         "legend": "legend2",
         "legendgroup": "pig2human",
         "line": {
          "color": "#DDCB76"
         },
         "name": "pig2human",
         "showlegend": true,
         "type": "box",
         "x": [
          2.6,
          2.6,
          2.6,
          2.6,
          2.6,
          2.6,
          2.6,
          2.6,
          2.6,
          2.6,
          2.6,
          2.6
         ],
         "xaxis": "x",
         "y": {
          "bdata": "eIRH3/PA6D8d0iWzbyTmPw5Hm/k0h98/7VG4dJjW2z8SgFuyv0zXPz/HG7ZyBdc/9lMea2loyz8AAAB+wtXIP5FM3huADMg/RpiL+XL7wz+OEcTQPKi4P21NykIBCao/",
          "dtype": "f8"
         },
         "yaxis": "y"
        },
        {
         "legendgroup": "pig2human",
         "line": {
          "color": "#DDCB76",
          "dash": "dot"
         },
         "mode": "lines",
         "name": "pig2human",
         "showlegend": false,
         "text": "95 % CI mean: [0.32;0.35]",
         "type": "scatter",
         "x": [
          2.5,
          2.5
         ],
         "xaxis": "x",
         "y": [
          0.3165559085598686,
          0.3532108320477775
         ],
         "yaxis": "y"
        },
        {
         "legendgroup": "pig2human",
         "line": {
          "color": "#DDCB76"
         },
         "marker": {
          "size": 10,
          "symbol": "triangle-down-open"
         },
         "mode": "markers",
         "name": "pig2human",
         "showlegend": false,
         "text": "95 % CI mean: [0.32;0.35]",
         "type": "scatter",
         "x": [
          2.5
         ],
         "xaxis": "x",
         "y": [
          0.3165559085598686
         ],
         "yaxis": "y"
        },
        {
         "legendgroup": "pig2human",
         "line": {
          "color": "#DDCB76"
         },
         "marker": {
          "size": 10,
          "symbol": "triangle-up-open"
         },
         "mode": "markers",
         "name": "pig2human",
         "showlegend": false,
         "text": "95 % CI mean: [0.32;0.35]",
         "type": "scatter",
         "x": [
          2.5
         ],
         "xaxis": "x",
         "y": [
          0.3532108320477775
         ],
         "yaxis": "y"
        },
        {
         "legendgroup": "pig2human",
         "line": {
          "color": "#DDCB76",
          "dash": "solid"
         },
         "mode": "lines",
         "name": "pig2human",
         "showlegend": false,
         "text": "95 % CI median: [0.25;0.33]",
         "type": "scatter",
         "x": [
          2.7,
          2.7
         ],
         "xaxis": "x",
         "y": [
          0.24933350581423014,
          0.33313766632783554
         ],
         "yaxis": "y"
        },
        {
         "legendgroup": "pig2human",
         "line": {
          "color": "#DDCB76"
         },
         "marker": {
          "size": 10,
          "symbol": "triangle-down"
         },
         "mode": "markers",
         "name": "pig2human",
         "showlegend": false,
         "text": "95 % CI median: [0.25;0.33]",
         "type": "scatter",
         "x": [
          2.7
         ],
         "xaxis": "x",
         "y": [
          0.24933350581423014
         ],
         "yaxis": "y"
        },
        {
         "legendgroup": "pig2human",
         "line": {
          "color": "#DDCB76"
         },
         "marker": {
          "size": 10,
          "symbol": "triangle-up"
         },
         "mode": "markers",
         "name": "pig2human",
         "showlegend": false,
         "text": "95 % CI median: [0.25;0.33]",
         "type": "scatter",
         "x": [
          2.7
         ],
         "xaxis": "x",
         "y": [
          0.33313766632783554
         ],
         "yaxis": "y"
        },
        {
         "legend": "legend",
         "marker": {
          "color": "gray",
          "line": {
           "color": "black",
           "width": 1
          },
          "size": 9,
          "symbol": "circle"
         },
         "mode": "markers",
         "name": "stomach",
         "showlegend": false,
         "type": "scatter",
         "x": [
          null
         ],
         "xaxis": "x2",
         "y": [
          null
         ],
         "yaxis": "y2"
        },
        {
         "legend": "legend",
         "marker": {
          "color": "gray",
          "line": {
           "color": "black",
           "width": 1
          },
          "size": 9,
          "symbol": "square"
         },
         "mode": "markers",
         "name": "small_bowel",
         "showlegend": false,
         "type": "scatter",
         "x": [
          null
         ],
         "xaxis": "x2",
         "y": [
          null
         ],
         "yaxis": "y2"
        },
        {
         "legend": "legend",
         "marker": {
          "color": "gray",
          "line": {
           "color": "black",
           "width": 1
          },
          "size": 9,
          "symbol": "diamond"
         },
         "mode": "markers",
         "name": "colon",
         "showlegend": false,
         "type": "scatter",
         "x": [
          null
         ],
         "xaxis": "x2",
         "y": [
          null
         ],
         "yaxis": "y2"
        },
        {
         "legend": "legend",
         "marker": {
          "color": "gray",
          "line": {
           "color": "black",
           "width": 1
          },
          "size": 9,
          "symbol": "cross"
         },
         "mode": "markers",
         "name": "liver",
         "showlegend": false,
         "type": "scatter",
         "x": [
          null
         ],
         "xaxis": "x2",
         "y": [
          null
         ],
         "yaxis": "y2"
        },
        {
         "legend": "legend",
         "marker": {
          "color": "gray",
          "line": {
           "color": "black",
           "width": 1
          },
          "size": 9,
          "symbol": "x"
         },
         "mode": "markers",
         "name": "pancreas",
         "showlegend": false,
         "type": "scatter",
         "x": [
          null
         ],
         "xaxis": "x2",
         "y": [
          null
         ],
         "yaxis": "y2"
        },
        {
         "legend": "legend",
         "marker": {
          "color": "gray",
          "line": {
           "color": "black",
           "width": 1
          },
          "size": 9,
          "symbol": "triangle-up"
         },
         "mode": "markers",
         "name": "kidney",
         "showlegend": false,
         "type": "scatter",
         "x": [
          null
         ],
         "xaxis": "x2",
         "y": [
          null
         ],
         "yaxis": "y2"
        },
        {
         "legend": "legend",
         "marker": {
          "color": "gray",
          "line": {
           "color": "black",
           "width": 1
          },
          "size": 9,
          "symbol": "triangle-down"
         },
         "mode": "markers",
         "name": "spleen",
         "showlegend": false,
         "type": "scatter",
         "x": [
          null
         ],
         "xaxis": "x2",
         "y": [
          null
         ],
         "yaxis": "y2"
        },
        {
         "legend": "legend",
         "marker": {
          "color": "gray",
          "line": {
           "color": "black",
           "width": 1
          },
          "size": 9,
          "symbol": "triangle-left"
         },
         "mode": "markers",
         "name": "omentum",
         "showlegend": false,
         "type": "scatter",
         "x": [
          null
         ],
         "xaxis": "x2",
         "y": [
          null
         ],
         "yaxis": "y2"
        },
        {
         "legend": "legend",
         "marker": {
          "color": "gray",
          "line": {
           "color": "black",
           "width": 1
          },
          "size": 9,
          "symbol": "triangle-right"
         },
         "mode": "markers",
         "name": "lung",
         "showlegend": false,
         "type": "scatter",
         "x": [
          null
         ],
         "xaxis": "x2",
         "y": [
          null
         ],
         "yaxis": "y2"
        },
        {
         "legend": "legend",
         "marker": {
          "color": "gray",
          "line": {
           "color": "black",
           "width": 1
          },
          "size": 9,
          "symbol": "star"
         },
         "mode": "markers",
         "name": "skin",
         "showlegend": false,
         "type": "scatter",
         "x": [
          null
         ],
         "xaxis": "x2",
         "y": [
          null
         ],
         "yaxis": "y2"
        },
        {
         "legend": "legend",
         "marker": {
          "color": "gray",
          "line": {
           "color": "black",
           "width": 1
          },
          "size": 9,
          "symbol": "diamond-wide"
         },
         "mode": "markers",
         "name": "peritoneum",
         "showlegend": false,
         "type": "scatter",
         "x": [
          null
         ],
         "xaxis": "x2",
         "y": [
          null
         ],
         "yaxis": "y2"
        },
        {
         "legend": "legend",
         "marker": {
          "color": "gray",
          "line": {
           "color": "black",
           "width": 1
          },
          "size": 9,
          "symbol": "diamond-tall"
         },
         "mode": "markers",
         "name": "background",
         "showlegend": false,
         "type": "scatter",
         "x": [
          null
         ],
         "xaxis": "x2",
         "y": [
          null
         ],
         "yaxis": "y2"
        },
        {
         "legend": "legend",
         "legendgroup": "rat2rat",
         "marker": {
          "color": "#89CCED",
          "line": {
           "color": "black",
           "width": 1
          },
          "size": 9,
          "symbol": "triangle-right"
         },
         "mode": "markers",
         "name": "lung",
         "showlegend": false,
         "type": "scatter",
         "x": [
          0
         ],
         "xaxis": "x2",
         "y": [
          0.9897205829620361
         ],
         "yaxis": "y2"
        },
        {
         "legend": "legend",
         "legendgroup": "rat2rat",
         "marker": {
          "color": "#89CCED",
          "line": {
           "color": "black",
           "width": 1
          },
          "size": 9,
          "symbol": "diamond-wide"
         },
         "mode": "markers",
         "name": "peritoneum",
         "showlegend": false,
         "type": "scatter",
         "x": [
          0.09333333333333334
         ],
         "xaxis": "x2",
         "y": [
          0.977964673318901
         ],
         "yaxis": "y2"
        },
        {
         "legend": "legend",
         "legendgroup": "rat2rat",
         "marker": {
          "color": "#89CCED",
          "line": {
           "color": "black",
           "width": 1
          },
          "size": 9,
          "symbol": "diamond-tall"
         },
         "mode": "markers",
         "name": "background",
         "showlegend": false,
         "type": "scatter",
         "x": [
          0.18666666666666668
         ],
         "xaxis": "x2",
         "y": [
          0.9544910802933864
         ],
         "yaxis": "y2"
        },
        {
         "legend": "legend",
         "legendgroup": "rat2rat",
         "marker": {
          "color": "#89CCED",
          "line": {
           "color": "black",
           "width": 1
          },
          "size": 9,
          "symbol": "star"
         },
         "mode": "markers",
         "name": "skin",
         "showlegend": false,
         "type": "scatter",
         "x": [
          0.28
         ],
         "xaxis": "x2",
         "y": [
          0.9417644601574562
         ],
         "yaxis": "y2"
        },
        {
         "legend": "legend",
         "legendgroup": "rat2rat",
         "marker": {
          "color": "#89CCED",
          "line": {
           "color": "black",
           "width": 1
          },
          "size": 9,
          "symbol": "square"
         },
         "mode": "markers",
         "name": "small_bowel",
         "showlegend": false,
         "type": "scatter",
         "x": [
          0
         ],
         "xaxis": "x2",
         "y": [
          0.8793987042353812
         ],
         "yaxis": "y2"
        },
        {
         "legend": "legend",
         "legendgroup": "rat2rat",
         "marker": {
          "color": "#89CCED",
          "line": {
           "color": "black",
           "width": 1
          },
          "size": 9,
          "symbol": "triangle-up"
         },
         "mode": "markers",
         "name": "kidney",
         "showlegend": false,
         "type": "scatter",
         "x": [
          0.09333333333333334
         ],
         "xaxis": "x2",
         "y": [
          0.8539825174398039
         ],
         "yaxis": "y2"
        },
        {
         "legend": "legend",
         "legendgroup": "rat2rat",
         "marker": {
          "color": "#89CCED",
          "line": {
           "color": "black",
           "width": 1
          },
          "size": 9,
          "symbol": "triangle-left"
         },
         "mode": "markers",
         "name": "omentum",
         "showlegend": false,
         "type": "scatter",
         "x": [
          0.18666666666666668
         ],
         "xaxis": "x2",
         "y": [
          0.8264036402527238
         ],
         "yaxis": "y2"
        },
        {
         "legend": "legend",
         "legendgroup": "rat2rat",
         "marker": {
          "color": "#89CCED",
          "line": {
           "color": "black",
           "width": 1
          },
          "size": 9,
          "symbol": "circle"
         },
         "mode": "markers",
         "name": "stomach",
         "showlegend": false,
         "type": "scatter",
         "x": [
          0.28
         ],
         "xaxis": "x2",
         "y": [
          0.8255487347126924
         ],
         "yaxis": "y2"
        },
        {
         "legend": "legend",
         "legendgroup": "rat2rat",
         "marker": {
          "color": "#89CCED",
          "line": {
           "color": "black",
           "width": 1
          },
          "size": 9,
          "symbol": "triangle-down"
         },
         "mode": "markers",
         "name": "spleen",
         "showlegend": false,
         "type": "scatter",
         "x": [
          0
         ],
         "xaxis": "x2",
         "y": [
          0.7757092768195437
         ],
         "yaxis": "y2"
        },
        {
         "legend": "legend",
         "legendgroup": "rat2rat",
         "marker": {
          "color": "#89CCED",
          "line": {
           "color": "black",
           "width": 1
          },
          "size": 9,
          "symbol": "diamond"
         },
         "mode": "markers",
         "name": "colon",
         "showlegend": false,
         "type": "scatter",
         "x": [
          0.09333333333333334
         ],
         "xaxis": "x2",
         "y": [
          0.771811417414718
         ],
         "yaxis": "y2"
        },
        {
         "legend": "legend",
         "legendgroup": "rat2rat",
         "marker": {
          "color": "#89CCED",
          "line": {
           "color": "black",
           "width": 1
          },
          "size": 9,
          "symbol": "cross"
         },
         "mode": "markers",
         "name": "liver",
         "showlegend": false,
         "type": "scatter",
         "x": [
          0.18666666666666668
         ],
         "xaxis": "x2",
         "y": [
          0.7376623387011476
         ],
         "yaxis": "y2"
        },
        {
         "legend": "legend",
         "legendgroup": "rat2rat",
         "marker": {
          "color": "#89CCED",
          "line": {
           "color": "black",
           "width": 1
          },
          "size": 9,
          "symbol": "x"
         },
         "mode": "markers",
         "name": "pancreas",
         "showlegend": false,
         "type": "scatter",
         "x": [
          0.28
         ],
         "xaxis": "x2",
         "y": [
          0.6440841437259436
         ],
         "yaxis": "y2"
        },
        {
         "boxmean": true,
         "boxpoints": false,
         "legend": "legend2",
         "legendgroup": "rat2rat",
         "line": {
          "color": "#89CCED"
         },
         "name": "rat2rat",
         "showlegend": false,
         "type": "box",
         "x": [
          0.6,
          0.6,
          0.6,
          0.6,
          0.6,
          0.6,
          0.6,
          0.6,
          0.6,
          0.6,
          0.6,
          0.6
         ],
         "xaxis": "x2",
         "y": {
          "bdata": "AAAAgMqr7z8/iRGSfEvvP7rhxeAwi+4/8CmdOO8i7j9gvlrACCTsP4ZP+CTTU+s/GckFDOZx6j/UCxsu5WrqP5yZ5EKc0ug/RTiP262y6D8yy4YM7prnP1mapVlWnOQ/",
          "dtype": "f8"
         },
         "yaxis": "y2"
        },
        {
         "legendgroup": "rat2rat",
         "line": {
          "color": "#89CCED",
          "dash": "dot"
         },
         "mode": "lines",
         "name": "rat2rat",
         "showlegend": false,
         "text": "95 % CI mean: [0.84;0.86]",
         "type": "scatter",
         "x": [
          0.5,
          0.5
         ],
         "xaxis": "x2",
         "y": [
          0.8368920453986463,
          0.8602910897504514
         ],
         "yaxis": "y2"
        },
        {
         "legendgroup": "rat2rat",
         "line": {
          "color": "#89CCED"
         },
         "marker": {
          "size": 10,
          "symbol": "triangle-down-open"
         },
         "mode": "markers",
         "name": "rat2rat",
         "showlegend": false,
         "text": "95 % CI mean: [0.84;0.86]",
         "type": "scatter",
         "x": [
          0.5
         ],
         "xaxis": "x2",
         "y": [
          0.8368920453986463
         ],
         "yaxis": "y2"
        },
        {
         "legendgroup": "rat2rat",
         "line": {
          "color": "#89CCED"
         },
         "marker": {
          "size": 10,
          "symbol": "triangle-up-open"
         },
         "mode": "markers",
         "name": "rat2rat",
         "showlegend": false,
         "text": "95 % CI mean: [0.84;0.86]",
         "type": "scatter",
         "x": [
          0.5
         ],
         "xaxis": "x2",
         "y": [
          0.8602910897504514
         ],
         "yaxis": "y2"
        },
        {
         "legendgroup": "rat2rat",
         "line": {
          "color": "#89CCED",
          "dash": "solid"
         },
         "mode": "lines",
         "name": "rat2rat",
         "showlegend": false,
         "text": "95 % CI median: [0.82;0.87]",
         "type": "scatter",
         "x": [
          0.7,
          0.7
         ],
         "xaxis": "x2",
         "y": [
          0.8224491231480179,
          0.8673259752851978
         ],
         "yaxis": "y2"
        },
        {
         "legendgroup": "rat2rat",
         "line": {
          "color": "#89CCED"
         },
         "marker": {
          "size": 10,
          "symbol": "triangle-down"
         },
         "mode": "markers",
         "name": "rat2rat",
         "showlegend": false,
         "text": "95 % CI median: [0.82;0.87]",
         "type": "scatter",
         "x": [
          0.7
         ],
         "xaxis": "x2",
         "y": [
          0.8224491231480179
         ],
         "yaxis": "y2"
        },
        {
         "legendgroup": "rat2rat",
         "line": {
          "color": "#89CCED"
         },
         "marker": {
          "size": 10,
          "symbol": "triangle-up"
         },
         "mode": "markers",
         "name": "rat2rat",
         "showlegend": false,
         "text": "95 % CI median: [0.82;0.87]",
         "type": "scatter",
         "x": [
          0.7
         ],
         "xaxis": "x2",
         "y": [
          0.8673259752851978
         ],
         "yaxis": "y2"
        },
        {
         "legend": "legend",
         "legendgroup": "rat2pig",
         "marker": {
          "color": "#44AA99",
          "line": {
           "color": "black",
           "width": 1
          },
          "size": 9,
          "symbol": "star"
         },
         "mode": "markers",
         "name": "skin",
         "showlegend": false,
         "type": "scatter",
         "x": [
          1
         ],
         "xaxis": "x2",
         "y": [
          0.5937311764189384
         ],
         "yaxis": "y2"
        },
        {
         "legend": "legend",
         "legendgroup": "rat2pig",
         "marker": {
          "color": "#44AA99",
          "line": {
           "color": "black",
           "width": 1
          },
          "size": 9,
          "symbol": "diamond-tall"
         },
         "mode": "markers",
         "name": "background",
         "showlegend": false,
         "type": "scatter",
         "x": [
          1.0933333333333333
         ],
         "xaxis": "x2",
         "y": [
          0.5690213037910649
         ],
         "yaxis": "y2"
        },
        {
         "legend": "legend",
         "legendgroup": "rat2pig",
         "marker": {
          "color": "#44AA99",
          "line": {
           "color": "black",
           "width": 1
          },
          "size": 9,
          "symbol": "cross"
         },
         "mode": "markers",
         "name": "liver",
         "showlegend": false,
         "type": "scatter",
         "x": [
          1.1866666666666668
         ],
         "xaxis": "x2",
         "y": [
          0.5471725052732284
         ],
         "yaxis": "y2"
        },
        {
         "legend": "legend",
         "legendgroup": "rat2pig",
         "marker": {
          "color": "#44AA99",
          "line": {
           "color": "black",
           "width": 1
          },
          "size": 9,
          "symbol": "triangle-right"
         },
         "mode": "markers",
         "name": "lung",
         "showlegend": false,
         "type": "scatter",
         "x": [
          1.28
         ],
         "xaxis": "x2",
         "y": [
          0.49335919079701707
         ],
         "yaxis": "y2"
        },
        {
         "legend": "legend",
         "legendgroup": "rat2pig",
         "marker": {
          "color": "#44AA99",
          "line": {
           "color": "black",
           "width": 1
          },
          "size": 9,
          "symbol": "triangle-down"
         },
         "mode": "markers",
         "name": "spleen",
         "showlegend": false,
         "type": "scatter",
         "x": [
          1
         ],
         "xaxis": "x2",
         "y": [
          0.3884020859572858
         ],
         "yaxis": "y2"
        },
        {
         "legend": "legend",
         "legendgroup": "rat2pig",
         "marker": {
          "color": "#44AA99",
          "line": {
           "color": "black",
           "width": 1
          },
          "size": 9,
          "symbol": "square"
         },
         "mode": "markers",
         "name": "small_bowel",
         "showlegend": false,
         "type": "scatter",
         "x": [
          1.0933333333333333
         ],
         "xaxis": "x2",
         "y": [
          0.3855754346508949
         ],
         "yaxis": "y2"
        },
        {
         "legend": "legend",
         "legendgroup": "rat2pig",
         "marker": {
          "color": "#44AA99",
          "line": {
           "color": "black",
           "width": 1
          },
          "size": 9,
          "symbol": "diamond-wide"
         },
         "mode": "markers",
         "name": "peritoneum",
         "showlegend": false,
         "type": "scatter",
         "x": [
          1.1866666666666668
         ],
         "xaxis": "x2",
         "y": [
          0.38379932526966143
         ],
         "yaxis": "y2"
        },
        {
         "legend": "legend",
         "legendgroup": "rat2pig",
         "marker": {
          "color": "#44AA99",
          "line": {
           "color": "black",
           "width": 1
          },
          "size": 9,
          "symbol": "x"
         },
         "mode": "markers",
         "name": "pancreas",
         "showlegend": false,
         "type": "scatter",
         "x": [
          1.28
         ],
         "xaxis": "x2",
         "y": [
          0.3444124986491506
         ],
         "yaxis": "y2"
        },
        {
         "legend": "legend",
         "legendgroup": "rat2pig",
         "marker": {
          "color": "#44AA99",
          "line": {
           "color": "black",
           "width": 1
          },
          "size": 9,
          "symbol": "diamond"
         },
         "mode": "markers",
         "name": "colon",
         "showlegend": false,
         "type": "scatter",
         "x": [
          1
         ],
         "xaxis": "x2",
         "y": [
          0.2967713103076085
         ],
         "yaxis": "y2"
        },
        {
         "legend": "legend",
         "legendgroup": "rat2pig",
         "marker": {
          "color": "#44AA99",
          "line": {
           "color": "black",
           "width": 1
          },
          "size": 9,
          "symbol": "triangle-left"
         },
         "mode": "markers",
         "name": "omentum",
         "showlegend": false,
         "type": "scatter",
         "x": [
          1.0933333333333333
         ],
         "xaxis": "x2",
         "y": [
          0.20180232167656362
         ],
         "yaxis": "y2"
        },
        {
         "legend": "legend",
         "legendgroup": "rat2pig",
         "marker": {
          "color": "#44AA99",
          "line": {
           "color": "black",
           "width": 1
          },
          "size": 9,
          "symbol": "circle"
         },
         "mode": "markers",
         "name": "stomach",
         "showlegend": false,
         "type": "scatter",
         "x": [
          1.1866666666666668
         ],
         "xaxis": "x2",
         "y": [
          0.04340460103733269
         ],
         "yaxis": "y2"
        },
        {
         "legend": "legend",
         "legendgroup": "rat2pig",
         "marker": {
          "color": "#44AA99",
          "line": {
           "color": "black",
           "width": 1
          },
          "size": 9,
          "symbol": "triangle-up"
         },
         "mode": "markers",
         "name": "kidney",
         "showlegend": false,
         "type": "scatter",
         "x": [
          1.28
         ],
         "xaxis": "x2",
         "y": [
          0.004127494019899043
         ],
         "yaxis": "y2"
        },
        {
         "boxmean": true,
         "boxpoints": false,
         "legend": "legend2",
         "legendgroup": "rat2pig",
         "line": {
          "color": "#44AA99"
         },
         "name": "rat2pig",
         "showlegend": false,
         "type": "box",
         "x": [
          1.6,
          1.6,
          1.6,
          1.6,
          1.6,
          1.6,
          1.6,
          1.6,
          1.6,
          1.6,
          1.6,
          1.6
         ],
         "xaxis": "x2",
         "y": {
          "bdata": "4rcqhtj/4j8jUVAqbDXiP6hn7elvguE/nt5pbTKT3z9PnzhslNvYP23cfZZErdg/3KSQCyuQ2D8gCIK42grWPz5iChhN/tI/h8ntkajUyT8RDee7IDmmP0hHR73953A/",
          "dtype": "f8"
         },
         "yaxis": "y2"
        },
        {
         "legendgroup": "rat2pig",
         "line": {
          "color": "#44AA99",
          "dash": "dot"
         },
         "mode": "lines",
         "name": "rat2pig",
         "showlegend": false,
         "text": "95 % CI mean: [0.33;0.38]",
         "type": "scatter",
         "x": [
          1.5,
          1.5
         ],
         "xaxis": "x2",
         "y": [
          0.3273237107155829,
          0.3810813009530896
         ],
         "yaxis": "y2"
        },
        {
         "legendgroup": "rat2pig",
         "line": {
          "color": "#44AA99"
         },
         "marker": {
          "size": 10,
          "symbol": "triangle-down-open"
         },
         "mode": "markers",
         "name": "rat2pig",
         "showlegend": false,
         "text": "95 % CI mean: [0.33;0.38]",
         "type": "scatter",
         "x": [
          1.5
         ],
         "xaxis": "x2",
         "y": [
          0.3273237107155829
         ],
         "yaxis": "y2"
        },
        {
         "legendgroup": "rat2pig",
         "line": {
          "color": "#44AA99"
         },
         "marker": {
          "size": 10,
          "symbol": "triangle-up-open"
         },
         "mode": "markers",
         "name": "rat2pig",
         "showlegend": false,
         "text": "95 % CI mean: [0.33;0.38]",
         "type": "scatter",
         "x": [
          1.5
         ],
         "xaxis": "x2",
         "y": [
          0.3810813009530896
         ],
         "yaxis": "y2"
        },
        {
         "legendgroup": "rat2pig",
         "line": {
          "color": "#44AA99",
          "dash": "solid"
         },
         "mode": "lines",
         "name": "rat2pig",
         "showlegend": false,
         "text": "95 % CI median: [0.33;0.42]",
         "type": "scatter",
         "x": [
          1.7,
          1.7
         ],
         "xaxis": "x2",
         "y": [
          0.334326696174056,
          0.4171381877678392
         ],
         "yaxis": "y2"
        },
        {
         "legendgroup": "rat2pig",
         "line": {
          "color": "#44AA99"
         },
         "marker": {
          "size": 10,
          "symbol": "triangle-down"
         },
         "mode": "markers",
         "name": "rat2pig",
         "showlegend": false,
         "text": "95 % CI median: [0.33;0.42]",
         "type": "scatter",
         "x": [
          1.7
         ],
         "xaxis": "x2",
         "y": [
          0.334326696174056
         ],
         "yaxis": "y2"
        },
        {
         "legendgroup": "rat2pig",
         "line": {
          "color": "#44AA99"
         },
         "marker": {
          "size": 10,
          "symbol": "triangle-up"
         },
         "mode": "markers",
         "name": "rat2pig",
         "showlegend": false,
         "text": "95 % CI median: [0.33;0.42]",
         "type": "scatter",
         "x": [
          1.7
         ],
         "xaxis": "x2",
         "y": [
          0.4171381877678392
         ],
         "yaxis": "y2"
        },
        {
         "legend": "legend",
         "legendgroup": "rat2human",
         "marker": {
          "color": "#DDCB76",
          "line": {
           "color": "black",
           "width": 1
          },
          "size": 9,
          "symbol": "star"
         },
         "mode": "markers",
         "name": "skin",
         "showlegend": false,
         "type": "scatter",
         "x": [
          2
         ],
         "xaxis": "x2",
         "y": [
          0.5900645879349824
         ],
         "yaxis": "y2"
        },
        {
         "legend": "legend",
         "legendgroup": "rat2human",
         "marker": {
          "color": "#DDCB76",
          "line": {
           "color": "black",
           "width": 1
          },
          "size": 9,
          "symbol": "diamond-tall"
         },
         "mode": "markers",
         "name": "background",
         "showlegend": false,
         "type": "scatter",
         "x": [
          2.0933333333333333
         ],
         "xaxis": "x2",
         "y": [
          0.5552570405448853
         ],
         "yaxis": "y2"
        },
        {
         "legend": "legend",
         "legendgroup": "rat2human",
         "marker": {
          "color": "#DDCB76",
          "line": {
           "color": "black",
           "width": 1
          },
          "size": 9,
          "symbol": "triangle-left"
         },
         "mode": "markers",
         "name": "omentum",
         "showlegend": false,
         "type": "scatter",
         "x": [
          2.1866666666666665
         ],
         "xaxis": "x2",
         "y": [
          0.4014500669349222
         ],
         "yaxis": "y2"
        },
        {
         "legend": "legend",
         "legendgroup": "rat2human",
         "marker": {
          "color": "#DDCB76",
          "line": {
           "color": "black",
           "width": 1
          },
          "size": 9,
          "symbol": "triangle-down"
         },
         "mode": "markers",
         "name": "spleen",
         "showlegend": false,
         "type": "scatter",
         "x": [
          2.2800000000000002
         ],
         "xaxis": "x2",
         "y": [
          0.31967023775602377
         ],
         "yaxis": "y2"
        },
        {
         "legend": "legend",
         "legendgroup": "rat2human",
         "marker": {
          "color": "#DDCB76",
          "line": {
           "color": "black",
           "width": 1
          },
          "size": 9,
          "symbol": "triangle-right"
         },
         "mode": "markers",
         "name": "lung",
         "showlegend": false,
         "type": "scatter",
         "x": [
          2
         ],
         "xaxis": "x2",
         "y": [
          0.2734103569222821
         ],
         "yaxis": "y2"
        },
        {
         "legend": "legend",
         "legendgroup": "rat2human",
         "marker": {
          "color": "#DDCB76",
          "line": {
           "color": "black",
           "width": 1
          },
          "size": 9,
          "symbol": "square"
         },
         "mode": "markers",
         "name": "small_bowel",
         "showlegend": false,
         "type": "scatter",
         "x": [
          2.0933333333333333
         ],
         "xaxis": "x2",
         "y": [
          0.2635508928622175
         ],
         "yaxis": "y2"
        },
        {
         "legend": "legend",
         "legendgroup": "rat2human",
         "marker": {
          "color": "#DDCB76",
          "line": {
           "color": "black",
           "width": 1
          },
          "size": 9,
          "symbol": "diamond-wide"
         },
         "mode": "markers",
         "name": "peritoneum",
         "showlegend": false,
         "type": "scatter",
         "x": [
          2.1866666666666665
         ],
         "xaxis": "x2",
         "y": [
          0.21178451636988743
         ],
         "yaxis": "y2"
        },
        {
         "legend": "legend",
         "legendgroup": "rat2human",
         "marker": {
          "color": "#DDCB76",
          "line": {
           "color": "black",
           "width": 1
          },
          "size": 9,
          "symbol": "cross"
         },
         "mode": "markers",
         "name": "liver",
         "showlegend": false,
         "type": "scatter",
         "x": [
          2.2800000000000002
         ],
         "xaxis": "x2",
         "y": [
          0.20639093345617981
         ],
         "yaxis": "y2"
        },
        {
         "legend": "legend",
         "legendgroup": "rat2human",
         "marker": {
          "color": "#DDCB76",
          "line": {
           "color": "black",
           "width": 1
          },
          "size": 9,
          "symbol": "x"
         },
         "mode": "markers",
         "name": "pancreas",
         "showlegend": false,
         "type": "scatter",
         "x": [
          2
         ],
         "xaxis": "x2",
         "y": [
          0.06917145865883907
         ],
         "yaxis": "y2"
        },
        {
         "legend": "legend",
         "legendgroup": "rat2human",
         "marker": {
          "color": "#DDCB76",
          "line": {
           "color": "black",
           "width": 1
          },
          "size": 9,
          "symbol": "circle"
         },
         "mode": "markers",
         "name": "stomach",
         "showlegend": false,
         "type": "scatter",
         "x": [
          2.0933333333333333
         ],
         "xaxis": "x2",
         "y": [
          0.035560873694270495
         ],
         "yaxis": "y2"
        },
        {
         "legend": "legend",
         "legendgroup": "rat2human",
         "marker": {
          "color": "#DDCB76",
          "line": {
           "color": "black",
           "width": 1
          },
          "size": 9,
          "symbol": "diamond"
         },
         "mode": "markers",
         "name": "colon",
         "showlegend": false,
         "type": "scatter",
         "x": [
          2.1866666666666665
         ],
         "xaxis": "x2",
         "y": [
          0.00847034951943369
         ],
         "yaxis": "y2"
        },
        {
         "legend": "legend",
         "legendgroup": "rat2human",
         "marker": {
          "color": "#DDCB76",
          "line": {
           "color": "black",
           "width": 1
          },
          "size": 9,
          "symbol": "triangle-up"
         },
         "mode": "markers",
         "name": "kidney",
         "showlegend": false,
         "type": "scatter",
         "x": [
          2.2800000000000002
         ],
         "xaxis": "x2",
         "y": [
          0.008070258985389956
         ],
         "yaxis": "y2"
        },
        {
         "boxmean": true,
         "boxpoints": false,
         "legend": "legend2",
         "legendgroup": "rat2human",
         "line": {
          "color": "#DDCB76"
         },
         "name": "rat2human",
         "showlegend": false,
         "type": "box",
         "x": [
          2.6,
          2.6,
          2.6,
          2.6,
          2.6,
          2.6,
          2.6,
          2.6,
          2.6,
          2.6,
          2.6,
          2.6
         ],
         "xaxis": "x2",
         "y": {
          "bdata": "wKt2Ic/h4j/scsBpqsThP6GZHZ9bsdk/qqoqKHp11D/gm1cnjn/RP1Ewa5AE3tA/zs3NScEbyz9iTrGiBGvKP9WewYA4tbE/vHIR6wg1oj+3jV8R51iBP83MTNMjh4A/",
          "dtype": "f8"
         },
         "yaxis": "y2"
        },
        {
         "legendgroup": "rat2human",
         "line": {
          "color": "#DDCB76",
          "dash": "dot"
         },
         "mode": "lines",
         "name": "rat2human",
         "showlegend": false,
         "text": "95 % CI mean: [0.23;0.26]",
         "type": "scatter",
         "x": [
          2.5,
          2.5
         ],
         "xaxis": "x2",
         "y": [
          0.2319245598152024,
          0.25866393316888786
         ],
         "yaxis": "y2"
        },
        {
         "legendgroup": "rat2human",
         "line": {
          "color": "#DDCB76"
         },
         "marker": {
          "size": 10,
          "symbol": "triangle-down-open"
         },
         "mode": "markers",
         "name": "rat2human",
         "showlegend": false,
         "text": "95 % CI mean: [0.23;0.26]",
         "type": "scatter",
         "x": [
          2.5
         ],
         "xaxis": "x2",
         "y": [
          0.2319245598152024
         ],
         "yaxis": "y2"
        },
        {
         "legendgroup": "rat2human",
         "line": {
          "color": "#DDCB76"
         },
         "marker": {
          "size": 10,
          "symbol": "triangle-up-open"
         },
         "mode": "markers",
         "name": "rat2human",
         "showlegend": false,
         "text": "95 % CI mean: [0.23;0.26]",
         "type": "scatter",
         "x": [
          2.5
         ],
         "xaxis": "x2",
         "y": [
          0.25866393316888786
         ],
         "yaxis": "y2"
        },
        {
         "legendgroup": "rat2human",
         "line": {
          "color": "#DDCB76",
          "dash": "solid"
         },
         "mode": "lines",
         "name": "rat2human",
         "showlegend": false,
         "text": "95 % CI median: [0.21;0.27]",
         "type": "scatter",
         "x": [
          2.7,
          2.7
         ],
         "xaxis": "x2",
         "y": [
          0.20692485158123486,
          0.26646681748267187
         ],
         "yaxis": "y2"
        },
        {
         "legendgroup": "rat2human",
         "line": {
          "color": "#DDCB76"
         },
         "marker": {
          "size": 10,
          "symbol": "triangle-down"
         },
         "mode": "markers",
         "name": "rat2human",
         "showlegend": false,
         "text": "95 % CI median: [0.21;0.27]",
         "type": "scatter",
         "x": [
          2.7
         ],
         "xaxis": "x2",
         "y": [
          0.20692485158123486
         ],
         "yaxis": "y2"
        },
        {
         "legendgroup": "rat2human",
         "line": {
          "color": "#DDCB76"
         },
         "marker": {
          "size": 10,
          "symbol": "triangle-up"
         },
         "mode": "markers",
         "name": "rat2human",
         "showlegend": false,
         "text": "95 % CI median: [0.21;0.27]",
         "type": "scatter",
         "x": [
          2.7
         ],
         "xaxis": "x2",
         "y": [
          0.26646681748267187
         ],
         "yaxis": "y2"
        },
        {
         "legend": "legend",
         "marker": {
          "color": "gray",
          "line": {
           "color": "black",
           "width": 1
          },
          "size": 9,
          "symbol": "circle"
         },
         "mode": "markers",
         "name": "stomach",
         "showlegend": false,
         "type": "scatter",
         "x": [
          null
         ],
         "xaxis": "x3",
         "y": [
          null
         ],
         "yaxis": "y3"
        },
        {
         "legend": "legend",
         "marker": {
          "color": "gray",
          "line": {
           "color": "black",
           "width": 1
          },
          "size": 9,
          "symbol": "square"
         },
         "mode": "markers",
         "name": "small_bowel",
         "showlegend": false,
         "type": "scatter",
         "x": [
          null
         ],
         "xaxis": "x3",
         "y": [
          null
         ],
         "yaxis": "y3"
        },
        {
         "legend": "legend",
         "marker": {
          "color": "gray",
          "line": {
           "color": "black",
           "width": 1
          },
          "size": 9,
          "symbol": "diamond"
         },
         "mode": "markers",
         "name": "colon",
         "showlegend": false,
         "type": "scatter",
         "x": [
          null
         ],
         "xaxis": "x3",
         "y": [
          null
         ],
         "yaxis": "y3"
        },
        {
         "legend": "legend",
         "marker": {
          "color": "gray",
          "line": {
           "color": "black",
           "width": 1
          },
          "size": 9,
          "symbol": "cross"
         },
         "mode": "markers",
         "name": "liver",
         "showlegend": false,
         "type": "scatter",
         "x": [
          null
         ],
         "xaxis": "x3",
         "y": [
          null
         ],
         "yaxis": "y3"
        },
        {
         "legend": "legend",
         "marker": {
          "color": "gray",
          "line": {
           "color": "black",
           "width": 1
          },
          "size": 9,
          "symbol": "x"
         },
         "mode": "markers",
         "name": "pancreas",
         "showlegend": false,
         "type": "scatter",
         "x": [
          null
         ],
         "xaxis": "x3",
         "y": [
          null
         ],
         "yaxis": "y3"
        },
        {
         "legend": "legend",
         "marker": {
          "color": "gray",
          "line": {
           "color": "black",
           "width": 1
          },
          "size": 9,
          "symbol": "triangle-up"
         },
         "mode": "markers",
         "name": "kidney",
         "showlegend": false,
         "type": "scatter",
         "x": [
          null
         ],
         "xaxis": "x3",
         "y": [
          null
         ],
         "yaxis": "y3"
        },
        {
         "legend": "legend",
         "marker": {
          "color": "gray",
          "line": {
           "color": "black",
           "width": 1
          },
          "size": 9,
          "symbol": "triangle-down"
         },
         "mode": "markers",
         "name": "spleen",
         "showlegend": false,
         "type": "scatter",
         "x": [
          null
         ],
         "xaxis": "x3",
         "y": [
          null
         ],
         "yaxis": "y3"
        },
        {
         "legend": "legend",
         "marker": {
          "color": "gray",
          "line": {
           "color": "black",
           "width": 1
          },
          "size": 9,
          "symbol": "triangle-left"
         },
         "mode": "markers",
         "name": "omentum",
         "showlegend": false,
         "type": "scatter",
         "x": [
          null
         ],
         "xaxis": "x3",
         "y": [
          null
         ],
         "yaxis": "y3"
        },
        {
         "legend": "legend",
         "marker": {
          "color": "gray",
          "line": {
           "color": "black",
           "width": 1
          },
          "size": 9,
          "symbol": "triangle-right"
         },
         "mode": "markers",
         "name": "lung",
         "showlegend": false,
         "type": "scatter",
         "x": [
          null
         ],
         "xaxis": "x3",
         "y": [
          null
         ],
         "yaxis": "y3"
        },
        {
         "legend": "legend",
         "marker": {
          "color": "gray",
          "line": {
           "color": "black",
           "width": 1
          },
          "size": 9,
          "symbol": "star"
         },
         "mode": "markers",
         "name": "skin",
         "showlegend": false,
         "type": "scatter",
         "x": [
          null
         ],
         "xaxis": "x3",
         "y": [
          null
         ],
         "yaxis": "y3"
        },
        {
         "legend": "legend",
         "marker": {
          "color": "gray",
          "line": {
           "color": "black",
           "width": 1
          },
          "size": 9,
          "symbol": "diamond-wide"
         },
         "mode": "markers",
         "name": "peritoneum",
         "showlegend": false,
         "type": "scatter",
         "x": [
          null
         ],
         "xaxis": "x3",
         "y": [
          null
         ],
         "yaxis": "y3"
        },
        {
         "legend": "legend",
         "marker": {
          "color": "gray",
          "line": {
           "color": "black",
           "width": 1
          },
          "size": 9,
          "symbol": "diamond-tall"
         },
         "mode": "markers",
         "name": "background",
         "showlegend": false,
         "type": "scatter",
         "x": [
          null
         ],
         "xaxis": "x3",
         "y": [
          null
         ],
         "yaxis": "y3"
        },
        {
         "legend": "legend",
         "legendgroup": "human2human",
         "marker": {
          "color": "#DDCB76",
          "line": {
           "color": "black",
           "width": 1
          },
          "size": 9,
          "symbol": "diamond-tall"
         },
         "mode": "markers",
         "name": "background",
         "showlegend": false,
         "type": "scatter",
         "x": [
          0
         ],
         "xaxis": "x3",
         "y": [
          0.9112859823045881
         ],
         "yaxis": "y3"
        },
        {
         "legend": "legend",
         "legendgroup": "human2human",
         "marker": {
          "color": "#DDCB76",
          "line": {
           "color": "black",
           "width": 1
          },
          "size": 9,
          "symbol": "star"
         },
         "mode": "markers",
         "name": "skin",
         "showlegend": false,
         "type": "scatter",
         "x": [
          0.09333333333333334
         ],
         "xaxis": "x3",
         "y": [
          0.829505754097626
         ],
         "yaxis": "y3"
        },
        {
         "legend": "legend",
         "legendgroup": "human2human",
         "marker": {
          "color": "#DDCB76",
          "line": {
           "color": "black",
           "width": 1
          },
          "size": 9,
          "symbol": "triangle-up"
         },
         "mode": "markers",
         "name": "kidney",
         "showlegend": false,
         "type": "scatter",
         "x": [
          0.18666666666666668
         ],
         "xaxis": "x3",
         "y": [
          0.8228463961819421
         ],
         "yaxis": "y3"
        },
        {
         "legend": "legend",
         "legendgroup": "human2human",
         "marker": {
          "color": "#DDCB76",
          "line": {
           "color": "black",
           "width": 1
          },
          "size": 9,
          "symbol": "triangle-left"
         },
         "mode": "markers",
         "name": "omentum",
         "showlegend": false,
         "type": "scatter",
         "x": [
          0.28
         ],
         "xaxis": "x3",
         "y": [
          0.7878670862176658
         ],
         "yaxis": "y3"
        },
        {
         "legend": "legend",
         "legendgroup": "human2human",
         "marker": {
          "color": "#DDCB76",
          "line": {
           "color": "black",
           "width": 1
          },
          "size": 9,
          "symbol": "triangle-right"
         },
         "mode": "markers",
         "name": "lung",
         "showlegend": false,
         "type": "scatter",
         "x": [
          0
         ],
         "xaxis": "x3",
         "y": [
          0.7217263008488549
         ],
         "yaxis": "y3"
        },
        {
         "legend": "legend",
         "legendgroup": "human2human",
         "marker": {
          "color": "#DDCB76",
          "line": {
           "color": "black",
           "width": 1
          },
          "size": 9,
          "symbol": "circle"
         },
         "mode": "markers",
         "name": "stomach",
         "showlegend": false,
         "type": "scatter",
         "x": [
          0.09333333333333334
         ],
         "xaxis": "x3",
         "y": [
          0.6835320053642087
         ],
         "yaxis": "y3"
        },
        {
         "legend": "legend",
         "legendgroup": "human2human",
         "marker": {
          "color": "#DDCB76",
          "line": {
           "color": "black",
           "width": 1
          },
          "size": 9,
          "symbol": "square"
         },
         "mode": "markers",
         "name": "small_bowel",
         "showlegend": false,
         "type": "scatter",
         "x": [
          0.18666666666666668
         ],
         "xaxis": "x3",
         "y": [
          0.6701935209314449
         ],
         "yaxis": "y3"
        },
        {
         "legend": "legend",
         "legendgroup": "human2human",
         "marker": {
          "color": "#DDCB76",
          "line": {
           "color": "black",
           "width": 1
          },
          "size": 9,
          "symbol": "diamond"
         },
         "mode": "markers",
         "name": "colon",
         "showlegend": false,
         "type": "scatter",
         "x": [
          0.28
         ],
         "xaxis": "x3",
         "y": [
          0.667581366116245
         ],
         "yaxis": "y3"
        },
        {
         "legend": "legend",
         "legendgroup": "human2human",
         "marker": {
          "color": "#DDCB76",
          "line": {
           "color": "black",
           "width": 1
          },
          "size": 9,
          "symbol": "cross"
         },
         "mode": "markers",
         "name": "liver",
         "showlegend": false,
         "type": "scatter",
         "x": [
          0
         ],
         "xaxis": "x3",
         "y": [
          0.649788762402672
         ],
         "yaxis": "y3"
        },
        {
         "legend": "legend",
         "legendgroup": "human2human",
         "marker": {
          "color": "#DDCB76",
          "line": {
           "color": "black",
           "width": 1
          },
          "size": 9,
          "symbol": "diamond-wide"
         },
         "mode": "markers",
         "name": "peritoneum",
         "showlegend": false,
         "type": "scatter",
         "x": [
          0.09333333333333334
         ],
         "xaxis": "x3",
         "y": [
          0.5752158881722489
         ],
         "yaxis": "y3"
        },
        {
         "legend": "legend",
         "legendgroup": "human2human",
         "marker": {
          "color": "#DDCB76",
          "line": {
           "color": "black",
           "width": 1
          },
          "size": 9,
          "symbol": "triangle-down"
         },
         "mode": "markers",
         "name": "spleen",
         "showlegend": false,
         "type": "scatter",
         "x": [
          0.18666666666666668
         ],
         "xaxis": "x3",
         "y": [
          0.5292904855062563
         ],
         "yaxis": "y3"
        },
        {
         "legend": "legend",
         "legendgroup": "human2human",
         "marker": {
          "color": "#DDCB76",
          "line": {
           "color": "black",
           "width": 1
          },
          "size": 9,
          "symbol": "x"
         },
         "mode": "markers",
         "name": "pancreas",
         "showlegend": false,
         "type": "scatter",
         "x": [
          0.28
         ],
         "xaxis": "x3",
         "y": [
          0.37731169027500244
         ],
         "yaxis": "y3"
        },
        {
         "boxmean": true,
         "boxpoints": false,
         "legend": "legend2",
         "legendgroup": "human2human",
         "line": {
          "color": "#DDCB76"
         },
         "name": "human2human",
         "showlegend": false,
         "type": "box",
         "x": [
          0.6,
          0.6,
          0.6,
          0.6,
          0.6,
          0.6,
          0.6,
          0.6,
          0.6,
          0.6,
          0.6,
          0.6
         ],
         "xaxis": "x3",
         "y": {
          "bdata": "Z6VpOEEp7T8NLramT4vqP+xzJ/fBVOo/PMocCTU26T9r4lnBYRjnP9TfGYN+3+U/YIjMrjly5T+/bNyY01zlP0N9es0Ry+Q/Ytx6Jito4j+qqqqZ8u/gP6RLiO7fJdg/",
          "dtype": "f8"
         },
         "yaxis": "y3"
        },
        {
         "legendgroup": "human2human",
         "line": {
          "color": "#DDCB76",
          "dash": "dot"
         },
         "mode": "lines",
         "name": "human2human",
         "showlegend": false,
         "text": "95 % CI mean: [0.66;0.71]",
         "type": "scatter",
         "x": [
          0.5,
          0.5
         ],
         "xaxis": "x3",
         "y": [
          0.6609889733181459,
          0.707612910609268
         ],
         "yaxis": "y3"
        },
        {
         "legendgroup": "human2human",
         "line": {
          "color": "#DDCB76"
         },
         "marker": {
          "size": 10,
          "symbol": "triangle-down-open"
         },
         "mode": "markers",
         "name": "human2human",
         "showlegend": false,
         "text": "95 % CI mean: [0.66;0.71]",
         "type": "scatter",
         "x": [
          0.5
         ],
         "xaxis": "x3",
         "y": [
          0.6609889733181459
         ],
         "yaxis": "y3"
        },
        {
         "legendgroup": "human2human",
         "line": {
          "color": "#DDCB76"
         },
         "marker": {
          "size": 10,
          "symbol": "triangle-up-open"
         },
         "mode": "markers",
         "name": "human2human",
         "showlegend": false,
         "text": "95 % CI mean: [0.66;0.71]",
         "type": "scatter",
         "x": [
          0.5
         ],
         "xaxis": "x3",
         "y": [
          0.707612910609268
         ],
         "yaxis": "y3"
        },
        {
         "legendgroup": "human2human",
         "line": {
          "color": "#DDCB76",
          "dash": "solid"
         },
         "mode": "lines",
         "name": "human2human",
         "showlegend": false,
         "text": "95 % CI median: [0.65;0.71]",
         "type": "scatter",
         "x": [
          0.7,
          0.7
         ],
         "xaxis": "x3",
         "y": [
          0.6540631209676793,
          0.7070246047854982
         ],
         "yaxis": "y3"
        },
        {
         "legendgroup": "human2human",
         "line": {
          "color": "#DDCB76"
         },
         "marker": {
          "size": 10,
          "symbol": "triangle-down"
         },
         "mode": "markers",
         "name": "human2human",
         "showlegend": false,
         "text": "95 % CI median: [0.65;0.71]",
         "type": "scatter",
         "x": [
          0.7
         ],
         "xaxis": "x3",
         "y": [
          0.6540631209676793
         ],
         "yaxis": "y3"
        },
        {
         "legendgroup": "human2human",
         "line": {
          "color": "#DDCB76"
         },
         "marker": {
          "size": 10,
          "symbol": "triangle-up"
         },
         "mode": "markers",
         "name": "human2human",
         "showlegend": false,
         "text": "95 % CI median: [0.65;0.71]",
         "type": "scatter",
         "x": [
          0.7
         ],
         "xaxis": "x3",
         "y": [
          0.7070246047854982
         ],
         "yaxis": "y3"
        },
        {
         "legend": "legend",
         "legendgroup": "pig-p+rat-p2human2human",
         "marker": {
          "color": "#DDCB76",
          "line": {
           "color": "black",
           "width": 1
          },
          "size": 9,
          "symbol": "diamond-tall"
         },
         "mode": "markers",
         "name": "background",
         "showlegend": false,
         "type": "scatter",
         "x": [
          1
         ],
         "xaxis": "x3",
         "y": [
          0.9052589365664354
         ],
         "yaxis": "y3"
        },
        {
         "legend": "legend",
         "legendgroup": "pig-p+rat-p2human2human",
         "marker": {
          "color": "#DDCB76",
          "line": {
           "color": "black",
           "width": 1
          },
          "size": 9,
          "symbol": "star"
         },
         "mode": "markers",
         "name": "skin",
         "showlegend": false,
         "type": "scatter",
         "x": [
          1.0933333333333333
         ],
         "xaxis": "x3",
         "y": [
          0.8436979546333312
         ],
         "yaxis": "y3"
        },
        {
         "legend": "legend",
         "legendgroup": "pig-p+rat-p2human2human",
         "marker": {
          "color": "#DDCB76",
          "line": {
           "color": "black",
           "width": 1
          },
          "size": 9,
          "symbol": "triangle-up"
         },
         "mode": "markers",
         "name": "kidney",
         "showlegend": false,
         "type": "scatter",
         "x": [
          1.1866666666666668
         ],
         "xaxis": "x3",
         "y": [
          0.8233003176119809
         ],
         "yaxis": "y3"
        },
        {
         "legend": "legend",
         "legendgroup": "pig-p+rat-p2human2human",
         "marker": {
          "color": "#DDCB76",
          "line": {
           "color": "black",
           "width": 1
          },
          "size": 9,
          "symbol": "triangle-left"
         },
         "mode": "markers",
         "name": "omentum",
         "showlegend": false,
         "type": "scatter",
         "x": [
          1.28
         ],
         "xaxis": "x3",
         "y": [
          0.7861065290403291
         ],
         "yaxis": "y3"
        },
        {
         "legend": "legend",
         "legendgroup": "pig-p+rat-p2human2human",
         "marker": {
          "color": "#DDCB76",
          "line": {
           "color": "black",
           "width": 1
          },
          "size": 9,
          "symbol": "triangle-right"
         },
         "mode": "markers",
         "name": "lung",
         "showlegend": false,
         "type": "scatter",
         "x": [
          1
         ],
         "xaxis": "x3",
         "y": [
          0.7458902781539493
         ],
         "yaxis": "y3"
        },
        {
         "legend": "legend",
         "legendgroup": "pig-p+rat-p2human2human",
         "marker": {
          "color": "#DDCB76",
          "line": {
           "color": "black",
           "width": 1
          },
          "size": 9,
          "symbol": "circle"
         },
         "mode": "markers",
         "name": "stomach",
         "showlegend": false,
         "type": "scatter",
         "x": [
          1.0933333333333333
         ],
         "xaxis": "x3",
         "y": [
          0.6733370478196581
         ],
         "yaxis": "y3"
        },
        {
         "legend": "legend",
         "legendgroup": "pig-p+rat-p2human2human",
         "marker": {
          "color": "#DDCB76",
          "line": {
           "color": "black",
           "width": 1
          },
          "size": 9,
          "symbol": "square"
         },
         "mode": "markers",
         "name": "small_bowel",
         "showlegend": false,
         "type": "scatter",
         "x": [
          1.1866666666666668
         ],
         "xaxis": "x3",
         "y": [
          0.6497456672256533
         ],
         "yaxis": "y3"
        },
        {
         "legend": "legend",
         "legendgroup": "pig-p+rat-p2human2human",
         "marker": {
          "color": "#DDCB76",
          "line": {
           "color": "black",
           "width": 1
          },
          "size": 9,
          "symbol": "diamond-wide"
         },
         "mode": "markers",
         "name": "peritoneum",
         "showlegend": false,
         "type": "scatter",
         "x": [
          1.28
         ],
         "xaxis": "x3",
         "y": [
          0.6446491405465244
         ],
         "yaxis": "y3"
        },
        {
         "legend": "legend",
         "legendgroup": "pig-p+rat-p2human2human",
         "marker": {
          "color": "#DDCB76",
          "line": {
           "color": "black",
           "width": 1
          },
          "size": 9,
          "symbol": "diamond"
         },
         "mode": "markers",
         "name": "colon",
         "showlegend": false,
         "type": "scatter",
         "x": [
          1
         ],
         "xaxis": "x3",
         "y": [
          0.6340137753958008
         ],
         "yaxis": "y3"
        },
        {
         "legend": "legend",
         "legendgroup": "pig-p+rat-p2human2human",
         "marker": {
          "color": "#DDCB76",
          "line": {
           "color": "black",
           "width": 1
          },
          "size": 9,
          "symbol": "cross"
         },
         "mode": "markers",
         "name": "liver",
         "showlegend": false,
         "type": "scatter",
         "x": [
          1.0933333333333333
         ],
         "xaxis": "x3",
         "y": [
          0.6222523063049297
         ],
         "yaxis": "y3"
        },
        {
         "legend": "legend",
         "legendgroup": "pig-p+rat-p2human2human",
         "marker": {
          "color": "#DDCB76",
          "line": {
           "color": "black",
           "width": 1
          },
          "size": 9,
          "symbol": "triangle-down"
         },
         "mode": "markers",
         "name": "spleen",
         "showlegend": false,
         "type": "scatter",
         "x": [
          1.1866666666666668
         ],
         "xaxis": "x3",
         "y": [
          0.5245673508383333
         ],
         "yaxis": "y3"
        },
        {
         "legend": "legend",
         "legendgroup": "pig-p+rat-p2human2human",
         "marker": {
          "color": "#DDCB76",
          "line": {
           "color": "black",
           "width": 1
          },
          "size": 9,
          "symbol": "x"
         },
         "mode": "markers",
         "name": "pancreas",
         "showlegend": false,
         "type": "scatter",
         "x": [
          1.28
         ],
         "xaxis": "x3",
         "y": [
          0.409981207636106
         ],
         "yaxis": "y3"
        },
        {
         "boxmean": true,
         "boxpoints": false,
         "legend": "legend2",
         "legendgroup": "pig-p+rat-p2human2human",
         "line": {
          "color": "#DDCB76"
         },
         "name": "pig-p+rat-p2human2human",
         "showlegend": false,
         "type": "box",
         "x": [
          1.6,
          1.6,
          1.6,
          1.6,
          1.6,
          1.6,
          1.6,
          1.6,
          1.6,
          1.6,
          1.6,
          1.6
         ],
         "xaxis": "x3",
         "y": {
          "bdata": "1N3eluH37D+gRVvakv/qP4DBXeh5WOo/KM8s4cgn6T/zauJJVd7nP4RC8iL6i+U/zXXubLfK5D+sVgE896DkPwQ70UHXSeQ/ghYuq33p4z/MzAx4QcngP+RisdEhPdo/",
          "dtype": "f8"
         },
         "yaxis": "y3"
        },
        {
         "legendgroup": "pig-p+rat-p2human2human",
         "line": {
          "color": "#DDCB76",
          "dash": "dot"
         },
         "mode": "lines",
         "name": "pig-p+rat-p2human2human",
         "showlegend": false,
         "text": "95 % CI mean: [0.67;0.71]",
         "type": "scatter",
         "x": [
          1.5,
          1.5
         ],
         "xaxis": "x3",
         "y": [
          0.6658682175964472,
          0.7079881626226866
         ],
         "yaxis": "y3"
        },
        {
         "legendgroup": "pig-p+rat-p2human2human",
         "line": {
          "color": "#DDCB76"
         },
         "marker": {
          "size": 10,
          "symbol": "triangle-down-open"
         },
         "mode": "markers",
         "name": "pig-p+rat-p2human2human",
         "showlegend": false,
         "text": "95 % CI mean: [0.67;0.71]",
         "type": "scatter",
         "x": [
          1.5
         ],
         "xaxis": "x3",
         "y": [
          0.6658682175964472
         ],
         "yaxis": "y3"
        },
        {
         "legendgroup": "pig-p+rat-p2human2human",
         "line": {
          "color": "#DDCB76"
         },
         "marker": {
          "size": 10,
          "symbol": "triangle-up-open"
         },
         "mode": "markers",
         "name": "pig-p+rat-p2human2human",
         "showlegend": false,
         "text": "95 % CI mean: [0.67;0.71]",
         "type": "scatter",
         "x": [
          1.5
         ],
         "xaxis": "x3",
         "y": [
          0.7079881626226866
         ],
         "yaxis": "y3"
        },
        {
         "legendgroup": "pig-p+rat-p2human2human",
         "line": {
          "color": "#DDCB76",
          "dash": "solid"
         },
         "mode": "lines",
         "name": "pig-p+rat-p2human2human",
         "showlegend": false,
         "text": "95 % CI median: [0.64;0.71]",
         "type": "scatter",
         "x": [
          1.7,
          1.7
         ],
         "xaxis": "x3",
         "y": [
          0.6407730355945848,
          0.7081046613650955
         ],
         "yaxis": "y3"
        },
        {
         "legendgroup": "pig-p+rat-p2human2human",
         "line": {
          "color": "#DDCB76"
         },
         "marker": {
          "size": 10,
          "symbol": "triangle-down"
         },
         "mode": "markers",
         "name": "pig-p+rat-p2human2human",
         "showlegend": false,
         "text": "95 % CI median: [0.64;0.71]",
         "type": "scatter",
         "x": [
          1.7
         ],
         "xaxis": "x3",
         "y": [
          0.6407730355945848
         ],
         "yaxis": "y3"
        },
        {
         "legendgroup": "pig-p+rat-p2human2human",
         "line": {
          "color": "#DDCB76"
         },
         "marker": {
          "size": 10,
          "symbol": "triangle-up"
         },
         "mode": "markers",
         "name": "pig-p+rat-p2human2human",
         "showlegend": false,
         "text": "95 % CI median: [0.64;0.71]",
         "type": "scatter",
         "x": [
          1.7
         ],
         "xaxis": "x3",
         "y": [
          0.7081046613650955
         ],
         "yaxis": "y3"
        }
       ],
       "layout": {
        "font": {
         "family": "Libertinus Sans",
         "size": 16
        },
        "height": 400,
        "legend": {
         "orientation": "h",
         "title": {},
         "x": 0.2,
         "xanchor": "center",
         "y": 1.05,
         "yanchor": "bottom"
        },
        "legend2": {
         "orientation": "h",
         "title": {},
         "x": 0.8,
         "xanchor": "center",
         "y": 1.05,
         "yanchor": "bottom"
        },
        "margin": {
         "b": 0,
         "l": 0,
         "r": 0,
         "t": 0
        },
        "showlegend": false,
        "template": {
         "data": {
          "bar": [
           {
            "error_x": {
             "color": "#2a3f5f"
            },
            "error_y": {
             "color": "#2a3f5f"
            },
            "marker": {
             "line": {
              "color": "white",
              "width": 0.5
             },
             "pattern": {
              "fillmode": "overlay",
              "size": 10,
              "solidity": 0.2
             }
            },
            "type": "bar"
           }
          ],
          "barpolar": [
           {
            "marker": {
             "line": {
              "color": "white",
              "width": 0.5
             },
             "pattern": {
              "fillmode": "overlay",
              "size": 10,
              "solidity": 0.2
             }
            },
            "type": "barpolar"
           }
          ],
          "carpet": [
           {
            "aaxis": {
             "endlinecolor": "#2a3f5f",
             "gridcolor": "#C8D4E3",
             "linecolor": "#C8D4E3",
             "minorgridcolor": "#C8D4E3",
             "startlinecolor": "#2a3f5f"
            },
            "baxis": {
             "endlinecolor": "#2a3f5f",
             "gridcolor": "#C8D4E3",
             "linecolor": "#C8D4E3",
             "minorgridcolor": "#C8D4E3",
             "startlinecolor": "#2a3f5f"
            },
            "type": "carpet"
           }
          ],
          "choropleth": [
           {
            "colorbar": {
             "outlinewidth": 0,
             "ticks": ""
            },
            "type": "choropleth"
           }
          ],
          "contour": [
           {
            "colorbar": {
             "outlinewidth": 0,
             "ticks": ""
            },
            "colorscale": [
             [
              0,
              "#0d0887"
             ],
             [
              0.1111111111111111,
              "#46039f"
             ],
             [
              0.2222222222222222,
              "#7201a8"
             ],
             [
              0.3333333333333333,
              "#9c179e"
             ],
             [
              0.4444444444444444,
              "#bd3786"
             ],
             [
              0.5555555555555556,
              "#d8576b"
             ],
             [
              0.6666666666666666,
              "#ed7953"
             ],
             [
              0.7777777777777778,
              "#fb9f3a"
             ],
             [
              0.8888888888888888,
              "#fdca26"
             ],
             [
              1,
              "#f0f921"
             ]
            ],
            "type": "contour"
           }
          ],
          "contourcarpet": [
           {
            "colorbar": {
             "outlinewidth": 0,
             "ticks": ""
            },
            "type": "contourcarpet"
           }
          ],
          "heatmap": [
           {
            "colorbar": {
             "outlinewidth": 0,
             "ticks": ""
            },
            "colorscale": [
             [
              0,
              "#0d0887"
             ],
             [
              0.1111111111111111,
              "#46039f"
             ],
             [
              0.2222222222222222,
              "#7201a8"
             ],
             [
              0.3333333333333333,
              "#9c179e"
             ],
             [
              0.4444444444444444,
              "#bd3786"
             ],
             [
              0.5555555555555556,
              "#d8576b"
             ],
             [
              0.6666666666666666,
              "#ed7953"
             ],
             [
              0.7777777777777778,
              "#fb9f3a"
             ],
             [
              0.8888888888888888,
              "#fdca26"
             ],
             [
              1,
              "#f0f921"
             ]
            ],
            "type": "heatmap"
           }
          ],
          "histogram": [
           {
            "marker": {
             "pattern": {
              "fillmode": "overlay",
              "size": 10,
              "solidity": 0.2
             }
            },
            "type": "histogram"
           }
          ],
          "histogram2d": [
           {
            "colorbar": {
             "outlinewidth": 0,
             "ticks": ""
            },
            "colorscale": [
             [
              0,
              "#0d0887"
             ],
             [
              0.1111111111111111,
              "#46039f"
             ],
             [
              0.2222222222222222,
              "#7201a8"
             ],
             [
              0.3333333333333333,
              "#9c179e"
             ],
             [
              0.4444444444444444,
              "#bd3786"
             ],
             [
              0.5555555555555556,
              "#d8576b"
             ],
             [
              0.6666666666666666,
              "#ed7953"
             ],
             [
              0.7777777777777778,
              "#fb9f3a"
             ],
             [
              0.8888888888888888,
              "#fdca26"
             ],
             [
              1,
              "#f0f921"
             ]
            ],
            "type": "histogram2d"
           }
          ],
          "histogram2dcontour": [
           {
            "colorbar": {
             "outlinewidth": 0,
             "ticks": ""
            },
            "colorscale": [
             [
              0,
              "#0d0887"
             ],
             [
              0.1111111111111111,
              "#46039f"
             ],
             [
              0.2222222222222222,
              "#7201a8"
             ],
             [
              0.3333333333333333,
              "#9c179e"
             ],
             [
              0.4444444444444444,
              "#bd3786"
             ],
             [
              0.5555555555555556,
              "#d8576b"
             ],
             [
              0.6666666666666666,
              "#ed7953"
             ],
             [
              0.7777777777777778,
              "#fb9f3a"
             ],
             [
              0.8888888888888888,
              "#fdca26"
             ],
             [
              1,
              "#f0f921"
             ]
            ],
            "type": "histogram2dcontour"
           }
          ],
          "mesh3d": [
           {
            "colorbar": {
             "outlinewidth": 0,
             "ticks": ""
            },
            "type": "mesh3d"
           }
          ],
          "parcoords": [
           {
            "line": {
             "colorbar": {
              "outlinewidth": 0,
              "ticks": ""
             }
            },
            "type": "parcoords"
           }
          ],
          "pie": [
           {
            "automargin": true,
            "type": "pie"
           }
          ],
          "scatter": [
           {
            "fillpattern": {
             "fillmode": "overlay",
             "size": 10,
             "solidity": 0.2
            },
            "type": "scatter"
           }
          ],
          "scatter3d": [
           {
            "line": {
             "colorbar": {
              "outlinewidth": 0,
              "ticks": ""
             }
            },
            "marker": {
             "colorbar": {
              "outlinewidth": 0,
              "ticks": ""
             }
            },
            "type": "scatter3d"
           }
          ],
          "scattercarpet": [
           {
            "marker": {
             "colorbar": {
              "outlinewidth": 0,
              "ticks": ""
             }
            },
            "type": "scattercarpet"
           }
          ],
          "scattergeo": [
           {
            "marker": {
             "colorbar": {
              "outlinewidth": 0,
              "ticks": ""
             }
            },
            "type": "scattergeo"
           }
          ],
          "scattergl": [
           {
            "marker": {
             "colorbar": {
              "outlinewidth": 0,
              "ticks": ""
             }
            },
            "type": "scattergl"
           }
          ],
          "scattermap": [
           {
            "marker": {
             "colorbar": {
              "outlinewidth": 0,
              "ticks": ""
             }
            },
            "type": "scattermap"
           }
          ],
          "scattermapbox": [
           {
            "marker": {
             "colorbar": {
              "outlinewidth": 0,
              "ticks": ""
             }
            },
            "type": "scattermapbox"
           }
          ],
          "scatterpolar": [
           {
            "marker": {
             "colorbar": {
              "outlinewidth": 0,
              "ticks": ""
             }
            },
            "type": "scatterpolar"
           }
          ],
          "scatterpolargl": [
           {
            "marker": {
             "colorbar": {
              "outlinewidth": 0,
              "ticks": ""
             }
            },
            "type": "scatterpolargl"
           }
          ],
          "scatterternary": [
           {
            "marker": {
             "colorbar": {
              "outlinewidth": 0,
              "ticks": ""
             }
            },
            "type": "scatterternary"
           }
          ],
          "surface": [
           {
            "colorbar": {
             "outlinewidth": 0,
             "ticks": ""
            },
            "colorscale": [
             [
              0,
              "#0d0887"
             ],
             [
              0.1111111111111111,
              "#46039f"
             ],
             [
              0.2222222222222222,
              "#7201a8"
             ],
             [
              0.3333333333333333,
              "#9c179e"
             ],
             [
              0.4444444444444444,
              "#bd3786"
             ],
             [
              0.5555555555555556,
              "#d8576b"
             ],
             [
              0.6666666666666666,
              "#ed7953"
             ],
             [
              0.7777777777777778,
              "#fb9f3a"
             ],
             [
              0.8888888888888888,
              "#fdca26"
             ],
             [
              1,
              "#f0f921"
             ]
            ],
            "type": "surface"
           }
          ],
          "table": [
           {
            "cells": {
             "fill": {
              "color": "#EBF0F8"
             },
             "line": {
              "color": "white"
             }
            },
            "header": {
             "fill": {
              "color": "#C8D4E3"
             },
             "line": {
              "color": "white"
             }
            },
            "type": "table"
           }
          ]
         },
         "layout": {
          "annotationdefaults": {
           "arrowcolor": "#2a3f5f",
           "arrowhead": 0,
           "arrowwidth": 1
          },
          "autotypenumbers": "strict",
          "coloraxis": {
           "colorbar": {
            "outlinewidth": 0,
            "ticks": ""
           }
          },
          "colorscale": {
           "diverging": [
            [
             0,
             "#8e0152"
            ],
            [
             0.1,
             "#c51b7d"
            ],
            [
             0.2,
             "#de77ae"
            ],
            [
             0.3,
             "#f1b6da"
            ],
            [
             0.4,
             "#fde0ef"
            ],
            [
             0.5,
             "#f7f7f7"
            ],
            [
             0.6,
             "#e6f5d0"
            ],
            [
             0.7,
             "#b8e186"
            ],
            [
             0.8,
             "#7fbc41"
            ],
            [
             0.9,
             "#4d9221"
            ],
            [
             1,
             "#276419"
            ]
           ],
           "sequential": [
            [
             0,
             "#0d0887"
            ],
            [
             0.1111111111111111,
             "#46039f"
            ],
            [
             0.2222222222222222,
             "#7201a8"
            ],
            [
             0.3333333333333333,
             "#9c179e"
            ],
            [
             0.4444444444444444,
             "#bd3786"
            ],
            [
             0.5555555555555556,
             "#d8576b"
            ],
            [
             0.6666666666666666,
             "#ed7953"
            ],
            [
             0.7777777777777778,
             "#fb9f3a"
            ],
            [
             0.8888888888888888,
             "#fdca26"
            ],
            [
             1,
             "#f0f921"
            ]
           ],
           "sequentialminus": [
            [
             0,
             "#0d0887"
            ],
            [
             0.1111111111111111,
             "#46039f"
            ],
            [
             0.2222222222222222,
             "#7201a8"
            ],
            [
             0.3333333333333333,
             "#9c179e"
            ],
            [
             0.4444444444444444,
             "#bd3786"
            ],
            [
             0.5555555555555556,
             "#d8576b"
            ],
            [
             0.6666666666666666,
             "#ed7953"
            ],
            [
             0.7777777777777778,
             "#fb9f3a"
            ],
            [
             0.8888888888888888,
             "#fdca26"
            ],
            [
             1,
             "#f0f921"
            ]
           ]
          },
          "colorway": [
           "#636efa",
           "#EF553B",
           "#00cc96",
           "#ab63fa",
           "#FFA15A",
           "#19d3f3",
           "#FF6692",
           "#B6E880",
           "#FF97FF",
           "#FECB52"
          ],
          "font": {
           "color": "#2a3f5f"
          },
          "geo": {
           "bgcolor": "white",
           "lakecolor": "white",
           "landcolor": "white",
           "showlakes": true,
           "showland": true,
           "subunitcolor": "#C8D4E3"
          },
          "hoverlabel": {
           "align": "left"
          },
          "hovermode": "closest",
          "mapbox": {
           "style": "light"
          },
          "paper_bgcolor": "white",
          "plot_bgcolor": "white",
          "polar": {
           "angularaxis": {
            "gridcolor": "#EBF0F8",
            "linecolor": "#EBF0F8",
            "ticks": ""
           },
           "bgcolor": "white",
           "radialaxis": {
            "gridcolor": "#EBF0F8",
            "linecolor": "#EBF0F8",
            "ticks": ""
           }
          },
          "scene": {
           "xaxis": {
            "backgroundcolor": "white",
            "gridcolor": "#DFE8F3",
            "gridwidth": 2,
            "linecolor": "#EBF0F8",
            "showbackground": true,
            "ticks": "",
            "zerolinecolor": "#EBF0F8"
           },
           "yaxis": {
            "backgroundcolor": "white",
            "gridcolor": "#DFE8F3",
            "gridwidth": 2,
            "linecolor": "#EBF0F8",
            "showbackground": true,
            "ticks": "",
            "zerolinecolor": "#EBF0F8"
           },
           "zaxis": {
            "backgroundcolor": "white",
            "gridcolor": "#DFE8F3",
            "gridwidth": 2,
            "linecolor": "#EBF0F8",
            "showbackground": true,
            "ticks": "",
            "zerolinecolor": "#EBF0F8"
           }
          },
          "shapedefaults": {
           "line": {
            "color": "#2a3f5f"
           }
          },
          "ternary": {
           "aaxis": {
            "gridcolor": "#DFE8F3",
            "linecolor": "#A2B1C6",
            "ticks": ""
           },
           "baxis": {
            "gridcolor": "#DFE8F3",
            "linecolor": "#A2B1C6",
            "ticks": ""
           },
           "bgcolor": "white",
           "caxis": {
            "gridcolor": "#DFE8F3",
            "linecolor": "#A2B1C6",
            "ticks": ""
           }
          },
          "title": {
           "x": 0.05
          },
          "xaxis": {
           "automargin": true,
           "gridcolor": "#EBF0F8",
           "linecolor": "#EBF0F8",
           "ticks": "",
           "title": {
            "standoff": 15
           },
           "zerolinecolor": "#EBF0F8",
           "zerolinewidth": 2
          },
          "yaxis": {
           "automargin": true,
           "gridcolor": "#EBF0F8",
           "linecolor": "#EBF0F8",
           "ticks": "",
           "title": {
            "standoff": 15
           },
           "zerolinecolor": "#EBF0F8",
           "zerolinewidth": 2
          }
         }
        },
        "width": 1200,
        "xaxis": {
         "anchor": "y",
         "domain": [
          0,
          0.3525
         ],
         "showticklabels": false
        },
        "xaxis2": {
         "anchor": "y2",
         "domain": [
          0.38249999999999995,
          0.7349999999999999
         ],
         "showticklabels": false
        },
        "xaxis3": {
         "anchor": "y3",
         "domain": [
          0.7649999999999999,
          0.9999999999999999
         ],
         "showticklabels": false
        },
        "yaxis": {
         "anchor": "x",
         "domain": [
          0,
          1
         ],
         "title": {
          "standoff": 12,
          "text": "<b>NSD</b>"
         },
         "zeroline": false
        },
        "yaxis2": {
         "anchor": "x2",
         "domain": [
          0,
          1
         ],
         "matches": "y",
         "showticklabels": false,
         "zeroline": false
        },
        "yaxis3": {
         "anchor": "x3",
         "domain": [
          0,
          1
         ],
         "matches": "y",
         "showticklabels": false,
         "zeroline": false
        }
       }
      },
      "text/html": [
       "<div>            <script src=\"https://cdnjs.cloudflare.com/ajax/libs/mathjax/2.7.5/MathJax.js?config=TeX-AMS-MML_SVG\"></script><script type=\"text/javascript\">if (window.MathJax && window.MathJax.Hub && window.MathJax.Hub.Config) {window.MathJax.Hub.Config({SVG: {font: \"STIX-Web\"}});}</script>                <script type=\"text/javascript\">window.PlotlyConfig = {MathJaxConfig: 'local'};</script>\n",
       "        <script charset=\"utf-8\" src=\"https://cdn.plot.ly/plotly-3.0.1.min.js\"></script>                <div id=\"3906a7c8-603d-41d4-89e7-a54d87bdc1f7\" class=\"plotly-graph-div\" style=\"height:400px; width:1200px;\"></div>            <script type=\"text/javascript\">                window.PLOTLYENV=window.PLOTLYENV || {};                                if (document.getElementById(\"3906a7c8-603d-41d4-89e7-a54d87bdc1f7\")) {                    Plotly.newPlot(                        \"3906a7c8-603d-41d4-89e7-a54d87bdc1f7\",                        [{\"legend\":\"legend\",\"marker\":{\"color\":\"gray\",\"line\":{\"color\":\"black\",\"width\":1},\"size\":9,\"symbol\":\"circle\"},\"mode\":\"markers\",\"name\":\"stomach\",\"showlegend\":true,\"x\":[null],\"y\":[null],\"type\":\"scatter\",\"xaxis\":\"x\",\"yaxis\":\"y\"},{\"legend\":\"legend\",\"marker\":{\"color\":\"gray\",\"line\":{\"color\":\"black\",\"width\":1},\"size\":9,\"symbol\":\"square\"},\"mode\":\"markers\",\"name\":\"small_bowel\",\"showlegend\":true,\"x\":[null],\"y\":[null],\"type\":\"scatter\",\"xaxis\":\"x\",\"yaxis\":\"y\"},{\"legend\":\"legend\",\"marker\":{\"color\":\"gray\",\"line\":{\"color\":\"black\",\"width\":1},\"size\":9,\"symbol\":\"diamond\"},\"mode\":\"markers\",\"name\":\"colon\",\"showlegend\":true,\"x\":[null],\"y\":[null],\"type\":\"scatter\",\"xaxis\":\"x\",\"yaxis\":\"y\"},{\"legend\":\"legend\",\"marker\":{\"color\":\"gray\",\"line\":{\"color\":\"black\",\"width\":1},\"size\":9,\"symbol\":\"cross\"},\"mode\":\"markers\",\"name\":\"liver\",\"showlegend\":true,\"x\":[null],\"y\":[null],\"type\":\"scatter\",\"xaxis\":\"x\",\"yaxis\":\"y\"},{\"legend\":\"legend\",\"marker\":{\"color\":\"gray\",\"line\":{\"color\":\"black\",\"width\":1},\"size\":9,\"symbol\":\"x\"},\"mode\":\"markers\",\"name\":\"pancreas\",\"showlegend\":true,\"x\":[null],\"y\":[null],\"type\":\"scatter\",\"xaxis\":\"x\",\"yaxis\":\"y\"},{\"legend\":\"legend\",\"marker\":{\"color\":\"gray\",\"line\":{\"color\":\"black\",\"width\":1},\"size\":9,\"symbol\":\"triangle-up\"},\"mode\":\"markers\",\"name\":\"kidney\",\"showlegend\":true,\"x\":[null],\"y\":[null],\"type\":\"scatter\",\"xaxis\":\"x\",\"yaxis\":\"y\"},{\"legend\":\"legend\",\"marker\":{\"color\":\"gray\",\"line\":{\"color\":\"black\",\"width\":1},\"size\":9,\"symbol\":\"triangle-down\"},\"mode\":\"markers\",\"name\":\"spleen\",\"showlegend\":true,\"x\":[null],\"y\":[null],\"type\":\"scatter\",\"xaxis\":\"x\",\"yaxis\":\"y\"},{\"legend\":\"legend\",\"marker\":{\"color\":\"gray\",\"line\":{\"color\":\"black\",\"width\":1},\"size\":9,\"symbol\":\"triangle-left\"},\"mode\":\"markers\",\"name\":\"omentum\",\"showlegend\":true,\"x\":[null],\"y\":[null],\"type\":\"scatter\",\"xaxis\":\"x\",\"yaxis\":\"y\"},{\"legend\":\"legend\",\"marker\":{\"color\":\"gray\",\"line\":{\"color\":\"black\",\"width\":1},\"size\":9,\"symbol\":\"triangle-right\"},\"mode\":\"markers\",\"name\":\"lung\",\"showlegend\":true,\"x\":[null],\"y\":[null],\"type\":\"scatter\",\"xaxis\":\"x\",\"yaxis\":\"y\"},{\"legend\":\"legend\",\"marker\":{\"color\":\"gray\",\"line\":{\"color\":\"black\",\"width\":1},\"size\":9,\"symbol\":\"star\"},\"mode\":\"markers\",\"name\":\"skin\",\"showlegend\":true,\"x\":[null],\"y\":[null],\"type\":\"scatter\",\"xaxis\":\"x\",\"yaxis\":\"y\"},{\"legend\":\"legend\",\"marker\":{\"color\":\"gray\",\"line\":{\"color\":\"black\",\"width\":1},\"size\":9,\"symbol\":\"diamond-wide\"},\"mode\":\"markers\",\"name\":\"peritoneum\",\"showlegend\":true,\"x\":[null],\"y\":[null],\"type\":\"scatter\",\"xaxis\":\"x\",\"yaxis\":\"y\"},{\"legend\":\"legend\",\"marker\":{\"color\":\"gray\",\"line\":{\"color\":\"black\",\"width\":1},\"size\":9,\"symbol\":\"diamond-tall\"},\"mode\":\"markers\",\"name\":\"background\",\"showlegend\":true,\"x\":[null],\"y\":[null],\"type\":\"scatter\",\"xaxis\":\"x\",\"yaxis\":\"y\"},{\"legend\":\"legend\",\"legendgroup\":\"pig2pig\",\"marker\":{\"color\":\"#44AA99\",\"line\":{\"color\":\"black\",\"width\":1},\"size\":9,\"symbol\":\"triangle-right\"},\"mode\":\"markers\",\"name\":\"lung\",\"showlegend\":false,\"x\":[0.0],\"y\":[0.9620525942835616],\"type\":\"scatter\",\"xaxis\":\"x\",\"yaxis\":\"y\"},{\"legend\":\"legend\",\"legendgroup\":\"pig2pig\",\"marker\":{\"color\":\"#44AA99\",\"line\":{\"color\":\"black\",\"width\":1},\"size\":9,\"symbol\":\"star\"},\"mode\":\"markers\",\"name\":\"skin\",\"showlegend\":false,\"x\":[0.09333333333333334],\"y\":[0.953202265908213],\"type\":\"scatter\",\"xaxis\":\"x\",\"yaxis\":\"y\"},{\"legend\":\"legend\",\"legendgroup\":\"pig2pig\",\"marker\":{\"color\":\"#44AA99\",\"line\":{\"color\":\"black\",\"width\":1},\"size\":9,\"symbol\":\"diamond-tall\"},\"mode\":\"markers\",\"name\":\"background\",\"showlegend\":false,\"x\":[0.18666666666666668],\"y\":[0.9481848069960334],\"type\":\"scatter\",\"xaxis\":\"x\",\"yaxis\":\"y\"},{\"legend\":\"legend\",\"legendgroup\":\"pig2pig\",\"marker\":{\"color\":\"#44AA99\",\"line\":{\"color\":\"black\",\"width\":1},\"size\":9,\"symbol\":\"diamond\"},\"mode\":\"markers\",\"name\":\"colon\",\"showlegend\":false,\"x\":[0.28],\"y\":[0.9362653715273854],\"type\":\"scatter\",\"xaxis\":\"x\",\"yaxis\":\"y\"},{\"legend\":\"legend\",\"legendgroup\":\"pig2pig\",\"marker\":{\"color\":\"#44AA99\",\"line\":{\"color\":\"black\",\"width\":1},\"size\":9,\"symbol\":\"diamond-wide\"},\"mode\":\"markers\",\"name\":\"peritoneum\",\"showlegend\":false,\"x\":[0.0],\"y\":[0.8933161660463673],\"type\":\"scatter\",\"xaxis\":\"x\",\"yaxis\":\"y\"},{\"legend\":\"legend\",\"legendgroup\":\"pig2pig\",\"marker\":{\"color\":\"#44AA99\",\"line\":{\"color\":\"black\",\"width\":1},\"size\":9,\"symbol\":\"x\"},\"mode\":\"markers\",\"name\":\"pancreas\",\"showlegend\":false,\"x\":[0.09333333333333334],\"y\":[0.848190675065631],\"type\":\"scatter\",\"xaxis\":\"x\",\"yaxis\":\"y\"},{\"legend\":\"legend\",\"legendgroup\":\"pig2pig\",\"marker\":{\"color\":\"#44AA99\",\"line\":{\"color\":\"black\",\"width\":1},\"size\":9,\"symbol\":\"square\"},\"mode\":\"markers\",\"name\":\"small_bowel\",\"showlegend\":false,\"x\":[0.18666666666666668],\"y\":[0.8307946216353017],\"type\":\"scatter\",\"xaxis\":\"x\",\"yaxis\":\"y\"},{\"legend\":\"legend\",\"legendgroup\":\"pig2pig\",\"marker\":{\"color\":\"#44AA99\",\"line\":{\"color\":\"black\",\"width\":1},\"size\":9,\"symbol\":\"circle\"},\"mode\":\"markers\",\"name\":\"stomach\",\"showlegend\":false,\"x\":[0.28],\"y\":[0.8020519800086635],\"type\":\"scatter\",\"xaxis\":\"x\",\"yaxis\":\"y\"},{\"legend\":\"legend\",\"legendgroup\":\"pig2pig\",\"marker\":{\"color\":\"#44AA99\",\"line\":{\"color\":\"black\",\"width\":1},\"size\":9,\"symbol\":\"triangle-down\"},\"mode\":\"markers\",\"name\":\"spleen\",\"showlegend\":false,\"x\":[0.0],\"y\":[0.79012117679157],\"type\":\"scatter\",\"xaxis\":\"x\",\"yaxis\":\"y\"},{\"legend\":\"legend\",\"legendgroup\":\"pig2pig\",\"marker\":{\"color\":\"#44AA99\",\"line\":{\"color\":\"black\",\"width\":1},\"size\":9,\"symbol\":\"triangle-up\"},\"mode\":\"markers\",\"name\":\"kidney\",\"showlegend\":false,\"x\":[0.09333333333333334],\"y\":[0.7349971889670378],\"type\":\"scatter\",\"xaxis\":\"x\",\"yaxis\":\"y\"},{\"legend\":\"legend\",\"legendgroup\":\"pig2pig\",\"marker\":{\"color\":\"#44AA99\",\"line\":{\"color\":\"black\",\"width\":1},\"size\":9,\"symbol\":\"cross\"},\"mode\":\"markers\",\"name\":\"liver\",\"showlegend\":false,\"x\":[0.18666666666666668],\"y\":[0.7325153681612633],\"type\":\"scatter\",\"xaxis\":\"x\",\"yaxis\":\"y\"},{\"legend\":\"legend\",\"legendgroup\":\"pig2pig\",\"marker\":{\"color\":\"#44AA99\",\"line\":{\"color\":\"black\",\"width\":1},\"size\":9,\"symbol\":\"triangle-left\"},\"mode\":\"markers\",\"name\":\"omentum\",\"showlegend\":false,\"x\":[0.28],\"y\":[0.6576264142989912],\"type\":\"scatter\",\"xaxis\":\"x\",\"yaxis\":\"y\"},{\"boxmean\":true,\"boxpoints\":false,\"legend\":\"legend2\",\"legendgroup\":\"pig2pig\",\"line\":{\"color\":\"#44AA99\"},\"name\":\"pig2pig\",\"showlegend\":true,\"x\":[0.6,0.6,0.6,0.6,0.6,0.6,0.6,0.6,0.6,0.6,0.6,0.6],\"y\":{\"dtype\":\"f8\",\"bdata\":\"9lqvhSLJ7j9ZkNEJooDuP8uVE6qHV+4\\u002fEMziy+L17T84CMXIC5bsP8K6RcVgJOs\\u002f2rgzmt6V6j9DifrpaKrpP2lMxjSsSOk\\u002f030o0xiF5z+mPcIRxHDnPxjMzIxGC+U\\u002f\"},\"type\":\"box\",\"xaxis\":\"x\",\"yaxis\":\"y\"},{\"legendgroup\":\"pig2pig\",\"line\":{\"color\":\"#44AA99\",\"dash\":\"dot\"},\"mode\":\"lines\",\"name\":\"pig2pig\",\"showlegend\":false,\"text\":\"95\\u202f% CI mean: [0.82;0.86]\",\"x\":[0.5,0.5],\"y\":[0.8224148659653854,0.857234422631869],\"type\":\"scatter\",\"xaxis\":\"x\",\"yaxis\":\"y\"},{\"legendgroup\":\"pig2pig\",\"line\":{\"color\":\"#44AA99\"},\"marker\":{\"size\":10,\"symbol\":\"triangle-down-open\"},\"mode\":\"markers\",\"name\":\"pig2pig\",\"showlegend\":false,\"text\":\"95\\u202f% CI mean: [0.82;0.86]\",\"x\":[0.5],\"y\":[0.8224148659653854],\"type\":\"scatter\",\"xaxis\":\"x\",\"yaxis\":\"y\"},{\"legendgroup\":\"pig2pig\",\"line\":{\"color\":\"#44AA99\"},\"marker\":{\"size\":10,\"symbol\":\"triangle-up-open\"},\"mode\":\"markers\",\"name\":\"pig2pig\",\"showlegend\":false,\"text\":\"95\\u202f% CI mean: [0.82;0.86]\",\"x\":[0.5],\"y\":[0.857234422631869],\"type\":\"scatter\",\"xaxis\":\"x\",\"yaxis\":\"y\"},{\"legendgroup\":\"pig2pig\",\"line\":{\"color\":\"#44AA99\",\"dash\":\"solid\"},\"mode\":\"lines\",\"name\":\"pig2pig\",\"showlegend\":false,\"text\":\"95\\u202f% CI median: [0.81;0.88]\",\"x\":[0.7,0.7],\"y\":[0.8117115651263063,0.8751981169762082],\"type\":\"scatter\",\"xaxis\":\"x\",\"yaxis\":\"y\"},{\"legendgroup\":\"pig2pig\",\"line\":{\"color\":\"#44AA99\"},\"marker\":{\"size\":10,\"symbol\":\"triangle-down\"},\"mode\":\"markers\",\"name\":\"pig2pig\",\"showlegend\":false,\"text\":\"95\\u202f% CI median: [0.81;0.88]\",\"x\":[0.7],\"y\":[0.8117115651263063],\"type\":\"scatter\",\"xaxis\":\"x\",\"yaxis\":\"y\"},{\"legendgroup\":\"pig2pig\",\"line\":{\"color\":\"#44AA99\"},\"marker\":{\"size\":10,\"symbol\":\"triangle-up\"},\"mode\":\"markers\",\"name\":\"pig2pig\",\"showlegend\":false,\"text\":\"95\\u202f% CI median: [0.81;0.88]\",\"x\":[0.7],\"y\":[0.8751981169762082],\"type\":\"scatter\",\"xaxis\":\"x\",\"yaxis\":\"y\"},{\"legend\":\"legend\",\"legendgroup\":\"pig2rat\",\"marker\":{\"color\":\"#89CCED\",\"line\":{\"color\":\"black\",\"width\":1},\"size\":9,\"symbol\":\"triangle-right\"},\"mode\":\"markers\",\"name\":\"lung\",\"showlegend\":false,\"x\":[1.0],\"y\":[0.9476058666522685],\"type\":\"scatter\",\"xaxis\":\"x\",\"yaxis\":\"y\"},{\"legend\":\"legend\",\"legendgroup\":\"pig2rat\",\"marker\":{\"color\":\"#89CCED\",\"line\":{\"color\":\"black\",\"width\":1},\"size\":9,\"symbol\":\"diamond-tall\"},\"mode\":\"markers\",\"name\":\"background\",\"showlegend\":false,\"x\":[1.0933333333333333],\"y\":[0.6924099791134387],\"type\":\"scatter\",\"xaxis\":\"x\",\"yaxis\":\"y\"},{\"legend\":\"legend\",\"legendgroup\":\"pig2rat\",\"marker\":{\"color\":\"#89CCED\",\"line\":{\"color\":\"black\",\"width\":1},\"size\":9,\"symbol\":\"diamond-wide\"},\"mode\":\"markers\",\"name\":\"peritoneum\",\"showlegend\":false,\"x\":[1.1866666666666668],\"y\":[0.6465815117058414],\"type\":\"scatter\",\"xaxis\":\"x\",\"yaxis\":\"y\"},{\"legend\":\"legend\",\"legendgroup\":\"pig2rat\",\"marker\":{\"color\":\"#89CCED\",\"line\":{\"color\":\"black\",\"width\":1},\"size\":9,\"symbol\":\"triangle-up\"},\"mode\":\"markers\",\"name\":\"kidney\",\"showlegend\":false,\"x\":[1.28],\"y\":[0.6016194076983484],\"type\":\"scatter\",\"xaxis\":\"x\",\"yaxis\":\"y\"},{\"legend\":\"legend\",\"legendgroup\":\"pig2rat\",\"marker\":{\"color\":\"#89CCED\",\"line\":{\"color\":\"black\",\"width\":1},\"size\":9,\"symbol\":\"star\"},\"mode\":\"markers\",\"name\":\"skin\",\"showlegend\":false,\"x\":[1.0],\"y\":[0.5676654851885143],\"type\":\"scatter\",\"xaxis\":\"x\",\"yaxis\":\"y\"},{\"legend\":\"legend\",\"legendgroup\":\"pig2rat\",\"marker\":{\"color\":\"#89CCED\",\"line\":{\"color\":\"black\",\"width\":1},\"size\":9,\"symbol\":\"cross\"},\"mode\":\"markers\",\"name\":\"liver\",\"showlegend\":false,\"x\":[1.0933333333333333],\"y\":[0.464141132338418],\"type\":\"scatter\",\"xaxis\":\"x\",\"yaxis\":\"y\"},{\"legend\":\"legend\",\"legendgroup\":\"pig2rat\",\"marker\":{\"color\":\"#89CCED\",\"line\":{\"color\":\"black\",\"width\":1},\"size\":9,\"symbol\":\"diamond\"},\"mode\":\"markers\",\"name\":\"colon\",\"showlegend\":false,\"x\":[1.1866666666666668],\"y\":[0.3076395393500617],\"type\":\"scatter\",\"xaxis\":\"x\",\"yaxis\":\"y\"},{\"legend\":\"legend\",\"legendgroup\":\"pig2rat\",\"marker\":{\"color\":\"#89CCED\",\"line\":{\"color\":\"black\",\"width\":1},\"size\":9,\"symbol\":\"triangle-left\"},\"mode\":\"markers\",\"name\":\"omentum\",\"showlegend\":false,\"x\":[1.28],\"y\":[0.2975888720772976],\"type\":\"scatter\",\"xaxis\":\"x\",\"yaxis\":\"y\"},{\"legend\":\"legend\",\"legendgroup\":\"pig2rat\",\"marker\":{\"color\":\"#89CCED\",\"line\":{\"color\":\"black\",\"width\":1},\"size\":9,\"symbol\":\"x\"},\"mode\":\"markers\",\"name\":\"pancreas\",\"showlegend\":false,\"x\":[1.0],\"y\":[0.1862461492801324],\"type\":\"scatter\",\"xaxis\":\"x\",\"yaxis\":\"y\"},{\"legend\":\"legend\",\"legendgroup\":\"pig2rat\",\"marker\":{\"color\":\"#89CCED\",\"line\":{\"color\":\"black\",\"width\":1},\"size\":9,\"symbol\":\"square\"},\"mode\":\"markers\",\"name\":\"small_bowel\",\"showlegend\":false,\"x\":[1.0933333333333333],\"y\":[0.1168393371797251],\"type\":\"scatter\",\"xaxis\":\"x\",\"yaxis\":\"y\"},{\"legend\":\"legend\",\"legendgroup\":\"pig2rat\",\"marker\":{\"color\":\"#89CCED\",\"line\":{\"color\":\"black\",\"width\":1},\"size\":9,\"symbol\":\"circle\"},\"mode\":\"markers\",\"name\":\"stomach\",\"showlegend\":false,\"x\":[1.1866666666666668],\"y\":[0.08701050513298209],\"type\":\"scatter\",\"xaxis\":\"x\",\"yaxis\":\"y\"},{\"legend\":\"legend\",\"legendgroup\":\"pig2rat\",\"marker\":{\"color\":\"#89CCED\",\"line\":{\"color\":\"black\",\"width\":1},\"size\":9,\"symbol\":\"triangle-down\"},\"mode\":\"markers\",\"name\":\"spleen\",\"showlegend\":false,\"x\":[1.28],\"y\":[0.08462030839429403],\"type\":\"scatter\",\"xaxis\":\"x\",\"yaxis\":\"y\"},{\"boxmean\":true,\"boxpoints\":false,\"legend\":\"legend2\",\"legendgroup\":\"pig2rat\",\"line\":{\"color\":\"#89CCED\"},\"name\":\"pig2rat\",\"showlegend\":true,\"x\":[1.6,1.6,1.6,1.6,1.6,1.6,1.6,1.6,1.6,1.6,1.6,1.6],\"y\":{\"dtype\":\"f8\",\"bdata\":\"iZ3YiclS7j+f6\\u002fb4OCjmP88x37XLsOQ\\u002faYEWWHdA4z8KfL7OUCriP27NBwJ9tN0\\u002f5MIdwF2w0z\\u002fvbk4ysgvTP1ABFfDp1sc\\u002fm78SzC7pvT+MYPQJUka2P3GEITGtqbU\\u002f\"},\"type\":\"box\",\"xaxis\":\"x\",\"yaxis\":\"y\"},{\"legendgroup\":\"pig2rat\",\"line\":{\"color\":\"#89CCED\",\"dash\":\"dot\"},\"mode\":\"lines\",\"name\":\"pig2rat\",\"showlegend\":false,\"text\":\"95\\u202f% CI mean: [0.40;0.43]\",\"x\":[1.5,1.5],\"y\":[0.40229098303647637,0.4333156599533298],\"type\":\"scatter\",\"xaxis\":\"x\",\"yaxis\":\"y\"},{\"legendgroup\":\"pig2rat\",\"line\":{\"color\":\"#89CCED\"},\"marker\":{\"size\":10,\"symbol\":\"triangle-down-open\"},\"mode\":\"markers\",\"name\":\"pig2rat\",\"showlegend\":false,\"text\":\"95\\u202f% CI mean: [0.40;0.43]\",\"x\":[1.5],\"y\":[0.40229098303647637],\"type\":\"scatter\",\"xaxis\":\"x\",\"yaxis\":\"y\"},{\"legendgroup\":\"pig2rat\",\"line\":{\"color\":\"#89CCED\"},\"marker\":{\"size\":10,\"symbol\":\"triangle-up-open\"},\"mode\":\"markers\",\"name\":\"pig2rat\",\"showlegend\":false,\"text\":\"95\\u202f% CI mean: [0.40;0.43]\",\"x\":[1.5],\"y\":[0.4333156599533298],\"type\":\"scatter\",\"xaxis\":\"x\",\"yaxis\":\"y\"},{\"legendgroup\":\"pig2rat\",\"line\":{\"color\":\"#89CCED\",\"dash\":\"solid\"},\"mode\":\"lines\",\"name\":\"pig2rat\",\"showlegend\":false,\"text\":\"95\\u202f% CI median: [0.37;0.43]\",\"x\":[1.7,1.7],\"y\":[0.36823498967472135,0.42717343779846],\"type\":\"scatter\",\"xaxis\":\"x\",\"yaxis\":\"y\"},{\"legendgroup\":\"pig2rat\",\"line\":{\"color\":\"#89CCED\"},\"marker\":{\"size\":10,\"symbol\":\"triangle-down\"},\"mode\":\"markers\",\"name\":\"pig2rat\",\"showlegend\":false,\"text\":\"95\\u202f% CI median: [0.37;0.43]\",\"x\":[1.7],\"y\":[0.36823498967472135],\"type\":\"scatter\",\"xaxis\":\"x\",\"yaxis\":\"y\"},{\"legendgroup\":\"pig2rat\",\"line\":{\"color\":\"#89CCED\"},\"marker\":{\"size\":10,\"symbol\":\"triangle-up\"},\"mode\":\"markers\",\"name\":\"pig2rat\",\"showlegend\":false,\"text\":\"95\\u202f% CI median: [0.37;0.43]\",\"x\":[1.7],\"y\":[0.42717343779846],\"type\":\"scatter\",\"xaxis\":\"x\",\"yaxis\":\"y\"},{\"legend\":\"legend\",\"legendgroup\":\"pig2human\",\"marker\":{\"color\":\"#DDCB76\",\"line\":{\"color\":\"black\",\"width\":1},\"size\":9,\"symbol\":\"star\"},\"mode\":\"markers\",\"name\":\"skin\",\"showlegend\":false,\"x\":[2.0],\"y\":[0.7735537873196696],\"type\":\"scatter\",\"xaxis\":\"x\",\"yaxis\":\"y\"},{\"legend\":\"legend\",\"legendgroup\":\"pig2human\",\"marker\":{\"color\":\"#DDCB76\",\"line\":{\"color\":\"black\",\"width\":1},\"size\":9,\"symbol\":\"diamond-tall\"},\"mode\":\"markers\",\"name\":\"background\",\"showlegend\":false,\"x\":[2.0933333333333333],\"y\":[0.6919477938632245],\"type\":\"scatter\",\"xaxis\":\"x\",\"yaxis\":\"y\"},{\"legend\":\"legend\",\"legendgroup\":\"pig2human\",\"marker\":{\"color\":\"#DDCB76\",\"line\":{\"color\":\"black\",\"width\":1},\"size\":9,\"symbol\":\"triangle-left\"},\"mode\":\"markers\",\"name\":\"omentum\",\"showlegend\":false,\"x\":[2.1866666666666665],\"y\":[0.4926273763240808],\"type\":\"scatter\",\"xaxis\":\"x\",\"yaxis\":\"y\"},{\"legend\":\"legend\",\"legendgroup\":\"pig2human\",\"marker\":{\"color\":\"#DDCB76\",\"line\":{\"color\":\"black\",\"width\":1},\"size\":9,\"symbol\":\"triangle-right\"},\"mode\":\"markers\",\"name\":\"lung\",\"showlegend\":false,\"x\":[2.2800000000000002],\"y\":[0.43497287176549443],\"type\":\"scatter\",\"xaxis\":\"x\",\"yaxis\":\"y\"},{\"legend\":\"legend\",\"legendgroup\":\"pig2human\",\"marker\":{\"color\":\"#DDCB76\",\"line\":{\"color\":\"black\",\"width\":1},\"size\":9,\"symbol\":\"diamond-wide\"},\"mode\":\"markers\",\"name\":\"peritoneum\",\"showlegend\":false,\"x\":[2.0],\"y\":[0.36405937593190274],\"type\":\"scatter\",\"xaxis\":\"x\",\"yaxis\":\"y\"},{\"legend\":\"legend\",\"legendgroup\":\"pig2human\",\"marker\":{\"color\":\"#DDCB76\",\"line\":{\"color\":\"black\",\"width\":1},\"size\":9,\"symbol\":\"circle\"},\"mode\":\"markers\",\"name\":\"stomach\",\"showlegend\":false,\"x\":[2.0933333333333333],\"y\":[0.35970752510103304],\"type\":\"scatter\",\"xaxis\":\"x\",\"yaxis\":\"y\"},{\"legend\":\"legend\",\"legendgroup\":\"pig2human\",\"marker\":{\"color\":\"#DDCB76\",\"line\":{\"color\":\"black\",\"width\":1},\"size\":9,\"symbol\":\"diamond\"},\"mode\":\"markers\",\"name\":\"colon\",\"showlegend\":false,\"x\":[2.1866666666666665],\"y\":[0.21412389498132683],\"type\":\"scatter\",\"xaxis\":\"x\",\"yaxis\":\"y\"},{\"legend\":\"legend\",\"legendgroup\":\"pig2human\",\"marker\":{\"color\":\"#DDCB76\",\"line\":{\"color\":\"black\",\"width\":1},\"size\":9,\"symbol\":\"triangle-down\"},\"mode\":\"markers\",\"name\":\"spleen\",\"showlegend\":false,\"x\":[2.2800000000000002],\"y\":[0.19402342941612005],\"type\":\"scatter\",\"xaxis\":\"x\",\"yaxis\":\"y\"},{\"legend\":\"legend\",\"legendgroup\":\"pig2human\",\"marker\":{\"color\":\"#DDCB76\",\"line\":{\"color\":\"black\",\"width\":1},\"size\":9,\"symbol\":\"square\"},\"mode\":\"markers\",\"name\":\"small_bowel\",\"showlegend\":false,\"x\":[2.0],\"y\":[0.18788148270377694],\"type\":\"scatter\",\"xaxis\":\"x\",\"yaxis\":\"y\"},{\"legend\":\"legend\",\"legendgroup\":\"pig2human\",\"marker\":{\"color\":\"#DDCB76\",\"line\":{\"color\":\"black\",\"width\":1},\"size\":9,\"symbol\":\"triangle-up\"},\"mode\":\"markers\",\"name\":\"kidney\",\"showlegend\":false,\"x\":[2.0933333333333333],\"y\":[0.15611111817196582],\"type\":\"scatter\",\"xaxis\":\"x\",\"yaxis\":\"y\"},{\"legend\":\"legend\",\"legendgroup\":\"pig2human\",\"marker\":{\"color\":\"#DDCB76\",\"line\":{\"color\":\"black\",\"width\":1},\"size\":9,\"symbol\":\"cross\"},\"mode\":\"markers\",\"name\":\"liver\",\"showlegend\":false,\"x\":[2.1866666666666665],\"y\":[0.09631710144828373],\"type\":\"scatter\",\"xaxis\":\"x\",\"yaxis\":\"y\"},{\"legend\":\"legend\",\"legendgroup\":\"pig2human\",\"marker\":{\"color\":\"#DDCB76\",\"line\":{\"color\":\"black\",\"width\":1},\"size\":9,\"symbol\":\"x\"},\"mode\":\"markers\",\"name\":\"pancreas\",\"showlegend\":false,\"x\":[2.2800000000000002],\"y\":[0.05084995212851138],\"type\":\"scatter\",\"xaxis\":\"x\",\"yaxis\":\"y\"},{\"boxmean\":true,\"boxpoints\":false,\"legend\":\"legend2\",\"legendgroup\":\"pig2human\",\"line\":{\"color\":\"#DDCB76\"},\"name\":\"pig2human\",\"showlegend\":true,\"x\":[2.6,2.6,2.6,2.6,2.6,2.6,2.6,2.6,2.6,2.6,2.6,2.6],\"y\":{\"dtype\":\"f8\",\"bdata\":\"eIRH3\\u002fPA6D8d0iWzbyTmPw5Hm\\u002fk0h98\\u002f7VG4dJjW2z8SgFuyv0zXPz\\u002fHG7ZyBdc\\u002f9lMea2loyz8AAAB+wtXIP5FM3huADMg\\u002fRpiL+XL7wz+OEcTQPKi4P21NykIBCao\\u002f\"},\"type\":\"box\",\"xaxis\":\"x\",\"yaxis\":\"y\"},{\"legendgroup\":\"pig2human\",\"line\":{\"color\":\"#DDCB76\",\"dash\":\"dot\"},\"mode\":\"lines\",\"name\":\"pig2human\",\"showlegend\":false,\"text\":\"95\\u202f% CI mean: [0.32;0.35]\",\"x\":[2.5,2.5],\"y\":[0.3165559085598686,0.3532108320477775],\"type\":\"scatter\",\"xaxis\":\"x\",\"yaxis\":\"y\"},{\"legendgroup\":\"pig2human\",\"line\":{\"color\":\"#DDCB76\"},\"marker\":{\"size\":10,\"symbol\":\"triangle-down-open\"},\"mode\":\"markers\",\"name\":\"pig2human\",\"showlegend\":false,\"text\":\"95\\u202f% CI mean: [0.32;0.35]\",\"x\":[2.5],\"y\":[0.3165559085598686],\"type\":\"scatter\",\"xaxis\":\"x\",\"yaxis\":\"y\"},{\"legendgroup\":\"pig2human\",\"line\":{\"color\":\"#DDCB76\"},\"marker\":{\"size\":10,\"symbol\":\"triangle-up-open\"},\"mode\":\"markers\",\"name\":\"pig2human\",\"showlegend\":false,\"text\":\"95\\u202f% CI mean: [0.32;0.35]\",\"x\":[2.5],\"y\":[0.3532108320477775],\"type\":\"scatter\",\"xaxis\":\"x\",\"yaxis\":\"y\"},{\"legendgroup\":\"pig2human\",\"line\":{\"color\":\"#DDCB76\",\"dash\":\"solid\"},\"mode\":\"lines\",\"name\":\"pig2human\",\"showlegend\":false,\"text\":\"95\\u202f% CI median: [0.25;0.33]\",\"x\":[2.7,2.7],\"y\":[0.24933350581423014,0.33313766632783554],\"type\":\"scatter\",\"xaxis\":\"x\",\"yaxis\":\"y\"},{\"legendgroup\":\"pig2human\",\"line\":{\"color\":\"#DDCB76\"},\"marker\":{\"size\":10,\"symbol\":\"triangle-down\"},\"mode\":\"markers\",\"name\":\"pig2human\",\"showlegend\":false,\"text\":\"95\\u202f% CI median: [0.25;0.33]\",\"x\":[2.7],\"y\":[0.24933350581423014],\"type\":\"scatter\",\"xaxis\":\"x\",\"yaxis\":\"y\"},{\"legendgroup\":\"pig2human\",\"line\":{\"color\":\"#DDCB76\"},\"marker\":{\"size\":10,\"symbol\":\"triangle-up\"},\"mode\":\"markers\",\"name\":\"pig2human\",\"showlegend\":false,\"text\":\"95\\u202f% CI median: [0.25;0.33]\",\"x\":[2.7],\"y\":[0.33313766632783554],\"type\":\"scatter\",\"xaxis\":\"x\",\"yaxis\":\"y\"},{\"legend\":\"legend\",\"marker\":{\"color\":\"gray\",\"line\":{\"color\":\"black\",\"width\":1},\"size\":9,\"symbol\":\"circle\"},\"mode\":\"markers\",\"name\":\"stomach\",\"showlegend\":false,\"x\":[null],\"y\":[null],\"type\":\"scatter\",\"xaxis\":\"x2\",\"yaxis\":\"y2\"},{\"legend\":\"legend\",\"marker\":{\"color\":\"gray\",\"line\":{\"color\":\"black\",\"width\":1},\"size\":9,\"symbol\":\"square\"},\"mode\":\"markers\",\"name\":\"small_bowel\",\"showlegend\":false,\"x\":[null],\"y\":[null],\"type\":\"scatter\",\"xaxis\":\"x2\",\"yaxis\":\"y2\"},{\"legend\":\"legend\",\"marker\":{\"color\":\"gray\",\"line\":{\"color\":\"black\",\"width\":1},\"size\":9,\"symbol\":\"diamond\"},\"mode\":\"markers\",\"name\":\"colon\",\"showlegend\":false,\"x\":[null],\"y\":[null],\"type\":\"scatter\",\"xaxis\":\"x2\",\"yaxis\":\"y2\"},{\"legend\":\"legend\",\"marker\":{\"color\":\"gray\",\"line\":{\"color\":\"black\",\"width\":1},\"size\":9,\"symbol\":\"cross\"},\"mode\":\"markers\",\"name\":\"liver\",\"showlegend\":false,\"x\":[null],\"y\":[null],\"type\":\"scatter\",\"xaxis\":\"x2\",\"yaxis\":\"y2\"},{\"legend\":\"legend\",\"marker\":{\"color\":\"gray\",\"line\":{\"color\":\"black\",\"width\":1},\"size\":9,\"symbol\":\"x\"},\"mode\":\"markers\",\"name\":\"pancreas\",\"showlegend\":false,\"x\":[null],\"y\":[null],\"type\":\"scatter\",\"xaxis\":\"x2\",\"yaxis\":\"y2\"},{\"legend\":\"legend\",\"marker\":{\"color\":\"gray\",\"line\":{\"color\":\"black\",\"width\":1},\"size\":9,\"symbol\":\"triangle-up\"},\"mode\":\"markers\",\"name\":\"kidney\",\"showlegend\":false,\"x\":[null],\"y\":[null],\"type\":\"scatter\",\"xaxis\":\"x2\",\"yaxis\":\"y2\"},{\"legend\":\"legend\",\"marker\":{\"color\":\"gray\",\"line\":{\"color\":\"black\",\"width\":1},\"size\":9,\"symbol\":\"triangle-down\"},\"mode\":\"markers\",\"name\":\"spleen\",\"showlegend\":false,\"x\":[null],\"y\":[null],\"type\":\"scatter\",\"xaxis\":\"x2\",\"yaxis\":\"y2\"},{\"legend\":\"legend\",\"marker\":{\"color\":\"gray\",\"line\":{\"color\":\"black\",\"width\":1},\"size\":9,\"symbol\":\"triangle-left\"},\"mode\":\"markers\",\"name\":\"omentum\",\"showlegend\":false,\"x\":[null],\"y\":[null],\"type\":\"scatter\",\"xaxis\":\"x2\",\"yaxis\":\"y2\"},{\"legend\":\"legend\",\"marker\":{\"color\":\"gray\",\"line\":{\"color\":\"black\",\"width\":1},\"size\":9,\"symbol\":\"triangle-right\"},\"mode\":\"markers\",\"name\":\"lung\",\"showlegend\":false,\"x\":[null],\"y\":[null],\"type\":\"scatter\",\"xaxis\":\"x2\",\"yaxis\":\"y2\"},{\"legend\":\"legend\",\"marker\":{\"color\":\"gray\",\"line\":{\"color\":\"black\",\"width\":1},\"size\":9,\"symbol\":\"star\"},\"mode\":\"markers\",\"name\":\"skin\",\"showlegend\":false,\"x\":[null],\"y\":[null],\"type\":\"scatter\",\"xaxis\":\"x2\",\"yaxis\":\"y2\"},{\"legend\":\"legend\",\"marker\":{\"color\":\"gray\",\"line\":{\"color\":\"black\",\"width\":1},\"size\":9,\"symbol\":\"diamond-wide\"},\"mode\":\"markers\",\"name\":\"peritoneum\",\"showlegend\":false,\"x\":[null],\"y\":[null],\"type\":\"scatter\",\"xaxis\":\"x2\",\"yaxis\":\"y2\"},{\"legend\":\"legend\",\"marker\":{\"color\":\"gray\",\"line\":{\"color\":\"black\",\"width\":1},\"size\":9,\"symbol\":\"diamond-tall\"},\"mode\":\"markers\",\"name\":\"background\",\"showlegend\":false,\"x\":[null],\"y\":[null],\"type\":\"scatter\",\"xaxis\":\"x2\",\"yaxis\":\"y2\"},{\"legend\":\"legend\",\"legendgroup\":\"rat2rat\",\"marker\":{\"color\":\"#89CCED\",\"line\":{\"color\":\"black\",\"width\":1},\"size\":9,\"symbol\":\"triangle-right\"},\"mode\":\"markers\",\"name\":\"lung\",\"showlegend\":false,\"x\":[0.0],\"y\":[0.9897205829620361],\"type\":\"scatter\",\"xaxis\":\"x2\",\"yaxis\":\"y2\"},{\"legend\":\"legend\",\"legendgroup\":\"rat2rat\",\"marker\":{\"color\":\"#89CCED\",\"line\":{\"color\":\"black\",\"width\":1},\"size\":9,\"symbol\":\"diamond-wide\"},\"mode\":\"markers\",\"name\":\"peritoneum\",\"showlegend\":false,\"x\":[0.09333333333333334],\"y\":[0.977964673318901],\"type\":\"scatter\",\"xaxis\":\"x2\",\"yaxis\":\"y2\"},{\"legend\":\"legend\",\"legendgroup\":\"rat2rat\",\"marker\":{\"color\":\"#89CCED\",\"line\":{\"color\":\"black\",\"width\":1},\"size\":9,\"symbol\":\"diamond-tall\"},\"mode\":\"markers\",\"name\":\"background\",\"showlegend\":false,\"x\":[0.18666666666666668],\"y\":[0.9544910802933864],\"type\":\"scatter\",\"xaxis\":\"x2\",\"yaxis\":\"y2\"},{\"legend\":\"legend\",\"legendgroup\":\"rat2rat\",\"marker\":{\"color\":\"#89CCED\",\"line\":{\"color\":\"black\",\"width\":1},\"size\":9,\"symbol\":\"star\"},\"mode\":\"markers\",\"name\":\"skin\",\"showlegend\":false,\"x\":[0.28],\"y\":[0.9417644601574562],\"type\":\"scatter\",\"xaxis\":\"x2\",\"yaxis\":\"y2\"},{\"legend\":\"legend\",\"legendgroup\":\"rat2rat\",\"marker\":{\"color\":\"#89CCED\",\"line\":{\"color\":\"black\",\"width\":1},\"size\":9,\"symbol\":\"square\"},\"mode\":\"markers\",\"name\":\"small_bowel\",\"showlegend\":false,\"x\":[0.0],\"y\":[0.8793987042353812],\"type\":\"scatter\",\"xaxis\":\"x2\",\"yaxis\":\"y2\"},{\"legend\":\"legend\",\"legendgroup\":\"rat2rat\",\"marker\":{\"color\":\"#89CCED\",\"line\":{\"color\":\"black\",\"width\":1},\"size\":9,\"symbol\":\"triangle-up\"},\"mode\":\"markers\",\"name\":\"kidney\",\"showlegend\":false,\"x\":[0.09333333333333334],\"y\":[0.8539825174398039],\"type\":\"scatter\",\"xaxis\":\"x2\",\"yaxis\":\"y2\"},{\"legend\":\"legend\",\"legendgroup\":\"rat2rat\",\"marker\":{\"color\":\"#89CCED\",\"line\":{\"color\":\"black\",\"width\":1},\"size\":9,\"symbol\":\"triangle-left\"},\"mode\":\"markers\",\"name\":\"omentum\",\"showlegend\":false,\"x\":[0.18666666666666668],\"y\":[0.8264036402527238],\"type\":\"scatter\",\"xaxis\":\"x2\",\"yaxis\":\"y2\"},{\"legend\":\"legend\",\"legendgroup\":\"rat2rat\",\"marker\":{\"color\":\"#89CCED\",\"line\":{\"color\":\"black\",\"width\":1},\"size\":9,\"symbol\":\"circle\"},\"mode\":\"markers\",\"name\":\"stomach\",\"showlegend\":false,\"x\":[0.28],\"y\":[0.8255487347126924],\"type\":\"scatter\",\"xaxis\":\"x2\",\"yaxis\":\"y2\"},{\"legend\":\"legend\",\"legendgroup\":\"rat2rat\",\"marker\":{\"color\":\"#89CCED\",\"line\":{\"color\":\"black\",\"width\":1},\"size\":9,\"symbol\":\"triangle-down\"},\"mode\":\"markers\",\"name\":\"spleen\",\"showlegend\":false,\"x\":[0.0],\"y\":[0.7757092768195437],\"type\":\"scatter\",\"xaxis\":\"x2\",\"yaxis\":\"y2\"},{\"legend\":\"legend\",\"legendgroup\":\"rat2rat\",\"marker\":{\"color\":\"#89CCED\",\"line\":{\"color\":\"black\",\"width\":1},\"size\":9,\"symbol\":\"diamond\"},\"mode\":\"markers\",\"name\":\"colon\",\"showlegend\":false,\"x\":[0.09333333333333334],\"y\":[0.771811417414718],\"type\":\"scatter\",\"xaxis\":\"x2\",\"yaxis\":\"y2\"},{\"legend\":\"legend\",\"legendgroup\":\"rat2rat\",\"marker\":{\"color\":\"#89CCED\",\"line\":{\"color\":\"black\",\"width\":1},\"size\":9,\"symbol\":\"cross\"},\"mode\":\"markers\",\"name\":\"liver\",\"showlegend\":false,\"x\":[0.18666666666666668],\"y\":[0.7376623387011476],\"type\":\"scatter\",\"xaxis\":\"x2\",\"yaxis\":\"y2\"},{\"legend\":\"legend\",\"legendgroup\":\"rat2rat\",\"marker\":{\"color\":\"#89CCED\",\"line\":{\"color\":\"black\",\"width\":1},\"size\":9,\"symbol\":\"x\"},\"mode\":\"markers\",\"name\":\"pancreas\",\"showlegend\":false,\"x\":[0.28],\"y\":[0.6440841437259436],\"type\":\"scatter\",\"xaxis\":\"x2\",\"yaxis\":\"y2\"},{\"boxmean\":true,\"boxpoints\":false,\"legend\":\"legend2\",\"legendgroup\":\"rat2rat\",\"line\":{\"color\":\"#89CCED\"},\"name\":\"rat2rat\",\"showlegend\":false,\"x\":[0.6,0.6,0.6,0.6,0.6,0.6,0.6,0.6,0.6,0.6,0.6,0.6],\"y\":{\"dtype\":\"f8\",\"bdata\":\"AAAAgMqr7z8\\u002fiRGSfEvvP7rhxeAwi+4\\u002f8CmdOO8i7j9gvlrACCTsP4ZP+CTTU+s\\u002fGckFDOZx6j\\u002fUCxsu5WrqP5yZ5EKc0ug\\u002fRTiP262y6D8yy4YM7prnP1mapVlWnOQ\\u002f\"},\"type\":\"box\",\"xaxis\":\"x2\",\"yaxis\":\"y2\"},{\"legendgroup\":\"rat2rat\",\"line\":{\"color\":\"#89CCED\",\"dash\":\"dot\"},\"mode\":\"lines\",\"name\":\"rat2rat\",\"showlegend\":false,\"text\":\"95\\u202f% CI mean: [0.84;0.86]\",\"x\":[0.5,0.5],\"y\":[0.8368920453986463,0.8602910897504514],\"type\":\"scatter\",\"xaxis\":\"x2\",\"yaxis\":\"y2\"},{\"legendgroup\":\"rat2rat\",\"line\":{\"color\":\"#89CCED\"},\"marker\":{\"size\":10,\"symbol\":\"triangle-down-open\"},\"mode\":\"markers\",\"name\":\"rat2rat\",\"showlegend\":false,\"text\":\"95\\u202f% CI mean: [0.84;0.86]\",\"x\":[0.5],\"y\":[0.8368920453986463],\"type\":\"scatter\",\"xaxis\":\"x2\",\"yaxis\":\"y2\"},{\"legendgroup\":\"rat2rat\",\"line\":{\"color\":\"#89CCED\"},\"marker\":{\"size\":10,\"symbol\":\"triangle-up-open\"},\"mode\":\"markers\",\"name\":\"rat2rat\",\"showlegend\":false,\"text\":\"95\\u202f% CI mean: [0.84;0.86]\",\"x\":[0.5],\"y\":[0.8602910897504514],\"type\":\"scatter\",\"xaxis\":\"x2\",\"yaxis\":\"y2\"},{\"legendgroup\":\"rat2rat\",\"line\":{\"color\":\"#89CCED\",\"dash\":\"solid\"},\"mode\":\"lines\",\"name\":\"rat2rat\",\"showlegend\":false,\"text\":\"95\\u202f% CI median: [0.82;0.87]\",\"x\":[0.7,0.7],\"y\":[0.8224491231480179,0.8673259752851978],\"type\":\"scatter\",\"xaxis\":\"x2\",\"yaxis\":\"y2\"},{\"legendgroup\":\"rat2rat\",\"line\":{\"color\":\"#89CCED\"},\"marker\":{\"size\":10,\"symbol\":\"triangle-down\"},\"mode\":\"markers\",\"name\":\"rat2rat\",\"showlegend\":false,\"text\":\"95\\u202f% CI median: [0.82;0.87]\",\"x\":[0.7],\"y\":[0.8224491231480179],\"type\":\"scatter\",\"xaxis\":\"x2\",\"yaxis\":\"y2\"},{\"legendgroup\":\"rat2rat\",\"line\":{\"color\":\"#89CCED\"},\"marker\":{\"size\":10,\"symbol\":\"triangle-up\"},\"mode\":\"markers\",\"name\":\"rat2rat\",\"showlegend\":false,\"text\":\"95\\u202f% CI median: [0.82;0.87]\",\"x\":[0.7],\"y\":[0.8673259752851978],\"type\":\"scatter\",\"xaxis\":\"x2\",\"yaxis\":\"y2\"},{\"legend\":\"legend\",\"legendgroup\":\"rat2pig\",\"marker\":{\"color\":\"#44AA99\",\"line\":{\"color\":\"black\",\"width\":1},\"size\":9,\"symbol\":\"star\"},\"mode\":\"markers\",\"name\":\"skin\",\"showlegend\":false,\"x\":[1.0],\"y\":[0.5937311764189384],\"type\":\"scatter\",\"xaxis\":\"x2\",\"yaxis\":\"y2\"},{\"legend\":\"legend\",\"legendgroup\":\"rat2pig\",\"marker\":{\"color\":\"#44AA99\",\"line\":{\"color\":\"black\",\"width\":1},\"size\":9,\"symbol\":\"diamond-tall\"},\"mode\":\"markers\",\"name\":\"background\",\"showlegend\":false,\"x\":[1.0933333333333333],\"y\":[0.5690213037910649],\"type\":\"scatter\",\"xaxis\":\"x2\",\"yaxis\":\"y2\"},{\"legend\":\"legend\",\"legendgroup\":\"rat2pig\",\"marker\":{\"color\":\"#44AA99\",\"line\":{\"color\":\"black\",\"width\":1},\"size\":9,\"symbol\":\"cross\"},\"mode\":\"markers\",\"name\":\"liver\",\"showlegend\":false,\"x\":[1.1866666666666668],\"y\":[0.5471725052732284],\"type\":\"scatter\",\"xaxis\":\"x2\",\"yaxis\":\"y2\"},{\"legend\":\"legend\",\"legendgroup\":\"rat2pig\",\"marker\":{\"color\":\"#44AA99\",\"line\":{\"color\":\"black\",\"width\":1},\"size\":9,\"symbol\":\"triangle-right\"},\"mode\":\"markers\",\"name\":\"lung\",\"showlegend\":false,\"x\":[1.28],\"y\":[0.49335919079701707],\"type\":\"scatter\",\"xaxis\":\"x2\",\"yaxis\":\"y2\"},{\"legend\":\"legend\",\"legendgroup\":\"rat2pig\",\"marker\":{\"color\":\"#44AA99\",\"line\":{\"color\":\"black\",\"width\":1},\"size\":9,\"symbol\":\"triangle-down\"},\"mode\":\"markers\",\"name\":\"spleen\",\"showlegend\":false,\"x\":[1.0],\"y\":[0.3884020859572858],\"type\":\"scatter\",\"xaxis\":\"x2\",\"yaxis\":\"y2\"},{\"legend\":\"legend\",\"legendgroup\":\"rat2pig\",\"marker\":{\"color\":\"#44AA99\",\"line\":{\"color\":\"black\",\"width\":1},\"size\":9,\"symbol\":\"square\"},\"mode\":\"markers\",\"name\":\"small_bowel\",\"showlegend\":false,\"x\":[1.0933333333333333],\"y\":[0.3855754346508949],\"type\":\"scatter\",\"xaxis\":\"x2\",\"yaxis\":\"y2\"},{\"legend\":\"legend\",\"legendgroup\":\"rat2pig\",\"marker\":{\"color\":\"#44AA99\",\"line\":{\"color\":\"black\",\"width\":1},\"size\":9,\"symbol\":\"diamond-wide\"},\"mode\":\"markers\",\"name\":\"peritoneum\",\"showlegend\":false,\"x\":[1.1866666666666668],\"y\":[0.38379932526966143],\"type\":\"scatter\",\"xaxis\":\"x2\",\"yaxis\":\"y2\"},{\"legend\":\"legend\",\"legendgroup\":\"rat2pig\",\"marker\":{\"color\":\"#44AA99\",\"line\":{\"color\":\"black\",\"width\":1},\"size\":9,\"symbol\":\"x\"},\"mode\":\"markers\",\"name\":\"pancreas\",\"showlegend\":false,\"x\":[1.28],\"y\":[0.3444124986491506],\"type\":\"scatter\",\"xaxis\":\"x2\",\"yaxis\":\"y2\"},{\"legend\":\"legend\",\"legendgroup\":\"rat2pig\",\"marker\":{\"color\":\"#44AA99\",\"line\":{\"color\":\"black\",\"width\":1},\"size\":9,\"symbol\":\"diamond\"},\"mode\":\"markers\",\"name\":\"colon\",\"showlegend\":false,\"x\":[1.0],\"y\":[0.2967713103076085],\"type\":\"scatter\",\"xaxis\":\"x2\",\"yaxis\":\"y2\"},{\"legend\":\"legend\",\"legendgroup\":\"rat2pig\",\"marker\":{\"color\":\"#44AA99\",\"line\":{\"color\":\"black\",\"width\":1},\"size\":9,\"symbol\":\"triangle-left\"},\"mode\":\"markers\",\"name\":\"omentum\",\"showlegend\":false,\"x\":[1.0933333333333333],\"y\":[0.20180232167656362],\"type\":\"scatter\",\"xaxis\":\"x2\",\"yaxis\":\"y2\"},{\"legend\":\"legend\",\"legendgroup\":\"rat2pig\",\"marker\":{\"color\":\"#44AA99\",\"line\":{\"color\":\"black\",\"width\":1},\"size\":9,\"symbol\":\"circle\"},\"mode\":\"markers\",\"name\":\"stomach\",\"showlegend\":false,\"x\":[1.1866666666666668],\"y\":[0.04340460103733269],\"type\":\"scatter\",\"xaxis\":\"x2\",\"yaxis\":\"y2\"},{\"legend\":\"legend\",\"legendgroup\":\"rat2pig\",\"marker\":{\"color\":\"#44AA99\",\"line\":{\"color\":\"black\",\"width\":1},\"size\":9,\"symbol\":\"triangle-up\"},\"mode\":\"markers\",\"name\":\"kidney\",\"showlegend\":false,\"x\":[1.28],\"y\":[0.004127494019899043],\"type\":\"scatter\",\"xaxis\":\"x2\",\"yaxis\":\"y2\"},{\"boxmean\":true,\"boxpoints\":false,\"legend\":\"legend2\",\"legendgroup\":\"rat2pig\",\"line\":{\"color\":\"#44AA99\"},\"name\":\"rat2pig\",\"showlegend\":false,\"x\":[1.6,1.6,1.6,1.6,1.6,1.6,1.6,1.6,1.6,1.6,1.6,1.6],\"y\":{\"dtype\":\"f8\",\"bdata\":\"4rcqhtj\\u002f4j8jUVAqbDXiP6hn7elvguE\\u002fnt5pbTKT3z9PnzhslNvYP23cfZZErdg\\u002f3KSQCyuQ2D8gCIK42grWPz5iChhN\\u002ftI\\u002fh8ntkajUyT8RDee7IDmmP0hHR73953A\\u002f\"},\"type\":\"box\",\"xaxis\":\"x2\",\"yaxis\":\"y2\"},{\"legendgroup\":\"rat2pig\",\"line\":{\"color\":\"#44AA99\",\"dash\":\"dot\"},\"mode\":\"lines\",\"name\":\"rat2pig\",\"showlegend\":false,\"text\":\"95\\u202f% CI mean: [0.33;0.38]\",\"x\":[1.5,1.5],\"y\":[0.3273237107155829,0.3810813009530896],\"type\":\"scatter\",\"xaxis\":\"x2\",\"yaxis\":\"y2\"},{\"legendgroup\":\"rat2pig\",\"line\":{\"color\":\"#44AA99\"},\"marker\":{\"size\":10,\"symbol\":\"triangle-down-open\"},\"mode\":\"markers\",\"name\":\"rat2pig\",\"showlegend\":false,\"text\":\"95\\u202f% CI mean: [0.33;0.38]\",\"x\":[1.5],\"y\":[0.3273237107155829],\"type\":\"scatter\",\"xaxis\":\"x2\",\"yaxis\":\"y2\"},{\"legendgroup\":\"rat2pig\",\"line\":{\"color\":\"#44AA99\"},\"marker\":{\"size\":10,\"symbol\":\"triangle-up-open\"},\"mode\":\"markers\",\"name\":\"rat2pig\",\"showlegend\":false,\"text\":\"95\\u202f% CI mean: [0.33;0.38]\",\"x\":[1.5],\"y\":[0.3810813009530896],\"type\":\"scatter\",\"xaxis\":\"x2\",\"yaxis\":\"y2\"},{\"legendgroup\":\"rat2pig\",\"line\":{\"color\":\"#44AA99\",\"dash\":\"solid\"},\"mode\":\"lines\",\"name\":\"rat2pig\",\"showlegend\":false,\"text\":\"95\\u202f% CI median: [0.33;0.42]\",\"x\":[1.7,1.7],\"y\":[0.334326696174056,0.4171381877678392],\"type\":\"scatter\",\"xaxis\":\"x2\",\"yaxis\":\"y2\"},{\"legendgroup\":\"rat2pig\",\"line\":{\"color\":\"#44AA99\"},\"marker\":{\"size\":10,\"symbol\":\"triangle-down\"},\"mode\":\"markers\",\"name\":\"rat2pig\",\"showlegend\":false,\"text\":\"95\\u202f% CI median: [0.33;0.42]\",\"x\":[1.7],\"y\":[0.334326696174056],\"type\":\"scatter\",\"xaxis\":\"x2\",\"yaxis\":\"y2\"},{\"legendgroup\":\"rat2pig\",\"line\":{\"color\":\"#44AA99\"},\"marker\":{\"size\":10,\"symbol\":\"triangle-up\"},\"mode\":\"markers\",\"name\":\"rat2pig\",\"showlegend\":false,\"text\":\"95\\u202f% CI median: [0.33;0.42]\",\"x\":[1.7],\"y\":[0.4171381877678392],\"type\":\"scatter\",\"xaxis\":\"x2\",\"yaxis\":\"y2\"},{\"legend\":\"legend\",\"legendgroup\":\"rat2human\",\"marker\":{\"color\":\"#DDCB76\",\"line\":{\"color\":\"black\",\"width\":1},\"size\":9,\"symbol\":\"star\"},\"mode\":\"markers\",\"name\":\"skin\",\"showlegend\":false,\"x\":[2.0],\"y\":[0.5900645879349824],\"type\":\"scatter\",\"xaxis\":\"x2\",\"yaxis\":\"y2\"},{\"legend\":\"legend\",\"legendgroup\":\"rat2human\",\"marker\":{\"color\":\"#DDCB76\",\"line\":{\"color\":\"black\",\"width\":1},\"size\":9,\"symbol\":\"diamond-tall\"},\"mode\":\"markers\",\"name\":\"background\",\"showlegend\":false,\"x\":[2.0933333333333333],\"y\":[0.5552570405448853],\"type\":\"scatter\",\"xaxis\":\"x2\",\"yaxis\":\"y2\"},{\"legend\":\"legend\",\"legendgroup\":\"rat2human\",\"marker\":{\"color\":\"#DDCB76\",\"line\":{\"color\":\"black\",\"width\":1},\"size\":9,\"symbol\":\"triangle-left\"},\"mode\":\"markers\",\"name\":\"omentum\",\"showlegend\":false,\"x\":[2.1866666666666665],\"y\":[0.4014500669349222],\"type\":\"scatter\",\"xaxis\":\"x2\",\"yaxis\":\"y2\"},{\"legend\":\"legend\",\"legendgroup\":\"rat2human\",\"marker\":{\"color\":\"#DDCB76\",\"line\":{\"color\":\"black\",\"width\":1},\"size\":9,\"symbol\":\"triangle-down\"},\"mode\":\"markers\",\"name\":\"spleen\",\"showlegend\":false,\"x\":[2.2800000000000002],\"y\":[0.31967023775602377],\"type\":\"scatter\",\"xaxis\":\"x2\",\"yaxis\":\"y2\"},{\"legend\":\"legend\",\"legendgroup\":\"rat2human\",\"marker\":{\"color\":\"#DDCB76\",\"line\":{\"color\":\"black\",\"width\":1},\"size\":9,\"symbol\":\"triangle-right\"},\"mode\":\"markers\",\"name\":\"lung\",\"showlegend\":false,\"x\":[2.0],\"y\":[0.2734103569222821],\"type\":\"scatter\",\"xaxis\":\"x2\",\"yaxis\":\"y2\"},{\"legend\":\"legend\",\"legendgroup\":\"rat2human\",\"marker\":{\"color\":\"#DDCB76\",\"line\":{\"color\":\"black\",\"width\":1},\"size\":9,\"symbol\":\"square\"},\"mode\":\"markers\",\"name\":\"small_bowel\",\"showlegend\":false,\"x\":[2.0933333333333333],\"y\":[0.2635508928622175],\"type\":\"scatter\",\"xaxis\":\"x2\",\"yaxis\":\"y2\"},{\"legend\":\"legend\",\"legendgroup\":\"rat2human\",\"marker\":{\"color\":\"#DDCB76\",\"line\":{\"color\":\"black\",\"width\":1},\"size\":9,\"symbol\":\"diamond-wide\"},\"mode\":\"markers\",\"name\":\"peritoneum\",\"showlegend\":false,\"x\":[2.1866666666666665],\"y\":[0.21178451636988743],\"type\":\"scatter\",\"xaxis\":\"x2\",\"yaxis\":\"y2\"},{\"legend\":\"legend\",\"legendgroup\":\"rat2human\",\"marker\":{\"color\":\"#DDCB76\",\"line\":{\"color\":\"black\",\"width\":1},\"size\":9,\"symbol\":\"cross\"},\"mode\":\"markers\",\"name\":\"liver\",\"showlegend\":false,\"x\":[2.2800000000000002],\"y\":[0.20639093345617981],\"type\":\"scatter\",\"xaxis\":\"x2\",\"yaxis\":\"y2\"},{\"legend\":\"legend\",\"legendgroup\":\"rat2human\",\"marker\":{\"color\":\"#DDCB76\",\"line\":{\"color\":\"black\",\"width\":1},\"size\":9,\"symbol\":\"x\"},\"mode\":\"markers\",\"name\":\"pancreas\",\"showlegend\":false,\"x\":[2.0],\"y\":[0.06917145865883907],\"type\":\"scatter\",\"xaxis\":\"x2\",\"yaxis\":\"y2\"},{\"legend\":\"legend\",\"legendgroup\":\"rat2human\",\"marker\":{\"color\":\"#DDCB76\",\"line\":{\"color\":\"black\",\"width\":1},\"size\":9,\"symbol\":\"circle\"},\"mode\":\"markers\",\"name\":\"stomach\",\"showlegend\":false,\"x\":[2.0933333333333333],\"y\":[0.035560873694270495],\"type\":\"scatter\",\"xaxis\":\"x2\",\"yaxis\":\"y2\"},{\"legend\":\"legend\",\"legendgroup\":\"rat2human\",\"marker\":{\"color\":\"#DDCB76\",\"line\":{\"color\":\"black\",\"width\":1},\"size\":9,\"symbol\":\"diamond\"},\"mode\":\"markers\",\"name\":\"colon\",\"showlegend\":false,\"x\":[2.1866666666666665],\"y\":[0.00847034951943369],\"type\":\"scatter\",\"xaxis\":\"x2\",\"yaxis\":\"y2\"},{\"legend\":\"legend\",\"legendgroup\":\"rat2human\",\"marker\":{\"color\":\"#DDCB76\",\"line\":{\"color\":\"black\",\"width\":1},\"size\":9,\"symbol\":\"triangle-up\"},\"mode\":\"markers\",\"name\":\"kidney\",\"showlegend\":false,\"x\":[2.2800000000000002],\"y\":[0.008070258985389956],\"type\":\"scatter\",\"xaxis\":\"x2\",\"yaxis\":\"y2\"},{\"boxmean\":true,\"boxpoints\":false,\"legend\":\"legend2\",\"legendgroup\":\"rat2human\",\"line\":{\"color\":\"#DDCB76\"},\"name\":\"rat2human\",\"showlegend\":false,\"x\":[2.6,2.6,2.6,2.6,2.6,2.6,2.6,2.6,2.6,2.6,2.6,2.6],\"y\":{\"dtype\":\"f8\",\"bdata\":\"wKt2Ic\\u002fh4j\\u002fscsBpqsThP6GZHZ9bsdk\\u002fqqoqKHp11D\\u002fgm1cnjn\\u002fRP1Ewa5AE3tA\\u002fzs3NScEbyz9iTrGiBGvKP9WewYA4tbE\\u002fvHIR6wg1oj+3jV8R51iBP83MTNMjh4A\\u002f\"},\"type\":\"box\",\"xaxis\":\"x2\",\"yaxis\":\"y2\"},{\"legendgroup\":\"rat2human\",\"line\":{\"color\":\"#DDCB76\",\"dash\":\"dot\"},\"mode\":\"lines\",\"name\":\"rat2human\",\"showlegend\":false,\"text\":\"95\\u202f% CI mean: [0.23;0.26]\",\"x\":[2.5,2.5],\"y\":[0.2319245598152024,0.25866393316888786],\"type\":\"scatter\",\"xaxis\":\"x2\",\"yaxis\":\"y2\"},{\"legendgroup\":\"rat2human\",\"line\":{\"color\":\"#DDCB76\"},\"marker\":{\"size\":10,\"symbol\":\"triangle-down-open\"},\"mode\":\"markers\",\"name\":\"rat2human\",\"showlegend\":false,\"text\":\"95\\u202f% CI mean: [0.23;0.26]\",\"x\":[2.5],\"y\":[0.2319245598152024],\"type\":\"scatter\",\"xaxis\":\"x2\",\"yaxis\":\"y2\"},{\"legendgroup\":\"rat2human\",\"line\":{\"color\":\"#DDCB76\"},\"marker\":{\"size\":10,\"symbol\":\"triangle-up-open\"},\"mode\":\"markers\",\"name\":\"rat2human\",\"showlegend\":false,\"text\":\"95\\u202f% CI mean: [0.23;0.26]\",\"x\":[2.5],\"y\":[0.25866393316888786],\"type\":\"scatter\",\"xaxis\":\"x2\",\"yaxis\":\"y2\"},{\"legendgroup\":\"rat2human\",\"line\":{\"color\":\"#DDCB76\",\"dash\":\"solid\"},\"mode\":\"lines\",\"name\":\"rat2human\",\"showlegend\":false,\"text\":\"95\\u202f% CI median: [0.21;0.27]\",\"x\":[2.7,2.7],\"y\":[0.20692485158123486,0.26646681748267187],\"type\":\"scatter\",\"xaxis\":\"x2\",\"yaxis\":\"y2\"},{\"legendgroup\":\"rat2human\",\"line\":{\"color\":\"#DDCB76\"},\"marker\":{\"size\":10,\"symbol\":\"triangle-down\"},\"mode\":\"markers\",\"name\":\"rat2human\",\"showlegend\":false,\"text\":\"95\\u202f% CI median: [0.21;0.27]\",\"x\":[2.7],\"y\":[0.20692485158123486],\"type\":\"scatter\",\"xaxis\":\"x2\",\"yaxis\":\"y2\"},{\"legendgroup\":\"rat2human\",\"line\":{\"color\":\"#DDCB76\"},\"marker\":{\"size\":10,\"symbol\":\"triangle-up\"},\"mode\":\"markers\",\"name\":\"rat2human\",\"showlegend\":false,\"text\":\"95\\u202f% CI median: [0.21;0.27]\",\"x\":[2.7],\"y\":[0.26646681748267187],\"type\":\"scatter\",\"xaxis\":\"x2\",\"yaxis\":\"y2\"},{\"legend\":\"legend\",\"marker\":{\"color\":\"gray\",\"line\":{\"color\":\"black\",\"width\":1},\"size\":9,\"symbol\":\"circle\"},\"mode\":\"markers\",\"name\":\"stomach\",\"showlegend\":false,\"x\":[null],\"y\":[null],\"type\":\"scatter\",\"xaxis\":\"x3\",\"yaxis\":\"y3\"},{\"legend\":\"legend\",\"marker\":{\"color\":\"gray\",\"line\":{\"color\":\"black\",\"width\":1},\"size\":9,\"symbol\":\"square\"},\"mode\":\"markers\",\"name\":\"small_bowel\",\"showlegend\":false,\"x\":[null],\"y\":[null],\"type\":\"scatter\",\"xaxis\":\"x3\",\"yaxis\":\"y3\"},{\"legend\":\"legend\",\"marker\":{\"color\":\"gray\",\"line\":{\"color\":\"black\",\"width\":1},\"size\":9,\"symbol\":\"diamond\"},\"mode\":\"markers\",\"name\":\"colon\",\"showlegend\":false,\"x\":[null],\"y\":[null],\"type\":\"scatter\",\"xaxis\":\"x3\",\"yaxis\":\"y3\"},{\"legend\":\"legend\",\"marker\":{\"color\":\"gray\",\"line\":{\"color\":\"black\",\"width\":1},\"size\":9,\"symbol\":\"cross\"},\"mode\":\"markers\",\"name\":\"liver\",\"showlegend\":false,\"x\":[null],\"y\":[null],\"type\":\"scatter\",\"xaxis\":\"x3\",\"yaxis\":\"y3\"},{\"legend\":\"legend\",\"marker\":{\"color\":\"gray\",\"line\":{\"color\":\"black\",\"width\":1},\"size\":9,\"symbol\":\"x\"},\"mode\":\"markers\",\"name\":\"pancreas\",\"showlegend\":false,\"x\":[null],\"y\":[null],\"type\":\"scatter\",\"xaxis\":\"x3\",\"yaxis\":\"y3\"},{\"legend\":\"legend\",\"marker\":{\"color\":\"gray\",\"line\":{\"color\":\"black\",\"width\":1},\"size\":9,\"symbol\":\"triangle-up\"},\"mode\":\"markers\",\"name\":\"kidney\",\"showlegend\":false,\"x\":[null],\"y\":[null],\"type\":\"scatter\",\"xaxis\":\"x3\",\"yaxis\":\"y3\"},{\"legend\":\"legend\",\"marker\":{\"color\":\"gray\",\"line\":{\"color\":\"black\",\"width\":1},\"size\":9,\"symbol\":\"triangle-down\"},\"mode\":\"markers\",\"name\":\"spleen\",\"showlegend\":false,\"x\":[null],\"y\":[null],\"type\":\"scatter\",\"xaxis\":\"x3\",\"yaxis\":\"y3\"},{\"legend\":\"legend\",\"marker\":{\"color\":\"gray\",\"line\":{\"color\":\"black\",\"width\":1},\"size\":9,\"symbol\":\"triangle-left\"},\"mode\":\"markers\",\"name\":\"omentum\",\"showlegend\":false,\"x\":[null],\"y\":[null],\"type\":\"scatter\",\"xaxis\":\"x3\",\"yaxis\":\"y3\"},{\"legend\":\"legend\",\"marker\":{\"color\":\"gray\",\"line\":{\"color\":\"black\",\"width\":1},\"size\":9,\"symbol\":\"triangle-right\"},\"mode\":\"markers\",\"name\":\"lung\",\"showlegend\":false,\"x\":[null],\"y\":[null],\"type\":\"scatter\",\"xaxis\":\"x3\",\"yaxis\":\"y3\"},{\"legend\":\"legend\",\"marker\":{\"color\":\"gray\",\"line\":{\"color\":\"black\",\"width\":1},\"size\":9,\"symbol\":\"star\"},\"mode\":\"markers\",\"name\":\"skin\",\"showlegend\":false,\"x\":[null],\"y\":[null],\"type\":\"scatter\",\"xaxis\":\"x3\",\"yaxis\":\"y3\"},{\"legend\":\"legend\",\"marker\":{\"color\":\"gray\",\"line\":{\"color\":\"black\",\"width\":1},\"size\":9,\"symbol\":\"diamond-wide\"},\"mode\":\"markers\",\"name\":\"peritoneum\",\"showlegend\":false,\"x\":[null],\"y\":[null],\"type\":\"scatter\",\"xaxis\":\"x3\",\"yaxis\":\"y3\"},{\"legend\":\"legend\",\"marker\":{\"color\":\"gray\",\"line\":{\"color\":\"black\",\"width\":1},\"size\":9,\"symbol\":\"diamond-tall\"},\"mode\":\"markers\",\"name\":\"background\",\"showlegend\":false,\"x\":[null],\"y\":[null],\"type\":\"scatter\",\"xaxis\":\"x3\",\"yaxis\":\"y3\"},{\"legend\":\"legend\",\"legendgroup\":\"human2human\",\"marker\":{\"color\":\"#DDCB76\",\"line\":{\"color\":\"black\",\"width\":1},\"size\":9,\"symbol\":\"diamond-tall\"},\"mode\":\"markers\",\"name\":\"background\",\"showlegend\":false,\"x\":[0.0],\"y\":[0.9112859823045881],\"type\":\"scatter\",\"xaxis\":\"x3\",\"yaxis\":\"y3\"},{\"legend\":\"legend\",\"legendgroup\":\"human2human\",\"marker\":{\"color\":\"#DDCB76\",\"line\":{\"color\":\"black\",\"width\":1},\"size\":9,\"symbol\":\"star\"},\"mode\":\"markers\",\"name\":\"skin\",\"showlegend\":false,\"x\":[0.09333333333333334],\"y\":[0.829505754097626],\"type\":\"scatter\",\"xaxis\":\"x3\",\"yaxis\":\"y3\"},{\"legend\":\"legend\",\"legendgroup\":\"human2human\",\"marker\":{\"color\":\"#DDCB76\",\"line\":{\"color\":\"black\",\"width\":1},\"size\":9,\"symbol\":\"triangle-up\"},\"mode\":\"markers\",\"name\":\"kidney\",\"showlegend\":false,\"x\":[0.18666666666666668],\"y\":[0.8228463961819421],\"type\":\"scatter\",\"xaxis\":\"x3\",\"yaxis\":\"y3\"},{\"legend\":\"legend\",\"legendgroup\":\"human2human\",\"marker\":{\"color\":\"#DDCB76\",\"line\":{\"color\":\"black\",\"width\":1},\"size\":9,\"symbol\":\"triangle-left\"},\"mode\":\"markers\",\"name\":\"omentum\",\"showlegend\":false,\"x\":[0.28],\"y\":[0.7878670862176658],\"type\":\"scatter\",\"xaxis\":\"x3\",\"yaxis\":\"y3\"},{\"legend\":\"legend\",\"legendgroup\":\"human2human\",\"marker\":{\"color\":\"#DDCB76\",\"line\":{\"color\":\"black\",\"width\":1},\"size\":9,\"symbol\":\"triangle-right\"},\"mode\":\"markers\",\"name\":\"lung\",\"showlegend\":false,\"x\":[0.0],\"y\":[0.7217263008488549],\"type\":\"scatter\",\"xaxis\":\"x3\",\"yaxis\":\"y3\"},{\"legend\":\"legend\",\"legendgroup\":\"human2human\",\"marker\":{\"color\":\"#DDCB76\",\"line\":{\"color\":\"black\",\"width\":1},\"size\":9,\"symbol\":\"circle\"},\"mode\":\"markers\",\"name\":\"stomach\",\"showlegend\":false,\"x\":[0.09333333333333334],\"y\":[0.6835320053642087],\"type\":\"scatter\",\"xaxis\":\"x3\",\"yaxis\":\"y3\"},{\"legend\":\"legend\",\"legendgroup\":\"human2human\",\"marker\":{\"color\":\"#DDCB76\",\"line\":{\"color\":\"black\",\"width\":1},\"size\":9,\"symbol\":\"square\"},\"mode\":\"markers\",\"name\":\"small_bowel\",\"showlegend\":false,\"x\":[0.18666666666666668],\"y\":[0.6701935209314449],\"type\":\"scatter\",\"xaxis\":\"x3\",\"yaxis\":\"y3\"},{\"legend\":\"legend\",\"legendgroup\":\"human2human\",\"marker\":{\"color\":\"#DDCB76\",\"line\":{\"color\":\"black\",\"width\":1},\"size\":9,\"symbol\":\"diamond\"},\"mode\":\"markers\",\"name\":\"colon\",\"showlegend\":false,\"x\":[0.28],\"y\":[0.667581366116245],\"type\":\"scatter\",\"xaxis\":\"x3\",\"yaxis\":\"y3\"},{\"legend\":\"legend\",\"legendgroup\":\"human2human\",\"marker\":{\"color\":\"#DDCB76\",\"line\":{\"color\":\"black\",\"width\":1},\"size\":9,\"symbol\":\"cross\"},\"mode\":\"markers\",\"name\":\"liver\",\"showlegend\":false,\"x\":[0.0],\"y\":[0.649788762402672],\"type\":\"scatter\",\"xaxis\":\"x3\",\"yaxis\":\"y3\"},{\"legend\":\"legend\",\"legendgroup\":\"human2human\",\"marker\":{\"color\":\"#DDCB76\",\"line\":{\"color\":\"black\",\"width\":1},\"size\":9,\"symbol\":\"diamond-wide\"},\"mode\":\"markers\",\"name\":\"peritoneum\",\"showlegend\":false,\"x\":[0.09333333333333334],\"y\":[0.5752158881722489],\"type\":\"scatter\",\"xaxis\":\"x3\",\"yaxis\":\"y3\"},{\"legend\":\"legend\",\"legendgroup\":\"human2human\",\"marker\":{\"color\":\"#DDCB76\",\"line\":{\"color\":\"black\",\"width\":1},\"size\":9,\"symbol\":\"triangle-down\"},\"mode\":\"markers\",\"name\":\"spleen\",\"showlegend\":false,\"x\":[0.18666666666666668],\"y\":[0.5292904855062563],\"type\":\"scatter\",\"xaxis\":\"x3\",\"yaxis\":\"y3\"},{\"legend\":\"legend\",\"legendgroup\":\"human2human\",\"marker\":{\"color\":\"#DDCB76\",\"line\":{\"color\":\"black\",\"width\":1},\"size\":9,\"symbol\":\"x\"},\"mode\":\"markers\",\"name\":\"pancreas\",\"showlegend\":false,\"x\":[0.28],\"y\":[0.37731169027500244],\"type\":\"scatter\",\"xaxis\":\"x3\",\"yaxis\":\"y3\"},{\"boxmean\":true,\"boxpoints\":false,\"legend\":\"legend2\",\"legendgroup\":\"human2human\",\"line\":{\"color\":\"#DDCB76\"},\"name\":\"human2human\",\"showlegend\":false,\"x\":[0.6,0.6,0.6,0.6,0.6,0.6,0.6,0.6,0.6,0.6,0.6,0.6],\"y\":{\"dtype\":\"f8\",\"bdata\":\"Z6VpOEEp7T8NLramT4vqP+xzJ\\u002ffBVOo\\u002fPMocCTU26T9r4lnBYRjnP9TfGYN+3+U\\u002fYIjMrjly5T+\\u002fbNyY01zlP0N9es0Ry+Q\\u002fYtx6Jito4j+qqqqZ8u\\u002fgP6RLiO7fJdg\\u002f\"},\"type\":\"box\",\"xaxis\":\"x3\",\"yaxis\":\"y3\"},{\"legendgroup\":\"human2human\",\"line\":{\"color\":\"#DDCB76\",\"dash\":\"dot\"},\"mode\":\"lines\",\"name\":\"human2human\",\"showlegend\":false,\"text\":\"95\\u202f% CI mean: [0.66;0.71]\",\"x\":[0.5,0.5],\"y\":[0.6609889733181459,0.707612910609268],\"type\":\"scatter\",\"xaxis\":\"x3\",\"yaxis\":\"y3\"},{\"legendgroup\":\"human2human\",\"line\":{\"color\":\"#DDCB76\"},\"marker\":{\"size\":10,\"symbol\":\"triangle-down-open\"},\"mode\":\"markers\",\"name\":\"human2human\",\"showlegend\":false,\"text\":\"95\\u202f% CI mean: [0.66;0.71]\",\"x\":[0.5],\"y\":[0.6609889733181459],\"type\":\"scatter\",\"xaxis\":\"x3\",\"yaxis\":\"y3\"},{\"legendgroup\":\"human2human\",\"line\":{\"color\":\"#DDCB76\"},\"marker\":{\"size\":10,\"symbol\":\"triangle-up-open\"},\"mode\":\"markers\",\"name\":\"human2human\",\"showlegend\":false,\"text\":\"95\\u202f% CI mean: [0.66;0.71]\",\"x\":[0.5],\"y\":[0.707612910609268],\"type\":\"scatter\",\"xaxis\":\"x3\",\"yaxis\":\"y3\"},{\"legendgroup\":\"human2human\",\"line\":{\"color\":\"#DDCB76\",\"dash\":\"solid\"},\"mode\":\"lines\",\"name\":\"human2human\",\"showlegend\":false,\"text\":\"95\\u202f% CI median: [0.65;0.71]\",\"x\":[0.7,0.7],\"y\":[0.6540631209676793,0.7070246047854982],\"type\":\"scatter\",\"xaxis\":\"x3\",\"yaxis\":\"y3\"},{\"legendgroup\":\"human2human\",\"line\":{\"color\":\"#DDCB76\"},\"marker\":{\"size\":10,\"symbol\":\"triangle-down\"},\"mode\":\"markers\",\"name\":\"human2human\",\"showlegend\":false,\"text\":\"95\\u202f% CI median: [0.65;0.71]\",\"x\":[0.7],\"y\":[0.6540631209676793],\"type\":\"scatter\",\"xaxis\":\"x3\",\"yaxis\":\"y3\"},{\"legendgroup\":\"human2human\",\"line\":{\"color\":\"#DDCB76\"},\"marker\":{\"size\":10,\"symbol\":\"triangle-up\"},\"mode\":\"markers\",\"name\":\"human2human\",\"showlegend\":false,\"text\":\"95\\u202f% CI median: [0.65;0.71]\",\"x\":[0.7],\"y\":[0.7070246047854982],\"type\":\"scatter\",\"xaxis\":\"x3\",\"yaxis\":\"y3\"},{\"legend\":\"legend\",\"legendgroup\":\"pig-p+rat-p2human2human\",\"marker\":{\"color\":\"#DDCB76\",\"line\":{\"color\":\"black\",\"width\":1},\"size\":9,\"symbol\":\"diamond-tall\"},\"mode\":\"markers\",\"name\":\"background\",\"showlegend\":false,\"x\":[1.0],\"y\":[0.9052589365664354],\"type\":\"scatter\",\"xaxis\":\"x3\",\"yaxis\":\"y3\"},{\"legend\":\"legend\",\"legendgroup\":\"pig-p+rat-p2human2human\",\"marker\":{\"color\":\"#DDCB76\",\"line\":{\"color\":\"black\",\"width\":1},\"size\":9,\"symbol\":\"star\"},\"mode\":\"markers\",\"name\":\"skin\",\"showlegend\":false,\"x\":[1.0933333333333333],\"y\":[0.8436979546333312],\"type\":\"scatter\",\"xaxis\":\"x3\",\"yaxis\":\"y3\"},{\"legend\":\"legend\",\"legendgroup\":\"pig-p+rat-p2human2human\",\"marker\":{\"color\":\"#DDCB76\",\"line\":{\"color\":\"black\",\"width\":1},\"size\":9,\"symbol\":\"triangle-up\"},\"mode\":\"markers\",\"name\":\"kidney\",\"showlegend\":false,\"x\":[1.1866666666666668],\"y\":[0.8233003176119809],\"type\":\"scatter\",\"xaxis\":\"x3\",\"yaxis\":\"y3\"},{\"legend\":\"legend\",\"legendgroup\":\"pig-p+rat-p2human2human\",\"marker\":{\"color\":\"#DDCB76\",\"line\":{\"color\":\"black\",\"width\":1},\"size\":9,\"symbol\":\"triangle-left\"},\"mode\":\"markers\",\"name\":\"omentum\",\"showlegend\":false,\"x\":[1.28],\"y\":[0.7861065290403291],\"type\":\"scatter\",\"xaxis\":\"x3\",\"yaxis\":\"y3\"},{\"legend\":\"legend\",\"legendgroup\":\"pig-p+rat-p2human2human\",\"marker\":{\"color\":\"#DDCB76\",\"line\":{\"color\":\"black\",\"width\":1},\"size\":9,\"symbol\":\"triangle-right\"},\"mode\":\"markers\",\"name\":\"lung\",\"showlegend\":false,\"x\":[1.0],\"y\":[0.7458902781539493],\"type\":\"scatter\",\"xaxis\":\"x3\",\"yaxis\":\"y3\"},{\"legend\":\"legend\",\"legendgroup\":\"pig-p+rat-p2human2human\",\"marker\":{\"color\":\"#DDCB76\",\"line\":{\"color\":\"black\",\"width\":1},\"size\":9,\"symbol\":\"circle\"},\"mode\":\"markers\",\"name\":\"stomach\",\"showlegend\":false,\"x\":[1.0933333333333333],\"y\":[0.6733370478196581],\"type\":\"scatter\",\"xaxis\":\"x3\",\"yaxis\":\"y3\"},{\"legend\":\"legend\",\"legendgroup\":\"pig-p+rat-p2human2human\",\"marker\":{\"color\":\"#DDCB76\",\"line\":{\"color\":\"black\",\"width\":1},\"size\":9,\"symbol\":\"square\"},\"mode\":\"markers\",\"name\":\"small_bowel\",\"showlegend\":false,\"x\":[1.1866666666666668],\"y\":[0.6497456672256533],\"type\":\"scatter\",\"xaxis\":\"x3\",\"yaxis\":\"y3\"},{\"legend\":\"legend\",\"legendgroup\":\"pig-p+rat-p2human2human\",\"marker\":{\"color\":\"#DDCB76\",\"line\":{\"color\":\"black\",\"width\":1},\"size\":9,\"symbol\":\"diamond-wide\"},\"mode\":\"markers\",\"name\":\"peritoneum\",\"showlegend\":false,\"x\":[1.28],\"y\":[0.6446491405465244],\"type\":\"scatter\",\"xaxis\":\"x3\",\"yaxis\":\"y3\"},{\"legend\":\"legend\",\"legendgroup\":\"pig-p+rat-p2human2human\",\"marker\":{\"color\":\"#DDCB76\",\"line\":{\"color\":\"black\",\"width\":1},\"size\":9,\"symbol\":\"diamond\"},\"mode\":\"markers\",\"name\":\"colon\",\"showlegend\":false,\"x\":[1.0],\"y\":[0.6340137753958008],\"type\":\"scatter\",\"xaxis\":\"x3\",\"yaxis\":\"y3\"},{\"legend\":\"legend\",\"legendgroup\":\"pig-p+rat-p2human2human\",\"marker\":{\"color\":\"#DDCB76\",\"line\":{\"color\":\"black\",\"width\":1},\"size\":9,\"symbol\":\"cross\"},\"mode\":\"markers\",\"name\":\"liver\",\"showlegend\":false,\"x\":[1.0933333333333333],\"y\":[0.6222523063049297],\"type\":\"scatter\",\"xaxis\":\"x3\",\"yaxis\":\"y3\"},{\"legend\":\"legend\",\"legendgroup\":\"pig-p+rat-p2human2human\",\"marker\":{\"color\":\"#DDCB76\",\"line\":{\"color\":\"black\",\"width\":1},\"size\":9,\"symbol\":\"triangle-down\"},\"mode\":\"markers\",\"name\":\"spleen\",\"showlegend\":false,\"x\":[1.1866666666666668],\"y\":[0.5245673508383333],\"type\":\"scatter\",\"xaxis\":\"x3\",\"yaxis\":\"y3\"},{\"legend\":\"legend\",\"legendgroup\":\"pig-p+rat-p2human2human\",\"marker\":{\"color\":\"#DDCB76\",\"line\":{\"color\":\"black\",\"width\":1},\"size\":9,\"symbol\":\"x\"},\"mode\":\"markers\",\"name\":\"pancreas\",\"showlegend\":false,\"x\":[1.28],\"y\":[0.409981207636106],\"type\":\"scatter\",\"xaxis\":\"x3\",\"yaxis\":\"y3\"},{\"boxmean\":true,\"boxpoints\":false,\"legend\":\"legend2\",\"legendgroup\":\"pig-p+rat-p2human2human\",\"line\":{\"color\":\"#DDCB76\"},\"name\":\"pig-p+rat-p2human2human\",\"showlegend\":false,\"x\":[1.6,1.6,1.6,1.6,1.6,1.6,1.6,1.6,1.6,1.6,1.6,1.6],\"y\":{\"dtype\":\"f8\",\"bdata\":\"1N3eluH37D+gRVvakv\\u002fqP4DBXeh5WOo\\u002fKM8s4cgn6T\\u002fzauJJVd7nP4RC8iL6i+U\\u002fzXXubLfK5D+sVgE896DkPwQ70UHXSeQ\\u002fghYuq33p4z\\u002fMzAx4QcngP+RisdEhPdo\\u002f\"},\"type\":\"box\",\"xaxis\":\"x3\",\"yaxis\":\"y3\"},{\"legendgroup\":\"pig-p+rat-p2human2human\",\"line\":{\"color\":\"#DDCB76\",\"dash\":\"dot\"},\"mode\":\"lines\",\"name\":\"pig-p+rat-p2human2human\",\"showlegend\":false,\"text\":\"95\\u202f% CI mean: [0.67;0.71]\",\"x\":[1.5,1.5],\"y\":[0.6658682175964472,0.7079881626226866],\"type\":\"scatter\",\"xaxis\":\"x3\",\"yaxis\":\"y3\"},{\"legendgroup\":\"pig-p+rat-p2human2human\",\"line\":{\"color\":\"#DDCB76\"},\"marker\":{\"size\":10,\"symbol\":\"triangle-down-open\"},\"mode\":\"markers\",\"name\":\"pig-p+rat-p2human2human\",\"showlegend\":false,\"text\":\"95\\u202f% CI mean: [0.67;0.71]\",\"x\":[1.5],\"y\":[0.6658682175964472],\"type\":\"scatter\",\"xaxis\":\"x3\",\"yaxis\":\"y3\"},{\"legendgroup\":\"pig-p+rat-p2human2human\",\"line\":{\"color\":\"#DDCB76\"},\"marker\":{\"size\":10,\"symbol\":\"triangle-up-open\"},\"mode\":\"markers\",\"name\":\"pig-p+rat-p2human2human\",\"showlegend\":false,\"text\":\"95\\u202f% CI mean: [0.67;0.71]\",\"x\":[1.5],\"y\":[0.7079881626226866],\"type\":\"scatter\",\"xaxis\":\"x3\",\"yaxis\":\"y3\"},{\"legendgroup\":\"pig-p+rat-p2human2human\",\"line\":{\"color\":\"#DDCB76\",\"dash\":\"solid\"},\"mode\":\"lines\",\"name\":\"pig-p+rat-p2human2human\",\"showlegend\":false,\"text\":\"95\\u202f% CI median: [0.64;0.71]\",\"x\":[1.7,1.7],\"y\":[0.6407730355945848,0.7081046613650955],\"type\":\"scatter\",\"xaxis\":\"x3\",\"yaxis\":\"y3\"},{\"legendgroup\":\"pig-p+rat-p2human2human\",\"line\":{\"color\":\"#DDCB76\"},\"marker\":{\"size\":10,\"symbol\":\"triangle-down\"},\"mode\":\"markers\",\"name\":\"pig-p+rat-p2human2human\",\"showlegend\":false,\"text\":\"95\\u202f% CI median: [0.64;0.71]\",\"x\":[1.7],\"y\":[0.6407730355945848],\"type\":\"scatter\",\"xaxis\":\"x3\",\"yaxis\":\"y3\"},{\"legendgroup\":\"pig-p+rat-p2human2human\",\"line\":{\"color\":\"#DDCB76\"},\"marker\":{\"size\":10,\"symbol\":\"triangle-up\"},\"mode\":\"markers\",\"name\":\"pig-p+rat-p2human2human\",\"showlegend\":false,\"text\":\"95\\u202f% CI median: [0.64;0.71]\",\"x\":[1.7],\"y\":[0.7081046613650955],\"type\":\"scatter\",\"xaxis\":\"x3\",\"yaxis\":\"y3\"}],                        {\"template\":{\"data\":{\"barpolar\":[{\"marker\":{\"line\":{\"color\":\"white\",\"width\":0.5},\"pattern\":{\"fillmode\":\"overlay\",\"size\":10,\"solidity\":0.2}},\"type\":\"barpolar\"}],\"bar\":[{\"error_x\":{\"color\":\"#2a3f5f\"},\"error_y\":{\"color\":\"#2a3f5f\"},\"marker\":{\"line\":{\"color\":\"white\",\"width\":0.5},\"pattern\":{\"fillmode\":\"overlay\",\"size\":10,\"solidity\":0.2}},\"type\":\"bar\"}],\"carpet\":[{\"aaxis\":{\"endlinecolor\":\"#2a3f5f\",\"gridcolor\":\"#C8D4E3\",\"linecolor\":\"#C8D4E3\",\"minorgridcolor\":\"#C8D4E3\",\"startlinecolor\":\"#2a3f5f\"},\"baxis\":{\"endlinecolor\":\"#2a3f5f\",\"gridcolor\":\"#C8D4E3\",\"linecolor\":\"#C8D4E3\",\"minorgridcolor\":\"#C8D4E3\",\"startlinecolor\":\"#2a3f5f\"},\"type\":\"carpet\"}],\"choropleth\":[{\"colorbar\":{\"outlinewidth\":0,\"ticks\":\"\"},\"type\":\"choropleth\"}],\"contourcarpet\":[{\"colorbar\":{\"outlinewidth\":0,\"ticks\":\"\"},\"type\":\"contourcarpet\"}],\"contour\":[{\"colorbar\":{\"outlinewidth\":0,\"ticks\":\"\"},\"colorscale\":[[0.0,\"#0d0887\"],[0.1111111111111111,\"#46039f\"],[0.2222222222222222,\"#7201a8\"],[0.3333333333333333,\"#9c179e\"],[0.4444444444444444,\"#bd3786\"],[0.5555555555555556,\"#d8576b\"],[0.6666666666666666,\"#ed7953\"],[0.7777777777777778,\"#fb9f3a\"],[0.8888888888888888,\"#fdca26\"],[1.0,\"#f0f921\"]],\"type\":\"contour\"}],\"heatmap\":[{\"colorbar\":{\"outlinewidth\":0,\"ticks\":\"\"},\"colorscale\":[[0.0,\"#0d0887\"],[0.1111111111111111,\"#46039f\"],[0.2222222222222222,\"#7201a8\"],[0.3333333333333333,\"#9c179e\"],[0.4444444444444444,\"#bd3786\"],[0.5555555555555556,\"#d8576b\"],[0.6666666666666666,\"#ed7953\"],[0.7777777777777778,\"#fb9f3a\"],[0.8888888888888888,\"#fdca26\"],[1.0,\"#f0f921\"]],\"type\":\"heatmap\"}],\"histogram2dcontour\":[{\"colorbar\":{\"outlinewidth\":0,\"ticks\":\"\"},\"colorscale\":[[0.0,\"#0d0887\"],[0.1111111111111111,\"#46039f\"],[0.2222222222222222,\"#7201a8\"],[0.3333333333333333,\"#9c179e\"],[0.4444444444444444,\"#bd3786\"],[0.5555555555555556,\"#d8576b\"],[0.6666666666666666,\"#ed7953\"],[0.7777777777777778,\"#fb9f3a\"],[0.8888888888888888,\"#fdca26\"],[1.0,\"#f0f921\"]],\"type\":\"histogram2dcontour\"}],\"histogram2d\":[{\"colorbar\":{\"outlinewidth\":0,\"ticks\":\"\"},\"colorscale\":[[0.0,\"#0d0887\"],[0.1111111111111111,\"#46039f\"],[0.2222222222222222,\"#7201a8\"],[0.3333333333333333,\"#9c179e\"],[0.4444444444444444,\"#bd3786\"],[0.5555555555555556,\"#d8576b\"],[0.6666666666666666,\"#ed7953\"],[0.7777777777777778,\"#fb9f3a\"],[0.8888888888888888,\"#fdca26\"],[1.0,\"#f0f921\"]],\"type\":\"histogram2d\"}],\"histogram\":[{\"marker\":{\"pattern\":{\"fillmode\":\"overlay\",\"size\":10,\"solidity\":0.2}},\"type\":\"histogram\"}],\"mesh3d\":[{\"colorbar\":{\"outlinewidth\":0,\"ticks\":\"\"},\"type\":\"mesh3d\"}],\"parcoords\":[{\"line\":{\"colorbar\":{\"outlinewidth\":0,\"ticks\":\"\"}},\"type\":\"parcoords\"}],\"pie\":[{\"automargin\":true,\"type\":\"pie\"}],\"scatter3d\":[{\"line\":{\"colorbar\":{\"outlinewidth\":0,\"ticks\":\"\"}},\"marker\":{\"colorbar\":{\"outlinewidth\":0,\"ticks\":\"\"}},\"type\":\"scatter3d\"}],\"scattercarpet\":[{\"marker\":{\"colorbar\":{\"outlinewidth\":0,\"ticks\":\"\"}},\"type\":\"scattercarpet\"}],\"scattergeo\":[{\"marker\":{\"colorbar\":{\"outlinewidth\":0,\"ticks\":\"\"}},\"type\":\"scattergeo\"}],\"scattergl\":[{\"marker\":{\"colorbar\":{\"outlinewidth\":0,\"ticks\":\"\"}},\"type\":\"scattergl\"}],\"scattermapbox\":[{\"marker\":{\"colorbar\":{\"outlinewidth\":0,\"ticks\":\"\"}},\"type\":\"scattermapbox\"}],\"scattermap\":[{\"marker\":{\"colorbar\":{\"outlinewidth\":0,\"ticks\":\"\"}},\"type\":\"scattermap\"}],\"scatterpolargl\":[{\"marker\":{\"colorbar\":{\"outlinewidth\":0,\"ticks\":\"\"}},\"type\":\"scatterpolargl\"}],\"scatterpolar\":[{\"marker\":{\"colorbar\":{\"outlinewidth\":0,\"ticks\":\"\"}},\"type\":\"scatterpolar\"}],\"scatter\":[{\"fillpattern\":{\"fillmode\":\"overlay\",\"size\":10,\"solidity\":0.2},\"type\":\"scatter\"}],\"scatterternary\":[{\"marker\":{\"colorbar\":{\"outlinewidth\":0,\"ticks\":\"\"}},\"type\":\"scatterternary\"}],\"surface\":[{\"colorbar\":{\"outlinewidth\":0,\"ticks\":\"\"},\"colorscale\":[[0.0,\"#0d0887\"],[0.1111111111111111,\"#46039f\"],[0.2222222222222222,\"#7201a8\"],[0.3333333333333333,\"#9c179e\"],[0.4444444444444444,\"#bd3786\"],[0.5555555555555556,\"#d8576b\"],[0.6666666666666666,\"#ed7953\"],[0.7777777777777778,\"#fb9f3a\"],[0.8888888888888888,\"#fdca26\"],[1.0,\"#f0f921\"]],\"type\":\"surface\"}],\"table\":[{\"cells\":{\"fill\":{\"color\":\"#EBF0F8\"},\"line\":{\"color\":\"white\"}},\"header\":{\"fill\":{\"color\":\"#C8D4E3\"},\"line\":{\"color\":\"white\"}},\"type\":\"table\"}]},\"layout\":{\"annotationdefaults\":{\"arrowcolor\":\"#2a3f5f\",\"arrowhead\":0,\"arrowwidth\":1},\"autotypenumbers\":\"strict\",\"coloraxis\":{\"colorbar\":{\"outlinewidth\":0,\"ticks\":\"\"}},\"colorscale\":{\"diverging\":[[0,\"#8e0152\"],[0.1,\"#c51b7d\"],[0.2,\"#de77ae\"],[0.3,\"#f1b6da\"],[0.4,\"#fde0ef\"],[0.5,\"#f7f7f7\"],[0.6,\"#e6f5d0\"],[0.7,\"#b8e186\"],[0.8,\"#7fbc41\"],[0.9,\"#4d9221\"],[1,\"#276419\"]],\"sequential\":[[0.0,\"#0d0887\"],[0.1111111111111111,\"#46039f\"],[0.2222222222222222,\"#7201a8\"],[0.3333333333333333,\"#9c179e\"],[0.4444444444444444,\"#bd3786\"],[0.5555555555555556,\"#d8576b\"],[0.6666666666666666,\"#ed7953\"],[0.7777777777777778,\"#fb9f3a\"],[0.8888888888888888,\"#fdca26\"],[1.0,\"#f0f921\"]],\"sequentialminus\":[[0.0,\"#0d0887\"],[0.1111111111111111,\"#46039f\"],[0.2222222222222222,\"#7201a8\"],[0.3333333333333333,\"#9c179e\"],[0.4444444444444444,\"#bd3786\"],[0.5555555555555556,\"#d8576b\"],[0.6666666666666666,\"#ed7953\"],[0.7777777777777778,\"#fb9f3a\"],[0.8888888888888888,\"#fdca26\"],[1.0,\"#f0f921\"]]},\"colorway\":[\"#636efa\",\"#EF553B\",\"#00cc96\",\"#ab63fa\",\"#FFA15A\",\"#19d3f3\",\"#FF6692\",\"#B6E880\",\"#FF97FF\",\"#FECB52\"],\"font\":{\"color\":\"#2a3f5f\"},\"geo\":{\"bgcolor\":\"white\",\"lakecolor\":\"white\",\"landcolor\":\"white\",\"showlakes\":true,\"showland\":true,\"subunitcolor\":\"#C8D4E3\"},\"hoverlabel\":{\"align\":\"left\"},\"hovermode\":\"closest\",\"mapbox\":{\"style\":\"light\"},\"paper_bgcolor\":\"white\",\"plot_bgcolor\":\"white\",\"polar\":{\"angularaxis\":{\"gridcolor\":\"#EBF0F8\",\"linecolor\":\"#EBF0F8\",\"ticks\":\"\"},\"bgcolor\":\"white\",\"radialaxis\":{\"gridcolor\":\"#EBF0F8\",\"linecolor\":\"#EBF0F8\",\"ticks\":\"\"}},\"scene\":{\"xaxis\":{\"backgroundcolor\":\"white\",\"gridcolor\":\"#DFE8F3\",\"gridwidth\":2,\"linecolor\":\"#EBF0F8\",\"showbackground\":true,\"ticks\":\"\",\"zerolinecolor\":\"#EBF0F8\"},\"yaxis\":{\"backgroundcolor\":\"white\",\"gridcolor\":\"#DFE8F3\",\"gridwidth\":2,\"linecolor\":\"#EBF0F8\",\"showbackground\":true,\"ticks\":\"\",\"zerolinecolor\":\"#EBF0F8\"},\"zaxis\":{\"backgroundcolor\":\"white\",\"gridcolor\":\"#DFE8F3\",\"gridwidth\":2,\"linecolor\":\"#EBF0F8\",\"showbackground\":true,\"ticks\":\"\",\"zerolinecolor\":\"#EBF0F8\"}},\"shapedefaults\":{\"line\":{\"color\":\"#2a3f5f\"}},\"ternary\":{\"aaxis\":{\"gridcolor\":\"#DFE8F3\",\"linecolor\":\"#A2B1C6\",\"ticks\":\"\"},\"baxis\":{\"gridcolor\":\"#DFE8F3\",\"linecolor\":\"#A2B1C6\",\"ticks\":\"\"},\"bgcolor\":\"white\",\"caxis\":{\"gridcolor\":\"#DFE8F3\",\"linecolor\":\"#A2B1C6\",\"ticks\":\"\"}},\"title\":{\"x\":0.05},\"xaxis\":{\"automargin\":true,\"gridcolor\":\"#EBF0F8\",\"linecolor\":\"#EBF0F8\",\"ticks\":\"\",\"title\":{\"standoff\":15},\"zerolinecolor\":\"#EBF0F8\",\"zerolinewidth\":2},\"yaxis\":{\"automargin\":true,\"gridcolor\":\"#EBF0F8\",\"linecolor\":\"#EBF0F8\",\"ticks\":\"\",\"title\":{\"standoff\":15},\"zerolinecolor\":\"#EBF0F8\",\"zerolinewidth\":2}}},\"xaxis\":{\"anchor\":\"y\",\"domain\":[0.0,0.3525],\"showticklabels\":false},\"yaxis\":{\"anchor\":\"x\",\"domain\":[0.0,1.0],\"zeroline\":false,\"title\":{\"text\":\"\\u003cb\\u003eNSD\\u003c\\u002fb\\u003e\",\"standoff\":12}},\"xaxis2\":{\"anchor\":\"y2\",\"domain\":[0.38249999999999995,0.7349999999999999],\"showticklabels\":false},\"yaxis2\":{\"anchor\":\"x2\",\"domain\":[0.0,1.0],\"matches\":\"y\",\"showticklabels\":false,\"zeroline\":false},\"xaxis3\":{\"anchor\":\"y3\",\"domain\":[0.7649999999999999,0.9999999999999999],\"showticklabels\":false},\"yaxis3\":{\"anchor\":\"x3\",\"domain\":[0.0,1.0],\"matches\":\"y\",\"showticklabels\":false,\"zeroline\":false},\"height\":400,\"width\":1200,\"font\":{\"family\":\"Libertinus Sans\",\"size\":16},\"showlegend\":false,\"legend\":{\"title\":{},\"orientation\":\"h\",\"yanchor\":\"bottom\",\"y\":1.05,\"xanchor\":\"center\",\"x\":0.2},\"legend2\":{\"title\":{},\"orientation\":\"h\",\"yanchor\":\"bottom\",\"y\":1.05,\"xanchor\":\"center\",\"x\":0.8},\"margin\":{\"l\":0,\"r\":0,\"t\":0,\"b\":0}},                        {\"responsive\": true}                    ).then(function(){\n",
       "                            \n",
       "var gd = document.getElementById('3906a7c8-603d-41d4-89e7-a54d87bdc1f7');\n",
       "var x = new MutationObserver(function (mutations, observer) {{\n",
       "        var display = window.getComputedStyle(gd).display;\n",
       "        if (!display || display === 'none') {{\n",
       "            console.log([gd, 'removed!']);\n",
       "            Plotly.purge(gd);\n",
       "            observer.disconnect();\n",
       "        }}\n",
       "}});\n",
       "\n",
       "// Listen for the removal of the full notebook cells\n",
       "var notebookContainer = gd.closest('#notebook-container');\n",
       "if (notebookContainer) {{\n",
       "    x.observe(notebookContainer, {childList: true});\n",
       "}}\n",
       "\n",
       "// Listen for the clearing of the current output cell\n",
       "var outputEl = gd.closest('.output');\n",
       "if (outputEl) {{\n",
       "    x.observe(outputEl, {childList: true});\n",
       "}}\n",
       "\n",
       "                        })                };            </script>        </div>"
      ]
     },
     "metadata": {},
     "output_type": "display_data"
    }
   ],
   "source": [
    "species_comparison(settings_seg.nsd_aggregation_short, \"NSD\")"
   ]
  }
 ],
 "metadata": {
  "kernelspec": {
   "display_name": "htc",
   "language": "python",
   "name": "python3"
  },
  "language_info": {
   "codemirror_mode": {
    "name": "ipython",
    "version": 3
   },
   "file_extension": ".py",
   "mimetype": "text/x-python",
   "name": "python",
   "nbconvert_exporter": "python",
   "pygments_lexer": "ipython3",
   "version": "3.13.3"
  }
 },
 "nbformat": 4,
 "nbformat_minor": 2
}
