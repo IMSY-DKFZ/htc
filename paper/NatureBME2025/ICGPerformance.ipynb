{
 "cells": [
  {
   "cell_type": "code",
   "execution_count": 1,
   "metadata": {},
   "outputs": [],
   "source": [
    "%load_ext autoreload\n",
    "%autoreload 2\n",
    "\n",
    "import plotly.graph_objects as go\n",
    "import plotly.io as pio\n",
    "from plotly.subplots import make_subplots\n",
    "\n",
    "from htc_projects.rat.settings_rat import settings_rat\n",
    "from htc_projects.species.settings_species import settings_species\n",
    "from htc_projects.species.species_evaluation import icg_performance\n",
    "\n",
    "pio.kaleido.scope.mathjax = None"
   ]
  },
  {
   "cell_type": "code",
   "execution_count": 2,
   "metadata": {},
   "outputs": [
    {
     "data": {
      "text/html": [
       "<div>\n",
       "<style scoped>\n",
       "    .dataframe tbody tr th:only-of-type {\n",
       "        vertical-align: middle;\n",
       "    }\n",
       "\n",
       "    .dataframe tbody tr th {\n",
       "        vertical-align: top;\n",
       "    }\n",
       "\n",
       "    .dataframe thead th {\n",
       "        text-align: right;\n",
       "    }\n",
       "</style>\n",
       "<table border=\"1\" class=\"dataframe\">\n",
       "  <thead>\n",
       "    <tr style=\"text-align: right;\">\n",
       "      <th></th>\n",
       "      <th>subject_name</th>\n",
       "      <th>label_index</th>\n",
       "      <th>dice_metric</th>\n",
       "      <th>label_name</th>\n",
       "      <th>network</th>\n",
       "      <th>species</th>\n",
       "    </tr>\n",
       "  </thead>\n",
       "  <tbody>\n",
       "    <tr>\n",
       "      <th>0</th>\n",
       "      <td>P005</td>\n",
       "      <td>1</td>\n",
       "      <td>0.000000</td>\n",
       "      <td>stomach</td>\n",
       "      <td>baseline_pig</td>\n",
       "      <td>pig</td>\n",
       "    </tr>\n",
       "    <tr>\n",
       "      <th>1</th>\n",
       "      <td>P113</td>\n",
       "      <td>1</td>\n",
       "      <td>0.174575</td>\n",
       "      <td>stomach</td>\n",
       "      <td>baseline_pig</td>\n",
       "      <td>pig</td>\n",
       "    </tr>\n",
       "    <tr>\n",
       "      <th>2</th>\n",
       "      <td>P105</td>\n",
       "      <td>1</td>\n",
       "      <td>0.564883</td>\n",
       "      <td>stomach</td>\n",
       "      <td>baseline_pig</td>\n",
       "      <td>pig</td>\n",
       "    </tr>\n",
       "    <tr>\n",
       "      <th>3</th>\n",
       "      <td>P104</td>\n",
       "      <td>1</td>\n",
       "      <td>0.840330</td>\n",
       "      <td>stomach</td>\n",
       "      <td>baseline_pig</td>\n",
       "      <td>pig</td>\n",
       "    </tr>\n",
       "    <tr>\n",
       "      <th>4</th>\n",
       "      <td>P102</td>\n",
       "      <td>1</td>\n",
       "      <td>0.992782</td>\n",
       "      <td>stomach</td>\n",
       "      <td>baseline_pig</td>\n",
       "      <td>pig</td>\n",
       "    </tr>\n",
       "    <tr>\n",
       "      <th>...</th>\n",
       "      <td>...</td>\n",
       "      <td>...</td>\n",
       "      <td>...</td>\n",
       "      <td>...</td>\n",
       "      <td>...</td>\n",
       "      <td>...</td>\n",
       "    </tr>\n",
       "    <tr>\n",
       "      <th>221</th>\n",
       "      <td>R046</td>\n",
       "      <td>11</td>\n",
       "      <td>0.999960</td>\n",
       "      <td>peritoneum</td>\n",
       "      <td>projected-ICG_pig2rat</td>\n",
       "      <td>rat</td>\n",
       "    </tr>\n",
       "    <tr>\n",
       "      <th>222</th>\n",
       "      <td>R044</td>\n",
       "      <td>11</td>\n",
       "      <td>0.887747</td>\n",
       "      <td>peritoneum</td>\n",
       "      <td>projected-ICG_pig2rat</td>\n",
       "      <td>rat</td>\n",
       "    </tr>\n",
       "    <tr>\n",
       "      <th>223</th>\n",
       "      <td>R043</td>\n",
       "      <td>11</td>\n",
       "      <td>0.999951</td>\n",
       "      <td>peritoneum</td>\n",
       "      <td>projected-ICG_pig2rat</td>\n",
       "      <td>rat</td>\n",
       "    </tr>\n",
       "    <tr>\n",
       "      <th>224</th>\n",
       "      <td>R047</td>\n",
       "      <td>11</td>\n",
       "      <td>0.988994</td>\n",
       "      <td>peritoneum</td>\n",
       "      <td>projected-ICG_pig2rat</td>\n",
       "      <td>rat</td>\n",
       "    </tr>\n",
       "    <tr>\n",
       "      <th>225</th>\n",
       "      <td>R048</td>\n",
       "      <td>11</td>\n",
       "      <td>0.999982</td>\n",
       "      <td>peritoneum</td>\n",
       "      <td>projected-ICG_pig2rat</td>\n",
       "      <td>rat</td>\n",
       "    </tr>\n",
       "  </tbody>\n",
       "</table>\n",
       "<p>226 rows × 6 columns</p>\n",
       "</div>"
      ],
      "text/plain": [
       "    subject_name  label_index  dice_metric  label_name                network  \\\n",
       "0           P005            1     0.000000     stomach           baseline_pig   \n",
       "1           P113            1     0.174575     stomach           baseline_pig   \n",
       "2           P105            1     0.564883     stomach           baseline_pig   \n",
       "3           P104            1     0.840330     stomach           baseline_pig   \n",
       "4           P102            1     0.992782     stomach           baseline_pig   \n",
       "..           ...          ...          ...         ...                    ...   \n",
       "221         R046           11     0.999960  peritoneum  projected-ICG_pig2rat   \n",
       "222         R044           11     0.887747  peritoneum  projected-ICG_pig2rat   \n",
       "223         R043           11     0.999951  peritoneum  projected-ICG_pig2rat   \n",
       "224         R047           11     0.988994  peritoneum  projected-ICG_pig2rat   \n",
       "225         R048           11     0.999982  peritoneum  projected-ICG_pig2rat   \n",
       "\n",
       "    species  \n",
       "0       pig  \n",
       "1       pig  \n",
       "2       pig  \n",
       "3       pig  \n",
       "4       pig  \n",
       "..      ...  \n",
       "221     rat  \n",
       "222     rat  \n",
       "223     rat  \n",
       "224     rat  \n",
       "225     rat  \n",
       "\n",
       "[226 rows x 6 columns]"
      ]
     },
     "execution_count": 2,
     "metadata": {},
     "output_type": "execute_result"
    }
   ],
   "source": [
    "df = icg_performance()\n",
    "df"
   ]
  },
  {
   "cell_type": "code",
   "execution_count": 3,
   "metadata": {},
   "outputs": [
    {
     "data": {
      "text/html": [
       "        <script type=\"text/javascript\">\n",
       "        window.PlotlyConfig = {MathJaxConfig: 'local'};\n",
       "        if (window.MathJax && window.MathJax.Hub && window.MathJax.Hub.Config) {window.MathJax.Hub.Config({SVG: {font: \"STIX-Web\"}});}\n",
       "        </script>\n",
       "        <script type=\"module\">import \"https://cdn.plot.ly/plotly-3.0.1.min\"</script>\n",
       "        "
      ]
     },
     "metadata": {},
     "output_type": "display_data"
    },
    {
     "data": {
      "application/vnd.plotly.v1+json": {
       "config": {
        "plotlyServerURL": "https://plot.ly"
       },
       "data": [
        {
         "boxmean": true,
         "boxpoints": "all",
         "hovertext": [
          "P005",
          "P113",
          "P105",
          "P104",
          "P102",
          "P101",
          "P076",
          "P027",
          "P025",
          "P103",
          "P013",
          "P008",
          "P007",
          "P006"
         ],
         "legendgroup": "baseline",
         "marker": {
          "color": "#44AA99"
         },
         "name": "baseline",
         "offsetgroup": "baseline",
         "showlegend": false,
         "text": [
          "stomach",
          "stomach",
          "stomach",
          "stomach",
          "stomach",
          "stomach",
          "stomach",
          "stomach",
          "stomach",
          "stomach",
          "stomach",
          "stomach",
          "stomach",
          "stomach"
         ],
         "type": "box",
         "x": [
          "stomach",
          "stomach",
          "stomach",
          "stomach",
          "stomach",
          "stomach",
          "stomach",
          "stomach",
          "stomach",
          "stomach",
          "stomach",
          "stomach",
          "stomach",
          "stomach"
         ],
         "xaxis": "x",
         "y": {
          "bdata": "AAAAAAAAAAAUO7ETdVjGP+/u7u6EE+I/VVVVVfvj6j+jiy663sTvPwAAAIBRsdg/ZmZmZj6e2D8AAAAAAAAAAAAAAAAAAAAA7+7u7vKO7z8AAAAAAAAAAAAAAAAAAAAAAAAAAAAAAAAAAAAAAAAAAA==",
          "dtype": "f8"
         },
         "yaxis": "y"
        },
        {
         "boxmean": true,
         "boxpoints": "all",
         "hovertext": [
          "P014",
          "P103",
          "P105",
          "P102",
          "P013",
          "P005",
          "P113",
          "P104",
          "P006",
          "P101",
          "P076"
         ],
         "legendgroup": "baseline",
         "marker": {
          "color": "#44AA99"
         },
         "name": "baseline",
         "offsetgroup": "baseline",
         "showlegend": false,
         "text": [
          "small_bowel",
          "small_bowel",
          "small_bowel",
          "small_bowel",
          "small_bowel",
          "small_bowel",
          "small_bowel",
          "small_bowel",
          "small_bowel",
          "small_bowel",
          "small_bowel"
         ],
         "type": "box",
         "x": [
          "small bowel",
          "small bowel",
          "small bowel",
          "small bowel",
          "small bowel",
          "small bowel",
          "small bowel",
          "small bowel",
          "small bowel",
          "small bowel",
          "small bowel"
         ],
         "xaxis": "x",
         "y": {
          "bdata": "AAAAAAAA8D+amZmZmfzhP6OLLrpHp5Y/XkN5DeU1tD8AAAAAAADwP1VVVdWjFu8/2TMQlc5Vsj8AAAAAAAAAAAAAAAAAAPA/AAAAAAAAAAD5iq/4xiuBPw==",
          "dtype": "f8"
         },
         "yaxis": "y"
        },
        {
         "boxmean": true,
         "boxpoints": "all",
         "hovertext": [
          "P101",
          "P076",
          "P105",
          "P113",
          "P103",
          "P104",
          "P102"
         ],
         "legendgroup": "baseline",
         "marker": {
          "color": "#44AA99"
         },
         "name": "baseline",
         "offsetgroup": "baseline",
         "showlegend": false,
         "text": [
          "colon",
          "colon",
          "colon",
          "colon",
          "colon",
          "colon",
          "colon"
         ],
         "type": "box",
         "x": [
          "colon",
          "colon",
          "colon",
          "colon",
          "colon",
          "colon",
          "colon"
         ],
         "xaxis": "x",
         "y": {
          "bdata": "AAAAAAAA8D+amZmZfaLaPwAAAAAAAPA/27Zt21lu5z9VVVVVAAHjP2ZmZma0qe4/bzBFPkP64D8=",
          "dtype": "f8"
         },
         "yaxis": "y"
        },
        {
         "boxmean": true,
         "boxpoints": "all",
         "hovertext": [
          "P102",
          "P105",
          "P103",
          "P113",
          "P101",
          "P076",
          "P104"
         ],
         "legendgroup": "baseline",
         "marker": {
          "color": "#44AA99"
         },
         "name": "baseline",
         "offsetgroup": "baseline",
         "showlegend": false,
         "text": [
          "liver",
          "liver",
          "liver",
          "liver",
          "liver",
          "liver",
          "liver"
         ],
         "type": "box",
         "x": [
          "liver",
          "liver",
          "liver",
          "liver",
          "liver",
          "liver",
          "liver"
         ],
         "xaxis": "x",
         "y": {
          "bdata": "AAAAAAAAAAAAAAAAAAAAAAAAAAAAAAAAAAAAAAAAAAAAAAAAAAAAAAAAAAAAAAAAAAAAAAAAAAA=",
          "dtype": "f8"
         },
         "yaxis": "y"
        },
        {
         "boxmean": true,
         "boxpoints": "all",
         "hovertext": [
          "P103",
          "P102",
          "P113",
          "P101",
          "P104",
          "P105"
         ],
         "legendgroup": "baseline",
         "marker": {
          "color": "#44AA99"
         },
         "name": "baseline",
         "offsetgroup": "baseline",
         "showlegend": false,
         "text": [
          "pancreas",
          "pancreas",
          "pancreas",
          "pancreas",
          "pancreas",
          "pancreas"
         ],
         "type": "box",
         "x": [
          "pancreas",
          "pancreas",
          "pancreas",
          "pancreas",
          "pancreas",
          "pancreas"
         ],
         "xaxis": "x",
         "y": {
          "bdata": "VVVVVZ2W7z9VVVWVVJvkPwAAAMAqYW0/x3EcxzBe1T8AAACAGOPYPwAAAAAAAAAA",
          "dtype": "f8"
         },
         "yaxis": "y"
        },
        {
         "boxmean": true,
         "boxpoints": "all",
         "hovertext": [
          "P104",
          "P005",
          "P113",
          "P105",
          "P103",
          "P101",
          "P102"
         ],
         "legendgroup": "baseline",
         "marker": {
          "color": "#44AA99"
         },
         "name": "baseline",
         "offsetgroup": "baseline",
         "showlegend": false,
         "text": [
          "kidney",
          "kidney",
          "kidney",
          "kidney",
          "kidney",
          "kidney",
          "kidney"
         ],
         "type": "box",
         "x": [
          "kidney",
          "kidney",
          "kidney",
          "kidney",
          "kidney",
          "kidney",
          "kidney"
         ],
         "xaxis": "x",
         "y": {
          "bdata": "q6qqKsK17j8AAAAAAADwPwAAAAAAAAAAVVVVVSEa7T+rqqqq9zPiP1VVVdXa1uo/q6qqqkcR6z8=",
          "dtype": "f8"
         },
         "yaxis": "y"
        },
        {
         "boxmean": true,
         "boxpoints": "all",
         "hovertext": [
          "P102",
          "P105",
          "P113",
          "P101",
          "P104",
          "P103"
         ],
         "legendgroup": "baseline",
         "marker": {
          "color": "#44AA99"
         },
         "name": "baseline",
         "offsetgroup": "baseline",
         "showlegend": false,
         "text": [
          "omentum",
          "omentum",
          "omentum",
          "omentum",
          "omentum",
          "omentum"
         ],
         "type": "box",
         "x": [
          "omentum",
          "omentum",
          "omentum",
          "omentum",
          "omentum",
          "omentum"
         ],
         "xaxis": "x",
         "y": {
          "bdata": "AAAAAAAA8D8AAAAAAADwPwAAAOC82O8/AAAAAAAA8D8AAAAAAADwPwAAAAAAAPA/",
          "dtype": "f8"
         },
         "yaxis": "y"
        },
        {
         "boxmean": true,
         "boxpoints": "all",
         "hovertext": [
          "P101",
          "P105",
          "P104",
          "P102",
          "P103",
          "P076",
          "P113"
         ],
         "legendgroup": "baseline",
         "marker": {
          "color": "#44AA99"
         },
         "name": "baseline",
         "offsetgroup": "baseline",
         "showlegend": false,
         "text": [
          "peritoneum",
          "peritoneum",
          "peritoneum",
          "peritoneum",
          "peritoneum",
          "peritoneum",
          "peritoneum"
         ],
         "type": "box",
         "x": [
          "peritoneum",
          "peritoneum",
          "peritoneum",
          "peritoneum",
          "peritoneum",
          "peritoneum",
          "peritoneum"
         ],
         "xaxis": "x",
         "y": {
          "bdata": "AAAAYFWJ7z/oeZ7nufPvPyebbLI5eO8/VVVVVYX+7z9VVVVVY/bvPwd1UAftXcU/Hh4eHmqe6T8=",
          "dtype": "f8"
         },
         "yaxis": "y"
        },
        {
         "boxmean": true,
         "boxpoints": "all",
         "hovertext": [],
         "legendgroup": "baseline",
         "marker": {
          "color": "#44AA99"
         },
         "name": "baseline",
         "offsetgroup": "baseline",
         "showlegend": false,
         "text": [],
         "type": "box",
         "x": [],
         "xaxis": "x",
         "y": [],
         "yaxis": "y"
        },
        {
         "boxmean": true,
         "boxpoints": "all",
         "hovertext": [],
         "legendgroup": "baseline",
         "marker": {
          "color": "#44AA99"
         },
         "name": "baseline",
         "offsetgroup": "baseline",
         "showlegend": false,
         "text": [],
         "type": "box",
         "x": [],
         "xaxis": "x",
         "y": [],
         "yaxis": "y"
        },
        {
         "boxmean": true,
         "boxpoints": "all",
         "hovertext": [],
         "legendgroup": "baseline",
         "marker": {
          "color": "#44AA99"
         },
         "name": "baseline",
         "offsetgroup": "baseline",
         "showlegend": false,
         "text": [],
         "type": "box",
         "x": [],
         "xaxis": "x",
         "y": [],
         "yaxis": "y"
        },
        {
         "boxmean": true,
         "boxpoints": "all",
         "hovertext": [],
         "legendgroup": "baseline",
         "marker": {
          "color": "#44AA99"
         },
         "name": "baseline",
         "offsetgroup": "baseline",
         "showlegend": false,
         "text": [],
         "type": "box",
         "x": [],
         "xaxis": "x",
         "y": [],
         "yaxis": "y"
        },
        {
         "boxmean": true,
         "boxpoints": "all",
         "hovertext": [],
         "legendgroup": "baseline",
         "marker": {
          "color": "#44AA99"
         },
         "name": "baseline",
         "offsetgroup": "baseline",
         "showlegend": false,
         "text": [],
         "type": "box",
         "x": [],
         "xaxis": "x",
         "y": [],
         "yaxis": "y"
        },
        {
         "boxmean": true,
         "boxpoints": "all",
         "hovertext": [],
         "legendgroup": "baseline",
         "marker": {
          "color": "#44AA99"
         },
         "name": "baseline",
         "offsetgroup": "baseline",
         "showlegend": false,
         "text": [],
         "type": "box",
         "x": [],
         "xaxis": "x",
         "y": [],
         "yaxis": "y"
        },
        {
         "boxmean": true,
         "boxpoints": "all",
         "hovertext": [],
         "legendgroup": "baseline",
         "marker": {
          "color": "#44AA99"
         },
         "name": "baseline",
         "offsetgroup": "baseline",
         "showlegend": false,
         "text": [],
         "type": "box",
         "x": [],
         "xaxis": "x",
         "y": [],
         "yaxis": "y"
        },
        {
         "boxmean": true,
         "boxpoints": "all",
         "hovertext": [],
         "legendgroup": "baseline",
         "marker": {
          "color": "#44AA99"
         },
         "name": "baseline",
         "offsetgroup": "baseline",
         "showlegend": false,
         "text": [],
         "type": "box",
         "x": [],
         "xaxis": "x",
         "y": [],
         "yaxis": "y"
        },
        {
         "boxmean": true,
         "boxpoints": "all",
         "hovertext": [
          "P005",
          "P113",
          "P105",
          "P104",
          "P102",
          "P101",
          "P076",
          "P027",
          "P025",
          "P103",
          "P013",
          "P008",
          "P007",
          "P006"
         ],
         "legendgroup": "xeno-learning",
         "marker": {
          "color": "#b86fdc"
         },
         "name": "xeno-learning",
         "offsetgroup": "xeno-learning",
         "showlegend": false,
         "text": [
          "stomach",
          "stomach",
          "stomach",
          "stomach",
          "stomach",
          "stomach",
          "stomach",
          "stomach",
          "stomach",
          "stomach",
          "stomach",
          "stomach",
          "stomach",
          "stomach"
         ],
         "type": "box",
         "x": [
          "stomach",
          "stomach",
          "stomach",
          "stomach",
          "stomach",
          "stomach",
          "stomach",
          "stomach",
          "stomach",
          "stomach",
          "stomach",
          "stomach",
          "stomach",
          "stomach"
         ],
         "xaxis": "x",
         "y": {
          "bdata": "MzMzMztCwz9P7MROxJfuP6uqqqqs+O8/AAAAAAAA8D+MLrrovv/vPwAAAAAAAPA/HdRBHahO6T8zMzOzlcfCPwAAAAAAAAAAq6qqqob/7z8AAAAAAAAAAAAAAAAAAAAAAAAAAAAAAADNzMxMLzrVPw==",
          "dtype": "f8"
         },
         "yaxis": "y"
        },
        {
         "boxmean": true,
         "boxpoints": "all",
         "hovertext": [
          "P014",
          "P103",
          "P105",
          "P102",
          "P013",
          "P005",
          "P113",
          "P104",
          "P006",
          "P101",
          "P076"
         ],
         "legendgroup": "xeno-learning",
         "marker": {
          "color": "#b86fdc"
         },
         "name": "xeno-learning",
         "offsetgroup": "xeno-learning",
         "showlegend": false,
         "text": [
          "small_bowel",
          "small_bowel",
          "small_bowel",
          "small_bowel",
          "small_bowel",
          "small_bowel",
          "small_bowel",
          "small_bowel",
          "small_bowel",
          "small_bowel",
          "small_bowel"
         ],
         "type": "box",
         "x": [
          "small bowel",
          "small bowel",
          "small bowel",
          "small bowel",
          "small bowel",
          "small bowel",
          "small bowel",
          "small bowel",
          "small bowel",
          "small bowel",
          "small bowel"
         ],
         "xaxis": "x",
         "y": {
          "bdata": "AAAAAAAA8D8AAAAAAADwP4wuuujm3+8/G8prKJ/l7z8AAAAAAADwP6uqqqph/e8/DUSlI8sj7D8AAACA/OjtPwAAAAAAAPA/AAAAAAAA8D/NzMzMzP/vPw==",
          "dtype": "f8"
         },
         "yaxis": "y"
        },
        {
         "boxmean": true,
         "boxpoints": "all",
         "hovertext": [
          "P101",
          "P076",
          "P105",
          "P113",
          "P103",
          "P104",
          "P102"
         ],
         "legendgroup": "xeno-learning",
         "marker": {
          "color": "#b86fdc"
         },
         "name": "xeno-learning",
         "offsetgroup": "xeno-learning",
         "showlegend": false,
         "text": [
          "colon",
          "colon",
          "colon",
          "colon",
          "colon",
          "colon",
          "colon"
         ],
         "type": "box",
         "x": [
          "colon",
          "colon",
          "colon",
          "colon",
          "colon",
          "colon",
          "colon"
         ],
         "xaxis": "x",
         "y": {
          "bdata": "AAAAAAAA8D++4iu+qvvvP6uqqqqb7u8/btu2bWsA7z9VVVVV7//vPwAAAAAAAPA/YYp81r2v7z8=",
          "dtype": "f8"
         },
         "yaxis": "y"
        },
        {
         "boxmean": true,
         "boxpoints": "all",
         "hovertext": [
          "P102",
          "P105",
          "P103",
          "P113",
          "P101",
          "P076",
          "P104"
         ],
         "legendgroup": "xeno-learning",
         "marker": {
          "color": "#b86fdc"
         },
         "name": "xeno-learning",
         "offsetgroup": "xeno-learning",
         "showlegend": false,
         "text": [
          "liver",
          "liver",
          "liver",
          "liver",
          "liver",
          "liver",
          "liver"
         ],
         "type": "box",
         "x": [
          "liver",
          "liver",
          "liver",
          "liver",
          "liver",
          "liver",
          "liver"
         ],
         "xaxis": "x",
         "y": {
          "bdata": "SZIkSdL/7z9VVVXV0f7vPxzHcRz7/+8/iYiIiAy77z8AAAAAAADwPx3UQR3gpOY/AAAAAAAA8D8=",
          "dtype": "f8"
         },
         "yaxis": "y"
        },
        {
         "boxmean": true,
         "boxpoints": "all",
         "hovertext": [
          "P103",
          "P102",
          "P113",
          "P101",
          "P104",
          "P105"
         ],
         "legendgroup": "xeno-learning",
         "marker": {
          "color": "#b86fdc"
         },
         "name": "xeno-learning",
         "offsetgroup": "xeno-learning",
         "showlegend": false,
         "text": [
          "pancreas",
          "pancreas",
          "pancreas",
          "pancreas",
          "pancreas",
          "pancreas"
         ],
         "type": "box",
         "x": [
          "pancreas",
          "pancreas",
          "pancreas",
          "pancreas",
          "pancreas",
          "pancreas"
         ],
         "xaxis": "x",
         "y": {
          "bdata": "AAAAAAAA8D8AAAAAAADwPwAAAEBkHu4/x3Ecx62v4z8AAAAAAADwP1VVVVWOduk/",
          "dtype": "f8"
         },
         "yaxis": "y"
        },
        {
         "boxmean": true,
         "boxpoints": "all",
         "hovertext": [
          "P104",
          "P005",
          "P113",
          "P105",
          "P103",
          "P101",
          "P102"
         ],
         "legendgroup": "xeno-learning",
         "marker": {
          "color": "#b86fdc"
         },
         "name": "xeno-learning",
         "offsetgroup": "xeno-learning",
         "showlegend": false,
         "text": [
          "kidney",
          "kidney",
          "kidney",
          "kidney",
          "kidney",
          "kidney",
          "kidney"
         ],
         "type": "box",
         "x": [
          "kidney",
          "kidney",
          "kidney",
          "kidney",
          "kidney",
          "kidney",
          "kidney"
         ],
         "xaxis": "x",
         "y": {
          "bdata": "AAAAAIb/7z8AAAAAAADwPwAAAEBE/e8/kiRJkiTq7z+O4ziO3f/vPwAAAAAAAPA/AAAAAAAA8D8=",
          "dtype": "f8"
         },
         "yaxis": "y"
        },
        {
         "boxmean": true,
         "boxpoints": "all",
         "hovertext": [
          "P102",
          "P105",
          "P113",
          "P101",
          "P104",
          "P103"
         ],
         "legendgroup": "xeno-learning",
         "marker": {
          "color": "#b86fdc"
         },
         "name": "xeno-learning",
         "offsetgroup": "xeno-learning",
         "showlegend": false,
         "text": [
          "omentum",
          "omentum",
          "omentum",
          "omentum",
          "omentum",
          "omentum"
         ],
         "type": "box",
         "x": [
          "omentum",
          "omentum",
          "omentum",
          "omentum",
          "omentum",
          "omentum"
         ],
         "xaxis": "x",
         "y": {
          "bdata": "AAAAAAAA8D8AAAAAAADwPwAAAAAAAPA/AAAAAAAA8D8AAAAAAADwPwAAAAAAAPA/",
          "dtype": "f8"
         },
         "yaxis": "y"
        },
        {
         "boxmean": true,
         "boxpoints": "all",
         "hovertext": [
          "P101",
          "P105",
          "P104",
          "P102",
          "P103",
          "P076",
          "P113"
         ],
         "legendgroup": "xeno-learning",
         "marker": {
          "color": "#b86fdc"
         },
         "name": "xeno-learning",
         "offsetgroup": "xeno-learning",
         "showlegend": false,
         "text": [
          "peritoneum",
          "peritoneum",
          "peritoneum",
          "peritoneum",
          "peritoneum",
          "peritoneum",
          "peritoneum"
         ],
         "type": "box",
         "x": [
          "peritoneum",
          "peritoneum",
          "peritoneum",
          "peritoneum",
          "peritoneum",
          "peritoneum",
          "peritoneum"
         ],
         "xaxis": "x",
         "y": {
          "bdata": "AAAAgMrc6z8AAAAAAADwP4QPPvjA/+8/VVVVVan+7z8AAACA7v7vP0Id1EHFyu0/tbS0tKgx7j8=",
          "dtype": "f8"
         },
         "yaxis": "y"
        },
        {
         "boxmean": true,
         "boxpoints": "all",
         "hovertext": [],
         "legendgroup": "xeno-learning",
         "marker": {
          "color": "#b86fdc"
         },
         "name": "xeno-learning",
         "offsetgroup": "xeno-learning",
         "showlegend": false,
         "text": [],
         "type": "box",
         "x": [],
         "xaxis": "x",
         "y": [],
         "yaxis": "y"
        },
        {
         "boxmean": true,
         "boxpoints": "all",
         "hovertext": [],
         "legendgroup": "xeno-learning",
         "marker": {
          "color": "#b86fdc"
         },
         "name": "xeno-learning",
         "offsetgroup": "xeno-learning",
         "showlegend": false,
         "text": [],
         "type": "box",
         "x": [],
         "xaxis": "x",
         "y": [],
         "yaxis": "y"
        },
        {
         "boxmean": true,
         "boxpoints": "all",
         "hovertext": [],
         "legendgroup": "xeno-learning",
         "marker": {
          "color": "#b86fdc"
         },
         "name": "xeno-learning",
         "offsetgroup": "xeno-learning",
         "showlegend": false,
         "text": [],
         "type": "box",
         "x": [],
         "xaxis": "x",
         "y": [],
         "yaxis": "y"
        },
        {
         "boxmean": true,
         "boxpoints": "all",
         "hovertext": [],
         "legendgroup": "xeno-learning",
         "marker": {
          "color": "#b86fdc"
         },
         "name": "xeno-learning",
         "offsetgroup": "xeno-learning",
         "showlegend": false,
         "text": [],
         "type": "box",
         "x": [],
         "xaxis": "x",
         "y": [],
         "yaxis": "y"
        },
        {
         "boxmean": true,
         "boxpoints": "all",
         "hovertext": [],
         "legendgroup": "xeno-learning",
         "marker": {
          "color": "#b86fdc"
         },
         "name": "xeno-learning",
         "offsetgroup": "xeno-learning",
         "showlegend": false,
         "text": [],
         "type": "box",
         "x": [],
         "xaxis": "x",
         "y": [],
         "yaxis": "y"
        },
        {
         "boxmean": true,
         "boxpoints": "all",
         "hovertext": [],
         "legendgroup": "xeno-learning",
         "marker": {
          "color": "#b86fdc"
         },
         "name": "xeno-learning",
         "offsetgroup": "xeno-learning",
         "showlegend": false,
         "text": [],
         "type": "box",
         "x": [],
         "xaxis": "x",
         "y": [],
         "yaxis": "y"
        },
        {
         "boxmean": true,
         "boxpoints": "all",
         "hovertext": [],
         "legendgroup": "xeno-learning",
         "marker": {
          "color": "#b86fdc"
         },
         "name": "xeno-learning",
         "offsetgroup": "xeno-learning",
         "showlegend": false,
         "text": [],
         "type": "box",
         "x": [],
         "xaxis": "x",
         "y": [],
         "yaxis": "y"
        },
        {
         "boxmean": true,
         "boxpoints": "all",
         "hovertext": [],
         "legendgroup": "xeno-learning",
         "marker": {
          "color": "#b86fdc"
         },
         "name": "xeno-learning",
         "offsetgroup": "xeno-learning",
         "showlegend": false,
         "text": [],
         "type": "box",
         "x": [],
         "xaxis": "x",
         "y": [],
         "yaxis": "y"
        },
        {
         "boxmean": true,
         "boxpoints": "all",
         "hovertext": [],
         "legendgroup": "baseline",
         "marker": {
          "color": "#89CCED"
         },
         "name": "baseline",
         "offsetgroup": "baseline",
         "showlegend": false,
         "text": [],
         "type": "box",
         "x": [],
         "xaxis": "x2",
         "y": [],
         "yaxis": "y2"
        },
        {
         "boxmean": true,
         "boxpoints": "all",
         "hovertext": [],
         "legendgroup": "baseline",
         "marker": {
          "color": "#89CCED"
         },
         "name": "baseline",
         "offsetgroup": "baseline",
         "showlegend": false,
         "text": [],
         "type": "box",
         "x": [],
         "xaxis": "x2",
         "y": [],
         "yaxis": "y2"
        },
        {
         "boxmean": true,
         "boxpoints": "all",
         "hovertext": [],
         "legendgroup": "baseline",
         "marker": {
          "color": "#89CCED"
         },
         "name": "baseline",
         "offsetgroup": "baseline",
         "showlegend": false,
         "text": [],
         "type": "box",
         "x": [],
         "xaxis": "x2",
         "y": [],
         "yaxis": "y2"
        },
        {
         "boxmean": true,
         "boxpoints": "all",
         "hovertext": [],
         "legendgroup": "baseline",
         "marker": {
          "color": "#89CCED"
         },
         "name": "baseline",
         "offsetgroup": "baseline",
         "showlegend": false,
         "text": [],
         "type": "box",
         "x": [],
         "xaxis": "x2",
         "y": [],
         "yaxis": "y2"
        },
        {
         "boxmean": true,
         "boxpoints": "all",
         "hovertext": [],
         "legendgroup": "baseline",
         "marker": {
          "color": "#89CCED"
         },
         "name": "baseline",
         "offsetgroup": "baseline",
         "showlegend": false,
         "text": [],
         "type": "box",
         "x": [],
         "xaxis": "x2",
         "y": [],
         "yaxis": "y2"
        },
        {
         "boxmean": true,
         "boxpoints": "all",
         "hovertext": [],
         "legendgroup": "baseline",
         "marker": {
          "color": "#89CCED"
         },
         "name": "baseline",
         "offsetgroup": "baseline",
         "showlegend": false,
         "text": [],
         "type": "box",
         "x": [],
         "xaxis": "x2",
         "y": [],
         "yaxis": "y2"
        },
        {
         "boxmean": true,
         "boxpoints": "all",
         "hovertext": [],
         "legendgroup": "baseline",
         "marker": {
          "color": "#89CCED"
         },
         "name": "baseline",
         "offsetgroup": "baseline",
         "showlegend": false,
         "text": [],
         "type": "box",
         "x": [],
         "xaxis": "x2",
         "y": [],
         "yaxis": "y2"
        },
        {
         "boxmean": true,
         "boxpoints": "all",
         "hovertext": [],
         "legendgroup": "baseline",
         "marker": {
          "color": "#89CCED"
         },
         "name": "baseline",
         "offsetgroup": "baseline",
         "showlegend": false,
         "text": [],
         "type": "box",
         "x": [],
         "xaxis": "x2",
         "y": [],
         "yaxis": "y2"
        },
        {
         "boxmean": true,
         "boxpoints": "all",
         "hovertext": [
          "R043",
          "R046",
          "R047",
          "R048",
          "R044",
          "R045"
         ],
         "legendgroup": "baseline",
         "marker": {
          "color": "#89CCED"
         },
         "name": "baseline",
         "offsetgroup": "baseline",
         "showlegend": false,
         "text": [
          "stomach",
          "stomach",
          "stomach",
          "stomach",
          "stomach",
          "stomach"
         ],
         "type": "box",
         "x": [
          "stomach",
          "stomach",
          "stomach",
          "stomach",
          "stomach",
          "stomach"
         ],
         "xaxis": "x2",
         "y": {
          "bdata": "HuABHgDL7T89+5vLczPtP3sZidXQ5+s/9WT8dol40z9jjDHGWHfDP2+WJ5G5Z+c/",
          "dtype": "f8"
         },
         "yaxis": "y2"
        },
        {
         "boxmean": true,
         "boxpoints": "all",
         "hovertext": [
          "R047",
          "R045",
          "R044",
          "R046",
          "R043",
          "R048"
         ],
         "legendgroup": "baseline",
         "marker": {
          "color": "#89CCED"
         },
         "name": "baseline",
         "offsetgroup": "baseline",
         "showlegend": false,
         "text": [
          "small_bowel",
          "small_bowel",
          "small_bowel",
          "small_bowel",
          "small_bowel",
          "small_bowel"
         ],
         "type": "box",
         "x": [
          "small bowel",
          "small bowel",
          "small bowel",
          "small bowel",
          "small bowel",
          "small bowel"
         ],
         "xaxis": "x2",
         "y": {
          "bdata": "/1pXaA4G7D/9oKMCD6XmP4wxxhjjPeg/cC7P/qYI6T8HaZAGacnqP8RpCJUUouk/",
          "dtype": "f8"
         },
         "yaxis": "y2"
        },
        {
         "boxmean": true,
         "boxpoints": "all",
         "hovertext": [
          "R047",
          "R043",
          "R044",
          "R046",
          "R048",
          "R045"
         ],
         "legendgroup": "baseline",
         "marker": {
          "color": "#89CCED"
         },
         "name": "baseline",
         "offsetgroup": "baseline",
         "showlegend": false,
         "text": [
          "colon",
          "colon",
          "colon",
          "colon",
          "colon",
          "colon"
         ],
         "type": "box",
         "x": [
          "colon",
          "colon",
          "colon",
          "colon",
          "colon",
          "colon"
         ],
         "xaxis": "x2",
         "y": {
          "bdata": "k/21rrBd7j/BEizB8rHtPzLGGGNgJ+I/00kOLH3/7j9l/HapB/PsP1KBL64+au0/",
          "dtype": "f8"
         },
         "yaxis": "y2"
        },
        {
         "boxmean": true,
         "boxpoints": "all",
         "hovertext": [
          "R047",
          "R046",
          "R045",
          "R048",
          "R044",
          "R043"
         ],
         "legendgroup": "baseline",
         "marker": {
          "color": "#89CCED"
         },
         "name": "baseline",
         "offsetgroup": "baseline",
         "showlegend": false,
         "text": [
          "liver",
          "liver",
          "liver",
          "liver",
          "liver",
          "liver"
         ],
         "type": "box",
         "x": [
          "liver",
          "liver",
          "liver",
          "liver",
          "liver",
          "liver"
         ],
         "xaxis": "x2",
         "y": {
          "bdata": "uPghDNJoTD+nfs8tAcKvPwAAAAAAAAAAAAAAAAAAAAAAAAAAAAAAAAAAAAAAAAAA",
          "dtype": "f8"
         },
         "yaxis": "y2"
        },
        {
         "boxmean": true,
         "boxpoints": "all",
         "hovertext": [
          "R045",
          "R047",
          "R043",
          "R048",
          "R044",
          "R046"
         ],
         "legendgroup": "baseline",
         "marker": {
          "color": "#89CCED"
         },
         "name": "baseline",
         "offsetgroup": "baseline",
         "showlegend": false,
         "text": [
          "pancreas",
          "pancreas",
          "pancreas",
          "pancreas",
          "pancreas",
          "pancreas"
         ],
         "type": "box",
         "x": [
          "pancreas",
          "pancreas",
          "pancreas",
          "pancreas",
          "pancreas",
          "pancreas"
         ],
         "xaxis": "x2",
         "y": {
          "bdata": "MK5+0KGZrD/i4ocwqA9ePwAAAAAAAAAAAAAAAAAAAAAAAAAAAAAAAITXrUIY0Xo/",
          "dtype": "f8"
         },
         "yaxis": "y2"
        },
        {
         "boxmean": true,
         "boxpoints": "all",
         "hovertext": [
          "R045",
          "R048",
          "R044",
          "R043",
          "R047",
          "R046"
         ],
         "legendgroup": "baseline",
         "marker": {
          "color": "#89CCED"
         },
         "name": "baseline",
         "offsetgroup": "baseline",
         "showlegend": false,
         "text": [
          "kidney",
          "kidney",
          "kidney",
          "kidney",
          "kidney",
          "kidney"
         ],
         "type": "box",
         "x": [
          "kidney",
          "kidney",
          "kidney",
          "kidney",
          "kidney",
          "kidney"
         ],
         "xaxis": "x2",
         "y": {
          "bdata": "kWnYbh414j9g8FjeywvlPwAAAAAAAAAAjYn0QMWZ5T8Ig5wl22blPyTuiDtCUOc/",
          "dtype": "f8"
         },
         "yaxis": "y2"
        },
        {
         "boxmean": true,
         "boxpoints": "all",
         "hovertext": [
          "R047",
          "R046",
          "R048",
          "R045",
          "R044",
          "R043"
         ],
         "legendgroup": "baseline",
         "marker": {
          "color": "#89CCED"
         },
         "name": "baseline",
         "offsetgroup": "baseline",
         "showlegend": false,
         "text": [
          "omentum",
          "omentum",
          "omentum",
          "omentum",
          "omentum",
          "omentum"
         ],
         "type": "box",
         "x": [
          "omentum",
          "omentum",
          "omentum",
          "omentum",
          "omentum",
          "omentum"
         ],
         "xaxis": "x2",
         "y": {
          "bdata": "6wrN7fTK6z+BjIYJyJnsP3syfrs0Yuo/OFZ/oEcd5z/OOeecVwTWP/AAD/BAgu8/",
          "dtype": "f8"
         },
         "yaxis": "y2"
        },
        {
         "boxmean": true,
         "boxpoints": "all",
         "hovertext": [
          "R045",
          "R046",
          "R044",
          "R043",
          "R047",
          "R048"
         ],
         "legendgroup": "baseline",
         "marker": {
          "color": "#89CCED"
         },
         "name": "baseline",
         "offsetgroup": "baseline",
         "showlegend": false,
         "text": [
          "peritoneum",
          "peritoneum",
          "peritoneum",
          "peritoneum",
          "peritoneum",
          "peritoneum"
         ],
         "type": "box",
         "x": [
          "peritoneum",
          "peritoneum",
          "peritoneum",
          "peritoneum",
          "peritoneum",
          "peritoneum"
         ],
         "xaxis": "x2",
         "y": {
          "bdata": "283yJFLR7z/TSQ4s/VzvP0oppZT+ie8/B2mQBqmC7j/Okv21Tt/sPwAAAAAA5+0/",
          "dtype": "f8"
         },
         "yaxis": "y2"
        },
        {
         "boxmean": true,
         "boxpoints": "all",
         "hovertext": [],
         "legendgroup": "xeno-learning",
         "marker": {
          "color": "#b86fdc"
         },
         "name": "xeno-learning",
         "offsetgroup": "xeno-learning",
         "showlegend": false,
         "text": [],
         "type": "box",
         "x": [],
         "xaxis": "x2",
         "y": [],
         "yaxis": "y2"
        },
        {
         "boxmean": true,
         "boxpoints": "all",
         "hovertext": [],
         "legendgroup": "xeno-learning",
         "marker": {
          "color": "#b86fdc"
         },
         "name": "xeno-learning",
         "offsetgroup": "xeno-learning",
         "showlegend": false,
         "text": [],
         "type": "box",
         "x": [],
         "xaxis": "x2",
         "y": [],
         "yaxis": "y2"
        },
        {
         "boxmean": true,
         "boxpoints": "all",
         "hovertext": [],
         "legendgroup": "xeno-learning",
         "marker": {
          "color": "#b86fdc"
         },
         "name": "xeno-learning",
         "offsetgroup": "xeno-learning",
         "showlegend": false,
         "text": [],
         "type": "box",
         "x": [],
         "xaxis": "x2",
         "y": [],
         "yaxis": "y2"
        },
        {
         "boxmean": true,
         "boxpoints": "all",
         "hovertext": [],
         "legendgroup": "xeno-learning",
         "marker": {
          "color": "#b86fdc"
         },
         "name": "xeno-learning",
         "offsetgroup": "xeno-learning",
         "showlegend": false,
         "text": [],
         "type": "box",
         "x": [],
         "xaxis": "x2",
         "y": [],
         "yaxis": "y2"
        },
        {
         "boxmean": true,
         "boxpoints": "all",
         "hovertext": [],
         "legendgroup": "xeno-learning",
         "marker": {
          "color": "#b86fdc"
         },
         "name": "xeno-learning",
         "offsetgroup": "xeno-learning",
         "showlegend": false,
         "text": [],
         "type": "box",
         "x": [],
         "xaxis": "x2",
         "y": [],
         "yaxis": "y2"
        },
        {
         "boxmean": true,
         "boxpoints": "all",
         "hovertext": [],
         "legendgroup": "xeno-learning",
         "marker": {
          "color": "#b86fdc"
         },
         "name": "xeno-learning",
         "offsetgroup": "xeno-learning",
         "showlegend": false,
         "text": [],
         "type": "box",
         "x": [],
         "xaxis": "x2",
         "y": [],
         "yaxis": "y2"
        },
        {
         "boxmean": true,
         "boxpoints": "all",
         "hovertext": [],
         "legendgroup": "xeno-learning",
         "marker": {
          "color": "#b86fdc"
         },
         "name": "xeno-learning",
         "offsetgroup": "xeno-learning",
         "showlegend": false,
         "text": [],
         "type": "box",
         "x": [],
         "xaxis": "x2",
         "y": [],
         "yaxis": "y2"
        },
        {
         "boxmean": true,
         "boxpoints": "all",
         "hovertext": [],
         "legendgroup": "xeno-learning",
         "marker": {
          "color": "#b86fdc"
         },
         "name": "xeno-learning",
         "offsetgroup": "xeno-learning",
         "showlegend": false,
         "text": [],
         "type": "box",
         "x": [],
         "xaxis": "x2",
         "y": [],
         "yaxis": "y2"
        },
        {
         "boxmean": true,
         "boxpoints": "all",
         "hovertext": [
          "R043",
          "R046",
          "R047",
          "R048",
          "R044",
          "R045"
         ],
         "legendgroup": "xeno-learning",
         "marker": {
          "color": "#b86fdc"
         },
         "name": "xeno-learning",
         "offsetgroup": "xeno-learning",
         "showlegend": false,
         "text": [
          "stomach",
          "stomach",
          "stomach",
          "stomach",
          "stomach",
          "stomach"
         ],
         "type": "box",
         "x": [
          "stomach",
          "stomach",
          "stomach",
          "stomach",
          "stomach",
          "stomach"
         ],
         "xaxis": "x2",
         "y": {
          "bdata": "IhzCIdzv7z+wdJID67nvP5JYDRffxO8/0IfTEOq85j8AAAAAgD/uP+5meRJpAO4/",
          "dtype": "f8"
         },
         "yaxis": "y2"
        },
        {
         "boxmean": true,
         "boxpoints": "all",
         "hovertext": [
          "R047",
          "R045",
          "R044",
          "R046",
          "R043",
          "R048"
         ],
         "legendgroup": "xeno-learning",
         "marker": {
          "color": "#b86fdc"
         },
         "name": "xeno-learning",
         "offsetgroup": "xeno-learning",
         "showlegend": false,
         "text": [
          "small_bowel",
          "small_bowel",
          "small_bowel",
          "small_bowel",
          "small_bowel",
          "small_bowel"
         ],
         "type": "box",
         "x": [
          "small bowel",
          "small bowel",
          "small bowel",
          "small bowel",
          "small bowel",
          "small bowel"
         ],
         "xaxis": "x2",
         "y": {
          "bdata": "BjlL9ldt7T+2m+VJJCjqP4QQQgjx9uo/wLk8+1uT7j/xD//wz8rrP2R5r7YIZuk/",
          "dtype": "f8"
         },
         "yaxis": "y2"
        },
        {
         "boxmean": true,
         "boxpoints": "all",
         "hovertext": [
          "R047",
          "R043",
          "R044",
          "R046",
          "R048",
          "R045"
         ],
         "legendgroup": "xeno-learning",
         "marker": {
          "color": "#b86fdc"
         },
         "name": "xeno-learning",
         "offsetgroup": "xeno-learning",
         "showlegend": false,
         "text": [
          "colon",
          "colon",
          "colon",
          "colon",
          "colon",
          "colon"
         ],
         "type": "box",
         "x": [
          "colon",
          "colon",
          "colon",
          "colon",
          "colon",
          "colon"
         ],
         "xaxis": "x2",
         "y": {
          "bdata": "eXTgPf//7z+P6IiOKP3vPzLGGGNw/u8/ilTvoUj+7z8x+/PhdLvkP+CLqx/EJ+8/",
          "dtype": "f8"
         },
         "yaxis": "y2"
        },
        {
         "boxmean": true,
         "boxpoints": "all",
         "hovertext": [
          "R047",
          "R046",
          "R045",
          "R048",
          "R044",
          "R043"
         ],
         "legendgroup": "xeno-learning",
         "marker": {
          "color": "#b86fdc"
         },
         "name": "xeno-learning",
         "offsetgroup": "xeno-learning",
         "showlegend": false,
         "text": [
          "liver",
          "liver",
          "liver",
          "liver",
          "liver",
          "liver"
         ],
         "type": "box",
         "x": [
          "liver",
          "liver",
          "liver",
          "liver",
          "liver",
          "liver"
         ],
         "xaxis": "x2",
         "y": {
          "bdata": "0oH3fCP47D/PLXHqR8HsPyLTsN2M3Os/oZJuFFM07T/43nvv4YnlP97d3d19Ue8/",
          "dtype": "f8"
         },
         "yaxis": "y2"
        },
        {
         "boxmean": true,
         "boxpoints": "all",
         "hovertext": [
          "R045",
          "R047",
          "R043",
          "R048",
          "R044",
          "R046"
         ],
         "legendgroup": "xeno-learning",
         "marker": {
          "color": "#b86fdc"
         },
         "name": "xeno-learning",
         "offsetgroup": "xeno-learning",
         "showlegend": false,
         "text": [
          "pancreas",
          "pancreas",
          "pancreas",
          "pancreas",
          "pancreas",
          "pancreas"
         ],
         "type": "box",
         "x": [
          "pancreas",
          "pancreas",
          "pancreas",
          "pancreas",
          "pancreas",
          "pancreas"
         ],
         "xaxis": "x2",
         "y": {
          "bdata": "2G6WJxEElz+6ncqjQ4a8PwAAAAAcy9g/RGqC8Vpfoj/vvffe5/TZP8mBpZN8ptY/",
          "dtype": "f8"
         },
         "yaxis": "y2"
        },
        {
         "boxmean": true,
         "boxpoints": "all",
         "hovertext": [
          "R045",
          "R048",
          "R044",
          "R043",
          "R047",
          "R046"
         ],
         "legendgroup": "xeno-learning",
         "marker": {
          "color": "#b86fdc"
         },
         "name": "xeno-learning",
         "offsetgroup": "xeno-learning",
         "showlegend": false,
         "text": [
          "kidney",
          "kidney",
          "kidney",
          "kidney",
          "kidney",
          "kidney"
         ],
         "type": "box",
         "x": [
          "kidney",
          "kidney",
          "kidney",
          "kidney",
          "kidney",
          "kidney"
         ],
         "xaxis": "x2",
         "y": {
          "bdata": "GFc/6Ihe6j/RCpsDiQDvP3TOOecs9uE/qJzdwn/L7j+W7K91BX7sP5HqPRQJQ+4/",
          "dtype": "f8"
         },
         "yaxis": "y2"
        },
        {
         "boxmean": true,
         "boxpoints": "all",
         "hovertext": [
          "R047",
          "R046",
          "R048",
          "R045",
          "R044",
          "R043"
         ],
         "legendgroup": "xeno-learning",
         "marker": {
          "color": "#b86fdc"
         },
         "name": "xeno-learning",
         "offsetgroup": "xeno-learning",
         "showlegend": false,
         "text": [
          "omentum",
          "omentum",
          "omentum",
          "omentum",
          "omentum",
          "omentum"
         ],
         "type": "box",
         "x": [
          "omentum",
          "omentum",
          "omentum",
          "omentum",
          "omentum",
          "omentum"
         ],
         "xaxis": "x2",
         "y": {
          "bdata": "ZX+tKzTx7j9xR9wRF57tP2DwWN6LzOs/zObSofY84z+21lprec/vP5VRGZVRwe8/",
          "dtype": "f8"
         },
         "yaxis": "y2"
        },
        {
         "boxmean": true,
         "boxpoints": "all",
         "hovertext": [
          "R045",
          "R046",
          "R044",
          "R043",
          "R047",
          "R048"
         ],
         "legendgroup": "xeno-learning",
         "marker": {
          "color": "#b86fdc"
         },
         "name": "xeno-learning",
         "offsetgroup": "xeno-learning",
         "showlegend": false,
         "text": [
          "peritoneum",
          "peritoneum",
          "peritoneum",
          "peritoneum",
          "peritoneum",
          "peritoneum"
         ],
         "type": "box",
         "x": [
          "peritoneum",
          "peritoneum",
          "peritoneum",
          "peritoneum",
          "peritoneum",
          "peritoneum"
         ],
         "xaxis": "x2",
         "y": {
          "bdata": "AAAAAECj7z+/oC/oq//vP3TOOedsaOw/2piN2Zj/7z/gPd+Y1qXvP0/Gb5fa/+8/",
          "dtype": "f8"
         },
         "yaxis": "y2"
        }
       ],
       "layout": {
        "boxgap": 0.2,
        "boxgroupgap": 0.45,
        "boxmode": "group",
        "font": {
         "family": "Libertinus Sans",
         "size": 16
        },
        "height": 700,
        "legend": {
         "orientation": "h",
         "x": 0.5,
         "xanchor": "center",
         "y": 1.01,
         "yanchor": "bottom"
        },
        "margin": {
         "b": 0,
         "l": 0,
         "r": 0,
         "t": 0
        },
        "template": {
         "data": {
          "bar": [
           {
            "error_x": {
             "color": "#2a3f5f"
            },
            "error_y": {
             "color": "#2a3f5f"
            },
            "marker": {
             "line": {
              "color": "white",
              "width": 0.5
             },
             "pattern": {
              "fillmode": "overlay",
              "size": 10,
              "solidity": 0.2
             }
            },
            "type": "bar"
           }
          ],
          "barpolar": [
           {
            "marker": {
             "line": {
              "color": "white",
              "width": 0.5
             },
             "pattern": {
              "fillmode": "overlay",
              "size": 10,
              "solidity": 0.2
             }
            },
            "type": "barpolar"
           }
          ],
          "carpet": [
           {
            "aaxis": {
             "endlinecolor": "#2a3f5f",
             "gridcolor": "#C8D4E3",
             "linecolor": "#C8D4E3",
             "minorgridcolor": "#C8D4E3",
             "startlinecolor": "#2a3f5f"
            },
            "baxis": {
             "endlinecolor": "#2a3f5f",
             "gridcolor": "#C8D4E3",
             "linecolor": "#C8D4E3",
             "minorgridcolor": "#C8D4E3",
             "startlinecolor": "#2a3f5f"
            },
            "type": "carpet"
           }
          ],
          "choropleth": [
           {
            "colorbar": {
             "outlinewidth": 0,
             "ticks": ""
            },
            "type": "choropleth"
           }
          ],
          "contour": [
           {
            "colorbar": {
             "outlinewidth": 0,
             "ticks": ""
            },
            "colorscale": [
             [
              0,
              "#0d0887"
             ],
             [
              0.1111111111111111,
              "#46039f"
             ],
             [
              0.2222222222222222,
              "#7201a8"
             ],
             [
              0.3333333333333333,
              "#9c179e"
             ],
             [
              0.4444444444444444,
              "#bd3786"
             ],
             [
              0.5555555555555556,
              "#d8576b"
             ],
             [
              0.6666666666666666,
              "#ed7953"
             ],
             [
              0.7777777777777778,
              "#fb9f3a"
             ],
             [
              0.8888888888888888,
              "#fdca26"
             ],
             [
              1,
              "#f0f921"
             ]
            ],
            "type": "contour"
           }
          ],
          "contourcarpet": [
           {
            "colorbar": {
             "outlinewidth": 0,
             "ticks": ""
            },
            "type": "contourcarpet"
           }
          ],
          "heatmap": [
           {
            "colorbar": {
             "outlinewidth": 0,
             "ticks": ""
            },
            "colorscale": [
             [
              0,
              "#0d0887"
             ],
             [
              0.1111111111111111,
              "#46039f"
             ],
             [
              0.2222222222222222,
              "#7201a8"
             ],
             [
              0.3333333333333333,
              "#9c179e"
             ],
             [
              0.4444444444444444,
              "#bd3786"
             ],
             [
              0.5555555555555556,
              "#d8576b"
             ],
             [
              0.6666666666666666,
              "#ed7953"
             ],
             [
              0.7777777777777778,
              "#fb9f3a"
             ],
             [
              0.8888888888888888,
              "#fdca26"
             ],
             [
              1,
              "#f0f921"
             ]
            ],
            "type": "heatmap"
           }
          ],
          "histogram": [
           {
            "marker": {
             "pattern": {
              "fillmode": "overlay",
              "size": 10,
              "solidity": 0.2
             }
            },
            "type": "histogram"
           }
          ],
          "histogram2d": [
           {
            "colorbar": {
             "outlinewidth": 0,
             "ticks": ""
            },
            "colorscale": [
             [
              0,
              "#0d0887"
             ],
             [
              0.1111111111111111,
              "#46039f"
             ],
             [
              0.2222222222222222,
              "#7201a8"
             ],
             [
              0.3333333333333333,
              "#9c179e"
             ],
             [
              0.4444444444444444,
              "#bd3786"
             ],
             [
              0.5555555555555556,
              "#d8576b"
             ],
             [
              0.6666666666666666,
              "#ed7953"
             ],
             [
              0.7777777777777778,
              "#fb9f3a"
             ],
             [
              0.8888888888888888,
              "#fdca26"
             ],
             [
              1,
              "#f0f921"
             ]
            ],
            "type": "histogram2d"
           }
          ],
          "histogram2dcontour": [
           {
            "colorbar": {
             "outlinewidth": 0,
             "ticks": ""
            },
            "colorscale": [
             [
              0,
              "#0d0887"
             ],
             [
              0.1111111111111111,
              "#46039f"
             ],
             [
              0.2222222222222222,
              "#7201a8"
             ],
             [
              0.3333333333333333,
              "#9c179e"
             ],
             [
              0.4444444444444444,
              "#bd3786"
             ],
             [
              0.5555555555555556,
              "#d8576b"
             ],
             [
              0.6666666666666666,
              "#ed7953"
             ],
             [
              0.7777777777777778,
              "#fb9f3a"
             ],
             [
              0.8888888888888888,
              "#fdca26"
             ],
             [
              1,
              "#f0f921"
             ]
            ],
            "type": "histogram2dcontour"
           }
          ],
          "mesh3d": [
           {
            "colorbar": {
             "outlinewidth": 0,
             "ticks": ""
            },
            "type": "mesh3d"
           }
          ],
          "parcoords": [
           {
            "line": {
             "colorbar": {
              "outlinewidth": 0,
              "ticks": ""
             }
            },
            "type": "parcoords"
           }
          ],
          "pie": [
           {
            "automargin": true,
            "type": "pie"
           }
          ],
          "scatter": [
           {
            "fillpattern": {
             "fillmode": "overlay",
             "size": 10,
             "solidity": 0.2
            },
            "type": "scatter"
           }
          ],
          "scatter3d": [
           {
            "line": {
             "colorbar": {
              "outlinewidth": 0,
              "ticks": ""
             }
            },
            "marker": {
             "colorbar": {
              "outlinewidth": 0,
              "ticks": ""
             }
            },
            "type": "scatter3d"
           }
          ],
          "scattercarpet": [
           {
            "marker": {
             "colorbar": {
              "outlinewidth": 0,
              "ticks": ""
             }
            },
            "type": "scattercarpet"
           }
          ],
          "scattergeo": [
           {
            "marker": {
             "colorbar": {
              "outlinewidth": 0,
              "ticks": ""
             }
            },
            "type": "scattergeo"
           }
          ],
          "scattergl": [
           {
            "marker": {
             "colorbar": {
              "outlinewidth": 0,
              "ticks": ""
             }
            },
            "type": "scattergl"
           }
          ],
          "scattermap": [
           {
            "marker": {
             "colorbar": {
              "outlinewidth": 0,
              "ticks": ""
             }
            },
            "type": "scattermap"
           }
          ],
          "scattermapbox": [
           {
            "marker": {
             "colorbar": {
              "outlinewidth": 0,
              "ticks": ""
             }
            },
            "type": "scattermapbox"
           }
          ],
          "scatterpolar": [
           {
            "marker": {
             "colorbar": {
              "outlinewidth": 0,
              "ticks": ""
             }
            },
            "type": "scatterpolar"
           }
          ],
          "scatterpolargl": [
           {
            "marker": {
             "colorbar": {
              "outlinewidth": 0,
              "ticks": ""
             }
            },
            "type": "scatterpolargl"
           }
          ],
          "scatterternary": [
           {
            "marker": {
             "colorbar": {
              "outlinewidth": 0,
              "ticks": ""
             }
            },
            "type": "scatterternary"
           }
          ],
          "surface": [
           {
            "colorbar": {
             "outlinewidth": 0,
             "ticks": ""
            },
            "colorscale": [
             [
              0,
              "#0d0887"
             ],
             [
              0.1111111111111111,
              "#46039f"
             ],
             [
              0.2222222222222222,
              "#7201a8"
             ],
             [
              0.3333333333333333,
              "#9c179e"
             ],
             [
              0.4444444444444444,
              "#bd3786"
             ],
             [
              0.5555555555555556,
              "#d8576b"
             ],
             [
              0.6666666666666666,
              "#ed7953"
             ],
             [
              0.7777777777777778,
              "#fb9f3a"
             ],
             [
              0.8888888888888888,
              "#fdca26"
             ],
             [
              1,
              "#f0f921"
             ]
            ],
            "type": "surface"
           }
          ],
          "table": [
           {
            "cells": {
             "fill": {
              "color": "#EBF0F8"
             },
             "line": {
              "color": "white"
             }
            },
            "header": {
             "fill": {
              "color": "#C8D4E3"
             },
             "line": {
              "color": "white"
             }
            },
            "type": "table"
           }
          ]
         },
         "layout": {
          "annotationdefaults": {
           "arrowcolor": "#2a3f5f",
           "arrowhead": 0,
           "arrowwidth": 1
          },
          "autotypenumbers": "strict",
          "coloraxis": {
           "colorbar": {
            "outlinewidth": 0,
            "ticks": ""
           }
          },
          "colorscale": {
           "diverging": [
            [
             0,
             "#8e0152"
            ],
            [
             0.1,
             "#c51b7d"
            ],
            [
             0.2,
             "#de77ae"
            ],
            [
             0.3,
             "#f1b6da"
            ],
            [
             0.4,
             "#fde0ef"
            ],
            [
             0.5,
             "#f7f7f7"
            ],
            [
             0.6,
             "#e6f5d0"
            ],
            [
             0.7,
             "#b8e186"
            ],
            [
             0.8,
             "#7fbc41"
            ],
            [
             0.9,
             "#4d9221"
            ],
            [
             1,
             "#276419"
            ]
           ],
           "sequential": [
            [
             0,
             "#0d0887"
            ],
            [
             0.1111111111111111,
             "#46039f"
            ],
            [
             0.2222222222222222,
             "#7201a8"
            ],
            [
             0.3333333333333333,
             "#9c179e"
            ],
            [
             0.4444444444444444,
             "#bd3786"
            ],
            [
             0.5555555555555556,
             "#d8576b"
            ],
            [
             0.6666666666666666,
             "#ed7953"
            ],
            [
             0.7777777777777778,
             "#fb9f3a"
            ],
            [
             0.8888888888888888,
             "#fdca26"
            ],
            [
             1,
             "#f0f921"
            ]
           ],
           "sequentialminus": [
            [
             0,
             "#0d0887"
            ],
            [
             0.1111111111111111,
             "#46039f"
            ],
            [
             0.2222222222222222,
             "#7201a8"
            ],
            [
             0.3333333333333333,
             "#9c179e"
            ],
            [
             0.4444444444444444,
             "#bd3786"
            ],
            [
             0.5555555555555556,
             "#d8576b"
            ],
            [
             0.6666666666666666,
             "#ed7953"
            ],
            [
             0.7777777777777778,
             "#fb9f3a"
            ],
            [
             0.8888888888888888,
             "#fdca26"
            ],
            [
             1,
             "#f0f921"
            ]
           ]
          },
          "colorway": [
           "#636efa",
           "#EF553B",
           "#00cc96",
           "#ab63fa",
           "#FFA15A",
           "#19d3f3",
           "#FF6692",
           "#B6E880",
           "#FF97FF",
           "#FECB52"
          ],
          "font": {
           "color": "#2a3f5f"
          },
          "geo": {
           "bgcolor": "white",
           "lakecolor": "white",
           "landcolor": "white",
           "showlakes": true,
           "showland": true,
           "subunitcolor": "#C8D4E3"
          },
          "hoverlabel": {
           "align": "left"
          },
          "hovermode": "closest",
          "mapbox": {
           "style": "light"
          },
          "paper_bgcolor": "white",
          "plot_bgcolor": "white",
          "polar": {
           "angularaxis": {
            "gridcolor": "#EBF0F8",
            "linecolor": "#EBF0F8",
            "ticks": ""
           },
           "bgcolor": "white",
           "radialaxis": {
            "gridcolor": "#EBF0F8",
            "linecolor": "#EBF0F8",
            "ticks": ""
           }
          },
          "scene": {
           "xaxis": {
            "backgroundcolor": "white",
            "gridcolor": "#DFE8F3",
            "gridwidth": 2,
            "linecolor": "#EBF0F8",
            "showbackground": true,
            "ticks": "",
            "zerolinecolor": "#EBF0F8"
           },
           "yaxis": {
            "backgroundcolor": "white",
            "gridcolor": "#DFE8F3",
            "gridwidth": 2,
            "linecolor": "#EBF0F8",
            "showbackground": true,
            "ticks": "",
            "zerolinecolor": "#EBF0F8"
           },
           "zaxis": {
            "backgroundcolor": "white",
            "gridcolor": "#DFE8F3",
            "gridwidth": 2,
            "linecolor": "#EBF0F8",
            "showbackground": true,
            "ticks": "",
            "zerolinecolor": "#EBF0F8"
           }
          },
          "shapedefaults": {
           "line": {
            "color": "#2a3f5f"
           }
          },
          "ternary": {
           "aaxis": {
            "gridcolor": "#DFE8F3",
            "linecolor": "#A2B1C6",
            "ticks": ""
           },
           "baxis": {
            "gridcolor": "#DFE8F3",
            "linecolor": "#A2B1C6",
            "ticks": ""
           },
           "bgcolor": "white",
           "caxis": {
            "gridcolor": "#DFE8F3",
            "linecolor": "#A2B1C6",
            "ticks": ""
           }
          },
          "title": {
           "x": 0.05
          },
          "xaxis": {
           "automargin": true,
           "gridcolor": "#EBF0F8",
           "linecolor": "#EBF0F8",
           "ticks": "",
           "title": {
            "standoff": 15
           },
           "zerolinecolor": "#EBF0F8",
           "zerolinewidth": 2
          },
          "yaxis": {
           "automargin": true,
           "gridcolor": "#EBF0F8",
           "linecolor": "#EBF0F8",
           "ticks": "",
           "title": {
            "standoff": 15
           },
           "zerolinecolor": "#EBF0F8",
           "zerolinewidth": 2
          }
         }
        },
        "width": 1000,
        "xaxis": {
         "anchor": "y",
         "autorangeoptions": {
          "maxallowed": 7.4,
          "minallowed": -0.52
         },
         "domain": [
          0,
          1
         ],
         "matches": "x2",
         "range": [
          -0.52,
          7.4
         ],
         "showticklabels": true,
         "tickfont": {
          "size": 16
         }
        },
        "xaxis2": {
         "anchor": "y2",
         "domain": [
          0,
          1
         ],
         "showticklabels": true,
         "tickfont": {
          "size": 16
         }
        },
        "yaxis": {
         "anchor": "x",
         "domain": [
          0.575,
          1
         ],
         "range": [
          -0.05,
          1.05
         ],
         "tickfont": {
          "size": 16
         },
         "title": {
          "standoff": 10,
          "text": "<b>DSC</b>"
         }
        },
        "yaxis2": {
         "anchor": "x2",
         "domain": [
          0,
          0.425
         ],
         "tickfont": {
          "size": 16
         },
         "title": {
          "standoff": 10,
          "text": "<b>DSC</b>"
         }
        }
       }
      },
      "text/html": [
       "<div>            <script src=\"https://cdnjs.cloudflare.com/ajax/libs/mathjax/2.7.5/MathJax.js?config=TeX-AMS-MML_SVG\"></script><script type=\"text/javascript\">if (window.MathJax && window.MathJax.Hub && window.MathJax.Hub.Config) {window.MathJax.Hub.Config({SVG: {font: \"STIX-Web\"}});}</script>                <script type=\"text/javascript\">window.PlotlyConfig = {MathJaxConfig: 'local'};</script>\n",
       "        <script charset=\"utf-8\" src=\"https://cdn.plot.ly/plotly-3.0.1.min.js\"></script>                <div id=\"cd072cd8-be6f-4f62-ac4c-09c28206e7e3\" class=\"plotly-graph-div\" style=\"height:700px; width:1000px;\"></div>            <script type=\"text/javascript\">                window.PLOTLYENV=window.PLOTLYENV || {};                                if (document.getElementById(\"cd072cd8-be6f-4f62-ac4c-09c28206e7e3\")) {                    Plotly.newPlot(                        \"cd072cd8-be6f-4f62-ac4c-09c28206e7e3\",                        [{\"boxmean\":true,\"boxpoints\":\"all\",\"hovertext\":[\"P005\",\"P113\",\"P105\",\"P104\",\"P102\",\"P101\",\"P076\",\"P027\",\"P025\",\"P103\",\"P013\",\"P008\",\"P007\",\"P006\"],\"legendgroup\":\"baseline\",\"marker\":{\"color\":\"#44AA99\"},\"name\":\"baseline\",\"offsetgroup\":\"baseline\",\"showlegend\":false,\"text\":[\"stomach\",\"stomach\",\"stomach\",\"stomach\",\"stomach\",\"stomach\",\"stomach\",\"stomach\",\"stomach\",\"stomach\",\"stomach\",\"stomach\",\"stomach\",\"stomach\"],\"x\":[\"stomach\",\"stomach\",\"stomach\",\"stomach\",\"stomach\",\"stomach\",\"stomach\",\"stomach\",\"stomach\",\"stomach\",\"stomach\",\"stomach\",\"stomach\",\"stomach\"],\"y\":{\"dtype\":\"f8\",\"bdata\":\"AAAAAAAAAAAUO7ETdVjGP+\\u002fu7u6EE+I\\u002fVVVVVfvj6j+jiy663sTvPwAAAIBRsdg\\u002fZmZmZj6e2D8AAAAAAAAAAAAAAAAAAAAA7+7u7vKO7z8AAAAAAAAAAAAAAAAAAAAAAAAAAAAAAAAAAAAAAAAAAA==\"},\"type\":\"box\",\"xaxis\":\"x\",\"yaxis\":\"y\"},{\"boxmean\":true,\"boxpoints\":\"all\",\"hovertext\":[\"P014\",\"P103\",\"P105\",\"P102\",\"P013\",\"P005\",\"P113\",\"P104\",\"P006\",\"P101\",\"P076\"],\"legendgroup\":\"baseline\",\"marker\":{\"color\":\"#44AA99\"},\"name\":\"baseline\",\"offsetgroup\":\"baseline\",\"showlegend\":false,\"text\":[\"small_bowel\",\"small_bowel\",\"small_bowel\",\"small_bowel\",\"small_bowel\",\"small_bowel\",\"small_bowel\",\"small_bowel\",\"small_bowel\",\"small_bowel\",\"small_bowel\"],\"x\":[\"small bowel\",\"small bowel\",\"small bowel\",\"small bowel\",\"small bowel\",\"small bowel\",\"small bowel\",\"small bowel\",\"small bowel\",\"small bowel\",\"small bowel\"],\"y\":{\"dtype\":\"f8\",\"bdata\":\"AAAAAAAA8D+amZmZmfzhP6OLLrpHp5Y\\u002fXkN5DeU1tD8AAAAAAADwP1VVVdWjFu8\\u002f2TMQlc5Vsj8AAAAAAAAAAAAAAAAAAPA\\u002fAAAAAAAAAAD5iq\\u002f4xiuBPw==\"},\"type\":\"box\",\"xaxis\":\"x\",\"yaxis\":\"y\"},{\"boxmean\":true,\"boxpoints\":\"all\",\"hovertext\":[\"P101\",\"P076\",\"P105\",\"P113\",\"P103\",\"P104\",\"P102\"],\"legendgroup\":\"baseline\",\"marker\":{\"color\":\"#44AA99\"},\"name\":\"baseline\",\"offsetgroup\":\"baseline\",\"showlegend\":false,\"text\":[\"colon\",\"colon\",\"colon\",\"colon\",\"colon\",\"colon\",\"colon\"],\"x\":[\"colon\",\"colon\",\"colon\",\"colon\",\"colon\",\"colon\",\"colon\"],\"y\":{\"dtype\":\"f8\",\"bdata\":\"AAAAAAAA8D+amZmZfaLaPwAAAAAAAPA\\u002f27Zt21lu5z9VVVVVAAHjP2ZmZma0qe4\\u002fbzBFPkP64D8=\"},\"type\":\"box\",\"xaxis\":\"x\",\"yaxis\":\"y\"},{\"boxmean\":true,\"boxpoints\":\"all\",\"hovertext\":[\"P102\",\"P105\",\"P103\",\"P113\",\"P101\",\"P076\",\"P104\"],\"legendgroup\":\"baseline\",\"marker\":{\"color\":\"#44AA99\"},\"name\":\"baseline\",\"offsetgroup\":\"baseline\",\"showlegend\":false,\"text\":[\"liver\",\"liver\",\"liver\",\"liver\",\"liver\",\"liver\",\"liver\"],\"x\":[\"liver\",\"liver\",\"liver\",\"liver\",\"liver\",\"liver\",\"liver\"],\"y\":{\"dtype\":\"f8\",\"bdata\":\"AAAAAAAAAAAAAAAAAAAAAAAAAAAAAAAAAAAAAAAAAAAAAAAAAAAAAAAAAAAAAAAAAAAAAAAAAAA=\"},\"type\":\"box\",\"xaxis\":\"x\",\"yaxis\":\"y\"},{\"boxmean\":true,\"boxpoints\":\"all\",\"hovertext\":[\"P103\",\"P102\",\"P113\",\"P101\",\"P104\",\"P105\"],\"legendgroup\":\"baseline\",\"marker\":{\"color\":\"#44AA99\"},\"name\":\"baseline\",\"offsetgroup\":\"baseline\",\"showlegend\":false,\"text\":[\"pancreas\",\"pancreas\",\"pancreas\",\"pancreas\",\"pancreas\",\"pancreas\"],\"x\":[\"pancreas\",\"pancreas\",\"pancreas\",\"pancreas\",\"pancreas\",\"pancreas\"],\"y\":{\"dtype\":\"f8\",\"bdata\":\"VVVVVZ2W7z9VVVWVVJvkPwAAAMAqYW0\\u002fx3EcxzBe1T8AAACAGOPYPwAAAAAAAAAA\"},\"type\":\"box\",\"xaxis\":\"x\",\"yaxis\":\"y\"},{\"boxmean\":true,\"boxpoints\":\"all\",\"hovertext\":[\"P104\",\"P005\",\"P113\",\"P105\",\"P103\",\"P101\",\"P102\"],\"legendgroup\":\"baseline\",\"marker\":{\"color\":\"#44AA99\"},\"name\":\"baseline\",\"offsetgroup\":\"baseline\",\"showlegend\":false,\"text\":[\"kidney\",\"kidney\",\"kidney\",\"kidney\",\"kidney\",\"kidney\",\"kidney\"],\"x\":[\"kidney\",\"kidney\",\"kidney\",\"kidney\",\"kidney\",\"kidney\",\"kidney\"],\"y\":{\"dtype\":\"f8\",\"bdata\":\"q6qqKsK17j8AAAAAAADwPwAAAAAAAAAAVVVVVSEa7T+rqqqq9zPiP1VVVdXa1uo\\u002fq6qqqkcR6z8=\"},\"type\":\"box\",\"xaxis\":\"x\",\"yaxis\":\"y\"},{\"boxmean\":true,\"boxpoints\":\"all\",\"hovertext\":[\"P102\",\"P105\",\"P113\",\"P101\",\"P104\",\"P103\"],\"legendgroup\":\"baseline\",\"marker\":{\"color\":\"#44AA99\"},\"name\":\"baseline\",\"offsetgroup\":\"baseline\",\"showlegend\":false,\"text\":[\"omentum\",\"omentum\",\"omentum\",\"omentum\",\"omentum\",\"omentum\"],\"x\":[\"omentum\",\"omentum\",\"omentum\",\"omentum\",\"omentum\",\"omentum\"],\"y\":{\"dtype\":\"f8\",\"bdata\":\"AAAAAAAA8D8AAAAAAADwPwAAAOC82O8\\u002fAAAAAAAA8D8AAAAAAADwPwAAAAAAAPA\\u002f\"},\"type\":\"box\",\"xaxis\":\"x\",\"yaxis\":\"y\"},{\"boxmean\":true,\"boxpoints\":\"all\",\"hovertext\":[\"P101\",\"P105\",\"P104\",\"P102\",\"P103\",\"P076\",\"P113\"],\"legendgroup\":\"baseline\",\"marker\":{\"color\":\"#44AA99\"},\"name\":\"baseline\",\"offsetgroup\":\"baseline\",\"showlegend\":false,\"text\":[\"peritoneum\",\"peritoneum\",\"peritoneum\",\"peritoneum\",\"peritoneum\",\"peritoneum\",\"peritoneum\"],\"x\":[\"peritoneum\",\"peritoneum\",\"peritoneum\",\"peritoneum\",\"peritoneum\",\"peritoneum\",\"peritoneum\"],\"y\":{\"dtype\":\"f8\",\"bdata\":\"AAAAYFWJ7z\\u002foeZ7nufPvPyebbLI5eO8\\u002fVVVVVYX+7z9VVVVVY\\u002fbvPwd1UAftXcU\\u002fHh4eHmqe6T8=\"},\"type\":\"box\",\"xaxis\":\"x\",\"yaxis\":\"y\"},{\"boxmean\":true,\"boxpoints\":\"all\",\"hovertext\":[],\"legendgroup\":\"baseline\",\"marker\":{\"color\":\"#44AA99\"},\"name\":\"baseline\",\"offsetgroup\":\"baseline\",\"showlegend\":false,\"text\":[],\"x\":[],\"y\":[],\"type\":\"box\",\"xaxis\":\"x\",\"yaxis\":\"y\"},{\"boxmean\":true,\"boxpoints\":\"all\",\"hovertext\":[],\"legendgroup\":\"baseline\",\"marker\":{\"color\":\"#44AA99\"},\"name\":\"baseline\",\"offsetgroup\":\"baseline\",\"showlegend\":false,\"text\":[],\"x\":[],\"y\":[],\"type\":\"box\",\"xaxis\":\"x\",\"yaxis\":\"y\"},{\"boxmean\":true,\"boxpoints\":\"all\",\"hovertext\":[],\"legendgroup\":\"baseline\",\"marker\":{\"color\":\"#44AA99\"},\"name\":\"baseline\",\"offsetgroup\":\"baseline\",\"showlegend\":false,\"text\":[],\"x\":[],\"y\":[],\"type\":\"box\",\"xaxis\":\"x\",\"yaxis\":\"y\"},{\"boxmean\":true,\"boxpoints\":\"all\",\"hovertext\":[],\"legendgroup\":\"baseline\",\"marker\":{\"color\":\"#44AA99\"},\"name\":\"baseline\",\"offsetgroup\":\"baseline\",\"showlegend\":false,\"text\":[],\"x\":[],\"y\":[],\"type\":\"box\",\"xaxis\":\"x\",\"yaxis\":\"y\"},{\"boxmean\":true,\"boxpoints\":\"all\",\"hovertext\":[],\"legendgroup\":\"baseline\",\"marker\":{\"color\":\"#44AA99\"},\"name\":\"baseline\",\"offsetgroup\":\"baseline\",\"showlegend\":false,\"text\":[],\"x\":[],\"y\":[],\"type\":\"box\",\"xaxis\":\"x\",\"yaxis\":\"y\"},{\"boxmean\":true,\"boxpoints\":\"all\",\"hovertext\":[],\"legendgroup\":\"baseline\",\"marker\":{\"color\":\"#44AA99\"},\"name\":\"baseline\",\"offsetgroup\":\"baseline\",\"showlegend\":false,\"text\":[],\"x\":[],\"y\":[],\"type\":\"box\",\"xaxis\":\"x\",\"yaxis\":\"y\"},{\"boxmean\":true,\"boxpoints\":\"all\",\"hovertext\":[],\"legendgroup\":\"baseline\",\"marker\":{\"color\":\"#44AA99\"},\"name\":\"baseline\",\"offsetgroup\":\"baseline\",\"showlegend\":false,\"text\":[],\"x\":[],\"y\":[],\"type\":\"box\",\"xaxis\":\"x\",\"yaxis\":\"y\"},{\"boxmean\":true,\"boxpoints\":\"all\",\"hovertext\":[],\"legendgroup\":\"baseline\",\"marker\":{\"color\":\"#44AA99\"},\"name\":\"baseline\",\"offsetgroup\":\"baseline\",\"showlegend\":false,\"text\":[],\"x\":[],\"y\":[],\"type\":\"box\",\"xaxis\":\"x\",\"yaxis\":\"y\"},{\"boxmean\":true,\"boxpoints\":\"all\",\"hovertext\":[\"P005\",\"P113\",\"P105\",\"P104\",\"P102\",\"P101\",\"P076\",\"P027\",\"P025\",\"P103\",\"P013\",\"P008\",\"P007\",\"P006\"],\"legendgroup\":\"xeno-learning\",\"marker\":{\"color\":\"#b86fdc\"},\"name\":\"xeno-learning\",\"offsetgroup\":\"xeno-learning\",\"showlegend\":false,\"text\":[\"stomach\",\"stomach\",\"stomach\",\"stomach\",\"stomach\",\"stomach\",\"stomach\",\"stomach\",\"stomach\",\"stomach\",\"stomach\",\"stomach\",\"stomach\",\"stomach\"],\"x\":[\"stomach\",\"stomach\",\"stomach\",\"stomach\",\"stomach\",\"stomach\",\"stomach\",\"stomach\",\"stomach\",\"stomach\",\"stomach\",\"stomach\",\"stomach\",\"stomach\"],\"y\":{\"dtype\":\"f8\",\"bdata\":\"MzMzMztCwz9P7MROxJfuP6uqqqqs+O8\\u002fAAAAAAAA8D+MLrrovv\\u002fvPwAAAAAAAPA\\u002fHdRBHahO6T8zMzOzlcfCPwAAAAAAAAAAq6qqqob\\u002f7z8AAAAAAAAAAAAAAAAAAAAAAAAAAAAAAADNzMxMLzrVPw==\"},\"type\":\"box\",\"xaxis\":\"x\",\"yaxis\":\"y\"},{\"boxmean\":true,\"boxpoints\":\"all\",\"hovertext\":[\"P014\",\"P103\",\"P105\",\"P102\",\"P013\",\"P005\",\"P113\",\"P104\",\"P006\",\"P101\",\"P076\"],\"legendgroup\":\"xeno-learning\",\"marker\":{\"color\":\"#b86fdc\"},\"name\":\"xeno-learning\",\"offsetgroup\":\"xeno-learning\",\"showlegend\":false,\"text\":[\"small_bowel\",\"small_bowel\",\"small_bowel\",\"small_bowel\",\"small_bowel\",\"small_bowel\",\"small_bowel\",\"small_bowel\",\"small_bowel\",\"small_bowel\",\"small_bowel\"],\"x\":[\"small bowel\",\"small bowel\",\"small bowel\",\"small bowel\",\"small bowel\",\"small bowel\",\"small bowel\",\"small bowel\",\"small bowel\",\"small bowel\",\"small bowel\"],\"y\":{\"dtype\":\"f8\",\"bdata\":\"AAAAAAAA8D8AAAAAAADwP4wuuujm3+8\\u002fG8prKJ\\u002fl7z8AAAAAAADwP6uqqqph\\u002fe8\\u002fDUSlI8sj7D8AAACA\\u002fOjtPwAAAAAAAPA\\u002fAAAAAAAA8D\\u002fNzMzMzP\\u002fvPw==\"},\"type\":\"box\",\"xaxis\":\"x\",\"yaxis\":\"y\"},{\"boxmean\":true,\"boxpoints\":\"all\",\"hovertext\":[\"P101\",\"P076\",\"P105\",\"P113\",\"P103\",\"P104\",\"P102\"],\"legendgroup\":\"xeno-learning\",\"marker\":{\"color\":\"#b86fdc\"},\"name\":\"xeno-learning\",\"offsetgroup\":\"xeno-learning\",\"showlegend\":false,\"text\":[\"colon\",\"colon\",\"colon\",\"colon\",\"colon\",\"colon\",\"colon\"],\"x\":[\"colon\",\"colon\",\"colon\",\"colon\",\"colon\",\"colon\",\"colon\"],\"y\":{\"dtype\":\"f8\",\"bdata\":\"AAAAAAAA8D++4iu+qvvvP6uqqqqb7u8\\u002fbtu2bWsA7z9VVVVV7\\u002f\\u002fvPwAAAAAAAPA\\u002fYYp81r2v7z8=\"},\"type\":\"box\",\"xaxis\":\"x\",\"yaxis\":\"y\"},{\"boxmean\":true,\"boxpoints\":\"all\",\"hovertext\":[\"P102\",\"P105\",\"P103\",\"P113\",\"P101\",\"P076\",\"P104\"],\"legendgroup\":\"xeno-learning\",\"marker\":{\"color\":\"#b86fdc\"},\"name\":\"xeno-learning\",\"offsetgroup\":\"xeno-learning\",\"showlegend\":false,\"text\":[\"liver\",\"liver\",\"liver\",\"liver\",\"liver\",\"liver\",\"liver\"],\"x\":[\"liver\",\"liver\",\"liver\",\"liver\",\"liver\",\"liver\",\"liver\"],\"y\":{\"dtype\":\"f8\",\"bdata\":\"SZIkSdL\\u002f7z9VVVXV0f7vPxzHcRz7\\u002f+8\\u002fiYiIiAy77z8AAAAAAADwPx3UQR3gpOY\\u002fAAAAAAAA8D8=\"},\"type\":\"box\",\"xaxis\":\"x\",\"yaxis\":\"y\"},{\"boxmean\":true,\"boxpoints\":\"all\",\"hovertext\":[\"P103\",\"P102\",\"P113\",\"P101\",\"P104\",\"P105\"],\"legendgroup\":\"xeno-learning\",\"marker\":{\"color\":\"#b86fdc\"},\"name\":\"xeno-learning\",\"offsetgroup\":\"xeno-learning\",\"showlegend\":false,\"text\":[\"pancreas\",\"pancreas\",\"pancreas\",\"pancreas\",\"pancreas\",\"pancreas\"],\"x\":[\"pancreas\",\"pancreas\",\"pancreas\",\"pancreas\",\"pancreas\",\"pancreas\"],\"y\":{\"dtype\":\"f8\",\"bdata\":\"AAAAAAAA8D8AAAAAAADwPwAAAEBkHu4\\u002fx3Ecx62v4z8AAAAAAADwP1VVVVWOduk\\u002f\"},\"type\":\"box\",\"xaxis\":\"x\",\"yaxis\":\"y\"},{\"boxmean\":true,\"boxpoints\":\"all\",\"hovertext\":[\"P104\",\"P005\",\"P113\",\"P105\",\"P103\",\"P101\",\"P102\"],\"legendgroup\":\"xeno-learning\",\"marker\":{\"color\":\"#b86fdc\"},\"name\":\"xeno-learning\",\"offsetgroup\":\"xeno-learning\",\"showlegend\":false,\"text\":[\"kidney\",\"kidney\",\"kidney\",\"kidney\",\"kidney\",\"kidney\",\"kidney\"],\"x\":[\"kidney\",\"kidney\",\"kidney\",\"kidney\",\"kidney\",\"kidney\",\"kidney\"],\"y\":{\"dtype\":\"f8\",\"bdata\":\"AAAAAIb\\u002f7z8AAAAAAADwPwAAAEBE\\u002fe8\\u002fkiRJkiTq7z+O4ziO3f\\u002fvPwAAAAAAAPA\\u002fAAAAAAAA8D8=\"},\"type\":\"box\",\"xaxis\":\"x\",\"yaxis\":\"y\"},{\"boxmean\":true,\"boxpoints\":\"all\",\"hovertext\":[\"P102\",\"P105\",\"P113\",\"P101\",\"P104\",\"P103\"],\"legendgroup\":\"xeno-learning\",\"marker\":{\"color\":\"#b86fdc\"},\"name\":\"xeno-learning\",\"offsetgroup\":\"xeno-learning\",\"showlegend\":false,\"text\":[\"omentum\",\"omentum\",\"omentum\",\"omentum\",\"omentum\",\"omentum\"],\"x\":[\"omentum\",\"omentum\",\"omentum\",\"omentum\",\"omentum\",\"omentum\"],\"y\":{\"dtype\":\"f8\",\"bdata\":\"AAAAAAAA8D8AAAAAAADwPwAAAAAAAPA\\u002fAAAAAAAA8D8AAAAAAADwPwAAAAAAAPA\\u002f\"},\"type\":\"box\",\"xaxis\":\"x\",\"yaxis\":\"y\"},{\"boxmean\":true,\"boxpoints\":\"all\",\"hovertext\":[\"P101\",\"P105\",\"P104\",\"P102\",\"P103\",\"P076\",\"P113\"],\"legendgroup\":\"xeno-learning\",\"marker\":{\"color\":\"#b86fdc\"},\"name\":\"xeno-learning\",\"offsetgroup\":\"xeno-learning\",\"showlegend\":false,\"text\":[\"peritoneum\",\"peritoneum\",\"peritoneum\",\"peritoneum\",\"peritoneum\",\"peritoneum\",\"peritoneum\"],\"x\":[\"peritoneum\",\"peritoneum\",\"peritoneum\",\"peritoneum\",\"peritoneum\",\"peritoneum\",\"peritoneum\"],\"y\":{\"dtype\":\"f8\",\"bdata\":\"AAAAgMrc6z8AAAAAAADwP4QPPvjA\\u002f+8\\u002fVVVVVan+7z8AAACA7v7vP0Id1EHFyu0\\u002ftbS0tKgx7j8=\"},\"type\":\"box\",\"xaxis\":\"x\",\"yaxis\":\"y\"},{\"boxmean\":true,\"boxpoints\":\"all\",\"hovertext\":[],\"legendgroup\":\"xeno-learning\",\"marker\":{\"color\":\"#b86fdc\"},\"name\":\"xeno-learning\",\"offsetgroup\":\"xeno-learning\",\"showlegend\":false,\"text\":[],\"x\":[],\"y\":[],\"type\":\"box\",\"xaxis\":\"x\",\"yaxis\":\"y\"},{\"boxmean\":true,\"boxpoints\":\"all\",\"hovertext\":[],\"legendgroup\":\"xeno-learning\",\"marker\":{\"color\":\"#b86fdc\"},\"name\":\"xeno-learning\",\"offsetgroup\":\"xeno-learning\",\"showlegend\":false,\"text\":[],\"x\":[],\"y\":[],\"type\":\"box\",\"xaxis\":\"x\",\"yaxis\":\"y\"},{\"boxmean\":true,\"boxpoints\":\"all\",\"hovertext\":[],\"legendgroup\":\"xeno-learning\",\"marker\":{\"color\":\"#b86fdc\"},\"name\":\"xeno-learning\",\"offsetgroup\":\"xeno-learning\",\"showlegend\":false,\"text\":[],\"x\":[],\"y\":[],\"type\":\"box\",\"xaxis\":\"x\",\"yaxis\":\"y\"},{\"boxmean\":true,\"boxpoints\":\"all\",\"hovertext\":[],\"legendgroup\":\"xeno-learning\",\"marker\":{\"color\":\"#b86fdc\"},\"name\":\"xeno-learning\",\"offsetgroup\":\"xeno-learning\",\"showlegend\":false,\"text\":[],\"x\":[],\"y\":[],\"type\":\"box\",\"xaxis\":\"x\",\"yaxis\":\"y\"},{\"boxmean\":true,\"boxpoints\":\"all\",\"hovertext\":[],\"legendgroup\":\"xeno-learning\",\"marker\":{\"color\":\"#b86fdc\"},\"name\":\"xeno-learning\",\"offsetgroup\":\"xeno-learning\",\"showlegend\":false,\"text\":[],\"x\":[],\"y\":[],\"type\":\"box\",\"xaxis\":\"x\",\"yaxis\":\"y\"},{\"boxmean\":true,\"boxpoints\":\"all\",\"hovertext\":[],\"legendgroup\":\"xeno-learning\",\"marker\":{\"color\":\"#b86fdc\"},\"name\":\"xeno-learning\",\"offsetgroup\":\"xeno-learning\",\"showlegend\":false,\"text\":[],\"x\":[],\"y\":[],\"type\":\"box\",\"xaxis\":\"x\",\"yaxis\":\"y\"},{\"boxmean\":true,\"boxpoints\":\"all\",\"hovertext\":[],\"legendgroup\":\"xeno-learning\",\"marker\":{\"color\":\"#b86fdc\"},\"name\":\"xeno-learning\",\"offsetgroup\":\"xeno-learning\",\"showlegend\":false,\"text\":[],\"x\":[],\"y\":[],\"type\":\"box\",\"xaxis\":\"x\",\"yaxis\":\"y\"},{\"boxmean\":true,\"boxpoints\":\"all\",\"hovertext\":[],\"legendgroup\":\"xeno-learning\",\"marker\":{\"color\":\"#b86fdc\"},\"name\":\"xeno-learning\",\"offsetgroup\":\"xeno-learning\",\"showlegend\":false,\"text\":[],\"x\":[],\"y\":[],\"type\":\"box\",\"xaxis\":\"x\",\"yaxis\":\"y\"},{\"boxmean\":true,\"boxpoints\":\"all\",\"hovertext\":[],\"legendgroup\":\"baseline\",\"marker\":{\"color\":\"#89CCED\"},\"name\":\"baseline\",\"offsetgroup\":\"baseline\",\"showlegend\":false,\"text\":[],\"x\":[],\"y\":[],\"type\":\"box\",\"xaxis\":\"x2\",\"yaxis\":\"y2\"},{\"boxmean\":true,\"boxpoints\":\"all\",\"hovertext\":[],\"legendgroup\":\"baseline\",\"marker\":{\"color\":\"#89CCED\"},\"name\":\"baseline\",\"offsetgroup\":\"baseline\",\"showlegend\":false,\"text\":[],\"x\":[],\"y\":[],\"type\":\"box\",\"xaxis\":\"x2\",\"yaxis\":\"y2\"},{\"boxmean\":true,\"boxpoints\":\"all\",\"hovertext\":[],\"legendgroup\":\"baseline\",\"marker\":{\"color\":\"#89CCED\"},\"name\":\"baseline\",\"offsetgroup\":\"baseline\",\"showlegend\":false,\"text\":[],\"x\":[],\"y\":[],\"type\":\"box\",\"xaxis\":\"x2\",\"yaxis\":\"y2\"},{\"boxmean\":true,\"boxpoints\":\"all\",\"hovertext\":[],\"legendgroup\":\"baseline\",\"marker\":{\"color\":\"#89CCED\"},\"name\":\"baseline\",\"offsetgroup\":\"baseline\",\"showlegend\":false,\"text\":[],\"x\":[],\"y\":[],\"type\":\"box\",\"xaxis\":\"x2\",\"yaxis\":\"y2\"},{\"boxmean\":true,\"boxpoints\":\"all\",\"hovertext\":[],\"legendgroup\":\"baseline\",\"marker\":{\"color\":\"#89CCED\"},\"name\":\"baseline\",\"offsetgroup\":\"baseline\",\"showlegend\":false,\"text\":[],\"x\":[],\"y\":[],\"type\":\"box\",\"xaxis\":\"x2\",\"yaxis\":\"y2\"},{\"boxmean\":true,\"boxpoints\":\"all\",\"hovertext\":[],\"legendgroup\":\"baseline\",\"marker\":{\"color\":\"#89CCED\"},\"name\":\"baseline\",\"offsetgroup\":\"baseline\",\"showlegend\":false,\"text\":[],\"x\":[],\"y\":[],\"type\":\"box\",\"xaxis\":\"x2\",\"yaxis\":\"y2\"},{\"boxmean\":true,\"boxpoints\":\"all\",\"hovertext\":[],\"legendgroup\":\"baseline\",\"marker\":{\"color\":\"#89CCED\"},\"name\":\"baseline\",\"offsetgroup\":\"baseline\",\"showlegend\":false,\"text\":[],\"x\":[],\"y\":[],\"type\":\"box\",\"xaxis\":\"x2\",\"yaxis\":\"y2\"},{\"boxmean\":true,\"boxpoints\":\"all\",\"hovertext\":[],\"legendgroup\":\"baseline\",\"marker\":{\"color\":\"#89CCED\"},\"name\":\"baseline\",\"offsetgroup\":\"baseline\",\"showlegend\":false,\"text\":[],\"x\":[],\"y\":[],\"type\":\"box\",\"xaxis\":\"x2\",\"yaxis\":\"y2\"},{\"boxmean\":true,\"boxpoints\":\"all\",\"hovertext\":[\"R043\",\"R046\",\"R047\",\"R048\",\"R044\",\"R045\"],\"legendgroup\":\"baseline\",\"marker\":{\"color\":\"#89CCED\"},\"name\":\"baseline\",\"offsetgroup\":\"baseline\",\"showlegend\":false,\"text\":[\"stomach\",\"stomach\",\"stomach\",\"stomach\",\"stomach\",\"stomach\"],\"x\":[\"stomach\",\"stomach\",\"stomach\",\"stomach\",\"stomach\",\"stomach\"],\"y\":{\"dtype\":\"f8\",\"bdata\":\"HuABHgDL7T89+5vLczPtP3sZidXQ5+s\\u002f9WT8dol40z9jjDHGWHfDP2+WJ5G5Z+c\\u002f\"},\"type\":\"box\",\"xaxis\":\"x2\",\"yaxis\":\"y2\"},{\"boxmean\":true,\"boxpoints\":\"all\",\"hovertext\":[\"R047\",\"R045\",\"R044\",\"R046\",\"R043\",\"R048\"],\"legendgroup\":\"baseline\",\"marker\":{\"color\":\"#89CCED\"},\"name\":\"baseline\",\"offsetgroup\":\"baseline\",\"showlegend\":false,\"text\":[\"small_bowel\",\"small_bowel\",\"small_bowel\",\"small_bowel\",\"small_bowel\",\"small_bowel\"],\"x\":[\"small bowel\",\"small bowel\",\"small bowel\",\"small bowel\",\"small bowel\",\"small bowel\"],\"y\":{\"dtype\":\"f8\",\"bdata\":\"\\u002f1pXaA4G7D\\u002f9oKMCD6XmP4wxxhjjPeg\\u002fcC7P\\u002fqYI6T8HaZAGacnqP8RpCJUUouk\\u002f\"},\"type\":\"box\",\"xaxis\":\"x2\",\"yaxis\":\"y2\"},{\"boxmean\":true,\"boxpoints\":\"all\",\"hovertext\":[\"R047\",\"R043\",\"R044\",\"R046\",\"R048\",\"R045\"],\"legendgroup\":\"baseline\",\"marker\":{\"color\":\"#89CCED\"},\"name\":\"baseline\",\"offsetgroup\":\"baseline\",\"showlegend\":false,\"text\":[\"colon\",\"colon\",\"colon\",\"colon\",\"colon\",\"colon\"],\"x\":[\"colon\",\"colon\",\"colon\",\"colon\",\"colon\",\"colon\"],\"y\":{\"dtype\":\"f8\",\"bdata\":\"k\\u002f21rrBd7j\\u002fBEizB8rHtPzLGGGNgJ+I\\u002f00kOLH3\\u002f7j9l\\u002fHapB\\u002fPsP1KBL64+au0\\u002f\"},\"type\":\"box\",\"xaxis\":\"x2\",\"yaxis\":\"y2\"},{\"boxmean\":true,\"boxpoints\":\"all\",\"hovertext\":[\"R047\",\"R046\",\"R045\",\"R048\",\"R044\",\"R043\"],\"legendgroup\":\"baseline\",\"marker\":{\"color\":\"#89CCED\"},\"name\":\"baseline\",\"offsetgroup\":\"baseline\",\"showlegend\":false,\"text\":[\"liver\",\"liver\",\"liver\",\"liver\",\"liver\",\"liver\"],\"x\":[\"liver\",\"liver\",\"liver\",\"liver\",\"liver\",\"liver\"],\"y\":{\"dtype\":\"f8\",\"bdata\":\"uPghDNJoTD+nfs8tAcKvPwAAAAAAAAAAAAAAAAAAAAAAAAAAAAAAAAAAAAAAAAAA\"},\"type\":\"box\",\"xaxis\":\"x2\",\"yaxis\":\"y2\"},{\"boxmean\":true,\"boxpoints\":\"all\",\"hovertext\":[\"R045\",\"R047\",\"R043\",\"R048\",\"R044\",\"R046\"],\"legendgroup\":\"baseline\",\"marker\":{\"color\":\"#89CCED\"},\"name\":\"baseline\",\"offsetgroup\":\"baseline\",\"showlegend\":false,\"text\":[\"pancreas\",\"pancreas\",\"pancreas\",\"pancreas\",\"pancreas\",\"pancreas\"],\"x\":[\"pancreas\",\"pancreas\",\"pancreas\",\"pancreas\",\"pancreas\",\"pancreas\"],\"y\":{\"dtype\":\"f8\",\"bdata\":\"MK5+0KGZrD\\u002fi4ocwqA9ePwAAAAAAAAAAAAAAAAAAAAAAAAAAAAAAAITXrUIY0Xo\\u002f\"},\"type\":\"box\",\"xaxis\":\"x2\",\"yaxis\":\"y2\"},{\"boxmean\":true,\"boxpoints\":\"all\",\"hovertext\":[\"R045\",\"R048\",\"R044\",\"R043\",\"R047\",\"R046\"],\"legendgroup\":\"baseline\",\"marker\":{\"color\":\"#89CCED\"},\"name\":\"baseline\",\"offsetgroup\":\"baseline\",\"showlegend\":false,\"text\":[\"kidney\",\"kidney\",\"kidney\",\"kidney\",\"kidney\",\"kidney\"],\"x\":[\"kidney\",\"kidney\",\"kidney\",\"kidney\",\"kidney\",\"kidney\"],\"y\":{\"dtype\":\"f8\",\"bdata\":\"kWnYbh414j9g8FjeywvlPwAAAAAAAAAAjYn0QMWZ5T8Ig5wl22blPyTuiDtCUOc\\u002f\"},\"type\":\"box\",\"xaxis\":\"x2\",\"yaxis\":\"y2\"},{\"boxmean\":true,\"boxpoints\":\"all\",\"hovertext\":[\"R047\",\"R046\",\"R048\",\"R045\",\"R044\",\"R043\"],\"legendgroup\":\"baseline\",\"marker\":{\"color\":\"#89CCED\"},\"name\":\"baseline\",\"offsetgroup\":\"baseline\",\"showlegend\":false,\"text\":[\"omentum\",\"omentum\",\"omentum\",\"omentum\",\"omentum\",\"omentum\"],\"x\":[\"omentum\",\"omentum\",\"omentum\",\"omentum\",\"omentum\",\"omentum\"],\"y\":{\"dtype\":\"f8\",\"bdata\":\"6wrN7fTK6z+BjIYJyJnsP3syfrs0Yuo\\u002fOFZ\\u002foEcd5z\\u002fOOeecVwTWP\\u002fAAD\\u002fBAgu8\\u002f\"},\"type\":\"box\",\"xaxis\":\"x2\",\"yaxis\":\"y2\"},{\"boxmean\":true,\"boxpoints\":\"all\",\"hovertext\":[\"R045\",\"R046\",\"R044\",\"R043\",\"R047\",\"R048\"],\"legendgroup\":\"baseline\",\"marker\":{\"color\":\"#89CCED\"},\"name\":\"baseline\",\"offsetgroup\":\"baseline\",\"showlegend\":false,\"text\":[\"peritoneum\",\"peritoneum\",\"peritoneum\",\"peritoneum\",\"peritoneum\",\"peritoneum\"],\"x\":[\"peritoneum\",\"peritoneum\",\"peritoneum\",\"peritoneum\",\"peritoneum\",\"peritoneum\"],\"y\":{\"dtype\":\"f8\",\"bdata\":\"283yJFLR7z\\u002fTSQ4s\\u002fVzvP0oppZT+ie8\\u002fB2mQBqmC7j\\u002fOkv21Tt\\u002fsPwAAAAAA5+0\\u002f\"},\"type\":\"box\",\"xaxis\":\"x2\",\"yaxis\":\"y2\"},{\"boxmean\":true,\"boxpoints\":\"all\",\"hovertext\":[],\"legendgroup\":\"xeno-learning\",\"marker\":{\"color\":\"#b86fdc\"},\"name\":\"xeno-learning\",\"offsetgroup\":\"xeno-learning\",\"showlegend\":false,\"text\":[],\"x\":[],\"y\":[],\"type\":\"box\",\"xaxis\":\"x2\",\"yaxis\":\"y2\"},{\"boxmean\":true,\"boxpoints\":\"all\",\"hovertext\":[],\"legendgroup\":\"xeno-learning\",\"marker\":{\"color\":\"#b86fdc\"},\"name\":\"xeno-learning\",\"offsetgroup\":\"xeno-learning\",\"showlegend\":false,\"text\":[],\"x\":[],\"y\":[],\"type\":\"box\",\"xaxis\":\"x2\",\"yaxis\":\"y2\"},{\"boxmean\":true,\"boxpoints\":\"all\",\"hovertext\":[],\"legendgroup\":\"xeno-learning\",\"marker\":{\"color\":\"#b86fdc\"},\"name\":\"xeno-learning\",\"offsetgroup\":\"xeno-learning\",\"showlegend\":false,\"text\":[],\"x\":[],\"y\":[],\"type\":\"box\",\"xaxis\":\"x2\",\"yaxis\":\"y2\"},{\"boxmean\":true,\"boxpoints\":\"all\",\"hovertext\":[],\"legendgroup\":\"xeno-learning\",\"marker\":{\"color\":\"#b86fdc\"},\"name\":\"xeno-learning\",\"offsetgroup\":\"xeno-learning\",\"showlegend\":false,\"text\":[],\"x\":[],\"y\":[],\"type\":\"box\",\"xaxis\":\"x2\",\"yaxis\":\"y2\"},{\"boxmean\":true,\"boxpoints\":\"all\",\"hovertext\":[],\"legendgroup\":\"xeno-learning\",\"marker\":{\"color\":\"#b86fdc\"},\"name\":\"xeno-learning\",\"offsetgroup\":\"xeno-learning\",\"showlegend\":false,\"text\":[],\"x\":[],\"y\":[],\"type\":\"box\",\"xaxis\":\"x2\",\"yaxis\":\"y2\"},{\"boxmean\":true,\"boxpoints\":\"all\",\"hovertext\":[],\"legendgroup\":\"xeno-learning\",\"marker\":{\"color\":\"#b86fdc\"},\"name\":\"xeno-learning\",\"offsetgroup\":\"xeno-learning\",\"showlegend\":false,\"text\":[],\"x\":[],\"y\":[],\"type\":\"box\",\"xaxis\":\"x2\",\"yaxis\":\"y2\"},{\"boxmean\":true,\"boxpoints\":\"all\",\"hovertext\":[],\"legendgroup\":\"xeno-learning\",\"marker\":{\"color\":\"#b86fdc\"},\"name\":\"xeno-learning\",\"offsetgroup\":\"xeno-learning\",\"showlegend\":false,\"text\":[],\"x\":[],\"y\":[],\"type\":\"box\",\"xaxis\":\"x2\",\"yaxis\":\"y2\"},{\"boxmean\":true,\"boxpoints\":\"all\",\"hovertext\":[],\"legendgroup\":\"xeno-learning\",\"marker\":{\"color\":\"#b86fdc\"},\"name\":\"xeno-learning\",\"offsetgroup\":\"xeno-learning\",\"showlegend\":false,\"text\":[],\"x\":[],\"y\":[],\"type\":\"box\",\"xaxis\":\"x2\",\"yaxis\":\"y2\"},{\"boxmean\":true,\"boxpoints\":\"all\",\"hovertext\":[\"R043\",\"R046\",\"R047\",\"R048\",\"R044\",\"R045\"],\"legendgroup\":\"xeno-learning\",\"marker\":{\"color\":\"#b86fdc\"},\"name\":\"xeno-learning\",\"offsetgroup\":\"xeno-learning\",\"showlegend\":false,\"text\":[\"stomach\",\"stomach\",\"stomach\",\"stomach\",\"stomach\",\"stomach\"],\"x\":[\"stomach\",\"stomach\",\"stomach\",\"stomach\",\"stomach\",\"stomach\"],\"y\":{\"dtype\":\"f8\",\"bdata\":\"IhzCIdzv7z+wdJID67nvP5JYDRffxO8\\u002f0IfTEOq85j8AAAAAgD\\u002fuP+5meRJpAO4\\u002f\"},\"type\":\"box\",\"xaxis\":\"x2\",\"yaxis\":\"y2\"},{\"boxmean\":true,\"boxpoints\":\"all\",\"hovertext\":[\"R047\",\"R045\",\"R044\",\"R046\",\"R043\",\"R048\"],\"legendgroup\":\"xeno-learning\",\"marker\":{\"color\":\"#b86fdc\"},\"name\":\"xeno-learning\",\"offsetgroup\":\"xeno-learning\",\"showlegend\":false,\"text\":[\"small_bowel\",\"small_bowel\",\"small_bowel\",\"small_bowel\",\"small_bowel\",\"small_bowel\"],\"x\":[\"small bowel\",\"small bowel\",\"small bowel\",\"small bowel\",\"small bowel\",\"small bowel\"],\"y\":{\"dtype\":\"f8\",\"bdata\":\"BjlL9ldt7T+2m+VJJCjqP4QQQgjx9uo\\u002fwLk8+1uT7j\\u002fxD\\u002f\\u002fwz8rrP2R5r7YIZuk\\u002f\"},\"type\":\"box\",\"xaxis\":\"x2\",\"yaxis\":\"y2\"},{\"boxmean\":true,\"boxpoints\":\"all\",\"hovertext\":[\"R047\",\"R043\",\"R044\",\"R046\",\"R048\",\"R045\"],\"legendgroup\":\"xeno-learning\",\"marker\":{\"color\":\"#b86fdc\"},\"name\":\"xeno-learning\",\"offsetgroup\":\"xeno-learning\",\"showlegend\":false,\"text\":[\"colon\",\"colon\",\"colon\",\"colon\",\"colon\",\"colon\"],\"x\":[\"colon\",\"colon\",\"colon\",\"colon\",\"colon\",\"colon\"],\"y\":{\"dtype\":\"f8\",\"bdata\":\"eXTgPf\\u002f\\u002f7z+P6IiOKP3vPzLGGGNw\\u002fu8\\u002filTvoUj+7z8x+\\u002fPhdLvkP+CLqx\\u002fEJ+8\\u002f\"},\"type\":\"box\",\"xaxis\":\"x2\",\"yaxis\":\"y2\"},{\"boxmean\":true,\"boxpoints\":\"all\",\"hovertext\":[\"R047\",\"R046\",\"R045\",\"R048\",\"R044\",\"R043\"],\"legendgroup\":\"xeno-learning\",\"marker\":{\"color\":\"#b86fdc\"},\"name\":\"xeno-learning\",\"offsetgroup\":\"xeno-learning\",\"showlegend\":false,\"text\":[\"liver\",\"liver\",\"liver\",\"liver\",\"liver\",\"liver\"],\"x\":[\"liver\",\"liver\",\"liver\",\"liver\",\"liver\",\"liver\"],\"y\":{\"dtype\":\"f8\",\"bdata\":\"0oH3fCP47D\\u002fPLXHqR8HsPyLTsN2M3Os\\u002foZJuFFM07T\\u002f43nvv4YnlP97d3d19Ue8\\u002f\"},\"type\":\"box\",\"xaxis\":\"x2\",\"yaxis\":\"y2\"},{\"boxmean\":true,\"boxpoints\":\"all\",\"hovertext\":[\"R045\",\"R047\",\"R043\",\"R048\",\"R044\",\"R046\"],\"legendgroup\":\"xeno-learning\",\"marker\":{\"color\":\"#b86fdc\"},\"name\":\"xeno-learning\",\"offsetgroup\":\"xeno-learning\",\"showlegend\":false,\"text\":[\"pancreas\",\"pancreas\",\"pancreas\",\"pancreas\",\"pancreas\",\"pancreas\"],\"x\":[\"pancreas\",\"pancreas\",\"pancreas\",\"pancreas\",\"pancreas\",\"pancreas\"],\"y\":{\"dtype\":\"f8\",\"bdata\":\"2G6WJxEElz+6ncqjQ4a8PwAAAAAcy9g\\u002fRGqC8Vpfoj\\u002fvvffe5\\u002fTZP8mBpZN8ptY\\u002f\"},\"type\":\"box\",\"xaxis\":\"x2\",\"yaxis\":\"y2\"},{\"boxmean\":true,\"boxpoints\":\"all\",\"hovertext\":[\"R045\",\"R048\",\"R044\",\"R043\",\"R047\",\"R046\"],\"legendgroup\":\"xeno-learning\",\"marker\":{\"color\":\"#b86fdc\"},\"name\":\"xeno-learning\",\"offsetgroup\":\"xeno-learning\",\"showlegend\":false,\"text\":[\"kidney\",\"kidney\",\"kidney\",\"kidney\",\"kidney\",\"kidney\"],\"x\":[\"kidney\",\"kidney\",\"kidney\",\"kidney\",\"kidney\",\"kidney\"],\"y\":{\"dtype\":\"f8\",\"bdata\":\"GFc\\u002f6Ihe6j\\u002fRCpsDiQDvP3TOOecs9uE\\u002fqJzdwn\\u002fL7j+W7K91BX7sP5HqPRQJQ+4\\u002f\"},\"type\":\"box\",\"xaxis\":\"x2\",\"yaxis\":\"y2\"},{\"boxmean\":true,\"boxpoints\":\"all\",\"hovertext\":[\"R047\",\"R046\",\"R048\",\"R045\",\"R044\",\"R043\"],\"legendgroup\":\"xeno-learning\",\"marker\":{\"color\":\"#b86fdc\"},\"name\":\"xeno-learning\",\"offsetgroup\":\"xeno-learning\",\"showlegend\":false,\"text\":[\"omentum\",\"omentum\",\"omentum\",\"omentum\",\"omentum\",\"omentum\"],\"x\":[\"omentum\",\"omentum\",\"omentum\",\"omentum\",\"omentum\",\"omentum\"],\"y\":{\"dtype\":\"f8\",\"bdata\":\"ZX+tKzTx7j9xR9wRF57tP2DwWN6LzOs\\u002fzObSofY84z+21lprec\\u002fvP5VRGZVRwe8\\u002f\"},\"type\":\"box\",\"xaxis\":\"x2\",\"yaxis\":\"y2\"},{\"boxmean\":true,\"boxpoints\":\"all\",\"hovertext\":[\"R045\",\"R046\",\"R044\",\"R043\",\"R047\",\"R048\"],\"legendgroup\":\"xeno-learning\",\"marker\":{\"color\":\"#b86fdc\"},\"name\":\"xeno-learning\",\"offsetgroup\":\"xeno-learning\",\"showlegend\":false,\"text\":[\"peritoneum\",\"peritoneum\",\"peritoneum\",\"peritoneum\",\"peritoneum\",\"peritoneum\"],\"x\":[\"peritoneum\",\"peritoneum\",\"peritoneum\",\"peritoneum\",\"peritoneum\",\"peritoneum\"],\"y\":{\"dtype\":\"f8\",\"bdata\":\"AAAAAECj7z+\\u002foC\\u002foq\\u002f\\u002fvP3TOOedsaOw\\u002f2piN2Zj\\u002f7z\\u002fgPd+Y1qXvP0\\u002fGb5fa\\u002f+8\\u002f\"},\"type\":\"box\",\"xaxis\":\"x2\",\"yaxis\":\"y2\"}],                        {\"template\":{\"data\":{\"barpolar\":[{\"marker\":{\"line\":{\"color\":\"white\",\"width\":0.5},\"pattern\":{\"fillmode\":\"overlay\",\"size\":10,\"solidity\":0.2}},\"type\":\"barpolar\"}],\"bar\":[{\"error_x\":{\"color\":\"#2a3f5f\"},\"error_y\":{\"color\":\"#2a3f5f\"},\"marker\":{\"line\":{\"color\":\"white\",\"width\":0.5},\"pattern\":{\"fillmode\":\"overlay\",\"size\":10,\"solidity\":0.2}},\"type\":\"bar\"}],\"carpet\":[{\"aaxis\":{\"endlinecolor\":\"#2a3f5f\",\"gridcolor\":\"#C8D4E3\",\"linecolor\":\"#C8D4E3\",\"minorgridcolor\":\"#C8D4E3\",\"startlinecolor\":\"#2a3f5f\"},\"baxis\":{\"endlinecolor\":\"#2a3f5f\",\"gridcolor\":\"#C8D4E3\",\"linecolor\":\"#C8D4E3\",\"minorgridcolor\":\"#C8D4E3\",\"startlinecolor\":\"#2a3f5f\"},\"type\":\"carpet\"}],\"choropleth\":[{\"colorbar\":{\"outlinewidth\":0,\"ticks\":\"\"},\"type\":\"choropleth\"}],\"contourcarpet\":[{\"colorbar\":{\"outlinewidth\":0,\"ticks\":\"\"},\"type\":\"contourcarpet\"}],\"contour\":[{\"colorbar\":{\"outlinewidth\":0,\"ticks\":\"\"},\"colorscale\":[[0.0,\"#0d0887\"],[0.1111111111111111,\"#46039f\"],[0.2222222222222222,\"#7201a8\"],[0.3333333333333333,\"#9c179e\"],[0.4444444444444444,\"#bd3786\"],[0.5555555555555556,\"#d8576b\"],[0.6666666666666666,\"#ed7953\"],[0.7777777777777778,\"#fb9f3a\"],[0.8888888888888888,\"#fdca26\"],[1.0,\"#f0f921\"]],\"type\":\"contour\"}],\"heatmap\":[{\"colorbar\":{\"outlinewidth\":0,\"ticks\":\"\"},\"colorscale\":[[0.0,\"#0d0887\"],[0.1111111111111111,\"#46039f\"],[0.2222222222222222,\"#7201a8\"],[0.3333333333333333,\"#9c179e\"],[0.4444444444444444,\"#bd3786\"],[0.5555555555555556,\"#d8576b\"],[0.6666666666666666,\"#ed7953\"],[0.7777777777777778,\"#fb9f3a\"],[0.8888888888888888,\"#fdca26\"],[1.0,\"#f0f921\"]],\"type\":\"heatmap\"}],\"histogram2dcontour\":[{\"colorbar\":{\"outlinewidth\":0,\"ticks\":\"\"},\"colorscale\":[[0.0,\"#0d0887\"],[0.1111111111111111,\"#46039f\"],[0.2222222222222222,\"#7201a8\"],[0.3333333333333333,\"#9c179e\"],[0.4444444444444444,\"#bd3786\"],[0.5555555555555556,\"#d8576b\"],[0.6666666666666666,\"#ed7953\"],[0.7777777777777778,\"#fb9f3a\"],[0.8888888888888888,\"#fdca26\"],[1.0,\"#f0f921\"]],\"type\":\"histogram2dcontour\"}],\"histogram2d\":[{\"colorbar\":{\"outlinewidth\":0,\"ticks\":\"\"},\"colorscale\":[[0.0,\"#0d0887\"],[0.1111111111111111,\"#46039f\"],[0.2222222222222222,\"#7201a8\"],[0.3333333333333333,\"#9c179e\"],[0.4444444444444444,\"#bd3786\"],[0.5555555555555556,\"#d8576b\"],[0.6666666666666666,\"#ed7953\"],[0.7777777777777778,\"#fb9f3a\"],[0.8888888888888888,\"#fdca26\"],[1.0,\"#f0f921\"]],\"type\":\"histogram2d\"}],\"histogram\":[{\"marker\":{\"pattern\":{\"fillmode\":\"overlay\",\"size\":10,\"solidity\":0.2}},\"type\":\"histogram\"}],\"mesh3d\":[{\"colorbar\":{\"outlinewidth\":0,\"ticks\":\"\"},\"type\":\"mesh3d\"}],\"parcoords\":[{\"line\":{\"colorbar\":{\"outlinewidth\":0,\"ticks\":\"\"}},\"type\":\"parcoords\"}],\"pie\":[{\"automargin\":true,\"type\":\"pie\"}],\"scatter3d\":[{\"line\":{\"colorbar\":{\"outlinewidth\":0,\"ticks\":\"\"}},\"marker\":{\"colorbar\":{\"outlinewidth\":0,\"ticks\":\"\"}},\"type\":\"scatter3d\"}],\"scattercarpet\":[{\"marker\":{\"colorbar\":{\"outlinewidth\":0,\"ticks\":\"\"}},\"type\":\"scattercarpet\"}],\"scattergeo\":[{\"marker\":{\"colorbar\":{\"outlinewidth\":0,\"ticks\":\"\"}},\"type\":\"scattergeo\"}],\"scattergl\":[{\"marker\":{\"colorbar\":{\"outlinewidth\":0,\"ticks\":\"\"}},\"type\":\"scattergl\"}],\"scattermapbox\":[{\"marker\":{\"colorbar\":{\"outlinewidth\":0,\"ticks\":\"\"}},\"type\":\"scattermapbox\"}],\"scattermap\":[{\"marker\":{\"colorbar\":{\"outlinewidth\":0,\"ticks\":\"\"}},\"type\":\"scattermap\"}],\"scatterpolargl\":[{\"marker\":{\"colorbar\":{\"outlinewidth\":0,\"ticks\":\"\"}},\"type\":\"scatterpolargl\"}],\"scatterpolar\":[{\"marker\":{\"colorbar\":{\"outlinewidth\":0,\"ticks\":\"\"}},\"type\":\"scatterpolar\"}],\"scatter\":[{\"fillpattern\":{\"fillmode\":\"overlay\",\"size\":10,\"solidity\":0.2},\"type\":\"scatter\"}],\"scatterternary\":[{\"marker\":{\"colorbar\":{\"outlinewidth\":0,\"ticks\":\"\"}},\"type\":\"scatterternary\"}],\"surface\":[{\"colorbar\":{\"outlinewidth\":0,\"ticks\":\"\"},\"colorscale\":[[0.0,\"#0d0887\"],[0.1111111111111111,\"#46039f\"],[0.2222222222222222,\"#7201a8\"],[0.3333333333333333,\"#9c179e\"],[0.4444444444444444,\"#bd3786\"],[0.5555555555555556,\"#d8576b\"],[0.6666666666666666,\"#ed7953\"],[0.7777777777777778,\"#fb9f3a\"],[0.8888888888888888,\"#fdca26\"],[1.0,\"#f0f921\"]],\"type\":\"surface\"}],\"table\":[{\"cells\":{\"fill\":{\"color\":\"#EBF0F8\"},\"line\":{\"color\":\"white\"}},\"header\":{\"fill\":{\"color\":\"#C8D4E3\"},\"line\":{\"color\":\"white\"}},\"type\":\"table\"}]},\"layout\":{\"annotationdefaults\":{\"arrowcolor\":\"#2a3f5f\",\"arrowhead\":0,\"arrowwidth\":1},\"autotypenumbers\":\"strict\",\"coloraxis\":{\"colorbar\":{\"outlinewidth\":0,\"ticks\":\"\"}},\"colorscale\":{\"diverging\":[[0,\"#8e0152\"],[0.1,\"#c51b7d\"],[0.2,\"#de77ae\"],[0.3,\"#f1b6da\"],[0.4,\"#fde0ef\"],[0.5,\"#f7f7f7\"],[0.6,\"#e6f5d0\"],[0.7,\"#b8e186\"],[0.8,\"#7fbc41\"],[0.9,\"#4d9221\"],[1,\"#276419\"]],\"sequential\":[[0.0,\"#0d0887\"],[0.1111111111111111,\"#46039f\"],[0.2222222222222222,\"#7201a8\"],[0.3333333333333333,\"#9c179e\"],[0.4444444444444444,\"#bd3786\"],[0.5555555555555556,\"#d8576b\"],[0.6666666666666666,\"#ed7953\"],[0.7777777777777778,\"#fb9f3a\"],[0.8888888888888888,\"#fdca26\"],[1.0,\"#f0f921\"]],\"sequentialminus\":[[0.0,\"#0d0887\"],[0.1111111111111111,\"#46039f\"],[0.2222222222222222,\"#7201a8\"],[0.3333333333333333,\"#9c179e\"],[0.4444444444444444,\"#bd3786\"],[0.5555555555555556,\"#d8576b\"],[0.6666666666666666,\"#ed7953\"],[0.7777777777777778,\"#fb9f3a\"],[0.8888888888888888,\"#fdca26\"],[1.0,\"#f0f921\"]]},\"colorway\":[\"#636efa\",\"#EF553B\",\"#00cc96\",\"#ab63fa\",\"#FFA15A\",\"#19d3f3\",\"#FF6692\",\"#B6E880\",\"#FF97FF\",\"#FECB52\"],\"font\":{\"color\":\"#2a3f5f\"},\"geo\":{\"bgcolor\":\"white\",\"lakecolor\":\"white\",\"landcolor\":\"white\",\"showlakes\":true,\"showland\":true,\"subunitcolor\":\"#C8D4E3\"},\"hoverlabel\":{\"align\":\"left\"},\"hovermode\":\"closest\",\"mapbox\":{\"style\":\"light\"},\"paper_bgcolor\":\"white\",\"plot_bgcolor\":\"white\",\"polar\":{\"angularaxis\":{\"gridcolor\":\"#EBF0F8\",\"linecolor\":\"#EBF0F8\",\"ticks\":\"\"},\"bgcolor\":\"white\",\"radialaxis\":{\"gridcolor\":\"#EBF0F8\",\"linecolor\":\"#EBF0F8\",\"ticks\":\"\"}},\"scene\":{\"xaxis\":{\"backgroundcolor\":\"white\",\"gridcolor\":\"#DFE8F3\",\"gridwidth\":2,\"linecolor\":\"#EBF0F8\",\"showbackground\":true,\"ticks\":\"\",\"zerolinecolor\":\"#EBF0F8\"},\"yaxis\":{\"backgroundcolor\":\"white\",\"gridcolor\":\"#DFE8F3\",\"gridwidth\":2,\"linecolor\":\"#EBF0F8\",\"showbackground\":true,\"ticks\":\"\",\"zerolinecolor\":\"#EBF0F8\"},\"zaxis\":{\"backgroundcolor\":\"white\",\"gridcolor\":\"#DFE8F3\",\"gridwidth\":2,\"linecolor\":\"#EBF0F8\",\"showbackground\":true,\"ticks\":\"\",\"zerolinecolor\":\"#EBF0F8\"}},\"shapedefaults\":{\"line\":{\"color\":\"#2a3f5f\"}},\"ternary\":{\"aaxis\":{\"gridcolor\":\"#DFE8F3\",\"linecolor\":\"#A2B1C6\",\"ticks\":\"\"},\"baxis\":{\"gridcolor\":\"#DFE8F3\",\"linecolor\":\"#A2B1C6\",\"ticks\":\"\"},\"bgcolor\":\"white\",\"caxis\":{\"gridcolor\":\"#DFE8F3\",\"linecolor\":\"#A2B1C6\",\"ticks\":\"\"}},\"title\":{\"x\":0.05},\"xaxis\":{\"automargin\":true,\"gridcolor\":\"#EBF0F8\",\"linecolor\":\"#EBF0F8\",\"ticks\":\"\",\"title\":{\"standoff\":15},\"zerolinecolor\":\"#EBF0F8\",\"zerolinewidth\":2},\"yaxis\":{\"automargin\":true,\"gridcolor\":\"#EBF0F8\",\"linecolor\":\"#EBF0F8\",\"ticks\":\"\",\"title\":{\"standoff\":15},\"zerolinecolor\":\"#EBF0F8\",\"zerolinewidth\":2}}},\"xaxis\":{\"anchor\":\"y\",\"domain\":[0.0,1.0],\"matches\":\"x2\",\"showticklabels\":true,\"tickfont\":{\"size\":16},\"autorangeoptions\":{\"minallowed\":-0.52,\"maxallowed\":7.4},\"range\":[-0.52,7.4]},\"yaxis\":{\"anchor\":\"x\",\"domain\":[0.575,1.0],\"title\":{\"text\":\"\\u003cb\\u003eDSC\\u003c\\u002fb\\u003e\",\"standoff\":10},\"tickfont\":{\"size\":16},\"range\":[-0.05,1.05]},\"xaxis2\":{\"anchor\":\"y2\",\"domain\":[0.0,1.0],\"tickfont\":{\"size\":16},\"showticklabels\":true},\"yaxis2\":{\"anchor\":\"x2\",\"domain\":[0.0,0.425],\"title\":{\"text\":\"\\u003cb\\u003eDSC\\u003c\\u002fb\\u003e\",\"standoff\":10},\"tickfont\":{\"size\":16}},\"boxmode\":\"group\",\"boxgap\":0.2,\"boxgroupgap\":0.45,\"legend\":{\"orientation\":\"h\",\"yanchor\":\"bottom\",\"y\":1.01,\"xanchor\":\"center\",\"x\":0.5},\"font\":{\"family\":\"Libertinus Sans\",\"size\":16},\"margin\":{\"l\":0,\"r\":0,\"b\":0,\"t\":0},\"height\":700,\"width\":1000},                        {\"responsive\": true}                    ).then(function(){\n",
       "                            \n",
       "var gd = document.getElementById('cd072cd8-be6f-4f62-ac4c-09c28206e7e3');\n",
       "var x = new MutationObserver(function (mutations, observer) {{\n",
       "        var display = window.getComputedStyle(gd).display;\n",
       "        if (!display || display === 'none') {{\n",
       "            console.log([gd, 'removed!']);\n",
       "            Plotly.purge(gd);\n",
       "            observer.disconnect();\n",
       "        }}\n",
       "}});\n",
       "\n",
       "// Listen for the removal of the full notebook cells\n",
       "var notebookContainer = gd.closest('#notebook-container');\n",
       "if (notebookContainer) {{\n",
       "    x.observe(notebookContainer, {childList: true});\n",
       "}}\n",
       "\n",
       "// Listen for the clearing of the current output cell\n",
       "var outputEl = gd.closest('.output');\n",
       "if (outputEl) {{\n",
       "    x.observe(outputEl, {childList: true});\n",
       "}}\n",
       "\n",
       "                        })                };            </script>        </div>"
      ]
     },
     "metadata": {},
     "output_type": "display_data"
    }
   ],
   "source": [
    "fig = make_subplots(\n",
    "    rows=2,\n",
    "    cols=1,\n",
    "    shared_xaxes=True,\n",
    "    vertical_spacing=0.15,\n",
    ")\n",
    "\n",
    "metric_name = \"dice_metric\"\n",
    "network_renaming = {\n",
    "    \"baseline_pig\": \"baseline\",\n",
    "    \"baseline_rat\": \"baseline\",\n",
    "    \"projected-ICG_rat2pig\": \"xeno-learning\",\n",
    "    \"projected-ICG_pig2rat\": \"xeno-learning\",\n",
    "}\n",
    "\n",
    "\n",
    "def add_species(species: str, row: int, col: int) -> go.Figure:\n",
    "    for network in df[\"network\"].unique():\n",
    "        if \"baseline\" in network:\n",
    "            color = settings_species.species_colors[species]\n",
    "        else:\n",
    "            color = settings_species.xeno_learning_color\n",
    "\n",
    "        network_short = network_renaming.get(network, network)\n",
    "\n",
    "        for l, label_name in enumerate(df[\"label_name\"].unique()):\n",
    "            df_label = df[(df[\"species\"] == species) & (df[\"label_name\"] == label_name) & (df[\"network\"] == network)]\n",
    "            fig.add_trace(\n",
    "                go.Box(\n",
    "                    y=df_label[metric_name],\n",
    "                    x=[settings_rat.labels_paper_renaming.get(label_name, label_name)] * len(df_label[metric_name]),\n",
    "                    offsetgroup=network_short,\n",
    "                    text=df_label[\"label_name\"],\n",
    "                    boxpoints=\"all\",\n",
    "                    boxmean=True,\n",
    "                    name=network_short,\n",
    "                    marker_color=color,\n",
    "                    hovertext=df_label[\"subject_name\"],\n",
    "                    legendgroup=network_short,\n",
    "                    showlegend=False,\n",
    "                ),\n",
    "                row=row,\n",
    "                col=col,\n",
    "            )\n",
    "\n",
    "    return fig\n",
    "\n",
    "\n",
    "add_species(\"pig\", row=1, col=1)\n",
    "add_species(\"rat\", row=2, col=1)\n",
    "\n",
    "fig.update_annotations(xanchor=\"left\", x=0)\n",
    "fig.update_yaxes(title_standoff=12)\n",
    "fig.update_yaxes(tickfont=dict(size=16))\n",
    "fig.update_xaxes(tickfont=dict(size=16))\n",
    "xmin = -0.52\n",
    "xmax = len(settings_species.icg_labels) - 0.6\n",
    "fig.update_layout(\n",
    "    yaxis_range=[-0.05, 1.05],\n",
    "    xaxis_range=[xmin, xmax],\n",
    "    xaxis_autorangeoptions_minallowed=xmin,\n",
    "    xaxis_autorangeoptions_maxallowed=xmax,\n",
    ")\n",
    "fig.update_layout(boxmode=\"group\", boxgap=0.2, boxgroupgap=0.45)\n",
    "fig.update_layout(legend=dict(orientation=\"h\", yanchor=\"bottom\", y=1.01, xanchor=\"center\", x=0.5))\n",
    "fig.update_layout(\n",
    "    template=\"plotly_white\",\n",
    "    height=700,\n",
    "    width=1000,\n",
    "    font_family=\"Libertinus Sans\",\n",
    "    font_size=16,\n",
    "    margin=dict(l=0, r=0, b=0, t=0),\n",
    ")\n",
    "fig.update_xaxes(showticklabels=True)\n",
    "fig.update_yaxes(title=\"<b>DSC</b>\", title_standoff=10)\n",
    "fig.write_image(settings_species.paper_dir / \"icg_performance.pdf\")\n",
    "fig"
   ]
  }
 ],
 "metadata": {
  "kernelspec": {
   "display_name": "htc",
   "language": "python",
   "name": "python3"
  },
  "language_info": {
   "codemirror_mode": {
    "name": "ipython",
    "version": 3
   },
   "file_extension": ".py",
   "mimetype": "text/x-python",
   "name": "python",
   "nbconvert_exporter": "python",
   "pygments_lexer": "ipython3",
   "version": "3.13.3"
  }
 },
 "nbformat": 4,
 "nbformat_minor": 2
}
