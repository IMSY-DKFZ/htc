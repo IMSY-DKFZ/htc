{
 "cells": [
  {
   "cell_type": "markdown",
   "id": "233a78d4-d1b2-4256-b8f4-0a91018ebcfa",
   "metadata": {},
   "source": [
    "# Task Performance Comparison"
   ]
  },
  {
   "cell_type": "code",
   "execution_count": 1,
   "id": "2a4c119d-e5d0-47d0-af5f-8b78af216b7c",
   "metadata": {},
   "outputs": [],
   "source": [
    "%load_ext autoreload\n",
    "%autoreload 2\n",
    "\n",
    "import plotly.graph_objects as go\n",
    "import plotly.io as pio\n",
    "from plotly.subplots import make_subplots\n",
    "\n",
    "from htc.context.models.context_evaluation import best_run_data\n",
    "from htc.context.settings_context import settings_context\n",
    "from htc.settings_seg import settings_seg\n",
    "\n",
    "pio.kaleido.scope.mathjax = None"
   ]
  },
  {
   "cell_type": "code",
   "execution_count": 2,
   "id": "cee612e7-83c9-4195-a6e0-394df47b8746",
   "metadata": {},
   "outputs": [
    {
     "data": {
      "text/html": [
       "<pre style=\"white-space:pre;overflow-x:auto;line-height:normal;font-family:Menlo,'DejaVu Sans Mono',consolas,'Courier New',monospace\"><span style=\"font-weight: bold\">[</span><span style=\"color: #008700; text-decoration-color: #008700\">INFO</span><span style=\"font-weight: bold\">][</span><span style=\"font-style: italic\">htc.no_duplicates</span><span style=\"font-weight: bold\">]</span> Found pretrained run in the local results dir at                               <span style=\"color: #7f7f7f; text-decoration-color: #7f7f7f\">HTCModel.py:510</span>\n",
       "<span style=\"color: #800080; text-decoration-color: #800080\">/mnt/ssd_8tb/htc/results_semantic/training/image/</span><span style=\"color: #ff00ff; text-decoration-color: #ff00ff\">2022-02-03_22-58-44_generated_default_model_comparison</span>  <span style=\"color: #7f7f7f; text-decoration-color: #7f7f7f\">               </span>\n",
       "</pre>\n"
      ],
      "text/plain": [
       "\u001b[1m[\u001b[0m\u001b[38;5;28mINFO\u001b[0m\u001b[1m]\u001b[0m\u001b[1m[\u001b[0m\u001b[3mhtc.no_duplicates\u001b[0m\u001b[1m]\u001b[0m Found pretrained run in the local results dir at                               \u001b[2mHTCModel.py:510\u001b[0m\n",
       "\u001b[35m/mnt/ssd_8tb/htc/results_semantic/training/image/\u001b[0m\u001b[95m2022-02-03_22-58-44_generated_default_model_comparison\u001b[0m  \u001b[2m               \u001b[0m\n"
      ]
     },
     "metadata": {},
     "output_type": "display_data"
    },
    {
     "data": {
      "text/html": [
       "<pre style=\"white-space:pre;overflow-x:auto;line-height:normal;font-family:Menlo,'DejaVu Sans Mono',consolas,'Courier New',monospace\"><span style=\"font-weight: bold\">[</span><span style=\"color: #808000; text-decoration-color: #808000\">WARNING</span><span style=\"font-weight: bold\">][</span><span style=\"font-style: italic\">py.warnings</span><span style=\"font-weight: bold\">]</span> <span style=\"color: #800080; text-decoration-color: #800080\">/home/j562r/htc/src/htc/context/models/</span><span style=\"color: #ff00ff; text-decoration-color: #ff00ff\">context_evaluation.py</span>:<span style=\"color: #afafaf; text-decoration-color: #afafaf\">44</span>: FutureWarning:   <span style=\"color: #7f7f7f; text-decoration-color: #7f7f7f\">warnings.py:109</span>\n",
       "                                                                                                         <span style=\"color: #7f7f7f; text-decoration-color: #7f7f7f\">               </span>\n",
       "The provided callable <span style=\"font-weight: bold\">&lt;</span><span style=\"color: #ff00ff; text-decoration-color: #ff00ff; font-weight: bold\">built-in</span><span style=\"color: #000000; text-decoration-color: #000000\"> function min</span><span style=\"font-weight: bold\">&gt;</span> is currently using SeriesGroupBy.min. In a future version  <span style=\"color: #7f7f7f; text-decoration-color: #7f7f7f\">               </span>\n",
       "of pandas, the provided callable will be used directly. To keep current behavior pass the string <span style=\"color: #808080; text-decoration-color: #808080\">\"min\"</span>   <span style=\"color: #7f7f7f; text-decoration-color: #7f7f7f\">               </span>\n",
       "instead.                                                                                                 <span style=\"color: #7f7f7f; text-decoration-color: #7f7f7f\">               </span>\n",
       "                                                                                                         <span style=\"color: #7f7f7f; text-decoration-color: #7f7f7f\">               </span>\n",
       "                                                                                                         <span style=\"color: #7f7f7f; text-decoration-color: #7f7f7f\">               </span>\n",
       "</pre>\n"
      ],
      "text/plain": [
       "\u001b[1m[\u001b[0m\u001b[33mWARNING\u001b[0m\u001b[1m]\u001b[0m\u001b[1m[\u001b[0m\u001b[3mpy.warnings\u001b[0m\u001b[1m]\u001b[0m \u001b[35m/home/j562r/htc/src/htc/context/models/\u001b[0m\u001b[95mcontext_evaluation.py\u001b[0m:\u001b[38;5;145m44\u001b[0m: FutureWarning:   \u001b[2mwarnings.py:109\u001b[0m\n",
       "                                                                                                         \u001b[2m               \u001b[0m\n",
       "The provided callable \u001b[1m<\u001b[0m\u001b[1;95mbuilt-in\u001b[0m\u001b[39m function min\u001b[0m\u001b[1m>\u001b[0m is currently using SeriesGroupBy.min. In a future version  \u001b[2m               \u001b[0m\n",
       "of pandas, the provided callable will be used directly. To keep current behavior pass the string \u001b[90m\"min\"\u001b[0m   \u001b[2m               \u001b[0m\n",
       "instead.                                                                                                 \u001b[2m               \u001b[0m\n",
       "                                                                                                         \u001b[2m               \u001b[0m\n",
       "                                                                                                         \u001b[2m               \u001b[0m\n"
      ]
     },
     "metadata": {},
     "output_type": "display_data"
    },
    {
     "data": {
      "text/html": [
       "<pre style=\"white-space:pre;overflow-x:auto;line-height:normal;font-family:Menlo,'DejaVu Sans Mono',consolas,'Courier New',monospace\"><span style=\"font-weight: bold\">[</span><span style=\"color: #008700; text-decoration-color: #008700\">INFO</span><span style=\"font-weight: bold\">][</span><span style=\"font-style: italic\">htc.no_duplicates</span><span style=\"font-weight: bold\">]</span> Found pretrained run in the local results dir at                               <span style=\"color: #7f7f7f; text-decoration-color: #7f7f7f\">HTCModel.py:510</span>\n",
       "<span style=\"color: #800080; text-decoration-color: #800080\">/mnt/ssd_8tb/htc/results_semantic/training/image/</span><span style=\"color: #ff00ff; text-decoration-color: #ff00ff\">2022-02-03_22-58-44_generated_default_rgb_model_compari</span> <span style=\"color: #7f7f7f; text-decoration-color: #7f7f7f\">               </span>\n",
       "<span style=\"color: #ff00ff; text-decoration-color: #ff00ff\">son</span>                                                                                                      <span style=\"color: #7f7f7f; text-decoration-color: #7f7f7f\">               </span>\n",
       "</pre>\n"
      ],
      "text/plain": [
       "\u001b[1m[\u001b[0m\u001b[38;5;28mINFO\u001b[0m\u001b[1m]\u001b[0m\u001b[1m[\u001b[0m\u001b[3mhtc.no_duplicates\u001b[0m\u001b[1m]\u001b[0m Found pretrained run in the local results dir at                               \u001b[2mHTCModel.py:510\u001b[0m\n",
       "\u001b[35m/mnt/ssd_8tb/htc/results_semantic/training/image/\u001b[0m\u001b[95m2022-02-03_22-58-44_generated_default_rgb_model_compari\u001b[0m \u001b[2m               \u001b[0m\n",
       "\u001b[95mson\u001b[0m                                                                                                      \u001b[2m               \u001b[0m\n"
      ]
     },
     "metadata": {},
     "output_type": "display_data"
    },
    {
     "data": {
      "text/html": [
       "<div>\n",
       "<style scoped>\n",
       "    .dataframe tbody tr th:only-of-type {\n",
       "        vertical-align: middle;\n",
       "    }\n",
       "\n",
       "    .dataframe tbody tr th {\n",
       "        vertical-align: top;\n",
       "    }\n",
       "\n",
       "    .dataframe thead th {\n",
       "        text-align: right;\n",
       "    }\n",
       "</style>\n",
       "<table border=\"1\" class=\"dataframe\">\n",
       "  <thead>\n",
       "    <tr style=\"text-align: right;\">\n",
       "      <th></th>\n",
       "      <th>network</th>\n",
       "      <th>dataset</th>\n",
       "      <th>label_index</th>\n",
       "      <th>dice_metric</th>\n",
       "      <th>surface_distance_metric</th>\n",
       "      <th>surface_dice_metric_mean</th>\n",
       "      <th>label_name</th>\n",
       "      <th>modality</th>\n",
       "    </tr>\n",
       "  </thead>\n",
       "  <tbody>\n",
       "    <tr>\n",
       "      <th>0</th>\n",
       "      <td>baseline</td>\n",
       "      <td>semantic</td>\n",
       "      <td>6</td>\n",
       "      <td>0.861474</td>\n",
       "      <td>9.262870</td>\n",
       "      <td>0.790171</td>\n",
       "      <td>stomach</td>\n",
       "      <td>HSI</td>\n",
       "    </tr>\n",
       "    <tr>\n",
       "      <th>1</th>\n",
       "      <td>baseline</td>\n",
       "      <td>semantic</td>\n",
       "      <td>5</td>\n",
       "      <td>0.957207</td>\n",
       "      <td>4.624576</td>\n",
       "      <td>0.791536</td>\n",
       "      <td>small_bowel</td>\n",
       "      <td>HSI</td>\n",
       "    </tr>\n",
       "    <tr>\n",
       "      <th>2</th>\n",
       "      <td>baseline</td>\n",
       "      <td>semantic</td>\n",
       "      <td>4</td>\n",
       "      <td>0.948589</td>\n",
       "      <td>3.187332</td>\n",
       "      <td>0.924161</td>\n",
       "      <td>colon</td>\n",
       "      <td>HSI</td>\n",
       "    </tr>\n",
       "    <tr>\n",
       "      <th>3</th>\n",
       "      <td>baseline</td>\n",
       "      <td>semantic</td>\n",
       "      <td>3</td>\n",
       "      <td>0.955587</td>\n",
       "      <td>3.820706</td>\n",
       "      <td>0.645928</td>\n",
       "      <td>liver</td>\n",
       "      <td>HSI</td>\n",
       "    </tr>\n",
       "    <tr>\n",
       "      <th>4</th>\n",
       "      <td>baseline</td>\n",
       "      <td>semantic</td>\n",
       "      <td>8</td>\n",
       "      <td>0.812361</td>\n",
       "      <td>2.863776</td>\n",
       "      <td>0.494350</td>\n",
       "      <td>gallbladder</td>\n",
       "      <td>HSI</td>\n",
       "    </tr>\n",
       "    <tr>\n",
       "      <th>...</th>\n",
       "      <td>...</td>\n",
       "      <td>...</td>\n",
       "      <td>...</td>\n",
       "      <td>...</td>\n",
       "      <td>...</td>\n",
       "      <td>...</td>\n",
       "      <td>...</td>\n",
       "      <td>...</td>\n",
       "    </tr>\n",
       "    <tr>\n",
       "      <th>14</th>\n",
       "      <td>organ_transplantation</td>\n",
       "      <td>glove</td>\n",
       "      <td>15</td>\n",
       "      <td>0.922216</td>\n",
       "      <td>6.793903</td>\n",
       "      <td>0.630940</td>\n",
       "      <td>muscle</td>\n",
       "      <td>RGB</td>\n",
       "    </tr>\n",
       "    <tr>\n",
       "      <th>15</th>\n",
       "      <td>organ_transplantation</td>\n",
       "      <td>glove</td>\n",
       "      <td>11</td>\n",
       "      <td>0.554482</td>\n",
       "      <td>69.735535</td>\n",
       "      <td>0.597443</td>\n",
       "      <td>peritoneum</td>\n",
       "      <td>RGB</td>\n",
       "    </tr>\n",
       "    <tr>\n",
       "      <th>16</th>\n",
       "      <td>organ_transplantation</td>\n",
       "      <td>glove</td>\n",
       "      <td>17</td>\n",
       "      <td>0.846557</td>\n",
       "      <td>4.342079</td>\n",
       "      <td>0.900535</td>\n",
       "      <td>major_vein</td>\n",
       "      <td>RGB</td>\n",
       "    </tr>\n",
       "    <tr>\n",
       "      <th>17</th>\n",
       "      <td>organ_transplantation</td>\n",
       "      <td>glove</td>\n",
       "      <td>18</td>\n",
       "      <td>0.884892</td>\n",
       "      <td>4.637167</td>\n",
       "      <td>0.469302</td>\n",
       "      <td>kidney_with_Gerotas_fascia</td>\n",
       "      <td>RGB</td>\n",
       "    </tr>\n",
       "    <tr>\n",
       "      <th>18</th>\n",
       "      <td>organ_transplantation</td>\n",
       "      <td>glove</td>\n",
       "      <td>0</td>\n",
       "      <td>0.949019</td>\n",
       "      <td>4.312817</td>\n",
       "      <td>0.800703</td>\n",
       "      <td>background</td>\n",
       "      <td>RGB</td>\n",
       "    </tr>\n",
       "  </tbody>\n",
       "</table>\n",
       "<p>592 rows × 8 columns</p>\n",
       "</div>"
      ],
      "text/plain": [
       "                  network   dataset  label_index  dice_metric  \\\n",
       "0                baseline  semantic            6     0.861474   \n",
       "1                baseline  semantic            5     0.957207   \n",
       "2                baseline  semantic            4     0.948589   \n",
       "3                baseline  semantic            3     0.955587   \n",
       "4                baseline  semantic            8     0.812361   \n",
       "..                    ...       ...          ...          ...   \n",
       "14  organ_transplantation     glove           15     0.922216   \n",
       "15  organ_transplantation     glove           11     0.554482   \n",
       "16  organ_transplantation     glove           17     0.846557   \n",
       "17  organ_transplantation     glove           18     0.884892   \n",
       "18  organ_transplantation     glove            0     0.949019   \n",
       "\n",
       "    surface_distance_metric  surface_dice_metric_mean  \\\n",
       "0                  9.262870                  0.790171   \n",
       "1                  4.624576                  0.791536   \n",
       "2                  3.187332                  0.924161   \n",
       "3                  3.820706                  0.645928   \n",
       "4                  2.863776                  0.494350   \n",
       "..                      ...                       ...   \n",
       "14                 6.793903                  0.630940   \n",
       "15                69.735535                  0.597443   \n",
       "16                 4.342079                  0.900535   \n",
       "17                 4.637167                  0.469302   \n",
       "18                 4.312817                  0.800703   \n",
       "\n",
       "                    label_name modality  \n",
       "0                      stomach      HSI  \n",
       "1                  small_bowel      HSI  \n",
       "2                        colon      HSI  \n",
       "3                        liver      HSI  \n",
       "4                  gallbladder      HSI  \n",
       "..                         ...      ...  \n",
       "14                      muscle      RGB  \n",
       "15                  peritoneum      RGB  \n",
       "16                  major_vein      RGB  \n",
       "17  kidney_with_Gerotas_fascia      RGB  \n",
       "18                  background      RGB  \n",
       "\n",
       "[592 rows x 8 columns]"
      ]
     },
     "execution_count": 2,
     "metadata": {},
     "output_type": "execute_result"
    }
   ],
   "source": [
    "df = best_run_data(test=True)\n",
    "df"
   ]
  },
  {
   "cell_type": "markdown",
   "id": "3bee827f-bc6f-4d9c-8c3c-5386356deed2",
   "metadata": {},
   "source": [
    "## Dataset Comparison"
   ]
  },
  {
   "cell_type": "code",
   "execution_count": 3,
   "id": "3d60fd67-c771-4cf5-bb7a-f8408b8e81e2",
   "metadata": {},
   "outputs": [
    {
     "data": {
      "text/html": [
       "        <script type=\"text/javascript\">\n",
       "        window.PlotlyConfig = {MathJaxConfig: 'local'};\n",
       "        if (window.MathJax && window.MathJax.Hub && window.MathJax.Hub.Config) {window.MathJax.Hub.Config({SVG: {font: \"STIX-Web\"}});}\n",
       "        if (typeof require !== 'undefined') {\n",
       "        require.undef(\"plotly\");\n",
       "        requirejs.config({\n",
       "            paths: {\n",
       "                'plotly': ['https://cdn.plot.ly/plotly-2.26.0.min']\n",
       "            }\n",
       "        });\n",
       "        require(['plotly'], function(Plotly) {\n",
       "            window._Plotly = Plotly;\n",
       "        });\n",
       "        }\n",
       "        </script>\n",
       "        "
      ]
     },
     "metadata": {},
     "output_type": "display_data"
    },
    {
     "data": {
      "application/vnd.plotly.v1+json": {
       "config": {
        "plotlyServerURL": "https://plot.ly"
       },
       "data": [
        {
         "boxmean": true,
         "boxpoints": "all",
         "legendgroup": "baseline",
         "marker": {
          "color": "#508587"
         },
         "name": "Baseline",
         "offsetgroup": "baseline",
         "showlegend": true,
         "text": [
          "stomach",
          "small_bowel",
          "colon",
          "liver",
          "gallbladder",
          "pancreas",
          "kidney",
          "spleen",
          "bladder",
          "omentum",
          "fat_subcutaneous",
          "lung",
          "heart",
          "skin",
          "muscle",
          "peritoneum",
          "major_vein",
          "kidney_with_Gerotas_fascia",
          "background"
         ],
         "type": "box",
         "x": [
          "original",
          "original",
          "original",
          "original",
          "original",
          "original",
          "original",
          "original",
          "original",
          "original",
          "original",
          "original",
          "original",
          "original",
          "original",
          "original",
          "original",
          "original",
          "original"
         ],
         "xaxis": "x",
         "y": [
          0.861473641071633,
          0.9572065303861302,
          0.9485893705638366,
          0.9555865674609633,
          0.8123611938238926,
          0.9236893593318879,
          0.8996078640806908,
          0.9500669538407098,
          0.9558500068383815,
          0.767298252647227,
          0.6621610555058088,
          0.8566362063090006,
          0.9327061706119113,
          0.7583362563473968,
          0.8854879140853882,
          0.7739984667639888,
          0.7015092611312866,
          0.7966977834701539,
          0.9920313810608464
         ],
         "yaxis": "y"
        },
        {
         "boxmean": true,
         "boxpoints": "all",
         "legendgroup": "organ_transplantation",
         "marker": {
          "color": "#A39F5D"
         },
         "name": "Organ Transplantation",
         "offsetgroup": "organ_transplantation",
         "showlegend": true,
         "text": [
          "stomach",
          "small_bowel",
          "colon",
          "liver",
          "gallbladder",
          "pancreas",
          "kidney",
          "spleen",
          "bladder",
          "omentum",
          "fat_subcutaneous",
          "lung",
          "heart",
          "skin",
          "muscle",
          "peritoneum",
          "major_vein",
          "kidney_with_Gerotas_fascia",
          "background"
         ],
         "type": "box",
         "x": [
          "original",
          "original",
          "original",
          "original",
          "original",
          "original",
          "original",
          "original",
          "original",
          "original",
          "original",
          "original",
          "original",
          "original",
          "original",
          "original",
          "original",
          "original",
          "original"
         ],
         "xaxis": "x",
         "y": [
          0.871478492960077,
          0.953197890129721,
          0.9626351645232907,
          0.949342466239108,
          0.8397138351436906,
          0.9312997106521849,
          0.8913204654369479,
          0.938095459559607,
          0.9503241149728948,
          0.7545647466780749,
          0.7038704440770721,
          0.8303254259957208,
          0.9294263362884522,
          0.7952009146860798,
          0.8911105791727703,
          0.7843635316202398,
          0.8747839868068695,
          0.9263071715831757,
          0.9911609232055476
         ],
         "yaxis": "y"
        },
        {
         "boxmean": true,
         "boxpoints": "all",
         "legendgroup": "baseline",
         "marker": {
          "color": "#508587"
         },
         "name": "Baseline",
         "offsetgroup": "baseline",
         "showlegend": false,
         "text": [
          "stomach",
          "small_bowel",
          "colon",
          "liver",
          "gallbladder",
          "pancreas",
          "kidney",
          "spleen",
          "bladder",
          "omentum",
          "fat_subcutaneous",
          "lung",
          "heart",
          "skin",
          "muscle",
          "peritoneum",
          "major_vein",
          "kidney_with_Gerotas_fascia",
          "background"
         ],
         "type": "box",
         "x": [
          "isolation_zero",
          "isolation_zero",
          "isolation_zero",
          "isolation_zero",
          "isolation_zero",
          "isolation_zero",
          "isolation_zero",
          "isolation_zero",
          "isolation_zero",
          "isolation_zero",
          "isolation_zero",
          "isolation_zero",
          "isolation_zero",
          "isolation_zero",
          "isolation_zero",
          "isolation_zero",
          "isolation_zero",
          "isolation_zero",
          "isolation_zero"
         ],
         "xaxis": "x",
         "y": [
          0.39479507159114846,
          0.9911825057550361,
          0.8449777326614377,
          0.9621615207652136,
          0.2910822102393227,
          0.5774546278847589,
          0.8948847343719084,
          0.9168938959969416,
          0.7568019022363605,
          0.2674300310453134,
          0.8416794393484835,
          0.8218441009521484,
          0.8628027862972684,
          0.8751007167331887,
          0.808013916015625,
          0.2966142138423642,
          0.00765759265050292,
          0.47979618012905123,
          0.997153203386522
         ],
         "yaxis": "y"
        },
        {
         "boxmean": true,
         "boxpoints": "all",
         "legendgroup": "organ_transplantation",
         "marker": {
          "color": "#A39F5D"
         },
         "name": "Organ Transplantation",
         "offsetgroup": "organ_transplantation",
         "showlegend": false,
         "text": [
          "stomach",
          "small_bowel",
          "colon",
          "liver",
          "gallbladder",
          "pancreas",
          "kidney",
          "spleen",
          "bladder",
          "omentum",
          "fat_subcutaneous",
          "lung",
          "heart",
          "skin",
          "muscle",
          "peritoneum",
          "major_vein",
          "kidney_with_Gerotas_fascia",
          "background"
         ],
         "type": "box",
         "x": [
          "isolation_zero",
          "isolation_zero",
          "isolation_zero",
          "isolation_zero",
          "isolation_zero",
          "isolation_zero",
          "isolation_zero",
          "isolation_zero",
          "isolation_zero",
          "isolation_zero",
          "isolation_zero",
          "isolation_zero",
          "isolation_zero",
          "isolation_zero",
          "isolation_zero",
          "isolation_zero",
          "isolation_zero",
          "isolation_zero",
          "isolation_zero"
         ],
         "xaxis": "x",
         "y": [
          0.9421074786406269,
          0.9781582553073196,
          0.9593554542817214,
          0.9785389385543217,
          0.5860084553558091,
          0.9701881968785845,
          0.9372281311384214,
          0.9219912482821753,
          0.8184919691849581,
          0.8177816964471619,
          0.8296041384152735,
          0.7274453401565552,
          0.9880592346191407,
          0.7420004522744984,
          0.8101866245269775,
          0.6942861812113064,
          0.811734402179718,
          0.5464106634259224,
          0.998450558035341
         ],
         "yaxis": "y"
        },
        {
         "boxmean": true,
         "boxpoints": "all",
         "legendgroup": "baseline",
         "marker": {
          "color": "#508587"
         },
         "name": "Baseline",
         "offsetgroup": "baseline",
         "showlegend": false,
         "text": [
          "stomach",
          "small_bowel",
          "colon",
          "liver",
          "gallbladder",
          "pancreas",
          "kidney",
          "spleen",
          "bladder",
          "omentum",
          "fat_subcutaneous",
          "lung",
          "heart",
          "skin",
          "muscle",
          "peritoneum",
          "major_vein",
          "kidney_with_Gerotas_fascia",
          "background"
         ],
         "type": "box",
         "x": [
          "isolation_bgr",
          "isolation_bgr",
          "isolation_bgr",
          "isolation_bgr",
          "isolation_bgr",
          "isolation_bgr",
          "isolation_bgr",
          "isolation_bgr",
          "isolation_bgr",
          "isolation_bgr",
          "isolation_bgr",
          "isolation_bgr",
          "isolation_bgr",
          "isolation_bgr",
          "isolation_bgr",
          "isolation_bgr",
          "isolation_bgr",
          "isolation_bgr",
          "isolation_bgr"
         ],
         "xaxis": "x",
         "y": [
          0.1222906868085564,
          0.923075248105268,
          0.7889716621620068,
          0.800726407237031,
          0.1706418758151175,
          0.06559136505164798,
          0.10172106705459893,
          0.4341813049240718,
          0.831719294335419,
          0.0014894806495782877,
          0.1369766020999092,
          0.9243188169267443,
          0.9717308097415499,
          0.8005093755295319,
          0.4895642300446828,
          0.4176196208697429,
          0.09796871989965439,
          0,
          0.9969736815874558
         ],
         "yaxis": "y"
        },
        {
         "boxmean": true,
         "boxpoints": "all",
         "legendgroup": "organ_transplantation",
         "marker": {
          "color": "#A39F5D"
         },
         "name": "Organ Transplantation",
         "offsetgroup": "organ_transplantation",
         "showlegend": false,
         "text": [
          "stomach",
          "small_bowel",
          "colon",
          "liver",
          "gallbladder",
          "pancreas",
          "kidney",
          "spleen",
          "bladder",
          "omentum",
          "fat_subcutaneous",
          "lung",
          "heart",
          "skin",
          "muscle",
          "peritoneum",
          "major_vein",
          "kidney_with_Gerotas_fascia",
          "background"
         ],
         "type": "box",
         "x": [
          "isolation_bgr",
          "isolation_bgr",
          "isolation_bgr",
          "isolation_bgr",
          "isolation_bgr",
          "isolation_bgr",
          "isolation_bgr",
          "isolation_bgr",
          "isolation_bgr",
          "isolation_bgr",
          "isolation_bgr",
          "isolation_bgr",
          "isolation_bgr",
          "isolation_bgr",
          "isolation_bgr",
          "isolation_bgr",
          "isolation_bgr",
          "isolation_bgr",
          "isolation_bgr"
         ],
         "xaxis": "x",
         "y": [
          0.9375572358057932,
          0.9762218907247728,
          0.9782513992852374,
          0.97987361296701,
          0.6004172740091245,
          0.9441257370842827,
          0.9160289000841527,
          0.9252225526930794,
          0.9682169110007788,
          0.8819116042706657,
          0.9251250398606863,
          0.8073557058970132,
          0.9881852626800537,
          0.7718660915018629,
          0.891126314798991,
          0.8405767398168045,
          0.9638756036758422,
          0.9732827425003052,
          0.998933138016476
         ],
         "yaxis": "y"
        },
        {
         "boxmean": true,
         "boxpoints": "all",
         "legendgroup": "baseline",
         "marker": {
          "color": "#508587"
         },
         "name": "Baseline",
         "offsetgroup": "baseline",
         "showlegend": false,
         "text": [
          "stomach",
          "small_bowel",
          "colon",
          "liver",
          "gallbladder",
          "pancreas",
          "kidney",
          "spleen",
          "bladder",
          "omentum",
          "lung",
          "heart",
          "skin",
          "muscle",
          "peritoneum",
          "major_vein",
          "kidney_with_Gerotas_fascia",
          "background"
         ],
         "type": "box",
         "x": [
          "isolation_real",
          "isolation_real",
          "isolation_real",
          "isolation_real",
          "isolation_real",
          "isolation_real",
          "isolation_real",
          "isolation_real",
          "isolation_real",
          "isolation_real",
          "isolation_real",
          "isolation_real",
          "isolation_real",
          "isolation_real",
          "isolation_real",
          "isolation_real",
          "isolation_real",
          "isolation_real"
         ],
         "xaxis": "x",
         "y": [
          0.44649254437536,
          0.881641972064972,
          0.9920404553413391,
          0.5742735862731934,
          0.3522494410475095,
          0.12424157373607159,
          0.7868876829743385,
          0.6071382363637289,
          0.8282280564308167,
          0,
          0.9670775681734085,
          0.9716710249582926,
          0.954271534242128,
          0.2775430977344513,
          0.30901315808296204,
          0.27433519065380096,
          0.5462151020765305,
          0.9970833085674943
         ],
         "yaxis": "y"
        },
        {
         "boxmean": true,
         "boxpoints": "all",
         "legendgroup": "organ_transplantation",
         "marker": {
          "color": "#A39F5D"
         },
         "name": "Organ Transplantation",
         "offsetgroup": "organ_transplantation",
         "showlegend": false,
         "text": [
          "stomach",
          "small_bowel",
          "colon",
          "liver",
          "gallbladder",
          "pancreas",
          "kidney",
          "spleen",
          "bladder",
          "omentum",
          "lung",
          "heart",
          "skin",
          "muscle",
          "peritoneum",
          "major_vein",
          "kidney_with_Gerotas_fascia",
          "background"
         ],
         "type": "box",
         "x": [
          "isolation_real",
          "isolation_real",
          "isolation_real",
          "isolation_real",
          "isolation_real",
          "isolation_real",
          "isolation_real",
          "isolation_real",
          "isolation_real",
          "isolation_real",
          "isolation_real",
          "isolation_real",
          "isolation_real",
          "isolation_real",
          "isolation_real",
          "isolation_real",
          "isolation_real",
          "isolation_real"
         ],
         "xaxis": "x",
         "y": [
          0.9098750203847885,
          0.9696029663085938,
          0.9919309616088867,
          0.9561715573072433,
          0.954354445139567,
          0.7652827873826027,
          0.9852195456624031,
          0.9747649828592936,
          0.9837851673364639,
          0.908065676689148,
          0.9681917876005173,
          0.9812959035237631,
          0.9824876559408088,
          0.394196988743109,
          0.7286174297332764,
          0.9488683044910431,
          0.8905386030673981,
          0.9975172818274726
         ],
         "yaxis": "y"
        },
        {
         "boxmean": true,
         "boxpoints": "all",
         "legendgroup": "baseline",
         "marker": {
          "color": "#508587"
         },
         "name": "Baseline",
         "offsetgroup": "baseline",
         "showlegend": false,
         "text": [
          "stomach",
          "small_bowel",
          "colon",
          "liver",
          "gallbladder",
          "pancreas",
          "kidney",
          "spleen",
          "bladder",
          "omentum",
          "fat_subcutaneous",
          "lung",
          "heart",
          "skin",
          "muscle",
          "peritoneum",
          "major_vein",
          "kidney_with_Gerotas_fascia",
          "background"
         ],
         "type": "box",
         "x": [
          "removal_zero",
          "removal_zero",
          "removal_zero",
          "removal_zero",
          "removal_zero",
          "removal_zero",
          "removal_zero",
          "removal_zero",
          "removal_zero",
          "removal_zero",
          "removal_zero",
          "removal_zero",
          "removal_zero",
          "removal_zero",
          "removal_zero",
          "removal_zero",
          "removal_zero",
          "removal_zero",
          "removal_zero"
         ],
         "xaxis": "x",
         "y": [
          0.5989327321699878,
          0.918435989878047,
          0.8888181528117716,
          0.9288440644722874,
          0.2984862249278136,
          0.7884678306087615,
          0.868855586092846,
          0.9260405088227892,
          0.701270326700626,
          0.5785268536304196,
          0.5733582523882274,
          0.7845829433865017,
          0.8958433190981547,
          0.7060077188276295,
          0.8862646395961443,
          0.5083753532036069,
          0.3506607102463022,
          0.4654929727315903,
          0.9896595419075755
         ],
         "yaxis": "y"
        },
        {
         "boxmean": true,
         "boxpoints": "all",
         "legendgroup": "organ_transplantation",
         "marker": {
          "color": "#A39F5D"
         },
         "name": "Organ Transplantation",
         "offsetgroup": "organ_transplantation",
         "showlegend": false,
         "text": [
          "stomach",
          "small_bowel",
          "colon",
          "liver",
          "gallbladder",
          "pancreas",
          "kidney",
          "spleen",
          "bladder",
          "omentum",
          "fat_subcutaneous",
          "lung",
          "heart",
          "skin",
          "muscle",
          "peritoneum",
          "major_vein",
          "kidney_with_Gerotas_fascia",
          "background"
         ],
         "type": "box",
         "x": [
          "removal_zero",
          "removal_zero",
          "removal_zero",
          "removal_zero",
          "removal_zero",
          "removal_zero",
          "removal_zero",
          "removal_zero",
          "removal_zero",
          "removal_zero",
          "removal_zero",
          "removal_zero",
          "removal_zero",
          "removal_zero",
          "removal_zero",
          "removal_zero",
          "removal_zero",
          "removal_zero",
          "removal_zero"
         ],
         "xaxis": "x",
         "y": [
          0.8484424867071647,
          0.9456997003862118,
          0.9457238799233669,
          0.9410875962643402,
          0.5662399217586166,
          0.9163559126475501,
          0.8900546220685142,
          0.9082275401830437,
          0.9296521556079818,
          0.7221593995965445,
          0.6138096313360473,
          0.8107435610559252,
          0.92975914047824,
          0.7355615524935001,
          0.8695576041936874,
          0.6578828129905765,
          0.8137529343366623,
          0.9119228005409241,
          0.9902893494878219
         ],
         "yaxis": "y"
        },
        {
         "boxmean": true,
         "boxpoints": "all",
         "legendgroup": "baseline",
         "marker": {
          "color": "#508587"
         },
         "name": "Baseline",
         "offsetgroup": "baseline",
         "showlegend": false,
         "text": [
          "stomach",
          "small_bowel",
          "colon",
          "liver",
          "gallbladder",
          "pancreas",
          "kidney",
          "spleen",
          "bladder",
          "omentum",
          "fat_subcutaneous",
          "lung",
          "heart",
          "skin",
          "muscle",
          "peritoneum",
          "major_vein",
          "kidney_with_Gerotas_fascia",
          "background"
         ],
         "type": "box",
         "x": [
          "removal_bgr",
          "removal_bgr",
          "removal_bgr",
          "removal_bgr",
          "removal_bgr",
          "removal_bgr",
          "removal_bgr",
          "removal_bgr",
          "removal_bgr",
          "removal_bgr",
          "removal_bgr",
          "removal_bgr",
          "removal_bgr",
          "removal_bgr",
          "removal_bgr",
          "removal_bgr",
          "removal_bgr",
          "removal_bgr",
          "removal_bgr"
         ],
         "xaxis": "x",
         "y": [
          0.7240884797200472,
          0.9430636956980338,
          0.900261036252701,
          0.9292094366278375,
          0.41135962477966237,
          0.8578515456782446,
          0.8647343117037629,
          0.8940049872523735,
          0.8529970164499414,
          0.6570705681863682,
          0.5375261605091015,
          0.7819036791721979,
          0.9078455868694517,
          0.7098014226959525,
          0.7142603099346161,
          0.5858823930713002,
          0.5511288411915303,
          0.5488074593245983,
          0.9908720534067295
         ],
         "yaxis": "y"
        },
        {
         "boxmean": true,
         "boxpoints": "all",
         "legendgroup": "organ_transplantation",
         "marker": {
          "color": "#A39F5D"
         },
         "name": "Organ Transplantation",
         "offsetgroup": "organ_transplantation",
         "showlegend": false,
         "text": [
          "stomach",
          "small_bowel",
          "colon",
          "liver",
          "gallbladder",
          "pancreas",
          "kidney",
          "spleen",
          "bladder",
          "omentum",
          "fat_subcutaneous",
          "lung",
          "heart",
          "skin",
          "muscle",
          "peritoneum",
          "major_vein",
          "kidney_with_Gerotas_fascia",
          "background"
         ],
         "type": "box",
         "x": [
          "removal_bgr",
          "removal_bgr",
          "removal_bgr",
          "removal_bgr",
          "removal_bgr",
          "removal_bgr",
          "removal_bgr",
          "removal_bgr",
          "removal_bgr",
          "removal_bgr",
          "removal_bgr",
          "removal_bgr",
          "removal_bgr",
          "removal_bgr",
          "removal_bgr",
          "removal_bgr",
          "removal_bgr",
          "removal_bgr",
          "removal_bgr"
         ],
         "xaxis": "x",
         "y": [
          0.852614147844563,
          0.9502303098803664,
          0.9549792008940253,
          0.943212528282408,
          0.6077749840605526,
          0.9165134901092166,
          0.8874800688301037,
          0.9276204345954788,
          0.9442071072403314,
          0.7231576855443571,
          0.6275142210508944,
          0.8222481121619541,
          0.9290893591112561,
          0.7679086836485154,
          0.8887849996487299,
          0.6853136954337458,
          0.8602557592093945,
          0.9233467727899551,
          0.9904703115098098
         ],
         "yaxis": "y"
        },
        {
         "boxmean": true,
         "boxpoints": "all",
         "legendgroup": "baseline",
         "marker": {
          "color": "#508587"
         },
         "name": "Baseline",
         "offsetgroup": "baseline",
         "showlegend": false,
         "text": [
          "stomach",
          "small_bowel",
          "colon",
          "liver",
          "gallbladder",
          "kidney",
          "spleen",
          "bladder",
          "omentum",
          "fat_subcutaneous",
          "lung",
          "heart",
          "skin",
          "muscle",
          "peritoneum",
          "background"
         ],
         "type": "box",
         "x": [
          "no-occlusion",
          "no-occlusion",
          "no-occlusion",
          "no-occlusion",
          "no-occlusion",
          "no-occlusion",
          "no-occlusion",
          "no-occlusion",
          "no-occlusion",
          "no-occlusion",
          "no-occlusion",
          "no-occlusion",
          "no-occlusion",
          "no-occlusion",
          "no-occlusion",
          "no-occlusion"
         ],
         "xaxis": "x",
         "y": [
          0.8313180021750621,
          0.9355106407429747,
          0.9589920405846417,
          0.8827787432359371,
          0.6081084787071526,
          0,
          0.9272205641790598,
          0.963500446506909,
          0.7120040442393376,
          0.4969007407294379,
          0.7945861895879109,
          0.949306599299113,
          0.9507478427263646,
          0.868590490023295,
          0.7632127260920978,
          0.9882827617538779
         ],
         "yaxis": "y"
        },
        {
         "boxmean": true,
         "boxpoints": "all",
         "legendgroup": "organ_transplantation",
         "marker": {
          "color": "#A39F5D"
         },
         "name": "Organ Transplantation",
         "offsetgroup": "organ_transplantation",
         "showlegend": false,
         "text": [
          "stomach",
          "small_bowel",
          "colon",
          "liver",
          "gallbladder",
          "kidney",
          "spleen",
          "bladder",
          "omentum",
          "fat_subcutaneous",
          "lung",
          "heart",
          "skin",
          "muscle",
          "peritoneum",
          "background"
         ],
         "type": "box",
         "x": [
          "no-occlusion",
          "no-occlusion",
          "no-occlusion",
          "no-occlusion",
          "no-occlusion",
          "no-occlusion",
          "no-occlusion",
          "no-occlusion",
          "no-occlusion",
          "no-occlusion",
          "no-occlusion",
          "no-occlusion",
          "no-occlusion",
          "no-occlusion",
          "no-occlusion",
          "no-occlusion"
         ],
         "xaxis": "x",
         "y": [
          0.9135136298644237,
          0.9515187297066913,
          0.9723452292647605,
          0.9518393368709894,
          0.5988422291619437,
          0.8399546146392822,
          0.9417543095700881,
          0.9568881520203182,
          0.8088459881758079,
          0.5319040722317165,
          0.7692059516906739,
          0.9401306417253282,
          0.9575428532619102,
          0.902607536315918,
          0.7934259674765847,
          0.9896408709320921
         ],
         "yaxis": "y"
        },
        {
         "boxmean": true,
         "boxpoints": "all",
         "legendgroup": "baseline",
         "marker": {
          "color": "#508587"
         },
         "name": "Baseline",
         "offsetgroup": "baseline",
         "showlegend": false,
         "text": [
          "stomach",
          "small_bowel",
          "colon",
          "liver",
          "gallbladder",
          "pancreas",
          "kidney",
          "spleen",
          "bladder",
          "omentum",
          "fat_subcutaneous",
          "lung",
          "heart",
          "skin",
          "muscle",
          "peritoneum",
          "major_vein",
          "kidney_with_Gerotas_fascia",
          "background"
         ],
         "type": "box",
         "x": [
          "occlusion",
          "occlusion",
          "occlusion",
          "occlusion",
          "occlusion",
          "occlusion",
          "occlusion",
          "occlusion",
          "occlusion",
          "occlusion",
          "occlusion",
          "occlusion",
          "occlusion",
          "occlusion",
          "occlusion",
          "occlusion",
          "occlusion",
          "occlusion",
          "occlusion"
         ],
         "xaxis": "x",
         "y": [
          0.4178444168555043,
          0.8976419893098853,
          0.8624104994769191,
          0.8527668569453809,
          0.8327843717166356,
          0.1926916027825976,
          0.9112000796529982,
          0.7437798380851746,
          0.921928021135893,
          0.49992582760159926,
          0.659190983289764,
          0.9482386452811105,
          0.9004087448120117,
          0.5762820036874877,
          0.907912118094308,
          0.5707084915067395,
          0.7252314507961273,
          0.8326196491718292,
          0.92907874584198
         ],
         "yaxis": "y"
        },
        {
         "boxmean": true,
         "boxpoints": "all",
         "legendgroup": "organ_transplantation",
         "marker": {
          "color": "#A39F5D"
         },
         "name": "Organ Transplantation",
         "offsetgroup": "organ_transplantation",
         "showlegend": false,
         "text": [
          "stomach",
          "small_bowel",
          "colon",
          "liver",
          "gallbladder",
          "pancreas",
          "kidney",
          "spleen",
          "bladder",
          "omentum",
          "fat_subcutaneous",
          "lung",
          "heart",
          "skin",
          "muscle",
          "peritoneum",
          "major_vein",
          "kidney_with_Gerotas_fascia",
          "background"
         ],
         "type": "box",
         "x": [
          "occlusion",
          "occlusion",
          "occlusion",
          "occlusion",
          "occlusion",
          "occlusion",
          "occlusion",
          "occlusion",
          "occlusion",
          "occlusion",
          "occlusion",
          "occlusion",
          "occlusion",
          "occlusion",
          "occlusion",
          "occlusion",
          "occlusion",
          "occlusion",
          "occlusion"
         ],
         "xaxis": "x",
         "y": [
          0.7067442366685817,
          0.9369903080470382,
          0.920612938263837,
          0.8462948193625799,
          0.8400343136181907,
          0.737116171064831,
          0.9167368445131514,
          0.6724519828955332,
          0.9154073243316091,
          0.5812790386260502,
          0.737312312164004,
          0.960942132132394,
          0.9148463521684919,
          0.5829129761291875,
          0.9331097602844238,
          0.6394686473740472,
          0.7656322240829467,
          0.9208462715148926,
          0.9254603885942035
         ],
         "yaxis": "y"
        },
        {
         "boxmean": true,
         "boxpoints": "all",
         "legendgroup": "baseline",
         "marker": {
          "color": "#508587"
         },
         "name": "Baseline",
         "offsetgroup": "baseline",
         "showlegend": false,
         "text": [
          "stomach",
          "small_bowel",
          "colon",
          "liver",
          "gallbladder",
          "pancreas",
          "kidney",
          "spleen",
          "bladder",
          "omentum",
          "fat_subcutaneous",
          "lung",
          "heart",
          "skin",
          "muscle",
          "peritoneum",
          "major_vein",
          "kidney_with_Gerotas_fascia",
          "background"
         ],
         "type": "box",
         "x": [
          "original",
          "original",
          "original",
          "original",
          "original",
          "original",
          "original",
          "original",
          "original",
          "original",
          "original",
          "original",
          "original",
          "original",
          "original",
          "original",
          "original",
          "original",
          "original"
         ],
         "xaxis": "x2",
         "y": [
          0.7824955355367889,
          0.9450368555903562,
          0.9469814192026815,
          0.9240282243297946,
          0.807597905372947,
          0.9540464832669212,
          0.8825857608146916,
          0.7922294622375852,
          0.799119303450784,
          0.7657403579266796,
          0.6833133255539725,
          0.831808384259542,
          0.9281005170610216,
          0.7594127542377497,
          0.8567541837692261,
          0.7216715267608336,
          0.592743992805481,
          0.8148314654827118,
          0.990822307828102
         ],
         "yaxis": "y2"
        },
        {
         "boxmean": true,
         "boxpoints": "all",
         "legendgroup": "organ_transplantation",
         "marker": {
          "color": "#A39F5D"
         },
         "name": "Organ Transplantation",
         "offsetgroup": "organ_transplantation",
         "showlegend": false,
         "text": [
          "stomach",
          "small_bowel",
          "colon",
          "liver",
          "gallbladder",
          "pancreas",
          "kidney",
          "spleen",
          "bladder",
          "omentum",
          "fat_subcutaneous",
          "lung",
          "heart",
          "skin",
          "muscle",
          "peritoneum",
          "major_vein",
          "kidney_with_Gerotas_fascia",
          "background"
         ],
         "type": "box",
         "x": [
          "original",
          "original",
          "original",
          "original",
          "original",
          "original",
          "original",
          "original",
          "original",
          "original",
          "original",
          "original",
          "original",
          "original",
          "original",
          "original",
          "original",
          "original",
          "original"
         ],
         "xaxis": "x2",
         "y": [
          0.8279000323747592,
          0.9458623969825422,
          0.9559748782655646,
          0.9356500438016397,
          0.7917375597607327,
          0.9529784104180715,
          0.8825142367992526,
          0.8425740397922576,
          0.9079341381989516,
          0.7575602977083589,
          0.7041868841498824,
          0.8190641085306803,
          0.9214527024163139,
          0.7965604270277744,
          0.8819332520167034,
          0.7661995957315753,
          0.9043801844120025,
          0.888197922706604,
          0.9899106672380512
         ],
         "yaxis": "y2"
        },
        {
         "boxmean": true,
         "boxpoints": "all",
         "legendgroup": "baseline",
         "marker": {
          "color": "#508587"
         },
         "name": "Baseline",
         "offsetgroup": "baseline",
         "showlegend": false,
         "text": [
          "stomach",
          "small_bowel",
          "colon",
          "liver",
          "gallbladder",
          "pancreas",
          "kidney",
          "spleen",
          "bladder",
          "omentum",
          "fat_subcutaneous",
          "lung",
          "heart",
          "skin",
          "muscle",
          "peritoneum",
          "major_vein",
          "kidney_with_Gerotas_fascia",
          "background"
         ],
         "type": "box",
         "x": [
          "isolation_zero",
          "isolation_zero",
          "isolation_zero",
          "isolation_zero",
          "isolation_zero",
          "isolation_zero",
          "isolation_zero",
          "isolation_zero",
          "isolation_zero",
          "isolation_zero",
          "isolation_zero",
          "isolation_zero",
          "isolation_zero",
          "isolation_zero",
          "isolation_zero",
          "isolation_zero",
          "isolation_zero",
          "isolation_zero",
          "isolation_zero"
         ],
         "xaxis": "x2",
         "y": [
          0.19707821449045382,
          0.7074664838682486,
          0.7953261851923358,
          0.8868039593026223,
          0.030388840420664042,
          0.1903529577785068,
          0.7102955120061738,
          0.41122533643766057,
          0.5140942184095947,
          0.08035904435764145,
          0.06082185707263289,
          0.9300028800964356,
          0.9617720286051431,
          0.4751092022634557,
          0.001602140604518354,
          0.40009286738648153,
          0.002747944928705692,
          0.10063978037796914,
          0.9944000527955446
         ],
         "yaxis": "y2"
        },
        {
         "boxmean": true,
         "boxpoints": "all",
         "legendgroup": "organ_transplantation",
         "marker": {
          "color": "#A39F5D"
         },
         "name": "Organ Transplantation",
         "offsetgroup": "organ_transplantation",
         "showlegend": false,
         "text": [
          "stomach",
          "small_bowel",
          "colon",
          "liver",
          "gallbladder",
          "pancreas",
          "kidney",
          "spleen",
          "bladder",
          "omentum",
          "fat_subcutaneous",
          "lung",
          "heart",
          "skin",
          "muscle",
          "peritoneum",
          "major_vein",
          "kidney_with_Gerotas_fascia",
          "background"
         ],
         "type": "box",
         "x": [
          "isolation_zero",
          "isolation_zero",
          "isolation_zero",
          "isolation_zero",
          "isolation_zero",
          "isolation_zero",
          "isolation_zero",
          "isolation_zero",
          "isolation_zero",
          "isolation_zero",
          "isolation_zero",
          "isolation_zero",
          "isolation_zero",
          "isolation_zero",
          "isolation_zero",
          "isolation_zero",
          "isolation_zero",
          "isolation_zero",
          "isolation_zero"
         ],
         "xaxis": "x2",
         "y": [
          0.7536162264584598,
          0.9256902320170262,
          0.9029559875407864,
          0.9059712837294391,
          0.08359360437968681,
          0.9739202688610743,
          0.9335232996473125,
          0.36373233832537183,
          0.48965273198111225,
          0.9241769528752231,
          0.5899964295634217,
          0.8048961957295736,
          0.9757717821333144,
          0.705568609943335,
          0.5339397291342417,
          0.6030732672906798,
          0.1395804002415389,
          0.44809154868125917,
          0.9982284183958556
         ],
         "yaxis": "y2"
        },
        {
         "boxmean": true,
         "boxpoints": "all",
         "legendgroup": "baseline",
         "marker": {
          "color": "#508587"
         },
         "name": "Baseline",
         "offsetgroup": "baseline",
         "showlegend": false,
         "text": [
          "stomach",
          "small_bowel",
          "colon",
          "liver",
          "gallbladder",
          "pancreas",
          "kidney",
          "spleen",
          "bladder",
          "omentum",
          "fat_subcutaneous",
          "lung",
          "heart",
          "skin",
          "muscle",
          "peritoneum",
          "major_vein",
          "kidney_with_Gerotas_fascia",
          "background"
         ],
         "type": "box",
         "x": [
          "isolation_bgr",
          "isolation_bgr",
          "isolation_bgr",
          "isolation_bgr",
          "isolation_bgr",
          "isolation_bgr",
          "isolation_bgr",
          "isolation_bgr",
          "isolation_bgr",
          "isolation_bgr",
          "isolation_bgr",
          "isolation_bgr",
          "isolation_bgr",
          "isolation_bgr",
          "isolation_bgr",
          "isolation_bgr",
          "isolation_bgr",
          "isolation_bgr",
          "isolation_bgr"
         ],
         "xaxis": "x2",
         "y": [
          0.12405765994034515,
          0.9503227080635647,
          0.8778580063716314,
          0.9921228229681327,
          0.15515441498268023,
          0.07932014988055305,
          0.5489288420459024,
          0.41461762493417603,
          0.6908462424835602,
          0.05728558237138002,
          0.5466300235504754,
          0.9091114415062798,
          0.8672238667805989,
          0.49872241969244296,
          0.21650767574707666,
          0.510513383125317,
          0.06833781003952026,
          0.40482147634029386,
          0.9973261754401614
         ],
         "yaxis": "y2"
        },
        {
         "boxmean": true,
         "boxpoints": "all",
         "legendgroup": "organ_transplantation",
         "marker": {
          "color": "#A39F5D"
         },
         "name": "Organ Transplantation",
         "offsetgroup": "organ_transplantation",
         "showlegend": false,
         "text": [
          "stomach",
          "small_bowel",
          "colon",
          "liver",
          "gallbladder",
          "pancreas",
          "kidney",
          "spleen",
          "bladder",
          "omentum",
          "fat_subcutaneous",
          "lung",
          "heart",
          "skin",
          "muscle",
          "peritoneum",
          "major_vein",
          "kidney_with_Gerotas_fascia",
          "background"
         ],
         "type": "box",
         "x": [
          "isolation_bgr",
          "isolation_bgr",
          "isolation_bgr",
          "isolation_bgr",
          "isolation_bgr",
          "isolation_bgr",
          "isolation_bgr",
          "isolation_bgr",
          "isolation_bgr",
          "isolation_bgr",
          "isolation_bgr",
          "isolation_bgr",
          "isolation_bgr",
          "isolation_bgr",
          "isolation_bgr",
          "isolation_bgr",
          "isolation_bgr",
          "isolation_bgr",
          "isolation_bgr"
         ],
         "xaxis": "x2",
         "y": [
          0.8232926293915395,
          0.9815734292984187,
          0.9856126982309983,
          0.9467161603878325,
          0.49193331814556085,
          0.9827056536598812,
          0.8957230343538172,
          0.8341278042112077,
          0.9216305895347098,
          0.855710473703833,
          0.7358520077891342,
          0.8584616343180339,
          0.9892710632748075,
          0.7518390354949656,
          0.8991813659667969,
          0.719879066580629,
          0.8917125523090362,
          0.9446665704250335,
          0.9981120170085953
         ],
         "yaxis": "y2"
        },
        {
         "boxmean": true,
         "boxpoints": "all",
         "legendgroup": "baseline",
         "marker": {
          "color": "#508587"
         },
         "name": "Baseline",
         "offsetgroup": "baseline",
         "showlegend": false,
         "text": [
          "stomach",
          "small_bowel",
          "colon",
          "liver",
          "gallbladder",
          "pancreas",
          "kidney",
          "spleen",
          "bladder",
          "omentum",
          "lung",
          "heart",
          "skin",
          "muscle",
          "peritoneum",
          "major_vein",
          "kidney_with_Gerotas_fascia",
          "background"
         ],
         "type": "box",
         "x": [
          "isolation_real",
          "isolation_real",
          "isolation_real",
          "isolation_real",
          "isolation_real",
          "isolation_real",
          "isolation_real",
          "isolation_real",
          "isolation_real",
          "isolation_real",
          "isolation_real",
          "isolation_real",
          "isolation_real",
          "isolation_real",
          "isolation_real",
          "isolation_real",
          "isolation_real",
          "isolation_real"
         ],
         "xaxis": "x2",
         "y": [
          0.6092109209857881,
          0.9422743678092956,
          0.9924092888832092,
          0.8980409950017929,
          0.3777156074841817,
          0.012680412270128727,
          0.7357332059182227,
          0.323336402575175,
          0.9166669249534607,
          0.0003274751652497798,
          0.9572533369064331,
          0.9364159901936849,
          0.6448374242766907,
          0.1926037257004888,
          0.2700892686843872,
          0.13258394226431847,
          0.5899998247623444,
          0.9972874705555674
         ],
         "yaxis": "y2"
        },
        {
         "boxmean": true,
         "boxpoints": "all",
         "legendgroup": "organ_transplantation",
         "marker": {
          "color": "#A39F5D"
         },
         "name": "Organ Transplantation",
         "offsetgroup": "organ_transplantation",
         "showlegend": false,
         "text": [
          "stomach",
          "small_bowel",
          "colon",
          "liver",
          "gallbladder",
          "pancreas",
          "kidney",
          "spleen",
          "bladder",
          "omentum",
          "lung",
          "heart",
          "skin",
          "muscle",
          "peritoneum",
          "major_vein",
          "kidney_with_Gerotas_fascia",
          "background"
         ],
         "type": "box",
         "x": [
          "isolation_real",
          "isolation_real",
          "isolation_real",
          "isolation_real",
          "isolation_real",
          "isolation_real",
          "isolation_real",
          "isolation_real",
          "isolation_real",
          "isolation_real",
          "isolation_real",
          "isolation_real",
          "isolation_real",
          "isolation_real",
          "isolation_real",
          "isolation_real",
          "isolation_real",
          "isolation_real"
         ],
         "xaxis": "x2",
         "y": [
          0.8683061450719833,
          0.9722974300384521,
          0.9925851821899414,
          0.935847282409668,
          0.628723161915938,
          0.9126102477312088,
          0.9844184517860413,
          0.9481713970502218,
          0.987303763628006,
          0.976811408996582,
          0.9658353626728058,
          0.9807827870051066,
          0.9697787335044459,
          0.3351037800312042,
          0.7543319463729858,
          0.40369945764541626,
          0.7908279895782471,
          0.997221044231247
         ],
         "yaxis": "y2"
        },
        {
         "boxmean": true,
         "boxpoints": "all",
         "legendgroup": "baseline",
         "marker": {
          "color": "#508587"
         },
         "name": "Baseline",
         "offsetgroup": "baseline",
         "showlegend": false,
         "text": [
          "stomach",
          "small_bowel",
          "colon",
          "liver",
          "gallbladder",
          "pancreas",
          "kidney",
          "spleen",
          "bladder",
          "omentum",
          "fat_subcutaneous",
          "lung",
          "heart",
          "skin",
          "muscle",
          "peritoneum",
          "major_vein",
          "kidney_with_Gerotas_fascia",
          "background"
         ],
         "type": "box",
         "x": [
          "removal_zero",
          "removal_zero",
          "removal_zero",
          "removal_zero",
          "removal_zero",
          "removal_zero",
          "removal_zero",
          "removal_zero",
          "removal_zero",
          "removal_zero",
          "removal_zero",
          "removal_zero",
          "removal_zero",
          "removal_zero",
          "removal_zero",
          "removal_zero",
          "removal_zero",
          "removal_zero",
          "removal_zero"
         ],
         "xaxis": "x2",
         "y": [
          0.4624460832288764,
          0.8675557968733474,
          0.8262293362587876,
          0.8149656564176333,
          0.28991653222884306,
          0.4905544919479225,
          0.7700870861877608,
          0.46825251356930486,
          0.35130049263715507,
          0.5514395222998983,
          0.3298359416602611,
          0.7020728909307056,
          0.8589168008830813,
          0.5495698667372988,
          0.4002043774429088,
          0.46211423876512947,
          0.1738149955868721,
          0.38246158212423326,
          0.9844956154622757
         ],
         "yaxis": "y2"
        },
        {
         "boxmean": true,
         "boxpoints": "all",
         "legendgroup": "organ_transplantation",
         "marker": {
          "color": "#A39F5D"
         },
         "name": "Organ Transplantation",
         "offsetgroup": "organ_transplantation",
         "showlegend": false,
         "text": [
          "stomach",
          "small_bowel",
          "colon",
          "liver",
          "gallbladder",
          "pancreas",
          "kidney",
          "spleen",
          "bladder",
          "omentum",
          "fat_subcutaneous",
          "lung",
          "heart",
          "skin",
          "muscle",
          "peritoneum",
          "major_vein",
          "kidney_with_Gerotas_fascia",
          "background"
         ],
         "type": "box",
         "x": [
          "removal_zero",
          "removal_zero",
          "removal_zero",
          "removal_zero",
          "removal_zero",
          "removal_zero",
          "removal_zero",
          "removal_zero",
          "removal_zero",
          "removal_zero",
          "removal_zero",
          "removal_zero",
          "removal_zero",
          "removal_zero",
          "removal_zero",
          "removal_zero",
          "removal_zero",
          "removal_zero",
          "removal_zero"
         ],
         "xaxis": "x2",
         "y": [
          0.6978276066217004,
          0.9174738817472854,
          0.9032508015394345,
          0.8733630192638128,
          0.41860195097310104,
          0.7123211133101629,
          0.8743740670151667,
          0.636597252624564,
          0.6517134740097182,
          0.6897882575557517,
          0.6068018143999461,
          0.7646371079815758,
          0.9168396075566609,
          0.7046743054702453,
          0.7838397324085236,
          0.6309103644630476,
          0.44126312414882707,
          0.4831317842006683,
          0.9859431423438572
         ],
         "yaxis": "y2"
        },
        {
         "boxmean": true,
         "boxpoints": "all",
         "legendgroup": "baseline",
         "marker": {
          "color": "#508587"
         },
         "name": "Baseline",
         "offsetgroup": "baseline",
         "showlegend": false,
         "text": [
          "stomach",
          "small_bowel",
          "colon",
          "liver",
          "gallbladder",
          "pancreas",
          "kidney",
          "spleen",
          "bladder",
          "omentum",
          "fat_subcutaneous",
          "lung",
          "heart",
          "skin",
          "muscle",
          "peritoneum",
          "major_vein",
          "kidney_with_Gerotas_fascia",
          "background"
         ],
         "type": "box",
         "x": [
          "removal_bgr",
          "removal_bgr",
          "removal_bgr",
          "removal_bgr",
          "removal_bgr",
          "removal_bgr",
          "removal_bgr",
          "removal_bgr",
          "removal_bgr",
          "removal_bgr",
          "removal_bgr",
          "removal_bgr",
          "removal_bgr",
          "removal_bgr",
          "removal_bgr",
          "removal_bgr",
          "removal_bgr",
          "removal_bgr",
          "removal_bgr"
         ],
         "xaxis": "x2",
         "y": [
          0.6141895200810439,
          0.9209885401729017,
          0.8753698916060122,
          0.8716973015762761,
          0.21416121646467512,
          0.8708586470475272,
          0.7956633412079837,
          0.6166806982007591,
          0.5839259262077142,
          0.5852168062800248,
          0.5630115336940119,
          0.7591146909528308,
          0.8426231056451797,
          0.6183524295012505,
          0.6666692979633808,
          0.4889192704603904,
          0.10168536316195968,
          0.5039286732673645,
          0.9865075772752009
         ],
         "yaxis": "y2"
        },
        {
         "boxmean": true,
         "boxpoints": "all",
         "legendgroup": "organ_transplantation",
         "marker": {
          "color": "#A39F5D"
         },
         "name": "Organ Transplantation",
         "offsetgroup": "organ_transplantation",
         "showlegend": false,
         "text": [
          "stomach",
          "small_bowel",
          "colon",
          "liver",
          "gallbladder",
          "pancreas",
          "kidney",
          "spleen",
          "bladder",
          "omentum",
          "fat_subcutaneous",
          "lung",
          "heart",
          "skin",
          "muscle",
          "peritoneum",
          "major_vein",
          "kidney_with_Gerotas_fascia",
          "background"
         ],
         "type": "box",
         "x": [
          "removal_bgr",
          "removal_bgr",
          "removal_bgr",
          "removal_bgr",
          "removal_bgr",
          "removal_bgr",
          "removal_bgr",
          "removal_bgr",
          "removal_bgr",
          "removal_bgr",
          "removal_bgr",
          "removal_bgr",
          "removal_bgr",
          "removal_bgr",
          "removal_bgr",
          "removal_bgr",
          "removal_bgr",
          "removal_bgr",
          "removal_bgr"
         ],
         "xaxis": "x2",
         "y": [
          0.7608165925854526,
          0.9367164255622031,
          0.9421687955510789,
          0.9172535525614576,
          0.4903018573552908,
          0.9257741109719353,
          0.8788857921665789,
          0.785706781688223,
          0.8925054878808375,
          0.7065669639244126,
          0.6064330861532614,
          0.8001380470063951,
          0.9189037048154408,
          0.7340254413701093,
          0.8768529668450356,
          0.6511609232613373,
          0.8905197083950043,
          0.8600752145051956,
          0.9887408255665069
         ],
         "yaxis": "y2"
        },
        {
         "boxmean": true,
         "boxpoints": "all",
         "legendgroup": "baseline",
         "marker": {
          "color": "#508587"
         },
         "name": "Baseline",
         "offsetgroup": "baseline",
         "showlegend": false,
         "text": [
          "stomach",
          "small_bowel",
          "colon",
          "liver",
          "gallbladder",
          "kidney",
          "spleen",
          "bladder",
          "omentum",
          "fat_subcutaneous",
          "lung",
          "heart",
          "skin",
          "muscle",
          "peritoneum",
          "background"
         ],
         "type": "box",
         "x": [
          "no-occlusion",
          "no-occlusion",
          "no-occlusion",
          "no-occlusion",
          "no-occlusion",
          "no-occlusion",
          "no-occlusion",
          "no-occlusion",
          "no-occlusion",
          "no-occlusion",
          "no-occlusion",
          "no-occlusion",
          "no-occlusion",
          "no-occlusion",
          "no-occlusion",
          "no-occlusion"
         ],
         "xaxis": "x2",
         "y": [
          0.847332885937813,
          0.9450690176167014,
          0.9530979472405413,
          0.9162561968767837,
          0.5790435741474103,
          0,
          0.9294939742368811,
          0.8145018134798323,
          0.7851499169912095,
          0.5213115946451823,
          0.751699087354872,
          0.9376576529608833,
          0.9274761991563186,
          0.8175854444503784,
          0.7621244642469618,
          0.9877602168178715
         ],
         "yaxis": "y2"
        },
        {
         "boxmean": true,
         "boxpoints": "all",
         "legendgroup": "organ_transplantation",
         "marker": {
          "color": "#A39F5D"
         },
         "name": "Organ Transplantation",
         "offsetgroup": "organ_transplantation",
         "showlegend": false,
         "text": [
          "stomach",
          "small_bowel",
          "colon",
          "liver",
          "gallbladder",
          "kidney",
          "spleen",
          "bladder",
          "omentum",
          "fat_subcutaneous",
          "lung",
          "heart",
          "skin",
          "muscle",
          "peritoneum",
          "background"
         ],
         "type": "box",
         "x": [
          "no-occlusion",
          "no-occlusion",
          "no-occlusion",
          "no-occlusion",
          "no-occlusion",
          "no-occlusion",
          "no-occlusion",
          "no-occlusion",
          "no-occlusion",
          "no-occlusion",
          "no-occlusion",
          "no-occlusion",
          "no-occlusion",
          "no-occlusion",
          "no-occlusion",
          "no-occlusion"
         ],
         "xaxis": "x2",
         "y": [
          0.9150407204261193,
          0.9463546436414403,
          0.9699705560668177,
          0.9244188664954303,
          0.646627918466345,
          0.12631578743457794,
          0.9332936418657543,
          0.8718523127692086,
          0.7931511888748559,
          0.5432928771442836,
          0.7888507154252794,
          0.9352311134338379,
          0.9206271782420039,
          0.8814027706782024,
          0.7508282059370869,
          0.988155436868151
         ],
         "yaxis": "y2"
        },
        {
         "boxmean": true,
         "boxpoints": "all",
         "legendgroup": "baseline",
         "marker": {
          "color": "#508587"
         },
         "name": "Baseline",
         "offsetgroup": "baseline",
         "showlegend": false,
         "text": [
          "stomach",
          "small_bowel",
          "colon",
          "liver",
          "gallbladder",
          "pancreas",
          "kidney",
          "spleen",
          "bladder",
          "omentum",
          "fat_subcutaneous",
          "lung",
          "heart",
          "skin",
          "muscle",
          "peritoneum",
          "major_vein",
          "kidney_with_Gerotas_fascia",
          "background"
         ],
         "type": "box",
         "x": [
          "occlusion",
          "occlusion",
          "occlusion",
          "occlusion",
          "occlusion",
          "occlusion",
          "occlusion",
          "occlusion",
          "occlusion",
          "occlusion",
          "occlusion",
          "occlusion",
          "occlusion",
          "occlusion",
          "occlusion",
          "occlusion",
          "occlusion",
          "occlusion",
          "occlusion"
         ],
         "xaxis": "x2",
         "y": [
          0.35957533234641664,
          0.8986591877121675,
          0.8579814045452604,
          0.801390771512632,
          0.5342284692747016,
          0.5179322231383551,
          0.8901485436492496,
          0.5278921027978262,
          0.8796965903832773,
          0.28315333411807103,
          0.6918654482042979,
          0.9483504295349121,
          0.8917897088187081,
          0.5701808639698558,
          0.8924469947814941,
          0.5836514060313885,
          0.4518591225147247,
          0.8206532895565033,
          0.9480588297049204
         ],
         "yaxis": "y2"
        },
        {
         "boxmean": true,
         "boxpoints": "all",
         "legendgroup": "organ_transplantation",
         "marker": {
          "color": "#A39F5D"
         },
         "name": "Organ Transplantation",
         "offsetgroup": "organ_transplantation",
         "showlegend": false,
         "text": [
          "stomach",
          "small_bowel",
          "colon",
          "liver",
          "gallbladder",
          "pancreas",
          "kidney",
          "spleen",
          "bladder",
          "omentum",
          "fat_subcutaneous",
          "lung",
          "heart",
          "skin",
          "muscle",
          "peritoneum",
          "major_vein",
          "kidney_with_Gerotas_fascia",
          "background"
         ],
         "type": "box",
         "x": [
          "occlusion",
          "occlusion",
          "occlusion",
          "occlusion",
          "occlusion",
          "occlusion",
          "occlusion",
          "occlusion",
          "occlusion",
          "occlusion",
          "occlusion",
          "occlusion",
          "occlusion",
          "occlusion",
          "occlusion",
          "occlusion",
          "occlusion",
          "occlusion",
          "occlusion"
         ],
         "xaxis": "x2",
         "y": [
          0.4433185751475985,
          0.9219763666739937,
          0.8832301731203117,
          0.8453432769371719,
          0.6088221549751266,
          0.594933247187781,
          0.9088145792484283,
          0.6300591627756754,
          0.9047093996971226,
          0.40901276015100024,
          0.7535274402489738,
          0.957451616014753,
          0.9141826629638672,
          0.5818667999572225,
          0.9222164154052734,
          0.5544820960006144,
          0.8465569376945495,
          0.884892362356186,
          0.949018555217319
         ],
         "yaxis": "y2"
        }
       ],
       "layout": {
        "annotations": [
         {
          "font": {
           "size": 20
          },
          "showarrow": false,
          "text": "<b>HSI</b>",
          "x": 0,
          "xanchor": "left",
          "xref": "paper",
          "y": 0.9999999999999999,
          "yanchor": "bottom",
          "yref": "paper"
         },
         {
          "font": {
           "size": 20
          },
          "showarrow": false,
          "text": "<b>RGB</b>",
          "x": 0,
          "xanchor": "left",
          "xref": "paper",
          "y": 0.46499999999999997,
          "yanchor": "bottom",
          "yref": "paper"
         }
        ],
        "boxgap": 0.2,
        "boxgroupgap": 0.4,
        "boxmode": "group",
        "font": {
         "family": "Libertinus Serif",
         "size": 20
        },
        "height": 510,
        "legend": {
         "orientation": "h",
         "x": 0.5,
         "xanchor": "center",
         "y": 1.01,
         "yanchor": "bottom"
        },
        "margin": {
         "b": 0,
         "l": 0,
         "r": 0,
         "t": 0
        },
        "template": {
         "data": {
          "bar": [
           {
            "error_x": {
             "color": "#2a3f5f"
            },
            "error_y": {
             "color": "#2a3f5f"
            },
            "marker": {
             "line": {
              "color": "white",
              "width": 0.5
             },
             "pattern": {
              "fillmode": "overlay",
              "size": 10,
              "solidity": 0.2
             }
            },
            "type": "bar"
           }
          ],
          "barpolar": [
           {
            "marker": {
             "line": {
              "color": "white",
              "width": 0.5
             },
             "pattern": {
              "fillmode": "overlay",
              "size": 10,
              "solidity": 0.2
             }
            },
            "type": "barpolar"
           }
          ],
          "carpet": [
           {
            "aaxis": {
             "endlinecolor": "#2a3f5f",
             "gridcolor": "#C8D4E3",
             "linecolor": "#C8D4E3",
             "minorgridcolor": "#C8D4E3",
             "startlinecolor": "#2a3f5f"
            },
            "baxis": {
             "endlinecolor": "#2a3f5f",
             "gridcolor": "#C8D4E3",
             "linecolor": "#C8D4E3",
             "minorgridcolor": "#C8D4E3",
             "startlinecolor": "#2a3f5f"
            },
            "type": "carpet"
           }
          ],
          "choropleth": [
           {
            "colorbar": {
             "outlinewidth": 0,
             "ticks": ""
            },
            "type": "choropleth"
           }
          ],
          "contour": [
           {
            "colorbar": {
             "outlinewidth": 0,
             "ticks": ""
            },
            "colorscale": [
             [
              0,
              "#0d0887"
             ],
             [
              0.1111111111111111,
              "#46039f"
             ],
             [
              0.2222222222222222,
              "#7201a8"
             ],
             [
              0.3333333333333333,
              "#9c179e"
             ],
             [
              0.4444444444444444,
              "#bd3786"
             ],
             [
              0.5555555555555556,
              "#d8576b"
             ],
             [
              0.6666666666666666,
              "#ed7953"
             ],
             [
              0.7777777777777778,
              "#fb9f3a"
             ],
             [
              0.8888888888888888,
              "#fdca26"
             ],
             [
              1,
              "#f0f921"
             ]
            ],
            "type": "contour"
           }
          ],
          "contourcarpet": [
           {
            "colorbar": {
             "outlinewidth": 0,
             "ticks": ""
            },
            "type": "contourcarpet"
           }
          ],
          "heatmap": [
           {
            "colorbar": {
             "outlinewidth": 0,
             "ticks": ""
            },
            "colorscale": [
             [
              0,
              "#0d0887"
             ],
             [
              0.1111111111111111,
              "#46039f"
             ],
             [
              0.2222222222222222,
              "#7201a8"
             ],
             [
              0.3333333333333333,
              "#9c179e"
             ],
             [
              0.4444444444444444,
              "#bd3786"
             ],
             [
              0.5555555555555556,
              "#d8576b"
             ],
             [
              0.6666666666666666,
              "#ed7953"
             ],
             [
              0.7777777777777778,
              "#fb9f3a"
             ],
             [
              0.8888888888888888,
              "#fdca26"
             ],
             [
              1,
              "#f0f921"
             ]
            ],
            "type": "heatmap"
           }
          ],
          "heatmapgl": [
           {
            "colorbar": {
             "outlinewidth": 0,
             "ticks": ""
            },
            "colorscale": [
             [
              0,
              "#0d0887"
             ],
             [
              0.1111111111111111,
              "#46039f"
             ],
             [
              0.2222222222222222,
              "#7201a8"
             ],
             [
              0.3333333333333333,
              "#9c179e"
             ],
             [
              0.4444444444444444,
              "#bd3786"
             ],
             [
              0.5555555555555556,
              "#d8576b"
             ],
             [
              0.6666666666666666,
              "#ed7953"
             ],
             [
              0.7777777777777778,
              "#fb9f3a"
             ],
             [
              0.8888888888888888,
              "#fdca26"
             ],
             [
              1,
              "#f0f921"
             ]
            ],
            "type": "heatmapgl"
           }
          ],
          "histogram": [
           {
            "marker": {
             "pattern": {
              "fillmode": "overlay",
              "size": 10,
              "solidity": 0.2
             }
            },
            "type": "histogram"
           }
          ],
          "histogram2d": [
           {
            "colorbar": {
             "outlinewidth": 0,
             "ticks": ""
            },
            "colorscale": [
             [
              0,
              "#0d0887"
             ],
             [
              0.1111111111111111,
              "#46039f"
             ],
             [
              0.2222222222222222,
              "#7201a8"
             ],
             [
              0.3333333333333333,
              "#9c179e"
             ],
             [
              0.4444444444444444,
              "#bd3786"
             ],
             [
              0.5555555555555556,
              "#d8576b"
             ],
             [
              0.6666666666666666,
              "#ed7953"
             ],
             [
              0.7777777777777778,
              "#fb9f3a"
             ],
             [
              0.8888888888888888,
              "#fdca26"
             ],
             [
              1,
              "#f0f921"
             ]
            ],
            "type": "histogram2d"
           }
          ],
          "histogram2dcontour": [
           {
            "colorbar": {
             "outlinewidth": 0,
             "ticks": ""
            },
            "colorscale": [
             [
              0,
              "#0d0887"
             ],
             [
              0.1111111111111111,
              "#46039f"
             ],
             [
              0.2222222222222222,
              "#7201a8"
             ],
             [
              0.3333333333333333,
              "#9c179e"
             ],
             [
              0.4444444444444444,
              "#bd3786"
             ],
             [
              0.5555555555555556,
              "#d8576b"
             ],
             [
              0.6666666666666666,
              "#ed7953"
             ],
             [
              0.7777777777777778,
              "#fb9f3a"
             ],
             [
              0.8888888888888888,
              "#fdca26"
             ],
             [
              1,
              "#f0f921"
             ]
            ],
            "type": "histogram2dcontour"
           }
          ],
          "mesh3d": [
           {
            "colorbar": {
             "outlinewidth": 0,
             "ticks": ""
            },
            "type": "mesh3d"
           }
          ],
          "parcoords": [
           {
            "line": {
             "colorbar": {
              "outlinewidth": 0,
              "ticks": ""
             }
            },
            "type": "parcoords"
           }
          ],
          "pie": [
           {
            "automargin": true,
            "type": "pie"
           }
          ],
          "scatter": [
           {
            "fillpattern": {
             "fillmode": "overlay",
             "size": 10,
             "solidity": 0.2
            },
            "type": "scatter"
           }
          ],
          "scatter3d": [
           {
            "line": {
             "colorbar": {
              "outlinewidth": 0,
              "ticks": ""
             }
            },
            "marker": {
             "colorbar": {
              "outlinewidth": 0,
              "ticks": ""
             }
            },
            "type": "scatter3d"
           }
          ],
          "scattercarpet": [
           {
            "marker": {
             "colorbar": {
              "outlinewidth": 0,
              "ticks": ""
             }
            },
            "type": "scattercarpet"
           }
          ],
          "scattergeo": [
           {
            "marker": {
             "colorbar": {
              "outlinewidth": 0,
              "ticks": ""
             }
            },
            "type": "scattergeo"
           }
          ],
          "scattergl": [
           {
            "marker": {
             "colorbar": {
              "outlinewidth": 0,
              "ticks": ""
             }
            },
            "type": "scattergl"
           }
          ],
          "scattermapbox": [
           {
            "marker": {
             "colorbar": {
              "outlinewidth": 0,
              "ticks": ""
             }
            },
            "type": "scattermapbox"
           }
          ],
          "scatterpolar": [
           {
            "marker": {
             "colorbar": {
              "outlinewidth": 0,
              "ticks": ""
             }
            },
            "type": "scatterpolar"
           }
          ],
          "scatterpolargl": [
           {
            "marker": {
             "colorbar": {
              "outlinewidth": 0,
              "ticks": ""
             }
            },
            "type": "scatterpolargl"
           }
          ],
          "scatterternary": [
           {
            "marker": {
             "colorbar": {
              "outlinewidth": 0,
              "ticks": ""
             }
            },
            "type": "scatterternary"
           }
          ],
          "surface": [
           {
            "colorbar": {
             "outlinewidth": 0,
             "ticks": ""
            },
            "colorscale": [
             [
              0,
              "#0d0887"
             ],
             [
              0.1111111111111111,
              "#46039f"
             ],
             [
              0.2222222222222222,
              "#7201a8"
             ],
             [
              0.3333333333333333,
              "#9c179e"
             ],
             [
              0.4444444444444444,
              "#bd3786"
             ],
             [
              0.5555555555555556,
              "#d8576b"
             ],
             [
              0.6666666666666666,
              "#ed7953"
             ],
             [
              0.7777777777777778,
              "#fb9f3a"
             ],
             [
              0.8888888888888888,
              "#fdca26"
             ],
             [
              1,
              "#f0f921"
             ]
            ],
            "type": "surface"
           }
          ],
          "table": [
           {
            "cells": {
             "fill": {
              "color": "#EBF0F8"
             },
             "line": {
              "color": "white"
             }
            },
            "header": {
             "fill": {
              "color": "#C8D4E3"
             },
             "line": {
              "color": "white"
             }
            },
            "type": "table"
           }
          ]
         },
         "layout": {
          "annotationdefaults": {
           "arrowcolor": "#2a3f5f",
           "arrowhead": 0,
           "arrowwidth": 1
          },
          "autotypenumbers": "strict",
          "coloraxis": {
           "colorbar": {
            "outlinewidth": 0,
            "ticks": ""
           }
          },
          "colorscale": {
           "diverging": [
            [
             0,
             "#8e0152"
            ],
            [
             0.1,
             "#c51b7d"
            ],
            [
             0.2,
             "#de77ae"
            ],
            [
             0.3,
             "#f1b6da"
            ],
            [
             0.4,
             "#fde0ef"
            ],
            [
             0.5,
             "#f7f7f7"
            ],
            [
             0.6,
             "#e6f5d0"
            ],
            [
             0.7,
             "#b8e186"
            ],
            [
             0.8,
             "#7fbc41"
            ],
            [
             0.9,
             "#4d9221"
            ],
            [
             1,
             "#276419"
            ]
           ],
           "sequential": [
            [
             0,
             "#0d0887"
            ],
            [
             0.1111111111111111,
             "#46039f"
            ],
            [
             0.2222222222222222,
             "#7201a8"
            ],
            [
             0.3333333333333333,
             "#9c179e"
            ],
            [
             0.4444444444444444,
             "#bd3786"
            ],
            [
             0.5555555555555556,
             "#d8576b"
            ],
            [
             0.6666666666666666,
             "#ed7953"
            ],
            [
             0.7777777777777778,
             "#fb9f3a"
            ],
            [
             0.8888888888888888,
             "#fdca26"
            ],
            [
             1,
             "#f0f921"
            ]
           ],
           "sequentialminus": [
            [
             0,
             "#0d0887"
            ],
            [
             0.1111111111111111,
             "#46039f"
            ],
            [
             0.2222222222222222,
             "#7201a8"
            ],
            [
             0.3333333333333333,
             "#9c179e"
            ],
            [
             0.4444444444444444,
             "#bd3786"
            ],
            [
             0.5555555555555556,
             "#d8576b"
            ],
            [
             0.6666666666666666,
             "#ed7953"
            ],
            [
             0.7777777777777778,
             "#fb9f3a"
            ],
            [
             0.8888888888888888,
             "#fdca26"
            ],
            [
             1,
             "#f0f921"
            ]
           ]
          },
          "colorway": [
           "#636efa",
           "#EF553B",
           "#00cc96",
           "#ab63fa",
           "#FFA15A",
           "#19d3f3",
           "#FF6692",
           "#B6E880",
           "#FF97FF",
           "#FECB52"
          ],
          "font": {
           "color": "#2a3f5f"
          },
          "geo": {
           "bgcolor": "white",
           "lakecolor": "white",
           "landcolor": "white",
           "showlakes": true,
           "showland": true,
           "subunitcolor": "#C8D4E3"
          },
          "hoverlabel": {
           "align": "left"
          },
          "hovermode": "closest",
          "mapbox": {
           "style": "light"
          },
          "paper_bgcolor": "white",
          "plot_bgcolor": "white",
          "polar": {
           "angularaxis": {
            "gridcolor": "#EBF0F8",
            "linecolor": "#EBF0F8",
            "ticks": ""
           },
           "bgcolor": "white",
           "radialaxis": {
            "gridcolor": "#EBF0F8",
            "linecolor": "#EBF0F8",
            "ticks": ""
           }
          },
          "scene": {
           "xaxis": {
            "backgroundcolor": "white",
            "gridcolor": "#DFE8F3",
            "gridwidth": 2,
            "linecolor": "#EBF0F8",
            "showbackground": true,
            "ticks": "",
            "zerolinecolor": "#EBF0F8"
           },
           "yaxis": {
            "backgroundcolor": "white",
            "gridcolor": "#DFE8F3",
            "gridwidth": 2,
            "linecolor": "#EBF0F8",
            "showbackground": true,
            "ticks": "",
            "zerolinecolor": "#EBF0F8"
           },
           "zaxis": {
            "backgroundcolor": "white",
            "gridcolor": "#DFE8F3",
            "gridwidth": 2,
            "linecolor": "#EBF0F8",
            "showbackground": true,
            "ticks": "",
            "zerolinecolor": "#EBF0F8"
           }
          },
          "shapedefaults": {
           "line": {
            "color": "#2a3f5f"
           }
          },
          "ternary": {
           "aaxis": {
            "gridcolor": "#DFE8F3",
            "linecolor": "#A2B1C6",
            "ticks": ""
           },
           "baxis": {
            "gridcolor": "#DFE8F3",
            "linecolor": "#A2B1C6",
            "ticks": ""
           },
           "bgcolor": "white",
           "caxis": {
            "gridcolor": "#DFE8F3",
            "linecolor": "#A2B1C6",
            "ticks": ""
           }
          },
          "title": {
           "x": 0.05
          },
          "xaxis": {
           "automargin": true,
           "gridcolor": "#EBF0F8",
           "linecolor": "#EBF0F8",
           "ticks": "",
           "title": {
            "standoff": 15
           },
           "zerolinecolor": "#EBF0F8",
           "zerolinewidth": 2
          },
          "yaxis": {
           "automargin": true,
           "gridcolor": "#EBF0F8",
           "linecolor": "#EBF0F8",
           "ticks": "",
           "title": {
            "standoff": 15
           },
           "zerolinecolor": "#EBF0F8",
           "zerolinewidth": 2
          }
         }
        },
        "width": 1000,
        "xaxis": {
         "anchor": "y",
         "autorange": true,
         "autorangeoptions": {
          "maxallowed": 7.4,
          "minallowed": -0.52
         },
         "domain": [
          0,
          1
         ],
         "matches": "x2",
         "range": [
          -0.52,
          7.4
         ],
         "showticklabels": false,
         "tickfont": {
          "size": 16
         },
         "type": "category"
        },
        "xaxis2": {
         "anchor": "y2",
         "autorange": true,
         "domain": [
          0,
          1
         ],
         "range": [
          -0.52,
          7.4
         ],
         "tickfont": {
          "size": 16
         },
         "type": "category"
        },
        "yaxis": {
         "anchor": "x",
         "domain": [
          0.5349999999999999,
          0.9999999999999999
         ],
         "range": [
          -0.05,
          1.05
         ],
         "tickfont": {
          "size": 16
         },
         "title": {
          "text": "DSC"
         },
         "type": "linear"
        },
        "yaxis2": {
         "anchor": "x2",
         "autorange": true,
         "domain": [
          0,
          0.46499999999999997
         ],
         "range": [
          -0.055457134355325316,
          1.053685552751181
         ],
         "tickfont": {
          "size": 16
         },
         "title": {
          "text": "DSC"
         },
         "type": "linear"
        }
       }
      },
      "image/png": "[encoded data removed]",
      "text/html": [
       "<div>                            <div id=\"cd072cd8-be6f-4f62-ac4c-09c28206e7e3\" class=\"plotly-graph-div\" style=\"height:510px; width:1000px;\"></div>            <script type=\"text/javascript\">                require([\"plotly\"], function(Plotly) {                    window.PLOTLYENV=window.PLOTLYENV || {};                                    if (document.getElementById(\"cd072cd8-be6f-4f62-ac4c-09c28206e7e3\")) {                    Plotly.newPlot(                        \"cd072cd8-be6f-4f62-ac4c-09c28206e7e3\",                        [{\"boxmean\":true,\"boxpoints\":\"all\",\"legendgroup\":\"baseline\",\"marker\":{\"color\":\"#508587\"},\"name\":\"Baseline\",\"offsetgroup\":\"baseline\",\"showlegend\":true,\"text\":[\"stomach\",\"small_bowel\",\"colon\",\"liver\",\"gallbladder\",\"pancreas\",\"kidney\",\"spleen\",\"bladder\",\"omentum\",\"fat_subcutaneous\",\"lung\",\"heart\",\"skin\",\"muscle\",\"peritoneum\",\"major_vein\",\"kidney_with_Gerotas_fascia\",\"background\"],\"x\":[\"original\",\"original\",\"original\",\"original\",\"original\",\"original\",\"original\",\"original\",\"original\",\"original\",\"original\",\"original\",\"original\",\"original\",\"original\",\"original\",\"original\",\"original\",\"original\"],\"y\":[0.861473641071633,0.9572065303861302,0.9485893705638366,0.9555865674609633,0.8123611938238926,0.9236893593318879,0.8996078640806908,0.9500669538407098,0.9558500068383815,0.767298252647227,0.6621610555058088,0.8566362063090006,0.9327061706119113,0.7583362563473968,0.8854879140853882,0.7739984667639888,0.7015092611312866,0.7966977834701539,0.9920313810608464],\"type\":\"box\",\"xaxis\":\"x\",\"yaxis\":\"y\"},{\"boxmean\":true,\"boxpoints\":\"all\",\"legendgroup\":\"organ_transplantation\",\"marker\":{\"color\":\"#A39F5D\"},\"name\":\"Organ Transplantation\",\"offsetgroup\":\"organ_transplantation\",\"showlegend\":true,\"text\":[\"stomach\",\"small_bowel\",\"colon\",\"liver\",\"gallbladder\",\"pancreas\",\"kidney\",\"spleen\",\"bladder\",\"omentum\",\"fat_subcutaneous\",\"lung\",\"heart\",\"skin\",\"muscle\",\"peritoneum\",\"major_vein\",\"kidney_with_Gerotas_fascia\",\"background\"],\"x\":[\"original\",\"original\",\"original\",\"original\",\"original\",\"original\",\"original\",\"original\",\"original\",\"original\",\"original\",\"original\",\"original\",\"original\",\"original\",\"original\",\"original\",\"original\",\"original\"],\"y\":[0.871478492960077,0.953197890129721,0.9626351645232907,0.949342466239108,0.8397138351436906,0.9312997106521849,0.8913204654369479,0.938095459559607,0.9503241149728948,0.7545647466780749,0.7038704440770721,0.8303254259957208,0.9294263362884522,0.7952009146860798,0.8911105791727703,0.7843635316202398,0.8747839868068695,0.9263071715831757,0.9911609232055476],\"type\":\"box\",\"xaxis\":\"x\",\"yaxis\":\"y\"},{\"boxmean\":true,\"boxpoints\":\"all\",\"legendgroup\":\"baseline\",\"marker\":{\"color\":\"#508587\"},\"name\":\"Baseline\",\"offsetgroup\":\"baseline\",\"showlegend\":false,\"text\":[\"stomach\",\"small_bowel\",\"colon\",\"liver\",\"gallbladder\",\"pancreas\",\"kidney\",\"spleen\",\"bladder\",\"omentum\",\"fat_subcutaneous\",\"lung\",\"heart\",\"skin\",\"muscle\",\"peritoneum\",\"major_vein\",\"kidney_with_Gerotas_fascia\",\"background\"],\"x\":[\"isolation_zero\",\"isolation_zero\",\"isolation_zero\",\"isolation_zero\",\"isolation_zero\",\"isolation_zero\",\"isolation_zero\",\"isolation_zero\",\"isolation_zero\",\"isolation_zero\",\"isolation_zero\",\"isolation_zero\",\"isolation_zero\",\"isolation_zero\",\"isolation_zero\",\"isolation_zero\",\"isolation_zero\",\"isolation_zero\",\"isolation_zero\"],\"y\":[0.39479507159114846,0.9911825057550361,0.8449777326614377,0.9621615207652136,0.2910822102393227,0.5774546278847589,0.8948847343719084,0.9168938959969416,0.7568019022363605,0.2674300310453134,0.8416794393484835,0.8218441009521484,0.8628027862972684,0.8751007167331887,0.808013916015625,0.2966142138423642,0.00765759265050292,0.47979618012905123,0.997153203386522],\"type\":\"box\",\"xaxis\":\"x\",\"yaxis\":\"y\"},{\"boxmean\":true,\"boxpoints\":\"all\",\"legendgroup\":\"organ_transplantation\",\"marker\":{\"color\":\"#A39F5D\"},\"name\":\"Organ Transplantation\",\"offsetgroup\":\"organ_transplantation\",\"showlegend\":false,\"text\":[\"stomach\",\"small_bowel\",\"colon\",\"liver\",\"gallbladder\",\"pancreas\",\"kidney\",\"spleen\",\"bladder\",\"omentum\",\"fat_subcutaneous\",\"lung\",\"heart\",\"skin\",\"muscle\",\"peritoneum\",\"major_vein\",\"kidney_with_Gerotas_fascia\",\"background\"],\"x\":[\"isolation_zero\",\"isolation_zero\",\"isolation_zero\",\"isolation_zero\",\"isolation_zero\",\"isolation_zero\",\"isolation_zero\",\"isolation_zero\",\"isolation_zero\",\"isolation_zero\",\"isolation_zero\",\"isolation_zero\",\"isolation_zero\",\"isolation_zero\",\"isolation_zero\",\"isolation_zero\",\"isolation_zero\",\"isolation_zero\",\"isolation_zero\"],\"y\":[0.9421074786406269,0.9781582553073196,0.9593554542817214,0.9785389385543217,0.5860084553558091,0.9701881968785845,0.9372281311384214,0.9219912482821753,0.8184919691849581,0.8177816964471619,0.8296041384152735,0.7274453401565552,0.9880592346191407,0.7420004522744984,0.8101866245269775,0.6942861812113064,0.811734402179718,0.5464106634259224,0.998450558035341],\"type\":\"box\",\"xaxis\":\"x\",\"yaxis\":\"y\"},{\"boxmean\":true,\"boxpoints\":\"all\",\"legendgroup\":\"baseline\",\"marker\":{\"color\":\"#508587\"},\"name\":\"Baseline\",\"offsetgroup\":\"baseline\",\"showlegend\":false,\"text\":[\"stomach\",\"small_bowel\",\"colon\",\"liver\",\"gallbladder\",\"pancreas\",\"kidney\",\"spleen\",\"bladder\",\"omentum\",\"fat_subcutaneous\",\"lung\",\"heart\",\"skin\",\"muscle\",\"peritoneum\",\"major_vein\",\"kidney_with_Gerotas_fascia\",\"background\"],\"x\":[\"isolation_bgr\",\"isolation_bgr\",\"isolation_bgr\",\"isolation_bgr\",\"isolation_bgr\",\"isolation_bgr\",\"isolation_bgr\",\"isolation_bgr\",\"isolation_bgr\",\"isolation_bgr\",\"isolation_bgr\",\"isolation_bgr\",\"isolation_bgr\",\"isolation_bgr\",\"isolation_bgr\",\"isolation_bgr\",\"isolation_bgr\",\"isolation_bgr\",\"isolation_bgr\"],\"y\":[0.1222906868085564,0.923075248105268,0.7889716621620068,0.800726407237031,0.1706418758151175,0.06559136505164798,0.10172106705459893,0.4341813049240718,0.831719294335419,0.0014894806495782877,0.1369766020999092,0.9243188169267443,0.9717308097415499,0.8005093755295319,0.4895642300446828,0.4176196208697429,0.09796871989965439,0.0,0.9969736815874558],\"type\":\"box\",\"xaxis\":\"x\",\"yaxis\":\"y\"},{\"boxmean\":true,\"boxpoints\":\"all\",\"legendgroup\":\"organ_transplantation\",\"marker\":{\"color\":\"#A39F5D\"},\"name\":\"Organ Transplantation\",\"offsetgroup\":\"organ_transplantation\",\"showlegend\":false,\"text\":[\"stomach\",\"small_bowel\",\"colon\",\"liver\",\"gallbladder\",\"pancreas\",\"kidney\",\"spleen\",\"bladder\",\"omentum\",\"fat_subcutaneous\",\"lung\",\"heart\",\"skin\",\"muscle\",\"peritoneum\",\"major_vein\",\"kidney_with_Gerotas_fascia\",\"background\"],\"x\":[\"isolation_bgr\",\"isolation_bgr\",\"isolation_bgr\",\"isolation_bgr\",\"isolation_bgr\",\"isolation_bgr\",\"isolation_bgr\",\"isolation_bgr\",\"isolation_bgr\",\"isolation_bgr\",\"isolation_bgr\",\"isolation_bgr\",\"isolation_bgr\",\"isolation_bgr\",\"isolation_bgr\",\"isolation_bgr\",\"isolation_bgr\",\"isolation_bgr\",\"isolation_bgr\"],\"y\":[0.9375572358057932,0.9762218907247728,0.9782513992852374,0.97987361296701,0.6004172740091245,0.9441257370842827,0.9160289000841527,0.9252225526930794,0.9682169110007788,0.8819116042706657,0.9251250398606863,0.8073557058970132,0.9881852626800537,0.7718660915018629,0.891126314798991,0.8405767398168045,0.9638756036758422,0.9732827425003052,0.998933138016476],\"type\":\"box\",\"xaxis\":\"x\",\"yaxis\":\"y\"},{\"boxmean\":true,\"boxpoints\":\"all\",\"legendgroup\":\"baseline\",\"marker\":{\"color\":\"#508587\"},\"name\":\"Baseline\",\"offsetgroup\":\"baseline\",\"showlegend\":false,\"text\":[\"stomach\",\"small_bowel\",\"colon\",\"liver\",\"gallbladder\",\"pancreas\",\"kidney\",\"spleen\",\"bladder\",\"omentum\",\"lung\",\"heart\",\"skin\",\"muscle\",\"peritoneum\",\"major_vein\",\"kidney_with_Gerotas_fascia\",\"background\"],\"x\":[\"isolation_real\",\"isolation_real\",\"isolation_real\",\"isolation_real\",\"isolation_real\",\"isolation_real\",\"isolation_real\",\"isolation_real\",\"isolation_real\",\"isolation_real\",\"isolation_real\",\"isolation_real\",\"isolation_real\",\"isolation_real\",\"isolation_real\",\"isolation_real\",\"isolation_real\",\"isolation_real\"],\"y\":[0.44649254437536,0.881641972064972,0.9920404553413391,0.5742735862731934,0.3522494410475095,0.12424157373607159,0.7868876829743385,0.6071382363637289,0.8282280564308167,0.0,0.9670775681734085,0.9716710249582926,0.954271534242128,0.2775430977344513,0.30901315808296204,0.27433519065380096,0.5462151020765305,0.9970833085674943],\"type\":\"box\",\"xaxis\":\"x\",\"yaxis\":\"y\"},{\"boxmean\":true,\"boxpoints\":\"all\",\"legendgroup\":\"organ_transplantation\",\"marker\":{\"color\":\"#A39F5D\"},\"name\":\"Organ Transplantation\",\"offsetgroup\":\"organ_transplantation\",\"showlegend\":false,\"text\":[\"stomach\",\"small_bowel\",\"colon\",\"liver\",\"gallbladder\",\"pancreas\",\"kidney\",\"spleen\",\"bladder\",\"omentum\",\"lung\",\"heart\",\"skin\",\"muscle\",\"peritoneum\",\"major_vein\",\"kidney_with_Gerotas_fascia\",\"background\"],\"x\":[\"isolation_real\",\"isolation_real\",\"isolation_real\",\"isolation_real\",\"isolation_real\",\"isolation_real\",\"isolation_real\",\"isolation_real\",\"isolation_real\",\"isolation_real\",\"isolation_real\",\"isolation_real\",\"isolation_real\",\"isolation_real\",\"isolation_real\",\"isolation_real\",\"isolation_real\",\"isolation_real\"],\"y\":[0.9098750203847885,0.9696029663085938,0.9919309616088867,0.9561715573072433,0.954354445139567,0.7652827873826027,0.9852195456624031,0.9747649828592936,0.9837851673364639,0.908065676689148,0.9681917876005173,0.9812959035237631,0.9824876559408088,0.394196988743109,0.7286174297332764,0.9488683044910431,0.8905386030673981,0.9975172818274726],\"type\":\"box\",\"xaxis\":\"x\",\"yaxis\":\"y\"},{\"boxmean\":true,\"boxpoints\":\"all\",\"legendgroup\":\"baseline\",\"marker\":{\"color\":\"#508587\"},\"name\":\"Baseline\",\"offsetgroup\":\"baseline\",\"showlegend\":false,\"text\":[\"stomach\",\"small_bowel\",\"colon\",\"liver\",\"gallbladder\",\"pancreas\",\"kidney\",\"spleen\",\"bladder\",\"omentum\",\"fat_subcutaneous\",\"lung\",\"heart\",\"skin\",\"muscle\",\"peritoneum\",\"major_vein\",\"kidney_with_Gerotas_fascia\",\"background\"],\"x\":[\"removal_zero\",\"removal_zero\",\"removal_zero\",\"removal_zero\",\"removal_zero\",\"removal_zero\",\"removal_zero\",\"removal_zero\",\"removal_zero\",\"removal_zero\",\"removal_zero\",\"removal_zero\",\"removal_zero\",\"removal_zero\",\"removal_zero\",\"removal_zero\",\"removal_zero\",\"removal_zero\",\"removal_zero\"],\"y\":[0.5989327321699878,0.918435989878047,0.8888181528117716,0.9288440644722874,0.2984862249278136,0.7884678306087615,0.868855586092846,0.9260405088227892,0.701270326700626,0.5785268536304196,0.5733582523882274,0.7845829433865017,0.8958433190981547,0.7060077188276295,0.8862646395961443,0.5083753532036069,0.3506607102463022,0.4654929727315903,0.9896595419075755],\"type\":\"box\",\"xaxis\":\"x\",\"yaxis\":\"y\"},{\"boxmean\":true,\"boxpoints\":\"all\",\"legendgroup\":\"organ_transplantation\",\"marker\":{\"color\":\"#A39F5D\"},\"name\":\"Organ Transplantation\",\"offsetgroup\":\"organ_transplantation\",\"showlegend\":false,\"text\":[\"stomach\",\"small_bowel\",\"colon\",\"liver\",\"gallbladder\",\"pancreas\",\"kidney\",\"spleen\",\"bladder\",\"omentum\",\"fat_subcutaneous\",\"lung\",\"heart\",\"skin\",\"muscle\",\"peritoneum\",\"major_vein\",\"kidney_with_Gerotas_fascia\",\"background\"],\"x\":[\"removal_zero\",\"removal_zero\",\"removal_zero\",\"removal_zero\",\"removal_zero\",\"removal_zero\",\"removal_zero\",\"removal_zero\",\"removal_zero\",\"removal_zero\",\"removal_zero\",\"removal_zero\",\"removal_zero\",\"removal_zero\",\"removal_zero\",\"removal_zero\",\"removal_zero\",\"removal_zero\",\"removal_zero\"],\"y\":[0.8484424867071647,0.9456997003862118,0.9457238799233669,0.9410875962643402,0.5662399217586166,0.9163559126475501,0.8900546220685142,0.9082275401830437,0.9296521556079818,0.7221593995965445,0.6138096313360473,0.8107435610559252,0.92975914047824,0.7355615524935001,0.8695576041936874,0.6578828129905765,0.8137529343366623,0.9119228005409241,0.9902893494878219],\"type\":\"box\",\"xaxis\":\"x\",\"yaxis\":\"y\"},{\"boxmean\":true,\"boxpoints\":\"all\",\"legendgroup\":\"baseline\",\"marker\":{\"color\":\"#508587\"},\"name\":\"Baseline\",\"offsetgroup\":\"baseline\",\"showlegend\":false,\"text\":[\"stomach\",\"small_bowel\",\"colon\",\"liver\",\"gallbladder\",\"pancreas\",\"kidney\",\"spleen\",\"bladder\",\"omentum\",\"fat_subcutaneous\",\"lung\",\"heart\",\"skin\",\"muscle\",\"peritoneum\",\"major_vein\",\"kidney_with_Gerotas_fascia\",\"background\"],\"x\":[\"removal_bgr\",\"removal_bgr\",\"removal_bgr\",\"removal_bgr\",\"removal_bgr\",\"removal_bgr\",\"removal_bgr\",\"removal_bgr\",\"removal_bgr\",\"removal_bgr\",\"removal_bgr\",\"removal_bgr\",\"removal_bgr\",\"removal_bgr\",\"removal_bgr\",\"removal_bgr\",\"removal_bgr\",\"removal_bgr\",\"removal_bgr\"],\"y\":[0.7240884797200472,0.9430636956980338,0.900261036252701,0.9292094366278375,0.41135962477966237,0.8578515456782446,0.8647343117037629,0.8940049872523735,0.8529970164499414,0.6570705681863682,0.5375261605091015,0.7819036791721979,0.9078455868694517,0.7098014226959525,0.7142603099346161,0.5858823930713002,0.5511288411915303,0.5488074593245983,0.9908720534067295],\"type\":\"box\",\"xaxis\":\"x\",\"yaxis\":\"y\"},{\"boxmean\":true,\"boxpoints\":\"all\",\"legendgroup\":\"organ_transplantation\",\"marker\":{\"color\":\"#A39F5D\"},\"name\":\"Organ Transplantation\",\"offsetgroup\":\"organ_transplantation\",\"showlegend\":false,\"text\":[\"stomach\",\"small_bowel\",\"colon\",\"liver\",\"gallbladder\",\"pancreas\",\"kidney\",\"spleen\",\"bladder\",\"omentum\",\"fat_subcutaneous\",\"lung\",\"heart\",\"skin\",\"muscle\",\"peritoneum\",\"major_vein\",\"kidney_with_Gerotas_fascia\",\"background\"],\"x\":[\"removal_bgr\",\"removal_bgr\",\"removal_bgr\",\"removal_bgr\",\"removal_bgr\",\"removal_bgr\",\"removal_bgr\",\"removal_bgr\",\"removal_bgr\",\"removal_bgr\",\"removal_bgr\",\"removal_bgr\",\"removal_bgr\",\"removal_bgr\",\"removal_bgr\",\"removal_bgr\",\"removal_bgr\",\"removal_bgr\",\"removal_bgr\"],\"y\":[0.852614147844563,0.9502303098803664,0.9549792008940253,0.943212528282408,0.6077749840605526,0.9165134901092166,0.8874800688301037,0.9276204345954788,0.9442071072403314,0.7231576855443571,0.6275142210508944,0.8222481121619541,0.9290893591112561,0.7679086836485154,0.8887849996487299,0.6853136954337458,0.8602557592093945,0.9233467727899551,0.9904703115098098],\"type\":\"box\",\"xaxis\":\"x\",\"yaxis\":\"y\"},{\"boxmean\":true,\"boxpoints\":\"all\",\"legendgroup\":\"baseline\",\"marker\":{\"color\":\"#508587\"},\"name\":\"Baseline\",\"offsetgroup\":\"baseline\",\"showlegend\":false,\"text\":[\"stomach\",\"small_bowel\",\"colon\",\"liver\",\"gallbladder\",\"kidney\",\"spleen\",\"bladder\",\"omentum\",\"fat_subcutaneous\",\"lung\",\"heart\",\"skin\",\"muscle\",\"peritoneum\",\"background\"],\"x\":[\"no-occlusion\",\"no-occlusion\",\"no-occlusion\",\"no-occlusion\",\"no-occlusion\",\"no-occlusion\",\"no-occlusion\",\"no-occlusion\",\"no-occlusion\",\"no-occlusion\",\"no-occlusion\",\"no-occlusion\",\"no-occlusion\",\"no-occlusion\",\"no-occlusion\",\"no-occlusion\"],\"y\":[0.8313180021750621,0.9355106407429747,0.9589920405846417,0.8827787432359371,0.6081084787071526,0.0,0.9272205641790598,0.963500446506909,0.7120040442393376,0.4969007407294379,0.7945861895879109,0.949306599299113,0.9507478427263646,0.868590490023295,0.7632127260920978,0.9882827617538779],\"type\":\"box\",\"xaxis\":\"x\",\"yaxis\":\"y\"},{\"boxmean\":true,\"boxpoints\":\"all\",\"legendgroup\":\"organ_transplantation\",\"marker\":{\"color\":\"#A39F5D\"},\"name\":\"Organ Transplantation\",\"offsetgroup\":\"organ_transplantation\",\"showlegend\":false,\"text\":[\"stomach\",\"small_bowel\",\"colon\",\"liver\",\"gallbladder\",\"kidney\",\"spleen\",\"bladder\",\"omentum\",\"fat_subcutaneous\",\"lung\",\"heart\",\"skin\",\"muscle\",\"peritoneum\",\"background\"],\"x\":[\"no-occlusion\",\"no-occlusion\",\"no-occlusion\",\"no-occlusion\",\"no-occlusion\",\"no-occlusion\",\"no-occlusion\",\"no-occlusion\",\"no-occlusion\",\"no-occlusion\",\"no-occlusion\",\"no-occlusion\",\"no-occlusion\",\"no-occlusion\",\"no-occlusion\",\"no-occlusion\"],\"y\":[0.9135136298644237,0.9515187297066913,0.9723452292647605,0.9518393368709894,0.5988422291619437,0.8399546146392822,0.9417543095700881,0.9568881520203182,0.8088459881758079,0.5319040722317165,0.7692059516906739,0.9401306417253282,0.9575428532619102,0.902607536315918,0.7934259674765847,0.9896408709320921],\"type\":\"box\",\"xaxis\":\"x\",\"yaxis\":\"y\"},{\"boxmean\":true,\"boxpoints\":\"all\",\"legendgroup\":\"baseline\",\"marker\":{\"color\":\"#508587\"},\"name\":\"Baseline\",\"offsetgroup\":\"baseline\",\"showlegend\":false,\"text\":[\"stomach\",\"small_bowel\",\"colon\",\"liver\",\"gallbladder\",\"pancreas\",\"kidney\",\"spleen\",\"bladder\",\"omentum\",\"fat_subcutaneous\",\"lung\",\"heart\",\"skin\",\"muscle\",\"peritoneum\",\"major_vein\",\"kidney_with_Gerotas_fascia\",\"background\"],\"x\":[\"occlusion\",\"occlusion\",\"occlusion\",\"occlusion\",\"occlusion\",\"occlusion\",\"occlusion\",\"occlusion\",\"occlusion\",\"occlusion\",\"occlusion\",\"occlusion\",\"occlusion\",\"occlusion\",\"occlusion\",\"occlusion\",\"occlusion\",\"occlusion\",\"occlusion\"],\"y\":[0.4178444168555043,0.8976419893098853,0.8624104994769191,0.8527668569453809,0.8327843717166356,0.1926916027825976,0.9112000796529982,0.7437798380851746,0.921928021135893,0.49992582760159926,0.659190983289764,0.9482386452811105,0.9004087448120117,0.5762820036874877,0.907912118094308,0.5707084915067395,0.7252314507961273,0.8326196491718292,0.92907874584198],\"type\":\"box\",\"xaxis\":\"x\",\"yaxis\":\"y\"},{\"boxmean\":true,\"boxpoints\":\"all\",\"legendgroup\":\"organ_transplantation\",\"marker\":{\"color\":\"#A39F5D\"},\"name\":\"Organ Transplantation\",\"offsetgroup\":\"organ_transplantation\",\"showlegend\":false,\"text\":[\"stomach\",\"small_bowel\",\"colon\",\"liver\",\"gallbladder\",\"pancreas\",\"kidney\",\"spleen\",\"bladder\",\"omentum\",\"fat_subcutaneous\",\"lung\",\"heart\",\"skin\",\"muscle\",\"peritoneum\",\"major_vein\",\"kidney_with_Gerotas_fascia\",\"background\"],\"x\":[\"occlusion\",\"occlusion\",\"occlusion\",\"occlusion\",\"occlusion\",\"occlusion\",\"occlusion\",\"occlusion\",\"occlusion\",\"occlusion\",\"occlusion\",\"occlusion\",\"occlusion\",\"occlusion\",\"occlusion\",\"occlusion\",\"occlusion\",\"occlusion\",\"occlusion\"],\"y\":[0.7067442366685817,0.9369903080470382,0.920612938263837,0.8462948193625799,0.8400343136181907,0.737116171064831,0.9167368445131514,0.6724519828955332,0.9154073243316091,0.5812790386260502,0.737312312164004,0.960942132132394,0.9148463521684919,0.5829129761291875,0.9331097602844238,0.6394686473740472,0.7656322240829467,0.9208462715148926,0.9254603885942035],\"type\":\"box\",\"xaxis\":\"x\",\"yaxis\":\"y\"},{\"boxmean\":true,\"boxpoints\":\"all\",\"legendgroup\":\"baseline\",\"marker\":{\"color\":\"#508587\"},\"name\":\"Baseline\",\"offsetgroup\":\"baseline\",\"showlegend\":false,\"text\":[\"stomach\",\"small_bowel\",\"colon\",\"liver\",\"gallbladder\",\"pancreas\",\"kidney\",\"spleen\",\"bladder\",\"omentum\",\"fat_subcutaneous\",\"lung\",\"heart\",\"skin\",\"muscle\",\"peritoneum\",\"major_vein\",\"kidney_with_Gerotas_fascia\",\"background\"],\"x\":[\"original\",\"original\",\"original\",\"original\",\"original\",\"original\",\"original\",\"original\",\"original\",\"original\",\"original\",\"original\",\"original\",\"original\",\"original\",\"original\",\"original\",\"original\",\"original\"],\"y\":[0.7824955355367889,0.9450368555903562,0.9469814192026815,0.9240282243297946,0.807597905372947,0.9540464832669212,0.8825857608146916,0.7922294622375852,0.799119303450784,0.7657403579266796,0.6833133255539725,0.831808384259542,0.9281005170610216,0.7594127542377497,0.8567541837692261,0.7216715267608336,0.592743992805481,0.8148314654827118,0.990822307828102],\"type\":\"box\",\"xaxis\":\"x2\",\"yaxis\":\"y2\"},{\"boxmean\":true,\"boxpoints\":\"all\",\"legendgroup\":\"organ_transplantation\",\"marker\":{\"color\":\"#A39F5D\"},\"name\":\"Organ Transplantation\",\"offsetgroup\":\"organ_transplantation\",\"showlegend\":false,\"text\":[\"stomach\",\"small_bowel\",\"colon\",\"liver\",\"gallbladder\",\"pancreas\",\"kidney\",\"spleen\",\"bladder\",\"omentum\",\"fat_subcutaneous\",\"lung\",\"heart\",\"skin\",\"muscle\",\"peritoneum\",\"major_vein\",\"kidney_with_Gerotas_fascia\",\"background\"],\"x\":[\"original\",\"original\",\"original\",\"original\",\"original\",\"original\",\"original\",\"original\",\"original\",\"original\",\"original\",\"original\",\"original\",\"original\",\"original\",\"original\",\"original\",\"original\",\"original\"],\"y\":[0.8279000323747592,0.9458623969825422,0.9559748782655646,0.9356500438016397,0.7917375597607327,0.9529784104180715,0.8825142367992526,0.8425740397922576,0.9079341381989516,0.7575602977083589,0.7041868841498824,0.8190641085306803,0.9214527024163139,0.7965604270277744,0.8819332520167034,0.7661995957315753,0.9043801844120025,0.888197922706604,0.9899106672380512],\"type\":\"box\",\"xaxis\":\"x2\",\"yaxis\":\"y2\"},{\"boxmean\":true,\"boxpoints\":\"all\",\"legendgroup\":\"baseline\",\"marker\":{\"color\":\"#508587\"},\"name\":\"Baseline\",\"offsetgroup\":\"baseline\",\"showlegend\":false,\"text\":[\"stomach\",\"small_bowel\",\"colon\",\"liver\",\"gallbladder\",\"pancreas\",\"kidney\",\"spleen\",\"bladder\",\"omentum\",\"fat_subcutaneous\",\"lung\",\"heart\",\"skin\",\"muscle\",\"peritoneum\",\"major_vein\",\"kidney_with_Gerotas_fascia\",\"background\"],\"x\":[\"isolation_zero\",\"isolation_zero\",\"isolation_zero\",\"isolation_zero\",\"isolation_zero\",\"isolation_zero\",\"isolation_zero\",\"isolation_zero\",\"isolation_zero\",\"isolation_zero\",\"isolation_zero\",\"isolation_zero\",\"isolation_zero\",\"isolation_zero\",\"isolation_zero\",\"isolation_zero\",\"isolation_zero\",\"isolation_zero\",\"isolation_zero\"],\"y\":[0.19707821449045382,0.7074664838682486,0.7953261851923358,0.8868039593026223,0.030388840420664042,0.1903529577785068,0.7102955120061738,0.41122533643766057,0.5140942184095947,0.08035904435764145,0.06082185707263289,0.9300028800964356,0.9617720286051431,0.4751092022634557,0.001602140604518354,0.40009286738648153,0.002747944928705692,0.10063978037796914,0.9944000527955446],\"type\":\"box\",\"xaxis\":\"x2\",\"yaxis\":\"y2\"},{\"boxmean\":true,\"boxpoints\":\"all\",\"legendgroup\":\"organ_transplantation\",\"marker\":{\"color\":\"#A39F5D\"},\"name\":\"Organ Transplantation\",\"offsetgroup\":\"organ_transplantation\",\"showlegend\":false,\"text\":[\"stomach\",\"small_bowel\",\"colon\",\"liver\",\"gallbladder\",\"pancreas\",\"kidney\",\"spleen\",\"bladder\",\"omentum\",\"fat_subcutaneous\",\"lung\",\"heart\",\"skin\",\"muscle\",\"peritoneum\",\"major_vein\",\"kidney_with_Gerotas_fascia\",\"background\"],\"x\":[\"isolation_zero\",\"isolation_zero\",\"isolation_zero\",\"isolation_zero\",\"isolation_zero\",\"isolation_zero\",\"isolation_zero\",\"isolation_zero\",\"isolation_zero\",\"isolation_zero\",\"isolation_zero\",\"isolation_zero\",\"isolation_zero\",\"isolation_zero\",\"isolation_zero\",\"isolation_zero\",\"isolation_zero\",\"isolation_zero\",\"isolation_zero\"],\"y\":[0.7536162264584598,0.9256902320170262,0.9029559875407864,0.9059712837294391,0.08359360437968681,0.9739202688610743,0.9335232996473125,0.36373233832537183,0.48965273198111225,0.9241769528752231,0.5899964295634217,0.8048961957295736,0.9757717821333144,0.705568609943335,0.5339397291342417,0.6030732672906798,0.1395804002415389,0.44809154868125917,0.9982284183958556],\"type\":\"box\",\"xaxis\":\"x2\",\"yaxis\":\"y2\"},{\"boxmean\":true,\"boxpoints\":\"all\",\"legendgroup\":\"baseline\",\"marker\":{\"color\":\"#508587\"},\"name\":\"Baseline\",\"offsetgroup\":\"baseline\",\"showlegend\":false,\"text\":[\"stomach\",\"small_bowel\",\"colon\",\"liver\",\"gallbladder\",\"pancreas\",\"kidney\",\"spleen\",\"bladder\",\"omentum\",\"fat_subcutaneous\",\"lung\",\"heart\",\"skin\",\"muscle\",\"peritoneum\",\"major_vein\",\"kidney_with_Gerotas_fascia\",\"background\"],\"x\":[\"isolation_bgr\",\"isolation_bgr\",\"isolation_bgr\",\"isolation_bgr\",\"isolation_bgr\",\"isolation_bgr\",\"isolation_bgr\",\"isolation_bgr\",\"isolation_bgr\",\"isolation_bgr\",\"isolation_bgr\",\"isolation_bgr\",\"isolation_bgr\",\"isolation_bgr\",\"isolation_bgr\",\"isolation_bgr\",\"isolation_bgr\",\"isolation_bgr\",\"isolation_bgr\"],\"y\":[0.12405765994034515,0.9503227080635647,0.8778580063716314,0.9921228229681327,0.15515441498268023,0.07932014988055305,0.5489288420459024,0.41461762493417603,0.6908462424835602,0.05728558237138002,0.5466300235504754,0.9091114415062798,0.8672238667805989,0.49872241969244296,0.21650767574707666,0.510513383125317,0.06833781003952026,0.40482147634029386,0.9973261754401614],\"type\":\"box\",\"xaxis\":\"x2\",\"yaxis\":\"y2\"},{\"boxmean\":true,\"boxpoints\":\"all\",\"legendgroup\":\"organ_transplantation\",\"marker\":{\"color\":\"#A39F5D\"},\"name\":\"Organ Transplantation\",\"offsetgroup\":\"organ_transplantation\",\"showlegend\":false,\"text\":[\"stomach\",\"small_bowel\",\"colon\",\"liver\",\"gallbladder\",\"pancreas\",\"kidney\",\"spleen\",\"bladder\",\"omentum\",\"fat_subcutaneous\",\"lung\",\"heart\",\"skin\",\"muscle\",\"peritoneum\",\"major_vein\",\"kidney_with_Gerotas_fascia\",\"background\"],\"x\":[\"isolation_bgr\",\"isolation_bgr\",\"isolation_bgr\",\"isolation_bgr\",\"isolation_bgr\",\"isolation_bgr\",\"isolation_bgr\",\"isolation_bgr\",\"isolation_bgr\",\"isolation_bgr\",\"isolation_bgr\",\"isolation_bgr\",\"isolation_bgr\",\"isolation_bgr\",\"isolation_bgr\",\"isolation_bgr\",\"isolation_bgr\",\"isolation_bgr\",\"isolation_bgr\"],\"y\":[0.8232926293915395,0.9815734292984187,0.9856126982309983,0.9467161603878325,0.49193331814556085,0.9827056536598812,0.8957230343538172,0.8341278042112077,0.9216305895347098,0.855710473703833,0.7358520077891342,0.8584616343180339,0.9892710632748075,0.7518390354949656,0.8991813659667969,0.719879066580629,0.8917125523090362,0.9446665704250335,0.9981120170085953],\"type\":\"box\",\"xaxis\":\"x2\",\"yaxis\":\"y2\"},{\"boxmean\":true,\"boxpoints\":\"all\",\"legendgroup\":\"baseline\",\"marker\":{\"color\":\"#508587\"},\"name\":\"Baseline\",\"offsetgroup\":\"baseline\",\"showlegend\":false,\"text\":[\"stomach\",\"small_bowel\",\"colon\",\"liver\",\"gallbladder\",\"pancreas\",\"kidney\",\"spleen\",\"bladder\",\"omentum\",\"lung\",\"heart\",\"skin\",\"muscle\",\"peritoneum\",\"major_vein\",\"kidney_with_Gerotas_fascia\",\"background\"],\"x\":[\"isolation_real\",\"isolation_real\",\"isolation_real\",\"isolation_real\",\"isolation_real\",\"isolation_real\",\"isolation_real\",\"isolation_real\",\"isolation_real\",\"isolation_real\",\"isolation_real\",\"isolation_real\",\"isolation_real\",\"isolation_real\",\"isolation_real\",\"isolation_real\",\"isolation_real\",\"isolation_real\"],\"y\":[0.6092109209857881,0.9422743678092956,0.9924092888832092,0.8980409950017929,0.3777156074841817,0.012680412270128727,0.7357332059182227,0.323336402575175,0.9166669249534607,0.0003274751652497798,0.9572533369064331,0.9364159901936849,0.6448374242766907,0.1926037257004888,0.2700892686843872,0.13258394226431847,0.5899998247623444,0.9972874705555674],\"type\":\"box\",\"xaxis\":\"x2\",\"yaxis\":\"y2\"},{\"boxmean\":true,\"boxpoints\":\"all\",\"legendgroup\":\"organ_transplantation\",\"marker\":{\"color\":\"#A39F5D\"},\"name\":\"Organ Transplantation\",\"offsetgroup\":\"organ_transplantation\",\"showlegend\":false,\"text\":[\"stomach\",\"small_bowel\",\"colon\",\"liver\",\"gallbladder\",\"pancreas\",\"kidney\",\"spleen\",\"bladder\",\"omentum\",\"lung\",\"heart\",\"skin\",\"muscle\",\"peritoneum\",\"major_vein\",\"kidney_with_Gerotas_fascia\",\"background\"],\"x\":[\"isolation_real\",\"isolation_real\",\"isolation_real\",\"isolation_real\",\"isolation_real\",\"isolation_real\",\"isolation_real\",\"isolation_real\",\"isolation_real\",\"isolation_real\",\"isolation_real\",\"isolation_real\",\"isolation_real\",\"isolation_real\",\"isolation_real\",\"isolation_real\",\"isolation_real\",\"isolation_real\"],\"y\":[0.8683061450719833,0.9722974300384521,0.9925851821899414,0.935847282409668,0.628723161915938,0.9126102477312088,0.9844184517860413,0.9481713970502218,0.987303763628006,0.976811408996582,0.9658353626728058,0.9807827870051066,0.9697787335044459,0.3351037800312042,0.7543319463729858,0.40369945764541626,0.7908279895782471,0.997221044231247],\"type\":\"box\",\"xaxis\":\"x2\",\"yaxis\":\"y2\"},{\"boxmean\":true,\"boxpoints\":\"all\",\"legendgroup\":\"baseline\",\"marker\":{\"color\":\"#508587\"},\"name\":\"Baseline\",\"offsetgroup\":\"baseline\",\"showlegend\":false,\"text\":[\"stomach\",\"small_bowel\",\"colon\",\"liver\",\"gallbladder\",\"pancreas\",\"kidney\",\"spleen\",\"bladder\",\"omentum\",\"fat_subcutaneous\",\"lung\",\"heart\",\"skin\",\"muscle\",\"peritoneum\",\"major_vein\",\"kidney_with_Gerotas_fascia\",\"background\"],\"x\":[\"removal_zero\",\"removal_zero\",\"removal_zero\",\"removal_zero\",\"removal_zero\",\"removal_zero\",\"removal_zero\",\"removal_zero\",\"removal_zero\",\"removal_zero\",\"removal_zero\",\"removal_zero\",\"removal_zero\",\"removal_zero\",\"removal_zero\",\"removal_zero\",\"removal_zero\",\"removal_zero\",\"removal_zero\"],\"y\":[0.4624460832288764,0.8675557968733474,0.8262293362587876,0.8149656564176333,0.28991653222884306,0.4905544919479225,0.7700870861877608,0.46825251356930486,0.35130049263715507,0.5514395222998983,0.3298359416602611,0.7020728909307056,0.8589168008830813,0.5495698667372988,0.4002043774429088,0.46211423876512947,0.1738149955868721,0.38246158212423326,0.9844956154622757],\"type\":\"box\",\"xaxis\":\"x2\",\"yaxis\":\"y2\"},{\"boxmean\":true,\"boxpoints\":\"all\",\"legendgroup\":\"organ_transplantation\",\"marker\":{\"color\":\"#A39F5D\"},\"name\":\"Organ Transplantation\",\"offsetgroup\":\"organ_transplantation\",\"showlegend\":false,\"text\":[\"stomach\",\"small_bowel\",\"colon\",\"liver\",\"gallbladder\",\"pancreas\",\"kidney\",\"spleen\",\"bladder\",\"omentum\",\"fat_subcutaneous\",\"lung\",\"heart\",\"skin\",\"muscle\",\"peritoneum\",\"major_vein\",\"kidney_with_Gerotas_fascia\",\"background\"],\"x\":[\"removal_zero\",\"removal_zero\",\"removal_zero\",\"removal_zero\",\"removal_zero\",\"removal_zero\",\"removal_zero\",\"removal_zero\",\"removal_zero\",\"removal_zero\",\"removal_zero\",\"removal_zero\",\"removal_zero\",\"removal_zero\",\"removal_zero\",\"removal_zero\",\"removal_zero\",\"removal_zero\",\"removal_zero\"],\"y\":[0.6978276066217004,0.9174738817472854,0.9032508015394345,0.8733630192638128,0.41860195097310104,0.7123211133101629,0.8743740670151667,0.636597252624564,0.6517134740097182,0.6897882575557517,0.6068018143999461,0.7646371079815758,0.9168396075566609,0.7046743054702453,0.7838397324085236,0.6309103644630476,0.44126312414882707,0.4831317842006683,0.9859431423438572],\"type\":\"box\",\"xaxis\":\"x2\",\"yaxis\":\"y2\"},{\"boxmean\":true,\"boxpoints\":\"all\",\"legendgroup\":\"baseline\",\"marker\":{\"color\":\"#508587\"},\"name\":\"Baseline\",\"offsetgroup\":\"baseline\",\"showlegend\":false,\"text\":[\"stomach\",\"small_bowel\",\"colon\",\"liver\",\"gallbladder\",\"pancreas\",\"kidney\",\"spleen\",\"bladder\",\"omentum\",\"fat_subcutaneous\",\"lung\",\"heart\",\"skin\",\"muscle\",\"peritoneum\",\"major_vein\",\"kidney_with_Gerotas_fascia\",\"background\"],\"x\":[\"removal_bgr\",\"removal_bgr\",\"removal_bgr\",\"removal_bgr\",\"removal_bgr\",\"removal_bgr\",\"removal_bgr\",\"removal_bgr\",\"removal_bgr\",\"removal_bgr\",\"removal_bgr\",\"removal_bgr\",\"removal_bgr\",\"removal_bgr\",\"removal_bgr\",\"removal_bgr\",\"removal_bgr\",\"removal_bgr\",\"removal_bgr\"],\"y\":[0.6141895200810439,0.9209885401729017,0.8753698916060122,0.8716973015762761,0.21416121646467512,0.8708586470475272,0.7956633412079837,0.6166806982007591,0.5839259262077142,0.5852168062800248,0.5630115336940119,0.7591146909528308,0.8426231056451797,0.6183524295012505,0.6666692979633808,0.4889192704603904,0.10168536316195968,0.5039286732673645,0.9865075772752009],\"type\":\"box\",\"xaxis\":\"x2\",\"yaxis\":\"y2\"},{\"boxmean\":true,\"boxpoints\":\"all\",\"legendgroup\":\"organ_transplantation\",\"marker\":{\"color\":\"#A39F5D\"},\"name\":\"Organ Transplantation\",\"offsetgroup\":\"organ_transplantation\",\"showlegend\":false,\"text\":[\"stomach\",\"small_bowel\",\"colon\",\"liver\",\"gallbladder\",\"pancreas\",\"kidney\",\"spleen\",\"bladder\",\"omentum\",\"fat_subcutaneous\",\"lung\",\"heart\",\"skin\",\"muscle\",\"peritoneum\",\"major_vein\",\"kidney_with_Gerotas_fascia\",\"background\"],\"x\":[\"removal_bgr\",\"removal_bgr\",\"removal_bgr\",\"removal_bgr\",\"removal_bgr\",\"removal_bgr\",\"removal_bgr\",\"removal_bgr\",\"removal_bgr\",\"removal_bgr\",\"removal_bgr\",\"removal_bgr\",\"removal_bgr\",\"removal_bgr\",\"removal_bgr\",\"removal_bgr\",\"removal_bgr\",\"removal_bgr\",\"removal_bgr\"],\"y\":[0.7608165925854526,0.9367164255622031,0.9421687955510789,0.9172535525614576,0.4903018573552908,0.9257741109719353,0.8788857921665789,0.785706781688223,0.8925054878808375,0.7065669639244126,0.6064330861532614,0.8001380470063951,0.9189037048154408,0.7340254413701093,0.8768529668450356,0.6511609232613373,0.8905197083950043,0.8600752145051956,0.9887408255665069],\"type\":\"box\",\"xaxis\":\"x2\",\"yaxis\":\"y2\"},{\"boxmean\":true,\"boxpoints\":\"all\",\"legendgroup\":\"baseline\",\"marker\":{\"color\":\"#508587\"},\"name\":\"Baseline\",\"offsetgroup\":\"baseline\",\"showlegend\":false,\"text\":[\"stomach\",\"small_bowel\",\"colon\",\"liver\",\"gallbladder\",\"kidney\",\"spleen\",\"bladder\",\"omentum\",\"fat_subcutaneous\",\"lung\",\"heart\",\"skin\",\"muscle\",\"peritoneum\",\"background\"],\"x\":[\"no-occlusion\",\"no-occlusion\",\"no-occlusion\",\"no-occlusion\",\"no-occlusion\",\"no-occlusion\",\"no-occlusion\",\"no-occlusion\",\"no-occlusion\",\"no-occlusion\",\"no-occlusion\",\"no-occlusion\",\"no-occlusion\",\"no-occlusion\",\"no-occlusion\",\"no-occlusion\"],\"y\":[0.847332885937813,0.9450690176167014,0.9530979472405413,0.9162561968767837,0.5790435741474103,0.0,0.9294939742368811,0.8145018134798323,0.7851499169912095,0.5213115946451823,0.751699087354872,0.9376576529608833,0.9274761991563186,0.8175854444503784,0.7621244642469618,0.9877602168178715],\"type\":\"box\",\"xaxis\":\"x2\",\"yaxis\":\"y2\"},{\"boxmean\":true,\"boxpoints\":\"all\",\"legendgroup\":\"organ_transplantation\",\"marker\":{\"color\":\"#A39F5D\"},\"name\":\"Organ Transplantation\",\"offsetgroup\":\"organ_transplantation\",\"showlegend\":false,\"text\":[\"stomach\",\"small_bowel\",\"colon\",\"liver\",\"gallbladder\",\"kidney\",\"spleen\",\"bladder\",\"omentum\",\"fat_subcutaneous\",\"lung\",\"heart\",\"skin\",\"muscle\",\"peritoneum\",\"background\"],\"x\":[\"no-occlusion\",\"no-occlusion\",\"no-occlusion\",\"no-occlusion\",\"no-occlusion\",\"no-occlusion\",\"no-occlusion\",\"no-occlusion\",\"no-occlusion\",\"no-occlusion\",\"no-occlusion\",\"no-occlusion\",\"no-occlusion\",\"no-occlusion\",\"no-occlusion\",\"no-occlusion\"],\"y\":[0.9150407204261193,0.9463546436414403,0.9699705560668177,0.9244188664954303,0.646627918466345,0.12631578743457794,0.9332936418657543,0.8718523127692086,0.7931511888748559,0.5432928771442836,0.7888507154252794,0.9352311134338379,0.9206271782420039,0.8814027706782024,0.7508282059370869,0.988155436868151],\"type\":\"box\",\"xaxis\":\"x2\",\"yaxis\":\"y2\"},{\"boxmean\":true,\"boxpoints\":\"all\",\"legendgroup\":\"baseline\",\"marker\":{\"color\":\"#508587\"},\"name\":\"Baseline\",\"offsetgroup\":\"baseline\",\"showlegend\":false,\"text\":[\"stomach\",\"small_bowel\",\"colon\",\"liver\",\"gallbladder\",\"pancreas\",\"kidney\",\"spleen\",\"bladder\",\"omentum\",\"fat_subcutaneous\",\"lung\",\"heart\",\"skin\",\"muscle\",\"peritoneum\",\"major_vein\",\"kidney_with_Gerotas_fascia\",\"background\"],\"x\":[\"occlusion\",\"occlusion\",\"occlusion\",\"occlusion\",\"occlusion\",\"occlusion\",\"occlusion\",\"occlusion\",\"occlusion\",\"occlusion\",\"occlusion\",\"occlusion\",\"occlusion\",\"occlusion\",\"occlusion\",\"occlusion\",\"occlusion\",\"occlusion\",\"occlusion\"],\"y\":[0.35957533234641664,0.8986591877121675,0.8579814045452604,0.801390771512632,0.5342284692747016,0.5179322231383551,0.8901485436492496,0.5278921027978262,0.8796965903832773,0.28315333411807103,0.6918654482042979,0.9483504295349121,0.8917897088187081,0.5701808639698558,0.8924469947814941,0.5836514060313885,0.4518591225147247,0.8206532895565033,0.9480588297049204],\"type\":\"box\",\"xaxis\":\"x2\",\"yaxis\":\"y2\"},{\"boxmean\":true,\"boxpoints\":\"all\",\"legendgroup\":\"organ_transplantation\",\"marker\":{\"color\":\"#A39F5D\"},\"name\":\"Organ Transplantation\",\"offsetgroup\":\"organ_transplantation\",\"showlegend\":false,\"text\":[\"stomach\",\"small_bowel\",\"colon\",\"liver\",\"gallbladder\",\"pancreas\",\"kidney\",\"spleen\",\"bladder\",\"omentum\",\"fat_subcutaneous\",\"lung\",\"heart\",\"skin\",\"muscle\",\"peritoneum\",\"major_vein\",\"kidney_with_Gerotas_fascia\",\"background\"],\"x\":[\"occlusion\",\"occlusion\",\"occlusion\",\"occlusion\",\"occlusion\",\"occlusion\",\"occlusion\",\"occlusion\",\"occlusion\",\"occlusion\",\"occlusion\",\"occlusion\",\"occlusion\",\"occlusion\",\"occlusion\",\"occlusion\",\"occlusion\",\"occlusion\",\"occlusion\"],\"y\":[0.4433185751475985,0.9219763666739937,0.8832301731203117,0.8453432769371719,0.6088221549751266,0.594933247187781,0.9088145792484283,0.6300591627756754,0.9047093996971226,0.40901276015100024,0.7535274402489738,0.957451616014753,0.9141826629638672,0.5818667999572225,0.9222164154052734,0.5544820960006144,0.8465569376945495,0.884892362356186,0.949018555217319],\"type\":\"box\",\"xaxis\":\"x2\",\"yaxis\":\"y2\"}],                        {\"template\":{\"data\":{\"barpolar\":[{\"marker\":{\"line\":{\"color\":\"white\",\"width\":0.5},\"pattern\":{\"fillmode\":\"overlay\",\"size\":10,\"solidity\":0.2}},\"type\":\"barpolar\"}],\"bar\":[{\"error_x\":{\"color\":\"#2a3f5f\"},\"error_y\":{\"color\":\"#2a3f5f\"},\"marker\":{\"line\":{\"color\":\"white\",\"width\":0.5},\"pattern\":{\"fillmode\":\"overlay\",\"size\":10,\"solidity\":0.2}},\"type\":\"bar\"}],\"carpet\":[{\"aaxis\":{\"endlinecolor\":\"#2a3f5f\",\"gridcolor\":\"#C8D4E3\",\"linecolor\":\"#C8D4E3\",\"minorgridcolor\":\"#C8D4E3\",\"startlinecolor\":\"#2a3f5f\"},\"baxis\":{\"endlinecolor\":\"#2a3f5f\",\"gridcolor\":\"#C8D4E3\",\"linecolor\":\"#C8D4E3\",\"minorgridcolor\":\"#C8D4E3\",\"startlinecolor\":\"#2a3f5f\"},\"type\":\"carpet\"}],\"choropleth\":[{\"colorbar\":{\"outlinewidth\":0,\"ticks\":\"\"},\"type\":\"choropleth\"}],\"contourcarpet\":[{\"colorbar\":{\"outlinewidth\":0,\"ticks\":\"\"},\"type\":\"contourcarpet\"}],\"contour\":[{\"colorbar\":{\"outlinewidth\":0,\"ticks\":\"\"},\"colorscale\":[[0.0,\"#0d0887\"],[0.1111111111111111,\"#46039f\"],[0.2222222222222222,\"#7201a8\"],[0.3333333333333333,\"#9c179e\"],[0.4444444444444444,\"#bd3786\"],[0.5555555555555556,\"#d8576b\"],[0.6666666666666666,\"#ed7953\"],[0.7777777777777778,\"#fb9f3a\"],[0.8888888888888888,\"#fdca26\"],[1.0,\"#f0f921\"]],\"type\":\"contour\"}],\"heatmapgl\":[{\"colorbar\":{\"outlinewidth\":0,\"ticks\":\"\"},\"colorscale\":[[0.0,\"#0d0887\"],[0.1111111111111111,\"#46039f\"],[0.2222222222222222,\"#7201a8\"],[0.3333333333333333,\"#9c179e\"],[0.4444444444444444,\"#bd3786\"],[0.5555555555555556,\"#d8576b\"],[0.6666666666666666,\"#ed7953\"],[0.7777777777777778,\"#fb9f3a\"],[0.8888888888888888,\"#fdca26\"],[1.0,\"#f0f921\"]],\"type\":\"heatmapgl\"}],\"heatmap\":[{\"colorbar\":{\"outlinewidth\":0,\"ticks\":\"\"},\"colorscale\":[[0.0,\"#0d0887\"],[0.1111111111111111,\"#46039f\"],[0.2222222222222222,\"#7201a8\"],[0.3333333333333333,\"#9c179e\"],[0.4444444444444444,\"#bd3786\"],[0.5555555555555556,\"#d8576b\"],[0.6666666666666666,\"#ed7953\"],[0.7777777777777778,\"#fb9f3a\"],[0.8888888888888888,\"#fdca26\"],[1.0,\"#f0f921\"]],\"type\":\"heatmap\"}],\"histogram2dcontour\":[{\"colorbar\":{\"outlinewidth\":0,\"ticks\":\"\"},\"colorscale\":[[0.0,\"#0d0887\"],[0.1111111111111111,\"#46039f\"],[0.2222222222222222,\"#7201a8\"],[0.3333333333333333,\"#9c179e\"],[0.4444444444444444,\"#bd3786\"],[0.5555555555555556,\"#d8576b\"],[0.6666666666666666,\"#ed7953\"],[0.7777777777777778,\"#fb9f3a\"],[0.8888888888888888,\"#fdca26\"],[1.0,\"#f0f921\"]],\"type\":\"histogram2dcontour\"}],\"histogram2d\":[{\"colorbar\":{\"outlinewidth\":0,\"ticks\":\"\"},\"colorscale\":[[0.0,\"#0d0887\"],[0.1111111111111111,\"#46039f\"],[0.2222222222222222,\"#7201a8\"],[0.3333333333333333,\"#9c179e\"],[0.4444444444444444,\"#bd3786\"],[0.5555555555555556,\"#d8576b\"],[0.6666666666666666,\"#ed7953\"],[0.7777777777777778,\"#fb9f3a\"],[0.8888888888888888,\"#fdca26\"],[1.0,\"#f0f921\"]],\"type\":\"histogram2d\"}],\"histogram\":[{\"marker\":{\"pattern\":{\"fillmode\":\"overlay\",\"size\":10,\"solidity\":0.2}},\"type\":\"histogram\"}],\"mesh3d\":[{\"colorbar\":{\"outlinewidth\":0,\"ticks\":\"\"},\"type\":\"mesh3d\"}],\"parcoords\":[{\"line\":{\"colorbar\":{\"outlinewidth\":0,\"ticks\":\"\"}},\"type\":\"parcoords\"}],\"pie\":[{\"automargin\":true,\"type\":\"pie\"}],\"scatter3d\":[{\"line\":{\"colorbar\":{\"outlinewidth\":0,\"ticks\":\"\"}},\"marker\":{\"colorbar\":{\"outlinewidth\":0,\"ticks\":\"\"}},\"type\":\"scatter3d\"}],\"scattercarpet\":[{\"marker\":{\"colorbar\":{\"outlinewidth\":0,\"ticks\":\"\"}},\"type\":\"scattercarpet\"}],\"scattergeo\":[{\"marker\":{\"colorbar\":{\"outlinewidth\":0,\"ticks\":\"\"}},\"type\":\"scattergeo\"}],\"scattergl\":[{\"marker\":{\"colorbar\":{\"outlinewidth\":0,\"ticks\":\"\"}},\"type\":\"scattergl\"}],\"scattermapbox\":[{\"marker\":{\"colorbar\":{\"outlinewidth\":0,\"ticks\":\"\"}},\"type\":\"scattermapbox\"}],\"scatterpolargl\":[{\"marker\":{\"colorbar\":{\"outlinewidth\":0,\"ticks\":\"\"}},\"type\":\"scatterpolargl\"}],\"scatterpolar\":[{\"marker\":{\"colorbar\":{\"outlinewidth\":0,\"ticks\":\"\"}},\"type\":\"scatterpolar\"}],\"scatter\":[{\"fillpattern\":{\"fillmode\":\"overlay\",\"size\":10,\"solidity\":0.2},\"type\":\"scatter\"}],\"scatterternary\":[{\"marker\":{\"colorbar\":{\"outlinewidth\":0,\"ticks\":\"\"}},\"type\":\"scatterternary\"}],\"surface\":[{\"colorbar\":{\"outlinewidth\":0,\"ticks\":\"\"},\"colorscale\":[[0.0,\"#0d0887\"],[0.1111111111111111,\"#46039f\"],[0.2222222222222222,\"#7201a8\"],[0.3333333333333333,\"#9c179e\"],[0.4444444444444444,\"#bd3786\"],[0.5555555555555556,\"#d8576b\"],[0.6666666666666666,\"#ed7953\"],[0.7777777777777778,\"#fb9f3a\"],[0.8888888888888888,\"#fdca26\"],[1.0,\"#f0f921\"]],\"type\":\"surface\"}],\"table\":[{\"cells\":{\"fill\":{\"color\":\"#EBF0F8\"},\"line\":{\"color\":\"white\"}},\"header\":{\"fill\":{\"color\":\"#C8D4E3\"},\"line\":{\"color\":\"white\"}},\"type\":\"table\"}]},\"layout\":{\"annotationdefaults\":{\"arrowcolor\":\"#2a3f5f\",\"arrowhead\":0,\"arrowwidth\":1},\"autotypenumbers\":\"strict\",\"coloraxis\":{\"colorbar\":{\"outlinewidth\":0,\"ticks\":\"\"}},\"colorscale\":{\"diverging\":[[0,\"#8e0152\"],[0.1,\"#c51b7d\"],[0.2,\"#de77ae\"],[0.3,\"#f1b6da\"],[0.4,\"#fde0ef\"],[0.5,\"#f7f7f7\"],[0.6,\"#e6f5d0\"],[0.7,\"#b8e186\"],[0.8,\"#7fbc41\"],[0.9,\"#4d9221\"],[1,\"#276419\"]],\"sequential\":[[0.0,\"#0d0887\"],[0.1111111111111111,\"#46039f\"],[0.2222222222222222,\"#7201a8\"],[0.3333333333333333,\"#9c179e\"],[0.4444444444444444,\"#bd3786\"],[0.5555555555555556,\"#d8576b\"],[0.6666666666666666,\"#ed7953\"],[0.7777777777777778,\"#fb9f3a\"],[0.8888888888888888,\"#fdca26\"],[1.0,\"#f0f921\"]],\"sequentialminus\":[[0.0,\"#0d0887\"],[0.1111111111111111,\"#46039f\"],[0.2222222222222222,\"#7201a8\"],[0.3333333333333333,\"#9c179e\"],[0.4444444444444444,\"#bd3786\"],[0.5555555555555556,\"#d8576b\"],[0.6666666666666666,\"#ed7953\"],[0.7777777777777778,\"#fb9f3a\"],[0.8888888888888888,\"#fdca26\"],[1.0,\"#f0f921\"]]},\"colorway\":[\"#636efa\",\"#EF553B\",\"#00cc96\",\"#ab63fa\",\"#FFA15A\",\"#19d3f3\",\"#FF6692\",\"#B6E880\",\"#FF97FF\",\"#FECB52\"],\"font\":{\"color\":\"#2a3f5f\"},\"geo\":{\"bgcolor\":\"white\",\"lakecolor\":\"white\",\"landcolor\":\"white\",\"showlakes\":true,\"showland\":true,\"subunitcolor\":\"#C8D4E3\"},\"hoverlabel\":{\"align\":\"left\"},\"hovermode\":\"closest\",\"mapbox\":{\"style\":\"light\"},\"paper_bgcolor\":\"white\",\"plot_bgcolor\":\"white\",\"polar\":{\"angularaxis\":{\"gridcolor\":\"#EBF0F8\",\"linecolor\":\"#EBF0F8\",\"ticks\":\"\"},\"bgcolor\":\"white\",\"radialaxis\":{\"gridcolor\":\"#EBF0F8\",\"linecolor\":\"#EBF0F8\",\"ticks\":\"\"}},\"scene\":{\"xaxis\":{\"backgroundcolor\":\"white\",\"gridcolor\":\"#DFE8F3\",\"gridwidth\":2,\"linecolor\":\"#EBF0F8\",\"showbackground\":true,\"ticks\":\"\",\"zerolinecolor\":\"#EBF0F8\"},\"yaxis\":{\"backgroundcolor\":\"white\",\"gridcolor\":\"#DFE8F3\",\"gridwidth\":2,\"linecolor\":\"#EBF0F8\",\"showbackground\":true,\"ticks\":\"\",\"zerolinecolor\":\"#EBF0F8\"},\"zaxis\":{\"backgroundcolor\":\"white\",\"gridcolor\":\"#DFE8F3\",\"gridwidth\":2,\"linecolor\":\"#EBF0F8\",\"showbackground\":true,\"ticks\":\"\",\"zerolinecolor\":\"#EBF0F8\"}},\"shapedefaults\":{\"line\":{\"color\":\"#2a3f5f\"}},\"ternary\":{\"aaxis\":{\"gridcolor\":\"#DFE8F3\",\"linecolor\":\"#A2B1C6\",\"ticks\":\"\"},\"baxis\":{\"gridcolor\":\"#DFE8F3\",\"linecolor\":\"#A2B1C6\",\"ticks\":\"\"},\"bgcolor\":\"white\",\"caxis\":{\"gridcolor\":\"#DFE8F3\",\"linecolor\":\"#A2B1C6\",\"ticks\":\"\"}},\"title\":{\"x\":0.05},\"xaxis\":{\"automargin\":true,\"gridcolor\":\"#EBF0F8\",\"linecolor\":\"#EBF0F8\",\"ticks\":\"\",\"title\":{\"standoff\":15},\"zerolinecolor\":\"#EBF0F8\",\"zerolinewidth\":2},\"yaxis\":{\"automargin\":true,\"gridcolor\":\"#EBF0F8\",\"linecolor\":\"#EBF0F8\",\"ticks\":\"\",\"title\":{\"standoff\":15},\"zerolinecolor\":\"#EBF0F8\",\"zerolinewidth\":2}}},\"xaxis\":{\"anchor\":\"y\",\"domain\":[0.0,1.0],\"matches\":\"x2\",\"showticklabels\":false,\"tickfont\":{\"size\":16},\"autorangeoptions\":{\"minallowed\":-0.52,\"maxallowed\":7.4},\"range\":[-0.52,7.4]},\"yaxis\":{\"anchor\":\"x\",\"domain\":[0.5349999999999999,0.9999999999999999],\"title\":{\"text\":\"DSC\"},\"tickfont\":{\"size\":16},\"range\":[-0.05,1.05]},\"xaxis2\":{\"anchor\":\"y2\",\"domain\":[0.0,1.0],\"tickfont\":{\"size\":16}},\"yaxis2\":{\"anchor\":\"x2\",\"domain\":[0.0,0.46499999999999997],\"title\":{\"text\":\"DSC\"},\"tickfont\":{\"size\":16}},\"annotations\":[{\"font\":{\"size\":20},\"showarrow\":false,\"text\":\"\\u003cb\\u003eHSI\\u003c\\u002fb\\u003e\",\"x\":0,\"xanchor\":\"left\",\"xref\":\"paper\",\"y\":0.9999999999999999,\"yanchor\":\"bottom\",\"yref\":\"paper\"},{\"font\":{\"size\":20},\"showarrow\":false,\"text\":\"\\u003cb\\u003eRGB\\u003c\\u002fb\\u003e\",\"x\":0,\"xanchor\":\"left\",\"xref\":\"paper\",\"y\":0.46499999999999997,\"yanchor\":\"bottom\",\"yref\":\"paper\"}],\"boxmode\":\"group\",\"boxgap\":0.2,\"boxgroupgap\":0.4,\"legend\":{\"orientation\":\"h\",\"yanchor\":\"bottom\",\"y\":1.01,\"xanchor\":\"center\",\"x\":0.5},\"font\":{\"family\":\"Libertinus Serif\",\"size\":20},\"margin\":{\"l\":0,\"r\":0,\"b\":0,\"t\":0},\"height\":510,\"width\":1000},                        {\"responsive\": true}                    ).then(function(){\n",
       "                            \n",
       "var gd = document.getElementById('cd072cd8-be6f-4f62-ac4c-09c28206e7e3');\n",
       "var x = new MutationObserver(function (mutations, observer) {{\n",
       "        var display = window.getComputedStyle(gd).display;\n",
       "        if (!display || display === 'none') {{\n",
       "            console.log([gd, 'removed!']);\n",
       "            Plotly.purge(gd);\n",
       "            observer.disconnect();\n",
       "        }}\n",
       "}});\n",
       "\n",
       "// Listen for the removal of the full notebook cells\n",
       "var notebookContainer = gd.closest('#notebook-container');\n",
       "if (notebookContainer) {{\n",
       "    x.observe(notebookContainer, {childList: true});\n",
       "}}\n",
       "\n",
       "// Listen for the clearing of the current output cell\n",
       "var outputEl = gd.closest('.output');\n",
       "if (outputEl) {{\n",
       "    x.observe(outputEl, {childList: true});\n",
       "}}\n",
       "\n",
       "                        })                };                });            </script>        </div>"
      ]
     },
     "metadata": {},
     "output_type": "display_data"
    }
   ],
   "source": [
    "def dataset_comparison(metric_name: str) -> go.Figure:\n",
    "    fig = make_subplots(\n",
    "        rows=2,\n",
    "        cols=1,\n",
    "        subplot_titles=[\"<b>HSI</b>\", \"<b>RGB</b>\"],\n",
    "        shared_xaxes=True,\n",
    "        vertical_spacing=0.07,\n",
    "    )\n",
    "\n",
    "    network_renaming = {\n",
    "        \"baseline\": \"Baseline\",\n",
    "        \"organ_transplantation\": \"Organ Transplantation\",\n",
    "    }\n",
    "\n",
    "    def add_modality(modality: str, row: int, col: int) -> go.Figure:\n",
    "        df_m = df.query(\"modality == @modality\")\n",
    "        for dataset, dataset_name in settings_context.task_name_mapping.items():\n",
    "            for network in df_m[\"network\"].unique():\n",
    "                df_box = df_m.query(\"dataset == @dataset and network == @network\")\n",
    "                fig.add_trace(\n",
    "                    go.Box(\n",
    "                        y=df_box[metric_name],\n",
    "                        x=[dataset_name] * len(df_box[metric_name]),\n",
    "                        offsetgroup=network,\n",
    "                        text=df_box[\"label_name\"],\n",
    "                        boxpoints=\"all\",\n",
    "                        boxmean=True,\n",
    "                        name=network_renaming.get(network, network),\n",
    "                        marker_color=settings_context.network_colors[network],\n",
    "                        legendgroup=network,\n",
    "                        showlegend=row == 1 and col == 1 and dataset == \"semantic\",\n",
    "                    ),\n",
    "                    row=row,\n",
    "                    col=col,\n",
    "                )\n",
    "\n",
    "        return fig\n",
    "\n",
    "    add_modality(\"HSI\", row=1, col=1)\n",
    "    add_modality(\"RGB\", row=2, col=1)\n",
    "\n",
    "    # Font size for subplot titles\n",
    "    for i in fig[\"layout\"][\"annotations\"]:\n",
    "        i[\"font\"] = dict(size=20)\n",
    "\n",
    "    fig.update_annotations(xanchor=\"left\", x=0)\n",
    "    fig.update_yaxes(title_standoff=12)\n",
    "    fig.update_yaxes(tickfont=dict(size=16))\n",
    "    fig.update_xaxes(tickfont=dict(size=16))\n",
    "    xmin = -0.52\n",
    "    xmax = len(settings_context.task_name_mapping) - 0.6\n",
    "    fig.update_layout(\n",
    "        yaxis_range=[-0.05, 1.05],\n",
    "        xaxis_range=[xmin, xmax],\n",
    "        xaxis_autorangeoptions_minallowed=xmin,\n",
    "        xaxis_autorangeoptions_maxallowed=xmax,\n",
    "    )\n",
    "    fig.update_layout(boxmode=\"group\", boxgap=0.2, boxgroupgap=0.4)\n",
    "    fig.update_layout(legend=dict(orientation=\"h\", yanchor=\"bottom\", y=1.01, xanchor=\"center\", x=0.5))\n",
    "    fig.update_layout(\n",
    "        template=\"plotly_white\",\n",
    "        height=510,\n",
    "        width=1000,\n",
    "        font_family=\"Libertinus Serif\",\n",
    "        font_size=20,\n",
    "        margin=dict(l=0, r=0, b=0, t=0),\n",
    "    )\n",
    "\n",
    "    return fig\n",
    "\n",
    "\n",
    "fig = dataset_comparison(\"dice_metric\")\n",
    "fig.update_yaxes(title=\"DSC\")\n",
    "fig.write_image(settings_context.paper_dir / \"task_performance_DSC.pdf\")\n",
    "fig"
   ]
  },
  {
   "cell_type": "code",
   "execution_count": 4,
   "id": "20e1ef0f-f5ff-43fe-b6d5-a62908371717",
   "metadata": {},
   "outputs": [
    {
     "data": {
      "application/vnd.plotly.v1+json": {
       "config": {
        "plotlyServerURL": "https://plot.ly"
       },
       "data": [
        {
         "boxmean": true,
         "boxpoints": "all",
         "legendgroup": "baseline",
         "marker": {
          "color": "#508587"
         },
         "name": "Baseline",
         "offsetgroup": "baseline",
         "showlegend": true,
         "text": [
          "stomach",
          "small_bowel",
          "colon",
          "liver",
          "gallbladder",
          "pancreas",
          "kidney",
          "spleen",
          "bladder",
          "omentum",
          "fat_subcutaneous",
          "lung",
          "heart",
          "skin",
          "muscle",
          "peritoneum",
          "major_vein",
          "kidney_with_Gerotas_fascia",
          "background"
         ],
         "type": "box",
         "x": [
          "original",
          "original",
          "original",
          "original",
          "original",
          "original",
          "original",
          "original",
          "original",
          "original",
          "original",
          "original",
          "original",
          "original",
          "original",
          "original",
          "original",
          "original",
          "original"
         ],
         "xaxis": "x",
         "y": [
          0.7901706198110576,
          0.7915355384255921,
          0.9241611601801809,
          0.6459282662933844,
          0.49435010777755795,
          0.917054711596692,
          0.5978680723824262,
          0.7034044675688863,
          0.6184213607374536,
          0.7746797864589444,
          0.6999965376666828,
          0.7505131499845872,
          0.8728551620592241,
          0.8382372435503117,
          0.5057332957449897,
          0.8680679262103425,
          0.8704387395704867,
          0.31164426334693374,
          0.9362453770016985
         ],
         "yaxis": "y"
        },
        {
         "boxmean": true,
         "boxpoints": "all",
         "legendgroup": "organ_transplantation",
         "marker": {
          "color": "#A39F5D"
         },
         "name": "Organ Transplantation",
         "offsetgroup": "organ_transplantation",
         "showlegend": true,
         "text": [
          "stomach",
          "small_bowel",
          "colon",
          "liver",
          "gallbladder",
          "pancreas",
          "kidney",
          "spleen",
          "bladder",
          "omentum",
          "fat_subcutaneous",
          "lung",
          "heart",
          "skin",
          "muscle",
          "peritoneum",
          "major_vein",
          "kidney_with_Gerotas_fascia",
          "background"
         ],
         "type": "box",
         "x": [
          "original",
          "original",
          "original",
          "original",
          "original",
          "original",
          "original",
          "original",
          "original",
          "original",
          "original",
          "original",
          "original",
          "original",
          "original",
          "original",
          "original",
          "original",
          "original"
         ],
         "xaxis": "x",
         "y": [
          0.8058508732500826,
          0.7824990970064578,
          0.927014256620132,
          0.6492548498979482,
          0.489446342914025,
          0.9281989893397488,
          0.6251823250954609,
          0.6878020526030928,
          0.5887739473580607,
          0.7712109292446163,
          0.7818072308034596,
          0.7526013952056135,
          0.8584924406344561,
          0.8710257016204874,
          0.5714648735604635,
          0.8584761343184588,
          0.9402443898364805,
          0.5878002912973903,
          0.925211372849087
         ],
         "yaxis": "y"
        },
        {
         "boxmean": true,
         "boxpoints": "all",
         "legendgroup": "baseline",
         "marker": {
          "color": "#508587"
         },
         "name": "Baseline",
         "offsetgroup": "baseline",
         "showlegend": false,
         "text": [
          "stomach",
          "small_bowel",
          "colon",
          "liver",
          "gallbladder",
          "pancreas",
          "kidney",
          "spleen",
          "bladder",
          "omentum",
          "fat_subcutaneous",
          "lung",
          "heart",
          "skin",
          "muscle",
          "peritoneum",
          "major_vein",
          "kidney_with_Gerotas_fascia",
          "background"
         ],
         "type": "box",
         "x": [
          "isolation_zero",
          "isolation_zero",
          "isolation_zero",
          "isolation_zero",
          "isolation_zero",
          "isolation_zero",
          "isolation_zero",
          "isolation_zero",
          "isolation_zero",
          "isolation_zero",
          "isolation_zero",
          "isolation_zero",
          "isolation_zero",
          "isolation_zero",
          "isolation_zero",
          "isolation_zero",
          "isolation_zero",
          "isolation_zero",
          "isolation_zero"
         ],
         "xaxis": "x",
         "y": [
          0.5325038686130612,
          0.9785623973296366,
          0.7782921615373845,
          0.8873125517987862,
          0.003812715684226785,
          0.5776924272848657,
          0.4687290218216794,
          0.7724106483547175,
          0.6603783332380241,
          0.30721960549580735,
          0.9158581725988393,
          0.7444842785367821,
          0.7362415016213054,
          0.9336650857216401,
          0.5930535855974148,
          0.37948357485705453,
          0.04846618395641322,
          0.04663693508899384,
          0.987245055419319
         ],
         "yaxis": "y"
        },
        {
         "boxmean": true,
         "boxpoints": "all",
         "legendgroup": "organ_transplantation",
         "marker": {
          "color": "#A39F5D"
         },
         "name": "Organ Transplantation",
         "offsetgroup": "organ_transplantation",
         "showlegend": false,
         "text": [
          "stomach",
          "small_bowel",
          "colon",
          "liver",
          "gallbladder",
          "pancreas",
          "kidney",
          "spleen",
          "bladder",
          "omentum",
          "fat_subcutaneous",
          "lung",
          "heart",
          "skin",
          "muscle",
          "peritoneum",
          "major_vein",
          "kidney_with_Gerotas_fascia",
          "background"
         ],
         "type": "box",
         "x": [
          "isolation_zero",
          "isolation_zero",
          "isolation_zero",
          "isolation_zero",
          "isolation_zero",
          "isolation_zero",
          "isolation_zero",
          "isolation_zero",
          "isolation_zero",
          "isolation_zero",
          "isolation_zero",
          "isolation_zero",
          "isolation_zero",
          "isolation_zero",
          "isolation_zero",
          "isolation_zero",
          "isolation_zero",
          "isolation_zero",
          "isolation_zero"
         ],
         "xaxis": "x",
         "y": [
          0.9387759670800616,
          0.9538233987242766,
          0.9437871483959146,
          0.9521331092411233,
          0.4716732818431758,
          0.9702721108352366,
          0.9057009011258705,
          0.8744437896611914,
          0.6057960959739964,
          0.8179689696186696,
          0.8651595524972354,
          0.798774480882035,
          0.9853611050305894,
          0.8219573238982426,
          0.6673975199654977,
          0.8211143079452418,
          0.9533076575975676,
          0.41808125889554937,
          0.9929675759555557
         ],
         "yaxis": "y"
        },
        {
         "boxmean": true,
         "boxpoints": "all",
         "legendgroup": "baseline",
         "marker": {
          "color": "#508587"
         },
         "name": "Baseline",
         "offsetgroup": "baseline",
         "showlegend": false,
         "text": [
          "stomach",
          "small_bowel",
          "colon",
          "liver",
          "gallbladder",
          "pancreas",
          "kidney",
          "spleen",
          "bladder",
          "omentum",
          "fat_subcutaneous",
          "lung",
          "heart",
          "skin",
          "muscle",
          "peritoneum",
          "major_vein",
          "kidney_with_Gerotas_fascia",
          "background"
         ],
         "type": "box",
         "x": [
          "isolation_bgr",
          "isolation_bgr",
          "isolation_bgr",
          "isolation_bgr",
          "isolation_bgr",
          "isolation_bgr",
          "isolation_bgr",
          "isolation_bgr",
          "isolation_bgr",
          "isolation_bgr",
          "isolation_bgr",
          "isolation_bgr",
          "isolation_bgr",
          "isolation_bgr",
          "isolation_bgr",
          "isolation_bgr",
          "isolation_bgr",
          "isolation_bgr",
          "isolation_bgr"
         ],
         "xaxis": "x",
         "y": [
          0.09987101264007478,
          0.8961474532565304,
          0.6579678542847196,
          0.6673795945191898,
          0.0867415035938316,
          0.09663171717170142,
          0.017501382725578787,
          0.1675617495722022,
          0.7845835425529234,
          0.005799626216778843,
          0.1874045253695602,
          0.8905291126911564,
          0.9545029522710099,
          0.8793015649266921,
          0.3081303646547599,
          0.6396175301404224,
          0.2641560767714632,
          0,
          0.9877243980699888
         ],
         "yaxis": "y"
        },
        {
         "boxmean": true,
         "boxpoints": "all",
         "legendgroup": "organ_transplantation",
         "marker": {
          "color": "#A39F5D"
         },
         "name": "Organ Transplantation",
         "offsetgroup": "organ_transplantation",
         "showlegend": false,
         "text": [
          "stomach",
          "small_bowel",
          "colon",
          "liver",
          "gallbladder",
          "pancreas",
          "kidney",
          "spleen",
          "bladder",
          "omentum",
          "fat_subcutaneous",
          "lung",
          "heart",
          "skin",
          "muscle",
          "peritoneum",
          "major_vein",
          "kidney_with_Gerotas_fascia",
          "background"
         ],
         "type": "box",
         "x": [
          "isolation_bgr",
          "isolation_bgr",
          "isolation_bgr",
          "isolation_bgr",
          "isolation_bgr",
          "isolation_bgr",
          "isolation_bgr",
          "isolation_bgr",
          "isolation_bgr",
          "isolation_bgr",
          "isolation_bgr",
          "isolation_bgr",
          "isolation_bgr",
          "isolation_bgr",
          "isolation_bgr",
          "isolation_bgr",
          "isolation_bgr",
          "isolation_bgr",
          "isolation_bgr"
         ],
         "xaxis": "x",
         "y": [
          0.9321252649463541,
          0.9448668255752757,
          0.9688980122454518,
          0.8935790918023354,
          0.5313212825050456,
          0.9317705329204383,
          0.8921012576494778,
          0.874072880645969,
          0.8602360112099305,
          0.8603453923089596,
          0.9596483698120858,
          0.7814020811758483,
          0.9860740309659928,
          0.8345918167113032,
          0.7615253787136462,
          0.919313265963547,
          0.9818946697241235,
          0.9293396317362532,
          0.9960371422799017
         ],
         "yaxis": "y"
        },
        {
         "boxmean": true,
         "boxpoints": "all",
         "legendgroup": "baseline",
         "marker": {
          "color": "#508587"
         },
         "name": "Baseline",
         "offsetgroup": "baseline",
         "showlegend": false,
         "text": [
          "stomach",
          "small_bowel",
          "colon",
          "liver",
          "gallbladder",
          "pancreas",
          "kidney",
          "spleen",
          "bladder",
          "omentum",
          "lung",
          "heart",
          "skin",
          "muscle",
          "peritoneum",
          "major_vein",
          "kidney_with_Gerotas_fascia",
          "background"
         ],
         "type": "box",
         "x": [
          "isolation_real",
          "isolation_real",
          "isolation_real",
          "isolation_real",
          "isolation_real",
          "isolation_real",
          "isolation_real",
          "isolation_real",
          "isolation_real",
          "isolation_real",
          "isolation_real",
          "isolation_real",
          "isolation_real",
          "isolation_real",
          "isolation_real",
          "isolation_real",
          "isolation_real",
          "isolation_real"
         ],
         "xaxis": "x",
         "y": [
          0.2541043148178689,
          0.7711820550288071,
          0.9849981031372934,
          0.2777493532679491,
          0.07218082633005568,
          0.08432791141855903,
          0.38904520409551135,
          0.15301543595527045,
          0.4255862908097277,
          0,
          0.9733466265549906,
          0.9557603686635945,
          0.9301262950065275,
          0.09041278295605859,
          0.6009294928150126,
          0.40897561985813813,
          0.21222790914089928,
          0.9653912863728609
         ],
         "yaxis": "y"
        },
        {
         "boxmean": true,
         "boxpoints": "all",
         "legendgroup": "organ_transplantation",
         "marker": {
          "color": "#A39F5D"
         },
         "name": "Organ Transplantation",
         "offsetgroup": "organ_transplantation",
         "showlegend": false,
         "text": [
          "stomach",
          "small_bowel",
          "colon",
          "liver",
          "gallbladder",
          "pancreas",
          "kidney",
          "spleen",
          "bladder",
          "omentum",
          "lung",
          "heart",
          "skin",
          "muscle",
          "peritoneum",
          "major_vein",
          "kidney_with_Gerotas_fascia",
          "background"
         ],
         "type": "box",
         "x": [
          "isolation_real",
          "isolation_real",
          "isolation_real",
          "isolation_real",
          "isolation_real",
          "isolation_real",
          "isolation_real",
          "isolation_real",
          "isolation_real",
          "isolation_real",
          "isolation_real",
          "isolation_real",
          "isolation_real",
          "isolation_real",
          "isolation_real",
          "isolation_real",
          "isolation_real",
          "isolation_real"
         ],
         "xaxis": "x",
         "y": [
          0.7084914886403854,
          0.8973183500128246,
          0.9696969696969697,
          0.5570396153752999,
          0.5448018982226092,
          0.6357568374449493,
          0.8073803773916896,
          0.766724928394146,
          0.7888200277753065,
          0.9045698739265822,
          0.9851556673866212,
          0.9919337282890952,
          0.9911126026145594,
          0.09751892523477025,
          0.821343088109109,
          1,
          0.5173323448563735,
          0.9764053973439745
         ],
         "yaxis": "y"
        },
        {
         "boxmean": true,
         "boxpoints": "all",
         "legendgroup": "baseline",
         "marker": {
          "color": "#508587"
         },
         "name": "Baseline",
         "offsetgroup": "baseline",
         "showlegend": false,
         "text": [
          "stomach",
          "small_bowel",
          "colon",
          "liver",
          "gallbladder",
          "pancreas",
          "kidney",
          "spleen",
          "bladder",
          "omentum",
          "fat_subcutaneous",
          "lung",
          "heart",
          "skin",
          "muscle",
          "peritoneum",
          "major_vein",
          "kidney_with_Gerotas_fascia",
          "background"
         ],
         "type": "box",
         "x": [
          "removal_zero",
          "removal_zero",
          "removal_zero",
          "removal_zero",
          "removal_zero",
          "removal_zero",
          "removal_zero",
          "removal_zero",
          "removal_zero",
          "removal_zero",
          "removal_zero",
          "removal_zero",
          "removal_zero",
          "removal_zero",
          "removal_zero",
          "removal_zero",
          "removal_zero",
          "removal_zero",
          "removal_zero"
         ],
         "xaxis": "x",
         "y": [
          0.5055953446109606,
          0.6641556050043238,
          0.7856675865861484,
          0.5656780626342168,
          0.027937378463820984,
          0.7890344812347386,
          0.4580526649649743,
          0.637170075639374,
          0.30292361969080916,
          0.5870942644978324,
          0.5781762386441456,
          0.6312762884333178,
          0.781274961582822,
          0.7746996910813447,
          0.5159142295138297,
          0.5712469102573046,
          0.564565922405435,
          0.0898325869678778,
          0.8786133260367557
         ],
         "yaxis": "y"
        },
        {
         "boxmean": true,
         "boxpoints": "all",
         "legendgroup": "organ_transplantation",
         "marker": {
          "color": "#A39F5D"
         },
         "name": "Organ Transplantation",
         "offsetgroup": "organ_transplantation",
         "showlegend": false,
         "text": [
          "stomach",
          "small_bowel",
          "colon",
          "liver",
          "gallbladder",
          "pancreas",
          "kidney",
          "spleen",
          "bladder",
          "omentum",
          "fat_subcutaneous",
          "lung",
          "heart",
          "skin",
          "muscle",
          "peritoneum",
          "major_vein",
          "kidney_with_Gerotas_fascia",
          "background"
         ],
         "type": "box",
         "x": [
          "removal_zero",
          "removal_zero",
          "removal_zero",
          "removal_zero",
          "removal_zero",
          "removal_zero",
          "removal_zero",
          "removal_zero",
          "removal_zero",
          "removal_zero",
          "removal_zero",
          "removal_zero",
          "removal_zero",
          "removal_zero",
          "removal_zero",
          "removal_zero",
          "removal_zero",
          "removal_zero",
          "removal_zero"
         ],
         "xaxis": "x",
         "y": [
          0.7505484122659905,
          0.7647688548827298,
          0.8985740883050071,
          0.6344929655255955,
          0.3187986470372595,
          0.9033149693072108,
          0.6071908787887308,
          0.6591946701498581,
          0.4894731290742137,
          0.7112597531031655,
          0.6282665801363113,
          0.718569126369282,
          0.8495918659947664,
          0.7925597242465137,
          0.556224557786058,
          0.7235020205227527,
          0.8979463160889357,
          0.5434866051797796,
          0.8884772863319566
         ],
         "yaxis": "y"
        },
        {
         "boxmean": true,
         "boxpoints": "all",
         "legendgroup": "baseline",
         "marker": {
          "color": "#508587"
         },
         "name": "Baseline",
         "offsetgroup": "baseline",
         "showlegend": false,
         "text": [
          "stomach",
          "small_bowel",
          "colon",
          "liver",
          "gallbladder",
          "pancreas",
          "kidney",
          "spleen",
          "bladder",
          "omentum",
          "fat_subcutaneous",
          "lung",
          "heart",
          "skin",
          "muscle",
          "peritoneum",
          "major_vein",
          "kidney_with_Gerotas_fascia",
          "background"
         ],
         "type": "box",
         "x": [
          "removal_bgr",
          "removal_bgr",
          "removal_bgr",
          "removal_bgr",
          "removal_bgr",
          "removal_bgr",
          "removal_bgr",
          "removal_bgr",
          "removal_bgr",
          "removal_bgr",
          "removal_bgr",
          "removal_bgr",
          "removal_bgr",
          "removal_bgr",
          "removal_bgr",
          "removal_bgr",
          "removal_bgr",
          "removal_bgr",
          "removal_bgr"
         ],
         "xaxis": "x",
         "y": [
          0.6033396588318055,
          0.7194830298834598,
          0.800668528034661,
          0.5831001401817952,
          0.18128514660269074,
          0.805484502117654,
          0.4941815027246458,
          0.6174609014995078,
          0.430038947965513,
          0.6472646243443382,
          0.5556790011465957,
          0.6590504746883031,
          0.8005014886219423,
          0.7750564623251162,
          0.3915216820977813,
          0.6214912475696357,
          0.7580237060947161,
          0.13504254454594225,
          0.9068066789192605
         ],
         "yaxis": "y"
        },
        {
         "boxmean": true,
         "boxpoints": "all",
         "legendgroup": "organ_transplantation",
         "marker": {
          "color": "#A39F5D"
         },
         "name": "Organ Transplantation",
         "offsetgroup": "organ_transplantation",
         "showlegend": false,
         "text": [
          "stomach",
          "small_bowel",
          "colon",
          "liver",
          "gallbladder",
          "pancreas",
          "kidney",
          "spleen",
          "bladder",
          "omentum",
          "fat_subcutaneous",
          "lung",
          "heart",
          "skin",
          "muscle",
          "peritoneum",
          "major_vein",
          "kidney_with_Gerotas_fascia",
          "background"
         ],
         "type": "box",
         "x": [
          "removal_bgr",
          "removal_bgr",
          "removal_bgr",
          "removal_bgr",
          "removal_bgr",
          "removal_bgr",
          "removal_bgr",
          "removal_bgr",
          "removal_bgr",
          "removal_bgr",
          "removal_bgr",
          "removal_bgr",
          "removal_bgr",
          "removal_bgr",
          "removal_bgr",
          "removal_bgr",
          "removal_bgr",
          "removal_bgr",
          "removal_bgr"
         ],
         "xaxis": "x",
         "y": [
          0.7540174999781972,
          0.7761217082410197,
          0.9102118127450959,
          0.6322689333366407,
          0.34094291187558756,
          0.9026907643817346,
          0.601161584161862,
          0.6689953052486957,
          0.5512557437356753,
          0.7292823658862424,
          0.6407642478575051,
          0.7296886249954623,
          0.8530193247125615,
          0.8512801873450694,
          0.5752868089862588,
          0.7388767485210095,
          0.9222692522678531,
          0.5719915631717691,
          0.893856391807164
         ],
         "yaxis": "y"
        },
        {
         "boxmean": true,
         "boxpoints": "all",
         "legendgroup": "baseline",
         "marker": {
          "color": "#508587"
         },
         "name": "Baseline",
         "offsetgroup": "baseline",
         "showlegend": false,
         "text": [
          "stomach",
          "small_bowel",
          "colon",
          "liver",
          "gallbladder",
          "kidney",
          "spleen",
          "bladder",
          "omentum",
          "fat_subcutaneous",
          "lung",
          "heart",
          "skin",
          "muscle",
          "peritoneum",
          "background"
         ],
         "type": "box",
         "x": [
          "no-occlusion",
          "no-occlusion",
          "no-occlusion",
          "no-occlusion",
          "no-occlusion",
          "no-occlusion",
          "no-occlusion",
          "no-occlusion",
          "no-occlusion",
          "no-occlusion",
          "no-occlusion",
          "no-occlusion",
          "no-occlusion",
          "no-occlusion",
          "no-occlusion",
          "no-occlusion"
         ],
         "xaxis": "x",
         "y": [
          0.7602398964369758,
          0.7580288976144478,
          0.912273071494373,
          0.5465125932198938,
          0.2529764660008487,
          0,
          0.6213263216934961,
          0.6163720088545608,
          0.7469726277888894,
          0.5077875156404154,
          0.684440625950039,
          0.9000158165570852,
          0.9626984179517558,
          0.4397611854066516,
          0.8554566441217247,
          0.9183256876846201
         ],
         "yaxis": "y"
        },
        {
         "boxmean": true,
         "boxpoints": "all",
         "legendgroup": "organ_transplantation",
         "marker": {
          "color": "#A39F5D"
         },
         "name": "Organ Transplantation",
         "offsetgroup": "organ_transplantation",
         "showlegend": false,
         "text": [
          "stomach",
          "small_bowel",
          "colon",
          "liver",
          "gallbladder",
          "kidney",
          "spleen",
          "bladder",
          "omentum",
          "fat_subcutaneous",
          "lung",
          "heart",
          "skin",
          "muscle",
          "peritoneum",
          "background"
         ],
         "type": "box",
         "x": [
          "no-occlusion",
          "no-occlusion",
          "no-occlusion",
          "no-occlusion",
          "no-occlusion",
          "no-occlusion",
          "no-occlusion",
          "no-occlusion",
          "no-occlusion",
          "no-occlusion",
          "no-occlusion",
          "no-occlusion",
          "no-occlusion",
          "no-occlusion",
          "no-occlusion",
          "no-occlusion"
         ],
         "xaxis": "x",
         "y": [
          0.8313052782757353,
          0.7704598896966026,
          0.939918194321748,
          0.6075614226875866,
          0.3322533502788661,
          0.43568464730290457,
          0.6575203687847871,
          0.6027454353613871,
          0.8368787702199061,
          0.5298745701999793,
          0.6931131907188591,
          0.8770715878229338,
          0.9740331814506521,
          0.5556993939148278,
          0.8878343705273436,
          0.9181279922844586
         ],
         "yaxis": "y"
        },
        {
         "boxmean": true,
         "boxpoints": "all",
         "legendgroup": "baseline",
         "marker": {
          "color": "#508587"
         },
         "name": "Baseline",
         "offsetgroup": "baseline",
         "showlegend": false,
         "text": [
          "stomach",
          "small_bowel",
          "colon",
          "liver",
          "gallbladder",
          "pancreas",
          "kidney",
          "spleen",
          "bladder",
          "omentum",
          "fat_subcutaneous",
          "lung",
          "heart",
          "skin",
          "muscle",
          "peritoneum",
          "major_vein",
          "kidney_with_Gerotas_fascia",
          "background"
         ],
         "type": "box",
         "x": [
          "occlusion",
          "occlusion",
          "occlusion",
          "occlusion",
          "occlusion",
          "occlusion",
          "occlusion",
          "occlusion",
          "occlusion",
          "occlusion",
          "occlusion",
          "occlusion",
          "occlusion",
          "occlusion",
          "occlusion",
          "occlusion",
          "occlusion",
          "occlusion",
          "occlusion"
         ],
         "xaxis": "x",
         "y": [
          0.30438926999531984,
          0.6668261028301827,
          0.6645400836499851,
          0.4597156786728111,
          0.38853835266785747,
          0.19821282152156505,
          0.5653253359771063,
          0.5405552135075454,
          0.542075174461991,
          0.6051048011499031,
          0.6642824589906844,
          0.859524181660319,
          0.9484034652473651,
          0.6048378331692437,
          0.46403991478229945,
          0.6111671646123537,
          0.8257696798848146,
          0.4023936895347905,
          0.7763082658720244
         ],
         "yaxis": "y"
        },
        {
         "boxmean": true,
         "boxpoints": "all",
         "legendgroup": "organ_transplantation",
         "marker": {
          "color": "#A39F5D"
         },
         "name": "Organ Transplantation",
         "offsetgroup": "organ_transplantation",
         "showlegend": false,
         "text": [
          "stomach",
          "small_bowel",
          "colon",
          "liver",
          "gallbladder",
          "pancreas",
          "kidney",
          "spleen",
          "bladder",
          "omentum",
          "fat_subcutaneous",
          "lung",
          "heart",
          "skin",
          "muscle",
          "peritoneum",
          "major_vein",
          "kidney_with_Gerotas_fascia",
          "background"
         ],
         "type": "box",
         "x": [
          "occlusion",
          "occlusion",
          "occlusion",
          "occlusion",
          "occlusion",
          "occlusion",
          "occlusion",
          "occlusion",
          "occlusion",
          "occlusion",
          "occlusion",
          "occlusion",
          "occlusion",
          "occlusion",
          "occlusion",
          "occlusion",
          "occlusion",
          "occlusion",
          "occlusion"
         ],
         "xaxis": "x",
         "y": [
          0.5943316090991737,
          0.7194289966133436,
          0.8151450503169523,
          0.5005755419478354,
          0.397449630980976,
          0.6837421339564408,
          0.6400415351578341,
          0.49233204461269775,
          0.5774791921308059,
          0.6593830082154187,
          0.7859759588393643,
          0.8868095937597944,
          0.9534651587252597,
          0.6145360907320448,
          0.6212079517426323,
          0.6853011139159196,
          0.920905200099422,
          0.5609345823585821,
          0.7842730834702007
         ],
         "yaxis": "y"
        },
        {
         "boxmean": true,
         "boxpoints": "all",
         "legendgroup": "baseline",
         "marker": {
          "color": "#508587"
         },
         "name": "Baseline",
         "offsetgroup": "baseline",
         "showlegend": false,
         "text": [
          "stomach",
          "small_bowel",
          "colon",
          "liver",
          "gallbladder",
          "pancreas",
          "kidney",
          "spleen",
          "bladder",
          "omentum",
          "fat_subcutaneous",
          "lung",
          "heart",
          "skin",
          "muscle",
          "peritoneum",
          "major_vein",
          "kidney_with_Gerotas_fascia",
          "background"
         ],
         "type": "box",
         "x": [
          "original",
          "original",
          "original",
          "original",
          "original",
          "original",
          "original",
          "original",
          "original",
          "original",
          "original",
          "original",
          "original",
          "original",
          "original",
          "original",
          "original",
          "original",
          "original"
         ],
         "xaxis": "x2",
         "y": [
          0.7249684984545746,
          0.7946099966564181,
          0.8954275196896928,
          0.6165317988318947,
          0.5174414182515985,
          0.9436926712061534,
          0.5141770340319183,
          0.5671952833395315,
          0.5263707480086531,
          0.7708518317306412,
          0.7139573263805139,
          0.7354685695058971,
          0.8685561982109412,
          0.8635949745299407,
          0.45359162142832216,
          0.8302689940856889,
          0.8772346935009738,
          0.3777334603807851,
          0.9298054021404388
         ],
         "yaxis": "y2"
        },
        {
         "boxmean": true,
         "boxpoints": "all",
         "legendgroup": "organ_transplantation",
         "marker": {
          "color": "#A39F5D"
         },
         "name": "Organ Transplantation",
         "offsetgroup": "organ_transplantation",
         "showlegend": false,
         "text": [
          "stomach",
          "small_bowel",
          "colon",
          "liver",
          "gallbladder",
          "pancreas",
          "kidney",
          "spleen",
          "bladder",
          "omentum",
          "fat_subcutaneous",
          "lung",
          "heart",
          "skin",
          "muscle",
          "peritoneum",
          "major_vein",
          "kidney_with_Gerotas_fascia",
          "background"
         ],
         "type": "box",
         "x": [
          "original",
          "original",
          "original",
          "original",
          "original",
          "original",
          "original",
          "original",
          "original",
          "original",
          "original",
          "original",
          "original",
          "original",
          "original",
          "original",
          "original",
          "original",
          "original"
         ],
         "xaxis": "x2",
         "y": [
          0.7567582950872314,
          0.787679670688282,
          0.9123716766927938,
          0.6427953838443823,
          0.49045185931501245,
          0.9578990509865863,
          0.6276458448736502,
          0.6112764563344559,
          0.579348712765913,
          0.7591782422750155,
          0.723530968160647,
          0.7513970744057371,
          0.8575837030279004,
          0.8816134574464716,
          0.5667101684369116,
          0.8259384888818366,
          0.9640884188846854,
          0.4858924428252097,
          0.9210428406380313
         ],
         "yaxis": "y2"
        },
        {
         "boxmean": true,
         "boxpoints": "all",
         "legendgroup": "baseline",
         "marker": {
          "color": "#508587"
         },
         "name": "Baseline",
         "offsetgroup": "baseline",
         "showlegend": false,
         "text": [
          "stomach",
          "small_bowel",
          "colon",
          "liver",
          "gallbladder",
          "pancreas",
          "kidney",
          "spleen",
          "bladder",
          "omentum",
          "fat_subcutaneous",
          "lung",
          "heart",
          "skin",
          "muscle",
          "peritoneum",
          "major_vein",
          "kidney_with_Gerotas_fascia",
          "background"
         ],
         "type": "box",
         "x": [
          "isolation_zero",
          "isolation_zero",
          "isolation_zero",
          "isolation_zero",
          "isolation_zero",
          "isolation_zero",
          "isolation_zero",
          "isolation_zero",
          "isolation_zero",
          "isolation_zero",
          "isolation_zero",
          "isolation_zero",
          "isolation_zero",
          "isolation_zero",
          "isolation_zero",
          "isolation_zero",
          "isolation_zero",
          "isolation_zero",
          "isolation_zero"
         ],
         "xaxis": "x2",
         "y": [
          0.17987117923167803,
          0.34097205521659435,
          0.5481535218479615,
          0.6349720895028615,
          0.0033950954775414494,
          0.26606872961671363,
          0.07993366738459667,
          0.19053788585189543,
          0.07965763669201101,
          0.12588481429485993,
          0.11879565540014164,
          0.8944861729921524,
          0.9345028513409154,
          0.6350353964644262,
          0.00702496262739143,
          0.5764068659740301,
          0.017266744096012386,
          0.0016159955979118891,
          0.9772178533525299
         ],
         "yaxis": "y2"
        },
        {
         "boxmean": true,
         "boxpoints": "all",
         "legendgroup": "organ_transplantation",
         "marker": {
          "color": "#A39F5D"
         },
         "name": "Organ Transplantation",
         "offsetgroup": "organ_transplantation",
         "showlegend": false,
         "text": [
          "stomach",
          "small_bowel",
          "colon",
          "liver",
          "gallbladder",
          "pancreas",
          "kidney",
          "spleen",
          "bladder",
          "omentum",
          "fat_subcutaneous",
          "lung",
          "heart",
          "skin",
          "muscle",
          "peritoneum",
          "major_vein",
          "kidney_with_Gerotas_fascia",
          "background"
         ],
         "type": "box",
         "x": [
          "isolation_zero",
          "isolation_zero",
          "isolation_zero",
          "isolation_zero",
          "isolation_zero",
          "isolation_zero",
          "isolation_zero",
          "isolation_zero",
          "isolation_zero",
          "isolation_zero",
          "isolation_zero",
          "isolation_zero",
          "isolation_zero",
          "isolation_zero",
          "isolation_zero",
          "isolation_zero",
          "isolation_zero",
          "isolation_zero",
          "isolation_zero"
         ],
         "xaxis": "x2",
         "y": [
          0.7209428883023167,
          0.8250496404046892,
          0.8752257506078779,
          0.7118643137778478,
          0.007779665981593784,
          0.9878332879830841,
          0.7874821424488584,
          0.22440591581489777,
          0.08826439585658916,
          0.9716971210990291,
          0.6493964645023473,
          0.7992205282945043,
          0.9751763980101663,
          0.8131101742802122,
          0.33325260831815967,
          0.6909482874381481,
          0.19927646860794157,
          0.1555476906065448,
          0.9934194153611704
         ],
         "yaxis": "y2"
        },
        {
         "boxmean": true,
         "boxpoints": "all",
         "legendgroup": "baseline",
         "marker": {
          "color": "#508587"
         },
         "name": "Baseline",
         "offsetgroup": "baseline",
         "showlegend": false,
         "text": [
          "stomach",
          "small_bowel",
          "colon",
          "liver",
          "gallbladder",
          "pancreas",
          "kidney",
          "spleen",
          "bladder",
          "omentum",
          "fat_subcutaneous",
          "lung",
          "heart",
          "skin",
          "muscle",
          "peritoneum",
          "major_vein",
          "kidney_with_Gerotas_fascia",
          "background"
         ],
         "type": "box",
         "x": [
          "isolation_bgr",
          "isolation_bgr",
          "isolation_bgr",
          "isolation_bgr",
          "isolation_bgr",
          "isolation_bgr",
          "isolation_bgr",
          "isolation_bgr",
          "isolation_bgr",
          "isolation_bgr",
          "isolation_bgr",
          "isolation_bgr",
          "isolation_bgr",
          "isolation_bgr",
          "isolation_bgr",
          "isolation_bgr",
          "isolation_bgr",
          "isolation_bgr",
          "isolation_bgr"
         ],
         "xaxis": "x2",
         "y": [
          0.07796995416644993,
          0.9028829948711486,
          0.8090704094012604,
          0.9509484927370861,
          0.02212694338763477,
          0.14137711281125956,
          0.2645318185645927,
          0.22408184061039849,
          0.50130215982995,
          0.10058418729819665,
          0.6785717662588564,
          0.8618183513115625,
          0.7677790445462399,
          0.6089353828303554,
          0.12535279879423228,
          0.6216179983514787,
          0.15274723894360415,
          0.11014360496241529,
          0.9888303067300022
         ],
         "yaxis": "y2"
        },
        {
         "boxmean": true,
         "boxpoints": "all",
         "legendgroup": "organ_transplantation",
         "marker": {
          "color": "#A39F5D"
         },
         "name": "Organ Transplantation",
         "offsetgroup": "organ_transplantation",
         "showlegend": false,
         "text": [
          "stomach",
          "small_bowel",
          "colon",
          "liver",
          "gallbladder",
          "pancreas",
          "kidney",
          "spleen",
          "bladder",
          "omentum",
          "fat_subcutaneous",
          "lung",
          "heart",
          "skin",
          "muscle",
          "peritoneum",
          "major_vein",
          "kidney_with_Gerotas_fascia",
          "background"
         ],
         "type": "box",
         "x": [
          "isolation_bgr",
          "isolation_bgr",
          "isolation_bgr",
          "isolation_bgr",
          "isolation_bgr",
          "isolation_bgr",
          "isolation_bgr",
          "isolation_bgr",
          "isolation_bgr",
          "isolation_bgr",
          "isolation_bgr",
          "isolation_bgr",
          "isolation_bgr",
          "isolation_bgr",
          "isolation_bgr",
          "isolation_bgr",
          "isolation_bgr",
          "isolation_bgr",
          "isolation_bgr"
         ],
         "xaxis": "x2",
         "y": [
          0.7878378536357735,
          0.9649898746912507,
          0.9737560430636888,
          0.8634904934736956,
          0.4306993418901919,
          0.9865595153848689,
          0.7947348416505394,
          0.8014445239603384,
          0.7522967534963775,
          0.8523367230318165,
          0.8130102932369722,
          0.801008740852473,
          0.9867365001335241,
          0.8697553913625864,
          0.7690609185024796,
          0.7608493745377287,
          0.940125857133639,
          0.7787495759638123,
          0.9926904944286482
         ],
         "yaxis": "y2"
        },
        {
         "boxmean": true,
         "boxpoints": "all",
         "legendgroup": "baseline",
         "marker": {
          "color": "#508587"
         },
         "name": "Baseline",
         "offsetgroup": "baseline",
         "showlegend": false,
         "text": [
          "stomach",
          "small_bowel",
          "colon",
          "liver",
          "gallbladder",
          "pancreas",
          "kidney",
          "spleen",
          "bladder",
          "omentum",
          "lung",
          "heart",
          "skin",
          "muscle",
          "peritoneum",
          "major_vein",
          "kidney_with_Gerotas_fascia",
          "background"
         ],
         "type": "box",
         "x": [
          "isolation_real",
          "isolation_real",
          "isolation_real",
          "isolation_real",
          "isolation_real",
          "isolation_real",
          "isolation_real",
          "isolation_real",
          "isolation_real",
          "isolation_real",
          "isolation_real",
          "isolation_real",
          "isolation_real",
          "isolation_real",
          "isolation_real",
          "isolation_real",
          "isolation_real",
          "isolation_real"
         ],
         "xaxis": "x2",
         "y": [
          0.36724504022796906,
          0.8596543358443712,
          0.978682076566213,
          0.39099836554512196,
          0.10906786472035244,
          0.010948905109489052,
          0.4102516947357771,
          0.027790977477110252,
          0.5383530916483059,
          0,
          0.9701390667880805,
          0.9113313627390734,
          0.6568186135399244,
          0.11857779420552161,
          0.6622220005983843,
          0.25969998859917864,
          0.3178022269353128,
          0.9677068708334912
         ],
         "yaxis": "y2"
        },
        {
         "boxmean": true,
         "boxpoints": "all",
         "legendgroup": "organ_transplantation",
         "marker": {
          "color": "#A39F5D"
         },
         "name": "Organ Transplantation",
         "offsetgroup": "organ_transplantation",
         "showlegend": false,
         "text": [
          "stomach",
          "small_bowel",
          "colon",
          "liver",
          "gallbladder",
          "pancreas",
          "kidney",
          "spleen",
          "bladder",
          "omentum",
          "lung",
          "heart",
          "skin",
          "muscle",
          "peritoneum",
          "major_vein",
          "kidney_with_Gerotas_fascia",
          "background"
         ],
         "type": "box",
         "x": [
          "isolation_real",
          "isolation_real",
          "isolation_real",
          "isolation_real",
          "isolation_real",
          "isolation_real",
          "isolation_real",
          "isolation_real",
          "isolation_real",
          "isolation_real",
          "isolation_real",
          "isolation_real",
          "isolation_real",
          "isolation_real",
          "isolation_real",
          "isolation_real",
          "isolation_real",
          "isolation_real"
         ],
         "xaxis": "x2",
         "y": [
          0.8247854957381291,
          0.9287946873466068,
          0.9929824561403509,
          0.42640621239418985,
          0.22790813513550265,
          0.8513490605504141,
          0.803293304981367,
          0.5928635885567753,
          0.7557106370365926,
          1,
          0.9896678713637855,
          0.9965986394557823,
          0.9759473456444251,
          0.10153037916857012,
          0.9042863595302619,
          0.43361711177562384,
          0.48398617642182656,
          0.9683343813659095
         ],
         "yaxis": "y2"
        },
        {
         "boxmean": true,
         "boxpoints": "all",
         "legendgroup": "baseline",
         "marker": {
          "color": "#508587"
         },
         "name": "Baseline",
         "offsetgroup": "baseline",
         "showlegend": false,
         "text": [
          "stomach",
          "small_bowel",
          "colon",
          "liver",
          "gallbladder",
          "pancreas",
          "kidney",
          "spleen",
          "bladder",
          "omentum",
          "fat_subcutaneous",
          "lung",
          "heart",
          "skin",
          "muscle",
          "peritoneum",
          "major_vein",
          "kidney_with_Gerotas_fascia",
          "background"
         ],
         "type": "box",
         "x": [
          "removal_zero",
          "removal_zero",
          "removal_zero",
          "removal_zero",
          "removal_zero",
          "removal_zero",
          "removal_zero",
          "removal_zero",
          "removal_zero",
          "removal_zero",
          "removal_zero",
          "removal_zero",
          "removal_zero",
          "removal_zero",
          "removal_zero",
          "removal_zero",
          "removal_zero",
          "removal_zero",
          "removal_zero"
         ],
         "xaxis": "x2",
         "y": [
          0.35648297676004187,
          0.5610291539285266,
          0.6391333202586115,
          0.40646930125340985,
          0.06179891769078695,
          0.38594405853011554,
          0.27964699489890804,
          0.23215265223698506,
          0.06460922521198784,
          0.5317046526335265,
          0.3265958303029264,
          0.5308898847756517,
          0.7392476423910508,
          0.6567618577781482,
          0.23160673754043132,
          0.4741104304241517,
          0.42131555252743647,
          0.03407894769330679,
          0.8290598554935988
         ],
         "yaxis": "y2"
        },
        {
         "boxmean": true,
         "boxpoints": "all",
         "legendgroup": "organ_transplantation",
         "marker": {
          "color": "#A39F5D"
         },
         "name": "Organ Transplantation",
         "offsetgroup": "organ_transplantation",
         "showlegend": false,
         "text": [
          "stomach",
          "small_bowel",
          "colon",
          "liver",
          "gallbladder",
          "pancreas",
          "kidney",
          "spleen",
          "bladder",
          "omentum",
          "fat_subcutaneous",
          "lung",
          "heart",
          "skin",
          "muscle",
          "peritoneum",
          "major_vein",
          "kidney_with_Gerotas_fascia",
          "background"
         ],
         "type": "box",
         "x": [
          "removal_zero",
          "removal_zero",
          "removal_zero",
          "removal_zero",
          "removal_zero",
          "removal_zero",
          "removal_zero",
          "removal_zero",
          "removal_zero",
          "removal_zero",
          "removal_zero",
          "removal_zero",
          "removal_zero",
          "removal_zero",
          "removal_zero",
          "removal_zero",
          "removal_zero",
          "removal_zero",
          "removal_zero"
         ],
         "xaxis": "x2",
         "y": [
          0.5809052688212969,
          0.7244717387405689,
          0.8213803072066934,
          0.5426242579062093,
          0.1934017013187939,
          0.5566523170810719,
          0.5403948468647946,
          0.43774220038938805,
          0.2019677515598516,
          0.633300890092009,
          0.6115979802789049,
          0.6388377125634036,
          0.8456895119014352,
          0.7653628907823006,
          0.4369567041069986,
          0.6736529969750793,
          0.6010264510893204,
          0.26092171518586665,
          0.828874731438615
         ],
         "yaxis": "y2"
        },
        {
         "boxmean": true,
         "boxpoints": "all",
         "legendgroup": "baseline",
         "marker": {
          "color": "#508587"
         },
         "name": "Baseline",
         "offsetgroup": "baseline",
         "showlegend": false,
         "text": [
          "stomach",
          "small_bowel",
          "colon",
          "liver",
          "gallbladder",
          "pancreas",
          "kidney",
          "spleen",
          "bladder",
          "omentum",
          "fat_subcutaneous",
          "lung",
          "heart",
          "skin",
          "muscle",
          "peritoneum",
          "major_vein",
          "kidney_with_Gerotas_fascia",
          "background"
         ],
         "type": "box",
         "x": [
          "removal_bgr",
          "removal_bgr",
          "removal_bgr",
          "removal_bgr",
          "removal_bgr",
          "removal_bgr",
          "removal_bgr",
          "removal_bgr",
          "removal_bgr",
          "removal_bgr",
          "removal_bgr",
          "removal_bgr",
          "removal_bgr",
          "removal_bgr",
          "removal_bgr",
          "removal_bgr",
          "removal_bgr",
          "removal_bgr",
          "removal_bgr"
         ],
         "xaxis": "x2",
         "y": [
          0.5215691868150136,
          0.6878575749290684,
          0.7371450684524953,
          0.498013677784985,
          0.055406259072857136,
          0.7863203323240735,
          0.33113058440163096,
          0.3945680003097491,
          0.23148599614543758,
          0.589342335625345,
          0.5508432206581537,
          0.6252942673933097,
          0.7200692023320175,
          0.6791844082426495,
          0.35851510060294545,
          0.5382684713199621,
          0.2520998973669552,
          0.09356238468828844,
          0.8564441933224247
         ],
         "yaxis": "y2"
        },
        {
         "boxmean": true,
         "boxpoints": "all",
         "legendgroup": "organ_transplantation",
         "marker": {
          "color": "#A39F5D"
         },
         "name": "Organ Transplantation",
         "offsetgroup": "organ_transplantation",
         "showlegend": false,
         "text": [
          "stomach",
          "small_bowel",
          "colon",
          "liver",
          "gallbladder",
          "pancreas",
          "kidney",
          "spleen",
          "bladder",
          "omentum",
          "fat_subcutaneous",
          "lung",
          "heart",
          "skin",
          "muscle",
          "peritoneum",
          "major_vein",
          "kidney_with_Gerotas_fascia",
          "background"
         ],
         "type": "box",
         "x": [
          "removal_bgr",
          "removal_bgr",
          "removal_bgr",
          "removal_bgr",
          "removal_bgr",
          "removal_bgr",
          "removal_bgr",
          "removal_bgr",
          "removal_bgr",
          "removal_bgr",
          "removal_bgr",
          "removal_bgr",
          "removal_bgr",
          "removal_bgr",
          "removal_bgr",
          "removal_bgr",
          "removal_bgr",
          "removal_bgr",
          "removal_bgr"
         ],
         "xaxis": "x2",
         "y": [
          0.6634952039797184,
          0.7685605846288277,
          0.8830298850573352,
          0.6151246507078529,
          0.292458747666877,
          0.9003126075980497,
          0.6063613127214567,
          0.5665403097551467,
          0.524375320400194,
          0.677449026721762,
          0.5982350073087207,
          0.7115806525439065,
          0.842153226628583,
          0.8153340654615162,
          0.5672743627593273,
          0.6737089595987178,
          0.9401330064103113,
          0.4423305700012321,
          0.8792106519305335
         ],
         "yaxis": "y2"
        },
        {
         "boxmean": true,
         "boxpoints": "all",
         "legendgroup": "baseline",
         "marker": {
          "color": "#508587"
         },
         "name": "Baseline",
         "offsetgroup": "baseline",
         "showlegend": false,
         "text": [
          "stomach",
          "small_bowel",
          "colon",
          "liver",
          "gallbladder",
          "kidney",
          "spleen",
          "bladder",
          "omentum",
          "fat_subcutaneous",
          "lung",
          "heart",
          "skin",
          "muscle",
          "peritoneum",
          "background"
         ],
         "type": "box",
         "x": [
          "no-occlusion",
          "no-occlusion",
          "no-occlusion",
          "no-occlusion",
          "no-occlusion",
          "no-occlusion",
          "no-occlusion",
          "no-occlusion",
          "no-occlusion",
          "no-occlusion",
          "no-occlusion",
          "no-occlusion",
          "no-occlusion",
          "no-occlusion",
          "no-occlusion",
          "no-occlusion"
         ],
         "xaxis": "x2",
         "y": [
          0.8010240560117856,
          0.7817817628084377,
          0.9053828502246795,
          0.5673695851156861,
          0.22296474877191594,
          0,
          0.6134617837226697,
          0.4772215847954471,
          0.8261680967591166,
          0.537035862487473,
          0.6819158660510939,
          0.8769524309470045,
          0.9437739871742851,
          0.4738860363616776,
          0.8850863978424051,
          0.9162776467918551
         ],
         "yaxis": "y2"
        },
        {
         "boxmean": true,
         "boxpoints": "all",
         "legendgroup": "organ_transplantation",
         "marker": {
          "color": "#A39F5D"
         },
         "name": "Organ Transplantation",
         "offsetgroup": "organ_transplantation",
         "showlegend": false,
         "text": [
          "stomach",
          "small_bowel",
          "colon",
          "liver",
          "gallbladder",
          "kidney",
          "spleen",
          "bladder",
          "omentum",
          "fat_subcutaneous",
          "lung",
          "heart",
          "skin",
          "muscle",
          "peritoneum",
          "background"
         ],
         "type": "box",
         "x": [
          "no-occlusion",
          "no-occlusion",
          "no-occlusion",
          "no-occlusion",
          "no-occlusion",
          "no-occlusion",
          "no-occlusion",
          "no-occlusion",
          "no-occlusion",
          "no-occlusion",
          "no-occlusion",
          "no-occlusion",
          "no-occlusion",
          "no-occlusion",
          "no-occlusion",
          "no-occlusion"
         ],
         "xaxis": "x2",
         "y": [
          0.8629999061488434,
          0.7899693590464854,
          0.9259225713570458,
          0.5880965248955937,
          0.3149349799776348,
          0.47692307692307695,
          0.6358542031196298,
          0.5667036787943094,
          0.8064223879941819,
          0.5840421668634874,
          0.7062154873232482,
          0.8831215145487441,
          0.9394208099936097,
          0.5609244993505121,
          0.8315237437233081,
          0.9173937896661422
         ],
         "yaxis": "y2"
        },
        {
         "boxmean": true,
         "boxpoints": "all",
         "legendgroup": "baseline",
         "marker": {
          "color": "#508587"
         },
         "name": "Baseline",
         "offsetgroup": "baseline",
         "showlegend": false,
         "text": [
          "stomach",
          "small_bowel",
          "colon",
          "liver",
          "gallbladder",
          "pancreas",
          "kidney",
          "spleen",
          "bladder",
          "omentum",
          "fat_subcutaneous",
          "lung",
          "heart",
          "skin",
          "muscle",
          "peritoneum",
          "major_vein",
          "kidney_with_Gerotas_fascia",
          "background"
         ],
         "type": "box",
         "x": [
          "occlusion",
          "occlusion",
          "occlusion",
          "occlusion",
          "occlusion",
          "occlusion",
          "occlusion",
          "occlusion",
          "occlusion",
          "occlusion",
          "occlusion",
          "occlusion",
          "occlusion",
          "occlusion",
          "occlusion",
          "occlusion",
          "occlusion",
          "occlusion",
          "occlusion"
         ],
         "xaxis": "x2",
         "y": [
          0.3043331367740207,
          0.6644326481205949,
          0.6760711229895385,
          0.43403284214774845,
          0.20926421455324115,
          0.5529708928779575,
          0.5276895941423463,
          0.3501849670047752,
          0.4690986900606245,
          0.3339650619326802,
          0.6862815848793844,
          0.8049718396161152,
          0.9374268259540485,
          0.5931933176965334,
          0.500927200792606,
          0.632740907239214,
          0.6847536946124502,
          0.3409883010479252,
          0.7769153534781866
         ],
         "yaxis": "y2"
        },
        {
         "boxmean": true,
         "boxpoints": "all",
         "legendgroup": "organ_transplantation",
         "marker": {
          "color": "#A39F5D"
         },
         "name": "Organ Transplantation",
         "offsetgroup": "organ_transplantation",
         "showlegend": false,
         "text": [
          "stomach",
          "small_bowel",
          "colon",
          "liver",
          "gallbladder",
          "pancreas",
          "kidney",
          "spleen",
          "bladder",
          "omentum",
          "fat_subcutaneous",
          "lung",
          "heart",
          "skin",
          "muscle",
          "peritoneum",
          "major_vein",
          "kidney_with_Gerotas_fascia",
          "background"
         ],
         "type": "box",
         "x": [
          "occlusion",
          "occlusion",
          "occlusion",
          "occlusion",
          "occlusion",
          "occlusion",
          "occlusion",
          "occlusion",
          "occlusion",
          "occlusion",
          "occlusion",
          "occlusion",
          "occlusion",
          "occlusion",
          "occlusion",
          "occlusion",
          "occlusion",
          "occlusion",
          "occlusion"
         ],
         "xaxis": "x2",
         "y": [
          0.37631891575771137,
          0.7225336313986817,
          0.7315641249627614,
          0.48207100829142074,
          0.3511276793470497,
          0.6722012083588377,
          0.6203812859045112,
          0.482067751332715,
          0.5296655018964141,
          0.4687762676916834,
          0.7826320685796077,
          0.8742021195603711,
          0.9632391512741052,
          0.6203413042314825,
          0.6309403628555471,
          0.5974434290712963,
          0.9005348819617882,
          0.46930190217399015,
          0.8007032421248998
         ],
         "yaxis": "y2"
        }
       ],
       "layout": {
        "annotations": [
         {
          "font": {
           "size": 20
          },
          "showarrow": false,
          "text": "<b>HSI</b>",
          "x": 0,
          "xanchor": "left",
          "xref": "paper",
          "y": 0.9999999999999999,
          "yanchor": "bottom",
          "yref": "paper"
         },
         {
          "font": {
           "size": 20
          },
          "showarrow": false,
          "text": "<b>RGB</b>",
          "x": 0,
          "xanchor": "left",
          "xref": "paper",
          "y": 0.46499999999999997,
          "yanchor": "bottom",
          "yref": "paper"
         }
        ],
        "boxgap": 0.2,
        "boxgroupgap": 0.4,
        "boxmode": "group",
        "font": {
         "family": "Libertinus Serif",
         "size": 20
        },
        "height": 510,
        "legend": {
         "orientation": "h",
         "x": 0.5,
         "xanchor": "center",
         "y": 1.01,
         "yanchor": "bottom"
        },
        "margin": {
         "b": 0,
         "l": 0,
         "r": 0,
         "t": 0
        },
        "template": {
         "data": {
          "bar": [
           {
            "error_x": {
             "color": "#2a3f5f"
            },
            "error_y": {
             "color": "#2a3f5f"
            },
            "marker": {
             "line": {
              "color": "white",
              "width": 0.5
             },
             "pattern": {
              "fillmode": "overlay",
              "size": 10,
              "solidity": 0.2
             }
            },
            "type": "bar"
           }
          ],
          "barpolar": [
           {
            "marker": {
             "line": {
              "color": "white",
              "width": 0.5
             },
             "pattern": {
              "fillmode": "overlay",
              "size": 10,
              "solidity": 0.2
             }
            },
            "type": "barpolar"
           }
          ],
          "carpet": [
           {
            "aaxis": {
             "endlinecolor": "#2a3f5f",
             "gridcolor": "#C8D4E3",
             "linecolor": "#C8D4E3",
             "minorgridcolor": "#C8D4E3",
             "startlinecolor": "#2a3f5f"
            },
            "baxis": {
             "endlinecolor": "#2a3f5f",
             "gridcolor": "#C8D4E3",
             "linecolor": "#C8D4E3",
             "minorgridcolor": "#C8D4E3",
             "startlinecolor": "#2a3f5f"
            },
            "type": "carpet"
           }
          ],
          "choropleth": [
           {
            "colorbar": {
             "outlinewidth": 0,
             "ticks": ""
            },
            "type": "choropleth"
           }
          ],
          "contour": [
           {
            "colorbar": {
             "outlinewidth": 0,
             "ticks": ""
            },
            "colorscale": [
             [
              0,
              "#0d0887"
             ],
             [
              0.1111111111111111,
              "#46039f"
             ],
             [
              0.2222222222222222,
              "#7201a8"
             ],
             [
              0.3333333333333333,
              "#9c179e"
             ],
             [
              0.4444444444444444,
              "#bd3786"
             ],
             [
              0.5555555555555556,
              "#d8576b"
             ],
             [
              0.6666666666666666,
              "#ed7953"
             ],
             [
              0.7777777777777778,
              "#fb9f3a"
             ],
             [
              0.8888888888888888,
              "#fdca26"
             ],
             [
              1,
              "#f0f921"
             ]
            ],
            "type": "contour"
           }
          ],
          "contourcarpet": [
           {
            "colorbar": {
             "outlinewidth": 0,
             "ticks": ""
            },
            "type": "contourcarpet"
           }
          ],
          "heatmap": [
           {
            "colorbar": {
             "outlinewidth": 0,
             "ticks": ""
            },
            "colorscale": [
             [
              0,
              "#0d0887"
             ],
             [
              0.1111111111111111,
              "#46039f"
             ],
             [
              0.2222222222222222,
              "#7201a8"
             ],
             [
              0.3333333333333333,
              "#9c179e"
             ],
             [
              0.4444444444444444,
              "#bd3786"
             ],
             [
              0.5555555555555556,
              "#d8576b"
             ],
             [
              0.6666666666666666,
              "#ed7953"
             ],
             [
              0.7777777777777778,
              "#fb9f3a"
             ],
             [
              0.8888888888888888,
              "#fdca26"
             ],
             [
              1,
              "#f0f921"
             ]
            ],
            "type": "heatmap"
           }
          ],
          "heatmapgl": [
           {
            "colorbar": {
             "outlinewidth": 0,
             "ticks": ""
            },
            "colorscale": [
             [
              0,
              "#0d0887"
             ],
             [
              0.1111111111111111,
              "#46039f"
             ],
             [
              0.2222222222222222,
              "#7201a8"
             ],
             [
              0.3333333333333333,
              "#9c179e"
             ],
             [
              0.4444444444444444,
              "#bd3786"
             ],
             [
              0.5555555555555556,
              "#d8576b"
             ],
             [
              0.6666666666666666,
              "#ed7953"
             ],
             [
              0.7777777777777778,
              "#fb9f3a"
             ],
             [
              0.8888888888888888,
              "#fdca26"
             ],
             [
              1,
              "#f0f921"
             ]
            ],
            "type": "heatmapgl"
           }
          ],
          "histogram": [
           {
            "marker": {
             "pattern": {
              "fillmode": "overlay",
              "size": 10,
              "solidity": 0.2
             }
            },
            "type": "histogram"
           }
          ],
          "histogram2d": [
           {
            "colorbar": {
             "outlinewidth": 0,
             "ticks": ""
            },
            "colorscale": [
             [
              0,
              "#0d0887"
             ],
             [
              0.1111111111111111,
              "#46039f"
             ],
             [
              0.2222222222222222,
              "#7201a8"
             ],
             [
              0.3333333333333333,
              "#9c179e"
             ],
             [
              0.4444444444444444,
              "#bd3786"
             ],
             [
              0.5555555555555556,
              "#d8576b"
             ],
             [
              0.6666666666666666,
              "#ed7953"
             ],
             [
              0.7777777777777778,
              "#fb9f3a"
             ],
             [
              0.8888888888888888,
              "#fdca26"
             ],
             [
              1,
              "#f0f921"
             ]
            ],
            "type": "histogram2d"
           }
          ],
          "histogram2dcontour": [
           {
            "colorbar": {
             "outlinewidth": 0,
             "ticks": ""
            },
            "colorscale": [
             [
              0,
              "#0d0887"
             ],
             [
              0.1111111111111111,
              "#46039f"
             ],
             [
              0.2222222222222222,
              "#7201a8"
             ],
             [
              0.3333333333333333,
              "#9c179e"
             ],
             [
              0.4444444444444444,
              "#bd3786"
             ],
             [
              0.5555555555555556,
              "#d8576b"
             ],
             [
              0.6666666666666666,
              "#ed7953"
             ],
             [
              0.7777777777777778,
              "#fb9f3a"
             ],
             [
              0.8888888888888888,
              "#fdca26"
             ],
             [
              1,
              "#f0f921"
             ]
            ],
            "type": "histogram2dcontour"
           }
          ],
          "mesh3d": [
           {
            "colorbar": {
             "outlinewidth": 0,
             "ticks": ""
            },
            "type": "mesh3d"
           }
          ],
          "parcoords": [
           {
            "line": {
             "colorbar": {
              "outlinewidth": 0,
              "ticks": ""
             }
            },
            "type": "parcoords"
           }
          ],
          "pie": [
           {
            "automargin": true,
            "type": "pie"
           }
          ],
          "scatter": [
           {
            "fillpattern": {
             "fillmode": "overlay",
             "size": 10,
             "solidity": 0.2
            },
            "type": "scatter"
           }
          ],
          "scatter3d": [
           {
            "line": {
             "colorbar": {
              "outlinewidth": 0,
              "ticks": ""
             }
            },
            "marker": {
             "colorbar": {
              "outlinewidth": 0,
              "ticks": ""
             }
            },
            "type": "scatter3d"
           }
          ],
          "scattercarpet": [
           {
            "marker": {
             "colorbar": {
              "outlinewidth": 0,
              "ticks": ""
             }
            },
            "type": "scattercarpet"
           }
          ],
          "scattergeo": [
           {
            "marker": {
             "colorbar": {
              "outlinewidth": 0,
              "ticks": ""
             }
            },
            "type": "scattergeo"
           }
          ],
          "scattergl": [
           {
            "marker": {
             "colorbar": {
              "outlinewidth": 0,
              "ticks": ""
             }
            },
            "type": "scattergl"
           }
          ],
          "scattermapbox": [
           {
            "marker": {
             "colorbar": {
              "outlinewidth": 0,
              "ticks": ""
             }
            },
            "type": "scattermapbox"
           }
          ],
          "scatterpolar": [
           {
            "marker": {
             "colorbar": {
              "outlinewidth": 0,
              "ticks": ""
             }
            },
            "type": "scatterpolar"
           }
          ],
          "scatterpolargl": [
           {
            "marker": {
             "colorbar": {
              "outlinewidth": 0,
              "ticks": ""
             }
            },
            "type": "scatterpolargl"
           }
          ],
          "scatterternary": [
           {
            "marker": {
             "colorbar": {
              "outlinewidth": 0,
              "ticks": ""
             }
            },
            "type": "scatterternary"
           }
          ],
          "surface": [
           {
            "colorbar": {
             "outlinewidth": 0,
             "ticks": ""
            },
            "colorscale": [
             [
              0,
              "#0d0887"
             ],
             [
              0.1111111111111111,
              "#46039f"
             ],
             [
              0.2222222222222222,
              "#7201a8"
             ],
             [
              0.3333333333333333,
              "#9c179e"
             ],
             [
              0.4444444444444444,
              "#bd3786"
             ],
             [
              0.5555555555555556,
              "#d8576b"
             ],
             [
              0.6666666666666666,
              "#ed7953"
             ],
             [
              0.7777777777777778,
              "#fb9f3a"
             ],
             [
              0.8888888888888888,
              "#fdca26"
             ],
             [
              1,
              "#f0f921"
             ]
            ],
            "type": "surface"
           }
          ],
          "table": [
           {
            "cells": {
             "fill": {
              "color": "#EBF0F8"
             },
             "line": {
              "color": "white"
             }
            },
            "header": {
             "fill": {
              "color": "#C8D4E3"
             },
             "line": {
              "color": "white"
             }
            },
            "type": "table"
           }
          ]
         },
         "layout": {
          "annotationdefaults": {
           "arrowcolor": "#2a3f5f",
           "arrowhead": 0,
           "arrowwidth": 1
          },
          "autotypenumbers": "strict",
          "coloraxis": {
           "colorbar": {
            "outlinewidth": 0,
            "ticks": ""
           }
          },
          "colorscale": {
           "diverging": [
            [
             0,
             "#8e0152"
            ],
            [
             0.1,
             "#c51b7d"
            ],
            [
             0.2,
             "#de77ae"
            ],
            [
             0.3,
             "#f1b6da"
            ],
            [
             0.4,
             "#fde0ef"
            ],
            [
             0.5,
             "#f7f7f7"
            ],
            [
             0.6,
             "#e6f5d0"
            ],
            [
             0.7,
             "#b8e186"
            ],
            [
             0.8,
             "#7fbc41"
            ],
            [
             0.9,
             "#4d9221"
            ],
            [
             1,
             "#276419"
            ]
           ],
           "sequential": [
            [
             0,
             "#0d0887"
            ],
            [
             0.1111111111111111,
             "#46039f"
            ],
            [
             0.2222222222222222,
             "#7201a8"
            ],
            [
             0.3333333333333333,
             "#9c179e"
            ],
            [
             0.4444444444444444,
             "#bd3786"
            ],
            [
             0.5555555555555556,
             "#d8576b"
            ],
            [
             0.6666666666666666,
             "#ed7953"
            ],
            [
             0.7777777777777778,
             "#fb9f3a"
            ],
            [
             0.8888888888888888,
             "#fdca26"
            ],
            [
             1,
             "#f0f921"
            ]
           ],
           "sequentialminus": [
            [
             0,
             "#0d0887"
            ],
            [
             0.1111111111111111,
             "#46039f"
            ],
            [
             0.2222222222222222,
             "#7201a8"
            ],
            [
             0.3333333333333333,
             "#9c179e"
            ],
            [
             0.4444444444444444,
             "#bd3786"
            ],
            [
             0.5555555555555556,
             "#d8576b"
            ],
            [
             0.6666666666666666,
             "#ed7953"
            ],
            [
             0.7777777777777778,
             "#fb9f3a"
            ],
            [
             0.8888888888888888,
             "#fdca26"
            ],
            [
             1,
             "#f0f921"
            ]
           ]
          },
          "colorway": [
           "#636efa",
           "#EF553B",
           "#00cc96",
           "#ab63fa",
           "#FFA15A",
           "#19d3f3",
           "#FF6692",
           "#B6E880",
           "#FF97FF",
           "#FECB52"
          ],
          "font": {
           "color": "#2a3f5f"
          },
          "geo": {
           "bgcolor": "white",
           "lakecolor": "white",
           "landcolor": "white",
           "showlakes": true,
           "showland": true,
           "subunitcolor": "#C8D4E3"
          },
          "hoverlabel": {
           "align": "left"
          },
          "hovermode": "closest",
          "mapbox": {
           "style": "light"
          },
          "paper_bgcolor": "white",
          "plot_bgcolor": "white",
          "polar": {
           "angularaxis": {
            "gridcolor": "#EBF0F8",
            "linecolor": "#EBF0F8",
            "ticks": ""
           },
           "bgcolor": "white",
           "radialaxis": {
            "gridcolor": "#EBF0F8",
            "linecolor": "#EBF0F8",
            "ticks": ""
           }
          },
          "scene": {
           "xaxis": {
            "backgroundcolor": "white",
            "gridcolor": "#DFE8F3",
            "gridwidth": 2,
            "linecolor": "#EBF0F8",
            "showbackground": true,
            "ticks": "",
            "zerolinecolor": "#EBF0F8"
           },
           "yaxis": {
            "backgroundcolor": "white",
            "gridcolor": "#DFE8F3",
            "gridwidth": 2,
            "linecolor": "#EBF0F8",
            "showbackground": true,
            "ticks": "",
            "zerolinecolor": "#EBF0F8"
           },
           "zaxis": {
            "backgroundcolor": "white",
            "gridcolor": "#DFE8F3",
            "gridwidth": 2,
            "linecolor": "#EBF0F8",
            "showbackground": true,
            "ticks": "",
            "zerolinecolor": "#EBF0F8"
           }
          },
          "shapedefaults": {
           "line": {
            "color": "#2a3f5f"
           }
          },
          "ternary": {
           "aaxis": {
            "gridcolor": "#DFE8F3",
            "linecolor": "#A2B1C6",
            "ticks": ""
           },
           "baxis": {
            "gridcolor": "#DFE8F3",
            "linecolor": "#A2B1C6",
            "ticks": ""
           },
           "bgcolor": "white",
           "caxis": {
            "gridcolor": "#DFE8F3",
            "linecolor": "#A2B1C6",
            "ticks": ""
           }
          },
          "title": {
           "x": 0.05
          },
          "xaxis": {
           "automargin": true,
           "gridcolor": "#EBF0F8",
           "linecolor": "#EBF0F8",
           "ticks": "",
           "title": {
            "standoff": 15
           },
           "zerolinecolor": "#EBF0F8",
           "zerolinewidth": 2
          },
          "yaxis": {
           "automargin": true,
           "gridcolor": "#EBF0F8",
           "linecolor": "#EBF0F8",
           "ticks": "",
           "title": {
            "standoff": 15
           },
           "zerolinecolor": "#EBF0F8",
           "zerolinewidth": 2
          }
         }
        },
        "width": 1000,
        "xaxis": {
         "anchor": "y",
         "autorange": true,
         "autorangeoptions": {
          "maxallowed": 7.4,
          "minallowed": -0.52
         },
         "domain": [
          0,
          1
         ],
         "matches": "x2",
         "range": [
          -0.52,
          7.4
         ],
         "showticklabels": false,
         "tickfont": {
          "size": 16
         },
         "type": "category"
        },
        "xaxis2": {
         "anchor": "y2",
         "autorange": true,
         "domain": [
          0,
          1
         ],
         "range": [
          -0.52,
          7.4
         ],
         "tickfont": {
          "size": 16
         },
         "type": "category"
        },
        "yaxis": {
         "anchor": "x",
         "domain": [
          0.5349999999999999,
          0.9999999999999999
         ],
         "range": [
          -0.05,
          1.05
         ],
         "tickfont": {
          "size": 16
         },
         "title": {
          "text": "NSD"
         },
         "type": "linear"
        },
        "yaxis2": {
         "anchor": "x2",
         "autorange": true,
         "domain": [
          0,
          0.46499999999999997
         ],
         "range": [
          -0.05555555555555555,
          1.0555555555555556
         ],
         "tickfont": {
          "size": 16
         },
         "title": {
          "text": "NSD"
         },
         "type": "linear"
        }
       }
      },
      "image/png": "[encoded data removed]",
      "text/html": [
       "<div>                            <div id=\"5594aa6b-342f-4d0a-ba5e-4842fab428f7\" class=\"plotly-graph-div\" style=\"height:510px; width:1000px;\"></div>            <script type=\"text/javascript\">                require([\"plotly\"], function(Plotly) {                    window.PLOTLYENV=window.PLOTLYENV || {};                                    if (document.getElementById(\"5594aa6b-342f-4d0a-ba5e-4842fab428f7\")) {                    Plotly.newPlot(                        \"5594aa6b-342f-4d0a-ba5e-4842fab428f7\",                        [{\"boxmean\":true,\"boxpoints\":\"all\",\"legendgroup\":\"baseline\",\"marker\":{\"color\":\"#508587\"},\"name\":\"Baseline\",\"offsetgroup\":\"baseline\",\"showlegend\":true,\"text\":[\"stomach\",\"small_bowel\",\"colon\",\"liver\",\"gallbladder\",\"pancreas\",\"kidney\",\"spleen\",\"bladder\",\"omentum\",\"fat_subcutaneous\",\"lung\",\"heart\",\"skin\",\"muscle\",\"peritoneum\",\"major_vein\",\"kidney_with_Gerotas_fascia\",\"background\"],\"x\":[\"original\",\"original\",\"original\",\"original\",\"original\",\"original\",\"original\",\"original\",\"original\",\"original\",\"original\",\"original\",\"original\",\"original\",\"original\",\"original\",\"original\",\"original\",\"original\"],\"y\":[0.7901706198110576,0.7915355384255921,0.9241611601801809,0.6459282662933844,0.49435010777755795,0.917054711596692,0.5978680723824262,0.7034044675688863,0.6184213607374536,0.7746797864589444,0.6999965376666828,0.7505131499845872,0.8728551620592241,0.8382372435503117,0.5057332957449897,0.8680679262103425,0.8704387395704867,0.31164426334693374,0.9362453770016985],\"type\":\"box\",\"xaxis\":\"x\",\"yaxis\":\"y\"},{\"boxmean\":true,\"boxpoints\":\"all\",\"legendgroup\":\"organ_transplantation\",\"marker\":{\"color\":\"#A39F5D\"},\"name\":\"Organ Transplantation\",\"offsetgroup\":\"organ_transplantation\",\"showlegend\":true,\"text\":[\"stomach\",\"small_bowel\",\"colon\",\"liver\",\"gallbladder\",\"pancreas\",\"kidney\",\"spleen\",\"bladder\",\"omentum\",\"fat_subcutaneous\",\"lung\",\"heart\",\"skin\",\"muscle\",\"peritoneum\",\"major_vein\",\"kidney_with_Gerotas_fascia\",\"background\"],\"x\":[\"original\",\"original\",\"original\",\"original\",\"original\",\"original\",\"original\",\"original\",\"original\",\"original\",\"original\",\"original\",\"original\",\"original\",\"original\",\"original\",\"original\",\"original\",\"original\"],\"y\":[0.8058508732500826,0.7824990970064578,0.927014256620132,0.6492548498979482,0.489446342914025,0.9281989893397488,0.6251823250954609,0.6878020526030928,0.5887739473580607,0.7712109292446163,0.7818072308034596,0.7526013952056135,0.8584924406344561,0.8710257016204874,0.5714648735604635,0.8584761343184588,0.9402443898364805,0.5878002912973903,0.925211372849087],\"type\":\"box\",\"xaxis\":\"x\",\"yaxis\":\"y\"},{\"boxmean\":true,\"boxpoints\":\"all\",\"legendgroup\":\"baseline\",\"marker\":{\"color\":\"#508587\"},\"name\":\"Baseline\",\"offsetgroup\":\"baseline\",\"showlegend\":false,\"text\":[\"stomach\",\"small_bowel\",\"colon\",\"liver\",\"gallbladder\",\"pancreas\",\"kidney\",\"spleen\",\"bladder\",\"omentum\",\"fat_subcutaneous\",\"lung\",\"heart\",\"skin\",\"muscle\",\"peritoneum\",\"major_vein\",\"kidney_with_Gerotas_fascia\",\"background\"],\"x\":[\"isolation_zero\",\"isolation_zero\",\"isolation_zero\",\"isolation_zero\",\"isolation_zero\",\"isolation_zero\",\"isolation_zero\",\"isolation_zero\",\"isolation_zero\",\"isolation_zero\",\"isolation_zero\",\"isolation_zero\",\"isolation_zero\",\"isolation_zero\",\"isolation_zero\",\"isolation_zero\",\"isolation_zero\",\"isolation_zero\",\"isolation_zero\"],\"y\":[0.5325038686130612,0.9785623973296366,0.7782921615373845,0.8873125517987862,0.003812715684226785,0.5776924272848657,0.4687290218216794,0.7724106483547175,0.6603783332380241,0.30721960549580735,0.9158581725988393,0.7444842785367821,0.7362415016213054,0.9336650857216401,0.5930535855974148,0.37948357485705453,0.04846618395641322,0.04663693508899384,0.987245055419319],\"type\":\"box\",\"xaxis\":\"x\",\"yaxis\":\"y\"},{\"boxmean\":true,\"boxpoints\":\"all\",\"legendgroup\":\"organ_transplantation\",\"marker\":{\"color\":\"#A39F5D\"},\"name\":\"Organ Transplantation\",\"offsetgroup\":\"organ_transplantation\",\"showlegend\":false,\"text\":[\"stomach\",\"small_bowel\",\"colon\",\"liver\",\"gallbladder\",\"pancreas\",\"kidney\",\"spleen\",\"bladder\",\"omentum\",\"fat_subcutaneous\",\"lung\",\"heart\",\"skin\",\"muscle\",\"peritoneum\",\"major_vein\",\"kidney_with_Gerotas_fascia\",\"background\"],\"x\":[\"isolation_zero\",\"isolation_zero\",\"isolation_zero\",\"isolation_zero\",\"isolation_zero\",\"isolation_zero\",\"isolation_zero\",\"isolation_zero\",\"isolation_zero\",\"isolation_zero\",\"isolation_zero\",\"isolation_zero\",\"isolation_zero\",\"isolation_zero\",\"isolation_zero\",\"isolation_zero\",\"isolation_zero\",\"isolation_zero\",\"isolation_zero\"],\"y\":[0.9387759670800616,0.9538233987242766,0.9437871483959146,0.9521331092411233,0.4716732818431758,0.9702721108352366,0.9057009011258705,0.8744437896611914,0.6057960959739964,0.8179689696186696,0.8651595524972354,0.798774480882035,0.9853611050305894,0.8219573238982426,0.6673975199654977,0.8211143079452418,0.9533076575975676,0.41808125889554937,0.9929675759555557],\"type\":\"box\",\"xaxis\":\"x\",\"yaxis\":\"y\"},{\"boxmean\":true,\"boxpoints\":\"all\",\"legendgroup\":\"baseline\",\"marker\":{\"color\":\"#508587\"},\"name\":\"Baseline\",\"offsetgroup\":\"baseline\",\"showlegend\":false,\"text\":[\"stomach\",\"small_bowel\",\"colon\",\"liver\",\"gallbladder\",\"pancreas\",\"kidney\",\"spleen\",\"bladder\",\"omentum\",\"fat_subcutaneous\",\"lung\",\"heart\",\"skin\",\"muscle\",\"peritoneum\",\"major_vein\",\"kidney_with_Gerotas_fascia\",\"background\"],\"x\":[\"isolation_bgr\",\"isolation_bgr\",\"isolation_bgr\",\"isolation_bgr\",\"isolation_bgr\",\"isolation_bgr\",\"isolation_bgr\",\"isolation_bgr\",\"isolation_bgr\",\"isolation_bgr\",\"isolation_bgr\",\"isolation_bgr\",\"isolation_bgr\",\"isolation_bgr\",\"isolation_bgr\",\"isolation_bgr\",\"isolation_bgr\",\"isolation_bgr\",\"isolation_bgr\"],\"y\":[0.09987101264007478,0.8961474532565304,0.6579678542847196,0.6673795945191898,0.0867415035938316,0.09663171717170142,0.017501382725578787,0.1675617495722022,0.7845835425529234,0.005799626216778843,0.1874045253695602,0.8905291126911564,0.9545029522710099,0.8793015649266921,0.3081303646547599,0.6396175301404224,0.2641560767714632,0.0,0.9877243980699888],\"type\":\"box\",\"xaxis\":\"x\",\"yaxis\":\"y\"},{\"boxmean\":true,\"boxpoints\":\"all\",\"legendgroup\":\"organ_transplantation\",\"marker\":{\"color\":\"#A39F5D\"},\"name\":\"Organ Transplantation\",\"offsetgroup\":\"organ_transplantation\",\"showlegend\":false,\"text\":[\"stomach\",\"small_bowel\",\"colon\",\"liver\",\"gallbladder\",\"pancreas\",\"kidney\",\"spleen\",\"bladder\",\"omentum\",\"fat_subcutaneous\",\"lung\",\"heart\",\"skin\",\"muscle\",\"peritoneum\",\"major_vein\",\"kidney_with_Gerotas_fascia\",\"background\"],\"x\":[\"isolation_bgr\",\"isolation_bgr\",\"isolation_bgr\",\"isolation_bgr\",\"isolation_bgr\",\"isolation_bgr\",\"isolation_bgr\",\"isolation_bgr\",\"isolation_bgr\",\"isolation_bgr\",\"isolation_bgr\",\"isolation_bgr\",\"isolation_bgr\",\"isolation_bgr\",\"isolation_bgr\",\"isolation_bgr\",\"isolation_bgr\",\"isolation_bgr\",\"isolation_bgr\"],\"y\":[0.9321252649463541,0.9448668255752757,0.9688980122454518,0.8935790918023354,0.5313212825050456,0.9317705329204383,0.8921012576494778,0.874072880645969,0.8602360112099305,0.8603453923089596,0.9596483698120858,0.7814020811758483,0.9860740309659928,0.8345918167113032,0.7615253787136462,0.919313265963547,0.9818946697241235,0.9293396317362532,0.9960371422799017],\"type\":\"box\",\"xaxis\":\"x\",\"yaxis\":\"y\"},{\"boxmean\":true,\"boxpoints\":\"all\",\"legendgroup\":\"baseline\",\"marker\":{\"color\":\"#508587\"},\"name\":\"Baseline\",\"offsetgroup\":\"baseline\",\"showlegend\":false,\"text\":[\"stomach\",\"small_bowel\",\"colon\",\"liver\",\"gallbladder\",\"pancreas\",\"kidney\",\"spleen\",\"bladder\",\"omentum\",\"lung\",\"heart\",\"skin\",\"muscle\",\"peritoneum\",\"major_vein\",\"kidney_with_Gerotas_fascia\",\"background\"],\"x\":[\"isolation_real\",\"isolation_real\",\"isolation_real\",\"isolation_real\",\"isolation_real\",\"isolation_real\",\"isolation_real\",\"isolation_real\",\"isolation_real\",\"isolation_real\",\"isolation_real\",\"isolation_real\",\"isolation_real\",\"isolation_real\",\"isolation_real\",\"isolation_real\",\"isolation_real\",\"isolation_real\"],\"y\":[0.2541043148178689,0.7711820550288071,0.9849981031372934,0.2777493532679491,0.07218082633005568,0.08432791141855903,0.38904520409551135,0.15301543595527045,0.4255862908097277,0.0,0.9733466265549906,0.9557603686635945,0.9301262950065275,0.09041278295605859,0.6009294928150126,0.40897561985813813,0.21222790914089928,0.9653912863728609],\"type\":\"box\",\"xaxis\":\"x\",\"yaxis\":\"y\"},{\"boxmean\":true,\"boxpoints\":\"all\",\"legendgroup\":\"organ_transplantation\",\"marker\":{\"color\":\"#A39F5D\"},\"name\":\"Organ Transplantation\",\"offsetgroup\":\"organ_transplantation\",\"showlegend\":false,\"text\":[\"stomach\",\"small_bowel\",\"colon\",\"liver\",\"gallbladder\",\"pancreas\",\"kidney\",\"spleen\",\"bladder\",\"omentum\",\"lung\",\"heart\",\"skin\",\"muscle\",\"peritoneum\",\"major_vein\",\"kidney_with_Gerotas_fascia\",\"background\"],\"x\":[\"isolation_real\",\"isolation_real\",\"isolation_real\",\"isolation_real\",\"isolation_real\",\"isolation_real\",\"isolation_real\",\"isolation_real\",\"isolation_real\",\"isolation_real\",\"isolation_real\",\"isolation_real\",\"isolation_real\",\"isolation_real\",\"isolation_real\",\"isolation_real\",\"isolation_real\",\"isolation_real\"],\"y\":[0.7084914886403854,0.8973183500128246,0.9696969696969697,0.5570396153752999,0.5448018982226092,0.6357568374449493,0.8073803773916896,0.766724928394146,0.7888200277753065,0.9045698739265822,0.9851556673866212,0.9919337282890952,0.9911126026145594,0.09751892523477025,0.821343088109109,1.0,0.5173323448563735,0.9764053973439745],\"type\":\"box\",\"xaxis\":\"x\",\"yaxis\":\"y\"},{\"boxmean\":true,\"boxpoints\":\"all\",\"legendgroup\":\"baseline\",\"marker\":{\"color\":\"#508587\"},\"name\":\"Baseline\",\"offsetgroup\":\"baseline\",\"showlegend\":false,\"text\":[\"stomach\",\"small_bowel\",\"colon\",\"liver\",\"gallbladder\",\"pancreas\",\"kidney\",\"spleen\",\"bladder\",\"omentum\",\"fat_subcutaneous\",\"lung\",\"heart\",\"skin\",\"muscle\",\"peritoneum\",\"major_vein\",\"kidney_with_Gerotas_fascia\",\"background\"],\"x\":[\"removal_zero\",\"removal_zero\",\"removal_zero\",\"removal_zero\",\"removal_zero\",\"removal_zero\",\"removal_zero\",\"removal_zero\",\"removal_zero\",\"removal_zero\",\"removal_zero\",\"removal_zero\",\"removal_zero\",\"removal_zero\",\"removal_zero\",\"removal_zero\",\"removal_zero\",\"removal_zero\",\"removal_zero\"],\"y\":[0.5055953446109606,0.6641556050043238,0.7856675865861484,0.5656780626342168,0.027937378463820984,0.7890344812347386,0.4580526649649743,0.637170075639374,0.30292361969080916,0.5870942644978324,0.5781762386441456,0.6312762884333178,0.781274961582822,0.7746996910813447,0.5159142295138297,0.5712469102573046,0.564565922405435,0.0898325869678778,0.8786133260367557],\"type\":\"box\",\"xaxis\":\"x\",\"yaxis\":\"y\"},{\"boxmean\":true,\"boxpoints\":\"all\",\"legendgroup\":\"organ_transplantation\",\"marker\":{\"color\":\"#A39F5D\"},\"name\":\"Organ Transplantation\",\"offsetgroup\":\"organ_transplantation\",\"showlegend\":false,\"text\":[\"stomach\",\"small_bowel\",\"colon\",\"liver\",\"gallbladder\",\"pancreas\",\"kidney\",\"spleen\",\"bladder\",\"omentum\",\"fat_subcutaneous\",\"lung\",\"heart\",\"skin\",\"muscle\",\"peritoneum\",\"major_vein\",\"kidney_with_Gerotas_fascia\",\"background\"],\"x\":[\"removal_zero\",\"removal_zero\",\"removal_zero\",\"removal_zero\",\"removal_zero\",\"removal_zero\",\"removal_zero\",\"removal_zero\",\"removal_zero\",\"removal_zero\",\"removal_zero\",\"removal_zero\",\"removal_zero\",\"removal_zero\",\"removal_zero\",\"removal_zero\",\"removal_zero\",\"removal_zero\",\"removal_zero\"],\"y\":[0.7505484122659905,0.7647688548827298,0.8985740883050071,0.6344929655255955,0.3187986470372595,0.9033149693072108,0.6071908787887308,0.6591946701498581,0.4894731290742137,0.7112597531031655,0.6282665801363113,0.718569126369282,0.8495918659947664,0.7925597242465137,0.556224557786058,0.7235020205227527,0.8979463160889357,0.5434866051797796,0.8884772863319566],\"type\":\"box\",\"xaxis\":\"x\",\"yaxis\":\"y\"},{\"boxmean\":true,\"boxpoints\":\"all\",\"legendgroup\":\"baseline\",\"marker\":{\"color\":\"#508587\"},\"name\":\"Baseline\",\"offsetgroup\":\"baseline\",\"showlegend\":false,\"text\":[\"stomach\",\"small_bowel\",\"colon\",\"liver\",\"gallbladder\",\"pancreas\",\"kidney\",\"spleen\",\"bladder\",\"omentum\",\"fat_subcutaneous\",\"lung\",\"heart\",\"skin\",\"muscle\",\"peritoneum\",\"major_vein\",\"kidney_with_Gerotas_fascia\",\"background\"],\"x\":[\"removal_bgr\",\"removal_bgr\",\"removal_bgr\",\"removal_bgr\",\"removal_bgr\",\"removal_bgr\",\"removal_bgr\",\"removal_bgr\",\"removal_bgr\",\"removal_bgr\",\"removal_bgr\",\"removal_bgr\",\"removal_bgr\",\"removal_bgr\",\"removal_bgr\",\"removal_bgr\",\"removal_bgr\",\"removal_bgr\",\"removal_bgr\"],\"y\":[0.6033396588318055,0.7194830298834598,0.800668528034661,0.5831001401817952,0.18128514660269074,0.805484502117654,0.4941815027246458,0.6174609014995078,0.430038947965513,0.6472646243443382,0.5556790011465957,0.6590504746883031,0.8005014886219423,0.7750564623251162,0.3915216820977813,0.6214912475696357,0.7580237060947161,0.13504254454594225,0.9068066789192605],\"type\":\"box\",\"xaxis\":\"x\",\"yaxis\":\"y\"},{\"boxmean\":true,\"boxpoints\":\"all\",\"legendgroup\":\"organ_transplantation\",\"marker\":{\"color\":\"#A39F5D\"},\"name\":\"Organ Transplantation\",\"offsetgroup\":\"organ_transplantation\",\"showlegend\":false,\"text\":[\"stomach\",\"small_bowel\",\"colon\",\"liver\",\"gallbladder\",\"pancreas\",\"kidney\",\"spleen\",\"bladder\",\"omentum\",\"fat_subcutaneous\",\"lung\",\"heart\",\"skin\",\"muscle\",\"peritoneum\",\"major_vein\",\"kidney_with_Gerotas_fascia\",\"background\"],\"x\":[\"removal_bgr\",\"removal_bgr\",\"removal_bgr\",\"removal_bgr\",\"removal_bgr\",\"removal_bgr\",\"removal_bgr\",\"removal_bgr\",\"removal_bgr\",\"removal_bgr\",\"removal_bgr\",\"removal_bgr\",\"removal_bgr\",\"removal_bgr\",\"removal_bgr\",\"removal_bgr\",\"removal_bgr\",\"removal_bgr\",\"removal_bgr\"],\"y\":[0.7540174999781972,0.7761217082410197,0.9102118127450959,0.6322689333366407,0.34094291187558756,0.9026907643817346,0.601161584161862,0.6689953052486957,0.5512557437356753,0.7292823658862424,0.6407642478575051,0.7296886249954623,0.8530193247125615,0.8512801873450694,0.5752868089862588,0.7388767485210095,0.9222692522678531,0.5719915631717691,0.893856391807164],\"type\":\"box\",\"xaxis\":\"x\",\"yaxis\":\"y\"},{\"boxmean\":true,\"boxpoints\":\"all\",\"legendgroup\":\"baseline\",\"marker\":{\"color\":\"#508587\"},\"name\":\"Baseline\",\"offsetgroup\":\"baseline\",\"showlegend\":false,\"text\":[\"stomach\",\"small_bowel\",\"colon\",\"liver\",\"gallbladder\",\"kidney\",\"spleen\",\"bladder\",\"omentum\",\"fat_subcutaneous\",\"lung\",\"heart\",\"skin\",\"muscle\",\"peritoneum\",\"background\"],\"x\":[\"no-occlusion\",\"no-occlusion\",\"no-occlusion\",\"no-occlusion\",\"no-occlusion\",\"no-occlusion\",\"no-occlusion\",\"no-occlusion\",\"no-occlusion\",\"no-occlusion\",\"no-occlusion\",\"no-occlusion\",\"no-occlusion\",\"no-occlusion\",\"no-occlusion\",\"no-occlusion\"],\"y\":[0.7602398964369758,0.7580288976144478,0.912273071494373,0.5465125932198938,0.2529764660008487,0.0,0.6213263216934961,0.6163720088545608,0.7469726277888894,0.5077875156404154,0.684440625950039,0.9000158165570852,0.9626984179517558,0.4397611854066516,0.8554566441217247,0.9183256876846201],\"type\":\"box\",\"xaxis\":\"x\",\"yaxis\":\"y\"},{\"boxmean\":true,\"boxpoints\":\"all\",\"legendgroup\":\"organ_transplantation\",\"marker\":{\"color\":\"#A39F5D\"},\"name\":\"Organ Transplantation\",\"offsetgroup\":\"organ_transplantation\",\"showlegend\":false,\"text\":[\"stomach\",\"small_bowel\",\"colon\",\"liver\",\"gallbladder\",\"kidney\",\"spleen\",\"bladder\",\"omentum\",\"fat_subcutaneous\",\"lung\",\"heart\",\"skin\",\"muscle\",\"peritoneum\",\"background\"],\"x\":[\"no-occlusion\",\"no-occlusion\",\"no-occlusion\",\"no-occlusion\",\"no-occlusion\",\"no-occlusion\",\"no-occlusion\",\"no-occlusion\",\"no-occlusion\",\"no-occlusion\",\"no-occlusion\",\"no-occlusion\",\"no-occlusion\",\"no-occlusion\",\"no-occlusion\",\"no-occlusion\"],\"y\":[0.8313052782757353,0.7704598896966026,0.939918194321748,0.6075614226875866,0.3322533502788661,0.43568464730290457,0.6575203687847871,0.6027454353613871,0.8368787702199061,0.5298745701999793,0.6931131907188591,0.8770715878229338,0.9740331814506521,0.5556993939148278,0.8878343705273436,0.9181279922844586],\"type\":\"box\",\"xaxis\":\"x\",\"yaxis\":\"y\"},{\"boxmean\":true,\"boxpoints\":\"all\",\"legendgroup\":\"baseline\",\"marker\":{\"color\":\"#508587\"},\"name\":\"Baseline\",\"offsetgroup\":\"baseline\",\"showlegend\":false,\"text\":[\"stomach\",\"small_bowel\",\"colon\",\"liver\",\"gallbladder\",\"pancreas\",\"kidney\",\"spleen\",\"bladder\",\"omentum\",\"fat_subcutaneous\",\"lung\",\"heart\",\"skin\",\"muscle\",\"peritoneum\",\"major_vein\",\"kidney_with_Gerotas_fascia\",\"background\"],\"x\":[\"occlusion\",\"occlusion\",\"occlusion\",\"occlusion\",\"occlusion\",\"occlusion\",\"occlusion\",\"occlusion\",\"occlusion\",\"occlusion\",\"occlusion\",\"occlusion\",\"occlusion\",\"occlusion\",\"occlusion\",\"occlusion\",\"occlusion\",\"occlusion\",\"occlusion\"],\"y\":[0.30438926999531984,0.6668261028301827,0.6645400836499851,0.4597156786728111,0.38853835266785747,0.19821282152156505,0.5653253359771063,0.5405552135075454,0.542075174461991,0.6051048011499031,0.6642824589906844,0.859524181660319,0.9484034652473651,0.6048378331692437,0.46403991478229945,0.6111671646123537,0.8257696798848146,0.4023936895347905,0.7763082658720244],\"type\":\"box\",\"xaxis\":\"x\",\"yaxis\":\"y\"},{\"boxmean\":true,\"boxpoints\":\"all\",\"legendgroup\":\"organ_transplantation\",\"marker\":{\"color\":\"#A39F5D\"},\"name\":\"Organ Transplantation\",\"offsetgroup\":\"organ_transplantation\",\"showlegend\":false,\"text\":[\"stomach\",\"small_bowel\",\"colon\",\"liver\",\"gallbladder\",\"pancreas\",\"kidney\",\"spleen\",\"bladder\",\"omentum\",\"fat_subcutaneous\",\"lung\",\"heart\",\"skin\",\"muscle\",\"peritoneum\",\"major_vein\",\"kidney_with_Gerotas_fascia\",\"background\"],\"x\":[\"occlusion\",\"occlusion\",\"occlusion\",\"occlusion\",\"occlusion\",\"occlusion\",\"occlusion\",\"occlusion\",\"occlusion\",\"occlusion\",\"occlusion\",\"occlusion\",\"occlusion\",\"occlusion\",\"occlusion\",\"occlusion\",\"occlusion\",\"occlusion\",\"occlusion\"],\"y\":[0.5943316090991737,0.7194289966133436,0.8151450503169523,0.5005755419478354,0.397449630980976,0.6837421339564408,0.6400415351578341,0.49233204461269775,0.5774791921308059,0.6593830082154187,0.7859759588393643,0.8868095937597944,0.9534651587252597,0.6145360907320448,0.6212079517426323,0.6853011139159196,0.920905200099422,0.5609345823585821,0.7842730834702007],\"type\":\"box\",\"xaxis\":\"x\",\"yaxis\":\"y\"},{\"boxmean\":true,\"boxpoints\":\"all\",\"legendgroup\":\"baseline\",\"marker\":{\"color\":\"#508587\"},\"name\":\"Baseline\",\"offsetgroup\":\"baseline\",\"showlegend\":false,\"text\":[\"stomach\",\"small_bowel\",\"colon\",\"liver\",\"gallbladder\",\"pancreas\",\"kidney\",\"spleen\",\"bladder\",\"omentum\",\"fat_subcutaneous\",\"lung\",\"heart\",\"skin\",\"muscle\",\"peritoneum\",\"major_vein\",\"kidney_with_Gerotas_fascia\",\"background\"],\"x\":[\"original\",\"original\",\"original\",\"original\",\"original\",\"original\",\"original\",\"original\",\"original\",\"original\",\"original\",\"original\",\"original\",\"original\",\"original\",\"original\",\"original\",\"original\",\"original\"],\"y\":[0.7249684984545746,0.7946099966564181,0.8954275196896928,0.6165317988318947,0.5174414182515985,0.9436926712061534,0.5141770340319183,0.5671952833395315,0.5263707480086531,0.7708518317306412,0.7139573263805139,0.7354685695058971,0.8685561982109412,0.8635949745299407,0.45359162142832216,0.8302689940856889,0.8772346935009738,0.3777334603807851,0.9298054021404388],\"type\":\"box\",\"xaxis\":\"x2\",\"yaxis\":\"y2\"},{\"boxmean\":true,\"boxpoints\":\"all\",\"legendgroup\":\"organ_transplantation\",\"marker\":{\"color\":\"#A39F5D\"},\"name\":\"Organ Transplantation\",\"offsetgroup\":\"organ_transplantation\",\"showlegend\":false,\"text\":[\"stomach\",\"small_bowel\",\"colon\",\"liver\",\"gallbladder\",\"pancreas\",\"kidney\",\"spleen\",\"bladder\",\"omentum\",\"fat_subcutaneous\",\"lung\",\"heart\",\"skin\",\"muscle\",\"peritoneum\",\"major_vein\",\"kidney_with_Gerotas_fascia\",\"background\"],\"x\":[\"original\",\"original\",\"original\",\"original\",\"original\",\"original\",\"original\",\"original\",\"original\",\"original\",\"original\",\"original\",\"original\",\"original\",\"original\",\"original\",\"original\",\"original\",\"original\"],\"y\":[0.7567582950872314,0.787679670688282,0.9123716766927938,0.6427953838443823,0.49045185931501245,0.9578990509865863,0.6276458448736502,0.6112764563344559,0.579348712765913,0.7591782422750155,0.723530968160647,0.7513970744057371,0.8575837030279004,0.8816134574464716,0.5667101684369116,0.8259384888818366,0.9640884188846854,0.4858924428252097,0.9210428406380313],\"type\":\"box\",\"xaxis\":\"x2\",\"yaxis\":\"y2\"},{\"boxmean\":true,\"boxpoints\":\"all\",\"legendgroup\":\"baseline\",\"marker\":{\"color\":\"#508587\"},\"name\":\"Baseline\",\"offsetgroup\":\"baseline\",\"showlegend\":false,\"text\":[\"stomach\",\"small_bowel\",\"colon\",\"liver\",\"gallbladder\",\"pancreas\",\"kidney\",\"spleen\",\"bladder\",\"omentum\",\"fat_subcutaneous\",\"lung\",\"heart\",\"skin\",\"muscle\",\"peritoneum\",\"major_vein\",\"kidney_with_Gerotas_fascia\",\"background\"],\"x\":[\"isolation_zero\",\"isolation_zero\",\"isolation_zero\",\"isolation_zero\",\"isolation_zero\",\"isolation_zero\",\"isolation_zero\",\"isolation_zero\",\"isolation_zero\",\"isolation_zero\",\"isolation_zero\",\"isolation_zero\",\"isolation_zero\",\"isolation_zero\",\"isolation_zero\",\"isolation_zero\",\"isolation_zero\",\"isolation_zero\",\"isolation_zero\"],\"y\":[0.17987117923167803,0.34097205521659435,0.5481535218479615,0.6349720895028615,0.0033950954775414494,0.26606872961671363,0.07993366738459667,0.19053788585189543,0.07965763669201101,0.12588481429485993,0.11879565540014164,0.8944861729921524,0.9345028513409154,0.6350353964644262,0.00702496262739143,0.5764068659740301,0.017266744096012386,0.0016159955979118891,0.9772178533525299],\"type\":\"box\",\"xaxis\":\"x2\",\"yaxis\":\"y2\"},{\"boxmean\":true,\"boxpoints\":\"all\",\"legendgroup\":\"organ_transplantation\",\"marker\":{\"color\":\"#A39F5D\"},\"name\":\"Organ Transplantation\",\"offsetgroup\":\"organ_transplantation\",\"showlegend\":false,\"text\":[\"stomach\",\"small_bowel\",\"colon\",\"liver\",\"gallbladder\",\"pancreas\",\"kidney\",\"spleen\",\"bladder\",\"omentum\",\"fat_subcutaneous\",\"lung\",\"heart\",\"skin\",\"muscle\",\"peritoneum\",\"major_vein\",\"kidney_with_Gerotas_fascia\",\"background\"],\"x\":[\"isolation_zero\",\"isolation_zero\",\"isolation_zero\",\"isolation_zero\",\"isolation_zero\",\"isolation_zero\",\"isolation_zero\",\"isolation_zero\",\"isolation_zero\",\"isolation_zero\",\"isolation_zero\",\"isolation_zero\",\"isolation_zero\",\"isolation_zero\",\"isolation_zero\",\"isolation_zero\",\"isolation_zero\",\"isolation_zero\",\"isolation_zero\"],\"y\":[0.7209428883023167,0.8250496404046892,0.8752257506078779,0.7118643137778478,0.007779665981593784,0.9878332879830841,0.7874821424488584,0.22440591581489777,0.08826439585658916,0.9716971210990291,0.6493964645023473,0.7992205282945043,0.9751763980101663,0.8131101742802122,0.33325260831815967,0.6909482874381481,0.19927646860794157,0.1555476906065448,0.9934194153611704],\"type\":\"box\",\"xaxis\":\"x2\",\"yaxis\":\"y2\"},{\"boxmean\":true,\"boxpoints\":\"all\",\"legendgroup\":\"baseline\",\"marker\":{\"color\":\"#508587\"},\"name\":\"Baseline\",\"offsetgroup\":\"baseline\",\"showlegend\":false,\"text\":[\"stomach\",\"small_bowel\",\"colon\",\"liver\",\"gallbladder\",\"pancreas\",\"kidney\",\"spleen\",\"bladder\",\"omentum\",\"fat_subcutaneous\",\"lung\",\"heart\",\"skin\",\"muscle\",\"peritoneum\",\"major_vein\",\"kidney_with_Gerotas_fascia\",\"background\"],\"x\":[\"isolation_bgr\",\"isolation_bgr\",\"isolation_bgr\",\"isolation_bgr\",\"isolation_bgr\",\"isolation_bgr\",\"isolation_bgr\",\"isolation_bgr\",\"isolation_bgr\",\"isolation_bgr\",\"isolation_bgr\",\"isolation_bgr\",\"isolation_bgr\",\"isolation_bgr\",\"isolation_bgr\",\"isolation_bgr\",\"isolation_bgr\",\"isolation_bgr\",\"isolation_bgr\"],\"y\":[0.07796995416644993,0.9028829948711486,0.8090704094012604,0.9509484927370861,0.02212694338763477,0.14137711281125956,0.2645318185645927,0.22408184061039849,0.50130215982995,0.10058418729819665,0.6785717662588564,0.8618183513115625,0.7677790445462399,0.6089353828303554,0.12535279879423228,0.6216179983514787,0.15274723894360415,0.11014360496241529,0.9888303067300022],\"type\":\"box\",\"xaxis\":\"x2\",\"yaxis\":\"y2\"},{\"boxmean\":true,\"boxpoints\":\"all\",\"legendgroup\":\"organ_transplantation\",\"marker\":{\"color\":\"#A39F5D\"},\"name\":\"Organ Transplantation\",\"offsetgroup\":\"organ_transplantation\",\"showlegend\":false,\"text\":[\"stomach\",\"small_bowel\",\"colon\",\"liver\",\"gallbladder\",\"pancreas\",\"kidney\",\"spleen\",\"bladder\",\"omentum\",\"fat_subcutaneous\",\"lung\",\"heart\",\"skin\",\"muscle\",\"peritoneum\",\"major_vein\",\"kidney_with_Gerotas_fascia\",\"background\"],\"x\":[\"isolation_bgr\",\"isolation_bgr\",\"isolation_bgr\",\"isolation_bgr\",\"isolation_bgr\",\"isolation_bgr\",\"isolation_bgr\",\"isolation_bgr\",\"isolation_bgr\",\"isolation_bgr\",\"isolation_bgr\",\"isolation_bgr\",\"isolation_bgr\",\"isolation_bgr\",\"isolation_bgr\",\"isolation_bgr\",\"isolation_bgr\",\"isolation_bgr\",\"isolation_bgr\"],\"y\":[0.7878378536357735,0.9649898746912507,0.9737560430636888,0.8634904934736956,0.4306993418901919,0.9865595153848689,0.7947348416505394,0.8014445239603384,0.7522967534963775,0.8523367230318165,0.8130102932369722,0.801008740852473,0.9867365001335241,0.8697553913625864,0.7690609185024796,0.7608493745377287,0.940125857133639,0.7787495759638123,0.9926904944286482],\"type\":\"box\",\"xaxis\":\"x2\",\"yaxis\":\"y2\"},{\"boxmean\":true,\"boxpoints\":\"all\",\"legendgroup\":\"baseline\",\"marker\":{\"color\":\"#508587\"},\"name\":\"Baseline\",\"offsetgroup\":\"baseline\",\"showlegend\":false,\"text\":[\"stomach\",\"small_bowel\",\"colon\",\"liver\",\"gallbladder\",\"pancreas\",\"kidney\",\"spleen\",\"bladder\",\"omentum\",\"lung\",\"heart\",\"skin\",\"muscle\",\"peritoneum\",\"major_vein\",\"kidney_with_Gerotas_fascia\",\"background\"],\"x\":[\"isolation_real\",\"isolation_real\",\"isolation_real\",\"isolation_real\",\"isolation_real\",\"isolation_real\",\"isolation_real\",\"isolation_real\",\"isolation_real\",\"isolation_real\",\"isolation_real\",\"isolation_real\",\"isolation_real\",\"isolation_real\",\"isolation_real\",\"isolation_real\",\"isolation_real\",\"isolation_real\"],\"y\":[0.36724504022796906,0.8596543358443712,0.978682076566213,0.39099836554512196,0.10906786472035244,0.010948905109489052,0.4102516947357771,0.027790977477110252,0.5383530916483059,0.0,0.9701390667880805,0.9113313627390734,0.6568186135399244,0.11857779420552161,0.6622220005983843,0.25969998859917864,0.3178022269353128,0.9677068708334912],\"type\":\"box\",\"xaxis\":\"x2\",\"yaxis\":\"y2\"},{\"boxmean\":true,\"boxpoints\":\"all\",\"legendgroup\":\"organ_transplantation\",\"marker\":{\"color\":\"#A39F5D\"},\"name\":\"Organ Transplantation\",\"offsetgroup\":\"organ_transplantation\",\"showlegend\":false,\"text\":[\"stomach\",\"small_bowel\",\"colon\",\"liver\",\"gallbladder\",\"pancreas\",\"kidney\",\"spleen\",\"bladder\",\"omentum\",\"lung\",\"heart\",\"skin\",\"muscle\",\"peritoneum\",\"major_vein\",\"kidney_with_Gerotas_fascia\",\"background\"],\"x\":[\"isolation_real\",\"isolation_real\",\"isolation_real\",\"isolation_real\",\"isolation_real\",\"isolation_real\",\"isolation_real\",\"isolation_real\",\"isolation_real\",\"isolation_real\",\"isolation_real\",\"isolation_real\",\"isolation_real\",\"isolation_real\",\"isolation_real\",\"isolation_real\",\"isolation_real\",\"isolation_real\"],\"y\":[0.8247854957381291,0.9287946873466068,0.9929824561403509,0.42640621239418985,0.22790813513550265,0.8513490605504141,0.803293304981367,0.5928635885567753,0.7557106370365926,1.0,0.9896678713637855,0.9965986394557823,0.9759473456444251,0.10153037916857012,0.9042863595302619,0.43361711177562384,0.48398617642182656,0.9683343813659095],\"type\":\"box\",\"xaxis\":\"x2\",\"yaxis\":\"y2\"},{\"boxmean\":true,\"boxpoints\":\"all\",\"legendgroup\":\"baseline\",\"marker\":{\"color\":\"#508587\"},\"name\":\"Baseline\",\"offsetgroup\":\"baseline\",\"showlegend\":false,\"text\":[\"stomach\",\"small_bowel\",\"colon\",\"liver\",\"gallbladder\",\"pancreas\",\"kidney\",\"spleen\",\"bladder\",\"omentum\",\"fat_subcutaneous\",\"lung\",\"heart\",\"skin\",\"muscle\",\"peritoneum\",\"major_vein\",\"kidney_with_Gerotas_fascia\",\"background\"],\"x\":[\"removal_zero\",\"removal_zero\",\"removal_zero\",\"removal_zero\",\"removal_zero\",\"removal_zero\",\"removal_zero\",\"removal_zero\",\"removal_zero\",\"removal_zero\",\"removal_zero\",\"removal_zero\",\"removal_zero\",\"removal_zero\",\"removal_zero\",\"removal_zero\",\"removal_zero\",\"removal_zero\",\"removal_zero\"],\"y\":[0.35648297676004187,0.5610291539285266,0.6391333202586115,0.40646930125340985,0.06179891769078695,0.38594405853011554,0.27964699489890804,0.23215265223698506,0.06460922521198784,0.5317046526335265,0.3265958303029264,0.5308898847756517,0.7392476423910508,0.6567618577781482,0.23160673754043132,0.4741104304241517,0.42131555252743647,0.03407894769330679,0.8290598554935988],\"type\":\"box\",\"xaxis\":\"x2\",\"yaxis\":\"y2\"},{\"boxmean\":true,\"boxpoints\":\"all\",\"legendgroup\":\"organ_transplantation\",\"marker\":{\"color\":\"#A39F5D\"},\"name\":\"Organ Transplantation\",\"offsetgroup\":\"organ_transplantation\",\"showlegend\":false,\"text\":[\"stomach\",\"small_bowel\",\"colon\",\"liver\",\"gallbladder\",\"pancreas\",\"kidney\",\"spleen\",\"bladder\",\"omentum\",\"fat_subcutaneous\",\"lung\",\"heart\",\"skin\",\"muscle\",\"peritoneum\",\"major_vein\",\"kidney_with_Gerotas_fascia\",\"background\"],\"x\":[\"removal_zero\",\"removal_zero\",\"removal_zero\",\"removal_zero\",\"removal_zero\",\"removal_zero\",\"removal_zero\",\"removal_zero\",\"removal_zero\",\"removal_zero\",\"removal_zero\",\"removal_zero\",\"removal_zero\",\"removal_zero\",\"removal_zero\",\"removal_zero\",\"removal_zero\",\"removal_zero\",\"removal_zero\"],\"y\":[0.5809052688212969,0.7244717387405689,0.8213803072066934,0.5426242579062093,0.1934017013187939,0.5566523170810719,0.5403948468647946,0.43774220038938805,0.2019677515598516,0.633300890092009,0.6115979802789049,0.6388377125634036,0.8456895119014352,0.7653628907823006,0.4369567041069986,0.6736529969750793,0.6010264510893204,0.26092171518586665,0.828874731438615],\"type\":\"box\",\"xaxis\":\"x2\",\"yaxis\":\"y2\"},{\"boxmean\":true,\"boxpoints\":\"all\",\"legendgroup\":\"baseline\",\"marker\":{\"color\":\"#508587\"},\"name\":\"Baseline\",\"offsetgroup\":\"baseline\",\"showlegend\":false,\"text\":[\"stomach\",\"small_bowel\",\"colon\",\"liver\",\"gallbladder\",\"pancreas\",\"kidney\",\"spleen\",\"bladder\",\"omentum\",\"fat_subcutaneous\",\"lung\",\"heart\",\"skin\",\"muscle\",\"peritoneum\",\"major_vein\",\"kidney_with_Gerotas_fascia\",\"background\"],\"x\":[\"removal_bgr\",\"removal_bgr\",\"removal_bgr\",\"removal_bgr\",\"removal_bgr\",\"removal_bgr\",\"removal_bgr\",\"removal_bgr\",\"removal_bgr\",\"removal_bgr\",\"removal_bgr\",\"removal_bgr\",\"removal_bgr\",\"removal_bgr\",\"removal_bgr\",\"removal_bgr\",\"removal_bgr\",\"removal_bgr\",\"removal_bgr\"],\"y\":[0.5215691868150136,0.6878575749290684,0.7371450684524953,0.498013677784985,0.055406259072857136,0.7863203323240735,0.33113058440163096,0.3945680003097491,0.23148599614543758,0.589342335625345,0.5508432206581537,0.6252942673933097,0.7200692023320175,0.6791844082426495,0.35851510060294545,0.5382684713199621,0.2520998973669552,0.09356238468828844,0.8564441933224247],\"type\":\"box\",\"xaxis\":\"x2\",\"yaxis\":\"y2\"},{\"boxmean\":true,\"boxpoints\":\"all\",\"legendgroup\":\"organ_transplantation\",\"marker\":{\"color\":\"#A39F5D\"},\"name\":\"Organ Transplantation\",\"offsetgroup\":\"organ_transplantation\",\"showlegend\":false,\"text\":[\"stomach\",\"small_bowel\",\"colon\",\"liver\",\"gallbladder\",\"pancreas\",\"kidney\",\"spleen\",\"bladder\",\"omentum\",\"fat_subcutaneous\",\"lung\",\"heart\",\"skin\",\"muscle\",\"peritoneum\",\"major_vein\",\"kidney_with_Gerotas_fascia\",\"background\"],\"x\":[\"removal_bgr\",\"removal_bgr\",\"removal_bgr\",\"removal_bgr\",\"removal_bgr\",\"removal_bgr\",\"removal_bgr\",\"removal_bgr\",\"removal_bgr\",\"removal_bgr\",\"removal_bgr\",\"removal_bgr\",\"removal_bgr\",\"removal_bgr\",\"removal_bgr\",\"removal_bgr\",\"removal_bgr\",\"removal_bgr\",\"removal_bgr\"],\"y\":[0.6634952039797184,0.7685605846288277,0.8830298850573352,0.6151246507078529,0.292458747666877,0.9003126075980497,0.6063613127214567,0.5665403097551467,0.524375320400194,0.677449026721762,0.5982350073087207,0.7115806525439065,0.842153226628583,0.8153340654615162,0.5672743627593273,0.6737089595987178,0.9401330064103113,0.4423305700012321,0.8792106519305335],\"type\":\"box\",\"xaxis\":\"x2\",\"yaxis\":\"y2\"},{\"boxmean\":true,\"boxpoints\":\"all\",\"legendgroup\":\"baseline\",\"marker\":{\"color\":\"#508587\"},\"name\":\"Baseline\",\"offsetgroup\":\"baseline\",\"showlegend\":false,\"text\":[\"stomach\",\"small_bowel\",\"colon\",\"liver\",\"gallbladder\",\"kidney\",\"spleen\",\"bladder\",\"omentum\",\"fat_subcutaneous\",\"lung\",\"heart\",\"skin\",\"muscle\",\"peritoneum\",\"background\"],\"x\":[\"no-occlusion\",\"no-occlusion\",\"no-occlusion\",\"no-occlusion\",\"no-occlusion\",\"no-occlusion\",\"no-occlusion\",\"no-occlusion\",\"no-occlusion\",\"no-occlusion\",\"no-occlusion\",\"no-occlusion\",\"no-occlusion\",\"no-occlusion\",\"no-occlusion\",\"no-occlusion\"],\"y\":[0.8010240560117856,0.7817817628084377,0.9053828502246795,0.5673695851156861,0.22296474877191594,0.0,0.6134617837226697,0.4772215847954471,0.8261680967591166,0.537035862487473,0.6819158660510939,0.8769524309470045,0.9437739871742851,0.4738860363616776,0.8850863978424051,0.9162776467918551],\"type\":\"box\",\"xaxis\":\"x2\",\"yaxis\":\"y2\"},{\"boxmean\":true,\"boxpoints\":\"all\",\"legendgroup\":\"organ_transplantation\",\"marker\":{\"color\":\"#A39F5D\"},\"name\":\"Organ Transplantation\",\"offsetgroup\":\"organ_transplantation\",\"showlegend\":false,\"text\":[\"stomach\",\"small_bowel\",\"colon\",\"liver\",\"gallbladder\",\"kidney\",\"spleen\",\"bladder\",\"omentum\",\"fat_subcutaneous\",\"lung\",\"heart\",\"skin\",\"muscle\",\"peritoneum\",\"background\"],\"x\":[\"no-occlusion\",\"no-occlusion\",\"no-occlusion\",\"no-occlusion\",\"no-occlusion\",\"no-occlusion\",\"no-occlusion\",\"no-occlusion\",\"no-occlusion\",\"no-occlusion\",\"no-occlusion\",\"no-occlusion\",\"no-occlusion\",\"no-occlusion\",\"no-occlusion\",\"no-occlusion\"],\"y\":[0.8629999061488434,0.7899693590464854,0.9259225713570458,0.5880965248955937,0.3149349799776348,0.47692307692307695,0.6358542031196298,0.5667036787943094,0.8064223879941819,0.5840421668634874,0.7062154873232482,0.8831215145487441,0.9394208099936097,0.5609244993505121,0.8315237437233081,0.9173937896661422],\"type\":\"box\",\"xaxis\":\"x2\",\"yaxis\":\"y2\"},{\"boxmean\":true,\"boxpoints\":\"all\",\"legendgroup\":\"baseline\",\"marker\":{\"color\":\"#508587\"},\"name\":\"Baseline\",\"offsetgroup\":\"baseline\",\"showlegend\":false,\"text\":[\"stomach\",\"small_bowel\",\"colon\",\"liver\",\"gallbladder\",\"pancreas\",\"kidney\",\"spleen\",\"bladder\",\"omentum\",\"fat_subcutaneous\",\"lung\",\"heart\",\"skin\",\"muscle\",\"peritoneum\",\"major_vein\",\"kidney_with_Gerotas_fascia\",\"background\"],\"x\":[\"occlusion\",\"occlusion\",\"occlusion\",\"occlusion\",\"occlusion\",\"occlusion\",\"occlusion\",\"occlusion\",\"occlusion\",\"occlusion\",\"occlusion\",\"occlusion\",\"occlusion\",\"occlusion\",\"occlusion\",\"occlusion\",\"occlusion\",\"occlusion\",\"occlusion\"],\"y\":[0.3043331367740207,0.6644326481205949,0.6760711229895385,0.43403284214774845,0.20926421455324115,0.5529708928779575,0.5276895941423463,0.3501849670047752,0.4690986900606245,0.3339650619326802,0.6862815848793844,0.8049718396161152,0.9374268259540485,0.5931933176965334,0.500927200792606,0.632740907239214,0.6847536946124502,0.3409883010479252,0.7769153534781866],\"type\":\"box\",\"xaxis\":\"x2\",\"yaxis\":\"y2\"},{\"boxmean\":true,\"boxpoints\":\"all\",\"legendgroup\":\"organ_transplantation\",\"marker\":{\"color\":\"#A39F5D\"},\"name\":\"Organ Transplantation\",\"offsetgroup\":\"organ_transplantation\",\"showlegend\":false,\"text\":[\"stomach\",\"small_bowel\",\"colon\",\"liver\",\"gallbladder\",\"pancreas\",\"kidney\",\"spleen\",\"bladder\",\"omentum\",\"fat_subcutaneous\",\"lung\",\"heart\",\"skin\",\"muscle\",\"peritoneum\",\"major_vein\",\"kidney_with_Gerotas_fascia\",\"background\"],\"x\":[\"occlusion\",\"occlusion\",\"occlusion\",\"occlusion\",\"occlusion\",\"occlusion\",\"occlusion\",\"occlusion\",\"occlusion\",\"occlusion\",\"occlusion\",\"occlusion\",\"occlusion\",\"occlusion\",\"occlusion\",\"occlusion\",\"occlusion\",\"occlusion\",\"occlusion\"],\"y\":[0.37631891575771137,0.7225336313986817,0.7315641249627614,0.48207100829142074,0.3511276793470497,0.6722012083588377,0.6203812859045112,0.482067751332715,0.5296655018964141,0.4687762676916834,0.7826320685796077,0.8742021195603711,0.9632391512741052,0.6203413042314825,0.6309403628555471,0.5974434290712963,0.9005348819617882,0.46930190217399015,0.8007032421248998],\"type\":\"box\",\"xaxis\":\"x2\",\"yaxis\":\"y2\"}],                        {\"template\":{\"data\":{\"barpolar\":[{\"marker\":{\"line\":{\"color\":\"white\",\"width\":0.5},\"pattern\":{\"fillmode\":\"overlay\",\"size\":10,\"solidity\":0.2}},\"type\":\"barpolar\"}],\"bar\":[{\"error_x\":{\"color\":\"#2a3f5f\"},\"error_y\":{\"color\":\"#2a3f5f\"},\"marker\":{\"line\":{\"color\":\"white\",\"width\":0.5},\"pattern\":{\"fillmode\":\"overlay\",\"size\":10,\"solidity\":0.2}},\"type\":\"bar\"}],\"carpet\":[{\"aaxis\":{\"endlinecolor\":\"#2a3f5f\",\"gridcolor\":\"#C8D4E3\",\"linecolor\":\"#C8D4E3\",\"minorgridcolor\":\"#C8D4E3\",\"startlinecolor\":\"#2a3f5f\"},\"baxis\":{\"endlinecolor\":\"#2a3f5f\",\"gridcolor\":\"#C8D4E3\",\"linecolor\":\"#C8D4E3\",\"minorgridcolor\":\"#C8D4E3\",\"startlinecolor\":\"#2a3f5f\"},\"type\":\"carpet\"}],\"choropleth\":[{\"colorbar\":{\"outlinewidth\":0,\"ticks\":\"\"},\"type\":\"choropleth\"}],\"contourcarpet\":[{\"colorbar\":{\"outlinewidth\":0,\"ticks\":\"\"},\"type\":\"contourcarpet\"}],\"contour\":[{\"colorbar\":{\"outlinewidth\":0,\"ticks\":\"\"},\"colorscale\":[[0.0,\"#0d0887\"],[0.1111111111111111,\"#46039f\"],[0.2222222222222222,\"#7201a8\"],[0.3333333333333333,\"#9c179e\"],[0.4444444444444444,\"#bd3786\"],[0.5555555555555556,\"#d8576b\"],[0.6666666666666666,\"#ed7953\"],[0.7777777777777778,\"#fb9f3a\"],[0.8888888888888888,\"#fdca26\"],[1.0,\"#f0f921\"]],\"type\":\"contour\"}],\"heatmapgl\":[{\"colorbar\":{\"outlinewidth\":0,\"ticks\":\"\"},\"colorscale\":[[0.0,\"#0d0887\"],[0.1111111111111111,\"#46039f\"],[0.2222222222222222,\"#7201a8\"],[0.3333333333333333,\"#9c179e\"],[0.4444444444444444,\"#bd3786\"],[0.5555555555555556,\"#d8576b\"],[0.6666666666666666,\"#ed7953\"],[0.7777777777777778,\"#fb9f3a\"],[0.8888888888888888,\"#fdca26\"],[1.0,\"#f0f921\"]],\"type\":\"heatmapgl\"}],\"heatmap\":[{\"colorbar\":{\"outlinewidth\":0,\"ticks\":\"\"},\"colorscale\":[[0.0,\"#0d0887\"],[0.1111111111111111,\"#46039f\"],[0.2222222222222222,\"#7201a8\"],[0.3333333333333333,\"#9c179e\"],[0.4444444444444444,\"#bd3786\"],[0.5555555555555556,\"#d8576b\"],[0.6666666666666666,\"#ed7953\"],[0.7777777777777778,\"#fb9f3a\"],[0.8888888888888888,\"#fdca26\"],[1.0,\"#f0f921\"]],\"type\":\"heatmap\"}],\"histogram2dcontour\":[{\"colorbar\":{\"outlinewidth\":0,\"ticks\":\"\"},\"colorscale\":[[0.0,\"#0d0887\"],[0.1111111111111111,\"#46039f\"],[0.2222222222222222,\"#7201a8\"],[0.3333333333333333,\"#9c179e\"],[0.4444444444444444,\"#bd3786\"],[0.5555555555555556,\"#d8576b\"],[0.6666666666666666,\"#ed7953\"],[0.7777777777777778,\"#fb9f3a\"],[0.8888888888888888,\"#fdca26\"],[1.0,\"#f0f921\"]],\"type\":\"histogram2dcontour\"}],\"histogram2d\":[{\"colorbar\":{\"outlinewidth\":0,\"ticks\":\"\"},\"colorscale\":[[0.0,\"#0d0887\"],[0.1111111111111111,\"#46039f\"],[0.2222222222222222,\"#7201a8\"],[0.3333333333333333,\"#9c179e\"],[0.4444444444444444,\"#bd3786\"],[0.5555555555555556,\"#d8576b\"],[0.6666666666666666,\"#ed7953\"],[0.7777777777777778,\"#fb9f3a\"],[0.8888888888888888,\"#fdca26\"],[1.0,\"#f0f921\"]],\"type\":\"histogram2d\"}],\"histogram\":[{\"marker\":{\"pattern\":{\"fillmode\":\"overlay\",\"size\":10,\"solidity\":0.2}},\"type\":\"histogram\"}],\"mesh3d\":[{\"colorbar\":{\"outlinewidth\":0,\"ticks\":\"\"},\"type\":\"mesh3d\"}],\"parcoords\":[{\"line\":{\"colorbar\":{\"outlinewidth\":0,\"ticks\":\"\"}},\"type\":\"parcoords\"}],\"pie\":[{\"automargin\":true,\"type\":\"pie\"}],\"scatter3d\":[{\"line\":{\"colorbar\":{\"outlinewidth\":0,\"ticks\":\"\"}},\"marker\":{\"colorbar\":{\"outlinewidth\":0,\"ticks\":\"\"}},\"type\":\"scatter3d\"}],\"scattercarpet\":[{\"marker\":{\"colorbar\":{\"outlinewidth\":0,\"ticks\":\"\"}},\"type\":\"scattercarpet\"}],\"scattergeo\":[{\"marker\":{\"colorbar\":{\"outlinewidth\":0,\"ticks\":\"\"}},\"type\":\"scattergeo\"}],\"scattergl\":[{\"marker\":{\"colorbar\":{\"outlinewidth\":0,\"ticks\":\"\"}},\"type\":\"scattergl\"}],\"scattermapbox\":[{\"marker\":{\"colorbar\":{\"outlinewidth\":0,\"ticks\":\"\"}},\"type\":\"scattermapbox\"}],\"scatterpolargl\":[{\"marker\":{\"colorbar\":{\"outlinewidth\":0,\"ticks\":\"\"}},\"type\":\"scatterpolargl\"}],\"scatterpolar\":[{\"marker\":{\"colorbar\":{\"outlinewidth\":0,\"ticks\":\"\"}},\"type\":\"scatterpolar\"}],\"scatter\":[{\"fillpattern\":{\"fillmode\":\"overlay\",\"size\":10,\"solidity\":0.2},\"type\":\"scatter\"}],\"scatterternary\":[{\"marker\":{\"colorbar\":{\"outlinewidth\":0,\"ticks\":\"\"}},\"type\":\"scatterternary\"}],\"surface\":[{\"colorbar\":{\"outlinewidth\":0,\"ticks\":\"\"},\"colorscale\":[[0.0,\"#0d0887\"],[0.1111111111111111,\"#46039f\"],[0.2222222222222222,\"#7201a8\"],[0.3333333333333333,\"#9c179e\"],[0.4444444444444444,\"#bd3786\"],[0.5555555555555556,\"#d8576b\"],[0.6666666666666666,\"#ed7953\"],[0.7777777777777778,\"#fb9f3a\"],[0.8888888888888888,\"#fdca26\"],[1.0,\"#f0f921\"]],\"type\":\"surface\"}],\"table\":[{\"cells\":{\"fill\":{\"color\":\"#EBF0F8\"},\"line\":{\"color\":\"white\"}},\"header\":{\"fill\":{\"color\":\"#C8D4E3\"},\"line\":{\"color\":\"white\"}},\"type\":\"table\"}]},\"layout\":{\"annotationdefaults\":{\"arrowcolor\":\"#2a3f5f\",\"arrowhead\":0,\"arrowwidth\":1},\"autotypenumbers\":\"strict\",\"coloraxis\":{\"colorbar\":{\"outlinewidth\":0,\"ticks\":\"\"}},\"colorscale\":{\"diverging\":[[0,\"#8e0152\"],[0.1,\"#c51b7d\"],[0.2,\"#de77ae\"],[0.3,\"#f1b6da\"],[0.4,\"#fde0ef\"],[0.5,\"#f7f7f7\"],[0.6,\"#e6f5d0\"],[0.7,\"#b8e186\"],[0.8,\"#7fbc41\"],[0.9,\"#4d9221\"],[1,\"#276419\"]],\"sequential\":[[0.0,\"#0d0887\"],[0.1111111111111111,\"#46039f\"],[0.2222222222222222,\"#7201a8\"],[0.3333333333333333,\"#9c179e\"],[0.4444444444444444,\"#bd3786\"],[0.5555555555555556,\"#d8576b\"],[0.6666666666666666,\"#ed7953\"],[0.7777777777777778,\"#fb9f3a\"],[0.8888888888888888,\"#fdca26\"],[1.0,\"#f0f921\"]],\"sequentialminus\":[[0.0,\"#0d0887\"],[0.1111111111111111,\"#46039f\"],[0.2222222222222222,\"#7201a8\"],[0.3333333333333333,\"#9c179e\"],[0.4444444444444444,\"#bd3786\"],[0.5555555555555556,\"#d8576b\"],[0.6666666666666666,\"#ed7953\"],[0.7777777777777778,\"#fb9f3a\"],[0.8888888888888888,\"#fdca26\"],[1.0,\"#f0f921\"]]},\"colorway\":[\"#636efa\",\"#EF553B\",\"#00cc96\",\"#ab63fa\",\"#FFA15A\",\"#19d3f3\",\"#FF6692\",\"#B6E880\",\"#FF97FF\",\"#FECB52\"],\"font\":{\"color\":\"#2a3f5f\"},\"geo\":{\"bgcolor\":\"white\",\"lakecolor\":\"white\",\"landcolor\":\"white\",\"showlakes\":true,\"showland\":true,\"subunitcolor\":\"#C8D4E3\"},\"hoverlabel\":{\"align\":\"left\"},\"hovermode\":\"closest\",\"mapbox\":{\"style\":\"light\"},\"paper_bgcolor\":\"white\",\"plot_bgcolor\":\"white\",\"polar\":{\"angularaxis\":{\"gridcolor\":\"#EBF0F8\",\"linecolor\":\"#EBF0F8\",\"ticks\":\"\"},\"bgcolor\":\"white\",\"radialaxis\":{\"gridcolor\":\"#EBF0F8\",\"linecolor\":\"#EBF0F8\",\"ticks\":\"\"}},\"scene\":{\"xaxis\":{\"backgroundcolor\":\"white\",\"gridcolor\":\"#DFE8F3\",\"gridwidth\":2,\"linecolor\":\"#EBF0F8\",\"showbackground\":true,\"ticks\":\"\",\"zerolinecolor\":\"#EBF0F8\"},\"yaxis\":{\"backgroundcolor\":\"white\",\"gridcolor\":\"#DFE8F3\",\"gridwidth\":2,\"linecolor\":\"#EBF0F8\",\"showbackground\":true,\"ticks\":\"\",\"zerolinecolor\":\"#EBF0F8\"},\"zaxis\":{\"backgroundcolor\":\"white\",\"gridcolor\":\"#DFE8F3\",\"gridwidth\":2,\"linecolor\":\"#EBF0F8\",\"showbackground\":true,\"ticks\":\"\",\"zerolinecolor\":\"#EBF0F8\"}},\"shapedefaults\":{\"line\":{\"color\":\"#2a3f5f\"}},\"ternary\":{\"aaxis\":{\"gridcolor\":\"#DFE8F3\",\"linecolor\":\"#A2B1C6\",\"ticks\":\"\"},\"baxis\":{\"gridcolor\":\"#DFE8F3\",\"linecolor\":\"#A2B1C6\",\"ticks\":\"\"},\"bgcolor\":\"white\",\"caxis\":{\"gridcolor\":\"#DFE8F3\",\"linecolor\":\"#A2B1C6\",\"ticks\":\"\"}},\"title\":{\"x\":0.05},\"xaxis\":{\"automargin\":true,\"gridcolor\":\"#EBF0F8\",\"linecolor\":\"#EBF0F8\",\"ticks\":\"\",\"title\":{\"standoff\":15},\"zerolinecolor\":\"#EBF0F8\",\"zerolinewidth\":2},\"yaxis\":{\"automargin\":true,\"gridcolor\":\"#EBF0F8\",\"linecolor\":\"#EBF0F8\",\"ticks\":\"\",\"title\":{\"standoff\":15},\"zerolinecolor\":\"#EBF0F8\",\"zerolinewidth\":2}}},\"xaxis\":{\"anchor\":\"y\",\"domain\":[0.0,1.0],\"matches\":\"x2\",\"showticklabels\":false,\"tickfont\":{\"size\":16},\"autorangeoptions\":{\"minallowed\":-0.52,\"maxallowed\":7.4},\"range\":[-0.52,7.4]},\"yaxis\":{\"anchor\":\"x\",\"domain\":[0.5349999999999999,0.9999999999999999],\"title\":{\"text\":\"NSD\"},\"tickfont\":{\"size\":16},\"range\":[-0.05,1.05]},\"xaxis2\":{\"anchor\":\"y2\",\"domain\":[0.0,1.0],\"tickfont\":{\"size\":16}},\"yaxis2\":{\"anchor\":\"x2\",\"domain\":[0.0,0.46499999999999997],\"title\":{\"text\":\"NSD\"},\"tickfont\":{\"size\":16}},\"annotations\":[{\"font\":{\"size\":20},\"showarrow\":false,\"text\":\"\\u003cb\\u003eHSI\\u003c\\u002fb\\u003e\",\"x\":0,\"xanchor\":\"left\",\"xref\":\"paper\",\"y\":0.9999999999999999,\"yanchor\":\"bottom\",\"yref\":\"paper\"},{\"font\":{\"size\":20},\"showarrow\":false,\"text\":\"\\u003cb\\u003eRGB\\u003c\\u002fb\\u003e\",\"x\":0,\"xanchor\":\"left\",\"xref\":\"paper\",\"y\":0.46499999999999997,\"yanchor\":\"bottom\",\"yref\":\"paper\"}],\"boxmode\":\"group\",\"boxgap\":0.2,\"boxgroupgap\":0.4,\"legend\":{\"orientation\":\"h\",\"yanchor\":\"bottom\",\"y\":1.01,\"xanchor\":\"center\",\"x\":0.5},\"font\":{\"family\":\"Libertinus Serif\",\"size\":20},\"margin\":{\"l\":0,\"r\":0,\"b\":0,\"t\":0},\"height\":510,\"width\":1000},                        {\"responsive\": true}                    ).then(function(){\n",
       "                            \n",
       "var gd = document.getElementById('5594aa6b-342f-4d0a-ba5e-4842fab428f7');\n",
       "var x = new MutationObserver(function (mutations, observer) {{\n",
       "        var display = window.getComputedStyle(gd).display;\n",
       "        if (!display || display === 'none') {{\n",
       "            console.log([gd, 'removed!']);\n",
       "            Plotly.purge(gd);\n",
       "            observer.disconnect();\n",
       "        }}\n",
       "}});\n",
       "\n",
       "// Listen for the removal of the full notebook cells\n",
       "var notebookContainer = gd.closest('#notebook-container');\n",
       "if (notebookContainer) {{\n",
       "    x.observe(notebookContainer, {childList: true});\n",
       "}}\n",
       "\n",
       "// Listen for the clearing of the current output cell\n",
       "var outputEl = gd.closest('.output');\n",
       "if (outputEl) {{\n",
       "    x.observe(outputEl, {childList: true});\n",
       "}}\n",
       "\n",
       "                        })                };                });            </script>        </div>"
      ]
     },
     "metadata": {},
     "output_type": "display_data"
    }
   ],
   "source": [
    "fig = dataset_comparison(settings_seg.nsd_aggregation_short)\n",
    "fig.update_yaxes(title=\"NSD\")\n",
    "fig.write_image(settings_context.paper_dir / \"task_performance_NSD.pdf\")\n",
    "fig"
   ]
  },
  {
   "cell_type": "code",
   "execution_count": 5,
   "id": "0927ccbd-d389-4d82-864d-7a80d518ca45",
   "metadata": {},
   "outputs": [
    {
     "data": {
      "application/vnd.plotly.v1+json": {
       "config": {
        "plotlyServerURL": "https://plot.ly"
       },
       "data": [
        {
         "boxmean": true,
         "boxpoints": "all",
         "legendgroup": "baseline",
         "marker": {
          "color": "#508587"
         },
         "name": "Baseline",
         "offsetgroup": "baseline",
         "showlegend": true,
         "text": [
          "stomach",
          "small_bowel",
          "colon",
          "liver",
          "gallbladder",
          "pancreas",
          "kidney",
          "spleen",
          "bladder",
          "omentum",
          "fat_subcutaneous",
          "lung",
          "heart",
          "skin",
          "muscle",
          "peritoneum",
          "major_vein",
          "kidney_with_Gerotas_fascia",
          "background"
         ],
         "type": "box",
         "x": [
          "original",
          "original",
          "original",
          "original",
          "original",
          "original",
          "original",
          "original",
          "original",
          "original",
          "original",
          "original",
          "original",
          "original",
          "original",
          "original",
          "original",
          "original",
          "original"
         ],
         "xaxis": "x",
         "y": [
          9.262869913428,
          4.6245764423738365,
          3.1873324620797723,
          3.820705928999188,
          2.863776405183222,
          2.7630902906622925,
          3.8028280995657657,
          1.9448508090314354,
          1.7480276105864512,
          12.904472351825174,
          15.947667140283471,
          10.175563333217578,
          6.1267745678937615,
          9.270148668243484,
          6.431138853117622,
          23.646379543321924,
          6.340545850641007,
          6.782207429722973,
          0.6797213642622651
         ],
         "yaxis": "y"
        },
        {
         "boxmean": true,
         "boxpoints": "all",
         "legendgroup": "organ_transplantation",
         "marker": {
          "color": "#A39F5D"
         },
         "name": "Organ Transplantation",
         "offsetgroup": "organ_transplantation",
         "showlegend": true,
         "text": [
          "stomach",
          "small_bowel",
          "colon",
          "liver",
          "gallbladder",
          "pancreas",
          "kidney",
          "spleen",
          "bladder",
          "omentum",
          "fat_subcutaneous",
          "lung",
          "heart",
          "skin",
          "muscle",
          "peritoneum",
          "major_vein",
          "kidney_with_Gerotas_fascia",
          "background"
         ],
         "type": "box",
         "x": [
          "original",
          "original",
          "original",
          "original",
          "original",
          "original",
          "original",
          "original",
          "original",
          "original",
          "original",
          "original",
          "original",
          "original",
          "original",
          "original",
          "original",
          "original",
          "original"
         ],
         "xaxis": "x",
         "y": [
          8.184947963043893,
          5.097612842368401,
          4.2732123619145055,
          3.330621889287818,
          3.4782776704646285,
          2.373877197860534,
          4.08382998494579,
          2.6571526857174455,
          1.857888076893246,
          10.992310636325755,
          14.304727903772118,
          7.031530289399876,
          6.676767374804534,
          10.683814906865752,
          5.678393892965685,
          24.713185783808317,
          3.801380101048254,
          2.972944583773354,
          0.8344409597677714
         ],
         "yaxis": "y"
        },
        {
         "boxmean": true,
         "boxpoints": "all",
         "legendgroup": "baseline",
         "marker": {
          "color": "#508587"
         },
         "name": "Baseline",
         "offsetgroup": "baseline",
         "showlegend": false,
         "text": [
          "stomach",
          "small_bowel",
          "colon",
          "liver",
          "gallbladder",
          "pancreas",
          "kidney",
          "spleen",
          "bladder",
          "omentum",
          "fat_subcutaneous",
          "lung",
          "heart",
          "skin",
          "muscle",
          "peritoneum",
          "major_vein",
          "kidney_with_Gerotas_fascia",
          "background"
         ],
         "type": "box",
         "x": [
          "isolation_zero",
          "isolation_zero",
          "isolation_zero",
          "isolation_zero",
          "isolation_zero",
          "isolation_zero",
          "isolation_zero",
          "isolation_zero",
          "isolation_zero",
          "isolation_zero",
          "isolation_zero",
          "isolation_zero",
          "isolation_zero",
          "isolation_zero",
          "isolation_zero",
          "isolation_zero",
          "isolation_zero",
          "isolation_zero",
          "isolation_zero"
         ],
         "xaxis": "x",
         "y": [
          67.88734841597318,
          0.45760819612977804,
          17.273128098917077,
          0.775066955465245,
          431.7754690523096,
          8.867710183865958,
          3.3563610334441556,
          10.447477643341177,
          45.23677845918013,
          256.4973243578482,
          6.572276761693312,
          6.098193711264268,
          8.194091549248002,
          37.3290496348751,
          7.898104461695584,
          293.17414112785457,
          521.0255481500865,
          18.255212360264032,
          0.11217810740122873
         ],
         "yaxis": "y"
        },
        {
         "boxmean": true,
         "boxpoints": "all",
         "legendgroup": "organ_transplantation",
         "marker": {
          "color": "#A39F5D"
         },
         "name": "Organ Transplantation",
         "offsetgroup": "organ_transplantation",
         "showlegend": false,
         "text": [
          "stomach",
          "small_bowel",
          "colon",
          "liver",
          "gallbladder",
          "pancreas",
          "kidney",
          "spleen",
          "bladder",
          "omentum",
          "fat_subcutaneous",
          "lung",
          "heart",
          "skin",
          "muscle",
          "peritoneum",
          "major_vein",
          "kidney_with_Gerotas_fascia",
          "background"
         ],
         "type": "box",
         "x": [
          "isolation_zero",
          "isolation_zero",
          "isolation_zero",
          "isolation_zero",
          "isolation_zero",
          "isolation_zero",
          "isolation_zero",
          "isolation_zero",
          "isolation_zero",
          "isolation_zero",
          "isolation_zero",
          "isolation_zero",
          "isolation_zero",
          "isolation_zero",
          "isolation_zero",
          "isolation_zero",
          "isolation_zero",
          "isolation_zero",
          "isolation_zero"
         ],
         "xaxis": "x",
         "y": [
          11.435188202481863,
          0.9766664552476018,
          2.028387007906881,
          0.3535478209122398,
          273.3999721292716,
          1.0102028636884204,
          1.6868835362238523,
          10.102058673904066,
          9.888631721048473,
          17.08298121610373,
          72.11327701282974,
          5.779431032430023,
          0.6261242539521129,
          114.37829645053023,
          10.930518377888465,
          70.72258722543413,
          2.922409533338434,
          9.28408412284409,
          0.06380008774699857
         ],
         "yaxis": "y"
        },
        {
         "boxmean": true,
         "boxpoints": "all",
         "legendgroup": "baseline",
         "marker": {
          "color": "#508587"
         },
         "name": "Baseline",
         "offsetgroup": "baseline",
         "showlegend": false,
         "text": [
          "stomach",
          "small_bowel",
          "colon",
          "liver",
          "gallbladder",
          "pancreas",
          "kidney",
          "spleen",
          "bladder",
          "omentum",
          "fat_subcutaneous",
          "lung",
          "heart",
          "skin",
          "muscle",
          "peritoneum",
          "major_vein",
          "kidney_with_Gerotas_fascia",
          "background"
         ],
         "type": "box",
         "x": [
          "isolation_bgr",
          "isolation_bgr",
          "isolation_bgr",
          "isolation_bgr",
          "isolation_bgr",
          "isolation_bgr",
          "isolation_bgr",
          "isolation_bgr",
          "isolation_bgr",
          "isolation_bgr",
          "isolation_bgr",
          "isolation_bgr",
          "isolation_bgr",
          "isolation_bgr",
          "isolation_bgr",
          "isolation_bgr",
          "isolation_bgr",
          "isolation_bgr",
          "isolation_bgr"
         ],
         "xaxis": "x",
         "y": [
          491.2474671853953,
          11.102441275998709,
          79.00983587730897,
          10.49808870601326,
          446.99719591176944,
          378.526550139542,
          242.51828951570926,
          135.61952639957764,
          41.90990195002697,
          757.149619708767,
          420.790503795075,
          2.0017878687639503,
          1.963438932650342,
          69.35748163688879,
          22.938046703465268,
          142.79533172880235,
          342.25167723201275,
          800,
          0.12462056264172142
         ],
         "yaxis": "y"
        },
        {
         "boxmean": true,
         "boxpoints": "all",
         "legendgroup": "organ_transplantation",
         "marker": {
          "color": "#A39F5D"
         },
         "name": "Organ Transplantation",
         "offsetgroup": "organ_transplantation",
         "showlegend": false,
         "text": [
          "stomach",
          "small_bowel",
          "colon",
          "liver",
          "gallbladder",
          "pancreas",
          "kidney",
          "spleen",
          "bladder",
          "omentum",
          "fat_subcutaneous",
          "lung",
          "heart",
          "skin",
          "muscle",
          "peritoneum",
          "major_vein",
          "kidney_with_Gerotas_fascia",
          "background"
         ],
         "type": "box",
         "x": [
          "isolation_bgr",
          "isolation_bgr",
          "isolation_bgr",
          "isolation_bgr",
          "isolation_bgr",
          "isolation_bgr",
          "isolation_bgr",
          "isolation_bgr",
          "isolation_bgr",
          "isolation_bgr",
          "isolation_bgr",
          "isolation_bgr",
          "isolation_bgr",
          "isolation_bgr",
          "isolation_bgr",
          "isolation_bgr",
          "isolation_bgr",
          "isolation_bgr",
          "isolation_bgr"
         ],
         "xaxis": "x",
         "y": [
          16.809659458485264,
          5.143633039540744,
          0.9576944637195339,
          0.6633845246519994,
          176.68227090634622,
          2.0104230321313508,
          44.91579994270152,
          9.808960952434512,
          0.8202610827553057,
          14.18328108177901,
          1.9393143895141374,
          5.320637037673377,
          0.6952090023594869,
          102.51219373365102,
          5.14271665464347,
          36.09646315844594,
          0.8921497437383645,
          1.005175870554497,
          0.03769138046369535
         ],
         "yaxis": "y"
        },
        {
         "boxmean": true,
         "boxpoints": "all",
         "legendgroup": "baseline",
         "marker": {
          "color": "#508587"
         },
         "name": "Baseline",
         "offsetgroup": "baseline",
         "showlegend": false,
         "text": [
          "stomach",
          "small_bowel",
          "colon",
          "liver",
          "gallbladder",
          "pancreas",
          "kidney",
          "spleen",
          "bladder",
          "omentum",
          "lung",
          "heart",
          "skin",
          "muscle",
          "peritoneum",
          "major_vein",
          "kidney_with_Gerotas_fascia",
          "background"
         ],
         "type": "box",
         "x": [
          "isolation_real",
          "isolation_real",
          "isolation_real",
          "isolation_real",
          "isolation_real",
          "isolation_real",
          "isolation_real",
          "isolation_real",
          "isolation_real",
          "isolation_real",
          "isolation_real",
          "isolation_real",
          "isolation_real",
          "isolation_real",
          "isolation_real",
          "isolation_real",
          "isolation_real",
          "isolation_real"
         ],
         "xaxis": "x",
         "y": [
          31.48856223863811,
          4.517285846893199,
          1.7185188189582494,
          10.098329441516999,
          17.670160739743384,
          21.835148295646885,
          10.482455006480233,
          33.81002059425429,
          36.45654620656542,
          0.23210609509554775,
          1.71534079913119,
          2.2084245775377784,
          4.730414201236658,
          26.79629719133935,
          22.692006850691524,
          21.346634859075984,
          16.35074376011225,
          0.5965098468172988
         ],
         "yaxis": "y"
        },
        {
         "boxmean": true,
         "boxpoints": "all",
         "legendgroup": "organ_transplantation",
         "marker": {
          "color": "#A39F5D"
         },
         "name": "Organ Transplantation",
         "offsetgroup": "organ_transplantation",
         "showlegend": false,
         "text": [
          "stomach",
          "small_bowel",
          "colon",
          "liver",
          "gallbladder",
          "pancreas",
          "kidney",
          "spleen",
          "bladder",
          "omentum",
          "lung",
          "heart",
          "skin",
          "muscle",
          "peritoneum",
          "major_vein",
          "kidney_with_Gerotas_fascia",
          "background"
         ],
         "type": "box",
         "x": [
          "isolation_real",
          "isolation_real",
          "isolation_real",
          "isolation_real",
          "isolation_real",
          "isolation_real",
          "isolation_real",
          "isolation_real",
          "isolation_real",
          "isolation_real",
          "isolation_real",
          "isolation_real",
          "isolation_real",
          "isolation_real",
          "isolation_real",
          "isolation_real",
          "isolation_real",
          "isolation_real"
         ],
         "xaxis": "x",
         "y": [
          12.163608003407553,
          1.8889324912776697,
          3.1342284586860405,
          1.4791817905846498,
          1.7162101592134122,
          10.001782660046349,
          1.0156612444901782,
          2.125854692385809,
          1.2784361591432882,
          3.3998337130598406,
          1.5702878576650776,
          1.4415341802347992,
          1.409189539143363,
          29.75521761549937,
          10.781142882489606,
          1.2903014796338854,
          4.930416755888688,
          0.5962993096237693
         ],
         "yaxis": "y"
        },
        {
         "boxmean": true,
         "boxpoints": "all",
         "legendgroup": "baseline",
         "marker": {
          "color": "#508587"
         },
         "name": "Baseline",
         "offsetgroup": "baseline",
         "showlegend": false,
         "text": [
          "stomach",
          "small_bowel",
          "colon",
          "liver",
          "gallbladder",
          "pancreas",
          "kidney",
          "spleen",
          "bladder",
          "omentum",
          "fat_subcutaneous",
          "lung",
          "heart",
          "skin",
          "muscle",
          "peritoneum",
          "major_vein",
          "kidney_with_Gerotas_fascia",
          "background"
         ],
         "type": "box",
         "x": [
          "removal_zero",
          "removal_zero",
          "removal_zero",
          "removal_zero",
          "removal_zero",
          "removal_zero",
          "removal_zero",
          "removal_zero",
          "removal_zero",
          "removal_zero",
          "removal_zero",
          "removal_zero",
          "removal_zero",
          "removal_zero",
          "removal_zero",
          "removal_zero",
          "removal_zero",
          "removal_zero",
          "removal_zero"
         ],
         "xaxis": "x",
         "y": [
          3.9293971645695223,
          2.402540704669718,
          2.341448209041013,
          1.7057657701714473,
          2.2896830623015116,
          2.0995282871165375,
          2.0478497030633496,
          1.1503822356405344,
          1.7983905587985785,
          6.305166263178074,
          4.033029645963782,
          4.276873201154435,
          3.641375975603683,
          4.308222488745592,
          3.848286394732379,
          11.51056927638695,
          3.6541463609867137,
          6.401284228310507,
          0.6727653435954287
         ],
         "yaxis": "y"
        },
        {
         "boxmean": true,
         "boxpoints": "all",
         "legendgroup": "organ_transplantation",
         "marker": {
          "color": "#A39F5D"
         },
         "name": "Organ Transplantation",
         "offsetgroup": "organ_transplantation",
         "showlegend": false,
         "text": [
          "stomach",
          "small_bowel",
          "colon",
          "liver",
          "gallbladder",
          "pancreas",
          "kidney",
          "spleen",
          "bladder",
          "omentum",
          "fat_subcutaneous",
          "lung",
          "heart",
          "skin",
          "muscle",
          "peritoneum",
          "major_vein",
          "kidney_with_Gerotas_fascia",
          "background"
         ],
         "type": "box",
         "x": [
          "removal_zero",
          "removal_zero",
          "removal_zero",
          "removal_zero",
          "removal_zero",
          "removal_zero",
          "removal_zero",
          "removal_zero",
          "removal_zero",
          "removal_zero",
          "removal_zero",
          "removal_zero",
          "removal_zero",
          "removal_zero",
          "removal_zero",
          "removal_zero",
          "removal_zero",
          "removal_zero",
          "removal_zero"
         ],
         "xaxis": "x",
         "y": [
          4.636723460410344,
          1.9832639596016945,
          1.7306024722187687,
          1.3476151146530448,
          2.0649673201745693,
          1.6055692327491073,
          1.1192935007324945,
          1.415690044961588,
          1.0648307741607728,
          6.5941561957277965,
          3.1261644069319696,
          5.314780373873526,
          1.700715446206819,
          4.625817714478993,
          3.317851950266318,
          5.041850194795151,
          1.771316462925071,
          1.1558785680052333,
          0.8180510871686826
         ],
         "yaxis": "y"
        },
        {
         "boxmean": true,
         "boxpoints": "all",
         "legendgroup": "baseline",
         "marker": {
          "color": "#508587"
         },
         "name": "Baseline",
         "offsetgroup": "baseline",
         "showlegend": false,
         "text": [
          "stomach",
          "small_bowel",
          "colon",
          "liver",
          "gallbladder",
          "pancreas",
          "kidney",
          "spleen",
          "bladder",
          "omentum",
          "fat_subcutaneous",
          "lung",
          "heart",
          "skin",
          "muscle",
          "peritoneum",
          "major_vein",
          "kidney_with_Gerotas_fascia",
          "background"
         ],
         "type": "box",
         "x": [
          "removal_bgr",
          "removal_bgr",
          "removal_bgr",
          "removal_bgr",
          "removal_bgr",
          "removal_bgr",
          "removal_bgr",
          "removal_bgr",
          "removal_bgr",
          "removal_bgr",
          "removal_bgr",
          "removal_bgr",
          "removal_bgr",
          "removal_bgr",
          "removal_bgr",
          "removal_bgr",
          "removal_bgr",
          "removal_bgr",
          "removal_bgr"
         ],
         "xaxis": "x",
         "y": [
          3.100699799418998,
          2.0311120331630272,
          1.9120263093539358,
          1.3450811626604355,
          1.8720148413724047,
          1.682682157355761,
          1.5660934904601433,
          1.2260272957293492,
          1.2019184270367422,
          5.474793771658618,
          3.4752177538634124,
          4.555853347137574,
          2.768972392976412,
          3.651383531482662,
          3.6587283850491703,
          11.238269609799925,
          2.60818767700405,
          4.648815336034413,
          0.6305366806249095
         ],
         "yaxis": "y"
        },
        {
         "boxmean": true,
         "boxpoints": "all",
         "legendgroup": "organ_transplantation",
         "marker": {
          "color": "#A39F5D"
         },
         "name": "Organ Transplantation",
         "offsetgroup": "organ_transplantation",
         "showlegend": false,
         "text": [
          "stomach",
          "small_bowel",
          "colon",
          "liver",
          "gallbladder",
          "pancreas",
          "kidney",
          "spleen",
          "bladder",
          "omentum",
          "fat_subcutaneous",
          "lung",
          "heart",
          "skin",
          "muscle",
          "peritoneum",
          "major_vein",
          "kidney_with_Gerotas_fascia",
          "background"
         ],
         "type": "box",
         "x": [
          "removal_bgr",
          "removal_bgr",
          "removal_bgr",
          "removal_bgr",
          "removal_bgr",
          "removal_bgr",
          "removal_bgr",
          "removal_bgr",
          "removal_bgr",
          "removal_bgr",
          "removal_bgr",
          "removal_bgr",
          "removal_bgr",
          "removal_bgr",
          "removal_bgr",
          "removal_bgr",
          "removal_bgr",
          "removal_bgr",
          "removal_bgr"
         ],
         "xaxis": "x",
         "y": [
          2.748437819892686,
          1.938425788865954,
          1.3831020447760578,
          1.259405855636992,
          1.9270484885246177,
          1.4458914999596735,
          1.066063345373037,
          1.3542981622819805,
          0.9824029968019878,
          6.152113600639839,
          3.265535337149726,
          5.462893998134926,
          1.6882911226817277,
          2.782094114729847,
          3.289308034260651,
          7.233618110263711,
          1.7434904396820547,
          1.3060115764114213,
          0.8210708809266716
         ],
         "yaxis": "y"
        },
        {
         "boxmean": true,
         "boxpoints": "all",
         "legendgroup": "baseline",
         "marker": {
          "color": "#508587"
         },
         "name": "Baseline",
         "offsetgroup": "baseline",
         "showlegend": false,
         "text": [
          "stomach",
          "small_bowel",
          "colon",
          "liver",
          "gallbladder",
          "kidney",
          "spleen",
          "bladder",
          "omentum",
          "fat_subcutaneous",
          "lung",
          "heart",
          "skin",
          "muscle",
          "peritoneum",
          "background"
         ],
         "type": "box",
         "x": [
          "no-occlusion",
          "no-occlusion",
          "no-occlusion",
          "no-occlusion",
          "no-occlusion",
          "no-occlusion",
          "no-occlusion",
          "no-occlusion",
          "no-occlusion",
          "no-occlusion",
          "no-occlusion",
          "no-occlusion",
          "no-occlusion",
          "no-occlusion",
          "no-occlusion",
          "no-occlusion"
         ],
         "xaxis": "x",
         "y": [
          8.115232486464503,
          5.969073125206686,
          3.735228943227642,
          9.676693366997574,
          4.568128568665083,
          47.518973229265605,
          2.5956230693156392,
          1.6094927645324266,
          13.66835723169597,
          103.10906175925716,
          15.314561417717277,
          4.817022780860415,
          4.667950165379117,
          11.937290254210332,
          26.95452498847901,
          0.8458926578103885
         ],
         "yaxis": "y"
        },
        {
         "boxmean": true,
         "boxpoints": "all",
         "legendgroup": "organ_transplantation",
         "marker": {
          "color": "#A39F5D"
         },
         "name": "Organ Transplantation",
         "offsetgroup": "organ_transplantation",
         "showlegend": false,
         "text": [
          "stomach",
          "small_bowel",
          "colon",
          "liver",
          "gallbladder",
          "kidney",
          "spleen",
          "bladder",
          "omentum",
          "fat_subcutaneous",
          "lung",
          "heart",
          "skin",
          "muscle",
          "peritoneum",
          "background"
         ],
         "type": "box",
         "x": [
          "no-occlusion",
          "no-occlusion",
          "no-occlusion",
          "no-occlusion",
          "no-occlusion",
          "no-occlusion",
          "no-occlusion",
          "no-occlusion",
          "no-occlusion",
          "no-occlusion",
          "no-occlusion",
          "no-occlusion",
          "no-occlusion",
          "no-occlusion",
          "no-occlusion",
          "no-occlusion"
         ],
         "xaxis": "x",
         "y": [
          4.5424897601863155,
          4.443573810474419,
          2.2435336617527226,
          5.840449449250943,
          6.3538673215773995,
          2.047175647692648,
          1.7487358992111632,
          2.656711382554148,
          8.391000979445494,
          112.3340173504236,
          11.039698886008411,
          6.060255943461013,
          3.685969700491374,
          5.867780490649516,
          27.955620242139815,
          0.8041563594748619
         ],
         "yaxis": "y"
        },
        {
         "boxmean": true,
         "boxpoints": "all",
         "legendgroup": "baseline",
         "marker": {
          "color": "#508587"
         },
         "name": "Baseline",
         "offsetgroup": "baseline",
         "showlegend": false,
         "text": [
          "stomach",
          "small_bowel",
          "colon",
          "liver",
          "gallbladder",
          "pancreas",
          "kidney",
          "spleen",
          "bladder",
          "omentum",
          "fat_subcutaneous",
          "lung",
          "heart",
          "skin",
          "muscle",
          "peritoneum",
          "major_vein",
          "kidney_with_Gerotas_fascia",
          "background"
         ],
         "type": "box",
         "x": [
          "occlusion",
          "occlusion",
          "occlusion",
          "occlusion",
          "occlusion",
          "occlusion",
          "occlusion",
          "occlusion",
          "occlusion",
          "occlusion",
          "occlusion",
          "occlusion",
          "occlusion",
          "occlusion",
          "occlusion",
          "occlusion",
          "occlusion",
          "occlusion",
          "occlusion"
         ],
         "xaxis": "x",
         "y": [
          37.74574477378,
          11.890751229489933,
          34.286496152790804,
          20.52096697225447,
          4.2443212460512285,
          124.04301510297661,
          17.76205616968684,
          19.12560619923091,
          7.09471347075877,
          26.661128200568683,
          45.67343164301239,
          13.279682465280638,
          3.5848863400753754,
          107.60659726839476,
          9.48290911170468,
          63.480177417649635,
          9.154021926958219,
          5.1403185962463125,
          4.625161714187753
         ],
         "yaxis": "y"
        },
        {
         "boxmean": true,
         "boxpoints": "all",
         "legendgroup": "organ_transplantation",
         "marker": {
          "color": "#A39F5D"
         },
         "name": "Organ Transplantation",
         "offsetgroup": "organ_transplantation",
         "showlegend": false,
         "text": [
          "stomach",
          "small_bowel",
          "colon",
          "liver",
          "gallbladder",
          "pancreas",
          "kidney",
          "spleen",
          "bladder",
          "omentum",
          "fat_subcutaneous",
          "lung",
          "heart",
          "skin",
          "muscle",
          "peritoneum",
          "major_vein",
          "kidney_with_Gerotas_fascia",
          "background"
         ],
         "type": "box",
         "x": [
          "occlusion",
          "occlusion",
          "occlusion",
          "occlusion",
          "occlusion",
          "occlusion",
          "occlusion",
          "occlusion",
          "occlusion",
          "occlusion",
          "occlusion",
          "occlusion",
          "occlusion",
          "occlusion",
          "occlusion",
          "occlusion",
          "occlusion",
          "occlusion",
          "occlusion"
         ],
         "xaxis": "x",
         "y": [
          23.766237962661563,
          8.199279948799447,
          17.410458588883312,
          19.341003678333838,
          6.412549778297613,
          20.85485989366717,
          13.871626247290637,
          40.30602234579892,
          2.6158369319484613,
          22.02234588337736,
          19.059565101919635,
          7.803016230497133,
          3.0784929458812775,
          104.68605355394692,
          3.056302895532908,
          44.736919666970984,
          4.255395087412032,
          2.949166513588099,
          5.179403297695365
         ],
         "yaxis": "y"
        },
        {
         "boxmean": true,
         "boxpoints": "all",
         "legendgroup": "baseline",
         "marker": {
          "color": "#508587"
         },
         "name": "Baseline",
         "offsetgroup": "baseline",
         "showlegend": false,
         "text": [
          "stomach",
          "small_bowel",
          "colon",
          "liver",
          "gallbladder",
          "pancreas",
          "kidney",
          "spleen",
          "bladder",
          "omentum",
          "fat_subcutaneous",
          "lung",
          "heart",
          "skin",
          "muscle",
          "peritoneum",
          "major_vein",
          "kidney_with_Gerotas_fascia",
          "background"
         ],
         "type": "box",
         "x": [
          "original",
          "original",
          "original",
          "original",
          "original",
          "original",
          "original",
          "original",
          "original",
          "original",
          "original",
          "original",
          "original",
          "original",
          "original",
          "original",
          "original",
          "original",
          "original"
         ],
         "xaxis": "x2",
         "y": [
          12.036222154210213,
          6.725621376041204,
          4.505724076370854,
          9.582881083013893,
          3.1401296681844215,
          2.1690738247597654,
          6.964220335010939,
          7.887159538350323,
          8.54613910647921,
          11.28710267794581,
          41.66023724461418,
          9.64220214096642,
          6.91436469433381,
          6.084345899981505,
          9.196797270887696,
          26.518657748420633,
          5.117726142712587,
          8.62645555150374,
          0.8865370245755638
         ],
         "yaxis": "y2"
        },
        {
         "boxmean": true,
         "boxpoints": "all",
         "legendgroup": "organ_transplantation",
         "marker": {
          "color": "#A39F5D"
         },
         "name": "Organ Transplantation",
         "offsetgroup": "organ_transplantation",
         "showlegend": false,
         "text": [
          "stomach",
          "small_bowel",
          "colon",
          "liver",
          "gallbladder",
          "pancreas",
          "kidney",
          "spleen",
          "bladder",
          "omentum",
          "fat_subcutaneous",
          "lung",
          "heart",
          "skin",
          "muscle",
          "peritoneum",
          "major_vein",
          "kidney_with_Gerotas_fascia",
          "background"
         ],
         "type": "box",
         "x": [
          "original",
          "original",
          "original",
          "original",
          "original",
          "original",
          "original",
          "original",
          "original",
          "original",
          "original",
          "original",
          "original",
          "original",
          "original",
          "original",
          "original",
          "original",
          "original"
         ],
         "xaxis": "x2",
         "y": [
          8.694588729271683,
          7.691399755622254,
          4.933955530399296,
          6.619613038488053,
          2.9520642668312025,
          1.563873085295658,
          4.8599232983003855,
          7.462390218089885,
          3.1504787646363064,
          9.633773633498745,
          38.34074610890082,
          7.809389783339479,
          6.72770816993783,
          11.96468143272479,
          7.690794789027434,
          22.827456166689064,
          2.4480707110573614,
          5.064727562649397,
          1.1929469260574863
         ],
         "yaxis": "y2"
        },
        {
         "boxmean": true,
         "boxpoints": "all",
         "legendgroup": "baseline",
         "marker": {
          "color": "#508587"
         },
         "name": "Baseline",
         "offsetgroup": "baseline",
         "showlegend": false,
         "text": [
          "stomach",
          "small_bowel",
          "colon",
          "liver",
          "gallbladder",
          "pancreas",
          "kidney",
          "spleen",
          "bladder",
          "omentum",
          "fat_subcutaneous",
          "lung",
          "heart",
          "skin",
          "muscle",
          "peritoneum",
          "major_vein",
          "kidney_with_Gerotas_fascia",
          "background"
         ],
         "type": "box",
         "x": [
          "isolation_zero",
          "isolation_zero",
          "isolation_zero",
          "isolation_zero",
          "isolation_zero",
          "isolation_zero",
          "isolation_zero",
          "isolation_zero",
          "isolation_zero",
          "isolation_zero",
          "isolation_zero",
          "isolation_zero",
          "isolation_zero",
          "isolation_zero",
          "isolation_zero",
          "isolation_zero",
          "isolation_zero",
          "isolation_zero",
          "isolation_zero"
         ],
         "xaxis": "x2",
         "y": [
          193.9864865688935,
          29.775980872154243,
          18.083276441795206,
          3.7383474353917068,
          664.4177152265135,
          97.67314236746405,
          12.53776909841282,
          183.2734206854211,
          226.9473550845425,
          407.25072028917674,
          529.7757204337911,
          1.973078390406479,
          2.834814416441422,
          178.0482655903223,
          326.80672016649703,
          157.1467940589612,
          722.699788812524,
          32.065976060589456,
          0.3168860436015937
         ],
         "yaxis": "y2"
        },
        {
         "boxmean": true,
         "boxpoints": "all",
         "legendgroup": "organ_transplantation",
         "marker": {
          "color": "#A39F5D"
         },
         "name": "Organ Transplantation",
         "offsetgroup": "organ_transplantation",
         "showlegend": false,
         "text": [
          "stomach",
          "small_bowel",
          "colon",
          "liver",
          "gallbladder",
          "pancreas",
          "kidney",
          "spleen",
          "bladder",
          "omentum",
          "fat_subcutaneous",
          "lung",
          "heart",
          "skin",
          "muscle",
          "peritoneum",
          "major_vein",
          "kidney_with_Gerotas_fascia",
          "background"
         ],
         "type": "box",
         "x": [
          "isolation_zero",
          "isolation_zero",
          "isolation_zero",
          "isolation_zero",
          "isolation_zero",
          "isolation_zero",
          "isolation_zero",
          "isolation_zero",
          "isolation_zero",
          "isolation_zero",
          "isolation_zero",
          "isolation_zero",
          "isolation_zero",
          "isolation_zero",
          "isolation_zero",
          "isolation_zero",
          "isolation_zero",
          "isolation_zero",
          "isolation_zero"
         ],
         "xaxis": "x2",
         "y": [
          19.732436552064645,
          8.39494250914245,
          10.539607351324019,
          3.2190361605378848,
          616.8756479198917,
          0.8386835147017909,
          1.8747104132553694,
          377.03624458683544,
          228.99786543888095,
          1.7023608954814733,
          153.7515299283789,
          4.63254490050208,
          1.7394374317610923,
          120.45370998336651,
          28.73686169373934,
          167.41903426929088,
          467.6880403658915,
          17.895286963876444,
          0.10958682763040113
         ],
         "yaxis": "y2"
        },
        {
         "boxmean": true,
         "boxpoints": "all",
         "legendgroup": "baseline",
         "marker": {
          "color": "#508587"
         },
         "name": "Baseline",
         "offsetgroup": "baseline",
         "showlegend": false,
         "text": [
          "stomach",
          "small_bowel",
          "colon",
          "liver",
          "gallbladder",
          "pancreas",
          "kidney",
          "spleen",
          "bladder",
          "omentum",
          "fat_subcutaneous",
          "lung",
          "heart",
          "skin",
          "muscle",
          "peritoneum",
          "major_vein",
          "kidney_with_Gerotas_fascia",
          "background"
         ],
         "type": "box",
         "x": [
          "isolation_bgr",
          "isolation_bgr",
          "isolation_bgr",
          "isolation_bgr",
          "isolation_bgr",
          "isolation_bgr",
          "isolation_bgr",
          "isolation_bgr",
          "isolation_bgr",
          "isolation_bgr",
          "isolation_bgr",
          "isolation_bgr",
          "isolation_bgr",
          "isolation_bgr",
          "isolation_bgr",
          "isolation_bgr",
          "isolation_bgr",
          "isolation_bgr",
          "isolation_bgr"
         ],
         "xaxis": "x2",
         "y": [
          477.806912597413,
          6.110773118577783,
          26.981892759628835,
          0.33536405654943396,
          526.0159506955437,
          444.9347028203129,
          39.776943933610895,
          314.979705916682,
          199.3551263447336,
          533.7683605103196,
          47.1921469950799,
          3.249577638686917,
          8.351703258020288,
          218.29726910148526,
          46.75855981860923,
          204.5042300438224,
          487.8020076899806,
          17.85218290966707,
          0.1516606152388423
         ],
         "yaxis": "y2"
        },
        {
         "boxmean": true,
         "boxpoints": "all",
         "legendgroup": "organ_transplantation",
         "marker": {
          "color": "#A39F5D"
         },
         "name": "Organ Transplantation",
         "offsetgroup": "organ_transplantation",
         "showlegend": false,
         "text": [
          "stomach",
          "small_bowel",
          "colon",
          "liver",
          "gallbladder",
          "pancreas",
          "kidney",
          "spleen",
          "bladder",
          "omentum",
          "fat_subcutaneous",
          "lung",
          "heart",
          "skin",
          "muscle",
          "peritoneum",
          "major_vein",
          "kidney_with_Gerotas_fascia",
          "background"
         ],
         "type": "box",
         "x": [
          "isolation_bgr",
          "isolation_bgr",
          "isolation_bgr",
          "isolation_bgr",
          "isolation_bgr",
          "isolation_bgr",
          "isolation_bgr",
          "isolation_bgr",
          "isolation_bgr",
          "isolation_bgr",
          "isolation_bgr",
          "isolation_bgr",
          "isolation_bgr",
          "isolation_bgr",
          "isolation_bgr",
          "isolation_bgr",
          "isolation_bgr",
          "isolation_bgr",
          "isolation_bgr"
         ],
         "xaxis": "x2",
         "y": [
          36.77463553237523,
          0.7747031532905608,
          0.7966218582222573,
          7.745326292616026,
          385.8992607466396,
          0.5733769133217587,
          69.17254877515126,
          45.38494444714212,
          20.495371843534606,
          22.942952771017584,
          52.28795555653863,
          5.6750071628808785,
          0.8628865614249039,
          73.40472798611049,
          4.989127965905387,
          134.97680757452042,
          2.281903617968778,
          2.141525298599547,
          0.11758665828423034
         ],
         "yaxis": "y2"
        },
        {
         "boxmean": true,
         "boxpoints": "all",
         "legendgroup": "baseline",
         "marker": {
          "color": "#508587"
         },
         "name": "Baseline",
         "offsetgroup": "baseline",
         "showlegend": false,
         "text": [
          "stomach",
          "small_bowel",
          "colon",
          "liver",
          "gallbladder",
          "pancreas",
          "kidney",
          "spleen",
          "bladder",
          "omentum",
          "lung",
          "heart",
          "skin",
          "muscle",
          "peritoneum",
          "major_vein",
          "kidney_with_Gerotas_fascia",
          "background"
         ],
         "type": "box",
         "x": [
          "isolation_real",
          "isolation_real",
          "isolation_real",
          "isolation_real",
          "isolation_real",
          "isolation_real",
          "isolation_real",
          "isolation_real",
          "isolation_real",
          "isolation_real",
          "isolation_real",
          "isolation_real",
          "isolation_real",
          "isolation_real",
          "isolation_real",
          "isolation_real",
          "isolation_real",
          "isolation_real"
         ],
         "xaxis": "x2",
         "y": [
          39.48344455299642,
          2.8443804468439646,
          1.2622359778027163,
          3.1853289787947077,
          9.135053526358247,
          6.608584072017924,
          11.675719821159454,
          20.351509899704613,
          4.954637902551581,
          28.418562545476664,
          2.162013979820464,
          4.150847315445023,
          21.717992966938745,
          58.42061219180677,
          16.29194385880545,
          35.640526734108285,
          14.69217791199763,
          0.5489290350240748
         ],
         "yaxis": "y2"
        },
        {
         "boxmean": true,
         "boxpoints": "all",
         "legendgroup": "organ_transplantation",
         "marker": {
          "color": "#A39F5D"
         },
         "name": "Organ Transplantation",
         "offsetgroup": "organ_transplantation",
         "showlegend": false,
         "text": [
          "stomach",
          "small_bowel",
          "colon",
          "liver",
          "gallbladder",
          "pancreas",
          "kidney",
          "spleen",
          "bladder",
          "omentum",
          "lung",
          "heart",
          "skin",
          "muscle",
          "peritoneum",
          "major_vein",
          "kidney_with_Gerotas_fascia",
          "background"
         ],
         "type": "box",
         "x": [
          "isolation_real",
          "isolation_real",
          "isolation_real",
          "isolation_real",
          "isolation_real",
          "isolation_real",
          "isolation_real",
          "isolation_real",
          "isolation_real",
          "isolation_real",
          "isolation_real",
          "isolation_real",
          "isolation_real",
          "isolation_real",
          "isolation_real",
          "isolation_real",
          "isolation_real",
          "isolation_real"
         ],
         "xaxis": "x2",
         "y": [
          9.99252602777439,
          1.7005742636230952,
          1.2954603621908538,
          4.376953458626121,
          14.364779971732368,
          3.4909646307677917,
          1.085657407924527,
          4.164655970583001,
          0.8938513278294133,
          0.9898908540375481,
          1.6173975686026902,
          1.4268071228743542,
          2.3040157130679004,
          23.378548047881427,
          5.392646529772064,
          2.3391737110062296,
          7.82588250685999,
          0.6579523276915583
         ],
         "yaxis": "y2"
        },
        {
         "boxmean": true,
         "boxpoints": "all",
         "legendgroup": "baseline",
         "marker": {
          "color": "#508587"
         },
         "name": "Baseline",
         "offsetgroup": "baseline",
         "showlegend": false,
         "text": [
          "stomach",
          "small_bowel",
          "colon",
          "liver",
          "gallbladder",
          "pancreas",
          "kidney",
          "spleen",
          "bladder",
          "omentum",
          "fat_subcutaneous",
          "lung",
          "heart",
          "skin",
          "muscle",
          "peritoneum",
          "major_vein",
          "kidney_with_Gerotas_fascia",
          "background"
         ],
         "type": "box",
         "x": [
          "removal_zero",
          "removal_zero",
          "removal_zero",
          "removal_zero",
          "removal_zero",
          "removal_zero",
          "removal_zero",
          "removal_zero",
          "removal_zero",
          "removal_zero",
          "removal_zero",
          "removal_zero",
          "removal_zero",
          "removal_zero",
          "removal_zero",
          "removal_zero",
          "removal_zero",
          "removal_zero",
          "removal_zero"
         ],
         "xaxis": "x2",
         "y": [
          7.121696239332093,
          2.9659933798252256,
          3.3503899795473773,
          3.5660425482054583,
          3.5433492844720447,
          2.199406330008131,
          6.65618800909742,
          6.140525957231306,
          4.806882333289633,
          8.027010329123465,
          12.70022018202545,
          10.315229633218836,
          4.755715322428116,
          4.678821504621449,
          7.491826861259835,
          11.988066960705886,
          3.247249021650148,
          10.51653642066518,
          1.2668018341210887
         ],
         "yaxis": "y2"
        },
        {
         "boxmean": true,
         "boxpoints": "all",
         "legendgroup": "organ_transplantation",
         "marker": {
          "color": "#A39F5D"
         },
         "name": "Organ Transplantation",
         "offsetgroup": "organ_transplantation",
         "showlegend": false,
         "text": [
          "stomach",
          "small_bowel",
          "colon",
          "liver",
          "gallbladder",
          "pancreas",
          "kidney",
          "spleen",
          "bladder",
          "omentum",
          "fat_subcutaneous",
          "lung",
          "heart",
          "skin",
          "muscle",
          "peritoneum",
          "major_vein",
          "kidney_with_Gerotas_fascia",
          "background"
         ],
         "type": "box",
         "x": [
          "removal_zero",
          "removal_zero",
          "removal_zero",
          "removal_zero",
          "removal_zero",
          "removal_zero",
          "removal_zero",
          "removal_zero",
          "removal_zero",
          "removal_zero",
          "removal_zero",
          "removal_zero",
          "removal_zero",
          "removal_zero",
          "removal_zero",
          "removal_zero",
          "removal_zero",
          "removal_zero",
          "removal_zero"
         ],
         "xaxis": "x2",
         "y": [
          4.858965766022882,
          2.539279536153045,
          1.5173807337266136,
          1.9212617121583264,
          2.6071451523943656,
          0.9201775078611908,
          2.4280149043189043,
          4.111037989140751,
          1.7998396188336852,
          6.218253504696625,
          8.585700720780133,
          4.905714390239102,
          1.7172783120132158,
          6.924803258383448,
          4.558448952340858,
          5.139186090033776,
          2.1008072256042194,
          3.8363004305025,
          1.475190413700894
         ],
         "yaxis": "y2"
        },
        {
         "boxmean": true,
         "boxpoints": "all",
         "legendgroup": "baseline",
         "marker": {
          "color": "#508587"
         },
         "name": "Baseline",
         "offsetgroup": "baseline",
         "showlegend": false,
         "text": [
          "stomach",
          "small_bowel",
          "colon",
          "liver",
          "gallbladder",
          "pancreas",
          "kidney",
          "spleen",
          "bladder",
          "omentum",
          "fat_subcutaneous",
          "lung",
          "heart",
          "skin",
          "muscle",
          "peritoneum",
          "major_vein",
          "kidney_with_Gerotas_fascia",
          "background"
         ],
         "type": "box",
         "x": [
          "removal_bgr",
          "removal_bgr",
          "removal_bgr",
          "removal_bgr",
          "removal_bgr",
          "removal_bgr",
          "removal_bgr",
          "removal_bgr",
          "removal_bgr",
          "removal_bgr",
          "removal_bgr",
          "removal_bgr",
          "removal_bgr",
          "removal_bgr",
          "removal_bgr",
          "removal_bgr",
          "removal_bgr",
          "removal_bgr",
          "removal_bgr"
         ],
         "xaxis": "x2",
         "y": [
          5.267388450831469,
          2.3320057298174994,
          2.8093685014554883,
          2.396539377294894,
          3.8774067036230546,
          1.6635683864341486,
          6.344765158997447,
          5.178605703992998,
          3.01120179506542,
          6.843770070829365,
          8.241556910656154,
          7.506898172429259,
          5.294315336475228,
          4.175498764907248,
          6.47954563694491,
          12.58476699685653,
          3.228617688470293,
          7.82687324061998,
          0.9679401888528651
         ],
         "yaxis": "y2"
        },
        {
         "boxmean": true,
         "boxpoints": "all",
         "legendgroup": "organ_transplantation",
         "marker": {
          "color": "#A39F5D"
         },
         "name": "Organ Transplantation",
         "offsetgroup": "organ_transplantation",
         "showlegend": false,
         "text": [
          "stomach",
          "small_bowel",
          "colon",
          "liver",
          "gallbladder",
          "pancreas",
          "kidney",
          "spleen",
          "bladder",
          "omentum",
          "fat_subcutaneous",
          "lung",
          "heart",
          "skin",
          "muscle",
          "peritoneum",
          "major_vein",
          "kidney_with_Gerotas_fascia",
          "background"
         ],
         "type": "box",
         "x": [
          "removal_bgr",
          "removal_bgr",
          "removal_bgr",
          "removal_bgr",
          "removal_bgr",
          "removal_bgr",
          "removal_bgr",
          "removal_bgr",
          "removal_bgr",
          "removal_bgr",
          "removal_bgr",
          "removal_bgr",
          "removal_bgr",
          "removal_bgr",
          "removal_bgr",
          "removal_bgr",
          "removal_bgr",
          "removal_bgr",
          "removal_bgr"
         ],
         "xaxis": "x2",
         "y": [
          3.8015498361491353,
          2.8919492298051233,
          1.4164707575372217,
          2.7728969382225226,
          2.2024862456887773,
          0.7857724620302441,
          2.52601127849579,
          4.010247717121406,
          1.1572569527552299,
          6.349069662910663,
          8.032326021277266,
          5.599954394599654,
          2.045061837119668,
          8.580429704287049,
          4.14825451883435,
          7.206717636706523,
          1.6617024497979558,
          3.3816050449917516,
          1.0747743244072399
         ],
         "yaxis": "y2"
        },
        {
         "boxmean": true,
         "boxpoints": "all",
         "legendgroup": "baseline",
         "marker": {
          "color": "#508587"
         },
         "name": "Baseline",
         "offsetgroup": "baseline",
         "showlegend": false,
         "text": [
          "stomach",
          "small_bowel",
          "colon",
          "liver",
          "gallbladder",
          "kidney",
          "spleen",
          "bladder",
          "omentum",
          "fat_subcutaneous",
          "lung",
          "heart",
          "skin",
          "muscle",
          "peritoneum",
          "background"
         ],
         "type": "box",
         "x": [
          "no-occlusion",
          "no-occlusion",
          "no-occlusion",
          "no-occlusion",
          "no-occlusion",
          "no-occlusion",
          "no-occlusion",
          "no-occlusion",
          "no-occlusion",
          "no-occlusion",
          "no-occlusion",
          "no-occlusion",
          "no-occlusion",
          "no-occlusion",
          "no-occlusion",
          "no-occlusion"
         ],
         "xaxis": "x2",
         "y": [
          6.2453987009208225,
          5.617228799361287,
          4.035356353444231,
          9.418304253969483,
          4.960566382786952,
          43.831402498870276,
          2.6179680798344593,
          7.944283843161164,
          8.276959484063854,
          111.61681671117485,
          16.081290060736237,
          6.9361916452004335,
          6.18701056272663,
          11.190471331450535,
          16.85570742359381,
          1.044184988726656
         ],
         "yaxis": "y2"
        },
        {
         "boxmean": true,
         "boxpoints": "all",
         "legendgroup": "organ_transplantation",
         "marker": {
          "color": "#A39F5D"
         },
         "name": "Organ Transplantation",
         "offsetgroup": "organ_transplantation",
         "showlegend": false,
         "text": [
          "stomach",
          "small_bowel",
          "colon",
          "liver",
          "gallbladder",
          "kidney",
          "spleen",
          "bladder",
          "omentum",
          "fat_subcutaneous",
          "lung",
          "heart",
          "skin",
          "muscle",
          "peritoneum",
          "background"
         ],
         "type": "box",
         "x": [
          "no-occlusion",
          "no-occlusion",
          "no-occlusion",
          "no-occlusion",
          "no-occlusion",
          "no-occlusion",
          "no-occlusion",
          "no-occlusion",
          "no-occlusion",
          "no-occlusion",
          "no-occlusion",
          "no-occlusion",
          "no-occlusion",
          "no-occlusion",
          "no-occlusion",
          "no-occlusion"
         ],
         "xaxis": "x2",
         "y": [
          3.2322785730823513,
          5.820289435648808,
          4.491557782100811,
          8.022084563355286,
          4.945102848994848,
          4.99838408068421,
          2.667445983330164,
          4.926451022484905,
          15.035554282859769,
          68.31397421603211,
          13.346148820165771,
          6.1547361424798055,
          6.249986659982284,
          8.206812832843518,
          16.652046222381376,
          1.0393406663405034
         ],
         "yaxis": "y2"
        },
        {
         "boxmean": true,
         "boxpoints": "all",
         "legendgroup": "baseline",
         "marker": {
          "color": "#508587"
         },
         "name": "Baseline",
         "offsetgroup": "baseline",
         "showlegend": false,
         "text": [
          "stomach",
          "small_bowel",
          "colon",
          "liver",
          "gallbladder",
          "pancreas",
          "kidney",
          "spleen",
          "bladder",
          "omentum",
          "fat_subcutaneous",
          "lung",
          "heart",
          "skin",
          "muscle",
          "peritoneum",
          "major_vein",
          "kidney_with_Gerotas_fascia",
          "background"
         ],
         "type": "box",
         "x": [
          "occlusion",
          "occlusion",
          "occlusion",
          "occlusion",
          "occlusion",
          "occlusion",
          "occlusion",
          "occlusion",
          "occlusion",
          "occlusion",
          "occlusion",
          "occlusion",
          "occlusion",
          "occlusion",
          "occlusion",
          "occlusion",
          "occlusion",
          "occlusion",
          "occlusion"
         ],
         "xaxis": "x2",
         "y": [
          36.24942148104419,
          16.097168589791863,
          32.62007990032899,
          32.64641658257315,
          61.704208202246114,
          37.879766681547416,
          16.295541920600243,
          32.5835909203042,
          19.902789556268434,
          55.846856637383986,
          68.15913488643176,
          8.500489424604421,
          4.224667969042239,
          109.38614429180939,
          13.283774179469715,
          62.66479402167459,
          13.948960484795473,
          6.477948093282967,
          5.081865904057857
         ],
         "yaxis": "y2"
        },
        {
         "boxmean": true,
         "boxpoints": "all",
         "legendgroup": "organ_transplantation",
         "marker": {
          "color": "#A39F5D"
         },
         "name": "Organ Transplantation",
         "offsetgroup": "organ_transplantation",
         "showlegend": false,
         "text": [
          "stomach",
          "small_bowel",
          "colon",
          "liver",
          "gallbladder",
          "pancreas",
          "kidney",
          "spleen",
          "bladder",
          "omentum",
          "fat_subcutaneous",
          "lung",
          "heart",
          "skin",
          "muscle",
          "peritoneum",
          "major_vein",
          "kidney_with_Gerotas_fascia",
          "background"
         ],
         "type": "box",
         "x": [
          "occlusion",
          "occlusion",
          "occlusion",
          "occlusion",
          "occlusion",
          "occlusion",
          "occlusion",
          "occlusion",
          "occlusion",
          "occlusion",
          "occlusion",
          "occlusion",
          "occlusion",
          "occlusion",
          "occlusion",
          "occlusion",
          "occlusion",
          "occlusion",
          "occlusion"
         ],
         "xaxis": "x2",
         "y": [
          43.75107627091262,
          10.266786917116246,
          32.66822676987525,
          18.9225330135754,
          25.167801947734898,
          10.38875841708003,
          4.774503207513826,
          30.2602770942346,
          4.094309543917988,
          47.65042665931691,
          29.116479164334823,
          2.344091551630933,
          3.0415972620090206,
          101.77482987006496,
          6.793902618138234,
          69.73553458378258,
          4.342079129841887,
          4.637166906175217,
          4.3128167218196225
         ],
         "yaxis": "y2"
        }
       ],
       "layout": {
        "annotations": [
         {
          "font": {
           "size": 20
          },
          "showarrow": false,
          "text": "<b>HSI</b>",
          "x": 0,
          "xanchor": "left",
          "xref": "paper",
          "y": 0.9999999999999999,
          "yanchor": "bottom",
          "yref": "paper"
         },
         {
          "font": {
           "size": 20
          },
          "showarrow": false,
          "text": "<b>RGB</b>",
          "x": 0,
          "xanchor": "left",
          "xref": "paper",
          "y": 0.46499999999999997,
          "yanchor": "bottom",
          "yref": "paper"
         }
        ],
        "boxgap": 0.2,
        "boxgroupgap": 0.4,
        "boxmode": "group",
        "font": {
         "family": "Libertinus Serif",
         "size": 20
        },
        "height": 510,
        "legend": {
         "orientation": "h",
         "x": 0.5,
         "xanchor": "center",
         "y": 1.01,
         "yanchor": "bottom"
        },
        "margin": {
         "b": 0,
         "l": 0,
         "r": 0,
         "t": 0
        },
        "template": {
         "data": {
          "bar": [
           {
            "error_x": {
             "color": "#2a3f5f"
            },
            "error_y": {
             "color": "#2a3f5f"
            },
            "marker": {
             "line": {
              "color": "white",
              "width": 0.5
             },
             "pattern": {
              "fillmode": "overlay",
              "size": 10,
              "solidity": 0.2
             }
            },
            "type": "bar"
           }
          ],
          "barpolar": [
           {
            "marker": {
             "line": {
              "color": "white",
              "width": 0.5
             },
             "pattern": {
              "fillmode": "overlay",
              "size": 10,
              "solidity": 0.2
             }
            },
            "type": "barpolar"
           }
          ],
          "carpet": [
           {
            "aaxis": {
             "endlinecolor": "#2a3f5f",
             "gridcolor": "#C8D4E3",
             "linecolor": "#C8D4E3",
             "minorgridcolor": "#C8D4E3",
             "startlinecolor": "#2a3f5f"
            },
            "baxis": {
             "endlinecolor": "#2a3f5f",
             "gridcolor": "#C8D4E3",
             "linecolor": "#C8D4E3",
             "minorgridcolor": "#C8D4E3",
             "startlinecolor": "#2a3f5f"
            },
            "type": "carpet"
           }
          ],
          "choropleth": [
           {
            "colorbar": {
             "outlinewidth": 0,
             "ticks": ""
            },
            "type": "choropleth"
           }
          ],
          "contour": [
           {
            "colorbar": {
             "outlinewidth": 0,
             "ticks": ""
            },
            "colorscale": [
             [
              0,
              "#0d0887"
             ],
             [
              0.1111111111111111,
              "#46039f"
             ],
             [
              0.2222222222222222,
              "#7201a8"
             ],
             [
              0.3333333333333333,
              "#9c179e"
             ],
             [
              0.4444444444444444,
              "#bd3786"
             ],
             [
              0.5555555555555556,
              "#d8576b"
             ],
             [
              0.6666666666666666,
              "#ed7953"
             ],
             [
              0.7777777777777778,
              "#fb9f3a"
             ],
             [
              0.8888888888888888,
              "#fdca26"
             ],
             [
              1,
              "#f0f921"
             ]
            ],
            "type": "contour"
           }
          ],
          "contourcarpet": [
           {
            "colorbar": {
             "outlinewidth": 0,
             "ticks": ""
            },
            "type": "contourcarpet"
           }
          ],
          "heatmap": [
           {
            "colorbar": {
             "outlinewidth": 0,
             "ticks": ""
            },
            "colorscale": [
             [
              0,
              "#0d0887"
             ],
             [
              0.1111111111111111,
              "#46039f"
             ],
             [
              0.2222222222222222,
              "#7201a8"
             ],
             [
              0.3333333333333333,
              "#9c179e"
             ],
             [
              0.4444444444444444,
              "#bd3786"
             ],
             [
              0.5555555555555556,
              "#d8576b"
             ],
             [
              0.6666666666666666,
              "#ed7953"
             ],
             [
              0.7777777777777778,
              "#fb9f3a"
             ],
             [
              0.8888888888888888,
              "#fdca26"
             ],
             [
              1,
              "#f0f921"
             ]
            ],
            "type": "heatmap"
           }
          ],
          "heatmapgl": [
           {
            "colorbar": {
             "outlinewidth": 0,
             "ticks": ""
            },
            "colorscale": [
             [
              0,
              "#0d0887"
             ],
             [
              0.1111111111111111,
              "#46039f"
             ],
             [
              0.2222222222222222,
              "#7201a8"
             ],
             [
              0.3333333333333333,
              "#9c179e"
             ],
             [
              0.4444444444444444,
              "#bd3786"
             ],
             [
              0.5555555555555556,
              "#d8576b"
             ],
             [
              0.6666666666666666,
              "#ed7953"
             ],
             [
              0.7777777777777778,
              "#fb9f3a"
             ],
             [
              0.8888888888888888,
              "#fdca26"
             ],
             [
              1,
              "#f0f921"
             ]
            ],
            "type": "heatmapgl"
           }
          ],
          "histogram": [
           {
            "marker": {
             "pattern": {
              "fillmode": "overlay",
              "size": 10,
              "solidity": 0.2
             }
            },
            "type": "histogram"
           }
          ],
          "histogram2d": [
           {
            "colorbar": {
             "outlinewidth": 0,
             "ticks": ""
            },
            "colorscale": [
             [
              0,
              "#0d0887"
             ],
             [
              0.1111111111111111,
              "#46039f"
             ],
             [
              0.2222222222222222,
              "#7201a8"
             ],
             [
              0.3333333333333333,
              "#9c179e"
             ],
             [
              0.4444444444444444,
              "#bd3786"
             ],
             [
              0.5555555555555556,
              "#d8576b"
             ],
             [
              0.6666666666666666,
              "#ed7953"
             ],
             [
              0.7777777777777778,
              "#fb9f3a"
             ],
             [
              0.8888888888888888,
              "#fdca26"
             ],
             [
              1,
              "#f0f921"
             ]
            ],
            "type": "histogram2d"
           }
          ],
          "histogram2dcontour": [
           {
            "colorbar": {
             "outlinewidth": 0,
             "ticks": ""
            },
            "colorscale": [
             [
              0,
              "#0d0887"
             ],
             [
              0.1111111111111111,
              "#46039f"
             ],
             [
              0.2222222222222222,
              "#7201a8"
             ],
             [
              0.3333333333333333,
              "#9c179e"
             ],
             [
              0.4444444444444444,
              "#bd3786"
             ],
             [
              0.5555555555555556,
              "#d8576b"
             ],
             [
              0.6666666666666666,
              "#ed7953"
             ],
             [
              0.7777777777777778,
              "#fb9f3a"
             ],
             [
              0.8888888888888888,
              "#fdca26"
             ],
             [
              1,
              "#f0f921"
             ]
            ],
            "type": "histogram2dcontour"
           }
          ],
          "mesh3d": [
           {
            "colorbar": {
             "outlinewidth": 0,
             "ticks": ""
            },
            "type": "mesh3d"
           }
          ],
          "parcoords": [
           {
            "line": {
             "colorbar": {
              "outlinewidth": 0,
              "ticks": ""
             }
            },
            "type": "parcoords"
           }
          ],
          "pie": [
           {
            "automargin": true,
            "type": "pie"
           }
          ],
          "scatter": [
           {
            "fillpattern": {
             "fillmode": "overlay",
             "size": 10,
             "solidity": 0.2
            },
            "type": "scatter"
           }
          ],
          "scatter3d": [
           {
            "line": {
             "colorbar": {
              "outlinewidth": 0,
              "ticks": ""
             }
            },
            "marker": {
             "colorbar": {
              "outlinewidth": 0,
              "ticks": ""
             }
            },
            "type": "scatter3d"
           }
          ],
          "scattercarpet": [
           {
            "marker": {
             "colorbar": {
              "outlinewidth": 0,
              "ticks": ""
             }
            },
            "type": "scattercarpet"
           }
          ],
          "scattergeo": [
           {
            "marker": {
             "colorbar": {
              "outlinewidth": 0,
              "ticks": ""
             }
            },
            "type": "scattergeo"
           }
          ],
          "scattergl": [
           {
            "marker": {
             "colorbar": {
              "outlinewidth": 0,
              "ticks": ""
             }
            },
            "type": "scattergl"
           }
          ],
          "scattermapbox": [
           {
            "marker": {
             "colorbar": {
              "outlinewidth": 0,
              "ticks": ""
             }
            },
            "type": "scattermapbox"
           }
          ],
          "scatterpolar": [
           {
            "marker": {
             "colorbar": {
              "outlinewidth": 0,
              "ticks": ""
             }
            },
            "type": "scatterpolar"
           }
          ],
          "scatterpolargl": [
           {
            "marker": {
             "colorbar": {
              "outlinewidth": 0,
              "ticks": ""
             }
            },
            "type": "scatterpolargl"
           }
          ],
          "scatterternary": [
           {
            "marker": {
             "colorbar": {
              "outlinewidth": 0,
              "ticks": ""
             }
            },
            "type": "scatterternary"
           }
          ],
          "surface": [
           {
            "colorbar": {
             "outlinewidth": 0,
             "ticks": ""
            },
            "colorscale": [
             [
              0,
              "#0d0887"
             ],
             [
              0.1111111111111111,
              "#46039f"
             ],
             [
              0.2222222222222222,
              "#7201a8"
             ],
             [
              0.3333333333333333,
              "#9c179e"
             ],
             [
              0.4444444444444444,
              "#bd3786"
             ],
             [
              0.5555555555555556,
              "#d8576b"
             ],
             [
              0.6666666666666666,
              "#ed7953"
             ],
             [
              0.7777777777777778,
              "#fb9f3a"
             ],
             [
              0.8888888888888888,
              "#fdca26"
             ],
             [
              1,
              "#f0f921"
             ]
            ],
            "type": "surface"
           }
          ],
          "table": [
           {
            "cells": {
             "fill": {
              "color": "#EBF0F8"
             },
             "line": {
              "color": "white"
             }
            },
            "header": {
             "fill": {
              "color": "#C8D4E3"
             },
             "line": {
              "color": "white"
             }
            },
            "type": "table"
           }
          ]
         },
         "layout": {
          "annotationdefaults": {
           "arrowcolor": "#2a3f5f",
           "arrowhead": 0,
           "arrowwidth": 1
          },
          "autotypenumbers": "strict",
          "coloraxis": {
           "colorbar": {
            "outlinewidth": 0,
            "ticks": ""
           }
          },
          "colorscale": {
           "diverging": [
            [
             0,
             "#8e0152"
            ],
            [
             0.1,
             "#c51b7d"
            ],
            [
             0.2,
             "#de77ae"
            ],
            [
             0.3,
             "#f1b6da"
            ],
            [
             0.4,
             "#fde0ef"
            ],
            [
             0.5,
             "#f7f7f7"
            ],
            [
             0.6,
             "#e6f5d0"
            ],
            [
             0.7,
             "#b8e186"
            ],
            [
             0.8,
             "#7fbc41"
            ],
            [
             0.9,
             "#4d9221"
            ],
            [
             1,
             "#276419"
            ]
           ],
           "sequential": [
            [
             0,
             "#0d0887"
            ],
            [
             0.1111111111111111,
             "#46039f"
            ],
            [
             0.2222222222222222,
             "#7201a8"
            ],
            [
             0.3333333333333333,
             "#9c179e"
            ],
            [
             0.4444444444444444,
             "#bd3786"
            ],
            [
             0.5555555555555556,
             "#d8576b"
            ],
            [
             0.6666666666666666,
             "#ed7953"
            ],
            [
             0.7777777777777778,
             "#fb9f3a"
            ],
            [
             0.8888888888888888,
             "#fdca26"
            ],
            [
             1,
             "#f0f921"
            ]
           ],
           "sequentialminus": [
            [
             0,
             "#0d0887"
            ],
            [
             0.1111111111111111,
             "#46039f"
            ],
            [
             0.2222222222222222,
             "#7201a8"
            ],
            [
             0.3333333333333333,
             "#9c179e"
            ],
            [
             0.4444444444444444,
             "#bd3786"
            ],
            [
             0.5555555555555556,
             "#d8576b"
            ],
            [
             0.6666666666666666,
             "#ed7953"
            ],
            [
             0.7777777777777778,
             "#fb9f3a"
            ],
            [
             0.8888888888888888,
             "#fdca26"
            ],
            [
             1,
             "#f0f921"
            ]
           ]
          },
          "colorway": [
           "#636efa",
           "#EF553B",
           "#00cc96",
           "#ab63fa",
           "#FFA15A",
           "#19d3f3",
           "#FF6692",
           "#B6E880",
           "#FF97FF",
           "#FECB52"
          ],
          "font": {
           "color": "#2a3f5f"
          },
          "geo": {
           "bgcolor": "white",
           "lakecolor": "white",
           "landcolor": "white",
           "showlakes": true,
           "showland": true,
           "subunitcolor": "#C8D4E3"
          },
          "hoverlabel": {
           "align": "left"
          },
          "hovermode": "closest",
          "mapbox": {
           "style": "light"
          },
          "paper_bgcolor": "white",
          "plot_bgcolor": "white",
          "polar": {
           "angularaxis": {
            "gridcolor": "#EBF0F8",
            "linecolor": "#EBF0F8",
            "ticks": ""
           },
           "bgcolor": "white",
           "radialaxis": {
            "gridcolor": "#EBF0F8",
            "linecolor": "#EBF0F8",
            "ticks": ""
           }
          },
          "scene": {
           "xaxis": {
            "backgroundcolor": "white",
            "gridcolor": "#DFE8F3",
            "gridwidth": 2,
            "linecolor": "#EBF0F8",
            "showbackground": true,
            "ticks": "",
            "zerolinecolor": "#EBF0F8"
           },
           "yaxis": {
            "backgroundcolor": "white",
            "gridcolor": "#DFE8F3",
            "gridwidth": 2,
            "linecolor": "#EBF0F8",
            "showbackground": true,
            "ticks": "",
            "zerolinecolor": "#EBF0F8"
           },
           "zaxis": {
            "backgroundcolor": "white",
            "gridcolor": "#DFE8F3",
            "gridwidth": 2,
            "linecolor": "#EBF0F8",
            "showbackground": true,
            "ticks": "",
            "zerolinecolor": "#EBF0F8"
           }
          },
          "shapedefaults": {
           "line": {
            "color": "#2a3f5f"
           }
          },
          "ternary": {
           "aaxis": {
            "gridcolor": "#DFE8F3",
            "linecolor": "#A2B1C6",
            "ticks": ""
           },
           "baxis": {
            "gridcolor": "#DFE8F3",
            "linecolor": "#A2B1C6",
            "ticks": ""
           },
           "bgcolor": "white",
           "caxis": {
            "gridcolor": "#DFE8F3",
            "linecolor": "#A2B1C6",
            "ticks": ""
           }
          },
          "title": {
           "x": 0.05
          },
          "xaxis": {
           "automargin": true,
           "gridcolor": "#EBF0F8",
           "linecolor": "#EBF0F8",
           "ticks": "",
           "title": {
            "standoff": 15
           },
           "zerolinecolor": "#EBF0F8",
           "zerolinewidth": 2
          },
          "yaxis": {
           "automargin": true,
           "gridcolor": "#EBF0F8",
           "linecolor": "#EBF0F8",
           "ticks": "",
           "title": {
            "standoff": 15
           },
           "zerolinecolor": "#EBF0F8",
           "zerolinewidth": 2
          }
         }
        },
        "width": 1000,
        "xaxis": {
         "anchor": "y",
         "autorange": true,
         "autorangeoptions": {
          "maxallowed": 7.4,
          "minallowed": -0.52
         },
         "domain": [
          0,
          1
         ],
         "matches": "x2",
         "range": [
          -0.52,
          7.4
         ],
         "showticklabels": false,
         "tickfont": {
          "size": 16
         },
         "type": "category"
        },
        "xaxis2": {
         "anchor": "y2",
         "autorange": true,
         "domain": [
          0,
          1
         ],
         "range": [
          -0.52,
          7.4
         ],
         "tickfont": {
          "size": 16
         },
         "type": "category"
        },
        "yaxis": {
         "anchor": "x",
         "autorange": true,
         "domain": [
          0.5349999999999999,
          0.9999999999999999
         ],
         "range": [
          -1.6641383973080852,
          3.1434704282708923
         ],
         "tickfont": {
          "size": 16
         },
         "title": {
          "text": "ASD"
         },
         "type": "log"
        },
        "yaxis2": {
         "anchor": "x2",
         "autorange": true,
         "domain": [
          0,
          0.46499999999999997
         ],
         "range": [
          -1.17241939908894,
          3.071135681855633
         ],
         "tickfont": {
          "size": 16
         },
         "title": {
          "text": "ASD"
         },
         "type": "log"
        }
       }
      },
      "image/png": "[encoded data removed]",
      "text/html": [
       "<div>                            <div id=\"62e6e282-e5c1-457c-b8c3-a967b36711eb\" class=\"plotly-graph-div\" style=\"height:510px; width:1000px;\"></div>            <script type=\"text/javascript\">                require([\"plotly\"], function(Plotly) {                    window.PLOTLYENV=window.PLOTLYENV || {};                                    if (document.getElementById(\"62e6e282-e5c1-457c-b8c3-a967b36711eb\")) {                    Plotly.newPlot(                        \"62e6e282-e5c1-457c-b8c3-a967b36711eb\",                        [{\"boxmean\":true,\"boxpoints\":\"all\",\"legendgroup\":\"baseline\",\"marker\":{\"color\":\"#508587\"},\"name\":\"Baseline\",\"offsetgroup\":\"baseline\",\"showlegend\":true,\"text\":[\"stomach\",\"small_bowel\",\"colon\",\"liver\",\"gallbladder\",\"pancreas\",\"kidney\",\"spleen\",\"bladder\",\"omentum\",\"fat_subcutaneous\",\"lung\",\"heart\",\"skin\",\"muscle\",\"peritoneum\",\"major_vein\",\"kidney_with_Gerotas_fascia\",\"background\"],\"x\":[\"original\",\"original\",\"original\",\"original\",\"original\",\"original\",\"original\",\"original\",\"original\",\"original\",\"original\",\"original\",\"original\",\"original\",\"original\",\"original\",\"original\",\"original\",\"original\"],\"y\":[9.262869913428,4.6245764423738365,3.1873324620797723,3.820705928999188,2.863776405183222,2.7630902906622925,3.8028280995657657,1.9448508090314354,1.7480276105864512,12.904472351825174,15.947667140283471,10.175563333217578,6.1267745678937615,9.270148668243484,6.431138853117622,23.646379543321924,6.340545850641007,6.782207429722973,0.6797213642622651],\"type\":\"box\",\"xaxis\":\"x\",\"yaxis\":\"y\"},{\"boxmean\":true,\"boxpoints\":\"all\",\"legendgroup\":\"organ_transplantation\",\"marker\":{\"color\":\"#A39F5D\"},\"name\":\"Organ Transplantation\",\"offsetgroup\":\"organ_transplantation\",\"showlegend\":true,\"text\":[\"stomach\",\"small_bowel\",\"colon\",\"liver\",\"gallbladder\",\"pancreas\",\"kidney\",\"spleen\",\"bladder\",\"omentum\",\"fat_subcutaneous\",\"lung\",\"heart\",\"skin\",\"muscle\",\"peritoneum\",\"major_vein\",\"kidney_with_Gerotas_fascia\",\"background\"],\"x\":[\"original\",\"original\",\"original\",\"original\",\"original\",\"original\",\"original\",\"original\",\"original\",\"original\",\"original\",\"original\",\"original\",\"original\",\"original\",\"original\",\"original\",\"original\",\"original\"],\"y\":[8.184947963043893,5.097612842368401,4.2732123619145055,3.330621889287818,3.4782776704646285,2.373877197860534,4.08382998494579,2.6571526857174455,1.857888076893246,10.992310636325755,14.304727903772118,7.031530289399876,6.676767374804534,10.683814906865752,5.678393892965685,24.713185783808317,3.801380101048254,2.972944583773354,0.8344409597677714],\"type\":\"box\",\"xaxis\":\"x\",\"yaxis\":\"y\"},{\"boxmean\":true,\"boxpoints\":\"all\",\"legendgroup\":\"baseline\",\"marker\":{\"color\":\"#508587\"},\"name\":\"Baseline\",\"offsetgroup\":\"baseline\",\"showlegend\":false,\"text\":[\"stomach\",\"small_bowel\",\"colon\",\"liver\",\"gallbladder\",\"pancreas\",\"kidney\",\"spleen\",\"bladder\",\"omentum\",\"fat_subcutaneous\",\"lung\",\"heart\",\"skin\",\"muscle\",\"peritoneum\",\"major_vein\",\"kidney_with_Gerotas_fascia\",\"background\"],\"x\":[\"isolation_zero\",\"isolation_zero\",\"isolation_zero\",\"isolation_zero\",\"isolation_zero\",\"isolation_zero\",\"isolation_zero\",\"isolation_zero\",\"isolation_zero\",\"isolation_zero\",\"isolation_zero\",\"isolation_zero\",\"isolation_zero\",\"isolation_zero\",\"isolation_zero\",\"isolation_zero\",\"isolation_zero\",\"isolation_zero\",\"isolation_zero\"],\"y\":[67.88734841597318,0.45760819612977804,17.273128098917077,0.775066955465245,431.7754690523096,8.867710183865958,3.3563610334441556,10.447477643341177,45.23677845918013,256.4973243578482,6.572276761693312,6.098193711264268,8.194091549248002,37.3290496348751,7.898104461695584,293.17414112785457,521.0255481500865,18.255212360264032,0.11217810740122873],\"type\":\"box\",\"xaxis\":\"x\",\"yaxis\":\"y\"},{\"boxmean\":true,\"boxpoints\":\"all\",\"legendgroup\":\"organ_transplantation\",\"marker\":{\"color\":\"#A39F5D\"},\"name\":\"Organ Transplantation\",\"offsetgroup\":\"organ_transplantation\",\"showlegend\":false,\"text\":[\"stomach\",\"small_bowel\",\"colon\",\"liver\",\"gallbladder\",\"pancreas\",\"kidney\",\"spleen\",\"bladder\",\"omentum\",\"fat_subcutaneous\",\"lung\",\"heart\",\"skin\",\"muscle\",\"peritoneum\",\"major_vein\",\"kidney_with_Gerotas_fascia\",\"background\"],\"x\":[\"isolation_zero\",\"isolation_zero\",\"isolation_zero\",\"isolation_zero\",\"isolation_zero\",\"isolation_zero\",\"isolation_zero\",\"isolation_zero\",\"isolation_zero\",\"isolation_zero\",\"isolation_zero\",\"isolation_zero\",\"isolation_zero\",\"isolation_zero\",\"isolation_zero\",\"isolation_zero\",\"isolation_zero\",\"isolation_zero\",\"isolation_zero\"],\"y\":[11.435188202481863,0.9766664552476018,2.028387007906881,0.3535478209122398,273.3999721292716,1.0102028636884204,1.6868835362238523,10.102058673904066,9.888631721048473,17.08298121610373,72.11327701282974,5.779431032430023,0.6261242539521129,114.37829645053023,10.930518377888465,70.72258722543413,2.922409533338434,9.28408412284409,0.06380008774699857],\"type\":\"box\",\"xaxis\":\"x\",\"yaxis\":\"y\"},{\"boxmean\":true,\"boxpoints\":\"all\",\"legendgroup\":\"baseline\",\"marker\":{\"color\":\"#508587\"},\"name\":\"Baseline\",\"offsetgroup\":\"baseline\",\"showlegend\":false,\"text\":[\"stomach\",\"small_bowel\",\"colon\",\"liver\",\"gallbladder\",\"pancreas\",\"kidney\",\"spleen\",\"bladder\",\"omentum\",\"fat_subcutaneous\",\"lung\",\"heart\",\"skin\",\"muscle\",\"peritoneum\",\"major_vein\",\"kidney_with_Gerotas_fascia\",\"background\"],\"x\":[\"isolation_bgr\",\"isolation_bgr\",\"isolation_bgr\",\"isolation_bgr\",\"isolation_bgr\",\"isolation_bgr\",\"isolation_bgr\",\"isolation_bgr\",\"isolation_bgr\",\"isolation_bgr\",\"isolation_bgr\",\"isolation_bgr\",\"isolation_bgr\",\"isolation_bgr\",\"isolation_bgr\",\"isolation_bgr\",\"isolation_bgr\",\"isolation_bgr\",\"isolation_bgr\"],\"y\":[491.2474671853953,11.102441275998709,79.00983587730897,10.49808870601326,446.99719591176944,378.526550139542,242.51828951570926,135.61952639957764,41.90990195002697,757.149619708767,420.790503795075,2.0017878687639503,1.963438932650342,69.35748163688879,22.938046703465268,142.79533172880235,342.25167723201275,800.0,0.12462056264172142],\"type\":\"box\",\"xaxis\":\"x\",\"yaxis\":\"y\"},{\"boxmean\":true,\"boxpoints\":\"all\",\"legendgroup\":\"organ_transplantation\",\"marker\":{\"color\":\"#A39F5D\"},\"name\":\"Organ Transplantation\",\"offsetgroup\":\"organ_transplantation\",\"showlegend\":false,\"text\":[\"stomach\",\"small_bowel\",\"colon\",\"liver\",\"gallbladder\",\"pancreas\",\"kidney\",\"spleen\",\"bladder\",\"omentum\",\"fat_subcutaneous\",\"lung\",\"heart\",\"skin\",\"muscle\",\"peritoneum\",\"major_vein\",\"kidney_with_Gerotas_fascia\",\"background\"],\"x\":[\"isolation_bgr\",\"isolation_bgr\",\"isolation_bgr\",\"isolation_bgr\",\"isolation_bgr\",\"isolation_bgr\",\"isolation_bgr\",\"isolation_bgr\",\"isolation_bgr\",\"isolation_bgr\",\"isolation_bgr\",\"isolation_bgr\",\"isolation_bgr\",\"isolation_bgr\",\"isolation_bgr\",\"isolation_bgr\",\"isolation_bgr\",\"isolation_bgr\",\"isolation_bgr\"],\"y\":[16.809659458485264,5.143633039540744,0.9576944637195339,0.6633845246519994,176.68227090634622,2.0104230321313508,44.91579994270152,9.808960952434512,0.8202610827553057,14.18328108177901,1.9393143895141374,5.320637037673377,0.6952090023594869,102.51219373365102,5.14271665464347,36.09646315844594,0.8921497437383645,1.005175870554497,0.03769138046369535],\"type\":\"box\",\"xaxis\":\"x\",\"yaxis\":\"y\"},{\"boxmean\":true,\"boxpoints\":\"all\",\"legendgroup\":\"baseline\",\"marker\":{\"color\":\"#508587\"},\"name\":\"Baseline\",\"offsetgroup\":\"baseline\",\"showlegend\":false,\"text\":[\"stomach\",\"small_bowel\",\"colon\",\"liver\",\"gallbladder\",\"pancreas\",\"kidney\",\"spleen\",\"bladder\",\"omentum\",\"lung\",\"heart\",\"skin\",\"muscle\",\"peritoneum\",\"major_vein\",\"kidney_with_Gerotas_fascia\",\"background\"],\"x\":[\"isolation_real\",\"isolation_real\",\"isolation_real\",\"isolation_real\",\"isolation_real\",\"isolation_real\",\"isolation_real\",\"isolation_real\",\"isolation_real\",\"isolation_real\",\"isolation_real\",\"isolation_real\",\"isolation_real\",\"isolation_real\",\"isolation_real\",\"isolation_real\",\"isolation_real\",\"isolation_real\"],\"y\":[31.48856223863811,4.517285846893199,1.7185188189582494,10.098329441516999,17.670160739743384,21.835148295646885,10.482455006480233,33.81002059425429,36.45654620656542,0.23210609509554775,1.71534079913119,2.2084245775377784,4.730414201236658,26.79629719133935,22.692006850691524,21.346634859075984,16.35074376011225,0.5965098468172988],\"type\":\"box\",\"xaxis\":\"x\",\"yaxis\":\"y\"},{\"boxmean\":true,\"boxpoints\":\"all\",\"legendgroup\":\"organ_transplantation\",\"marker\":{\"color\":\"#A39F5D\"},\"name\":\"Organ Transplantation\",\"offsetgroup\":\"organ_transplantation\",\"showlegend\":false,\"text\":[\"stomach\",\"small_bowel\",\"colon\",\"liver\",\"gallbladder\",\"pancreas\",\"kidney\",\"spleen\",\"bladder\",\"omentum\",\"lung\",\"heart\",\"skin\",\"muscle\",\"peritoneum\",\"major_vein\",\"kidney_with_Gerotas_fascia\",\"background\"],\"x\":[\"isolation_real\",\"isolation_real\",\"isolation_real\",\"isolation_real\",\"isolation_real\",\"isolation_real\",\"isolation_real\",\"isolation_real\",\"isolation_real\",\"isolation_real\",\"isolation_real\",\"isolation_real\",\"isolation_real\",\"isolation_real\",\"isolation_real\",\"isolation_real\",\"isolation_real\",\"isolation_real\"],\"y\":[12.163608003407553,1.8889324912776697,3.1342284586860405,1.4791817905846498,1.7162101592134122,10.001782660046349,1.0156612444901782,2.125854692385809,1.2784361591432882,3.3998337130598406,1.5702878576650776,1.4415341802347992,1.409189539143363,29.75521761549937,10.781142882489606,1.2903014796338854,4.930416755888688,0.5962993096237693],\"type\":\"box\",\"xaxis\":\"x\",\"yaxis\":\"y\"},{\"boxmean\":true,\"boxpoints\":\"all\",\"legendgroup\":\"baseline\",\"marker\":{\"color\":\"#508587\"},\"name\":\"Baseline\",\"offsetgroup\":\"baseline\",\"showlegend\":false,\"text\":[\"stomach\",\"small_bowel\",\"colon\",\"liver\",\"gallbladder\",\"pancreas\",\"kidney\",\"spleen\",\"bladder\",\"omentum\",\"fat_subcutaneous\",\"lung\",\"heart\",\"skin\",\"muscle\",\"peritoneum\",\"major_vein\",\"kidney_with_Gerotas_fascia\",\"background\"],\"x\":[\"removal_zero\",\"removal_zero\",\"removal_zero\",\"removal_zero\",\"removal_zero\",\"removal_zero\",\"removal_zero\",\"removal_zero\",\"removal_zero\",\"removal_zero\",\"removal_zero\",\"removal_zero\",\"removal_zero\",\"removal_zero\",\"removal_zero\",\"removal_zero\",\"removal_zero\",\"removal_zero\",\"removal_zero\"],\"y\":[3.9293971645695223,2.402540704669718,2.341448209041013,1.7057657701714473,2.2896830623015116,2.0995282871165375,2.0478497030633496,1.1503822356405344,1.7983905587985785,6.305166263178074,4.033029645963782,4.276873201154435,3.641375975603683,4.308222488745592,3.848286394732379,11.51056927638695,3.6541463609867137,6.401284228310507,0.6727653435954287],\"type\":\"box\",\"xaxis\":\"x\",\"yaxis\":\"y\"},{\"boxmean\":true,\"boxpoints\":\"all\",\"legendgroup\":\"organ_transplantation\",\"marker\":{\"color\":\"#A39F5D\"},\"name\":\"Organ Transplantation\",\"offsetgroup\":\"organ_transplantation\",\"showlegend\":false,\"text\":[\"stomach\",\"small_bowel\",\"colon\",\"liver\",\"gallbladder\",\"pancreas\",\"kidney\",\"spleen\",\"bladder\",\"omentum\",\"fat_subcutaneous\",\"lung\",\"heart\",\"skin\",\"muscle\",\"peritoneum\",\"major_vein\",\"kidney_with_Gerotas_fascia\",\"background\"],\"x\":[\"removal_zero\",\"removal_zero\",\"removal_zero\",\"removal_zero\",\"removal_zero\",\"removal_zero\",\"removal_zero\",\"removal_zero\",\"removal_zero\",\"removal_zero\",\"removal_zero\",\"removal_zero\",\"removal_zero\",\"removal_zero\",\"removal_zero\",\"removal_zero\",\"removal_zero\",\"removal_zero\",\"removal_zero\"],\"y\":[4.636723460410344,1.9832639596016945,1.7306024722187687,1.3476151146530448,2.0649673201745693,1.6055692327491073,1.1192935007324945,1.415690044961588,1.0648307741607728,6.5941561957277965,3.1261644069319696,5.314780373873526,1.700715446206819,4.625817714478993,3.317851950266318,5.041850194795151,1.771316462925071,1.1558785680052333,0.8180510871686826],\"type\":\"box\",\"xaxis\":\"x\",\"yaxis\":\"y\"},{\"boxmean\":true,\"boxpoints\":\"all\",\"legendgroup\":\"baseline\",\"marker\":{\"color\":\"#508587\"},\"name\":\"Baseline\",\"offsetgroup\":\"baseline\",\"showlegend\":false,\"text\":[\"stomach\",\"small_bowel\",\"colon\",\"liver\",\"gallbladder\",\"pancreas\",\"kidney\",\"spleen\",\"bladder\",\"omentum\",\"fat_subcutaneous\",\"lung\",\"heart\",\"skin\",\"muscle\",\"peritoneum\",\"major_vein\",\"kidney_with_Gerotas_fascia\",\"background\"],\"x\":[\"removal_bgr\",\"removal_bgr\",\"removal_bgr\",\"removal_bgr\",\"removal_bgr\",\"removal_bgr\",\"removal_bgr\",\"removal_bgr\",\"removal_bgr\",\"removal_bgr\",\"removal_bgr\",\"removal_bgr\",\"removal_bgr\",\"removal_bgr\",\"removal_bgr\",\"removal_bgr\",\"removal_bgr\",\"removal_bgr\",\"removal_bgr\"],\"y\":[3.100699799418998,2.0311120331630272,1.9120263093539358,1.3450811626604355,1.8720148413724047,1.682682157355761,1.5660934904601433,1.2260272957293492,1.2019184270367422,5.474793771658618,3.4752177538634124,4.555853347137574,2.768972392976412,3.651383531482662,3.6587283850491703,11.238269609799925,2.60818767700405,4.648815336034413,0.6305366806249095],\"type\":\"box\",\"xaxis\":\"x\",\"yaxis\":\"y\"},{\"boxmean\":true,\"boxpoints\":\"all\",\"legendgroup\":\"organ_transplantation\",\"marker\":{\"color\":\"#A39F5D\"},\"name\":\"Organ Transplantation\",\"offsetgroup\":\"organ_transplantation\",\"showlegend\":false,\"text\":[\"stomach\",\"small_bowel\",\"colon\",\"liver\",\"gallbladder\",\"pancreas\",\"kidney\",\"spleen\",\"bladder\",\"omentum\",\"fat_subcutaneous\",\"lung\",\"heart\",\"skin\",\"muscle\",\"peritoneum\",\"major_vein\",\"kidney_with_Gerotas_fascia\",\"background\"],\"x\":[\"removal_bgr\",\"removal_bgr\",\"removal_bgr\",\"removal_bgr\",\"removal_bgr\",\"removal_bgr\",\"removal_bgr\",\"removal_bgr\",\"removal_bgr\",\"removal_bgr\",\"removal_bgr\",\"removal_bgr\",\"removal_bgr\",\"removal_bgr\",\"removal_bgr\",\"removal_bgr\",\"removal_bgr\",\"removal_bgr\",\"removal_bgr\"],\"y\":[2.748437819892686,1.938425788865954,1.3831020447760578,1.259405855636992,1.9270484885246177,1.4458914999596735,1.066063345373037,1.3542981622819805,0.9824029968019878,6.152113600639839,3.265535337149726,5.462893998134926,1.6882911226817277,2.782094114729847,3.289308034260651,7.233618110263711,1.7434904396820547,1.3060115764114213,0.8210708809266716],\"type\":\"box\",\"xaxis\":\"x\",\"yaxis\":\"y\"},{\"boxmean\":true,\"boxpoints\":\"all\",\"legendgroup\":\"baseline\",\"marker\":{\"color\":\"#508587\"},\"name\":\"Baseline\",\"offsetgroup\":\"baseline\",\"showlegend\":false,\"text\":[\"stomach\",\"small_bowel\",\"colon\",\"liver\",\"gallbladder\",\"kidney\",\"spleen\",\"bladder\",\"omentum\",\"fat_subcutaneous\",\"lung\",\"heart\",\"skin\",\"muscle\",\"peritoneum\",\"background\"],\"x\":[\"no-occlusion\",\"no-occlusion\",\"no-occlusion\",\"no-occlusion\",\"no-occlusion\",\"no-occlusion\",\"no-occlusion\",\"no-occlusion\",\"no-occlusion\",\"no-occlusion\",\"no-occlusion\",\"no-occlusion\",\"no-occlusion\",\"no-occlusion\",\"no-occlusion\",\"no-occlusion\"],\"y\":[8.115232486464503,5.969073125206686,3.735228943227642,9.676693366997574,4.568128568665083,47.518973229265605,2.5956230693156392,1.6094927645324266,13.66835723169597,103.10906175925716,15.314561417717277,4.817022780860415,4.667950165379117,11.937290254210332,26.95452498847901,0.8458926578103885],\"type\":\"box\",\"xaxis\":\"x\",\"yaxis\":\"y\"},{\"boxmean\":true,\"boxpoints\":\"all\",\"legendgroup\":\"organ_transplantation\",\"marker\":{\"color\":\"#A39F5D\"},\"name\":\"Organ Transplantation\",\"offsetgroup\":\"organ_transplantation\",\"showlegend\":false,\"text\":[\"stomach\",\"small_bowel\",\"colon\",\"liver\",\"gallbladder\",\"kidney\",\"spleen\",\"bladder\",\"omentum\",\"fat_subcutaneous\",\"lung\",\"heart\",\"skin\",\"muscle\",\"peritoneum\",\"background\"],\"x\":[\"no-occlusion\",\"no-occlusion\",\"no-occlusion\",\"no-occlusion\",\"no-occlusion\",\"no-occlusion\",\"no-occlusion\",\"no-occlusion\",\"no-occlusion\",\"no-occlusion\",\"no-occlusion\",\"no-occlusion\",\"no-occlusion\",\"no-occlusion\",\"no-occlusion\",\"no-occlusion\"],\"y\":[4.5424897601863155,4.443573810474419,2.2435336617527226,5.840449449250943,6.3538673215773995,2.047175647692648,1.7487358992111632,2.656711382554148,8.391000979445494,112.3340173504236,11.039698886008411,6.060255943461013,3.685969700491374,5.867780490649516,27.955620242139815,0.8041563594748619],\"type\":\"box\",\"xaxis\":\"x\",\"yaxis\":\"y\"},{\"boxmean\":true,\"boxpoints\":\"all\",\"legendgroup\":\"baseline\",\"marker\":{\"color\":\"#508587\"},\"name\":\"Baseline\",\"offsetgroup\":\"baseline\",\"showlegend\":false,\"text\":[\"stomach\",\"small_bowel\",\"colon\",\"liver\",\"gallbladder\",\"pancreas\",\"kidney\",\"spleen\",\"bladder\",\"omentum\",\"fat_subcutaneous\",\"lung\",\"heart\",\"skin\",\"muscle\",\"peritoneum\",\"major_vein\",\"kidney_with_Gerotas_fascia\",\"background\"],\"x\":[\"occlusion\",\"occlusion\",\"occlusion\",\"occlusion\",\"occlusion\",\"occlusion\",\"occlusion\",\"occlusion\",\"occlusion\",\"occlusion\",\"occlusion\",\"occlusion\",\"occlusion\",\"occlusion\",\"occlusion\",\"occlusion\",\"occlusion\",\"occlusion\",\"occlusion\"],\"y\":[37.74574477378,11.890751229489933,34.286496152790804,20.52096697225447,4.2443212460512285,124.04301510297661,17.76205616968684,19.12560619923091,7.09471347075877,26.661128200568683,45.67343164301239,13.279682465280638,3.5848863400753754,107.60659726839476,9.48290911170468,63.480177417649635,9.154021926958219,5.1403185962463125,4.625161714187753],\"type\":\"box\",\"xaxis\":\"x\",\"yaxis\":\"y\"},{\"boxmean\":true,\"boxpoints\":\"all\",\"legendgroup\":\"organ_transplantation\",\"marker\":{\"color\":\"#A39F5D\"},\"name\":\"Organ Transplantation\",\"offsetgroup\":\"organ_transplantation\",\"showlegend\":false,\"text\":[\"stomach\",\"small_bowel\",\"colon\",\"liver\",\"gallbladder\",\"pancreas\",\"kidney\",\"spleen\",\"bladder\",\"omentum\",\"fat_subcutaneous\",\"lung\",\"heart\",\"skin\",\"muscle\",\"peritoneum\",\"major_vein\",\"kidney_with_Gerotas_fascia\",\"background\"],\"x\":[\"occlusion\",\"occlusion\",\"occlusion\",\"occlusion\",\"occlusion\",\"occlusion\",\"occlusion\",\"occlusion\",\"occlusion\",\"occlusion\",\"occlusion\",\"occlusion\",\"occlusion\",\"occlusion\",\"occlusion\",\"occlusion\",\"occlusion\",\"occlusion\",\"occlusion\"],\"y\":[23.766237962661563,8.199279948799447,17.410458588883312,19.341003678333838,6.412549778297613,20.85485989366717,13.871626247290637,40.30602234579892,2.6158369319484613,22.02234588337736,19.059565101919635,7.803016230497133,3.0784929458812775,104.68605355394692,3.056302895532908,44.736919666970984,4.255395087412032,2.949166513588099,5.179403297695365],\"type\":\"box\",\"xaxis\":\"x\",\"yaxis\":\"y\"},{\"boxmean\":true,\"boxpoints\":\"all\",\"legendgroup\":\"baseline\",\"marker\":{\"color\":\"#508587\"},\"name\":\"Baseline\",\"offsetgroup\":\"baseline\",\"showlegend\":false,\"text\":[\"stomach\",\"small_bowel\",\"colon\",\"liver\",\"gallbladder\",\"pancreas\",\"kidney\",\"spleen\",\"bladder\",\"omentum\",\"fat_subcutaneous\",\"lung\",\"heart\",\"skin\",\"muscle\",\"peritoneum\",\"major_vein\",\"kidney_with_Gerotas_fascia\",\"background\"],\"x\":[\"original\",\"original\",\"original\",\"original\",\"original\",\"original\",\"original\",\"original\",\"original\",\"original\",\"original\",\"original\",\"original\",\"original\",\"original\",\"original\",\"original\",\"original\",\"original\"],\"y\":[12.036222154210213,6.725621376041204,4.505724076370854,9.582881083013893,3.1401296681844215,2.1690738247597654,6.964220335010939,7.887159538350323,8.54613910647921,11.28710267794581,41.66023724461418,9.64220214096642,6.91436469433381,6.084345899981505,9.196797270887696,26.518657748420633,5.117726142712587,8.62645555150374,0.8865370245755638],\"type\":\"box\",\"xaxis\":\"x2\",\"yaxis\":\"y2\"},{\"boxmean\":true,\"boxpoints\":\"all\",\"legendgroup\":\"organ_transplantation\",\"marker\":{\"color\":\"#A39F5D\"},\"name\":\"Organ Transplantation\",\"offsetgroup\":\"organ_transplantation\",\"showlegend\":false,\"text\":[\"stomach\",\"small_bowel\",\"colon\",\"liver\",\"gallbladder\",\"pancreas\",\"kidney\",\"spleen\",\"bladder\",\"omentum\",\"fat_subcutaneous\",\"lung\",\"heart\",\"skin\",\"muscle\",\"peritoneum\",\"major_vein\",\"kidney_with_Gerotas_fascia\",\"background\"],\"x\":[\"original\",\"original\",\"original\",\"original\",\"original\",\"original\",\"original\",\"original\",\"original\",\"original\",\"original\",\"original\",\"original\",\"original\",\"original\",\"original\",\"original\",\"original\",\"original\"],\"y\":[8.694588729271683,7.691399755622254,4.933955530399296,6.619613038488053,2.9520642668312025,1.563873085295658,4.8599232983003855,7.462390218089885,3.1504787646363064,9.633773633498745,38.34074610890082,7.809389783339479,6.72770816993783,11.96468143272479,7.690794789027434,22.827456166689064,2.4480707110573614,5.064727562649397,1.1929469260574863],\"type\":\"box\",\"xaxis\":\"x2\",\"yaxis\":\"y2\"},{\"boxmean\":true,\"boxpoints\":\"all\",\"legendgroup\":\"baseline\",\"marker\":{\"color\":\"#508587\"},\"name\":\"Baseline\",\"offsetgroup\":\"baseline\",\"showlegend\":false,\"text\":[\"stomach\",\"small_bowel\",\"colon\",\"liver\",\"gallbladder\",\"pancreas\",\"kidney\",\"spleen\",\"bladder\",\"omentum\",\"fat_subcutaneous\",\"lung\",\"heart\",\"skin\",\"muscle\",\"peritoneum\",\"major_vein\",\"kidney_with_Gerotas_fascia\",\"background\"],\"x\":[\"isolation_zero\",\"isolation_zero\",\"isolation_zero\",\"isolation_zero\",\"isolation_zero\",\"isolation_zero\",\"isolation_zero\",\"isolation_zero\",\"isolation_zero\",\"isolation_zero\",\"isolation_zero\",\"isolation_zero\",\"isolation_zero\",\"isolation_zero\",\"isolation_zero\",\"isolation_zero\",\"isolation_zero\",\"isolation_zero\",\"isolation_zero\"],\"y\":[193.9864865688935,29.775980872154243,18.083276441795206,3.7383474353917068,664.4177152265135,97.67314236746405,12.53776909841282,183.2734206854211,226.9473550845425,407.25072028917674,529.7757204337911,1.973078390406479,2.834814416441422,178.0482655903223,326.80672016649703,157.1467940589612,722.699788812524,32.065976060589456,0.3168860436015937],\"type\":\"box\",\"xaxis\":\"x2\",\"yaxis\":\"y2\"},{\"boxmean\":true,\"boxpoints\":\"all\",\"legendgroup\":\"organ_transplantation\",\"marker\":{\"color\":\"#A39F5D\"},\"name\":\"Organ Transplantation\",\"offsetgroup\":\"organ_transplantation\",\"showlegend\":false,\"text\":[\"stomach\",\"small_bowel\",\"colon\",\"liver\",\"gallbladder\",\"pancreas\",\"kidney\",\"spleen\",\"bladder\",\"omentum\",\"fat_subcutaneous\",\"lung\",\"heart\",\"skin\",\"muscle\",\"peritoneum\",\"major_vein\",\"kidney_with_Gerotas_fascia\",\"background\"],\"x\":[\"isolation_zero\",\"isolation_zero\",\"isolation_zero\",\"isolation_zero\",\"isolation_zero\",\"isolation_zero\",\"isolation_zero\",\"isolation_zero\",\"isolation_zero\",\"isolation_zero\",\"isolation_zero\",\"isolation_zero\",\"isolation_zero\",\"isolation_zero\",\"isolation_zero\",\"isolation_zero\",\"isolation_zero\",\"isolation_zero\",\"isolation_zero\"],\"y\":[19.732436552064645,8.39494250914245,10.539607351324019,3.2190361605378848,616.8756479198917,0.8386835147017909,1.8747104132553694,377.03624458683544,228.99786543888095,1.7023608954814733,153.7515299283789,4.63254490050208,1.7394374317610923,120.45370998336651,28.73686169373934,167.41903426929088,467.6880403658915,17.895286963876444,0.10958682763040113],\"type\":\"box\",\"xaxis\":\"x2\",\"yaxis\":\"y2\"},{\"boxmean\":true,\"boxpoints\":\"all\",\"legendgroup\":\"baseline\",\"marker\":{\"color\":\"#508587\"},\"name\":\"Baseline\",\"offsetgroup\":\"baseline\",\"showlegend\":false,\"text\":[\"stomach\",\"small_bowel\",\"colon\",\"liver\",\"gallbladder\",\"pancreas\",\"kidney\",\"spleen\",\"bladder\",\"omentum\",\"fat_subcutaneous\",\"lung\",\"heart\",\"skin\",\"muscle\",\"peritoneum\",\"major_vein\",\"kidney_with_Gerotas_fascia\",\"background\"],\"x\":[\"isolation_bgr\",\"isolation_bgr\",\"isolation_bgr\",\"isolation_bgr\",\"isolation_bgr\",\"isolation_bgr\",\"isolation_bgr\",\"isolation_bgr\",\"isolation_bgr\",\"isolation_bgr\",\"isolation_bgr\",\"isolation_bgr\",\"isolation_bgr\",\"isolation_bgr\",\"isolation_bgr\",\"isolation_bgr\",\"isolation_bgr\",\"isolation_bgr\",\"isolation_bgr\"],\"y\":[477.806912597413,6.110773118577783,26.981892759628835,0.33536405654943396,526.0159506955437,444.9347028203129,39.776943933610895,314.979705916682,199.3551263447336,533.7683605103196,47.1921469950799,3.249577638686917,8.351703258020288,218.29726910148526,46.75855981860923,204.5042300438224,487.8020076899806,17.85218290966707,0.1516606152388423],\"type\":\"box\",\"xaxis\":\"x2\",\"yaxis\":\"y2\"},{\"boxmean\":true,\"boxpoints\":\"all\",\"legendgroup\":\"organ_transplantation\",\"marker\":{\"color\":\"#A39F5D\"},\"name\":\"Organ Transplantation\",\"offsetgroup\":\"organ_transplantation\",\"showlegend\":false,\"text\":[\"stomach\",\"small_bowel\",\"colon\",\"liver\",\"gallbladder\",\"pancreas\",\"kidney\",\"spleen\",\"bladder\",\"omentum\",\"fat_subcutaneous\",\"lung\",\"heart\",\"skin\",\"muscle\",\"peritoneum\",\"major_vein\",\"kidney_with_Gerotas_fascia\",\"background\"],\"x\":[\"isolation_bgr\",\"isolation_bgr\",\"isolation_bgr\",\"isolation_bgr\",\"isolation_bgr\",\"isolation_bgr\",\"isolation_bgr\",\"isolation_bgr\",\"isolation_bgr\",\"isolation_bgr\",\"isolation_bgr\",\"isolation_bgr\",\"isolation_bgr\",\"isolation_bgr\",\"isolation_bgr\",\"isolation_bgr\",\"isolation_bgr\",\"isolation_bgr\",\"isolation_bgr\"],\"y\":[36.77463553237523,0.7747031532905608,0.7966218582222573,7.745326292616026,385.8992607466396,0.5733769133217587,69.17254877515126,45.38494444714212,20.495371843534606,22.942952771017584,52.28795555653863,5.6750071628808785,0.8628865614249039,73.40472798611049,4.989127965905387,134.97680757452042,2.281903617968778,2.141525298599547,0.11758665828423034],\"type\":\"box\",\"xaxis\":\"x2\",\"yaxis\":\"y2\"},{\"boxmean\":true,\"boxpoints\":\"all\",\"legendgroup\":\"baseline\",\"marker\":{\"color\":\"#508587\"},\"name\":\"Baseline\",\"offsetgroup\":\"baseline\",\"showlegend\":false,\"text\":[\"stomach\",\"small_bowel\",\"colon\",\"liver\",\"gallbladder\",\"pancreas\",\"kidney\",\"spleen\",\"bladder\",\"omentum\",\"lung\",\"heart\",\"skin\",\"muscle\",\"peritoneum\",\"major_vein\",\"kidney_with_Gerotas_fascia\",\"background\"],\"x\":[\"isolation_real\",\"isolation_real\",\"isolation_real\",\"isolation_real\",\"isolation_real\",\"isolation_real\",\"isolation_real\",\"isolation_real\",\"isolation_real\",\"isolation_real\",\"isolation_real\",\"isolation_real\",\"isolation_real\",\"isolation_real\",\"isolation_real\",\"isolation_real\",\"isolation_real\",\"isolation_real\"],\"y\":[39.48344455299642,2.8443804468439646,1.2622359778027163,3.1853289787947077,9.135053526358247,6.608584072017924,11.675719821159454,20.351509899704613,4.954637902551581,28.418562545476664,2.162013979820464,4.150847315445023,21.717992966938745,58.42061219180677,16.29194385880545,35.640526734108285,14.69217791199763,0.5489290350240748],\"type\":\"box\",\"xaxis\":\"x2\",\"yaxis\":\"y2\"},{\"boxmean\":true,\"boxpoints\":\"all\",\"legendgroup\":\"organ_transplantation\",\"marker\":{\"color\":\"#A39F5D\"},\"name\":\"Organ Transplantation\",\"offsetgroup\":\"organ_transplantation\",\"showlegend\":false,\"text\":[\"stomach\",\"small_bowel\",\"colon\",\"liver\",\"gallbladder\",\"pancreas\",\"kidney\",\"spleen\",\"bladder\",\"omentum\",\"lung\",\"heart\",\"skin\",\"muscle\",\"peritoneum\",\"major_vein\",\"kidney_with_Gerotas_fascia\",\"background\"],\"x\":[\"isolation_real\",\"isolation_real\",\"isolation_real\",\"isolation_real\",\"isolation_real\",\"isolation_real\",\"isolation_real\",\"isolation_real\",\"isolation_real\",\"isolation_real\",\"isolation_real\",\"isolation_real\",\"isolation_real\",\"isolation_real\",\"isolation_real\",\"isolation_real\",\"isolation_real\",\"isolation_real\"],\"y\":[9.99252602777439,1.7005742636230952,1.2954603621908538,4.376953458626121,14.364779971732368,3.4909646307677917,1.085657407924527,4.164655970583001,0.8938513278294133,0.9898908540375481,1.6173975686026902,1.4268071228743542,2.3040157130679004,23.378548047881427,5.392646529772064,2.3391737110062296,7.82588250685999,0.6579523276915583],\"type\":\"box\",\"xaxis\":\"x2\",\"yaxis\":\"y2\"},{\"boxmean\":true,\"boxpoints\":\"all\",\"legendgroup\":\"baseline\",\"marker\":{\"color\":\"#508587\"},\"name\":\"Baseline\",\"offsetgroup\":\"baseline\",\"showlegend\":false,\"text\":[\"stomach\",\"small_bowel\",\"colon\",\"liver\",\"gallbladder\",\"pancreas\",\"kidney\",\"spleen\",\"bladder\",\"omentum\",\"fat_subcutaneous\",\"lung\",\"heart\",\"skin\",\"muscle\",\"peritoneum\",\"major_vein\",\"kidney_with_Gerotas_fascia\",\"background\"],\"x\":[\"removal_zero\",\"removal_zero\",\"removal_zero\",\"removal_zero\",\"removal_zero\",\"removal_zero\",\"removal_zero\",\"removal_zero\",\"removal_zero\",\"removal_zero\",\"removal_zero\",\"removal_zero\",\"removal_zero\",\"removal_zero\",\"removal_zero\",\"removal_zero\",\"removal_zero\",\"removal_zero\",\"removal_zero\"],\"y\":[7.121696239332093,2.9659933798252256,3.3503899795473773,3.5660425482054583,3.5433492844720447,2.199406330008131,6.65618800909742,6.140525957231306,4.806882333289633,8.027010329123465,12.70022018202545,10.315229633218836,4.755715322428116,4.678821504621449,7.491826861259835,11.988066960705886,3.247249021650148,10.51653642066518,1.2668018341210887],\"type\":\"box\",\"xaxis\":\"x2\",\"yaxis\":\"y2\"},{\"boxmean\":true,\"boxpoints\":\"all\",\"legendgroup\":\"organ_transplantation\",\"marker\":{\"color\":\"#A39F5D\"},\"name\":\"Organ Transplantation\",\"offsetgroup\":\"organ_transplantation\",\"showlegend\":false,\"text\":[\"stomach\",\"small_bowel\",\"colon\",\"liver\",\"gallbladder\",\"pancreas\",\"kidney\",\"spleen\",\"bladder\",\"omentum\",\"fat_subcutaneous\",\"lung\",\"heart\",\"skin\",\"muscle\",\"peritoneum\",\"major_vein\",\"kidney_with_Gerotas_fascia\",\"background\"],\"x\":[\"removal_zero\",\"removal_zero\",\"removal_zero\",\"removal_zero\",\"removal_zero\",\"removal_zero\",\"removal_zero\",\"removal_zero\",\"removal_zero\",\"removal_zero\",\"removal_zero\",\"removal_zero\",\"removal_zero\",\"removal_zero\",\"removal_zero\",\"removal_zero\",\"removal_zero\",\"removal_zero\",\"removal_zero\"],\"y\":[4.858965766022882,2.539279536153045,1.5173807337266136,1.9212617121583264,2.6071451523943656,0.9201775078611908,2.4280149043189043,4.111037989140751,1.7998396188336852,6.218253504696625,8.585700720780133,4.905714390239102,1.7172783120132158,6.924803258383448,4.558448952340858,5.139186090033776,2.1008072256042194,3.8363004305025,1.475190413700894],\"type\":\"box\",\"xaxis\":\"x2\",\"yaxis\":\"y2\"},{\"boxmean\":true,\"boxpoints\":\"all\",\"legendgroup\":\"baseline\",\"marker\":{\"color\":\"#508587\"},\"name\":\"Baseline\",\"offsetgroup\":\"baseline\",\"showlegend\":false,\"text\":[\"stomach\",\"small_bowel\",\"colon\",\"liver\",\"gallbladder\",\"pancreas\",\"kidney\",\"spleen\",\"bladder\",\"omentum\",\"fat_subcutaneous\",\"lung\",\"heart\",\"skin\",\"muscle\",\"peritoneum\",\"major_vein\",\"kidney_with_Gerotas_fascia\",\"background\"],\"x\":[\"removal_bgr\",\"removal_bgr\",\"removal_bgr\",\"removal_bgr\",\"removal_bgr\",\"removal_bgr\",\"removal_bgr\",\"removal_bgr\",\"removal_bgr\",\"removal_bgr\",\"removal_bgr\",\"removal_bgr\",\"removal_bgr\",\"removal_bgr\",\"removal_bgr\",\"removal_bgr\",\"removal_bgr\",\"removal_bgr\",\"removal_bgr\"],\"y\":[5.267388450831469,2.3320057298174994,2.8093685014554883,2.396539377294894,3.8774067036230546,1.6635683864341486,6.344765158997447,5.178605703992998,3.01120179506542,6.843770070829365,8.241556910656154,7.506898172429259,5.294315336475228,4.175498764907248,6.47954563694491,12.58476699685653,3.228617688470293,7.82687324061998,0.9679401888528651],\"type\":\"box\",\"xaxis\":\"x2\",\"yaxis\":\"y2\"},{\"boxmean\":true,\"boxpoints\":\"all\",\"legendgroup\":\"organ_transplantation\",\"marker\":{\"color\":\"#A39F5D\"},\"name\":\"Organ Transplantation\",\"offsetgroup\":\"organ_transplantation\",\"showlegend\":false,\"text\":[\"stomach\",\"small_bowel\",\"colon\",\"liver\",\"gallbladder\",\"pancreas\",\"kidney\",\"spleen\",\"bladder\",\"omentum\",\"fat_subcutaneous\",\"lung\",\"heart\",\"skin\",\"muscle\",\"peritoneum\",\"major_vein\",\"kidney_with_Gerotas_fascia\",\"background\"],\"x\":[\"removal_bgr\",\"removal_bgr\",\"removal_bgr\",\"removal_bgr\",\"removal_bgr\",\"removal_bgr\",\"removal_bgr\",\"removal_bgr\",\"removal_bgr\",\"removal_bgr\",\"removal_bgr\",\"removal_bgr\",\"removal_bgr\",\"removal_bgr\",\"removal_bgr\",\"removal_bgr\",\"removal_bgr\",\"removal_bgr\",\"removal_bgr\"],\"y\":[3.8015498361491353,2.8919492298051233,1.4164707575372217,2.7728969382225226,2.2024862456887773,0.7857724620302441,2.52601127849579,4.010247717121406,1.1572569527552299,6.349069662910663,8.032326021277266,5.599954394599654,2.045061837119668,8.580429704287049,4.14825451883435,7.206717636706523,1.6617024497979558,3.3816050449917516,1.0747743244072399],\"type\":\"box\",\"xaxis\":\"x2\",\"yaxis\":\"y2\"},{\"boxmean\":true,\"boxpoints\":\"all\",\"legendgroup\":\"baseline\",\"marker\":{\"color\":\"#508587\"},\"name\":\"Baseline\",\"offsetgroup\":\"baseline\",\"showlegend\":false,\"text\":[\"stomach\",\"small_bowel\",\"colon\",\"liver\",\"gallbladder\",\"kidney\",\"spleen\",\"bladder\",\"omentum\",\"fat_subcutaneous\",\"lung\",\"heart\",\"skin\",\"muscle\",\"peritoneum\",\"background\"],\"x\":[\"no-occlusion\",\"no-occlusion\",\"no-occlusion\",\"no-occlusion\",\"no-occlusion\",\"no-occlusion\",\"no-occlusion\",\"no-occlusion\",\"no-occlusion\",\"no-occlusion\",\"no-occlusion\",\"no-occlusion\",\"no-occlusion\",\"no-occlusion\",\"no-occlusion\",\"no-occlusion\"],\"y\":[6.2453987009208225,5.617228799361287,4.035356353444231,9.418304253969483,4.960566382786952,43.831402498870276,2.6179680798344593,7.944283843161164,8.276959484063854,111.61681671117485,16.081290060736237,6.9361916452004335,6.18701056272663,11.190471331450535,16.85570742359381,1.044184988726656],\"type\":\"box\",\"xaxis\":\"x2\",\"yaxis\":\"y2\"},{\"boxmean\":true,\"boxpoints\":\"all\",\"legendgroup\":\"organ_transplantation\",\"marker\":{\"color\":\"#A39F5D\"},\"name\":\"Organ Transplantation\",\"offsetgroup\":\"organ_transplantation\",\"showlegend\":false,\"text\":[\"stomach\",\"small_bowel\",\"colon\",\"liver\",\"gallbladder\",\"kidney\",\"spleen\",\"bladder\",\"omentum\",\"fat_subcutaneous\",\"lung\",\"heart\",\"skin\",\"muscle\",\"peritoneum\",\"background\"],\"x\":[\"no-occlusion\",\"no-occlusion\",\"no-occlusion\",\"no-occlusion\",\"no-occlusion\",\"no-occlusion\",\"no-occlusion\",\"no-occlusion\",\"no-occlusion\",\"no-occlusion\",\"no-occlusion\",\"no-occlusion\",\"no-occlusion\",\"no-occlusion\",\"no-occlusion\",\"no-occlusion\"],\"y\":[3.2322785730823513,5.820289435648808,4.491557782100811,8.022084563355286,4.945102848994848,4.99838408068421,2.667445983330164,4.926451022484905,15.035554282859769,68.31397421603211,13.346148820165771,6.1547361424798055,6.249986659982284,8.206812832843518,16.652046222381376,1.0393406663405034],\"type\":\"box\",\"xaxis\":\"x2\",\"yaxis\":\"y2\"},{\"boxmean\":true,\"boxpoints\":\"all\",\"legendgroup\":\"baseline\",\"marker\":{\"color\":\"#508587\"},\"name\":\"Baseline\",\"offsetgroup\":\"baseline\",\"showlegend\":false,\"text\":[\"stomach\",\"small_bowel\",\"colon\",\"liver\",\"gallbladder\",\"pancreas\",\"kidney\",\"spleen\",\"bladder\",\"omentum\",\"fat_subcutaneous\",\"lung\",\"heart\",\"skin\",\"muscle\",\"peritoneum\",\"major_vein\",\"kidney_with_Gerotas_fascia\",\"background\"],\"x\":[\"occlusion\",\"occlusion\",\"occlusion\",\"occlusion\",\"occlusion\",\"occlusion\",\"occlusion\",\"occlusion\",\"occlusion\",\"occlusion\",\"occlusion\",\"occlusion\",\"occlusion\",\"occlusion\",\"occlusion\",\"occlusion\",\"occlusion\",\"occlusion\",\"occlusion\"],\"y\":[36.24942148104419,16.097168589791863,32.62007990032899,32.64641658257315,61.704208202246114,37.879766681547416,16.295541920600243,32.5835909203042,19.902789556268434,55.846856637383986,68.15913488643176,8.500489424604421,4.224667969042239,109.38614429180939,13.283774179469715,62.66479402167459,13.948960484795473,6.477948093282967,5.081865904057857],\"type\":\"box\",\"xaxis\":\"x2\",\"yaxis\":\"y2\"},{\"boxmean\":true,\"boxpoints\":\"all\",\"legendgroup\":\"organ_transplantation\",\"marker\":{\"color\":\"#A39F5D\"},\"name\":\"Organ Transplantation\",\"offsetgroup\":\"organ_transplantation\",\"showlegend\":false,\"text\":[\"stomach\",\"small_bowel\",\"colon\",\"liver\",\"gallbladder\",\"pancreas\",\"kidney\",\"spleen\",\"bladder\",\"omentum\",\"fat_subcutaneous\",\"lung\",\"heart\",\"skin\",\"muscle\",\"peritoneum\",\"major_vein\",\"kidney_with_Gerotas_fascia\",\"background\"],\"x\":[\"occlusion\",\"occlusion\",\"occlusion\",\"occlusion\",\"occlusion\",\"occlusion\",\"occlusion\",\"occlusion\",\"occlusion\",\"occlusion\",\"occlusion\",\"occlusion\",\"occlusion\",\"occlusion\",\"occlusion\",\"occlusion\",\"occlusion\",\"occlusion\",\"occlusion\"],\"y\":[43.75107627091262,10.266786917116246,32.66822676987525,18.9225330135754,25.167801947734898,10.38875841708003,4.774503207513826,30.2602770942346,4.094309543917988,47.65042665931691,29.116479164334823,2.344091551630933,3.0415972620090206,101.77482987006496,6.793902618138234,69.73553458378258,4.342079129841887,4.637166906175217,4.3128167218196225],\"type\":\"box\",\"xaxis\":\"x2\",\"yaxis\":\"y2\"}],                        {\"template\":{\"data\":{\"barpolar\":[{\"marker\":{\"line\":{\"color\":\"white\",\"width\":0.5},\"pattern\":{\"fillmode\":\"overlay\",\"size\":10,\"solidity\":0.2}},\"type\":\"barpolar\"}],\"bar\":[{\"error_x\":{\"color\":\"#2a3f5f\"},\"error_y\":{\"color\":\"#2a3f5f\"},\"marker\":{\"line\":{\"color\":\"white\",\"width\":0.5},\"pattern\":{\"fillmode\":\"overlay\",\"size\":10,\"solidity\":0.2}},\"type\":\"bar\"}],\"carpet\":[{\"aaxis\":{\"endlinecolor\":\"#2a3f5f\",\"gridcolor\":\"#C8D4E3\",\"linecolor\":\"#C8D4E3\",\"minorgridcolor\":\"#C8D4E3\",\"startlinecolor\":\"#2a3f5f\"},\"baxis\":{\"endlinecolor\":\"#2a3f5f\",\"gridcolor\":\"#C8D4E3\",\"linecolor\":\"#C8D4E3\",\"minorgridcolor\":\"#C8D4E3\",\"startlinecolor\":\"#2a3f5f\"},\"type\":\"carpet\"}],\"choropleth\":[{\"colorbar\":{\"outlinewidth\":0,\"ticks\":\"\"},\"type\":\"choropleth\"}],\"contourcarpet\":[{\"colorbar\":{\"outlinewidth\":0,\"ticks\":\"\"},\"type\":\"contourcarpet\"}],\"contour\":[{\"colorbar\":{\"outlinewidth\":0,\"ticks\":\"\"},\"colorscale\":[[0.0,\"#0d0887\"],[0.1111111111111111,\"#46039f\"],[0.2222222222222222,\"#7201a8\"],[0.3333333333333333,\"#9c179e\"],[0.4444444444444444,\"#bd3786\"],[0.5555555555555556,\"#d8576b\"],[0.6666666666666666,\"#ed7953\"],[0.7777777777777778,\"#fb9f3a\"],[0.8888888888888888,\"#fdca26\"],[1.0,\"#f0f921\"]],\"type\":\"contour\"}],\"heatmapgl\":[{\"colorbar\":{\"outlinewidth\":0,\"ticks\":\"\"},\"colorscale\":[[0.0,\"#0d0887\"],[0.1111111111111111,\"#46039f\"],[0.2222222222222222,\"#7201a8\"],[0.3333333333333333,\"#9c179e\"],[0.4444444444444444,\"#bd3786\"],[0.5555555555555556,\"#d8576b\"],[0.6666666666666666,\"#ed7953\"],[0.7777777777777778,\"#fb9f3a\"],[0.8888888888888888,\"#fdca26\"],[1.0,\"#f0f921\"]],\"type\":\"heatmapgl\"}],\"heatmap\":[{\"colorbar\":{\"outlinewidth\":0,\"ticks\":\"\"},\"colorscale\":[[0.0,\"#0d0887\"],[0.1111111111111111,\"#46039f\"],[0.2222222222222222,\"#7201a8\"],[0.3333333333333333,\"#9c179e\"],[0.4444444444444444,\"#bd3786\"],[0.5555555555555556,\"#d8576b\"],[0.6666666666666666,\"#ed7953\"],[0.7777777777777778,\"#fb9f3a\"],[0.8888888888888888,\"#fdca26\"],[1.0,\"#f0f921\"]],\"type\":\"heatmap\"}],\"histogram2dcontour\":[{\"colorbar\":{\"outlinewidth\":0,\"ticks\":\"\"},\"colorscale\":[[0.0,\"#0d0887\"],[0.1111111111111111,\"#46039f\"],[0.2222222222222222,\"#7201a8\"],[0.3333333333333333,\"#9c179e\"],[0.4444444444444444,\"#bd3786\"],[0.5555555555555556,\"#d8576b\"],[0.6666666666666666,\"#ed7953\"],[0.7777777777777778,\"#fb9f3a\"],[0.8888888888888888,\"#fdca26\"],[1.0,\"#f0f921\"]],\"type\":\"histogram2dcontour\"}],\"histogram2d\":[{\"colorbar\":{\"outlinewidth\":0,\"ticks\":\"\"},\"colorscale\":[[0.0,\"#0d0887\"],[0.1111111111111111,\"#46039f\"],[0.2222222222222222,\"#7201a8\"],[0.3333333333333333,\"#9c179e\"],[0.4444444444444444,\"#bd3786\"],[0.5555555555555556,\"#d8576b\"],[0.6666666666666666,\"#ed7953\"],[0.7777777777777778,\"#fb9f3a\"],[0.8888888888888888,\"#fdca26\"],[1.0,\"#f0f921\"]],\"type\":\"histogram2d\"}],\"histogram\":[{\"marker\":{\"pattern\":{\"fillmode\":\"overlay\",\"size\":10,\"solidity\":0.2}},\"type\":\"histogram\"}],\"mesh3d\":[{\"colorbar\":{\"outlinewidth\":0,\"ticks\":\"\"},\"type\":\"mesh3d\"}],\"parcoords\":[{\"line\":{\"colorbar\":{\"outlinewidth\":0,\"ticks\":\"\"}},\"type\":\"parcoords\"}],\"pie\":[{\"automargin\":true,\"type\":\"pie\"}],\"scatter3d\":[{\"line\":{\"colorbar\":{\"outlinewidth\":0,\"ticks\":\"\"}},\"marker\":{\"colorbar\":{\"outlinewidth\":0,\"ticks\":\"\"}},\"type\":\"scatter3d\"}],\"scattercarpet\":[{\"marker\":{\"colorbar\":{\"outlinewidth\":0,\"ticks\":\"\"}},\"type\":\"scattercarpet\"}],\"scattergeo\":[{\"marker\":{\"colorbar\":{\"outlinewidth\":0,\"ticks\":\"\"}},\"type\":\"scattergeo\"}],\"scattergl\":[{\"marker\":{\"colorbar\":{\"outlinewidth\":0,\"ticks\":\"\"}},\"type\":\"scattergl\"}],\"scattermapbox\":[{\"marker\":{\"colorbar\":{\"outlinewidth\":0,\"ticks\":\"\"}},\"type\":\"scattermapbox\"}],\"scatterpolargl\":[{\"marker\":{\"colorbar\":{\"outlinewidth\":0,\"ticks\":\"\"}},\"type\":\"scatterpolargl\"}],\"scatterpolar\":[{\"marker\":{\"colorbar\":{\"outlinewidth\":0,\"ticks\":\"\"}},\"type\":\"scatterpolar\"}],\"scatter\":[{\"fillpattern\":{\"fillmode\":\"overlay\",\"size\":10,\"solidity\":0.2},\"type\":\"scatter\"}],\"scatterternary\":[{\"marker\":{\"colorbar\":{\"outlinewidth\":0,\"ticks\":\"\"}},\"type\":\"scatterternary\"}],\"surface\":[{\"colorbar\":{\"outlinewidth\":0,\"ticks\":\"\"},\"colorscale\":[[0.0,\"#0d0887\"],[0.1111111111111111,\"#46039f\"],[0.2222222222222222,\"#7201a8\"],[0.3333333333333333,\"#9c179e\"],[0.4444444444444444,\"#bd3786\"],[0.5555555555555556,\"#d8576b\"],[0.6666666666666666,\"#ed7953\"],[0.7777777777777778,\"#fb9f3a\"],[0.8888888888888888,\"#fdca26\"],[1.0,\"#f0f921\"]],\"type\":\"surface\"}],\"table\":[{\"cells\":{\"fill\":{\"color\":\"#EBF0F8\"},\"line\":{\"color\":\"white\"}},\"header\":{\"fill\":{\"color\":\"#C8D4E3\"},\"line\":{\"color\":\"white\"}},\"type\":\"table\"}]},\"layout\":{\"annotationdefaults\":{\"arrowcolor\":\"#2a3f5f\",\"arrowhead\":0,\"arrowwidth\":1},\"autotypenumbers\":\"strict\",\"coloraxis\":{\"colorbar\":{\"outlinewidth\":0,\"ticks\":\"\"}},\"colorscale\":{\"diverging\":[[0,\"#8e0152\"],[0.1,\"#c51b7d\"],[0.2,\"#de77ae\"],[0.3,\"#f1b6da\"],[0.4,\"#fde0ef\"],[0.5,\"#f7f7f7\"],[0.6,\"#e6f5d0\"],[0.7,\"#b8e186\"],[0.8,\"#7fbc41\"],[0.9,\"#4d9221\"],[1,\"#276419\"]],\"sequential\":[[0.0,\"#0d0887\"],[0.1111111111111111,\"#46039f\"],[0.2222222222222222,\"#7201a8\"],[0.3333333333333333,\"#9c179e\"],[0.4444444444444444,\"#bd3786\"],[0.5555555555555556,\"#d8576b\"],[0.6666666666666666,\"#ed7953\"],[0.7777777777777778,\"#fb9f3a\"],[0.8888888888888888,\"#fdca26\"],[1.0,\"#f0f921\"]],\"sequentialminus\":[[0.0,\"#0d0887\"],[0.1111111111111111,\"#46039f\"],[0.2222222222222222,\"#7201a8\"],[0.3333333333333333,\"#9c179e\"],[0.4444444444444444,\"#bd3786\"],[0.5555555555555556,\"#d8576b\"],[0.6666666666666666,\"#ed7953\"],[0.7777777777777778,\"#fb9f3a\"],[0.8888888888888888,\"#fdca26\"],[1.0,\"#f0f921\"]]},\"colorway\":[\"#636efa\",\"#EF553B\",\"#00cc96\",\"#ab63fa\",\"#FFA15A\",\"#19d3f3\",\"#FF6692\",\"#B6E880\",\"#FF97FF\",\"#FECB52\"],\"font\":{\"color\":\"#2a3f5f\"},\"geo\":{\"bgcolor\":\"white\",\"lakecolor\":\"white\",\"landcolor\":\"white\",\"showlakes\":true,\"showland\":true,\"subunitcolor\":\"#C8D4E3\"},\"hoverlabel\":{\"align\":\"left\"},\"hovermode\":\"closest\",\"mapbox\":{\"style\":\"light\"},\"paper_bgcolor\":\"white\",\"plot_bgcolor\":\"white\",\"polar\":{\"angularaxis\":{\"gridcolor\":\"#EBF0F8\",\"linecolor\":\"#EBF0F8\",\"ticks\":\"\"},\"bgcolor\":\"white\",\"radialaxis\":{\"gridcolor\":\"#EBF0F8\",\"linecolor\":\"#EBF0F8\",\"ticks\":\"\"}},\"scene\":{\"xaxis\":{\"backgroundcolor\":\"white\",\"gridcolor\":\"#DFE8F3\",\"gridwidth\":2,\"linecolor\":\"#EBF0F8\",\"showbackground\":true,\"ticks\":\"\",\"zerolinecolor\":\"#EBF0F8\"},\"yaxis\":{\"backgroundcolor\":\"white\",\"gridcolor\":\"#DFE8F3\",\"gridwidth\":2,\"linecolor\":\"#EBF0F8\",\"showbackground\":true,\"ticks\":\"\",\"zerolinecolor\":\"#EBF0F8\"},\"zaxis\":{\"backgroundcolor\":\"white\",\"gridcolor\":\"#DFE8F3\",\"gridwidth\":2,\"linecolor\":\"#EBF0F8\",\"showbackground\":true,\"ticks\":\"\",\"zerolinecolor\":\"#EBF0F8\"}},\"shapedefaults\":{\"line\":{\"color\":\"#2a3f5f\"}},\"ternary\":{\"aaxis\":{\"gridcolor\":\"#DFE8F3\",\"linecolor\":\"#A2B1C6\",\"ticks\":\"\"},\"baxis\":{\"gridcolor\":\"#DFE8F3\",\"linecolor\":\"#A2B1C6\",\"ticks\":\"\"},\"bgcolor\":\"white\",\"caxis\":{\"gridcolor\":\"#DFE8F3\",\"linecolor\":\"#A2B1C6\",\"ticks\":\"\"}},\"title\":{\"x\":0.05},\"xaxis\":{\"automargin\":true,\"gridcolor\":\"#EBF0F8\",\"linecolor\":\"#EBF0F8\",\"ticks\":\"\",\"title\":{\"standoff\":15},\"zerolinecolor\":\"#EBF0F8\",\"zerolinewidth\":2},\"yaxis\":{\"automargin\":true,\"gridcolor\":\"#EBF0F8\",\"linecolor\":\"#EBF0F8\",\"ticks\":\"\",\"title\":{\"standoff\":15},\"zerolinecolor\":\"#EBF0F8\",\"zerolinewidth\":2}}},\"xaxis\":{\"anchor\":\"y\",\"domain\":[0.0,1.0],\"matches\":\"x2\",\"showticklabels\":false,\"tickfont\":{\"size\":16},\"autorangeoptions\":{\"minallowed\":-0.52,\"maxallowed\":7.4},\"range\":[-0.52,7.4]},\"yaxis\":{\"anchor\":\"x\",\"domain\":[0.5349999999999999,0.9999999999999999],\"title\":{\"text\":\"ASD\"},\"tickfont\":{\"size\":16},\"type\":\"log\"},\"xaxis2\":{\"anchor\":\"y2\",\"domain\":[0.0,1.0],\"tickfont\":{\"size\":16}},\"yaxis2\":{\"anchor\":\"x2\",\"domain\":[0.0,0.46499999999999997],\"title\":{\"text\":\"ASD\"},\"tickfont\":{\"size\":16},\"type\":\"log\"},\"annotations\":[{\"font\":{\"size\":20},\"showarrow\":false,\"text\":\"\\u003cb\\u003eHSI\\u003c\\u002fb\\u003e\",\"x\":0,\"xanchor\":\"left\",\"xref\":\"paper\",\"y\":0.9999999999999999,\"yanchor\":\"bottom\",\"yref\":\"paper\"},{\"font\":{\"size\":20},\"showarrow\":false,\"text\":\"\\u003cb\\u003eRGB\\u003c\\u002fb\\u003e\",\"x\":0,\"xanchor\":\"left\",\"xref\":\"paper\",\"y\":0.46499999999999997,\"yanchor\":\"bottom\",\"yref\":\"paper\"}],\"boxmode\":\"group\",\"boxgap\":0.2,\"boxgroupgap\":0.4,\"legend\":{\"orientation\":\"h\",\"yanchor\":\"bottom\",\"y\":1.01,\"xanchor\":\"center\",\"x\":0.5},\"font\":{\"family\":\"Libertinus Serif\",\"size\":20},\"margin\":{\"l\":0,\"r\":0,\"b\":0,\"t\":0},\"height\":510,\"width\":1000},                        {\"responsive\": true}                    ).then(function(){\n",
       "                            \n",
       "var gd = document.getElementById('62e6e282-e5c1-457c-b8c3-a967b36711eb');\n",
       "var x = new MutationObserver(function (mutations, observer) {{\n",
       "        var display = window.getComputedStyle(gd).display;\n",
       "        if (!display || display === 'none') {{\n",
       "            console.log([gd, 'removed!']);\n",
       "            Plotly.purge(gd);\n",
       "            observer.disconnect();\n",
       "        }}\n",
       "}});\n",
       "\n",
       "// Listen for the removal of the full notebook cells\n",
       "var notebookContainer = gd.closest('#notebook-container');\n",
       "if (notebookContainer) {{\n",
       "    x.observe(notebookContainer, {childList: true});\n",
       "}}\n",
       "\n",
       "// Listen for the clearing of the current output cell\n",
       "var outputEl = gd.closest('.output');\n",
       "if (outputEl) {{\n",
       "    x.observe(outputEl, {childList: true});\n",
       "}}\n",
       "\n",
       "                        })                };                });            </script>        </div>"
      ]
     },
     "metadata": {},
     "output_type": "display_data"
    }
   ],
   "source": [
    "fig = dataset_comparison(\"surface_distance_metric\")\n",
    "fig.update_yaxes(type=\"log\", range=None)\n",
    "fig.update_yaxes(title=\"ASD\")"
   ]
  },
  {
   "cell_type": "markdown",
   "id": "68346a69-797f-4cf0-9f75-5f2cdeab8f62",
   "metadata": {},
   "source": [
    "## Modality Comparison"
   ]
  },
  {
   "cell_type": "code",
   "execution_count": 6,
   "id": "143843cf-7d7c-45f9-bc58-08c4fff05fad",
   "metadata": {},
   "outputs": [
    {
     "data": {
      "application/vnd.plotly.v1+json": {
       "config": {
        "plotlyServerURL": "https://plot.ly"
       },
       "data": [
        {
         "boxmean": true,
         "boxpoints": "all",
         "legendgroup": "baseline#HSI",
         "marker": {
          "color": "#508587"
         },
         "name": "baseline#HSI",
         "offsetgroup": "baseline",
         "showlegend": true,
         "text": [
          "stomach",
          "small_bowel",
          "colon",
          "liver",
          "gallbladder",
          "pancreas",
          "kidney",
          "spleen",
          "bladder",
          "omentum",
          "fat_subcutaneous",
          "lung",
          "heart",
          "skin",
          "muscle",
          "peritoneum",
          "major_vein",
          "kidney_with_Gerotas_fascia",
          "background"
         ],
         "type": "box",
         "x": [
          "HSI",
          "HSI",
          "HSI",
          "HSI",
          "HSI",
          "HSI",
          "HSI",
          "HSI",
          "HSI",
          "HSI",
          "HSI",
          "HSI",
          "HSI",
          "HSI",
          "HSI",
          "HSI",
          "HSI",
          "HSI",
          "HSI"
         ],
         "xaxis": "x",
         "y": [
          0.861473641071633,
          0.9572065303861302,
          0.9485893705638366,
          0.9555865674609633,
          0.8123611938238926,
          0.9236893593318879,
          0.8996078640806908,
          0.9500669538407098,
          0.9558500068383815,
          0.767298252647227,
          0.6621610555058088,
          0.8566362063090006,
          0.9327061706119113,
          0.7583362563473968,
          0.8854879140853882,
          0.7739984667639888,
          0.7015092611312866,
          0.7966977834701539,
          0.9920313810608464
         ],
         "yaxis": "y"
        },
        {
         "boxmean": true,
         "boxpoints": "all",
         "legendgroup": "surgical_augmentations#HSI",
         "marker": {
          "color": "#A39F5D"
         },
         "name": "surgical_augmentations#HSI",
         "offsetgroup": "organ_transplantation",
         "showlegend": true,
         "text": [
          "stomach",
          "small_bowel",
          "colon",
          "liver",
          "gallbladder",
          "pancreas",
          "kidney",
          "spleen",
          "bladder",
          "omentum",
          "fat_subcutaneous",
          "lung",
          "heart",
          "skin",
          "muscle",
          "peritoneum",
          "major_vein",
          "kidney_with_Gerotas_fascia",
          "background"
         ],
         "type": "box",
         "x": [
          "HSI",
          "HSI",
          "HSI",
          "HSI",
          "HSI",
          "HSI",
          "HSI",
          "HSI",
          "HSI",
          "HSI",
          "HSI",
          "HSI",
          "HSI",
          "HSI",
          "HSI",
          "HSI",
          "HSI",
          "HSI",
          "HSI"
         ],
         "xaxis": "x",
         "y": [
          0.871478492960077,
          0.953197890129721,
          0.9626351645232907,
          0.949342466239108,
          0.8397138351436906,
          0.9312997106521849,
          0.8913204654369479,
          0.938095459559607,
          0.9503241149728948,
          0.7545647466780749,
          0.7038704440770721,
          0.8303254259957208,
          0.9294263362884522,
          0.7952009146860798,
          0.8911105791727703,
          0.7843635316202398,
          0.8747839868068695,
          0.9263071715831757,
          0.9911609232055476
         ],
         "yaxis": "y"
        },
        {
         "boxmean": true,
         "boxpoints": "all",
         "legendgroup": "baseline#RGB",
         "marker": {
          "color": "#66ABAD"
         },
         "name": "baseline#RGB",
         "offsetgroup": "baseline",
         "showlegend": true,
         "text": [
          "stomach",
          "small_bowel",
          "colon",
          "liver",
          "gallbladder",
          "pancreas",
          "kidney",
          "spleen",
          "bladder",
          "omentum",
          "fat_subcutaneous",
          "lung",
          "heart",
          "skin",
          "muscle",
          "peritoneum",
          "major_vein",
          "kidney_with_Gerotas_fascia",
          "background"
         ],
         "type": "box",
         "x": [
          "RGB",
          "RGB",
          "RGB",
          "RGB",
          "RGB",
          "RGB",
          "RGB",
          "RGB",
          "RGB",
          "RGB",
          "RGB",
          "RGB",
          "RGB",
          "RGB",
          "RGB",
          "RGB",
          "RGB",
          "RGB",
          "RGB"
         ],
         "xaxis": "x",
         "y": [
          0.7824955355367889,
          0.9450368555903562,
          0.9469814192026815,
          0.9240282243297946,
          0.807597905372947,
          0.9540464832669212,
          0.8825857608146916,
          0.7922294622375852,
          0.799119303450784,
          0.7657403579266796,
          0.6833133255539725,
          0.831808384259542,
          0.9281005170610216,
          0.7594127542377497,
          0.8567541837692261,
          0.7216715267608336,
          0.592743992805481,
          0.8148314654827118,
          0.990822307828102
         ],
         "yaxis": "y"
        },
        {
         "boxmean": true,
         "boxpoints": "all",
         "legendgroup": "surgical_augmentations#RGB",
         "marker": {
          "color": "#C9C473"
         },
         "name": "surgical_augmentations#RGB",
         "offsetgroup": "organ_transplantation",
         "showlegend": true,
         "text": [
          "stomach",
          "small_bowel",
          "colon",
          "liver",
          "gallbladder",
          "pancreas",
          "kidney",
          "spleen",
          "bladder",
          "omentum",
          "fat_subcutaneous",
          "lung",
          "heart",
          "skin",
          "muscle",
          "peritoneum",
          "major_vein",
          "kidney_with_Gerotas_fascia",
          "background"
         ],
         "type": "box",
         "x": [
          "RGB",
          "RGB",
          "RGB",
          "RGB",
          "RGB",
          "RGB",
          "RGB",
          "RGB",
          "RGB",
          "RGB",
          "RGB",
          "RGB",
          "RGB",
          "RGB",
          "RGB",
          "RGB",
          "RGB",
          "RGB",
          "RGB"
         ],
         "xaxis": "x",
         "y": [
          0.8279000323747592,
          0.9458623969825422,
          0.9559748782655646,
          0.9356500438016397,
          0.7917375597607327,
          0.9529784104180715,
          0.8825142367992526,
          0.8425740397922576,
          0.9079341381989516,
          0.7575602977083589,
          0.7041868841498824,
          0.8190641085306803,
          0.9214527024163139,
          0.7965604270277744,
          0.8819332520167034,
          0.7661995957315753,
          0.9043801844120025,
          0.888197922706604,
          0.9899106672380512
         ],
         "yaxis": "y"
        },
        {
         "boxmean": true,
         "boxpoints": "all",
         "legendgroup": "baseline#HSI",
         "marker": {
          "color": "#508587"
         },
         "name": "baseline#HSI",
         "offsetgroup": "baseline",
         "showlegend": false,
         "text": [
          "stomach",
          "small_bowel",
          "colon",
          "liver",
          "gallbladder",
          "pancreas",
          "kidney",
          "spleen",
          "bladder",
          "omentum",
          "fat_subcutaneous",
          "lung",
          "heart",
          "skin",
          "muscle",
          "peritoneum",
          "major_vein",
          "kidney_with_Gerotas_fascia",
          "background"
         ],
         "type": "box",
         "x": [
          "HSI",
          "HSI",
          "HSI",
          "HSI",
          "HSI",
          "HSI",
          "HSI",
          "HSI",
          "HSI",
          "HSI",
          "HSI",
          "HSI",
          "HSI",
          "HSI",
          "HSI",
          "HSI",
          "HSI",
          "HSI",
          "HSI"
         ],
         "xaxis": "x2",
         "y": [
          0.39479507159114846,
          0.9911825057550361,
          0.8449777326614377,
          0.9621615207652136,
          0.2910822102393227,
          0.5774546278847589,
          0.8948847343719084,
          0.9168938959969416,
          0.7568019022363605,
          0.2674300310453134,
          0.8416794393484835,
          0.8218441009521484,
          0.8628027862972684,
          0.8751007167331887,
          0.808013916015625,
          0.2966142138423642,
          0.00765759265050292,
          0.47979618012905123,
          0.997153203386522
         ],
         "yaxis": "y2"
        },
        {
         "boxmean": true,
         "boxpoints": "all",
         "legendgroup": "surgical_augmentations#HSI",
         "marker": {
          "color": "#A39F5D"
         },
         "name": "surgical_augmentations#HSI",
         "offsetgroup": "organ_transplantation",
         "showlegend": false,
         "text": [
          "stomach",
          "small_bowel",
          "colon",
          "liver",
          "gallbladder",
          "pancreas",
          "kidney",
          "spleen",
          "bladder",
          "omentum",
          "fat_subcutaneous",
          "lung",
          "heart",
          "skin",
          "muscle",
          "peritoneum",
          "major_vein",
          "kidney_with_Gerotas_fascia",
          "background"
         ],
         "type": "box",
         "x": [
          "HSI",
          "HSI",
          "HSI",
          "HSI",
          "HSI",
          "HSI",
          "HSI",
          "HSI",
          "HSI",
          "HSI",
          "HSI",
          "HSI",
          "HSI",
          "HSI",
          "HSI",
          "HSI",
          "HSI",
          "HSI",
          "HSI"
         ],
         "xaxis": "x2",
         "y": [
          0.9421074786406269,
          0.9781582553073196,
          0.9593554542817214,
          0.9785389385543217,
          0.5860084553558091,
          0.9701881968785845,
          0.9372281311384214,
          0.9219912482821753,
          0.8184919691849581,
          0.8177816964471619,
          0.8296041384152735,
          0.7274453401565552,
          0.9880592346191407,
          0.7420004522744984,
          0.8101866245269775,
          0.6942861812113064,
          0.811734402179718,
          0.5464106634259224,
          0.998450558035341
         ],
         "yaxis": "y2"
        },
        {
         "boxmean": true,
         "boxpoints": "all",
         "legendgroup": "baseline#RGB",
         "marker": {
          "color": "#66ABAD"
         },
         "name": "baseline#RGB",
         "offsetgroup": "baseline",
         "showlegend": false,
         "text": [
          "stomach",
          "small_bowel",
          "colon",
          "liver",
          "gallbladder",
          "pancreas",
          "kidney",
          "spleen",
          "bladder",
          "omentum",
          "fat_subcutaneous",
          "lung",
          "heart",
          "skin",
          "muscle",
          "peritoneum",
          "major_vein",
          "kidney_with_Gerotas_fascia",
          "background"
         ],
         "type": "box",
         "x": [
          "RGB",
          "RGB",
          "RGB",
          "RGB",
          "RGB",
          "RGB",
          "RGB",
          "RGB",
          "RGB",
          "RGB",
          "RGB",
          "RGB",
          "RGB",
          "RGB",
          "RGB",
          "RGB",
          "RGB",
          "RGB",
          "RGB"
         ],
         "xaxis": "x2",
         "y": [
          0.19707821449045382,
          0.7074664838682486,
          0.7953261851923358,
          0.8868039593026223,
          0.030388840420664042,
          0.1903529577785068,
          0.7102955120061738,
          0.41122533643766057,
          0.5140942184095947,
          0.08035904435764145,
          0.06082185707263289,
          0.9300028800964356,
          0.9617720286051431,
          0.4751092022634557,
          0.001602140604518354,
          0.40009286738648153,
          0.002747944928705692,
          0.10063978037796914,
          0.9944000527955446
         ],
         "yaxis": "y2"
        },
        {
         "boxmean": true,
         "boxpoints": "all",
         "legendgroup": "surgical_augmentations#RGB",
         "marker": {
          "color": "#C9C473"
         },
         "name": "surgical_augmentations#RGB",
         "offsetgroup": "organ_transplantation",
         "showlegend": false,
         "text": [
          "stomach",
          "small_bowel",
          "colon",
          "liver",
          "gallbladder",
          "pancreas",
          "kidney",
          "spleen",
          "bladder",
          "omentum",
          "fat_subcutaneous",
          "lung",
          "heart",
          "skin",
          "muscle",
          "peritoneum",
          "major_vein",
          "kidney_with_Gerotas_fascia",
          "background"
         ],
         "type": "box",
         "x": [
          "RGB",
          "RGB",
          "RGB",
          "RGB",
          "RGB",
          "RGB",
          "RGB",
          "RGB",
          "RGB",
          "RGB",
          "RGB",
          "RGB",
          "RGB",
          "RGB",
          "RGB",
          "RGB",
          "RGB",
          "RGB",
          "RGB"
         ],
         "xaxis": "x2",
         "y": [
          0.7536162264584598,
          0.9256902320170262,
          0.9029559875407864,
          0.9059712837294391,
          0.08359360437968681,
          0.9739202688610743,
          0.9335232996473125,
          0.36373233832537183,
          0.48965273198111225,
          0.9241769528752231,
          0.5899964295634217,
          0.8048961957295736,
          0.9757717821333144,
          0.705568609943335,
          0.5339397291342417,
          0.6030732672906798,
          0.1395804002415389,
          0.44809154868125917,
          0.9982284183958556
         ],
         "yaxis": "y2"
        },
        {
         "boxmean": true,
         "boxpoints": "all",
         "legendgroup": "baseline#HSI",
         "marker": {
          "color": "#508587"
         },
         "name": "baseline#HSI",
         "offsetgroup": "baseline",
         "showlegend": false,
         "text": [
          "stomach",
          "small_bowel",
          "colon",
          "liver",
          "gallbladder",
          "pancreas",
          "kidney",
          "spleen",
          "bladder",
          "omentum",
          "fat_subcutaneous",
          "lung",
          "heart",
          "skin",
          "muscle",
          "peritoneum",
          "major_vein",
          "kidney_with_Gerotas_fascia",
          "background"
         ],
         "type": "box",
         "x": [
          "HSI",
          "HSI",
          "HSI",
          "HSI",
          "HSI",
          "HSI",
          "HSI",
          "HSI",
          "HSI",
          "HSI",
          "HSI",
          "HSI",
          "HSI",
          "HSI",
          "HSI",
          "HSI",
          "HSI",
          "HSI",
          "HSI"
         ],
         "xaxis": "x3",
         "y": [
          0.1222906868085564,
          0.923075248105268,
          0.7889716621620068,
          0.800726407237031,
          0.1706418758151175,
          0.06559136505164798,
          0.10172106705459893,
          0.4341813049240718,
          0.831719294335419,
          0.0014894806495782877,
          0.1369766020999092,
          0.9243188169267443,
          0.9717308097415499,
          0.8005093755295319,
          0.4895642300446828,
          0.4176196208697429,
          0.09796871989965439,
          0,
          0.9969736815874558
         ],
         "yaxis": "y3"
        },
        {
         "boxmean": true,
         "boxpoints": "all",
         "legendgroup": "surgical_augmentations#HSI",
         "marker": {
          "color": "#A39F5D"
         },
         "name": "surgical_augmentations#HSI",
         "offsetgroup": "organ_transplantation",
         "showlegend": false,
         "text": [
          "stomach",
          "small_bowel",
          "colon",
          "liver",
          "gallbladder",
          "pancreas",
          "kidney",
          "spleen",
          "bladder",
          "omentum",
          "fat_subcutaneous",
          "lung",
          "heart",
          "skin",
          "muscle",
          "peritoneum",
          "major_vein",
          "kidney_with_Gerotas_fascia",
          "background"
         ],
         "type": "box",
         "x": [
          "HSI",
          "HSI",
          "HSI",
          "HSI",
          "HSI",
          "HSI",
          "HSI",
          "HSI",
          "HSI",
          "HSI",
          "HSI",
          "HSI",
          "HSI",
          "HSI",
          "HSI",
          "HSI",
          "HSI",
          "HSI",
          "HSI"
         ],
         "xaxis": "x3",
         "y": [
          0.9375572358057932,
          0.9762218907247728,
          0.9782513992852374,
          0.97987361296701,
          0.6004172740091245,
          0.9441257370842827,
          0.9160289000841527,
          0.9252225526930794,
          0.9682169110007788,
          0.8819116042706657,
          0.9251250398606863,
          0.8073557058970132,
          0.9881852626800537,
          0.7718660915018629,
          0.891126314798991,
          0.8405767398168045,
          0.9638756036758422,
          0.9732827425003052,
          0.998933138016476
         ],
         "yaxis": "y3"
        },
        {
         "boxmean": true,
         "boxpoints": "all",
         "legendgroup": "baseline#RGB",
         "marker": {
          "color": "#66ABAD"
         },
         "name": "baseline#RGB",
         "offsetgroup": "baseline",
         "showlegend": false,
         "text": [
          "stomach",
          "small_bowel",
          "colon",
          "liver",
          "gallbladder",
          "pancreas",
          "kidney",
          "spleen",
          "bladder",
          "omentum",
          "fat_subcutaneous",
          "lung",
          "heart",
          "skin",
          "muscle",
          "peritoneum",
          "major_vein",
          "kidney_with_Gerotas_fascia",
          "background"
         ],
         "type": "box",
         "x": [
          "RGB",
          "RGB",
          "RGB",
          "RGB",
          "RGB",
          "RGB",
          "RGB",
          "RGB",
          "RGB",
          "RGB",
          "RGB",
          "RGB",
          "RGB",
          "RGB",
          "RGB",
          "RGB",
          "RGB",
          "RGB",
          "RGB"
         ],
         "xaxis": "x3",
         "y": [
          0.12405765994034515,
          0.9503227080635647,
          0.8778580063716314,
          0.9921228229681327,
          0.15515441498268023,
          0.07932014988055305,
          0.5489288420459024,
          0.41461762493417603,
          0.6908462424835602,
          0.05728558237138002,
          0.5466300235504754,
          0.9091114415062798,
          0.8672238667805989,
          0.49872241969244296,
          0.21650767574707666,
          0.510513383125317,
          0.06833781003952026,
          0.40482147634029386,
          0.9973261754401614
         ],
         "yaxis": "y3"
        },
        {
         "boxmean": true,
         "boxpoints": "all",
         "legendgroup": "surgical_augmentations#RGB",
         "marker": {
          "color": "#C9C473"
         },
         "name": "surgical_augmentations#RGB",
         "offsetgroup": "organ_transplantation",
         "showlegend": false,
         "text": [
          "stomach",
          "small_bowel",
          "colon",
          "liver",
          "gallbladder",
          "pancreas",
          "kidney",
          "spleen",
          "bladder",
          "omentum",
          "fat_subcutaneous",
          "lung",
          "heart",
          "skin",
          "muscle",
          "peritoneum",
          "major_vein",
          "kidney_with_Gerotas_fascia",
          "background"
         ],
         "type": "box",
         "x": [
          "RGB",
          "RGB",
          "RGB",
          "RGB",
          "RGB",
          "RGB",
          "RGB",
          "RGB",
          "RGB",
          "RGB",
          "RGB",
          "RGB",
          "RGB",
          "RGB",
          "RGB",
          "RGB",
          "RGB",
          "RGB",
          "RGB"
         ],
         "xaxis": "x3",
         "y": [
          0.8232926293915395,
          0.9815734292984187,
          0.9856126982309983,
          0.9467161603878325,
          0.49193331814556085,
          0.9827056536598812,
          0.8957230343538172,
          0.8341278042112077,
          0.9216305895347098,
          0.855710473703833,
          0.7358520077891342,
          0.8584616343180339,
          0.9892710632748075,
          0.7518390354949656,
          0.8991813659667969,
          0.719879066580629,
          0.8917125523090362,
          0.9446665704250335,
          0.9981120170085953
         ],
         "yaxis": "y3"
        },
        {
         "boxmean": true,
         "boxpoints": "all",
         "legendgroup": "baseline#HSI",
         "marker": {
          "color": "#508587"
         },
         "name": "baseline#HSI",
         "offsetgroup": "baseline",
         "showlegend": false,
         "text": [
          "stomach",
          "small_bowel",
          "colon",
          "liver",
          "gallbladder",
          "pancreas",
          "kidney",
          "spleen",
          "bladder",
          "omentum",
          "lung",
          "heart",
          "skin",
          "muscle",
          "peritoneum",
          "major_vein",
          "kidney_with_Gerotas_fascia",
          "background"
         ],
         "type": "box",
         "x": [
          "HSI",
          "HSI",
          "HSI",
          "HSI",
          "HSI",
          "HSI",
          "HSI",
          "HSI",
          "HSI",
          "HSI",
          "HSI",
          "HSI",
          "HSI",
          "HSI",
          "HSI",
          "HSI",
          "HSI",
          "HSI"
         ],
         "xaxis": "x4",
         "y": [
          0.44649254437536,
          0.881641972064972,
          0.9920404553413391,
          0.5742735862731934,
          0.3522494410475095,
          0.12424157373607159,
          0.7868876829743385,
          0.6071382363637289,
          0.8282280564308167,
          0,
          0.9670775681734085,
          0.9716710249582926,
          0.954271534242128,
          0.2775430977344513,
          0.30901315808296204,
          0.27433519065380096,
          0.5462151020765305,
          0.9970833085674943
         ],
         "yaxis": "y4"
        },
        {
         "boxmean": true,
         "boxpoints": "all",
         "legendgroup": "surgical_augmentations#HSI",
         "marker": {
          "color": "#A39F5D"
         },
         "name": "surgical_augmentations#HSI",
         "offsetgroup": "organ_transplantation",
         "showlegend": false,
         "text": [
          "stomach",
          "small_bowel",
          "colon",
          "liver",
          "gallbladder",
          "pancreas",
          "kidney",
          "spleen",
          "bladder",
          "omentum",
          "lung",
          "heart",
          "skin",
          "muscle",
          "peritoneum",
          "major_vein",
          "kidney_with_Gerotas_fascia",
          "background"
         ],
         "type": "box",
         "x": [
          "HSI",
          "HSI",
          "HSI",
          "HSI",
          "HSI",
          "HSI",
          "HSI",
          "HSI",
          "HSI",
          "HSI",
          "HSI",
          "HSI",
          "HSI",
          "HSI",
          "HSI",
          "HSI",
          "HSI",
          "HSI"
         ],
         "xaxis": "x4",
         "y": [
          0.9098750203847885,
          0.9696029663085938,
          0.9919309616088867,
          0.9561715573072433,
          0.954354445139567,
          0.7652827873826027,
          0.9852195456624031,
          0.9747649828592936,
          0.9837851673364639,
          0.908065676689148,
          0.9681917876005173,
          0.9812959035237631,
          0.9824876559408088,
          0.394196988743109,
          0.7286174297332764,
          0.9488683044910431,
          0.8905386030673981,
          0.9975172818274726
         ],
         "yaxis": "y4"
        },
        {
         "boxmean": true,
         "boxpoints": "all",
         "legendgroup": "baseline#RGB",
         "marker": {
          "color": "#66ABAD"
         },
         "name": "baseline#RGB",
         "offsetgroup": "baseline",
         "showlegend": false,
         "text": [
          "stomach",
          "small_bowel",
          "colon",
          "liver",
          "gallbladder",
          "pancreas",
          "kidney",
          "spleen",
          "bladder",
          "omentum",
          "lung",
          "heart",
          "skin",
          "muscle",
          "peritoneum",
          "major_vein",
          "kidney_with_Gerotas_fascia",
          "background"
         ],
         "type": "box",
         "x": [
          "RGB",
          "RGB",
          "RGB",
          "RGB",
          "RGB",
          "RGB",
          "RGB",
          "RGB",
          "RGB",
          "RGB",
          "RGB",
          "RGB",
          "RGB",
          "RGB",
          "RGB",
          "RGB",
          "RGB",
          "RGB"
         ],
         "xaxis": "x4",
         "y": [
          0.6092109209857881,
          0.9422743678092956,
          0.9924092888832092,
          0.8980409950017929,
          0.3777156074841817,
          0.012680412270128727,
          0.7357332059182227,
          0.323336402575175,
          0.9166669249534607,
          0.0003274751652497798,
          0.9572533369064331,
          0.9364159901936849,
          0.6448374242766907,
          0.1926037257004888,
          0.2700892686843872,
          0.13258394226431847,
          0.5899998247623444,
          0.9972874705555674
         ],
         "yaxis": "y4"
        },
        {
         "boxmean": true,
         "boxpoints": "all",
         "legendgroup": "surgical_augmentations#RGB",
         "marker": {
          "color": "#C9C473"
         },
         "name": "surgical_augmentations#RGB",
         "offsetgroup": "organ_transplantation",
         "showlegend": false,
         "text": [
          "stomach",
          "small_bowel",
          "colon",
          "liver",
          "gallbladder",
          "pancreas",
          "kidney",
          "spleen",
          "bladder",
          "omentum",
          "lung",
          "heart",
          "skin",
          "muscle",
          "peritoneum",
          "major_vein",
          "kidney_with_Gerotas_fascia",
          "background"
         ],
         "type": "box",
         "x": [
          "RGB",
          "RGB",
          "RGB",
          "RGB",
          "RGB",
          "RGB",
          "RGB",
          "RGB",
          "RGB",
          "RGB",
          "RGB",
          "RGB",
          "RGB",
          "RGB",
          "RGB",
          "RGB",
          "RGB",
          "RGB"
         ],
         "xaxis": "x4",
         "y": [
          0.8683061450719833,
          0.9722974300384521,
          0.9925851821899414,
          0.935847282409668,
          0.628723161915938,
          0.9126102477312088,
          0.9844184517860413,
          0.9481713970502218,
          0.987303763628006,
          0.976811408996582,
          0.9658353626728058,
          0.9807827870051066,
          0.9697787335044459,
          0.3351037800312042,
          0.7543319463729858,
          0.40369945764541626,
          0.7908279895782471,
          0.997221044231247
         ],
         "yaxis": "y4"
        }
       ],
       "layout": {
        "annotations": [
         {
          "font": {
           "size": 20
          },
          "showarrow": false,
          "text": "<b>original</b>",
          "x": 0.2375,
          "xanchor": "center",
          "xref": "paper",
          "y": 1,
          "yanchor": "bottom",
          "yref": "paper"
         },
         {
          "font": {
           "size": 20
          },
          "showarrow": false,
          "text": "<b>isolation_zero</b>",
          "x": 0.7625,
          "xanchor": "center",
          "xref": "paper",
          "y": 1,
          "yanchor": "bottom",
          "yref": "paper"
         },
         {
          "font": {
           "size": 20
          },
          "showarrow": false,
          "text": "<b>isolation_bgr</b>",
          "x": 0.2375,
          "xanchor": "center",
          "xref": "paper",
          "y": 0.44,
          "yanchor": "bottom",
          "yref": "paper"
         },
         {
          "font": {
           "size": 20
          },
          "showarrow": false,
          "text": "<b>isolation_real</b>",
          "x": 0.7625,
          "xanchor": "center",
          "xref": "paper",
          "y": 0.44,
          "yanchor": "bottom",
          "yref": "paper"
         }
        ],
        "boxgap": 0.2,
        "boxgroupgap": 0.4,
        "boxmode": "group",
        "font": {
         "family": "Libertinus Serif",
         "size": 20
        },
        "height": 800,
        "legend": {
         "orientation": "h",
         "title": {},
         "x": 0.5,
         "xanchor": "center",
         "y": 1.09,
         "yanchor": "bottom"
        },
        "margin": {
         "b": 0,
         "l": 0,
         "r": 0,
         "t": 0
        },
        "template": {
         "data": {
          "bar": [
           {
            "error_x": {
             "color": "#2a3f5f"
            },
            "error_y": {
             "color": "#2a3f5f"
            },
            "marker": {
             "line": {
              "color": "white",
              "width": 0.5
             },
             "pattern": {
              "fillmode": "overlay",
              "size": 10,
              "solidity": 0.2
             }
            },
            "type": "bar"
           }
          ],
          "barpolar": [
           {
            "marker": {
             "line": {
              "color": "white",
              "width": 0.5
             },
             "pattern": {
              "fillmode": "overlay",
              "size": 10,
              "solidity": 0.2
             }
            },
            "type": "barpolar"
           }
          ],
          "carpet": [
           {
            "aaxis": {
             "endlinecolor": "#2a3f5f",
             "gridcolor": "#C8D4E3",
             "linecolor": "#C8D4E3",
             "minorgridcolor": "#C8D4E3",
             "startlinecolor": "#2a3f5f"
            },
            "baxis": {
             "endlinecolor": "#2a3f5f",
             "gridcolor": "#C8D4E3",
             "linecolor": "#C8D4E3",
             "minorgridcolor": "#C8D4E3",
             "startlinecolor": "#2a3f5f"
            },
            "type": "carpet"
           }
          ],
          "choropleth": [
           {
            "colorbar": {
             "outlinewidth": 0,
             "ticks": ""
            },
            "type": "choropleth"
           }
          ],
          "contour": [
           {
            "colorbar": {
             "outlinewidth": 0,
             "ticks": ""
            },
            "colorscale": [
             [
              0,
              "#0d0887"
             ],
             [
              0.1111111111111111,
              "#46039f"
             ],
             [
              0.2222222222222222,
              "#7201a8"
             ],
             [
              0.3333333333333333,
              "#9c179e"
             ],
             [
              0.4444444444444444,
              "#bd3786"
             ],
             [
              0.5555555555555556,
              "#d8576b"
             ],
             [
              0.6666666666666666,
              "#ed7953"
             ],
             [
              0.7777777777777778,
              "#fb9f3a"
             ],
             [
              0.8888888888888888,
              "#fdca26"
             ],
             [
              1,
              "#f0f921"
             ]
            ],
            "type": "contour"
           }
          ],
          "contourcarpet": [
           {
            "colorbar": {
             "outlinewidth": 0,
             "ticks": ""
            },
            "type": "contourcarpet"
           }
          ],
          "heatmap": [
           {
            "colorbar": {
             "outlinewidth": 0,
             "ticks": ""
            },
            "colorscale": [
             [
              0,
              "#0d0887"
             ],
             [
              0.1111111111111111,
              "#46039f"
             ],
             [
              0.2222222222222222,
              "#7201a8"
             ],
             [
              0.3333333333333333,
              "#9c179e"
             ],
             [
              0.4444444444444444,
              "#bd3786"
             ],
             [
              0.5555555555555556,
              "#d8576b"
             ],
             [
              0.6666666666666666,
              "#ed7953"
             ],
             [
              0.7777777777777778,
              "#fb9f3a"
             ],
             [
              0.8888888888888888,
              "#fdca26"
             ],
             [
              1,
              "#f0f921"
             ]
            ],
            "type": "heatmap"
           }
          ],
          "heatmapgl": [
           {
            "colorbar": {
             "outlinewidth": 0,
             "ticks": ""
            },
            "colorscale": [
             [
              0,
              "#0d0887"
             ],
             [
              0.1111111111111111,
              "#46039f"
             ],
             [
              0.2222222222222222,
              "#7201a8"
             ],
             [
              0.3333333333333333,
              "#9c179e"
             ],
             [
              0.4444444444444444,
              "#bd3786"
             ],
             [
              0.5555555555555556,
              "#d8576b"
             ],
             [
              0.6666666666666666,
              "#ed7953"
             ],
             [
              0.7777777777777778,
              "#fb9f3a"
             ],
             [
              0.8888888888888888,
              "#fdca26"
             ],
             [
              1,
              "#f0f921"
             ]
            ],
            "type": "heatmapgl"
           }
          ],
          "histogram": [
           {
            "marker": {
             "pattern": {
              "fillmode": "overlay",
              "size": 10,
              "solidity": 0.2
             }
            },
            "type": "histogram"
           }
          ],
          "histogram2d": [
           {
            "colorbar": {
             "outlinewidth": 0,
             "ticks": ""
            },
            "colorscale": [
             [
              0,
              "#0d0887"
             ],
             [
              0.1111111111111111,
              "#46039f"
             ],
             [
              0.2222222222222222,
              "#7201a8"
             ],
             [
              0.3333333333333333,
              "#9c179e"
             ],
             [
              0.4444444444444444,
              "#bd3786"
             ],
             [
              0.5555555555555556,
              "#d8576b"
             ],
             [
              0.6666666666666666,
              "#ed7953"
             ],
             [
              0.7777777777777778,
              "#fb9f3a"
             ],
             [
              0.8888888888888888,
              "#fdca26"
             ],
             [
              1,
              "#f0f921"
             ]
            ],
            "type": "histogram2d"
           }
          ],
          "histogram2dcontour": [
           {
            "colorbar": {
             "outlinewidth": 0,
             "ticks": ""
            },
            "colorscale": [
             [
              0,
              "#0d0887"
             ],
             [
              0.1111111111111111,
              "#46039f"
             ],
             [
              0.2222222222222222,
              "#7201a8"
             ],
             [
              0.3333333333333333,
              "#9c179e"
             ],
             [
              0.4444444444444444,
              "#bd3786"
             ],
             [
              0.5555555555555556,
              "#d8576b"
             ],
             [
              0.6666666666666666,
              "#ed7953"
             ],
             [
              0.7777777777777778,
              "#fb9f3a"
             ],
             [
              0.8888888888888888,
              "#fdca26"
             ],
             [
              1,
              "#f0f921"
             ]
            ],
            "type": "histogram2dcontour"
           }
          ],
          "mesh3d": [
           {
            "colorbar": {
             "outlinewidth": 0,
             "ticks": ""
            },
            "type": "mesh3d"
           }
          ],
          "parcoords": [
           {
            "line": {
             "colorbar": {
              "outlinewidth": 0,
              "ticks": ""
             }
            },
            "type": "parcoords"
           }
          ],
          "pie": [
           {
            "automargin": true,
            "type": "pie"
           }
          ],
          "scatter": [
           {
            "fillpattern": {
             "fillmode": "overlay",
             "size": 10,
             "solidity": 0.2
            },
            "type": "scatter"
           }
          ],
          "scatter3d": [
           {
            "line": {
             "colorbar": {
              "outlinewidth": 0,
              "ticks": ""
             }
            },
            "marker": {
             "colorbar": {
              "outlinewidth": 0,
              "ticks": ""
             }
            },
            "type": "scatter3d"
           }
          ],
          "scattercarpet": [
           {
            "marker": {
             "colorbar": {
              "outlinewidth": 0,
              "ticks": ""
             }
            },
            "type": "scattercarpet"
           }
          ],
          "scattergeo": [
           {
            "marker": {
             "colorbar": {
              "outlinewidth": 0,
              "ticks": ""
             }
            },
            "type": "scattergeo"
           }
          ],
          "scattergl": [
           {
            "marker": {
             "colorbar": {
              "outlinewidth": 0,
              "ticks": ""
             }
            },
            "type": "scattergl"
           }
          ],
          "scattermapbox": [
           {
            "marker": {
             "colorbar": {
              "outlinewidth": 0,
              "ticks": ""
             }
            },
            "type": "scattermapbox"
           }
          ],
          "scatterpolar": [
           {
            "marker": {
             "colorbar": {
              "outlinewidth": 0,
              "ticks": ""
             }
            },
            "type": "scatterpolar"
           }
          ],
          "scatterpolargl": [
           {
            "marker": {
             "colorbar": {
              "outlinewidth": 0,
              "ticks": ""
             }
            },
            "type": "scatterpolargl"
           }
          ],
          "scatterternary": [
           {
            "marker": {
             "colorbar": {
              "outlinewidth": 0,
              "ticks": ""
             }
            },
            "type": "scatterternary"
           }
          ],
          "surface": [
           {
            "colorbar": {
             "outlinewidth": 0,
             "ticks": ""
            },
            "colorscale": [
             [
              0,
              "#0d0887"
             ],
             [
              0.1111111111111111,
              "#46039f"
             ],
             [
              0.2222222222222222,
              "#7201a8"
             ],
             [
              0.3333333333333333,
              "#9c179e"
             ],
             [
              0.4444444444444444,
              "#bd3786"
             ],
             [
              0.5555555555555556,
              "#d8576b"
             ],
             [
              0.6666666666666666,
              "#ed7953"
             ],
             [
              0.7777777777777778,
              "#fb9f3a"
             ],
             [
              0.8888888888888888,
              "#fdca26"
             ],
             [
              1,
              "#f0f921"
             ]
            ],
            "type": "surface"
           }
          ],
          "table": [
           {
            "cells": {
             "fill": {
              "color": "#EBF0F8"
             },
             "line": {
              "color": "white"
             }
            },
            "header": {
             "fill": {
              "color": "#C8D4E3"
             },
             "line": {
              "color": "white"
             }
            },
            "type": "table"
           }
          ]
         },
         "layout": {
          "annotationdefaults": {
           "arrowcolor": "#2a3f5f",
           "arrowhead": 0,
           "arrowwidth": 1
          },
          "autotypenumbers": "strict",
          "coloraxis": {
           "colorbar": {
            "outlinewidth": 0,
            "ticks": ""
           }
          },
          "colorscale": {
           "diverging": [
            [
             0,
             "#8e0152"
            ],
            [
             0.1,
             "#c51b7d"
            ],
            [
             0.2,
             "#de77ae"
            ],
            [
             0.3,
             "#f1b6da"
            ],
            [
             0.4,
             "#fde0ef"
            ],
            [
             0.5,
             "#f7f7f7"
            ],
            [
             0.6,
             "#e6f5d0"
            ],
            [
             0.7,
             "#b8e186"
            ],
            [
             0.8,
             "#7fbc41"
            ],
            [
             0.9,
             "#4d9221"
            ],
            [
             1,
             "#276419"
            ]
           ],
           "sequential": [
            [
             0,
             "#0d0887"
            ],
            [
             0.1111111111111111,
             "#46039f"
            ],
            [
             0.2222222222222222,
             "#7201a8"
            ],
            [
             0.3333333333333333,
             "#9c179e"
            ],
            [
             0.4444444444444444,
             "#bd3786"
            ],
            [
             0.5555555555555556,
             "#d8576b"
            ],
            [
             0.6666666666666666,
             "#ed7953"
            ],
            [
             0.7777777777777778,
             "#fb9f3a"
            ],
            [
             0.8888888888888888,
             "#fdca26"
            ],
            [
             1,
             "#f0f921"
            ]
           ],
           "sequentialminus": [
            [
             0,
             "#0d0887"
            ],
            [
             0.1111111111111111,
             "#46039f"
            ],
            [
             0.2222222222222222,
             "#7201a8"
            ],
            [
             0.3333333333333333,
             "#9c179e"
            ],
            [
             0.4444444444444444,
             "#bd3786"
            ],
            [
             0.5555555555555556,
             "#d8576b"
            ],
            [
             0.6666666666666666,
             "#ed7953"
            ],
            [
             0.7777777777777778,
             "#fb9f3a"
            ],
            [
             0.8888888888888888,
             "#fdca26"
            ],
            [
             1,
             "#f0f921"
            ]
           ]
          },
          "colorway": [
           "#636efa",
           "#EF553B",
           "#00cc96",
           "#ab63fa",
           "#FFA15A",
           "#19d3f3",
           "#FF6692",
           "#B6E880",
           "#FF97FF",
           "#FECB52"
          ],
          "font": {
           "color": "#2a3f5f"
          },
          "geo": {
           "bgcolor": "white",
           "lakecolor": "white",
           "landcolor": "white",
           "showlakes": true,
           "showland": true,
           "subunitcolor": "#C8D4E3"
          },
          "hoverlabel": {
           "align": "left"
          },
          "hovermode": "closest",
          "mapbox": {
           "style": "light"
          },
          "paper_bgcolor": "white",
          "plot_bgcolor": "white",
          "polar": {
           "angularaxis": {
            "gridcolor": "#EBF0F8",
            "linecolor": "#EBF0F8",
            "ticks": ""
           },
           "bgcolor": "white",
           "radialaxis": {
            "gridcolor": "#EBF0F8",
            "linecolor": "#EBF0F8",
            "ticks": ""
           }
          },
          "scene": {
           "xaxis": {
            "backgroundcolor": "white",
            "gridcolor": "#DFE8F3",
            "gridwidth": 2,
            "linecolor": "#EBF0F8",
            "showbackground": true,
            "ticks": "",
            "zerolinecolor": "#EBF0F8"
           },
           "yaxis": {
            "backgroundcolor": "white",
            "gridcolor": "#DFE8F3",
            "gridwidth": 2,
            "linecolor": "#EBF0F8",
            "showbackground": true,
            "ticks": "",
            "zerolinecolor": "#EBF0F8"
           },
           "zaxis": {
            "backgroundcolor": "white",
            "gridcolor": "#DFE8F3",
            "gridwidth": 2,
            "linecolor": "#EBF0F8",
            "showbackground": true,
            "ticks": "",
            "zerolinecolor": "#EBF0F8"
           }
          },
          "shapedefaults": {
           "line": {
            "color": "#2a3f5f"
           }
          },
          "ternary": {
           "aaxis": {
            "gridcolor": "#DFE8F3",
            "linecolor": "#A2B1C6",
            "ticks": ""
           },
           "baxis": {
            "gridcolor": "#DFE8F3",
            "linecolor": "#A2B1C6",
            "ticks": ""
           },
           "bgcolor": "white",
           "caxis": {
            "gridcolor": "#DFE8F3",
            "linecolor": "#A2B1C6",
            "ticks": ""
           }
          },
          "title": {
           "x": 0.05
          },
          "xaxis": {
           "automargin": true,
           "gridcolor": "#EBF0F8",
           "linecolor": "#EBF0F8",
           "ticks": "",
           "title": {
            "standoff": 15
           },
           "zerolinecolor": "#EBF0F8",
           "zerolinewidth": 2
          },
          "yaxis": {
           "automargin": true,
           "gridcolor": "#EBF0F8",
           "linecolor": "#EBF0F8",
           "ticks": "",
           "title": {
            "standoff": 15
           },
           "zerolinecolor": "#EBF0F8",
           "zerolinewidth": 2
          }
         }
        },
        "width": 1100,
        "xaxis": {
         "anchor": "y",
         "domain": [
          0,
          0.475
         ],
         "range": [
          -0.5,
          1.4
         ],
         "type": "category"
        },
        "xaxis2": {
         "anchor": "y2",
         "autorange": true,
         "domain": [
          0.525,
          1
         ],
         "range": [
          -0.7061057031144669,
          1.6161108264797088
         ],
         "type": "category"
        },
        "xaxis3": {
         "anchor": "y3",
         "autorange": true,
         "domain": [
          0,
          0.475
         ],
         "range": [
          -0.7061057031144669,
          1.6161108264797088
         ],
         "type": "category"
        },
        "xaxis4": {
         "anchor": "y4",
         "autorange": true,
         "domain": [
          0.525,
          1
         ],
         "range": [
          -0.7061057031144669,
          1.6161108264797088
         ],
         "type": "category"
        },
        "yaxis": {
         "anchor": "x",
         "domain": [
          0.56,
          1
         ],
         "range": [
          -0.05,
          1.05
         ],
         "tickfont": {
          "size": 16
         },
         "title": {
          "standoff": 15,
          "text": "DSC"
         },
         "type": "linear"
        },
        "yaxis2": {
         "anchor": "x2",
         "autorange": true,
         "domain": [
          0.56,
          1
         ],
         "range": [
          -0.053778327030527345,
          1.0538310256703867
         ],
         "tickfont": {
          "size": 16
         },
         "type": "linear"
        },
        "yaxis3": {
         "anchor": "x3",
         "autorange": true,
         "domain": [
          0,
          0.44
         ],
         "range": [
          -0.05549628544535977,
          1.0544294234618357
         ],
         "tickfont": {
          "size": 16
         },
         "title": {
          "standoff": 15,
          "text": "DSC"
         },
         "type": "linear"
        },
        "yaxis4": {
         "anchor": "x4",
         "autorange": true,
         "domain": [
          0,
          0.44
         ],
         "range": [
          -0.05541762676819292,
          1.0529349085956654
         ],
         "tickfont": {
          "size": 16
         },
         "type": "linear"
        }
       }
      },
      "image/png": "[encoded data removed]",
      "text/html": [
       "<div>                            <div id=\"3906a7c8-603d-41d4-89e7-a54d87bdc1f7\" class=\"plotly-graph-div\" style=\"height:800px; width:1100px;\"></div>            <script type=\"text/javascript\">                require([\"plotly\"], function(Plotly) {                    window.PLOTLYENV=window.PLOTLYENV || {};                                    if (document.getElementById(\"3906a7c8-603d-41d4-89e7-a54d87bdc1f7\")) {                    Plotly.newPlot(                        \"3906a7c8-603d-41d4-89e7-a54d87bdc1f7\",                        [{\"boxmean\":true,\"boxpoints\":\"all\",\"legendgroup\":\"baseline#HSI\",\"marker\":{\"color\":\"#508587\"},\"name\":\"baseline#HSI\",\"offsetgroup\":\"baseline\",\"showlegend\":true,\"text\":[\"stomach\",\"small_bowel\",\"colon\",\"liver\",\"gallbladder\",\"pancreas\",\"kidney\",\"spleen\",\"bladder\",\"omentum\",\"fat_subcutaneous\",\"lung\",\"heart\",\"skin\",\"muscle\",\"peritoneum\",\"major_vein\",\"kidney_with_Gerotas_fascia\",\"background\"],\"x\":[\"HSI\",\"HSI\",\"HSI\",\"HSI\",\"HSI\",\"HSI\",\"HSI\",\"HSI\",\"HSI\",\"HSI\",\"HSI\",\"HSI\",\"HSI\",\"HSI\",\"HSI\",\"HSI\",\"HSI\",\"HSI\",\"HSI\"],\"y\":[0.861473641071633,0.9572065303861302,0.9485893705638366,0.9555865674609633,0.8123611938238926,0.9236893593318879,0.8996078640806908,0.9500669538407098,0.9558500068383815,0.767298252647227,0.6621610555058088,0.8566362063090006,0.9327061706119113,0.7583362563473968,0.8854879140853882,0.7739984667639888,0.7015092611312866,0.7966977834701539,0.9920313810608464],\"type\":\"box\",\"xaxis\":\"x\",\"yaxis\":\"y\"},{\"boxmean\":true,\"boxpoints\":\"all\",\"legendgroup\":\"surgical_augmentations#HSI\",\"marker\":{\"color\":\"#A39F5D\"},\"name\":\"surgical_augmentations#HSI\",\"offsetgroup\":\"organ_transplantation\",\"showlegend\":true,\"text\":[\"stomach\",\"small_bowel\",\"colon\",\"liver\",\"gallbladder\",\"pancreas\",\"kidney\",\"spleen\",\"bladder\",\"omentum\",\"fat_subcutaneous\",\"lung\",\"heart\",\"skin\",\"muscle\",\"peritoneum\",\"major_vein\",\"kidney_with_Gerotas_fascia\",\"background\"],\"x\":[\"HSI\",\"HSI\",\"HSI\",\"HSI\",\"HSI\",\"HSI\",\"HSI\",\"HSI\",\"HSI\",\"HSI\",\"HSI\",\"HSI\",\"HSI\",\"HSI\",\"HSI\",\"HSI\",\"HSI\",\"HSI\",\"HSI\"],\"y\":[0.871478492960077,0.953197890129721,0.9626351645232907,0.949342466239108,0.8397138351436906,0.9312997106521849,0.8913204654369479,0.938095459559607,0.9503241149728948,0.7545647466780749,0.7038704440770721,0.8303254259957208,0.9294263362884522,0.7952009146860798,0.8911105791727703,0.7843635316202398,0.8747839868068695,0.9263071715831757,0.9911609232055476],\"type\":\"box\",\"xaxis\":\"x\",\"yaxis\":\"y\"},{\"boxmean\":true,\"boxpoints\":\"all\",\"legendgroup\":\"baseline#RGB\",\"marker\":{\"color\":\"#66ABAD\"},\"name\":\"baseline#RGB\",\"offsetgroup\":\"baseline\",\"showlegend\":true,\"text\":[\"stomach\",\"small_bowel\",\"colon\",\"liver\",\"gallbladder\",\"pancreas\",\"kidney\",\"spleen\",\"bladder\",\"omentum\",\"fat_subcutaneous\",\"lung\",\"heart\",\"skin\",\"muscle\",\"peritoneum\",\"major_vein\",\"kidney_with_Gerotas_fascia\",\"background\"],\"x\":[\"RGB\",\"RGB\",\"RGB\",\"RGB\",\"RGB\",\"RGB\",\"RGB\",\"RGB\",\"RGB\",\"RGB\",\"RGB\",\"RGB\",\"RGB\",\"RGB\",\"RGB\",\"RGB\",\"RGB\",\"RGB\",\"RGB\"],\"y\":[0.7824955355367889,0.9450368555903562,0.9469814192026815,0.9240282243297946,0.807597905372947,0.9540464832669212,0.8825857608146916,0.7922294622375852,0.799119303450784,0.7657403579266796,0.6833133255539725,0.831808384259542,0.9281005170610216,0.7594127542377497,0.8567541837692261,0.7216715267608336,0.592743992805481,0.8148314654827118,0.990822307828102],\"type\":\"box\",\"xaxis\":\"x\",\"yaxis\":\"y\"},{\"boxmean\":true,\"boxpoints\":\"all\",\"legendgroup\":\"surgical_augmentations#RGB\",\"marker\":{\"color\":\"#C9C473\"},\"name\":\"surgical_augmentations#RGB\",\"offsetgroup\":\"organ_transplantation\",\"showlegend\":true,\"text\":[\"stomach\",\"small_bowel\",\"colon\",\"liver\",\"gallbladder\",\"pancreas\",\"kidney\",\"spleen\",\"bladder\",\"omentum\",\"fat_subcutaneous\",\"lung\",\"heart\",\"skin\",\"muscle\",\"peritoneum\",\"major_vein\",\"kidney_with_Gerotas_fascia\",\"background\"],\"x\":[\"RGB\",\"RGB\",\"RGB\",\"RGB\",\"RGB\",\"RGB\",\"RGB\",\"RGB\",\"RGB\",\"RGB\",\"RGB\",\"RGB\",\"RGB\",\"RGB\",\"RGB\",\"RGB\",\"RGB\",\"RGB\",\"RGB\"],\"y\":[0.8279000323747592,0.9458623969825422,0.9559748782655646,0.9356500438016397,0.7917375597607327,0.9529784104180715,0.8825142367992526,0.8425740397922576,0.9079341381989516,0.7575602977083589,0.7041868841498824,0.8190641085306803,0.9214527024163139,0.7965604270277744,0.8819332520167034,0.7661995957315753,0.9043801844120025,0.888197922706604,0.9899106672380512],\"type\":\"box\",\"xaxis\":\"x\",\"yaxis\":\"y\"},{\"boxmean\":true,\"boxpoints\":\"all\",\"legendgroup\":\"baseline#HSI\",\"marker\":{\"color\":\"#508587\"},\"name\":\"baseline#HSI\",\"offsetgroup\":\"baseline\",\"showlegend\":false,\"text\":[\"stomach\",\"small_bowel\",\"colon\",\"liver\",\"gallbladder\",\"pancreas\",\"kidney\",\"spleen\",\"bladder\",\"omentum\",\"fat_subcutaneous\",\"lung\",\"heart\",\"skin\",\"muscle\",\"peritoneum\",\"major_vein\",\"kidney_with_Gerotas_fascia\",\"background\"],\"x\":[\"HSI\",\"HSI\",\"HSI\",\"HSI\",\"HSI\",\"HSI\",\"HSI\",\"HSI\",\"HSI\",\"HSI\",\"HSI\",\"HSI\",\"HSI\",\"HSI\",\"HSI\",\"HSI\",\"HSI\",\"HSI\",\"HSI\"],\"y\":[0.39479507159114846,0.9911825057550361,0.8449777326614377,0.9621615207652136,0.2910822102393227,0.5774546278847589,0.8948847343719084,0.9168938959969416,0.7568019022363605,0.2674300310453134,0.8416794393484835,0.8218441009521484,0.8628027862972684,0.8751007167331887,0.808013916015625,0.2966142138423642,0.00765759265050292,0.47979618012905123,0.997153203386522],\"type\":\"box\",\"xaxis\":\"x2\",\"yaxis\":\"y2\"},{\"boxmean\":true,\"boxpoints\":\"all\",\"legendgroup\":\"surgical_augmentations#HSI\",\"marker\":{\"color\":\"#A39F5D\"},\"name\":\"surgical_augmentations#HSI\",\"offsetgroup\":\"organ_transplantation\",\"showlegend\":false,\"text\":[\"stomach\",\"small_bowel\",\"colon\",\"liver\",\"gallbladder\",\"pancreas\",\"kidney\",\"spleen\",\"bladder\",\"omentum\",\"fat_subcutaneous\",\"lung\",\"heart\",\"skin\",\"muscle\",\"peritoneum\",\"major_vein\",\"kidney_with_Gerotas_fascia\",\"background\"],\"x\":[\"HSI\",\"HSI\",\"HSI\",\"HSI\",\"HSI\",\"HSI\",\"HSI\",\"HSI\",\"HSI\",\"HSI\",\"HSI\",\"HSI\",\"HSI\",\"HSI\",\"HSI\",\"HSI\",\"HSI\",\"HSI\",\"HSI\"],\"y\":[0.9421074786406269,0.9781582553073196,0.9593554542817214,0.9785389385543217,0.5860084553558091,0.9701881968785845,0.9372281311384214,0.9219912482821753,0.8184919691849581,0.8177816964471619,0.8296041384152735,0.7274453401565552,0.9880592346191407,0.7420004522744984,0.8101866245269775,0.6942861812113064,0.811734402179718,0.5464106634259224,0.998450558035341],\"type\":\"box\",\"xaxis\":\"x2\",\"yaxis\":\"y2\"},{\"boxmean\":true,\"boxpoints\":\"all\",\"legendgroup\":\"baseline#RGB\",\"marker\":{\"color\":\"#66ABAD\"},\"name\":\"baseline#RGB\",\"offsetgroup\":\"baseline\",\"showlegend\":false,\"text\":[\"stomach\",\"small_bowel\",\"colon\",\"liver\",\"gallbladder\",\"pancreas\",\"kidney\",\"spleen\",\"bladder\",\"omentum\",\"fat_subcutaneous\",\"lung\",\"heart\",\"skin\",\"muscle\",\"peritoneum\",\"major_vein\",\"kidney_with_Gerotas_fascia\",\"background\"],\"x\":[\"RGB\",\"RGB\",\"RGB\",\"RGB\",\"RGB\",\"RGB\",\"RGB\",\"RGB\",\"RGB\",\"RGB\",\"RGB\",\"RGB\",\"RGB\",\"RGB\",\"RGB\",\"RGB\",\"RGB\",\"RGB\",\"RGB\"],\"y\":[0.19707821449045382,0.7074664838682486,0.7953261851923358,0.8868039593026223,0.030388840420664042,0.1903529577785068,0.7102955120061738,0.41122533643766057,0.5140942184095947,0.08035904435764145,0.06082185707263289,0.9300028800964356,0.9617720286051431,0.4751092022634557,0.001602140604518354,0.40009286738648153,0.002747944928705692,0.10063978037796914,0.9944000527955446],\"type\":\"box\",\"xaxis\":\"x2\",\"yaxis\":\"y2\"},{\"boxmean\":true,\"boxpoints\":\"all\",\"legendgroup\":\"surgical_augmentations#RGB\",\"marker\":{\"color\":\"#C9C473\"},\"name\":\"surgical_augmentations#RGB\",\"offsetgroup\":\"organ_transplantation\",\"showlegend\":false,\"text\":[\"stomach\",\"small_bowel\",\"colon\",\"liver\",\"gallbladder\",\"pancreas\",\"kidney\",\"spleen\",\"bladder\",\"omentum\",\"fat_subcutaneous\",\"lung\",\"heart\",\"skin\",\"muscle\",\"peritoneum\",\"major_vein\",\"kidney_with_Gerotas_fascia\",\"background\"],\"x\":[\"RGB\",\"RGB\",\"RGB\",\"RGB\",\"RGB\",\"RGB\",\"RGB\",\"RGB\",\"RGB\",\"RGB\",\"RGB\",\"RGB\",\"RGB\",\"RGB\",\"RGB\",\"RGB\",\"RGB\",\"RGB\",\"RGB\"],\"y\":[0.7536162264584598,0.9256902320170262,0.9029559875407864,0.9059712837294391,0.08359360437968681,0.9739202688610743,0.9335232996473125,0.36373233832537183,0.48965273198111225,0.9241769528752231,0.5899964295634217,0.8048961957295736,0.9757717821333144,0.705568609943335,0.5339397291342417,0.6030732672906798,0.1395804002415389,0.44809154868125917,0.9982284183958556],\"type\":\"box\",\"xaxis\":\"x2\",\"yaxis\":\"y2\"},{\"boxmean\":true,\"boxpoints\":\"all\",\"legendgroup\":\"baseline#HSI\",\"marker\":{\"color\":\"#508587\"},\"name\":\"baseline#HSI\",\"offsetgroup\":\"baseline\",\"showlegend\":false,\"text\":[\"stomach\",\"small_bowel\",\"colon\",\"liver\",\"gallbladder\",\"pancreas\",\"kidney\",\"spleen\",\"bladder\",\"omentum\",\"fat_subcutaneous\",\"lung\",\"heart\",\"skin\",\"muscle\",\"peritoneum\",\"major_vein\",\"kidney_with_Gerotas_fascia\",\"background\"],\"x\":[\"HSI\",\"HSI\",\"HSI\",\"HSI\",\"HSI\",\"HSI\",\"HSI\",\"HSI\",\"HSI\",\"HSI\",\"HSI\",\"HSI\",\"HSI\",\"HSI\",\"HSI\",\"HSI\",\"HSI\",\"HSI\",\"HSI\"],\"y\":[0.1222906868085564,0.923075248105268,0.7889716621620068,0.800726407237031,0.1706418758151175,0.06559136505164798,0.10172106705459893,0.4341813049240718,0.831719294335419,0.0014894806495782877,0.1369766020999092,0.9243188169267443,0.9717308097415499,0.8005093755295319,0.4895642300446828,0.4176196208697429,0.09796871989965439,0.0,0.9969736815874558],\"type\":\"box\",\"xaxis\":\"x3\",\"yaxis\":\"y3\"},{\"boxmean\":true,\"boxpoints\":\"all\",\"legendgroup\":\"surgical_augmentations#HSI\",\"marker\":{\"color\":\"#A39F5D\"},\"name\":\"surgical_augmentations#HSI\",\"offsetgroup\":\"organ_transplantation\",\"showlegend\":false,\"text\":[\"stomach\",\"small_bowel\",\"colon\",\"liver\",\"gallbladder\",\"pancreas\",\"kidney\",\"spleen\",\"bladder\",\"omentum\",\"fat_subcutaneous\",\"lung\",\"heart\",\"skin\",\"muscle\",\"peritoneum\",\"major_vein\",\"kidney_with_Gerotas_fascia\",\"background\"],\"x\":[\"HSI\",\"HSI\",\"HSI\",\"HSI\",\"HSI\",\"HSI\",\"HSI\",\"HSI\",\"HSI\",\"HSI\",\"HSI\",\"HSI\",\"HSI\",\"HSI\",\"HSI\",\"HSI\",\"HSI\",\"HSI\",\"HSI\"],\"y\":[0.9375572358057932,0.9762218907247728,0.9782513992852374,0.97987361296701,0.6004172740091245,0.9441257370842827,0.9160289000841527,0.9252225526930794,0.9682169110007788,0.8819116042706657,0.9251250398606863,0.8073557058970132,0.9881852626800537,0.7718660915018629,0.891126314798991,0.8405767398168045,0.9638756036758422,0.9732827425003052,0.998933138016476],\"type\":\"box\",\"xaxis\":\"x3\",\"yaxis\":\"y3\"},{\"boxmean\":true,\"boxpoints\":\"all\",\"legendgroup\":\"baseline#RGB\",\"marker\":{\"color\":\"#66ABAD\"},\"name\":\"baseline#RGB\",\"offsetgroup\":\"baseline\",\"showlegend\":false,\"text\":[\"stomach\",\"small_bowel\",\"colon\",\"liver\",\"gallbladder\",\"pancreas\",\"kidney\",\"spleen\",\"bladder\",\"omentum\",\"fat_subcutaneous\",\"lung\",\"heart\",\"skin\",\"muscle\",\"peritoneum\",\"major_vein\",\"kidney_with_Gerotas_fascia\",\"background\"],\"x\":[\"RGB\",\"RGB\",\"RGB\",\"RGB\",\"RGB\",\"RGB\",\"RGB\",\"RGB\",\"RGB\",\"RGB\",\"RGB\",\"RGB\",\"RGB\",\"RGB\",\"RGB\",\"RGB\",\"RGB\",\"RGB\",\"RGB\"],\"y\":[0.12405765994034515,0.9503227080635647,0.8778580063716314,0.9921228229681327,0.15515441498268023,0.07932014988055305,0.5489288420459024,0.41461762493417603,0.6908462424835602,0.05728558237138002,0.5466300235504754,0.9091114415062798,0.8672238667805989,0.49872241969244296,0.21650767574707666,0.510513383125317,0.06833781003952026,0.40482147634029386,0.9973261754401614],\"type\":\"box\",\"xaxis\":\"x3\",\"yaxis\":\"y3\"},{\"boxmean\":true,\"boxpoints\":\"all\",\"legendgroup\":\"surgical_augmentations#RGB\",\"marker\":{\"color\":\"#C9C473\"},\"name\":\"surgical_augmentations#RGB\",\"offsetgroup\":\"organ_transplantation\",\"showlegend\":false,\"text\":[\"stomach\",\"small_bowel\",\"colon\",\"liver\",\"gallbladder\",\"pancreas\",\"kidney\",\"spleen\",\"bladder\",\"omentum\",\"fat_subcutaneous\",\"lung\",\"heart\",\"skin\",\"muscle\",\"peritoneum\",\"major_vein\",\"kidney_with_Gerotas_fascia\",\"background\"],\"x\":[\"RGB\",\"RGB\",\"RGB\",\"RGB\",\"RGB\",\"RGB\",\"RGB\",\"RGB\",\"RGB\",\"RGB\",\"RGB\",\"RGB\",\"RGB\",\"RGB\",\"RGB\",\"RGB\",\"RGB\",\"RGB\",\"RGB\"],\"y\":[0.8232926293915395,0.9815734292984187,0.9856126982309983,0.9467161603878325,0.49193331814556085,0.9827056536598812,0.8957230343538172,0.8341278042112077,0.9216305895347098,0.855710473703833,0.7358520077891342,0.8584616343180339,0.9892710632748075,0.7518390354949656,0.8991813659667969,0.719879066580629,0.8917125523090362,0.9446665704250335,0.9981120170085953],\"type\":\"box\",\"xaxis\":\"x3\",\"yaxis\":\"y3\"},{\"boxmean\":true,\"boxpoints\":\"all\",\"legendgroup\":\"baseline#HSI\",\"marker\":{\"color\":\"#508587\"},\"name\":\"baseline#HSI\",\"offsetgroup\":\"baseline\",\"showlegend\":false,\"text\":[\"stomach\",\"small_bowel\",\"colon\",\"liver\",\"gallbladder\",\"pancreas\",\"kidney\",\"spleen\",\"bladder\",\"omentum\",\"lung\",\"heart\",\"skin\",\"muscle\",\"peritoneum\",\"major_vein\",\"kidney_with_Gerotas_fascia\",\"background\"],\"x\":[\"HSI\",\"HSI\",\"HSI\",\"HSI\",\"HSI\",\"HSI\",\"HSI\",\"HSI\",\"HSI\",\"HSI\",\"HSI\",\"HSI\",\"HSI\",\"HSI\",\"HSI\",\"HSI\",\"HSI\",\"HSI\"],\"y\":[0.44649254437536,0.881641972064972,0.9920404553413391,0.5742735862731934,0.3522494410475095,0.12424157373607159,0.7868876829743385,0.6071382363637289,0.8282280564308167,0.0,0.9670775681734085,0.9716710249582926,0.954271534242128,0.2775430977344513,0.30901315808296204,0.27433519065380096,0.5462151020765305,0.9970833085674943],\"type\":\"box\",\"xaxis\":\"x4\",\"yaxis\":\"y4\"},{\"boxmean\":true,\"boxpoints\":\"all\",\"legendgroup\":\"surgical_augmentations#HSI\",\"marker\":{\"color\":\"#A39F5D\"},\"name\":\"surgical_augmentations#HSI\",\"offsetgroup\":\"organ_transplantation\",\"showlegend\":false,\"text\":[\"stomach\",\"small_bowel\",\"colon\",\"liver\",\"gallbladder\",\"pancreas\",\"kidney\",\"spleen\",\"bladder\",\"omentum\",\"lung\",\"heart\",\"skin\",\"muscle\",\"peritoneum\",\"major_vein\",\"kidney_with_Gerotas_fascia\",\"background\"],\"x\":[\"HSI\",\"HSI\",\"HSI\",\"HSI\",\"HSI\",\"HSI\",\"HSI\",\"HSI\",\"HSI\",\"HSI\",\"HSI\",\"HSI\",\"HSI\",\"HSI\",\"HSI\",\"HSI\",\"HSI\",\"HSI\"],\"y\":[0.9098750203847885,0.9696029663085938,0.9919309616088867,0.9561715573072433,0.954354445139567,0.7652827873826027,0.9852195456624031,0.9747649828592936,0.9837851673364639,0.908065676689148,0.9681917876005173,0.9812959035237631,0.9824876559408088,0.394196988743109,0.7286174297332764,0.9488683044910431,0.8905386030673981,0.9975172818274726],\"type\":\"box\",\"xaxis\":\"x4\",\"yaxis\":\"y4\"},{\"boxmean\":true,\"boxpoints\":\"all\",\"legendgroup\":\"baseline#RGB\",\"marker\":{\"color\":\"#66ABAD\"},\"name\":\"baseline#RGB\",\"offsetgroup\":\"baseline\",\"showlegend\":false,\"text\":[\"stomach\",\"small_bowel\",\"colon\",\"liver\",\"gallbladder\",\"pancreas\",\"kidney\",\"spleen\",\"bladder\",\"omentum\",\"lung\",\"heart\",\"skin\",\"muscle\",\"peritoneum\",\"major_vein\",\"kidney_with_Gerotas_fascia\",\"background\"],\"x\":[\"RGB\",\"RGB\",\"RGB\",\"RGB\",\"RGB\",\"RGB\",\"RGB\",\"RGB\",\"RGB\",\"RGB\",\"RGB\",\"RGB\",\"RGB\",\"RGB\",\"RGB\",\"RGB\",\"RGB\",\"RGB\"],\"y\":[0.6092109209857881,0.9422743678092956,0.9924092888832092,0.8980409950017929,0.3777156074841817,0.012680412270128727,0.7357332059182227,0.323336402575175,0.9166669249534607,0.0003274751652497798,0.9572533369064331,0.9364159901936849,0.6448374242766907,0.1926037257004888,0.2700892686843872,0.13258394226431847,0.5899998247623444,0.9972874705555674],\"type\":\"box\",\"xaxis\":\"x4\",\"yaxis\":\"y4\"},{\"boxmean\":true,\"boxpoints\":\"all\",\"legendgroup\":\"surgical_augmentations#RGB\",\"marker\":{\"color\":\"#C9C473\"},\"name\":\"surgical_augmentations#RGB\",\"offsetgroup\":\"organ_transplantation\",\"showlegend\":false,\"text\":[\"stomach\",\"small_bowel\",\"colon\",\"liver\",\"gallbladder\",\"pancreas\",\"kidney\",\"spleen\",\"bladder\",\"omentum\",\"lung\",\"heart\",\"skin\",\"muscle\",\"peritoneum\",\"major_vein\",\"kidney_with_Gerotas_fascia\",\"background\"],\"x\":[\"RGB\",\"RGB\",\"RGB\",\"RGB\",\"RGB\",\"RGB\",\"RGB\",\"RGB\",\"RGB\",\"RGB\",\"RGB\",\"RGB\",\"RGB\",\"RGB\",\"RGB\",\"RGB\",\"RGB\",\"RGB\"],\"y\":[0.8683061450719833,0.9722974300384521,0.9925851821899414,0.935847282409668,0.628723161915938,0.9126102477312088,0.9844184517860413,0.9481713970502218,0.987303763628006,0.976811408996582,0.9658353626728058,0.9807827870051066,0.9697787335044459,0.3351037800312042,0.7543319463729858,0.40369945764541626,0.7908279895782471,0.997221044231247],\"type\":\"box\",\"xaxis\":\"x4\",\"yaxis\":\"y4\"}],                        {\"template\":{\"data\":{\"barpolar\":[{\"marker\":{\"line\":{\"color\":\"white\",\"width\":0.5},\"pattern\":{\"fillmode\":\"overlay\",\"size\":10,\"solidity\":0.2}},\"type\":\"barpolar\"}],\"bar\":[{\"error_x\":{\"color\":\"#2a3f5f\"},\"error_y\":{\"color\":\"#2a3f5f\"},\"marker\":{\"line\":{\"color\":\"white\",\"width\":0.5},\"pattern\":{\"fillmode\":\"overlay\",\"size\":10,\"solidity\":0.2}},\"type\":\"bar\"}],\"carpet\":[{\"aaxis\":{\"endlinecolor\":\"#2a3f5f\",\"gridcolor\":\"#C8D4E3\",\"linecolor\":\"#C8D4E3\",\"minorgridcolor\":\"#C8D4E3\",\"startlinecolor\":\"#2a3f5f\"},\"baxis\":{\"endlinecolor\":\"#2a3f5f\",\"gridcolor\":\"#C8D4E3\",\"linecolor\":\"#C8D4E3\",\"minorgridcolor\":\"#C8D4E3\",\"startlinecolor\":\"#2a3f5f\"},\"type\":\"carpet\"}],\"choropleth\":[{\"colorbar\":{\"outlinewidth\":0,\"ticks\":\"\"},\"type\":\"choropleth\"}],\"contourcarpet\":[{\"colorbar\":{\"outlinewidth\":0,\"ticks\":\"\"},\"type\":\"contourcarpet\"}],\"contour\":[{\"colorbar\":{\"outlinewidth\":0,\"ticks\":\"\"},\"colorscale\":[[0.0,\"#0d0887\"],[0.1111111111111111,\"#46039f\"],[0.2222222222222222,\"#7201a8\"],[0.3333333333333333,\"#9c179e\"],[0.4444444444444444,\"#bd3786\"],[0.5555555555555556,\"#d8576b\"],[0.6666666666666666,\"#ed7953\"],[0.7777777777777778,\"#fb9f3a\"],[0.8888888888888888,\"#fdca26\"],[1.0,\"#f0f921\"]],\"type\":\"contour\"}],\"heatmapgl\":[{\"colorbar\":{\"outlinewidth\":0,\"ticks\":\"\"},\"colorscale\":[[0.0,\"#0d0887\"],[0.1111111111111111,\"#46039f\"],[0.2222222222222222,\"#7201a8\"],[0.3333333333333333,\"#9c179e\"],[0.4444444444444444,\"#bd3786\"],[0.5555555555555556,\"#d8576b\"],[0.6666666666666666,\"#ed7953\"],[0.7777777777777778,\"#fb9f3a\"],[0.8888888888888888,\"#fdca26\"],[1.0,\"#f0f921\"]],\"type\":\"heatmapgl\"}],\"heatmap\":[{\"colorbar\":{\"outlinewidth\":0,\"ticks\":\"\"},\"colorscale\":[[0.0,\"#0d0887\"],[0.1111111111111111,\"#46039f\"],[0.2222222222222222,\"#7201a8\"],[0.3333333333333333,\"#9c179e\"],[0.4444444444444444,\"#bd3786\"],[0.5555555555555556,\"#d8576b\"],[0.6666666666666666,\"#ed7953\"],[0.7777777777777778,\"#fb9f3a\"],[0.8888888888888888,\"#fdca26\"],[1.0,\"#f0f921\"]],\"type\":\"heatmap\"}],\"histogram2dcontour\":[{\"colorbar\":{\"outlinewidth\":0,\"ticks\":\"\"},\"colorscale\":[[0.0,\"#0d0887\"],[0.1111111111111111,\"#46039f\"],[0.2222222222222222,\"#7201a8\"],[0.3333333333333333,\"#9c179e\"],[0.4444444444444444,\"#bd3786\"],[0.5555555555555556,\"#d8576b\"],[0.6666666666666666,\"#ed7953\"],[0.7777777777777778,\"#fb9f3a\"],[0.8888888888888888,\"#fdca26\"],[1.0,\"#f0f921\"]],\"type\":\"histogram2dcontour\"}],\"histogram2d\":[{\"colorbar\":{\"outlinewidth\":0,\"ticks\":\"\"},\"colorscale\":[[0.0,\"#0d0887\"],[0.1111111111111111,\"#46039f\"],[0.2222222222222222,\"#7201a8\"],[0.3333333333333333,\"#9c179e\"],[0.4444444444444444,\"#bd3786\"],[0.5555555555555556,\"#d8576b\"],[0.6666666666666666,\"#ed7953\"],[0.7777777777777778,\"#fb9f3a\"],[0.8888888888888888,\"#fdca26\"],[1.0,\"#f0f921\"]],\"type\":\"histogram2d\"}],\"histogram\":[{\"marker\":{\"pattern\":{\"fillmode\":\"overlay\",\"size\":10,\"solidity\":0.2}},\"type\":\"histogram\"}],\"mesh3d\":[{\"colorbar\":{\"outlinewidth\":0,\"ticks\":\"\"},\"type\":\"mesh3d\"}],\"parcoords\":[{\"line\":{\"colorbar\":{\"outlinewidth\":0,\"ticks\":\"\"}},\"type\":\"parcoords\"}],\"pie\":[{\"automargin\":true,\"type\":\"pie\"}],\"scatter3d\":[{\"line\":{\"colorbar\":{\"outlinewidth\":0,\"ticks\":\"\"}},\"marker\":{\"colorbar\":{\"outlinewidth\":0,\"ticks\":\"\"}},\"type\":\"scatter3d\"}],\"scattercarpet\":[{\"marker\":{\"colorbar\":{\"outlinewidth\":0,\"ticks\":\"\"}},\"type\":\"scattercarpet\"}],\"scattergeo\":[{\"marker\":{\"colorbar\":{\"outlinewidth\":0,\"ticks\":\"\"}},\"type\":\"scattergeo\"}],\"scattergl\":[{\"marker\":{\"colorbar\":{\"outlinewidth\":0,\"ticks\":\"\"}},\"type\":\"scattergl\"}],\"scattermapbox\":[{\"marker\":{\"colorbar\":{\"outlinewidth\":0,\"ticks\":\"\"}},\"type\":\"scattermapbox\"}],\"scatterpolargl\":[{\"marker\":{\"colorbar\":{\"outlinewidth\":0,\"ticks\":\"\"}},\"type\":\"scatterpolargl\"}],\"scatterpolar\":[{\"marker\":{\"colorbar\":{\"outlinewidth\":0,\"ticks\":\"\"}},\"type\":\"scatterpolar\"}],\"scatter\":[{\"fillpattern\":{\"fillmode\":\"overlay\",\"size\":10,\"solidity\":0.2},\"type\":\"scatter\"}],\"scatterternary\":[{\"marker\":{\"colorbar\":{\"outlinewidth\":0,\"ticks\":\"\"}},\"type\":\"scatterternary\"}],\"surface\":[{\"colorbar\":{\"outlinewidth\":0,\"ticks\":\"\"},\"colorscale\":[[0.0,\"#0d0887\"],[0.1111111111111111,\"#46039f\"],[0.2222222222222222,\"#7201a8\"],[0.3333333333333333,\"#9c179e\"],[0.4444444444444444,\"#bd3786\"],[0.5555555555555556,\"#d8576b\"],[0.6666666666666666,\"#ed7953\"],[0.7777777777777778,\"#fb9f3a\"],[0.8888888888888888,\"#fdca26\"],[1.0,\"#f0f921\"]],\"type\":\"surface\"}],\"table\":[{\"cells\":{\"fill\":{\"color\":\"#EBF0F8\"},\"line\":{\"color\":\"white\"}},\"header\":{\"fill\":{\"color\":\"#C8D4E3\"},\"line\":{\"color\":\"white\"}},\"type\":\"table\"}]},\"layout\":{\"annotationdefaults\":{\"arrowcolor\":\"#2a3f5f\",\"arrowhead\":0,\"arrowwidth\":1},\"autotypenumbers\":\"strict\",\"coloraxis\":{\"colorbar\":{\"outlinewidth\":0,\"ticks\":\"\"}},\"colorscale\":{\"diverging\":[[0,\"#8e0152\"],[0.1,\"#c51b7d\"],[0.2,\"#de77ae\"],[0.3,\"#f1b6da\"],[0.4,\"#fde0ef\"],[0.5,\"#f7f7f7\"],[0.6,\"#e6f5d0\"],[0.7,\"#b8e186\"],[0.8,\"#7fbc41\"],[0.9,\"#4d9221\"],[1,\"#276419\"]],\"sequential\":[[0.0,\"#0d0887\"],[0.1111111111111111,\"#46039f\"],[0.2222222222222222,\"#7201a8\"],[0.3333333333333333,\"#9c179e\"],[0.4444444444444444,\"#bd3786\"],[0.5555555555555556,\"#d8576b\"],[0.6666666666666666,\"#ed7953\"],[0.7777777777777778,\"#fb9f3a\"],[0.8888888888888888,\"#fdca26\"],[1.0,\"#f0f921\"]],\"sequentialminus\":[[0.0,\"#0d0887\"],[0.1111111111111111,\"#46039f\"],[0.2222222222222222,\"#7201a8\"],[0.3333333333333333,\"#9c179e\"],[0.4444444444444444,\"#bd3786\"],[0.5555555555555556,\"#d8576b\"],[0.6666666666666666,\"#ed7953\"],[0.7777777777777778,\"#fb9f3a\"],[0.8888888888888888,\"#fdca26\"],[1.0,\"#f0f921\"]]},\"colorway\":[\"#636efa\",\"#EF553B\",\"#00cc96\",\"#ab63fa\",\"#FFA15A\",\"#19d3f3\",\"#FF6692\",\"#B6E880\",\"#FF97FF\",\"#FECB52\"],\"font\":{\"color\":\"#2a3f5f\"},\"geo\":{\"bgcolor\":\"white\",\"lakecolor\":\"white\",\"landcolor\":\"white\",\"showlakes\":true,\"showland\":true,\"subunitcolor\":\"#C8D4E3\"},\"hoverlabel\":{\"align\":\"left\"},\"hovermode\":\"closest\",\"mapbox\":{\"style\":\"light\"},\"paper_bgcolor\":\"white\",\"plot_bgcolor\":\"white\",\"polar\":{\"angularaxis\":{\"gridcolor\":\"#EBF0F8\",\"linecolor\":\"#EBF0F8\",\"ticks\":\"\"},\"bgcolor\":\"white\",\"radialaxis\":{\"gridcolor\":\"#EBF0F8\",\"linecolor\":\"#EBF0F8\",\"ticks\":\"\"}},\"scene\":{\"xaxis\":{\"backgroundcolor\":\"white\",\"gridcolor\":\"#DFE8F3\",\"gridwidth\":2,\"linecolor\":\"#EBF0F8\",\"showbackground\":true,\"ticks\":\"\",\"zerolinecolor\":\"#EBF0F8\"},\"yaxis\":{\"backgroundcolor\":\"white\",\"gridcolor\":\"#DFE8F3\",\"gridwidth\":2,\"linecolor\":\"#EBF0F8\",\"showbackground\":true,\"ticks\":\"\",\"zerolinecolor\":\"#EBF0F8\"},\"zaxis\":{\"backgroundcolor\":\"white\",\"gridcolor\":\"#DFE8F3\",\"gridwidth\":2,\"linecolor\":\"#EBF0F8\",\"showbackground\":true,\"ticks\":\"\",\"zerolinecolor\":\"#EBF0F8\"}},\"shapedefaults\":{\"line\":{\"color\":\"#2a3f5f\"}},\"ternary\":{\"aaxis\":{\"gridcolor\":\"#DFE8F3\",\"linecolor\":\"#A2B1C6\",\"ticks\":\"\"},\"baxis\":{\"gridcolor\":\"#DFE8F3\",\"linecolor\":\"#A2B1C6\",\"ticks\":\"\"},\"bgcolor\":\"white\",\"caxis\":{\"gridcolor\":\"#DFE8F3\",\"linecolor\":\"#A2B1C6\",\"ticks\":\"\"}},\"title\":{\"x\":0.05},\"xaxis\":{\"automargin\":true,\"gridcolor\":\"#EBF0F8\",\"linecolor\":\"#EBF0F8\",\"ticks\":\"\",\"title\":{\"standoff\":15},\"zerolinecolor\":\"#EBF0F8\",\"zerolinewidth\":2},\"yaxis\":{\"automargin\":true,\"gridcolor\":\"#EBF0F8\",\"linecolor\":\"#EBF0F8\",\"ticks\":\"\",\"title\":{\"standoff\":15},\"zerolinecolor\":\"#EBF0F8\",\"zerolinewidth\":2}}},\"xaxis\":{\"anchor\":\"y\",\"domain\":[0.0,0.475],\"range\":[-0.5,1.4]},\"yaxis\":{\"anchor\":\"x\",\"domain\":[0.56,1.0],\"title\":{\"text\":\"DSC\",\"standoff\":15},\"tickfont\":{\"size\":16},\"range\":[-0.05,1.05]},\"xaxis2\":{\"anchor\":\"y2\",\"domain\":[0.525,1.0]},\"yaxis2\":{\"anchor\":\"x2\",\"domain\":[0.56,1.0],\"tickfont\":{\"size\":16}},\"xaxis3\":{\"anchor\":\"y3\",\"domain\":[0.0,0.475]},\"yaxis3\":{\"anchor\":\"x3\",\"domain\":[0.0,0.44],\"title\":{\"text\":\"DSC\",\"standoff\":15},\"tickfont\":{\"size\":16}},\"xaxis4\":{\"anchor\":\"y4\",\"domain\":[0.525,1.0]},\"yaxis4\":{\"anchor\":\"x4\",\"domain\":[0.0,0.44],\"tickfont\":{\"size\":16}},\"annotations\":[{\"font\":{\"size\":20},\"showarrow\":false,\"text\":\"\\u003cb\\u003eoriginal\\u003c\\u002fb\\u003e\",\"x\":0.2375,\"xanchor\":\"center\",\"xref\":\"paper\",\"y\":1.0,\"yanchor\":\"bottom\",\"yref\":\"paper\"},{\"font\":{\"size\":20},\"showarrow\":false,\"text\":\"\\u003cb\\u003eisolation_zero\\u003c\\u002fb\\u003e\",\"x\":0.7625,\"xanchor\":\"center\",\"xref\":\"paper\",\"y\":1.0,\"yanchor\":\"bottom\",\"yref\":\"paper\"},{\"font\":{\"size\":20},\"showarrow\":false,\"text\":\"\\u003cb\\u003eisolation_bgr\\u003c\\u002fb\\u003e\",\"x\":0.2375,\"xanchor\":\"center\",\"xref\":\"paper\",\"y\":0.44,\"yanchor\":\"bottom\",\"yref\":\"paper\"},{\"font\":{\"size\":20},\"showarrow\":false,\"text\":\"\\u003cb\\u003eisolation_real\\u003c\\u002fb\\u003e\",\"x\":0.7625,\"xanchor\":\"center\",\"xref\":\"paper\",\"y\":0.44,\"yanchor\":\"bottom\",\"yref\":\"paper\"}],\"boxmode\":\"group\",\"boxgap\":0.2,\"boxgroupgap\":0.4,\"legend\":{\"title\":{},\"orientation\":\"h\",\"yanchor\":\"bottom\",\"y\":1.09,\"xanchor\":\"center\",\"x\":0.5},\"font\":{\"family\":\"Libertinus Serif\",\"size\":20},\"margin\":{\"l\":0,\"r\":0,\"b\":0,\"t\":0},\"height\":800,\"width\":1100},                        {\"responsive\": true}                    ).then(function(){\n",
       "                            \n",
       "var gd = document.getElementById('3906a7c8-603d-41d4-89e7-a54d87bdc1f7');\n",
       "var x = new MutationObserver(function (mutations, observer) {{\n",
       "        var display = window.getComputedStyle(gd).display;\n",
       "        if (!display || display === 'none') {{\n",
       "            console.log([gd, 'removed!']);\n",
       "            Plotly.purge(gd);\n",
       "            observer.disconnect();\n",
       "        }}\n",
       "}});\n",
       "\n",
       "// Listen for the removal of the full notebook cells\n",
       "var notebookContainer = gd.closest('#notebook-container');\n",
       "if (notebookContainer) {{\n",
       "    x.observe(notebookContainer, {childList: true});\n",
       "}}\n",
       "\n",
       "// Listen for the clearing of the current output cell\n",
       "var outputEl = gd.closest('.output');\n",
       "if (outputEl) {{\n",
       "    x.observe(outputEl, {childList: true});\n",
       "}}\n",
       "\n",
       "                        })                };                });            </script>        </div>"
      ]
     },
     "metadata": {},
     "output_type": "display_data"
    }
   ],
   "source": [
    "fig = make_subplots(\n",
    "    rows=2,\n",
    "    cols=2,\n",
    "    subplot_titles=[\"<b>original</b>\", \"<b>isolation_zero</b>\", \"<b>isolation_bgr</b>\", \"<b>isolation_real</b>\"],\n",
    "    horizontal_spacing=0.05,\n",
    "    vertical_spacing=0.12,\n",
    ")\n",
    "\n",
    "network_names = {\n",
    "    \"baseline\": \"baseline\",\n",
    "    \"organ_transplantation\": \"surgical_augmentations\",\n",
    "}\n",
    "\n",
    "\n",
    "def add_boxplot(fig: go.Figure, dataset: str, row: int, col: int) -> go.Figure:\n",
    "    for i, series in df[[\"network\", \"modality\"]].drop_duplicates().iterrows():\n",
    "        network = series[\"network\"]\n",
    "        modality = series[\"modality\"]\n",
    "        name = network_names[network] + \"#\" + modality\n",
    "        df_s = df.query(\"dataset == @dataset and network == @network and modality == @modality\")\n",
    "        fig.add_trace(\n",
    "            go.Box(\n",
    "                y=df_s[\"dice_metric\"],\n",
    "                x=[modality] * len(df_s[\"dice_metric\"]),\n",
    "                offsetgroup=network,\n",
    "                text=df_s[\"label_name\"],\n",
    "                boxpoints=\"all\",\n",
    "                boxmean=True,\n",
    "                name=name,\n",
    "                marker_color=settings_context.network_colors[name],\n",
    "                legendgroup=name,\n",
    "                showlegend=row == 1 and col == 1,\n",
    "            ),\n",
    "            row=row,\n",
    "            col=col,\n",
    "        )\n",
    "\n",
    "    return fig\n",
    "\n",
    "\n",
    "fig = add_boxplot(fig, \"semantic\", row=1, col=1)\n",
    "fig = add_boxplot(fig, \"isolation_0\", row=1, col=2)\n",
    "fig = add_boxplot(fig, \"isolation_cloth\", row=2, col=1)\n",
    "fig = add_boxplot(fig, \"masks_isolation\", row=2, col=2)\n",
    "\n",
    "# Font size for subplot titles\n",
    "for i in fig[\"layout\"][\"annotations\"]:\n",
    "    i[\"font\"] = dict(size=20)\n",
    "\n",
    "fig.update_yaxes(title=\"DSC\", title_standoff=15, col=1)\n",
    "fig.update_yaxes(tickfont=dict(size=16))\n",
    "fig.update_layout(boxmode=\"group\", boxgap=0.2, boxgroupgap=0.4)\n",
    "fig.update_layout(yaxis_range=[-0.05, 1.05], xaxis_range=[-0.5, 1.4])\n",
    "fig.update_layout(legend=dict(title=None, orientation=\"h\", yanchor=\"bottom\", y=1.09, xanchor=\"center\", x=0.5))\n",
    "fig.update_layout(\n",
    "    template=\"plotly_white\",\n",
    "    height=800,\n",
    "    width=1100,\n",
    "    font_family=\"Libertinus Serif\",\n",
    "    font_size=20,\n",
    "    margin=dict(l=0, r=0, b=0, t=0),\n",
    ")\n",
    "fig.write_image(settings_context.paper_dir / \"task_performance_modality.pdf\")\n",
    "fig"
   ]
  }
 ],
 "metadata": {
  "kernelspec": {
   "display_name": "Python 3 (ipykernel)",
   "language": "python",
   "name": "python3"
  },
  "language_info": {
   "codemirror_mode": {
    "name": "ipython",
    "version": 3
   },
   "file_extension": ".py",
   "mimetype": "text/x-python",
   "name": "python",
   "nbconvert_exporter": "python",
   "pygments_lexer": "ipython3",
   "version": "3.11.6"
  }
 },
 "nbformat": 4,
 "nbformat_minor": 5
}
