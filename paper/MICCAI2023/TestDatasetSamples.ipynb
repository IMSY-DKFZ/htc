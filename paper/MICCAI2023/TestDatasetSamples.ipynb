{
 "cells": [
  {
   "cell_type": "markdown",
   "id": "2f3b041e-6484-4b93-a9d3-f862476aa1af",
   "metadata": {},
   "source": [
    "# Test Dataset Samples"
   ]
  },
  {
   "cell_type": "code",
   "execution_count": 1,
   "id": "abea4deb-92c9-432a-9d41-fb709ea63630",
   "metadata": {},
   "outputs": [],
   "source": [
    "%load_ext autoreload\n",
    "%autoreload 2\n",
    "\n",
    "import matplotlib.image as mpl_img\n",
    "\n",
    "from htc.context.settings_context import settings_context\n",
    "from htc.models.image.DatasetImage import DatasetImage\n",
    "from htc.settings_seg import settings_seg\n",
    "from htc.tivita.DataPath import DataPath\n",
    "from htc.utils.Config import Config"
   ]
  },
  {
   "cell_type": "code",
   "execution_count": 2,
   "id": "c9761424-bb9e-496b-829d-efbe97f0f6d8",
   "metadata": {},
   "outputs": [],
   "source": [
    "# Alternatives for occlusion: P062#2020_05_15_18_58_07, P062#2020_05_15_19_58_26\n",
    "for image_name, file_name in [\n",
    "    (\"P041#2019_12_14_12_29_18\", \"real\"),\n",
    "    (\"P046#2020_02_07_09_10_07\", \"no-occlusion\"),\n",
    "    (\"P062#2020_05_15_20_00_49\", \"occlusion\"),\n",
    "]:\n",
    "    path = DataPath.from_image_name(image_name)\n",
    "    mpl_img.imsave(settings_context.paper_dir / f\"sample_bladder_{file_name}.png\", path.read_rgb_reconstructed())"
   ]
  },
  {
   "cell_type": "code",
   "execution_count": 3,
   "id": "56989fa6-7103-4315-bb53-e097036482b8",
   "metadata": {},
   "outputs": [],
   "source": [
    "path = DataPath.from_image_name(\"P046#2020_02_07_09_14_23\")\n",
    "mpl_img.imsave(settings_context.paper_dir / \"sample_bladder_raw.png\", path.read_rgb_reconstructed())"
   ]
  },
  {
   "cell_type": "code",
   "execution_count": 4,
   "id": "1afcc840-44b7-473a-815f-ad8bd7071c72",
   "metadata": {},
   "outputs": [],
   "source": [
    "mapping = settings_seg.label_mapping\n",
    "config = Config({\"label_mapping\": mapping, \"input/n_channels\": 3})\n",
    "sample_original = DatasetImage([path], train=False, config=config)[0]\n",
    "assert mapping.name_to_index(\"background\") in sample_original[\"labels\"]\n",
    "\n",
    "for transform_class, target_label, transform_name in [\n",
    "    (\"OrganIsolation\", 4, \"isolation\"),\n",
    "    (\"OrganRemoval\", 5, \"removal\"),\n",
    "]:\n",
    "    for fill_value, fill_name in [(\"0\", \"zero\"), (\"cloth\", \"cloth\")]:\n",
    "        config_ttt = Config(\n",
    "            {\n",
    "                \"label_mapping\": mapping,\n",
    "                \"input/n_channels\": 3,\n",
    "                \"input/test_time_transforms_cpu\": [\n",
    "                    {\n",
    "                        \"class\": f\"htc.context.context_transforms>{transform_class}\",\n",
    "                        \"fill_value\": fill_value,\n",
    "                        \"target_label\": target_label,\n",
    "                    }\n",
    "                ],\n",
    "            }\n",
    "        )\n",
    "        dataset = DatasetImage([path], train=False, config=config_ttt)\n",
    "        sample_transformed = dataset[0]\n",
    "        mpl_img.imsave(\n",
    "            settings_context.paper_dir / f\"sample_bladder_{transform_name}_{fill_name}.png\",\n",
    "            sample_transformed[\"features\"].numpy(),\n",
    "        )"
   ]
  }
 ],
 "metadata": {
  "kernelspec": {
   "display_name": "Python 3 (ipykernel)",
   "language": "python",
   "name": "python3"
  },
  "language_info": {
   "codemirror_mode": {
    "name": "ipython",
    "version": 3
   },
   "file_extension": ".py",
   "mimetype": "text/x-python",
   "name": "python",
   "nbconvert_exporter": "python",
   "pygments_lexer": "ipython3",
   "version": "3.10.8"
  }
 },
 "nbformat": 4,
 "nbformat_minor": 5
}
