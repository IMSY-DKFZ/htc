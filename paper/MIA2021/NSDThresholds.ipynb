{
 "cells": [
  {
   "cell_type": "markdown",
   "id": "af5f6a9a-79b4-49fa-8095-57b62759fe39",
   "metadata": {},
   "source": [
    "# NSD Thresholds"
   ]
  },
  {
   "cell_type": "code",
   "execution_count": 1,
   "id": "1e33baa3-da0c-4075-8054-150b52414a95",
   "metadata": {},
   "outputs": [],
   "source": [
    "%load_ext autoreload\n",
    "%autoreload 2\n",
    "\n",
    "import pandas as pd\n",
    "import plotly.graph_objects as go\n",
    "import plotly.io as pio\n",
    "\n",
    "from htc.settings_seg import settings_seg\n",
    "\n",
    "pio.kaleido.scope.mathjax = None"
   ]
  },
  {
   "cell_type": "code",
   "execution_count": 2,
   "id": "94cccaad-26ca-497c-a04a-0af34a911189",
   "metadata": {},
   "outputs": [
    {
     "data": {
      "text/html": [
       "<div>\n",
       "<style scoped>\n",
       "    .dataframe tbody tr th:only-of-type {\n",
       "        vertical-align: middle;\n",
       "    }\n",
       "\n",
       "    .dataframe tbody tr th {\n",
       "        vertical-align: top;\n",
       "    }\n",
       "\n",
       "    .dataframe thead th {\n",
       "        text-align: right;\n",
       "    }\n",
       "</style>\n",
       "<table border=\"1\" class=\"dataframe\">\n",
       "  <thead>\n",
       "    <tr style=\"text-align: right;\">\n",
       "      <th></th>\n",
       "      <th>label_name</th>\n",
       "      <th>label_index</th>\n",
       "      <th>tolerance_mean</th>\n",
       "      <th>tolerance_mean_std</th>\n",
       "      <th>tolerance_median</th>\n",
       "      <th>tolerance_median_std</th>\n",
       "      <th>tolerance_q75</th>\n",
       "      <th>tolerance_q75_std</th>\n",
       "      <th>tolerance_q95</th>\n",
       "      <th>tolerance_q95_std</th>\n",
       "    </tr>\n",
       "  </thead>\n",
       "  <tbody>\n",
       "    <tr>\n",
       "      <th>0</th>\n",
       "      <td>background</td>\n",
       "      <td>0</td>\n",
       "      <td>2.163772</td>\n",
       "      <td>0.000000</td>\n",
       "      <td>1.414214</td>\n",
       "      <td>0.000000</td>\n",
       "      <td>2.000000</td>\n",
       "      <td>0.000000</td>\n",
       "      <td>9.704048</td>\n",
       "      <td>0.000000</td>\n",
       "    </tr>\n",
       "    <tr>\n",
       "      <th>1</th>\n",
       "      <td>heart</td>\n",
       "      <td>1</td>\n",
       "      <td>12.253547</td>\n",
       "      <td>9.326841</td>\n",
       "      <td>2.000000</td>\n",
       "      <td>0.000000</td>\n",
       "      <td>3.914214</td>\n",
       "      <td>1.085786</td>\n",
       "      <td>56.358709</td>\n",
       "      <td>43.630787</td>\n",
       "    </tr>\n",
       "    <tr>\n",
       "      <th>2</th>\n",
       "      <td>lung</td>\n",
       "      <td>2</td>\n",
       "      <td>4.725244</td>\n",
       "      <td>1.315539</td>\n",
       "      <td>1.207107</td>\n",
       "      <td>0.207107</td>\n",
       "      <td>2.414214</td>\n",
       "      <td>0.414214</td>\n",
       "      <td>30.473800</td>\n",
       "      <td>10.324404</td>\n",
       "    </tr>\n",
       "    <tr>\n",
       "      <th>3</th>\n",
       "      <td>liver</td>\n",
       "      <td>3</td>\n",
       "      <td>1.408243</td>\n",
       "      <td>0.424091</td>\n",
       "      <td>1.076923</td>\n",
       "      <td>0.474186</td>\n",
       "      <td>1.960406</td>\n",
       "      <td>0.622556</td>\n",
       "      <td>4.087531</td>\n",
       "      <td>1.435731</td>\n",
       "    </tr>\n",
       "    <tr>\n",
       "      <th>4</th>\n",
       "      <td>colon</td>\n",
       "      <td>4</td>\n",
       "      <td>5.319908</td>\n",
       "      <td>9.038581</td>\n",
       "      <td>0.785714</td>\n",
       "      <td>0.673856</td>\n",
       "      <td>2.911164</td>\n",
       "      <td>4.152037</td>\n",
       "      <td>34.995176</td>\n",
       "      <td>65.584369</td>\n",
       "    </tr>\n",
       "    <tr>\n",
       "      <th>5</th>\n",
       "      <td>small_bowel</td>\n",
       "      <td>5</td>\n",
       "      <td>2.185947</td>\n",
       "      <td>1.716667</td>\n",
       "      <td>0.911901</td>\n",
       "      <td>0.473279</td>\n",
       "      <td>1.821436</td>\n",
       "      <td>0.636077</td>\n",
       "      <td>11.257566</td>\n",
       "      <td>13.712820</td>\n",
       "    </tr>\n",
       "    <tr>\n",
       "      <th>6</th>\n",
       "      <td>stomach</td>\n",
       "      <td>6</td>\n",
       "      <td>5.409232</td>\n",
       "      <td>8.760680</td>\n",
       "      <td>1.686887</td>\n",
       "      <td>0.698389</td>\n",
       "      <td>8.056732</td>\n",
       "      <td>17.016703</td>\n",
       "      <td>19.832895</td>\n",
       "      <td>27.412320</td>\n",
       "    </tr>\n",
       "    <tr>\n",
       "      <th>7</th>\n",
       "      <td>spleen</td>\n",
       "      <td>7</td>\n",
       "      <td>1.673189</td>\n",
       "      <td>1.516059</td>\n",
       "      <td>1.037656</td>\n",
       "      <td>0.119078</td>\n",
       "      <td>1.663688</td>\n",
       "      <td>0.481813</td>\n",
       "      <td>6.340483</td>\n",
       "      <td>10.479266</td>\n",
       "    </tr>\n",
       "    <tr>\n",
       "      <th>8</th>\n",
       "      <td>gallbladder</td>\n",
       "      <td>8</td>\n",
       "      <td>1.248512</td>\n",
       "      <td>0.617641</td>\n",
       "      <td>1.138071</td>\n",
       "      <td>0.195262</td>\n",
       "      <td>1.466395</td>\n",
       "      <td>0.545026</td>\n",
       "      <td>3.372721</td>\n",
       "      <td>2.594796</td>\n",
       "    </tr>\n",
       "    <tr>\n",
       "      <th>9</th>\n",
       "      <td>bladder</td>\n",
       "      <td>9</td>\n",
       "      <td>1.126835</td>\n",
       "      <td>0.433350</td>\n",
       "      <td>0.800000</td>\n",
       "      <td>0.400000</td>\n",
       "      <td>1.482843</td>\n",
       "      <td>0.448528</td>\n",
       "      <td>3.695742</td>\n",
       "      <td>2.709519</td>\n",
       "    </tr>\n",
       "    <tr>\n",
       "      <th>10</th>\n",
       "      <td>omentum</td>\n",
       "      <td>10</td>\n",
       "      <td>9.685355</td>\n",
       "      <td>8.854727</td>\n",
       "      <td>1.689775</td>\n",
       "      <td>0.380341</td>\n",
       "      <td>11.676049</td>\n",
       "      <td>15.365443</td>\n",
       "      <td>54.986107</td>\n",
       "      <td>55.844481</td>\n",
       "    </tr>\n",
       "    <tr>\n",
       "      <th>11</th>\n",
       "      <td>peritoneum</td>\n",
       "      <td>11</td>\n",
       "      <td>15.090913</td>\n",
       "      <td>17.367690</td>\n",
       "      <td>1.580752</td>\n",
       "      <td>0.520052</td>\n",
       "      <td>15.182635</td>\n",
       "      <td>21.244996</td>\n",
       "      <td>83.950384</td>\n",
       "      <td>107.902194</td>\n",
       "    </tr>\n",
       "    <tr>\n",
       "      <th>12</th>\n",
       "      <td>skin</td>\n",
       "      <td>12</td>\n",
       "      <td>18.650900</td>\n",
       "      <td>47.404628</td>\n",
       "      <td>1.000000</td>\n",
       "      <td>0.654654</td>\n",
       "      <td>34.140728</td>\n",
       "      <td>116.977944</td>\n",
       "      <td>66.019971</td>\n",
       "      <td>149.781030</td>\n",
       "    </tr>\n",
       "    <tr>\n",
       "      <th>13</th>\n",
       "      <td>fat</td>\n",
       "      <td>13</td>\n",
       "      <td>5.064018</td>\n",
       "      <td>4.948667</td>\n",
       "      <td>1.325851</td>\n",
       "      <td>0.492055</td>\n",
       "      <td>2.873111</td>\n",
       "      <td>2.106548</td>\n",
       "      <td>24.551880</td>\n",
       "      <td>33.955642</td>\n",
       "    </tr>\n",
       "    <tr>\n",
       "      <th>14</th>\n",
       "      <td>pancreas</td>\n",
       "      <td>14</td>\n",
       "      <td>7.602137</td>\n",
       "      <td>3.692540</td>\n",
       "      <td>3.078689</td>\n",
       "      <td>1.361986</td>\n",
       "      <td>10.341763</td>\n",
       "      <td>5.152235</td>\n",
       "      <td>31.706476</td>\n",
       "      <td>18.821259</td>\n",
       "    </tr>\n",
       "    <tr>\n",
       "      <th>15</th>\n",
       "      <td>muscle</td>\n",
       "      <td>15</td>\n",
       "      <td>2.745297</td>\n",
       "      <td>1.257802</td>\n",
       "      <td>1.000000</td>\n",
       "      <td>0.000000</td>\n",
       "      <td>2.414214</td>\n",
       "      <td>0.414214</td>\n",
       "      <td>15.532306</td>\n",
       "      <td>11.926755</td>\n",
       "    </tr>\n",
       "    <tr>\n",
       "      <th>16</th>\n",
       "      <td>kidney</td>\n",
       "      <td>16</td>\n",
       "      <td>1.551236</td>\n",
       "      <td>0.134148</td>\n",
       "      <td>1.000000</td>\n",
       "      <td>0.000000</td>\n",
       "      <td>1.707107</td>\n",
       "      <td>0.292893</td>\n",
       "      <td>5.518677</td>\n",
       "      <td>2.518677</td>\n",
       "    </tr>\n",
       "    <tr>\n",
       "      <th>17</th>\n",
       "      <td>major_vein</td>\n",
       "      <td>17</td>\n",
       "      <td>10.735555</td>\n",
       "      <td>0.000000</td>\n",
       "      <td>1.000000</td>\n",
       "      <td>0.000000</td>\n",
       "      <td>2.828427</td>\n",
       "      <td>0.000000</td>\n",
       "      <td>66.827817</td>\n",
       "      <td>0.000000</td>\n",
       "    </tr>\n",
       "    <tr>\n",
       "      <th>18</th>\n",
       "      <td>kidney_with_Gerotas_fascia</td>\n",
       "      <td>18</td>\n",
       "      <td>2.128995</td>\n",
       "      <td>0.797922</td>\n",
       "      <td>1.207107</td>\n",
       "      <td>0.207107</td>\n",
       "      <td>2.802776</td>\n",
       "      <td>0.802776</td>\n",
       "      <td>7.171309</td>\n",
       "      <td>4.009031</td>\n",
       "    </tr>\n",
       "  </tbody>\n",
       "</table>\n",
       "</div>"
      ],
      "text/plain": [
       "           label_name  label_index  tolerance_mean  tolerance_mean_std  \\\n",
       "0          background         0        2.163772            0.000000   \n",
       "1               heart         1       12.253547            9.326841   \n",
       "2                lung         2        4.725244            1.315539   \n",
       "3               liver         3        1.408243            0.424091   \n",
       "4               colon         4        5.319908            9.038581   \n",
       "5             small_bowel         5        2.185947            1.716667   \n",
       "6             stomach         6        5.409232            8.760680   \n",
       "7              spleen         7        1.673189            1.516059   \n",
       "8         gallbladder         8        1.248512            0.617641   \n",
       "9             bladder         9        1.126835            0.433350   \n",
       "10            omentum        10        9.685355            8.854727   \n",
       "11         peritoneum        11       15.090913           17.367690   \n",
       "12               skin        12       18.650900           47.404628   \n",
       "13                fat        13        5.064018            4.948667   \n",
       "14           pancreas        14        7.602137            3.692540   \n",
       "15             muscle        15        2.745297            1.257802   \n",
       "16             kidney        16        1.551236            0.134148   \n",
       "17          major_vein        17       10.735555            0.000000   \n",
       "18  kidney_with_Gerotas_fascia        18        2.128995            0.797922   \n",
       "\n",
       "    tolerance_median  tolerance_median_std  tolerance_q75  tolerance_q75_std  \\\n",
       "0           1.414214              0.000000       2.000000           0.000000   \n",
       "1           2.000000              0.000000       3.914214           1.085786   \n",
       "2           1.207107              0.207107       2.414214           0.414214   \n",
       "3           1.076923              0.474186       1.960406           0.622556   \n",
       "4           0.785714              0.673856       2.911164           4.152037   \n",
       "5           0.911901              0.473279       1.821436           0.636077   \n",
       "6           1.686887              0.698389       8.056732          17.016703   \n",
       "7           1.037656              0.119078       1.663688           0.481813   \n",
       "8           1.138071              0.195262       1.466395           0.545026   \n",
       "9           0.800000              0.400000       1.482843           0.448528   \n",
       "10          1.689775              0.380341      11.676049          15.365443   \n",
       "11          1.580752              0.520052      15.182635          21.244996   \n",
       "12          1.000000              0.654654      34.140728         116.977944   \n",
       "13          1.325851              0.492055       2.873111           2.106548   \n",
       "14          3.078689              1.361986      10.341763           5.152235   \n",
       "15          1.000000              0.000000       2.414214           0.414214   \n",
       "16          1.000000              0.000000       1.707107           0.292893   \n",
       "17          1.000000              0.000000       2.828427           0.000000   \n",
       "18          1.207107              0.207107       2.802776           0.802776   \n",
       "\n",
       "    tolerance_q95  tolerance_q95_std  \n",
       "0        9.704048           0.000000  \n",
       "1       56.358709          43.630787  \n",
       "2       30.473800          10.324404  \n",
       "3        4.087531           1.435731  \n",
       "4       34.995176          65.584369  \n",
       "5       11.257566          13.712820  \n",
       "6       19.832895          27.412320  \n",
       "7        6.340483          10.479266  \n",
       "8        3.372721           2.594796  \n",
       "9        3.695742           2.709519  \n",
       "10      54.986107          55.844481  \n",
       "11      83.950384         107.902194  \n",
       "12      66.019971         149.781030  \n",
       "13      24.551880          33.955642  \n",
       "14      31.706476          18.821259  \n",
       "15      15.532306          11.926755  \n",
       "16       5.518677           2.518677  \n",
       "17      66.827817           0.000000  \n",
       "18       7.171309           4.009031  "
      ]
     },
     "execution_count": 2,
     "metadata": {},
     "output_type": "execute_result"
    }
   ],
   "source": [
    "df_thresholds = pd.read_csv(settings_seg.nsd_tolerances_path)\n",
    "df_thresholds"
   ]
  },
  {
   "cell_type": "code",
   "execution_count": 3,
   "id": "76ab0ef1-c1db-4ea7-a200-c201848856e7",
   "metadata": {},
   "outputs": [
    {
     "data": {
      "text/html": [
       "        <script type=\"text/javascript\">\n",
       "        window.PlotlyConfig = {MathJaxConfig: 'local'};\n",
       "        if (window.MathJax) {MathJax.Hub.Config({SVG: {font: \"STIX-Web\"}});}\n",
       "        if (typeof require !== 'undefined') {\n",
       "        require.undef(\"plotly\");\n",
       "        requirejs.config({\n",
       "            paths: {\n",
       "                'plotly': ['https://cdn.plot.ly/plotly-2.9.0.min']\n",
       "            }\n",
       "        });\n",
       "        require(['plotly'], function(Plotly) {\n",
       "            window._Plotly = Plotly;\n",
       "        });\n",
       "        }\n",
       "        </script>\n",
       "        "
      ]
     },
     "metadata": {},
     "output_type": "display_data"
    },
    {
     "data": {
      "application/vnd.plotly.v1+json": {
       "config": {
        "plotlyServerURL": "https://plot.ly"
       },
       "data": [
        {
         "error_x": {
          "array": [
           0.05177669529663687,
           0,
           0,
           0,
           0.340496454490871,
           0.1230137468189521,
           0.16366341767699427,
           0.1300129243213064,
           0.09508529840445368,
           0.10000000000000002,
           0.04881553646890875,
           0.029769506700709075,
           0.17459712805010072,
           0.11831963366903843,
           0.16846394878672508,
           0.11854642313401875,
           0.05177669529663687,
           0,
           0
          ],
          "type": "data"
         },
         "marker": {
          "color": "lightseagreen"
         },
         "name": "median",
         "orientation": "h",
         "type": "bar",
         "x": [
          1.2071067811865477,
          1,
          1,
          1,
          3.0786893258332637,
          1.3258513828845992,
          1,
          1.580752036652658,
          1.68977530353517,
          0.8,
          1.1380711874576983,
          1.0376557783975542,
          1.6868867239266072,
          0.911900753465172,
          0.7857142857142857,
          1.0769230769230769,
          1.2071067811865477,
          2,
          1.4142135623730951
         ],
         "y": [
          "kidney with<br>Gerota's fascia",
          "major vein",
          "kidney",
          "muscle",
          "pancreas",
          "subcutaneous fat",
          "skin",
          "peritoneum",
          "omentum",
          "bladder",
          "gallbladder",
          "spleen",
          "stomach",
          "small intestine",
          "colon",
          "liver",
          "lung",
          "heart",
          "background"
         ]
        },
        {
         "error_x": {
          "array": [
           0.19948051278853218,
           0,
           0.03353706894803157,
           0.3144504154991286,
           0.923134921995175,
           1.2371668732116101,
           11.851156937684191,
           4.3419224246641015,
           2.2136817439081784,
           0.10833755317661772,
           0.15441033066113657,
           0.3790148211492891,
           2.190169988678653,
           0.4291668729575917,
           2.25964521700368,
           0.1060227398416575,
           0.32888484460950546,
           2.331710229854787,
           0
          ],
          "type": "data"
         },
         "marker": {
          "color": "lightsalmon"
         },
         "name": "mean",
         "orientation": "h",
         "type": "bar",
         "x": [
          2.128994661821198,
          10.735555339495509,
          1.551235633458134,
          2.7452968918679703,
          7.602136561794808,
          5.06401760749542,
          18.650899647843577,
          15.09091290629362,
          9.685355262161943,
          1.126834911360549,
          1.248511771357112,
          1.6731894666844835,
          5.409232262886696,
          2.185947105135392,
          5.31990835443178,
          1.4082426115865798,
          4.725244113224271,
          12.253546504209442,
          2.1637715873504426
         ],
         "y": [
          "kidney with<br>Gerota's fascia",
          "major vein",
          "kidney",
          "muscle",
          "pancreas",
          "subcutaneous fat",
          "skin",
          "peritoneum",
          "omentum",
          "bladder",
          "gallbladder",
          "spleen",
          "stomach",
          "small intestine",
          "colon",
          "liver",
          "lung",
          "heart",
          "background"
         ]
        },
        {
         "error_x": {
          "array": [
           1.0022577784163211,
           0,
           0.6296693311223904,
           2.981688645003497,
           4.705314790045707,
           8.488910540270277,
           37.44525762294721,
           26.97554851171682,
           13.96112029695344,
           0.6773797422571255,
           0.6486990059160825,
           2.6198165729852776,
           6.853080053953173,
           3.428205045333743,
           16.396092217866588,
           0.35893263608426995,
           2.5811011237717616,
           10.907696782633423,
           0
          ],
          "type": "data"
         },
         "marker": {
          "color": "indianred"
         },
         "name": "<i>q</i><sub>95</sub>",
         "orientation": "h",
         "type": "bar",
         "x": [
          7.1713087738336645,
          66.82781727271458,
          5.518677324489562,
          15.532305855477976,
          31.7064758549452,
          24.551880067317317,
          66.0199709650801,
          83.95038367381237,
          54.98610714935704,
          3.695741732923816,
          3.372721330639429,
          6.340482961627549,
          19.83289548394843,
          11.257565907720853,
          34.995176357514865,
          4.087530865117513,
          30.4738004472498,
          56.35870919189155,
          9.704047873279684
         ],
         "y": [
          "kidney with<br>Gerota's fascia",
          "major vein",
          "kidney",
          "muscle",
          "pancreas",
          "subcutaneous fat",
          "skin",
          "peritoneum",
          "omentum",
          "bladder",
          "gallbladder",
          "spleen",
          "stomach",
          "small intestine",
          "colon",
          "liver",
          "lung",
          "heart",
          "background"
         ]
        }
       ],
       "layout": {
        "bargap": 0.35,
        "barmode": "group",
        "font": {
         "family": "Libertinus Serif",
         "size": 18
        },
        "height": 900,
        "legend": {
         "orientation": "h",
         "x": 0.7,
         "xanchor": "right",
         "y": 1.05,
         "yanchor": "bottom"
        },
        "template": {
         "data": {
          "bar": [
           {
            "error_x": {
             "color": "#2a3f5f"
            },
            "error_y": {
             "color": "#2a3f5f"
            },
            "marker": {
             "line": {
              "color": "white",
              "width": 0.5
             },
             "pattern": {
              "fillmode": "overlay",
              "size": 10,
              "solidity": 0.2
             }
            },
            "type": "bar"
           }
          ],
          "barpolar": [
           {
            "marker": {
             "line": {
              "color": "white",
              "width": 0.5
             },
             "pattern": {
              "fillmode": "overlay",
              "size": 10,
              "solidity": 0.2
             }
            },
            "type": "barpolar"
           }
          ],
          "carpet": [
           {
            "aaxis": {
             "endlinecolor": "#2a3f5f",
             "gridcolor": "#C8D4E3",
             "linecolor": "#C8D4E3",
             "minorgridcolor": "#C8D4E3",
             "startlinecolor": "#2a3f5f"
            },
            "baxis": {
             "endlinecolor": "#2a3f5f",
             "gridcolor": "#C8D4E3",
             "linecolor": "#C8D4E3",
             "minorgridcolor": "#C8D4E3",
             "startlinecolor": "#2a3f5f"
            },
            "type": "carpet"
           }
          ],
          "choropleth": [
           {
            "colorbar": {
             "outlinewidth": 0,
             "ticks": ""
            },
            "type": "choropleth"
           }
          ],
          "contour": [
           {
            "colorbar": {
             "outlinewidth": 0,
             "ticks": ""
            },
            "colorscale": [
             [
              0,
              "#0d0887"
             ],
             [
              0.1111111111111111,
              "#46039f"
             ],
             [
              0.2222222222222222,
              "#7201a8"
             ],
             [
              0.3333333333333333,
              "#9c179e"
             ],
             [
              0.4444444444444444,
              "#bd3786"
             ],
             [
              0.5555555555555556,
              "#d8576b"
             ],
             [
              0.6666666666666666,
              "#ed7953"
             ],
             [
              0.7777777777777778,
              "#fb9f3a"
             ],
             [
              0.8888888888888888,
              "#fdca26"
             ],
             [
              1,
              "#f0f921"
             ]
            ],
            "type": "contour"
           }
          ],
          "contourcarpet": [
           {
            "colorbar": {
             "outlinewidth": 0,
             "ticks": ""
            },
            "type": "contourcarpet"
           }
          ],
          "heatmap": [
           {
            "colorbar": {
             "outlinewidth": 0,
             "ticks": ""
            },
            "colorscale": [
             [
              0,
              "#0d0887"
             ],
             [
              0.1111111111111111,
              "#46039f"
             ],
             [
              0.2222222222222222,
              "#7201a8"
             ],
             [
              0.3333333333333333,
              "#9c179e"
             ],
             [
              0.4444444444444444,
              "#bd3786"
             ],
             [
              0.5555555555555556,
              "#d8576b"
             ],
             [
              0.6666666666666666,
              "#ed7953"
             ],
             [
              0.7777777777777778,
              "#fb9f3a"
             ],
             [
              0.8888888888888888,
              "#fdca26"
             ],
             [
              1,
              "#f0f921"
             ]
            ],
            "type": "heatmap"
           }
          ],
          "heatmapgl": [
           {
            "colorbar": {
             "outlinewidth": 0,
             "ticks": ""
            },
            "colorscale": [
             [
              0,
              "#0d0887"
             ],
             [
              0.1111111111111111,
              "#46039f"
             ],
             [
              0.2222222222222222,
              "#7201a8"
             ],
             [
              0.3333333333333333,
              "#9c179e"
             ],
             [
              0.4444444444444444,
              "#bd3786"
             ],
             [
              0.5555555555555556,
              "#d8576b"
             ],
             [
              0.6666666666666666,
              "#ed7953"
             ],
             [
              0.7777777777777778,
              "#fb9f3a"
             ],
             [
              0.8888888888888888,
              "#fdca26"
             ],
             [
              1,
              "#f0f921"
             ]
            ],
            "type": "heatmapgl"
           }
          ],
          "histogram": [
           {
            "marker": {
             "pattern": {
              "fillmode": "overlay",
              "size": 10,
              "solidity": 0.2
             }
            },
            "type": "histogram"
           }
          ],
          "histogram2d": [
           {
            "colorbar": {
             "outlinewidth": 0,
             "ticks": ""
            },
            "colorscale": [
             [
              0,
              "#0d0887"
             ],
             [
              0.1111111111111111,
              "#46039f"
             ],
             [
              0.2222222222222222,
              "#7201a8"
             ],
             [
              0.3333333333333333,
              "#9c179e"
             ],
             [
              0.4444444444444444,
              "#bd3786"
             ],
             [
              0.5555555555555556,
              "#d8576b"
             ],
             [
              0.6666666666666666,
              "#ed7953"
             ],
             [
              0.7777777777777778,
              "#fb9f3a"
             ],
             [
              0.8888888888888888,
              "#fdca26"
             ],
             [
              1,
              "#f0f921"
             ]
            ],
            "type": "histogram2d"
           }
          ],
          "histogram2dcontour": [
           {
            "colorbar": {
             "outlinewidth": 0,
             "ticks": ""
            },
            "colorscale": [
             [
              0,
              "#0d0887"
             ],
             [
              0.1111111111111111,
              "#46039f"
             ],
             [
              0.2222222222222222,
              "#7201a8"
             ],
             [
              0.3333333333333333,
              "#9c179e"
             ],
             [
              0.4444444444444444,
              "#bd3786"
             ],
             [
              0.5555555555555556,
              "#d8576b"
             ],
             [
              0.6666666666666666,
              "#ed7953"
             ],
             [
              0.7777777777777778,
              "#fb9f3a"
             ],
             [
              0.8888888888888888,
              "#fdca26"
             ],
             [
              1,
              "#f0f921"
             ]
            ],
            "type": "histogram2dcontour"
           }
          ],
          "mesh3d": [
           {
            "colorbar": {
             "outlinewidth": 0,
             "ticks": ""
            },
            "type": "mesh3d"
           }
          ],
          "parcoords": [
           {
            "line": {
             "colorbar": {
              "outlinewidth": 0,
              "ticks": ""
             }
            },
            "type": "parcoords"
           }
          ],
          "pie": [
           {
            "automargin": true,
            "type": "pie"
           }
          ],
          "scatter": [
           {
            "marker": {
             "colorbar": {
              "outlinewidth": 0,
              "ticks": ""
             }
            },
            "type": "scatter"
           }
          ],
          "scatter3d": [
           {
            "line": {
             "colorbar": {
              "outlinewidth": 0,
              "ticks": ""
             }
            },
            "marker": {
             "colorbar": {
              "outlinewidth": 0,
              "ticks": ""
             }
            },
            "type": "scatter3d"
           }
          ],
          "scattercarpet": [
           {
            "marker": {
             "colorbar": {
              "outlinewidth": 0,
              "ticks": ""
             }
            },
            "type": "scattercarpet"
           }
          ],
          "scattergeo": [
           {
            "marker": {
             "colorbar": {
              "outlinewidth": 0,
              "ticks": ""
             }
            },
            "type": "scattergeo"
           }
          ],
          "scattergl": [
           {
            "marker": {
             "colorbar": {
              "outlinewidth": 0,
              "ticks": ""
             }
            },
            "type": "scattergl"
           }
          ],
          "scattermapbox": [
           {
            "marker": {
             "colorbar": {
              "outlinewidth": 0,
              "ticks": ""
             }
            },
            "type": "scattermapbox"
           }
          ],
          "scatterpolar": [
           {
            "marker": {
             "colorbar": {
              "outlinewidth": 0,
              "ticks": ""
             }
            },
            "type": "scatterpolar"
           }
          ],
          "scatterpolargl": [
           {
            "marker": {
             "colorbar": {
              "outlinewidth": 0,
              "ticks": ""
             }
            },
            "type": "scatterpolargl"
           }
          ],
          "scatterternary": [
           {
            "marker": {
             "colorbar": {
              "outlinewidth": 0,
              "ticks": ""
             }
            },
            "type": "scatterternary"
           }
          ],
          "surface": [
           {
            "colorbar": {
             "outlinewidth": 0,
             "ticks": ""
            },
            "colorscale": [
             [
              0,
              "#0d0887"
             ],
             [
              0.1111111111111111,
              "#46039f"
             ],
             [
              0.2222222222222222,
              "#7201a8"
             ],
             [
              0.3333333333333333,
              "#9c179e"
             ],
             [
              0.4444444444444444,
              "#bd3786"
             ],
             [
              0.5555555555555556,
              "#d8576b"
             ],
             [
              0.6666666666666666,
              "#ed7953"
             ],
             [
              0.7777777777777778,
              "#fb9f3a"
             ],
             [
              0.8888888888888888,
              "#fdca26"
             ],
             [
              1,
              "#f0f921"
             ]
            ],
            "type": "surface"
           }
          ],
          "table": [
           {
            "cells": {
             "fill": {
              "color": "#EBF0F8"
             },
             "line": {
              "color": "white"
             }
            },
            "header": {
             "fill": {
              "color": "#C8D4E3"
             },
             "line": {
              "color": "white"
             }
            },
            "type": "table"
           }
          ]
         },
         "layout": {
          "annotationdefaults": {
           "arrowcolor": "#2a3f5f",
           "arrowhead": 0,
           "arrowwidth": 1
          },
          "autotypenumbers": "strict",
          "coloraxis": {
           "colorbar": {
            "outlinewidth": 0,
            "ticks": ""
           }
          },
          "colorscale": {
           "diverging": [
            [
             0,
             "#8e0152"
            ],
            [
             0.1,
             "#c51b7d"
            ],
            [
             0.2,
             "#de77ae"
            ],
            [
             0.3,
             "#f1b6da"
            ],
            [
             0.4,
             "#fde0ef"
            ],
            [
             0.5,
             "#f7f7f7"
            ],
            [
             0.6,
             "#e6f5d0"
            ],
            [
             0.7,
             "#b8e186"
            ],
            [
             0.8,
             "#7fbc41"
            ],
            [
             0.9,
             "#4d9221"
            ],
            [
             1,
             "#276419"
            ]
           ],
           "sequential": [
            [
             0,
             "#0d0887"
            ],
            [
             0.1111111111111111,
             "#46039f"
            ],
            [
             0.2222222222222222,
             "#7201a8"
            ],
            [
             0.3333333333333333,
             "#9c179e"
            ],
            [
             0.4444444444444444,
             "#bd3786"
            ],
            [
             0.5555555555555556,
             "#d8576b"
            ],
            [
             0.6666666666666666,
             "#ed7953"
            ],
            [
             0.7777777777777778,
             "#fb9f3a"
            ],
            [
             0.8888888888888888,
             "#fdca26"
            ],
            [
             1,
             "#f0f921"
            ]
           ],
           "sequentialminus": [
            [
             0,
             "#0d0887"
            ],
            [
             0.1111111111111111,
             "#46039f"
            ],
            [
             0.2222222222222222,
             "#7201a8"
            ],
            [
             0.3333333333333333,
             "#9c179e"
            ],
            [
             0.4444444444444444,
             "#bd3786"
            ],
            [
             0.5555555555555556,
             "#d8576b"
            ],
            [
             0.6666666666666666,
             "#ed7953"
            ],
            [
             0.7777777777777778,
             "#fb9f3a"
            ],
            [
             0.8888888888888888,
             "#fdca26"
            ],
            [
             1,
             "#f0f921"
            ]
           ]
          },
          "colorway": [
           "#636efa",
           "#EF553B",
           "#00cc96",
           "#ab63fa",
           "#FFA15A",
           "#19d3f3",
           "#FF6692",
           "#B6E880",
           "#FF97FF",
           "#FECB52"
          ],
          "font": {
           "color": "#2a3f5f"
          },
          "geo": {
           "bgcolor": "white",
           "lakecolor": "white",
           "landcolor": "white",
           "showlakes": true,
           "showland": true,
           "subunitcolor": "#C8D4E3"
          },
          "hoverlabel": {
           "align": "left"
          },
          "hovermode": "closest",
          "mapbox": {
           "style": "light"
          },
          "paper_bgcolor": "white",
          "plot_bgcolor": "white",
          "polar": {
           "angularaxis": {
            "gridcolor": "#EBF0F8",
            "linecolor": "#EBF0F8",
            "ticks": ""
           },
           "bgcolor": "white",
           "radialaxis": {
            "gridcolor": "#EBF0F8",
            "linecolor": "#EBF0F8",
            "ticks": ""
           }
          },
          "scene": {
           "xaxis": {
            "backgroundcolor": "white",
            "gridcolor": "#DFE8F3",
            "gridwidth": 2,
            "linecolor": "#EBF0F8",
            "showbackground": true,
            "ticks": "",
            "zerolinecolor": "#EBF0F8"
           },
           "yaxis": {
            "backgroundcolor": "white",
            "gridcolor": "#DFE8F3",
            "gridwidth": 2,
            "linecolor": "#EBF0F8",
            "showbackground": true,
            "ticks": "",
            "zerolinecolor": "#EBF0F8"
           },
           "zaxis": {
            "backgroundcolor": "white",
            "gridcolor": "#DFE8F3",
            "gridwidth": 2,
            "linecolor": "#EBF0F8",
            "showbackground": true,
            "ticks": "",
            "zerolinecolor": "#EBF0F8"
           }
          },
          "shapedefaults": {
           "line": {
            "color": "#2a3f5f"
           }
          },
          "ternary": {
           "aaxis": {
            "gridcolor": "#DFE8F3",
            "linecolor": "#A2B1C6",
            "ticks": ""
           },
           "baxis": {
            "gridcolor": "#DFE8F3",
            "linecolor": "#A2B1C6",
            "ticks": ""
           },
           "bgcolor": "white",
           "caxis": {
            "gridcolor": "#DFE8F3",
            "linecolor": "#A2B1C6",
            "ticks": ""
           }
          },
          "title": {
           "x": 0.05
          },
          "xaxis": {
           "automargin": true,
           "gridcolor": "#EBF0F8",
           "linecolor": "#EBF0F8",
           "ticks": "",
           "title": {
            "standoff": 15
           },
           "zerolinecolor": "#EBF0F8",
           "zerolinewidth": 2
          },
          "yaxis": {
           "automargin": true,
           "gridcolor": "#EBF0F8",
           "linecolor": "#EBF0F8",
           "ticks": "",
           "title": {
            "standoff": 15
           },
           "zerolinecolor": "#EBF0F8",
           "zerolinewidth": 2
          }
         }
        },
        "width": 700,
        "xaxis": {
         "autorange": true,
         "range": [
          0,
          116.7641391426623
         ],
         "title": {
          "text": "<b>distance [px]</b>"
         },
         "type": "linear"
        },
        "yaxis": {
         "autorange": true,
         "range": [
          -0.5,
          18.5
         ],
         "title": {
          "text": "<b>label</b>"
         },
         "type": "category"
        }
       }
      },
      "image/png": "[encoded data removed]",
      "text/html": [
       "<div>                            <div id=\"73862648-2f61-4623-b962-7cc124d44618\" class=\"plotly-graph-div\" style=\"height:900px; width:700px;\"></div>            <script type=\"text/javascript\">                require([\"plotly\"], function(Plotly) {                    window.PLOTLYENV=window.PLOTLYENV || {};                                    if (document.getElementById(\"73862648-2f61-4623-b962-7cc124d44618\")) {                    Plotly.newPlot(                        \"73862648-2f61-4623-b962-7cc124d44618\",                        [{\"error_x\":{\"array\":[0.05177669529663687,0.0,0.0,0.0,0.340496454490871,0.1230137468189521,0.16366341767699427,0.1300129243213064,0.09508529840445368,0.10000000000000002,0.04881553646890875,0.029769506700709075,0.17459712805010072,0.11831963366903843,0.16846394878672508,0.11854642313401875,0.05177669529663687,0.0,0.0],\"type\":\"data\"},\"marker\":{\"color\":\"lightseagreen\"},\"name\":\"median\",\"orientation\":\"h\",\"x\":[1.2071067811865477,1.0,1.0,1.0,3.0786893258332637,1.3258513828845992,1.0,1.580752036652658,1.68977530353517,0.8,1.1380711874576983,1.0376557783975542,1.6868867239266072,0.911900753465172,0.7857142857142857,1.0769230769230769,1.2071067811865477,2.0,1.4142135623730951],\"y\":[\"kidney with<br>Gerota's fascia\",\"major vein\",\"kidney\",\"muscle\",\"pancreas\",\"subcutaneous fat\",\"skin\",\"peritoneum\",\"omentum\",\"bladder\",\"gallbladder\",\"spleen\",\"stomach\",\"small intestine\",\"colon\",\"liver\",\"lung\",\"heart\",\"background\"],\"type\":\"bar\"},{\"error_x\":{\"array\":[0.19948051278853218,0.0,0.03353706894803157,0.3144504154991286,0.923134921995175,1.2371668732116101,11.851156937684191,4.3419224246641015,2.2136817439081784,0.10833755317661772,0.15441033066113657,0.3790148211492891,2.190169988678653,0.4291668729575917,2.25964521700368,0.1060227398416575,0.32888484460950546,2.331710229854787,0.0],\"type\":\"data\"},\"marker\":{\"color\":\"lightsalmon\"},\"name\":\"mean\",\"orientation\":\"h\",\"x\":[2.128994661821198,10.735555339495509,1.551235633458134,2.7452968918679703,7.602136561794808,5.06401760749542,18.650899647843577,15.09091290629362,9.685355262161943,1.126834911360549,1.248511771357112,1.6731894666844835,5.409232262886696,2.185947105135392,5.31990835443178,1.4082426115865798,4.725244113224271,12.253546504209442,2.1637715873504426],\"y\":[\"kidney with<br>Gerota's fascia\",\"major vein\",\"kidney\",\"muscle\",\"pancreas\",\"subcutaneous fat\",\"skin\",\"peritoneum\",\"omentum\",\"bladder\",\"gallbladder\",\"spleen\",\"stomach\",\"small intestine\",\"colon\",\"liver\",\"lung\",\"heart\",\"background\"],\"type\":\"bar\"},{\"error_x\":{\"array\":[1.0022577784163211,0.0,0.6296693311223904,2.981688645003497,4.705314790045707,8.488910540270277,37.44525762294721,26.97554851171682,13.96112029695344,0.6773797422571255,0.6486990059160825,2.6198165729852776,6.853080053953173,3.428205045333743,16.396092217866588,0.35893263608426995,2.5811011237717616,10.907696782633423,0.0],\"type\":\"data\"},\"marker\":{\"color\":\"indianred\"},\"name\":\"<i>q</i><sub>95</sub>\",\"orientation\":\"h\",\"x\":[7.1713087738336645,66.82781727271458,5.518677324489562,15.532305855477976,31.7064758549452,24.551880067317317,66.0199709650801,83.95038367381237,54.98610714935704,3.695741732923816,3.372721330639429,6.340482961627549,19.83289548394843,11.257565907720853,34.995176357514865,4.087530865117513,30.4738004472498,56.35870919189155,9.704047873279684],\"y\":[\"kidney with<br>Gerota's fascia\",\"major vein\",\"kidney\",\"muscle\",\"pancreas\",\"subcutaneous fat\",\"skin\",\"peritoneum\",\"omentum\",\"bladder\",\"gallbladder\",\"spleen\",\"stomach\",\"small intestine\",\"colon\",\"liver\",\"lung\",\"heart\",\"background\"],\"type\":\"bar\"}],                        {\"template\":{\"data\":{\"barpolar\":[{\"marker\":{\"line\":{\"color\":\"white\",\"width\":0.5},\"pattern\":{\"fillmode\":\"overlay\",\"size\":10,\"solidity\":0.2}},\"type\":\"barpolar\"}],\"bar\":[{\"error_x\":{\"color\":\"#2a3f5f\"},\"error_y\":{\"color\":\"#2a3f5f\"},\"marker\":{\"line\":{\"color\":\"white\",\"width\":0.5},\"pattern\":{\"fillmode\":\"overlay\",\"size\":10,\"solidity\":0.2}},\"type\":\"bar\"}],\"carpet\":[{\"aaxis\":{\"endlinecolor\":\"#2a3f5f\",\"gridcolor\":\"#C8D4E3\",\"linecolor\":\"#C8D4E3\",\"minorgridcolor\":\"#C8D4E3\",\"startlinecolor\":\"#2a3f5f\"},\"baxis\":{\"endlinecolor\":\"#2a3f5f\",\"gridcolor\":\"#C8D4E3\",\"linecolor\":\"#C8D4E3\",\"minorgridcolor\":\"#C8D4E3\",\"startlinecolor\":\"#2a3f5f\"},\"type\":\"carpet\"}],\"choropleth\":[{\"colorbar\":{\"outlinewidth\":0,\"ticks\":\"\"},\"type\":\"choropleth\"}],\"contourcarpet\":[{\"colorbar\":{\"outlinewidth\":0,\"ticks\":\"\"},\"type\":\"contourcarpet\"}],\"contour\":[{\"colorbar\":{\"outlinewidth\":0,\"ticks\":\"\"},\"colorscale\":[[0.0,\"#0d0887\"],[0.1111111111111111,\"#46039f\"],[0.2222222222222222,\"#7201a8\"],[0.3333333333333333,\"#9c179e\"],[0.4444444444444444,\"#bd3786\"],[0.5555555555555556,\"#d8576b\"],[0.6666666666666666,\"#ed7953\"],[0.7777777777777778,\"#fb9f3a\"],[0.8888888888888888,\"#fdca26\"],[1.0,\"#f0f921\"]],\"type\":\"contour\"}],\"heatmapgl\":[{\"colorbar\":{\"outlinewidth\":0,\"ticks\":\"\"},\"colorscale\":[[0.0,\"#0d0887\"],[0.1111111111111111,\"#46039f\"],[0.2222222222222222,\"#7201a8\"],[0.3333333333333333,\"#9c179e\"],[0.4444444444444444,\"#bd3786\"],[0.5555555555555556,\"#d8576b\"],[0.6666666666666666,\"#ed7953\"],[0.7777777777777778,\"#fb9f3a\"],[0.8888888888888888,\"#fdca26\"],[1.0,\"#f0f921\"]],\"type\":\"heatmapgl\"}],\"heatmap\":[{\"colorbar\":{\"outlinewidth\":0,\"ticks\":\"\"},\"colorscale\":[[0.0,\"#0d0887\"],[0.1111111111111111,\"#46039f\"],[0.2222222222222222,\"#7201a8\"],[0.3333333333333333,\"#9c179e\"],[0.4444444444444444,\"#bd3786\"],[0.5555555555555556,\"#d8576b\"],[0.6666666666666666,\"#ed7953\"],[0.7777777777777778,\"#fb9f3a\"],[0.8888888888888888,\"#fdca26\"],[1.0,\"#f0f921\"]],\"type\":\"heatmap\"}],\"histogram2dcontour\":[{\"colorbar\":{\"outlinewidth\":0,\"ticks\":\"\"},\"colorscale\":[[0.0,\"#0d0887\"],[0.1111111111111111,\"#46039f\"],[0.2222222222222222,\"#7201a8\"],[0.3333333333333333,\"#9c179e\"],[0.4444444444444444,\"#bd3786\"],[0.5555555555555556,\"#d8576b\"],[0.6666666666666666,\"#ed7953\"],[0.7777777777777778,\"#fb9f3a\"],[0.8888888888888888,\"#fdca26\"],[1.0,\"#f0f921\"]],\"type\":\"histogram2dcontour\"}],\"histogram2d\":[{\"colorbar\":{\"outlinewidth\":0,\"ticks\":\"\"},\"colorscale\":[[0.0,\"#0d0887\"],[0.1111111111111111,\"#46039f\"],[0.2222222222222222,\"#7201a8\"],[0.3333333333333333,\"#9c179e\"],[0.4444444444444444,\"#bd3786\"],[0.5555555555555556,\"#d8576b\"],[0.6666666666666666,\"#ed7953\"],[0.7777777777777778,\"#fb9f3a\"],[0.8888888888888888,\"#fdca26\"],[1.0,\"#f0f921\"]],\"type\":\"histogram2d\"}],\"histogram\":[{\"marker\":{\"pattern\":{\"fillmode\":\"overlay\",\"size\":10,\"solidity\":0.2}},\"type\":\"histogram\"}],\"mesh3d\":[{\"colorbar\":{\"outlinewidth\":0,\"ticks\":\"\"},\"type\":\"mesh3d\"}],\"parcoords\":[{\"line\":{\"colorbar\":{\"outlinewidth\":0,\"ticks\":\"\"}},\"type\":\"parcoords\"}],\"pie\":[{\"automargin\":true,\"type\":\"pie\"}],\"scatter3d\":[{\"line\":{\"colorbar\":{\"outlinewidth\":0,\"ticks\":\"\"}},\"marker\":{\"colorbar\":{\"outlinewidth\":0,\"ticks\":\"\"}},\"type\":\"scatter3d\"}],\"scattercarpet\":[{\"marker\":{\"colorbar\":{\"outlinewidth\":0,\"ticks\":\"\"}},\"type\":\"scattercarpet\"}],\"scattergeo\":[{\"marker\":{\"colorbar\":{\"outlinewidth\":0,\"ticks\":\"\"}},\"type\":\"scattergeo\"}],\"scattergl\":[{\"marker\":{\"colorbar\":{\"outlinewidth\":0,\"ticks\":\"\"}},\"type\":\"scattergl\"}],\"scattermapbox\":[{\"marker\":{\"colorbar\":{\"outlinewidth\":0,\"ticks\":\"\"}},\"type\":\"scattermapbox\"}],\"scatterpolargl\":[{\"marker\":{\"colorbar\":{\"outlinewidth\":0,\"ticks\":\"\"}},\"type\":\"scatterpolargl\"}],\"scatterpolar\":[{\"marker\":{\"colorbar\":{\"outlinewidth\":0,\"ticks\":\"\"}},\"type\":\"scatterpolar\"}],\"scatter\":[{\"marker\":{\"colorbar\":{\"outlinewidth\":0,\"ticks\":\"\"}},\"type\":\"scatter\"}],\"scatterternary\":[{\"marker\":{\"colorbar\":{\"outlinewidth\":0,\"ticks\":\"\"}},\"type\":\"scatterternary\"}],\"surface\":[{\"colorbar\":{\"outlinewidth\":0,\"ticks\":\"\"},\"colorscale\":[[0.0,\"#0d0887\"],[0.1111111111111111,\"#46039f\"],[0.2222222222222222,\"#7201a8\"],[0.3333333333333333,\"#9c179e\"],[0.4444444444444444,\"#bd3786\"],[0.5555555555555556,\"#d8576b\"],[0.6666666666666666,\"#ed7953\"],[0.7777777777777778,\"#fb9f3a\"],[0.8888888888888888,\"#fdca26\"],[1.0,\"#f0f921\"]],\"type\":\"surface\"}],\"table\":[{\"cells\":{\"fill\":{\"color\":\"#EBF0F8\"},\"line\":{\"color\":\"white\"}},\"header\":{\"fill\":{\"color\":\"#C8D4E3\"},\"line\":{\"color\":\"white\"}},\"type\":\"table\"}]},\"layout\":{\"annotationdefaults\":{\"arrowcolor\":\"#2a3f5f\",\"arrowhead\":0,\"arrowwidth\":1},\"autotypenumbers\":\"strict\",\"coloraxis\":{\"colorbar\":{\"outlinewidth\":0,\"ticks\":\"\"}},\"colorscale\":{\"diverging\":[[0,\"#8e0152\"],[0.1,\"#c51b7d\"],[0.2,\"#de77ae\"],[0.3,\"#f1b6da\"],[0.4,\"#fde0ef\"],[0.5,\"#f7f7f7\"],[0.6,\"#e6f5d0\"],[0.7,\"#b8e186\"],[0.8,\"#7fbc41\"],[0.9,\"#4d9221\"],[1,\"#276419\"]],\"sequential\":[[0.0,\"#0d0887\"],[0.1111111111111111,\"#46039f\"],[0.2222222222222222,\"#7201a8\"],[0.3333333333333333,\"#9c179e\"],[0.4444444444444444,\"#bd3786\"],[0.5555555555555556,\"#d8576b\"],[0.6666666666666666,\"#ed7953\"],[0.7777777777777778,\"#fb9f3a\"],[0.8888888888888888,\"#fdca26\"],[1.0,\"#f0f921\"]],\"sequentialminus\":[[0.0,\"#0d0887\"],[0.1111111111111111,\"#46039f\"],[0.2222222222222222,\"#7201a8\"],[0.3333333333333333,\"#9c179e\"],[0.4444444444444444,\"#bd3786\"],[0.5555555555555556,\"#d8576b\"],[0.6666666666666666,\"#ed7953\"],[0.7777777777777778,\"#fb9f3a\"],[0.8888888888888888,\"#fdca26\"],[1.0,\"#f0f921\"]]},\"colorway\":[\"#636efa\",\"#EF553B\",\"#00cc96\",\"#ab63fa\",\"#FFA15A\",\"#19d3f3\",\"#FF6692\",\"#B6E880\",\"#FF97FF\",\"#FECB52\"],\"font\":{\"color\":\"#2a3f5f\"},\"geo\":{\"bgcolor\":\"white\",\"lakecolor\":\"white\",\"landcolor\":\"white\",\"showlakes\":true,\"showland\":true,\"subunitcolor\":\"#C8D4E3\"},\"hoverlabel\":{\"align\":\"left\"},\"hovermode\":\"closest\",\"mapbox\":{\"style\":\"light\"},\"paper_bgcolor\":\"white\",\"plot_bgcolor\":\"white\",\"polar\":{\"angularaxis\":{\"gridcolor\":\"#EBF0F8\",\"linecolor\":\"#EBF0F8\",\"ticks\":\"\"},\"bgcolor\":\"white\",\"radialaxis\":{\"gridcolor\":\"#EBF0F8\",\"linecolor\":\"#EBF0F8\",\"ticks\":\"\"}},\"scene\":{\"xaxis\":{\"backgroundcolor\":\"white\",\"gridcolor\":\"#DFE8F3\",\"gridwidth\":2,\"linecolor\":\"#EBF0F8\",\"showbackground\":true,\"ticks\":\"\",\"zerolinecolor\":\"#EBF0F8\"},\"yaxis\":{\"backgroundcolor\":\"white\",\"gridcolor\":\"#DFE8F3\",\"gridwidth\":2,\"linecolor\":\"#EBF0F8\",\"showbackground\":true,\"ticks\":\"\",\"zerolinecolor\":\"#EBF0F8\"},\"zaxis\":{\"backgroundcolor\":\"white\",\"gridcolor\":\"#DFE8F3\",\"gridwidth\":2,\"linecolor\":\"#EBF0F8\",\"showbackground\":true,\"ticks\":\"\",\"zerolinecolor\":\"#EBF0F8\"}},\"shapedefaults\":{\"line\":{\"color\":\"#2a3f5f\"}},\"ternary\":{\"aaxis\":{\"gridcolor\":\"#DFE8F3\",\"linecolor\":\"#A2B1C6\",\"ticks\":\"\"},\"baxis\":{\"gridcolor\":\"#DFE8F3\",\"linecolor\":\"#A2B1C6\",\"ticks\":\"\"},\"bgcolor\":\"white\",\"caxis\":{\"gridcolor\":\"#DFE8F3\",\"linecolor\":\"#A2B1C6\",\"ticks\":\"\"}},\"title\":{\"x\":0.05},\"xaxis\":{\"automargin\":true,\"gridcolor\":\"#EBF0F8\",\"linecolor\":\"#EBF0F8\",\"ticks\":\"\",\"title\":{\"standoff\":15},\"zerolinecolor\":\"#EBF0F8\",\"zerolinewidth\":2},\"yaxis\":{\"automargin\":true,\"gridcolor\":\"#EBF0F8\",\"linecolor\":\"#EBF0F8\",\"ticks\":\"\",\"title\":{\"standoff\":15},\"zerolinecolor\":\"#EBF0F8\",\"zerolinewidth\":2}}},\"barmode\":\"group\",\"bargap\":0.35,\"yaxis\":{\"title\":{\"text\":\"<b>label</b>\"}},\"xaxis\":{\"title\":{\"text\":\"<b>distance [px]</b>\"}},\"height\":900,\"font\":{\"family\":\"Libertinus Serif\",\"size\":18},\"width\":700,\"legend\":{\"orientation\":\"h\",\"yanchor\":\"bottom\",\"y\":1.05,\"xanchor\":\"right\",\"x\":0.7}},                        {\"responsive\": true}                    ).then(function(){\n",
       "                            \n",
       "var gd = document.getElementById('73862648-2f61-4623-b962-7cc124d44618');\n",
       "var x = new MutationObserver(function (mutations, observer) {{\n",
       "        var display = window.getComputedStyle(gd).display;\n",
       "        if (!display || display === 'none') {{\n",
       "            console.log([gd, 'removed!']);\n",
       "            Plotly.purge(gd);\n",
       "            observer.disconnect();\n",
       "        }}\n",
       "}});\n",
       "\n",
       "// Listen for the removal of the full notebook cells\n",
       "var notebookContainer = gd.closest('#notebook-container');\n",
       "if (notebookContainer) {{\n",
       "    x.observe(notebookContainer, {childList: true});\n",
       "}}\n",
       "\n",
       "// Listen for the clearing of the current output cell\n",
       "var outputEl = gd.closest('.output');\n",
       "if (outputEl) {{\n",
       "    x.observe(outputEl, {childList: true});\n",
       "}}\n",
       "\n",
       "                        })                };                });            </script>        </div>"
      ]
     },
     "metadata": {},
     "output_type": "display_data"
    }
   ],
   "source": [
    "fig = go.Figure()\n",
    "\n",
    "labels = list(reversed(df_thresholds[\"label_name\"].tolist()))\n",
    "labels_plotly = [settings_seg.labels_paper_renaming.get(l, l) for l in labels]\n",
    "\n",
    "legend_name = {\n",
    "    \"tolerance_mean\": \"mean\",\n",
    "    \"tolerance_median\": \"median\",\n",
    "    \"tolerance_q75\": \"<i>q</i><sub>75</sub>\",\n",
    "    \"tolerance_q95\": \"<i>q</i><sub>95</sub>\",\n",
    "}\n",
    "colors = {\n",
    "    \"tolerance_mean\": \"lightsalmon\",\n",
    "    \"tolerance_median\": \"lightseagreen\",\n",
    "    \"tolerance_q75\": \"indianred\",\n",
    "    \"tolerance_q95\": \"indianred\",\n",
    "}\n",
    "\n",
    "for name in [\"tolerance_median\", \"tolerance_mean\", \"tolerance_q95\"]:\n",
    "    values = [df_thresholds.query(\"label_name == @l\")[name].item() for l in labels]\n",
    "    std = [df_thresholds.query(\"label_name == @l\")[f\"{name}_std\"].item() * 0.25 for l in labels]\n",
    "    fig.add_trace(\n",
    "        go.Bar(\n",
    "            y=labels_plotly,\n",
    "            x=values,\n",
    "            error_x=dict(type=\"data\", array=std),\n",
    "            name=legend_name[name],\n",
    "            orientation=\"h\",\n",
    "            marker_color=colors[name],\n",
    "        )\n",
    "    )\n",
    "\n",
    "fig.update_layout(barmode=\"group\", bargap=0.35)\n",
    "fig.update_layout(yaxis_title=\"<b>label</b>\", xaxis_title=\"<b>distance [px]</b>\", height=600)\n",
    "fig.update_layout(template=\"plotly_white\", font_family=\"Libertinus Serif\", font_size=18)\n",
    "fig.update_layout(height=900, width=700)\n",
    "fig.update_layout(legend=dict(orientation=\"h\", yanchor=\"bottom\", y=1.05, xanchor=\"right\", x=0.70))\n",
    "fig.write_image(settings_seg.paper_dir / \"nsd_thresholds.pdf\")\n",
    "fig.show()"
   ]
  },
  {
   "cell_type": "code",
   "execution_count": null,
   "id": "1f48c307-fd7a-443d-b1e1-3d195b85589c",
   "metadata": {},
   "outputs": [],
   "source": []
  }
 ],
 "metadata": {
  "kernelspec": {
   "display_name": "Python 3 (ipykernel)",
   "language": "python",
   "name": "python3"
  },
  "language_info": {
   "codemirror_mode": {
    "name": "ipython",
    "version": 3
   },
   "file_extension": ".py",
   "mimetype": "text/x-python",
   "name": "python",
   "nbconvert_exporter": "python",
   "pygments_lexer": "ipython3",
   "version": "3.9.7"
  }
 },
 "nbformat": 4,
 "nbformat_minor": 5
}
