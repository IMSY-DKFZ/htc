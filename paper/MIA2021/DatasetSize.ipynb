{
 "cells": [
  {
   "cell_type": "markdown",
   "id": "c882fe73",
   "metadata": {},
   "source": [
    "# Dataset Size"
   ]
  },
  {
   "cell_type": "code",
   "execution_count": 1,
   "id": "3bdc0c17",
   "metadata": {},
   "outputs": [],
   "source": [
    "%load_ext autoreload\n",
    "%autoreload 2\n",
    "\n",
    "import plotly.graph_objects as go\n",
    "import plotly.io as pio\n",
    "\n",
    "from htc.evaluation.model_comparison.dataset_size import dataset_size_table\n",
    "from htc.settings import settings\n",
    "from htc.settings_seg import settings_seg\n",
    "from htc.utils.sqldf import sqldf\n",
    "from htc.utils.visualization import add_std_fill\n",
    "\n",
    "pio.kaleido.scope.mathjax = None"
   ]
  },
  {
   "cell_type": "code",
   "execution_count": 2,
   "id": "412a18cf-4af9-4e3e-845f-4853ead5365d",
   "metadata": {},
   "outputs": [
    {
     "data": {
      "application/vnd.jupyter.widget-view+json": {
       "model_id": "5594aa6b342f4d0aba5e4842fab428f7",
       "version_major": 2,
       "version_minor": 0
      },
      "text/plain": [
       "Output()"
      ]
     },
     "metadata": {},
     "output_type": "display_data"
    },
    {
     "data": {
      "text/html": [
       "<pre style=\"white-space:pre;overflow-x:auto;line-height:normal;font-family:Menlo,'DejaVu Sans Mono',consolas,'Courier New',monospace\"></pre>\n"
      ],
      "text/plain": []
     },
     "metadata": {},
     "output_type": "display_data"
    },
    {
     "data": {
      "text/html": [
       "<pre style=\"white-space:pre;overflow-x:auto;line-height:normal;font-family:Menlo,'DejaVu Sans Mono',consolas,'Courier New',monospace\">\n",
       "</pre>\n"
      ],
      "text/plain": [
       "\n"
      ]
     },
     "metadata": {},
     "output_type": "display_data"
    },
    {
     "data": {
      "text/html": [
       "        <script type=\"text/javascript\">\n",
       "        window.PlotlyConfig = {MathJaxConfig: 'local'};\n",
       "        if (window.MathJax && window.MathJax.Hub && window.MathJax.Hub.Config) {window.MathJax.Hub.Config({SVG: {font: \"STIX-Web\"}});}\n",
       "        if (typeof require !== 'undefined') {\n",
       "        require.undef(\"plotly\");\n",
       "        requirejs.config({\n",
       "            paths: {\n",
       "                'plotly': ['https://cdn.plot.ly/plotly-2.14.0.min']\n",
       "            }\n",
       "        });\n",
       "        require(['plotly'], function(Plotly) {\n",
       "            window._Plotly = Plotly;\n",
       "        });\n",
       "        }\n",
       "        </script>\n",
       "        "
      ]
     },
     "metadata": {},
     "output_type": "display_data"
    },
    {
     "data": {
      "application/vnd.plotly.v1+json": {
       "config": {
        "plotlyServerURL": "https://plot.ly"
       },
       "data": [
        {
         "hovertemplate": "wavelength: %{x:.1f}<br>normalized reflectance: %{y:.5f}<br>standard deviation: %{text:.5f}",
         "legendgroup": "pixel",
         "line": {
          "color": "#FF8C00"
         },
         "name": "pixel",
         "text": [
          0.01603423170827572,
          0.01067290244765825,
          0.008733740296800819,
          0.005811966238373649,
          0.006259844822647942,
          0.004363510148047289,
          0.0018513668873793218,
          0.0013734552435810234,
          0.002285495444013049,
          0.0032819250544925994,
          0.003912377449246837,
          0.003240910737507332,
          0.00087080093478066,
          0.0014347497718852791
         ],
         "type": "scatter",
         "x": [
          0,
          1,
          2,
          3,
          4,
          5,
          6,
          7,
          8,
          9,
          10,
          11,
          12,
          13
         ],
         "y": [
          0.7012316648516306,
          0.7325313973727731,
          0.7629372097384527,
          0.770868560734902,
          0.7800142365875586,
          0.7864362939735405,
          0.7902389782868576,
          0.7953389698515007,
          0.7995725011778599,
          0.8042799672581019,
          0.8073957966532553,
          0.8067213527568151,
          0.8112793795442821,
          0.8112718429887551
         ]
        },
        {
         "fill": "toself",
         "fillcolor": "#FF8C00",
         "hoverinfo": "skip",
         "legendgroup": "pixel",
         "line": {
          "color": "#FF8C00"
         },
         "name": "pixel",
         "opacity": 0.32,
         "showlegend": false,
         "type": "scatter",
         "x": [
          0,
          1,
          2,
          3,
          4,
          5,
          6,
          7,
          8,
          9,
          10,
          11,
          12,
          13,
          13,
          12,
          11,
          10,
          9,
          8,
          7,
          6,
          5,
          4,
          3,
          2,
          1,
          0
         ],
         "y": [
          0.7172658965599062,
          0.7432042998204313,
          0.7716709500352535,
          0.7766805269732756,
          0.7862740814102066,
          0.7907998041215878,
          0.7920903451742369,
          0.7967124250950817,
          0.801857996621873,
          0.8075618923125946,
          0.8113081741025022,
          0.8099622634943224,
          0.8121501804790627,
          0.8127065927606404,
          0.8098370932168698,
          0.8104085786095014,
          0.8034804420193078,
          0.8034834192040085,
          0.8009980422036093,
          0.7972870057338469,
          0.7939655146079196,
          0.7883876113994783,
          0.7820727838254933,
          0.7737543917649107,
          0.7650565944965283,
          0.7542034694416518,
          0.7218584949251148,
          0.6851974331433549
         ]
        },
        {
         "hovertemplate": "wavelength: %{x:.1f}<br>normalized reflectance: %{y:.5f}<br>standard deviation: %{text:.5f}",
         "legendgroup": "superpixel",
         "line": {
          "color": "#E6003D"
         },
         "name": "superpixel",
         "text": [
          0.018709035856791498,
          0.010692381706044276,
          0.0057214604540367356,
          0.005384758739667805,
          0.006998673384798436,
          0.004452369170820246,
          0.0031249411854347613,
          0.0033512384203106763,
          0.005178828772469214,
          0.0055556264081640635,
          0.004068347948697682,
          0.001966501968521413,
          0.0013339910399155707,
          0.0014079584475642178
         ],
         "type": "scatter",
         "x": [
          0,
          1,
          2,
          3,
          4,
          5,
          6,
          7,
          8,
          9,
          10,
          11,
          12,
          13
         ],
         "y": [
          0.7409756568247037,
          0.7607560800004926,
          0.7985989307981713,
          0.8138052319682998,
          0.8275705723177804,
          0.8402160162623599,
          0.8407473668679204,
          0.8495400052927053,
          0.8554514607015096,
          0.8609541363637568,
          0.8695767894795937,
          0.869741116712859,
          0.8745223489469396,
          0.8744475644619711
         ]
        },
        {
         "fill": "toself",
         "fillcolor": "#E6003D",
         "hoverinfo": "skip",
         "legendgroup": "superpixel",
         "line": {
          "color": "#E6003D"
         },
         "name": "superpixel",
         "opacity": 0.32,
         "showlegend": false,
         "type": "scatter",
         "x": [
          0,
          1,
          2,
          3,
          4,
          5,
          6,
          7,
          8,
          9,
          10,
          11,
          12,
          13,
          13,
          12,
          11,
          10,
          9,
          8,
          7,
          6,
          5,
          4,
          3,
          2,
          1,
          0
         ],
         "y": [
          0.7596846926814952,
          0.7714484617065368,
          0.8043203912522081,
          0.8191899907079676,
          0.8345692457025788,
          0.8446683854331801,
          0.8438723080533551,
          0.8528912437130161,
          0.8606302894739788,
          0.8665097627719209,
          0.8736451374282914,
          0.8717076186813805,
          0.8758563399868552,
          0.8758555229095354,
          0.8730396060144069,
          0.873188357907024,
          0.8677746147443376,
          0.865508441530896,
          0.8553985099555927,
          0.8502726319290403,
          0.8461887668723946,
          0.8376224256824857,
          0.8357636470915396,
          0.820571898932982,
          0.808420473228632,
          0.7928774703441346,
          0.7500636982944483,
          0.7222666209679122
         ]
        },
        {
         "hovertemplate": "wavelength: %{x:.1f}<br>normalized reflectance: %{y:.5f}<br>standard deviation: %{text:.5f}",
         "legendgroup": "patch_32",
         "line": {
          "color": "#4169E1"
         },
         "name": "patch_32",
         "text": [
          0.017435525207477123,
          0.011554215829498875,
          0.0028069847686069717,
          0.0021072007771914614,
          0.005208061194839738,
          0.004490517193061003,
          0.003145677370663929,
          0.006044994176865423,
          0.005748177697472716,
          0.005538415064318338,
          0.004124553868804558,
          0.00384348001017658,
          0.0026665835419916882,
          0.0019087392547723807
         ],
         "type": "scatter",
         "x": [
          0,
          1,
          2,
          3,
          4,
          5,
          6,
          7,
          8,
          9,
          10,
          11,
          12,
          13
         ],
         "y": [
          0.7582608930933161,
          0.8003041199182878,
          0.8418653292197453,
          0.8542217415554318,
          0.8682006251602603,
          0.8750268490724267,
          0.8790435828080199,
          0.8872130025681498,
          0.8964978502022625,
          0.903508755761376,
          0.9062724091882458,
          0.9059532687028439,
          0.9089577756779766,
          0.9135422064367733
         ]
        },
        {
         "fill": "toself",
         "fillcolor": "#4169E1",
         "hoverinfo": "skip",
         "legendgroup": "patch_32",
         "line": {
          "color": "#4169E1"
         },
         "name": "patch_32",
         "opacity": 0.32,
         "showlegend": false,
         "type": "scatter",
         "x": [
          0,
          1,
          2,
          3,
          4,
          5,
          6,
          7,
          8,
          9,
          10,
          11,
          12,
          13,
          13,
          12,
          11,
          10,
          9,
          8,
          7,
          6,
          5,
          4,
          3,
          2,
          1,
          0
         ],
         "y": [
          0.7756964183007933,
          0.8118583357477867,
          0.8446723139883523,
          0.8563289423326234,
          0.8734086863551,
          0.8795173662654877,
          0.8821892601786838,
          0.8932579967450153,
          0.9022460278997352,
          0.9090471708256943,
          0.9103969630570503,
          0.9097967487130204,
          0.9116243592199683,
          0.9154509456915457,
          0.9116334671820009,
          0.906291192135985,
          0.9021097886926673,
          0.9021478553194413,
          0.8979703406970577,
          0.8907496725047898,
          0.8811680083912844,
          0.8758979054373559,
          0.8705363318793656,
          0.8629925639654206,
          0.8521145407782403,
          0.8390583444511384,
          0.7887499040887889,
          0.740825367885839
         ]
        },
        {
         "hovertemplate": "wavelength: %{x:.1f}<br>normalized reflectance: %{y:.5f}<br>standard deviation: %{text:.5f}",
         "legendgroup": "patch_64",
         "line": {
          "color": "#808000"
         },
         "name": "patch_64",
         "text": [
          0.014549396143885805,
          0.011423461572298043,
          0.006491440678212706,
          0.005171309640302335,
          0.00396776368794888,
          0.003489715088252842,
          0.0021361420397306495,
          0.005169922357625453,
          0.005326847982354554,
          0.005081557547765488,
          0.0034095775733008755,
          0.004081412758251239,
          0.002461364298037754,
          0.0021794450726028585
         ],
         "type": "scatter",
         "x": [
          0,
          1,
          2,
          3,
          4,
          5,
          6,
          7,
          8,
          9,
          10,
          11,
          12,
          13
         ],
         "y": [
          0.7614924294029117,
          0.7977072206079466,
          0.8393798328641232,
          0.8559993946907362,
          0.8672949329993955,
          0.8752144446163985,
          0.8814127810009771,
          0.8894943060813152,
          0.9011037608661925,
          0.9073243832754454,
          0.9100709852002635,
          0.9105456797652149,
          0.9131458699264788,
          0.9178735504880502
         ]
        },
        {
         "fill": "toself",
         "fillcolor": "#808000",
         "hoverinfo": "skip",
         "legendgroup": "patch_64",
         "line": {
          "color": "#808000"
         },
         "name": "patch_64",
         "opacity": 0.32,
         "showlegend": false,
         "type": "scatter",
         "x": [
          0,
          1,
          2,
          3,
          4,
          5,
          6,
          7,
          8,
          9,
          10,
          11,
          12,
          13,
          13,
          12,
          11,
          10,
          9,
          8,
          7,
          6,
          5,
          4,
          3,
          2,
          1,
          0
         ],
         "y": [
          0.7760418255467976,
          0.8091306821802446,
          0.8458712735423359,
          0.8611707043310385,
          0.8712626966873445,
          0.8787041597046513,
          0.8835489230407078,
          0.8946642284389407,
          0.906430608848547,
          0.9124059408232109,
          0.9134805627735644,
          0.9146270925234662,
          0.9156072342245166,
          0.920052995560653,
          0.9156941054154474,
          0.910684505628441,
          0.9064642670069637,
          0.9066614076269627,
          0.9022428257276799,
          0.895776912883838,
          0.8843243837236897,
          0.8792766389612464,
          0.8717247295281457,
          0.8633271693114466,
          0.8508280850504338,
          0.8328883921859105,
          0.7862837590356486,
          0.7469430332590259
         ]
        },
        {
         "hovertemplate": "wavelength: %{x:.1f}<br>normalized reflectance: %{y:.5f}<br>standard deviation: %{text:.5f}",
         "legendgroup": "image",
         "line": {
          "color": "#800080"
         },
         "name": "image",
         "text": [
          0.015072267248932065,
          0.010948756791031664,
          0.007711207580925626,
          0.013667676268849818,
          0.010539089237012403,
          0.007762164113938394,
          0.0058220320620557655,
          0.011272811267366229,
          0.005694106266732968,
          0.004045527849439827,
          0.005590520365190862,
          0.004251163066823159,
          0.0018761248837134118,
          0.0012749104110453045
         ],
         "type": "scatter",
         "x": [
          0,
          1,
          2,
          3,
          4,
          5,
          6,
          7,
          8,
          9,
          10,
          11,
          12,
          13
         ],
         "y": [
          0.7713362711718118,
          0.8203692077829613,
          0.8551530347900052,
          0.8651392744986518,
          0.8707699468498602,
          0.8770785841528566,
          0.8794513910420904,
          0.8957087859760225,
          0.9109451246565994,
          0.9200863236007372,
          0.9225339942789628,
          0.9285509461238044,
          0.9316508670724885,
          0.9342442902744874
         ]
        },
        {
         "fill": "toself",
         "fillcolor": "#800080",
         "hoverinfo": "skip",
         "legendgroup": "image",
         "line": {
          "color": "#800080"
         },
         "name": "image",
         "opacity": 0.32,
         "showlegend": false,
         "type": "scatter",
         "x": [
          0,
          1,
          2,
          3,
          4,
          5,
          6,
          7,
          8,
          9,
          10,
          11,
          12,
          13,
          13,
          12,
          11,
          10,
          9,
          8,
          7,
          6,
          5,
          4,
          3,
          2,
          1,
          0
         ],
         "y": [
          0.7864085384207439,
          0.831317964573993,
          0.8628642423709307,
          0.8788069507675016,
          0.8813090360868726,
          0.8848407482667949,
          0.8852734231041461,
          0.9069815972433888,
          0.9166392309233323,
          0.924131851450177,
          0.9281245146441536,
          0.9328021091906276,
          0.9335269919562018,
          0.9355192006855327,
          0.9329693798634421,
          0.9297747421887751,
          0.9242997830569812,
          0.916943473913772,
          0.9160407957512974,
          0.9052510183898664,
          0.8844359747086563,
          0.8736293589800346,
          0.8693164200389182,
          0.8602308576128478,
          0.851471598229802,
          0.8474418272090796,
          0.8094204509919296,
          0.7562640039228797
         ]
        }
       ],
       "layout": {
        "font": {
         "family": "Libertinus Serif",
         "size": 22
        },
        "height": 400,
        "hovermode": "x",
        "legend": {
         "orientation": "h",
         "x": 0.5,
         "xanchor": "center",
         "y": 1.05,
         "yanchor": "bottom"
        },
        "margin": {
         "b": 0,
         "l": 0,
         "r": 0,
         "t": 0
        },
        "template": {
         "data": {
          "bar": [
           {
            "error_x": {
             "color": "#2a3f5f"
            },
            "error_y": {
             "color": "#2a3f5f"
            },
            "marker": {
             "line": {
              "color": "white",
              "width": 0.5
             },
             "pattern": {
              "fillmode": "overlay",
              "size": 10,
              "solidity": 0.2
             }
            },
            "type": "bar"
           }
          ],
          "barpolar": [
           {
            "marker": {
             "line": {
              "color": "white",
              "width": 0.5
             },
             "pattern": {
              "fillmode": "overlay",
              "size": 10,
              "solidity": 0.2
             }
            },
            "type": "barpolar"
           }
          ],
          "carpet": [
           {
            "aaxis": {
             "endlinecolor": "#2a3f5f",
             "gridcolor": "#C8D4E3",
             "linecolor": "#C8D4E3",
             "minorgridcolor": "#C8D4E3",
             "startlinecolor": "#2a3f5f"
            },
            "baxis": {
             "endlinecolor": "#2a3f5f",
             "gridcolor": "#C8D4E3",
             "linecolor": "#C8D4E3",
             "minorgridcolor": "#C8D4E3",
             "startlinecolor": "#2a3f5f"
            },
            "type": "carpet"
           }
          ],
          "choropleth": [
           {
            "colorbar": {
             "outlinewidth": 0,
             "ticks": ""
            },
            "type": "choropleth"
           }
          ],
          "contour": [
           {
            "colorbar": {
             "outlinewidth": 0,
             "ticks": ""
            },
            "colorscale": [
             [
              0,
              "#0d0887"
             ],
             [
              0.1111111111111111,
              "#46039f"
             ],
             [
              0.2222222222222222,
              "#7201a8"
             ],
             [
              0.3333333333333333,
              "#9c179e"
             ],
             [
              0.4444444444444444,
              "#bd3786"
             ],
             [
              0.5555555555555556,
              "#d8576b"
             ],
             [
              0.6666666666666666,
              "#ed7953"
             ],
             [
              0.7777777777777778,
              "#fb9f3a"
             ],
             [
              0.8888888888888888,
              "#fdca26"
             ],
             [
              1,
              "#f0f921"
             ]
            ],
            "type": "contour"
           }
          ],
          "contourcarpet": [
           {
            "colorbar": {
             "outlinewidth": 0,
             "ticks": ""
            },
            "type": "contourcarpet"
           }
          ],
          "heatmap": [
           {
            "colorbar": {
             "outlinewidth": 0,
             "ticks": ""
            },
            "colorscale": [
             [
              0,
              "#0d0887"
             ],
             [
              0.1111111111111111,
              "#46039f"
             ],
             [
              0.2222222222222222,
              "#7201a8"
             ],
             [
              0.3333333333333333,
              "#9c179e"
             ],
             [
              0.4444444444444444,
              "#bd3786"
             ],
             [
              0.5555555555555556,
              "#d8576b"
             ],
             [
              0.6666666666666666,
              "#ed7953"
             ],
             [
              0.7777777777777778,
              "#fb9f3a"
             ],
             [
              0.8888888888888888,
              "#fdca26"
             ],
             [
              1,
              "#f0f921"
             ]
            ],
            "type": "heatmap"
           }
          ],
          "heatmapgl": [
           {
            "colorbar": {
             "outlinewidth": 0,
             "ticks": ""
            },
            "colorscale": [
             [
              0,
              "#0d0887"
             ],
             [
              0.1111111111111111,
              "#46039f"
             ],
             [
              0.2222222222222222,
              "#7201a8"
             ],
             [
              0.3333333333333333,
              "#9c179e"
             ],
             [
              0.4444444444444444,
              "#bd3786"
             ],
             [
              0.5555555555555556,
              "#d8576b"
             ],
             [
              0.6666666666666666,
              "#ed7953"
             ],
             [
              0.7777777777777778,
              "#fb9f3a"
             ],
             [
              0.8888888888888888,
              "#fdca26"
             ],
             [
              1,
              "#f0f921"
             ]
            ],
            "type": "heatmapgl"
           }
          ],
          "histogram": [
           {
            "marker": {
             "pattern": {
              "fillmode": "overlay",
              "size": 10,
              "solidity": 0.2
             }
            },
            "type": "histogram"
           }
          ],
          "histogram2d": [
           {
            "colorbar": {
             "outlinewidth": 0,
             "ticks": ""
            },
            "colorscale": [
             [
              0,
              "#0d0887"
             ],
             [
              0.1111111111111111,
              "#46039f"
             ],
             [
              0.2222222222222222,
              "#7201a8"
             ],
             [
              0.3333333333333333,
              "#9c179e"
             ],
             [
              0.4444444444444444,
              "#bd3786"
             ],
             [
              0.5555555555555556,
              "#d8576b"
             ],
             [
              0.6666666666666666,
              "#ed7953"
             ],
             [
              0.7777777777777778,
              "#fb9f3a"
             ],
             [
              0.8888888888888888,
              "#fdca26"
             ],
             [
              1,
              "#f0f921"
             ]
            ],
            "type": "histogram2d"
           }
          ],
          "histogram2dcontour": [
           {
            "colorbar": {
             "outlinewidth": 0,
             "ticks": ""
            },
            "colorscale": [
             [
              0,
              "#0d0887"
             ],
             [
              0.1111111111111111,
              "#46039f"
             ],
             [
              0.2222222222222222,
              "#7201a8"
             ],
             [
              0.3333333333333333,
              "#9c179e"
             ],
             [
              0.4444444444444444,
              "#bd3786"
             ],
             [
              0.5555555555555556,
              "#d8576b"
             ],
             [
              0.6666666666666666,
              "#ed7953"
             ],
             [
              0.7777777777777778,
              "#fb9f3a"
             ],
             [
              0.8888888888888888,
              "#fdca26"
             ],
             [
              1,
              "#f0f921"
             ]
            ],
            "type": "histogram2dcontour"
           }
          ],
          "mesh3d": [
           {
            "colorbar": {
             "outlinewidth": 0,
             "ticks": ""
            },
            "type": "mesh3d"
           }
          ],
          "parcoords": [
           {
            "line": {
             "colorbar": {
              "outlinewidth": 0,
              "ticks": ""
             }
            },
            "type": "parcoords"
           }
          ],
          "pie": [
           {
            "automargin": true,
            "type": "pie"
           }
          ],
          "scatter": [
           {
            "fillpattern": {
             "fillmode": "overlay",
             "size": 10,
             "solidity": 0.2
            },
            "type": "scatter"
           }
          ],
          "scatter3d": [
           {
            "line": {
             "colorbar": {
              "outlinewidth": 0,
              "ticks": ""
             }
            },
            "marker": {
             "colorbar": {
              "outlinewidth": 0,
              "ticks": ""
             }
            },
            "type": "scatter3d"
           }
          ],
          "scattercarpet": [
           {
            "marker": {
             "colorbar": {
              "outlinewidth": 0,
              "ticks": ""
             }
            },
            "type": "scattercarpet"
           }
          ],
          "scattergeo": [
           {
            "marker": {
             "colorbar": {
              "outlinewidth": 0,
              "ticks": ""
             }
            },
            "type": "scattergeo"
           }
          ],
          "scattergl": [
           {
            "marker": {
             "colorbar": {
              "outlinewidth": 0,
              "ticks": ""
             }
            },
            "type": "scattergl"
           }
          ],
          "scattermapbox": [
           {
            "marker": {
             "colorbar": {
              "outlinewidth": 0,
              "ticks": ""
             }
            },
            "type": "scattermapbox"
           }
          ],
          "scatterpolar": [
           {
            "marker": {
             "colorbar": {
              "outlinewidth": 0,
              "ticks": ""
             }
            },
            "type": "scatterpolar"
           }
          ],
          "scatterpolargl": [
           {
            "marker": {
             "colorbar": {
              "outlinewidth": 0,
              "ticks": ""
             }
            },
            "type": "scatterpolargl"
           }
          ],
          "scatterternary": [
           {
            "marker": {
             "colorbar": {
              "outlinewidth": 0,
              "ticks": ""
             }
            },
            "type": "scatterternary"
           }
          ],
          "surface": [
           {
            "colorbar": {
             "outlinewidth": 0,
             "ticks": ""
            },
            "colorscale": [
             [
              0,
              "#0d0887"
             ],
             [
              0.1111111111111111,
              "#46039f"
             ],
             [
              0.2222222222222222,
              "#7201a8"
             ],
             [
              0.3333333333333333,
              "#9c179e"
             ],
             [
              0.4444444444444444,
              "#bd3786"
             ],
             [
              0.5555555555555556,
              "#d8576b"
             ],
             [
              0.6666666666666666,
              "#ed7953"
             ],
             [
              0.7777777777777778,
              "#fb9f3a"
             ],
             [
              0.8888888888888888,
              "#fdca26"
             ],
             [
              1,
              "#f0f921"
             ]
            ],
            "type": "surface"
           }
          ],
          "table": [
           {
            "cells": {
             "fill": {
              "color": "#EBF0F8"
             },
             "line": {
              "color": "white"
             }
            },
            "header": {
             "fill": {
              "color": "#C8D4E3"
             },
             "line": {
              "color": "white"
             }
            },
            "type": "table"
           }
          ]
         },
         "layout": {
          "annotationdefaults": {
           "arrowcolor": "#2a3f5f",
           "arrowhead": 0,
           "arrowwidth": 1
          },
          "autotypenumbers": "strict",
          "coloraxis": {
           "colorbar": {
            "outlinewidth": 0,
            "ticks": ""
           }
          },
          "colorscale": {
           "diverging": [
            [
             0,
             "#8e0152"
            ],
            [
             0.1,
             "#c51b7d"
            ],
            [
             0.2,
             "#de77ae"
            ],
            [
             0.3,
             "#f1b6da"
            ],
            [
             0.4,
             "#fde0ef"
            ],
            [
             0.5,
             "#f7f7f7"
            ],
            [
             0.6,
             "#e6f5d0"
            ],
            [
             0.7,
             "#b8e186"
            ],
            [
             0.8,
             "#7fbc41"
            ],
            [
             0.9,
             "#4d9221"
            ],
            [
             1,
             "#276419"
            ]
           ],
           "sequential": [
            [
             0,
             "#0d0887"
            ],
            [
             0.1111111111111111,
             "#46039f"
            ],
            [
             0.2222222222222222,
             "#7201a8"
            ],
            [
             0.3333333333333333,
             "#9c179e"
            ],
            [
             0.4444444444444444,
             "#bd3786"
            ],
            [
             0.5555555555555556,
             "#d8576b"
            ],
            [
             0.6666666666666666,
             "#ed7953"
            ],
            [
             0.7777777777777778,
             "#fb9f3a"
            ],
            [
             0.8888888888888888,
             "#fdca26"
            ],
            [
             1,
             "#f0f921"
            ]
           ],
           "sequentialminus": [
            [
             0,
             "#0d0887"
            ],
            [
             0.1111111111111111,
             "#46039f"
            ],
            [
             0.2222222222222222,
             "#7201a8"
            ],
            [
             0.3333333333333333,
             "#9c179e"
            ],
            [
             0.4444444444444444,
             "#bd3786"
            ],
            [
             0.5555555555555556,
             "#d8576b"
            ],
            [
             0.6666666666666666,
             "#ed7953"
            ],
            [
             0.7777777777777778,
             "#fb9f3a"
            ],
            [
             0.8888888888888888,
             "#fdca26"
            ],
            [
             1,
             "#f0f921"
            ]
           ]
          },
          "colorway": [
           "#636efa",
           "#EF553B",
           "#00cc96",
           "#ab63fa",
           "#FFA15A",
           "#19d3f3",
           "#FF6692",
           "#B6E880",
           "#FF97FF",
           "#FECB52"
          ],
          "font": {
           "color": "#2a3f5f"
          },
          "geo": {
           "bgcolor": "white",
           "lakecolor": "white",
           "landcolor": "white",
           "showlakes": true,
           "showland": true,
           "subunitcolor": "#C8D4E3"
          },
          "hoverlabel": {
           "align": "left"
          },
          "hovermode": "closest",
          "mapbox": {
           "style": "light"
          },
          "paper_bgcolor": "white",
          "plot_bgcolor": "white",
          "polar": {
           "angularaxis": {
            "gridcolor": "#EBF0F8",
            "linecolor": "#EBF0F8",
            "ticks": ""
           },
           "bgcolor": "white",
           "radialaxis": {
            "gridcolor": "#EBF0F8",
            "linecolor": "#EBF0F8",
            "ticks": ""
           }
          },
          "scene": {
           "xaxis": {
            "backgroundcolor": "white",
            "gridcolor": "#DFE8F3",
            "gridwidth": 2,
            "linecolor": "#EBF0F8",
            "showbackground": true,
            "ticks": "",
            "zerolinecolor": "#EBF0F8"
           },
           "yaxis": {
            "backgroundcolor": "white",
            "gridcolor": "#DFE8F3",
            "gridwidth": 2,
            "linecolor": "#EBF0F8",
            "showbackground": true,
            "ticks": "",
            "zerolinecolor": "#EBF0F8"
           },
           "zaxis": {
            "backgroundcolor": "white",
            "gridcolor": "#DFE8F3",
            "gridwidth": 2,
            "linecolor": "#EBF0F8",
            "showbackground": true,
            "ticks": "",
            "zerolinecolor": "#EBF0F8"
           }
          },
          "shapedefaults": {
           "line": {
            "color": "#2a3f5f"
           }
          },
          "ternary": {
           "aaxis": {
            "gridcolor": "#DFE8F3",
            "linecolor": "#A2B1C6",
            "ticks": ""
           },
           "baxis": {
            "gridcolor": "#DFE8F3",
            "linecolor": "#A2B1C6",
            "ticks": ""
           },
           "bgcolor": "white",
           "caxis": {
            "gridcolor": "#DFE8F3",
            "linecolor": "#A2B1C6",
            "ticks": ""
           }
          },
          "title": {
           "x": 0.05
          },
          "xaxis": {
           "automargin": true,
           "gridcolor": "#EBF0F8",
           "linecolor": "#EBF0F8",
           "ticks": "",
           "title": {
            "standoff": 15
           },
           "zerolinecolor": "#EBF0F8",
           "zerolinewidth": 2
          },
          "yaxis": {
           "automargin": true,
           "gridcolor": "#EBF0F8",
           "linecolor": "#EBF0F8",
           "ticks": "",
           "title": {
            "standoff": 15
           },
           "zerolinecolor": "#EBF0F8",
           "zerolinewidth": 2
          }
         }
        },
        "title": {
         "x": 0.5
        },
        "width": 1000,
        "xaxis": {
         "hoverformat": ".1f",
         "tickmode": "array",
         "ticktext": [
          1,
          3,
          5,
          7,
          9,
          11,
          13
         ],
         "tickvals": [
          0,
          2,
          4,
          6,
          8,
          10,
          12
         ],
         "title": {
          "text": "<b><i>n</i> (# pigs)</b>"
         }
        },
        "yaxis": {
         "title": {
          "text": "<b>DSC</b>"
         }
        }
       }
      },
      "text/html": [
       "<div>                            <div id=\"62e6e282-e5c1-457c-b8c3-a967b36711eb\" class=\"plotly-graph-div\" style=\"height:400px; width:1000px;\"></div>            <script type=\"text/javascript\">                require([\"plotly\"], function(Plotly) {                    window.PLOTLYENV=window.PLOTLYENV || {};                                    if (document.getElementById(\"62e6e282-e5c1-457c-b8c3-a967b36711eb\")) {                    Plotly.newPlot(                        \"62e6e282-e5c1-457c-b8c3-a967b36711eb\",                        [{\"hovertemplate\":\"wavelength: %{x:.1f}<br>normalized reflectance: %{y:.5f}<br>standard deviation: %{text:.5f}\",\"legendgroup\":\"pixel\",\"line\":{\"color\":\"#FF8C00\"},\"name\":\"pixel\",\"text\":[0.01603423170827572,0.01067290244765825,0.008733740296800819,0.005811966238373649,0.006259844822647942,0.004363510148047289,0.0018513668873793218,0.0013734552435810234,0.002285495444013049,0.0032819250544925994,0.003912377449246837,0.003240910737507332,0.00087080093478066,0.0014347497718852791],\"x\":[0,1,2,3,4,5,6,7,8,9,10,11,12,13],\"y\":[0.7012316648516306,0.7325313973727731,0.7629372097384527,0.770868560734902,0.7800142365875586,0.7864362939735405,0.7902389782868576,0.7953389698515007,0.7995725011778599,0.8042799672581019,0.8073957966532553,0.8067213527568151,0.8112793795442821,0.8112718429887551],\"type\":\"scatter\"},{\"fill\":\"toself\",\"fillcolor\":\"#FF8C00\",\"hoverinfo\":\"skip\",\"legendgroup\":\"pixel\",\"line\":{\"color\":\"#FF8C00\"},\"name\":\"pixel\",\"opacity\":0.32,\"showlegend\":false,\"x\":[0,1,2,3,4,5,6,7,8,9,10,11,12,13,13,12,11,10,9,8,7,6,5,4,3,2,1,0],\"y\":[0.7172658965599062,0.7432042998204313,0.7716709500352535,0.7766805269732756,0.7862740814102066,0.7907998041215878,0.7920903451742369,0.7967124250950817,0.801857996621873,0.8075618923125946,0.8113081741025022,0.8099622634943224,0.8121501804790627,0.8127065927606404,0.8098370932168698,0.8104085786095014,0.8034804420193078,0.8034834192040085,0.8009980422036093,0.7972870057338469,0.7939655146079196,0.7883876113994783,0.7820727838254933,0.7737543917649107,0.7650565944965283,0.7542034694416518,0.7218584949251148,0.6851974331433549],\"type\":\"scatter\"},{\"hovertemplate\":\"wavelength: %{x:.1f}<br>normalized reflectance: %{y:.5f}<br>standard deviation: %{text:.5f}\",\"legendgroup\":\"superpixel\",\"line\":{\"color\":\"#E6003D\"},\"name\":\"superpixel\",\"text\":[0.018709035856791498,0.010692381706044276,0.0057214604540367356,0.005384758739667805,0.006998673384798436,0.004452369170820246,0.0031249411854347613,0.0033512384203106763,0.005178828772469214,0.0055556264081640635,0.004068347948697682,0.001966501968521413,0.0013339910399155707,0.0014079584475642178],\"x\":[0,1,2,3,4,5,6,7,8,9,10,11,12,13],\"y\":[0.7409756568247037,0.7607560800004926,0.7985989307981713,0.8138052319682998,0.8275705723177804,0.8402160162623599,0.8407473668679204,0.8495400052927053,0.8554514607015096,0.8609541363637568,0.8695767894795937,0.869741116712859,0.8745223489469396,0.8744475644619711],\"type\":\"scatter\"},{\"fill\":\"toself\",\"fillcolor\":\"#E6003D\",\"hoverinfo\":\"skip\",\"legendgroup\":\"superpixel\",\"line\":{\"color\":\"#E6003D\"},\"name\":\"superpixel\",\"opacity\":0.32,\"showlegend\":false,\"x\":[0,1,2,3,4,5,6,7,8,9,10,11,12,13,13,12,11,10,9,8,7,6,5,4,3,2,1,0],\"y\":[0.7596846926814952,0.7714484617065368,0.8043203912522081,0.8191899907079676,0.8345692457025788,0.8446683854331801,0.8438723080533551,0.8528912437130161,0.8606302894739788,0.8665097627719209,0.8736451374282914,0.8717076186813805,0.8758563399868552,0.8758555229095354,0.8730396060144069,0.873188357907024,0.8677746147443376,0.865508441530896,0.8553985099555927,0.8502726319290403,0.8461887668723946,0.8376224256824857,0.8357636470915396,0.820571898932982,0.808420473228632,0.7928774703441346,0.7500636982944483,0.7222666209679122],\"type\":\"scatter\"},{\"hovertemplate\":\"wavelength: %{x:.1f}<br>normalized reflectance: %{y:.5f}<br>standard deviation: %{text:.5f}\",\"legendgroup\":\"patch_32\",\"line\":{\"color\":\"#4169E1\"},\"name\":\"patch_32\",\"text\":[0.017435525207477123,0.011554215829498875,0.0028069847686069717,0.0021072007771914614,0.005208061194839738,0.004490517193061003,0.003145677370663929,0.006044994176865423,0.005748177697472716,0.005538415064318338,0.004124553868804558,0.00384348001017658,0.0026665835419916882,0.0019087392547723807],\"x\":[0,1,2,3,4,5,6,7,8,9,10,11,12,13],\"y\":[0.7582608930933161,0.8003041199182878,0.8418653292197453,0.8542217415554318,0.8682006251602603,0.8750268490724267,0.8790435828080199,0.8872130025681498,0.8964978502022625,0.903508755761376,0.9062724091882458,0.9059532687028439,0.9089577756779766,0.9135422064367733],\"type\":\"scatter\"},{\"fill\":\"toself\",\"fillcolor\":\"#4169E1\",\"hoverinfo\":\"skip\",\"legendgroup\":\"patch_32\",\"line\":{\"color\":\"#4169E1\"},\"name\":\"patch_32\",\"opacity\":0.32,\"showlegend\":false,\"x\":[0,1,2,3,4,5,6,7,8,9,10,11,12,13,13,12,11,10,9,8,7,6,5,4,3,2,1,0],\"y\":[0.7756964183007933,0.8118583357477867,0.8446723139883523,0.8563289423326234,0.8734086863551,0.8795173662654877,0.8821892601786838,0.8932579967450153,0.9022460278997352,0.9090471708256943,0.9103969630570503,0.9097967487130204,0.9116243592199683,0.9154509456915457,0.9116334671820009,0.906291192135985,0.9021097886926673,0.9021478553194413,0.8979703406970577,0.8907496725047898,0.8811680083912844,0.8758979054373559,0.8705363318793656,0.8629925639654206,0.8521145407782403,0.8390583444511384,0.7887499040887889,0.740825367885839],\"type\":\"scatter\"},{\"hovertemplate\":\"wavelength: %{x:.1f}<br>normalized reflectance: %{y:.5f}<br>standard deviation: %{text:.5f}\",\"legendgroup\":\"patch_64\",\"line\":{\"color\":\"#808000\"},\"name\":\"patch_64\",\"text\":[0.014549396143885805,0.011423461572298043,0.006491440678212706,0.005171309640302335,0.00396776368794888,0.003489715088252842,0.0021361420397306495,0.005169922357625453,0.005326847982354554,0.005081557547765488,0.0034095775733008755,0.004081412758251239,0.002461364298037754,0.0021794450726028585],\"x\":[0,1,2,3,4,5,6,7,8,9,10,11,12,13],\"y\":[0.7614924294029117,0.7977072206079466,0.8393798328641232,0.8559993946907362,0.8672949329993955,0.8752144446163985,0.8814127810009771,0.8894943060813152,0.9011037608661925,0.9073243832754454,0.9100709852002635,0.9105456797652149,0.9131458699264788,0.9178735504880502],\"type\":\"scatter\"},{\"fill\":\"toself\",\"fillcolor\":\"#808000\",\"hoverinfo\":\"skip\",\"legendgroup\":\"patch_64\",\"line\":{\"color\":\"#808000\"},\"name\":\"patch_64\",\"opacity\":0.32,\"showlegend\":false,\"x\":[0,1,2,3,4,5,6,7,8,9,10,11,12,13,13,12,11,10,9,8,7,6,5,4,3,2,1,0],\"y\":[0.7760418255467976,0.8091306821802446,0.8458712735423359,0.8611707043310385,0.8712626966873445,0.8787041597046513,0.8835489230407078,0.8946642284389407,0.906430608848547,0.9124059408232109,0.9134805627735644,0.9146270925234662,0.9156072342245166,0.920052995560653,0.9156941054154474,0.910684505628441,0.9064642670069637,0.9066614076269627,0.9022428257276799,0.895776912883838,0.8843243837236897,0.8792766389612464,0.8717247295281457,0.8633271693114466,0.8508280850504338,0.8328883921859105,0.7862837590356486,0.7469430332590259],\"type\":\"scatter\"},{\"hovertemplate\":\"wavelength: %{x:.1f}<br>normalized reflectance: %{y:.5f}<br>standard deviation: %{text:.5f}\",\"legendgroup\":\"image\",\"line\":{\"color\":\"#800080\"},\"name\":\"image\",\"text\":[0.015072267248932065,0.010948756791031664,0.007711207580925626,0.013667676268849818,0.010539089237012403,0.007762164113938394,0.0058220320620557655,0.011272811267366229,0.005694106266732968,0.004045527849439827,0.005590520365190862,0.004251163066823159,0.0018761248837134118,0.0012749104110453045],\"x\":[0,1,2,3,4,5,6,7,8,9,10,11,12,13],\"y\":[0.7713362711718118,0.8203692077829613,0.8551530347900052,0.8651392744986518,0.8707699468498602,0.8770785841528566,0.8794513910420904,0.8957087859760225,0.9109451246565994,0.9200863236007372,0.9225339942789628,0.9285509461238044,0.9316508670724885,0.9342442902744874],\"type\":\"scatter\"},{\"fill\":\"toself\",\"fillcolor\":\"#800080\",\"hoverinfo\":\"skip\",\"legendgroup\":\"image\",\"line\":{\"color\":\"#800080\"},\"name\":\"image\",\"opacity\":0.32,\"showlegend\":false,\"x\":[0,1,2,3,4,5,6,7,8,9,10,11,12,13,13,12,11,10,9,8,7,6,5,4,3,2,1,0],\"y\":[0.7864085384207439,0.831317964573993,0.8628642423709307,0.8788069507675016,0.8813090360868726,0.8848407482667949,0.8852734231041461,0.9069815972433888,0.9166392309233323,0.924131851450177,0.9281245146441536,0.9328021091906276,0.9335269919562018,0.9355192006855327,0.9329693798634421,0.9297747421887751,0.9242997830569812,0.916943473913772,0.9160407957512974,0.9052510183898664,0.8844359747086563,0.8736293589800346,0.8693164200389182,0.8602308576128478,0.851471598229802,0.8474418272090796,0.8094204509919296,0.7562640039228797],\"type\":\"scatter\"}],                        {\"template\":{\"data\":{\"barpolar\":[{\"marker\":{\"line\":{\"color\":\"white\",\"width\":0.5},\"pattern\":{\"fillmode\":\"overlay\",\"size\":10,\"solidity\":0.2}},\"type\":\"barpolar\"}],\"bar\":[{\"error_x\":{\"color\":\"#2a3f5f\"},\"error_y\":{\"color\":\"#2a3f5f\"},\"marker\":{\"line\":{\"color\":\"white\",\"width\":0.5},\"pattern\":{\"fillmode\":\"overlay\",\"size\":10,\"solidity\":0.2}},\"type\":\"bar\"}],\"carpet\":[{\"aaxis\":{\"endlinecolor\":\"#2a3f5f\",\"gridcolor\":\"#C8D4E3\",\"linecolor\":\"#C8D4E3\",\"minorgridcolor\":\"#C8D4E3\",\"startlinecolor\":\"#2a3f5f\"},\"baxis\":{\"endlinecolor\":\"#2a3f5f\",\"gridcolor\":\"#C8D4E3\",\"linecolor\":\"#C8D4E3\",\"minorgridcolor\":\"#C8D4E3\",\"startlinecolor\":\"#2a3f5f\"},\"type\":\"carpet\"}],\"choropleth\":[{\"colorbar\":{\"outlinewidth\":0,\"ticks\":\"\"},\"type\":\"choropleth\"}],\"contourcarpet\":[{\"colorbar\":{\"outlinewidth\":0,\"ticks\":\"\"},\"type\":\"contourcarpet\"}],\"contour\":[{\"colorbar\":{\"outlinewidth\":0,\"ticks\":\"\"},\"colorscale\":[[0.0,\"#0d0887\"],[0.1111111111111111,\"#46039f\"],[0.2222222222222222,\"#7201a8\"],[0.3333333333333333,\"#9c179e\"],[0.4444444444444444,\"#bd3786\"],[0.5555555555555556,\"#d8576b\"],[0.6666666666666666,\"#ed7953\"],[0.7777777777777778,\"#fb9f3a\"],[0.8888888888888888,\"#fdca26\"],[1.0,\"#f0f921\"]],\"type\":\"contour\"}],\"heatmapgl\":[{\"colorbar\":{\"outlinewidth\":0,\"ticks\":\"\"},\"colorscale\":[[0.0,\"#0d0887\"],[0.1111111111111111,\"#46039f\"],[0.2222222222222222,\"#7201a8\"],[0.3333333333333333,\"#9c179e\"],[0.4444444444444444,\"#bd3786\"],[0.5555555555555556,\"#d8576b\"],[0.6666666666666666,\"#ed7953\"],[0.7777777777777778,\"#fb9f3a\"],[0.8888888888888888,\"#fdca26\"],[1.0,\"#f0f921\"]],\"type\":\"heatmapgl\"}],\"heatmap\":[{\"colorbar\":{\"outlinewidth\":0,\"ticks\":\"\"},\"colorscale\":[[0.0,\"#0d0887\"],[0.1111111111111111,\"#46039f\"],[0.2222222222222222,\"#7201a8\"],[0.3333333333333333,\"#9c179e\"],[0.4444444444444444,\"#bd3786\"],[0.5555555555555556,\"#d8576b\"],[0.6666666666666666,\"#ed7953\"],[0.7777777777777778,\"#fb9f3a\"],[0.8888888888888888,\"#fdca26\"],[1.0,\"#f0f921\"]],\"type\":\"heatmap\"}],\"histogram2dcontour\":[{\"colorbar\":{\"outlinewidth\":0,\"ticks\":\"\"},\"colorscale\":[[0.0,\"#0d0887\"],[0.1111111111111111,\"#46039f\"],[0.2222222222222222,\"#7201a8\"],[0.3333333333333333,\"#9c179e\"],[0.4444444444444444,\"#bd3786\"],[0.5555555555555556,\"#d8576b\"],[0.6666666666666666,\"#ed7953\"],[0.7777777777777778,\"#fb9f3a\"],[0.8888888888888888,\"#fdca26\"],[1.0,\"#f0f921\"]],\"type\":\"histogram2dcontour\"}],\"histogram2d\":[{\"colorbar\":{\"outlinewidth\":0,\"ticks\":\"\"},\"colorscale\":[[0.0,\"#0d0887\"],[0.1111111111111111,\"#46039f\"],[0.2222222222222222,\"#7201a8\"],[0.3333333333333333,\"#9c179e\"],[0.4444444444444444,\"#bd3786\"],[0.5555555555555556,\"#d8576b\"],[0.6666666666666666,\"#ed7953\"],[0.7777777777777778,\"#fb9f3a\"],[0.8888888888888888,\"#fdca26\"],[1.0,\"#f0f921\"]],\"type\":\"histogram2d\"}],\"histogram\":[{\"marker\":{\"pattern\":{\"fillmode\":\"overlay\",\"size\":10,\"solidity\":0.2}},\"type\":\"histogram\"}],\"mesh3d\":[{\"colorbar\":{\"outlinewidth\":0,\"ticks\":\"\"},\"type\":\"mesh3d\"}],\"parcoords\":[{\"line\":{\"colorbar\":{\"outlinewidth\":0,\"ticks\":\"\"}},\"type\":\"parcoords\"}],\"pie\":[{\"automargin\":true,\"type\":\"pie\"}],\"scatter3d\":[{\"line\":{\"colorbar\":{\"outlinewidth\":0,\"ticks\":\"\"}},\"marker\":{\"colorbar\":{\"outlinewidth\":0,\"ticks\":\"\"}},\"type\":\"scatter3d\"}],\"scattercarpet\":[{\"marker\":{\"colorbar\":{\"outlinewidth\":0,\"ticks\":\"\"}},\"type\":\"scattercarpet\"}],\"scattergeo\":[{\"marker\":{\"colorbar\":{\"outlinewidth\":0,\"ticks\":\"\"}},\"type\":\"scattergeo\"}],\"scattergl\":[{\"marker\":{\"colorbar\":{\"outlinewidth\":0,\"ticks\":\"\"}},\"type\":\"scattergl\"}],\"scattermapbox\":[{\"marker\":{\"colorbar\":{\"outlinewidth\":0,\"ticks\":\"\"}},\"type\":\"scattermapbox\"}],\"scatterpolargl\":[{\"marker\":{\"colorbar\":{\"outlinewidth\":0,\"ticks\":\"\"}},\"type\":\"scatterpolargl\"}],\"scatterpolar\":[{\"marker\":{\"colorbar\":{\"outlinewidth\":0,\"ticks\":\"\"}},\"type\":\"scatterpolar\"}],\"scatter\":[{\"fillpattern\":{\"fillmode\":\"overlay\",\"size\":10,\"solidity\":0.2},\"type\":\"scatter\"}],\"scatterternary\":[{\"marker\":{\"colorbar\":{\"outlinewidth\":0,\"ticks\":\"\"}},\"type\":\"scatterternary\"}],\"surface\":[{\"colorbar\":{\"outlinewidth\":0,\"ticks\":\"\"},\"colorscale\":[[0.0,\"#0d0887\"],[0.1111111111111111,\"#46039f\"],[0.2222222222222222,\"#7201a8\"],[0.3333333333333333,\"#9c179e\"],[0.4444444444444444,\"#bd3786\"],[0.5555555555555556,\"#d8576b\"],[0.6666666666666666,\"#ed7953\"],[0.7777777777777778,\"#fb9f3a\"],[0.8888888888888888,\"#fdca26\"],[1.0,\"#f0f921\"]],\"type\":\"surface\"}],\"table\":[{\"cells\":{\"fill\":{\"color\":\"#EBF0F8\"},\"line\":{\"color\":\"white\"}},\"header\":{\"fill\":{\"color\":\"#C8D4E3\"},\"line\":{\"color\":\"white\"}},\"type\":\"table\"}]},\"layout\":{\"annotationdefaults\":{\"arrowcolor\":\"#2a3f5f\",\"arrowhead\":0,\"arrowwidth\":1},\"autotypenumbers\":\"strict\",\"coloraxis\":{\"colorbar\":{\"outlinewidth\":0,\"ticks\":\"\"}},\"colorscale\":{\"diverging\":[[0,\"#8e0152\"],[0.1,\"#c51b7d\"],[0.2,\"#de77ae\"],[0.3,\"#f1b6da\"],[0.4,\"#fde0ef\"],[0.5,\"#f7f7f7\"],[0.6,\"#e6f5d0\"],[0.7,\"#b8e186\"],[0.8,\"#7fbc41\"],[0.9,\"#4d9221\"],[1,\"#276419\"]],\"sequential\":[[0.0,\"#0d0887\"],[0.1111111111111111,\"#46039f\"],[0.2222222222222222,\"#7201a8\"],[0.3333333333333333,\"#9c179e\"],[0.4444444444444444,\"#bd3786\"],[0.5555555555555556,\"#d8576b\"],[0.6666666666666666,\"#ed7953\"],[0.7777777777777778,\"#fb9f3a\"],[0.8888888888888888,\"#fdca26\"],[1.0,\"#f0f921\"]],\"sequentialminus\":[[0.0,\"#0d0887\"],[0.1111111111111111,\"#46039f\"],[0.2222222222222222,\"#7201a8\"],[0.3333333333333333,\"#9c179e\"],[0.4444444444444444,\"#bd3786\"],[0.5555555555555556,\"#d8576b\"],[0.6666666666666666,\"#ed7953\"],[0.7777777777777778,\"#fb9f3a\"],[0.8888888888888888,\"#fdca26\"],[1.0,\"#f0f921\"]]},\"colorway\":[\"#636efa\",\"#EF553B\",\"#00cc96\",\"#ab63fa\",\"#FFA15A\",\"#19d3f3\",\"#FF6692\",\"#B6E880\",\"#FF97FF\",\"#FECB52\"],\"font\":{\"color\":\"#2a3f5f\"},\"geo\":{\"bgcolor\":\"white\",\"lakecolor\":\"white\",\"landcolor\":\"white\",\"showlakes\":true,\"showland\":true,\"subunitcolor\":\"#C8D4E3\"},\"hoverlabel\":{\"align\":\"left\"},\"hovermode\":\"closest\",\"mapbox\":{\"style\":\"light\"},\"paper_bgcolor\":\"white\",\"plot_bgcolor\":\"white\",\"polar\":{\"angularaxis\":{\"gridcolor\":\"#EBF0F8\",\"linecolor\":\"#EBF0F8\",\"ticks\":\"\"},\"bgcolor\":\"white\",\"radialaxis\":{\"gridcolor\":\"#EBF0F8\",\"linecolor\":\"#EBF0F8\",\"ticks\":\"\"}},\"scene\":{\"xaxis\":{\"backgroundcolor\":\"white\",\"gridcolor\":\"#DFE8F3\",\"gridwidth\":2,\"linecolor\":\"#EBF0F8\",\"showbackground\":true,\"ticks\":\"\",\"zerolinecolor\":\"#EBF0F8\"},\"yaxis\":{\"backgroundcolor\":\"white\",\"gridcolor\":\"#DFE8F3\",\"gridwidth\":2,\"linecolor\":\"#EBF0F8\",\"showbackground\":true,\"ticks\":\"\",\"zerolinecolor\":\"#EBF0F8\"},\"zaxis\":{\"backgroundcolor\":\"white\",\"gridcolor\":\"#DFE8F3\",\"gridwidth\":2,\"linecolor\":\"#EBF0F8\",\"showbackground\":true,\"ticks\":\"\",\"zerolinecolor\":\"#EBF0F8\"}},\"shapedefaults\":{\"line\":{\"color\":\"#2a3f5f\"}},\"ternary\":{\"aaxis\":{\"gridcolor\":\"#DFE8F3\",\"linecolor\":\"#A2B1C6\",\"ticks\":\"\"},\"baxis\":{\"gridcolor\":\"#DFE8F3\",\"linecolor\":\"#A2B1C6\",\"ticks\":\"\"},\"bgcolor\":\"white\",\"caxis\":{\"gridcolor\":\"#DFE8F3\",\"linecolor\":\"#A2B1C6\",\"ticks\":\"\"}},\"title\":{\"x\":0.05},\"xaxis\":{\"automargin\":true,\"gridcolor\":\"#EBF0F8\",\"linecolor\":\"#EBF0F8\",\"ticks\":\"\",\"title\":{\"standoff\":15},\"zerolinecolor\":\"#EBF0F8\",\"zerolinewidth\":2},\"yaxis\":{\"automargin\":true,\"gridcolor\":\"#EBF0F8\",\"linecolor\":\"#EBF0F8\",\"ticks\":\"\",\"title\":{\"standoff\":15},\"zerolinecolor\":\"#EBF0F8\",\"zerolinewidth\":2}}},\"hovermode\":\"x\",\"xaxis\":{\"hoverformat\":\".1f\",\"title\":{\"text\":\"<b><i>n</i> (# pigs)</b>\"},\"tickmode\":\"array\",\"tickvals\":[0,2,4,6,8,10,12],\"ticktext\":[1,3,5,7,9,11,13]},\"title\":{\"x\":0.5},\"yaxis\":{\"title\":{\"text\":\"<b>DSC</b>\"}},\"font\":{\"family\":\"Libertinus Serif\",\"size\":22},\"margin\":{\"l\":0,\"r\":0,\"b\":0,\"t\":0},\"legend\":{\"orientation\":\"h\",\"yanchor\":\"bottom\",\"y\":1.05,\"xanchor\":\"center\",\"x\":0.5},\"width\":1000,\"height\":400},                        {\"responsive\": true}                    ).then(function(){\n",
       "                            \n",
       "var gd = document.getElementById('62e6e282-e5c1-457c-b8c3-a967b36711eb');\n",
       "var x = new MutationObserver(function (mutations, observer) {{\n",
       "        var display = window.getComputedStyle(gd).display;\n",
       "        if (!display || display === 'none') {{\n",
       "            console.log([gd, 'removed!']);\n",
       "            Plotly.purge(gd);\n",
       "            observer.disconnect();\n",
       "        }}\n",
       "}});\n",
       "\n",
       "// Listen for the removal of the full notebook cells\n",
       "var notebookContainer = gd.closest('#notebook-container');\n",
       "if (notebookContainer) {{\n",
       "    x.observe(notebookContainer, {childList: true});\n",
       "}}\n",
       "\n",
       "// Listen for the clearing of the current output cell\n",
       "var outputEl = gd.closest('.output');\n",
       "if (outputEl) {{\n",
       "    x.observe(outputEl, {childList: true});\n",
       "}}\n",
       "\n",
       "                        })                };                });            </script>        </div>"
      ]
     },
     "metadata": {},
     "output_type": "display_data"
    }
   ],
   "source": [
    "# NBVAL_IGNORE_OUTPUT\n",
    "runs = sorted(settings.training_dir.rglob(f\"{settings_seg.dataset_size_timestamp}_generated_default*_dataset_size\"))\n",
    "\n",
    "\n",
    "def plot_metric(metric_name: str, metric_short: str) -> go.Figure:\n",
    "    df_res = dataset_size_table(runs, metric_name)\n",
    "\n",
    "    # Average seeds\n",
    "    df_total = sqldf(\n",
    "        \"\"\"\n",
    "        SELECT model, n_pigs, AVG(metric_images) AS metric_mean, STD(metric_images) AS metric_std\n",
    "        FROM df_res\n",
    "        WHERE n_pigs < 15\n",
    "        GROUP BY model, n_pigs\n",
    "    \"\"\"\n",
    "    )\n",
    "\n",
    "    fig = go.Figure()\n",
    "    for model in settings_seg.model_colors.keys():\n",
    "        df_model = df_total.query(\"model == @model\")\n",
    "        values = df_model[\"metric_mean\"]\n",
    "\n",
    "        name = model\n",
    "        if name == \"superpixel_classification\":\n",
    "            name = \"superpixel\"\n",
    "\n",
    "        add_std_fill(fig, values, df_model[\"metric_std\"] * 0.5, linecolor=settings_seg.model_colors[model], label=name)\n",
    "\n",
    "    fig.update_layout(title_x=0.5, xaxis_title=\"<b><i>n</i> (# pigs)</b>\", yaxis_title=f\"<b>{metric_short}</b>\")\n",
    "    fig.update_layout(\n",
    "        template=\"plotly_white\", font_family=\"Libertinus Serif\", font_size=22, margin=dict(l=0, r=0, b=0, t=0)\n",
    "    )\n",
    "    fig.update_layout(legend=dict(orientation=\"h\", yanchor=\"bottom\", y=1.05, xanchor=\"center\", x=0.5))\n",
    "    fig.update_layout(width=1000, height=400)\n",
    "    fig.update_layout(xaxis=dict(tickmode=\"array\", tickvals=list(range(0, 14, 2)), ticktext=list(range(1, 15, 2))))\n",
    "    fig.write_image(settings_seg.paper_dir / f\"dataset_size_{metric_short}.pdf\")\n",
    "\n",
    "    return fig\n",
    "\n",
    "\n",
    "plot_metric(\"dice_metric\", \"DSC\")"
   ]
  },
  {
   "cell_type": "code",
   "execution_count": 3,
   "id": "407eafdb-0032-4493-9584-c2c4507dc493",
   "metadata": {},
   "outputs": [
    {
     "data": {
      "application/vnd.jupyter.widget-view+json": {
       "model_id": "0442027aaf1f495bbf86589578df43e4",
       "version_major": 2,
       "version_minor": 0
      },
      "text/plain": [
       "Output()"
      ]
     },
     "metadata": {},
     "output_type": "display_data"
    },
    {
     "data": {
      "text/html": [
       "<pre style=\"white-space:pre;overflow-x:auto;line-height:normal;font-family:Menlo,'DejaVu Sans Mono',consolas,'Courier New',monospace\"></pre>\n"
      ],
      "text/plain": []
     },
     "metadata": {},
     "output_type": "display_data"
    },
    {
     "data": {
      "text/html": [
       "<pre style=\"white-space:pre;overflow-x:auto;line-height:normal;font-family:Menlo,'DejaVu Sans Mono',consolas,'Courier New',monospace\">\n",
       "</pre>\n"
      ],
      "text/plain": [
       "\n"
      ]
     },
     "metadata": {},
     "output_type": "display_data"
    },
    {
     "data": {
      "application/vnd.plotly.v1+json": {
       "config": {
        "plotlyServerURL": "https://plot.ly"
       },
       "data": [
        {
         "hovertemplate": "wavelength: %{x:.1f}<br>normalized reflectance: %{y:.5f}<br>standard deviation: %{text:.5f}",
         "legendgroup": "pixel",
         "line": {
          "color": "#FF8C00"
         },
         "name": "pixel",
         "text": [
          1.8858291076760223,
          1.3311587587164797,
          1.4296377207885447,
          0.8952208853914023,
          1.2314459868692562,
          0.5461320048539487,
          1.0101735311323192,
          0.5130140452789322,
          0.6610711131504007,
          0.35628348249460456,
          1.1652329835565303,
          0.35597127532176753,
          0.3908453407811416,
          0.16847175978320522
         ],
         "type": "scatter",
         "x": [
          0,
          1,
          2,
          3,
          4,
          5,
          6,
          7,
          8,
          9,
          10,
          11,
          12,
          13
         ],
         "y": [
          56.903083401354124,
          52.919160763207195,
          51.64172763535513,
          49.7899121002471,
          49.640295902633646,
          47.946671053316585,
          48.15587147270959,
          47.667729162049596,
          47.183143742322606,
          45.17129564117153,
          46.82099781017523,
          45.37565160906975,
          45.177197272985104,
          44.619168802218326
         ]
        },
        {
         "fill": "toself",
         "fillcolor": "#FF8C00",
         "hoverinfo": "skip",
         "legendgroup": "pixel",
         "line": {
          "color": "#FF8C00"
         },
         "name": "pixel",
         "opacity": 0.32,
         "showlegend": false,
         "type": "scatter",
         "x": [
          0,
          1,
          2,
          3,
          4,
          5,
          6,
          7,
          8,
          9,
          10,
          11,
          12,
          13,
          13,
          12,
          11,
          10,
          9,
          8,
          7,
          6,
          5,
          4,
          3,
          2,
          1,
          0
         ],
         "y": [
          58.78891250903015,
          54.25031952192367,
          53.07136535614367,
          50.685132985638504,
          50.8717418895029,
          48.49280305817054,
          49.16604500384191,
          48.180743207328526,
          47.844214855473005,
          45.527579123666136,
          47.98623079373176,
          45.73162288439152,
          45.568042613766245,
          44.78764056200153,
          44.450697042435124,
          44.786351932203964,
          45.01968033374798,
          45.6557648266187,
          44.81501215867693,
          46.52207262917221,
          47.15471511677067,
          47.145697941577275,
          47.40053904846263,
          48.40884991576439,
          48.8946912148557,
          50.21208991456659,
          51.58800200449072,
          55.0172542936781
         ]
        },
        {
         "hovertemplate": "wavelength: %{x:.1f}<br>normalized reflectance: %{y:.5f}<br>standard deviation: %{text:.5f}",
         "legendgroup": "superpixel",
         "line": {
          "color": "#E6003D"
         },
         "name": "superpixel",
         "text": [
          1.7256641960351844,
          1.123927125452349,
          0.7312332474207837,
          0.8523621202884696,
          1.1732453247342387,
          0.9454950858323862,
          0.31874045783367344,
          0.9493265235560984,
          1.398589319900965,
          1.4807314746966302,
          1.1515254831863302,
          1.1449434078639902,
          0.6467319002503235,
          0.5455682768373076
         ],
         "type": "scatter",
         "x": [
          0,
          1,
          2,
          3,
          4,
          5,
          6,
          7,
          8,
          9,
          10,
          11,
          12,
          13
         ],
         "y": [
          37.370463112109306,
          33.878825560922316,
          29.768186088827424,
          28.061505627759708,
          24.908371066330513,
          23.7192230778885,
          23.330551896265053,
          21.849588206511168,
          20.31660777176962,
          18.983321314193482,
          17.34267972207575,
          17.14400141553449,
          16.77861933618967,
          16.239273830001757
         ]
        },
        {
         "fill": "toself",
         "fillcolor": "#E6003D",
         "hoverinfo": "skip",
         "legendgroup": "superpixel",
         "line": {
          "color": "#E6003D"
         },
         "name": "superpixel",
         "opacity": 0.32,
         "showlegend": false,
         "type": "scatter",
         "x": [
          0,
          1,
          2,
          3,
          4,
          5,
          6,
          7,
          8,
          9,
          10,
          11,
          12,
          13,
          13,
          12,
          11,
          10,
          9,
          8,
          7,
          6,
          5,
          4,
          3,
          2,
          1,
          0
         ],
         "y": [
          39.09612730814449,
          35.00275268637466,
          30.499419336248206,
          28.913867748048176,
          26.081616391064752,
          24.664718163720888,
          23.649292354098726,
          22.798914730067267,
          21.715197091670582,
          20.46405278889011,
          18.49420520526208,
          18.28894482339848,
          17.425351236439994,
          16.784842106839065,
          15.693705553164449,
          16.131887435939348,
          15.999058007670499,
          16.19115423888942,
          17.502589839496853,
          18.918018451868654,
          20.90026168295507,
          23.01181143843138,
          22.773727992056113,
          23.735125741596274,
          27.20914350747124,
          29.03695284140664,
          32.75489843546997,
          35.64479891607412
         ]
        },
        {
         "hovertemplate": "wavelength: %{x:.1f}<br>normalized reflectance: %{y:.5f}<br>standard deviation: %{text:.5f}",
         "legendgroup": "patch_32",
         "line": {
          "color": "#4169E1"
         },
         "name": "patch_32",
         "text": [
          1.3435267605200087,
          1.3644955377202346,
          0.5403083267049461,
          0.5805038174813242,
          1.3852626872349167,
          1.2301772017792862,
          0.7350228869309324,
          1.1849102311470754,
          1.4162105461913883,
          1.1460178905461458,
          1.1200879150602354,
          1.246141711539948,
          0.21211597028953832,
          0.6969705076838073
         ],
         "type": "scatter",
         "x": [
          0,
          1,
          2,
          3,
          4,
          5,
          6,
          7,
          8,
          9,
          10,
          11,
          12,
          13
         ],
         "y": [
          39.580597540188904,
          32.846510311396635,
          28.257255429783232,
          26.382538847865117,
          23.505550167689684,
          21.38410086485481,
          21.209497782229022,
          19.08574780515757,
          18.60767598879216,
          16.39900639367373,
          14.763119031162535,
          15.85677019996424,
          13.414638967842098,
          14.586269421643966
         ]
        },
        {
         "fill": "toself",
         "fillcolor": "#4169E1",
         "hoverinfo": "skip",
         "legendgroup": "patch_32",
         "line": {
          "color": "#4169E1"
         },
         "name": "patch_32",
         "opacity": 0.32,
         "showlegend": false,
         "type": "scatter",
         "x": [
          0,
          1,
          2,
          3,
          4,
          5,
          6,
          7,
          8,
          9,
          10,
          11,
          12,
          13,
          13,
          12,
          11,
          10,
          9,
          8,
          7,
          6,
          5,
          4,
          3,
          2,
          1,
          0
         ],
         "y": [
          40.92412430070891,
          34.21100584911687,
          28.797563756488177,
          26.963042665346443,
          24.8908128549246,
          22.614278066634096,
          21.944520669159953,
          20.270658036304646,
          20.023886534983546,
          17.545024284219878,
          15.88320694622277,
          17.102911911504187,
          13.626754938131636,
          15.283239929327774,
          13.889298913960157,
          13.20252299755256,
          14.610628488424291,
          13.6430311161023,
          15.252988503127584,
          17.191465442600773,
          17.900837574010495,
          20.47447489529809,
          20.15392366307552,
          22.120287480454767,
          25.80203503038379,
          27.716947103078287,
          31.4820147736764,
          38.2370707796689
         ]
        },
        {
         "hovertemplate": "wavelength: %{x:.1f}<br>normalized reflectance: %{y:.5f}<br>standard deviation: %{text:.5f}",
         "legendgroup": "patch_64",
         "line": {
          "color": "#808000"
         },
         "name": "patch_64",
         "text": [
          1.7271220079717648,
          1.2395123040933231,
          0.9123444527140743,
          1.1035995289598506,
          1.2576938937307738,
          0.9678809229791233,
          0.8557634795056995,
          1.2566269504055099,
          1.1574419739014838,
          1.5561202081639767,
          0.9895462687372829,
          1.5033290866320552,
          0.6864859725787834,
          0.34522780834271355
         ],
         "type": "scatter",
         "x": [
          0,
          1,
          2,
          3,
          4,
          5,
          6,
          7,
          8,
          9,
          10,
          11,
          12,
          13
         ],
         "y": [
          41.04485371807016,
          34.31094694153014,
          26.86656893543519,
          25.0402570218071,
          23.852307628420295,
          19.726433235028672,
          20.0666990744838,
          19.123496027560304,
          15.92170887814459,
          15.035929047306528,
          14.893538215624787,
          15.690699811220659,
          15.711009817311222,
          12.853708657837668
         ]
        },
        {
         "fill": "toself",
         "fillcolor": "#808000",
         "hoverinfo": "skip",
         "legendgroup": "patch_64",
         "line": {
          "color": "#808000"
         },
         "name": "patch_64",
         "opacity": 0.32,
         "showlegend": false,
         "type": "scatter",
         "x": [
          0,
          1,
          2,
          3,
          4,
          5,
          6,
          7,
          8,
          9,
          10,
          11,
          12,
          13,
          13,
          12,
          11,
          10,
          9,
          8,
          7,
          6,
          5,
          4,
          3,
          2,
          1,
          0
         ],
         "y": [
          42.77197572604192,
          35.550459245623465,
          27.778913388149263,
          26.14385655076695,
          25.11000152215107,
          20.694314158007796,
          20.9224625539895,
          20.380122977965815,
          17.079150852046073,
          16.592049255470506,
          15.883084484362069,
          17.194028897852714,
          16.397495789890005,
          13.198936466180381,
          12.508480849494955,
          15.024523844732439,
          14.187370724588604,
          13.903991946887505,
          13.479808839142551,
          14.764266904243106,
          17.866869077154792,
          19.2109355949781,
          18.75855231204955,
          22.59461373468952,
          23.93665749284725,
          25.954224482721116,
          33.071434637436816,
          39.31773171009839
         ]
        },
        {
         "hovertemplate": "wavelength: %{x:.1f}<br>normalized reflectance: %{y:.5f}<br>standard deviation: %{text:.5f}",
         "legendgroup": "image",
         "line": {
          "color": "#800080"
         },
         "name": "image",
         "text": [
          1.994139423880591,
          1.1017024716479107,
          0.7980284646437097,
          1.4338835169401956,
          1.1503776825631462,
          1.1944947990608816,
          0.9117827099401931,
          1.7125606427455586,
          1.4697694486469273,
          1.1367911083391955,
          1.7092580869213538,
          1.2584206039005077,
          0.24204805019961462,
          0.43877520101063755
         ],
         "type": "scatter",
         "x": [
          0,
          1,
          2,
          3,
          4,
          5,
          6,
          7,
          8,
          9,
          10,
          11,
          12,
          13
         ],
         "y": [
          34.527290278034926,
          26.306592529539778,
          21.40656857333327,
          20.114542269789116,
          17.65946217484976,
          16.779871595601538,
          15.959998811516826,
          13.131036704581424,
          11.381355608752369,
          9.659101890379619,
          8.264559532874742,
          8.170554707120631,
          6.292320781183779,
          6.6145504829208575
         ]
        },
        {
         "fill": "toself",
         "fillcolor": "#800080",
         "hoverinfo": "skip",
         "legendgroup": "image",
         "line": {
          "color": "#800080"
         },
         "name": "image",
         "opacity": 0.32,
         "showlegend": false,
         "type": "scatter",
         "x": [
          0,
          1,
          2,
          3,
          4,
          5,
          6,
          7,
          8,
          9,
          10,
          11,
          12,
          13,
          13,
          12,
          11,
          10,
          9,
          8,
          7,
          6,
          5,
          4,
          3,
          2,
          1,
          0
         ],
         "y": [
          36.521429701915515,
          27.40829500118769,
          22.20459703797698,
          21.54842578672931,
          18.809839857412907,
          17.974366394662418,
          16.87178152145702,
          14.843597347326982,
          12.851125057399296,
          10.795892998718815,
          9.973817619796096,
          9.428975311021139,
          6.534368831383394,
          7.053325683931495,
          6.17577528191022,
          6.050272730984164,
          6.912134103220124,
          6.555301445953388,
          8.522310782040423,
          9.911586160105442,
          11.418476061835866,
          15.048216101576633,
          15.585376796540656,
          16.509084492286615,
          18.68065875284892,
          20.60854010868956,
          25.204890057891866,
          32.533150854154336
         ]
        }
       ],
       "layout": {
        "font": {
         "family": "Libertinus Serif",
         "size": 22
        },
        "height": 400,
        "hovermode": "x",
        "legend": {
         "orientation": "h",
         "x": 0.5,
         "xanchor": "center",
         "y": 1.05,
         "yanchor": "bottom"
        },
        "margin": {
         "b": 0,
         "l": 0,
         "r": 0,
         "t": 0
        },
        "template": {
         "data": {
          "bar": [
           {
            "error_x": {
             "color": "#2a3f5f"
            },
            "error_y": {
             "color": "#2a3f5f"
            },
            "marker": {
             "line": {
              "color": "white",
              "width": 0.5
             },
             "pattern": {
              "fillmode": "overlay",
              "size": 10,
              "solidity": 0.2
             }
            },
            "type": "bar"
           }
          ],
          "barpolar": [
           {
            "marker": {
             "line": {
              "color": "white",
              "width": 0.5
             },
             "pattern": {
              "fillmode": "overlay",
              "size": 10,
              "solidity": 0.2
             }
            },
            "type": "barpolar"
           }
          ],
          "carpet": [
           {
            "aaxis": {
             "endlinecolor": "#2a3f5f",
             "gridcolor": "#C8D4E3",
             "linecolor": "#C8D4E3",
             "minorgridcolor": "#C8D4E3",
             "startlinecolor": "#2a3f5f"
            },
            "baxis": {
             "endlinecolor": "#2a3f5f",
             "gridcolor": "#C8D4E3",
             "linecolor": "#C8D4E3",
             "minorgridcolor": "#C8D4E3",
             "startlinecolor": "#2a3f5f"
            },
            "type": "carpet"
           }
          ],
          "choropleth": [
           {
            "colorbar": {
             "outlinewidth": 0,
             "ticks": ""
            },
            "type": "choropleth"
           }
          ],
          "contour": [
           {
            "colorbar": {
             "outlinewidth": 0,
             "ticks": ""
            },
            "colorscale": [
             [
              0,
              "#0d0887"
             ],
             [
              0.1111111111111111,
              "#46039f"
             ],
             [
              0.2222222222222222,
              "#7201a8"
             ],
             [
              0.3333333333333333,
              "#9c179e"
             ],
             [
              0.4444444444444444,
              "#bd3786"
             ],
             [
              0.5555555555555556,
              "#d8576b"
             ],
             [
              0.6666666666666666,
              "#ed7953"
             ],
             [
              0.7777777777777778,
              "#fb9f3a"
             ],
             [
              0.8888888888888888,
              "#fdca26"
             ],
             [
              1,
              "#f0f921"
             ]
            ],
            "type": "contour"
           }
          ],
          "contourcarpet": [
           {
            "colorbar": {
             "outlinewidth": 0,
             "ticks": ""
            },
            "type": "contourcarpet"
           }
          ],
          "heatmap": [
           {
            "colorbar": {
             "outlinewidth": 0,
             "ticks": ""
            },
            "colorscale": [
             [
              0,
              "#0d0887"
             ],
             [
              0.1111111111111111,
              "#46039f"
             ],
             [
              0.2222222222222222,
              "#7201a8"
             ],
             [
              0.3333333333333333,
              "#9c179e"
             ],
             [
              0.4444444444444444,
              "#bd3786"
             ],
             [
              0.5555555555555556,
              "#d8576b"
             ],
             [
              0.6666666666666666,
              "#ed7953"
             ],
             [
              0.7777777777777778,
              "#fb9f3a"
             ],
             [
              0.8888888888888888,
              "#fdca26"
             ],
             [
              1,
              "#f0f921"
             ]
            ],
            "type": "heatmap"
           }
          ],
          "heatmapgl": [
           {
            "colorbar": {
             "outlinewidth": 0,
             "ticks": ""
            },
            "colorscale": [
             [
              0,
              "#0d0887"
             ],
             [
              0.1111111111111111,
              "#46039f"
             ],
             [
              0.2222222222222222,
              "#7201a8"
             ],
             [
              0.3333333333333333,
              "#9c179e"
             ],
             [
              0.4444444444444444,
              "#bd3786"
             ],
             [
              0.5555555555555556,
              "#d8576b"
             ],
             [
              0.6666666666666666,
              "#ed7953"
             ],
             [
              0.7777777777777778,
              "#fb9f3a"
             ],
             [
              0.8888888888888888,
              "#fdca26"
             ],
             [
              1,
              "#f0f921"
             ]
            ],
            "type": "heatmapgl"
           }
          ],
          "histogram": [
           {
            "marker": {
             "pattern": {
              "fillmode": "overlay",
              "size": 10,
              "solidity": 0.2
             }
            },
            "type": "histogram"
           }
          ],
          "histogram2d": [
           {
            "colorbar": {
             "outlinewidth": 0,
             "ticks": ""
            },
            "colorscale": [
             [
              0,
              "#0d0887"
             ],
             [
              0.1111111111111111,
              "#46039f"
             ],
             [
              0.2222222222222222,
              "#7201a8"
             ],
             [
              0.3333333333333333,
              "#9c179e"
             ],
             [
              0.4444444444444444,
              "#bd3786"
             ],
             [
              0.5555555555555556,
              "#d8576b"
             ],
             [
              0.6666666666666666,
              "#ed7953"
             ],
             [
              0.7777777777777778,
              "#fb9f3a"
             ],
             [
              0.8888888888888888,
              "#fdca26"
             ],
             [
              1,
              "#f0f921"
             ]
            ],
            "type": "histogram2d"
           }
          ],
          "histogram2dcontour": [
           {
            "colorbar": {
             "outlinewidth": 0,
             "ticks": ""
            },
            "colorscale": [
             [
              0,
              "#0d0887"
             ],
             [
              0.1111111111111111,
              "#46039f"
             ],
             [
              0.2222222222222222,
              "#7201a8"
             ],
             [
              0.3333333333333333,
              "#9c179e"
             ],
             [
              0.4444444444444444,
              "#bd3786"
             ],
             [
              0.5555555555555556,
              "#d8576b"
             ],
             [
              0.6666666666666666,
              "#ed7953"
             ],
             [
              0.7777777777777778,
              "#fb9f3a"
             ],
             [
              0.8888888888888888,
              "#fdca26"
             ],
             [
              1,
              "#f0f921"
             ]
            ],
            "type": "histogram2dcontour"
           }
          ],
          "mesh3d": [
           {
            "colorbar": {
             "outlinewidth": 0,
             "ticks": ""
            },
            "type": "mesh3d"
           }
          ],
          "parcoords": [
           {
            "line": {
             "colorbar": {
              "outlinewidth": 0,
              "ticks": ""
             }
            },
            "type": "parcoords"
           }
          ],
          "pie": [
           {
            "automargin": true,
            "type": "pie"
           }
          ],
          "scatter": [
           {
            "fillpattern": {
             "fillmode": "overlay",
             "size": 10,
             "solidity": 0.2
            },
            "type": "scatter"
           }
          ],
          "scatter3d": [
           {
            "line": {
             "colorbar": {
              "outlinewidth": 0,
              "ticks": ""
             }
            },
            "marker": {
             "colorbar": {
              "outlinewidth": 0,
              "ticks": ""
             }
            },
            "type": "scatter3d"
           }
          ],
          "scattercarpet": [
           {
            "marker": {
             "colorbar": {
              "outlinewidth": 0,
              "ticks": ""
             }
            },
            "type": "scattercarpet"
           }
          ],
          "scattergeo": [
           {
            "marker": {
             "colorbar": {
              "outlinewidth": 0,
              "ticks": ""
             }
            },
            "type": "scattergeo"
           }
          ],
          "scattergl": [
           {
            "marker": {
             "colorbar": {
              "outlinewidth": 0,
              "ticks": ""
             }
            },
            "type": "scattergl"
           }
          ],
          "scattermapbox": [
           {
            "marker": {
             "colorbar": {
              "outlinewidth": 0,
              "ticks": ""
             }
            },
            "type": "scattermapbox"
           }
          ],
          "scatterpolar": [
           {
            "marker": {
             "colorbar": {
              "outlinewidth": 0,
              "ticks": ""
             }
            },
            "type": "scatterpolar"
           }
          ],
          "scatterpolargl": [
           {
            "marker": {
             "colorbar": {
              "outlinewidth": 0,
              "ticks": ""
             }
            },
            "type": "scatterpolargl"
           }
          ],
          "scatterternary": [
           {
            "marker": {
             "colorbar": {
              "outlinewidth": 0,
              "ticks": ""
             }
            },
            "type": "scatterternary"
           }
          ],
          "surface": [
           {
            "colorbar": {
             "outlinewidth": 0,
             "ticks": ""
            },
            "colorscale": [
             [
              0,
              "#0d0887"
             ],
             [
              0.1111111111111111,
              "#46039f"
             ],
             [
              0.2222222222222222,
              "#7201a8"
             ],
             [
              0.3333333333333333,
              "#9c179e"
             ],
             [
              0.4444444444444444,
              "#bd3786"
             ],
             [
              0.5555555555555556,
              "#d8576b"
             ],
             [
              0.6666666666666666,
              "#ed7953"
             ],
             [
              0.7777777777777778,
              "#fb9f3a"
             ],
             [
              0.8888888888888888,
              "#fdca26"
             ],
             [
              1,
              "#f0f921"
             ]
            ],
            "type": "surface"
           }
          ],
          "table": [
           {
            "cells": {
             "fill": {
              "color": "#EBF0F8"
             },
             "line": {
              "color": "white"
             }
            },
            "header": {
             "fill": {
              "color": "#C8D4E3"
             },
             "line": {
              "color": "white"
             }
            },
            "type": "table"
           }
          ]
         },
         "layout": {
          "annotationdefaults": {
           "arrowcolor": "#2a3f5f",
           "arrowhead": 0,
           "arrowwidth": 1
          },
          "autotypenumbers": "strict",
          "coloraxis": {
           "colorbar": {
            "outlinewidth": 0,
            "ticks": ""
           }
          },
          "colorscale": {
           "diverging": [
            [
             0,
             "#8e0152"
            ],
            [
             0.1,
             "#c51b7d"
            ],
            [
             0.2,
             "#de77ae"
            ],
            [
             0.3,
             "#f1b6da"
            ],
            [
             0.4,
             "#fde0ef"
            ],
            [
             0.5,
             "#f7f7f7"
            ],
            [
             0.6,
             "#e6f5d0"
            ],
            [
             0.7,
             "#b8e186"
            ],
            [
             0.8,
             "#7fbc41"
            ],
            [
             0.9,
             "#4d9221"
            ],
            [
             1,
             "#276419"
            ]
           ],
           "sequential": [
            [
             0,
             "#0d0887"
            ],
            [
             0.1111111111111111,
             "#46039f"
            ],
            [
             0.2222222222222222,
             "#7201a8"
            ],
            [
             0.3333333333333333,
             "#9c179e"
            ],
            [
             0.4444444444444444,
             "#bd3786"
            ],
            [
             0.5555555555555556,
             "#d8576b"
            ],
            [
             0.6666666666666666,
             "#ed7953"
            ],
            [
             0.7777777777777778,
             "#fb9f3a"
            ],
            [
             0.8888888888888888,
             "#fdca26"
            ],
            [
             1,
             "#f0f921"
            ]
           ],
           "sequentialminus": [
            [
             0,
             "#0d0887"
            ],
            [
             0.1111111111111111,
             "#46039f"
            ],
            [
             0.2222222222222222,
             "#7201a8"
            ],
            [
             0.3333333333333333,
             "#9c179e"
            ],
            [
             0.4444444444444444,
             "#bd3786"
            ],
            [
             0.5555555555555556,
             "#d8576b"
            ],
            [
             0.6666666666666666,
             "#ed7953"
            ],
            [
             0.7777777777777778,
             "#fb9f3a"
            ],
            [
             0.8888888888888888,
             "#fdca26"
            ],
            [
             1,
             "#f0f921"
            ]
           ]
          },
          "colorway": [
           "#636efa",
           "#EF553B",
           "#00cc96",
           "#ab63fa",
           "#FFA15A",
           "#19d3f3",
           "#FF6692",
           "#B6E880",
           "#FF97FF",
           "#FECB52"
          ],
          "font": {
           "color": "#2a3f5f"
          },
          "geo": {
           "bgcolor": "white",
           "lakecolor": "white",
           "landcolor": "white",
           "showlakes": true,
           "showland": true,
           "subunitcolor": "#C8D4E3"
          },
          "hoverlabel": {
           "align": "left"
          },
          "hovermode": "closest",
          "mapbox": {
           "style": "light"
          },
          "paper_bgcolor": "white",
          "plot_bgcolor": "white",
          "polar": {
           "angularaxis": {
            "gridcolor": "#EBF0F8",
            "linecolor": "#EBF0F8",
            "ticks": ""
           },
           "bgcolor": "white",
           "radialaxis": {
            "gridcolor": "#EBF0F8",
            "linecolor": "#EBF0F8",
            "ticks": ""
           }
          },
          "scene": {
           "xaxis": {
            "backgroundcolor": "white",
            "gridcolor": "#DFE8F3",
            "gridwidth": 2,
            "linecolor": "#EBF0F8",
            "showbackground": true,
            "ticks": "",
            "zerolinecolor": "#EBF0F8"
           },
           "yaxis": {
            "backgroundcolor": "white",
            "gridcolor": "#DFE8F3",
            "gridwidth": 2,
            "linecolor": "#EBF0F8",
            "showbackground": true,
            "ticks": "",
            "zerolinecolor": "#EBF0F8"
           },
           "zaxis": {
            "backgroundcolor": "white",
            "gridcolor": "#DFE8F3",
            "gridwidth": 2,
            "linecolor": "#EBF0F8",
            "showbackground": true,
            "ticks": "",
            "zerolinecolor": "#EBF0F8"
           }
          },
          "shapedefaults": {
           "line": {
            "color": "#2a3f5f"
           }
          },
          "ternary": {
           "aaxis": {
            "gridcolor": "#DFE8F3",
            "linecolor": "#A2B1C6",
            "ticks": ""
           },
           "baxis": {
            "gridcolor": "#DFE8F3",
            "linecolor": "#A2B1C6",
            "ticks": ""
           },
           "bgcolor": "white",
           "caxis": {
            "gridcolor": "#DFE8F3",
            "linecolor": "#A2B1C6",
            "ticks": ""
           }
          },
          "title": {
           "x": 0.05
          },
          "xaxis": {
           "automargin": true,
           "gridcolor": "#EBF0F8",
           "linecolor": "#EBF0F8",
           "ticks": "",
           "title": {
            "standoff": 15
           },
           "zerolinecolor": "#EBF0F8",
           "zerolinewidth": 2
          },
          "yaxis": {
           "automargin": true,
           "gridcolor": "#EBF0F8",
           "linecolor": "#EBF0F8",
           "ticks": "",
           "title": {
            "standoff": 15
           },
           "zerolinecolor": "#EBF0F8",
           "zerolinewidth": 2
          }
         }
        },
        "title": {
         "x": 0.5
        },
        "width": 1000,
        "xaxis": {
         "hoverformat": ".1f",
         "tickmode": "array",
         "ticktext": [
          1,
          3,
          5,
          7,
          9,
          11,
          13
         ],
         "tickvals": [
          0,
          2,
          4,
          6,
          8,
          10,
          12
         ],
         "title": {
          "text": "<b><i>n</i> (# pigs)</b>"
         }
        },
        "yaxis": {
         "title": {
          "text": "<b>ASD</b>"
         }
        }
       }
      },
      "text/html": [
       "<div>                            <div id=\"13167ae8-d9dc-4b37-b628-33811a71a723\" class=\"plotly-graph-div\" style=\"height:400px; width:1000px;\"></div>            <script type=\"text/javascript\">                require([\"plotly\"], function(Plotly) {                    window.PLOTLYENV=window.PLOTLYENV || {};                                    if (document.getElementById(\"13167ae8-d9dc-4b37-b628-33811a71a723\")) {                    Plotly.newPlot(                        \"13167ae8-d9dc-4b37-b628-33811a71a723\",                        [{\"hovertemplate\":\"wavelength: %{x:.1f}<br>normalized reflectance: %{y:.5f}<br>standard deviation: %{text:.5f}\",\"legendgroup\":\"pixel\",\"line\":{\"color\":\"#FF8C00\"},\"name\":\"pixel\",\"text\":[1.8858291076760223,1.3311587587164797,1.4296377207885447,0.8952208853914023,1.2314459868692562,0.5461320048539487,1.0101735311323192,0.5130140452789322,0.6610711131504007,0.35628348249460456,1.1652329835565303,0.35597127532176753,0.3908453407811416,0.16847175978320522],\"x\":[0,1,2,3,4,5,6,7,8,9,10,11,12,13],\"y\":[56.903083401354124,52.919160763207195,51.64172763535513,49.7899121002471,49.640295902633646,47.946671053316585,48.15587147270959,47.667729162049596,47.183143742322606,45.17129564117153,46.82099781017523,45.37565160906975,45.177197272985104,44.619168802218326],\"type\":\"scatter\"},{\"fill\":\"toself\",\"fillcolor\":\"#FF8C00\",\"hoverinfo\":\"skip\",\"legendgroup\":\"pixel\",\"line\":{\"color\":\"#FF8C00\"},\"name\":\"pixel\",\"opacity\":0.32,\"showlegend\":false,\"x\":[0,1,2,3,4,5,6,7,8,9,10,11,12,13,13,12,11,10,9,8,7,6,5,4,3,2,1,0],\"y\":[58.78891250903015,54.25031952192367,53.07136535614367,50.685132985638504,50.8717418895029,48.49280305817054,49.16604500384191,48.180743207328526,47.844214855473005,45.527579123666136,47.98623079373176,45.73162288439152,45.568042613766245,44.78764056200153,44.450697042435124,44.786351932203964,45.01968033374798,45.6557648266187,44.81501215867693,46.52207262917221,47.15471511677067,47.145697941577275,47.40053904846263,48.40884991576439,48.8946912148557,50.21208991456659,51.58800200449072,55.0172542936781],\"type\":\"scatter\"},{\"hovertemplate\":\"wavelength: %{x:.1f}<br>normalized reflectance: %{y:.5f}<br>standard deviation: %{text:.5f}\",\"legendgroup\":\"superpixel\",\"line\":{\"color\":\"#E6003D\"},\"name\":\"superpixel\",\"text\":[1.7256641960351844,1.123927125452349,0.7312332474207837,0.8523621202884696,1.1732453247342387,0.9454950858323862,0.31874045783367344,0.9493265235560984,1.398589319900965,1.4807314746966302,1.1515254831863302,1.1449434078639902,0.6467319002503235,0.5455682768373076],\"x\":[0,1,2,3,4,5,6,7,8,9,10,11,12,13],\"y\":[37.370463112109306,33.878825560922316,29.768186088827424,28.061505627759708,24.908371066330513,23.7192230778885,23.330551896265053,21.849588206511168,20.31660777176962,18.983321314193482,17.34267972207575,17.14400141553449,16.77861933618967,16.239273830001757],\"type\":\"scatter\"},{\"fill\":\"toself\",\"fillcolor\":\"#E6003D\",\"hoverinfo\":\"skip\",\"legendgroup\":\"superpixel\",\"line\":{\"color\":\"#E6003D\"},\"name\":\"superpixel\",\"opacity\":0.32,\"showlegend\":false,\"x\":[0,1,2,3,4,5,6,7,8,9,10,11,12,13,13,12,11,10,9,8,7,6,5,4,3,2,1,0],\"y\":[39.09612730814449,35.00275268637466,30.499419336248206,28.913867748048176,26.081616391064752,24.664718163720888,23.649292354098726,22.798914730067267,21.715197091670582,20.46405278889011,18.49420520526208,18.28894482339848,17.425351236439994,16.784842106839065,15.693705553164449,16.131887435939348,15.999058007670499,16.19115423888942,17.502589839496853,18.918018451868654,20.90026168295507,23.01181143843138,22.773727992056113,23.735125741596274,27.20914350747124,29.03695284140664,32.75489843546997,35.64479891607412],\"type\":\"scatter\"},{\"hovertemplate\":\"wavelength: %{x:.1f}<br>normalized reflectance: %{y:.5f}<br>standard deviation: %{text:.5f}\",\"legendgroup\":\"patch_32\",\"line\":{\"color\":\"#4169E1\"},\"name\":\"patch_32\",\"text\":[1.3435267605200087,1.3644955377202346,0.5403083267049461,0.5805038174813242,1.3852626872349167,1.2301772017792862,0.7350228869309324,1.1849102311470754,1.4162105461913883,1.1460178905461458,1.1200879150602354,1.246141711539948,0.21211597028953832,0.6969705076838073],\"x\":[0,1,2,3,4,5,6,7,8,9,10,11,12,13],\"y\":[39.580597540188904,32.846510311396635,28.257255429783232,26.382538847865117,23.505550167689684,21.38410086485481,21.209497782229022,19.08574780515757,18.60767598879216,16.39900639367373,14.763119031162535,15.85677019996424,13.414638967842098,14.586269421643966],\"type\":\"scatter\"},{\"fill\":\"toself\",\"fillcolor\":\"#4169E1\",\"hoverinfo\":\"skip\",\"legendgroup\":\"patch_32\",\"line\":{\"color\":\"#4169E1\"},\"name\":\"patch_32\",\"opacity\":0.32,\"showlegend\":false,\"x\":[0,1,2,3,4,5,6,7,8,9,10,11,12,13,13,12,11,10,9,8,7,6,5,4,3,2,1,0],\"y\":[40.92412430070891,34.21100584911687,28.797563756488177,26.963042665346443,24.8908128549246,22.614278066634096,21.944520669159953,20.270658036304646,20.023886534983546,17.545024284219878,15.88320694622277,17.102911911504187,13.626754938131636,15.283239929327774,13.889298913960157,13.20252299755256,14.610628488424291,13.6430311161023,15.252988503127584,17.191465442600773,17.900837574010495,20.47447489529809,20.15392366307552,22.120287480454767,25.80203503038379,27.716947103078287,31.4820147736764,38.2370707796689],\"type\":\"scatter\"},{\"hovertemplate\":\"wavelength: %{x:.1f}<br>normalized reflectance: %{y:.5f}<br>standard deviation: %{text:.5f}\",\"legendgroup\":\"patch_64\",\"line\":{\"color\":\"#808000\"},\"name\":\"patch_64\",\"text\":[1.7271220079717648,1.2395123040933231,0.9123444527140743,1.1035995289598506,1.2576938937307738,0.9678809229791233,0.8557634795056995,1.2566269504055099,1.1574419739014838,1.5561202081639767,0.9895462687372829,1.5033290866320552,0.6864859725787834,0.34522780834271355],\"x\":[0,1,2,3,4,5,6,7,8,9,10,11,12,13],\"y\":[41.04485371807016,34.31094694153014,26.86656893543519,25.0402570218071,23.852307628420295,19.726433235028672,20.0666990744838,19.123496027560304,15.92170887814459,15.035929047306528,14.893538215624787,15.690699811220659,15.711009817311222,12.853708657837668],\"type\":\"scatter\"},{\"fill\":\"toself\",\"fillcolor\":\"#808000\",\"hoverinfo\":\"skip\",\"legendgroup\":\"patch_64\",\"line\":{\"color\":\"#808000\"},\"name\":\"patch_64\",\"opacity\":0.32,\"showlegend\":false,\"x\":[0,1,2,3,4,5,6,7,8,9,10,11,12,13,13,12,11,10,9,8,7,6,5,4,3,2,1,0],\"y\":[42.77197572604192,35.550459245623465,27.778913388149263,26.14385655076695,25.11000152215107,20.694314158007796,20.9224625539895,20.380122977965815,17.079150852046073,16.592049255470506,15.883084484362069,17.194028897852714,16.397495789890005,13.198936466180381,12.508480849494955,15.024523844732439,14.187370724588604,13.903991946887505,13.479808839142551,14.764266904243106,17.866869077154792,19.2109355949781,18.75855231204955,22.59461373468952,23.93665749284725,25.954224482721116,33.071434637436816,39.31773171009839],\"type\":\"scatter\"},{\"hovertemplate\":\"wavelength: %{x:.1f}<br>normalized reflectance: %{y:.5f}<br>standard deviation: %{text:.5f}\",\"legendgroup\":\"image\",\"line\":{\"color\":\"#800080\"},\"name\":\"image\",\"text\":[1.994139423880591,1.1017024716479107,0.7980284646437097,1.4338835169401956,1.1503776825631462,1.1944947990608816,0.9117827099401931,1.7125606427455586,1.4697694486469273,1.1367911083391955,1.7092580869213538,1.2584206039005077,0.24204805019961462,0.43877520101063755],\"x\":[0,1,2,3,4,5,6,7,8,9,10,11,12,13],\"y\":[34.527290278034926,26.306592529539778,21.40656857333327,20.114542269789116,17.65946217484976,16.779871595601538,15.959998811516826,13.131036704581424,11.381355608752369,9.659101890379619,8.264559532874742,8.170554707120631,6.292320781183779,6.6145504829208575],\"type\":\"scatter\"},{\"fill\":\"toself\",\"fillcolor\":\"#800080\",\"hoverinfo\":\"skip\",\"legendgroup\":\"image\",\"line\":{\"color\":\"#800080\"},\"name\":\"image\",\"opacity\":0.32,\"showlegend\":false,\"x\":[0,1,2,3,4,5,6,7,8,9,10,11,12,13,13,12,11,10,9,8,7,6,5,4,3,2,1,0],\"y\":[36.521429701915515,27.40829500118769,22.20459703797698,21.54842578672931,18.809839857412907,17.974366394662418,16.87178152145702,14.843597347326982,12.851125057399296,10.795892998718815,9.973817619796096,9.428975311021139,6.534368831383394,7.053325683931495,6.17577528191022,6.050272730984164,6.912134103220124,6.555301445953388,8.522310782040423,9.911586160105442,11.418476061835866,15.048216101576633,15.585376796540656,16.509084492286615,18.68065875284892,20.60854010868956,25.204890057891866,32.533150854154336],\"type\":\"scatter\"}],                        {\"template\":{\"data\":{\"barpolar\":[{\"marker\":{\"line\":{\"color\":\"white\",\"width\":0.5},\"pattern\":{\"fillmode\":\"overlay\",\"size\":10,\"solidity\":0.2}},\"type\":\"barpolar\"}],\"bar\":[{\"error_x\":{\"color\":\"#2a3f5f\"},\"error_y\":{\"color\":\"#2a3f5f\"},\"marker\":{\"line\":{\"color\":\"white\",\"width\":0.5},\"pattern\":{\"fillmode\":\"overlay\",\"size\":10,\"solidity\":0.2}},\"type\":\"bar\"}],\"carpet\":[{\"aaxis\":{\"endlinecolor\":\"#2a3f5f\",\"gridcolor\":\"#C8D4E3\",\"linecolor\":\"#C8D4E3\",\"minorgridcolor\":\"#C8D4E3\",\"startlinecolor\":\"#2a3f5f\"},\"baxis\":{\"endlinecolor\":\"#2a3f5f\",\"gridcolor\":\"#C8D4E3\",\"linecolor\":\"#C8D4E3\",\"minorgridcolor\":\"#C8D4E3\",\"startlinecolor\":\"#2a3f5f\"},\"type\":\"carpet\"}],\"choropleth\":[{\"colorbar\":{\"outlinewidth\":0,\"ticks\":\"\"},\"type\":\"choropleth\"}],\"contourcarpet\":[{\"colorbar\":{\"outlinewidth\":0,\"ticks\":\"\"},\"type\":\"contourcarpet\"}],\"contour\":[{\"colorbar\":{\"outlinewidth\":0,\"ticks\":\"\"},\"colorscale\":[[0.0,\"#0d0887\"],[0.1111111111111111,\"#46039f\"],[0.2222222222222222,\"#7201a8\"],[0.3333333333333333,\"#9c179e\"],[0.4444444444444444,\"#bd3786\"],[0.5555555555555556,\"#d8576b\"],[0.6666666666666666,\"#ed7953\"],[0.7777777777777778,\"#fb9f3a\"],[0.8888888888888888,\"#fdca26\"],[1.0,\"#f0f921\"]],\"type\":\"contour\"}],\"heatmapgl\":[{\"colorbar\":{\"outlinewidth\":0,\"ticks\":\"\"},\"colorscale\":[[0.0,\"#0d0887\"],[0.1111111111111111,\"#46039f\"],[0.2222222222222222,\"#7201a8\"],[0.3333333333333333,\"#9c179e\"],[0.4444444444444444,\"#bd3786\"],[0.5555555555555556,\"#d8576b\"],[0.6666666666666666,\"#ed7953\"],[0.7777777777777778,\"#fb9f3a\"],[0.8888888888888888,\"#fdca26\"],[1.0,\"#f0f921\"]],\"type\":\"heatmapgl\"}],\"heatmap\":[{\"colorbar\":{\"outlinewidth\":0,\"ticks\":\"\"},\"colorscale\":[[0.0,\"#0d0887\"],[0.1111111111111111,\"#46039f\"],[0.2222222222222222,\"#7201a8\"],[0.3333333333333333,\"#9c179e\"],[0.4444444444444444,\"#bd3786\"],[0.5555555555555556,\"#d8576b\"],[0.6666666666666666,\"#ed7953\"],[0.7777777777777778,\"#fb9f3a\"],[0.8888888888888888,\"#fdca26\"],[1.0,\"#f0f921\"]],\"type\":\"heatmap\"}],\"histogram2dcontour\":[{\"colorbar\":{\"outlinewidth\":0,\"ticks\":\"\"},\"colorscale\":[[0.0,\"#0d0887\"],[0.1111111111111111,\"#46039f\"],[0.2222222222222222,\"#7201a8\"],[0.3333333333333333,\"#9c179e\"],[0.4444444444444444,\"#bd3786\"],[0.5555555555555556,\"#d8576b\"],[0.6666666666666666,\"#ed7953\"],[0.7777777777777778,\"#fb9f3a\"],[0.8888888888888888,\"#fdca26\"],[1.0,\"#f0f921\"]],\"type\":\"histogram2dcontour\"}],\"histogram2d\":[{\"colorbar\":{\"outlinewidth\":0,\"ticks\":\"\"},\"colorscale\":[[0.0,\"#0d0887\"],[0.1111111111111111,\"#46039f\"],[0.2222222222222222,\"#7201a8\"],[0.3333333333333333,\"#9c179e\"],[0.4444444444444444,\"#bd3786\"],[0.5555555555555556,\"#d8576b\"],[0.6666666666666666,\"#ed7953\"],[0.7777777777777778,\"#fb9f3a\"],[0.8888888888888888,\"#fdca26\"],[1.0,\"#f0f921\"]],\"type\":\"histogram2d\"}],\"histogram\":[{\"marker\":{\"pattern\":{\"fillmode\":\"overlay\",\"size\":10,\"solidity\":0.2}},\"type\":\"histogram\"}],\"mesh3d\":[{\"colorbar\":{\"outlinewidth\":0,\"ticks\":\"\"},\"type\":\"mesh3d\"}],\"parcoords\":[{\"line\":{\"colorbar\":{\"outlinewidth\":0,\"ticks\":\"\"}},\"type\":\"parcoords\"}],\"pie\":[{\"automargin\":true,\"type\":\"pie\"}],\"scatter3d\":[{\"line\":{\"colorbar\":{\"outlinewidth\":0,\"ticks\":\"\"}},\"marker\":{\"colorbar\":{\"outlinewidth\":0,\"ticks\":\"\"}},\"type\":\"scatter3d\"}],\"scattercarpet\":[{\"marker\":{\"colorbar\":{\"outlinewidth\":0,\"ticks\":\"\"}},\"type\":\"scattercarpet\"}],\"scattergeo\":[{\"marker\":{\"colorbar\":{\"outlinewidth\":0,\"ticks\":\"\"}},\"type\":\"scattergeo\"}],\"scattergl\":[{\"marker\":{\"colorbar\":{\"outlinewidth\":0,\"ticks\":\"\"}},\"type\":\"scattergl\"}],\"scattermapbox\":[{\"marker\":{\"colorbar\":{\"outlinewidth\":0,\"ticks\":\"\"}},\"type\":\"scattermapbox\"}],\"scatterpolargl\":[{\"marker\":{\"colorbar\":{\"outlinewidth\":0,\"ticks\":\"\"}},\"type\":\"scatterpolargl\"}],\"scatterpolar\":[{\"marker\":{\"colorbar\":{\"outlinewidth\":0,\"ticks\":\"\"}},\"type\":\"scatterpolar\"}],\"scatter\":[{\"fillpattern\":{\"fillmode\":\"overlay\",\"size\":10,\"solidity\":0.2},\"type\":\"scatter\"}],\"scatterternary\":[{\"marker\":{\"colorbar\":{\"outlinewidth\":0,\"ticks\":\"\"}},\"type\":\"scatterternary\"}],\"surface\":[{\"colorbar\":{\"outlinewidth\":0,\"ticks\":\"\"},\"colorscale\":[[0.0,\"#0d0887\"],[0.1111111111111111,\"#46039f\"],[0.2222222222222222,\"#7201a8\"],[0.3333333333333333,\"#9c179e\"],[0.4444444444444444,\"#bd3786\"],[0.5555555555555556,\"#d8576b\"],[0.6666666666666666,\"#ed7953\"],[0.7777777777777778,\"#fb9f3a\"],[0.8888888888888888,\"#fdca26\"],[1.0,\"#f0f921\"]],\"type\":\"surface\"}],\"table\":[{\"cells\":{\"fill\":{\"color\":\"#EBF0F8\"},\"line\":{\"color\":\"white\"}},\"header\":{\"fill\":{\"color\":\"#C8D4E3\"},\"line\":{\"color\":\"white\"}},\"type\":\"table\"}]},\"layout\":{\"annotationdefaults\":{\"arrowcolor\":\"#2a3f5f\",\"arrowhead\":0,\"arrowwidth\":1},\"autotypenumbers\":\"strict\",\"coloraxis\":{\"colorbar\":{\"outlinewidth\":0,\"ticks\":\"\"}},\"colorscale\":{\"diverging\":[[0,\"#8e0152\"],[0.1,\"#c51b7d\"],[0.2,\"#de77ae\"],[0.3,\"#f1b6da\"],[0.4,\"#fde0ef\"],[0.5,\"#f7f7f7\"],[0.6,\"#e6f5d0\"],[0.7,\"#b8e186\"],[0.8,\"#7fbc41\"],[0.9,\"#4d9221\"],[1,\"#276419\"]],\"sequential\":[[0.0,\"#0d0887\"],[0.1111111111111111,\"#46039f\"],[0.2222222222222222,\"#7201a8\"],[0.3333333333333333,\"#9c179e\"],[0.4444444444444444,\"#bd3786\"],[0.5555555555555556,\"#d8576b\"],[0.6666666666666666,\"#ed7953\"],[0.7777777777777778,\"#fb9f3a\"],[0.8888888888888888,\"#fdca26\"],[1.0,\"#f0f921\"]],\"sequentialminus\":[[0.0,\"#0d0887\"],[0.1111111111111111,\"#46039f\"],[0.2222222222222222,\"#7201a8\"],[0.3333333333333333,\"#9c179e\"],[0.4444444444444444,\"#bd3786\"],[0.5555555555555556,\"#d8576b\"],[0.6666666666666666,\"#ed7953\"],[0.7777777777777778,\"#fb9f3a\"],[0.8888888888888888,\"#fdca26\"],[1.0,\"#f0f921\"]]},\"colorway\":[\"#636efa\",\"#EF553B\",\"#00cc96\",\"#ab63fa\",\"#FFA15A\",\"#19d3f3\",\"#FF6692\",\"#B6E880\",\"#FF97FF\",\"#FECB52\"],\"font\":{\"color\":\"#2a3f5f\"},\"geo\":{\"bgcolor\":\"white\",\"lakecolor\":\"white\",\"landcolor\":\"white\",\"showlakes\":true,\"showland\":true,\"subunitcolor\":\"#C8D4E3\"},\"hoverlabel\":{\"align\":\"left\"},\"hovermode\":\"closest\",\"mapbox\":{\"style\":\"light\"},\"paper_bgcolor\":\"white\",\"plot_bgcolor\":\"white\",\"polar\":{\"angularaxis\":{\"gridcolor\":\"#EBF0F8\",\"linecolor\":\"#EBF0F8\",\"ticks\":\"\"},\"bgcolor\":\"white\",\"radialaxis\":{\"gridcolor\":\"#EBF0F8\",\"linecolor\":\"#EBF0F8\",\"ticks\":\"\"}},\"scene\":{\"xaxis\":{\"backgroundcolor\":\"white\",\"gridcolor\":\"#DFE8F3\",\"gridwidth\":2,\"linecolor\":\"#EBF0F8\",\"showbackground\":true,\"ticks\":\"\",\"zerolinecolor\":\"#EBF0F8\"},\"yaxis\":{\"backgroundcolor\":\"white\",\"gridcolor\":\"#DFE8F3\",\"gridwidth\":2,\"linecolor\":\"#EBF0F8\",\"showbackground\":true,\"ticks\":\"\",\"zerolinecolor\":\"#EBF0F8\"},\"zaxis\":{\"backgroundcolor\":\"white\",\"gridcolor\":\"#DFE8F3\",\"gridwidth\":2,\"linecolor\":\"#EBF0F8\",\"showbackground\":true,\"ticks\":\"\",\"zerolinecolor\":\"#EBF0F8\"}},\"shapedefaults\":{\"line\":{\"color\":\"#2a3f5f\"}},\"ternary\":{\"aaxis\":{\"gridcolor\":\"#DFE8F3\",\"linecolor\":\"#A2B1C6\",\"ticks\":\"\"},\"baxis\":{\"gridcolor\":\"#DFE8F3\",\"linecolor\":\"#A2B1C6\",\"ticks\":\"\"},\"bgcolor\":\"white\",\"caxis\":{\"gridcolor\":\"#DFE8F3\",\"linecolor\":\"#A2B1C6\",\"ticks\":\"\"}},\"title\":{\"x\":0.05},\"xaxis\":{\"automargin\":true,\"gridcolor\":\"#EBF0F8\",\"linecolor\":\"#EBF0F8\",\"ticks\":\"\",\"title\":{\"standoff\":15},\"zerolinecolor\":\"#EBF0F8\",\"zerolinewidth\":2},\"yaxis\":{\"automargin\":true,\"gridcolor\":\"#EBF0F8\",\"linecolor\":\"#EBF0F8\",\"ticks\":\"\",\"title\":{\"standoff\":15},\"zerolinecolor\":\"#EBF0F8\",\"zerolinewidth\":2}}},\"hovermode\":\"x\",\"xaxis\":{\"hoverformat\":\".1f\",\"title\":{\"text\":\"<b><i>n</i> (# pigs)</b>\"},\"tickmode\":\"array\",\"tickvals\":[0,2,4,6,8,10,12],\"ticktext\":[1,3,5,7,9,11,13]},\"title\":{\"x\":0.5},\"yaxis\":{\"title\":{\"text\":\"<b>ASD</b>\"}},\"font\":{\"family\":\"Libertinus Serif\",\"size\":22},\"margin\":{\"l\":0,\"r\":0,\"b\":0,\"t\":0},\"legend\":{\"orientation\":\"h\",\"yanchor\":\"bottom\",\"y\":1.05,\"xanchor\":\"center\",\"x\":0.5},\"width\":1000,\"height\":400},                        {\"responsive\": true}                    ).then(function(){\n",
       "                            \n",
       "var gd = document.getElementById('13167ae8-d9dc-4b37-b628-33811a71a723');\n",
       "var x = new MutationObserver(function (mutations, observer) {{\n",
       "        var display = window.getComputedStyle(gd).display;\n",
       "        if (!display || display === 'none') {{\n",
       "            console.log([gd, 'removed!']);\n",
       "            Plotly.purge(gd);\n",
       "            observer.disconnect();\n",
       "        }}\n",
       "}});\n",
       "\n",
       "// Listen for the removal of the full notebook cells\n",
       "var notebookContainer = gd.closest('#notebook-container');\n",
       "if (notebookContainer) {{\n",
       "    x.observe(notebookContainer, {childList: true});\n",
       "}}\n",
       "\n",
       "// Listen for the clearing of the current output cell\n",
       "var outputEl = gd.closest('.output');\n",
       "if (outputEl) {{\n",
       "    x.observe(outputEl, {childList: true});\n",
       "}}\n",
       "\n",
       "                        })                };                });            </script>        </div>"
      ]
     },
     "metadata": {},
     "output_type": "display_data"
    }
   ],
   "source": [
    "# NBVAL_IGNORE_OUTPUT\n",
    "plot_metric(\"surface_distance_metric\", \"ASD\")"
   ]
  },
  {
   "cell_type": "code",
   "execution_count": 4,
   "id": "cf62b622",
   "metadata": {},
   "outputs": [
    {
     "data": {
      "application/vnd.jupyter.widget-view+json": {
       "model_id": "3c6e4d9ea1a545ccb72e2140c304bdfc",
       "version_major": 2,
       "version_minor": 0
      },
      "text/plain": [
       "Output()"
      ]
     },
     "metadata": {},
     "output_type": "display_data"
    },
    {
     "data": {
      "text/html": [
       "<pre style=\"white-space:pre;overflow-x:auto;line-height:normal;font-family:Menlo,'DejaVu Sans Mono',consolas,'Courier New',monospace\"></pre>\n"
      ],
      "text/plain": []
     },
     "metadata": {},
     "output_type": "display_data"
    },
    {
     "data": {
      "text/html": [
       "<pre style=\"white-space:pre;overflow-x:auto;line-height:normal;font-family:Menlo,'DejaVu Sans Mono',consolas,'Courier New',monospace\">\n",
       "</pre>\n"
      ],
      "text/plain": [
       "\n"
      ]
     },
     "metadata": {},
     "output_type": "display_data"
    },
    {
     "data": {
      "application/vnd.plotly.v1+json": {
       "config": {
        "plotlyServerURL": "https://plot.ly"
       },
       "data": [
        {
         "hovertemplate": "wavelength: %{x:.1f}<br>normalized reflectance: %{y:.5f}<br>standard deviation: %{text:.5f}",
         "legendgroup": "pixel",
         "line": {
          "color": "#FF8C00"
         },
         "name": "pixel",
         "text": [
          0.008229196806610576,
          0.006960549569206795,
          0.00791866708459814,
          0.0033439385556107096,
          0.010852320852394686,
          0.0026011593000020484,
          0.006338351143546838,
          0.0030135839367749612,
          0.005585955788052574,
          0.006742244766369176,
          0.007049467423936642,
          0.0022820668563230443,
          0.002815733301436885,
          0.0019890798693686794
         ],
         "type": "scatter",
         "x": [
          0,
          1,
          2,
          3,
          4,
          5,
          6,
          7,
          8,
          9,
          10,
          11,
          12,
          13
         ],
         "y": [
          0.3235334427402281,
          0.36014774787286385,
          0.37516863841812587,
          0.3969424499809432,
          0.39189700228583557,
          0.4098745544204398,
          0.4153814566976134,
          0.4202027884639639,
          0.42239680199899754,
          0.4306453823104639,
          0.4238617226716908,
          0.43607465492605363,
          0.43457706025210563,
          0.4374530757837314
         ]
        },
        {
         "fill": "toself",
         "fillcolor": "#FF8C00",
         "hoverinfo": "skip",
         "legendgroup": "pixel",
         "line": {
          "color": "#FF8C00"
         },
         "name": "pixel",
         "opacity": 0.32,
         "showlegend": false,
         "type": "scatter",
         "x": [
          0,
          1,
          2,
          3,
          4,
          5,
          6,
          7,
          8,
          9,
          10,
          11,
          12,
          13,
          13,
          12,
          11,
          10,
          9,
          8,
          7,
          6,
          5,
          4,
          3,
          2,
          1,
          0
         ],
         "y": [
          0.33176263954683866,
          0.36710829744207063,
          0.383087305502724,
          0.4002863885365539,
          0.40274932313823025,
          0.41247571372044184,
          0.42171980784116025,
          0.4232163724007389,
          0.42798275778705014,
          0.4373876270768331,
          0.43091119009562745,
          0.43835672178237667,
          0.4373927935535425,
          0.4394421556531001,
          0.4354639959143627,
          0.43176132695066877,
          0.4337925880697306,
          0.41681225524775417,
          0.4239031375440947,
          0.41681084621094494,
          0.41718920452718894,
          0.40904310555406653,
          0.40727339512043775,
          0.3810446814334409,
          0.3935985114253325,
          0.3672499713335277,
          0.3531871983036571,
          0.31530424593361756
         ]
        },
        {
         "hovertemplate": "wavelength: %{x:.1f}<br>normalized reflectance: %{y:.5f}<br>standard deviation: %{text:.5f}",
         "legendgroup": "superpixel",
         "line": {
          "color": "#E6003D"
         },
         "name": "superpixel",
         "text": [
          0.011433210073125057,
          0.011366081511277526,
          0.007384011569713948,
          0.005886910539656511,
          0.008388324261834466,
          0.009128327112457637,
          0.004614007488678779,
          0.003951518279952665,
          0.007397088355157076,
          0.008554402386892255,
          0.007445612607229188,
          0.004699484481464819,
          0.0030891682516706286,
          0.004853774054498681
         ],
         "type": "scatter",
         "x": [
          0,
          1,
          2,
          3,
          4,
          5,
          6,
          7,
          8,
          9,
          10,
          11,
          12,
          13
         ],
         "y": [
          0.4840884898104817,
          0.5088340692307768,
          0.5464077907319431,
          0.5714947990023196,
          0.589496942291372,
          0.6006845960970699,
          0.6051165602447209,
          0.6209385504735521,
          0.6302371591714311,
          0.6369497769786234,
          0.6478929671654348,
          0.6487888649876095,
          0.6495090820164108,
          0.6561825907924825
         ]
        },
        {
         "fill": "toself",
         "fillcolor": "#E6003D",
         "hoverinfo": "skip",
         "legendgroup": "superpixel",
         "line": {
          "color": "#E6003D"
         },
         "name": "superpixel",
         "opacity": 0.32,
         "showlegend": false,
         "type": "scatter",
         "x": [
          0,
          1,
          2,
          3,
          4,
          5,
          6,
          7,
          8,
          9,
          10,
          11,
          12,
          13,
          13,
          12,
          11,
          10,
          9,
          8,
          7,
          6,
          5,
          4,
          3,
          2,
          1,
          0
         ],
         "y": [
          0.4955216998836067,
          0.5202001507420543,
          0.553791802301657,
          0.5773817095419761,
          0.5978852665532064,
          0.6098129232095275,
          0.6097305677333997,
          0.6248900687535047,
          0.6376342475265881,
          0.6455041793655156,
          0.655338579772664,
          0.6534883494690743,
          0.6525982502680814,
          0.6610363648469813,
          0.6513288167379838,
          0.6464199137647402,
          0.6440893805061446,
          0.6404473545582056,
          0.6283953745917312,
          0.622840070816274,
          0.6169870321935994,
          0.6005025527560421,
          0.5915562689846123,
          0.5811086180295375,
          0.5656078884626631,
          0.5390237791622292,
          0.49746798771949924,
          0.47265527973735666
         ]
        },
        {
         "hovertemplate": "wavelength: %{x:.1f}<br>normalized reflectance: %{y:.5f}<br>standard deviation: %{text:.5f}",
         "legendgroup": "patch_32",
         "line": {
          "color": "#4169E1"
         },
         "name": "patch_32",
         "text": [
          0.01136655825672809,
          0.019417828727121632,
          0.005935823409992745,
          0.006146156738452463,
          0.013193547886875056,
          0.006468522286266556,
          0.0057807476335319736,
          0.011019656226678805,
          0.010135925781524209,
          0.008755405586691163,
          0.0057030996503979175,
          0.007914766352753747,
          0.003891865392731151,
          0.005462260131334181
         ],
         "type": "scatter",
         "x": [
          0,
          1,
          2,
          3,
          4,
          5,
          6,
          7,
          8,
          9,
          10,
          11,
          12,
          13
         ],
         "y": [
          0.5077969272468174,
          0.5762798294466366,
          0.6339176736676623,
          0.6548461758092389,
          0.6841904408423547,
          0.7089144173607419,
          0.7138130660153674,
          0.7319737004419604,
          0.7415783205909107,
          0.7538900215130326,
          0.7671270446825618,
          0.7630586486302465,
          0.777756006775828,
          0.7788960563159578
         ]
        },
        {
         "fill": "toself",
         "fillcolor": "#4169E1",
         "hoverinfo": "skip",
         "legendgroup": "patch_32",
         "line": {
          "color": "#4169E1"
         },
         "name": "patch_32",
         "opacity": 0.32,
         "showlegend": false,
         "type": "scatter",
         "x": [
          0,
          1,
          2,
          3,
          4,
          5,
          6,
          7,
          8,
          9,
          10,
          11,
          12,
          13,
          13,
          12,
          11,
          10,
          9,
          8,
          7,
          6,
          5,
          4,
          3,
          2,
          1,
          0
         ],
         "y": [
          0.5191634855035454,
          0.5956976581737582,
          0.639853497077655,
          0.6609923325476913,
          0.6973839887292298,
          0.7153829396470085,
          0.7195938136488994,
          0.7429933566686392,
          0.7517142463724349,
          0.7626454270997238,
          0.7728301443329597,
          0.7709734149830003,
          0.7816478721685591,
          0.784358316447292,
          0.7734337961846236,
          0.7738641413830969,
          0.7551438822774927,
          0.7614239450321638,
          0.7451346159263414,
          0.7314423948093864,
          0.7209540442152816,
          0.7080323183818354,
          0.7024458950744753,
          0.6709968929554796,
          0.6487000190707864,
          0.6279818502576695,
          0.556862000719515,
          0.49643036899008924
         ]
        },
        {
         "hovertemplate": "wavelength: %{x:.1f}<br>normalized reflectance: %{y:.5f}<br>standard deviation: %{text:.5f}",
         "legendgroup": "patch_64",
         "line": {
          "color": "#808000"
         },
         "name": "patch_64",
         "text": [
          0.010036642388904901,
          0.015335772180631303,
          0.009051987695450412,
          0.010587004386634367,
          0.00732621102948292,
          0.008114302764256344,
          0.006113096349309185,
          0.009935140879438564,
          0.013175688186351222,
          0.010942012043909969,
          0.006406291517881002,
          0.008089507840969633,
          0.006393218302438745,
          0.0037708805843097467
         ],
         "type": "scatter",
         "x": [
          0,
          1,
          2,
          3,
          4,
          5,
          6,
          7,
          8,
          9,
          10,
          11,
          12,
          13
         ],
         "y": [
          0.5079484806907214,
          0.579471791720443,
          0.6486895448268356,
          0.6739637234717151,
          0.6934729549761379,
          0.7168181787410854,
          0.7225020838928323,
          0.7401883544490646,
          0.7604774161535008,
          0.7674159572362333,
          0.7769497003101288,
          0.7764512520965972,
          0.7754685397901264,
          0.7936698683656669
         ]
        },
        {
         "fill": "toself",
         "fillcolor": "#808000",
         "hoverinfo": "skip",
         "legendgroup": "patch_64",
         "line": {
          "color": "#808000"
         },
         "name": "patch_64",
         "opacity": 0.32,
         "showlegend": false,
         "type": "scatter",
         "x": [
          0,
          1,
          2,
          3,
          4,
          5,
          6,
          7,
          8,
          9,
          10,
          11,
          12,
          13,
          13,
          12,
          11,
          10,
          9,
          8,
          7,
          6,
          5,
          4,
          3,
          2,
          1,
          0
         ],
         "y": [
          0.5179851230796263,
          0.5948075639010744,
          0.6577415325222861,
          0.6845507278583495,
          0.7007991660056209,
          0.7249324815053418,
          0.7286151802421416,
          0.7501234953285032,
          0.773653104339852,
          0.7783579692801433,
          0.7833559918280097,
          0.7845407599375668,
          0.7818617580925652,
          0.7974407489499766,
          0.7898989877813571,
          0.7690753214876876,
          0.7683617442556275,
          0.7705434087922478,
          0.7564739451923234,
          0.7473017279671497,
          0.730253213569626,
          0.7163889875435231,
          0.708703875976829,
          0.686146743946655,
          0.6633767190850807,
          0.6396375571313851,
          0.5641360195398117,
          0.4979118383018165
         ]
        },
        {
         "hovertemplate": "wavelength: %{x:.1f}<br>normalized reflectance: %{y:.5f}<br>standard deviation: %{text:.5f}",
         "legendgroup": "image",
         "line": {
          "color": "#800080"
         },
         "name": "image",
         "text": [
          0.01293994767920022,
          0.015739473785971736,
          0.00893664324711506,
          0.013824347684888785,
          0.01001989301191639,
          0.006130909203812147,
          0.006079212977167283,
          0.01593100152375115,
          0.00960721401302333,
          0.005546318323088486,
          0.00813268192155707,
          0.007776855051719767,
          0.003218562441586101,
          0.0009346408881218597
         ],
         "type": "scatter",
         "x": [
          0,
          1,
          2,
          3,
          4,
          5,
          6,
          7,
          8,
          9,
          10,
          11,
          12,
          13
         ],
         "y": [
          0.5669683304907622,
          0.6514488543358595,
          0.7004215236972484,
          0.7271220210538137,
          0.7470533803650371,
          0.7587964523531407,
          0.7670996715404794,
          0.7862240994827532,
          0.8085725159602866,
          0.818307980570577,
          0.8290355877389712,
          0.8362390849166687,
          0.8456032295358366,
          0.8464205233007377
         ]
        },
        {
         "fill": "toself",
         "fillcolor": "#800080",
         "hoverinfo": "skip",
         "legendgroup": "image",
         "line": {
          "color": "#800080"
         },
         "name": "image",
         "opacity": 0.32,
         "showlegend": false,
         "type": "scatter",
         "x": [
          0,
          1,
          2,
          3,
          4,
          5,
          6,
          7,
          8,
          9,
          10,
          11,
          12,
          13,
          13,
          12,
          11,
          10,
          9,
          8,
          7,
          6,
          5,
          4,
          3,
          2,
          1,
          0
         ],
         "y": [
          0.5799082781699625,
          0.6671883281218313,
          0.7093581669443635,
          0.7409463687387026,
          0.7570732733769535,
          0.7649273615569528,
          0.7731788845176467,
          0.8021551010065043,
          0.8181797299733099,
          0.8238542988936655,
          0.8371682696605283,
          0.8440159399683884,
          0.8488217919774227,
          0.8473551641888596,
          0.8454858824126158,
          0.8423846670942504,
          0.8284622298649489,
          0.8209029058174142,
          0.8127616622474885,
          0.7989653019472632,
          0.770293097959002,
          0.7610204585633121,
          0.7526655431493287,
          0.7370334873531207,
          0.7132976733689249,
          0.6914848804501333,
          0.6357093805498878,
          0.554028382811562
         ]
        }
       ],
       "layout": {
        "font": {
         "family": "Libertinus Serif",
         "size": 22
        },
        "height": 400,
        "hovermode": "x",
        "legend": {
         "orientation": "h",
         "x": 0.5,
         "xanchor": "center",
         "y": 1.05,
         "yanchor": "bottom"
        },
        "margin": {
         "b": 0,
         "l": 0,
         "r": 0,
         "t": 0
        },
        "template": {
         "data": {
          "bar": [
           {
            "error_x": {
             "color": "#2a3f5f"
            },
            "error_y": {
             "color": "#2a3f5f"
            },
            "marker": {
             "line": {
              "color": "white",
              "width": 0.5
             },
             "pattern": {
              "fillmode": "overlay",
              "size": 10,
              "solidity": 0.2
             }
            },
            "type": "bar"
           }
          ],
          "barpolar": [
           {
            "marker": {
             "line": {
              "color": "white",
              "width": 0.5
             },
             "pattern": {
              "fillmode": "overlay",
              "size": 10,
              "solidity": 0.2
             }
            },
            "type": "barpolar"
           }
          ],
          "carpet": [
           {
            "aaxis": {
             "endlinecolor": "#2a3f5f",
             "gridcolor": "#C8D4E3",
             "linecolor": "#C8D4E3",
             "minorgridcolor": "#C8D4E3",
             "startlinecolor": "#2a3f5f"
            },
            "baxis": {
             "endlinecolor": "#2a3f5f",
             "gridcolor": "#C8D4E3",
             "linecolor": "#C8D4E3",
             "minorgridcolor": "#C8D4E3",
             "startlinecolor": "#2a3f5f"
            },
            "type": "carpet"
           }
          ],
          "choropleth": [
           {
            "colorbar": {
             "outlinewidth": 0,
             "ticks": ""
            },
            "type": "choropleth"
           }
          ],
          "contour": [
           {
            "colorbar": {
             "outlinewidth": 0,
             "ticks": ""
            },
            "colorscale": [
             [
              0,
              "#0d0887"
             ],
             [
              0.1111111111111111,
              "#46039f"
             ],
             [
              0.2222222222222222,
              "#7201a8"
             ],
             [
              0.3333333333333333,
              "#9c179e"
             ],
             [
              0.4444444444444444,
              "#bd3786"
             ],
             [
              0.5555555555555556,
              "#d8576b"
             ],
             [
              0.6666666666666666,
              "#ed7953"
             ],
             [
              0.7777777777777778,
              "#fb9f3a"
             ],
             [
              0.8888888888888888,
              "#fdca26"
             ],
             [
              1,
              "#f0f921"
             ]
            ],
            "type": "contour"
           }
          ],
          "contourcarpet": [
           {
            "colorbar": {
             "outlinewidth": 0,
             "ticks": ""
            },
            "type": "contourcarpet"
           }
          ],
          "heatmap": [
           {
            "colorbar": {
             "outlinewidth": 0,
             "ticks": ""
            },
            "colorscale": [
             [
              0,
              "#0d0887"
             ],
             [
              0.1111111111111111,
              "#46039f"
             ],
             [
              0.2222222222222222,
              "#7201a8"
             ],
             [
              0.3333333333333333,
              "#9c179e"
             ],
             [
              0.4444444444444444,
              "#bd3786"
             ],
             [
              0.5555555555555556,
              "#d8576b"
             ],
             [
              0.6666666666666666,
              "#ed7953"
             ],
             [
              0.7777777777777778,
              "#fb9f3a"
             ],
             [
              0.8888888888888888,
              "#fdca26"
             ],
             [
              1,
              "#f0f921"
             ]
            ],
            "type": "heatmap"
           }
          ],
          "heatmapgl": [
           {
            "colorbar": {
             "outlinewidth": 0,
             "ticks": ""
            },
            "colorscale": [
             [
              0,
              "#0d0887"
             ],
             [
              0.1111111111111111,
              "#46039f"
             ],
             [
              0.2222222222222222,
              "#7201a8"
             ],
             [
              0.3333333333333333,
              "#9c179e"
             ],
             [
              0.4444444444444444,
              "#bd3786"
             ],
             [
              0.5555555555555556,
              "#d8576b"
             ],
             [
              0.6666666666666666,
              "#ed7953"
             ],
             [
              0.7777777777777778,
              "#fb9f3a"
             ],
             [
              0.8888888888888888,
              "#fdca26"
             ],
             [
              1,
              "#f0f921"
             ]
            ],
            "type": "heatmapgl"
           }
          ],
          "histogram": [
           {
            "marker": {
             "pattern": {
              "fillmode": "overlay",
              "size": 10,
              "solidity": 0.2
             }
            },
            "type": "histogram"
           }
          ],
          "histogram2d": [
           {
            "colorbar": {
             "outlinewidth": 0,
             "ticks": ""
            },
            "colorscale": [
             [
              0,
              "#0d0887"
             ],
             [
              0.1111111111111111,
              "#46039f"
             ],
             [
              0.2222222222222222,
              "#7201a8"
             ],
             [
              0.3333333333333333,
              "#9c179e"
             ],
             [
              0.4444444444444444,
              "#bd3786"
             ],
             [
              0.5555555555555556,
              "#d8576b"
             ],
             [
              0.6666666666666666,
              "#ed7953"
             ],
             [
              0.7777777777777778,
              "#fb9f3a"
             ],
             [
              0.8888888888888888,
              "#fdca26"
             ],
             [
              1,
              "#f0f921"
             ]
            ],
            "type": "histogram2d"
           }
          ],
          "histogram2dcontour": [
           {
            "colorbar": {
             "outlinewidth": 0,
             "ticks": ""
            },
            "colorscale": [
             [
              0,
              "#0d0887"
             ],
             [
              0.1111111111111111,
              "#46039f"
             ],
             [
              0.2222222222222222,
              "#7201a8"
             ],
             [
              0.3333333333333333,
              "#9c179e"
             ],
             [
              0.4444444444444444,
              "#bd3786"
             ],
             [
              0.5555555555555556,
              "#d8576b"
             ],
             [
              0.6666666666666666,
              "#ed7953"
             ],
             [
              0.7777777777777778,
              "#fb9f3a"
             ],
             [
              0.8888888888888888,
              "#fdca26"
             ],
             [
              1,
              "#f0f921"
             ]
            ],
            "type": "histogram2dcontour"
           }
          ],
          "mesh3d": [
           {
            "colorbar": {
             "outlinewidth": 0,
             "ticks": ""
            },
            "type": "mesh3d"
           }
          ],
          "parcoords": [
           {
            "line": {
             "colorbar": {
              "outlinewidth": 0,
              "ticks": ""
             }
            },
            "type": "parcoords"
           }
          ],
          "pie": [
           {
            "automargin": true,
            "type": "pie"
           }
          ],
          "scatter": [
           {
            "fillpattern": {
             "fillmode": "overlay",
             "size": 10,
             "solidity": 0.2
            },
            "type": "scatter"
           }
          ],
          "scatter3d": [
           {
            "line": {
             "colorbar": {
              "outlinewidth": 0,
              "ticks": ""
             }
            },
            "marker": {
             "colorbar": {
              "outlinewidth": 0,
              "ticks": ""
             }
            },
            "type": "scatter3d"
           }
          ],
          "scattercarpet": [
           {
            "marker": {
             "colorbar": {
              "outlinewidth": 0,
              "ticks": ""
             }
            },
            "type": "scattercarpet"
           }
          ],
          "scattergeo": [
           {
            "marker": {
             "colorbar": {
              "outlinewidth": 0,
              "ticks": ""
             }
            },
            "type": "scattergeo"
           }
          ],
          "scattergl": [
           {
            "marker": {
             "colorbar": {
              "outlinewidth": 0,
              "ticks": ""
             }
            },
            "type": "scattergl"
           }
          ],
          "scattermapbox": [
           {
            "marker": {
             "colorbar": {
              "outlinewidth": 0,
              "ticks": ""
             }
            },
            "type": "scattermapbox"
           }
          ],
          "scatterpolar": [
           {
            "marker": {
             "colorbar": {
              "outlinewidth": 0,
              "ticks": ""
             }
            },
            "type": "scatterpolar"
           }
          ],
          "scatterpolargl": [
           {
            "marker": {
             "colorbar": {
              "outlinewidth": 0,
              "ticks": ""
             }
            },
            "type": "scatterpolargl"
           }
          ],
          "scatterternary": [
           {
            "marker": {
             "colorbar": {
              "outlinewidth": 0,
              "ticks": ""
             }
            },
            "type": "scatterternary"
           }
          ],
          "surface": [
           {
            "colorbar": {
             "outlinewidth": 0,
             "ticks": ""
            },
            "colorscale": [
             [
              0,
              "#0d0887"
             ],
             [
              0.1111111111111111,
              "#46039f"
             ],
             [
              0.2222222222222222,
              "#7201a8"
             ],
             [
              0.3333333333333333,
              "#9c179e"
             ],
             [
              0.4444444444444444,
              "#bd3786"
             ],
             [
              0.5555555555555556,
              "#d8576b"
             ],
             [
              0.6666666666666666,
              "#ed7953"
             ],
             [
              0.7777777777777778,
              "#fb9f3a"
             ],
             [
              0.8888888888888888,
              "#fdca26"
             ],
             [
              1,
              "#f0f921"
             ]
            ],
            "type": "surface"
           }
          ],
          "table": [
           {
            "cells": {
             "fill": {
              "color": "#EBF0F8"
             },
             "line": {
              "color": "white"
             }
            },
            "header": {
             "fill": {
              "color": "#C8D4E3"
             },
             "line": {
              "color": "white"
             }
            },
            "type": "table"
           }
          ]
         },
         "layout": {
          "annotationdefaults": {
           "arrowcolor": "#2a3f5f",
           "arrowhead": 0,
           "arrowwidth": 1
          },
          "autotypenumbers": "strict",
          "coloraxis": {
           "colorbar": {
            "outlinewidth": 0,
            "ticks": ""
           }
          },
          "colorscale": {
           "diverging": [
            [
             0,
             "#8e0152"
            ],
            [
             0.1,
             "#c51b7d"
            ],
            [
             0.2,
             "#de77ae"
            ],
            [
             0.3,
             "#f1b6da"
            ],
            [
             0.4,
             "#fde0ef"
            ],
            [
             0.5,
             "#f7f7f7"
            ],
            [
             0.6,
             "#e6f5d0"
            ],
            [
             0.7,
             "#b8e186"
            ],
            [
             0.8,
             "#7fbc41"
            ],
            [
             0.9,
             "#4d9221"
            ],
            [
             1,
             "#276419"
            ]
           ],
           "sequential": [
            [
             0,
             "#0d0887"
            ],
            [
             0.1111111111111111,
             "#46039f"
            ],
            [
             0.2222222222222222,
             "#7201a8"
            ],
            [
             0.3333333333333333,
             "#9c179e"
            ],
            [
             0.4444444444444444,
             "#bd3786"
            ],
            [
             0.5555555555555556,
             "#d8576b"
            ],
            [
             0.6666666666666666,
             "#ed7953"
            ],
            [
             0.7777777777777778,
             "#fb9f3a"
            ],
            [
             0.8888888888888888,
             "#fdca26"
            ],
            [
             1,
             "#f0f921"
            ]
           ],
           "sequentialminus": [
            [
             0,
             "#0d0887"
            ],
            [
             0.1111111111111111,
             "#46039f"
            ],
            [
             0.2222222222222222,
             "#7201a8"
            ],
            [
             0.3333333333333333,
             "#9c179e"
            ],
            [
             0.4444444444444444,
             "#bd3786"
            ],
            [
             0.5555555555555556,
             "#d8576b"
            ],
            [
             0.6666666666666666,
             "#ed7953"
            ],
            [
             0.7777777777777778,
             "#fb9f3a"
            ],
            [
             0.8888888888888888,
             "#fdca26"
            ],
            [
             1,
             "#f0f921"
            ]
           ]
          },
          "colorway": [
           "#636efa",
           "#EF553B",
           "#00cc96",
           "#ab63fa",
           "#FFA15A",
           "#19d3f3",
           "#FF6692",
           "#B6E880",
           "#FF97FF",
           "#FECB52"
          ],
          "font": {
           "color": "#2a3f5f"
          },
          "geo": {
           "bgcolor": "white",
           "lakecolor": "white",
           "landcolor": "white",
           "showlakes": true,
           "showland": true,
           "subunitcolor": "#C8D4E3"
          },
          "hoverlabel": {
           "align": "left"
          },
          "hovermode": "closest",
          "mapbox": {
           "style": "light"
          },
          "paper_bgcolor": "white",
          "plot_bgcolor": "white",
          "polar": {
           "angularaxis": {
            "gridcolor": "#EBF0F8",
            "linecolor": "#EBF0F8",
            "ticks": ""
           },
           "bgcolor": "white",
           "radialaxis": {
            "gridcolor": "#EBF0F8",
            "linecolor": "#EBF0F8",
            "ticks": ""
           }
          },
          "scene": {
           "xaxis": {
            "backgroundcolor": "white",
            "gridcolor": "#DFE8F3",
            "gridwidth": 2,
            "linecolor": "#EBF0F8",
            "showbackground": true,
            "ticks": "",
            "zerolinecolor": "#EBF0F8"
           },
           "yaxis": {
            "backgroundcolor": "white",
            "gridcolor": "#DFE8F3",
            "gridwidth": 2,
            "linecolor": "#EBF0F8",
            "showbackground": true,
            "ticks": "",
            "zerolinecolor": "#EBF0F8"
           },
           "zaxis": {
            "backgroundcolor": "white",
            "gridcolor": "#DFE8F3",
            "gridwidth": 2,
            "linecolor": "#EBF0F8",
            "showbackground": true,
            "ticks": "",
            "zerolinecolor": "#EBF0F8"
           }
          },
          "shapedefaults": {
           "line": {
            "color": "#2a3f5f"
           }
          },
          "ternary": {
           "aaxis": {
            "gridcolor": "#DFE8F3",
            "linecolor": "#A2B1C6",
            "ticks": ""
           },
           "baxis": {
            "gridcolor": "#DFE8F3",
            "linecolor": "#A2B1C6",
            "ticks": ""
           },
           "bgcolor": "white",
           "caxis": {
            "gridcolor": "#DFE8F3",
            "linecolor": "#A2B1C6",
            "ticks": ""
           }
          },
          "title": {
           "x": 0.05
          },
          "xaxis": {
           "automargin": true,
           "gridcolor": "#EBF0F8",
           "linecolor": "#EBF0F8",
           "ticks": "",
           "title": {
            "standoff": 15
           },
           "zerolinecolor": "#EBF0F8",
           "zerolinewidth": 2
          },
          "yaxis": {
           "automargin": true,
           "gridcolor": "#EBF0F8",
           "linecolor": "#EBF0F8",
           "ticks": "",
           "title": {
            "standoff": 15
           },
           "zerolinecolor": "#EBF0F8",
           "zerolinewidth": 2
          }
         }
        },
        "title": {
         "x": 0.5
        },
        "width": 1000,
        "xaxis": {
         "hoverformat": ".1f",
         "tickmode": "array",
         "ticktext": [
          1,
          3,
          5,
          7,
          9,
          11,
          13
         ],
         "tickvals": [
          0,
          2,
          4,
          6,
          8,
          10,
          12
         ],
         "title": {
          "text": "<b><i>n</i> (# pigs)</b>"
         }
        },
        "yaxis": {
         "title": {
          "text": "<b>NSD</b>"
         }
        }
       }
      },
      "text/html": [
       "<div>                            <div id=\"6a21e5e8-1217-4688-b5d4-97fb212b86b4\" class=\"plotly-graph-div\" style=\"height:400px; width:1000px;\"></div>            <script type=\"text/javascript\">                require([\"plotly\"], function(Plotly) {                    window.PLOTLYENV=window.PLOTLYENV || {};                                    if (document.getElementById(\"6a21e5e8-1217-4688-b5d4-97fb212b86b4\")) {                    Plotly.newPlot(                        \"6a21e5e8-1217-4688-b5d4-97fb212b86b4\",                        [{\"hovertemplate\":\"wavelength: %{x:.1f}<br>normalized reflectance: %{y:.5f}<br>standard deviation: %{text:.5f}\",\"legendgroup\":\"pixel\",\"line\":{\"color\":\"#FF8C00\"},\"name\":\"pixel\",\"text\":[0.008229196806610576,0.006960549569206795,0.00791866708459814,0.0033439385556107096,0.010852320852394686,0.0026011593000020484,0.006338351143546838,0.0030135839367749612,0.005585955788052574,0.006742244766369176,0.007049467423936642,0.0022820668563230443,0.002815733301436885,0.0019890798693686794],\"x\":[0,1,2,3,4,5,6,7,8,9,10,11,12,13],\"y\":[0.3235334427402281,0.36014774787286385,0.37516863841812587,0.3969424499809432,0.39189700228583557,0.4098745544204398,0.4153814566976134,0.4202027884639639,0.42239680199899754,0.4306453823104639,0.4238617226716908,0.43607465492605363,0.43457706025210563,0.4374530757837314],\"type\":\"scatter\"},{\"fill\":\"toself\",\"fillcolor\":\"#FF8C00\",\"hoverinfo\":\"skip\",\"legendgroup\":\"pixel\",\"line\":{\"color\":\"#FF8C00\"},\"name\":\"pixel\",\"opacity\":0.32,\"showlegend\":false,\"x\":[0,1,2,3,4,5,6,7,8,9,10,11,12,13,13,12,11,10,9,8,7,6,5,4,3,2,1,0],\"y\":[0.33176263954683866,0.36710829744207063,0.383087305502724,0.4002863885365539,0.40274932313823025,0.41247571372044184,0.42171980784116025,0.4232163724007389,0.42798275778705014,0.4373876270768331,0.43091119009562745,0.43835672178237667,0.4373927935535425,0.4394421556531001,0.4354639959143627,0.43176132695066877,0.4337925880697306,0.41681225524775417,0.4239031375440947,0.41681084621094494,0.41718920452718894,0.40904310555406653,0.40727339512043775,0.3810446814334409,0.3935985114253325,0.3672499713335277,0.3531871983036571,0.31530424593361756],\"type\":\"scatter\"},{\"hovertemplate\":\"wavelength: %{x:.1f}<br>normalized reflectance: %{y:.5f}<br>standard deviation: %{text:.5f}\",\"legendgroup\":\"superpixel\",\"line\":{\"color\":\"#E6003D\"},\"name\":\"superpixel\",\"text\":[0.011433210073125057,0.011366081511277526,0.007384011569713948,0.005886910539656511,0.008388324261834466,0.009128327112457637,0.004614007488678779,0.003951518279952665,0.007397088355157076,0.008554402386892255,0.007445612607229188,0.004699484481464819,0.0030891682516706286,0.004853774054498681],\"x\":[0,1,2,3,4,5,6,7,8,9,10,11,12,13],\"y\":[0.4840884898104817,0.5088340692307768,0.5464077907319431,0.5714947990023196,0.589496942291372,0.6006845960970699,0.6051165602447209,0.6209385504735521,0.6302371591714311,0.6369497769786234,0.6478929671654348,0.6487888649876095,0.6495090820164108,0.6561825907924825],\"type\":\"scatter\"},{\"fill\":\"toself\",\"fillcolor\":\"#E6003D\",\"hoverinfo\":\"skip\",\"legendgroup\":\"superpixel\",\"line\":{\"color\":\"#E6003D\"},\"name\":\"superpixel\",\"opacity\":0.32,\"showlegend\":false,\"x\":[0,1,2,3,4,5,6,7,8,9,10,11,12,13,13,12,11,10,9,8,7,6,5,4,3,2,1,0],\"y\":[0.4955216998836067,0.5202001507420543,0.553791802301657,0.5773817095419761,0.5978852665532064,0.6098129232095275,0.6097305677333997,0.6248900687535047,0.6376342475265881,0.6455041793655156,0.655338579772664,0.6534883494690743,0.6525982502680814,0.6610363648469813,0.6513288167379838,0.6464199137647402,0.6440893805061446,0.6404473545582056,0.6283953745917312,0.622840070816274,0.6169870321935994,0.6005025527560421,0.5915562689846123,0.5811086180295375,0.5656078884626631,0.5390237791622292,0.49746798771949924,0.47265527973735666],\"type\":\"scatter\"},{\"hovertemplate\":\"wavelength: %{x:.1f}<br>normalized reflectance: %{y:.5f}<br>standard deviation: %{text:.5f}\",\"legendgroup\":\"patch_32\",\"line\":{\"color\":\"#4169E1\"},\"name\":\"patch_32\",\"text\":[0.01136655825672809,0.019417828727121632,0.005935823409992745,0.006146156738452463,0.013193547886875056,0.006468522286266556,0.0057807476335319736,0.011019656226678805,0.010135925781524209,0.008755405586691163,0.0057030996503979175,0.007914766352753747,0.003891865392731151,0.005462260131334181],\"x\":[0,1,2,3,4,5,6,7,8,9,10,11,12,13],\"y\":[0.5077969272468174,0.5762798294466366,0.6339176736676623,0.6548461758092389,0.6841904408423547,0.7089144173607419,0.7138130660153674,0.7319737004419604,0.7415783205909107,0.7538900215130326,0.7671270446825618,0.7630586486302465,0.777756006775828,0.7788960563159578],\"type\":\"scatter\"},{\"fill\":\"toself\",\"fillcolor\":\"#4169E1\",\"hoverinfo\":\"skip\",\"legendgroup\":\"patch_32\",\"line\":{\"color\":\"#4169E1\"},\"name\":\"patch_32\",\"opacity\":0.32,\"showlegend\":false,\"x\":[0,1,2,3,4,5,6,7,8,9,10,11,12,13,13,12,11,10,9,8,7,6,5,4,3,2,1,0],\"y\":[0.5191634855035454,0.5956976581737582,0.639853497077655,0.6609923325476913,0.6973839887292298,0.7153829396470085,0.7195938136488994,0.7429933566686392,0.7517142463724349,0.7626454270997238,0.7728301443329597,0.7709734149830003,0.7816478721685591,0.784358316447292,0.7734337961846236,0.7738641413830969,0.7551438822774927,0.7614239450321638,0.7451346159263414,0.7314423948093864,0.7209540442152816,0.7080323183818354,0.7024458950744753,0.6709968929554796,0.6487000190707864,0.6279818502576695,0.556862000719515,0.49643036899008924],\"type\":\"scatter\"},{\"hovertemplate\":\"wavelength: %{x:.1f}<br>normalized reflectance: %{y:.5f}<br>standard deviation: %{text:.5f}\",\"legendgroup\":\"patch_64\",\"line\":{\"color\":\"#808000\"},\"name\":\"patch_64\",\"text\":[0.010036642388904901,0.015335772180631303,0.009051987695450412,0.010587004386634367,0.00732621102948292,0.008114302764256344,0.006113096349309185,0.009935140879438564,0.013175688186351222,0.010942012043909969,0.006406291517881002,0.008089507840969633,0.006393218302438745,0.0037708805843097467],\"x\":[0,1,2,3,4,5,6,7,8,9,10,11,12,13],\"y\":[0.5079484806907214,0.579471791720443,0.6486895448268356,0.6739637234717151,0.6934729549761379,0.7168181787410854,0.7225020838928323,0.7401883544490646,0.7604774161535008,0.7674159572362333,0.7769497003101288,0.7764512520965972,0.7754685397901264,0.7936698683656669],\"type\":\"scatter\"},{\"fill\":\"toself\",\"fillcolor\":\"#808000\",\"hoverinfo\":\"skip\",\"legendgroup\":\"patch_64\",\"line\":{\"color\":\"#808000\"},\"name\":\"patch_64\",\"opacity\":0.32,\"showlegend\":false,\"x\":[0,1,2,3,4,5,6,7,8,9,10,11,12,13,13,12,11,10,9,8,7,6,5,4,3,2,1,0],\"y\":[0.5179851230796263,0.5948075639010744,0.6577415325222861,0.6845507278583495,0.7007991660056209,0.7249324815053418,0.7286151802421416,0.7501234953285032,0.773653104339852,0.7783579692801433,0.7833559918280097,0.7845407599375668,0.7818617580925652,0.7974407489499766,0.7898989877813571,0.7690753214876876,0.7683617442556275,0.7705434087922478,0.7564739451923234,0.7473017279671497,0.730253213569626,0.7163889875435231,0.708703875976829,0.686146743946655,0.6633767190850807,0.6396375571313851,0.5641360195398117,0.4979118383018165],\"type\":\"scatter\"},{\"hovertemplate\":\"wavelength: %{x:.1f}<br>normalized reflectance: %{y:.5f}<br>standard deviation: %{text:.5f}\",\"legendgroup\":\"image\",\"line\":{\"color\":\"#800080\"},\"name\":\"image\",\"text\":[0.01293994767920022,0.015739473785971736,0.00893664324711506,0.013824347684888785,0.01001989301191639,0.006130909203812147,0.006079212977167283,0.01593100152375115,0.00960721401302333,0.005546318323088486,0.00813268192155707,0.007776855051719767,0.003218562441586101,0.0009346408881218597],\"x\":[0,1,2,3,4,5,6,7,8,9,10,11,12,13],\"y\":[0.5669683304907622,0.6514488543358595,0.7004215236972484,0.7271220210538137,0.7470533803650371,0.7587964523531407,0.7670996715404794,0.7862240994827532,0.8085725159602866,0.818307980570577,0.8290355877389712,0.8362390849166687,0.8456032295358366,0.8464205233007377],\"type\":\"scatter\"},{\"fill\":\"toself\",\"fillcolor\":\"#800080\",\"hoverinfo\":\"skip\",\"legendgroup\":\"image\",\"line\":{\"color\":\"#800080\"},\"name\":\"image\",\"opacity\":0.32,\"showlegend\":false,\"x\":[0,1,2,3,4,5,6,7,8,9,10,11,12,13,13,12,11,10,9,8,7,6,5,4,3,2,1,0],\"y\":[0.5799082781699625,0.6671883281218313,0.7093581669443635,0.7409463687387026,0.7570732733769535,0.7649273615569528,0.7731788845176467,0.8021551010065043,0.8181797299733099,0.8238542988936655,0.8371682696605283,0.8440159399683884,0.8488217919774227,0.8473551641888596,0.8454858824126158,0.8423846670942504,0.8284622298649489,0.8209029058174142,0.8127616622474885,0.7989653019472632,0.770293097959002,0.7610204585633121,0.7526655431493287,0.7370334873531207,0.7132976733689249,0.6914848804501333,0.6357093805498878,0.554028382811562],\"type\":\"scatter\"}],                        {\"template\":{\"data\":{\"barpolar\":[{\"marker\":{\"line\":{\"color\":\"white\",\"width\":0.5},\"pattern\":{\"fillmode\":\"overlay\",\"size\":10,\"solidity\":0.2}},\"type\":\"barpolar\"}],\"bar\":[{\"error_x\":{\"color\":\"#2a3f5f\"},\"error_y\":{\"color\":\"#2a3f5f\"},\"marker\":{\"line\":{\"color\":\"white\",\"width\":0.5},\"pattern\":{\"fillmode\":\"overlay\",\"size\":10,\"solidity\":0.2}},\"type\":\"bar\"}],\"carpet\":[{\"aaxis\":{\"endlinecolor\":\"#2a3f5f\",\"gridcolor\":\"#C8D4E3\",\"linecolor\":\"#C8D4E3\",\"minorgridcolor\":\"#C8D4E3\",\"startlinecolor\":\"#2a3f5f\"},\"baxis\":{\"endlinecolor\":\"#2a3f5f\",\"gridcolor\":\"#C8D4E3\",\"linecolor\":\"#C8D4E3\",\"minorgridcolor\":\"#C8D4E3\",\"startlinecolor\":\"#2a3f5f\"},\"type\":\"carpet\"}],\"choropleth\":[{\"colorbar\":{\"outlinewidth\":0,\"ticks\":\"\"},\"type\":\"choropleth\"}],\"contourcarpet\":[{\"colorbar\":{\"outlinewidth\":0,\"ticks\":\"\"},\"type\":\"contourcarpet\"}],\"contour\":[{\"colorbar\":{\"outlinewidth\":0,\"ticks\":\"\"},\"colorscale\":[[0.0,\"#0d0887\"],[0.1111111111111111,\"#46039f\"],[0.2222222222222222,\"#7201a8\"],[0.3333333333333333,\"#9c179e\"],[0.4444444444444444,\"#bd3786\"],[0.5555555555555556,\"#d8576b\"],[0.6666666666666666,\"#ed7953\"],[0.7777777777777778,\"#fb9f3a\"],[0.8888888888888888,\"#fdca26\"],[1.0,\"#f0f921\"]],\"type\":\"contour\"}],\"heatmapgl\":[{\"colorbar\":{\"outlinewidth\":0,\"ticks\":\"\"},\"colorscale\":[[0.0,\"#0d0887\"],[0.1111111111111111,\"#46039f\"],[0.2222222222222222,\"#7201a8\"],[0.3333333333333333,\"#9c179e\"],[0.4444444444444444,\"#bd3786\"],[0.5555555555555556,\"#d8576b\"],[0.6666666666666666,\"#ed7953\"],[0.7777777777777778,\"#fb9f3a\"],[0.8888888888888888,\"#fdca26\"],[1.0,\"#f0f921\"]],\"type\":\"heatmapgl\"}],\"heatmap\":[{\"colorbar\":{\"outlinewidth\":0,\"ticks\":\"\"},\"colorscale\":[[0.0,\"#0d0887\"],[0.1111111111111111,\"#46039f\"],[0.2222222222222222,\"#7201a8\"],[0.3333333333333333,\"#9c179e\"],[0.4444444444444444,\"#bd3786\"],[0.5555555555555556,\"#d8576b\"],[0.6666666666666666,\"#ed7953\"],[0.7777777777777778,\"#fb9f3a\"],[0.8888888888888888,\"#fdca26\"],[1.0,\"#f0f921\"]],\"type\":\"heatmap\"}],\"histogram2dcontour\":[{\"colorbar\":{\"outlinewidth\":0,\"ticks\":\"\"},\"colorscale\":[[0.0,\"#0d0887\"],[0.1111111111111111,\"#46039f\"],[0.2222222222222222,\"#7201a8\"],[0.3333333333333333,\"#9c179e\"],[0.4444444444444444,\"#bd3786\"],[0.5555555555555556,\"#d8576b\"],[0.6666666666666666,\"#ed7953\"],[0.7777777777777778,\"#fb9f3a\"],[0.8888888888888888,\"#fdca26\"],[1.0,\"#f0f921\"]],\"type\":\"histogram2dcontour\"}],\"histogram2d\":[{\"colorbar\":{\"outlinewidth\":0,\"ticks\":\"\"},\"colorscale\":[[0.0,\"#0d0887\"],[0.1111111111111111,\"#46039f\"],[0.2222222222222222,\"#7201a8\"],[0.3333333333333333,\"#9c179e\"],[0.4444444444444444,\"#bd3786\"],[0.5555555555555556,\"#d8576b\"],[0.6666666666666666,\"#ed7953\"],[0.7777777777777778,\"#fb9f3a\"],[0.8888888888888888,\"#fdca26\"],[1.0,\"#f0f921\"]],\"type\":\"histogram2d\"}],\"histogram\":[{\"marker\":{\"pattern\":{\"fillmode\":\"overlay\",\"size\":10,\"solidity\":0.2}},\"type\":\"histogram\"}],\"mesh3d\":[{\"colorbar\":{\"outlinewidth\":0,\"ticks\":\"\"},\"type\":\"mesh3d\"}],\"parcoords\":[{\"line\":{\"colorbar\":{\"outlinewidth\":0,\"ticks\":\"\"}},\"type\":\"parcoords\"}],\"pie\":[{\"automargin\":true,\"type\":\"pie\"}],\"scatter3d\":[{\"line\":{\"colorbar\":{\"outlinewidth\":0,\"ticks\":\"\"}},\"marker\":{\"colorbar\":{\"outlinewidth\":0,\"ticks\":\"\"}},\"type\":\"scatter3d\"}],\"scattercarpet\":[{\"marker\":{\"colorbar\":{\"outlinewidth\":0,\"ticks\":\"\"}},\"type\":\"scattercarpet\"}],\"scattergeo\":[{\"marker\":{\"colorbar\":{\"outlinewidth\":0,\"ticks\":\"\"}},\"type\":\"scattergeo\"}],\"scattergl\":[{\"marker\":{\"colorbar\":{\"outlinewidth\":0,\"ticks\":\"\"}},\"type\":\"scattergl\"}],\"scattermapbox\":[{\"marker\":{\"colorbar\":{\"outlinewidth\":0,\"ticks\":\"\"}},\"type\":\"scattermapbox\"}],\"scatterpolargl\":[{\"marker\":{\"colorbar\":{\"outlinewidth\":0,\"ticks\":\"\"}},\"type\":\"scatterpolargl\"}],\"scatterpolar\":[{\"marker\":{\"colorbar\":{\"outlinewidth\":0,\"ticks\":\"\"}},\"type\":\"scatterpolar\"}],\"scatter\":[{\"fillpattern\":{\"fillmode\":\"overlay\",\"size\":10,\"solidity\":0.2},\"type\":\"scatter\"}],\"scatterternary\":[{\"marker\":{\"colorbar\":{\"outlinewidth\":0,\"ticks\":\"\"}},\"type\":\"scatterternary\"}],\"surface\":[{\"colorbar\":{\"outlinewidth\":0,\"ticks\":\"\"},\"colorscale\":[[0.0,\"#0d0887\"],[0.1111111111111111,\"#46039f\"],[0.2222222222222222,\"#7201a8\"],[0.3333333333333333,\"#9c179e\"],[0.4444444444444444,\"#bd3786\"],[0.5555555555555556,\"#d8576b\"],[0.6666666666666666,\"#ed7953\"],[0.7777777777777778,\"#fb9f3a\"],[0.8888888888888888,\"#fdca26\"],[1.0,\"#f0f921\"]],\"type\":\"surface\"}],\"table\":[{\"cells\":{\"fill\":{\"color\":\"#EBF0F8\"},\"line\":{\"color\":\"white\"}},\"header\":{\"fill\":{\"color\":\"#C8D4E3\"},\"line\":{\"color\":\"white\"}},\"type\":\"table\"}]},\"layout\":{\"annotationdefaults\":{\"arrowcolor\":\"#2a3f5f\",\"arrowhead\":0,\"arrowwidth\":1},\"autotypenumbers\":\"strict\",\"coloraxis\":{\"colorbar\":{\"outlinewidth\":0,\"ticks\":\"\"}},\"colorscale\":{\"diverging\":[[0,\"#8e0152\"],[0.1,\"#c51b7d\"],[0.2,\"#de77ae\"],[0.3,\"#f1b6da\"],[0.4,\"#fde0ef\"],[0.5,\"#f7f7f7\"],[0.6,\"#e6f5d0\"],[0.7,\"#b8e186\"],[0.8,\"#7fbc41\"],[0.9,\"#4d9221\"],[1,\"#276419\"]],\"sequential\":[[0.0,\"#0d0887\"],[0.1111111111111111,\"#46039f\"],[0.2222222222222222,\"#7201a8\"],[0.3333333333333333,\"#9c179e\"],[0.4444444444444444,\"#bd3786\"],[0.5555555555555556,\"#d8576b\"],[0.6666666666666666,\"#ed7953\"],[0.7777777777777778,\"#fb9f3a\"],[0.8888888888888888,\"#fdca26\"],[1.0,\"#f0f921\"]],\"sequentialminus\":[[0.0,\"#0d0887\"],[0.1111111111111111,\"#46039f\"],[0.2222222222222222,\"#7201a8\"],[0.3333333333333333,\"#9c179e\"],[0.4444444444444444,\"#bd3786\"],[0.5555555555555556,\"#d8576b\"],[0.6666666666666666,\"#ed7953\"],[0.7777777777777778,\"#fb9f3a\"],[0.8888888888888888,\"#fdca26\"],[1.0,\"#f0f921\"]]},\"colorway\":[\"#636efa\",\"#EF553B\",\"#00cc96\",\"#ab63fa\",\"#FFA15A\",\"#19d3f3\",\"#FF6692\",\"#B6E880\",\"#FF97FF\",\"#FECB52\"],\"font\":{\"color\":\"#2a3f5f\"},\"geo\":{\"bgcolor\":\"white\",\"lakecolor\":\"white\",\"landcolor\":\"white\",\"showlakes\":true,\"showland\":true,\"subunitcolor\":\"#C8D4E3\"},\"hoverlabel\":{\"align\":\"left\"},\"hovermode\":\"closest\",\"mapbox\":{\"style\":\"light\"},\"paper_bgcolor\":\"white\",\"plot_bgcolor\":\"white\",\"polar\":{\"angularaxis\":{\"gridcolor\":\"#EBF0F8\",\"linecolor\":\"#EBF0F8\",\"ticks\":\"\"},\"bgcolor\":\"white\",\"radialaxis\":{\"gridcolor\":\"#EBF0F8\",\"linecolor\":\"#EBF0F8\",\"ticks\":\"\"}},\"scene\":{\"xaxis\":{\"backgroundcolor\":\"white\",\"gridcolor\":\"#DFE8F3\",\"gridwidth\":2,\"linecolor\":\"#EBF0F8\",\"showbackground\":true,\"ticks\":\"\",\"zerolinecolor\":\"#EBF0F8\"},\"yaxis\":{\"backgroundcolor\":\"white\",\"gridcolor\":\"#DFE8F3\",\"gridwidth\":2,\"linecolor\":\"#EBF0F8\",\"showbackground\":true,\"ticks\":\"\",\"zerolinecolor\":\"#EBF0F8\"},\"zaxis\":{\"backgroundcolor\":\"white\",\"gridcolor\":\"#DFE8F3\",\"gridwidth\":2,\"linecolor\":\"#EBF0F8\",\"showbackground\":true,\"ticks\":\"\",\"zerolinecolor\":\"#EBF0F8\"}},\"shapedefaults\":{\"line\":{\"color\":\"#2a3f5f\"}},\"ternary\":{\"aaxis\":{\"gridcolor\":\"#DFE8F3\",\"linecolor\":\"#A2B1C6\",\"ticks\":\"\"},\"baxis\":{\"gridcolor\":\"#DFE8F3\",\"linecolor\":\"#A2B1C6\",\"ticks\":\"\"},\"bgcolor\":\"white\",\"caxis\":{\"gridcolor\":\"#DFE8F3\",\"linecolor\":\"#A2B1C6\",\"ticks\":\"\"}},\"title\":{\"x\":0.05},\"xaxis\":{\"automargin\":true,\"gridcolor\":\"#EBF0F8\",\"linecolor\":\"#EBF0F8\",\"ticks\":\"\",\"title\":{\"standoff\":15},\"zerolinecolor\":\"#EBF0F8\",\"zerolinewidth\":2},\"yaxis\":{\"automargin\":true,\"gridcolor\":\"#EBF0F8\",\"linecolor\":\"#EBF0F8\",\"ticks\":\"\",\"title\":{\"standoff\":15},\"zerolinecolor\":\"#EBF0F8\",\"zerolinewidth\":2}}},\"hovermode\":\"x\",\"xaxis\":{\"hoverformat\":\".1f\",\"title\":{\"text\":\"<b><i>n</i> (# pigs)</b>\"},\"tickmode\":\"array\",\"tickvals\":[0,2,4,6,8,10,12],\"ticktext\":[1,3,5,7,9,11,13]},\"title\":{\"x\":0.5},\"yaxis\":{\"title\":{\"text\":\"<b>NSD</b>\"}},\"font\":{\"family\":\"Libertinus Serif\",\"size\":22},\"margin\":{\"l\":0,\"r\":0,\"b\":0,\"t\":0},\"legend\":{\"orientation\":\"h\",\"yanchor\":\"bottom\",\"y\":1.05,\"xanchor\":\"center\",\"x\":0.5},\"width\":1000,\"height\":400},                        {\"responsive\": true}                    ).then(function(){\n",
       "                            \n",
       "var gd = document.getElementById('6a21e5e8-1217-4688-b5d4-97fb212b86b4');\n",
       "var x = new MutationObserver(function (mutations, observer) {{\n",
       "        var display = window.getComputedStyle(gd).display;\n",
       "        if (!display || display === 'none') {{\n",
       "            console.log([gd, 'removed!']);\n",
       "            Plotly.purge(gd);\n",
       "            observer.disconnect();\n",
       "        }}\n",
       "}});\n",
       "\n",
       "// Listen for the removal of the full notebook cells\n",
       "var notebookContainer = gd.closest('#notebook-container');\n",
       "if (notebookContainer) {{\n",
       "    x.observe(notebookContainer, {childList: true});\n",
       "}}\n",
       "\n",
       "// Listen for the clearing of the current output cell\n",
       "var outputEl = gd.closest('.output');\n",
       "if (outputEl) {{\n",
       "    x.observe(outputEl, {childList: true});\n",
       "}}\n",
       "\n",
       "                        })                };                });            </script>        </div>"
      ]
     },
     "metadata": {},
     "output_type": "display_data"
    }
   ],
   "source": [
    "# NBVAL_IGNORE_OUTPUT\n",
    "plot_metric(settings_seg.nsd_aggregation_short, \"NSD\")"
   ]
  },
  {
   "cell_type": "code",
   "execution_count": null,
   "id": "e5c10d2a-ec67-4ccb-b33f-2dd8d1d26ca3",
   "metadata": {},
   "outputs": [],
   "source": []
  }
 ],
 "metadata": {
  "kernelspec": {
   "display_name": "htc",
   "language": "python",
   "name": "python3"
  },
  "language_info": {
   "codemirror_mode": {
    "name": "ipython",
    "version": 3
   },
   "file_extension": ".py",
   "mimetype": "text/x-python",
   "name": "python",
   "nbconvert_exporter": "python",
   "pygments_lexer": "ipython3",
   "version": "3.10.6"
  },
  "vscode": {
   "interpreter": {
    "hash": "61170b39e877780504190538137489184be539aab65d19cb093e9e0273d7e14b"
   }
  }
 },
 "nbformat": 4,
 "nbformat_minor": 5
}
