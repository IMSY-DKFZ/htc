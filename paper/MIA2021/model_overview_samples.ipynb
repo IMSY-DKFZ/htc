{
 "cells": [
  {
   "cell_type": "code",
   "execution_count": 1,
   "id": "cognitive-framing",
   "metadata": {},
   "outputs": [],
   "source": [
    "%load_ext autoreload\n",
    "%autoreload 2\n",
    "\n",
    "import matplotlib as mpl\n",
    "import numpy as np\n",
    "from skimage.segmentation import mark_boundaries\n",
    "\n",
    "from htc.cpp import map_label_image\n",
    "from htc.evaluation.evaluate_superpixels import EvaluateSuperpixelImage\n",
    "from htc.models.image.DatasetImage import DatasetImage\n",
    "from htc.settings_seg import settings_seg\n",
    "from htc.tivita.DataPath import DataPath\n",
    "from htc.utils.Config import Config"
   ]
  },
  {
   "cell_type": "code",
   "execution_count": 2,
   "id": "perfect-driving",
   "metadata": {},
   "outputs": [],
   "source": [
    "config = Config.load_config(\"default_rgb\", \"superpixel_classification\")\n",
    "config[\"trainer_kwargs/precision\"] = 32\n",
    "sample = DatasetImage([DataPath.from_image_name(\"P058#2020_05_13_17_31_55\")], train=False, config=config)[0]\n",
    "spxs = sample[\"spxs\"].numpy()\n",
    "rgb = sample[\"features\"].numpy()\n",
    "label_mapping = settings_seg.label_mapping\n",
    "label_mapping.label_colors = settings_seg.label_colors_paper\n",
    "\n",
    "eval_spxs = EvaluateSuperpixelImage().evaluate_cpp(sample)\n",
    "seg = map_label_image(sample[\"labels\"], label_mapping).numpy()\n",
    "spx_seg = map_label_image(eval_spxs[\"predictions\"], label_mapping).numpy()"
   ]
  },
  {
   "cell_type": "code",
   "execution_count": 3,
   "id": "fallen-portal",
   "metadata": {},
   "outputs": [],
   "source": [
    "color = mpl.colors.to_rgb(settings_seg.model_colors[\"superpixel_classification\"])\n",
    "mpl.image.imsave(\n",
    "    settings_seg.paper_dir / \"model_overview_spx.png\",\n",
    "    mark_boundaries(seg[:, :, :3], spxs, color=color, outline_color=color, mode=\"outer\"),\n",
    "    vmin=0,\n",
    "    vmax=1,\n",
    ")"
   ]
  },
  {
   "cell_type": "code",
   "execution_count": 4,
   "id": "auburn-telephone",
   "metadata": {},
   "outputs": [],
   "source": [
    "seg_patch = np.zeros((480, 640), dtype=\"int64\")\n",
    "val = 0\n",
    "for i in np.arange(640 // 64):\n",
    "    for j in np.arange(480 // 64 + 1):\n",
    "        seg_patch[j * 64 :, i * 64 : (i + 1) * 64] = val\n",
    "        val += 1\n",
    "\n",
    "color = mpl.colors.to_rgb(settings_seg.model_colors[\"patch_64\"])\n",
    "mpl.image.imsave(\n",
    "    settings_seg.paper_dir / \"model_overview_patch.png\",\n",
    "    mark_boundaries(seg[:, :, :3], seg_patch, color=color, outline_color=color, mode=\"outer\"),\n",
    "    vmin=0,\n",
    "    vmax=1,\n",
    ")\n",
    "\n",
    "color = (0.6, 0.6, 0.6)\n",
    "mpl.image.imsave(\n",
    "    settings_seg.paper_dir / \"model_overview_patch_rgb.png\",\n",
    "    mark_boundaries(rgb, seg_patch, color=color, outline_color=color, mode=\"outer\"),\n",
    "    vmin=0,\n",
    "    vmax=1,\n",
    ")"
   ]
  },
  {
   "cell_type": "code",
   "execution_count": 5,
   "id": "quantitative-curve",
   "metadata": {},
   "outputs": [],
   "source": [
    "seg_pixel = np.zeros((480, 640), dtype=\"int64\")\n",
    "val = 0\n",
    "for i in np.arange(0, 640, 6):\n",
    "    for j in np.arange(0, 480, 6):\n",
    "        seg_pixel[j : j + 6, i : i + 6] = val\n",
    "        val += 1\n",
    "\n",
    "color = mpl.colors.to_rgb(settings_seg.model_colors[\"pixel\"])\n",
    "mpl.image.imsave(\n",
    "    settings_seg.paper_dir / \"model_overview_pixel.png\",\n",
    "    mark_boundaries(seg[:, :, :3], seg_pixel, color=color, mode=\"inner\"),\n",
    "    vmin=0,\n",
    "    vmax=1,\n",
    ")\n",
    "\n",
    "color = (0.6, 0.6, 0.6)\n",
    "mpl.image.imsave(\n",
    "    settings_seg.paper_dir / \"model_overview_pixel_rgb.png\",\n",
    "    np.clip(mark_boundaries(rgb, seg_pixel, color=color, mode=\"subpixel\"), 0, 1),\n",
    "    vmin=0,\n",
    "    vmax=1,\n",
    ")"
   ]
  },
  {
   "cell_type": "code",
   "execution_count": 6,
   "id": "4e5b9ab1-f4bd-48e3-9998-f74cd4e0cd93",
   "metadata": {},
   "outputs": [],
   "source": [
    "mpl.image.imsave(settings_seg.paper_dir / \"model_overview_image.png\", seg)"
   ]
  }
 ],
 "metadata": {
  "kernelspec": {
   "display_name": "Python 3.9.12 ('htc')",
   "language": "python",
   "name": "python3"
  },
  "language_info": {
   "codemirror_mode": {
    "name": "ipython",
    "version": 3
   },
   "file_extension": ".py",
   "mimetype": "text/x-python",
   "name": "python",
   "nbconvert_exporter": "python",
   "pygments_lexer": "ipython3",
   "version": "3.10.6"
  },
  "vscode": {
   "interpreter": {
    "hash": "61170b39e877780504190538137489184be539aab65d19cb093e9e0273d7e14b"
   }
  }
 },
 "nbformat": 4,
 "nbformat_minor": 5
}
