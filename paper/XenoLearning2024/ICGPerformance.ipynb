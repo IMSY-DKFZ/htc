{
 "cells": [
  {
   "cell_type": "code",
   "execution_count": 1,
   "metadata": {},
   "outputs": [],
   "source": [
    "%load_ext autoreload\n",
    "%autoreload 2\n",
    "\n",
    "import plotly.graph_objects as go\n",
    "import plotly.io as pio\n",
    "from plotly.subplots import make_subplots\n",
    "\n",
    "from htc.settings import settings\n",
    "from htc_projects.rat.settings_rat import settings_rat\n",
    "from htc_projects.species.settings_species import settings_species\n",
    "from htc_projects.species.species_evaluation import icg_performance\n",
    "\n",
    "pio.kaleido.scope.mathjax = None"
   ]
  },
  {
   "cell_type": "code",
   "execution_count": 2,
   "metadata": {},
   "outputs": [
    {
     "data": {
      "text/html": [
       "<div>\n",
       "<style scoped>\n",
       "    .dataframe tbody tr th:only-of-type {\n",
       "        vertical-align: middle;\n",
       "    }\n",
       "\n",
       "    .dataframe tbody tr th {\n",
       "        vertical-align: top;\n",
       "    }\n",
       "\n",
       "    .dataframe thead th {\n",
       "        text-align: right;\n",
       "    }\n",
       "</style>\n",
       "<table border=\"1\" class=\"dataframe\">\n",
       "  <thead>\n",
       "    <tr style=\"text-align: right;\">\n",
       "      <th></th>\n",
       "      <th>subject_name</th>\n",
       "      <th>label_index</th>\n",
       "      <th>dice_metric</th>\n",
       "      <th>label_name</th>\n",
       "      <th>network</th>\n",
       "      <th>species</th>\n",
       "    </tr>\n",
       "  </thead>\n",
       "  <tbody>\n",
       "    <tr>\n",
       "      <th>0</th>\n",
       "      <td>P005</td>\n",
       "      <td>1</td>\n",
       "      <td>0.000000</td>\n",
       "      <td>stomach</td>\n",
       "      <td>baseline_pig</td>\n",
       "      <td>pig</td>\n",
       "    </tr>\n",
       "    <tr>\n",
       "      <th>1</th>\n",
       "      <td>P113</td>\n",
       "      <td>1</td>\n",
       "      <td>0.203253</td>\n",
       "      <td>stomach</td>\n",
       "      <td>baseline_pig</td>\n",
       "      <td>pig</td>\n",
       "    </tr>\n",
       "    <tr>\n",
       "      <th>2</th>\n",
       "      <td>P105</td>\n",
       "      <td>1</td>\n",
       "      <td>0.608035</td>\n",
       "      <td>stomach</td>\n",
       "      <td>baseline_pig</td>\n",
       "      <td>pig</td>\n",
       "    </tr>\n",
       "    <tr>\n",
       "      <th>3</th>\n",
       "      <td>P104</td>\n",
       "      <td>1</td>\n",
       "      <td>0.996596</td>\n",
       "      <td>stomach</td>\n",
       "      <td>baseline_pig</td>\n",
       "      <td>pig</td>\n",
       "    </tr>\n",
       "    <tr>\n",
       "      <th>4</th>\n",
       "      <td>P102</td>\n",
       "      <td>1</td>\n",
       "      <td>0.999346</td>\n",
       "      <td>stomach</td>\n",
       "      <td>baseline_pig</td>\n",
       "      <td>pig</td>\n",
       "    </tr>\n",
       "    <tr>\n",
       "      <th>...</th>\n",
       "      <td>...</td>\n",
       "      <td>...</td>\n",
       "      <td>...</td>\n",
       "      <td>...</td>\n",
       "      <td>...</td>\n",
       "      <td>...</td>\n",
       "    </tr>\n",
       "    <tr>\n",
       "      <th>221</th>\n",
       "      <td>R046</td>\n",
       "      <td>11</td>\n",
       "      <td>0.999982</td>\n",
       "      <td>peritoneum</td>\n",
       "      <td>projected-ICG_pig2rat</td>\n",
       "      <td>rat</td>\n",
       "    </tr>\n",
       "    <tr>\n",
       "      <th>222</th>\n",
       "      <td>R044</td>\n",
       "      <td>11</td>\n",
       "      <td>0.906012</td>\n",
       "      <td>peritoneum</td>\n",
       "      <td>projected-ICG_pig2rat</td>\n",
       "      <td>rat</td>\n",
       "    </tr>\n",
       "    <tr>\n",
       "      <th>223</th>\n",
       "      <td>R043</td>\n",
       "      <td>11</td>\n",
       "      <td>0.999922</td>\n",
       "      <td>peritoneum</td>\n",
       "      <td>projected-ICG_pig2rat</td>\n",
       "      <td>rat</td>\n",
       "    </tr>\n",
       "    <tr>\n",
       "      <th>224</th>\n",
       "      <td>R047</td>\n",
       "      <td>11</td>\n",
       "      <td>0.989899</td>\n",
       "      <td>peritoneum</td>\n",
       "      <td>projected-ICG_pig2rat</td>\n",
       "      <td>rat</td>\n",
       "    </tr>\n",
       "    <tr>\n",
       "      <th>225</th>\n",
       "      <td>R048</td>\n",
       "      <td>11</td>\n",
       "      <td>0.999995</td>\n",
       "      <td>peritoneum</td>\n",
       "      <td>projected-ICG_pig2rat</td>\n",
       "      <td>rat</td>\n",
       "    </tr>\n",
       "  </tbody>\n",
       "</table>\n",
       "<p>226 rows × 6 columns</p>\n",
       "</div>"
      ],
      "text/plain": [
       "    subject_name  label_index  dice_metric  label_name                network  \\\n",
       "0           P005            1     0.000000     stomach           baseline_pig   \n",
       "1           P113            1     0.203253     stomach           baseline_pig   \n",
       "2           P105            1     0.608035     stomach           baseline_pig   \n",
       "3           P104            1     0.996596     stomach           baseline_pig   \n",
       "4           P102            1     0.999346     stomach           baseline_pig   \n",
       "..           ...          ...          ...         ...                    ...   \n",
       "221         R046           11     0.999982  peritoneum  projected-ICG_pig2rat   \n",
       "222         R044           11     0.906012  peritoneum  projected-ICG_pig2rat   \n",
       "223         R043           11     0.999922  peritoneum  projected-ICG_pig2rat   \n",
       "224         R047           11     0.989899  peritoneum  projected-ICG_pig2rat   \n",
       "225         R048           11     0.999995  peritoneum  projected-ICG_pig2rat   \n",
       "\n",
       "    species  \n",
       "0       pig  \n",
       "1       pig  \n",
       "2       pig  \n",
       "3       pig  \n",
       "4       pig  \n",
       "..      ...  \n",
       "221     rat  \n",
       "222     rat  \n",
       "223     rat  \n",
       "224     rat  \n",
       "225     rat  \n",
       "\n",
       "[226 rows x 6 columns]"
      ]
     },
     "execution_count": 2,
     "metadata": {},
     "output_type": "execute_result"
    }
   ],
   "source": [
    "df = icg_performance([\n",
    "    settings.training_dir / \"image\" / f\"{settings_species.model_timestamp}_baseline_pig_nested-0-2\",\n",
    "    settings.training_dir / \"image\" / f\"{settings_species.model_timestamp}_baseline_rat_nested-0-2\",\n",
    "    settings.training_dir / \"image\" / f\"{settings_species.model_timestamp}_projected-ICG_rat2pig_nested-0-2\",\n",
    "    settings.training_dir / \"image\" / f\"{settings_species.model_timestamp}_projected-ICG_pig2rat_nested-0-2\",\n",
    "])\n",
    "df"
   ]
  },
  {
   "cell_type": "code",
   "execution_count": 3,
   "metadata": {},
   "outputs": [
    {
     "data": {
      "text/html": [
       "        <script type=\"text/javascript\">\n",
       "        window.PlotlyConfig = {MathJaxConfig: 'local'};\n",
       "        if (window.MathJax && window.MathJax.Hub && window.MathJax.Hub.Config) {window.MathJax.Hub.Config({SVG: {font: \"STIX-Web\"}});}\n",
       "        </script>\n",
       "        <script type=\"module\">import \"https://cdn.plot.ly/plotly-3.0.0.min\"</script>\n",
       "        "
      ]
     },
     "metadata": {},
     "output_type": "display_data"
    },
    {
     "data": {
      "application/vnd.plotly.v1+json": {
       "config": {
        "plotlyServerURL": "https://plot.ly"
       },
       "data": [
        {
         "boxmean": true,
         "boxpoints": "all",
         "hovertext": [
          "P005",
          "P113",
          "P105",
          "P104",
          "P102",
          "P101",
          "P076",
          "P027",
          "P025",
          "P103",
          "P013",
          "P008",
          "P007",
          "P006"
         ],
         "legendgroup": "baseline",
         "marker": {
          "color": "#44AA99"
         },
         "name": "baseline",
         "offsetgroup": "baseline",
         "showlegend": false,
         "text": [
          "stomach",
          "stomach",
          "stomach",
          "stomach",
          "stomach",
          "stomach",
          "stomach",
          "stomach",
          "stomach",
          "stomach",
          "stomach",
          "stomach",
          "stomach",
          "stomach"
         ],
         "type": "box",
         "x": [
          "stomach",
          "stomach",
          "stomach",
          "stomach",
          "stomach",
          "stomach",
          "stomach",
          "stomach",
          "stomach",
          "stomach",
          "stomach",
          "stomach",
          "stomach",
          "stomach"
         ],
         "xaxis": "x",
         "y": {
          "bdata": "AAAAAAAAAADZiZ3YLQTKP+/u7u4EdeM/RERERBzk7z/RRRddpPrvPwAAAEBYA9A/fMVXfHWs4T8AAAAAAAAAAAAAAAAAAAAAmpmZmeWz7z8AAAAAAAAAAAAAAAAAAAAAAAAAAAAAAAAAAAAAAAAAAA==",
          "dtype": "f8"
         },
         "yaxis": "y"
        },
        {
         "boxmean": true,
         "boxpoints": "all",
         "hovertext": [
          "P014",
          "P103",
          "P105",
          "P102",
          "P013",
          "P005",
          "P113",
          "P104",
          "P006",
          "P101",
          "P076"
         ],
         "legendgroup": "baseline",
         "marker": {
          "color": "#44AA99"
         },
         "name": "baseline",
         "offsetgroup": "baseline",
         "showlegend": false,
         "text": [
          "small_bowel",
          "small_bowel",
          "small_bowel",
          "small_bowel",
          "small_bowel",
          "small_bowel",
          "small_bowel",
          "small_bowel",
          "small_bowel",
          "small_bowel",
          "small_bowel"
         ],
         "type": "box",
         "x": [
          "small bowel",
          "small bowel",
          "small bowel",
          "small bowel",
          "small bowel",
          "small bowel",
          "small bowel",
          "small bowel",
          "small bowel",
          "small bowel",
          "small bowel"
         ],
         "xaxis": "x",
         "y": {
          "bdata": "AAAAAAAA8D+rqqqqlCnePwAAAAAAAAAAXkN5DeU1tD8AAAAAAADwPwAAAADB+u8/LW7C/F6KsT8AAAAAAAAAAAAAAAAAAPA/AAAAAAAAAABCHdRBUYB3Pw==",
          "dtype": "f8"
         },
         "yaxis": "y"
        },
        {
         "boxmean": true,
         "boxpoints": "all",
         "hovertext": [
          "P101",
          "P076",
          "P105",
          "P113",
          "P103",
          "P104",
          "P102"
         ],
         "legendgroup": "baseline",
         "marker": {
          "color": "#44AA99"
         },
         "name": "baseline",
         "offsetgroup": "baseline",
         "showlegend": false,
         "text": [
          "colon",
          "colon",
          "colon",
          "colon",
          "colon",
          "colon",
          "colon"
         ],
         "type": "box",
         "x": [
          "colon",
          "colon",
          "colon",
          "colon",
          "colon",
          "colon",
          "colon"
         ],
         "xaxis": "x",
         "y": {
          "bdata": "AAAAAAAA8D8svuIr+pfRPwAAAAAAAPA/27Zt27Sj5z8AAABADw/jP2ZmZma0qe4/n3WDKdrN4D8=",
          "dtype": "f8"
         },
         "yaxis": "y"
        },
        {
         "boxmean": true,
         "boxpoints": "all",
         "hovertext": [
          "P102",
          "P105",
          "P103",
          "P113",
          "P101",
          "P076",
          "P104"
         ],
         "legendgroup": "baseline",
         "marker": {
          "color": "#44AA99"
         },
         "name": "baseline",
         "offsetgroup": "baseline",
         "showlegend": false,
         "text": [
          "liver",
          "liver",
          "liver",
          "liver",
          "liver",
          "liver",
          "liver"
         ],
         "type": "box",
         "x": [
          "liver",
          "liver",
          "liver",
          "liver",
          "liver",
          "liver",
          "liver"
         ],
         "xaxis": "x",
         "y": {
          "bdata": "AAAAAAAAAAAAAAAAAAAAAAAAAAAAAAAAMzMzM6eRHD8AAAAAAAAAAJIkSZKwsDw/AAAAAAAAAAA=",
          "dtype": "f8"
         },
         "yaxis": "y"
        },
        {
         "boxmean": true,
         "boxpoints": "all",
         "hovertext": [
          "P103",
          "P102",
          "P113",
          "P101",
          "P104",
          "P105"
         ],
         "legendgroup": "baseline",
         "marker": {
          "color": "#44AA99"
         },
         "name": "baseline",
         "offsetgroup": "baseline",
         "showlegend": false,
         "text": [
          "pancreas",
          "pancreas",
          "pancreas",
          "pancreas",
          "pancreas",
          "pancreas"
         ],
         "type": "box",
         "x": [
          "pancreas",
          "pancreas",
          "pancreas",
          "pancreas",
          "pancreas",
          "pancreas"
         ],
         "xaxis": "x",
         "y": {
          "bdata": "VVVVVQfw7z+rqqqqnSXgPwAAAAAAAAAAOY7jOI+P6D+rqqqqFzveP1VVVRW8bLA/",
          "dtype": "f8"
         },
         "yaxis": "y"
        },
        {
         "boxmean": true,
         "boxpoints": "all",
         "hovertext": [
          "P104",
          "P005",
          "P113",
          "P105",
          "P103",
          "P101",
          "P102"
         ],
         "legendgroup": "baseline",
         "marker": {
          "color": "#44AA99"
         },
         "name": "baseline",
         "offsetgroup": "baseline",
         "showlegend": false,
         "text": [
          "kidney",
          "kidney",
          "kidney",
          "kidney",
          "kidney",
          "kidney",
          "kidney"
         ],
         "type": "box",
         "x": [
          "kidney",
          "kidney",
          "kidney",
          "kidney",
          "kidney",
          "kidney",
          "kidney"
         ],
         "xaxis": "x",
         "y": {
          "bdata": "VVVV1en74z8AAAAAAADwPwAAAAAAAAAAbtu2bVtf5T+rqqqq5K7RPwAAAAAAAAAAAAAAgAbs1z8=",
          "dtype": "f8"
         },
         "yaxis": "y"
        },
        {
         "boxmean": true,
         "boxpoints": "all",
         "hovertext": [
          "P102",
          "P105",
          "P113",
          "P101",
          "P104",
          "P103"
         ],
         "legendgroup": "baseline",
         "marker": {
          "color": "#44AA99"
         },
         "name": "baseline",
         "offsetgroup": "baseline",
         "showlegend": false,
         "text": [
          "omentum",
          "omentum",
          "omentum",
          "omentum",
          "omentum",
          "omentum"
         ],
         "type": "box",
         "x": [
          "omentum",
          "omentum",
          "omentum",
          "omentum",
          "omentum",
          "omentum"
         ],
         "xaxis": "x",
         "y": {
          "bdata": "AAAAAAAA8D8AAAAAAADwPwAAAIAe8u8/AAAAgNrF7z8AAAAAAADwPwAAAAAAAPA/",
          "dtype": "f8"
         },
         "yaxis": "y"
        },
        {
         "boxmean": true,
         "boxpoints": "all",
         "hovertext": [
          "P101",
          "P105",
          "P104",
          "P102",
          "P103",
          "P076",
          "P113"
         ],
         "legendgroup": "baseline",
         "marker": {
          "color": "#44AA99"
         },
         "name": "baseline",
         "offsetgroup": "baseline",
         "showlegend": false,
         "text": [
          "peritoneum",
          "peritoneum",
          "peritoneum",
          "peritoneum",
          "peritoneum",
          "peritoneum",
          "peritoneum"
         ],
         "type": "box",
         "x": [
          "peritoneum",
          "peritoneum",
          "peritoneum",
          "peritoneum",
          "peritoneum",
          "peritoneum",
          "peritoneum"
         ],
         "xaxis": "x",
         "y": {
          "bdata": "AAAAAAAA8D9u27ZtA9DvP9lkk012bO8/OY7jOLb97z9VVVVVAv/vP+MrvuKT6bM/l5aWlgrT6z8=",
          "dtype": "f8"
         },
         "yaxis": "y"
        },
        {
         "boxmean": true,
         "boxpoints": "all",
         "hovertext": [],
         "legendgroup": "baseline",
         "marker": {
          "color": "#44AA99"
         },
         "name": "baseline",
         "offsetgroup": "baseline",
         "showlegend": false,
         "text": [],
         "type": "box",
         "x": [],
         "xaxis": "x",
         "y": [],
         "yaxis": "y"
        },
        {
         "boxmean": true,
         "boxpoints": "all",
         "hovertext": [],
         "legendgroup": "baseline",
         "marker": {
          "color": "#44AA99"
         },
         "name": "baseline",
         "offsetgroup": "baseline",
         "showlegend": false,
         "text": [],
         "type": "box",
         "x": [],
         "xaxis": "x",
         "y": [],
         "yaxis": "y"
        },
        {
         "boxmean": true,
         "boxpoints": "all",
         "hovertext": [],
         "legendgroup": "baseline",
         "marker": {
          "color": "#44AA99"
         },
         "name": "baseline",
         "offsetgroup": "baseline",
         "showlegend": false,
         "text": [],
         "type": "box",
         "x": [],
         "xaxis": "x",
         "y": [],
         "yaxis": "y"
        },
        {
         "boxmean": true,
         "boxpoints": "all",
         "hovertext": [],
         "legendgroup": "baseline",
         "marker": {
          "color": "#44AA99"
         },
         "name": "baseline",
         "offsetgroup": "baseline",
         "showlegend": false,
         "text": [],
         "type": "box",
         "x": [],
         "xaxis": "x",
         "y": [],
         "yaxis": "y"
        },
        {
         "boxmean": true,
         "boxpoints": "all",
         "hovertext": [],
         "legendgroup": "baseline",
         "marker": {
          "color": "#44AA99"
         },
         "name": "baseline",
         "offsetgroup": "baseline",
         "showlegend": false,
         "text": [],
         "type": "box",
         "x": [],
         "xaxis": "x",
         "y": [],
         "yaxis": "y"
        },
        {
         "boxmean": true,
         "boxpoints": "all",
         "hovertext": [],
         "legendgroup": "baseline",
         "marker": {
          "color": "#44AA99"
         },
         "name": "baseline",
         "offsetgroup": "baseline",
         "showlegend": false,
         "text": [],
         "type": "box",
         "x": [],
         "xaxis": "x",
         "y": [],
         "yaxis": "y"
        },
        {
         "boxmean": true,
         "boxpoints": "all",
         "hovertext": [],
         "legendgroup": "baseline",
         "marker": {
          "color": "#44AA99"
         },
         "name": "baseline",
         "offsetgroup": "baseline",
         "showlegend": false,
         "text": [],
         "type": "box",
         "x": [],
         "xaxis": "x",
         "y": [],
         "yaxis": "y"
        },
        {
         "boxmean": true,
         "boxpoints": "all",
         "hovertext": [],
         "legendgroup": "baseline",
         "marker": {
          "color": "#44AA99"
         },
         "name": "baseline",
         "offsetgroup": "baseline",
         "showlegend": false,
         "text": [],
         "type": "box",
         "x": [],
         "xaxis": "x",
         "y": [],
         "yaxis": "y"
        },
        {
         "boxmean": true,
         "boxpoints": "all",
         "hovertext": [
          "P005",
          "P113",
          "P105",
          "P104",
          "P102",
          "P101",
          "P076",
          "P027",
          "P025",
          "P103",
          "P013",
          "P008",
          "P007",
          "P006"
         ],
         "legendgroup": "xeno-learning",
         "marker": {
          "color": "#b86fdc"
         },
         "name": "xeno-learning",
         "offsetgroup": "xeno-learning",
         "showlegend": false,
         "text": [
          "stomach",
          "stomach",
          "stomach",
          "stomach",
          "stomach",
          "stomach",
          "stomach",
          "stomach",
          "stomach",
          "stomach",
          "stomach",
          "stomach",
          "stomach",
          "stomach"
         ],
         "type": "box",
         "x": [
          "stomach",
          "stomach",
          "stomach",
          "stomach",
          "stomach",
          "stomach",
          "stomach",
          "stomach",
          "stomach",
          "stomach",
          "stomach",
          "stomach",
          "stomach",
          "stomach"
         ],
         "xaxis": "x",
         "y": {
          "bdata": "AAAAAAAAAACKndiJVfHvP+/u7u4c/+8/AAAAAAAA8D/RRRddDO7vPwAAAAAAAPA/AAAAAAAA8D8AAAAAAAAAAAAAAAAAAAAAq6qqqvT67z8AAAAAAAAAAAAAAAAAAAAAAAAAAAAAAAAAAAAAAAAAAA==",
          "dtype": "f8"
         },
         "yaxis": "y"
        },
        {
         "boxmean": true,
         "boxpoints": "all",
         "hovertext": [
          "P014",
          "P103",
          "P105",
          "P102",
          "P013",
          "P005",
          "P113",
          "P104",
          "P006",
          "P101",
          "P076"
         ],
         "legendgroup": "xeno-learning",
         "marker": {
          "color": "#b86fdc"
         },
         "name": "xeno-learning",
         "offsetgroup": "xeno-learning",
         "showlegend": false,
         "text": [
          "small_bowel",
          "small_bowel",
          "small_bowel",
          "small_bowel",
          "small_bowel",
          "small_bowel",
          "small_bowel",
          "small_bowel",
          "small_bowel",
          "small_bowel",
          "small_bowel"
         ],
         "type": "box",
         "x": [
          "small bowel",
          "small bowel",
          "small bowel",
          "small bowel",
          "small bowel",
          "small bowel",
          "small bowel",
          "small bowel",
          "small bowel",
          "small bowel",
          "small bowel"
         ],
         "xaxis": "x",
         "y": {
          "bdata": "AAAAAAAA8D/v7u7uYPfvPwAAAAAAAPA/8xrKa6zw7j8AAAAAAADwP1VVVdW5/O8/mN/V4oZg6z8AAAAAAADwPwAAAAAAAPA/q6qqKhDX7T9mZmZmlvjvPw==",
          "dtype": "f8"
         },
         "yaxis": "y"
        },
        {
         "boxmean": true,
         "boxpoints": "all",
         "hovertext": [
          "P101",
          "P076",
          "P105",
          "P113",
          "P103",
          "P104",
          "P102"
         ],
         "legendgroup": "xeno-learning",
         "marker": {
          "color": "#b86fdc"
         },
         "name": "xeno-learning",
         "offsetgroup": "xeno-learning",
         "showlegend": false,
         "text": [
          "colon",
          "colon",
          "colon",
          "colon",
          "colon",
          "colon",
          "colon"
         ],
         "type": "box",
         "x": [
          "colon",
          "colon",
          "colon",
          "colon",
          "colon",
          "colon",
          "colon"
         ],
         "xaxis": "x",
         "y": {
          "bdata": "AAAAAAAA8D91UAd18MzvP1VVVdWe5+8/AAAAAHyU7z8AAAAAAADwP3d3d3f9/O8/AAAAAFAF7D8=",
          "dtype": "f8"
         },
         "yaxis": "y"
        },
        {
         "boxmean": true,
         "boxpoints": "all",
         "hovertext": [
          "P102",
          "P105",
          "P103",
          "P113",
          "P101",
          "P076",
          "P104"
         ],
         "legendgroup": "xeno-learning",
         "marker": {
          "color": "#b86fdc"
         },
         "name": "xeno-learning",
         "offsetgroup": "xeno-learning",
         "showlegend": false,
         "text": [
          "liver",
          "liver",
          "liver",
          "liver",
          "liver",
          "liver",
          "liver"
         ],
         "type": "box",
         "x": [
          "liver",
          "liver",
          "liver",
          "liver",
          "liver",
          "liver",
          "liver"
         ],
         "xaxis": "x",
         "y": {
          "bdata": "t23btr3/7z9VVVXVBP7vP3Icx3Gs/+8/AAAAAPSx7z8AAAAAAADwPwd1UAdtoOY/AAAAAAAA8D8=",
          "dtype": "f8"
         },
         "yaxis": "y"
        },
        {
         "boxmean": true,
         "boxpoints": "all",
         "hovertext": [
          "P103",
          "P102",
          "P113",
          "P101",
          "P104",
          "P105"
         ],
         "legendgroup": "xeno-learning",
         "marker": {
          "color": "#b86fdc"
         },
         "name": "xeno-learning",
         "offsetgroup": "xeno-learning",
         "showlegend": false,
         "text": [
          "pancreas",
          "pancreas",
          "pancreas",
          "pancreas",
          "pancreas",
          "pancreas"
         ],
         "type": "box",
         "x": [
          "pancreas",
          "pancreas",
          "pancreas",
          "pancreas",
          "pancreas",
          "pancreas"
         ],
         "xaxis": "x",
         "y": {
          "bdata": "AAAAAAAA8D8AAAAAAADwPwAAAMAgAu4/5DiO42fK6D8AAAAAAADwPwAAAIAfAu4/",
          "dtype": "f8"
         },
         "yaxis": "y"
        },
        {
         "boxmean": true,
         "boxpoints": "all",
         "hovertext": [
          "P104",
          "P005",
          "P113",
          "P105",
          "P103",
          "P101",
          "P102"
         ],
         "legendgroup": "xeno-learning",
         "marker": {
          "color": "#b86fdc"
         },
         "name": "xeno-learning",
         "offsetgroup": "xeno-learning",
         "showlegend": false,
         "text": [
          "kidney",
          "kidney",
          "kidney",
          "kidney",
          "kidney",
          "kidney",
          "kidney"
         ],
         "type": "box",
         "x": [
          "kidney",
          "kidney",
          "kidney",
          "kidney",
          "kidney",
          "kidney",
          "kidney"
         ],
         "xaxis": "x",
         "y": {
          "bdata": "q6qqqjjq7z8AAAAAAADwPwAAAAAF6OU/MQzDMPRr7z+O4ziOzf/vP6uqqqq05O8/AAAAAAAA8D8=",
          "dtype": "f8"
         },
         "yaxis": "y"
        },
        {
         "boxmean": true,
         "boxpoints": "all",
         "hovertext": [
          "P102",
          "P105",
          "P113",
          "P101",
          "P104",
          "P103"
         ],
         "legendgroup": "xeno-learning",
         "marker": {
          "color": "#b86fdc"
         },
         "name": "xeno-learning",
         "offsetgroup": "xeno-learning",
         "showlegend": false,
         "text": [
          "omentum",
          "omentum",
          "omentum",
          "omentum",
          "omentum",
          "omentum"
         ],
         "type": "box",
         "x": [
          "omentum",
          "omentum",
          "omentum",
          "omentum",
          "omentum",
          "omentum"
         ],
         "xaxis": "x",
         "y": {
          "bdata": "AAAAAAAA8D8AAAAAAADwPwAAAIAm/O8/AAAAAAAA8D8AAAAAAADwPwAAAAAAAPA/",
          "dtype": "f8"
         },
         "yaxis": "y"
        },
        {
         "boxmean": true,
         "boxpoints": "all",
         "hovertext": [
          "P101",
          "P105",
          "P104",
          "P102",
          "P103",
          "P076",
          "P113"
         ],
         "legendgroup": "xeno-learning",
         "marker": {
          "color": "#b86fdc"
         },
         "name": "xeno-learning",
         "offsetgroup": "xeno-learning",
         "showlegend": false,
         "text": [
          "peritoneum",
          "peritoneum",
          "peritoneum",
          "peritoneum",
          "peritoneum",
          "peritoneum",
          "peritoneum"
         ],
         "type": "box",
         "x": [
          "peritoneum",
          "peritoneum",
          "peritoneum",
          "peritoneum",
          "peritoneum",
          "peritoneum",
          "peritoneum"
         ],
         "xaxis": "x",
         "y": {
          "bdata": "AAAAAAAA8D8AAAAAAADwP4QPPvjg++8/OY7jOGb/7z8AAACAr//vP3zFV3zF/+8/eHh4eMj/7z8=",
          "dtype": "f8"
         },
         "yaxis": "y"
        },
        {
         "boxmean": true,
         "boxpoints": "all",
         "hovertext": [],
         "legendgroup": "xeno-learning",
         "marker": {
          "color": "#b86fdc"
         },
         "name": "xeno-learning",
         "offsetgroup": "xeno-learning",
         "showlegend": false,
         "text": [],
         "type": "box",
         "x": [],
         "xaxis": "x",
         "y": [],
         "yaxis": "y"
        },
        {
         "boxmean": true,
         "boxpoints": "all",
         "hovertext": [],
         "legendgroup": "xeno-learning",
         "marker": {
          "color": "#b86fdc"
         },
         "name": "xeno-learning",
         "offsetgroup": "xeno-learning",
         "showlegend": false,
         "text": [],
         "type": "box",
         "x": [],
         "xaxis": "x",
         "y": [],
         "yaxis": "y"
        },
        {
         "boxmean": true,
         "boxpoints": "all",
         "hovertext": [],
         "legendgroup": "xeno-learning",
         "marker": {
          "color": "#b86fdc"
         },
         "name": "xeno-learning",
         "offsetgroup": "xeno-learning",
         "showlegend": false,
         "text": [],
         "type": "box",
         "x": [],
         "xaxis": "x",
         "y": [],
         "yaxis": "y"
        },
        {
         "boxmean": true,
         "boxpoints": "all",
         "hovertext": [],
         "legendgroup": "xeno-learning",
         "marker": {
          "color": "#b86fdc"
         },
         "name": "xeno-learning",
         "offsetgroup": "xeno-learning",
         "showlegend": false,
         "text": [],
         "type": "box",
         "x": [],
         "xaxis": "x",
         "y": [],
         "yaxis": "y"
        },
        {
         "boxmean": true,
         "boxpoints": "all",
         "hovertext": [],
         "legendgroup": "xeno-learning",
         "marker": {
          "color": "#b86fdc"
         },
         "name": "xeno-learning",
         "offsetgroup": "xeno-learning",
         "showlegend": false,
         "text": [],
         "type": "box",
         "x": [],
         "xaxis": "x",
         "y": [],
         "yaxis": "y"
        },
        {
         "boxmean": true,
         "boxpoints": "all",
         "hovertext": [],
         "legendgroup": "xeno-learning",
         "marker": {
          "color": "#b86fdc"
         },
         "name": "xeno-learning",
         "offsetgroup": "xeno-learning",
         "showlegend": false,
         "text": [],
         "type": "box",
         "x": [],
         "xaxis": "x",
         "y": [],
         "yaxis": "y"
        },
        {
         "boxmean": true,
         "boxpoints": "all",
         "hovertext": [],
         "legendgroup": "xeno-learning",
         "marker": {
          "color": "#b86fdc"
         },
         "name": "xeno-learning",
         "offsetgroup": "xeno-learning",
         "showlegend": false,
         "text": [],
         "type": "box",
         "x": [],
         "xaxis": "x",
         "y": [],
         "yaxis": "y"
        },
        {
         "boxmean": true,
         "boxpoints": "all",
         "hovertext": [],
         "legendgroup": "xeno-learning",
         "marker": {
          "color": "#b86fdc"
         },
         "name": "xeno-learning",
         "offsetgroup": "xeno-learning",
         "showlegend": false,
         "text": [],
         "type": "box",
         "x": [],
         "xaxis": "x",
         "y": [],
         "yaxis": "y"
        },
        {
         "boxmean": true,
         "boxpoints": "all",
         "hovertext": [],
         "legendgroup": "baseline",
         "marker": {
          "color": "#89CCED"
         },
         "name": "baseline",
         "offsetgroup": "baseline",
         "showlegend": false,
         "text": [],
         "type": "box",
         "x": [],
         "xaxis": "x2",
         "y": [],
         "yaxis": "y2"
        },
        {
         "boxmean": true,
         "boxpoints": "all",
         "hovertext": [],
         "legendgroup": "baseline",
         "marker": {
          "color": "#89CCED"
         },
         "name": "baseline",
         "offsetgroup": "baseline",
         "showlegend": false,
         "text": [],
         "type": "box",
         "x": [],
         "xaxis": "x2",
         "y": [],
         "yaxis": "y2"
        },
        {
         "boxmean": true,
         "boxpoints": "all",
         "hovertext": [],
         "legendgroup": "baseline",
         "marker": {
          "color": "#89CCED"
         },
         "name": "baseline",
         "offsetgroup": "baseline",
         "showlegend": false,
         "text": [],
         "type": "box",
         "x": [],
         "xaxis": "x2",
         "y": [],
         "yaxis": "y2"
        },
        {
         "boxmean": true,
         "boxpoints": "all",
         "hovertext": [],
         "legendgroup": "baseline",
         "marker": {
          "color": "#89CCED"
         },
         "name": "baseline",
         "offsetgroup": "baseline",
         "showlegend": false,
         "text": [],
         "type": "box",
         "x": [],
         "xaxis": "x2",
         "y": [],
         "yaxis": "y2"
        },
        {
         "boxmean": true,
         "boxpoints": "all",
         "hovertext": [],
         "legendgroup": "baseline",
         "marker": {
          "color": "#89CCED"
         },
         "name": "baseline",
         "offsetgroup": "baseline",
         "showlegend": false,
         "text": [],
         "type": "box",
         "x": [],
         "xaxis": "x2",
         "y": [],
         "yaxis": "y2"
        },
        {
         "boxmean": true,
         "boxpoints": "all",
         "hovertext": [],
         "legendgroup": "baseline",
         "marker": {
          "color": "#89CCED"
         },
         "name": "baseline",
         "offsetgroup": "baseline",
         "showlegend": false,
         "text": [],
         "type": "box",
         "x": [],
         "xaxis": "x2",
         "y": [],
         "yaxis": "y2"
        },
        {
         "boxmean": true,
         "boxpoints": "all",
         "hovertext": [],
         "legendgroup": "baseline",
         "marker": {
          "color": "#89CCED"
         },
         "name": "baseline",
         "offsetgroup": "baseline",
         "showlegend": false,
         "text": [],
         "type": "box",
         "x": [],
         "xaxis": "x2",
         "y": [],
         "yaxis": "y2"
        },
        {
         "boxmean": true,
         "boxpoints": "all",
         "hovertext": [],
         "legendgroup": "baseline",
         "marker": {
          "color": "#89CCED"
         },
         "name": "baseline",
         "offsetgroup": "baseline",
         "showlegend": false,
         "text": [],
         "type": "box",
         "x": [],
         "xaxis": "x2",
         "y": [],
         "yaxis": "y2"
        },
        {
         "boxmean": true,
         "boxpoints": "all",
         "hovertext": [
          "R043",
          "R046",
          "R047",
          "R048",
          "R044",
          "R045"
         ],
         "legendgroup": "baseline",
         "marker": {
          "color": "#89CCED"
         },
         "name": "baseline",
         "offsetgroup": "baseline",
         "showlegend": false,
         "text": [
          "stomach",
          "stomach",
          "stomach",
          "stomach",
          "stomach",
          "stomach"
         ],
         "type": "box",
         "x": [
          "stomach",
          "stomach",
          "stomach",
          "stomach",
          "stomach",
          "stomach"
         ],
         "xaxis": "x2",
         "y": {
          "bdata": "+Id/+Mfs7D/jp8U2XgfrPw+85xvT4Ok/Rq4zAeOGxT/fe++9Lxy1P9Ow3Sz36uQ/",
          "dtype": "f8"
         },
         "yaxis": "y2"
        },
        {
         "boxmean": true,
         "boxpoints": "all",
         "hovertext": [
          "R047",
          "R045",
          "R044",
          "R046",
          "R043",
          "R048"
         ],
         "legendgroup": "baseline",
         "marker": {
          "color": "#89CCED"
         },
         "name": "baseline",
         "offsetgroup": "baseline",
         "showlegend": false,
         "text": [
          "small_bowel",
          "small_bowel",
          "small_bowel",
          "small_bowel",
          "small_bowel",
          "small_bowel"
         ],
         "type": "box",
         "x": [
          "small bowel",
          "small bowel",
          "small bowel",
          "small bowel",
          "small bowel",
          "small bowel"
         ],
         "xaxis": "x2",
         "y": {
          "bdata": "y6MD73lD6z8N283yHOLjP4wxxhjPc+E/s6asKcu/5z9XczVXsxnrPx1ItMLGhug/",
          "dtype": "f8"
         },
         "yaxis": "y2"
        },
        {
         "boxmean": true,
         "boxpoints": "all",
         "hovertext": [
          "R047",
          "R043",
          "R044",
          "R046",
          "R048",
          "R045"
         ],
         "legendgroup": "baseline",
         "marker": {
          "color": "#89CCED"
         },
         "name": "baseline",
         "offsetgroup": "baseline",
         "showlegend": false,
         "text": [
          "colon",
          "colon",
          "colon",
          "colon",
          "colon",
          "colon"
         ],
         "type": "box",
         "x": [
          "colon",
          "colon",
          "colon",
          "colon",
          "colon",
          "colon"
         ],
         "xaxis": "x2",
         "y": {
          "bdata": "g5wl+2s/7z9e3MVdXHzvP6211lq7lNA/GPQFfWGO7z8ucp0JeJnqP2rYbpaHRe4/",
          "dtype": "f8"
         },
         "yaxis": "y2"
        },
        {
         "boxmean": true,
         "boxpoints": "all",
         "hovertext": [
          "R047",
          "R046",
          "R045",
          "R048",
          "R044",
          "R043"
         ],
         "legendgroup": "baseline",
         "marker": {
          "color": "#89CCED"
         },
         "name": "baseline",
         "offsetgroup": "baseline",
         "showlegend": false,
         "text": [
          "liver",
          "liver",
          "liver",
          "liver",
          "liver",
          "liver"
         ],
         "type": "box",
         "x": [
          "liver",
          "liver",
          "liver",
          "liver",
          "liver",
          "liver"
         ],
         "xaxis": "x2",
         "y": {
          "bdata": "AAAAAAAAAADgc0uc4o1DPwAAAAAAAAAAAAAAAAAAAAAAAAAAAAAAAAAAAAAAAAAA",
          "dtype": "f8"
         },
         "yaxis": "y2"
        },
        {
         "boxmean": true,
         "boxpoints": "all",
         "hovertext": [
          "R045",
          "R047",
          "R043",
          "R048",
          "R044",
          "R046"
         ],
         "legendgroup": "baseline",
         "marker": {
          "color": "#89CCED"
         },
         "name": "baseline",
         "offsetgroup": "baseline",
         "showlegend": false,
         "text": [
          "pancreas",
          "pancreas",
          "pancreas",
          "pancreas",
          "pancreas",
          "pancreas"
         ],
         "type": "box",
         "x": [
          "pancreas",
          "pancreas",
          "pancreas",
          "pancreas",
          "pancreas",
          "pancreas"
         ],
         "xaxis": "x2",
         "y": {
          "bdata": "IHRU4JsOuD+xGi5+6DNrPw8PDw+vyvY+gvFW9rlw+D4AAAAAAAAAAEFf0Bf0oM4/",
          "dtype": "f8"
         },
         "yaxis": "y2"
        },
        {
         "boxmean": true,
         "boxpoints": "all",
         "hovertext": [
          "R045",
          "R048",
          "R044",
          "R043",
          "R047",
          "R046"
         ],
         "legendgroup": "baseline",
         "marker": {
          "color": "#89CCED"
         },
         "name": "baseline",
         "offsetgroup": "baseline",
         "showlegend": false,
         "text": [
          "kidney",
          "kidney",
          "kidney",
          "kidney",
          "kidney",
          "kidney"
         ],
         "type": "box",
         "x": [
          "kidney",
          "kidney",
          "kidney",
          "kidney",
          "kidney",
          "kidney"
         ],
         "xaxis": "x2",
         "y": {
          "bdata": "zvIkMqUa4j8NoZJutDPkPwAAAAAAAAAA6YHK2a125D/dTuXRgaTlP2zjp8WW/OY/",
          "dtype": "f8"
         },
         "yaxis": "y2"
        },
        {
         "boxmean": true,
         "boxpoints": "all",
         "hovertext": [
          "R047",
          "R046",
          "R048",
          "R045",
          "R044",
          "R043"
         ],
         "legendgroup": "baseline",
         "marker": {
          "color": "#89CCED"
         },
         "name": "baseline",
         "offsetgroup": "baseline",
         "showlegend": false,
         "text": [
          "omentum",
          "omentum",
          "omentum",
          "omentum",
          "omentum",
          "omentum"
         ],
         "type": "box",
         "x": [
          "omentum",
          "omentum",
          "omentum",
          "omentum",
          "omentum",
          "omentum"
         ],
         "xaxis": "x2",
         "y": {
          "bdata": "g5wl+2va6j9ZU9aUFYPsP+5ST8aPWek/yKmAX7jh5j+VUkophUXSP5RCKZRCyO4/",
          "dtype": "f8"
         },
         "yaxis": "y2"
        },
        {
         "boxmean": true,
         "boxpoints": "all",
         "hovertext": [
          "R045",
          "R046",
          "R044",
          "R043",
          "R047",
          "R048"
         ],
         "legendgroup": "baseline",
         "marker": {
          "color": "#89CCED"
         },
         "name": "baseline",
         "offsetgroup": "baseline",
         "showlegend": false,
         "text": [
          "peritoneum",
          "peritoneum",
          "peritoneum",
          "peritoneum",
          "peritoneum",
          "peritoneum"
         ],
         "type": "box",
         "x": [
          "peritoneum",
          "peritoneum",
          "peritoneum",
          "peritoneum",
          "peritoneum",
          "peritoneum"
         ],
         "xaxis": "x2",
         "y": {
          "bdata": "mYbtZqns7j/Zxk+LDWHtPzLGGGPoau8/FlmRFVnN7j8PvOcb8xbtP7hLPRn/6+s/",
          "dtype": "f8"
         },
         "yaxis": "y2"
        },
        {
         "boxmean": true,
         "boxpoints": "all",
         "hovertext": [],
         "legendgroup": "xeno-learning",
         "marker": {
          "color": "#b86fdc"
         },
         "name": "xeno-learning",
         "offsetgroup": "xeno-learning",
         "showlegend": false,
         "text": [],
         "type": "box",
         "x": [],
         "xaxis": "x2",
         "y": [],
         "yaxis": "y2"
        },
        {
         "boxmean": true,
         "boxpoints": "all",
         "hovertext": [],
         "legendgroup": "xeno-learning",
         "marker": {
          "color": "#b86fdc"
         },
         "name": "xeno-learning",
         "offsetgroup": "xeno-learning",
         "showlegend": false,
         "text": [],
         "type": "box",
         "x": [],
         "xaxis": "x2",
         "y": [],
         "yaxis": "y2"
        },
        {
         "boxmean": true,
         "boxpoints": "all",
         "hovertext": [],
         "legendgroup": "xeno-learning",
         "marker": {
          "color": "#b86fdc"
         },
         "name": "xeno-learning",
         "offsetgroup": "xeno-learning",
         "showlegend": false,
         "text": [],
         "type": "box",
         "x": [],
         "xaxis": "x2",
         "y": [],
         "yaxis": "y2"
        },
        {
         "boxmean": true,
         "boxpoints": "all",
         "hovertext": [],
         "legendgroup": "xeno-learning",
         "marker": {
          "color": "#b86fdc"
         },
         "name": "xeno-learning",
         "offsetgroup": "xeno-learning",
         "showlegend": false,
         "text": [],
         "type": "box",
         "x": [],
         "xaxis": "x2",
         "y": [],
         "yaxis": "y2"
        },
        {
         "boxmean": true,
         "boxpoints": "all",
         "hovertext": [],
         "legendgroup": "xeno-learning",
         "marker": {
          "color": "#b86fdc"
         },
         "name": "xeno-learning",
         "offsetgroup": "xeno-learning",
         "showlegend": false,
         "text": [],
         "type": "box",
         "x": [],
         "xaxis": "x2",
         "y": [],
         "yaxis": "y2"
        },
        {
         "boxmean": true,
         "boxpoints": "all",
         "hovertext": [],
         "legendgroup": "xeno-learning",
         "marker": {
          "color": "#b86fdc"
         },
         "name": "xeno-learning",
         "offsetgroup": "xeno-learning",
         "showlegend": false,
         "text": [],
         "type": "box",
         "x": [],
         "xaxis": "x2",
         "y": [],
         "yaxis": "y2"
        },
        {
         "boxmean": true,
         "boxpoints": "all",
         "hovertext": [],
         "legendgroup": "xeno-learning",
         "marker": {
          "color": "#b86fdc"
         },
         "name": "xeno-learning",
         "offsetgroup": "xeno-learning",
         "showlegend": false,
         "text": [],
         "type": "box",
         "x": [],
         "xaxis": "x2",
         "y": [],
         "yaxis": "y2"
        },
        {
         "boxmean": true,
         "boxpoints": "all",
         "hovertext": [],
         "legendgroup": "xeno-learning",
         "marker": {
          "color": "#b86fdc"
         },
         "name": "xeno-learning",
         "offsetgroup": "xeno-learning",
         "showlegend": false,
         "text": [],
         "type": "box",
         "x": [],
         "xaxis": "x2",
         "y": [],
         "yaxis": "y2"
        },
        {
         "boxmean": true,
         "boxpoints": "all",
         "hovertext": [
          "R043",
          "R046",
          "R047",
          "R048",
          "R044",
          "R045"
         ],
         "legendgroup": "xeno-learning",
         "marker": {
          "color": "#b86fdc"
         },
         "name": "xeno-learning",
         "offsetgroup": "xeno-learning",
         "showlegend": false,
         "text": [
          "stomach",
          "stomach",
          "stomach",
          "stomach",
          "stomach",
          "stomach"
         ],
         "type": "box",
         "x": [
          "stomach",
          "stomach",
          "stomach",
          "stomach",
          "stomach",
          "stomach"
         ],
         "xaxis": "x2",
         "y": {
          "bdata": "p27qpq7t7z/8tNjGT8zvP8PFD2FQ8e8/Y/bnw2mn5z8RQggh/JjuP6QCX1ytge4/",
          "dtype": "f8"
         },
         "yaxis": "y2"
        },
        {
         "boxmean": true,
         "boxpoints": "all",
         "hovertext": [
          "R047",
          "R045",
          "R044",
          "R046",
          "R043",
          "R048"
         ],
         "legendgroup": "xeno-learning",
         "marker": {
          "color": "#b86fdc"
         },
         "name": "xeno-learning",
         "offsetgroup": "xeno-learning",
         "showlegend": false,
         "text": [
          "small_bowel",
          "small_bowel",
          "small_bowel",
          "small_bowel",
          "small_bowel",
          "small_bowel"
         ],
         "type": "box",
         "x": [
          "small bowel",
          "small bowel",
          "small bowel",
          "small bowel",
          "small bowel",
          "small bowel"
         ],
         "xaxis": "x2",
         "y": {
          "bdata": "8UMY5Ixk7j8dFfjimlXrP84555zTDew/hNetQhhO7z/5lm/5NgbtP05DqKQ7jOo/",
          "dtype": "f8"
         },
         "yaxis": "y2"
        },
        {
         "boxmean": true,
         "boxpoints": "all",
         "hovertext": [
          "R047",
          "R043",
          "R044",
          "R046",
          "R048",
          "R045"
         ],
         "legendgroup": "xeno-learning",
         "marker": {
          "color": "#b86fdc"
         },
         "name": "xeno-learning",
         "offsetgroup": "xeno-learning",
         "showlegend": false,
         "text": [
          "colon",
          "colon",
          "colon",
          "colon",
          "colon",
          "colon"
         ],
         "type": "box",
         "x": [
          "colon",
          "colon",
          "colon",
          "colon",
          "colon",
          "colon"
         ],
         "xaxis": "x2",
         "y": {
          "bdata": "qjw68J7/7z+P93iPN/TvPwAAAAAAAPA//s3l2f/+7z8ey3u15fPmP0cFvrhqYe0/",
          "dtype": "f8"
         },
         "yaxis": "y2"
        },
        {
         "boxmean": true,
         "boxpoints": "all",
         "hovertext": [
          "R047",
          "R046",
          "R045",
          "R048",
          "R044",
          "R043"
         ],
         "legendgroup": "xeno-learning",
         "marker": {
          "color": "#b86fdc"
         },
         "name": "xeno-learning",
         "offsetgroup": "xeno-learning",
         "showlegend": false,
         "text": [
          "liver",
          "liver",
          "liver",
          "liver",
          "liver",
          "liver"
         ],
         "type": "box",
         "x": [
          "liver",
          "liver",
          "liver",
          "liver",
          "liver",
          "liver"
         ],
         "xaxis": "x2",
         "y": {
          "bdata": "fL4xbYI27T+fW+LU32PtPzCuftCxe+w/7EzA4LHT7T/nnHPOfTLlP6uqqqrKOe8/",
          "dtype": "f8"
         },
         "yaxis": "y2"
        },
        {
         "boxmean": true,
         "boxpoints": "all",
         "hovertext": [
          "R045",
          "R047",
          "R043",
          "R048",
          "R044",
          "R046"
         ],
         "legendgroup": "xeno-learning",
         "marker": {
          "color": "#b86fdc"
         },
         "name": "xeno-learning",
         "offsetgroup": "xeno-learning",
         "showlegend": false,
         "text": [
          "pancreas",
          "pancreas",
          "pancreas",
          "pancreas",
          "pancreas",
          "pancreas"
         ],
         "type": "box",
         "x": [
          "pancreas",
          "pancreas",
          "pancreas",
          "pancreas",
          "pancreas",
          "pancreas"
         ],
         "xaxis": "x2",
         "y": {
          "bdata": "4IurHwSlxz8noBT1cpbTP8TDw8MdptE/wXgr+0zgmT+llFJKib/jP9V7KFLdIOE/",
          "dtype": "f8"
         },
         "yaxis": "y2"
        },
        {
         "boxmean": true,
         "boxpoints": "all",
         "hovertext": [
          "R045",
          "R048",
          "R044",
          "R043",
          "R047",
          "R046"
         ],
         "legendgroup": "xeno-learning",
         "marker": {
          "color": "#b86fdc"
         },
         "name": "xeno-learning",
         "offsetgroup": "xeno-learning",
         "showlegend": false,
         "text": [
          "kidney",
          "kidney",
          "kidney",
          "kidney",
          "kidney",
          "kidney"
         ],
         "type": "box",
         "x": [
          "kidney",
          "kidney",
          "kidney",
          "kidney",
          "kidney",
          "kidney"
         ],
         "xaxis": "x2",
         "y": {
          "bdata": "lMg0bHcH6j9CJd0opvTuP0IIIYTwotw/ivRA5dwn7j/ZX+sKTXTsP3sPRar3xu4/",
          "dtype": "f8"
         },
         "yaxis": "y2"
        },
        {
         "boxmean": true,
         "boxpoints": "all",
         "hovertext": [
          "R047",
          "R046",
          "R048",
          "R045",
          "R044",
          "R043"
         ],
         "legendgroup": "xeno-learning",
         "marker": {
          "color": "#b86fdc"
         },
         "name": "xeno-learning",
         "offsetgroup": "xeno-learning",
         "showlegend": false,
         "text": [
          "omentum",
          "omentum",
          "omentum",
          "omentum",
          "omentum",
          "omentum"
         ],
         "type": "box",
         "x": [
          "omentum",
          "omentum",
          "omentum",
          "omentum",
          "omentum",
          "omentum"
         ],
         "xaxis": "x2",
         "y": {
          "bdata": "HXjPN4b57j/IaJiALJvtP62wOZAoous/OFZ/oFc+5D+21lprDc/vP3y8x3s8e+0/",
          "dtype": "f8"
         },
         "yaxis": "y2"
        },
        {
         "boxmean": true,
         "boxpoints": "all",
         "hovertext": [
          "R045",
          "R046",
          "R044",
          "R043",
          "R047",
          "R048"
         ],
         "legendgroup": "xeno-learning",
         "marker": {
          "color": "#b86fdc"
         },
         "name": "xeno-learning",
         "offsetgroup": "xeno-learning",
         "showlegend": false,
         "text": [
          "peritoneum",
          "peritoneum",
          "peritoneum",
          "peritoneum",
          "peritoneum",
          "peritoneum"
         ],
         "type": "box",
         "x": [
          "peritoneum",
          "peritoneum",
          "peritoneum",
          "peritoneum",
          "peritoneum",
          "peritoneum"
         ],
         "xaxis": "x2",
         "y": {
          "bdata": "KJFp2E7Q7z+q91Ck2v/vP+ecc84N/uw/XtzFXVz/7z+fb0ybQK3vP8PmQKL1/+8/",
          "dtype": "f8"
         },
         "yaxis": "y2"
        }
       ],
       "layout": {
        "boxgap": 0.2,
        "boxgroupgap": 0.45,
        "boxmode": "group",
        "font": {
         "family": "Libertinus Sans",
         "size": 16
        },
        "height": 700,
        "legend": {
         "orientation": "h",
         "x": 0.5,
         "xanchor": "center",
         "y": 1.01,
         "yanchor": "bottom"
        },
        "margin": {
         "b": 0,
         "l": 0,
         "r": 0,
         "t": 0
        },
        "template": {
         "data": {
          "bar": [
           {
            "error_x": {
             "color": "#2a3f5f"
            },
            "error_y": {
             "color": "#2a3f5f"
            },
            "marker": {
             "line": {
              "color": "white",
              "width": 0.5
             },
             "pattern": {
              "fillmode": "overlay",
              "size": 10,
              "solidity": 0.2
             }
            },
            "type": "bar"
           }
          ],
          "barpolar": [
           {
            "marker": {
             "line": {
              "color": "white",
              "width": 0.5
             },
             "pattern": {
              "fillmode": "overlay",
              "size": 10,
              "solidity": 0.2
             }
            },
            "type": "barpolar"
           }
          ],
          "carpet": [
           {
            "aaxis": {
             "endlinecolor": "#2a3f5f",
             "gridcolor": "#C8D4E3",
             "linecolor": "#C8D4E3",
             "minorgridcolor": "#C8D4E3",
             "startlinecolor": "#2a3f5f"
            },
            "baxis": {
             "endlinecolor": "#2a3f5f",
             "gridcolor": "#C8D4E3",
             "linecolor": "#C8D4E3",
             "minorgridcolor": "#C8D4E3",
             "startlinecolor": "#2a3f5f"
            },
            "type": "carpet"
           }
          ],
          "choropleth": [
           {
            "colorbar": {
             "outlinewidth": 0,
             "ticks": ""
            },
            "type": "choropleth"
           }
          ],
          "contour": [
           {
            "colorbar": {
             "outlinewidth": 0,
             "ticks": ""
            },
            "colorscale": [
             [
              0,
              "#0d0887"
             ],
             [
              0.1111111111111111,
              "#46039f"
             ],
             [
              0.2222222222222222,
              "#7201a8"
             ],
             [
              0.3333333333333333,
              "#9c179e"
             ],
             [
              0.4444444444444444,
              "#bd3786"
             ],
             [
              0.5555555555555556,
              "#d8576b"
             ],
             [
              0.6666666666666666,
              "#ed7953"
             ],
             [
              0.7777777777777778,
              "#fb9f3a"
             ],
             [
              0.8888888888888888,
              "#fdca26"
             ],
             [
              1,
              "#f0f921"
             ]
            ],
            "type": "contour"
           }
          ],
          "contourcarpet": [
           {
            "colorbar": {
             "outlinewidth": 0,
             "ticks": ""
            },
            "type": "contourcarpet"
           }
          ],
          "heatmap": [
           {
            "colorbar": {
             "outlinewidth": 0,
             "ticks": ""
            },
            "colorscale": [
             [
              0,
              "#0d0887"
             ],
             [
              0.1111111111111111,
              "#46039f"
             ],
             [
              0.2222222222222222,
              "#7201a8"
             ],
             [
              0.3333333333333333,
              "#9c179e"
             ],
             [
              0.4444444444444444,
              "#bd3786"
             ],
             [
              0.5555555555555556,
              "#d8576b"
             ],
             [
              0.6666666666666666,
              "#ed7953"
             ],
             [
              0.7777777777777778,
              "#fb9f3a"
             ],
             [
              0.8888888888888888,
              "#fdca26"
             ],
             [
              1,
              "#f0f921"
             ]
            ],
            "type": "heatmap"
           }
          ],
          "histogram": [
           {
            "marker": {
             "pattern": {
              "fillmode": "overlay",
              "size": 10,
              "solidity": 0.2
             }
            },
            "type": "histogram"
           }
          ],
          "histogram2d": [
           {
            "colorbar": {
             "outlinewidth": 0,
             "ticks": ""
            },
            "colorscale": [
             [
              0,
              "#0d0887"
             ],
             [
              0.1111111111111111,
              "#46039f"
             ],
             [
              0.2222222222222222,
              "#7201a8"
             ],
             [
              0.3333333333333333,
              "#9c179e"
             ],
             [
              0.4444444444444444,
              "#bd3786"
             ],
             [
              0.5555555555555556,
              "#d8576b"
             ],
             [
              0.6666666666666666,
              "#ed7953"
             ],
             [
              0.7777777777777778,
              "#fb9f3a"
             ],
             [
              0.8888888888888888,
              "#fdca26"
             ],
             [
              1,
              "#f0f921"
             ]
            ],
            "type": "histogram2d"
           }
          ],
          "histogram2dcontour": [
           {
            "colorbar": {
             "outlinewidth": 0,
             "ticks": ""
            },
            "colorscale": [
             [
              0,
              "#0d0887"
             ],
             [
              0.1111111111111111,
              "#46039f"
             ],
             [
              0.2222222222222222,
              "#7201a8"
             ],
             [
              0.3333333333333333,
              "#9c179e"
             ],
             [
              0.4444444444444444,
              "#bd3786"
             ],
             [
              0.5555555555555556,
              "#d8576b"
             ],
             [
              0.6666666666666666,
              "#ed7953"
             ],
             [
              0.7777777777777778,
              "#fb9f3a"
             ],
             [
              0.8888888888888888,
              "#fdca26"
             ],
             [
              1,
              "#f0f921"
             ]
            ],
            "type": "histogram2dcontour"
           }
          ],
          "mesh3d": [
           {
            "colorbar": {
             "outlinewidth": 0,
             "ticks": ""
            },
            "type": "mesh3d"
           }
          ],
          "parcoords": [
           {
            "line": {
             "colorbar": {
              "outlinewidth": 0,
              "ticks": ""
             }
            },
            "type": "parcoords"
           }
          ],
          "pie": [
           {
            "automargin": true,
            "type": "pie"
           }
          ],
          "scatter": [
           {
            "fillpattern": {
             "fillmode": "overlay",
             "size": 10,
             "solidity": 0.2
            },
            "type": "scatter"
           }
          ],
          "scatter3d": [
           {
            "line": {
             "colorbar": {
              "outlinewidth": 0,
              "ticks": ""
             }
            },
            "marker": {
             "colorbar": {
              "outlinewidth": 0,
              "ticks": ""
             }
            },
            "type": "scatter3d"
           }
          ],
          "scattercarpet": [
           {
            "marker": {
             "colorbar": {
              "outlinewidth": 0,
              "ticks": ""
             }
            },
            "type": "scattercarpet"
           }
          ],
          "scattergeo": [
           {
            "marker": {
             "colorbar": {
              "outlinewidth": 0,
              "ticks": ""
             }
            },
            "type": "scattergeo"
           }
          ],
          "scattergl": [
           {
            "marker": {
             "colorbar": {
              "outlinewidth": 0,
              "ticks": ""
             }
            },
            "type": "scattergl"
           }
          ],
          "scattermap": [
           {
            "marker": {
             "colorbar": {
              "outlinewidth": 0,
              "ticks": ""
             }
            },
            "type": "scattermap"
           }
          ],
          "scattermapbox": [
           {
            "marker": {
             "colorbar": {
              "outlinewidth": 0,
              "ticks": ""
             }
            },
            "type": "scattermapbox"
           }
          ],
          "scatterpolar": [
           {
            "marker": {
             "colorbar": {
              "outlinewidth": 0,
              "ticks": ""
             }
            },
            "type": "scatterpolar"
           }
          ],
          "scatterpolargl": [
           {
            "marker": {
             "colorbar": {
              "outlinewidth": 0,
              "ticks": ""
             }
            },
            "type": "scatterpolargl"
           }
          ],
          "scatterternary": [
           {
            "marker": {
             "colorbar": {
              "outlinewidth": 0,
              "ticks": ""
             }
            },
            "type": "scatterternary"
           }
          ],
          "surface": [
           {
            "colorbar": {
             "outlinewidth": 0,
             "ticks": ""
            },
            "colorscale": [
             [
              0,
              "#0d0887"
             ],
             [
              0.1111111111111111,
              "#46039f"
             ],
             [
              0.2222222222222222,
              "#7201a8"
             ],
             [
              0.3333333333333333,
              "#9c179e"
             ],
             [
              0.4444444444444444,
              "#bd3786"
             ],
             [
              0.5555555555555556,
              "#d8576b"
             ],
             [
              0.6666666666666666,
              "#ed7953"
             ],
             [
              0.7777777777777778,
              "#fb9f3a"
             ],
             [
              0.8888888888888888,
              "#fdca26"
             ],
             [
              1,
              "#f0f921"
             ]
            ],
            "type": "surface"
           }
          ],
          "table": [
           {
            "cells": {
             "fill": {
              "color": "#EBF0F8"
             },
             "line": {
              "color": "white"
             }
            },
            "header": {
             "fill": {
              "color": "#C8D4E3"
             },
             "line": {
              "color": "white"
             }
            },
            "type": "table"
           }
          ]
         },
         "layout": {
          "annotationdefaults": {
           "arrowcolor": "#2a3f5f",
           "arrowhead": 0,
           "arrowwidth": 1
          },
          "autotypenumbers": "strict",
          "coloraxis": {
           "colorbar": {
            "outlinewidth": 0,
            "ticks": ""
           }
          },
          "colorscale": {
           "diverging": [
            [
             0,
             "#8e0152"
            ],
            [
             0.1,
             "#c51b7d"
            ],
            [
             0.2,
             "#de77ae"
            ],
            [
             0.3,
             "#f1b6da"
            ],
            [
             0.4,
             "#fde0ef"
            ],
            [
             0.5,
             "#f7f7f7"
            ],
            [
             0.6,
             "#e6f5d0"
            ],
            [
             0.7,
             "#b8e186"
            ],
            [
             0.8,
             "#7fbc41"
            ],
            [
             0.9,
             "#4d9221"
            ],
            [
             1,
             "#276419"
            ]
           ],
           "sequential": [
            [
             0,
             "#0d0887"
            ],
            [
             0.1111111111111111,
             "#46039f"
            ],
            [
             0.2222222222222222,
             "#7201a8"
            ],
            [
             0.3333333333333333,
             "#9c179e"
            ],
            [
             0.4444444444444444,
             "#bd3786"
            ],
            [
             0.5555555555555556,
             "#d8576b"
            ],
            [
             0.6666666666666666,
             "#ed7953"
            ],
            [
             0.7777777777777778,
             "#fb9f3a"
            ],
            [
             0.8888888888888888,
             "#fdca26"
            ],
            [
             1,
             "#f0f921"
            ]
           ],
           "sequentialminus": [
            [
             0,
             "#0d0887"
            ],
            [
             0.1111111111111111,
             "#46039f"
            ],
            [
             0.2222222222222222,
             "#7201a8"
            ],
            [
             0.3333333333333333,
             "#9c179e"
            ],
            [
             0.4444444444444444,
             "#bd3786"
            ],
            [
             0.5555555555555556,
             "#d8576b"
            ],
            [
             0.6666666666666666,
             "#ed7953"
            ],
            [
             0.7777777777777778,
             "#fb9f3a"
            ],
            [
             0.8888888888888888,
             "#fdca26"
            ],
            [
             1,
             "#f0f921"
            ]
           ]
          },
          "colorway": [
           "#636efa",
           "#EF553B",
           "#00cc96",
           "#ab63fa",
           "#FFA15A",
           "#19d3f3",
           "#FF6692",
           "#B6E880",
           "#FF97FF",
           "#FECB52"
          ],
          "font": {
           "color": "#2a3f5f"
          },
          "geo": {
           "bgcolor": "white",
           "lakecolor": "white",
           "landcolor": "white",
           "showlakes": true,
           "showland": true,
           "subunitcolor": "#C8D4E3"
          },
          "hoverlabel": {
           "align": "left"
          },
          "hovermode": "closest",
          "mapbox": {
           "style": "light"
          },
          "paper_bgcolor": "white",
          "plot_bgcolor": "white",
          "polar": {
           "angularaxis": {
            "gridcolor": "#EBF0F8",
            "linecolor": "#EBF0F8",
            "ticks": ""
           },
           "bgcolor": "white",
           "radialaxis": {
            "gridcolor": "#EBF0F8",
            "linecolor": "#EBF0F8",
            "ticks": ""
           }
          },
          "scene": {
           "xaxis": {
            "backgroundcolor": "white",
            "gridcolor": "#DFE8F3",
            "gridwidth": 2,
            "linecolor": "#EBF0F8",
            "showbackground": true,
            "ticks": "",
            "zerolinecolor": "#EBF0F8"
           },
           "yaxis": {
            "backgroundcolor": "white",
            "gridcolor": "#DFE8F3",
            "gridwidth": 2,
            "linecolor": "#EBF0F8",
            "showbackground": true,
            "ticks": "",
            "zerolinecolor": "#EBF0F8"
           },
           "zaxis": {
            "backgroundcolor": "white",
            "gridcolor": "#DFE8F3",
            "gridwidth": 2,
            "linecolor": "#EBF0F8",
            "showbackground": true,
            "ticks": "",
            "zerolinecolor": "#EBF0F8"
           }
          },
          "shapedefaults": {
           "line": {
            "color": "#2a3f5f"
           }
          },
          "ternary": {
           "aaxis": {
            "gridcolor": "#DFE8F3",
            "linecolor": "#A2B1C6",
            "ticks": ""
           },
           "baxis": {
            "gridcolor": "#DFE8F3",
            "linecolor": "#A2B1C6",
            "ticks": ""
           },
           "bgcolor": "white",
           "caxis": {
            "gridcolor": "#DFE8F3",
            "linecolor": "#A2B1C6",
            "ticks": ""
           }
          },
          "title": {
           "x": 0.05
          },
          "xaxis": {
           "automargin": true,
           "gridcolor": "#EBF0F8",
           "linecolor": "#EBF0F8",
           "ticks": "",
           "title": {
            "standoff": 15
           },
           "zerolinecolor": "#EBF0F8",
           "zerolinewidth": 2
          },
          "yaxis": {
           "automargin": true,
           "gridcolor": "#EBF0F8",
           "linecolor": "#EBF0F8",
           "ticks": "",
           "title": {
            "standoff": 15
           },
           "zerolinecolor": "#EBF0F8",
           "zerolinewidth": 2
          }
         }
        },
        "width": 1000,
        "xaxis": {
         "anchor": "y",
         "autorangeoptions": {
          "maxallowed": 7.4,
          "minallowed": -0.52
         },
         "domain": [
          0,
          1
         ],
         "matches": "x2",
         "range": [
          -0.52,
          7.4
         ],
         "showticklabels": true,
         "tickfont": {
          "size": 16
         }
        },
        "xaxis2": {
         "anchor": "y2",
         "domain": [
          0,
          1
         ],
         "showticklabels": true,
         "tickfont": {
          "size": 16
         }
        },
        "yaxis": {
         "anchor": "x",
         "domain": [
          0.575,
          1
         ],
         "range": [
          -0.05,
          1.05
         ],
         "tickfont": {
          "size": 16
         },
         "title": {
          "standoff": 10,
          "text": "<b>DSC</b>"
         }
        },
        "yaxis2": {
         "anchor": "x2",
         "domain": [
          0,
          0.425
         ],
         "tickfont": {
          "size": 16
         },
         "title": {
          "standoff": 10,
          "text": "<b>DSC</b>"
         }
        }
       }
      },
      "text/html": [
       "<div>            <script src=\"https://cdnjs.cloudflare.com/ajax/libs/mathjax/2.7.5/MathJax.js?config=TeX-AMS-MML_SVG\"></script><script type=\"text/javascript\">if (window.MathJax && window.MathJax.Hub && window.MathJax.Hub.Config) {window.MathJax.Hub.Config({SVG: {font: \"STIX-Web\"}});}</script>                <script type=\"text/javascript\">window.PlotlyConfig = {MathJaxConfig: 'local'};</script>\n",
       "        <script charset=\"utf-8\" src=\"https://cdn.plot.ly/plotly-3.0.0.min.js\"></script>                <div id=\"cd072cd8-be6f-4f62-ac4c-09c28206e7e3\" class=\"plotly-graph-div\" style=\"height:700px; width:1000px;\"></div>            <script type=\"text/javascript\">                window.PLOTLYENV=window.PLOTLYENV || {};                                if (document.getElementById(\"cd072cd8-be6f-4f62-ac4c-09c28206e7e3\")) {                    Plotly.newPlot(                        \"cd072cd8-be6f-4f62-ac4c-09c28206e7e3\",                        [{\"boxmean\":true,\"boxpoints\":\"all\",\"hovertext\":[\"P005\",\"P113\",\"P105\",\"P104\",\"P102\",\"P101\",\"P076\",\"P027\",\"P025\",\"P103\",\"P013\",\"P008\",\"P007\",\"P006\"],\"legendgroup\":\"baseline\",\"marker\":{\"color\":\"#44AA99\"},\"name\":\"baseline\",\"offsetgroup\":\"baseline\",\"showlegend\":false,\"text\":[\"stomach\",\"stomach\",\"stomach\",\"stomach\",\"stomach\",\"stomach\",\"stomach\",\"stomach\",\"stomach\",\"stomach\",\"stomach\",\"stomach\",\"stomach\",\"stomach\"],\"x\":[\"stomach\",\"stomach\",\"stomach\",\"stomach\",\"stomach\",\"stomach\",\"stomach\",\"stomach\",\"stomach\",\"stomach\",\"stomach\",\"stomach\",\"stomach\",\"stomach\"],\"y\":{\"dtype\":\"f8\",\"bdata\":\"AAAAAAAAAADZiZ3YLQTKP+\\u002fu7u4EdeM\\u002fRERERBzk7z\\u002fRRRddpPrvPwAAAEBYA9A\\u002ffMVXfHWs4T8AAAAAAAAAAAAAAAAAAAAAmpmZmeWz7z8AAAAAAAAAAAAAAAAAAAAAAAAAAAAAAAAAAAAAAAAAAA==\"},\"type\":\"box\",\"xaxis\":\"x\",\"yaxis\":\"y\"},{\"boxmean\":true,\"boxpoints\":\"all\",\"hovertext\":[\"P014\",\"P103\",\"P105\",\"P102\",\"P013\",\"P005\",\"P113\",\"P104\",\"P006\",\"P101\",\"P076\"],\"legendgroup\":\"baseline\",\"marker\":{\"color\":\"#44AA99\"},\"name\":\"baseline\",\"offsetgroup\":\"baseline\",\"showlegend\":false,\"text\":[\"small_bowel\",\"small_bowel\",\"small_bowel\",\"small_bowel\",\"small_bowel\",\"small_bowel\",\"small_bowel\",\"small_bowel\",\"small_bowel\",\"small_bowel\",\"small_bowel\"],\"x\":[\"small bowel\",\"small bowel\",\"small bowel\",\"small bowel\",\"small bowel\",\"small bowel\",\"small bowel\",\"small bowel\",\"small bowel\",\"small bowel\",\"small bowel\"],\"y\":{\"dtype\":\"f8\",\"bdata\":\"AAAAAAAA8D+rqqqqlCnePwAAAAAAAAAAXkN5DeU1tD8AAAAAAADwPwAAAADB+u8\\u002fLW7C\\u002fF6KsT8AAAAAAAAAAAAAAAAAAPA\\u002fAAAAAAAAAABCHdRBUYB3Pw==\"},\"type\":\"box\",\"xaxis\":\"x\",\"yaxis\":\"y\"},{\"boxmean\":true,\"boxpoints\":\"all\",\"hovertext\":[\"P101\",\"P076\",\"P105\",\"P113\",\"P103\",\"P104\",\"P102\"],\"legendgroup\":\"baseline\",\"marker\":{\"color\":\"#44AA99\"},\"name\":\"baseline\",\"offsetgroup\":\"baseline\",\"showlegend\":false,\"text\":[\"colon\",\"colon\",\"colon\",\"colon\",\"colon\",\"colon\",\"colon\"],\"x\":[\"colon\",\"colon\",\"colon\",\"colon\",\"colon\",\"colon\",\"colon\"],\"y\":{\"dtype\":\"f8\",\"bdata\":\"AAAAAAAA8D8svuIr+pfRPwAAAAAAAPA\\u002f27Zt27Sj5z8AAABADw\\u002fjP2ZmZma0qe4\\u002fn3WDKdrN4D8=\"},\"type\":\"box\",\"xaxis\":\"x\",\"yaxis\":\"y\"},{\"boxmean\":true,\"boxpoints\":\"all\",\"hovertext\":[\"P102\",\"P105\",\"P103\",\"P113\",\"P101\",\"P076\",\"P104\"],\"legendgroup\":\"baseline\",\"marker\":{\"color\":\"#44AA99\"},\"name\":\"baseline\",\"offsetgroup\":\"baseline\",\"showlegend\":false,\"text\":[\"liver\",\"liver\",\"liver\",\"liver\",\"liver\",\"liver\",\"liver\"],\"x\":[\"liver\",\"liver\",\"liver\",\"liver\",\"liver\",\"liver\",\"liver\"],\"y\":{\"dtype\":\"f8\",\"bdata\":\"AAAAAAAAAAAAAAAAAAAAAAAAAAAAAAAAMzMzM6eRHD8AAAAAAAAAAJIkSZKwsDw\\u002fAAAAAAAAAAA=\"},\"type\":\"box\",\"xaxis\":\"x\",\"yaxis\":\"y\"},{\"boxmean\":true,\"boxpoints\":\"all\",\"hovertext\":[\"P103\",\"P102\",\"P113\",\"P101\",\"P104\",\"P105\"],\"legendgroup\":\"baseline\",\"marker\":{\"color\":\"#44AA99\"},\"name\":\"baseline\",\"offsetgroup\":\"baseline\",\"showlegend\":false,\"text\":[\"pancreas\",\"pancreas\",\"pancreas\",\"pancreas\",\"pancreas\",\"pancreas\"],\"x\":[\"pancreas\",\"pancreas\",\"pancreas\",\"pancreas\",\"pancreas\",\"pancreas\"],\"y\":{\"dtype\":\"f8\",\"bdata\":\"VVVVVQfw7z+rqqqqnSXgPwAAAAAAAAAAOY7jOI+P6D+rqqqqFzveP1VVVRW8bLA\\u002f\"},\"type\":\"box\",\"xaxis\":\"x\",\"yaxis\":\"y\"},{\"boxmean\":true,\"boxpoints\":\"all\",\"hovertext\":[\"P104\",\"P005\",\"P113\",\"P105\",\"P103\",\"P101\",\"P102\"],\"legendgroup\":\"baseline\",\"marker\":{\"color\":\"#44AA99\"},\"name\":\"baseline\",\"offsetgroup\":\"baseline\",\"showlegend\":false,\"text\":[\"kidney\",\"kidney\",\"kidney\",\"kidney\",\"kidney\",\"kidney\",\"kidney\"],\"x\":[\"kidney\",\"kidney\",\"kidney\",\"kidney\",\"kidney\",\"kidney\",\"kidney\"],\"y\":{\"dtype\":\"f8\",\"bdata\":\"VVVV1en74z8AAAAAAADwPwAAAAAAAAAAbtu2bVtf5T+rqqqq5K7RPwAAAAAAAAAAAAAAgAbs1z8=\"},\"type\":\"box\",\"xaxis\":\"x\",\"yaxis\":\"y\"},{\"boxmean\":true,\"boxpoints\":\"all\",\"hovertext\":[\"P102\",\"P105\",\"P113\",\"P101\",\"P104\",\"P103\"],\"legendgroup\":\"baseline\",\"marker\":{\"color\":\"#44AA99\"},\"name\":\"baseline\",\"offsetgroup\":\"baseline\",\"showlegend\":false,\"text\":[\"omentum\",\"omentum\",\"omentum\",\"omentum\",\"omentum\",\"omentum\"],\"x\":[\"omentum\",\"omentum\",\"omentum\",\"omentum\",\"omentum\",\"omentum\"],\"y\":{\"dtype\":\"f8\",\"bdata\":\"AAAAAAAA8D8AAAAAAADwPwAAAIAe8u8\\u002fAAAAgNrF7z8AAAAAAADwPwAAAAAAAPA\\u002f\"},\"type\":\"box\",\"xaxis\":\"x\",\"yaxis\":\"y\"},{\"boxmean\":true,\"boxpoints\":\"all\",\"hovertext\":[\"P101\",\"P105\",\"P104\",\"P102\",\"P103\",\"P076\",\"P113\"],\"legendgroup\":\"baseline\",\"marker\":{\"color\":\"#44AA99\"},\"name\":\"baseline\",\"offsetgroup\":\"baseline\",\"showlegend\":false,\"text\":[\"peritoneum\",\"peritoneum\",\"peritoneum\",\"peritoneum\",\"peritoneum\",\"peritoneum\",\"peritoneum\"],\"x\":[\"peritoneum\",\"peritoneum\",\"peritoneum\",\"peritoneum\",\"peritoneum\",\"peritoneum\",\"peritoneum\"],\"y\":{\"dtype\":\"f8\",\"bdata\":\"AAAAAAAA8D9u27ZtA9DvP9lkk012bO8\\u002fOY7jOLb97z9VVVVVAv\\u002fvP+MrvuKT6bM\\u002fl5aWlgrT6z8=\"},\"type\":\"box\",\"xaxis\":\"x\",\"yaxis\":\"y\"},{\"boxmean\":true,\"boxpoints\":\"all\",\"hovertext\":[],\"legendgroup\":\"baseline\",\"marker\":{\"color\":\"#44AA99\"},\"name\":\"baseline\",\"offsetgroup\":\"baseline\",\"showlegend\":false,\"text\":[],\"x\":[],\"y\":[],\"type\":\"box\",\"xaxis\":\"x\",\"yaxis\":\"y\"},{\"boxmean\":true,\"boxpoints\":\"all\",\"hovertext\":[],\"legendgroup\":\"baseline\",\"marker\":{\"color\":\"#44AA99\"},\"name\":\"baseline\",\"offsetgroup\":\"baseline\",\"showlegend\":false,\"text\":[],\"x\":[],\"y\":[],\"type\":\"box\",\"xaxis\":\"x\",\"yaxis\":\"y\"},{\"boxmean\":true,\"boxpoints\":\"all\",\"hovertext\":[],\"legendgroup\":\"baseline\",\"marker\":{\"color\":\"#44AA99\"},\"name\":\"baseline\",\"offsetgroup\":\"baseline\",\"showlegend\":false,\"text\":[],\"x\":[],\"y\":[],\"type\":\"box\",\"xaxis\":\"x\",\"yaxis\":\"y\"},{\"boxmean\":true,\"boxpoints\":\"all\",\"hovertext\":[],\"legendgroup\":\"baseline\",\"marker\":{\"color\":\"#44AA99\"},\"name\":\"baseline\",\"offsetgroup\":\"baseline\",\"showlegend\":false,\"text\":[],\"x\":[],\"y\":[],\"type\":\"box\",\"xaxis\":\"x\",\"yaxis\":\"y\"},{\"boxmean\":true,\"boxpoints\":\"all\",\"hovertext\":[],\"legendgroup\":\"baseline\",\"marker\":{\"color\":\"#44AA99\"},\"name\":\"baseline\",\"offsetgroup\":\"baseline\",\"showlegend\":false,\"text\":[],\"x\":[],\"y\":[],\"type\":\"box\",\"xaxis\":\"x\",\"yaxis\":\"y\"},{\"boxmean\":true,\"boxpoints\":\"all\",\"hovertext\":[],\"legendgroup\":\"baseline\",\"marker\":{\"color\":\"#44AA99\"},\"name\":\"baseline\",\"offsetgroup\":\"baseline\",\"showlegend\":false,\"text\":[],\"x\":[],\"y\":[],\"type\":\"box\",\"xaxis\":\"x\",\"yaxis\":\"y\"},{\"boxmean\":true,\"boxpoints\":\"all\",\"hovertext\":[],\"legendgroup\":\"baseline\",\"marker\":{\"color\":\"#44AA99\"},\"name\":\"baseline\",\"offsetgroup\":\"baseline\",\"showlegend\":false,\"text\":[],\"x\":[],\"y\":[],\"type\":\"box\",\"xaxis\":\"x\",\"yaxis\":\"y\"},{\"boxmean\":true,\"boxpoints\":\"all\",\"hovertext\":[],\"legendgroup\":\"baseline\",\"marker\":{\"color\":\"#44AA99\"},\"name\":\"baseline\",\"offsetgroup\":\"baseline\",\"showlegend\":false,\"text\":[],\"x\":[],\"y\":[],\"type\":\"box\",\"xaxis\":\"x\",\"yaxis\":\"y\"},{\"boxmean\":true,\"boxpoints\":\"all\",\"hovertext\":[\"P005\",\"P113\",\"P105\",\"P104\",\"P102\",\"P101\",\"P076\",\"P027\",\"P025\",\"P103\",\"P013\",\"P008\",\"P007\",\"P006\"],\"legendgroup\":\"xeno-learning\",\"marker\":{\"color\":\"#b86fdc\"},\"name\":\"xeno-learning\",\"offsetgroup\":\"xeno-learning\",\"showlegend\":false,\"text\":[\"stomach\",\"stomach\",\"stomach\",\"stomach\",\"stomach\",\"stomach\",\"stomach\",\"stomach\",\"stomach\",\"stomach\",\"stomach\",\"stomach\",\"stomach\",\"stomach\"],\"x\":[\"stomach\",\"stomach\",\"stomach\",\"stomach\",\"stomach\",\"stomach\",\"stomach\",\"stomach\",\"stomach\",\"stomach\",\"stomach\",\"stomach\",\"stomach\",\"stomach\"],\"y\":{\"dtype\":\"f8\",\"bdata\":\"AAAAAAAAAACKndiJVfHvP+\\u002fu7u4c\\u002f+8\\u002fAAAAAAAA8D\\u002fRRRddDO7vPwAAAAAAAPA\\u002fAAAAAAAA8D8AAAAAAAAAAAAAAAAAAAAAq6qqqvT67z8AAAAAAAAAAAAAAAAAAAAAAAAAAAAAAAAAAAAAAAAAAA==\"},\"type\":\"box\",\"xaxis\":\"x\",\"yaxis\":\"y\"},{\"boxmean\":true,\"boxpoints\":\"all\",\"hovertext\":[\"P014\",\"P103\",\"P105\",\"P102\",\"P013\",\"P005\",\"P113\",\"P104\",\"P006\",\"P101\",\"P076\"],\"legendgroup\":\"xeno-learning\",\"marker\":{\"color\":\"#b86fdc\"},\"name\":\"xeno-learning\",\"offsetgroup\":\"xeno-learning\",\"showlegend\":false,\"text\":[\"small_bowel\",\"small_bowel\",\"small_bowel\",\"small_bowel\",\"small_bowel\",\"small_bowel\",\"small_bowel\",\"small_bowel\",\"small_bowel\",\"small_bowel\",\"small_bowel\"],\"x\":[\"small bowel\",\"small bowel\",\"small bowel\",\"small bowel\",\"small bowel\",\"small bowel\",\"small bowel\",\"small bowel\",\"small bowel\",\"small bowel\",\"small bowel\"],\"y\":{\"dtype\":\"f8\",\"bdata\":\"AAAAAAAA8D\\u002fv7u7uYPfvPwAAAAAAAPA\\u002f8xrKa6zw7j8AAAAAAADwP1VVVdW5\\u002fO8\\u002fmN\\u002fV4oZg6z8AAAAAAADwPwAAAAAAAPA\\u002fq6qqKhDX7T9mZmZmlvjvPw==\"},\"type\":\"box\",\"xaxis\":\"x\",\"yaxis\":\"y\"},{\"boxmean\":true,\"boxpoints\":\"all\",\"hovertext\":[\"P101\",\"P076\",\"P105\",\"P113\",\"P103\",\"P104\",\"P102\"],\"legendgroup\":\"xeno-learning\",\"marker\":{\"color\":\"#b86fdc\"},\"name\":\"xeno-learning\",\"offsetgroup\":\"xeno-learning\",\"showlegend\":false,\"text\":[\"colon\",\"colon\",\"colon\",\"colon\",\"colon\",\"colon\",\"colon\"],\"x\":[\"colon\",\"colon\",\"colon\",\"colon\",\"colon\",\"colon\",\"colon\"],\"y\":{\"dtype\":\"f8\",\"bdata\":\"AAAAAAAA8D91UAd18MzvP1VVVdWe5+8\\u002fAAAAAHyU7z8AAAAAAADwP3d3d3f9\\u002fO8\\u002fAAAAAFAF7D8=\"},\"type\":\"box\",\"xaxis\":\"x\",\"yaxis\":\"y\"},{\"boxmean\":true,\"boxpoints\":\"all\",\"hovertext\":[\"P102\",\"P105\",\"P103\",\"P113\",\"P101\",\"P076\",\"P104\"],\"legendgroup\":\"xeno-learning\",\"marker\":{\"color\":\"#b86fdc\"},\"name\":\"xeno-learning\",\"offsetgroup\":\"xeno-learning\",\"showlegend\":false,\"text\":[\"liver\",\"liver\",\"liver\",\"liver\",\"liver\",\"liver\",\"liver\"],\"x\":[\"liver\",\"liver\",\"liver\",\"liver\",\"liver\",\"liver\",\"liver\"],\"y\":{\"dtype\":\"f8\",\"bdata\":\"t23btr3\\u002f7z9VVVXVBP7vP3Icx3Gs\\u002f+8\\u002fAAAAAPSx7z8AAAAAAADwPwd1UAdtoOY\\u002fAAAAAAAA8D8=\"},\"type\":\"box\",\"xaxis\":\"x\",\"yaxis\":\"y\"},{\"boxmean\":true,\"boxpoints\":\"all\",\"hovertext\":[\"P103\",\"P102\",\"P113\",\"P101\",\"P104\",\"P105\"],\"legendgroup\":\"xeno-learning\",\"marker\":{\"color\":\"#b86fdc\"},\"name\":\"xeno-learning\",\"offsetgroup\":\"xeno-learning\",\"showlegend\":false,\"text\":[\"pancreas\",\"pancreas\",\"pancreas\",\"pancreas\",\"pancreas\",\"pancreas\"],\"x\":[\"pancreas\",\"pancreas\",\"pancreas\",\"pancreas\",\"pancreas\",\"pancreas\"],\"y\":{\"dtype\":\"f8\",\"bdata\":\"AAAAAAAA8D8AAAAAAADwPwAAAMAgAu4\\u002f5DiO42fK6D8AAAAAAADwPwAAAIAfAu4\\u002f\"},\"type\":\"box\",\"xaxis\":\"x\",\"yaxis\":\"y\"},{\"boxmean\":true,\"boxpoints\":\"all\",\"hovertext\":[\"P104\",\"P005\",\"P113\",\"P105\",\"P103\",\"P101\",\"P102\"],\"legendgroup\":\"xeno-learning\",\"marker\":{\"color\":\"#b86fdc\"},\"name\":\"xeno-learning\",\"offsetgroup\":\"xeno-learning\",\"showlegend\":false,\"text\":[\"kidney\",\"kidney\",\"kidney\",\"kidney\",\"kidney\",\"kidney\",\"kidney\"],\"x\":[\"kidney\",\"kidney\",\"kidney\",\"kidney\",\"kidney\",\"kidney\",\"kidney\"],\"y\":{\"dtype\":\"f8\",\"bdata\":\"q6qqqjjq7z8AAAAAAADwPwAAAAAF6OU\\u002fMQzDMPRr7z+O4ziOzf\\u002fvP6uqqqq05O8\\u002fAAAAAAAA8D8=\"},\"type\":\"box\",\"xaxis\":\"x\",\"yaxis\":\"y\"},{\"boxmean\":true,\"boxpoints\":\"all\",\"hovertext\":[\"P102\",\"P105\",\"P113\",\"P101\",\"P104\",\"P103\"],\"legendgroup\":\"xeno-learning\",\"marker\":{\"color\":\"#b86fdc\"},\"name\":\"xeno-learning\",\"offsetgroup\":\"xeno-learning\",\"showlegend\":false,\"text\":[\"omentum\",\"omentum\",\"omentum\",\"omentum\",\"omentum\",\"omentum\"],\"x\":[\"omentum\",\"omentum\",\"omentum\",\"omentum\",\"omentum\",\"omentum\"],\"y\":{\"dtype\":\"f8\",\"bdata\":\"AAAAAAAA8D8AAAAAAADwPwAAAIAm\\u002fO8\\u002fAAAAAAAA8D8AAAAAAADwPwAAAAAAAPA\\u002f\"},\"type\":\"box\",\"xaxis\":\"x\",\"yaxis\":\"y\"},{\"boxmean\":true,\"boxpoints\":\"all\",\"hovertext\":[\"P101\",\"P105\",\"P104\",\"P102\",\"P103\",\"P076\",\"P113\"],\"legendgroup\":\"xeno-learning\",\"marker\":{\"color\":\"#b86fdc\"},\"name\":\"xeno-learning\",\"offsetgroup\":\"xeno-learning\",\"showlegend\":false,\"text\":[\"peritoneum\",\"peritoneum\",\"peritoneum\",\"peritoneum\",\"peritoneum\",\"peritoneum\",\"peritoneum\"],\"x\":[\"peritoneum\",\"peritoneum\",\"peritoneum\",\"peritoneum\",\"peritoneum\",\"peritoneum\",\"peritoneum\"],\"y\":{\"dtype\":\"f8\",\"bdata\":\"AAAAAAAA8D8AAAAAAADwP4QPPvjg++8\\u002fOY7jOGb\\u002f7z8AAACAr\\u002f\\u002fvP3zFV3zF\\u002f+8\\u002feHh4eMj\\u002f7z8=\"},\"type\":\"box\",\"xaxis\":\"x\",\"yaxis\":\"y\"},{\"boxmean\":true,\"boxpoints\":\"all\",\"hovertext\":[],\"legendgroup\":\"xeno-learning\",\"marker\":{\"color\":\"#b86fdc\"},\"name\":\"xeno-learning\",\"offsetgroup\":\"xeno-learning\",\"showlegend\":false,\"text\":[],\"x\":[],\"y\":[],\"type\":\"box\",\"xaxis\":\"x\",\"yaxis\":\"y\"},{\"boxmean\":true,\"boxpoints\":\"all\",\"hovertext\":[],\"legendgroup\":\"xeno-learning\",\"marker\":{\"color\":\"#b86fdc\"},\"name\":\"xeno-learning\",\"offsetgroup\":\"xeno-learning\",\"showlegend\":false,\"text\":[],\"x\":[],\"y\":[],\"type\":\"box\",\"xaxis\":\"x\",\"yaxis\":\"y\"},{\"boxmean\":true,\"boxpoints\":\"all\",\"hovertext\":[],\"legendgroup\":\"xeno-learning\",\"marker\":{\"color\":\"#b86fdc\"},\"name\":\"xeno-learning\",\"offsetgroup\":\"xeno-learning\",\"showlegend\":false,\"text\":[],\"x\":[],\"y\":[],\"type\":\"box\",\"xaxis\":\"x\",\"yaxis\":\"y\"},{\"boxmean\":true,\"boxpoints\":\"all\",\"hovertext\":[],\"legendgroup\":\"xeno-learning\",\"marker\":{\"color\":\"#b86fdc\"},\"name\":\"xeno-learning\",\"offsetgroup\":\"xeno-learning\",\"showlegend\":false,\"text\":[],\"x\":[],\"y\":[],\"type\":\"box\",\"xaxis\":\"x\",\"yaxis\":\"y\"},{\"boxmean\":true,\"boxpoints\":\"all\",\"hovertext\":[],\"legendgroup\":\"xeno-learning\",\"marker\":{\"color\":\"#b86fdc\"},\"name\":\"xeno-learning\",\"offsetgroup\":\"xeno-learning\",\"showlegend\":false,\"text\":[],\"x\":[],\"y\":[],\"type\":\"box\",\"xaxis\":\"x\",\"yaxis\":\"y\"},{\"boxmean\":true,\"boxpoints\":\"all\",\"hovertext\":[],\"legendgroup\":\"xeno-learning\",\"marker\":{\"color\":\"#b86fdc\"},\"name\":\"xeno-learning\",\"offsetgroup\":\"xeno-learning\",\"showlegend\":false,\"text\":[],\"x\":[],\"y\":[],\"type\":\"box\",\"xaxis\":\"x\",\"yaxis\":\"y\"},{\"boxmean\":true,\"boxpoints\":\"all\",\"hovertext\":[],\"legendgroup\":\"xeno-learning\",\"marker\":{\"color\":\"#b86fdc\"},\"name\":\"xeno-learning\",\"offsetgroup\":\"xeno-learning\",\"showlegend\":false,\"text\":[],\"x\":[],\"y\":[],\"type\":\"box\",\"xaxis\":\"x\",\"yaxis\":\"y\"},{\"boxmean\":true,\"boxpoints\":\"all\",\"hovertext\":[],\"legendgroup\":\"xeno-learning\",\"marker\":{\"color\":\"#b86fdc\"},\"name\":\"xeno-learning\",\"offsetgroup\":\"xeno-learning\",\"showlegend\":false,\"text\":[],\"x\":[],\"y\":[],\"type\":\"box\",\"xaxis\":\"x\",\"yaxis\":\"y\"},{\"boxmean\":true,\"boxpoints\":\"all\",\"hovertext\":[],\"legendgroup\":\"baseline\",\"marker\":{\"color\":\"#89CCED\"},\"name\":\"baseline\",\"offsetgroup\":\"baseline\",\"showlegend\":false,\"text\":[],\"x\":[],\"y\":[],\"type\":\"box\",\"xaxis\":\"x2\",\"yaxis\":\"y2\"},{\"boxmean\":true,\"boxpoints\":\"all\",\"hovertext\":[],\"legendgroup\":\"baseline\",\"marker\":{\"color\":\"#89CCED\"},\"name\":\"baseline\",\"offsetgroup\":\"baseline\",\"showlegend\":false,\"text\":[],\"x\":[],\"y\":[],\"type\":\"box\",\"xaxis\":\"x2\",\"yaxis\":\"y2\"},{\"boxmean\":true,\"boxpoints\":\"all\",\"hovertext\":[],\"legendgroup\":\"baseline\",\"marker\":{\"color\":\"#89CCED\"},\"name\":\"baseline\",\"offsetgroup\":\"baseline\",\"showlegend\":false,\"text\":[],\"x\":[],\"y\":[],\"type\":\"box\",\"xaxis\":\"x2\",\"yaxis\":\"y2\"},{\"boxmean\":true,\"boxpoints\":\"all\",\"hovertext\":[],\"legendgroup\":\"baseline\",\"marker\":{\"color\":\"#89CCED\"},\"name\":\"baseline\",\"offsetgroup\":\"baseline\",\"showlegend\":false,\"text\":[],\"x\":[],\"y\":[],\"type\":\"box\",\"xaxis\":\"x2\",\"yaxis\":\"y2\"},{\"boxmean\":true,\"boxpoints\":\"all\",\"hovertext\":[],\"legendgroup\":\"baseline\",\"marker\":{\"color\":\"#89CCED\"},\"name\":\"baseline\",\"offsetgroup\":\"baseline\",\"showlegend\":false,\"text\":[],\"x\":[],\"y\":[],\"type\":\"box\",\"xaxis\":\"x2\",\"yaxis\":\"y2\"},{\"boxmean\":true,\"boxpoints\":\"all\",\"hovertext\":[],\"legendgroup\":\"baseline\",\"marker\":{\"color\":\"#89CCED\"},\"name\":\"baseline\",\"offsetgroup\":\"baseline\",\"showlegend\":false,\"text\":[],\"x\":[],\"y\":[],\"type\":\"box\",\"xaxis\":\"x2\",\"yaxis\":\"y2\"},{\"boxmean\":true,\"boxpoints\":\"all\",\"hovertext\":[],\"legendgroup\":\"baseline\",\"marker\":{\"color\":\"#89CCED\"},\"name\":\"baseline\",\"offsetgroup\":\"baseline\",\"showlegend\":false,\"text\":[],\"x\":[],\"y\":[],\"type\":\"box\",\"xaxis\":\"x2\",\"yaxis\":\"y2\"},{\"boxmean\":true,\"boxpoints\":\"all\",\"hovertext\":[],\"legendgroup\":\"baseline\",\"marker\":{\"color\":\"#89CCED\"},\"name\":\"baseline\",\"offsetgroup\":\"baseline\",\"showlegend\":false,\"text\":[],\"x\":[],\"y\":[],\"type\":\"box\",\"xaxis\":\"x2\",\"yaxis\":\"y2\"},{\"boxmean\":true,\"boxpoints\":\"all\",\"hovertext\":[\"R043\",\"R046\",\"R047\",\"R048\",\"R044\",\"R045\"],\"legendgroup\":\"baseline\",\"marker\":{\"color\":\"#89CCED\"},\"name\":\"baseline\",\"offsetgroup\":\"baseline\",\"showlegend\":false,\"text\":[\"stomach\",\"stomach\",\"stomach\",\"stomach\",\"stomach\",\"stomach\"],\"x\":[\"stomach\",\"stomach\",\"stomach\",\"stomach\",\"stomach\",\"stomach\"],\"y\":{\"dtype\":\"f8\",\"bdata\":\"+Id\\u002f+Mfs7D\\u002fjp8U2XgfrPw+85xvT4Ok\\u002fRq4zAeOGxT\\u002ffe++9Lxy1P9Ow3Sz36uQ\\u002f\"},\"type\":\"box\",\"xaxis\":\"x2\",\"yaxis\":\"y2\"},{\"boxmean\":true,\"boxpoints\":\"all\",\"hovertext\":[\"R047\",\"R045\",\"R044\",\"R046\",\"R043\",\"R048\"],\"legendgroup\":\"baseline\",\"marker\":{\"color\":\"#89CCED\"},\"name\":\"baseline\",\"offsetgroup\":\"baseline\",\"showlegend\":false,\"text\":[\"small_bowel\",\"small_bowel\",\"small_bowel\",\"small_bowel\",\"small_bowel\",\"small_bowel\"],\"x\":[\"small bowel\",\"small bowel\",\"small bowel\",\"small bowel\",\"small bowel\",\"small bowel\"],\"y\":{\"dtype\":\"f8\",\"bdata\":\"y6MD73lD6z8N283yHOLjP4wxxhjPc+E\\u002fs6asKcu\\u002f5z9XczVXsxnrPx1ItMLGhug\\u002f\"},\"type\":\"box\",\"xaxis\":\"x2\",\"yaxis\":\"y2\"},{\"boxmean\":true,\"boxpoints\":\"all\",\"hovertext\":[\"R047\",\"R043\",\"R044\",\"R046\",\"R048\",\"R045\"],\"legendgroup\":\"baseline\",\"marker\":{\"color\":\"#89CCED\"},\"name\":\"baseline\",\"offsetgroup\":\"baseline\",\"showlegend\":false,\"text\":[\"colon\",\"colon\",\"colon\",\"colon\",\"colon\",\"colon\"],\"x\":[\"colon\",\"colon\",\"colon\",\"colon\",\"colon\",\"colon\"],\"y\":{\"dtype\":\"f8\",\"bdata\":\"g5wl+2s\\u002f7z9e3MVdXHzvP6211lq7lNA\\u002fGPQFfWGO7z8ucp0JeJnqP2rYbpaHRe4\\u002f\"},\"type\":\"box\",\"xaxis\":\"x2\",\"yaxis\":\"y2\"},{\"boxmean\":true,\"boxpoints\":\"all\",\"hovertext\":[\"R047\",\"R046\",\"R045\",\"R048\",\"R044\",\"R043\"],\"legendgroup\":\"baseline\",\"marker\":{\"color\":\"#89CCED\"},\"name\":\"baseline\",\"offsetgroup\":\"baseline\",\"showlegend\":false,\"text\":[\"liver\",\"liver\",\"liver\",\"liver\",\"liver\",\"liver\"],\"x\":[\"liver\",\"liver\",\"liver\",\"liver\",\"liver\",\"liver\"],\"y\":{\"dtype\":\"f8\",\"bdata\":\"AAAAAAAAAADgc0uc4o1DPwAAAAAAAAAAAAAAAAAAAAAAAAAAAAAAAAAAAAAAAAAA\"},\"type\":\"box\",\"xaxis\":\"x2\",\"yaxis\":\"y2\"},{\"boxmean\":true,\"boxpoints\":\"all\",\"hovertext\":[\"R045\",\"R047\",\"R043\",\"R048\",\"R044\",\"R046\"],\"legendgroup\":\"baseline\",\"marker\":{\"color\":\"#89CCED\"},\"name\":\"baseline\",\"offsetgroup\":\"baseline\",\"showlegend\":false,\"text\":[\"pancreas\",\"pancreas\",\"pancreas\",\"pancreas\",\"pancreas\",\"pancreas\"],\"x\":[\"pancreas\",\"pancreas\",\"pancreas\",\"pancreas\",\"pancreas\",\"pancreas\"],\"y\":{\"dtype\":\"f8\",\"bdata\":\"IHRU4JsOuD+xGi5+6DNrPw8PDw+vyvY+gvFW9rlw+D4AAAAAAAAAAEFf0Bf0oM4\\u002f\"},\"type\":\"box\",\"xaxis\":\"x2\",\"yaxis\":\"y2\"},{\"boxmean\":true,\"boxpoints\":\"all\",\"hovertext\":[\"R045\",\"R048\",\"R044\",\"R043\",\"R047\",\"R046\"],\"legendgroup\":\"baseline\",\"marker\":{\"color\":\"#89CCED\"},\"name\":\"baseline\",\"offsetgroup\":\"baseline\",\"showlegend\":false,\"text\":[\"kidney\",\"kidney\",\"kidney\",\"kidney\",\"kidney\",\"kidney\"],\"x\":[\"kidney\",\"kidney\",\"kidney\",\"kidney\",\"kidney\",\"kidney\"],\"y\":{\"dtype\":\"f8\",\"bdata\":\"zvIkMqUa4j8NoZJutDPkPwAAAAAAAAAA6YHK2a125D\\u002fdTuXRgaTlP2zjp8WW\\u002fOY\\u002f\"},\"type\":\"box\",\"xaxis\":\"x2\",\"yaxis\":\"y2\"},{\"boxmean\":true,\"boxpoints\":\"all\",\"hovertext\":[\"R047\",\"R046\",\"R048\",\"R045\",\"R044\",\"R043\"],\"legendgroup\":\"baseline\",\"marker\":{\"color\":\"#89CCED\"},\"name\":\"baseline\",\"offsetgroup\":\"baseline\",\"showlegend\":false,\"text\":[\"omentum\",\"omentum\",\"omentum\",\"omentum\",\"omentum\",\"omentum\"],\"x\":[\"omentum\",\"omentum\",\"omentum\",\"omentum\",\"omentum\",\"omentum\"],\"y\":{\"dtype\":\"f8\",\"bdata\":\"g5wl+2va6j9ZU9aUFYPsP+5ST8aPWek\\u002fyKmAX7jh5j+VUkophUXSP5RCKZRCyO4\\u002f\"},\"type\":\"box\",\"xaxis\":\"x2\",\"yaxis\":\"y2\"},{\"boxmean\":true,\"boxpoints\":\"all\",\"hovertext\":[\"R045\",\"R046\",\"R044\",\"R043\",\"R047\",\"R048\"],\"legendgroup\":\"baseline\",\"marker\":{\"color\":\"#89CCED\"},\"name\":\"baseline\",\"offsetgroup\":\"baseline\",\"showlegend\":false,\"text\":[\"peritoneum\",\"peritoneum\",\"peritoneum\",\"peritoneum\",\"peritoneum\",\"peritoneum\"],\"x\":[\"peritoneum\",\"peritoneum\",\"peritoneum\",\"peritoneum\",\"peritoneum\",\"peritoneum\"],\"y\":{\"dtype\":\"f8\",\"bdata\":\"mYbtZqns7j\\u002fZxk+LDWHtPzLGGGPoau8\\u002fFlmRFVnN7j8PvOcb8xbtP7hLPRn\\u002f6+s\\u002f\"},\"type\":\"box\",\"xaxis\":\"x2\",\"yaxis\":\"y2\"},{\"boxmean\":true,\"boxpoints\":\"all\",\"hovertext\":[],\"legendgroup\":\"xeno-learning\",\"marker\":{\"color\":\"#b86fdc\"},\"name\":\"xeno-learning\",\"offsetgroup\":\"xeno-learning\",\"showlegend\":false,\"text\":[],\"x\":[],\"y\":[],\"type\":\"box\",\"xaxis\":\"x2\",\"yaxis\":\"y2\"},{\"boxmean\":true,\"boxpoints\":\"all\",\"hovertext\":[],\"legendgroup\":\"xeno-learning\",\"marker\":{\"color\":\"#b86fdc\"},\"name\":\"xeno-learning\",\"offsetgroup\":\"xeno-learning\",\"showlegend\":false,\"text\":[],\"x\":[],\"y\":[],\"type\":\"box\",\"xaxis\":\"x2\",\"yaxis\":\"y2\"},{\"boxmean\":true,\"boxpoints\":\"all\",\"hovertext\":[],\"legendgroup\":\"xeno-learning\",\"marker\":{\"color\":\"#b86fdc\"},\"name\":\"xeno-learning\",\"offsetgroup\":\"xeno-learning\",\"showlegend\":false,\"text\":[],\"x\":[],\"y\":[],\"type\":\"box\",\"xaxis\":\"x2\",\"yaxis\":\"y2\"},{\"boxmean\":true,\"boxpoints\":\"all\",\"hovertext\":[],\"legendgroup\":\"xeno-learning\",\"marker\":{\"color\":\"#b86fdc\"},\"name\":\"xeno-learning\",\"offsetgroup\":\"xeno-learning\",\"showlegend\":false,\"text\":[],\"x\":[],\"y\":[],\"type\":\"box\",\"xaxis\":\"x2\",\"yaxis\":\"y2\"},{\"boxmean\":true,\"boxpoints\":\"all\",\"hovertext\":[],\"legendgroup\":\"xeno-learning\",\"marker\":{\"color\":\"#b86fdc\"},\"name\":\"xeno-learning\",\"offsetgroup\":\"xeno-learning\",\"showlegend\":false,\"text\":[],\"x\":[],\"y\":[],\"type\":\"box\",\"xaxis\":\"x2\",\"yaxis\":\"y2\"},{\"boxmean\":true,\"boxpoints\":\"all\",\"hovertext\":[],\"legendgroup\":\"xeno-learning\",\"marker\":{\"color\":\"#b86fdc\"},\"name\":\"xeno-learning\",\"offsetgroup\":\"xeno-learning\",\"showlegend\":false,\"text\":[],\"x\":[],\"y\":[],\"type\":\"box\",\"xaxis\":\"x2\",\"yaxis\":\"y2\"},{\"boxmean\":true,\"boxpoints\":\"all\",\"hovertext\":[],\"legendgroup\":\"xeno-learning\",\"marker\":{\"color\":\"#b86fdc\"},\"name\":\"xeno-learning\",\"offsetgroup\":\"xeno-learning\",\"showlegend\":false,\"text\":[],\"x\":[],\"y\":[],\"type\":\"box\",\"xaxis\":\"x2\",\"yaxis\":\"y2\"},{\"boxmean\":true,\"boxpoints\":\"all\",\"hovertext\":[],\"legendgroup\":\"xeno-learning\",\"marker\":{\"color\":\"#b86fdc\"},\"name\":\"xeno-learning\",\"offsetgroup\":\"xeno-learning\",\"showlegend\":false,\"text\":[],\"x\":[],\"y\":[],\"type\":\"box\",\"xaxis\":\"x2\",\"yaxis\":\"y2\"},{\"boxmean\":true,\"boxpoints\":\"all\",\"hovertext\":[\"R043\",\"R046\",\"R047\",\"R048\",\"R044\",\"R045\"],\"legendgroup\":\"xeno-learning\",\"marker\":{\"color\":\"#b86fdc\"},\"name\":\"xeno-learning\",\"offsetgroup\":\"xeno-learning\",\"showlegend\":false,\"text\":[\"stomach\",\"stomach\",\"stomach\",\"stomach\",\"stomach\",\"stomach\"],\"x\":[\"stomach\",\"stomach\",\"stomach\",\"stomach\",\"stomach\",\"stomach\"],\"y\":{\"dtype\":\"f8\",\"bdata\":\"p27qpq7t7z\\u002f8tNjGT8zvP8PFD2FQ8e8\\u002fY\\u002fbnw2mn5z8RQggh\\u002fJjuP6QCX1ytge4\\u002f\"},\"type\":\"box\",\"xaxis\":\"x2\",\"yaxis\":\"y2\"},{\"boxmean\":true,\"boxpoints\":\"all\",\"hovertext\":[\"R047\",\"R045\",\"R044\",\"R046\",\"R043\",\"R048\"],\"legendgroup\":\"xeno-learning\",\"marker\":{\"color\":\"#b86fdc\"},\"name\":\"xeno-learning\",\"offsetgroup\":\"xeno-learning\",\"showlegend\":false,\"text\":[\"small_bowel\",\"small_bowel\",\"small_bowel\",\"small_bowel\",\"small_bowel\",\"small_bowel\"],\"x\":[\"small bowel\",\"small bowel\",\"small bowel\",\"small bowel\",\"small bowel\",\"small bowel\"],\"y\":{\"dtype\":\"f8\",\"bdata\":\"8UMY5Ixk7j8dFfjimlXrP84555zTDew\\u002fhNetQhhO7z\\u002f5lm\\u002f5NgbtP05DqKQ7jOo\\u002f\"},\"type\":\"box\",\"xaxis\":\"x2\",\"yaxis\":\"y2\"},{\"boxmean\":true,\"boxpoints\":\"all\",\"hovertext\":[\"R047\",\"R043\",\"R044\",\"R046\",\"R048\",\"R045\"],\"legendgroup\":\"xeno-learning\",\"marker\":{\"color\":\"#b86fdc\"},\"name\":\"xeno-learning\",\"offsetgroup\":\"xeno-learning\",\"showlegend\":false,\"text\":[\"colon\",\"colon\",\"colon\",\"colon\",\"colon\",\"colon\"],\"x\":[\"colon\",\"colon\",\"colon\",\"colon\",\"colon\",\"colon\"],\"y\":{\"dtype\":\"f8\",\"bdata\":\"qjw68J7\\u002f7z+P93iPN\\u002fTvPwAAAAAAAPA\\u002f\\u002fs3l2f\\u002f+7z8ey3u15fPmP0cFvrhqYe0\\u002f\"},\"type\":\"box\",\"xaxis\":\"x2\",\"yaxis\":\"y2\"},{\"boxmean\":true,\"boxpoints\":\"all\",\"hovertext\":[\"R047\",\"R046\",\"R045\",\"R048\",\"R044\",\"R043\"],\"legendgroup\":\"xeno-learning\",\"marker\":{\"color\":\"#b86fdc\"},\"name\":\"xeno-learning\",\"offsetgroup\":\"xeno-learning\",\"showlegend\":false,\"text\":[\"liver\",\"liver\",\"liver\",\"liver\",\"liver\",\"liver\"],\"x\":[\"liver\",\"liver\",\"liver\",\"liver\",\"liver\",\"liver\"],\"y\":{\"dtype\":\"f8\",\"bdata\":\"fL4xbYI27T+fW+LU32PtPzCuftCxe+w\\u002f7EzA4LHT7T\\u002fnnHPOfTLlP6uqqqrKOe8\\u002f\"},\"type\":\"box\",\"xaxis\":\"x2\",\"yaxis\":\"y2\"},{\"boxmean\":true,\"boxpoints\":\"all\",\"hovertext\":[\"R045\",\"R047\",\"R043\",\"R048\",\"R044\",\"R046\"],\"legendgroup\":\"xeno-learning\",\"marker\":{\"color\":\"#b86fdc\"},\"name\":\"xeno-learning\",\"offsetgroup\":\"xeno-learning\",\"showlegend\":false,\"text\":[\"pancreas\",\"pancreas\",\"pancreas\",\"pancreas\",\"pancreas\",\"pancreas\"],\"x\":[\"pancreas\",\"pancreas\",\"pancreas\",\"pancreas\",\"pancreas\",\"pancreas\"],\"y\":{\"dtype\":\"f8\",\"bdata\":\"4IurHwSlxz8noBT1cpbTP8TDw8MdptE\\u002fwXgr+0zgmT+llFJKib\\u002fjP9V7KFLdIOE\\u002f\"},\"type\":\"box\",\"xaxis\":\"x2\",\"yaxis\":\"y2\"},{\"boxmean\":true,\"boxpoints\":\"all\",\"hovertext\":[\"R045\",\"R048\",\"R044\",\"R043\",\"R047\",\"R046\"],\"legendgroup\":\"xeno-learning\",\"marker\":{\"color\":\"#b86fdc\"},\"name\":\"xeno-learning\",\"offsetgroup\":\"xeno-learning\",\"showlegend\":false,\"text\":[\"kidney\",\"kidney\",\"kidney\",\"kidney\",\"kidney\",\"kidney\"],\"x\":[\"kidney\",\"kidney\",\"kidney\",\"kidney\",\"kidney\",\"kidney\"],\"y\":{\"dtype\":\"f8\",\"bdata\":\"lMg0bHcH6j9CJd0opvTuP0IIIYTwotw\\u002fivRA5dwn7j\\u002fZX+sKTXTsP3sPRar3xu4\\u002f\"},\"type\":\"box\",\"xaxis\":\"x2\",\"yaxis\":\"y2\"},{\"boxmean\":true,\"boxpoints\":\"all\",\"hovertext\":[\"R047\",\"R046\",\"R048\",\"R045\",\"R044\",\"R043\"],\"legendgroup\":\"xeno-learning\",\"marker\":{\"color\":\"#b86fdc\"},\"name\":\"xeno-learning\",\"offsetgroup\":\"xeno-learning\",\"showlegend\":false,\"text\":[\"omentum\",\"omentum\",\"omentum\",\"omentum\",\"omentum\",\"omentum\"],\"x\":[\"omentum\",\"omentum\",\"omentum\",\"omentum\",\"omentum\",\"omentum\"],\"y\":{\"dtype\":\"f8\",\"bdata\":\"HXjPN4b57j\\u002fIaJiALJvtP62wOZAoous\\u002fOFZ\\u002foFc+5D+21lprDc\\u002fvP3y8x3s8e+0\\u002f\"},\"type\":\"box\",\"xaxis\":\"x2\",\"yaxis\":\"y2\"},{\"boxmean\":true,\"boxpoints\":\"all\",\"hovertext\":[\"R045\",\"R046\",\"R044\",\"R043\",\"R047\",\"R048\"],\"legendgroup\":\"xeno-learning\",\"marker\":{\"color\":\"#b86fdc\"},\"name\":\"xeno-learning\",\"offsetgroup\":\"xeno-learning\",\"showlegend\":false,\"text\":[\"peritoneum\",\"peritoneum\",\"peritoneum\",\"peritoneum\",\"peritoneum\",\"peritoneum\"],\"x\":[\"peritoneum\",\"peritoneum\",\"peritoneum\",\"peritoneum\",\"peritoneum\",\"peritoneum\"],\"y\":{\"dtype\":\"f8\",\"bdata\":\"KJFp2E7Q7z+q91Ck2v\\u002fvP+ecc84N\\u002fuw\\u002fXtzFXVz\\u002f7z+fb0ybQK3vP8PmQKL1\\u002f+8\\u002f\"},\"type\":\"box\",\"xaxis\":\"x2\",\"yaxis\":\"y2\"}],                        {\"template\":{\"data\":{\"barpolar\":[{\"marker\":{\"line\":{\"color\":\"white\",\"width\":0.5},\"pattern\":{\"fillmode\":\"overlay\",\"size\":10,\"solidity\":0.2}},\"type\":\"barpolar\"}],\"bar\":[{\"error_x\":{\"color\":\"#2a3f5f\"},\"error_y\":{\"color\":\"#2a3f5f\"},\"marker\":{\"line\":{\"color\":\"white\",\"width\":0.5},\"pattern\":{\"fillmode\":\"overlay\",\"size\":10,\"solidity\":0.2}},\"type\":\"bar\"}],\"carpet\":[{\"aaxis\":{\"endlinecolor\":\"#2a3f5f\",\"gridcolor\":\"#C8D4E3\",\"linecolor\":\"#C8D4E3\",\"minorgridcolor\":\"#C8D4E3\",\"startlinecolor\":\"#2a3f5f\"},\"baxis\":{\"endlinecolor\":\"#2a3f5f\",\"gridcolor\":\"#C8D4E3\",\"linecolor\":\"#C8D4E3\",\"minorgridcolor\":\"#C8D4E3\",\"startlinecolor\":\"#2a3f5f\"},\"type\":\"carpet\"}],\"choropleth\":[{\"colorbar\":{\"outlinewidth\":0,\"ticks\":\"\"},\"type\":\"choropleth\"}],\"contourcarpet\":[{\"colorbar\":{\"outlinewidth\":0,\"ticks\":\"\"},\"type\":\"contourcarpet\"}],\"contour\":[{\"colorbar\":{\"outlinewidth\":0,\"ticks\":\"\"},\"colorscale\":[[0.0,\"#0d0887\"],[0.1111111111111111,\"#46039f\"],[0.2222222222222222,\"#7201a8\"],[0.3333333333333333,\"#9c179e\"],[0.4444444444444444,\"#bd3786\"],[0.5555555555555556,\"#d8576b\"],[0.6666666666666666,\"#ed7953\"],[0.7777777777777778,\"#fb9f3a\"],[0.8888888888888888,\"#fdca26\"],[1.0,\"#f0f921\"]],\"type\":\"contour\"}],\"heatmap\":[{\"colorbar\":{\"outlinewidth\":0,\"ticks\":\"\"},\"colorscale\":[[0.0,\"#0d0887\"],[0.1111111111111111,\"#46039f\"],[0.2222222222222222,\"#7201a8\"],[0.3333333333333333,\"#9c179e\"],[0.4444444444444444,\"#bd3786\"],[0.5555555555555556,\"#d8576b\"],[0.6666666666666666,\"#ed7953\"],[0.7777777777777778,\"#fb9f3a\"],[0.8888888888888888,\"#fdca26\"],[1.0,\"#f0f921\"]],\"type\":\"heatmap\"}],\"histogram2dcontour\":[{\"colorbar\":{\"outlinewidth\":0,\"ticks\":\"\"},\"colorscale\":[[0.0,\"#0d0887\"],[0.1111111111111111,\"#46039f\"],[0.2222222222222222,\"#7201a8\"],[0.3333333333333333,\"#9c179e\"],[0.4444444444444444,\"#bd3786\"],[0.5555555555555556,\"#d8576b\"],[0.6666666666666666,\"#ed7953\"],[0.7777777777777778,\"#fb9f3a\"],[0.8888888888888888,\"#fdca26\"],[1.0,\"#f0f921\"]],\"type\":\"histogram2dcontour\"}],\"histogram2d\":[{\"colorbar\":{\"outlinewidth\":0,\"ticks\":\"\"},\"colorscale\":[[0.0,\"#0d0887\"],[0.1111111111111111,\"#46039f\"],[0.2222222222222222,\"#7201a8\"],[0.3333333333333333,\"#9c179e\"],[0.4444444444444444,\"#bd3786\"],[0.5555555555555556,\"#d8576b\"],[0.6666666666666666,\"#ed7953\"],[0.7777777777777778,\"#fb9f3a\"],[0.8888888888888888,\"#fdca26\"],[1.0,\"#f0f921\"]],\"type\":\"histogram2d\"}],\"histogram\":[{\"marker\":{\"pattern\":{\"fillmode\":\"overlay\",\"size\":10,\"solidity\":0.2}},\"type\":\"histogram\"}],\"mesh3d\":[{\"colorbar\":{\"outlinewidth\":0,\"ticks\":\"\"},\"type\":\"mesh3d\"}],\"parcoords\":[{\"line\":{\"colorbar\":{\"outlinewidth\":0,\"ticks\":\"\"}},\"type\":\"parcoords\"}],\"pie\":[{\"automargin\":true,\"type\":\"pie\"}],\"scatter3d\":[{\"line\":{\"colorbar\":{\"outlinewidth\":0,\"ticks\":\"\"}},\"marker\":{\"colorbar\":{\"outlinewidth\":0,\"ticks\":\"\"}},\"type\":\"scatter3d\"}],\"scattercarpet\":[{\"marker\":{\"colorbar\":{\"outlinewidth\":0,\"ticks\":\"\"}},\"type\":\"scattercarpet\"}],\"scattergeo\":[{\"marker\":{\"colorbar\":{\"outlinewidth\":0,\"ticks\":\"\"}},\"type\":\"scattergeo\"}],\"scattergl\":[{\"marker\":{\"colorbar\":{\"outlinewidth\":0,\"ticks\":\"\"}},\"type\":\"scattergl\"}],\"scattermapbox\":[{\"marker\":{\"colorbar\":{\"outlinewidth\":0,\"ticks\":\"\"}},\"type\":\"scattermapbox\"}],\"scattermap\":[{\"marker\":{\"colorbar\":{\"outlinewidth\":0,\"ticks\":\"\"}},\"type\":\"scattermap\"}],\"scatterpolargl\":[{\"marker\":{\"colorbar\":{\"outlinewidth\":0,\"ticks\":\"\"}},\"type\":\"scatterpolargl\"}],\"scatterpolar\":[{\"marker\":{\"colorbar\":{\"outlinewidth\":0,\"ticks\":\"\"}},\"type\":\"scatterpolar\"}],\"scatter\":[{\"fillpattern\":{\"fillmode\":\"overlay\",\"size\":10,\"solidity\":0.2},\"type\":\"scatter\"}],\"scatterternary\":[{\"marker\":{\"colorbar\":{\"outlinewidth\":0,\"ticks\":\"\"}},\"type\":\"scatterternary\"}],\"surface\":[{\"colorbar\":{\"outlinewidth\":0,\"ticks\":\"\"},\"colorscale\":[[0.0,\"#0d0887\"],[0.1111111111111111,\"#46039f\"],[0.2222222222222222,\"#7201a8\"],[0.3333333333333333,\"#9c179e\"],[0.4444444444444444,\"#bd3786\"],[0.5555555555555556,\"#d8576b\"],[0.6666666666666666,\"#ed7953\"],[0.7777777777777778,\"#fb9f3a\"],[0.8888888888888888,\"#fdca26\"],[1.0,\"#f0f921\"]],\"type\":\"surface\"}],\"table\":[{\"cells\":{\"fill\":{\"color\":\"#EBF0F8\"},\"line\":{\"color\":\"white\"}},\"header\":{\"fill\":{\"color\":\"#C8D4E3\"},\"line\":{\"color\":\"white\"}},\"type\":\"table\"}]},\"layout\":{\"annotationdefaults\":{\"arrowcolor\":\"#2a3f5f\",\"arrowhead\":0,\"arrowwidth\":1},\"autotypenumbers\":\"strict\",\"coloraxis\":{\"colorbar\":{\"outlinewidth\":0,\"ticks\":\"\"}},\"colorscale\":{\"diverging\":[[0,\"#8e0152\"],[0.1,\"#c51b7d\"],[0.2,\"#de77ae\"],[0.3,\"#f1b6da\"],[0.4,\"#fde0ef\"],[0.5,\"#f7f7f7\"],[0.6,\"#e6f5d0\"],[0.7,\"#b8e186\"],[0.8,\"#7fbc41\"],[0.9,\"#4d9221\"],[1,\"#276419\"]],\"sequential\":[[0.0,\"#0d0887\"],[0.1111111111111111,\"#46039f\"],[0.2222222222222222,\"#7201a8\"],[0.3333333333333333,\"#9c179e\"],[0.4444444444444444,\"#bd3786\"],[0.5555555555555556,\"#d8576b\"],[0.6666666666666666,\"#ed7953\"],[0.7777777777777778,\"#fb9f3a\"],[0.8888888888888888,\"#fdca26\"],[1.0,\"#f0f921\"]],\"sequentialminus\":[[0.0,\"#0d0887\"],[0.1111111111111111,\"#46039f\"],[0.2222222222222222,\"#7201a8\"],[0.3333333333333333,\"#9c179e\"],[0.4444444444444444,\"#bd3786\"],[0.5555555555555556,\"#d8576b\"],[0.6666666666666666,\"#ed7953\"],[0.7777777777777778,\"#fb9f3a\"],[0.8888888888888888,\"#fdca26\"],[1.0,\"#f0f921\"]]},\"colorway\":[\"#636efa\",\"#EF553B\",\"#00cc96\",\"#ab63fa\",\"#FFA15A\",\"#19d3f3\",\"#FF6692\",\"#B6E880\",\"#FF97FF\",\"#FECB52\"],\"font\":{\"color\":\"#2a3f5f\"},\"geo\":{\"bgcolor\":\"white\",\"lakecolor\":\"white\",\"landcolor\":\"white\",\"showlakes\":true,\"showland\":true,\"subunitcolor\":\"#C8D4E3\"},\"hoverlabel\":{\"align\":\"left\"},\"hovermode\":\"closest\",\"mapbox\":{\"style\":\"light\"},\"paper_bgcolor\":\"white\",\"plot_bgcolor\":\"white\",\"polar\":{\"angularaxis\":{\"gridcolor\":\"#EBF0F8\",\"linecolor\":\"#EBF0F8\",\"ticks\":\"\"},\"bgcolor\":\"white\",\"radialaxis\":{\"gridcolor\":\"#EBF0F8\",\"linecolor\":\"#EBF0F8\",\"ticks\":\"\"}},\"scene\":{\"xaxis\":{\"backgroundcolor\":\"white\",\"gridcolor\":\"#DFE8F3\",\"gridwidth\":2,\"linecolor\":\"#EBF0F8\",\"showbackground\":true,\"ticks\":\"\",\"zerolinecolor\":\"#EBF0F8\"},\"yaxis\":{\"backgroundcolor\":\"white\",\"gridcolor\":\"#DFE8F3\",\"gridwidth\":2,\"linecolor\":\"#EBF0F8\",\"showbackground\":true,\"ticks\":\"\",\"zerolinecolor\":\"#EBF0F8\"},\"zaxis\":{\"backgroundcolor\":\"white\",\"gridcolor\":\"#DFE8F3\",\"gridwidth\":2,\"linecolor\":\"#EBF0F8\",\"showbackground\":true,\"ticks\":\"\",\"zerolinecolor\":\"#EBF0F8\"}},\"shapedefaults\":{\"line\":{\"color\":\"#2a3f5f\"}},\"ternary\":{\"aaxis\":{\"gridcolor\":\"#DFE8F3\",\"linecolor\":\"#A2B1C6\",\"ticks\":\"\"},\"baxis\":{\"gridcolor\":\"#DFE8F3\",\"linecolor\":\"#A2B1C6\",\"ticks\":\"\"},\"bgcolor\":\"white\",\"caxis\":{\"gridcolor\":\"#DFE8F3\",\"linecolor\":\"#A2B1C6\",\"ticks\":\"\"}},\"title\":{\"x\":0.05},\"xaxis\":{\"automargin\":true,\"gridcolor\":\"#EBF0F8\",\"linecolor\":\"#EBF0F8\",\"ticks\":\"\",\"title\":{\"standoff\":15},\"zerolinecolor\":\"#EBF0F8\",\"zerolinewidth\":2},\"yaxis\":{\"automargin\":true,\"gridcolor\":\"#EBF0F8\",\"linecolor\":\"#EBF0F8\",\"ticks\":\"\",\"title\":{\"standoff\":15},\"zerolinecolor\":\"#EBF0F8\",\"zerolinewidth\":2}}},\"xaxis\":{\"anchor\":\"y\",\"domain\":[0.0,1.0],\"matches\":\"x2\",\"showticklabels\":true,\"tickfont\":{\"size\":16},\"autorangeoptions\":{\"minallowed\":-0.52,\"maxallowed\":7.4},\"range\":[-0.52,7.4]},\"yaxis\":{\"anchor\":\"x\",\"domain\":[0.575,1.0],\"title\":{\"text\":\"\\u003cb\\u003eDSC\\u003c\\u002fb\\u003e\",\"standoff\":10},\"tickfont\":{\"size\":16},\"range\":[-0.05,1.05]},\"xaxis2\":{\"anchor\":\"y2\",\"domain\":[0.0,1.0],\"tickfont\":{\"size\":16},\"showticklabels\":true},\"yaxis2\":{\"anchor\":\"x2\",\"domain\":[0.0,0.425],\"title\":{\"text\":\"\\u003cb\\u003eDSC\\u003c\\u002fb\\u003e\",\"standoff\":10},\"tickfont\":{\"size\":16}},\"boxmode\":\"group\",\"boxgap\":0.2,\"boxgroupgap\":0.45,\"legend\":{\"orientation\":\"h\",\"yanchor\":\"bottom\",\"y\":1.01,\"xanchor\":\"center\",\"x\":0.5},\"font\":{\"family\":\"Libertinus Sans\",\"size\":16},\"margin\":{\"l\":0,\"r\":0,\"b\":0,\"t\":0},\"height\":700,\"width\":1000},                        {\"responsive\": true}                    ).then(function(){\n",
       "                            \n",
       "var gd = document.getElementById('cd072cd8-be6f-4f62-ac4c-09c28206e7e3');\n",
       "var x = new MutationObserver(function (mutations, observer) {{\n",
       "        var display = window.getComputedStyle(gd).display;\n",
       "        if (!display || display === 'none') {{\n",
       "            console.log([gd, 'removed!']);\n",
       "            Plotly.purge(gd);\n",
       "            observer.disconnect();\n",
       "        }}\n",
       "}});\n",
       "\n",
       "// Listen for the removal of the full notebook cells\n",
       "var notebookContainer = gd.closest('#notebook-container');\n",
       "if (notebookContainer) {{\n",
       "    x.observe(notebookContainer, {childList: true});\n",
       "}}\n",
       "\n",
       "// Listen for the clearing of the current output cell\n",
       "var outputEl = gd.closest('.output');\n",
       "if (outputEl) {{\n",
       "    x.observe(outputEl, {childList: true});\n",
       "}}\n",
       "\n",
       "                        })                };            </script>        </div>"
      ]
     },
     "metadata": {},
     "output_type": "display_data"
    }
   ],
   "source": [
    "fig = make_subplots(\n",
    "    rows=2,\n",
    "    cols=1,\n",
    "    shared_xaxes=True,\n",
    "    vertical_spacing=0.15,\n",
    ")\n",
    "\n",
    "metric_name = \"dice_metric\"\n",
    "network_renaming = {\n",
    "    \"baseline_pig\": \"baseline\",\n",
    "    \"baseline_rat\": \"baseline\",\n",
    "    \"projected-ICG_rat2pig\": \"xeno-learning\",\n",
    "    \"projected-ICG_pig2rat\": \"xeno-learning\",\n",
    "}\n",
    "\n",
    "\n",
    "def add_species(species: str, row: int, col: int) -> go.Figure:\n",
    "    for network in df[\"network\"].unique():\n",
    "        if \"baseline\" in network:\n",
    "            color = settings_species.species_colors[species]\n",
    "        else:\n",
    "            color = settings_species.xeno_learning_color\n",
    "\n",
    "        network_short = network_renaming.get(network, network)\n",
    "\n",
    "        for l, label_name in enumerate(df[\"label_name\"].unique()):\n",
    "            df_label = df[(df[\"species\"] == species) & (df[\"label_name\"] == label_name) & (df[\"network\"] == network)]\n",
    "            fig.add_trace(\n",
    "                go.Box(\n",
    "                    y=df_label[metric_name],\n",
    "                    x=[settings_rat.labels_paper_renaming.get(label_name, label_name)] * len(df_label[metric_name]),\n",
    "                    offsetgroup=network_short,\n",
    "                    text=df_label[\"label_name\"],\n",
    "                    boxpoints=\"all\",\n",
    "                    boxmean=True,\n",
    "                    name=network_short,\n",
    "                    marker_color=color,\n",
    "                    hovertext=df_label[\"subject_name\"],\n",
    "                    legendgroup=network_short,\n",
    "                    showlegend=False,\n",
    "                ),\n",
    "                row=row,\n",
    "                col=col,\n",
    "            )\n",
    "\n",
    "    return fig\n",
    "\n",
    "\n",
    "add_species(\"pig\", row=1, col=1)\n",
    "add_species(\"rat\", row=2, col=1)\n",
    "\n",
    "fig.update_annotations(xanchor=\"left\", x=0)\n",
    "fig.update_yaxes(title_standoff=12)\n",
    "fig.update_yaxes(tickfont=dict(size=16))\n",
    "fig.update_xaxes(tickfont=dict(size=16))\n",
    "xmin = -0.52\n",
    "xmax = len(settings_species.icg_labels) - 0.6\n",
    "fig.update_layout(\n",
    "    yaxis_range=[-0.05, 1.05],\n",
    "    xaxis_range=[xmin, xmax],\n",
    "    xaxis_autorangeoptions_minallowed=xmin,\n",
    "    xaxis_autorangeoptions_maxallowed=xmax,\n",
    ")\n",
    "fig.update_layout(boxmode=\"group\", boxgap=0.2, boxgroupgap=0.45)\n",
    "fig.update_layout(legend=dict(orientation=\"h\", yanchor=\"bottom\", y=1.01, xanchor=\"center\", x=0.5))\n",
    "fig.update_layout(\n",
    "    template=\"plotly_white\",\n",
    "    height=700,\n",
    "    width=1000,\n",
    "    font_family=\"Libertinus Sans\",\n",
    "    font_size=16,\n",
    "    margin=dict(l=0, r=0, b=0, t=0),\n",
    ")\n",
    "fig.update_xaxes(showticklabels=True)\n",
    "fig.update_yaxes(title=\"<b>DSC</b>\", title_standoff=10)\n",
    "fig.write_image(settings_species.paper_dir / \"icg_performance.pdf\")\n",
    "fig"
   ]
  }
 ],
 "metadata": {
  "kernelspec": {
   "display_name": "htc",
   "language": "python",
   "name": "python3"
  },
  "language_info": {
   "codemirror_mode": {
    "name": "ipython",
    "version": 3
   },
   "file_extension": ".py",
   "mimetype": "text/x-python",
   "name": "python",
   "nbconvert_exporter": "python",
   "pygments_lexer": "ipython3",
   "version": "3.13.2"
  }
 },
 "nbformat": 4,
 "nbformat_minor": 2
}
