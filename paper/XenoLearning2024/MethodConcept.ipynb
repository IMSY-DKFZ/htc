{
 "cells": [
  {
   "cell_type": "code",
   "execution_count": 1,
   "metadata": {},
   "outputs": [
    {
     "data": {
      "text/html": [
       "<pre style=\"white-space:pre;overflow-x:auto;line-height:normal;font-family:Menlo,'DejaVu Sans Mono',consolas,'Courier New',monospace\"><span style=\"font-weight: bold\">[</span><span style=\"color: #808000; text-decoration-color: #808000\">WARNING</span><span style=\"font-weight: bold\">][</span><span style=\"font-style: italic\">py.warnings</span><span style=\"font-weight: bold\">]</span>                                                                                   <span style=\"color: #7f7f7f; text-decoration-color: #7f7f7f\">warnings.py:112</span>\n",
       "<span style=\"color: #800080; text-decoration-color: #800080\">/home/j562r/miniconda3/envs/htc/lib/python3.12/site-packages/kornia/feature/</span><span style=\"color: #ff00ff; text-decoration-color: #ff00ff\">lightglue.py</span>:<span style=\"color: #afafaf; text-decoration-color: #afafaf\">44</span>:             <span style=\"color: #7f7f7f; text-decoration-color: #7f7f7f\">               </span>\n",
       "FutureWarning: `<span style=\"color: #800080; text-decoration-color: #800080; font-weight: bold\">torch.cuda.amp.custom_fwd</span><span style=\"font-weight: bold\">(</span>args<span style=\"color: #808000; text-decoration-color: #808000\">...</span><span style=\"font-weight: bold\">)</span>` is deprecated. Please use                            <span style=\"color: #7f7f7f; text-decoration-color: #7f7f7f\">               </span>\n",
       "`<span style=\"color: #800080; text-decoration-color: #800080; font-weight: bold\">torch.amp.custom_fwd</span><span style=\"font-weight: bold\">(</span>args<span style=\"color: #808000; text-decoration-color: #808000\">...</span>, <span style=\"color: #808000; text-decoration-color: #808000\">device_type</span>=<span style=\"color: #808080; text-decoration-color: #808080\">'cuda'</span><span style=\"font-weight: bold\">)</span>` instead.                                             <span style=\"color: #7f7f7f; text-decoration-color: #7f7f7f\">               </span>\n",
       "  @<span style=\"color: #800080; text-decoration-color: #800080; font-weight: bold\">torch.cuda.amp.custom_fwd</span><span style=\"font-weight: bold\">(</span><span style=\"color: #808000; text-decoration-color: #808000\">cast_inputs</span>=<span style=\"color: #800080; text-decoration-color: #800080\">torch</span>.float32<span style=\"font-weight: bold\">)</span>                                                  <span style=\"color: #7f7f7f; text-decoration-color: #7f7f7f\">               </span>\n",
       "                                                                                                         <span style=\"color: #7f7f7f; text-decoration-color: #7f7f7f\">               </span>\n",
       "</pre>\n"
      ],
      "text/plain": [
       "\u001b[1m[\u001b[0m\u001b[33mWARNING\u001b[0m\u001b[1m]\u001b[0m\u001b[1m[\u001b[0m\u001b[3mpy.warnings\u001b[0m\u001b[1m]\u001b[0m                                                                                   \u001b[2mwarnings.py:112\u001b[0m\n",
       "\u001b[35m/home/j562r/miniconda3/envs/htc/lib/python3.12/site-packages/kornia/feature/\u001b[0m\u001b[95mlightglue.py\u001b[0m:\u001b[38;5;145m44\u001b[0m:             \u001b[2m               \u001b[0m\n",
       "FutureWarning: `\u001b[1;35mtorch.cuda.amp.custom_fwd\u001b[0m\u001b[1m(\u001b[0margs\u001b[33m...\u001b[0m\u001b[1m)\u001b[0m` is deprecated. Please use                            \u001b[2m               \u001b[0m\n",
       "`\u001b[1;35mtorch.amp.custom_fwd\u001b[0m\u001b[1m(\u001b[0margs\u001b[33m...\u001b[0m, \u001b[33mdevice_type\u001b[0m=\u001b[90m'cuda'\u001b[0m\u001b[1m)\u001b[0m` instead.                                             \u001b[2m               \u001b[0m\n",
       "  @\u001b[1;35mtorch.cuda.amp.custom_fwd\u001b[0m\u001b[1m(\u001b[0m\u001b[33mcast_inputs\u001b[0m=\u001b[35mtorch\u001b[0m.float32\u001b[1m)\u001b[0m                                                  \u001b[2m               \u001b[0m\n",
       "                                                                                                         \u001b[2m               \u001b[0m\n"
      ]
     },
     "metadata": {},
     "output_type": "display_data"
    }
   ],
   "source": [
    "%load_ext autoreload\n",
    "%autoreload 2\n",
    "\n",
    "import matplotlib.image as mpl_img\n",
    "import numpy as np\n",
    "import plotly.graph_objects as go\n",
    "import plotly.io as pio\n",
    "\n",
    "from htc.cpp import map_label_image\n",
    "from htc.models.image.DatasetImage import DatasetImage\n",
    "from htc.settings_seg import settings_seg\n",
    "from htc.tivita.DataPath import DataPath\n",
    "from htc.utils.colors import lighten_color\n",
    "from htc.utils.Config import Config\n",
    "from htc.utils.helper_functions import median_table\n",
    "from htc.utils.LabelMapping import LabelMapping\n",
    "from htc_projects.species.settings_species import settings_species\n",
    "\n",
    "pio.kaleido.scope.mathjax = None"
   ]
  },
  {
   "cell_type": "code",
   "execution_count": 2,
   "metadata": {},
   "outputs": [],
   "source": [
    "label_mapping = settings_species.label_mapping\n",
    "label_mapping.label_colors = settings_seg.label_colors_paper\n",
    "config = Config({\"label_mapping\": label_mapping, \"input/n_channels\": 3})\n",
    "path_physiological = DataPath.from_image_name(\"SPACE_000102#2020_12_17_19_00_25@semantic#primary\")\n",
    "path_malperfused = DataPath.from_image_name(\"SPACE_000106#2021_01_09_16_30_15@semantic#primary\")\n",
    "sample_physiological = DatasetImage([path_physiological], train=False, config=config)[0]\n",
    "sample_malperfused = DatasetImage([path_malperfused], train=False, config=config)[0]\n",
    "\n",
    "mpl_img.imsave(\n",
    "    settings_species.paper_dir / \"method_concept_example_physiological_rgb.png\",\n",
    "    sample_physiological[\"features\"].numpy(),\n",
    ")\n",
    "mpl_img.imsave(\n",
    "    settings_species.paper_dir / \"method_concept_example_malperfused_rgb.png\", sample_malperfused[\"features\"].numpy()\n",
    ")\n",
    "\n",
    "mpl_img.imsave(\n",
    "    settings_species.paper_dir / \"method_concept_example_physiological_seg.png\",\n",
    "    map_label_image(sample_physiological[\"labels\"].numpy(), label_mapping),\n",
    ")\n",
    "mpl_img.imsave(\n",
    "    settings_species.paper_dir / \"method_concept_example_malperfused_seg.png\",\n",
    "    map_label_image(sample_malperfused[\"labels\"].numpy(), label_mapping),\n",
    ")"
   ]
  },
  {
   "cell_type": "code",
   "execution_count": 3,
   "metadata": {},
   "outputs": [],
   "source": [
    "label_mapping = LabelMapping(\n",
    "    {\"kidney\": 0},\n",
    "    label_colors={\"kidney\": settings_seg.label_colors_paper[\"kidney\"], \"unknown\": \"#00000000\"},\n",
    ")\n",
    "config = Config({\"label_mapping\": label_mapping, \"input/n_channels\": 3})\n",
    "sample_physiological = DatasetImage([path_physiological], train=False, config=config)[0]\n",
    "mpl_img.imsave(\n",
    "    settings_species.paper_dir / \"method_concept_example_physiological_seg_kidney-only.png\",\n",
    "    map_label_image(sample_physiological[\"labels\"].numpy(), label_mapping),\n",
    ")\n",
    "\n",
    "label_mapping.label_colors[\"kidney\"] = lighten_color(settings_seg.label_colors_paper[\"kidney\"], 0.65)\n",
    "config = Config({\"label_mapping\": label_mapping, \"input/n_channels\": 3})\n",
    "sample_malperfused = DatasetImage([path_malperfused], train=False, config=config)[0]\n",
    "mpl_img.imsave(\n",
    "    settings_species.paper_dir / \"method_concept_example_malperfused_seg_kidney-only.png\",\n",
    "    map_label_image(sample_malperfused[\"labels\"].numpy(), label_mapping),\n",
    ")"
   ]
  },
  {
   "cell_type": "code",
   "execution_count": 4,
   "metadata": {},
   "outputs": [
    {
     "data": {
      "text/html": [
       "        <script type=\"text/javascript\">\n",
       "        window.PlotlyConfig = {MathJaxConfig: 'local'};\n",
       "        if (window.MathJax && window.MathJax.Hub && window.MathJax.Hub.Config) {window.MathJax.Hub.Config({SVG: {font: \"STIX-Web\"}});}\n",
       "        if (typeof require !== 'undefined') {\n",
       "        require.undef(\"plotly\");\n",
       "        requirejs.config({\n",
       "            paths: {\n",
       "                'plotly': ['https://cdn.plot.ly/plotly-2.35.2.min']\n",
       "            }\n",
       "        });\n",
       "        require(['plotly'], function(Plotly) {\n",
       "            window._Plotly = Plotly;\n",
       "        });\n",
       "        }\n",
       "        </script>\n",
       "        "
      ]
     },
     "metadata": {},
     "output_type": "display_data"
    },
    {
     "data": {
      "application/vnd.plotly.v1+json": {
       "config": {
        "plotlyServerURL": "https://plot.ly"
       },
       "data": [
        {
         "line": {
          "color": "#dbdb8d"
         },
         "name": "physiological",
         "type": "scatter",
         "x": [
          502.5,
          507.5,
          512.5,
          517.5,
          522.5,
          527.5,
          532.5,
          537.5,
          542.5,
          547.5,
          552.5,
          557.5,
          562.5,
          567.5,
          572.5,
          577.5,
          582.5,
          587.5,
          592.5,
          597.5,
          602.5,
          607.5,
          612.5,
          617.5,
          622.5,
          627.5,
          632.5,
          637.5,
          642.5,
          647.5,
          652.5,
          657.5,
          662.5,
          667.5,
          672.5,
          677.5,
          682.5,
          687.5,
          692.5,
          697.5,
          702.5,
          707.5,
          712.5,
          717.5,
          722.5,
          727.5,
          732.5,
          737.5,
          742.5,
          747.5,
          752.5,
          757.5,
          762.5,
          767.5,
          772.5,
          777.5,
          782.5,
          787.5,
          792.5,
          797.5,
          802.5,
          807.5,
          812.5,
          817.5,
          822.5,
          827.5,
          832.5,
          837.5,
          842.5,
          847.5,
          852.5,
          857.5,
          862.5,
          867.5,
          872.5,
          877.5,
          882.5,
          887.5,
          892.5,
          897.5,
          902.5,
          907.5,
          912.5,
          917.5,
          922.5,
          927.5,
          932.5,
          937.5,
          942.5,
          947.5,
          952.5,
          957.5,
          962.5,
          967.5,
          972.5,
          977.5,
          982.5,
          987.5,
          992.5,
          997.5
         ],
         "y": [
          0.003908251412212849,
          0.0038014929741621017,
          0.0036102551966905594,
          0.0033639180473983288,
          0.003054297063499689,
          0.002795694163069129,
          0.002559784334152937,
          0.0024211793206632137,
          0.00240161269903183,
          0.002459025476127863,
          0.0025002670008689165,
          0.0025944076478481293,
          0.002561629982665181,
          0.0024262855295091867,
          0.0022110268473625183,
          0.0021032209042459726,
          0.00223356019705534,
          0.0027532135136425495,
          0.0037460613530129194,
          0.005081090144813061,
          0.006399947218596935,
          0.007547189015895128,
          0.008552429266273975,
          0.009412992745637894,
          0.010112663730978966,
          0.010652845725417137,
          0.01108347438275814,
          0.011460240930318832,
          0.011773020960390568,
          0.012044709175825119,
          0.012259644456207752,
          0.012457519769668579,
          0.012641651555895805,
          0.01283391285687685,
          0.013030678033828735,
          0.013259951025247574,
          0.013516340404748917,
          0.01376006193459034,
          0.01400945894420147,
          0.014223692007362843,
          0.01438777893781662,
          0.014502586796879768,
          0.0145625751465559,
          0.014600824564695358,
          0.014572879299521446,
          0.014524409547448158,
          0.014388861134648323,
          0.01422191597521305,
          0.014063982293009758,
          0.013901812955737114,
          0.01375404093414545,
          0.013602102175354958,
          0.013481345027685165,
          0.013409534469246864,
          0.013362525030970573,
          0.013312717899680138,
          0.01325431652367115,
          0.013179187662899494,
          0.013079287484288216,
          0.01297722477465868,
          0.012868798337876797,
          0.01274239644408226,
          0.012617195025086403,
          0.012491369619965553,
          0.012345260009169579,
          0.012169808149337769,
          0.012002240866422653,
          0.01186596229672432,
          0.011748204007744789,
          0.011657370254397392,
          0.011555102653801441,
          0.011474590748548508,
          0.01139736920595169,
          0.01132822036743164,
          0.01127827912569046,
          0.011240524239838123,
          0.011164925061166286,
          0.011116450652480125,
          0.01106878463178873,
          0.011020369827747345,
          0.010989556089043617,
          0.010972216725349426,
          0.010975782759487629,
          0.010982425883412361,
          0.010961763560771942,
          0.010912229306995869,
          0.010827401652932167,
          0.010709131136536598,
          0.010555107146501541,
          0.010378794744610786,
          0.010165471583604813,
          0.009896785020828247,
          0.009545925073325634,
          0.009284183382987976,
          0.009008834138512611,
          0.008783389814198017,
          0.008442332968115807,
          0.007932105101644993,
          0.007406948134303093,
          0.007047862280160189
         ]
        },
        {
         "line": {
          "color": "#dbdb8d",
          "dash": "dot"
         },
         "name": "malperfused",
         "type": "scatter",
         "x": [
          502.5,
          507.5,
          512.5,
          517.5,
          522.5,
          527.5,
          532.5,
          537.5,
          542.5,
          547.5,
          552.5,
          557.5,
          562.5,
          567.5,
          572.5,
          577.5,
          582.5,
          587.5,
          592.5,
          597.5,
          602.5,
          607.5,
          612.5,
          617.5,
          622.5,
          627.5,
          632.5,
          637.5,
          642.5,
          647.5,
          652.5,
          657.5,
          662.5,
          667.5,
          672.5,
          677.5,
          682.5,
          687.5,
          692.5,
          697.5,
          702.5,
          707.5,
          712.5,
          717.5,
          722.5,
          727.5,
          732.5,
          737.5,
          742.5,
          747.5,
          752.5,
          757.5,
          762.5,
          767.5,
          772.5,
          777.5,
          782.5,
          787.5,
          792.5,
          797.5,
          802.5,
          807.5,
          812.5,
          817.5,
          822.5,
          827.5,
          832.5,
          837.5,
          842.5,
          847.5,
          852.5,
          857.5,
          862.5,
          867.5,
          872.5,
          877.5,
          882.5,
          887.5,
          892.5,
          897.5,
          902.5,
          907.5,
          912.5,
          917.5,
          922.5,
          927.5,
          932.5,
          937.5,
          942.5,
          947.5,
          952.5,
          957.5,
          962.5,
          967.5,
          972.5,
          977.5,
          982.5,
          987.5,
          992.5,
          997.5
         ],
         "y": [
          0.002379692392423749,
          0.002222551964223385,
          0.0020507341250777245,
          0.001886041252873838,
          0.0016579952789470553,
          0.0015869945054873824,
          0.0014149912167340517,
          0.0013439678587019444,
          0.0012760526733472943,
          0.0012650970602408051,
          0.0012709770817309618,
          0.0012861981522291899,
          0.0012565411161631346,
          0.001222624210640788,
          0.001145375077612698,
          0.0010993643663823605,
          0.0011375450994819403,
          0.0013054382288828492,
          0.0016263853758573532,
          0.0020310746040195227,
          0.002553411992266774,
          0.0032034541945904493,
          0.003925872966647148,
          0.004601517226547003,
          0.005203295964747667,
          0.005705399438738823,
          0.006111869588494301,
          0.006467555649578571,
          0.006761080119758844,
          0.006992815062403679,
          0.007195646874606609,
          0.007388713303953409,
          0.0076146116480231285,
          0.007884633727371693,
          0.008280637674033642,
          0.008744072169065475,
          0.009297080338001251,
          0.00988804828375578,
          0.01048783864825964,
          0.011045670136809349,
          0.011538001708686352,
          0.011969543993473053,
          0.01238592341542244,
          0.012796618044376373,
          0.013155130669474602,
          0.013432475738227367,
          0.013510772958397865,
          0.013374526053667068,
          0.01302420161664486,
          0.012536014430224895,
          0.01203601062297821,
          0.011744854971766472,
          0.0118258036673069,
          0.012309612706303596,
          0.013053333386778831,
          0.01382493507117033,
          0.014465135522186756,
          0.01491409633308649,
          0.015224236063659191,
          0.01542958989739418,
          0.01556196715682745,
          0.015613229013979435,
          0.01560695469379425,
          0.015585167333483696,
          0.015486816875636578,
          0.01535115484148264,
          0.015207475051283836,
          0.015081584453582764,
          0.014991261065006256,
          0.014927219599485397,
          0.014838922768831253,
          0.014756601303815842,
          0.014684406109154224,
          0.014577481895685196,
          0.014502777718007565,
          0.014449185691773891,
          0.014349166303873062,
          0.014252183958888054,
          0.014196098782122135,
          0.014139716513454914,
          0.014093801379203796,
          0.014088552445173264,
          0.014141063205897808,
          0.014193763956427574,
          0.014260878786444664,
          0.014285198412835598,
          0.01431797631084919,
          0.014272479340434074,
          0.014236106537282467,
          0.014157227240502834,
          0.014079754240810871,
          0.013908498920500278,
          0.013523109257221222,
          0.013237256556749344,
          0.012852856889367104,
          0.012665417976677418,
          0.012059986591339111,
          0.011121158488094807,
          0.010129285976290703,
          0.009177138097584248
         ]
        }
       ],
       "layout": {
        "font": {
         "family": "Libertinus Sans",
         "size": 16
        },
        "height": 300,
        "legend": {
         "orientation": "h",
         "x": 0.5,
         "xanchor": "center",
         "y": 1.17,
         "yanchor": "top"
        },
        "margin": {
         "b": 0,
         "l": 0,
         "r": 0,
         "t": 10
        },
        "template": {
         "data": {
          "bar": [
           {
            "error_x": {
             "color": "#2a3f5f"
            },
            "error_y": {
             "color": "#2a3f5f"
            },
            "marker": {
             "line": {
              "color": "white",
              "width": 0.5
             },
             "pattern": {
              "fillmode": "overlay",
              "size": 10,
              "solidity": 0.2
             }
            },
            "type": "bar"
           }
          ],
          "barpolar": [
           {
            "marker": {
             "line": {
              "color": "white",
              "width": 0.5
             },
             "pattern": {
              "fillmode": "overlay",
              "size": 10,
              "solidity": 0.2
             }
            },
            "type": "barpolar"
           }
          ],
          "carpet": [
           {
            "aaxis": {
             "endlinecolor": "#2a3f5f",
             "gridcolor": "#C8D4E3",
             "linecolor": "#C8D4E3",
             "minorgridcolor": "#C8D4E3",
             "startlinecolor": "#2a3f5f"
            },
            "baxis": {
             "endlinecolor": "#2a3f5f",
             "gridcolor": "#C8D4E3",
             "linecolor": "#C8D4E3",
             "minorgridcolor": "#C8D4E3",
             "startlinecolor": "#2a3f5f"
            },
            "type": "carpet"
           }
          ],
          "choropleth": [
           {
            "colorbar": {
             "outlinewidth": 0,
             "ticks": ""
            },
            "type": "choropleth"
           }
          ],
          "contour": [
           {
            "colorbar": {
             "outlinewidth": 0,
             "ticks": ""
            },
            "colorscale": [
             [
              0,
              "#0d0887"
             ],
             [
              0.1111111111111111,
              "#46039f"
             ],
             [
              0.2222222222222222,
              "#7201a8"
             ],
             [
              0.3333333333333333,
              "#9c179e"
             ],
             [
              0.4444444444444444,
              "#bd3786"
             ],
             [
              0.5555555555555556,
              "#d8576b"
             ],
             [
              0.6666666666666666,
              "#ed7953"
             ],
             [
              0.7777777777777778,
              "#fb9f3a"
             ],
             [
              0.8888888888888888,
              "#fdca26"
             ],
             [
              1,
              "#f0f921"
             ]
            ],
            "type": "contour"
           }
          ],
          "contourcarpet": [
           {
            "colorbar": {
             "outlinewidth": 0,
             "ticks": ""
            },
            "type": "contourcarpet"
           }
          ],
          "heatmap": [
           {
            "colorbar": {
             "outlinewidth": 0,
             "ticks": ""
            },
            "colorscale": [
             [
              0,
              "#0d0887"
             ],
             [
              0.1111111111111111,
              "#46039f"
             ],
             [
              0.2222222222222222,
              "#7201a8"
             ],
             [
              0.3333333333333333,
              "#9c179e"
             ],
             [
              0.4444444444444444,
              "#bd3786"
             ],
             [
              0.5555555555555556,
              "#d8576b"
             ],
             [
              0.6666666666666666,
              "#ed7953"
             ],
             [
              0.7777777777777778,
              "#fb9f3a"
             ],
             [
              0.8888888888888888,
              "#fdca26"
             ],
             [
              1,
              "#f0f921"
             ]
            ],
            "type": "heatmap"
           }
          ],
          "heatmapgl": [
           {
            "colorbar": {
             "outlinewidth": 0,
             "ticks": ""
            },
            "colorscale": [
             [
              0,
              "#0d0887"
             ],
             [
              0.1111111111111111,
              "#46039f"
             ],
             [
              0.2222222222222222,
              "#7201a8"
             ],
             [
              0.3333333333333333,
              "#9c179e"
             ],
             [
              0.4444444444444444,
              "#bd3786"
             ],
             [
              0.5555555555555556,
              "#d8576b"
             ],
             [
              0.6666666666666666,
              "#ed7953"
             ],
             [
              0.7777777777777778,
              "#fb9f3a"
             ],
             [
              0.8888888888888888,
              "#fdca26"
             ],
             [
              1,
              "#f0f921"
             ]
            ],
            "type": "heatmapgl"
           }
          ],
          "histogram": [
           {
            "marker": {
             "pattern": {
              "fillmode": "overlay",
              "size": 10,
              "solidity": 0.2
             }
            },
            "type": "histogram"
           }
          ],
          "histogram2d": [
           {
            "colorbar": {
             "outlinewidth": 0,
             "ticks": ""
            },
            "colorscale": [
             [
              0,
              "#0d0887"
             ],
             [
              0.1111111111111111,
              "#46039f"
             ],
             [
              0.2222222222222222,
              "#7201a8"
             ],
             [
              0.3333333333333333,
              "#9c179e"
             ],
             [
              0.4444444444444444,
              "#bd3786"
             ],
             [
              0.5555555555555556,
              "#d8576b"
             ],
             [
              0.6666666666666666,
              "#ed7953"
             ],
             [
              0.7777777777777778,
              "#fb9f3a"
             ],
             [
              0.8888888888888888,
              "#fdca26"
             ],
             [
              1,
              "#f0f921"
             ]
            ],
            "type": "histogram2d"
           }
          ],
          "histogram2dcontour": [
           {
            "colorbar": {
             "outlinewidth": 0,
             "ticks": ""
            },
            "colorscale": [
             [
              0,
              "#0d0887"
             ],
             [
              0.1111111111111111,
              "#46039f"
             ],
             [
              0.2222222222222222,
              "#7201a8"
             ],
             [
              0.3333333333333333,
              "#9c179e"
             ],
             [
              0.4444444444444444,
              "#bd3786"
             ],
             [
              0.5555555555555556,
              "#d8576b"
             ],
             [
              0.6666666666666666,
              "#ed7953"
             ],
             [
              0.7777777777777778,
              "#fb9f3a"
             ],
             [
              0.8888888888888888,
              "#fdca26"
             ],
             [
              1,
              "#f0f921"
             ]
            ],
            "type": "histogram2dcontour"
           }
          ],
          "mesh3d": [
           {
            "colorbar": {
             "outlinewidth": 0,
             "ticks": ""
            },
            "type": "mesh3d"
           }
          ],
          "parcoords": [
           {
            "line": {
             "colorbar": {
              "outlinewidth": 0,
              "ticks": ""
             }
            },
            "type": "parcoords"
           }
          ],
          "pie": [
           {
            "automargin": true,
            "type": "pie"
           }
          ],
          "scatter": [
           {
            "fillpattern": {
             "fillmode": "overlay",
             "size": 10,
             "solidity": 0.2
            },
            "type": "scatter"
           }
          ],
          "scatter3d": [
           {
            "line": {
             "colorbar": {
              "outlinewidth": 0,
              "ticks": ""
             }
            },
            "marker": {
             "colorbar": {
              "outlinewidth": 0,
              "ticks": ""
             }
            },
            "type": "scatter3d"
           }
          ],
          "scattercarpet": [
           {
            "marker": {
             "colorbar": {
              "outlinewidth": 0,
              "ticks": ""
             }
            },
            "type": "scattercarpet"
           }
          ],
          "scattergeo": [
           {
            "marker": {
             "colorbar": {
              "outlinewidth": 0,
              "ticks": ""
             }
            },
            "type": "scattergeo"
           }
          ],
          "scattergl": [
           {
            "marker": {
             "colorbar": {
              "outlinewidth": 0,
              "ticks": ""
             }
            },
            "type": "scattergl"
           }
          ],
          "scattermapbox": [
           {
            "marker": {
             "colorbar": {
              "outlinewidth": 0,
              "ticks": ""
             }
            },
            "type": "scattermapbox"
           }
          ],
          "scatterpolar": [
           {
            "marker": {
             "colorbar": {
              "outlinewidth": 0,
              "ticks": ""
             }
            },
            "type": "scatterpolar"
           }
          ],
          "scatterpolargl": [
           {
            "marker": {
             "colorbar": {
              "outlinewidth": 0,
              "ticks": ""
             }
            },
            "type": "scatterpolargl"
           }
          ],
          "scatterternary": [
           {
            "marker": {
             "colorbar": {
              "outlinewidth": 0,
              "ticks": ""
             }
            },
            "type": "scatterternary"
           }
          ],
          "surface": [
           {
            "colorbar": {
             "outlinewidth": 0,
             "ticks": ""
            },
            "colorscale": [
             [
              0,
              "#0d0887"
             ],
             [
              0.1111111111111111,
              "#46039f"
             ],
             [
              0.2222222222222222,
              "#7201a8"
             ],
             [
              0.3333333333333333,
              "#9c179e"
             ],
             [
              0.4444444444444444,
              "#bd3786"
             ],
             [
              0.5555555555555556,
              "#d8576b"
             ],
             [
              0.6666666666666666,
              "#ed7953"
             ],
             [
              0.7777777777777778,
              "#fb9f3a"
             ],
             [
              0.8888888888888888,
              "#fdca26"
             ],
             [
              1,
              "#f0f921"
             ]
            ],
            "type": "surface"
           }
          ],
          "table": [
           {
            "cells": {
             "fill": {
              "color": "#EBF0F8"
             },
             "line": {
              "color": "white"
             }
            },
            "header": {
             "fill": {
              "color": "#C8D4E3"
             },
             "line": {
              "color": "white"
             }
            },
            "type": "table"
           }
          ]
         },
         "layout": {
          "annotationdefaults": {
           "arrowcolor": "#2a3f5f",
           "arrowhead": 0,
           "arrowwidth": 1
          },
          "autotypenumbers": "strict",
          "coloraxis": {
           "colorbar": {
            "outlinewidth": 0,
            "ticks": ""
           }
          },
          "colorscale": {
           "diverging": [
            [
             0,
             "#8e0152"
            ],
            [
             0.1,
             "#c51b7d"
            ],
            [
             0.2,
             "#de77ae"
            ],
            [
             0.3,
             "#f1b6da"
            ],
            [
             0.4,
             "#fde0ef"
            ],
            [
             0.5,
             "#f7f7f7"
            ],
            [
             0.6,
             "#e6f5d0"
            ],
            [
             0.7,
             "#b8e186"
            ],
            [
             0.8,
             "#7fbc41"
            ],
            [
             0.9,
             "#4d9221"
            ],
            [
             1,
             "#276419"
            ]
           ],
           "sequential": [
            [
             0,
             "#0d0887"
            ],
            [
             0.1111111111111111,
             "#46039f"
            ],
            [
             0.2222222222222222,
             "#7201a8"
            ],
            [
             0.3333333333333333,
             "#9c179e"
            ],
            [
             0.4444444444444444,
             "#bd3786"
            ],
            [
             0.5555555555555556,
             "#d8576b"
            ],
            [
             0.6666666666666666,
             "#ed7953"
            ],
            [
             0.7777777777777778,
             "#fb9f3a"
            ],
            [
             0.8888888888888888,
             "#fdca26"
            ],
            [
             1,
             "#f0f921"
            ]
           ],
           "sequentialminus": [
            [
             0,
             "#0d0887"
            ],
            [
             0.1111111111111111,
             "#46039f"
            ],
            [
             0.2222222222222222,
             "#7201a8"
            ],
            [
             0.3333333333333333,
             "#9c179e"
            ],
            [
             0.4444444444444444,
             "#bd3786"
            ],
            [
             0.5555555555555556,
             "#d8576b"
            ],
            [
             0.6666666666666666,
             "#ed7953"
            ],
            [
             0.7777777777777778,
             "#fb9f3a"
            ],
            [
             0.8888888888888888,
             "#fdca26"
            ],
            [
             1,
             "#f0f921"
            ]
           ]
          },
          "colorway": [
           "#636efa",
           "#EF553B",
           "#00cc96",
           "#ab63fa",
           "#FFA15A",
           "#19d3f3",
           "#FF6692",
           "#B6E880",
           "#FF97FF",
           "#FECB52"
          ],
          "font": {
           "color": "#2a3f5f"
          },
          "geo": {
           "bgcolor": "white",
           "lakecolor": "white",
           "landcolor": "white",
           "showlakes": true,
           "showland": true,
           "subunitcolor": "#C8D4E3"
          },
          "hoverlabel": {
           "align": "left"
          },
          "hovermode": "closest",
          "mapbox": {
           "style": "light"
          },
          "paper_bgcolor": "white",
          "plot_bgcolor": "white",
          "polar": {
           "angularaxis": {
            "gridcolor": "#EBF0F8",
            "linecolor": "#EBF0F8",
            "ticks": ""
           },
           "bgcolor": "white",
           "radialaxis": {
            "gridcolor": "#EBF0F8",
            "linecolor": "#EBF0F8",
            "ticks": ""
           }
          },
          "scene": {
           "xaxis": {
            "backgroundcolor": "white",
            "gridcolor": "#DFE8F3",
            "gridwidth": 2,
            "linecolor": "#EBF0F8",
            "showbackground": true,
            "ticks": "",
            "zerolinecolor": "#EBF0F8"
           },
           "yaxis": {
            "backgroundcolor": "white",
            "gridcolor": "#DFE8F3",
            "gridwidth": 2,
            "linecolor": "#EBF0F8",
            "showbackground": true,
            "ticks": "",
            "zerolinecolor": "#EBF0F8"
           },
           "zaxis": {
            "backgroundcolor": "white",
            "gridcolor": "#DFE8F3",
            "gridwidth": 2,
            "linecolor": "#EBF0F8",
            "showbackground": true,
            "ticks": "",
            "zerolinecolor": "#EBF0F8"
           }
          },
          "shapedefaults": {
           "line": {
            "color": "#2a3f5f"
           }
          },
          "ternary": {
           "aaxis": {
            "gridcolor": "#DFE8F3",
            "linecolor": "#A2B1C6",
            "ticks": ""
           },
           "baxis": {
            "gridcolor": "#DFE8F3",
            "linecolor": "#A2B1C6",
            "ticks": ""
           },
           "bgcolor": "white",
           "caxis": {
            "gridcolor": "#DFE8F3",
            "linecolor": "#A2B1C6",
            "ticks": ""
           }
          },
          "title": {
           "x": 0.05
          },
          "xaxis": {
           "automargin": true,
           "gridcolor": "#EBF0F8",
           "linecolor": "#EBF0F8",
           "ticks": "",
           "title": {
            "standoff": 15
           },
           "zerolinecolor": "#EBF0F8",
           "zerolinewidth": 2
          },
          "yaxis": {
           "automargin": true,
           "gridcolor": "#EBF0F8",
           "linecolor": "#EBF0F8",
           "ticks": "",
           "title": {
            "standoff": 15
           },
           "zerolinecolor": "#EBF0F8",
           "zerolinewidth": 2
          }
         }
        },
        "width": 500,
        "xaxis": {
         "title": {
          "text": "<b>wavelength [nm]</b>"
         }
        },
        "yaxis": {
         "title": {
          "text": "<b>L1 normalized<br>reflectance [a.u.]</b>"
         }
        }
       }
      },
      "text/html": [
       "<div>                            <div id=\"cd072cd8-be6f-4f62-ac4c-09c28206e7e3\" class=\"plotly-graph-div\" style=\"height:300px; width:500px;\"></div>            <script type=\"text/javascript\">                require([\"plotly\"], function(Plotly) {                    window.PLOTLYENV=window.PLOTLYENV || {};                                    if (document.getElementById(\"cd072cd8-be6f-4f62-ac4c-09c28206e7e3\")) {                    Plotly.newPlot(                        \"cd072cd8-be6f-4f62-ac4c-09c28206e7e3\",                        [{\"line\":{\"color\":\"#dbdb8d\"},\"name\":\"physiological\",\"x\":[502.5,507.5,512.5,517.5,522.5,527.5,532.5,537.5,542.5,547.5,552.5,557.5,562.5,567.5,572.5,577.5,582.5,587.5,592.5,597.5,602.5,607.5,612.5,617.5,622.5,627.5,632.5,637.5,642.5,647.5,652.5,657.5,662.5,667.5,672.5,677.5,682.5,687.5,692.5,697.5,702.5,707.5,712.5,717.5,722.5,727.5,732.5,737.5,742.5,747.5,752.5,757.5,762.5,767.5,772.5,777.5,782.5,787.5,792.5,797.5,802.5,807.5,812.5,817.5,822.5,827.5,832.5,837.5,842.5,847.5,852.5,857.5,862.5,867.5,872.5,877.5,882.5,887.5,892.5,897.5,902.5,907.5,912.5,917.5,922.5,927.5,932.5,937.5,942.5,947.5,952.5,957.5,962.5,967.5,972.5,977.5,982.5,987.5,992.5,997.5],\"y\":[0.003908251412212849,0.0038014929741621017,0.0036102551966905594,0.0033639180473983288,0.003054297063499689,0.002795694163069129,0.002559784334152937,0.0024211793206632137,0.00240161269903183,0.002459025476127863,0.0025002670008689165,0.0025944076478481293,0.002561629982665181,0.0024262855295091867,0.0022110268473625183,0.0021032209042459726,0.00223356019705534,0.0027532135136425495,0.0037460613530129194,0.005081090144813061,0.006399947218596935,0.007547189015895128,0.008552429266273975,0.009412992745637894,0.010112663730978966,0.010652845725417137,0.01108347438275814,0.011460240930318832,0.011773020960390568,0.012044709175825119,0.012259644456207752,0.012457519769668579,0.012641651555895805,0.01283391285687685,0.013030678033828735,0.013259951025247574,0.013516340404748917,0.01376006193459034,0.01400945894420147,0.014223692007362843,0.01438777893781662,0.014502586796879768,0.0145625751465559,0.014600824564695358,0.014572879299521446,0.014524409547448158,0.014388861134648323,0.01422191597521305,0.014063982293009758,0.013901812955737114,0.01375404093414545,0.013602102175354958,0.013481345027685165,0.013409534469246864,0.013362525030970573,0.013312717899680138,0.01325431652367115,0.013179187662899494,0.013079287484288216,0.01297722477465868,0.012868798337876797,0.01274239644408226,0.012617195025086403,0.012491369619965553,0.012345260009169579,0.012169808149337769,0.012002240866422653,0.01186596229672432,0.011748204007744789,0.011657370254397392,0.011555102653801441,0.011474590748548508,0.01139736920595169,0.01132822036743164,0.01127827912569046,0.011240524239838123,0.011164925061166286,0.011116450652480125,0.01106878463178873,0.011020369827747345,0.010989556089043617,0.010972216725349426,0.010975782759487629,0.010982425883412361,0.010961763560771942,0.010912229306995869,0.010827401652932167,0.010709131136536598,0.010555107146501541,0.010378794744610786,0.010165471583604813,0.009896785020828247,0.009545925073325634,0.009284183382987976,0.009008834138512611,0.008783389814198017,0.008442332968115807,0.007932105101644993,0.007406948134303093,0.007047862280160189],\"type\":\"scatter\"},{\"line\":{\"color\":\"#dbdb8d\",\"dash\":\"dot\"},\"name\":\"malperfused\",\"x\":[502.5,507.5,512.5,517.5,522.5,527.5,532.5,537.5,542.5,547.5,552.5,557.5,562.5,567.5,572.5,577.5,582.5,587.5,592.5,597.5,602.5,607.5,612.5,617.5,622.5,627.5,632.5,637.5,642.5,647.5,652.5,657.5,662.5,667.5,672.5,677.5,682.5,687.5,692.5,697.5,702.5,707.5,712.5,717.5,722.5,727.5,732.5,737.5,742.5,747.5,752.5,757.5,762.5,767.5,772.5,777.5,782.5,787.5,792.5,797.5,802.5,807.5,812.5,817.5,822.5,827.5,832.5,837.5,842.5,847.5,852.5,857.5,862.5,867.5,872.5,877.5,882.5,887.5,892.5,897.5,902.5,907.5,912.5,917.5,922.5,927.5,932.5,937.5,942.5,947.5,952.5,957.5,962.5,967.5,972.5,977.5,982.5,987.5,992.5,997.5],\"y\":[0.002379692392423749,0.002222551964223385,0.0020507341250777245,0.001886041252873838,0.0016579952789470553,0.0015869945054873824,0.0014149912167340517,0.0013439678587019444,0.0012760526733472943,0.0012650970602408051,0.0012709770817309618,0.0012861981522291899,0.0012565411161631346,0.001222624210640788,0.001145375077612698,0.0010993643663823605,0.0011375450994819403,0.0013054382288828492,0.0016263853758573532,0.0020310746040195227,0.002553411992266774,0.0032034541945904493,0.003925872966647148,0.004601517226547003,0.005203295964747667,0.005705399438738823,0.006111869588494301,0.006467555649578571,0.006761080119758844,0.006992815062403679,0.007195646874606609,0.007388713303953409,0.0076146116480231285,0.007884633727371693,0.008280637674033642,0.008744072169065475,0.009297080338001251,0.00988804828375578,0.01048783864825964,0.011045670136809349,0.011538001708686352,0.011969543993473053,0.01238592341542244,0.012796618044376373,0.013155130669474602,0.013432475738227367,0.013510772958397865,0.013374526053667068,0.01302420161664486,0.012536014430224895,0.01203601062297821,0.011744854971766472,0.0118258036673069,0.012309612706303596,0.013053333386778831,0.01382493507117033,0.014465135522186756,0.01491409633308649,0.015224236063659191,0.01542958989739418,0.01556196715682745,0.015613229013979435,0.01560695469379425,0.015585167333483696,0.015486816875636578,0.01535115484148264,0.015207475051283836,0.015081584453582764,0.014991261065006256,0.014927219599485397,0.014838922768831253,0.014756601303815842,0.014684406109154224,0.014577481895685196,0.014502777718007565,0.014449185691773891,0.014349166303873062,0.014252183958888054,0.014196098782122135,0.014139716513454914,0.014093801379203796,0.014088552445173264,0.014141063205897808,0.014193763956427574,0.014260878786444664,0.014285198412835598,0.01431797631084919,0.014272479340434074,0.014236106537282467,0.014157227240502834,0.014079754240810871,0.013908498920500278,0.013523109257221222,0.013237256556749344,0.012852856889367104,0.012665417976677418,0.012059986591339111,0.011121158488094807,0.010129285976290703,0.009177138097584248],\"type\":\"scatter\"}],                        {\"template\":{\"data\":{\"barpolar\":[{\"marker\":{\"line\":{\"color\":\"white\",\"width\":0.5},\"pattern\":{\"fillmode\":\"overlay\",\"size\":10,\"solidity\":0.2}},\"type\":\"barpolar\"}],\"bar\":[{\"error_x\":{\"color\":\"#2a3f5f\"},\"error_y\":{\"color\":\"#2a3f5f\"},\"marker\":{\"line\":{\"color\":\"white\",\"width\":0.5},\"pattern\":{\"fillmode\":\"overlay\",\"size\":10,\"solidity\":0.2}},\"type\":\"bar\"}],\"carpet\":[{\"aaxis\":{\"endlinecolor\":\"#2a3f5f\",\"gridcolor\":\"#C8D4E3\",\"linecolor\":\"#C8D4E3\",\"minorgridcolor\":\"#C8D4E3\",\"startlinecolor\":\"#2a3f5f\"},\"baxis\":{\"endlinecolor\":\"#2a3f5f\",\"gridcolor\":\"#C8D4E3\",\"linecolor\":\"#C8D4E3\",\"minorgridcolor\":\"#C8D4E3\",\"startlinecolor\":\"#2a3f5f\"},\"type\":\"carpet\"}],\"choropleth\":[{\"colorbar\":{\"outlinewidth\":0,\"ticks\":\"\"},\"type\":\"choropleth\"}],\"contourcarpet\":[{\"colorbar\":{\"outlinewidth\":0,\"ticks\":\"\"},\"type\":\"contourcarpet\"}],\"contour\":[{\"colorbar\":{\"outlinewidth\":0,\"ticks\":\"\"},\"colorscale\":[[0.0,\"#0d0887\"],[0.1111111111111111,\"#46039f\"],[0.2222222222222222,\"#7201a8\"],[0.3333333333333333,\"#9c179e\"],[0.4444444444444444,\"#bd3786\"],[0.5555555555555556,\"#d8576b\"],[0.6666666666666666,\"#ed7953\"],[0.7777777777777778,\"#fb9f3a\"],[0.8888888888888888,\"#fdca26\"],[1.0,\"#f0f921\"]],\"type\":\"contour\"}],\"heatmapgl\":[{\"colorbar\":{\"outlinewidth\":0,\"ticks\":\"\"},\"colorscale\":[[0.0,\"#0d0887\"],[0.1111111111111111,\"#46039f\"],[0.2222222222222222,\"#7201a8\"],[0.3333333333333333,\"#9c179e\"],[0.4444444444444444,\"#bd3786\"],[0.5555555555555556,\"#d8576b\"],[0.6666666666666666,\"#ed7953\"],[0.7777777777777778,\"#fb9f3a\"],[0.8888888888888888,\"#fdca26\"],[1.0,\"#f0f921\"]],\"type\":\"heatmapgl\"}],\"heatmap\":[{\"colorbar\":{\"outlinewidth\":0,\"ticks\":\"\"},\"colorscale\":[[0.0,\"#0d0887\"],[0.1111111111111111,\"#46039f\"],[0.2222222222222222,\"#7201a8\"],[0.3333333333333333,\"#9c179e\"],[0.4444444444444444,\"#bd3786\"],[0.5555555555555556,\"#d8576b\"],[0.6666666666666666,\"#ed7953\"],[0.7777777777777778,\"#fb9f3a\"],[0.8888888888888888,\"#fdca26\"],[1.0,\"#f0f921\"]],\"type\":\"heatmap\"}],\"histogram2dcontour\":[{\"colorbar\":{\"outlinewidth\":0,\"ticks\":\"\"},\"colorscale\":[[0.0,\"#0d0887\"],[0.1111111111111111,\"#46039f\"],[0.2222222222222222,\"#7201a8\"],[0.3333333333333333,\"#9c179e\"],[0.4444444444444444,\"#bd3786\"],[0.5555555555555556,\"#d8576b\"],[0.6666666666666666,\"#ed7953\"],[0.7777777777777778,\"#fb9f3a\"],[0.8888888888888888,\"#fdca26\"],[1.0,\"#f0f921\"]],\"type\":\"histogram2dcontour\"}],\"histogram2d\":[{\"colorbar\":{\"outlinewidth\":0,\"ticks\":\"\"},\"colorscale\":[[0.0,\"#0d0887\"],[0.1111111111111111,\"#46039f\"],[0.2222222222222222,\"#7201a8\"],[0.3333333333333333,\"#9c179e\"],[0.4444444444444444,\"#bd3786\"],[0.5555555555555556,\"#d8576b\"],[0.6666666666666666,\"#ed7953\"],[0.7777777777777778,\"#fb9f3a\"],[0.8888888888888888,\"#fdca26\"],[1.0,\"#f0f921\"]],\"type\":\"histogram2d\"}],\"histogram\":[{\"marker\":{\"pattern\":{\"fillmode\":\"overlay\",\"size\":10,\"solidity\":0.2}},\"type\":\"histogram\"}],\"mesh3d\":[{\"colorbar\":{\"outlinewidth\":0,\"ticks\":\"\"},\"type\":\"mesh3d\"}],\"parcoords\":[{\"line\":{\"colorbar\":{\"outlinewidth\":0,\"ticks\":\"\"}},\"type\":\"parcoords\"}],\"pie\":[{\"automargin\":true,\"type\":\"pie\"}],\"scatter3d\":[{\"line\":{\"colorbar\":{\"outlinewidth\":0,\"ticks\":\"\"}},\"marker\":{\"colorbar\":{\"outlinewidth\":0,\"ticks\":\"\"}},\"type\":\"scatter3d\"}],\"scattercarpet\":[{\"marker\":{\"colorbar\":{\"outlinewidth\":0,\"ticks\":\"\"}},\"type\":\"scattercarpet\"}],\"scattergeo\":[{\"marker\":{\"colorbar\":{\"outlinewidth\":0,\"ticks\":\"\"}},\"type\":\"scattergeo\"}],\"scattergl\":[{\"marker\":{\"colorbar\":{\"outlinewidth\":0,\"ticks\":\"\"}},\"type\":\"scattergl\"}],\"scattermapbox\":[{\"marker\":{\"colorbar\":{\"outlinewidth\":0,\"ticks\":\"\"}},\"type\":\"scattermapbox\"}],\"scatterpolargl\":[{\"marker\":{\"colorbar\":{\"outlinewidth\":0,\"ticks\":\"\"}},\"type\":\"scatterpolargl\"}],\"scatterpolar\":[{\"marker\":{\"colorbar\":{\"outlinewidth\":0,\"ticks\":\"\"}},\"type\":\"scatterpolar\"}],\"scatter\":[{\"fillpattern\":{\"fillmode\":\"overlay\",\"size\":10,\"solidity\":0.2},\"type\":\"scatter\"}],\"scatterternary\":[{\"marker\":{\"colorbar\":{\"outlinewidth\":0,\"ticks\":\"\"}},\"type\":\"scatterternary\"}],\"surface\":[{\"colorbar\":{\"outlinewidth\":0,\"ticks\":\"\"},\"colorscale\":[[0.0,\"#0d0887\"],[0.1111111111111111,\"#46039f\"],[0.2222222222222222,\"#7201a8\"],[0.3333333333333333,\"#9c179e\"],[0.4444444444444444,\"#bd3786\"],[0.5555555555555556,\"#d8576b\"],[0.6666666666666666,\"#ed7953\"],[0.7777777777777778,\"#fb9f3a\"],[0.8888888888888888,\"#fdca26\"],[1.0,\"#f0f921\"]],\"type\":\"surface\"}],\"table\":[{\"cells\":{\"fill\":{\"color\":\"#EBF0F8\"},\"line\":{\"color\":\"white\"}},\"header\":{\"fill\":{\"color\":\"#C8D4E3\"},\"line\":{\"color\":\"white\"}},\"type\":\"table\"}]},\"layout\":{\"annotationdefaults\":{\"arrowcolor\":\"#2a3f5f\",\"arrowhead\":0,\"arrowwidth\":1},\"autotypenumbers\":\"strict\",\"coloraxis\":{\"colorbar\":{\"outlinewidth\":0,\"ticks\":\"\"}},\"colorscale\":{\"diverging\":[[0,\"#8e0152\"],[0.1,\"#c51b7d\"],[0.2,\"#de77ae\"],[0.3,\"#f1b6da\"],[0.4,\"#fde0ef\"],[0.5,\"#f7f7f7\"],[0.6,\"#e6f5d0\"],[0.7,\"#b8e186\"],[0.8,\"#7fbc41\"],[0.9,\"#4d9221\"],[1,\"#276419\"]],\"sequential\":[[0.0,\"#0d0887\"],[0.1111111111111111,\"#46039f\"],[0.2222222222222222,\"#7201a8\"],[0.3333333333333333,\"#9c179e\"],[0.4444444444444444,\"#bd3786\"],[0.5555555555555556,\"#d8576b\"],[0.6666666666666666,\"#ed7953\"],[0.7777777777777778,\"#fb9f3a\"],[0.8888888888888888,\"#fdca26\"],[1.0,\"#f0f921\"]],\"sequentialminus\":[[0.0,\"#0d0887\"],[0.1111111111111111,\"#46039f\"],[0.2222222222222222,\"#7201a8\"],[0.3333333333333333,\"#9c179e\"],[0.4444444444444444,\"#bd3786\"],[0.5555555555555556,\"#d8576b\"],[0.6666666666666666,\"#ed7953\"],[0.7777777777777778,\"#fb9f3a\"],[0.8888888888888888,\"#fdca26\"],[1.0,\"#f0f921\"]]},\"colorway\":[\"#636efa\",\"#EF553B\",\"#00cc96\",\"#ab63fa\",\"#FFA15A\",\"#19d3f3\",\"#FF6692\",\"#B6E880\",\"#FF97FF\",\"#FECB52\"],\"font\":{\"color\":\"#2a3f5f\"},\"geo\":{\"bgcolor\":\"white\",\"lakecolor\":\"white\",\"landcolor\":\"white\",\"showlakes\":true,\"showland\":true,\"subunitcolor\":\"#C8D4E3\"},\"hoverlabel\":{\"align\":\"left\"},\"hovermode\":\"closest\",\"mapbox\":{\"style\":\"light\"},\"paper_bgcolor\":\"white\",\"plot_bgcolor\":\"white\",\"polar\":{\"angularaxis\":{\"gridcolor\":\"#EBF0F8\",\"linecolor\":\"#EBF0F8\",\"ticks\":\"\"},\"bgcolor\":\"white\",\"radialaxis\":{\"gridcolor\":\"#EBF0F8\",\"linecolor\":\"#EBF0F8\",\"ticks\":\"\"}},\"scene\":{\"xaxis\":{\"backgroundcolor\":\"white\",\"gridcolor\":\"#DFE8F3\",\"gridwidth\":2,\"linecolor\":\"#EBF0F8\",\"showbackground\":true,\"ticks\":\"\",\"zerolinecolor\":\"#EBF0F8\"},\"yaxis\":{\"backgroundcolor\":\"white\",\"gridcolor\":\"#DFE8F3\",\"gridwidth\":2,\"linecolor\":\"#EBF0F8\",\"showbackground\":true,\"ticks\":\"\",\"zerolinecolor\":\"#EBF0F8\"},\"zaxis\":{\"backgroundcolor\":\"white\",\"gridcolor\":\"#DFE8F3\",\"gridwidth\":2,\"linecolor\":\"#EBF0F8\",\"showbackground\":true,\"ticks\":\"\",\"zerolinecolor\":\"#EBF0F8\"}},\"shapedefaults\":{\"line\":{\"color\":\"#2a3f5f\"}},\"ternary\":{\"aaxis\":{\"gridcolor\":\"#DFE8F3\",\"linecolor\":\"#A2B1C6\",\"ticks\":\"\"},\"baxis\":{\"gridcolor\":\"#DFE8F3\",\"linecolor\":\"#A2B1C6\",\"ticks\":\"\"},\"bgcolor\":\"white\",\"caxis\":{\"gridcolor\":\"#DFE8F3\",\"linecolor\":\"#A2B1C6\",\"ticks\":\"\"}},\"title\":{\"x\":0.05},\"xaxis\":{\"automargin\":true,\"gridcolor\":\"#EBF0F8\",\"linecolor\":\"#EBF0F8\",\"ticks\":\"\",\"title\":{\"standoff\":15},\"zerolinecolor\":\"#EBF0F8\",\"zerolinewidth\":2},\"yaxis\":{\"automargin\":true,\"gridcolor\":\"#EBF0F8\",\"linecolor\":\"#EBF0F8\",\"ticks\":\"\",\"title\":{\"standoff\":15},\"zerolinecolor\":\"#EBF0F8\",\"zerolinewidth\":2}}},\"height\":300,\"width\":500,\"font\":{\"family\":\"Libertinus Sans\",\"size\":16},\"margin\":{\"l\":0,\"r\":0,\"t\":10,\"b\":0},\"legend\":{\"orientation\":\"h\",\"yanchor\":\"top\",\"y\":1.17,\"xanchor\":\"center\",\"x\":0.5},\"yaxis\":{\"title\":{\"text\":\"\\u003cb\\u003eL1 normalized\\u003cbr\\u003ereflectance [a.u.]\\u003c\\u002fb\\u003e\"}},\"xaxis\":{\"title\":{\"text\":\"\\u003cb\\u003ewavelength [nm]\\u003c\\u002fb\\u003e\"}}},                        {\"responsive\": true}                    ).then(function(){\n",
       "                            \n",
       "var gd = document.getElementById('cd072cd8-be6f-4f62-ac4c-09c28206e7e3');\n",
       "var x = new MutationObserver(function (mutations, observer) {{\n",
       "        var display = window.getComputedStyle(gd).display;\n",
       "        if (!display || display === 'none') {{\n",
       "            console.log([gd, 'removed!']);\n",
       "            Plotly.purge(gd);\n",
       "            observer.disconnect();\n",
       "        }}\n",
       "}});\n",
       "\n",
       "// Listen for the removal of the full notebook cells\n",
       "var notebookContainer = gd.closest('#notebook-container');\n",
       "if (notebookContainer) {{\n",
       "    x.observe(notebookContainer, {childList: true});\n",
       "}}\n",
       "\n",
       "// Listen for the clearing of the current output cell\n",
       "var outputEl = gd.closest('.output');\n",
       "if (outputEl) {{\n",
       "    x.observe(outputEl, {childList: true});\n",
       "}}\n",
       "\n",
       "                        })                };                });            </script>        </div>"
      ]
     },
     "metadata": {},
     "output_type": "display_data"
    }
   ],
   "source": [
    "df = median_table(paths=[path_physiological, path_malperfused])\n",
    "wavelengths = np.arange(500, 1000, 5) + 2.5\n",
    "\n",
    "spectrum_physiological = df[(df.image_name == path_physiological.image_name()) & (df.label_name == \"kidney\")].iloc[0][\n",
    "    \"median_normalized_spectrum\"\n",
    "]\n",
    "spectrum_malperfused = df[(df.image_name == path_malperfused.image_name()) & (df.label_name == \"kidney\")].iloc[0][\n",
    "    \"median_normalized_spectrum\"\n",
    "]\n",
    "\n",
    "fig = go.Figure()\n",
    "fig.add_trace(\n",
    "    go.Scatter(\n",
    "        x=wavelengths,\n",
    "        y=spectrum_physiological,\n",
    "        line_color=settings_seg.label_colors_paper[\"kidney\"],\n",
    "        name=\"physiological\",\n",
    "    )\n",
    ")\n",
    "fig.add_trace(\n",
    "    go.Scatter(\n",
    "        x=wavelengths,\n",
    "        y=spectrum_malperfused,\n",
    "        line_color=settings_seg.label_colors_paper[\"kidney\"],\n",
    "        line_dash=\"dot\",\n",
    "        name=\"malperfused\",\n",
    "    )\n",
    ")\n",
    "\n",
    "fig.update_layout(height=300, width=500, template=\"plotly_white\")\n",
    "fig.update_layout(font_family=\"Libertinus Sans\", font_size=16)\n",
    "fig.update_layout(margin=dict(l=0, r=0, t=10, b=0))\n",
    "fig.update_layout(legend=dict(orientation=\"h\", yanchor=\"top\", y=1.17, xanchor=\"center\", x=0.5))\n",
    "fig.update_yaxes(title=\"<b>L1 normalized<br>reflectance [a.u.]</b>\")\n",
    "fig.update_xaxes(title=\"<b>wavelength [nm]</b>\")\n",
    "\n",
    "fig.write_image(settings_species.paper_dir / \"method_concept_example_spectra_kidney.pdf\")\n",
    "fig"
   ]
  }
 ],
 "metadata": {
  "kernelspec": {
   "display_name": "htc",
   "language": "python",
   "name": "python3"
  },
  "language_info": {
   "codemirror_mode": {
    "name": "ipython",
    "version": 3
   },
   "file_extension": ".py",
   "mimetype": "text/x-python",
   "name": "python",
   "nbconvert_exporter": "python",
   "pygments_lexer": "ipython3",
   "version": "3.12.7"
  }
 },
 "nbformat": 4,
 "nbformat_minor": 2
}
