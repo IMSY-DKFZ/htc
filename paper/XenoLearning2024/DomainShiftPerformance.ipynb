{
 "cells": [
  {
   "cell_type": "code",
   "execution_count": 1,
   "metadata": {},
   "outputs": [],
   "source": [
    "%load_ext autoreload\n",
    "%autoreload 2\n",
    "\n",
    "import numpy as np\n",
    "import plotly.graph_objects as go\n",
    "import plotly.io as pio\n",
    "from plotly.subplots import make_subplots\n",
    "\n",
    "from htc.settings_seg import settings_seg\n",
    "from htc.utils.helper_functions import sort_labels\n",
    "from htc.utils.visualization import boxplot_symbols\n",
    "from htc_projects.species.settings_species import settings_species\n",
    "from htc_projects.species.species_evaluation import baseline_performance\n",
    "\n",
    "pio.kaleido.scope.mathjax = None"
   ]
  },
  {
   "cell_type": "code",
   "execution_count": 2,
   "metadata": {},
   "outputs": [
    {
     "data": {
      "text/html": [
       "<div>\n",
       "<style scoped>\n",
       "    .dataframe tbody tr th:only-of-type {\n",
       "        vertical-align: middle;\n",
       "    }\n",
       "\n",
       "    .dataframe tbody tr th {\n",
       "        vertical-align: top;\n",
       "    }\n",
       "\n",
       "    .dataframe thead th {\n",
       "        text-align: right;\n",
       "    }\n",
       "</style>\n",
       "<table border=\"1\" class=\"dataframe\">\n",
       "  <thead>\n",
       "    <tr style=\"text-align: right;\">\n",
       "      <th></th>\n",
       "      <th>label_index</th>\n",
       "      <th>dice_metric</th>\n",
       "      <th>dice_metric_bootstraps</th>\n",
       "      <th>surface_dice_metric_mean</th>\n",
       "      <th>surface_dice_metric_mean_bootstraps</th>\n",
       "      <th>label_name</th>\n",
       "      <th>network</th>\n",
       "      <th>source_species</th>\n",
       "      <th>target_species</th>\n",
       "    </tr>\n",
       "  </thead>\n",
       "  <tbody>\n",
       "    <tr>\n",
       "      <th>0</th>\n",
       "      <td>1</td>\n",
       "      <td>0.317947</td>\n",
       "      <td>[0.34074875820826483, 0.362413721895955, 0.315...</td>\n",
       "      <td>0.249723</td>\n",
       "      <td>[0.2633802482715009, 0.2757965110866666, 0.246...</td>\n",
       "      <td>stomach</td>\n",
       "      <td>baseline_human</td>\n",
       "      <td>human</td>\n",
       "      <td>pig</td>\n",
       "    </tr>\n",
       "    <tr>\n",
       "      <th>1</th>\n",
       "      <td>2</td>\n",
       "      <td>0.621578</td>\n",
       "      <td>[0.6773898810167376, 0.5772742601424683, 0.685...</td>\n",
       "      <td>0.371644</td>\n",
       "      <td>[0.3776121832154154, 0.3553180572116855, 0.393...</td>\n",
       "      <td>small_bowel</td>\n",
       "      <td>baseline_human</td>\n",
       "      <td>human</td>\n",
       "      <td>pig</td>\n",
       "    </tr>\n",
       "    <tr>\n",
       "      <th>2</th>\n",
       "      <td>3</td>\n",
       "      <td>0.227294</td>\n",
       "      <td>[0.19941976478418066, 0.223918239511965, 0.198...</td>\n",
       "      <td>0.171938</td>\n",
       "      <td>[0.160747846172235, 0.16414551307462483, 0.143...</td>\n",
       "      <td>colon</td>\n",
       "      <td>baseline_human</td>\n",
       "      <td>human</td>\n",
       "      <td>pig</td>\n",
       "    </tr>\n",
       "    <tr>\n",
       "      <th>3</th>\n",
       "      <td>4</td>\n",
       "      <td>0.554063</td>\n",
       "      <td>[0.49920446694225895, 0.6304400772439798, 0.56...</td>\n",
       "      <td>0.258349</td>\n",
       "      <td>[0.24268291278031065, 0.2950893455816702, 0.27...</td>\n",
       "      <td>liver</td>\n",
       "      <td>baseline_human</td>\n",
       "      <td>human</td>\n",
       "      <td>pig</td>\n",
       "    </tr>\n",
       "    <tr>\n",
       "      <th>4</th>\n",
       "      <td>5</td>\n",
       "      <td>0.000093</td>\n",
       "      <td>[9.349933825433254e-05, 0.0, 9.349933825433254...</td>\n",
       "      <td>0.001226</td>\n",
       "      <td>[0.0012258368943418776, 0.0, 0.001225836894341...</td>\n",
       "      <td>pancreas</td>\n",
       "      <td>baseline_human</td>\n",
       "      <td>human</td>\n",
       "      <td>pig</td>\n",
       "    </tr>\n",
       "    <tr>\n",
       "      <th>...</th>\n",
       "      <td>...</td>\n",
       "      <td>...</td>\n",
       "      <td>...</td>\n",
       "      <td>...</td>\n",
       "      <td>...</td>\n",
       "      <td>...</td>\n",
       "      <td>...</td>\n",
       "      <td>...</td>\n",
       "      <td>...</td>\n",
       "    </tr>\n",
       "    <tr>\n",
       "      <th>139</th>\n",
       "      <td>8</td>\n",
       "      <td>0.888016</td>\n",
       "      <td>[0.8856765283399728, 0.8988884758969858, 0.875...</td>\n",
       "      <td>0.786295</td>\n",
       "      <td>[0.7914921903963246, 0.8094676639163111, 0.774...</td>\n",
       "      <td>omentum</td>\n",
       "      <td>joint_pig-p+rat-p2human</td>\n",
       "      <td>pig-p+rat-p2human</td>\n",
       "      <td>human</td>\n",
       "    </tr>\n",
       "    <tr>\n",
       "      <th>140</th>\n",
       "      <td>9</td>\n",
       "      <td>0.862759</td>\n",
       "      <td>[0.8484361171722412, 0.8544848998387655, 0.888...</td>\n",
       "      <td>0.730757</td>\n",
       "      <td>[0.7052413533793555, 0.7371561147107019, 0.816...</td>\n",
       "      <td>lung</td>\n",
       "      <td>joint_pig-p+rat-p2human</td>\n",
       "      <td>pig-p+rat-p2human</td>\n",
       "      <td>human</td>\n",
       "    </tr>\n",
       "    <tr>\n",
       "      <th>141</th>\n",
       "      <td>10</td>\n",
       "      <td>0.815231</td>\n",
       "      <td>[0.7925396424124574, 0.8349951520241876, 0.824...</td>\n",
       "      <td>0.844757</td>\n",
       "      <td>[0.8140680448519234, 0.8611372900407308, 0.864...</td>\n",
       "      <td>skin</td>\n",
       "      <td>joint_pig-p+rat-p2human</td>\n",
       "      <td>pig-p+rat-p2human</td>\n",
       "      <td>human</td>\n",
       "    </tr>\n",
       "    <tr>\n",
       "      <th>142</th>\n",
       "      <td>11</td>\n",
       "      <td>0.612838</td>\n",
       "      <td>[0.6067706619435445, 0.5486092639125251, 0.650...</td>\n",
       "      <td>0.654853</td>\n",
       "      <td>[0.6474966068116444, 0.6145212012178757, 0.671...</td>\n",
       "      <td>peritoneum</td>\n",
       "      <td>joint_pig-p+rat-p2human</td>\n",
       "      <td>pig-p+rat-p2human</td>\n",
       "      <td>human</td>\n",
       "    </tr>\n",
       "    <tr>\n",
       "      <th>143</th>\n",
       "      <td>0</td>\n",
       "      <td>0.985669</td>\n",
       "      <td>[0.9832118419629218, 0.9885164458057996, 0.984...</td>\n",
       "      <td>0.905114</td>\n",
       "      <td>[0.902000980520579, 0.9102479997000477, 0.9021...</td>\n",
       "      <td>background</td>\n",
       "      <td>joint_pig-p+rat-p2human</td>\n",
       "      <td>pig-p+rat-p2human</td>\n",
       "      <td>human</td>\n",
       "    </tr>\n",
       "  </tbody>\n",
       "</table>\n",
       "<p>144 rows × 9 columns</p>\n",
       "</div>"
      ],
      "text/plain": [
       "     label_index  dice_metric  \\\n",
       "0              1     0.317947   \n",
       "1              2     0.621578   \n",
       "2              3     0.227294   \n",
       "3              4     0.554063   \n",
       "4              5     0.000093   \n",
       "..           ...          ...   \n",
       "139            8     0.888016   \n",
       "140            9     0.862759   \n",
       "141           10     0.815231   \n",
       "142           11     0.612838   \n",
       "143            0     0.985669   \n",
       "\n",
       "                                dice_metric_bootstraps  \\\n",
       "0    [0.34074875820826483, 0.362413721895955, 0.315...   \n",
       "1    [0.6773898810167376, 0.5772742601424683, 0.685...   \n",
       "2    [0.19941976478418066, 0.223918239511965, 0.198...   \n",
       "3    [0.49920446694225895, 0.6304400772439798, 0.56...   \n",
       "4    [9.349933825433254e-05, 0.0, 9.349933825433254...   \n",
       "..                                                 ...   \n",
       "139  [0.8856765283399728, 0.8988884758969858, 0.875...   \n",
       "140  [0.8484361171722412, 0.8544848998387655, 0.888...   \n",
       "141  [0.7925396424124574, 0.8349951520241876, 0.824...   \n",
       "142  [0.6067706619435445, 0.5486092639125251, 0.650...   \n",
       "143  [0.9832118419629218, 0.9885164458057996, 0.984...   \n",
       "\n",
       "     surface_dice_metric_mean  \\\n",
       "0                    0.249723   \n",
       "1                    0.371644   \n",
       "2                    0.171938   \n",
       "3                    0.258349   \n",
       "4                    0.001226   \n",
       "..                        ...   \n",
       "139                  0.786295   \n",
       "140                  0.730757   \n",
       "141                  0.844757   \n",
       "142                  0.654853   \n",
       "143                  0.905114   \n",
       "\n",
       "                   surface_dice_metric_mean_bootstraps   label_name  \\\n",
       "0    [0.2633802482715009, 0.2757965110866666, 0.246...      stomach   \n",
       "1    [0.3776121832154154, 0.3553180572116855, 0.393...  small_bowel   \n",
       "2    [0.160747846172235, 0.16414551307462483, 0.143...        colon   \n",
       "3    [0.24268291278031065, 0.2950893455816702, 0.27...        liver   \n",
       "4    [0.0012258368943418776, 0.0, 0.001225836894341...     pancreas   \n",
       "..                                                 ...          ...   \n",
       "139  [0.7914921903963246, 0.8094676639163111, 0.774...      omentum   \n",
       "140  [0.7052413533793555, 0.7371561147107019, 0.816...         lung   \n",
       "141  [0.8140680448519234, 0.8611372900407308, 0.864...         skin   \n",
       "142  [0.6474966068116444, 0.6145212012178757, 0.671...   peritoneum   \n",
       "143  [0.902000980520579, 0.9102479997000477, 0.9021...   background   \n",
       "\n",
       "                     network     source_species target_species  \n",
       "0             baseline_human              human            pig  \n",
       "1             baseline_human              human            pig  \n",
       "2             baseline_human              human            pig  \n",
       "3             baseline_human              human            pig  \n",
       "4             baseline_human              human            pig  \n",
       "..                       ...                ...            ...  \n",
       "139  joint_pig-p+rat-p2human  pig-p+rat-p2human          human  \n",
       "140  joint_pig-p+rat-p2human  pig-p+rat-p2human          human  \n",
       "141  joint_pig-p+rat-p2human  pig-p+rat-p2human          human  \n",
       "142  joint_pig-p+rat-p2human  pig-p+rat-p2human          human  \n",
       "143  joint_pig-p+rat-p2human  pig-p+rat-p2human          human  \n",
       "\n",
       "[144 rows x 9 columns]"
      ]
     },
     "execution_count": 2,
     "metadata": {},
     "output_type": "execute_result"
    }
   ],
   "source": [
    "df = baseline_performance()\n",
    "df"
   ]
  },
  {
   "cell_type": "code",
   "execution_count": 3,
   "metadata": {},
   "outputs": [
    {
     "data": {
      "text/html": [
       "        <script type=\"text/javascript\">\n",
       "        window.PlotlyConfig = {MathJaxConfig: 'local'};\n",
       "        if (window.MathJax && window.MathJax.Hub && window.MathJax.Hub.Config) {window.MathJax.Hub.Config({SVG: {font: \"STIX-Web\"}});}\n",
       "        if (typeof require !== 'undefined') {\n",
       "        require.undef(\"plotly\");\n",
       "        requirejs.config({\n",
       "            paths: {\n",
       "                'plotly': ['https://cdn.plot.ly/plotly-2.35.2.min']\n",
       "            }\n",
       "        });\n",
       "        require(['plotly'], function(Plotly) {\n",
       "            window._Plotly = Plotly;\n",
       "        });\n",
       "        }\n",
       "        </script>\n",
       "        "
      ]
     },
     "metadata": {},
     "output_type": "display_data"
    },
    {
     "data": {
      "application/vnd.plotly.v1+json": {
       "config": {
        "plotlyServerURL": "https://plot.ly"
       },
       "data": [
        {
         "legend": "legend",
         "marker": {
          "color": "gray",
          "line": {
           "color": "black",
           "width": 1
          },
          "size": 9,
          "symbol": "circle"
         },
         "mode": "markers",
         "name": "stomach",
         "showlegend": true,
         "type": "scatter",
         "x": [
          null
         ],
         "xaxis": "x",
         "y": [
          null
         ],
         "yaxis": "y"
        },
        {
         "legend": "legend",
         "marker": {
          "color": "gray",
          "line": {
           "color": "black",
           "width": 1
          },
          "size": 9,
          "symbol": "square"
         },
         "mode": "markers",
         "name": "small_bowel",
         "showlegend": true,
         "type": "scatter",
         "x": [
          null
         ],
         "xaxis": "x",
         "y": [
          null
         ],
         "yaxis": "y"
        },
        {
         "legend": "legend",
         "marker": {
          "color": "gray",
          "line": {
           "color": "black",
           "width": 1
          },
          "size": 9,
          "symbol": "diamond"
         },
         "mode": "markers",
         "name": "colon",
         "showlegend": true,
         "type": "scatter",
         "x": [
          null
         ],
         "xaxis": "x",
         "y": [
          null
         ],
         "yaxis": "y"
        },
        {
         "legend": "legend",
         "marker": {
          "color": "gray",
          "line": {
           "color": "black",
           "width": 1
          },
          "size": 9,
          "symbol": "cross"
         },
         "mode": "markers",
         "name": "liver",
         "showlegend": true,
         "type": "scatter",
         "x": [
          null
         ],
         "xaxis": "x",
         "y": [
          null
         ],
         "yaxis": "y"
        },
        {
         "legend": "legend",
         "marker": {
          "color": "gray",
          "line": {
           "color": "black",
           "width": 1
          },
          "size": 9,
          "symbol": "x"
         },
         "mode": "markers",
         "name": "pancreas",
         "showlegend": true,
         "type": "scatter",
         "x": [
          null
         ],
         "xaxis": "x",
         "y": [
          null
         ],
         "yaxis": "y"
        },
        {
         "legend": "legend",
         "marker": {
          "color": "gray",
          "line": {
           "color": "black",
           "width": 1
          },
          "size": 9,
          "symbol": "triangle-up"
         },
         "mode": "markers",
         "name": "kidney",
         "showlegend": true,
         "type": "scatter",
         "x": [
          null
         ],
         "xaxis": "x",
         "y": [
          null
         ],
         "yaxis": "y"
        },
        {
         "legend": "legend",
         "marker": {
          "color": "gray",
          "line": {
           "color": "black",
           "width": 1
          },
          "size": 9,
          "symbol": "triangle-down"
         },
         "mode": "markers",
         "name": "spleen",
         "showlegend": true,
         "type": "scatter",
         "x": [
          null
         ],
         "xaxis": "x",
         "y": [
          null
         ],
         "yaxis": "y"
        },
        {
         "legend": "legend",
         "marker": {
          "color": "gray",
          "line": {
           "color": "black",
           "width": 1
          },
          "size": 9,
          "symbol": "triangle-left"
         },
         "mode": "markers",
         "name": "omentum",
         "showlegend": true,
         "type": "scatter",
         "x": [
          null
         ],
         "xaxis": "x",
         "y": [
          null
         ],
         "yaxis": "y"
        },
        {
         "legend": "legend",
         "marker": {
          "color": "gray",
          "line": {
           "color": "black",
           "width": 1
          },
          "size": 9,
          "symbol": "triangle-right"
         },
         "mode": "markers",
         "name": "lung",
         "showlegend": true,
         "type": "scatter",
         "x": [
          null
         ],
         "xaxis": "x",
         "y": [
          null
         ],
         "yaxis": "y"
        },
        {
         "legend": "legend",
         "marker": {
          "color": "gray",
          "line": {
           "color": "black",
           "width": 1
          },
          "size": 9,
          "symbol": "triangle-ne"
         },
         "mode": "markers",
         "name": "skin",
         "showlegend": true,
         "type": "scatter",
         "x": [
          null
         ],
         "xaxis": "x",
         "y": [
          null
         ],
         "yaxis": "y"
        },
        {
         "legend": "legend",
         "marker": {
          "color": "gray",
          "line": {
           "color": "black",
           "width": 1
          },
          "size": 9,
          "symbol": "triangle-se"
         },
         "mode": "markers",
         "name": "peritoneum",
         "showlegend": true,
         "type": "scatter",
         "x": [
          null
         ],
         "xaxis": "x",
         "y": [
          null
         ],
         "yaxis": "y"
        },
        {
         "legend": "legend",
         "marker": {
          "color": "gray",
          "line": {
           "color": "black",
           "width": 1
          },
          "size": 9,
          "symbol": "triangle-sw"
         },
         "mode": "markers",
         "name": "background",
         "showlegend": true,
         "type": "scatter",
         "x": [
          null
         ],
         "xaxis": "x",
         "y": [
          null
         ],
         "yaxis": "y"
        },
        {
         "legend": "legend",
         "legendgroup": "pig2pig",
         "marker": {
          "color": "#44AA99",
          "line": {
           "color": "black",
           "width": 1
          },
          "size": 9,
          "symbol": "triangle-sw"
         },
         "mode": "markers",
         "name": "background",
         "showlegend": false,
         "type": "scatter",
         "x": [
          0
         ],
         "xaxis": "x",
         "y": [
          0.9885008740648948
         ],
         "yaxis": "y"
        },
        {
         "legend": "legend",
         "legendgroup": "pig2pig",
         "marker": {
          "color": "#44AA99",
          "line": {
           "color": "black",
           "width": 1
          },
          "size": 9,
          "symbol": "triangle-right"
         },
         "mode": "markers",
         "name": "lung",
         "showlegend": false,
         "type": "scatter",
         "x": [
          0.09333333333333334
         ],
         "xaxis": "x",
         "y": [
          0.969053622397966
         ],
         "yaxis": "y"
        },
        {
         "legend": "legend",
         "legendgroup": "pig2pig",
         "marker": {
          "color": "#44AA99",
          "line": {
           "color": "black",
           "width": 1
          },
          "size": 9,
          "symbol": "square"
         },
         "mode": "markers",
         "name": "small_bowel",
         "showlegend": false,
         "type": "scatter",
         "x": [
          0.18666666666666668
         ],
         "xaxis": "x",
         "y": [
          0.9571652246702758
         ],
         "yaxis": "y"
        },
        {
         "legend": "legend",
         "legendgroup": "pig2pig",
         "marker": {
          "color": "#44AA99",
          "line": {
           "color": "black",
           "width": 1
          },
          "size": 9,
          "symbol": "diamond"
         },
         "mode": "markers",
         "name": "colon",
         "showlegend": false,
         "type": "scatter",
         "x": [
          0.28
         ],
         "xaxis": "x",
         "y": [
          0.9568510778387512
         ],
         "yaxis": "y"
        },
        {
         "legend": "legend",
         "legendgroup": "pig2pig",
         "marker": {
          "color": "#44AA99",
          "line": {
           "color": "black",
           "width": 1
          },
          "size": 9,
          "symbol": "triangle-down"
         },
         "mode": "markers",
         "name": "spleen",
         "showlegend": false,
         "type": "scatter",
         "x": [
          0
         ],
         "xaxis": "x",
         "y": [
          0.9536923306576212
         ],
         "yaxis": "y"
        },
        {
         "legend": "legend",
         "legendgroup": "pig2pig",
         "marker": {
          "color": "#44AA99",
          "line": {
           "color": "black",
           "width": 1
          },
          "size": 9,
          "symbol": "cross"
         },
         "mode": "markers",
         "name": "liver",
         "showlegend": false,
         "type": "scatter",
         "x": [
          0.09333333333333334
         ],
         "xaxis": "x",
         "y": [
          0.949537810182503
         ],
         "yaxis": "y"
        },
        {
         "legend": "legend",
         "legendgroup": "pig2pig",
         "marker": {
          "color": "#44AA99",
          "line": {
           "color": "black",
           "width": 1
          },
          "size": 9,
          "symbol": "triangle-up"
         },
         "mode": "markers",
         "name": "kidney",
         "showlegend": false,
         "type": "scatter",
         "x": [
          0.18666666666666668
         ],
         "xaxis": "x",
         "y": [
          0.9427167540282204
         ],
         "yaxis": "y"
        },
        {
         "legend": "legend",
         "legendgroup": "pig2pig",
         "marker": {
          "color": "#44AA99",
          "line": {
           "color": "black",
           "width": 1
          },
          "size": 9,
          "symbol": "triangle-se"
         },
         "mode": "markers",
         "name": "peritoneum",
         "showlegend": false,
         "type": "scatter",
         "x": [
          0.28
         ],
         "xaxis": "x",
         "y": [
          0.8750395419021202
         ],
         "yaxis": "y"
        },
        {
         "legend": "legend",
         "legendgroup": "pig2pig",
         "marker": {
          "color": "#44AA99",
          "line": {
           "color": "black",
           "width": 1
          },
          "size": 9,
          "symbol": "circle"
         },
         "mode": "markers",
         "name": "stomach",
         "showlegend": false,
         "type": "scatter",
         "x": [
          0
         ],
         "xaxis": "x",
         "y": [
          0.8600561621853112
         ],
         "yaxis": "y"
        },
        {
         "legend": "legend",
         "legendgroup": "pig2pig",
         "marker": {
          "color": "#44AA99",
          "line": {
           "color": "black",
           "width": 1
          },
          "size": 9,
          "symbol": "triangle-ne"
         },
         "mode": "markers",
         "name": "skin",
         "showlegend": false,
         "type": "scatter",
         "x": [
          0.09333333333333334
         ],
         "xaxis": "x",
         "y": [
          0.8474549499420758
         ],
         "yaxis": "y"
        },
        {
         "legend": "legend",
         "legendgroup": "pig2pig",
         "marker": {
          "color": "#44AA99",
          "line": {
           "color": "black",
           "width": 1
          },
          "size": 9,
          "symbol": "x"
         },
         "mode": "markers",
         "name": "pancreas",
         "showlegend": false,
         "type": "scatter",
         "x": [
          0.18666666666666668
         ],
         "xaxis": "x",
         "y": [
          0.8409984992042421
         ],
         "yaxis": "y"
        },
        {
         "legend": "legend",
         "legendgroup": "pig2pig",
         "marker": {
          "color": "#44AA99",
          "line": {
           "color": "black",
           "width": 1
          },
          "size": 9,
          "symbol": "triangle-left"
         },
         "mode": "markers",
         "name": "omentum",
         "showlegend": false,
         "type": "scatter",
         "x": [
          0.28
         ],
         "xaxis": "x",
         "y": [
          0.6584466303548067
         ],
         "yaxis": "y"
        },
        {
         "boxmean": true,
         "boxpoints": false,
         "legend": "legend2",
         "legendgroup": "pig2pig",
         "line": {
          "color": "#44AA99"
         },
         "name": "pig2pig",
         "showlegend": true,
         "type": "box",
         "x": [
          0.6,
          0.6,
          0.6,
          0.6,
          0.6,
          0.6,
          0.6,
          0.6,
          0.6,
          0.6,
          0.6,
          0.6
         ],
         "xaxis": "x",
         "y": [
          0.9885008740648948,
          0.969053622397966,
          0.9571652246702758,
          0.9568510778387512,
          0.9536923306576212,
          0.949537810182503,
          0.9427167540282204,
          0.8750395419021202,
          0.8600561621853112,
          0.8474549499420758,
          0.8409984992042421,
          0.6584466303548067
         ],
         "yaxis": "y"
        },
        {
         "legendgroup": "pig2pig",
         "line": {
          "color": "#44AA99",
          "dash": "dot"
         },
         "mode": "lines",
         "name": "pig2pig",
         "showlegend": false,
         "text": "95 % CI mean: [0.88;0.92]",
         "type": "scatter",
         "x": [
          0.5,
          0.5
         ],
         "xaxis": "x",
         "y": [
          0.8823496747543965,
          0.9161790995051384
         ],
         "yaxis": "y"
        },
        {
         "legendgroup": "pig2pig",
         "line": {
          "color": "#44AA99"
         },
         "marker": {
          "size": 10,
          "symbol": "triangle-down-open"
         },
         "mode": "markers",
         "name": "pig2pig",
         "showlegend": false,
         "text": "95 % CI mean: [0.88;0.92]",
         "type": "scatter",
         "x": [
          0.5
         ],
         "xaxis": "x",
         "y": [
          0.8823496747543965
         ],
         "yaxis": "y"
        },
        {
         "legendgroup": "pig2pig",
         "line": {
          "color": "#44AA99"
         },
         "marker": {
          "size": 10,
          "symbol": "triangle-up-open"
         },
         "mode": "markers",
         "name": "pig2pig",
         "showlegend": false,
         "text": "95 % CI mean: [0.88;0.92]",
         "type": "scatter",
         "x": [
          0.5
         ],
         "xaxis": "x",
         "y": [
          0.9161790995051384
         ],
         "yaxis": "y"
        },
        {
         "legendgroup": "pig2pig",
         "line": {
          "color": "#44AA99",
          "dash": "solid"
         },
         "mode": "lines",
         "name": "pig2pig",
         "showlegend": false,
         "text": "95 % CI median: [0.93;0.95]",
         "type": "scatter",
         "x": [
          0.7,
          0.7
         ],
         "xaxis": "x",
         "y": [
          0.9254848883902222,
          0.9545388481661348
         ],
         "yaxis": "y"
        },
        {
         "legendgroup": "pig2pig",
         "line": {
          "color": "#44AA99"
         },
         "marker": {
          "size": 10,
          "symbol": "triangle-down"
         },
         "mode": "markers",
         "name": "pig2pig",
         "showlegend": false,
         "text": "95 % CI median: [0.93;0.95]",
         "type": "scatter",
         "x": [
          0.7
         ],
         "xaxis": "x",
         "y": [
          0.9254848883902222
         ],
         "yaxis": "y"
        },
        {
         "legendgroup": "pig2pig",
         "line": {
          "color": "#44AA99"
         },
         "marker": {
          "size": 10,
          "symbol": "triangle-up"
         },
         "mode": "markers",
         "name": "pig2pig",
         "showlegend": false,
         "text": "95 % CI median: [0.93;0.95]",
         "type": "scatter",
         "x": [
          0.7
         ],
         "xaxis": "x",
         "y": [
          0.9545388481661348
         ],
         "yaxis": "y"
        },
        {
         "legend": "legend",
         "legendgroup": "pig2rat",
         "marker": {
          "color": "#89CCED",
          "line": {
           "color": "black",
           "width": 1
          },
          "size": 9,
          "symbol": "triangle-right"
         },
         "mode": "markers",
         "name": "lung",
         "showlegend": false,
         "type": "scatter",
         "x": [
          1
         ],
         "xaxis": "x",
         "y": [
          0.9915788173675536
         ],
         "yaxis": "y"
        },
        {
         "legend": "legend",
         "legendgroup": "pig2rat",
         "marker": {
          "color": "#89CCED",
          "line": {
           "color": "black",
           "width": 1
          },
          "size": 9,
          "symbol": "cross"
         },
         "mode": "markers",
         "name": "liver",
         "showlegend": false,
         "type": "scatter",
         "x": [
          1.0933333333333333
         ],
         "xaxis": "x",
         "y": [
          0.8181924786550145
         ],
         "yaxis": "y"
        },
        {
         "legend": "legend",
         "legendgroup": "pig2rat",
         "marker": {
          "color": "#89CCED",
          "line": {
           "color": "black",
           "width": 1
          },
          "size": 9,
          "symbol": "triangle-sw"
         },
         "mode": "markers",
         "name": "background",
         "showlegend": false,
         "type": "scatter",
         "x": [
          1.1866666666666668
         ],
         "xaxis": "x",
         "y": [
          0.7561214476011593
         ],
         "yaxis": "y"
        },
        {
         "legend": "legend",
         "legendgroup": "pig2rat",
         "marker": {
          "color": "#89CCED",
          "line": {
           "color": "black",
           "width": 1
          },
          "size": 9,
          "symbol": "triangle-up"
         },
         "mode": "markers",
         "name": "kidney",
         "showlegend": false,
         "type": "scatter",
         "x": [
          1.28
         ],
         "xaxis": "x",
         "y": [
          0.7320184289317427
         ],
         "yaxis": "y"
        },
        {
         "legend": "legend",
         "legendgroup": "pig2rat",
         "marker": {
          "color": "#89CCED",
          "line": {
           "color": "black",
           "width": 1
          },
          "size": 9,
          "symbol": "triangle-se"
         },
         "mode": "markers",
         "name": "peritoneum",
         "showlegend": false,
         "type": "scatter",
         "x": [
          1
         ],
         "xaxis": "x",
         "y": [
          0.6672368080166413
         ],
         "yaxis": "y"
        },
        {
         "legend": "legend",
         "legendgroup": "pig2rat",
         "marker": {
          "color": "#89CCED",
          "line": {
           "color": "black",
           "width": 1
          },
          "size": 9,
          "symbol": "diamond"
         },
         "mode": "markers",
         "name": "colon",
         "showlegend": false,
         "type": "scatter",
         "x": [
          1.0933333333333333
         ],
         "xaxis": "x",
         "y": [
          0.5099479567296061
         ],
         "yaxis": "y"
        },
        {
         "legend": "legend",
         "legendgroup": "pig2rat",
         "marker": {
          "color": "#89CCED",
          "line": {
           "color": "black",
           "width": 1
          },
          "size": 9,
          "symbol": "triangle-ne"
         },
         "mode": "markers",
         "name": "skin",
         "showlegend": false,
         "type": "scatter",
         "x": [
          1.1866666666666668
         ],
         "xaxis": "x",
         "y": [
          0.41021398324836034
         ],
         "yaxis": "y"
        },
        {
         "legend": "legend",
         "legendgroup": "pig2rat",
         "marker": {
          "color": "#89CCED",
          "line": {
           "color": "black",
           "width": 1
          },
          "size": 9,
          "symbol": "x"
         },
         "mode": "markers",
         "name": "pancreas",
         "showlegend": false,
         "type": "scatter",
         "x": [
          1.28
         ],
         "xaxis": "x",
         "y": [
          0.32326828926910844
         ],
         "yaxis": "y"
        },
        {
         "legend": "legend",
         "legendgroup": "pig2rat",
         "marker": {
          "color": "#89CCED",
          "line": {
           "color": "black",
           "width": 1
          },
          "size": 9,
          "symbol": "triangle-left"
         },
         "mode": "markers",
         "name": "omentum",
         "showlegend": false,
         "type": "scatter",
         "x": [
          1
         ],
         "xaxis": "x",
         "y": [
          0.2989594930449091
         ],
         "yaxis": "y"
        },
        {
         "legend": "legend",
         "legendgroup": "pig2rat",
         "marker": {
          "color": "#89CCED",
          "line": {
           "color": "black",
           "width": 1
          },
          "size": 9,
          "symbol": "square"
         },
         "mode": "markers",
         "name": "small_bowel",
         "showlegend": false,
         "type": "scatter",
         "x": [
          1.0933333333333333
         ],
         "xaxis": "x",
         "y": [
          0.2145294877687922
         ],
         "yaxis": "y"
        },
        {
         "legend": "legend",
         "legendgroup": "pig2rat",
         "marker": {
          "color": "#89CCED",
          "line": {
           "color": "black",
           "width": 1
          },
          "size": 9,
          "symbol": "circle"
         },
         "mode": "markers",
         "name": "stomach",
         "showlegend": false,
         "type": "scatter",
         "x": [
          1.1866666666666668
         ],
         "xaxis": "x",
         "y": [
          0.1188764567463712
         ],
         "yaxis": "y"
        },
        {
         "legend": "legend",
         "legendgroup": "pig2rat",
         "marker": {
          "color": "#89CCED",
          "line": {
           "color": "black",
           "width": 1
          },
          "size": 9,
          "symbol": "triangle-down"
         },
         "mode": "markers",
         "name": "spleen",
         "showlegend": false,
         "type": "scatter",
         "x": [
          1.28
         ],
         "xaxis": "x",
         "y": [
          0.083324389935829
         ],
         "yaxis": "y"
        },
        {
         "boxmean": true,
         "boxpoints": false,
         "legend": "legend2",
         "legendgroup": "pig2rat",
         "line": {
          "color": "#89CCED"
         },
         "name": "pig2rat",
         "showlegend": true,
         "type": "box",
         "x": [
          1.6,
          1.6,
          1.6,
          1.6,
          1.6,
          1.6,
          1.6,
          1.6,
          1.6,
          1.6,
          1.6,
          1.6
         ],
         "xaxis": "x",
         "y": [
          0.9915788173675536,
          0.8181924786550145,
          0.7561214476011593,
          0.7320184289317427,
          0.6672368080166413,
          0.5099479567296061,
          0.41021398324836034,
          0.32326828926910844,
          0.2989594930449091,
          0.2145294877687922,
          0.1188764567463712,
          0.083324389935829
         ],
         "yaxis": "y"
        },
        {
         "legendgroup": "pig2rat",
         "line": {
          "color": "#89CCED",
          "dash": "dot"
         },
         "mode": "lines",
         "name": "pig2rat",
         "showlegend": false,
         "text": "95 % CI mean: [0.48;0.51]",
         "type": "scatter",
         "x": [
          1.5,
          1.5
         ],
         "xaxis": "x",
         "y": [
          0.4780073054873673,
          0.5100512454402407
         ],
         "yaxis": "y"
        },
        {
         "legendgroup": "pig2rat",
         "line": {
          "color": "#89CCED"
         },
         "marker": {
          "size": 10,
          "symbol": "triangle-down-open"
         },
         "mode": "markers",
         "name": "pig2rat",
         "showlegend": false,
         "text": "95 % CI mean: [0.48;0.51]",
         "type": "scatter",
         "x": [
          1.5
         ],
         "xaxis": "x",
         "y": [
          0.4780073054873673
         ],
         "yaxis": "y"
        },
        {
         "legendgroup": "pig2rat",
         "line": {
          "color": "#89CCED"
         },
         "marker": {
          "size": 10,
          "symbol": "triangle-up-open"
         },
         "mode": "markers",
         "name": "pig2rat",
         "showlegend": false,
         "text": "95 % CI mean: [0.48;0.51]",
         "type": "scatter",
         "x": [
          1.5
         ],
         "xaxis": "x",
         "y": [
          0.5100512454402407
         ],
         "yaxis": "y"
        },
        {
         "legendgroup": "pig2rat",
         "line": {
          "color": "#89CCED",
          "dash": "solid"
         },
         "mode": "lines",
         "name": "pig2rat",
         "showlegend": false,
         "text": "95 % CI median: [0.42;0.50]",
         "type": "scatter",
         "x": [
          1.7,
          1.7
         ],
         "xaxis": "x",
         "y": [
          0.4244453364573966,
          0.4966591590461168
         ],
         "yaxis": "y"
        },
        {
         "legendgroup": "pig2rat",
         "line": {
          "color": "#89CCED"
         },
         "marker": {
          "size": 10,
          "symbol": "triangle-down"
         },
         "mode": "markers",
         "name": "pig2rat",
         "showlegend": false,
         "text": "95 % CI median: [0.42;0.50]",
         "type": "scatter",
         "x": [
          1.7
         ],
         "xaxis": "x",
         "y": [
          0.4244453364573966
         ],
         "yaxis": "y"
        },
        {
         "legendgroup": "pig2rat",
         "line": {
          "color": "#89CCED"
         },
         "marker": {
          "size": 10,
          "symbol": "triangle-up"
         },
         "mode": "markers",
         "name": "pig2rat",
         "showlegend": false,
         "text": "95 % CI median: [0.42;0.50]",
         "type": "scatter",
         "x": [
          1.7
         ],
         "xaxis": "x",
         "y": [
          0.4966591590461168
         ],
         "yaxis": "y"
        },
        {
         "legend": "legend",
         "legendgroup": "pig2human",
         "marker": {
          "color": "#DDCB76",
          "line": {
           "color": "black",
           "width": 1
          },
          "size": 9,
          "symbol": "triangle-sw"
         },
         "mode": "markers",
         "name": "background",
         "showlegend": false,
         "type": "scatter",
         "x": [
          2
         ],
         "xaxis": "x",
         "y": [
          0.8893554169546957
         ],
         "yaxis": "y"
        },
        {
         "legend": "legend",
         "legendgroup": "pig2human",
         "marker": {
          "color": "#DDCB76",
          "line": {
           "color": "black",
           "width": 1
          },
          "size": 9,
          "symbol": "triangle-ne"
         },
         "mode": "markers",
         "name": "skin",
         "showlegend": false,
         "type": "scatter",
         "x": [
          2.0933333333333333
         ],
         "xaxis": "x",
         "y": [
          0.7769877315193376
         ],
         "yaxis": "y"
        },
        {
         "legend": "legend",
         "legendgroup": "pig2human",
         "marker": {
          "color": "#DDCB76",
          "line": {
           "color": "black",
           "width": 1
          },
          "size": 9,
          "symbol": "triangle-right"
         },
         "mode": "markers",
         "name": "lung",
         "showlegend": false,
         "type": "scatter",
         "x": [
          2.1866666666666665
         ],
         "xaxis": "x",
         "y": [
          0.6949295885033078
         ],
         "yaxis": "y"
        },
        {
         "legend": "legend",
         "legendgroup": "pig2human",
         "marker": {
          "color": "#DDCB76",
          "line": {
           "color": "black",
           "width": 1
          },
          "size": 9,
          "symbol": "triangle-left"
         },
         "mode": "markers",
         "name": "omentum",
         "showlegend": false,
         "type": "scatter",
         "x": [
          2.28
         ],
         "xaxis": "x",
         "y": [
          0.5254830435158391
         ],
         "yaxis": "y"
        },
        {
         "legend": "legend",
         "legendgroup": "pig2human",
         "marker": {
          "color": "#DDCB76",
          "line": {
           "color": "black",
           "width": 1
          },
          "size": 9,
          "symbol": "circle"
         },
         "mode": "markers",
         "name": "stomach",
         "showlegend": false,
         "type": "scatter",
         "x": [
          2
         ],
         "xaxis": "x",
         "y": [
          0.4493526455908456
         ],
         "yaxis": "y"
        },
        {
         "legend": "legend",
         "legendgroup": "pig2human",
         "marker": {
          "color": "#DDCB76",
          "line": {
           "color": "black",
           "width": 1
          },
          "size": 9,
          "symbol": "triangle-up"
         },
         "mode": "markers",
         "name": "kidney",
         "showlegend": false,
         "type": "scatter",
         "x": [
          2.0933333333333333
         ],
         "xaxis": "x",
         "y": [
          0.4061450787849089
         ],
         "yaxis": "y"
        },
        {
         "legend": "legend",
         "legendgroup": "pig2human",
         "marker": {
          "color": "#DDCB76",
          "line": {
           "color": "black",
           "width": 1
          },
          "size": 9,
          "symbol": "triangle-down"
         },
         "mode": "markers",
         "name": "spleen",
         "showlegend": false,
         "type": "scatter",
         "x": [
          2.1866666666666665
         ],
         "xaxis": "x",
         "y": [
          0.33701798065255084
         ],
         "yaxis": "y"
        },
        {
         "legend": "legend",
         "legendgroup": "pig2human",
         "marker": {
          "color": "#DDCB76",
          "line": {
           "color": "black",
           "width": 1
          },
          "size": 9,
          "symbol": "triangle-se"
         },
         "mode": "markers",
         "name": "peritoneum",
         "showlegend": false,
         "type": "scatter",
         "x": [
          2.28
         ],
         "xaxis": "x",
         "y": [
          0.27730952333093706
         ],
         "yaxis": "y"
        },
        {
         "legend": "legend",
         "legendgroup": "pig2human",
         "marker": {
          "color": "#DDCB76",
          "line": {
           "color": "black",
           "width": 1
          },
          "size": 9,
          "symbol": "diamond"
         },
         "mode": "markers",
         "name": "colon",
         "showlegend": false,
         "type": "scatter",
         "x": [
          2
         ],
         "xaxis": "x",
         "y": [
          0.2753436246816682
         ],
         "yaxis": "y"
        },
        {
         "legend": "legend",
         "legendgroup": "pig2human",
         "marker": {
          "color": "#DDCB76",
          "line": {
           "color": "black",
           "width": 1
          },
          "size": 9,
          "symbol": "square"
         },
         "mode": "markers",
         "name": "small_bowel",
         "showlegend": false,
         "type": "scatter",
         "x": [
          2.0933333333333333
         ],
         "xaxis": "x",
         "y": [
          0.2462089839913419
         ],
         "yaxis": "y"
        },
        {
         "legend": "legend",
         "legendgroup": "pig2human",
         "marker": {
          "color": "#DDCB76",
          "line": {
           "color": "black",
           "width": 1
          },
          "size": 9,
          "symbol": "cross"
         },
         "mode": "markers",
         "name": "liver",
         "showlegend": false,
         "type": "scatter",
         "x": [
          2.1866666666666665
         ],
         "xaxis": "x",
         "y": [
          0.1775734089909448
         ],
         "yaxis": "y"
        },
        {
         "legend": "legend",
         "legendgroup": "pig2human",
         "marker": {
          "color": "#DDCB76",
          "line": {
           "color": "black",
           "width": 1
          },
          "size": 9,
          "symbol": "x"
         },
         "mode": "markers",
         "name": "pancreas",
         "showlegend": false,
         "type": "scatter",
         "x": [
          2.28
         ],
         "xaxis": "x",
         "y": [
          0.07629250809095983
         ],
         "yaxis": "y"
        },
        {
         "boxmean": true,
         "boxpoints": false,
         "legend": "legend2",
         "legendgroup": "pig2human",
         "line": {
          "color": "#DDCB76"
         },
         "name": "pig2human",
         "showlegend": true,
         "type": "box",
         "x": [
          2.6,
          2.6,
          2.6,
          2.6,
          2.6,
          2.6,
          2.6,
          2.6,
          2.6,
          2.6,
          2.6,
          2.6
         ],
         "xaxis": "x",
         "y": [
          0.8893554169546957,
          0.7769877315193376,
          0.6949295885033078,
          0.5254830435158391,
          0.4493526455908456,
          0.4061450787849089,
          0.33701798065255084,
          0.27730952333093706,
          0.2753436246816682,
          0.2462089839913419,
          0.1775734089909448,
          0.07629250809095983
         ],
         "yaxis": "y"
        },
        {
         "legendgroup": "pig2human",
         "line": {
          "color": "#DDCB76",
          "dash": "dot"
         },
         "mode": "lines",
         "name": "pig2human",
         "showlegend": false,
         "text": "95 % CI mean: [0.40;0.45]",
         "type": "scatter",
         "x": [
          2.5,
          2.5
         ],
         "xaxis": "x",
         "y": [
          0.4015478747373733,
          0.4532358432315241
         ],
         "yaxis": "y"
        },
        {
         "legendgroup": "pig2human",
         "line": {
          "color": "#DDCB76"
         },
         "marker": {
          "size": 10,
          "symbol": "triangle-down-open"
         },
         "mode": "markers",
         "name": "pig2human",
         "showlegend": false,
         "text": "95 % CI mean: [0.40;0.45]",
         "type": "scatter",
         "x": [
          2.5
         ],
         "xaxis": "x",
         "y": [
          0.4015478747373733
         ],
         "yaxis": "y"
        },
        {
         "legendgroup": "pig2human",
         "line": {
          "color": "#DDCB76"
         },
         "marker": {
          "size": 10,
          "symbol": "triangle-up-open"
         },
         "mode": "markers",
         "name": "pig2human",
         "showlegend": false,
         "text": "95 % CI mean: [0.40;0.45]",
         "type": "scatter",
         "x": [
          2.5
         ],
         "xaxis": "x",
         "y": [
          0.4532358432315241
         ],
         "yaxis": "y"
        },
        {
         "legendgroup": "pig2human",
         "line": {
          "color": "#DDCB76",
          "dash": "solid"
         },
         "mode": "lines",
         "name": "pig2human",
         "showlegend": false,
         "text": "95 % CI median: [0.31;0.46]",
         "type": "scatter",
         "x": [
          2.7,
          2.7
         ],
         "xaxis": "x",
         "y": [
          0.30852963233721675,
          0.4591173494785
         ],
         "yaxis": "y"
        },
        {
         "legendgroup": "pig2human",
         "line": {
          "color": "#DDCB76"
         },
         "marker": {
          "size": 10,
          "symbol": "triangle-down"
         },
         "mode": "markers",
         "name": "pig2human",
         "showlegend": false,
         "text": "95 % CI median: [0.31;0.46]",
         "type": "scatter",
         "x": [
          2.7
         ],
         "xaxis": "x",
         "y": [
          0.30852963233721675
         ],
         "yaxis": "y"
        },
        {
         "legendgroup": "pig2human",
         "line": {
          "color": "#DDCB76"
         },
         "marker": {
          "size": 10,
          "symbol": "triangle-up"
         },
         "mode": "markers",
         "name": "pig2human",
         "showlegend": false,
         "text": "95 % CI median: [0.31;0.46]",
         "type": "scatter",
         "x": [
          2.7
         ],
         "xaxis": "x",
         "y": [
          0.4591173494785
         ],
         "yaxis": "y"
        },
        {
         "legend": "legend",
         "marker": {
          "color": "gray",
          "line": {
           "color": "black",
           "width": 1
          },
          "size": 9,
          "symbol": "circle"
         },
         "mode": "markers",
         "name": "stomach",
         "showlegend": false,
         "type": "scatter",
         "x": [
          null
         ],
         "xaxis": "x2",
         "y": [
          null
         ],
         "yaxis": "y2"
        },
        {
         "legend": "legend",
         "marker": {
          "color": "gray",
          "line": {
           "color": "black",
           "width": 1
          },
          "size": 9,
          "symbol": "square"
         },
         "mode": "markers",
         "name": "small_bowel",
         "showlegend": false,
         "type": "scatter",
         "x": [
          null
         ],
         "xaxis": "x2",
         "y": [
          null
         ],
         "yaxis": "y2"
        },
        {
         "legend": "legend",
         "marker": {
          "color": "gray",
          "line": {
           "color": "black",
           "width": 1
          },
          "size": 9,
          "symbol": "diamond"
         },
         "mode": "markers",
         "name": "colon",
         "showlegend": false,
         "type": "scatter",
         "x": [
          null
         ],
         "xaxis": "x2",
         "y": [
          null
         ],
         "yaxis": "y2"
        },
        {
         "legend": "legend",
         "marker": {
          "color": "gray",
          "line": {
           "color": "black",
           "width": 1
          },
          "size": 9,
          "symbol": "cross"
         },
         "mode": "markers",
         "name": "liver",
         "showlegend": false,
         "type": "scatter",
         "x": [
          null
         ],
         "xaxis": "x2",
         "y": [
          null
         ],
         "yaxis": "y2"
        },
        {
         "legend": "legend",
         "marker": {
          "color": "gray",
          "line": {
           "color": "black",
           "width": 1
          },
          "size": 9,
          "symbol": "x"
         },
         "mode": "markers",
         "name": "pancreas",
         "showlegend": false,
         "type": "scatter",
         "x": [
          null
         ],
         "xaxis": "x2",
         "y": [
          null
         ],
         "yaxis": "y2"
        },
        {
         "legend": "legend",
         "marker": {
          "color": "gray",
          "line": {
           "color": "black",
           "width": 1
          },
          "size": 9,
          "symbol": "triangle-up"
         },
         "mode": "markers",
         "name": "kidney",
         "showlegend": false,
         "type": "scatter",
         "x": [
          null
         ],
         "xaxis": "x2",
         "y": [
          null
         ],
         "yaxis": "y2"
        },
        {
         "legend": "legend",
         "marker": {
          "color": "gray",
          "line": {
           "color": "black",
           "width": 1
          },
          "size": 9,
          "symbol": "triangle-down"
         },
         "mode": "markers",
         "name": "spleen",
         "showlegend": false,
         "type": "scatter",
         "x": [
          null
         ],
         "xaxis": "x2",
         "y": [
          null
         ],
         "yaxis": "y2"
        },
        {
         "legend": "legend",
         "marker": {
          "color": "gray",
          "line": {
           "color": "black",
           "width": 1
          },
          "size": 9,
          "symbol": "triangle-left"
         },
         "mode": "markers",
         "name": "omentum",
         "showlegend": false,
         "type": "scatter",
         "x": [
          null
         ],
         "xaxis": "x2",
         "y": [
          null
         ],
         "yaxis": "y2"
        },
        {
         "legend": "legend",
         "marker": {
          "color": "gray",
          "line": {
           "color": "black",
           "width": 1
          },
          "size": 9,
          "symbol": "triangle-right"
         },
         "mode": "markers",
         "name": "lung",
         "showlegend": false,
         "type": "scatter",
         "x": [
          null
         ],
         "xaxis": "x2",
         "y": [
          null
         ],
         "yaxis": "y2"
        },
        {
         "legend": "legend",
         "marker": {
          "color": "gray",
          "line": {
           "color": "black",
           "width": 1
          },
          "size": 9,
          "symbol": "triangle-ne"
         },
         "mode": "markers",
         "name": "skin",
         "showlegend": false,
         "type": "scatter",
         "x": [
          null
         ],
         "xaxis": "x2",
         "y": [
          null
         ],
         "yaxis": "y2"
        },
        {
         "legend": "legend",
         "marker": {
          "color": "gray",
          "line": {
           "color": "black",
           "width": 1
          },
          "size": 9,
          "symbol": "triangle-se"
         },
         "mode": "markers",
         "name": "peritoneum",
         "showlegend": false,
         "type": "scatter",
         "x": [
          null
         ],
         "xaxis": "x2",
         "y": [
          null
         ],
         "yaxis": "y2"
        },
        {
         "legend": "legend",
         "marker": {
          "color": "gray",
          "line": {
           "color": "black",
           "width": 1
          },
          "size": 9,
          "symbol": "triangle-sw"
         },
         "mode": "markers",
         "name": "background",
         "showlegend": false,
         "type": "scatter",
         "x": [
          null
         ],
         "xaxis": "x2",
         "y": [
          null
         ],
         "yaxis": "y2"
        },
        {
         "legend": "legend",
         "legendgroup": "rat2rat",
         "marker": {
          "color": "#89CCED",
          "line": {
           "color": "black",
           "width": 1
          },
          "size": 9,
          "symbol": "triangle-right"
         },
         "mode": "markers",
         "name": "lung",
         "showlegend": false,
         "type": "scatter",
         "x": [
          0
         ],
         "xaxis": "x2",
         "y": [
          0.9982184935838748
         ],
         "yaxis": "y2"
        },
        {
         "legend": "legend",
         "legendgroup": "rat2rat",
         "marker": {
          "color": "#89CCED",
          "line": {
           "color": "black",
           "width": 1
          },
          "size": 9,
          "symbol": "triangle-sw"
         },
         "mode": "markers",
         "name": "background",
         "showlegend": false,
         "type": "scatter",
         "x": [
          0.09333333333333334
         ],
         "xaxis": "x2",
         "y": [
          0.9863220770021162
         ],
         "yaxis": "y2"
        },
        {
         "legend": "legend",
         "legendgroup": "rat2rat",
         "marker": {
          "color": "#89CCED",
          "line": {
           "color": "black",
           "width": 1
          },
          "size": 9,
          "symbol": "triangle-se"
         },
         "mode": "markers",
         "name": "peritoneum",
         "showlegend": false,
         "type": "scatter",
         "x": [
          0.18666666666666668
         ],
         "xaxis": "x2",
         "y": [
          0.9818943279491322
         ],
         "yaxis": "y2"
        },
        {
         "legend": "legend",
         "legendgroup": "rat2rat",
         "marker": {
          "color": "#89CCED",
          "line": {
           "color": "black",
           "width": 1
          },
          "size": 9,
          "symbol": "triangle-up"
         },
         "mode": "markers",
         "name": "kidney",
         "showlegend": false,
         "type": "scatter",
         "x": [
          0.28
         ],
         "xaxis": "x2",
         "y": [
          0.9556971860455944
         ],
         "yaxis": "y2"
        },
        {
         "legend": "legend",
         "legendgroup": "rat2rat",
         "marker": {
          "color": "#89CCED",
          "line": {
           "color": "black",
           "width": 1
          },
          "size": 9,
          "symbol": "square"
         },
         "mode": "markers",
         "name": "small_bowel",
         "showlegend": false,
         "type": "scatter",
         "x": [
          0
         ],
         "xaxis": "x2",
         "y": [
          0.945680473660987
         ],
         "yaxis": "y2"
        },
        {
         "legend": "legend",
         "legendgroup": "rat2rat",
         "marker": {
          "color": "#89CCED",
          "line": {
           "color": "black",
           "width": 1
          },
          "size": 9,
          "symbol": "cross"
         },
         "mode": "markers",
         "name": "liver",
         "showlegend": false,
         "type": "scatter",
         "x": [
          0.09333333333333334
         ],
         "xaxis": "x2",
         "y": [
          0.9293879200739124
         ],
         "yaxis": "y2"
        },
        {
         "legend": "legend",
         "legendgroup": "rat2rat",
         "marker": {
          "color": "#89CCED",
          "line": {
           "color": "black",
           "width": 1
          },
          "size": 9,
          "symbol": "triangle-ne"
         },
         "mode": "markers",
         "name": "skin",
         "showlegend": false,
         "type": "scatter",
         "x": [
          0.18666666666666668
         ],
         "xaxis": "x2",
         "y": [
          0.926875233524407
         ],
         "yaxis": "y2"
        },
        {
         "legend": "legend",
         "legendgroup": "rat2rat",
         "marker": {
          "color": "#89CCED",
          "line": {
           "color": "black",
           "width": 1
          },
          "size": 9,
          "symbol": "triangle-down"
         },
         "mode": "markers",
         "name": "spleen",
         "showlegend": false,
         "type": "scatter",
         "x": [
          0.28
         ],
         "xaxis": "x2",
         "y": [
          0.9059759352878806
         ],
         "yaxis": "y2"
        },
        {
         "legend": "legend",
         "legendgroup": "rat2rat",
         "marker": {
          "color": "#89CCED",
          "line": {
           "color": "black",
           "width": 1
          },
          "size": 9,
          "symbol": "circle"
         },
         "mode": "markers",
         "name": "stomach",
         "showlegend": false,
         "type": "scatter",
         "x": [
          0
         ],
         "xaxis": "x2",
         "y": [
          0.8673679939620288
         ],
         "yaxis": "y2"
        },
        {
         "legend": "legend",
         "legendgroup": "rat2rat",
         "marker": {
          "color": "#89CCED",
          "line": {
           "color": "black",
           "width": 1
          },
          "size": 9,
          "symbol": "triangle-left"
         },
         "mode": "markers",
         "name": "omentum",
         "showlegend": false,
         "type": "scatter",
         "x": [
          0.09333333333333334
         ],
         "xaxis": "x2",
         "y": [
          0.8359129599003963
         ],
         "yaxis": "y2"
        },
        {
         "legend": "legend",
         "legendgroup": "rat2rat",
         "marker": {
          "color": "#89CCED",
          "line": {
           "color": "black",
           "width": 1
          },
          "size": 9,
          "symbol": "diamond"
         },
         "mode": "markers",
         "name": "colon",
         "showlegend": false,
         "type": "scatter",
         "x": [
          0.18666666666666668
         ],
         "xaxis": "x2",
         "y": [
          0.7973435398560184
         ],
         "yaxis": "y2"
        },
        {
         "legend": "legend",
         "legendgroup": "rat2rat",
         "marker": {
          "color": "#89CCED",
          "line": {
           "color": "black",
           "width": 1
          },
          "size": 9,
          "symbol": "x"
         },
         "mode": "markers",
         "name": "pancreas",
         "showlegend": false,
         "type": "scatter",
         "x": [
          0.28
         ],
         "xaxis": "x2",
         "y": [
          0.7067730538137666
         ],
         "yaxis": "y2"
        },
        {
         "boxmean": true,
         "boxpoints": false,
         "legend": "legend2",
         "legendgroup": "rat2rat",
         "line": {
          "color": "#89CCED"
         },
         "name": "rat2rat",
         "showlegend": false,
         "type": "box",
         "x": [
          0.6,
          0.6,
          0.6,
          0.6,
          0.6,
          0.6,
          0.6,
          0.6,
          0.6,
          0.6,
          0.6,
          0.6
         ],
         "xaxis": "x2",
         "y": [
          0.9982184935838748,
          0.9863220770021162,
          0.9818943279491322,
          0.9556971860455944,
          0.945680473660987,
          0.9293879200739124,
          0.926875233524407,
          0.9059759352878806,
          0.8673679939620288,
          0.8359129599003963,
          0.7973435398560184,
          0.7067730538137666
         ],
         "yaxis": "y2"
        },
        {
         "legendgroup": "rat2rat",
         "line": {
          "color": "#89CCED",
          "dash": "dot"
         },
         "mode": "lines",
         "name": "rat2rat",
         "showlegend": false,
         "text": "95 % CI mean: [0.89;0.91]",
         "type": "scatter",
         "x": [
          0.5,
          0.5
         ],
         "xaxis": "x2",
         "y": [
          0.8917090714982059,
          0.9149293959546282
         ],
         "yaxis": "y2"
        },
        {
         "legendgroup": "rat2rat",
         "line": {
          "color": "#89CCED"
         },
         "marker": {
          "size": 10,
          "symbol": "triangle-down-open"
         },
         "mode": "markers",
         "name": "rat2rat",
         "showlegend": false,
         "text": "95 % CI mean: [0.89;0.91]",
         "type": "scatter",
         "x": [
          0.5
         ],
         "xaxis": "x2",
         "y": [
          0.8917090714982059
         ],
         "yaxis": "y2"
        },
        {
         "legendgroup": "rat2rat",
         "line": {
          "color": "#89CCED"
         },
         "marker": {
          "size": 10,
          "symbol": "triangle-up-open"
         },
         "mode": "markers",
         "name": "rat2rat",
         "showlegend": false,
         "text": "95 % CI mean: [0.89;0.91]",
         "type": "scatter",
         "x": [
          0.5
         ],
         "xaxis": "x2",
         "y": [
          0.9149293959546282
         ],
         "yaxis": "y2"
        },
        {
         "legendgroup": "rat2rat",
         "line": {
          "color": "#89CCED",
          "dash": "solid"
         },
         "mode": "lines",
         "name": "rat2rat",
         "showlegend": false,
         "text": "95 % CI median: [0.91;0.94]",
         "type": "scatter",
         "x": [
          0.7,
          0.7
         ],
         "xaxis": "x2",
         "y": [
          0.914179322050255,
          0.9393464430841508
         ],
         "yaxis": "y2"
        },
        {
         "legendgroup": "rat2rat",
         "line": {
          "color": "#89CCED"
         },
         "marker": {
          "size": 10,
          "symbol": "triangle-down"
         },
         "mode": "markers",
         "name": "rat2rat",
         "showlegend": false,
         "text": "95 % CI median: [0.91;0.94]",
         "type": "scatter",
         "x": [
          0.7
         ],
         "xaxis": "x2",
         "y": [
          0.914179322050255
         ],
         "yaxis": "y2"
        },
        {
         "legendgroup": "rat2rat",
         "line": {
          "color": "#89CCED"
         },
         "marker": {
          "size": 10,
          "symbol": "triangle-up"
         },
         "mode": "markers",
         "name": "rat2rat",
         "showlegend": false,
         "text": "95 % CI median: [0.91;0.94]",
         "type": "scatter",
         "x": [
          0.7
         ],
         "xaxis": "x2",
         "y": [
          0.9393464430841508
         ],
         "yaxis": "y2"
        },
        {
         "legend": "legend",
         "legendgroup": "rat2pig",
         "marker": {
          "color": "#44AA99",
          "line": {
           "color": "black",
           "width": 1
          },
          "size": 9,
          "symbol": "cross"
         },
         "mode": "markers",
         "name": "liver",
         "showlegend": false,
         "type": "scatter",
         "x": [
          1
         ],
         "xaxis": "x2",
         "y": [
          0.8586799095828251
         ],
         "yaxis": "y2"
        },
        {
         "legend": "legend",
         "legendgroup": "rat2pig",
         "marker": {
          "color": "#44AA99",
          "line": {
           "color": "black",
           "width": 1
          },
          "size": 9,
          "symbol": "square"
         },
         "mode": "markers",
         "name": "small_bowel",
         "showlegend": false,
         "type": "scatter",
         "x": [
          1.0933333333333333
         ],
         "xaxis": "x2",
         "y": [
          0.7773241063016958
         ],
         "yaxis": "y2"
        },
        {
         "legend": "legend",
         "legendgroup": "rat2pig",
         "marker": {
          "color": "#44AA99",
          "line": {
           "color": "black",
           "width": 1
          },
          "size": 9,
          "symbol": "triangle-sw"
         },
         "mode": "markers",
         "name": "background",
         "showlegend": false,
         "type": "scatter",
         "x": [
          1.1866666666666668
         ],
         "xaxis": "x2",
         "y": [
          0.7661452357887634
         ],
         "yaxis": "y2"
        },
        {
         "legend": "legend",
         "legendgroup": "rat2pig",
         "marker": {
          "color": "#44AA99",
          "line": {
           "color": "black",
           "width": 1
          },
          "size": 9,
          "symbol": "triangle-down"
         },
         "mode": "markers",
         "name": "spleen",
         "showlegend": false,
         "type": "scatter",
         "x": [
          1.28
         ],
         "xaxis": "x2",
         "y": [
          0.6446468144278165
         ],
         "yaxis": "y2"
        },
        {
         "legend": "legend",
         "legendgroup": "rat2pig",
         "marker": {
          "color": "#44AA99",
          "line": {
           "color": "black",
           "width": 1
          },
          "size": 9,
          "symbol": "triangle-right"
         },
         "mode": "markers",
         "name": "lung",
         "showlegend": false,
         "type": "scatter",
         "x": [
          1
         ],
         "xaxis": "x2",
         "y": [
          0.567678259359502
         ],
         "yaxis": "y2"
        },
        {
         "legend": "legend",
         "legendgroup": "rat2pig",
         "marker": {
          "color": "#44AA99",
          "line": {
           "color": "black",
           "width": 1
          },
          "size": 9,
          "symbol": "triangle-ne"
         },
         "mode": "markers",
         "name": "skin",
         "showlegend": false,
         "type": "scatter",
         "x": [
          1.0933333333333333
         ],
         "xaxis": "x2",
         "y": [
          0.4944527144645616
         ],
         "yaxis": "y2"
        },
        {
         "legend": "legend",
         "legendgroup": "rat2pig",
         "marker": {
          "color": "#44AA99",
          "line": {
           "color": "black",
           "width": 1
          },
          "size": 9,
          "symbol": "diamond"
         },
         "mode": "markers",
         "name": "colon",
         "showlegend": false,
         "type": "scatter",
         "x": [
          1.1866666666666668
         ],
         "xaxis": "x2",
         "y": [
          0.41133150130268703
         ],
         "yaxis": "y2"
        },
        {
         "legend": "legend",
         "legendgroup": "rat2pig",
         "marker": {
          "color": "#44AA99",
          "line": {
           "color": "black",
           "width": 1
          },
          "size": 9,
          "symbol": "triangle-se"
         },
         "mode": "markers",
         "name": "peritoneum",
         "showlegend": false,
         "type": "scatter",
         "x": [
          1.28
         ],
         "xaxis": "x2",
         "y": [
          0.31887989421640156
         ],
         "yaxis": "y2"
        },
        {
         "legend": "legend",
         "legendgroup": "rat2pig",
         "marker": {
          "color": "#44AA99",
          "line": {
           "color": "black",
           "width": 1
          },
          "size": 9,
          "symbol": "x"
         },
         "mode": "markers",
         "name": "pancreas",
         "showlegend": false,
         "type": "scatter",
         "x": [
          1
         ],
         "xaxis": "x2",
         "y": [
          0.2684293582846248
         ],
         "yaxis": "y2"
        },
        {
         "legend": "legend",
         "legendgroup": "rat2pig",
         "marker": {
          "color": "#44AA99",
          "line": {
           "color": "black",
           "width": 1
          },
          "size": 9,
          "symbol": "triangle-left"
         },
         "mode": "markers",
         "name": "omentum",
         "showlegend": false,
         "type": "scatter",
         "x": [
          1.0933333333333333
         ],
         "xaxis": "x2",
         "y": [
          0.17159051921221805
         ],
         "yaxis": "y2"
        },
        {
         "legend": "legend",
         "legendgroup": "rat2pig",
         "marker": {
          "color": "#44AA99",
          "line": {
           "color": "black",
           "width": 1
          },
          "size": 9,
          "symbol": "circle"
         },
         "mode": "markers",
         "name": "stomach",
         "showlegend": false,
         "type": "scatter",
         "x": [
          1.1866666666666668
         ],
         "xaxis": "x2",
         "y": [
          0.03753220095271839
         ],
         "yaxis": "y2"
        },
        {
         "legend": "legend",
         "legendgroup": "rat2pig",
         "marker": {
          "color": "#44AA99",
          "line": {
           "color": "black",
           "width": 1
          },
          "size": 9,
          "symbol": "triangle-up"
         },
         "mode": "markers",
         "name": "kidney",
         "showlegend": false,
         "type": "scatter",
         "x": [
          1.28
         ],
         "xaxis": "x2",
         "y": [
          0.0003312176766080989
         ],
         "yaxis": "y2"
        },
        {
         "boxmean": true,
         "boxpoints": false,
         "legend": "legend2",
         "legendgroup": "rat2pig",
         "line": {
          "color": "#44AA99"
         },
         "name": "rat2pig",
         "showlegend": false,
         "type": "box",
         "x": [
          1.6,
          1.6,
          1.6,
          1.6,
          1.6,
          1.6,
          1.6,
          1.6,
          1.6,
          1.6,
          1.6,
          1.6
         ],
         "xaxis": "x2",
         "y": [
          0.8586799095828251,
          0.7773241063016958,
          0.7661452357887634,
          0.6446468144278165,
          0.567678259359502,
          0.4944527144645616,
          0.41133150130268703,
          0.31887989421640156,
          0.2684293582846248,
          0.17159051921221805,
          0.03753220095271839,
          0.0003312176766080989
         ],
         "yaxis": "y2"
        },
        {
         "legendgroup": "rat2pig",
         "line": {
          "color": "#44AA99",
          "dash": "dot"
         },
         "mode": "lines",
         "name": "rat2pig",
         "showlegend": false,
         "text": "95 % CI mean: [0.41;0.47]",
         "type": "scatter",
         "x": [
          1.5,
          1.5
         ],
         "xaxis": "x2",
         "y": [
          0.4128083309474934,
          0.4716405592802705
         ],
         "yaxis": "y2"
        },
        {
         "legendgroup": "rat2pig",
         "line": {
          "color": "#44AA99"
         },
         "marker": {
          "size": 10,
          "symbol": "triangle-down-open"
         },
         "mode": "markers",
         "name": "rat2pig",
         "showlegend": false,
         "text": "95 % CI mean: [0.41;0.47]",
         "type": "scatter",
         "x": [
          1.5
         ],
         "xaxis": "x2",
         "y": [
          0.4128083309474934
         ],
         "yaxis": "y2"
        },
        {
         "legendgroup": "rat2pig",
         "line": {
          "color": "#44AA99"
         },
         "marker": {
          "size": 10,
          "symbol": "triangle-up-open"
         },
         "mode": "markers",
         "name": "rat2pig",
         "showlegend": false,
         "text": "95 % CI mean: [0.41;0.47]",
         "type": "scatter",
         "x": [
          1.5
         ],
         "xaxis": "x2",
         "y": [
          0.4716405592802705
         ],
         "yaxis": "y2"
        },
        {
         "legendgroup": "rat2pig",
         "line": {
          "color": "#44AA99",
          "dash": "solid"
         },
         "mode": "lines",
         "name": "rat2pig",
         "showlegend": false,
         "text": "95 % CI median: [0.36;0.51]",
         "type": "scatter",
         "x": [
          1.7,
          1.7
         ],
         "xaxis": "x2",
         "y": [
          0.36320182981079274,
          0.5091000980869921
         ],
         "yaxis": "y2"
        },
        {
         "legendgroup": "rat2pig",
         "line": {
          "color": "#44AA99"
         },
         "marker": {
          "size": 10,
          "symbol": "triangle-down"
         },
         "mode": "markers",
         "name": "rat2pig",
         "showlegend": false,
         "text": "95 % CI median: [0.36;0.51]",
         "type": "scatter",
         "x": [
          1.7
         ],
         "xaxis": "x2",
         "y": [
          0.36320182981079274
         ],
         "yaxis": "y2"
        },
        {
         "legendgroup": "rat2pig",
         "line": {
          "color": "#44AA99"
         },
         "marker": {
          "size": 10,
          "symbol": "triangle-up"
         },
         "mode": "markers",
         "name": "rat2pig",
         "showlegend": false,
         "text": "95 % CI median: [0.36;0.51]",
         "type": "scatter",
         "x": [
          1.7
         ],
         "xaxis": "x2",
         "y": [
          0.5091000980869921
         ],
         "yaxis": "y2"
        },
        {
         "legend": "legend",
         "legendgroup": "rat2human",
         "marker": {
          "color": "#DDCB76",
          "line": {
           "color": "black",
           "width": 1
          },
          "size": 9,
          "symbol": "triangle-sw"
         },
         "mode": "markers",
         "name": "background",
         "showlegend": false,
         "type": "scatter",
         "x": [
          2
         ],
         "xaxis": "x2",
         "y": [
          0.8191017240419721
         ],
         "yaxis": "y2"
        },
        {
         "legend": "legend",
         "legendgroup": "rat2human",
         "marker": {
          "color": "#DDCB76",
          "line": {
           "color": "black",
           "width": 1
          },
          "size": 9,
          "symbol": "triangle-left"
         },
         "mode": "markers",
         "name": "omentum",
         "showlegend": false,
         "type": "scatter",
         "x": [
          2.0933333333333333
         ],
         "xaxis": "x2",
         "y": [
          0.5719281933179229
         ],
         "yaxis": "y2"
        },
        {
         "legend": "legend",
         "legendgroup": "rat2human",
         "marker": {
          "color": "#DDCB76",
          "line": {
           "color": "black",
           "width": 1
          },
          "size": 9,
          "symbol": "triangle-down"
         },
         "mode": "markers",
         "name": "spleen",
         "showlegend": false,
         "type": "scatter",
         "x": [
          2.1866666666666665
         ],
         "xaxis": "x2",
         "y": [
          0.5562438013808181
         ],
         "yaxis": "y2"
        },
        {
         "legend": "legend",
         "legendgroup": "rat2human",
         "marker": {
          "color": "#DDCB76",
          "line": {
           "color": "black",
           "width": 1
          },
          "size": 9,
          "symbol": "triangle-ne"
         },
         "mode": "markers",
         "name": "skin",
         "showlegend": false,
         "type": "scatter",
         "x": [
          2.28
         ],
         "xaxis": "x2",
         "y": [
          0.5196865464072246
         ],
         "yaxis": "y2"
        },
        {
         "legend": "legend",
         "legendgroup": "rat2human",
         "marker": {
          "color": "#DDCB76",
          "line": {
           "color": "black",
           "width": 1
          },
          "size": 9,
          "symbol": "cross"
         },
         "mode": "markers",
         "name": "liver",
         "showlegend": false,
         "type": "scatter",
         "x": [
          2
         ],
         "xaxis": "x2",
         "y": [
          0.481998285788132
         ],
         "yaxis": "y2"
        },
        {
         "legend": "legend",
         "legendgroup": "rat2human",
         "marker": {
          "color": "#DDCB76",
          "line": {
           "color": "black",
           "width": 1
          },
          "size": 9,
          "symbol": "square"
         },
         "mode": "markers",
         "name": "small_bowel",
         "showlegend": false,
         "type": "scatter",
         "x": [
          2.0933333333333333
         ],
         "xaxis": "x2",
         "y": [
          0.40765903371946094
         ],
         "yaxis": "y2"
        },
        {
         "legend": "legend",
         "legendgroup": "rat2human",
         "marker": {
          "color": "#DDCB76",
          "line": {
           "color": "black",
           "width": 1
          },
          "size": 9,
          "symbol": "triangle-right"
         },
         "mode": "markers",
         "name": "lung",
         "showlegend": false,
         "type": "scatter",
         "x": [
          2.1866666666666665
         ],
         "xaxis": "x2",
         "y": [
          0.31568941432568765
         ],
         "yaxis": "y2"
        },
        {
         "legend": "legend",
         "legendgroup": "rat2human",
         "marker": {
          "color": "#DDCB76",
          "line": {
           "color": "black",
           "width": 1
          },
          "size": 9,
          "symbol": "triangle-se"
         },
         "mode": "markers",
         "name": "peritoneum",
         "showlegend": false,
         "type": "scatter",
         "x": [
          2.28
         ],
         "xaxis": "x2",
         "y": [
          0.14236350730262215
         ],
         "yaxis": "y2"
        },
        {
         "legend": "legend",
         "legendgroup": "rat2human",
         "marker": {
          "color": "#DDCB76",
          "line": {
           "color": "black",
           "width": 1
          },
          "size": 9,
          "symbol": "circle"
         },
         "mode": "markers",
         "name": "stomach",
         "showlegend": false,
         "type": "scatter",
         "x": [
          2
         ],
         "xaxis": "x2",
         "y": [
          0.013512631947402097
         ],
         "yaxis": "y2"
        },
        {
         "legend": "legend",
         "legendgroup": "rat2human",
         "marker": {
          "color": "#DDCB76",
          "line": {
           "color": "black",
           "width": 1
          },
          "size": 9,
          "symbol": "x"
         },
         "mode": "markers",
         "name": "pancreas",
         "showlegend": false,
         "type": "scatter",
         "x": [
          2.0933333333333333
         ],
         "xaxis": "x2",
         "y": [
          0.008102653741092354
         ],
         "yaxis": "y2"
        },
        {
         "legend": "legend",
         "legendgroup": "rat2human",
         "marker": {
          "color": "#DDCB76",
          "line": {
           "color": "black",
           "width": 1
          },
          "size": 9,
          "symbol": "diamond"
         },
         "mode": "markers",
         "name": "colon",
         "showlegend": false,
         "type": "scatter",
         "x": [
          2.1866666666666665
         ],
         "xaxis": "x2",
         "y": [
          0.0018516459845488505
         ],
         "yaxis": "y2"
        },
        {
         "legend": "legend",
         "legendgroup": "rat2human",
         "marker": {
          "color": "#DDCB76",
          "line": {
           "color": "black",
           "width": 1
          },
          "size": 9,
          "symbol": "triangle-up"
         },
         "mode": "markers",
         "name": "kidney",
         "showlegend": false,
         "type": "scatter",
         "x": [
          2.28
         ],
         "xaxis": "x2",
         "y": [
          0.001805980491661268
         ],
         "yaxis": "y2"
        },
        {
         "boxmean": true,
         "boxpoints": false,
         "legend": "legend2",
         "legendgroup": "rat2human",
         "line": {
          "color": "#DDCB76"
         },
         "name": "rat2human",
         "showlegend": false,
         "type": "box",
         "x": [
          2.6,
          2.6,
          2.6,
          2.6,
          2.6,
          2.6,
          2.6,
          2.6,
          2.6,
          2.6,
          2.6,
          2.6
         ],
         "xaxis": "x2",
         "y": [
          0.8191017240419721,
          0.5719281933179229,
          0.5562438013808181,
          0.5196865464072246,
          0.481998285788132,
          0.40765903371946094,
          0.31568941432568765,
          0.14236350730262215,
          0.013512631947402097,
          0.008102653741092354,
          0.0018516459845488505,
          0.001805980491661268
         ],
         "yaxis": "y2"
        },
        {
         "legendgroup": "rat2human",
         "line": {
          "color": "#DDCB76",
          "dash": "dot"
         },
         "mode": "lines",
         "name": "rat2human",
         "showlegend": false,
         "text": "95 % CI mean: [0.30;0.34]",
         "type": "scatter",
         "x": [
          2.5,
          2.5
         ],
         "xaxis": "x2",
         "y": [
          0.29944882369926545,
          0.342633402807684
         ],
         "yaxis": "y2"
        },
        {
         "legendgroup": "rat2human",
         "line": {
          "color": "#DDCB76"
         },
         "marker": {
          "size": 10,
          "symbol": "triangle-down-open"
         },
         "mode": "markers",
         "name": "rat2human",
         "showlegend": false,
         "text": "95 % CI mean: [0.30;0.34]",
         "type": "scatter",
         "x": [
          2.5
         ],
         "xaxis": "x2",
         "y": [
          0.29944882369926545
         ],
         "yaxis": "y2"
        },
        {
         "legendgroup": "rat2human",
         "line": {
          "color": "#DDCB76"
         },
         "marker": {
          "size": 10,
          "symbol": "triangle-up-open"
         },
         "mode": "markers",
         "name": "rat2human",
         "showlegend": false,
         "text": "95 % CI mean: [0.30;0.34]",
         "type": "scatter",
         "x": [
          2.5
         ],
         "xaxis": "x2",
         "y": [
          0.342633402807684
         ],
         "yaxis": "y2"
        },
        {
         "legendgroup": "rat2human",
         "line": {
          "color": "#DDCB76",
          "dash": "solid"
         },
         "mode": "lines",
         "name": "rat2human",
         "showlegend": false,
         "text": "95 % CI median: [0.28;0.44]",
         "type": "scatter",
         "x": [
          2.7,
          2.7
         ],
         "xaxis": "x2",
         "y": [
          0.2841945054761819,
          0.4350122327615262
         ],
         "yaxis": "y2"
        },
        {
         "legendgroup": "rat2human",
         "line": {
          "color": "#DDCB76"
         },
         "marker": {
          "size": 10,
          "symbol": "triangle-down"
         },
         "mode": "markers",
         "name": "rat2human",
         "showlegend": false,
         "text": "95 % CI median: [0.28;0.44]",
         "type": "scatter",
         "x": [
          2.7
         ],
         "xaxis": "x2",
         "y": [
          0.2841945054761819
         ],
         "yaxis": "y2"
        },
        {
         "legendgroup": "rat2human",
         "line": {
          "color": "#DDCB76"
         },
         "marker": {
          "size": 10,
          "symbol": "triangle-up"
         },
         "mode": "markers",
         "name": "rat2human",
         "showlegend": false,
         "text": "95 % CI median: [0.28;0.44]",
         "type": "scatter",
         "x": [
          2.7
         ],
         "xaxis": "x2",
         "y": [
          0.4350122327615262
         ],
         "yaxis": "y2"
        },
        {
         "legend": "legend",
         "marker": {
          "color": "gray",
          "line": {
           "color": "black",
           "width": 1
          },
          "size": 9,
          "symbol": "circle"
         },
         "mode": "markers",
         "name": "stomach",
         "showlegend": false,
         "type": "scatter",
         "x": [
          null
         ],
         "xaxis": "x3",
         "y": [
          null
         ],
         "yaxis": "y3"
        },
        {
         "legend": "legend",
         "marker": {
          "color": "gray",
          "line": {
           "color": "black",
           "width": 1
          },
          "size": 9,
          "symbol": "square"
         },
         "mode": "markers",
         "name": "small_bowel",
         "showlegend": false,
         "type": "scatter",
         "x": [
          null
         ],
         "xaxis": "x3",
         "y": [
          null
         ],
         "yaxis": "y3"
        },
        {
         "legend": "legend",
         "marker": {
          "color": "gray",
          "line": {
           "color": "black",
           "width": 1
          },
          "size": 9,
          "symbol": "diamond"
         },
         "mode": "markers",
         "name": "colon",
         "showlegend": false,
         "type": "scatter",
         "x": [
          null
         ],
         "xaxis": "x3",
         "y": [
          null
         ],
         "yaxis": "y3"
        },
        {
         "legend": "legend",
         "marker": {
          "color": "gray",
          "line": {
           "color": "black",
           "width": 1
          },
          "size": 9,
          "symbol": "cross"
         },
         "mode": "markers",
         "name": "liver",
         "showlegend": false,
         "type": "scatter",
         "x": [
          null
         ],
         "xaxis": "x3",
         "y": [
          null
         ],
         "yaxis": "y3"
        },
        {
         "legend": "legend",
         "marker": {
          "color": "gray",
          "line": {
           "color": "black",
           "width": 1
          },
          "size": 9,
          "symbol": "x"
         },
         "mode": "markers",
         "name": "pancreas",
         "showlegend": false,
         "type": "scatter",
         "x": [
          null
         ],
         "xaxis": "x3",
         "y": [
          null
         ],
         "yaxis": "y3"
        },
        {
         "legend": "legend",
         "marker": {
          "color": "gray",
          "line": {
           "color": "black",
           "width": 1
          },
          "size": 9,
          "symbol": "triangle-up"
         },
         "mode": "markers",
         "name": "kidney",
         "showlegend": false,
         "type": "scatter",
         "x": [
          null
         ],
         "xaxis": "x3",
         "y": [
          null
         ],
         "yaxis": "y3"
        },
        {
         "legend": "legend",
         "marker": {
          "color": "gray",
          "line": {
           "color": "black",
           "width": 1
          },
          "size": 9,
          "symbol": "triangle-down"
         },
         "mode": "markers",
         "name": "spleen",
         "showlegend": false,
         "type": "scatter",
         "x": [
          null
         ],
         "xaxis": "x3",
         "y": [
          null
         ],
         "yaxis": "y3"
        },
        {
         "legend": "legend",
         "marker": {
          "color": "gray",
          "line": {
           "color": "black",
           "width": 1
          },
          "size": 9,
          "symbol": "triangle-left"
         },
         "mode": "markers",
         "name": "omentum",
         "showlegend": false,
         "type": "scatter",
         "x": [
          null
         ],
         "xaxis": "x3",
         "y": [
          null
         ],
         "yaxis": "y3"
        },
        {
         "legend": "legend",
         "marker": {
          "color": "gray",
          "line": {
           "color": "black",
           "width": 1
          },
          "size": 9,
          "symbol": "triangle-right"
         },
         "mode": "markers",
         "name": "lung",
         "showlegend": false,
         "type": "scatter",
         "x": [
          null
         ],
         "xaxis": "x3",
         "y": [
          null
         ],
         "yaxis": "y3"
        },
        {
         "legend": "legend",
         "marker": {
          "color": "gray",
          "line": {
           "color": "black",
           "width": 1
          },
          "size": 9,
          "symbol": "triangle-ne"
         },
         "mode": "markers",
         "name": "skin",
         "showlegend": false,
         "type": "scatter",
         "x": [
          null
         ],
         "xaxis": "x3",
         "y": [
          null
         ],
         "yaxis": "y3"
        },
        {
         "legend": "legend",
         "marker": {
          "color": "gray",
          "line": {
           "color": "black",
           "width": 1
          },
          "size": 9,
          "symbol": "triangle-se"
         },
         "mode": "markers",
         "name": "peritoneum",
         "showlegend": false,
         "type": "scatter",
         "x": [
          null
         ],
         "xaxis": "x3",
         "y": [
          null
         ],
         "yaxis": "y3"
        },
        {
         "legend": "legend",
         "marker": {
          "color": "gray",
          "line": {
           "color": "black",
           "width": 1
          },
          "size": 9,
          "symbol": "triangle-sw"
         },
         "mode": "markers",
         "name": "background",
         "showlegend": false,
         "type": "scatter",
         "x": [
          null
         ],
         "xaxis": "x3",
         "y": [
          null
         ],
         "yaxis": "y3"
        },
        {
         "legend": "legend",
         "legendgroup": "human2human",
         "marker": {
          "color": "#DDCB76",
          "line": {
           "color": "black",
           "width": 1
          },
          "size": 9,
          "symbol": "triangle-sw"
         },
         "mode": "markers",
         "name": "background",
         "showlegend": false,
         "type": "scatter",
         "x": [
          0
         ],
         "xaxis": "x3",
         "y": [
          0.986258252372616
         ],
         "yaxis": "y3"
        },
        {
         "legend": "legend",
         "legendgroup": "human2human",
         "marker": {
          "color": "#DDCB76",
          "line": {
           "color": "black",
           "width": 1
          },
          "size": 9,
          "symbol": "triangle-up"
         },
         "mode": "markers",
         "name": "kidney",
         "showlegend": false,
         "type": "scatter",
         "x": [
          0.09333333333333334
         ],
         "xaxis": "x3",
         "y": [
          0.9554006728845612
         ],
         "yaxis": "y3"
        },
        {
         "legend": "legend",
         "legendgroup": "human2human",
         "marker": {
          "color": "#DDCB76",
          "line": {
           "color": "black",
           "width": 1
          },
          "size": 9,
          "symbol": "cross"
         },
         "mode": "markers",
         "name": "liver",
         "showlegend": false,
         "type": "scatter",
         "x": [
          0.18666666666666668
         ],
         "xaxis": "x3",
         "y": [
          0.936957227874204
         ],
         "yaxis": "y3"
        },
        {
         "legend": "legend",
         "legendgroup": "human2human",
         "marker": {
          "color": "#DDCB76",
          "line": {
           "color": "black",
           "width": 1
          },
          "size": 9,
          "symbol": "triangle-left"
         },
         "mode": "markers",
         "name": "omentum",
         "showlegend": false,
         "type": "scatter",
         "x": [
          0.28
         ],
         "xaxis": "x3",
         "y": [
          0.8836436076854066
         ],
         "yaxis": "y3"
        },
        {
         "legend": "legend",
         "legendgroup": "human2human",
         "marker": {
          "color": "#DDCB76",
          "line": {
           "color": "black",
           "width": 1
          },
          "size": 9,
          "symbol": "triangle-ne"
         },
         "mode": "markers",
         "name": "skin",
         "showlegend": false,
         "type": "scatter",
         "x": [
          0
         ],
         "xaxis": "x3",
         "y": [
          0.8057008280676282
         ],
         "yaxis": "y3"
        },
        {
         "legend": "legend",
         "legendgroup": "human2human",
         "marker": {
          "color": "#DDCB76",
          "line": {
           "color": "black",
           "width": 1
          },
          "size": 9,
          "symbol": "square"
         },
         "mode": "markers",
         "name": "small_bowel",
         "showlegend": false,
         "type": "scatter",
         "x": [
          0.09333333333333334
         ],
         "xaxis": "x3",
         "y": [
          0.8000828739029615
         ],
         "yaxis": "y3"
        },
        {
         "legend": "legend",
         "legendgroup": "human2human",
         "marker": {
          "color": "#DDCB76",
          "line": {
           "color": "black",
           "width": 1
          },
          "size": 9,
          "symbol": "triangle-right"
         },
         "mode": "markers",
         "name": "lung",
         "showlegend": false,
         "type": "scatter",
         "x": [
          0.18666666666666668
         ],
         "xaxis": "x3",
         "y": [
          0.7924680411815643
         ],
         "yaxis": "y3"
        },
        {
         "legend": "legend",
         "legendgroup": "human2human",
         "marker": {
          "color": "#DDCB76",
          "line": {
           "color": "black",
           "width": 1
          },
          "size": 9,
          "symbol": "circle"
         },
         "mode": "markers",
         "name": "stomach",
         "showlegend": false,
         "type": "scatter",
         "x": [
          0.28
         ],
         "xaxis": "x3",
         "y": [
          0.7726912758224902
         ],
         "yaxis": "y3"
        },
        {
         "legend": "legend",
         "legendgroup": "human2human",
         "marker": {
          "color": "#DDCB76",
          "line": {
           "color": "black",
           "width": 1
          },
          "size": 9,
          "symbol": "diamond"
         },
         "mode": "markers",
         "name": "colon",
         "showlegend": false,
         "type": "scatter",
         "x": [
          0
         ],
         "xaxis": "x3",
         "y": [
          0.7367687069667102
         ],
         "yaxis": "y3"
        },
        {
         "legend": "legend",
         "legendgroup": "human2human",
         "marker": {
          "color": "#DDCB76",
          "line": {
           "color": "black",
           "width": 1
          },
          "size": 9,
          "symbol": "triangle-down"
         },
         "mode": "markers",
         "name": "spleen",
         "showlegend": false,
         "type": "scatter",
         "x": [
          0.09333333333333334
         ],
         "xaxis": "x3",
         "y": [
          0.7175930482170164
         ],
         "yaxis": "y3"
        },
        {
         "legend": "legend",
         "legendgroup": "human2human",
         "marker": {
          "color": "#DDCB76",
          "line": {
           "color": "black",
           "width": 1
          },
          "size": 9,
          "symbol": "triangle-se"
         },
         "mode": "markers",
         "name": "peritoneum",
         "showlegend": false,
         "type": "scatter",
         "x": [
          0.18666666666666668
         ],
         "xaxis": "x3",
         "y": [
          0.5084219565846367
         ],
         "yaxis": "y3"
        },
        {
         "legend": "legend",
         "legendgroup": "human2human",
         "marker": {
          "color": "#DDCB76",
          "line": {
           "color": "black",
           "width": 1
          },
          "size": 9,
          "symbol": "x"
         },
         "mode": "markers",
         "name": "pancreas",
         "showlegend": false,
         "type": "scatter",
         "x": [
          0.28
         ],
         "xaxis": "x3",
         "y": [
          0.4452791146953502
         ],
         "yaxis": "y3"
        },
        {
         "boxmean": true,
         "boxpoints": false,
         "legend": "legend2",
         "legendgroup": "human2human",
         "line": {
          "color": "#DDCB76"
         },
         "name": "human2human",
         "showlegend": false,
         "type": "box",
         "x": [
          0.6,
          0.6,
          0.6,
          0.6,
          0.6,
          0.6,
          0.6,
          0.6,
          0.6,
          0.6,
          0.6,
          0.6
         ],
         "xaxis": "x3",
         "y": [
          0.986258252372616,
          0.9554006728845612,
          0.936957227874204,
          0.8836436076854066,
          0.8057008280676282,
          0.8000828739029615,
          0.7924680411815643,
          0.7726912758224902,
          0.7367687069667102,
          0.7175930482170164,
          0.5084219565846367,
          0.4452791146953502
         ],
         "yaxis": "y3"
        },
        {
         "legendgroup": "human2human",
         "line": {
          "color": "#DDCB76",
          "dash": "dot"
         },
         "mode": "lines",
         "name": "human2human",
         "showlegend": false,
         "text": "95 % CI mean: [0.75;0.80]",
         "type": "scatter",
         "x": [
          0.5,
          0.5
         ],
         "xaxis": "x3",
         "y": [
          0.7509427578441468,
          0.8021369638683338
         ],
         "yaxis": "y3"
        },
        {
         "legendgroup": "human2human",
         "line": {
          "color": "#DDCB76"
         },
         "marker": {
          "size": 10,
          "symbol": "triangle-down-open"
         },
         "mode": "markers",
         "name": "human2human",
         "showlegend": false,
         "text": "95 % CI mean: [0.75;0.80]",
         "type": "scatter",
         "x": [
          0.5
         ],
         "xaxis": "x3",
         "y": [
          0.7509427578441468
         ],
         "yaxis": "y3"
        },
        {
         "legendgroup": "human2human",
         "line": {
          "color": "#DDCB76"
         },
         "marker": {
          "size": 10,
          "symbol": "triangle-up-open"
         },
         "mode": "markers",
         "name": "human2human",
         "showlegend": false,
         "text": "95 % CI mean: [0.75;0.80]",
         "type": "scatter",
         "x": [
          0.5
         ],
         "xaxis": "x3",
         "y": [
          0.8021369638683338
         ],
         "yaxis": "y3"
        },
        {
         "legendgroup": "human2human",
         "line": {
          "color": "#DDCB76",
          "dash": "solid"
         },
         "mode": "lines",
         "name": "human2human",
         "showlegend": false,
         "text": "95 % CI median: [0.76;0.84]",
         "type": "scatter",
         "x": [
          0.7,
          0.7
         ],
         "xaxis": "x3",
         "y": [
          0.761289157958698,
          0.8374864442384344
         ],
         "yaxis": "y3"
        },
        {
         "legendgroup": "human2human",
         "line": {
          "color": "#DDCB76"
         },
         "marker": {
          "size": 10,
          "symbol": "triangle-down"
         },
         "mode": "markers",
         "name": "human2human",
         "showlegend": false,
         "text": "95 % CI median: [0.76;0.84]",
         "type": "scatter",
         "x": [
          0.7
         ],
         "xaxis": "x3",
         "y": [
          0.761289157958698
         ],
         "yaxis": "y3"
        },
        {
         "legendgroup": "human2human",
         "line": {
          "color": "#DDCB76"
         },
         "marker": {
          "size": 10,
          "symbol": "triangle-up"
         },
         "mode": "markers",
         "name": "human2human",
         "showlegend": false,
         "text": "95 % CI median: [0.76;0.84]",
         "type": "scatter",
         "x": [
          0.7
         ],
         "xaxis": "x3",
         "y": [
          0.8374864442384344
         ],
         "yaxis": "y3"
        },
        {
         "legend": "legend",
         "legendgroup": "pig-p+rat-p2human2human",
         "marker": {
          "color": "#DDCB76",
          "line": {
           "color": "black",
           "width": 1
          },
          "size": 9,
          "symbol": "triangle-sw"
         },
         "mode": "markers",
         "name": "background",
         "showlegend": false,
         "type": "scatter",
         "x": [
          1
         ],
         "xaxis": "x3",
         "y": [
          0.9856688762593184
         ],
         "yaxis": "y3"
        },
        {
         "legend": "legend",
         "legendgroup": "pig-p+rat-p2human2human",
         "marker": {
          "color": "#DDCB76",
          "line": {
           "color": "black",
           "width": 1
          },
          "size": 9,
          "symbol": "triangle-up"
         },
         "mode": "markers",
         "name": "kidney",
         "showlegend": false,
         "type": "scatter",
         "x": [
          1.0933333333333333
         ],
         "xaxis": "x3",
         "y": [
          0.9530359759442992
         ],
         "yaxis": "y3"
        },
        {
         "legend": "legend",
         "legendgroup": "pig-p+rat-p2human2human",
         "marker": {
          "color": "#DDCB76",
          "line": {
           "color": "black",
           "width": 1
          },
          "size": 9,
          "symbol": "cross"
         },
         "mode": "markers",
         "name": "liver",
         "showlegend": false,
         "type": "scatter",
         "x": [
          1.1866666666666668
         ],
         "xaxis": "x3",
         "y": [
          0.933148657650527
         ],
         "yaxis": "y3"
        },
        {
         "legend": "legend",
         "legendgroup": "pig-p+rat-p2human2human",
         "marker": {
          "color": "#DDCB76",
          "line": {
           "color": "black",
           "width": 1
          },
          "size": 9,
          "symbol": "triangle-left"
         },
         "mode": "markers",
         "name": "omentum",
         "showlegend": false,
         "type": "scatter",
         "x": [
          1.28
         ],
         "xaxis": "x3",
         "y": [
          0.8880157933068595
         ],
         "yaxis": "y3"
        },
        {
         "legend": "legend",
         "legendgroup": "pig-p+rat-p2human2human",
         "marker": {
          "color": "#DDCB76",
          "line": {
           "color": "black",
           "width": 1
          },
          "size": 9,
          "symbol": "triangle-right"
         },
         "mode": "markers",
         "name": "lung",
         "showlegend": false,
         "type": "scatter",
         "x": [
          1
         ],
         "xaxis": "x3",
         "y": [
          0.8627593775590261
         ],
         "yaxis": "y3"
        },
        {
         "legend": "legend",
         "legendgroup": "pig-p+rat-p2human2human",
         "marker": {
          "color": "#DDCB76",
          "line": {
           "color": "black",
           "width": 1
          },
          "size": 9,
          "symbol": "triangle-ne"
         },
         "mode": "markers",
         "name": "skin",
         "showlegend": false,
         "type": "scatter",
         "x": [
          1.0933333333333333
         ],
         "xaxis": "x3",
         "y": [
          0.8152305483208337
         ],
         "yaxis": "y3"
        },
        {
         "legend": "legend",
         "legendgroup": "pig-p+rat-p2human2human",
         "marker": {
          "color": "#DDCB76",
          "line": {
           "color": "black",
           "width": 1
          },
          "size": 9,
          "symbol": "square"
         },
         "mode": "markers",
         "name": "small_bowel",
         "showlegend": false,
         "type": "scatter",
         "x": [
          1.1866666666666668
         ],
         "xaxis": "x3",
         "y": [
          0.7848963879846205
         ],
         "yaxis": "y3"
        },
        {
         "legend": "legend",
         "legendgroup": "pig-p+rat-p2human2human",
         "marker": {
          "color": "#DDCB76",
          "line": {
           "color": "black",
           "width": 1
          },
          "size": 9,
          "symbol": "circle"
         },
         "mode": "markers",
         "name": "stomach",
         "showlegend": false,
         "type": "scatter",
         "x": [
          1.28
         ],
         "xaxis": "x3",
         "y": [
          0.7672485108169332
         ],
         "yaxis": "y3"
        },
        {
         "legend": "legend",
         "legendgroup": "pig-p+rat-p2human2human",
         "marker": {
          "color": "#DDCB76",
          "line": {
           "color": "black",
           "width": 1
          },
          "size": 9,
          "symbol": "diamond"
         },
         "mode": "markers",
         "name": "colon",
         "showlegend": false,
         "type": "scatter",
         "x": [
          1
         ],
         "xaxis": "x3",
         "y": [
          0.7280811416220817
         ],
         "yaxis": "y3"
        },
        {
         "legend": "legend",
         "legendgroup": "pig-p+rat-p2human2human",
         "marker": {
          "color": "#DDCB76",
          "line": {
           "color": "black",
           "width": 1
          },
          "size": 9,
          "symbol": "triangle-down"
         },
         "mode": "markers",
         "name": "spleen",
         "showlegend": false,
         "type": "scatter",
         "x": [
          1.0933333333333333
         ],
         "xaxis": "x3",
         "y": [
          0.7005912462870281
         ],
         "yaxis": "y3"
        },
        {
         "legend": "legend",
         "legendgroup": "pig-p+rat-p2human2human",
         "marker": {
          "color": "#DDCB76",
          "line": {
           "color": "black",
           "width": 1
          },
          "size": 9,
          "symbol": "triangle-se"
         },
         "mode": "markers",
         "name": "peritoneum",
         "showlegend": false,
         "type": "scatter",
         "x": [
          1.1866666666666668
         ],
         "xaxis": "x3",
         "y": [
          0.6128382136841782
         ],
         "yaxis": "y3"
        },
        {
         "legend": "legend",
         "legendgroup": "pig-p+rat-p2human2human",
         "marker": {
          "color": "#DDCB76",
          "line": {
           "color": "black",
           "width": 1
          },
          "size": 9,
          "symbol": "x"
         },
         "mode": "markers",
         "name": "pancreas",
         "showlegend": false,
         "type": "scatter",
         "x": [
          1.28
         ],
         "xaxis": "x3",
         "y": [
          0.42697543769071056
         ],
         "yaxis": "y3"
        },
        {
         "boxmean": true,
         "boxpoints": false,
         "legend": "legend2",
         "legendgroup": "pig-p+rat-p2human2human",
         "line": {
          "color": "#DDCB76"
         },
         "name": "pig-p+rat-p2human2human",
         "showlegend": false,
         "type": "box",
         "x": [
          1.6,
          1.6,
          1.6,
          1.6,
          1.6,
          1.6,
          1.6,
          1.6,
          1.6,
          1.6,
          1.6,
          1.6
         ],
         "xaxis": "x3",
         "y": [
          0.9856688762593184,
          0.9530359759442992,
          0.933148657650527,
          0.8880157933068595,
          0.8627593775590261,
          0.8152305483208337,
          0.7848963879846205,
          0.7672485108169332,
          0.7280811416220817,
          0.7005912462870281,
          0.6128382136841782,
          0.42697543769071056
         ],
         "yaxis": "y3"
        },
        {
         "legendgroup": "pig-p+rat-p2human2human",
         "line": {
          "color": "#DDCB76",
          "dash": "dot"
         },
         "mode": "lines",
         "name": "pig-p+rat-p2human2human",
         "showlegend": false,
         "text": "95 % CI mean: [0.76;0.81]",
         "type": "scatter",
         "x": [
          1.5,
          1.5
         ],
         "xaxis": "x3",
         "y": [
          0.7639284274117933,
          0.809763240164003
         ],
         "yaxis": "y3"
        },
        {
         "legendgroup": "pig-p+rat-p2human2human",
         "line": {
          "color": "#DDCB76"
         },
         "marker": {
          "size": 10,
          "symbol": "triangle-down-open"
         },
         "mode": "markers",
         "name": "pig-p+rat-p2human2human",
         "showlegend": false,
         "text": "95 % CI mean: [0.76;0.81]",
         "type": "scatter",
         "x": [
          1.5
         ],
         "xaxis": "x3",
         "y": [
          0.7639284274117933
         ],
         "yaxis": "y3"
        },
        {
         "legendgroup": "pig-p+rat-p2human2human",
         "line": {
          "color": "#DDCB76"
         },
         "marker": {
          "size": 10,
          "symbol": "triangle-up-open"
         },
         "mode": "markers",
         "name": "pig-p+rat-p2human2human",
         "showlegend": false,
         "text": "95 % CI mean: [0.76;0.81]",
         "type": "scatter",
         "x": [
          1.5
         ],
         "xaxis": "x3",
         "y": [
          0.809763240164003
         ],
         "yaxis": "y3"
        },
        {
         "legendgroup": "pig-p+rat-p2human2human",
         "line": {
          "color": "#DDCB76",
          "dash": "solid"
         },
         "mode": "lines",
         "name": "pig-p+rat-p2human2human",
         "showlegend": false,
         "text": "95 % CI median: [0.77;0.84]",
         "type": "scatter",
         "x": [
          1.7,
          1.7
         ],
         "xaxis": "x3",
         "y": [
          0.771684873766289,
          0.8404560960521599
         ],
         "yaxis": "y3"
        },
        {
         "legendgroup": "pig-p+rat-p2human2human",
         "line": {
          "color": "#DDCB76"
         },
         "marker": {
          "size": 10,
          "symbol": "triangle-down"
         },
         "mode": "markers",
         "name": "pig-p+rat-p2human2human",
         "showlegend": false,
         "text": "95 % CI median: [0.77;0.84]",
         "type": "scatter",
         "x": [
          1.7
         ],
         "xaxis": "x3",
         "y": [
          0.771684873766289
         ],
         "yaxis": "y3"
        },
        {
         "legendgroup": "pig-p+rat-p2human2human",
         "line": {
          "color": "#DDCB76"
         },
         "marker": {
          "size": 10,
          "symbol": "triangle-up"
         },
         "mode": "markers",
         "name": "pig-p+rat-p2human2human",
         "showlegend": false,
         "text": "95 % CI median: [0.77;0.84]",
         "type": "scatter",
         "x": [
          1.7
         ],
         "xaxis": "x3",
         "y": [
          0.8404560960521599
         ],
         "yaxis": "y3"
        }
       ],
       "layout": {
        "font": {
         "family": "Libertinus Sans",
         "size": 16
        },
        "height": 400,
        "legend": {
         "orientation": "h",
         "title": {},
         "x": 0.2,
         "xanchor": "center",
         "y": 1.05,
         "yanchor": "bottom"
        },
        "legend2": {
         "orientation": "h",
         "title": {},
         "x": 0.8,
         "xanchor": "center",
         "y": 1.05,
         "yanchor": "bottom"
        },
        "margin": {
         "b": 0,
         "l": 0,
         "r": 0,
         "t": 0
        },
        "showlegend": false,
        "template": {
         "data": {
          "bar": [
           {
            "error_x": {
             "color": "#2a3f5f"
            },
            "error_y": {
             "color": "#2a3f5f"
            },
            "marker": {
             "line": {
              "color": "white",
              "width": 0.5
             },
             "pattern": {
              "fillmode": "overlay",
              "size": 10,
              "solidity": 0.2
             }
            },
            "type": "bar"
           }
          ],
          "barpolar": [
           {
            "marker": {
             "line": {
              "color": "white",
              "width": 0.5
             },
             "pattern": {
              "fillmode": "overlay",
              "size": 10,
              "solidity": 0.2
             }
            },
            "type": "barpolar"
           }
          ],
          "carpet": [
           {
            "aaxis": {
             "endlinecolor": "#2a3f5f",
             "gridcolor": "#C8D4E3",
             "linecolor": "#C8D4E3",
             "minorgridcolor": "#C8D4E3",
             "startlinecolor": "#2a3f5f"
            },
            "baxis": {
             "endlinecolor": "#2a3f5f",
             "gridcolor": "#C8D4E3",
             "linecolor": "#C8D4E3",
             "minorgridcolor": "#C8D4E3",
             "startlinecolor": "#2a3f5f"
            },
            "type": "carpet"
           }
          ],
          "choropleth": [
           {
            "colorbar": {
             "outlinewidth": 0,
             "ticks": ""
            },
            "type": "choropleth"
           }
          ],
          "contour": [
           {
            "colorbar": {
             "outlinewidth": 0,
             "ticks": ""
            },
            "colorscale": [
             [
              0,
              "#0d0887"
             ],
             [
              0.1111111111111111,
              "#46039f"
             ],
             [
              0.2222222222222222,
              "#7201a8"
             ],
             [
              0.3333333333333333,
              "#9c179e"
             ],
             [
              0.4444444444444444,
              "#bd3786"
             ],
             [
              0.5555555555555556,
              "#d8576b"
             ],
             [
              0.6666666666666666,
              "#ed7953"
             ],
             [
              0.7777777777777778,
              "#fb9f3a"
             ],
             [
              0.8888888888888888,
              "#fdca26"
             ],
             [
              1,
              "#f0f921"
             ]
            ],
            "type": "contour"
           }
          ],
          "contourcarpet": [
           {
            "colorbar": {
             "outlinewidth": 0,
             "ticks": ""
            },
            "type": "contourcarpet"
           }
          ],
          "heatmap": [
           {
            "colorbar": {
             "outlinewidth": 0,
             "ticks": ""
            },
            "colorscale": [
             [
              0,
              "#0d0887"
             ],
             [
              0.1111111111111111,
              "#46039f"
             ],
             [
              0.2222222222222222,
              "#7201a8"
             ],
             [
              0.3333333333333333,
              "#9c179e"
             ],
             [
              0.4444444444444444,
              "#bd3786"
             ],
             [
              0.5555555555555556,
              "#d8576b"
             ],
             [
              0.6666666666666666,
              "#ed7953"
             ],
             [
              0.7777777777777778,
              "#fb9f3a"
             ],
             [
              0.8888888888888888,
              "#fdca26"
             ],
             [
              1,
              "#f0f921"
             ]
            ],
            "type": "heatmap"
           }
          ],
          "heatmapgl": [
           {
            "colorbar": {
             "outlinewidth": 0,
             "ticks": ""
            },
            "colorscale": [
             [
              0,
              "#0d0887"
             ],
             [
              0.1111111111111111,
              "#46039f"
             ],
             [
              0.2222222222222222,
              "#7201a8"
             ],
             [
              0.3333333333333333,
              "#9c179e"
             ],
             [
              0.4444444444444444,
              "#bd3786"
             ],
             [
              0.5555555555555556,
              "#d8576b"
             ],
             [
              0.6666666666666666,
              "#ed7953"
             ],
             [
              0.7777777777777778,
              "#fb9f3a"
             ],
             [
              0.8888888888888888,
              "#fdca26"
             ],
             [
              1,
              "#f0f921"
             ]
            ],
            "type": "heatmapgl"
           }
          ],
          "histogram": [
           {
            "marker": {
             "pattern": {
              "fillmode": "overlay",
              "size": 10,
              "solidity": 0.2
             }
            },
            "type": "histogram"
           }
          ],
          "histogram2d": [
           {
            "colorbar": {
             "outlinewidth": 0,
             "ticks": ""
            },
            "colorscale": [
             [
              0,
              "#0d0887"
             ],
             [
              0.1111111111111111,
              "#46039f"
             ],
             [
              0.2222222222222222,
              "#7201a8"
             ],
             [
              0.3333333333333333,
              "#9c179e"
             ],
             [
              0.4444444444444444,
              "#bd3786"
             ],
             [
              0.5555555555555556,
              "#d8576b"
             ],
             [
              0.6666666666666666,
              "#ed7953"
             ],
             [
              0.7777777777777778,
              "#fb9f3a"
             ],
             [
              0.8888888888888888,
              "#fdca26"
             ],
             [
              1,
              "#f0f921"
             ]
            ],
            "type": "histogram2d"
           }
          ],
          "histogram2dcontour": [
           {
            "colorbar": {
             "outlinewidth": 0,
             "ticks": ""
            },
            "colorscale": [
             [
              0,
              "#0d0887"
             ],
             [
              0.1111111111111111,
              "#46039f"
             ],
             [
              0.2222222222222222,
              "#7201a8"
             ],
             [
              0.3333333333333333,
              "#9c179e"
             ],
             [
              0.4444444444444444,
              "#bd3786"
             ],
             [
              0.5555555555555556,
              "#d8576b"
             ],
             [
              0.6666666666666666,
              "#ed7953"
             ],
             [
              0.7777777777777778,
              "#fb9f3a"
             ],
             [
              0.8888888888888888,
              "#fdca26"
             ],
             [
              1,
              "#f0f921"
             ]
            ],
            "type": "histogram2dcontour"
           }
          ],
          "mesh3d": [
           {
            "colorbar": {
             "outlinewidth": 0,
             "ticks": ""
            },
            "type": "mesh3d"
           }
          ],
          "parcoords": [
           {
            "line": {
             "colorbar": {
              "outlinewidth": 0,
              "ticks": ""
             }
            },
            "type": "parcoords"
           }
          ],
          "pie": [
           {
            "automargin": true,
            "type": "pie"
           }
          ],
          "scatter": [
           {
            "fillpattern": {
             "fillmode": "overlay",
             "size": 10,
             "solidity": 0.2
            },
            "type": "scatter"
           }
          ],
          "scatter3d": [
           {
            "line": {
             "colorbar": {
              "outlinewidth": 0,
              "ticks": ""
             }
            },
            "marker": {
             "colorbar": {
              "outlinewidth": 0,
              "ticks": ""
             }
            },
            "type": "scatter3d"
           }
          ],
          "scattercarpet": [
           {
            "marker": {
             "colorbar": {
              "outlinewidth": 0,
              "ticks": ""
             }
            },
            "type": "scattercarpet"
           }
          ],
          "scattergeo": [
           {
            "marker": {
             "colorbar": {
              "outlinewidth": 0,
              "ticks": ""
             }
            },
            "type": "scattergeo"
           }
          ],
          "scattergl": [
           {
            "marker": {
             "colorbar": {
              "outlinewidth": 0,
              "ticks": ""
             }
            },
            "type": "scattergl"
           }
          ],
          "scattermapbox": [
           {
            "marker": {
             "colorbar": {
              "outlinewidth": 0,
              "ticks": ""
             }
            },
            "type": "scattermapbox"
           }
          ],
          "scatterpolar": [
           {
            "marker": {
             "colorbar": {
              "outlinewidth": 0,
              "ticks": ""
             }
            },
            "type": "scatterpolar"
           }
          ],
          "scatterpolargl": [
           {
            "marker": {
             "colorbar": {
              "outlinewidth": 0,
              "ticks": ""
             }
            },
            "type": "scatterpolargl"
           }
          ],
          "scatterternary": [
           {
            "marker": {
             "colorbar": {
              "outlinewidth": 0,
              "ticks": ""
             }
            },
            "type": "scatterternary"
           }
          ],
          "surface": [
           {
            "colorbar": {
             "outlinewidth": 0,
             "ticks": ""
            },
            "colorscale": [
             [
              0,
              "#0d0887"
             ],
             [
              0.1111111111111111,
              "#46039f"
             ],
             [
              0.2222222222222222,
              "#7201a8"
             ],
             [
              0.3333333333333333,
              "#9c179e"
             ],
             [
              0.4444444444444444,
              "#bd3786"
             ],
             [
              0.5555555555555556,
              "#d8576b"
             ],
             [
              0.6666666666666666,
              "#ed7953"
             ],
             [
              0.7777777777777778,
              "#fb9f3a"
             ],
             [
              0.8888888888888888,
              "#fdca26"
             ],
             [
              1,
              "#f0f921"
             ]
            ],
            "type": "surface"
           }
          ],
          "table": [
           {
            "cells": {
             "fill": {
              "color": "#EBF0F8"
             },
             "line": {
              "color": "white"
             }
            },
            "header": {
             "fill": {
              "color": "#C8D4E3"
             },
             "line": {
              "color": "white"
             }
            },
            "type": "table"
           }
          ]
         },
         "layout": {
          "annotationdefaults": {
           "arrowcolor": "#2a3f5f",
           "arrowhead": 0,
           "arrowwidth": 1
          },
          "autotypenumbers": "strict",
          "coloraxis": {
           "colorbar": {
            "outlinewidth": 0,
            "ticks": ""
           }
          },
          "colorscale": {
           "diverging": [
            [
             0,
             "#8e0152"
            ],
            [
             0.1,
             "#c51b7d"
            ],
            [
             0.2,
             "#de77ae"
            ],
            [
             0.3,
             "#f1b6da"
            ],
            [
             0.4,
             "#fde0ef"
            ],
            [
             0.5,
             "#f7f7f7"
            ],
            [
             0.6,
             "#e6f5d0"
            ],
            [
             0.7,
             "#b8e186"
            ],
            [
             0.8,
             "#7fbc41"
            ],
            [
             0.9,
             "#4d9221"
            ],
            [
             1,
             "#276419"
            ]
           ],
           "sequential": [
            [
             0,
             "#0d0887"
            ],
            [
             0.1111111111111111,
             "#46039f"
            ],
            [
             0.2222222222222222,
             "#7201a8"
            ],
            [
             0.3333333333333333,
             "#9c179e"
            ],
            [
             0.4444444444444444,
             "#bd3786"
            ],
            [
             0.5555555555555556,
             "#d8576b"
            ],
            [
             0.6666666666666666,
             "#ed7953"
            ],
            [
             0.7777777777777778,
             "#fb9f3a"
            ],
            [
             0.8888888888888888,
             "#fdca26"
            ],
            [
             1,
             "#f0f921"
            ]
           ],
           "sequentialminus": [
            [
             0,
             "#0d0887"
            ],
            [
             0.1111111111111111,
             "#46039f"
            ],
            [
             0.2222222222222222,
             "#7201a8"
            ],
            [
             0.3333333333333333,
             "#9c179e"
            ],
            [
             0.4444444444444444,
             "#bd3786"
            ],
            [
             0.5555555555555556,
             "#d8576b"
            ],
            [
             0.6666666666666666,
             "#ed7953"
            ],
            [
             0.7777777777777778,
             "#fb9f3a"
            ],
            [
             0.8888888888888888,
             "#fdca26"
            ],
            [
             1,
             "#f0f921"
            ]
           ]
          },
          "colorway": [
           "#636efa",
           "#EF553B",
           "#00cc96",
           "#ab63fa",
           "#FFA15A",
           "#19d3f3",
           "#FF6692",
           "#B6E880",
           "#FF97FF",
           "#FECB52"
          ],
          "font": {
           "color": "#2a3f5f"
          },
          "geo": {
           "bgcolor": "white",
           "lakecolor": "white",
           "landcolor": "white",
           "showlakes": true,
           "showland": true,
           "subunitcolor": "#C8D4E3"
          },
          "hoverlabel": {
           "align": "left"
          },
          "hovermode": "closest",
          "mapbox": {
           "style": "light"
          },
          "paper_bgcolor": "white",
          "plot_bgcolor": "white",
          "polar": {
           "angularaxis": {
            "gridcolor": "#EBF0F8",
            "linecolor": "#EBF0F8",
            "ticks": ""
           },
           "bgcolor": "white",
           "radialaxis": {
            "gridcolor": "#EBF0F8",
            "linecolor": "#EBF0F8",
            "ticks": ""
           }
          },
          "scene": {
           "xaxis": {
            "backgroundcolor": "white",
            "gridcolor": "#DFE8F3",
            "gridwidth": 2,
            "linecolor": "#EBF0F8",
            "showbackground": true,
            "ticks": "",
            "zerolinecolor": "#EBF0F8"
           },
           "yaxis": {
            "backgroundcolor": "white",
            "gridcolor": "#DFE8F3",
            "gridwidth": 2,
            "linecolor": "#EBF0F8",
            "showbackground": true,
            "ticks": "",
            "zerolinecolor": "#EBF0F8"
           },
           "zaxis": {
            "backgroundcolor": "white",
            "gridcolor": "#DFE8F3",
            "gridwidth": 2,
            "linecolor": "#EBF0F8",
            "showbackground": true,
            "ticks": "",
            "zerolinecolor": "#EBF0F8"
           }
          },
          "shapedefaults": {
           "line": {
            "color": "#2a3f5f"
           }
          },
          "ternary": {
           "aaxis": {
            "gridcolor": "#DFE8F3",
            "linecolor": "#A2B1C6",
            "ticks": ""
           },
           "baxis": {
            "gridcolor": "#DFE8F3",
            "linecolor": "#A2B1C6",
            "ticks": ""
           },
           "bgcolor": "white",
           "caxis": {
            "gridcolor": "#DFE8F3",
            "linecolor": "#A2B1C6",
            "ticks": ""
           }
          },
          "title": {
           "x": 0.05
          },
          "xaxis": {
           "automargin": true,
           "gridcolor": "#EBF0F8",
           "linecolor": "#EBF0F8",
           "ticks": "",
           "title": {
            "standoff": 15
           },
           "zerolinecolor": "#EBF0F8",
           "zerolinewidth": 2
          },
          "yaxis": {
           "automargin": true,
           "gridcolor": "#EBF0F8",
           "linecolor": "#EBF0F8",
           "ticks": "",
           "title": {
            "standoff": 15
           },
           "zerolinecolor": "#EBF0F8",
           "zerolinewidth": 2
          }
         }
        },
        "width": 1200,
        "xaxis": {
         "anchor": "y",
         "domain": [
          0,
          0.3525
         ],
         "showticklabels": false
        },
        "xaxis2": {
         "anchor": "y2",
         "domain": [
          0.3824999999999999,
          0.7349999999999999
         ],
         "showticklabels": false
        },
        "xaxis3": {
         "anchor": "y3",
         "domain": [
          0.7649999999999999,
          1.0
         ],
         "showticklabels": false
        },
        "yaxis": {
         "anchor": "x",
         "domain": [
          0,
          1
         ],
         "title": {
          "standoff": 12,
          "text": "<b>DSC</b>"
         }
        },
        "yaxis2": {
         "anchor": "x2",
         "domain": [
          0,
          1
         ],
         "matches": "y",
         "showticklabels": false
        },
        "yaxis3": {
         "anchor": "x3",
         "domain": [
          0,
          1
         ],
         "matches": "y",
         "showticklabels": false
        }
       }
      },
      "text/html": [
       "<div>                            <div id=\"62e6e282-e5c1-457c-b8c3-a967b36711eb\" class=\"plotly-graph-div\" style=\"height:400px; width:1200px;\"></div>            <script type=\"text/javascript\">                require([\"plotly\"], function(Plotly) {                    window.PLOTLYENV=window.PLOTLYENV || {};                                    if (document.getElementById(\"62e6e282-e5c1-457c-b8c3-a967b36711eb\")) {                    Plotly.newPlot(                        \"62e6e282-e5c1-457c-b8c3-a967b36711eb\",                        [{\"legend\":\"legend\",\"marker\":{\"color\":\"gray\",\"line\":{\"color\":\"black\",\"width\":1},\"size\":9,\"symbol\":\"circle\"},\"mode\":\"markers\",\"name\":\"stomach\",\"showlegend\":true,\"x\":[null],\"y\":[null],\"type\":\"scatter\",\"xaxis\":\"x\",\"yaxis\":\"y\"},{\"legend\":\"legend\",\"marker\":{\"color\":\"gray\",\"line\":{\"color\":\"black\",\"width\":1},\"size\":9,\"symbol\":\"square\"},\"mode\":\"markers\",\"name\":\"small_bowel\",\"showlegend\":true,\"x\":[null],\"y\":[null],\"type\":\"scatter\",\"xaxis\":\"x\",\"yaxis\":\"y\"},{\"legend\":\"legend\",\"marker\":{\"color\":\"gray\",\"line\":{\"color\":\"black\",\"width\":1},\"size\":9,\"symbol\":\"diamond\"},\"mode\":\"markers\",\"name\":\"colon\",\"showlegend\":true,\"x\":[null],\"y\":[null],\"type\":\"scatter\",\"xaxis\":\"x\",\"yaxis\":\"y\"},{\"legend\":\"legend\",\"marker\":{\"color\":\"gray\",\"line\":{\"color\":\"black\",\"width\":1},\"size\":9,\"symbol\":\"cross\"},\"mode\":\"markers\",\"name\":\"liver\",\"showlegend\":true,\"x\":[null],\"y\":[null],\"type\":\"scatter\",\"xaxis\":\"x\",\"yaxis\":\"y\"},{\"legend\":\"legend\",\"marker\":{\"color\":\"gray\",\"line\":{\"color\":\"black\",\"width\":1},\"size\":9,\"symbol\":\"x\"},\"mode\":\"markers\",\"name\":\"pancreas\",\"showlegend\":true,\"x\":[null],\"y\":[null],\"type\":\"scatter\",\"xaxis\":\"x\",\"yaxis\":\"y\"},{\"legend\":\"legend\",\"marker\":{\"color\":\"gray\",\"line\":{\"color\":\"black\",\"width\":1},\"size\":9,\"symbol\":\"triangle-up\"},\"mode\":\"markers\",\"name\":\"kidney\",\"showlegend\":true,\"x\":[null],\"y\":[null],\"type\":\"scatter\",\"xaxis\":\"x\",\"yaxis\":\"y\"},{\"legend\":\"legend\",\"marker\":{\"color\":\"gray\",\"line\":{\"color\":\"black\",\"width\":1},\"size\":9,\"symbol\":\"triangle-down\"},\"mode\":\"markers\",\"name\":\"spleen\",\"showlegend\":true,\"x\":[null],\"y\":[null],\"type\":\"scatter\",\"xaxis\":\"x\",\"yaxis\":\"y\"},{\"legend\":\"legend\",\"marker\":{\"color\":\"gray\",\"line\":{\"color\":\"black\",\"width\":1},\"size\":9,\"symbol\":\"triangle-left\"},\"mode\":\"markers\",\"name\":\"omentum\",\"showlegend\":true,\"x\":[null],\"y\":[null],\"type\":\"scatter\",\"xaxis\":\"x\",\"yaxis\":\"y\"},{\"legend\":\"legend\",\"marker\":{\"color\":\"gray\",\"line\":{\"color\":\"black\",\"width\":1},\"size\":9,\"symbol\":\"triangle-right\"},\"mode\":\"markers\",\"name\":\"lung\",\"showlegend\":true,\"x\":[null],\"y\":[null],\"type\":\"scatter\",\"xaxis\":\"x\",\"yaxis\":\"y\"},{\"legend\":\"legend\",\"marker\":{\"color\":\"gray\",\"line\":{\"color\":\"black\",\"width\":1},\"size\":9,\"symbol\":\"triangle-ne\"},\"mode\":\"markers\",\"name\":\"skin\",\"showlegend\":true,\"x\":[null],\"y\":[null],\"type\":\"scatter\",\"xaxis\":\"x\",\"yaxis\":\"y\"},{\"legend\":\"legend\",\"marker\":{\"color\":\"gray\",\"line\":{\"color\":\"black\",\"width\":1},\"size\":9,\"symbol\":\"triangle-se\"},\"mode\":\"markers\",\"name\":\"peritoneum\",\"showlegend\":true,\"x\":[null],\"y\":[null],\"type\":\"scatter\",\"xaxis\":\"x\",\"yaxis\":\"y\"},{\"legend\":\"legend\",\"marker\":{\"color\":\"gray\",\"line\":{\"color\":\"black\",\"width\":1},\"size\":9,\"symbol\":\"triangle-sw\"},\"mode\":\"markers\",\"name\":\"background\",\"showlegend\":true,\"x\":[null],\"y\":[null],\"type\":\"scatter\",\"xaxis\":\"x\",\"yaxis\":\"y\"},{\"legend\":\"legend\",\"legendgroup\":\"pig2pig\",\"marker\":{\"color\":\"#44AA99\",\"line\":{\"color\":\"black\",\"width\":1},\"size\":9,\"symbol\":\"triangle-sw\"},\"mode\":\"markers\",\"name\":\"background\",\"showlegend\":false,\"x\":[0.0],\"y\":[0.9885008740648947],\"type\":\"scatter\",\"xaxis\":\"x\",\"yaxis\":\"y\"},{\"legend\":\"legend\",\"legendgroup\":\"pig2pig\",\"marker\":{\"color\":\"#44AA99\",\"line\":{\"color\":\"black\",\"width\":1},\"size\":9,\"symbol\":\"triangle-right\"},\"mode\":\"markers\",\"name\":\"lung\",\"showlegend\":false,\"x\":[0.09333333333333334],\"y\":[0.969053622397966],\"type\":\"scatter\",\"xaxis\":\"x\",\"yaxis\":\"y\"},{\"legend\":\"legend\",\"legendgroup\":\"pig2pig\",\"marker\":{\"color\":\"#44AA99\",\"line\":{\"color\":\"black\",\"width\":1},\"size\":9,\"symbol\":\"square\"},\"mode\":\"markers\",\"name\":\"small_bowel\",\"showlegend\":false,\"x\":[0.18666666666666668],\"y\":[0.9571652246702758],\"type\":\"scatter\",\"xaxis\":\"x\",\"yaxis\":\"y\"},{\"legend\":\"legend\",\"legendgroup\":\"pig2pig\",\"marker\":{\"color\":\"#44AA99\",\"line\":{\"color\":\"black\",\"width\":1},\"size\":9,\"symbol\":\"diamond\"},\"mode\":\"markers\",\"name\":\"colon\",\"showlegend\":false,\"x\":[0.28],\"y\":[0.9568510778387511],\"type\":\"scatter\",\"xaxis\":\"x\",\"yaxis\":\"y\"},{\"legend\":\"legend\",\"legendgroup\":\"pig2pig\",\"marker\":{\"color\":\"#44AA99\",\"line\":{\"color\":\"black\",\"width\":1},\"size\":9,\"symbol\":\"triangle-down\"},\"mode\":\"markers\",\"name\":\"spleen\",\"showlegend\":false,\"x\":[0.0],\"y\":[0.9536923306576212],\"type\":\"scatter\",\"xaxis\":\"x\",\"yaxis\":\"y\"},{\"legend\":\"legend\",\"legendgroup\":\"pig2pig\",\"marker\":{\"color\":\"#44AA99\",\"line\":{\"color\":\"black\",\"width\":1},\"size\":9,\"symbol\":\"cross\"},\"mode\":\"markers\",\"name\":\"liver\",\"showlegend\":false,\"x\":[0.09333333333333334],\"y\":[0.949537810182503],\"type\":\"scatter\",\"xaxis\":\"x\",\"yaxis\":\"y\"},{\"legend\":\"legend\",\"legendgroup\":\"pig2pig\",\"marker\":{\"color\":\"#44AA99\",\"line\":{\"color\":\"black\",\"width\":1},\"size\":9,\"symbol\":\"triangle-up\"},\"mode\":\"markers\",\"name\":\"kidney\",\"showlegend\":false,\"x\":[0.18666666666666668],\"y\":[0.9427167540282205],\"type\":\"scatter\",\"xaxis\":\"x\",\"yaxis\":\"y\"},{\"legend\":\"legend\",\"legendgroup\":\"pig2pig\",\"marker\":{\"color\":\"#44AA99\",\"line\":{\"color\":\"black\",\"width\":1},\"size\":9,\"symbol\":\"triangle-se\"},\"mode\":\"markers\",\"name\":\"peritoneum\",\"showlegend\":false,\"x\":[0.28],\"y\":[0.8750395419021202],\"type\":\"scatter\",\"xaxis\":\"x\",\"yaxis\":\"y\"},{\"legend\":\"legend\",\"legendgroup\":\"pig2pig\",\"marker\":{\"color\":\"#44AA99\",\"line\":{\"color\":\"black\",\"width\":1},\"size\":9,\"symbol\":\"circle\"},\"mode\":\"markers\",\"name\":\"stomach\",\"showlegend\":false,\"x\":[0.0],\"y\":[0.8600561621853112],\"type\":\"scatter\",\"xaxis\":\"x\",\"yaxis\":\"y\"},{\"legend\":\"legend\",\"legendgroup\":\"pig2pig\",\"marker\":{\"color\":\"#44AA99\",\"line\":{\"color\":\"black\",\"width\":1},\"size\":9,\"symbol\":\"triangle-ne\"},\"mode\":\"markers\",\"name\":\"skin\",\"showlegend\":false,\"x\":[0.09333333333333334],\"y\":[0.8474549499420758],\"type\":\"scatter\",\"xaxis\":\"x\",\"yaxis\":\"y\"},{\"legend\":\"legend\",\"legendgroup\":\"pig2pig\",\"marker\":{\"color\":\"#44AA99\",\"line\":{\"color\":\"black\",\"width\":1},\"size\":9,\"symbol\":\"x\"},\"mode\":\"markers\",\"name\":\"pancreas\",\"showlegend\":false,\"x\":[0.18666666666666668],\"y\":[0.8409984992042421],\"type\":\"scatter\",\"xaxis\":\"x\",\"yaxis\":\"y\"},{\"legend\":\"legend\",\"legendgroup\":\"pig2pig\",\"marker\":{\"color\":\"#44AA99\",\"line\":{\"color\":\"black\",\"width\":1},\"size\":9,\"symbol\":\"triangle-left\"},\"mode\":\"markers\",\"name\":\"omentum\",\"showlegend\":false,\"x\":[0.28],\"y\":[0.6584466303548067],\"type\":\"scatter\",\"xaxis\":\"x\",\"yaxis\":\"y\"},{\"boxmean\":true,\"boxpoints\":false,\"legend\":\"legend2\",\"legendgroup\":\"pig2pig\",\"line\":{\"color\":\"#44AA99\"},\"name\":\"pig2pig\",\"showlegend\":true,\"x\":[0.6,0.6,0.6,0.6,0.6,0.6,0.6,0.6,0.6,0.6,0.6,0.6],\"y\":[0.9885008740648947,0.969053622397966,0.9571652246702758,0.9568510778387511,0.9536923306576212,0.949537810182503,0.9427167540282205,0.8750395419021202,0.8600561621853112,0.8474549499420758,0.8409984992042421,0.6584466303548067],\"type\":\"box\",\"xaxis\":\"x\",\"yaxis\":\"y\"},{\"legendgroup\":\"pig2pig\",\"line\":{\"color\":\"#44AA99\",\"dash\":\"dot\"},\"mode\":\"lines\",\"name\":\"pig2pig\",\"showlegend\":false,\"text\":\"95\\u202f% CI mean: [0.88;0.92]\",\"x\":[0.5,0.5],\"y\":[0.8823496747543965,0.9161790995051385],\"type\":\"scatter\",\"xaxis\":\"x\",\"yaxis\":\"y\"},{\"legendgroup\":\"pig2pig\",\"line\":{\"color\":\"#44AA99\"},\"marker\":{\"size\":10,\"symbol\":\"triangle-down-open\"},\"mode\":\"markers\",\"name\":\"pig2pig\",\"showlegend\":false,\"text\":\"95\\u202f% CI mean: [0.88;0.92]\",\"x\":[0.5],\"y\":[0.8823496747543965],\"type\":\"scatter\",\"xaxis\":\"x\",\"yaxis\":\"y\"},{\"legendgroup\":\"pig2pig\",\"line\":{\"color\":\"#44AA99\"},\"marker\":{\"size\":10,\"symbol\":\"triangle-up-open\"},\"mode\":\"markers\",\"name\":\"pig2pig\",\"showlegend\":false,\"text\":\"95\\u202f% CI mean: [0.88;0.92]\",\"x\":[0.5],\"y\":[0.9161790995051385],\"type\":\"scatter\",\"xaxis\":\"x\",\"yaxis\":\"y\"},{\"legendgroup\":\"pig2pig\",\"line\":{\"color\":\"#44AA99\",\"dash\":\"solid\"},\"mode\":\"lines\",\"name\":\"pig2pig\",\"showlegend\":false,\"text\":\"95\\u202f% CI median: [0.93;0.95]\",\"x\":[0.7,0.7],\"y\":[0.9254848883902222,0.9545388481661348],\"type\":\"scatter\",\"xaxis\":\"x\",\"yaxis\":\"y\"},{\"legendgroup\":\"pig2pig\",\"line\":{\"color\":\"#44AA99\"},\"marker\":{\"size\":10,\"symbol\":\"triangle-down\"},\"mode\":\"markers\",\"name\":\"pig2pig\",\"showlegend\":false,\"text\":\"95\\u202f% CI median: [0.93;0.95]\",\"x\":[0.7],\"y\":[0.9254848883902222],\"type\":\"scatter\",\"xaxis\":\"x\",\"yaxis\":\"y\"},{\"legendgroup\":\"pig2pig\",\"line\":{\"color\":\"#44AA99\"},\"marker\":{\"size\":10,\"symbol\":\"triangle-up\"},\"mode\":\"markers\",\"name\":\"pig2pig\",\"showlegend\":false,\"text\":\"95\\u202f% CI median: [0.93;0.95]\",\"x\":[0.7],\"y\":[0.9545388481661348],\"type\":\"scatter\",\"xaxis\":\"x\",\"yaxis\":\"y\"},{\"legend\":\"legend\",\"legendgroup\":\"pig2rat\",\"marker\":{\"color\":\"#89CCED\",\"line\":{\"color\":\"black\",\"width\":1},\"size\":9,\"symbol\":\"triangle-right\"},\"mode\":\"markers\",\"name\":\"lung\",\"showlegend\":false,\"x\":[1.0],\"y\":[0.9915788173675537],\"type\":\"scatter\",\"xaxis\":\"x\",\"yaxis\":\"y\"},{\"legend\":\"legend\",\"legendgroup\":\"pig2rat\",\"marker\":{\"color\":\"#89CCED\",\"line\":{\"color\":\"black\",\"width\":1},\"size\":9,\"symbol\":\"cross\"},\"mode\":\"markers\",\"name\":\"liver\",\"showlegend\":false,\"x\":[1.0933333333333333],\"y\":[0.8181924786550145],\"type\":\"scatter\",\"xaxis\":\"x\",\"yaxis\":\"y\"},{\"legend\":\"legend\",\"legendgroup\":\"pig2rat\",\"marker\":{\"color\":\"#89CCED\",\"line\":{\"color\":\"black\",\"width\":1},\"size\":9,\"symbol\":\"triangle-sw\"},\"mode\":\"markers\",\"name\":\"background\",\"showlegend\":false,\"x\":[1.1866666666666668],\"y\":[0.7561214476011593],\"type\":\"scatter\",\"xaxis\":\"x\",\"yaxis\":\"y\"},{\"legend\":\"legend\",\"legendgroup\":\"pig2rat\",\"marker\":{\"color\":\"#89CCED\",\"line\":{\"color\":\"black\",\"width\":1},\"size\":9,\"symbol\":\"triangle-up\"},\"mode\":\"markers\",\"name\":\"kidney\",\"showlegend\":false,\"x\":[1.28],\"y\":[0.7320184289317427],\"type\":\"scatter\",\"xaxis\":\"x\",\"yaxis\":\"y\"},{\"legend\":\"legend\",\"legendgroup\":\"pig2rat\",\"marker\":{\"color\":\"#89CCED\",\"line\":{\"color\":\"black\",\"width\":1},\"size\":9,\"symbol\":\"triangle-se\"},\"mode\":\"markers\",\"name\":\"peritoneum\",\"showlegend\":false,\"x\":[1.0],\"y\":[0.6672368080166413],\"type\":\"scatter\",\"xaxis\":\"x\",\"yaxis\":\"y\"},{\"legend\":\"legend\",\"legendgroup\":\"pig2rat\",\"marker\":{\"color\":\"#89CCED\",\"line\":{\"color\":\"black\",\"width\":1},\"size\":9,\"symbol\":\"diamond\"},\"mode\":\"markers\",\"name\":\"colon\",\"showlegend\":false,\"x\":[1.0933333333333333],\"y\":[0.5099479567296061],\"type\":\"scatter\",\"xaxis\":\"x\",\"yaxis\":\"y\"},{\"legend\":\"legend\",\"legendgroup\":\"pig2rat\",\"marker\":{\"color\":\"#89CCED\",\"line\":{\"color\":\"black\",\"width\":1},\"size\":9,\"symbol\":\"triangle-ne\"},\"mode\":\"markers\",\"name\":\"skin\",\"showlegend\":false,\"x\":[1.1866666666666668],\"y\":[0.41021398324836034],\"type\":\"scatter\",\"xaxis\":\"x\",\"yaxis\":\"y\"},{\"legend\":\"legend\",\"legendgroup\":\"pig2rat\",\"marker\":{\"color\":\"#89CCED\",\"line\":{\"color\":\"black\",\"width\":1},\"size\":9,\"symbol\":\"x\"},\"mode\":\"markers\",\"name\":\"pancreas\",\"showlegend\":false,\"x\":[1.28],\"y\":[0.32326828926910844],\"type\":\"scatter\",\"xaxis\":\"x\",\"yaxis\":\"y\"},{\"legend\":\"legend\",\"legendgroup\":\"pig2rat\",\"marker\":{\"color\":\"#89CCED\",\"line\":{\"color\":\"black\",\"width\":1},\"size\":9,\"symbol\":\"triangle-left\"},\"mode\":\"markers\",\"name\":\"omentum\",\"showlegend\":false,\"x\":[1.0],\"y\":[0.2989594930449091],\"type\":\"scatter\",\"xaxis\":\"x\",\"yaxis\":\"y\"},{\"legend\":\"legend\",\"legendgroup\":\"pig2rat\",\"marker\":{\"color\":\"#89CCED\",\"line\":{\"color\":\"black\",\"width\":1},\"size\":9,\"symbol\":\"square\"},\"mode\":\"markers\",\"name\":\"small_bowel\",\"showlegend\":false,\"x\":[1.0933333333333333],\"y\":[0.2145294877687922],\"type\":\"scatter\",\"xaxis\":\"x\",\"yaxis\":\"y\"},{\"legend\":\"legend\",\"legendgroup\":\"pig2rat\",\"marker\":{\"color\":\"#89CCED\",\"line\":{\"color\":\"black\",\"width\":1},\"size\":9,\"symbol\":\"circle\"},\"mode\":\"markers\",\"name\":\"stomach\",\"showlegend\":false,\"x\":[1.1866666666666668],\"y\":[0.1188764567463712],\"type\":\"scatter\",\"xaxis\":\"x\",\"yaxis\":\"y\"},{\"legend\":\"legend\",\"legendgroup\":\"pig2rat\",\"marker\":{\"color\":\"#89CCED\",\"line\":{\"color\":\"black\",\"width\":1},\"size\":9,\"symbol\":\"triangle-down\"},\"mode\":\"markers\",\"name\":\"spleen\",\"showlegend\":false,\"x\":[1.28],\"y\":[0.083324389935829],\"type\":\"scatter\",\"xaxis\":\"x\",\"yaxis\":\"y\"},{\"boxmean\":true,\"boxpoints\":false,\"legend\":\"legend2\",\"legendgroup\":\"pig2rat\",\"line\":{\"color\":\"#89CCED\"},\"name\":\"pig2rat\",\"showlegend\":true,\"x\":[1.6,1.6,1.6,1.6,1.6,1.6,1.6,1.6,1.6,1.6,1.6,1.6],\"y\":[0.9915788173675537,0.8181924786550145,0.7561214476011593,0.7320184289317427,0.6672368080166413,0.5099479567296061,0.41021398324836034,0.32326828926910844,0.2989594930449091,0.2145294877687922,0.1188764567463712,0.083324389935829],\"type\":\"box\",\"xaxis\":\"x\",\"yaxis\":\"y\"},{\"legendgroup\":\"pig2rat\",\"line\":{\"color\":\"#89CCED\",\"dash\":\"dot\"},\"mode\":\"lines\",\"name\":\"pig2rat\",\"showlegend\":false,\"text\":\"95\\u202f% CI mean: [0.48;0.51]\",\"x\":[1.5,1.5],\"y\":[0.4780073054873673,0.5100512454402407],\"type\":\"scatter\",\"xaxis\":\"x\",\"yaxis\":\"y\"},{\"legendgroup\":\"pig2rat\",\"line\":{\"color\":\"#89CCED\"},\"marker\":{\"size\":10,\"symbol\":\"triangle-down-open\"},\"mode\":\"markers\",\"name\":\"pig2rat\",\"showlegend\":false,\"text\":\"95\\u202f% CI mean: [0.48;0.51]\",\"x\":[1.5],\"y\":[0.4780073054873673],\"type\":\"scatter\",\"xaxis\":\"x\",\"yaxis\":\"y\"},{\"legendgroup\":\"pig2rat\",\"line\":{\"color\":\"#89CCED\"},\"marker\":{\"size\":10,\"symbol\":\"triangle-up-open\"},\"mode\":\"markers\",\"name\":\"pig2rat\",\"showlegend\":false,\"text\":\"95\\u202f% CI mean: [0.48;0.51]\",\"x\":[1.5],\"y\":[0.5100512454402407],\"type\":\"scatter\",\"xaxis\":\"x\",\"yaxis\":\"y\"},{\"legendgroup\":\"pig2rat\",\"line\":{\"color\":\"#89CCED\",\"dash\":\"solid\"},\"mode\":\"lines\",\"name\":\"pig2rat\",\"showlegend\":false,\"text\":\"95\\u202f% CI median: [0.42;0.50]\",\"x\":[1.7,1.7],\"y\":[0.4244453364573966,0.4966591590461168],\"type\":\"scatter\",\"xaxis\":\"x\",\"yaxis\":\"y\"},{\"legendgroup\":\"pig2rat\",\"line\":{\"color\":\"#89CCED\"},\"marker\":{\"size\":10,\"symbol\":\"triangle-down\"},\"mode\":\"markers\",\"name\":\"pig2rat\",\"showlegend\":false,\"text\":\"95\\u202f% CI median: [0.42;0.50]\",\"x\":[1.7],\"y\":[0.4244453364573966],\"type\":\"scatter\",\"xaxis\":\"x\",\"yaxis\":\"y\"},{\"legendgroup\":\"pig2rat\",\"line\":{\"color\":\"#89CCED\"},\"marker\":{\"size\":10,\"symbol\":\"triangle-up\"},\"mode\":\"markers\",\"name\":\"pig2rat\",\"showlegend\":false,\"text\":\"95\\u202f% CI median: [0.42;0.50]\",\"x\":[1.7],\"y\":[0.4966591590461168],\"type\":\"scatter\",\"xaxis\":\"x\",\"yaxis\":\"y\"},{\"legend\":\"legend\",\"legendgroup\":\"pig2human\",\"marker\":{\"color\":\"#DDCB76\",\"line\":{\"color\":\"black\",\"width\":1},\"size\":9,\"symbol\":\"triangle-sw\"},\"mode\":\"markers\",\"name\":\"background\",\"showlegend\":false,\"x\":[2.0],\"y\":[0.8893554169546957],\"type\":\"scatter\",\"xaxis\":\"x\",\"yaxis\":\"y\"},{\"legend\":\"legend\",\"legendgroup\":\"pig2human\",\"marker\":{\"color\":\"#DDCB76\",\"line\":{\"color\":\"black\",\"width\":1},\"size\":9,\"symbol\":\"triangle-ne\"},\"mode\":\"markers\",\"name\":\"skin\",\"showlegend\":false,\"x\":[2.0933333333333333],\"y\":[0.7769877315193376],\"type\":\"scatter\",\"xaxis\":\"x\",\"yaxis\":\"y\"},{\"legend\":\"legend\",\"legendgroup\":\"pig2human\",\"marker\":{\"color\":\"#DDCB76\",\"line\":{\"color\":\"black\",\"width\":1},\"size\":9,\"symbol\":\"triangle-right\"},\"mode\":\"markers\",\"name\":\"lung\",\"showlegend\":false,\"x\":[2.1866666666666665],\"y\":[0.6949295885033078],\"type\":\"scatter\",\"xaxis\":\"x\",\"yaxis\":\"y\"},{\"legend\":\"legend\",\"legendgroup\":\"pig2human\",\"marker\":{\"color\":\"#DDCB76\",\"line\":{\"color\":\"black\",\"width\":1},\"size\":9,\"symbol\":\"triangle-left\"},\"mode\":\"markers\",\"name\":\"omentum\",\"showlegend\":false,\"x\":[2.2800000000000002],\"y\":[0.5254830435158391],\"type\":\"scatter\",\"xaxis\":\"x\",\"yaxis\":\"y\"},{\"legend\":\"legend\",\"legendgroup\":\"pig2human\",\"marker\":{\"color\":\"#DDCB76\",\"line\":{\"color\":\"black\",\"width\":1},\"size\":9,\"symbol\":\"circle\"},\"mode\":\"markers\",\"name\":\"stomach\",\"showlegend\":false,\"x\":[2.0],\"y\":[0.4493526455908456],\"type\":\"scatter\",\"xaxis\":\"x\",\"yaxis\":\"y\"},{\"legend\":\"legend\",\"legendgroup\":\"pig2human\",\"marker\":{\"color\":\"#DDCB76\",\"line\":{\"color\":\"black\",\"width\":1},\"size\":9,\"symbol\":\"triangle-up\"},\"mode\":\"markers\",\"name\":\"kidney\",\"showlegend\":false,\"x\":[2.0933333333333333],\"y\":[0.4061450787849089],\"type\":\"scatter\",\"xaxis\":\"x\",\"yaxis\":\"y\"},{\"legend\":\"legend\",\"legendgroup\":\"pig2human\",\"marker\":{\"color\":\"#DDCB76\",\"line\":{\"color\":\"black\",\"width\":1},\"size\":9,\"symbol\":\"triangle-down\"},\"mode\":\"markers\",\"name\":\"spleen\",\"showlegend\":false,\"x\":[2.1866666666666665],\"y\":[0.33701798065255084],\"type\":\"scatter\",\"xaxis\":\"x\",\"yaxis\":\"y\"},{\"legend\":\"legend\",\"legendgroup\":\"pig2human\",\"marker\":{\"color\":\"#DDCB76\",\"line\":{\"color\":\"black\",\"width\":1},\"size\":9,\"symbol\":\"triangle-se\"},\"mode\":\"markers\",\"name\":\"peritoneum\",\"showlegend\":false,\"x\":[2.2800000000000002],\"y\":[0.27730952333093706],\"type\":\"scatter\",\"xaxis\":\"x\",\"yaxis\":\"y\"},{\"legend\":\"legend\",\"legendgroup\":\"pig2human\",\"marker\":{\"color\":\"#DDCB76\",\"line\":{\"color\":\"black\",\"width\":1},\"size\":9,\"symbol\":\"diamond\"},\"mode\":\"markers\",\"name\":\"colon\",\"showlegend\":false,\"x\":[2.0],\"y\":[0.2753436246816682],\"type\":\"scatter\",\"xaxis\":\"x\",\"yaxis\":\"y\"},{\"legend\":\"legend\",\"legendgroup\":\"pig2human\",\"marker\":{\"color\":\"#DDCB76\",\"line\":{\"color\":\"black\",\"width\":1},\"size\":9,\"symbol\":\"square\"},\"mode\":\"markers\",\"name\":\"small_bowel\",\"showlegend\":false,\"x\":[2.0933333333333333],\"y\":[0.2462089839913419],\"type\":\"scatter\",\"xaxis\":\"x\",\"yaxis\":\"y\"},{\"legend\":\"legend\",\"legendgroup\":\"pig2human\",\"marker\":{\"color\":\"#DDCB76\",\"line\":{\"color\":\"black\",\"width\":1},\"size\":9,\"symbol\":\"cross\"},\"mode\":\"markers\",\"name\":\"liver\",\"showlegend\":false,\"x\":[2.1866666666666665],\"y\":[0.17757340899094481],\"type\":\"scatter\",\"xaxis\":\"x\",\"yaxis\":\"y\"},{\"legend\":\"legend\",\"legendgroup\":\"pig2human\",\"marker\":{\"color\":\"#DDCB76\",\"line\":{\"color\":\"black\",\"width\":1},\"size\":9,\"symbol\":\"x\"},\"mode\":\"markers\",\"name\":\"pancreas\",\"showlegend\":false,\"x\":[2.2800000000000002],\"y\":[0.07629250809095983],\"type\":\"scatter\",\"xaxis\":\"x\",\"yaxis\":\"y\"},{\"boxmean\":true,\"boxpoints\":false,\"legend\":\"legend2\",\"legendgroup\":\"pig2human\",\"line\":{\"color\":\"#DDCB76\"},\"name\":\"pig2human\",\"showlegend\":true,\"x\":[2.6,2.6,2.6,2.6,2.6,2.6,2.6,2.6,2.6,2.6,2.6,2.6],\"y\":[0.8893554169546957,0.7769877315193376,0.6949295885033078,0.5254830435158391,0.4493526455908456,0.4061450787849089,0.33701798065255084,0.27730952333093706,0.2753436246816682,0.2462089839913419,0.17757340899094481,0.07629250809095983],\"type\":\"box\",\"xaxis\":\"x\",\"yaxis\":\"y\"},{\"legendgroup\":\"pig2human\",\"line\":{\"color\":\"#DDCB76\",\"dash\":\"dot\"},\"mode\":\"lines\",\"name\":\"pig2human\",\"showlegend\":false,\"text\":\"95\\u202f% CI mean: [0.40;0.45]\",\"x\":[2.5,2.5],\"y\":[0.4015478747373733,0.4532358432315241],\"type\":\"scatter\",\"xaxis\":\"x\",\"yaxis\":\"y\"},{\"legendgroup\":\"pig2human\",\"line\":{\"color\":\"#DDCB76\"},\"marker\":{\"size\":10,\"symbol\":\"triangle-down-open\"},\"mode\":\"markers\",\"name\":\"pig2human\",\"showlegend\":false,\"text\":\"95\\u202f% CI mean: [0.40;0.45]\",\"x\":[2.5],\"y\":[0.4015478747373733],\"type\":\"scatter\",\"xaxis\":\"x\",\"yaxis\":\"y\"},{\"legendgroup\":\"pig2human\",\"line\":{\"color\":\"#DDCB76\"},\"marker\":{\"size\":10,\"symbol\":\"triangle-up-open\"},\"mode\":\"markers\",\"name\":\"pig2human\",\"showlegend\":false,\"text\":\"95\\u202f% CI mean: [0.40;0.45]\",\"x\":[2.5],\"y\":[0.4532358432315241],\"type\":\"scatter\",\"xaxis\":\"x\",\"yaxis\":\"y\"},{\"legendgroup\":\"pig2human\",\"line\":{\"color\":\"#DDCB76\",\"dash\":\"solid\"},\"mode\":\"lines\",\"name\":\"pig2human\",\"showlegend\":false,\"text\":\"95\\u202f% CI median: [0.31;0.46]\",\"x\":[2.7,2.7],\"y\":[0.30852963233721675,0.45911734947849997],\"type\":\"scatter\",\"xaxis\":\"x\",\"yaxis\":\"y\"},{\"legendgroup\":\"pig2human\",\"line\":{\"color\":\"#DDCB76\"},\"marker\":{\"size\":10,\"symbol\":\"triangle-down\"},\"mode\":\"markers\",\"name\":\"pig2human\",\"showlegend\":false,\"text\":\"95\\u202f% CI median: [0.31;0.46]\",\"x\":[2.7],\"y\":[0.30852963233721675],\"type\":\"scatter\",\"xaxis\":\"x\",\"yaxis\":\"y\"},{\"legendgroup\":\"pig2human\",\"line\":{\"color\":\"#DDCB76\"},\"marker\":{\"size\":10,\"symbol\":\"triangle-up\"},\"mode\":\"markers\",\"name\":\"pig2human\",\"showlegend\":false,\"text\":\"95\\u202f% CI median: [0.31;0.46]\",\"x\":[2.7],\"y\":[0.45911734947849997],\"type\":\"scatter\",\"xaxis\":\"x\",\"yaxis\":\"y\"},{\"legend\":\"legend\",\"marker\":{\"color\":\"gray\",\"line\":{\"color\":\"black\",\"width\":1},\"size\":9,\"symbol\":\"circle\"},\"mode\":\"markers\",\"name\":\"stomach\",\"showlegend\":false,\"x\":[null],\"y\":[null],\"type\":\"scatter\",\"xaxis\":\"x2\",\"yaxis\":\"y2\"},{\"legend\":\"legend\",\"marker\":{\"color\":\"gray\",\"line\":{\"color\":\"black\",\"width\":1},\"size\":9,\"symbol\":\"square\"},\"mode\":\"markers\",\"name\":\"small_bowel\",\"showlegend\":false,\"x\":[null],\"y\":[null],\"type\":\"scatter\",\"xaxis\":\"x2\",\"yaxis\":\"y2\"},{\"legend\":\"legend\",\"marker\":{\"color\":\"gray\",\"line\":{\"color\":\"black\",\"width\":1},\"size\":9,\"symbol\":\"diamond\"},\"mode\":\"markers\",\"name\":\"colon\",\"showlegend\":false,\"x\":[null],\"y\":[null],\"type\":\"scatter\",\"xaxis\":\"x2\",\"yaxis\":\"y2\"},{\"legend\":\"legend\",\"marker\":{\"color\":\"gray\",\"line\":{\"color\":\"black\",\"width\":1},\"size\":9,\"symbol\":\"cross\"},\"mode\":\"markers\",\"name\":\"liver\",\"showlegend\":false,\"x\":[null],\"y\":[null],\"type\":\"scatter\",\"xaxis\":\"x2\",\"yaxis\":\"y2\"},{\"legend\":\"legend\",\"marker\":{\"color\":\"gray\",\"line\":{\"color\":\"black\",\"width\":1},\"size\":9,\"symbol\":\"x\"},\"mode\":\"markers\",\"name\":\"pancreas\",\"showlegend\":false,\"x\":[null],\"y\":[null],\"type\":\"scatter\",\"xaxis\":\"x2\",\"yaxis\":\"y2\"},{\"legend\":\"legend\",\"marker\":{\"color\":\"gray\",\"line\":{\"color\":\"black\",\"width\":1},\"size\":9,\"symbol\":\"triangle-up\"},\"mode\":\"markers\",\"name\":\"kidney\",\"showlegend\":false,\"x\":[null],\"y\":[null],\"type\":\"scatter\",\"xaxis\":\"x2\",\"yaxis\":\"y2\"},{\"legend\":\"legend\",\"marker\":{\"color\":\"gray\",\"line\":{\"color\":\"black\",\"width\":1},\"size\":9,\"symbol\":\"triangle-down\"},\"mode\":\"markers\",\"name\":\"spleen\",\"showlegend\":false,\"x\":[null],\"y\":[null],\"type\":\"scatter\",\"xaxis\":\"x2\",\"yaxis\":\"y2\"},{\"legend\":\"legend\",\"marker\":{\"color\":\"gray\",\"line\":{\"color\":\"black\",\"width\":1},\"size\":9,\"symbol\":\"triangle-left\"},\"mode\":\"markers\",\"name\":\"omentum\",\"showlegend\":false,\"x\":[null],\"y\":[null],\"type\":\"scatter\",\"xaxis\":\"x2\",\"yaxis\":\"y2\"},{\"legend\":\"legend\",\"marker\":{\"color\":\"gray\",\"line\":{\"color\":\"black\",\"width\":1},\"size\":9,\"symbol\":\"triangle-right\"},\"mode\":\"markers\",\"name\":\"lung\",\"showlegend\":false,\"x\":[null],\"y\":[null],\"type\":\"scatter\",\"xaxis\":\"x2\",\"yaxis\":\"y2\"},{\"legend\":\"legend\",\"marker\":{\"color\":\"gray\",\"line\":{\"color\":\"black\",\"width\":1},\"size\":9,\"symbol\":\"triangle-ne\"},\"mode\":\"markers\",\"name\":\"skin\",\"showlegend\":false,\"x\":[null],\"y\":[null],\"type\":\"scatter\",\"xaxis\":\"x2\",\"yaxis\":\"y2\"},{\"legend\":\"legend\",\"marker\":{\"color\":\"gray\",\"line\":{\"color\":\"black\",\"width\":1},\"size\":9,\"symbol\":\"triangle-se\"},\"mode\":\"markers\",\"name\":\"peritoneum\",\"showlegend\":false,\"x\":[null],\"y\":[null],\"type\":\"scatter\",\"xaxis\":\"x2\",\"yaxis\":\"y2\"},{\"legend\":\"legend\",\"marker\":{\"color\":\"gray\",\"line\":{\"color\":\"black\",\"width\":1},\"size\":9,\"symbol\":\"triangle-sw\"},\"mode\":\"markers\",\"name\":\"background\",\"showlegend\":false,\"x\":[null],\"y\":[null],\"type\":\"scatter\",\"xaxis\":\"x2\",\"yaxis\":\"y2\"},{\"legend\":\"legend\",\"legendgroup\":\"rat2rat\",\"marker\":{\"color\":\"#89CCED\",\"line\":{\"color\":\"black\",\"width\":1},\"size\":9,\"symbol\":\"triangle-right\"},\"mode\":\"markers\",\"name\":\"lung\",\"showlegend\":false,\"x\":[0.0],\"y\":[0.9982184935838749],\"type\":\"scatter\",\"xaxis\":\"x2\",\"yaxis\":\"y2\"},{\"legend\":\"legend\",\"legendgroup\":\"rat2rat\",\"marker\":{\"color\":\"#89CCED\",\"line\":{\"color\":\"black\",\"width\":1},\"size\":9,\"symbol\":\"triangle-sw\"},\"mode\":\"markers\",\"name\":\"background\",\"showlegend\":false,\"x\":[0.09333333333333334],\"y\":[0.9863220770021162],\"type\":\"scatter\",\"xaxis\":\"x2\",\"yaxis\":\"y2\"},{\"legend\":\"legend\",\"legendgroup\":\"rat2rat\",\"marker\":{\"color\":\"#89CCED\",\"line\":{\"color\":\"black\",\"width\":1},\"size\":9,\"symbol\":\"triangle-se\"},\"mode\":\"markers\",\"name\":\"peritoneum\",\"showlegend\":false,\"x\":[0.18666666666666668],\"y\":[0.9818943279491322],\"type\":\"scatter\",\"xaxis\":\"x2\",\"yaxis\":\"y2\"},{\"legend\":\"legend\",\"legendgroup\":\"rat2rat\",\"marker\":{\"color\":\"#89CCED\",\"line\":{\"color\":\"black\",\"width\":1},\"size\":9,\"symbol\":\"triangle-up\"},\"mode\":\"markers\",\"name\":\"kidney\",\"showlegend\":false,\"x\":[0.28],\"y\":[0.9556971860455943],\"type\":\"scatter\",\"xaxis\":\"x2\",\"yaxis\":\"y2\"},{\"legend\":\"legend\",\"legendgroup\":\"rat2rat\",\"marker\":{\"color\":\"#89CCED\",\"line\":{\"color\":\"black\",\"width\":1},\"size\":9,\"symbol\":\"square\"},\"mode\":\"markers\",\"name\":\"small_bowel\",\"showlegend\":false,\"x\":[0.0],\"y\":[0.945680473660987],\"type\":\"scatter\",\"xaxis\":\"x2\",\"yaxis\":\"y2\"},{\"legend\":\"legend\",\"legendgroup\":\"rat2rat\",\"marker\":{\"color\":\"#89CCED\",\"line\":{\"color\":\"black\",\"width\":1},\"size\":9,\"symbol\":\"cross\"},\"mode\":\"markers\",\"name\":\"liver\",\"showlegend\":false,\"x\":[0.09333333333333334],\"y\":[0.9293879200739125],\"type\":\"scatter\",\"xaxis\":\"x2\",\"yaxis\":\"y2\"},{\"legend\":\"legend\",\"legendgroup\":\"rat2rat\",\"marker\":{\"color\":\"#89CCED\",\"line\":{\"color\":\"black\",\"width\":1},\"size\":9,\"symbol\":\"triangle-ne\"},\"mode\":\"markers\",\"name\":\"skin\",\"showlegend\":false,\"x\":[0.18666666666666668],\"y\":[0.926875233524407],\"type\":\"scatter\",\"xaxis\":\"x2\",\"yaxis\":\"y2\"},{\"legend\":\"legend\",\"legendgroup\":\"rat2rat\",\"marker\":{\"color\":\"#89CCED\",\"line\":{\"color\":\"black\",\"width\":1},\"size\":9,\"symbol\":\"triangle-down\"},\"mode\":\"markers\",\"name\":\"spleen\",\"showlegend\":false,\"x\":[0.28],\"y\":[0.9059759352878806],\"type\":\"scatter\",\"xaxis\":\"x2\",\"yaxis\":\"y2\"},{\"legend\":\"legend\",\"legendgroup\":\"rat2rat\",\"marker\":{\"color\":\"#89CCED\",\"line\":{\"color\":\"black\",\"width\":1},\"size\":9,\"symbol\":\"circle\"},\"mode\":\"markers\",\"name\":\"stomach\",\"showlegend\":false,\"x\":[0.0],\"y\":[0.8673679939620288],\"type\":\"scatter\",\"xaxis\":\"x2\",\"yaxis\":\"y2\"},{\"legend\":\"legend\",\"legendgroup\":\"rat2rat\",\"marker\":{\"color\":\"#89CCED\",\"line\":{\"color\":\"black\",\"width\":1},\"size\":9,\"symbol\":\"triangle-left\"},\"mode\":\"markers\",\"name\":\"omentum\",\"showlegend\":false,\"x\":[0.09333333333333334],\"y\":[0.8359129599003963],\"type\":\"scatter\",\"xaxis\":\"x2\",\"yaxis\":\"y2\"},{\"legend\":\"legend\",\"legendgroup\":\"rat2rat\",\"marker\":{\"color\":\"#89CCED\",\"line\":{\"color\":\"black\",\"width\":1},\"size\":9,\"symbol\":\"diamond\"},\"mode\":\"markers\",\"name\":\"colon\",\"showlegend\":false,\"x\":[0.18666666666666668],\"y\":[0.7973435398560184],\"type\":\"scatter\",\"xaxis\":\"x2\",\"yaxis\":\"y2\"},{\"legend\":\"legend\",\"legendgroup\":\"rat2rat\",\"marker\":{\"color\":\"#89CCED\",\"line\":{\"color\":\"black\",\"width\":1},\"size\":9,\"symbol\":\"x\"},\"mode\":\"markers\",\"name\":\"pancreas\",\"showlegend\":false,\"x\":[0.28],\"y\":[0.7067730538137666],\"type\":\"scatter\",\"xaxis\":\"x2\",\"yaxis\":\"y2\"},{\"boxmean\":true,\"boxpoints\":false,\"legend\":\"legend2\",\"legendgroup\":\"rat2rat\",\"line\":{\"color\":\"#89CCED\"},\"name\":\"rat2rat\",\"showlegend\":false,\"x\":[0.6,0.6,0.6,0.6,0.6,0.6,0.6,0.6,0.6,0.6,0.6,0.6],\"y\":[0.9982184935838749,0.9863220770021162,0.9818943279491322,0.9556971860455943,0.945680473660987,0.9293879200739125,0.926875233524407,0.9059759352878806,0.8673679939620288,0.8359129599003963,0.7973435398560184,0.7067730538137666],\"type\":\"box\",\"xaxis\":\"x2\",\"yaxis\":\"y2\"},{\"legendgroup\":\"rat2rat\",\"line\":{\"color\":\"#89CCED\",\"dash\":\"dot\"},\"mode\":\"lines\",\"name\":\"rat2rat\",\"showlegend\":false,\"text\":\"95\\u202f% CI mean: [0.89;0.91]\",\"x\":[0.5,0.5],\"y\":[0.8917090714982059,0.9149293959546282],\"type\":\"scatter\",\"xaxis\":\"x2\",\"yaxis\":\"y2\"},{\"legendgroup\":\"rat2rat\",\"line\":{\"color\":\"#89CCED\"},\"marker\":{\"size\":10,\"symbol\":\"triangle-down-open\"},\"mode\":\"markers\",\"name\":\"rat2rat\",\"showlegend\":false,\"text\":\"95\\u202f% CI mean: [0.89;0.91]\",\"x\":[0.5],\"y\":[0.8917090714982059],\"type\":\"scatter\",\"xaxis\":\"x2\",\"yaxis\":\"y2\"},{\"legendgroup\":\"rat2rat\",\"line\":{\"color\":\"#89CCED\"},\"marker\":{\"size\":10,\"symbol\":\"triangle-up-open\"},\"mode\":\"markers\",\"name\":\"rat2rat\",\"showlegend\":false,\"text\":\"95\\u202f% CI mean: [0.89;0.91]\",\"x\":[0.5],\"y\":[0.9149293959546282],\"type\":\"scatter\",\"xaxis\":\"x2\",\"yaxis\":\"y2\"},{\"legendgroup\":\"rat2rat\",\"line\":{\"color\":\"#89CCED\",\"dash\":\"solid\"},\"mode\":\"lines\",\"name\":\"rat2rat\",\"showlegend\":false,\"text\":\"95\\u202f% CI median: [0.91;0.94]\",\"x\":[0.7,0.7],\"y\":[0.914179322050255,0.9393464430841509],\"type\":\"scatter\",\"xaxis\":\"x2\",\"yaxis\":\"y2\"},{\"legendgroup\":\"rat2rat\",\"line\":{\"color\":\"#89CCED\"},\"marker\":{\"size\":10,\"symbol\":\"triangle-down\"},\"mode\":\"markers\",\"name\":\"rat2rat\",\"showlegend\":false,\"text\":\"95\\u202f% CI median: [0.91;0.94]\",\"x\":[0.7],\"y\":[0.914179322050255],\"type\":\"scatter\",\"xaxis\":\"x2\",\"yaxis\":\"y2\"},{\"legendgroup\":\"rat2rat\",\"line\":{\"color\":\"#89CCED\"},\"marker\":{\"size\":10,\"symbol\":\"triangle-up\"},\"mode\":\"markers\",\"name\":\"rat2rat\",\"showlegend\":false,\"text\":\"95\\u202f% CI median: [0.91;0.94]\",\"x\":[0.7],\"y\":[0.9393464430841509],\"type\":\"scatter\",\"xaxis\":\"x2\",\"yaxis\":\"y2\"},{\"legend\":\"legend\",\"legendgroup\":\"rat2pig\",\"marker\":{\"color\":\"#44AA99\",\"line\":{\"color\":\"black\",\"width\":1},\"size\":9,\"symbol\":\"cross\"},\"mode\":\"markers\",\"name\":\"liver\",\"showlegend\":false,\"x\":[1.0],\"y\":[0.8586799095828251],\"type\":\"scatter\",\"xaxis\":\"x2\",\"yaxis\":\"y2\"},{\"legend\":\"legend\",\"legendgroup\":\"rat2pig\",\"marker\":{\"color\":\"#44AA99\",\"line\":{\"color\":\"black\",\"width\":1},\"size\":9,\"symbol\":\"square\"},\"mode\":\"markers\",\"name\":\"small_bowel\",\"showlegend\":false,\"x\":[1.0933333333333333],\"y\":[0.7773241063016958],\"type\":\"scatter\",\"xaxis\":\"x2\",\"yaxis\":\"y2\"},{\"legend\":\"legend\",\"legendgroup\":\"rat2pig\",\"marker\":{\"color\":\"#44AA99\",\"line\":{\"color\":\"black\",\"width\":1},\"size\":9,\"symbol\":\"triangle-sw\"},\"mode\":\"markers\",\"name\":\"background\",\"showlegend\":false,\"x\":[1.1866666666666668],\"y\":[0.7661452357887634],\"type\":\"scatter\",\"xaxis\":\"x2\",\"yaxis\":\"y2\"},{\"legend\":\"legend\",\"legendgroup\":\"rat2pig\",\"marker\":{\"color\":\"#44AA99\",\"line\":{\"color\":\"black\",\"width\":1},\"size\":9,\"symbol\":\"triangle-down\"},\"mode\":\"markers\",\"name\":\"spleen\",\"showlegend\":false,\"x\":[1.28],\"y\":[0.6446468144278165],\"type\":\"scatter\",\"xaxis\":\"x2\",\"yaxis\":\"y2\"},{\"legend\":\"legend\",\"legendgroup\":\"rat2pig\",\"marker\":{\"color\":\"#44AA99\",\"line\":{\"color\":\"black\",\"width\":1},\"size\":9,\"symbol\":\"triangle-right\"},\"mode\":\"markers\",\"name\":\"lung\",\"showlegend\":false,\"x\":[1.0],\"y\":[0.567678259359502],\"type\":\"scatter\",\"xaxis\":\"x2\",\"yaxis\":\"y2\"},{\"legend\":\"legend\",\"legendgroup\":\"rat2pig\",\"marker\":{\"color\":\"#44AA99\",\"line\":{\"color\":\"black\",\"width\":1},\"size\":9,\"symbol\":\"triangle-ne\"},\"mode\":\"markers\",\"name\":\"skin\",\"showlegend\":false,\"x\":[1.0933333333333333],\"y\":[0.49445271446456157],\"type\":\"scatter\",\"xaxis\":\"x2\",\"yaxis\":\"y2\"},{\"legend\":\"legend\",\"legendgroup\":\"rat2pig\",\"marker\":{\"color\":\"#44AA99\",\"line\":{\"color\":\"black\",\"width\":1},\"size\":9,\"symbol\":\"diamond\"},\"mode\":\"markers\",\"name\":\"colon\",\"showlegend\":false,\"x\":[1.1866666666666668],\"y\":[0.41133150130268703],\"type\":\"scatter\",\"xaxis\":\"x2\",\"yaxis\":\"y2\"},{\"legend\":\"legend\",\"legendgroup\":\"rat2pig\",\"marker\":{\"color\":\"#44AA99\",\"line\":{\"color\":\"black\",\"width\":1},\"size\":9,\"symbol\":\"triangle-se\"},\"mode\":\"markers\",\"name\":\"peritoneum\",\"showlegend\":false,\"x\":[1.28],\"y\":[0.31887989421640156],\"type\":\"scatter\",\"xaxis\":\"x2\",\"yaxis\":\"y2\"},{\"legend\":\"legend\",\"legendgroup\":\"rat2pig\",\"marker\":{\"color\":\"#44AA99\",\"line\":{\"color\":\"black\",\"width\":1},\"size\":9,\"symbol\":\"x\"},\"mode\":\"markers\",\"name\":\"pancreas\",\"showlegend\":false,\"x\":[1.0],\"y\":[0.2684293582846248],\"type\":\"scatter\",\"xaxis\":\"x2\",\"yaxis\":\"y2\"},{\"legend\":\"legend\",\"legendgroup\":\"rat2pig\",\"marker\":{\"color\":\"#44AA99\",\"line\":{\"color\":\"black\",\"width\":1},\"size\":9,\"symbol\":\"triangle-left\"},\"mode\":\"markers\",\"name\":\"omentum\",\"showlegend\":false,\"x\":[1.0933333333333333],\"y\":[0.17159051921221805],\"type\":\"scatter\",\"xaxis\":\"x2\",\"yaxis\":\"y2\"},{\"legend\":\"legend\",\"legendgroup\":\"rat2pig\",\"marker\":{\"color\":\"#44AA99\",\"line\":{\"color\":\"black\",\"width\":1},\"size\":9,\"symbol\":\"circle\"},\"mode\":\"markers\",\"name\":\"stomach\",\"showlegend\":false,\"x\":[1.1866666666666668],\"y\":[0.03753220095271839],\"type\":\"scatter\",\"xaxis\":\"x2\",\"yaxis\":\"y2\"},{\"legend\":\"legend\",\"legendgroup\":\"rat2pig\",\"marker\":{\"color\":\"#44AA99\",\"line\":{\"color\":\"black\",\"width\":1},\"size\":9,\"symbol\":\"triangle-up\"},\"mode\":\"markers\",\"name\":\"kidney\",\"showlegend\":false,\"x\":[1.28],\"y\":[0.0003312176766080989],\"type\":\"scatter\",\"xaxis\":\"x2\",\"yaxis\":\"y2\"},{\"boxmean\":true,\"boxpoints\":false,\"legend\":\"legend2\",\"legendgroup\":\"rat2pig\",\"line\":{\"color\":\"#44AA99\"},\"name\":\"rat2pig\",\"showlegend\":false,\"x\":[1.6,1.6,1.6,1.6,1.6,1.6,1.6,1.6,1.6,1.6,1.6,1.6],\"y\":[0.8586799095828251,0.7773241063016958,0.7661452357887634,0.6446468144278165,0.567678259359502,0.49445271446456157,0.41133150130268703,0.31887989421640156,0.2684293582846248,0.17159051921221805,0.03753220095271839,0.0003312176766080989],\"type\":\"box\",\"xaxis\":\"x2\",\"yaxis\":\"y2\"},{\"legendgroup\":\"rat2pig\",\"line\":{\"color\":\"#44AA99\",\"dash\":\"dot\"},\"mode\":\"lines\",\"name\":\"rat2pig\",\"showlegend\":false,\"text\":\"95\\u202f% CI mean: [0.41;0.47]\",\"x\":[1.5,1.5],\"y\":[0.4128083309474934,0.4716405592802705],\"type\":\"scatter\",\"xaxis\":\"x2\",\"yaxis\":\"y2\"},{\"legendgroup\":\"rat2pig\",\"line\":{\"color\":\"#44AA99\"},\"marker\":{\"size\":10,\"symbol\":\"triangle-down-open\"},\"mode\":\"markers\",\"name\":\"rat2pig\",\"showlegend\":false,\"text\":\"95\\u202f% CI mean: [0.41;0.47]\",\"x\":[1.5],\"y\":[0.4128083309474934],\"type\":\"scatter\",\"xaxis\":\"x2\",\"yaxis\":\"y2\"},{\"legendgroup\":\"rat2pig\",\"line\":{\"color\":\"#44AA99\"},\"marker\":{\"size\":10,\"symbol\":\"triangle-up-open\"},\"mode\":\"markers\",\"name\":\"rat2pig\",\"showlegend\":false,\"text\":\"95\\u202f% CI mean: [0.41;0.47]\",\"x\":[1.5],\"y\":[0.4716405592802705],\"type\":\"scatter\",\"xaxis\":\"x2\",\"yaxis\":\"y2\"},{\"legendgroup\":\"rat2pig\",\"line\":{\"color\":\"#44AA99\",\"dash\":\"solid\"},\"mode\":\"lines\",\"name\":\"rat2pig\",\"showlegend\":false,\"text\":\"95\\u202f% CI median: [0.36;0.51]\",\"x\":[1.7,1.7],\"y\":[0.36320182981079274,0.5091000980869921],\"type\":\"scatter\",\"xaxis\":\"x2\",\"yaxis\":\"y2\"},{\"legendgroup\":\"rat2pig\",\"line\":{\"color\":\"#44AA99\"},\"marker\":{\"size\":10,\"symbol\":\"triangle-down\"},\"mode\":\"markers\",\"name\":\"rat2pig\",\"showlegend\":false,\"text\":\"95\\u202f% CI median: [0.36;0.51]\",\"x\":[1.7],\"y\":[0.36320182981079274],\"type\":\"scatter\",\"xaxis\":\"x2\",\"yaxis\":\"y2\"},{\"legendgroup\":\"rat2pig\",\"line\":{\"color\":\"#44AA99\"},\"marker\":{\"size\":10,\"symbol\":\"triangle-up\"},\"mode\":\"markers\",\"name\":\"rat2pig\",\"showlegend\":false,\"text\":\"95\\u202f% CI median: [0.36;0.51]\",\"x\":[1.7],\"y\":[0.5091000980869921],\"type\":\"scatter\",\"xaxis\":\"x2\",\"yaxis\":\"y2\"},{\"legend\":\"legend\",\"legendgroup\":\"rat2human\",\"marker\":{\"color\":\"#DDCB76\",\"line\":{\"color\":\"black\",\"width\":1},\"size\":9,\"symbol\":\"triangle-sw\"},\"mode\":\"markers\",\"name\":\"background\",\"showlegend\":false,\"x\":[2.0],\"y\":[0.8191017240419721],\"type\":\"scatter\",\"xaxis\":\"x2\",\"yaxis\":\"y2\"},{\"legend\":\"legend\",\"legendgroup\":\"rat2human\",\"marker\":{\"color\":\"#DDCB76\",\"line\":{\"color\":\"black\",\"width\":1},\"size\":9,\"symbol\":\"triangle-left\"},\"mode\":\"markers\",\"name\":\"omentum\",\"showlegend\":false,\"x\":[2.0933333333333333],\"y\":[0.5719281933179229],\"type\":\"scatter\",\"xaxis\":\"x2\",\"yaxis\":\"y2\"},{\"legend\":\"legend\",\"legendgroup\":\"rat2human\",\"marker\":{\"color\":\"#DDCB76\",\"line\":{\"color\":\"black\",\"width\":1},\"size\":9,\"symbol\":\"triangle-down\"},\"mode\":\"markers\",\"name\":\"spleen\",\"showlegend\":false,\"x\":[2.1866666666666665],\"y\":[0.5562438013808181],\"type\":\"scatter\",\"xaxis\":\"x2\",\"yaxis\":\"y2\"},{\"legend\":\"legend\",\"legendgroup\":\"rat2human\",\"marker\":{\"color\":\"#DDCB76\",\"line\":{\"color\":\"black\",\"width\":1},\"size\":9,\"symbol\":\"triangle-ne\"},\"mode\":\"markers\",\"name\":\"skin\",\"showlegend\":false,\"x\":[2.2800000000000002],\"y\":[0.5196865464072246],\"type\":\"scatter\",\"xaxis\":\"x2\",\"yaxis\":\"y2\"},{\"legend\":\"legend\",\"legendgroup\":\"rat2human\",\"marker\":{\"color\":\"#DDCB76\",\"line\":{\"color\":\"black\",\"width\":1},\"size\":9,\"symbol\":\"cross\"},\"mode\":\"markers\",\"name\":\"liver\",\"showlegend\":false,\"x\":[2.0],\"y\":[0.481998285788132],\"type\":\"scatter\",\"xaxis\":\"x2\",\"yaxis\":\"y2\"},{\"legend\":\"legend\",\"legendgroup\":\"rat2human\",\"marker\":{\"color\":\"#DDCB76\",\"line\":{\"color\":\"black\",\"width\":1},\"size\":9,\"symbol\":\"square\"},\"mode\":\"markers\",\"name\":\"small_bowel\",\"showlegend\":false,\"x\":[2.0933333333333333],\"y\":[0.40765903371946094],\"type\":\"scatter\",\"xaxis\":\"x2\",\"yaxis\":\"y2\"},{\"legend\":\"legend\",\"legendgroup\":\"rat2human\",\"marker\":{\"color\":\"#DDCB76\",\"line\":{\"color\":\"black\",\"width\":1},\"size\":9,\"symbol\":\"triangle-right\"},\"mode\":\"markers\",\"name\":\"lung\",\"showlegend\":false,\"x\":[2.1866666666666665],\"y\":[0.31568941432568765],\"type\":\"scatter\",\"xaxis\":\"x2\",\"yaxis\":\"y2\"},{\"legend\":\"legend\",\"legendgroup\":\"rat2human\",\"marker\":{\"color\":\"#DDCB76\",\"line\":{\"color\":\"black\",\"width\":1},\"size\":9,\"symbol\":\"triangle-se\"},\"mode\":\"markers\",\"name\":\"peritoneum\",\"showlegend\":false,\"x\":[2.2800000000000002],\"y\":[0.14236350730262215],\"type\":\"scatter\",\"xaxis\":\"x2\",\"yaxis\":\"y2\"},{\"legend\":\"legend\",\"legendgroup\":\"rat2human\",\"marker\":{\"color\":\"#DDCB76\",\"line\":{\"color\":\"black\",\"width\":1},\"size\":9,\"symbol\":\"circle\"},\"mode\":\"markers\",\"name\":\"stomach\",\"showlegend\":false,\"x\":[2.0],\"y\":[0.013512631947402095],\"type\":\"scatter\",\"xaxis\":\"x2\",\"yaxis\":\"y2\"},{\"legend\":\"legend\",\"legendgroup\":\"rat2human\",\"marker\":{\"color\":\"#DDCB76\",\"line\":{\"color\":\"black\",\"width\":1},\"size\":9,\"symbol\":\"x\"},\"mode\":\"markers\",\"name\":\"pancreas\",\"showlegend\":false,\"x\":[2.0933333333333333],\"y\":[0.008102653741092354],\"type\":\"scatter\",\"xaxis\":\"x2\",\"yaxis\":\"y2\"},{\"legend\":\"legend\",\"legendgroup\":\"rat2human\",\"marker\":{\"color\":\"#DDCB76\",\"line\":{\"color\":\"black\",\"width\":1},\"size\":9,\"symbol\":\"diamond\"},\"mode\":\"markers\",\"name\":\"colon\",\"showlegend\":false,\"x\":[2.1866666666666665],\"y\":[0.0018516459845488505],\"type\":\"scatter\",\"xaxis\":\"x2\",\"yaxis\":\"y2\"},{\"legend\":\"legend\",\"legendgroup\":\"rat2human\",\"marker\":{\"color\":\"#DDCB76\",\"line\":{\"color\":\"black\",\"width\":1},\"size\":9,\"symbol\":\"triangle-up\"},\"mode\":\"markers\",\"name\":\"kidney\",\"showlegend\":false,\"x\":[2.2800000000000002],\"y\":[0.0018059804916612681],\"type\":\"scatter\",\"xaxis\":\"x2\",\"yaxis\":\"y2\"},{\"boxmean\":true,\"boxpoints\":false,\"legend\":\"legend2\",\"legendgroup\":\"rat2human\",\"line\":{\"color\":\"#DDCB76\"},\"name\":\"rat2human\",\"showlegend\":false,\"x\":[2.6,2.6,2.6,2.6,2.6,2.6,2.6,2.6,2.6,2.6,2.6,2.6],\"y\":[0.8191017240419721,0.5719281933179229,0.5562438013808181,0.5196865464072246,0.481998285788132,0.40765903371946094,0.31568941432568765,0.14236350730262215,0.013512631947402095,0.008102653741092354,0.0018516459845488505,0.0018059804916612681],\"type\":\"box\",\"xaxis\":\"x2\",\"yaxis\":\"y2\"},{\"legendgroup\":\"rat2human\",\"line\":{\"color\":\"#DDCB76\",\"dash\":\"dot\"},\"mode\":\"lines\",\"name\":\"rat2human\",\"showlegend\":false,\"text\":\"95\\u202f% CI mean: [0.30;0.34]\",\"x\":[2.5,2.5],\"y\":[0.29944882369926545,0.342633402807684],\"type\":\"scatter\",\"xaxis\":\"x2\",\"yaxis\":\"y2\"},{\"legendgroup\":\"rat2human\",\"line\":{\"color\":\"#DDCB76\"},\"marker\":{\"size\":10,\"symbol\":\"triangle-down-open\"},\"mode\":\"markers\",\"name\":\"rat2human\",\"showlegend\":false,\"text\":\"95\\u202f% CI mean: [0.30;0.34]\",\"x\":[2.5],\"y\":[0.29944882369926545],\"type\":\"scatter\",\"xaxis\":\"x2\",\"yaxis\":\"y2\"},{\"legendgroup\":\"rat2human\",\"line\":{\"color\":\"#DDCB76\"},\"marker\":{\"size\":10,\"symbol\":\"triangle-up-open\"},\"mode\":\"markers\",\"name\":\"rat2human\",\"showlegend\":false,\"text\":\"95\\u202f% CI mean: [0.30;0.34]\",\"x\":[2.5],\"y\":[0.342633402807684],\"type\":\"scatter\",\"xaxis\":\"x2\",\"yaxis\":\"y2\"},{\"legendgroup\":\"rat2human\",\"line\":{\"color\":\"#DDCB76\",\"dash\":\"solid\"},\"mode\":\"lines\",\"name\":\"rat2human\",\"showlegend\":false,\"text\":\"95\\u202f% CI median: [0.28;0.44]\",\"x\":[2.7,2.7],\"y\":[0.2841945054761819,0.4350122327615262],\"type\":\"scatter\",\"xaxis\":\"x2\",\"yaxis\":\"y2\"},{\"legendgroup\":\"rat2human\",\"line\":{\"color\":\"#DDCB76\"},\"marker\":{\"size\":10,\"symbol\":\"triangle-down\"},\"mode\":\"markers\",\"name\":\"rat2human\",\"showlegend\":false,\"text\":\"95\\u202f% CI median: [0.28;0.44]\",\"x\":[2.7],\"y\":[0.2841945054761819],\"type\":\"scatter\",\"xaxis\":\"x2\",\"yaxis\":\"y2\"},{\"legendgroup\":\"rat2human\",\"line\":{\"color\":\"#DDCB76\"},\"marker\":{\"size\":10,\"symbol\":\"triangle-up\"},\"mode\":\"markers\",\"name\":\"rat2human\",\"showlegend\":false,\"text\":\"95\\u202f% CI median: [0.28;0.44]\",\"x\":[2.7],\"y\":[0.4350122327615262],\"type\":\"scatter\",\"xaxis\":\"x2\",\"yaxis\":\"y2\"},{\"legend\":\"legend\",\"marker\":{\"color\":\"gray\",\"line\":{\"color\":\"black\",\"width\":1},\"size\":9,\"symbol\":\"circle\"},\"mode\":\"markers\",\"name\":\"stomach\",\"showlegend\":false,\"x\":[null],\"y\":[null],\"type\":\"scatter\",\"xaxis\":\"x3\",\"yaxis\":\"y3\"},{\"legend\":\"legend\",\"marker\":{\"color\":\"gray\",\"line\":{\"color\":\"black\",\"width\":1},\"size\":9,\"symbol\":\"square\"},\"mode\":\"markers\",\"name\":\"small_bowel\",\"showlegend\":false,\"x\":[null],\"y\":[null],\"type\":\"scatter\",\"xaxis\":\"x3\",\"yaxis\":\"y3\"},{\"legend\":\"legend\",\"marker\":{\"color\":\"gray\",\"line\":{\"color\":\"black\",\"width\":1},\"size\":9,\"symbol\":\"diamond\"},\"mode\":\"markers\",\"name\":\"colon\",\"showlegend\":false,\"x\":[null],\"y\":[null],\"type\":\"scatter\",\"xaxis\":\"x3\",\"yaxis\":\"y3\"},{\"legend\":\"legend\",\"marker\":{\"color\":\"gray\",\"line\":{\"color\":\"black\",\"width\":1},\"size\":9,\"symbol\":\"cross\"},\"mode\":\"markers\",\"name\":\"liver\",\"showlegend\":false,\"x\":[null],\"y\":[null],\"type\":\"scatter\",\"xaxis\":\"x3\",\"yaxis\":\"y3\"},{\"legend\":\"legend\",\"marker\":{\"color\":\"gray\",\"line\":{\"color\":\"black\",\"width\":1},\"size\":9,\"symbol\":\"x\"},\"mode\":\"markers\",\"name\":\"pancreas\",\"showlegend\":false,\"x\":[null],\"y\":[null],\"type\":\"scatter\",\"xaxis\":\"x3\",\"yaxis\":\"y3\"},{\"legend\":\"legend\",\"marker\":{\"color\":\"gray\",\"line\":{\"color\":\"black\",\"width\":1},\"size\":9,\"symbol\":\"triangle-up\"},\"mode\":\"markers\",\"name\":\"kidney\",\"showlegend\":false,\"x\":[null],\"y\":[null],\"type\":\"scatter\",\"xaxis\":\"x3\",\"yaxis\":\"y3\"},{\"legend\":\"legend\",\"marker\":{\"color\":\"gray\",\"line\":{\"color\":\"black\",\"width\":1},\"size\":9,\"symbol\":\"triangle-down\"},\"mode\":\"markers\",\"name\":\"spleen\",\"showlegend\":false,\"x\":[null],\"y\":[null],\"type\":\"scatter\",\"xaxis\":\"x3\",\"yaxis\":\"y3\"},{\"legend\":\"legend\",\"marker\":{\"color\":\"gray\",\"line\":{\"color\":\"black\",\"width\":1},\"size\":9,\"symbol\":\"triangle-left\"},\"mode\":\"markers\",\"name\":\"omentum\",\"showlegend\":false,\"x\":[null],\"y\":[null],\"type\":\"scatter\",\"xaxis\":\"x3\",\"yaxis\":\"y3\"},{\"legend\":\"legend\",\"marker\":{\"color\":\"gray\",\"line\":{\"color\":\"black\",\"width\":1},\"size\":9,\"symbol\":\"triangle-right\"},\"mode\":\"markers\",\"name\":\"lung\",\"showlegend\":false,\"x\":[null],\"y\":[null],\"type\":\"scatter\",\"xaxis\":\"x3\",\"yaxis\":\"y3\"},{\"legend\":\"legend\",\"marker\":{\"color\":\"gray\",\"line\":{\"color\":\"black\",\"width\":1},\"size\":9,\"symbol\":\"triangle-ne\"},\"mode\":\"markers\",\"name\":\"skin\",\"showlegend\":false,\"x\":[null],\"y\":[null],\"type\":\"scatter\",\"xaxis\":\"x3\",\"yaxis\":\"y3\"},{\"legend\":\"legend\",\"marker\":{\"color\":\"gray\",\"line\":{\"color\":\"black\",\"width\":1},\"size\":9,\"symbol\":\"triangle-se\"},\"mode\":\"markers\",\"name\":\"peritoneum\",\"showlegend\":false,\"x\":[null],\"y\":[null],\"type\":\"scatter\",\"xaxis\":\"x3\",\"yaxis\":\"y3\"},{\"legend\":\"legend\",\"marker\":{\"color\":\"gray\",\"line\":{\"color\":\"black\",\"width\":1},\"size\":9,\"symbol\":\"triangle-sw\"},\"mode\":\"markers\",\"name\":\"background\",\"showlegend\":false,\"x\":[null],\"y\":[null],\"type\":\"scatter\",\"xaxis\":\"x3\",\"yaxis\":\"y3\"},{\"legend\":\"legend\",\"legendgroup\":\"human2human\",\"marker\":{\"color\":\"#DDCB76\",\"line\":{\"color\":\"black\",\"width\":1},\"size\":9,\"symbol\":\"triangle-sw\"},\"mode\":\"markers\",\"name\":\"background\",\"showlegend\":false,\"x\":[0.0],\"y\":[0.9862582523726159],\"type\":\"scatter\",\"xaxis\":\"x3\",\"yaxis\":\"y3\"},{\"legend\":\"legend\",\"legendgroup\":\"human2human\",\"marker\":{\"color\":\"#DDCB76\",\"line\":{\"color\":\"black\",\"width\":1},\"size\":9,\"symbol\":\"triangle-up\"},\"mode\":\"markers\",\"name\":\"kidney\",\"showlegend\":false,\"x\":[0.09333333333333334],\"y\":[0.9554006728845612],\"type\":\"scatter\",\"xaxis\":\"x3\",\"yaxis\":\"y3\"},{\"legend\":\"legend\",\"legendgroup\":\"human2human\",\"marker\":{\"color\":\"#DDCB76\",\"line\":{\"color\":\"black\",\"width\":1},\"size\":9,\"symbol\":\"cross\"},\"mode\":\"markers\",\"name\":\"liver\",\"showlegend\":false,\"x\":[0.18666666666666668],\"y\":[0.936957227874204],\"type\":\"scatter\",\"xaxis\":\"x3\",\"yaxis\":\"y3\"},{\"legend\":\"legend\",\"legendgroup\":\"human2human\",\"marker\":{\"color\":\"#DDCB76\",\"line\":{\"color\":\"black\",\"width\":1},\"size\":9,\"symbol\":\"triangle-left\"},\"mode\":\"markers\",\"name\":\"omentum\",\"showlegend\":false,\"x\":[0.28],\"y\":[0.8836436076854066],\"type\":\"scatter\",\"xaxis\":\"x3\",\"yaxis\":\"y3\"},{\"legend\":\"legend\",\"legendgroup\":\"human2human\",\"marker\":{\"color\":\"#DDCB76\",\"line\":{\"color\":\"black\",\"width\":1},\"size\":9,\"symbol\":\"triangle-ne\"},\"mode\":\"markers\",\"name\":\"skin\",\"showlegend\":false,\"x\":[0.0],\"y\":[0.8057008280676282],\"type\":\"scatter\",\"xaxis\":\"x3\",\"yaxis\":\"y3\"},{\"legend\":\"legend\",\"legendgroup\":\"human2human\",\"marker\":{\"color\":\"#DDCB76\",\"line\":{\"color\":\"black\",\"width\":1},\"size\":9,\"symbol\":\"square\"},\"mode\":\"markers\",\"name\":\"small_bowel\",\"showlegend\":false,\"x\":[0.09333333333333334],\"y\":[0.8000828739029615],\"type\":\"scatter\",\"xaxis\":\"x3\",\"yaxis\":\"y3\"},{\"legend\":\"legend\",\"legendgroup\":\"human2human\",\"marker\":{\"color\":\"#DDCB76\",\"line\":{\"color\":\"black\",\"width\":1},\"size\":9,\"symbol\":\"triangle-right\"},\"mode\":\"markers\",\"name\":\"lung\",\"showlegend\":false,\"x\":[0.18666666666666668],\"y\":[0.7924680411815643],\"type\":\"scatter\",\"xaxis\":\"x3\",\"yaxis\":\"y3\"},{\"legend\":\"legend\",\"legendgroup\":\"human2human\",\"marker\":{\"color\":\"#DDCB76\",\"line\":{\"color\":\"black\",\"width\":1},\"size\":9,\"symbol\":\"circle\"},\"mode\":\"markers\",\"name\":\"stomach\",\"showlegend\":false,\"x\":[0.28],\"y\":[0.7726912758224902],\"type\":\"scatter\",\"xaxis\":\"x3\",\"yaxis\":\"y3\"},{\"legend\":\"legend\",\"legendgroup\":\"human2human\",\"marker\":{\"color\":\"#DDCB76\",\"line\":{\"color\":\"black\",\"width\":1},\"size\":9,\"symbol\":\"diamond\"},\"mode\":\"markers\",\"name\":\"colon\",\"showlegend\":false,\"x\":[0.0],\"y\":[0.7367687069667102],\"type\":\"scatter\",\"xaxis\":\"x3\",\"yaxis\":\"y3\"},{\"legend\":\"legend\",\"legendgroup\":\"human2human\",\"marker\":{\"color\":\"#DDCB76\",\"line\":{\"color\":\"black\",\"width\":1},\"size\":9,\"symbol\":\"triangle-down\"},\"mode\":\"markers\",\"name\":\"spleen\",\"showlegend\":false,\"x\":[0.09333333333333334],\"y\":[0.7175930482170164],\"type\":\"scatter\",\"xaxis\":\"x3\",\"yaxis\":\"y3\"},{\"legend\":\"legend\",\"legendgroup\":\"human2human\",\"marker\":{\"color\":\"#DDCB76\",\"line\":{\"color\":\"black\",\"width\":1},\"size\":9,\"symbol\":\"triangle-se\"},\"mode\":\"markers\",\"name\":\"peritoneum\",\"showlegend\":false,\"x\":[0.18666666666666668],\"y\":[0.5084219565846367],\"type\":\"scatter\",\"xaxis\":\"x3\",\"yaxis\":\"y3\"},{\"legend\":\"legend\",\"legendgroup\":\"human2human\",\"marker\":{\"color\":\"#DDCB76\",\"line\":{\"color\":\"black\",\"width\":1},\"size\":9,\"symbol\":\"x\"},\"mode\":\"markers\",\"name\":\"pancreas\",\"showlegend\":false,\"x\":[0.28],\"y\":[0.4452791146953502],\"type\":\"scatter\",\"xaxis\":\"x3\",\"yaxis\":\"y3\"},{\"boxmean\":true,\"boxpoints\":false,\"legend\":\"legend2\",\"legendgroup\":\"human2human\",\"line\":{\"color\":\"#DDCB76\"},\"name\":\"human2human\",\"showlegend\":false,\"x\":[0.6,0.6,0.6,0.6,0.6,0.6,0.6,0.6,0.6,0.6,0.6,0.6],\"y\":[0.9862582523726159,0.9554006728845612,0.936957227874204,0.8836436076854066,0.8057008280676282,0.8000828739029615,0.7924680411815643,0.7726912758224902,0.7367687069667102,0.7175930482170164,0.5084219565846367,0.4452791146953502],\"type\":\"box\",\"xaxis\":\"x3\",\"yaxis\":\"y3\"},{\"legendgroup\":\"human2human\",\"line\":{\"color\":\"#DDCB76\",\"dash\":\"dot\"},\"mode\":\"lines\",\"name\":\"human2human\",\"showlegend\":false,\"text\":\"95\\u202f% CI mean: [0.75;0.80]\",\"x\":[0.5,0.5],\"y\":[0.7509427578441468,0.8021369638683338],\"type\":\"scatter\",\"xaxis\":\"x3\",\"yaxis\":\"y3\"},{\"legendgroup\":\"human2human\",\"line\":{\"color\":\"#DDCB76\"},\"marker\":{\"size\":10,\"symbol\":\"triangle-down-open\"},\"mode\":\"markers\",\"name\":\"human2human\",\"showlegend\":false,\"text\":\"95\\u202f% CI mean: [0.75;0.80]\",\"x\":[0.5],\"y\":[0.7509427578441468],\"type\":\"scatter\",\"xaxis\":\"x3\",\"yaxis\":\"y3\"},{\"legendgroup\":\"human2human\",\"line\":{\"color\":\"#DDCB76\"},\"marker\":{\"size\":10,\"symbol\":\"triangle-up-open\"},\"mode\":\"markers\",\"name\":\"human2human\",\"showlegend\":false,\"text\":\"95\\u202f% CI mean: [0.75;0.80]\",\"x\":[0.5],\"y\":[0.8021369638683338],\"type\":\"scatter\",\"xaxis\":\"x3\",\"yaxis\":\"y3\"},{\"legendgroup\":\"human2human\",\"line\":{\"color\":\"#DDCB76\",\"dash\":\"solid\"},\"mode\":\"lines\",\"name\":\"human2human\",\"showlegend\":false,\"text\":\"95\\u202f% CI median: [0.76;0.84]\",\"x\":[0.7,0.7],\"y\":[0.761289157958698,0.8374864442384344],\"type\":\"scatter\",\"xaxis\":\"x3\",\"yaxis\":\"y3\"},{\"legendgroup\":\"human2human\",\"line\":{\"color\":\"#DDCB76\"},\"marker\":{\"size\":10,\"symbol\":\"triangle-down\"},\"mode\":\"markers\",\"name\":\"human2human\",\"showlegend\":false,\"text\":\"95\\u202f% CI median: [0.76;0.84]\",\"x\":[0.7],\"y\":[0.761289157958698],\"type\":\"scatter\",\"xaxis\":\"x3\",\"yaxis\":\"y3\"},{\"legendgroup\":\"human2human\",\"line\":{\"color\":\"#DDCB76\"},\"marker\":{\"size\":10,\"symbol\":\"triangle-up\"},\"mode\":\"markers\",\"name\":\"human2human\",\"showlegend\":false,\"text\":\"95\\u202f% CI median: [0.76;0.84]\",\"x\":[0.7],\"y\":[0.8374864442384344],\"type\":\"scatter\",\"xaxis\":\"x3\",\"yaxis\":\"y3\"},{\"legend\":\"legend\",\"legendgroup\":\"pig-p+rat-p2human2human\",\"marker\":{\"color\":\"#DDCB76\",\"line\":{\"color\":\"black\",\"width\":1},\"size\":9,\"symbol\":\"triangle-sw\"},\"mode\":\"markers\",\"name\":\"background\",\"showlegend\":false,\"x\":[1.0],\"y\":[0.9856688762593183],\"type\":\"scatter\",\"xaxis\":\"x3\",\"yaxis\":\"y3\"},{\"legend\":\"legend\",\"legendgroup\":\"pig-p+rat-p2human2human\",\"marker\":{\"color\":\"#DDCB76\",\"line\":{\"color\":\"black\",\"width\":1},\"size\":9,\"symbol\":\"triangle-up\"},\"mode\":\"markers\",\"name\":\"kidney\",\"showlegend\":false,\"x\":[1.0933333333333333],\"y\":[0.9530359759442992],\"type\":\"scatter\",\"xaxis\":\"x3\",\"yaxis\":\"y3\"},{\"legend\":\"legend\",\"legendgroup\":\"pig-p+rat-p2human2human\",\"marker\":{\"color\":\"#DDCB76\",\"line\":{\"color\":\"black\",\"width\":1},\"size\":9,\"symbol\":\"cross\"},\"mode\":\"markers\",\"name\":\"liver\",\"showlegend\":false,\"x\":[1.1866666666666668],\"y\":[0.933148657650527],\"type\":\"scatter\",\"xaxis\":\"x3\",\"yaxis\":\"y3\"},{\"legend\":\"legend\",\"legendgroup\":\"pig-p+rat-p2human2human\",\"marker\":{\"color\":\"#DDCB76\",\"line\":{\"color\":\"black\",\"width\":1},\"size\":9,\"symbol\":\"triangle-left\"},\"mode\":\"markers\",\"name\":\"omentum\",\"showlegend\":false,\"x\":[1.28],\"y\":[0.8880157933068595],\"type\":\"scatter\",\"xaxis\":\"x3\",\"yaxis\":\"y3\"},{\"legend\":\"legend\",\"legendgroup\":\"pig-p+rat-p2human2human\",\"marker\":{\"color\":\"#DDCB76\",\"line\":{\"color\":\"black\",\"width\":1},\"size\":9,\"symbol\":\"triangle-right\"},\"mode\":\"markers\",\"name\":\"lung\",\"showlegend\":false,\"x\":[1.0],\"y\":[0.8627593775590261],\"type\":\"scatter\",\"xaxis\":\"x3\",\"yaxis\":\"y3\"},{\"legend\":\"legend\",\"legendgroup\":\"pig-p+rat-p2human2human\",\"marker\":{\"color\":\"#DDCB76\",\"line\":{\"color\":\"black\",\"width\":1},\"size\":9,\"symbol\":\"triangle-ne\"},\"mode\":\"markers\",\"name\":\"skin\",\"showlegend\":false,\"x\":[1.0933333333333333],\"y\":[0.8152305483208337],\"type\":\"scatter\",\"xaxis\":\"x3\",\"yaxis\":\"y3\"},{\"legend\":\"legend\",\"legendgroup\":\"pig-p+rat-p2human2human\",\"marker\":{\"color\":\"#DDCB76\",\"line\":{\"color\":\"black\",\"width\":1},\"size\":9,\"symbol\":\"square\"},\"mode\":\"markers\",\"name\":\"small_bowel\",\"showlegend\":false,\"x\":[1.1866666666666668],\"y\":[0.7848963879846205],\"type\":\"scatter\",\"xaxis\":\"x3\",\"yaxis\":\"y3\"},{\"legend\":\"legend\",\"legendgroup\":\"pig-p+rat-p2human2human\",\"marker\":{\"color\":\"#DDCB76\",\"line\":{\"color\":\"black\",\"width\":1},\"size\":9,\"symbol\":\"circle\"},\"mode\":\"markers\",\"name\":\"stomach\",\"showlegend\":false,\"x\":[1.28],\"y\":[0.7672485108169332],\"type\":\"scatter\",\"xaxis\":\"x3\",\"yaxis\":\"y3\"},{\"legend\":\"legend\",\"legendgroup\":\"pig-p+rat-p2human2human\",\"marker\":{\"color\":\"#DDCB76\",\"line\":{\"color\":\"black\",\"width\":1},\"size\":9,\"symbol\":\"diamond\"},\"mode\":\"markers\",\"name\":\"colon\",\"showlegend\":false,\"x\":[1.0],\"y\":[0.7280811416220817],\"type\":\"scatter\",\"xaxis\":\"x3\",\"yaxis\":\"y3\"},{\"legend\":\"legend\",\"legendgroup\":\"pig-p+rat-p2human2human\",\"marker\":{\"color\":\"#DDCB76\",\"line\":{\"color\":\"black\",\"width\":1},\"size\":9,\"symbol\":\"triangle-down\"},\"mode\":\"markers\",\"name\":\"spleen\",\"showlegend\":false,\"x\":[1.0933333333333333],\"y\":[0.7005912462870281],\"type\":\"scatter\",\"xaxis\":\"x3\",\"yaxis\":\"y3\"},{\"legend\":\"legend\",\"legendgroup\":\"pig-p+rat-p2human2human\",\"marker\":{\"color\":\"#DDCB76\",\"line\":{\"color\":\"black\",\"width\":1},\"size\":9,\"symbol\":\"triangle-se\"},\"mode\":\"markers\",\"name\":\"peritoneum\",\"showlegend\":false,\"x\":[1.1866666666666668],\"y\":[0.6128382136841782],\"type\":\"scatter\",\"xaxis\":\"x3\",\"yaxis\":\"y3\"},{\"legend\":\"legend\",\"legendgroup\":\"pig-p+rat-p2human2human\",\"marker\":{\"color\":\"#DDCB76\",\"line\":{\"color\":\"black\",\"width\":1},\"size\":9,\"symbol\":\"x\"},\"mode\":\"markers\",\"name\":\"pancreas\",\"showlegend\":false,\"x\":[1.28],\"y\":[0.42697543769071056],\"type\":\"scatter\",\"xaxis\":\"x3\",\"yaxis\":\"y3\"},{\"boxmean\":true,\"boxpoints\":false,\"legend\":\"legend2\",\"legendgroup\":\"pig-p+rat-p2human2human\",\"line\":{\"color\":\"#DDCB76\"},\"name\":\"pig-p+rat-p2human2human\",\"showlegend\":false,\"x\":[1.6,1.6,1.6,1.6,1.6,1.6,1.6,1.6,1.6,1.6,1.6,1.6],\"y\":[0.9856688762593183,0.9530359759442992,0.933148657650527,0.8880157933068595,0.8627593775590261,0.8152305483208337,0.7848963879846205,0.7672485108169332,0.7280811416220817,0.7005912462870281,0.6128382136841782,0.42697543769071056],\"type\":\"box\",\"xaxis\":\"x3\",\"yaxis\":\"y3\"},{\"legendgroup\":\"pig-p+rat-p2human2human\",\"line\":{\"color\":\"#DDCB76\",\"dash\":\"dot\"},\"mode\":\"lines\",\"name\":\"pig-p+rat-p2human2human\",\"showlegend\":false,\"text\":\"95\\u202f% CI mean: [0.76;0.81]\",\"x\":[1.5,1.5],\"y\":[0.7639284274117933,0.809763240164003],\"type\":\"scatter\",\"xaxis\":\"x3\",\"yaxis\":\"y3\"},{\"legendgroup\":\"pig-p+rat-p2human2human\",\"line\":{\"color\":\"#DDCB76\"},\"marker\":{\"size\":10,\"symbol\":\"triangle-down-open\"},\"mode\":\"markers\",\"name\":\"pig-p+rat-p2human2human\",\"showlegend\":false,\"text\":\"95\\u202f% CI mean: [0.76;0.81]\",\"x\":[1.5],\"y\":[0.7639284274117933],\"type\":\"scatter\",\"xaxis\":\"x3\",\"yaxis\":\"y3\"},{\"legendgroup\":\"pig-p+rat-p2human2human\",\"line\":{\"color\":\"#DDCB76\"},\"marker\":{\"size\":10,\"symbol\":\"triangle-up-open\"},\"mode\":\"markers\",\"name\":\"pig-p+rat-p2human2human\",\"showlegend\":false,\"text\":\"95\\u202f% CI mean: [0.76;0.81]\",\"x\":[1.5],\"y\":[0.809763240164003],\"type\":\"scatter\",\"xaxis\":\"x3\",\"yaxis\":\"y3\"},{\"legendgroup\":\"pig-p+rat-p2human2human\",\"line\":{\"color\":\"#DDCB76\",\"dash\":\"solid\"},\"mode\":\"lines\",\"name\":\"pig-p+rat-p2human2human\",\"showlegend\":false,\"text\":\"95\\u202f% CI median: [0.77;0.84]\",\"x\":[1.7,1.7],\"y\":[0.771684873766289,0.8404560960521599],\"type\":\"scatter\",\"xaxis\":\"x3\",\"yaxis\":\"y3\"},{\"legendgroup\":\"pig-p+rat-p2human2human\",\"line\":{\"color\":\"#DDCB76\"},\"marker\":{\"size\":10,\"symbol\":\"triangle-down\"},\"mode\":\"markers\",\"name\":\"pig-p+rat-p2human2human\",\"showlegend\":false,\"text\":\"95\\u202f% CI median: [0.77;0.84]\",\"x\":[1.7],\"y\":[0.771684873766289],\"type\":\"scatter\",\"xaxis\":\"x3\",\"yaxis\":\"y3\"},{\"legendgroup\":\"pig-p+rat-p2human2human\",\"line\":{\"color\":\"#DDCB76\"},\"marker\":{\"size\":10,\"symbol\":\"triangle-up\"},\"mode\":\"markers\",\"name\":\"pig-p+rat-p2human2human\",\"showlegend\":false,\"text\":\"95\\u202f% CI median: [0.77;0.84]\",\"x\":[1.7],\"y\":[0.8404560960521599],\"type\":\"scatter\",\"xaxis\":\"x3\",\"yaxis\":\"y3\"}],                        {\"template\":{\"data\":{\"barpolar\":[{\"marker\":{\"line\":{\"color\":\"white\",\"width\":0.5},\"pattern\":{\"fillmode\":\"overlay\",\"size\":10,\"solidity\":0.2}},\"type\":\"barpolar\"}],\"bar\":[{\"error_x\":{\"color\":\"#2a3f5f\"},\"error_y\":{\"color\":\"#2a3f5f\"},\"marker\":{\"line\":{\"color\":\"white\",\"width\":0.5},\"pattern\":{\"fillmode\":\"overlay\",\"size\":10,\"solidity\":0.2}},\"type\":\"bar\"}],\"carpet\":[{\"aaxis\":{\"endlinecolor\":\"#2a3f5f\",\"gridcolor\":\"#C8D4E3\",\"linecolor\":\"#C8D4E3\",\"minorgridcolor\":\"#C8D4E3\",\"startlinecolor\":\"#2a3f5f\"},\"baxis\":{\"endlinecolor\":\"#2a3f5f\",\"gridcolor\":\"#C8D4E3\",\"linecolor\":\"#C8D4E3\",\"minorgridcolor\":\"#C8D4E3\",\"startlinecolor\":\"#2a3f5f\"},\"type\":\"carpet\"}],\"choropleth\":[{\"colorbar\":{\"outlinewidth\":0,\"ticks\":\"\"},\"type\":\"choropleth\"}],\"contourcarpet\":[{\"colorbar\":{\"outlinewidth\":0,\"ticks\":\"\"},\"type\":\"contourcarpet\"}],\"contour\":[{\"colorbar\":{\"outlinewidth\":0,\"ticks\":\"\"},\"colorscale\":[[0.0,\"#0d0887\"],[0.1111111111111111,\"#46039f\"],[0.2222222222222222,\"#7201a8\"],[0.3333333333333333,\"#9c179e\"],[0.4444444444444444,\"#bd3786\"],[0.5555555555555556,\"#d8576b\"],[0.6666666666666666,\"#ed7953\"],[0.7777777777777778,\"#fb9f3a\"],[0.8888888888888888,\"#fdca26\"],[1.0,\"#f0f921\"]],\"type\":\"contour\"}],\"heatmapgl\":[{\"colorbar\":{\"outlinewidth\":0,\"ticks\":\"\"},\"colorscale\":[[0.0,\"#0d0887\"],[0.1111111111111111,\"#46039f\"],[0.2222222222222222,\"#7201a8\"],[0.3333333333333333,\"#9c179e\"],[0.4444444444444444,\"#bd3786\"],[0.5555555555555556,\"#d8576b\"],[0.6666666666666666,\"#ed7953\"],[0.7777777777777778,\"#fb9f3a\"],[0.8888888888888888,\"#fdca26\"],[1.0,\"#f0f921\"]],\"type\":\"heatmapgl\"}],\"heatmap\":[{\"colorbar\":{\"outlinewidth\":0,\"ticks\":\"\"},\"colorscale\":[[0.0,\"#0d0887\"],[0.1111111111111111,\"#46039f\"],[0.2222222222222222,\"#7201a8\"],[0.3333333333333333,\"#9c179e\"],[0.4444444444444444,\"#bd3786\"],[0.5555555555555556,\"#d8576b\"],[0.6666666666666666,\"#ed7953\"],[0.7777777777777778,\"#fb9f3a\"],[0.8888888888888888,\"#fdca26\"],[1.0,\"#f0f921\"]],\"type\":\"heatmap\"}],\"histogram2dcontour\":[{\"colorbar\":{\"outlinewidth\":0,\"ticks\":\"\"},\"colorscale\":[[0.0,\"#0d0887\"],[0.1111111111111111,\"#46039f\"],[0.2222222222222222,\"#7201a8\"],[0.3333333333333333,\"#9c179e\"],[0.4444444444444444,\"#bd3786\"],[0.5555555555555556,\"#d8576b\"],[0.6666666666666666,\"#ed7953\"],[0.7777777777777778,\"#fb9f3a\"],[0.8888888888888888,\"#fdca26\"],[1.0,\"#f0f921\"]],\"type\":\"histogram2dcontour\"}],\"histogram2d\":[{\"colorbar\":{\"outlinewidth\":0,\"ticks\":\"\"},\"colorscale\":[[0.0,\"#0d0887\"],[0.1111111111111111,\"#46039f\"],[0.2222222222222222,\"#7201a8\"],[0.3333333333333333,\"#9c179e\"],[0.4444444444444444,\"#bd3786\"],[0.5555555555555556,\"#d8576b\"],[0.6666666666666666,\"#ed7953\"],[0.7777777777777778,\"#fb9f3a\"],[0.8888888888888888,\"#fdca26\"],[1.0,\"#f0f921\"]],\"type\":\"histogram2d\"}],\"histogram\":[{\"marker\":{\"pattern\":{\"fillmode\":\"overlay\",\"size\":10,\"solidity\":0.2}},\"type\":\"histogram\"}],\"mesh3d\":[{\"colorbar\":{\"outlinewidth\":0,\"ticks\":\"\"},\"type\":\"mesh3d\"}],\"parcoords\":[{\"line\":{\"colorbar\":{\"outlinewidth\":0,\"ticks\":\"\"}},\"type\":\"parcoords\"}],\"pie\":[{\"automargin\":true,\"type\":\"pie\"}],\"scatter3d\":[{\"line\":{\"colorbar\":{\"outlinewidth\":0,\"ticks\":\"\"}},\"marker\":{\"colorbar\":{\"outlinewidth\":0,\"ticks\":\"\"}},\"type\":\"scatter3d\"}],\"scattercarpet\":[{\"marker\":{\"colorbar\":{\"outlinewidth\":0,\"ticks\":\"\"}},\"type\":\"scattercarpet\"}],\"scattergeo\":[{\"marker\":{\"colorbar\":{\"outlinewidth\":0,\"ticks\":\"\"}},\"type\":\"scattergeo\"}],\"scattergl\":[{\"marker\":{\"colorbar\":{\"outlinewidth\":0,\"ticks\":\"\"}},\"type\":\"scattergl\"}],\"scattermapbox\":[{\"marker\":{\"colorbar\":{\"outlinewidth\":0,\"ticks\":\"\"}},\"type\":\"scattermapbox\"}],\"scatterpolargl\":[{\"marker\":{\"colorbar\":{\"outlinewidth\":0,\"ticks\":\"\"}},\"type\":\"scatterpolargl\"}],\"scatterpolar\":[{\"marker\":{\"colorbar\":{\"outlinewidth\":0,\"ticks\":\"\"}},\"type\":\"scatterpolar\"}],\"scatter\":[{\"fillpattern\":{\"fillmode\":\"overlay\",\"size\":10,\"solidity\":0.2},\"type\":\"scatter\"}],\"scatterternary\":[{\"marker\":{\"colorbar\":{\"outlinewidth\":0,\"ticks\":\"\"}},\"type\":\"scatterternary\"}],\"surface\":[{\"colorbar\":{\"outlinewidth\":0,\"ticks\":\"\"},\"colorscale\":[[0.0,\"#0d0887\"],[0.1111111111111111,\"#46039f\"],[0.2222222222222222,\"#7201a8\"],[0.3333333333333333,\"#9c179e\"],[0.4444444444444444,\"#bd3786\"],[0.5555555555555556,\"#d8576b\"],[0.6666666666666666,\"#ed7953\"],[0.7777777777777778,\"#fb9f3a\"],[0.8888888888888888,\"#fdca26\"],[1.0,\"#f0f921\"]],\"type\":\"surface\"}],\"table\":[{\"cells\":{\"fill\":{\"color\":\"#EBF0F8\"},\"line\":{\"color\":\"white\"}},\"header\":{\"fill\":{\"color\":\"#C8D4E3\"},\"line\":{\"color\":\"white\"}},\"type\":\"table\"}]},\"layout\":{\"annotationdefaults\":{\"arrowcolor\":\"#2a3f5f\",\"arrowhead\":0,\"arrowwidth\":1},\"autotypenumbers\":\"strict\",\"coloraxis\":{\"colorbar\":{\"outlinewidth\":0,\"ticks\":\"\"}},\"colorscale\":{\"diverging\":[[0,\"#8e0152\"],[0.1,\"#c51b7d\"],[0.2,\"#de77ae\"],[0.3,\"#f1b6da\"],[0.4,\"#fde0ef\"],[0.5,\"#f7f7f7\"],[0.6,\"#e6f5d0\"],[0.7,\"#b8e186\"],[0.8,\"#7fbc41\"],[0.9,\"#4d9221\"],[1,\"#276419\"]],\"sequential\":[[0.0,\"#0d0887\"],[0.1111111111111111,\"#46039f\"],[0.2222222222222222,\"#7201a8\"],[0.3333333333333333,\"#9c179e\"],[0.4444444444444444,\"#bd3786\"],[0.5555555555555556,\"#d8576b\"],[0.6666666666666666,\"#ed7953\"],[0.7777777777777778,\"#fb9f3a\"],[0.8888888888888888,\"#fdca26\"],[1.0,\"#f0f921\"]],\"sequentialminus\":[[0.0,\"#0d0887\"],[0.1111111111111111,\"#46039f\"],[0.2222222222222222,\"#7201a8\"],[0.3333333333333333,\"#9c179e\"],[0.4444444444444444,\"#bd3786\"],[0.5555555555555556,\"#d8576b\"],[0.6666666666666666,\"#ed7953\"],[0.7777777777777778,\"#fb9f3a\"],[0.8888888888888888,\"#fdca26\"],[1.0,\"#f0f921\"]]},\"colorway\":[\"#636efa\",\"#EF553B\",\"#00cc96\",\"#ab63fa\",\"#FFA15A\",\"#19d3f3\",\"#FF6692\",\"#B6E880\",\"#FF97FF\",\"#FECB52\"],\"font\":{\"color\":\"#2a3f5f\"},\"geo\":{\"bgcolor\":\"white\",\"lakecolor\":\"white\",\"landcolor\":\"white\",\"showlakes\":true,\"showland\":true,\"subunitcolor\":\"#C8D4E3\"},\"hoverlabel\":{\"align\":\"left\"},\"hovermode\":\"closest\",\"mapbox\":{\"style\":\"light\"},\"paper_bgcolor\":\"white\",\"plot_bgcolor\":\"white\",\"polar\":{\"angularaxis\":{\"gridcolor\":\"#EBF0F8\",\"linecolor\":\"#EBF0F8\",\"ticks\":\"\"},\"bgcolor\":\"white\",\"radialaxis\":{\"gridcolor\":\"#EBF0F8\",\"linecolor\":\"#EBF0F8\",\"ticks\":\"\"}},\"scene\":{\"xaxis\":{\"backgroundcolor\":\"white\",\"gridcolor\":\"#DFE8F3\",\"gridwidth\":2,\"linecolor\":\"#EBF0F8\",\"showbackground\":true,\"ticks\":\"\",\"zerolinecolor\":\"#EBF0F8\"},\"yaxis\":{\"backgroundcolor\":\"white\",\"gridcolor\":\"#DFE8F3\",\"gridwidth\":2,\"linecolor\":\"#EBF0F8\",\"showbackground\":true,\"ticks\":\"\",\"zerolinecolor\":\"#EBF0F8\"},\"zaxis\":{\"backgroundcolor\":\"white\",\"gridcolor\":\"#DFE8F3\",\"gridwidth\":2,\"linecolor\":\"#EBF0F8\",\"showbackground\":true,\"ticks\":\"\",\"zerolinecolor\":\"#EBF0F8\"}},\"shapedefaults\":{\"line\":{\"color\":\"#2a3f5f\"}},\"ternary\":{\"aaxis\":{\"gridcolor\":\"#DFE8F3\",\"linecolor\":\"#A2B1C6\",\"ticks\":\"\"},\"baxis\":{\"gridcolor\":\"#DFE8F3\",\"linecolor\":\"#A2B1C6\",\"ticks\":\"\"},\"bgcolor\":\"white\",\"caxis\":{\"gridcolor\":\"#DFE8F3\",\"linecolor\":\"#A2B1C6\",\"ticks\":\"\"}},\"title\":{\"x\":0.05},\"xaxis\":{\"automargin\":true,\"gridcolor\":\"#EBF0F8\",\"linecolor\":\"#EBF0F8\",\"ticks\":\"\",\"title\":{\"standoff\":15},\"zerolinecolor\":\"#EBF0F8\",\"zerolinewidth\":2},\"yaxis\":{\"automargin\":true,\"gridcolor\":\"#EBF0F8\",\"linecolor\":\"#EBF0F8\",\"ticks\":\"\",\"title\":{\"standoff\":15},\"zerolinecolor\":\"#EBF0F8\",\"zerolinewidth\":2}}},\"xaxis\":{\"anchor\":\"y\",\"domain\":[0.0,0.3525],\"showticklabels\":false},\"yaxis\":{\"anchor\":\"x\",\"domain\":[0.0,1.0],\"title\":{\"text\":\"\\u003cb\\u003eDSC\\u003c\\u002fb\\u003e\",\"standoff\":12}},\"xaxis2\":{\"anchor\":\"y2\",\"domain\":[0.38249999999999995,0.7349999999999999],\"showticklabels\":false},\"yaxis2\":{\"anchor\":\"x2\",\"domain\":[0.0,1.0],\"matches\":\"y\",\"showticklabels\":false},\"xaxis3\":{\"anchor\":\"y3\",\"domain\":[0.7649999999999999,0.9999999999999999],\"showticklabels\":false},\"yaxis3\":{\"anchor\":\"x3\",\"domain\":[0.0,1.0],\"matches\":\"y\",\"showticklabels\":false},\"height\":400,\"width\":1200,\"font\":{\"family\":\"Libertinus Sans\",\"size\":16},\"showlegend\":false,\"legend\":{\"title\":{},\"orientation\":\"h\",\"yanchor\":\"bottom\",\"y\":1.05,\"xanchor\":\"center\",\"x\":0.2},\"legend2\":{\"title\":{},\"orientation\":\"h\",\"yanchor\":\"bottom\",\"y\":1.05,\"xanchor\":\"center\",\"x\":0.8},\"margin\":{\"l\":0,\"r\":0,\"t\":0,\"b\":0}},                        {\"responsive\": true}                    ).then(function(){\n",
       "                            \n",
       "var gd = document.getElementById('62e6e282-e5c1-457c-b8c3-a967b36711eb');\n",
       "var x = new MutationObserver(function (mutations, observer) {{\n",
       "        var display = window.getComputedStyle(gd).display;\n",
       "        if (!display || display === 'none') {{\n",
       "            console.log([gd, 'removed!']);\n",
       "            Plotly.purge(gd);\n",
       "            observer.disconnect();\n",
       "        }}\n",
       "}});\n",
       "\n",
       "// Listen for the removal of the full notebook cells\n",
       "var notebookContainer = gd.closest('#notebook-container');\n",
       "if (notebookContainer) {{\n",
       "    x.observe(notebookContainer, {childList: true});\n",
       "}}\n",
       "\n",
       "// Listen for the clearing of the current output cell\n",
       "var outputEl = gd.closest('.output');\n",
       "if (outputEl) {{\n",
       "    x.observe(outputEl, {childList: true});\n",
       "}}\n",
       "\n",
       "                        })                };                });            </script>        </div>"
      ]
     },
     "metadata": {},
     "output_type": "display_data"
    }
   ],
   "source": [
    "def species_comparison(metric_name: str, metric_name_short: str) -> go.Figure:\n",
    "    fig = make_subplots(\n",
    "        rows=1,\n",
    "        cols=3,\n",
    "        shared_yaxes=True,\n",
    "        vertical_spacing=0.1,\n",
    "        horizontal_spacing=0.03,\n",
    "        column_widths=[3, 3, 2],\n",
    "    )\n",
    "    label_names = None\n",
    "\n",
    "    targets = {\n",
    "        (1, \"pig\"): [(0, \"pig\"), (1, \"rat\"), (2, \"human\")],\n",
    "        (2, \"rat\"): [(0, \"rat\"), (1, \"pig\"), (2, \"human\")],\n",
    "        (3, \"human\"): [(0, \"human\")],\n",
    "        (3, \"pig-p+rat-p2human\"): [(1, \"human\")],\n",
    "    }\n",
    "    for (i, source_species), source_targets in targets.items():\n",
    "        for j, target_species in source_targets:\n",
    "            df_box = df[(df[\"source_species\"] == source_species) & (df[\"target_species\"] == target_species)]\n",
    "            sort_labels(df_box)\n",
    "\n",
    "            label_names_comparison = df_box[\"label_name\"].tolist()\n",
    "            if \"background\" not in label_names_comparison:\n",
    "                label_names_comparison.append(\"background\")\n",
    "            if label_names is None:\n",
    "                label_names = label_names_comparison\n",
    "            else:\n",
    "                assert (\n",
    "                    label_names == label_names_comparison\n",
    "                ), f\"Label names do not match: {label_names} vs {label_names_comparison}\"\n",
    "\n",
    "            # Average across organs per bootstrap sample\n",
    "            bootstraps_mean = np.mean(np.stack(df_box[f\"{metric_name}_bootstraps\"]), axis=0)\n",
    "            bootstraps_median = np.median(np.stack(df_box[f\"{metric_name}_bootstraps\"]), axis=0)\n",
    "\n",
    "            boxplot_symbols(\n",
    "                fig,\n",
    "                df_box[metric_name],\n",
    "                df_box[\"label_name\"],\n",
    "                ci_mean=(np.quantile(bootstraps_mean, q=0.025), np.quantile(bootstraps_mean, q=0.975)),\n",
    "                ci_median=(np.quantile(bootstraps_median, q=0.025), np.quantile(bootstraps_median, q=0.975)),\n",
    "                trace_name=f\"{source_species}2{target_species}\",\n",
    "                box_index=j,\n",
    "                color=settings_species.species_colors[target_species],\n",
    "                showlegend=i == 1,\n",
    "                row=1,\n",
    "                col=i,\n",
    "            )\n",
    "\n",
    "    fig.update_layout(height=400, width=1200, template=\"plotly_white\")\n",
    "    fig.update_layout(font_family=\"Libertinus Sans\", font_size=16)\n",
    "    fig.update_annotations(font=dict(size=20))\n",
    "    fig.update_layout(showlegend=False)\n",
    "    fig.update_yaxes(title=f\"<b>{metric_name_short}</b>\", title_standoff=12, col=1)\n",
    "    fig.update_xaxes(showticklabels=False)\n",
    "    fig.update_layout(legend=dict(title=None, orientation=\"h\", yanchor=\"bottom\", y=1.05, xanchor=\"center\", x=0.2))\n",
    "    fig.update_layout(legend2=dict(title=None, orientation=\"h\", yanchor=\"bottom\", y=1.05, xanchor=\"center\", x=0.8))\n",
    "    fig.update_layout(margin=dict(l=0, r=0, t=0, b=0))\n",
    "    fig.write_image(settings_species.paper_dir / f\"domain_shift_performance_{metric_name_short}.pdf\")\n",
    "\n",
    "    return fig\n",
    "\n",
    "\n",
    "species_comparison(\"dice_metric\", \"DSC\")"
   ]
  },
  {
   "cell_type": "code",
   "execution_count": 4,
   "metadata": {},
   "outputs": [
    {
     "data": {
      "application/vnd.plotly.v1+json": {
       "config": {
        "plotlyServerURL": "https://plot.ly"
       },
       "data": [
        {
         "legend": "legend",
         "marker": {
          "color": "gray",
          "line": {
           "color": "black",
           "width": 1
          },
          "size": 9,
          "symbol": "circle"
         },
         "mode": "markers",
         "name": "stomach",
         "showlegend": true,
         "type": "scatter",
         "x": [
          null
         ],
         "xaxis": "x",
         "y": [
          null
         ],
         "yaxis": "y"
        },
        {
         "legend": "legend",
         "marker": {
          "color": "gray",
          "line": {
           "color": "black",
           "width": 1
          },
          "size": 9,
          "symbol": "square"
         },
         "mode": "markers",
         "name": "small_bowel",
         "showlegend": true,
         "type": "scatter",
         "x": [
          null
         ],
         "xaxis": "x",
         "y": [
          null
         ],
         "yaxis": "y"
        },
        {
         "legend": "legend",
         "marker": {
          "color": "gray",
          "line": {
           "color": "black",
           "width": 1
          },
          "size": 9,
          "symbol": "diamond"
         },
         "mode": "markers",
         "name": "colon",
         "showlegend": true,
         "type": "scatter",
         "x": [
          null
         ],
         "xaxis": "x",
         "y": [
          null
         ],
         "yaxis": "y"
        },
        {
         "legend": "legend",
         "marker": {
          "color": "gray",
          "line": {
           "color": "black",
           "width": 1
          },
          "size": 9,
          "symbol": "cross"
         },
         "mode": "markers",
         "name": "liver",
         "showlegend": true,
         "type": "scatter",
         "x": [
          null
         ],
         "xaxis": "x",
         "y": [
          null
         ],
         "yaxis": "y"
        },
        {
         "legend": "legend",
         "marker": {
          "color": "gray",
          "line": {
           "color": "black",
           "width": 1
          },
          "size": 9,
          "symbol": "x"
         },
         "mode": "markers",
         "name": "pancreas",
         "showlegend": true,
         "type": "scatter",
         "x": [
          null
         ],
         "xaxis": "x",
         "y": [
          null
         ],
         "yaxis": "y"
        },
        {
         "legend": "legend",
         "marker": {
          "color": "gray",
          "line": {
           "color": "black",
           "width": 1
          },
          "size": 9,
          "symbol": "triangle-up"
         },
         "mode": "markers",
         "name": "kidney",
         "showlegend": true,
         "type": "scatter",
         "x": [
          null
         ],
         "xaxis": "x",
         "y": [
          null
         ],
         "yaxis": "y"
        },
        {
         "legend": "legend",
         "marker": {
          "color": "gray",
          "line": {
           "color": "black",
           "width": 1
          },
          "size": 9,
          "symbol": "triangle-down"
         },
         "mode": "markers",
         "name": "spleen",
         "showlegend": true,
         "type": "scatter",
         "x": [
          null
         ],
         "xaxis": "x",
         "y": [
          null
         ],
         "yaxis": "y"
        },
        {
         "legend": "legend",
         "marker": {
          "color": "gray",
          "line": {
           "color": "black",
           "width": 1
          },
          "size": 9,
          "symbol": "triangle-left"
         },
         "mode": "markers",
         "name": "omentum",
         "showlegend": true,
         "type": "scatter",
         "x": [
          null
         ],
         "xaxis": "x",
         "y": [
          null
         ],
         "yaxis": "y"
        },
        {
         "legend": "legend",
         "marker": {
          "color": "gray",
          "line": {
           "color": "black",
           "width": 1
          },
          "size": 9,
          "symbol": "triangle-right"
         },
         "mode": "markers",
         "name": "lung",
         "showlegend": true,
         "type": "scatter",
         "x": [
          null
         ],
         "xaxis": "x",
         "y": [
          null
         ],
         "yaxis": "y"
        },
        {
         "legend": "legend",
         "marker": {
          "color": "gray",
          "line": {
           "color": "black",
           "width": 1
          },
          "size": 9,
          "symbol": "triangle-ne"
         },
         "mode": "markers",
         "name": "skin",
         "showlegend": true,
         "type": "scatter",
         "x": [
          null
         ],
         "xaxis": "x",
         "y": [
          null
         ],
         "yaxis": "y"
        },
        {
         "legend": "legend",
         "marker": {
          "color": "gray",
          "line": {
           "color": "black",
           "width": 1
          },
          "size": 9,
          "symbol": "triangle-se"
         },
         "mode": "markers",
         "name": "peritoneum",
         "showlegend": true,
         "type": "scatter",
         "x": [
          null
         ],
         "xaxis": "x",
         "y": [
          null
         ],
         "yaxis": "y"
        },
        {
         "legend": "legend",
         "marker": {
          "color": "gray",
          "line": {
           "color": "black",
           "width": 1
          },
          "size": 9,
          "symbol": "triangle-sw"
         },
         "mode": "markers",
         "name": "background",
         "showlegend": true,
         "type": "scatter",
         "x": [
          null
         ],
         "xaxis": "x",
         "y": [
          null
         ],
         "yaxis": "y"
        },
        {
         "legend": "legend",
         "legendgroup": "pig2pig",
         "marker": {
          "color": "#44AA99",
          "line": {
           "color": "black",
           "width": 1
          },
          "size": 9,
          "symbol": "triangle-right"
         },
         "mode": "markers",
         "name": "lung",
         "showlegend": false,
         "type": "scatter",
         "x": [
          0
         ],
         "xaxis": "x",
         "y": [
          0.941958998705878
         ],
         "yaxis": "y"
        },
        {
         "legend": "legend",
         "legendgroup": "pig2pig",
         "marker": {
          "color": "#44AA99",
          "line": {
           "color": "black",
           "width": 1
          },
          "size": 9,
          "symbol": "triangle-sw"
         },
         "mode": "markers",
         "name": "background",
         "showlegend": false,
         "type": "scatter",
         "x": [
          0.09333333333333334
         ],
         "xaxis": "x",
         "y": [
          0.937327038898341
         ],
         "yaxis": "y"
        },
        {
         "legend": "legend",
         "legendgroup": "pig2pig",
         "marker": {
          "color": "#44AA99",
          "line": {
           "color": "black",
           "width": 1
          },
          "size": 9,
          "symbol": "diamond"
         },
         "mode": "markers",
         "name": "colon",
         "showlegend": false,
         "type": "scatter",
         "x": [
          0.18666666666666668
         ],
         "xaxis": "x",
         "y": [
          0.9283778865587016
         ],
         "yaxis": "y"
        },
        {
         "legend": "legend",
         "legendgroup": "pig2pig",
         "marker": {
          "color": "#44AA99",
          "line": {
           "color": "black",
           "width": 1
          },
          "size": 9,
          "symbol": "triangle-se"
         },
         "mode": "markers",
         "name": "peritoneum",
         "showlegend": false,
         "type": "scatter",
         "x": [
          0.28
         ],
         "xaxis": "x",
         "y": [
          0.9031307891936182
         ],
         "yaxis": "y"
        },
        {
         "legend": "legend",
         "legendgroup": "pig2pig",
         "marker": {
          "color": "#44AA99",
          "line": {
           "color": "black",
           "width": 1
          },
          "size": 9,
          "symbol": "triangle-ne"
         },
         "mode": "markers",
         "name": "skin",
         "showlegend": false,
         "type": "scatter",
         "x": [
          0
         ],
         "xaxis": "x",
         "y": [
          0.8811117644702278
         ],
         "yaxis": "y"
        },
        {
         "legend": "legend",
         "legendgroup": "pig2pig",
         "marker": {
          "color": "#44AA99",
          "line": {
           "color": "black",
           "width": 1
          },
          "size": 9,
          "symbol": "x"
         },
         "mode": "markers",
         "name": "pancreas",
         "showlegend": false,
         "type": "scatter",
         "x": [
          0.09333333333333334
         ],
         "xaxis": "x",
         "y": [
          0.8220262066712454
         ],
         "yaxis": "y"
        },
        {
         "legend": "legend",
         "legendgroup": "pig2pig",
         "marker": {
          "color": "#44AA99",
          "line": {
           "color": "black",
           "width": 1
          },
          "size": 9,
          "symbol": "circle"
         },
         "mode": "markers",
         "name": "stomach",
         "showlegend": false,
         "type": "scatter",
         "x": [
          0.18666666666666668
         ],
         "xaxis": "x",
         "y": [
          0.8111407694165935
         ],
         "yaxis": "y"
        },
        {
         "legend": "legend",
         "legendgroup": "pig2pig",
         "marker": {
          "color": "#44AA99",
          "line": {
           "color": "black",
           "width": 1
          },
          "size": 9,
          "symbol": "square"
         },
         "mode": "markers",
         "name": "small_bowel",
         "showlegend": false,
         "type": "scatter",
         "x": [
          0.28
         ],
         "xaxis": "x",
         "y": [
          0.8038041294883339
         ],
         "yaxis": "y"
        },
        {
         "legend": "legend",
         "legendgroup": "pig2pig",
         "marker": {
          "color": "#44AA99",
          "line": {
           "color": "black",
           "width": 1
          },
          "size": 9,
          "symbol": "triangle-down"
         },
         "mode": "markers",
         "name": "spleen",
         "showlegend": false,
         "type": "scatter",
         "x": [
          0
         ],
         "xaxis": "x",
         "y": [
          0.7558087845246005
         ],
         "yaxis": "y"
        },
        {
         "legend": "legend",
         "legendgroup": "pig2pig",
         "marker": {
          "color": "#44AA99",
          "line": {
           "color": "black",
           "width": 1
          },
          "size": 9,
          "symbol": "triangle-left"
         },
         "mode": "markers",
         "name": "omentum",
         "showlegend": false,
         "type": "scatter",
         "x": [
          0.09333333333333334
         ],
         "xaxis": "x",
         "y": [
          0.7243569579148804
         ],
         "yaxis": "y"
        },
        {
         "legend": "legend",
         "legendgroup": "pig2pig",
         "marker": {
          "color": "#44AA99",
          "line": {
           "color": "black",
           "width": 1
          },
          "size": 9,
          "symbol": "cross"
         },
         "mode": "markers",
         "name": "liver",
         "showlegend": false,
         "type": "scatter",
         "x": [
          0.18666666666666668
         ],
         "xaxis": "x",
         "y": [
          0.6900023141455949
         ],
         "yaxis": "y"
        },
        {
         "legend": "legend",
         "legendgroup": "pig2pig",
         "marker": {
          "color": "#44AA99",
          "line": {
           "color": "black",
           "width": 1
          },
          "size": 9,
          "symbol": "triangle-up"
         },
         "mode": "markers",
         "name": "kidney",
         "showlegend": false,
         "type": "scatter",
         "x": [
          0.28
         ],
         "xaxis": "x",
         "y": [
          0.6844132585463181
         ],
         "yaxis": "y"
        },
        {
         "boxmean": true,
         "boxpoints": false,
         "legend": "legend2",
         "legendgroup": "pig2pig",
         "line": {
          "color": "#44AA99"
         },
         "name": "pig2pig",
         "showlegend": true,
         "type": "box",
         "x": [
          0.6,
          0.6,
          0.6,
          0.6,
          0.6,
          0.6,
          0.6,
          0.6,
          0.6,
          0.6,
          0.6,
          0.6
         ],
         "xaxis": "x",
         "y": [
          0.941958998705878,
          0.937327038898341,
          0.9283778865587016,
          0.9031307891936182,
          0.8811117644702278,
          0.8220262066712454,
          0.8111407694165935,
          0.8038041294883339,
          0.7558087845246005,
          0.7243569579148804,
          0.6900023141455949,
          0.6844132585463181
         ],
         "yaxis": "y"
        },
        {
         "legendgroup": "pig2pig",
         "line": {
          "color": "#44AA99",
          "dash": "dot"
         },
         "mode": "lines",
         "name": "pig2pig",
         "showlegend": false,
         "text": "95 % CI mean: [0.81;0.84]",
         "type": "scatter",
         "x": [
          0.5,
          0.5
         ],
         "xaxis": "x",
         "y": [
          0.8054700998374484,
          0.8412610242703699
         ],
         "yaxis": "y"
        },
        {
         "legendgroup": "pig2pig",
         "line": {
          "color": "#44AA99"
         },
         "marker": {
          "size": 10,
          "symbol": "triangle-down-open"
         },
         "mode": "markers",
         "name": "pig2pig",
         "showlegend": false,
         "text": "95 % CI mean: [0.81;0.84]",
         "type": "scatter",
         "x": [
          0.5
         ],
         "xaxis": "x",
         "y": [
          0.8054700998374484
         ],
         "yaxis": "y"
        },
        {
         "legendgroup": "pig2pig",
         "line": {
          "color": "#44AA99"
         },
         "marker": {
          "size": 10,
          "symbol": "triangle-up-open"
         },
         "mode": "markers",
         "name": "pig2pig",
         "showlegend": false,
         "text": "95 % CI mean: [0.81;0.84]",
         "type": "scatter",
         "x": [
          0.5
         ],
         "xaxis": "x",
         "y": [
          0.8412610242703699
         ],
         "yaxis": "y"
        },
        {
         "legendgroup": "pig2pig",
         "line": {
          "color": "#44AA99",
          "dash": "solid"
         },
         "mode": "lines",
         "name": "pig2pig",
         "showlegend": false,
         "text": "95 % CI median: [0.79;0.87]",
         "type": "scatter",
         "x": [
          0.7,
          0.7
         ],
         "xaxis": "x",
         "y": [
          0.7871294175916498,
          0.8683943710931711
         ],
         "yaxis": "y"
        },
        {
         "legendgroup": "pig2pig",
         "line": {
          "color": "#44AA99"
         },
         "marker": {
          "size": 10,
          "symbol": "triangle-down"
         },
         "mode": "markers",
         "name": "pig2pig",
         "showlegend": false,
         "text": "95 % CI median: [0.79;0.87]",
         "type": "scatter",
         "x": [
          0.7
         ],
         "xaxis": "x",
         "y": [
          0.7871294175916498
         ],
         "yaxis": "y"
        },
        {
         "legendgroup": "pig2pig",
         "line": {
          "color": "#44AA99"
         },
         "marker": {
          "size": 10,
          "symbol": "triangle-up"
         },
         "mode": "markers",
         "name": "pig2pig",
         "showlegend": false,
         "text": "95 % CI median: [0.79;0.87]",
         "type": "scatter",
         "x": [
          0.7
         ],
         "xaxis": "x",
         "y": [
          0.8683943710931711
         ],
         "yaxis": "y"
        },
        {
         "legend": "legend",
         "legendgroup": "pig2rat",
         "marker": {
          "color": "#89CCED",
          "line": {
           "color": "black",
           "width": 1
          },
          "size": 9,
          "symbol": "triangle-right"
         },
         "mode": "markers",
         "name": "lung",
         "showlegend": false,
         "type": "scatter",
         "x": [
          1
         ],
         "xaxis": "x",
         "y": [
          0.9665604921487662
         ],
         "yaxis": "y"
        },
        {
         "legend": "legend",
         "legendgroup": "pig2rat",
         "marker": {
          "color": "#89CCED",
          "line": {
           "color": "black",
           "width": 1
          },
          "size": 9,
          "symbol": "triangle-sw"
         },
         "mode": "markers",
         "name": "background",
         "showlegend": false,
         "type": "scatter",
         "x": [
          1.0933333333333333
         ],
         "xaxis": "x",
         "y": [
          0.6783514131141035
         ],
         "yaxis": "y"
        },
        {
         "legend": "legend",
         "legendgroup": "pig2rat",
         "marker": {
          "color": "#89CCED",
          "line": {
           "color": "black",
           "width": 1
          },
          "size": 9,
          "symbol": "triangle-se"
         },
         "mode": "markers",
         "name": "peritoneum",
         "showlegend": false,
         "type": "scatter",
         "x": [
          1.1866666666666668
         ],
         "xaxis": "x",
         "y": [
          0.6407405166627265
         ],
         "yaxis": "y"
        },
        {
         "legend": "legend",
         "legendgroup": "pig2rat",
         "marker": {
          "color": "#89CCED",
          "line": {
           "color": "black",
           "width": 1
          },
          "size": 9,
          "symbol": "triangle-ne"
         },
         "mode": "markers",
         "name": "skin",
         "showlegend": false,
         "type": "scatter",
         "x": [
          1.28
         ],
         "xaxis": "x",
         "y": [
          0.5264504383368735
         ],
         "yaxis": "y"
        },
        {
         "legend": "legend",
         "legendgroup": "pig2rat",
         "marker": {
          "color": "#89CCED",
          "line": {
           "color": "black",
           "width": 1
          },
          "size": 9,
          "symbol": "triangle-up"
         },
         "mode": "markers",
         "name": "kidney",
         "showlegend": false,
         "type": "scatter",
         "x": [
          1
         ],
         "xaxis": "x",
         "y": [
          0.5018283862989027
         ],
         "yaxis": "y"
        },
        {
         "legend": "legend",
         "legendgroup": "pig2rat",
         "marker": {
          "color": "#89CCED",
          "line": {
           "color": "black",
           "width": 1
          },
          "size": 9,
          "symbol": "cross"
         },
         "mode": "markers",
         "name": "liver",
         "showlegend": false,
         "type": "scatter",
         "x": [
          1.0933333333333333
         ],
         "xaxis": "x",
         "y": [
          0.4804982507653846
         ],
         "yaxis": "y"
        },
        {
         "legend": "legend",
         "legendgroup": "pig2rat",
         "marker": {
          "color": "#89CCED",
          "line": {
           "color": "black",
           "width": 1
          },
          "size": 9,
          "symbol": "diamond"
         },
         "mode": "markers",
         "name": "colon",
         "showlegend": false,
         "type": "scatter",
         "x": [
          1.1866666666666668
         ],
         "xaxis": "x",
         "y": [
          0.32990584379078364
         ],
         "yaxis": "y"
        },
        {
         "legend": "legend",
         "legendgroup": "pig2rat",
         "marker": {
          "color": "#89CCED",
          "line": {
           "color": "black",
           "width": 1
          },
          "size": 9,
          "symbol": "triangle-left"
         },
         "mode": "markers",
         "name": "omentum",
         "showlegend": false,
         "type": "scatter",
         "x": [
          1.28
         ],
         "xaxis": "x",
         "y": [
          0.2824695678116441
         ],
         "yaxis": "y"
        },
        {
         "legend": "legend",
         "legendgroup": "pig2rat",
         "marker": {
          "color": "#89CCED",
          "line": {
           "color": "black",
           "width": 1
          },
          "size": 9,
          "symbol": "x"
         },
         "mode": "markers",
         "name": "pancreas",
         "showlegend": false,
         "type": "scatter",
         "x": [
          1
         ],
         "xaxis": "x",
         "y": [
          0.27558766134601814
         ],
         "yaxis": "y"
        },
        {
         "legend": "legend",
         "legendgroup": "pig2rat",
         "marker": {
          "color": "#89CCED",
          "line": {
           "color": "black",
           "width": 1
          },
          "size": 9,
          "symbol": "square"
         },
         "mode": "markers",
         "name": "small_bowel",
         "showlegend": false,
         "type": "scatter",
         "x": [
          1.0933333333333333
         ],
         "xaxis": "x",
         "y": [
          0.16025507828074498
         ],
         "yaxis": "y"
        },
        {
         "legend": "legend",
         "legendgroup": "pig2rat",
         "marker": {
          "color": "#89CCED",
          "line": {
           "color": "black",
           "width": 1
          },
          "size": 9,
          "symbol": "circle"
         },
         "mode": "markers",
         "name": "stomach",
         "showlegend": false,
         "type": "scatter",
         "x": [
          1.1866666666666668
         ],
         "xaxis": "x",
         "y": [
          0.144521153037169
         ],
         "yaxis": "y"
        },
        {
         "legend": "legend",
         "legendgroup": "pig2rat",
         "marker": {
          "color": "#89CCED",
          "line": {
           "color": "black",
           "width": 1
          },
          "size": 9,
          "symbol": "triangle-down"
         },
         "mode": "markers",
         "name": "spleen",
         "showlegend": false,
         "type": "scatter",
         "x": [
          1.28
         ],
         "xaxis": "x",
         "y": [
          0.05644062040009079
         ],
         "yaxis": "y"
        },
        {
         "boxmean": true,
         "boxpoints": false,
         "legend": "legend2",
         "legendgroup": "pig2rat",
         "line": {
          "color": "#89CCED"
         },
         "name": "pig2rat",
         "showlegend": true,
         "type": "box",
         "x": [
          1.6,
          1.6,
          1.6,
          1.6,
          1.6,
          1.6,
          1.6,
          1.6,
          1.6,
          1.6,
          1.6,
          1.6
         ],
         "xaxis": "x",
         "y": [
          0.9665604921487662,
          0.6783514131141035,
          0.6407405166627265,
          0.5264504383368735,
          0.5018283862989027,
          0.4804982507653846,
          0.32990584379078364,
          0.2824695678116441,
          0.27558766134601814,
          0.16025507828074498,
          0.144521153037169,
          0.05644062040009079
         ],
         "yaxis": "y"
        },
        {
         "legendgroup": "pig2rat",
         "line": {
          "color": "#89CCED",
          "dash": "dot"
         },
         "mode": "lines",
         "name": "pig2rat",
         "showlegend": false,
         "text": "95 % CI mean: [0.41;0.43]",
         "type": "scatter",
         "x": [
          1.5,
          1.5
         ],
         "xaxis": "x",
         "y": [
          0.40697657729874454,
          0.4349704068947096
         ],
         "yaxis": "y"
        },
        {
         "legendgroup": "pig2rat",
         "line": {
          "color": "#89CCED"
         },
         "marker": {
          "size": 10,
          "symbol": "triangle-down-open"
         },
         "mode": "markers",
         "name": "pig2rat",
         "showlegend": false,
         "text": "95 % CI mean: [0.41;0.43]",
         "type": "scatter",
         "x": [
          1.5
         ],
         "xaxis": "x",
         "y": [
          0.40697657729874454
         ],
         "yaxis": "y"
        },
        {
         "legendgroup": "pig2rat",
         "line": {
          "color": "#89CCED"
         },
         "marker": {
          "size": 10,
          "symbol": "triangle-up-open"
         },
         "mode": "markers",
         "name": "pig2rat",
         "showlegend": false,
         "text": "95 % CI mean: [0.41;0.43]",
         "type": "scatter",
         "x": [
          1.5
         ],
         "xaxis": "x",
         "y": [
          0.4349704068947096
         ],
         "yaxis": "y"
        },
        {
         "legendgroup": "pig2rat",
         "line": {
          "color": "#89CCED",
          "dash": "solid"
         },
         "mode": "lines",
         "name": "pig2rat",
         "showlegend": false,
         "text": "95 % CI median: [0.37;0.43]",
         "type": "scatter",
         "x": [
          1.7,
          1.7
         ],
         "xaxis": "x",
         "y": [
          0.3703057916283071,
          0.4257116752708853
         ],
         "yaxis": "y"
        },
        {
         "legendgroup": "pig2rat",
         "line": {
          "color": "#89CCED"
         },
         "marker": {
          "size": 10,
          "symbol": "triangle-down"
         },
         "mode": "markers",
         "name": "pig2rat",
         "showlegend": false,
         "text": "95 % CI median: [0.37;0.43]",
         "type": "scatter",
         "x": [
          1.7
         ],
         "xaxis": "x",
         "y": [
          0.3703057916283071
         ],
         "yaxis": "y"
        },
        {
         "legendgroup": "pig2rat",
         "line": {
          "color": "#89CCED"
         },
         "marker": {
          "size": 10,
          "symbol": "triangle-up"
         },
         "mode": "markers",
         "name": "pig2rat",
         "showlegend": false,
         "text": "95 % CI median: [0.37;0.43]",
         "type": "scatter",
         "x": [
          1.7
         ],
         "xaxis": "x",
         "y": [
          0.4257116752708853
         ],
         "yaxis": "y"
        },
        {
         "legend": "legend",
         "legendgroup": "pig2human",
         "marker": {
          "color": "#DDCB76",
          "line": {
           "color": "black",
           "width": 1
          },
          "size": 9,
          "symbol": "triangle-ne"
         },
         "mode": "markers",
         "name": "skin",
         "showlegend": false,
         "type": "scatter",
         "x": [
          2
         ],
         "xaxis": "x",
         "y": [
          0.7930409227537297
         ],
         "yaxis": "y"
        },
        {
         "legend": "legend",
         "legendgroup": "pig2human",
         "marker": {
          "color": "#DDCB76",
          "line": {
           "color": "black",
           "width": 1
          },
          "size": 9,
          "symbol": "triangle-sw"
         },
         "mode": "markers",
         "name": "background",
         "showlegend": false,
         "type": "scatter",
         "x": [
          2.0933333333333333
         ],
         "xaxis": "x",
         "y": [
          0.6937688300492143
         ],
         "yaxis": "y"
        },
        {
         "legend": "legend",
         "legendgroup": "pig2human",
         "marker": {
          "color": "#DDCB76",
          "line": {
           "color": "black",
           "width": 1
          },
          "size": 9,
          "symbol": "triangle-right"
         },
         "mode": "markers",
         "name": "lung",
         "showlegend": false,
         "type": "scatter",
         "x": [
          2.1866666666666665
         ],
         "xaxis": "x",
         "y": [
          0.4566251993841595
         ],
         "yaxis": "y"
        },
        {
         "legend": "legend",
         "legendgroup": "pig2human",
         "marker": {
          "color": "#DDCB76",
          "line": {
           "color": "black",
           "width": 1
          },
          "size": 9,
          "symbol": "triangle-left"
         },
         "mode": "markers",
         "name": "omentum",
         "showlegend": false,
         "type": "scatter",
         "x": [
          2.28
         ],
         "xaxis": "x",
         "y": [
          0.4460826853310139
         ],
         "yaxis": "y"
        },
        {
         "legend": "legend",
         "legendgroup": "pig2human",
         "marker": {
          "color": "#DDCB76",
          "line": {
           "color": "black",
           "width": 1
          },
          "size": 9,
          "symbol": "triangle-se"
         },
         "mode": "markers",
         "name": "peritoneum",
         "showlegend": false,
         "type": "scatter",
         "x": [
          2
         ],
         "xaxis": "x",
         "y": [
          0.33354861423874105
         ],
         "yaxis": "y"
        },
        {
         "legend": "legend",
         "legendgroup": "pig2human",
         "marker": {
          "color": "#DDCB76",
          "line": {
           "color": "black",
           "width": 1
          },
          "size": 9,
          "symbol": "circle"
         },
         "mode": "markers",
         "name": "stomach",
         "showlegend": false,
         "type": "scatter",
         "x": [
          2.0933333333333333
         ],
         "xaxis": "x",
         "y": [
          0.32645506592658835
         ],
         "yaxis": "y"
        },
        {
         "legend": "legend",
         "legendgroup": "pig2human",
         "marker": {
          "color": "#DDCB76",
          "line": {
           "color": "black",
           "width": 1
          },
          "size": 9,
          "symbol": "diamond"
         },
         "mode": "markers",
         "name": "colon",
         "showlegend": false,
         "type": "scatter",
         "x": [
          2.1866666666666665
         ],
         "xaxis": "x",
         "y": [
          0.19489637815966737
         ],
         "yaxis": "y"
        },
        {
         "legend": "legend",
         "legendgroup": "pig2human",
         "marker": {
          "color": "#DDCB76",
          "line": {
           "color": "black",
           "width": 1
          },
          "size": 9,
          "symbol": "triangle-down"
         },
         "mode": "markers",
         "name": "spleen",
         "showlegend": false,
         "type": "scatter",
         "x": [
          2.28
         ],
         "xaxis": "x",
         "y": [
          0.19052227238814037
         ],
         "yaxis": "y"
        },
        {
         "legend": "legend",
         "legendgroup": "pig2human",
         "marker": {
          "color": "#DDCB76",
          "line": {
           "color": "black",
           "width": 1
          },
          "size": 9,
          "symbol": "square"
         },
         "mode": "markers",
         "name": "small_bowel",
         "showlegend": false,
         "type": "scatter",
         "x": [
          2
         ],
         "xaxis": "x",
         "y": [
          0.18345963420652484
         ],
         "yaxis": "y"
        },
        {
         "legend": "legend",
         "legendgroup": "pig2human",
         "marker": {
          "color": "#DDCB76",
          "line": {
           "color": "black",
           "width": 1
          },
          "size": 9,
          "symbol": "triangle-up"
         },
         "mode": "markers",
         "name": "kidney",
         "showlegend": false,
         "type": "scatter",
         "x": [
          2.0933333333333333
         ],
         "xaxis": "x",
         "y": [
          0.14353219614269966
         ],
         "yaxis": "y"
        },
        {
         "legend": "legend",
         "legendgroup": "pig2human",
         "marker": {
          "color": "#DDCB76",
          "line": {
           "color": "black",
           "width": 1
          },
          "size": 9,
          "symbol": "cross"
         },
         "mode": "markers",
         "name": "liver",
         "showlegend": false,
         "type": "scatter",
         "x": [
          2.1866666666666665
         ],
         "xaxis": "x",
         "y": [
          0.08230939610104758
         ],
         "yaxis": "y"
        },
        {
         "legend": "legend",
         "legendgroup": "pig2human",
         "marker": {
          "color": "#DDCB76",
          "line": {
           "color": "black",
           "width": 1
          },
          "size": 9,
          "symbol": "x"
         },
         "mode": "markers",
         "name": "pancreas",
         "showlegend": false,
         "type": "scatter",
         "x": [
          2.28
         ],
         "xaxis": "x",
         "y": [
          0.05610147405298952
         ],
         "yaxis": "y"
        },
        {
         "boxmean": true,
         "boxpoints": false,
         "legend": "legend2",
         "legendgroup": "pig2human",
         "line": {
          "color": "#DDCB76"
         },
         "name": "pig2human",
         "showlegend": true,
         "type": "box",
         "x": [
          2.6,
          2.6,
          2.6,
          2.6,
          2.6,
          2.6,
          2.6,
          2.6,
          2.6,
          2.6,
          2.6,
          2.6
         ],
         "xaxis": "x",
         "y": [
          0.7930409227537297,
          0.6937688300492143,
          0.4566251993841595,
          0.4460826853310139,
          0.33354861423874105,
          0.32645506592658835,
          0.19489637815966737,
          0.19052227238814037,
          0.18345963420652484,
          0.14353219614269966,
          0.08230939610104758,
          0.05610147405298952
         ],
         "yaxis": "y"
        },
        {
         "legendgroup": "pig2human",
         "line": {
          "color": "#DDCB76",
          "dash": "dot"
         },
         "mode": "lines",
         "name": "pig2human",
         "showlegend": false,
         "text": "95 % CI mean: [0.31;0.34]",
         "type": "scatter",
         "x": [
          2.5,
          2.5
         ],
         "xaxis": "x",
         "y": [
          0.3076837705233507,
          0.34255576617045475
         ],
         "yaxis": "y"
        },
        {
         "legendgroup": "pig2human",
         "line": {
          "color": "#DDCB76"
         },
         "marker": {
          "size": 10,
          "symbol": "triangle-down-open"
         },
         "mode": "markers",
         "name": "pig2human",
         "showlegend": false,
         "text": "95 % CI mean: [0.31;0.34]",
         "type": "scatter",
         "x": [
          2.5
         ],
         "xaxis": "x",
         "y": [
          0.3076837705233507
         ],
         "yaxis": "y"
        },
        {
         "legendgroup": "pig2human",
         "line": {
          "color": "#DDCB76"
         },
         "marker": {
          "size": 10,
          "symbol": "triangle-up-open"
         },
         "mode": "markers",
         "name": "pig2human",
         "showlegend": false,
         "text": "95 % CI mean: [0.31;0.34]",
         "type": "scatter",
         "x": [
          2.5
         ],
         "xaxis": "x",
         "y": [
          0.34255576617045475
         ],
         "yaxis": "y"
        },
        {
         "legendgroup": "pig2human",
         "line": {
          "color": "#DDCB76",
          "dash": "solid"
         },
         "mode": "lines",
         "name": "pig2human",
         "showlegend": false,
         "text": "95 % CI median: [0.23;0.32]",
         "type": "scatter",
         "x": [
          2.7,
          2.7
         ],
         "xaxis": "x",
         "y": [
          0.2321627567825967,
          0.3164435493461754
         ],
         "yaxis": "y"
        },
        {
         "legendgroup": "pig2human",
         "line": {
          "color": "#DDCB76"
         },
         "marker": {
          "size": 10,
          "symbol": "triangle-down"
         },
         "mode": "markers",
         "name": "pig2human",
         "showlegend": false,
         "text": "95 % CI median: [0.23;0.32]",
         "type": "scatter",
         "x": [
          2.7
         ],
         "xaxis": "x",
         "y": [
          0.2321627567825967
         ],
         "yaxis": "y"
        },
        {
         "legendgroup": "pig2human",
         "line": {
          "color": "#DDCB76"
         },
         "marker": {
          "size": 10,
          "symbol": "triangle-up"
         },
         "mode": "markers",
         "name": "pig2human",
         "showlegend": false,
         "text": "95 % CI median: [0.23;0.32]",
         "type": "scatter",
         "x": [
          2.7
         ],
         "xaxis": "x",
         "y": [
          0.3164435493461754
         ],
         "yaxis": "y"
        },
        {
         "legend": "legend",
         "marker": {
          "color": "gray",
          "line": {
           "color": "black",
           "width": 1
          },
          "size": 9,
          "symbol": "circle"
         },
         "mode": "markers",
         "name": "stomach",
         "showlegend": false,
         "type": "scatter",
         "x": [
          null
         ],
         "xaxis": "x2",
         "y": [
          null
         ],
         "yaxis": "y2"
        },
        {
         "legend": "legend",
         "marker": {
          "color": "gray",
          "line": {
           "color": "black",
           "width": 1
          },
          "size": 9,
          "symbol": "square"
         },
         "mode": "markers",
         "name": "small_bowel",
         "showlegend": false,
         "type": "scatter",
         "x": [
          null
         ],
         "xaxis": "x2",
         "y": [
          null
         ],
         "yaxis": "y2"
        },
        {
         "legend": "legend",
         "marker": {
          "color": "gray",
          "line": {
           "color": "black",
           "width": 1
          },
          "size": 9,
          "symbol": "diamond"
         },
         "mode": "markers",
         "name": "colon",
         "showlegend": false,
         "type": "scatter",
         "x": [
          null
         ],
         "xaxis": "x2",
         "y": [
          null
         ],
         "yaxis": "y2"
        },
        {
         "legend": "legend",
         "marker": {
          "color": "gray",
          "line": {
           "color": "black",
           "width": 1
          },
          "size": 9,
          "symbol": "cross"
         },
         "mode": "markers",
         "name": "liver",
         "showlegend": false,
         "type": "scatter",
         "x": [
          null
         ],
         "xaxis": "x2",
         "y": [
          null
         ],
         "yaxis": "y2"
        },
        {
         "legend": "legend",
         "marker": {
          "color": "gray",
          "line": {
           "color": "black",
           "width": 1
          },
          "size": 9,
          "symbol": "x"
         },
         "mode": "markers",
         "name": "pancreas",
         "showlegend": false,
         "type": "scatter",
         "x": [
          null
         ],
         "xaxis": "x2",
         "y": [
          null
         ],
         "yaxis": "y2"
        },
        {
         "legend": "legend",
         "marker": {
          "color": "gray",
          "line": {
           "color": "black",
           "width": 1
          },
          "size": 9,
          "symbol": "triangle-up"
         },
         "mode": "markers",
         "name": "kidney",
         "showlegend": false,
         "type": "scatter",
         "x": [
          null
         ],
         "xaxis": "x2",
         "y": [
          null
         ],
         "yaxis": "y2"
        },
        {
         "legend": "legend",
         "marker": {
          "color": "gray",
          "line": {
           "color": "black",
           "width": 1
          },
          "size": 9,
          "symbol": "triangle-down"
         },
         "mode": "markers",
         "name": "spleen",
         "showlegend": false,
         "type": "scatter",
         "x": [
          null
         ],
         "xaxis": "x2",
         "y": [
          null
         ],
         "yaxis": "y2"
        },
        {
         "legend": "legend",
         "marker": {
          "color": "gray",
          "line": {
           "color": "black",
           "width": 1
          },
          "size": 9,
          "symbol": "triangle-left"
         },
         "mode": "markers",
         "name": "omentum",
         "showlegend": false,
         "type": "scatter",
         "x": [
          null
         ],
         "xaxis": "x2",
         "y": [
          null
         ],
         "yaxis": "y2"
        },
        {
         "legend": "legend",
         "marker": {
          "color": "gray",
          "line": {
           "color": "black",
           "width": 1
          },
          "size": 9,
          "symbol": "triangle-right"
         },
         "mode": "markers",
         "name": "lung",
         "showlegend": false,
         "type": "scatter",
         "x": [
          null
         ],
         "xaxis": "x2",
         "y": [
          null
         ],
         "yaxis": "y2"
        },
        {
         "legend": "legend",
         "marker": {
          "color": "gray",
          "line": {
           "color": "black",
           "width": 1
          },
          "size": 9,
          "symbol": "triangle-ne"
         },
         "mode": "markers",
         "name": "skin",
         "showlegend": false,
         "type": "scatter",
         "x": [
          null
         ],
         "xaxis": "x2",
         "y": [
          null
         ],
         "yaxis": "y2"
        },
        {
         "legend": "legend",
         "marker": {
          "color": "gray",
          "line": {
           "color": "black",
           "width": 1
          },
          "size": 9,
          "symbol": "triangle-se"
         },
         "mode": "markers",
         "name": "peritoneum",
         "showlegend": false,
         "type": "scatter",
         "x": [
          null
         ],
         "xaxis": "x2",
         "y": [
          null
         ],
         "yaxis": "y2"
        },
        {
         "legend": "legend",
         "marker": {
          "color": "gray",
          "line": {
           "color": "black",
           "width": 1
          },
          "size": 9,
          "symbol": "triangle-sw"
         },
         "mode": "markers",
         "name": "background",
         "showlegend": false,
         "type": "scatter",
         "x": [
          null
         ],
         "xaxis": "x2",
         "y": [
          null
         ],
         "yaxis": "y2"
        },
        {
         "legend": "legend",
         "legendgroup": "rat2rat",
         "marker": {
          "color": "#89CCED",
          "line": {
           "color": "black",
           "width": 1
          },
          "size": 9,
          "symbol": "triangle-right"
         },
         "mode": "markers",
         "name": "lung",
         "showlegend": false,
         "type": "scatter",
         "x": [
          0
         ],
         "xaxis": "x2",
         "y": [
          0.986685966834044
         ],
         "yaxis": "y2"
        },
        {
         "legend": "legend",
         "legendgroup": "rat2rat",
         "marker": {
          "color": "#89CCED",
          "line": {
           "color": "black",
           "width": 1
          },
          "size": 9,
          "symbol": "triangle-se"
         },
         "mode": "markers",
         "name": "peritoneum",
         "showlegend": false,
         "type": "scatter",
         "x": [
          0.09333333333333334
         ],
         "xaxis": "x2",
         "y": [
          0.9779430029761128
         ],
         "yaxis": "y2"
        },
        {
         "legend": "legend",
         "legendgroup": "rat2rat",
         "marker": {
          "color": "#89CCED",
          "line": {
           "color": "black",
           "width": 1
          },
          "size": 9,
          "symbol": "triangle-sw"
         },
         "mode": "markers",
         "name": "background",
         "showlegend": false,
         "type": "scatter",
         "x": [
          0.18666666666666668
         ],
         "xaxis": "x2",
         "y": [
          0.9540127617336824
         ],
         "yaxis": "y2"
        },
        {
         "legend": "legend",
         "legendgroup": "rat2rat",
         "marker": {
          "color": "#89CCED",
          "line": {
           "color": "black",
           "width": 1
          },
          "size": 9,
          "symbol": "triangle-ne"
         },
         "mode": "markers",
         "name": "skin",
         "showlegend": false,
         "type": "scatter",
         "x": [
          0.28
         ],
         "xaxis": "x2",
         "y": [
          0.9434143818325308
         ],
         "yaxis": "y2"
        },
        {
         "legend": "legend",
         "legendgroup": "rat2rat",
         "marker": {
          "color": "#89CCED",
          "line": {
           "color": "black",
           "width": 1
          },
          "size": 9,
          "symbol": "square"
         },
         "mode": "markers",
         "name": "small_bowel",
         "showlegend": false,
         "type": "scatter",
         "x": [
          0
         ],
         "xaxis": "x2",
         "y": [
          0.8736784447153666
         ],
         "yaxis": "y2"
        },
        {
         "legend": "legend",
         "legendgroup": "rat2rat",
         "marker": {
          "color": "#89CCED",
          "line": {
           "color": "black",
           "width": 1
          },
          "size": 9,
          "symbol": "triangle-up"
         },
         "mode": "markers",
         "name": "kidney",
         "showlegend": false,
         "type": "scatter",
         "x": [
          0.09333333333333334
         ],
         "xaxis": "x2",
         "y": [
          0.8425407313165211
         ],
         "yaxis": "y2"
        },
        {
         "legend": "legend",
         "legendgroup": "rat2rat",
         "marker": {
          "color": "#89CCED",
          "line": {
           "color": "black",
           "width": 1
          },
          "size": 9,
          "symbol": "triangle-left"
         },
         "mode": "markers",
         "name": "omentum",
         "showlegend": false,
         "type": "scatter",
         "x": [
          0.18666666666666668
         ],
         "xaxis": "x2",
         "y": [
          0.8391069408991222
         ],
         "yaxis": "y2"
        },
        {
         "legend": "legend",
         "legendgroup": "rat2rat",
         "marker": {
          "color": "#89CCED",
          "line": {
           "color": "black",
           "width": 1
          },
          "size": 9,
          "symbol": "circle"
         },
         "mode": "markers",
         "name": "stomach",
         "showlegend": false,
         "type": "scatter",
         "x": [
          0.28
         ],
         "xaxis": "x2",
         "y": [
          0.8264226446780041
         ],
         "yaxis": "y2"
        },
        {
         "legend": "legend",
         "legendgroup": "rat2rat",
         "marker": {
          "color": "#89CCED",
          "line": {
           "color": "black",
           "width": 1
          },
          "size": 9,
          "symbol": "triangle-down"
         },
         "mode": "markers",
         "name": "spleen",
         "showlegend": false,
         "type": "scatter",
         "x": [
          0
         ],
         "xaxis": "x2",
         "y": [
          0.7814664246191249
         ],
         "yaxis": "y2"
        },
        {
         "legend": "legend",
         "legendgroup": "rat2rat",
         "marker": {
          "color": "#89CCED",
          "line": {
           "color": "black",
           "width": 1
          },
          "size": 9,
          "symbol": "diamond"
         },
         "mode": "markers",
         "name": "colon",
         "showlegend": false,
         "type": "scatter",
         "x": [
          0.09333333333333334
         ],
         "xaxis": "x2",
         "y": [
          0.7675167327029835
         ],
         "yaxis": "y2"
        },
        {
         "legend": "legend",
         "legendgroup": "rat2rat",
         "marker": {
          "color": "#89CCED",
          "line": {
           "color": "black",
           "width": 1
          },
          "size": 9,
          "symbol": "cross"
         },
         "mode": "markers",
         "name": "liver",
         "showlegend": false,
         "type": "scatter",
         "x": [
          0.18666666666666668
         ],
         "xaxis": "x2",
         "y": [
          0.7392227431358054
         ],
         "yaxis": "y2"
        },
        {
         "legend": "legend",
         "legendgroup": "rat2rat",
         "marker": {
          "color": "#89CCED",
          "line": {
           "color": "black",
           "width": 1
          },
          "size": 9,
          "symbol": "x"
         },
         "mode": "markers",
         "name": "pancreas",
         "showlegend": false,
         "type": "scatter",
         "x": [
          0.28
         ],
         "xaxis": "x2",
         "y": [
          0.6675679325620769
         ],
         "yaxis": "y2"
        },
        {
         "boxmean": true,
         "boxpoints": false,
         "legend": "legend2",
         "legendgroup": "rat2rat",
         "line": {
          "color": "#89CCED"
         },
         "name": "rat2rat",
         "showlegend": false,
         "type": "box",
         "x": [
          0.6,
          0.6,
          0.6,
          0.6,
          0.6,
          0.6,
          0.6,
          0.6,
          0.6,
          0.6,
          0.6,
          0.6
         ],
         "xaxis": "x2",
         "y": [
          0.986685966834044,
          0.9779430029761128,
          0.9540127617336824,
          0.9434143818325308,
          0.8736784447153666,
          0.8425407313165211,
          0.8391069408991222,
          0.8264226446780041,
          0.7814664246191249,
          0.7675167327029835,
          0.7392227431358054,
          0.6675679325620769
         ],
         "yaxis": "y2"
        },
        {
         "legendgroup": "rat2rat",
         "line": {
          "color": "#89CCED",
          "dash": "dot"
         },
         "mode": "lines",
         "name": "rat2rat",
         "showlegend": false,
         "text": "95 % CI mean: [0.84;0.86]",
         "type": "scatter",
         "x": [
          0.5,
          0.5
         ],
         "xaxis": "x2",
         "y": [
          0.8382251631441091,
          0.861769818849457
         ],
         "yaxis": "y2"
        },
        {
         "legendgroup": "rat2rat",
         "line": {
          "color": "#89CCED"
         },
         "marker": {
          "size": 10,
          "symbol": "triangle-down-open"
         },
         "mode": "markers",
         "name": "rat2rat",
         "showlegend": false,
         "text": "95 % CI mean: [0.84;0.86]",
         "type": "scatter",
         "x": [
          0.5
         ],
         "xaxis": "x2",
         "y": [
          0.8382251631441091
         ],
         "yaxis": "y2"
        },
        {
         "legendgroup": "rat2rat",
         "line": {
          "color": "#89CCED"
         },
         "marker": {
          "size": 10,
          "symbol": "triangle-up-open"
         },
         "mode": "markers",
         "name": "rat2rat",
         "showlegend": false,
         "text": "95 % CI mean: [0.84;0.86]",
         "type": "scatter",
         "x": [
          0.5
         ],
         "xaxis": "x2",
         "y": [
          0.861769818849457
         ],
         "yaxis": "y2"
        },
        {
         "legendgroup": "rat2rat",
         "line": {
          "color": "#89CCED",
          "dash": "solid"
         },
         "mode": "lines",
         "name": "rat2rat",
         "showlegend": false,
         "text": "95 % CI median: [0.82;0.87]",
         "type": "scatter",
         "x": [
          0.7,
          0.7
         ],
         "xaxis": "x2",
         "y": [
          0.8237440335972203,
          0.8662700256095697
         ],
         "yaxis": "y2"
        },
        {
         "legendgroup": "rat2rat",
         "line": {
          "color": "#89CCED"
         },
         "marker": {
          "size": 10,
          "symbol": "triangle-down"
         },
         "mode": "markers",
         "name": "rat2rat",
         "showlegend": false,
         "text": "95 % CI median: [0.82;0.87]",
         "type": "scatter",
         "x": [
          0.7
         ],
         "xaxis": "x2",
         "y": [
          0.8237440335972203
         ],
         "yaxis": "y2"
        },
        {
         "legendgroup": "rat2rat",
         "line": {
          "color": "#89CCED"
         },
         "marker": {
          "size": 10,
          "symbol": "triangle-up"
         },
         "mode": "markers",
         "name": "rat2rat",
         "showlegend": false,
         "text": "95 % CI median: [0.82;0.87]",
         "type": "scatter",
         "x": [
          0.7
         ],
         "xaxis": "x2",
         "y": [
          0.8662700256095697
         ],
         "yaxis": "y2"
        },
        {
         "legend": "legend",
         "legendgroup": "rat2pig",
         "marker": {
          "color": "#44AA99",
          "line": {
           "color": "black",
           "width": 1
          },
          "size": 9,
          "symbol": "triangle-ne"
         },
         "mode": "markers",
         "name": "skin",
         "showlegend": false,
         "type": "scatter",
         "x": [
          1
         ],
         "xaxis": "x2",
         "y": [
          0.5590459891796337
         ],
         "yaxis": "y2"
        },
        {
         "legend": "legend",
         "legendgroup": "rat2pig",
         "marker": {
          "color": "#44AA99",
          "line": {
           "color": "black",
           "width": 1
          },
          "size": 9,
          "symbol": "triangle-sw"
         },
         "mode": "markers",
         "name": "background",
         "showlegend": false,
         "type": "scatter",
         "x": [
          1.0933333333333333
         ],
         "xaxis": "x2",
         "y": [
          0.5253534667799388
         ],
         "yaxis": "y2"
        },
        {
         "legend": "legend",
         "legendgroup": "rat2pig",
         "marker": {
          "color": "#44AA99",
          "line": {
           "color": "black",
           "width": 1
          },
          "size": 9,
          "symbol": "triangle-right"
         },
         "mode": "markers",
         "name": "lung",
         "showlegend": false,
         "type": "scatter",
         "x": [
          1.1866666666666668
         ],
         "xaxis": "x2",
         "y": [
          0.5034799267316148
         ],
         "yaxis": "y2"
        },
        {
         "legend": "legend",
         "legendgroup": "rat2pig",
         "marker": {
          "color": "#44AA99",
          "line": {
           "color": "black",
           "width": 1
          },
          "size": 9,
          "symbol": "cross"
         },
         "mode": "markers",
         "name": "liver",
         "showlegend": false,
         "type": "scatter",
         "x": [
          1.28
         ],
         "xaxis": "x2",
         "y": [
          0.46451879498440657
         ],
         "yaxis": "y2"
        },
        {
         "legend": "legend",
         "legendgroup": "rat2pig",
         "marker": {
          "color": "#44AA99",
          "line": {
           "color": "black",
           "width": 1
          },
          "size": 9,
          "symbol": "triangle-se"
         },
         "mode": "markers",
         "name": "peritoneum",
         "showlegend": false,
         "type": "scatter",
         "x": [
          1
         ],
         "xaxis": "x2",
         "y": [
          0.3874100993211658
         ],
         "yaxis": "y2"
        },
        {
         "legend": "legend",
         "legendgroup": "rat2pig",
         "marker": {
          "color": "#44AA99",
          "line": {
           "color": "black",
           "width": 1
          },
          "size": 9,
          "symbol": "square"
         },
         "mode": "markers",
         "name": "small_bowel",
         "showlegend": false,
         "type": "scatter",
         "x": [
          1.0933333333333333
         ],
         "xaxis": "x2",
         "y": [
          0.38189305418897845
         ],
         "yaxis": "y2"
        },
        {
         "legend": "legend",
         "legendgroup": "rat2pig",
         "marker": {
          "color": "#44AA99",
          "line": {
           "color": "black",
           "width": 1
          },
          "size": 9,
          "symbol": "triangle-down"
         },
         "mode": "markers",
         "name": "spleen",
         "showlegend": false,
         "type": "scatter",
         "x": [
          1.1866666666666668
         ],
         "xaxis": "x2",
         "y": [
          0.3201384294696354
         ],
         "yaxis": "y2"
        },
        {
         "legend": "legend",
         "legendgroup": "rat2pig",
         "marker": {
          "color": "#44AA99",
          "line": {
           "color": "black",
           "width": 1
          },
          "size": 9,
          "symbol": "x"
         },
         "mode": "markers",
         "name": "pancreas",
         "showlegend": false,
         "type": "scatter",
         "x": [
          1.28
         ],
         "xaxis": "x2",
         "y": [
          0.2535087051798427
         ],
         "yaxis": "y2"
        },
        {
         "legend": "legend",
         "legendgroup": "rat2pig",
         "marker": {
          "color": "#44AA99",
          "line": {
           "color": "black",
           "width": 1
          },
          "size": 9,
          "symbol": "triangle-left"
         },
         "mode": "markers",
         "name": "omentum",
         "showlegend": false,
         "type": "scatter",
         "x": [
          1
         ],
         "xaxis": "x2",
         "y": [
          0.2163514219175865
         ],
         "yaxis": "y2"
        },
        {
         "legend": "legend",
         "legendgroup": "rat2pig",
         "marker": {
          "color": "#44AA99",
          "line": {
           "color": "black",
           "width": 1
          },
          "size": 9,
          "symbol": "diamond"
         },
         "mode": "markers",
         "name": "colon",
         "showlegend": false,
         "type": "scatter",
         "x": [
          1.0933333333333333
         ],
         "xaxis": "x2",
         "y": [
          0.2119251420071226
         ],
         "yaxis": "y2"
        },
        {
         "legend": "legend",
         "legendgroup": "rat2pig",
         "marker": {
          "color": "#44AA99",
          "line": {
           "color": "black",
           "width": 1
          },
          "size": 9,
          "symbol": "circle"
         },
         "mode": "markers",
         "name": "stomach",
         "showlegend": false,
         "type": "scatter",
         "x": [
          1.1866666666666668
         ],
         "xaxis": "x2",
         "y": [
          0.014048675142347365
         ],
         "yaxis": "y2"
        },
        {
         "legend": "legend",
         "legendgroup": "rat2pig",
         "marker": {
          "color": "#44AA99",
          "line": {
           "color": "black",
           "width": 1
          },
          "size": 9,
          "symbol": "triangle-up"
         },
         "mode": "markers",
         "name": "kidney",
         "showlegend": false,
         "type": "scatter",
         "x": [
          1.28
         ],
         "xaxis": "x2",
         "y": [
          0.0016989995743714125
         ],
         "yaxis": "y2"
        },
        {
         "boxmean": true,
         "boxpoints": false,
         "legend": "legend2",
         "legendgroup": "rat2pig",
         "line": {
          "color": "#44AA99"
         },
         "name": "rat2pig",
         "showlegend": false,
         "type": "box",
         "x": [
          1.6,
          1.6,
          1.6,
          1.6,
          1.6,
          1.6,
          1.6,
          1.6,
          1.6,
          1.6,
          1.6,
          1.6
         ],
         "xaxis": "x2",
         "y": [
          0.5590459891796337,
          0.5253534667799388,
          0.5034799267316148,
          0.46451879498440657,
          0.3874100993211658,
          0.38189305418897845,
          0.3201384294696354,
          0.2535087051798427,
          0.2163514219175865,
          0.2119251420071226,
          0.014048675142347365,
          0.0016989995743714125
         ],
         "yaxis": "y2"
        },
        {
         "legendgroup": "rat2pig",
         "line": {
          "color": "#44AA99",
          "dash": "dot"
         },
         "mode": "lines",
         "name": "rat2pig",
         "showlegend": false,
         "text": "95 % CI mean: [0.29;0.35]",
         "type": "scatter",
         "x": [
          1.5,
          1.5
         ],
         "xaxis": "x2",
         "y": [
          0.29200071758218277,
          0.34655099777638687
         ],
         "yaxis": "y2"
        },
        {
         "legendgroup": "rat2pig",
         "line": {
          "color": "#44AA99"
         },
         "marker": {
          "size": 10,
          "symbol": "triangle-down-open"
         },
         "mode": "markers",
         "name": "rat2pig",
         "showlegend": false,
         "text": "95 % CI mean: [0.29;0.35]",
         "type": "scatter",
         "x": [
          1.5
         ],
         "xaxis": "x2",
         "y": [
          0.29200071758218277
         ],
         "yaxis": "y2"
        },
        {
         "legendgroup": "rat2pig",
         "line": {
          "color": "#44AA99"
         },
         "marker": {
          "size": 10,
          "symbol": "triangle-up-open"
         },
         "mode": "markers",
         "name": "rat2pig",
         "showlegend": false,
         "text": "95 % CI mean: [0.29;0.35]",
         "type": "scatter",
         "x": [
          1.5
         ],
         "xaxis": "x2",
         "y": [
          0.34655099777638687
         ],
         "yaxis": "y2"
        },
        {
         "legendgroup": "rat2pig",
         "line": {
          "color": "#44AA99",
          "dash": "solid"
         },
         "mode": "lines",
         "name": "rat2pig",
         "showlegend": false,
         "text": "95 % CI median: [0.29;0.39]",
         "type": "scatter",
         "x": [
          1.7,
          1.7
         ],
         "xaxis": "x2",
         "y": [
          0.2906082427290182,
          0.3908288181486418
         ],
         "yaxis": "y2"
        },
        {
         "legendgroup": "rat2pig",
         "line": {
          "color": "#44AA99"
         },
         "marker": {
          "size": 10,
          "symbol": "triangle-down"
         },
         "mode": "markers",
         "name": "rat2pig",
         "showlegend": false,
         "text": "95 % CI median: [0.29;0.39]",
         "type": "scatter",
         "x": [
          1.7
         ],
         "xaxis": "x2",
         "y": [
          0.2906082427290182
         ],
         "yaxis": "y2"
        },
        {
         "legendgroup": "rat2pig",
         "line": {
          "color": "#44AA99"
         },
         "marker": {
          "size": 10,
          "symbol": "triangle-up"
         },
         "mode": "markers",
         "name": "rat2pig",
         "showlegend": false,
         "text": "95 % CI median: [0.29;0.39]",
         "type": "scatter",
         "x": [
          1.7
         ],
         "xaxis": "x2",
         "y": [
          0.3908288181486418
         ],
         "yaxis": "y2"
        },
        {
         "legend": "legend",
         "legendgroup": "rat2human",
         "marker": {
          "color": "#DDCB76",
          "line": {
           "color": "black",
           "width": 1
          },
          "size": 9,
          "symbol": "triangle-ne"
         },
         "mode": "markers",
         "name": "skin",
         "showlegend": false,
         "type": "scatter",
         "x": [
          2
         ],
         "xaxis": "x2",
         "y": [
          0.5539895442754853
         ],
         "yaxis": "y2"
        },
        {
         "legend": "legend",
         "legendgroup": "rat2human",
         "marker": {
          "color": "#DDCB76",
          "line": {
           "color": "black",
           "width": 1
          },
          "size": 9,
          "symbol": "triangle-sw"
         },
         "mode": "markers",
         "name": "background",
         "showlegend": false,
         "type": "scatter",
         "x": [
          2.0933333333333333
         ],
         "xaxis": "x2",
         "y": [
          0.5360022352474814
         ],
         "yaxis": "y2"
        },
        {
         "legend": "legend",
         "legendgroup": "rat2human",
         "marker": {
          "color": "#DDCB76",
          "line": {
           "color": "black",
           "width": 1
          },
          "size": 9,
          "symbol": "triangle-left"
         },
         "mode": "markers",
         "name": "omentum",
         "showlegend": false,
         "type": "scatter",
         "x": [
          2.1866666666666665
         ],
         "xaxis": "x2",
         "y": [
          0.409208385591001
         ],
         "yaxis": "y2"
        },
        {
         "legend": "legend",
         "legendgroup": "rat2human",
         "marker": {
          "color": "#DDCB76",
          "line": {
           "color": "black",
           "width": 1
          },
          "size": 9,
          "symbol": "triangle-down"
         },
         "mode": "markers",
         "name": "spleen",
         "showlegend": false,
         "type": "scatter",
         "x": [
          2.28
         ],
         "xaxis": "x2",
         "y": [
          0.2589666756956528
         ],
         "yaxis": "y2"
        },
        {
         "legend": "legend",
         "legendgroup": "rat2human",
         "marker": {
          "color": "#DDCB76",
          "line": {
           "color": "black",
           "width": 1
          },
          "size": 9,
          "symbol": "cross"
         },
         "mode": "markers",
         "name": "liver",
         "showlegend": false,
         "type": "scatter",
         "x": [
          2
         ],
         "xaxis": "x2",
         "y": [
          0.2377865435058823
         ],
         "yaxis": "y2"
        },
        {
         "legend": "legend",
         "legendgroup": "rat2human",
         "marker": {
          "color": "#DDCB76",
          "line": {
           "color": "black",
           "width": 1
          },
          "size": 9,
          "symbol": "square"
         },
         "mode": "markers",
         "name": "small_bowel",
         "showlegend": false,
         "type": "scatter",
         "x": [
          2.0933333333333333
         ],
         "xaxis": "x2",
         "y": [
          0.22343434900440343
         ],
         "yaxis": "y2"
        },
        {
         "legend": "legend",
         "legendgroup": "rat2human",
         "marker": {
          "color": "#DDCB76",
          "line": {
           "color": "black",
           "width": 1
          },
          "size": 9,
          "symbol": "triangle-se"
         },
         "mode": "markers",
         "name": "peritoneum",
         "showlegend": false,
         "type": "scatter",
         "x": [
          2.1866666666666665
         ],
         "xaxis": "x2",
         "y": [
          0.22199984246657953
         ],
         "yaxis": "y2"
        },
        {
         "legend": "legend",
         "legendgroup": "rat2human",
         "marker": {
          "color": "#DDCB76",
          "line": {
           "color": "black",
           "width": 1
          },
          "size": 9,
          "symbol": "triangle-right"
         },
         "mode": "markers",
         "name": "lung",
         "showlegend": false,
         "type": "scatter",
         "x": [
          2.28
         ],
         "xaxis": "x2",
         "y": [
          0.2188682485289044
         ],
         "yaxis": "y2"
        },
        {
         "legend": "legend",
         "legendgroup": "rat2human",
         "marker": {
          "color": "#DDCB76",
          "line": {
           "color": "black",
           "width": 1
          },
          "size": 9,
          "symbol": "circle"
         },
         "mode": "markers",
         "name": "stomach",
         "showlegend": false,
         "type": "scatter",
         "x": [
          2
         ],
         "xaxis": "x2",
         "y": [
          0.034776732581337136
         ],
         "yaxis": "y2"
        },
        {
         "legend": "legend",
         "legendgroup": "rat2human",
         "marker": {
          "color": "#DDCB76",
          "line": {
           "color": "black",
           "width": 1
          },
          "size": 9,
          "symbol": "triangle-up"
         },
         "mode": "markers",
         "name": "kidney",
         "showlegend": false,
         "type": "scatter",
         "x": [
          2.0933333333333333
         ],
         "xaxis": "x2",
         "y": [
          0.0319902520384031
         ],
         "yaxis": "y2"
        },
        {
         "legend": "legend",
         "legendgroup": "rat2human",
         "marker": {
          "color": "#DDCB76",
          "line": {
           "color": "black",
           "width": 1
          },
          "size": 9,
          "symbol": "x"
         },
         "mode": "markers",
         "name": "pancreas",
         "showlegend": false,
         "type": "scatter",
         "x": [
          2.1866666666666665
         ],
         "xaxis": "x2",
         "y": [
          0.014545298814254357
         ],
         "yaxis": "y2"
        },
        {
         "legend": "legend",
         "legendgroup": "rat2human",
         "marker": {
          "color": "#DDCB76",
          "line": {
           "color": "black",
           "width": 1
          },
          "size": 9,
          "symbol": "diamond"
         },
         "mode": "markers",
         "name": "colon",
         "showlegend": false,
         "type": "scatter",
         "x": [
          2.28
         ],
         "xaxis": "x2",
         "y": [
          0.004522104443494884
         ],
         "yaxis": "y2"
        },
        {
         "boxmean": true,
         "boxpoints": false,
         "legend": "legend2",
         "legendgroup": "rat2human",
         "line": {
          "color": "#DDCB76"
         },
         "name": "rat2human",
         "showlegend": false,
         "type": "box",
         "x": [
          2.6,
          2.6,
          2.6,
          2.6,
          2.6,
          2.6,
          2.6,
          2.6,
          2.6,
          2.6,
          2.6,
          2.6
         ],
         "xaxis": "x2",
         "y": [
          0.5539895442754853,
          0.5360022352474814,
          0.409208385591001,
          0.2589666756956528,
          0.2377865435058823,
          0.22343434900440343,
          0.22199984246657953,
          0.2188682485289044,
          0.034776732581337136,
          0.0319902520384031,
          0.014545298814254357,
          0.004522104443494884
         ],
         "yaxis": "y2"
        },
        {
         "legendgroup": "rat2human",
         "line": {
          "color": "#DDCB76",
          "dash": "dot"
         },
         "mode": "lines",
         "name": "rat2human",
         "showlegend": false,
         "text": "95 % CI mean: [0.22;0.24]",
         "type": "scatter",
         "x": [
          2.5,
          2.5
         ],
         "xaxis": "x2",
         "y": [
          0.21644925043325036,
          0.24069405787089007
         ],
         "yaxis": "y2"
        },
        {
         "legendgroup": "rat2human",
         "line": {
          "color": "#DDCB76"
         },
         "marker": {
          "size": 10,
          "symbol": "triangle-down-open"
         },
         "mode": "markers",
         "name": "rat2human",
         "showlegend": false,
         "text": "95 % CI mean: [0.22;0.24]",
         "type": "scatter",
         "x": [
          2.5
         ],
         "xaxis": "x2",
         "y": [
          0.21644925043325036
         ],
         "yaxis": "y2"
        },
        {
         "legendgroup": "rat2human",
         "line": {
          "color": "#DDCB76"
         },
         "marker": {
          "size": 10,
          "symbol": "triangle-up-open"
         },
         "mode": "markers",
         "name": "rat2human",
         "showlegend": false,
         "text": "95 % CI mean: [0.22;0.24]",
         "type": "scatter",
         "x": [
          2.5
         ],
         "xaxis": "x2",
         "y": [
          0.24069405787089007
         ],
         "yaxis": "y2"
        },
        {
         "legendgroup": "rat2human",
         "line": {
          "color": "#DDCB76",
          "dash": "solid"
         },
         "mode": "lines",
         "name": "rat2human",
         "showlegend": false,
         "text": "95 % CI median: [0.20;0.25]",
         "type": "scatter",
         "x": [
          2.7,
          2.7
         ],
         "xaxis": "x2",
         "y": [
          0.1969006328606237,
          0.2460407240377636
         ],
         "yaxis": "y2"
        },
        {
         "legendgroup": "rat2human",
         "line": {
          "color": "#DDCB76"
         },
         "marker": {
          "size": 10,
          "symbol": "triangle-down"
         },
         "mode": "markers",
         "name": "rat2human",
         "showlegend": false,
         "text": "95 % CI median: [0.20;0.25]",
         "type": "scatter",
         "x": [
          2.7
         ],
         "xaxis": "x2",
         "y": [
          0.1969006328606237
         ],
         "yaxis": "y2"
        },
        {
         "legendgroup": "rat2human",
         "line": {
          "color": "#DDCB76"
         },
         "marker": {
          "size": 10,
          "symbol": "triangle-up"
         },
         "mode": "markers",
         "name": "rat2human",
         "showlegend": false,
         "text": "95 % CI median: [0.20;0.25]",
         "type": "scatter",
         "x": [
          2.7
         ],
         "xaxis": "x2",
         "y": [
          0.2460407240377636
         ],
         "yaxis": "y2"
        },
        {
         "legend": "legend",
         "marker": {
          "color": "gray",
          "line": {
           "color": "black",
           "width": 1
          },
          "size": 9,
          "symbol": "circle"
         },
         "mode": "markers",
         "name": "stomach",
         "showlegend": false,
         "type": "scatter",
         "x": [
          null
         ],
         "xaxis": "x3",
         "y": [
          null
         ],
         "yaxis": "y3"
        },
        {
         "legend": "legend",
         "marker": {
          "color": "gray",
          "line": {
           "color": "black",
           "width": 1
          },
          "size": 9,
          "symbol": "square"
         },
         "mode": "markers",
         "name": "small_bowel",
         "showlegend": false,
         "type": "scatter",
         "x": [
          null
         ],
         "xaxis": "x3",
         "y": [
          null
         ],
         "yaxis": "y3"
        },
        {
         "legend": "legend",
         "marker": {
          "color": "gray",
          "line": {
           "color": "black",
           "width": 1
          },
          "size": 9,
          "symbol": "diamond"
         },
         "mode": "markers",
         "name": "colon",
         "showlegend": false,
         "type": "scatter",
         "x": [
          null
         ],
         "xaxis": "x3",
         "y": [
          null
         ],
         "yaxis": "y3"
        },
        {
         "legend": "legend",
         "marker": {
          "color": "gray",
          "line": {
           "color": "black",
           "width": 1
          },
          "size": 9,
          "symbol": "cross"
         },
         "mode": "markers",
         "name": "liver",
         "showlegend": false,
         "type": "scatter",
         "x": [
          null
         ],
         "xaxis": "x3",
         "y": [
          null
         ],
         "yaxis": "y3"
        },
        {
         "legend": "legend",
         "marker": {
          "color": "gray",
          "line": {
           "color": "black",
           "width": 1
          },
          "size": 9,
          "symbol": "x"
         },
         "mode": "markers",
         "name": "pancreas",
         "showlegend": false,
         "type": "scatter",
         "x": [
          null
         ],
         "xaxis": "x3",
         "y": [
          null
         ],
         "yaxis": "y3"
        },
        {
         "legend": "legend",
         "marker": {
          "color": "gray",
          "line": {
           "color": "black",
           "width": 1
          },
          "size": 9,
          "symbol": "triangle-up"
         },
         "mode": "markers",
         "name": "kidney",
         "showlegend": false,
         "type": "scatter",
         "x": [
          null
         ],
         "xaxis": "x3",
         "y": [
          null
         ],
         "yaxis": "y3"
        },
        {
         "legend": "legend",
         "marker": {
          "color": "gray",
          "line": {
           "color": "black",
           "width": 1
          },
          "size": 9,
          "symbol": "triangle-down"
         },
         "mode": "markers",
         "name": "spleen",
         "showlegend": false,
         "type": "scatter",
         "x": [
          null
         ],
         "xaxis": "x3",
         "y": [
          null
         ],
         "yaxis": "y3"
        },
        {
         "legend": "legend",
         "marker": {
          "color": "gray",
          "line": {
           "color": "black",
           "width": 1
          },
          "size": 9,
          "symbol": "triangle-left"
         },
         "mode": "markers",
         "name": "omentum",
         "showlegend": false,
         "type": "scatter",
         "x": [
          null
         ],
         "xaxis": "x3",
         "y": [
          null
         ],
         "yaxis": "y3"
        },
        {
         "legend": "legend",
         "marker": {
          "color": "gray",
          "line": {
           "color": "black",
           "width": 1
          },
          "size": 9,
          "symbol": "triangle-right"
         },
         "mode": "markers",
         "name": "lung",
         "showlegend": false,
         "type": "scatter",
         "x": [
          null
         ],
         "xaxis": "x3",
         "y": [
          null
         ],
         "yaxis": "y3"
        },
        {
         "legend": "legend",
         "marker": {
          "color": "gray",
          "line": {
           "color": "black",
           "width": 1
          },
          "size": 9,
          "symbol": "triangle-ne"
         },
         "mode": "markers",
         "name": "skin",
         "showlegend": false,
         "type": "scatter",
         "x": [
          null
         ],
         "xaxis": "x3",
         "y": [
          null
         ],
         "yaxis": "y3"
        },
        {
         "legend": "legend",
         "marker": {
          "color": "gray",
          "line": {
           "color": "black",
           "width": 1
          },
          "size": 9,
          "symbol": "triangle-se"
         },
         "mode": "markers",
         "name": "peritoneum",
         "showlegend": false,
         "type": "scatter",
         "x": [
          null
         ],
         "xaxis": "x3",
         "y": [
          null
         ],
         "yaxis": "y3"
        },
        {
         "legend": "legend",
         "marker": {
          "color": "gray",
          "line": {
           "color": "black",
           "width": 1
          },
          "size": 9,
          "symbol": "triangle-sw"
         },
         "mode": "markers",
         "name": "background",
         "showlegend": false,
         "type": "scatter",
         "x": [
          null
         ],
         "xaxis": "x3",
         "y": [
          null
         ],
         "yaxis": "y3"
        },
        {
         "legend": "legend",
         "legendgroup": "human2human",
         "marker": {
          "color": "#DDCB76",
          "line": {
           "color": "black",
           "width": 1
          },
          "size": 9,
          "symbol": "triangle-sw"
         },
         "mode": "markers",
         "name": "background",
         "showlegend": false,
         "type": "scatter",
         "x": [
          0
         ],
         "xaxis": "x3",
         "y": [
          0.9101036091873328
         ],
         "yaxis": "y3"
        },
        {
         "legend": "legend",
         "legendgroup": "human2human",
         "marker": {
          "color": "#DDCB76",
          "line": {
           "color": "black",
           "width": 1
          },
          "size": 9,
          "symbol": "triangle-ne"
         },
         "mode": "markers",
         "name": "skin",
         "showlegend": false,
         "type": "scatter",
         "x": [
          0.09333333333333334
         ],
         "xaxis": "x3",
         "y": [
          0.8228447882133345
         ],
         "yaxis": "y3"
        },
        {
         "legend": "legend",
         "legendgroup": "human2human",
         "marker": {
          "color": "#DDCB76",
          "line": {
           "color": "black",
           "width": 1
          },
          "size": 9,
          "symbol": "triangle-up"
         },
         "mode": "markers",
         "name": "kidney",
         "showlegend": false,
         "type": "scatter",
         "x": [
          0.18666666666666668
         ],
         "xaxis": "x3",
         "y": [
          0.8226508663636652
         ],
         "yaxis": "y3"
        },
        {
         "legend": "legend",
         "legendgroup": "human2human",
         "marker": {
          "color": "#DDCB76",
          "line": {
           "color": "black",
           "width": 1
          },
          "size": 9,
          "symbol": "triangle-left"
         },
         "mode": "markers",
         "name": "omentum",
         "showlegend": false,
         "type": "scatter",
         "x": [
          0.28
         ],
         "xaxis": "x3",
         "y": [
          0.7916626033739921
         ],
         "yaxis": "y3"
        },
        {
         "legend": "legend",
         "legendgroup": "human2human",
         "marker": {
          "color": "#DDCB76",
          "line": {
           "color": "black",
           "width": 1
          },
          "size": 9,
          "symbol": "triangle-right"
         },
         "mode": "markers",
         "name": "lung",
         "showlegend": false,
         "type": "scatter",
         "x": [
          0
         ],
         "xaxis": "x3",
         "y": [
          0.720002872414059
         ],
         "yaxis": "y3"
        },
        {
         "legend": "legend",
         "legendgroup": "human2human",
         "marker": {
          "color": "#DDCB76",
          "line": {
           "color": "black",
           "width": 1
          },
          "size": 9,
          "symbol": "circle"
         },
         "mode": "markers",
         "name": "stomach",
         "showlegend": false,
         "type": "scatter",
         "x": [
          0.09333333333333334
         ],
         "xaxis": "x3",
         "y": [
          0.6892580814076916
         ],
         "yaxis": "y3"
        },
        {
         "legend": "legend",
         "legendgroup": "human2human",
         "marker": {
          "color": "#DDCB76",
          "line": {
           "color": "black",
           "width": 1
          },
          "size": 9,
          "symbol": "square"
         },
         "mode": "markers",
         "name": "small_bowel",
         "showlegend": false,
         "type": "scatter",
         "x": [
          0.18666666666666668
         ],
         "xaxis": "x3",
         "y": [
          0.6772714502137894
         ],
         "yaxis": "y3"
        },
        {
         "legend": "legend",
         "legendgroup": "human2human",
         "marker": {
          "color": "#DDCB76",
          "line": {
           "color": "black",
           "width": 1
          },
          "size": 9,
          "symbol": "diamond"
         },
         "mode": "markers",
         "name": "colon",
         "showlegend": false,
         "type": "scatter",
         "x": [
          0.28
         ],
         "xaxis": "x3",
         "y": [
          0.6572047179553315
         ],
         "yaxis": "y3"
        },
        {
         "legend": "legend",
         "legendgroup": "human2human",
         "marker": {
          "color": "#DDCB76",
          "line": {
           "color": "black",
           "width": 1
          },
          "size": 9,
          "symbol": "cross"
         },
         "mode": "markers",
         "name": "liver",
         "showlegend": false,
         "type": "scatter",
         "x": [
          0
         ],
         "xaxis": "x3",
         "y": [
          0.6530351912127493
         ],
         "yaxis": "y3"
        },
        {
         "legend": "legend",
         "legendgroup": "human2human",
         "marker": {
          "color": "#DDCB76",
          "line": {
           "color": "black",
           "width": 1
          },
          "size": 9,
          "symbol": "triangle-se"
         },
         "mode": "markers",
         "name": "peritoneum",
         "showlegend": false,
         "type": "scatter",
         "x": [
          0.09333333333333334
         ],
         "xaxis": "x3",
         "y": [
          0.5656218051423435
         ],
         "yaxis": "y3"
        },
        {
         "legend": "legend",
         "legendgroup": "human2human",
         "marker": {
          "color": "#DDCB76",
          "line": {
           "color": "black",
           "width": 1
          },
          "size": 9,
          "symbol": "triangle-down"
         },
         "mode": "markers",
         "name": "spleen",
         "showlegend": false,
         "type": "scatter",
         "x": [
          0.18666666666666668
         ],
         "xaxis": "x3",
         "y": [
          0.5249252355890349
         ],
         "yaxis": "y3"
        },
        {
         "legend": "legend",
         "legendgroup": "human2human",
         "marker": {
          "color": "#DDCB76",
          "line": {
           "color": "black",
           "width": 1
          },
          "size": 9,
          "symbol": "x"
         },
         "mode": "markers",
         "name": "pancreas",
         "showlegend": false,
         "type": "scatter",
         "x": [
          0.28
         ],
         "xaxis": "x3",
         "y": [
          0.4099799110473033
         ],
         "yaxis": "y3"
        },
        {
         "boxmean": true,
         "boxpoints": false,
         "legend": "legend2",
         "legendgroup": "human2human",
         "line": {
          "color": "#DDCB76"
         },
         "name": "human2human",
         "showlegend": false,
         "type": "box",
         "x": [
          0.6,
          0.6,
          0.6,
          0.6,
          0.6,
          0.6,
          0.6,
          0.6,
          0.6,
          0.6,
          0.6,
          0.6
         ],
         "xaxis": "x3",
         "y": [
          0.9101036091873328,
          0.8228447882133345,
          0.8226508663636652,
          0.7916626033739921,
          0.720002872414059,
          0.6892580814076916,
          0.6772714502137894,
          0.6572047179553315,
          0.6530351912127493,
          0.5656218051423435,
          0.5249252355890349,
          0.4099799110473033
         ],
         "yaxis": "y3"
        },
        {
         "legendgroup": "human2human",
         "line": {
          "color": "#DDCB76",
          "dash": "dot"
         },
         "mode": "lines",
         "name": "human2human",
         "showlegend": false,
         "text": "95 % CI mean: [0.66;0.71]",
         "type": "scatter",
         "x": [
          0.5,
          0.5
         ],
         "xaxis": "x3",
         "y": [
          0.663588039091163,
          0.7093615042630561
         ],
         "yaxis": "y3"
        },
        {
         "legendgroup": "human2human",
         "line": {
          "color": "#DDCB76"
         },
         "marker": {
          "size": 10,
          "symbol": "triangle-down-open"
         },
         "mode": "markers",
         "name": "human2human",
         "showlegend": false,
         "text": "95 % CI mean: [0.66;0.71]",
         "type": "scatter",
         "x": [
          0.5
         ],
         "xaxis": "x3",
         "y": [
          0.663588039091163
         ],
         "yaxis": "y3"
        },
        {
         "legendgroup": "human2human",
         "line": {
          "color": "#DDCB76"
         },
         "marker": {
          "size": 10,
          "symbol": "triangle-up-open"
         },
         "mode": "markers",
         "name": "human2human",
         "showlegend": false,
         "text": "95 % CI mean: [0.66;0.71]",
         "type": "scatter",
         "x": [
          0.5
         ],
         "xaxis": "x3",
         "y": [
          0.7093615042630561
         ],
         "yaxis": "y3"
        },
        {
         "legendgroup": "human2human",
         "line": {
          "color": "#DDCB76",
          "dash": "solid"
         },
         "mode": "lines",
         "name": "human2human",
         "showlegend": false,
         "text": "95 % CI median: [0.65;0.71]",
         "type": "scatter",
         "x": [
          0.7,
          0.7
         ],
         "xaxis": "x3",
         "y": [
          0.6545391630817925,
          0.710584670649328
         ],
         "yaxis": "y3"
        },
        {
         "legendgroup": "human2human",
         "line": {
          "color": "#DDCB76"
         },
         "marker": {
          "size": 10,
          "symbol": "triangle-down"
         },
         "mode": "markers",
         "name": "human2human",
         "showlegend": false,
         "text": "95 % CI median: [0.65;0.71]",
         "type": "scatter",
         "x": [
          0.7
         ],
         "xaxis": "x3",
         "y": [
          0.6545391630817925
         ],
         "yaxis": "y3"
        },
        {
         "legendgroup": "human2human",
         "line": {
          "color": "#DDCB76"
         },
         "marker": {
          "size": 10,
          "symbol": "triangle-up"
         },
         "mode": "markers",
         "name": "human2human",
         "showlegend": false,
         "text": "95 % CI median: [0.65;0.71]",
         "type": "scatter",
         "x": [
          0.7
         ],
         "xaxis": "x3",
         "y": [
          0.710584670649328
         ],
         "yaxis": "y3"
        },
        {
         "legend": "legend",
         "legendgroup": "pig-p+rat-p2human2human",
         "marker": {
          "color": "#DDCB76",
          "line": {
           "color": "black",
           "width": 1
          },
          "size": 9,
          "symbol": "triangle-sw"
         },
         "mode": "markers",
         "name": "background",
         "showlegend": false,
         "type": "scatter",
         "x": [
          1
         ],
         "xaxis": "x3",
         "y": [
          0.9051144963143992
         ],
         "yaxis": "y3"
        },
        {
         "legend": "legend",
         "legendgroup": "pig-p+rat-p2human2human",
         "marker": {
          "color": "#DDCB76",
          "line": {
           "color": "black",
           "width": 1
          },
          "size": 9,
          "symbol": "triangle-ne"
         },
         "mode": "markers",
         "name": "skin",
         "showlegend": false,
         "type": "scatter",
         "x": [
          1.0933333333333333
         ],
         "xaxis": "x3",
         "y": [
          0.8447567875096672
         ],
         "yaxis": "y3"
        },
        {
         "legend": "legend",
         "legendgroup": "pig-p+rat-p2human2human",
         "marker": {
          "color": "#DDCB76",
          "line": {
           "color": "black",
           "width": 1
          },
          "size": 9,
          "symbol": "triangle-up"
         },
         "mode": "markers",
         "name": "kidney",
         "showlegend": false,
         "type": "scatter",
         "x": [
          1.1866666666666668
         ],
         "xaxis": "x3",
         "y": [
          0.8199778621330922
         ],
         "yaxis": "y3"
        },
        {
         "legend": "legend",
         "legendgroup": "pig-p+rat-p2human2human",
         "marker": {
          "color": "#DDCB76",
          "line": {
           "color": "black",
           "width": 1
          },
          "size": 9,
          "symbol": "triangle-left"
         },
         "mode": "markers",
         "name": "omentum",
         "showlegend": false,
         "type": "scatter",
         "x": [
          1.28
         ],
         "xaxis": "x3",
         "y": [
          0.7862950637649974
         ],
         "yaxis": "y3"
        },
        {
         "legend": "legend",
         "legendgroup": "pig-p+rat-p2human2human",
         "marker": {
          "color": "#DDCB76",
          "line": {
           "color": "black",
           "width": 1
          },
          "size": 9,
          "symbol": "triangle-right"
         },
         "mode": "markers",
         "name": "lung",
         "showlegend": false,
         "type": "scatter",
         "x": [
          1
         ],
         "xaxis": "x3",
         "y": [
          0.7307569719685448
         ],
         "yaxis": "y3"
        },
        {
         "legend": "legend",
         "legendgroup": "pig-p+rat-p2human2human",
         "marker": {
          "color": "#DDCB76",
          "line": {
           "color": "black",
           "width": 1
          },
          "size": 9,
          "symbol": "circle"
         },
         "mode": "markers",
         "name": "stomach",
         "showlegend": false,
         "type": "scatter",
         "x": [
          1.0933333333333333
         ],
         "xaxis": "x3",
         "y": [
          0.6881351405206506
         ],
         "yaxis": "y3"
        },
        {
         "legend": "legend",
         "legendgroup": "pig-p+rat-p2human2human",
         "marker": {
          "color": "#DDCB76",
          "line": {
           "color": "black",
           "width": 1
          },
          "size": 9,
          "symbol": "triangle-se"
         },
         "mode": "markers",
         "name": "peritoneum",
         "showlegend": false,
         "type": "scatter",
         "x": [
          1.1866666666666668
         ],
         "xaxis": "x3",
         "y": [
          0.6548532255557404
         ],
         "yaxis": "y3"
        },
        {
         "legend": "legend",
         "legendgroup": "pig-p+rat-p2human2human",
         "marker": {
          "color": "#DDCB76",
          "line": {
           "color": "black",
           "width": 1
          },
          "size": 9,
          "symbol": "square"
         },
         "mode": "markers",
         "name": "small_bowel",
         "showlegend": false,
         "type": "scatter",
         "x": [
          1.28
         ],
         "xaxis": "x3",
         "y": [
          0.6476369226820125
         ],
         "yaxis": "y3"
        },
        {
         "legend": "legend",
         "legendgroup": "pig-p+rat-p2human2human",
         "marker": {
          "color": "#DDCB76",
          "line": {
           "color": "black",
           "width": 1
          },
          "size": 9,
          "symbol": "cross"
         },
         "mode": "markers",
         "name": "liver",
         "showlegend": false,
         "type": "scatter",
         "x": [
          1
         ],
         "xaxis": "x3",
         "y": [
          0.6310813525998266
         ],
         "yaxis": "y3"
        },
        {
         "legend": "legend",
         "legendgroup": "pig-p+rat-p2human2human",
         "marker": {
          "color": "#DDCB76",
          "line": {
           "color": "black",
           "width": 1
          },
          "size": 9,
          "symbol": "diamond"
         },
         "mode": "markers",
         "name": "colon",
         "showlegend": false,
         "type": "scatter",
         "x": [
          1.0933333333333333
         ],
         "xaxis": "x3",
         "y": [
          0.6270770041838564
         ],
         "yaxis": "y3"
        },
        {
         "legend": "legend",
         "legendgroup": "pig-p+rat-p2human2human",
         "marker": {
          "color": "#DDCB76",
          "line": {
           "color": "black",
           "width": 1
          },
          "size": 9,
          "symbol": "triangle-down"
         },
         "mode": "markers",
         "name": "spleen",
         "showlegend": false,
         "type": "scatter",
         "x": [
          1.1866666666666668
         ],
         "xaxis": "x3",
         "y": [
          0.5156156472861766
         ],
         "yaxis": "y3"
        },
        {
         "legend": "legend",
         "legendgroup": "pig-p+rat-p2human2human",
         "marker": {
          "color": "#DDCB76",
          "line": {
           "color": "black",
           "width": 1
          },
          "size": 9,
          "symbol": "x"
         },
         "mode": "markers",
         "name": "pancreas",
         "showlegend": false,
         "type": "scatter",
         "x": [
          1.28
         ],
         "xaxis": "x3",
         "y": [
          0.3797823495635034
         ],
         "yaxis": "y3"
        },
        {
         "boxmean": true,
         "boxpoints": false,
         "legend": "legend2",
         "legendgroup": "pig-p+rat-p2human2human",
         "line": {
          "color": "#DDCB76"
         },
         "name": "pig-p+rat-p2human2human",
         "showlegend": false,
         "type": "box",
         "x": [
          1.6,
          1.6,
          1.6,
          1.6,
          1.6,
          1.6,
          1.6,
          1.6,
          1.6,
          1.6,
          1.6,
          1.6
         ],
         "xaxis": "x3",
         "y": [
          0.9051144963143992,
          0.8447567875096672,
          0.8199778621330922,
          0.7862950637649974,
          0.7307569719685448,
          0.6881351405206506,
          0.6548532255557404,
          0.6476369226820125,
          0.6310813525998266,
          0.6270770041838564,
          0.5156156472861766,
          0.3797823495635034
         ],
         "yaxis": "y3"
        },
        {
         "legendgroup": "pig-p+rat-p2human2human",
         "line": {
          "color": "#DDCB76",
          "dash": "dot"
         },
         "mode": "lines",
         "name": "pig-p+rat-p2human2human",
         "showlegend": false,
         "text": "95 % CI mean: [0.66;0.71]",
         "type": "scatter",
         "x": [
          1.5,
          1.5
         ],
         "xaxis": "x3",
         "y": [
          0.6647314698905387,
          0.7074335446822432
         ],
         "yaxis": "y3"
        },
        {
         "legendgroup": "pig-p+rat-p2human2human",
         "line": {
          "color": "#DDCB76"
         },
         "marker": {
          "size": 10,
          "symbol": "triangle-down-open"
         },
         "mode": "markers",
         "name": "pig-p+rat-p2human2human",
         "showlegend": false,
         "text": "95 % CI mean: [0.66;0.71]",
         "type": "scatter",
         "x": [
          1.5
         ],
         "xaxis": "x3",
         "y": [
          0.6647314698905387
         ],
         "yaxis": "y3"
        },
        {
         "legendgroup": "pig-p+rat-p2human2human",
         "line": {
          "color": "#DDCB76"
         },
         "marker": {
          "size": 10,
          "symbol": "triangle-up-open"
         },
         "mode": "markers",
         "name": "pig-p+rat-p2human2human",
         "showlegend": false,
         "text": "95 % CI mean: [0.66;0.71]",
         "type": "scatter",
         "x": [
          1.5
         ],
         "xaxis": "x3",
         "y": [
          0.7074335446822432
         ],
         "yaxis": "y3"
        },
        {
         "legendgroup": "pig-p+rat-p2human2human",
         "line": {
          "color": "#DDCB76",
          "dash": "solid"
         },
         "mode": "lines",
         "name": "pig-p+rat-p2human2human",
         "showlegend": false,
         "text": "95 % CI median: [0.64;0.71]",
         "type": "scatter",
         "x": [
          1.7,
          1.7
         ],
         "xaxis": "x3",
         "y": [
          0.6434150713636417,
          0.7134903090620227
         ],
         "yaxis": "y3"
        },
        {
         "legendgroup": "pig-p+rat-p2human2human",
         "line": {
          "color": "#DDCB76"
         },
         "marker": {
          "size": 10,
          "symbol": "triangle-down"
         },
         "mode": "markers",
         "name": "pig-p+rat-p2human2human",
         "showlegend": false,
         "text": "95 % CI median: [0.64;0.71]",
         "type": "scatter",
         "x": [
          1.7
         ],
         "xaxis": "x3",
         "y": [
          0.6434150713636417
         ],
         "yaxis": "y3"
        },
        {
         "legendgroup": "pig-p+rat-p2human2human",
         "line": {
          "color": "#DDCB76"
         },
         "marker": {
          "size": 10,
          "symbol": "triangle-up"
         },
         "mode": "markers",
         "name": "pig-p+rat-p2human2human",
         "showlegend": false,
         "text": "95 % CI median: [0.64;0.71]",
         "type": "scatter",
         "x": [
          1.7
         ],
         "xaxis": "x3",
         "y": [
          0.7134903090620227
         ],
         "yaxis": "y3"
        }
       ],
       "layout": {
        "font": {
         "family": "Libertinus Sans",
         "size": 16
        },
        "height": 400,
        "legend": {
         "orientation": "h",
         "title": {},
         "x": 0.2,
         "xanchor": "center",
         "y": 1.05,
         "yanchor": "bottom"
        },
        "legend2": {
         "orientation": "h",
         "title": {},
         "x": 0.8,
         "xanchor": "center",
         "y": 1.05,
         "yanchor": "bottom"
        },
        "margin": {
         "b": 0,
         "l": 0,
         "r": 0,
         "t": 0
        },
        "showlegend": false,
        "template": {
         "data": {
          "bar": [
           {
            "error_x": {
             "color": "#2a3f5f"
            },
            "error_y": {
             "color": "#2a3f5f"
            },
            "marker": {
             "line": {
              "color": "white",
              "width": 0.5
             },
             "pattern": {
              "fillmode": "overlay",
              "size": 10,
              "solidity": 0.2
             }
            },
            "type": "bar"
           }
          ],
          "barpolar": [
           {
            "marker": {
             "line": {
              "color": "white",
              "width": 0.5
             },
             "pattern": {
              "fillmode": "overlay",
              "size": 10,
              "solidity": 0.2
             }
            },
            "type": "barpolar"
           }
          ],
          "carpet": [
           {
            "aaxis": {
             "endlinecolor": "#2a3f5f",
             "gridcolor": "#C8D4E3",
             "linecolor": "#C8D4E3",
             "minorgridcolor": "#C8D4E3",
             "startlinecolor": "#2a3f5f"
            },
            "baxis": {
             "endlinecolor": "#2a3f5f",
             "gridcolor": "#C8D4E3",
             "linecolor": "#C8D4E3",
             "minorgridcolor": "#C8D4E3",
             "startlinecolor": "#2a3f5f"
            },
            "type": "carpet"
           }
          ],
          "choropleth": [
           {
            "colorbar": {
             "outlinewidth": 0,
             "ticks": ""
            },
            "type": "choropleth"
           }
          ],
          "contour": [
           {
            "colorbar": {
             "outlinewidth": 0,
             "ticks": ""
            },
            "colorscale": [
             [
              0,
              "#0d0887"
             ],
             [
              0.1111111111111111,
              "#46039f"
             ],
             [
              0.2222222222222222,
              "#7201a8"
             ],
             [
              0.3333333333333333,
              "#9c179e"
             ],
             [
              0.4444444444444444,
              "#bd3786"
             ],
             [
              0.5555555555555556,
              "#d8576b"
             ],
             [
              0.6666666666666666,
              "#ed7953"
             ],
             [
              0.7777777777777778,
              "#fb9f3a"
             ],
             [
              0.8888888888888888,
              "#fdca26"
             ],
             [
              1,
              "#f0f921"
             ]
            ],
            "type": "contour"
           }
          ],
          "contourcarpet": [
           {
            "colorbar": {
             "outlinewidth": 0,
             "ticks": ""
            },
            "type": "contourcarpet"
           }
          ],
          "heatmap": [
           {
            "colorbar": {
             "outlinewidth": 0,
             "ticks": ""
            },
            "colorscale": [
             [
              0,
              "#0d0887"
             ],
             [
              0.1111111111111111,
              "#46039f"
             ],
             [
              0.2222222222222222,
              "#7201a8"
             ],
             [
              0.3333333333333333,
              "#9c179e"
             ],
             [
              0.4444444444444444,
              "#bd3786"
             ],
             [
              0.5555555555555556,
              "#d8576b"
             ],
             [
              0.6666666666666666,
              "#ed7953"
             ],
             [
              0.7777777777777778,
              "#fb9f3a"
             ],
             [
              0.8888888888888888,
              "#fdca26"
             ],
             [
              1,
              "#f0f921"
             ]
            ],
            "type": "heatmap"
           }
          ],
          "heatmapgl": [
           {
            "colorbar": {
             "outlinewidth": 0,
             "ticks": ""
            },
            "colorscale": [
             [
              0,
              "#0d0887"
             ],
             [
              0.1111111111111111,
              "#46039f"
             ],
             [
              0.2222222222222222,
              "#7201a8"
             ],
             [
              0.3333333333333333,
              "#9c179e"
             ],
             [
              0.4444444444444444,
              "#bd3786"
             ],
             [
              0.5555555555555556,
              "#d8576b"
             ],
             [
              0.6666666666666666,
              "#ed7953"
             ],
             [
              0.7777777777777778,
              "#fb9f3a"
             ],
             [
              0.8888888888888888,
              "#fdca26"
             ],
             [
              1,
              "#f0f921"
             ]
            ],
            "type": "heatmapgl"
           }
          ],
          "histogram": [
           {
            "marker": {
             "pattern": {
              "fillmode": "overlay",
              "size": 10,
              "solidity": 0.2
             }
            },
            "type": "histogram"
           }
          ],
          "histogram2d": [
           {
            "colorbar": {
             "outlinewidth": 0,
             "ticks": ""
            },
            "colorscale": [
             [
              0,
              "#0d0887"
             ],
             [
              0.1111111111111111,
              "#46039f"
             ],
             [
              0.2222222222222222,
              "#7201a8"
             ],
             [
              0.3333333333333333,
              "#9c179e"
             ],
             [
              0.4444444444444444,
              "#bd3786"
             ],
             [
              0.5555555555555556,
              "#d8576b"
             ],
             [
              0.6666666666666666,
              "#ed7953"
             ],
             [
              0.7777777777777778,
              "#fb9f3a"
             ],
             [
              0.8888888888888888,
              "#fdca26"
             ],
             [
              1,
              "#f0f921"
             ]
            ],
            "type": "histogram2d"
           }
          ],
          "histogram2dcontour": [
           {
            "colorbar": {
             "outlinewidth": 0,
             "ticks": ""
            },
            "colorscale": [
             [
              0,
              "#0d0887"
             ],
             [
              0.1111111111111111,
              "#46039f"
             ],
             [
              0.2222222222222222,
              "#7201a8"
             ],
             [
              0.3333333333333333,
              "#9c179e"
             ],
             [
              0.4444444444444444,
              "#bd3786"
             ],
             [
              0.5555555555555556,
              "#d8576b"
             ],
             [
              0.6666666666666666,
              "#ed7953"
             ],
             [
              0.7777777777777778,
              "#fb9f3a"
             ],
             [
              0.8888888888888888,
              "#fdca26"
             ],
             [
              1,
              "#f0f921"
             ]
            ],
            "type": "histogram2dcontour"
           }
          ],
          "mesh3d": [
           {
            "colorbar": {
             "outlinewidth": 0,
             "ticks": ""
            },
            "type": "mesh3d"
           }
          ],
          "parcoords": [
           {
            "line": {
             "colorbar": {
              "outlinewidth": 0,
              "ticks": ""
             }
            },
            "type": "parcoords"
           }
          ],
          "pie": [
           {
            "automargin": true,
            "type": "pie"
           }
          ],
          "scatter": [
           {
            "fillpattern": {
             "fillmode": "overlay",
             "size": 10,
             "solidity": 0.2
            },
            "type": "scatter"
           }
          ],
          "scatter3d": [
           {
            "line": {
             "colorbar": {
              "outlinewidth": 0,
              "ticks": ""
             }
            },
            "marker": {
             "colorbar": {
              "outlinewidth": 0,
              "ticks": ""
             }
            },
            "type": "scatter3d"
           }
          ],
          "scattercarpet": [
           {
            "marker": {
             "colorbar": {
              "outlinewidth": 0,
              "ticks": ""
             }
            },
            "type": "scattercarpet"
           }
          ],
          "scattergeo": [
           {
            "marker": {
             "colorbar": {
              "outlinewidth": 0,
              "ticks": ""
             }
            },
            "type": "scattergeo"
           }
          ],
          "scattergl": [
           {
            "marker": {
             "colorbar": {
              "outlinewidth": 0,
              "ticks": ""
             }
            },
            "type": "scattergl"
           }
          ],
          "scattermapbox": [
           {
            "marker": {
             "colorbar": {
              "outlinewidth": 0,
              "ticks": ""
             }
            },
            "type": "scattermapbox"
           }
          ],
          "scatterpolar": [
           {
            "marker": {
             "colorbar": {
              "outlinewidth": 0,
              "ticks": ""
             }
            },
            "type": "scatterpolar"
           }
          ],
          "scatterpolargl": [
           {
            "marker": {
             "colorbar": {
              "outlinewidth": 0,
              "ticks": ""
             }
            },
            "type": "scatterpolargl"
           }
          ],
          "scatterternary": [
           {
            "marker": {
             "colorbar": {
              "outlinewidth": 0,
              "ticks": ""
             }
            },
            "type": "scatterternary"
           }
          ],
          "surface": [
           {
            "colorbar": {
             "outlinewidth": 0,
             "ticks": ""
            },
            "colorscale": [
             [
              0,
              "#0d0887"
             ],
             [
              0.1111111111111111,
              "#46039f"
             ],
             [
              0.2222222222222222,
              "#7201a8"
             ],
             [
              0.3333333333333333,
              "#9c179e"
             ],
             [
              0.4444444444444444,
              "#bd3786"
             ],
             [
              0.5555555555555556,
              "#d8576b"
             ],
             [
              0.6666666666666666,
              "#ed7953"
             ],
             [
              0.7777777777777778,
              "#fb9f3a"
             ],
             [
              0.8888888888888888,
              "#fdca26"
             ],
             [
              1,
              "#f0f921"
             ]
            ],
            "type": "surface"
           }
          ],
          "table": [
           {
            "cells": {
             "fill": {
              "color": "#EBF0F8"
             },
             "line": {
              "color": "white"
             }
            },
            "header": {
             "fill": {
              "color": "#C8D4E3"
             },
             "line": {
              "color": "white"
             }
            },
            "type": "table"
           }
          ]
         },
         "layout": {
          "annotationdefaults": {
           "arrowcolor": "#2a3f5f",
           "arrowhead": 0,
           "arrowwidth": 1
          },
          "autotypenumbers": "strict",
          "coloraxis": {
           "colorbar": {
            "outlinewidth": 0,
            "ticks": ""
           }
          },
          "colorscale": {
           "diverging": [
            [
             0,
             "#8e0152"
            ],
            [
             0.1,
             "#c51b7d"
            ],
            [
             0.2,
             "#de77ae"
            ],
            [
             0.3,
             "#f1b6da"
            ],
            [
             0.4,
             "#fde0ef"
            ],
            [
             0.5,
             "#f7f7f7"
            ],
            [
             0.6,
             "#e6f5d0"
            ],
            [
             0.7,
             "#b8e186"
            ],
            [
             0.8,
             "#7fbc41"
            ],
            [
             0.9,
             "#4d9221"
            ],
            [
             1,
             "#276419"
            ]
           ],
           "sequential": [
            [
             0,
             "#0d0887"
            ],
            [
             0.1111111111111111,
             "#46039f"
            ],
            [
             0.2222222222222222,
             "#7201a8"
            ],
            [
             0.3333333333333333,
             "#9c179e"
            ],
            [
             0.4444444444444444,
             "#bd3786"
            ],
            [
             0.5555555555555556,
             "#d8576b"
            ],
            [
             0.6666666666666666,
             "#ed7953"
            ],
            [
             0.7777777777777778,
             "#fb9f3a"
            ],
            [
             0.8888888888888888,
             "#fdca26"
            ],
            [
             1,
             "#f0f921"
            ]
           ],
           "sequentialminus": [
            [
             0,
             "#0d0887"
            ],
            [
             0.1111111111111111,
             "#46039f"
            ],
            [
             0.2222222222222222,
             "#7201a8"
            ],
            [
             0.3333333333333333,
             "#9c179e"
            ],
            [
             0.4444444444444444,
             "#bd3786"
            ],
            [
             0.5555555555555556,
             "#d8576b"
            ],
            [
             0.6666666666666666,
             "#ed7953"
            ],
            [
             0.7777777777777778,
             "#fb9f3a"
            ],
            [
             0.8888888888888888,
             "#fdca26"
            ],
            [
             1,
             "#f0f921"
            ]
           ]
          },
          "colorway": [
           "#636efa",
           "#EF553B",
           "#00cc96",
           "#ab63fa",
           "#FFA15A",
           "#19d3f3",
           "#FF6692",
           "#B6E880",
           "#FF97FF",
           "#FECB52"
          ],
          "font": {
           "color": "#2a3f5f"
          },
          "geo": {
           "bgcolor": "white",
           "lakecolor": "white",
           "landcolor": "white",
           "showlakes": true,
           "showland": true,
           "subunitcolor": "#C8D4E3"
          },
          "hoverlabel": {
           "align": "left"
          },
          "hovermode": "closest",
          "mapbox": {
           "style": "light"
          },
          "paper_bgcolor": "white",
          "plot_bgcolor": "white",
          "polar": {
           "angularaxis": {
            "gridcolor": "#EBF0F8",
            "linecolor": "#EBF0F8",
            "ticks": ""
           },
           "bgcolor": "white",
           "radialaxis": {
            "gridcolor": "#EBF0F8",
            "linecolor": "#EBF0F8",
            "ticks": ""
           }
          },
          "scene": {
           "xaxis": {
            "backgroundcolor": "white",
            "gridcolor": "#DFE8F3",
            "gridwidth": 2,
            "linecolor": "#EBF0F8",
            "showbackground": true,
            "ticks": "",
            "zerolinecolor": "#EBF0F8"
           },
           "yaxis": {
            "backgroundcolor": "white",
            "gridcolor": "#DFE8F3",
            "gridwidth": 2,
            "linecolor": "#EBF0F8",
            "showbackground": true,
            "ticks": "",
            "zerolinecolor": "#EBF0F8"
           },
           "zaxis": {
            "backgroundcolor": "white",
            "gridcolor": "#DFE8F3",
            "gridwidth": 2,
            "linecolor": "#EBF0F8",
            "showbackground": true,
            "ticks": "",
            "zerolinecolor": "#EBF0F8"
           }
          },
          "shapedefaults": {
           "line": {
            "color": "#2a3f5f"
           }
          },
          "ternary": {
           "aaxis": {
            "gridcolor": "#DFE8F3",
            "linecolor": "#A2B1C6",
            "ticks": ""
           },
           "baxis": {
            "gridcolor": "#DFE8F3",
            "linecolor": "#A2B1C6",
            "ticks": ""
           },
           "bgcolor": "white",
           "caxis": {
            "gridcolor": "#DFE8F3",
            "linecolor": "#A2B1C6",
            "ticks": ""
           }
          },
          "title": {
           "x": 0.05
          },
          "xaxis": {
           "automargin": true,
           "gridcolor": "#EBF0F8",
           "linecolor": "#EBF0F8",
           "ticks": "",
           "title": {
            "standoff": 15
           },
           "zerolinecolor": "#EBF0F8",
           "zerolinewidth": 2
          },
          "yaxis": {
           "automargin": true,
           "gridcolor": "#EBF0F8",
           "linecolor": "#EBF0F8",
           "ticks": "",
           "title": {
            "standoff": 15
           },
           "zerolinecolor": "#EBF0F8",
           "zerolinewidth": 2
          }
         }
        },
        "width": 1200,
        "xaxis": {
         "anchor": "y",
         "domain": [
          0,
          0.3525
         ],
         "showticklabels": false
        },
        "xaxis2": {
         "anchor": "y2",
         "domain": [
          0.3824999999999999,
          0.7349999999999999
         ],
         "showticklabels": false
        },
        "xaxis3": {
         "anchor": "y3",
         "domain": [
          0.7649999999999999,
          1.0
         ],
         "showticklabels": false
        },
        "yaxis": {
         "anchor": "x",
         "domain": [
          0,
          1
         ],
         "title": {
          "standoff": 12,
          "text": "<b>NSD</b>"
         }
        },
        "yaxis2": {
         "anchor": "x2",
         "domain": [
          0,
          1
         ],
         "matches": "y",
         "showticklabels": false
        },
        "yaxis3": {
         "anchor": "x3",
         "domain": [
          0,
          1
         ],
         "matches": "y",
         "showticklabels": false
        }
       }
      },
      "text/html": [
       "<div>                            <div id=\"3906a7c8-603d-41d4-89e7-a54d87bdc1f7\" class=\"plotly-graph-div\" style=\"height:400px; width:1200px;\"></div>            <script type=\"text/javascript\">                require([\"plotly\"], function(Plotly) {                    window.PLOTLYENV=window.PLOTLYENV || {};                                    if (document.getElementById(\"3906a7c8-603d-41d4-89e7-a54d87bdc1f7\")) {                    Plotly.newPlot(                        \"3906a7c8-603d-41d4-89e7-a54d87bdc1f7\",                        [{\"legend\":\"legend\",\"marker\":{\"color\":\"gray\",\"line\":{\"color\":\"black\",\"width\":1},\"size\":9,\"symbol\":\"circle\"},\"mode\":\"markers\",\"name\":\"stomach\",\"showlegend\":true,\"x\":[null],\"y\":[null],\"type\":\"scatter\",\"xaxis\":\"x\",\"yaxis\":\"y\"},{\"legend\":\"legend\",\"marker\":{\"color\":\"gray\",\"line\":{\"color\":\"black\",\"width\":1},\"size\":9,\"symbol\":\"square\"},\"mode\":\"markers\",\"name\":\"small_bowel\",\"showlegend\":true,\"x\":[null],\"y\":[null],\"type\":\"scatter\",\"xaxis\":\"x\",\"yaxis\":\"y\"},{\"legend\":\"legend\",\"marker\":{\"color\":\"gray\",\"line\":{\"color\":\"black\",\"width\":1},\"size\":9,\"symbol\":\"diamond\"},\"mode\":\"markers\",\"name\":\"colon\",\"showlegend\":true,\"x\":[null],\"y\":[null],\"type\":\"scatter\",\"xaxis\":\"x\",\"yaxis\":\"y\"},{\"legend\":\"legend\",\"marker\":{\"color\":\"gray\",\"line\":{\"color\":\"black\",\"width\":1},\"size\":9,\"symbol\":\"cross\"},\"mode\":\"markers\",\"name\":\"liver\",\"showlegend\":true,\"x\":[null],\"y\":[null],\"type\":\"scatter\",\"xaxis\":\"x\",\"yaxis\":\"y\"},{\"legend\":\"legend\",\"marker\":{\"color\":\"gray\",\"line\":{\"color\":\"black\",\"width\":1},\"size\":9,\"symbol\":\"x\"},\"mode\":\"markers\",\"name\":\"pancreas\",\"showlegend\":true,\"x\":[null],\"y\":[null],\"type\":\"scatter\",\"xaxis\":\"x\",\"yaxis\":\"y\"},{\"legend\":\"legend\",\"marker\":{\"color\":\"gray\",\"line\":{\"color\":\"black\",\"width\":1},\"size\":9,\"symbol\":\"triangle-up\"},\"mode\":\"markers\",\"name\":\"kidney\",\"showlegend\":true,\"x\":[null],\"y\":[null],\"type\":\"scatter\",\"xaxis\":\"x\",\"yaxis\":\"y\"},{\"legend\":\"legend\",\"marker\":{\"color\":\"gray\",\"line\":{\"color\":\"black\",\"width\":1},\"size\":9,\"symbol\":\"triangle-down\"},\"mode\":\"markers\",\"name\":\"spleen\",\"showlegend\":true,\"x\":[null],\"y\":[null],\"type\":\"scatter\",\"xaxis\":\"x\",\"yaxis\":\"y\"},{\"legend\":\"legend\",\"marker\":{\"color\":\"gray\",\"line\":{\"color\":\"black\",\"width\":1},\"size\":9,\"symbol\":\"triangle-left\"},\"mode\":\"markers\",\"name\":\"omentum\",\"showlegend\":true,\"x\":[null],\"y\":[null],\"type\":\"scatter\",\"xaxis\":\"x\",\"yaxis\":\"y\"},{\"legend\":\"legend\",\"marker\":{\"color\":\"gray\",\"line\":{\"color\":\"black\",\"width\":1},\"size\":9,\"symbol\":\"triangle-right\"},\"mode\":\"markers\",\"name\":\"lung\",\"showlegend\":true,\"x\":[null],\"y\":[null],\"type\":\"scatter\",\"xaxis\":\"x\",\"yaxis\":\"y\"},{\"legend\":\"legend\",\"marker\":{\"color\":\"gray\",\"line\":{\"color\":\"black\",\"width\":1},\"size\":9,\"symbol\":\"triangle-ne\"},\"mode\":\"markers\",\"name\":\"skin\",\"showlegend\":true,\"x\":[null],\"y\":[null],\"type\":\"scatter\",\"xaxis\":\"x\",\"yaxis\":\"y\"},{\"legend\":\"legend\",\"marker\":{\"color\":\"gray\",\"line\":{\"color\":\"black\",\"width\":1},\"size\":9,\"symbol\":\"triangle-se\"},\"mode\":\"markers\",\"name\":\"peritoneum\",\"showlegend\":true,\"x\":[null],\"y\":[null],\"type\":\"scatter\",\"xaxis\":\"x\",\"yaxis\":\"y\"},{\"legend\":\"legend\",\"marker\":{\"color\":\"gray\",\"line\":{\"color\":\"black\",\"width\":1},\"size\":9,\"symbol\":\"triangle-sw\"},\"mode\":\"markers\",\"name\":\"background\",\"showlegend\":true,\"x\":[null],\"y\":[null],\"type\":\"scatter\",\"xaxis\":\"x\",\"yaxis\":\"y\"},{\"legend\":\"legend\",\"legendgroup\":\"pig2pig\",\"marker\":{\"color\":\"#44AA99\",\"line\":{\"color\":\"black\",\"width\":1},\"size\":9,\"symbol\":\"triangle-right\"},\"mode\":\"markers\",\"name\":\"lung\",\"showlegend\":false,\"x\":[0.0],\"y\":[0.941958998705878],\"type\":\"scatter\",\"xaxis\":\"x\",\"yaxis\":\"y\"},{\"legend\":\"legend\",\"legendgroup\":\"pig2pig\",\"marker\":{\"color\":\"#44AA99\",\"line\":{\"color\":\"black\",\"width\":1},\"size\":9,\"symbol\":\"triangle-sw\"},\"mode\":\"markers\",\"name\":\"background\",\"showlegend\":false,\"x\":[0.09333333333333334],\"y\":[0.937327038898341],\"type\":\"scatter\",\"xaxis\":\"x\",\"yaxis\":\"y\"},{\"legend\":\"legend\",\"legendgroup\":\"pig2pig\",\"marker\":{\"color\":\"#44AA99\",\"line\":{\"color\":\"black\",\"width\":1},\"size\":9,\"symbol\":\"diamond\"},\"mode\":\"markers\",\"name\":\"colon\",\"showlegend\":false,\"x\":[0.18666666666666668],\"y\":[0.9283778865587017],\"type\":\"scatter\",\"xaxis\":\"x\",\"yaxis\":\"y\"},{\"legend\":\"legend\",\"legendgroup\":\"pig2pig\",\"marker\":{\"color\":\"#44AA99\",\"line\":{\"color\":\"black\",\"width\":1},\"size\":9,\"symbol\":\"triangle-se\"},\"mode\":\"markers\",\"name\":\"peritoneum\",\"showlegend\":false,\"x\":[0.28],\"y\":[0.9031307891936182],\"type\":\"scatter\",\"xaxis\":\"x\",\"yaxis\":\"y\"},{\"legend\":\"legend\",\"legendgroup\":\"pig2pig\",\"marker\":{\"color\":\"#44AA99\",\"line\":{\"color\":\"black\",\"width\":1},\"size\":9,\"symbol\":\"triangle-ne\"},\"mode\":\"markers\",\"name\":\"skin\",\"showlegend\":false,\"x\":[0.0],\"y\":[0.8811117644702278],\"type\":\"scatter\",\"xaxis\":\"x\",\"yaxis\":\"y\"},{\"legend\":\"legend\",\"legendgroup\":\"pig2pig\",\"marker\":{\"color\":\"#44AA99\",\"line\":{\"color\":\"black\",\"width\":1},\"size\":9,\"symbol\":\"x\"},\"mode\":\"markers\",\"name\":\"pancreas\",\"showlegend\":false,\"x\":[0.09333333333333334],\"y\":[0.8220262066712454],\"type\":\"scatter\",\"xaxis\":\"x\",\"yaxis\":\"y\"},{\"legend\":\"legend\",\"legendgroup\":\"pig2pig\",\"marker\":{\"color\":\"#44AA99\",\"line\":{\"color\":\"black\",\"width\":1},\"size\":9,\"symbol\":\"circle\"},\"mode\":\"markers\",\"name\":\"stomach\",\"showlegend\":false,\"x\":[0.18666666666666668],\"y\":[0.8111407694165935],\"type\":\"scatter\",\"xaxis\":\"x\",\"yaxis\":\"y\"},{\"legend\":\"legend\",\"legendgroup\":\"pig2pig\",\"marker\":{\"color\":\"#44AA99\",\"line\":{\"color\":\"black\",\"width\":1},\"size\":9,\"symbol\":\"square\"},\"mode\":\"markers\",\"name\":\"small_bowel\",\"showlegend\":false,\"x\":[0.28],\"y\":[0.8038041294883339],\"type\":\"scatter\",\"xaxis\":\"x\",\"yaxis\":\"y\"},{\"legend\":\"legend\",\"legendgroup\":\"pig2pig\",\"marker\":{\"color\":\"#44AA99\",\"line\":{\"color\":\"black\",\"width\":1},\"size\":9,\"symbol\":\"triangle-down\"},\"mode\":\"markers\",\"name\":\"spleen\",\"showlegend\":false,\"x\":[0.0],\"y\":[0.7558087845246005],\"type\":\"scatter\",\"xaxis\":\"x\",\"yaxis\":\"y\"},{\"legend\":\"legend\",\"legendgroup\":\"pig2pig\",\"marker\":{\"color\":\"#44AA99\",\"line\":{\"color\":\"black\",\"width\":1},\"size\":9,\"symbol\":\"triangle-left\"},\"mode\":\"markers\",\"name\":\"omentum\",\"showlegend\":false,\"x\":[0.09333333333333334],\"y\":[0.7243569579148804],\"type\":\"scatter\",\"xaxis\":\"x\",\"yaxis\":\"y\"},{\"legend\":\"legend\",\"legendgroup\":\"pig2pig\",\"marker\":{\"color\":\"#44AA99\",\"line\":{\"color\":\"black\",\"width\":1},\"size\":9,\"symbol\":\"cross\"},\"mode\":\"markers\",\"name\":\"liver\",\"showlegend\":false,\"x\":[0.18666666666666668],\"y\":[0.6900023141455949],\"type\":\"scatter\",\"xaxis\":\"x\",\"yaxis\":\"y\"},{\"legend\":\"legend\",\"legendgroup\":\"pig2pig\",\"marker\":{\"color\":\"#44AA99\",\"line\":{\"color\":\"black\",\"width\":1},\"size\":9,\"symbol\":\"triangle-up\"},\"mode\":\"markers\",\"name\":\"kidney\",\"showlegend\":false,\"x\":[0.28],\"y\":[0.6844132585463181],\"type\":\"scatter\",\"xaxis\":\"x\",\"yaxis\":\"y\"},{\"boxmean\":true,\"boxpoints\":false,\"legend\":\"legend2\",\"legendgroup\":\"pig2pig\",\"line\":{\"color\":\"#44AA99\"},\"name\":\"pig2pig\",\"showlegend\":true,\"x\":[0.6,0.6,0.6,0.6,0.6,0.6,0.6,0.6,0.6,0.6,0.6,0.6],\"y\":[0.941958998705878,0.937327038898341,0.9283778865587017,0.9031307891936182,0.8811117644702278,0.8220262066712454,0.8111407694165935,0.8038041294883339,0.7558087845246005,0.7243569579148804,0.6900023141455949,0.6844132585463181],\"type\":\"box\",\"xaxis\":\"x\",\"yaxis\":\"y\"},{\"legendgroup\":\"pig2pig\",\"line\":{\"color\":\"#44AA99\",\"dash\":\"dot\"},\"mode\":\"lines\",\"name\":\"pig2pig\",\"showlegend\":false,\"text\":\"95\\u202f% CI mean: [0.81;0.84]\",\"x\":[0.5,0.5],\"y\":[0.8054700998374484,0.8412610242703699],\"type\":\"scatter\",\"xaxis\":\"x\",\"yaxis\":\"y\"},{\"legendgroup\":\"pig2pig\",\"line\":{\"color\":\"#44AA99\"},\"marker\":{\"size\":10,\"symbol\":\"triangle-down-open\"},\"mode\":\"markers\",\"name\":\"pig2pig\",\"showlegend\":false,\"text\":\"95\\u202f% CI mean: [0.81;0.84]\",\"x\":[0.5],\"y\":[0.8054700998374484],\"type\":\"scatter\",\"xaxis\":\"x\",\"yaxis\":\"y\"},{\"legendgroup\":\"pig2pig\",\"line\":{\"color\":\"#44AA99\"},\"marker\":{\"size\":10,\"symbol\":\"triangle-up-open\"},\"mode\":\"markers\",\"name\":\"pig2pig\",\"showlegend\":false,\"text\":\"95\\u202f% CI mean: [0.81;0.84]\",\"x\":[0.5],\"y\":[0.8412610242703699],\"type\":\"scatter\",\"xaxis\":\"x\",\"yaxis\":\"y\"},{\"legendgroup\":\"pig2pig\",\"line\":{\"color\":\"#44AA99\",\"dash\":\"solid\"},\"mode\":\"lines\",\"name\":\"pig2pig\",\"showlegend\":false,\"text\":\"95\\u202f% CI median: [0.79;0.87]\",\"x\":[0.7,0.7],\"y\":[0.7871294175916498,0.8683943710931711],\"type\":\"scatter\",\"xaxis\":\"x\",\"yaxis\":\"y\"},{\"legendgroup\":\"pig2pig\",\"line\":{\"color\":\"#44AA99\"},\"marker\":{\"size\":10,\"symbol\":\"triangle-down\"},\"mode\":\"markers\",\"name\":\"pig2pig\",\"showlegend\":false,\"text\":\"95\\u202f% CI median: [0.79;0.87]\",\"x\":[0.7],\"y\":[0.7871294175916498],\"type\":\"scatter\",\"xaxis\":\"x\",\"yaxis\":\"y\"},{\"legendgroup\":\"pig2pig\",\"line\":{\"color\":\"#44AA99\"},\"marker\":{\"size\":10,\"symbol\":\"triangle-up\"},\"mode\":\"markers\",\"name\":\"pig2pig\",\"showlegend\":false,\"text\":\"95\\u202f% CI median: [0.79;0.87]\",\"x\":[0.7],\"y\":[0.8683943710931711],\"type\":\"scatter\",\"xaxis\":\"x\",\"yaxis\":\"y\"},{\"legend\":\"legend\",\"legendgroup\":\"pig2rat\",\"marker\":{\"color\":\"#89CCED\",\"line\":{\"color\":\"black\",\"width\":1},\"size\":9,\"symbol\":\"triangle-right\"},\"mode\":\"markers\",\"name\":\"lung\",\"showlegend\":false,\"x\":[1.0],\"y\":[0.9665604921487662],\"type\":\"scatter\",\"xaxis\":\"x\",\"yaxis\":\"y\"},{\"legend\":\"legend\",\"legendgroup\":\"pig2rat\",\"marker\":{\"color\":\"#89CCED\",\"line\":{\"color\":\"black\",\"width\":1},\"size\":9,\"symbol\":\"triangle-sw\"},\"mode\":\"markers\",\"name\":\"background\",\"showlegend\":false,\"x\":[1.0933333333333333],\"y\":[0.6783514131141035],\"type\":\"scatter\",\"xaxis\":\"x\",\"yaxis\":\"y\"},{\"legend\":\"legend\",\"legendgroup\":\"pig2rat\",\"marker\":{\"color\":\"#89CCED\",\"line\":{\"color\":\"black\",\"width\":1},\"size\":9,\"symbol\":\"triangle-se\"},\"mode\":\"markers\",\"name\":\"peritoneum\",\"showlegend\":false,\"x\":[1.1866666666666668],\"y\":[0.6407405166627265],\"type\":\"scatter\",\"xaxis\":\"x\",\"yaxis\":\"y\"},{\"legend\":\"legend\",\"legendgroup\":\"pig2rat\",\"marker\":{\"color\":\"#89CCED\",\"line\":{\"color\":\"black\",\"width\":1},\"size\":9,\"symbol\":\"triangle-ne\"},\"mode\":\"markers\",\"name\":\"skin\",\"showlegend\":false,\"x\":[1.28],\"y\":[0.5264504383368735],\"type\":\"scatter\",\"xaxis\":\"x\",\"yaxis\":\"y\"},{\"legend\":\"legend\",\"legendgroup\":\"pig2rat\",\"marker\":{\"color\":\"#89CCED\",\"line\":{\"color\":\"black\",\"width\":1},\"size\":9,\"symbol\":\"triangle-up\"},\"mode\":\"markers\",\"name\":\"kidney\",\"showlegend\":false,\"x\":[1.0],\"y\":[0.5018283862989027],\"type\":\"scatter\",\"xaxis\":\"x\",\"yaxis\":\"y\"},{\"legend\":\"legend\",\"legendgroup\":\"pig2rat\",\"marker\":{\"color\":\"#89CCED\",\"line\":{\"color\":\"black\",\"width\":1},\"size\":9,\"symbol\":\"cross\"},\"mode\":\"markers\",\"name\":\"liver\",\"showlegend\":false,\"x\":[1.0933333333333333],\"y\":[0.4804982507653846],\"type\":\"scatter\",\"xaxis\":\"x\",\"yaxis\":\"y\"},{\"legend\":\"legend\",\"legendgroup\":\"pig2rat\",\"marker\":{\"color\":\"#89CCED\",\"line\":{\"color\":\"black\",\"width\":1},\"size\":9,\"symbol\":\"diamond\"},\"mode\":\"markers\",\"name\":\"colon\",\"showlegend\":false,\"x\":[1.1866666666666668],\"y\":[0.32990584379078364],\"type\":\"scatter\",\"xaxis\":\"x\",\"yaxis\":\"y\"},{\"legend\":\"legend\",\"legendgroup\":\"pig2rat\",\"marker\":{\"color\":\"#89CCED\",\"line\":{\"color\":\"black\",\"width\":1},\"size\":9,\"symbol\":\"triangle-left\"},\"mode\":\"markers\",\"name\":\"omentum\",\"showlegend\":false,\"x\":[1.28],\"y\":[0.2824695678116441],\"type\":\"scatter\",\"xaxis\":\"x\",\"yaxis\":\"y\"},{\"legend\":\"legend\",\"legendgroup\":\"pig2rat\",\"marker\":{\"color\":\"#89CCED\",\"line\":{\"color\":\"black\",\"width\":1},\"size\":9,\"symbol\":\"x\"},\"mode\":\"markers\",\"name\":\"pancreas\",\"showlegend\":false,\"x\":[1.0],\"y\":[0.27558766134601814],\"type\":\"scatter\",\"xaxis\":\"x\",\"yaxis\":\"y\"},{\"legend\":\"legend\",\"legendgroup\":\"pig2rat\",\"marker\":{\"color\":\"#89CCED\",\"line\":{\"color\":\"black\",\"width\":1},\"size\":9,\"symbol\":\"square\"},\"mode\":\"markers\",\"name\":\"small_bowel\",\"showlegend\":false,\"x\":[1.0933333333333333],\"y\":[0.16025507828074498],\"type\":\"scatter\",\"xaxis\":\"x\",\"yaxis\":\"y\"},{\"legend\":\"legend\",\"legendgroup\":\"pig2rat\",\"marker\":{\"color\":\"#89CCED\",\"line\":{\"color\":\"black\",\"width\":1},\"size\":9,\"symbol\":\"circle\"},\"mode\":\"markers\",\"name\":\"stomach\",\"showlegend\":false,\"x\":[1.1866666666666668],\"y\":[0.144521153037169],\"type\":\"scatter\",\"xaxis\":\"x\",\"yaxis\":\"y\"},{\"legend\":\"legend\",\"legendgroup\":\"pig2rat\",\"marker\":{\"color\":\"#89CCED\",\"line\":{\"color\":\"black\",\"width\":1},\"size\":9,\"symbol\":\"triangle-down\"},\"mode\":\"markers\",\"name\":\"spleen\",\"showlegend\":false,\"x\":[1.28],\"y\":[0.05644062040009079],\"type\":\"scatter\",\"xaxis\":\"x\",\"yaxis\":\"y\"},{\"boxmean\":true,\"boxpoints\":false,\"legend\":\"legend2\",\"legendgroup\":\"pig2rat\",\"line\":{\"color\":\"#89CCED\"},\"name\":\"pig2rat\",\"showlegend\":true,\"x\":[1.6,1.6,1.6,1.6,1.6,1.6,1.6,1.6,1.6,1.6,1.6,1.6],\"y\":[0.9665604921487662,0.6783514131141035,0.6407405166627265,0.5264504383368735,0.5018283862989027,0.4804982507653846,0.32990584379078364,0.2824695678116441,0.27558766134601814,0.16025507828074498,0.144521153037169,0.05644062040009079],\"type\":\"box\",\"xaxis\":\"x\",\"yaxis\":\"y\"},{\"legendgroup\":\"pig2rat\",\"line\":{\"color\":\"#89CCED\",\"dash\":\"dot\"},\"mode\":\"lines\",\"name\":\"pig2rat\",\"showlegend\":false,\"text\":\"95\\u202f% CI mean: [0.41;0.43]\",\"x\":[1.5,1.5],\"y\":[0.40697657729874454,0.4349704068947096],\"type\":\"scatter\",\"xaxis\":\"x\",\"yaxis\":\"y\"},{\"legendgroup\":\"pig2rat\",\"line\":{\"color\":\"#89CCED\"},\"marker\":{\"size\":10,\"symbol\":\"triangle-down-open\"},\"mode\":\"markers\",\"name\":\"pig2rat\",\"showlegend\":false,\"text\":\"95\\u202f% CI mean: [0.41;0.43]\",\"x\":[1.5],\"y\":[0.40697657729874454],\"type\":\"scatter\",\"xaxis\":\"x\",\"yaxis\":\"y\"},{\"legendgroup\":\"pig2rat\",\"line\":{\"color\":\"#89CCED\"},\"marker\":{\"size\":10,\"symbol\":\"triangle-up-open\"},\"mode\":\"markers\",\"name\":\"pig2rat\",\"showlegend\":false,\"text\":\"95\\u202f% CI mean: [0.41;0.43]\",\"x\":[1.5],\"y\":[0.4349704068947096],\"type\":\"scatter\",\"xaxis\":\"x\",\"yaxis\":\"y\"},{\"legendgroup\":\"pig2rat\",\"line\":{\"color\":\"#89CCED\",\"dash\":\"solid\"},\"mode\":\"lines\",\"name\":\"pig2rat\",\"showlegend\":false,\"text\":\"95\\u202f% CI median: [0.37;0.43]\",\"x\":[1.7,1.7],\"y\":[0.3703057916283071,0.4257116752708853],\"type\":\"scatter\",\"xaxis\":\"x\",\"yaxis\":\"y\"},{\"legendgroup\":\"pig2rat\",\"line\":{\"color\":\"#89CCED\"},\"marker\":{\"size\":10,\"symbol\":\"triangle-down\"},\"mode\":\"markers\",\"name\":\"pig2rat\",\"showlegend\":false,\"text\":\"95\\u202f% CI median: [0.37;0.43]\",\"x\":[1.7],\"y\":[0.3703057916283071],\"type\":\"scatter\",\"xaxis\":\"x\",\"yaxis\":\"y\"},{\"legendgroup\":\"pig2rat\",\"line\":{\"color\":\"#89CCED\"},\"marker\":{\"size\":10,\"symbol\":\"triangle-up\"},\"mode\":\"markers\",\"name\":\"pig2rat\",\"showlegend\":false,\"text\":\"95\\u202f% CI median: [0.37;0.43]\",\"x\":[1.7],\"y\":[0.4257116752708853],\"type\":\"scatter\",\"xaxis\":\"x\",\"yaxis\":\"y\"},{\"legend\":\"legend\",\"legendgroup\":\"pig2human\",\"marker\":{\"color\":\"#DDCB76\",\"line\":{\"color\":\"black\",\"width\":1},\"size\":9,\"symbol\":\"triangle-ne\"},\"mode\":\"markers\",\"name\":\"skin\",\"showlegend\":false,\"x\":[2.0],\"y\":[0.7930409227537297],\"type\":\"scatter\",\"xaxis\":\"x\",\"yaxis\":\"y\"},{\"legend\":\"legend\",\"legendgroup\":\"pig2human\",\"marker\":{\"color\":\"#DDCB76\",\"line\":{\"color\":\"black\",\"width\":1},\"size\":9,\"symbol\":\"triangle-sw\"},\"mode\":\"markers\",\"name\":\"background\",\"showlegend\":false,\"x\":[2.0933333333333333],\"y\":[0.6937688300492143],\"type\":\"scatter\",\"xaxis\":\"x\",\"yaxis\":\"y\"},{\"legend\":\"legend\",\"legendgroup\":\"pig2human\",\"marker\":{\"color\":\"#DDCB76\",\"line\":{\"color\":\"black\",\"width\":1},\"size\":9,\"symbol\":\"triangle-right\"},\"mode\":\"markers\",\"name\":\"lung\",\"showlegend\":false,\"x\":[2.1866666666666665],\"y\":[0.4566251993841595],\"type\":\"scatter\",\"xaxis\":\"x\",\"yaxis\":\"y\"},{\"legend\":\"legend\",\"legendgroup\":\"pig2human\",\"marker\":{\"color\":\"#DDCB76\",\"line\":{\"color\":\"black\",\"width\":1},\"size\":9,\"symbol\":\"triangle-left\"},\"mode\":\"markers\",\"name\":\"omentum\",\"showlegend\":false,\"x\":[2.2800000000000002],\"y\":[0.4460826853310139],\"type\":\"scatter\",\"xaxis\":\"x\",\"yaxis\":\"y\"},{\"legend\":\"legend\",\"legendgroup\":\"pig2human\",\"marker\":{\"color\":\"#DDCB76\",\"line\":{\"color\":\"black\",\"width\":1},\"size\":9,\"symbol\":\"triangle-se\"},\"mode\":\"markers\",\"name\":\"peritoneum\",\"showlegend\":false,\"x\":[2.0],\"y\":[0.33354861423874105],\"type\":\"scatter\",\"xaxis\":\"x\",\"yaxis\":\"y\"},{\"legend\":\"legend\",\"legendgroup\":\"pig2human\",\"marker\":{\"color\":\"#DDCB76\",\"line\":{\"color\":\"black\",\"width\":1},\"size\":9,\"symbol\":\"circle\"},\"mode\":\"markers\",\"name\":\"stomach\",\"showlegend\":false,\"x\":[2.0933333333333333],\"y\":[0.32645506592658835],\"type\":\"scatter\",\"xaxis\":\"x\",\"yaxis\":\"y\"},{\"legend\":\"legend\",\"legendgroup\":\"pig2human\",\"marker\":{\"color\":\"#DDCB76\",\"line\":{\"color\":\"black\",\"width\":1},\"size\":9,\"symbol\":\"diamond\"},\"mode\":\"markers\",\"name\":\"colon\",\"showlegend\":false,\"x\":[2.1866666666666665],\"y\":[0.19489637815966737],\"type\":\"scatter\",\"xaxis\":\"x\",\"yaxis\":\"y\"},{\"legend\":\"legend\",\"legendgroup\":\"pig2human\",\"marker\":{\"color\":\"#DDCB76\",\"line\":{\"color\":\"black\",\"width\":1},\"size\":9,\"symbol\":\"triangle-down\"},\"mode\":\"markers\",\"name\":\"spleen\",\"showlegend\":false,\"x\":[2.2800000000000002],\"y\":[0.19052227238814035],\"type\":\"scatter\",\"xaxis\":\"x\",\"yaxis\":\"y\"},{\"legend\":\"legend\",\"legendgroup\":\"pig2human\",\"marker\":{\"color\":\"#DDCB76\",\"line\":{\"color\":\"black\",\"width\":1},\"size\":9,\"symbol\":\"square\"},\"mode\":\"markers\",\"name\":\"small_bowel\",\"showlegend\":false,\"x\":[2.0],\"y\":[0.18345963420652484],\"type\":\"scatter\",\"xaxis\":\"x\",\"yaxis\":\"y\"},{\"legend\":\"legend\",\"legendgroup\":\"pig2human\",\"marker\":{\"color\":\"#DDCB76\",\"line\":{\"color\":\"black\",\"width\":1},\"size\":9,\"symbol\":\"triangle-up\"},\"mode\":\"markers\",\"name\":\"kidney\",\"showlegend\":false,\"x\":[2.0933333333333333],\"y\":[0.14353219614269966],\"type\":\"scatter\",\"xaxis\":\"x\",\"yaxis\":\"y\"},{\"legend\":\"legend\",\"legendgroup\":\"pig2human\",\"marker\":{\"color\":\"#DDCB76\",\"line\":{\"color\":\"black\",\"width\":1},\"size\":9,\"symbol\":\"cross\"},\"mode\":\"markers\",\"name\":\"liver\",\"showlegend\":false,\"x\":[2.1866666666666665],\"y\":[0.08230939610104758],\"type\":\"scatter\",\"xaxis\":\"x\",\"yaxis\":\"y\"},{\"legend\":\"legend\",\"legendgroup\":\"pig2human\",\"marker\":{\"color\":\"#DDCB76\",\"line\":{\"color\":\"black\",\"width\":1},\"size\":9,\"symbol\":\"x\"},\"mode\":\"markers\",\"name\":\"pancreas\",\"showlegend\":false,\"x\":[2.2800000000000002],\"y\":[0.05610147405298952],\"type\":\"scatter\",\"xaxis\":\"x\",\"yaxis\":\"y\"},{\"boxmean\":true,\"boxpoints\":false,\"legend\":\"legend2\",\"legendgroup\":\"pig2human\",\"line\":{\"color\":\"#DDCB76\"},\"name\":\"pig2human\",\"showlegend\":true,\"x\":[2.6,2.6,2.6,2.6,2.6,2.6,2.6,2.6,2.6,2.6,2.6,2.6],\"y\":[0.7930409227537297,0.6937688300492143,0.4566251993841595,0.4460826853310139,0.33354861423874105,0.32645506592658835,0.19489637815966737,0.19052227238814035,0.18345963420652484,0.14353219614269966,0.08230939610104758,0.05610147405298952],\"type\":\"box\",\"xaxis\":\"x\",\"yaxis\":\"y\"},{\"legendgroup\":\"pig2human\",\"line\":{\"color\":\"#DDCB76\",\"dash\":\"dot\"},\"mode\":\"lines\",\"name\":\"pig2human\",\"showlegend\":false,\"text\":\"95\\u202f% CI mean: [0.31;0.34]\",\"x\":[2.5,2.5],\"y\":[0.3076837705233507,0.34255576617045475],\"type\":\"scatter\",\"xaxis\":\"x\",\"yaxis\":\"y\"},{\"legendgroup\":\"pig2human\",\"line\":{\"color\":\"#DDCB76\"},\"marker\":{\"size\":10,\"symbol\":\"triangle-down-open\"},\"mode\":\"markers\",\"name\":\"pig2human\",\"showlegend\":false,\"text\":\"95\\u202f% CI mean: [0.31;0.34]\",\"x\":[2.5],\"y\":[0.3076837705233507],\"type\":\"scatter\",\"xaxis\":\"x\",\"yaxis\":\"y\"},{\"legendgroup\":\"pig2human\",\"line\":{\"color\":\"#DDCB76\"},\"marker\":{\"size\":10,\"symbol\":\"triangle-up-open\"},\"mode\":\"markers\",\"name\":\"pig2human\",\"showlegend\":false,\"text\":\"95\\u202f% CI mean: [0.31;0.34]\",\"x\":[2.5],\"y\":[0.34255576617045475],\"type\":\"scatter\",\"xaxis\":\"x\",\"yaxis\":\"y\"},{\"legendgroup\":\"pig2human\",\"line\":{\"color\":\"#DDCB76\",\"dash\":\"solid\"},\"mode\":\"lines\",\"name\":\"pig2human\",\"showlegend\":false,\"text\":\"95\\u202f% CI median: [0.23;0.32]\",\"x\":[2.7,2.7],\"y\":[0.2321627567825967,0.3164435493461754],\"type\":\"scatter\",\"xaxis\":\"x\",\"yaxis\":\"y\"},{\"legendgroup\":\"pig2human\",\"line\":{\"color\":\"#DDCB76\"},\"marker\":{\"size\":10,\"symbol\":\"triangle-down\"},\"mode\":\"markers\",\"name\":\"pig2human\",\"showlegend\":false,\"text\":\"95\\u202f% CI median: [0.23;0.32]\",\"x\":[2.7],\"y\":[0.2321627567825967],\"type\":\"scatter\",\"xaxis\":\"x\",\"yaxis\":\"y\"},{\"legendgroup\":\"pig2human\",\"line\":{\"color\":\"#DDCB76\"},\"marker\":{\"size\":10,\"symbol\":\"triangle-up\"},\"mode\":\"markers\",\"name\":\"pig2human\",\"showlegend\":false,\"text\":\"95\\u202f% CI median: [0.23;0.32]\",\"x\":[2.7],\"y\":[0.3164435493461754],\"type\":\"scatter\",\"xaxis\":\"x\",\"yaxis\":\"y\"},{\"legend\":\"legend\",\"marker\":{\"color\":\"gray\",\"line\":{\"color\":\"black\",\"width\":1},\"size\":9,\"symbol\":\"circle\"},\"mode\":\"markers\",\"name\":\"stomach\",\"showlegend\":false,\"x\":[null],\"y\":[null],\"type\":\"scatter\",\"xaxis\":\"x2\",\"yaxis\":\"y2\"},{\"legend\":\"legend\",\"marker\":{\"color\":\"gray\",\"line\":{\"color\":\"black\",\"width\":1},\"size\":9,\"symbol\":\"square\"},\"mode\":\"markers\",\"name\":\"small_bowel\",\"showlegend\":false,\"x\":[null],\"y\":[null],\"type\":\"scatter\",\"xaxis\":\"x2\",\"yaxis\":\"y2\"},{\"legend\":\"legend\",\"marker\":{\"color\":\"gray\",\"line\":{\"color\":\"black\",\"width\":1},\"size\":9,\"symbol\":\"diamond\"},\"mode\":\"markers\",\"name\":\"colon\",\"showlegend\":false,\"x\":[null],\"y\":[null],\"type\":\"scatter\",\"xaxis\":\"x2\",\"yaxis\":\"y2\"},{\"legend\":\"legend\",\"marker\":{\"color\":\"gray\",\"line\":{\"color\":\"black\",\"width\":1},\"size\":9,\"symbol\":\"cross\"},\"mode\":\"markers\",\"name\":\"liver\",\"showlegend\":false,\"x\":[null],\"y\":[null],\"type\":\"scatter\",\"xaxis\":\"x2\",\"yaxis\":\"y2\"},{\"legend\":\"legend\",\"marker\":{\"color\":\"gray\",\"line\":{\"color\":\"black\",\"width\":1},\"size\":9,\"symbol\":\"x\"},\"mode\":\"markers\",\"name\":\"pancreas\",\"showlegend\":false,\"x\":[null],\"y\":[null],\"type\":\"scatter\",\"xaxis\":\"x2\",\"yaxis\":\"y2\"},{\"legend\":\"legend\",\"marker\":{\"color\":\"gray\",\"line\":{\"color\":\"black\",\"width\":1},\"size\":9,\"symbol\":\"triangle-up\"},\"mode\":\"markers\",\"name\":\"kidney\",\"showlegend\":false,\"x\":[null],\"y\":[null],\"type\":\"scatter\",\"xaxis\":\"x2\",\"yaxis\":\"y2\"},{\"legend\":\"legend\",\"marker\":{\"color\":\"gray\",\"line\":{\"color\":\"black\",\"width\":1},\"size\":9,\"symbol\":\"triangle-down\"},\"mode\":\"markers\",\"name\":\"spleen\",\"showlegend\":false,\"x\":[null],\"y\":[null],\"type\":\"scatter\",\"xaxis\":\"x2\",\"yaxis\":\"y2\"},{\"legend\":\"legend\",\"marker\":{\"color\":\"gray\",\"line\":{\"color\":\"black\",\"width\":1},\"size\":9,\"symbol\":\"triangle-left\"},\"mode\":\"markers\",\"name\":\"omentum\",\"showlegend\":false,\"x\":[null],\"y\":[null],\"type\":\"scatter\",\"xaxis\":\"x2\",\"yaxis\":\"y2\"},{\"legend\":\"legend\",\"marker\":{\"color\":\"gray\",\"line\":{\"color\":\"black\",\"width\":1},\"size\":9,\"symbol\":\"triangle-right\"},\"mode\":\"markers\",\"name\":\"lung\",\"showlegend\":false,\"x\":[null],\"y\":[null],\"type\":\"scatter\",\"xaxis\":\"x2\",\"yaxis\":\"y2\"},{\"legend\":\"legend\",\"marker\":{\"color\":\"gray\",\"line\":{\"color\":\"black\",\"width\":1},\"size\":9,\"symbol\":\"triangle-ne\"},\"mode\":\"markers\",\"name\":\"skin\",\"showlegend\":false,\"x\":[null],\"y\":[null],\"type\":\"scatter\",\"xaxis\":\"x2\",\"yaxis\":\"y2\"},{\"legend\":\"legend\",\"marker\":{\"color\":\"gray\",\"line\":{\"color\":\"black\",\"width\":1},\"size\":9,\"symbol\":\"triangle-se\"},\"mode\":\"markers\",\"name\":\"peritoneum\",\"showlegend\":false,\"x\":[null],\"y\":[null],\"type\":\"scatter\",\"xaxis\":\"x2\",\"yaxis\":\"y2\"},{\"legend\":\"legend\",\"marker\":{\"color\":\"gray\",\"line\":{\"color\":\"black\",\"width\":1},\"size\":9,\"symbol\":\"triangle-sw\"},\"mode\":\"markers\",\"name\":\"background\",\"showlegend\":false,\"x\":[null],\"y\":[null],\"type\":\"scatter\",\"xaxis\":\"x2\",\"yaxis\":\"y2\"},{\"legend\":\"legend\",\"legendgroup\":\"rat2rat\",\"marker\":{\"color\":\"#89CCED\",\"line\":{\"color\":\"black\",\"width\":1},\"size\":9,\"symbol\":\"triangle-right\"},\"mode\":\"markers\",\"name\":\"lung\",\"showlegend\":false,\"x\":[0.0],\"y\":[0.986685966834044],\"type\":\"scatter\",\"xaxis\":\"x2\",\"yaxis\":\"y2\"},{\"legend\":\"legend\",\"legendgroup\":\"rat2rat\",\"marker\":{\"color\":\"#89CCED\",\"line\":{\"color\":\"black\",\"width\":1},\"size\":9,\"symbol\":\"triangle-se\"},\"mode\":\"markers\",\"name\":\"peritoneum\",\"showlegend\":false,\"x\":[0.09333333333333334],\"y\":[0.9779430029761129],\"type\":\"scatter\",\"xaxis\":\"x2\",\"yaxis\":\"y2\"},{\"legend\":\"legend\",\"legendgroup\":\"rat2rat\",\"marker\":{\"color\":\"#89CCED\",\"line\":{\"color\":\"black\",\"width\":1},\"size\":9,\"symbol\":\"triangle-sw\"},\"mode\":\"markers\",\"name\":\"background\",\"showlegend\":false,\"x\":[0.18666666666666668],\"y\":[0.9540127617336823],\"type\":\"scatter\",\"xaxis\":\"x2\",\"yaxis\":\"y2\"},{\"legend\":\"legend\",\"legendgroup\":\"rat2rat\",\"marker\":{\"color\":\"#89CCED\",\"line\":{\"color\":\"black\",\"width\":1},\"size\":9,\"symbol\":\"triangle-ne\"},\"mode\":\"markers\",\"name\":\"skin\",\"showlegend\":false,\"x\":[0.28],\"y\":[0.9434143818325308],\"type\":\"scatter\",\"xaxis\":\"x2\",\"yaxis\":\"y2\"},{\"legend\":\"legend\",\"legendgroup\":\"rat2rat\",\"marker\":{\"color\":\"#89CCED\",\"line\":{\"color\":\"black\",\"width\":1},\"size\":9,\"symbol\":\"square\"},\"mode\":\"markers\",\"name\":\"small_bowel\",\"showlegend\":false,\"x\":[0.0],\"y\":[0.8736784447153666],\"type\":\"scatter\",\"xaxis\":\"x2\",\"yaxis\":\"y2\"},{\"legend\":\"legend\",\"legendgroup\":\"rat2rat\",\"marker\":{\"color\":\"#89CCED\",\"line\":{\"color\":\"black\",\"width\":1},\"size\":9,\"symbol\":\"triangle-up\"},\"mode\":\"markers\",\"name\":\"kidney\",\"showlegend\":false,\"x\":[0.09333333333333334],\"y\":[0.8425407313165211],\"type\":\"scatter\",\"xaxis\":\"x2\",\"yaxis\":\"y2\"},{\"legend\":\"legend\",\"legendgroup\":\"rat2rat\",\"marker\":{\"color\":\"#89CCED\",\"line\":{\"color\":\"black\",\"width\":1},\"size\":9,\"symbol\":\"triangle-left\"},\"mode\":\"markers\",\"name\":\"omentum\",\"showlegend\":false,\"x\":[0.18666666666666668],\"y\":[0.8391069408991222],\"type\":\"scatter\",\"xaxis\":\"x2\",\"yaxis\":\"y2\"},{\"legend\":\"legend\",\"legendgroup\":\"rat2rat\",\"marker\":{\"color\":\"#89CCED\",\"line\":{\"color\":\"black\",\"width\":1},\"size\":9,\"symbol\":\"circle\"},\"mode\":\"markers\",\"name\":\"stomach\",\"showlegend\":false,\"x\":[0.28],\"y\":[0.8264226446780041],\"type\":\"scatter\",\"xaxis\":\"x2\",\"yaxis\":\"y2\"},{\"legend\":\"legend\",\"legendgroup\":\"rat2rat\",\"marker\":{\"color\":\"#89CCED\",\"line\":{\"color\":\"black\",\"width\":1},\"size\":9,\"symbol\":\"triangle-down\"},\"mode\":\"markers\",\"name\":\"spleen\",\"showlegend\":false,\"x\":[0.0],\"y\":[0.7814664246191249],\"type\":\"scatter\",\"xaxis\":\"x2\",\"yaxis\":\"y2\"},{\"legend\":\"legend\",\"legendgroup\":\"rat2rat\",\"marker\":{\"color\":\"#89CCED\",\"line\":{\"color\":\"black\",\"width\":1},\"size\":9,\"symbol\":\"diamond\"},\"mode\":\"markers\",\"name\":\"colon\",\"showlegend\":false,\"x\":[0.09333333333333334],\"y\":[0.7675167327029835],\"type\":\"scatter\",\"xaxis\":\"x2\",\"yaxis\":\"y2\"},{\"legend\":\"legend\",\"legendgroup\":\"rat2rat\",\"marker\":{\"color\":\"#89CCED\",\"line\":{\"color\":\"black\",\"width\":1},\"size\":9,\"symbol\":\"cross\"},\"mode\":\"markers\",\"name\":\"liver\",\"showlegend\":false,\"x\":[0.18666666666666668],\"y\":[0.7392227431358054],\"type\":\"scatter\",\"xaxis\":\"x2\",\"yaxis\":\"y2\"},{\"legend\":\"legend\",\"legendgroup\":\"rat2rat\",\"marker\":{\"color\":\"#89CCED\",\"line\":{\"color\":\"black\",\"width\":1},\"size\":9,\"symbol\":\"x\"},\"mode\":\"markers\",\"name\":\"pancreas\",\"showlegend\":false,\"x\":[0.28],\"y\":[0.6675679325620769],\"type\":\"scatter\",\"xaxis\":\"x2\",\"yaxis\":\"y2\"},{\"boxmean\":true,\"boxpoints\":false,\"legend\":\"legend2\",\"legendgroup\":\"rat2rat\",\"line\":{\"color\":\"#89CCED\"},\"name\":\"rat2rat\",\"showlegend\":false,\"x\":[0.6,0.6,0.6,0.6,0.6,0.6,0.6,0.6,0.6,0.6,0.6,0.6],\"y\":[0.986685966834044,0.9779430029761129,0.9540127617336823,0.9434143818325308,0.8736784447153666,0.8425407313165211,0.8391069408991222,0.8264226446780041,0.7814664246191249,0.7675167327029835,0.7392227431358054,0.6675679325620769],\"type\":\"box\",\"xaxis\":\"x2\",\"yaxis\":\"y2\"},{\"legendgroup\":\"rat2rat\",\"line\":{\"color\":\"#89CCED\",\"dash\":\"dot\"},\"mode\":\"lines\",\"name\":\"rat2rat\",\"showlegend\":false,\"text\":\"95\\u202f% CI mean: [0.84;0.86]\",\"x\":[0.5,0.5],\"y\":[0.8382251631441091,0.861769818849457],\"type\":\"scatter\",\"xaxis\":\"x2\",\"yaxis\":\"y2\"},{\"legendgroup\":\"rat2rat\",\"line\":{\"color\":\"#89CCED\"},\"marker\":{\"size\":10,\"symbol\":\"triangle-down-open\"},\"mode\":\"markers\",\"name\":\"rat2rat\",\"showlegend\":false,\"text\":\"95\\u202f% CI mean: [0.84;0.86]\",\"x\":[0.5],\"y\":[0.8382251631441091],\"type\":\"scatter\",\"xaxis\":\"x2\",\"yaxis\":\"y2\"},{\"legendgroup\":\"rat2rat\",\"line\":{\"color\":\"#89CCED\"},\"marker\":{\"size\":10,\"symbol\":\"triangle-up-open\"},\"mode\":\"markers\",\"name\":\"rat2rat\",\"showlegend\":false,\"text\":\"95\\u202f% CI mean: [0.84;0.86]\",\"x\":[0.5],\"y\":[0.861769818849457],\"type\":\"scatter\",\"xaxis\":\"x2\",\"yaxis\":\"y2\"},{\"legendgroup\":\"rat2rat\",\"line\":{\"color\":\"#89CCED\",\"dash\":\"solid\"},\"mode\":\"lines\",\"name\":\"rat2rat\",\"showlegend\":false,\"text\":\"95\\u202f% CI median: [0.82;0.87]\",\"x\":[0.7,0.7],\"y\":[0.8237440335972203,0.8662700256095697],\"type\":\"scatter\",\"xaxis\":\"x2\",\"yaxis\":\"y2\"},{\"legendgroup\":\"rat2rat\",\"line\":{\"color\":\"#89CCED\"},\"marker\":{\"size\":10,\"symbol\":\"triangle-down\"},\"mode\":\"markers\",\"name\":\"rat2rat\",\"showlegend\":false,\"text\":\"95\\u202f% CI median: [0.82;0.87]\",\"x\":[0.7],\"y\":[0.8237440335972203],\"type\":\"scatter\",\"xaxis\":\"x2\",\"yaxis\":\"y2\"},{\"legendgroup\":\"rat2rat\",\"line\":{\"color\":\"#89CCED\"},\"marker\":{\"size\":10,\"symbol\":\"triangle-up\"},\"mode\":\"markers\",\"name\":\"rat2rat\",\"showlegend\":false,\"text\":\"95\\u202f% CI median: [0.82;0.87]\",\"x\":[0.7],\"y\":[0.8662700256095697],\"type\":\"scatter\",\"xaxis\":\"x2\",\"yaxis\":\"y2\"},{\"legend\":\"legend\",\"legendgroup\":\"rat2pig\",\"marker\":{\"color\":\"#44AA99\",\"line\":{\"color\":\"black\",\"width\":1},\"size\":9,\"symbol\":\"triangle-ne\"},\"mode\":\"markers\",\"name\":\"skin\",\"showlegend\":false,\"x\":[1.0],\"y\":[0.5590459891796337],\"type\":\"scatter\",\"xaxis\":\"x2\",\"yaxis\":\"y2\"},{\"legend\":\"legend\",\"legendgroup\":\"rat2pig\",\"marker\":{\"color\":\"#44AA99\",\"line\":{\"color\":\"black\",\"width\":1},\"size\":9,\"symbol\":\"triangle-sw\"},\"mode\":\"markers\",\"name\":\"background\",\"showlegend\":false,\"x\":[1.0933333333333333],\"y\":[0.5253534667799388],\"type\":\"scatter\",\"xaxis\":\"x2\",\"yaxis\":\"y2\"},{\"legend\":\"legend\",\"legendgroup\":\"rat2pig\",\"marker\":{\"color\":\"#44AA99\",\"line\":{\"color\":\"black\",\"width\":1},\"size\":9,\"symbol\":\"triangle-right\"},\"mode\":\"markers\",\"name\":\"lung\",\"showlegend\":false,\"x\":[1.1866666666666668],\"y\":[0.5034799267316148],\"type\":\"scatter\",\"xaxis\":\"x2\",\"yaxis\":\"y2\"},{\"legend\":\"legend\",\"legendgroup\":\"rat2pig\",\"marker\":{\"color\":\"#44AA99\",\"line\":{\"color\":\"black\",\"width\":1},\"size\":9,\"symbol\":\"cross\"},\"mode\":\"markers\",\"name\":\"liver\",\"showlegend\":false,\"x\":[1.28],\"y\":[0.46451879498440657],\"type\":\"scatter\",\"xaxis\":\"x2\",\"yaxis\":\"y2\"},{\"legend\":\"legend\",\"legendgroup\":\"rat2pig\",\"marker\":{\"color\":\"#44AA99\",\"line\":{\"color\":\"black\",\"width\":1},\"size\":9,\"symbol\":\"triangle-se\"},\"mode\":\"markers\",\"name\":\"peritoneum\",\"showlegend\":false,\"x\":[1.0],\"y\":[0.3874100993211658],\"type\":\"scatter\",\"xaxis\":\"x2\",\"yaxis\":\"y2\"},{\"legend\":\"legend\",\"legendgroup\":\"rat2pig\",\"marker\":{\"color\":\"#44AA99\",\"line\":{\"color\":\"black\",\"width\":1},\"size\":9,\"symbol\":\"square\"},\"mode\":\"markers\",\"name\":\"small_bowel\",\"showlegend\":false,\"x\":[1.0933333333333333],\"y\":[0.38189305418897845],\"type\":\"scatter\",\"xaxis\":\"x2\",\"yaxis\":\"y2\"},{\"legend\":\"legend\",\"legendgroup\":\"rat2pig\",\"marker\":{\"color\":\"#44AA99\",\"line\":{\"color\":\"black\",\"width\":1},\"size\":9,\"symbol\":\"triangle-down\"},\"mode\":\"markers\",\"name\":\"spleen\",\"showlegend\":false,\"x\":[1.1866666666666668],\"y\":[0.3201384294696354],\"type\":\"scatter\",\"xaxis\":\"x2\",\"yaxis\":\"y2\"},{\"legend\":\"legend\",\"legendgroup\":\"rat2pig\",\"marker\":{\"color\":\"#44AA99\",\"line\":{\"color\":\"black\",\"width\":1},\"size\":9,\"symbol\":\"x\"},\"mode\":\"markers\",\"name\":\"pancreas\",\"showlegend\":false,\"x\":[1.28],\"y\":[0.2535087051798427],\"type\":\"scatter\",\"xaxis\":\"x2\",\"yaxis\":\"y2\"},{\"legend\":\"legend\",\"legendgroup\":\"rat2pig\",\"marker\":{\"color\":\"#44AA99\",\"line\":{\"color\":\"black\",\"width\":1},\"size\":9,\"symbol\":\"triangle-left\"},\"mode\":\"markers\",\"name\":\"omentum\",\"showlegend\":false,\"x\":[1.0],\"y\":[0.2163514219175865],\"type\":\"scatter\",\"xaxis\":\"x2\",\"yaxis\":\"y2\"},{\"legend\":\"legend\",\"legendgroup\":\"rat2pig\",\"marker\":{\"color\":\"#44AA99\",\"line\":{\"color\":\"black\",\"width\":1},\"size\":9,\"symbol\":\"diamond\"},\"mode\":\"markers\",\"name\":\"colon\",\"showlegend\":false,\"x\":[1.0933333333333333],\"y\":[0.2119251420071226],\"type\":\"scatter\",\"xaxis\":\"x2\",\"yaxis\":\"y2\"},{\"legend\":\"legend\",\"legendgroup\":\"rat2pig\",\"marker\":{\"color\":\"#44AA99\",\"line\":{\"color\":\"black\",\"width\":1},\"size\":9,\"symbol\":\"circle\"},\"mode\":\"markers\",\"name\":\"stomach\",\"showlegend\":false,\"x\":[1.1866666666666668],\"y\":[0.014048675142347363],\"type\":\"scatter\",\"xaxis\":\"x2\",\"yaxis\":\"y2\"},{\"legend\":\"legend\",\"legendgroup\":\"rat2pig\",\"marker\":{\"color\":\"#44AA99\",\"line\":{\"color\":\"black\",\"width\":1},\"size\":9,\"symbol\":\"triangle-up\"},\"mode\":\"markers\",\"name\":\"kidney\",\"showlegend\":false,\"x\":[1.28],\"y\":[0.0016989995743714125],\"type\":\"scatter\",\"xaxis\":\"x2\",\"yaxis\":\"y2\"},{\"boxmean\":true,\"boxpoints\":false,\"legend\":\"legend2\",\"legendgroup\":\"rat2pig\",\"line\":{\"color\":\"#44AA99\"},\"name\":\"rat2pig\",\"showlegend\":false,\"x\":[1.6,1.6,1.6,1.6,1.6,1.6,1.6,1.6,1.6,1.6,1.6,1.6],\"y\":[0.5590459891796337,0.5253534667799388,0.5034799267316148,0.46451879498440657,0.3874100993211658,0.38189305418897845,0.3201384294696354,0.2535087051798427,0.2163514219175865,0.2119251420071226,0.014048675142347363,0.0016989995743714125],\"type\":\"box\",\"xaxis\":\"x2\",\"yaxis\":\"y2\"},{\"legendgroup\":\"rat2pig\",\"line\":{\"color\":\"#44AA99\",\"dash\":\"dot\"},\"mode\":\"lines\",\"name\":\"rat2pig\",\"showlegend\":false,\"text\":\"95\\u202f% CI mean: [0.29;0.35]\",\"x\":[1.5,1.5],\"y\":[0.29200071758218277,0.34655099777638687],\"type\":\"scatter\",\"xaxis\":\"x2\",\"yaxis\":\"y2\"},{\"legendgroup\":\"rat2pig\",\"line\":{\"color\":\"#44AA99\"},\"marker\":{\"size\":10,\"symbol\":\"triangle-down-open\"},\"mode\":\"markers\",\"name\":\"rat2pig\",\"showlegend\":false,\"text\":\"95\\u202f% CI mean: [0.29;0.35]\",\"x\":[1.5],\"y\":[0.29200071758218277],\"type\":\"scatter\",\"xaxis\":\"x2\",\"yaxis\":\"y2\"},{\"legendgroup\":\"rat2pig\",\"line\":{\"color\":\"#44AA99\"},\"marker\":{\"size\":10,\"symbol\":\"triangle-up-open\"},\"mode\":\"markers\",\"name\":\"rat2pig\",\"showlegend\":false,\"text\":\"95\\u202f% CI mean: [0.29;0.35]\",\"x\":[1.5],\"y\":[0.34655099777638687],\"type\":\"scatter\",\"xaxis\":\"x2\",\"yaxis\":\"y2\"},{\"legendgroup\":\"rat2pig\",\"line\":{\"color\":\"#44AA99\",\"dash\":\"solid\"},\"mode\":\"lines\",\"name\":\"rat2pig\",\"showlegend\":false,\"text\":\"95\\u202f% CI median: [0.29;0.39]\",\"x\":[1.7,1.7],\"y\":[0.2906082427290182,0.3908288181486418],\"type\":\"scatter\",\"xaxis\":\"x2\",\"yaxis\":\"y2\"},{\"legendgroup\":\"rat2pig\",\"line\":{\"color\":\"#44AA99\"},\"marker\":{\"size\":10,\"symbol\":\"triangle-down\"},\"mode\":\"markers\",\"name\":\"rat2pig\",\"showlegend\":false,\"text\":\"95\\u202f% CI median: [0.29;0.39]\",\"x\":[1.7],\"y\":[0.2906082427290182],\"type\":\"scatter\",\"xaxis\":\"x2\",\"yaxis\":\"y2\"},{\"legendgroup\":\"rat2pig\",\"line\":{\"color\":\"#44AA99\"},\"marker\":{\"size\":10,\"symbol\":\"triangle-up\"},\"mode\":\"markers\",\"name\":\"rat2pig\",\"showlegend\":false,\"text\":\"95\\u202f% CI median: [0.29;0.39]\",\"x\":[1.7],\"y\":[0.3908288181486418],\"type\":\"scatter\",\"xaxis\":\"x2\",\"yaxis\":\"y2\"},{\"legend\":\"legend\",\"legendgroup\":\"rat2human\",\"marker\":{\"color\":\"#DDCB76\",\"line\":{\"color\":\"black\",\"width\":1},\"size\":9,\"symbol\":\"triangle-ne\"},\"mode\":\"markers\",\"name\":\"skin\",\"showlegend\":false,\"x\":[2.0],\"y\":[0.5539895442754853],\"type\":\"scatter\",\"xaxis\":\"x2\",\"yaxis\":\"y2\"},{\"legend\":\"legend\",\"legendgroup\":\"rat2human\",\"marker\":{\"color\":\"#DDCB76\",\"line\":{\"color\":\"black\",\"width\":1},\"size\":9,\"symbol\":\"triangle-sw\"},\"mode\":\"markers\",\"name\":\"background\",\"showlegend\":false,\"x\":[2.0933333333333333],\"y\":[0.5360022352474814],\"type\":\"scatter\",\"xaxis\":\"x2\",\"yaxis\":\"y2\"},{\"legend\":\"legend\",\"legendgroup\":\"rat2human\",\"marker\":{\"color\":\"#DDCB76\",\"line\":{\"color\":\"black\",\"width\":1},\"size\":9,\"symbol\":\"triangle-left\"},\"mode\":\"markers\",\"name\":\"omentum\",\"showlegend\":false,\"x\":[2.1866666666666665],\"y\":[0.409208385591001],\"type\":\"scatter\",\"xaxis\":\"x2\",\"yaxis\":\"y2\"},{\"legend\":\"legend\",\"legendgroup\":\"rat2human\",\"marker\":{\"color\":\"#DDCB76\",\"line\":{\"color\":\"black\",\"width\":1},\"size\":9,\"symbol\":\"triangle-down\"},\"mode\":\"markers\",\"name\":\"spleen\",\"showlegend\":false,\"x\":[2.2800000000000002],\"y\":[0.2589666756956528],\"type\":\"scatter\",\"xaxis\":\"x2\",\"yaxis\":\"y2\"},{\"legend\":\"legend\",\"legendgroup\":\"rat2human\",\"marker\":{\"color\":\"#DDCB76\",\"line\":{\"color\":\"black\",\"width\":1},\"size\":9,\"symbol\":\"cross\"},\"mode\":\"markers\",\"name\":\"liver\",\"showlegend\":false,\"x\":[2.0],\"y\":[0.2377865435058823],\"type\":\"scatter\",\"xaxis\":\"x2\",\"yaxis\":\"y2\"},{\"legend\":\"legend\",\"legendgroup\":\"rat2human\",\"marker\":{\"color\":\"#DDCB76\",\"line\":{\"color\":\"black\",\"width\":1},\"size\":9,\"symbol\":\"square\"},\"mode\":\"markers\",\"name\":\"small_bowel\",\"showlegend\":false,\"x\":[2.0933333333333333],\"y\":[0.22343434900440345],\"type\":\"scatter\",\"xaxis\":\"x2\",\"yaxis\":\"y2\"},{\"legend\":\"legend\",\"legendgroup\":\"rat2human\",\"marker\":{\"color\":\"#DDCB76\",\"line\":{\"color\":\"black\",\"width\":1},\"size\":9,\"symbol\":\"triangle-se\"},\"mode\":\"markers\",\"name\":\"peritoneum\",\"showlegend\":false,\"x\":[2.1866666666666665],\"y\":[0.22199984246657953],\"type\":\"scatter\",\"xaxis\":\"x2\",\"yaxis\":\"y2\"},{\"legend\":\"legend\",\"legendgroup\":\"rat2human\",\"marker\":{\"color\":\"#DDCB76\",\"line\":{\"color\":\"black\",\"width\":1},\"size\":9,\"symbol\":\"triangle-right\"},\"mode\":\"markers\",\"name\":\"lung\",\"showlegend\":false,\"x\":[2.2800000000000002],\"y\":[0.2188682485289044],\"type\":\"scatter\",\"xaxis\":\"x2\",\"yaxis\":\"y2\"},{\"legend\":\"legend\",\"legendgroup\":\"rat2human\",\"marker\":{\"color\":\"#DDCB76\",\"line\":{\"color\":\"black\",\"width\":1},\"size\":9,\"symbol\":\"circle\"},\"mode\":\"markers\",\"name\":\"stomach\",\"showlegend\":false,\"x\":[2.0],\"y\":[0.034776732581337136],\"type\":\"scatter\",\"xaxis\":\"x2\",\"yaxis\":\"y2\"},{\"legend\":\"legend\",\"legendgroup\":\"rat2human\",\"marker\":{\"color\":\"#DDCB76\",\"line\":{\"color\":\"black\",\"width\":1},\"size\":9,\"symbol\":\"triangle-up\"},\"mode\":\"markers\",\"name\":\"kidney\",\"showlegend\":false,\"x\":[2.0933333333333333],\"y\":[0.0319902520384031],\"type\":\"scatter\",\"xaxis\":\"x2\",\"yaxis\":\"y2\"},{\"legend\":\"legend\",\"legendgroup\":\"rat2human\",\"marker\":{\"color\":\"#DDCB76\",\"line\":{\"color\":\"black\",\"width\":1},\"size\":9,\"symbol\":\"x\"},\"mode\":\"markers\",\"name\":\"pancreas\",\"showlegend\":false,\"x\":[2.1866666666666665],\"y\":[0.014545298814254355],\"type\":\"scatter\",\"xaxis\":\"x2\",\"yaxis\":\"y2\"},{\"legend\":\"legend\",\"legendgroup\":\"rat2human\",\"marker\":{\"color\":\"#DDCB76\",\"line\":{\"color\":\"black\",\"width\":1},\"size\":9,\"symbol\":\"diamond\"},\"mode\":\"markers\",\"name\":\"colon\",\"showlegend\":false,\"x\":[2.2800000000000002],\"y\":[0.004522104443494884],\"type\":\"scatter\",\"xaxis\":\"x2\",\"yaxis\":\"y2\"},{\"boxmean\":true,\"boxpoints\":false,\"legend\":\"legend2\",\"legendgroup\":\"rat2human\",\"line\":{\"color\":\"#DDCB76\"},\"name\":\"rat2human\",\"showlegend\":false,\"x\":[2.6,2.6,2.6,2.6,2.6,2.6,2.6,2.6,2.6,2.6,2.6,2.6],\"y\":[0.5539895442754853,0.5360022352474814,0.409208385591001,0.2589666756956528,0.2377865435058823,0.22343434900440345,0.22199984246657953,0.2188682485289044,0.034776732581337136,0.0319902520384031,0.014545298814254355,0.004522104443494884],\"type\":\"box\",\"xaxis\":\"x2\",\"yaxis\":\"y2\"},{\"legendgroup\":\"rat2human\",\"line\":{\"color\":\"#DDCB76\",\"dash\":\"dot\"},\"mode\":\"lines\",\"name\":\"rat2human\",\"showlegend\":false,\"text\":\"95\\u202f% CI mean: [0.22;0.24]\",\"x\":[2.5,2.5],\"y\":[0.21644925043325036,0.24069405787089007],\"type\":\"scatter\",\"xaxis\":\"x2\",\"yaxis\":\"y2\"},{\"legendgroup\":\"rat2human\",\"line\":{\"color\":\"#DDCB76\"},\"marker\":{\"size\":10,\"symbol\":\"triangle-down-open\"},\"mode\":\"markers\",\"name\":\"rat2human\",\"showlegend\":false,\"text\":\"95\\u202f% CI mean: [0.22;0.24]\",\"x\":[2.5],\"y\":[0.21644925043325036],\"type\":\"scatter\",\"xaxis\":\"x2\",\"yaxis\":\"y2\"},{\"legendgroup\":\"rat2human\",\"line\":{\"color\":\"#DDCB76\"},\"marker\":{\"size\":10,\"symbol\":\"triangle-up-open\"},\"mode\":\"markers\",\"name\":\"rat2human\",\"showlegend\":false,\"text\":\"95\\u202f% CI mean: [0.22;0.24]\",\"x\":[2.5],\"y\":[0.24069405787089007],\"type\":\"scatter\",\"xaxis\":\"x2\",\"yaxis\":\"y2\"},{\"legendgroup\":\"rat2human\",\"line\":{\"color\":\"#DDCB76\",\"dash\":\"solid\"},\"mode\":\"lines\",\"name\":\"rat2human\",\"showlegend\":false,\"text\":\"95\\u202f% CI median: [0.20;0.25]\",\"x\":[2.7,2.7],\"y\":[0.1969006328606237,0.24604072403776361],\"type\":\"scatter\",\"xaxis\":\"x2\",\"yaxis\":\"y2\"},{\"legendgroup\":\"rat2human\",\"line\":{\"color\":\"#DDCB76\"},\"marker\":{\"size\":10,\"symbol\":\"triangle-down\"},\"mode\":\"markers\",\"name\":\"rat2human\",\"showlegend\":false,\"text\":\"95\\u202f% CI median: [0.20;0.25]\",\"x\":[2.7],\"y\":[0.1969006328606237],\"type\":\"scatter\",\"xaxis\":\"x2\",\"yaxis\":\"y2\"},{\"legendgroup\":\"rat2human\",\"line\":{\"color\":\"#DDCB76\"},\"marker\":{\"size\":10,\"symbol\":\"triangle-up\"},\"mode\":\"markers\",\"name\":\"rat2human\",\"showlegend\":false,\"text\":\"95\\u202f% CI median: [0.20;0.25]\",\"x\":[2.7],\"y\":[0.24604072403776361],\"type\":\"scatter\",\"xaxis\":\"x2\",\"yaxis\":\"y2\"},{\"legend\":\"legend\",\"marker\":{\"color\":\"gray\",\"line\":{\"color\":\"black\",\"width\":1},\"size\":9,\"symbol\":\"circle\"},\"mode\":\"markers\",\"name\":\"stomach\",\"showlegend\":false,\"x\":[null],\"y\":[null],\"type\":\"scatter\",\"xaxis\":\"x3\",\"yaxis\":\"y3\"},{\"legend\":\"legend\",\"marker\":{\"color\":\"gray\",\"line\":{\"color\":\"black\",\"width\":1},\"size\":9,\"symbol\":\"square\"},\"mode\":\"markers\",\"name\":\"small_bowel\",\"showlegend\":false,\"x\":[null],\"y\":[null],\"type\":\"scatter\",\"xaxis\":\"x3\",\"yaxis\":\"y3\"},{\"legend\":\"legend\",\"marker\":{\"color\":\"gray\",\"line\":{\"color\":\"black\",\"width\":1},\"size\":9,\"symbol\":\"diamond\"},\"mode\":\"markers\",\"name\":\"colon\",\"showlegend\":false,\"x\":[null],\"y\":[null],\"type\":\"scatter\",\"xaxis\":\"x3\",\"yaxis\":\"y3\"},{\"legend\":\"legend\",\"marker\":{\"color\":\"gray\",\"line\":{\"color\":\"black\",\"width\":1},\"size\":9,\"symbol\":\"cross\"},\"mode\":\"markers\",\"name\":\"liver\",\"showlegend\":false,\"x\":[null],\"y\":[null],\"type\":\"scatter\",\"xaxis\":\"x3\",\"yaxis\":\"y3\"},{\"legend\":\"legend\",\"marker\":{\"color\":\"gray\",\"line\":{\"color\":\"black\",\"width\":1},\"size\":9,\"symbol\":\"x\"},\"mode\":\"markers\",\"name\":\"pancreas\",\"showlegend\":false,\"x\":[null],\"y\":[null],\"type\":\"scatter\",\"xaxis\":\"x3\",\"yaxis\":\"y3\"},{\"legend\":\"legend\",\"marker\":{\"color\":\"gray\",\"line\":{\"color\":\"black\",\"width\":1},\"size\":9,\"symbol\":\"triangle-up\"},\"mode\":\"markers\",\"name\":\"kidney\",\"showlegend\":false,\"x\":[null],\"y\":[null],\"type\":\"scatter\",\"xaxis\":\"x3\",\"yaxis\":\"y3\"},{\"legend\":\"legend\",\"marker\":{\"color\":\"gray\",\"line\":{\"color\":\"black\",\"width\":1},\"size\":9,\"symbol\":\"triangle-down\"},\"mode\":\"markers\",\"name\":\"spleen\",\"showlegend\":false,\"x\":[null],\"y\":[null],\"type\":\"scatter\",\"xaxis\":\"x3\",\"yaxis\":\"y3\"},{\"legend\":\"legend\",\"marker\":{\"color\":\"gray\",\"line\":{\"color\":\"black\",\"width\":1},\"size\":9,\"symbol\":\"triangle-left\"},\"mode\":\"markers\",\"name\":\"omentum\",\"showlegend\":false,\"x\":[null],\"y\":[null],\"type\":\"scatter\",\"xaxis\":\"x3\",\"yaxis\":\"y3\"},{\"legend\":\"legend\",\"marker\":{\"color\":\"gray\",\"line\":{\"color\":\"black\",\"width\":1},\"size\":9,\"symbol\":\"triangle-right\"},\"mode\":\"markers\",\"name\":\"lung\",\"showlegend\":false,\"x\":[null],\"y\":[null],\"type\":\"scatter\",\"xaxis\":\"x3\",\"yaxis\":\"y3\"},{\"legend\":\"legend\",\"marker\":{\"color\":\"gray\",\"line\":{\"color\":\"black\",\"width\":1},\"size\":9,\"symbol\":\"triangle-ne\"},\"mode\":\"markers\",\"name\":\"skin\",\"showlegend\":false,\"x\":[null],\"y\":[null],\"type\":\"scatter\",\"xaxis\":\"x3\",\"yaxis\":\"y3\"},{\"legend\":\"legend\",\"marker\":{\"color\":\"gray\",\"line\":{\"color\":\"black\",\"width\":1},\"size\":9,\"symbol\":\"triangle-se\"},\"mode\":\"markers\",\"name\":\"peritoneum\",\"showlegend\":false,\"x\":[null],\"y\":[null],\"type\":\"scatter\",\"xaxis\":\"x3\",\"yaxis\":\"y3\"},{\"legend\":\"legend\",\"marker\":{\"color\":\"gray\",\"line\":{\"color\":\"black\",\"width\":1},\"size\":9,\"symbol\":\"triangle-sw\"},\"mode\":\"markers\",\"name\":\"background\",\"showlegend\":false,\"x\":[null],\"y\":[null],\"type\":\"scatter\",\"xaxis\":\"x3\",\"yaxis\":\"y3\"},{\"legend\":\"legend\",\"legendgroup\":\"human2human\",\"marker\":{\"color\":\"#DDCB76\",\"line\":{\"color\":\"black\",\"width\":1},\"size\":9,\"symbol\":\"triangle-sw\"},\"mode\":\"markers\",\"name\":\"background\",\"showlegend\":false,\"x\":[0.0],\"y\":[0.9101036091873327],\"type\":\"scatter\",\"xaxis\":\"x3\",\"yaxis\":\"y3\"},{\"legend\":\"legend\",\"legendgroup\":\"human2human\",\"marker\":{\"color\":\"#DDCB76\",\"line\":{\"color\":\"black\",\"width\":1},\"size\":9,\"symbol\":\"triangle-ne\"},\"mode\":\"markers\",\"name\":\"skin\",\"showlegend\":false,\"x\":[0.09333333333333334],\"y\":[0.8228447882133345],\"type\":\"scatter\",\"xaxis\":\"x3\",\"yaxis\":\"y3\"},{\"legend\":\"legend\",\"legendgroup\":\"human2human\",\"marker\":{\"color\":\"#DDCB76\",\"line\":{\"color\":\"black\",\"width\":1},\"size\":9,\"symbol\":\"triangle-up\"},\"mode\":\"markers\",\"name\":\"kidney\",\"showlegend\":false,\"x\":[0.18666666666666668],\"y\":[0.8226508663636652],\"type\":\"scatter\",\"xaxis\":\"x3\",\"yaxis\":\"y3\"},{\"legend\":\"legend\",\"legendgroup\":\"human2human\",\"marker\":{\"color\":\"#DDCB76\",\"line\":{\"color\":\"black\",\"width\":1},\"size\":9,\"symbol\":\"triangle-left\"},\"mode\":\"markers\",\"name\":\"omentum\",\"showlegend\":false,\"x\":[0.28],\"y\":[0.7916626033739921],\"type\":\"scatter\",\"xaxis\":\"x3\",\"yaxis\":\"y3\"},{\"legend\":\"legend\",\"legendgroup\":\"human2human\",\"marker\":{\"color\":\"#DDCB76\",\"line\":{\"color\":\"black\",\"width\":1},\"size\":9,\"symbol\":\"triangle-right\"},\"mode\":\"markers\",\"name\":\"lung\",\"showlegend\":false,\"x\":[0.0],\"y\":[0.720002872414059],\"type\":\"scatter\",\"xaxis\":\"x3\",\"yaxis\":\"y3\"},{\"legend\":\"legend\",\"legendgroup\":\"human2human\",\"marker\":{\"color\":\"#DDCB76\",\"line\":{\"color\":\"black\",\"width\":1},\"size\":9,\"symbol\":\"circle\"},\"mode\":\"markers\",\"name\":\"stomach\",\"showlegend\":false,\"x\":[0.09333333333333334],\"y\":[0.6892580814076916],\"type\":\"scatter\",\"xaxis\":\"x3\",\"yaxis\":\"y3\"},{\"legend\":\"legend\",\"legendgroup\":\"human2human\",\"marker\":{\"color\":\"#DDCB76\",\"line\":{\"color\":\"black\",\"width\":1},\"size\":9,\"symbol\":\"square\"},\"mode\":\"markers\",\"name\":\"small_bowel\",\"showlegend\":false,\"x\":[0.18666666666666668],\"y\":[0.6772714502137894],\"type\":\"scatter\",\"xaxis\":\"x3\",\"yaxis\":\"y3\"},{\"legend\":\"legend\",\"legendgroup\":\"human2human\",\"marker\":{\"color\":\"#DDCB76\",\"line\":{\"color\":\"black\",\"width\":1},\"size\":9,\"symbol\":\"diamond\"},\"mode\":\"markers\",\"name\":\"colon\",\"showlegend\":false,\"x\":[0.28],\"y\":[0.6572047179553315],\"type\":\"scatter\",\"xaxis\":\"x3\",\"yaxis\":\"y3\"},{\"legend\":\"legend\",\"legendgroup\":\"human2human\",\"marker\":{\"color\":\"#DDCB76\",\"line\":{\"color\":\"black\",\"width\":1},\"size\":9,\"symbol\":\"cross\"},\"mode\":\"markers\",\"name\":\"liver\",\"showlegend\":false,\"x\":[0.0],\"y\":[0.6530351912127493],\"type\":\"scatter\",\"xaxis\":\"x3\",\"yaxis\":\"y3\"},{\"legend\":\"legend\",\"legendgroup\":\"human2human\",\"marker\":{\"color\":\"#DDCB76\",\"line\":{\"color\":\"black\",\"width\":1},\"size\":9,\"symbol\":\"triangle-se\"},\"mode\":\"markers\",\"name\":\"peritoneum\",\"showlegend\":false,\"x\":[0.09333333333333334],\"y\":[0.5656218051423435],\"type\":\"scatter\",\"xaxis\":\"x3\",\"yaxis\":\"y3\"},{\"legend\":\"legend\",\"legendgroup\":\"human2human\",\"marker\":{\"color\":\"#DDCB76\",\"line\":{\"color\":\"black\",\"width\":1},\"size\":9,\"symbol\":\"triangle-down\"},\"mode\":\"markers\",\"name\":\"spleen\",\"showlegend\":false,\"x\":[0.18666666666666668],\"y\":[0.5249252355890349],\"type\":\"scatter\",\"xaxis\":\"x3\",\"yaxis\":\"y3\"},{\"legend\":\"legend\",\"legendgroup\":\"human2human\",\"marker\":{\"color\":\"#DDCB76\",\"line\":{\"color\":\"black\",\"width\":1},\"size\":9,\"symbol\":\"x\"},\"mode\":\"markers\",\"name\":\"pancreas\",\"showlegend\":false,\"x\":[0.28],\"y\":[0.4099799110473033],\"type\":\"scatter\",\"xaxis\":\"x3\",\"yaxis\":\"y3\"},{\"boxmean\":true,\"boxpoints\":false,\"legend\":\"legend2\",\"legendgroup\":\"human2human\",\"line\":{\"color\":\"#DDCB76\"},\"name\":\"human2human\",\"showlegend\":false,\"x\":[0.6,0.6,0.6,0.6,0.6,0.6,0.6,0.6,0.6,0.6,0.6,0.6],\"y\":[0.9101036091873327,0.8228447882133345,0.8226508663636652,0.7916626033739921,0.720002872414059,0.6892580814076916,0.6772714502137894,0.6572047179553315,0.6530351912127493,0.5656218051423435,0.5249252355890349,0.4099799110473033],\"type\":\"box\",\"xaxis\":\"x3\",\"yaxis\":\"y3\"},{\"legendgroup\":\"human2human\",\"line\":{\"color\":\"#DDCB76\",\"dash\":\"dot\"},\"mode\":\"lines\",\"name\":\"human2human\",\"showlegend\":false,\"text\":\"95\\u202f% CI mean: [0.66;0.71]\",\"x\":[0.5,0.5],\"y\":[0.663588039091163,0.7093615042630561],\"type\":\"scatter\",\"xaxis\":\"x3\",\"yaxis\":\"y3\"},{\"legendgroup\":\"human2human\",\"line\":{\"color\":\"#DDCB76\"},\"marker\":{\"size\":10,\"symbol\":\"triangle-down-open\"},\"mode\":\"markers\",\"name\":\"human2human\",\"showlegend\":false,\"text\":\"95\\u202f% CI mean: [0.66;0.71]\",\"x\":[0.5],\"y\":[0.663588039091163],\"type\":\"scatter\",\"xaxis\":\"x3\",\"yaxis\":\"y3\"},{\"legendgroup\":\"human2human\",\"line\":{\"color\":\"#DDCB76\"},\"marker\":{\"size\":10,\"symbol\":\"triangle-up-open\"},\"mode\":\"markers\",\"name\":\"human2human\",\"showlegend\":false,\"text\":\"95\\u202f% CI mean: [0.66;0.71]\",\"x\":[0.5],\"y\":[0.7093615042630561],\"type\":\"scatter\",\"xaxis\":\"x3\",\"yaxis\":\"y3\"},{\"legendgroup\":\"human2human\",\"line\":{\"color\":\"#DDCB76\",\"dash\":\"solid\"},\"mode\":\"lines\",\"name\":\"human2human\",\"showlegend\":false,\"text\":\"95\\u202f% CI median: [0.65;0.71]\",\"x\":[0.7,0.7],\"y\":[0.6545391630817925,0.710584670649328],\"type\":\"scatter\",\"xaxis\":\"x3\",\"yaxis\":\"y3\"},{\"legendgroup\":\"human2human\",\"line\":{\"color\":\"#DDCB76\"},\"marker\":{\"size\":10,\"symbol\":\"triangle-down\"},\"mode\":\"markers\",\"name\":\"human2human\",\"showlegend\":false,\"text\":\"95\\u202f% CI median: [0.65;0.71]\",\"x\":[0.7],\"y\":[0.6545391630817925],\"type\":\"scatter\",\"xaxis\":\"x3\",\"yaxis\":\"y3\"},{\"legendgroup\":\"human2human\",\"line\":{\"color\":\"#DDCB76\"},\"marker\":{\"size\":10,\"symbol\":\"triangle-up\"},\"mode\":\"markers\",\"name\":\"human2human\",\"showlegend\":false,\"text\":\"95\\u202f% CI median: [0.65;0.71]\",\"x\":[0.7],\"y\":[0.710584670649328],\"type\":\"scatter\",\"xaxis\":\"x3\",\"yaxis\":\"y3\"},{\"legend\":\"legend\",\"legendgroup\":\"pig-p+rat-p2human2human\",\"marker\":{\"color\":\"#DDCB76\",\"line\":{\"color\":\"black\",\"width\":1},\"size\":9,\"symbol\":\"triangle-sw\"},\"mode\":\"markers\",\"name\":\"background\",\"showlegend\":false,\"x\":[1.0],\"y\":[0.9051144963143993],\"type\":\"scatter\",\"xaxis\":\"x3\",\"yaxis\":\"y3\"},{\"legend\":\"legend\",\"legendgroup\":\"pig-p+rat-p2human2human\",\"marker\":{\"color\":\"#DDCB76\",\"line\":{\"color\":\"black\",\"width\":1},\"size\":9,\"symbol\":\"triangle-ne\"},\"mode\":\"markers\",\"name\":\"skin\",\"showlegend\":false,\"x\":[1.0933333333333333],\"y\":[0.8447567875096672],\"type\":\"scatter\",\"xaxis\":\"x3\",\"yaxis\":\"y3\"},{\"legend\":\"legend\",\"legendgroup\":\"pig-p+rat-p2human2human\",\"marker\":{\"color\":\"#DDCB76\",\"line\":{\"color\":\"black\",\"width\":1},\"size\":9,\"symbol\":\"triangle-up\"},\"mode\":\"markers\",\"name\":\"kidney\",\"showlegend\":false,\"x\":[1.1866666666666668],\"y\":[0.8199778621330922],\"type\":\"scatter\",\"xaxis\":\"x3\",\"yaxis\":\"y3\"},{\"legend\":\"legend\",\"legendgroup\":\"pig-p+rat-p2human2human\",\"marker\":{\"color\":\"#DDCB76\",\"line\":{\"color\":\"black\",\"width\":1},\"size\":9,\"symbol\":\"triangle-left\"},\"mode\":\"markers\",\"name\":\"omentum\",\"showlegend\":false,\"x\":[1.28],\"y\":[0.7862950637649974],\"type\":\"scatter\",\"xaxis\":\"x3\",\"yaxis\":\"y3\"},{\"legend\":\"legend\",\"legendgroup\":\"pig-p+rat-p2human2human\",\"marker\":{\"color\":\"#DDCB76\",\"line\":{\"color\":\"black\",\"width\":1},\"size\":9,\"symbol\":\"triangle-right\"},\"mode\":\"markers\",\"name\":\"lung\",\"showlegend\":false,\"x\":[1.0],\"y\":[0.7307569719685448],\"type\":\"scatter\",\"xaxis\":\"x3\",\"yaxis\":\"y3\"},{\"legend\":\"legend\",\"legendgroup\":\"pig-p+rat-p2human2human\",\"marker\":{\"color\":\"#DDCB76\",\"line\":{\"color\":\"black\",\"width\":1},\"size\":9,\"symbol\":\"circle\"},\"mode\":\"markers\",\"name\":\"stomach\",\"showlegend\":false,\"x\":[1.0933333333333333],\"y\":[0.6881351405206506],\"type\":\"scatter\",\"xaxis\":\"x3\",\"yaxis\":\"y3\"},{\"legend\":\"legend\",\"legendgroup\":\"pig-p+rat-p2human2human\",\"marker\":{\"color\":\"#DDCB76\",\"line\":{\"color\":\"black\",\"width\":1},\"size\":9,\"symbol\":\"triangle-se\"},\"mode\":\"markers\",\"name\":\"peritoneum\",\"showlegend\":false,\"x\":[1.1866666666666668],\"y\":[0.6548532255557404],\"type\":\"scatter\",\"xaxis\":\"x3\",\"yaxis\":\"y3\"},{\"legend\":\"legend\",\"legendgroup\":\"pig-p+rat-p2human2human\",\"marker\":{\"color\":\"#DDCB76\",\"line\":{\"color\":\"black\",\"width\":1},\"size\":9,\"symbol\":\"square\"},\"mode\":\"markers\",\"name\":\"small_bowel\",\"showlegend\":false,\"x\":[1.28],\"y\":[0.6476369226820125],\"type\":\"scatter\",\"xaxis\":\"x3\",\"yaxis\":\"y3\"},{\"legend\":\"legend\",\"legendgroup\":\"pig-p+rat-p2human2human\",\"marker\":{\"color\":\"#DDCB76\",\"line\":{\"color\":\"black\",\"width\":1},\"size\":9,\"symbol\":\"cross\"},\"mode\":\"markers\",\"name\":\"liver\",\"showlegend\":false,\"x\":[1.0],\"y\":[0.6310813525998266],\"type\":\"scatter\",\"xaxis\":\"x3\",\"yaxis\":\"y3\"},{\"legend\":\"legend\",\"legendgroup\":\"pig-p+rat-p2human2human\",\"marker\":{\"color\":\"#DDCB76\",\"line\":{\"color\":\"black\",\"width\":1},\"size\":9,\"symbol\":\"diamond\"},\"mode\":\"markers\",\"name\":\"colon\",\"showlegend\":false,\"x\":[1.0933333333333333],\"y\":[0.6270770041838564],\"type\":\"scatter\",\"xaxis\":\"x3\",\"yaxis\":\"y3\"},{\"legend\":\"legend\",\"legendgroup\":\"pig-p+rat-p2human2human\",\"marker\":{\"color\":\"#DDCB76\",\"line\":{\"color\":\"black\",\"width\":1},\"size\":9,\"symbol\":\"triangle-down\"},\"mode\":\"markers\",\"name\":\"spleen\",\"showlegend\":false,\"x\":[1.1866666666666668],\"y\":[0.5156156472861766],\"type\":\"scatter\",\"xaxis\":\"x3\",\"yaxis\":\"y3\"},{\"legend\":\"legend\",\"legendgroup\":\"pig-p+rat-p2human2human\",\"marker\":{\"color\":\"#DDCB76\",\"line\":{\"color\":\"black\",\"width\":1},\"size\":9,\"symbol\":\"x\"},\"mode\":\"markers\",\"name\":\"pancreas\",\"showlegend\":false,\"x\":[1.28],\"y\":[0.3797823495635034],\"type\":\"scatter\",\"xaxis\":\"x3\",\"yaxis\":\"y3\"},{\"boxmean\":true,\"boxpoints\":false,\"legend\":\"legend2\",\"legendgroup\":\"pig-p+rat-p2human2human\",\"line\":{\"color\":\"#DDCB76\"},\"name\":\"pig-p+rat-p2human2human\",\"showlegend\":false,\"x\":[1.6,1.6,1.6,1.6,1.6,1.6,1.6,1.6,1.6,1.6,1.6,1.6],\"y\":[0.9051144963143993,0.8447567875096672,0.8199778621330922,0.7862950637649974,0.7307569719685448,0.6881351405206506,0.6548532255557404,0.6476369226820125,0.6310813525998266,0.6270770041838564,0.5156156472861766,0.3797823495635034],\"type\":\"box\",\"xaxis\":\"x3\",\"yaxis\":\"y3\"},{\"legendgroup\":\"pig-p+rat-p2human2human\",\"line\":{\"color\":\"#DDCB76\",\"dash\":\"dot\"},\"mode\":\"lines\",\"name\":\"pig-p+rat-p2human2human\",\"showlegend\":false,\"text\":\"95\\u202f% CI mean: [0.66;0.71]\",\"x\":[1.5,1.5],\"y\":[0.6647314698905387,0.7074335446822432],\"type\":\"scatter\",\"xaxis\":\"x3\",\"yaxis\":\"y3\"},{\"legendgroup\":\"pig-p+rat-p2human2human\",\"line\":{\"color\":\"#DDCB76\"},\"marker\":{\"size\":10,\"symbol\":\"triangle-down-open\"},\"mode\":\"markers\",\"name\":\"pig-p+rat-p2human2human\",\"showlegend\":false,\"text\":\"95\\u202f% CI mean: [0.66;0.71]\",\"x\":[1.5],\"y\":[0.6647314698905387],\"type\":\"scatter\",\"xaxis\":\"x3\",\"yaxis\":\"y3\"},{\"legendgroup\":\"pig-p+rat-p2human2human\",\"line\":{\"color\":\"#DDCB76\"},\"marker\":{\"size\":10,\"symbol\":\"triangle-up-open\"},\"mode\":\"markers\",\"name\":\"pig-p+rat-p2human2human\",\"showlegend\":false,\"text\":\"95\\u202f% CI mean: [0.66;0.71]\",\"x\":[1.5],\"y\":[0.7074335446822432],\"type\":\"scatter\",\"xaxis\":\"x3\",\"yaxis\":\"y3\"},{\"legendgroup\":\"pig-p+rat-p2human2human\",\"line\":{\"color\":\"#DDCB76\",\"dash\":\"solid\"},\"mode\":\"lines\",\"name\":\"pig-p+rat-p2human2human\",\"showlegend\":false,\"text\":\"95\\u202f% CI median: [0.64;0.71]\",\"x\":[1.7,1.7],\"y\":[0.6434150713636417,0.7134903090620227],\"type\":\"scatter\",\"xaxis\":\"x3\",\"yaxis\":\"y3\"},{\"legendgroup\":\"pig-p+rat-p2human2human\",\"line\":{\"color\":\"#DDCB76\"},\"marker\":{\"size\":10,\"symbol\":\"triangle-down\"},\"mode\":\"markers\",\"name\":\"pig-p+rat-p2human2human\",\"showlegend\":false,\"text\":\"95\\u202f% CI median: [0.64;0.71]\",\"x\":[1.7],\"y\":[0.6434150713636417],\"type\":\"scatter\",\"xaxis\":\"x3\",\"yaxis\":\"y3\"},{\"legendgroup\":\"pig-p+rat-p2human2human\",\"line\":{\"color\":\"#DDCB76\"},\"marker\":{\"size\":10,\"symbol\":\"triangle-up\"},\"mode\":\"markers\",\"name\":\"pig-p+rat-p2human2human\",\"showlegend\":false,\"text\":\"95\\u202f% CI median: [0.64;0.71]\",\"x\":[1.7],\"y\":[0.7134903090620227],\"type\":\"scatter\",\"xaxis\":\"x3\",\"yaxis\":\"y3\"}],                        {\"template\":{\"data\":{\"barpolar\":[{\"marker\":{\"line\":{\"color\":\"white\",\"width\":0.5},\"pattern\":{\"fillmode\":\"overlay\",\"size\":10,\"solidity\":0.2}},\"type\":\"barpolar\"}],\"bar\":[{\"error_x\":{\"color\":\"#2a3f5f\"},\"error_y\":{\"color\":\"#2a3f5f\"},\"marker\":{\"line\":{\"color\":\"white\",\"width\":0.5},\"pattern\":{\"fillmode\":\"overlay\",\"size\":10,\"solidity\":0.2}},\"type\":\"bar\"}],\"carpet\":[{\"aaxis\":{\"endlinecolor\":\"#2a3f5f\",\"gridcolor\":\"#C8D4E3\",\"linecolor\":\"#C8D4E3\",\"minorgridcolor\":\"#C8D4E3\",\"startlinecolor\":\"#2a3f5f\"},\"baxis\":{\"endlinecolor\":\"#2a3f5f\",\"gridcolor\":\"#C8D4E3\",\"linecolor\":\"#C8D4E3\",\"minorgridcolor\":\"#C8D4E3\",\"startlinecolor\":\"#2a3f5f\"},\"type\":\"carpet\"}],\"choropleth\":[{\"colorbar\":{\"outlinewidth\":0,\"ticks\":\"\"},\"type\":\"choropleth\"}],\"contourcarpet\":[{\"colorbar\":{\"outlinewidth\":0,\"ticks\":\"\"},\"type\":\"contourcarpet\"}],\"contour\":[{\"colorbar\":{\"outlinewidth\":0,\"ticks\":\"\"},\"colorscale\":[[0.0,\"#0d0887\"],[0.1111111111111111,\"#46039f\"],[0.2222222222222222,\"#7201a8\"],[0.3333333333333333,\"#9c179e\"],[0.4444444444444444,\"#bd3786\"],[0.5555555555555556,\"#d8576b\"],[0.6666666666666666,\"#ed7953\"],[0.7777777777777778,\"#fb9f3a\"],[0.8888888888888888,\"#fdca26\"],[1.0,\"#f0f921\"]],\"type\":\"contour\"}],\"heatmapgl\":[{\"colorbar\":{\"outlinewidth\":0,\"ticks\":\"\"},\"colorscale\":[[0.0,\"#0d0887\"],[0.1111111111111111,\"#46039f\"],[0.2222222222222222,\"#7201a8\"],[0.3333333333333333,\"#9c179e\"],[0.4444444444444444,\"#bd3786\"],[0.5555555555555556,\"#d8576b\"],[0.6666666666666666,\"#ed7953\"],[0.7777777777777778,\"#fb9f3a\"],[0.8888888888888888,\"#fdca26\"],[1.0,\"#f0f921\"]],\"type\":\"heatmapgl\"}],\"heatmap\":[{\"colorbar\":{\"outlinewidth\":0,\"ticks\":\"\"},\"colorscale\":[[0.0,\"#0d0887\"],[0.1111111111111111,\"#46039f\"],[0.2222222222222222,\"#7201a8\"],[0.3333333333333333,\"#9c179e\"],[0.4444444444444444,\"#bd3786\"],[0.5555555555555556,\"#d8576b\"],[0.6666666666666666,\"#ed7953\"],[0.7777777777777778,\"#fb9f3a\"],[0.8888888888888888,\"#fdca26\"],[1.0,\"#f0f921\"]],\"type\":\"heatmap\"}],\"histogram2dcontour\":[{\"colorbar\":{\"outlinewidth\":0,\"ticks\":\"\"},\"colorscale\":[[0.0,\"#0d0887\"],[0.1111111111111111,\"#46039f\"],[0.2222222222222222,\"#7201a8\"],[0.3333333333333333,\"#9c179e\"],[0.4444444444444444,\"#bd3786\"],[0.5555555555555556,\"#d8576b\"],[0.6666666666666666,\"#ed7953\"],[0.7777777777777778,\"#fb9f3a\"],[0.8888888888888888,\"#fdca26\"],[1.0,\"#f0f921\"]],\"type\":\"histogram2dcontour\"}],\"histogram2d\":[{\"colorbar\":{\"outlinewidth\":0,\"ticks\":\"\"},\"colorscale\":[[0.0,\"#0d0887\"],[0.1111111111111111,\"#46039f\"],[0.2222222222222222,\"#7201a8\"],[0.3333333333333333,\"#9c179e\"],[0.4444444444444444,\"#bd3786\"],[0.5555555555555556,\"#d8576b\"],[0.6666666666666666,\"#ed7953\"],[0.7777777777777778,\"#fb9f3a\"],[0.8888888888888888,\"#fdca26\"],[1.0,\"#f0f921\"]],\"type\":\"histogram2d\"}],\"histogram\":[{\"marker\":{\"pattern\":{\"fillmode\":\"overlay\",\"size\":10,\"solidity\":0.2}},\"type\":\"histogram\"}],\"mesh3d\":[{\"colorbar\":{\"outlinewidth\":0,\"ticks\":\"\"},\"type\":\"mesh3d\"}],\"parcoords\":[{\"line\":{\"colorbar\":{\"outlinewidth\":0,\"ticks\":\"\"}},\"type\":\"parcoords\"}],\"pie\":[{\"automargin\":true,\"type\":\"pie\"}],\"scatter3d\":[{\"line\":{\"colorbar\":{\"outlinewidth\":0,\"ticks\":\"\"}},\"marker\":{\"colorbar\":{\"outlinewidth\":0,\"ticks\":\"\"}},\"type\":\"scatter3d\"}],\"scattercarpet\":[{\"marker\":{\"colorbar\":{\"outlinewidth\":0,\"ticks\":\"\"}},\"type\":\"scattercarpet\"}],\"scattergeo\":[{\"marker\":{\"colorbar\":{\"outlinewidth\":0,\"ticks\":\"\"}},\"type\":\"scattergeo\"}],\"scattergl\":[{\"marker\":{\"colorbar\":{\"outlinewidth\":0,\"ticks\":\"\"}},\"type\":\"scattergl\"}],\"scattermapbox\":[{\"marker\":{\"colorbar\":{\"outlinewidth\":0,\"ticks\":\"\"}},\"type\":\"scattermapbox\"}],\"scatterpolargl\":[{\"marker\":{\"colorbar\":{\"outlinewidth\":0,\"ticks\":\"\"}},\"type\":\"scatterpolargl\"}],\"scatterpolar\":[{\"marker\":{\"colorbar\":{\"outlinewidth\":0,\"ticks\":\"\"}},\"type\":\"scatterpolar\"}],\"scatter\":[{\"fillpattern\":{\"fillmode\":\"overlay\",\"size\":10,\"solidity\":0.2},\"type\":\"scatter\"}],\"scatterternary\":[{\"marker\":{\"colorbar\":{\"outlinewidth\":0,\"ticks\":\"\"}},\"type\":\"scatterternary\"}],\"surface\":[{\"colorbar\":{\"outlinewidth\":0,\"ticks\":\"\"},\"colorscale\":[[0.0,\"#0d0887\"],[0.1111111111111111,\"#46039f\"],[0.2222222222222222,\"#7201a8\"],[0.3333333333333333,\"#9c179e\"],[0.4444444444444444,\"#bd3786\"],[0.5555555555555556,\"#d8576b\"],[0.6666666666666666,\"#ed7953\"],[0.7777777777777778,\"#fb9f3a\"],[0.8888888888888888,\"#fdca26\"],[1.0,\"#f0f921\"]],\"type\":\"surface\"}],\"table\":[{\"cells\":{\"fill\":{\"color\":\"#EBF0F8\"},\"line\":{\"color\":\"white\"}},\"header\":{\"fill\":{\"color\":\"#C8D4E3\"},\"line\":{\"color\":\"white\"}},\"type\":\"table\"}]},\"layout\":{\"annotationdefaults\":{\"arrowcolor\":\"#2a3f5f\",\"arrowhead\":0,\"arrowwidth\":1},\"autotypenumbers\":\"strict\",\"coloraxis\":{\"colorbar\":{\"outlinewidth\":0,\"ticks\":\"\"}},\"colorscale\":{\"diverging\":[[0,\"#8e0152\"],[0.1,\"#c51b7d\"],[0.2,\"#de77ae\"],[0.3,\"#f1b6da\"],[0.4,\"#fde0ef\"],[0.5,\"#f7f7f7\"],[0.6,\"#e6f5d0\"],[0.7,\"#b8e186\"],[0.8,\"#7fbc41\"],[0.9,\"#4d9221\"],[1,\"#276419\"]],\"sequential\":[[0.0,\"#0d0887\"],[0.1111111111111111,\"#46039f\"],[0.2222222222222222,\"#7201a8\"],[0.3333333333333333,\"#9c179e\"],[0.4444444444444444,\"#bd3786\"],[0.5555555555555556,\"#d8576b\"],[0.6666666666666666,\"#ed7953\"],[0.7777777777777778,\"#fb9f3a\"],[0.8888888888888888,\"#fdca26\"],[1.0,\"#f0f921\"]],\"sequentialminus\":[[0.0,\"#0d0887\"],[0.1111111111111111,\"#46039f\"],[0.2222222222222222,\"#7201a8\"],[0.3333333333333333,\"#9c179e\"],[0.4444444444444444,\"#bd3786\"],[0.5555555555555556,\"#d8576b\"],[0.6666666666666666,\"#ed7953\"],[0.7777777777777778,\"#fb9f3a\"],[0.8888888888888888,\"#fdca26\"],[1.0,\"#f0f921\"]]},\"colorway\":[\"#636efa\",\"#EF553B\",\"#00cc96\",\"#ab63fa\",\"#FFA15A\",\"#19d3f3\",\"#FF6692\",\"#B6E880\",\"#FF97FF\",\"#FECB52\"],\"font\":{\"color\":\"#2a3f5f\"},\"geo\":{\"bgcolor\":\"white\",\"lakecolor\":\"white\",\"landcolor\":\"white\",\"showlakes\":true,\"showland\":true,\"subunitcolor\":\"#C8D4E3\"},\"hoverlabel\":{\"align\":\"left\"},\"hovermode\":\"closest\",\"mapbox\":{\"style\":\"light\"},\"paper_bgcolor\":\"white\",\"plot_bgcolor\":\"white\",\"polar\":{\"angularaxis\":{\"gridcolor\":\"#EBF0F8\",\"linecolor\":\"#EBF0F8\",\"ticks\":\"\"},\"bgcolor\":\"white\",\"radialaxis\":{\"gridcolor\":\"#EBF0F8\",\"linecolor\":\"#EBF0F8\",\"ticks\":\"\"}},\"scene\":{\"xaxis\":{\"backgroundcolor\":\"white\",\"gridcolor\":\"#DFE8F3\",\"gridwidth\":2,\"linecolor\":\"#EBF0F8\",\"showbackground\":true,\"ticks\":\"\",\"zerolinecolor\":\"#EBF0F8\"},\"yaxis\":{\"backgroundcolor\":\"white\",\"gridcolor\":\"#DFE8F3\",\"gridwidth\":2,\"linecolor\":\"#EBF0F8\",\"showbackground\":true,\"ticks\":\"\",\"zerolinecolor\":\"#EBF0F8\"},\"zaxis\":{\"backgroundcolor\":\"white\",\"gridcolor\":\"#DFE8F3\",\"gridwidth\":2,\"linecolor\":\"#EBF0F8\",\"showbackground\":true,\"ticks\":\"\",\"zerolinecolor\":\"#EBF0F8\"}},\"shapedefaults\":{\"line\":{\"color\":\"#2a3f5f\"}},\"ternary\":{\"aaxis\":{\"gridcolor\":\"#DFE8F3\",\"linecolor\":\"#A2B1C6\",\"ticks\":\"\"},\"baxis\":{\"gridcolor\":\"#DFE8F3\",\"linecolor\":\"#A2B1C6\",\"ticks\":\"\"},\"bgcolor\":\"white\",\"caxis\":{\"gridcolor\":\"#DFE8F3\",\"linecolor\":\"#A2B1C6\",\"ticks\":\"\"}},\"title\":{\"x\":0.05},\"xaxis\":{\"automargin\":true,\"gridcolor\":\"#EBF0F8\",\"linecolor\":\"#EBF0F8\",\"ticks\":\"\",\"title\":{\"standoff\":15},\"zerolinecolor\":\"#EBF0F8\",\"zerolinewidth\":2},\"yaxis\":{\"automargin\":true,\"gridcolor\":\"#EBF0F8\",\"linecolor\":\"#EBF0F8\",\"ticks\":\"\",\"title\":{\"standoff\":15},\"zerolinecolor\":\"#EBF0F8\",\"zerolinewidth\":2}}},\"xaxis\":{\"anchor\":\"y\",\"domain\":[0.0,0.3525],\"showticklabels\":false},\"yaxis\":{\"anchor\":\"x\",\"domain\":[0.0,1.0],\"title\":{\"text\":\"\\u003cb\\u003eNSD\\u003c\\u002fb\\u003e\",\"standoff\":12}},\"xaxis2\":{\"anchor\":\"y2\",\"domain\":[0.38249999999999995,0.7349999999999999],\"showticklabels\":false},\"yaxis2\":{\"anchor\":\"x2\",\"domain\":[0.0,1.0],\"matches\":\"y\",\"showticklabels\":false},\"xaxis3\":{\"anchor\":\"y3\",\"domain\":[0.7649999999999999,0.9999999999999999],\"showticklabels\":false},\"yaxis3\":{\"anchor\":\"x3\",\"domain\":[0.0,1.0],\"matches\":\"y\",\"showticklabels\":false},\"height\":400,\"width\":1200,\"font\":{\"family\":\"Libertinus Sans\",\"size\":16},\"showlegend\":false,\"legend\":{\"title\":{},\"orientation\":\"h\",\"yanchor\":\"bottom\",\"y\":1.05,\"xanchor\":\"center\",\"x\":0.2},\"legend2\":{\"title\":{},\"orientation\":\"h\",\"yanchor\":\"bottom\",\"y\":1.05,\"xanchor\":\"center\",\"x\":0.8},\"margin\":{\"l\":0,\"r\":0,\"t\":0,\"b\":0}},                        {\"responsive\": true}                    ).then(function(){\n",
       "                            \n",
       "var gd = document.getElementById('3906a7c8-603d-41d4-89e7-a54d87bdc1f7');\n",
       "var x = new MutationObserver(function (mutations, observer) {{\n",
       "        var display = window.getComputedStyle(gd).display;\n",
       "        if (!display || display === 'none') {{\n",
       "            console.log([gd, 'removed!']);\n",
       "            Plotly.purge(gd);\n",
       "            observer.disconnect();\n",
       "        }}\n",
       "}});\n",
       "\n",
       "// Listen for the removal of the full notebook cells\n",
       "var notebookContainer = gd.closest('#notebook-container');\n",
       "if (notebookContainer) {{\n",
       "    x.observe(notebookContainer, {childList: true});\n",
       "}}\n",
       "\n",
       "// Listen for the clearing of the current output cell\n",
       "var outputEl = gd.closest('.output');\n",
       "if (outputEl) {{\n",
       "    x.observe(outputEl, {childList: true});\n",
       "}}\n",
       "\n",
       "                        })                };                });            </script>        </div>"
      ]
     },
     "metadata": {},
     "output_type": "display_data"
    }
   ],
   "source": [
    "species_comparison(settings_seg.nsd_aggregation_short, \"NSD\")"
   ]
  }
 ],
 "metadata": {
  "kernelspec": {
   "display_name": "htc",
   "language": "python",
   "name": "python3"
  },
  "language_info": {
   "codemirror_mode": {
    "name": "ipython",
    "version": 3
   },
   "file_extension": ".py",
   "mimetype": "text/x-python",
   "name": "python",
   "nbconvert_exporter": "python",
   "pygments_lexer": "ipython3",
   "version": "3.11.10"
  }
 },
 "nbformat": 4,
 "nbformat_minor": 2
}
