{
 "cells": [
  {
   "cell_type": "code",
   "execution_count": 1,
   "metadata": {},
   "outputs": [],
   "source": [
    "%load_ext autoreload\n",
    "%autoreload 2\n",
    "\n",
    "import numpy as np\n",
    "import plotly.graph_objects as go\n",
    "import plotly.io as pio\n",
    "from plotly.subplots import make_subplots\n",
    "\n",
    "from htc.settings_seg import settings_seg\n",
    "from htc.utils.helper_functions import sort_labels\n",
    "from htc.utils.visualization import boxplot_symbols\n",
    "from htc_projects.species.settings_species import settings_species\n",
    "from htc_projects.species.species_evaluation import baseline_performance\n",
    "\n",
    "pio.kaleido.scope.mathjax = None"
   ]
  },
  {
   "cell_type": "code",
   "execution_count": 2,
   "metadata": {},
   "outputs": [
    {
     "data": {
      "text/html": [
       "<div>\n",
       "<style scoped>\n",
       "    .dataframe tbody tr th:only-of-type {\n",
       "        vertical-align: middle;\n",
       "    }\n",
       "\n",
       "    .dataframe tbody tr th {\n",
       "        vertical-align: top;\n",
       "    }\n",
       "\n",
       "    .dataframe thead th {\n",
       "        text-align: right;\n",
       "    }\n",
       "</style>\n",
       "<table border=\"1\" class=\"dataframe\">\n",
       "  <thead>\n",
       "    <tr style=\"text-align: right;\">\n",
       "      <th></th>\n",
       "      <th>label_index</th>\n",
       "      <th>dice_metric</th>\n",
       "      <th>dice_metric_bootstraps</th>\n",
       "      <th>surface_dice_metric_mean</th>\n",
       "      <th>surface_dice_metric_mean_bootstraps</th>\n",
       "      <th>label_name</th>\n",
       "      <th>network</th>\n",
       "      <th>source_species</th>\n",
       "      <th>target_species</th>\n",
       "    </tr>\n",
       "  </thead>\n",
       "  <tbody>\n",
       "    <tr>\n",
       "      <th>0</th>\n",
       "      <td>1</td>\n",
       "      <td>0.289921</td>\n",
       "      <td>[0.3071158116976992, 0.32515001276416633, 0.28...</td>\n",
       "      <td>0.229507</td>\n",
       "      <td>[0.2386613830710378, 0.2482425972753955, 0.223...</td>\n",
       "      <td>stomach</td>\n",
       "      <td>baseline_human</td>\n",
       "      <td>human</td>\n",
       "      <td>pig</td>\n",
       "    </tr>\n",
       "    <tr>\n",
       "      <th>1</th>\n",
       "      <td>2</td>\n",
       "      <td>0.605336</td>\n",
       "      <td>[0.6644174919511754, 0.5524962330706954, 0.663...</td>\n",
       "      <td>0.368218</td>\n",
       "      <td>[0.3724041706106172, 0.34863130418807103, 0.38...</td>\n",
       "      <td>small_bowel</td>\n",
       "      <td>baseline_human</td>\n",
       "      <td>human</td>\n",
       "      <td>pig</td>\n",
       "    </tr>\n",
       "    <tr>\n",
       "      <th>2</th>\n",
       "      <td>3</td>\n",
       "      <td>0.323029</td>\n",
       "      <td>[0.2747438077832579, 0.3178767478404278, 0.272...</td>\n",
       "      <td>0.244206</td>\n",
       "      <td>[0.22228894259760032, 0.23346208199123283, 0.2...</td>\n",
       "      <td>colon</td>\n",
       "      <td>baseline_human</td>\n",
       "      <td>human</td>\n",
       "      <td>pig</td>\n",
       "    </tr>\n",
       "    <tr>\n",
       "      <th>3</th>\n",
       "      <td>4</td>\n",
       "      <td>0.614768</td>\n",
       "      <td>[0.5747257457272265, 0.6713602712507882, 0.605...</td>\n",
       "      <td>0.293276</td>\n",
       "      <td>[0.2784028802597699, 0.3183857076161617, 0.304...</td>\n",
       "      <td>liver</td>\n",
       "      <td>baseline_human</td>\n",
       "      <td>human</td>\n",
       "      <td>pig</td>\n",
       "    </tr>\n",
       "    <tr>\n",
       "      <th>4</th>\n",
       "      <td>5</td>\n",
       "      <td>0.000000</td>\n",
       "      <td>[0.0, 0.0, 0.0, 0.0, 0.0, 0.0, 0.0, 0.0, 0.0, ...</td>\n",
       "      <td>0.000000</td>\n",
       "      <td>[0.0, 0.0, 0.0, 0.0, 0.0, 0.0, 0.0, 0.0, 0.0, ...</td>\n",
       "      <td>pancreas</td>\n",
       "      <td>baseline_human</td>\n",
       "      <td>human</td>\n",
       "      <td>pig</td>\n",
       "    </tr>\n",
       "    <tr>\n",
       "      <th>...</th>\n",
       "      <td>...</td>\n",
       "      <td>...</td>\n",
       "      <td>...</td>\n",
       "      <td>...</td>\n",
       "      <td>...</td>\n",
       "      <td>...</td>\n",
       "      <td>...</td>\n",
       "      <td>...</td>\n",
       "      <td>...</td>\n",
       "    </tr>\n",
       "    <tr>\n",
       "      <th>139</th>\n",
       "      <td>8</td>\n",
       "      <td>0.885607</td>\n",
       "      <td>[0.8856873640977315, 0.8977617739893754, 0.874...</td>\n",
       "      <td>0.786933</td>\n",
       "      <td>[0.7932642738471432, 0.8103319464540271, 0.776...</td>\n",
       "      <td>omentum</td>\n",
       "      <td>joint_pig-p+rat-p2human</td>\n",
       "      <td>pig-p+rat-p2human</td>\n",
       "      <td>human</td>\n",
       "    </tr>\n",
       "    <tr>\n",
       "      <th>140</th>\n",
       "      <td>9</td>\n",
       "      <td>0.868888</td>\n",
       "      <td>[0.8768972320026821, 0.8646927743487888, 0.877...</td>\n",
       "      <td>0.755025</td>\n",
       "      <td>[0.7511523003048369, 0.7593832235866123, 0.815...</td>\n",
       "      <td>lung</td>\n",
       "      <td>joint_pig-p+rat-p2human</td>\n",
       "      <td>pig-p+rat-p2human</td>\n",
       "      <td>human</td>\n",
       "    </tr>\n",
       "    <tr>\n",
       "      <th>141</th>\n",
       "      <td>10</td>\n",
       "      <td>0.816514</td>\n",
       "      <td>[0.7865177496658932, 0.8398494560677418, 0.829...</td>\n",
       "      <td>0.854466</td>\n",
       "      <td>[0.819408978756749, 0.8812234833558145, 0.8749...</td>\n",
       "      <td>skin</td>\n",
       "      <td>joint_pig-p+rat-p2human</td>\n",
       "      <td>pig-p+rat-p2human</td>\n",
       "      <td>human</td>\n",
       "    </tr>\n",
       "    <tr>\n",
       "      <th>142</th>\n",
       "      <td>11</td>\n",
       "      <td>0.625651</td>\n",
       "      <td>[0.6273911029406511, 0.5925937585247442, 0.669...</td>\n",
       "      <td>0.653304</td>\n",
       "      <td>[0.6474005020521824, 0.615219682115578, 0.6916...</td>\n",
       "      <td>peritoneum</td>\n",
       "      <td>joint_pig-p+rat-p2human</td>\n",
       "      <td>pig-p+rat-p2human</td>\n",
       "      <td>human</td>\n",
       "    </tr>\n",
       "    <tr>\n",
       "      <th>143</th>\n",
       "      <td>0</td>\n",
       "      <td>0.985731</td>\n",
       "      <td>[0.9822347523753282, 0.9885936672617154, 0.984...</td>\n",
       "      <td>0.905566</td>\n",
       "      <td>[0.9021240939706929, 0.9099342215863057, 0.903...</td>\n",
       "      <td>background</td>\n",
       "      <td>joint_pig-p+rat-p2human</td>\n",
       "      <td>pig-p+rat-p2human</td>\n",
       "      <td>human</td>\n",
       "    </tr>\n",
       "  </tbody>\n",
       "</table>\n",
       "<p>144 rows × 9 columns</p>\n",
       "</div>"
      ],
      "text/plain": [
       "     label_index  dice_metric  \\\n",
       "0              1     0.289921   \n",
       "1              2     0.605336   \n",
       "2              3     0.323029   \n",
       "3              4     0.614768   \n",
       "4              5     0.000000   \n",
       "..           ...          ...   \n",
       "139            8     0.885607   \n",
       "140            9     0.868888   \n",
       "141           10     0.816514   \n",
       "142           11     0.625651   \n",
       "143            0     0.985731   \n",
       "\n",
       "                                dice_metric_bootstraps  \\\n",
       "0    [0.3071158116976992, 0.32515001276416633, 0.28...   \n",
       "1    [0.6644174919511754, 0.5524962330706954, 0.663...   \n",
       "2    [0.2747438077832579, 0.3178767478404278, 0.272...   \n",
       "3    [0.5747257457272265, 0.6713602712507882, 0.605...   \n",
       "4    [0.0, 0.0, 0.0, 0.0, 0.0, 0.0, 0.0, 0.0, 0.0, ...   \n",
       "..                                                 ...   \n",
       "139  [0.8856873640977315, 0.8977617739893754, 0.874...   \n",
       "140  [0.8768972320026821, 0.8646927743487888, 0.877...   \n",
       "141  [0.7865177496658932, 0.8398494560677418, 0.829...   \n",
       "142  [0.6273911029406511, 0.5925937585247442, 0.669...   \n",
       "143  [0.9822347523753282, 0.9885936672617154, 0.984...   \n",
       "\n",
       "     surface_dice_metric_mean  \\\n",
       "0                    0.229507   \n",
       "1                    0.368218   \n",
       "2                    0.244206   \n",
       "3                    0.293276   \n",
       "4                    0.000000   \n",
       "..                        ...   \n",
       "139                  0.786933   \n",
       "140                  0.755025   \n",
       "141                  0.854466   \n",
       "142                  0.653304   \n",
       "143                  0.905566   \n",
       "\n",
       "                   surface_dice_metric_mean_bootstraps   label_name  \\\n",
       "0    [0.2386613830710378, 0.2482425972753955, 0.223...      stomach   \n",
       "1    [0.3724041706106172, 0.34863130418807103, 0.38...  small_bowel   \n",
       "2    [0.22228894259760032, 0.23346208199123283, 0.2...        colon   \n",
       "3    [0.2784028802597699, 0.3183857076161617, 0.304...        liver   \n",
       "4    [0.0, 0.0, 0.0, 0.0, 0.0, 0.0, 0.0, 0.0, 0.0, ...     pancreas   \n",
       "..                                                 ...          ...   \n",
       "139  [0.7932642738471432, 0.8103319464540271, 0.776...      omentum   \n",
       "140  [0.7511523003048369, 0.7593832235866123, 0.815...         lung   \n",
       "141  [0.819408978756749, 0.8812234833558145, 0.8749...         skin   \n",
       "142  [0.6474005020521824, 0.615219682115578, 0.6916...   peritoneum   \n",
       "143  [0.9021240939706929, 0.9099342215863057, 0.903...   background   \n",
       "\n",
       "                     network     source_species target_species  \n",
       "0             baseline_human              human            pig  \n",
       "1             baseline_human              human            pig  \n",
       "2             baseline_human              human            pig  \n",
       "3             baseline_human              human            pig  \n",
       "4             baseline_human              human            pig  \n",
       "..                       ...                ...            ...  \n",
       "139  joint_pig-p+rat-p2human  pig-p+rat-p2human          human  \n",
       "140  joint_pig-p+rat-p2human  pig-p+rat-p2human          human  \n",
       "141  joint_pig-p+rat-p2human  pig-p+rat-p2human          human  \n",
       "142  joint_pig-p+rat-p2human  pig-p+rat-p2human          human  \n",
       "143  joint_pig-p+rat-p2human  pig-p+rat-p2human          human  \n",
       "\n",
       "[144 rows x 9 columns]"
      ]
     },
     "execution_count": 2,
     "metadata": {},
     "output_type": "execute_result"
    }
   ],
   "source": [
    "df = baseline_performance()\n",
    "df"
   ]
  },
  {
   "cell_type": "code",
   "execution_count": 3,
   "metadata": {},
   "outputs": [
    {
     "data": {
      "text/html": [
       "        <script type=\"text/javascript\">\n",
       "        window.PlotlyConfig = {MathJaxConfig: 'local'};\n",
       "        if (window.MathJax && window.MathJax.Hub && window.MathJax.Hub.Config) {window.MathJax.Hub.Config({SVG: {font: \"STIX-Web\"}});}\n",
       "        </script>\n",
       "        <script type=\"module\">import \"https://cdn.plot.ly/plotly-3.0.0.min\"</script>\n",
       "        "
      ]
     },
     "metadata": {},
     "output_type": "display_data"
    },
    {
     "data": {
      "application/vnd.plotly.v1+json": {
       "config": {
        "plotlyServerURL": "https://plot.ly"
       },
       "data": [
        {
         "legend": "legend",
         "marker": {
          "color": "gray",
          "line": {
           "color": "black",
           "width": 1
          },
          "size": 9,
          "symbol": "circle"
         },
         "mode": "markers",
         "name": "stomach",
         "showlegend": true,
         "type": "scatter",
         "x": [
          null
         ],
         "xaxis": "x",
         "y": [
          null
         ],
         "yaxis": "y"
        },
        {
         "legend": "legend",
         "marker": {
          "color": "gray",
          "line": {
           "color": "black",
           "width": 1
          },
          "size": 9,
          "symbol": "square"
         },
         "mode": "markers",
         "name": "small_bowel",
         "showlegend": true,
         "type": "scatter",
         "x": [
          null
         ],
         "xaxis": "x",
         "y": [
          null
         ],
         "yaxis": "y"
        },
        {
         "legend": "legend",
         "marker": {
          "color": "gray",
          "line": {
           "color": "black",
           "width": 1
          },
          "size": 9,
          "symbol": "diamond"
         },
         "mode": "markers",
         "name": "colon",
         "showlegend": true,
         "type": "scatter",
         "x": [
          null
         ],
         "xaxis": "x",
         "y": [
          null
         ],
         "yaxis": "y"
        },
        {
         "legend": "legend",
         "marker": {
          "color": "gray",
          "line": {
           "color": "black",
           "width": 1
          },
          "size": 9,
          "symbol": "cross"
         },
         "mode": "markers",
         "name": "liver",
         "showlegend": true,
         "type": "scatter",
         "x": [
          null
         ],
         "xaxis": "x",
         "y": [
          null
         ],
         "yaxis": "y"
        },
        {
         "legend": "legend",
         "marker": {
          "color": "gray",
          "line": {
           "color": "black",
           "width": 1
          },
          "size": 9,
          "symbol": "x"
         },
         "mode": "markers",
         "name": "pancreas",
         "showlegend": true,
         "type": "scatter",
         "x": [
          null
         ],
         "xaxis": "x",
         "y": [
          null
         ],
         "yaxis": "y"
        },
        {
         "legend": "legend",
         "marker": {
          "color": "gray",
          "line": {
           "color": "black",
           "width": 1
          },
          "size": 9,
          "symbol": "triangle-up"
         },
         "mode": "markers",
         "name": "kidney",
         "showlegend": true,
         "type": "scatter",
         "x": [
          null
         ],
         "xaxis": "x",
         "y": [
          null
         ],
         "yaxis": "y"
        },
        {
         "legend": "legend",
         "marker": {
          "color": "gray",
          "line": {
           "color": "black",
           "width": 1
          },
          "size": 9,
          "symbol": "triangle-down"
         },
         "mode": "markers",
         "name": "spleen",
         "showlegend": true,
         "type": "scatter",
         "x": [
          null
         ],
         "xaxis": "x",
         "y": [
          null
         ],
         "yaxis": "y"
        },
        {
         "legend": "legend",
         "marker": {
          "color": "gray",
          "line": {
           "color": "black",
           "width": 1
          },
          "size": 9,
          "symbol": "triangle-left"
         },
         "mode": "markers",
         "name": "omentum",
         "showlegend": true,
         "type": "scatter",
         "x": [
          null
         ],
         "xaxis": "x",
         "y": [
          null
         ],
         "yaxis": "y"
        },
        {
         "legend": "legend",
         "marker": {
          "color": "gray",
          "line": {
           "color": "black",
           "width": 1
          },
          "size": 9,
          "symbol": "triangle-right"
         },
         "mode": "markers",
         "name": "lung",
         "showlegend": true,
         "type": "scatter",
         "x": [
          null
         ],
         "xaxis": "x",
         "y": [
          null
         ],
         "yaxis": "y"
        },
        {
         "legend": "legend",
         "marker": {
          "color": "gray",
          "line": {
           "color": "black",
           "width": 1
          },
          "size": 9,
          "symbol": "star"
         },
         "mode": "markers",
         "name": "skin",
         "showlegend": true,
         "type": "scatter",
         "x": [
          null
         ],
         "xaxis": "x",
         "y": [
          null
         ],
         "yaxis": "y"
        },
        {
         "legend": "legend",
         "marker": {
          "color": "gray",
          "line": {
           "color": "black",
           "width": 1
          },
          "size": 9,
          "symbol": "diamond-wide"
         },
         "mode": "markers",
         "name": "peritoneum",
         "showlegend": true,
         "type": "scatter",
         "x": [
          null
         ],
         "xaxis": "x",
         "y": [
          null
         ],
         "yaxis": "y"
        },
        {
         "legend": "legend",
         "marker": {
          "color": "gray",
          "line": {
           "color": "black",
           "width": 1
          },
          "size": 9,
          "symbol": "diamond-tall"
         },
         "mode": "markers",
         "name": "background",
         "showlegend": true,
         "type": "scatter",
         "x": [
          null
         ],
         "xaxis": "x",
         "y": [
          null
         ],
         "yaxis": "y"
        },
        {
         "legend": "legend",
         "legendgroup": "pig2pig",
         "marker": {
          "color": "#44AA99",
          "line": {
           "color": "black",
           "width": 1
          },
          "size": 9,
          "symbol": "diamond-tall"
         },
         "mode": "markers",
         "name": "background",
         "showlegend": false,
         "type": "scatter",
         "x": [
          0
         ],
         "xaxis": "x",
         "y": [
          0.9880172627034577
         ],
         "yaxis": "y"
        },
        {
         "legend": "legend",
         "legendgroup": "pig2pig",
         "marker": {
          "color": "#44AA99",
          "line": {
           "color": "black",
           "width": 1
          },
          "size": 9,
          "symbol": "triangle-right"
         },
         "mode": "markers",
         "name": "lung",
         "showlegend": false,
         "type": "scatter",
         "x": [
          0.09333333333333334
         ],
         "xaxis": "x",
         "y": [
          0.9681517921524606
         ],
         "yaxis": "y"
        },
        {
         "legend": "legend",
         "legendgroup": "pig2pig",
         "marker": {
          "color": "#44AA99",
          "line": {
           "color": "black",
           "width": 1
          },
          "size": 9,
          "symbol": "square"
         },
         "mode": "markers",
         "name": "small_bowel",
         "showlegend": false,
         "type": "scatter",
         "x": [
          0.18666666666666668
         ],
         "xaxis": "x",
         "y": [
          0.9574328883645451
         ],
         "yaxis": "y"
        },
        {
         "legend": "legend",
         "legendgroup": "pig2pig",
         "marker": {
          "color": "#44AA99",
          "line": {
           "color": "black",
           "width": 1
          },
          "size": 9,
          "symbol": "diamond"
         },
         "mode": "markers",
         "name": "colon",
         "showlegend": false,
         "type": "scatter",
         "x": [
          0.28
         ],
         "xaxis": "x",
         "y": [
          0.9552697424805917
         ],
         "yaxis": "y"
        },
        {
         "legend": "legend",
         "legendgroup": "pig2pig",
         "marker": {
          "color": "#44AA99",
          "line": {
           "color": "black",
           "width": 1
          },
          "size": 9,
          "symbol": "triangle-down"
         },
         "mode": "markers",
         "name": "spleen",
         "showlegend": false,
         "type": "scatter",
         "x": [
          0
         ],
         "xaxis": "x",
         "y": [
          0.9548855312121886
         ],
         "yaxis": "y"
        },
        {
         "legend": "legend",
         "legendgroup": "pig2pig",
         "marker": {
          "color": "#44AA99",
          "line": {
           "color": "black",
           "width": 1
          },
          "size": 9,
          "symbol": "triangle-up"
         },
         "mode": "markers",
         "name": "kidney",
         "showlegend": false,
         "type": "scatter",
         "x": [
          0.09333333333333334
         ],
         "xaxis": "x",
         "y": [
          0.9532746829238592
         ],
         "yaxis": "y"
        },
        {
         "legend": "legend",
         "legendgroup": "pig2pig",
         "marker": {
          "color": "#44AA99",
          "line": {
           "color": "black",
           "width": 1
          },
          "size": 9,
          "symbol": "cross"
         },
         "mode": "markers",
         "name": "liver",
         "showlegend": false,
         "type": "scatter",
         "x": [
          0.18666666666666668
         ],
         "xaxis": "x",
         "y": [
          0.9509044544356555
         ],
         "yaxis": "y"
        },
        {
         "legend": "legend",
         "legendgroup": "pig2pig",
         "marker": {
          "color": "#44AA99",
          "line": {
           "color": "black",
           "width": 1
          },
          "size": 9,
          "symbol": "diamond-wide"
         },
         "mode": "markers",
         "name": "peritoneum",
         "showlegend": false,
         "type": "scatter",
         "x": [
          0.28
         ],
         "xaxis": "x",
         "y": [
          0.8714513425624977
         ],
         "yaxis": "y"
        },
        {
         "legend": "legend",
         "legendgroup": "pig2pig",
         "marker": {
          "color": "#44AA99",
          "line": {
           "color": "black",
           "width": 1
          },
          "size": 9,
          "symbol": "circle"
         },
         "mode": "markers",
         "name": "stomach",
         "showlegend": false,
         "type": "scatter",
         "x": [
          0
         ],
         "xaxis": "x",
         "y": [
          0.8649385530904133
         ],
         "yaxis": "y"
        },
        {
         "legend": "legend",
         "legendgroup": "pig2pig",
         "marker": {
          "color": "#44AA99",
          "line": {
           "color": "black",
           "width": 1
          },
          "size": 9,
          "symbol": "star"
         },
         "mode": "markers",
         "name": "skin",
         "showlegend": false,
         "type": "scatter",
         "x": [
          0.09333333333333334
         ],
         "xaxis": "x",
         "y": [
          0.8583116681070014
         ],
         "yaxis": "y"
        },
        {
         "legend": "legend",
         "legendgroup": "pig2pig",
         "marker": {
          "color": "#44AA99",
          "line": {
           "color": "black",
           "width": 1
          },
          "size": 9,
          "symbol": "x"
         },
         "mode": "markers",
         "name": "pancreas",
         "showlegend": false,
         "type": "scatter",
         "x": [
          0.18666666666666668
         ],
         "xaxis": "x",
         "y": [
          0.8555469197697109
         ],
         "yaxis": "y"
        },
        {
         "legend": "legend",
         "legendgroup": "pig2pig",
         "marker": {
          "color": "#44AA99",
          "line": {
           "color": "black",
           "width": 1
          },
          "size": 9,
          "symbol": "triangle-left"
         },
         "mode": "markers",
         "name": "omentum",
         "showlegend": false,
         "type": "scatter",
         "x": [
          0.28
         ],
         "xaxis": "x",
         "y": [
          0.6550220755864737
         ],
         "yaxis": "y"
        },
        {
         "boxmean": true,
         "boxpoints": false,
         "legend": "legend2",
         "legendgroup": "pig2pig",
         "line": {
          "color": "#44AA99"
         },
         "name": "pig2pig",
         "showlegend": true,
         "type": "box",
         "x": [
          0.6,
          0.6,
          0.6,
          0.6,
          0.6,
          0.6,
          0.6,
          0.6,
          0.6,
          0.6,
          0.6,
          0.6
         ],
         "xaxis": "x",
         "y": {
          "bdata": "uzvmYNad7z+3eZt3GfvuP05/9EtKo+4/3f/Z2ZGR7j+lW/8ZbI7uP2hoaOg5ge4/5n+tLc9t7j8ejwvt7eLrPxNV0p2Tres/0W4JCEp36z+bVxPvo2DrP4ipGdvw9eQ/",
          "dtype": "f8"
         },
         "yaxis": "y"
        },
        {
         "legendgroup": "pig2pig",
         "line": {
          "color": "#44AA99",
          "dash": "dot"
         },
         "mode": "lines",
         "name": "pig2pig",
         "showlegend": false,
         "text": "95 % CI mean: [0.89;0.92]",
         "type": "scatter",
         "x": [
          0.5,
          0.5
         ],
         "xaxis": "x",
         "y": [
          0.885219171713861,
          0.9188978601852729
         ],
         "yaxis": "y"
        },
        {
         "legendgroup": "pig2pig",
         "line": {
          "color": "#44AA99"
         },
         "marker": {
          "size": 10,
          "symbol": "triangle-down-open"
         },
         "mode": "markers",
         "name": "pig2pig",
         "showlegend": false,
         "text": "95 % CI mean: [0.89;0.92]",
         "type": "scatter",
         "x": [
          0.5
         ],
         "xaxis": "x",
         "y": [
          0.885219171713861
         ],
         "yaxis": "y"
        },
        {
         "legendgroup": "pig2pig",
         "line": {
          "color": "#44AA99"
         },
         "marker": {
          "size": 10,
          "symbol": "triangle-up-open"
         },
         "mode": "markers",
         "name": "pig2pig",
         "showlegend": false,
         "text": "95 % CI mean: [0.89;0.92]",
         "type": "scatter",
         "x": [
          0.5
         ],
         "xaxis": "x",
         "y": [
          0.9188978601852729
         ],
         "yaxis": "y"
        },
        {
         "legendgroup": "pig2pig",
         "line": {
          "color": "#44AA99",
          "dash": "solid"
         },
         "mode": "lines",
         "name": "pig2pig",
         "showlegend": false,
         "text": "95 % CI median: [0.93;0.96]",
         "type": "scatter",
         "x": [
          0.7,
          0.7
         ],
         "xaxis": "x",
         "y": [
          0.9303989476962554,
          0.9562839802416562
         ],
         "yaxis": "y"
        },
        {
         "legendgroup": "pig2pig",
         "line": {
          "color": "#44AA99"
         },
         "marker": {
          "size": 10,
          "symbol": "triangle-down"
         },
         "mode": "markers",
         "name": "pig2pig",
         "showlegend": false,
         "text": "95 % CI median: [0.93;0.96]",
         "type": "scatter",
         "x": [
          0.7
         ],
         "xaxis": "x",
         "y": [
          0.9303989476962554
         ],
         "yaxis": "y"
        },
        {
         "legendgroup": "pig2pig",
         "line": {
          "color": "#44AA99"
         },
         "marker": {
          "size": 10,
          "symbol": "triangle-up"
         },
         "mode": "markers",
         "name": "pig2pig",
         "showlegend": false,
         "text": "95 % CI median: [0.93;0.96]",
         "type": "scatter",
         "x": [
          0.7
         ],
         "xaxis": "x",
         "y": [
          0.9562839802416562
         ],
         "yaxis": "y"
        },
        {
         "legend": "legend",
         "legendgroup": "pig2rat",
         "marker": {
          "color": "#89CCED",
          "line": {
           "color": "black",
           "width": 1
          },
          "size": 9,
          "symbol": "triangle-right"
         },
         "mode": "markers",
         "name": "lung",
         "showlegend": false,
         "type": "scatter",
         "x": [
          1
         ],
         "xaxis": "x",
         "y": [
          0.9926940477811373
         ],
         "yaxis": "y"
        },
        {
         "legend": "legend",
         "legendgroup": "pig2rat",
         "marker": {
          "color": "#89CCED",
          "line": {
           "color": "black",
           "width": 1
          },
          "size": 9,
          "symbol": "cross"
         },
         "mode": "markers",
         "name": "liver",
         "showlegend": false,
         "type": "scatter",
         "x": [
          1.0933333333333333
         ],
         "xaxis": "x",
         "y": [
          0.8102008369061756
         ],
         "yaxis": "y"
        },
        {
         "legend": "legend",
         "legendgroup": "pig2rat",
         "marker": {
          "color": "#89CCED",
          "line": {
           "color": "black",
           "width": 1
          },
          "size": 9,
          "symbol": "diamond-tall"
         },
         "mode": "markers",
         "name": "background",
         "showlegend": false,
         "type": "scatter",
         "x": [
          1.1866666666666668
         ],
         "xaxis": "x",
         "y": [
          0.7598612389778651
         ],
         "yaxis": "y"
        },
        {
         "legend": "legend",
         "legendgroup": "pig2rat",
         "marker": {
          "color": "#89CCED",
          "line": {
           "color": "black",
           "width": 1
          },
          "size": 9,
          "symbol": "triangle-up"
         },
         "mode": "markers",
         "name": "kidney",
         "showlegend": false,
         "type": "scatter",
         "x": [
          1.28
         ],
         "xaxis": "x",
         "y": [
          0.713609119955
         ],
         "yaxis": "y"
        },
        {
         "legend": "legend",
         "legendgroup": "pig2rat",
         "marker": {
          "color": "#89CCED",
          "line": {
           "color": "black",
           "width": 1
          },
          "size": 9,
          "symbol": "diamond-wide"
         },
         "mode": "markers",
         "name": "peritoneum",
         "showlegend": false,
         "type": "scatter",
         "x": [
          1
         ],
         "xaxis": "x",
         "y": [
          0.6638196326323839
         ],
         "yaxis": "y"
        },
        {
         "legend": "legend",
         "legendgroup": "pig2rat",
         "marker": {
          "color": "#89CCED",
          "line": {
           "color": "black",
           "width": 1
          },
          "size": 9,
          "symbol": "diamond"
         },
         "mode": "markers",
         "name": "colon",
         "showlegend": false,
         "type": "scatter",
         "x": [
          1.0933333333333333
         ],
         "xaxis": "x",
         "y": [
          0.5186796552239655
         ],
         "yaxis": "y"
        },
        {
         "legend": "legend",
         "legendgroup": "pig2rat",
         "marker": {
          "color": "#89CCED",
          "line": {
           "color": "black",
           "width": 1
          },
          "size": 9,
          "symbol": "star"
         },
         "mode": "markers",
         "name": "skin",
         "showlegend": false,
         "type": "scatter",
         "x": [
          1.1866666666666668
         ],
         "xaxis": "x",
         "y": [
          0.40396969032198793
         ],
         "yaxis": "y"
        },
        {
         "legend": "legend",
         "legendgroup": "pig2rat",
         "marker": {
          "color": "#89CCED",
          "line": {
           "color": "black",
           "width": 1
          },
          "size": 9,
          "symbol": "x"
         },
         "mode": "markers",
         "name": "pancreas",
         "showlegend": false,
         "type": "scatter",
         "x": [
          1.28
         ],
         "xaxis": "x",
         "y": [
          0.37904571015319544
         ],
         "yaxis": "y"
        },
        {
         "legend": "legend",
         "legendgroup": "pig2rat",
         "marker": {
          "color": "#89CCED",
          "line": {
           "color": "black",
           "width": 1
          },
          "size": 9,
          "symbol": "triangle-left"
         },
         "mode": "markers",
         "name": "omentum",
         "showlegend": false,
         "type": "scatter",
         "x": [
          1
         ],
         "xaxis": "x",
         "y": [
          0.3127520523293692
         ],
         "yaxis": "y"
        },
        {
         "legend": "legend",
         "legendgroup": "pig2rat",
         "marker": {
          "color": "#89CCED",
          "line": {
           "color": "black",
           "width": 1
          },
          "size": 9,
          "symbol": "square"
         },
         "mode": "markers",
         "name": "small_bowel",
         "showlegend": false,
         "type": "scatter",
         "x": [
          1.0933333333333333
         ],
         "xaxis": "x",
         "y": [
          0.22107863441039363
         ],
         "yaxis": "y"
        },
        {
         "legend": "legend",
         "legendgroup": "pig2rat",
         "marker": {
          "color": "#89CCED",
          "line": {
           "color": "black",
           "width": 1
          },
          "size": 9,
          "symbol": "circle"
         },
         "mode": "markers",
         "name": "stomach",
         "showlegend": false,
         "type": "scatter",
         "x": [
          1.1866666666666668
         ],
         "xaxis": "x",
         "y": [
          0.13937860303079946
         ],
         "yaxis": "y"
        },
        {
         "legend": "legend",
         "legendgroup": "pig2rat",
         "marker": {
          "color": "#89CCED",
          "line": {
           "color": "black",
           "width": 1
          },
          "size": 9,
          "symbol": "triangle-down"
         },
         "mode": "markers",
         "name": "spleen",
         "showlegend": false,
         "type": "scatter",
         "x": [
          1.28
         ],
         "xaxis": "x",
         "y": [
          0.11335881187470977
         ],
         "yaxis": "y"
        },
        {
         "boxmean": true,
         "boxpoints": false,
         "legend": "legend2",
         "legendgroup": "pig2rat",
         "line": {
          "color": "#89CCED"
         },
         "name": "pig2rat",
         "showlegend": true,
         "type": "box",
         "x": [
          1.6,
          1.6,
          1.6,
          1.6,
          1.6,
          1.6,
          1.6,
          1.6,
          1.6,
          1.6,
          1.6,
          1.6
         ],
         "xaxis": "x",
         "y": {
          "bdata": "T+zETibE7z/5hTZOKu3pPxkOXYTIUOg/q7AKy+LV5j+PKZOrAj7lPxkziRMGmeA/HoYgsKPa2T8wAzPwSELYP8S8IC8hBNQ/l4hRAE5MzD8GxeN2KNfBP5Edt0UVBb0/",
          "dtype": "f8"
         },
         "yaxis": "y"
        },
        {
         "legendgroup": "pig2rat",
         "line": {
          "color": "#89CCED",
          "dash": "dot"
         },
         "mode": "lines",
         "name": "pig2rat",
         "showlegend": false,
         "text": "95 % CI mean: [0.49;0.52]",
         "type": "scatter",
         "x": [
          1.5,
          1.5
         ],
         "xaxis": "x",
         "y": [
          0.48638641241059927,
          0.5199714091343272
         ],
         "yaxis": "y"
        },
        {
         "legendgroup": "pig2rat",
         "line": {
          "color": "#89CCED"
         },
         "marker": {
          "size": 10,
          "symbol": "triangle-down-open"
         },
         "mode": "markers",
         "name": "pig2rat",
         "showlegend": false,
         "text": "95 % CI mean: [0.49;0.52]",
         "type": "scatter",
         "x": [
          1.5
         ],
         "xaxis": "x",
         "y": [
          0.48638641241059927
         ],
         "yaxis": "y"
        },
        {
         "legendgroup": "pig2rat",
         "line": {
          "color": "#89CCED"
         },
         "marker": {
          "size": 10,
          "symbol": "triangle-up-open"
         },
         "mode": "markers",
         "name": "pig2rat",
         "showlegend": false,
         "text": "95 % CI mean: [0.49;0.52]",
         "type": "scatter",
         "x": [
          1.5
         ],
         "xaxis": "x",
         "y": [
          0.5199714091343272
         ],
         "yaxis": "y"
        },
        {
         "legendgroup": "pig2rat",
         "line": {
          "color": "#89CCED",
          "dash": "solid"
         },
         "mode": "lines",
         "name": "pig2rat",
         "showlegend": false,
         "text": "95 % CI median: [0.43;0.50]",
         "type": "scatter",
         "x": [
          1.7,
          1.7
         ],
         "xaxis": "x",
         "y": [
          0.4291213822736487,
          0.49836685456566737
         ],
         "yaxis": "y"
        },
        {
         "legendgroup": "pig2rat",
         "line": {
          "color": "#89CCED"
         },
         "marker": {
          "size": 10,
          "symbol": "triangle-down"
         },
         "mode": "markers",
         "name": "pig2rat",
         "showlegend": false,
         "text": "95 % CI median: [0.43;0.50]",
         "type": "scatter",
         "x": [
          1.7
         ],
         "xaxis": "x",
         "y": [
          0.4291213822736487
         ],
         "yaxis": "y"
        },
        {
         "legendgroup": "pig2rat",
         "line": {
          "color": "#89CCED"
         },
         "marker": {
          "size": 10,
          "symbol": "triangle-up"
         },
         "mode": "markers",
         "name": "pig2rat",
         "showlegend": false,
         "text": "95 % CI median: [0.43;0.50]",
         "type": "scatter",
         "x": [
          1.7
         ],
         "xaxis": "x",
         "y": [
          0.49836685456566737
         ],
         "yaxis": "y"
        },
        {
         "legend": "legend",
         "legendgroup": "pig2human",
         "marker": {
          "color": "#DDCB76",
          "line": {
           "color": "black",
           "width": 1
          },
          "size": 9,
          "symbol": "diamond-tall"
         },
         "mode": "markers",
         "name": "background",
         "showlegend": false,
         "type": "scatter",
         "x": [
          2
         ],
         "xaxis": "x",
         "y": [
          0.8932919788836882
         ],
         "yaxis": "y"
        },
        {
         "legend": "legend",
         "legendgroup": "pig2human",
         "marker": {
          "color": "#DDCB76",
          "line": {
           "color": "black",
           "width": 1
          },
          "size": 9,
          "symbol": "star"
         },
         "mode": "markers",
         "name": "skin",
         "showlegend": false,
         "type": "scatter",
         "x": [
          2.0933333333333333
         ],
         "xaxis": "x",
         "y": [
          0.7768507652573544
         ],
         "yaxis": "y"
        },
        {
         "legend": "legend",
         "legendgroup": "pig2human",
         "marker": {
          "color": "#DDCB76",
          "line": {
           "color": "black",
           "width": 1
          },
          "size": 9,
          "symbol": "triangle-right"
         },
         "mode": "markers",
         "name": "lung",
         "showlegend": false,
         "type": "scatter",
         "x": [
          2.1866666666666665
         ],
         "xaxis": "x",
         "y": [
          0.6541427634505736
         ],
         "yaxis": "y"
        },
        {
         "legend": "legend",
         "legendgroup": "pig2human",
         "marker": {
          "color": "#DDCB76",
          "line": {
           "color": "black",
           "width": 1
          },
          "size": 9,
          "symbol": "triangle-left"
         },
         "mode": "markers",
         "name": "omentum",
         "showlegend": false,
         "type": "scatter",
         "x": [
          2.2800000000000002
         ],
         "xaxis": "x",
         "y": [
          0.5036002390379187
         ],
         "yaxis": "y"
        },
        {
         "legend": "legend",
         "legendgroup": "pig2human",
         "marker": {
          "color": "#DDCB76",
          "line": {
           "color": "black",
           "width": 1
          },
          "size": 9,
          "symbol": "circle"
         },
         "mode": "markers",
         "name": "stomach",
         "showlegend": false,
         "type": "scatter",
         "x": [
          2
         ],
         "xaxis": "x",
         "y": [
          0.4756931812497804
         ],
         "yaxis": "y"
        },
        {
         "legend": "legend",
         "legendgroup": "pig2human",
         "marker": {
          "color": "#DDCB76",
          "line": {
           "color": "black",
           "width": 1
          },
          "size": 9,
          "symbol": "triangle-up"
         },
         "mode": "markers",
         "name": "kidney",
         "showlegend": false,
         "type": "scatter",
         "x": [
          2.0933333333333333
         ],
         "xaxis": "x",
         "y": [
          0.36119905145182696
         ],
         "yaxis": "y"
        },
        {
         "legend": "legend",
         "legendgroup": "pig2human",
         "marker": {
          "color": "#DDCB76",
          "line": {
           "color": "black",
           "width": 1
          },
          "size": 9,
          "symbol": "triangle-down"
         },
         "mode": "markers",
         "name": "spleen",
         "showlegend": false,
         "type": "scatter",
         "x": [
          2.1866666666666665
         ],
         "xaxis": "x",
         "y": [
          0.32438332721358165
         ],
         "yaxis": "y"
        },
        {
         "legend": "legend",
         "legendgroup": "pig2human",
         "marker": {
          "color": "#DDCB76",
          "line": {
           "color": "black",
           "width": 1
          },
          "size": 9,
          "symbol": "diamond-wide"
         },
         "mode": "markers",
         "name": "peritoneum",
         "showlegend": false,
         "type": "scatter",
         "x": [
          2.2800000000000002
         ],
         "xaxis": "x",
         "y": [
          0.2940845047700263
         ],
         "yaxis": "y"
        },
        {
         "legend": "legend",
         "legendgroup": "pig2human",
         "marker": {
          "color": "#DDCB76",
          "line": {
           "color": "black",
           "width": 1
          },
          "size": 9,
          "symbol": "diamond"
         },
         "mode": "markers",
         "name": "colon",
         "showlegend": false,
         "type": "scatter",
         "x": [
          2
         ],
         "xaxis": "x",
         "y": [
          0.2877543303600235
         ],
         "yaxis": "y"
        },
        {
         "legend": "legend",
         "legendgroup": "pig2human",
         "marker": {
          "color": "#DDCB76",
          "line": {
           "color": "black",
           "width": 1
          },
          "size": 9,
          "symbol": "square"
         },
         "mode": "markers",
         "name": "small_bowel",
         "showlegend": false,
         "type": "scatter",
         "x": [
          2.0933333333333333
         ],
         "xaxis": "x",
         "y": [
          0.22635484305429548
         ],
         "yaxis": "y"
        },
        {
         "legend": "legend",
         "legendgroup": "pig2human",
         "marker": {
          "color": "#DDCB76",
          "line": {
           "color": "black",
           "width": 1
          },
          "size": 9,
          "symbol": "cross"
         },
         "mode": "markers",
         "name": "liver",
         "showlegend": false,
         "type": "scatter",
         "x": [
          2.1866666666666665
         ],
         "xaxis": "x",
         "y": [
          0.17787657280506072
         ],
         "yaxis": "y"
        },
        {
         "legend": "legend",
         "legendgroup": "pig2human",
         "marker": {
          "color": "#DDCB76",
          "line": {
           "color": "black",
           "width": 1
          },
          "size": 9,
          "symbol": "x"
         },
         "mode": "markers",
         "name": "pancreas",
         "showlegend": false,
         "type": "scatter",
         "x": [
          2.2800000000000002
         ],
         "xaxis": "x",
         "y": [
          0.07918528155347984
         ],
         "yaxis": "y"
        },
        {
         "boxmean": true,
         "boxpoints": false,
         "legend": "legend2",
         "legendgroup": "pig2human",
         "line": {
          "color": "#DDCB76"
         },
         "name": "pig2human",
         "showlegend": true,
         "type": "box",
         "x": [
          2.6,
          2.6,
          2.6,
          2.6,
          2.6,
          2.6,
          2.6,
          2.6,
          2.6,
          2.6,
          2.6,
          2.6
         ],
         "xaxis": "x",
         "y": {
          "bdata": "vrRiD9mV7D+k5NQi9tvoP8zt/c287uQ/356dP34d4D/zeBnQwXHeP4I8VaDiHdc/AABwSbLC1D/92I/QR9LSP4JviyORatI/As4aDDL5zD/jDXbXqMTGP3rEmJJ8RbQ/",
          "dtype": "f8"
         },
         "yaxis": "y"
        },
        {
         "legendgroup": "pig2human",
         "line": {
          "color": "#DDCB76",
          "dash": "dot"
         },
         "mode": "lines",
         "name": "pig2human",
         "showlegend": false,
         "text": "95 % CI mean: [0.39;0.45]",
         "type": "scatter",
         "x": [
          2.5,
          2.5
         ],
         "xaxis": "x",
         "y": [
          0.39425744560811415,
          0.4485513994248268
         ],
         "yaxis": "y"
        },
        {
         "legendgroup": "pig2human",
         "line": {
          "color": "#DDCB76"
         },
         "marker": {
          "size": 10,
          "symbol": "triangle-down-open"
         },
         "mode": "markers",
         "name": "pig2human",
         "showlegend": false,
         "text": "95 % CI mean: [0.39;0.45]",
         "type": "scatter",
         "x": [
          2.5
         ],
         "xaxis": "x",
         "y": [
          0.39425744560811415
         ],
         "yaxis": "y"
        },
        {
         "legendgroup": "pig2human",
         "line": {
          "color": "#DDCB76"
         },
         "marker": {
          "size": 10,
          "symbol": "triangle-up-open"
         },
         "mode": "markers",
         "name": "pig2human",
         "showlegend": false,
         "text": "95 % CI mean: [0.39;0.45]",
         "type": "scatter",
         "x": [
          2.5
         ],
         "xaxis": "x",
         "y": [
          0.4485513994248268
         ],
         "yaxis": "y"
        },
        {
         "legendgroup": "pig2human",
         "line": {
          "color": "#DDCB76",
          "dash": "solid"
         },
         "mode": "lines",
         "name": "pig2human",
         "showlegend": false,
         "text": "95 % CI median: [0.30;0.44]",
         "type": "scatter",
         "x": [
          2.7,
          2.7
         ],
         "xaxis": "x",
         "y": [
          0.2953747094038073,
          0.4368937968813427
         ],
         "yaxis": "y"
        },
        {
         "legendgroup": "pig2human",
         "line": {
          "color": "#DDCB76"
         },
         "marker": {
          "size": 10,
          "symbol": "triangle-down"
         },
         "mode": "markers",
         "name": "pig2human",
         "showlegend": false,
         "text": "95 % CI median: [0.30;0.44]",
         "type": "scatter",
         "x": [
          2.7
         ],
         "xaxis": "x",
         "y": [
          0.2953747094038073
         ],
         "yaxis": "y"
        },
        {
         "legendgroup": "pig2human",
         "line": {
          "color": "#DDCB76"
         },
         "marker": {
          "size": 10,
          "symbol": "triangle-up"
         },
         "mode": "markers",
         "name": "pig2human",
         "showlegend": false,
         "text": "95 % CI median: [0.30;0.44]",
         "type": "scatter",
         "x": [
          2.7
         ],
         "xaxis": "x",
         "y": [
          0.4368937968813427
         ],
         "yaxis": "y"
        },
        {
         "legend": "legend",
         "marker": {
          "color": "gray",
          "line": {
           "color": "black",
           "width": 1
          },
          "size": 9,
          "symbol": "circle"
         },
         "mode": "markers",
         "name": "stomach",
         "showlegend": false,
         "type": "scatter",
         "x": [
          null
         ],
         "xaxis": "x2",
         "y": [
          null
         ],
         "yaxis": "y2"
        },
        {
         "legend": "legend",
         "marker": {
          "color": "gray",
          "line": {
           "color": "black",
           "width": 1
          },
          "size": 9,
          "symbol": "square"
         },
         "mode": "markers",
         "name": "small_bowel",
         "showlegend": false,
         "type": "scatter",
         "x": [
          null
         ],
         "xaxis": "x2",
         "y": [
          null
         ],
         "yaxis": "y2"
        },
        {
         "legend": "legend",
         "marker": {
          "color": "gray",
          "line": {
           "color": "black",
           "width": 1
          },
          "size": 9,
          "symbol": "diamond"
         },
         "mode": "markers",
         "name": "colon",
         "showlegend": false,
         "type": "scatter",
         "x": [
          null
         ],
         "xaxis": "x2",
         "y": [
          null
         ],
         "yaxis": "y2"
        },
        {
         "legend": "legend",
         "marker": {
          "color": "gray",
          "line": {
           "color": "black",
           "width": 1
          },
          "size": 9,
          "symbol": "cross"
         },
         "mode": "markers",
         "name": "liver",
         "showlegend": false,
         "type": "scatter",
         "x": [
          null
         ],
         "xaxis": "x2",
         "y": [
          null
         ],
         "yaxis": "y2"
        },
        {
         "legend": "legend",
         "marker": {
          "color": "gray",
          "line": {
           "color": "black",
           "width": 1
          },
          "size": 9,
          "symbol": "x"
         },
         "mode": "markers",
         "name": "pancreas",
         "showlegend": false,
         "type": "scatter",
         "x": [
          null
         ],
         "xaxis": "x2",
         "y": [
          null
         ],
         "yaxis": "y2"
        },
        {
         "legend": "legend",
         "marker": {
          "color": "gray",
          "line": {
           "color": "black",
           "width": 1
          },
          "size": 9,
          "symbol": "triangle-up"
         },
         "mode": "markers",
         "name": "kidney",
         "showlegend": false,
         "type": "scatter",
         "x": [
          null
         ],
         "xaxis": "x2",
         "y": [
          null
         ],
         "yaxis": "y2"
        },
        {
         "legend": "legend",
         "marker": {
          "color": "gray",
          "line": {
           "color": "black",
           "width": 1
          },
          "size": 9,
          "symbol": "triangle-down"
         },
         "mode": "markers",
         "name": "spleen",
         "showlegend": false,
         "type": "scatter",
         "x": [
          null
         ],
         "xaxis": "x2",
         "y": [
          null
         ],
         "yaxis": "y2"
        },
        {
         "legend": "legend",
         "marker": {
          "color": "gray",
          "line": {
           "color": "black",
           "width": 1
          },
          "size": 9,
          "symbol": "triangle-left"
         },
         "mode": "markers",
         "name": "omentum",
         "showlegend": false,
         "type": "scatter",
         "x": [
          null
         ],
         "xaxis": "x2",
         "y": [
          null
         ],
         "yaxis": "y2"
        },
        {
         "legend": "legend",
         "marker": {
          "color": "gray",
          "line": {
           "color": "black",
           "width": 1
          },
          "size": 9,
          "symbol": "triangle-right"
         },
         "mode": "markers",
         "name": "lung",
         "showlegend": false,
         "type": "scatter",
         "x": [
          null
         ],
         "xaxis": "x2",
         "y": [
          null
         ],
         "yaxis": "y2"
        },
        {
         "legend": "legend",
         "marker": {
          "color": "gray",
          "line": {
           "color": "black",
           "width": 1
          },
          "size": 9,
          "symbol": "star"
         },
         "mode": "markers",
         "name": "skin",
         "showlegend": false,
         "type": "scatter",
         "x": [
          null
         ],
         "xaxis": "x2",
         "y": [
          null
         ],
         "yaxis": "y2"
        },
        {
         "legend": "legend",
         "marker": {
          "color": "gray",
          "line": {
           "color": "black",
           "width": 1
          },
          "size": 9,
          "symbol": "diamond-wide"
         },
         "mode": "markers",
         "name": "peritoneum",
         "showlegend": false,
         "type": "scatter",
         "x": [
          null
         ],
         "xaxis": "x2",
         "y": [
          null
         ],
         "yaxis": "y2"
        },
        {
         "legend": "legend",
         "marker": {
          "color": "gray",
          "line": {
           "color": "black",
           "width": 1
          },
          "size": 9,
          "symbol": "diamond-tall"
         },
         "mode": "markers",
         "name": "background",
         "showlegend": false,
         "type": "scatter",
         "x": [
          null
         ],
         "xaxis": "x2",
         "y": [
          null
         ],
         "yaxis": "y2"
        },
        {
         "legend": "legend",
         "legendgroup": "rat2rat",
         "marker": {
          "color": "#89CCED",
          "line": {
           "color": "black",
           "width": 1
          },
          "size": 9,
          "symbol": "triangle-right"
         },
         "mode": "markers",
         "name": "lung",
         "showlegend": false,
         "type": "scatter",
         "x": [
          0
         ],
         "xaxis": "x2",
         "y": [
          0.9978476732205122
         ],
         "yaxis": "y2"
        },
        {
         "legend": "legend",
         "legendgroup": "rat2rat",
         "marker": {
          "color": "#89CCED",
          "line": {
           "color": "black",
           "width": 1
          },
          "size": 9,
          "symbol": "diamond-tall"
         },
         "mode": "markers",
         "name": "background",
         "showlegend": false,
         "type": "scatter",
         "x": [
          0.09333333333333334
         ],
         "xaxis": "x2",
         "y": [
          0.9858846656324947
         ],
         "yaxis": "y2"
        },
        {
         "legend": "legend",
         "legendgroup": "rat2rat",
         "marker": {
          "color": "#89CCED",
          "line": {
           "color": "black",
           "width": 1
          },
          "size": 9,
          "symbol": "diamond-wide"
         },
         "mode": "markers",
         "name": "peritoneum",
         "showlegend": false,
         "type": "scatter",
         "x": [
          0.18666666666666668
         ],
         "xaxis": "x2",
         "y": [
          0.9810102349823262
         ],
         "yaxis": "y2"
        },
        {
         "legend": "legend",
         "legendgroup": "rat2rat",
         "marker": {
          "color": "#89CCED",
          "line": {
           "color": "black",
           "width": 1
          },
          "size": 9,
          "symbol": "triangle-up"
         },
         "mode": "markers",
         "name": "kidney",
         "showlegend": false,
         "type": "scatter",
         "x": [
          0.28
         ],
         "xaxis": "x2",
         "y": [
          0.9567324719149551
         ],
         "yaxis": "y2"
        },
        {
         "legend": "legend",
         "legendgroup": "rat2rat",
         "marker": {
          "color": "#89CCED",
          "line": {
           "color": "black",
           "width": 1
          },
          "size": 9,
          "symbol": "square"
         },
         "mode": "markers",
         "name": "small_bowel",
         "showlegend": false,
         "type": "scatter",
         "x": [
          0
         ],
         "xaxis": "x2",
         "y": [
          0.9511513583184125
         ],
         "yaxis": "y2"
        },
        {
         "legend": "legend",
         "legendgroup": "rat2rat",
         "marker": {
          "color": "#89CCED",
          "line": {
           "color": "black",
           "width": 1
          },
          "size": 9,
          "symbol": "cross"
         },
         "mode": "markers",
         "name": "liver",
         "showlegend": false,
         "type": "scatter",
         "x": [
          0.09333333333333334
         ],
         "xaxis": "x2",
         "y": [
          0.9309010537471407
         ],
         "yaxis": "y2"
        },
        {
         "legend": "legend",
         "legendgroup": "rat2rat",
         "marker": {
          "color": "#89CCED",
          "line": {
           "color": "black",
           "width": 1
          },
          "size": 9,
          "symbol": "star"
         },
         "mode": "markers",
         "name": "skin",
         "showlegend": false,
         "type": "scatter",
         "x": [
          0.18666666666666668
         ],
         "xaxis": "x2",
         "y": [
          0.9249522360546838
         ],
         "yaxis": "y2"
        },
        {
         "legend": "legend",
         "legendgroup": "rat2rat",
         "marker": {
          "color": "#89CCED",
          "line": {
           "color": "black",
           "width": 1
          },
          "size": 9,
          "symbol": "triangle-down"
         },
         "mode": "markers",
         "name": "spleen",
         "showlegend": false,
         "type": "scatter",
         "x": [
          0.28
         ],
         "xaxis": "x2",
         "y": [
          0.9073117357245197
         ],
         "yaxis": "y2"
        },
        {
         "legend": "legend",
         "legendgroup": "rat2rat",
         "marker": {
          "color": "#89CCED",
          "line": {
           "color": "black",
           "width": 1
          },
          "size": 9,
          "symbol": "circle"
         },
         "mode": "markers",
         "name": "stomach",
         "showlegend": false,
         "type": "scatter",
         "x": [
          0
         ],
         "xaxis": "x2",
         "y": [
          0.8674571774398477
         ],
         "yaxis": "y2"
        },
        {
         "legend": "legend",
         "legendgroup": "rat2rat",
         "marker": {
          "color": "#89CCED",
          "line": {
           "color": "black",
           "width": 1
          },
          "size": 9,
          "symbol": "triangle-left"
         },
         "mode": "markers",
         "name": "omentum",
         "showlegend": false,
         "type": "scatter",
         "x": [
          0.09333333333333334
         ],
         "xaxis": "x2",
         "y": [
          0.8335013497440195
         ],
         "yaxis": "y2"
        },
        {
         "legend": "legend",
         "legendgroup": "rat2rat",
         "marker": {
          "color": "#89CCED",
          "line": {
           "color": "black",
           "width": 1
          },
          "size": 9,
          "symbol": "diamond"
         },
         "mode": "markers",
         "name": "colon",
         "showlegend": false,
         "type": "scatter",
         "x": [
          0.18666666666666668
         ],
         "xaxis": "x2",
         "y": [
          0.8043994586382884
         ],
         "yaxis": "y2"
        },
        {
         "legend": "legend",
         "legendgroup": "rat2rat",
         "marker": {
          "color": "#89CCED",
          "line": {
           "color": "black",
           "width": 1
          },
          "size": 9,
          "symbol": "x"
         },
         "mode": "markers",
         "name": "pancreas",
         "showlegend": false,
         "type": "scatter",
         "x": [
          0.28
         ],
         "xaxis": "x2",
         "y": [
          0.7003949184994122
         ],
         "yaxis": "y2"
        },
        {
         "boxmean": true,
         "boxpoints": false,
         "legend": "legend2",
         "legendgroup": "rat2rat",
         "line": {
          "color": "#89CCED"
         },
         "name": "rat2rat",
         "showlegend": false,
         "type": "box",
         "x": [
          0.6,
          0.6,
          0.6,
          0.6,
          0.6,
          0.6,
          0.6,
          0.6,
          0.6,
          0.6,
          0.6,
          0.6
         ],
         "xaxis": "x2",
         "y": {
          "bdata": "vuVbPl7u7z9qn5D/XYzvP65KiZNvZO8/y6u8ao2d7j//wDD51G/uPzL9tAHxye0/KvGGbjWZ7T+C1wafsgjtP5Eb+Y01wus/R1HKBQus6j+RsPjuo73pP3uqp5qiaeY/",
          "dtype": "f8"
         },
         "yaxis": "y2"
        },
        {
         "legendgroup": "rat2rat",
         "line": {
          "color": "#89CCED",
          "dash": "dot"
         },
         "mode": "lines",
         "name": "rat2rat",
         "showlegend": false,
         "text": "95 % CI mean: [0.89;0.92]",
         "type": "scatter",
         "x": [
          0.5,
          0.5
         ],
         "xaxis": "x2",
         "y": [
          0.8918649145052489,
          0.9152768958560605
         ],
         "yaxis": "y2"
        },
        {
         "legendgroup": "rat2rat",
         "line": {
          "color": "#89CCED"
         },
         "marker": {
          "size": 10,
          "symbol": "triangle-down-open"
         },
         "mode": "markers",
         "name": "rat2rat",
         "showlegend": false,
         "text": "95 % CI mean: [0.89;0.92]",
         "type": "scatter",
         "x": [
          0.5
         ],
         "xaxis": "x2",
         "y": [
          0.8918649145052489
         ],
         "yaxis": "y2"
        },
        {
         "legendgroup": "rat2rat",
         "line": {
          "color": "#89CCED"
         },
         "marker": {
          "size": 10,
          "symbol": "triangle-up-open"
         },
         "mode": "markers",
         "name": "rat2rat",
         "showlegend": false,
         "text": "95 % CI mean: [0.89;0.92]",
         "type": "scatter",
         "x": [
          0.5
         ],
         "xaxis": "x2",
         "y": [
          0.9152768958560605
         ],
         "yaxis": "y2"
        },
        {
         "legendgroup": "rat2rat",
         "line": {
          "color": "#89CCED",
          "dash": "solid"
         },
         "mode": "lines",
         "name": "rat2rat",
         "showlegend": false,
         "text": "95 % CI median: [0.91;0.94]",
         "type": "scatter",
         "x": [
          0.7,
          0.7
         ],
         "xaxis": "x2",
         "y": [
          0.9142726882582596,
          0.9399945989958348
         ],
         "yaxis": "y2"
        },
        {
         "legendgroup": "rat2rat",
         "line": {
          "color": "#89CCED"
         },
         "marker": {
          "size": 10,
          "symbol": "triangle-down"
         },
         "mode": "markers",
         "name": "rat2rat",
         "showlegend": false,
         "text": "95 % CI median: [0.91;0.94]",
         "type": "scatter",
         "x": [
          0.7
         ],
         "xaxis": "x2",
         "y": [
          0.9142726882582596
         ],
         "yaxis": "y2"
        },
        {
         "legendgroup": "rat2rat",
         "line": {
          "color": "#89CCED"
         },
         "marker": {
          "size": 10,
          "symbol": "triangle-up"
         },
         "mode": "markers",
         "name": "rat2rat",
         "showlegend": false,
         "text": "95 % CI median: [0.91;0.94]",
         "type": "scatter",
         "x": [
          0.7
         ],
         "xaxis": "x2",
         "y": [
          0.9399945989958348
         ],
         "yaxis": "y2"
        },
        {
         "legend": "legend",
         "legendgroup": "rat2pig",
         "marker": {
          "color": "#44AA99",
          "line": {
           "color": "black",
           "width": 1
          },
          "size": 9,
          "symbol": "cross"
         },
         "mode": "markers",
         "name": "liver",
         "showlegend": false,
         "type": "scatter",
         "x": [
          1
         ],
         "xaxis": "x2",
         "y": [
          0.8952743374050455
         ],
         "yaxis": "y2"
        },
        {
         "legend": "legend",
         "legendgroup": "rat2pig",
         "marker": {
          "color": "#44AA99",
          "line": {
           "color": "black",
           "width": 1
          },
          "size": 9,
          "symbol": "diamond-tall"
         },
         "mode": "markers",
         "name": "background",
         "showlegend": false,
         "type": "scatter",
         "x": [
          1.0933333333333333
         ],
         "xaxis": "x2",
         "y": [
          0.7952098129038693
         ],
         "yaxis": "y2"
        },
        {
         "legend": "legend",
         "legendgroup": "rat2pig",
         "marker": {
          "color": "#44AA99",
          "line": {
           "color": "black",
           "width": 1
          },
          "size": 9,
          "symbol": "square"
         },
         "mode": "markers",
         "name": "small_bowel",
         "showlegend": false,
         "type": "scatter",
         "x": [
          1.1866666666666668
         ],
         "xaxis": "x2",
         "y": [
          0.7662973548624648
         ],
         "yaxis": "y2"
        },
        {
         "legend": "legend",
         "legendgroup": "rat2pig",
         "marker": {
          "color": "#44AA99",
          "line": {
           "color": "black",
           "width": 1
          },
          "size": 9,
          "symbol": "triangle-right"
         },
         "mode": "markers",
         "name": "lung",
         "showlegend": false,
         "type": "scatter",
         "x": [
          1.28
         ],
         "xaxis": "x2",
         "y": [
          0.6009666756177561
         ],
         "yaxis": "y2"
        },
        {
         "legend": "legend",
         "legendgroup": "rat2pig",
         "marker": {
          "color": "#44AA99",
          "line": {
           "color": "black",
           "width": 1
          },
          "size": 9,
          "symbol": "triangle-down"
         },
         "mode": "markers",
         "name": "spleen",
         "showlegend": false,
         "type": "scatter",
         "x": [
          1
         ],
         "xaxis": "x2",
         "y": [
          0.5770907605777813
         ],
         "yaxis": "y2"
        },
        {
         "legend": "legend",
         "legendgroup": "rat2pig",
         "marker": {
          "color": "#44AA99",
          "line": {
           "color": "black",
           "width": 1
          },
          "size": 9,
          "symbol": "star"
         },
         "mode": "markers",
         "name": "skin",
         "showlegend": false,
         "type": "scatter",
         "x": [
          1.0933333333333333
         ],
         "xaxis": "x2",
         "y": [
          0.4558946143649667
         ],
         "yaxis": "y2"
        },
        {
         "legend": "legend",
         "legendgroup": "rat2pig",
         "marker": {
          "color": "#44AA99",
          "line": {
           "color": "black",
           "width": 1
          },
          "size": 9,
          "symbol": "x"
         },
         "mode": "markers",
         "name": "pancreas",
         "showlegend": false,
         "type": "scatter",
         "x": [
          1.1866666666666668
         ],
         "xaxis": "x2",
         "y": [
          0.44233133063429875
         ],
         "yaxis": "y2"
        },
        {
         "legend": "legend",
         "legendgroup": "rat2pig",
         "marker": {
          "color": "#44AA99",
          "line": {
           "color": "black",
           "width": 1
          },
          "size": 9,
          "symbol": "diamond"
         },
         "mode": "markers",
         "name": "colon",
         "showlegend": false,
         "type": "scatter",
         "x": [
          1.28
         ],
         "xaxis": "x2",
         "y": [
          0.40624935752610014
         ],
         "yaxis": "y2"
        },
        {
         "legend": "legend",
         "legendgroup": "rat2pig",
         "marker": {
          "color": "#44AA99",
          "line": {
           "color": "black",
           "width": 1
          },
          "size": 9,
          "symbol": "diamond-wide"
         },
         "mode": "markers",
         "name": "peritoneum",
         "showlegend": false,
         "type": "scatter",
         "x": [
          1
         ],
         "xaxis": "x2",
         "y": [
          0.3285557149485781
         ],
         "yaxis": "y2"
        },
        {
         "legend": "legend",
         "legendgroup": "rat2pig",
         "marker": {
          "color": "#44AA99",
          "line": {
           "color": "black",
           "width": 1
          },
          "size": 9,
          "symbol": "triangle-left"
         },
         "mode": "markers",
         "name": "omentum",
         "showlegend": false,
         "type": "scatter",
         "x": [
          1.0933333333333333
         ],
         "xaxis": "x2",
         "y": [
          0.20908237072050517
         ],
         "yaxis": "y2"
        },
        {
         "legend": "legend",
         "legendgroup": "rat2pig",
         "marker": {
          "color": "#44AA99",
          "line": {
           "color": "black",
           "width": 1
          },
          "size": 9,
          "symbol": "circle"
         },
         "mode": "markers",
         "name": "stomach",
         "showlegend": false,
         "type": "scatter",
         "x": [
          1.1866666666666668
         ],
         "xaxis": "x2",
         "y": [
          0.05707444316444462
         ],
         "yaxis": "y2"
        },
        {
         "legend": "legend",
         "legendgroup": "rat2pig",
         "marker": {
          "color": "#44AA99",
          "line": {
           "color": "black",
           "width": 1
          },
          "size": 9,
          "symbol": "triangle-up"
         },
         "mode": "markers",
         "name": "kidney",
         "showlegend": false,
         "type": "scatter",
         "x": [
          1.28
         ],
         "xaxis": "x2",
         "y": [
          0.012441362844159207
         ],
         "yaxis": "y2"
        },
        {
         "boxmean": true,
         "boxpoints": false,
         "legend": "legend2",
         "legendgroup": "rat2pig",
         "line": {
          "color": "#44AA99"
         },
         "name": "rat2pig",
         "showlegend": false,
         "type": "box",
         "x": [
          1.6,
          1.6,
          1.6,
          1.6,
          1.6,
          1.6,
          1.6,
          1.6,
          1.6,
          1.6,
          1.6,
          1.6
         ],
         "xaxis": "x2",
         "y": {
          "bdata": "pUkDXham7D83LHzZW3LpP7KoxAeCheg/iHM4dx474z+4K/AKh3fiPyCvx5pgLd0/roLEEShP3D+AHiZO/f/ZP/2Np4wOB9U/eBU1DDbDyj9rS6iF3DitP0VERHTbeok/",
          "dtype": "f8"
         },
         "yaxis": "y2"
        },
        {
         "legendgroup": "rat2pig",
         "line": {
          "color": "#44AA99",
          "dash": "dot"
         },
         "mode": "lines",
         "name": "rat2pig",
         "showlegend": false,
         "text": "95 % CI mean: [0.43;0.49]",
         "type": "scatter",
         "x": [
          1.5,
          1.5
         ],
         "xaxis": "x2",
         "y": [
          0.432766970516469,
          0.4899685323531569
         ],
         "yaxis": "y2"
        },
        {
         "legendgroup": "rat2pig",
         "line": {
          "color": "#44AA99"
         },
         "marker": {
          "size": 10,
          "symbol": "triangle-down-open"
         },
         "mode": "markers",
         "name": "rat2pig",
         "showlegend": false,
         "text": "95 % CI mean: [0.43;0.49]",
         "type": "scatter",
         "x": [
          1.5
         ],
         "xaxis": "x2",
         "y": [
          0.432766970516469
         ],
         "yaxis": "y2"
        },
        {
         "legendgroup": "rat2pig",
         "line": {
          "color": "#44AA99"
         },
         "marker": {
          "size": 10,
          "symbol": "triangle-up-open"
         },
         "mode": "markers",
         "name": "rat2pig",
         "showlegend": false,
         "text": "95 % CI mean: [0.43;0.49]",
         "type": "scatter",
         "x": [
          1.5
         ],
         "xaxis": "x2",
         "y": [
          0.4899685323531569
         ],
         "yaxis": "y2"
        },
        {
         "legendgroup": "rat2pig",
         "line": {
          "color": "#44AA99",
          "dash": "solid"
         },
         "mode": "lines",
         "name": "rat2pig",
         "showlegend": false,
         "text": "95 % CI median: [0.39;0.52]",
         "type": "scatter",
         "x": [
          1.7,
          1.7
         ],
         "xaxis": "x2",
         "y": [
          0.38923346290279276,
          0.5186418186368668
         ],
         "yaxis": "y2"
        },
        {
         "legendgroup": "rat2pig",
         "line": {
          "color": "#44AA99"
         },
         "marker": {
          "size": 10,
          "symbol": "triangle-down"
         },
         "mode": "markers",
         "name": "rat2pig",
         "showlegend": false,
         "text": "95 % CI median: [0.39;0.52]",
         "type": "scatter",
         "x": [
          1.7
         ],
         "xaxis": "x2",
         "y": [
          0.38923346290279276
         ],
         "yaxis": "y2"
        },
        {
         "legendgroup": "rat2pig",
         "line": {
          "color": "#44AA99"
         },
         "marker": {
          "size": 10,
          "symbol": "triangle-up"
         },
         "mode": "markers",
         "name": "rat2pig",
         "showlegend": false,
         "text": "95 % CI median: [0.39;0.52]",
         "type": "scatter",
         "x": [
          1.7
         ],
         "xaxis": "x2",
         "y": [
          0.5186418186368668
         ],
         "yaxis": "y2"
        },
        {
         "legend": "legend",
         "legendgroup": "rat2human",
         "marker": {
          "color": "#DDCB76",
          "line": {
           "color": "black",
           "width": 1
          },
          "size": 9,
          "symbol": "diamond-tall"
         },
         "mode": "markers",
         "name": "background",
         "showlegend": false,
         "type": "scatter",
         "x": [
          2
         ],
         "xaxis": "x2",
         "y": [
          0.8296489318365103
         ],
         "yaxis": "y2"
        },
        {
         "legend": "legend",
         "legendgroup": "rat2human",
         "marker": {
          "color": "#DDCB76",
          "line": {
           "color": "black",
           "width": 1
          },
          "size": 9,
          "symbol": "triangle-left"
         },
         "mode": "markers",
         "name": "omentum",
         "showlegend": false,
         "type": "scatter",
         "x": [
          2.0933333333333333
         ],
         "xaxis": "x2",
         "y": [
          0.61524713760703
         ],
         "yaxis": "y2"
        },
        {
         "legend": "legend",
         "legendgroup": "rat2human",
         "marker": {
          "color": "#DDCB76",
          "line": {
           "color": "black",
           "width": 1
          },
          "size": 9,
          "symbol": "triangle-down"
         },
         "mode": "markers",
         "name": "spleen",
         "showlegend": false,
         "type": "scatter",
         "x": [
          2.1866666666666665
         ],
         "xaxis": "x2",
         "y": [
          0.6122798236707847
         ],
         "yaxis": "y2"
        },
        {
         "legend": "legend",
         "legendgroup": "rat2human",
         "marker": {
          "color": "#DDCB76",
          "line": {
           "color": "black",
           "width": 1
          },
          "size": 9,
          "symbol": "cross"
         },
         "mode": "markers",
         "name": "liver",
         "showlegend": false,
         "type": "scatter",
         "x": [
          2.2800000000000002
         ],
         "xaxis": "x2",
         "y": [
          0.5155703422742598
         ],
         "yaxis": "y2"
        },
        {
         "legend": "legend",
         "legendgroup": "rat2human",
         "marker": {
          "color": "#DDCB76",
          "line": {
           "color": "black",
           "width": 1
          },
          "size": 9,
          "symbol": "star"
         },
         "mode": "markers",
         "name": "skin",
         "showlegend": false,
         "type": "scatter",
         "x": [
          2
         ],
         "xaxis": "x2",
         "y": [
          0.512954025786636
         ],
         "yaxis": "y2"
        },
        {
         "legend": "legend",
         "legendgroup": "rat2human",
         "marker": {
          "color": "#DDCB76",
          "line": {
           "color": "black",
           "width": 1
          },
          "size": 9,
          "symbol": "square"
         },
         "mode": "markers",
         "name": "small_bowel",
         "showlegend": false,
         "type": "scatter",
         "x": [
          2.0933333333333333
         ],
         "xaxis": "x2",
         "y": [
          0.4713893457912466
         ],
         "yaxis": "y2"
        },
        {
         "legend": "legend",
         "legendgroup": "rat2human",
         "marker": {
          "color": "#DDCB76",
          "line": {
           "color": "black",
           "width": 1
          },
          "size": 9,
          "symbol": "triangle-right"
         },
         "mode": "markers",
         "name": "lung",
         "showlegend": false,
         "type": "scatter",
         "x": [
          2.1866666666666665
         ],
         "xaxis": "x2",
         "y": [
          0.3391012593937436
         ],
         "yaxis": "y2"
        },
        {
         "legend": "legend",
         "legendgroup": "rat2human",
         "marker": {
          "color": "#DDCB76",
          "line": {
           "color": "black",
           "width": 1
          },
          "size": 9,
          "symbol": "diamond-wide"
         },
         "mode": "markers",
         "name": "peritoneum",
         "showlegend": false,
         "type": "scatter",
         "x": [
          2.2800000000000002
         ],
         "xaxis": "x2",
         "y": [
          0.16147714663675153
         ],
         "yaxis": "y2"
        },
        {
         "legend": "legend",
         "legendgroup": "rat2human",
         "marker": {
          "color": "#DDCB76",
          "line": {
           "color": "black",
           "width": 1
          },
          "size": 9,
          "symbol": "circle"
         },
         "mode": "markers",
         "name": "stomach",
         "showlegend": false,
         "type": "scatter",
         "x": [
          2
         ],
         "xaxis": "x2",
         "y": [
          0.015840095247086548
         ],
         "yaxis": "y2"
        },
        {
         "legend": "legend",
         "legendgroup": "rat2human",
         "marker": {
          "color": "#DDCB76",
          "line": {
           "color": "black",
           "width": 1
          },
          "size": 9,
          "symbol": "x"
         },
         "mode": "markers",
         "name": "pancreas",
         "showlegend": false,
         "type": "scatter",
         "x": [
          2.0933333333333333
         ],
         "xaxis": "x2",
         "y": [
          0.006822508777968767
         ],
         "yaxis": "y2"
        },
        {
         "legend": "legend",
         "legendgroup": "rat2human",
         "marker": {
          "color": "#DDCB76",
          "line": {
           "color": "black",
           "width": 1
          },
          "size": 9,
          "symbol": "diamond"
         },
         "mode": "markers",
         "name": "colon",
         "showlegend": false,
         "type": "scatter",
         "x": [
          2.1866666666666665
         ],
         "xaxis": "x2",
         "y": [
          0.0029688210309299994
         ],
         "yaxis": "y2"
        },
        {
         "legend": "legend",
         "legendgroup": "rat2human",
         "marker": {
          "color": "#DDCB76",
          "line": {
           "color": "black",
           "width": 1
          },
          "size": 9,
          "symbol": "triangle-up"
         },
         "mode": "markers",
         "name": "kidney",
         "showlegend": false,
         "type": "scatter",
         "x": [
          2.2800000000000002
         ],
         "xaxis": "x2",
         "y": [
          0.0001580137381097302
         ],
         "yaxis": "y2"
        },
        {
         "boxmean": true,
         "boxpoints": false,
         "legend": "legend2",
         "legendgroup": "rat2human",
         "line": {
          "color": "#DDCB76"
         },
         "name": "rat2human",
         "showlegend": false,
         "type": "box",
         "x": [
          2.6,
          2.6,
          2.6,
          2.6,
          2.6,
          2.6,
          2.6,
          2.6,
          2.6,
          2.6,
          2.6,
          2.6
         ],
         "xaxis": "x2",
         "y": {
          "bdata": "zMWs6nuM6j+RWt/DGrDjP1ZVVdvLl+M/B2DbX41/4D9TXaOPHmrgP6DM9jc+K94/BjrIxNWz1T9pme17SKvEPwkBNcxiOJA/FLA/Qevxez8TZImnEVJoP83MzKwPtiQ/",
          "dtype": "f8"
         },
         "yaxis": "y2"
        },
        {
         "legendgroup": "rat2human",
         "line": {
          "color": "#DDCB76",
          "dash": "dot"
         },
         "mode": "lines",
         "name": "rat2human",
         "showlegend": false,
         "text": "95 % CI mean: [0.32;0.36]",
         "type": "scatter",
         "x": [
          2.5,
          2.5
         ],
         "xaxis": "x2",
         "y": [
          0.3201641600615974,
          0.36111565292421904
         ],
         "yaxis": "y2"
        },
        {
         "legendgroup": "rat2human",
         "line": {
          "color": "#DDCB76"
         },
         "marker": {
          "size": 10,
          "symbol": "triangle-down-open"
         },
         "mode": "markers",
         "name": "rat2human",
         "showlegend": false,
         "text": "95 % CI mean: [0.32;0.36]",
         "type": "scatter",
         "x": [
          2.5
         ],
         "xaxis": "x2",
         "y": [
          0.3201641600615974
         ],
         "yaxis": "y2"
        },
        {
         "legendgroup": "rat2human",
         "line": {
          "color": "#DDCB76"
         },
         "marker": {
          "size": 10,
          "symbol": "triangle-up-open"
         },
         "mode": "markers",
         "name": "rat2human",
         "showlegend": false,
         "text": "95 % CI mean: [0.32;0.36]",
         "type": "scatter",
         "x": [
          2.5
         ],
         "xaxis": "x2",
         "y": [
          0.36111565292421904
         ],
         "yaxis": "y2"
        },
        {
         "legendgroup": "rat2human",
         "line": {
          "color": "#DDCB76",
          "dash": "solid"
         },
         "mode": "lines",
         "name": "rat2human",
         "showlegend": false,
         "text": "95 % CI median: [0.33;0.47]",
         "type": "scatter",
         "x": [
          2.7,
          2.7
         ],
         "xaxis": "x2",
         "y": [
          0.32918650709705116,
          0.47494090415862944
         ],
         "yaxis": "y2"
        },
        {
         "legendgroup": "rat2human",
         "line": {
          "color": "#DDCB76"
         },
         "marker": {
          "size": 10,
          "symbol": "triangle-down"
         },
         "mode": "markers",
         "name": "rat2human",
         "showlegend": false,
         "text": "95 % CI median: [0.33;0.47]",
         "type": "scatter",
         "x": [
          2.7
         ],
         "xaxis": "x2",
         "y": [
          0.32918650709705116
         ],
         "yaxis": "y2"
        },
        {
         "legendgroup": "rat2human",
         "line": {
          "color": "#DDCB76"
         },
         "marker": {
          "size": 10,
          "symbol": "triangle-up"
         },
         "mode": "markers",
         "name": "rat2human",
         "showlegend": false,
         "text": "95 % CI median: [0.33;0.47]",
         "type": "scatter",
         "x": [
          2.7
         ],
         "xaxis": "x2",
         "y": [
          0.47494090415862944
         ],
         "yaxis": "y2"
        },
        {
         "legend": "legend",
         "marker": {
          "color": "gray",
          "line": {
           "color": "black",
           "width": 1
          },
          "size": 9,
          "symbol": "circle"
         },
         "mode": "markers",
         "name": "stomach",
         "showlegend": false,
         "type": "scatter",
         "x": [
          null
         ],
         "xaxis": "x3",
         "y": [
          null
         ],
         "yaxis": "y3"
        },
        {
         "legend": "legend",
         "marker": {
          "color": "gray",
          "line": {
           "color": "black",
           "width": 1
          },
          "size": 9,
          "symbol": "square"
         },
         "mode": "markers",
         "name": "small_bowel",
         "showlegend": false,
         "type": "scatter",
         "x": [
          null
         ],
         "xaxis": "x3",
         "y": [
          null
         ],
         "yaxis": "y3"
        },
        {
         "legend": "legend",
         "marker": {
          "color": "gray",
          "line": {
           "color": "black",
           "width": 1
          },
          "size": 9,
          "symbol": "diamond"
         },
         "mode": "markers",
         "name": "colon",
         "showlegend": false,
         "type": "scatter",
         "x": [
          null
         ],
         "xaxis": "x3",
         "y": [
          null
         ],
         "yaxis": "y3"
        },
        {
         "legend": "legend",
         "marker": {
          "color": "gray",
          "line": {
           "color": "black",
           "width": 1
          },
          "size": 9,
          "symbol": "cross"
         },
         "mode": "markers",
         "name": "liver",
         "showlegend": false,
         "type": "scatter",
         "x": [
          null
         ],
         "xaxis": "x3",
         "y": [
          null
         ],
         "yaxis": "y3"
        },
        {
         "legend": "legend",
         "marker": {
          "color": "gray",
          "line": {
           "color": "black",
           "width": 1
          },
          "size": 9,
          "symbol": "x"
         },
         "mode": "markers",
         "name": "pancreas",
         "showlegend": false,
         "type": "scatter",
         "x": [
          null
         ],
         "xaxis": "x3",
         "y": [
          null
         ],
         "yaxis": "y3"
        },
        {
         "legend": "legend",
         "marker": {
          "color": "gray",
          "line": {
           "color": "black",
           "width": 1
          },
          "size": 9,
          "symbol": "triangle-up"
         },
         "mode": "markers",
         "name": "kidney",
         "showlegend": false,
         "type": "scatter",
         "x": [
          null
         ],
         "xaxis": "x3",
         "y": [
          null
         ],
         "yaxis": "y3"
        },
        {
         "legend": "legend",
         "marker": {
          "color": "gray",
          "line": {
           "color": "black",
           "width": 1
          },
          "size": 9,
          "symbol": "triangle-down"
         },
         "mode": "markers",
         "name": "spleen",
         "showlegend": false,
         "type": "scatter",
         "x": [
          null
         ],
         "xaxis": "x3",
         "y": [
          null
         ],
         "yaxis": "y3"
        },
        {
         "legend": "legend",
         "marker": {
          "color": "gray",
          "line": {
           "color": "black",
           "width": 1
          },
          "size": 9,
          "symbol": "triangle-left"
         },
         "mode": "markers",
         "name": "omentum",
         "showlegend": false,
         "type": "scatter",
         "x": [
          null
         ],
         "xaxis": "x3",
         "y": [
          null
         ],
         "yaxis": "y3"
        },
        {
         "legend": "legend",
         "marker": {
          "color": "gray",
          "line": {
           "color": "black",
           "width": 1
          },
          "size": 9,
          "symbol": "triangle-right"
         },
         "mode": "markers",
         "name": "lung",
         "showlegend": false,
         "type": "scatter",
         "x": [
          null
         ],
         "xaxis": "x3",
         "y": [
          null
         ],
         "yaxis": "y3"
        },
        {
         "legend": "legend",
         "marker": {
          "color": "gray",
          "line": {
           "color": "black",
           "width": 1
          },
          "size": 9,
          "symbol": "star"
         },
         "mode": "markers",
         "name": "skin",
         "showlegend": false,
         "type": "scatter",
         "x": [
          null
         ],
         "xaxis": "x3",
         "y": [
          null
         ],
         "yaxis": "y3"
        },
        {
         "legend": "legend",
         "marker": {
          "color": "gray",
          "line": {
           "color": "black",
           "width": 1
          },
          "size": 9,
          "symbol": "diamond-wide"
         },
         "mode": "markers",
         "name": "peritoneum",
         "showlegend": false,
         "type": "scatter",
         "x": [
          null
         ],
         "xaxis": "x3",
         "y": [
          null
         ],
         "yaxis": "y3"
        },
        {
         "legend": "legend",
         "marker": {
          "color": "gray",
          "line": {
           "color": "black",
           "width": 1
          },
          "size": 9,
          "symbol": "diamond-tall"
         },
         "mode": "markers",
         "name": "background",
         "showlegend": false,
         "type": "scatter",
         "x": [
          null
         ],
         "xaxis": "x3",
         "y": [
          null
         ],
         "yaxis": "y3"
        },
        {
         "legend": "legend",
         "legendgroup": "human2human",
         "marker": {
          "color": "#DDCB76",
          "line": {
           "color": "black",
           "width": 1
          },
          "size": 9,
          "symbol": "diamond-tall"
         },
         "mode": "markers",
         "name": "background",
         "showlegend": false,
         "type": "scatter",
         "x": [
          0
         ],
         "xaxis": "x3",
         "y": [
          0.9855645417796852
         ],
         "yaxis": "y3"
        },
        {
         "legend": "legend",
         "legendgroup": "human2human",
         "marker": {
          "color": "#DDCB76",
          "line": {
           "color": "black",
           "width": 1
          },
          "size": 9,
          "symbol": "triangle-up"
         },
         "mode": "markers",
         "name": "kidney",
         "showlegend": false,
         "type": "scatter",
         "x": [
          0.09333333333333334
         ],
         "xaxis": "x3",
         "y": [
          0.9532011196307548
         ],
         "yaxis": "y3"
        },
        {
         "legend": "legend",
         "legendgroup": "human2human",
         "marker": {
          "color": "#DDCB76",
          "line": {
           "color": "black",
           "width": 1
          },
          "size": 9,
          "symbol": "cross"
         },
         "mode": "markers",
         "name": "liver",
         "showlegend": false,
         "type": "scatter",
         "x": [
          0.18666666666666668
         ],
         "xaxis": "x3",
         "y": [
          0.9370440226380674
         ],
         "yaxis": "y3"
        },
        {
         "legend": "legend",
         "legendgroup": "human2human",
         "marker": {
          "color": "#DDCB76",
          "line": {
           "color": "black",
           "width": 1
          },
          "size": 9,
          "symbol": "triangle-left"
         },
         "mode": "markers",
         "name": "omentum",
         "showlegend": false,
         "type": "scatter",
         "x": [
          0.28
         ],
         "xaxis": "x3",
         "y": [
          0.8857311668527781
         ],
         "yaxis": "y3"
        },
        {
         "legend": "legend",
         "legendgroup": "human2human",
         "marker": {
          "color": "#DDCB76",
          "line": {
           "color": "black",
           "width": 1
          },
          "size": 9,
          "symbol": "triangle-right"
         },
         "mode": "markers",
         "name": "lung",
         "showlegend": false,
         "type": "scatter",
         "x": [
          0
         ],
         "xaxis": "x3",
         "y": [
          0.8284061940511067
         ],
         "yaxis": "y3"
        },
        {
         "legend": "legend",
         "legendgroup": "human2human",
         "marker": {
          "color": "#DDCB76",
          "line": {
           "color": "black",
           "width": 1
          },
          "size": 9,
          "symbol": "star"
         },
         "mode": "markers",
         "name": "skin",
         "showlegend": false,
         "type": "scatter",
         "x": [
          0.09333333333333334
         ],
         "xaxis": "x3",
         "y": [
          0.8121815965635077
         ],
         "yaxis": "y3"
        },
        {
         "legend": "legend",
         "legendgroup": "human2human",
         "marker": {
          "color": "#DDCB76",
          "line": {
           "color": "black",
           "width": 1
          },
          "size": 9,
          "symbol": "square"
         },
         "mode": "markers",
         "name": "small_bowel",
         "showlegend": false,
         "type": "scatter",
         "x": [
          0.18666666666666668
         ],
         "xaxis": "x3",
         "y": [
          0.80655667146322
         ],
         "yaxis": "y3"
        },
        {
         "legend": "legend",
         "legendgroup": "human2human",
         "marker": {
          "color": "#DDCB76",
          "line": {
           "color": "black",
           "width": 1
          },
          "size": 9,
          "symbol": "circle"
         },
         "mode": "markers",
         "name": "stomach",
         "showlegend": false,
         "type": "scatter",
         "x": [
          0.28
         ],
         "xaxis": "x3",
         "y": [
          0.7721602228902018
         ],
         "yaxis": "y3"
        },
        {
         "legend": "legend",
         "legendgroup": "human2human",
         "marker": {
          "color": "#DDCB76",
          "line": {
           "color": "black",
           "width": 1
          },
          "size": 9,
          "symbol": "diamond"
         },
         "mode": "markers",
         "name": "colon",
         "showlegend": false,
         "type": "scatter",
         "x": [
          0
         ],
         "xaxis": "x3",
         "y": [
          0.7340119975009205
         ],
         "yaxis": "y3"
        },
        {
         "legend": "legend",
         "legendgroup": "human2human",
         "marker": {
          "color": "#DDCB76",
          "line": {
           "color": "black",
           "width": 1
          },
          "size": 9,
          "symbol": "triangle-down"
         },
         "mode": "markers",
         "name": "spleen",
         "showlegend": false,
         "type": "scatter",
         "x": [
          0.09333333333333334
         ],
         "xaxis": "x3",
         "y": [
          0.7098499001838112
         ],
         "yaxis": "y3"
        },
        {
         "legend": "legend",
         "legendgroup": "human2human",
         "marker": {
          "color": "#DDCB76",
          "line": {
           "color": "black",
           "width": 1
          },
          "size": 9,
          "symbol": "diamond-wide"
         },
         "mode": "markers",
         "name": "peritoneum",
         "showlegend": false,
         "type": "scatter",
         "x": [
          0.18666666666666668
         ],
         "xaxis": "x3",
         "y": [
          0.5326181049489117
         ],
         "yaxis": "y3"
        },
        {
         "legend": "legend",
         "legendgroup": "human2human",
         "marker": {
          "color": "#DDCB76",
          "line": {
           "color": "black",
           "width": 1
          },
          "size": 9,
          "symbol": "x"
         },
         "mode": "markers",
         "name": "pancreas",
         "showlegend": false,
         "type": "scatter",
         "x": [
          0.28
         ],
         "xaxis": "x3",
         "y": [
          0.3891662818942442
         ],
         "yaxis": "y3"
        },
        {
         "boxmean": true,
         "boxpoints": false,
         "legend": "legend2",
         "legendgroup": "human2human",
         "line": {
          "color": "#DDCB76"
         },
         "name": "human2human",
         "showlegend": false,
         "type": "box",
         "x": [
          0.6,
          0.6,
          0.6,
          0.6,
          0.6,
          0.6,
          0.6,
          0.6,
          0.6,
          0.6,
          0.6,
          0.6
         ],
         "xaxis": "x3",
         "y": {
          "bdata": "qE9hpr6J7z++Y2qin4DuP66RBL9D/O0/fMdV4+hX7D9OG+i0TYLqPxjodEJk/ek/wsPJ70/P6T9QvBJbibXoPzZrhLoGfec/eHdLIxe35j8Va8AfNQvhP75EXLEZ6Ng/",
          "dtype": "f8"
         },
         "yaxis": "y3"
        },
        {
         "legendgroup": "human2human",
         "line": {
          "color": "#DDCB76",
          "dash": "dot"
         },
         "mode": "lines",
         "name": "human2human",
         "showlegend": false,
         "text": "95 % CI mean: [0.75;0.80]",
         "type": "scatter",
         "x": [
          0.5,
          0.5
         ],
         "xaxis": "x3",
         "y": [
          0.7538270537597865,
          0.8022061162292167
         ],
         "yaxis": "y3"
        },
        {
         "legendgroup": "human2human",
         "line": {
          "color": "#DDCB76"
         },
         "marker": {
          "size": 10,
          "symbol": "triangle-down-open"
         },
         "mode": "markers",
         "name": "human2human",
         "showlegend": false,
         "text": "95 % CI mean: [0.75;0.80]",
         "type": "scatter",
         "x": [
          0.5
         ],
         "xaxis": "x3",
         "y": [
          0.7538270537597865
         ],
         "yaxis": "y3"
        },
        {
         "legendgroup": "human2human",
         "line": {
          "color": "#DDCB76"
         },
         "marker": {
          "size": 10,
          "symbol": "triangle-up-open"
         },
         "mode": "markers",
         "name": "human2human",
         "showlegend": false,
         "text": "95 % CI mean: [0.75;0.80]",
         "type": "scatter",
         "x": [
          0.5
         ],
         "xaxis": "x3",
         "y": [
          0.8022061162292167
         ],
         "yaxis": "y3"
        },
        {
         "legendgroup": "human2human",
         "line": {
          "color": "#DDCB76",
          "dash": "solid"
         },
         "mode": "lines",
         "name": "human2human",
         "showlegend": false,
         "text": "95 % CI median: [0.77;0.84]",
         "type": "scatter",
         "x": [
          0.7,
          0.7
         ],
         "xaxis": "x3",
         "y": [
          0.7684506414675862,
          0.8420956507729439
         ],
         "yaxis": "y3"
        },
        {
         "legendgroup": "human2human",
         "line": {
          "color": "#DDCB76"
         },
         "marker": {
          "size": 10,
          "symbol": "triangle-down"
         },
         "mode": "markers",
         "name": "human2human",
         "showlegend": false,
         "text": "95 % CI median: [0.77;0.84]",
         "type": "scatter",
         "x": [
          0.7
         ],
         "xaxis": "x3",
         "y": [
          0.7684506414675862
         ],
         "yaxis": "y3"
        },
        {
         "legendgroup": "human2human",
         "line": {
          "color": "#DDCB76"
         },
         "marker": {
          "size": 10,
          "symbol": "triangle-up"
         },
         "mode": "markers",
         "name": "human2human",
         "showlegend": false,
         "text": "95 % CI median: [0.77;0.84]",
         "type": "scatter",
         "x": [
          0.7
         ],
         "xaxis": "x3",
         "y": [
          0.8420956507729439
         ],
         "yaxis": "y3"
        },
        {
         "legend": "legend",
         "legendgroup": "pig-p+rat-p2human2human",
         "marker": {
          "color": "#DDCB76",
          "line": {
           "color": "black",
           "width": 1
          },
          "size": 9,
          "symbol": "diamond-tall"
         },
         "mode": "markers",
         "name": "background",
         "showlegend": false,
         "type": "scatter",
         "x": [
          1
         ],
         "xaxis": "x3",
         "y": [
          0.9857305854564135
         ],
         "yaxis": "y3"
        },
        {
         "legend": "legend",
         "legendgroup": "pig-p+rat-p2human2human",
         "marker": {
          "color": "#DDCB76",
          "line": {
           "color": "black",
           "width": 1
          },
          "size": 9,
          "symbol": "triangle-up"
         },
         "mode": "markers",
         "name": "kidney",
         "showlegend": false,
         "type": "scatter",
         "x": [
          1.0933333333333333
         ],
         "xaxis": "x3",
         "y": [
          0.9541416533507037
         ],
         "yaxis": "y3"
        },
        {
         "legend": "legend",
         "legendgroup": "pig-p+rat-p2human2human",
         "marker": {
          "color": "#DDCB76",
          "line": {
           "color": "black",
           "width": 1
          },
          "size": 9,
          "symbol": "cross"
         },
         "mode": "markers",
         "name": "liver",
         "showlegend": false,
         "type": "scatter",
         "x": [
          1.1866666666666668
         ],
         "xaxis": "x3",
         "y": [
          0.93213141693186
         ],
         "yaxis": "y3"
        },
        {
         "legend": "legend",
         "legendgroup": "pig-p+rat-p2human2human",
         "marker": {
          "color": "#DDCB76",
          "line": {
           "color": "black",
           "width": 1
          },
          "size": 9,
          "symbol": "triangle-left"
         },
         "mode": "markers",
         "name": "omentum",
         "showlegend": false,
         "type": "scatter",
         "x": [
          1.28
         ],
         "xaxis": "x3",
         "y": [
          0.8856072637145966
         ],
         "yaxis": "y3"
        },
        {
         "legend": "legend",
         "legendgroup": "pig-p+rat-p2human2human",
         "marker": {
          "color": "#DDCB76",
          "line": {
           "color": "black",
           "width": 1
          },
          "size": 9,
          "symbol": "triangle-right"
         },
         "mode": "markers",
         "name": "lung",
         "showlegend": false,
         "type": "scatter",
         "x": [
          1
         ],
         "xaxis": "x3",
         "y": [
          0.8688883194658491
         ],
         "yaxis": "y3"
        },
        {
         "legend": "legend",
         "legendgroup": "pig-p+rat-p2human2human",
         "marker": {
          "color": "#DDCB76",
          "line": {
           "color": "black",
           "width": 1
          },
          "size": 9,
          "symbol": "star"
         },
         "mode": "markers",
         "name": "skin",
         "showlegend": false,
         "type": "scatter",
         "x": [
          1.0933333333333333
         ],
         "xaxis": "x3",
         "y": [
          0.8165137164603351
         ],
         "yaxis": "y3"
        },
        {
         "legend": "legend",
         "legendgroup": "pig-p+rat-p2human2human",
         "marker": {
          "color": "#DDCB76",
          "line": {
           "color": "black",
           "width": 1
          },
          "size": 9,
          "symbol": "square"
         },
         "mode": "markers",
         "name": "small_bowel",
         "showlegend": false,
         "type": "scatter",
         "x": [
          1.1866666666666668
         ],
         "xaxis": "x3",
         "y": [
          0.7804778487303679
         ],
         "yaxis": "y3"
        },
        {
         "legend": "legend",
         "legendgroup": "pig-p+rat-p2human2human",
         "marker": {
          "color": "#DDCB76",
          "line": {
           "color": "black",
           "width": 1
          },
          "size": 9,
          "symbol": "circle"
         },
         "mode": "markers",
         "name": "stomach",
         "showlegend": false,
         "type": "scatter",
         "x": [
          1.28
         ],
         "xaxis": "x3",
         "y": [
          0.7701089621811287
         ],
         "yaxis": "y3"
        },
        {
         "legend": "legend",
         "legendgroup": "pig-p+rat-p2human2human",
         "marker": {
          "color": "#DDCB76",
          "line": {
           "color": "black",
           "width": 1
          },
          "size": 9,
          "symbol": "diamond"
         },
         "mode": "markers",
         "name": "colon",
         "showlegend": false,
         "type": "scatter",
         "x": [
          1
         ],
         "xaxis": "x3",
         "y": [
          0.7461792527232081
         ],
         "yaxis": "y3"
        },
        {
         "legend": "legend",
         "legendgroup": "pig-p+rat-p2human2human",
         "marker": {
          "color": "#DDCB76",
          "line": {
           "color": "black",
           "width": 1
          },
          "size": 9,
          "symbol": "triangle-down"
         },
         "mode": "markers",
         "name": "spleen",
         "showlegend": false,
         "type": "scatter",
         "x": [
          1.0933333333333333
         ],
         "xaxis": "x3",
         "y": [
          0.7009499467288454
         ],
         "yaxis": "y3"
        },
        {
         "legend": "legend",
         "legendgroup": "pig-p+rat-p2human2human",
         "marker": {
          "color": "#DDCB76",
          "line": {
           "color": "black",
           "width": 1
          },
          "size": 9,
          "symbol": "diamond-wide"
         },
         "mode": "markers",
         "name": "peritoneum",
         "showlegend": false,
         "type": "scatter",
         "x": [
          1.1866666666666668
         ],
         "xaxis": "x3",
         "y": [
          0.6256509116383827
         ],
         "yaxis": "y3"
        },
        {
         "legend": "legend",
         "legendgroup": "pig-p+rat-p2human2human",
         "marker": {
          "color": "#DDCB76",
          "line": {
           "color": "black",
           "width": 1
          },
          "size": 9,
          "symbol": "x"
         },
         "mode": "markers",
         "name": "pancreas",
         "showlegend": false,
         "type": "scatter",
         "x": [
          1.28
         ],
         "xaxis": "x3",
         "y": [
          0.40687011663191364
         ],
         "yaxis": "y3"
        },
        {
         "boxmean": true,
         "boxpoints": false,
         "legend": "legend2",
         "legendgroup": "pig-p+rat-p2human2human",
         "line": {
          "color": "#DDCB76"
         },
         "name": "pig-p+rat-p2human2human",
         "showlegend": false,
         "type": "box",
         "x": [
          1.6,
          1.6,
          1.6,
          1.6,
          1.6,
          1.6,
          1.6,
          1.6,
          1.6,
          1.6,
          1.6,
          1.6
         ],
         "xaxis": "x3",
         "y": {
          "bdata": "qXhm3hqL7z+EkJwTVIjuP8J86UMF1O0/vCJYC+VW7D9dbn/g7s3rP4DXnV/hIOo/ZpRxrqz56D8Vld2Mu6ToP/bL7E+z4Oc/qqoqlS5u5j/PYYYPVQXkP3LXKfUoCto/",
          "dtype": "f8"
         },
         "yaxis": "y3"
        },
        {
         "legendgroup": "pig-p+rat-p2human2human",
         "line": {
          "color": "#DDCB76",
          "dash": "dot"
         },
         "mode": "lines",
         "name": "pig-p+rat-p2human2human",
         "showlegend": false,
         "text": "95 % CI mean: [0.77;0.81]",
         "type": "scatter",
         "x": [
          1.5,
          1.5
         ],
         "xaxis": "x3",
         "y": [
          0.7667644853862441,
          0.8128223904911782
         ],
         "yaxis": "y3"
        },
        {
         "legendgroup": "pig-p+rat-p2human2human",
         "line": {
          "color": "#DDCB76"
         },
         "marker": {
          "size": 10,
          "symbol": "triangle-down-open"
         },
         "mode": "markers",
         "name": "pig-p+rat-p2human2human",
         "showlegend": false,
         "text": "95 % CI mean: [0.77;0.81]",
         "type": "scatter",
         "x": [
          1.5
         ],
         "xaxis": "x3",
         "y": [
          0.7667644853862441
         ],
         "yaxis": "y3"
        },
        {
         "legendgroup": "pig-p+rat-p2human2human",
         "line": {
          "color": "#DDCB76"
         },
         "marker": {
          "size": 10,
          "symbol": "triangle-up-open"
         },
         "mode": "markers",
         "name": "pig-p+rat-p2human2human",
         "showlegend": false,
         "text": "95 % CI mean: [0.77;0.81]",
         "type": "scatter",
         "x": [
          1.5
         ],
         "xaxis": "x3",
         "y": [
          0.8128223904911782
         ],
         "yaxis": "y3"
        },
        {
         "legendgroup": "pig-p+rat-p2human2human",
         "line": {
          "color": "#DDCB76",
          "dash": "solid"
         },
         "mode": "lines",
         "name": "pig-p+rat-p2human2human",
         "showlegend": false,
         "text": "95 % CI median: [0.77;0.84]",
         "type": "scatter",
         "x": [
          1.7,
          1.7
         ],
         "xaxis": "x3",
         "y": [
          0.7668060712960509,
          0.8408189534603739
         ],
         "yaxis": "y3"
        },
        {
         "legendgroup": "pig-p+rat-p2human2human",
         "line": {
          "color": "#DDCB76"
         },
         "marker": {
          "size": 10,
          "symbol": "triangle-down"
         },
         "mode": "markers",
         "name": "pig-p+rat-p2human2human",
         "showlegend": false,
         "text": "95 % CI median: [0.77;0.84]",
         "type": "scatter",
         "x": [
          1.7
         ],
         "xaxis": "x3",
         "y": [
          0.7668060712960509
         ],
         "yaxis": "y3"
        },
        {
         "legendgroup": "pig-p+rat-p2human2human",
         "line": {
          "color": "#DDCB76"
         },
         "marker": {
          "size": 10,
          "symbol": "triangle-up"
         },
         "mode": "markers",
         "name": "pig-p+rat-p2human2human",
         "showlegend": false,
         "text": "95 % CI median: [0.77;0.84]",
         "type": "scatter",
         "x": [
          1.7
         ],
         "xaxis": "x3",
         "y": [
          0.8408189534603739
         ],
         "yaxis": "y3"
        }
       ],
       "layout": {
        "font": {
         "family": "Libertinus Sans",
         "size": 16
        },
        "height": 400,
        "legend": {
         "orientation": "h",
         "title": {},
         "x": 0.2,
         "xanchor": "center",
         "y": 1.05,
         "yanchor": "bottom"
        },
        "legend2": {
         "orientation": "h",
         "title": {},
         "x": 0.8,
         "xanchor": "center",
         "y": 1.05,
         "yanchor": "bottom"
        },
        "margin": {
         "b": 0,
         "l": 0,
         "r": 0,
         "t": 0
        },
        "showlegend": false,
        "template": {
         "data": {
          "bar": [
           {
            "error_x": {
             "color": "#2a3f5f"
            },
            "error_y": {
             "color": "#2a3f5f"
            },
            "marker": {
             "line": {
              "color": "white",
              "width": 0.5
             },
             "pattern": {
              "fillmode": "overlay",
              "size": 10,
              "solidity": 0.2
             }
            },
            "type": "bar"
           }
          ],
          "barpolar": [
           {
            "marker": {
             "line": {
              "color": "white",
              "width": 0.5
             },
             "pattern": {
              "fillmode": "overlay",
              "size": 10,
              "solidity": 0.2
             }
            },
            "type": "barpolar"
           }
          ],
          "carpet": [
           {
            "aaxis": {
             "endlinecolor": "#2a3f5f",
             "gridcolor": "#C8D4E3",
             "linecolor": "#C8D4E3",
             "minorgridcolor": "#C8D4E3",
             "startlinecolor": "#2a3f5f"
            },
            "baxis": {
             "endlinecolor": "#2a3f5f",
             "gridcolor": "#C8D4E3",
             "linecolor": "#C8D4E3",
             "minorgridcolor": "#C8D4E3",
             "startlinecolor": "#2a3f5f"
            },
            "type": "carpet"
           }
          ],
          "choropleth": [
           {
            "colorbar": {
             "outlinewidth": 0,
             "ticks": ""
            },
            "type": "choropleth"
           }
          ],
          "contour": [
           {
            "colorbar": {
             "outlinewidth": 0,
             "ticks": ""
            },
            "colorscale": [
             [
              0,
              "#0d0887"
             ],
             [
              0.1111111111111111,
              "#46039f"
             ],
             [
              0.2222222222222222,
              "#7201a8"
             ],
             [
              0.3333333333333333,
              "#9c179e"
             ],
             [
              0.4444444444444444,
              "#bd3786"
             ],
             [
              0.5555555555555556,
              "#d8576b"
             ],
             [
              0.6666666666666666,
              "#ed7953"
             ],
             [
              0.7777777777777778,
              "#fb9f3a"
             ],
             [
              0.8888888888888888,
              "#fdca26"
             ],
             [
              1,
              "#f0f921"
             ]
            ],
            "type": "contour"
           }
          ],
          "contourcarpet": [
           {
            "colorbar": {
             "outlinewidth": 0,
             "ticks": ""
            },
            "type": "contourcarpet"
           }
          ],
          "heatmap": [
           {
            "colorbar": {
             "outlinewidth": 0,
             "ticks": ""
            },
            "colorscale": [
             [
              0,
              "#0d0887"
             ],
             [
              0.1111111111111111,
              "#46039f"
             ],
             [
              0.2222222222222222,
              "#7201a8"
             ],
             [
              0.3333333333333333,
              "#9c179e"
             ],
             [
              0.4444444444444444,
              "#bd3786"
             ],
             [
              0.5555555555555556,
              "#d8576b"
             ],
             [
              0.6666666666666666,
              "#ed7953"
             ],
             [
              0.7777777777777778,
              "#fb9f3a"
             ],
             [
              0.8888888888888888,
              "#fdca26"
             ],
             [
              1,
              "#f0f921"
             ]
            ],
            "type": "heatmap"
           }
          ],
          "histogram": [
           {
            "marker": {
             "pattern": {
              "fillmode": "overlay",
              "size": 10,
              "solidity": 0.2
             }
            },
            "type": "histogram"
           }
          ],
          "histogram2d": [
           {
            "colorbar": {
             "outlinewidth": 0,
             "ticks": ""
            },
            "colorscale": [
             [
              0,
              "#0d0887"
             ],
             [
              0.1111111111111111,
              "#46039f"
             ],
             [
              0.2222222222222222,
              "#7201a8"
             ],
             [
              0.3333333333333333,
              "#9c179e"
             ],
             [
              0.4444444444444444,
              "#bd3786"
             ],
             [
              0.5555555555555556,
              "#d8576b"
             ],
             [
              0.6666666666666666,
              "#ed7953"
             ],
             [
              0.7777777777777778,
              "#fb9f3a"
             ],
             [
              0.8888888888888888,
              "#fdca26"
             ],
             [
              1,
              "#f0f921"
             ]
            ],
            "type": "histogram2d"
           }
          ],
          "histogram2dcontour": [
           {
            "colorbar": {
             "outlinewidth": 0,
             "ticks": ""
            },
            "colorscale": [
             [
              0,
              "#0d0887"
             ],
             [
              0.1111111111111111,
              "#46039f"
             ],
             [
              0.2222222222222222,
              "#7201a8"
             ],
             [
              0.3333333333333333,
              "#9c179e"
             ],
             [
              0.4444444444444444,
              "#bd3786"
             ],
             [
              0.5555555555555556,
              "#d8576b"
             ],
             [
              0.6666666666666666,
              "#ed7953"
             ],
             [
              0.7777777777777778,
              "#fb9f3a"
             ],
             [
              0.8888888888888888,
              "#fdca26"
             ],
             [
              1,
              "#f0f921"
             ]
            ],
            "type": "histogram2dcontour"
           }
          ],
          "mesh3d": [
           {
            "colorbar": {
             "outlinewidth": 0,
             "ticks": ""
            },
            "type": "mesh3d"
           }
          ],
          "parcoords": [
           {
            "line": {
             "colorbar": {
              "outlinewidth": 0,
              "ticks": ""
             }
            },
            "type": "parcoords"
           }
          ],
          "pie": [
           {
            "automargin": true,
            "type": "pie"
           }
          ],
          "scatter": [
           {
            "fillpattern": {
             "fillmode": "overlay",
             "size": 10,
             "solidity": 0.2
            },
            "type": "scatter"
           }
          ],
          "scatter3d": [
           {
            "line": {
             "colorbar": {
              "outlinewidth": 0,
              "ticks": ""
             }
            },
            "marker": {
             "colorbar": {
              "outlinewidth": 0,
              "ticks": ""
             }
            },
            "type": "scatter3d"
           }
          ],
          "scattercarpet": [
           {
            "marker": {
             "colorbar": {
              "outlinewidth": 0,
              "ticks": ""
             }
            },
            "type": "scattercarpet"
           }
          ],
          "scattergeo": [
           {
            "marker": {
             "colorbar": {
              "outlinewidth": 0,
              "ticks": ""
             }
            },
            "type": "scattergeo"
           }
          ],
          "scattergl": [
           {
            "marker": {
             "colorbar": {
              "outlinewidth": 0,
              "ticks": ""
             }
            },
            "type": "scattergl"
           }
          ],
          "scattermap": [
           {
            "marker": {
             "colorbar": {
              "outlinewidth": 0,
              "ticks": ""
             }
            },
            "type": "scattermap"
           }
          ],
          "scattermapbox": [
           {
            "marker": {
             "colorbar": {
              "outlinewidth": 0,
              "ticks": ""
             }
            },
            "type": "scattermapbox"
           }
          ],
          "scatterpolar": [
           {
            "marker": {
             "colorbar": {
              "outlinewidth": 0,
              "ticks": ""
             }
            },
            "type": "scatterpolar"
           }
          ],
          "scatterpolargl": [
           {
            "marker": {
             "colorbar": {
              "outlinewidth": 0,
              "ticks": ""
             }
            },
            "type": "scatterpolargl"
           }
          ],
          "scatterternary": [
           {
            "marker": {
             "colorbar": {
              "outlinewidth": 0,
              "ticks": ""
             }
            },
            "type": "scatterternary"
           }
          ],
          "surface": [
           {
            "colorbar": {
             "outlinewidth": 0,
             "ticks": ""
            },
            "colorscale": [
             [
              0,
              "#0d0887"
             ],
             [
              0.1111111111111111,
              "#46039f"
             ],
             [
              0.2222222222222222,
              "#7201a8"
             ],
             [
              0.3333333333333333,
              "#9c179e"
             ],
             [
              0.4444444444444444,
              "#bd3786"
             ],
             [
              0.5555555555555556,
              "#d8576b"
             ],
             [
              0.6666666666666666,
              "#ed7953"
             ],
             [
              0.7777777777777778,
              "#fb9f3a"
             ],
             [
              0.8888888888888888,
              "#fdca26"
             ],
             [
              1,
              "#f0f921"
             ]
            ],
            "type": "surface"
           }
          ],
          "table": [
           {
            "cells": {
             "fill": {
              "color": "#EBF0F8"
             },
             "line": {
              "color": "white"
             }
            },
            "header": {
             "fill": {
              "color": "#C8D4E3"
             },
             "line": {
              "color": "white"
             }
            },
            "type": "table"
           }
          ]
         },
         "layout": {
          "annotationdefaults": {
           "arrowcolor": "#2a3f5f",
           "arrowhead": 0,
           "arrowwidth": 1
          },
          "autotypenumbers": "strict",
          "coloraxis": {
           "colorbar": {
            "outlinewidth": 0,
            "ticks": ""
           }
          },
          "colorscale": {
           "diverging": [
            [
             0,
             "#8e0152"
            ],
            [
             0.1,
             "#c51b7d"
            ],
            [
             0.2,
             "#de77ae"
            ],
            [
             0.3,
             "#f1b6da"
            ],
            [
             0.4,
             "#fde0ef"
            ],
            [
             0.5,
             "#f7f7f7"
            ],
            [
             0.6,
             "#e6f5d0"
            ],
            [
             0.7,
             "#b8e186"
            ],
            [
             0.8,
             "#7fbc41"
            ],
            [
             0.9,
             "#4d9221"
            ],
            [
             1,
             "#276419"
            ]
           ],
           "sequential": [
            [
             0,
             "#0d0887"
            ],
            [
             0.1111111111111111,
             "#46039f"
            ],
            [
             0.2222222222222222,
             "#7201a8"
            ],
            [
             0.3333333333333333,
             "#9c179e"
            ],
            [
             0.4444444444444444,
             "#bd3786"
            ],
            [
             0.5555555555555556,
             "#d8576b"
            ],
            [
             0.6666666666666666,
             "#ed7953"
            ],
            [
             0.7777777777777778,
             "#fb9f3a"
            ],
            [
             0.8888888888888888,
             "#fdca26"
            ],
            [
             1,
             "#f0f921"
            ]
           ],
           "sequentialminus": [
            [
             0,
             "#0d0887"
            ],
            [
             0.1111111111111111,
             "#46039f"
            ],
            [
             0.2222222222222222,
             "#7201a8"
            ],
            [
             0.3333333333333333,
             "#9c179e"
            ],
            [
             0.4444444444444444,
             "#bd3786"
            ],
            [
             0.5555555555555556,
             "#d8576b"
            ],
            [
             0.6666666666666666,
             "#ed7953"
            ],
            [
             0.7777777777777778,
             "#fb9f3a"
            ],
            [
             0.8888888888888888,
             "#fdca26"
            ],
            [
             1,
             "#f0f921"
            ]
           ]
          },
          "colorway": [
           "#636efa",
           "#EF553B",
           "#00cc96",
           "#ab63fa",
           "#FFA15A",
           "#19d3f3",
           "#FF6692",
           "#B6E880",
           "#FF97FF",
           "#FECB52"
          ],
          "font": {
           "color": "#2a3f5f"
          },
          "geo": {
           "bgcolor": "white",
           "lakecolor": "white",
           "landcolor": "white",
           "showlakes": true,
           "showland": true,
           "subunitcolor": "#C8D4E3"
          },
          "hoverlabel": {
           "align": "left"
          },
          "hovermode": "closest",
          "mapbox": {
           "style": "light"
          },
          "paper_bgcolor": "white",
          "plot_bgcolor": "white",
          "polar": {
           "angularaxis": {
            "gridcolor": "#EBF0F8",
            "linecolor": "#EBF0F8",
            "ticks": ""
           },
           "bgcolor": "white",
           "radialaxis": {
            "gridcolor": "#EBF0F8",
            "linecolor": "#EBF0F8",
            "ticks": ""
           }
          },
          "scene": {
           "xaxis": {
            "backgroundcolor": "white",
            "gridcolor": "#DFE8F3",
            "gridwidth": 2,
            "linecolor": "#EBF0F8",
            "showbackground": true,
            "ticks": "",
            "zerolinecolor": "#EBF0F8"
           },
           "yaxis": {
            "backgroundcolor": "white",
            "gridcolor": "#DFE8F3",
            "gridwidth": 2,
            "linecolor": "#EBF0F8",
            "showbackground": true,
            "ticks": "",
            "zerolinecolor": "#EBF0F8"
           },
           "zaxis": {
            "backgroundcolor": "white",
            "gridcolor": "#DFE8F3",
            "gridwidth": 2,
            "linecolor": "#EBF0F8",
            "showbackground": true,
            "ticks": "",
            "zerolinecolor": "#EBF0F8"
           }
          },
          "shapedefaults": {
           "line": {
            "color": "#2a3f5f"
           }
          },
          "ternary": {
           "aaxis": {
            "gridcolor": "#DFE8F3",
            "linecolor": "#A2B1C6",
            "ticks": ""
           },
           "baxis": {
            "gridcolor": "#DFE8F3",
            "linecolor": "#A2B1C6",
            "ticks": ""
           },
           "bgcolor": "white",
           "caxis": {
            "gridcolor": "#DFE8F3",
            "linecolor": "#A2B1C6",
            "ticks": ""
           }
          },
          "title": {
           "x": 0.05
          },
          "xaxis": {
           "automargin": true,
           "gridcolor": "#EBF0F8",
           "linecolor": "#EBF0F8",
           "ticks": "",
           "title": {
            "standoff": 15
           },
           "zerolinecolor": "#EBF0F8",
           "zerolinewidth": 2
          },
          "yaxis": {
           "automargin": true,
           "gridcolor": "#EBF0F8",
           "linecolor": "#EBF0F8",
           "ticks": "",
           "title": {
            "standoff": 15
           },
           "zerolinecolor": "#EBF0F8",
           "zerolinewidth": 2
          }
         }
        },
        "width": 1200,
        "xaxis": {
         "anchor": "y",
         "domain": [
          0,
          0.3525
         ],
         "showticklabels": false
        },
        "xaxis2": {
         "anchor": "y2",
         "domain": [
          0.38249999999999995,
          0.7349999999999999
         ],
         "showticklabels": false
        },
        "xaxis3": {
         "anchor": "y3",
         "domain": [
          0.7649999999999999,
          0.9999999999999999
         ],
         "showticklabels": false
        },
        "yaxis": {
         "anchor": "x",
         "domain": [
          0,
          1
         ],
         "title": {
          "standoff": 12,
          "text": "<b>DSC</b>"
         },
         "zeroline": false
        },
        "yaxis2": {
         "anchor": "x2",
         "domain": [
          0,
          1
         ],
         "matches": "y",
         "showticklabels": false,
         "zeroline": false
        },
        "yaxis3": {
         "anchor": "x3",
         "domain": [
          0,
          1
         ],
         "matches": "y",
         "showticklabels": false,
         "zeroline": false
        }
       }
      },
      "text/html": [
       "<div>            <script src=\"https://cdnjs.cloudflare.com/ajax/libs/mathjax/2.7.5/MathJax.js?config=TeX-AMS-MML_SVG\"></script><script type=\"text/javascript\">if (window.MathJax && window.MathJax.Hub && window.MathJax.Hub.Config) {window.MathJax.Hub.Config({SVG: {font: \"STIX-Web\"}});}</script>                <script type=\"text/javascript\">window.PlotlyConfig = {MathJaxConfig: 'local'};</script>\n",
       "        <script charset=\"utf-8\" src=\"https://cdn.plot.ly/plotly-3.0.0.min.js\"></script>                <div id=\"62e6e282-e5c1-457c-b8c3-a967b36711eb\" class=\"plotly-graph-div\" style=\"height:400px; width:1200px;\"></div>            <script type=\"text/javascript\">                window.PLOTLYENV=window.PLOTLYENV || {};                                if (document.getElementById(\"62e6e282-e5c1-457c-b8c3-a967b36711eb\")) {                    Plotly.newPlot(                        \"62e6e282-e5c1-457c-b8c3-a967b36711eb\",                        [{\"legend\":\"legend\",\"marker\":{\"color\":\"gray\",\"line\":{\"color\":\"black\",\"width\":1},\"size\":9,\"symbol\":\"circle\"},\"mode\":\"markers\",\"name\":\"stomach\",\"showlegend\":true,\"x\":[null],\"y\":[null],\"type\":\"scatter\",\"xaxis\":\"x\",\"yaxis\":\"y\"},{\"legend\":\"legend\",\"marker\":{\"color\":\"gray\",\"line\":{\"color\":\"black\",\"width\":1},\"size\":9,\"symbol\":\"square\"},\"mode\":\"markers\",\"name\":\"small_bowel\",\"showlegend\":true,\"x\":[null],\"y\":[null],\"type\":\"scatter\",\"xaxis\":\"x\",\"yaxis\":\"y\"},{\"legend\":\"legend\",\"marker\":{\"color\":\"gray\",\"line\":{\"color\":\"black\",\"width\":1},\"size\":9,\"symbol\":\"diamond\"},\"mode\":\"markers\",\"name\":\"colon\",\"showlegend\":true,\"x\":[null],\"y\":[null],\"type\":\"scatter\",\"xaxis\":\"x\",\"yaxis\":\"y\"},{\"legend\":\"legend\",\"marker\":{\"color\":\"gray\",\"line\":{\"color\":\"black\",\"width\":1},\"size\":9,\"symbol\":\"cross\"},\"mode\":\"markers\",\"name\":\"liver\",\"showlegend\":true,\"x\":[null],\"y\":[null],\"type\":\"scatter\",\"xaxis\":\"x\",\"yaxis\":\"y\"},{\"legend\":\"legend\",\"marker\":{\"color\":\"gray\",\"line\":{\"color\":\"black\",\"width\":1},\"size\":9,\"symbol\":\"x\"},\"mode\":\"markers\",\"name\":\"pancreas\",\"showlegend\":true,\"x\":[null],\"y\":[null],\"type\":\"scatter\",\"xaxis\":\"x\",\"yaxis\":\"y\"},{\"legend\":\"legend\",\"marker\":{\"color\":\"gray\",\"line\":{\"color\":\"black\",\"width\":1},\"size\":9,\"symbol\":\"triangle-up\"},\"mode\":\"markers\",\"name\":\"kidney\",\"showlegend\":true,\"x\":[null],\"y\":[null],\"type\":\"scatter\",\"xaxis\":\"x\",\"yaxis\":\"y\"},{\"legend\":\"legend\",\"marker\":{\"color\":\"gray\",\"line\":{\"color\":\"black\",\"width\":1},\"size\":9,\"symbol\":\"triangle-down\"},\"mode\":\"markers\",\"name\":\"spleen\",\"showlegend\":true,\"x\":[null],\"y\":[null],\"type\":\"scatter\",\"xaxis\":\"x\",\"yaxis\":\"y\"},{\"legend\":\"legend\",\"marker\":{\"color\":\"gray\",\"line\":{\"color\":\"black\",\"width\":1},\"size\":9,\"symbol\":\"triangle-left\"},\"mode\":\"markers\",\"name\":\"omentum\",\"showlegend\":true,\"x\":[null],\"y\":[null],\"type\":\"scatter\",\"xaxis\":\"x\",\"yaxis\":\"y\"},{\"legend\":\"legend\",\"marker\":{\"color\":\"gray\",\"line\":{\"color\":\"black\",\"width\":1},\"size\":9,\"symbol\":\"triangle-right\"},\"mode\":\"markers\",\"name\":\"lung\",\"showlegend\":true,\"x\":[null],\"y\":[null],\"type\":\"scatter\",\"xaxis\":\"x\",\"yaxis\":\"y\"},{\"legend\":\"legend\",\"marker\":{\"color\":\"gray\",\"line\":{\"color\":\"black\",\"width\":1},\"size\":9,\"symbol\":\"star\"},\"mode\":\"markers\",\"name\":\"skin\",\"showlegend\":true,\"x\":[null],\"y\":[null],\"type\":\"scatter\",\"xaxis\":\"x\",\"yaxis\":\"y\"},{\"legend\":\"legend\",\"marker\":{\"color\":\"gray\",\"line\":{\"color\":\"black\",\"width\":1},\"size\":9,\"symbol\":\"diamond-wide\"},\"mode\":\"markers\",\"name\":\"peritoneum\",\"showlegend\":true,\"x\":[null],\"y\":[null],\"type\":\"scatter\",\"xaxis\":\"x\",\"yaxis\":\"y\"},{\"legend\":\"legend\",\"marker\":{\"color\":\"gray\",\"line\":{\"color\":\"black\",\"width\":1},\"size\":9,\"symbol\":\"diamond-tall\"},\"mode\":\"markers\",\"name\":\"background\",\"showlegend\":true,\"x\":[null],\"y\":[null],\"type\":\"scatter\",\"xaxis\":\"x\",\"yaxis\":\"y\"},{\"legend\":\"legend\",\"legendgroup\":\"pig2pig\",\"marker\":{\"color\":\"#44AA99\",\"line\":{\"color\":\"black\",\"width\":1},\"size\":9,\"symbol\":\"diamond-tall\"},\"mode\":\"markers\",\"name\":\"background\",\"showlegend\":false,\"x\":[0.0],\"y\":[0.9880172627034577],\"type\":\"scatter\",\"xaxis\":\"x\",\"yaxis\":\"y\"},{\"legend\":\"legend\",\"legendgroup\":\"pig2pig\",\"marker\":{\"color\":\"#44AA99\",\"line\":{\"color\":\"black\",\"width\":1},\"size\":9,\"symbol\":\"triangle-right\"},\"mode\":\"markers\",\"name\":\"lung\",\"showlegend\":false,\"x\":[0.09333333333333334],\"y\":[0.9681517921524606],\"type\":\"scatter\",\"xaxis\":\"x\",\"yaxis\":\"y\"},{\"legend\":\"legend\",\"legendgroup\":\"pig2pig\",\"marker\":{\"color\":\"#44AA99\",\"line\":{\"color\":\"black\",\"width\":1},\"size\":9,\"symbol\":\"square\"},\"mode\":\"markers\",\"name\":\"small_bowel\",\"showlegend\":false,\"x\":[0.18666666666666668],\"y\":[0.9574328883645451],\"type\":\"scatter\",\"xaxis\":\"x\",\"yaxis\":\"y\"},{\"legend\":\"legend\",\"legendgroup\":\"pig2pig\",\"marker\":{\"color\":\"#44AA99\",\"line\":{\"color\":\"black\",\"width\":1},\"size\":9,\"symbol\":\"diamond\"},\"mode\":\"markers\",\"name\":\"colon\",\"showlegend\":false,\"x\":[0.28],\"y\":[0.9552697424805917],\"type\":\"scatter\",\"xaxis\":\"x\",\"yaxis\":\"y\"},{\"legend\":\"legend\",\"legendgroup\":\"pig2pig\",\"marker\":{\"color\":\"#44AA99\",\"line\":{\"color\":\"black\",\"width\":1},\"size\":9,\"symbol\":\"triangle-down\"},\"mode\":\"markers\",\"name\":\"spleen\",\"showlegend\":false,\"x\":[0.0],\"y\":[0.9548855312121886],\"type\":\"scatter\",\"xaxis\":\"x\",\"yaxis\":\"y\"},{\"legend\":\"legend\",\"legendgroup\":\"pig2pig\",\"marker\":{\"color\":\"#44AA99\",\"line\":{\"color\":\"black\",\"width\":1},\"size\":9,\"symbol\":\"triangle-up\"},\"mode\":\"markers\",\"name\":\"kidney\",\"showlegend\":false,\"x\":[0.09333333333333334],\"y\":[0.9532746829238592],\"type\":\"scatter\",\"xaxis\":\"x\",\"yaxis\":\"y\"},{\"legend\":\"legend\",\"legendgroup\":\"pig2pig\",\"marker\":{\"color\":\"#44AA99\",\"line\":{\"color\":\"black\",\"width\":1},\"size\":9,\"symbol\":\"cross\"},\"mode\":\"markers\",\"name\":\"liver\",\"showlegend\":false,\"x\":[0.18666666666666668],\"y\":[0.9509044544356555],\"type\":\"scatter\",\"xaxis\":\"x\",\"yaxis\":\"y\"},{\"legend\":\"legend\",\"legendgroup\":\"pig2pig\",\"marker\":{\"color\":\"#44AA99\",\"line\":{\"color\":\"black\",\"width\":1},\"size\":9,\"symbol\":\"diamond-wide\"},\"mode\":\"markers\",\"name\":\"peritoneum\",\"showlegend\":false,\"x\":[0.28],\"y\":[0.8714513425624977],\"type\":\"scatter\",\"xaxis\":\"x\",\"yaxis\":\"y\"},{\"legend\":\"legend\",\"legendgroup\":\"pig2pig\",\"marker\":{\"color\":\"#44AA99\",\"line\":{\"color\":\"black\",\"width\":1},\"size\":9,\"symbol\":\"circle\"},\"mode\":\"markers\",\"name\":\"stomach\",\"showlegend\":false,\"x\":[0.0],\"y\":[0.8649385530904133],\"type\":\"scatter\",\"xaxis\":\"x\",\"yaxis\":\"y\"},{\"legend\":\"legend\",\"legendgroup\":\"pig2pig\",\"marker\":{\"color\":\"#44AA99\",\"line\":{\"color\":\"black\",\"width\":1},\"size\":9,\"symbol\":\"star\"},\"mode\":\"markers\",\"name\":\"skin\",\"showlegend\":false,\"x\":[0.09333333333333334],\"y\":[0.8583116681070014],\"type\":\"scatter\",\"xaxis\":\"x\",\"yaxis\":\"y\"},{\"legend\":\"legend\",\"legendgroup\":\"pig2pig\",\"marker\":{\"color\":\"#44AA99\",\"line\":{\"color\":\"black\",\"width\":1},\"size\":9,\"symbol\":\"x\"},\"mode\":\"markers\",\"name\":\"pancreas\",\"showlegend\":false,\"x\":[0.18666666666666668],\"y\":[0.8555469197697109],\"type\":\"scatter\",\"xaxis\":\"x\",\"yaxis\":\"y\"},{\"legend\":\"legend\",\"legendgroup\":\"pig2pig\",\"marker\":{\"color\":\"#44AA99\",\"line\":{\"color\":\"black\",\"width\":1},\"size\":9,\"symbol\":\"triangle-left\"},\"mode\":\"markers\",\"name\":\"omentum\",\"showlegend\":false,\"x\":[0.28],\"y\":[0.6550220755864737],\"type\":\"scatter\",\"xaxis\":\"x\",\"yaxis\":\"y\"},{\"boxmean\":true,\"boxpoints\":false,\"legend\":\"legend2\",\"legendgroup\":\"pig2pig\",\"line\":{\"color\":\"#44AA99\"},\"name\":\"pig2pig\",\"showlegend\":true,\"x\":[0.6,0.6,0.6,0.6,0.6,0.6,0.6,0.6,0.6,0.6,0.6,0.6],\"y\":{\"dtype\":\"f8\",\"bdata\":\"uzvmYNad7z+3eZt3GfvuP05\\u002f9EtKo+4\\u002f3f\\u002fZ2ZGR7j+lW\\u002f8ZbI7uP2hoaOg5ge4\\u002f5n+tLc9t7j8ejwvt7eLrPxNV0p2Tres\\u002f0W4JCEp36z+bVxPvo2DrP4ipGdvw9eQ\\u002f\"},\"type\":\"box\",\"xaxis\":\"x\",\"yaxis\":\"y\"},{\"legendgroup\":\"pig2pig\",\"line\":{\"color\":\"#44AA99\",\"dash\":\"dot\"},\"mode\":\"lines\",\"name\":\"pig2pig\",\"showlegend\":false,\"text\":\"95\\u202f% CI mean: [0.89;0.92]\",\"x\":[0.5,0.5],\"y\":[0.885219171713861,0.9188978601852729],\"type\":\"scatter\",\"xaxis\":\"x\",\"yaxis\":\"y\"},{\"legendgroup\":\"pig2pig\",\"line\":{\"color\":\"#44AA99\"},\"marker\":{\"size\":10,\"symbol\":\"triangle-down-open\"},\"mode\":\"markers\",\"name\":\"pig2pig\",\"showlegend\":false,\"text\":\"95\\u202f% CI mean: [0.89;0.92]\",\"x\":[0.5],\"y\":[0.885219171713861],\"type\":\"scatter\",\"xaxis\":\"x\",\"yaxis\":\"y\"},{\"legendgroup\":\"pig2pig\",\"line\":{\"color\":\"#44AA99\"},\"marker\":{\"size\":10,\"symbol\":\"triangle-up-open\"},\"mode\":\"markers\",\"name\":\"pig2pig\",\"showlegend\":false,\"text\":\"95\\u202f% CI mean: [0.89;0.92]\",\"x\":[0.5],\"y\":[0.9188978601852729],\"type\":\"scatter\",\"xaxis\":\"x\",\"yaxis\":\"y\"},{\"legendgroup\":\"pig2pig\",\"line\":{\"color\":\"#44AA99\",\"dash\":\"solid\"},\"mode\":\"lines\",\"name\":\"pig2pig\",\"showlegend\":false,\"text\":\"95\\u202f% CI median: [0.93;0.96]\",\"x\":[0.7,0.7],\"y\":[0.9303989476962554,0.9562839802416562],\"type\":\"scatter\",\"xaxis\":\"x\",\"yaxis\":\"y\"},{\"legendgroup\":\"pig2pig\",\"line\":{\"color\":\"#44AA99\"},\"marker\":{\"size\":10,\"symbol\":\"triangle-down\"},\"mode\":\"markers\",\"name\":\"pig2pig\",\"showlegend\":false,\"text\":\"95\\u202f% CI median: [0.93;0.96]\",\"x\":[0.7],\"y\":[0.9303989476962554],\"type\":\"scatter\",\"xaxis\":\"x\",\"yaxis\":\"y\"},{\"legendgroup\":\"pig2pig\",\"line\":{\"color\":\"#44AA99\"},\"marker\":{\"size\":10,\"symbol\":\"triangle-up\"},\"mode\":\"markers\",\"name\":\"pig2pig\",\"showlegend\":false,\"text\":\"95\\u202f% CI median: [0.93;0.96]\",\"x\":[0.7],\"y\":[0.9562839802416562],\"type\":\"scatter\",\"xaxis\":\"x\",\"yaxis\":\"y\"},{\"legend\":\"legend\",\"legendgroup\":\"pig2rat\",\"marker\":{\"color\":\"#89CCED\",\"line\":{\"color\":\"black\",\"width\":1},\"size\":9,\"symbol\":\"triangle-right\"},\"mode\":\"markers\",\"name\":\"lung\",\"showlegend\":false,\"x\":[1.0],\"y\":[0.9926940477811373],\"type\":\"scatter\",\"xaxis\":\"x\",\"yaxis\":\"y\"},{\"legend\":\"legend\",\"legendgroup\":\"pig2rat\",\"marker\":{\"color\":\"#89CCED\",\"line\":{\"color\":\"black\",\"width\":1},\"size\":9,\"symbol\":\"cross\"},\"mode\":\"markers\",\"name\":\"liver\",\"showlegend\":false,\"x\":[1.0933333333333333],\"y\":[0.8102008369061756],\"type\":\"scatter\",\"xaxis\":\"x\",\"yaxis\":\"y\"},{\"legend\":\"legend\",\"legendgroup\":\"pig2rat\",\"marker\":{\"color\":\"#89CCED\",\"line\":{\"color\":\"black\",\"width\":1},\"size\":9,\"symbol\":\"diamond-tall\"},\"mode\":\"markers\",\"name\":\"background\",\"showlegend\":false,\"x\":[1.1866666666666668],\"y\":[0.7598612389778651],\"type\":\"scatter\",\"xaxis\":\"x\",\"yaxis\":\"y\"},{\"legend\":\"legend\",\"legendgroup\":\"pig2rat\",\"marker\":{\"color\":\"#89CCED\",\"line\":{\"color\":\"black\",\"width\":1},\"size\":9,\"symbol\":\"triangle-up\"},\"mode\":\"markers\",\"name\":\"kidney\",\"showlegend\":false,\"x\":[1.28],\"y\":[0.713609119955],\"type\":\"scatter\",\"xaxis\":\"x\",\"yaxis\":\"y\"},{\"legend\":\"legend\",\"legendgroup\":\"pig2rat\",\"marker\":{\"color\":\"#89CCED\",\"line\":{\"color\":\"black\",\"width\":1},\"size\":9,\"symbol\":\"diamond-wide\"},\"mode\":\"markers\",\"name\":\"peritoneum\",\"showlegend\":false,\"x\":[1.0],\"y\":[0.6638196326323839],\"type\":\"scatter\",\"xaxis\":\"x\",\"yaxis\":\"y\"},{\"legend\":\"legend\",\"legendgroup\":\"pig2rat\",\"marker\":{\"color\":\"#89CCED\",\"line\":{\"color\":\"black\",\"width\":1},\"size\":9,\"symbol\":\"diamond\"},\"mode\":\"markers\",\"name\":\"colon\",\"showlegend\":false,\"x\":[1.0933333333333333],\"y\":[0.5186796552239655],\"type\":\"scatter\",\"xaxis\":\"x\",\"yaxis\":\"y\"},{\"legend\":\"legend\",\"legendgroup\":\"pig2rat\",\"marker\":{\"color\":\"#89CCED\",\"line\":{\"color\":\"black\",\"width\":1},\"size\":9,\"symbol\":\"star\"},\"mode\":\"markers\",\"name\":\"skin\",\"showlegend\":false,\"x\":[1.1866666666666668],\"y\":[0.40396969032198793],\"type\":\"scatter\",\"xaxis\":\"x\",\"yaxis\":\"y\"},{\"legend\":\"legend\",\"legendgroup\":\"pig2rat\",\"marker\":{\"color\":\"#89CCED\",\"line\":{\"color\":\"black\",\"width\":1},\"size\":9,\"symbol\":\"x\"},\"mode\":\"markers\",\"name\":\"pancreas\",\"showlegend\":false,\"x\":[1.28],\"y\":[0.37904571015319544],\"type\":\"scatter\",\"xaxis\":\"x\",\"yaxis\":\"y\"},{\"legend\":\"legend\",\"legendgroup\":\"pig2rat\",\"marker\":{\"color\":\"#89CCED\",\"line\":{\"color\":\"black\",\"width\":1},\"size\":9,\"symbol\":\"triangle-left\"},\"mode\":\"markers\",\"name\":\"omentum\",\"showlegend\":false,\"x\":[1.0],\"y\":[0.3127520523293692],\"type\":\"scatter\",\"xaxis\":\"x\",\"yaxis\":\"y\"},{\"legend\":\"legend\",\"legendgroup\":\"pig2rat\",\"marker\":{\"color\":\"#89CCED\",\"line\":{\"color\":\"black\",\"width\":1},\"size\":9,\"symbol\":\"square\"},\"mode\":\"markers\",\"name\":\"small_bowel\",\"showlegend\":false,\"x\":[1.0933333333333333],\"y\":[0.22107863441039363],\"type\":\"scatter\",\"xaxis\":\"x\",\"yaxis\":\"y\"},{\"legend\":\"legend\",\"legendgroup\":\"pig2rat\",\"marker\":{\"color\":\"#89CCED\",\"line\":{\"color\":\"black\",\"width\":1},\"size\":9,\"symbol\":\"circle\"},\"mode\":\"markers\",\"name\":\"stomach\",\"showlegend\":false,\"x\":[1.1866666666666668],\"y\":[0.13937860303079946],\"type\":\"scatter\",\"xaxis\":\"x\",\"yaxis\":\"y\"},{\"legend\":\"legend\",\"legendgroup\":\"pig2rat\",\"marker\":{\"color\":\"#89CCED\",\"line\":{\"color\":\"black\",\"width\":1},\"size\":9,\"symbol\":\"triangle-down\"},\"mode\":\"markers\",\"name\":\"spleen\",\"showlegend\":false,\"x\":[1.28],\"y\":[0.11335881187470977],\"type\":\"scatter\",\"xaxis\":\"x\",\"yaxis\":\"y\"},{\"boxmean\":true,\"boxpoints\":false,\"legend\":\"legend2\",\"legendgroup\":\"pig2rat\",\"line\":{\"color\":\"#89CCED\"},\"name\":\"pig2rat\",\"showlegend\":true,\"x\":[1.6,1.6,1.6,1.6,1.6,1.6,1.6,1.6,1.6,1.6,1.6,1.6],\"y\":{\"dtype\":\"f8\",\"bdata\":\"T+zETibE7z\\u002f5hTZOKu3pPxkOXYTIUOg\\u002fq7AKy+LV5j+PKZOrAj7lPxkziRMGmeA\\u002fHoYgsKPa2T8wAzPwSELYP8S8IC8hBNQ\\u002fl4hRAE5MzD8GxeN2KNfBP5Edt0UVBb0\\u002f\"},\"type\":\"box\",\"xaxis\":\"x\",\"yaxis\":\"y\"},{\"legendgroup\":\"pig2rat\",\"line\":{\"color\":\"#89CCED\",\"dash\":\"dot\"},\"mode\":\"lines\",\"name\":\"pig2rat\",\"showlegend\":false,\"text\":\"95\\u202f% CI mean: [0.49;0.52]\",\"x\":[1.5,1.5],\"y\":[0.48638641241059927,0.5199714091343272],\"type\":\"scatter\",\"xaxis\":\"x\",\"yaxis\":\"y\"},{\"legendgroup\":\"pig2rat\",\"line\":{\"color\":\"#89CCED\"},\"marker\":{\"size\":10,\"symbol\":\"triangle-down-open\"},\"mode\":\"markers\",\"name\":\"pig2rat\",\"showlegend\":false,\"text\":\"95\\u202f% CI mean: [0.49;0.52]\",\"x\":[1.5],\"y\":[0.48638641241059927],\"type\":\"scatter\",\"xaxis\":\"x\",\"yaxis\":\"y\"},{\"legendgroup\":\"pig2rat\",\"line\":{\"color\":\"#89CCED\"},\"marker\":{\"size\":10,\"symbol\":\"triangle-up-open\"},\"mode\":\"markers\",\"name\":\"pig2rat\",\"showlegend\":false,\"text\":\"95\\u202f% CI mean: [0.49;0.52]\",\"x\":[1.5],\"y\":[0.5199714091343272],\"type\":\"scatter\",\"xaxis\":\"x\",\"yaxis\":\"y\"},{\"legendgroup\":\"pig2rat\",\"line\":{\"color\":\"#89CCED\",\"dash\":\"solid\"},\"mode\":\"lines\",\"name\":\"pig2rat\",\"showlegend\":false,\"text\":\"95\\u202f% CI median: [0.43;0.50]\",\"x\":[1.7,1.7],\"y\":[0.4291213822736487,0.49836685456566737],\"type\":\"scatter\",\"xaxis\":\"x\",\"yaxis\":\"y\"},{\"legendgroup\":\"pig2rat\",\"line\":{\"color\":\"#89CCED\"},\"marker\":{\"size\":10,\"symbol\":\"triangle-down\"},\"mode\":\"markers\",\"name\":\"pig2rat\",\"showlegend\":false,\"text\":\"95\\u202f% CI median: [0.43;0.50]\",\"x\":[1.7],\"y\":[0.4291213822736487],\"type\":\"scatter\",\"xaxis\":\"x\",\"yaxis\":\"y\"},{\"legendgroup\":\"pig2rat\",\"line\":{\"color\":\"#89CCED\"},\"marker\":{\"size\":10,\"symbol\":\"triangle-up\"},\"mode\":\"markers\",\"name\":\"pig2rat\",\"showlegend\":false,\"text\":\"95\\u202f% CI median: [0.43;0.50]\",\"x\":[1.7],\"y\":[0.49836685456566737],\"type\":\"scatter\",\"xaxis\":\"x\",\"yaxis\":\"y\"},{\"legend\":\"legend\",\"legendgroup\":\"pig2human\",\"marker\":{\"color\":\"#DDCB76\",\"line\":{\"color\":\"black\",\"width\":1},\"size\":9,\"symbol\":\"diamond-tall\"},\"mode\":\"markers\",\"name\":\"background\",\"showlegend\":false,\"x\":[2.0],\"y\":[0.8932919788836882],\"type\":\"scatter\",\"xaxis\":\"x\",\"yaxis\":\"y\"},{\"legend\":\"legend\",\"legendgroup\":\"pig2human\",\"marker\":{\"color\":\"#DDCB76\",\"line\":{\"color\":\"black\",\"width\":1},\"size\":9,\"symbol\":\"star\"},\"mode\":\"markers\",\"name\":\"skin\",\"showlegend\":false,\"x\":[2.0933333333333333],\"y\":[0.7768507652573544],\"type\":\"scatter\",\"xaxis\":\"x\",\"yaxis\":\"y\"},{\"legend\":\"legend\",\"legendgroup\":\"pig2human\",\"marker\":{\"color\":\"#DDCB76\",\"line\":{\"color\":\"black\",\"width\":1},\"size\":9,\"symbol\":\"triangle-right\"},\"mode\":\"markers\",\"name\":\"lung\",\"showlegend\":false,\"x\":[2.1866666666666665],\"y\":[0.6541427634505736],\"type\":\"scatter\",\"xaxis\":\"x\",\"yaxis\":\"y\"},{\"legend\":\"legend\",\"legendgroup\":\"pig2human\",\"marker\":{\"color\":\"#DDCB76\",\"line\":{\"color\":\"black\",\"width\":1},\"size\":9,\"symbol\":\"triangle-left\"},\"mode\":\"markers\",\"name\":\"omentum\",\"showlegend\":false,\"x\":[2.2800000000000002],\"y\":[0.5036002390379187],\"type\":\"scatter\",\"xaxis\":\"x\",\"yaxis\":\"y\"},{\"legend\":\"legend\",\"legendgroup\":\"pig2human\",\"marker\":{\"color\":\"#DDCB76\",\"line\":{\"color\":\"black\",\"width\":1},\"size\":9,\"symbol\":\"circle\"},\"mode\":\"markers\",\"name\":\"stomach\",\"showlegend\":false,\"x\":[2.0],\"y\":[0.4756931812497804],\"type\":\"scatter\",\"xaxis\":\"x\",\"yaxis\":\"y\"},{\"legend\":\"legend\",\"legendgroup\":\"pig2human\",\"marker\":{\"color\":\"#DDCB76\",\"line\":{\"color\":\"black\",\"width\":1},\"size\":9,\"symbol\":\"triangle-up\"},\"mode\":\"markers\",\"name\":\"kidney\",\"showlegend\":false,\"x\":[2.0933333333333333],\"y\":[0.36119905145182696],\"type\":\"scatter\",\"xaxis\":\"x\",\"yaxis\":\"y\"},{\"legend\":\"legend\",\"legendgroup\":\"pig2human\",\"marker\":{\"color\":\"#DDCB76\",\"line\":{\"color\":\"black\",\"width\":1},\"size\":9,\"symbol\":\"triangle-down\"},\"mode\":\"markers\",\"name\":\"spleen\",\"showlegend\":false,\"x\":[2.1866666666666665],\"y\":[0.32438332721358165],\"type\":\"scatter\",\"xaxis\":\"x\",\"yaxis\":\"y\"},{\"legend\":\"legend\",\"legendgroup\":\"pig2human\",\"marker\":{\"color\":\"#DDCB76\",\"line\":{\"color\":\"black\",\"width\":1},\"size\":9,\"symbol\":\"diamond-wide\"},\"mode\":\"markers\",\"name\":\"peritoneum\",\"showlegend\":false,\"x\":[2.2800000000000002],\"y\":[0.2940845047700263],\"type\":\"scatter\",\"xaxis\":\"x\",\"yaxis\":\"y\"},{\"legend\":\"legend\",\"legendgroup\":\"pig2human\",\"marker\":{\"color\":\"#DDCB76\",\"line\":{\"color\":\"black\",\"width\":1},\"size\":9,\"symbol\":\"diamond\"},\"mode\":\"markers\",\"name\":\"colon\",\"showlegend\":false,\"x\":[2.0],\"y\":[0.2877543303600235],\"type\":\"scatter\",\"xaxis\":\"x\",\"yaxis\":\"y\"},{\"legend\":\"legend\",\"legendgroup\":\"pig2human\",\"marker\":{\"color\":\"#DDCB76\",\"line\":{\"color\":\"black\",\"width\":1},\"size\":9,\"symbol\":\"square\"},\"mode\":\"markers\",\"name\":\"small_bowel\",\"showlegend\":false,\"x\":[2.0933333333333333],\"y\":[0.22635484305429548],\"type\":\"scatter\",\"xaxis\":\"x\",\"yaxis\":\"y\"},{\"legend\":\"legend\",\"legendgroup\":\"pig2human\",\"marker\":{\"color\":\"#DDCB76\",\"line\":{\"color\":\"black\",\"width\":1},\"size\":9,\"symbol\":\"cross\"},\"mode\":\"markers\",\"name\":\"liver\",\"showlegend\":false,\"x\":[2.1866666666666665],\"y\":[0.17787657280506072],\"type\":\"scatter\",\"xaxis\":\"x\",\"yaxis\":\"y\"},{\"legend\":\"legend\",\"legendgroup\":\"pig2human\",\"marker\":{\"color\":\"#DDCB76\",\"line\":{\"color\":\"black\",\"width\":1},\"size\":9,\"symbol\":\"x\"},\"mode\":\"markers\",\"name\":\"pancreas\",\"showlegend\":false,\"x\":[2.2800000000000002],\"y\":[0.07918528155347984],\"type\":\"scatter\",\"xaxis\":\"x\",\"yaxis\":\"y\"},{\"boxmean\":true,\"boxpoints\":false,\"legend\":\"legend2\",\"legendgroup\":\"pig2human\",\"line\":{\"color\":\"#DDCB76\"},\"name\":\"pig2human\",\"showlegend\":true,\"x\":[2.6,2.6,2.6,2.6,2.6,2.6,2.6,2.6,2.6,2.6,2.6,2.6],\"y\":{\"dtype\":\"f8\",\"bdata\":\"vrRiD9mV7D+k5NQi9tvoP8zt\\u002fc287uQ\\u002f356dP34d4D\\u002fzeBnQwXHeP4I8VaDiHdc\\u002fAABwSbLC1D\\u002f92I\\u002fQR9LSP4JviyORatI\\u002fAs4aDDL5zD\\u002fjDXbXqMTGP3rEmJJ8RbQ\\u002f\"},\"type\":\"box\",\"xaxis\":\"x\",\"yaxis\":\"y\"},{\"legendgroup\":\"pig2human\",\"line\":{\"color\":\"#DDCB76\",\"dash\":\"dot\"},\"mode\":\"lines\",\"name\":\"pig2human\",\"showlegend\":false,\"text\":\"95\\u202f% CI mean: [0.39;0.45]\",\"x\":[2.5,2.5],\"y\":[0.39425744560811415,0.4485513994248268],\"type\":\"scatter\",\"xaxis\":\"x\",\"yaxis\":\"y\"},{\"legendgroup\":\"pig2human\",\"line\":{\"color\":\"#DDCB76\"},\"marker\":{\"size\":10,\"symbol\":\"triangle-down-open\"},\"mode\":\"markers\",\"name\":\"pig2human\",\"showlegend\":false,\"text\":\"95\\u202f% CI mean: [0.39;0.45]\",\"x\":[2.5],\"y\":[0.39425744560811415],\"type\":\"scatter\",\"xaxis\":\"x\",\"yaxis\":\"y\"},{\"legendgroup\":\"pig2human\",\"line\":{\"color\":\"#DDCB76\"},\"marker\":{\"size\":10,\"symbol\":\"triangle-up-open\"},\"mode\":\"markers\",\"name\":\"pig2human\",\"showlegend\":false,\"text\":\"95\\u202f% CI mean: [0.39;0.45]\",\"x\":[2.5],\"y\":[0.4485513994248268],\"type\":\"scatter\",\"xaxis\":\"x\",\"yaxis\":\"y\"},{\"legendgroup\":\"pig2human\",\"line\":{\"color\":\"#DDCB76\",\"dash\":\"solid\"},\"mode\":\"lines\",\"name\":\"pig2human\",\"showlegend\":false,\"text\":\"95\\u202f% CI median: [0.30;0.44]\",\"x\":[2.7,2.7],\"y\":[0.2953747094038073,0.4368937968813427],\"type\":\"scatter\",\"xaxis\":\"x\",\"yaxis\":\"y\"},{\"legendgroup\":\"pig2human\",\"line\":{\"color\":\"#DDCB76\"},\"marker\":{\"size\":10,\"symbol\":\"triangle-down\"},\"mode\":\"markers\",\"name\":\"pig2human\",\"showlegend\":false,\"text\":\"95\\u202f% CI median: [0.30;0.44]\",\"x\":[2.7],\"y\":[0.2953747094038073],\"type\":\"scatter\",\"xaxis\":\"x\",\"yaxis\":\"y\"},{\"legendgroup\":\"pig2human\",\"line\":{\"color\":\"#DDCB76\"},\"marker\":{\"size\":10,\"symbol\":\"triangle-up\"},\"mode\":\"markers\",\"name\":\"pig2human\",\"showlegend\":false,\"text\":\"95\\u202f% CI median: [0.30;0.44]\",\"x\":[2.7],\"y\":[0.4368937968813427],\"type\":\"scatter\",\"xaxis\":\"x\",\"yaxis\":\"y\"},{\"legend\":\"legend\",\"marker\":{\"color\":\"gray\",\"line\":{\"color\":\"black\",\"width\":1},\"size\":9,\"symbol\":\"circle\"},\"mode\":\"markers\",\"name\":\"stomach\",\"showlegend\":false,\"x\":[null],\"y\":[null],\"type\":\"scatter\",\"xaxis\":\"x2\",\"yaxis\":\"y2\"},{\"legend\":\"legend\",\"marker\":{\"color\":\"gray\",\"line\":{\"color\":\"black\",\"width\":1},\"size\":9,\"symbol\":\"square\"},\"mode\":\"markers\",\"name\":\"small_bowel\",\"showlegend\":false,\"x\":[null],\"y\":[null],\"type\":\"scatter\",\"xaxis\":\"x2\",\"yaxis\":\"y2\"},{\"legend\":\"legend\",\"marker\":{\"color\":\"gray\",\"line\":{\"color\":\"black\",\"width\":1},\"size\":9,\"symbol\":\"diamond\"},\"mode\":\"markers\",\"name\":\"colon\",\"showlegend\":false,\"x\":[null],\"y\":[null],\"type\":\"scatter\",\"xaxis\":\"x2\",\"yaxis\":\"y2\"},{\"legend\":\"legend\",\"marker\":{\"color\":\"gray\",\"line\":{\"color\":\"black\",\"width\":1},\"size\":9,\"symbol\":\"cross\"},\"mode\":\"markers\",\"name\":\"liver\",\"showlegend\":false,\"x\":[null],\"y\":[null],\"type\":\"scatter\",\"xaxis\":\"x2\",\"yaxis\":\"y2\"},{\"legend\":\"legend\",\"marker\":{\"color\":\"gray\",\"line\":{\"color\":\"black\",\"width\":1},\"size\":9,\"symbol\":\"x\"},\"mode\":\"markers\",\"name\":\"pancreas\",\"showlegend\":false,\"x\":[null],\"y\":[null],\"type\":\"scatter\",\"xaxis\":\"x2\",\"yaxis\":\"y2\"},{\"legend\":\"legend\",\"marker\":{\"color\":\"gray\",\"line\":{\"color\":\"black\",\"width\":1},\"size\":9,\"symbol\":\"triangle-up\"},\"mode\":\"markers\",\"name\":\"kidney\",\"showlegend\":false,\"x\":[null],\"y\":[null],\"type\":\"scatter\",\"xaxis\":\"x2\",\"yaxis\":\"y2\"},{\"legend\":\"legend\",\"marker\":{\"color\":\"gray\",\"line\":{\"color\":\"black\",\"width\":1},\"size\":9,\"symbol\":\"triangle-down\"},\"mode\":\"markers\",\"name\":\"spleen\",\"showlegend\":false,\"x\":[null],\"y\":[null],\"type\":\"scatter\",\"xaxis\":\"x2\",\"yaxis\":\"y2\"},{\"legend\":\"legend\",\"marker\":{\"color\":\"gray\",\"line\":{\"color\":\"black\",\"width\":1},\"size\":9,\"symbol\":\"triangle-left\"},\"mode\":\"markers\",\"name\":\"omentum\",\"showlegend\":false,\"x\":[null],\"y\":[null],\"type\":\"scatter\",\"xaxis\":\"x2\",\"yaxis\":\"y2\"},{\"legend\":\"legend\",\"marker\":{\"color\":\"gray\",\"line\":{\"color\":\"black\",\"width\":1},\"size\":9,\"symbol\":\"triangle-right\"},\"mode\":\"markers\",\"name\":\"lung\",\"showlegend\":false,\"x\":[null],\"y\":[null],\"type\":\"scatter\",\"xaxis\":\"x2\",\"yaxis\":\"y2\"},{\"legend\":\"legend\",\"marker\":{\"color\":\"gray\",\"line\":{\"color\":\"black\",\"width\":1},\"size\":9,\"symbol\":\"star\"},\"mode\":\"markers\",\"name\":\"skin\",\"showlegend\":false,\"x\":[null],\"y\":[null],\"type\":\"scatter\",\"xaxis\":\"x2\",\"yaxis\":\"y2\"},{\"legend\":\"legend\",\"marker\":{\"color\":\"gray\",\"line\":{\"color\":\"black\",\"width\":1},\"size\":9,\"symbol\":\"diamond-wide\"},\"mode\":\"markers\",\"name\":\"peritoneum\",\"showlegend\":false,\"x\":[null],\"y\":[null],\"type\":\"scatter\",\"xaxis\":\"x2\",\"yaxis\":\"y2\"},{\"legend\":\"legend\",\"marker\":{\"color\":\"gray\",\"line\":{\"color\":\"black\",\"width\":1},\"size\":9,\"symbol\":\"diamond-tall\"},\"mode\":\"markers\",\"name\":\"background\",\"showlegend\":false,\"x\":[null],\"y\":[null],\"type\":\"scatter\",\"xaxis\":\"x2\",\"yaxis\":\"y2\"},{\"legend\":\"legend\",\"legendgroup\":\"rat2rat\",\"marker\":{\"color\":\"#89CCED\",\"line\":{\"color\":\"black\",\"width\":1},\"size\":9,\"symbol\":\"triangle-right\"},\"mode\":\"markers\",\"name\":\"lung\",\"showlegend\":false,\"x\":[0.0],\"y\":[0.9978476732205122],\"type\":\"scatter\",\"xaxis\":\"x2\",\"yaxis\":\"y2\"},{\"legend\":\"legend\",\"legendgroup\":\"rat2rat\",\"marker\":{\"color\":\"#89CCED\",\"line\":{\"color\":\"black\",\"width\":1},\"size\":9,\"symbol\":\"diamond-tall\"},\"mode\":\"markers\",\"name\":\"background\",\"showlegend\":false,\"x\":[0.09333333333333334],\"y\":[0.9858846656324947],\"type\":\"scatter\",\"xaxis\":\"x2\",\"yaxis\":\"y2\"},{\"legend\":\"legend\",\"legendgroup\":\"rat2rat\",\"marker\":{\"color\":\"#89CCED\",\"line\":{\"color\":\"black\",\"width\":1},\"size\":9,\"symbol\":\"diamond-wide\"},\"mode\":\"markers\",\"name\":\"peritoneum\",\"showlegend\":false,\"x\":[0.18666666666666668],\"y\":[0.9810102349823262],\"type\":\"scatter\",\"xaxis\":\"x2\",\"yaxis\":\"y2\"},{\"legend\":\"legend\",\"legendgroup\":\"rat2rat\",\"marker\":{\"color\":\"#89CCED\",\"line\":{\"color\":\"black\",\"width\":1},\"size\":9,\"symbol\":\"triangle-up\"},\"mode\":\"markers\",\"name\":\"kidney\",\"showlegend\":false,\"x\":[0.28],\"y\":[0.9567324719149551],\"type\":\"scatter\",\"xaxis\":\"x2\",\"yaxis\":\"y2\"},{\"legend\":\"legend\",\"legendgroup\":\"rat2rat\",\"marker\":{\"color\":\"#89CCED\",\"line\":{\"color\":\"black\",\"width\":1},\"size\":9,\"symbol\":\"square\"},\"mode\":\"markers\",\"name\":\"small_bowel\",\"showlegend\":false,\"x\":[0.0],\"y\":[0.9511513583184125],\"type\":\"scatter\",\"xaxis\":\"x2\",\"yaxis\":\"y2\"},{\"legend\":\"legend\",\"legendgroup\":\"rat2rat\",\"marker\":{\"color\":\"#89CCED\",\"line\":{\"color\":\"black\",\"width\":1},\"size\":9,\"symbol\":\"cross\"},\"mode\":\"markers\",\"name\":\"liver\",\"showlegend\":false,\"x\":[0.09333333333333334],\"y\":[0.9309010537471407],\"type\":\"scatter\",\"xaxis\":\"x2\",\"yaxis\":\"y2\"},{\"legend\":\"legend\",\"legendgroup\":\"rat2rat\",\"marker\":{\"color\":\"#89CCED\",\"line\":{\"color\":\"black\",\"width\":1},\"size\":9,\"symbol\":\"star\"},\"mode\":\"markers\",\"name\":\"skin\",\"showlegend\":false,\"x\":[0.18666666666666668],\"y\":[0.9249522360546838],\"type\":\"scatter\",\"xaxis\":\"x2\",\"yaxis\":\"y2\"},{\"legend\":\"legend\",\"legendgroup\":\"rat2rat\",\"marker\":{\"color\":\"#89CCED\",\"line\":{\"color\":\"black\",\"width\":1},\"size\":9,\"symbol\":\"triangle-down\"},\"mode\":\"markers\",\"name\":\"spleen\",\"showlegend\":false,\"x\":[0.28],\"y\":[0.9073117357245197],\"type\":\"scatter\",\"xaxis\":\"x2\",\"yaxis\":\"y2\"},{\"legend\":\"legend\",\"legendgroup\":\"rat2rat\",\"marker\":{\"color\":\"#89CCED\",\"line\":{\"color\":\"black\",\"width\":1},\"size\":9,\"symbol\":\"circle\"},\"mode\":\"markers\",\"name\":\"stomach\",\"showlegend\":false,\"x\":[0.0],\"y\":[0.8674571774398477],\"type\":\"scatter\",\"xaxis\":\"x2\",\"yaxis\":\"y2\"},{\"legend\":\"legend\",\"legendgroup\":\"rat2rat\",\"marker\":{\"color\":\"#89CCED\",\"line\":{\"color\":\"black\",\"width\":1},\"size\":9,\"symbol\":\"triangle-left\"},\"mode\":\"markers\",\"name\":\"omentum\",\"showlegend\":false,\"x\":[0.09333333333333334],\"y\":[0.8335013497440195],\"type\":\"scatter\",\"xaxis\":\"x2\",\"yaxis\":\"y2\"},{\"legend\":\"legend\",\"legendgroup\":\"rat2rat\",\"marker\":{\"color\":\"#89CCED\",\"line\":{\"color\":\"black\",\"width\":1},\"size\":9,\"symbol\":\"diamond\"},\"mode\":\"markers\",\"name\":\"colon\",\"showlegend\":false,\"x\":[0.18666666666666668],\"y\":[0.8043994586382884],\"type\":\"scatter\",\"xaxis\":\"x2\",\"yaxis\":\"y2\"},{\"legend\":\"legend\",\"legendgroup\":\"rat2rat\",\"marker\":{\"color\":\"#89CCED\",\"line\":{\"color\":\"black\",\"width\":1},\"size\":9,\"symbol\":\"x\"},\"mode\":\"markers\",\"name\":\"pancreas\",\"showlegend\":false,\"x\":[0.28],\"y\":[0.7003949184994122],\"type\":\"scatter\",\"xaxis\":\"x2\",\"yaxis\":\"y2\"},{\"boxmean\":true,\"boxpoints\":false,\"legend\":\"legend2\",\"legendgroup\":\"rat2rat\",\"line\":{\"color\":\"#89CCED\"},\"name\":\"rat2rat\",\"showlegend\":false,\"x\":[0.6,0.6,0.6,0.6,0.6,0.6,0.6,0.6,0.6,0.6,0.6,0.6],\"y\":{\"dtype\":\"f8\",\"bdata\":\"vuVbPl7u7z9qn5D\\u002fXYzvP65KiZNvZO8\\u002fy6u8ao2d7j\\u002f\\u002fwDD51G\\u002fuPzL9tAHxye0\\u002fKvGGbjWZ7T+C1wafsgjtP5Eb+Y01wus\\u002fR1HKBQus6j+RsPjuo73pP3uqp5qiaeY\\u002f\"},\"type\":\"box\",\"xaxis\":\"x2\",\"yaxis\":\"y2\"},{\"legendgroup\":\"rat2rat\",\"line\":{\"color\":\"#89CCED\",\"dash\":\"dot\"},\"mode\":\"lines\",\"name\":\"rat2rat\",\"showlegend\":false,\"text\":\"95\\u202f% CI mean: [0.89;0.92]\",\"x\":[0.5,0.5],\"y\":[0.8918649145052489,0.9152768958560605],\"type\":\"scatter\",\"xaxis\":\"x2\",\"yaxis\":\"y2\"},{\"legendgroup\":\"rat2rat\",\"line\":{\"color\":\"#89CCED\"},\"marker\":{\"size\":10,\"symbol\":\"triangle-down-open\"},\"mode\":\"markers\",\"name\":\"rat2rat\",\"showlegend\":false,\"text\":\"95\\u202f% CI mean: [0.89;0.92]\",\"x\":[0.5],\"y\":[0.8918649145052489],\"type\":\"scatter\",\"xaxis\":\"x2\",\"yaxis\":\"y2\"},{\"legendgroup\":\"rat2rat\",\"line\":{\"color\":\"#89CCED\"},\"marker\":{\"size\":10,\"symbol\":\"triangle-up-open\"},\"mode\":\"markers\",\"name\":\"rat2rat\",\"showlegend\":false,\"text\":\"95\\u202f% CI mean: [0.89;0.92]\",\"x\":[0.5],\"y\":[0.9152768958560605],\"type\":\"scatter\",\"xaxis\":\"x2\",\"yaxis\":\"y2\"},{\"legendgroup\":\"rat2rat\",\"line\":{\"color\":\"#89CCED\",\"dash\":\"solid\"},\"mode\":\"lines\",\"name\":\"rat2rat\",\"showlegend\":false,\"text\":\"95\\u202f% CI median: [0.91;0.94]\",\"x\":[0.7,0.7],\"y\":[0.9142726882582596,0.9399945989958348],\"type\":\"scatter\",\"xaxis\":\"x2\",\"yaxis\":\"y2\"},{\"legendgroup\":\"rat2rat\",\"line\":{\"color\":\"#89CCED\"},\"marker\":{\"size\":10,\"symbol\":\"triangle-down\"},\"mode\":\"markers\",\"name\":\"rat2rat\",\"showlegend\":false,\"text\":\"95\\u202f% CI median: [0.91;0.94]\",\"x\":[0.7],\"y\":[0.9142726882582596],\"type\":\"scatter\",\"xaxis\":\"x2\",\"yaxis\":\"y2\"},{\"legendgroup\":\"rat2rat\",\"line\":{\"color\":\"#89CCED\"},\"marker\":{\"size\":10,\"symbol\":\"triangle-up\"},\"mode\":\"markers\",\"name\":\"rat2rat\",\"showlegend\":false,\"text\":\"95\\u202f% CI median: [0.91;0.94]\",\"x\":[0.7],\"y\":[0.9399945989958348],\"type\":\"scatter\",\"xaxis\":\"x2\",\"yaxis\":\"y2\"},{\"legend\":\"legend\",\"legendgroup\":\"rat2pig\",\"marker\":{\"color\":\"#44AA99\",\"line\":{\"color\":\"black\",\"width\":1},\"size\":9,\"symbol\":\"cross\"},\"mode\":\"markers\",\"name\":\"liver\",\"showlegend\":false,\"x\":[1.0],\"y\":[0.8952743374050455],\"type\":\"scatter\",\"xaxis\":\"x2\",\"yaxis\":\"y2\"},{\"legend\":\"legend\",\"legendgroup\":\"rat2pig\",\"marker\":{\"color\":\"#44AA99\",\"line\":{\"color\":\"black\",\"width\":1},\"size\":9,\"symbol\":\"diamond-tall\"},\"mode\":\"markers\",\"name\":\"background\",\"showlegend\":false,\"x\":[1.0933333333333333],\"y\":[0.7952098129038693],\"type\":\"scatter\",\"xaxis\":\"x2\",\"yaxis\":\"y2\"},{\"legend\":\"legend\",\"legendgroup\":\"rat2pig\",\"marker\":{\"color\":\"#44AA99\",\"line\":{\"color\":\"black\",\"width\":1},\"size\":9,\"symbol\":\"square\"},\"mode\":\"markers\",\"name\":\"small_bowel\",\"showlegend\":false,\"x\":[1.1866666666666668],\"y\":[0.7662973548624648],\"type\":\"scatter\",\"xaxis\":\"x2\",\"yaxis\":\"y2\"},{\"legend\":\"legend\",\"legendgroup\":\"rat2pig\",\"marker\":{\"color\":\"#44AA99\",\"line\":{\"color\":\"black\",\"width\":1},\"size\":9,\"symbol\":\"triangle-right\"},\"mode\":\"markers\",\"name\":\"lung\",\"showlegend\":false,\"x\":[1.28],\"y\":[0.6009666756177561],\"type\":\"scatter\",\"xaxis\":\"x2\",\"yaxis\":\"y2\"},{\"legend\":\"legend\",\"legendgroup\":\"rat2pig\",\"marker\":{\"color\":\"#44AA99\",\"line\":{\"color\":\"black\",\"width\":1},\"size\":9,\"symbol\":\"triangle-down\"},\"mode\":\"markers\",\"name\":\"spleen\",\"showlegend\":false,\"x\":[1.0],\"y\":[0.5770907605777813],\"type\":\"scatter\",\"xaxis\":\"x2\",\"yaxis\":\"y2\"},{\"legend\":\"legend\",\"legendgroup\":\"rat2pig\",\"marker\":{\"color\":\"#44AA99\",\"line\":{\"color\":\"black\",\"width\":1},\"size\":9,\"symbol\":\"star\"},\"mode\":\"markers\",\"name\":\"skin\",\"showlegend\":false,\"x\":[1.0933333333333333],\"y\":[0.4558946143649667],\"type\":\"scatter\",\"xaxis\":\"x2\",\"yaxis\":\"y2\"},{\"legend\":\"legend\",\"legendgroup\":\"rat2pig\",\"marker\":{\"color\":\"#44AA99\",\"line\":{\"color\":\"black\",\"width\":1},\"size\":9,\"symbol\":\"x\"},\"mode\":\"markers\",\"name\":\"pancreas\",\"showlegend\":false,\"x\":[1.1866666666666668],\"y\":[0.44233133063429875],\"type\":\"scatter\",\"xaxis\":\"x2\",\"yaxis\":\"y2\"},{\"legend\":\"legend\",\"legendgroup\":\"rat2pig\",\"marker\":{\"color\":\"#44AA99\",\"line\":{\"color\":\"black\",\"width\":1},\"size\":9,\"symbol\":\"diamond\"},\"mode\":\"markers\",\"name\":\"colon\",\"showlegend\":false,\"x\":[1.28],\"y\":[0.40624935752610014],\"type\":\"scatter\",\"xaxis\":\"x2\",\"yaxis\":\"y2\"},{\"legend\":\"legend\",\"legendgroup\":\"rat2pig\",\"marker\":{\"color\":\"#44AA99\",\"line\":{\"color\":\"black\",\"width\":1},\"size\":9,\"symbol\":\"diamond-wide\"},\"mode\":\"markers\",\"name\":\"peritoneum\",\"showlegend\":false,\"x\":[1.0],\"y\":[0.3285557149485781],\"type\":\"scatter\",\"xaxis\":\"x2\",\"yaxis\":\"y2\"},{\"legend\":\"legend\",\"legendgroup\":\"rat2pig\",\"marker\":{\"color\":\"#44AA99\",\"line\":{\"color\":\"black\",\"width\":1},\"size\":9,\"symbol\":\"triangle-left\"},\"mode\":\"markers\",\"name\":\"omentum\",\"showlegend\":false,\"x\":[1.0933333333333333],\"y\":[0.20908237072050517],\"type\":\"scatter\",\"xaxis\":\"x2\",\"yaxis\":\"y2\"},{\"legend\":\"legend\",\"legendgroup\":\"rat2pig\",\"marker\":{\"color\":\"#44AA99\",\"line\":{\"color\":\"black\",\"width\":1},\"size\":9,\"symbol\":\"circle\"},\"mode\":\"markers\",\"name\":\"stomach\",\"showlegend\":false,\"x\":[1.1866666666666668],\"y\":[0.05707444316444462],\"type\":\"scatter\",\"xaxis\":\"x2\",\"yaxis\":\"y2\"},{\"legend\":\"legend\",\"legendgroup\":\"rat2pig\",\"marker\":{\"color\":\"#44AA99\",\"line\":{\"color\":\"black\",\"width\":1},\"size\":9,\"symbol\":\"triangle-up\"},\"mode\":\"markers\",\"name\":\"kidney\",\"showlegend\":false,\"x\":[1.28],\"y\":[0.012441362844159207],\"type\":\"scatter\",\"xaxis\":\"x2\",\"yaxis\":\"y2\"},{\"boxmean\":true,\"boxpoints\":false,\"legend\":\"legend2\",\"legendgroup\":\"rat2pig\",\"line\":{\"color\":\"#44AA99\"},\"name\":\"rat2pig\",\"showlegend\":false,\"x\":[1.6,1.6,1.6,1.6,1.6,1.6,1.6,1.6,1.6,1.6,1.6,1.6],\"y\":{\"dtype\":\"f8\",\"bdata\":\"pUkDXham7D83LHzZW3LpP7KoxAeCheg\\u002fiHM4dx474z+4K\\u002fAKh3fiPyCvx5pgLd0\\u002froLEEShP3D+AHiZO\\u002ff\\u002fZP\\u002f2Np4wOB9U\\u002feBU1DDbDyj9rS6iF3DitP0VERHTbeok\\u002f\"},\"type\":\"box\",\"xaxis\":\"x2\",\"yaxis\":\"y2\"},{\"legendgroup\":\"rat2pig\",\"line\":{\"color\":\"#44AA99\",\"dash\":\"dot\"},\"mode\":\"lines\",\"name\":\"rat2pig\",\"showlegend\":false,\"text\":\"95\\u202f% CI mean: [0.43;0.49]\",\"x\":[1.5,1.5],\"y\":[0.432766970516469,0.4899685323531569],\"type\":\"scatter\",\"xaxis\":\"x2\",\"yaxis\":\"y2\"},{\"legendgroup\":\"rat2pig\",\"line\":{\"color\":\"#44AA99\"},\"marker\":{\"size\":10,\"symbol\":\"triangle-down-open\"},\"mode\":\"markers\",\"name\":\"rat2pig\",\"showlegend\":false,\"text\":\"95\\u202f% CI mean: [0.43;0.49]\",\"x\":[1.5],\"y\":[0.432766970516469],\"type\":\"scatter\",\"xaxis\":\"x2\",\"yaxis\":\"y2\"},{\"legendgroup\":\"rat2pig\",\"line\":{\"color\":\"#44AA99\"},\"marker\":{\"size\":10,\"symbol\":\"triangle-up-open\"},\"mode\":\"markers\",\"name\":\"rat2pig\",\"showlegend\":false,\"text\":\"95\\u202f% CI mean: [0.43;0.49]\",\"x\":[1.5],\"y\":[0.4899685323531569],\"type\":\"scatter\",\"xaxis\":\"x2\",\"yaxis\":\"y2\"},{\"legendgroup\":\"rat2pig\",\"line\":{\"color\":\"#44AA99\",\"dash\":\"solid\"},\"mode\":\"lines\",\"name\":\"rat2pig\",\"showlegend\":false,\"text\":\"95\\u202f% CI median: [0.39;0.52]\",\"x\":[1.7,1.7],\"y\":[0.38923346290279276,0.5186418186368668],\"type\":\"scatter\",\"xaxis\":\"x2\",\"yaxis\":\"y2\"},{\"legendgroup\":\"rat2pig\",\"line\":{\"color\":\"#44AA99\"},\"marker\":{\"size\":10,\"symbol\":\"triangle-down\"},\"mode\":\"markers\",\"name\":\"rat2pig\",\"showlegend\":false,\"text\":\"95\\u202f% CI median: [0.39;0.52]\",\"x\":[1.7],\"y\":[0.38923346290279276],\"type\":\"scatter\",\"xaxis\":\"x2\",\"yaxis\":\"y2\"},{\"legendgroup\":\"rat2pig\",\"line\":{\"color\":\"#44AA99\"},\"marker\":{\"size\":10,\"symbol\":\"triangle-up\"},\"mode\":\"markers\",\"name\":\"rat2pig\",\"showlegend\":false,\"text\":\"95\\u202f% CI median: [0.39;0.52]\",\"x\":[1.7],\"y\":[0.5186418186368668],\"type\":\"scatter\",\"xaxis\":\"x2\",\"yaxis\":\"y2\"},{\"legend\":\"legend\",\"legendgroup\":\"rat2human\",\"marker\":{\"color\":\"#DDCB76\",\"line\":{\"color\":\"black\",\"width\":1},\"size\":9,\"symbol\":\"diamond-tall\"},\"mode\":\"markers\",\"name\":\"background\",\"showlegend\":false,\"x\":[2.0],\"y\":[0.8296489318365103],\"type\":\"scatter\",\"xaxis\":\"x2\",\"yaxis\":\"y2\"},{\"legend\":\"legend\",\"legendgroup\":\"rat2human\",\"marker\":{\"color\":\"#DDCB76\",\"line\":{\"color\":\"black\",\"width\":1},\"size\":9,\"symbol\":\"triangle-left\"},\"mode\":\"markers\",\"name\":\"omentum\",\"showlegend\":false,\"x\":[2.0933333333333333],\"y\":[0.61524713760703],\"type\":\"scatter\",\"xaxis\":\"x2\",\"yaxis\":\"y2\"},{\"legend\":\"legend\",\"legendgroup\":\"rat2human\",\"marker\":{\"color\":\"#DDCB76\",\"line\":{\"color\":\"black\",\"width\":1},\"size\":9,\"symbol\":\"triangle-down\"},\"mode\":\"markers\",\"name\":\"spleen\",\"showlegend\":false,\"x\":[2.1866666666666665],\"y\":[0.6122798236707847],\"type\":\"scatter\",\"xaxis\":\"x2\",\"yaxis\":\"y2\"},{\"legend\":\"legend\",\"legendgroup\":\"rat2human\",\"marker\":{\"color\":\"#DDCB76\",\"line\":{\"color\":\"black\",\"width\":1},\"size\":9,\"symbol\":\"cross\"},\"mode\":\"markers\",\"name\":\"liver\",\"showlegend\":false,\"x\":[2.2800000000000002],\"y\":[0.5155703422742598],\"type\":\"scatter\",\"xaxis\":\"x2\",\"yaxis\":\"y2\"},{\"legend\":\"legend\",\"legendgroup\":\"rat2human\",\"marker\":{\"color\":\"#DDCB76\",\"line\":{\"color\":\"black\",\"width\":1},\"size\":9,\"symbol\":\"star\"},\"mode\":\"markers\",\"name\":\"skin\",\"showlegend\":false,\"x\":[2.0],\"y\":[0.512954025786636],\"type\":\"scatter\",\"xaxis\":\"x2\",\"yaxis\":\"y2\"},{\"legend\":\"legend\",\"legendgroup\":\"rat2human\",\"marker\":{\"color\":\"#DDCB76\",\"line\":{\"color\":\"black\",\"width\":1},\"size\":9,\"symbol\":\"square\"},\"mode\":\"markers\",\"name\":\"small_bowel\",\"showlegend\":false,\"x\":[2.0933333333333333],\"y\":[0.4713893457912466],\"type\":\"scatter\",\"xaxis\":\"x2\",\"yaxis\":\"y2\"},{\"legend\":\"legend\",\"legendgroup\":\"rat2human\",\"marker\":{\"color\":\"#DDCB76\",\"line\":{\"color\":\"black\",\"width\":1},\"size\":9,\"symbol\":\"triangle-right\"},\"mode\":\"markers\",\"name\":\"lung\",\"showlegend\":false,\"x\":[2.1866666666666665],\"y\":[0.3391012593937436],\"type\":\"scatter\",\"xaxis\":\"x2\",\"yaxis\":\"y2\"},{\"legend\":\"legend\",\"legendgroup\":\"rat2human\",\"marker\":{\"color\":\"#DDCB76\",\"line\":{\"color\":\"black\",\"width\":1},\"size\":9,\"symbol\":\"diamond-wide\"},\"mode\":\"markers\",\"name\":\"peritoneum\",\"showlegend\":false,\"x\":[2.2800000000000002],\"y\":[0.16147714663675153],\"type\":\"scatter\",\"xaxis\":\"x2\",\"yaxis\":\"y2\"},{\"legend\":\"legend\",\"legendgroup\":\"rat2human\",\"marker\":{\"color\":\"#DDCB76\",\"line\":{\"color\":\"black\",\"width\":1},\"size\":9,\"symbol\":\"circle\"},\"mode\":\"markers\",\"name\":\"stomach\",\"showlegend\":false,\"x\":[2.0],\"y\":[0.015840095247086548],\"type\":\"scatter\",\"xaxis\":\"x2\",\"yaxis\":\"y2\"},{\"legend\":\"legend\",\"legendgroup\":\"rat2human\",\"marker\":{\"color\":\"#DDCB76\",\"line\":{\"color\":\"black\",\"width\":1},\"size\":9,\"symbol\":\"x\"},\"mode\":\"markers\",\"name\":\"pancreas\",\"showlegend\":false,\"x\":[2.0933333333333333],\"y\":[0.006822508777968767],\"type\":\"scatter\",\"xaxis\":\"x2\",\"yaxis\":\"y2\"},{\"legend\":\"legend\",\"legendgroup\":\"rat2human\",\"marker\":{\"color\":\"#DDCB76\",\"line\":{\"color\":\"black\",\"width\":1},\"size\":9,\"symbol\":\"diamond\"},\"mode\":\"markers\",\"name\":\"colon\",\"showlegend\":false,\"x\":[2.1866666666666665],\"y\":[0.0029688210309299994],\"type\":\"scatter\",\"xaxis\":\"x2\",\"yaxis\":\"y2\"},{\"legend\":\"legend\",\"legendgroup\":\"rat2human\",\"marker\":{\"color\":\"#DDCB76\",\"line\":{\"color\":\"black\",\"width\":1},\"size\":9,\"symbol\":\"triangle-up\"},\"mode\":\"markers\",\"name\":\"kidney\",\"showlegend\":false,\"x\":[2.2800000000000002],\"y\":[0.0001580137381097302],\"type\":\"scatter\",\"xaxis\":\"x2\",\"yaxis\":\"y2\"},{\"boxmean\":true,\"boxpoints\":false,\"legend\":\"legend2\",\"legendgroup\":\"rat2human\",\"line\":{\"color\":\"#DDCB76\"},\"name\":\"rat2human\",\"showlegend\":false,\"x\":[2.6,2.6,2.6,2.6,2.6,2.6,2.6,2.6,2.6,2.6,2.6,2.6],\"y\":{\"dtype\":\"f8\",\"bdata\":\"zMWs6nuM6j+RWt\\u002fDGrDjP1ZVVdvLl+M\\u002fB2DbX41\\u002f4D9TXaOPHmrgP6DM9jc+K94\\u002fBjrIxNWz1T9pme17SKvEPwkBNcxiOJA\\u002fFLA\\u002fQevxez8TZImnEVJoP83MzKwPtiQ\\u002f\"},\"type\":\"box\",\"xaxis\":\"x2\",\"yaxis\":\"y2\"},{\"legendgroup\":\"rat2human\",\"line\":{\"color\":\"#DDCB76\",\"dash\":\"dot\"},\"mode\":\"lines\",\"name\":\"rat2human\",\"showlegend\":false,\"text\":\"95\\u202f% CI mean: [0.32;0.36]\",\"x\":[2.5,2.5],\"y\":[0.3201641600615974,0.36111565292421904],\"type\":\"scatter\",\"xaxis\":\"x2\",\"yaxis\":\"y2\"},{\"legendgroup\":\"rat2human\",\"line\":{\"color\":\"#DDCB76\"},\"marker\":{\"size\":10,\"symbol\":\"triangle-down-open\"},\"mode\":\"markers\",\"name\":\"rat2human\",\"showlegend\":false,\"text\":\"95\\u202f% CI mean: [0.32;0.36]\",\"x\":[2.5],\"y\":[0.3201641600615974],\"type\":\"scatter\",\"xaxis\":\"x2\",\"yaxis\":\"y2\"},{\"legendgroup\":\"rat2human\",\"line\":{\"color\":\"#DDCB76\"},\"marker\":{\"size\":10,\"symbol\":\"triangle-up-open\"},\"mode\":\"markers\",\"name\":\"rat2human\",\"showlegend\":false,\"text\":\"95\\u202f% CI mean: [0.32;0.36]\",\"x\":[2.5],\"y\":[0.36111565292421904],\"type\":\"scatter\",\"xaxis\":\"x2\",\"yaxis\":\"y2\"},{\"legendgroup\":\"rat2human\",\"line\":{\"color\":\"#DDCB76\",\"dash\":\"solid\"},\"mode\":\"lines\",\"name\":\"rat2human\",\"showlegend\":false,\"text\":\"95\\u202f% CI median: [0.33;0.47]\",\"x\":[2.7,2.7],\"y\":[0.32918650709705116,0.47494090415862944],\"type\":\"scatter\",\"xaxis\":\"x2\",\"yaxis\":\"y2\"},{\"legendgroup\":\"rat2human\",\"line\":{\"color\":\"#DDCB76\"},\"marker\":{\"size\":10,\"symbol\":\"triangle-down\"},\"mode\":\"markers\",\"name\":\"rat2human\",\"showlegend\":false,\"text\":\"95\\u202f% CI median: [0.33;0.47]\",\"x\":[2.7],\"y\":[0.32918650709705116],\"type\":\"scatter\",\"xaxis\":\"x2\",\"yaxis\":\"y2\"},{\"legendgroup\":\"rat2human\",\"line\":{\"color\":\"#DDCB76\"},\"marker\":{\"size\":10,\"symbol\":\"triangle-up\"},\"mode\":\"markers\",\"name\":\"rat2human\",\"showlegend\":false,\"text\":\"95\\u202f% CI median: [0.33;0.47]\",\"x\":[2.7],\"y\":[0.47494090415862944],\"type\":\"scatter\",\"xaxis\":\"x2\",\"yaxis\":\"y2\"},{\"legend\":\"legend\",\"marker\":{\"color\":\"gray\",\"line\":{\"color\":\"black\",\"width\":1},\"size\":9,\"symbol\":\"circle\"},\"mode\":\"markers\",\"name\":\"stomach\",\"showlegend\":false,\"x\":[null],\"y\":[null],\"type\":\"scatter\",\"xaxis\":\"x3\",\"yaxis\":\"y3\"},{\"legend\":\"legend\",\"marker\":{\"color\":\"gray\",\"line\":{\"color\":\"black\",\"width\":1},\"size\":9,\"symbol\":\"square\"},\"mode\":\"markers\",\"name\":\"small_bowel\",\"showlegend\":false,\"x\":[null],\"y\":[null],\"type\":\"scatter\",\"xaxis\":\"x3\",\"yaxis\":\"y3\"},{\"legend\":\"legend\",\"marker\":{\"color\":\"gray\",\"line\":{\"color\":\"black\",\"width\":1},\"size\":9,\"symbol\":\"diamond\"},\"mode\":\"markers\",\"name\":\"colon\",\"showlegend\":false,\"x\":[null],\"y\":[null],\"type\":\"scatter\",\"xaxis\":\"x3\",\"yaxis\":\"y3\"},{\"legend\":\"legend\",\"marker\":{\"color\":\"gray\",\"line\":{\"color\":\"black\",\"width\":1},\"size\":9,\"symbol\":\"cross\"},\"mode\":\"markers\",\"name\":\"liver\",\"showlegend\":false,\"x\":[null],\"y\":[null],\"type\":\"scatter\",\"xaxis\":\"x3\",\"yaxis\":\"y3\"},{\"legend\":\"legend\",\"marker\":{\"color\":\"gray\",\"line\":{\"color\":\"black\",\"width\":1},\"size\":9,\"symbol\":\"x\"},\"mode\":\"markers\",\"name\":\"pancreas\",\"showlegend\":false,\"x\":[null],\"y\":[null],\"type\":\"scatter\",\"xaxis\":\"x3\",\"yaxis\":\"y3\"},{\"legend\":\"legend\",\"marker\":{\"color\":\"gray\",\"line\":{\"color\":\"black\",\"width\":1},\"size\":9,\"symbol\":\"triangle-up\"},\"mode\":\"markers\",\"name\":\"kidney\",\"showlegend\":false,\"x\":[null],\"y\":[null],\"type\":\"scatter\",\"xaxis\":\"x3\",\"yaxis\":\"y3\"},{\"legend\":\"legend\",\"marker\":{\"color\":\"gray\",\"line\":{\"color\":\"black\",\"width\":1},\"size\":9,\"symbol\":\"triangle-down\"},\"mode\":\"markers\",\"name\":\"spleen\",\"showlegend\":false,\"x\":[null],\"y\":[null],\"type\":\"scatter\",\"xaxis\":\"x3\",\"yaxis\":\"y3\"},{\"legend\":\"legend\",\"marker\":{\"color\":\"gray\",\"line\":{\"color\":\"black\",\"width\":1},\"size\":9,\"symbol\":\"triangle-left\"},\"mode\":\"markers\",\"name\":\"omentum\",\"showlegend\":false,\"x\":[null],\"y\":[null],\"type\":\"scatter\",\"xaxis\":\"x3\",\"yaxis\":\"y3\"},{\"legend\":\"legend\",\"marker\":{\"color\":\"gray\",\"line\":{\"color\":\"black\",\"width\":1},\"size\":9,\"symbol\":\"triangle-right\"},\"mode\":\"markers\",\"name\":\"lung\",\"showlegend\":false,\"x\":[null],\"y\":[null],\"type\":\"scatter\",\"xaxis\":\"x3\",\"yaxis\":\"y3\"},{\"legend\":\"legend\",\"marker\":{\"color\":\"gray\",\"line\":{\"color\":\"black\",\"width\":1},\"size\":9,\"symbol\":\"star\"},\"mode\":\"markers\",\"name\":\"skin\",\"showlegend\":false,\"x\":[null],\"y\":[null],\"type\":\"scatter\",\"xaxis\":\"x3\",\"yaxis\":\"y3\"},{\"legend\":\"legend\",\"marker\":{\"color\":\"gray\",\"line\":{\"color\":\"black\",\"width\":1},\"size\":9,\"symbol\":\"diamond-wide\"},\"mode\":\"markers\",\"name\":\"peritoneum\",\"showlegend\":false,\"x\":[null],\"y\":[null],\"type\":\"scatter\",\"xaxis\":\"x3\",\"yaxis\":\"y3\"},{\"legend\":\"legend\",\"marker\":{\"color\":\"gray\",\"line\":{\"color\":\"black\",\"width\":1},\"size\":9,\"symbol\":\"diamond-tall\"},\"mode\":\"markers\",\"name\":\"background\",\"showlegend\":false,\"x\":[null],\"y\":[null],\"type\":\"scatter\",\"xaxis\":\"x3\",\"yaxis\":\"y3\"},{\"legend\":\"legend\",\"legendgroup\":\"human2human\",\"marker\":{\"color\":\"#DDCB76\",\"line\":{\"color\":\"black\",\"width\":1},\"size\":9,\"symbol\":\"diamond-tall\"},\"mode\":\"markers\",\"name\":\"background\",\"showlegend\":false,\"x\":[0.0],\"y\":[0.9855645417796852],\"type\":\"scatter\",\"xaxis\":\"x3\",\"yaxis\":\"y3\"},{\"legend\":\"legend\",\"legendgroup\":\"human2human\",\"marker\":{\"color\":\"#DDCB76\",\"line\":{\"color\":\"black\",\"width\":1},\"size\":9,\"symbol\":\"triangle-up\"},\"mode\":\"markers\",\"name\":\"kidney\",\"showlegend\":false,\"x\":[0.09333333333333334],\"y\":[0.9532011196307548],\"type\":\"scatter\",\"xaxis\":\"x3\",\"yaxis\":\"y3\"},{\"legend\":\"legend\",\"legendgroup\":\"human2human\",\"marker\":{\"color\":\"#DDCB76\",\"line\":{\"color\":\"black\",\"width\":1},\"size\":9,\"symbol\":\"cross\"},\"mode\":\"markers\",\"name\":\"liver\",\"showlegend\":false,\"x\":[0.18666666666666668],\"y\":[0.9370440226380674],\"type\":\"scatter\",\"xaxis\":\"x3\",\"yaxis\":\"y3\"},{\"legend\":\"legend\",\"legendgroup\":\"human2human\",\"marker\":{\"color\":\"#DDCB76\",\"line\":{\"color\":\"black\",\"width\":1},\"size\":9,\"symbol\":\"triangle-left\"},\"mode\":\"markers\",\"name\":\"omentum\",\"showlegend\":false,\"x\":[0.28],\"y\":[0.8857311668527781],\"type\":\"scatter\",\"xaxis\":\"x3\",\"yaxis\":\"y3\"},{\"legend\":\"legend\",\"legendgroup\":\"human2human\",\"marker\":{\"color\":\"#DDCB76\",\"line\":{\"color\":\"black\",\"width\":1},\"size\":9,\"symbol\":\"triangle-right\"},\"mode\":\"markers\",\"name\":\"lung\",\"showlegend\":false,\"x\":[0.0],\"y\":[0.8284061940511067],\"type\":\"scatter\",\"xaxis\":\"x3\",\"yaxis\":\"y3\"},{\"legend\":\"legend\",\"legendgroup\":\"human2human\",\"marker\":{\"color\":\"#DDCB76\",\"line\":{\"color\":\"black\",\"width\":1},\"size\":9,\"symbol\":\"star\"},\"mode\":\"markers\",\"name\":\"skin\",\"showlegend\":false,\"x\":[0.09333333333333334],\"y\":[0.8121815965635077],\"type\":\"scatter\",\"xaxis\":\"x3\",\"yaxis\":\"y3\"},{\"legend\":\"legend\",\"legendgroup\":\"human2human\",\"marker\":{\"color\":\"#DDCB76\",\"line\":{\"color\":\"black\",\"width\":1},\"size\":9,\"symbol\":\"square\"},\"mode\":\"markers\",\"name\":\"small_bowel\",\"showlegend\":false,\"x\":[0.18666666666666668],\"y\":[0.80655667146322],\"type\":\"scatter\",\"xaxis\":\"x3\",\"yaxis\":\"y3\"},{\"legend\":\"legend\",\"legendgroup\":\"human2human\",\"marker\":{\"color\":\"#DDCB76\",\"line\":{\"color\":\"black\",\"width\":1},\"size\":9,\"symbol\":\"circle\"},\"mode\":\"markers\",\"name\":\"stomach\",\"showlegend\":false,\"x\":[0.28],\"y\":[0.7721602228902018],\"type\":\"scatter\",\"xaxis\":\"x3\",\"yaxis\":\"y3\"},{\"legend\":\"legend\",\"legendgroup\":\"human2human\",\"marker\":{\"color\":\"#DDCB76\",\"line\":{\"color\":\"black\",\"width\":1},\"size\":9,\"symbol\":\"diamond\"},\"mode\":\"markers\",\"name\":\"colon\",\"showlegend\":false,\"x\":[0.0],\"y\":[0.7340119975009205],\"type\":\"scatter\",\"xaxis\":\"x3\",\"yaxis\":\"y3\"},{\"legend\":\"legend\",\"legendgroup\":\"human2human\",\"marker\":{\"color\":\"#DDCB76\",\"line\":{\"color\":\"black\",\"width\":1},\"size\":9,\"symbol\":\"triangle-down\"},\"mode\":\"markers\",\"name\":\"spleen\",\"showlegend\":false,\"x\":[0.09333333333333334],\"y\":[0.7098499001838112],\"type\":\"scatter\",\"xaxis\":\"x3\",\"yaxis\":\"y3\"},{\"legend\":\"legend\",\"legendgroup\":\"human2human\",\"marker\":{\"color\":\"#DDCB76\",\"line\":{\"color\":\"black\",\"width\":1},\"size\":9,\"symbol\":\"diamond-wide\"},\"mode\":\"markers\",\"name\":\"peritoneum\",\"showlegend\":false,\"x\":[0.18666666666666668],\"y\":[0.5326181049489117],\"type\":\"scatter\",\"xaxis\":\"x3\",\"yaxis\":\"y3\"},{\"legend\":\"legend\",\"legendgroup\":\"human2human\",\"marker\":{\"color\":\"#DDCB76\",\"line\":{\"color\":\"black\",\"width\":1},\"size\":9,\"symbol\":\"x\"},\"mode\":\"markers\",\"name\":\"pancreas\",\"showlegend\":false,\"x\":[0.28],\"y\":[0.3891662818942442],\"type\":\"scatter\",\"xaxis\":\"x3\",\"yaxis\":\"y3\"},{\"boxmean\":true,\"boxpoints\":false,\"legend\":\"legend2\",\"legendgroup\":\"human2human\",\"line\":{\"color\":\"#DDCB76\"},\"name\":\"human2human\",\"showlegend\":false,\"x\":[0.6,0.6,0.6,0.6,0.6,0.6,0.6,0.6,0.6,0.6,0.6,0.6],\"y\":{\"dtype\":\"f8\",\"bdata\":\"qE9hpr6J7z++Y2qin4DuP66RBL9D\\u002fO0\\u002ffMdV4+hX7D9OG+i0TYLqPxjodEJk\\u002fek\\u002fwsPJ70\\u002fP6T9QvBJbibXoPzZrhLoGfec\\u002feHdLIxe35j8Va8AfNQvhP75EXLEZ6Ng\\u002f\"},\"type\":\"box\",\"xaxis\":\"x3\",\"yaxis\":\"y3\"},{\"legendgroup\":\"human2human\",\"line\":{\"color\":\"#DDCB76\",\"dash\":\"dot\"},\"mode\":\"lines\",\"name\":\"human2human\",\"showlegend\":false,\"text\":\"95\\u202f% CI mean: [0.75;0.80]\",\"x\":[0.5,0.5],\"y\":[0.7538270537597865,0.8022061162292167],\"type\":\"scatter\",\"xaxis\":\"x3\",\"yaxis\":\"y3\"},{\"legendgroup\":\"human2human\",\"line\":{\"color\":\"#DDCB76\"},\"marker\":{\"size\":10,\"symbol\":\"triangle-down-open\"},\"mode\":\"markers\",\"name\":\"human2human\",\"showlegend\":false,\"text\":\"95\\u202f% CI mean: [0.75;0.80]\",\"x\":[0.5],\"y\":[0.7538270537597865],\"type\":\"scatter\",\"xaxis\":\"x3\",\"yaxis\":\"y3\"},{\"legendgroup\":\"human2human\",\"line\":{\"color\":\"#DDCB76\"},\"marker\":{\"size\":10,\"symbol\":\"triangle-up-open\"},\"mode\":\"markers\",\"name\":\"human2human\",\"showlegend\":false,\"text\":\"95\\u202f% CI mean: [0.75;0.80]\",\"x\":[0.5],\"y\":[0.8022061162292167],\"type\":\"scatter\",\"xaxis\":\"x3\",\"yaxis\":\"y3\"},{\"legendgroup\":\"human2human\",\"line\":{\"color\":\"#DDCB76\",\"dash\":\"solid\"},\"mode\":\"lines\",\"name\":\"human2human\",\"showlegend\":false,\"text\":\"95\\u202f% CI median: [0.77;0.84]\",\"x\":[0.7,0.7],\"y\":[0.7684506414675862,0.8420956507729439],\"type\":\"scatter\",\"xaxis\":\"x3\",\"yaxis\":\"y3\"},{\"legendgroup\":\"human2human\",\"line\":{\"color\":\"#DDCB76\"},\"marker\":{\"size\":10,\"symbol\":\"triangle-down\"},\"mode\":\"markers\",\"name\":\"human2human\",\"showlegend\":false,\"text\":\"95\\u202f% CI median: [0.77;0.84]\",\"x\":[0.7],\"y\":[0.7684506414675862],\"type\":\"scatter\",\"xaxis\":\"x3\",\"yaxis\":\"y3\"},{\"legendgroup\":\"human2human\",\"line\":{\"color\":\"#DDCB76\"},\"marker\":{\"size\":10,\"symbol\":\"triangle-up\"},\"mode\":\"markers\",\"name\":\"human2human\",\"showlegend\":false,\"text\":\"95\\u202f% CI median: [0.77;0.84]\",\"x\":[0.7],\"y\":[0.8420956507729439],\"type\":\"scatter\",\"xaxis\":\"x3\",\"yaxis\":\"y3\"},{\"legend\":\"legend\",\"legendgroup\":\"pig-p+rat-p2human2human\",\"marker\":{\"color\":\"#DDCB76\",\"line\":{\"color\":\"black\",\"width\":1},\"size\":9,\"symbol\":\"diamond-tall\"},\"mode\":\"markers\",\"name\":\"background\",\"showlegend\":false,\"x\":[1.0],\"y\":[0.9857305854564135],\"type\":\"scatter\",\"xaxis\":\"x3\",\"yaxis\":\"y3\"},{\"legend\":\"legend\",\"legendgroup\":\"pig-p+rat-p2human2human\",\"marker\":{\"color\":\"#DDCB76\",\"line\":{\"color\":\"black\",\"width\":1},\"size\":9,\"symbol\":\"triangle-up\"},\"mode\":\"markers\",\"name\":\"kidney\",\"showlegend\":false,\"x\":[1.0933333333333333],\"y\":[0.9541416533507037],\"type\":\"scatter\",\"xaxis\":\"x3\",\"yaxis\":\"y3\"},{\"legend\":\"legend\",\"legendgroup\":\"pig-p+rat-p2human2human\",\"marker\":{\"color\":\"#DDCB76\",\"line\":{\"color\":\"black\",\"width\":1},\"size\":9,\"symbol\":\"cross\"},\"mode\":\"markers\",\"name\":\"liver\",\"showlegend\":false,\"x\":[1.1866666666666668],\"y\":[0.93213141693186],\"type\":\"scatter\",\"xaxis\":\"x3\",\"yaxis\":\"y3\"},{\"legend\":\"legend\",\"legendgroup\":\"pig-p+rat-p2human2human\",\"marker\":{\"color\":\"#DDCB76\",\"line\":{\"color\":\"black\",\"width\":1},\"size\":9,\"symbol\":\"triangle-left\"},\"mode\":\"markers\",\"name\":\"omentum\",\"showlegend\":false,\"x\":[1.28],\"y\":[0.8856072637145966],\"type\":\"scatter\",\"xaxis\":\"x3\",\"yaxis\":\"y3\"},{\"legend\":\"legend\",\"legendgroup\":\"pig-p+rat-p2human2human\",\"marker\":{\"color\":\"#DDCB76\",\"line\":{\"color\":\"black\",\"width\":1},\"size\":9,\"symbol\":\"triangle-right\"},\"mode\":\"markers\",\"name\":\"lung\",\"showlegend\":false,\"x\":[1.0],\"y\":[0.8688883194658491],\"type\":\"scatter\",\"xaxis\":\"x3\",\"yaxis\":\"y3\"},{\"legend\":\"legend\",\"legendgroup\":\"pig-p+rat-p2human2human\",\"marker\":{\"color\":\"#DDCB76\",\"line\":{\"color\":\"black\",\"width\":1},\"size\":9,\"symbol\":\"star\"},\"mode\":\"markers\",\"name\":\"skin\",\"showlegend\":false,\"x\":[1.0933333333333333],\"y\":[0.8165137164603351],\"type\":\"scatter\",\"xaxis\":\"x3\",\"yaxis\":\"y3\"},{\"legend\":\"legend\",\"legendgroup\":\"pig-p+rat-p2human2human\",\"marker\":{\"color\":\"#DDCB76\",\"line\":{\"color\":\"black\",\"width\":1},\"size\":9,\"symbol\":\"square\"},\"mode\":\"markers\",\"name\":\"small_bowel\",\"showlegend\":false,\"x\":[1.1866666666666668],\"y\":[0.7804778487303679],\"type\":\"scatter\",\"xaxis\":\"x3\",\"yaxis\":\"y3\"},{\"legend\":\"legend\",\"legendgroup\":\"pig-p+rat-p2human2human\",\"marker\":{\"color\":\"#DDCB76\",\"line\":{\"color\":\"black\",\"width\":1},\"size\":9,\"symbol\":\"circle\"},\"mode\":\"markers\",\"name\":\"stomach\",\"showlegend\":false,\"x\":[1.28],\"y\":[0.7701089621811287],\"type\":\"scatter\",\"xaxis\":\"x3\",\"yaxis\":\"y3\"},{\"legend\":\"legend\",\"legendgroup\":\"pig-p+rat-p2human2human\",\"marker\":{\"color\":\"#DDCB76\",\"line\":{\"color\":\"black\",\"width\":1},\"size\":9,\"symbol\":\"diamond\"},\"mode\":\"markers\",\"name\":\"colon\",\"showlegend\":false,\"x\":[1.0],\"y\":[0.7461792527232081],\"type\":\"scatter\",\"xaxis\":\"x3\",\"yaxis\":\"y3\"},{\"legend\":\"legend\",\"legendgroup\":\"pig-p+rat-p2human2human\",\"marker\":{\"color\":\"#DDCB76\",\"line\":{\"color\":\"black\",\"width\":1},\"size\":9,\"symbol\":\"triangle-down\"},\"mode\":\"markers\",\"name\":\"spleen\",\"showlegend\":false,\"x\":[1.0933333333333333],\"y\":[0.7009499467288454],\"type\":\"scatter\",\"xaxis\":\"x3\",\"yaxis\":\"y3\"},{\"legend\":\"legend\",\"legendgroup\":\"pig-p+rat-p2human2human\",\"marker\":{\"color\":\"#DDCB76\",\"line\":{\"color\":\"black\",\"width\":1},\"size\":9,\"symbol\":\"diamond-wide\"},\"mode\":\"markers\",\"name\":\"peritoneum\",\"showlegend\":false,\"x\":[1.1866666666666668],\"y\":[0.6256509116383827],\"type\":\"scatter\",\"xaxis\":\"x3\",\"yaxis\":\"y3\"},{\"legend\":\"legend\",\"legendgroup\":\"pig-p+rat-p2human2human\",\"marker\":{\"color\":\"#DDCB76\",\"line\":{\"color\":\"black\",\"width\":1},\"size\":9,\"symbol\":\"x\"},\"mode\":\"markers\",\"name\":\"pancreas\",\"showlegend\":false,\"x\":[1.28],\"y\":[0.40687011663191364],\"type\":\"scatter\",\"xaxis\":\"x3\",\"yaxis\":\"y3\"},{\"boxmean\":true,\"boxpoints\":false,\"legend\":\"legend2\",\"legendgroup\":\"pig-p+rat-p2human2human\",\"line\":{\"color\":\"#DDCB76\"},\"name\":\"pig-p+rat-p2human2human\",\"showlegend\":false,\"x\":[1.6,1.6,1.6,1.6,1.6,1.6,1.6,1.6,1.6,1.6,1.6,1.6],\"y\":{\"dtype\":\"f8\",\"bdata\":\"qXhm3hqL7z+EkJwTVIjuP8J86UMF1O0\\u002fvCJYC+VW7D9dbn\\u002fg7s3rP4DXnV\\u002fhIOo\\u002fZpRxrqz56D8Vld2Mu6ToP\\u002fbL7E+z4Oc\\u002fqqoqlS5u5j\\u002fPYYYPVQXkP3LXKfUoCto\\u002f\"},\"type\":\"box\",\"xaxis\":\"x3\",\"yaxis\":\"y3\"},{\"legendgroup\":\"pig-p+rat-p2human2human\",\"line\":{\"color\":\"#DDCB76\",\"dash\":\"dot\"},\"mode\":\"lines\",\"name\":\"pig-p+rat-p2human2human\",\"showlegend\":false,\"text\":\"95\\u202f% CI mean: [0.77;0.81]\",\"x\":[1.5,1.5],\"y\":[0.7667644853862441,0.8128223904911782],\"type\":\"scatter\",\"xaxis\":\"x3\",\"yaxis\":\"y3\"},{\"legendgroup\":\"pig-p+rat-p2human2human\",\"line\":{\"color\":\"#DDCB76\"},\"marker\":{\"size\":10,\"symbol\":\"triangle-down-open\"},\"mode\":\"markers\",\"name\":\"pig-p+rat-p2human2human\",\"showlegend\":false,\"text\":\"95\\u202f% CI mean: [0.77;0.81]\",\"x\":[1.5],\"y\":[0.7667644853862441],\"type\":\"scatter\",\"xaxis\":\"x3\",\"yaxis\":\"y3\"},{\"legendgroup\":\"pig-p+rat-p2human2human\",\"line\":{\"color\":\"#DDCB76\"},\"marker\":{\"size\":10,\"symbol\":\"triangle-up-open\"},\"mode\":\"markers\",\"name\":\"pig-p+rat-p2human2human\",\"showlegend\":false,\"text\":\"95\\u202f% CI mean: [0.77;0.81]\",\"x\":[1.5],\"y\":[0.8128223904911782],\"type\":\"scatter\",\"xaxis\":\"x3\",\"yaxis\":\"y3\"},{\"legendgroup\":\"pig-p+rat-p2human2human\",\"line\":{\"color\":\"#DDCB76\",\"dash\":\"solid\"},\"mode\":\"lines\",\"name\":\"pig-p+rat-p2human2human\",\"showlegend\":false,\"text\":\"95\\u202f% CI median: [0.77;0.84]\",\"x\":[1.7,1.7],\"y\":[0.7668060712960509,0.8408189534603739],\"type\":\"scatter\",\"xaxis\":\"x3\",\"yaxis\":\"y3\"},{\"legendgroup\":\"pig-p+rat-p2human2human\",\"line\":{\"color\":\"#DDCB76\"},\"marker\":{\"size\":10,\"symbol\":\"triangle-down\"},\"mode\":\"markers\",\"name\":\"pig-p+rat-p2human2human\",\"showlegend\":false,\"text\":\"95\\u202f% CI median: [0.77;0.84]\",\"x\":[1.7],\"y\":[0.7668060712960509],\"type\":\"scatter\",\"xaxis\":\"x3\",\"yaxis\":\"y3\"},{\"legendgroup\":\"pig-p+rat-p2human2human\",\"line\":{\"color\":\"#DDCB76\"},\"marker\":{\"size\":10,\"symbol\":\"triangle-up\"},\"mode\":\"markers\",\"name\":\"pig-p+rat-p2human2human\",\"showlegend\":false,\"text\":\"95\\u202f% CI median: [0.77;0.84]\",\"x\":[1.7],\"y\":[0.8408189534603739],\"type\":\"scatter\",\"xaxis\":\"x3\",\"yaxis\":\"y3\"}],                        {\"template\":{\"data\":{\"barpolar\":[{\"marker\":{\"line\":{\"color\":\"white\",\"width\":0.5},\"pattern\":{\"fillmode\":\"overlay\",\"size\":10,\"solidity\":0.2}},\"type\":\"barpolar\"}],\"bar\":[{\"error_x\":{\"color\":\"#2a3f5f\"},\"error_y\":{\"color\":\"#2a3f5f\"},\"marker\":{\"line\":{\"color\":\"white\",\"width\":0.5},\"pattern\":{\"fillmode\":\"overlay\",\"size\":10,\"solidity\":0.2}},\"type\":\"bar\"}],\"carpet\":[{\"aaxis\":{\"endlinecolor\":\"#2a3f5f\",\"gridcolor\":\"#C8D4E3\",\"linecolor\":\"#C8D4E3\",\"minorgridcolor\":\"#C8D4E3\",\"startlinecolor\":\"#2a3f5f\"},\"baxis\":{\"endlinecolor\":\"#2a3f5f\",\"gridcolor\":\"#C8D4E3\",\"linecolor\":\"#C8D4E3\",\"minorgridcolor\":\"#C8D4E3\",\"startlinecolor\":\"#2a3f5f\"},\"type\":\"carpet\"}],\"choropleth\":[{\"colorbar\":{\"outlinewidth\":0,\"ticks\":\"\"},\"type\":\"choropleth\"}],\"contourcarpet\":[{\"colorbar\":{\"outlinewidth\":0,\"ticks\":\"\"},\"type\":\"contourcarpet\"}],\"contour\":[{\"colorbar\":{\"outlinewidth\":0,\"ticks\":\"\"},\"colorscale\":[[0.0,\"#0d0887\"],[0.1111111111111111,\"#46039f\"],[0.2222222222222222,\"#7201a8\"],[0.3333333333333333,\"#9c179e\"],[0.4444444444444444,\"#bd3786\"],[0.5555555555555556,\"#d8576b\"],[0.6666666666666666,\"#ed7953\"],[0.7777777777777778,\"#fb9f3a\"],[0.8888888888888888,\"#fdca26\"],[1.0,\"#f0f921\"]],\"type\":\"contour\"}],\"heatmap\":[{\"colorbar\":{\"outlinewidth\":0,\"ticks\":\"\"},\"colorscale\":[[0.0,\"#0d0887\"],[0.1111111111111111,\"#46039f\"],[0.2222222222222222,\"#7201a8\"],[0.3333333333333333,\"#9c179e\"],[0.4444444444444444,\"#bd3786\"],[0.5555555555555556,\"#d8576b\"],[0.6666666666666666,\"#ed7953\"],[0.7777777777777778,\"#fb9f3a\"],[0.8888888888888888,\"#fdca26\"],[1.0,\"#f0f921\"]],\"type\":\"heatmap\"}],\"histogram2dcontour\":[{\"colorbar\":{\"outlinewidth\":0,\"ticks\":\"\"},\"colorscale\":[[0.0,\"#0d0887\"],[0.1111111111111111,\"#46039f\"],[0.2222222222222222,\"#7201a8\"],[0.3333333333333333,\"#9c179e\"],[0.4444444444444444,\"#bd3786\"],[0.5555555555555556,\"#d8576b\"],[0.6666666666666666,\"#ed7953\"],[0.7777777777777778,\"#fb9f3a\"],[0.8888888888888888,\"#fdca26\"],[1.0,\"#f0f921\"]],\"type\":\"histogram2dcontour\"}],\"histogram2d\":[{\"colorbar\":{\"outlinewidth\":0,\"ticks\":\"\"},\"colorscale\":[[0.0,\"#0d0887\"],[0.1111111111111111,\"#46039f\"],[0.2222222222222222,\"#7201a8\"],[0.3333333333333333,\"#9c179e\"],[0.4444444444444444,\"#bd3786\"],[0.5555555555555556,\"#d8576b\"],[0.6666666666666666,\"#ed7953\"],[0.7777777777777778,\"#fb9f3a\"],[0.8888888888888888,\"#fdca26\"],[1.0,\"#f0f921\"]],\"type\":\"histogram2d\"}],\"histogram\":[{\"marker\":{\"pattern\":{\"fillmode\":\"overlay\",\"size\":10,\"solidity\":0.2}},\"type\":\"histogram\"}],\"mesh3d\":[{\"colorbar\":{\"outlinewidth\":0,\"ticks\":\"\"},\"type\":\"mesh3d\"}],\"parcoords\":[{\"line\":{\"colorbar\":{\"outlinewidth\":0,\"ticks\":\"\"}},\"type\":\"parcoords\"}],\"pie\":[{\"automargin\":true,\"type\":\"pie\"}],\"scatter3d\":[{\"line\":{\"colorbar\":{\"outlinewidth\":0,\"ticks\":\"\"}},\"marker\":{\"colorbar\":{\"outlinewidth\":0,\"ticks\":\"\"}},\"type\":\"scatter3d\"}],\"scattercarpet\":[{\"marker\":{\"colorbar\":{\"outlinewidth\":0,\"ticks\":\"\"}},\"type\":\"scattercarpet\"}],\"scattergeo\":[{\"marker\":{\"colorbar\":{\"outlinewidth\":0,\"ticks\":\"\"}},\"type\":\"scattergeo\"}],\"scattergl\":[{\"marker\":{\"colorbar\":{\"outlinewidth\":0,\"ticks\":\"\"}},\"type\":\"scattergl\"}],\"scattermapbox\":[{\"marker\":{\"colorbar\":{\"outlinewidth\":0,\"ticks\":\"\"}},\"type\":\"scattermapbox\"}],\"scattermap\":[{\"marker\":{\"colorbar\":{\"outlinewidth\":0,\"ticks\":\"\"}},\"type\":\"scattermap\"}],\"scatterpolargl\":[{\"marker\":{\"colorbar\":{\"outlinewidth\":0,\"ticks\":\"\"}},\"type\":\"scatterpolargl\"}],\"scatterpolar\":[{\"marker\":{\"colorbar\":{\"outlinewidth\":0,\"ticks\":\"\"}},\"type\":\"scatterpolar\"}],\"scatter\":[{\"fillpattern\":{\"fillmode\":\"overlay\",\"size\":10,\"solidity\":0.2},\"type\":\"scatter\"}],\"scatterternary\":[{\"marker\":{\"colorbar\":{\"outlinewidth\":0,\"ticks\":\"\"}},\"type\":\"scatterternary\"}],\"surface\":[{\"colorbar\":{\"outlinewidth\":0,\"ticks\":\"\"},\"colorscale\":[[0.0,\"#0d0887\"],[0.1111111111111111,\"#46039f\"],[0.2222222222222222,\"#7201a8\"],[0.3333333333333333,\"#9c179e\"],[0.4444444444444444,\"#bd3786\"],[0.5555555555555556,\"#d8576b\"],[0.6666666666666666,\"#ed7953\"],[0.7777777777777778,\"#fb9f3a\"],[0.8888888888888888,\"#fdca26\"],[1.0,\"#f0f921\"]],\"type\":\"surface\"}],\"table\":[{\"cells\":{\"fill\":{\"color\":\"#EBF0F8\"},\"line\":{\"color\":\"white\"}},\"header\":{\"fill\":{\"color\":\"#C8D4E3\"},\"line\":{\"color\":\"white\"}},\"type\":\"table\"}]},\"layout\":{\"annotationdefaults\":{\"arrowcolor\":\"#2a3f5f\",\"arrowhead\":0,\"arrowwidth\":1},\"autotypenumbers\":\"strict\",\"coloraxis\":{\"colorbar\":{\"outlinewidth\":0,\"ticks\":\"\"}},\"colorscale\":{\"diverging\":[[0,\"#8e0152\"],[0.1,\"#c51b7d\"],[0.2,\"#de77ae\"],[0.3,\"#f1b6da\"],[0.4,\"#fde0ef\"],[0.5,\"#f7f7f7\"],[0.6,\"#e6f5d0\"],[0.7,\"#b8e186\"],[0.8,\"#7fbc41\"],[0.9,\"#4d9221\"],[1,\"#276419\"]],\"sequential\":[[0.0,\"#0d0887\"],[0.1111111111111111,\"#46039f\"],[0.2222222222222222,\"#7201a8\"],[0.3333333333333333,\"#9c179e\"],[0.4444444444444444,\"#bd3786\"],[0.5555555555555556,\"#d8576b\"],[0.6666666666666666,\"#ed7953\"],[0.7777777777777778,\"#fb9f3a\"],[0.8888888888888888,\"#fdca26\"],[1.0,\"#f0f921\"]],\"sequentialminus\":[[0.0,\"#0d0887\"],[0.1111111111111111,\"#46039f\"],[0.2222222222222222,\"#7201a8\"],[0.3333333333333333,\"#9c179e\"],[0.4444444444444444,\"#bd3786\"],[0.5555555555555556,\"#d8576b\"],[0.6666666666666666,\"#ed7953\"],[0.7777777777777778,\"#fb9f3a\"],[0.8888888888888888,\"#fdca26\"],[1.0,\"#f0f921\"]]},\"colorway\":[\"#636efa\",\"#EF553B\",\"#00cc96\",\"#ab63fa\",\"#FFA15A\",\"#19d3f3\",\"#FF6692\",\"#B6E880\",\"#FF97FF\",\"#FECB52\"],\"font\":{\"color\":\"#2a3f5f\"},\"geo\":{\"bgcolor\":\"white\",\"lakecolor\":\"white\",\"landcolor\":\"white\",\"showlakes\":true,\"showland\":true,\"subunitcolor\":\"#C8D4E3\"},\"hoverlabel\":{\"align\":\"left\"},\"hovermode\":\"closest\",\"mapbox\":{\"style\":\"light\"},\"paper_bgcolor\":\"white\",\"plot_bgcolor\":\"white\",\"polar\":{\"angularaxis\":{\"gridcolor\":\"#EBF0F8\",\"linecolor\":\"#EBF0F8\",\"ticks\":\"\"},\"bgcolor\":\"white\",\"radialaxis\":{\"gridcolor\":\"#EBF0F8\",\"linecolor\":\"#EBF0F8\",\"ticks\":\"\"}},\"scene\":{\"xaxis\":{\"backgroundcolor\":\"white\",\"gridcolor\":\"#DFE8F3\",\"gridwidth\":2,\"linecolor\":\"#EBF0F8\",\"showbackground\":true,\"ticks\":\"\",\"zerolinecolor\":\"#EBF0F8\"},\"yaxis\":{\"backgroundcolor\":\"white\",\"gridcolor\":\"#DFE8F3\",\"gridwidth\":2,\"linecolor\":\"#EBF0F8\",\"showbackground\":true,\"ticks\":\"\",\"zerolinecolor\":\"#EBF0F8\"},\"zaxis\":{\"backgroundcolor\":\"white\",\"gridcolor\":\"#DFE8F3\",\"gridwidth\":2,\"linecolor\":\"#EBF0F8\",\"showbackground\":true,\"ticks\":\"\",\"zerolinecolor\":\"#EBF0F8\"}},\"shapedefaults\":{\"line\":{\"color\":\"#2a3f5f\"}},\"ternary\":{\"aaxis\":{\"gridcolor\":\"#DFE8F3\",\"linecolor\":\"#A2B1C6\",\"ticks\":\"\"},\"baxis\":{\"gridcolor\":\"#DFE8F3\",\"linecolor\":\"#A2B1C6\",\"ticks\":\"\"},\"bgcolor\":\"white\",\"caxis\":{\"gridcolor\":\"#DFE8F3\",\"linecolor\":\"#A2B1C6\",\"ticks\":\"\"}},\"title\":{\"x\":0.05},\"xaxis\":{\"automargin\":true,\"gridcolor\":\"#EBF0F8\",\"linecolor\":\"#EBF0F8\",\"ticks\":\"\",\"title\":{\"standoff\":15},\"zerolinecolor\":\"#EBF0F8\",\"zerolinewidth\":2},\"yaxis\":{\"automargin\":true,\"gridcolor\":\"#EBF0F8\",\"linecolor\":\"#EBF0F8\",\"ticks\":\"\",\"title\":{\"standoff\":15},\"zerolinecolor\":\"#EBF0F8\",\"zerolinewidth\":2}}},\"xaxis\":{\"anchor\":\"y\",\"domain\":[0.0,0.3525],\"showticklabels\":false},\"yaxis\":{\"anchor\":\"x\",\"domain\":[0.0,1.0],\"zeroline\":false,\"title\":{\"text\":\"\\u003cb\\u003eDSC\\u003c\\u002fb\\u003e\",\"standoff\":12}},\"xaxis2\":{\"anchor\":\"y2\",\"domain\":[0.38249999999999995,0.7349999999999999],\"showticklabels\":false},\"yaxis2\":{\"anchor\":\"x2\",\"domain\":[0.0,1.0],\"matches\":\"y\",\"showticklabels\":false,\"zeroline\":false},\"xaxis3\":{\"anchor\":\"y3\",\"domain\":[0.7649999999999999,0.9999999999999999],\"showticklabels\":false},\"yaxis3\":{\"anchor\":\"x3\",\"domain\":[0.0,1.0],\"matches\":\"y\",\"showticklabels\":false,\"zeroline\":false},\"height\":400,\"width\":1200,\"font\":{\"family\":\"Libertinus Sans\",\"size\":16},\"showlegend\":false,\"legend\":{\"title\":{},\"orientation\":\"h\",\"yanchor\":\"bottom\",\"y\":1.05,\"xanchor\":\"center\",\"x\":0.2},\"legend2\":{\"title\":{},\"orientation\":\"h\",\"yanchor\":\"bottom\",\"y\":1.05,\"xanchor\":\"center\",\"x\":0.8},\"margin\":{\"l\":0,\"r\":0,\"t\":0,\"b\":0}},                        {\"responsive\": true}                    ).then(function(){\n",
       "                            \n",
       "var gd = document.getElementById('62e6e282-e5c1-457c-b8c3-a967b36711eb');\n",
       "var x = new MutationObserver(function (mutations, observer) {{\n",
       "        var display = window.getComputedStyle(gd).display;\n",
       "        if (!display || display === 'none') {{\n",
       "            console.log([gd, 'removed!']);\n",
       "            Plotly.purge(gd);\n",
       "            observer.disconnect();\n",
       "        }}\n",
       "}});\n",
       "\n",
       "// Listen for the removal of the full notebook cells\n",
       "var notebookContainer = gd.closest('#notebook-container');\n",
       "if (notebookContainer) {{\n",
       "    x.observe(notebookContainer, {childList: true});\n",
       "}}\n",
       "\n",
       "// Listen for the clearing of the current output cell\n",
       "var outputEl = gd.closest('.output');\n",
       "if (outputEl) {{\n",
       "    x.observe(outputEl, {childList: true});\n",
       "}}\n",
       "\n",
       "                        })                };            </script>        </div>"
      ]
     },
     "metadata": {},
     "output_type": "display_data"
    }
   ],
   "source": [
    "def species_comparison(metric_name: str, metric_name_short: str) -> go.Figure:\n",
    "    fig = make_subplots(\n",
    "        rows=1,\n",
    "        cols=3,\n",
    "        shared_yaxes=True,\n",
    "        vertical_spacing=0.1,\n",
    "        horizontal_spacing=0.03,\n",
    "        column_widths=[3, 3, 2],\n",
    "    )\n",
    "    label_names = None\n",
    "\n",
    "    targets = {\n",
    "        (1, \"pig\"): [(0, \"pig\"), (1, \"rat\"), (2, \"human\")],\n",
    "        (2, \"rat\"): [(0, \"rat\"), (1, \"pig\"), (2, \"human\")],\n",
    "        (3, \"human\"): [(0, \"human\")],\n",
    "        (3, \"pig-p+rat-p2human\"): [(1, \"human\")],\n",
    "    }\n",
    "    for (i, source_species), source_targets in targets.items():\n",
    "        for j, target_species in source_targets:\n",
    "            df_box = df[(df[\"source_species\"] == source_species) & (df[\"target_species\"] == target_species)]\n",
    "            sort_labels(df_box)\n",
    "\n",
    "            label_names_comparison = df_box[\"label_name\"].tolist()\n",
    "            if \"background\" not in label_names_comparison:\n",
    "                label_names_comparison.append(\"background\")\n",
    "            if label_names is None:\n",
    "                label_names = label_names_comparison\n",
    "            else:\n",
    "                assert label_names == label_names_comparison, (\n",
    "                    f\"Label names do not match: {label_names} vs {label_names_comparison}\"\n",
    "                )\n",
    "\n",
    "            # Average across organs per bootstrap sample\n",
    "            bootstraps_mean = np.mean(np.stack(df_box[f\"{metric_name}_bootstraps\"]), axis=0)\n",
    "            bootstraps_median = np.median(np.stack(df_box[f\"{metric_name}_bootstraps\"]), axis=0)\n",
    "\n",
    "            boxplot_symbols(\n",
    "                fig,\n",
    "                df_box[metric_name],\n",
    "                df_box[\"label_name\"],\n",
    "                ci_mean=(np.quantile(bootstraps_mean, q=0.025), np.quantile(bootstraps_mean, q=0.975)),\n",
    "                ci_median=(np.quantile(bootstraps_median, q=0.025), np.quantile(bootstraps_median, q=0.975)),\n",
    "                trace_name=f\"{source_species}2{target_species}\",\n",
    "                box_index=j,\n",
    "                color=settings_species.species_colors[target_species],\n",
    "                showlegend=i == 1,\n",
    "                row=1,\n",
    "                col=i,\n",
    "            )\n",
    "\n",
    "    fig.update_layout(height=400, width=1200, template=\"plotly_white\")\n",
    "    fig.update_layout(font_family=\"Libertinus Sans\", font_size=16)\n",
    "    fig.update_annotations(font=dict(size=20))\n",
    "    fig.update_layout(showlegend=False)\n",
    "    fig.update_yaxes(zeroline=False)\n",
    "    fig.update_yaxes(title=f\"<b>{metric_name_short}</b>\", title_standoff=12, col=1)\n",
    "    fig.update_xaxes(showticklabels=False)\n",
    "    fig.update_layout(legend=dict(title=None, orientation=\"h\", yanchor=\"bottom\", y=1.05, xanchor=\"center\", x=0.2))\n",
    "    fig.update_layout(legend2=dict(title=None, orientation=\"h\", yanchor=\"bottom\", y=1.05, xanchor=\"center\", x=0.8))\n",
    "    fig.update_layout(margin=dict(l=0, r=0, t=0, b=0))\n",
    "    fig.write_image(settings_species.paper_dir / f\"domain_shift_performance_{metric_name_short}.pdf\")\n",
    "\n",
    "    return fig\n",
    "\n",
    "\n",
    "species_comparison(\"dice_metric\", \"DSC\")"
   ]
  },
  {
   "cell_type": "code",
   "execution_count": 4,
   "metadata": {},
   "outputs": [
    {
     "data": {
      "application/vnd.plotly.v1+json": {
       "config": {
        "plotlyServerURL": "https://plot.ly"
       },
       "data": [
        {
         "legend": "legend",
         "marker": {
          "color": "gray",
          "line": {
           "color": "black",
           "width": 1
          },
          "size": 9,
          "symbol": "circle"
         },
         "mode": "markers",
         "name": "stomach",
         "showlegend": true,
         "type": "scatter",
         "x": [
          null
         ],
         "xaxis": "x",
         "y": [
          null
         ],
         "yaxis": "y"
        },
        {
         "legend": "legend",
         "marker": {
          "color": "gray",
          "line": {
           "color": "black",
           "width": 1
          },
          "size": 9,
          "symbol": "square"
         },
         "mode": "markers",
         "name": "small_bowel",
         "showlegend": true,
         "type": "scatter",
         "x": [
          null
         ],
         "xaxis": "x",
         "y": [
          null
         ],
         "yaxis": "y"
        },
        {
         "legend": "legend",
         "marker": {
          "color": "gray",
          "line": {
           "color": "black",
           "width": 1
          },
          "size": 9,
          "symbol": "diamond"
         },
         "mode": "markers",
         "name": "colon",
         "showlegend": true,
         "type": "scatter",
         "x": [
          null
         ],
         "xaxis": "x",
         "y": [
          null
         ],
         "yaxis": "y"
        },
        {
         "legend": "legend",
         "marker": {
          "color": "gray",
          "line": {
           "color": "black",
           "width": 1
          },
          "size": 9,
          "symbol": "cross"
         },
         "mode": "markers",
         "name": "liver",
         "showlegend": true,
         "type": "scatter",
         "x": [
          null
         ],
         "xaxis": "x",
         "y": [
          null
         ],
         "yaxis": "y"
        },
        {
         "legend": "legend",
         "marker": {
          "color": "gray",
          "line": {
           "color": "black",
           "width": 1
          },
          "size": 9,
          "symbol": "x"
         },
         "mode": "markers",
         "name": "pancreas",
         "showlegend": true,
         "type": "scatter",
         "x": [
          null
         ],
         "xaxis": "x",
         "y": [
          null
         ],
         "yaxis": "y"
        },
        {
         "legend": "legend",
         "marker": {
          "color": "gray",
          "line": {
           "color": "black",
           "width": 1
          },
          "size": 9,
          "symbol": "triangle-up"
         },
         "mode": "markers",
         "name": "kidney",
         "showlegend": true,
         "type": "scatter",
         "x": [
          null
         ],
         "xaxis": "x",
         "y": [
          null
         ],
         "yaxis": "y"
        },
        {
         "legend": "legend",
         "marker": {
          "color": "gray",
          "line": {
           "color": "black",
           "width": 1
          },
          "size": 9,
          "symbol": "triangle-down"
         },
         "mode": "markers",
         "name": "spleen",
         "showlegend": true,
         "type": "scatter",
         "x": [
          null
         ],
         "xaxis": "x",
         "y": [
          null
         ],
         "yaxis": "y"
        },
        {
         "legend": "legend",
         "marker": {
          "color": "gray",
          "line": {
           "color": "black",
           "width": 1
          },
          "size": 9,
          "symbol": "triangle-left"
         },
         "mode": "markers",
         "name": "omentum",
         "showlegend": true,
         "type": "scatter",
         "x": [
          null
         ],
         "xaxis": "x",
         "y": [
          null
         ],
         "yaxis": "y"
        },
        {
         "legend": "legend",
         "marker": {
          "color": "gray",
          "line": {
           "color": "black",
           "width": 1
          },
          "size": 9,
          "symbol": "triangle-right"
         },
         "mode": "markers",
         "name": "lung",
         "showlegend": true,
         "type": "scatter",
         "x": [
          null
         ],
         "xaxis": "x",
         "y": [
          null
         ],
         "yaxis": "y"
        },
        {
         "legend": "legend",
         "marker": {
          "color": "gray",
          "line": {
           "color": "black",
           "width": 1
          },
          "size": 9,
          "symbol": "star"
         },
         "mode": "markers",
         "name": "skin",
         "showlegend": true,
         "type": "scatter",
         "x": [
          null
         ],
         "xaxis": "x",
         "y": [
          null
         ],
         "yaxis": "y"
        },
        {
         "legend": "legend",
         "marker": {
          "color": "gray",
          "line": {
           "color": "black",
           "width": 1
          },
          "size": 9,
          "symbol": "diamond-wide"
         },
         "mode": "markers",
         "name": "peritoneum",
         "showlegend": true,
         "type": "scatter",
         "x": [
          null
         ],
         "xaxis": "x",
         "y": [
          null
         ],
         "yaxis": "y"
        },
        {
         "legend": "legend",
         "marker": {
          "color": "gray",
          "line": {
           "color": "black",
           "width": 1
          },
          "size": 9,
          "symbol": "diamond-tall"
         },
         "mode": "markers",
         "name": "background",
         "showlegend": true,
         "type": "scatter",
         "x": [
          null
         ],
         "xaxis": "x",
         "y": [
          null
         ],
         "yaxis": "y"
        },
        {
         "legend": "legend",
         "legendgroup": "pig2pig",
         "marker": {
          "color": "#44AA99",
          "line": {
           "color": "black",
           "width": 1
          },
          "size": 9,
          "symbol": "triangle-right"
         },
         "mode": "markers",
         "name": "lung",
         "showlegend": false,
         "type": "scatter",
         "x": [
          0
         ],
         "xaxis": "x",
         "y": [
          0.9430658096850137
         ],
         "yaxis": "y"
        },
        {
         "legend": "legend",
         "legendgroup": "pig2pig",
         "marker": {
          "color": "#44AA99",
          "line": {
           "color": "black",
           "width": 1
          },
          "size": 9,
          "symbol": "diamond-tall"
         },
         "mode": "markers",
         "name": "background",
         "showlegend": false,
         "type": "scatter",
         "x": [
          0.09333333333333334
         ],
         "xaxis": "x",
         "y": [
          0.9366071074331167
         ],
         "yaxis": "y"
        },
        {
         "legend": "legend",
         "legendgroup": "pig2pig",
         "marker": {
          "color": "#44AA99",
          "line": {
           "color": "black",
           "width": 1
          },
          "size": 9,
          "symbol": "diamond"
         },
         "mode": "markers",
         "name": "colon",
         "showlegend": false,
         "type": "scatter",
         "x": [
          0.18666666666666668
         ],
         "xaxis": "x",
         "y": [
          0.9279783770693903
         ],
         "yaxis": "y"
        },
        {
         "legend": "legend",
         "legendgroup": "pig2pig",
         "marker": {
          "color": "#44AA99",
          "line": {
           "color": "black",
           "width": 1
          },
          "size": 9,
          "symbol": "star"
         },
         "mode": "markers",
         "name": "skin",
         "showlegend": false,
         "type": "scatter",
         "x": [
          0.28
         ],
         "xaxis": "x",
         "y": [
          0.9262346091417966
         ],
         "yaxis": "y"
        },
        {
         "legend": "legend",
         "legendgroup": "pig2pig",
         "marker": {
          "color": "#44AA99",
          "line": {
           "color": "black",
           "width": 1
          },
          "size": 9,
          "symbol": "diamond-wide"
         },
         "mode": "markers",
         "name": "peritoneum",
         "showlegend": false,
         "type": "scatter",
         "x": [
          0
         ],
         "xaxis": "x",
         "y": [
          0.8994584556853875
         ],
         "yaxis": "y"
        },
        {
         "legend": "legend",
         "legendgroup": "pig2pig",
         "marker": {
          "color": "#44AA99",
          "line": {
           "color": "black",
           "width": 1
          },
          "size": 9,
          "symbol": "x"
         },
         "mode": "markers",
         "name": "pancreas",
         "showlegend": false,
         "type": "scatter",
         "x": [
          0.09333333333333334
         ],
         "xaxis": "x",
         "y": [
          0.8316303162726145
         ],
         "yaxis": "y"
        },
        {
         "legend": "legend",
         "legendgroup": "pig2pig",
         "marker": {
          "color": "#44AA99",
          "line": {
           "color": "black",
           "width": 1
          },
          "size": 9,
          "symbol": "circle"
         },
         "mode": "markers",
         "name": "stomach",
         "showlegend": false,
         "type": "scatter",
         "x": [
          0.18666666666666668
         ],
         "xaxis": "x",
         "y": [
          0.8150328851120145
         ],
         "yaxis": "y"
        },
        {
         "legend": "legend",
         "legendgroup": "pig2pig",
         "marker": {
          "color": "#44AA99",
          "line": {
           "color": "black",
           "width": 1
          },
          "size": 9,
          "symbol": "square"
         },
         "mode": "markers",
         "name": "small_bowel",
         "showlegend": false,
         "type": "scatter",
         "x": [
          0.28
         ],
         "xaxis": "x",
         "y": [
          0.8024394884563739
         ],
         "yaxis": "y"
        },
        {
         "legend": "legend",
         "legendgroup": "pig2pig",
         "marker": {
          "color": "#44AA99",
          "line": {
           "color": "black",
           "width": 1
          },
          "size": 9,
          "symbol": "triangle-down"
         },
         "mode": "markers",
         "name": "spleen",
         "showlegend": false,
         "type": "scatter",
         "x": [
          0
         ],
         "xaxis": "x",
         "y": [
          0.7564296981534051
         ],
         "yaxis": "y"
        },
        {
         "legend": "legend",
         "legendgroup": "pig2pig",
         "marker": {
          "color": "#44AA99",
          "line": {
           "color": "black",
           "width": 1
          },
          "size": 9,
          "symbol": "triangle-left"
         },
         "mode": "markers",
         "name": "omentum",
         "showlegend": false,
         "type": "scatter",
         "x": [
          0.09333333333333334
         ],
         "xaxis": "x",
         "y": [
          0.7178240780572218
         ],
         "yaxis": "y"
        },
        {
         "legend": "legend",
         "legendgroup": "pig2pig",
         "marker": {
          "color": "#44AA99",
          "line": {
           "color": "black",
           "width": 1
          },
          "size": 9,
          "symbol": "cross"
         },
         "mode": "markers",
         "name": "liver",
         "showlegend": false,
         "type": "scatter",
         "x": [
          0.18666666666666668
         ],
         "xaxis": "x",
         "y": [
          0.6923322917157431
         ],
         "yaxis": "y"
        },
        {
         "legend": "legend",
         "legendgroup": "pig2pig",
         "marker": {
          "color": "#44AA99",
          "line": {
           "color": "black",
           "width": 1
          },
          "size": 9,
          "symbol": "triangle-up"
         },
         "mode": "markers",
         "name": "kidney",
         "showlegend": false,
         "type": "scatter",
         "x": [
          0.28
         ],
         "xaxis": "x",
         "y": [
          0.6741464408394557
         ],
         "yaxis": "y"
        },
        {
         "boxmean": true,
         "boxpoints": false,
         "legend": "legend2",
         "legendgroup": "pig2pig",
         "line": {
          "color": "#44AA99"
         },
         "name": "pig2pig",
         "showlegend": true,
         "type": "box",
         "x": [
          0.6,
          0.6,
          0.6,
          0.6,
          0.6,
          0.6,
          0.6,
          0.6,
          0.6,
          0.6,
          0.6,
          0.6
         ],
         "xaxis": "x",
         "y": {
          "bdata": "JlVSWZgt7j9tC/R3r/jtP+APnbX/se0/2P5Vw7aj7T/i8GgZXcjsP7UYWC63nOo/Yg9X2L8U6j8SDf6Tla3pP0hY6Q2sNOg/FDBxM2r45j98SNwMlifmPy7Zg46bkuU/",
          "dtype": "f8"
         },
         "yaxis": "y"
        },
        {
         "legendgroup": "pig2pig",
         "line": {
          "color": "#44AA99",
          "dash": "dot"
         },
         "mode": "lines",
         "name": "pig2pig",
         "showlegend": false,
         "text": "95 % CI mean: [0.81;0.84]",
         "type": "scatter",
         "x": [
          0.5,
          0.5
         ],
         "xaxis": "x",
         "y": [
          0.8103182102834084,
          0.8436773136043014
         ],
         "yaxis": "y"
        },
        {
         "legendgroup": "pig2pig",
         "line": {
          "color": "#44AA99"
         },
         "marker": {
          "size": 10,
          "symbol": "triangle-down-open"
         },
         "mode": "markers",
         "name": "pig2pig",
         "showlegend": false,
         "text": "95 % CI mean: [0.81;0.84]",
         "type": "scatter",
         "x": [
          0.5
         ],
         "xaxis": "x",
         "y": [
          0.8103182102834084
         ],
         "yaxis": "y"
        },
        {
         "legendgroup": "pig2pig",
         "line": {
          "color": "#44AA99"
         },
         "marker": {
          "size": 10,
          "symbol": "triangle-up-open"
         },
         "mode": "markers",
         "name": "pig2pig",
         "showlegend": false,
         "text": "95 % CI mean: [0.81;0.84]",
         "type": "scatter",
         "x": [
          0.5
         ],
         "xaxis": "x",
         "y": [
          0.8436773136043014
         ],
         "yaxis": "y"
        },
        {
         "legendgroup": "pig2pig",
         "line": {
          "color": "#44AA99",
          "dash": "solid"
         },
         "mode": "lines",
         "name": "pig2pig",
         "showlegend": false,
         "text": "95 % CI median: [0.79;0.87]",
         "type": "scatter",
         "x": [
          0.7,
          0.7
         ],
         "xaxis": "x",
         "y": [
          0.7943127901163654,
          0.8746637981702055
         ],
         "yaxis": "y"
        },
        {
         "legendgroup": "pig2pig",
         "line": {
          "color": "#44AA99"
         },
         "marker": {
          "size": 10,
          "symbol": "triangle-down"
         },
         "mode": "markers",
         "name": "pig2pig",
         "showlegend": false,
         "text": "95 % CI median: [0.79;0.87]",
         "type": "scatter",
         "x": [
          0.7
         ],
         "xaxis": "x",
         "y": [
          0.7943127901163654
         ],
         "yaxis": "y"
        },
        {
         "legendgroup": "pig2pig",
         "line": {
          "color": "#44AA99"
         },
         "marker": {
          "size": 10,
          "symbol": "triangle-up"
         },
         "mode": "markers",
         "name": "pig2pig",
         "showlegend": false,
         "text": "95 % CI median: [0.79;0.87]",
         "type": "scatter",
         "x": [
          0.7
         ],
         "xaxis": "x",
         "y": [
          0.8746637981702055
         ],
         "yaxis": "y"
        },
        {
         "legend": "legend",
         "legendgroup": "pig2rat",
         "marker": {
          "color": "#89CCED",
          "line": {
           "color": "black",
           "width": 1
          },
          "size": 9,
          "symbol": "triangle-right"
         },
         "mode": "markers",
         "name": "lung",
         "showlegend": false,
         "type": "scatter",
         "x": [
          1
         ],
         "xaxis": "x",
         "y": [
          0.972796855828701
         ],
         "yaxis": "y"
        },
        {
         "legend": "legend",
         "legendgroup": "pig2rat",
         "marker": {
          "color": "#89CCED",
          "line": {
           "color": "black",
           "width": 1
          },
          "size": 9,
          "symbol": "diamond-tall"
         },
         "mode": "markers",
         "name": "background",
         "showlegend": false,
         "type": "scatter",
         "x": [
          1.0933333333333333
         ],
         "xaxis": "x",
         "y": [
          0.6729294237503317
         ],
         "yaxis": "y"
        },
        {
         "legend": "legend",
         "legendgroup": "pig2rat",
         "marker": {
          "color": "#89CCED",
          "line": {
           "color": "black",
           "width": 1
          },
          "size": 9,
          "symbol": "diamond-wide"
         },
         "mode": "markers",
         "name": "peritoneum",
         "showlegend": false,
         "type": "scatter",
         "x": [
          1.1866666666666668
         ],
         "xaxis": "x",
         "y": [
          0.6553714626452994
         ],
         "yaxis": "y"
        },
        {
         "legend": "legend",
         "legendgroup": "pig2rat",
         "marker": {
          "color": "#89CCED",
          "line": {
           "color": "black",
           "width": 1
          },
          "size": 9,
          "symbol": "star"
         },
         "mode": "markers",
         "name": "skin",
         "showlegend": false,
         "type": "scatter",
         "x": [
          1.28
         ],
         "xaxis": "x",
         "y": [
          0.504387272285154
         ],
         "yaxis": "y"
        },
        {
         "legend": "legend",
         "legendgroup": "pig2rat",
         "marker": {
          "color": "#89CCED",
          "line": {
           "color": "black",
           "width": 1
          },
          "size": 9,
          "symbol": "triangle-up"
         },
         "mode": "markers",
         "name": "kidney",
         "showlegend": false,
         "type": "scatter",
         "x": [
          1
         ],
         "xaxis": "x",
         "y": [
          0.4772064616610279
         ],
         "yaxis": "y"
        },
        {
         "legend": "legend",
         "legendgroup": "pig2rat",
         "marker": {
          "color": "#89CCED",
          "line": {
           "color": "black",
           "width": 1
          },
          "size": 9,
          "symbol": "cross"
         },
         "mode": "markers",
         "name": "liver",
         "showlegend": false,
         "type": "scatter",
         "x": [
          1.0933333333333333
         ],
         "xaxis": "x",
         "y": [
          0.4633913574951928
         ],
         "yaxis": "y"
        },
        {
         "legend": "legend",
         "legendgroup": "pig2rat",
         "marker": {
          "color": "#89CCED",
          "line": {
           "color": "black",
           "width": 1
          },
          "size": 9,
          "symbol": "diamond"
         },
         "mode": "markers",
         "name": "colon",
         "showlegend": false,
         "type": "scatter",
         "x": [
          1.1866666666666668
         ],
         "xaxis": "x",
         "y": [
          0.3387362272341058
         ],
         "yaxis": "y"
        },
        {
         "legend": "legend",
         "legendgroup": "pig2rat",
         "marker": {
          "color": "#89CCED",
          "line": {
           "color": "black",
           "width": 1
          },
          "size": 9,
          "symbol": "x"
         },
         "mode": "markers",
         "name": "pancreas",
         "showlegend": false,
         "type": "scatter",
         "x": [
          1.28
         ],
         "xaxis": "x",
         "y": [
          0.3077921640960288
         ],
         "yaxis": "y"
        },
        {
         "legend": "legend",
         "legendgroup": "pig2rat",
         "marker": {
          "color": "#89CCED",
          "line": {
           "color": "black",
           "width": 1
          },
          "size": 9,
          "symbol": "triangle-left"
         },
         "mode": "markers",
         "name": "omentum",
         "showlegend": false,
         "type": "scatter",
         "x": [
          1
         ],
         "xaxis": "x",
         "y": [
          0.29348918949851455
         ],
         "yaxis": "y"
        },
        {
         "legend": "legend",
         "legendgroup": "pig2rat",
         "marker": {
          "color": "#89CCED",
          "line": {
           "color": "black",
           "width": 1
          },
          "size": 9,
          "symbol": "square"
         },
         "mode": "markers",
         "name": "small_bowel",
         "showlegend": false,
         "type": "scatter",
         "x": [
          1.0933333333333333
         ],
         "xaxis": "x",
         "y": [
          0.17623156461411568
         ],
         "yaxis": "y"
        },
        {
         "legend": "legend",
         "legendgroup": "pig2rat",
         "marker": {
          "color": "#89CCED",
          "line": {
           "color": "black",
           "width": 1
          },
          "size": 9,
          "symbol": "circle"
         },
         "mode": "markers",
         "name": "stomach",
         "showlegend": false,
         "type": "scatter",
         "x": [
          1.1866666666666668
         ],
         "xaxis": "x",
         "y": [
          0.15913550281632147
         ],
         "yaxis": "y"
        },
        {
         "legend": "legend",
         "legendgroup": "pig2rat",
         "marker": {
          "color": "#89CCED",
          "line": {
           "color": "black",
           "width": 1
          },
          "size": 9,
          "symbol": "triangle-down"
         },
         "mode": "markers",
         "name": "spleen",
         "showlegend": false,
         "type": "scatter",
         "x": [
          1.28
         ],
         "xaxis": "x",
         "y": [
          0.0734660005602558
         ],
         "yaxis": "y"
        },
        {
         "boxmean": true,
         "boxpoints": false,
         "legend": "legend2",
         "legendgroup": "pig2rat",
         "line": {
          "color": "#89CCED"
         },
         "name": "pig2rat",
         "showlegend": true,
         "type": "box",
         "x": [
          1.6,
          1.6,
          1.6,
          1.6,
          1.6,
          1.6,
          1.6,
          1.6,
          1.6,
          1.6,
          1.6,
          1.6
         ],
         "xaxis": "x",
         "y": {
          "bdata": "4PIt3yYh7z/5wnBJo4jlP0di2ZLN+OQ/4XffxvAj4D8ZiZH4jIreP6o3bDk0qN0/2jd8ttqt1T8He7Dn3bLTP+wKqOGGyNI/VzBFg8GOxj9PQx1ajV7EPwszxvWqzrI/",
          "dtype": "f8"
         },
         "yaxis": "y"
        },
        {
         "legendgroup": "pig2rat",
         "line": {
          "color": "#89CCED",
          "dash": "dot"
         },
         "mode": "lines",
         "name": "pig2rat",
         "showlegend": false,
         "text": "95 % CI mean: [0.41;0.44]",
         "type": "scatter",
         "x": [
          1.5,
          1.5
         ],
         "xaxis": "x",
         "y": [
          0.4111253444687758,
          0.44012459297985745
         ],
         "yaxis": "y"
        },
        {
         "legendgroup": "pig2rat",
         "line": {
          "color": "#89CCED"
         },
         "marker": {
          "size": 10,
          "symbol": "triangle-down-open"
         },
         "mode": "markers",
         "name": "pig2rat",
         "showlegend": false,
         "text": "95 % CI mean: [0.41;0.44]",
         "type": "scatter",
         "x": [
          1.5
         ],
         "xaxis": "x",
         "y": [
          0.4111253444687758
         ],
         "yaxis": "y"
        },
        {
         "legendgroup": "pig2rat",
         "line": {
          "color": "#89CCED"
         },
         "marker": {
          "size": 10,
          "symbol": "triangle-up-open"
         },
         "mode": "markers",
         "name": "pig2rat",
         "showlegend": false,
         "text": "95 % CI mean: [0.41;0.44]",
         "type": "scatter",
         "x": [
          1.5
         ],
         "xaxis": "x",
         "y": [
          0.44012459297985745
         ],
         "yaxis": "y"
        },
        {
         "legendgroup": "pig2rat",
         "line": {
          "color": "#89CCED",
          "dash": "solid"
         },
         "mode": "lines",
         "name": "pig2rat",
         "showlegend": false,
         "text": "95 % CI median: [0.36;0.42]",
         "type": "scatter",
         "x": [
          1.7,
          1.7
         ],
         "xaxis": "x",
         "y": [
          0.3646335697448529,
          0.42241414104440933
         ],
         "yaxis": "y"
        },
        {
         "legendgroup": "pig2rat",
         "line": {
          "color": "#89CCED"
         },
         "marker": {
          "size": 10,
          "symbol": "triangle-down"
         },
         "mode": "markers",
         "name": "pig2rat",
         "showlegend": false,
         "text": "95 % CI median: [0.36;0.42]",
         "type": "scatter",
         "x": [
          1.7
         ],
         "xaxis": "x",
         "y": [
          0.3646335697448529
         ],
         "yaxis": "y"
        },
        {
         "legendgroup": "pig2rat",
         "line": {
          "color": "#89CCED"
         },
         "marker": {
          "size": 10,
          "symbol": "triangle-up"
         },
         "mode": "markers",
         "name": "pig2rat",
         "showlegend": false,
         "text": "95 % CI median: [0.36;0.42]",
         "type": "scatter",
         "x": [
          1.7
         ],
         "xaxis": "x",
         "y": [
          0.42241414104440933
         ],
         "yaxis": "y"
        },
        {
         "legend": "legend",
         "legendgroup": "pig2human",
         "marker": {
          "color": "#DDCB76",
          "line": {
           "color": "black",
           "width": 1
          },
          "size": 9,
          "symbol": "star"
         },
         "mode": "markers",
         "name": "skin",
         "showlegend": false,
         "type": "scatter",
         "x": [
          2
         ],
         "xaxis": "x",
         "y": [
          0.7921779262010382
         ],
         "yaxis": "y"
        },
        {
         "legend": "legend",
         "legendgroup": "pig2human",
         "marker": {
          "color": "#DDCB76",
          "line": {
           "color": "black",
           "width": 1
          },
          "size": 9,
          "symbol": "diamond-tall"
         },
         "mode": "markers",
         "name": "background",
         "showlegend": false,
         "type": "scatter",
         "x": [
          2.0933333333333333
         ],
         "xaxis": "x",
         "y": [
          0.6939954066228564
         ],
         "yaxis": "y"
        },
        {
         "legend": "legend",
         "legendgroup": "pig2human",
         "marker": {
          "color": "#DDCB76",
          "line": {
           "color": "black",
           "width": 1
          },
          "size": 9,
          "symbol": "triangle-right"
         },
         "mode": "markers",
         "name": "lung",
         "showlegend": false,
         "type": "scatter",
         "x": [
          2.1866666666666665
         ],
         "xaxis": "x",
         "y": [
          0.43733280585871803
         ],
         "yaxis": "y"
        },
        {
         "legend": "legend",
         "legendgroup": "pig2human",
         "marker": {
          "color": "#DDCB76",
          "line": {
           "color": "black",
           "width": 1
          },
          "size": 9,
          "symbol": "triangle-left"
         },
         "mode": "markers",
         "name": "omentum",
         "showlegend": false,
         "type": "scatter",
         "x": [
          2.2800000000000002
         ],
         "xaxis": "x",
         "y": [
          0.4288244712058867
         ],
         "yaxis": "y"
        },
        {
         "legend": "legend",
         "legendgroup": "pig2human",
         "marker": {
          "color": "#DDCB76",
          "line": {
           "color": "black",
           "width": 1
          },
          "size": 9,
          "symbol": "diamond-wide"
         },
         "mode": "markers",
         "name": "peritoneum",
         "showlegend": false,
         "type": "scatter",
         "x": [
          2
         ],
         "xaxis": "x",
         "y": [
          0.35112341509020634
         ],
         "yaxis": "y"
        },
        {
         "legend": "legend",
         "legendgroup": "pig2human",
         "marker": {
          "color": "#DDCB76",
          "line": {
           "color": "black",
           "width": 1
          },
          "size": 9,
          "symbol": "circle"
         },
         "mode": "markers",
         "name": "stomach",
         "showlegend": false,
         "type": "scatter",
         "x": [
          2.0933333333333333
         ],
         "xaxis": "x",
         "y": [
          0.3409651696429764
         ],
         "yaxis": "y"
        },
        {
         "legend": "legend",
         "legendgroup": "pig2human",
         "marker": {
          "color": "#DDCB76",
          "line": {
           "color": "black",
           "width": 1
          },
          "size": 9,
          "symbol": "diamond"
         },
         "mode": "markers",
         "name": "colon",
         "showlegend": false,
         "type": "scatter",
         "x": [
          2.1866666666666665
         ],
         "xaxis": "x",
         "y": [
          0.20916945231788495
         ],
         "yaxis": "y"
        },
        {
         "legend": "legend",
         "legendgroup": "pig2human",
         "marker": {
          "color": "#DDCB76",
          "line": {
           "color": "black",
           "width": 1
          },
          "size": 9,
          "symbol": "square"
         },
         "mode": "markers",
         "name": "small_bowel",
         "showlegend": false,
         "type": "scatter",
         "x": [
          2.2800000000000002
         ],
         "xaxis": "x",
         "y": [
          0.17574922829124145
         ],
         "yaxis": "y"
        },
        {
         "legend": "legend",
         "legendgroup": "pig2human",
         "marker": {
          "color": "#DDCB76",
          "line": {
           "color": "black",
           "width": 1
          },
          "size": 9,
          "symbol": "triangle-down"
         },
         "mode": "markers",
         "name": "spleen",
         "showlegend": false,
         "type": "scatter",
         "x": [
          2
         ],
         "xaxis": "x",
         "y": [
          0.17319166337450348
         ],
         "yaxis": "y"
        },
        {
         "legend": "legend",
         "legendgroup": "pig2human",
         "marker": {
          "color": "#DDCB76",
          "line": {
           "color": "black",
           "width": 1
          },
          "size": 9,
          "symbol": "triangle-up"
         },
         "mode": "markers",
         "name": "kidney",
         "showlegend": false,
         "type": "scatter",
         "x": [
          2.0933333333333333
         ],
         "xaxis": "x",
         "y": [
          0.12329732543406846
         ],
         "yaxis": "y"
        },
        {
         "legend": "legend",
         "legendgroup": "pig2human",
         "marker": {
          "color": "#DDCB76",
          "line": {
           "color": "black",
           "width": 1
          },
          "size": 9,
          "symbol": "cross"
         },
         "mode": "markers",
         "name": "liver",
         "showlegend": false,
         "type": "scatter",
         "x": [
          2.1866666666666665
         ],
         "xaxis": "x",
         "y": [
          0.08080747022224757
         ],
         "yaxis": "y"
        },
        {
         "legend": "legend",
         "legendgroup": "pig2human",
         "marker": {
          "color": "#DDCB76",
          "line": {
           "color": "black",
           "width": 1
          },
          "size": 9,
          "symbol": "x"
         },
         "mode": "markers",
         "name": "pancreas",
         "showlegend": false,
         "type": "scatter",
         "x": [
          2.2800000000000002
         ],
         "xaxis": "x",
         "y": [
          0.05721979744247789
         ],
         "yaxis": "y"
        },
        {
         "boxmean": true,
         "boxpoints": false,
         "legend": "legend2",
         "legendgroup": "pig2human",
         "line": {
          "color": "#DDCB76"
         },
         "name": "pig2human",
         "showlegend": true,
         "type": "box",
         "x": [
          2.6,
          2.6,
          2.6,
          2.6,
          2.6,
          2.6,
          2.6,
          2.6,
          2.6,
          2.6,
          2.6,
          2.6
         ],
         "xaxis": "x",
         "y": {
          "bdata": "oLC0hYVZ6T/YnuDaNTXmPyBkqLxC/ds/FXHjMdxx2z91BitYznjWP2pELJNf0tU/q4aDihDGyj96cOdh837GPxIREfkkK8Y/mHBs3GmQvz8qhuBhzK+0P9b7Zc3pS60/",
          "dtype": "f8"
         },
         "yaxis": "y"
        },
        {
         "legendgroup": "pig2human",
         "line": {
          "color": "#DDCB76",
          "dash": "dot"
         },
         "mode": "lines",
         "name": "pig2human",
         "showlegend": false,
         "text": "95 % CI mean: [0.30;0.34]",
         "type": "scatter",
         "x": [
          2.5,
          2.5
         ],
         "xaxis": "x",
         "y": [
          0.30487897273761383,
          0.3386906357877431
         ],
         "yaxis": "y"
        },
        {
         "legendgroup": "pig2human",
         "line": {
          "color": "#DDCB76"
         },
         "marker": {
          "size": 10,
          "symbol": "triangle-down-open"
         },
         "mode": "markers",
         "name": "pig2human",
         "showlegend": false,
         "text": "95 % CI mean: [0.30;0.34]",
         "type": "scatter",
         "x": [
          2.5
         ],
         "xaxis": "x",
         "y": [
          0.30487897273761383
         ],
         "yaxis": "y"
        },
        {
         "legendgroup": "pig2human",
         "line": {
          "color": "#DDCB76"
         },
         "marker": {
          "size": 10,
          "symbol": "triangle-up-open"
         },
         "mode": "markers",
         "name": "pig2human",
         "showlegend": false,
         "text": "95 % CI mean: [0.30;0.34]",
         "type": "scatter",
         "x": [
          2.5
         ],
         "xaxis": "x",
         "y": [
          0.3386906357877431
         ],
         "yaxis": "y"
        },
        {
         "legendgroup": "pig2human",
         "line": {
          "color": "#DDCB76",
          "dash": "solid"
         },
         "mode": "lines",
         "name": "pig2human",
         "showlegend": false,
         "text": "95 % CI median: [0.24;0.31]",
         "type": "scatter",
         "x": [
          2.7,
          2.7
         ],
         "xaxis": "x",
         "y": [
          0.24276986982315413,
          0.3117048867480636
         ],
         "yaxis": "y"
        },
        {
         "legendgroup": "pig2human",
         "line": {
          "color": "#DDCB76"
         },
         "marker": {
          "size": 10,
          "symbol": "triangle-down"
         },
         "mode": "markers",
         "name": "pig2human",
         "showlegend": false,
         "text": "95 % CI median: [0.24;0.31]",
         "type": "scatter",
         "x": [
          2.7
         ],
         "xaxis": "x",
         "y": [
          0.24276986982315413
         ],
         "yaxis": "y"
        },
        {
         "legendgroup": "pig2human",
         "line": {
          "color": "#DDCB76"
         },
         "marker": {
          "size": 10,
          "symbol": "triangle-up"
         },
         "mode": "markers",
         "name": "pig2human",
         "showlegend": false,
         "text": "95 % CI median: [0.24;0.31]",
         "type": "scatter",
         "x": [
          2.7
         ],
         "xaxis": "x",
         "y": [
          0.3117048867480636
         ],
         "yaxis": "y"
        },
        {
         "legend": "legend",
         "marker": {
          "color": "gray",
          "line": {
           "color": "black",
           "width": 1
          },
          "size": 9,
          "symbol": "circle"
         },
         "mode": "markers",
         "name": "stomach",
         "showlegend": false,
         "type": "scatter",
         "x": [
          null
         ],
         "xaxis": "x2",
         "y": [
          null
         ],
         "yaxis": "y2"
        },
        {
         "legend": "legend",
         "marker": {
          "color": "gray",
          "line": {
           "color": "black",
           "width": 1
          },
          "size": 9,
          "symbol": "square"
         },
         "mode": "markers",
         "name": "small_bowel",
         "showlegend": false,
         "type": "scatter",
         "x": [
          null
         ],
         "xaxis": "x2",
         "y": [
          null
         ],
         "yaxis": "y2"
        },
        {
         "legend": "legend",
         "marker": {
          "color": "gray",
          "line": {
           "color": "black",
           "width": 1
          },
          "size": 9,
          "symbol": "diamond"
         },
         "mode": "markers",
         "name": "colon",
         "showlegend": false,
         "type": "scatter",
         "x": [
          null
         ],
         "xaxis": "x2",
         "y": [
          null
         ],
         "yaxis": "y2"
        },
        {
         "legend": "legend",
         "marker": {
          "color": "gray",
          "line": {
           "color": "black",
           "width": 1
          },
          "size": 9,
          "symbol": "cross"
         },
         "mode": "markers",
         "name": "liver",
         "showlegend": false,
         "type": "scatter",
         "x": [
          null
         ],
         "xaxis": "x2",
         "y": [
          null
         ],
         "yaxis": "y2"
        },
        {
         "legend": "legend",
         "marker": {
          "color": "gray",
          "line": {
           "color": "black",
           "width": 1
          },
          "size": 9,
          "symbol": "x"
         },
         "mode": "markers",
         "name": "pancreas",
         "showlegend": false,
         "type": "scatter",
         "x": [
          null
         ],
         "xaxis": "x2",
         "y": [
          null
         ],
         "yaxis": "y2"
        },
        {
         "legend": "legend",
         "marker": {
          "color": "gray",
          "line": {
           "color": "black",
           "width": 1
          },
          "size": 9,
          "symbol": "triangle-up"
         },
         "mode": "markers",
         "name": "kidney",
         "showlegend": false,
         "type": "scatter",
         "x": [
          null
         ],
         "xaxis": "x2",
         "y": [
          null
         ],
         "yaxis": "y2"
        },
        {
         "legend": "legend",
         "marker": {
          "color": "gray",
          "line": {
           "color": "black",
           "width": 1
          },
          "size": 9,
          "symbol": "triangle-down"
         },
         "mode": "markers",
         "name": "spleen",
         "showlegend": false,
         "type": "scatter",
         "x": [
          null
         ],
         "xaxis": "x2",
         "y": [
          null
         ],
         "yaxis": "y2"
        },
        {
         "legend": "legend",
         "marker": {
          "color": "gray",
          "line": {
           "color": "black",
           "width": 1
          },
          "size": 9,
          "symbol": "triangle-left"
         },
         "mode": "markers",
         "name": "omentum",
         "showlegend": false,
         "type": "scatter",
         "x": [
          null
         ],
         "xaxis": "x2",
         "y": [
          null
         ],
         "yaxis": "y2"
        },
        {
         "legend": "legend",
         "marker": {
          "color": "gray",
          "line": {
           "color": "black",
           "width": 1
          },
          "size": 9,
          "symbol": "triangle-right"
         },
         "mode": "markers",
         "name": "lung",
         "showlegend": false,
         "type": "scatter",
         "x": [
          null
         ],
         "xaxis": "x2",
         "y": [
          null
         ],
         "yaxis": "y2"
        },
        {
         "legend": "legend",
         "marker": {
          "color": "gray",
          "line": {
           "color": "black",
           "width": 1
          },
          "size": 9,
          "symbol": "star"
         },
         "mode": "markers",
         "name": "skin",
         "showlegend": false,
         "type": "scatter",
         "x": [
          null
         ],
         "xaxis": "x2",
         "y": [
          null
         ],
         "yaxis": "y2"
        },
        {
         "legend": "legend",
         "marker": {
          "color": "gray",
          "line": {
           "color": "black",
           "width": 1
          },
          "size": 9,
          "symbol": "diamond-wide"
         },
         "mode": "markers",
         "name": "peritoneum",
         "showlegend": false,
         "type": "scatter",
         "x": [
          null
         ],
         "xaxis": "x2",
         "y": [
          null
         ],
         "yaxis": "y2"
        },
        {
         "legend": "legend",
         "marker": {
          "color": "gray",
          "line": {
           "color": "black",
           "width": 1
          },
          "size": 9,
          "symbol": "diamond-tall"
         },
         "mode": "markers",
         "name": "background",
         "showlegend": false,
         "type": "scatter",
         "x": [
          null
         ],
         "xaxis": "x2",
         "y": [
          null
         ],
         "yaxis": "y2"
        },
        {
         "legend": "legend",
         "legendgroup": "rat2rat",
         "marker": {
          "color": "#89CCED",
          "line": {
           "color": "black",
           "width": 1
          },
          "size": 9,
          "symbol": "triangle-right"
         },
         "mode": "markers",
         "name": "lung",
         "showlegend": false,
         "type": "scatter",
         "x": [
          0
         ],
         "xaxis": "x2",
         "y": [
          0.990790911209889
         ],
         "yaxis": "y2"
        },
        {
         "legend": "legend",
         "legendgroup": "rat2rat",
         "marker": {
          "color": "#89CCED",
          "line": {
           "color": "black",
           "width": 1
          },
          "size": 9,
          "symbol": "diamond-wide"
         },
         "mode": "markers",
         "name": "peritoneum",
         "showlegend": false,
         "type": "scatter",
         "x": [
          0.09333333333333334
         ],
         "xaxis": "x2",
         "y": [
          0.9773919499805783
         ],
         "yaxis": "y2"
        },
        {
         "legend": "legend",
         "legendgroup": "rat2rat",
         "marker": {
          "color": "#89CCED",
          "line": {
           "color": "black",
           "width": 1
          },
          "size": 9,
          "symbol": "diamond-tall"
         },
         "mode": "markers",
         "name": "background",
         "showlegend": false,
         "type": "scatter",
         "x": [
          0.18666666666666668
         ],
         "xaxis": "x2",
         "y": [
          0.955068893705871
         ],
         "yaxis": "y2"
        },
        {
         "legend": "legend",
         "legendgroup": "rat2rat",
         "marker": {
          "color": "#89CCED",
          "line": {
           "color": "black",
           "width": 1
          },
          "size": 9,
          "symbol": "star"
         },
         "mode": "markers",
         "name": "skin",
         "showlegend": false,
         "type": "scatter",
         "x": [
          0.28
         ],
         "xaxis": "x2",
         "y": [
          0.9448714594994715
         ],
         "yaxis": "y2"
        },
        {
         "legend": "legend",
         "legendgroup": "rat2rat",
         "marker": {
          "color": "#89CCED",
          "line": {
           "color": "black",
           "width": 1
          },
          "size": 9,
          "symbol": "square"
         },
         "mode": "markers",
         "name": "small_bowel",
         "showlegend": false,
         "type": "scatter",
         "x": [
          0
         ],
         "xaxis": "x2",
         "y": [
          0.8799793883174314
         ],
         "yaxis": "y2"
        },
        {
         "legend": "legend",
         "legendgroup": "rat2rat",
         "marker": {
          "color": "#89CCED",
          "line": {
           "color": "black",
           "width": 1
          },
          "size": 9,
          "symbol": "triangle-up"
         },
         "mode": "markers",
         "name": "kidney",
         "showlegend": false,
         "type": "scatter",
         "x": [
          0.09333333333333334
         ],
         "xaxis": "x2",
         "y": [
          0.8469807771536021
         ],
         "yaxis": "y2"
        },
        {
         "legend": "legend",
         "legendgroup": "rat2rat",
         "marker": {
          "color": "#89CCED",
          "line": {
           "color": "black",
           "width": 1
          },
          "size": 9,
          "symbol": "triangle-left"
         },
         "mode": "markers",
         "name": "omentum",
         "showlegend": false,
         "type": "scatter",
         "x": [
          0.18666666666666668
         ],
         "xaxis": "x2",
         "y": [
          0.8337122830374942
         ],
         "yaxis": "y2"
        },
        {
         "legend": "legend",
         "legendgroup": "rat2rat",
         "marker": {
          "color": "#89CCED",
          "line": {
           "color": "black",
           "width": 1
          },
          "size": 9,
          "symbol": "circle"
         },
         "mode": "markers",
         "name": "stomach",
         "showlegend": false,
         "type": "scatter",
         "x": [
          0.28
         ],
         "xaxis": "x2",
         "y": [
          0.8272199817380853
         ],
         "yaxis": "y2"
        },
        {
         "legend": "legend",
         "legendgroup": "rat2rat",
         "marker": {
          "color": "#89CCED",
          "line": {
           "color": "black",
           "width": 1
          },
          "size": 9,
          "symbol": "triangle-down"
         },
         "mode": "markers",
         "name": "spleen",
         "showlegend": false,
         "type": "scatter",
         "x": [
          0
         ],
         "xaxis": "x2",
         "y": [
          0.7779118408988391
         ],
         "yaxis": "y2"
        },
        {
         "legend": "legend",
         "legendgroup": "rat2rat",
         "marker": {
          "color": "#89CCED",
          "line": {
           "color": "black",
           "width": 1
          },
          "size": 9,
          "symbol": "diamond"
         },
         "mode": "markers",
         "name": "colon",
         "showlegend": false,
         "type": "scatter",
         "x": [
          0.09333333333333334
         ],
         "xaxis": "x2",
         "y": [
          0.7675264151421873
         ],
         "yaxis": "y2"
        },
        {
         "legend": "legend",
         "legendgroup": "rat2rat",
         "marker": {
          "color": "#89CCED",
          "line": {
           "color": "black",
           "width": 1
          },
          "size": 9,
          "symbol": "cross"
         },
         "mode": "markers",
         "name": "liver",
         "showlegend": false,
         "type": "scatter",
         "x": [
          0.18666666666666668
         ],
         "xaxis": "x2",
         "y": [
          0.7408471650918634
         ],
         "yaxis": "y2"
        },
        {
         "legend": "legend",
         "legendgroup": "rat2rat",
         "marker": {
          "color": "#89CCED",
          "line": {
           "color": "black",
           "width": 1
          },
          "size": 9,
          "symbol": "x"
         },
         "mode": "markers",
         "name": "pancreas",
         "showlegend": false,
         "type": "scatter",
         "x": [
          0.28
         ],
         "xaxis": "x2",
         "y": [
          0.661946724579011
         ],
         "yaxis": "y2"
        },
        {
         "boxmean": true,
         "boxpoints": false,
         "legend": "legend2",
         "legendgroup": "rat2rat",
         "line": {
          "color": "#89CCED"
         },
         "name": "rat2rat",
         "showlegend": false,
         "type": "box",
         "x": [
          0.6,
          0.6,
          0.6,
          0.6,
          0.6,
          0.6,
          0.6,
          0.6,
          0.6,
          0.6,
          0.6,
          0.6
         ],
         "xaxis": "x2",
         "y": {
          "bdata": "pUEaJI+07z++SZF7y0bvP4GY/KPsj+4/KSsvEmM87j9KR7+IyijsP2/kRm53Gus/0Wy9YcWt6j+bNQUKlnjqPwmdel+n5Og/D0J7jpOP6D957CwdBbXnP4VbuOWqLuU/",
          "dtype": "f8"
         },
         "yaxis": "y2"
        },
        {
         "legendgroup": "rat2rat",
         "line": {
          "color": "#89CCED",
          "dash": "dot"
         },
         "mode": "lines",
         "name": "rat2rat",
         "showlegend": false,
         "text": "95 % CI mean: [0.84;0.86]",
         "type": "scatter",
         "x": [
          0.5,
          0.5
         ],
         "xaxis": "x2",
         "y": [
          0.8389787460979109,
          0.861844732538129
         ],
         "yaxis": "y2"
        },
        {
         "legendgroup": "rat2rat",
         "line": {
          "color": "#89CCED"
         },
         "marker": {
          "size": 10,
          "symbol": "triangle-down-open"
         },
         "mode": "markers",
         "name": "rat2rat",
         "showlegend": false,
         "text": "95 % CI mean: [0.84;0.86]",
         "type": "scatter",
         "x": [
          0.5
         ],
         "xaxis": "x2",
         "y": [
          0.8389787460979109
         ],
         "yaxis": "y2"
        },
        {
         "legendgroup": "rat2rat",
         "line": {
          "color": "#89CCED"
         },
         "marker": {
          "size": 10,
          "symbol": "triangle-up-open"
         },
         "mode": "markers",
         "name": "rat2rat",
         "showlegend": false,
         "text": "95 % CI mean: [0.84;0.86]",
         "type": "scatter",
         "x": [
          0.5
         ],
         "xaxis": "x2",
         "y": [
          0.861844732538129
         ],
         "yaxis": "y2"
        },
        {
         "legendgroup": "rat2rat",
         "line": {
          "color": "#89CCED",
          "dash": "solid"
         },
         "mode": "lines",
         "name": "rat2rat",
         "showlegend": false,
         "text": "95 % CI median: [0.82;0.87]",
         "type": "scatter",
         "x": [
          0.7,
          0.7
         ],
         "xaxis": "x2",
         "y": [
          0.8235412893651606,
          0.8689228150721967
         ],
         "yaxis": "y2"
        },
        {
         "legendgroup": "rat2rat",
         "line": {
          "color": "#89CCED"
         },
         "marker": {
          "size": 10,
          "symbol": "triangle-down"
         },
         "mode": "markers",
         "name": "rat2rat",
         "showlegend": false,
         "text": "95 % CI median: [0.82;0.87]",
         "type": "scatter",
         "x": [
          0.7
         ],
         "xaxis": "x2",
         "y": [
          0.8235412893651606
         ],
         "yaxis": "y2"
        },
        {
         "legendgroup": "rat2rat",
         "line": {
          "color": "#89CCED"
         },
         "marker": {
          "size": 10,
          "symbol": "triangle-up"
         },
         "mode": "markers",
         "name": "rat2rat",
         "showlegend": false,
         "text": "95 % CI median: [0.82;0.87]",
         "type": "scatter",
         "x": [
          0.7
         ],
         "xaxis": "x2",
         "y": [
          0.8689228150721967
         ],
         "yaxis": "y2"
        },
        {
         "legend": "legend",
         "legendgroup": "rat2pig",
         "marker": {
          "color": "#44AA99",
          "line": {
           "color": "black",
           "width": 1
          },
          "size": 9,
          "symbol": "diamond-tall"
         },
         "mode": "markers",
         "name": "background",
         "showlegend": false,
         "type": "scatter",
         "x": [
          1
         ],
         "xaxis": "x2",
         "y": [
          0.5507139172140968
         ],
         "yaxis": "y2"
        },
        {
         "legend": "legend",
         "legendgroup": "rat2pig",
         "marker": {
          "color": "#44AA99",
          "line": {
           "color": "black",
           "width": 1
          },
          "size": 9,
          "symbol": "star"
         },
         "mode": "markers",
         "name": "skin",
         "showlegend": false,
         "type": "scatter",
         "x": [
          1.0933333333333333
         ],
         "xaxis": "x2",
         "y": [
          0.538026008170277
         ],
         "yaxis": "y2"
        },
        {
         "legend": "legend",
         "legendgroup": "rat2pig",
         "marker": {
          "color": "#44AA99",
          "line": {
           "color": "black",
           "width": 1
          },
          "size": 9,
          "symbol": "triangle-right"
         },
         "mode": "markers",
         "name": "lung",
         "showlegend": false,
         "type": "scatter",
         "x": [
          1.1866666666666668
         ],
         "xaxis": "x2",
         "y": [
          0.5112616197120794
         ],
         "yaxis": "y2"
        },
        {
         "legend": "legend",
         "legendgroup": "rat2pig",
         "marker": {
          "color": "#44AA99",
          "line": {
           "color": "black",
           "width": 1
          },
          "size": 9,
          "symbol": "cross"
         },
         "mode": "markers",
         "name": "liver",
         "showlegend": false,
         "type": "scatter",
         "x": [
          1.28
         ],
         "xaxis": "x2",
         "y": [
          0.502865356916647
         ],
         "yaxis": "y2"
        },
        {
         "legend": "legend",
         "legendgroup": "rat2pig",
         "marker": {
          "color": "#44AA99",
          "line": {
           "color": "black",
           "width": 1
          },
          "size": 9,
          "symbol": "x"
         },
         "mode": "markers",
         "name": "pancreas",
         "showlegend": false,
         "type": "scatter",
         "x": [
          1
         ],
         "xaxis": "x2",
         "y": [
          0.413713672974753
         ],
         "yaxis": "y2"
        },
        {
         "legend": "legend",
         "legendgroup": "rat2pig",
         "marker": {
          "color": "#44AA99",
          "line": {
           "color": "black",
           "width": 1
          },
          "size": 9,
          "symbol": "diamond-wide"
         },
         "mode": "markers",
         "name": "peritoneum",
         "showlegend": false,
         "type": "scatter",
         "x": [
          1.0933333333333333
         ],
         "xaxis": "x2",
         "y": [
          0.380462336692559
         ],
         "yaxis": "y2"
        },
        {
         "legend": "legend",
         "legendgroup": "rat2pig",
         "marker": {
          "color": "#44AA99",
          "line": {
           "color": "black",
           "width": 1
          },
          "size": 9,
          "symbol": "square"
         },
         "mode": "markers",
         "name": "small_bowel",
         "showlegend": false,
         "type": "scatter",
         "x": [
          1.1866666666666668
         ],
         "xaxis": "x2",
         "y": [
          0.3783157430144545
         ],
         "yaxis": "y2"
        },
        {
         "legend": "legend",
         "legendgroup": "rat2pig",
         "marker": {
          "color": "#44AA99",
          "line": {
           "color": "black",
           "width": 1
          },
          "size": 9,
          "symbol": "triangle-down"
         },
         "mode": "markers",
         "name": "spleen",
         "showlegend": false,
         "type": "scatter",
         "x": [
          1.28
         ],
         "xaxis": "x2",
         "y": [
          0.30364986811074146
         ],
         "yaxis": "y2"
        },
        {
         "legend": "legend",
         "legendgroup": "rat2pig",
         "marker": {
          "color": "#44AA99",
          "line": {
           "color": "black",
           "width": 1
          },
          "size": 9,
          "symbol": "triangle-left"
         },
         "mode": "markers",
         "name": "omentum",
         "showlegend": false,
         "type": "scatter",
         "x": [
          1
         ],
         "xaxis": "x2",
         "y": [
          0.24646368225717127
         ],
         "yaxis": "y2"
        },
        {
         "legend": "legend",
         "legendgroup": "rat2pig",
         "marker": {
          "color": "#44AA99",
          "line": {
           "color": "black",
           "width": 1
          },
          "size": 9,
          "symbol": "diamond"
         },
         "mode": "markers",
         "name": "colon",
         "showlegend": false,
         "type": "scatter",
         "x": [
          1.0933333333333333
         ],
         "xaxis": "x2",
         "y": [
          0.21429697199534684
         ],
         "yaxis": "y2"
        },
        {
         "legend": "legend",
         "legendgroup": "rat2pig",
         "marker": {
          "color": "#44AA99",
          "line": {
           "color": "black",
           "width": 1
          },
          "size": 9,
          "symbol": "circle"
         },
         "mode": "markers",
         "name": "stomach",
         "showlegend": false,
         "type": "scatter",
         "x": [
          1.1866666666666668
         ],
         "xaxis": "x2",
         "y": [
          0.02605615738073645
         ],
         "yaxis": "y2"
        },
        {
         "legend": "legend",
         "legendgroup": "rat2pig",
         "marker": {
          "color": "#44AA99",
          "line": {
           "color": "black",
           "width": 1
          },
          "size": 9,
          "symbol": "triangle-up"
         },
         "mode": "markers",
         "name": "kidney",
         "showlegend": false,
         "type": "scatter",
         "x": [
          1.28
         ],
         "xaxis": "x2",
         "y": [
          0.006518723864376155
         ],
         "yaxis": "y2"
        },
        {
         "boxmean": true,
         "boxpoints": false,
         "legend": "legend2",
         "legendgroup": "rat2pig",
         "line": {
          "color": "#44AA99"
         },
         "name": "rat2pig",
         "showlegend": false,
         "type": "box",
         "x": [
          1.6,
          1.6,
          1.6,
          1.6,
          1.6,
          1.6,
          1.6,
          1.6,
          1.6,
          1.6,
          1.6,
          1.6
         ],
         "xaxis": "x2",
         "y": {
          "bdata": "AV/8ynKf4T/+o69RgjfhP7qgC1RBXOA/nvLHFnkX4D8jatXpSHraP/QSXbN+Wdg/BsfzO1M22D8uGj7b/27TP+cfeTcfjM8/LQktSxVuyz/rHz0fd66aP51H8pxgs3o/",
          "dtype": "f8"
         },
         "yaxis": "y2"
        },
        {
         "legendgroup": "rat2pig",
         "line": {
          "color": "#44AA99",
          "dash": "dot"
         },
         "mode": "lines",
         "name": "rat2pig",
         "showlegend": false,
         "text": "95 % CI mean: [0.31;0.36]",
         "type": "scatter",
         "x": [
          1.5,
          1.5
         ],
         "xaxis": "x2",
         "y": [
          0.3129142966549301,
          0.36435605387329284
         ],
         "yaxis": "y2"
        },
        {
         "legendgroup": "rat2pig",
         "line": {
          "color": "#44AA99"
         },
         "marker": {
          "size": 10,
          "symbol": "triangle-down-open"
         },
         "mode": "markers",
         "name": "rat2pig",
         "showlegend": false,
         "text": "95 % CI mean: [0.31;0.36]",
         "type": "scatter",
         "x": [
          1.5
         ],
         "xaxis": "x2",
         "y": [
          0.3129142966549301
         ],
         "yaxis": "y2"
        },
        {
         "legendgroup": "rat2pig",
         "line": {
          "color": "#44AA99"
         },
         "marker": {
          "size": 10,
          "symbol": "triangle-up-open"
         },
         "mode": "markers",
         "name": "rat2pig",
         "showlegend": false,
         "text": "95 % CI mean: [0.31;0.36]",
         "type": "scatter",
         "x": [
          1.5
         ],
         "xaxis": "x2",
         "y": [
          0.36435605387329284
         ],
         "yaxis": "y2"
        },
        {
         "legendgroup": "rat2pig",
         "line": {
          "color": "#44AA99",
          "dash": "solid"
         },
         "mode": "lines",
         "name": "rat2pig",
         "showlegend": false,
         "text": "95 % CI median: [0.33;0.41]",
         "type": "scatter",
         "x": [
          1.7,
          1.7
         ],
         "xaxis": "x2",
         "y": [
          0.3279415155015186,
          0.4089291880379277
         ],
         "yaxis": "y2"
        },
        {
         "legendgroup": "rat2pig",
         "line": {
          "color": "#44AA99"
         },
         "marker": {
          "size": 10,
          "symbol": "triangle-down"
         },
         "mode": "markers",
         "name": "rat2pig",
         "showlegend": false,
         "text": "95 % CI median: [0.33;0.41]",
         "type": "scatter",
         "x": [
          1.7
         ],
         "xaxis": "x2",
         "y": [
          0.3279415155015186
         ],
         "yaxis": "y2"
        },
        {
         "legendgroup": "rat2pig",
         "line": {
          "color": "#44AA99"
         },
         "marker": {
          "size": 10,
          "symbol": "triangle-up"
         },
         "mode": "markers",
         "name": "rat2pig",
         "showlegend": false,
         "text": "95 % CI median: [0.33;0.41]",
         "type": "scatter",
         "x": [
          1.7
         ],
         "xaxis": "x2",
         "y": [
          0.4089291880379277
         ],
         "yaxis": "y2"
        },
        {
         "legend": "legend",
         "legendgroup": "rat2human",
         "marker": {
          "color": "#DDCB76",
          "line": {
           "color": "black",
           "width": 1
          },
          "size": 9,
          "symbol": "diamond-tall"
         },
         "mode": "markers",
         "name": "background",
         "showlegend": false,
         "type": "scatter",
         "x": [
          2
         ],
         "xaxis": "x2",
         "y": [
          0.5598698562796163
         ],
         "yaxis": "y2"
        },
        {
         "legend": "legend",
         "legendgroup": "rat2human",
         "marker": {
          "color": "#DDCB76",
          "line": {
           "color": "black",
           "width": 1
          },
          "size": 9,
          "symbol": "star"
         },
         "mode": "markers",
         "name": "skin",
         "showlegend": false,
         "type": "scatter",
         "x": [
          2.0933333333333333
         ],
         "xaxis": "x2",
         "y": [
          0.5513234446071601
         ],
         "yaxis": "y2"
        },
        {
         "legend": "legend",
         "legendgroup": "rat2human",
         "marker": {
          "color": "#DDCB76",
          "line": {
           "color": "black",
           "width": 1
          },
          "size": 9,
          "symbol": "triangle-left"
         },
         "mode": "markers",
         "name": "omentum",
         "showlegend": false,
         "type": "scatter",
         "x": [
          2.1866666666666665
         ],
         "xaxis": "x2",
         "y": [
          0.4219873335746453
         ],
         "yaxis": "y2"
        },
        {
         "legend": "legend",
         "legendgroup": "rat2human",
         "marker": {
          "color": "#DDCB76",
          "line": {
           "color": "black",
           "width": 1
          },
          "size": 9,
          "symbol": "triangle-down"
         },
         "mode": "markers",
         "name": "spleen",
         "showlegend": false,
         "type": "scatter",
         "x": [
          2.2800000000000002
         ],
         "xaxis": "x2",
         "y": [
          0.31394827098896105
         ],
         "yaxis": "y2"
        },
        {
         "legend": "legend",
         "legendgroup": "rat2human",
         "marker": {
          "color": "#DDCB76",
          "line": {
           "color": "black",
           "width": 1
          },
          "size": 9,
          "symbol": "square"
         },
         "mode": "markers",
         "name": "small_bowel",
         "showlegend": false,
         "type": "scatter",
         "x": [
          2
         ],
         "xaxis": "x2",
         "y": [
          0.28466060329362436
         ],
         "yaxis": "y2"
        },
        {
         "legend": "legend",
         "legendgroup": "rat2human",
         "marker": {
          "color": "#DDCB76",
          "line": {
           "color": "black",
           "width": 1
          },
          "size": 9,
          "symbol": "diamond-wide"
         },
         "mode": "markers",
         "name": "peritoneum",
         "showlegend": false,
         "type": "scatter",
         "x": [
          2.0933333333333333
         ],
         "xaxis": "x2",
         "y": [
          0.2432404446014726
         ],
         "yaxis": "y2"
        },
        {
         "legend": "legend",
         "legendgroup": "rat2human",
         "marker": {
          "color": "#DDCB76",
          "line": {
           "color": "black",
           "width": 1
          },
          "size": 9,
          "symbol": "cross"
         },
         "mode": "markers",
         "name": "liver",
         "showlegend": false,
         "type": "scatter",
         "x": [
          2.1866666666666665
         ],
         "xaxis": "x2",
         "y": [
          0.23594785145087055
         ],
         "yaxis": "y2"
        },
        {
         "legend": "legend",
         "legendgroup": "rat2human",
         "marker": {
          "color": "#DDCB76",
          "line": {
           "color": "black",
           "width": 1
          },
          "size": 9,
          "symbol": "triangle-right"
         },
         "mode": "markers",
         "name": "lung",
         "showlegend": false,
         "type": "scatter",
         "x": [
          2.2800000000000002
         ],
         "xaxis": "x2",
         "y": [
          0.2268538460145808
         ],
         "yaxis": "y2"
        },
        {
         "legend": "legend",
         "legendgroup": "rat2human",
         "marker": {
          "color": "#DDCB76",
          "line": {
           "color": "black",
           "width": 1
          },
          "size": 9,
          "symbol": "circle"
         },
         "mode": "markers",
         "name": "stomach",
         "showlegend": false,
         "type": "scatter",
         "x": [
          2
         ],
         "xaxis": "x2",
         "y": [
          0.02967387987391921
         ],
         "yaxis": "y2"
        },
        {
         "legend": "legend",
         "legendgroup": "rat2human",
         "marker": {
          "color": "#DDCB76",
          "line": {
           "color": "black",
           "width": 1
          },
          "size": 9,
          "symbol": "x"
         },
         "mode": "markers",
         "name": "pancreas",
         "showlegend": false,
         "type": "scatter",
         "x": [
          2.0933333333333333
         ],
         "xaxis": "x2",
         "y": [
          0.013159538517975434
         ],
         "yaxis": "y2"
        },
        {
         "legend": "legend",
         "legendgroup": "rat2human",
         "marker": {
          "color": "#DDCB76",
          "line": {
           "color": "black",
           "width": 1
          },
          "size": 9,
          "symbol": "diamond"
         },
         "mode": "markers",
         "name": "colon",
         "showlegend": false,
         "type": "scatter",
         "x": [
          2.1866666666666665
         ],
         "xaxis": "x2",
         "y": [
          0.0076498117901790275
         ],
         "yaxis": "y2"
        },
        {
         "legend": "legend",
         "legendgroup": "rat2human",
         "marker": {
          "color": "#DDCB76",
          "line": {
           "color": "black",
           "width": 1
          },
          "size": 9,
          "symbol": "triangle-up"
         },
         "mode": "markers",
         "name": "kidney",
         "showlegend": false,
         "type": "scatter",
         "x": [
          2.2800000000000002
         ],
         "xaxis": "x2",
         "y": [
          0.00032594523509033024
         ],
         "yaxis": "y2"
        },
        {
         "boxmean": true,
         "boxpoints": false,
         "legend": "legend2",
         "legendgroup": "rat2human",
         "line": {
          "color": "#DDCB76"
         },
         "name": "rat2human",
         "showlegend": false,
         "type": "box",
         "x": [
          2.6,
          2.6,
          2.6,
          2.6,
          2.6,
          2.6,
          2.6,
          2.6,
          2.6,
          2.6,
          2.6,
          2.6
         ],
         "xaxis": "x2",
         "y": {
          "bdata": "6pZXMHTq4T/hYoMQcaThP8fgQSnXAds/IiIifboX1D+NxGYb4TfSP45cUL2AIs8/jn/FCIozzj9wXs38iwnNP9toal7UYp4/7XCFXGPzij+ymFm3aFV/PwAAACB0XDU/",
          "dtype": "f8"
         },
         "yaxis": "y2"
        },
        {
         "legendgroup": "rat2human",
         "line": {
          "color": "#DDCB76",
          "dash": "dot"
         },
         "mode": "lines",
         "name": "rat2human",
         "showlegend": false,
         "text": "95 % CI mean: [0.23;0.25]",
         "type": "scatter",
         "x": [
          2.5,
          2.5
         ],
         "xaxis": "x2",
         "y": [
          0.22844714901068355,
          0.25340672568085343
         ],
         "yaxis": "y2"
        },
        {
         "legendgroup": "rat2human",
         "line": {
          "color": "#DDCB76"
         },
         "marker": {
          "size": 10,
          "symbol": "triangle-down-open"
         },
         "mode": "markers",
         "name": "rat2human",
         "showlegend": false,
         "text": "95 % CI mean: [0.23;0.25]",
         "type": "scatter",
         "x": [
          2.5
         ],
         "xaxis": "x2",
         "y": [
          0.22844714901068355
         ],
         "yaxis": "y2"
        },
        {
         "legendgroup": "rat2human",
         "line": {
          "color": "#DDCB76"
         },
         "marker": {
          "size": 10,
          "symbol": "triangle-up-open"
         },
         "mode": "markers",
         "name": "rat2human",
         "showlegend": false,
         "text": "95 % CI mean: [0.23;0.25]",
         "type": "scatter",
         "x": [
          2.5
         ],
         "xaxis": "x2",
         "y": [
          0.25340672568085343
         ],
         "yaxis": "y2"
        },
        {
         "legendgroup": "rat2human",
         "line": {
          "color": "#DDCB76",
          "dash": "solid"
         },
         "mode": "lines",
         "name": "rat2human",
         "showlegend": false,
         "text": "95 % CI median: [0.21;0.27]",
         "type": "scatter",
         "x": [
          2.7,
          2.7
         ],
         "xaxis": "x2",
         "y": [
          0.21483213187473316,
          0.2727549205492907
         ],
         "yaxis": "y2"
        },
        {
         "legendgroup": "rat2human",
         "line": {
          "color": "#DDCB76"
         },
         "marker": {
          "size": 10,
          "symbol": "triangle-down"
         },
         "mode": "markers",
         "name": "rat2human",
         "showlegend": false,
         "text": "95 % CI median: [0.21;0.27]",
         "type": "scatter",
         "x": [
          2.7
         ],
         "xaxis": "x2",
         "y": [
          0.21483213187473316
         ],
         "yaxis": "y2"
        },
        {
         "legendgroup": "rat2human",
         "line": {
          "color": "#DDCB76"
         },
         "marker": {
          "size": 10,
          "symbol": "triangle-up"
         },
         "mode": "markers",
         "name": "rat2human",
         "showlegend": false,
         "text": "95 % CI median: [0.21;0.27]",
         "type": "scatter",
         "x": [
          2.7
         ],
         "xaxis": "x2",
         "y": [
          0.2727549205492907
         ],
         "yaxis": "y2"
        },
        {
         "legend": "legend",
         "marker": {
          "color": "gray",
          "line": {
           "color": "black",
           "width": 1
          },
          "size": 9,
          "symbol": "circle"
         },
         "mode": "markers",
         "name": "stomach",
         "showlegend": false,
         "type": "scatter",
         "x": [
          null
         ],
         "xaxis": "x3",
         "y": [
          null
         ],
         "yaxis": "y3"
        },
        {
         "legend": "legend",
         "marker": {
          "color": "gray",
          "line": {
           "color": "black",
           "width": 1
          },
          "size": 9,
          "symbol": "square"
         },
         "mode": "markers",
         "name": "small_bowel",
         "showlegend": false,
         "type": "scatter",
         "x": [
          null
         ],
         "xaxis": "x3",
         "y": [
          null
         ],
         "yaxis": "y3"
        },
        {
         "legend": "legend",
         "marker": {
          "color": "gray",
          "line": {
           "color": "black",
           "width": 1
          },
          "size": 9,
          "symbol": "diamond"
         },
         "mode": "markers",
         "name": "colon",
         "showlegend": false,
         "type": "scatter",
         "x": [
          null
         ],
         "xaxis": "x3",
         "y": [
          null
         ],
         "yaxis": "y3"
        },
        {
         "legend": "legend",
         "marker": {
          "color": "gray",
          "line": {
           "color": "black",
           "width": 1
          },
          "size": 9,
          "symbol": "cross"
         },
         "mode": "markers",
         "name": "liver",
         "showlegend": false,
         "type": "scatter",
         "x": [
          null
         ],
         "xaxis": "x3",
         "y": [
          null
         ],
         "yaxis": "y3"
        },
        {
         "legend": "legend",
         "marker": {
          "color": "gray",
          "line": {
           "color": "black",
           "width": 1
          },
          "size": 9,
          "symbol": "x"
         },
         "mode": "markers",
         "name": "pancreas",
         "showlegend": false,
         "type": "scatter",
         "x": [
          null
         ],
         "xaxis": "x3",
         "y": [
          null
         ],
         "yaxis": "y3"
        },
        {
         "legend": "legend",
         "marker": {
          "color": "gray",
          "line": {
           "color": "black",
           "width": 1
          },
          "size": 9,
          "symbol": "triangle-up"
         },
         "mode": "markers",
         "name": "kidney",
         "showlegend": false,
         "type": "scatter",
         "x": [
          null
         ],
         "xaxis": "x3",
         "y": [
          null
         ],
         "yaxis": "y3"
        },
        {
         "legend": "legend",
         "marker": {
          "color": "gray",
          "line": {
           "color": "black",
           "width": 1
          },
          "size": 9,
          "symbol": "triangle-down"
         },
         "mode": "markers",
         "name": "spleen",
         "showlegend": false,
         "type": "scatter",
         "x": [
          null
         ],
         "xaxis": "x3",
         "y": [
          null
         ],
         "yaxis": "y3"
        },
        {
         "legend": "legend",
         "marker": {
          "color": "gray",
          "line": {
           "color": "black",
           "width": 1
          },
          "size": 9,
          "symbol": "triangle-left"
         },
         "mode": "markers",
         "name": "omentum",
         "showlegend": false,
         "type": "scatter",
         "x": [
          null
         ],
         "xaxis": "x3",
         "y": [
          null
         ],
         "yaxis": "y3"
        },
        {
         "legend": "legend",
         "marker": {
          "color": "gray",
          "line": {
           "color": "black",
           "width": 1
          },
          "size": 9,
          "symbol": "triangle-right"
         },
         "mode": "markers",
         "name": "lung",
         "showlegend": false,
         "type": "scatter",
         "x": [
          null
         ],
         "xaxis": "x3",
         "y": [
          null
         ],
         "yaxis": "y3"
        },
        {
         "legend": "legend",
         "marker": {
          "color": "gray",
          "line": {
           "color": "black",
           "width": 1
          },
          "size": 9,
          "symbol": "star"
         },
         "mode": "markers",
         "name": "skin",
         "showlegend": false,
         "type": "scatter",
         "x": [
          null
         ],
         "xaxis": "x3",
         "y": [
          null
         ],
         "yaxis": "y3"
        },
        {
         "legend": "legend",
         "marker": {
          "color": "gray",
          "line": {
           "color": "black",
           "width": 1
          },
          "size": 9,
          "symbol": "diamond-wide"
         },
         "mode": "markers",
         "name": "peritoneum",
         "showlegend": false,
         "type": "scatter",
         "x": [
          null
         ],
         "xaxis": "x3",
         "y": [
          null
         ],
         "yaxis": "y3"
        },
        {
         "legend": "legend",
         "marker": {
          "color": "gray",
          "line": {
           "color": "black",
           "width": 1
          },
          "size": 9,
          "symbol": "diamond-tall"
         },
         "mode": "markers",
         "name": "background",
         "showlegend": false,
         "type": "scatter",
         "x": [
          null
         ],
         "xaxis": "x3",
         "y": [
          null
         ],
         "yaxis": "y3"
        },
        {
         "legend": "legend",
         "legendgroup": "human2human",
         "marker": {
          "color": "#DDCB76",
          "line": {
           "color": "black",
           "width": 1
          },
          "size": 9,
          "symbol": "diamond-tall"
         },
         "mode": "markers",
         "name": "background",
         "showlegend": false,
         "type": "scatter",
         "x": [
          0
         ],
         "xaxis": "x3",
         "y": [
          0.9103187791952682
         ],
         "yaxis": "y3"
        },
        {
         "legend": "legend",
         "legendgroup": "human2human",
         "marker": {
          "color": "#DDCB76",
          "line": {
           "color": "black",
           "width": 1
          },
          "size": 9,
          "symbol": "star"
         },
         "mode": "markers",
         "name": "skin",
         "showlegend": false,
         "type": "scatter",
         "x": [
          0.09333333333333334
         ],
         "xaxis": "x3",
         "y": [
          0.8368775560547075
         ],
         "yaxis": "y3"
        },
        {
         "legend": "legend",
         "legendgroup": "human2human",
         "marker": {
          "color": "#DDCB76",
          "line": {
           "color": "black",
           "width": 1
          },
          "size": 9,
          "symbol": "triangle-up"
         },
         "mode": "markers",
         "name": "kidney",
         "showlegend": false,
         "type": "scatter",
         "x": [
          0.18666666666666668
         ],
         "xaxis": "x3",
         "y": [
          0.822044018285099
         ],
         "yaxis": "y3"
        },
        {
         "legend": "legend",
         "legendgroup": "human2human",
         "marker": {
          "color": "#DDCB76",
          "line": {
           "color": "black",
           "width": 1
          },
          "size": 9,
          "symbol": "triangle-left"
         },
         "mode": "markers",
         "name": "omentum",
         "showlegend": false,
         "type": "scatter",
         "x": [
          0.28
         ],
         "xaxis": "x3",
         "y": [
          0.7901792133848543
         ],
         "yaxis": "y3"
        },
        {
         "legend": "legend",
         "legendgroup": "human2human",
         "marker": {
          "color": "#DDCB76",
          "line": {
           "color": "black",
           "width": 1
          },
          "size": 9,
          "symbol": "triangle-right"
         },
         "mode": "markers",
         "name": "lung",
         "showlegend": false,
         "type": "scatter",
         "x": [
          0
         ],
         "xaxis": "x3",
         "y": [
          0.7379007512993282
         ],
         "yaxis": "y3"
        },
        {
         "legend": "legend",
         "legendgroup": "human2human",
         "marker": {
          "color": "#DDCB76",
          "line": {
           "color": "black",
           "width": 1
          },
          "size": 9,
          "symbol": "circle"
         },
         "mode": "markers",
         "name": "stomach",
         "showlegend": false,
         "type": "scatter",
         "x": [
          0.09333333333333334
         ],
         "xaxis": "x3",
         "y": [
          0.6896819289435568
         ],
         "yaxis": "y3"
        },
        {
         "legend": "legend",
         "legendgroup": "human2human",
         "marker": {
          "color": "#DDCB76",
          "line": {
           "color": "black",
           "width": 1
          },
          "size": 9,
          "symbol": "square"
         },
         "mode": "markers",
         "name": "small_bowel",
         "showlegend": false,
         "type": "scatter",
         "x": [
          0.18666666666666668
         ],
         "xaxis": "x3",
         "y": [
          0.6823689043695561
         ],
         "yaxis": "y3"
        },
        {
         "legend": "legend",
         "legendgroup": "human2human",
         "marker": {
          "color": "#DDCB76",
          "line": {
           "color": "black",
           "width": 1
          },
          "size": 9,
          "symbol": "cross"
         },
         "mode": "markers",
         "name": "liver",
         "showlegend": false,
         "type": "scatter",
         "x": [
          0.28
         ],
         "xaxis": "x3",
         "y": [
          0.6517978145648812
         ],
         "yaxis": "y3"
        },
        {
         "legend": "legend",
         "legendgroup": "human2human",
         "marker": {
          "color": "#DDCB76",
          "line": {
           "color": "black",
           "width": 1
          },
          "size": 9,
          "symbol": "diamond"
         },
         "mode": "markers",
         "name": "colon",
         "showlegend": false,
         "type": "scatter",
         "x": [
          0
         ],
         "xaxis": "x3",
         "y": [
          0.6444749339625747
         ],
         "yaxis": "y3"
        },
        {
         "legend": "legend",
         "legendgroup": "human2human",
         "marker": {
          "color": "#DDCB76",
          "line": {
           "color": "black",
           "width": 1
          },
          "size": 9,
          "symbol": "diamond-wide"
         },
         "mode": "markers",
         "name": "peritoneum",
         "showlegend": false,
         "type": "scatter",
         "x": [
          0.09333333333333334
         ],
         "xaxis": "x3",
         "y": [
          0.5849655977887711
         ],
         "yaxis": "y3"
        },
        {
         "legend": "legend",
         "legendgroup": "human2human",
         "marker": {
          "color": "#DDCB76",
          "line": {
           "color": "black",
           "width": 1
          },
          "size": 9,
          "symbol": "triangle-down"
         },
         "mode": "markers",
         "name": "spleen",
         "showlegend": false,
         "type": "scatter",
         "x": [
          0.18666666666666668
         ],
         "xaxis": "x3",
         "y": [
          0.5237065736379009
         ],
         "yaxis": "y3"
        },
        {
         "legend": "legend",
         "legendgroup": "human2human",
         "marker": {
          "color": "#DDCB76",
          "line": {
           "color": "black",
           "width": 1
          },
          "size": 9,
          "symbol": "x"
         },
         "mode": "markers",
         "name": "pancreas",
         "showlegend": false,
         "type": "scatter",
         "x": [
          0.28
         ],
         "xaxis": "x3",
         "y": [
          0.3543961115761224
         ],
         "yaxis": "y3"
        },
        {
         "boxmean": true,
         "boxpoints": false,
         "legend": "legend2",
         "legendgroup": "human2human",
         "line": {
          "color": "#DDCB76"
         },
         "name": "human2human",
         "showlegend": false,
         "type": "box",
         "x": [
          0.6,
          0.6,
          0.6,
          0.6,
          0.6,
          0.6,
          0.6,
          0.6,
          0.6,
          0.6,
          0.6,
          0.6
         ],
         "xaxis": "x3",
         "y": {
          "bdata": "nYEy2VQh7T8wXcBws8fqP4oFzUEvTuo/S/Hu6iVJ6T8/yFAJ4pznP3+NLtbfEeY/FWMCUPfV5T9NIiUXh9vkP6nAjuWJn+Q/Kjb5xQm44j8zM89JNMLgPwYjQwdtrtY/",
          "dtype": "f8"
         },
         "yaxis": "y3"
        },
        {
         "legendgroup": "human2human",
         "line": {
          "color": "#DDCB76",
          "dash": "dot"
         },
         "mode": "lines",
         "name": "human2human",
         "showlegend": false,
         "text": "95 % CI mean: [0.66;0.71]",
         "type": "scatter",
         "x": [
          0.5,
          0.5
         ],
         "xaxis": "x3",
         "y": [
          0.6631067460045512,
          0.7074068208011366
         ],
         "yaxis": "y3"
        },
        {
         "legendgroup": "human2human",
         "line": {
          "color": "#DDCB76"
         },
         "marker": {
          "size": 10,
          "symbol": "triangle-down-open"
         },
         "mode": "markers",
         "name": "human2human",
         "showlegend": false,
         "text": "95 % CI mean: [0.66;0.71]",
         "type": "scatter",
         "x": [
          0.5
         ],
         "xaxis": "x3",
         "y": [
          0.6631067460045512
         ],
         "yaxis": "y3"
        },
        {
         "legendgroup": "human2human",
         "line": {
          "color": "#DDCB76"
         },
         "marker": {
          "size": 10,
          "symbol": "triangle-up-open"
         },
         "mode": "markers",
         "name": "human2human",
         "showlegend": false,
         "text": "95 % CI mean: [0.66;0.71]",
         "type": "scatter",
         "x": [
          0.5
         ],
         "xaxis": "x3",
         "y": [
          0.7074068208011366
         ],
         "yaxis": "y3"
        },
        {
         "legendgroup": "human2human",
         "line": {
          "color": "#DDCB76",
          "dash": "solid"
         },
         "mode": "lines",
         "name": "human2human",
         "showlegend": false,
         "text": "95 % CI median: [0.66;0.71]",
         "type": "scatter",
         "x": [
          0.7,
          0.7
         ],
         "xaxis": "x3",
         "y": [
          0.6568320135002338,
          0.7130857000302345
         ],
         "yaxis": "y3"
        },
        {
         "legendgroup": "human2human",
         "line": {
          "color": "#DDCB76"
         },
         "marker": {
          "size": 10,
          "symbol": "triangle-down"
         },
         "mode": "markers",
         "name": "human2human",
         "showlegend": false,
         "text": "95 % CI median: [0.66;0.71]",
         "type": "scatter",
         "x": [
          0.7
         ],
         "xaxis": "x3",
         "y": [
          0.6568320135002338
         ],
         "yaxis": "y3"
        },
        {
         "legendgroup": "human2human",
         "line": {
          "color": "#DDCB76"
         },
         "marker": {
          "size": 10,
          "symbol": "triangle-up"
         },
         "mode": "markers",
         "name": "human2human",
         "showlegend": false,
         "text": "95 % CI median: [0.66;0.71]",
         "type": "scatter",
         "x": [
          0.7
         ],
         "xaxis": "x3",
         "y": [
          0.7130857000302345
         ],
         "yaxis": "y3"
        },
        {
         "legend": "legend",
         "legendgroup": "pig-p+rat-p2human2human",
         "marker": {
          "color": "#DDCB76",
          "line": {
           "color": "black",
           "width": 1
          },
          "size": 9,
          "symbol": "diamond-tall"
         },
         "mode": "markers",
         "name": "background",
         "showlegend": false,
         "type": "scatter",
         "x": [
          1
         ],
         "xaxis": "x3",
         "y": [
          0.9055655201618138
         ],
         "yaxis": "y3"
        },
        {
         "legend": "legend",
         "legendgroup": "pig-p+rat-p2human2human",
         "marker": {
          "color": "#DDCB76",
          "line": {
           "color": "black",
           "width": 1
          },
          "size": 9,
          "symbol": "star"
         },
         "mode": "markers",
         "name": "skin",
         "showlegend": false,
         "type": "scatter",
         "x": [
          1.0933333333333333
         ],
         "xaxis": "x3",
         "y": [
          0.8544660795671574
         ],
         "yaxis": "y3"
        },
        {
         "legend": "legend",
         "legendgroup": "pig-p+rat-p2human2human",
         "marker": {
          "color": "#DDCB76",
          "line": {
           "color": "black",
           "width": 1
          },
          "size": 9,
          "symbol": "triangle-up"
         },
         "mode": "markers",
         "name": "kidney",
         "showlegend": false,
         "type": "scatter",
         "x": [
          1.1866666666666668
         ],
         "xaxis": "x3",
         "y": [
          0.826418241456925
         ],
         "yaxis": "y3"
        },
        {
         "legend": "legend",
         "legendgroup": "pig-p+rat-p2human2human",
         "marker": {
          "color": "#DDCB76",
          "line": {
           "color": "black",
           "width": 1
          },
          "size": 9,
          "symbol": "triangle-left"
         },
         "mode": "markers",
         "name": "omentum",
         "showlegend": false,
         "type": "scatter",
         "x": [
          1.28
         ],
         "xaxis": "x3",
         "y": [
          0.7869329076419193
         ],
         "yaxis": "y3"
        },
        {
         "legend": "legend",
         "legendgroup": "pig-p+rat-p2human2human",
         "marker": {
          "color": "#DDCB76",
          "line": {
           "color": "black",
           "width": 1
          },
          "size": 9,
          "symbol": "triangle-right"
         },
         "mode": "markers",
         "name": "lung",
         "showlegend": false,
         "type": "scatter",
         "x": [
          1
         ],
         "xaxis": "x3",
         "y": [
          0.7550247551335229
         ],
         "yaxis": "y3"
        },
        {
         "legend": "legend",
         "legendgroup": "pig-p+rat-p2human2human",
         "marker": {
          "color": "#DDCB76",
          "line": {
           "color": "black",
           "width": 1
          },
          "size": 9,
          "symbol": "circle"
         },
         "mode": "markers",
         "name": "stomach",
         "showlegend": false,
         "type": "scatter",
         "x": [
          1.0933333333333333
         ],
         "xaxis": "x3",
         "y": [
          0.6907262021091838
         ],
         "yaxis": "y3"
        },
        {
         "legend": "legend",
         "legendgroup": "pig-p+rat-p2human2human",
         "marker": {
          "color": "#DDCB76",
          "line": {
           "color": "black",
           "width": 1
          },
          "size": 9,
          "symbol": "diamond-wide"
         },
         "mode": "markers",
         "name": "peritoneum",
         "showlegend": false,
         "type": "scatter",
         "x": [
          1.1866666666666668
         ],
         "xaxis": "x3",
         "y": [
          0.6533039939169791
         ],
         "yaxis": "y3"
        },
        {
         "legend": "legend",
         "legendgroup": "pig-p+rat-p2human2human",
         "marker": {
          "color": "#DDCB76",
          "line": {
           "color": "black",
           "width": 1
          },
          "size": 9,
          "symbol": "square"
         },
         "mode": "markers",
         "name": "small_bowel",
         "showlegend": false,
         "type": "scatter",
         "x": [
          1.28
         ],
         "xaxis": "x3",
         "y": [
          0.6469852887868976
         ],
         "yaxis": "y3"
        },
        {
         "legend": "legend",
         "legendgroup": "pig-p+rat-p2human2human",
         "marker": {
          "color": "#DDCB76",
          "line": {
           "color": "black",
           "width": 1
          },
          "size": 9,
          "symbol": "diamond"
         },
         "mode": "markers",
         "name": "colon",
         "showlegend": false,
         "type": "scatter",
         "x": [
          1
         ],
         "xaxis": "x3",
         "y": [
          0.6461669836904076
         ],
         "yaxis": "y3"
        },
        {
         "legend": "legend",
         "legendgroup": "pig-p+rat-p2human2human",
         "marker": {
          "color": "#DDCB76",
          "line": {
           "color": "black",
           "width": 1
          },
          "size": 9,
          "symbol": "cross"
         },
         "mode": "markers",
         "name": "liver",
         "showlegend": false,
         "type": "scatter",
         "x": [
          1.0933333333333333
         ],
         "xaxis": "x3",
         "y": [
          0.6272351672430381
         ],
         "yaxis": "y3"
        },
        {
         "legend": "legend",
         "legendgroup": "pig-p+rat-p2human2human",
         "marker": {
          "color": "#DDCB76",
          "line": {
           "color": "black",
           "width": 1
          },
          "size": 9,
          "symbol": "triangle-down"
         },
         "mode": "markers",
         "name": "spleen",
         "showlegend": false,
         "type": "scatter",
         "x": [
          1.1866666666666668
         ],
         "xaxis": "x3",
         "y": [
          0.5082235361449421
         ],
         "yaxis": "y3"
        },
        {
         "legend": "legend",
         "legendgroup": "pig-p+rat-p2human2human",
         "marker": {
          "color": "#DDCB76",
          "line": {
           "color": "black",
           "width": 1
          },
          "size": 9,
          "symbol": "x"
         },
         "mode": "markers",
         "name": "pancreas",
         "showlegend": false,
         "type": "scatter",
         "x": [
          1.28
         ],
         "xaxis": "x3",
         "y": [
          0.36519712355035455
         ],
         "yaxis": "y3"
        },
        {
         "boxmean": true,
         "boxpoints": false,
         "legend": "legend2",
         "legendgroup": "pig-p+rat-p2human2human",
         "line": {
          "color": "#DDCB76"
         },
         "name": "pig-p+rat-p2human2human",
         "showlegend": false,
         "type": "box",
         "x": [
          1.6,
          1.6,
          1.6,
          1.6,
          1.6,
          1.6,
          1.6,
          1.6,
          1.6,
          1.6,
          1.6,
          1.6
         ],
         "xaxis": "x3",
         "y": {
          "bdata": "9F2vimT67D9lCGk/yVfrP6gC/KoEcuo/wfvO640u6T8jAd+sKSnoP0yTEdZtGuY/CAcHx93n5D+ipgp+GrTkP4qR1mFmreQ/0rdGfE8S5D+amVkBXkPgP6d9j8FjX9c/",
          "dtype": "f8"
         },
         "yaxis": "y3"
        },
        {
         "legendgroup": "pig-p+rat-p2human2human",
         "line": {
          "color": "#DDCB76",
          "dash": "dot"
         },
         "mode": "lines",
         "name": "pig-p+rat-p2human2human",
         "showlegend": false,
         "text": "95 % CI mean: [0.67;0.71]",
         "type": "scatter",
         "x": [
          1.5,
          1.5
         ],
         "xaxis": "x3",
         "y": [
          0.6679308116685028,
          0.711569013402417
         ],
         "yaxis": "y3"
        },
        {
         "legendgroup": "pig-p+rat-p2human2human",
         "line": {
          "color": "#DDCB76"
         },
         "marker": {
          "size": 10,
          "symbol": "triangle-down-open"
         },
         "mode": "markers",
         "name": "pig-p+rat-p2human2human",
         "showlegend": false,
         "text": "95 % CI mean: [0.67;0.71]",
         "type": "scatter",
         "x": [
          1.5
         ],
         "xaxis": "x3",
         "y": [
          0.6679308116685028
         ],
         "yaxis": "y3"
        },
        {
         "legendgroup": "pig-p+rat-p2human2human",
         "line": {
          "color": "#DDCB76"
         },
         "marker": {
          "size": 10,
          "symbol": "triangle-up-open"
         },
         "mode": "markers",
         "name": "pig-p+rat-p2human2human",
         "showlegend": false,
         "text": "95 % CI mean: [0.67;0.71]",
         "type": "scatter",
         "x": [
          1.5
         ],
         "xaxis": "x3",
         "y": [
          0.711569013402417
         ],
         "yaxis": "y3"
        },
        {
         "legendgroup": "pig-p+rat-p2human2human",
         "line": {
          "color": "#DDCB76",
          "dash": "solid"
         },
         "mode": "lines",
         "name": "pig-p+rat-p2human2human",
         "showlegend": false,
         "text": "95 % CI median: [0.65;0.72]",
         "type": "scatter",
         "x": [
          1.7,
          1.7
         ],
         "xaxis": "x3",
         "y": [
          0.6487415307789668,
          0.7185545986290186
         ],
         "yaxis": "y3"
        },
        {
         "legendgroup": "pig-p+rat-p2human2human",
         "line": {
          "color": "#DDCB76"
         },
         "marker": {
          "size": 10,
          "symbol": "triangle-down"
         },
         "mode": "markers",
         "name": "pig-p+rat-p2human2human",
         "showlegend": false,
         "text": "95 % CI median: [0.65;0.72]",
         "type": "scatter",
         "x": [
          1.7
         ],
         "xaxis": "x3",
         "y": [
          0.6487415307789668
         ],
         "yaxis": "y3"
        },
        {
         "legendgroup": "pig-p+rat-p2human2human",
         "line": {
          "color": "#DDCB76"
         },
         "marker": {
          "size": 10,
          "symbol": "triangle-up"
         },
         "mode": "markers",
         "name": "pig-p+rat-p2human2human",
         "showlegend": false,
         "text": "95 % CI median: [0.65;0.72]",
         "type": "scatter",
         "x": [
          1.7
         ],
         "xaxis": "x3",
         "y": [
          0.7185545986290186
         ],
         "yaxis": "y3"
        }
       ],
       "layout": {
        "font": {
         "family": "Libertinus Sans",
         "size": 16
        },
        "height": 400,
        "legend": {
         "orientation": "h",
         "title": {},
         "x": 0.2,
         "xanchor": "center",
         "y": 1.05,
         "yanchor": "bottom"
        },
        "legend2": {
         "orientation": "h",
         "title": {},
         "x": 0.8,
         "xanchor": "center",
         "y": 1.05,
         "yanchor": "bottom"
        },
        "margin": {
         "b": 0,
         "l": 0,
         "r": 0,
         "t": 0
        },
        "showlegend": false,
        "template": {
         "data": {
          "bar": [
           {
            "error_x": {
             "color": "#2a3f5f"
            },
            "error_y": {
             "color": "#2a3f5f"
            },
            "marker": {
             "line": {
              "color": "white",
              "width": 0.5
             },
             "pattern": {
              "fillmode": "overlay",
              "size": 10,
              "solidity": 0.2
             }
            },
            "type": "bar"
           }
          ],
          "barpolar": [
           {
            "marker": {
             "line": {
              "color": "white",
              "width": 0.5
             },
             "pattern": {
              "fillmode": "overlay",
              "size": 10,
              "solidity": 0.2
             }
            },
            "type": "barpolar"
           }
          ],
          "carpet": [
           {
            "aaxis": {
             "endlinecolor": "#2a3f5f",
             "gridcolor": "#C8D4E3",
             "linecolor": "#C8D4E3",
             "minorgridcolor": "#C8D4E3",
             "startlinecolor": "#2a3f5f"
            },
            "baxis": {
             "endlinecolor": "#2a3f5f",
             "gridcolor": "#C8D4E3",
             "linecolor": "#C8D4E3",
             "minorgridcolor": "#C8D4E3",
             "startlinecolor": "#2a3f5f"
            },
            "type": "carpet"
           }
          ],
          "choropleth": [
           {
            "colorbar": {
             "outlinewidth": 0,
             "ticks": ""
            },
            "type": "choropleth"
           }
          ],
          "contour": [
           {
            "colorbar": {
             "outlinewidth": 0,
             "ticks": ""
            },
            "colorscale": [
             [
              0,
              "#0d0887"
             ],
             [
              0.1111111111111111,
              "#46039f"
             ],
             [
              0.2222222222222222,
              "#7201a8"
             ],
             [
              0.3333333333333333,
              "#9c179e"
             ],
             [
              0.4444444444444444,
              "#bd3786"
             ],
             [
              0.5555555555555556,
              "#d8576b"
             ],
             [
              0.6666666666666666,
              "#ed7953"
             ],
             [
              0.7777777777777778,
              "#fb9f3a"
             ],
             [
              0.8888888888888888,
              "#fdca26"
             ],
             [
              1,
              "#f0f921"
             ]
            ],
            "type": "contour"
           }
          ],
          "contourcarpet": [
           {
            "colorbar": {
             "outlinewidth": 0,
             "ticks": ""
            },
            "type": "contourcarpet"
           }
          ],
          "heatmap": [
           {
            "colorbar": {
             "outlinewidth": 0,
             "ticks": ""
            },
            "colorscale": [
             [
              0,
              "#0d0887"
             ],
             [
              0.1111111111111111,
              "#46039f"
             ],
             [
              0.2222222222222222,
              "#7201a8"
             ],
             [
              0.3333333333333333,
              "#9c179e"
             ],
             [
              0.4444444444444444,
              "#bd3786"
             ],
             [
              0.5555555555555556,
              "#d8576b"
             ],
             [
              0.6666666666666666,
              "#ed7953"
             ],
             [
              0.7777777777777778,
              "#fb9f3a"
             ],
             [
              0.8888888888888888,
              "#fdca26"
             ],
             [
              1,
              "#f0f921"
             ]
            ],
            "type": "heatmap"
           }
          ],
          "histogram": [
           {
            "marker": {
             "pattern": {
              "fillmode": "overlay",
              "size": 10,
              "solidity": 0.2
             }
            },
            "type": "histogram"
           }
          ],
          "histogram2d": [
           {
            "colorbar": {
             "outlinewidth": 0,
             "ticks": ""
            },
            "colorscale": [
             [
              0,
              "#0d0887"
             ],
             [
              0.1111111111111111,
              "#46039f"
             ],
             [
              0.2222222222222222,
              "#7201a8"
             ],
             [
              0.3333333333333333,
              "#9c179e"
             ],
             [
              0.4444444444444444,
              "#bd3786"
             ],
             [
              0.5555555555555556,
              "#d8576b"
             ],
             [
              0.6666666666666666,
              "#ed7953"
             ],
             [
              0.7777777777777778,
              "#fb9f3a"
             ],
             [
              0.8888888888888888,
              "#fdca26"
             ],
             [
              1,
              "#f0f921"
             ]
            ],
            "type": "histogram2d"
           }
          ],
          "histogram2dcontour": [
           {
            "colorbar": {
             "outlinewidth": 0,
             "ticks": ""
            },
            "colorscale": [
             [
              0,
              "#0d0887"
             ],
             [
              0.1111111111111111,
              "#46039f"
             ],
             [
              0.2222222222222222,
              "#7201a8"
             ],
             [
              0.3333333333333333,
              "#9c179e"
             ],
             [
              0.4444444444444444,
              "#bd3786"
             ],
             [
              0.5555555555555556,
              "#d8576b"
             ],
             [
              0.6666666666666666,
              "#ed7953"
             ],
             [
              0.7777777777777778,
              "#fb9f3a"
             ],
             [
              0.8888888888888888,
              "#fdca26"
             ],
             [
              1,
              "#f0f921"
             ]
            ],
            "type": "histogram2dcontour"
           }
          ],
          "mesh3d": [
           {
            "colorbar": {
             "outlinewidth": 0,
             "ticks": ""
            },
            "type": "mesh3d"
           }
          ],
          "parcoords": [
           {
            "line": {
             "colorbar": {
              "outlinewidth": 0,
              "ticks": ""
             }
            },
            "type": "parcoords"
           }
          ],
          "pie": [
           {
            "automargin": true,
            "type": "pie"
           }
          ],
          "scatter": [
           {
            "fillpattern": {
             "fillmode": "overlay",
             "size": 10,
             "solidity": 0.2
            },
            "type": "scatter"
           }
          ],
          "scatter3d": [
           {
            "line": {
             "colorbar": {
              "outlinewidth": 0,
              "ticks": ""
             }
            },
            "marker": {
             "colorbar": {
              "outlinewidth": 0,
              "ticks": ""
             }
            },
            "type": "scatter3d"
           }
          ],
          "scattercarpet": [
           {
            "marker": {
             "colorbar": {
              "outlinewidth": 0,
              "ticks": ""
             }
            },
            "type": "scattercarpet"
           }
          ],
          "scattergeo": [
           {
            "marker": {
             "colorbar": {
              "outlinewidth": 0,
              "ticks": ""
             }
            },
            "type": "scattergeo"
           }
          ],
          "scattergl": [
           {
            "marker": {
             "colorbar": {
              "outlinewidth": 0,
              "ticks": ""
             }
            },
            "type": "scattergl"
           }
          ],
          "scattermap": [
           {
            "marker": {
             "colorbar": {
              "outlinewidth": 0,
              "ticks": ""
             }
            },
            "type": "scattermap"
           }
          ],
          "scattermapbox": [
           {
            "marker": {
             "colorbar": {
              "outlinewidth": 0,
              "ticks": ""
             }
            },
            "type": "scattermapbox"
           }
          ],
          "scatterpolar": [
           {
            "marker": {
             "colorbar": {
              "outlinewidth": 0,
              "ticks": ""
             }
            },
            "type": "scatterpolar"
           }
          ],
          "scatterpolargl": [
           {
            "marker": {
             "colorbar": {
              "outlinewidth": 0,
              "ticks": ""
             }
            },
            "type": "scatterpolargl"
           }
          ],
          "scatterternary": [
           {
            "marker": {
             "colorbar": {
              "outlinewidth": 0,
              "ticks": ""
             }
            },
            "type": "scatterternary"
           }
          ],
          "surface": [
           {
            "colorbar": {
             "outlinewidth": 0,
             "ticks": ""
            },
            "colorscale": [
             [
              0,
              "#0d0887"
             ],
             [
              0.1111111111111111,
              "#46039f"
             ],
             [
              0.2222222222222222,
              "#7201a8"
             ],
             [
              0.3333333333333333,
              "#9c179e"
             ],
             [
              0.4444444444444444,
              "#bd3786"
             ],
             [
              0.5555555555555556,
              "#d8576b"
             ],
             [
              0.6666666666666666,
              "#ed7953"
             ],
             [
              0.7777777777777778,
              "#fb9f3a"
             ],
             [
              0.8888888888888888,
              "#fdca26"
             ],
             [
              1,
              "#f0f921"
             ]
            ],
            "type": "surface"
           }
          ],
          "table": [
           {
            "cells": {
             "fill": {
              "color": "#EBF0F8"
             },
             "line": {
              "color": "white"
             }
            },
            "header": {
             "fill": {
              "color": "#C8D4E3"
             },
             "line": {
              "color": "white"
             }
            },
            "type": "table"
           }
          ]
         },
         "layout": {
          "annotationdefaults": {
           "arrowcolor": "#2a3f5f",
           "arrowhead": 0,
           "arrowwidth": 1
          },
          "autotypenumbers": "strict",
          "coloraxis": {
           "colorbar": {
            "outlinewidth": 0,
            "ticks": ""
           }
          },
          "colorscale": {
           "diverging": [
            [
             0,
             "#8e0152"
            ],
            [
             0.1,
             "#c51b7d"
            ],
            [
             0.2,
             "#de77ae"
            ],
            [
             0.3,
             "#f1b6da"
            ],
            [
             0.4,
             "#fde0ef"
            ],
            [
             0.5,
             "#f7f7f7"
            ],
            [
             0.6,
             "#e6f5d0"
            ],
            [
             0.7,
             "#b8e186"
            ],
            [
             0.8,
             "#7fbc41"
            ],
            [
             0.9,
             "#4d9221"
            ],
            [
             1,
             "#276419"
            ]
           ],
           "sequential": [
            [
             0,
             "#0d0887"
            ],
            [
             0.1111111111111111,
             "#46039f"
            ],
            [
             0.2222222222222222,
             "#7201a8"
            ],
            [
             0.3333333333333333,
             "#9c179e"
            ],
            [
             0.4444444444444444,
             "#bd3786"
            ],
            [
             0.5555555555555556,
             "#d8576b"
            ],
            [
             0.6666666666666666,
             "#ed7953"
            ],
            [
             0.7777777777777778,
             "#fb9f3a"
            ],
            [
             0.8888888888888888,
             "#fdca26"
            ],
            [
             1,
             "#f0f921"
            ]
           ],
           "sequentialminus": [
            [
             0,
             "#0d0887"
            ],
            [
             0.1111111111111111,
             "#46039f"
            ],
            [
             0.2222222222222222,
             "#7201a8"
            ],
            [
             0.3333333333333333,
             "#9c179e"
            ],
            [
             0.4444444444444444,
             "#bd3786"
            ],
            [
             0.5555555555555556,
             "#d8576b"
            ],
            [
             0.6666666666666666,
             "#ed7953"
            ],
            [
             0.7777777777777778,
             "#fb9f3a"
            ],
            [
             0.8888888888888888,
             "#fdca26"
            ],
            [
             1,
             "#f0f921"
            ]
           ]
          },
          "colorway": [
           "#636efa",
           "#EF553B",
           "#00cc96",
           "#ab63fa",
           "#FFA15A",
           "#19d3f3",
           "#FF6692",
           "#B6E880",
           "#FF97FF",
           "#FECB52"
          ],
          "font": {
           "color": "#2a3f5f"
          },
          "geo": {
           "bgcolor": "white",
           "lakecolor": "white",
           "landcolor": "white",
           "showlakes": true,
           "showland": true,
           "subunitcolor": "#C8D4E3"
          },
          "hoverlabel": {
           "align": "left"
          },
          "hovermode": "closest",
          "mapbox": {
           "style": "light"
          },
          "paper_bgcolor": "white",
          "plot_bgcolor": "white",
          "polar": {
           "angularaxis": {
            "gridcolor": "#EBF0F8",
            "linecolor": "#EBF0F8",
            "ticks": ""
           },
           "bgcolor": "white",
           "radialaxis": {
            "gridcolor": "#EBF0F8",
            "linecolor": "#EBF0F8",
            "ticks": ""
           }
          },
          "scene": {
           "xaxis": {
            "backgroundcolor": "white",
            "gridcolor": "#DFE8F3",
            "gridwidth": 2,
            "linecolor": "#EBF0F8",
            "showbackground": true,
            "ticks": "",
            "zerolinecolor": "#EBF0F8"
           },
           "yaxis": {
            "backgroundcolor": "white",
            "gridcolor": "#DFE8F3",
            "gridwidth": 2,
            "linecolor": "#EBF0F8",
            "showbackground": true,
            "ticks": "",
            "zerolinecolor": "#EBF0F8"
           },
           "zaxis": {
            "backgroundcolor": "white",
            "gridcolor": "#DFE8F3",
            "gridwidth": 2,
            "linecolor": "#EBF0F8",
            "showbackground": true,
            "ticks": "",
            "zerolinecolor": "#EBF0F8"
           }
          },
          "shapedefaults": {
           "line": {
            "color": "#2a3f5f"
           }
          },
          "ternary": {
           "aaxis": {
            "gridcolor": "#DFE8F3",
            "linecolor": "#A2B1C6",
            "ticks": ""
           },
           "baxis": {
            "gridcolor": "#DFE8F3",
            "linecolor": "#A2B1C6",
            "ticks": ""
           },
           "bgcolor": "white",
           "caxis": {
            "gridcolor": "#DFE8F3",
            "linecolor": "#A2B1C6",
            "ticks": ""
           }
          },
          "title": {
           "x": 0.05
          },
          "xaxis": {
           "automargin": true,
           "gridcolor": "#EBF0F8",
           "linecolor": "#EBF0F8",
           "ticks": "",
           "title": {
            "standoff": 15
           },
           "zerolinecolor": "#EBF0F8",
           "zerolinewidth": 2
          },
          "yaxis": {
           "automargin": true,
           "gridcolor": "#EBF0F8",
           "linecolor": "#EBF0F8",
           "ticks": "",
           "title": {
            "standoff": 15
           },
           "zerolinecolor": "#EBF0F8",
           "zerolinewidth": 2
          }
         }
        },
        "width": 1200,
        "xaxis": {
         "anchor": "y",
         "domain": [
          0,
          0.3525
         ],
         "showticklabels": false
        },
        "xaxis2": {
         "anchor": "y2",
         "domain": [
          0.38249999999999995,
          0.7349999999999999
         ],
         "showticklabels": false
        },
        "xaxis3": {
         "anchor": "y3",
         "domain": [
          0.7649999999999999,
          0.9999999999999999
         ],
         "showticklabels": false
        },
        "yaxis": {
         "anchor": "x",
         "domain": [
          0,
          1
         ],
         "title": {
          "standoff": 12,
          "text": "<b>NSD</b>"
         },
         "zeroline": false
        },
        "yaxis2": {
         "anchor": "x2",
         "domain": [
          0,
          1
         ],
         "matches": "y",
         "showticklabels": false,
         "zeroline": false
        },
        "yaxis3": {
         "anchor": "x3",
         "domain": [
          0,
          1
         ],
         "matches": "y",
         "showticklabels": false,
         "zeroline": false
        }
       }
      },
      "text/html": [
       "<div>            <script src=\"https://cdnjs.cloudflare.com/ajax/libs/mathjax/2.7.5/MathJax.js?config=TeX-AMS-MML_SVG\"></script><script type=\"text/javascript\">if (window.MathJax && window.MathJax.Hub && window.MathJax.Hub.Config) {window.MathJax.Hub.Config({SVG: {font: \"STIX-Web\"}});}</script>                <script type=\"text/javascript\">window.PlotlyConfig = {MathJaxConfig: 'local'};</script>\n",
       "        <script charset=\"utf-8\" src=\"https://cdn.plot.ly/plotly-3.0.0.min.js\"></script>                <div id=\"3906a7c8-603d-41d4-89e7-a54d87bdc1f7\" class=\"plotly-graph-div\" style=\"height:400px; width:1200px;\"></div>            <script type=\"text/javascript\">                window.PLOTLYENV=window.PLOTLYENV || {};                                if (document.getElementById(\"3906a7c8-603d-41d4-89e7-a54d87bdc1f7\")) {                    Plotly.newPlot(                        \"3906a7c8-603d-41d4-89e7-a54d87bdc1f7\",                        [{\"legend\":\"legend\",\"marker\":{\"color\":\"gray\",\"line\":{\"color\":\"black\",\"width\":1},\"size\":9,\"symbol\":\"circle\"},\"mode\":\"markers\",\"name\":\"stomach\",\"showlegend\":true,\"x\":[null],\"y\":[null],\"type\":\"scatter\",\"xaxis\":\"x\",\"yaxis\":\"y\"},{\"legend\":\"legend\",\"marker\":{\"color\":\"gray\",\"line\":{\"color\":\"black\",\"width\":1},\"size\":9,\"symbol\":\"square\"},\"mode\":\"markers\",\"name\":\"small_bowel\",\"showlegend\":true,\"x\":[null],\"y\":[null],\"type\":\"scatter\",\"xaxis\":\"x\",\"yaxis\":\"y\"},{\"legend\":\"legend\",\"marker\":{\"color\":\"gray\",\"line\":{\"color\":\"black\",\"width\":1},\"size\":9,\"symbol\":\"diamond\"},\"mode\":\"markers\",\"name\":\"colon\",\"showlegend\":true,\"x\":[null],\"y\":[null],\"type\":\"scatter\",\"xaxis\":\"x\",\"yaxis\":\"y\"},{\"legend\":\"legend\",\"marker\":{\"color\":\"gray\",\"line\":{\"color\":\"black\",\"width\":1},\"size\":9,\"symbol\":\"cross\"},\"mode\":\"markers\",\"name\":\"liver\",\"showlegend\":true,\"x\":[null],\"y\":[null],\"type\":\"scatter\",\"xaxis\":\"x\",\"yaxis\":\"y\"},{\"legend\":\"legend\",\"marker\":{\"color\":\"gray\",\"line\":{\"color\":\"black\",\"width\":1},\"size\":9,\"symbol\":\"x\"},\"mode\":\"markers\",\"name\":\"pancreas\",\"showlegend\":true,\"x\":[null],\"y\":[null],\"type\":\"scatter\",\"xaxis\":\"x\",\"yaxis\":\"y\"},{\"legend\":\"legend\",\"marker\":{\"color\":\"gray\",\"line\":{\"color\":\"black\",\"width\":1},\"size\":9,\"symbol\":\"triangle-up\"},\"mode\":\"markers\",\"name\":\"kidney\",\"showlegend\":true,\"x\":[null],\"y\":[null],\"type\":\"scatter\",\"xaxis\":\"x\",\"yaxis\":\"y\"},{\"legend\":\"legend\",\"marker\":{\"color\":\"gray\",\"line\":{\"color\":\"black\",\"width\":1},\"size\":9,\"symbol\":\"triangle-down\"},\"mode\":\"markers\",\"name\":\"spleen\",\"showlegend\":true,\"x\":[null],\"y\":[null],\"type\":\"scatter\",\"xaxis\":\"x\",\"yaxis\":\"y\"},{\"legend\":\"legend\",\"marker\":{\"color\":\"gray\",\"line\":{\"color\":\"black\",\"width\":1},\"size\":9,\"symbol\":\"triangle-left\"},\"mode\":\"markers\",\"name\":\"omentum\",\"showlegend\":true,\"x\":[null],\"y\":[null],\"type\":\"scatter\",\"xaxis\":\"x\",\"yaxis\":\"y\"},{\"legend\":\"legend\",\"marker\":{\"color\":\"gray\",\"line\":{\"color\":\"black\",\"width\":1},\"size\":9,\"symbol\":\"triangle-right\"},\"mode\":\"markers\",\"name\":\"lung\",\"showlegend\":true,\"x\":[null],\"y\":[null],\"type\":\"scatter\",\"xaxis\":\"x\",\"yaxis\":\"y\"},{\"legend\":\"legend\",\"marker\":{\"color\":\"gray\",\"line\":{\"color\":\"black\",\"width\":1},\"size\":9,\"symbol\":\"star\"},\"mode\":\"markers\",\"name\":\"skin\",\"showlegend\":true,\"x\":[null],\"y\":[null],\"type\":\"scatter\",\"xaxis\":\"x\",\"yaxis\":\"y\"},{\"legend\":\"legend\",\"marker\":{\"color\":\"gray\",\"line\":{\"color\":\"black\",\"width\":1},\"size\":9,\"symbol\":\"diamond-wide\"},\"mode\":\"markers\",\"name\":\"peritoneum\",\"showlegend\":true,\"x\":[null],\"y\":[null],\"type\":\"scatter\",\"xaxis\":\"x\",\"yaxis\":\"y\"},{\"legend\":\"legend\",\"marker\":{\"color\":\"gray\",\"line\":{\"color\":\"black\",\"width\":1},\"size\":9,\"symbol\":\"diamond-tall\"},\"mode\":\"markers\",\"name\":\"background\",\"showlegend\":true,\"x\":[null],\"y\":[null],\"type\":\"scatter\",\"xaxis\":\"x\",\"yaxis\":\"y\"},{\"legend\":\"legend\",\"legendgroup\":\"pig2pig\",\"marker\":{\"color\":\"#44AA99\",\"line\":{\"color\":\"black\",\"width\":1},\"size\":9,\"symbol\":\"triangle-right\"},\"mode\":\"markers\",\"name\":\"lung\",\"showlegend\":false,\"x\":[0.0],\"y\":[0.9430658096850137],\"type\":\"scatter\",\"xaxis\":\"x\",\"yaxis\":\"y\"},{\"legend\":\"legend\",\"legendgroup\":\"pig2pig\",\"marker\":{\"color\":\"#44AA99\",\"line\":{\"color\":\"black\",\"width\":1},\"size\":9,\"symbol\":\"diamond-tall\"},\"mode\":\"markers\",\"name\":\"background\",\"showlegend\":false,\"x\":[0.09333333333333334],\"y\":[0.9366071074331167],\"type\":\"scatter\",\"xaxis\":\"x\",\"yaxis\":\"y\"},{\"legend\":\"legend\",\"legendgroup\":\"pig2pig\",\"marker\":{\"color\":\"#44AA99\",\"line\":{\"color\":\"black\",\"width\":1},\"size\":9,\"symbol\":\"diamond\"},\"mode\":\"markers\",\"name\":\"colon\",\"showlegend\":false,\"x\":[0.18666666666666668],\"y\":[0.9279783770693903],\"type\":\"scatter\",\"xaxis\":\"x\",\"yaxis\":\"y\"},{\"legend\":\"legend\",\"legendgroup\":\"pig2pig\",\"marker\":{\"color\":\"#44AA99\",\"line\":{\"color\":\"black\",\"width\":1},\"size\":9,\"symbol\":\"star\"},\"mode\":\"markers\",\"name\":\"skin\",\"showlegend\":false,\"x\":[0.28],\"y\":[0.9262346091417966],\"type\":\"scatter\",\"xaxis\":\"x\",\"yaxis\":\"y\"},{\"legend\":\"legend\",\"legendgroup\":\"pig2pig\",\"marker\":{\"color\":\"#44AA99\",\"line\":{\"color\":\"black\",\"width\":1},\"size\":9,\"symbol\":\"diamond-wide\"},\"mode\":\"markers\",\"name\":\"peritoneum\",\"showlegend\":false,\"x\":[0.0],\"y\":[0.8994584556853875],\"type\":\"scatter\",\"xaxis\":\"x\",\"yaxis\":\"y\"},{\"legend\":\"legend\",\"legendgroup\":\"pig2pig\",\"marker\":{\"color\":\"#44AA99\",\"line\":{\"color\":\"black\",\"width\":1},\"size\":9,\"symbol\":\"x\"},\"mode\":\"markers\",\"name\":\"pancreas\",\"showlegend\":false,\"x\":[0.09333333333333334],\"y\":[0.8316303162726145],\"type\":\"scatter\",\"xaxis\":\"x\",\"yaxis\":\"y\"},{\"legend\":\"legend\",\"legendgroup\":\"pig2pig\",\"marker\":{\"color\":\"#44AA99\",\"line\":{\"color\":\"black\",\"width\":1},\"size\":9,\"symbol\":\"circle\"},\"mode\":\"markers\",\"name\":\"stomach\",\"showlegend\":false,\"x\":[0.18666666666666668],\"y\":[0.8150328851120145],\"type\":\"scatter\",\"xaxis\":\"x\",\"yaxis\":\"y\"},{\"legend\":\"legend\",\"legendgroup\":\"pig2pig\",\"marker\":{\"color\":\"#44AA99\",\"line\":{\"color\":\"black\",\"width\":1},\"size\":9,\"symbol\":\"square\"},\"mode\":\"markers\",\"name\":\"small_bowel\",\"showlegend\":false,\"x\":[0.28],\"y\":[0.8024394884563739],\"type\":\"scatter\",\"xaxis\":\"x\",\"yaxis\":\"y\"},{\"legend\":\"legend\",\"legendgroup\":\"pig2pig\",\"marker\":{\"color\":\"#44AA99\",\"line\":{\"color\":\"black\",\"width\":1},\"size\":9,\"symbol\":\"triangle-down\"},\"mode\":\"markers\",\"name\":\"spleen\",\"showlegend\":false,\"x\":[0.0],\"y\":[0.7564296981534051],\"type\":\"scatter\",\"xaxis\":\"x\",\"yaxis\":\"y\"},{\"legend\":\"legend\",\"legendgroup\":\"pig2pig\",\"marker\":{\"color\":\"#44AA99\",\"line\":{\"color\":\"black\",\"width\":1},\"size\":9,\"symbol\":\"triangle-left\"},\"mode\":\"markers\",\"name\":\"omentum\",\"showlegend\":false,\"x\":[0.09333333333333334],\"y\":[0.7178240780572218],\"type\":\"scatter\",\"xaxis\":\"x\",\"yaxis\":\"y\"},{\"legend\":\"legend\",\"legendgroup\":\"pig2pig\",\"marker\":{\"color\":\"#44AA99\",\"line\":{\"color\":\"black\",\"width\":1},\"size\":9,\"symbol\":\"cross\"},\"mode\":\"markers\",\"name\":\"liver\",\"showlegend\":false,\"x\":[0.18666666666666668],\"y\":[0.6923322917157431],\"type\":\"scatter\",\"xaxis\":\"x\",\"yaxis\":\"y\"},{\"legend\":\"legend\",\"legendgroup\":\"pig2pig\",\"marker\":{\"color\":\"#44AA99\",\"line\":{\"color\":\"black\",\"width\":1},\"size\":9,\"symbol\":\"triangle-up\"},\"mode\":\"markers\",\"name\":\"kidney\",\"showlegend\":false,\"x\":[0.28],\"y\":[0.6741464408394557],\"type\":\"scatter\",\"xaxis\":\"x\",\"yaxis\":\"y\"},{\"boxmean\":true,\"boxpoints\":false,\"legend\":\"legend2\",\"legendgroup\":\"pig2pig\",\"line\":{\"color\":\"#44AA99\"},\"name\":\"pig2pig\",\"showlegend\":true,\"x\":[0.6,0.6,0.6,0.6,0.6,0.6,0.6,0.6,0.6,0.6,0.6,0.6],\"y\":{\"dtype\":\"f8\",\"bdata\":\"JlVSWZgt7j9tC\\u002fR3r\\u002fjtP+APnbX\\u002fse0\\u002f2P5Vw7aj7T\\u002fi8GgZXcjsP7UYWC63nOo\\u002fYg9X2L8U6j8SDf6Tla3pP0hY6Q2sNOg\\u002fFDBxM2r45j98SNwMlifmPy7Zg46bkuU\\u002f\"},\"type\":\"box\",\"xaxis\":\"x\",\"yaxis\":\"y\"},{\"legendgroup\":\"pig2pig\",\"line\":{\"color\":\"#44AA99\",\"dash\":\"dot\"},\"mode\":\"lines\",\"name\":\"pig2pig\",\"showlegend\":false,\"text\":\"95\\u202f% CI mean: [0.81;0.84]\",\"x\":[0.5,0.5],\"y\":[0.8103182102834084,0.8436773136043014],\"type\":\"scatter\",\"xaxis\":\"x\",\"yaxis\":\"y\"},{\"legendgroup\":\"pig2pig\",\"line\":{\"color\":\"#44AA99\"},\"marker\":{\"size\":10,\"symbol\":\"triangle-down-open\"},\"mode\":\"markers\",\"name\":\"pig2pig\",\"showlegend\":false,\"text\":\"95\\u202f% CI mean: [0.81;0.84]\",\"x\":[0.5],\"y\":[0.8103182102834084],\"type\":\"scatter\",\"xaxis\":\"x\",\"yaxis\":\"y\"},{\"legendgroup\":\"pig2pig\",\"line\":{\"color\":\"#44AA99\"},\"marker\":{\"size\":10,\"symbol\":\"triangle-up-open\"},\"mode\":\"markers\",\"name\":\"pig2pig\",\"showlegend\":false,\"text\":\"95\\u202f% CI mean: [0.81;0.84]\",\"x\":[0.5],\"y\":[0.8436773136043014],\"type\":\"scatter\",\"xaxis\":\"x\",\"yaxis\":\"y\"},{\"legendgroup\":\"pig2pig\",\"line\":{\"color\":\"#44AA99\",\"dash\":\"solid\"},\"mode\":\"lines\",\"name\":\"pig2pig\",\"showlegend\":false,\"text\":\"95\\u202f% CI median: [0.79;0.87]\",\"x\":[0.7,0.7],\"y\":[0.7943127901163654,0.8746637981702055],\"type\":\"scatter\",\"xaxis\":\"x\",\"yaxis\":\"y\"},{\"legendgroup\":\"pig2pig\",\"line\":{\"color\":\"#44AA99\"},\"marker\":{\"size\":10,\"symbol\":\"triangle-down\"},\"mode\":\"markers\",\"name\":\"pig2pig\",\"showlegend\":false,\"text\":\"95\\u202f% CI median: [0.79;0.87]\",\"x\":[0.7],\"y\":[0.7943127901163654],\"type\":\"scatter\",\"xaxis\":\"x\",\"yaxis\":\"y\"},{\"legendgroup\":\"pig2pig\",\"line\":{\"color\":\"#44AA99\"},\"marker\":{\"size\":10,\"symbol\":\"triangle-up\"},\"mode\":\"markers\",\"name\":\"pig2pig\",\"showlegend\":false,\"text\":\"95\\u202f% CI median: [0.79;0.87]\",\"x\":[0.7],\"y\":[0.8746637981702055],\"type\":\"scatter\",\"xaxis\":\"x\",\"yaxis\":\"y\"},{\"legend\":\"legend\",\"legendgroup\":\"pig2rat\",\"marker\":{\"color\":\"#89CCED\",\"line\":{\"color\":\"black\",\"width\":1},\"size\":9,\"symbol\":\"triangle-right\"},\"mode\":\"markers\",\"name\":\"lung\",\"showlegend\":false,\"x\":[1.0],\"y\":[0.972796855828701],\"type\":\"scatter\",\"xaxis\":\"x\",\"yaxis\":\"y\"},{\"legend\":\"legend\",\"legendgroup\":\"pig2rat\",\"marker\":{\"color\":\"#89CCED\",\"line\":{\"color\":\"black\",\"width\":1},\"size\":9,\"symbol\":\"diamond-tall\"},\"mode\":\"markers\",\"name\":\"background\",\"showlegend\":false,\"x\":[1.0933333333333333],\"y\":[0.6729294237503317],\"type\":\"scatter\",\"xaxis\":\"x\",\"yaxis\":\"y\"},{\"legend\":\"legend\",\"legendgroup\":\"pig2rat\",\"marker\":{\"color\":\"#89CCED\",\"line\":{\"color\":\"black\",\"width\":1},\"size\":9,\"symbol\":\"diamond-wide\"},\"mode\":\"markers\",\"name\":\"peritoneum\",\"showlegend\":false,\"x\":[1.1866666666666668],\"y\":[0.6553714626452994],\"type\":\"scatter\",\"xaxis\":\"x\",\"yaxis\":\"y\"},{\"legend\":\"legend\",\"legendgroup\":\"pig2rat\",\"marker\":{\"color\":\"#89CCED\",\"line\":{\"color\":\"black\",\"width\":1},\"size\":9,\"symbol\":\"star\"},\"mode\":\"markers\",\"name\":\"skin\",\"showlegend\":false,\"x\":[1.28],\"y\":[0.504387272285154],\"type\":\"scatter\",\"xaxis\":\"x\",\"yaxis\":\"y\"},{\"legend\":\"legend\",\"legendgroup\":\"pig2rat\",\"marker\":{\"color\":\"#89CCED\",\"line\":{\"color\":\"black\",\"width\":1},\"size\":9,\"symbol\":\"triangle-up\"},\"mode\":\"markers\",\"name\":\"kidney\",\"showlegend\":false,\"x\":[1.0],\"y\":[0.4772064616610279],\"type\":\"scatter\",\"xaxis\":\"x\",\"yaxis\":\"y\"},{\"legend\":\"legend\",\"legendgroup\":\"pig2rat\",\"marker\":{\"color\":\"#89CCED\",\"line\":{\"color\":\"black\",\"width\":1},\"size\":9,\"symbol\":\"cross\"},\"mode\":\"markers\",\"name\":\"liver\",\"showlegend\":false,\"x\":[1.0933333333333333],\"y\":[0.4633913574951928],\"type\":\"scatter\",\"xaxis\":\"x\",\"yaxis\":\"y\"},{\"legend\":\"legend\",\"legendgroup\":\"pig2rat\",\"marker\":{\"color\":\"#89CCED\",\"line\":{\"color\":\"black\",\"width\":1},\"size\":9,\"symbol\":\"diamond\"},\"mode\":\"markers\",\"name\":\"colon\",\"showlegend\":false,\"x\":[1.1866666666666668],\"y\":[0.3387362272341058],\"type\":\"scatter\",\"xaxis\":\"x\",\"yaxis\":\"y\"},{\"legend\":\"legend\",\"legendgroup\":\"pig2rat\",\"marker\":{\"color\":\"#89CCED\",\"line\":{\"color\":\"black\",\"width\":1},\"size\":9,\"symbol\":\"x\"},\"mode\":\"markers\",\"name\":\"pancreas\",\"showlegend\":false,\"x\":[1.28],\"y\":[0.3077921640960288],\"type\":\"scatter\",\"xaxis\":\"x\",\"yaxis\":\"y\"},{\"legend\":\"legend\",\"legendgroup\":\"pig2rat\",\"marker\":{\"color\":\"#89CCED\",\"line\":{\"color\":\"black\",\"width\":1},\"size\":9,\"symbol\":\"triangle-left\"},\"mode\":\"markers\",\"name\":\"omentum\",\"showlegend\":false,\"x\":[1.0],\"y\":[0.29348918949851455],\"type\":\"scatter\",\"xaxis\":\"x\",\"yaxis\":\"y\"},{\"legend\":\"legend\",\"legendgroup\":\"pig2rat\",\"marker\":{\"color\":\"#89CCED\",\"line\":{\"color\":\"black\",\"width\":1},\"size\":9,\"symbol\":\"square\"},\"mode\":\"markers\",\"name\":\"small_bowel\",\"showlegend\":false,\"x\":[1.0933333333333333],\"y\":[0.17623156461411568],\"type\":\"scatter\",\"xaxis\":\"x\",\"yaxis\":\"y\"},{\"legend\":\"legend\",\"legendgroup\":\"pig2rat\",\"marker\":{\"color\":\"#89CCED\",\"line\":{\"color\":\"black\",\"width\":1},\"size\":9,\"symbol\":\"circle\"},\"mode\":\"markers\",\"name\":\"stomach\",\"showlegend\":false,\"x\":[1.1866666666666668],\"y\":[0.15913550281632147],\"type\":\"scatter\",\"xaxis\":\"x\",\"yaxis\":\"y\"},{\"legend\":\"legend\",\"legendgroup\":\"pig2rat\",\"marker\":{\"color\":\"#89CCED\",\"line\":{\"color\":\"black\",\"width\":1},\"size\":9,\"symbol\":\"triangle-down\"},\"mode\":\"markers\",\"name\":\"spleen\",\"showlegend\":false,\"x\":[1.28],\"y\":[0.0734660005602558],\"type\":\"scatter\",\"xaxis\":\"x\",\"yaxis\":\"y\"},{\"boxmean\":true,\"boxpoints\":false,\"legend\":\"legend2\",\"legendgroup\":\"pig2rat\",\"line\":{\"color\":\"#89CCED\"},\"name\":\"pig2rat\",\"showlegend\":true,\"x\":[1.6,1.6,1.6,1.6,1.6,1.6,1.6,1.6,1.6,1.6,1.6,1.6],\"y\":{\"dtype\":\"f8\",\"bdata\":\"4PIt3yYh7z\\u002f5wnBJo4jlP0di2ZLN+OQ\\u002f4XffxvAj4D8ZiZH4jIreP6o3bDk0qN0\\u002f2jd8ttqt1T8He7Dn3bLTP+wKqOGGyNI\\u002fVzBFg8GOxj9PQx1ajV7EPwszxvWqzrI\\u002f\"},\"type\":\"box\",\"xaxis\":\"x\",\"yaxis\":\"y\"},{\"legendgroup\":\"pig2rat\",\"line\":{\"color\":\"#89CCED\",\"dash\":\"dot\"},\"mode\":\"lines\",\"name\":\"pig2rat\",\"showlegend\":false,\"text\":\"95\\u202f% CI mean: [0.41;0.44]\",\"x\":[1.5,1.5],\"y\":[0.4111253444687758,0.44012459297985745],\"type\":\"scatter\",\"xaxis\":\"x\",\"yaxis\":\"y\"},{\"legendgroup\":\"pig2rat\",\"line\":{\"color\":\"#89CCED\"},\"marker\":{\"size\":10,\"symbol\":\"triangle-down-open\"},\"mode\":\"markers\",\"name\":\"pig2rat\",\"showlegend\":false,\"text\":\"95\\u202f% CI mean: [0.41;0.44]\",\"x\":[1.5],\"y\":[0.4111253444687758],\"type\":\"scatter\",\"xaxis\":\"x\",\"yaxis\":\"y\"},{\"legendgroup\":\"pig2rat\",\"line\":{\"color\":\"#89CCED\"},\"marker\":{\"size\":10,\"symbol\":\"triangle-up-open\"},\"mode\":\"markers\",\"name\":\"pig2rat\",\"showlegend\":false,\"text\":\"95\\u202f% CI mean: [0.41;0.44]\",\"x\":[1.5],\"y\":[0.44012459297985745],\"type\":\"scatter\",\"xaxis\":\"x\",\"yaxis\":\"y\"},{\"legendgroup\":\"pig2rat\",\"line\":{\"color\":\"#89CCED\",\"dash\":\"solid\"},\"mode\":\"lines\",\"name\":\"pig2rat\",\"showlegend\":false,\"text\":\"95\\u202f% CI median: [0.36;0.42]\",\"x\":[1.7,1.7],\"y\":[0.3646335697448529,0.42241414104440933],\"type\":\"scatter\",\"xaxis\":\"x\",\"yaxis\":\"y\"},{\"legendgroup\":\"pig2rat\",\"line\":{\"color\":\"#89CCED\"},\"marker\":{\"size\":10,\"symbol\":\"triangle-down\"},\"mode\":\"markers\",\"name\":\"pig2rat\",\"showlegend\":false,\"text\":\"95\\u202f% CI median: [0.36;0.42]\",\"x\":[1.7],\"y\":[0.3646335697448529],\"type\":\"scatter\",\"xaxis\":\"x\",\"yaxis\":\"y\"},{\"legendgroup\":\"pig2rat\",\"line\":{\"color\":\"#89CCED\"},\"marker\":{\"size\":10,\"symbol\":\"triangle-up\"},\"mode\":\"markers\",\"name\":\"pig2rat\",\"showlegend\":false,\"text\":\"95\\u202f% CI median: [0.36;0.42]\",\"x\":[1.7],\"y\":[0.42241414104440933],\"type\":\"scatter\",\"xaxis\":\"x\",\"yaxis\":\"y\"},{\"legend\":\"legend\",\"legendgroup\":\"pig2human\",\"marker\":{\"color\":\"#DDCB76\",\"line\":{\"color\":\"black\",\"width\":1},\"size\":9,\"symbol\":\"star\"},\"mode\":\"markers\",\"name\":\"skin\",\"showlegend\":false,\"x\":[2.0],\"y\":[0.7921779262010382],\"type\":\"scatter\",\"xaxis\":\"x\",\"yaxis\":\"y\"},{\"legend\":\"legend\",\"legendgroup\":\"pig2human\",\"marker\":{\"color\":\"#DDCB76\",\"line\":{\"color\":\"black\",\"width\":1},\"size\":9,\"symbol\":\"diamond-tall\"},\"mode\":\"markers\",\"name\":\"background\",\"showlegend\":false,\"x\":[2.0933333333333333],\"y\":[0.6939954066228564],\"type\":\"scatter\",\"xaxis\":\"x\",\"yaxis\":\"y\"},{\"legend\":\"legend\",\"legendgroup\":\"pig2human\",\"marker\":{\"color\":\"#DDCB76\",\"line\":{\"color\":\"black\",\"width\":1},\"size\":9,\"symbol\":\"triangle-right\"},\"mode\":\"markers\",\"name\":\"lung\",\"showlegend\":false,\"x\":[2.1866666666666665],\"y\":[0.43733280585871803],\"type\":\"scatter\",\"xaxis\":\"x\",\"yaxis\":\"y\"},{\"legend\":\"legend\",\"legendgroup\":\"pig2human\",\"marker\":{\"color\":\"#DDCB76\",\"line\":{\"color\":\"black\",\"width\":1},\"size\":9,\"symbol\":\"triangle-left\"},\"mode\":\"markers\",\"name\":\"omentum\",\"showlegend\":false,\"x\":[2.2800000000000002],\"y\":[0.4288244712058867],\"type\":\"scatter\",\"xaxis\":\"x\",\"yaxis\":\"y\"},{\"legend\":\"legend\",\"legendgroup\":\"pig2human\",\"marker\":{\"color\":\"#DDCB76\",\"line\":{\"color\":\"black\",\"width\":1},\"size\":9,\"symbol\":\"diamond-wide\"},\"mode\":\"markers\",\"name\":\"peritoneum\",\"showlegend\":false,\"x\":[2.0],\"y\":[0.35112341509020634],\"type\":\"scatter\",\"xaxis\":\"x\",\"yaxis\":\"y\"},{\"legend\":\"legend\",\"legendgroup\":\"pig2human\",\"marker\":{\"color\":\"#DDCB76\",\"line\":{\"color\":\"black\",\"width\":1},\"size\":9,\"symbol\":\"circle\"},\"mode\":\"markers\",\"name\":\"stomach\",\"showlegend\":false,\"x\":[2.0933333333333333],\"y\":[0.3409651696429764],\"type\":\"scatter\",\"xaxis\":\"x\",\"yaxis\":\"y\"},{\"legend\":\"legend\",\"legendgroup\":\"pig2human\",\"marker\":{\"color\":\"#DDCB76\",\"line\":{\"color\":\"black\",\"width\":1},\"size\":9,\"symbol\":\"diamond\"},\"mode\":\"markers\",\"name\":\"colon\",\"showlegend\":false,\"x\":[2.1866666666666665],\"y\":[0.20916945231788495],\"type\":\"scatter\",\"xaxis\":\"x\",\"yaxis\":\"y\"},{\"legend\":\"legend\",\"legendgroup\":\"pig2human\",\"marker\":{\"color\":\"#DDCB76\",\"line\":{\"color\":\"black\",\"width\":1},\"size\":9,\"symbol\":\"square\"},\"mode\":\"markers\",\"name\":\"small_bowel\",\"showlegend\":false,\"x\":[2.2800000000000002],\"y\":[0.17574922829124145],\"type\":\"scatter\",\"xaxis\":\"x\",\"yaxis\":\"y\"},{\"legend\":\"legend\",\"legendgroup\":\"pig2human\",\"marker\":{\"color\":\"#DDCB76\",\"line\":{\"color\":\"black\",\"width\":1},\"size\":9,\"symbol\":\"triangle-down\"},\"mode\":\"markers\",\"name\":\"spleen\",\"showlegend\":false,\"x\":[2.0],\"y\":[0.17319166337450348],\"type\":\"scatter\",\"xaxis\":\"x\",\"yaxis\":\"y\"},{\"legend\":\"legend\",\"legendgroup\":\"pig2human\",\"marker\":{\"color\":\"#DDCB76\",\"line\":{\"color\":\"black\",\"width\":1},\"size\":9,\"symbol\":\"triangle-up\"},\"mode\":\"markers\",\"name\":\"kidney\",\"showlegend\":false,\"x\":[2.0933333333333333],\"y\":[0.12329732543406846],\"type\":\"scatter\",\"xaxis\":\"x\",\"yaxis\":\"y\"},{\"legend\":\"legend\",\"legendgroup\":\"pig2human\",\"marker\":{\"color\":\"#DDCB76\",\"line\":{\"color\":\"black\",\"width\":1},\"size\":9,\"symbol\":\"cross\"},\"mode\":\"markers\",\"name\":\"liver\",\"showlegend\":false,\"x\":[2.1866666666666665],\"y\":[0.08080747022224757],\"type\":\"scatter\",\"xaxis\":\"x\",\"yaxis\":\"y\"},{\"legend\":\"legend\",\"legendgroup\":\"pig2human\",\"marker\":{\"color\":\"#DDCB76\",\"line\":{\"color\":\"black\",\"width\":1},\"size\":9,\"symbol\":\"x\"},\"mode\":\"markers\",\"name\":\"pancreas\",\"showlegend\":false,\"x\":[2.2800000000000002],\"y\":[0.05721979744247789],\"type\":\"scatter\",\"xaxis\":\"x\",\"yaxis\":\"y\"},{\"boxmean\":true,\"boxpoints\":false,\"legend\":\"legend2\",\"legendgroup\":\"pig2human\",\"line\":{\"color\":\"#DDCB76\"},\"name\":\"pig2human\",\"showlegend\":true,\"x\":[2.6,2.6,2.6,2.6,2.6,2.6,2.6,2.6,2.6,2.6,2.6,2.6],\"y\":{\"dtype\":\"f8\",\"bdata\":\"oLC0hYVZ6T\\u002fYnuDaNTXmPyBkqLxC\\u002fds\\u002fFXHjMdxx2z91BitYznjWP2pELJNf0tU\\u002fq4aDihDGyj96cOdh837GPxIREfkkK8Y\\u002fmHBs3GmQvz8qhuBhzK+0P9b7Zc3pS60\\u002f\"},\"type\":\"box\",\"xaxis\":\"x\",\"yaxis\":\"y\"},{\"legendgroup\":\"pig2human\",\"line\":{\"color\":\"#DDCB76\",\"dash\":\"dot\"},\"mode\":\"lines\",\"name\":\"pig2human\",\"showlegend\":false,\"text\":\"95\\u202f% CI mean: [0.30;0.34]\",\"x\":[2.5,2.5],\"y\":[0.30487897273761383,0.3386906357877431],\"type\":\"scatter\",\"xaxis\":\"x\",\"yaxis\":\"y\"},{\"legendgroup\":\"pig2human\",\"line\":{\"color\":\"#DDCB76\"},\"marker\":{\"size\":10,\"symbol\":\"triangle-down-open\"},\"mode\":\"markers\",\"name\":\"pig2human\",\"showlegend\":false,\"text\":\"95\\u202f% CI mean: [0.30;0.34]\",\"x\":[2.5],\"y\":[0.30487897273761383],\"type\":\"scatter\",\"xaxis\":\"x\",\"yaxis\":\"y\"},{\"legendgroup\":\"pig2human\",\"line\":{\"color\":\"#DDCB76\"},\"marker\":{\"size\":10,\"symbol\":\"triangle-up-open\"},\"mode\":\"markers\",\"name\":\"pig2human\",\"showlegend\":false,\"text\":\"95\\u202f% CI mean: [0.30;0.34]\",\"x\":[2.5],\"y\":[0.3386906357877431],\"type\":\"scatter\",\"xaxis\":\"x\",\"yaxis\":\"y\"},{\"legendgroup\":\"pig2human\",\"line\":{\"color\":\"#DDCB76\",\"dash\":\"solid\"},\"mode\":\"lines\",\"name\":\"pig2human\",\"showlegend\":false,\"text\":\"95\\u202f% CI median: [0.24;0.31]\",\"x\":[2.7,2.7],\"y\":[0.24276986982315413,0.3117048867480636],\"type\":\"scatter\",\"xaxis\":\"x\",\"yaxis\":\"y\"},{\"legendgroup\":\"pig2human\",\"line\":{\"color\":\"#DDCB76\"},\"marker\":{\"size\":10,\"symbol\":\"triangle-down\"},\"mode\":\"markers\",\"name\":\"pig2human\",\"showlegend\":false,\"text\":\"95\\u202f% CI median: [0.24;0.31]\",\"x\":[2.7],\"y\":[0.24276986982315413],\"type\":\"scatter\",\"xaxis\":\"x\",\"yaxis\":\"y\"},{\"legendgroup\":\"pig2human\",\"line\":{\"color\":\"#DDCB76\"},\"marker\":{\"size\":10,\"symbol\":\"triangle-up\"},\"mode\":\"markers\",\"name\":\"pig2human\",\"showlegend\":false,\"text\":\"95\\u202f% CI median: [0.24;0.31]\",\"x\":[2.7],\"y\":[0.3117048867480636],\"type\":\"scatter\",\"xaxis\":\"x\",\"yaxis\":\"y\"},{\"legend\":\"legend\",\"marker\":{\"color\":\"gray\",\"line\":{\"color\":\"black\",\"width\":1},\"size\":9,\"symbol\":\"circle\"},\"mode\":\"markers\",\"name\":\"stomach\",\"showlegend\":false,\"x\":[null],\"y\":[null],\"type\":\"scatter\",\"xaxis\":\"x2\",\"yaxis\":\"y2\"},{\"legend\":\"legend\",\"marker\":{\"color\":\"gray\",\"line\":{\"color\":\"black\",\"width\":1},\"size\":9,\"symbol\":\"square\"},\"mode\":\"markers\",\"name\":\"small_bowel\",\"showlegend\":false,\"x\":[null],\"y\":[null],\"type\":\"scatter\",\"xaxis\":\"x2\",\"yaxis\":\"y2\"},{\"legend\":\"legend\",\"marker\":{\"color\":\"gray\",\"line\":{\"color\":\"black\",\"width\":1},\"size\":9,\"symbol\":\"diamond\"},\"mode\":\"markers\",\"name\":\"colon\",\"showlegend\":false,\"x\":[null],\"y\":[null],\"type\":\"scatter\",\"xaxis\":\"x2\",\"yaxis\":\"y2\"},{\"legend\":\"legend\",\"marker\":{\"color\":\"gray\",\"line\":{\"color\":\"black\",\"width\":1},\"size\":9,\"symbol\":\"cross\"},\"mode\":\"markers\",\"name\":\"liver\",\"showlegend\":false,\"x\":[null],\"y\":[null],\"type\":\"scatter\",\"xaxis\":\"x2\",\"yaxis\":\"y2\"},{\"legend\":\"legend\",\"marker\":{\"color\":\"gray\",\"line\":{\"color\":\"black\",\"width\":1},\"size\":9,\"symbol\":\"x\"},\"mode\":\"markers\",\"name\":\"pancreas\",\"showlegend\":false,\"x\":[null],\"y\":[null],\"type\":\"scatter\",\"xaxis\":\"x2\",\"yaxis\":\"y2\"},{\"legend\":\"legend\",\"marker\":{\"color\":\"gray\",\"line\":{\"color\":\"black\",\"width\":1},\"size\":9,\"symbol\":\"triangle-up\"},\"mode\":\"markers\",\"name\":\"kidney\",\"showlegend\":false,\"x\":[null],\"y\":[null],\"type\":\"scatter\",\"xaxis\":\"x2\",\"yaxis\":\"y2\"},{\"legend\":\"legend\",\"marker\":{\"color\":\"gray\",\"line\":{\"color\":\"black\",\"width\":1},\"size\":9,\"symbol\":\"triangle-down\"},\"mode\":\"markers\",\"name\":\"spleen\",\"showlegend\":false,\"x\":[null],\"y\":[null],\"type\":\"scatter\",\"xaxis\":\"x2\",\"yaxis\":\"y2\"},{\"legend\":\"legend\",\"marker\":{\"color\":\"gray\",\"line\":{\"color\":\"black\",\"width\":1},\"size\":9,\"symbol\":\"triangle-left\"},\"mode\":\"markers\",\"name\":\"omentum\",\"showlegend\":false,\"x\":[null],\"y\":[null],\"type\":\"scatter\",\"xaxis\":\"x2\",\"yaxis\":\"y2\"},{\"legend\":\"legend\",\"marker\":{\"color\":\"gray\",\"line\":{\"color\":\"black\",\"width\":1},\"size\":9,\"symbol\":\"triangle-right\"},\"mode\":\"markers\",\"name\":\"lung\",\"showlegend\":false,\"x\":[null],\"y\":[null],\"type\":\"scatter\",\"xaxis\":\"x2\",\"yaxis\":\"y2\"},{\"legend\":\"legend\",\"marker\":{\"color\":\"gray\",\"line\":{\"color\":\"black\",\"width\":1},\"size\":9,\"symbol\":\"star\"},\"mode\":\"markers\",\"name\":\"skin\",\"showlegend\":false,\"x\":[null],\"y\":[null],\"type\":\"scatter\",\"xaxis\":\"x2\",\"yaxis\":\"y2\"},{\"legend\":\"legend\",\"marker\":{\"color\":\"gray\",\"line\":{\"color\":\"black\",\"width\":1},\"size\":9,\"symbol\":\"diamond-wide\"},\"mode\":\"markers\",\"name\":\"peritoneum\",\"showlegend\":false,\"x\":[null],\"y\":[null],\"type\":\"scatter\",\"xaxis\":\"x2\",\"yaxis\":\"y2\"},{\"legend\":\"legend\",\"marker\":{\"color\":\"gray\",\"line\":{\"color\":\"black\",\"width\":1},\"size\":9,\"symbol\":\"diamond-tall\"},\"mode\":\"markers\",\"name\":\"background\",\"showlegend\":false,\"x\":[null],\"y\":[null],\"type\":\"scatter\",\"xaxis\":\"x2\",\"yaxis\":\"y2\"},{\"legend\":\"legend\",\"legendgroup\":\"rat2rat\",\"marker\":{\"color\":\"#89CCED\",\"line\":{\"color\":\"black\",\"width\":1},\"size\":9,\"symbol\":\"triangle-right\"},\"mode\":\"markers\",\"name\":\"lung\",\"showlegend\":false,\"x\":[0.0],\"y\":[0.990790911209889],\"type\":\"scatter\",\"xaxis\":\"x2\",\"yaxis\":\"y2\"},{\"legend\":\"legend\",\"legendgroup\":\"rat2rat\",\"marker\":{\"color\":\"#89CCED\",\"line\":{\"color\":\"black\",\"width\":1},\"size\":9,\"symbol\":\"diamond-wide\"},\"mode\":\"markers\",\"name\":\"peritoneum\",\"showlegend\":false,\"x\":[0.09333333333333334],\"y\":[0.9773919499805783],\"type\":\"scatter\",\"xaxis\":\"x2\",\"yaxis\":\"y2\"},{\"legend\":\"legend\",\"legendgroup\":\"rat2rat\",\"marker\":{\"color\":\"#89CCED\",\"line\":{\"color\":\"black\",\"width\":1},\"size\":9,\"symbol\":\"diamond-tall\"},\"mode\":\"markers\",\"name\":\"background\",\"showlegend\":false,\"x\":[0.18666666666666668],\"y\":[0.955068893705871],\"type\":\"scatter\",\"xaxis\":\"x2\",\"yaxis\":\"y2\"},{\"legend\":\"legend\",\"legendgroup\":\"rat2rat\",\"marker\":{\"color\":\"#89CCED\",\"line\":{\"color\":\"black\",\"width\":1},\"size\":9,\"symbol\":\"star\"},\"mode\":\"markers\",\"name\":\"skin\",\"showlegend\":false,\"x\":[0.28],\"y\":[0.9448714594994715],\"type\":\"scatter\",\"xaxis\":\"x2\",\"yaxis\":\"y2\"},{\"legend\":\"legend\",\"legendgroup\":\"rat2rat\",\"marker\":{\"color\":\"#89CCED\",\"line\":{\"color\":\"black\",\"width\":1},\"size\":9,\"symbol\":\"square\"},\"mode\":\"markers\",\"name\":\"small_bowel\",\"showlegend\":false,\"x\":[0.0],\"y\":[0.8799793883174314],\"type\":\"scatter\",\"xaxis\":\"x2\",\"yaxis\":\"y2\"},{\"legend\":\"legend\",\"legendgroup\":\"rat2rat\",\"marker\":{\"color\":\"#89CCED\",\"line\":{\"color\":\"black\",\"width\":1},\"size\":9,\"symbol\":\"triangle-up\"},\"mode\":\"markers\",\"name\":\"kidney\",\"showlegend\":false,\"x\":[0.09333333333333334],\"y\":[0.8469807771536021],\"type\":\"scatter\",\"xaxis\":\"x2\",\"yaxis\":\"y2\"},{\"legend\":\"legend\",\"legendgroup\":\"rat2rat\",\"marker\":{\"color\":\"#89CCED\",\"line\":{\"color\":\"black\",\"width\":1},\"size\":9,\"symbol\":\"triangle-left\"},\"mode\":\"markers\",\"name\":\"omentum\",\"showlegend\":false,\"x\":[0.18666666666666668],\"y\":[0.8337122830374942],\"type\":\"scatter\",\"xaxis\":\"x2\",\"yaxis\":\"y2\"},{\"legend\":\"legend\",\"legendgroup\":\"rat2rat\",\"marker\":{\"color\":\"#89CCED\",\"line\":{\"color\":\"black\",\"width\":1},\"size\":9,\"symbol\":\"circle\"},\"mode\":\"markers\",\"name\":\"stomach\",\"showlegend\":false,\"x\":[0.28],\"y\":[0.8272199817380853],\"type\":\"scatter\",\"xaxis\":\"x2\",\"yaxis\":\"y2\"},{\"legend\":\"legend\",\"legendgroup\":\"rat2rat\",\"marker\":{\"color\":\"#89CCED\",\"line\":{\"color\":\"black\",\"width\":1},\"size\":9,\"symbol\":\"triangle-down\"},\"mode\":\"markers\",\"name\":\"spleen\",\"showlegend\":false,\"x\":[0.0],\"y\":[0.7779118408988391],\"type\":\"scatter\",\"xaxis\":\"x2\",\"yaxis\":\"y2\"},{\"legend\":\"legend\",\"legendgroup\":\"rat2rat\",\"marker\":{\"color\":\"#89CCED\",\"line\":{\"color\":\"black\",\"width\":1},\"size\":9,\"symbol\":\"diamond\"},\"mode\":\"markers\",\"name\":\"colon\",\"showlegend\":false,\"x\":[0.09333333333333334],\"y\":[0.7675264151421873],\"type\":\"scatter\",\"xaxis\":\"x2\",\"yaxis\":\"y2\"},{\"legend\":\"legend\",\"legendgroup\":\"rat2rat\",\"marker\":{\"color\":\"#89CCED\",\"line\":{\"color\":\"black\",\"width\":1},\"size\":9,\"symbol\":\"cross\"},\"mode\":\"markers\",\"name\":\"liver\",\"showlegend\":false,\"x\":[0.18666666666666668],\"y\":[0.7408471650918634],\"type\":\"scatter\",\"xaxis\":\"x2\",\"yaxis\":\"y2\"},{\"legend\":\"legend\",\"legendgroup\":\"rat2rat\",\"marker\":{\"color\":\"#89CCED\",\"line\":{\"color\":\"black\",\"width\":1},\"size\":9,\"symbol\":\"x\"},\"mode\":\"markers\",\"name\":\"pancreas\",\"showlegend\":false,\"x\":[0.28],\"y\":[0.661946724579011],\"type\":\"scatter\",\"xaxis\":\"x2\",\"yaxis\":\"y2\"},{\"boxmean\":true,\"boxpoints\":false,\"legend\":\"legend2\",\"legendgroup\":\"rat2rat\",\"line\":{\"color\":\"#89CCED\"},\"name\":\"rat2rat\",\"showlegend\":false,\"x\":[0.6,0.6,0.6,0.6,0.6,0.6,0.6,0.6,0.6,0.6,0.6,0.6],\"y\":{\"dtype\":\"f8\",\"bdata\":\"pUEaJI+07z++SZF7y0bvP4GY\\u002fKPsj+4\\u002fKSsvEmM87j9KR7+IyijsP2\\u002fkRm53Gus\\u002f0Wy9YcWt6j+bNQUKlnjqPwmdel+n5Og\\u002fD0J7jpOP6D957CwdBbXnP4VbuOWqLuU\\u002f\"},\"type\":\"box\",\"xaxis\":\"x2\",\"yaxis\":\"y2\"},{\"legendgroup\":\"rat2rat\",\"line\":{\"color\":\"#89CCED\",\"dash\":\"dot\"},\"mode\":\"lines\",\"name\":\"rat2rat\",\"showlegend\":false,\"text\":\"95\\u202f% CI mean: [0.84;0.86]\",\"x\":[0.5,0.5],\"y\":[0.8389787460979109,0.861844732538129],\"type\":\"scatter\",\"xaxis\":\"x2\",\"yaxis\":\"y2\"},{\"legendgroup\":\"rat2rat\",\"line\":{\"color\":\"#89CCED\"},\"marker\":{\"size\":10,\"symbol\":\"triangle-down-open\"},\"mode\":\"markers\",\"name\":\"rat2rat\",\"showlegend\":false,\"text\":\"95\\u202f% CI mean: [0.84;0.86]\",\"x\":[0.5],\"y\":[0.8389787460979109],\"type\":\"scatter\",\"xaxis\":\"x2\",\"yaxis\":\"y2\"},{\"legendgroup\":\"rat2rat\",\"line\":{\"color\":\"#89CCED\"},\"marker\":{\"size\":10,\"symbol\":\"triangle-up-open\"},\"mode\":\"markers\",\"name\":\"rat2rat\",\"showlegend\":false,\"text\":\"95\\u202f% CI mean: [0.84;0.86]\",\"x\":[0.5],\"y\":[0.861844732538129],\"type\":\"scatter\",\"xaxis\":\"x2\",\"yaxis\":\"y2\"},{\"legendgroup\":\"rat2rat\",\"line\":{\"color\":\"#89CCED\",\"dash\":\"solid\"},\"mode\":\"lines\",\"name\":\"rat2rat\",\"showlegend\":false,\"text\":\"95\\u202f% CI median: [0.82;0.87]\",\"x\":[0.7,0.7],\"y\":[0.8235412893651606,0.8689228150721967],\"type\":\"scatter\",\"xaxis\":\"x2\",\"yaxis\":\"y2\"},{\"legendgroup\":\"rat2rat\",\"line\":{\"color\":\"#89CCED\"},\"marker\":{\"size\":10,\"symbol\":\"triangle-down\"},\"mode\":\"markers\",\"name\":\"rat2rat\",\"showlegend\":false,\"text\":\"95\\u202f% CI median: [0.82;0.87]\",\"x\":[0.7],\"y\":[0.8235412893651606],\"type\":\"scatter\",\"xaxis\":\"x2\",\"yaxis\":\"y2\"},{\"legendgroup\":\"rat2rat\",\"line\":{\"color\":\"#89CCED\"},\"marker\":{\"size\":10,\"symbol\":\"triangle-up\"},\"mode\":\"markers\",\"name\":\"rat2rat\",\"showlegend\":false,\"text\":\"95\\u202f% CI median: [0.82;0.87]\",\"x\":[0.7],\"y\":[0.8689228150721967],\"type\":\"scatter\",\"xaxis\":\"x2\",\"yaxis\":\"y2\"},{\"legend\":\"legend\",\"legendgroup\":\"rat2pig\",\"marker\":{\"color\":\"#44AA99\",\"line\":{\"color\":\"black\",\"width\":1},\"size\":9,\"symbol\":\"diamond-tall\"},\"mode\":\"markers\",\"name\":\"background\",\"showlegend\":false,\"x\":[1.0],\"y\":[0.5507139172140968],\"type\":\"scatter\",\"xaxis\":\"x2\",\"yaxis\":\"y2\"},{\"legend\":\"legend\",\"legendgroup\":\"rat2pig\",\"marker\":{\"color\":\"#44AA99\",\"line\":{\"color\":\"black\",\"width\":1},\"size\":9,\"symbol\":\"star\"},\"mode\":\"markers\",\"name\":\"skin\",\"showlegend\":false,\"x\":[1.0933333333333333],\"y\":[0.538026008170277],\"type\":\"scatter\",\"xaxis\":\"x2\",\"yaxis\":\"y2\"},{\"legend\":\"legend\",\"legendgroup\":\"rat2pig\",\"marker\":{\"color\":\"#44AA99\",\"line\":{\"color\":\"black\",\"width\":1},\"size\":9,\"symbol\":\"triangle-right\"},\"mode\":\"markers\",\"name\":\"lung\",\"showlegend\":false,\"x\":[1.1866666666666668],\"y\":[0.5112616197120794],\"type\":\"scatter\",\"xaxis\":\"x2\",\"yaxis\":\"y2\"},{\"legend\":\"legend\",\"legendgroup\":\"rat2pig\",\"marker\":{\"color\":\"#44AA99\",\"line\":{\"color\":\"black\",\"width\":1},\"size\":9,\"symbol\":\"cross\"},\"mode\":\"markers\",\"name\":\"liver\",\"showlegend\":false,\"x\":[1.28],\"y\":[0.502865356916647],\"type\":\"scatter\",\"xaxis\":\"x2\",\"yaxis\":\"y2\"},{\"legend\":\"legend\",\"legendgroup\":\"rat2pig\",\"marker\":{\"color\":\"#44AA99\",\"line\":{\"color\":\"black\",\"width\":1},\"size\":9,\"symbol\":\"x\"},\"mode\":\"markers\",\"name\":\"pancreas\",\"showlegend\":false,\"x\":[1.0],\"y\":[0.413713672974753],\"type\":\"scatter\",\"xaxis\":\"x2\",\"yaxis\":\"y2\"},{\"legend\":\"legend\",\"legendgroup\":\"rat2pig\",\"marker\":{\"color\":\"#44AA99\",\"line\":{\"color\":\"black\",\"width\":1},\"size\":9,\"symbol\":\"diamond-wide\"},\"mode\":\"markers\",\"name\":\"peritoneum\",\"showlegend\":false,\"x\":[1.0933333333333333],\"y\":[0.380462336692559],\"type\":\"scatter\",\"xaxis\":\"x2\",\"yaxis\":\"y2\"},{\"legend\":\"legend\",\"legendgroup\":\"rat2pig\",\"marker\":{\"color\":\"#44AA99\",\"line\":{\"color\":\"black\",\"width\":1},\"size\":9,\"symbol\":\"square\"},\"mode\":\"markers\",\"name\":\"small_bowel\",\"showlegend\":false,\"x\":[1.1866666666666668],\"y\":[0.3783157430144545],\"type\":\"scatter\",\"xaxis\":\"x2\",\"yaxis\":\"y2\"},{\"legend\":\"legend\",\"legendgroup\":\"rat2pig\",\"marker\":{\"color\":\"#44AA99\",\"line\":{\"color\":\"black\",\"width\":1},\"size\":9,\"symbol\":\"triangle-down\"},\"mode\":\"markers\",\"name\":\"spleen\",\"showlegend\":false,\"x\":[1.28],\"y\":[0.30364986811074146],\"type\":\"scatter\",\"xaxis\":\"x2\",\"yaxis\":\"y2\"},{\"legend\":\"legend\",\"legendgroup\":\"rat2pig\",\"marker\":{\"color\":\"#44AA99\",\"line\":{\"color\":\"black\",\"width\":1},\"size\":9,\"symbol\":\"triangle-left\"},\"mode\":\"markers\",\"name\":\"omentum\",\"showlegend\":false,\"x\":[1.0],\"y\":[0.24646368225717127],\"type\":\"scatter\",\"xaxis\":\"x2\",\"yaxis\":\"y2\"},{\"legend\":\"legend\",\"legendgroup\":\"rat2pig\",\"marker\":{\"color\":\"#44AA99\",\"line\":{\"color\":\"black\",\"width\":1},\"size\":9,\"symbol\":\"diamond\"},\"mode\":\"markers\",\"name\":\"colon\",\"showlegend\":false,\"x\":[1.0933333333333333],\"y\":[0.21429697199534684],\"type\":\"scatter\",\"xaxis\":\"x2\",\"yaxis\":\"y2\"},{\"legend\":\"legend\",\"legendgroup\":\"rat2pig\",\"marker\":{\"color\":\"#44AA99\",\"line\":{\"color\":\"black\",\"width\":1},\"size\":9,\"symbol\":\"circle\"},\"mode\":\"markers\",\"name\":\"stomach\",\"showlegend\":false,\"x\":[1.1866666666666668],\"y\":[0.02605615738073645],\"type\":\"scatter\",\"xaxis\":\"x2\",\"yaxis\":\"y2\"},{\"legend\":\"legend\",\"legendgroup\":\"rat2pig\",\"marker\":{\"color\":\"#44AA99\",\"line\":{\"color\":\"black\",\"width\":1},\"size\":9,\"symbol\":\"triangle-up\"},\"mode\":\"markers\",\"name\":\"kidney\",\"showlegend\":false,\"x\":[1.28],\"y\":[0.006518723864376155],\"type\":\"scatter\",\"xaxis\":\"x2\",\"yaxis\":\"y2\"},{\"boxmean\":true,\"boxpoints\":false,\"legend\":\"legend2\",\"legendgroup\":\"rat2pig\",\"line\":{\"color\":\"#44AA99\"},\"name\":\"rat2pig\",\"showlegend\":false,\"x\":[1.6,1.6,1.6,1.6,1.6,1.6,1.6,1.6,1.6,1.6,1.6,1.6],\"y\":{\"dtype\":\"f8\",\"bdata\":\"AV\\u002f8ynKf4T\\u002f+o69RgjfhP7qgC1RBXOA\\u002fnvLHFnkX4D8jatXpSHraP\\u002fQSXbN+Wdg\\u002fBsfzO1M22D8uGj7b\\u002f27TP+cfeTcfjM8\\u002fLQktSxVuyz\\u002frHz0fd66aP51H8pxgs3o\\u002f\"},\"type\":\"box\",\"xaxis\":\"x2\",\"yaxis\":\"y2\"},{\"legendgroup\":\"rat2pig\",\"line\":{\"color\":\"#44AA99\",\"dash\":\"dot\"},\"mode\":\"lines\",\"name\":\"rat2pig\",\"showlegend\":false,\"text\":\"95\\u202f% CI mean: [0.31;0.36]\",\"x\":[1.5,1.5],\"y\":[0.3129142966549301,0.36435605387329284],\"type\":\"scatter\",\"xaxis\":\"x2\",\"yaxis\":\"y2\"},{\"legendgroup\":\"rat2pig\",\"line\":{\"color\":\"#44AA99\"},\"marker\":{\"size\":10,\"symbol\":\"triangle-down-open\"},\"mode\":\"markers\",\"name\":\"rat2pig\",\"showlegend\":false,\"text\":\"95\\u202f% CI mean: [0.31;0.36]\",\"x\":[1.5],\"y\":[0.3129142966549301],\"type\":\"scatter\",\"xaxis\":\"x2\",\"yaxis\":\"y2\"},{\"legendgroup\":\"rat2pig\",\"line\":{\"color\":\"#44AA99\"},\"marker\":{\"size\":10,\"symbol\":\"triangle-up-open\"},\"mode\":\"markers\",\"name\":\"rat2pig\",\"showlegend\":false,\"text\":\"95\\u202f% CI mean: [0.31;0.36]\",\"x\":[1.5],\"y\":[0.36435605387329284],\"type\":\"scatter\",\"xaxis\":\"x2\",\"yaxis\":\"y2\"},{\"legendgroup\":\"rat2pig\",\"line\":{\"color\":\"#44AA99\",\"dash\":\"solid\"},\"mode\":\"lines\",\"name\":\"rat2pig\",\"showlegend\":false,\"text\":\"95\\u202f% CI median: [0.33;0.41]\",\"x\":[1.7,1.7],\"y\":[0.3279415155015186,0.4089291880379277],\"type\":\"scatter\",\"xaxis\":\"x2\",\"yaxis\":\"y2\"},{\"legendgroup\":\"rat2pig\",\"line\":{\"color\":\"#44AA99\"},\"marker\":{\"size\":10,\"symbol\":\"triangle-down\"},\"mode\":\"markers\",\"name\":\"rat2pig\",\"showlegend\":false,\"text\":\"95\\u202f% CI median: [0.33;0.41]\",\"x\":[1.7],\"y\":[0.3279415155015186],\"type\":\"scatter\",\"xaxis\":\"x2\",\"yaxis\":\"y2\"},{\"legendgroup\":\"rat2pig\",\"line\":{\"color\":\"#44AA99\"},\"marker\":{\"size\":10,\"symbol\":\"triangle-up\"},\"mode\":\"markers\",\"name\":\"rat2pig\",\"showlegend\":false,\"text\":\"95\\u202f% CI median: [0.33;0.41]\",\"x\":[1.7],\"y\":[0.4089291880379277],\"type\":\"scatter\",\"xaxis\":\"x2\",\"yaxis\":\"y2\"},{\"legend\":\"legend\",\"legendgroup\":\"rat2human\",\"marker\":{\"color\":\"#DDCB76\",\"line\":{\"color\":\"black\",\"width\":1},\"size\":9,\"symbol\":\"diamond-tall\"},\"mode\":\"markers\",\"name\":\"background\",\"showlegend\":false,\"x\":[2.0],\"y\":[0.5598698562796163],\"type\":\"scatter\",\"xaxis\":\"x2\",\"yaxis\":\"y2\"},{\"legend\":\"legend\",\"legendgroup\":\"rat2human\",\"marker\":{\"color\":\"#DDCB76\",\"line\":{\"color\":\"black\",\"width\":1},\"size\":9,\"symbol\":\"star\"},\"mode\":\"markers\",\"name\":\"skin\",\"showlegend\":false,\"x\":[2.0933333333333333],\"y\":[0.5513234446071601],\"type\":\"scatter\",\"xaxis\":\"x2\",\"yaxis\":\"y2\"},{\"legend\":\"legend\",\"legendgroup\":\"rat2human\",\"marker\":{\"color\":\"#DDCB76\",\"line\":{\"color\":\"black\",\"width\":1},\"size\":9,\"symbol\":\"triangle-left\"},\"mode\":\"markers\",\"name\":\"omentum\",\"showlegend\":false,\"x\":[2.1866666666666665],\"y\":[0.4219873335746453],\"type\":\"scatter\",\"xaxis\":\"x2\",\"yaxis\":\"y2\"},{\"legend\":\"legend\",\"legendgroup\":\"rat2human\",\"marker\":{\"color\":\"#DDCB76\",\"line\":{\"color\":\"black\",\"width\":1},\"size\":9,\"symbol\":\"triangle-down\"},\"mode\":\"markers\",\"name\":\"spleen\",\"showlegend\":false,\"x\":[2.2800000000000002],\"y\":[0.31394827098896105],\"type\":\"scatter\",\"xaxis\":\"x2\",\"yaxis\":\"y2\"},{\"legend\":\"legend\",\"legendgroup\":\"rat2human\",\"marker\":{\"color\":\"#DDCB76\",\"line\":{\"color\":\"black\",\"width\":1},\"size\":9,\"symbol\":\"square\"},\"mode\":\"markers\",\"name\":\"small_bowel\",\"showlegend\":false,\"x\":[2.0],\"y\":[0.28466060329362436],\"type\":\"scatter\",\"xaxis\":\"x2\",\"yaxis\":\"y2\"},{\"legend\":\"legend\",\"legendgroup\":\"rat2human\",\"marker\":{\"color\":\"#DDCB76\",\"line\":{\"color\":\"black\",\"width\":1},\"size\":9,\"symbol\":\"diamond-wide\"},\"mode\":\"markers\",\"name\":\"peritoneum\",\"showlegend\":false,\"x\":[2.0933333333333333],\"y\":[0.2432404446014726],\"type\":\"scatter\",\"xaxis\":\"x2\",\"yaxis\":\"y2\"},{\"legend\":\"legend\",\"legendgroup\":\"rat2human\",\"marker\":{\"color\":\"#DDCB76\",\"line\":{\"color\":\"black\",\"width\":1},\"size\":9,\"symbol\":\"cross\"},\"mode\":\"markers\",\"name\":\"liver\",\"showlegend\":false,\"x\":[2.1866666666666665],\"y\":[0.23594785145087055],\"type\":\"scatter\",\"xaxis\":\"x2\",\"yaxis\":\"y2\"},{\"legend\":\"legend\",\"legendgroup\":\"rat2human\",\"marker\":{\"color\":\"#DDCB76\",\"line\":{\"color\":\"black\",\"width\":1},\"size\":9,\"symbol\":\"triangle-right\"},\"mode\":\"markers\",\"name\":\"lung\",\"showlegend\":false,\"x\":[2.2800000000000002],\"y\":[0.2268538460145808],\"type\":\"scatter\",\"xaxis\":\"x2\",\"yaxis\":\"y2\"},{\"legend\":\"legend\",\"legendgroup\":\"rat2human\",\"marker\":{\"color\":\"#DDCB76\",\"line\":{\"color\":\"black\",\"width\":1},\"size\":9,\"symbol\":\"circle\"},\"mode\":\"markers\",\"name\":\"stomach\",\"showlegend\":false,\"x\":[2.0],\"y\":[0.02967387987391921],\"type\":\"scatter\",\"xaxis\":\"x2\",\"yaxis\":\"y2\"},{\"legend\":\"legend\",\"legendgroup\":\"rat2human\",\"marker\":{\"color\":\"#DDCB76\",\"line\":{\"color\":\"black\",\"width\":1},\"size\":9,\"symbol\":\"x\"},\"mode\":\"markers\",\"name\":\"pancreas\",\"showlegend\":false,\"x\":[2.0933333333333333],\"y\":[0.013159538517975434],\"type\":\"scatter\",\"xaxis\":\"x2\",\"yaxis\":\"y2\"},{\"legend\":\"legend\",\"legendgroup\":\"rat2human\",\"marker\":{\"color\":\"#DDCB76\",\"line\":{\"color\":\"black\",\"width\":1},\"size\":9,\"symbol\":\"diamond\"},\"mode\":\"markers\",\"name\":\"colon\",\"showlegend\":false,\"x\":[2.1866666666666665],\"y\":[0.0076498117901790275],\"type\":\"scatter\",\"xaxis\":\"x2\",\"yaxis\":\"y2\"},{\"legend\":\"legend\",\"legendgroup\":\"rat2human\",\"marker\":{\"color\":\"#DDCB76\",\"line\":{\"color\":\"black\",\"width\":1},\"size\":9,\"symbol\":\"triangle-up\"},\"mode\":\"markers\",\"name\":\"kidney\",\"showlegend\":false,\"x\":[2.2800000000000002],\"y\":[0.00032594523509033024],\"type\":\"scatter\",\"xaxis\":\"x2\",\"yaxis\":\"y2\"},{\"boxmean\":true,\"boxpoints\":false,\"legend\":\"legend2\",\"legendgroup\":\"rat2human\",\"line\":{\"color\":\"#DDCB76\"},\"name\":\"rat2human\",\"showlegend\":false,\"x\":[2.6,2.6,2.6,2.6,2.6,2.6,2.6,2.6,2.6,2.6,2.6,2.6],\"y\":{\"dtype\":\"f8\",\"bdata\":\"6pZXMHTq4T\\u002fhYoMQcaThP8fgQSnXAds\\u002fIiIifboX1D+NxGYb4TfSP45cUL2AIs8\\u002fjn\\u002fFCIozzj9wXs38iwnNP9toal7UYp4\\u002f7XCFXGPzij+ymFm3aFV\\u002fPwAAACB0XDU\\u002f\"},\"type\":\"box\",\"xaxis\":\"x2\",\"yaxis\":\"y2\"},{\"legendgroup\":\"rat2human\",\"line\":{\"color\":\"#DDCB76\",\"dash\":\"dot\"},\"mode\":\"lines\",\"name\":\"rat2human\",\"showlegend\":false,\"text\":\"95\\u202f% CI mean: [0.23;0.25]\",\"x\":[2.5,2.5],\"y\":[0.22844714901068355,0.25340672568085343],\"type\":\"scatter\",\"xaxis\":\"x2\",\"yaxis\":\"y2\"},{\"legendgroup\":\"rat2human\",\"line\":{\"color\":\"#DDCB76\"},\"marker\":{\"size\":10,\"symbol\":\"triangle-down-open\"},\"mode\":\"markers\",\"name\":\"rat2human\",\"showlegend\":false,\"text\":\"95\\u202f% CI mean: [0.23;0.25]\",\"x\":[2.5],\"y\":[0.22844714901068355],\"type\":\"scatter\",\"xaxis\":\"x2\",\"yaxis\":\"y2\"},{\"legendgroup\":\"rat2human\",\"line\":{\"color\":\"#DDCB76\"},\"marker\":{\"size\":10,\"symbol\":\"triangle-up-open\"},\"mode\":\"markers\",\"name\":\"rat2human\",\"showlegend\":false,\"text\":\"95\\u202f% CI mean: [0.23;0.25]\",\"x\":[2.5],\"y\":[0.25340672568085343],\"type\":\"scatter\",\"xaxis\":\"x2\",\"yaxis\":\"y2\"},{\"legendgroup\":\"rat2human\",\"line\":{\"color\":\"#DDCB76\",\"dash\":\"solid\"},\"mode\":\"lines\",\"name\":\"rat2human\",\"showlegend\":false,\"text\":\"95\\u202f% CI median: [0.21;0.27]\",\"x\":[2.7,2.7],\"y\":[0.21483213187473316,0.2727549205492907],\"type\":\"scatter\",\"xaxis\":\"x2\",\"yaxis\":\"y2\"},{\"legendgroup\":\"rat2human\",\"line\":{\"color\":\"#DDCB76\"},\"marker\":{\"size\":10,\"symbol\":\"triangle-down\"},\"mode\":\"markers\",\"name\":\"rat2human\",\"showlegend\":false,\"text\":\"95\\u202f% CI median: [0.21;0.27]\",\"x\":[2.7],\"y\":[0.21483213187473316],\"type\":\"scatter\",\"xaxis\":\"x2\",\"yaxis\":\"y2\"},{\"legendgroup\":\"rat2human\",\"line\":{\"color\":\"#DDCB76\"},\"marker\":{\"size\":10,\"symbol\":\"triangle-up\"},\"mode\":\"markers\",\"name\":\"rat2human\",\"showlegend\":false,\"text\":\"95\\u202f% CI median: [0.21;0.27]\",\"x\":[2.7],\"y\":[0.2727549205492907],\"type\":\"scatter\",\"xaxis\":\"x2\",\"yaxis\":\"y2\"},{\"legend\":\"legend\",\"marker\":{\"color\":\"gray\",\"line\":{\"color\":\"black\",\"width\":1},\"size\":9,\"symbol\":\"circle\"},\"mode\":\"markers\",\"name\":\"stomach\",\"showlegend\":false,\"x\":[null],\"y\":[null],\"type\":\"scatter\",\"xaxis\":\"x3\",\"yaxis\":\"y3\"},{\"legend\":\"legend\",\"marker\":{\"color\":\"gray\",\"line\":{\"color\":\"black\",\"width\":1},\"size\":9,\"symbol\":\"square\"},\"mode\":\"markers\",\"name\":\"small_bowel\",\"showlegend\":false,\"x\":[null],\"y\":[null],\"type\":\"scatter\",\"xaxis\":\"x3\",\"yaxis\":\"y3\"},{\"legend\":\"legend\",\"marker\":{\"color\":\"gray\",\"line\":{\"color\":\"black\",\"width\":1},\"size\":9,\"symbol\":\"diamond\"},\"mode\":\"markers\",\"name\":\"colon\",\"showlegend\":false,\"x\":[null],\"y\":[null],\"type\":\"scatter\",\"xaxis\":\"x3\",\"yaxis\":\"y3\"},{\"legend\":\"legend\",\"marker\":{\"color\":\"gray\",\"line\":{\"color\":\"black\",\"width\":1},\"size\":9,\"symbol\":\"cross\"},\"mode\":\"markers\",\"name\":\"liver\",\"showlegend\":false,\"x\":[null],\"y\":[null],\"type\":\"scatter\",\"xaxis\":\"x3\",\"yaxis\":\"y3\"},{\"legend\":\"legend\",\"marker\":{\"color\":\"gray\",\"line\":{\"color\":\"black\",\"width\":1},\"size\":9,\"symbol\":\"x\"},\"mode\":\"markers\",\"name\":\"pancreas\",\"showlegend\":false,\"x\":[null],\"y\":[null],\"type\":\"scatter\",\"xaxis\":\"x3\",\"yaxis\":\"y3\"},{\"legend\":\"legend\",\"marker\":{\"color\":\"gray\",\"line\":{\"color\":\"black\",\"width\":1},\"size\":9,\"symbol\":\"triangle-up\"},\"mode\":\"markers\",\"name\":\"kidney\",\"showlegend\":false,\"x\":[null],\"y\":[null],\"type\":\"scatter\",\"xaxis\":\"x3\",\"yaxis\":\"y3\"},{\"legend\":\"legend\",\"marker\":{\"color\":\"gray\",\"line\":{\"color\":\"black\",\"width\":1},\"size\":9,\"symbol\":\"triangle-down\"},\"mode\":\"markers\",\"name\":\"spleen\",\"showlegend\":false,\"x\":[null],\"y\":[null],\"type\":\"scatter\",\"xaxis\":\"x3\",\"yaxis\":\"y3\"},{\"legend\":\"legend\",\"marker\":{\"color\":\"gray\",\"line\":{\"color\":\"black\",\"width\":1},\"size\":9,\"symbol\":\"triangle-left\"},\"mode\":\"markers\",\"name\":\"omentum\",\"showlegend\":false,\"x\":[null],\"y\":[null],\"type\":\"scatter\",\"xaxis\":\"x3\",\"yaxis\":\"y3\"},{\"legend\":\"legend\",\"marker\":{\"color\":\"gray\",\"line\":{\"color\":\"black\",\"width\":1},\"size\":9,\"symbol\":\"triangle-right\"},\"mode\":\"markers\",\"name\":\"lung\",\"showlegend\":false,\"x\":[null],\"y\":[null],\"type\":\"scatter\",\"xaxis\":\"x3\",\"yaxis\":\"y3\"},{\"legend\":\"legend\",\"marker\":{\"color\":\"gray\",\"line\":{\"color\":\"black\",\"width\":1},\"size\":9,\"symbol\":\"star\"},\"mode\":\"markers\",\"name\":\"skin\",\"showlegend\":false,\"x\":[null],\"y\":[null],\"type\":\"scatter\",\"xaxis\":\"x3\",\"yaxis\":\"y3\"},{\"legend\":\"legend\",\"marker\":{\"color\":\"gray\",\"line\":{\"color\":\"black\",\"width\":1},\"size\":9,\"symbol\":\"diamond-wide\"},\"mode\":\"markers\",\"name\":\"peritoneum\",\"showlegend\":false,\"x\":[null],\"y\":[null],\"type\":\"scatter\",\"xaxis\":\"x3\",\"yaxis\":\"y3\"},{\"legend\":\"legend\",\"marker\":{\"color\":\"gray\",\"line\":{\"color\":\"black\",\"width\":1},\"size\":9,\"symbol\":\"diamond-tall\"},\"mode\":\"markers\",\"name\":\"background\",\"showlegend\":false,\"x\":[null],\"y\":[null],\"type\":\"scatter\",\"xaxis\":\"x3\",\"yaxis\":\"y3\"},{\"legend\":\"legend\",\"legendgroup\":\"human2human\",\"marker\":{\"color\":\"#DDCB76\",\"line\":{\"color\":\"black\",\"width\":1},\"size\":9,\"symbol\":\"diamond-tall\"},\"mode\":\"markers\",\"name\":\"background\",\"showlegend\":false,\"x\":[0.0],\"y\":[0.9103187791952682],\"type\":\"scatter\",\"xaxis\":\"x3\",\"yaxis\":\"y3\"},{\"legend\":\"legend\",\"legendgroup\":\"human2human\",\"marker\":{\"color\":\"#DDCB76\",\"line\":{\"color\":\"black\",\"width\":1},\"size\":9,\"symbol\":\"star\"},\"mode\":\"markers\",\"name\":\"skin\",\"showlegend\":false,\"x\":[0.09333333333333334],\"y\":[0.8368775560547075],\"type\":\"scatter\",\"xaxis\":\"x3\",\"yaxis\":\"y3\"},{\"legend\":\"legend\",\"legendgroup\":\"human2human\",\"marker\":{\"color\":\"#DDCB76\",\"line\":{\"color\":\"black\",\"width\":1},\"size\":9,\"symbol\":\"triangle-up\"},\"mode\":\"markers\",\"name\":\"kidney\",\"showlegend\":false,\"x\":[0.18666666666666668],\"y\":[0.822044018285099],\"type\":\"scatter\",\"xaxis\":\"x3\",\"yaxis\":\"y3\"},{\"legend\":\"legend\",\"legendgroup\":\"human2human\",\"marker\":{\"color\":\"#DDCB76\",\"line\":{\"color\":\"black\",\"width\":1},\"size\":9,\"symbol\":\"triangle-left\"},\"mode\":\"markers\",\"name\":\"omentum\",\"showlegend\":false,\"x\":[0.28],\"y\":[0.7901792133848543],\"type\":\"scatter\",\"xaxis\":\"x3\",\"yaxis\":\"y3\"},{\"legend\":\"legend\",\"legendgroup\":\"human2human\",\"marker\":{\"color\":\"#DDCB76\",\"line\":{\"color\":\"black\",\"width\":1},\"size\":9,\"symbol\":\"triangle-right\"},\"mode\":\"markers\",\"name\":\"lung\",\"showlegend\":false,\"x\":[0.0],\"y\":[0.7379007512993282],\"type\":\"scatter\",\"xaxis\":\"x3\",\"yaxis\":\"y3\"},{\"legend\":\"legend\",\"legendgroup\":\"human2human\",\"marker\":{\"color\":\"#DDCB76\",\"line\":{\"color\":\"black\",\"width\":1},\"size\":9,\"symbol\":\"circle\"},\"mode\":\"markers\",\"name\":\"stomach\",\"showlegend\":false,\"x\":[0.09333333333333334],\"y\":[0.6896819289435568],\"type\":\"scatter\",\"xaxis\":\"x3\",\"yaxis\":\"y3\"},{\"legend\":\"legend\",\"legendgroup\":\"human2human\",\"marker\":{\"color\":\"#DDCB76\",\"line\":{\"color\":\"black\",\"width\":1},\"size\":9,\"symbol\":\"square\"},\"mode\":\"markers\",\"name\":\"small_bowel\",\"showlegend\":false,\"x\":[0.18666666666666668],\"y\":[0.6823689043695561],\"type\":\"scatter\",\"xaxis\":\"x3\",\"yaxis\":\"y3\"},{\"legend\":\"legend\",\"legendgroup\":\"human2human\",\"marker\":{\"color\":\"#DDCB76\",\"line\":{\"color\":\"black\",\"width\":1},\"size\":9,\"symbol\":\"cross\"},\"mode\":\"markers\",\"name\":\"liver\",\"showlegend\":false,\"x\":[0.28],\"y\":[0.6517978145648812],\"type\":\"scatter\",\"xaxis\":\"x3\",\"yaxis\":\"y3\"},{\"legend\":\"legend\",\"legendgroup\":\"human2human\",\"marker\":{\"color\":\"#DDCB76\",\"line\":{\"color\":\"black\",\"width\":1},\"size\":9,\"symbol\":\"diamond\"},\"mode\":\"markers\",\"name\":\"colon\",\"showlegend\":false,\"x\":[0.0],\"y\":[0.6444749339625747],\"type\":\"scatter\",\"xaxis\":\"x3\",\"yaxis\":\"y3\"},{\"legend\":\"legend\",\"legendgroup\":\"human2human\",\"marker\":{\"color\":\"#DDCB76\",\"line\":{\"color\":\"black\",\"width\":1},\"size\":9,\"symbol\":\"diamond-wide\"},\"mode\":\"markers\",\"name\":\"peritoneum\",\"showlegend\":false,\"x\":[0.09333333333333334],\"y\":[0.5849655977887711],\"type\":\"scatter\",\"xaxis\":\"x3\",\"yaxis\":\"y3\"},{\"legend\":\"legend\",\"legendgroup\":\"human2human\",\"marker\":{\"color\":\"#DDCB76\",\"line\":{\"color\":\"black\",\"width\":1},\"size\":9,\"symbol\":\"triangle-down\"},\"mode\":\"markers\",\"name\":\"spleen\",\"showlegend\":false,\"x\":[0.18666666666666668],\"y\":[0.5237065736379009],\"type\":\"scatter\",\"xaxis\":\"x3\",\"yaxis\":\"y3\"},{\"legend\":\"legend\",\"legendgroup\":\"human2human\",\"marker\":{\"color\":\"#DDCB76\",\"line\":{\"color\":\"black\",\"width\":1},\"size\":9,\"symbol\":\"x\"},\"mode\":\"markers\",\"name\":\"pancreas\",\"showlegend\":false,\"x\":[0.28],\"y\":[0.3543961115761224],\"type\":\"scatter\",\"xaxis\":\"x3\",\"yaxis\":\"y3\"},{\"boxmean\":true,\"boxpoints\":false,\"legend\":\"legend2\",\"legendgroup\":\"human2human\",\"line\":{\"color\":\"#DDCB76\"},\"name\":\"human2human\",\"showlegend\":false,\"x\":[0.6,0.6,0.6,0.6,0.6,0.6,0.6,0.6,0.6,0.6,0.6,0.6],\"y\":{\"dtype\":\"f8\",\"bdata\":\"nYEy2VQh7T8wXcBws8fqP4oFzUEvTuo\\u002fS\\u002fHu6iVJ6T8\\u002fyFAJ4pznP3+NLtbfEeY\\u002fFWMCUPfV5T9NIiUXh9vkP6nAjuWJn+Q\\u002fKjb5xQm44j8zM89JNMLgPwYjQwdtrtY\\u002f\"},\"type\":\"box\",\"xaxis\":\"x3\",\"yaxis\":\"y3\"},{\"legendgroup\":\"human2human\",\"line\":{\"color\":\"#DDCB76\",\"dash\":\"dot\"},\"mode\":\"lines\",\"name\":\"human2human\",\"showlegend\":false,\"text\":\"95\\u202f% CI mean: [0.66;0.71]\",\"x\":[0.5,0.5],\"y\":[0.6631067460045512,0.7074068208011366],\"type\":\"scatter\",\"xaxis\":\"x3\",\"yaxis\":\"y3\"},{\"legendgroup\":\"human2human\",\"line\":{\"color\":\"#DDCB76\"},\"marker\":{\"size\":10,\"symbol\":\"triangle-down-open\"},\"mode\":\"markers\",\"name\":\"human2human\",\"showlegend\":false,\"text\":\"95\\u202f% CI mean: [0.66;0.71]\",\"x\":[0.5],\"y\":[0.6631067460045512],\"type\":\"scatter\",\"xaxis\":\"x3\",\"yaxis\":\"y3\"},{\"legendgroup\":\"human2human\",\"line\":{\"color\":\"#DDCB76\"},\"marker\":{\"size\":10,\"symbol\":\"triangle-up-open\"},\"mode\":\"markers\",\"name\":\"human2human\",\"showlegend\":false,\"text\":\"95\\u202f% CI mean: [0.66;0.71]\",\"x\":[0.5],\"y\":[0.7074068208011366],\"type\":\"scatter\",\"xaxis\":\"x3\",\"yaxis\":\"y3\"},{\"legendgroup\":\"human2human\",\"line\":{\"color\":\"#DDCB76\",\"dash\":\"solid\"},\"mode\":\"lines\",\"name\":\"human2human\",\"showlegend\":false,\"text\":\"95\\u202f% CI median: [0.66;0.71]\",\"x\":[0.7,0.7],\"y\":[0.6568320135002338,0.7130857000302345],\"type\":\"scatter\",\"xaxis\":\"x3\",\"yaxis\":\"y3\"},{\"legendgroup\":\"human2human\",\"line\":{\"color\":\"#DDCB76\"},\"marker\":{\"size\":10,\"symbol\":\"triangle-down\"},\"mode\":\"markers\",\"name\":\"human2human\",\"showlegend\":false,\"text\":\"95\\u202f% CI median: [0.66;0.71]\",\"x\":[0.7],\"y\":[0.6568320135002338],\"type\":\"scatter\",\"xaxis\":\"x3\",\"yaxis\":\"y3\"},{\"legendgroup\":\"human2human\",\"line\":{\"color\":\"#DDCB76\"},\"marker\":{\"size\":10,\"symbol\":\"triangle-up\"},\"mode\":\"markers\",\"name\":\"human2human\",\"showlegend\":false,\"text\":\"95\\u202f% CI median: [0.66;0.71]\",\"x\":[0.7],\"y\":[0.7130857000302345],\"type\":\"scatter\",\"xaxis\":\"x3\",\"yaxis\":\"y3\"},{\"legend\":\"legend\",\"legendgroup\":\"pig-p+rat-p2human2human\",\"marker\":{\"color\":\"#DDCB76\",\"line\":{\"color\":\"black\",\"width\":1},\"size\":9,\"symbol\":\"diamond-tall\"},\"mode\":\"markers\",\"name\":\"background\",\"showlegend\":false,\"x\":[1.0],\"y\":[0.9055655201618138],\"type\":\"scatter\",\"xaxis\":\"x3\",\"yaxis\":\"y3\"},{\"legend\":\"legend\",\"legendgroup\":\"pig-p+rat-p2human2human\",\"marker\":{\"color\":\"#DDCB76\",\"line\":{\"color\":\"black\",\"width\":1},\"size\":9,\"symbol\":\"star\"},\"mode\":\"markers\",\"name\":\"skin\",\"showlegend\":false,\"x\":[1.0933333333333333],\"y\":[0.8544660795671574],\"type\":\"scatter\",\"xaxis\":\"x3\",\"yaxis\":\"y3\"},{\"legend\":\"legend\",\"legendgroup\":\"pig-p+rat-p2human2human\",\"marker\":{\"color\":\"#DDCB76\",\"line\":{\"color\":\"black\",\"width\":1},\"size\":9,\"symbol\":\"triangle-up\"},\"mode\":\"markers\",\"name\":\"kidney\",\"showlegend\":false,\"x\":[1.1866666666666668],\"y\":[0.826418241456925],\"type\":\"scatter\",\"xaxis\":\"x3\",\"yaxis\":\"y3\"},{\"legend\":\"legend\",\"legendgroup\":\"pig-p+rat-p2human2human\",\"marker\":{\"color\":\"#DDCB76\",\"line\":{\"color\":\"black\",\"width\":1},\"size\":9,\"symbol\":\"triangle-left\"},\"mode\":\"markers\",\"name\":\"omentum\",\"showlegend\":false,\"x\":[1.28],\"y\":[0.7869329076419193],\"type\":\"scatter\",\"xaxis\":\"x3\",\"yaxis\":\"y3\"},{\"legend\":\"legend\",\"legendgroup\":\"pig-p+rat-p2human2human\",\"marker\":{\"color\":\"#DDCB76\",\"line\":{\"color\":\"black\",\"width\":1},\"size\":9,\"symbol\":\"triangle-right\"},\"mode\":\"markers\",\"name\":\"lung\",\"showlegend\":false,\"x\":[1.0],\"y\":[0.7550247551335229],\"type\":\"scatter\",\"xaxis\":\"x3\",\"yaxis\":\"y3\"},{\"legend\":\"legend\",\"legendgroup\":\"pig-p+rat-p2human2human\",\"marker\":{\"color\":\"#DDCB76\",\"line\":{\"color\":\"black\",\"width\":1},\"size\":9,\"symbol\":\"circle\"},\"mode\":\"markers\",\"name\":\"stomach\",\"showlegend\":false,\"x\":[1.0933333333333333],\"y\":[0.6907262021091838],\"type\":\"scatter\",\"xaxis\":\"x3\",\"yaxis\":\"y3\"},{\"legend\":\"legend\",\"legendgroup\":\"pig-p+rat-p2human2human\",\"marker\":{\"color\":\"#DDCB76\",\"line\":{\"color\":\"black\",\"width\":1},\"size\":9,\"symbol\":\"diamond-wide\"},\"mode\":\"markers\",\"name\":\"peritoneum\",\"showlegend\":false,\"x\":[1.1866666666666668],\"y\":[0.6533039939169791],\"type\":\"scatter\",\"xaxis\":\"x3\",\"yaxis\":\"y3\"},{\"legend\":\"legend\",\"legendgroup\":\"pig-p+rat-p2human2human\",\"marker\":{\"color\":\"#DDCB76\",\"line\":{\"color\":\"black\",\"width\":1},\"size\":9,\"symbol\":\"square\"},\"mode\":\"markers\",\"name\":\"small_bowel\",\"showlegend\":false,\"x\":[1.28],\"y\":[0.6469852887868976],\"type\":\"scatter\",\"xaxis\":\"x3\",\"yaxis\":\"y3\"},{\"legend\":\"legend\",\"legendgroup\":\"pig-p+rat-p2human2human\",\"marker\":{\"color\":\"#DDCB76\",\"line\":{\"color\":\"black\",\"width\":1},\"size\":9,\"symbol\":\"diamond\"},\"mode\":\"markers\",\"name\":\"colon\",\"showlegend\":false,\"x\":[1.0],\"y\":[0.6461669836904076],\"type\":\"scatter\",\"xaxis\":\"x3\",\"yaxis\":\"y3\"},{\"legend\":\"legend\",\"legendgroup\":\"pig-p+rat-p2human2human\",\"marker\":{\"color\":\"#DDCB76\",\"line\":{\"color\":\"black\",\"width\":1},\"size\":9,\"symbol\":\"cross\"},\"mode\":\"markers\",\"name\":\"liver\",\"showlegend\":false,\"x\":[1.0933333333333333],\"y\":[0.6272351672430381],\"type\":\"scatter\",\"xaxis\":\"x3\",\"yaxis\":\"y3\"},{\"legend\":\"legend\",\"legendgroup\":\"pig-p+rat-p2human2human\",\"marker\":{\"color\":\"#DDCB76\",\"line\":{\"color\":\"black\",\"width\":1},\"size\":9,\"symbol\":\"triangle-down\"},\"mode\":\"markers\",\"name\":\"spleen\",\"showlegend\":false,\"x\":[1.1866666666666668],\"y\":[0.5082235361449421],\"type\":\"scatter\",\"xaxis\":\"x3\",\"yaxis\":\"y3\"},{\"legend\":\"legend\",\"legendgroup\":\"pig-p+rat-p2human2human\",\"marker\":{\"color\":\"#DDCB76\",\"line\":{\"color\":\"black\",\"width\":1},\"size\":9,\"symbol\":\"x\"},\"mode\":\"markers\",\"name\":\"pancreas\",\"showlegend\":false,\"x\":[1.28],\"y\":[0.36519712355035455],\"type\":\"scatter\",\"xaxis\":\"x3\",\"yaxis\":\"y3\"},{\"boxmean\":true,\"boxpoints\":false,\"legend\":\"legend2\",\"legendgroup\":\"pig-p+rat-p2human2human\",\"line\":{\"color\":\"#DDCB76\"},\"name\":\"pig-p+rat-p2human2human\",\"showlegend\":false,\"x\":[1.6,1.6,1.6,1.6,1.6,1.6,1.6,1.6,1.6,1.6,1.6,1.6],\"y\":{\"dtype\":\"f8\",\"bdata\":\"9F2vimT67D9lCGk\\u002fyVfrP6gC\\u002fKoEcuo\\u002fwfvO640u6T8jAd+sKSnoP0yTEdZtGuY\\u002fCAcHx93n5D+ipgp+GrTkP4qR1mFmreQ\\u002f0rdGfE8S5D+amVkBXkPgP6d9j8FjX9c\\u002f\"},\"type\":\"box\",\"xaxis\":\"x3\",\"yaxis\":\"y3\"},{\"legendgroup\":\"pig-p+rat-p2human2human\",\"line\":{\"color\":\"#DDCB76\",\"dash\":\"dot\"},\"mode\":\"lines\",\"name\":\"pig-p+rat-p2human2human\",\"showlegend\":false,\"text\":\"95\\u202f% CI mean: [0.67;0.71]\",\"x\":[1.5,1.5],\"y\":[0.6679308116685028,0.711569013402417],\"type\":\"scatter\",\"xaxis\":\"x3\",\"yaxis\":\"y3\"},{\"legendgroup\":\"pig-p+rat-p2human2human\",\"line\":{\"color\":\"#DDCB76\"},\"marker\":{\"size\":10,\"symbol\":\"triangle-down-open\"},\"mode\":\"markers\",\"name\":\"pig-p+rat-p2human2human\",\"showlegend\":false,\"text\":\"95\\u202f% CI mean: [0.67;0.71]\",\"x\":[1.5],\"y\":[0.6679308116685028],\"type\":\"scatter\",\"xaxis\":\"x3\",\"yaxis\":\"y3\"},{\"legendgroup\":\"pig-p+rat-p2human2human\",\"line\":{\"color\":\"#DDCB76\"},\"marker\":{\"size\":10,\"symbol\":\"triangle-up-open\"},\"mode\":\"markers\",\"name\":\"pig-p+rat-p2human2human\",\"showlegend\":false,\"text\":\"95\\u202f% CI mean: [0.67;0.71]\",\"x\":[1.5],\"y\":[0.711569013402417],\"type\":\"scatter\",\"xaxis\":\"x3\",\"yaxis\":\"y3\"},{\"legendgroup\":\"pig-p+rat-p2human2human\",\"line\":{\"color\":\"#DDCB76\",\"dash\":\"solid\"},\"mode\":\"lines\",\"name\":\"pig-p+rat-p2human2human\",\"showlegend\":false,\"text\":\"95\\u202f% CI median: [0.65;0.72]\",\"x\":[1.7,1.7],\"y\":[0.6487415307789668,0.7185545986290186],\"type\":\"scatter\",\"xaxis\":\"x3\",\"yaxis\":\"y3\"},{\"legendgroup\":\"pig-p+rat-p2human2human\",\"line\":{\"color\":\"#DDCB76\"},\"marker\":{\"size\":10,\"symbol\":\"triangle-down\"},\"mode\":\"markers\",\"name\":\"pig-p+rat-p2human2human\",\"showlegend\":false,\"text\":\"95\\u202f% CI median: [0.65;0.72]\",\"x\":[1.7],\"y\":[0.6487415307789668],\"type\":\"scatter\",\"xaxis\":\"x3\",\"yaxis\":\"y3\"},{\"legendgroup\":\"pig-p+rat-p2human2human\",\"line\":{\"color\":\"#DDCB76\"},\"marker\":{\"size\":10,\"symbol\":\"triangle-up\"},\"mode\":\"markers\",\"name\":\"pig-p+rat-p2human2human\",\"showlegend\":false,\"text\":\"95\\u202f% CI median: [0.65;0.72]\",\"x\":[1.7],\"y\":[0.7185545986290186],\"type\":\"scatter\",\"xaxis\":\"x3\",\"yaxis\":\"y3\"}],                        {\"template\":{\"data\":{\"barpolar\":[{\"marker\":{\"line\":{\"color\":\"white\",\"width\":0.5},\"pattern\":{\"fillmode\":\"overlay\",\"size\":10,\"solidity\":0.2}},\"type\":\"barpolar\"}],\"bar\":[{\"error_x\":{\"color\":\"#2a3f5f\"},\"error_y\":{\"color\":\"#2a3f5f\"},\"marker\":{\"line\":{\"color\":\"white\",\"width\":0.5},\"pattern\":{\"fillmode\":\"overlay\",\"size\":10,\"solidity\":0.2}},\"type\":\"bar\"}],\"carpet\":[{\"aaxis\":{\"endlinecolor\":\"#2a3f5f\",\"gridcolor\":\"#C8D4E3\",\"linecolor\":\"#C8D4E3\",\"minorgridcolor\":\"#C8D4E3\",\"startlinecolor\":\"#2a3f5f\"},\"baxis\":{\"endlinecolor\":\"#2a3f5f\",\"gridcolor\":\"#C8D4E3\",\"linecolor\":\"#C8D4E3\",\"minorgridcolor\":\"#C8D4E3\",\"startlinecolor\":\"#2a3f5f\"},\"type\":\"carpet\"}],\"choropleth\":[{\"colorbar\":{\"outlinewidth\":0,\"ticks\":\"\"},\"type\":\"choropleth\"}],\"contourcarpet\":[{\"colorbar\":{\"outlinewidth\":0,\"ticks\":\"\"},\"type\":\"contourcarpet\"}],\"contour\":[{\"colorbar\":{\"outlinewidth\":0,\"ticks\":\"\"},\"colorscale\":[[0.0,\"#0d0887\"],[0.1111111111111111,\"#46039f\"],[0.2222222222222222,\"#7201a8\"],[0.3333333333333333,\"#9c179e\"],[0.4444444444444444,\"#bd3786\"],[0.5555555555555556,\"#d8576b\"],[0.6666666666666666,\"#ed7953\"],[0.7777777777777778,\"#fb9f3a\"],[0.8888888888888888,\"#fdca26\"],[1.0,\"#f0f921\"]],\"type\":\"contour\"}],\"heatmap\":[{\"colorbar\":{\"outlinewidth\":0,\"ticks\":\"\"},\"colorscale\":[[0.0,\"#0d0887\"],[0.1111111111111111,\"#46039f\"],[0.2222222222222222,\"#7201a8\"],[0.3333333333333333,\"#9c179e\"],[0.4444444444444444,\"#bd3786\"],[0.5555555555555556,\"#d8576b\"],[0.6666666666666666,\"#ed7953\"],[0.7777777777777778,\"#fb9f3a\"],[0.8888888888888888,\"#fdca26\"],[1.0,\"#f0f921\"]],\"type\":\"heatmap\"}],\"histogram2dcontour\":[{\"colorbar\":{\"outlinewidth\":0,\"ticks\":\"\"},\"colorscale\":[[0.0,\"#0d0887\"],[0.1111111111111111,\"#46039f\"],[0.2222222222222222,\"#7201a8\"],[0.3333333333333333,\"#9c179e\"],[0.4444444444444444,\"#bd3786\"],[0.5555555555555556,\"#d8576b\"],[0.6666666666666666,\"#ed7953\"],[0.7777777777777778,\"#fb9f3a\"],[0.8888888888888888,\"#fdca26\"],[1.0,\"#f0f921\"]],\"type\":\"histogram2dcontour\"}],\"histogram2d\":[{\"colorbar\":{\"outlinewidth\":0,\"ticks\":\"\"},\"colorscale\":[[0.0,\"#0d0887\"],[0.1111111111111111,\"#46039f\"],[0.2222222222222222,\"#7201a8\"],[0.3333333333333333,\"#9c179e\"],[0.4444444444444444,\"#bd3786\"],[0.5555555555555556,\"#d8576b\"],[0.6666666666666666,\"#ed7953\"],[0.7777777777777778,\"#fb9f3a\"],[0.8888888888888888,\"#fdca26\"],[1.0,\"#f0f921\"]],\"type\":\"histogram2d\"}],\"histogram\":[{\"marker\":{\"pattern\":{\"fillmode\":\"overlay\",\"size\":10,\"solidity\":0.2}},\"type\":\"histogram\"}],\"mesh3d\":[{\"colorbar\":{\"outlinewidth\":0,\"ticks\":\"\"},\"type\":\"mesh3d\"}],\"parcoords\":[{\"line\":{\"colorbar\":{\"outlinewidth\":0,\"ticks\":\"\"}},\"type\":\"parcoords\"}],\"pie\":[{\"automargin\":true,\"type\":\"pie\"}],\"scatter3d\":[{\"line\":{\"colorbar\":{\"outlinewidth\":0,\"ticks\":\"\"}},\"marker\":{\"colorbar\":{\"outlinewidth\":0,\"ticks\":\"\"}},\"type\":\"scatter3d\"}],\"scattercarpet\":[{\"marker\":{\"colorbar\":{\"outlinewidth\":0,\"ticks\":\"\"}},\"type\":\"scattercarpet\"}],\"scattergeo\":[{\"marker\":{\"colorbar\":{\"outlinewidth\":0,\"ticks\":\"\"}},\"type\":\"scattergeo\"}],\"scattergl\":[{\"marker\":{\"colorbar\":{\"outlinewidth\":0,\"ticks\":\"\"}},\"type\":\"scattergl\"}],\"scattermapbox\":[{\"marker\":{\"colorbar\":{\"outlinewidth\":0,\"ticks\":\"\"}},\"type\":\"scattermapbox\"}],\"scattermap\":[{\"marker\":{\"colorbar\":{\"outlinewidth\":0,\"ticks\":\"\"}},\"type\":\"scattermap\"}],\"scatterpolargl\":[{\"marker\":{\"colorbar\":{\"outlinewidth\":0,\"ticks\":\"\"}},\"type\":\"scatterpolargl\"}],\"scatterpolar\":[{\"marker\":{\"colorbar\":{\"outlinewidth\":0,\"ticks\":\"\"}},\"type\":\"scatterpolar\"}],\"scatter\":[{\"fillpattern\":{\"fillmode\":\"overlay\",\"size\":10,\"solidity\":0.2},\"type\":\"scatter\"}],\"scatterternary\":[{\"marker\":{\"colorbar\":{\"outlinewidth\":0,\"ticks\":\"\"}},\"type\":\"scatterternary\"}],\"surface\":[{\"colorbar\":{\"outlinewidth\":0,\"ticks\":\"\"},\"colorscale\":[[0.0,\"#0d0887\"],[0.1111111111111111,\"#46039f\"],[0.2222222222222222,\"#7201a8\"],[0.3333333333333333,\"#9c179e\"],[0.4444444444444444,\"#bd3786\"],[0.5555555555555556,\"#d8576b\"],[0.6666666666666666,\"#ed7953\"],[0.7777777777777778,\"#fb9f3a\"],[0.8888888888888888,\"#fdca26\"],[1.0,\"#f0f921\"]],\"type\":\"surface\"}],\"table\":[{\"cells\":{\"fill\":{\"color\":\"#EBF0F8\"},\"line\":{\"color\":\"white\"}},\"header\":{\"fill\":{\"color\":\"#C8D4E3\"},\"line\":{\"color\":\"white\"}},\"type\":\"table\"}]},\"layout\":{\"annotationdefaults\":{\"arrowcolor\":\"#2a3f5f\",\"arrowhead\":0,\"arrowwidth\":1},\"autotypenumbers\":\"strict\",\"coloraxis\":{\"colorbar\":{\"outlinewidth\":0,\"ticks\":\"\"}},\"colorscale\":{\"diverging\":[[0,\"#8e0152\"],[0.1,\"#c51b7d\"],[0.2,\"#de77ae\"],[0.3,\"#f1b6da\"],[0.4,\"#fde0ef\"],[0.5,\"#f7f7f7\"],[0.6,\"#e6f5d0\"],[0.7,\"#b8e186\"],[0.8,\"#7fbc41\"],[0.9,\"#4d9221\"],[1,\"#276419\"]],\"sequential\":[[0.0,\"#0d0887\"],[0.1111111111111111,\"#46039f\"],[0.2222222222222222,\"#7201a8\"],[0.3333333333333333,\"#9c179e\"],[0.4444444444444444,\"#bd3786\"],[0.5555555555555556,\"#d8576b\"],[0.6666666666666666,\"#ed7953\"],[0.7777777777777778,\"#fb9f3a\"],[0.8888888888888888,\"#fdca26\"],[1.0,\"#f0f921\"]],\"sequentialminus\":[[0.0,\"#0d0887\"],[0.1111111111111111,\"#46039f\"],[0.2222222222222222,\"#7201a8\"],[0.3333333333333333,\"#9c179e\"],[0.4444444444444444,\"#bd3786\"],[0.5555555555555556,\"#d8576b\"],[0.6666666666666666,\"#ed7953\"],[0.7777777777777778,\"#fb9f3a\"],[0.8888888888888888,\"#fdca26\"],[1.0,\"#f0f921\"]]},\"colorway\":[\"#636efa\",\"#EF553B\",\"#00cc96\",\"#ab63fa\",\"#FFA15A\",\"#19d3f3\",\"#FF6692\",\"#B6E880\",\"#FF97FF\",\"#FECB52\"],\"font\":{\"color\":\"#2a3f5f\"},\"geo\":{\"bgcolor\":\"white\",\"lakecolor\":\"white\",\"landcolor\":\"white\",\"showlakes\":true,\"showland\":true,\"subunitcolor\":\"#C8D4E3\"},\"hoverlabel\":{\"align\":\"left\"},\"hovermode\":\"closest\",\"mapbox\":{\"style\":\"light\"},\"paper_bgcolor\":\"white\",\"plot_bgcolor\":\"white\",\"polar\":{\"angularaxis\":{\"gridcolor\":\"#EBF0F8\",\"linecolor\":\"#EBF0F8\",\"ticks\":\"\"},\"bgcolor\":\"white\",\"radialaxis\":{\"gridcolor\":\"#EBF0F8\",\"linecolor\":\"#EBF0F8\",\"ticks\":\"\"}},\"scene\":{\"xaxis\":{\"backgroundcolor\":\"white\",\"gridcolor\":\"#DFE8F3\",\"gridwidth\":2,\"linecolor\":\"#EBF0F8\",\"showbackground\":true,\"ticks\":\"\",\"zerolinecolor\":\"#EBF0F8\"},\"yaxis\":{\"backgroundcolor\":\"white\",\"gridcolor\":\"#DFE8F3\",\"gridwidth\":2,\"linecolor\":\"#EBF0F8\",\"showbackground\":true,\"ticks\":\"\",\"zerolinecolor\":\"#EBF0F8\"},\"zaxis\":{\"backgroundcolor\":\"white\",\"gridcolor\":\"#DFE8F3\",\"gridwidth\":2,\"linecolor\":\"#EBF0F8\",\"showbackground\":true,\"ticks\":\"\",\"zerolinecolor\":\"#EBF0F8\"}},\"shapedefaults\":{\"line\":{\"color\":\"#2a3f5f\"}},\"ternary\":{\"aaxis\":{\"gridcolor\":\"#DFE8F3\",\"linecolor\":\"#A2B1C6\",\"ticks\":\"\"},\"baxis\":{\"gridcolor\":\"#DFE8F3\",\"linecolor\":\"#A2B1C6\",\"ticks\":\"\"},\"bgcolor\":\"white\",\"caxis\":{\"gridcolor\":\"#DFE8F3\",\"linecolor\":\"#A2B1C6\",\"ticks\":\"\"}},\"title\":{\"x\":0.05},\"xaxis\":{\"automargin\":true,\"gridcolor\":\"#EBF0F8\",\"linecolor\":\"#EBF0F8\",\"ticks\":\"\",\"title\":{\"standoff\":15},\"zerolinecolor\":\"#EBF0F8\",\"zerolinewidth\":2},\"yaxis\":{\"automargin\":true,\"gridcolor\":\"#EBF0F8\",\"linecolor\":\"#EBF0F8\",\"ticks\":\"\",\"title\":{\"standoff\":15},\"zerolinecolor\":\"#EBF0F8\",\"zerolinewidth\":2}}},\"xaxis\":{\"anchor\":\"y\",\"domain\":[0.0,0.3525],\"showticklabels\":false},\"yaxis\":{\"anchor\":\"x\",\"domain\":[0.0,1.0],\"zeroline\":false,\"title\":{\"text\":\"\\u003cb\\u003eNSD\\u003c\\u002fb\\u003e\",\"standoff\":12}},\"xaxis2\":{\"anchor\":\"y2\",\"domain\":[0.38249999999999995,0.7349999999999999],\"showticklabels\":false},\"yaxis2\":{\"anchor\":\"x2\",\"domain\":[0.0,1.0],\"matches\":\"y\",\"showticklabels\":false,\"zeroline\":false},\"xaxis3\":{\"anchor\":\"y3\",\"domain\":[0.7649999999999999,0.9999999999999999],\"showticklabels\":false},\"yaxis3\":{\"anchor\":\"x3\",\"domain\":[0.0,1.0],\"matches\":\"y\",\"showticklabels\":false,\"zeroline\":false},\"height\":400,\"width\":1200,\"font\":{\"family\":\"Libertinus Sans\",\"size\":16},\"showlegend\":false,\"legend\":{\"title\":{},\"orientation\":\"h\",\"yanchor\":\"bottom\",\"y\":1.05,\"xanchor\":\"center\",\"x\":0.2},\"legend2\":{\"title\":{},\"orientation\":\"h\",\"yanchor\":\"bottom\",\"y\":1.05,\"xanchor\":\"center\",\"x\":0.8},\"margin\":{\"l\":0,\"r\":0,\"t\":0,\"b\":0}},                        {\"responsive\": true}                    ).then(function(){\n",
       "                            \n",
       "var gd = document.getElementById('3906a7c8-603d-41d4-89e7-a54d87bdc1f7');\n",
       "var x = new MutationObserver(function (mutations, observer) {{\n",
       "        var display = window.getComputedStyle(gd).display;\n",
       "        if (!display || display === 'none') {{\n",
       "            console.log([gd, 'removed!']);\n",
       "            Plotly.purge(gd);\n",
       "            observer.disconnect();\n",
       "        }}\n",
       "}});\n",
       "\n",
       "// Listen for the removal of the full notebook cells\n",
       "var notebookContainer = gd.closest('#notebook-container');\n",
       "if (notebookContainer) {{\n",
       "    x.observe(notebookContainer, {childList: true});\n",
       "}}\n",
       "\n",
       "// Listen for the clearing of the current output cell\n",
       "var outputEl = gd.closest('.output');\n",
       "if (outputEl) {{\n",
       "    x.observe(outputEl, {childList: true});\n",
       "}}\n",
       "\n",
       "                        })                };            </script>        </div>"
      ]
     },
     "metadata": {},
     "output_type": "display_data"
    }
   ],
   "source": [
    "species_comparison(settings_seg.nsd_aggregation_short, \"NSD\")"
   ]
  }
 ],
 "metadata": {
  "kernelspec": {
   "display_name": "htc",
   "language": "python",
   "name": "python3"
  },
  "language_info": {
   "codemirror_mode": {
    "name": "ipython",
    "version": 3
   },
   "file_extension": ".py",
   "mimetype": "text/x-python",
   "name": "python",
   "nbconvert_exporter": "python",
   "pygments_lexer": "ipython3",
   "version": "3.13.2"
  }
 },
 "nbformat": 4,
 "nbformat_minor": 2
}
