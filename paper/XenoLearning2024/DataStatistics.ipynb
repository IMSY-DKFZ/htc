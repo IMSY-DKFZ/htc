{
 "cells": [
  {
   "cell_type": "code",
   "execution_count": 1,
   "metadata": {},
   "outputs": [],
   "source": [
    "%load_ext autoreload\n",
    "%autoreload 2\n",
    "\n",
    "import pandas as pd\n",
    "import plotly.express as px\n",
    "import plotly.io as pio\n",
    "\n",
    "from htc.utils.helper_functions import sort_labels\n",
    "from htc_projects.rat.settings_rat import settings_rat\n",
    "from htc_projects.species.settings_species import settings_species\n",
    "from htc_projects.species.tables import paper_table\n",
    "\n",
    "pio.kaleido.scope.mathjax = None"
   ]
  },
  {
   "cell_type": "code",
   "execution_count": 2,
   "metadata": {},
   "outputs": [
    {
     "data": {
      "text/html": [
       "        <script type=\"text/javascript\">\n",
       "        window.PlotlyConfig = {MathJaxConfig: 'local'};\n",
       "        if (window.MathJax && window.MathJax.Hub && window.MathJax.Hub.Config) {window.MathJax.Hub.Config({SVG: {font: \"STIX-Web\"}});}\n",
       "        </script>\n",
       "        <script type=\"module\">import \"https://cdn.plot.ly/plotly-3.0.0.min\"</script>\n",
       "        "
      ]
     },
     "metadata": {},
     "output_type": "display_data"
    },
    {
     "data": {
      "application/vnd.plotly.v1+json": {
       "config": {
        "plotlyServerURL": "https://plot.ly"
       },
       "data": [
        {
         "hovertemplate": "subject_name=P005<br>species_name=pig<br>label_name=%{x}<br>n_images=%{y}<extra></extra>",
         "legendgroup": "P005",
         "marker": {
          "color": "#44AA99",
          "pattern": {
           "shape": ""
          }
         },
         "name": "P005",
         "orientation": "v",
         "showlegend": true,
         "textposition": "auto",
         "type": "bar",
         "x": [
          "stomach",
          "small bowel",
          "kidney"
         ],
         "xaxis": "x3",
         "y": {
          "bdata": "BQYB",
          "dtype": "i1"
         },
         "yaxis": "y3"
        },
        {
         "hovertemplate": "subject_name=P006<br>species_name=pig<br>label_name=%{x}<br>n_images=%{y}<extra></extra>",
         "legendgroup": "P006",
         "marker": {
          "color": "#44AA99",
          "pattern": {
           "shape": ""
          }
         },
         "name": "P006",
         "orientation": "v",
         "showlegend": true,
         "textposition": "auto",
         "type": "bar",
         "x": [
          "stomach",
          "small bowel"
         ],
         "xaxis": "x3",
         "y": {
          "bdata": "BQE=",
          "dtype": "i1"
         },
         "yaxis": "y3"
        },
        {
         "hovertemplate": "subject_name=P007<br>species_name=pig<br>label_name=%{x}<br>n_images=%{y}<extra></extra>",
         "legendgroup": "P007",
         "marker": {
          "color": "#44AA99",
          "pattern": {
           "shape": ""
          }
         },
         "name": "P007",
         "orientation": "v",
         "showlegend": true,
         "textposition": "auto",
         "type": "bar",
         "x": [
          "stomach"
         ],
         "xaxis": "x3",
         "y": {
          "bdata": "AQ==",
          "dtype": "i1"
         },
         "yaxis": "y3"
        },
        {
         "hovertemplate": "subject_name=P008<br>species_name=pig<br>label_name=%{x}<br>n_images=%{y}<extra></extra>",
         "legendgroup": "P008",
         "marker": {
          "color": "#44AA99",
          "pattern": {
           "shape": ""
          }
         },
         "name": "P008",
         "orientation": "v",
         "showlegend": true,
         "textposition": "auto",
         "type": "bar",
         "x": [
          "stomach"
         ],
         "xaxis": "x3",
         "y": {
          "bdata": "CA==",
          "dtype": "i1"
         },
         "yaxis": "y3"
        },
        {
         "hovertemplate": "subject_name=P013<br>species_name=pig<br>label_name=%{x}<br>n_images=%{y}<extra></extra>",
         "legendgroup": "P013",
         "marker": {
          "color": "#44AA99",
          "pattern": {
           "shape": ""
          }
         },
         "name": "P013",
         "orientation": "v",
         "showlegend": true,
         "textposition": "auto",
         "type": "bar",
         "x": [
          "stomach",
          "small bowel"
         ],
         "xaxis": "x3",
         "y": {
          "bdata": "AgI=",
          "dtype": "i1"
         },
         "yaxis": "y3"
        },
        {
         "hovertemplate": "subject_name=P014<br>species_name=pig<br>label_name=%{x}<br>n_images=%{y}<extra></extra>",
         "legendgroup": "P014",
         "marker": {
          "color": "#44AA99",
          "pattern": {
           "shape": ""
          }
         },
         "name": "P014",
         "orientation": "v",
         "showlegend": true,
         "textposition": "auto",
         "type": "bar",
         "x": [
          "small bowel"
         ],
         "xaxis": "x3",
         "y": {
          "bdata": "Bg==",
          "dtype": "i1"
         },
         "yaxis": "y3"
        },
        {
         "hovertemplate": "subject_name=P025<br>species_name=pig<br>label_name=%{x}<br>n_images=%{y}<extra></extra>",
         "legendgroup": "P025",
         "marker": {
          "color": "#44AA99",
          "pattern": {
           "shape": ""
          }
         },
         "name": "P025",
         "orientation": "v",
         "showlegend": true,
         "textposition": "auto",
         "type": "bar",
         "x": [
          "stomach"
         ],
         "xaxis": "x3",
         "y": {
          "bdata": "Ag==",
          "dtype": "i1"
         },
         "yaxis": "y3"
        },
        {
         "hovertemplate": "subject_name=P027<br>species_name=pig<br>label_name=%{x}<br>n_images=%{y}<extra></extra>",
         "legendgroup": "P027",
         "marker": {
          "color": "#44AA99",
          "pattern": {
           "shape": ""
          }
         },
         "name": "P027",
         "orientation": "v",
         "showlegend": true,
         "textposition": "auto",
         "type": "bar",
         "x": [
          "stomach"
         ],
         "xaxis": "x3",
         "y": {
          "bdata": "Cg==",
          "dtype": "i1"
         },
         "yaxis": "y3"
        },
        {
         "hovertemplate": "subject_name=P041<br>species_name=pig<br>label_name=%{x}<br>n_images=%{y}<extra></extra>",
         "legendgroup": "P041",
         "marker": {
          "color": "#44AA99",
          "pattern": {
           "shape": ""
          }
         },
         "name": "P041",
         "orientation": "v",
         "showlegend": true,
         "textposition": "auto",
         "type": "bar",
         "x": [
          "stomach",
          "small bowel",
          "colon",
          "liver",
          "spleen",
          "omentum",
          "skin",
          "peritoneum",
          "background"
         ],
         "xaxis": "x3",
         "y": {
          "bdata": "AgQEAgICAgIE",
          "dtype": "i1"
         },
         "yaxis": "y3"
        },
        {
         "hovertemplate": "subject_name=P043<br>species_name=pig<br>label_name=%{x}<br>n_images=%{y}<extra></extra>",
         "legendgroup": "P043",
         "marker": {
          "color": "#44AA99",
          "pattern": {
           "shape": ""
          }
         },
         "name": "P043",
         "orientation": "v",
         "showlegend": true,
         "textposition": "auto",
         "type": "bar",
         "x": [
          "stomach",
          "small bowel",
          "colon",
          "liver",
          "omentum",
          "lung",
          "background"
         ],
         "xaxis": "x3",
         "y": {
          "bdata": "AwsLCwMKFQ==",
          "dtype": "i1"
         },
         "yaxis": "y3"
        },
        {
         "hovertemplate": "subject_name=P044<br>species_name=pig<br>label_name=%{x}<br>n_images=%{y}<extra></extra>",
         "legendgroup": "P044",
         "marker": {
          "color": "#44AA99",
          "pattern": {
           "shape": ""
          }
         },
         "name": "P044",
         "orientation": "v",
         "showlegend": true,
         "textposition": "auto",
         "type": "bar",
         "x": [
          "stomach",
          "small bowel",
          "colon",
          "liver",
          "spleen",
          "omentum",
          "lung",
          "skin",
          "peritoneum",
          "background"
         ],
         "xaxis": "x3",
         "y": {
          "bdata": "BRERDg4FBhYRFw==",
          "dtype": "i1"
         },
         "yaxis": "y3"
        },
        {
         "hovertemplate": "subject_name=P045<br>species_name=pig<br>label_name=%{x}<br>n_images=%{y}<extra></extra>",
         "legendgroup": "P045",
         "marker": {
          "color": "#44AA99",
          "pattern": {
           "shape": ""
          }
         },
         "name": "P045",
         "orientation": "v",
         "showlegend": true,
         "textposition": "auto",
         "type": "bar",
         "x": [
          "stomach",
          "small bowel",
          "colon",
          "liver",
          "spleen",
          "omentum",
          "lung",
          "skin",
          "peritoneum",
          "background"
         ],
         "xaxis": "x3",
         "y": {
          "bdata": "DRESDg8JBBIPFg==",
          "dtype": "i1"
         },
         "yaxis": "y3"
        },
        {
         "hovertemplate": "subject_name=P046<br>species_name=pig<br>label_name=%{x}<br>n_images=%{y}<extra></extra>",
         "legendgroup": "P046",
         "marker": {
          "color": "#44AA99",
          "pattern": {
           "shape": ""
          }
         },
         "name": "P046",
         "orientation": "v",
         "showlegend": true,
         "textposition": "auto",
         "type": "bar",
         "x": [
          "stomach",
          "small bowel",
          "colon",
          "liver",
          "spleen",
          "omentum",
          "skin",
          "peritoneum",
          "background"
         ],
         "xaxis": "x3",
         "y": {
          "bdata": "DBAODQ4NEA8Q",
          "dtype": "i1"
         },
         "yaxis": "y3"
        },
        {
         "hovertemplate": "subject_name=P047<br>species_name=pig<br>label_name=%{x}<br>n_images=%{y}<extra></extra>",
         "legendgroup": "P047",
         "marker": {
          "color": "#44AA99",
          "pattern": {
           "shape": ""
          }
         },
         "name": "P047",
         "orientation": "v",
         "showlegend": true,
         "textposition": "auto",
         "type": "bar",
         "x": [
          "stomach",
          "small bowel",
          "colon",
          "liver",
          "spleen",
          "omentum",
          "skin",
          "peritoneum",
          "background"
         ],
         "xaxis": "x3",
         "y": {
          "bdata": "CgoKCgoICgoK",
          "dtype": "i1"
         },
         "yaxis": "y3"
        },
        {
         "hovertemplate": "subject_name=P048<br>species_name=pig<br>label_name=%{x}<br>n_images=%{y}<extra></extra>",
         "legendgroup": "P048",
         "marker": {
          "color": "#44AA99",
          "pattern": {
           "shape": ""
          }
         },
         "name": "P048",
         "orientation": "v",
         "showlegend": true,
         "textposition": "auto",
         "type": "bar",
         "x": [
          "stomach",
          "small bowel",
          "colon",
          "liver",
          "spleen",
          "skin",
          "peritoneum",
          "background"
         ],
         "xaxis": "x3",
         "y": {
          "bdata": "Cw8PCgsPDg8=",
          "dtype": "i1"
         },
         "yaxis": "y3"
        },
        {
         "hovertemplate": "subject_name=P049<br>species_name=pig<br>label_name=%{x}<br>n_images=%{y}<extra></extra>",
         "legendgroup": "P049",
         "marker": {
          "color": "#44AA99",
          "pattern": {
           "shape": ""
          }
         },
         "name": "P049",
         "orientation": "v",
         "showlegend": true,
         "textposition": "auto",
         "type": "bar",
         "x": [
          "stomach",
          "small bowel",
          "colon",
          "liver",
          "spleen",
          "skin",
          "peritoneum",
          "background"
         ],
         "xaxis": "x3",
         "y": {
          "bdata": "CxAQBQ0QEBA=",
          "dtype": "i1"
         },
         "yaxis": "y3"
        },
        {
         "hovertemplate": "subject_name=P050<br>species_name=pig<br>label_name=%{x}<br>n_images=%{y}<extra></extra>",
         "legendgroup": "P050",
         "marker": {
          "color": "#44AA99",
          "pattern": {
           "shape": ""
          }
         },
         "name": "P050",
         "orientation": "v",
         "showlegend": true,
         "textposition": "auto",
         "type": "bar",
         "x": [
          "stomach",
          "small bowel",
          "colon",
          "liver",
          "spleen",
          "omentum",
          "skin",
          "peritoneum",
          "background"
         ],
         "xaxis": "x3",
         "y": {
          "bdata": "BQUFBQUFBQUF",
          "dtype": "i1"
         },
         "yaxis": "y3"
        },
        {
         "hovertemplate": "subject_name=P057<br>species_name=pig<br>label_name=%{x}<br>n_images=%{y}<extra></extra>",
         "legendgroup": "P057",
         "marker": {
          "color": "#44AA99",
          "pattern": {
           "shape": ""
          }
         },
         "name": "P057",
         "orientation": "v",
         "showlegend": true,
         "textposition": "auto",
         "type": "bar",
         "x": [
          "stomach",
          "small bowel",
          "colon",
          "liver",
          "pancreas",
          "spleen",
          "omentum",
          "skin",
          "peritoneum",
          "background"
         ],
         "xaxis": "x3",
         "y": {
          "bdata": "FBgUEwUVExgYGA==",
          "dtype": "i1"
         },
         "yaxis": "y3"
        },
        {
         "hovertemplate": "subject_name=P058<br>species_name=pig<br>label_name=%{x}<br>n_images=%{y}<extra></extra>",
         "legendgroup": "P058",
         "marker": {
          "color": "#44AA99",
          "pattern": {
           "shape": ""
          }
         },
         "name": "P058",
         "orientation": "v",
         "showlegend": true,
         "textposition": "auto",
         "type": "bar",
         "x": [
          "stomach",
          "small bowel",
          "colon",
          "liver",
          "pancreas",
          "kidney",
          "spleen",
          "omentum",
          "lung",
          "skin",
          "peritoneum",
          "background"
         ],
         "xaxis": "x3",
         "y": {
          "bdata": "CB0gIw4IERENExg1",
          "dtype": "i1"
         },
         "yaxis": "y3"
        },
        {
         "hovertemplate": "subject_name=P059<br>species_name=pig<br>label_name=%{x}<br>n_images=%{y}<extra></extra>",
         "legendgroup": "P059",
         "marker": {
          "color": "#44AA99",
          "pattern": {
           "shape": ""
          }
         },
         "name": "P059",
         "orientation": "v",
         "showlegend": true,
         "textposition": "auto",
         "type": "bar",
         "x": [
          "stomach",
          "small bowel",
          "colon",
          "liver",
          "pancreas",
          "kidney",
          "spleen",
          "omentum",
          "skin",
          "peritoneum",
          "background"
         ],
         "xaxis": "x3",
         "y": {
          "bdata": "AhMQCAUDBAMBBhY=",
          "dtype": "i1"
         },
         "yaxis": "y3"
        },
        {
         "hovertemplate": "subject_name=P060<br>species_name=pig<br>label_name=%{x}<br>n_images=%{y}<extra></extra>",
         "legendgroup": "P060",
         "marker": {
          "color": "#44AA99",
          "pattern": {
           "shape": ""
          }
         },
         "name": "P060",
         "orientation": "v",
         "showlegend": true,
         "textposition": "auto",
         "type": "bar",
         "x": [
          "stomach",
          "small bowel",
          "colon",
          "liver",
          "pancreas",
          "spleen",
          "omentum",
          "lung",
          "skin",
          "peritoneum",
          "background"
         ],
         "xaxis": "x3",
         "y": {
          "bdata": "GiQaHAgYEA4NEjI=",
          "dtype": "i1"
         },
         "yaxis": "y3"
        },
        {
         "hovertemplate": "subject_name=P061<br>species_name=pig<br>label_name=%{x}<br>n_images=%{y}<extra></extra>",
         "legendgroup": "P061",
         "marker": {
          "color": "#44AA99",
          "pattern": {
           "shape": ""
          }
         },
         "name": "P061",
         "orientation": "v",
         "showlegend": true,
         "textposition": "auto",
         "type": "bar",
         "x": [
          "stomach",
          "small bowel",
          "colon",
          "liver",
          "pancreas",
          "kidney",
          "spleen",
          "omentum",
          "skin",
          "peritoneum",
          "background"
         ],
         "xaxis": "x3",
         "y": {
          "bdata": "CBIMDAEGDAESEhI=",
          "dtype": "i1"
         },
         "yaxis": "y3"
        },
        {
         "hovertemplate": "subject_name=P062<br>species_name=pig<br>label_name=%{x}<br>n_images=%{y}<extra></extra>",
         "legendgroup": "P062",
         "marker": {
          "color": "#44AA99",
          "pattern": {
           "shape": ""
          }
         },
         "name": "P062",
         "orientation": "v",
         "showlegend": true,
         "textposition": "auto",
         "type": "bar",
         "x": [
          "stomach",
          "small bowel",
          "colon",
          "liver",
          "pancreas",
          "kidney",
          "spleen",
          "omentum",
          "lung",
          "skin",
          "peritoneum",
          "background"
         ],
         "xaxis": "x3",
         "y": {
          "bdata": "IS8ZHwYREhcMHRo7",
          "dtype": "i1"
         },
         "yaxis": "y3"
        },
        {
         "hovertemplate": "subject_name=P068<br>species_name=pig<br>label_name=%{x}<br>n_images=%{y}<extra></extra>",
         "legendgroup": "P068",
         "marker": {
          "color": "#44AA99",
          "pattern": {
           "shape": ""
          }
         },
         "name": "P068",
         "orientation": "v",
         "showlegend": true,
         "textposition": "auto",
         "type": "bar",
         "x": [
          "stomach",
          "small bowel",
          "colon",
          "liver",
          "pancreas",
          "spleen",
          "omentum",
          "skin",
          "peritoneum",
          "background"
         ],
         "xaxis": "x3",
         "y": {
          "bdata": "ERcPDQUSCgkNFw==",
          "dtype": "i1"
         },
         "yaxis": "y3"
        },
        {
         "hovertemplate": "subject_name=P069<br>species_name=pig<br>label_name=%{x}<br>n_images=%{y}<extra></extra>",
         "legendgroup": "P069",
         "marker": {
          "color": "#44AA99",
          "pattern": {
           "shape": ""
          }
         },
         "name": "P069",
         "orientation": "v",
         "showlegend": true,
         "textposition": "auto",
         "type": "bar",
         "x": [
          "stomach",
          "small bowel",
          "colon",
          "liver",
          "spleen",
          "omentum",
          "skin",
          "peritoneum",
          "background"
         ],
         "xaxis": "x3",
         "y": {
          "bdata": "DRQUDRMNDw0U",
          "dtype": "i1"
         },
         "yaxis": "y3"
        },
        {
         "hovertemplate": "subject_name=P070<br>species_name=pig<br>label_name=%{x}<br>n_images=%{y}<extra></extra>",
         "legendgroup": "P070",
         "marker": {
          "color": "#44AA99",
          "pattern": {
           "shape": ""
          }
         },
         "name": "P070",
         "orientation": "v",
         "showlegend": true,
         "textposition": "auto",
         "type": "bar",
         "x": [
          "stomach",
          "small bowel",
          "colon",
          "liver",
          "pancreas",
          "spleen",
          "omentum",
          "lung",
          "skin",
          "peritoneum",
          "background"
         ],
         "xaxis": "x3",
         "y": {
          "bdata": "ExkZGQkQDg4cGSc=",
          "dtype": "i1"
         },
         "yaxis": "y3"
        },
        {
         "hovertemplate": "subject_name=P071<br>species_name=pig<br>label_name=%{x}<br>n_images=%{y}<extra></extra>",
         "legendgroup": "P071",
         "marker": {
          "color": "#44AA99",
          "pattern": {
           "shape": ""
          }
         },
         "name": "P071",
         "orientation": "v",
         "showlegend": true,
         "textposition": "auto",
         "type": "bar",
         "x": [
          "stomach",
          "small bowel",
          "colon",
          "liver",
          "pancreas",
          "spleen",
          "omentum",
          "skin",
          "peritoneum",
          "background"
         ],
         "xaxis": "x3",
         "y": {
          "bdata": "Ew8HCgcMDg4BEw==",
          "dtype": "i1"
         },
         "yaxis": "y3"
        },
        {
         "hovertemplate": "subject_name=P072<br>species_name=pig<br>label_name=%{x}<br>n_images=%{y}<extra></extra>",
         "legendgroup": "P072",
         "marker": {
          "color": "#44AA99",
          "pattern": {
           "shape": ""
          }
         },
         "name": "P072",
         "orientation": "v",
         "showlegend": true,
         "textposition": "auto",
         "type": "bar",
         "x": [
          "stomach",
          "small bowel",
          "colon",
          "liver",
          "pancreas",
          "kidney",
          "spleen",
          "omentum",
          "lung",
          "skin",
          "peritoneum",
          "background"
         ],
         "xaxis": "x3",
         "y": {
          "bdata": "GyYXJAcJGRIGIyUv",
          "dtype": "i1"
         },
         "yaxis": "y3"
        },
        {
         "hovertemplate": "subject_name=P076<br>species_name=pig<br>label_name=%{x}<br>n_images=%{y}<extra></extra>",
         "legendgroup": "P076",
         "marker": {
          "color": "#44AA99",
          "pattern": {
           "shape": ""
          }
         },
         "name": "P076",
         "orientation": "v",
         "showlegend": true,
         "textposition": "auto",
         "type": "bar",
         "x": [
          "stomach",
          "small bowel",
          "colon",
          "liver",
          "peritoneum"
         ],
         "xaxis": "x3",
         "y": {
          "bdata": "IyMjIyM=",
          "dtype": "i1"
         },
         "yaxis": "y3"
        },
        {
         "hovertemplate": "subject_name=P079<br>species_name=pig<br>label_name=%{x}<br>n_images=%{y}<extra></extra>",
         "legendgroup": "P079",
         "marker": {
          "color": "#44AA99",
          "pattern": {
           "shape": ""
          }
         },
         "name": "P079",
         "orientation": "v",
         "showlegend": true,
         "textposition": "auto",
         "type": "bar",
         "x": [
          "kidney"
         ],
         "xaxis": "x3",
         "y": {
          "bdata": "Hg==",
          "dtype": "i1"
         },
         "yaxis": "y3"
        },
        {
         "hovertemplate": "subject_name=P080<br>species_name=pig<br>label_name=%{x}<br>n_images=%{y}<extra></extra>",
         "legendgroup": "P080",
         "marker": {
          "color": "#44AA99",
          "pattern": {
           "shape": ""
          }
         },
         "name": "P080",
         "orientation": "v",
         "showlegend": true,
         "textposition": "auto",
         "type": "bar",
         "x": [
          "kidney"
         ],
         "xaxis": "x3",
         "y": {
          "bdata": "Rg==",
          "dtype": "i1"
         },
         "yaxis": "y3"
        },
        {
         "hovertemplate": "subject_name=P081<br>species_name=pig<br>label_name=%{x}<br>n_images=%{y}<extra></extra>",
         "legendgroup": "P081",
         "marker": {
          "color": "#44AA99",
          "pattern": {
           "shape": ""
          }
         },
         "name": "P081",
         "orientation": "v",
         "showlegend": true,
         "textposition": "auto",
         "type": "bar",
         "x": [
          "kidney"
         ],
         "xaxis": "x3",
         "y": {
          "bdata": "KQ==",
          "dtype": "i1"
         },
         "yaxis": "y3"
        },
        {
         "hovertemplate": "subject_name=P082<br>species_name=pig<br>label_name=%{x}<br>n_images=%{y}<extra></extra>",
         "legendgroup": "P082",
         "marker": {
          "color": "#44AA99",
          "pattern": {
           "shape": ""
          }
         },
         "name": "P082",
         "orientation": "v",
         "showlegend": true,
         "textposition": "auto",
         "type": "bar",
         "x": [
          "kidney"
         ],
         "xaxis": "x3",
         "y": {
          "bdata": "Hw==",
          "dtype": "i1"
         },
         "yaxis": "y3"
        },
        {
         "hovertemplate": "subject_name=P083<br>species_name=pig<br>label_name=%{x}<br>n_images=%{y}<extra></extra>",
         "legendgroup": "P083",
         "marker": {
          "color": "#44AA99",
          "pattern": {
           "shape": ""
          }
         },
         "name": "P083",
         "orientation": "v",
         "showlegend": true,
         "textposition": "auto",
         "type": "bar",
         "x": [
          "kidney"
         ],
         "xaxis": "x3",
         "y": {
          "bdata": "Hg==",
          "dtype": "i1"
         },
         "yaxis": "y3"
        },
        {
         "hovertemplate": "subject_name=P084<br>species_name=pig<br>label_name=%{x}<br>n_images=%{y}<extra></extra>",
         "legendgroup": "P084",
         "marker": {
          "color": "#44AA99",
          "pattern": {
           "shape": ""
          }
         },
         "name": "P084",
         "orientation": "v",
         "showlegend": true,
         "textposition": "auto",
         "type": "bar",
         "x": [
          "kidney"
         ],
         "xaxis": "x3",
         "y": {
          "bdata": "Gg==",
          "dtype": "i1"
         },
         "yaxis": "y3"
        },
        {
         "hovertemplate": "subject_name=P086<br>species_name=pig<br>label_name=%{x}<br>n_images=%{y}<extra></extra>",
         "legendgroup": "P086",
         "marker": {
          "color": "#44AA99",
          "pattern": {
           "shape": ""
          }
         },
         "name": "P086",
         "orientation": "v",
         "showlegend": true,
         "textposition": "auto",
         "type": "bar",
         "x": [
          "stomach",
          "small bowel",
          "colon",
          "liver",
          "pancreas",
          "kidney",
          "spleen",
          "lung",
          "skin",
          "peritoneum"
         ],
         "xaxis": "x3",
         "y": {
          "bdata": "JCQkJCQkJCQkJA==",
          "dtype": "i1"
         },
         "yaxis": "y3"
        },
        {
         "hovertemplate": "subject_name=P087<br>species_name=pig<br>label_name=%{x}<br>n_images=%{y}<extra></extra>",
         "legendgroup": "P087",
         "marker": {
          "color": "#44AA99",
          "pattern": {
           "shape": ""
          }
         },
         "name": "P087",
         "orientation": "v",
         "showlegend": true,
         "textposition": "auto",
         "type": "bar",
         "x": [
          "stomach",
          "small bowel",
          "colon",
          "liver",
          "kidney",
          "spleen",
          "omentum",
          "skin"
         ],
         "xaxis": "x3",
         "y": {
          "bdata": "JCQkJCQkJCQ=",
          "dtype": "i1"
         },
         "yaxis": "y3"
        },
        {
         "hovertemplate": "subject_name=P088<br>species_name=pig<br>label_name=%{x}<br>n_images=%{y}<extra></extra>",
         "legendgroup": "P088",
         "marker": {
          "color": "#44AA99",
          "pattern": {
           "shape": ""
          }
         },
         "name": "P088",
         "orientation": "v",
         "showlegend": true,
         "textposition": "auto",
         "type": "bar",
         "x": [
          "small bowel",
          "liver",
          "pancreas",
          "kidney",
          "spleen",
          "omentum",
          "lung",
          "skin",
          "peritoneum"
         ],
         "xaxis": "x3",
         "y": {
          "bdata": "JCQkJCQkJCQk",
          "dtype": "i1"
         },
         "yaxis": "y3"
        },
        {
         "hovertemplate": "subject_name=P089<br>species_name=pig<br>label_name=%{x}<br>n_images=%{y}<extra></extra>",
         "legendgroup": "P089",
         "marker": {
          "color": "#44AA99",
          "pattern": {
           "shape": ""
          }
         },
         "name": "P089",
         "orientation": "v",
         "showlegend": true,
         "textposition": "auto",
         "type": "bar",
         "x": [
          "small bowel",
          "colon",
          "liver",
          "pancreas",
          "kidney",
          "spleen",
          "lung",
          "skin"
         ],
         "xaxis": "x3",
         "y": {
          "bdata": "JCQkJCQkJCQ=",
          "dtype": "i1"
         },
         "yaxis": "y3"
        },
        {
         "hovertemplate": "subject_name=P090<br>species_name=pig<br>label_name=%{x}<br>n_images=%{y}<extra></extra>",
         "legendgroup": "P090",
         "marker": {
          "color": "#44AA99",
          "pattern": {
           "shape": ""
          }
         },
         "name": "P090",
         "orientation": "v",
         "showlegend": true,
         "textposition": "auto",
         "type": "bar",
         "x": [
          "stomach",
          "small bowel",
          "pancreas",
          "kidney",
          "spleen",
          "omentum",
          "peritoneum"
         ],
         "xaxis": "x3",
         "y": {
          "bdata": "JCQkJCQkJA==",
          "dtype": "i1"
         },
         "yaxis": "y3"
        },
        {
         "hovertemplate": "subject_name=P091<br>species_name=pig<br>label_name=%{x}<br>n_images=%{y}<extra></extra>",
         "legendgroup": "P091",
         "marker": {
          "color": "#44AA99",
          "pattern": {
           "shape": ""
          }
         },
         "name": "P091",
         "orientation": "v",
         "showlegend": true,
         "textposition": "auto",
         "type": "bar",
         "x": [
          "kidney",
          "omentum",
          "lung"
         ],
         "xaxis": "x3",
         "y": {
          "bdata": "DSQk",
          "dtype": "i1"
         },
         "yaxis": "y3"
        },
        {
         "hovertemplate": "subject_name=P092<br>species_name=pig<br>label_name=%{x}<br>n_images=%{y}<extra></extra>",
         "legendgroup": "P092",
         "marker": {
          "color": "#44AA99",
          "pattern": {
           "shape": ""
          }
         },
         "name": "P092",
         "orientation": "v",
         "showlegend": true,
         "textposition": "auto",
         "type": "bar",
         "x": [
          "stomach",
          "colon",
          "pancreas",
          "lung",
          "skin",
          "peritoneum"
         ],
         "xaxis": "x3",
         "y": {
          "bdata": "JCQkJCQk",
          "dtype": "i1"
         },
         "yaxis": "y3"
        },
        {
         "hovertemplate": "subject_name=P093<br>species_name=pig<br>label_name=%{x}<br>n_images=%{y}<extra></extra>",
         "legendgroup": "P093",
         "marker": {
          "color": "#44AA99",
          "pattern": {
           "shape": ""
          }
         },
         "name": "P093",
         "orientation": "v",
         "showlegend": true,
         "textposition": "auto",
         "type": "bar",
         "x": [
          "stomach",
          "colon",
          "liver",
          "pancreas",
          "kidney",
          "spleen",
          "omentum",
          "lung",
          "skin",
          "peritoneum"
         ],
         "xaxis": "x3",
         "y": {
          "bdata": "JCQkJCQkJCQkJA==",
          "dtype": "i1"
         },
         "yaxis": "y3"
        },
        {
         "hovertemplate": "subject_name=P094<br>species_name=pig<br>label_name=%{x}<br>n_images=%{y}<extra></extra>",
         "legendgroup": "P094",
         "marker": {
          "color": "#44AA99",
          "pattern": {
           "shape": ""
          }
         },
         "name": "P094",
         "orientation": "v",
         "showlegend": true,
         "textposition": "auto",
         "type": "bar",
         "x": [
          "stomach",
          "small bowel",
          "colon",
          "liver",
          "pancreas",
          "kidney",
          "spleen",
          "omentum",
          "lung",
          "peritoneum"
         ],
         "xaxis": "x3",
         "y": {
          "bdata": "JCQkJCQkJCQkJA==",
          "dtype": "i1"
         },
         "yaxis": "y3"
        },
        {
         "hovertemplate": "subject_name=P095<br>species_name=pig<br>label_name=%{x}<br>n_images=%{y}<extra></extra>",
         "legendgroup": "P095",
         "marker": {
          "color": "#44AA99",
          "pattern": {
           "shape": ""
          }
         },
         "name": "P095",
         "orientation": "v",
         "showlegend": true,
         "textposition": "auto",
         "type": "bar",
         "x": [
          "stomach",
          "small bowel",
          "colon",
          "liver",
          "pancreas",
          "kidney",
          "spleen",
          "omentum",
          "lung",
          "skin",
          "peritoneum"
         ],
         "xaxis": "x3",
         "y": {
          "bdata": "JCQkJCQ9JCQkJCQ=",
          "dtype": "i1"
         },
         "yaxis": "y3"
        },
        {
         "hovertemplate": "subject_name=P096<br>species_name=pig<br>label_name=%{x}<br>n_images=%{y}<extra></extra>",
         "legendgroup": "P096",
         "marker": {
          "color": "#44AA99",
          "pattern": {
           "shape": ""
          }
         },
         "name": "P096",
         "orientation": "v",
         "showlegend": true,
         "textposition": "auto",
         "type": "bar",
         "x": [
          "stomach",
          "small bowel",
          "colon",
          "liver",
          "kidney",
          "omentum",
          "skin",
          "peritoneum"
         ],
         "xaxis": "x3",
         "y": {
          "bdata": "JCQkJGMkJCQ=",
          "dtype": "i1"
         },
         "yaxis": "y3"
        },
        {
         "hovertemplate": "subject_name=P097<br>species_name=pig<br>label_name=%{x}<br>n_images=%{y}<extra></extra>",
         "legendgroup": "P097",
         "marker": {
          "color": "#44AA99",
          "pattern": {
           "shape": ""
          }
         },
         "name": "P097",
         "orientation": "v",
         "showlegend": true,
         "textposition": "auto",
         "type": "bar",
         "x": [
          "kidney"
         ],
         "xaxis": "x3",
         "y": {
          "bdata": "Mg==",
          "dtype": "i1"
         },
         "yaxis": "y3"
        },
        {
         "hovertemplate": "subject_name=P098<br>species_name=pig<br>label_name=%{x}<br>n_images=%{y}<extra></extra>",
         "legendgroup": "P098",
         "marker": {
          "color": "#44AA99",
          "pattern": {
           "shape": ""
          }
         },
         "name": "P098",
         "orientation": "v",
         "showlegend": true,
         "textposition": "auto",
         "type": "bar",
         "x": [
          "kidney"
         ],
         "xaxis": "x3",
         "y": {
          "bdata": "Nw==",
          "dtype": "i1"
         },
         "yaxis": "y3"
        },
        {
         "hovertemplate": "subject_name=P099<br>species_name=pig<br>label_name=%{x}<br>n_images=%{y}<extra></extra>",
         "legendgroup": "P099",
         "marker": {
          "color": "#44AA99",
          "pattern": {
           "shape": ""
          }
         },
         "name": "P099",
         "orientation": "v",
         "showlegend": true,
         "textposition": "auto",
         "type": "bar",
         "x": [
          "kidney"
         ],
         "xaxis": "x3",
         "y": {
          "bdata": "KQ==",
          "dtype": "i1"
         },
         "yaxis": "y3"
        },
        {
         "hovertemplate": "subject_name=P101<br>species_name=pig<br>label_name=%{x}<br>n_images=%{y}<extra></extra>",
         "legendgroup": "P101",
         "marker": {
          "color": "#44AA99",
          "pattern": {
           "shape": ""
          }
         },
         "name": "P101",
         "orientation": "v",
         "showlegend": true,
         "textposition": "auto",
         "type": "bar",
         "x": [
          "stomach",
          "small bowel",
          "colon",
          "liver",
          "pancreas",
          "kidney",
          "omentum",
          "peritoneum"
         ],
         "xaxis": "x3",
         "y": {
          "bdata": "BgYGBwkGBgg=",
          "dtype": "i1"
         },
         "yaxis": "y3"
        },
        {
         "hovertemplate": "subject_name=P102<br>species_name=pig<br>label_name=%{x}<br>n_images=%{y}<extra></extra>",
         "legendgroup": "P102",
         "marker": {
          "color": "#44AA99",
          "pattern": {
           "shape": ""
          }
         },
         "name": "P102",
         "orientation": "v",
         "showlegend": true,
         "textposition": "auto",
         "type": "bar",
         "x": [
          "stomach",
          "small bowel",
          "colon",
          "liver",
          "pancreas",
          "kidney",
          "omentum",
          "peritoneum"
         ],
         "xaxis": "x3",
         "y": {
          "bdata": "LCYlIwYGCRI=",
          "dtype": "i1"
         },
         "yaxis": "y3"
        },
        {
         "hovertemplate": "subject_name=P103<br>species_name=pig<br>label_name=%{x}<br>n_images=%{y}<extra></extra>",
         "legendgroup": "P103",
         "marker": {
          "color": "#44AA99",
          "pattern": {
           "shape": ""
          }
         },
         "name": "P103",
         "orientation": "v",
         "showlegend": true,
         "textposition": "auto",
         "type": "bar",
         "x": [
          "stomach",
          "small bowel",
          "colon",
          "liver",
          "pancreas",
          "kidney",
          "omentum",
          "peritoneum"
         ],
         "xaxis": "x3",
         "y": {
          "bdata": "Hh4YEgYSBgw=",
          "dtype": "i1"
         },
         "yaxis": "y3"
        },
        {
         "hovertemplate": "subject_name=P104<br>species_name=pig<br>label_name=%{x}<br>n_images=%{y}<extra></extra>",
         "legendgroup": "P104",
         "marker": {
          "color": "#44AA99",
          "pattern": {
           "shape": ""
          }
         },
         "name": "P104",
         "orientation": "v",
         "showlegend": true,
         "textposition": "auto",
         "type": "bar",
         "x": [
          "stomach",
          "small bowel",
          "colon",
          "liver",
          "pancreas",
          "kidney",
          "omentum",
          "peritoneum"
         ],
         "xaxis": "x3",
         "y": {
          "bdata": "DxgPGAYYBiE=",
          "dtype": "i1"
         },
         "yaxis": "y3"
        },
        {
         "hovertemplate": "subject_name=P105<br>species_name=pig<br>label_name=%{x}<br>n_images=%{y}<extra></extra>",
         "legendgroup": "P105",
         "marker": {
          "color": "#44AA99",
          "pattern": {
           "shape": ""
          }
         },
         "name": "P105",
         "orientation": "v",
         "showlegend": true,
         "textposition": "auto",
         "type": "bar",
         "x": [
          "stomach",
          "small bowel",
          "colon",
          "liver",
          "pancreas",
          "kidney",
          "omentum",
          "peritoneum"
         ],
         "xaxis": "x3",
         "y": {
          "bdata": "DxYGGAYVBhU=",
          "dtype": "i1"
         },
         "yaxis": "y3"
        },
        {
         "hovertemplate": "subject_name=P113<br>species_name=pig<br>label_name=%{x}<br>n_images=%{y}<extra></extra>",
         "legendgroup": "P113",
         "marker": {
          "color": "#44AA99",
          "pattern": {
           "shape": ""
          }
         },
         "name": "P113",
         "orientation": "v",
         "showlegend": true,
         "textposition": "auto",
         "type": "bar",
         "x": [
          "stomach",
          "small bowel",
          "colon",
          "liver",
          "pancreas",
          "kidney",
          "omentum",
          "peritoneum"
         ],
         "xaxis": "x3",
         "y": {
          "bdata": "DU8ODwICAhE=",
          "dtype": "i1"
         },
         "yaxis": "y3"
        },
        {
         "hovertemplate": "subject_name=P190<br>species_name=pig<br>label_name=%{x}<br>n_images=%{y}<extra></extra>",
         "legendgroup": "P190",
         "marker": {
          "color": "#44AA99",
          "pattern": {
           "shape": ""
          }
         },
         "name": "P190",
         "orientation": "v",
         "showlegend": true,
         "textposition": "auto",
         "type": "bar",
         "x": [
          "colon",
          "liver",
          "spleen"
         ],
         "xaxis": "x3",
         "y": {
          "bdata": "Gxsb",
          "dtype": "i1"
         },
         "yaxis": "y3"
        },
        {
         "hovertemplate": "subject_name=P191<br>species_name=pig<br>label_name=%{x}<br>n_images=%{y}<extra></extra>",
         "legendgroup": "P191",
         "marker": {
          "color": "#44AA99",
          "pattern": {
           "shape": ""
          }
         },
         "name": "P191",
         "orientation": "v",
         "showlegend": true,
         "textposition": "auto",
         "type": "bar",
         "x": [
          "colon",
          "liver",
          "spleen"
         ],
         "xaxis": "x3",
         "y": {
          "bdata": "KSkp",
          "dtype": "i1"
         },
         "yaxis": "y3"
        },
        {
         "hovertemplate": "subject_name=P192<br>species_name=pig<br>label_name=%{x}<br>n_images=%{y}<extra></extra>",
         "legendgroup": "P192",
         "marker": {
          "color": "#44AA99",
          "pattern": {
           "shape": ""
          }
         },
         "name": "P192",
         "orientation": "v",
         "showlegend": true,
         "textposition": "auto",
         "type": "bar",
         "x": [
          "colon",
          "liver",
          "spleen"
         ],
         "xaxis": "x3",
         "y": {
          "bdata": "Kioq",
          "dtype": "i1"
         },
         "yaxis": "y3"
        },
        {
         "hovertemplate": "subject_name=P193<br>species_name=pig<br>label_name=%{x}<br>n_images=%{y}<extra></extra>",
         "legendgroup": "P193",
         "marker": {
          "color": "#44AA99",
          "pattern": {
           "shape": ""
          }
         },
         "name": "P193",
         "orientation": "v",
         "showlegend": true,
         "textposition": "auto",
         "type": "bar",
         "x": [
          "colon",
          "liver",
          "spleen"
         ],
         "xaxis": "x3",
         "y": {
          "bdata": "Kioq",
          "dtype": "i1"
         },
         "yaxis": "y3"
        },
        {
         "hovertemplate": "subject_name=R002<br>species_name=rat<br>label_name=%{x}<br>n_images=%{y}<extra></extra>",
         "legendgroup": "R002",
         "marker": {
          "color": "#89CCED",
          "pattern": {
           "shape": ""
          }
         },
         "name": "R002",
         "orientation": "v",
         "showlegend": true,
         "textposition": "auto",
         "type": "bar",
         "x": [
          "stomach",
          "small bowel",
          "colon",
          "liver",
          "pancreas",
          "kidney",
          "spleen",
          "omentum",
          "lung",
          "skin",
          "peritoneum",
          "background"
         ],
         "xaxis": "x2",
         "y": {
          "bdata": "MEU1RCUkNzAkS0wz",
          "dtype": "i1"
         },
         "yaxis": "y2"
        },
        {
         "hovertemplate": "subject_name=R003<br>species_name=rat<br>label_name=%{x}<br>n_images=%{y}<extra></extra>",
         "legendgroup": "R003",
         "marker": {
          "color": "#89CCED",
          "pattern": {
           "shape": ""
          }
         },
         "name": "R003",
         "orientation": "v",
         "showlegend": true,
         "textposition": "auto",
         "type": "bar",
         "x": [
          "stomach",
          "small bowel",
          "colon",
          "liver",
          "pancreas",
          "kidney",
          "spleen",
          "omentum",
          "lung",
          "skin",
          "peritoneum",
          "background"
         ],
         "xaxis": "x2",
         "y": {
          "bdata": "OEkrRCRROjIjNkkz",
          "dtype": "i1"
         },
         "yaxis": "y2"
        },
        {
         "hovertemplate": "subject_name=R014<br>species_name=rat<br>label_name=%{x}<br>n_images=%{y}<extra></extra>",
         "legendgroup": "R014",
         "marker": {
          "color": "#89CCED",
          "pattern": {
           "shape": ""
          }
         },
         "name": "R014",
         "orientation": "v",
         "showlegend": true,
         "textposition": "auto",
         "type": "bar",
         "x": [
          "stomach",
          "small bowel",
          "colon",
          "liver",
          "pancreas",
          "kidney",
          "spleen",
          "omentum",
          "lung",
          "skin",
          "peritoneum",
          "background"
         ],
         "xaxis": "x2",
         "y": {
          "bdata": "LEEyQCRTLSwkO0Uv",
          "dtype": "i1"
         },
         "yaxis": "y2"
        },
        {
         "hovertemplate": "subject_name=R015<br>species_name=rat<br>label_name=%{x}<br>n_images=%{y}<extra></extra>",
         "legendgroup": "R015",
         "marker": {
          "color": "#89CCED",
          "pattern": {
           "shape": ""
          }
         },
         "name": "R015",
         "orientation": "v",
         "showlegend": true,
         "textposition": "auto",
         "type": "bar",
         "x": [
          "stomach",
          "small bowel",
          "colon",
          "liver",
          "pancreas",
          "kidney",
          "spleen",
          "omentum",
          "lung",
          "skin",
          "peritoneum",
          "background"
         ],
         "xaxis": "x2",
         "y": {
          "bdata": "KD4wPSRSLSokN0At",
          "dtype": "i1"
         },
         "yaxis": "y2"
        },
        {
         "hovertemplate": "subject_name=R016<br>species_name=rat<br>label_name=%{x}<br>n_images=%{y}<extra></extra>",
         "legendgroup": "R016",
         "marker": {
          "color": "#89CCED",
          "pattern": {
           "shape": ""
          }
         },
         "name": "R016",
         "orientation": "v",
         "showlegend": true,
         "textposition": "auto",
         "type": "bar",
         "x": [
          "stomach",
          "small bowel",
          "colon",
          "liver",
          "pancreas",
          "kidney",
          "spleen",
          "omentum",
          "lung",
          "skin",
          "peritoneum",
          "background"
         ],
         "xaxis": "x2",
         "y": {
          "bdata": "Lzw2NyRTLC0kMUAt",
          "dtype": "i1"
         },
         "yaxis": "y2"
        },
        {
         "hovertemplate": "subject_name=R017<br>species_name=rat<br>label_name=%{x}<br>n_images=%{y}<extra></extra>",
         "legendgroup": "R017",
         "marker": {
          "color": "#89CCED",
          "pattern": {
           "shape": ""
          }
         },
         "name": "R017",
         "orientation": "v",
         "showlegend": true,
         "textposition": "auto",
         "type": "bar",
         "x": [
          "stomach",
          "small bowel",
          "colon",
          "liver",
          "pancreas",
          "kidney",
          "spleen",
          "omentum",
          "lung",
          "skin",
          "peritoneum",
          "background"
         ],
         "xaxis": "x2",
         "y": {
          "bdata": "KzsyPiRSLywkQkMt",
          "dtype": "i1"
         },
         "yaxis": "y2"
        },
        {
         "hovertemplate": "subject_name=R018<br>species_name=rat<br>label_name=%{x}<br>n_images=%{y}<extra></extra>",
         "legendgroup": "R018",
         "marker": {
          "color": "#89CCED",
          "pattern": {
           "shape": ""
          }
         },
         "name": "R018",
         "orientation": "v",
         "showlegend": true,
         "textposition": "auto",
         "type": "bar",
         "x": [
          "stomach",
          "small bowel",
          "colon",
          "liver",
          "pancreas",
          "kidney",
          "spleen",
          "omentum",
          "lung",
          "skin",
          "peritoneum",
          "background"
         ],
         "xaxis": "x2",
         "y": {
          "bdata": "NDs1OCZVLzEkPz8s",
          "dtype": "i1"
         },
         "yaxis": "y2"
        },
        {
         "hovertemplate": "subject_name=R019<br>species_name=rat<br>label_name=%{x}<br>n_images=%{y}<extra></extra>",
         "legendgroup": "R019",
         "marker": {
          "color": "#89CCED",
          "pattern": {
           "shape": ""
          }
         },
         "name": "R019",
         "orientation": "v",
         "showlegend": true,
         "textposition": "auto",
         "type": "bar",
         "x": [
          "stomach",
          "small bowel",
          "colon",
          "liver",
          "pancreas",
          "kidney",
          "spleen",
          "omentum",
          "lung",
          "skin",
          "peritoneum",
          "background"
         ],
         "xaxis": "x2",
         "y": {
          "bdata": "MT4zNiVVMjEkQkEt",
          "dtype": "i1"
         },
         "yaxis": "y2"
        },
        {
         "hovertemplate": "subject_name=R020<br>species_name=rat<br>label_name=%{x}<br>n_images=%{y}<extra></extra>",
         "legendgroup": "R020",
         "marker": {
          "color": "#89CCED",
          "pattern": {
           "shape": ""
          }
         },
         "name": "R020",
         "orientation": "v",
         "showlegend": true,
         "textposition": "auto",
         "type": "bar",
         "x": [
          "stomach",
          "small bowel",
          "colon",
          "liver",
          "pancreas",
          "kidney",
          "spleen",
          "omentum",
          "lung",
          "skin",
          "peritoneum",
          "background"
         ],
         "xaxis": "x2",
         "y": {
          "bdata": "LzwoNiZXLS0kREAt",
          "dtype": "i1"
         },
         "yaxis": "y2"
        },
        {
         "hovertemplate": "subject_name=R021<br>species_name=rat<br>label_name=%{x}<br>n_images=%{y}<extra></extra>",
         "legendgroup": "R021",
         "marker": {
          "color": "#89CCED",
          "pattern": {
           "shape": ""
          }
         },
         "name": "R021",
         "orientation": "v",
         "showlegend": true,
         "textposition": "auto",
         "type": "bar",
         "x": [
          "stomach",
          "small bowel",
          "colon",
          "liver",
          "pancreas",
          "kidney",
          "spleen",
          "omentum",
          "lung",
          "skin",
          "peritoneum",
          "background"
         ],
         "xaxis": "x2",
         "y": {
          "bdata": "JzcrNCVXJiYkREAs",
          "dtype": "i1"
         },
         "yaxis": "y2"
        },
        {
         "hovertemplate": "subject_name=R022<br>species_name=rat<br>label_name=%{x}<br>n_images=%{y}<extra></extra>",
         "legendgroup": "R022",
         "marker": {
          "color": "#89CCED",
          "pattern": {
           "shape": ""
          }
         },
         "name": "R022",
         "orientation": "v",
         "showlegend": true,
         "textposition": "auto",
         "type": "bar",
         "x": [
          "stomach",
          "small bowel",
          "colon",
          "liver",
          "pancreas",
          "kidney",
          "spleen",
          "omentum",
          "lung",
          "skin",
          "peritoneum",
          "background"
         ],
         "xaxis": "x2",
         "y": {
          "bdata": "MjssNChWLy4kPz8t",
          "dtype": "i1"
         },
         "yaxis": "y2"
        },
        {
         "hovertemplate": "subject_name=R023<br>species_name=rat<br>label_name=%{x}<br>n_images=%{y}<extra></extra>",
         "legendgroup": "R023",
         "marker": {
          "color": "#89CCED",
          "pattern": {
           "shape": ""
          }
         },
         "name": "R023",
         "orientation": "v",
         "showlegend": true,
         "textposition": "auto",
         "type": "bar",
         "x": [
          "stomach",
          "small bowel",
          "colon",
          "liver",
          "pancreas",
          "kidney",
          "spleen",
          "omentum",
          "lung",
          "skin",
          "peritoneum",
          "background"
         ],
         "xaxis": "x2",
         "y": {
          "bdata": "LDwyMyVSKCwkSj8t",
          "dtype": "i1"
         },
         "yaxis": "y2"
        },
        {
         "hovertemplate": "subject_name=R024<br>species_name=rat<br>label_name=%{x}<br>n_images=%{y}<extra></extra>",
         "legendgroup": "R024",
         "marker": {
          "color": "#89CCED",
          "pattern": {
           "shape": ""
          }
         },
         "name": "R024",
         "orientation": "v",
         "showlegend": true,
         "textposition": "auto",
         "type": "bar",
         "x": [
          "stomach",
          "small bowel",
          "colon",
          "liver",
          "pancreas",
          "kidney",
          "spleen",
          "omentum",
          "lung",
          "skin",
          "peritoneum",
          "background"
         ],
         "xaxis": "x2",
         "y": {
          "bdata": "MTsrPSRVKjAkSUEt",
          "dtype": "i1"
         },
         "yaxis": "y2"
        },
        {
         "hovertemplate": "subject_name=R025<br>species_name=rat<br>label_name=%{x}<br>n_images=%{y}<extra></extra>",
         "legendgroup": "R025",
         "marker": {
          "color": "#89CCED",
          "pattern": {
           "shape": ""
          }
         },
         "name": "R025",
         "orientation": "v",
         "showlegend": true,
         "textposition": "auto",
         "type": "bar",
         "x": [
          "colon",
          "liver",
          "kidney",
          "spleen"
         ],
         "xaxis": "x2",
         "y": {
          "bdata": "YmJiYg==",
          "dtype": "i1"
         },
         "yaxis": "y2"
        },
        {
         "hovertemplate": "subject_name=R027<br>species_name=rat<br>label_name=%{x}<br>n_images=%{y}<extra></extra>",
         "legendgroup": "R027",
         "marker": {
          "color": "#89CCED",
          "pattern": {
           "shape": ""
          }
         },
         "name": "R027",
         "orientation": "v",
         "showlegend": true,
         "textposition": "auto",
         "type": "bar",
         "x": [
          "colon",
          "liver",
          "kidney",
          "spleen"
         ],
         "xaxis": "x2",
         "y": {
          "bdata": "ODg4OA==",
          "dtype": "i1"
         },
         "yaxis": "y2"
        },
        {
         "hovertemplate": "subject_name=R028<br>species_name=rat<br>label_name=%{x}<br>n_images=%{y}<extra></extra>",
         "legendgroup": "R028",
         "marker": {
          "color": "#89CCED",
          "pattern": {
           "shape": ""
          }
         },
         "name": "R028",
         "orientation": "v",
         "showlegend": true,
         "textposition": "auto",
         "type": "bar",
         "x": [
          "colon",
          "liver",
          "kidney",
          "spleen"
         ],
         "xaxis": "x2",
         "y": {
          "bdata": "WVlZWQ==",
          "dtype": "i1"
         },
         "yaxis": "y2"
        },
        {
         "hovertemplate": "subject_name=R029<br>species_name=rat<br>label_name=%{x}<br>n_images=%{y}<extra></extra>",
         "legendgroup": "R029",
         "marker": {
          "color": "#89CCED",
          "pattern": {
           "shape": ""
          }
         },
         "name": "R029",
         "orientation": "v",
         "showlegend": true,
         "textposition": "auto",
         "type": "bar",
         "x": [
          "colon",
          "liver",
          "kidney",
          "spleen"
         ],
         "xaxis": "x2",
         "y": {
          "bdata": "WVlZWQ==",
          "dtype": "i1"
         },
         "yaxis": "y2"
        },
        {
         "hovertemplate": "subject_name=R030<br>species_name=rat<br>label_name=%{x}<br>n_images=%{y}<extra></extra>",
         "legendgroup": "R030",
         "marker": {
          "color": "#89CCED",
          "pattern": {
           "shape": ""
          }
         },
         "name": "R030",
         "orientation": "v",
         "showlegend": true,
         "textposition": "auto",
         "type": "bar",
         "x": [
          "colon",
          "liver",
          "kidney",
          "spleen"
         ],
         "xaxis": "x2",
         "y": {
          "bdata": "WVlZWQ==",
          "dtype": "i1"
         },
         "yaxis": "y2"
        },
        {
         "hovertemplate": "subject_name=R031<br>species_name=rat<br>label_name=%{x}<br>n_images=%{y}<extra></extra>",
         "legendgroup": "R031",
         "marker": {
          "color": "#89CCED",
          "pattern": {
           "shape": ""
          }
         },
         "name": "R031",
         "orientation": "v",
         "showlegend": true,
         "textposition": "auto",
         "type": "bar",
         "x": [
          "colon",
          "liver",
          "kidney",
          "spleen"
         ],
         "xaxis": "x2",
         "y": {
          "bdata": "WVhZWQ==",
          "dtype": "i1"
         },
         "yaxis": "y2"
        },
        {
         "hovertemplate": "subject_name=R032<br>species_name=rat<br>label_name=%{x}<br>n_images=%{y}<extra></extra>",
         "legendgroup": "R032",
         "marker": {
          "color": "#89CCED",
          "pattern": {
           "shape": ""
          }
         },
         "name": "R032",
         "orientation": "v",
         "showlegend": true,
         "textposition": "auto",
         "type": "bar",
         "x": [
          "colon",
          "liver",
          "kidney",
          "spleen"
         ],
         "xaxis": "x2",
         "y": {
          "bdata": "WVhZWQ==",
          "dtype": "i1"
         },
         "yaxis": "y2"
        },
        {
         "hovertemplate": "subject_name=R033<br>species_name=rat<br>label_name=%{x}<br>n_images=%{y}<extra></extra>",
         "legendgroup": "R033",
         "marker": {
          "color": "#89CCED",
          "pattern": {
           "shape": ""
          }
         },
         "name": "R033",
         "orientation": "v",
         "showlegend": true,
         "textposition": "auto",
         "type": "bar",
         "x": [
          "colon",
          "liver",
          "kidney",
          "spleen"
         ],
         "xaxis": "x2",
         "y": {
          "bdata": "tACyALQAtAA=",
          "dtype": "i2"
         },
         "yaxis": "y2"
        },
        {
         "hovertemplate": "subject_name=R034<br>species_name=rat<br>label_name=%{x}<br>n_images=%{y}<extra></extra>",
         "legendgroup": "R034",
         "marker": {
          "color": "#89CCED",
          "pattern": {
           "shape": ""
          }
         },
         "name": "R034",
         "orientation": "v",
         "showlegend": true,
         "textposition": "auto",
         "type": "bar",
         "x": [
          "colon",
          "liver",
          "kidney",
          "spleen"
         ],
         "xaxis": "x2",
         "y": {
          "bdata": "WVlZWQ==",
          "dtype": "i1"
         },
         "yaxis": "y2"
        },
        {
         "hovertemplate": "subject_name=R035<br>species_name=rat<br>label_name=%{x}<br>n_images=%{y}<extra></extra>",
         "legendgroup": "R035",
         "marker": {
          "color": "#89CCED",
          "pattern": {
           "shape": ""
          }
         },
         "name": "R035",
         "orientation": "v",
         "showlegend": true,
         "textposition": "auto",
         "type": "bar",
         "x": [
          "colon",
          "liver",
          "kidney",
          "spleen"
         ],
         "xaxis": "x2",
         "y": {
          "bdata": "WltbWw==",
          "dtype": "i1"
         },
         "yaxis": "y2"
        },
        {
         "hovertemplate": "subject_name=R036<br>species_name=rat<br>label_name=%{x}<br>n_images=%{y}<extra></extra>",
         "legendgroup": "R036",
         "marker": {
          "color": "#89CCED",
          "pattern": {
           "shape": ""
          }
         },
         "name": "R036",
         "orientation": "v",
         "showlegend": true,
         "textposition": "auto",
         "type": "bar",
         "x": [
          "colon",
          "liver",
          "kidney",
          "spleen"
         ],
         "xaxis": "x2",
         "y": {
          "bdata": "WVlZWQ==",
          "dtype": "i1"
         },
         "yaxis": "y2"
        },
        {
         "hovertemplate": "subject_name=R043<br>species_name=rat<br>label_name=%{x}<br>n_images=%{y}<extra></extra>",
         "legendgroup": "R043",
         "marker": {
          "color": "#89CCED",
          "pattern": {
           "shape": ""
          }
         },
         "name": "R043",
         "orientation": "v",
         "showlegend": true,
         "textposition": "auto",
         "type": "bar",
         "x": [
          "stomach",
          "small bowel",
          "colon",
          "liver",
          "pancreas",
          "kidney",
          "omentum",
          "peritoneum"
         ],
         "xaxis": "x2",
         "y": {
          "bdata": "EQERAREBDgEQAQwBEQERAQ==",
          "dtype": "i2"
         },
         "yaxis": "y2"
        },
        {
         "hovertemplate": "subject_name=R044<br>species_name=rat<br>label_name=%{x}<br>n_images=%{y}<extra></extra>",
         "legendgroup": "R044",
         "marker": {
          "color": "#89CCED",
          "pattern": {
           "shape": ""
          }
         },
         "name": "R044",
         "orientation": "v",
         "showlegend": true,
         "textposition": "auto",
         "type": "bar",
         "x": [
          "stomach",
          "small bowel",
          "colon",
          "liver",
          "pancreas",
          "kidney",
          "omentum",
          "peritoneum"
         ],
         "xaxis": "x2",
         "y": {
          "bdata": "Hx8fHx8fHx8=",
          "dtype": "i1"
         },
         "yaxis": "y2"
        },
        {
         "hovertemplate": "subject_name=R045<br>species_name=rat<br>label_name=%{x}<br>n_images=%{y}<extra></extra>",
         "legendgroup": "R045",
         "marker": {
          "color": "#89CCED",
          "pattern": {
           "shape": ""
          }
         },
         "name": "R045",
         "orientation": "v",
         "showlegend": true,
         "textposition": "auto",
         "type": "bar",
         "x": [
          "stomach",
          "small bowel",
          "colon",
          "liver",
          "pancreas",
          "kidney",
          "omentum",
          "peritoneum"
         ],
         "xaxis": "x2",
         "y": {
          "bdata": "wgDCAMIAwgDCAMIAwQDCAA==",
          "dtype": "i2"
         },
         "yaxis": "y2"
        },
        {
         "hovertemplate": "subject_name=R046<br>species_name=rat<br>label_name=%{x}<br>n_images=%{y}<extra></extra>",
         "legendgroup": "R046",
         "marker": {
          "color": "#89CCED",
          "pattern": {
           "shape": ""
          }
         },
         "name": "R046",
         "orientation": "v",
         "showlegend": true,
         "textposition": "auto",
         "type": "bar",
         "x": [
          "stomach",
          "small bowel",
          "colon",
          "liver",
          "pancreas",
          "kidney",
          "omentum",
          "peritoneum"
         ],
         "xaxis": "x2",
         "y": {
          "bdata": "1wDXANcAvgDXANcA1wDXAA==",
          "dtype": "i2"
         },
         "yaxis": "y2"
        },
        {
         "hovertemplate": "subject_name=R047<br>species_name=rat<br>label_name=%{x}<br>n_images=%{y}<extra></extra>",
         "legendgroup": "R047",
         "marker": {
          "color": "#89CCED",
          "pattern": {
           "shape": ""
          }
         },
         "name": "R047",
         "orientation": "v",
         "showlegend": true,
         "textposition": "auto",
         "type": "bar",
         "x": [
          "stomach",
          "small bowel",
          "colon",
          "liver",
          "pancreas",
          "kidney",
          "omentum",
          "peritoneum"
         ],
         "xaxis": "x2",
         "y": {
          "bdata": "0wDTANMA0wDTANMA0wDTAA==",
          "dtype": "i2"
         },
         "yaxis": "y2"
        },
        {
         "hovertemplate": "subject_name=R048<br>species_name=rat<br>label_name=%{x}<br>n_images=%{y}<extra></extra>",
         "legendgroup": "R048",
         "marker": {
          "color": "#89CCED",
          "pattern": {
           "shape": ""
          }
         },
         "name": "R048",
         "orientation": "v",
         "showlegend": true,
         "textposition": "auto",
         "type": "bar",
         "x": [
          "stomach",
          "small bowel",
          "colon",
          "liver",
          "pancreas",
          "kidney",
          "omentum",
          "peritoneum"
         ],
         "xaxis": "x2",
         "y": {
          "bdata": "1QDVANUA1QDUANUA1QDVAA==",
          "dtype": "i2"
         },
         "yaxis": "y2"
        },
        {
         "hovertemplate": "subject_name=SPACE_000001<br>species_name=human<br>label_name=%{x}<br>n_images=%{y}<extra></extra>",
         "legendgroup": "SPACE_000001",
         "marker": {
          "color": "#DDCB76",
          "pattern": {
           "shape": ""
          }
         },
         "name": "SPACE_000001",
         "orientation": "v",
         "showlegend": true,
         "textposition": "auto",
         "type": "bar",
         "x": [
          "stomach",
          "small bowel",
          "colon",
          "liver",
          "spleen",
          "omentum",
          "skin",
          "background"
         ],
         "xaxis": "x",
         "y": {
          "bdata": "BgEBBgIHBgc=",
          "dtype": "i1"
         },
         "yaxis": "y"
        },
        {
         "hovertemplate": "subject_name=SPACE_000002<br>species_name=human<br>label_name=%{x}<br>n_images=%{y}<extra></extra>",
         "legendgroup": "SPACE_000002",
         "marker": {
          "color": "#DDCB76",
          "pattern": {
           "shape": ""
          }
         },
         "name": "SPACE_000002",
         "orientation": "v",
         "showlegend": true,
         "textposition": "auto",
         "type": "bar",
         "x": [
          "stomach",
          "colon",
          "liver",
          "omentum",
          "skin",
          "background"
         ],
         "xaxis": "x",
         "y": {
          "bdata": "AQECAgEC",
          "dtype": "i1"
         },
         "yaxis": "y"
        },
        {
         "hovertemplate": "subject_name=SPACE_000003<br>species_name=human<br>label_name=%{x}<br>n_images=%{y}<extra></extra>",
         "legendgroup": "SPACE_000003",
         "marker": {
          "color": "#DDCB76",
          "pattern": {
           "shape": ""
          }
         },
         "name": "SPACE_000003",
         "orientation": "v",
         "showlegend": true,
         "textposition": "auto",
         "type": "bar",
         "x": [
          "small bowel",
          "colon",
          "liver",
          "spleen",
          "background"
         ],
         "xaxis": "x",
         "y": {
          "bdata": "AQECAQI=",
          "dtype": "i1"
         },
         "yaxis": "y"
        },
        {
         "hovertemplate": "subject_name=SPACE_000004<br>species_name=human<br>label_name=%{x}<br>n_images=%{y}<extra></extra>",
         "legendgroup": "SPACE_000004",
         "marker": {
          "color": "#DDCB76",
          "pattern": {
           "shape": ""
          }
         },
         "name": "SPACE_000004",
         "orientation": "v",
         "showlegend": true,
         "textposition": "auto",
         "type": "bar",
         "x": [
          "stomach",
          "colon",
          "liver",
          "omentum",
          "background"
         ],
         "xaxis": "x",
         "y": {
          "bdata": "AQEBAgI=",
          "dtype": "i1"
         },
         "yaxis": "y"
        },
        {
         "hovertemplate": "subject_name=SPACE_000005<br>species_name=human<br>label_name=%{x}<br>n_images=%{y}<extra></extra>",
         "legendgroup": "SPACE_000005",
         "marker": {
          "color": "#DDCB76",
          "pattern": {
           "shape": ""
          }
         },
         "name": "SPACE_000005",
         "orientation": "v",
         "showlegend": true,
         "textposition": "auto",
         "type": "bar",
         "x": [
          "kidney"
         ],
         "xaxis": "x",
         "y": {
          "bdata": "AQ==",
          "dtype": "i1"
         },
         "yaxis": "y"
        },
        {
         "hovertemplate": "subject_name=SPACE_000006<br>species_name=human<br>label_name=%{x}<br>n_images=%{y}<extra></extra>",
         "legendgroup": "SPACE_000006",
         "marker": {
          "color": "#DDCB76",
          "pattern": {
           "shape": ""
          }
         },
         "name": "SPACE_000006",
         "orientation": "v",
         "showlegend": true,
         "textposition": "auto",
         "type": "bar",
         "x": [
          "stomach",
          "small bowel",
          "liver",
          "spleen",
          "omentum",
          "peritoneum",
          "background"
         ],
         "xaxis": "x",
         "y": {
          "bdata": "BQIKFAUBBQ==",
          "dtype": "i1"
         },
         "yaxis": "y"
        },
        {
         "hovertemplate": "subject_name=SPACE_000008<br>species_name=human<br>label_name=%{x}<br>n_images=%{y}<extra></extra>",
         "legendgroup": "SPACE_000008",
         "marker": {
          "color": "#DDCB76",
          "pattern": {
           "shape": ""
          }
         },
         "name": "SPACE_000008",
         "orientation": "v",
         "showlegend": true,
         "textposition": "auto",
         "type": "bar",
         "x": [
          "stomach",
          "small bowel",
          "liver",
          "omentum",
          "background"
         ],
         "xaxis": "x",
         "y": {
          "bdata": "AgIJAgI=",
          "dtype": "i1"
         },
         "yaxis": "y"
        },
        {
         "hovertemplate": "subject_name=SPACE_000009<br>species_name=human<br>label_name=%{x}<br>n_images=%{y}<extra></extra>",
         "legendgroup": "SPACE_000009",
         "marker": {
          "color": "#DDCB76",
          "pattern": {
           "shape": ""
          }
         },
         "name": "SPACE_000009",
         "orientation": "v",
         "showlegend": true,
         "textposition": "auto",
         "type": "bar",
         "x": [
          "stomach",
          "small bowel",
          "liver",
          "omentum",
          "skin",
          "background"
         ],
         "xaxis": "x",
         "y": {
          "bdata": "AQICAgIC",
          "dtype": "i1"
         },
         "yaxis": "y"
        },
        {
         "hovertemplate": "subject_name=SPACE_000010<br>species_name=human<br>label_name=%{x}<br>n_images=%{y}<extra></extra>",
         "legendgroup": "SPACE_000010",
         "marker": {
          "color": "#DDCB76",
          "pattern": {
           "shape": ""
          }
         },
         "name": "SPACE_000010",
         "orientation": "v",
         "showlegend": true,
         "textposition": "auto",
         "type": "bar",
         "x": [
          "small bowel",
          "colon",
          "skin",
          "background"
         ],
         "xaxis": "x",
         "y": {
          "bdata": "AgECAg==",
          "dtype": "i1"
         },
         "yaxis": "y"
        },
        {
         "hovertemplate": "subject_name=SPACE_000011<br>species_name=human<br>label_name=%{x}<br>n_images=%{y}<extra></extra>",
         "legendgroup": "SPACE_000011",
         "marker": {
          "color": "#DDCB76",
          "pattern": {
           "shape": ""
          }
         },
         "name": "SPACE_000011",
         "orientation": "v",
         "showlegend": true,
         "textposition": "auto",
         "type": "bar",
         "x": [
          "stomach",
          "small bowel",
          "colon",
          "liver",
          "omentum",
          "skin",
          "background"
         ],
         "xaxis": "x",
         "y": {
          "bdata": "CwwCCgkHDA==",
          "dtype": "i1"
         },
         "yaxis": "y"
        },
        {
         "hovertemplate": "subject_name=SPACE_000012<br>species_name=human<br>label_name=%{x}<br>n_images=%{y}<extra></extra>",
         "legendgroup": "SPACE_000012",
         "marker": {
          "color": "#DDCB76",
          "pattern": {
           "shape": ""
          }
         },
         "name": "SPACE_000012",
         "orientation": "v",
         "showlegend": true,
         "textposition": "auto",
         "type": "bar",
         "x": [
          "stomach",
          "small bowel",
          "colon",
          "liver",
          "pancreas",
          "omentum",
          "skin",
          "peritoneum",
          "background"
         ],
         "xaxis": "x",
         "y": {
          "bdata": "AQkJCgIIAggL",
          "dtype": "i1"
         },
         "yaxis": "y"
        },
        {
         "hovertemplate": "subject_name=SPACE_000013<br>species_name=human<br>label_name=%{x}<br>n_images=%{y}<extra></extra>",
         "legendgroup": "SPACE_000013",
         "marker": {
          "color": "#DDCB76",
          "pattern": {
           "shape": ""
          }
         },
         "name": "SPACE_000013",
         "orientation": "v",
         "showlegend": true,
         "textposition": "auto",
         "type": "bar",
         "x": [
          "stomach",
          "small bowel",
          "omentum",
          "background"
         ],
         "xaxis": "x",
         "y": {
          "bdata": "AgICAg==",
          "dtype": "i1"
         },
         "yaxis": "y"
        },
        {
         "hovertemplate": "subject_name=SPACE_000014<br>species_name=human<br>label_name=%{x}<br>n_images=%{y}<extra></extra>",
         "legendgroup": "SPACE_000014",
         "marker": {
          "color": "#DDCB76",
          "pattern": {
           "shape": ""
          }
         },
         "name": "SPACE_000014",
         "orientation": "v",
         "showlegend": true,
         "textposition": "auto",
         "type": "bar",
         "x": [
          "stomach",
          "small bowel",
          "colon",
          "liver",
          "pancreas",
          "spleen",
          "omentum",
          "peritoneum",
          "background"
         ],
         "xaxis": "x",
         "y": {
          "bdata": "BQMBCwIDBAEG",
          "dtype": "i1"
         },
         "yaxis": "y"
        },
        {
         "hovertemplate": "subject_name=SPACE_000015<br>species_name=human<br>label_name=%{x}<br>n_images=%{y}<extra></extra>",
         "legendgroup": "SPACE_000015",
         "marker": {
          "color": "#DDCB76",
          "pattern": {
           "shape": ""
          }
         },
         "name": "SPACE_000015",
         "orientation": "v",
         "showlegend": true,
         "textposition": "auto",
         "type": "bar",
         "x": [
          "colon",
          "liver",
          "omentum",
          "skin",
          "background"
         ],
         "xaxis": "x",
         "y": {
          "bdata": "AQICAgI=",
          "dtype": "i1"
         },
         "yaxis": "y"
        },
        {
         "hovertemplate": "subject_name=SPACE_000016<br>species_name=human<br>label_name=%{x}<br>n_images=%{y}<extra></extra>",
         "legendgroup": "SPACE_000016",
         "marker": {
          "color": "#DDCB76",
          "pattern": {
           "shape": ""
          }
         },
         "name": "SPACE_000016",
         "orientation": "v",
         "showlegend": true,
         "textposition": "auto",
         "type": "bar",
         "x": [
          "small bowel",
          "skin",
          "background"
         ],
         "xaxis": "x",
         "y": {
          "bdata": "AgIC",
          "dtype": "i1"
         },
         "yaxis": "y"
        },
        {
         "hovertemplate": "subject_name=SPACE_000017<br>species_name=human<br>label_name=%{x}<br>n_images=%{y}<extra></extra>",
         "legendgroup": "SPACE_000017",
         "marker": {
          "color": "#DDCB76",
          "pattern": {
           "shape": ""
          }
         },
         "name": "SPACE_000017",
         "orientation": "v",
         "showlegend": true,
         "textposition": "auto",
         "type": "bar",
         "x": [
          "stomach",
          "small bowel",
          "colon",
          "liver",
          "omentum",
          "lung",
          "skin",
          "background"
         ],
         "xaxis": "x",
         "y": {
          "bdata": "AQICAgEEBQU=",
          "dtype": "i1"
         },
         "yaxis": "y"
        },
        {
         "hovertemplate": "subject_name=SPACE_000018<br>species_name=human<br>label_name=%{x}<br>n_images=%{y}<extra></extra>",
         "legendgroup": "SPACE_000018",
         "marker": {
          "color": "#DDCB76",
          "pattern": {
           "shape": ""
          }
         },
         "name": "SPACE_000018",
         "orientation": "v",
         "showlegend": true,
         "textposition": "auto",
         "type": "bar",
         "x": [
          "colon",
          "liver",
          "omentum",
          "skin",
          "background"
         ],
         "xaxis": "x",
         "y": {
          "bdata": "AQkCAQI=",
          "dtype": "i1"
         },
         "yaxis": "y"
        },
        {
         "hovertemplate": "subject_name=SPACE_000019<br>species_name=human<br>label_name=%{x}<br>n_images=%{y}<extra></extra>",
         "legendgroup": "SPACE_000019",
         "marker": {
          "color": "#DDCB76",
          "pattern": {
           "shape": ""
          }
         },
         "name": "SPACE_000019",
         "orientation": "v",
         "showlegend": true,
         "textposition": "auto",
         "type": "bar",
         "x": [
          "stomach",
          "small bowel",
          "liver",
          "spleen",
          "omentum",
          "background"
         ],
         "xaxis": "x",
         "y": {
          "bdata": "BAsLAwkL",
          "dtype": "i1"
         },
         "yaxis": "y"
        },
        {
         "hovertemplate": "subject_name=SPACE_000020<br>species_name=human<br>label_name=%{x}<br>n_images=%{y}<extra></extra>",
         "legendgroup": "SPACE_000020",
         "marker": {
          "color": "#DDCB76",
          "pattern": {
           "shape": ""
          }
         },
         "name": "SPACE_000020",
         "orientation": "v",
         "showlegend": true,
         "textposition": "auto",
         "type": "bar",
         "x": [
          "kidney",
          "skin",
          "background"
         ],
         "xaxis": "x",
         "y": {
          "bdata": "AQIC",
          "dtype": "i1"
         },
         "yaxis": "y"
        },
        {
         "hovertemplate": "subject_name=SPACE_000021<br>species_name=human<br>label_name=%{x}<br>n_images=%{y}<extra></extra>",
         "legendgroup": "SPACE_000021",
         "marker": {
          "color": "#DDCB76",
          "pattern": {
           "shape": ""
          }
         },
         "name": "SPACE_000021",
         "orientation": "v",
         "showlegend": true,
         "textposition": "auto",
         "type": "bar",
         "x": [
          "stomach",
          "small bowel",
          "colon",
          "liver",
          "omentum",
          "background"
         ],
         "xaxis": "x",
         "y": {
          "bdata": "AQICAgIC",
          "dtype": "i1"
         },
         "yaxis": "y"
        },
        {
         "hovertemplate": "subject_name=SPACE_000022<br>species_name=human<br>label_name=%{x}<br>n_images=%{y}<extra></extra>",
         "legendgroup": "SPACE_000022",
         "marker": {
          "color": "#DDCB76",
          "pattern": {
           "shape": ""
          }
         },
         "name": "SPACE_000022",
         "orientation": "v",
         "showlegend": true,
         "textposition": "auto",
         "type": "bar",
         "x": [
          "stomach",
          "small bowel",
          "liver",
          "omentum",
          "background"
         ],
         "xaxis": "x",
         "y": {
          "bdata": "AQEBAgI=",
          "dtype": "i1"
         },
         "yaxis": "y"
        },
        {
         "hovertemplate": "subject_name=SPACE_000023<br>species_name=human<br>label_name=%{x}<br>n_images=%{y}<extra></extra>",
         "legendgroup": "SPACE_000023",
         "marker": {
          "color": "#DDCB76",
          "pattern": {
           "shape": ""
          }
         },
         "name": "SPACE_000023",
         "orientation": "v",
         "showlegend": true,
         "textposition": "auto",
         "type": "bar",
         "x": [
          "stomach",
          "colon",
          "liver",
          "omentum",
          "peritoneum",
          "background"
         ],
         "xaxis": "x",
         "y": {
          "bdata": "AgEEAgEC",
          "dtype": "i1"
         },
         "yaxis": "y"
        },
        {
         "hovertemplate": "subject_name=SPACE_000024<br>species_name=human<br>label_name=%{x}<br>n_images=%{y}<extra></extra>",
         "legendgroup": "SPACE_000024",
         "marker": {
          "color": "#DDCB76",
          "pattern": {
           "shape": ""
          }
         },
         "name": "SPACE_000024",
         "orientation": "v",
         "showlegend": true,
         "textposition": "auto",
         "type": "bar",
         "x": [
          "colon",
          "liver",
          "spleen",
          "omentum",
          "background"
         ],
         "xaxis": "x",
         "y": {
          "bdata": "AQIBAgI=",
          "dtype": "i1"
         },
         "yaxis": "y"
        },
        {
         "hovertemplate": "subject_name=SPACE_000025<br>species_name=human<br>label_name=%{x}<br>n_images=%{y}<extra></extra>",
         "legendgroup": "SPACE_000025",
         "marker": {
          "color": "#DDCB76",
          "pattern": {
           "shape": ""
          }
         },
         "name": "SPACE_000025",
         "orientation": "v",
         "showlegend": true,
         "textposition": "auto",
         "type": "bar",
         "x": [
          "stomach",
          "small bowel",
          "colon",
          "liver",
          "omentum",
          "background"
         ],
         "xaxis": "x",
         "y": {
          "bdata": "AgICAgIC",
          "dtype": "i1"
         },
         "yaxis": "y"
        },
        {
         "hovertemplate": "subject_name=SPACE_000026<br>species_name=human<br>label_name=%{x}<br>n_images=%{y}<extra></extra>",
         "legendgroup": "SPACE_000026",
         "marker": {
          "color": "#DDCB76",
          "pattern": {
           "shape": ""
          }
         },
         "name": "SPACE_000026",
         "orientation": "v",
         "showlegend": true,
         "textposition": "auto",
         "type": "bar",
         "x": [
          "kidney"
         ],
         "xaxis": "x",
         "y": {
          "bdata": "Cw==",
          "dtype": "i1"
         },
         "yaxis": "y"
        },
        {
         "hovertemplate": "subject_name=SPACE_000027<br>species_name=human<br>label_name=%{x}<br>n_images=%{y}<extra></extra>",
         "legendgroup": "SPACE_000027",
         "marker": {
          "color": "#DDCB76",
          "pattern": {
           "shape": ""
          }
         },
         "name": "SPACE_000027",
         "orientation": "v",
         "showlegend": true,
         "textposition": "auto",
         "type": "bar",
         "x": [
          "stomach",
          "small bowel",
          "colon",
          "liver",
          "omentum",
          "background"
         ],
         "xaxis": "x",
         "y": {
          "bdata": "AQICAgEC",
          "dtype": "i1"
         },
         "yaxis": "y"
        },
        {
         "hovertemplate": "subject_name=SPACE_000028<br>species_name=human<br>label_name=%{x}<br>n_images=%{y}<extra></extra>",
         "legendgroup": "SPACE_000028",
         "marker": {
          "color": "#DDCB76",
          "pattern": {
           "shape": ""
          }
         },
         "name": "SPACE_000028",
         "orientation": "v",
         "showlegend": true,
         "textposition": "auto",
         "type": "bar",
         "x": [
          "stomach",
          "small bowel",
          "liver",
          "pancreas",
          "omentum",
          "background"
         ],
         "xaxis": "x",
         "y": {
          "bdata": "AQMBAQID",
          "dtype": "i1"
         },
         "yaxis": "y"
        },
        {
         "hovertemplate": "subject_name=SPACE_000029<br>species_name=human<br>label_name=%{x}<br>n_images=%{y}<extra></extra>",
         "legendgroup": "SPACE_000029",
         "marker": {
          "color": "#DDCB76",
          "pattern": {
           "shape": ""
          }
         },
         "name": "SPACE_000029",
         "orientation": "v",
         "showlegend": true,
         "textposition": "auto",
         "type": "bar",
         "x": [
          "stomach",
          "small bowel",
          "colon",
          "liver",
          "omentum",
          "background"
         ],
         "xaxis": "x",
         "y": {
          "bdata": "AQICAgEC",
          "dtype": "i1"
         },
         "yaxis": "y"
        },
        {
         "hovertemplate": "subject_name=SPACE_000030<br>species_name=human<br>label_name=%{x}<br>n_images=%{y}<extra></extra>",
         "legendgroup": "SPACE_000030",
         "marker": {
          "color": "#DDCB76",
          "pattern": {
           "shape": ""
          }
         },
         "name": "SPACE_000030",
         "orientation": "v",
         "showlegend": true,
         "textposition": "auto",
         "type": "bar",
         "x": [
          "stomach",
          "small bowel",
          "colon",
          "liver",
          "omentum",
          "lung",
          "skin",
          "peritoneum",
          "background"
         ],
         "xaxis": "x",
         "y": {
          "bdata": "EAIJCw8FCQoQ",
          "dtype": "i1"
         },
         "yaxis": "y"
        },
        {
         "hovertemplate": "subject_name=SPACE_000031<br>species_name=human<br>label_name=%{x}<br>n_images=%{y}<extra></extra>",
         "legendgroup": "SPACE_000031",
         "marker": {
          "color": "#DDCB76",
          "pattern": {
           "shape": ""
          }
         },
         "name": "SPACE_000031",
         "orientation": "v",
         "showlegend": true,
         "textposition": "auto",
         "type": "bar",
         "x": [
          "stomach",
          "small bowel",
          "colon",
          "pancreas",
          "omentum",
          "background"
         ],
         "xaxis": "x",
         "y": {
          "bdata": "AQEBAQMD",
          "dtype": "i1"
         },
         "yaxis": "y"
        },
        {
         "hovertemplate": "subject_name=SPACE_000032<br>species_name=human<br>label_name=%{x}<br>n_images=%{y}<extra></extra>",
         "legendgroup": "SPACE_000032",
         "marker": {
          "color": "#DDCB76",
          "pattern": {
           "shape": ""
          }
         },
         "name": "SPACE_000032",
         "orientation": "v",
         "showlegend": true,
         "textposition": "auto",
         "type": "bar",
         "x": [
          "small bowel",
          "colon",
          "omentum",
          "background"
         ],
         "xaxis": "x",
         "y": {
          "bdata": "AgEBAg==",
          "dtype": "i1"
         },
         "yaxis": "y"
        },
        {
         "hovertemplate": "subject_name=SPACE_000033<br>species_name=human<br>label_name=%{x}<br>n_images=%{y}<extra></extra>",
         "legendgroup": "SPACE_000033",
         "marker": {
          "color": "#DDCB76",
          "pattern": {
           "shape": ""
          }
         },
         "name": "SPACE_000033",
         "orientation": "v",
         "showlegend": true,
         "textposition": "auto",
         "type": "bar",
         "x": [
          "stomach",
          "colon",
          "liver",
          "pancreas",
          "omentum",
          "background"
         ],
         "xaxis": "x",
         "y": {
          "bdata": "BgEEAgUG",
          "dtype": "i1"
         },
         "yaxis": "y"
        },
        {
         "hovertemplate": "subject_name=SPACE_000034<br>species_name=human<br>label_name=%{x}<br>n_images=%{y}<extra></extra>",
         "legendgroup": "SPACE_000034",
         "marker": {
          "color": "#DDCB76",
          "pattern": {
           "shape": ""
          }
         },
         "name": "SPACE_000034",
         "orientation": "v",
         "showlegend": true,
         "textposition": "auto",
         "type": "bar",
         "x": [
          "stomach",
          "small bowel",
          "colon",
          "liver",
          "omentum",
          "background"
         ],
         "xaxis": "x",
         "y": {
          "bdata": "BQMEAwUF",
          "dtype": "i1"
         },
         "yaxis": "y"
        },
        {
         "hovertemplate": "subject_name=SPACE_000035<br>species_name=human<br>label_name=%{x}<br>n_images=%{y}<extra></extra>",
         "legendgroup": "SPACE_000035",
         "marker": {
          "color": "#DDCB76",
          "pattern": {
           "shape": ""
          }
         },
         "name": "SPACE_000035",
         "orientation": "v",
         "showlegend": true,
         "textposition": "auto",
         "type": "bar",
         "x": [
          "stomach",
          "liver",
          "pancreas",
          "omentum",
          "background"
         ],
         "xaxis": "x",
         "y": {
          "bdata": "AQMCAQM=",
          "dtype": "i1"
         },
         "yaxis": "y"
        },
        {
         "hovertemplate": "subject_name=SPACE_000036<br>species_name=human<br>label_name=%{x}<br>n_images=%{y}<extra></extra>",
         "legendgroup": "SPACE_000036",
         "marker": {
          "color": "#DDCB76",
          "pattern": {
           "shape": ""
          }
         },
         "name": "SPACE_000036",
         "orientation": "v",
         "showlegend": true,
         "textposition": "auto",
         "type": "bar",
         "x": [
          "stomach",
          "liver",
          "omentum",
          "lung",
          "skin",
          "peritoneum",
          "background"
         ],
         "xaxis": "x",
         "y": {
          "bdata": "AQEBBgYBBw==",
          "dtype": "i1"
         },
         "yaxis": "y"
        },
        {
         "hovertemplate": "subject_name=SPACE_000038<br>species_name=human<br>label_name=%{x}<br>n_images=%{y}<extra></extra>",
         "legendgroup": "SPACE_000038",
         "marker": {
          "color": "#DDCB76",
          "pattern": {
           "shape": ""
          }
         },
         "name": "SPACE_000038",
         "orientation": "v",
         "showlegend": true,
         "textposition": "auto",
         "type": "bar",
         "x": [
          "stomach",
          "small bowel",
          "colon",
          "liver",
          "pancreas",
          "spleen",
          "omentum",
          "skin",
          "peritoneum",
          "background"
         ],
         "xaxis": "x",
         "y": {
          "bdata": "AQUCAQQDBQIECQ==",
          "dtype": "i1"
         },
         "yaxis": "y"
        },
        {
         "hovertemplate": "subject_name=SPACE_000039<br>species_name=human<br>label_name=%{x}<br>n_images=%{y}<extra></extra>",
         "legendgroup": "SPACE_000039",
         "marker": {
          "color": "#DDCB76",
          "pattern": {
           "shape": ""
          }
         },
         "name": "SPACE_000039",
         "orientation": "v",
         "showlegend": true,
         "textposition": "auto",
         "type": "bar",
         "x": [
          "stomach",
          "small bowel",
          "colon",
          "pancreas",
          "omentum",
          "background"
         ],
         "xaxis": "x",
         "y": {
          "bdata": "AgIBAQIC",
          "dtype": "i1"
         },
         "yaxis": "y"
        },
        {
         "hovertemplate": "subject_name=SPACE_000040<br>species_name=human<br>label_name=%{x}<br>n_images=%{y}<extra></extra>",
         "legendgroup": "SPACE_000040",
         "marker": {
          "color": "#DDCB76",
          "pattern": {
           "shape": ""
          }
         },
         "name": "SPACE_000040",
         "orientation": "v",
         "showlegend": true,
         "textposition": "auto",
         "type": "bar",
         "x": [
          "stomach",
          "small bowel",
          "colon",
          "liver",
          "omentum",
          "background"
         ],
         "xaxis": "x",
         "y": {
          "bdata": "AQICAgIC",
          "dtype": "i1"
         },
         "yaxis": "y"
        },
        {
         "hovertemplate": "subject_name=SPACE_000041<br>species_name=human<br>label_name=%{x}<br>n_images=%{y}<extra></extra>",
         "legendgroup": "SPACE_000041",
         "marker": {
          "color": "#DDCB76",
          "pattern": {
           "shape": ""
          }
         },
         "name": "SPACE_000041",
         "orientation": "v",
         "showlegend": true,
         "textposition": "auto",
         "type": "bar",
         "x": [
          "stomach",
          "small bowel",
          "colon",
          "liver",
          "omentum",
          "skin",
          "peritoneum",
          "background"
         ],
         "xaxis": "x",
         "y": {
          "bdata": "CgoICgoKCgo=",
          "dtype": "i1"
         },
         "yaxis": "y"
        },
        {
         "hovertemplate": "subject_name=SPACE_000042<br>species_name=human<br>label_name=%{x}<br>n_images=%{y}<extra></extra>",
         "legendgroup": "SPACE_000042",
         "marker": {
          "color": "#DDCB76",
          "pattern": {
           "shape": ""
          }
         },
         "name": "SPACE_000042",
         "orientation": "v",
         "showlegend": true,
         "textposition": "auto",
         "type": "bar",
         "x": [
          "skin",
          "background"
         ],
         "xaxis": "x",
         "y": {
          "bdata": "AgI=",
          "dtype": "i1"
         },
         "yaxis": "y"
        },
        {
         "hovertemplate": "subject_name=SPACE_000043<br>species_name=human<br>label_name=%{x}<br>n_images=%{y}<extra></extra>",
         "legendgroup": "SPACE_000043",
         "marker": {
          "color": "#DDCB76",
          "pattern": {
           "shape": ""
          }
         },
         "name": "SPACE_000043",
         "orientation": "v",
         "showlegend": true,
         "textposition": "auto",
         "type": "bar",
         "x": [
          "small bowel",
          "omentum",
          "background"
         ],
         "xaxis": "x",
         "y": {
          "bdata": "AgEC",
          "dtype": "i1"
         },
         "yaxis": "y"
        },
        {
         "hovertemplate": "subject_name=SPACE_000044<br>species_name=human<br>label_name=%{x}<br>n_images=%{y}<extra></extra>",
         "legendgroup": "SPACE_000044",
         "marker": {
          "color": "#DDCB76",
          "pattern": {
           "shape": ""
          }
         },
         "name": "SPACE_000044",
         "orientation": "v",
         "showlegend": true,
         "textposition": "auto",
         "type": "bar",
         "x": [
          "stomach",
          "small bowel",
          "colon",
          "liver",
          "spleen",
          "background"
         ],
         "xaxis": "x",
         "y": {
          "bdata": "AQICARQC",
          "dtype": "i1"
         },
         "yaxis": "y"
        },
        {
         "hovertemplate": "subject_name=SPACE_000045<br>species_name=human<br>label_name=%{x}<br>n_images=%{y}<extra></extra>",
         "legendgroup": "SPACE_000045",
         "marker": {
          "color": "#DDCB76",
          "pattern": {
           "shape": ""
          }
         },
         "name": "SPACE_000045",
         "orientation": "v",
         "showlegend": true,
         "textposition": "auto",
         "type": "bar",
         "x": [
          "stomach",
          "small bowel",
          "colon",
          "liver",
          "omentum",
          "background"
         ],
         "xaxis": "x",
         "y": {
          "bdata": "AgEBAQIC",
          "dtype": "i1"
         },
         "yaxis": "y"
        },
        {
         "hovertemplate": "subject_name=SPACE_000046<br>species_name=human<br>label_name=%{x}<br>n_images=%{y}<extra></extra>",
         "legendgroup": "SPACE_000046",
         "marker": {
          "color": "#DDCB76",
          "pattern": {
           "shape": ""
          }
         },
         "name": "SPACE_000046",
         "orientation": "v",
         "showlegend": true,
         "textposition": "auto",
         "type": "bar",
         "x": [
          "stomach",
          "small bowel",
          "liver",
          "omentum",
          "skin",
          "background"
         ],
         "xaxis": "x",
         "y": {
          "bdata": "AQEBAQIC",
          "dtype": "i1"
         },
         "yaxis": "y"
        },
        {
         "hovertemplate": "subject_name=SPACE_000047<br>species_name=human<br>label_name=%{x}<br>n_images=%{y}<extra></extra>",
         "legendgroup": "SPACE_000047",
         "marker": {
          "color": "#DDCB76",
          "pattern": {
           "shape": ""
          }
         },
         "name": "SPACE_000047",
         "orientation": "v",
         "showlegend": true,
         "textposition": "auto",
         "type": "bar",
         "x": [
          "small bowel",
          "colon",
          "omentum",
          "background"
         ],
         "xaxis": "x",
         "y": {
          "bdata": "AQIBAg==",
          "dtype": "i1"
         },
         "yaxis": "y"
        },
        {
         "hovertemplate": "subject_name=SPACE_000048<br>species_name=human<br>label_name=%{x}<br>n_images=%{y}<extra></extra>",
         "legendgroup": "SPACE_000048",
         "marker": {
          "color": "#DDCB76",
          "pattern": {
           "shape": ""
          }
         },
         "name": "SPACE_000048",
         "orientation": "v",
         "showlegend": true,
         "textposition": "auto",
         "type": "bar",
         "x": [
          "stomach",
          "small bowel",
          "colon",
          "liver",
          "spleen",
          "omentum",
          "skin",
          "background"
         ],
         "xaxis": "x",
         "y": {
          "bdata": "BgcFCwMJBAs=",
          "dtype": "i1"
         },
         "yaxis": "y"
        },
        {
         "hovertemplate": "subject_name=SPACE_000049<br>species_name=human<br>label_name=%{x}<br>n_images=%{y}<extra></extra>",
         "legendgroup": "SPACE_000049",
         "marker": {
          "color": "#DDCB76",
          "pattern": {
           "shape": ""
          }
         },
         "name": "SPACE_000049",
         "orientation": "v",
         "showlegend": true,
         "textposition": "auto",
         "type": "bar",
         "x": [
          "small bowel",
          "colon",
          "liver",
          "omentum",
          "background"
         ],
         "xaxis": "x",
         "y": {
          "bdata": "AgICAQI=",
          "dtype": "i1"
         },
         "yaxis": "y"
        },
        {
         "hovertemplate": "subject_name=SPACE_000050<br>species_name=human<br>label_name=%{x}<br>n_images=%{y}<extra></extra>",
         "legendgroup": "SPACE_000050",
         "marker": {
          "color": "#DDCB76",
          "pattern": {
           "shape": ""
          }
         },
         "name": "SPACE_000050",
         "orientation": "v",
         "showlegend": true,
         "textposition": "auto",
         "type": "bar",
         "x": [
          "kidney",
          "skin",
          "peritoneum",
          "background"
         ],
         "xaxis": "x",
         "y": {
          "bdata": "BwcHBw==",
          "dtype": "i1"
         },
         "yaxis": "y"
        },
        {
         "hovertemplate": "subject_name=SPACE_000051<br>species_name=human<br>label_name=%{x}<br>n_images=%{y}<extra></extra>",
         "legendgroup": "SPACE_000051",
         "marker": {
          "color": "#DDCB76",
          "pattern": {
           "shape": ""
          }
         },
         "name": "SPACE_000051",
         "orientation": "v",
         "showlegend": true,
         "textposition": "auto",
         "type": "bar",
         "x": [
          "stomach",
          "colon",
          "liver",
          "spleen",
          "omentum",
          "background"
         ],
         "xaxis": "x",
         "y": {
          "bdata": "AQICMQIC",
          "dtype": "i1"
         },
         "yaxis": "y"
        },
        {
         "hovertemplate": "subject_name=SPACE_000052<br>species_name=human<br>label_name=%{x}<br>n_images=%{y}<extra></extra>",
         "legendgroup": "SPACE_000052",
         "marker": {
          "color": "#DDCB76",
          "pattern": {
           "shape": ""
          }
         },
         "name": "SPACE_000052",
         "orientation": "v",
         "showlegend": true,
         "textposition": "auto",
         "type": "bar",
         "x": [
          "stomach",
          "small bowel",
          "colon",
          "liver",
          "omentum",
          "peritoneum",
          "background"
         ],
         "xaxis": "x",
         "y": {
          "bdata": "BAMEBAQDBQ==",
          "dtype": "i1"
         },
         "yaxis": "y"
        },
        {
         "hovertemplate": "subject_name=SPACE_000053<br>species_name=human<br>label_name=%{x}<br>n_images=%{y}<extra></extra>",
         "legendgroup": "SPACE_000053",
         "marker": {
          "color": "#DDCB76",
          "pattern": {
           "shape": ""
          }
         },
         "name": "SPACE_000053",
         "orientation": "v",
         "showlegend": true,
         "textposition": "auto",
         "type": "bar",
         "x": [
          "stomach",
          "small bowel",
          "colon",
          "liver",
          "omentum",
          "background"
         ],
         "xaxis": "x",
         "y": {
          "bdata": "AwQBAwQE",
          "dtype": "i1"
         },
         "yaxis": "y"
        },
        {
         "hovertemplate": "subject_name=SPACE_000056<br>species_name=human<br>label_name=%{x}<br>n_images=%{y}<extra></extra>",
         "legendgroup": "SPACE_000056",
         "marker": {
          "color": "#DDCB76",
          "pattern": {
           "shape": ""
          }
         },
         "name": "SPACE_000056",
         "orientation": "v",
         "showlegend": true,
         "textposition": "auto",
         "type": "bar",
         "x": [
          "stomach",
          "small bowel",
          "colon",
          "liver",
          "pancreas",
          "background"
         ],
         "xaxis": "x",
         "y": {
          "bdata": "AwEEAwME",
          "dtype": "i1"
         },
         "yaxis": "y"
        },
        {
         "hovertemplate": "subject_name=SPACE_000057<br>species_name=human<br>label_name=%{x}<br>n_images=%{y}<extra></extra>",
         "legendgroup": "SPACE_000057",
         "marker": {
          "color": "#DDCB76",
          "pattern": {
           "shape": ""
          }
         },
         "name": "SPACE_000057",
         "orientation": "v",
         "showlegend": true,
         "textposition": "auto",
         "type": "bar",
         "x": [
          "kidney",
          "skin",
          "background"
         ],
         "xaxis": "x",
         "y": {
          "bdata": "AgIC",
          "dtype": "i1"
         },
         "yaxis": "y"
        },
        {
         "hovertemplate": "subject_name=SPACE_000058<br>species_name=human<br>label_name=%{x}<br>n_images=%{y}<extra></extra>",
         "legendgroup": "SPACE_000058",
         "marker": {
          "color": "#DDCB76",
          "pattern": {
           "shape": ""
          }
         },
         "name": "SPACE_000058",
         "orientation": "v",
         "showlegend": true,
         "textposition": "auto",
         "type": "bar",
         "x": [
          "stomach",
          "small bowel",
          "liver",
          "pancreas",
          "spleen",
          "skin",
          "background"
         ],
         "xaxis": "x",
         "y": {
          "bdata": "AgQFAQICBQ==",
          "dtype": "i1"
         },
         "yaxis": "y"
        },
        {
         "hovertemplate": "subject_name=SPACE_000059<br>species_name=human<br>label_name=%{x}<br>n_images=%{y}<extra></extra>",
         "legendgroup": "SPACE_000059",
         "marker": {
          "color": "#DDCB76",
          "pattern": {
           "shape": ""
          }
         },
         "name": "SPACE_000059",
         "orientation": "v",
         "showlegend": true,
         "textposition": "auto",
         "type": "bar",
         "x": [
          "stomach",
          "liver",
          "pancreas",
          "omentum",
          "background"
         ],
         "xaxis": "x",
         "y": {
          "bdata": "AQEBAgI=",
          "dtype": "i1"
         },
         "yaxis": "y"
        },
        {
         "hovertemplate": "subject_name=SPACE_000060<br>species_name=human<br>label_name=%{x}<br>n_images=%{y}<extra></extra>",
         "legendgroup": "SPACE_000060",
         "marker": {
          "color": "#DDCB76",
          "pattern": {
           "shape": ""
          }
         },
         "name": "SPACE_000060",
         "orientation": "v",
         "showlegend": true,
         "textposition": "auto",
         "type": "bar",
         "x": [
          "stomach",
          "colon",
          "liver",
          "spleen",
          "background"
         ],
         "xaxis": "x",
         "y": {
          "bdata": "AQEBEgI=",
          "dtype": "i1"
         },
         "yaxis": "y"
        },
        {
         "hovertemplate": "subject_name=SPACE_000061<br>species_name=human<br>label_name=%{x}<br>n_images=%{y}<extra></extra>",
         "legendgroup": "SPACE_000061",
         "marker": {
          "color": "#DDCB76",
          "pattern": {
           "shape": ""
          }
         },
         "name": "SPACE_000061",
         "orientation": "v",
         "showlegend": true,
         "textposition": "auto",
         "type": "bar",
         "x": [
          "colon",
          "liver",
          "omentum",
          "skin",
          "background"
         ],
         "xaxis": "x",
         "y": {
          "bdata": "AQIBAgI=",
          "dtype": "i1"
         },
         "yaxis": "y"
        },
        {
         "hovertemplate": "subject_name=SPACE_000062<br>species_name=human<br>label_name=%{x}<br>n_images=%{y}<extra></extra>",
         "legendgroup": "SPACE_000062",
         "marker": {
          "color": "#DDCB76",
          "pattern": {
           "shape": ""
          }
         },
         "name": "SPACE_000062",
         "orientation": "v",
         "showlegend": true,
         "textposition": "auto",
         "type": "bar",
         "x": [
          "stomach",
          "small bowel",
          "colon",
          "liver",
          "pancreas",
          "omentum",
          "background"
         ],
         "xaxis": "x",
         "y": {
          "bdata": "BQUECQUICQ==",
          "dtype": "i1"
         },
         "yaxis": "y"
        },
        {
         "hovertemplate": "subject_name=SPACE_000063<br>species_name=human<br>label_name=%{x}<br>n_images=%{y}<extra></extra>",
         "legendgroup": "SPACE_000063",
         "marker": {
          "color": "#DDCB76",
          "pattern": {
           "shape": ""
          }
         },
         "name": "SPACE_000063",
         "orientation": "v",
         "showlegend": true,
         "textposition": "auto",
         "type": "bar",
         "x": [
          "stomach",
          "small bowel",
          "colon",
          "liver",
          "omentum",
          "peritoneum",
          "background"
         ],
         "xaxis": "x",
         "y": {
          "bdata": "BgMFCAcDCA==",
          "dtype": "i1"
         },
         "yaxis": "y"
        },
        {
         "hovertemplate": "subject_name=SPACE_000064<br>species_name=human<br>label_name=%{x}<br>n_images=%{y}<extra></extra>",
         "legendgroup": "SPACE_000064",
         "marker": {
          "color": "#DDCB76",
          "pattern": {
           "shape": ""
          }
         },
         "name": "SPACE_000064",
         "orientation": "v",
         "showlegend": true,
         "textposition": "auto",
         "type": "bar",
         "x": [
          "stomach",
          "small bowel",
          "colon",
          "liver",
          "omentum",
          "background"
         ],
         "xaxis": "x",
         "y": {
          "bdata": "AQICAQIC",
          "dtype": "i1"
         },
         "yaxis": "y"
        },
        {
         "hovertemplate": "subject_name=SPACE_000065<br>species_name=human<br>label_name=%{x}<br>n_images=%{y}<extra></extra>",
         "legendgroup": "SPACE_000065",
         "marker": {
          "color": "#DDCB76",
          "pattern": {
           "shape": ""
          }
         },
         "name": "SPACE_000065",
         "orientation": "v",
         "showlegend": true,
         "textposition": "auto",
         "type": "bar",
         "x": [
          "stomach",
          "small bowel",
          "colon",
          "liver",
          "omentum",
          "skin",
          "peritoneum",
          "background"
         ],
         "xaxis": "x",
         "y": {
          "bdata": "BwMDCAgBCAg=",
          "dtype": "i1"
         },
         "yaxis": "y"
        },
        {
         "hovertemplate": "subject_name=SPACE_000066<br>species_name=human<br>label_name=%{x}<br>n_images=%{y}<extra></extra>",
         "legendgroup": "SPACE_000066",
         "marker": {
          "color": "#DDCB76",
          "pattern": {
           "shape": ""
          }
         },
         "name": "SPACE_000066",
         "orientation": "v",
         "showlegend": true,
         "textposition": "auto",
         "type": "bar",
         "x": [
          "stomach",
          "small bowel",
          "colon",
          "liver",
          "omentum",
          "skin",
          "background"
         ],
         "xaxis": "x",
         "y": {
          "bdata": "AwMDBAEBBA==",
          "dtype": "i1"
         },
         "yaxis": "y"
        },
        {
         "hovertemplate": "subject_name=SPACE_000067<br>species_name=human<br>label_name=%{x}<br>n_images=%{y}<extra></extra>",
         "legendgroup": "SPACE_000067",
         "marker": {
          "color": "#DDCB76",
          "pattern": {
           "shape": ""
          }
         },
         "name": "SPACE_000067",
         "orientation": "v",
         "showlegend": true,
         "textposition": "auto",
         "type": "bar",
         "x": [
          "stomach",
          "small bowel",
          "colon",
          "liver",
          "spleen",
          "omentum",
          "background"
         ],
         "xaxis": "x",
         "y": {
          "bdata": "AgEBAiIBAg==",
          "dtype": "i1"
         },
         "yaxis": "y"
        },
        {
         "hovertemplate": "subject_name=SPACE_000068<br>species_name=human<br>label_name=%{x}<br>n_images=%{y}<extra></extra>",
         "legendgroup": "SPACE_000068",
         "marker": {
          "color": "#DDCB76",
          "pattern": {
           "shape": ""
          }
         },
         "name": "SPACE_000068",
         "orientation": "v",
         "showlegend": true,
         "textposition": "auto",
         "type": "bar",
         "x": [
          "stomach",
          "small bowel",
          "liver",
          "pancreas",
          "spleen",
          "omentum",
          "background"
         ],
         "xaxis": "x",
         "y": {
          "bdata": "AgIBARMCAg==",
          "dtype": "i1"
         },
         "yaxis": "y"
        },
        {
         "hovertemplate": "subject_name=SPACE_000069<br>species_name=human<br>label_name=%{x}<br>n_images=%{y}<extra></extra>",
         "legendgroup": "SPACE_000069",
         "marker": {
          "color": "#DDCB76",
          "pattern": {
           "shape": ""
          }
         },
         "name": "SPACE_000069",
         "orientation": "v",
         "showlegend": true,
         "textposition": "auto",
         "type": "bar",
         "x": [
          "stomach",
          "small bowel",
          "liver",
          "omentum",
          "background"
         ],
         "xaxis": "x",
         "y": {
          "bdata": "AQIBAgI=",
          "dtype": "i1"
         },
         "yaxis": "y"
        },
        {
         "hovertemplate": "subject_name=SPACE_000070<br>species_name=human<br>label_name=%{x}<br>n_images=%{y}<extra></extra>",
         "legendgroup": "SPACE_000070",
         "marker": {
          "color": "#DDCB76",
          "pattern": {
           "shape": ""
          }
         },
         "name": "SPACE_000070",
         "orientation": "v",
         "showlegend": true,
         "textposition": "auto",
         "type": "bar",
         "x": [
          "stomach",
          "small bowel",
          "colon",
          "liver",
          "pancreas",
          "omentum",
          "background"
         ],
         "xaxis": "x",
         "y": {
          "bdata": "AgECAgEEBA==",
          "dtype": "i1"
         },
         "yaxis": "y"
        },
        {
         "hovertemplate": "subject_name=SPACE_000071<br>species_name=human<br>label_name=%{x}<br>n_images=%{y}<extra></extra>",
         "legendgroup": "SPACE_000071",
         "marker": {
          "color": "#DDCB76",
          "pattern": {
           "shape": ""
          }
         },
         "name": "SPACE_000071",
         "orientation": "v",
         "showlegend": true,
         "textposition": "auto",
         "type": "bar",
         "x": [
          "stomach",
          "colon",
          "liver",
          "omentum",
          "skin",
          "background"
         ],
         "xaxis": "x",
         "y": {
          "bdata": "AQIDAQID",
          "dtype": "i1"
         },
         "yaxis": "y"
        },
        {
         "hovertemplate": "subject_name=SPACE_000072<br>species_name=human<br>label_name=%{x}<br>n_images=%{y}<extra></extra>",
         "legendgroup": "SPACE_000072",
         "marker": {
          "color": "#DDCB76",
          "pattern": {
           "shape": ""
          }
         },
         "name": "SPACE_000072",
         "orientation": "v",
         "showlegend": true,
         "textposition": "auto",
         "type": "bar",
         "x": [
          "stomach",
          "small bowel",
          "colon",
          "liver",
          "pancreas",
          "spleen",
          "omentum",
          "skin",
          "peritoneum",
          "background"
         ],
         "xaxis": "x",
         "y": {
          "bdata": "CAwJEQUDEQICEQ==",
          "dtype": "i1"
         },
         "yaxis": "y"
        },
        {
         "hovertemplate": "subject_name=SPACE_000073<br>species_name=human<br>label_name=%{x}<br>n_images=%{y}<extra></extra>",
         "legendgroup": "SPACE_000073",
         "marker": {
          "color": "#DDCB76",
          "pattern": {
           "shape": ""
          }
         },
         "name": "SPACE_000073",
         "orientation": "v",
         "showlegend": true,
         "textposition": "auto",
         "type": "bar",
         "x": [
          "stomach",
          "small bowel",
          "colon",
          "liver",
          "omentum",
          "background"
         ],
         "xaxis": "x",
         "y": {
          "bdata": "AQMDBAUF",
          "dtype": "i1"
         },
         "yaxis": "y"
        },
        {
         "hovertemplate": "subject_name=SPACE_000074<br>species_name=human<br>label_name=%{x}<br>n_images=%{y}<extra></extra>",
         "legendgroup": "SPACE_000074",
         "marker": {
          "color": "#DDCB76",
          "pattern": {
           "shape": ""
          }
         },
         "name": "SPACE_000074",
         "orientation": "v",
         "showlegend": true,
         "textposition": "auto",
         "type": "bar",
         "x": [
          "stomach",
          "small bowel",
          "colon",
          "liver",
          "pancreas",
          "omentum",
          "background"
         ],
         "xaxis": "x",
         "y": {
          "bdata": "BwQGBwMHBw==",
          "dtype": "i1"
         },
         "yaxis": "y"
        },
        {
         "hovertemplate": "subject_name=SPACE_000075<br>species_name=human<br>label_name=%{x}<br>n_images=%{y}<extra></extra>",
         "legendgroup": "SPACE_000075",
         "marker": {
          "color": "#DDCB76",
          "pattern": {
           "shape": ""
          }
         },
         "name": "SPACE_000075",
         "orientation": "v",
         "showlegend": true,
         "textposition": "auto",
         "type": "bar",
         "x": [
          "stomach",
          "small bowel",
          "colon",
          "liver",
          "spleen",
          "omentum",
          "lung",
          "skin",
          "peritoneum",
          "background"
         ],
         "xaxis": "x",
         "y": {
          "bdata": "AwMBAwIDBggCCQ==",
          "dtype": "i1"
         },
         "yaxis": "y"
        },
        {
         "hovertemplate": "subject_name=SPACE_000076<br>species_name=human<br>label_name=%{x}<br>n_images=%{y}<extra></extra>",
         "legendgroup": "SPACE_000076",
         "marker": {
          "color": "#DDCB76",
          "pattern": {
           "shape": ""
          }
         },
         "name": "SPACE_000076",
         "orientation": "v",
         "showlegend": true,
         "textposition": "auto",
         "type": "bar",
         "x": [
          "stomach",
          "small bowel",
          "colon",
          "liver",
          "omentum",
          "lung",
          "skin",
          "background"
         ],
         "xaxis": "x",
         "y": {
          "bdata": "AQEBAQEGBgc=",
          "dtype": "i1"
         },
         "yaxis": "y"
        },
        {
         "hovertemplate": "subject_name=SPACE_000077<br>species_name=human<br>label_name=%{x}<br>n_images=%{y}<extra></extra>",
         "legendgroup": "SPACE_000077",
         "marker": {
          "color": "#DDCB76",
          "pattern": {
           "shape": ""
          }
         },
         "name": "SPACE_000077",
         "orientation": "v",
         "showlegend": true,
         "textposition": "auto",
         "type": "bar",
         "x": [
          "small bowel",
          "colon",
          "liver",
          "background"
         ],
         "xaxis": "x",
         "y": {
          "bdata": "AgEBAg==",
          "dtype": "i1"
         },
         "yaxis": "y"
        },
        {
         "hovertemplate": "subject_name=SPACE_000078<br>species_name=human<br>label_name=%{x}<br>n_images=%{y}<extra></extra>",
         "legendgroup": "SPACE_000078",
         "marker": {
          "color": "#DDCB76",
          "pattern": {
           "shape": ""
          }
         },
         "name": "SPACE_000078",
         "orientation": "v",
         "showlegend": true,
         "textposition": "auto",
         "type": "bar",
         "x": [
          "small bowel",
          "colon",
          "liver",
          "spleen",
          "background"
         ],
         "xaxis": "x",
         "y": {
          "bdata": "AhUCDAI=",
          "dtype": "i1"
         },
         "yaxis": "y"
        },
        {
         "hovertemplate": "subject_name=SPACE_000080<br>species_name=human<br>label_name=%{x}<br>n_images=%{y}<extra></extra>",
         "legendgroup": "SPACE_000080",
         "marker": {
          "color": "#DDCB76",
          "pattern": {
           "shape": ""
          }
         },
         "name": "SPACE_000080",
         "orientation": "v",
         "showlegend": true,
         "textposition": "auto",
         "type": "bar",
         "x": [
          "small bowel",
          "colon",
          "liver",
          "omentum",
          "background"
         ],
         "xaxis": "x",
         "y": {
          "bdata": "AQEBAgM=",
          "dtype": "i1"
         },
         "yaxis": "y"
        },
        {
         "hovertemplate": "subject_name=SPACE_000081<br>species_name=human<br>label_name=%{x}<br>n_images=%{y}<extra></extra>",
         "legendgroup": "SPACE_000081",
         "marker": {
          "color": "#DDCB76",
          "pattern": {
           "shape": ""
          }
         },
         "name": "SPACE_000081",
         "orientation": "v",
         "showlegend": true,
         "textposition": "auto",
         "type": "bar",
         "x": [
          "stomach",
          "small bowel",
          "colon",
          "liver",
          "background"
         ],
         "xaxis": "x",
         "y": {
          "bdata": "AQECAQI=",
          "dtype": "i1"
         },
         "yaxis": "y"
        },
        {
         "hovertemplate": "subject_name=SPACE_000083<br>species_name=human<br>label_name=%{x}<br>n_images=%{y}<extra></extra>",
         "legendgroup": "SPACE_000083",
         "marker": {
          "color": "#DDCB76",
          "pattern": {
           "shape": ""
          }
         },
         "name": "SPACE_000083",
         "orientation": "v",
         "showlegend": true,
         "textposition": "auto",
         "type": "bar",
         "x": [
          "stomach",
          "liver",
          "omentum",
          "peritoneum",
          "background"
         ],
         "xaxis": "x",
         "y": {
          "bdata": "BAUFAgU=",
          "dtype": "i1"
         },
         "yaxis": "y"
        },
        {
         "hovertemplate": "subject_name=SPACE_000084<br>species_name=human<br>label_name=%{x}<br>n_images=%{y}<extra></extra>",
         "legendgroup": "SPACE_000084",
         "marker": {
          "color": "#DDCB76",
          "pattern": {
           "shape": ""
          }
         },
         "name": "SPACE_000084",
         "orientation": "v",
         "showlegend": true,
         "textposition": "auto",
         "type": "bar",
         "x": [
          "stomach",
          "liver",
          "omentum",
          "background"
         ],
         "xaxis": "x",
         "y": {
          "bdata": "AQgBCA==",
          "dtype": "i1"
         },
         "yaxis": "y"
        },
        {
         "hovertemplate": "subject_name=SPACE_000085<br>species_name=human<br>label_name=%{x}<br>n_images=%{y}<extra></extra>",
         "legendgroup": "SPACE_000085",
         "marker": {
          "color": "#DDCB76",
          "pattern": {
           "shape": ""
          }
         },
         "name": "SPACE_000085",
         "orientation": "v",
         "showlegend": true,
         "textposition": "auto",
         "type": "bar",
         "x": [
          "stomach",
          "small bowel",
          "colon",
          "liver",
          "omentum",
          "skin",
          "peritoneum",
          "background"
         ],
         "xaxis": "x",
         "y": {
          "bdata": "BgEGCAkJAwk=",
          "dtype": "i1"
         },
         "yaxis": "y"
        },
        {
         "hovertemplate": "subject_name=SPACE_000086<br>species_name=human<br>label_name=%{x}<br>n_images=%{y}<extra></extra>",
         "legendgroup": "SPACE_000086",
         "marker": {
          "color": "#DDCB76",
          "pattern": {
           "shape": ""
          }
         },
         "name": "SPACE_000086",
         "orientation": "v",
         "showlegend": true,
         "textposition": "auto",
         "type": "bar",
         "x": [
          "stomach",
          "small bowel",
          "colon",
          "liver",
          "pancreas",
          "spleen",
          "omentum",
          "background"
         ],
         "xaxis": "x",
         "y": {
          "bdata": "Dg4NEAcfEBA=",
          "dtype": "i1"
         },
         "yaxis": "y"
        },
        {
         "hovertemplate": "subject_name=SPACE_000087<br>species_name=human<br>label_name=%{x}<br>n_images=%{y}<extra></extra>",
         "legendgroup": "SPACE_000087",
         "marker": {
          "color": "#DDCB76",
          "pattern": {
           "shape": ""
          }
         },
         "name": "SPACE_000087",
         "orientation": "v",
         "showlegend": true,
         "textposition": "auto",
         "type": "bar",
         "x": [
          "stomach",
          "small bowel",
          "colon",
          "liver",
          "omentum",
          "skin",
          "peritoneum",
          "background"
         ],
         "xaxis": "x",
         "y": {
          "bdata": "AQMBHgUEBgg=",
          "dtype": "i1"
         },
         "yaxis": "y"
        },
        {
         "hovertemplate": "subject_name=SPACE_000088<br>species_name=human<br>label_name=%{x}<br>n_images=%{y}<extra></extra>",
         "legendgroup": "SPACE_000088",
         "marker": {
          "color": "#DDCB76",
          "pattern": {
           "shape": ""
          }
         },
         "name": "SPACE_000088",
         "orientation": "v",
         "showlegend": true,
         "textposition": "auto",
         "type": "bar",
         "x": [
          "small bowel",
          "omentum",
          "skin",
          "background"
         ],
         "xaxis": "x",
         "y": {
          "bdata": "AgECAg==",
          "dtype": "i1"
         },
         "yaxis": "y"
        },
        {
         "hovertemplate": "subject_name=SPACE_000089<br>species_name=human<br>label_name=%{x}<br>n_images=%{y}<extra></extra>",
         "legendgroup": "SPACE_000089",
         "marker": {
          "color": "#DDCB76",
          "pattern": {
           "shape": ""
          }
         },
         "name": "SPACE_000089",
         "orientation": "v",
         "showlegend": true,
         "textposition": "auto",
         "type": "bar",
         "x": [
          "kidney"
         ],
         "xaxis": "x",
         "y": {
          "bdata": "Ag==",
          "dtype": "i1"
         },
         "yaxis": "y"
        },
        {
         "hovertemplate": "subject_name=SPACE_000090<br>species_name=human<br>label_name=%{x}<br>n_images=%{y}<extra></extra>",
         "legendgroup": "SPACE_000090",
         "marker": {
          "color": "#DDCB76",
          "pattern": {
           "shape": ""
          }
         },
         "name": "SPACE_000090",
         "orientation": "v",
         "showlegend": true,
         "textposition": "auto",
         "type": "bar",
         "x": [
          "kidney",
          "skin",
          "peritoneum",
          "background"
         ],
         "xaxis": "x",
         "y": {
          "bdata": "AgIBAg==",
          "dtype": "i1"
         },
         "yaxis": "y"
        },
        {
         "hovertemplate": "subject_name=SPACE_000091<br>species_name=human<br>label_name=%{x}<br>n_images=%{y}<extra></extra>",
         "legendgroup": "SPACE_000091",
         "marker": {
          "color": "#DDCB76",
          "pattern": {
           "shape": ""
          }
         },
         "name": "SPACE_000091",
         "orientation": "v",
         "showlegend": true,
         "textposition": "auto",
         "type": "bar",
         "x": [
          "stomach",
          "small bowel",
          "colon",
          "liver",
          "spleen",
          "omentum",
          "skin",
          "background"
         ],
         "xaxis": "x",
         "y": {
          "bdata": "CwYICg0LAws=",
          "dtype": "i1"
         },
         "yaxis": "y"
        },
        {
         "hovertemplate": "subject_name=SPACE_000092<br>species_name=human<br>label_name=%{x}<br>n_images=%{y}<extra></extra>",
         "legendgroup": "SPACE_000092",
         "marker": {
          "color": "#DDCB76",
          "pattern": {
           "shape": ""
          }
         },
         "name": "SPACE_000092",
         "orientation": "v",
         "showlegend": true,
         "textposition": "auto",
         "type": "bar",
         "x": [
          "stomach",
          "small bowel",
          "colon",
          "liver",
          "omentum",
          "background"
         ],
         "xaxis": "x",
         "y": {
          "bdata": "AQEBAgIC",
          "dtype": "i1"
         },
         "yaxis": "y"
        },
        {
         "hovertemplate": "subject_name=SPACE_000093<br>species_name=human<br>label_name=%{x}<br>n_images=%{y}<extra></extra>",
         "legendgroup": "SPACE_000093",
         "marker": {
          "color": "#DDCB76",
          "pattern": {
           "shape": ""
          }
         },
         "name": "SPACE_000093",
         "orientation": "v",
         "showlegend": true,
         "textposition": "auto",
         "type": "bar",
         "x": [
          "small bowel",
          "colon",
          "omentum",
          "background"
         ],
         "xaxis": "x",
         "y": {
          "bdata": "AQICAg==",
          "dtype": "i1"
         },
         "yaxis": "y"
        },
        {
         "hovertemplate": "subject_name=SPACE_000094<br>species_name=human<br>label_name=%{x}<br>n_images=%{y}<extra></extra>",
         "legendgroup": "SPACE_000094",
         "marker": {
          "color": "#DDCB76",
          "pattern": {
           "shape": ""
          }
         },
         "name": "SPACE_000094",
         "orientation": "v",
         "showlegend": true,
         "textposition": "auto",
         "type": "bar",
         "x": [
          "small bowel",
          "colon",
          "pancreas",
          "omentum",
          "background"
         ],
         "xaxis": "x",
         "y": {
          "bdata": "AQEBAQI=",
          "dtype": "i1"
         },
         "yaxis": "y"
        },
        {
         "hovertemplate": "subject_name=SPACE_000095<br>species_name=human<br>label_name=%{x}<br>n_images=%{y}<extra></extra>",
         "legendgroup": "SPACE_000095",
         "marker": {
          "color": "#DDCB76",
          "pattern": {
           "shape": ""
          }
         },
         "name": "SPACE_000095",
         "orientation": "v",
         "showlegend": true,
         "textposition": "auto",
         "type": "bar",
         "x": [
          "kidney",
          "skin",
          "peritoneum",
          "background"
         ],
         "xaxis": "x",
         "y": {
          "bdata": "BQUFBQ==",
          "dtype": "i1"
         },
         "yaxis": "y"
        },
        {
         "hovertemplate": "subject_name=SPACE_000096<br>species_name=human<br>label_name=%{x}<br>n_images=%{y}<extra></extra>",
         "legendgroup": "SPACE_000096",
         "marker": {
          "color": "#DDCB76",
          "pattern": {
           "shape": ""
          }
         },
         "name": "SPACE_000096",
         "orientation": "v",
         "showlegend": true,
         "textposition": "auto",
         "type": "bar",
         "x": [
          "stomach",
          "small bowel",
          "colon",
          "liver",
          "omentum",
          "background"
         ],
         "xaxis": "x",
         "y": {
          "bdata": "AgIBAQIC",
          "dtype": "i1"
         },
         "yaxis": "y"
        },
        {
         "hovertemplate": "subject_name=SPACE_000097<br>species_name=human<br>label_name=%{x}<br>n_images=%{y}<extra></extra>",
         "legendgroup": "SPACE_000097",
         "marker": {
          "color": "#DDCB76",
          "pattern": {
           "shape": ""
          }
         },
         "name": "SPACE_000097",
         "orientation": "v",
         "showlegend": true,
         "textposition": "auto",
         "type": "bar",
         "x": [
          "small bowel",
          "colon",
          "liver",
          "lung",
          "skin",
          "background"
         ],
         "xaxis": "x",
         "y": {
          "bdata": "AQEDCQoL",
          "dtype": "i1"
         },
         "yaxis": "y"
        },
        {
         "hovertemplate": "subject_name=SPACE_000098<br>species_name=human<br>label_name=%{x}<br>n_images=%{y}<extra></extra>",
         "legendgroup": "SPACE_000098",
         "marker": {
          "color": "#DDCB76",
          "pattern": {
           "shape": ""
          }
         },
         "name": "SPACE_000098",
         "orientation": "v",
         "showlegend": true,
         "textposition": "auto",
         "type": "bar",
         "x": [
          "stomach",
          "small bowel",
          "liver",
          "spleen",
          "omentum",
          "background"
         ],
         "xaxis": "x",
         "y": {
          "bdata": "AQECDQEC",
          "dtype": "i1"
         },
         "yaxis": "y"
        },
        {
         "hovertemplate": "subject_name=SPACE_000099<br>species_name=human<br>label_name=%{x}<br>n_images=%{y}<extra></extra>",
         "legendgroup": "SPACE_000099",
         "marker": {
          "color": "#DDCB76",
          "pattern": {
           "shape": ""
          }
         },
         "name": "SPACE_000099",
         "orientation": "v",
         "showlegend": true,
         "textposition": "auto",
         "type": "bar",
         "x": [
          "small bowel",
          "colon",
          "liver",
          "spleen",
          "omentum",
          "background"
         ],
         "xaxis": "x",
         "y": {
          "bdata": "AgICDgEC",
          "dtype": "i1"
         },
         "yaxis": "y"
        },
        {
         "hovertemplate": "subject_name=SPACE_000100<br>species_name=human<br>label_name=%{x}<br>n_images=%{y}<extra></extra>",
         "legendgroup": "SPACE_000100",
         "marker": {
          "color": "#DDCB76",
          "pattern": {
           "shape": ""
          }
         },
         "name": "SPACE_000100",
         "orientation": "v",
         "showlegend": true,
         "textposition": "auto",
         "type": "bar",
         "x": [
          "stomach",
          "small bowel",
          "colon",
          "liver",
          "omentum",
          "background"
         ],
         "xaxis": "x",
         "y": {
          "bdata": "BQIFCAgI",
          "dtype": "i1"
         },
         "yaxis": "y"
        },
        {
         "hovertemplate": "subject_name=SPACE_000101<br>species_name=human<br>label_name=%{x}<br>n_images=%{y}<extra></extra>",
         "legendgroup": "SPACE_000101",
         "marker": {
          "color": "#DDCB76",
          "pattern": {
           "shape": ""
          }
         },
         "name": "SPACE_000101",
         "orientation": "v",
         "showlegend": true,
         "textposition": "auto",
         "type": "bar",
         "x": [
          "small bowel",
          "colon",
          "liver",
          "background"
         ],
         "xaxis": "x",
         "y": {
          "bdata": "AgEBAg==",
          "dtype": "i1"
         },
         "yaxis": "y"
        },
        {
         "hovertemplate": "subject_name=SPACE_000102<br>species_name=human<br>label_name=%{x}<br>n_images=%{y}<extra></extra>",
         "legendgroup": "SPACE_000102",
         "marker": {
          "color": "#DDCB76",
          "pattern": {
           "shape": ""
          }
         },
         "name": "SPACE_000102",
         "orientation": "v",
         "showlegend": true,
         "textposition": "auto",
         "type": "bar",
         "x": [
          "kidney",
          "skin",
          "peritoneum",
          "background"
         ],
         "xaxis": "x",
         "y": {
          "bdata": "BAQEBA==",
          "dtype": "i1"
         },
         "yaxis": "y"
        },
        {
         "hovertemplate": "subject_name=SPACE_000103<br>species_name=human<br>label_name=%{x}<br>n_images=%{y}<extra></extra>",
         "legendgroup": "SPACE_000103",
         "marker": {
          "color": "#DDCB76",
          "pattern": {
           "shape": ""
          }
         },
         "name": "SPACE_000103",
         "orientation": "v",
         "showlegend": true,
         "textposition": "auto",
         "type": "bar",
         "x": [
          "stomach",
          "small bowel",
          "colon",
          "liver",
          "pancreas",
          "spleen",
          "omentum",
          "background"
         ],
         "xaxis": "x",
         "y": {
          "bdata": "AQMEBQQEBQU=",
          "dtype": "i1"
         },
         "yaxis": "y"
        },
        {
         "hovertemplate": "subject_name=SPACE_000104<br>species_name=human<br>label_name=%{x}<br>n_images=%{y}<extra></extra>",
         "legendgroup": "SPACE_000104",
         "marker": {
          "color": "#DDCB76",
          "pattern": {
           "shape": ""
          }
         },
         "name": "SPACE_000104",
         "orientation": "v",
         "showlegend": true,
         "textposition": "auto",
         "type": "bar",
         "x": [
          "small bowel",
          "colon",
          "omentum",
          "lung",
          "skin",
          "background"
         ],
         "xaxis": "x",
         "y": {
          "bdata": "AQEBCAgK",
          "dtype": "i1"
         },
         "yaxis": "y"
        },
        {
         "hovertemplate": "subject_name=SPACE_000105<br>species_name=human<br>label_name=%{x}<br>n_images=%{y}<extra></extra>",
         "legendgroup": "SPACE_000105",
         "marker": {
          "color": "#DDCB76",
          "pattern": {
           "shape": ""
          }
         },
         "name": "SPACE_000105",
         "orientation": "v",
         "showlegend": true,
         "textposition": "auto",
         "type": "bar",
         "x": [
          "kidney",
          "skin",
          "peritoneum",
          "background"
         ],
         "xaxis": "x",
         "y": {
          "bdata": "BQUDBQ==",
          "dtype": "i1"
         },
         "yaxis": "y"
        },
        {
         "hovertemplate": "subject_name=SPACE_000106<br>species_name=human<br>label_name=%{x}<br>n_images=%{y}<extra></extra>",
         "legendgroup": "SPACE_000106",
         "marker": {
          "color": "#DDCB76",
          "pattern": {
           "shape": ""
          }
         },
         "name": "SPACE_000106",
         "orientation": "v",
         "showlegend": true,
         "textposition": "auto",
         "type": "bar",
         "x": [
          "kidney"
         ],
         "xaxis": "x",
         "y": {
          "bdata": "DQ==",
          "dtype": "i1"
         },
         "yaxis": "y"
        },
        {
         "hovertemplate": "subject_name=SPACE_000107<br>species_name=human<br>label_name=%{x}<br>n_images=%{y}<extra></extra>",
         "legendgroup": "SPACE_000107",
         "marker": {
          "color": "#DDCB76",
          "pattern": {
           "shape": ""
          }
         },
         "name": "SPACE_000107",
         "orientation": "v",
         "showlegend": true,
         "textposition": "auto",
         "type": "bar",
         "x": [
          "small bowel",
          "liver",
          "omentum",
          "background"
         ],
         "xaxis": "x",
         "y": {
          "bdata": "AQIBAg==",
          "dtype": "i1"
         },
         "yaxis": "y"
        },
        {
         "hovertemplate": "subject_name=SPACE_000108<br>species_name=human<br>label_name=%{x}<br>n_images=%{y}<extra></extra>",
         "legendgroup": "SPACE_000108",
         "marker": {
          "color": "#DDCB76",
          "pattern": {
           "shape": ""
          }
         },
         "name": "SPACE_000108",
         "orientation": "v",
         "showlegend": true,
         "textposition": "auto",
         "type": "bar",
         "x": [
          "kidney",
          "skin",
          "background"
         ],
         "xaxis": "x",
         "y": {
          "bdata": "AgIC",
          "dtype": "i1"
         },
         "yaxis": "y"
        },
        {
         "hovertemplate": "subject_name=SPACE_000109<br>species_name=human<br>label_name=%{x}<br>n_images=%{y}<extra></extra>",
         "legendgroup": "SPACE_000109",
         "marker": {
          "color": "#DDCB76",
          "pattern": {
           "shape": ""
          }
         },
         "name": "SPACE_000109",
         "orientation": "v",
         "showlegend": true,
         "textposition": "auto",
         "type": "bar",
         "x": [
          "kidney",
          "skin",
          "background"
         ],
         "xaxis": "x",
         "y": {
          "bdata": "AQIC",
          "dtype": "i1"
         },
         "yaxis": "y"
        },
        {
         "hovertemplate": "subject_name=SPACE_000110<br>species_name=human<br>label_name=%{x}<br>n_images=%{y}<extra></extra>",
         "legendgroup": "SPACE_000110",
         "marker": {
          "color": "#DDCB76",
          "pattern": {
           "shape": ""
          }
         },
         "name": "SPACE_000110",
         "orientation": "v",
         "showlegend": true,
         "textposition": "auto",
         "type": "bar",
         "x": [
          "stomach",
          "small bowel",
          "colon",
          "liver",
          "omentum",
          "skin",
          "peritoneum",
          "background"
         ],
         "xaxis": "x",
         "y": {
          "bdata": "BAEEEwQCAgQ=",
          "dtype": "i1"
         },
         "yaxis": "y"
        },
        {
         "hovertemplate": "subject_name=SPACE_000111<br>species_name=human<br>label_name=%{x}<br>n_images=%{y}<extra></extra>",
         "legendgroup": "SPACE_000111",
         "marker": {
          "color": "#DDCB76",
          "pattern": {
           "shape": ""
          }
         },
         "name": "SPACE_000111",
         "orientation": "v",
         "showlegend": true,
         "textposition": "auto",
         "type": "bar",
         "x": [
          "stomach",
          "small bowel",
          "colon",
          "liver",
          "omentum",
          "skin",
          "peritoneum",
          "background"
         ],
         "xaxis": "x",
         "y": {
          "bdata": "BQcEBwgGBwg=",
          "dtype": "i1"
         },
         "yaxis": "y"
        },
        {
         "hovertemplate": "subject_name=SPACE_000112<br>species_name=human<br>label_name=%{x}<br>n_images=%{y}<extra></extra>",
         "legendgroup": "SPACE_000112",
         "marker": {
          "color": "#DDCB76",
          "pattern": {
           "shape": ""
          }
         },
         "name": "SPACE_000112",
         "orientation": "v",
         "showlegend": true,
         "textposition": "auto",
         "type": "bar",
         "x": [
          "kidney",
          "skin",
          "peritoneum",
          "background"
         ],
         "xaxis": "x",
         "y": {
          "bdata": "CwoGCw==",
          "dtype": "i1"
         },
         "yaxis": "y"
        },
        {
         "hovertemplate": "subject_name=SPACE_000113<br>species_name=human<br>label_name=%{x}<br>n_images=%{y}<extra></extra>",
         "legendgroup": "SPACE_000113",
         "marker": {
          "color": "#DDCB76",
          "pattern": {
           "shape": ""
          }
         },
         "name": "SPACE_000113",
         "orientation": "v",
         "showlegend": true,
         "textposition": "auto",
         "type": "bar",
         "x": [
          "kidney",
          "skin",
          "peritoneum",
          "background"
         ],
         "xaxis": "x",
         "y": {
          "bdata": "BAQEBA==",
          "dtype": "i1"
         },
         "yaxis": "y"
        },
        {
         "hovertemplate": "subject_name=SPACE_000115<br>species_name=human<br>label_name=%{x}<br>n_images=%{y}<extra></extra>",
         "legendgroup": "SPACE_000115",
         "marker": {
          "color": "#DDCB76",
          "pattern": {
           "shape": ""
          }
         },
         "name": "SPACE_000115",
         "orientation": "v",
         "showlegend": true,
         "textposition": "auto",
         "type": "bar",
         "x": [
          "colon",
          "kidney",
          "skin",
          "background"
         ],
         "xaxis": "x",
         "y": {
          "bdata": "AQICAg==",
          "dtype": "i1"
         },
         "yaxis": "y"
        },
        {
         "hovertemplate": "subject_name=SPACE_000116<br>species_name=human<br>label_name=%{x}<br>n_images=%{y}<extra></extra>",
         "legendgroup": "SPACE_000116",
         "marker": {
          "color": "#DDCB76",
          "pattern": {
           "shape": ""
          }
         },
         "name": "SPACE_000116",
         "orientation": "v",
         "showlegend": true,
         "textposition": "auto",
         "type": "bar",
         "x": [
          "stomach",
          "liver",
          "omentum",
          "skin",
          "peritoneum",
          "background"
         ],
         "xaxis": "x",
         "y": {
          "bdata": "Ah4CAgIC",
          "dtype": "i1"
         },
         "yaxis": "y"
        },
        {
         "hovertemplate": "subject_name=SPACE_000118<br>species_name=human<br>label_name=%{x}<br>n_images=%{y}<extra></extra>",
         "legendgroup": "SPACE_000118",
         "marker": {
          "color": "#DDCB76",
          "pattern": {
           "shape": ""
          }
         },
         "name": "SPACE_000118",
         "orientation": "v",
         "showlegend": true,
         "textposition": "auto",
         "type": "bar",
         "x": [
          "kidney",
          "skin",
          "peritoneum",
          "background"
         ],
         "xaxis": "x",
         "y": {
          "bdata": "BQUEBQ==",
          "dtype": "i1"
         },
         "yaxis": "y"
        },
        {
         "hovertemplate": "subject_name=SPACE_000119<br>species_name=human<br>label_name=%{x}<br>n_images=%{y}<extra></extra>",
         "legendgroup": "SPACE_000119",
         "marker": {
          "color": "#DDCB76",
          "pattern": {
           "shape": ""
          }
         },
         "name": "SPACE_000119",
         "orientation": "v",
         "showlegend": true,
         "textposition": "auto",
         "type": "bar",
         "x": [
          "stomach",
          "small bowel",
          "colon",
          "liver",
          "omentum",
          "skin",
          "peritoneum",
          "background"
         ],
         "xaxis": "x",
         "y": {
          "bdata": "BAYGKgUEBQY=",
          "dtype": "i1"
         },
         "yaxis": "y"
        },
        {
         "hovertemplate": "subject_name=SPACE_000120<br>species_name=human<br>label_name=%{x}<br>n_images=%{y}<extra></extra>",
         "legendgroup": "SPACE_000120",
         "marker": {
          "color": "#DDCB76",
          "pattern": {
           "shape": ""
          }
         },
         "name": "SPACE_000120",
         "orientation": "v",
         "showlegend": true,
         "textposition": "auto",
         "type": "bar",
         "x": [
          "kidney",
          "skin",
          "background"
         ],
         "xaxis": "x",
         "y": {
          "bdata": "AgIC",
          "dtype": "i1"
         },
         "yaxis": "y"
        },
        {
         "hovertemplate": "subject_name=SPACE_000121<br>species_name=human<br>label_name=%{x}<br>n_images=%{y}<extra></extra>",
         "legendgroup": "SPACE_000121",
         "marker": {
          "color": "#DDCB76",
          "pattern": {
           "shape": ""
          }
         },
         "name": "SPACE_000121",
         "orientation": "v",
         "showlegend": true,
         "textposition": "auto",
         "type": "bar",
         "x": [
          "kidney",
          "skin",
          "peritoneum",
          "background"
         ],
         "xaxis": "x",
         "y": {
          "bdata": "AwMBAw==",
          "dtype": "i1"
         },
         "yaxis": "y"
        },
        {
         "hovertemplate": "subject_name=SPACE_000122<br>species_name=human<br>label_name=%{x}<br>n_images=%{y}<extra></extra>",
         "legendgroup": "SPACE_000122",
         "marker": {
          "color": "#DDCB76",
          "pattern": {
           "shape": ""
          }
         },
         "name": "SPACE_000122",
         "orientation": "v",
         "showlegend": true,
         "textposition": "auto",
         "type": "bar",
         "x": [
          "kidney"
         ],
         "xaxis": "x",
         "y": {
          "bdata": "BQ==",
          "dtype": "i1"
         },
         "yaxis": "y"
        },
        {
         "hovertemplate": "subject_name=SPACE_000123<br>species_name=human<br>label_name=%{x}<br>n_images=%{y}<extra></extra>",
         "legendgroup": "SPACE_000123",
         "marker": {
          "color": "#DDCB76",
          "pattern": {
           "shape": ""
          }
         },
         "name": "SPACE_000123",
         "orientation": "v",
         "showlegend": true,
         "textposition": "auto",
         "type": "bar",
         "x": [
          "stomach",
          "liver",
          "omentum",
          "skin",
          "peritoneum",
          "background"
         ],
         "xaxis": "x",
         "y": {
          "bdata": "AxkBBgYF",
          "dtype": "i1"
         },
         "yaxis": "y"
        },
        {
         "hovertemplate": "subject_name=SPACE_000124<br>species_name=human<br>label_name=%{x}<br>n_images=%{y}<extra></extra>",
         "legendgroup": "SPACE_000124",
         "marker": {
          "color": "#DDCB76",
          "pattern": {
           "shape": ""
          }
         },
         "name": "SPACE_000124",
         "orientation": "v",
         "showlegend": true,
         "textposition": "auto",
         "type": "bar",
         "x": [
          "stomach",
          "small bowel",
          "colon",
          "liver",
          "pancreas",
          "spleen",
          "omentum",
          "background"
         ],
         "xaxis": "x",
         "y": {
          "bdata": "AQEBAwIPAwM=",
          "dtype": "i1"
         },
         "yaxis": "y"
        },
        {
         "hovertemplate": "subject_name=SPACE_000125<br>species_name=human<br>label_name=%{x}<br>n_images=%{y}<extra></extra>",
         "legendgroup": "SPACE_000125",
         "marker": {
          "color": "#DDCB76",
          "pattern": {
           "shape": ""
          }
         },
         "name": "SPACE_000125",
         "orientation": "v",
         "showlegend": true,
         "textposition": "auto",
         "type": "bar",
         "x": [
          "small bowel",
          "colon",
          "liver",
          "omentum",
          "background"
         ],
         "xaxis": "x",
         "y": {
          "bdata": "AgICAgI=",
          "dtype": "i1"
         },
         "yaxis": "y"
        },
        {
         "hovertemplate": "subject_name=SPACE_000126<br>species_name=human<br>label_name=%{x}<br>n_images=%{y}<extra></extra>",
         "legendgroup": "SPACE_000126",
         "marker": {
          "color": "#DDCB76",
          "pattern": {
           "shape": ""
          }
         },
         "name": "SPACE_000126",
         "orientation": "v",
         "showlegend": true,
         "textposition": "auto",
         "type": "bar",
         "x": [
          "small bowel",
          "colon",
          "liver",
          "omentum",
          "background"
         ],
         "xaxis": "x",
         "y": {
          "bdata": "AgECAgI=",
          "dtype": "i1"
         },
         "yaxis": "y"
        },
        {
         "hovertemplate": "subject_name=SPACE_000127<br>species_name=human<br>label_name=%{x}<br>n_images=%{y}<extra></extra>",
         "legendgroup": "SPACE_000127",
         "marker": {
          "color": "#DDCB76",
          "pattern": {
           "shape": ""
          }
         },
         "name": "SPACE_000127",
         "orientation": "v",
         "showlegend": true,
         "textposition": "auto",
         "type": "bar",
         "x": [
          "colon",
          "liver",
          "omentum",
          "background"
         ],
         "xaxis": "x",
         "y": {
          "bdata": "AgICAg==",
          "dtype": "i1"
         },
         "yaxis": "y"
        },
        {
         "hovertemplate": "subject_name=SPACE_000128<br>species_name=human<br>label_name=%{x}<br>n_images=%{y}<extra></extra>",
         "legendgroup": "SPACE_000128",
         "marker": {
          "color": "#DDCB76",
          "pattern": {
           "shape": ""
          }
         },
         "name": "SPACE_000128",
         "orientation": "v",
         "showlegend": true,
         "textposition": "auto",
         "type": "bar",
         "x": [
          "stomach",
          "small bowel",
          "liver",
          "spleen",
          "omentum",
          "skin",
          "background"
         ],
         "xaxis": "x",
         "y": {
          "bdata": "AQIDAgMCAw==",
          "dtype": "i1"
         },
         "yaxis": "y"
        },
        {
         "hovertemplate": "subject_name=SPACE_000129<br>species_name=human<br>label_name=%{x}<br>n_images=%{y}<extra></extra>",
         "legendgroup": "SPACE_000129",
         "marker": {
          "color": "#DDCB76",
          "pattern": {
           "shape": ""
          }
         },
         "name": "SPACE_000129",
         "orientation": "v",
         "showlegend": true,
         "textposition": "auto",
         "type": "bar",
         "x": [
          "kidney",
          "skin",
          "background"
         ],
         "xaxis": "x",
         "y": {
          "bdata": "BQUF",
          "dtype": "i1"
         },
         "yaxis": "y"
        },
        {
         "hovertemplate": "subject_name=SPACE_000130<br>species_name=human<br>label_name=%{x}<br>n_images=%{y}<extra></extra>",
         "legendgroup": "SPACE_000130",
         "marker": {
          "color": "#DDCB76",
          "pattern": {
           "shape": ""
          }
         },
         "name": "SPACE_000130",
         "orientation": "v",
         "showlegend": true,
         "textposition": "auto",
         "type": "bar",
         "x": [
          "kidney"
         ],
         "xaxis": "x",
         "y": {
          "bdata": "Ag==",
          "dtype": "i1"
         },
         "yaxis": "y"
        },
        {
         "hovertemplate": "subject_name=SPACE_000131<br>species_name=human<br>label_name=%{x}<br>n_images=%{y}<extra></extra>",
         "legendgroup": "SPACE_000131",
         "marker": {
          "color": "#DDCB76",
          "pattern": {
           "shape": ""
          }
         },
         "name": "SPACE_000131",
         "orientation": "v",
         "showlegend": true,
         "textposition": "auto",
         "type": "bar",
         "x": [
          "kidney",
          "skin",
          "peritoneum",
          "background"
         ],
         "xaxis": "x",
         "y": {
          "bdata": "AgEBAg==",
          "dtype": "i1"
         },
         "yaxis": "y"
        },
        {
         "hovertemplate": "subject_name=SPACE_000132<br>species_name=human<br>label_name=%{x}<br>n_images=%{y}<extra></extra>",
         "legendgroup": "SPACE_000132",
         "marker": {
          "color": "#DDCB76",
          "pattern": {
           "shape": ""
          }
         },
         "name": "SPACE_000132",
         "orientation": "v",
         "showlegend": true,
         "textposition": "auto",
         "type": "bar",
         "x": [
          "stomach",
          "small bowel",
          "omentum",
          "background"
         ],
         "xaxis": "x",
         "y": {
          "bdata": "AgICAg==",
          "dtype": "i1"
         },
         "yaxis": "y"
        },
        {
         "hovertemplate": "subject_name=SPACE_000133<br>species_name=human<br>label_name=%{x}<br>n_images=%{y}<extra></extra>",
         "legendgroup": "SPACE_000133",
         "marker": {
          "color": "#DDCB76",
          "pattern": {
           "shape": ""
          }
         },
         "name": "SPACE_000133",
         "orientation": "v",
         "showlegend": true,
         "textposition": "auto",
         "type": "bar",
         "x": [
          "liver",
          "skin",
          "peritoneum",
          "background"
         ],
         "xaxis": "x",
         "y": {
          "bdata": "AgEBAg==",
          "dtype": "i1"
         },
         "yaxis": "y"
        },
        {
         "hovertemplate": "subject_name=SPACE_000134<br>species_name=human<br>label_name=%{x}<br>n_images=%{y}<extra></extra>",
         "legendgroup": "SPACE_000134",
         "marker": {
          "color": "#DDCB76",
          "pattern": {
           "shape": ""
          }
         },
         "name": "SPACE_000134",
         "orientation": "v",
         "showlegend": true,
         "textposition": "auto",
         "type": "bar",
         "x": [
          "stomach",
          "colon",
          "liver",
          "omentum",
          "skin",
          "background"
         ],
         "xaxis": "x",
         "y": {
          "bdata": "AQECAgEC",
          "dtype": "i1"
         },
         "yaxis": "y"
        },
        {
         "hovertemplate": "subject_name=SPACE_000135<br>species_name=human<br>label_name=%{x}<br>n_images=%{y}<extra></extra>",
         "legendgroup": "SPACE_000135",
         "marker": {
          "color": "#DDCB76",
          "pattern": {
           "shape": ""
          }
         },
         "name": "SPACE_000135",
         "orientation": "v",
         "showlegend": true,
         "textposition": "auto",
         "type": "bar",
         "x": [
          "stomach",
          "liver",
          "omentum",
          "background"
         ],
         "xaxis": "x",
         "y": {
          "bdata": "AgICAg==",
          "dtype": "i1"
         },
         "yaxis": "y"
        },
        {
         "hovertemplate": "subject_name=SPACE_000136<br>species_name=human<br>label_name=%{x}<br>n_images=%{y}<extra></extra>",
         "legendgroup": "SPACE_000136",
         "marker": {
          "color": "#DDCB76",
          "pattern": {
           "shape": ""
          }
         },
         "name": "SPACE_000136",
         "orientation": "v",
         "showlegend": true,
         "textposition": "auto",
         "type": "bar",
         "x": [
          "kidney"
         ],
         "xaxis": "x",
         "y": {
          "bdata": "BQ==",
          "dtype": "i1"
         },
         "yaxis": "y"
        },
        {
         "hovertemplate": "subject_name=SPACE_000137<br>species_name=human<br>label_name=%{x}<br>n_images=%{y}<extra></extra>",
         "legendgroup": "SPACE_000137",
         "marker": {
          "color": "#DDCB76",
          "pattern": {
           "shape": ""
          }
         },
         "name": "SPACE_000137",
         "orientation": "v",
         "showlegend": true,
         "textposition": "auto",
         "type": "bar",
         "x": [
          "small bowel",
          "colon",
          "liver",
          "pancreas",
          "spleen",
          "omentum",
          "background"
         ],
         "xaxis": "x",
         "y": {
          "bdata": "BBEDBA0EBA==",
          "dtype": "i1"
         },
         "yaxis": "y"
        },
        {
         "hovertemplate": "subject_name=SPACE_000138<br>species_name=human<br>label_name=%{x}<br>n_images=%{y}<extra></extra>",
         "legendgroup": "SPACE_000138",
         "marker": {
          "color": "#DDCB76",
          "pattern": {
           "shape": ""
          }
         },
         "name": "SPACE_000138",
         "orientation": "v",
         "showlegend": true,
         "textposition": "auto",
         "type": "bar",
         "x": [
          "small bowel",
          "colon",
          "liver",
          "omentum",
          "lung",
          "skin",
          "background"
         ],
         "xaxis": "x",
         "y": {
          "bdata": "AQEBAQUFBg==",
          "dtype": "i1"
         },
         "yaxis": "y"
        },
        {
         "hovertemplate": "subject_name=SPACE_000139<br>species_name=human<br>label_name=%{x}<br>n_images=%{y}<extra></extra>",
         "legendgroup": "SPACE_000139",
         "marker": {
          "color": "#DDCB76",
          "pattern": {
           "shape": ""
          }
         },
         "name": "SPACE_000139",
         "orientation": "v",
         "showlegend": true,
         "textposition": "auto",
         "type": "bar",
         "x": [
          "small bowel",
          "liver",
          "omentum",
          "background"
         ],
         "xaxis": "x",
         "y": {
          "bdata": "AQICAg==",
          "dtype": "i1"
         },
         "yaxis": "y"
        },
        {
         "hovertemplate": "subject_name=SPACE_000140<br>species_name=human<br>label_name=%{x}<br>n_images=%{y}<extra></extra>",
         "legendgroup": "SPACE_000140",
         "marker": {
          "color": "#DDCB76",
          "pattern": {
           "shape": ""
          }
         },
         "name": "SPACE_000140",
         "orientation": "v",
         "showlegend": true,
         "textposition": "auto",
         "type": "bar",
         "x": [
          "skin",
          "background"
         ],
         "xaxis": "x",
         "y": {
          "bdata": "AgI=",
          "dtype": "i1"
         },
         "yaxis": "y"
        },
        {
         "hovertemplate": "subject_name=SPACE_000141<br>species_name=human<br>label_name=%{x}<br>n_images=%{y}<extra></extra>",
         "legendgroup": "SPACE_000141",
         "marker": {
          "color": "#DDCB76",
          "pattern": {
           "shape": ""
          }
         },
         "name": "SPACE_000141",
         "orientation": "v",
         "showlegend": true,
         "textposition": "auto",
         "type": "bar",
         "x": [
          "stomach",
          "colon",
          "liver",
          "omentum",
          "background"
         ],
         "xaxis": "x",
         "y": {
          "bdata": "AwIDAwM=",
          "dtype": "i1"
         },
         "yaxis": "y"
        },
        {
         "hovertemplate": "subject_name=SPACE_000142<br>species_name=human<br>label_name=%{x}<br>n_images=%{y}<extra></extra>",
         "legendgroup": "SPACE_000142",
         "marker": {
          "color": "#DDCB76",
          "pattern": {
           "shape": ""
          }
         },
         "name": "SPACE_000142",
         "orientation": "v",
         "showlegend": true,
         "textposition": "auto",
         "type": "bar",
         "x": [
          "liver",
          "skin",
          "background"
         ],
         "xaxis": "x",
         "y": {
          "bdata": "DQEC",
          "dtype": "i1"
         },
         "yaxis": "y"
        },
        {
         "hovertemplate": "subject_name=SPACE_000143<br>species_name=human<br>label_name=%{x}<br>n_images=%{y}<extra></extra>",
         "legendgroup": "SPACE_000143",
         "marker": {
          "color": "#DDCB76",
          "pattern": {
           "shape": ""
          }
         },
         "name": "SPACE_000143",
         "orientation": "v",
         "showlegend": true,
         "textposition": "auto",
         "type": "bar",
         "x": [
          "small bowel",
          "colon",
          "background"
         ],
         "xaxis": "x",
         "y": {
          "bdata": "AgEC",
          "dtype": "i1"
         },
         "yaxis": "y"
        },
        {
         "hovertemplate": "subject_name=SPACE_000144<br>species_name=human<br>label_name=%{x}<br>n_images=%{y}<extra></extra>",
         "legendgroup": "SPACE_000144",
         "marker": {
          "color": "#DDCB76",
          "pattern": {
           "shape": ""
          }
         },
         "name": "SPACE_000144",
         "orientation": "v",
         "showlegend": true,
         "textposition": "auto",
         "type": "bar",
         "x": [
          "stomach",
          "small bowel",
          "colon",
          "liver",
          "omentum",
          "background"
         ],
         "xaxis": "x",
         "y": {
          "bdata": "AQEBAgIC",
          "dtype": "i1"
         },
         "yaxis": "y"
        },
        {
         "hovertemplate": "subject_name=SPACE_000145<br>species_name=human<br>label_name=%{x}<br>n_images=%{y}<extra></extra>",
         "legendgroup": "SPACE_000145",
         "marker": {
          "color": "#DDCB76",
          "pattern": {
           "shape": ""
          }
         },
         "name": "SPACE_000145",
         "orientation": "v",
         "showlegend": true,
         "textposition": "auto",
         "type": "bar",
         "x": [
          "liver",
          "omentum",
          "skin",
          "background"
         ],
         "xaxis": "x",
         "y": {
          "bdata": "AgICAg==",
          "dtype": "i1"
         },
         "yaxis": "y"
        },
        {
         "hovertemplate": "subject_name=SPACE_000146<br>species_name=human<br>label_name=%{x}<br>n_images=%{y}<extra></extra>",
         "legendgroup": "SPACE_000146",
         "marker": {
          "color": "#DDCB76",
          "pattern": {
           "shape": ""
          }
         },
         "name": "SPACE_000146",
         "orientation": "v",
         "showlegend": true,
         "textposition": "auto",
         "type": "bar",
         "x": [
          "stomach",
          "small bowel",
          "liver",
          "skin",
          "peritoneum",
          "background"
         ],
         "xaxis": "x",
         "y": {
          "bdata": "AgEDAwID",
          "dtype": "i1"
         },
         "yaxis": "y"
        },
        {
         "hovertemplate": "subject_name=SPACE_000147<br>species_name=human<br>label_name=%{x}<br>n_images=%{y}<extra></extra>",
         "legendgroup": "SPACE_000147",
         "marker": {
          "color": "#DDCB76",
          "pattern": {
           "shape": ""
          }
         },
         "name": "SPACE_000147",
         "orientation": "v",
         "showlegend": true,
         "textposition": "auto",
         "type": "bar",
         "x": [
          "kidney"
         ],
         "xaxis": "x",
         "y": {
          "bdata": "BQ==",
          "dtype": "i1"
         },
         "yaxis": "y"
        },
        {
         "hovertemplate": "subject_name=SPACE_000148<br>species_name=human<br>label_name=%{x}<br>n_images=%{y}<extra></extra>",
         "legendgroup": "SPACE_000148",
         "marker": {
          "color": "#DDCB76",
          "pattern": {
           "shape": ""
          }
         },
         "name": "SPACE_000148",
         "orientation": "v",
         "showlegend": true,
         "textposition": "auto",
         "type": "bar",
         "x": [
          "kidney"
         ],
         "xaxis": "x",
         "y": {
          "bdata": "Ag==",
          "dtype": "i1"
         },
         "yaxis": "y"
        },
        {
         "hovertemplate": "subject_name=SPACE_000149<br>species_name=human<br>label_name=%{x}<br>n_images=%{y}<extra></extra>",
         "legendgroup": "SPACE_000149",
         "marker": {
          "color": "#DDCB76",
          "pattern": {
           "shape": ""
          }
         },
         "name": "SPACE_000149",
         "orientation": "v",
         "showlegend": true,
         "textposition": "auto",
         "type": "bar",
         "x": [
          "stomach",
          "small bowel",
          "colon",
          "liver",
          "omentum",
          "background"
         ],
         "xaxis": "x",
         "y": {
          "bdata": "AgECAgIC",
          "dtype": "i1"
         },
         "yaxis": "y"
        },
        {
         "hovertemplate": "subject_name=SPACE_000150<br>species_name=human<br>label_name=%{x}<br>n_images=%{y}<extra></extra>",
         "legendgroup": "SPACE_000150",
         "marker": {
          "color": "#DDCB76",
          "pattern": {
           "shape": ""
          }
         },
         "name": "SPACE_000150",
         "orientation": "v",
         "showlegend": true,
         "textposition": "auto",
         "type": "bar",
         "x": [
          "stomach",
          "small bowel",
          "liver",
          "omentum",
          "background"
         ],
         "xaxis": "x",
         "y": {
          "bdata": "AgICAgI=",
          "dtype": "i1"
         },
         "yaxis": "y"
        },
        {
         "hovertemplate": "subject_name=SPACE_000151<br>species_name=human<br>label_name=%{x}<br>n_images=%{y}<extra></extra>",
         "legendgroup": "SPACE_000151",
         "marker": {
          "color": "#DDCB76",
          "pattern": {
           "shape": ""
          }
         },
         "name": "SPACE_000151",
         "orientation": "v",
         "showlegend": true,
         "textposition": "auto",
         "type": "bar",
         "x": [
          "stomach",
          "colon",
          "liver",
          "spleen",
          "omentum",
          "background"
         ],
         "xaxis": "x",
         "y": {
          "bdata": "AgICCAIC",
          "dtype": "i1"
         },
         "yaxis": "y"
        },
        {
         "hovertemplate": "subject_name=SPACE_000152<br>species_name=human<br>label_name=%{x}<br>n_images=%{y}<extra></extra>",
         "legendgroup": "SPACE_000152",
         "marker": {
          "color": "#DDCB76",
          "pattern": {
           "shape": ""
          }
         },
         "name": "SPACE_000152",
         "orientation": "v",
         "showlegend": true,
         "textposition": "auto",
         "type": "bar",
         "x": [
          "stomach",
          "small bowel",
          "colon",
          "liver",
          "omentum",
          "background"
         ],
         "xaxis": "x",
         "y": {
          "bdata": "AQICAQEC",
          "dtype": "i1"
         },
         "yaxis": "y"
        },
        {
         "hovertemplate": "subject_name=SPACE_000153<br>species_name=human<br>label_name=%{x}<br>n_images=%{y}<extra></extra>",
         "legendgroup": "SPACE_000153",
         "marker": {
          "color": "#DDCB76",
          "pattern": {
           "shape": ""
          }
         },
         "name": "SPACE_000153",
         "orientation": "v",
         "showlegend": true,
         "textposition": "auto",
         "type": "bar",
         "x": [
          "skin",
          "background"
         ],
         "xaxis": "x",
         "y": {
          "bdata": "AgI=",
          "dtype": "i1"
         },
         "yaxis": "y"
        },
        {
         "hovertemplate": "subject_name=SPACE_000155<br>species_name=human<br>label_name=%{x}<br>n_images=%{y}<extra></extra>",
         "legendgroup": "SPACE_000155",
         "marker": {
          "color": "#DDCB76",
          "pattern": {
           "shape": ""
          }
         },
         "name": "SPACE_000155",
         "orientation": "v",
         "showlegend": true,
         "textposition": "auto",
         "type": "bar",
         "x": [
          "small bowel",
          "liver",
          "omentum",
          "skin",
          "peritoneum",
          "background"
         ],
         "xaxis": "x",
         "y": {
          "bdata": "AwMDAwED",
          "dtype": "i1"
         },
         "yaxis": "y"
        },
        {
         "hovertemplate": "subject_name=SPACE_000156<br>species_name=human<br>label_name=%{x}<br>n_images=%{y}<extra></extra>",
         "legendgroup": "SPACE_000156",
         "marker": {
          "color": "#DDCB76",
          "pattern": {
           "shape": ""
          }
         },
         "name": "SPACE_000156",
         "orientation": "v",
         "showlegend": true,
         "textposition": "auto",
         "type": "bar",
         "x": [
          "stomach",
          "small bowel",
          "colon",
          "liver",
          "spleen",
          "omentum",
          "peritoneum",
          "background"
         ],
         "xaxis": "x",
         "y": {
          "bdata": "AQEBAQwBAQI=",
          "dtype": "i1"
         },
         "yaxis": "y"
        },
        {
         "hovertemplate": "subject_name=SPACE_000157<br>species_name=human<br>label_name=%{x}<br>n_images=%{y}<extra></extra>",
         "legendgroup": "SPACE_000157",
         "marker": {
          "color": "#DDCB76",
          "pattern": {
           "shape": ""
          }
         },
         "name": "SPACE_000157",
         "orientation": "v",
         "showlegend": true,
         "textposition": "auto",
         "type": "bar",
         "x": [
          "kidney"
         ],
         "xaxis": "x",
         "y": {
          "bdata": "BA==",
          "dtype": "i1"
         },
         "yaxis": "y"
        },
        {
         "hovertemplate": "subject_name=SPACE_000158<br>species_name=human<br>label_name=%{x}<br>n_images=%{y}<extra></extra>",
         "legendgroup": "SPACE_000158",
         "marker": {
          "color": "#DDCB76",
          "pattern": {
           "shape": ""
          }
         },
         "name": "SPACE_000158",
         "orientation": "v",
         "showlegend": true,
         "textposition": "auto",
         "type": "bar",
         "x": [
          "stomach",
          "liver",
          "omentum",
          "background"
         ],
         "xaxis": "x",
         "y": {
          "bdata": "AhACAg==",
          "dtype": "i1"
         },
         "yaxis": "y"
        },
        {
         "hovertemplate": "subject_name=SPACE_000159<br>species_name=human<br>label_name=%{x}<br>n_images=%{y}<extra></extra>",
         "legendgroup": "SPACE_000159",
         "marker": {
          "color": "#DDCB76",
          "pattern": {
           "shape": ""
          }
         },
         "name": "SPACE_000159",
         "orientation": "v",
         "showlegend": true,
         "textposition": "auto",
         "type": "bar",
         "x": [
          "kidney",
          "skin",
          "peritoneum",
          "background"
         ],
         "xaxis": "x",
         "y": {
          "bdata": "AgIBAg==",
          "dtype": "i1"
         },
         "yaxis": "y"
        },
        {
         "hovertemplate": "subject_name=SPACE_000160<br>species_name=human<br>label_name=%{x}<br>n_images=%{y}<extra></extra>",
         "legendgroup": "SPACE_000160",
         "marker": {
          "color": "#DDCB76",
          "pattern": {
           "shape": ""
          }
         },
         "name": "SPACE_000160",
         "orientation": "v",
         "showlegend": true,
         "textposition": "auto",
         "type": "bar",
         "x": [
          "stomach",
          "small bowel",
          "colon",
          "liver",
          "pancreas",
          "omentum",
          "background"
         ],
         "xaxis": "x",
         "y": {
          "bdata": "AwEDBAIDBA==",
          "dtype": "i1"
         },
         "yaxis": "y"
        },
        {
         "hovertemplate": "subject_name=SPACE_000161<br>species_name=human<br>label_name=%{x}<br>n_images=%{y}<extra></extra>",
         "legendgroup": "SPACE_000161",
         "marker": {
          "color": "#DDCB76",
          "pattern": {
           "shape": ""
          }
         },
         "name": "SPACE_000161",
         "orientation": "v",
         "showlegend": true,
         "textposition": "auto",
         "type": "bar",
         "x": [
          "stomach",
          "small bowel",
          "liver",
          "spleen",
          "omentum",
          "background"
         ],
         "xaxis": "x",
         "y": {
          "bdata": "AgECGAIC",
          "dtype": "i1"
         },
         "yaxis": "y"
        },
        {
         "hovertemplate": "subject_name=SPACE_000162<br>species_name=human<br>label_name=%{x}<br>n_images=%{y}<extra></extra>",
         "legendgroup": "SPACE_000162",
         "marker": {
          "color": "#DDCB76",
          "pattern": {
           "shape": ""
          }
         },
         "name": "SPACE_000162",
         "orientation": "v",
         "showlegend": true,
         "textposition": "auto",
         "type": "bar",
         "x": [
          "stomach",
          "small bowel",
          "colon",
          "liver",
          "spleen",
          "omentum",
          "background"
         ],
         "xaxis": "x",
         "y": {
          "bdata": "BwcHBw0HBw==",
          "dtype": "i1"
         },
         "yaxis": "y"
        },
        {
         "hovertemplate": "subject_name=SPACE_000163<br>species_name=human<br>label_name=%{x}<br>n_images=%{y}<extra></extra>",
         "legendgroup": "SPACE_000163",
         "marker": {
          "color": "#DDCB76",
          "pattern": {
           "shape": ""
          }
         },
         "name": "SPACE_000163",
         "orientation": "v",
         "showlegend": true,
         "textposition": "auto",
         "type": "bar",
         "x": [
          "stomach",
          "small bowel",
          "colon",
          "omentum",
          "background"
         ],
         "xaxis": "x",
         "y": {
          "bdata": "AQIBAQI=",
          "dtype": "i1"
         },
         "yaxis": "y"
        },
        {
         "hovertemplate": "subject_name=SPACE_000164<br>species_name=human<br>label_name=%{x}<br>n_images=%{y}<extra></extra>",
         "legendgroup": "SPACE_000164",
         "marker": {
          "color": "#DDCB76",
          "pattern": {
           "shape": ""
          }
         },
         "name": "SPACE_000164",
         "orientation": "v",
         "showlegend": true,
         "textposition": "auto",
         "type": "bar",
         "x": [
          "small bowel",
          "colon",
          "liver",
          "pancreas",
          "omentum",
          "peritoneum",
          "background"
         ],
         "xaxis": "x",
         "y": {
          "bdata": "CAcICAkBCQ==",
          "dtype": "i1"
         },
         "yaxis": "y"
        },
        {
         "hovertemplate": "subject_name=SPACE_000165<br>species_name=human<br>label_name=%{x}<br>n_images=%{y}<extra></extra>",
         "legendgroup": "SPACE_000165",
         "marker": {
          "color": "#DDCB76",
          "pattern": {
           "shape": ""
          }
         },
         "name": "SPACE_000165",
         "orientation": "v",
         "showlegend": true,
         "textposition": "auto",
         "type": "bar",
         "x": [
          "stomach",
          "small bowel",
          "colon",
          "pancreas",
          "spleen",
          "omentum",
          "skin",
          "background"
         ],
         "xaxis": "x",
         "y": {
          "bdata": "AQEBAQ0CAQI=",
          "dtype": "i1"
         },
         "yaxis": "y"
        },
        {
         "hovertemplate": "subject_name=SPACE_000166<br>species_name=human<br>label_name=%{x}<br>n_images=%{y}<extra></extra>",
         "legendgroup": "SPACE_000166",
         "marker": {
          "color": "#DDCB76",
          "pattern": {
           "shape": ""
          }
         },
         "name": "SPACE_000166",
         "orientation": "v",
         "showlegend": true,
         "textposition": "auto",
         "type": "bar",
         "x": [
          "skin",
          "background"
         ],
         "xaxis": "x",
         "y": {
          "bdata": "AgI=",
          "dtype": "i1"
         },
         "yaxis": "y"
        },
        {
         "hovertemplate": "subject_name=SPACE_000167<br>species_name=human<br>label_name=%{x}<br>n_images=%{y}<extra></extra>",
         "legendgroup": "SPACE_000167",
         "marker": {
          "color": "#DDCB76",
          "pattern": {
           "shape": ""
          }
         },
         "name": "SPACE_000167",
         "orientation": "v",
         "showlegend": true,
         "textposition": "auto",
         "type": "bar",
         "x": [
          "stomach",
          "small bowel",
          "colon",
          "liver",
          "pancreas",
          "spleen",
          "omentum",
          "background"
         ],
         "xaxis": "x",
         "y": {
          "bdata": "AQECAQETAQI=",
          "dtype": "i1"
         },
         "yaxis": "y"
        },
        {
         "hovertemplate": "subject_name=SPACE_000168<br>species_name=human<br>label_name=%{x}<br>n_images=%{y}<extra></extra>",
         "legendgroup": "SPACE_000168",
         "marker": {
          "color": "#DDCB76",
          "pattern": {
           "shape": ""
          }
         },
         "name": "SPACE_000168",
         "orientation": "v",
         "showlegend": true,
         "textposition": "auto",
         "type": "bar",
         "x": [
          "liver",
          "spleen",
          "peritoneum",
          "background"
         ],
         "xaxis": "x",
         "y": {
          "bdata": "AQoDAw==",
          "dtype": "i1"
         },
         "yaxis": "y"
        },
        {
         "hovertemplate": "subject_name=SPACE_000169<br>species_name=human<br>label_name=%{x}<br>n_images=%{y}<extra></extra>",
         "legendgroup": "SPACE_000169",
         "marker": {
          "color": "#DDCB76",
          "pattern": {
           "shape": ""
          }
         },
         "name": "SPACE_000169",
         "orientation": "v",
         "showlegend": true,
         "textposition": "auto",
         "type": "bar",
         "x": [
          "stomach",
          "small bowel",
          "colon",
          "liver",
          "omentum",
          "peritoneum",
          "background"
         ],
         "xaxis": "x",
         "y": {
          "bdata": "AQICAgEBAg==",
          "dtype": "i1"
         },
         "yaxis": "y"
        },
        {
         "hovertemplate": "subject_name=SPACE_000170<br>species_name=human<br>label_name=%{x}<br>n_images=%{y}<extra></extra>",
         "legendgroup": "SPACE_000170",
         "marker": {
          "color": "#DDCB76",
          "pattern": {
           "shape": ""
          }
         },
         "name": "SPACE_000170",
         "orientation": "v",
         "showlegend": true,
         "textposition": "auto",
         "type": "bar",
         "x": [
          "stomach",
          "small bowel",
          "colon",
          "liver",
          "omentum",
          "skin",
          "peritoneum",
          "background"
         ],
         "xaxis": "x",
         "y": {
          "bdata": "AgIDBQUDBQU=",
          "dtype": "i1"
         },
         "yaxis": "y"
        },
        {
         "hovertemplate": "subject_name=SPACE_000171<br>species_name=human<br>label_name=%{x}<br>n_images=%{y}<extra></extra>",
         "legendgroup": "SPACE_000171",
         "marker": {
          "color": "#DDCB76",
          "pattern": {
           "shape": ""
          }
         },
         "name": "SPACE_000171",
         "orientation": "v",
         "showlegend": true,
         "textposition": "auto",
         "type": "bar",
         "x": [
          "stomach",
          "small bowel",
          "colon",
          "liver",
          "omentum",
          "background"
         ],
         "xaxis": "x",
         "y": {
          "bdata": "AQEBAQIC",
          "dtype": "i1"
         },
         "yaxis": "y"
        },
        {
         "hovertemplate": "subject_name=SPACE_000172<br>species_name=human<br>label_name=%{x}<br>n_images=%{y}<extra></extra>",
         "legendgroup": "SPACE_000172",
         "marker": {
          "color": "#DDCB76",
          "pattern": {
           "shape": ""
          }
         },
         "name": "SPACE_000172",
         "orientation": "v",
         "showlegend": true,
         "textposition": "auto",
         "type": "bar",
         "x": [
          "stomach",
          "colon",
          "liver",
          "pancreas",
          "spleen",
          "omentum",
          "background"
         ],
         "xaxis": "x",
         "y": {
          "bdata": "BAYCBA4ICA==",
          "dtype": "i1"
         },
         "yaxis": "y"
        },
        {
         "hovertemplate": "subject_name=SPACE_000173<br>species_name=human<br>label_name=%{x}<br>n_images=%{y}<extra></extra>",
         "legendgroup": "SPACE_000173",
         "marker": {
          "color": "#DDCB76",
          "pattern": {
           "shape": ""
          }
         },
         "name": "SPACE_000173",
         "orientation": "v",
         "showlegend": true,
         "textposition": "auto",
         "type": "bar",
         "x": [
          "stomach",
          "small bowel",
          "liver",
          "omentum",
          "lung",
          "skin",
          "peritoneum",
          "background"
         ],
         "xaxis": "x",
         "y": {
          "bdata": "AQEBAQMDAQQ=",
          "dtype": "i1"
         },
         "yaxis": "y"
        },
        {
         "hovertemplate": "subject_name=SPACE_000174<br>species_name=human<br>label_name=%{x}<br>n_images=%{y}<extra></extra>",
         "legendgroup": "SPACE_000174",
         "marker": {
          "color": "#DDCB76",
          "pattern": {
           "shape": ""
          }
         },
         "name": "SPACE_000174",
         "orientation": "v",
         "showlegend": true,
         "textposition": "auto",
         "type": "bar",
         "x": [
          "small bowel",
          "pancreas",
          "omentum",
          "background"
         ],
         "xaxis": "x",
         "y": {
          "bdata": "BAMEBA==",
          "dtype": "i1"
         },
         "yaxis": "y"
        },
        {
         "hovertemplate": "subject_name=SPACE_000175<br>species_name=human<br>label_name=%{x}<br>n_images=%{y}<extra></extra>",
         "legendgroup": "SPACE_000175",
         "marker": {
          "color": "#DDCB76",
          "pattern": {
           "shape": ""
          }
         },
         "name": "SPACE_000175",
         "orientation": "v",
         "showlegend": true,
         "textposition": "auto",
         "type": "bar",
         "x": [
          "small bowel",
          "colon",
          "pancreas",
          "peritoneum",
          "background"
         ],
         "xaxis": "x",
         "y": {
          "bdata": "BAMCAQQ=",
          "dtype": "i1"
         },
         "yaxis": "y"
        },
        {
         "hovertemplate": "subject_name=SPACE_000176<br>species_name=human<br>label_name=%{x}<br>n_images=%{y}<extra></extra>",
         "legendgroup": "SPACE_000176",
         "marker": {
          "color": "#DDCB76",
          "pattern": {
           "shape": ""
          }
         },
         "name": "SPACE_000176",
         "orientation": "v",
         "showlegend": true,
         "textposition": "auto",
         "type": "bar",
         "x": [
          "stomach",
          "small bowel",
          "colon",
          "liver",
          "omentum",
          "skin",
          "peritoneum",
          "background"
         ],
         "xaxis": "x",
         "y": {
          "bdata": "AQMFBQUCBQU=",
          "dtype": "i1"
         },
         "yaxis": "y"
        },
        {
         "hovertemplate": "subject_name=SPACE_000177<br>species_name=human<br>label_name=%{x}<br>n_images=%{y}<extra></extra>",
         "legendgroup": "SPACE_000177",
         "marker": {
          "color": "#DDCB76",
          "pattern": {
           "shape": ""
          }
         },
         "name": "SPACE_000177",
         "orientation": "v",
         "showlegend": true,
         "textposition": "auto",
         "type": "bar",
         "x": [
          "stomach",
          "colon",
          "spleen",
          "omentum",
          "background"
         ],
         "xaxis": "x",
         "y": {
          "bdata": "BgEZBgY=",
          "dtype": "i1"
         },
         "yaxis": "y"
        },
        {
         "hovertemplate": "subject_name=SPACE_000178<br>species_name=human<br>label_name=%{x}<br>n_images=%{y}<extra></extra>",
         "legendgroup": "SPACE_000178",
         "marker": {
          "color": "#DDCB76",
          "pattern": {
           "shape": ""
          }
         },
         "name": "SPACE_000178",
         "orientation": "v",
         "showlegend": true,
         "textposition": "auto",
         "type": "bar",
         "x": [
          "small bowel",
          "colon",
          "pancreas",
          "spleen",
          "omentum",
          "skin",
          "peritoneum",
          "background"
         ],
         "xaxis": "x",
         "y": {
          "bdata": "AwoFDwoBBAo=",
          "dtype": "i1"
         },
         "yaxis": "y"
        },
        {
         "hovertemplate": "subject_name=SPACE_000179<br>species_name=human<br>label_name=%{x}<br>n_images=%{y}<extra></extra>",
         "legendgroup": "SPACE_000179",
         "marker": {
          "color": "#DDCB76",
          "pattern": {
           "shape": ""
          }
         },
         "name": "SPACE_000179",
         "orientation": "v",
         "showlegend": true,
         "textposition": "auto",
         "type": "bar",
         "x": [
          "stomach",
          "small bowel",
          "colon",
          "liver",
          "pancreas",
          "omentum",
          "skin",
          "peritoneum",
          "background"
         ],
         "xaxis": "x",
         "y": {
          "bdata": "AgEFBAEFAQEF",
          "dtype": "i1"
         },
         "yaxis": "y"
        },
        {
         "hovertemplate": "subject_name=SPACE_000180<br>species_name=human<br>label_name=%{x}<br>n_images=%{y}<extra></extra>",
         "legendgroup": "SPACE_000180",
         "marker": {
          "color": "#DDCB76",
          "pattern": {
           "shape": ""
          }
         },
         "name": "SPACE_000180",
         "orientation": "v",
         "showlegend": true,
         "textposition": "auto",
         "type": "bar",
         "x": [
          "kidney"
         ],
         "xaxis": "x",
         "y": {
          "bdata": "AQ==",
          "dtype": "i1"
         },
         "yaxis": "y"
        },
        {
         "hovertemplate": "subject_name=SPACE_000181<br>species_name=human<br>label_name=%{x}<br>n_images=%{y}<extra></extra>",
         "legendgroup": "SPACE_000181",
         "marker": {
          "color": "#DDCB76",
          "pattern": {
           "shape": ""
          }
         },
         "name": "SPACE_000181",
         "orientation": "v",
         "showlegend": true,
         "textposition": "auto",
         "type": "bar",
         "x": [
          "stomach",
          "small bowel",
          "colon",
          "liver",
          "spleen",
          "omentum",
          "background"
         ],
         "xaxis": "x",
         "y": {
          "bdata": "AgIBAgECAg==",
          "dtype": "i1"
         },
         "yaxis": "y"
        },
        {
         "hovertemplate": "subject_name=SPACE_000182<br>species_name=human<br>label_name=%{x}<br>n_images=%{y}<extra></extra>",
         "legendgroup": "SPACE_000182",
         "marker": {
          "color": "#DDCB76",
          "pattern": {
           "shape": ""
          }
         },
         "name": "SPACE_000182",
         "orientation": "v",
         "showlegend": true,
         "textposition": "auto",
         "type": "bar",
         "x": [
          "stomach",
          "colon",
          "liver",
          "spleen",
          "omentum",
          "background"
         ],
         "xaxis": "x",
         "y": {
          "bdata": "AgECDAIC",
          "dtype": "i1"
         },
         "yaxis": "y"
        },
        {
         "hovertemplate": "subject_name=SPACE_000183<br>species_name=human<br>label_name=%{x}<br>n_images=%{y}<extra></extra>",
         "legendgroup": "SPACE_000183",
         "marker": {
          "color": "#DDCB76",
          "pattern": {
           "shape": ""
          }
         },
         "name": "SPACE_000183",
         "orientation": "v",
         "showlegend": true,
         "textposition": "auto",
         "type": "bar",
         "x": [
          "stomach",
          "small bowel",
          "colon",
          "liver",
          "kidney",
          "omentum",
          "background"
         ],
         "xaxis": "x",
         "y": {
          "bdata": "AQIBAgEBAg==",
          "dtype": "i1"
         },
         "yaxis": "y"
        },
        {
         "hovertemplate": "subject_name=SPACE_000184<br>species_name=human<br>label_name=%{x}<br>n_images=%{y}<extra></extra>",
         "legendgroup": "SPACE_000184",
         "marker": {
          "color": "#DDCB76",
          "pattern": {
           "shape": ""
          }
         },
         "name": "SPACE_000184",
         "orientation": "v",
         "showlegend": true,
         "textposition": "auto",
         "type": "bar",
         "x": [
          "colon",
          "liver",
          "skin",
          "peritoneum",
          "background"
         ],
         "xaxis": "x",
         "y": {
          "bdata": "ARICAQI=",
          "dtype": "i1"
         },
         "yaxis": "y"
        },
        {
         "hovertemplate": "subject_name=SPACE_000185<br>species_name=human<br>label_name=%{x}<br>n_images=%{y}<extra></extra>",
         "legendgroup": "SPACE_000185",
         "marker": {
          "color": "#DDCB76",
          "pattern": {
           "shape": ""
          }
         },
         "name": "SPACE_000185",
         "orientation": "v",
         "showlegend": true,
         "textposition": "auto",
         "type": "bar",
         "x": [
          "stomach",
          "small bowel",
          "liver",
          "pancreas",
          "omentum",
          "background"
         ],
         "xaxis": "x",
         "y": {
          "bdata": "AwIDAwMD",
          "dtype": "i1"
         },
         "yaxis": "y"
        },
        {
         "hovertemplate": "subject_name=SPACE_000186<br>species_name=human<br>label_name=%{x}<br>n_images=%{y}<extra></extra>",
         "legendgroup": "SPACE_000186",
         "marker": {
          "color": "#DDCB76",
          "pattern": {
           "shape": ""
          }
         },
         "name": "SPACE_000186",
         "orientation": "v",
         "showlegend": true,
         "textposition": "auto",
         "type": "bar",
         "x": [
          "kidney",
          "skin",
          "background"
         ],
         "xaxis": "x",
         "y": {
          "bdata": "AQEB",
          "dtype": "i1"
         },
         "yaxis": "y"
        },
        {
         "hovertemplate": "subject_name=SPACE_000187<br>species_name=human<br>label_name=%{x}<br>n_images=%{y}<extra></extra>",
         "legendgroup": "SPACE_000187",
         "marker": {
          "color": "#DDCB76",
          "pattern": {
           "shape": ""
          }
         },
         "name": "SPACE_000187",
         "orientation": "v",
         "showlegend": true,
         "textposition": "auto",
         "type": "bar",
         "x": [
          "small bowel",
          "liver",
          "omentum",
          "background"
         ],
         "xaxis": "x",
         "y": {
          "bdata": "AgIBAg==",
          "dtype": "i1"
         },
         "yaxis": "y"
        },
        {
         "hovertemplate": "subject_name=SPACE_000188<br>species_name=human<br>label_name=%{x}<br>n_images=%{y}<extra></extra>",
         "legendgroup": "SPACE_000188",
         "marker": {
          "color": "#DDCB76",
          "pattern": {
           "shape": ""
          }
         },
         "name": "SPACE_000188",
         "orientation": "v",
         "showlegend": true,
         "textposition": "auto",
         "type": "bar",
         "x": [
          "stomach",
          "small bowel",
          "pancreas",
          "spleen",
          "omentum",
          "background"
         ],
         "xaxis": "x",
         "y": {
          "bdata": "AQEBDQIC",
          "dtype": "i1"
         },
         "yaxis": "y"
        },
        {
         "hovertemplate": "subject_name=SPACE_000189<br>species_name=human<br>label_name=%{x}<br>n_images=%{y}<extra></extra>",
         "legendgroup": "SPACE_000189",
         "marker": {
          "color": "#DDCB76",
          "pattern": {
           "shape": ""
          }
         },
         "name": "SPACE_000189",
         "orientation": "v",
         "showlegend": true,
         "textposition": "auto",
         "type": "bar",
         "x": [
          "stomach",
          "small bowel",
          "colon",
          "liver",
          "spleen",
          "background"
         ],
         "xaxis": "x",
         "y": {
          "bdata": "AgECAQUC",
          "dtype": "i1"
         },
         "yaxis": "y"
        },
        {
         "hovertemplate": "subject_name=SPACE_000190<br>species_name=human<br>label_name=%{x}<br>n_images=%{y}<extra></extra>",
         "legendgroup": "SPACE_000190",
         "marker": {
          "color": "#DDCB76",
          "pattern": {
           "shape": ""
          }
         },
         "name": "SPACE_000190",
         "orientation": "v",
         "showlegend": true,
         "textposition": "auto",
         "type": "bar",
         "x": [
          "kidney",
          "skin",
          "peritoneum",
          "background"
         ],
         "xaxis": "x",
         "y": {
          "bdata": "BAQDBA==",
          "dtype": "i1"
         },
         "yaxis": "y"
        },
        {
         "hovertemplate": "subject_name=SPACE_000191<br>species_name=human<br>label_name=%{x}<br>n_images=%{y}<extra></extra>",
         "legendgroup": "SPACE_000191",
         "marker": {
          "color": "#DDCB76",
          "pattern": {
           "shape": ""
          }
         },
         "name": "SPACE_000191",
         "orientation": "v",
         "showlegend": true,
         "textposition": "auto",
         "type": "bar",
         "x": [
          "small bowel",
          "colon",
          "liver",
          "skin",
          "peritoneum",
          "background"
         ],
         "xaxis": "x",
         "y": {
          "bdata": "Ah0CAgEC",
          "dtype": "i1"
         },
         "yaxis": "y"
        },
        {
         "hovertemplate": "subject_name=SPACE_000192<br>species_name=human<br>label_name=%{x}<br>n_images=%{y}<extra></extra>",
         "legendgroup": "SPACE_000192",
         "marker": {
          "color": "#DDCB76",
          "pattern": {
           "shape": ""
          }
         },
         "name": "SPACE_000192",
         "orientation": "v",
         "showlegend": true,
         "textposition": "auto",
         "type": "bar",
         "x": [
          "stomach",
          "colon",
          "spleen",
          "omentum",
          "background"
         ],
         "xaxis": "x",
         "y": {
          "bdata": "AQEQAgI=",
          "dtype": "i1"
         },
         "yaxis": "y"
        },
        {
         "hovertemplate": "subject_name=SPACE_000193<br>species_name=human<br>label_name=%{x}<br>n_images=%{y}<extra></extra>",
         "legendgroup": "SPACE_000193",
         "marker": {
          "color": "#DDCB76",
          "pattern": {
           "shape": ""
          }
         },
         "name": "SPACE_000193",
         "orientation": "v",
         "showlegend": true,
         "textposition": "auto",
         "type": "bar",
         "x": [
          "spleen",
          "skin",
          "background"
         ],
         "xaxis": "x",
         "y": {
          "bdata": "CgIC",
          "dtype": "i1"
         },
         "yaxis": "y"
        },
        {
         "hovertemplate": "subject_name=SPACE_000194<br>species_name=human<br>label_name=%{x}<br>n_images=%{y}<extra></extra>",
         "legendgroup": "SPACE_000194",
         "marker": {
          "color": "#DDCB76",
          "pattern": {
           "shape": ""
          }
         },
         "name": "SPACE_000194",
         "orientation": "v",
         "showlegend": true,
         "textposition": "auto",
         "type": "bar",
         "x": [
          "kidney"
         ],
         "xaxis": "x",
         "y": {
          "bdata": "Bw==",
          "dtype": "i1"
         },
         "yaxis": "y"
        },
        {
         "hovertemplate": "subject_name=SPACE_000195<br>species_name=human<br>label_name=%{x}<br>n_images=%{y}<extra></extra>",
         "legendgroup": "SPACE_000195",
         "marker": {
          "color": "#DDCB76",
          "pattern": {
           "shape": ""
          }
         },
         "name": "SPACE_000195",
         "orientation": "v",
         "showlegend": true,
         "textposition": "auto",
         "type": "bar",
         "x": [
          "kidney"
         ],
         "xaxis": "x",
         "y": {
          "bdata": "Aw==",
          "dtype": "i1"
         },
         "yaxis": "y"
        },
        {
         "hovertemplate": "subject_name=SPACE_000196<br>species_name=human<br>label_name=%{x}<br>n_images=%{y}<extra></extra>",
         "legendgroup": "SPACE_000196",
         "marker": {
          "color": "#DDCB76",
          "pattern": {
           "shape": ""
          }
         },
         "name": "SPACE_000196",
         "orientation": "v",
         "showlegend": true,
         "textposition": "auto",
         "type": "bar",
         "x": [
          "kidney",
          "skin",
          "background"
         ],
         "xaxis": "x",
         "y": {
          "bdata": "AgIC",
          "dtype": "i1"
         },
         "yaxis": "y"
        },
        {
         "hovertemplate": "subject_name=SPACE_000197<br>species_name=human<br>label_name=%{x}<br>n_images=%{y}<extra></extra>",
         "legendgroup": "SPACE_000197",
         "marker": {
          "color": "#DDCB76",
          "pattern": {
           "shape": ""
          }
         },
         "name": "SPACE_000197",
         "orientation": "v",
         "showlegend": true,
         "textposition": "auto",
         "type": "bar",
         "x": [
          "kidney",
          "skin",
          "background"
         ],
         "xaxis": "x",
         "y": {
          "bdata": "AgIC",
          "dtype": "i1"
         },
         "yaxis": "y"
        },
        {
         "hovertemplate": "subject_name=SPACE_000198<br>species_name=human<br>label_name=%{x}<br>n_images=%{y}<extra></extra>",
         "legendgroup": "SPACE_000198",
         "marker": {
          "color": "#DDCB76",
          "pattern": {
           "shape": ""
          }
         },
         "name": "SPACE_000198",
         "orientation": "v",
         "showlegend": true,
         "textposition": "auto",
         "type": "bar",
         "x": [
          "small bowel",
          "colon",
          "liver",
          "pancreas",
          "omentum",
          "background"
         ],
         "xaxis": "x",
         "y": {
          "bdata": "BAQOAwEE",
          "dtype": "i1"
         },
         "yaxis": "y"
        },
        {
         "hovertemplate": "subject_name=SPACE_000199<br>species_name=human<br>label_name=%{x}<br>n_images=%{y}<extra></extra>",
         "legendgroup": "SPACE_000199",
         "marker": {
          "color": "#DDCB76",
          "pattern": {
           "shape": ""
          }
         },
         "name": "SPACE_000199",
         "orientation": "v",
         "showlegend": true,
         "textposition": "auto",
         "type": "bar",
         "x": [
          "skin",
          "background"
         ],
         "xaxis": "x",
         "y": {
          "bdata": "AgI=",
          "dtype": "i1"
         },
         "yaxis": "y"
        },
        {
         "hovertemplate": "subject_name=SPACE_000200<br>species_name=human<br>label_name=%{x}<br>n_images=%{y}<extra></extra>",
         "legendgroup": "SPACE_000200",
         "marker": {
          "color": "#DDCB76",
          "pattern": {
           "shape": ""
          }
         },
         "name": "SPACE_000200",
         "orientation": "v",
         "showlegend": true,
         "textposition": "auto",
         "type": "bar",
         "x": [
          "small bowel",
          "background"
         ],
         "xaxis": "x",
         "y": {
          "bdata": "AgI=",
          "dtype": "i1"
         },
         "yaxis": "y"
        },
        {
         "hovertemplate": "subject_name=SPACE_000201<br>species_name=human<br>label_name=%{x}<br>n_images=%{y}<extra></extra>",
         "legendgroup": "SPACE_000201",
         "marker": {
          "color": "#DDCB76",
          "pattern": {
           "shape": ""
          }
         },
         "name": "SPACE_000201",
         "orientation": "v",
         "showlegend": true,
         "textposition": "auto",
         "type": "bar",
         "x": [
          "stomach",
          "small bowel",
          "colon",
          "liver",
          "omentum",
          "peritoneum",
          "background"
         ],
         "xaxis": "x",
         "y": {
          "bdata": "AQEBAgEBAg==",
          "dtype": "i1"
         },
         "yaxis": "y"
        },
        {
         "hovertemplate": "subject_name=SPACE_000202<br>species_name=human<br>label_name=%{x}<br>n_images=%{y}<extra></extra>",
         "legendgroup": "SPACE_000202",
         "marker": {
          "color": "#DDCB76",
          "pattern": {
           "shape": ""
          }
         },
         "name": "SPACE_000202",
         "orientation": "v",
         "showlegend": true,
         "textposition": "auto",
         "type": "bar",
         "x": [
          "stomach",
          "small bowel",
          "colon",
          "liver",
          "omentum",
          "background"
         ],
         "xaxis": "x",
         "y": {
          "bdata": "AQEBAgIC",
          "dtype": "i1"
         },
         "yaxis": "y"
        },
        {
         "hovertemplate": "subject_name=SPACE_000203<br>species_name=human<br>label_name=%{x}<br>n_images=%{y}<extra></extra>",
         "legendgroup": "SPACE_000203",
         "marker": {
          "color": "#DDCB76",
          "pattern": {
           "shape": ""
          }
         },
         "name": "SPACE_000203",
         "orientation": "v",
         "showlegend": true,
         "textposition": "auto",
         "type": "bar",
         "x": [
          "stomach",
          "small bowel",
          "colon",
          "liver",
          "pancreas",
          "omentum",
          "skin",
          "background"
         ],
         "xaxis": "x",
         "y": {
          "bdata": "AQEDBQYEAQc=",
          "dtype": "i1"
         },
         "yaxis": "y"
        },
        {
         "hovertemplate": "subject_name=SPACE_000204<br>species_name=human<br>label_name=%{x}<br>n_images=%{y}<extra></extra>",
         "legendgroup": "SPACE_000204",
         "marker": {
          "color": "#DDCB76",
          "pattern": {
           "shape": ""
          }
         },
         "name": "SPACE_000204",
         "orientation": "v",
         "showlegend": true,
         "textposition": "auto",
         "type": "bar",
         "x": [
          "kidney"
         ],
         "xaxis": "x",
         "y": {
          "bdata": "Aw==",
          "dtype": "i1"
         },
         "yaxis": "y"
        },
        {
         "hovertemplate": "subject_name=SPACE_000205<br>species_name=human<br>label_name=%{x}<br>n_images=%{y}<extra></extra>",
         "legendgroup": "SPACE_000205",
         "marker": {
          "color": "#DDCB76",
          "pattern": {
           "shape": ""
          }
         },
         "name": "SPACE_000205",
         "orientation": "v",
         "showlegend": true,
         "textposition": "auto",
         "type": "bar",
         "x": [
          "small bowel",
          "background"
         ],
         "xaxis": "x",
         "y": {
          "bdata": "AgI=",
          "dtype": "i1"
         },
         "yaxis": "y"
        },
        {
         "hovertemplate": "subject_name=SPACE_000206<br>species_name=human<br>label_name=%{x}<br>n_images=%{y}<extra></extra>",
         "legendgroup": "SPACE_000206",
         "marker": {
          "color": "#DDCB76",
          "pattern": {
           "shape": ""
          }
         },
         "name": "SPACE_000206",
         "orientation": "v",
         "showlegend": true,
         "textposition": "auto",
         "type": "bar",
         "x": [
          "kidney",
          "skin",
          "peritoneum",
          "background"
         ],
         "xaxis": "x",
         "y": {
          "bdata": "AgICAg==",
          "dtype": "i1"
         },
         "yaxis": "y"
        },
        {
         "hovertemplate": "subject_name=SPACE_000207<br>species_name=human<br>label_name=%{x}<br>n_images=%{y}<extra></extra>",
         "legendgroup": "SPACE_000207",
         "marker": {
          "color": "#DDCB76",
          "pattern": {
           "shape": ""
          }
         },
         "name": "SPACE_000207",
         "orientation": "v",
         "showlegend": true,
         "textposition": "auto",
         "type": "bar",
         "x": [
          "kidney",
          "skin",
          "background"
         ],
         "xaxis": "x",
         "y": {
          "bdata": "AQEB",
          "dtype": "i1"
         },
         "yaxis": "y"
        },
        {
         "hovertemplate": "subject_name=SPACE_000208<br>species_name=human<br>label_name=%{x}<br>n_images=%{y}<extra></extra>",
         "legendgroup": "SPACE_000208",
         "marker": {
          "color": "#DDCB76",
          "pattern": {
           "shape": ""
          }
         },
         "name": "SPACE_000208",
         "orientation": "v",
         "showlegend": true,
         "textposition": "auto",
         "type": "bar",
         "x": [
          "skin",
          "background"
         ],
         "xaxis": "x",
         "y": {
          "bdata": "AgI=",
          "dtype": "i1"
         },
         "yaxis": "y"
        },
        {
         "hovertemplate": "subject_name=SPACE_000209<br>species_name=human<br>label_name=%{x}<br>n_images=%{y}<extra></extra>",
         "legendgroup": "SPACE_000209",
         "marker": {
          "color": "#DDCB76",
          "pattern": {
           "shape": ""
          }
         },
         "name": "SPACE_000209",
         "orientation": "v",
         "showlegend": true,
         "textposition": "auto",
         "type": "bar",
         "x": [
          "kidney",
          "skin",
          "background"
         ],
         "xaxis": "x",
         "y": {
          "bdata": "AgIC",
          "dtype": "i1"
         },
         "yaxis": "y"
        },
        {
         "hovertemplate": "subject_name=SPACE_000210<br>species_name=human<br>label_name=%{x}<br>n_images=%{y}<extra></extra>",
         "legendgroup": "SPACE_000210",
         "marker": {
          "color": "#DDCB76",
          "pattern": {
           "shape": ""
          }
         },
         "name": "SPACE_000210",
         "orientation": "v",
         "showlegend": true,
         "textposition": "auto",
         "type": "bar",
         "x": [
          "kidney",
          "skin",
          "background"
         ],
         "xaxis": "x",
         "y": {
          "bdata": "AgIC",
          "dtype": "i1"
         },
         "yaxis": "y"
        },
        {
         "hovertemplate": "subject_name=SPACE_000211<br>species_name=human<br>label_name=%{x}<br>n_images=%{y}<extra></extra>",
         "legendgroup": "SPACE_000211",
         "marker": {
          "color": "#DDCB76",
          "pattern": {
           "shape": ""
          }
         },
         "name": "SPACE_000211",
         "orientation": "v",
         "showlegend": true,
         "textposition": "auto",
         "type": "bar",
         "x": [
          "colon",
          "liver",
          "omentum",
          "background"
         ],
         "xaxis": "x",
         "y": {
          "bdata": "AwMDAw==",
          "dtype": "i1"
         },
         "yaxis": "y"
        },
        {
         "hovertemplate": "subject_name=SPACE_000212<br>species_name=human<br>label_name=%{x}<br>n_images=%{y}<extra></extra>",
         "legendgroup": "SPACE_000212",
         "marker": {
          "color": "#DDCB76",
          "pattern": {
           "shape": ""
          }
         },
         "name": "SPACE_000212",
         "orientation": "v",
         "showlegend": true,
         "textposition": "auto",
         "type": "bar",
         "x": [
          "skin",
          "background"
         ],
         "xaxis": "x",
         "y": {
          "bdata": "AgI=",
          "dtype": "i1"
         },
         "yaxis": "y"
        },
        {
         "hovertemplate": "subject_name=SPACE_000213<br>species_name=human<br>label_name=%{x}<br>n_images=%{y}<extra></extra>",
         "legendgroup": "SPACE_000213",
         "marker": {
          "color": "#DDCB76",
          "pattern": {
           "shape": ""
          }
         },
         "name": "SPACE_000213",
         "orientation": "v",
         "showlegend": true,
         "textposition": "auto",
         "type": "bar",
         "x": [
          "kidney",
          "skin",
          "background"
         ],
         "xaxis": "x",
         "y": {
          "bdata": "AgIC",
          "dtype": "i1"
         },
         "yaxis": "y"
        },
        {
         "hovertemplate": "subject_name=SPACE_000214<br>species_name=human<br>label_name=%{x}<br>n_images=%{y}<extra></extra>",
         "legendgroup": "SPACE_000214",
         "marker": {
          "color": "#DDCB76",
          "pattern": {
           "shape": ""
          }
         },
         "name": "SPACE_000214",
         "orientation": "v",
         "showlegend": true,
         "textposition": "auto",
         "type": "bar",
         "x": [
          "kidney",
          "skin",
          "background"
         ],
         "xaxis": "x",
         "y": {
          "bdata": "AgIC",
          "dtype": "i1"
         },
         "yaxis": "y"
        },
        {
         "hovertemplate": "subject_name=SPACE_000215<br>species_name=human<br>label_name=%{x}<br>n_images=%{y}<extra></extra>",
         "legendgroup": "SPACE_000215",
         "marker": {
          "color": "#DDCB76",
          "pattern": {
           "shape": ""
          }
         },
         "name": "SPACE_000215",
         "orientation": "v",
         "showlegend": true,
         "textposition": "auto",
         "type": "bar",
         "x": [
          "stomach",
          "small bowel",
          "colon",
          "liver",
          "omentum",
          "background"
         ],
         "xaxis": "x",
         "y": {
          "bdata": "AgICAwMD",
          "dtype": "i1"
         },
         "yaxis": "y"
        },
        {
         "hovertemplate": "subject_name=SPACE_000216<br>species_name=human<br>label_name=%{x}<br>n_images=%{y}<extra></extra>",
         "legendgroup": "SPACE_000216",
         "marker": {
          "color": "#DDCB76",
          "pattern": {
           "shape": ""
          }
         },
         "name": "SPACE_000216",
         "orientation": "v",
         "showlegend": true,
         "textposition": "auto",
         "type": "bar",
         "x": [
          "spleen",
          "skin",
          "background"
         ],
         "xaxis": "x",
         "y": {
          "bdata": "CwIC",
          "dtype": "i1"
         },
         "yaxis": "y"
        },
        {
         "hovertemplate": "subject_name=SPACE_000217<br>species_name=human<br>label_name=%{x}<br>n_images=%{y}<extra></extra>",
         "legendgroup": "SPACE_000217",
         "marker": {
          "color": "#DDCB76",
          "pattern": {
           "shape": ""
          }
         },
         "name": "SPACE_000217",
         "orientation": "v",
         "showlegend": true,
         "textposition": "auto",
         "type": "bar",
         "x": [
          "small bowel",
          "colon",
          "pancreas",
          "omentum",
          "background"
         ],
         "xaxis": "x",
         "y": {
          "bdata": "AgIBAgI=",
          "dtype": "i1"
         },
         "yaxis": "y"
        },
        {
         "hovertemplate": "subject_name=SPACE_000218<br>species_name=human<br>label_name=%{x}<br>n_images=%{y}<extra></extra>",
         "legendgroup": "SPACE_000218",
         "marker": {
          "color": "#DDCB76",
          "pattern": {
           "shape": ""
          }
         },
         "name": "SPACE_000218",
         "orientation": "v",
         "showlegend": true,
         "textposition": "auto",
         "type": "bar",
         "x": [
          "stomach",
          "small bowel",
          "colon",
          "liver",
          "pancreas",
          "omentum",
          "background"
         ],
         "xaxis": "x",
         "y": {
          "bdata": "AwUFBAMDBQ==",
          "dtype": "i1"
         },
         "yaxis": "y"
        },
        {
         "hovertemplate": "subject_name=SPACE_000219<br>species_name=human<br>label_name=%{x}<br>n_images=%{y}<extra></extra>",
         "legendgroup": "SPACE_000219",
         "marker": {
          "color": "#DDCB76",
          "pattern": {
           "shape": ""
          }
         },
         "name": "SPACE_000219",
         "orientation": "v",
         "showlegend": true,
         "textposition": "auto",
         "type": "bar",
         "x": [
          "stomach",
          "small bowel",
          "colon",
          "liver",
          "pancreas",
          "omentum",
          "background"
         ],
         "xaxis": "x",
         "y": {
          "bdata": "AQICAwIBAw==",
          "dtype": "i1"
         },
         "yaxis": "y"
        },
        {
         "hovertemplate": "subject_name=SPACE_000220<br>species_name=human<br>label_name=%{x}<br>n_images=%{y}<extra></extra>",
         "legendgroup": "SPACE_000220",
         "marker": {
          "color": "#DDCB76",
          "pattern": {
           "shape": ""
          }
         },
         "name": "SPACE_000220",
         "orientation": "v",
         "showlegend": true,
         "textposition": "auto",
         "type": "bar",
         "x": [
          "stomach",
          "small bowel",
          "colon",
          "liver",
          "pancreas",
          "omentum",
          "background"
         ],
         "xaxis": "x",
         "y": {
          "bdata": "AQMCAwQFBQ==",
          "dtype": "i1"
         },
         "yaxis": "y"
        },
        {
         "hovertemplate": "subject_name=SPACE_000221<br>species_name=human<br>label_name=%{x}<br>n_images=%{y}<extra></extra>",
         "legendgroup": "SPACE_000221",
         "marker": {
          "color": "#DDCB76",
          "pattern": {
           "shape": ""
          }
         },
         "name": "SPACE_000221",
         "orientation": "v",
         "showlegend": true,
         "textposition": "auto",
         "type": "bar",
         "x": [
          "skin",
          "background"
         ],
         "xaxis": "x",
         "y": {
          "bdata": "AgI=",
          "dtype": "i1"
         },
         "yaxis": "y"
        },
        {
         "hovertemplate": "subject_name=SPACE_000222<br>species_name=human<br>label_name=%{x}<br>n_images=%{y}<extra></extra>",
         "legendgroup": "SPACE_000222",
         "marker": {
          "color": "#DDCB76",
          "pattern": {
           "shape": ""
          }
         },
         "name": "SPACE_000222",
         "orientation": "v",
         "showlegend": true,
         "textposition": "auto",
         "type": "bar",
         "x": [
          "stomach",
          "small bowel",
          "colon",
          "liver",
          "pancreas",
          "background"
         ],
         "xaxis": "x",
         "y": {
          "bdata": "AQMBAwID",
          "dtype": "i1"
         },
         "yaxis": "y"
        },
        {
         "hovertemplate": "subject_name=SPACE_000223<br>species_name=human<br>label_name=%{x}<br>n_images=%{y}<extra></extra>",
         "legendgroup": "SPACE_000223",
         "marker": {
          "color": "#DDCB76",
          "pattern": {
           "shape": ""
          }
         },
         "name": "SPACE_000223",
         "orientation": "v",
         "showlegend": true,
         "textposition": "auto",
         "type": "bar",
         "x": [
          "stomach",
          "small bowel",
          "liver",
          "pancreas",
          "omentum",
          "background"
         ],
         "xaxis": "x",
         "y": {
          "bdata": "AgQEAwQE",
          "dtype": "i1"
         },
         "yaxis": "y"
        },
        {
         "hovertemplate": "subject_name=SPACE_000224<br>species_name=human<br>label_name=%{x}<br>n_images=%{y}<extra></extra>",
         "legendgroup": "SPACE_000224",
         "marker": {
          "color": "#DDCB76",
          "pattern": {
           "shape": ""
          }
         },
         "name": "SPACE_000224",
         "orientation": "v",
         "showlegend": true,
         "textposition": "auto",
         "type": "bar",
         "x": [
          "kidney",
          "skin",
          "background"
         ],
         "xaxis": "x",
         "y": {
          "bdata": "AgIC",
          "dtype": "i1"
         },
         "yaxis": "y"
        },
        {
         "hovertemplate": "subject_name=SPACE_000226<br>species_name=human<br>label_name=%{x}<br>n_images=%{y}<extra></extra>",
         "legendgroup": "SPACE_000226",
         "marker": {
          "color": "#DDCB76",
          "pattern": {
           "shape": ""
          }
         },
         "name": "SPACE_000226",
         "orientation": "v",
         "showlegend": true,
         "textposition": "auto",
         "type": "bar",
         "x": [
          "stomach",
          "small bowel",
          "colon",
          "liver",
          "spleen",
          "omentum",
          "skin",
          "background"
         ],
         "xaxis": "x",
         "y": {
          "bdata": "AgECAgkCAQI=",
          "dtype": "i1"
         },
         "yaxis": "y"
        },
        {
         "hovertemplate": "subject_name=SPACE_000227<br>species_name=human<br>label_name=%{x}<br>n_images=%{y}<extra></extra>",
         "legendgroup": "SPACE_000227",
         "marker": {
          "color": "#DDCB76",
          "pattern": {
           "shape": ""
          }
         },
         "name": "SPACE_000227",
         "orientation": "v",
         "showlegend": true,
         "textposition": "auto",
         "type": "bar",
         "x": [
          "kidney"
         ],
         "xaxis": "x",
         "y": {
          "bdata": "BA==",
          "dtype": "i1"
         },
         "yaxis": "y"
        },
        {
         "hovertemplate": "subject_name=SPACE_000228<br>species_name=human<br>label_name=%{x}<br>n_images=%{y}<extra></extra>",
         "legendgroup": "SPACE_000228",
         "marker": {
          "color": "#DDCB76",
          "pattern": {
           "shape": ""
          }
         },
         "name": "SPACE_000228",
         "orientation": "v",
         "showlegend": true,
         "textposition": "auto",
         "type": "bar",
         "x": [
          "stomach",
          "small bowel",
          "liver",
          "omentum",
          "background"
         ],
         "xaxis": "x",
         "y": {
          "bdata": "AQEDAwM=",
          "dtype": "i1"
         },
         "yaxis": "y"
        },
        {
         "hovertemplate": "subject_name=SPACE_000229<br>species_name=human<br>label_name=%{x}<br>n_images=%{y}<extra></extra>",
         "legendgroup": "SPACE_000229",
         "marker": {
          "color": "#DDCB76",
          "pattern": {
           "shape": ""
          }
         },
         "name": "SPACE_000229",
         "orientation": "v",
         "showlegend": true,
         "textposition": "auto",
         "type": "bar",
         "x": [
          "colon",
          "liver",
          "omentum",
          "background"
         ],
         "xaxis": "x",
         "y": {
          "bdata": "AgIBAg==",
          "dtype": "i1"
         },
         "yaxis": "y"
        },
        {
         "hovertemplate": "subject_name=SPACE_000230<br>species_name=human<br>label_name=%{x}<br>n_images=%{y}<extra></extra>",
         "legendgroup": "SPACE_000230",
         "marker": {
          "color": "#DDCB76",
          "pattern": {
           "shape": ""
          }
         },
         "name": "SPACE_000230",
         "orientation": "v",
         "showlegend": true,
         "textposition": "auto",
         "type": "bar",
         "x": [
          "stomach",
          "small bowel",
          "omentum",
          "lung",
          "skin",
          "background"
         ],
         "xaxis": "x",
         "y": {
          "bdata": "AQICBAQE",
          "dtype": "i1"
         },
         "yaxis": "y"
        },
        {
         "hovertemplate": "subject_name=SPACE_000231<br>species_name=human<br>label_name=%{x}<br>n_images=%{y}<extra></extra>",
         "legendgroup": "SPACE_000231",
         "marker": {
          "color": "#DDCB76",
          "pattern": {
           "shape": ""
          }
         },
         "name": "SPACE_000231",
         "orientation": "v",
         "showlegend": true,
         "textposition": "auto",
         "type": "bar",
         "x": [
          "kidney"
         ],
         "xaxis": "x",
         "y": {
          "bdata": "AQ==",
          "dtype": "i1"
         },
         "yaxis": "y"
        },
        {
         "hovertemplate": "subject_name=SPACE_000232<br>species_name=human<br>label_name=%{x}<br>n_images=%{y}<extra></extra>",
         "legendgroup": "SPACE_000232",
         "marker": {
          "color": "#DDCB76",
          "pattern": {
           "shape": ""
          }
         },
         "name": "SPACE_000232",
         "orientation": "v",
         "showlegend": true,
         "textposition": "auto",
         "type": "bar",
         "x": [
          "kidney"
         ],
         "xaxis": "x",
         "y": {
          "bdata": "AQ==",
          "dtype": "i1"
         },
         "yaxis": "y"
        },
        {
         "hovertemplate": "subject_name=SPACE_000233<br>species_name=human<br>label_name=%{x}<br>n_images=%{y}<extra></extra>",
         "legendgroup": "SPACE_000233",
         "marker": {
          "color": "#DDCB76",
          "pattern": {
           "shape": ""
          }
         },
         "name": "SPACE_000233",
         "orientation": "v",
         "showlegend": true,
         "textposition": "auto",
         "type": "bar",
         "x": [
          "kidney",
          "skin",
          "background"
         ],
         "xaxis": "x",
         "y": {
          "bdata": "AgIC",
          "dtype": "i1"
         },
         "yaxis": "y"
        },
        {
         "hovertemplate": "subject_name=SPACE_000234<br>species_name=human<br>label_name=%{x}<br>n_images=%{y}<extra></extra>",
         "legendgroup": "SPACE_000234",
         "marker": {
          "color": "#DDCB76",
          "pattern": {
           "shape": ""
          }
         },
         "name": "SPACE_000234",
         "orientation": "v",
         "showlegend": true,
         "textposition": "auto",
         "type": "bar",
         "x": [
          "stomach",
          "small bowel",
          "colon",
          "liver",
          "spleen",
          "omentum",
          "background"
         ],
         "xaxis": "x",
         "y": {
          "bdata": "AQEBAgsCAg==",
          "dtype": "i1"
         },
         "yaxis": "y"
        },
        {
         "hovertemplate": "subject_name=SPACE_000235<br>species_name=human<br>label_name=%{x}<br>n_images=%{y}<extra></extra>",
         "legendgroup": "SPACE_000235",
         "marker": {
          "color": "#DDCB76",
          "pattern": {
           "shape": ""
          }
         },
         "name": "SPACE_000235",
         "orientation": "v",
         "showlegend": true,
         "textposition": "auto",
         "type": "bar",
         "x": [
          "small bowel",
          "background"
         ],
         "xaxis": "x",
         "y": {
          "bdata": "AgI=",
          "dtype": "i1"
         },
         "yaxis": "y"
        },
        {
         "hovertemplate": "subject_name=SPACE_000236<br>species_name=human<br>label_name=%{x}<br>n_images=%{y}<extra></extra>",
         "legendgroup": "SPACE_000236",
         "marker": {
          "color": "#DDCB76",
          "pattern": {
           "shape": ""
          }
         },
         "name": "SPACE_000236",
         "orientation": "v",
         "showlegend": true,
         "textposition": "auto",
         "type": "bar",
         "x": [
          "stomach",
          "colon",
          "liver",
          "omentum",
          "background"
         ],
         "xaxis": "x",
         "y": {
          "bdata": "AQICAgI=",
          "dtype": "i1"
         },
         "yaxis": "y"
        },
        {
         "hovertemplate": "subject_name=SPACE_000237<br>species_name=human<br>label_name=%{x}<br>n_images=%{y}<extra></extra>",
         "legendgroup": "SPACE_000237",
         "marker": {
          "color": "#DDCB76",
          "pattern": {
           "shape": ""
          }
         },
         "name": "SPACE_000237",
         "orientation": "v",
         "showlegend": true,
         "textposition": "auto",
         "type": "bar",
         "x": [
          "small bowel",
          "colon",
          "liver",
          "skin",
          "peritoneum",
          "background"
         ],
         "xaxis": "x",
         "y": {
          "bdata": "AQECAgEC",
          "dtype": "i1"
         },
         "yaxis": "y"
        },
        {
         "hovertemplate": "subject_name=SPACE_000238<br>species_name=human<br>label_name=%{x}<br>n_images=%{y}<extra></extra>",
         "legendgroup": "SPACE_000238",
         "marker": {
          "color": "#DDCB76",
          "pattern": {
           "shape": ""
          }
         },
         "name": "SPACE_000238",
         "orientation": "v",
         "showlegend": true,
         "textposition": "auto",
         "type": "bar",
         "x": [
          "colon",
          "pancreas",
          "kidney",
          "omentum",
          "skin",
          "background"
         ],
         "xaxis": "x",
         "y": {
          "bdata": "AQECAQID",
          "dtype": "i1"
         },
         "yaxis": "y"
        },
        {
         "hovertemplate": "subject_name=SPACE_000239<br>species_name=human<br>label_name=%{x}<br>n_images=%{y}<extra></extra>",
         "legendgroup": "SPACE_000239",
         "marker": {
          "color": "#DDCB76",
          "pattern": {
           "shape": ""
          }
         },
         "name": "SPACE_000239",
         "orientation": "v",
         "showlegend": true,
         "textposition": "auto",
         "type": "bar",
         "x": [
          "stomach",
          "small bowel",
          "liver",
          "spleen",
          "background"
         ],
         "xaxis": "x",
         "y": {
          "bdata": "AQICCQI=",
          "dtype": "i1"
         },
         "yaxis": "y"
        },
        {
         "hovertemplate": "subject_name=SPACE_000240<br>species_name=human<br>label_name=%{x}<br>n_images=%{y}<extra></extra>",
         "legendgroup": "SPACE_000240",
         "marker": {
          "color": "#DDCB76",
          "pattern": {
           "shape": ""
          }
         },
         "name": "SPACE_000240",
         "orientation": "v",
         "showlegend": true,
         "textposition": "auto",
         "type": "bar",
         "x": [
          "small bowel",
          "colon",
          "liver",
          "omentum",
          "background"
         ],
         "xaxis": "x",
         "y": {
          "bdata": "AQEBAgI=",
          "dtype": "i1"
         },
         "yaxis": "y"
        }
       ],
       "layout": {
        "annotations": [
         {
          "font": {
           "size": 20
          },
          "showarrow": false,
          "text": "",
          "x": 0.5,
          "xanchor": "center",
          "xref": "paper",
          "y": 0.2866666666666666,
          "yanchor": "bottom",
          "yref": "paper"
         },
         {
          "font": {
           "size": 20
          },
          "showarrow": false,
          "text": "",
          "x": 0.5,
          "xanchor": "center",
          "xref": "paper",
          "y": 0.6433333333333333,
          "yanchor": "bottom",
          "yref": "paper"
         },
         {
          "font": {
           "size": 20
          },
          "showarrow": false,
          "text": "",
          "x": 0.5,
          "xanchor": "center",
          "xref": "paper",
          "y": 0.9999999999999999,
          "yanchor": "bottom",
          "yref": "paper"
         },
         {
          "font": {
           "size": 20
          },
          "showarrow": false,
          "text": "213",
          "x": "background",
          "xanchor": "center",
          "xref": "x",
          "y": 792,
          "yanchor": "bottom",
          "yref": "y"
         },
         {
          "font": {
           "size": 20
          },
          "showarrow": false,
          "text": "126",
          "x": "colon",
          "xanchor": "center",
          "xref": "x",
          "y": 379,
          "yanchor": "bottom",
          "yref": "y"
         },
         {
          "font": {
           "size": 20
          },
          "showarrow": false,
          "text": "49",
          "x": "kidney",
          "xanchor": "center",
          "xref": "x",
          "y": 162,
          "yanchor": "bottom",
          "yref": "y"
         },
         {
          "font": {
           "size": 20
          },
          "showarrow": false,
          "text": "145",
          "x": "liver",
          "xanchor": "center",
          "xref": "x",
          "y": 688,
          "yanchor": "bottom",
          "yref": "y"
         },
         {
          "font": {
           "size": 20
          },
          "showarrow": false,
          "text": "10",
          "x": "lung",
          "xanchor": "center",
          "xref": "x",
          "y": 56,
          "yanchor": "bottom",
          "yref": "y"
         },
         {
          "font": {
           "size": 20
          },
          "showarrow": false,
          "text": "146",
          "x": "omentum",
          "xanchor": "center",
          "xref": "x",
          "y": 486,
          "yanchor": "bottom",
          "yref": "y"
         },
         {
          "font": {
           "size": 20
          },
          "showarrow": false,
          "text": "41",
          "x": "pancreas",
          "xanchor": "center",
          "xref": "x",
          "y": 109,
          "yanchor": "bottom",
          "yref": "y"
         },
         {
          "font": {
           "size": 20
          },
          "showarrow": false,
          "text": "51",
          "x": "peritoneum",
          "xanchor": "center",
          "xref": "x",
          "y": 160,
          "yanchor": "bottom",
          "yref": "y"
         },
         {
          "font": {
           "size": 20
          },
          "showarrow": false,
          "text": "96",
          "x": "skin",
          "xanchor": "center",
          "xref": "x",
          "y": 295,
          "yanchor": "bottom",
          "yref": "y"
         },
         {
          "font": {
           "size": 20
          },
          "showarrow": false,
          "text": "136",
          "x": "small bowel",
          "xanchor": "center",
          "xref": "x",
          "y": 352,
          "yanchor": "bottom",
          "yref": "y"
         },
         {
          "font": {
           "size": 20
          },
          "showarrow": false,
          "text": "45",
          "x": "spleen",
          "xanchor": "center",
          "xref": "x",
          "y": 550,
          "yanchor": "bottom",
          "yref": "y"
         },
         {
          "font": {
           "size": 20
          },
          "showarrow": false,
          "text": "122",
          "x": "stomach",
          "xanchor": "center",
          "xref": "x",
          "y": 322,
          "yanchor": "bottom",
          "yref": "y"
         },
         {
          "font": {
           "size": 20
          },
          "showarrow": false,
          "text": "13",
          "x": "background",
          "xanchor": "center",
          "xref": "x2",
          "y": 597,
          "yanchor": "bottom",
          "yref": "y2"
         },
         {
          "font": {
           "size": 20
          },
          "showarrow": false,
          "text": "30",
          "x": "colon",
          "xanchor": "center",
          "xref": "x2",
          "y": 2806,
          "yanchor": "bottom",
          "yref": "y2"
         },
         {
          "font": {
           "size": 20
          },
          "showarrow": false,
          "text": "30",
          "x": "kidney",
          "xanchor": "center",
          "xref": "x2",
          "y": 3224,
          "yanchor": "bottom",
          "yref": "y2"
         },
         {
          "font": {
           "size": 20
          },
          "showarrow": false,
          "text": "30",
          "x": "liver",
          "xanchor": "center",
          "xref": "x2",
          "y": 2911,
          "yanchor": "bottom",
          "yref": "y2"
         },
         {
          "font": {
           "size": 20
          },
          "showarrow": false,
          "text": "13",
          "x": "lung",
          "xanchor": "center",
          "xref": "x2",
          "y": 467,
          "yanchor": "bottom",
          "yref": "y2"
         },
         {
          "font": {
           "size": 20
          },
          "showarrow": false,
          "text": "19",
          "x": "omentum",
          "xanchor": "center",
          "xref": "x2",
          "y": 1728,
          "yanchor": "bottom",
          "yref": "y2"
         },
         {
          "font": {
           "size": 20
          },
          "showarrow": false,
          "text": "19",
          "x": "pancreas",
          "xanchor": "center",
          "xref": "x2",
          "y": 1615,
          "yanchor": "bottom",
          "yref": "y2"
         },
         {
          "font": {
           "size": 20
          },
          "showarrow": false,
          "text": "19",
          "x": "peritoneum",
          "xanchor": "center",
          "xref": "x2",
          "y": 1997,
          "yanchor": "bottom",
          "yref": "y2"
         },
         {
          "font": {
           "size": 20
          },
          "showarrow": false,
          "text": "13",
          "x": "skin",
          "xanchor": "center",
          "xref": "x2",
          "y": 833,
          "yanchor": "bottom",
          "yref": "y2"
         },
         {
          "font": {
           "size": 20
          },
          "showarrow": false,
          "text": "19",
          "x": "small bowel",
          "xanchor": "center",
          "xref": "x2",
          "y": 1939,
          "yanchor": "bottom",
          "yref": "y2"
         },
         {
          "font": {
           "size": 20
          },
          "showarrow": false,
          "text": "24",
          "x": "spleen",
          "xanchor": "center",
          "xref": "x2",
          "y": 1651,
          "yanchor": "bottom",
          "yref": "y2"
         },
         {
          "font": {
           "size": 20
          },
          "showarrow": false,
          "text": "19",
          "x": "stomach",
          "xanchor": "center",
          "xref": "x2",
          "y": 1745,
          "yanchor": "bottom",
          "yref": "y2"
         },
         {
          "font": {
           "size": 20
          },
          "showarrow": false,
          "text": "20",
          "x": "background",
          "xanchor": "center",
          "xref": "x3",
          "y": 506,
          "yanchor": "bottom",
          "yref": "y3"
         },
         {
          "font": {
           "size": 20
          },
          "showarrow": false,
          "text": "39",
          "x": "colon",
          "xanchor": "center",
          "xref": "x3",
          "y": 908,
          "yanchor": "bottom",
          "yref": "y3"
         },
         {
          "font": {
           "size": 20
          },
          "showarrow": false,
          "text": "31",
          "x": "kidney",
          "xanchor": "center",
          "xref": "x3",
          "y": 920,
          "yanchor": "bottom",
          "yref": "y3"
         },
         {
          "font": {
           "size": 20
          },
          "showarrow": false,
          "text": "39",
          "x": "liver",
          "xanchor": "center",
          "xref": "x3",
          "y": 912,
          "yanchor": "bottom",
          "yref": "y3"
         },
         {
          "font": {
           "size": 20
          },
          "showarrow": false,
          "text": "16",
          "x": "lung",
          "xanchor": "center",
          "xref": "x3",
          "y": 367,
          "yanchor": "bottom",
          "yref": "y3"
         },
         {
          "font": {
           "size": 20
          },
          "showarrow": false,
          "text": "32",
          "x": "omentum",
          "xanchor": "center",
          "xref": "x3",
          "y": 516,
          "yanchor": "bottom",
          "yref": "y3"
         },
         {
          "font": {
           "size": 20
          },
          "showarrow": false,
          "text": "24",
          "x": "pancreas",
          "xanchor": "center",
          "xref": "x3",
          "y": 390,
          "yanchor": "bottom",
          "yref": "y3"
         },
         {
          "font": {
           "size": 20
          },
          "showarrow": false,
          "text": "34",
          "x": "peritoneum",
          "xanchor": "center",
          "xref": "x3",
          "y": 731,
          "yanchor": "bottom",
          "yref": "y3"
         },
         {
          "font": {
           "size": 20
          },
          "showarrow": false,
          "text": "27",
          "x": "skin",
          "xanchor": "center",
          "xref": "x3",
          "y": 597,
          "yanchor": "bottom",
          "yref": "y3"
         },
         {
          "font": {
           "size": 20
          },
          "showarrow": false,
          "text": "39",
          "x": "small bowel",
          "xanchor": "center",
          "xref": "x3",
          "y": 942,
          "yanchor": "bottom",
          "yref": "y3"
         },
         {
          "font": {
           "size": 20
          },
          "showarrow": false,
          "text": "31",
          "x": "spleen",
          "xanchor": "center",
          "xref": "x3",
          "y": 710,
          "yanchor": "bottom",
          "yref": "y3"
         },
         {
          "font": {
           "size": 20
          },
          "showarrow": false,
          "text": "42",
          "x": "stomach",
          "xanchor": "center",
          "xref": "x3",
          "y": 743,
          "yanchor": "bottom",
          "yref": "y3"
         }
        ],
        "barmode": "relative",
        "font": {
         "family": "Libertinus Sans",
         "size": 16
        },
        "height": 1200,
        "legend": {
         "title": {
          "text": "subject_name"
         },
         "tracegroupgap": 0
        },
        "margin": {
         "t": 60
        },
        "showlegend": false,
        "template": {
         "data": {
          "bar": [
           {
            "error_x": {
             "color": "#2a3f5f"
            },
            "error_y": {
             "color": "#2a3f5f"
            },
            "marker": {
             "line": {
              "color": "white",
              "width": 0.5
             },
             "pattern": {
              "fillmode": "overlay",
              "size": 10,
              "solidity": 0.2
             }
            },
            "type": "bar"
           }
          ],
          "barpolar": [
           {
            "marker": {
             "line": {
              "color": "white",
              "width": 0.5
             },
             "pattern": {
              "fillmode": "overlay",
              "size": 10,
              "solidity": 0.2
             }
            },
            "type": "barpolar"
           }
          ],
          "carpet": [
           {
            "aaxis": {
             "endlinecolor": "#2a3f5f",
             "gridcolor": "#C8D4E3",
             "linecolor": "#C8D4E3",
             "minorgridcolor": "#C8D4E3",
             "startlinecolor": "#2a3f5f"
            },
            "baxis": {
             "endlinecolor": "#2a3f5f",
             "gridcolor": "#C8D4E3",
             "linecolor": "#C8D4E3",
             "minorgridcolor": "#C8D4E3",
             "startlinecolor": "#2a3f5f"
            },
            "type": "carpet"
           }
          ],
          "choropleth": [
           {
            "colorbar": {
             "outlinewidth": 0,
             "ticks": ""
            },
            "type": "choropleth"
           }
          ],
          "contour": [
           {
            "colorbar": {
             "outlinewidth": 0,
             "ticks": ""
            },
            "colorscale": [
             [
              0,
              "#0d0887"
             ],
             [
              0.1111111111111111,
              "#46039f"
             ],
             [
              0.2222222222222222,
              "#7201a8"
             ],
             [
              0.3333333333333333,
              "#9c179e"
             ],
             [
              0.4444444444444444,
              "#bd3786"
             ],
             [
              0.5555555555555556,
              "#d8576b"
             ],
             [
              0.6666666666666666,
              "#ed7953"
             ],
             [
              0.7777777777777778,
              "#fb9f3a"
             ],
             [
              0.8888888888888888,
              "#fdca26"
             ],
             [
              1,
              "#f0f921"
             ]
            ],
            "type": "contour"
           }
          ],
          "contourcarpet": [
           {
            "colorbar": {
             "outlinewidth": 0,
             "ticks": ""
            },
            "type": "contourcarpet"
           }
          ],
          "heatmap": [
           {
            "colorbar": {
             "outlinewidth": 0,
             "ticks": ""
            },
            "colorscale": [
             [
              0,
              "#0d0887"
             ],
             [
              0.1111111111111111,
              "#46039f"
             ],
             [
              0.2222222222222222,
              "#7201a8"
             ],
             [
              0.3333333333333333,
              "#9c179e"
             ],
             [
              0.4444444444444444,
              "#bd3786"
             ],
             [
              0.5555555555555556,
              "#d8576b"
             ],
             [
              0.6666666666666666,
              "#ed7953"
             ],
             [
              0.7777777777777778,
              "#fb9f3a"
             ],
             [
              0.8888888888888888,
              "#fdca26"
             ],
             [
              1,
              "#f0f921"
             ]
            ],
            "type": "heatmap"
           }
          ],
          "histogram": [
           {
            "marker": {
             "pattern": {
              "fillmode": "overlay",
              "size": 10,
              "solidity": 0.2
             }
            },
            "type": "histogram"
           }
          ],
          "histogram2d": [
           {
            "colorbar": {
             "outlinewidth": 0,
             "ticks": ""
            },
            "colorscale": [
             [
              0,
              "#0d0887"
             ],
             [
              0.1111111111111111,
              "#46039f"
             ],
             [
              0.2222222222222222,
              "#7201a8"
             ],
             [
              0.3333333333333333,
              "#9c179e"
             ],
             [
              0.4444444444444444,
              "#bd3786"
             ],
             [
              0.5555555555555556,
              "#d8576b"
             ],
             [
              0.6666666666666666,
              "#ed7953"
             ],
             [
              0.7777777777777778,
              "#fb9f3a"
             ],
             [
              0.8888888888888888,
              "#fdca26"
             ],
             [
              1,
              "#f0f921"
             ]
            ],
            "type": "histogram2d"
           }
          ],
          "histogram2dcontour": [
           {
            "colorbar": {
             "outlinewidth": 0,
             "ticks": ""
            },
            "colorscale": [
             [
              0,
              "#0d0887"
             ],
             [
              0.1111111111111111,
              "#46039f"
             ],
             [
              0.2222222222222222,
              "#7201a8"
             ],
             [
              0.3333333333333333,
              "#9c179e"
             ],
             [
              0.4444444444444444,
              "#bd3786"
             ],
             [
              0.5555555555555556,
              "#d8576b"
             ],
             [
              0.6666666666666666,
              "#ed7953"
             ],
             [
              0.7777777777777778,
              "#fb9f3a"
             ],
             [
              0.8888888888888888,
              "#fdca26"
             ],
             [
              1,
              "#f0f921"
             ]
            ],
            "type": "histogram2dcontour"
           }
          ],
          "mesh3d": [
           {
            "colorbar": {
             "outlinewidth": 0,
             "ticks": ""
            },
            "type": "mesh3d"
           }
          ],
          "parcoords": [
           {
            "line": {
             "colorbar": {
              "outlinewidth": 0,
              "ticks": ""
             }
            },
            "type": "parcoords"
           }
          ],
          "pie": [
           {
            "automargin": true,
            "type": "pie"
           }
          ],
          "scatter": [
           {
            "fillpattern": {
             "fillmode": "overlay",
             "size": 10,
             "solidity": 0.2
            },
            "type": "scatter"
           }
          ],
          "scatter3d": [
           {
            "line": {
             "colorbar": {
              "outlinewidth": 0,
              "ticks": ""
             }
            },
            "marker": {
             "colorbar": {
              "outlinewidth": 0,
              "ticks": ""
             }
            },
            "type": "scatter3d"
           }
          ],
          "scattercarpet": [
           {
            "marker": {
             "colorbar": {
              "outlinewidth": 0,
              "ticks": ""
             }
            },
            "type": "scattercarpet"
           }
          ],
          "scattergeo": [
           {
            "marker": {
             "colorbar": {
              "outlinewidth": 0,
              "ticks": ""
             }
            },
            "type": "scattergeo"
           }
          ],
          "scattergl": [
           {
            "marker": {
             "colorbar": {
              "outlinewidth": 0,
              "ticks": ""
             }
            },
            "type": "scattergl"
           }
          ],
          "scattermap": [
           {
            "marker": {
             "colorbar": {
              "outlinewidth": 0,
              "ticks": ""
             }
            },
            "type": "scattermap"
           }
          ],
          "scattermapbox": [
           {
            "marker": {
             "colorbar": {
              "outlinewidth": 0,
              "ticks": ""
             }
            },
            "type": "scattermapbox"
           }
          ],
          "scatterpolar": [
           {
            "marker": {
             "colorbar": {
              "outlinewidth": 0,
              "ticks": ""
             }
            },
            "type": "scatterpolar"
           }
          ],
          "scatterpolargl": [
           {
            "marker": {
             "colorbar": {
              "outlinewidth": 0,
              "ticks": ""
             }
            },
            "type": "scatterpolargl"
           }
          ],
          "scatterternary": [
           {
            "marker": {
             "colorbar": {
              "outlinewidth": 0,
              "ticks": ""
             }
            },
            "type": "scatterternary"
           }
          ],
          "surface": [
           {
            "colorbar": {
             "outlinewidth": 0,
             "ticks": ""
            },
            "colorscale": [
             [
              0,
              "#0d0887"
             ],
             [
              0.1111111111111111,
              "#46039f"
             ],
             [
              0.2222222222222222,
              "#7201a8"
             ],
             [
              0.3333333333333333,
              "#9c179e"
             ],
             [
              0.4444444444444444,
              "#bd3786"
             ],
             [
              0.5555555555555556,
              "#d8576b"
             ],
             [
              0.6666666666666666,
              "#ed7953"
             ],
             [
              0.7777777777777778,
              "#fb9f3a"
             ],
             [
              0.8888888888888888,
              "#fdca26"
             ],
             [
              1,
              "#f0f921"
             ]
            ],
            "type": "surface"
           }
          ],
          "table": [
           {
            "cells": {
             "fill": {
              "color": "#EBF0F8"
             },
             "line": {
              "color": "white"
             }
            },
            "header": {
             "fill": {
              "color": "#C8D4E3"
             },
             "line": {
              "color": "white"
             }
            },
            "type": "table"
           }
          ]
         },
         "layout": {
          "annotationdefaults": {
           "arrowcolor": "#2a3f5f",
           "arrowhead": 0,
           "arrowwidth": 1
          },
          "autotypenumbers": "strict",
          "coloraxis": {
           "colorbar": {
            "outlinewidth": 0,
            "ticks": ""
           }
          },
          "colorscale": {
           "diverging": [
            [
             0,
             "#8e0152"
            ],
            [
             0.1,
             "#c51b7d"
            ],
            [
             0.2,
             "#de77ae"
            ],
            [
             0.3,
             "#f1b6da"
            ],
            [
             0.4,
             "#fde0ef"
            ],
            [
             0.5,
             "#f7f7f7"
            ],
            [
             0.6,
             "#e6f5d0"
            ],
            [
             0.7,
             "#b8e186"
            ],
            [
             0.8,
             "#7fbc41"
            ],
            [
             0.9,
             "#4d9221"
            ],
            [
             1,
             "#276419"
            ]
           ],
           "sequential": [
            [
             0,
             "#0d0887"
            ],
            [
             0.1111111111111111,
             "#46039f"
            ],
            [
             0.2222222222222222,
             "#7201a8"
            ],
            [
             0.3333333333333333,
             "#9c179e"
            ],
            [
             0.4444444444444444,
             "#bd3786"
            ],
            [
             0.5555555555555556,
             "#d8576b"
            ],
            [
             0.6666666666666666,
             "#ed7953"
            ],
            [
             0.7777777777777778,
             "#fb9f3a"
            ],
            [
             0.8888888888888888,
             "#fdca26"
            ],
            [
             1,
             "#f0f921"
            ]
           ],
           "sequentialminus": [
            [
             0,
             "#0d0887"
            ],
            [
             0.1111111111111111,
             "#46039f"
            ],
            [
             0.2222222222222222,
             "#7201a8"
            ],
            [
             0.3333333333333333,
             "#9c179e"
            ],
            [
             0.4444444444444444,
             "#bd3786"
            ],
            [
             0.5555555555555556,
             "#d8576b"
            ],
            [
             0.6666666666666666,
             "#ed7953"
            ],
            [
             0.7777777777777778,
             "#fb9f3a"
            ],
            [
             0.8888888888888888,
             "#fdca26"
            ],
            [
             1,
             "#f0f921"
            ]
           ]
          },
          "colorway": [
           "#636efa",
           "#EF553B",
           "#00cc96",
           "#ab63fa",
           "#FFA15A",
           "#19d3f3",
           "#FF6692",
           "#B6E880",
           "#FF97FF",
           "#FECB52"
          ],
          "font": {
           "color": "#2a3f5f"
          },
          "geo": {
           "bgcolor": "white",
           "lakecolor": "white",
           "landcolor": "white",
           "showlakes": true,
           "showland": true,
           "subunitcolor": "#C8D4E3"
          },
          "hoverlabel": {
           "align": "left"
          },
          "hovermode": "closest",
          "mapbox": {
           "style": "light"
          },
          "paper_bgcolor": "white",
          "plot_bgcolor": "white",
          "polar": {
           "angularaxis": {
            "gridcolor": "#EBF0F8",
            "linecolor": "#EBF0F8",
            "ticks": ""
           },
           "bgcolor": "white",
           "radialaxis": {
            "gridcolor": "#EBF0F8",
            "linecolor": "#EBF0F8",
            "ticks": ""
           }
          },
          "scene": {
           "xaxis": {
            "backgroundcolor": "white",
            "gridcolor": "#DFE8F3",
            "gridwidth": 2,
            "linecolor": "#EBF0F8",
            "showbackground": true,
            "ticks": "",
            "zerolinecolor": "#EBF0F8"
           },
           "yaxis": {
            "backgroundcolor": "white",
            "gridcolor": "#DFE8F3",
            "gridwidth": 2,
            "linecolor": "#EBF0F8",
            "showbackground": true,
            "ticks": "",
            "zerolinecolor": "#EBF0F8"
           },
           "zaxis": {
            "backgroundcolor": "white",
            "gridcolor": "#DFE8F3",
            "gridwidth": 2,
            "linecolor": "#EBF0F8",
            "showbackground": true,
            "ticks": "",
            "zerolinecolor": "#EBF0F8"
           }
          },
          "shapedefaults": {
           "line": {
            "color": "#2a3f5f"
           }
          },
          "ternary": {
           "aaxis": {
            "gridcolor": "#DFE8F3",
            "linecolor": "#A2B1C6",
            "ticks": ""
           },
           "baxis": {
            "gridcolor": "#DFE8F3",
            "linecolor": "#A2B1C6",
            "ticks": ""
           },
           "bgcolor": "white",
           "caxis": {
            "gridcolor": "#DFE8F3",
            "linecolor": "#A2B1C6",
            "ticks": ""
           }
          },
          "title": {
           "x": 0.05
          },
          "xaxis": {
           "automargin": true,
           "gridcolor": "#EBF0F8",
           "linecolor": "#EBF0F8",
           "ticks": "",
           "title": {
            "standoff": 15
           },
           "zerolinecolor": "#EBF0F8",
           "zerolinewidth": 2
          },
          "yaxis": {
           "automargin": true,
           "gridcolor": "#EBF0F8",
           "linecolor": "#EBF0F8",
           "ticks": "",
           "title": {
            "standoff": 15
           },
           "zerolinecolor": "#EBF0F8",
           "zerolinewidth": 2
          }
         }
        },
        "width": 1200,
        "xaxis": {
         "anchor": "y",
         "categoryarray": [
          "stomach",
          "small bowel",
          "colon",
          "liver",
          "pancreas",
          "kidney",
          "spleen",
          "omentum",
          "lung",
          "skin",
          "peritoneum",
          "background"
         ],
         "categoryorder": "array",
         "domain": [
          0,
          1
         ],
         "title": {
          "text": "<b>label name</b>"
         }
        },
        "xaxis2": {
         "anchor": "y2",
         "domain": [
          0,
          1
         ],
         "matches": "x",
         "showticklabels": false
        },
        "xaxis3": {
         "anchor": "y3",
         "domain": [
          0,
          1
         ],
         "matches": "x",
         "showticklabels": false
        },
        "yaxis": {
         "anchor": "x",
         "domain": [
          0,
          0.2866666666666666
         ],
         "tickformat": ",",
         "title": {
          "standoff": 5,
          "text": "<b># images</b>"
         }
        },
        "yaxis2": {
         "anchor": "x2",
         "domain": [
          0.35666666666666663,
          0.6433333333333333
         ],
         "tickformat": ",",
         "title": {
          "standoff": 5,
          "text": "<b># images</b>"
         }
        },
        "yaxis3": {
         "anchor": "x3",
         "domain": [
          0.7133333333333333,
          0.9999999999999999
         ],
         "tickformat": ",",
         "title": {
          "standoff": 5,
          "text": "<b># images</b>"
         }
        }
       }
      },
      "text/html": [
       "<div>            <script src=\"https://cdnjs.cloudflare.com/ajax/libs/mathjax/2.7.5/MathJax.js?config=TeX-AMS-MML_SVG\"></script><script type=\"text/javascript\">if (window.MathJax && window.MathJax.Hub && window.MathJax.Hub.Config) {window.MathJax.Hub.Config({SVG: {font: \"STIX-Web\"}});}</script>                <script type=\"text/javascript\">window.PlotlyConfig = {MathJaxConfig: 'local'};</script>\n",
       "        <script charset=\"utf-8\" src=\"https://cdn.plot.ly/plotly-3.0.0.min.js\"></script>                <div id=\"cd072cd8-be6f-4f62-ac4c-09c28206e7e3\" class=\"plotly-graph-div\" style=\"height:1200px; width:1200px;\"></div>            <script type=\"text/javascript\">                window.PLOTLYENV=window.PLOTLYENV || {};                                if (document.getElementById(\"cd072cd8-be6f-4f62-ac4c-09c28206e7e3\")) {                    Plotly.newPlot(                        \"cd072cd8-be6f-4f62-ac4c-09c28206e7e3\",                        [{\"hovertemplate\":\"subject_name=P005\\u003cbr\\u003especies_name=pig\\u003cbr\\u003elabel_name=%{x}\\u003cbr\\u003en_images=%{y}\\u003cextra\\u003e\\u003c\\u002fextra\\u003e\",\"legendgroup\":\"P005\",\"marker\":{\"color\":\"#44AA99\",\"pattern\":{\"shape\":\"\"}},\"name\":\"P005\",\"orientation\":\"v\",\"showlegend\":true,\"textposition\":\"auto\",\"x\":[\"stomach\",\"small bowel\",\"kidney\"],\"xaxis\":\"x3\",\"y\":{\"dtype\":\"i1\",\"bdata\":\"BQYB\"},\"yaxis\":\"y3\",\"type\":\"bar\"},{\"hovertemplate\":\"subject_name=P006\\u003cbr\\u003especies_name=pig\\u003cbr\\u003elabel_name=%{x}\\u003cbr\\u003en_images=%{y}\\u003cextra\\u003e\\u003c\\u002fextra\\u003e\",\"legendgroup\":\"P006\",\"marker\":{\"color\":\"#44AA99\",\"pattern\":{\"shape\":\"\"}},\"name\":\"P006\",\"orientation\":\"v\",\"showlegend\":true,\"textposition\":\"auto\",\"x\":[\"stomach\",\"small bowel\"],\"xaxis\":\"x3\",\"y\":{\"dtype\":\"i1\",\"bdata\":\"BQE=\"},\"yaxis\":\"y3\",\"type\":\"bar\"},{\"hovertemplate\":\"subject_name=P007\\u003cbr\\u003especies_name=pig\\u003cbr\\u003elabel_name=%{x}\\u003cbr\\u003en_images=%{y}\\u003cextra\\u003e\\u003c\\u002fextra\\u003e\",\"legendgroup\":\"P007\",\"marker\":{\"color\":\"#44AA99\",\"pattern\":{\"shape\":\"\"}},\"name\":\"P007\",\"orientation\":\"v\",\"showlegend\":true,\"textposition\":\"auto\",\"x\":[\"stomach\"],\"xaxis\":\"x3\",\"y\":{\"dtype\":\"i1\",\"bdata\":\"AQ==\"},\"yaxis\":\"y3\",\"type\":\"bar\"},{\"hovertemplate\":\"subject_name=P008\\u003cbr\\u003especies_name=pig\\u003cbr\\u003elabel_name=%{x}\\u003cbr\\u003en_images=%{y}\\u003cextra\\u003e\\u003c\\u002fextra\\u003e\",\"legendgroup\":\"P008\",\"marker\":{\"color\":\"#44AA99\",\"pattern\":{\"shape\":\"\"}},\"name\":\"P008\",\"orientation\":\"v\",\"showlegend\":true,\"textposition\":\"auto\",\"x\":[\"stomach\"],\"xaxis\":\"x3\",\"y\":{\"dtype\":\"i1\",\"bdata\":\"CA==\"},\"yaxis\":\"y3\",\"type\":\"bar\"},{\"hovertemplate\":\"subject_name=P013\\u003cbr\\u003especies_name=pig\\u003cbr\\u003elabel_name=%{x}\\u003cbr\\u003en_images=%{y}\\u003cextra\\u003e\\u003c\\u002fextra\\u003e\",\"legendgroup\":\"P013\",\"marker\":{\"color\":\"#44AA99\",\"pattern\":{\"shape\":\"\"}},\"name\":\"P013\",\"orientation\":\"v\",\"showlegend\":true,\"textposition\":\"auto\",\"x\":[\"stomach\",\"small bowel\"],\"xaxis\":\"x3\",\"y\":{\"dtype\":\"i1\",\"bdata\":\"AgI=\"},\"yaxis\":\"y3\",\"type\":\"bar\"},{\"hovertemplate\":\"subject_name=P014\\u003cbr\\u003especies_name=pig\\u003cbr\\u003elabel_name=%{x}\\u003cbr\\u003en_images=%{y}\\u003cextra\\u003e\\u003c\\u002fextra\\u003e\",\"legendgroup\":\"P014\",\"marker\":{\"color\":\"#44AA99\",\"pattern\":{\"shape\":\"\"}},\"name\":\"P014\",\"orientation\":\"v\",\"showlegend\":true,\"textposition\":\"auto\",\"x\":[\"small bowel\"],\"xaxis\":\"x3\",\"y\":{\"dtype\":\"i1\",\"bdata\":\"Bg==\"},\"yaxis\":\"y3\",\"type\":\"bar\"},{\"hovertemplate\":\"subject_name=P025\\u003cbr\\u003especies_name=pig\\u003cbr\\u003elabel_name=%{x}\\u003cbr\\u003en_images=%{y}\\u003cextra\\u003e\\u003c\\u002fextra\\u003e\",\"legendgroup\":\"P025\",\"marker\":{\"color\":\"#44AA99\",\"pattern\":{\"shape\":\"\"}},\"name\":\"P025\",\"orientation\":\"v\",\"showlegend\":true,\"textposition\":\"auto\",\"x\":[\"stomach\"],\"xaxis\":\"x3\",\"y\":{\"dtype\":\"i1\",\"bdata\":\"Ag==\"},\"yaxis\":\"y3\",\"type\":\"bar\"},{\"hovertemplate\":\"subject_name=P027\\u003cbr\\u003especies_name=pig\\u003cbr\\u003elabel_name=%{x}\\u003cbr\\u003en_images=%{y}\\u003cextra\\u003e\\u003c\\u002fextra\\u003e\",\"legendgroup\":\"P027\",\"marker\":{\"color\":\"#44AA99\",\"pattern\":{\"shape\":\"\"}},\"name\":\"P027\",\"orientation\":\"v\",\"showlegend\":true,\"textposition\":\"auto\",\"x\":[\"stomach\"],\"xaxis\":\"x3\",\"y\":{\"dtype\":\"i1\",\"bdata\":\"Cg==\"},\"yaxis\":\"y3\",\"type\":\"bar\"},{\"hovertemplate\":\"subject_name=P041\\u003cbr\\u003especies_name=pig\\u003cbr\\u003elabel_name=%{x}\\u003cbr\\u003en_images=%{y}\\u003cextra\\u003e\\u003c\\u002fextra\\u003e\",\"legendgroup\":\"P041\",\"marker\":{\"color\":\"#44AA99\",\"pattern\":{\"shape\":\"\"}},\"name\":\"P041\",\"orientation\":\"v\",\"showlegend\":true,\"textposition\":\"auto\",\"x\":[\"stomach\",\"small bowel\",\"colon\",\"liver\",\"spleen\",\"omentum\",\"skin\",\"peritoneum\",\"background\"],\"xaxis\":\"x3\",\"y\":{\"dtype\":\"i1\",\"bdata\":\"AgQEAgICAgIE\"},\"yaxis\":\"y3\",\"type\":\"bar\"},{\"hovertemplate\":\"subject_name=P043\\u003cbr\\u003especies_name=pig\\u003cbr\\u003elabel_name=%{x}\\u003cbr\\u003en_images=%{y}\\u003cextra\\u003e\\u003c\\u002fextra\\u003e\",\"legendgroup\":\"P043\",\"marker\":{\"color\":\"#44AA99\",\"pattern\":{\"shape\":\"\"}},\"name\":\"P043\",\"orientation\":\"v\",\"showlegend\":true,\"textposition\":\"auto\",\"x\":[\"stomach\",\"small bowel\",\"colon\",\"liver\",\"omentum\",\"lung\",\"background\"],\"xaxis\":\"x3\",\"y\":{\"dtype\":\"i1\",\"bdata\":\"AwsLCwMKFQ==\"},\"yaxis\":\"y3\",\"type\":\"bar\"},{\"hovertemplate\":\"subject_name=P044\\u003cbr\\u003especies_name=pig\\u003cbr\\u003elabel_name=%{x}\\u003cbr\\u003en_images=%{y}\\u003cextra\\u003e\\u003c\\u002fextra\\u003e\",\"legendgroup\":\"P044\",\"marker\":{\"color\":\"#44AA99\",\"pattern\":{\"shape\":\"\"}},\"name\":\"P044\",\"orientation\":\"v\",\"showlegend\":true,\"textposition\":\"auto\",\"x\":[\"stomach\",\"small bowel\",\"colon\",\"liver\",\"spleen\",\"omentum\",\"lung\",\"skin\",\"peritoneum\",\"background\"],\"xaxis\":\"x3\",\"y\":{\"dtype\":\"i1\",\"bdata\":\"BRERDg4FBhYRFw==\"},\"yaxis\":\"y3\",\"type\":\"bar\"},{\"hovertemplate\":\"subject_name=P045\\u003cbr\\u003especies_name=pig\\u003cbr\\u003elabel_name=%{x}\\u003cbr\\u003en_images=%{y}\\u003cextra\\u003e\\u003c\\u002fextra\\u003e\",\"legendgroup\":\"P045\",\"marker\":{\"color\":\"#44AA99\",\"pattern\":{\"shape\":\"\"}},\"name\":\"P045\",\"orientation\":\"v\",\"showlegend\":true,\"textposition\":\"auto\",\"x\":[\"stomach\",\"small bowel\",\"colon\",\"liver\",\"spleen\",\"omentum\",\"lung\",\"skin\",\"peritoneum\",\"background\"],\"xaxis\":\"x3\",\"y\":{\"dtype\":\"i1\",\"bdata\":\"DRESDg8JBBIPFg==\"},\"yaxis\":\"y3\",\"type\":\"bar\"},{\"hovertemplate\":\"subject_name=P046\\u003cbr\\u003especies_name=pig\\u003cbr\\u003elabel_name=%{x}\\u003cbr\\u003en_images=%{y}\\u003cextra\\u003e\\u003c\\u002fextra\\u003e\",\"legendgroup\":\"P046\",\"marker\":{\"color\":\"#44AA99\",\"pattern\":{\"shape\":\"\"}},\"name\":\"P046\",\"orientation\":\"v\",\"showlegend\":true,\"textposition\":\"auto\",\"x\":[\"stomach\",\"small bowel\",\"colon\",\"liver\",\"spleen\",\"omentum\",\"skin\",\"peritoneum\",\"background\"],\"xaxis\":\"x3\",\"y\":{\"dtype\":\"i1\",\"bdata\":\"DBAODQ4NEA8Q\"},\"yaxis\":\"y3\",\"type\":\"bar\"},{\"hovertemplate\":\"subject_name=P047\\u003cbr\\u003especies_name=pig\\u003cbr\\u003elabel_name=%{x}\\u003cbr\\u003en_images=%{y}\\u003cextra\\u003e\\u003c\\u002fextra\\u003e\",\"legendgroup\":\"P047\",\"marker\":{\"color\":\"#44AA99\",\"pattern\":{\"shape\":\"\"}},\"name\":\"P047\",\"orientation\":\"v\",\"showlegend\":true,\"textposition\":\"auto\",\"x\":[\"stomach\",\"small bowel\",\"colon\",\"liver\",\"spleen\",\"omentum\",\"skin\",\"peritoneum\",\"background\"],\"xaxis\":\"x3\",\"y\":{\"dtype\":\"i1\",\"bdata\":\"CgoKCgoICgoK\"},\"yaxis\":\"y3\",\"type\":\"bar\"},{\"hovertemplate\":\"subject_name=P048\\u003cbr\\u003especies_name=pig\\u003cbr\\u003elabel_name=%{x}\\u003cbr\\u003en_images=%{y}\\u003cextra\\u003e\\u003c\\u002fextra\\u003e\",\"legendgroup\":\"P048\",\"marker\":{\"color\":\"#44AA99\",\"pattern\":{\"shape\":\"\"}},\"name\":\"P048\",\"orientation\":\"v\",\"showlegend\":true,\"textposition\":\"auto\",\"x\":[\"stomach\",\"small bowel\",\"colon\",\"liver\",\"spleen\",\"skin\",\"peritoneum\",\"background\"],\"xaxis\":\"x3\",\"y\":{\"dtype\":\"i1\",\"bdata\":\"Cw8PCgsPDg8=\"},\"yaxis\":\"y3\",\"type\":\"bar\"},{\"hovertemplate\":\"subject_name=P049\\u003cbr\\u003especies_name=pig\\u003cbr\\u003elabel_name=%{x}\\u003cbr\\u003en_images=%{y}\\u003cextra\\u003e\\u003c\\u002fextra\\u003e\",\"legendgroup\":\"P049\",\"marker\":{\"color\":\"#44AA99\",\"pattern\":{\"shape\":\"\"}},\"name\":\"P049\",\"orientation\":\"v\",\"showlegend\":true,\"textposition\":\"auto\",\"x\":[\"stomach\",\"small bowel\",\"colon\",\"liver\",\"spleen\",\"skin\",\"peritoneum\",\"background\"],\"xaxis\":\"x3\",\"y\":{\"dtype\":\"i1\",\"bdata\":\"CxAQBQ0QEBA=\"},\"yaxis\":\"y3\",\"type\":\"bar\"},{\"hovertemplate\":\"subject_name=P050\\u003cbr\\u003especies_name=pig\\u003cbr\\u003elabel_name=%{x}\\u003cbr\\u003en_images=%{y}\\u003cextra\\u003e\\u003c\\u002fextra\\u003e\",\"legendgroup\":\"P050\",\"marker\":{\"color\":\"#44AA99\",\"pattern\":{\"shape\":\"\"}},\"name\":\"P050\",\"orientation\":\"v\",\"showlegend\":true,\"textposition\":\"auto\",\"x\":[\"stomach\",\"small bowel\",\"colon\",\"liver\",\"spleen\",\"omentum\",\"skin\",\"peritoneum\",\"background\"],\"xaxis\":\"x3\",\"y\":{\"dtype\":\"i1\",\"bdata\":\"BQUFBQUFBQUF\"},\"yaxis\":\"y3\",\"type\":\"bar\"},{\"hovertemplate\":\"subject_name=P057\\u003cbr\\u003especies_name=pig\\u003cbr\\u003elabel_name=%{x}\\u003cbr\\u003en_images=%{y}\\u003cextra\\u003e\\u003c\\u002fextra\\u003e\",\"legendgroup\":\"P057\",\"marker\":{\"color\":\"#44AA99\",\"pattern\":{\"shape\":\"\"}},\"name\":\"P057\",\"orientation\":\"v\",\"showlegend\":true,\"textposition\":\"auto\",\"x\":[\"stomach\",\"small bowel\",\"colon\",\"liver\",\"pancreas\",\"spleen\",\"omentum\",\"skin\",\"peritoneum\",\"background\"],\"xaxis\":\"x3\",\"y\":{\"dtype\":\"i1\",\"bdata\":\"FBgUEwUVExgYGA==\"},\"yaxis\":\"y3\",\"type\":\"bar\"},{\"hovertemplate\":\"subject_name=P058\\u003cbr\\u003especies_name=pig\\u003cbr\\u003elabel_name=%{x}\\u003cbr\\u003en_images=%{y}\\u003cextra\\u003e\\u003c\\u002fextra\\u003e\",\"legendgroup\":\"P058\",\"marker\":{\"color\":\"#44AA99\",\"pattern\":{\"shape\":\"\"}},\"name\":\"P058\",\"orientation\":\"v\",\"showlegend\":true,\"textposition\":\"auto\",\"x\":[\"stomach\",\"small bowel\",\"colon\",\"liver\",\"pancreas\",\"kidney\",\"spleen\",\"omentum\",\"lung\",\"skin\",\"peritoneum\",\"background\"],\"xaxis\":\"x3\",\"y\":{\"dtype\":\"i1\",\"bdata\":\"CB0gIw4IERENExg1\"},\"yaxis\":\"y3\",\"type\":\"bar\"},{\"hovertemplate\":\"subject_name=P059\\u003cbr\\u003especies_name=pig\\u003cbr\\u003elabel_name=%{x}\\u003cbr\\u003en_images=%{y}\\u003cextra\\u003e\\u003c\\u002fextra\\u003e\",\"legendgroup\":\"P059\",\"marker\":{\"color\":\"#44AA99\",\"pattern\":{\"shape\":\"\"}},\"name\":\"P059\",\"orientation\":\"v\",\"showlegend\":true,\"textposition\":\"auto\",\"x\":[\"stomach\",\"small bowel\",\"colon\",\"liver\",\"pancreas\",\"kidney\",\"spleen\",\"omentum\",\"skin\",\"peritoneum\",\"background\"],\"xaxis\":\"x3\",\"y\":{\"dtype\":\"i1\",\"bdata\":\"AhMQCAUDBAMBBhY=\"},\"yaxis\":\"y3\",\"type\":\"bar\"},{\"hovertemplate\":\"subject_name=P060\\u003cbr\\u003especies_name=pig\\u003cbr\\u003elabel_name=%{x}\\u003cbr\\u003en_images=%{y}\\u003cextra\\u003e\\u003c\\u002fextra\\u003e\",\"legendgroup\":\"P060\",\"marker\":{\"color\":\"#44AA99\",\"pattern\":{\"shape\":\"\"}},\"name\":\"P060\",\"orientation\":\"v\",\"showlegend\":true,\"textposition\":\"auto\",\"x\":[\"stomach\",\"small bowel\",\"colon\",\"liver\",\"pancreas\",\"spleen\",\"omentum\",\"lung\",\"skin\",\"peritoneum\",\"background\"],\"xaxis\":\"x3\",\"y\":{\"dtype\":\"i1\",\"bdata\":\"GiQaHAgYEA4NEjI=\"},\"yaxis\":\"y3\",\"type\":\"bar\"},{\"hovertemplate\":\"subject_name=P061\\u003cbr\\u003especies_name=pig\\u003cbr\\u003elabel_name=%{x}\\u003cbr\\u003en_images=%{y}\\u003cextra\\u003e\\u003c\\u002fextra\\u003e\",\"legendgroup\":\"P061\",\"marker\":{\"color\":\"#44AA99\",\"pattern\":{\"shape\":\"\"}},\"name\":\"P061\",\"orientation\":\"v\",\"showlegend\":true,\"textposition\":\"auto\",\"x\":[\"stomach\",\"small bowel\",\"colon\",\"liver\",\"pancreas\",\"kidney\",\"spleen\",\"omentum\",\"skin\",\"peritoneum\",\"background\"],\"xaxis\":\"x3\",\"y\":{\"dtype\":\"i1\",\"bdata\":\"CBIMDAEGDAESEhI=\"},\"yaxis\":\"y3\",\"type\":\"bar\"},{\"hovertemplate\":\"subject_name=P062\\u003cbr\\u003especies_name=pig\\u003cbr\\u003elabel_name=%{x}\\u003cbr\\u003en_images=%{y}\\u003cextra\\u003e\\u003c\\u002fextra\\u003e\",\"legendgroup\":\"P062\",\"marker\":{\"color\":\"#44AA99\",\"pattern\":{\"shape\":\"\"}},\"name\":\"P062\",\"orientation\":\"v\",\"showlegend\":true,\"textposition\":\"auto\",\"x\":[\"stomach\",\"small bowel\",\"colon\",\"liver\",\"pancreas\",\"kidney\",\"spleen\",\"omentum\",\"lung\",\"skin\",\"peritoneum\",\"background\"],\"xaxis\":\"x3\",\"y\":{\"dtype\":\"i1\",\"bdata\":\"IS8ZHwYREhcMHRo7\"},\"yaxis\":\"y3\",\"type\":\"bar\"},{\"hovertemplate\":\"subject_name=P068\\u003cbr\\u003especies_name=pig\\u003cbr\\u003elabel_name=%{x}\\u003cbr\\u003en_images=%{y}\\u003cextra\\u003e\\u003c\\u002fextra\\u003e\",\"legendgroup\":\"P068\",\"marker\":{\"color\":\"#44AA99\",\"pattern\":{\"shape\":\"\"}},\"name\":\"P068\",\"orientation\":\"v\",\"showlegend\":true,\"textposition\":\"auto\",\"x\":[\"stomach\",\"small bowel\",\"colon\",\"liver\",\"pancreas\",\"spleen\",\"omentum\",\"skin\",\"peritoneum\",\"background\"],\"xaxis\":\"x3\",\"y\":{\"dtype\":\"i1\",\"bdata\":\"ERcPDQUSCgkNFw==\"},\"yaxis\":\"y3\",\"type\":\"bar\"},{\"hovertemplate\":\"subject_name=P069\\u003cbr\\u003especies_name=pig\\u003cbr\\u003elabel_name=%{x}\\u003cbr\\u003en_images=%{y}\\u003cextra\\u003e\\u003c\\u002fextra\\u003e\",\"legendgroup\":\"P069\",\"marker\":{\"color\":\"#44AA99\",\"pattern\":{\"shape\":\"\"}},\"name\":\"P069\",\"orientation\":\"v\",\"showlegend\":true,\"textposition\":\"auto\",\"x\":[\"stomach\",\"small bowel\",\"colon\",\"liver\",\"spleen\",\"omentum\",\"skin\",\"peritoneum\",\"background\"],\"xaxis\":\"x3\",\"y\":{\"dtype\":\"i1\",\"bdata\":\"DRQUDRMNDw0U\"},\"yaxis\":\"y3\",\"type\":\"bar\"},{\"hovertemplate\":\"subject_name=P070\\u003cbr\\u003especies_name=pig\\u003cbr\\u003elabel_name=%{x}\\u003cbr\\u003en_images=%{y}\\u003cextra\\u003e\\u003c\\u002fextra\\u003e\",\"legendgroup\":\"P070\",\"marker\":{\"color\":\"#44AA99\",\"pattern\":{\"shape\":\"\"}},\"name\":\"P070\",\"orientation\":\"v\",\"showlegend\":true,\"textposition\":\"auto\",\"x\":[\"stomach\",\"small bowel\",\"colon\",\"liver\",\"pancreas\",\"spleen\",\"omentum\",\"lung\",\"skin\",\"peritoneum\",\"background\"],\"xaxis\":\"x3\",\"y\":{\"dtype\":\"i1\",\"bdata\":\"ExkZGQkQDg4cGSc=\"},\"yaxis\":\"y3\",\"type\":\"bar\"},{\"hovertemplate\":\"subject_name=P071\\u003cbr\\u003especies_name=pig\\u003cbr\\u003elabel_name=%{x}\\u003cbr\\u003en_images=%{y}\\u003cextra\\u003e\\u003c\\u002fextra\\u003e\",\"legendgroup\":\"P071\",\"marker\":{\"color\":\"#44AA99\",\"pattern\":{\"shape\":\"\"}},\"name\":\"P071\",\"orientation\":\"v\",\"showlegend\":true,\"textposition\":\"auto\",\"x\":[\"stomach\",\"small bowel\",\"colon\",\"liver\",\"pancreas\",\"spleen\",\"omentum\",\"skin\",\"peritoneum\",\"background\"],\"xaxis\":\"x3\",\"y\":{\"dtype\":\"i1\",\"bdata\":\"Ew8HCgcMDg4BEw==\"},\"yaxis\":\"y3\",\"type\":\"bar\"},{\"hovertemplate\":\"subject_name=P072\\u003cbr\\u003especies_name=pig\\u003cbr\\u003elabel_name=%{x}\\u003cbr\\u003en_images=%{y}\\u003cextra\\u003e\\u003c\\u002fextra\\u003e\",\"legendgroup\":\"P072\",\"marker\":{\"color\":\"#44AA99\",\"pattern\":{\"shape\":\"\"}},\"name\":\"P072\",\"orientation\":\"v\",\"showlegend\":true,\"textposition\":\"auto\",\"x\":[\"stomach\",\"small bowel\",\"colon\",\"liver\",\"pancreas\",\"kidney\",\"spleen\",\"omentum\",\"lung\",\"skin\",\"peritoneum\",\"background\"],\"xaxis\":\"x3\",\"y\":{\"dtype\":\"i1\",\"bdata\":\"GyYXJAcJGRIGIyUv\"},\"yaxis\":\"y3\",\"type\":\"bar\"},{\"hovertemplate\":\"subject_name=P076\\u003cbr\\u003especies_name=pig\\u003cbr\\u003elabel_name=%{x}\\u003cbr\\u003en_images=%{y}\\u003cextra\\u003e\\u003c\\u002fextra\\u003e\",\"legendgroup\":\"P076\",\"marker\":{\"color\":\"#44AA99\",\"pattern\":{\"shape\":\"\"}},\"name\":\"P076\",\"orientation\":\"v\",\"showlegend\":true,\"textposition\":\"auto\",\"x\":[\"stomach\",\"small bowel\",\"colon\",\"liver\",\"peritoneum\"],\"xaxis\":\"x3\",\"y\":{\"dtype\":\"i1\",\"bdata\":\"IyMjIyM=\"},\"yaxis\":\"y3\",\"type\":\"bar\"},{\"hovertemplate\":\"subject_name=P079\\u003cbr\\u003especies_name=pig\\u003cbr\\u003elabel_name=%{x}\\u003cbr\\u003en_images=%{y}\\u003cextra\\u003e\\u003c\\u002fextra\\u003e\",\"legendgroup\":\"P079\",\"marker\":{\"color\":\"#44AA99\",\"pattern\":{\"shape\":\"\"}},\"name\":\"P079\",\"orientation\":\"v\",\"showlegend\":true,\"textposition\":\"auto\",\"x\":[\"kidney\"],\"xaxis\":\"x3\",\"y\":{\"dtype\":\"i1\",\"bdata\":\"Hg==\"},\"yaxis\":\"y3\",\"type\":\"bar\"},{\"hovertemplate\":\"subject_name=P080\\u003cbr\\u003especies_name=pig\\u003cbr\\u003elabel_name=%{x}\\u003cbr\\u003en_images=%{y}\\u003cextra\\u003e\\u003c\\u002fextra\\u003e\",\"legendgroup\":\"P080\",\"marker\":{\"color\":\"#44AA99\",\"pattern\":{\"shape\":\"\"}},\"name\":\"P080\",\"orientation\":\"v\",\"showlegend\":true,\"textposition\":\"auto\",\"x\":[\"kidney\"],\"xaxis\":\"x3\",\"y\":{\"dtype\":\"i1\",\"bdata\":\"Rg==\"},\"yaxis\":\"y3\",\"type\":\"bar\"},{\"hovertemplate\":\"subject_name=P081\\u003cbr\\u003especies_name=pig\\u003cbr\\u003elabel_name=%{x}\\u003cbr\\u003en_images=%{y}\\u003cextra\\u003e\\u003c\\u002fextra\\u003e\",\"legendgroup\":\"P081\",\"marker\":{\"color\":\"#44AA99\",\"pattern\":{\"shape\":\"\"}},\"name\":\"P081\",\"orientation\":\"v\",\"showlegend\":true,\"textposition\":\"auto\",\"x\":[\"kidney\"],\"xaxis\":\"x3\",\"y\":{\"dtype\":\"i1\",\"bdata\":\"KQ==\"},\"yaxis\":\"y3\",\"type\":\"bar\"},{\"hovertemplate\":\"subject_name=P082\\u003cbr\\u003especies_name=pig\\u003cbr\\u003elabel_name=%{x}\\u003cbr\\u003en_images=%{y}\\u003cextra\\u003e\\u003c\\u002fextra\\u003e\",\"legendgroup\":\"P082\",\"marker\":{\"color\":\"#44AA99\",\"pattern\":{\"shape\":\"\"}},\"name\":\"P082\",\"orientation\":\"v\",\"showlegend\":true,\"textposition\":\"auto\",\"x\":[\"kidney\"],\"xaxis\":\"x3\",\"y\":{\"dtype\":\"i1\",\"bdata\":\"Hw==\"},\"yaxis\":\"y3\",\"type\":\"bar\"},{\"hovertemplate\":\"subject_name=P083\\u003cbr\\u003especies_name=pig\\u003cbr\\u003elabel_name=%{x}\\u003cbr\\u003en_images=%{y}\\u003cextra\\u003e\\u003c\\u002fextra\\u003e\",\"legendgroup\":\"P083\",\"marker\":{\"color\":\"#44AA99\",\"pattern\":{\"shape\":\"\"}},\"name\":\"P083\",\"orientation\":\"v\",\"showlegend\":true,\"textposition\":\"auto\",\"x\":[\"kidney\"],\"xaxis\":\"x3\",\"y\":{\"dtype\":\"i1\",\"bdata\":\"Hg==\"},\"yaxis\":\"y3\",\"type\":\"bar\"},{\"hovertemplate\":\"subject_name=P084\\u003cbr\\u003especies_name=pig\\u003cbr\\u003elabel_name=%{x}\\u003cbr\\u003en_images=%{y}\\u003cextra\\u003e\\u003c\\u002fextra\\u003e\",\"legendgroup\":\"P084\",\"marker\":{\"color\":\"#44AA99\",\"pattern\":{\"shape\":\"\"}},\"name\":\"P084\",\"orientation\":\"v\",\"showlegend\":true,\"textposition\":\"auto\",\"x\":[\"kidney\"],\"xaxis\":\"x3\",\"y\":{\"dtype\":\"i1\",\"bdata\":\"Gg==\"},\"yaxis\":\"y3\",\"type\":\"bar\"},{\"hovertemplate\":\"subject_name=P086\\u003cbr\\u003especies_name=pig\\u003cbr\\u003elabel_name=%{x}\\u003cbr\\u003en_images=%{y}\\u003cextra\\u003e\\u003c\\u002fextra\\u003e\",\"legendgroup\":\"P086\",\"marker\":{\"color\":\"#44AA99\",\"pattern\":{\"shape\":\"\"}},\"name\":\"P086\",\"orientation\":\"v\",\"showlegend\":true,\"textposition\":\"auto\",\"x\":[\"stomach\",\"small bowel\",\"colon\",\"liver\",\"pancreas\",\"kidney\",\"spleen\",\"lung\",\"skin\",\"peritoneum\"],\"xaxis\":\"x3\",\"y\":{\"dtype\":\"i1\",\"bdata\":\"JCQkJCQkJCQkJA==\"},\"yaxis\":\"y3\",\"type\":\"bar\"},{\"hovertemplate\":\"subject_name=P087\\u003cbr\\u003especies_name=pig\\u003cbr\\u003elabel_name=%{x}\\u003cbr\\u003en_images=%{y}\\u003cextra\\u003e\\u003c\\u002fextra\\u003e\",\"legendgroup\":\"P087\",\"marker\":{\"color\":\"#44AA99\",\"pattern\":{\"shape\":\"\"}},\"name\":\"P087\",\"orientation\":\"v\",\"showlegend\":true,\"textposition\":\"auto\",\"x\":[\"stomach\",\"small bowel\",\"colon\",\"liver\",\"kidney\",\"spleen\",\"omentum\",\"skin\"],\"xaxis\":\"x3\",\"y\":{\"dtype\":\"i1\",\"bdata\":\"JCQkJCQkJCQ=\"},\"yaxis\":\"y3\",\"type\":\"bar\"},{\"hovertemplate\":\"subject_name=P088\\u003cbr\\u003especies_name=pig\\u003cbr\\u003elabel_name=%{x}\\u003cbr\\u003en_images=%{y}\\u003cextra\\u003e\\u003c\\u002fextra\\u003e\",\"legendgroup\":\"P088\",\"marker\":{\"color\":\"#44AA99\",\"pattern\":{\"shape\":\"\"}},\"name\":\"P088\",\"orientation\":\"v\",\"showlegend\":true,\"textposition\":\"auto\",\"x\":[\"small bowel\",\"liver\",\"pancreas\",\"kidney\",\"spleen\",\"omentum\",\"lung\",\"skin\",\"peritoneum\"],\"xaxis\":\"x3\",\"y\":{\"dtype\":\"i1\",\"bdata\":\"JCQkJCQkJCQk\"},\"yaxis\":\"y3\",\"type\":\"bar\"},{\"hovertemplate\":\"subject_name=P089\\u003cbr\\u003especies_name=pig\\u003cbr\\u003elabel_name=%{x}\\u003cbr\\u003en_images=%{y}\\u003cextra\\u003e\\u003c\\u002fextra\\u003e\",\"legendgroup\":\"P089\",\"marker\":{\"color\":\"#44AA99\",\"pattern\":{\"shape\":\"\"}},\"name\":\"P089\",\"orientation\":\"v\",\"showlegend\":true,\"textposition\":\"auto\",\"x\":[\"small bowel\",\"colon\",\"liver\",\"pancreas\",\"kidney\",\"spleen\",\"lung\",\"skin\"],\"xaxis\":\"x3\",\"y\":{\"dtype\":\"i1\",\"bdata\":\"JCQkJCQkJCQ=\"},\"yaxis\":\"y3\",\"type\":\"bar\"},{\"hovertemplate\":\"subject_name=P090\\u003cbr\\u003especies_name=pig\\u003cbr\\u003elabel_name=%{x}\\u003cbr\\u003en_images=%{y}\\u003cextra\\u003e\\u003c\\u002fextra\\u003e\",\"legendgroup\":\"P090\",\"marker\":{\"color\":\"#44AA99\",\"pattern\":{\"shape\":\"\"}},\"name\":\"P090\",\"orientation\":\"v\",\"showlegend\":true,\"textposition\":\"auto\",\"x\":[\"stomach\",\"small bowel\",\"pancreas\",\"kidney\",\"spleen\",\"omentum\",\"peritoneum\"],\"xaxis\":\"x3\",\"y\":{\"dtype\":\"i1\",\"bdata\":\"JCQkJCQkJA==\"},\"yaxis\":\"y3\",\"type\":\"bar\"},{\"hovertemplate\":\"subject_name=P091\\u003cbr\\u003especies_name=pig\\u003cbr\\u003elabel_name=%{x}\\u003cbr\\u003en_images=%{y}\\u003cextra\\u003e\\u003c\\u002fextra\\u003e\",\"legendgroup\":\"P091\",\"marker\":{\"color\":\"#44AA99\",\"pattern\":{\"shape\":\"\"}},\"name\":\"P091\",\"orientation\":\"v\",\"showlegend\":true,\"textposition\":\"auto\",\"x\":[\"kidney\",\"omentum\",\"lung\"],\"xaxis\":\"x3\",\"y\":{\"dtype\":\"i1\",\"bdata\":\"DSQk\"},\"yaxis\":\"y3\",\"type\":\"bar\"},{\"hovertemplate\":\"subject_name=P092\\u003cbr\\u003especies_name=pig\\u003cbr\\u003elabel_name=%{x}\\u003cbr\\u003en_images=%{y}\\u003cextra\\u003e\\u003c\\u002fextra\\u003e\",\"legendgroup\":\"P092\",\"marker\":{\"color\":\"#44AA99\",\"pattern\":{\"shape\":\"\"}},\"name\":\"P092\",\"orientation\":\"v\",\"showlegend\":true,\"textposition\":\"auto\",\"x\":[\"stomach\",\"colon\",\"pancreas\",\"lung\",\"skin\",\"peritoneum\"],\"xaxis\":\"x3\",\"y\":{\"dtype\":\"i1\",\"bdata\":\"JCQkJCQk\"},\"yaxis\":\"y3\",\"type\":\"bar\"},{\"hovertemplate\":\"subject_name=P093\\u003cbr\\u003especies_name=pig\\u003cbr\\u003elabel_name=%{x}\\u003cbr\\u003en_images=%{y}\\u003cextra\\u003e\\u003c\\u002fextra\\u003e\",\"legendgroup\":\"P093\",\"marker\":{\"color\":\"#44AA99\",\"pattern\":{\"shape\":\"\"}},\"name\":\"P093\",\"orientation\":\"v\",\"showlegend\":true,\"textposition\":\"auto\",\"x\":[\"stomach\",\"colon\",\"liver\",\"pancreas\",\"kidney\",\"spleen\",\"omentum\",\"lung\",\"skin\",\"peritoneum\"],\"xaxis\":\"x3\",\"y\":{\"dtype\":\"i1\",\"bdata\":\"JCQkJCQkJCQkJA==\"},\"yaxis\":\"y3\",\"type\":\"bar\"},{\"hovertemplate\":\"subject_name=P094\\u003cbr\\u003especies_name=pig\\u003cbr\\u003elabel_name=%{x}\\u003cbr\\u003en_images=%{y}\\u003cextra\\u003e\\u003c\\u002fextra\\u003e\",\"legendgroup\":\"P094\",\"marker\":{\"color\":\"#44AA99\",\"pattern\":{\"shape\":\"\"}},\"name\":\"P094\",\"orientation\":\"v\",\"showlegend\":true,\"textposition\":\"auto\",\"x\":[\"stomach\",\"small bowel\",\"colon\",\"liver\",\"pancreas\",\"kidney\",\"spleen\",\"omentum\",\"lung\",\"peritoneum\"],\"xaxis\":\"x3\",\"y\":{\"dtype\":\"i1\",\"bdata\":\"JCQkJCQkJCQkJA==\"},\"yaxis\":\"y3\",\"type\":\"bar\"},{\"hovertemplate\":\"subject_name=P095\\u003cbr\\u003especies_name=pig\\u003cbr\\u003elabel_name=%{x}\\u003cbr\\u003en_images=%{y}\\u003cextra\\u003e\\u003c\\u002fextra\\u003e\",\"legendgroup\":\"P095\",\"marker\":{\"color\":\"#44AA99\",\"pattern\":{\"shape\":\"\"}},\"name\":\"P095\",\"orientation\":\"v\",\"showlegend\":true,\"textposition\":\"auto\",\"x\":[\"stomach\",\"small bowel\",\"colon\",\"liver\",\"pancreas\",\"kidney\",\"spleen\",\"omentum\",\"lung\",\"skin\",\"peritoneum\"],\"xaxis\":\"x3\",\"y\":{\"dtype\":\"i1\",\"bdata\":\"JCQkJCQ9JCQkJCQ=\"},\"yaxis\":\"y3\",\"type\":\"bar\"},{\"hovertemplate\":\"subject_name=P096\\u003cbr\\u003especies_name=pig\\u003cbr\\u003elabel_name=%{x}\\u003cbr\\u003en_images=%{y}\\u003cextra\\u003e\\u003c\\u002fextra\\u003e\",\"legendgroup\":\"P096\",\"marker\":{\"color\":\"#44AA99\",\"pattern\":{\"shape\":\"\"}},\"name\":\"P096\",\"orientation\":\"v\",\"showlegend\":true,\"textposition\":\"auto\",\"x\":[\"stomach\",\"small bowel\",\"colon\",\"liver\",\"kidney\",\"omentum\",\"skin\",\"peritoneum\"],\"xaxis\":\"x3\",\"y\":{\"dtype\":\"i1\",\"bdata\":\"JCQkJGMkJCQ=\"},\"yaxis\":\"y3\",\"type\":\"bar\"},{\"hovertemplate\":\"subject_name=P097\\u003cbr\\u003especies_name=pig\\u003cbr\\u003elabel_name=%{x}\\u003cbr\\u003en_images=%{y}\\u003cextra\\u003e\\u003c\\u002fextra\\u003e\",\"legendgroup\":\"P097\",\"marker\":{\"color\":\"#44AA99\",\"pattern\":{\"shape\":\"\"}},\"name\":\"P097\",\"orientation\":\"v\",\"showlegend\":true,\"textposition\":\"auto\",\"x\":[\"kidney\"],\"xaxis\":\"x3\",\"y\":{\"dtype\":\"i1\",\"bdata\":\"Mg==\"},\"yaxis\":\"y3\",\"type\":\"bar\"},{\"hovertemplate\":\"subject_name=P098\\u003cbr\\u003especies_name=pig\\u003cbr\\u003elabel_name=%{x}\\u003cbr\\u003en_images=%{y}\\u003cextra\\u003e\\u003c\\u002fextra\\u003e\",\"legendgroup\":\"P098\",\"marker\":{\"color\":\"#44AA99\",\"pattern\":{\"shape\":\"\"}},\"name\":\"P098\",\"orientation\":\"v\",\"showlegend\":true,\"textposition\":\"auto\",\"x\":[\"kidney\"],\"xaxis\":\"x3\",\"y\":{\"dtype\":\"i1\",\"bdata\":\"Nw==\"},\"yaxis\":\"y3\",\"type\":\"bar\"},{\"hovertemplate\":\"subject_name=P099\\u003cbr\\u003especies_name=pig\\u003cbr\\u003elabel_name=%{x}\\u003cbr\\u003en_images=%{y}\\u003cextra\\u003e\\u003c\\u002fextra\\u003e\",\"legendgroup\":\"P099\",\"marker\":{\"color\":\"#44AA99\",\"pattern\":{\"shape\":\"\"}},\"name\":\"P099\",\"orientation\":\"v\",\"showlegend\":true,\"textposition\":\"auto\",\"x\":[\"kidney\"],\"xaxis\":\"x3\",\"y\":{\"dtype\":\"i1\",\"bdata\":\"KQ==\"},\"yaxis\":\"y3\",\"type\":\"bar\"},{\"hovertemplate\":\"subject_name=P101\\u003cbr\\u003especies_name=pig\\u003cbr\\u003elabel_name=%{x}\\u003cbr\\u003en_images=%{y}\\u003cextra\\u003e\\u003c\\u002fextra\\u003e\",\"legendgroup\":\"P101\",\"marker\":{\"color\":\"#44AA99\",\"pattern\":{\"shape\":\"\"}},\"name\":\"P101\",\"orientation\":\"v\",\"showlegend\":true,\"textposition\":\"auto\",\"x\":[\"stomach\",\"small bowel\",\"colon\",\"liver\",\"pancreas\",\"kidney\",\"omentum\",\"peritoneum\"],\"xaxis\":\"x3\",\"y\":{\"dtype\":\"i1\",\"bdata\":\"BgYGBwkGBgg=\"},\"yaxis\":\"y3\",\"type\":\"bar\"},{\"hovertemplate\":\"subject_name=P102\\u003cbr\\u003especies_name=pig\\u003cbr\\u003elabel_name=%{x}\\u003cbr\\u003en_images=%{y}\\u003cextra\\u003e\\u003c\\u002fextra\\u003e\",\"legendgroup\":\"P102\",\"marker\":{\"color\":\"#44AA99\",\"pattern\":{\"shape\":\"\"}},\"name\":\"P102\",\"orientation\":\"v\",\"showlegend\":true,\"textposition\":\"auto\",\"x\":[\"stomach\",\"small bowel\",\"colon\",\"liver\",\"pancreas\",\"kidney\",\"omentum\",\"peritoneum\"],\"xaxis\":\"x3\",\"y\":{\"dtype\":\"i1\",\"bdata\":\"LCYlIwYGCRI=\"},\"yaxis\":\"y3\",\"type\":\"bar\"},{\"hovertemplate\":\"subject_name=P103\\u003cbr\\u003especies_name=pig\\u003cbr\\u003elabel_name=%{x}\\u003cbr\\u003en_images=%{y}\\u003cextra\\u003e\\u003c\\u002fextra\\u003e\",\"legendgroup\":\"P103\",\"marker\":{\"color\":\"#44AA99\",\"pattern\":{\"shape\":\"\"}},\"name\":\"P103\",\"orientation\":\"v\",\"showlegend\":true,\"textposition\":\"auto\",\"x\":[\"stomach\",\"small bowel\",\"colon\",\"liver\",\"pancreas\",\"kidney\",\"omentum\",\"peritoneum\"],\"xaxis\":\"x3\",\"y\":{\"dtype\":\"i1\",\"bdata\":\"Hh4YEgYSBgw=\"},\"yaxis\":\"y3\",\"type\":\"bar\"},{\"hovertemplate\":\"subject_name=P104\\u003cbr\\u003especies_name=pig\\u003cbr\\u003elabel_name=%{x}\\u003cbr\\u003en_images=%{y}\\u003cextra\\u003e\\u003c\\u002fextra\\u003e\",\"legendgroup\":\"P104\",\"marker\":{\"color\":\"#44AA99\",\"pattern\":{\"shape\":\"\"}},\"name\":\"P104\",\"orientation\":\"v\",\"showlegend\":true,\"textposition\":\"auto\",\"x\":[\"stomach\",\"small bowel\",\"colon\",\"liver\",\"pancreas\",\"kidney\",\"omentum\",\"peritoneum\"],\"xaxis\":\"x3\",\"y\":{\"dtype\":\"i1\",\"bdata\":\"DxgPGAYYBiE=\"},\"yaxis\":\"y3\",\"type\":\"bar\"},{\"hovertemplate\":\"subject_name=P105\\u003cbr\\u003especies_name=pig\\u003cbr\\u003elabel_name=%{x}\\u003cbr\\u003en_images=%{y}\\u003cextra\\u003e\\u003c\\u002fextra\\u003e\",\"legendgroup\":\"P105\",\"marker\":{\"color\":\"#44AA99\",\"pattern\":{\"shape\":\"\"}},\"name\":\"P105\",\"orientation\":\"v\",\"showlegend\":true,\"textposition\":\"auto\",\"x\":[\"stomach\",\"small bowel\",\"colon\",\"liver\",\"pancreas\",\"kidney\",\"omentum\",\"peritoneum\"],\"xaxis\":\"x3\",\"y\":{\"dtype\":\"i1\",\"bdata\":\"DxYGGAYVBhU=\"},\"yaxis\":\"y3\",\"type\":\"bar\"},{\"hovertemplate\":\"subject_name=P113\\u003cbr\\u003especies_name=pig\\u003cbr\\u003elabel_name=%{x}\\u003cbr\\u003en_images=%{y}\\u003cextra\\u003e\\u003c\\u002fextra\\u003e\",\"legendgroup\":\"P113\",\"marker\":{\"color\":\"#44AA99\",\"pattern\":{\"shape\":\"\"}},\"name\":\"P113\",\"orientation\":\"v\",\"showlegend\":true,\"textposition\":\"auto\",\"x\":[\"stomach\",\"small bowel\",\"colon\",\"liver\",\"pancreas\",\"kidney\",\"omentum\",\"peritoneum\"],\"xaxis\":\"x3\",\"y\":{\"dtype\":\"i1\",\"bdata\":\"DU8ODwICAhE=\"},\"yaxis\":\"y3\",\"type\":\"bar\"},{\"hovertemplate\":\"subject_name=P190\\u003cbr\\u003especies_name=pig\\u003cbr\\u003elabel_name=%{x}\\u003cbr\\u003en_images=%{y}\\u003cextra\\u003e\\u003c\\u002fextra\\u003e\",\"legendgroup\":\"P190\",\"marker\":{\"color\":\"#44AA99\",\"pattern\":{\"shape\":\"\"}},\"name\":\"P190\",\"orientation\":\"v\",\"showlegend\":true,\"textposition\":\"auto\",\"x\":[\"colon\",\"liver\",\"spleen\"],\"xaxis\":\"x3\",\"y\":{\"dtype\":\"i1\",\"bdata\":\"Gxsb\"},\"yaxis\":\"y3\",\"type\":\"bar\"},{\"hovertemplate\":\"subject_name=P191\\u003cbr\\u003especies_name=pig\\u003cbr\\u003elabel_name=%{x}\\u003cbr\\u003en_images=%{y}\\u003cextra\\u003e\\u003c\\u002fextra\\u003e\",\"legendgroup\":\"P191\",\"marker\":{\"color\":\"#44AA99\",\"pattern\":{\"shape\":\"\"}},\"name\":\"P191\",\"orientation\":\"v\",\"showlegend\":true,\"textposition\":\"auto\",\"x\":[\"colon\",\"liver\",\"spleen\"],\"xaxis\":\"x3\",\"y\":{\"dtype\":\"i1\",\"bdata\":\"KSkp\"},\"yaxis\":\"y3\",\"type\":\"bar\"},{\"hovertemplate\":\"subject_name=P192\\u003cbr\\u003especies_name=pig\\u003cbr\\u003elabel_name=%{x}\\u003cbr\\u003en_images=%{y}\\u003cextra\\u003e\\u003c\\u002fextra\\u003e\",\"legendgroup\":\"P192\",\"marker\":{\"color\":\"#44AA99\",\"pattern\":{\"shape\":\"\"}},\"name\":\"P192\",\"orientation\":\"v\",\"showlegend\":true,\"textposition\":\"auto\",\"x\":[\"colon\",\"liver\",\"spleen\"],\"xaxis\":\"x3\",\"y\":{\"dtype\":\"i1\",\"bdata\":\"Kioq\"},\"yaxis\":\"y3\",\"type\":\"bar\"},{\"hovertemplate\":\"subject_name=P193\\u003cbr\\u003especies_name=pig\\u003cbr\\u003elabel_name=%{x}\\u003cbr\\u003en_images=%{y}\\u003cextra\\u003e\\u003c\\u002fextra\\u003e\",\"legendgroup\":\"P193\",\"marker\":{\"color\":\"#44AA99\",\"pattern\":{\"shape\":\"\"}},\"name\":\"P193\",\"orientation\":\"v\",\"showlegend\":true,\"textposition\":\"auto\",\"x\":[\"colon\",\"liver\",\"spleen\"],\"xaxis\":\"x3\",\"y\":{\"dtype\":\"i1\",\"bdata\":\"Kioq\"},\"yaxis\":\"y3\",\"type\":\"bar\"},{\"hovertemplate\":\"subject_name=R002\\u003cbr\\u003especies_name=rat\\u003cbr\\u003elabel_name=%{x}\\u003cbr\\u003en_images=%{y}\\u003cextra\\u003e\\u003c\\u002fextra\\u003e\",\"legendgroup\":\"R002\",\"marker\":{\"color\":\"#89CCED\",\"pattern\":{\"shape\":\"\"}},\"name\":\"R002\",\"orientation\":\"v\",\"showlegend\":true,\"textposition\":\"auto\",\"x\":[\"stomach\",\"small bowel\",\"colon\",\"liver\",\"pancreas\",\"kidney\",\"spleen\",\"omentum\",\"lung\",\"skin\",\"peritoneum\",\"background\"],\"xaxis\":\"x2\",\"y\":{\"dtype\":\"i1\",\"bdata\":\"MEU1RCUkNzAkS0wz\"},\"yaxis\":\"y2\",\"type\":\"bar\"},{\"hovertemplate\":\"subject_name=R003\\u003cbr\\u003especies_name=rat\\u003cbr\\u003elabel_name=%{x}\\u003cbr\\u003en_images=%{y}\\u003cextra\\u003e\\u003c\\u002fextra\\u003e\",\"legendgroup\":\"R003\",\"marker\":{\"color\":\"#89CCED\",\"pattern\":{\"shape\":\"\"}},\"name\":\"R003\",\"orientation\":\"v\",\"showlegend\":true,\"textposition\":\"auto\",\"x\":[\"stomach\",\"small bowel\",\"colon\",\"liver\",\"pancreas\",\"kidney\",\"spleen\",\"omentum\",\"lung\",\"skin\",\"peritoneum\",\"background\"],\"xaxis\":\"x2\",\"y\":{\"dtype\":\"i1\",\"bdata\":\"OEkrRCRROjIjNkkz\"},\"yaxis\":\"y2\",\"type\":\"bar\"},{\"hovertemplate\":\"subject_name=R014\\u003cbr\\u003especies_name=rat\\u003cbr\\u003elabel_name=%{x}\\u003cbr\\u003en_images=%{y}\\u003cextra\\u003e\\u003c\\u002fextra\\u003e\",\"legendgroup\":\"R014\",\"marker\":{\"color\":\"#89CCED\",\"pattern\":{\"shape\":\"\"}},\"name\":\"R014\",\"orientation\":\"v\",\"showlegend\":true,\"textposition\":\"auto\",\"x\":[\"stomach\",\"small bowel\",\"colon\",\"liver\",\"pancreas\",\"kidney\",\"spleen\",\"omentum\",\"lung\",\"skin\",\"peritoneum\",\"background\"],\"xaxis\":\"x2\",\"y\":{\"dtype\":\"i1\",\"bdata\":\"LEEyQCRTLSwkO0Uv\"},\"yaxis\":\"y2\",\"type\":\"bar\"},{\"hovertemplate\":\"subject_name=R015\\u003cbr\\u003especies_name=rat\\u003cbr\\u003elabel_name=%{x}\\u003cbr\\u003en_images=%{y}\\u003cextra\\u003e\\u003c\\u002fextra\\u003e\",\"legendgroup\":\"R015\",\"marker\":{\"color\":\"#89CCED\",\"pattern\":{\"shape\":\"\"}},\"name\":\"R015\",\"orientation\":\"v\",\"showlegend\":true,\"textposition\":\"auto\",\"x\":[\"stomach\",\"small bowel\",\"colon\",\"liver\",\"pancreas\",\"kidney\",\"spleen\",\"omentum\",\"lung\",\"skin\",\"peritoneum\",\"background\"],\"xaxis\":\"x2\",\"y\":{\"dtype\":\"i1\",\"bdata\":\"KD4wPSRSLSokN0At\"},\"yaxis\":\"y2\",\"type\":\"bar\"},{\"hovertemplate\":\"subject_name=R016\\u003cbr\\u003especies_name=rat\\u003cbr\\u003elabel_name=%{x}\\u003cbr\\u003en_images=%{y}\\u003cextra\\u003e\\u003c\\u002fextra\\u003e\",\"legendgroup\":\"R016\",\"marker\":{\"color\":\"#89CCED\",\"pattern\":{\"shape\":\"\"}},\"name\":\"R016\",\"orientation\":\"v\",\"showlegend\":true,\"textposition\":\"auto\",\"x\":[\"stomach\",\"small bowel\",\"colon\",\"liver\",\"pancreas\",\"kidney\",\"spleen\",\"omentum\",\"lung\",\"skin\",\"peritoneum\",\"background\"],\"xaxis\":\"x2\",\"y\":{\"dtype\":\"i1\",\"bdata\":\"Lzw2NyRTLC0kMUAt\"},\"yaxis\":\"y2\",\"type\":\"bar\"},{\"hovertemplate\":\"subject_name=R017\\u003cbr\\u003especies_name=rat\\u003cbr\\u003elabel_name=%{x}\\u003cbr\\u003en_images=%{y}\\u003cextra\\u003e\\u003c\\u002fextra\\u003e\",\"legendgroup\":\"R017\",\"marker\":{\"color\":\"#89CCED\",\"pattern\":{\"shape\":\"\"}},\"name\":\"R017\",\"orientation\":\"v\",\"showlegend\":true,\"textposition\":\"auto\",\"x\":[\"stomach\",\"small bowel\",\"colon\",\"liver\",\"pancreas\",\"kidney\",\"spleen\",\"omentum\",\"lung\",\"skin\",\"peritoneum\",\"background\"],\"xaxis\":\"x2\",\"y\":{\"dtype\":\"i1\",\"bdata\":\"KzsyPiRSLywkQkMt\"},\"yaxis\":\"y2\",\"type\":\"bar\"},{\"hovertemplate\":\"subject_name=R018\\u003cbr\\u003especies_name=rat\\u003cbr\\u003elabel_name=%{x}\\u003cbr\\u003en_images=%{y}\\u003cextra\\u003e\\u003c\\u002fextra\\u003e\",\"legendgroup\":\"R018\",\"marker\":{\"color\":\"#89CCED\",\"pattern\":{\"shape\":\"\"}},\"name\":\"R018\",\"orientation\":\"v\",\"showlegend\":true,\"textposition\":\"auto\",\"x\":[\"stomach\",\"small bowel\",\"colon\",\"liver\",\"pancreas\",\"kidney\",\"spleen\",\"omentum\",\"lung\",\"skin\",\"peritoneum\",\"background\"],\"xaxis\":\"x2\",\"y\":{\"dtype\":\"i1\",\"bdata\":\"NDs1OCZVLzEkPz8s\"},\"yaxis\":\"y2\",\"type\":\"bar\"},{\"hovertemplate\":\"subject_name=R019\\u003cbr\\u003especies_name=rat\\u003cbr\\u003elabel_name=%{x}\\u003cbr\\u003en_images=%{y}\\u003cextra\\u003e\\u003c\\u002fextra\\u003e\",\"legendgroup\":\"R019\",\"marker\":{\"color\":\"#89CCED\",\"pattern\":{\"shape\":\"\"}},\"name\":\"R019\",\"orientation\":\"v\",\"showlegend\":true,\"textposition\":\"auto\",\"x\":[\"stomach\",\"small bowel\",\"colon\",\"liver\",\"pancreas\",\"kidney\",\"spleen\",\"omentum\",\"lung\",\"skin\",\"peritoneum\",\"background\"],\"xaxis\":\"x2\",\"y\":{\"dtype\":\"i1\",\"bdata\":\"MT4zNiVVMjEkQkEt\"},\"yaxis\":\"y2\",\"type\":\"bar\"},{\"hovertemplate\":\"subject_name=R020\\u003cbr\\u003especies_name=rat\\u003cbr\\u003elabel_name=%{x}\\u003cbr\\u003en_images=%{y}\\u003cextra\\u003e\\u003c\\u002fextra\\u003e\",\"legendgroup\":\"R020\",\"marker\":{\"color\":\"#89CCED\",\"pattern\":{\"shape\":\"\"}},\"name\":\"R020\",\"orientation\":\"v\",\"showlegend\":true,\"textposition\":\"auto\",\"x\":[\"stomach\",\"small bowel\",\"colon\",\"liver\",\"pancreas\",\"kidney\",\"spleen\",\"omentum\",\"lung\",\"skin\",\"peritoneum\",\"background\"],\"xaxis\":\"x2\",\"y\":{\"dtype\":\"i1\",\"bdata\":\"LzwoNiZXLS0kREAt\"},\"yaxis\":\"y2\",\"type\":\"bar\"},{\"hovertemplate\":\"subject_name=R021\\u003cbr\\u003especies_name=rat\\u003cbr\\u003elabel_name=%{x}\\u003cbr\\u003en_images=%{y}\\u003cextra\\u003e\\u003c\\u002fextra\\u003e\",\"legendgroup\":\"R021\",\"marker\":{\"color\":\"#89CCED\",\"pattern\":{\"shape\":\"\"}},\"name\":\"R021\",\"orientation\":\"v\",\"showlegend\":true,\"textposition\":\"auto\",\"x\":[\"stomach\",\"small bowel\",\"colon\",\"liver\",\"pancreas\",\"kidney\",\"spleen\",\"omentum\",\"lung\",\"skin\",\"peritoneum\",\"background\"],\"xaxis\":\"x2\",\"y\":{\"dtype\":\"i1\",\"bdata\":\"JzcrNCVXJiYkREAs\"},\"yaxis\":\"y2\",\"type\":\"bar\"},{\"hovertemplate\":\"subject_name=R022\\u003cbr\\u003especies_name=rat\\u003cbr\\u003elabel_name=%{x}\\u003cbr\\u003en_images=%{y}\\u003cextra\\u003e\\u003c\\u002fextra\\u003e\",\"legendgroup\":\"R022\",\"marker\":{\"color\":\"#89CCED\",\"pattern\":{\"shape\":\"\"}},\"name\":\"R022\",\"orientation\":\"v\",\"showlegend\":true,\"textposition\":\"auto\",\"x\":[\"stomach\",\"small bowel\",\"colon\",\"liver\",\"pancreas\",\"kidney\",\"spleen\",\"omentum\",\"lung\",\"skin\",\"peritoneum\",\"background\"],\"xaxis\":\"x2\",\"y\":{\"dtype\":\"i1\",\"bdata\":\"MjssNChWLy4kPz8t\"},\"yaxis\":\"y2\",\"type\":\"bar\"},{\"hovertemplate\":\"subject_name=R023\\u003cbr\\u003especies_name=rat\\u003cbr\\u003elabel_name=%{x}\\u003cbr\\u003en_images=%{y}\\u003cextra\\u003e\\u003c\\u002fextra\\u003e\",\"legendgroup\":\"R023\",\"marker\":{\"color\":\"#89CCED\",\"pattern\":{\"shape\":\"\"}},\"name\":\"R023\",\"orientation\":\"v\",\"showlegend\":true,\"textposition\":\"auto\",\"x\":[\"stomach\",\"small bowel\",\"colon\",\"liver\",\"pancreas\",\"kidney\",\"spleen\",\"omentum\",\"lung\",\"skin\",\"peritoneum\",\"background\"],\"xaxis\":\"x2\",\"y\":{\"dtype\":\"i1\",\"bdata\":\"LDwyMyVSKCwkSj8t\"},\"yaxis\":\"y2\",\"type\":\"bar\"},{\"hovertemplate\":\"subject_name=R024\\u003cbr\\u003especies_name=rat\\u003cbr\\u003elabel_name=%{x}\\u003cbr\\u003en_images=%{y}\\u003cextra\\u003e\\u003c\\u002fextra\\u003e\",\"legendgroup\":\"R024\",\"marker\":{\"color\":\"#89CCED\",\"pattern\":{\"shape\":\"\"}},\"name\":\"R024\",\"orientation\":\"v\",\"showlegend\":true,\"textposition\":\"auto\",\"x\":[\"stomach\",\"small bowel\",\"colon\",\"liver\",\"pancreas\",\"kidney\",\"spleen\",\"omentum\",\"lung\",\"skin\",\"peritoneum\",\"background\"],\"xaxis\":\"x2\",\"y\":{\"dtype\":\"i1\",\"bdata\":\"MTsrPSRVKjAkSUEt\"},\"yaxis\":\"y2\",\"type\":\"bar\"},{\"hovertemplate\":\"subject_name=R025\\u003cbr\\u003especies_name=rat\\u003cbr\\u003elabel_name=%{x}\\u003cbr\\u003en_images=%{y}\\u003cextra\\u003e\\u003c\\u002fextra\\u003e\",\"legendgroup\":\"R025\",\"marker\":{\"color\":\"#89CCED\",\"pattern\":{\"shape\":\"\"}},\"name\":\"R025\",\"orientation\":\"v\",\"showlegend\":true,\"textposition\":\"auto\",\"x\":[\"colon\",\"liver\",\"kidney\",\"spleen\"],\"xaxis\":\"x2\",\"y\":{\"dtype\":\"i1\",\"bdata\":\"YmJiYg==\"},\"yaxis\":\"y2\",\"type\":\"bar\"},{\"hovertemplate\":\"subject_name=R027\\u003cbr\\u003especies_name=rat\\u003cbr\\u003elabel_name=%{x}\\u003cbr\\u003en_images=%{y}\\u003cextra\\u003e\\u003c\\u002fextra\\u003e\",\"legendgroup\":\"R027\",\"marker\":{\"color\":\"#89CCED\",\"pattern\":{\"shape\":\"\"}},\"name\":\"R027\",\"orientation\":\"v\",\"showlegend\":true,\"textposition\":\"auto\",\"x\":[\"colon\",\"liver\",\"kidney\",\"spleen\"],\"xaxis\":\"x2\",\"y\":{\"dtype\":\"i1\",\"bdata\":\"ODg4OA==\"},\"yaxis\":\"y2\",\"type\":\"bar\"},{\"hovertemplate\":\"subject_name=R028\\u003cbr\\u003especies_name=rat\\u003cbr\\u003elabel_name=%{x}\\u003cbr\\u003en_images=%{y}\\u003cextra\\u003e\\u003c\\u002fextra\\u003e\",\"legendgroup\":\"R028\",\"marker\":{\"color\":\"#89CCED\",\"pattern\":{\"shape\":\"\"}},\"name\":\"R028\",\"orientation\":\"v\",\"showlegend\":true,\"textposition\":\"auto\",\"x\":[\"colon\",\"liver\",\"kidney\",\"spleen\"],\"xaxis\":\"x2\",\"y\":{\"dtype\":\"i1\",\"bdata\":\"WVlZWQ==\"},\"yaxis\":\"y2\",\"type\":\"bar\"},{\"hovertemplate\":\"subject_name=R029\\u003cbr\\u003especies_name=rat\\u003cbr\\u003elabel_name=%{x}\\u003cbr\\u003en_images=%{y}\\u003cextra\\u003e\\u003c\\u002fextra\\u003e\",\"legendgroup\":\"R029\",\"marker\":{\"color\":\"#89CCED\",\"pattern\":{\"shape\":\"\"}},\"name\":\"R029\",\"orientation\":\"v\",\"showlegend\":true,\"textposition\":\"auto\",\"x\":[\"colon\",\"liver\",\"kidney\",\"spleen\"],\"xaxis\":\"x2\",\"y\":{\"dtype\":\"i1\",\"bdata\":\"WVlZWQ==\"},\"yaxis\":\"y2\",\"type\":\"bar\"},{\"hovertemplate\":\"subject_name=R030\\u003cbr\\u003especies_name=rat\\u003cbr\\u003elabel_name=%{x}\\u003cbr\\u003en_images=%{y}\\u003cextra\\u003e\\u003c\\u002fextra\\u003e\",\"legendgroup\":\"R030\",\"marker\":{\"color\":\"#89CCED\",\"pattern\":{\"shape\":\"\"}},\"name\":\"R030\",\"orientation\":\"v\",\"showlegend\":true,\"textposition\":\"auto\",\"x\":[\"colon\",\"liver\",\"kidney\",\"spleen\"],\"xaxis\":\"x2\",\"y\":{\"dtype\":\"i1\",\"bdata\":\"WVlZWQ==\"},\"yaxis\":\"y2\",\"type\":\"bar\"},{\"hovertemplate\":\"subject_name=R031\\u003cbr\\u003especies_name=rat\\u003cbr\\u003elabel_name=%{x}\\u003cbr\\u003en_images=%{y}\\u003cextra\\u003e\\u003c\\u002fextra\\u003e\",\"legendgroup\":\"R031\",\"marker\":{\"color\":\"#89CCED\",\"pattern\":{\"shape\":\"\"}},\"name\":\"R031\",\"orientation\":\"v\",\"showlegend\":true,\"textposition\":\"auto\",\"x\":[\"colon\",\"liver\",\"kidney\",\"spleen\"],\"xaxis\":\"x2\",\"y\":{\"dtype\":\"i1\",\"bdata\":\"WVhZWQ==\"},\"yaxis\":\"y2\",\"type\":\"bar\"},{\"hovertemplate\":\"subject_name=R032\\u003cbr\\u003especies_name=rat\\u003cbr\\u003elabel_name=%{x}\\u003cbr\\u003en_images=%{y}\\u003cextra\\u003e\\u003c\\u002fextra\\u003e\",\"legendgroup\":\"R032\",\"marker\":{\"color\":\"#89CCED\",\"pattern\":{\"shape\":\"\"}},\"name\":\"R032\",\"orientation\":\"v\",\"showlegend\":true,\"textposition\":\"auto\",\"x\":[\"colon\",\"liver\",\"kidney\",\"spleen\"],\"xaxis\":\"x2\",\"y\":{\"dtype\":\"i1\",\"bdata\":\"WVhZWQ==\"},\"yaxis\":\"y2\",\"type\":\"bar\"},{\"hovertemplate\":\"subject_name=R033\\u003cbr\\u003especies_name=rat\\u003cbr\\u003elabel_name=%{x}\\u003cbr\\u003en_images=%{y}\\u003cextra\\u003e\\u003c\\u002fextra\\u003e\",\"legendgroup\":\"R033\",\"marker\":{\"color\":\"#89CCED\",\"pattern\":{\"shape\":\"\"}},\"name\":\"R033\",\"orientation\":\"v\",\"showlegend\":true,\"textposition\":\"auto\",\"x\":[\"colon\",\"liver\",\"kidney\",\"spleen\"],\"xaxis\":\"x2\",\"y\":{\"dtype\":\"i2\",\"bdata\":\"tACyALQAtAA=\"},\"yaxis\":\"y2\",\"type\":\"bar\"},{\"hovertemplate\":\"subject_name=R034\\u003cbr\\u003especies_name=rat\\u003cbr\\u003elabel_name=%{x}\\u003cbr\\u003en_images=%{y}\\u003cextra\\u003e\\u003c\\u002fextra\\u003e\",\"legendgroup\":\"R034\",\"marker\":{\"color\":\"#89CCED\",\"pattern\":{\"shape\":\"\"}},\"name\":\"R034\",\"orientation\":\"v\",\"showlegend\":true,\"textposition\":\"auto\",\"x\":[\"colon\",\"liver\",\"kidney\",\"spleen\"],\"xaxis\":\"x2\",\"y\":{\"dtype\":\"i1\",\"bdata\":\"WVlZWQ==\"},\"yaxis\":\"y2\",\"type\":\"bar\"},{\"hovertemplate\":\"subject_name=R035\\u003cbr\\u003especies_name=rat\\u003cbr\\u003elabel_name=%{x}\\u003cbr\\u003en_images=%{y}\\u003cextra\\u003e\\u003c\\u002fextra\\u003e\",\"legendgroup\":\"R035\",\"marker\":{\"color\":\"#89CCED\",\"pattern\":{\"shape\":\"\"}},\"name\":\"R035\",\"orientation\":\"v\",\"showlegend\":true,\"textposition\":\"auto\",\"x\":[\"colon\",\"liver\",\"kidney\",\"spleen\"],\"xaxis\":\"x2\",\"y\":{\"dtype\":\"i1\",\"bdata\":\"WltbWw==\"},\"yaxis\":\"y2\",\"type\":\"bar\"},{\"hovertemplate\":\"subject_name=R036\\u003cbr\\u003especies_name=rat\\u003cbr\\u003elabel_name=%{x}\\u003cbr\\u003en_images=%{y}\\u003cextra\\u003e\\u003c\\u002fextra\\u003e\",\"legendgroup\":\"R036\",\"marker\":{\"color\":\"#89CCED\",\"pattern\":{\"shape\":\"\"}},\"name\":\"R036\",\"orientation\":\"v\",\"showlegend\":true,\"textposition\":\"auto\",\"x\":[\"colon\",\"liver\",\"kidney\",\"spleen\"],\"xaxis\":\"x2\",\"y\":{\"dtype\":\"i1\",\"bdata\":\"WVlZWQ==\"},\"yaxis\":\"y2\",\"type\":\"bar\"},{\"hovertemplate\":\"subject_name=R043\\u003cbr\\u003especies_name=rat\\u003cbr\\u003elabel_name=%{x}\\u003cbr\\u003en_images=%{y}\\u003cextra\\u003e\\u003c\\u002fextra\\u003e\",\"legendgroup\":\"R043\",\"marker\":{\"color\":\"#89CCED\",\"pattern\":{\"shape\":\"\"}},\"name\":\"R043\",\"orientation\":\"v\",\"showlegend\":true,\"textposition\":\"auto\",\"x\":[\"stomach\",\"small bowel\",\"colon\",\"liver\",\"pancreas\",\"kidney\",\"omentum\",\"peritoneum\"],\"xaxis\":\"x2\",\"y\":{\"dtype\":\"i2\",\"bdata\":\"EQERAREBDgEQAQwBEQERAQ==\"},\"yaxis\":\"y2\",\"type\":\"bar\"},{\"hovertemplate\":\"subject_name=R044\\u003cbr\\u003especies_name=rat\\u003cbr\\u003elabel_name=%{x}\\u003cbr\\u003en_images=%{y}\\u003cextra\\u003e\\u003c\\u002fextra\\u003e\",\"legendgroup\":\"R044\",\"marker\":{\"color\":\"#89CCED\",\"pattern\":{\"shape\":\"\"}},\"name\":\"R044\",\"orientation\":\"v\",\"showlegend\":true,\"textposition\":\"auto\",\"x\":[\"stomach\",\"small bowel\",\"colon\",\"liver\",\"pancreas\",\"kidney\",\"omentum\",\"peritoneum\"],\"xaxis\":\"x2\",\"y\":{\"dtype\":\"i1\",\"bdata\":\"Hx8fHx8fHx8=\"},\"yaxis\":\"y2\",\"type\":\"bar\"},{\"hovertemplate\":\"subject_name=R045\\u003cbr\\u003especies_name=rat\\u003cbr\\u003elabel_name=%{x}\\u003cbr\\u003en_images=%{y}\\u003cextra\\u003e\\u003c\\u002fextra\\u003e\",\"legendgroup\":\"R045\",\"marker\":{\"color\":\"#89CCED\",\"pattern\":{\"shape\":\"\"}},\"name\":\"R045\",\"orientation\":\"v\",\"showlegend\":true,\"textposition\":\"auto\",\"x\":[\"stomach\",\"small bowel\",\"colon\",\"liver\",\"pancreas\",\"kidney\",\"omentum\",\"peritoneum\"],\"xaxis\":\"x2\",\"y\":{\"dtype\":\"i2\",\"bdata\":\"wgDCAMIAwgDCAMIAwQDCAA==\"},\"yaxis\":\"y2\",\"type\":\"bar\"},{\"hovertemplate\":\"subject_name=R046\\u003cbr\\u003especies_name=rat\\u003cbr\\u003elabel_name=%{x}\\u003cbr\\u003en_images=%{y}\\u003cextra\\u003e\\u003c\\u002fextra\\u003e\",\"legendgroup\":\"R046\",\"marker\":{\"color\":\"#89CCED\",\"pattern\":{\"shape\":\"\"}},\"name\":\"R046\",\"orientation\":\"v\",\"showlegend\":true,\"textposition\":\"auto\",\"x\":[\"stomach\",\"small bowel\",\"colon\",\"liver\",\"pancreas\",\"kidney\",\"omentum\",\"peritoneum\"],\"xaxis\":\"x2\",\"y\":{\"dtype\":\"i2\",\"bdata\":\"1wDXANcAvgDXANcA1wDXAA==\"},\"yaxis\":\"y2\",\"type\":\"bar\"},{\"hovertemplate\":\"subject_name=R047\\u003cbr\\u003especies_name=rat\\u003cbr\\u003elabel_name=%{x}\\u003cbr\\u003en_images=%{y}\\u003cextra\\u003e\\u003c\\u002fextra\\u003e\",\"legendgroup\":\"R047\",\"marker\":{\"color\":\"#89CCED\",\"pattern\":{\"shape\":\"\"}},\"name\":\"R047\",\"orientation\":\"v\",\"showlegend\":true,\"textposition\":\"auto\",\"x\":[\"stomach\",\"small bowel\",\"colon\",\"liver\",\"pancreas\",\"kidney\",\"omentum\",\"peritoneum\"],\"xaxis\":\"x2\",\"y\":{\"dtype\":\"i2\",\"bdata\":\"0wDTANMA0wDTANMA0wDTAA==\"},\"yaxis\":\"y2\",\"type\":\"bar\"},{\"hovertemplate\":\"subject_name=R048\\u003cbr\\u003especies_name=rat\\u003cbr\\u003elabel_name=%{x}\\u003cbr\\u003en_images=%{y}\\u003cextra\\u003e\\u003c\\u002fextra\\u003e\",\"legendgroup\":\"R048\",\"marker\":{\"color\":\"#89CCED\",\"pattern\":{\"shape\":\"\"}},\"name\":\"R048\",\"orientation\":\"v\",\"showlegend\":true,\"textposition\":\"auto\",\"x\":[\"stomach\",\"small bowel\",\"colon\",\"liver\",\"pancreas\",\"kidney\",\"omentum\",\"peritoneum\"],\"xaxis\":\"x2\",\"y\":{\"dtype\":\"i2\",\"bdata\":\"1QDVANUA1QDUANUA1QDVAA==\"},\"yaxis\":\"y2\",\"type\":\"bar\"},{\"hovertemplate\":\"subject_name=SPACE_000001\\u003cbr\\u003especies_name=human\\u003cbr\\u003elabel_name=%{x}\\u003cbr\\u003en_images=%{y}\\u003cextra\\u003e\\u003c\\u002fextra\\u003e\",\"legendgroup\":\"SPACE_000001\",\"marker\":{\"color\":\"#DDCB76\",\"pattern\":{\"shape\":\"\"}},\"name\":\"SPACE_000001\",\"orientation\":\"v\",\"showlegend\":true,\"textposition\":\"auto\",\"x\":[\"stomach\",\"small bowel\",\"colon\",\"liver\",\"spleen\",\"omentum\",\"skin\",\"background\"],\"xaxis\":\"x\",\"y\":{\"dtype\":\"i1\",\"bdata\":\"BgEBBgIHBgc=\"},\"yaxis\":\"y\",\"type\":\"bar\"},{\"hovertemplate\":\"subject_name=SPACE_000002\\u003cbr\\u003especies_name=human\\u003cbr\\u003elabel_name=%{x}\\u003cbr\\u003en_images=%{y}\\u003cextra\\u003e\\u003c\\u002fextra\\u003e\",\"legendgroup\":\"SPACE_000002\",\"marker\":{\"color\":\"#DDCB76\",\"pattern\":{\"shape\":\"\"}},\"name\":\"SPACE_000002\",\"orientation\":\"v\",\"showlegend\":true,\"textposition\":\"auto\",\"x\":[\"stomach\",\"colon\",\"liver\",\"omentum\",\"skin\",\"background\"],\"xaxis\":\"x\",\"y\":{\"dtype\":\"i1\",\"bdata\":\"AQECAgEC\"},\"yaxis\":\"y\",\"type\":\"bar\"},{\"hovertemplate\":\"subject_name=SPACE_000003\\u003cbr\\u003especies_name=human\\u003cbr\\u003elabel_name=%{x}\\u003cbr\\u003en_images=%{y}\\u003cextra\\u003e\\u003c\\u002fextra\\u003e\",\"legendgroup\":\"SPACE_000003\",\"marker\":{\"color\":\"#DDCB76\",\"pattern\":{\"shape\":\"\"}},\"name\":\"SPACE_000003\",\"orientation\":\"v\",\"showlegend\":true,\"textposition\":\"auto\",\"x\":[\"small bowel\",\"colon\",\"liver\",\"spleen\",\"background\"],\"xaxis\":\"x\",\"y\":{\"dtype\":\"i1\",\"bdata\":\"AQECAQI=\"},\"yaxis\":\"y\",\"type\":\"bar\"},{\"hovertemplate\":\"subject_name=SPACE_000004\\u003cbr\\u003especies_name=human\\u003cbr\\u003elabel_name=%{x}\\u003cbr\\u003en_images=%{y}\\u003cextra\\u003e\\u003c\\u002fextra\\u003e\",\"legendgroup\":\"SPACE_000004\",\"marker\":{\"color\":\"#DDCB76\",\"pattern\":{\"shape\":\"\"}},\"name\":\"SPACE_000004\",\"orientation\":\"v\",\"showlegend\":true,\"textposition\":\"auto\",\"x\":[\"stomach\",\"colon\",\"liver\",\"omentum\",\"background\"],\"xaxis\":\"x\",\"y\":{\"dtype\":\"i1\",\"bdata\":\"AQEBAgI=\"},\"yaxis\":\"y\",\"type\":\"bar\"},{\"hovertemplate\":\"subject_name=SPACE_000005\\u003cbr\\u003especies_name=human\\u003cbr\\u003elabel_name=%{x}\\u003cbr\\u003en_images=%{y}\\u003cextra\\u003e\\u003c\\u002fextra\\u003e\",\"legendgroup\":\"SPACE_000005\",\"marker\":{\"color\":\"#DDCB76\",\"pattern\":{\"shape\":\"\"}},\"name\":\"SPACE_000005\",\"orientation\":\"v\",\"showlegend\":true,\"textposition\":\"auto\",\"x\":[\"kidney\"],\"xaxis\":\"x\",\"y\":{\"dtype\":\"i1\",\"bdata\":\"AQ==\"},\"yaxis\":\"y\",\"type\":\"bar\"},{\"hovertemplate\":\"subject_name=SPACE_000006\\u003cbr\\u003especies_name=human\\u003cbr\\u003elabel_name=%{x}\\u003cbr\\u003en_images=%{y}\\u003cextra\\u003e\\u003c\\u002fextra\\u003e\",\"legendgroup\":\"SPACE_000006\",\"marker\":{\"color\":\"#DDCB76\",\"pattern\":{\"shape\":\"\"}},\"name\":\"SPACE_000006\",\"orientation\":\"v\",\"showlegend\":true,\"textposition\":\"auto\",\"x\":[\"stomach\",\"small bowel\",\"liver\",\"spleen\",\"omentum\",\"peritoneum\",\"background\"],\"xaxis\":\"x\",\"y\":{\"dtype\":\"i1\",\"bdata\":\"BQIKFAUBBQ==\"},\"yaxis\":\"y\",\"type\":\"bar\"},{\"hovertemplate\":\"subject_name=SPACE_000008\\u003cbr\\u003especies_name=human\\u003cbr\\u003elabel_name=%{x}\\u003cbr\\u003en_images=%{y}\\u003cextra\\u003e\\u003c\\u002fextra\\u003e\",\"legendgroup\":\"SPACE_000008\",\"marker\":{\"color\":\"#DDCB76\",\"pattern\":{\"shape\":\"\"}},\"name\":\"SPACE_000008\",\"orientation\":\"v\",\"showlegend\":true,\"textposition\":\"auto\",\"x\":[\"stomach\",\"small bowel\",\"liver\",\"omentum\",\"background\"],\"xaxis\":\"x\",\"y\":{\"dtype\":\"i1\",\"bdata\":\"AgIJAgI=\"},\"yaxis\":\"y\",\"type\":\"bar\"},{\"hovertemplate\":\"subject_name=SPACE_000009\\u003cbr\\u003especies_name=human\\u003cbr\\u003elabel_name=%{x}\\u003cbr\\u003en_images=%{y}\\u003cextra\\u003e\\u003c\\u002fextra\\u003e\",\"legendgroup\":\"SPACE_000009\",\"marker\":{\"color\":\"#DDCB76\",\"pattern\":{\"shape\":\"\"}},\"name\":\"SPACE_000009\",\"orientation\":\"v\",\"showlegend\":true,\"textposition\":\"auto\",\"x\":[\"stomach\",\"small bowel\",\"liver\",\"omentum\",\"skin\",\"background\"],\"xaxis\":\"x\",\"y\":{\"dtype\":\"i1\",\"bdata\":\"AQICAgIC\"},\"yaxis\":\"y\",\"type\":\"bar\"},{\"hovertemplate\":\"subject_name=SPACE_000010\\u003cbr\\u003especies_name=human\\u003cbr\\u003elabel_name=%{x}\\u003cbr\\u003en_images=%{y}\\u003cextra\\u003e\\u003c\\u002fextra\\u003e\",\"legendgroup\":\"SPACE_000010\",\"marker\":{\"color\":\"#DDCB76\",\"pattern\":{\"shape\":\"\"}},\"name\":\"SPACE_000010\",\"orientation\":\"v\",\"showlegend\":true,\"textposition\":\"auto\",\"x\":[\"small bowel\",\"colon\",\"skin\",\"background\"],\"xaxis\":\"x\",\"y\":{\"dtype\":\"i1\",\"bdata\":\"AgECAg==\"},\"yaxis\":\"y\",\"type\":\"bar\"},{\"hovertemplate\":\"subject_name=SPACE_000011\\u003cbr\\u003especies_name=human\\u003cbr\\u003elabel_name=%{x}\\u003cbr\\u003en_images=%{y}\\u003cextra\\u003e\\u003c\\u002fextra\\u003e\",\"legendgroup\":\"SPACE_000011\",\"marker\":{\"color\":\"#DDCB76\",\"pattern\":{\"shape\":\"\"}},\"name\":\"SPACE_000011\",\"orientation\":\"v\",\"showlegend\":true,\"textposition\":\"auto\",\"x\":[\"stomach\",\"small bowel\",\"colon\",\"liver\",\"omentum\",\"skin\",\"background\"],\"xaxis\":\"x\",\"y\":{\"dtype\":\"i1\",\"bdata\":\"CwwCCgkHDA==\"},\"yaxis\":\"y\",\"type\":\"bar\"},{\"hovertemplate\":\"subject_name=SPACE_000012\\u003cbr\\u003especies_name=human\\u003cbr\\u003elabel_name=%{x}\\u003cbr\\u003en_images=%{y}\\u003cextra\\u003e\\u003c\\u002fextra\\u003e\",\"legendgroup\":\"SPACE_000012\",\"marker\":{\"color\":\"#DDCB76\",\"pattern\":{\"shape\":\"\"}},\"name\":\"SPACE_000012\",\"orientation\":\"v\",\"showlegend\":true,\"textposition\":\"auto\",\"x\":[\"stomach\",\"small bowel\",\"colon\",\"liver\",\"pancreas\",\"omentum\",\"skin\",\"peritoneum\",\"background\"],\"xaxis\":\"x\",\"y\":{\"dtype\":\"i1\",\"bdata\":\"AQkJCgIIAggL\"},\"yaxis\":\"y\",\"type\":\"bar\"},{\"hovertemplate\":\"subject_name=SPACE_000013\\u003cbr\\u003especies_name=human\\u003cbr\\u003elabel_name=%{x}\\u003cbr\\u003en_images=%{y}\\u003cextra\\u003e\\u003c\\u002fextra\\u003e\",\"legendgroup\":\"SPACE_000013\",\"marker\":{\"color\":\"#DDCB76\",\"pattern\":{\"shape\":\"\"}},\"name\":\"SPACE_000013\",\"orientation\":\"v\",\"showlegend\":true,\"textposition\":\"auto\",\"x\":[\"stomach\",\"small bowel\",\"omentum\",\"background\"],\"xaxis\":\"x\",\"y\":{\"dtype\":\"i1\",\"bdata\":\"AgICAg==\"},\"yaxis\":\"y\",\"type\":\"bar\"},{\"hovertemplate\":\"subject_name=SPACE_000014\\u003cbr\\u003especies_name=human\\u003cbr\\u003elabel_name=%{x}\\u003cbr\\u003en_images=%{y}\\u003cextra\\u003e\\u003c\\u002fextra\\u003e\",\"legendgroup\":\"SPACE_000014\",\"marker\":{\"color\":\"#DDCB76\",\"pattern\":{\"shape\":\"\"}},\"name\":\"SPACE_000014\",\"orientation\":\"v\",\"showlegend\":true,\"textposition\":\"auto\",\"x\":[\"stomach\",\"small bowel\",\"colon\",\"liver\",\"pancreas\",\"spleen\",\"omentum\",\"peritoneum\",\"background\"],\"xaxis\":\"x\",\"y\":{\"dtype\":\"i1\",\"bdata\":\"BQMBCwIDBAEG\"},\"yaxis\":\"y\",\"type\":\"bar\"},{\"hovertemplate\":\"subject_name=SPACE_000015\\u003cbr\\u003especies_name=human\\u003cbr\\u003elabel_name=%{x}\\u003cbr\\u003en_images=%{y}\\u003cextra\\u003e\\u003c\\u002fextra\\u003e\",\"legendgroup\":\"SPACE_000015\",\"marker\":{\"color\":\"#DDCB76\",\"pattern\":{\"shape\":\"\"}},\"name\":\"SPACE_000015\",\"orientation\":\"v\",\"showlegend\":true,\"textposition\":\"auto\",\"x\":[\"colon\",\"liver\",\"omentum\",\"skin\",\"background\"],\"xaxis\":\"x\",\"y\":{\"dtype\":\"i1\",\"bdata\":\"AQICAgI=\"},\"yaxis\":\"y\",\"type\":\"bar\"},{\"hovertemplate\":\"subject_name=SPACE_000016\\u003cbr\\u003especies_name=human\\u003cbr\\u003elabel_name=%{x}\\u003cbr\\u003en_images=%{y}\\u003cextra\\u003e\\u003c\\u002fextra\\u003e\",\"legendgroup\":\"SPACE_000016\",\"marker\":{\"color\":\"#DDCB76\",\"pattern\":{\"shape\":\"\"}},\"name\":\"SPACE_000016\",\"orientation\":\"v\",\"showlegend\":true,\"textposition\":\"auto\",\"x\":[\"small bowel\",\"skin\",\"background\"],\"xaxis\":\"x\",\"y\":{\"dtype\":\"i1\",\"bdata\":\"AgIC\"},\"yaxis\":\"y\",\"type\":\"bar\"},{\"hovertemplate\":\"subject_name=SPACE_000017\\u003cbr\\u003especies_name=human\\u003cbr\\u003elabel_name=%{x}\\u003cbr\\u003en_images=%{y}\\u003cextra\\u003e\\u003c\\u002fextra\\u003e\",\"legendgroup\":\"SPACE_000017\",\"marker\":{\"color\":\"#DDCB76\",\"pattern\":{\"shape\":\"\"}},\"name\":\"SPACE_000017\",\"orientation\":\"v\",\"showlegend\":true,\"textposition\":\"auto\",\"x\":[\"stomach\",\"small bowel\",\"colon\",\"liver\",\"omentum\",\"lung\",\"skin\",\"background\"],\"xaxis\":\"x\",\"y\":{\"dtype\":\"i1\",\"bdata\":\"AQICAgEEBQU=\"},\"yaxis\":\"y\",\"type\":\"bar\"},{\"hovertemplate\":\"subject_name=SPACE_000018\\u003cbr\\u003especies_name=human\\u003cbr\\u003elabel_name=%{x}\\u003cbr\\u003en_images=%{y}\\u003cextra\\u003e\\u003c\\u002fextra\\u003e\",\"legendgroup\":\"SPACE_000018\",\"marker\":{\"color\":\"#DDCB76\",\"pattern\":{\"shape\":\"\"}},\"name\":\"SPACE_000018\",\"orientation\":\"v\",\"showlegend\":true,\"textposition\":\"auto\",\"x\":[\"colon\",\"liver\",\"omentum\",\"skin\",\"background\"],\"xaxis\":\"x\",\"y\":{\"dtype\":\"i1\",\"bdata\":\"AQkCAQI=\"},\"yaxis\":\"y\",\"type\":\"bar\"},{\"hovertemplate\":\"subject_name=SPACE_000019\\u003cbr\\u003especies_name=human\\u003cbr\\u003elabel_name=%{x}\\u003cbr\\u003en_images=%{y}\\u003cextra\\u003e\\u003c\\u002fextra\\u003e\",\"legendgroup\":\"SPACE_000019\",\"marker\":{\"color\":\"#DDCB76\",\"pattern\":{\"shape\":\"\"}},\"name\":\"SPACE_000019\",\"orientation\":\"v\",\"showlegend\":true,\"textposition\":\"auto\",\"x\":[\"stomach\",\"small bowel\",\"liver\",\"spleen\",\"omentum\",\"background\"],\"xaxis\":\"x\",\"y\":{\"dtype\":\"i1\",\"bdata\":\"BAsLAwkL\"},\"yaxis\":\"y\",\"type\":\"bar\"},{\"hovertemplate\":\"subject_name=SPACE_000020\\u003cbr\\u003especies_name=human\\u003cbr\\u003elabel_name=%{x}\\u003cbr\\u003en_images=%{y}\\u003cextra\\u003e\\u003c\\u002fextra\\u003e\",\"legendgroup\":\"SPACE_000020\",\"marker\":{\"color\":\"#DDCB76\",\"pattern\":{\"shape\":\"\"}},\"name\":\"SPACE_000020\",\"orientation\":\"v\",\"showlegend\":true,\"textposition\":\"auto\",\"x\":[\"kidney\",\"skin\",\"background\"],\"xaxis\":\"x\",\"y\":{\"dtype\":\"i1\",\"bdata\":\"AQIC\"},\"yaxis\":\"y\",\"type\":\"bar\"},{\"hovertemplate\":\"subject_name=SPACE_000021\\u003cbr\\u003especies_name=human\\u003cbr\\u003elabel_name=%{x}\\u003cbr\\u003en_images=%{y}\\u003cextra\\u003e\\u003c\\u002fextra\\u003e\",\"legendgroup\":\"SPACE_000021\",\"marker\":{\"color\":\"#DDCB76\",\"pattern\":{\"shape\":\"\"}},\"name\":\"SPACE_000021\",\"orientation\":\"v\",\"showlegend\":true,\"textposition\":\"auto\",\"x\":[\"stomach\",\"small bowel\",\"colon\",\"liver\",\"omentum\",\"background\"],\"xaxis\":\"x\",\"y\":{\"dtype\":\"i1\",\"bdata\":\"AQICAgIC\"},\"yaxis\":\"y\",\"type\":\"bar\"},{\"hovertemplate\":\"subject_name=SPACE_000022\\u003cbr\\u003especies_name=human\\u003cbr\\u003elabel_name=%{x}\\u003cbr\\u003en_images=%{y}\\u003cextra\\u003e\\u003c\\u002fextra\\u003e\",\"legendgroup\":\"SPACE_000022\",\"marker\":{\"color\":\"#DDCB76\",\"pattern\":{\"shape\":\"\"}},\"name\":\"SPACE_000022\",\"orientation\":\"v\",\"showlegend\":true,\"textposition\":\"auto\",\"x\":[\"stomach\",\"small bowel\",\"liver\",\"omentum\",\"background\"],\"xaxis\":\"x\",\"y\":{\"dtype\":\"i1\",\"bdata\":\"AQEBAgI=\"},\"yaxis\":\"y\",\"type\":\"bar\"},{\"hovertemplate\":\"subject_name=SPACE_000023\\u003cbr\\u003especies_name=human\\u003cbr\\u003elabel_name=%{x}\\u003cbr\\u003en_images=%{y}\\u003cextra\\u003e\\u003c\\u002fextra\\u003e\",\"legendgroup\":\"SPACE_000023\",\"marker\":{\"color\":\"#DDCB76\",\"pattern\":{\"shape\":\"\"}},\"name\":\"SPACE_000023\",\"orientation\":\"v\",\"showlegend\":true,\"textposition\":\"auto\",\"x\":[\"stomach\",\"colon\",\"liver\",\"omentum\",\"peritoneum\",\"background\"],\"xaxis\":\"x\",\"y\":{\"dtype\":\"i1\",\"bdata\":\"AgEEAgEC\"},\"yaxis\":\"y\",\"type\":\"bar\"},{\"hovertemplate\":\"subject_name=SPACE_000024\\u003cbr\\u003especies_name=human\\u003cbr\\u003elabel_name=%{x}\\u003cbr\\u003en_images=%{y}\\u003cextra\\u003e\\u003c\\u002fextra\\u003e\",\"legendgroup\":\"SPACE_000024\",\"marker\":{\"color\":\"#DDCB76\",\"pattern\":{\"shape\":\"\"}},\"name\":\"SPACE_000024\",\"orientation\":\"v\",\"showlegend\":true,\"textposition\":\"auto\",\"x\":[\"colon\",\"liver\",\"spleen\",\"omentum\",\"background\"],\"xaxis\":\"x\",\"y\":{\"dtype\":\"i1\",\"bdata\":\"AQIBAgI=\"},\"yaxis\":\"y\",\"type\":\"bar\"},{\"hovertemplate\":\"subject_name=SPACE_000025\\u003cbr\\u003especies_name=human\\u003cbr\\u003elabel_name=%{x}\\u003cbr\\u003en_images=%{y}\\u003cextra\\u003e\\u003c\\u002fextra\\u003e\",\"legendgroup\":\"SPACE_000025\",\"marker\":{\"color\":\"#DDCB76\",\"pattern\":{\"shape\":\"\"}},\"name\":\"SPACE_000025\",\"orientation\":\"v\",\"showlegend\":true,\"textposition\":\"auto\",\"x\":[\"stomach\",\"small bowel\",\"colon\",\"liver\",\"omentum\",\"background\"],\"xaxis\":\"x\",\"y\":{\"dtype\":\"i1\",\"bdata\":\"AgICAgIC\"},\"yaxis\":\"y\",\"type\":\"bar\"},{\"hovertemplate\":\"subject_name=SPACE_000026\\u003cbr\\u003especies_name=human\\u003cbr\\u003elabel_name=%{x}\\u003cbr\\u003en_images=%{y}\\u003cextra\\u003e\\u003c\\u002fextra\\u003e\",\"legendgroup\":\"SPACE_000026\",\"marker\":{\"color\":\"#DDCB76\",\"pattern\":{\"shape\":\"\"}},\"name\":\"SPACE_000026\",\"orientation\":\"v\",\"showlegend\":true,\"textposition\":\"auto\",\"x\":[\"kidney\"],\"xaxis\":\"x\",\"y\":{\"dtype\":\"i1\",\"bdata\":\"Cw==\"},\"yaxis\":\"y\",\"type\":\"bar\"},{\"hovertemplate\":\"subject_name=SPACE_000027\\u003cbr\\u003especies_name=human\\u003cbr\\u003elabel_name=%{x}\\u003cbr\\u003en_images=%{y}\\u003cextra\\u003e\\u003c\\u002fextra\\u003e\",\"legendgroup\":\"SPACE_000027\",\"marker\":{\"color\":\"#DDCB76\",\"pattern\":{\"shape\":\"\"}},\"name\":\"SPACE_000027\",\"orientation\":\"v\",\"showlegend\":true,\"textposition\":\"auto\",\"x\":[\"stomach\",\"small bowel\",\"colon\",\"liver\",\"omentum\",\"background\"],\"xaxis\":\"x\",\"y\":{\"dtype\":\"i1\",\"bdata\":\"AQICAgEC\"},\"yaxis\":\"y\",\"type\":\"bar\"},{\"hovertemplate\":\"subject_name=SPACE_000028\\u003cbr\\u003especies_name=human\\u003cbr\\u003elabel_name=%{x}\\u003cbr\\u003en_images=%{y}\\u003cextra\\u003e\\u003c\\u002fextra\\u003e\",\"legendgroup\":\"SPACE_000028\",\"marker\":{\"color\":\"#DDCB76\",\"pattern\":{\"shape\":\"\"}},\"name\":\"SPACE_000028\",\"orientation\":\"v\",\"showlegend\":true,\"textposition\":\"auto\",\"x\":[\"stomach\",\"small bowel\",\"liver\",\"pancreas\",\"omentum\",\"background\"],\"xaxis\":\"x\",\"y\":{\"dtype\":\"i1\",\"bdata\":\"AQMBAQID\"},\"yaxis\":\"y\",\"type\":\"bar\"},{\"hovertemplate\":\"subject_name=SPACE_000029\\u003cbr\\u003especies_name=human\\u003cbr\\u003elabel_name=%{x}\\u003cbr\\u003en_images=%{y}\\u003cextra\\u003e\\u003c\\u002fextra\\u003e\",\"legendgroup\":\"SPACE_000029\",\"marker\":{\"color\":\"#DDCB76\",\"pattern\":{\"shape\":\"\"}},\"name\":\"SPACE_000029\",\"orientation\":\"v\",\"showlegend\":true,\"textposition\":\"auto\",\"x\":[\"stomach\",\"small bowel\",\"colon\",\"liver\",\"omentum\",\"background\"],\"xaxis\":\"x\",\"y\":{\"dtype\":\"i1\",\"bdata\":\"AQICAgEC\"},\"yaxis\":\"y\",\"type\":\"bar\"},{\"hovertemplate\":\"subject_name=SPACE_000030\\u003cbr\\u003especies_name=human\\u003cbr\\u003elabel_name=%{x}\\u003cbr\\u003en_images=%{y}\\u003cextra\\u003e\\u003c\\u002fextra\\u003e\",\"legendgroup\":\"SPACE_000030\",\"marker\":{\"color\":\"#DDCB76\",\"pattern\":{\"shape\":\"\"}},\"name\":\"SPACE_000030\",\"orientation\":\"v\",\"showlegend\":true,\"textposition\":\"auto\",\"x\":[\"stomach\",\"small bowel\",\"colon\",\"liver\",\"omentum\",\"lung\",\"skin\",\"peritoneum\",\"background\"],\"xaxis\":\"x\",\"y\":{\"dtype\":\"i1\",\"bdata\":\"EAIJCw8FCQoQ\"},\"yaxis\":\"y\",\"type\":\"bar\"},{\"hovertemplate\":\"subject_name=SPACE_000031\\u003cbr\\u003especies_name=human\\u003cbr\\u003elabel_name=%{x}\\u003cbr\\u003en_images=%{y}\\u003cextra\\u003e\\u003c\\u002fextra\\u003e\",\"legendgroup\":\"SPACE_000031\",\"marker\":{\"color\":\"#DDCB76\",\"pattern\":{\"shape\":\"\"}},\"name\":\"SPACE_000031\",\"orientation\":\"v\",\"showlegend\":true,\"textposition\":\"auto\",\"x\":[\"stomach\",\"small bowel\",\"colon\",\"pancreas\",\"omentum\",\"background\"],\"xaxis\":\"x\",\"y\":{\"dtype\":\"i1\",\"bdata\":\"AQEBAQMD\"},\"yaxis\":\"y\",\"type\":\"bar\"},{\"hovertemplate\":\"subject_name=SPACE_000032\\u003cbr\\u003especies_name=human\\u003cbr\\u003elabel_name=%{x}\\u003cbr\\u003en_images=%{y}\\u003cextra\\u003e\\u003c\\u002fextra\\u003e\",\"legendgroup\":\"SPACE_000032\",\"marker\":{\"color\":\"#DDCB76\",\"pattern\":{\"shape\":\"\"}},\"name\":\"SPACE_000032\",\"orientation\":\"v\",\"showlegend\":true,\"textposition\":\"auto\",\"x\":[\"small bowel\",\"colon\",\"omentum\",\"background\"],\"xaxis\":\"x\",\"y\":{\"dtype\":\"i1\",\"bdata\":\"AgEBAg==\"},\"yaxis\":\"y\",\"type\":\"bar\"},{\"hovertemplate\":\"subject_name=SPACE_000033\\u003cbr\\u003especies_name=human\\u003cbr\\u003elabel_name=%{x}\\u003cbr\\u003en_images=%{y}\\u003cextra\\u003e\\u003c\\u002fextra\\u003e\",\"legendgroup\":\"SPACE_000033\",\"marker\":{\"color\":\"#DDCB76\",\"pattern\":{\"shape\":\"\"}},\"name\":\"SPACE_000033\",\"orientation\":\"v\",\"showlegend\":true,\"textposition\":\"auto\",\"x\":[\"stomach\",\"colon\",\"liver\",\"pancreas\",\"omentum\",\"background\"],\"xaxis\":\"x\",\"y\":{\"dtype\":\"i1\",\"bdata\":\"BgEEAgUG\"},\"yaxis\":\"y\",\"type\":\"bar\"},{\"hovertemplate\":\"subject_name=SPACE_000034\\u003cbr\\u003especies_name=human\\u003cbr\\u003elabel_name=%{x}\\u003cbr\\u003en_images=%{y}\\u003cextra\\u003e\\u003c\\u002fextra\\u003e\",\"legendgroup\":\"SPACE_000034\",\"marker\":{\"color\":\"#DDCB76\",\"pattern\":{\"shape\":\"\"}},\"name\":\"SPACE_000034\",\"orientation\":\"v\",\"showlegend\":true,\"textposition\":\"auto\",\"x\":[\"stomach\",\"small bowel\",\"colon\",\"liver\",\"omentum\",\"background\"],\"xaxis\":\"x\",\"y\":{\"dtype\":\"i1\",\"bdata\":\"BQMEAwUF\"},\"yaxis\":\"y\",\"type\":\"bar\"},{\"hovertemplate\":\"subject_name=SPACE_000035\\u003cbr\\u003especies_name=human\\u003cbr\\u003elabel_name=%{x}\\u003cbr\\u003en_images=%{y}\\u003cextra\\u003e\\u003c\\u002fextra\\u003e\",\"legendgroup\":\"SPACE_000035\",\"marker\":{\"color\":\"#DDCB76\",\"pattern\":{\"shape\":\"\"}},\"name\":\"SPACE_000035\",\"orientation\":\"v\",\"showlegend\":true,\"textposition\":\"auto\",\"x\":[\"stomach\",\"liver\",\"pancreas\",\"omentum\",\"background\"],\"xaxis\":\"x\",\"y\":{\"dtype\":\"i1\",\"bdata\":\"AQMCAQM=\"},\"yaxis\":\"y\",\"type\":\"bar\"},{\"hovertemplate\":\"subject_name=SPACE_000036\\u003cbr\\u003especies_name=human\\u003cbr\\u003elabel_name=%{x}\\u003cbr\\u003en_images=%{y}\\u003cextra\\u003e\\u003c\\u002fextra\\u003e\",\"legendgroup\":\"SPACE_000036\",\"marker\":{\"color\":\"#DDCB76\",\"pattern\":{\"shape\":\"\"}},\"name\":\"SPACE_000036\",\"orientation\":\"v\",\"showlegend\":true,\"textposition\":\"auto\",\"x\":[\"stomach\",\"liver\",\"omentum\",\"lung\",\"skin\",\"peritoneum\",\"background\"],\"xaxis\":\"x\",\"y\":{\"dtype\":\"i1\",\"bdata\":\"AQEBBgYBBw==\"},\"yaxis\":\"y\",\"type\":\"bar\"},{\"hovertemplate\":\"subject_name=SPACE_000038\\u003cbr\\u003especies_name=human\\u003cbr\\u003elabel_name=%{x}\\u003cbr\\u003en_images=%{y}\\u003cextra\\u003e\\u003c\\u002fextra\\u003e\",\"legendgroup\":\"SPACE_000038\",\"marker\":{\"color\":\"#DDCB76\",\"pattern\":{\"shape\":\"\"}},\"name\":\"SPACE_000038\",\"orientation\":\"v\",\"showlegend\":true,\"textposition\":\"auto\",\"x\":[\"stomach\",\"small bowel\",\"colon\",\"liver\",\"pancreas\",\"spleen\",\"omentum\",\"skin\",\"peritoneum\",\"background\"],\"xaxis\":\"x\",\"y\":{\"dtype\":\"i1\",\"bdata\":\"AQUCAQQDBQIECQ==\"},\"yaxis\":\"y\",\"type\":\"bar\"},{\"hovertemplate\":\"subject_name=SPACE_000039\\u003cbr\\u003especies_name=human\\u003cbr\\u003elabel_name=%{x}\\u003cbr\\u003en_images=%{y}\\u003cextra\\u003e\\u003c\\u002fextra\\u003e\",\"legendgroup\":\"SPACE_000039\",\"marker\":{\"color\":\"#DDCB76\",\"pattern\":{\"shape\":\"\"}},\"name\":\"SPACE_000039\",\"orientation\":\"v\",\"showlegend\":true,\"textposition\":\"auto\",\"x\":[\"stomach\",\"small bowel\",\"colon\",\"pancreas\",\"omentum\",\"background\"],\"xaxis\":\"x\",\"y\":{\"dtype\":\"i1\",\"bdata\":\"AgIBAQIC\"},\"yaxis\":\"y\",\"type\":\"bar\"},{\"hovertemplate\":\"subject_name=SPACE_000040\\u003cbr\\u003especies_name=human\\u003cbr\\u003elabel_name=%{x}\\u003cbr\\u003en_images=%{y}\\u003cextra\\u003e\\u003c\\u002fextra\\u003e\",\"legendgroup\":\"SPACE_000040\",\"marker\":{\"color\":\"#DDCB76\",\"pattern\":{\"shape\":\"\"}},\"name\":\"SPACE_000040\",\"orientation\":\"v\",\"showlegend\":true,\"textposition\":\"auto\",\"x\":[\"stomach\",\"small bowel\",\"colon\",\"liver\",\"omentum\",\"background\"],\"xaxis\":\"x\",\"y\":{\"dtype\":\"i1\",\"bdata\":\"AQICAgIC\"},\"yaxis\":\"y\",\"type\":\"bar\"},{\"hovertemplate\":\"subject_name=SPACE_000041\\u003cbr\\u003especies_name=human\\u003cbr\\u003elabel_name=%{x}\\u003cbr\\u003en_images=%{y}\\u003cextra\\u003e\\u003c\\u002fextra\\u003e\",\"legendgroup\":\"SPACE_000041\",\"marker\":{\"color\":\"#DDCB76\",\"pattern\":{\"shape\":\"\"}},\"name\":\"SPACE_000041\",\"orientation\":\"v\",\"showlegend\":true,\"textposition\":\"auto\",\"x\":[\"stomach\",\"small bowel\",\"colon\",\"liver\",\"omentum\",\"skin\",\"peritoneum\",\"background\"],\"xaxis\":\"x\",\"y\":{\"dtype\":\"i1\",\"bdata\":\"CgoICgoKCgo=\"},\"yaxis\":\"y\",\"type\":\"bar\"},{\"hovertemplate\":\"subject_name=SPACE_000042\\u003cbr\\u003especies_name=human\\u003cbr\\u003elabel_name=%{x}\\u003cbr\\u003en_images=%{y}\\u003cextra\\u003e\\u003c\\u002fextra\\u003e\",\"legendgroup\":\"SPACE_000042\",\"marker\":{\"color\":\"#DDCB76\",\"pattern\":{\"shape\":\"\"}},\"name\":\"SPACE_000042\",\"orientation\":\"v\",\"showlegend\":true,\"textposition\":\"auto\",\"x\":[\"skin\",\"background\"],\"xaxis\":\"x\",\"y\":{\"dtype\":\"i1\",\"bdata\":\"AgI=\"},\"yaxis\":\"y\",\"type\":\"bar\"},{\"hovertemplate\":\"subject_name=SPACE_000043\\u003cbr\\u003especies_name=human\\u003cbr\\u003elabel_name=%{x}\\u003cbr\\u003en_images=%{y}\\u003cextra\\u003e\\u003c\\u002fextra\\u003e\",\"legendgroup\":\"SPACE_000043\",\"marker\":{\"color\":\"#DDCB76\",\"pattern\":{\"shape\":\"\"}},\"name\":\"SPACE_000043\",\"orientation\":\"v\",\"showlegend\":true,\"textposition\":\"auto\",\"x\":[\"small bowel\",\"omentum\",\"background\"],\"xaxis\":\"x\",\"y\":{\"dtype\":\"i1\",\"bdata\":\"AgEC\"},\"yaxis\":\"y\",\"type\":\"bar\"},{\"hovertemplate\":\"subject_name=SPACE_000044\\u003cbr\\u003especies_name=human\\u003cbr\\u003elabel_name=%{x}\\u003cbr\\u003en_images=%{y}\\u003cextra\\u003e\\u003c\\u002fextra\\u003e\",\"legendgroup\":\"SPACE_000044\",\"marker\":{\"color\":\"#DDCB76\",\"pattern\":{\"shape\":\"\"}},\"name\":\"SPACE_000044\",\"orientation\":\"v\",\"showlegend\":true,\"textposition\":\"auto\",\"x\":[\"stomach\",\"small bowel\",\"colon\",\"liver\",\"spleen\",\"background\"],\"xaxis\":\"x\",\"y\":{\"dtype\":\"i1\",\"bdata\":\"AQICARQC\"},\"yaxis\":\"y\",\"type\":\"bar\"},{\"hovertemplate\":\"subject_name=SPACE_000045\\u003cbr\\u003especies_name=human\\u003cbr\\u003elabel_name=%{x}\\u003cbr\\u003en_images=%{y}\\u003cextra\\u003e\\u003c\\u002fextra\\u003e\",\"legendgroup\":\"SPACE_000045\",\"marker\":{\"color\":\"#DDCB76\",\"pattern\":{\"shape\":\"\"}},\"name\":\"SPACE_000045\",\"orientation\":\"v\",\"showlegend\":true,\"textposition\":\"auto\",\"x\":[\"stomach\",\"small bowel\",\"colon\",\"liver\",\"omentum\",\"background\"],\"xaxis\":\"x\",\"y\":{\"dtype\":\"i1\",\"bdata\":\"AgEBAQIC\"},\"yaxis\":\"y\",\"type\":\"bar\"},{\"hovertemplate\":\"subject_name=SPACE_000046\\u003cbr\\u003especies_name=human\\u003cbr\\u003elabel_name=%{x}\\u003cbr\\u003en_images=%{y}\\u003cextra\\u003e\\u003c\\u002fextra\\u003e\",\"legendgroup\":\"SPACE_000046\",\"marker\":{\"color\":\"#DDCB76\",\"pattern\":{\"shape\":\"\"}},\"name\":\"SPACE_000046\",\"orientation\":\"v\",\"showlegend\":true,\"textposition\":\"auto\",\"x\":[\"stomach\",\"small bowel\",\"liver\",\"omentum\",\"skin\",\"background\"],\"xaxis\":\"x\",\"y\":{\"dtype\":\"i1\",\"bdata\":\"AQEBAQIC\"},\"yaxis\":\"y\",\"type\":\"bar\"},{\"hovertemplate\":\"subject_name=SPACE_000047\\u003cbr\\u003especies_name=human\\u003cbr\\u003elabel_name=%{x}\\u003cbr\\u003en_images=%{y}\\u003cextra\\u003e\\u003c\\u002fextra\\u003e\",\"legendgroup\":\"SPACE_000047\",\"marker\":{\"color\":\"#DDCB76\",\"pattern\":{\"shape\":\"\"}},\"name\":\"SPACE_000047\",\"orientation\":\"v\",\"showlegend\":true,\"textposition\":\"auto\",\"x\":[\"small bowel\",\"colon\",\"omentum\",\"background\"],\"xaxis\":\"x\",\"y\":{\"dtype\":\"i1\",\"bdata\":\"AQIBAg==\"},\"yaxis\":\"y\",\"type\":\"bar\"},{\"hovertemplate\":\"subject_name=SPACE_000048\\u003cbr\\u003especies_name=human\\u003cbr\\u003elabel_name=%{x}\\u003cbr\\u003en_images=%{y}\\u003cextra\\u003e\\u003c\\u002fextra\\u003e\",\"legendgroup\":\"SPACE_000048\",\"marker\":{\"color\":\"#DDCB76\",\"pattern\":{\"shape\":\"\"}},\"name\":\"SPACE_000048\",\"orientation\":\"v\",\"showlegend\":true,\"textposition\":\"auto\",\"x\":[\"stomach\",\"small bowel\",\"colon\",\"liver\",\"spleen\",\"omentum\",\"skin\",\"background\"],\"xaxis\":\"x\",\"y\":{\"dtype\":\"i1\",\"bdata\":\"BgcFCwMJBAs=\"},\"yaxis\":\"y\",\"type\":\"bar\"},{\"hovertemplate\":\"subject_name=SPACE_000049\\u003cbr\\u003especies_name=human\\u003cbr\\u003elabel_name=%{x}\\u003cbr\\u003en_images=%{y}\\u003cextra\\u003e\\u003c\\u002fextra\\u003e\",\"legendgroup\":\"SPACE_000049\",\"marker\":{\"color\":\"#DDCB76\",\"pattern\":{\"shape\":\"\"}},\"name\":\"SPACE_000049\",\"orientation\":\"v\",\"showlegend\":true,\"textposition\":\"auto\",\"x\":[\"small bowel\",\"colon\",\"liver\",\"omentum\",\"background\"],\"xaxis\":\"x\",\"y\":{\"dtype\":\"i1\",\"bdata\":\"AgICAQI=\"},\"yaxis\":\"y\",\"type\":\"bar\"},{\"hovertemplate\":\"subject_name=SPACE_000050\\u003cbr\\u003especies_name=human\\u003cbr\\u003elabel_name=%{x}\\u003cbr\\u003en_images=%{y}\\u003cextra\\u003e\\u003c\\u002fextra\\u003e\",\"legendgroup\":\"SPACE_000050\",\"marker\":{\"color\":\"#DDCB76\",\"pattern\":{\"shape\":\"\"}},\"name\":\"SPACE_000050\",\"orientation\":\"v\",\"showlegend\":true,\"textposition\":\"auto\",\"x\":[\"kidney\",\"skin\",\"peritoneum\",\"background\"],\"xaxis\":\"x\",\"y\":{\"dtype\":\"i1\",\"bdata\":\"BwcHBw==\"},\"yaxis\":\"y\",\"type\":\"bar\"},{\"hovertemplate\":\"subject_name=SPACE_000051\\u003cbr\\u003especies_name=human\\u003cbr\\u003elabel_name=%{x}\\u003cbr\\u003en_images=%{y}\\u003cextra\\u003e\\u003c\\u002fextra\\u003e\",\"legendgroup\":\"SPACE_000051\",\"marker\":{\"color\":\"#DDCB76\",\"pattern\":{\"shape\":\"\"}},\"name\":\"SPACE_000051\",\"orientation\":\"v\",\"showlegend\":true,\"textposition\":\"auto\",\"x\":[\"stomach\",\"colon\",\"liver\",\"spleen\",\"omentum\",\"background\"],\"xaxis\":\"x\",\"y\":{\"dtype\":\"i1\",\"bdata\":\"AQICMQIC\"},\"yaxis\":\"y\",\"type\":\"bar\"},{\"hovertemplate\":\"subject_name=SPACE_000052\\u003cbr\\u003especies_name=human\\u003cbr\\u003elabel_name=%{x}\\u003cbr\\u003en_images=%{y}\\u003cextra\\u003e\\u003c\\u002fextra\\u003e\",\"legendgroup\":\"SPACE_000052\",\"marker\":{\"color\":\"#DDCB76\",\"pattern\":{\"shape\":\"\"}},\"name\":\"SPACE_000052\",\"orientation\":\"v\",\"showlegend\":true,\"textposition\":\"auto\",\"x\":[\"stomach\",\"small bowel\",\"colon\",\"liver\",\"omentum\",\"peritoneum\",\"background\"],\"xaxis\":\"x\",\"y\":{\"dtype\":\"i1\",\"bdata\":\"BAMEBAQDBQ==\"},\"yaxis\":\"y\",\"type\":\"bar\"},{\"hovertemplate\":\"subject_name=SPACE_000053\\u003cbr\\u003especies_name=human\\u003cbr\\u003elabel_name=%{x}\\u003cbr\\u003en_images=%{y}\\u003cextra\\u003e\\u003c\\u002fextra\\u003e\",\"legendgroup\":\"SPACE_000053\",\"marker\":{\"color\":\"#DDCB76\",\"pattern\":{\"shape\":\"\"}},\"name\":\"SPACE_000053\",\"orientation\":\"v\",\"showlegend\":true,\"textposition\":\"auto\",\"x\":[\"stomach\",\"small bowel\",\"colon\",\"liver\",\"omentum\",\"background\"],\"xaxis\":\"x\",\"y\":{\"dtype\":\"i1\",\"bdata\":\"AwQBAwQE\"},\"yaxis\":\"y\",\"type\":\"bar\"},{\"hovertemplate\":\"subject_name=SPACE_000056\\u003cbr\\u003especies_name=human\\u003cbr\\u003elabel_name=%{x}\\u003cbr\\u003en_images=%{y}\\u003cextra\\u003e\\u003c\\u002fextra\\u003e\",\"legendgroup\":\"SPACE_000056\",\"marker\":{\"color\":\"#DDCB76\",\"pattern\":{\"shape\":\"\"}},\"name\":\"SPACE_000056\",\"orientation\":\"v\",\"showlegend\":true,\"textposition\":\"auto\",\"x\":[\"stomach\",\"small bowel\",\"colon\",\"liver\",\"pancreas\",\"background\"],\"xaxis\":\"x\",\"y\":{\"dtype\":\"i1\",\"bdata\":\"AwEEAwME\"},\"yaxis\":\"y\",\"type\":\"bar\"},{\"hovertemplate\":\"subject_name=SPACE_000057\\u003cbr\\u003especies_name=human\\u003cbr\\u003elabel_name=%{x}\\u003cbr\\u003en_images=%{y}\\u003cextra\\u003e\\u003c\\u002fextra\\u003e\",\"legendgroup\":\"SPACE_000057\",\"marker\":{\"color\":\"#DDCB76\",\"pattern\":{\"shape\":\"\"}},\"name\":\"SPACE_000057\",\"orientation\":\"v\",\"showlegend\":true,\"textposition\":\"auto\",\"x\":[\"kidney\",\"skin\",\"background\"],\"xaxis\":\"x\",\"y\":{\"dtype\":\"i1\",\"bdata\":\"AgIC\"},\"yaxis\":\"y\",\"type\":\"bar\"},{\"hovertemplate\":\"subject_name=SPACE_000058\\u003cbr\\u003especies_name=human\\u003cbr\\u003elabel_name=%{x}\\u003cbr\\u003en_images=%{y}\\u003cextra\\u003e\\u003c\\u002fextra\\u003e\",\"legendgroup\":\"SPACE_000058\",\"marker\":{\"color\":\"#DDCB76\",\"pattern\":{\"shape\":\"\"}},\"name\":\"SPACE_000058\",\"orientation\":\"v\",\"showlegend\":true,\"textposition\":\"auto\",\"x\":[\"stomach\",\"small bowel\",\"liver\",\"pancreas\",\"spleen\",\"skin\",\"background\"],\"xaxis\":\"x\",\"y\":{\"dtype\":\"i1\",\"bdata\":\"AgQFAQICBQ==\"},\"yaxis\":\"y\",\"type\":\"bar\"},{\"hovertemplate\":\"subject_name=SPACE_000059\\u003cbr\\u003especies_name=human\\u003cbr\\u003elabel_name=%{x}\\u003cbr\\u003en_images=%{y}\\u003cextra\\u003e\\u003c\\u002fextra\\u003e\",\"legendgroup\":\"SPACE_000059\",\"marker\":{\"color\":\"#DDCB76\",\"pattern\":{\"shape\":\"\"}},\"name\":\"SPACE_000059\",\"orientation\":\"v\",\"showlegend\":true,\"textposition\":\"auto\",\"x\":[\"stomach\",\"liver\",\"pancreas\",\"omentum\",\"background\"],\"xaxis\":\"x\",\"y\":{\"dtype\":\"i1\",\"bdata\":\"AQEBAgI=\"},\"yaxis\":\"y\",\"type\":\"bar\"},{\"hovertemplate\":\"subject_name=SPACE_000060\\u003cbr\\u003especies_name=human\\u003cbr\\u003elabel_name=%{x}\\u003cbr\\u003en_images=%{y}\\u003cextra\\u003e\\u003c\\u002fextra\\u003e\",\"legendgroup\":\"SPACE_000060\",\"marker\":{\"color\":\"#DDCB76\",\"pattern\":{\"shape\":\"\"}},\"name\":\"SPACE_000060\",\"orientation\":\"v\",\"showlegend\":true,\"textposition\":\"auto\",\"x\":[\"stomach\",\"colon\",\"liver\",\"spleen\",\"background\"],\"xaxis\":\"x\",\"y\":{\"dtype\":\"i1\",\"bdata\":\"AQEBEgI=\"},\"yaxis\":\"y\",\"type\":\"bar\"},{\"hovertemplate\":\"subject_name=SPACE_000061\\u003cbr\\u003especies_name=human\\u003cbr\\u003elabel_name=%{x}\\u003cbr\\u003en_images=%{y}\\u003cextra\\u003e\\u003c\\u002fextra\\u003e\",\"legendgroup\":\"SPACE_000061\",\"marker\":{\"color\":\"#DDCB76\",\"pattern\":{\"shape\":\"\"}},\"name\":\"SPACE_000061\",\"orientation\":\"v\",\"showlegend\":true,\"textposition\":\"auto\",\"x\":[\"colon\",\"liver\",\"omentum\",\"skin\",\"background\"],\"xaxis\":\"x\",\"y\":{\"dtype\":\"i1\",\"bdata\":\"AQIBAgI=\"},\"yaxis\":\"y\",\"type\":\"bar\"},{\"hovertemplate\":\"subject_name=SPACE_000062\\u003cbr\\u003especies_name=human\\u003cbr\\u003elabel_name=%{x}\\u003cbr\\u003en_images=%{y}\\u003cextra\\u003e\\u003c\\u002fextra\\u003e\",\"legendgroup\":\"SPACE_000062\",\"marker\":{\"color\":\"#DDCB76\",\"pattern\":{\"shape\":\"\"}},\"name\":\"SPACE_000062\",\"orientation\":\"v\",\"showlegend\":true,\"textposition\":\"auto\",\"x\":[\"stomach\",\"small bowel\",\"colon\",\"liver\",\"pancreas\",\"omentum\",\"background\"],\"xaxis\":\"x\",\"y\":{\"dtype\":\"i1\",\"bdata\":\"BQUECQUICQ==\"},\"yaxis\":\"y\",\"type\":\"bar\"},{\"hovertemplate\":\"subject_name=SPACE_000063\\u003cbr\\u003especies_name=human\\u003cbr\\u003elabel_name=%{x}\\u003cbr\\u003en_images=%{y}\\u003cextra\\u003e\\u003c\\u002fextra\\u003e\",\"legendgroup\":\"SPACE_000063\",\"marker\":{\"color\":\"#DDCB76\",\"pattern\":{\"shape\":\"\"}},\"name\":\"SPACE_000063\",\"orientation\":\"v\",\"showlegend\":true,\"textposition\":\"auto\",\"x\":[\"stomach\",\"small bowel\",\"colon\",\"liver\",\"omentum\",\"peritoneum\",\"background\"],\"xaxis\":\"x\",\"y\":{\"dtype\":\"i1\",\"bdata\":\"BgMFCAcDCA==\"},\"yaxis\":\"y\",\"type\":\"bar\"},{\"hovertemplate\":\"subject_name=SPACE_000064\\u003cbr\\u003especies_name=human\\u003cbr\\u003elabel_name=%{x}\\u003cbr\\u003en_images=%{y}\\u003cextra\\u003e\\u003c\\u002fextra\\u003e\",\"legendgroup\":\"SPACE_000064\",\"marker\":{\"color\":\"#DDCB76\",\"pattern\":{\"shape\":\"\"}},\"name\":\"SPACE_000064\",\"orientation\":\"v\",\"showlegend\":true,\"textposition\":\"auto\",\"x\":[\"stomach\",\"small bowel\",\"colon\",\"liver\",\"omentum\",\"background\"],\"xaxis\":\"x\",\"y\":{\"dtype\":\"i1\",\"bdata\":\"AQICAQIC\"},\"yaxis\":\"y\",\"type\":\"bar\"},{\"hovertemplate\":\"subject_name=SPACE_000065\\u003cbr\\u003especies_name=human\\u003cbr\\u003elabel_name=%{x}\\u003cbr\\u003en_images=%{y}\\u003cextra\\u003e\\u003c\\u002fextra\\u003e\",\"legendgroup\":\"SPACE_000065\",\"marker\":{\"color\":\"#DDCB76\",\"pattern\":{\"shape\":\"\"}},\"name\":\"SPACE_000065\",\"orientation\":\"v\",\"showlegend\":true,\"textposition\":\"auto\",\"x\":[\"stomach\",\"small bowel\",\"colon\",\"liver\",\"omentum\",\"skin\",\"peritoneum\",\"background\"],\"xaxis\":\"x\",\"y\":{\"dtype\":\"i1\",\"bdata\":\"BwMDCAgBCAg=\"},\"yaxis\":\"y\",\"type\":\"bar\"},{\"hovertemplate\":\"subject_name=SPACE_000066\\u003cbr\\u003especies_name=human\\u003cbr\\u003elabel_name=%{x}\\u003cbr\\u003en_images=%{y}\\u003cextra\\u003e\\u003c\\u002fextra\\u003e\",\"legendgroup\":\"SPACE_000066\",\"marker\":{\"color\":\"#DDCB76\",\"pattern\":{\"shape\":\"\"}},\"name\":\"SPACE_000066\",\"orientation\":\"v\",\"showlegend\":true,\"textposition\":\"auto\",\"x\":[\"stomach\",\"small bowel\",\"colon\",\"liver\",\"omentum\",\"skin\",\"background\"],\"xaxis\":\"x\",\"y\":{\"dtype\":\"i1\",\"bdata\":\"AwMDBAEBBA==\"},\"yaxis\":\"y\",\"type\":\"bar\"},{\"hovertemplate\":\"subject_name=SPACE_000067\\u003cbr\\u003especies_name=human\\u003cbr\\u003elabel_name=%{x}\\u003cbr\\u003en_images=%{y}\\u003cextra\\u003e\\u003c\\u002fextra\\u003e\",\"legendgroup\":\"SPACE_000067\",\"marker\":{\"color\":\"#DDCB76\",\"pattern\":{\"shape\":\"\"}},\"name\":\"SPACE_000067\",\"orientation\":\"v\",\"showlegend\":true,\"textposition\":\"auto\",\"x\":[\"stomach\",\"small bowel\",\"colon\",\"liver\",\"spleen\",\"omentum\",\"background\"],\"xaxis\":\"x\",\"y\":{\"dtype\":\"i1\",\"bdata\":\"AgEBAiIBAg==\"},\"yaxis\":\"y\",\"type\":\"bar\"},{\"hovertemplate\":\"subject_name=SPACE_000068\\u003cbr\\u003especies_name=human\\u003cbr\\u003elabel_name=%{x}\\u003cbr\\u003en_images=%{y}\\u003cextra\\u003e\\u003c\\u002fextra\\u003e\",\"legendgroup\":\"SPACE_000068\",\"marker\":{\"color\":\"#DDCB76\",\"pattern\":{\"shape\":\"\"}},\"name\":\"SPACE_000068\",\"orientation\":\"v\",\"showlegend\":true,\"textposition\":\"auto\",\"x\":[\"stomach\",\"small bowel\",\"liver\",\"pancreas\",\"spleen\",\"omentum\",\"background\"],\"xaxis\":\"x\",\"y\":{\"dtype\":\"i1\",\"bdata\":\"AgIBARMCAg==\"},\"yaxis\":\"y\",\"type\":\"bar\"},{\"hovertemplate\":\"subject_name=SPACE_000069\\u003cbr\\u003especies_name=human\\u003cbr\\u003elabel_name=%{x}\\u003cbr\\u003en_images=%{y}\\u003cextra\\u003e\\u003c\\u002fextra\\u003e\",\"legendgroup\":\"SPACE_000069\",\"marker\":{\"color\":\"#DDCB76\",\"pattern\":{\"shape\":\"\"}},\"name\":\"SPACE_000069\",\"orientation\":\"v\",\"showlegend\":true,\"textposition\":\"auto\",\"x\":[\"stomach\",\"small bowel\",\"liver\",\"omentum\",\"background\"],\"xaxis\":\"x\",\"y\":{\"dtype\":\"i1\",\"bdata\":\"AQIBAgI=\"},\"yaxis\":\"y\",\"type\":\"bar\"},{\"hovertemplate\":\"subject_name=SPACE_000070\\u003cbr\\u003especies_name=human\\u003cbr\\u003elabel_name=%{x}\\u003cbr\\u003en_images=%{y}\\u003cextra\\u003e\\u003c\\u002fextra\\u003e\",\"legendgroup\":\"SPACE_000070\",\"marker\":{\"color\":\"#DDCB76\",\"pattern\":{\"shape\":\"\"}},\"name\":\"SPACE_000070\",\"orientation\":\"v\",\"showlegend\":true,\"textposition\":\"auto\",\"x\":[\"stomach\",\"small bowel\",\"colon\",\"liver\",\"pancreas\",\"omentum\",\"background\"],\"xaxis\":\"x\",\"y\":{\"dtype\":\"i1\",\"bdata\":\"AgECAgEEBA==\"},\"yaxis\":\"y\",\"type\":\"bar\"},{\"hovertemplate\":\"subject_name=SPACE_000071\\u003cbr\\u003especies_name=human\\u003cbr\\u003elabel_name=%{x}\\u003cbr\\u003en_images=%{y}\\u003cextra\\u003e\\u003c\\u002fextra\\u003e\",\"legendgroup\":\"SPACE_000071\",\"marker\":{\"color\":\"#DDCB76\",\"pattern\":{\"shape\":\"\"}},\"name\":\"SPACE_000071\",\"orientation\":\"v\",\"showlegend\":true,\"textposition\":\"auto\",\"x\":[\"stomach\",\"colon\",\"liver\",\"omentum\",\"skin\",\"background\"],\"xaxis\":\"x\",\"y\":{\"dtype\":\"i1\",\"bdata\":\"AQIDAQID\"},\"yaxis\":\"y\",\"type\":\"bar\"},{\"hovertemplate\":\"subject_name=SPACE_000072\\u003cbr\\u003especies_name=human\\u003cbr\\u003elabel_name=%{x}\\u003cbr\\u003en_images=%{y}\\u003cextra\\u003e\\u003c\\u002fextra\\u003e\",\"legendgroup\":\"SPACE_000072\",\"marker\":{\"color\":\"#DDCB76\",\"pattern\":{\"shape\":\"\"}},\"name\":\"SPACE_000072\",\"orientation\":\"v\",\"showlegend\":true,\"textposition\":\"auto\",\"x\":[\"stomach\",\"small bowel\",\"colon\",\"liver\",\"pancreas\",\"spleen\",\"omentum\",\"skin\",\"peritoneum\",\"background\"],\"xaxis\":\"x\",\"y\":{\"dtype\":\"i1\",\"bdata\":\"CAwJEQUDEQICEQ==\"},\"yaxis\":\"y\",\"type\":\"bar\"},{\"hovertemplate\":\"subject_name=SPACE_000073\\u003cbr\\u003especies_name=human\\u003cbr\\u003elabel_name=%{x}\\u003cbr\\u003en_images=%{y}\\u003cextra\\u003e\\u003c\\u002fextra\\u003e\",\"legendgroup\":\"SPACE_000073\",\"marker\":{\"color\":\"#DDCB76\",\"pattern\":{\"shape\":\"\"}},\"name\":\"SPACE_000073\",\"orientation\":\"v\",\"showlegend\":true,\"textposition\":\"auto\",\"x\":[\"stomach\",\"small bowel\",\"colon\",\"liver\",\"omentum\",\"background\"],\"xaxis\":\"x\",\"y\":{\"dtype\":\"i1\",\"bdata\":\"AQMDBAUF\"},\"yaxis\":\"y\",\"type\":\"bar\"},{\"hovertemplate\":\"subject_name=SPACE_000074\\u003cbr\\u003especies_name=human\\u003cbr\\u003elabel_name=%{x}\\u003cbr\\u003en_images=%{y}\\u003cextra\\u003e\\u003c\\u002fextra\\u003e\",\"legendgroup\":\"SPACE_000074\",\"marker\":{\"color\":\"#DDCB76\",\"pattern\":{\"shape\":\"\"}},\"name\":\"SPACE_000074\",\"orientation\":\"v\",\"showlegend\":true,\"textposition\":\"auto\",\"x\":[\"stomach\",\"small bowel\",\"colon\",\"liver\",\"pancreas\",\"omentum\",\"background\"],\"xaxis\":\"x\",\"y\":{\"dtype\":\"i1\",\"bdata\":\"BwQGBwMHBw==\"},\"yaxis\":\"y\",\"type\":\"bar\"},{\"hovertemplate\":\"subject_name=SPACE_000075\\u003cbr\\u003especies_name=human\\u003cbr\\u003elabel_name=%{x}\\u003cbr\\u003en_images=%{y}\\u003cextra\\u003e\\u003c\\u002fextra\\u003e\",\"legendgroup\":\"SPACE_000075\",\"marker\":{\"color\":\"#DDCB76\",\"pattern\":{\"shape\":\"\"}},\"name\":\"SPACE_000075\",\"orientation\":\"v\",\"showlegend\":true,\"textposition\":\"auto\",\"x\":[\"stomach\",\"small bowel\",\"colon\",\"liver\",\"spleen\",\"omentum\",\"lung\",\"skin\",\"peritoneum\",\"background\"],\"xaxis\":\"x\",\"y\":{\"dtype\":\"i1\",\"bdata\":\"AwMBAwIDBggCCQ==\"},\"yaxis\":\"y\",\"type\":\"bar\"},{\"hovertemplate\":\"subject_name=SPACE_000076\\u003cbr\\u003especies_name=human\\u003cbr\\u003elabel_name=%{x}\\u003cbr\\u003en_images=%{y}\\u003cextra\\u003e\\u003c\\u002fextra\\u003e\",\"legendgroup\":\"SPACE_000076\",\"marker\":{\"color\":\"#DDCB76\",\"pattern\":{\"shape\":\"\"}},\"name\":\"SPACE_000076\",\"orientation\":\"v\",\"showlegend\":true,\"textposition\":\"auto\",\"x\":[\"stomach\",\"small bowel\",\"colon\",\"liver\",\"omentum\",\"lung\",\"skin\",\"background\"],\"xaxis\":\"x\",\"y\":{\"dtype\":\"i1\",\"bdata\":\"AQEBAQEGBgc=\"},\"yaxis\":\"y\",\"type\":\"bar\"},{\"hovertemplate\":\"subject_name=SPACE_000077\\u003cbr\\u003especies_name=human\\u003cbr\\u003elabel_name=%{x}\\u003cbr\\u003en_images=%{y}\\u003cextra\\u003e\\u003c\\u002fextra\\u003e\",\"legendgroup\":\"SPACE_000077\",\"marker\":{\"color\":\"#DDCB76\",\"pattern\":{\"shape\":\"\"}},\"name\":\"SPACE_000077\",\"orientation\":\"v\",\"showlegend\":true,\"textposition\":\"auto\",\"x\":[\"small bowel\",\"colon\",\"liver\",\"background\"],\"xaxis\":\"x\",\"y\":{\"dtype\":\"i1\",\"bdata\":\"AgEBAg==\"},\"yaxis\":\"y\",\"type\":\"bar\"},{\"hovertemplate\":\"subject_name=SPACE_000078\\u003cbr\\u003especies_name=human\\u003cbr\\u003elabel_name=%{x}\\u003cbr\\u003en_images=%{y}\\u003cextra\\u003e\\u003c\\u002fextra\\u003e\",\"legendgroup\":\"SPACE_000078\",\"marker\":{\"color\":\"#DDCB76\",\"pattern\":{\"shape\":\"\"}},\"name\":\"SPACE_000078\",\"orientation\":\"v\",\"showlegend\":true,\"textposition\":\"auto\",\"x\":[\"small bowel\",\"colon\",\"liver\",\"spleen\",\"background\"],\"xaxis\":\"x\",\"y\":{\"dtype\":\"i1\",\"bdata\":\"AhUCDAI=\"},\"yaxis\":\"y\",\"type\":\"bar\"},{\"hovertemplate\":\"subject_name=SPACE_000080\\u003cbr\\u003especies_name=human\\u003cbr\\u003elabel_name=%{x}\\u003cbr\\u003en_images=%{y}\\u003cextra\\u003e\\u003c\\u002fextra\\u003e\",\"legendgroup\":\"SPACE_000080\",\"marker\":{\"color\":\"#DDCB76\",\"pattern\":{\"shape\":\"\"}},\"name\":\"SPACE_000080\",\"orientation\":\"v\",\"showlegend\":true,\"textposition\":\"auto\",\"x\":[\"small bowel\",\"colon\",\"liver\",\"omentum\",\"background\"],\"xaxis\":\"x\",\"y\":{\"dtype\":\"i1\",\"bdata\":\"AQEBAgM=\"},\"yaxis\":\"y\",\"type\":\"bar\"},{\"hovertemplate\":\"subject_name=SPACE_000081\\u003cbr\\u003especies_name=human\\u003cbr\\u003elabel_name=%{x}\\u003cbr\\u003en_images=%{y}\\u003cextra\\u003e\\u003c\\u002fextra\\u003e\",\"legendgroup\":\"SPACE_000081\",\"marker\":{\"color\":\"#DDCB76\",\"pattern\":{\"shape\":\"\"}},\"name\":\"SPACE_000081\",\"orientation\":\"v\",\"showlegend\":true,\"textposition\":\"auto\",\"x\":[\"stomach\",\"small bowel\",\"colon\",\"liver\",\"background\"],\"xaxis\":\"x\",\"y\":{\"dtype\":\"i1\",\"bdata\":\"AQECAQI=\"},\"yaxis\":\"y\",\"type\":\"bar\"},{\"hovertemplate\":\"subject_name=SPACE_000083\\u003cbr\\u003especies_name=human\\u003cbr\\u003elabel_name=%{x}\\u003cbr\\u003en_images=%{y}\\u003cextra\\u003e\\u003c\\u002fextra\\u003e\",\"legendgroup\":\"SPACE_000083\",\"marker\":{\"color\":\"#DDCB76\",\"pattern\":{\"shape\":\"\"}},\"name\":\"SPACE_000083\",\"orientation\":\"v\",\"showlegend\":true,\"textposition\":\"auto\",\"x\":[\"stomach\",\"liver\",\"omentum\",\"peritoneum\",\"background\"],\"xaxis\":\"x\",\"y\":{\"dtype\":\"i1\",\"bdata\":\"BAUFAgU=\"},\"yaxis\":\"y\",\"type\":\"bar\"},{\"hovertemplate\":\"subject_name=SPACE_000084\\u003cbr\\u003especies_name=human\\u003cbr\\u003elabel_name=%{x}\\u003cbr\\u003en_images=%{y}\\u003cextra\\u003e\\u003c\\u002fextra\\u003e\",\"legendgroup\":\"SPACE_000084\",\"marker\":{\"color\":\"#DDCB76\",\"pattern\":{\"shape\":\"\"}},\"name\":\"SPACE_000084\",\"orientation\":\"v\",\"showlegend\":true,\"textposition\":\"auto\",\"x\":[\"stomach\",\"liver\",\"omentum\",\"background\"],\"xaxis\":\"x\",\"y\":{\"dtype\":\"i1\",\"bdata\":\"AQgBCA==\"},\"yaxis\":\"y\",\"type\":\"bar\"},{\"hovertemplate\":\"subject_name=SPACE_000085\\u003cbr\\u003especies_name=human\\u003cbr\\u003elabel_name=%{x}\\u003cbr\\u003en_images=%{y}\\u003cextra\\u003e\\u003c\\u002fextra\\u003e\",\"legendgroup\":\"SPACE_000085\",\"marker\":{\"color\":\"#DDCB76\",\"pattern\":{\"shape\":\"\"}},\"name\":\"SPACE_000085\",\"orientation\":\"v\",\"showlegend\":true,\"textposition\":\"auto\",\"x\":[\"stomach\",\"small bowel\",\"colon\",\"liver\",\"omentum\",\"skin\",\"peritoneum\",\"background\"],\"xaxis\":\"x\",\"y\":{\"dtype\":\"i1\",\"bdata\":\"BgEGCAkJAwk=\"},\"yaxis\":\"y\",\"type\":\"bar\"},{\"hovertemplate\":\"subject_name=SPACE_000086\\u003cbr\\u003especies_name=human\\u003cbr\\u003elabel_name=%{x}\\u003cbr\\u003en_images=%{y}\\u003cextra\\u003e\\u003c\\u002fextra\\u003e\",\"legendgroup\":\"SPACE_000086\",\"marker\":{\"color\":\"#DDCB76\",\"pattern\":{\"shape\":\"\"}},\"name\":\"SPACE_000086\",\"orientation\":\"v\",\"showlegend\":true,\"textposition\":\"auto\",\"x\":[\"stomach\",\"small bowel\",\"colon\",\"liver\",\"pancreas\",\"spleen\",\"omentum\",\"background\"],\"xaxis\":\"x\",\"y\":{\"dtype\":\"i1\",\"bdata\":\"Dg4NEAcfEBA=\"},\"yaxis\":\"y\",\"type\":\"bar\"},{\"hovertemplate\":\"subject_name=SPACE_000087\\u003cbr\\u003especies_name=human\\u003cbr\\u003elabel_name=%{x}\\u003cbr\\u003en_images=%{y}\\u003cextra\\u003e\\u003c\\u002fextra\\u003e\",\"legendgroup\":\"SPACE_000087\",\"marker\":{\"color\":\"#DDCB76\",\"pattern\":{\"shape\":\"\"}},\"name\":\"SPACE_000087\",\"orientation\":\"v\",\"showlegend\":true,\"textposition\":\"auto\",\"x\":[\"stomach\",\"small bowel\",\"colon\",\"liver\",\"omentum\",\"skin\",\"peritoneum\",\"background\"],\"xaxis\":\"x\",\"y\":{\"dtype\":\"i1\",\"bdata\":\"AQMBHgUEBgg=\"},\"yaxis\":\"y\",\"type\":\"bar\"},{\"hovertemplate\":\"subject_name=SPACE_000088\\u003cbr\\u003especies_name=human\\u003cbr\\u003elabel_name=%{x}\\u003cbr\\u003en_images=%{y}\\u003cextra\\u003e\\u003c\\u002fextra\\u003e\",\"legendgroup\":\"SPACE_000088\",\"marker\":{\"color\":\"#DDCB76\",\"pattern\":{\"shape\":\"\"}},\"name\":\"SPACE_000088\",\"orientation\":\"v\",\"showlegend\":true,\"textposition\":\"auto\",\"x\":[\"small bowel\",\"omentum\",\"skin\",\"background\"],\"xaxis\":\"x\",\"y\":{\"dtype\":\"i1\",\"bdata\":\"AgECAg==\"},\"yaxis\":\"y\",\"type\":\"bar\"},{\"hovertemplate\":\"subject_name=SPACE_000089\\u003cbr\\u003especies_name=human\\u003cbr\\u003elabel_name=%{x}\\u003cbr\\u003en_images=%{y}\\u003cextra\\u003e\\u003c\\u002fextra\\u003e\",\"legendgroup\":\"SPACE_000089\",\"marker\":{\"color\":\"#DDCB76\",\"pattern\":{\"shape\":\"\"}},\"name\":\"SPACE_000089\",\"orientation\":\"v\",\"showlegend\":true,\"textposition\":\"auto\",\"x\":[\"kidney\"],\"xaxis\":\"x\",\"y\":{\"dtype\":\"i1\",\"bdata\":\"Ag==\"},\"yaxis\":\"y\",\"type\":\"bar\"},{\"hovertemplate\":\"subject_name=SPACE_000090\\u003cbr\\u003especies_name=human\\u003cbr\\u003elabel_name=%{x}\\u003cbr\\u003en_images=%{y}\\u003cextra\\u003e\\u003c\\u002fextra\\u003e\",\"legendgroup\":\"SPACE_000090\",\"marker\":{\"color\":\"#DDCB76\",\"pattern\":{\"shape\":\"\"}},\"name\":\"SPACE_000090\",\"orientation\":\"v\",\"showlegend\":true,\"textposition\":\"auto\",\"x\":[\"kidney\",\"skin\",\"peritoneum\",\"background\"],\"xaxis\":\"x\",\"y\":{\"dtype\":\"i1\",\"bdata\":\"AgIBAg==\"},\"yaxis\":\"y\",\"type\":\"bar\"},{\"hovertemplate\":\"subject_name=SPACE_000091\\u003cbr\\u003especies_name=human\\u003cbr\\u003elabel_name=%{x}\\u003cbr\\u003en_images=%{y}\\u003cextra\\u003e\\u003c\\u002fextra\\u003e\",\"legendgroup\":\"SPACE_000091\",\"marker\":{\"color\":\"#DDCB76\",\"pattern\":{\"shape\":\"\"}},\"name\":\"SPACE_000091\",\"orientation\":\"v\",\"showlegend\":true,\"textposition\":\"auto\",\"x\":[\"stomach\",\"small bowel\",\"colon\",\"liver\",\"spleen\",\"omentum\",\"skin\",\"background\"],\"xaxis\":\"x\",\"y\":{\"dtype\":\"i1\",\"bdata\":\"CwYICg0LAws=\"},\"yaxis\":\"y\",\"type\":\"bar\"},{\"hovertemplate\":\"subject_name=SPACE_000092\\u003cbr\\u003especies_name=human\\u003cbr\\u003elabel_name=%{x}\\u003cbr\\u003en_images=%{y}\\u003cextra\\u003e\\u003c\\u002fextra\\u003e\",\"legendgroup\":\"SPACE_000092\",\"marker\":{\"color\":\"#DDCB76\",\"pattern\":{\"shape\":\"\"}},\"name\":\"SPACE_000092\",\"orientation\":\"v\",\"showlegend\":true,\"textposition\":\"auto\",\"x\":[\"stomach\",\"small bowel\",\"colon\",\"liver\",\"omentum\",\"background\"],\"xaxis\":\"x\",\"y\":{\"dtype\":\"i1\",\"bdata\":\"AQEBAgIC\"},\"yaxis\":\"y\",\"type\":\"bar\"},{\"hovertemplate\":\"subject_name=SPACE_000093\\u003cbr\\u003especies_name=human\\u003cbr\\u003elabel_name=%{x}\\u003cbr\\u003en_images=%{y}\\u003cextra\\u003e\\u003c\\u002fextra\\u003e\",\"legendgroup\":\"SPACE_000093\",\"marker\":{\"color\":\"#DDCB76\",\"pattern\":{\"shape\":\"\"}},\"name\":\"SPACE_000093\",\"orientation\":\"v\",\"showlegend\":true,\"textposition\":\"auto\",\"x\":[\"small bowel\",\"colon\",\"omentum\",\"background\"],\"xaxis\":\"x\",\"y\":{\"dtype\":\"i1\",\"bdata\":\"AQICAg==\"},\"yaxis\":\"y\",\"type\":\"bar\"},{\"hovertemplate\":\"subject_name=SPACE_000094\\u003cbr\\u003especies_name=human\\u003cbr\\u003elabel_name=%{x}\\u003cbr\\u003en_images=%{y}\\u003cextra\\u003e\\u003c\\u002fextra\\u003e\",\"legendgroup\":\"SPACE_000094\",\"marker\":{\"color\":\"#DDCB76\",\"pattern\":{\"shape\":\"\"}},\"name\":\"SPACE_000094\",\"orientation\":\"v\",\"showlegend\":true,\"textposition\":\"auto\",\"x\":[\"small bowel\",\"colon\",\"pancreas\",\"omentum\",\"background\"],\"xaxis\":\"x\",\"y\":{\"dtype\":\"i1\",\"bdata\":\"AQEBAQI=\"},\"yaxis\":\"y\",\"type\":\"bar\"},{\"hovertemplate\":\"subject_name=SPACE_000095\\u003cbr\\u003especies_name=human\\u003cbr\\u003elabel_name=%{x}\\u003cbr\\u003en_images=%{y}\\u003cextra\\u003e\\u003c\\u002fextra\\u003e\",\"legendgroup\":\"SPACE_000095\",\"marker\":{\"color\":\"#DDCB76\",\"pattern\":{\"shape\":\"\"}},\"name\":\"SPACE_000095\",\"orientation\":\"v\",\"showlegend\":true,\"textposition\":\"auto\",\"x\":[\"kidney\",\"skin\",\"peritoneum\",\"background\"],\"xaxis\":\"x\",\"y\":{\"dtype\":\"i1\",\"bdata\":\"BQUFBQ==\"},\"yaxis\":\"y\",\"type\":\"bar\"},{\"hovertemplate\":\"subject_name=SPACE_000096\\u003cbr\\u003especies_name=human\\u003cbr\\u003elabel_name=%{x}\\u003cbr\\u003en_images=%{y}\\u003cextra\\u003e\\u003c\\u002fextra\\u003e\",\"legendgroup\":\"SPACE_000096\",\"marker\":{\"color\":\"#DDCB76\",\"pattern\":{\"shape\":\"\"}},\"name\":\"SPACE_000096\",\"orientation\":\"v\",\"showlegend\":true,\"textposition\":\"auto\",\"x\":[\"stomach\",\"small bowel\",\"colon\",\"liver\",\"omentum\",\"background\"],\"xaxis\":\"x\",\"y\":{\"dtype\":\"i1\",\"bdata\":\"AgIBAQIC\"},\"yaxis\":\"y\",\"type\":\"bar\"},{\"hovertemplate\":\"subject_name=SPACE_000097\\u003cbr\\u003especies_name=human\\u003cbr\\u003elabel_name=%{x}\\u003cbr\\u003en_images=%{y}\\u003cextra\\u003e\\u003c\\u002fextra\\u003e\",\"legendgroup\":\"SPACE_000097\",\"marker\":{\"color\":\"#DDCB76\",\"pattern\":{\"shape\":\"\"}},\"name\":\"SPACE_000097\",\"orientation\":\"v\",\"showlegend\":true,\"textposition\":\"auto\",\"x\":[\"small bowel\",\"colon\",\"liver\",\"lung\",\"skin\",\"background\"],\"xaxis\":\"x\",\"y\":{\"dtype\":\"i1\",\"bdata\":\"AQEDCQoL\"},\"yaxis\":\"y\",\"type\":\"bar\"},{\"hovertemplate\":\"subject_name=SPACE_000098\\u003cbr\\u003especies_name=human\\u003cbr\\u003elabel_name=%{x}\\u003cbr\\u003en_images=%{y}\\u003cextra\\u003e\\u003c\\u002fextra\\u003e\",\"legendgroup\":\"SPACE_000098\",\"marker\":{\"color\":\"#DDCB76\",\"pattern\":{\"shape\":\"\"}},\"name\":\"SPACE_000098\",\"orientation\":\"v\",\"showlegend\":true,\"textposition\":\"auto\",\"x\":[\"stomach\",\"small bowel\",\"liver\",\"spleen\",\"omentum\",\"background\"],\"xaxis\":\"x\",\"y\":{\"dtype\":\"i1\",\"bdata\":\"AQECDQEC\"},\"yaxis\":\"y\",\"type\":\"bar\"},{\"hovertemplate\":\"subject_name=SPACE_000099\\u003cbr\\u003especies_name=human\\u003cbr\\u003elabel_name=%{x}\\u003cbr\\u003en_images=%{y}\\u003cextra\\u003e\\u003c\\u002fextra\\u003e\",\"legendgroup\":\"SPACE_000099\",\"marker\":{\"color\":\"#DDCB76\",\"pattern\":{\"shape\":\"\"}},\"name\":\"SPACE_000099\",\"orientation\":\"v\",\"showlegend\":true,\"textposition\":\"auto\",\"x\":[\"small bowel\",\"colon\",\"liver\",\"spleen\",\"omentum\",\"background\"],\"xaxis\":\"x\",\"y\":{\"dtype\":\"i1\",\"bdata\":\"AgICDgEC\"},\"yaxis\":\"y\",\"type\":\"bar\"},{\"hovertemplate\":\"subject_name=SPACE_000100\\u003cbr\\u003especies_name=human\\u003cbr\\u003elabel_name=%{x}\\u003cbr\\u003en_images=%{y}\\u003cextra\\u003e\\u003c\\u002fextra\\u003e\",\"legendgroup\":\"SPACE_000100\",\"marker\":{\"color\":\"#DDCB76\",\"pattern\":{\"shape\":\"\"}},\"name\":\"SPACE_000100\",\"orientation\":\"v\",\"showlegend\":true,\"textposition\":\"auto\",\"x\":[\"stomach\",\"small bowel\",\"colon\",\"liver\",\"omentum\",\"background\"],\"xaxis\":\"x\",\"y\":{\"dtype\":\"i1\",\"bdata\":\"BQIFCAgI\"},\"yaxis\":\"y\",\"type\":\"bar\"},{\"hovertemplate\":\"subject_name=SPACE_000101\\u003cbr\\u003especies_name=human\\u003cbr\\u003elabel_name=%{x}\\u003cbr\\u003en_images=%{y}\\u003cextra\\u003e\\u003c\\u002fextra\\u003e\",\"legendgroup\":\"SPACE_000101\",\"marker\":{\"color\":\"#DDCB76\",\"pattern\":{\"shape\":\"\"}},\"name\":\"SPACE_000101\",\"orientation\":\"v\",\"showlegend\":true,\"textposition\":\"auto\",\"x\":[\"small bowel\",\"colon\",\"liver\",\"background\"],\"xaxis\":\"x\",\"y\":{\"dtype\":\"i1\",\"bdata\":\"AgEBAg==\"},\"yaxis\":\"y\",\"type\":\"bar\"},{\"hovertemplate\":\"subject_name=SPACE_000102\\u003cbr\\u003especies_name=human\\u003cbr\\u003elabel_name=%{x}\\u003cbr\\u003en_images=%{y}\\u003cextra\\u003e\\u003c\\u002fextra\\u003e\",\"legendgroup\":\"SPACE_000102\",\"marker\":{\"color\":\"#DDCB76\",\"pattern\":{\"shape\":\"\"}},\"name\":\"SPACE_000102\",\"orientation\":\"v\",\"showlegend\":true,\"textposition\":\"auto\",\"x\":[\"kidney\",\"skin\",\"peritoneum\",\"background\"],\"xaxis\":\"x\",\"y\":{\"dtype\":\"i1\",\"bdata\":\"BAQEBA==\"},\"yaxis\":\"y\",\"type\":\"bar\"},{\"hovertemplate\":\"subject_name=SPACE_000103\\u003cbr\\u003especies_name=human\\u003cbr\\u003elabel_name=%{x}\\u003cbr\\u003en_images=%{y}\\u003cextra\\u003e\\u003c\\u002fextra\\u003e\",\"legendgroup\":\"SPACE_000103\",\"marker\":{\"color\":\"#DDCB76\",\"pattern\":{\"shape\":\"\"}},\"name\":\"SPACE_000103\",\"orientation\":\"v\",\"showlegend\":true,\"textposition\":\"auto\",\"x\":[\"stomach\",\"small bowel\",\"colon\",\"liver\",\"pancreas\",\"spleen\",\"omentum\",\"background\"],\"xaxis\":\"x\",\"y\":{\"dtype\":\"i1\",\"bdata\":\"AQMEBQQEBQU=\"},\"yaxis\":\"y\",\"type\":\"bar\"},{\"hovertemplate\":\"subject_name=SPACE_000104\\u003cbr\\u003especies_name=human\\u003cbr\\u003elabel_name=%{x}\\u003cbr\\u003en_images=%{y}\\u003cextra\\u003e\\u003c\\u002fextra\\u003e\",\"legendgroup\":\"SPACE_000104\",\"marker\":{\"color\":\"#DDCB76\",\"pattern\":{\"shape\":\"\"}},\"name\":\"SPACE_000104\",\"orientation\":\"v\",\"showlegend\":true,\"textposition\":\"auto\",\"x\":[\"small bowel\",\"colon\",\"omentum\",\"lung\",\"skin\",\"background\"],\"xaxis\":\"x\",\"y\":{\"dtype\":\"i1\",\"bdata\":\"AQEBCAgK\"},\"yaxis\":\"y\",\"type\":\"bar\"},{\"hovertemplate\":\"subject_name=SPACE_000105\\u003cbr\\u003especies_name=human\\u003cbr\\u003elabel_name=%{x}\\u003cbr\\u003en_images=%{y}\\u003cextra\\u003e\\u003c\\u002fextra\\u003e\",\"legendgroup\":\"SPACE_000105\",\"marker\":{\"color\":\"#DDCB76\",\"pattern\":{\"shape\":\"\"}},\"name\":\"SPACE_000105\",\"orientation\":\"v\",\"showlegend\":true,\"textposition\":\"auto\",\"x\":[\"kidney\",\"skin\",\"peritoneum\",\"background\"],\"xaxis\":\"x\",\"y\":{\"dtype\":\"i1\",\"bdata\":\"BQUDBQ==\"},\"yaxis\":\"y\",\"type\":\"bar\"},{\"hovertemplate\":\"subject_name=SPACE_000106\\u003cbr\\u003especies_name=human\\u003cbr\\u003elabel_name=%{x}\\u003cbr\\u003en_images=%{y}\\u003cextra\\u003e\\u003c\\u002fextra\\u003e\",\"legendgroup\":\"SPACE_000106\",\"marker\":{\"color\":\"#DDCB76\",\"pattern\":{\"shape\":\"\"}},\"name\":\"SPACE_000106\",\"orientation\":\"v\",\"showlegend\":true,\"textposition\":\"auto\",\"x\":[\"kidney\"],\"xaxis\":\"x\",\"y\":{\"dtype\":\"i1\",\"bdata\":\"DQ==\"},\"yaxis\":\"y\",\"type\":\"bar\"},{\"hovertemplate\":\"subject_name=SPACE_000107\\u003cbr\\u003especies_name=human\\u003cbr\\u003elabel_name=%{x}\\u003cbr\\u003en_images=%{y}\\u003cextra\\u003e\\u003c\\u002fextra\\u003e\",\"legendgroup\":\"SPACE_000107\",\"marker\":{\"color\":\"#DDCB76\",\"pattern\":{\"shape\":\"\"}},\"name\":\"SPACE_000107\",\"orientation\":\"v\",\"showlegend\":true,\"textposition\":\"auto\",\"x\":[\"small bowel\",\"liver\",\"omentum\",\"background\"],\"xaxis\":\"x\",\"y\":{\"dtype\":\"i1\",\"bdata\":\"AQIBAg==\"},\"yaxis\":\"y\",\"type\":\"bar\"},{\"hovertemplate\":\"subject_name=SPACE_000108\\u003cbr\\u003especies_name=human\\u003cbr\\u003elabel_name=%{x}\\u003cbr\\u003en_images=%{y}\\u003cextra\\u003e\\u003c\\u002fextra\\u003e\",\"legendgroup\":\"SPACE_000108\",\"marker\":{\"color\":\"#DDCB76\",\"pattern\":{\"shape\":\"\"}},\"name\":\"SPACE_000108\",\"orientation\":\"v\",\"showlegend\":true,\"textposition\":\"auto\",\"x\":[\"kidney\",\"skin\",\"background\"],\"xaxis\":\"x\",\"y\":{\"dtype\":\"i1\",\"bdata\":\"AgIC\"},\"yaxis\":\"y\",\"type\":\"bar\"},{\"hovertemplate\":\"subject_name=SPACE_000109\\u003cbr\\u003especies_name=human\\u003cbr\\u003elabel_name=%{x}\\u003cbr\\u003en_images=%{y}\\u003cextra\\u003e\\u003c\\u002fextra\\u003e\",\"legendgroup\":\"SPACE_000109\",\"marker\":{\"color\":\"#DDCB76\",\"pattern\":{\"shape\":\"\"}},\"name\":\"SPACE_000109\",\"orientation\":\"v\",\"showlegend\":true,\"textposition\":\"auto\",\"x\":[\"kidney\",\"skin\",\"background\"],\"xaxis\":\"x\",\"y\":{\"dtype\":\"i1\",\"bdata\":\"AQIC\"},\"yaxis\":\"y\",\"type\":\"bar\"},{\"hovertemplate\":\"subject_name=SPACE_000110\\u003cbr\\u003especies_name=human\\u003cbr\\u003elabel_name=%{x}\\u003cbr\\u003en_images=%{y}\\u003cextra\\u003e\\u003c\\u002fextra\\u003e\",\"legendgroup\":\"SPACE_000110\",\"marker\":{\"color\":\"#DDCB76\",\"pattern\":{\"shape\":\"\"}},\"name\":\"SPACE_000110\",\"orientation\":\"v\",\"showlegend\":true,\"textposition\":\"auto\",\"x\":[\"stomach\",\"small bowel\",\"colon\",\"liver\",\"omentum\",\"skin\",\"peritoneum\",\"background\"],\"xaxis\":\"x\",\"y\":{\"dtype\":\"i1\",\"bdata\":\"BAEEEwQCAgQ=\"},\"yaxis\":\"y\",\"type\":\"bar\"},{\"hovertemplate\":\"subject_name=SPACE_000111\\u003cbr\\u003especies_name=human\\u003cbr\\u003elabel_name=%{x}\\u003cbr\\u003en_images=%{y}\\u003cextra\\u003e\\u003c\\u002fextra\\u003e\",\"legendgroup\":\"SPACE_000111\",\"marker\":{\"color\":\"#DDCB76\",\"pattern\":{\"shape\":\"\"}},\"name\":\"SPACE_000111\",\"orientation\":\"v\",\"showlegend\":true,\"textposition\":\"auto\",\"x\":[\"stomach\",\"small bowel\",\"colon\",\"liver\",\"omentum\",\"skin\",\"peritoneum\",\"background\"],\"xaxis\":\"x\",\"y\":{\"dtype\":\"i1\",\"bdata\":\"BQcEBwgGBwg=\"},\"yaxis\":\"y\",\"type\":\"bar\"},{\"hovertemplate\":\"subject_name=SPACE_000112\\u003cbr\\u003especies_name=human\\u003cbr\\u003elabel_name=%{x}\\u003cbr\\u003en_images=%{y}\\u003cextra\\u003e\\u003c\\u002fextra\\u003e\",\"legendgroup\":\"SPACE_000112\",\"marker\":{\"color\":\"#DDCB76\",\"pattern\":{\"shape\":\"\"}},\"name\":\"SPACE_000112\",\"orientation\":\"v\",\"showlegend\":true,\"textposition\":\"auto\",\"x\":[\"kidney\",\"skin\",\"peritoneum\",\"background\"],\"xaxis\":\"x\",\"y\":{\"dtype\":\"i1\",\"bdata\":\"CwoGCw==\"},\"yaxis\":\"y\",\"type\":\"bar\"},{\"hovertemplate\":\"subject_name=SPACE_000113\\u003cbr\\u003especies_name=human\\u003cbr\\u003elabel_name=%{x}\\u003cbr\\u003en_images=%{y}\\u003cextra\\u003e\\u003c\\u002fextra\\u003e\",\"legendgroup\":\"SPACE_000113\",\"marker\":{\"color\":\"#DDCB76\",\"pattern\":{\"shape\":\"\"}},\"name\":\"SPACE_000113\",\"orientation\":\"v\",\"showlegend\":true,\"textposition\":\"auto\",\"x\":[\"kidney\",\"skin\",\"peritoneum\",\"background\"],\"xaxis\":\"x\",\"y\":{\"dtype\":\"i1\",\"bdata\":\"BAQEBA==\"},\"yaxis\":\"y\",\"type\":\"bar\"},{\"hovertemplate\":\"subject_name=SPACE_000115\\u003cbr\\u003especies_name=human\\u003cbr\\u003elabel_name=%{x}\\u003cbr\\u003en_images=%{y}\\u003cextra\\u003e\\u003c\\u002fextra\\u003e\",\"legendgroup\":\"SPACE_000115\",\"marker\":{\"color\":\"#DDCB76\",\"pattern\":{\"shape\":\"\"}},\"name\":\"SPACE_000115\",\"orientation\":\"v\",\"showlegend\":true,\"textposition\":\"auto\",\"x\":[\"colon\",\"kidney\",\"skin\",\"background\"],\"xaxis\":\"x\",\"y\":{\"dtype\":\"i1\",\"bdata\":\"AQICAg==\"},\"yaxis\":\"y\",\"type\":\"bar\"},{\"hovertemplate\":\"subject_name=SPACE_000116\\u003cbr\\u003especies_name=human\\u003cbr\\u003elabel_name=%{x}\\u003cbr\\u003en_images=%{y}\\u003cextra\\u003e\\u003c\\u002fextra\\u003e\",\"legendgroup\":\"SPACE_000116\",\"marker\":{\"color\":\"#DDCB76\",\"pattern\":{\"shape\":\"\"}},\"name\":\"SPACE_000116\",\"orientation\":\"v\",\"showlegend\":true,\"textposition\":\"auto\",\"x\":[\"stomach\",\"liver\",\"omentum\",\"skin\",\"peritoneum\",\"background\"],\"xaxis\":\"x\",\"y\":{\"dtype\":\"i1\",\"bdata\":\"Ah4CAgIC\"},\"yaxis\":\"y\",\"type\":\"bar\"},{\"hovertemplate\":\"subject_name=SPACE_000118\\u003cbr\\u003especies_name=human\\u003cbr\\u003elabel_name=%{x}\\u003cbr\\u003en_images=%{y}\\u003cextra\\u003e\\u003c\\u002fextra\\u003e\",\"legendgroup\":\"SPACE_000118\",\"marker\":{\"color\":\"#DDCB76\",\"pattern\":{\"shape\":\"\"}},\"name\":\"SPACE_000118\",\"orientation\":\"v\",\"showlegend\":true,\"textposition\":\"auto\",\"x\":[\"kidney\",\"skin\",\"peritoneum\",\"background\"],\"xaxis\":\"x\",\"y\":{\"dtype\":\"i1\",\"bdata\":\"BQUEBQ==\"},\"yaxis\":\"y\",\"type\":\"bar\"},{\"hovertemplate\":\"subject_name=SPACE_000119\\u003cbr\\u003especies_name=human\\u003cbr\\u003elabel_name=%{x}\\u003cbr\\u003en_images=%{y}\\u003cextra\\u003e\\u003c\\u002fextra\\u003e\",\"legendgroup\":\"SPACE_000119\",\"marker\":{\"color\":\"#DDCB76\",\"pattern\":{\"shape\":\"\"}},\"name\":\"SPACE_000119\",\"orientation\":\"v\",\"showlegend\":true,\"textposition\":\"auto\",\"x\":[\"stomach\",\"small bowel\",\"colon\",\"liver\",\"omentum\",\"skin\",\"peritoneum\",\"background\"],\"xaxis\":\"x\",\"y\":{\"dtype\":\"i1\",\"bdata\":\"BAYGKgUEBQY=\"},\"yaxis\":\"y\",\"type\":\"bar\"},{\"hovertemplate\":\"subject_name=SPACE_000120\\u003cbr\\u003especies_name=human\\u003cbr\\u003elabel_name=%{x}\\u003cbr\\u003en_images=%{y}\\u003cextra\\u003e\\u003c\\u002fextra\\u003e\",\"legendgroup\":\"SPACE_000120\",\"marker\":{\"color\":\"#DDCB76\",\"pattern\":{\"shape\":\"\"}},\"name\":\"SPACE_000120\",\"orientation\":\"v\",\"showlegend\":true,\"textposition\":\"auto\",\"x\":[\"kidney\",\"skin\",\"background\"],\"xaxis\":\"x\",\"y\":{\"dtype\":\"i1\",\"bdata\":\"AgIC\"},\"yaxis\":\"y\",\"type\":\"bar\"},{\"hovertemplate\":\"subject_name=SPACE_000121\\u003cbr\\u003especies_name=human\\u003cbr\\u003elabel_name=%{x}\\u003cbr\\u003en_images=%{y}\\u003cextra\\u003e\\u003c\\u002fextra\\u003e\",\"legendgroup\":\"SPACE_000121\",\"marker\":{\"color\":\"#DDCB76\",\"pattern\":{\"shape\":\"\"}},\"name\":\"SPACE_000121\",\"orientation\":\"v\",\"showlegend\":true,\"textposition\":\"auto\",\"x\":[\"kidney\",\"skin\",\"peritoneum\",\"background\"],\"xaxis\":\"x\",\"y\":{\"dtype\":\"i1\",\"bdata\":\"AwMBAw==\"},\"yaxis\":\"y\",\"type\":\"bar\"},{\"hovertemplate\":\"subject_name=SPACE_000122\\u003cbr\\u003especies_name=human\\u003cbr\\u003elabel_name=%{x}\\u003cbr\\u003en_images=%{y}\\u003cextra\\u003e\\u003c\\u002fextra\\u003e\",\"legendgroup\":\"SPACE_000122\",\"marker\":{\"color\":\"#DDCB76\",\"pattern\":{\"shape\":\"\"}},\"name\":\"SPACE_000122\",\"orientation\":\"v\",\"showlegend\":true,\"textposition\":\"auto\",\"x\":[\"kidney\"],\"xaxis\":\"x\",\"y\":{\"dtype\":\"i1\",\"bdata\":\"BQ==\"},\"yaxis\":\"y\",\"type\":\"bar\"},{\"hovertemplate\":\"subject_name=SPACE_000123\\u003cbr\\u003especies_name=human\\u003cbr\\u003elabel_name=%{x}\\u003cbr\\u003en_images=%{y}\\u003cextra\\u003e\\u003c\\u002fextra\\u003e\",\"legendgroup\":\"SPACE_000123\",\"marker\":{\"color\":\"#DDCB76\",\"pattern\":{\"shape\":\"\"}},\"name\":\"SPACE_000123\",\"orientation\":\"v\",\"showlegend\":true,\"textposition\":\"auto\",\"x\":[\"stomach\",\"liver\",\"omentum\",\"skin\",\"peritoneum\",\"background\"],\"xaxis\":\"x\",\"y\":{\"dtype\":\"i1\",\"bdata\":\"AxkBBgYF\"},\"yaxis\":\"y\",\"type\":\"bar\"},{\"hovertemplate\":\"subject_name=SPACE_000124\\u003cbr\\u003especies_name=human\\u003cbr\\u003elabel_name=%{x}\\u003cbr\\u003en_images=%{y}\\u003cextra\\u003e\\u003c\\u002fextra\\u003e\",\"legendgroup\":\"SPACE_000124\",\"marker\":{\"color\":\"#DDCB76\",\"pattern\":{\"shape\":\"\"}},\"name\":\"SPACE_000124\",\"orientation\":\"v\",\"showlegend\":true,\"textposition\":\"auto\",\"x\":[\"stomach\",\"small bowel\",\"colon\",\"liver\",\"pancreas\",\"spleen\",\"omentum\",\"background\"],\"xaxis\":\"x\",\"y\":{\"dtype\":\"i1\",\"bdata\":\"AQEBAwIPAwM=\"},\"yaxis\":\"y\",\"type\":\"bar\"},{\"hovertemplate\":\"subject_name=SPACE_000125\\u003cbr\\u003especies_name=human\\u003cbr\\u003elabel_name=%{x}\\u003cbr\\u003en_images=%{y}\\u003cextra\\u003e\\u003c\\u002fextra\\u003e\",\"legendgroup\":\"SPACE_000125\",\"marker\":{\"color\":\"#DDCB76\",\"pattern\":{\"shape\":\"\"}},\"name\":\"SPACE_000125\",\"orientation\":\"v\",\"showlegend\":true,\"textposition\":\"auto\",\"x\":[\"small bowel\",\"colon\",\"liver\",\"omentum\",\"background\"],\"xaxis\":\"x\",\"y\":{\"dtype\":\"i1\",\"bdata\":\"AgICAgI=\"},\"yaxis\":\"y\",\"type\":\"bar\"},{\"hovertemplate\":\"subject_name=SPACE_000126\\u003cbr\\u003especies_name=human\\u003cbr\\u003elabel_name=%{x}\\u003cbr\\u003en_images=%{y}\\u003cextra\\u003e\\u003c\\u002fextra\\u003e\",\"legendgroup\":\"SPACE_000126\",\"marker\":{\"color\":\"#DDCB76\",\"pattern\":{\"shape\":\"\"}},\"name\":\"SPACE_000126\",\"orientation\":\"v\",\"showlegend\":true,\"textposition\":\"auto\",\"x\":[\"small bowel\",\"colon\",\"liver\",\"omentum\",\"background\"],\"xaxis\":\"x\",\"y\":{\"dtype\":\"i1\",\"bdata\":\"AgECAgI=\"},\"yaxis\":\"y\",\"type\":\"bar\"},{\"hovertemplate\":\"subject_name=SPACE_000127\\u003cbr\\u003especies_name=human\\u003cbr\\u003elabel_name=%{x}\\u003cbr\\u003en_images=%{y}\\u003cextra\\u003e\\u003c\\u002fextra\\u003e\",\"legendgroup\":\"SPACE_000127\",\"marker\":{\"color\":\"#DDCB76\",\"pattern\":{\"shape\":\"\"}},\"name\":\"SPACE_000127\",\"orientation\":\"v\",\"showlegend\":true,\"textposition\":\"auto\",\"x\":[\"colon\",\"liver\",\"omentum\",\"background\"],\"xaxis\":\"x\",\"y\":{\"dtype\":\"i1\",\"bdata\":\"AgICAg==\"},\"yaxis\":\"y\",\"type\":\"bar\"},{\"hovertemplate\":\"subject_name=SPACE_000128\\u003cbr\\u003especies_name=human\\u003cbr\\u003elabel_name=%{x}\\u003cbr\\u003en_images=%{y}\\u003cextra\\u003e\\u003c\\u002fextra\\u003e\",\"legendgroup\":\"SPACE_000128\",\"marker\":{\"color\":\"#DDCB76\",\"pattern\":{\"shape\":\"\"}},\"name\":\"SPACE_000128\",\"orientation\":\"v\",\"showlegend\":true,\"textposition\":\"auto\",\"x\":[\"stomach\",\"small bowel\",\"liver\",\"spleen\",\"omentum\",\"skin\",\"background\"],\"xaxis\":\"x\",\"y\":{\"dtype\":\"i1\",\"bdata\":\"AQIDAgMCAw==\"},\"yaxis\":\"y\",\"type\":\"bar\"},{\"hovertemplate\":\"subject_name=SPACE_000129\\u003cbr\\u003especies_name=human\\u003cbr\\u003elabel_name=%{x}\\u003cbr\\u003en_images=%{y}\\u003cextra\\u003e\\u003c\\u002fextra\\u003e\",\"legendgroup\":\"SPACE_000129\",\"marker\":{\"color\":\"#DDCB76\",\"pattern\":{\"shape\":\"\"}},\"name\":\"SPACE_000129\",\"orientation\":\"v\",\"showlegend\":true,\"textposition\":\"auto\",\"x\":[\"kidney\",\"skin\",\"background\"],\"xaxis\":\"x\",\"y\":{\"dtype\":\"i1\",\"bdata\":\"BQUF\"},\"yaxis\":\"y\",\"type\":\"bar\"},{\"hovertemplate\":\"subject_name=SPACE_000130\\u003cbr\\u003especies_name=human\\u003cbr\\u003elabel_name=%{x}\\u003cbr\\u003en_images=%{y}\\u003cextra\\u003e\\u003c\\u002fextra\\u003e\",\"legendgroup\":\"SPACE_000130\",\"marker\":{\"color\":\"#DDCB76\",\"pattern\":{\"shape\":\"\"}},\"name\":\"SPACE_000130\",\"orientation\":\"v\",\"showlegend\":true,\"textposition\":\"auto\",\"x\":[\"kidney\"],\"xaxis\":\"x\",\"y\":{\"dtype\":\"i1\",\"bdata\":\"Ag==\"},\"yaxis\":\"y\",\"type\":\"bar\"},{\"hovertemplate\":\"subject_name=SPACE_000131\\u003cbr\\u003especies_name=human\\u003cbr\\u003elabel_name=%{x}\\u003cbr\\u003en_images=%{y}\\u003cextra\\u003e\\u003c\\u002fextra\\u003e\",\"legendgroup\":\"SPACE_000131\",\"marker\":{\"color\":\"#DDCB76\",\"pattern\":{\"shape\":\"\"}},\"name\":\"SPACE_000131\",\"orientation\":\"v\",\"showlegend\":true,\"textposition\":\"auto\",\"x\":[\"kidney\",\"skin\",\"peritoneum\",\"background\"],\"xaxis\":\"x\",\"y\":{\"dtype\":\"i1\",\"bdata\":\"AgEBAg==\"},\"yaxis\":\"y\",\"type\":\"bar\"},{\"hovertemplate\":\"subject_name=SPACE_000132\\u003cbr\\u003especies_name=human\\u003cbr\\u003elabel_name=%{x}\\u003cbr\\u003en_images=%{y}\\u003cextra\\u003e\\u003c\\u002fextra\\u003e\",\"legendgroup\":\"SPACE_000132\",\"marker\":{\"color\":\"#DDCB76\",\"pattern\":{\"shape\":\"\"}},\"name\":\"SPACE_000132\",\"orientation\":\"v\",\"showlegend\":true,\"textposition\":\"auto\",\"x\":[\"stomach\",\"small bowel\",\"omentum\",\"background\"],\"xaxis\":\"x\",\"y\":{\"dtype\":\"i1\",\"bdata\":\"AgICAg==\"},\"yaxis\":\"y\",\"type\":\"bar\"},{\"hovertemplate\":\"subject_name=SPACE_000133\\u003cbr\\u003especies_name=human\\u003cbr\\u003elabel_name=%{x}\\u003cbr\\u003en_images=%{y}\\u003cextra\\u003e\\u003c\\u002fextra\\u003e\",\"legendgroup\":\"SPACE_000133\",\"marker\":{\"color\":\"#DDCB76\",\"pattern\":{\"shape\":\"\"}},\"name\":\"SPACE_000133\",\"orientation\":\"v\",\"showlegend\":true,\"textposition\":\"auto\",\"x\":[\"liver\",\"skin\",\"peritoneum\",\"background\"],\"xaxis\":\"x\",\"y\":{\"dtype\":\"i1\",\"bdata\":\"AgEBAg==\"},\"yaxis\":\"y\",\"type\":\"bar\"},{\"hovertemplate\":\"subject_name=SPACE_000134\\u003cbr\\u003especies_name=human\\u003cbr\\u003elabel_name=%{x}\\u003cbr\\u003en_images=%{y}\\u003cextra\\u003e\\u003c\\u002fextra\\u003e\",\"legendgroup\":\"SPACE_000134\",\"marker\":{\"color\":\"#DDCB76\",\"pattern\":{\"shape\":\"\"}},\"name\":\"SPACE_000134\",\"orientation\":\"v\",\"showlegend\":true,\"textposition\":\"auto\",\"x\":[\"stomach\",\"colon\",\"liver\",\"omentum\",\"skin\",\"background\"],\"xaxis\":\"x\",\"y\":{\"dtype\":\"i1\",\"bdata\":\"AQECAgEC\"},\"yaxis\":\"y\",\"type\":\"bar\"},{\"hovertemplate\":\"subject_name=SPACE_000135\\u003cbr\\u003especies_name=human\\u003cbr\\u003elabel_name=%{x}\\u003cbr\\u003en_images=%{y}\\u003cextra\\u003e\\u003c\\u002fextra\\u003e\",\"legendgroup\":\"SPACE_000135\",\"marker\":{\"color\":\"#DDCB76\",\"pattern\":{\"shape\":\"\"}},\"name\":\"SPACE_000135\",\"orientation\":\"v\",\"showlegend\":true,\"textposition\":\"auto\",\"x\":[\"stomach\",\"liver\",\"omentum\",\"background\"],\"xaxis\":\"x\",\"y\":{\"dtype\":\"i1\",\"bdata\":\"AgICAg==\"},\"yaxis\":\"y\",\"type\":\"bar\"},{\"hovertemplate\":\"subject_name=SPACE_000136\\u003cbr\\u003especies_name=human\\u003cbr\\u003elabel_name=%{x}\\u003cbr\\u003en_images=%{y}\\u003cextra\\u003e\\u003c\\u002fextra\\u003e\",\"legendgroup\":\"SPACE_000136\",\"marker\":{\"color\":\"#DDCB76\",\"pattern\":{\"shape\":\"\"}},\"name\":\"SPACE_000136\",\"orientation\":\"v\",\"showlegend\":true,\"textposition\":\"auto\",\"x\":[\"kidney\"],\"xaxis\":\"x\",\"y\":{\"dtype\":\"i1\",\"bdata\":\"BQ==\"},\"yaxis\":\"y\",\"type\":\"bar\"},{\"hovertemplate\":\"subject_name=SPACE_000137\\u003cbr\\u003especies_name=human\\u003cbr\\u003elabel_name=%{x}\\u003cbr\\u003en_images=%{y}\\u003cextra\\u003e\\u003c\\u002fextra\\u003e\",\"legendgroup\":\"SPACE_000137\",\"marker\":{\"color\":\"#DDCB76\",\"pattern\":{\"shape\":\"\"}},\"name\":\"SPACE_000137\",\"orientation\":\"v\",\"showlegend\":true,\"textposition\":\"auto\",\"x\":[\"small bowel\",\"colon\",\"liver\",\"pancreas\",\"spleen\",\"omentum\",\"background\"],\"xaxis\":\"x\",\"y\":{\"dtype\":\"i1\",\"bdata\":\"BBEDBA0EBA==\"},\"yaxis\":\"y\",\"type\":\"bar\"},{\"hovertemplate\":\"subject_name=SPACE_000138\\u003cbr\\u003especies_name=human\\u003cbr\\u003elabel_name=%{x}\\u003cbr\\u003en_images=%{y}\\u003cextra\\u003e\\u003c\\u002fextra\\u003e\",\"legendgroup\":\"SPACE_000138\",\"marker\":{\"color\":\"#DDCB76\",\"pattern\":{\"shape\":\"\"}},\"name\":\"SPACE_000138\",\"orientation\":\"v\",\"showlegend\":true,\"textposition\":\"auto\",\"x\":[\"small bowel\",\"colon\",\"liver\",\"omentum\",\"lung\",\"skin\",\"background\"],\"xaxis\":\"x\",\"y\":{\"dtype\":\"i1\",\"bdata\":\"AQEBAQUFBg==\"},\"yaxis\":\"y\",\"type\":\"bar\"},{\"hovertemplate\":\"subject_name=SPACE_000139\\u003cbr\\u003especies_name=human\\u003cbr\\u003elabel_name=%{x}\\u003cbr\\u003en_images=%{y}\\u003cextra\\u003e\\u003c\\u002fextra\\u003e\",\"legendgroup\":\"SPACE_000139\",\"marker\":{\"color\":\"#DDCB76\",\"pattern\":{\"shape\":\"\"}},\"name\":\"SPACE_000139\",\"orientation\":\"v\",\"showlegend\":true,\"textposition\":\"auto\",\"x\":[\"small bowel\",\"liver\",\"omentum\",\"background\"],\"xaxis\":\"x\",\"y\":{\"dtype\":\"i1\",\"bdata\":\"AQICAg==\"},\"yaxis\":\"y\",\"type\":\"bar\"},{\"hovertemplate\":\"subject_name=SPACE_000140\\u003cbr\\u003especies_name=human\\u003cbr\\u003elabel_name=%{x}\\u003cbr\\u003en_images=%{y}\\u003cextra\\u003e\\u003c\\u002fextra\\u003e\",\"legendgroup\":\"SPACE_000140\",\"marker\":{\"color\":\"#DDCB76\",\"pattern\":{\"shape\":\"\"}},\"name\":\"SPACE_000140\",\"orientation\":\"v\",\"showlegend\":true,\"textposition\":\"auto\",\"x\":[\"skin\",\"background\"],\"xaxis\":\"x\",\"y\":{\"dtype\":\"i1\",\"bdata\":\"AgI=\"},\"yaxis\":\"y\",\"type\":\"bar\"},{\"hovertemplate\":\"subject_name=SPACE_000141\\u003cbr\\u003especies_name=human\\u003cbr\\u003elabel_name=%{x}\\u003cbr\\u003en_images=%{y}\\u003cextra\\u003e\\u003c\\u002fextra\\u003e\",\"legendgroup\":\"SPACE_000141\",\"marker\":{\"color\":\"#DDCB76\",\"pattern\":{\"shape\":\"\"}},\"name\":\"SPACE_000141\",\"orientation\":\"v\",\"showlegend\":true,\"textposition\":\"auto\",\"x\":[\"stomach\",\"colon\",\"liver\",\"omentum\",\"background\"],\"xaxis\":\"x\",\"y\":{\"dtype\":\"i1\",\"bdata\":\"AwIDAwM=\"},\"yaxis\":\"y\",\"type\":\"bar\"},{\"hovertemplate\":\"subject_name=SPACE_000142\\u003cbr\\u003especies_name=human\\u003cbr\\u003elabel_name=%{x}\\u003cbr\\u003en_images=%{y}\\u003cextra\\u003e\\u003c\\u002fextra\\u003e\",\"legendgroup\":\"SPACE_000142\",\"marker\":{\"color\":\"#DDCB76\",\"pattern\":{\"shape\":\"\"}},\"name\":\"SPACE_000142\",\"orientation\":\"v\",\"showlegend\":true,\"textposition\":\"auto\",\"x\":[\"liver\",\"skin\",\"background\"],\"xaxis\":\"x\",\"y\":{\"dtype\":\"i1\",\"bdata\":\"DQEC\"},\"yaxis\":\"y\",\"type\":\"bar\"},{\"hovertemplate\":\"subject_name=SPACE_000143\\u003cbr\\u003especies_name=human\\u003cbr\\u003elabel_name=%{x}\\u003cbr\\u003en_images=%{y}\\u003cextra\\u003e\\u003c\\u002fextra\\u003e\",\"legendgroup\":\"SPACE_000143\",\"marker\":{\"color\":\"#DDCB76\",\"pattern\":{\"shape\":\"\"}},\"name\":\"SPACE_000143\",\"orientation\":\"v\",\"showlegend\":true,\"textposition\":\"auto\",\"x\":[\"small bowel\",\"colon\",\"background\"],\"xaxis\":\"x\",\"y\":{\"dtype\":\"i1\",\"bdata\":\"AgEC\"},\"yaxis\":\"y\",\"type\":\"bar\"},{\"hovertemplate\":\"subject_name=SPACE_000144\\u003cbr\\u003especies_name=human\\u003cbr\\u003elabel_name=%{x}\\u003cbr\\u003en_images=%{y}\\u003cextra\\u003e\\u003c\\u002fextra\\u003e\",\"legendgroup\":\"SPACE_000144\",\"marker\":{\"color\":\"#DDCB76\",\"pattern\":{\"shape\":\"\"}},\"name\":\"SPACE_000144\",\"orientation\":\"v\",\"showlegend\":true,\"textposition\":\"auto\",\"x\":[\"stomach\",\"small bowel\",\"colon\",\"liver\",\"omentum\",\"background\"],\"xaxis\":\"x\",\"y\":{\"dtype\":\"i1\",\"bdata\":\"AQEBAgIC\"},\"yaxis\":\"y\",\"type\":\"bar\"},{\"hovertemplate\":\"subject_name=SPACE_000145\\u003cbr\\u003especies_name=human\\u003cbr\\u003elabel_name=%{x}\\u003cbr\\u003en_images=%{y}\\u003cextra\\u003e\\u003c\\u002fextra\\u003e\",\"legendgroup\":\"SPACE_000145\",\"marker\":{\"color\":\"#DDCB76\",\"pattern\":{\"shape\":\"\"}},\"name\":\"SPACE_000145\",\"orientation\":\"v\",\"showlegend\":true,\"textposition\":\"auto\",\"x\":[\"liver\",\"omentum\",\"skin\",\"background\"],\"xaxis\":\"x\",\"y\":{\"dtype\":\"i1\",\"bdata\":\"AgICAg==\"},\"yaxis\":\"y\",\"type\":\"bar\"},{\"hovertemplate\":\"subject_name=SPACE_000146\\u003cbr\\u003especies_name=human\\u003cbr\\u003elabel_name=%{x}\\u003cbr\\u003en_images=%{y}\\u003cextra\\u003e\\u003c\\u002fextra\\u003e\",\"legendgroup\":\"SPACE_000146\",\"marker\":{\"color\":\"#DDCB76\",\"pattern\":{\"shape\":\"\"}},\"name\":\"SPACE_000146\",\"orientation\":\"v\",\"showlegend\":true,\"textposition\":\"auto\",\"x\":[\"stomach\",\"small bowel\",\"liver\",\"skin\",\"peritoneum\",\"background\"],\"xaxis\":\"x\",\"y\":{\"dtype\":\"i1\",\"bdata\":\"AgEDAwID\"},\"yaxis\":\"y\",\"type\":\"bar\"},{\"hovertemplate\":\"subject_name=SPACE_000147\\u003cbr\\u003especies_name=human\\u003cbr\\u003elabel_name=%{x}\\u003cbr\\u003en_images=%{y}\\u003cextra\\u003e\\u003c\\u002fextra\\u003e\",\"legendgroup\":\"SPACE_000147\",\"marker\":{\"color\":\"#DDCB76\",\"pattern\":{\"shape\":\"\"}},\"name\":\"SPACE_000147\",\"orientation\":\"v\",\"showlegend\":true,\"textposition\":\"auto\",\"x\":[\"kidney\"],\"xaxis\":\"x\",\"y\":{\"dtype\":\"i1\",\"bdata\":\"BQ==\"},\"yaxis\":\"y\",\"type\":\"bar\"},{\"hovertemplate\":\"subject_name=SPACE_000148\\u003cbr\\u003especies_name=human\\u003cbr\\u003elabel_name=%{x}\\u003cbr\\u003en_images=%{y}\\u003cextra\\u003e\\u003c\\u002fextra\\u003e\",\"legendgroup\":\"SPACE_000148\",\"marker\":{\"color\":\"#DDCB76\",\"pattern\":{\"shape\":\"\"}},\"name\":\"SPACE_000148\",\"orientation\":\"v\",\"showlegend\":true,\"textposition\":\"auto\",\"x\":[\"kidney\"],\"xaxis\":\"x\",\"y\":{\"dtype\":\"i1\",\"bdata\":\"Ag==\"},\"yaxis\":\"y\",\"type\":\"bar\"},{\"hovertemplate\":\"subject_name=SPACE_000149\\u003cbr\\u003especies_name=human\\u003cbr\\u003elabel_name=%{x}\\u003cbr\\u003en_images=%{y}\\u003cextra\\u003e\\u003c\\u002fextra\\u003e\",\"legendgroup\":\"SPACE_000149\",\"marker\":{\"color\":\"#DDCB76\",\"pattern\":{\"shape\":\"\"}},\"name\":\"SPACE_000149\",\"orientation\":\"v\",\"showlegend\":true,\"textposition\":\"auto\",\"x\":[\"stomach\",\"small bowel\",\"colon\",\"liver\",\"omentum\",\"background\"],\"xaxis\":\"x\",\"y\":{\"dtype\":\"i1\",\"bdata\":\"AgECAgIC\"},\"yaxis\":\"y\",\"type\":\"bar\"},{\"hovertemplate\":\"subject_name=SPACE_000150\\u003cbr\\u003especies_name=human\\u003cbr\\u003elabel_name=%{x}\\u003cbr\\u003en_images=%{y}\\u003cextra\\u003e\\u003c\\u002fextra\\u003e\",\"legendgroup\":\"SPACE_000150\",\"marker\":{\"color\":\"#DDCB76\",\"pattern\":{\"shape\":\"\"}},\"name\":\"SPACE_000150\",\"orientation\":\"v\",\"showlegend\":true,\"textposition\":\"auto\",\"x\":[\"stomach\",\"small bowel\",\"liver\",\"omentum\",\"background\"],\"xaxis\":\"x\",\"y\":{\"dtype\":\"i1\",\"bdata\":\"AgICAgI=\"},\"yaxis\":\"y\",\"type\":\"bar\"},{\"hovertemplate\":\"subject_name=SPACE_000151\\u003cbr\\u003especies_name=human\\u003cbr\\u003elabel_name=%{x}\\u003cbr\\u003en_images=%{y}\\u003cextra\\u003e\\u003c\\u002fextra\\u003e\",\"legendgroup\":\"SPACE_000151\",\"marker\":{\"color\":\"#DDCB76\",\"pattern\":{\"shape\":\"\"}},\"name\":\"SPACE_000151\",\"orientation\":\"v\",\"showlegend\":true,\"textposition\":\"auto\",\"x\":[\"stomach\",\"colon\",\"liver\",\"spleen\",\"omentum\",\"background\"],\"xaxis\":\"x\",\"y\":{\"dtype\":\"i1\",\"bdata\":\"AgICCAIC\"},\"yaxis\":\"y\",\"type\":\"bar\"},{\"hovertemplate\":\"subject_name=SPACE_000152\\u003cbr\\u003especies_name=human\\u003cbr\\u003elabel_name=%{x}\\u003cbr\\u003en_images=%{y}\\u003cextra\\u003e\\u003c\\u002fextra\\u003e\",\"legendgroup\":\"SPACE_000152\",\"marker\":{\"color\":\"#DDCB76\",\"pattern\":{\"shape\":\"\"}},\"name\":\"SPACE_000152\",\"orientation\":\"v\",\"showlegend\":true,\"textposition\":\"auto\",\"x\":[\"stomach\",\"small bowel\",\"colon\",\"liver\",\"omentum\",\"background\"],\"xaxis\":\"x\",\"y\":{\"dtype\":\"i1\",\"bdata\":\"AQICAQEC\"},\"yaxis\":\"y\",\"type\":\"bar\"},{\"hovertemplate\":\"subject_name=SPACE_000153\\u003cbr\\u003especies_name=human\\u003cbr\\u003elabel_name=%{x}\\u003cbr\\u003en_images=%{y}\\u003cextra\\u003e\\u003c\\u002fextra\\u003e\",\"legendgroup\":\"SPACE_000153\",\"marker\":{\"color\":\"#DDCB76\",\"pattern\":{\"shape\":\"\"}},\"name\":\"SPACE_000153\",\"orientation\":\"v\",\"showlegend\":true,\"textposition\":\"auto\",\"x\":[\"skin\",\"background\"],\"xaxis\":\"x\",\"y\":{\"dtype\":\"i1\",\"bdata\":\"AgI=\"},\"yaxis\":\"y\",\"type\":\"bar\"},{\"hovertemplate\":\"subject_name=SPACE_000155\\u003cbr\\u003especies_name=human\\u003cbr\\u003elabel_name=%{x}\\u003cbr\\u003en_images=%{y}\\u003cextra\\u003e\\u003c\\u002fextra\\u003e\",\"legendgroup\":\"SPACE_000155\",\"marker\":{\"color\":\"#DDCB76\",\"pattern\":{\"shape\":\"\"}},\"name\":\"SPACE_000155\",\"orientation\":\"v\",\"showlegend\":true,\"textposition\":\"auto\",\"x\":[\"small bowel\",\"liver\",\"omentum\",\"skin\",\"peritoneum\",\"background\"],\"xaxis\":\"x\",\"y\":{\"dtype\":\"i1\",\"bdata\":\"AwMDAwED\"},\"yaxis\":\"y\",\"type\":\"bar\"},{\"hovertemplate\":\"subject_name=SPACE_000156\\u003cbr\\u003especies_name=human\\u003cbr\\u003elabel_name=%{x}\\u003cbr\\u003en_images=%{y}\\u003cextra\\u003e\\u003c\\u002fextra\\u003e\",\"legendgroup\":\"SPACE_000156\",\"marker\":{\"color\":\"#DDCB76\",\"pattern\":{\"shape\":\"\"}},\"name\":\"SPACE_000156\",\"orientation\":\"v\",\"showlegend\":true,\"textposition\":\"auto\",\"x\":[\"stomach\",\"small bowel\",\"colon\",\"liver\",\"spleen\",\"omentum\",\"peritoneum\",\"background\"],\"xaxis\":\"x\",\"y\":{\"dtype\":\"i1\",\"bdata\":\"AQEBAQwBAQI=\"},\"yaxis\":\"y\",\"type\":\"bar\"},{\"hovertemplate\":\"subject_name=SPACE_000157\\u003cbr\\u003especies_name=human\\u003cbr\\u003elabel_name=%{x}\\u003cbr\\u003en_images=%{y}\\u003cextra\\u003e\\u003c\\u002fextra\\u003e\",\"legendgroup\":\"SPACE_000157\",\"marker\":{\"color\":\"#DDCB76\",\"pattern\":{\"shape\":\"\"}},\"name\":\"SPACE_000157\",\"orientation\":\"v\",\"showlegend\":true,\"textposition\":\"auto\",\"x\":[\"kidney\"],\"xaxis\":\"x\",\"y\":{\"dtype\":\"i1\",\"bdata\":\"BA==\"},\"yaxis\":\"y\",\"type\":\"bar\"},{\"hovertemplate\":\"subject_name=SPACE_000158\\u003cbr\\u003especies_name=human\\u003cbr\\u003elabel_name=%{x}\\u003cbr\\u003en_images=%{y}\\u003cextra\\u003e\\u003c\\u002fextra\\u003e\",\"legendgroup\":\"SPACE_000158\",\"marker\":{\"color\":\"#DDCB76\",\"pattern\":{\"shape\":\"\"}},\"name\":\"SPACE_000158\",\"orientation\":\"v\",\"showlegend\":true,\"textposition\":\"auto\",\"x\":[\"stomach\",\"liver\",\"omentum\",\"background\"],\"xaxis\":\"x\",\"y\":{\"dtype\":\"i1\",\"bdata\":\"AhACAg==\"},\"yaxis\":\"y\",\"type\":\"bar\"},{\"hovertemplate\":\"subject_name=SPACE_000159\\u003cbr\\u003especies_name=human\\u003cbr\\u003elabel_name=%{x}\\u003cbr\\u003en_images=%{y}\\u003cextra\\u003e\\u003c\\u002fextra\\u003e\",\"legendgroup\":\"SPACE_000159\",\"marker\":{\"color\":\"#DDCB76\",\"pattern\":{\"shape\":\"\"}},\"name\":\"SPACE_000159\",\"orientation\":\"v\",\"showlegend\":true,\"textposition\":\"auto\",\"x\":[\"kidney\",\"skin\",\"peritoneum\",\"background\"],\"xaxis\":\"x\",\"y\":{\"dtype\":\"i1\",\"bdata\":\"AgIBAg==\"},\"yaxis\":\"y\",\"type\":\"bar\"},{\"hovertemplate\":\"subject_name=SPACE_000160\\u003cbr\\u003especies_name=human\\u003cbr\\u003elabel_name=%{x}\\u003cbr\\u003en_images=%{y}\\u003cextra\\u003e\\u003c\\u002fextra\\u003e\",\"legendgroup\":\"SPACE_000160\",\"marker\":{\"color\":\"#DDCB76\",\"pattern\":{\"shape\":\"\"}},\"name\":\"SPACE_000160\",\"orientation\":\"v\",\"showlegend\":true,\"textposition\":\"auto\",\"x\":[\"stomach\",\"small bowel\",\"colon\",\"liver\",\"pancreas\",\"omentum\",\"background\"],\"xaxis\":\"x\",\"y\":{\"dtype\":\"i1\",\"bdata\":\"AwEDBAIDBA==\"},\"yaxis\":\"y\",\"type\":\"bar\"},{\"hovertemplate\":\"subject_name=SPACE_000161\\u003cbr\\u003especies_name=human\\u003cbr\\u003elabel_name=%{x}\\u003cbr\\u003en_images=%{y}\\u003cextra\\u003e\\u003c\\u002fextra\\u003e\",\"legendgroup\":\"SPACE_000161\",\"marker\":{\"color\":\"#DDCB76\",\"pattern\":{\"shape\":\"\"}},\"name\":\"SPACE_000161\",\"orientation\":\"v\",\"showlegend\":true,\"textposition\":\"auto\",\"x\":[\"stomach\",\"small bowel\",\"liver\",\"spleen\",\"omentum\",\"background\"],\"xaxis\":\"x\",\"y\":{\"dtype\":\"i1\",\"bdata\":\"AgECGAIC\"},\"yaxis\":\"y\",\"type\":\"bar\"},{\"hovertemplate\":\"subject_name=SPACE_000162\\u003cbr\\u003especies_name=human\\u003cbr\\u003elabel_name=%{x}\\u003cbr\\u003en_images=%{y}\\u003cextra\\u003e\\u003c\\u002fextra\\u003e\",\"legendgroup\":\"SPACE_000162\",\"marker\":{\"color\":\"#DDCB76\",\"pattern\":{\"shape\":\"\"}},\"name\":\"SPACE_000162\",\"orientation\":\"v\",\"showlegend\":true,\"textposition\":\"auto\",\"x\":[\"stomach\",\"small bowel\",\"colon\",\"liver\",\"spleen\",\"omentum\",\"background\"],\"xaxis\":\"x\",\"y\":{\"dtype\":\"i1\",\"bdata\":\"BwcHBw0HBw==\"},\"yaxis\":\"y\",\"type\":\"bar\"},{\"hovertemplate\":\"subject_name=SPACE_000163\\u003cbr\\u003especies_name=human\\u003cbr\\u003elabel_name=%{x}\\u003cbr\\u003en_images=%{y}\\u003cextra\\u003e\\u003c\\u002fextra\\u003e\",\"legendgroup\":\"SPACE_000163\",\"marker\":{\"color\":\"#DDCB76\",\"pattern\":{\"shape\":\"\"}},\"name\":\"SPACE_000163\",\"orientation\":\"v\",\"showlegend\":true,\"textposition\":\"auto\",\"x\":[\"stomach\",\"small bowel\",\"colon\",\"omentum\",\"background\"],\"xaxis\":\"x\",\"y\":{\"dtype\":\"i1\",\"bdata\":\"AQIBAQI=\"},\"yaxis\":\"y\",\"type\":\"bar\"},{\"hovertemplate\":\"subject_name=SPACE_000164\\u003cbr\\u003especies_name=human\\u003cbr\\u003elabel_name=%{x}\\u003cbr\\u003en_images=%{y}\\u003cextra\\u003e\\u003c\\u002fextra\\u003e\",\"legendgroup\":\"SPACE_000164\",\"marker\":{\"color\":\"#DDCB76\",\"pattern\":{\"shape\":\"\"}},\"name\":\"SPACE_000164\",\"orientation\":\"v\",\"showlegend\":true,\"textposition\":\"auto\",\"x\":[\"small bowel\",\"colon\",\"liver\",\"pancreas\",\"omentum\",\"peritoneum\",\"background\"],\"xaxis\":\"x\",\"y\":{\"dtype\":\"i1\",\"bdata\":\"CAcICAkBCQ==\"},\"yaxis\":\"y\",\"type\":\"bar\"},{\"hovertemplate\":\"subject_name=SPACE_000165\\u003cbr\\u003especies_name=human\\u003cbr\\u003elabel_name=%{x}\\u003cbr\\u003en_images=%{y}\\u003cextra\\u003e\\u003c\\u002fextra\\u003e\",\"legendgroup\":\"SPACE_000165\",\"marker\":{\"color\":\"#DDCB76\",\"pattern\":{\"shape\":\"\"}},\"name\":\"SPACE_000165\",\"orientation\":\"v\",\"showlegend\":true,\"textposition\":\"auto\",\"x\":[\"stomach\",\"small bowel\",\"colon\",\"pancreas\",\"spleen\",\"omentum\",\"skin\",\"background\"],\"xaxis\":\"x\",\"y\":{\"dtype\":\"i1\",\"bdata\":\"AQEBAQ0CAQI=\"},\"yaxis\":\"y\",\"type\":\"bar\"},{\"hovertemplate\":\"subject_name=SPACE_000166\\u003cbr\\u003especies_name=human\\u003cbr\\u003elabel_name=%{x}\\u003cbr\\u003en_images=%{y}\\u003cextra\\u003e\\u003c\\u002fextra\\u003e\",\"legendgroup\":\"SPACE_000166\",\"marker\":{\"color\":\"#DDCB76\",\"pattern\":{\"shape\":\"\"}},\"name\":\"SPACE_000166\",\"orientation\":\"v\",\"showlegend\":true,\"textposition\":\"auto\",\"x\":[\"skin\",\"background\"],\"xaxis\":\"x\",\"y\":{\"dtype\":\"i1\",\"bdata\":\"AgI=\"},\"yaxis\":\"y\",\"type\":\"bar\"},{\"hovertemplate\":\"subject_name=SPACE_000167\\u003cbr\\u003especies_name=human\\u003cbr\\u003elabel_name=%{x}\\u003cbr\\u003en_images=%{y}\\u003cextra\\u003e\\u003c\\u002fextra\\u003e\",\"legendgroup\":\"SPACE_000167\",\"marker\":{\"color\":\"#DDCB76\",\"pattern\":{\"shape\":\"\"}},\"name\":\"SPACE_000167\",\"orientation\":\"v\",\"showlegend\":true,\"textposition\":\"auto\",\"x\":[\"stomach\",\"small bowel\",\"colon\",\"liver\",\"pancreas\",\"spleen\",\"omentum\",\"background\"],\"xaxis\":\"x\",\"y\":{\"dtype\":\"i1\",\"bdata\":\"AQECAQETAQI=\"},\"yaxis\":\"y\",\"type\":\"bar\"},{\"hovertemplate\":\"subject_name=SPACE_000168\\u003cbr\\u003especies_name=human\\u003cbr\\u003elabel_name=%{x}\\u003cbr\\u003en_images=%{y}\\u003cextra\\u003e\\u003c\\u002fextra\\u003e\",\"legendgroup\":\"SPACE_000168\",\"marker\":{\"color\":\"#DDCB76\",\"pattern\":{\"shape\":\"\"}},\"name\":\"SPACE_000168\",\"orientation\":\"v\",\"showlegend\":true,\"textposition\":\"auto\",\"x\":[\"liver\",\"spleen\",\"peritoneum\",\"background\"],\"xaxis\":\"x\",\"y\":{\"dtype\":\"i1\",\"bdata\":\"AQoDAw==\"},\"yaxis\":\"y\",\"type\":\"bar\"},{\"hovertemplate\":\"subject_name=SPACE_000169\\u003cbr\\u003especies_name=human\\u003cbr\\u003elabel_name=%{x}\\u003cbr\\u003en_images=%{y}\\u003cextra\\u003e\\u003c\\u002fextra\\u003e\",\"legendgroup\":\"SPACE_000169\",\"marker\":{\"color\":\"#DDCB76\",\"pattern\":{\"shape\":\"\"}},\"name\":\"SPACE_000169\",\"orientation\":\"v\",\"showlegend\":true,\"textposition\":\"auto\",\"x\":[\"stomach\",\"small bowel\",\"colon\",\"liver\",\"omentum\",\"peritoneum\",\"background\"],\"xaxis\":\"x\",\"y\":{\"dtype\":\"i1\",\"bdata\":\"AQICAgEBAg==\"},\"yaxis\":\"y\",\"type\":\"bar\"},{\"hovertemplate\":\"subject_name=SPACE_000170\\u003cbr\\u003especies_name=human\\u003cbr\\u003elabel_name=%{x}\\u003cbr\\u003en_images=%{y}\\u003cextra\\u003e\\u003c\\u002fextra\\u003e\",\"legendgroup\":\"SPACE_000170\",\"marker\":{\"color\":\"#DDCB76\",\"pattern\":{\"shape\":\"\"}},\"name\":\"SPACE_000170\",\"orientation\":\"v\",\"showlegend\":true,\"textposition\":\"auto\",\"x\":[\"stomach\",\"small bowel\",\"colon\",\"liver\",\"omentum\",\"skin\",\"peritoneum\",\"background\"],\"xaxis\":\"x\",\"y\":{\"dtype\":\"i1\",\"bdata\":\"AgIDBQUDBQU=\"},\"yaxis\":\"y\",\"type\":\"bar\"},{\"hovertemplate\":\"subject_name=SPACE_000171\\u003cbr\\u003especies_name=human\\u003cbr\\u003elabel_name=%{x}\\u003cbr\\u003en_images=%{y}\\u003cextra\\u003e\\u003c\\u002fextra\\u003e\",\"legendgroup\":\"SPACE_000171\",\"marker\":{\"color\":\"#DDCB76\",\"pattern\":{\"shape\":\"\"}},\"name\":\"SPACE_000171\",\"orientation\":\"v\",\"showlegend\":true,\"textposition\":\"auto\",\"x\":[\"stomach\",\"small bowel\",\"colon\",\"liver\",\"omentum\",\"background\"],\"xaxis\":\"x\",\"y\":{\"dtype\":\"i1\",\"bdata\":\"AQEBAQIC\"},\"yaxis\":\"y\",\"type\":\"bar\"},{\"hovertemplate\":\"subject_name=SPACE_000172\\u003cbr\\u003especies_name=human\\u003cbr\\u003elabel_name=%{x}\\u003cbr\\u003en_images=%{y}\\u003cextra\\u003e\\u003c\\u002fextra\\u003e\",\"legendgroup\":\"SPACE_000172\",\"marker\":{\"color\":\"#DDCB76\",\"pattern\":{\"shape\":\"\"}},\"name\":\"SPACE_000172\",\"orientation\":\"v\",\"showlegend\":true,\"textposition\":\"auto\",\"x\":[\"stomach\",\"colon\",\"liver\",\"pancreas\",\"spleen\",\"omentum\",\"background\"],\"xaxis\":\"x\",\"y\":{\"dtype\":\"i1\",\"bdata\":\"BAYCBA4ICA==\"},\"yaxis\":\"y\",\"type\":\"bar\"},{\"hovertemplate\":\"subject_name=SPACE_000173\\u003cbr\\u003especies_name=human\\u003cbr\\u003elabel_name=%{x}\\u003cbr\\u003en_images=%{y}\\u003cextra\\u003e\\u003c\\u002fextra\\u003e\",\"legendgroup\":\"SPACE_000173\",\"marker\":{\"color\":\"#DDCB76\",\"pattern\":{\"shape\":\"\"}},\"name\":\"SPACE_000173\",\"orientation\":\"v\",\"showlegend\":true,\"textposition\":\"auto\",\"x\":[\"stomach\",\"small bowel\",\"liver\",\"omentum\",\"lung\",\"skin\",\"peritoneum\",\"background\"],\"xaxis\":\"x\",\"y\":{\"dtype\":\"i1\",\"bdata\":\"AQEBAQMDAQQ=\"},\"yaxis\":\"y\",\"type\":\"bar\"},{\"hovertemplate\":\"subject_name=SPACE_000174\\u003cbr\\u003especies_name=human\\u003cbr\\u003elabel_name=%{x}\\u003cbr\\u003en_images=%{y}\\u003cextra\\u003e\\u003c\\u002fextra\\u003e\",\"legendgroup\":\"SPACE_000174\",\"marker\":{\"color\":\"#DDCB76\",\"pattern\":{\"shape\":\"\"}},\"name\":\"SPACE_000174\",\"orientation\":\"v\",\"showlegend\":true,\"textposition\":\"auto\",\"x\":[\"small bowel\",\"pancreas\",\"omentum\",\"background\"],\"xaxis\":\"x\",\"y\":{\"dtype\":\"i1\",\"bdata\":\"BAMEBA==\"},\"yaxis\":\"y\",\"type\":\"bar\"},{\"hovertemplate\":\"subject_name=SPACE_000175\\u003cbr\\u003especies_name=human\\u003cbr\\u003elabel_name=%{x}\\u003cbr\\u003en_images=%{y}\\u003cextra\\u003e\\u003c\\u002fextra\\u003e\",\"legendgroup\":\"SPACE_000175\",\"marker\":{\"color\":\"#DDCB76\",\"pattern\":{\"shape\":\"\"}},\"name\":\"SPACE_000175\",\"orientation\":\"v\",\"showlegend\":true,\"textposition\":\"auto\",\"x\":[\"small bowel\",\"colon\",\"pancreas\",\"peritoneum\",\"background\"],\"xaxis\":\"x\",\"y\":{\"dtype\":\"i1\",\"bdata\":\"BAMCAQQ=\"},\"yaxis\":\"y\",\"type\":\"bar\"},{\"hovertemplate\":\"subject_name=SPACE_000176\\u003cbr\\u003especies_name=human\\u003cbr\\u003elabel_name=%{x}\\u003cbr\\u003en_images=%{y}\\u003cextra\\u003e\\u003c\\u002fextra\\u003e\",\"legendgroup\":\"SPACE_000176\",\"marker\":{\"color\":\"#DDCB76\",\"pattern\":{\"shape\":\"\"}},\"name\":\"SPACE_000176\",\"orientation\":\"v\",\"showlegend\":true,\"textposition\":\"auto\",\"x\":[\"stomach\",\"small bowel\",\"colon\",\"liver\",\"omentum\",\"skin\",\"peritoneum\",\"background\"],\"xaxis\":\"x\",\"y\":{\"dtype\":\"i1\",\"bdata\":\"AQMFBQUCBQU=\"},\"yaxis\":\"y\",\"type\":\"bar\"},{\"hovertemplate\":\"subject_name=SPACE_000177\\u003cbr\\u003especies_name=human\\u003cbr\\u003elabel_name=%{x}\\u003cbr\\u003en_images=%{y}\\u003cextra\\u003e\\u003c\\u002fextra\\u003e\",\"legendgroup\":\"SPACE_000177\",\"marker\":{\"color\":\"#DDCB76\",\"pattern\":{\"shape\":\"\"}},\"name\":\"SPACE_000177\",\"orientation\":\"v\",\"showlegend\":true,\"textposition\":\"auto\",\"x\":[\"stomach\",\"colon\",\"spleen\",\"omentum\",\"background\"],\"xaxis\":\"x\",\"y\":{\"dtype\":\"i1\",\"bdata\":\"BgEZBgY=\"},\"yaxis\":\"y\",\"type\":\"bar\"},{\"hovertemplate\":\"subject_name=SPACE_000178\\u003cbr\\u003especies_name=human\\u003cbr\\u003elabel_name=%{x}\\u003cbr\\u003en_images=%{y}\\u003cextra\\u003e\\u003c\\u002fextra\\u003e\",\"legendgroup\":\"SPACE_000178\",\"marker\":{\"color\":\"#DDCB76\",\"pattern\":{\"shape\":\"\"}},\"name\":\"SPACE_000178\",\"orientation\":\"v\",\"showlegend\":true,\"textposition\":\"auto\",\"x\":[\"small bowel\",\"colon\",\"pancreas\",\"spleen\",\"omentum\",\"skin\",\"peritoneum\",\"background\"],\"xaxis\":\"x\",\"y\":{\"dtype\":\"i1\",\"bdata\":\"AwoFDwoBBAo=\"},\"yaxis\":\"y\",\"type\":\"bar\"},{\"hovertemplate\":\"subject_name=SPACE_000179\\u003cbr\\u003especies_name=human\\u003cbr\\u003elabel_name=%{x}\\u003cbr\\u003en_images=%{y}\\u003cextra\\u003e\\u003c\\u002fextra\\u003e\",\"legendgroup\":\"SPACE_000179\",\"marker\":{\"color\":\"#DDCB76\",\"pattern\":{\"shape\":\"\"}},\"name\":\"SPACE_000179\",\"orientation\":\"v\",\"showlegend\":true,\"textposition\":\"auto\",\"x\":[\"stomach\",\"small bowel\",\"colon\",\"liver\",\"pancreas\",\"omentum\",\"skin\",\"peritoneum\",\"background\"],\"xaxis\":\"x\",\"y\":{\"dtype\":\"i1\",\"bdata\":\"AgEFBAEFAQEF\"},\"yaxis\":\"y\",\"type\":\"bar\"},{\"hovertemplate\":\"subject_name=SPACE_000180\\u003cbr\\u003especies_name=human\\u003cbr\\u003elabel_name=%{x}\\u003cbr\\u003en_images=%{y}\\u003cextra\\u003e\\u003c\\u002fextra\\u003e\",\"legendgroup\":\"SPACE_000180\",\"marker\":{\"color\":\"#DDCB76\",\"pattern\":{\"shape\":\"\"}},\"name\":\"SPACE_000180\",\"orientation\":\"v\",\"showlegend\":true,\"textposition\":\"auto\",\"x\":[\"kidney\"],\"xaxis\":\"x\",\"y\":{\"dtype\":\"i1\",\"bdata\":\"AQ==\"},\"yaxis\":\"y\",\"type\":\"bar\"},{\"hovertemplate\":\"subject_name=SPACE_000181\\u003cbr\\u003especies_name=human\\u003cbr\\u003elabel_name=%{x}\\u003cbr\\u003en_images=%{y}\\u003cextra\\u003e\\u003c\\u002fextra\\u003e\",\"legendgroup\":\"SPACE_000181\",\"marker\":{\"color\":\"#DDCB76\",\"pattern\":{\"shape\":\"\"}},\"name\":\"SPACE_000181\",\"orientation\":\"v\",\"showlegend\":true,\"textposition\":\"auto\",\"x\":[\"stomach\",\"small bowel\",\"colon\",\"liver\",\"spleen\",\"omentum\",\"background\"],\"xaxis\":\"x\",\"y\":{\"dtype\":\"i1\",\"bdata\":\"AgIBAgECAg==\"},\"yaxis\":\"y\",\"type\":\"bar\"},{\"hovertemplate\":\"subject_name=SPACE_000182\\u003cbr\\u003especies_name=human\\u003cbr\\u003elabel_name=%{x}\\u003cbr\\u003en_images=%{y}\\u003cextra\\u003e\\u003c\\u002fextra\\u003e\",\"legendgroup\":\"SPACE_000182\",\"marker\":{\"color\":\"#DDCB76\",\"pattern\":{\"shape\":\"\"}},\"name\":\"SPACE_000182\",\"orientation\":\"v\",\"showlegend\":true,\"textposition\":\"auto\",\"x\":[\"stomach\",\"colon\",\"liver\",\"spleen\",\"omentum\",\"background\"],\"xaxis\":\"x\",\"y\":{\"dtype\":\"i1\",\"bdata\":\"AgECDAIC\"},\"yaxis\":\"y\",\"type\":\"bar\"},{\"hovertemplate\":\"subject_name=SPACE_000183\\u003cbr\\u003especies_name=human\\u003cbr\\u003elabel_name=%{x}\\u003cbr\\u003en_images=%{y}\\u003cextra\\u003e\\u003c\\u002fextra\\u003e\",\"legendgroup\":\"SPACE_000183\",\"marker\":{\"color\":\"#DDCB76\",\"pattern\":{\"shape\":\"\"}},\"name\":\"SPACE_000183\",\"orientation\":\"v\",\"showlegend\":true,\"textposition\":\"auto\",\"x\":[\"stomach\",\"small bowel\",\"colon\",\"liver\",\"kidney\",\"omentum\",\"background\"],\"xaxis\":\"x\",\"y\":{\"dtype\":\"i1\",\"bdata\":\"AQIBAgEBAg==\"},\"yaxis\":\"y\",\"type\":\"bar\"},{\"hovertemplate\":\"subject_name=SPACE_000184\\u003cbr\\u003especies_name=human\\u003cbr\\u003elabel_name=%{x}\\u003cbr\\u003en_images=%{y}\\u003cextra\\u003e\\u003c\\u002fextra\\u003e\",\"legendgroup\":\"SPACE_000184\",\"marker\":{\"color\":\"#DDCB76\",\"pattern\":{\"shape\":\"\"}},\"name\":\"SPACE_000184\",\"orientation\":\"v\",\"showlegend\":true,\"textposition\":\"auto\",\"x\":[\"colon\",\"liver\",\"skin\",\"peritoneum\",\"background\"],\"xaxis\":\"x\",\"y\":{\"dtype\":\"i1\",\"bdata\":\"ARICAQI=\"},\"yaxis\":\"y\",\"type\":\"bar\"},{\"hovertemplate\":\"subject_name=SPACE_000185\\u003cbr\\u003especies_name=human\\u003cbr\\u003elabel_name=%{x}\\u003cbr\\u003en_images=%{y}\\u003cextra\\u003e\\u003c\\u002fextra\\u003e\",\"legendgroup\":\"SPACE_000185\",\"marker\":{\"color\":\"#DDCB76\",\"pattern\":{\"shape\":\"\"}},\"name\":\"SPACE_000185\",\"orientation\":\"v\",\"showlegend\":true,\"textposition\":\"auto\",\"x\":[\"stomach\",\"small bowel\",\"liver\",\"pancreas\",\"omentum\",\"background\"],\"xaxis\":\"x\",\"y\":{\"dtype\":\"i1\",\"bdata\":\"AwIDAwMD\"},\"yaxis\":\"y\",\"type\":\"bar\"},{\"hovertemplate\":\"subject_name=SPACE_000186\\u003cbr\\u003especies_name=human\\u003cbr\\u003elabel_name=%{x}\\u003cbr\\u003en_images=%{y}\\u003cextra\\u003e\\u003c\\u002fextra\\u003e\",\"legendgroup\":\"SPACE_000186\",\"marker\":{\"color\":\"#DDCB76\",\"pattern\":{\"shape\":\"\"}},\"name\":\"SPACE_000186\",\"orientation\":\"v\",\"showlegend\":true,\"textposition\":\"auto\",\"x\":[\"kidney\",\"skin\",\"background\"],\"xaxis\":\"x\",\"y\":{\"dtype\":\"i1\",\"bdata\":\"AQEB\"},\"yaxis\":\"y\",\"type\":\"bar\"},{\"hovertemplate\":\"subject_name=SPACE_000187\\u003cbr\\u003especies_name=human\\u003cbr\\u003elabel_name=%{x}\\u003cbr\\u003en_images=%{y}\\u003cextra\\u003e\\u003c\\u002fextra\\u003e\",\"legendgroup\":\"SPACE_000187\",\"marker\":{\"color\":\"#DDCB76\",\"pattern\":{\"shape\":\"\"}},\"name\":\"SPACE_000187\",\"orientation\":\"v\",\"showlegend\":true,\"textposition\":\"auto\",\"x\":[\"small bowel\",\"liver\",\"omentum\",\"background\"],\"xaxis\":\"x\",\"y\":{\"dtype\":\"i1\",\"bdata\":\"AgIBAg==\"},\"yaxis\":\"y\",\"type\":\"bar\"},{\"hovertemplate\":\"subject_name=SPACE_000188\\u003cbr\\u003especies_name=human\\u003cbr\\u003elabel_name=%{x}\\u003cbr\\u003en_images=%{y}\\u003cextra\\u003e\\u003c\\u002fextra\\u003e\",\"legendgroup\":\"SPACE_000188\",\"marker\":{\"color\":\"#DDCB76\",\"pattern\":{\"shape\":\"\"}},\"name\":\"SPACE_000188\",\"orientation\":\"v\",\"showlegend\":true,\"textposition\":\"auto\",\"x\":[\"stomach\",\"small bowel\",\"pancreas\",\"spleen\",\"omentum\",\"background\"],\"xaxis\":\"x\",\"y\":{\"dtype\":\"i1\",\"bdata\":\"AQEBDQIC\"},\"yaxis\":\"y\",\"type\":\"bar\"},{\"hovertemplate\":\"subject_name=SPACE_000189\\u003cbr\\u003especies_name=human\\u003cbr\\u003elabel_name=%{x}\\u003cbr\\u003en_images=%{y}\\u003cextra\\u003e\\u003c\\u002fextra\\u003e\",\"legendgroup\":\"SPACE_000189\",\"marker\":{\"color\":\"#DDCB76\",\"pattern\":{\"shape\":\"\"}},\"name\":\"SPACE_000189\",\"orientation\":\"v\",\"showlegend\":true,\"textposition\":\"auto\",\"x\":[\"stomach\",\"small bowel\",\"colon\",\"liver\",\"spleen\",\"background\"],\"xaxis\":\"x\",\"y\":{\"dtype\":\"i1\",\"bdata\":\"AgECAQUC\"},\"yaxis\":\"y\",\"type\":\"bar\"},{\"hovertemplate\":\"subject_name=SPACE_000190\\u003cbr\\u003especies_name=human\\u003cbr\\u003elabel_name=%{x}\\u003cbr\\u003en_images=%{y}\\u003cextra\\u003e\\u003c\\u002fextra\\u003e\",\"legendgroup\":\"SPACE_000190\",\"marker\":{\"color\":\"#DDCB76\",\"pattern\":{\"shape\":\"\"}},\"name\":\"SPACE_000190\",\"orientation\":\"v\",\"showlegend\":true,\"textposition\":\"auto\",\"x\":[\"kidney\",\"skin\",\"peritoneum\",\"background\"],\"xaxis\":\"x\",\"y\":{\"dtype\":\"i1\",\"bdata\":\"BAQDBA==\"},\"yaxis\":\"y\",\"type\":\"bar\"},{\"hovertemplate\":\"subject_name=SPACE_000191\\u003cbr\\u003especies_name=human\\u003cbr\\u003elabel_name=%{x}\\u003cbr\\u003en_images=%{y}\\u003cextra\\u003e\\u003c\\u002fextra\\u003e\",\"legendgroup\":\"SPACE_000191\",\"marker\":{\"color\":\"#DDCB76\",\"pattern\":{\"shape\":\"\"}},\"name\":\"SPACE_000191\",\"orientation\":\"v\",\"showlegend\":true,\"textposition\":\"auto\",\"x\":[\"small bowel\",\"colon\",\"liver\",\"skin\",\"peritoneum\",\"background\"],\"xaxis\":\"x\",\"y\":{\"dtype\":\"i1\",\"bdata\":\"Ah0CAgEC\"},\"yaxis\":\"y\",\"type\":\"bar\"},{\"hovertemplate\":\"subject_name=SPACE_000192\\u003cbr\\u003especies_name=human\\u003cbr\\u003elabel_name=%{x}\\u003cbr\\u003en_images=%{y}\\u003cextra\\u003e\\u003c\\u002fextra\\u003e\",\"legendgroup\":\"SPACE_000192\",\"marker\":{\"color\":\"#DDCB76\",\"pattern\":{\"shape\":\"\"}},\"name\":\"SPACE_000192\",\"orientation\":\"v\",\"showlegend\":true,\"textposition\":\"auto\",\"x\":[\"stomach\",\"colon\",\"spleen\",\"omentum\",\"background\"],\"xaxis\":\"x\",\"y\":{\"dtype\":\"i1\",\"bdata\":\"AQEQAgI=\"},\"yaxis\":\"y\",\"type\":\"bar\"},{\"hovertemplate\":\"subject_name=SPACE_000193\\u003cbr\\u003especies_name=human\\u003cbr\\u003elabel_name=%{x}\\u003cbr\\u003en_images=%{y}\\u003cextra\\u003e\\u003c\\u002fextra\\u003e\",\"legendgroup\":\"SPACE_000193\",\"marker\":{\"color\":\"#DDCB76\",\"pattern\":{\"shape\":\"\"}},\"name\":\"SPACE_000193\",\"orientation\":\"v\",\"showlegend\":true,\"textposition\":\"auto\",\"x\":[\"spleen\",\"skin\",\"background\"],\"xaxis\":\"x\",\"y\":{\"dtype\":\"i1\",\"bdata\":\"CgIC\"},\"yaxis\":\"y\",\"type\":\"bar\"},{\"hovertemplate\":\"subject_name=SPACE_000194\\u003cbr\\u003especies_name=human\\u003cbr\\u003elabel_name=%{x}\\u003cbr\\u003en_images=%{y}\\u003cextra\\u003e\\u003c\\u002fextra\\u003e\",\"legendgroup\":\"SPACE_000194\",\"marker\":{\"color\":\"#DDCB76\",\"pattern\":{\"shape\":\"\"}},\"name\":\"SPACE_000194\",\"orientation\":\"v\",\"showlegend\":true,\"textposition\":\"auto\",\"x\":[\"kidney\"],\"xaxis\":\"x\",\"y\":{\"dtype\":\"i1\",\"bdata\":\"Bw==\"},\"yaxis\":\"y\",\"type\":\"bar\"},{\"hovertemplate\":\"subject_name=SPACE_000195\\u003cbr\\u003especies_name=human\\u003cbr\\u003elabel_name=%{x}\\u003cbr\\u003en_images=%{y}\\u003cextra\\u003e\\u003c\\u002fextra\\u003e\",\"legendgroup\":\"SPACE_000195\",\"marker\":{\"color\":\"#DDCB76\",\"pattern\":{\"shape\":\"\"}},\"name\":\"SPACE_000195\",\"orientation\":\"v\",\"showlegend\":true,\"textposition\":\"auto\",\"x\":[\"kidney\"],\"xaxis\":\"x\",\"y\":{\"dtype\":\"i1\",\"bdata\":\"Aw==\"},\"yaxis\":\"y\",\"type\":\"bar\"},{\"hovertemplate\":\"subject_name=SPACE_000196\\u003cbr\\u003especies_name=human\\u003cbr\\u003elabel_name=%{x}\\u003cbr\\u003en_images=%{y}\\u003cextra\\u003e\\u003c\\u002fextra\\u003e\",\"legendgroup\":\"SPACE_000196\",\"marker\":{\"color\":\"#DDCB76\",\"pattern\":{\"shape\":\"\"}},\"name\":\"SPACE_000196\",\"orientation\":\"v\",\"showlegend\":true,\"textposition\":\"auto\",\"x\":[\"kidney\",\"skin\",\"background\"],\"xaxis\":\"x\",\"y\":{\"dtype\":\"i1\",\"bdata\":\"AgIC\"},\"yaxis\":\"y\",\"type\":\"bar\"},{\"hovertemplate\":\"subject_name=SPACE_000197\\u003cbr\\u003especies_name=human\\u003cbr\\u003elabel_name=%{x}\\u003cbr\\u003en_images=%{y}\\u003cextra\\u003e\\u003c\\u002fextra\\u003e\",\"legendgroup\":\"SPACE_000197\",\"marker\":{\"color\":\"#DDCB76\",\"pattern\":{\"shape\":\"\"}},\"name\":\"SPACE_000197\",\"orientation\":\"v\",\"showlegend\":true,\"textposition\":\"auto\",\"x\":[\"kidney\",\"skin\",\"background\"],\"xaxis\":\"x\",\"y\":{\"dtype\":\"i1\",\"bdata\":\"AgIC\"},\"yaxis\":\"y\",\"type\":\"bar\"},{\"hovertemplate\":\"subject_name=SPACE_000198\\u003cbr\\u003especies_name=human\\u003cbr\\u003elabel_name=%{x}\\u003cbr\\u003en_images=%{y}\\u003cextra\\u003e\\u003c\\u002fextra\\u003e\",\"legendgroup\":\"SPACE_000198\",\"marker\":{\"color\":\"#DDCB76\",\"pattern\":{\"shape\":\"\"}},\"name\":\"SPACE_000198\",\"orientation\":\"v\",\"showlegend\":true,\"textposition\":\"auto\",\"x\":[\"small bowel\",\"colon\",\"liver\",\"pancreas\",\"omentum\",\"background\"],\"xaxis\":\"x\",\"y\":{\"dtype\":\"i1\",\"bdata\":\"BAQOAwEE\"},\"yaxis\":\"y\",\"type\":\"bar\"},{\"hovertemplate\":\"subject_name=SPACE_000199\\u003cbr\\u003especies_name=human\\u003cbr\\u003elabel_name=%{x}\\u003cbr\\u003en_images=%{y}\\u003cextra\\u003e\\u003c\\u002fextra\\u003e\",\"legendgroup\":\"SPACE_000199\",\"marker\":{\"color\":\"#DDCB76\",\"pattern\":{\"shape\":\"\"}},\"name\":\"SPACE_000199\",\"orientation\":\"v\",\"showlegend\":true,\"textposition\":\"auto\",\"x\":[\"skin\",\"background\"],\"xaxis\":\"x\",\"y\":{\"dtype\":\"i1\",\"bdata\":\"AgI=\"},\"yaxis\":\"y\",\"type\":\"bar\"},{\"hovertemplate\":\"subject_name=SPACE_000200\\u003cbr\\u003especies_name=human\\u003cbr\\u003elabel_name=%{x}\\u003cbr\\u003en_images=%{y}\\u003cextra\\u003e\\u003c\\u002fextra\\u003e\",\"legendgroup\":\"SPACE_000200\",\"marker\":{\"color\":\"#DDCB76\",\"pattern\":{\"shape\":\"\"}},\"name\":\"SPACE_000200\",\"orientation\":\"v\",\"showlegend\":true,\"textposition\":\"auto\",\"x\":[\"small bowel\",\"background\"],\"xaxis\":\"x\",\"y\":{\"dtype\":\"i1\",\"bdata\":\"AgI=\"},\"yaxis\":\"y\",\"type\":\"bar\"},{\"hovertemplate\":\"subject_name=SPACE_000201\\u003cbr\\u003especies_name=human\\u003cbr\\u003elabel_name=%{x}\\u003cbr\\u003en_images=%{y}\\u003cextra\\u003e\\u003c\\u002fextra\\u003e\",\"legendgroup\":\"SPACE_000201\",\"marker\":{\"color\":\"#DDCB76\",\"pattern\":{\"shape\":\"\"}},\"name\":\"SPACE_000201\",\"orientation\":\"v\",\"showlegend\":true,\"textposition\":\"auto\",\"x\":[\"stomach\",\"small bowel\",\"colon\",\"liver\",\"omentum\",\"peritoneum\",\"background\"],\"xaxis\":\"x\",\"y\":{\"dtype\":\"i1\",\"bdata\":\"AQEBAgEBAg==\"},\"yaxis\":\"y\",\"type\":\"bar\"},{\"hovertemplate\":\"subject_name=SPACE_000202\\u003cbr\\u003especies_name=human\\u003cbr\\u003elabel_name=%{x}\\u003cbr\\u003en_images=%{y}\\u003cextra\\u003e\\u003c\\u002fextra\\u003e\",\"legendgroup\":\"SPACE_000202\",\"marker\":{\"color\":\"#DDCB76\",\"pattern\":{\"shape\":\"\"}},\"name\":\"SPACE_000202\",\"orientation\":\"v\",\"showlegend\":true,\"textposition\":\"auto\",\"x\":[\"stomach\",\"small bowel\",\"colon\",\"liver\",\"omentum\",\"background\"],\"xaxis\":\"x\",\"y\":{\"dtype\":\"i1\",\"bdata\":\"AQEBAgIC\"},\"yaxis\":\"y\",\"type\":\"bar\"},{\"hovertemplate\":\"subject_name=SPACE_000203\\u003cbr\\u003especies_name=human\\u003cbr\\u003elabel_name=%{x}\\u003cbr\\u003en_images=%{y}\\u003cextra\\u003e\\u003c\\u002fextra\\u003e\",\"legendgroup\":\"SPACE_000203\",\"marker\":{\"color\":\"#DDCB76\",\"pattern\":{\"shape\":\"\"}},\"name\":\"SPACE_000203\",\"orientation\":\"v\",\"showlegend\":true,\"textposition\":\"auto\",\"x\":[\"stomach\",\"small bowel\",\"colon\",\"liver\",\"pancreas\",\"omentum\",\"skin\",\"background\"],\"xaxis\":\"x\",\"y\":{\"dtype\":\"i1\",\"bdata\":\"AQEDBQYEAQc=\"},\"yaxis\":\"y\",\"type\":\"bar\"},{\"hovertemplate\":\"subject_name=SPACE_000204\\u003cbr\\u003especies_name=human\\u003cbr\\u003elabel_name=%{x}\\u003cbr\\u003en_images=%{y}\\u003cextra\\u003e\\u003c\\u002fextra\\u003e\",\"legendgroup\":\"SPACE_000204\",\"marker\":{\"color\":\"#DDCB76\",\"pattern\":{\"shape\":\"\"}},\"name\":\"SPACE_000204\",\"orientation\":\"v\",\"showlegend\":true,\"textposition\":\"auto\",\"x\":[\"kidney\"],\"xaxis\":\"x\",\"y\":{\"dtype\":\"i1\",\"bdata\":\"Aw==\"},\"yaxis\":\"y\",\"type\":\"bar\"},{\"hovertemplate\":\"subject_name=SPACE_000205\\u003cbr\\u003especies_name=human\\u003cbr\\u003elabel_name=%{x}\\u003cbr\\u003en_images=%{y}\\u003cextra\\u003e\\u003c\\u002fextra\\u003e\",\"legendgroup\":\"SPACE_000205\",\"marker\":{\"color\":\"#DDCB76\",\"pattern\":{\"shape\":\"\"}},\"name\":\"SPACE_000205\",\"orientation\":\"v\",\"showlegend\":true,\"textposition\":\"auto\",\"x\":[\"small bowel\",\"background\"],\"xaxis\":\"x\",\"y\":{\"dtype\":\"i1\",\"bdata\":\"AgI=\"},\"yaxis\":\"y\",\"type\":\"bar\"},{\"hovertemplate\":\"subject_name=SPACE_000206\\u003cbr\\u003especies_name=human\\u003cbr\\u003elabel_name=%{x}\\u003cbr\\u003en_images=%{y}\\u003cextra\\u003e\\u003c\\u002fextra\\u003e\",\"legendgroup\":\"SPACE_000206\",\"marker\":{\"color\":\"#DDCB76\",\"pattern\":{\"shape\":\"\"}},\"name\":\"SPACE_000206\",\"orientation\":\"v\",\"showlegend\":true,\"textposition\":\"auto\",\"x\":[\"kidney\",\"skin\",\"peritoneum\",\"background\"],\"xaxis\":\"x\",\"y\":{\"dtype\":\"i1\",\"bdata\":\"AgICAg==\"},\"yaxis\":\"y\",\"type\":\"bar\"},{\"hovertemplate\":\"subject_name=SPACE_000207\\u003cbr\\u003especies_name=human\\u003cbr\\u003elabel_name=%{x}\\u003cbr\\u003en_images=%{y}\\u003cextra\\u003e\\u003c\\u002fextra\\u003e\",\"legendgroup\":\"SPACE_000207\",\"marker\":{\"color\":\"#DDCB76\",\"pattern\":{\"shape\":\"\"}},\"name\":\"SPACE_000207\",\"orientation\":\"v\",\"showlegend\":true,\"textposition\":\"auto\",\"x\":[\"kidney\",\"skin\",\"background\"],\"xaxis\":\"x\",\"y\":{\"dtype\":\"i1\",\"bdata\":\"AQEB\"},\"yaxis\":\"y\",\"type\":\"bar\"},{\"hovertemplate\":\"subject_name=SPACE_000208\\u003cbr\\u003especies_name=human\\u003cbr\\u003elabel_name=%{x}\\u003cbr\\u003en_images=%{y}\\u003cextra\\u003e\\u003c\\u002fextra\\u003e\",\"legendgroup\":\"SPACE_000208\",\"marker\":{\"color\":\"#DDCB76\",\"pattern\":{\"shape\":\"\"}},\"name\":\"SPACE_000208\",\"orientation\":\"v\",\"showlegend\":true,\"textposition\":\"auto\",\"x\":[\"skin\",\"background\"],\"xaxis\":\"x\",\"y\":{\"dtype\":\"i1\",\"bdata\":\"AgI=\"},\"yaxis\":\"y\",\"type\":\"bar\"},{\"hovertemplate\":\"subject_name=SPACE_000209\\u003cbr\\u003especies_name=human\\u003cbr\\u003elabel_name=%{x}\\u003cbr\\u003en_images=%{y}\\u003cextra\\u003e\\u003c\\u002fextra\\u003e\",\"legendgroup\":\"SPACE_000209\",\"marker\":{\"color\":\"#DDCB76\",\"pattern\":{\"shape\":\"\"}},\"name\":\"SPACE_000209\",\"orientation\":\"v\",\"showlegend\":true,\"textposition\":\"auto\",\"x\":[\"kidney\",\"skin\",\"background\"],\"xaxis\":\"x\",\"y\":{\"dtype\":\"i1\",\"bdata\":\"AgIC\"},\"yaxis\":\"y\",\"type\":\"bar\"},{\"hovertemplate\":\"subject_name=SPACE_000210\\u003cbr\\u003especies_name=human\\u003cbr\\u003elabel_name=%{x}\\u003cbr\\u003en_images=%{y}\\u003cextra\\u003e\\u003c\\u002fextra\\u003e\",\"legendgroup\":\"SPACE_000210\",\"marker\":{\"color\":\"#DDCB76\",\"pattern\":{\"shape\":\"\"}},\"name\":\"SPACE_000210\",\"orientation\":\"v\",\"showlegend\":true,\"textposition\":\"auto\",\"x\":[\"kidney\",\"skin\",\"background\"],\"xaxis\":\"x\",\"y\":{\"dtype\":\"i1\",\"bdata\":\"AgIC\"},\"yaxis\":\"y\",\"type\":\"bar\"},{\"hovertemplate\":\"subject_name=SPACE_000211\\u003cbr\\u003especies_name=human\\u003cbr\\u003elabel_name=%{x}\\u003cbr\\u003en_images=%{y}\\u003cextra\\u003e\\u003c\\u002fextra\\u003e\",\"legendgroup\":\"SPACE_000211\",\"marker\":{\"color\":\"#DDCB76\",\"pattern\":{\"shape\":\"\"}},\"name\":\"SPACE_000211\",\"orientation\":\"v\",\"showlegend\":true,\"textposition\":\"auto\",\"x\":[\"colon\",\"liver\",\"omentum\",\"background\"],\"xaxis\":\"x\",\"y\":{\"dtype\":\"i1\",\"bdata\":\"AwMDAw==\"},\"yaxis\":\"y\",\"type\":\"bar\"},{\"hovertemplate\":\"subject_name=SPACE_000212\\u003cbr\\u003especies_name=human\\u003cbr\\u003elabel_name=%{x}\\u003cbr\\u003en_images=%{y}\\u003cextra\\u003e\\u003c\\u002fextra\\u003e\",\"legendgroup\":\"SPACE_000212\",\"marker\":{\"color\":\"#DDCB76\",\"pattern\":{\"shape\":\"\"}},\"name\":\"SPACE_000212\",\"orientation\":\"v\",\"showlegend\":true,\"textposition\":\"auto\",\"x\":[\"skin\",\"background\"],\"xaxis\":\"x\",\"y\":{\"dtype\":\"i1\",\"bdata\":\"AgI=\"},\"yaxis\":\"y\",\"type\":\"bar\"},{\"hovertemplate\":\"subject_name=SPACE_000213\\u003cbr\\u003especies_name=human\\u003cbr\\u003elabel_name=%{x}\\u003cbr\\u003en_images=%{y}\\u003cextra\\u003e\\u003c\\u002fextra\\u003e\",\"legendgroup\":\"SPACE_000213\",\"marker\":{\"color\":\"#DDCB76\",\"pattern\":{\"shape\":\"\"}},\"name\":\"SPACE_000213\",\"orientation\":\"v\",\"showlegend\":true,\"textposition\":\"auto\",\"x\":[\"kidney\",\"skin\",\"background\"],\"xaxis\":\"x\",\"y\":{\"dtype\":\"i1\",\"bdata\":\"AgIC\"},\"yaxis\":\"y\",\"type\":\"bar\"},{\"hovertemplate\":\"subject_name=SPACE_000214\\u003cbr\\u003especies_name=human\\u003cbr\\u003elabel_name=%{x}\\u003cbr\\u003en_images=%{y}\\u003cextra\\u003e\\u003c\\u002fextra\\u003e\",\"legendgroup\":\"SPACE_000214\",\"marker\":{\"color\":\"#DDCB76\",\"pattern\":{\"shape\":\"\"}},\"name\":\"SPACE_000214\",\"orientation\":\"v\",\"showlegend\":true,\"textposition\":\"auto\",\"x\":[\"kidney\",\"skin\",\"background\"],\"xaxis\":\"x\",\"y\":{\"dtype\":\"i1\",\"bdata\":\"AgIC\"},\"yaxis\":\"y\",\"type\":\"bar\"},{\"hovertemplate\":\"subject_name=SPACE_000215\\u003cbr\\u003especies_name=human\\u003cbr\\u003elabel_name=%{x}\\u003cbr\\u003en_images=%{y}\\u003cextra\\u003e\\u003c\\u002fextra\\u003e\",\"legendgroup\":\"SPACE_000215\",\"marker\":{\"color\":\"#DDCB76\",\"pattern\":{\"shape\":\"\"}},\"name\":\"SPACE_000215\",\"orientation\":\"v\",\"showlegend\":true,\"textposition\":\"auto\",\"x\":[\"stomach\",\"small bowel\",\"colon\",\"liver\",\"omentum\",\"background\"],\"xaxis\":\"x\",\"y\":{\"dtype\":\"i1\",\"bdata\":\"AgICAwMD\"},\"yaxis\":\"y\",\"type\":\"bar\"},{\"hovertemplate\":\"subject_name=SPACE_000216\\u003cbr\\u003especies_name=human\\u003cbr\\u003elabel_name=%{x}\\u003cbr\\u003en_images=%{y}\\u003cextra\\u003e\\u003c\\u002fextra\\u003e\",\"legendgroup\":\"SPACE_000216\",\"marker\":{\"color\":\"#DDCB76\",\"pattern\":{\"shape\":\"\"}},\"name\":\"SPACE_000216\",\"orientation\":\"v\",\"showlegend\":true,\"textposition\":\"auto\",\"x\":[\"spleen\",\"skin\",\"background\"],\"xaxis\":\"x\",\"y\":{\"dtype\":\"i1\",\"bdata\":\"CwIC\"},\"yaxis\":\"y\",\"type\":\"bar\"},{\"hovertemplate\":\"subject_name=SPACE_000217\\u003cbr\\u003especies_name=human\\u003cbr\\u003elabel_name=%{x}\\u003cbr\\u003en_images=%{y}\\u003cextra\\u003e\\u003c\\u002fextra\\u003e\",\"legendgroup\":\"SPACE_000217\",\"marker\":{\"color\":\"#DDCB76\",\"pattern\":{\"shape\":\"\"}},\"name\":\"SPACE_000217\",\"orientation\":\"v\",\"showlegend\":true,\"textposition\":\"auto\",\"x\":[\"small bowel\",\"colon\",\"pancreas\",\"omentum\",\"background\"],\"xaxis\":\"x\",\"y\":{\"dtype\":\"i1\",\"bdata\":\"AgIBAgI=\"},\"yaxis\":\"y\",\"type\":\"bar\"},{\"hovertemplate\":\"subject_name=SPACE_000218\\u003cbr\\u003especies_name=human\\u003cbr\\u003elabel_name=%{x}\\u003cbr\\u003en_images=%{y}\\u003cextra\\u003e\\u003c\\u002fextra\\u003e\",\"legendgroup\":\"SPACE_000218\",\"marker\":{\"color\":\"#DDCB76\",\"pattern\":{\"shape\":\"\"}},\"name\":\"SPACE_000218\",\"orientation\":\"v\",\"showlegend\":true,\"textposition\":\"auto\",\"x\":[\"stomach\",\"small bowel\",\"colon\",\"liver\",\"pancreas\",\"omentum\",\"background\"],\"xaxis\":\"x\",\"y\":{\"dtype\":\"i1\",\"bdata\":\"AwUFBAMDBQ==\"},\"yaxis\":\"y\",\"type\":\"bar\"},{\"hovertemplate\":\"subject_name=SPACE_000219\\u003cbr\\u003especies_name=human\\u003cbr\\u003elabel_name=%{x}\\u003cbr\\u003en_images=%{y}\\u003cextra\\u003e\\u003c\\u002fextra\\u003e\",\"legendgroup\":\"SPACE_000219\",\"marker\":{\"color\":\"#DDCB76\",\"pattern\":{\"shape\":\"\"}},\"name\":\"SPACE_000219\",\"orientation\":\"v\",\"showlegend\":true,\"textposition\":\"auto\",\"x\":[\"stomach\",\"small bowel\",\"colon\",\"liver\",\"pancreas\",\"omentum\",\"background\"],\"xaxis\":\"x\",\"y\":{\"dtype\":\"i1\",\"bdata\":\"AQICAwIBAw==\"},\"yaxis\":\"y\",\"type\":\"bar\"},{\"hovertemplate\":\"subject_name=SPACE_000220\\u003cbr\\u003especies_name=human\\u003cbr\\u003elabel_name=%{x}\\u003cbr\\u003en_images=%{y}\\u003cextra\\u003e\\u003c\\u002fextra\\u003e\",\"legendgroup\":\"SPACE_000220\",\"marker\":{\"color\":\"#DDCB76\",\"pattern\":{\"shape\":\"\"}},\"name\":\"SPACE_000220\",\"orientation\":\"v\",\"showlegend\":true,\"textposition\":\"auto\",\"x\":[\"stomach\",\"small bowel\",\"colon\",\"liver\",\"pancreas\",\"omentum\",\"background\"],\"xaxis\":\"x\",\"y\":{\"dtype\":\"i1\",\"bdata\":\"AQMCAwQFBQ==\"},\"yaxis\":\"y\",\"type\":\"bar\"},{\"hovertemplate\":\"subject_name=SPACE_000221\\u003cbr\\u003especies_name=human\\u003cbr\\u003elabel_name=%{x}\\u003cbr\\u003en_images=%{y}\\u003cextra\\u003e\\u003c\\u002fextra\\u003e\",\"legendgroup\":\"SPACE_000221\",\"marker\":{\"color\":\"#DDCB76\",\"pattern\":{\"shape\":\"\"}},\"name\":\"SPACE_000221\",\"orientation\":\"v\",\"showlegend\":true,\"textposition\":\"auto\",\"x\":[\"skin\",\"background\"],\"xaxis\":\"x\",\"y\":{\"dtype\":\"i1\",\"bdata\":\"AgI=\"},\"yaxis\":\"y\",\"type\":\"bar\"},{\"hovertemplate\":\"subject_name=SPACE_000222\\u003cbr\\u003especies_name=human\\u003cbr\\u003elabel_name=%{x}\\u003cbr\\u003en_images=%{y}\\u003cextra\\u003e\\u003c\\u002fextra\\u003e\",\"legendgroup\":\"SPACE_000222\",\"marker\":{\"color\":\"#DDCB76\",\"pattern\":{\"shape\":\"\"}},\"name\":\"SPACE_000222\",\"orientation\":\"v\",\"showlegend\":true,\"textposition\":\"auto\",\"x\":[\"stomach\",\"small bowel\",\"colon\",\"liver\",\"pancreas\",\"background\"],\"xaxis\":\"x\",\"y\":{\"dtype\":\"i1\",\"bdata\":\"AQMBAwID\"},\"yaxis\":\"y\",\"type\":\"bar\"},{\"hovertemplate\":\"subject_name=SPACE_000223\\u003cbr\\u003especies_name=human\\u003cbr\\u003elabel_name=%{x}\\u003cbr\\u003en_images=%{y}\\u003cextra\\u003e\\u003c\\u002fextra\\u003e\",\"legendgroup\":\"SPACE_000223\",\"marker\":{\"color\":\"#DDCB76\",\"pattern\":{\"shape\":\"\"}},\"name\":\"SPACE_000223\",\"orientation\":\"v\",\"showlegend\":true,\"textposition\":\"auto\",\"x\":[\"stomach\",\"small bowel\",\"liver\",\"pancreas\",\"omentum\",\"background\"],\"xaxis\":\"x\",\"y\":{\"dtype\":\"i1\",\"bdata\":\"AgQEAwQE\"},\"yaxis\":\"y\",\"type\":\"bar\"},{\"hovertemplate\":\"subject_name=SPACE_000224\\u003cbr\\u003especies_name=human\\u003cbr\\u003elabel_name=%{x}\\u003cbr\\u003en_images=%{y}\\u003cextra\\u003e\\u003c\\u002fextra\\u003e\",\"legendgroup\":\"SPACE_000224\",\"marker\":{\"color\":\"#DDCB76\",\"pattern\":{\"shape\":\"\"}},\"name\":\"SPACE_000224\",\"orientation\":\"v\",\"showlegend\":true,\"textposition\":\"auto\",\"x\":[\"kidney\",\"skin\",\"background\"],\"xaxis\":\"x\",\"y\":{\"dtype\":\"i1\",\"bdata\":\"AgIC\"},\"yaxis\":\"y\",\"type\":\"bar\"},{\"hovertemplate\":\"subject_name=SPACE_000226\\u003cbr\\u003especies_name=human\\u003cbr\\u003elabel_name=%{x}\\u003cbr\\u003en_images=%{y}\\u003cextra\\u003e\\u003c\\u002fextra\\u003e\",\"legendgroup\":\"SPACE_000226\",\"marker\":{\"color\":\"#DDCB76\",\"pattern\":{\"shape\":\"\"}},\"name\":\"SPACE_000226\",\"orientation\":\"v\",\"showlegend\":true,\"textposition\":\"auto\",\"x\":[\"stomach\",\"small bowel\",\"colon\",\"liver\",\"spleen\",\"omentum\",\"skin\",\"background\"],\"xaxis\":\"x\",\"y\":{\"dtype\":\"i1\",\"bdata\":\"AgECAgkCAQI=\"},\"yaxis\":\"y\",\"type\":\"bar\"},{\"hovertemplate\":\"subject_name=SPACE_000227\\u003cbr\\u003especies_name=human\\u003cbr\\u003elabel_name=%{x}\\u003cbr\\u003en_images=%{y}\\u003cextra\\u003e\\u003c\\u002fextra\\u003e\",\"legendgroup\":\"SPACE_000227\",\"marker\":{\"color\":\"#DDCB76\",\"pattern\":{\"shape\":\"\"}},\"name\":\"SPACE_000227\",\"orientation\":\"v\",\"showlegend\":true,\"textposition\":\"auto\",\"x\":[\"kidney\"],\"xaxis\":\"x\",\"y\":{\"dtype\":\"i1\",\"bdata\":\"BA==\"},\"yaxis\":\"y\",\"type\":\"bar\"},{\"hovertemplate\":\"subject_name=SPACE_000228\\u003cbr\\u003especies_name=human\\u003cbr\\u003elabel_name=%{x}\\u003cbr\\u003en_images=%{y}\\u003cextra\\u003e\\u003c\\u002fextra\\u003e\",\"legendgroup\":\"SPACE_000228\",\"marker\":{\"color\":\"#DDCB76\",\"pattern\":{\"shape\":\"\"}},\"name\":\"SPACE_000228\",\"orientation\":\"v\",\"showlegend\":true,\"textposition\":\"auto\",\"x\":[\"stomach\",\"small bowel\",\"liver\",\"omentum\",\"background\"],\"xaxis\":\"x\",\"y\":{\"dtype\":\"i1\",\"bdata\":\"AQEDAwM=\"},\"yaxis\":\"y\",\"type\":\"bar\"},{\"hovertemplate\":\"subject_name=SPACE_000229\\u003cbr\\u003especies_name=human\\u003cbr\\u003elabel_name=%{x}\\u003cbr\\u003en_images=%{y}\\u003cextra\\u003e\\u003c\\u002fextra\\u003e\",\"legendgroup\":\"SPACE_000229\",\"marker\":{\"color\":\"#DDCB76\",\"pattern\":{\"shape\":\"\"}},\"name\":\"SPACE_000229\",\"orientation\":\"v\",\"showlegend\":true,\"textposition\":\"auto\",\"x\":[\"colon\",\"liver\",\"omentum\",\"background\"],\"xaxis\":\"x\",\"y\":{\"dtype\":\"i1\",\"bdata\":\"AgIBAg==\"},\"yaxis\":\"y\",\"type\":\"bar\"},{\"hovertemplate\":\"subject_name=SPACE_000230\\u003cbr\\u003especies_name=human\\u003cbr\\u003elabel_name=%{x}\\u003cbr\\u003en_images=%{y}\\u003cextra\\u003e\\u003c\\u002fextra\\u003e\",\"legendgroup\":\"SPACE_000230\",\"marker\":{\"color\":\"#DDCB76\",\"pattern\":{\"shape\":\"\"}},\"name\":\"SPACE_000230\",\"orientation\":\"v\",\"showlegend\":true,\"textposition\":\"auto\",\"x\":[\"stomach\",\"small bowel\",\"omentum\",\"lung\",\"skin\",\"background\"],\"xaxis\":\"x\",\"y\":{\"dtype\":\"i1\",\"bdata\":\"AQICBAQE\"},\"yaxis\":\"y\",\"type\":\"bar\"},{\"hovertemplate\":\"subject_name=SPACE_000231\\u003cbr\\u003especies_name=human\\u003cbr\\u003elabel_name=%{x}\\u003cbr\\u003en_images=%{y}\\u003cextra\\u003e\\u003c\\u002fextra\\u003e\",\"legendgroup\":\"SPACE_000231\",\"marker\":{\"color\":\"#DDCB76\",\"pattern\":{\"shape\":\"\"}},\"name\":\"SPACE_000231\",\"orientation\":\"v\",\"showlegend\":true,\"textposition\":\"auto\",\"x\":[\"kidney\"],\"xaxis\":\"x\",\"y\":{\"dtype\":\"i1\",\"bdata\":\"AQ==\"},\"yaxis\":\"y\",\"type\":\"bar\"},{\"hovertemplate\":\"subject_name=SPACE_000232\\u003cbr\\u003especies_name=human\\u003cbr\\u003elabel_name=%{x}\\u003cbr\\u003en_images=%{y}\\u003cextra\\u003e\\u003c\\u002fextra\\u003e\",\"legendgroup\":\"SPACE_000232\",\"marker\":{\"color\":\"#DDCB76\",\"pattern\":{\"shape\":\"\"}},\"name\":\"SPACE_000232\",\"orientation\":\"v\",\"showlegend\":true,\"textposition\":\"auto\",\"x\":[\"kidney\"],\"xaxis\":\"x\",\"y\":{\"dtype\":\"i1\",\"bdata\":\"AQ==\"},\"yaxis\":\"y\",\"type\":\"bar\"},{\"hovertemplate\":\"subject_name=SPACE_000233\\u003cbr\\u003especies_name=human\\u003cbr\\u003elabel_name=%{x}\\u003cbr\\u003en_images=%{y}\\u003cextra\\u003e\\u003c\\u002fextra\\u003e\",\"legendgroup\":\"SPACE_000233\",\"marker\":{\"color\":\"#DDCB76\",\"pattern\":{\"shape\":\"\"}},\"name\":\"SPACE_000233\",\"orientation\":\"v\",\"showlegend\":true,\"textposition\":\"auto\",\"x\":[\"kidney\",\"skin\",\"background\"],\"xaxis\":\"x\",\"y\":{\"dtype\":\"i1\",\"bdata\":\"AgIC\"},\"yaxis\":\"y\",\"type\":\"bar\"},{\"hovertemplate\":\"subject_name=SPACE_000234\\u003cbr\\u003especies_name=human\\u003cbr\\u003elabel_name=%{x}\\u003cbr\\u003en_images=%{y}\\u003cextra\\u003e\\u003c\\u002fextra\\u003e\",\"legendgroup\":\"SPACE_000234\",\"marker\":{\"color\":\"#DDCB76\",\"pattern\":{\"shape\":\"\"}},\"name\":\"SPACE_000234\",\"orientation\":\"v\",\"showlegend\":true,\"textposition\":\"auto\",\"x\":[\"stomach\",\"small bowel\",\"colon\",\"liver\",\"spleen\",\"omentum\",\"background\"],\"xaxis\":\"x\",\"y\":{\"dtype\":\"i1\",\"bdata\":\"AQEBAgsCAg==\"},\"yaxis\":\"y\",\"type\":\"bar\"},{\"hovertemplate\":\"subject_name=SPACE_000235\\u003cbr\\u003especies_name=human\\u003cbr\\u003elabel_name=%{x}\\u003cbr\\u003en_images=%{y}\\u003cextra\\u003e\\u003c\\u002fextra\\u003e\",\"legendgroup\":\"SPACE_000235\",\"marker\":{\"color\":\"#DDCB76\",\"pattern\":{\"shape\":\"\"}},\"name\":\"SPACE_000235\",\"orientation\":\"v\",\"showlegend\":true,\"textposition\":\"auto\",\"x\":[\"small bowel\",\"background\"],\"xaxis\":\"x\",\"y\":{\"dtype\":\"i1\",\"bdata\":\"AgI=\"},\"yaxis\":\"y\",\"type\":\"bar\"},{\"hovertemplate\":\"subject_name=SPACE_000236\\u003cbr\\u003especies_name=human\\u003cbr\\u003elabel_name=%{x}\\u003cbr\\u003en_images=%{y}\\u003cextra\\u003e\\u003c\\u002fextra\\u003e\",\"legendgroup\":\"SPACE_000236\",\"marker\":{\"color\":\"#DDCB76\",\"pattern\":{\"shape\":\"\"}},\"name\":\"SPACE_000236\",\"orientation\":\"v\",\"showlegend\":true,\"textposition\":\"auto\",\"x\":[\"stomach\",\"colon\",\"liver\",\"omentum\",\"background\"],\"xaxis\":\"x\",\"y\":{\"dtype\":\"i1\",\"bdata\":\"AQICAgI=\"},\"yaxis\":\"y\",\"type\":\"bar\"},{\"hovertemplate\":\"subject_name=SPACE_000237\\u003cbr\\u003especies_name=human\\u003cbr\\u003elabel_name=%{x}\\u003cbr\\u003en_images=%{y}\\u003cextra\\u003e\\u003c\\u002fextra\\u003e\",\"legendgroup\":\"SPACE_000237\",\"marker\":{\"color\":\"#DDCB76\",\"pattern\":{\"shape\":\"\"}},\"name\":\"SPACE_000237\",\"orientation\":\"v\",\"showlegend\":true,\"textposition\":\"auto\",\"x\":[\"small bowel\",\"colon\",\"liver\",\"skin\",\"peritoneum\",\"background\"],\"xaxis\":\"x\",\"y\":{\"dtype\":\"i1\",\"bdata\":\"AQECAgEC\"},\"yaxis\":\"y\",\"type\":\"bar\"},{\"hovertemplate\":\"subject_name=SPACE_000238\\u003cbr\\u003especies_name=human\\u003cbr\\u003elabel_name=%{x}\\u003cbr\\u003en_images=%{y}\\u003cextra\\u003e\\u003c\\u002fextra\\u003e\",\"legendgroup\":\"SPACE_000238\",\"marker\":{\"color\":\"#DDCB76\",\"pattern\":{\"shape\":\"\"}},\"name\":\"SPACE_000238\",\"orientation\":\"v\",\"showlegend\":true,\"textposition\":\"auto\",\"x\":[\"colon\",\"pancreas\",\"kidney\",\"omentum\",\"skin\",\"background\"],\"xaxis\":\"x\",\"y\":{\"dtype\":\"i1\",\"bdata\":\"AQECAQID\"},\"yaxis\":\"y\",\"type\":\"bar\"},{\"hovertemplate\":\"subject_name=SPACE_000239\\u003cbr\\u003especies_name=human\\u003cbr\\u003elabel_name=%{x}\\u003cbr\\u003en_images=%{y}\\u003cextra\\u003e\\u003c\\u002fextra\\u003e\",\"legendgroup\":\"SPACE_000239\",\"marker\":{\"color\":\"#DDCB76\",\"pattern\":{\"shape\":\"\"}},\"name\":\"SPACE_000239\",\"orientation\":\"v\",\"showlegend\":true,\"textposition\":\"auto\",\"x\":[\"stomach\",\"small bowel\",\"liver\",\"spleen\",\"background\"],\"xaxis\":\"x\",\"y\":{\"dtype\":\"i1\",\"bdata\":\"AQICCQI=\"},\"yaxis\":\"y\",\"type\":\"bar\"},{\"hovertemplate\":\"subject_name=SPACE_000240\\u003cbr\\u003especies_name=human\\u003cbr\\u003elabel_name=%{x}\\u003cbr\\u003en_images=%{y}\\u003cextra\\u003e\\u003c\\u002fextra\\u003e\",\"legendgroup\":\"SPACE_000240\",\"marker\":{\"color\":\"#DDCB76\",\"pattern\":{\"shape\":\"\"}},\"name\":\"SPACE_000240\",\"orientation\":\"v\",\"showlegend\":true,\"textposition\":\"auto\",\"x\":[\"small bowel\",\"colon\",\"liver\",\"omentum\",\"background\"],\"xaxis\":\"x\",\"y\":{\"dtype\":\"i1\",\"bdata\":\"AQEBAgI=\"},\"yaxis\":\"y\",\"type\":\"bar\"}],                        {\"template\":{\"data\":{\"barpolar\":[{\"marker\":{\"line\":{\"color\":\"white\",\"width\":0.5},\"pattern\":{\"fillmode\":\"overlay\",\"size\":10,\"solidity\":0.2}},\"type\":\"barpolar\"}],\"bar\":[{\"error_x\":{\"color\":\"#2a3f5f\"},\"error_y\":{\"color\":\"#2a3f5f\"},\"marker\":{\"line\":{\"color\":\"white\",\"width\":0.5},\"pattern\":{\"fillmode\":\"overlay\",\"size\":10,\"solidity\":0.2}},\"type\":\"bar\"}],\"carpet\":[{\"aaxis\":{\"endlinecolor\":\"#2a3f5f\",\"gridcolor\":\"#C8D4E3\",\"linecolor\":\"#C8D4E3\",\"minorgridcolor\":\"#C8D4E3\",\"startlinecolor\":\"#2a3f5f\"},\"baxis\":{\"endlinecolor\":\"#2a3f5f\",\"gridcolor\":\"#C8D4E3\",\"linecolor\":\"#C8D4E3\",\"minorgridcolor\":\"#C8D4E3\",\"startlinecolor\":\"#2a3f5f\"},\"type\":\"carpet\"}],\"choropleth\":[{\"colorbar\":{\"outlinewidth\":0,\"ticks\":\"\"},\"type\":\"choropleth\"}],\"contourcarpet\":[{\"colorbar\":{\"outlinewidth\":0,\"ticks\":\"\"},\"type\":\"contourcarpet\"}],\"contour\":[{\"colorbar\":{\"outlinewidth\":0,\"ticks\":\"\"},\"colorscale\":[[0.0,\"#0d0887\"],[0.1111111111111111,\"#46039f\"],[0.2222222222222222,\"#7201a8\"],[0.3333333333333333,\"#9c179e\"],[0.4444444444444444,\"#bd3786\"],[0.5555555555555556,\"#d8576b\"],[0.6666666666666666,\"#ed7953\"],[0.7777777777777778,\"#fb9f3a\"],[0.8888888888888888,\"#fdca26\"],[1.0,\"#f0f921\"]],\"type\":\"contour\"}],\"heatmap\":[{\"colorbar\":{\"outlinewidth\":0,\"ticks\":\"\"},\"colorscale\":[[0.0,\"#0d0887\"],[0.1111111111111111,\"#46039f\"],[0.2222222222222222,\"#7201a8\"],[0.3333333333333333,\"#9c179e\"],[0.4444444444444444,\"#bd3786\"],[0.5555555555555556,\"#d8576b\"],[0.6666666666666666,\"#ed7953\"],[0.7777777777777778,\"#fb9f3a\"],[0.8888888888888888,\"#fdca26\"],[1.0,\"#f0f921\"]],\"type\":\"heatmap\"}],\"histogram2dcontour\":[{\"colorbar\":{\"outlinewidth\":0,\"ticks\":\"\"},\"colorscale\":[[0.0,\"#0d0887\"],[0.1111111111111111,\"#46039f\"],[0.2222222222222222,\"#7201a8\"],[0.3333333333333333,\"#9c179e\"],[0.4444444444444444,\"#bd3786\"],[0.5555555555555556,\"#d8576b\"],[0.6666666666666666,\"#ed7953\"],[0.7777777777777778,\"#fb9f3a\"],[0.8888888888888888,\"#fdca26\"],[1.0,\"#f0f921\"]],\"type\":\"histogram2dcontour\"}],\"histogram2d\":[{\"colorbar\":{\"outlinewidth\":0,\"ticks\":\"\"},\"colorscale\":[[0.0,\"#0d0887\"],[0.1111111111111111,\"#46039f\"],[0.2222222222222222,\"#7201a8\"],[0.3333333333333333,\"#9c179e\"],[0.4444444444444444,\"#bd3786\"],[0.5555555555555556,\"#d8576b\"],[0.6666666666666666,\"#ed7953\"],[0.7777777777777778,\"#fb9f3a\"],[0.8888888888888888,\"#fdca26\"],[1.0,\"#f0f921\"]],\"type\":\"histogram2d\"}],\"histogram\":[{\"marker\":{\"pattern\":{\"fillmode\":\"overlay\",\"size\":10,\"solidity\":0.2}},\"type\":\"histogram\"}],\"mesh3d\":[{\"colorbar\":{\"outlinewidth\":0,\"ticks\":\"\"},\"type\":\"mesh3d\"}],\"parcoords\":[{\"line\":{\"colorbar\":{\"outlinewidth\":0,\"ticks\":\"\"}},\"type\":\"parcoords\"}],\"pie\":[{\"automargin\":true,\"type\":\"pie\"}],\"scatter3d\":[{\"line\":{\"colorbar\":{\"outlinewidth\":0,\"ticks\":\"\"}},\"marker\":{\"colorbar\":{\"outlinewidth\":0,\"ticks\":\"\"}},\"type\":\"scatter3d\"}],\"scattercarpet\":[{\"marker\":{\"colorbar\":{\"outlinewidth\":0,\"ticks\":\"\"}},\"type\":\"scattercarpet\"}],\"scattergeo\":[{\"marker\":{\"colorbar\":{\"outlinewidth\":0,\"ticks\":\"\"}},\"type\":\"scattergeo\"}],\"scattergl\":[{\"marker\":{\"colorbar\":{\"outlinewidth\":0,\"ticks\":\"\"}},\"type\":\"scattergl\"}],\"scattermapbox\":[{\"marker\":{\"colorbar\":{\"outlinewidth\":0,\"ticks\":\"\"}},\"type\":\"scattermapbox\"}],\"scattermap\":[{\"marker\":{\"colorbar\":{\"outlinewidth\":0,\"ticks\":\"\"}},\"type\":\"scattermap\"}],\"scatterpolargl\":[{\"marker\":{\"colorbar\":{\"outlinewidth\":0,\"ticks\":\"\"}},\"type\":\"scatterpolargl\"}],\"scatterpolar\":[{\"marker\":{\"colorbar\":{\"outlinewidth\":0,\"ticks\":\"\"}},\"type\":\"scatterpolar\"}],\"scatter\":[{\"fillpattern\":{\"fillmode\":\"overlay\",\"size\":10,\"solidity\":0.2},\"type\":\"scatter\"}],\"scatterternary\":[{\"marker\":{\"colorbar\":{\"outlinewidth\":0,\"ticks\":\"\"}},\"type\":\"scatterternary\"}],\"surface\":[{\"colorbar\":{\"outlinewidth\":0,\"ticks\":\"\"},\"colorscale\":[[0.0,\"#0d0887\"],[0.1111111111111111,\"#46039f\"],[0.2222222222222222,\"#7201a8\"],[0.3333333333333333,\"#9c179e\"],[0.4444444444444444,\"#bd3786\"],[0.5555555555555556,\"#d8576b\"],[0.6666666666666666,\"#ed7953\"],[0.7777777777777778,\"#fb9f3a\"],[0.8888888888888888,\"#fdca26\"],[1.0,\"#f0f921\"]],\"type\":\"surface\"}],\"table\":[{\"cells\":{\"fill\":{\"color\":\"#EBF0F8\"},\"line\":{\"color\":\"white\"}},\"header\":{\"fill\":{\"color\":\"#C8D4E3\"},\"line\":{\"color\":\"white\"}},\"type\":\"table\"}]},\"layout\":{\"annotationdefaults\":{\"arrowcolor\":\"#2a3f5f\",\"arrowhead\":0,\"arrowwidth\":1},\"autotypenumbers\":\"strict\",\"coloraxis\":{\"colorbar\":{\"outlinewidth\":0,\"ticks\":\"\"}},\"colorscale\":{\"diverging\":[[0,\"#8e0152\"],[0.1,\"#c51b7d\"],[0.2,\"#de77ae\"],[0.3,\"#f1b6da\"],[0.4,\"#fde0ef\"],[0.5,\"#f7f7f7\"],[0.6,\"#e6f5d0\"],[0.7,\"#b8e186\"],[0.8,\"#7fbc41\"],[0.9,\"#4d9221\"],[1,\"#276419\"]],\"sequential\":[[0.0,\"#0d0887\"],[0.1111111111111111,\"#46039f\"],[0.2222222222222222,\"#7201a8\"],[0.3333333333333333,\"#9c179e\"],[0.4444444444444444,\"#bd3786\"],[0.5555555555555556,\"#d8576b\"],[0.6666666666666666,\"#ed7953\"],[0.7777777777777778,\"#fb9f3a\"],[0.8888888888888888,\"#fdca26\"],[1.0,\"#f0f921\"]],\"sequentialminus\":[[0.0,\"#0d0887\"],[0.1111111111111111,\"#46039f\"],[0.2222222222222222,\"#7201a8\"],[0.3333333333333333,\"#9c179e\"],[0.4444444444444444,\"#bd3786\"],[0.5555555555555556,\"#d8576b\"],[0.6666666666666666,\"#ed7953\"],[0.7777777777777778,\"#fb9f3a\"],[0.8888888888888888,\"#fdca26\"],[1.0,\"#f0f921\"]]},\"colorway\":[\"#636efa\",\"#EF553B\",\"#00cc96\",\"#ab63fa\",\"#FFA15A\",\"#19d3f3\",\"#FF6692\",\"#B6E880\",\"#FF97FF\",\"#FECB52\"],\"font\":{\"color\":\"#2a3f5f\"},\"geo\":{\"bgcolor\":\"white\",\"lakecolor\":\"white\",\"landcolor\":\"white\",\"showlakes\":true,\"showland\":true,\"subunitcolor\":\"#C8D4E3\"},\"hoverlabel\":{\"align\":\"left\"},\"hovermode\":\"closest\",\"mapbox\":{\"style\":\"light\"},\"paper_bgcolor\":\"white\",\"plot_bgcolor\":\"white\",\"polar\":{\"angularaxis\":{\"gridcolor\":\"#EBF0F8\",\"linecolor\":\"#EBF0F8\",\"ticks\":\"\"},\"bgcolor\":\"white\",\"radialaxis\":{\"gridcolor\":\"#EBF0F8\",\"linecolor\":\"#EBF0F8\",\"ticks\":\"\"}},\"scene\":{\"xaxis\":{\"backgroundcolor\":\"white\",\"gridcolor\":\"#DFE8F3\",\"gridwidth\":2,\"linecolor\":\"#EBF0F8\",\"showbackground\":true,\"ticks\":\"\",\"zerolinecolor\":\"#EBF0F8\"},\"yaxis\":{\"backgroundcolor\":\"white\",\"gridcolor\":\"#DFE8F3\",\"gridwidth\":2,\"linecolor\":\"#EBF0F8\",\"showbackground\":true,\"ticks\":\"\",\"zerolinecolor\":\"#EBF0F8\"},\"zaxis\":{\"backgroundcolor\":\"white\",\"gridcolor\":\"#DFE8F3\",\"gridwidth\":2,\"linecolor\":\"#EBF0F8\",\"showbackground\":true,\"ticks\":\"\",\"zerolinecolor\":\"#EBF0F8\"}},\"shapedefaults\":{\"line\":{\"color\":\"#2a3f5f\"}},\"ternary\":{\"aaxis\":{\"gridcolor\":\"#DFE8F3\",\"linecolor\":\"#A2B1C6\",\"ticks\":\"\"},\"baxis\":{\"gridcolor\":\"#DFE8F3\",\"linecolor\":\"#A2B1C6\",\"ticks\":\"\"},\"bgcolor\":\"white\",\"caxis\":{\"gridcolor\":\"#DFE8F3\",\"linecolor\":\"#A2B1C6\",\"ticks\":\"\"}},\"title\":{\"x\":0.05},\"xaxis\":{\"automargin\":true,\"gridcolor\":\"#EBF0F8\",\"linecolor\":\"#EBF0F8\",\"ticks\":\"\",\"title\":{\"standoff\":15},\"zerolinecolor\":\"#EBF0F8\",\"zerolinewidth\":2},\"yaxis\":{\"automargin\":true,\"gridcolor\":\"#EBF0F8\",\"linecolor\":\"#EBF0F8\",\"ticks\":\"\",\"title\":{\"standoff\":15},\"zerolinecolor\":\"#EBF0F8\",\"zerolinewidth\":2}}},\"xaxis\":{\"anchor\":\"y\",\"domain\":[0.0,1.0],\"title\":{\"text\":\"\\u003cb\\u003elabel name\\u003c\\u002fb\\u003e\"},\"categoryorder\":\"array\",\"categoryarray\":[\"stomach\",\"small bowel\",\"colon\",\"liver\",\"pancreas\",\"kidney\",\"spleen\",\"omentum\",\"lung\",\"skin\",\"peritoneum\",\"background\"]},\"yaxis\":{\"anchor\":\"x\",\"domain\":[0.0,0.2866666666666666],\"title\":{\"text\":\"\\u003cb\\u003e# images\\u003c\\u002fb\\u003e\",\"standoff\":5},\"tickformat\":\",\"},\"xaxis2\":{\"anchor\":\"y2\",\"domain\":[0.0,1.0],\"matches\":\"x\",\"showticklabels\":false},\"yaxis2\":{\"anchor\":\"x2\",\"domain\":[0.35666666666666663,0.6433333333333333],\"title\":{\"text\":\"\\u003cb\\u003e# images\\u003c\\u002fb\\u003e\",\"standoff\":5},\"tickformat\":\",\"},\"xaxis3\":{\"anchor\":\"y3\",\"domain\":[0.0,1.0],\"matches\":\"x\",\"showticklabels\":false},\"yaxis3\":{\"anchor\":\"x3\",\"domain\":[0.7133333333333333,0.9999999999999999],\"title\":{\"text\":\"\\u003cb\\u003e# images\\u003c\\u002fb\\u003e\",\"standoff\":5},\"tickformat\":\",\"},\"annotations\":[{\"showarrow\":false,\"text\":\"\",\"x\":0.5,\"xanchor\":\"center\",\"xref\":\"paper\",\"y\":0.2866666666666666,\"yanchor\":\"bottom\",\"yref\":\"paper\",\"font\":{\"size\":20}},{\"showarrow\":false,\"text\":\"\",\"x\":0.5,\"xanchor\":\"center\",\"xref\":\"paper\",\"y\":0.6433333333333333,\"yanchor\":\"bottom\",\"yref\":\"paper\",\"font\":{\"size\":20}},{\"showarrow\":false,\"text\":\"\",\"x\":0.5,\"xanchor\":\"center\",\"xref\":\"paper\",\"y\":0.9999999999999999,\"yanchor\":\"bottom\",\"yref\":\"paper\",\"font\":{\"size\":20}},{\"showarrow\":false,\"text\":\"213\",\"x\":\"background\",\"xanchor\":\"center\",\"xref\":\"x\",\"y\":792,\"yanchor\":\"bottom\",\"yref\":\"y\",\"font\":{\"size\":20}},{\"showarrow\":false,\"text\":\"126\",\"x\":\"colon\",\"xanchor\":\"center\",\"xref\":\"x\",\"y\":379,\"yanchor\":\"bottom\",\"yref\":\"y\",\"font\":{\"size\":20}},{\"showarrow\":false,\"text\":\"49\",\"x\":\"kidney\",\"xanchor\":\"center\",\"xref\":\"x\",\"y\":162,\"yanchor\":\"bottom\",\"yref\":\"y\",\"font\":{\"size\":20}},{\"showarrow\":false,\"text\":\"145\",\"x\":\"liver\",\"xanchor\":\"center\",\"xref\":\"x\",\"y\":688,\"yanchor\":\"bottom\",\"yref\":\"y\",\"font\":{\"size\":20}},{\"showarrow\":false,\"text\":\"10\",\"x\":\"lung\",\"xanchor\":\"center\",\"xref\":\"x\",\"y\":56,\"yanchor\":\"bottom\",\"yref\":\"y\",\"font\":{\"size\":20}},{\"showarrow\":false,\"text\":\"146\",\"x\":\"omentum\",\"xanchor\":\"center\",\"xref\":\"x\",\"y\":486,\"yanchor\":\"bottom\",\"yref\":\"y\",\"font\":{\"size\":20}},{\"showarrow\":false,\"text\":\"41\",\"x\":\"pancreas\",\"xanchor\":\"center\",\"xref\":\"x\",\"y\":109,\"yanchor\":\"bottom\",\"yref\":\"y\",\"font\":{\"size\":20}},{\"showarrow\":false,\"text\":\"51\",\"x\":\"peritoneum\",\"xanchor\":\"center\",\"xref\":\"x\",\"y\":160,\"yanchor\":\"bottom\",\"yref\":\"y\",\"font\":{\"size\":20}},{\"showarrow\":false,\"text\":\"96\",\"x\":\"skin\",\"xanchor\":\"center\",\"xref\":\"x\",\"y\":295,\"yanchor\":\"bottom\",\"yref\":\"y\",\"font\":{\"size\":20}},{\"showarrow\":false,\"text\":\"136\",\"x\":\"small bowel\",\"xanchor\":\"center\",\"xref\":\"x\",\"y\":352,\"yanchor\":\"bottom\",\"yref\":\"y\",\"font\":{\"size\":20}},{\"showarrow\":false,\"text\":\"45\",\"x\":\"spleen\",\"xanchor\":\"center\",\"xref\":\"x\",\"y\":550,\"yanchor\":\"bottom\",\"yref\":\"y\",\"font\":{\"size\":20}},{\"showarrow\":false,\"text\":\"122\",\"x\":\"stomach\",\"xanchor\":\"center\",\"xref\":\"x\",\"y\":322,\"yanchor\":\"bottom\",\"yref\":\"y\",\"font\":{\"size\":20}},{\"showarrow\":false,\"text\":\"13\",\"x\":\"background\",\"xanchor\":\"center\",\"xref\":\"x2\",\"y\":597,\"yanchor\":\"bottom\",\"yref\":\"y2\",\"font\":{\"size\":20}},{\"showarrow\":false,\"text\":\"30\",\"x\":\"colon\",\"xanchor\":\"center\",\"xref\":\"x2\",\"y\":2806,\"yanchor\":\"bottom\",\"yref\":\"y2\",\"font\":{\"size\":20}},{\"showarrow\":false,\"text\":\"30\",\"x\":\"kidney\",\"xanchor\":\"center\",\"xref\":\"x2\",\"y\":3224,\"yanchor\":\"bottom\",\"yref\":\"y2\",\"font\":{\"size\":20}},{\"showarrow\":false,\"text\":\"30\",\"x\":\"liver\",\"xanchor\":\"center\",\"xref\":\"x2\",\"y\":2911,\"yanchor\":\"bottom\",\"yref\":\"y2\",\"font\":{\"size\":20}},{\"showarrow\":false,\"text\":\"13\",\"x\":\"lung\",\"xanchor\":\"center\",\"xref\":\"x2\",\"y\":467,\"yanchor\":\"bottom\",\"yref\":\"y2\",\"font\":{\"size\":20}},{\"showarrow\":false,\"text\":\"19\",\"x\":\"omentum\",\"xanchor\":\"center\",\"xref\":\"x2\",\"y\":1728,\"yanchor\":\"bottom\",\"yref\":\"y2\",\"font\":{\"size\":20}},{\"showarrow\":false,\"text\":\"19\",\"x\":\"pancreas\",\"xanchor\":\"center\",\"xref\":\"x2\",\"y\":1615,\"yanchor\":\"bottom\",\"yref\":\"y2\",\"font\":{\"size\":20}},{\"showarrow\":false,\"text\":\"19\",\"x\":\"peritoneum\",\"xanchor\":\"center\",\"xref\":\"x2\",\"y\":1997,\"yanchor\":\"bottom\",\"yref\":\"y2\",\"font\":{\"size\":20}},{\"showarrow\":false,\"text\":\"13\",\"x\":\"skin\",\"xanchor\":\"center\",\"xref\":\"x2\",\"y\":833,\"yanchor\":\"bottom\",\"yref\":\"y2\",\"font\":{\"size\":20}},{\"showarrow\":false,\"text\":\"19\",\"x\":\"small bowel\",\"xanchor\":\"center\",\"xref\":\"x2\",\"y\":1939,\"yanchor\":\"bottom\",\"yref\":\"y2\",\"font\":{\"size\":20}},{\"showarrow\":false,\"text\":\"24\",\"x\":\"spleen\",\"xanchor\":\"center\",\"xref\":\"x2\",\"y\":1651,\"yanchor\":\"bottom\",\"yref\":\"y2\",\"font\":{\"size\":20}},{\"showarrow\":false,\"text\":\"19\",\"x\":\"stomach\",\"xanchor\":\"center\",\"xref\":\"x2\",\"y\":1745,\"yanchor\":\"bottom\",\"yref\":\"y2\",\"font\":{\"size\":20}},{\"showarrow\":false,\"text\":\"20\",\"x\":\"background\",\"xanchor\":\"center\",\"xref\":\"x3\",\"y\":506,\"yanchor\":\"bottom\",\"yref\":\"y3\",\"font\":{\"size\":20}},{\"showarrow\":false,\"text\":\"39\",\"x\":\"colon\",\"xanchor\":\"center\",\"xref\":\"x3\",\"y\":908,\"yanchor\":\"bottom\",\"yref\":\"y3\",\"font\":{\"size\":20}},{\"showarrow\":false,\"text\":\"31\",\"x\":\"kidney\",\"xanchor\":\"center\",\"xref\":\"x3\",\"y\":920,\"yanchor\":\"bottom\",\"yref\":\"y3\",\"font\":{\"size\":20}},{\"showarrow\":false,\"text\":\"39\",\"x\":\"liver\",\"xanchor\":\"center\",\"xref\":\"x3\",\"y\":912,\"yanchor\":\"bottom\",\"yref\":\"y3\",\"font\":{\"size\":20}},{\"showarrow\":false,\"text\":\"16\",\"x\":\"lung\",\"xanchor\":\"center\",\"xref\":\"x3\",\"y\":367,\"yanchor\":\"bottom\",\"yref\":\"y3\",\"font\":{\"size\":20}},{\"showarrow\":false,\"text\":\"32\",\"x\":\"omentum\",\"xanchor\":\"center\",\"xref\":\"x3\",\"y\":516,\"yanchor\":\"bottom\",\"yref\":\"y3\",\"font\":{\"size\":20}},{\"showarrow\":false,\"text\":\"24\",\"x\":\"pancreas\",\"xanchor\":\"center\",\"xref\":\"x3\",\"y\":390,\"yanchor\":\"bottom\",\"yref\":\"y3\",\"font\":{\"size\":20}},{\"showarrow\":false,\"text\":\"34\",\"x\":\"peritoneum\",\"xanchor\":\"center\",\"xref\":\"x3\",\"y\":731,\"yanchor\":\"bottom\",\"yref\":\"y3\",\"font\":{\"size\":20}},{\"showarrow\":false,\"text\":\"27\",\"x\":\"skin\",\"xanchor\":\"center\",\"xref\":\"x3\",\"y\":597,\"yanchor\":\"bottom\",\"yref\":\"y3\",\"font\":{\"size\":20}},{\"showarrow\":false,\"text\":\"39\",\"x\":\"small bowel\",\"xanchor\":\"center\",\"xref\":\"x3\",\"y\":942,\"yanchor\":\"bottom\",\"yref\":\"y3\",\"font\":{\"size\":20}},{\"showarrow\":false,\"text\":\"31\",\"x\":\"spleen\",\"xanchor\":\"center\",\"xref\":\"x3\",\"y\":710,\"yanchor\":\"bottom\",\"yref\":\"y3\",\"font\":{\"size\":20}},{\"showarrow\":false,\"text\":\"42\",\"x\":\"stomach\",\"xanchor\":\"center\",\"xref\":\"x3\",\"y\":743,\"yanchor\":\"bottom\",\"yref\":\"y3\",\"font\":{\"size\":20}}],\"legend\":{\"title\":{\"text\":\"subject_name\"},\"tracegroupgap\":0},\"margin\":{\"t\":60},\"barmode\":\"relative\",\"height\":1200,\"width\":1200,\"font\":{\"family\":\"Libertinus Sans\",\"size\":16},\"showlegend\":false},                        {\"responsive\": true}                    ).then(function(){\n",
       "                            \n",
       "var gd = document.getElementById('cd072cd8-be6f-4f62-ac4c-09c28206e7e3');\n",
       "var x = new MutationObserver(function (mutations, observer) {{\n",
       "        var display = window.getComputedStyle(gd).display;\n",
       "        if (!display || display === 'none') {{\n",
       "            console.log([gd, 'removed!']);\n",
       "            Plotly.purge(gd);\n",
       "            observer.disconnect();\n",
       "        }}\n",
       "}});\n",
       "\n",
       "// Listen for the removal of the full notebook cells\n",
       "var notebookContainer = gd.closest('#notebook-container');\n",
       "if (notebookContainer) {{\n",
       "    x.observe(notebookContainer, {childList: true});\n",
       "}}\n",
       "\n",
       "// Listen for the clearing of the current output cell\n",
       "var outputEl = gd.closest('.output');\n",
       "if (outputEl) {{\n",
       "    x.observe(outputEl, {childList: true});\n",
       "}}\n",
       "\n",
       "                        })                };            </script>        </div>"
      ]
     },
     "metadata": {},
     "output_type": "display_data"
    }
   ],
   "source": [
    "df = paper_table()\n",
    "assert pd.isna(df[\"species_name\"]).sum() == 0\n",
    "\n",
    "df_labels = df.groupby([\"species_name\", \"label_name\", \"subject_name\"], as_index=False).agg(\n",
    "    n_images=pd.NamedAgg(column=\"image_name\", aggfunc=\"nunique\")\n",
    ")\n",
    "df_labels[\"species_name\"] = df_labels[\"species_name\"].astype(\"category\")\n",
    "df_labels[\"species_name\"] = df_labels[\"species_name\"].cat.set_categories(settings_species.species_colors.keys())\n",
    "\n",
    "df_labels = sort_labels(df_labels, sorting_cols=[\"species_name\", \"subject_name\", \"label_name\"])\n",
    "labels = sort_labels(df_labels.label_name.unique())\n",
    "labels_plotly = [settings_rat.labels_paper_renaming.get(l, l) for l in labels]\n",
    "df_labels = df_labels.replace(labels, labels_plotly)\n",
    "\n",
    "colors = {}\n",
    "for i, row in df_labels.iterrows():\n",
    "    if row[\"subject_name\"] not in colors:\n",
    "        colors[row[\"subject_name\"]] = settings_species.species_colors[row[\"species_name\"]]\n",
    "\n",
    "fig = px.bar(\n",
    "    df_labels,\n",
    "    x=\"label_name\",\n",
    "    y=\"n_images\",\n",
    "    color=\"subject_name\",\n",
    "    facet_col=\"species_name\",\n",
    "    facet_col_wrap=1,\n",
    "    color_discrete_map=colors,\n",
    "    category_orders={\"label_name\": labels_plotly},\n",
    ")\n",
    "\n",
    "for row_idx, species in enumerate(reversed(settings_species.species_colors.keys())):\n",
    "    df_labels_species = df_labels[df_labels.species_name == species]\n",
    "    df_labels_species = df_labels_species.groupby(\"label_name\", as_index=False).agg(\n",
    "        n_subjects=pd.NamedAgg(column=\"subject_name\", aggfunc=\"nunique\")\n",
    "    )\n",
    "    for i, row_data in df_labels_species.iterrows():\n",
    "        n_images = df_labels[\n",
    "            (df_labels.species_name == species) & (df_labels.label_name == row_data[\"label_name\"])\n",
    "        ].n_images.sum()\n",
    "        fig.add_annotation(\n",
    "            x=row_data[\"label_name\"],\n",
    "            y=n_images,\n",
    "            text=row_data[\"n_subjects\"],\n",
    "            xanchor=\"center\",\n",
    "            yanchor=\"bottom\",\n",
    "            xref=\"x\",\n",
    "            yref=\"y\",\n",
    "            showarrow=False,\n",
    "            row=row_idx + 1,\n",
    "            col=1,\n",
    "        )\n",
    "\n",
    "for i, annotation in enumerate(fig.layout.annotations):\n",
    "    if \"species_name\" in fig.layout.annotations[i].text:\n",
    "        fig.layout.annotations[i].text = \"\"\n",
    "\n",
    "fig.update_yaxes(matches=None)\n",
    "fig.update_xaxes(title=\"<b>label name</b>\", row=1)\n",
    "fig.update_yaxes(title=\"<b># images</b>\", title_standoff=5)\n",
    "fig.update_layout(height=1200, width=1200, template=\"plotly_white\")\n",
    "fig.update_layout(font_family=\"Libertinus Sans\", font_size=16)\n",
    "fig.update_layout(showlegend=False)\n",
    "fig.update_annotations(font=dict(size=20))\n",
    "fig.update_yaxes(tickformat=\",\")\n",
    "fig.write_image(settings_species.paper_dir / \"data_statistics.pdf\")\n",
    "fig.show()"
   ]
  }
 ],
 "metadata": {
  "kernelspec": {
   "display_name": "htc",
   "language": "python",
   "name": "python3"
  },
  "language_info": {
   "codemirror_mode": {
    "name": "ipython",
    "version": 3
   },
   "file_extension": ".py",
   "mimetype": "text/x-python",
   "name": "python",
   "nbconvert_exporter": "python",
   "pygments_lexer": "ipython3",
   "version": "3.13.2"
  }
 },
 "nbformat": 4,
 "nbformat_minor": 2
}
