{
 "cells": [
  {
   "cell_type": "code",
   "execution_count": 1,
   "metadata": {},
   "outputs": [],
   "source": [
    "%load_ext autoreload\n",
    "%autoreload 2\n",
    "\n",
    "import pandas as pd\n",
    "import plotly.express as px\n",
    "import plotly.io as pio\n",
    "\n",
    "from htc.utils.helper_functions import sort_labels\n",
    "from htc_projects.rat.settings_rat import settings_rat\n",
    "from htc_projects.species.settings_species import settings_species\n",
    "from htc_projects.species.tables import paper_table\n",
    "\n",
    "pio.kaleido.scope.mathjax = None"
   ]
  },
  {
   "cell_type": "code",
   "execution_count": 2,
   "metadata": {},
   "outputs": [
    {
     "data": {
      "text/html": [
       "        <script type=\"text/javascript\">\n",
       "        window.PlotlyConfig = {MathJaxConfig: 'local'};\n",
       "        if (window.MathJax && window.MathJax.Hub && window.MathJax.Hub.Config) {window.MathJax.Hub.Config({SVG: {font: \"STIX-Web\"}});}\n",
       "        if (typeof require !== 'undefined') {\n",
       "        require.undef(\"plotly\");\n",
       "        requirejs.config({\n",
       "            paths: {\n",
       "                'plotly': ['https://cdn.plot.ly/plotly-2.35.2.min']\n",
       "            }\n",
       "        });\n",
       "        require(['plotly'], function(Plotly) {\n",
       "            window._Plotly = Plotly;\n",
       "        });\n",
       "        }\n",
       "        </script>\n",
       "        "
      ]
     },
     "metadata": {},
     "output_type": "display_data"
    },
    {
     "data": {
      "application/vnd.plotly.v1+json": {
       "config": {
        "plotlyServerURL": "https://plot.ly"
       },
       "data": [
        {
         "alignmentgroup": "True",
         "hovertemplate": "subject_name=P041<br>species_name=pig<br>label_name=%{x}<br>n_images=%{y}<extra></extra>",
         "legendgroup": "P041",
         "marker": {
          "color": "#44AA99",
          "pattern": {
           "shape": ""
          }
         },
         "name": "P041",
         "offsetgroup": "P041",
         "orientation": "v",
         "showlegend": true,
         "textposition": "auto",
         "type": "bar",
         "x": [
          "stomach",
          "small bowel",
          "colon",
          "liver",
          "spleen",
          "omentum",
          "skin",
          "peritoneum",
          "background"
         ],
         "xaxis": "x3",
         "y": [
          2,
          4,
          4,
          2,
          2,
          2,
          2,
          2,
          4
         ],
         "yaxis": "y3"
        },
        {
         "alignmentgroup": "True",
         "hovertemplate": "subject_name=P043<br>species_name=pig<br>label_name=%{x}<br>n_images=%{y}<extra></extra>",
         "legendgroup": "P043",
         "marker": {
          "color": "#44AA99",
          "pattern": {
           "shape": ""
          }
         },
         "name": "P043",
         "offsetgroup": "P043",
         "orientation": "v",
         "showlegend": true,
         "textposition": "auto",
         "type": "bar",
         "x": [
          "stomach",
          "small bowel",
          "colon",
          "liver",
          "omentum",
          "lung",
          "background"
         ],
         "xaxis": "x3",
         "y": [
          3,
          11,
          11,
          11,
          3,
          10,
          21
         ],
         "yaxis": "y3"
        },
        {
         "alignmentgroup": "True",
         "hovertemplate": "subject_name=P044<br>species_name=pig<br>label_name=%{x}<br>n_images=%{y}<extra></extra>",
         "legendgroup": "P044",
         "marker": {
          "color": "#44AA99",
          "pattern": {
           "shape": ""
          }
         },
         "name": "P044",
         "offsetgroup": "P044",
         "orientation": "v",
         "showlegend": true,
         "textposition": "auto",
         "type": "bar",
         "x": [
          "stomach",
          "small bowel",
          "colon",
          "liver",
          "spleen",
          "omentum",
          "lung",
          "skin",
          "peritoneum",
          "background"
         ],
         "xaxis": "x3",
         "y": [
          5,
          17,
          17,
          14,
          14,
          5,
          6,
          22,
          17,
          23
         ],
         "yaxis": "y3"
        },
        {
         "alignmentgroup": "True",
         "hovertemplate": "subject_name=P045<br>species_name=pig<br>label_name=%{x}<br>n_images=%{y}<extra></extra>",
         "legendgroup": "P045",
         "marker": {
          "color": "#44AA99",
          "pattern": {
           "shape": ""
          }
         },
         "name": "P045",
         "offsetgroup": "P045",
         "orientation": "v",
         "showlegend": true,
         "textposition": "auto",
         "type": "bar",
         "x": [
          "stomach",
          "small bowel",
          "colon",
          "liver",
          "spleen",
          "omentum",
          "lung",
          "skin",
          "peritoneum",
          "background"
         ],
         "xaxis": "x3",
         "y": [
          13,
          17,
          18,
          14,
          15,
          9,
          4,
          18,
          15,
          22
         ],
         "yaxis": "y3"
        },
        {
         "alignmentgroup": "True",
         "hovertemplate": "subject_name=P046<br>species_name=pig<br>label_name=%{x}<br>n_images=%{y}<extra></extra>",
         "legendgroup": "P046",
         "marker": {
          "color": "#44AA99",
          "pattern": {
           "shape": ""
          }
         },
         "name": "P046",
         "offsetgroup": "P046",
         "orientation": "v",
         "showlegend": true,
         "textposition": "auto",
         "type": "bar",
         "x": [
          "stomach",
          "small bowel",
          "colon",
          "liver",
          "spleen",
          "omentum",
          "skin",
          "peritoneum",
          "background"
         ],
         "xaxis": "x3",
         "y": [
          12,
          16,
          14,
          13,
          14,
          13,
          16,
          15,
          16
         ],
         "yaxis": "y3"
        },
        {
         "alignmentgroup": "True",
         "hovertemplate": "subject_name=P047<br>species_name=pig<br>label_name=%{x}<br>n_images=%{y}<extra></extra>",
         "legendgroup": "P047",
         "marker": {
          "color": "#44AA99",
          "pattern": {
           "shape": ""
          }
         },
         "name": "P047",
         "offsetgroup": "P047",
         "orientation": "v",
         "showlegend": true,
         "textposition": "auto",
         "type": "bar",
         "x": [
          "stomach",
          "small bowel",
          "colon",
          "liver",
          "spleen",
          "omentum",
          "skin",
          "peritoneum",
          "background"
         ],
         "xaxis": "x3",
         "y": [
          10,
          10,
          10,
          10,
          10,
          8,
          10,
          10,
          10
         ],
         "yaxis": "y3"
        },
        {
         "alignmentgroup": "True",
         "hovertemplate": "subject_name=P048<br>species_name=pig<br>label_name=%{x}<br>n_images=%{y}<extra></extra>",
         "legendgroup": "P048",
         "marker": {
          "color": "#44AA99",
          "pattern": {
           "shape": ""
          }
         },
         "name": "P048",
         "offsetgroup": "P048",
         "orientation": "v",
         "showlegend": true,
         "textposition": "auto",
         "type": "bar",
         "x": [
          "stomach",
          "small bowel",
          "colon",
          "liver",
          "spleen",
          "skin",
          "peritoneum",
          "background"
         ],
         "xaxis": "x3",
         "y": [
          11,
          15,
          15,
          10,
          11,
          15,
          14,
          15
         ],
         "yaxis": "y3"
        },
        {
         "alignmentgroup": "True",
         "hovertemplate": "subject_name=P049<br>species_name=pig<br>label_name=%{x}<br>n_images=%{y}<extra></extra>",
         "legendgroup": "P049",
         "marker": {
          "color": "#44AA99",
          "pattern": {
           "shape": ""
          }
         },
         "name": "P049",
         "offsetgroup": "P049",
         "orientation": "v",
         "showlegend": true,
         "textposition": "auto",
         "type": "bar",
         "x": [
          "stomach",
          "small bowel",
          "colon",
          "liver",
          "spleen",
          "skin",
          "peritoneum",
          "background"
         ],
         "xaxis": "x3",
         "y": [
          11,
          16,
          16,
          5,
          13,
          16,
          16,
          16
         ],
         "yaxis": "y3"
        },
        {
         "alignmentgroup": "True",
         "hovertemplate": "subject_name=P050<br>species_name=pig<br>label_name=%{x}<br>n_images=%{y}<extra></extra>",
         "legendgroup": "P050",
         "marker": {
          "color": "#44AA99",
          "pattern": {
           "shape": ""
          }
         },
         "name": "P050",
         "offsetgroup": "P050",
         "orientation": "v",
         "showlegend": true,
         "textposition": "auto",
         "type": "bar",
         "x": [
          "stomach",
          "small bowel",
          "colon",
          "liver",
          "spleen",
          "omentum",
          "skin",
          "peritoneum",
          "background"
         ],
         "xaxis": "x3",
         "y": [
          5,
          5,
          5,
          5,
          5,
          5,
          5,
          5,
          5
         ],
         "yaxis": "y3"
        },
        {
         "alignmentgroup": "True",
         "hovertemplate": "subject_name=P057<br>species_name=pig<br>label_name=%{x}<br>n_images=%{y}<extra></extra>",
         "legendgroup": "P057",
         "marker": {
          "color": "#44AA99",
          "pattern": {
           "shape": ""
          }
         },
         "name": "P057",
         "offsetgroup": "P057",
         "orientation": "v",
         "showlegend": true,
         "textposition": "auto",
         "type": "bar",
         "x": [
          "stomach",
          "small bowel",
          "colon",
          "liver",
          "pancreas",
          "spleen",
          "omentum",
          "skin",
          "peritoneum",
          "background"
         ],
         "xaxis": "x3",
         "y": [
          20,
          24,
          20,
          19,
          5,
          21,
          19,
          24,
          24,
          24
         ],
         "yaxis": "y3"
        },
        {
         "alignmentgroup": "True",
         "hovertemplate": "subject_name=P058<br>species_name=pig<br>label_name=%{x}<br>n_images=%{y}<extra></extra>",
         "legendgroup": "P058",
         "marker": {
          "color": "#44AA99",
          "pattern": {
           "shape": ""
          }
         },
         "name": "P058",
         "offsetgroup": "P058",
         "orientation": "v",
         "showlegend": true,
         "textposition": "auto",
         "type": "bar",
         "x": [
          "stomach",
          "small bowel",
          "colon",
          "liver",
          "pancreas",
          "kidney",
          "spleen",
          "omentum",
          "lung",
          "skin",
          "peritoneum",
          "background"
         ],
         "xaxis": "x3",
         "y": [
          8,
          29,
          32,
          35,
          14,
          8,
          17,
          17,
          13,
          19,
          24,
          53
         ],
         "yaxis": "y3"
        },
        {
         "alignmentgroup": "True",
         "hovertemplate": "subject_name=P059<br>species_name=pig<br>label_name=%{x}<br>n_images=%{y}<extra></extra>",
         "legendgroup": "P059",
         "marker": {
          "color": "#44AA99",
          "pattern": {
           "shape": ""
          }
         },
         "name": "P059",
         "offsetgroup": "P059",
         "orientation": "v",
         "showlegend": true,
         "textposition": "auto",
         "type": "bar",
         "x": [
          "stomach",
          "small bowel",
          "colon",
          "liver",
          "pancreas",
          "kidney",
          "spleen",
          "omentum",
          "skin",
          "peritoneum",
          "background"
         ],
         "xaxis": "x3",
         "y": [
          2,
          19,
          16,
          8,
          5,
          3,
          4,
          3,
          1,
          6,
          22
         ],
         "yaxis": "y3"
        },
        {
         "alignmentgroup": "True",
         "hovertemplate": "subject_name=P060<br>species_name=pig<br>label_name=%{x}<br>n_images=%{y}<extra></extra>",
         "legendgroup": "P060",
         "marker": {
          "color": "#44AA99",
          "pattern": {
           "shape": ""
          }
         },
         "name": "P060",
         "offsetgroup": "P060",
         "orientation": "v",
         "showlegend": true,
         "textposition": "auto",
         "type": "bar",
         "x": [
          "stomach",
          "small bowel",
          "colon",
          "liver",
          "pancreas",
          "spleen",
          "omentum",
          "lung",
          "skin",
          "peritoneum",
          "background"
         ],
         "xaxis": "x3",
         "y": [
          26,
          36,
          26,
          28,
          8,
          24,
          16,
          14,
          13,
          18,
          50
         ],
         "yaxis": "y3"
        },
        {
         "alignmentgroup": "True",
         "hovertemplate": "subject_name=P061<br>species_name=pig<br>label_name=%{x}<br>n_images=%{y}<extra></extra>",
         "legendgroup": "P061",
         "marker": {
          "color": "#44AA99",
          "pattern": {
           "shape": ""
          }
         },
         "name": "P061",
         "offsetgroup": "P061",
         "orientation": "v",
         "showlegend": true,
         "textposition": "auto",
         "type": "bar",
         "x": [
          "stomach",
          "small bowel",
          "colon",
          "liver",
          "pancreas",
          "kidney",
          "spleen",
          "omentum",
          "skin",
          "peritoneum",
          "background"
         ],
         "xaxis": "x3",
         "y": [
          8,
          18,
          12,
          12,
          1,
          6,
          12,
          1,
          18,
          18,
          18
         ],
         "yaxis": "y3"
        },
        {
         "alignmentgroup": "True",
         "hovertemplate": "subject_name=P062<br>species_name=pig<br>label_name=%{x}<br>n_images=%{y}<extra></extra>",
         "legendgroup": "P062",
         "marker": {
          "color": "#44AA99",
          "pattern": {
           "shape": ""
          }
         },
         "name": "P062",
         "offsetgroup": "P062",
         "orientation": "v",
         "showlegend": true,
         "textposition": "auto",
         "type": "bar",
         "x": [
          "stomach",
          "small bowel",
          "colon",
          "liver",
          "pancreas",
          "kidney",
          "spleen",
          "omentum",
          "lung",
          "skin",
          "peritoneum",
          "background"
         ],
         "xaxis": "x3",
         "y": [
          33,
          47,
          25,
          31,
          6,
          17,
          18,
          23,
          12,
          29,
          26,
          59
         ],
         "yaxis": "y3"
        },
        {
         "alignmentgroup": "True",
         "hovertemplate": "subject_name=P068<br>species_name=pig<br>label_name=%{x}<br>n_images=%{y}<extra></extra>",
         "legendgroup": "P068",
         "marker": {
          "color": "#44AA99",
          "pattern": {
           "shape": ""
          }
         },
         "name": "P068",
         "offsetgroup": "P068",
         "orientation": "v",
         "showlegend": true,
         "textposition": "auto",
         "type": "bar",
         "x": [
          "stomach",
          "small bowel",
          "colon",
          "liver",
          "pancreas",
          "spleen",
          "omentum",
          "skin",
          "peritoneum",
          "background"
         ],
         "xaxis": "x3",
         "y": [
          17,
          23,
          15,
          13,
          5,
          18,
          10,
          9,
          13,
          23
         ],
         "yaxis": "y3"
        },
        {
         "alignmentgroup": "True",
         "hovertemplate": "subject_name=P069<br>species_name=pig<br>label_name=%{x}<br>n_images=%{y}<extra></extra>",
         "legendgroup": "P069",
         "marker": {
          "color": "#44AA99",
          "pattern": {
           "shape": ""
          }
         },
         "name": "P069",
         "offsetgroup": "P069",
         "orientation": "v",
         "showlegend": true,
         "textposition": "auto",
         "type": "bar",
         "x": [
          "stomach",
          "small bowel",
          "colon",
          "liver",
          "spleen",
          "omentum",
          "skin",
          "peritoneum",
          "background"
         ],
         "xaxis": "x3",
         "y": [
          13,
          20,
          20,
          13,
          19,
          13,
          15,
          13,
          20
         ],
         "yaxis": "y3"
        },
        {
         "alignmentgroup": "True",
         "hovertemplate": "subject_name=P070<br>species_name=pig<br>label_name=%{x}<br>n_images=%{y}<extra></extra>",
         "legendgroup": "P070",
         "marker": {
          "color": "#44AA99",
          "pattern": {
           "shape": ""
          }
         },
         "name": "P070",
         "offsetgroup": "P070",
         "orientation": "v",
         "showlegend": true,
         "textposition": "auto",
         "type": "bar",
         "x": [
          "stomach",
          "small bowel",
          "colon",
          "liver",
          "pancreas",
          "spleen",
          "omentum",
          "lung",
          "skin",
          "peritoneum",
          "background"
         ],
         "xaxis": "x3",
         "y": [
          19,
          25,
          25,
          25,
          9,
          16,
          14,
          14,
          28,
          25,
          39
         ],
         "yaxis": "y3"
        },
        {
         "alignmentgroup": "True",
         "hovertemplate": "subject_name=P071<br>species_name=pig<br>label_name=%{x}<br>n_images=%{y}<extra></extra>",
         "legendgroup": "P071",
         "marker": {
          "color": "#44AA99",
          "pattern": {
           "shape": ""
          }
         },
         "name": "P071",
         "offsetgroup": "P071",
         "orientation": "v",
         "showlegend": true,
         "textposition": "auto",
         "type": "bar",
         "x": [
          "stomach",
          "small bowel",
          "colon",
          "liver",
          "pancreas",
          "spleen",
          "omentum",
          "skin",
          "peritoneum",
          "background"
         ],
         "xaxis": "x3",
         "y": [
          19,
          15,
          7,
          10,
          7,
          12,
          14,
          14,
          1,
          19
         ],
         "yaxis": "y3"
        },
        {
         "alignmentgroup": "True",
         "hovertemplate": "subject_name=P072<br>species_name=pig<br>label_name=%{x}<br>n_images=%{y}<extra></extra>",
         "legendgroup": "P072",
         "marker": {
          "color": "#44AA99",
          "pattern": {
           "shape": ""
          }
         },
         "name": "P072",
         "offsetgroup": "P072",
         "orientation": "v",
         "showlegend": true,
         "textposition": "auto",
         "type": "bar",
         "x": [
          "stomach",
          "small bowel",
          "colon",
          "liver",
          "pancreas",
          "kidney",
          "spleen",
          "omentum",
          "lung",
          "skin",
          "peritoneum",
          "background"
         ],
         "xaxis": "x3",
         "y": [
          27,
          38,
          23,
          36,
          7,
          9,
          25,
          18,
          6,
          35,
          37,
          47
         ],
         "yaxis": "y3"
        },
        {
         "alignmentgroup": "True",
         "hovertemplate": "subject_name=P079<br>species_name=pig<br>label_name=%{x}<br>n_images=%{y}<extra></extra>",
         "legendgroup": "P079",
         "marker": {
          "color": "#44AA99",
          "pattern": {
           "shape": ""
          }
         },
         "name": "P079",
         "offsetgroup": "P079",
         "orientation": "v",
         "showlegend": true,
         "textposition": "auto",
         "type": "bar",
         "x": [
          "kidney"
         ],
         "xaxis": "x3",
         "y": [
          30
         ],
         "yaxis": "y3"
        },
        {
         "alignmentgroup": "True",
         "hovertemplate": "subject_name=P080<br>species_name=pig<br>label_name=%{x}<br>n_images=%{y}<extra></extra>",
         "legendgroup": "P080",
         "marker": {
          "color": "#44AA99",
          "pattern": {
           "shape": ""
          }
         },
         "name": "P080",
         "offsetgroup": "P080",
         "orientation": "v",
         "showlegend": true,
         "textposition": "auto",
         "type": "bar",
         "x": [
          "kidney"
         ],
         "xaxis": "x3",
         "y": [
          70
         ],
         "yaxis": "y3"
        },
        {
         "alignmentgroup": "True",
         "hovertemplate": "subject_name=P081<br>species_name=pig<br>label_name=%{x}<br>n_images=%{y}<extra></extra>",
         "legendgroup": "P081",
         "marker": {
          "color": "#44AA99",
          "pattern": {
           "shape": ""
          }
         },
         "name": "P081",
         "offsetgroup": "P081",
         "orientation": "v",
         "showlegend": true,
         "textposition": "auto",
         "type": "bar",
         "x": [
          "kidney"
         ],
         "xaxis": "x3",
         "y": [
          41
         ],
         "yaxis": "y3"
        },
        {
         "alignmentgroup": "True",
         "hovertemplate": "subject_name=P082<br>species_name=pig<br>label_name=%{x}<br>n_images=%{y}<extra></extra>",
         "legendgroup": "P082",
         "marker": {
          "color": "#44AA99",
          "pattern": {
           "shape": ""
          }
         },
         "name": "P082",
         "offsetgroup": "P082",
         "orientation": "v",
         "showlegend": true,
         "textposition": "auto",
         "type": "bar",
         "x": [
          "kidney"
         ],
         "xaxis": "x3",
         "y": [
          31
         ],
         "yaxis": "y3"
        },
        {
         "alignmentgroup": "True",
         "hovertemplate": "subject_name=P083<br>species_name=pig<br>label_name=%{x}<br>n_images=%{y}<extra></extra>",
         "legendgroup": "P083",
         "marker": {
          "color": "#44AA99",
          "pattern": {
           "shape": ""
          }
         },
         "name": "P083",
         "offsetgroup": "P083",
         "orientation": "v",
         "showlegend": true,
         "textposition": "auto",
         "type": "bar",
         "x": [
          "kidney"
         ],
         "xaxis": "x3",
         "y": [
          30
         ],
         "yaxis": "y3"
        },
        {
         "alignmentgroup": "True",
         "hovertemplate": "subject_name=P084<br>species_name=pig<br>label_name=%{x}<br>n_images=%{y}<extra></extra>",
         "legendgroup": "P084",
         "marker": {
          "color": "#44AA99",
          "pattern": {
           "shape": ""
          }
         },
         "name": "P084",
         "offsetgroup": "P084",
         "orientation": "v",
         "showlegend": true,
         "textposition": "auto",
         "type": "bar",
         "x": [
          "kidney"
         ],
         "xaxis": "x3",
         "y": [
          26
         ],
         "yaxis": "y3"
        },
        {
         "alignmentgroup": "True",
         "hovertemplate": "subject_name=P086<br>species_name=pig<br>label_name=%{x}<br>n_images=%{y}<extra></extra>",
         "legendgroup": "P086",
         "marker": {
          "color": "#44AA99",
          "pattern": {
           "shape": ""
          }
         },
         "name": "P086",
         "offsetgroup": "P086",
         "orientation": "v",
         "showlegend": true,
         "textposition": "auto",
         "type": "bar",
         "x": [
          "stomach",
          "small bowel",
          "colon",
          "liver",
          "pancreas",
          "kidney",
          "spleen",
          "lung",
          "skin",
          "peritoneum"
         ],
         "xaxis": "x3",
         "y": [
          36,
          36,
          36,
          36,
          36,
          36,
          36,
          36,
          36,
          36
         ],
         "yaxis": "y3"
        },
        {
         "alignmentgroup": "True",
         "hovertemplate": "subject_name=P087<br>species_name=pig<br>label_name=%{x}<br>n_images=%{y}<extra></extra>",
         "legendgroup": "P087",
         "marker": {
          "color": "#44AA99",
          "pattern": {
           "shape": ""
          }
         },
         "name": "P087",
         "offsetgroup": "P087",
         "orientation": "v",
         "showlegend": true,
         "textposition": "auto",
         "type": "bar",
         "x": [
          "stomach",
          "small bowel",
          "colon",
          "liver",
          "kidney",
          "spleen",
          "omentum",
          "skin"
         ],
         "xaxis": "x3",
         "y": [
          36,
          36,
          36,
          36,
          36,
          36,
          36,
          36
         ],
         "yaxis": "y3"
        },
        {
         "alignmentgroup": "True",
         "hovertemplate": "subject_name=P088<br>species_name=pig<br>label_name=%{x}<br>n_images=%{y}<extra></extra>",
         "legendgroup": "P088",
         "marker": {
          "color": "#44AA99",
          "pattern": {
           "shape": ""
          }
         },
         "name": "P088",
         "offsetgroup": "P088",
         "orientation": "v",
         "showlegend": true,
         "textposition": "auto",
         "type": "bar",
         "x": [
          "small bowel",
          "liver",
          "pancreas",
          "kidney",
          "spleen",
          "omentum",
          "lung",
          "skin",
          "peritoneum"
         ],
         "xaxis": "x3",
         "y": [
          36,
          36,
          36,
          36,
          36,
          36,
          36,
          36,
          36
         ],
         "yaxis": "y3"
        },
        {
         "alignmentgroup": "True",
         "hovertemplate": "subject_name=P089<br>species_name=pig<br>label_name=%{x}<br>n_images=%{y}<extra></extra>",
         "legendgroup": "P089",
         "marker": {
          "color": "#44AA99",
          "pattern": {
           "shape": ""
          }
         },
         "name": "P089",
         "offsetgroup": "P089",
         "orientation": "v",
         "showlegend": true,
         "textposition": "auto",
         "type": "bar",
         "x": [
          "small bowel",
          "colon",
          "liver",
          "pancreas",
          "kidney",
          "spleen",
          "lung",
          "skin"
         ],
         "xaxis": "x3",
         "y": [
          36,
          36,
          36,
          36,
          36,
          36,
          36,
          36
         ],
         "yaxis": "y3"
        },
        {
         "alignmentgroup": "True",
         "hovertemplate": "subject_name=P090<br>species_name=pig<br>label_name=%{x}<br>n_images=%{y}<extra></extra>",
         "legendgroup": "P090",
         "marker": {
          "color": "#44AA99",
          "pattern": {
           "shape": ""
          }
         },
         "name": "P090",
         "offsetgroup": "P090",
         "orientation": "v",
         "showlegend": true,
         "textposition": "auto",
         "type": "bar",
         "x": [
          "stomach",
          "small bowel",
          "pancreas",
          "kidney",
          "spleen",
          "omentum",
          "peritoneum"
         ],
         "xaxis": "x3",
         "y": [
          36,
          36,
          36,
          36,
          36,
          36,
          36
         ],
         "yaxis": "y3"
        },
        {
         "alignmentgroup": "True",
         "hovertemplate": "subject_name=P091<br>species_name=pig<br>label_name=%{x}<br>n_images=%{y}<extra></extra>",
         "legendgroup": "P091",
         "marker": {
          "color": "#44AA99",
          "pattern": {
           "shape": ""
          }
         },
         "name": "P091",
         "offsetgroup": "P091",
         "orientation": "v",
         "showlegend": true,
         "textposition": "auto",
         "type": "bar",
         "x": [
          "kidney",
          "omentum",
          "lung"
         ],
         "xaxis": "x3",
         "y": [
          13,
          36,
          36
         ],
         "yaxis": "y3"
        },
        {
         "alignmentgroup": "True",
         "hovertemplate": "subject_name=P092<br>species_name=pig<br>label_name=%{x}<br>n_images=%{y}<extra></extra>",
         "legendgroup": "P092",
         "marker": {
          "color": "#44AA99",
          "pattern": {
           "shape": ""
          }
         },
         "name": "P092",
         "offsetgroup": "P092",
         "orientation": "v",
         "showlegend": true,
         "textposition": "auto",
         "type": "bar",
         "x": [
          "stomach",
          "colon",
          "pancreas",
          "lung",
          "skin",
          "peritoneum"
         ],
         "xaxis": "x3",
         "y": [
          36,
          36,
          36,
          36,
          36,
          36
         ],
         "yaxis": "y3"
        },
        {
         "alignmentgroup": "True",
         "hovertemplate": "subject_name=P093<br>species_name=pig<br>label_name=%{x}<br>n_images=%{y}<extra></extra>",
         "legendgroup": "P093",
         "marker": {
          "color": "#44AA99",
          "pattern": {
           "shape": ""
          }
         },
         "name": "P093",
         "offsetgroup": "P093",
         "orientation": "v",
         "showlegend": true,
         "textposition": "auto",
         "type": "bar",
         "x": [
          "stomach",
          "colon",
          "liver",
          "pancreas",
          "kidney",
          "spleen",
          "omentum",
          "lung",
          "skin",
          "peritoneum"
         ],
         "xaxis": "x3",
         "y": [
          36,
          36,
          36,
          36,
          36,
          36,
          36,
          36,
          36,
          36
         ],
         "yaxis": "y3"
        },
        {
         "alignmentgroup": "True",
         "hovertemplate": "subject_name=P094<br>species_name=pig<br>label_name=%{x}<br>n_images=%{y}<extra></extra>",
         "legendgroup": "P094",
         "marker": {
          "color": "#44AA99",
          "pattern": {
           "shape": ""
          }
         },
         "name": "P094",
         "offsetgroup": "P094",
         "orientation": "v",
         "showlegend": true,
         "textposition": "auto",
         "type": "bar",
         "x": [
          "stomach",
          "small bowel",
          "colon",
          "liver",
          "pancreas",
          "kidney",
          "spleen",
          "omentum",
          "lung",
          "peritoneum"
         ],
         "xaxis": "x3",
         "y": [
          36,
          36,
          36,
          36,
          36,
          36,
          36,
          36,
          36,
          36
         ],
         "yaxis": "y3"
        },
        {
         "alignmentgroup": "True",
         "hovertemplate": "subject_name=P095<br>species_name=pig<br>label_name=%{x}<br>n_images=%{y}<extra></extra>",
         "legendgroup": "P095",
         "marker": {
          "color": "#44AA99",
          "pattern": {
           "shape": ""
          }
         },
         "name": "P095",
         "offsetgroup": "P095",
         "orientation": "v",
         "showlegend": true,
         "textposition": "auto",
         "type": "bar",
         "x": [
          "stomach",
          "small bowel",
          "colon",
          "liver",
          "pancreas",
          "kidney",
          "spleen",
          "omentum",
          "lung",
          "skin",
          "peritoneum"
         ],
         "xaxis": "x3",
         "y": [
          36,
          36,
          36,
          36,
          36,
          61,
          36,
          36,
          36,
          36,
          36
         ],
         "yaxis": "y3"
        },
        {
         "alignmentgroup": "True",
         "hovertemplate": "subject_name=P096<br>species_name=pig<br>label_name=%{x}<br>n_images=%{y}<extra></extra>",
         "legendgroup": "P096",
         "marker": {
          "color": "#44AA99",
          "pattern": {
           "shape": ""
          }
         },
         "name": "P096",
         "offsetgroup": "P096",
         "orientation": "v",
         "showlegend": true,
         "textposition": "auto",
         "type": "bar",
         "x": [
          "stomach",
          "small bowel",
          "colon",
          "liver",
          "kidney",
          "omentum",
          "skin",
          "peritoneum"
         ],
         "xaxis": "x3",
         "y": [
          36,
          36,
          36,
          36,
          99,
          36,
          36,
          36
         ],
         "yaxis": "y3"
        },
        {
         "alignmentgroup": "True",
         "hovertemplate": "subject_name=P097<br>species_name=pig<br>label_name=%{x}<br>n_images=%{y}<extra></extra>",
         "legendgroup": "P097",
         "marker": {
          "color": "#44AA99",
          "pattern": {
           "shape": ""
          }
         },
         "name": "P097",
         "offsetgroup": "P097",
         "orientation": "v",
         "showlegend": true,
         "textposition": "auto",
         "type": "bar",
         "x": [
          "kidney"
         ],
         "xaxis": "x3",
         "y": [
          50
         ],
         "yaxis": "y3"
        },
        {
         "alignmentgroup": "True",
         "hovertemplate": "subject_name=P098<br>species_name=pig<br>label_name=%{x}<br>n_images=%{y}<extra></extra>",
         "legendgroup": "P098",
         "marker": {
          "color": "#44AA99",
          "pattern": {
           "shape": ""
          }
         },
         "name": "P098",
         "offsetgroup": "P098",
         "orientation": "v",
         "showlegend": true,
         "textposition": "auto",
         "type": "bar",
         "x": [
          "kidney"
         ],
         "xaxis": "x3",
         "y": [
          55
         ],
         "yaxis": "y3"
        },
        {
         "alignmentgroup": "True",
         "hovertemplate": "subject_name=P099<br>species_name=pig<br>label_name=%{x}<br>n_images=%{y}<extra></extra>",
         "legendgroup": "P099",
         "marker": {
          "color": "#44AA99",
          "pattern": {
           "shape": ""
          }
         },
         "name": "P099",
         "offsetgroup": "P099",
         "orientation": "v",
         "showlegend": true,
         "textposition": "auto",
         "type": "bar",
         "x": [
          "kidney"
         ],
         "xaxis": "x3",
         "y": [
          41
         ],
         "yaxis": "y3"
        },
        {
         "alignmentgroup": "True",
         "hovertemplate": "subject_name=R002<br>species_name=rat<br>label_name=%{x}<br>n_images=%{y}<extra></extra>",
         "legendgroup": "R002",
         "marker": {
          "color": "#89CCED",
          "pattern": {
           "shape": ""
          }
         },
         "name": "R002",
         "offsetgroup": "R002",
         "orientation": "v",
         "showlegend": true,
         "textposition": "auto",
         "type": "bar",
         "x": [
          "stomach",
          "small bowel",
          "colon",
          "liver",
          "pancreas",
          "kidney",
          "spleen",
          "omentum",
          "lung",
          "skin",
          "peritoneum",
          "background"
         ],
         "xaxis": "x2",
         "y": [
          48,
          69,
          53,
          68,
          37,
          36,
          55,
          48,
          36,
          75,
          76,
          51
         ],
         "yaxis": "y2"
        },
        {
         "alignmentgroup": "True",
         "hovertemplate": "subject_name=R003<br>species_name=rat<br>label_name=%{x}<br>n_images=%{y}<extra></extra>",
         "legendgroup": "R003",
         "marker": {
          "color": "#89CCED",
          "pattern": {
           "shape": ""
          }
         },
         "name": "R003",
         "offsetgroup": "R003",
         "orientation": "v",
         "showlegend": true,
         "textposition": "auto",
         "type": "bar",
         "x": [
          "stomach",
          "small bowel",
          "colon",
          "liver",
          "pancreas",
          "kidney",
          "spleen",
          "omentum",
          "lung",
          "skin",
          "peritoneum",
          "background"
         ],
         "xaxis": "x2",
         "y": [
          56,
          73,
          43,
          68,
          36,
          81,
          58,
          50,
          35,
          54,
          73,
          51
         ],
         "yaxis": "y2"
        },
        {
         "alignmentgroup": "True",
         "hovertemplate": "subject_name=R014<br>species_name=rat<br>label_name=%{x}<br>n_images=%{y}<extra></extra>",
         "legendgroup": "R014",
         "marker": {
          "color": "#89CCED",
          "pattern": {
           "shape": ""
          }
         },
         "name": "R014",
         "offsetgroup": "R014",
         "orientation": "v",
         "showlegend": true,
         "textposition": "auto",
         "type": "bar",
         "x": [
          "stomach",
          "small bowel",
          "colon",
          "liver",
          "pancreas",
          "kidney",
          "spleen",
          "omentum",
          "lung",
          "skin",
          "peritoneum",
          "background"
         ],
         "xaxis": "x2",
         "y": [
          44,
          65,
          50,
          64,
          36,
          83,
          45,
          44,
          36,
          59,
          69,
          47
         ],
         "yaxis": "y2"
        },
        {
         "alignmentgroup": "True",
         "hovertemplate": "subject_name=R015<br>species_name=rat<br>label_name=%{x}<br>n_images=%{y}<extra></extra>",
         "legendgroup": "R015",
         "marker": {
          "color": "#89CCED",
          "pattern": {
           "shape": ""
          }
         },
         "name": "R015",
         "offsetgroup": "R015",
         "orientation": "v",
         "showlegend": true,
         "textposition": "auto",
         "type": "bar",
         "x": [
          "stomach",
          "small bowel",
          "colon",
          "liver",
          "pancreas",
          "kidney",
          "spleen",
          "omentum",
          "lung",
          "skin",
          "peritoneum",
          "background"
         ],
         "xaxis": "x2",
         "y": [
          40,
          62,
          48,
          61,
          36,
          82,
          45,
          42,
          36,
          55,
          64,
          45
         ],
         "yaxis": "y2"
        },
        {
         "alignmentgroup": "True",
         "hovertemplate": "subject_name=R016<br>species_name=rat<br>label_name=%{x}<br>n_images=%{y}<extra></extra>",
         "legendgroup": "R016",
         "marker": {
          "color": "#89CCED",
          "pattern": {
           "shape": ""
          }
         },
         "name": "R016",
         "offsetgroup": "R016",
         "orientation": "v",
         "showlegend": true,
         "textposition": "auto",
         "type": "bar",
         "x": [
          "stomach",
          "small bowel",
          "colon",
          "liver",
          "pancreas",
          "kidney",
          "spleen",
          "omentum",
          "lung",
          "skin",
          "peritoneum",
          "background"
         ],
         "xaxis": "x2",
         "y": [
          47,
          60,
          54,
          55,
          36,
          83,
          44,
          45,
          36,
          49,
          64,
          45
         ],
         "yaxis": "y2"
        },
        {
         "alignmentgroup": "True",
         "hovertemplate": "subject_name=R017<br>species_name=rat<br>label_name=%{x}<br>n_images=%{y}<extra></extra>",
         "legendgroup": "R017",
         "marker": {
          "color": "#89CCED",
          "pattern": {
           "shape": ""
          }
         },
         "name": "R017",
         "offsetgroup": "R017",
         "orientation": "v",
         "showlegend": true,
         "textposition": "auto",
         "type": "bar",
         "x": [
          "stomach",
          "small bowel",
          "colon",
          "liver",
          "pancreas",
          "kidney",
          "spleen",
          "omentum",
          "lung",
          "skin",
          "peritoneum",
          "background"
         ],
         "xaxis": "x2",
         "y": [
          43,
          59,
          50,
          62,
          36,
          82,
          47,
          44,
          36,
          66,
          67,
          45
         ],
         "yaxis": "y2"
        },
        {
         "alignmentgroup": "True",
         "hovertemplate": "subject_name=R018<br>species_name=rat<br>label_name=%{x}<br>n_images=%{y}<extra></extra>",
         "legendgroup": "R018",
         "marker": {
          "color": "#89CCED",
          "pattern": {
           "shape": ""
          }
         },
         "name": "R018",
         "offsetgroup": "R018",
         "orientation": "v",
         "showlegend": true,
         "textposition": "auto",
         "type": "bar",
         "x": [
          "stomach",
          "small bowel",
          "colon",
          "liver",
          "pancreas",
          "kidney",
          "spleen",
          "omentum",
          "lung",
          "skin",
          "peritoneum",
          "background"
         ],
         "xaxis": "x2",
         "y": [
          52,
          59,
          53,
          56,
          38,
          85,
          47,
          49,
          36,
          63,
          63,
          44
         ],
         "yaxis": "y2"
        },
        {
         "alignmentgroup": "True",
         "hovertemplate": "subject_name=R019<br>species_name=rat<br>label_name=%{x}<br>n_images=%{y}<extra></extra>",
         "legendgroup": "R019",
         "marker": {
          "color": "#89CCED",
          "pattern": {
           "shape": ""
          }
         },
         "name": "R019",
         "offsetgroup": "R019",
         "orientation": "v",
         "showlegend": true,
         "textposition": "auto",
         "type": "bar",
         "x": [
          "stomach",
          "small bowel",
          "colon",
          "liver",
          "pancreas",
          "kidney",
          "spleen",
          "omentum",
          "lung",
          "skin",
          "peritoneum",
          "background"
         ],
         "xaxis": "x2",
         "y": [
          49,
          62,
          51,
          54,
          37,
          85,
          50,
          49,
          36,
          66,
          65,
          45
         ],
         "yaxis": "y2"
        },
        {
         "alignmentgroup": "True",
         "hovertemplate": "subject_name=R020<br>species_name=rat<br>label_name=%{x}<br>n_images=%{y}<extra></extra>",
         "legendgroup": "R020",
         "marker": {
          "color": "#89CCED",
          "pattern": {
           "shape": ""
          }
         },
         "name": "R020",
         "offsetgroup": "R020",
         "orientation": "v",
         "showlegend": true,
         "textposition": "auto",
         "type": "bar",
         "x": [
          "stomach",
          "small bowel",
          "colon",
          "liver",
          "pancreas",
          "kidney",
          "spleen",
          "omentum",
          "lung",
          "skin",
          "peritoneum",
          "background"
         ],
         "xaxis": "x2",
         "y": [
          47,
          60,
          40,
          54,
          38,
          87,
          45,
          45,
          36,
          68,
          64,
          45
         ],
         "yaxis": "y2"
        },
        {
         "alignmentgroup": "True",
         "hovertemplate": "subject_name=R021<br>species_name=rat<br>label_name=%{x}<br>n_images=%{y}<extra></extra>",
         "legendgroup": "R021",
         "marker": {
          "color": "#89CCED",
          "pattern": {
           "shape": ""
          }
         },
         "name": "R021",
         "offsetgroup": "R021",
         "orientation": "v",
         "showlegend": true,
         "textposition": "auto",
         "type": "bar",
         "x": [
          "stomach",
          "small bowel",
          "colon",
          "liver",
          "pancreas",
          "kidney",
          "spleen",
          "omentum",
          "lung",
          "skin",
          "peritoneum",
          "background"
         ],
         "xaxis": "x2",
         "y": [
          39,
          55,
          43,
          52,
          37,
          87,
          38,
          38,
          36,
          68,
          64,
          44
         ],
         "yaxis": "y2"
        },
        {
         "alignmentgroup": "True",
         "hovertemplate": "subject_name=R022<br>species_name=rat<br>label_name=%{x}<br>n_images=%{y}<extra></extra>",
         "legendgroup": "R022",
         "marker": {
          "color": "#89CCED",
          "pattern": {
           "shape": ""
          }
         },
         "name": "R022",
         "offsetgroup": "R022",
         "orientation": "v",
         "showlegend": true,
         "textposition": "auto",
         "type": "bar",
         "x": [
          "stomach",
          "small bowel",
          "colon",
          "liver",
          "pancreas",
          "kidney",
          "spleen",
          "omentum",
          "lung",
          "skin",
          "peritoneum",
          "background"
         ],
         "xaxis": "x2",
         "y": [
          50,
          59,
          44,
          52,
          40,
          86,
          47,
          46,
          36,
          63,
          63,
          45
         ],
         "yaxis": "y2"
        },
        {
         "alignmentgroup": "True",
         "hovertemplate": "subject_name=R023<br>species_name=rat<br>label_name=%{x}<br>n_images=%{y}<extra></extra>",
         "legendgroup": "R023",
         "marker": {
          "color": "#89CCED",
          "pattern": {
           "shape": ""
          }
         },
         "name": "R023",
         "offsetgroup": "R023",
         "orientation": "v",
         "showlegend": true,
         "textposition": "auto",
         "type": "bar",
         "x": [
          "stomach",
          "small bowel",
          "colon",
          "liver",
          "pancreas",
          "kidney",
          "spleen",
          "omentum",
          "lung",
          "skin",
          "peritoneum",
          "background"
         ],
         "xaxis": "x2",
         "y": [
          44,
          60,
          50,
          51,
          37,
          82,
          40,
          44,
          36,
          74,
          63,
          45
         ],
         "yaxis": "y2"
        },
        {
         "alignmentgroup": "True",
         "hovertemplate": "subject_name=R024<br>species_name=rat<br>label_name=%{x}<br>n_images=%{y}<extra></extra>",
         "legendgroup": "R024",
         "marker": {
          "color": "#89CCED",
          "pattern": {
           "shape": ""
          }
         },
         "name": "R024",
         "offsetgroup": "R024",
         "orientation": "v",
         "showlegend": true,
         "textposition": "auto",
         "type": "bar",
         "x": [
          "stomach",
          "small bowel",
          "colon",
          "liver",
          "pancreas",
          "kidney",
          "spleen",
          "omentum",
          "lung",
          "skin",
          "peritoneum",
          "background"
         ],
         "xaxis": "x2",
         "y": [
          49,
          59,
          43,
          61,
          36,
          85,
          42,
          48,
          36,
          73,
          65,
          45
         ],
         "yaxis": "y2"
        },
        {
         "alignmentgroup": "True",
         "hovertemplate": "subject_name=R025<br>species_name=rat<br>label_name=%{x}<br>n_images=%{y}<extra></extra>",
         "legendgroup": "R025",
         "marker": {
          "color": "#89CCED",
          "pattern": {
           "shape": ""
          }
         },
         "name": "R025",
         "offsetgroup": "R025",
         "orientation": "v",
         "showlegend": true,
         "textposition": "auto",
         "type": "bar",
         "x": [
          "kidney"
         ],
         "xaxis": "x2",
         "y": [
          98
         ],
         "yaxis": "y2"
        },
        {
         "alignmentgroup": "True",
         "hovertemplate": "subject_name=R027<br>species_name=rat<br>label_name=%{x}<br>n_images=%{y}<extra></extra>",
         "legendgroup": "R027",
         "marker": {
          "color": "#89CCED",
          "pattern": {
           "shape": ""
          }
         },
         "name": "R027",
         "offsetgroup": "R027",
         "orientation": "v",
         "showlegend": true,
         "textposition": "auto",
         "type": "bar",
         "x": [
          "kidney"
         ],
         "xaxis": "x2",
         "y": [
          56
         ],
         "yaxis": "y2"
        },
        {
         "alignmentgroup": "True",
         "hovertemplate": "subject_name=R028<br>species_name=rat<br>label_name=%{x}<br>n_images=%{y}<extra></extra>",
         "legendgroup": "R028",
         "marker": {
          "color": "#89CCED",
          "pattern": {
           "shape": ""
          }
         },
         "name": "R028",
         "offsetgroup": "R028",
         "orientation": "v",
         "showlegend": true,
         "textposition": "auto",
         "type": "bar",
         "x": [
          "kidney"
         ],
         "xaxis": "x2",
         "y": [
          89
         ],
         "yaxis": "y2"
        },
        {
         "alignmentgroup": "True",
         "hovertemplate": "subject_name=R029<br>species_name=rat<br>label_name=%{x}<br>n_images=%{y}<extra></extra>",
         "legendgroup": "R029",
         "marker": {
          "color": "#89CCED",
          "pattern": {
           "shape": ""
          }
         },
         "name": "R029",
         "offsetgroup": "R029",
         "orientation": "v",
         "showlegend": true,
         "textposition": "auto",
         "type": "bar",
         "x": [
          "kidney"
         ],
         "xaxis": "x2",
         "y": [
          89
         ],
         "yaxis": "y2"
        },
        {
         "alignmentgroup": "True",
         "hovertemplate": "subject_name=R030<br>species_name=rat<br>label_name=%{x}<br>n_images=%{y}<extra></extra>",
         "legendgroup": "R030",
         "marker": {
          "color": "#89CCED",
          "pattern": {
           "shape": ""
          }
         },
         "name": "R030",
         "offsetgroup": "R030",
         "orientation": "v",
         "showlegend": true,
         "textposition": "auto",
         "type": "bar",
         "x": [
          "kidney"
         ],
         "xaxis": "x2",
         "y": [
          89
         ],
         "yaxis": "y2"
        },
        {
         "alignmentgroup": "True",
         "hovertemplate": "subject_name=R031<br>species_name=rat<br>label_name=%{x}<br>n_images=%{y}<extra></extra>",
         "legendgroup": "R031",
         "marker": {
          "color": "#89CCED",
          "pattern": {
           "shape": ""
          }
         },
         "name": "R031",
         "offsetgroup": "R031",
         "orientation": "v",
         "showlegend": true,
         "textposition": "auto",
         "type": "bar",
         "x": [
          "kidney"
         ],
         "xaxis": "x2",
         "y": [
          89
         ],
         "yaxis": "y2"
        },
        {
         "alignmentgroup": "True",
         "hovertemplate": "subject_name=R032<br>species_name=rat<br>label_name=%{x}<br>n_images=%{y}<extra></extra>",
         "legendgroup": "R032",
         "marker": {
          "color": "#89CCED",
          "pattern": {
           "shape": ""
          }
         },
         "name": "R032",
         "offsetgroup": "R032",
         "orientation": "v",
         "showlegend": true,
         "textposition": "auto",
         "type": "bar",
         "x": [
          "kidney"
         ],
         "xaxis": "x2",
         "y": [
          89
         ],
         "yaxis": "y2"
        },
        {
         "alignmentgroup": "True",
         "hovertemplate": "subject_name=R033<br>species_name=rat<br>label_name=%{x}<br>n_images=%{y}<extra></extra>",
         "legendgroup": "R033",
         "marker": {
          "color": "#89CCED",
          "pattern": {
           "shape": ""
          }
         },
         "name": "R033",
         "offsetgroup": "R033",
         "orientation": "v",
         "showlegend": true,
         "textposition": "auto",
         "type": "bar",
         "x": [
          "kidney"
         ],
         "xaxis": "x2",
         "y": [
          180
         ],
         "yaxis": "y2"
        },
        {
         "alignmentgroup": "True",
         "hovertemplate": "subject_name=R034<br>species_name=rat<br>label_name=%{x}<br>n_images=%{y}<extra></extra>",
         "legendgroup": "R034",
         "marker": {
          "color": "#89CCED",
          "pattern": {
           "shape": ""
          }
         },
         "name": "R034",
         "offsetgroup": "R034",
         "orientation": "v",
         "showlegend": true,
         "textposition": "auto",
         "type": "bar",
         "x": [
          "kidney"
         ],
         "xaxis": "x2",
         "y": [
          89
         ],
         "yaxis": "y2"
        },
        {
         "alignmentgroup": "True",
         "hovertemplate": "subject_name=R035<br>species_name=rat<br>label_name=%{x}<br>n_images=%{y}<extra></extra>",
         "legendgroup": "R035",
         "marker": {
          "color": "#89CCED",
          "pattern": {
           "shape": ""
          }
         },
         "name": "R035",
         "offsetgroup": "R035",
         "orientation": "v",
         "showlegend": true,
         "textposition": "auto",
         "type": "bar",
         "x": [
          "kidney"
         ],
         "xaxis": "x2",
         "y": [
          91
         ],
         "yaxis": "y2"
        },
        {
         "alignmentgroup": "True",
         "hovertemplate": "subject_name=R036<br>species_name=rat<br>label_name=%{x}<br>n_images=%{y}<extra></extra>",
         "legendgroup": "R036",
         "marker": {
          "color": "#89CCED",
          "pattern": {
           "shape": ""
          }
         },
         "name": "R036",
         "offsetgroup": "R036",
         "orientation": "v",
         "showlegend": true,
         "textposition": "auto",
         "type": "bar",
         "x": [
          "kidney"
         ],
         "xaxis": "x2",
         "y": [
          89
         ],
         "yaxis": "y2"
        },
        {
         "alignmentgroup": "True",
         "hovertemplate": "subject_name=SPACE_000001<br>species_name=human<br>label_name=%{x}<br>n_images=%{y}<extra></extra>",
         "legendgroup": "SPACE_000001",
         "marker": {
          "color": "#DDCB76",
          "pattern": {
           "shape": ""
          }
         },
         "name": "SPACE_000001",
         "offsetgroup": "SPACE_000001",
         "orientation": "v",
         "showlegend": true,
         "textposition": "auto",
         "type": "bar",
         "x": [
          "stomach",
          "small bowel",
          "colon",
          "liver",
          "omentum",
          "skin",
          "background"
         ],
         "xaxis": "x",
         "y": [
          6,
          1,
          1,
          6,
          7,
          6,
          7
         ],
         "yaxis": "y"
        },
        {
         "alignmentgroup": "True",
         "hovertemplate": "subject_name=SPACE_000002<br>species_name=human<br>label_name=%{x}<br>n_images=%{y}<extra></extra>",
         "legendgroup": "SPACE_000002",
         "marker": {
          "color": "#DDCB76",
          "pattern": {
           "shape": ""
          }
         },
         "name": "SPACE_000002",
         "offsetgroup": "SPACE_000002",
         "orientation": "v",
         "showlegend": true,
         "textposition": "auto",
         "type": "bar",
         "x": [
          "stomach",
          "colon",
          "liver",
          "omentum",
          "skin",
          "background"
         ],
         "xaxis": "x",
         "y": [
          1,
          1,
          2,
          2,
          1,
          2
         ],
         "yaxis": "y"
        },
        {
         "alignmentgroup": "True",
         "hovertemplate": "subject_name=SPACE_000003<br>species_name=human<br>label_name=%{x}<br>n_images=%{y}<extra></extra>",
         "legendgroup": "SPACE_000003",
         "marker": {
          "color": "#DDCB76",
          "pattern": {
           "shape": ""
          }
         },
         "name": "SPACE_000003",
         "offsetgroup": "SPACE_000003",
         "orientation": "v",
         "showlegend": true,
         "textposition": "auto",
         "type": "bar",
         "x": [
          "small bowel",
          "colon",
          "liver",
          "spleen",
          "background"
         ],
         "xaxis": "x",
         "y": [
          1,
          1,
          2,
          1,
          2
         ],
         "yaxis": "y"
        },
        {
         "alignmentgroup": "True",
         "hovertemplate": "subject_name=SPACE_000004<br>species_name=human<br>label_name=%{x}<br>n_images=%{y}<extra></extra>",
         "legendgroup": "SPACE_000004",
         "marker": {
          "color": "#DDCB76",
          "pattern": {
           "shape": ""
          }
         },
         "name": "SPACE_000004",
         "offsetgroup": "SPACE_000004",
         "orientation": "v",
         "showlegend": true,
         "textposition": "auto",
         "type": "bar",
         "x": [
          "stomach",
          "colon",
          "liver",
          "omentum",
          "background"
         ],
         "xaxis": "x",
         "y": [
          1,
          1,
          1,
          2,
          2
         ],
         "yaxis": "y"
        },
        {
         "alignmentgroup": "True",
         "hovertemplate": "subject_name=SPACE_000005<br>species_name=human<br>label_name=%{x}<br>n_images=%{y}<extra></extra>",
         "legendgroup": "SPACE_000005",
         "marker": {
          "color": "#DDCB76",
          "pattern": {
           "shape": ""
          }
         },
         "name": "SPACE_000005",
         "offsetgroup": "SPACE_000005",
         "orientation": "v",
         "showlegend": true,
         "textposition": "auto",
         "type": "bar",
         "x": [
          "kidney"
         ],
         "xaxis": "x",
         "y": [
          1
         ],
         "yaxis": "y"
        },
        {
         "alignmentgroup": "True",
         "hovertemplate": "subject_name=SPACE_000006<br>species_name=human<br>label_name=%{x}<br>n_images=%{y}<extra></extra>",
         "legendgroup": "SPACE_000006",
         "marker": {
          "color": "#DDCB76",
          "pattern": {
           "shape": ""
          }
         },
         "name": "SPACE_000006",
         "offsetgroup": "SPACE_000006",
         "orientation": "v",
         "showlegend": true,
         "textposition": "auto",
         "type": "bar",
         "x": [
          "stomach",
          "small bowel",
          "liver",
          "spleen",
          "omentum",
          "peritoneum",
          "background"
         ],
         "xaxis": "x",
         "y": [
          5,
          2,
          5,
          5,
          5,
          1,
          5
         ],
         "yaxis": "y"
        },
        {
         "alignmentgroup": "True",
         "hovertemplate": "subject_name=SPACE_000008<br>species_name=human<br>label_name=%{x}<br>n_images=%{y}<extra></extra>",
         "legendgroup": "SPACE_000008",
         "marker": {
          "color": "#DDCB76",
          "pattern": {
           "shape": ""
          }
         },
         "name": "SPACE_000008",
         "offsetgroup": "SPACE_000008",
         "orientation": "v",
         "showlegend": true,
         "textposition": "auto",
         "type": "bar",
         "x": [
          "stomach",
          "small bowel",
          "liver",
          "omentum",
          "background"
         ],
         "xaxis": "x",
         "y": [
          2,
          2,
          2,
          2,
          2
         ],
         "yaxis": "y"
        },
        {
         "alignmentgroup": "True",
         "hovertemplate": "subject_name=SPACE_000009<br>species_name=human<br>label_name=%{x}<br>n_images=%{y}<extra></extra>",
         "legendgroup": "SPACE_000009",
         "marker": {
          "color": "#DDCB76",
          "pattern": {
           "shape": ""
          }
         },
         "name": "SPACE_000009",
         "offsetgroup": "SPACE_000009",
         "orientation": "v",
         "showlegend": true,
         "textposition": "auto",
         "type": "bar",
         "x": [
          "stomach",
          "small bowel",
          "liver",
          "omentum",
          "skin",
          "background"
         ],
         "xaxis": "x",
         "y": [
          1,
          2,
          2,
          2,
          2,
          2
         ],
         "yaxis": "y"
        },
        {
         "alignmentgroup": "True",
         "hovertemplate": "subject_name=SPACE_000010<br>species_name=human<br>label_name=%{x}<br>n_images=%{y}<extra></extra>",
         "legendgroup": "SPACE_000010",
         "marker": {
          "color": "#DDCB76",
          "pattern": {
           "shape": ""
          }
         },
         "name": "SPACE_000010",
         "offsetgroup": "SPACE_000010",
         "orientation": "v",
         "showlegend": true,
         "textposition": "auto",
         "type": "bar",
         "x": [
          "small bowel",
          "colon",
          "skin",
          "background"
         ],
         "xaxis": "x",
         "y": [
          2,
          1,
          2,
          2
         ],
         "yaxis": "y"
        },
        {
         "alignmentgroup": "True",
         "hovertemplate": "subject_name=SPACE_000011<br>species_name=human<br>label_name=%{x}<br>n_images=%{y}<extra></extra>",
         "legendgroup": "SPACE_000011",
         "marker": {
          "color": "#DDCB76",
          "pattern": {
           "shape": ""
          }
         },
         "name": "SPACE_000011",
         "offsetgroup": "SPACE_000011",
         "orientation": "v",
         "showlegend": true,
         "textposition": "auto",
         "type": "bar",
         "x": [
          "stomach",
          "small bowel",
          "colon",
          "liver",
          "omentum",
          "skin",
          "background"
         ],
         "xaxis": "x",
         "y": [
          11,
          12,
          2,
          10,
          9,
          7,
          12
         ],
         "yaxis": "y"
        },
        {
         "alignmentgroup": "True",
         "hovertemplate": "subject_name=SPACE_000012<br>species_name=human<br>label_name=%{x}<br>n_images=%{y}<extra></extra>",
         "legendgroup": "SPACE_000012",
         "marker": {
          "color": "#DDCB76",
          "pattern": {
           "shape": ""
          }
         },
         "name": "SPACE_000012",
         "offsetgroup": "SPACE_000012",
         "orientation": "v",
         "showlegend": true,
         "textposition": "auto",
         "type": "bar",
         "x": [
          "stomach",
          "small bowel",
          "colon",
          "liver",
          "pancreas",
          "omentum",
          "skin",
          "peritoneum",
          "background"
         ],
         "xaxis": "x",
         "y": [
          1,
          9,
          9,
          10,
          2,
          8,
          2,
          8,
          11
         ],
         "yaxis": "y"
        },
        {
         "alignmentgroup": "True",
         "hovertemplate": "subject_name=SPACE_000013<br>species_name=human<br>label_name=%{x}<br>n_images=%{y}<extra></extra>",
         "legendgroup": "SPACE_000013",
         "marker": {
          "color": "#DDCB76",
          "pattern": {
           "shape": ""
          }
         },
         "name": "SPACE_000013",
         "offsetgroup": "SPACE_000013",
         "orientation": "v",
         "showlegend": true,
         "textposition": "auto",
         "type": "bar",
         "x": [
          "stomach",
          "small bowel",
          "omentum",
          "background"
         ],
         "xaxis": "x",
         "y": [
          2,
          2,
          2,
          2
         ],
         "yaxis": "y"
        },
        {
         "alignmentgroup": "True",
         "hovertemplate": "subject_name=SPACE_000014<br>species_name=human<br>label_name=%{x}<br>n_images=%{y}<extra></extra>",
         "legendgroup": "SPACE_000014",
         "marker": {
          "color": "#DDCB76",
          "pattern": {
           "shape": ""
          }
         },
         "name": "SPACE_000014",
         "offsetgroup": "SPACE_000014",
         "orientation": "v",
         "showlegend": true,
         "textposition": "auto",
         "type": "bar",
         "x": [
          "stomach",
          "small bowel",
          "colon",
          "liver",
          "pancreas",
          "spleen",
          "omentum",
          "peritoneum",
          "background"
         ],
         "xaxis": "x",
         "y": [
          5,
          3,
          1,
          1,
          2,
          3,
          4,
          1,
          6
         ],
         "yaxis": "y"
        },
        {
         "alignmentgroup": "True",
         "hovertemplate": "subject_name=SPACE_000015<br>species_name=human<br>label_name=%{x}<br>n_images=%{y}<extra></extra>",
         "legendgroup": "SPACE_000015",
         "marker": {
          "color": "#DDCB76",
          "pattern": {
           "shape": ""
          }
         },
         "name": "SPACE_000015",
         "offsetgroup": "SPACE_000015",
         "orientation": "v",
         "showlegend": true,
         "textposition": "auto",
         "type": "bar",
         "x": [
          "colon",
          "liver",
          "omentum",
          "skin",
          "background"
         ],
         "xaxis": "x",
         "y": [
          1,
          2,
          2,
          2,
          2
         ],
         "yaxis": "y"
        },
        {
         "alignmentgroup": "True",
         "hovertemplate": "subject_name=SPACE_000016<br>species_name=human<br>label_name=%{x}<br>n_images=%{y}<extra></extra>",
         "legendgroup": "SPACE_000016",
         "marker": {
          "color": "#DDCB76",
          "pattern": {
           "shape": ""
          }
         },
         "name": "SPACE_000016",
         "offsetgroup": "SPACE_000016",
         "orientation": "v",
         "showlegend": true,
         "textposition": "auto",
         "type": "bar",
         "x": [
          "small bowel",
          "skin",
          "background"
         ],
         "xaxis": "x",
         "y": [
          2,
          2,
          2
         ],
         "yaxis": "y"
        },
        {
         "alignmentgroup": "True",
         "hovertemplate": "subject_name=SPACE_000017<br>species_name=human<br>label_name=%{x}<br>n_images=%{y}<extra></extra>",
         "legendgroup": "SPACE_000017",
         "marker": {
          "color": "#DDCB76",
          "pattern": {
           "shape": ""
          }
         },
         "name": "SPACE_000017",
         "offsetgroup": "SPACE_000017",
         "orientation": "v",
         "showlegend": true,
         "textposition": "auto",
         "type": "bar",
         "x": [
          "stomach",
          "small bowel",
          "colon",
          "liver",
          "omentum",
          "lung",
          "skin",
          "background"
         ],
         "xaxis": "x",
         "y": [
          1,
          2,
          2,
          2,
          1,
          4,
          5,
          5
         ],
         "yaxis": "y"
        },
        {
         "alignmentgroup": "True",
         "hovertemplate": "subject_name=SPACE_000018<br>species_name=human<br>label_name=%{x}<br>n_images=%{y}<extra></extra>",
         "legendgroup": "SPACE_000018",
         "marker": {
          "color": "#DDCB76",
          "pattern": {
           "shape": ""
          }
         },
         "name": "SPACE_000018",
         "offsetgroup": "SPACE_000018",
         "orientation": "v",
         "showlegend": true,
         "textposition": "auto",
         "type": "bar",
         "x": [
          "colon",
          "liver",
          "omentum",
          "skin",
          "background"
         ],
         "xaxis": "x",
         "y": [
          1,
          2,
          2,
          1,
          2
         ],
         "yaxis": "y"
        },
        {
         "alignmentgroup": "True",
         "hovertemplate": "subject_name=SPACE_000019<br>species_name=human<br>label_name=%{x}<br>n_images=%{y}<extra></extra>",
         "legendgroup": "SPACE_000019",
         "marker": {
          "color": "#DDCB76",
          "pattern": {
           "shape": ""
          }
         },
         "name": "SPACE_000019",
         "offsetgroup": "SPACE_000019",
         "orientation": "v",
         "showlegend": true,
         "textposition": "auto",
         "type": "bar",
         "x": [
          "stomach",
          "small bowel",
          "liver",
          "spleen",
          "omentum",
          "background"
         ],
         "xaxis": "x",
         "y": [
          4,
          11,
          11,
          3,
          9,
          11
         ],
         "yaxis": "y"
        },
        {
         "alignmentgroup": "True",
         "hovertemplate": "subject_name=SPACE_000020<br>species_name=human<br>label_name=%{x}<br>n_images=%{y}<extra></extra>",
         "legendgroup": "SPACE_000020",
         "marker": {
          "color": "#DDCB76",
          "pattern": {
           "shape": ""
          }
         },
         "name": "SPACE_000020",
         "offsetgroup": "SPACE_000020",
         "orientation": "v",
         "showlegend": true,
         "textposition": "auto",
         "type": "bar",
         "x": [
          "kidney",
          "skin",
          "background"
         ],
         "xaxis": "x",
         "y": [
          1,
          2,
          2
         ],
         "yaxis": "y"
        },
        {
         "alignmentgroup": "True",
         "hovertemplate": "subject_name=SPACE_000021<br>species_name=human<br>label_name=%{x}<br>n_images=%{y}<extra></extra>",
         "legendgroup": "SPACE_000021",
         "marker": {
          "color": "#DDCB76",
          "pattern": {
           "shape": ""
          }
         },
         "name": "SPACE_000021",
         "offsetgroup": "SPACE_000021",
         "orientation": "v",
         "showlegend": true,
         "textposition": "auto",
         "type": "bar",
         "x": [
          "stomach",
          "small bowel",
          "colon",
          "liver",
          "omentum",
          "background"
         ],
         "xaxis": "x",
         "y": [
          1,
          2,
          2,
          2,
          2,
          2
         ],
         "yaxis": "y"
        },
        {
         "alignmentgroup": "True",
         "hovertemplate": "subject_name=SPACE_000022<br>species_name=human<br>label_name=%{x}<br>n_images=%{y}<extra></extra>",
         "legendgroup": "SPACE_000022",
         "marker": {
          "color": "#DDCB76",
          "pattern": {
           "shape": ""
          }
         },
         "name": "SPACE_000022",
         "offsetgroup": "SPACE_000022",
         "orientation": "v",
         "showlegend": true,
         "textposition": "auto",
         "type": "bar",
         "x": [
          "stomach",
          "small bowel",
          "liver",
          "omentum",
          "background"
         ],
         "xaxis": "x",
         "y": [
          1,
          1,
          1,
          2,
          2
         ],
         "yaxis": "y"
        },
        {
         "alignmentgroup": "True",
         "hovertemplate": "subject_name=SPACE_000023<br>species_name=human<br>label_name=%{x}<br>n_images=%{y}<extra></extra>",
         "legendgroup": "SPACE_000023",
         "marker": {
          "color": "#DDCB76",
          "pattern": {
           "shape": ""
          }
         },
         "name": "SPACE_000023",
         "offsetgroup": "SPACE_000023",
         "orientation": "v",
         "showlegend": true,
         "textposition": "auto",
         "type": "bar",
         "x": [
          "stomach",
          "colon",
          "liver",
          "omentum",
          "peritoneum",
          "background"
         ],
         "xaxis": "x",
         "y": [
          2,
          1,
          2,
          2,
          1,
          2
         ],
         "yaxis": "y"
        },
        {
         "alignmentgroup": "True",
         "hovertemplate": "subject_name=SPACE_000024<br>species_name=human<br>label_name=%{x}<br>n_images=%{y}<extra></extra>",
         "legendgroup": "SPACE_000024",
         "marker": {
          "color": "#DDCB76",
          "pattern": {
           "shape": ""
          }
         },
         "name": "SPACE_000024",
         "offsetgroup": "SPACE_000024",
         "orientation": "v",
         "showlegend": true,
         "textposition": "auto",
         "type": "bar",
         "x": [
          "colon",
          "liver",
          "spleen",
          "omentum",
          "background"
         ],
         "xaxis": "x",
         "y": [
          1,
          2,
          1,
          2,
          2
         ],
         "yaxis": "y"
        },
        {
         "alignmentgroup": "True",
         "hovertemplate": "subject_name=SPACE_000025<br>species_name=human<br>label_name=%{x}<br>n_images=%{y}<extra></extra>",
         "legendgroup": "SPACE_000025",
         "marker": {
          "color": "#DDCB76",
          "pattern": {
           "shape": ""
          }
         },
         "name": "SPACE_000025",
         "offsetgroup": "SPACE_000025",
         "orientation": "v",
         "showlegend": true,
         "textposition": "auto",
         "type": "bar",
         "x": [
          "stomach",
          "small bowel",
          "colon",
          "liver",
          "omentum",
          "background"
         ],
         "xaxis": "x",
         "y": [
          2,
          2,
          2,
          2,
          2,
          2
         ],
         "yaxis": "y"
        },
        {
         "alignmentgroup": "True",
         "hovertemplate": "subject_name=SPACE_000026<br>species_name=human<br>label_name=%{x}<br>n_images=%{y}<extra></extra>",
         "legendgroup": "SPACE_000026",
         "marker": {
          "color": "#DDCB76",
          "pattern": {
           "shape": ""
          }
         },
         "name": "SPACE_000026",
         "offsetgroup": "SPACE_000026",
         "orientation": "v",
         "showlegend": true,
         "textposition": "auto",
         "type": "bar",
         "x": [
          "kidney"
         ],
         "xaxis": "x",
         "y": [
          11
         ],
         "yaxis": "y"
        },
        {
         "alignmentgroup": "True",
         "hovertemplate": "subject_name=SPACE_000027<br>species_name=human<br>label_name=%{x}<br>n_images=%{y}<extra></extra>",
         "legendgroup": "SPACE_000027",
         "marker": {
          "color": "#DDCB76",
          "pattern": {
           "shape": ""
          }
         },
         "name": "SPACE_000027",
         "offsetgroup": "SPACE_000027",
         "orientation": "v",
         "showlegend": true,
         "textposition": "auto",
         "type": "bar",
         "x": [
          "stomach",
          "small bowel",
          "colon",
          "liver",
          "omentum",
          "background"
         ],
         "xaxis": "x",
         "y": [
          1,
          2,
          2,
          2,
          1,
          2
         ],
         "yaxis": "y"
        },
        {
         "alignmentgroup": "True",
         "hovertemplate": "subject_name=SPACE_000028<br>species_name=human<br>label_name=%{x}<br>n_images=%{y}<extra></extra>",
         "legendgroup": "SPACE_000028",
         "marker": {
          "color": "#DDCB76",
          "pattern": {
           "shape": ""
          }
         },
         "name": "SPACE_000028",
         "offsetgroup": "SPACE_000028",
         "orientation": "v",
         "showlegend": true,
         "textposition": "auto",
         "type": "bar",
         "x": [
          "stomach",
          "small bowel",
          "liver",
          "pancreas",
          "omentum",
          "background"
         ],
         "xaxis": "x",
         "y": [
          1,
          3,
          1,
          1,
          2,
          3
         ],
         "yaxis": "y"
        },
        {
         "alignmentgroup": "True",
         "hovertemplate": "subject_name=SPACE_000029<br>species_name=human<br>label_name=%{x}<br>n_images=%{y}<extra></extra>",
         "legendgroup": "SPACE_000029",
         "marker": {
          "color": "#DDCB76",
          "pattern": {
           "shape": ""
          }
         },
         "name": "SPACE_000029",
         "offsetgroup": "SPACE_000029",
         "orientation": "v",
         "showlegend": true,
         "textposition": "auto",
         "type": "bar",
         "x": [
          "stomach",
          "small bowel",
          "colon",
          "liver",
          "omentum",
          "background"
         ],
         "xaxis": "x",
         "y": [
          1,
          2,
          2,
          2,
          1,
          2
         ],
         "yaxis": "y"
        },
        {
         "alignmentgroup": "True",
         "hovertemplate": "subject_name=SPACE_000030<br>species_name=human<br>label_name=%{x}<br>n_images=%{y}<extra></extra>",
         "legendgroup": "SPACE_000030",
         "marker": {
          "color": "#DDCB76",
          "pattern": {
           "shape": ""
          }
         },
         "name": "SPACE_000030",
         "offsetgroup": "SPACE_000030",
         "orientation": "v",
         "showlegend": true,
         "textposition": "auto",
         "type": "bar",
         "x": [
          "stomach",
          "small bowel",
          "colon",
          "liver",
          "omentum",
          "lung",
          "skin",
          "peritoneum",
          "background"
         ],
         "xaxis": "x",
         "y": [
          16,
          2,
          9,
          11,
          15,
          5,
          9,
          10,
          16
         ],
         "yaxis": "y"
        },
        {
         "alignmentgroup": "True",
         "hovertemplate": "subject_name=SPACE_000031<br>species_name=human<br>label_name=%{x}<br>n_images=%{y}<extra></extra>",
         "legendgroup": "SPACE_000031",
         "marker": {
          "color": "#DDCB76",
          "pattern": {
           "shape": ""
          }
         },
         "name": "SPACE_000031",
         "offsetgroup": "SPACE_000031",
         "orientation": "v",
         "showlegend": true,
         "textposition": "auto",
         "type": "bar",
         "x": [
          "stomach",
          "small bowel",
          "colon",
          "pancreas",
          "omentum",
          "background"
         ],
         "xaxis": "x",
         "y": [
          1,
          1,
          1,
          1,
          3,
          3
         ],
         "yaxis": "y"
        },
        {
         "alignmentgroup": "True",
         "hovertemplate": "subject_name=SPACE_000032<br>species_name=human<br>label_name=%{x}<br>n_images=%{y}<extra></extra>",
         "legendgroup": "SPACE_000032",
         "marker": {
          "color": "#DDCB76",
          "pattern": {
           "shape": ""
          }
         },
         "name": "SPACE_000032",
         "offsetgroup": "SPACE_000032",
         "orientation": "v",
         "showlegend": true,
         "textposition": "auto",
         "type": "bar",
         "x": [
          "small bowel",
          "colon",
          "omentum",
          "background"
         ],
         "xaxis": "x",
         "y": [
          2,
          1,
          1,
          2
         ],
         "yaxis": "y"
        },
        {
         "alignmentgroup": "True",
         "hovertemplate": "subject_name=SPACE_000033<br>species_name=human<br>label_name=%{x}<br>n_images=%{y}<extra></extra>",
         "legendgroup": "SPACE_000033",
         "marker": {
          "color": "#DDCB76",
          "pattern": {
           "shape": ""
          }
         },
         "name": "SPACE_000033",
         "offsetgroup": "SPACE_000033",
         "orientation": "v",
         "showlegend": true,
         "textposition": "auto",
         "type": "bar",
         "x": [
          "stomach",
          "colon",
          "liver",
          "pancreas",
          "omentum",
          "background"
         ],
         "xaxis": "x",
         "y": [
          6,
          1,
          4,
          2,
          5,
          6
         ],
         "yaxis": "y"
        },
        {
         "alignmentgroup": "True",
         "hovertemplate": "subject_name=SPACE_000034<br>species_name=human<br>label_name=%{x}<br>n_images=%{y}<extra></extra>",
         "legendgroup": "SPACE_000034",
         "marker": {
          "color": "#DDCB76",
          "pattern": {
           "shape": ""
          }
         },
         "name": "SPACE_000034",
         "offsetgroup": "SPACE_000034",
         "orientation": "v",
         "showlegend": true,
         "textposition": "auto",
         "type": "bar",
         "x": [
          "stomach",
          "small bowel",
          "colon",
          "liver",
          "omentum",
          "background"
         ],
         "xaxis": "x",
         "y": [
          5,
          3,
          4,
          3,
          5,
          5
         ],
         "yaxis": "y"
        },
        {
         "alignmentgroup": "True",
         "hovertemplate": "subject_name=SPACE_000035<br>species_name=human<br>label_name=%{x}<br>n_images=%{y}<extra></extra>",
         "legendgroup": "SPACE_000035",
         "marker": {
          "color": "#DDCB76",
          "pattern": {
           "shape": ""
          }
         },
         "name": "SPACE_000035",
         "offsetgroup": "SPACE_000035",
         "orientation": "v",
         "showlegend": true,
         "textposition": "auto",
         "type": "bar",
         "x": [
          "stomach",
          "liver",
          "pancreas",
          "omentum",
          "background"
         ],
         "xaxis": "x",
         "y": [
          1,
          3,
          2,
          1,
          3
         ],
         "yaxis": "y"
        },
        {
         "alignmentgroup": "True",
         "hovertemplate": "subject_name=SPACE_000036<br>species_name=human<br>label_name=%{x}<br>n_images=%{y}<extra></extra>",
         "legendgroup": "SPACE_000036",
         "marker": {
          "color": "#DDCB76",
          "pattern": {
           "shape": ""
          }
         },
         "name": "SPACE_000036",
         "offsetgroup": "SPACE_000036",
         "orientation": "v",
         "showlegend": true,
         "textposition": "auto",
         "type": "bar",
         "x": [
          "stomach",
          "liver",
          "omentum",
          "lung",
          "skin",
          "peritoneum",
          "background"
         ],
         "xaxis": "x",
         "y": [
          1,
          1,
          1,
          6,
          6,
          1,
          7
         ],
         "yaxis": "y"
        },
        {
         "alignmentgroup": "True",
         "hovertemplate": "subject_name=SPACE_000038<br>species_name=human<br>label_name=%{x}<br>n_images=%{y}<extra></extra>",
         "legendgroup": "SPACE_000038",
         "marker": {
          "color": "#DDCB76",
          "pattern": {
           "shape": ""
          }
         },
         "name": "SPACE_000038",
         "offsetgroup": "SPACE_000038",
         "orientation": "v",
         "showlegend": true,
         "textposition": "auto",
         "type": "bar",
         "x": [
          "stomach",
          "small bowel",
          "colon",
          "liver",
          "pancreas",
          "spleen",
          "omentum",
          "skin",
          "peritoneum",
          "background"
         ],
         "xaxis": "x",
         "y": [
          1,
          5,
          2,
          1,
          4,
          3,
          5,
          2,
          4,
          9
         ],
         "yaxis": "y"
        },
        {
         "alignmentgroup": "True",
         "hovertemplate": "subject_name=SPACE_000039<br>species_name=human<br>label_name=%{x}<br>n_images=%{y}<extra></extra>",
         "legendgroup": "SPACE_000039",
         "marker": {
          "color": "#DDCB76",
          "pattern": {
           "shape": ""
          }
         },
         "name": "SPACE_000039",
         "offsetgroup": "SPACE_000039",
         "orientation": "v",
         "showlegend": true,
         "textposition": "auto",
         "type": "bar",
         "x": [
          "stomach",
          "small bowel",
          "colon",
          "pancreas",
          "omentum",
          "background"
         ],
         "xaxis": "x",
         "y": [
          2,
          2,
          1,
          1,
          2,
          2
         ],
         "yaxis": "y"
        },
        {
         "alignmentgroup": "True",
         "hovertemplate": "subject_name=SPACE_000040<br>species_name=human<br>label_name=%{x}<br>n_images=%{y}<extra></extra>",
         "legendgroup": "SPACE_000040",
         "marker": {
          "color": "#DDCB76",
          "pattern": {
           "shape": ""
          }
         },
         "name": "SPACE_000040",
         "offsetgroup": "SPACE_000040",
         "orientation": "v",
         "showlegend": true,
         "textposition": "auto",
         "type": "bar",
         "x": [
          "stomach",
          "small bowel",
          "colon",
          "liver",
          "omentum",
          "background"
         ],
         "xaxis": "x",
         "y": [
          1,
          2,
          2,
          2,
          2,
          2
         ],
         "yaxis": "y"
        },
        {
         "alignmentgroup": "True",
         "hovertemplate": "subject_name=SPACE_000041<br>species_name=human<br>label_name=%{x}<br>n_images=%{y}<extra></extra>",
         "legendgroup": "SPACE_000041",
         "marker": {
          "color": "#DDCB76",
          "pattern": {
           "shape": ""
          }
         },
         "name": "SPACE_000041",
         "offsetgroup": "SPACE_000041",
         "orientation": "v",
         "showlegend": true,
         "textposition": "auto",
         "type": "bar",
         "x": [
          "stomach",
          "small bowel",
          "colon",
          "liver",
          "omentum",
          "skin",
          "peritoneum",
          "background"
         ],
         "xaxis": "x",
         "y": [
          10,
          10,
          8,
          10,
          10,
          10,
          10,
          10
         ],
         "yaxis": "y"
        },
        {
         "alignmentgroup": "True",
         "hovertemplate": "subject_name=SPACE_000042<br>species_name=human<br>label_name=%{x}<br>n_images=%{y}<extra></extra>",
         "legendgroup": "SPACE_000042",
         "marker": {
          "color": "#DDCB76",
          "pattern": {
           "shape": ""
          }
         },
         "name": "SPACE_000042",
         "offsetgroup": "SPACE_000042",
         "orientation": "v",
         "showlegend": true,
         "textposition": "auto",
         "type": "bar",
         "x": [
          "skin",
          "background"
         ],
         "xaxis": "x",
         "y": [
          2,
          2
         ],
         "yaxis": "y"
        },
        {
         "alignmentgroup": "True",
         "hovertemplate": "subject_name=SPACE_000043<br>species_name=human<br>label_name=%{x}<br>n_images=%{y}<extra></extra>",
         "legendgroup": "SPACE_000043",
         "marker": {
          "color": "#DDCB76",
          "pattern": {
           "shape": ""
          }
         },
         "name": "SPACE_000043",
         "offsetgroup": "SPACE_000043",
         "orientation": "v",
         "showlegend": true,
         "textposition": "auto",
         "type": "bar",
         "x": [
          "small bowel",
          "omentum",
          "background"
         ],
         "xaxis": "x",
         "y": [
          2,
          1,
          2
         ],
         "yaxis": "y"
        },
        {
         "alignmentgroup": "True",
         "hovertemplate": "subject_name=SPACE_000044<br>species_name=human<br>label_name=%{x}<br>n_images=%{y}<extra></extra>",
         "legendgroup": "SPACE_000044",
         "marker": {
          "color": "#DDCB76",
          "pattern": {
           "shape": ""
          }
         },
         "name": "SPACE_000044",
         "offsetgroup": "SPACE_000044",
         "orientation": "v",
         "showlegend": true,
         "textposition": "auto",
         "type": "bar",
         "x": [
          "stomach",
          "small bowel",
          "colon",
          "liver",
          "background"
         ],
         "xaxis": "x",
         "y": [
          1,
          2,
          2,
          1,
          2
         ],
         "yaxis": "y"
        },
        {
         "alignmentgroup": "True",
         "hovertemplate": "subject_name=SPACE_000045<br>species_name=human<br>label_name=%{x}<br>n_images=%{y}<extra></extra>",
         "legendgroup": "SPACE_000045",
         "marker": {
          "color": "#DDCB76",
          "pattern": {
           "shape": ""
          }
         },
         "name": "SPACE_000045",
         "offsetgroup": "SPACE_000045",
         "orientation": "v",
         "showlegend": true,
         "textposition": "auto",
         "type": "bar",
         "x": [
          "stomach",
          "small bowel",
          "colon",
          "liver",
          "omentum",
          "background"
         ],
         "xaxis": "x",
         "y": [
          2,
          1,
          1,
          1,
          2,
          2
         ],
         "yaxis": "y"
        },
        {
         "alignmentgroup": "True",
         "hovertemplate": "subject_name=SPACE_000046<br>species_name=human<br>label_name=%{x}<br>n_images=%{y}<extra></extra>",
         "legendgroup": "SPACE_000046",
         "marker": {
          "color": "#DDCB76",
          "pattern": {
           "shape": ""
          }
         },
         "name": "SPACE_000046",
         "offsetgroup": "SPACE_000046",
         "orientation": "v",
         "showlegend": true,
         "textposition": "auto",
         "type": "bar",
         "x": [
          "stomach",
          "small bowel",
          "liver",
          "omentum",
          "skin",
          "background"
         ],
         "xaxis": "x",
         "y": [
          1,
          1,
          1,
          1,
          2,
          2
         ],
         "yaxis": "y"
        },
        {
         "alignmentgroup": "True",
         "hovertemplate": "subject_name=SPACE_000047<br>species_name=human<br>label_name=%{x}<br>n_images=%{y}<extra></extra>",
         "legendgroup": "SPACE_000047",
         "marker": {
          "color": "#DDCB76",
          "pattern": {
           "shape": ""
          }
         },
         "name": "SPACE_000047",
         "offsetgroup": "SPACE_000047",
         "orientation": "v",
         "showlegend": true,
         "textposition": "auto",
         "type": "bar",
         "x": [
          "small bowel",
          "colon",
          "omentum",
          "background"
         ],
         "xaxis": "x",
         "y": [
          1,
          2,
          1,
          2
         ],
         "yaxis": "y"
        },
        {
         "alignmentgroup": "True",
         "hovertemplate": "subject_name=SPACE_000048<br>species_name=human<br>label_name=%{x}<br>n_images=%{y}<extra></extra>",
         "legendgroup": "SPACE_000048",
         "marker": {
          "color": "#DDCB76",
          "pattern": {
           "shape": ""
          }
         },
         "name": "SPACE_000048",
         "offsetgroup": "SPACE_000048",
         "orientation": "v",
         "showlegend": true,
         "textposition": "auto",
         "type": "bar",
         "x": [
          "stomach",
          "small bowel",
          "colon",
          "liver",
          "spleen",
          "omentum",
          "skin",
          "background"
         ],
         "xaxis": "x",
         "y": [
          6,
          7,
          5,
          11,
          3,
          9,
          4,
          11
         ],
         "yaxis": "y"
        },
        {
         "alignmentgroup": "True",
         "hovertemplate": "subject_name=SPACE_000049<br>species_name=human<br>label_name=%{x}<br>n_images=%{y}<extra></extra>",
         "legendgroup": "SPACE_000049",
         "marker": {
          "color": "#DDCB76",
          "pattern": {
           "shape": ""
          }
         },
         "name": "SPACE_000049",
         "offsetgroup": "SPACE_000049",
         "orientation": "v",
         "showlegend": true,
         "textposition": "auto",
         "type": "bar",
         "x": [
          "small bowel",
          "colon",
          "liver",
          "omentum",
          "background"
         ],
         "xaxis": "x",
         "y": [
          2,
          2,
          2,
          1,
          2
         ],
         "yaxis": "y"
        },
        {
         "alignmentgroup": "True",
         "hovertemplate": "subject_name=SPACE_000050<br>species_name=human<br>label_name=%{x}<br>n_images=%{y}<extra></extra>",
         "legendgroup": "SPACE_000050",
         "marker": {
          "color": "#DDCB76",
          "pattern": {
           "shape": ""
          }
         },
         "name": "SPACE_000050",
         "offsetgroup": "SPACE_000050",
         "orientation": "v",
         "showlegend": true,
         "textposition": "auto",
         "type": "bar",
         "x": [
          "kidney",
          "skin",
          "peritoneum",
          "background"
         ],
         "xaxis": "x",
         "y": [
          7,
          7,
          7,
          7
         ],
         "yaxis": "y"
        },
        {
         "alignmentgroup": "True",
         "hovertemplate": "subject_name=SPACE_000051<br>species_name=human<br>label_name=%{x}<br>n_images=%{y}<extra></extra>",
         "legendgroup": "SPACE_000051",
         "marker": {
          "color": "#DDCB76",
          "pattern": {
           "shape": ""
          }
         },
         "name": "SPACE_000051",
         "offsetgroup": "SPACE_000051",
         "orientation": "v",
         "showlegend": true,
         "textposition": "auto",
         "type": "bar",
         "x": [
          "stomach",
          "colon",
          "liver",
          "omentum",
          "background"
         ],
         "xaxis": "x",
         "y": [
          1,
          2,
          2,
          2,
          2
         ],
         "yaxis": "y"
        },
        {
         "alignmentgroup": "True",
         "hovertemplate": "subject_name=SPACE_000052<br>species_name=human<br>label_name=%{x}<br>n_images=%{y}<extra></extra>",
         "legendgroup": "SPACE_000052",
         "marker": {
          "color": "#DDCB76",
          "pattern": {
           "shape": ""
          }
         },
         "name": "SPACE_000052",
         "offsetgroup": "SPACE_000052",
         "orientation": "v",
         "showlegend": true,
         "textposition": "auto",
         "type": "bar",
         "x": [
          "stomach",
          "small bowel",
          "colon",
          "liver",
          "omentum",
          "peritoneum",
          "background"
         ],
         "xaxis": "x",
         "y": [
          4,
          3,
          4,
          4,
          4,
          3,
          5
         ],
         "yaxis": "y"
        },
        {
         "alignmentgroup": "True",
         "hovertemplate": "subject_name=SPACE_000053<br>species_name=human<br>label_name=%{x}<br>n_images=%{y}<extra></extra>",
         "legendgroup": "SPACE_000053",
         "marker": {
          "color": "#DDCB76",
          "pattern": {
           "shape": ""
          }
         },
         "name": "SPACE_000053",
         "offsetgroup": "SPACE_000053",
         "orientation": "v",
         "showlegend": true,
         "textposition": "auto",
         "type": "bar",
         "x": [
          "stomach",
          "small bowel",
          "colon",
          "liver",
          "omentum",
          "background"
         ],
         "xaxis": "x",
         "y": [
          3,
          4,
          1,
          3,
          4,
          4
         ],
         "yaxis": "y"
        },
        {
         "alignmentgroup": "True",
         "hovertemplate": "subject_name=SPACE_000056<br>species_name=human<br>label_name=%{x}<br>n_images=%{y}<extra></extra>",
         "legendgroup": "SPACE_000056",
         "marker": {
          "color": "#DDCB76",
          "pattern": {
           "shape": ""
          }
         },
         "name": "SPACE_000056",
         "offsetgroup": "SPACE_000056",
         "orientation": "v",
         "showlegend": true,
         "textposition": "auto",
         "type": "bar",
         "x": [
          "stomach",
          "small bowel",
          "colon",
          "liver",
          "pancreas",
          "background"
         ],
         "xaxis": "x",
         "y": [
          3,
          1,
          4,
          3,
          3,
          4
         ],
         "yaxis": "y"
        },
        {
         "alignmentgroup": "True",
         "hovertemplate": "subject_name=SPACE_000057<br>species_name=human<br>label_name=%{x}<br>n_images=%{y}<extra></extra>",
         "legendgroup": "SPACE_000057",
         "marker": {
          "color": "#DDCB76",
          "pattern": {
           "shape": ""
          }
         },
         "name": "SPACE_000057",
         "offsetgroup": "SPACE_000057",
         "orientation": "v",
         "showlegend": true,
         "textposition": "auto",
         "type": "bar",
         "x": [
          "kidney",
          "skin",
          "background"
         ],
         "xaxis": "x",
         "y": [
          2,
          2,
          2
         ],
         "yaxis": "y"
        },
        {
         "alignmentgroup": "True",
         "hovertemplate": "subject_name=SPACE_000058<br>species_name=human<br>label_name=%{x}<br>n_images=%{y}<extra></extra>",
         "legendgroup": "SPACE_000058",
         "marker": {
          "color": "#DDCB76",
          "pattern": {
           "shape": ""
          }
         },
         "name": "SPACE_000058",
         "offsetgroup": "SPACE_000058",
         "orientation": "v",
         "showlegend": true,
         "textposition": "auto",
         "type": "bar",
         "x": [
          "stomach",
          "small bowel",
          "liver",
          "pancreas",
          "spleen",
          "skin",
          "background"
         ],
         "xaxis": "x",
         "y": [
          2,
          4,
          5,
          1,
          2,
          2,
          5
         ],
         "yaxis": "y"
        },
        {
         "alignmentgroup": "True",
         "hovertemplate": "subject_name=SPACE_000059<br>species_name=human<br>label_name=%{x}<br>n_images=%{y}<extra></extra>",
         "legendgroup": "SPACE_000059",
         "marker": {
          "color": "#DDCB76",
          "pattern": {
           "shape": ""
          }
         },
         "name": "SPACE_000059",
         "offsetgroup": "SPACE_000059",
         "orientation": "v",
         "showlegend": true,
         "textposition": "auto",
         "type": "bar",
         "x": [
          "stomach",
          "liver",
          "pancreas",
          "omentum",
          "background"
         ],
         "xaxis": "x",
         "y": [
          1,
          1,
          1,
          2,
          2
         ],
         "yaxis": "y"
        },
        {
         "alignmentgroup": "True",
         "hovertemplate": "subject_name=SPACE_000060<br>species_name=human<br>label_name=%{x}<br>n_images=%{y}<extra></extra>",
         "legendgroup": "SPACE_000060",
         "marker": {
          "color": "#DDCB76",
          "pattern": {
           "shape": ""
          }
         },
         "name": "SPACE_000060",
         "offsetgroup": "SPACE_000060",
         "orientation": "v",
         "showlegend": true,
         "textposition": "auto",
         "type": "bar",
         "x": [
          "stomach",
          "colon",
          "liver",
          "background"
         ],
         "xaxis": "x",
         "y": [
          1,
          1,
          1,
          2
         ],
         "yaxis": "y"
        },
        {
         "alignmentgroup": "True",
         "hovertemplate": "subject_name=SPACE_000061<br>species_name=human<br>label_name=%{x}<br>n_images=%{y}<extra></extra>",
         "legendgroup": "SPACE_000061",
         "marker": {
          "color": "#DDCB76",
          "pattern": {
           "shape": ""
          }
         },
         "name": "SPACE_000061",
         "offsetgroup": "SPACE_000061",
         "orientation": "v",
         "showlegend": true,
         "textposition": "auto",
         "type": "bar",
         "x": [
          "colon",
          "liver",
          "omentum",
          "skin",
          "background"
         ],
         "xaxis": "x",
         "y": [
          1,
          2,
          1,
          2,
          2
         ],
         "yaxis": "y"
        },
        {
         "alignmentgroup": "True",
         "hovertemplate": "subject_name=SPACE_000062<br>species_name=human<br>label_name=%{x}<br>n_images=%{y}<extra></extra>",
         "legendgroup": "SPACE_000062",
         "marker": {
          "color": "#DDCB76",
          "pattern": {
           "shape": ""
          }
         },
         "name": "SPACE_000062",
         "offsetgroup": "SPACE_000062",
         "orientation": "v",
         "showlegend": true,
         "textposition": "auto",
         "type": "bar",
         "x": [
          "stomach",
          "small bowel",
          "colon",
          "liver",
          "pancreas",
          "omentum",
          "background"
         ],
         "xaxis": "x",
         "y": [
          5,
          5,
          4,
          9,
          5,
          8,
          9
         ],
         "yaxis": "y"
        },
        {
         "alignmentgroup": "True",
         "hovertemplate": "subject_name=SPACE_000063<br>species_name=human<br>label_name=%{x}<br>n_images=%{y}<extra></extra>",
         "legendgroup": "SPACE_000063",
         "marker": {
          "color": "#DDCB76",
          "pattern": {
           "shape": ""
          }
         },
         "name": "SPACE_000063",
         "offsetgroup": "SPACE_000063",
         "orientation": "v",
         "showlegend": true,
         "textposition": "auto",
         "type": "bar",
         "x": [
          "stomach",
          "small bowel",
          "colon",
          "liver",
          "omentum",
          "peritoneum",
          "background"
         ],
         "xaxis": "x",
         "y": [
          6,
          3,
          5,
          8,
          7,
          3,
          8
         ],
         "yaxis": "y"
        },
        {
         "alignmentgroup": "True",
         "hovertemplate": "subject_name=SPACE_000064<br>species_name=human<br>label_name=%{x}<br>n_images=%{y}<extra></extra>",
         "legendgroup": "SPACE_000064",
         "marker": {
          "color": "#DDCB76",
          "pattern": {
           "shape": ""
          }
         },
         "name": "SPACE_000064",
         "offsetgroup": "SPACE_000064",
         "orientation": "v",
         "showlegend": true,
         "textposition": "auto",
         "type": "bar",
         "x": [
          "stomach",
          "small bowel",
          "colon",
          "liver",
          "omentum",
          "background"
         ],
         "xaxis": "x",
         "y": [
          1,
          2,
          2,
          1,
          2,
          2
         ],
         "yaxis": "y"
        },
        {
         "alignmentgroup": "True",
         "hovertemplate": "subject_name=SPACE_000065<br>species_name=human<br>label_name=%{x}<br>n_images=%{y}<extra></extra>",
         "legendgroup": "SPACE_000065",
         "marker": {
          "color": "#DDCB76",
          "pattern": {
           "shape": ""
          }
         },
         "name": "SPACE_000065",
         "offsetgroup": "SPACE_000065",
         "orientation": "v",
         "showlegend": true,
         "textposition": "auto",
         "type": "bar",
         "x": [
          "stomach",
          "small bowel",
          "colon",
          "liver",
          "omentum",
          "skin",
          "peritoneum",
          "background"
         ],
         "xaxis": "x",
         "y": [
          7,
          3,
          3,
          8,
          8,
          1,
          8,
          8
         ],
         "yaxis": "y"
        },
        {
         "alignmentgroup": "True",
         "hovertemplate": "subject_name=SPACE_000066<br>species_name=human<br>label_name=%{x}<br>n_images=%{y}<extra></extra>",
         "legendgroup": "SPACE_000066",
         "marker": {
          "color": "#DDCB76",
          "pattern": {
           "shape": ""
          }
         },
         "name": "SPACE_000066",
         "offsetgroup": "SPACE_000066",
         "orientation": "v",
         "showlegend": true,
         "textposition": "auto",
         "type": "bar",
         "x": [
          "stomach",
          "small bowel",
          "colon",
          "liver",
          "omentum",
          "skin",
          "background"
         ],
         "xaxis": "x",
         "y": [
          3,
          3,
          3,
          4,
          1,
          1,
          4
         ],
         "yaxis": "y"
        },
        {
         "alignmentgroup": "True",
         "hovertemplate": "subject_name=SPACE_000067<br>species_name=human<br>label_name=%{x}<br>n_images=%{y}<extra></extra>",
         "legendgroup": "SPACE_000067",
         "marker": {
          "color": "#DDCB76",
          "pattern": {
           "shape": ""
          }
         },
         "name": "SPACE_000067",
         "offsetgroup": "SPACE_000067",
         "orientation": "v",
         "showlegend": true,
         "textposition": "auto",
         "type": "bar",
         "x": [
          "stomach",
          "small bowel",
          "colon",
          "liver",
          "omentum",
          "background"
         ],
         "xaxis": "x",
         "y": [
          2,
          1,
          1,
          2,
          1,
          2
         ],
         "yaxis": "y"
        },
        {
         "alignmentgroup": "True",
         "hovertemplate": "subject_name=SPACE_000068<br>species_name=human<br>label_name=%{x}<br>n_images=%{y}<extra></extra>",
         "legendgroup": "SPACE_000068",
         "marker": {
          "color": "#DDCB76",
          "pattern": {
           "shape": ""
          }
         },
         "name": "SPACE_000068",
         "offsetgroup": "SPACE_000068",
         "orientation": "v",
         "showlegend": true,
         "textposition": "auto",
         "type": "bar",
         "x": [
          "stomach",
          "small bowel",
          "liver",
          "pancreas",
          "omentum",
          "background"
         ],
         "xaxis": "x",
         "y": [
          2,
          2,
          1,
          1,
          2,
          2
         ],
         "yaxis": "y"
        },
        {
         "alignmentgroup": "True",
         "hovertemplate": "subject_name=SPACE_000069<br>species_name=human<br>label_name=%{x}<br>n_images=%{y}<extra></extra>",
         "legendgroup": "SPACE_000069",
         "marker": {
          "color": "#DDCB76",
          "pattern": {
           "shape": ""
          }
         },
         "name": "SPACE_000069",
         "offsetgroup": "SPACE_000069",
         "orientation": "v",
         "showlegend": true,
         "textposition": "auto",
         "type": "bar",
         "x": [
          "stomach",
          "small bowel",
          "liver",
          "omentum",
          "background"
         ],
         "xaxis": "x",
         "y": [
          1,
          2,
          1,
          2,
          2
         ],
         "yaxis": "y"
        },
        {
         "alignmentgroup": "True",
         "hovertemplate": "subject_name=SPACE_000070<br>species_name=human<br>label_name=%{x}<br>n_images=%{y}<extra></extra>",
         "legendgroup": "SPACE_000070",
         "marker": {
          "color": "#DDCB76",
          "pattern": {
           "shape": ""
          }
         },
         "name": "SPACE_000070",
         "offsetgroup": "SPACE_000070",
         "orientation": "v",
         "showlegend": true,
         "textposition": "auto",
         "type": "bar",
         "x": [
          "stomach",
          "small bowel",
          "colon",
          "liver",
          "pancreas",
          "omentum",
          "background"
         ],
         "xaxis": "x",
         "y": [
          2,
          1,
          2,
          2,
          1,
          4,
          4
         ],
         "yaxis": "y"
        },
        {
         "alignmentgroup": "True",
         "hovertemplate": "subject_name=SPACE_000071<br>species_name=human<br>label_name=%{x}<br>n_images=%{y}<extra></extra>",
         "legendgroup": "SPACE_000071",
         "marker": {
          "color": "#DDCB76",
          "pattern": {
           "shape": ""
          }
         },
         "name": "SPACE_000071",
         "offsetgroup": "SPACE_000071",
         "orientation": "v",
         "showlegend": true,
         "textposition": "auto",
         "type": "bar",
         "x": [
          "stomach",
          "colon",
          "liver",
          "omentum",
          "skin",
          "background"
         ],
         "xaxis": "x",
         "y": [
          1,
          2,
          3,
          1,
          2,
          3
         ],
         "yaxis": "y"
        },
        {
         "alignmentgroup": "True",
         "hovertemplate": "subject_name=SPACE_000072<br>species_name=human<br>label_name=%{x}<br>n_images=%{y}<extra></extra>",
         "legendgroup": "SPACE_000072",
         "marker": {
          "color": "#DDCB76",
          "pattern": {
           "shape": ""
          }
         },
         "name": "SPACE_000072",
         "offsetgroup": "SPACE_000072",
         "orientation": "v",
         "showlegend": true,
         "textposition": "auto",
         "type": "bar",
         "x": [
          "stomach",
          "small bowel",
          "colon",
          "liver",
          "pancreas",
          "spleen",
          "omentum",
          "skin",
          "peritoneum",
          "background"
         ],
         "xaxis": "x",
         "y": [
          8,
          12,
          9,
          17,
          5,
          3,
          17,
          2,
          2,
          17
         ],
         "yaxis": "y"
        },
        {
         "alignmentgroup": "True",
         "hovertemplate": "subject_name=SPACE_000073<br>species_name=human<br>label_name=%{x}<br>n_images=%{y}<extra></extra>",
         "legendgroup": "SPACE_000073",
         "marker": {
          "color": "#DDCB76",
          "pattern": {
           "shape": ""
          }
         },
         "name": "SPACE_000073",
         "offsetgroup": "SPACE_000073",
         "orientation": "v",
         "showlegend": true,
         "textposition": "auto",
         "type": "bar",
         "x": [
          "stomach",
          "small bowel",
          "colon",
          "liver",
          "omentum",
          "background"
         ],
         "xaxis": "x",
         "y": [
          1,
          3,
          3,
          4,
          5,
          5
         ],
         "yaxis": "y"
        },
        {
         "alignmentgroup": "True",
         "hovertemplate": "subject_name=SPACE_000074<br>species_name=human<br>label_name=%{x}<br>n_images=%{y}<extra></extra>",
         "legendgroup": "SPACE_000074",
         "marker": {
          "color": "#DDCB76",
          "pattern": {
           "shape": ""
          }
         },
         "name": "SPACE_000074",
         "offsetgroup": "SPACE_000074",
         "orientation": "v",
         "showlegend": true,
         "textposition": "auto",
         "type": "bar",
         "x": [
          "stomach",
          "small bowel",
          "colon",
          "liver",
          "pancreas",
          "omentum",
          "background"
         ],
         "xaxis": "x",
         "y": [
          7,
          4,
          6,
          7,
          3,
          7,
          7
         ],
         "yaxis": "y"
        },
        {
         "alignmentgroup": "True",
         "hovertemplate": "subject_name=SPACE_000075<br>species_name=human<br>label_name=%{x}<br>n_images=%{y}<extra></extra>",
         "legendgroup": "SPACE_000075",
         "marker": {
          "color": "#DDCB76",
          "pattern": {
           "shape": ""
          }
         },
         "name": "SPACE_000075",
         "offsetgroup": "SPACE_000075",
         "orientation": "v",
         "showlegend": true,
         "textposition": "auto",
         "type": "bar",
         "x": [
          "stomach",
          "small bowel",
          "colon",
          "liver",
          "spleen",
          "omentum",
          "lung",
          "skin",
          "peritoneum",
          "background"
         ],
         "xaxis": "x",
         "y": [
          3,
          3,
          1,
          3,
          2,
          3,
          6,
          8,
          2,
          9
         ],
         "yaxis": "y"
        },
        {
         "alignmentgroup": "True",
         "hovertemplate": "subject_name=SPACE_000076<br>species_name=human<br>label_name=%{x}<br>n_images=%{y}<extra></extra>",
         "legendgroup": "SPACE_000076",
         "marker": {
          "color": "#DDCB76",
          "pattern": {
           "shape": ""
          }
         },
         "name": "SPACE_000076",
         "offsetgroup": "SPACE_000076",
         "orientation": "v",
         "showlegend": true,
         "textposition": "auto",
         "type": "bar",
         "x": [
          "stomach",
          "small bowel",
          "colon",
          "liver",
          "omentum",
          "lung",
          "skin",
          "background"
         ],
         "xaxis": "x",
         "y": [
          1,
          1,
          1,
          1,
          1,
          6,
          6,
          7
         ],
         "yaxis": "y"
        },
        {
         "alignmentgroup": "True",
         "hovertemplate": "subject_name=SPACE_000077<br>species_name=human<br>label_name=%{x}<br>n_images=%{y}<extra></extra>",
         "legendgroup": "SPACE_000077",
         "marker": {
          "color": "#DDCB76",
          "pattern": {
           "shape": ""
          }
         },
         "name": "SPACE_000077",
         "offsetgroup": "SPACE_000077",
         "orientation": "v",
         "showlegend": true,
         "textposition": "auto",
         "type": "bar",
         "x": [
          "small bowel",
          "colon",
          "liver",
          "background"
         ],
         "xaxis": "x",
         "y": [
          2,
          1,
          1,
          2
         ],
         "yaxis": "y"
        },
        {
         "alignmentgroup": "True",
         "hovertemplate": "subject_name=SPACE_000078<br>species_name=human<br>label_name=%{x}<br>n_images=%{y}<extra></extra>",
         "legendgroup": "SPACE_000078",
         "marker": {
          "color": "#DDCB76",
          "pattern": {
           "shape": ""
          }
         },
         "name": "SPACE_000078",
         "offsetgroup": "SPACE_000078",
         "orientation": "v",
         "showlegend": true,
         "textposition": "auto",
         "type": "bar",
         "x": [
          "small bowel",
          "liver",
          "background"
         ],
         "xaxis": "x",
         "y": [
          2,
          2,
          2
         ],
         "yaxis": "y"
        },
        {
         "alignmentgroup": "True",
         "hovertemplate": "subject_name=SPACE_000080<br>species_name=human<br>label_name=%{x}<br>n_images=%{y}<extra></extra>",
         "legendgroup": "SPACE_000080",
         "marker": {
          "color": "#DDCB76",
          "pattern": {
           "shape": ""
          }
         },
         "name": "SPACE_000080",
         "offsetgroup": "SPACE_000080",
         "orientation": "v",
         "showlegend": true,
         "textposition": "auto",
         "type": "bar",
         "x": [
          "small bowel",
          "colon",
          "liver",
          "omentum",
          "background"
         ],
         "xaxis": "x",
         "y": [
          1,
          1,
          1,
          2,
          3
         ],
         "yaxis": "y"
        },
        {
         "alignmentgroup": "True",
         "hovertemplate": "subject_name=SPACE_000081<br>species_name=human<br>label_name=%{x}<br>n_images=%{y}<extra></extra>",
         "legendgroup": "SPACE_000081",
         "marker": {
          "color": "#DDCB76",
          "pattern": {
           "shape": ""
          }
         },
         "name": "SPACE_000081",
         "offsetgroup": "SPACE_000081",
         "orientation": "v",
         "showlegend": true,
         "textposition": "auto",
         "type": "bar",
         "x": [
          "stomach",
          "small bowel",
          "colon",
          "liver",
          "background"
         ],
         "xaxis": "x",
         "y": [
          1,
          1,
          2,
          1,
          2
         ],
         "yaxis": "y"
        },
        {
         "alignmentgroup": "True",
         "hovertemplate": "subject_name=SPACE_000083<br>species_name=human<br>label_name=%{x}<br>n_images=%{y}<extra></extra>",
         "legendgroup": "SPACE_000083",
         "marker": {
          "color": "#DDCB76",
          "pattern": {
           "shape": ""
          }
         },
         "name": "SPACE_000083",
         "offsetgroup": "SPACE_000083",
         "orientation": "v",
         "showlegend": true,
         "textposition": "auto",
         "type": "bar",
         "x": [
          "stomach",
          "liver",
          "omentum",
          "peritoneum",
          "background"
         ],
         "xaxis": "x",
         "y": [
          4,
          5,
          5,
          2,
          5
         ],
         "yaxis": "y"
        },
        {
         "alignmentgroup": "True",
         "hovertemplate": "subject_name=SPACE_000084<br>species_name=human<br>label_name=%{x}<br>n_images=%{y}<extra></extra>",
         "legendgroup": "SPACE_000084",
         "marker": {
          "color": "#DDCB76",
          "pattern": {
           "shape": ""
          }
         },
         "name": "SPACE_000084",
         "offsetgroup": "SPACE_000084",
         "orientation": "v",
         "showlegend": true,
         "textposition": "auto",
         "type": "bar",
         "x": [
          "stomach",
          "liver",
          "omentum",
          "background"
         ],
         "xaxis": "x",
         "y": [
          1,
          8,
          1,
          8
         ],
         "yaxis": "y"
        },
        {
         "alignmentgroup": "True",
         "hovertemplate": "subject_name=SPACE_000085<br>species_name=human<br>label_name=%{x}<br>n_images=%{y}<extra></extra>",
         "legendgroup": "SPACE_000085",
         "marker": {
          "color": "#DDCB76",
          "pattern": {
           "shape": ""
          }
         },
         "name": "SPACE_000085",
         "offsetgroup": "SPACE_000085",
         "orientation": "v",
         "showlegend": true,
         "textposition": "auto",
         "type": "bar",
         "x": [
          "stomach",
          "small bowel",
          "colon",
          "liver",
          "omentum",
          "skin",
          "peritoneum",
          "background"
         ],
         "xaxis": "x",
         "y": [
          6,
          1,
          6,
          8,
          9,
          9,
          3,
          9
         ],
         "yaxis": "y"
        },
        {
         "alignmentgroup": "True",
         "hovertemplate": "subject_name=SPACE_000086<br>species_name=human<br>label_name=%{x}<br>n_images=%{y}<extra></extra>",
         "legendgroup": "SPACE_000086",
         "marker": {
          "color": "#DDCB76",
          "pattern": {
           "shape": ""
          }
         },
         "name": "SPACE_000086",
         "offsetgroup": "SPACE_000086",
         "orientation": "v",
         "showlegend": true,
         "textposition": "auto",
         "type": "bar",
         "x": [
          "stomach",
          "small bowel",
          "colon",
          "liver",
          "pancreas",
          "spleen",
          "omentum",
          "background"
         ],
         "xaxis": "x",
         "y": [
          14,
          14,
          13,
          16,
          7,
          6,
          16,
          16
         ],
         "yaxis": "y"
        },
        {
         "alignmentgroup": "True",
         "hovertemplate": "subject_name=SPACE_000087<br>species_name=human<br>label_name=%{x}<br>n_images=%{y}<extra></extra>",
         "legendgroup": "SPACE_000087",
         "marker": {
          "color": "#DDCB76",
          "pattern": {
           "shape": ""
          }
         },
         "name": "SPACE_000087",
         "offsetgroup": "SPACE_000087",
         "orientation": "v",
         "showlegend": true,
         "textposition": "auto",
         "type": "bar",
         "x": [
          "stomach",
          "small bowel",
          "colon",
          "liver",
          "omentum",
          "skin",
          "peritoneum",
          "background"
         ],
         "xaxis": "x",
         "y": [
          1,
          3,
          1,
          6,
          5,
          4,
          6,
          8
         ],
         "yaxis": "y"
        },
        {
         "alignmentgroup": "True",
         "hovertemplate": "subject_name=SPACE_000088<br>species_name=human<br>label_name=%{x}<br>n_images=%{y}<extra></extra>",
         "legendgroup": "SPACE_000088",
         "marker": {
          "color": "#DDCB76",
          "pattern": {
           "shape": ""
          }
         },
         "name": "SPACE_000088",
         "offsetgroup": "SPACE_000088",
         "orientation": "v",
         "showlegend": true,
         "textposition": "auto",
         "type": "bar",
         "x": [
          "small bowel",
          "omentum",
          "skin",
          "background"
         ],
         "xaxis": "x",
         "y": [
          2,
          1,
          2,
          2
         ],
         "yaxis": "y"
        },
        {
         "alignmentgroup": "True",
         "hovertemplate": "subject_name=SPACE_000089<br>species_name=human<br>label_name=%{x}<br>n_images=%{y}<extra></extra>",
         "legendgroup": "SPACE_000089",
         "marker": {
          "color": "#DDCB76",
          "pattern": {
           "shape": ""
          }
         },
         "name": "SPACE_000089",
         "offsetgroup": "SPACE_000089",
         "orientation": "v",
         "showlegend": true,
         "textposition": "auto",
         "type": "bar",
         "x": [
          "kidney"
         ],
         "xaxis": "x",
         "y": [
          2
         ],
         "yaxis": "y"
        },
        {
         "alignmentgroup": "True",
         "hovertemplate": "subject_name=SPACE_000090<br>species_name=human<br>label_name=%{x}<br>n_images=%{y}<extra></extra>",
         "legendgroup": "SPACE_000090",
         "marker": {
          "color": "#DDCB76",
          "pattern": {
           "shape": ""
          }
         },
         "name": "SPACE_000090",
         "offsetgroup": "SPACE_000090",
         "orientation": "v",
         "showlegend": true,
         "textposition": "auto",
         "type": "bar",
         "x": [
          "kidney",
          "skin",
          "peritoneum",
          "background"
         ],
         "xaxis": "x",
         "y": [
          2,
          2,
          1,
          2
         ],
         "yaxis": "y"
        },
        {
         "alignmentgroup": "True",
         "hovertemplate": "subject_name=SPACE_000091<br>species_name=human<br>label_name=%{x}<br>n_images=%{y}<extra></extra>",
         "legendgroup": "SPACE_000091",
         "marker": {
          "color": "#DDCB76",
          "pattern": {
           "shape": ""
          }
         },
         "name": "SPACE_000091",
         "offsetgroup": "SPACE_000091",
         "orientation": "v",
         "showlegend": true,
         "textposition": "auto",
         "type": "bar",
         "x": [
          "stomach",
          "small bowel",
          "colon",
          "liver",
          "spleen",
          "omentum",
          "skin",
          "background"
         ],
         "xaxis": "x",
         "y": [
          11,
          6,
          8,
          10,
          1,
          11,
          3,
          11
         ],
         "yaxis": "y"
        },
        {
         "alignmentgroup": "True",
         "hovertemplate": "subject_name=SPACE_000092<br>species_name=human<br>label_name=%{x}<br>n_images=%{y}<extra></extra>",
         "legendgroup": "SPACE_000092",
         "marker": {
          "color": "#DDCB76",
          "pattern": {
           "shape": ""
          }
         },
         "name": "SPACE_000092",
         "offsetgroup": "SPACE_000092",
         "orientation": "v",
         "showlegend": true,
         "textposition": "auto",
         "type": "bar",
         "x": [
          "stomach",
          "small bowel",
          "colon",
          "liver",
          "omentum",
          "background"
         ],
         "xaxis": "x",
         "y": [
          1,
          1,
          1,
          2,
          2,
          2
         ],
         "yaxis": "y"
        },
        {
         "alignmentgroup": "True",
         "hovertemplate": "subject_name=SPACE_000093<br>species_name=human<br>label_name=%{x}<br>n_images=%{y}<extra></extra>",
         "legendgroup": "SPACE_000093",
         "marker": {
          "color": "#DDCB76",
          "pattern": {
           "shape": ""
          }
         },
         "name": "SPACE_000093",
         "offsetgroup": "SPACE_000093",
         "orientation": "v",
         "showlegend": true,
         "textposition": "auto",
         "type": "bar",
         "x": [
          "small bowel",
          "colon",
          "omentum",
          "background"
         ],
         "xaxis": "x",
         "y": [
          1,
          2,
          2,
          2
         ],
         "yaxis": "y"
        },
        {
         "alignmentgroup": "True",
         "hovertemplate": "subject_name=SPACE_000094<br>species_name=human<br>label_name=%{x}<br>n_images=%{y}<extra></extra>",
         "legendgroup": "SPACE_000094",
         "marker": {
          "color": "#DDCB76",
          "pattern": {
           "shape": ""
          }
         },
         "name": "SPACE_000094",
         "offsetgroup": "SPACE_000094",
         "orientation": "v",
         "showlegend": true,
         "textposition": "auto",
         "type": "bar",
         "x": [
          "small bowel",
          "colon",
          "pancreas",
          "omentum",
          "background"
         ],
         "xaxis": "x",
         "y": [
          1,
          1,
          1,
          1,
          2
         ],
         "yaxis": "y"
        },
        {
         "alignmentgroup": "True",
         "hovertemplate": "subject_name=SPACE_000095<br>species_name=human<br>label_name=%{x}<br>n_images=%{y}<extra></extra>",
         "legendgroup": "SPACE_000095",
         "marker": {
          "color": "#DDCB76",
          "pattern": {
           "shape": ""
          }
         },
         "name": "SPACE_000095",
         "offsetgroup": "SPACE_000095",
         "orientation": "v",
         "showlegend": true,
         "textposition": "auto",
         "type": "bar",
         "x": [
          "kidney",
          "skin",
          "peritoneum",
          "background"
         ],
         "xaxis": "x",
         "y": [
          5,
          5,
          5,
          5
         ],
         "yaxis": "y"
        },
        {
         "alignmentgroup": "True",
         "hovertemplate": "subject_name=SPACE_000096<br>species_name=human<br>label_name=%{x}<br>n_images=%{y}<extra></extra>",
         "legendgroup": "SPACE_000096",
         "marker": {
          "color": "#DDCB76",
          "pattern": {
           "shape": ""
          }
         },
         "name": "SPACE_000096",
         "offsetgroup": "SPACE_000096",
         "orientation": "v",
         "showlegend": true,
         "textposition": "auto",
         "type": "bar",
         "x": [
          "stomach",
          "small bowel",
          "colon",
          "liver",
          "omentum",
          "background"
         ],
         "xaxis": "x",
         "y": [
          2,
          2,
          1,
          1,
          2,
          2
         ],
         "yaxis": "y"
        },
        {
         "alignmentgroup": "True",
         "hovertemplate": "subject_name=SPACE_000097<br>species_name=human<br>label_name=%{x}<br>n_images=%{y}<extra></extra>",
         "legendgroup": "SPACE_000097",
         "marker": {
          "color": "#DDCB76",
          "pattern": {
           "shape": ""
          }
         },
         "name": "SPACE_000097",
         "offsetgroup": "SPACE_000097",
         "orientation": "v",
         "showlegend": true,
         "textposition": "auto",
         "type": "bar",
         "x": [
          "small bowel",
          "colon",
          "liver",
          "lung",
          "skin",
          "background"
         ],
         "xaxis": "x",
         "y": [
          1,
          1,
          3,
          9,
          10,
          11
         ],
         "yaxis": "y"
        },
        {
         "alignmentgroup": "True",
         "hovertemplate": "subject_name=SPACE_000098<br>species_name=human<br>label_name=%{x}<br>n_images=%{y}<extra></extra>",
         "legendgroup": "SPACE_000098",
         "marker": {
          "color": "#DDCB76",
          "pattern": {
           "shape": ""
          }
         },
         "name": "SPACE_000098",
         "offsetgroup": "SPACE_000098",
         "orientation": "v",
         "showlegend": true,
         "textposition": "auto",
         "type": "bar",
         "x": [
          "stomach",
          "small bowel",
          "liver",
          "omentum",
          "background"
         ],
         "xaxis": "x",
         "y": [
          1,
          1,
          2,
          1,
          2
         ],
         "yaxis": "y"
        },
        {
         "alignmentgroup": "True",
         "hovertemplate": "subject_name=SPACE_000099<br>species_name=human<br>label_name=%{x}<br>n_images=%{y}<extra></extra>",
         "legendgroup": "SPACE_000099",
         "marker": {
          "color": "#DDCB76",
          "pattern": {
           "shape": ""
          }
         },
         "name": "SPACE_000099",
         "offsetgroup": "SPACE_000099",
         "orientation": "v",
         "showlegend": true,
         "textposition": "auto",
         "type": "bar",
         "x": [
          "small bowel",
          "colon",
          "liver",
          "omentum",
          "background"
         ],
         "xaxis": "x",
         "y": [
          2,
          2,
          2,
          1,
          2
         ],
         "yaxis": "y"
        },
        {
         "alignmentgroup": "True",
         "hovertemplate": "subject_name=SPACE_000100<br>species_name=human<br>label_name=%{x}<br>n_images=%{y}<extra></extra>",
         "legendgroup": "SPACE_000100",
         "marker": {
          "color": "#DDCB76",
          "pattern": {
           "shape": ""
          }
         },
         "name": "SPACE_000100",
         "offsetgroup": "SPACE_000100",
         "orientation": "v",
         "showlegend": true,
         "textposition": "auto",
         "type": "bar",
         "x": [
          "stomach",
          "small bowel",
          "colon",
          "liver",
          "omentum",
          "background"
         ],
         "xaxis": "x",
         "y": [
          5,
          2,
          5,
          8,
          8,
          8
         ],
         "yaxis": "y"
        },
        {
         "alignmentgroup": "True",
         "hovertemplate": "subject_name=SPACE_000101<br>species_name=human<br>label_name=%{x}<br>n_images=%{y}<extra></extra>",
         "legendgroup": "SPACE_000101",
         "marker": {
          "color": "#DDCB76",
          "pattern": {
           "shape": ""
          }
         },
         "name": "SPACE_000101",
         "offsetgroup": "SPACE_000101",
         "orientation": "v",
         "showlegend": true,
         "textposition": "auto",
         "type": "bar",
         "x": [
          "small bowel",
          "colon",
          "liver",
          "background"
         ],
         "xaxis": "x",
         "y": [
          2,
          1,
          1,
          2
         ],
         "yaxis": "y"
        },
        {
         "alignmentgroup": "True",
         "hovertemplate": "subject_name=SPACE_000102<br>species_name=human<br>label_name=%{x}<br>n_images=%{y}<extra></extra>",
         "legendgroup": "SPACE_000102",
         "marker": {
          "color": "#DDCB76",
          "pattern": {
           "shape": ""
          }
         },
         "name": "SPACE_000102",
         "offsetgroup": "SPACE_000102",
         "orientation": "v",
         "showlegend": true,
         "textposition": "auto",
         "type": "bar",
         "x": [
          "kidney",
          "skin",
          "peritoneum",
          "background"
         ],
         "xaxis": "x",
         "y": [
          4,
          4,
          4,
          4
         ],
         "yaxis": "y"
        },
        {
         "alignmentgroup": "True",
         "hovertemplate": "subject_name=SPACE_000103<br>species_name=human<br>label_name=%{x}<br>n_images=%{y}<extra></extra>",
         "legendgroup": "SPACE_000103",
         "marker": {
          "color": "#DDCB76",
          "pattern": {
           "shape": ""
          }
         },
         "name": "SPACE_000103",
         "offsetgroup": "SPACE_000103",
         "orientation": "v",
         "showlegend": true,
         "textposition": "auto",
         "type": "bar",
         "x": [
          "stomach",
          "small bowel",
          "colon",
          "liver",
          "pancreas",
          "spleen",
          "omentum",
          "background"
         ],
         "xaxis": "x",
         "y": [
          1,
          3,
          4,
          5,
          4,
          4,
          5,
          5
         ],
         "yaxis": "y"
        },
        {
         "alignmentgroup": "True",
         "hovertemplate": "subject_name=SPACE_000104<br>species_name=human<br>label_name=%{x}<br>n_images=%{y}<extra></extra>",
         "legendgroup": "SPACE_000104",
         "marker": {
          "color": "#DDCB76",
          "pattern": {
           "shape": ""
          }
         },
         "name": "SPACE_000104",
         "offsetgroup": "SPACE_000104",
         "orientation": "v",
         "showlegend": true,
         "textposition": "auto",
         "type": "bar",
         "x": [
          "small bowel",
          "colon",
          "omentum",
          "lung",
          "skin",
          "background"
         ],
         "xaxis": "x",
         "y": [
          1,
          1,
          1,
          8,
          8,
          10
         ],
         "yaxis": "y"
        },
        {
         "alignmentgroup": "True",
         "hovertemplate": "subject_name=SPACE_000105<br>species_name=human<br>label_name=%{x}<br>n_images=%{y}<extra></extra>",
         "legendgroup": "SPACE_000105",
         "marker": {
          "color": "#DDCB76",
          "pattern": {
           "shape": ""
          }
         },
         "name": "SPACE_000105",
         "offsetgroup": "SPACE_000105",
         "orientation": "v",
         "showlegend": true,
         "textposition": "auto",
         "type": "bar",
         "x": [
          "kidney",
          "skin",
          "peritoneum",
          "background"
         ],
         "xaxis": "x",
         "y": [
          5,
          5,
          3,
          5
         ],
         "yaxis": "y"
        },
        {
         "alignmentgroup": "True",
         "hovertemplate": "subject_name=SPACE_000106<br>species_name=human<br>label_name=%{x}<br>n_images=%{y}<extra></extra>",
         "legendgroup": "SPACE_000106",
         "marker": {
          "color": "#DDCB76",
          "pattern": {
           "shape": ""
          }
         },
         "name": "SPACE_000106",
         "offsetgroup": "SPACE_000106",
         "orientation": "v",
         "showlegend": true,
         "textposition": "auto",
         "type": "bar",
         "x": [
          "kidney"
         ],
         "xaxis": "x",
         "y": [
          13
         ],
         "yaxis": "y"
        },
        {
         "alignmentgroup": "True",
         "hovertemplate": "subject_name=SPACE_000107<br>species_name=human<br>label_name=%{x}<br>n_images=%{y}<extra></extra>",
         "legendgroup": "SPACE_000107",
         "marker": {
          "color": "#DDCB76",
          "pattern": {
           "shape": ""
          }
         },
         "name": "SPACE_000107",
         "offsetgroup": "SPACE_000107",
         "orientation": "v",
         "showlegend": true,
         "textposition": "auto",
         "type": "bar",
         "x": [
          "small bowel",
          "liver",
          "omentum",
          "background"
         ],
         "xaxis": "x",
         "y": [
          1,
          2,
          1,
          2
         ],
         "yaxis": "y"
        },
        {
         "alignmentgroup": "True",
         "hovertemplate": "subject_name=SPACE_000108<br>species_name=human<br>label_name=%{x}<br>n_images=%{y}<extra></extra>",
         "legendgroup": "SPACE_000108",
         "marker": {
          "color": "#DDCB76",
          "pattern": {
           "shape": ""
          }
         },
         "name": "SPACE_000108",
         "offsetgroup": "SPACE_000108",
         "orientation": "v",
         "showlegend": true,
         "textposition": "auto",
         "type": "bar",
         "x": [
          "kidney",
          "skin",
          "background"
         ],
         "xaxis": "x",
         "y": [
          2,
          2,
          2
         ],
         "yaxis": "y"
        },
        {
         "alignmentgroup": "True",
         "hovertemplate": "subject_name=SPACE_000109<br>species_name=human<br>label_name=%{x}<br>n_images=%{y}<extra></extra>",
         "legendgroup": "SPACE_000109",
         "marker": {
          "color": "#DDCB76",
          "pattern": {
           "shape": ""
          }
         },
         "name": "SPACE_000109",
         "offsetgroup": "SPACE_000109",
         "orientation": "v",
         "showlegend": true,
         "textposition": "auto",
         "type": "bar",
         "x": [
          "kidney",
          "skin",
          "background"
         ],
         "xaxis": "x",
         "y": [
          1,
          2,
          2
         ],
         "yaxis": "y"
        },
        {
         "alignmentgroup": "True",
         "hovertemplate": "subject_name=SPACE_000110<br>species_name=human<br>label_name=%{x}<br>n_images=%{y}<extra></extra>",
         "legendgroup": "SPACE_000110",
         "marker": {
          "color": "#DDCB76",
          "pattern": {
           "shape": ""
          }
         },
         "name": "SPACE_000110",
         "offsetgroup": "SPACE_000110",
         "orientation": "v",
         "showlegend": true,
         "textposition": "auto",
         "type": "bar",
         "x": [
          "stomach",
          "small bowel",
          "colon",
          "liver",
          "omentum",
          "skin",
          "peritoneum",
          "background"
         ],
         "xaxis": "x",
         "y": [
          4,
          1,
          4,
          4,
          4,
          2,
          2,
          4
         ],
         "yaxis": "y"
        },
        {
         "alignmentgroup": "True",
         "hovertemplate": "subject_name=SPACE_000111<br>species_name=human<br>label_name=%{x}<br>n_images=%{y}<extra></extra>",
         "legendgroup": "SPACE_000111",
         "marker": {
          "color": "#DDCB76",
          "pattern": {
           "shape": ""
          }
         },
         "name": "SPACE_000111",
         "offsetgroup": "SPACE_000111",
         "orientation": "v",
         "showlegend": true,
         "textposition": "auto",
         "type": "bar",
         "x": [
          "stomach",
          "small bowel",
          "colon",
          "liver",
          "omentum",
          "skin",
          "peritoneum",
          "background"
         ],
         "xaxis": "x",
         "y": [
          5,
          7,
          4,
          7,
          8,
          6,
          7,
          8
         ],
         "yaxis": "y"
        },
        {
         "alignmentgroup": "True",
         "hovertemplate": "subject_name=SPACE_000112<br>species_name=human<br>label_name=%{x}<br>n_images=%{y}<extra></extra>",
         "legendgroup": "SPACE_000112",
         "marker": {
          "color": "#DDCB76",
          "pattern": {
           "shape": ""
          }
         },
         "name": "SPACE_000112",
         "offsetgroup": "SPACE_000112",
         "orientation": "v",
         "showlegend": true,
         "textposition": "auto",
         "type": "bar",
         "x": [
          "kidney",
          "skin",
          "peritoneum",
          "background"
         ],
         "xaxis": "x",
         "y": [
          11,
          10,
          6,
          11
         ],
         "yaxis": "y"
        },
        {
         "alignmentgroup": "True",
         "hovertemplate": "subject_name=SPACE_000113<br>species_name=human<br>label_name=%{x}<br>n_images=%{y}<extra></extra>",
         "legendgroup": "SPACE_000113",
         "marker": {
          "color": "#DDCB76",
          "pattern": {
           "shape": ""
          }
         },
         "name": "SPACE_000113",
         "offsetgroup": "SPACE_000113",
         "orientation": "v",
         "showlegend": true,
         "textposition": "auto",
         "type": "bar",
         "x": [
          "kidney",
          "skin",
          "peritoneum",
          "background"
         ],
         "xaxis": "x",
         "y": [
          4,
          4,
          4,
          4
         ],
         "yaxis": "y"
        },
        {
         "alignmentgroup": "True",
         "hovertemplate": "subject_name=SPACE_000115<br>species_name=human<br>label_name=%{x}<br>n_images=%{y}<extra></extra>",
         "legendgroup": "SPACE_000115",
         "marker": {
          "color": "#DDCB76",
          "pattern": {
           "shape": ""
          }
         },
         "name": "SPACE_000115",
         "offsetgroup": "SPACE_000115",
         "orientation": "v",
         "showlegend": true,
         "textposition": "auto",
         "type": "bar",
         "x": [
          "colon",
          "kidney",
          "skin",
          "background"
         ],
         "xaxis": "x",
         "y": [
          1,
          2,
          2,
          2
         ],
         "yaxis": "y"
        },
        {
         "alignmentgroup": "True",
         "hovertemplate": "subject_name=SPACE_000116<br>species_name=human<br>label_name=%{x}<br>n_images=%{y}<extra></extra>",
         "legendgroup": "SPACE_000116",
         "marker": {
          "color": "#DDCB76",
          "pattern": {
           "shape": ""
          }
         },
         "name": "SPACE_000116",
         "offsetgroup": "SPACE_000116",
         "orientation": "v",
         "showlegend": true,
         "textposition": "auto",
         "type": "bar",
         "x": [
          "stomach",
          "liver",
          "omentum",
          "skin",
          "peritoneum",
          "background"
         ],
         "xaxis": "x",
         "y": [
          2,
          2,
          2,
          2,
          2,
          2
         ],
         "yaxis": "y"
        },
        {
         "alignmentgroup": "True",
         "hovertemplate": "subject_name=SPACE_000118<br>species_name=human<br>label_name=%{x}<br>n_images=%{y}<extra></extra>",
         "legendgroup": "SPACE_000118",
         "marker": {
          "color": "#DDCB76",
          "pattern": {
           "shape": ""
          }
         },
         "name": "SPACE_000118",
         "offsetgroup": "SPACE_000118",
         "orientation": "v",
         "showlegend": true,
         "textposition": "auto",
         "type": "bar",
         "x": [
          "kidney",
          "skin",
          "peritoneum",
          "background"
         ],
         "xaxis": "x",
         "y": [
          5,
          5,
          4,
          5
         ],
         "yaxis": "y"
        },
        {
         "alignmentgroup": "True",
         "hovertemplate": "subject_name=SPACE_000119<br>species_name=human<br>label_name=%{x}<br>n_images=%{y}<extra></extra>",
         "legendgroup": "SPACE_000119",
         "marker": {
          "color": "#DDCB76",
          "pattern": {
           "shape": ""
          }
         },
         "name": "SPACE_000119",
         "offsetgroup": "SPACE_000119",
         "orientation": "v",
         "showlegend": true,
         "textposition": "auto",
         "type": "bar",
         "x": [
          "stomach",
          "small bowel",
          "colon",
          "liver",
          "omentum",
          "skin",
          "peritoneum",
          "background"
         ],
         "xaxis": "x",
         "y": [
          4,
          6,
          6,
          6,
          5,
          4,
          5,
          6
         ],
         "yaxis": "y"
        },
        {
         "alignmentgroup": "True",
         "hovertemplate": "subject_name=SPACE_000120<br>species_name=human<br>label_name=%{x}<br>n_images=%{y}<extra></extra>",
         "legendgroup": "SPACE_000120",
         "marker": {
          "color": "#DDCB76",
          "pattern": {
           "shape": ""
          }
         },
         "name": "SPACE_000120",
         "offsetgroup": "SPACE_000120",
         "orientation": "v",
         "showlegend": true,
         "textposition": "auto",
         "type": "bar",
         "x": [
          "kidney",
          "skin",
          "background"
         ],
         "xaxis": "x",
         "y": [
          2,
          2,
          2
         ],
         "yaxis": "y"
        },
        {
         "alignmentgroup": "True",
         "hovertemplate": "subject_name=SPACE_000121<br>species_name=human<br>label_name=%{x}<br>n_images=%{y}<extra></extra>",
         "legendgroup": "SPACE_000121",
         "marker": {
          "color": "#DDCB76",
          "pattern": {
           "shape": ""
          }
         },
         "name": "SPACE_000121",
         "offsetgroup": "SPACE_000121",
         "orientation": "v",
         "showlegend": true,
         "textposition": "auto",
         "type": "bar",
         "x": [
          "kidney",
          "skin",
          "peritoneum",
          "background"
         ],
         "xaxis": "x",
         "y": [
          3,
          3,
          1,
          3
         ],
         "yaxis": "y"
        },
        {
         "alignmentgroup": "True",
         "hovertemplate": "subject_name=SPACE_000122<br>species_name=human<br>label_name=%{x}<br>n_images=%{y}<extra></extra>",
         "legendgroup": "SPACE_000122",
         "marker": {
          "color": "#DDCB76",
          "pattern": {
           "shape": ""
          }
         },
         "name": "SPACE_000122",
         "offsetgroup": "SPACE_000122",
         "orientation": "v",
         "showlegend": true,
         "textposition": "auto",
         "type": "bar",
         "x": [
          "kidney"
         ],
         "xaxis": "x",
         "y": [
          5
         ],
         "yaxis": "y"
        },
        {
         "alignmentgroup": "True",
         "hovertemplate": "subject_name=SPACE_000123<br>species_name=human<br>label_name=%{x}<br>n_images=%{y}<extra></extra>",
         "legendgroup": "SPACE_000123",
         "marker": {
          "color": "#DDCB76",
          "pattern": {
           "shape": ""
          }
         },
         "name": "SPACE_000123",
         "offsetgroup": "SPACE_000123",
         "orientation": "v",
         "showlegend": true,
         "textposition": "auto",
         "type": "bar",
         "x": [
          "stomach",
          "liver",
          "omentum",
          "skin",
          "peritoneum",
          "background"
         ],
         "xaxis": "x",
         "y": [
          3,
          7,
          1,
          6,
          6,
          5
         ],
         "yaxis": "y"
        },
        {
         "alignmentgroup": "True",
         "hovertemplate": "subject_name=SPACE_000124<br>species_name=human<br>label_name=%{x}<br>n_images=%{y}<extra></extra>",
         "legendgroup": "SPACE_000124",
         "marker": {
          "color": "#DDCB76",
          "pattern": {
           "shape": ""
          }
         },
         "name": "SPACE_000124",
         "offsetgroup": "SPACE_000124",
         "orientation": "v",
         "showlegend": true,
         "textposition": "auto",
         "type": "bar",
         "x": [
          "stomach",
          "small bowel",
          "colon",
          "liver",
          "pancreas",
          "omentum",
          "background"
         ],
         "xaxis": "x",
         "y": [
          1,
          1,
          1,
          3,
          2,
          3,
          3
         ],
         "yaxis": "y"
        },
        {
         "alignmentgroup": "True",
         "hovertemplate": "subject_name=SPACE_000125<br>species_name=human<br>label_name=%{x}<br>n_images=%{y}<extra></extra>",
         "legendgroup": "SPACE_000125",
         "marker": {
          "color": "#DDCB76",
          "pattern": {
           "shape": ""
          }
         },
         "name": "SPACE_000125",
         "offsetgroup": "SPACE_000125",
         "orientation": "v",
         "showlegend": true,
         "textposition": "auto",
         "type": "bar",
         "x": [
          "small bowel",
          "colon",
          "liver",
          "omentum",
          "background"
         ],
         "xaxis": "x",
         "y": [
          2,
          2,
          2,
          2,
          2
         ],
         "yaxis": "y"
        },
        {
         "alignmentgroup": "True",
         "hovertemplate": "subject_name=SPACE_000126<br>species_name=human<br>label_name=%{x}<br>n_images=%{y}<extra></extra>",
         "legendgroup": "SPACE_000126",
         "marker": {
          "color": "#DDCB76",
          "pattern": {
           "shape": ""
          }
         },
         "name": "SPACE_000126",
         "offsetgroup": "SPACE_000126",
         "orientation": "v",
         "showlegend": true,
         "textposition": "auto",
         "type": "bar",
         "x": [
          "small bowel",
          "colon",
          "liver",
          "omentum",
          "background"
         ],
         "xaxis": "x",
         "y": [
          2,
          1,
          2,
          2,
          2
         ],
         "yaxis": "y"
        },
        {
         "alignmentgroup": "True",
         "hovertemplate": "subject_name=SPACE_000127<br>species_name=human<br>label_name=%{x}<br>n_images=%{y}<extra></extra>",
         "legendgroup": "SPACE_000127",
         "marker": {
          "color": "#DDCB76",
          "pattern": {
           "shape": ""
          }
         },
         "name": "SPACE_000127",
         "offsetgroup": "SPACE_000127",
         "orientation": "v",
         "showlegend": true,
         "textposition": "auto",
         "type": "bar",
         "x": [
          "colon",
          "liver",
          "omentum",
          "background"
         ],
         "xaxis": "x",
         "y": [
          2,
          2,
          2,
          2
         ],
         "yaxis": "y"
        },
        {
         "alignmentgroup": "True",
         "hovertemplate": "subject_name=SPACE_000128<br>species_name=human<br>label_name=%{x}<br>n_images=%{y}<extra></extra>",
         "legendgroup": "SPACE_000128",
         "marker": {
          "color": "#DDCB76",
          "pattern": {
           "shape": ""
          }
         },
         "name": "SPACE_000128",
         "offsetgroup": "SPACE_000128",
         "orientation": "v",
         "showlegend": true,
         "textposition": "auto",
         "type": "bar",
         "x": [
          "stomach",
          "small bowel",
          "liver",
          "spleen",
          "omentum",
          "skin",
          "background"
         ],
         "xaxis": "x",
         "y": [
          1,
          2,
          3,
          2,
          3,
          2,
          3
         ],
         "yaxis": "y"
        },
        {
         "alignmentgroup": "True",
         "hovertemplate": "subject_name=SPACE_000129<br>species_name=human<br>label_name=%{x}<br>n_images=%{y}<extra></extra>",
         "legendgroup": "SPACE_000129",
         "marker": {
          "color": "#DDCB76",
          "pattern": {
           "shape": ""
          }
         },
         "name": "SPACE_000129",
         "offsetgroup": "SPACE_000129",
         "orientation": "v",
         "showlegend": true,
         "textposition": "auto",
         "type": "bar",
         "x": [
          "kidney",
          "skin",
          "background"
         ],
         "xaxis": "x",
         "y": [
          5,
          5,
          5
         ],
         "yaxis": "y"
        },
        {
         "alignmentgroup": "True",
         "hovertemplate": "subject_name=SPACE_000130<br>species_name=human<br>label_name=%{x}<br>n_images=%{y}<extra></extra>",
         "legendgroup": "SPACE_000130",
         "marker": {
          "color": "#DDCB76",
          "pattern": {
           "shape": ""
          }
         },
         "name": "SPACE_000130",
         "offsetgroup": "SPACE_000130",
         "orientation": "v",
         "showlegend": true,
         "textposition": "auto",
         "type": "bar",
         "x": [
          "kidney"
         ],
         "xaxis": "x",
         "y": [
          3
         ],
         "yaxis": "y"
        },
        {
         "alignmentgroup": "True",
         "hovertemplate": "subject_name=SPACE_000131<br>species_name=human<br>label_name=%{x}<br>n_images=%{y}<extra></extra>",
         "legendgroup": "SPACE_000131",
         "marker": {
          "color": "#DDCB76",
          "pattern": {
           "shape": ""
          }
         },
         "name": "SPACE_000131",
         "offsetgroup": "SPACE_000131",
         "orientation": "v",
         "showlegend": true,
         "textposition": "auto",
         "type": "bar",
         "x": [
          "kidney",
          "skin",
          "peritoneum",
          "background"
         ],
         "xaxis": "x",
         "y": [
          2,
          1,
          1,
          2
         ],
         "yaxis": "y"
        },
        {
         "alignmentgroup": "True",
         "hovertemplate": "subject_name=SPACE_000132<br>species_name=human<br>label_name=%{x}<br>n_images=%{y}<extra></extra>",
         "legendgroup": "SPACE_000132",
         "marker": {
          "color": "#DDCB76",
          "pattern": {
           "shape": ""
          }
         },
         "name": "SPACE_000132",
         "offsetgroup": "SPACE_000132",
         "orientation": "v",
         "showlegend": true,
         "textposition": "auto",
         "type": "bar",
         "x": [
          "stomach",
          "small bowel",
          "omentum",
          "background"
         ],
         "xaxis": "x",
         "y": [
          2,
          2,
          2,
          2
         ],
         "yaxis": "y"
        },
        {
         "alignmentgroup": "True",
         "hovertemplate": "subject_name=SPACE_000133<br>species_name=human<br>label_name=%{x}<br>n_images=%{y}<extra></extra>",
         "legendgroup": "SPACE_000133",
         "marker": {
          "color": "#DDCB76",
          "pattern": {
           "shape": ""
          }
         },
         "name": "SPACE_000133",
         "offsetgroup": "SPACE_000133",
         "orientation": "v",
         "showlegend": true,
         "textposition": "auto",
         "type": "bar",
         "x": [
          "liver",
          "skin",
          "peritoneum",
          "background"
         ],
         "xaxis": "x",
         "y": [
          2,
          1,
          1,
          2
         ],
         "yaxis": "y"
        },
        {
         "alignmentgroup": "True",
         "hovertemplate": "subject_name=SPACE_000134<br>species_name=human<br>label_name=%{x}<br>n_images=%{y}<extra></extra>",
         "legendgroup": "SPACE_000134",
         "marker": {
          "color": "#DDCB76",
          "pattern": {
           "shape": ""
          }
         },
         "name": "SPACE_000134",
         "offsetgroup": "SPACE_000134",
         "orientation": "v",
         "showlegend": true,
         "textposition": "auto",
         "type": "bar",
         "x": [
          "stomach",
          "colon",
          "liver",
          "omentum",
          "skin",
          "background"
         ],
         "xaxis": "x",
         "y": [
          1,
          1,
          2,
          2,
          1,
          2
         ],
         "yaxis": "y"
        },
        {
         "alignmentgroup": "True",
         "hovertemplate": "subject_name=SPACE_000135<br>species_name=human<br>label_name=%{x}<br>n_images=%{y}<extra></extra>",
         "legendgroup": "SPACE_000135",
         "marker": {
          "color": "#DDCB76",
          "pattern": {
           "shape": ""
          }
         },
         "name": "SPACE_000135",
         "offsetgroup": "SPACE_000135",
         "orientation": "v",
         "showlegend": true,
         "textposition": "auto",
         "type": "bar",
         "x": [
          "stomach",
          "liver",
          "omentum",
          "background"
         ],
         "xaxis": "x",
         "y": [
          2,
          2,
          2,
          2
         ],
         "yaxis": "y"
        },
        {
         "alignmentgroup": "True",
         "hovertemplate": "subject_name=SPACE_000136<br>species_name=human<br>label_name=%{x}<br>n_images=%{y}<extra></extra>",
         "legendgroup": "SPACE_000136",
         "marker": {
          "color": "#DDCB76",
          "pattern": {
           "shape": ""
          }
         },
         "name": "SPACE_000136",
         "offsetgroup": "SPACE_000136",
         "orientation": "v",
         "showlegend": true,
         "textposition": "auto",
         "type": "bar",
         "x": [
          "kidney"
         ],
         "xaxis": "x",
         "y": [
          5
         ],
         "yaxis": "y"
        },
        {
         "alignmentgroup": "True",
         "hovertemplate": "subject_name=SPACE_000137<br>species_name=human<br>label_name=%{x}<br>n_images=%{y}<extra></extra>",
         "legendgroup": "SPACE_000137",
         "marker": {
          "color": "#DDCB76",
          "pattern": {
           "shape": ""
          }
         },
         "name": "SPACE_000137",
         "offsetgroup": "SPACE_000137",
         "orientation": "v",
         "showlegend": true,
         "textposition": "auto",
         "type": "bar",
         "x": [
          "small bowel",
          "liver",
          "pancreas",
          "omentum",
          "background"
         ],
         "xaxis": "x",
         "y": [
          4,
          3,
          4,
          4,
          4
         ],
         "yaxis": "y"
        },
        {
         "alignmentgroup": "True",
         "hovertemplate": "subject_name=SPACE_000138<br>species_name=human<br>label_name=%{x}<br>n_images=%{y}<extra></extra>",
         "legendgroup": "SPACE_000138",
         "marker": {
          "color": "#DDCB76",
          "pattern": {
           "shape": ""
          }
         },
         "name": "SPACE_000138",
         "offsetgroup": "SPACE_000138",
         "orientation": "v",
         "showlegend": true,
         "textposition": "auto",
         "type": "bar",
         "x": [
          "small bowel",
          "colon",
          "liver",
          "omentum",
          "lung",
          "skin",
          "background"
         ],
         "xaxis": "x",
         "y": [
          1,
          1,
          1,
          1,
          5,
          5,
          6
         ],
         "yaxis": "y"
        },
        {
         "alignmentgroup": "True",
         "hovertemplate": "subject_name=SPACE_000139<br>species_name=human<br>label_name=%{x}<br>n_images=%{y}<extra></extra>",
         "legendgroup": "SPACE_000139",
         "marker": {
          "color": "#DDCB76",
          "pattern": {
           "shape": ""
          }
         },
         "name": "SPACE_000139",
         "offsetgroup": "SPACE_000139",
         "orientation": "v",
         "showlegend": true,
         "textposition": "auto",
         "type": "bar",
         "x": [
          "small bowel",
          "liver",
          "omentum",
          "background"
         ],
         "xaxis": "x",
         "y": [
          1,
          2,
          2,
          2
         ],
         "yaxis": "y"
        },
        {
         "alignmentgroup": "True",
         "hovertemplate": "subject_name=SPACE_000140<br>species_name=human<br>label_name=%{x}<br>n_images=%{y}<extra></extra>",
         "legendgroup": "SPACE_000140",
         "marker": {
          "color": "#DDCB76",
          "pattern": {
           "shape": ""
          }
         },
         "name": "SPACE_000140",
         "offsetgroup": "SPACE_000140",
         "orientation": "v",
         "showlegend": true,
         "textposition": "auto",
         "type": "bar",
         "x": [
          "skin",
          "background"
         ],
         "xaxis": "x",
         "y": [
          2,
          2
         ],
         "yaxis": "y"
        },
        {
         "alignmentgroup": "True",
         "hovertemplate": "subject_name=SPACE_000141<br>species_name=human<br>label_name=%{x}<br>n_images=%{y}<extra></extra>",
         "legendgroup": "SPACE_000141",
         "marker": {
          "color": "#DDCB76",
          "pattern": {
           "shape": ""
          }
         },
         "name": "SPACE_000141",
         "offsetgroup": "SPACE_000141",
         "orientation": "v",
         "showlegend": true,
         "textposition": "auto",
         "type": "bar",
         "x": [
          "stomach",
          "colon",
          "liver",
          "omentum",
          "background"
         ],
         "xaxis": "x",
         "y": [
          3,
          2,
          3,
          3,
          3
         ],
         "yaxis": "y"
        },
        {
         "alignmentgroup": "True",
         "hovertemplate": "subject_name=SPACE_000142<br>species_name=human<br>label_name=%{x}<br>n_images=%{y}<extra></extra>",
         "legendgroup": "SPACE_000142",
         "marker": {
          "color": "#DDCB76",
          "pattern": {
           "shape": ""
          }
         },
         "name": "SPACE_000142",
         "offsetgroup": "SPACE_000142",
         "orientation": "v",
         "showlegend": true,
         "textposition": "auto",
         "type": "bar",
         "x": [
          "liver",
          "skin",
          "background"
         ],
         "xaxis": "x",
         "y": [
          1,
          1,
          2
         ],
         "yaxis": "y"
        },
        {
         "alignmentgroup": "True",
         "hovertemplate": "subject_name=SPACE_000143<br>species_name=human<br>label_name=%{x}<br>n_images=%{y}<extra></extra>",
         "legendgroup": "SPACE_000143",
         "marker": {
          "color": "#DDCB76",
          "pattern": {
           "shape": ""
          }
         },
         "name": "SPACE_000143",
         "offsetgroup": "SPACE_000143",
         "orientation": "v",
         "showlegend": true,
         "textposition": "auto",
         "type": "bar",
         "x": [
          "small bowel",
          "colon",
          "background"
         ],
         "xaxis": "x",
         "y": [
          2,
          1,
          2
         ],
         "yaxis": "y"
        },
        {
         "alignmentgroup": "True",
         "hovertemplate": "subject_name=SPACE_000144<br>species_name=human<br>label_name=%{x}<br>n_images=%{y}<extra></extra>",
         "legendgroup": "SPACE_000144",
         "marker": {
          "color": "#DDCB76",
          "pattern": {
           "shape": ""
          }
         },
         "name": "SPACE_000144",
         "offsetgroup": "SPACE_000144",
         "orientation": "v",
         "showlegend": true,
         "textposition": "auto",
         "type": "bar",
         "x": [
          "stomach",
          "small bowel",
          "colon",
          "liver",
          "omentum",
          "background"
         ],
         "xaxis": "x",
         "y": [
          1,
          1,
          1,
          2,
          2,
          2
         ],
         "yaxis": "y"
        },
        {
         "alignmentgroup": "True",
         "hovertemplate": "subject_name=SPACE_000145<br>species_name=human<br>label_name=%{x}<br>n_images=%{y}<extra></extra>",
         "legendgroup": "SPACE_000145",
         "marker": {
          "color": "#DDCB76",
          "pattern": {
           "shape": ""
          }
         },
         "name": "SPACE_000145",
         "offsetgroup": "SPACE_000145",
         "orientation": "v",
         "showlegend": true,
         "textposition": "auto",
         "type": "bar",
         "x": [
          "liver",
          "omentum",
          "skin",
          "background"
         ],
         "xaxis": "x",
         "y": [
          2,
          2,
          2,
          2
         ],
         "yaxis": "y"
        },
        {
         "alignmentgroup": "True",
         "hovertemplate": "subject_name=SPACE_000146<br>species_name=human<br>label_name=%{x}<br>n_images=%{y}<extra></extra>",
         "legendgroup": "SPACE_000146",
         "marker": {
          "color": "#DDCB76",
          "pattern": {
           "shape": ""
          }
         },
         "name": "SPACE_000146",
         "offsetgroup": "SPACE_000146",
         "orientation": "v",
         "showlegend": true,
         "textposition": "auto",
         "type": "bar",
         "x": [
          "stomach",
          "small bowel",
          "liver",
          "skin",
          "peritoneum",
          "background"
         ],
         "xaxis": "x",
         "y": [
          2,
          1,
          3,
          3,
          2,
          3
         ],
         "yaxis": "y"
        },
        {
         "alignmentgroup": "True",
         "hovertemplate": "subject_name=SPACE_000147<br>species_name=human<br>label_name=%{x}<br>n_images=%{y}<extra></extra>",
         "legendgroup": "SPACE_000147",
         "marker": {
          "color": "#DDCB76",
          "pattern": {
           "shape": ""
          }
         },
         "name": "SPACE_000147",
         "offsetgroup": "SPACE_000147",
         "orientation": "v",
         "showlegend": true,
         "textposition": "auto",
         "type": "bar",
         "x": [
          "kidney"
         ],
         "xaxis": "x",
         "y": [
          5
         ],
         "yaxis": "y"
        },
        {
         "alignmentgroup": "True",
         "hovertemplate": "subject_name=SPACE_000148<br>species_name=human<br>label_name=%{x}<br>n_images=%{y}<extra></extra>",
         "legendgroup": "SPACE_000148",
         "marker": {
          "color": "#DDCB76",
          "pattern": {
           "shape": ""
          }
         },
         "name": "SPACE_000148",
         "offsetgroup": "SPACE_000148",
         "orientation": "v",
         "showlegend": true,
         "textposition": "auto",
         "type": "bar",
         "x": [
          "kidney"
         ],
         "xaxis": "x",
         "y": [
          2
         ],
         "yaxis": "y"
        },
        {
         "alignmentgroup": "True",
         "hovertemplate": "subject_name=SPACE_000149<br>species_name=human<br>label_name=%{x}<br>n_images=%{y}<extra></extra>",
         "legendgroup": "SPACE_000149",
         "marker": {
          "color": "#DDCB76",
          "pattern": {
           "shape": ""
          }
         },
         "name": "SPACE_000149",
         "offsetgroup": "SPACE_000149",
         "orientation": "v",
         "showlegend": true,
         "textposition": "auto",
         "type": "bar",
         "x": [
          "stomach",
          "small bowel",
          "colon",
          "liver",
          "omentum",
          "background"
         ],
         "xaxis": "x",
         "y": [
          2,
          1,
          2,
          2,
          2,
          2
         ],
         "yaxis": "y"
        },
        {
         "alignmentgroup": "True",
         "hovertemplate": "subject_name=SPACE_000150<br>species_name=human<br>label_name=%{x}<br>n_images=%{y}<extra></extra>",
         "legendgroup": "SPACE_000150",
         "marker": {
          "color": "#DDCB76",
          "pattern": {
           "shape": ""
          }
         },
         "name": "SPACE_000150",
         "offsetgroup": "SPACE_000150",
         "orientation": "v",
         "showlegend": true,
         "textposition": "auto",
         "type": "bar",
         "x": [
          "stomach",
          "small bowel",
          "liver",
          "omentum",
          "background"
         ],
         "xaxis": "x",
         "y": [
          2,
          2,
          2,
          2,
          2
         ],
         "yaxis": "y"
        },
        {
         "alignmentgroup": "True",
         "hovertemplate": "subject_name=SPACE_000151<br>species_name=human<br>label_name=%{x}<br>n_images=%{y}<extra></extra>",
         "legendgroup": "SPACE_000151",
         "marker": {
          "color": "#DDCB76",
          "pattern": {
           "shape": ""
          }
         },
         "name": "SPACE_000151",
         "offsetgroup": "SPACE_000151",
         "orientation": "v",
         "showlegend": true,
         "textposition": "auto",
         "type": "bar",
         "x": [
          "stomach",
          "colon",
          "liver",
          "omentum",
          "background"
         ],
         "xaxis": "x",
         "y": [
          2,
          2,
          2,
          2,
          2
         ],
         "yaxis": "y"
        },
        {
         "alignmentgroup": "True",
         "hovertemplate": "subject_name=SPACE_000152<br>species_name=human<br>label_name=%{x}<br>n_images=%{y}<extra></extra>",
         "legendgroup": "SPACE_000152",
         "marker": {
          "color": "#DDCB76",
          "pattern": {
           "shape": ""
          }
         },
         "name": "SPACE_000152",
         "offsetgroup": "SPACE_000152",
         "orientation": "v",
         "showlegend": true,
         "textposition": "auto",
         "type": "bar",
         "x": [
          "stomach",
          "small bowel",
          "colon",
          "liver",
          "omentum",
          "background"
         ],
         "xaxis": "x",
         "y": [
          1,
          2,
          2,
          1,
          1,
          2
         ],
         "yaxis": "y"
        },
        {
         "alignmentgroup": "True",
         "hovertemplate": "subject_name=SPACE_000153<br>species_name=human<br>label_name=%{x}<br>n_images=%{y}<extra></extra>",
         "legendgroup": "SPACE_000153",
         "marker": {
          "color": "#DDCB76",
          "pattern": {
           "shape": ""
          }
         },
         "name": "SPACE_000153",
         "offsetgroup": "SPACE_000153",
         "orientation": "v",
         "showlegend": true,
         "textposition": "auto",
         "type": "bar",
         "x": [
          "skin",
          "background"
         ],
         "xaxis": "x",
         "y": [
          2,
          2
         ],
         "yaxis": "y"
        },
        {
         "alignmentgroup": "True",
         "hovertemplate": "subject_name=SPACE_000155<br>species_name=human<br>label_name=%{x}<br>n_images=%{y}<extra></extra>",
         "legendgroup": "SPACE_000155",
         "marker": {
          "color": "#DDCB76",
          "pattern": {
           "shape": ""
          }
         },
         "name": "SPACE_000155",
         "offsetgroup": "SPACE_000155",
         "orientation": "v",
         "showlegend": true,
         "textposition": "auto",
         "type": "bar",
         "x": [
          "small bowel",
          "liver",
          "omentum",
          "skin",
          "peritoneum",
          "background"
         ],
         "xaxis": "x",
         "y": [
          3,
          3,
          3,
          3,
          1,
          3
         ],
         "yaxis": "y"
        },
        {
         "alignmentgroup": "True",
         "hovertemplate": "subject_name=SPACE_000156<br>species_name=human<br>label_name=%{x}<br>n_images=%{y}<extra></extra>",
         "legendgroup": "SPACE_000156",
         "marker": {
          "color": "#DDCB76",
          "pattern": {
           "shape": ""
          }
         },
         "name": "SPACE_000156",
         "offsetgroup": "SPACE_000156",
         "orientation": "v",
         "showlegend": true,
         "textposition": "auto",
         "type": "bar",
         "x": [
          "stomach",
          "small bowel",
          "colon",
          "liver",
          "omentum",
          "peritoneum",
          "background"
         ],
         "xaxis": "x",
         "y": [
          1,
          1,
          1,
          1,
          1,
          1,
          2
         ],
         "yaxis": "y"
        },
        {
         "alignmentgroup": "True",
         "hovertemplate": "subject_name=SPACE_000157<br>species_name=human<br>label_name=%{x}<br>n_images=%{y}<extra></extra>",
         "legendgroup": "SPACE_000157",
         "marker": {
          "color": "#DDCB76",
          "pattern": {
           "shape": ""
          }
         },
         "name": "SPACE_000157",
         "offsetgroup": "SPACE_000157",
         "orientation": "v",
         "showlegend": true,
         "textposition": "auto",
         "type": "bar",
         "x": [
          "kidney"
         ],
         "xaxis": "x",
         "y": [
          4
         ],
         "yaxis": "y"
        },
        {
         "alignmentgroup": "True",
         "hovertemplate": "subject_name=SPACE_000158<br>species_name=human<br>label_name=%{x}<br>n_images=%{y}<extra></extra>",
         "legendgroup": "SPACE_000158",
         "marker": {
          "color": "#DDCB76",
          "pattern": {
           "shape": ""
          }
         },
         "name": "SPACE_000158",
         "offsetgroup": "SPACE_000158",
         "orientation": "v",
         "showlegend": true,
         "textposition": "auto",
         "type": "bar",
         "x": [
          "stomach",
          "omentum",
          "background"
         ],
         "xaxis": "x",
         "y": [
          2,
          2,
          2
         ],
         "yaxis": "y"
        },
        {
         "alignmentgroup": "True",
         "hovertemplate": "subject_name=SPACE_000159<br>species_name=human<br>label_name=%{x}<br>n_images=%{y}<extra></extra>",
         "legendgroup": "SPACE_000159",
         "marker": {
          "color": "#DDCB76",
          "pattern": {
           "shape": ""
          }
         },
         "name": "SPACE_000159",
         "offsetgroup": "SPACE_000159",
         "orientation": "v",
         "showlegend": true,
         "textposition": "auto",
         "type": "bar",
         "x": [
          "kidney",
          "skin",
          "peritoneum",
          "background"
         ],
         "xaxis": "x",
         "y": [
          2,
          2,
          1,
          2
         ],
         "yaxis": "y"
        },
        {
         "alignmentgroup": "True",
         "hovertemplate": "subject_name=SPACE_000160<br>species_name=human<br>label_name=%{x}<br>n_images=%{y}<extra></extra>",
         "legendgroup": "SPACE_000160",
         "marker": {
          "color": "#DDCB76",
          "pattern": {
           "shape": ""
          }
         },
         "name": "SPACE_000160",
         "offsetgroup": "SPACE_000160",
         "orientation": "v",
         "showlegend": true,
         "textposition": "auto",
         "type": "bar",
         "x": [
          "stomach",
          "small bowel",
          "colon",
          "liver",
          "pancreas",
          "omentum",
          "background"
         ],
         "xaxis": "x",
         "y": [
          3,
          1,
          3,
          4,
          2,
          3,
          4
         ],
         "yaxis": "y"
        },
        {
         "alignmentgroup": "True",
         "hovertemplate": "subject_name=SPACE_000161<br>species_name=human<br>label_name=%{x}<br>n_images=%{y}<extra></extra>",
         "legendgroup": "SPACE_000161",
         "marker": {
          "color": "#DDCB76",
          "pattern": {
           "shape": ""
          }
         },
         "name": "SPACE_000161",
         "offsetgroup": "SPACE_000161",
         "orientation": "v",
         "showlegend": true,
         "textposition": "auto",
         "type": "bar",
         "x": [
          "stomach",
          "small bowel",
          "liver",
          "omentum",
          "background"
         ],
         "xaxis": "x",
         "y": [
          2,
          1,
          2,
          2,
          2
         ],
         "yaxis": "y"
        },
        {
         "alignmentgroup": "True",
         "hovertemplate": "subject_name=SPACE_000162<br>species_name=human<br>label_name=%{x}<br>n_images=%{y}<extra></extra>",
         "legendgroup": "SPACE_000162",
         "marker": {
          "color": "#DDCB76",
          "pattern": {
           "shape": ""
          }
         },
         "name": "SPACE_000162",
         "offsetgroup": "SPACE_000162",
         "orientation": "v",
         "showlegend": true,
         "textposition": "auto",
         "type": "bar",
         "x": [
          "stomach",
          "small bowel",
          "colon",
          "liver",
          "omentum",
          "background"
         ],
         "xaxis": "x",
         "y": [
          7,
          7,
          7,
          7,
          7,
          7
         ],
         "yaxis": "y"
        },
        {
         "alignmentgroup": "True",
         "hovertemplate": "subject_name=SPACE_000163<br>species_name=human<br>label_name=%{x}<br>n_images=%{y}<extra></extra>",
         "legendgroup": "SPACE_000163",
         "marker": {
          "color": "#DDCB76",
          "pattern": {
           "shape": ""
          }
         },
         "name": "SPACE_000163",
         "offsetgroup": "SPACE_000163",
         "orientation": "v",
         "showlegend": true,
         "textposition": "auto",
         "type": "bar",
         "x": [
          "stomach",
          "small bowel",
          "colon",
          "omentum",
          "background"
         ],
         "xaxis": "x",
         "y": [
          1,
          2,
          1,
          1,
          2
         ],
         "yaxis": "y"
        },
        {
         "alignmentgroup": "True",
         "hovertemplate": "subject_name=SPACE_000164<br>species_name=human<br>label_name=%{x}<br>n_images=%{y}<extra></extra>",
         "legendgroup": "SPACE_000164",
         "marker": {
          "color": "#DDCB76",
          "pattern": {
           "shape": ""
          }
         },
         "name": "SPACE_000164",
         "offsetgroup": "SPACE_000164",
         "orientation": "v",
         "showlegend": true,
         "textposition": "auto",
         "type": "bar",
         "x": [
          "small bowel",
          "colon",
          "liver",
          "pancreas",
          "omentum",
          "peritoneum",
          "background"
         ],
         "xaxis": "x",
         "y": [
          8,
          7,
          8,
          8,
          9,
          1,
          9
         ],
         "yaxis": "y"
        },
        {
         "alignmentgroup": "True",
         "hovertemplate": "subject_name=SPACE_000165<br>species_name=human<br>label_name=%{x}<br>n_images=%{y}<extra></extra>",
         "legendgroup": "SPACE_000165",
         "marker": {
          "color": "#DDCB76",
          "pattern": {
           "shape": ""
          }
         },
         "name": "SPACE_000165",
         "offsetgroup": "SPACE_000165",
         "orientation": "v",
         "showlegend": true,
         "textposition": "auto",
         "type": "bar",
         "x": [
          "stomach",
          "small bowel",
          "colon",
          "pancreas",
          "omentum",
          "skin",
          "background"
         ],
         "xaxis": "x",
         "y": [
          1,
          1,
          1,
          1,
          2,
          1,
          2
         ],
         "yaxis": "y"
        },
        {
         "alignmentgroup": "True",
         "hovertemplate": "subject_name=SPACE_000166<br>species_name=human<br>label_name=%{x}<br>n_images=%{y}<extra></extra>",
         "legendgroup": "SPACE_000166",
         "marker": {
          "color": "#DDCB76",
          "pattern": {
           "shape": ""
          }
         },
         "name": "SPACE_000166",
         "offsetgroup": "SPACE_000166",
         "orientation": "v",
         "showlegend": true,
         "textposition": "auto",
         "type": "bar",
         "x": [
          "skin",
          "background"
         ],
         "xaxis": "x",
         "y": [
          2,
          2
         ],
         "yaxis": "y"
        },
        {
         "alignmentgroup": "True",
         "hovertemplate": "subject_name=SPACE_000167<br>species_name=human<br>label_name=%{x}<br>n_images=%{y}<extra></extra>",
         "legendgroup": "SPACE_000167",
         "marker": {
          "color": "#DDCB76",
          "pattern": {
           "shape": ""
          }
         },
         "name": "SPACE_000167",
         "offsetgroup": "SPACE_000167",
         "orientation": "v",
         "showlegend": true,
         "textposition": "auto",
         "type": "bar",
         "x": [
          "stomach",
          "small bowel",
          "colon",
          "liver",
          "pancreas",
          "omentum",
          "background"
         ],
         "xaxis": "x",
         "y": [
          1,
          1,
          2,
          1,
          1,
          1,
          2
         ],
         "yaxis": "y"
        },
        {
         "alignmentgroup": "True",
         "hovertemplate": "subject_name=SPACE_000168<br>species_name=human<br>label_name=%{x}<br>n_images=%{y}<extra></extra>",
         "legendgroup": "SPACE_000168",
         "marker": {
          "color": "#DDCB76",
          "pattern": {
           "shape": ""
          }
         },
         "name": "SPACE_000168",
         "offsetgroup": "SPACE_000168",
         "orientation": "v",
         "showlegend": true,
         "textposition": "auto",
         "type": "bar",
         "x": [
          "liver",
          "peritoneum",
          "background"
         ],
         "xaxis": "x",
         "y": [
          1,
          3,
          3
         ],
         "yaxis": "y"
        },
        {
         "alignmentgroup": "True",
         "hovertemplate": "subject_name=SPACE_000169<br>species_name=human<br>label_name=%{x}<br>n_images=%{y}<extra></extra>",
         "legendgroup": "SPACE_000169",
         "marker": {
          "color": "#DDCB76",
          "pattern": {
           "shape": ""
          }
         },
         "name": "SPACE_000169",
         "offsetgroup": "SPACE_000169",
         "orientation": "v",
         "showlegend": true,
         "textposition": "auto",
         "type": "bar",
         "x": [
          "stomach",
          "small bowel",
          "colon",
          "liver",
          "omentum",
          "peritoneum",
          "background"
         ],
         "xaxis": "x",
         "y": [
          1,
          2,
          2,
          2,
          1,
          1,
          2
         ],
         "yaxis": "y"
        },
        {
         "alignmentgroup": "True",
         "hovertemplate": "subject_name=SPACE_000170<br>species_name=human<br>label_name=%{x}<br>n_images=%{y}<extra></extra>",
         "legendgroup": "SPACE_000170",
         "marker": {
          "color": "#DDCB76",
          "pattern": {
           "shape": ""
          }
         },
         "name": "SPACE_000170",
         "offsetgroup": "SPACE_000170",
         "orientation": "v",
         "showlegend": true,
         "textposition": "auto",
         "type": "bar",
         "x": [
          "stomach",
          "small bowel",
          "colon",
          "liver",
          "omentum",
          "skin",
          "peritoneum",
          "background"
         ],
         "xaxis": "x",
         "y": [
          2,
          2,
          3,
          5,
          5,
          3,
          5,
          5
         ],
         "yaxis": "y"
        },
        {
         "alignmentgroup": "True",
         "hovertemplate": "subject_name=SPACE_000171<br>species_name=human<br>label_name=%{x}<br>n_images=%{y}<extra></extra>",
         "legendgroup": "SPACE_000171",
         "marker": {
          "color": "#DDCB76",
          "pattern": {
           "shape": ""
          }
         },
         "name": "SPACE_000171",
         "offsetgroup": "SPACE_000171",
         "orientation": "v",
         "showlegend": true,
         "textposition": "auto",
         "type": "bar",
         "x": [
          "stomach",
          "small bowel",
          "colon",
          "liver",
          "omentum",
          "background"
         ],
         "xaxis": "x",
         "y": [
          1,
          1,
          1,
          1,
          2,
          2
         ],
         "yaxis": "y"
        },
        {
         "alignmentgroup": "True",
         "hovertemplate": "subject_name=SPACE_000172<br>species_name=human<br>label_name=%{x}<br>n_images=%{y}<extra></extra>",
         "legendgroup": "SPACE_000172",
         "marker": {
          "color": "#DDCB76",
          "pattern": {
           "shape": ""
          }
         },
         "name": "SPACE_000172",
         "offsetgroup": "SPACE_000172",
         "orientation": "v",
         "showlegend": true,
         "textposition": "auto",
         "type": "bar",
         "x": [
          "stomach",
          "colon",
          "liver",
          "pancreas",
          "omentum",
          "background"
         ],
         "xaxis": "x",
         "y": [
          4,
          6,
          2,
          4,
          8,
          8
         ],
         "yaxis": "y"
        },
        {
         "alignmentgroup": "True",
         "hovertemplate": "subject_name=SPACE_000173<br>species_name=human<br>label_name=%{x}<br>n_images=%{y}<extra></extra>",
         "legendgroup": "SPACE_000173",
         "marker": {
          "color": "#DDCB76",
          "pattern": {
           "shape": ""
          }
         },
         "name": "SPACE_000173",
         "offsetgroup": "SPACE_000173",
         "orientation": "v",
         "showlegend": true,
         "textposition": "auto",
         "type": "bar",
         "x": [
          "stomach",
          "small bowel",
          "liver",
          "omentum",
          "lung",
          "skin",
          "peritoneum",
          "background"
         ],
         "xaxis": "x",
         "y": [
          1,
          1,
          1,
          1,
          3,
          3,
          1,
          4
         ],
         "yaxis": "y"
        },
        {
         "alignmentgroup": "True",
         "hovertemplate": "subject_name=SPACE_000174<br>species_name=human<br>label_name=%{x}<br>n_images=%{y}<extra></extra>",
         "legendgroup": "SPACE_000174",
         "marker": {
          "color": "#DDCB76",
          "pattern": {
           "shape": ""
          }
         },
         "name": "SPACE_000174",
         "offsetgroup": "SPACE_000174",
         "orientation": "v",
         "showlegend": true,
         "textposition": "auto",
         "type": "bar",
         "x": [
          "small bowel",
          "pancreas",
          "omentum",
          "background"
         ],
         "xaxis": "x",
         "y": [
          4,
          3,
          4,
          4
         ],
         "yaxis": "y"
        },
        {
         "alignmentgroup": "True",
         "hovertemplate": "subject_name=SPACE_000175<br>species_name=human<br>label_name=%{x}<br>n_images=%{y}<extra></extra>",
         "legendgroup": "SPACE_000175",
         "marker": {
          "color": "#DDCB76",
          "pattern": {
           "shape": ""
          }
         },
         "name": "SPACE_000175",
         "offsetgroup": "SPACE_000175",
         "orientation": "v",
         "showlegend": true,
         "textposition": "auto",
         "type": "bar",
         "x": [
          "small bowel",
          "colon",
          "pancreas",
          "peritoneum",
          "background"
         ],
         "xaxis": "x",
         "y": [
          4,
          3,
          2,
          1,
          4
         ],
         "yaxis": "y"
        },
        {
         "alignmentgroup": "True",
         "hovertemplate": "subject_name=SPACE_000176<br>species_name=human<br>label_name=%{x}<br>n_images=%{y}<extra></extra>",
         "legendgroup": "SPACE_000176",
         "marker": {
          "color": "#DDCB76",
          "pattern": {
           "shape": ""
          }
         },
         "name": "SPACE_000176",
         "offsetgroup": "SPACE_000176",
         "orientation": "v",
         "showlegend": true,
         "textposition": "auto",
         "type": "bar",
         "x": [
          "stomach",
          "small bowel",
          "colon",
          "liver",
          "omentum",
          "skin",
          "peritoneum",
          "background"
         ],
         "xaxis": "x",
         "y": [
          1,
          3,
          5,
          5,
          5,
          2,
          5,
          5
         ],
         "yaxis": "y"
        },
        {
         "alignmentgroup": "True",
         "hovertemplate": "subject_name=SPACE_000177<br>species_name=human<br>label_name=%{x}<br>n_images=%{y}<extra></extra>",
         "legendgroup": "SPACE_000177",
         "marker": {
          "color": "#DDCB76",
          "pattern": {
           "shape": ""
          }
         },
         "name": "SPACE_000177",
         "offsetgroup": "SPACE_000177",
         "orientation": "v",
         "showlegend": true,
         "textposition": "auto",
         "type": "bar",
         "x": [
          "stomach",
          "colon",
          "spleen",
          "omentum",
          "background"
         ],
         "xaxis": "x",
         "y": [
          6,
          1,
          6,
          6,
          6
         ],
         "yaxis": "y"
        },
        {
         "alignmentgroup": "True",
         "hovertemplate": "subject_name=SPACE_000178<br>species_name=human<br>label_name=%{x}<br>n_images=%{y}<extra></extra>",
         "legendgroup": "SPACE_000178",
         "marker": {
          "color": "#DDCB76",
          "pattern": {
           "shape": ""
          }
         },
         "name": "SPACE_000178",
         "offsetgroup": "SPACE_000178",
         "orientation": "v",
         "showlegend": true,
         "textposition": "auto",
         "type": "bar",
         "x": [
          "small bowel",
          "colon",
          "pancreas",
          "omentum",
          "skin",
          "peritoneum",
          "background"
         ],
         "xaxis": "x",
         "y": [
          3,
          10,
          5,
          10,
          1,
          4,
          10
         ],
         "yaxis": "y"
        },
        {
         "alignmentgroup": "True",
         "hovertemplate": "subject_name=SPACE_000179<br>species_name=human<br>label_name=%{x}<br>n_images=%{y}<extra></extra>",
         "legendgroup": "SPACE_000179",
         "marker": {
          "color": "#DDCB76",
          "pattern": {
           "shape": ""
          }
         },
         "name": "SPACE_000179",
         "offsetgroup": "SPACE_000179",
         "orientation": "v",
         "showlegend": true,
         "textposition": "auto",
         "type": "bar",
         "x": [
          "stomach",
          "small bowel",
          "colon",
          "liver",
          "pancreas",
          "omentum",
          "skin",
          "peritoneum",
          "background"
         ],
         "xaxis": "x",
         "y": [
          2,
          1,
          5,
          4,
          1,
          5,
          1,
          1,
          5
         ],
         "yaxis": "y"
        },
        {
         "alignmentgroup": "True",
         "hovertemplate": "subject_name=SPACE_000180<br>species_name=human<br>label_name=%{x}<br>n_images=%{y}<extra></extra>",
         "legendgroup": "SPACE_000180",
         "marker": {
          "color": "#DDCB76",
          "pattern": {
           "shape": ""
          }
         },
         "name": "SPACE_000180",
         "offsetgroup": "SPACE_000180",
         "orientation": "v",
         "showlegend": true,
         "textposition": "auto",
         "type": "bar",
         "x": [
          "kidney"
         ],
         "xaxis": "x",
         "y": [
          1
         ],
         "yaxis": "y"
        },
        {
         "alignmentgroup": "True",
         "hovertemplate": "subject_name=SPACE_000181<br>species_name=human<br>label_name=%{x}<br>n_images=%{y}<extra></extra>",
         "legendgroup": "SPACE_000181",
         "marker": {
          "color": "#DDCB76",
          "pattern": {
           "shape": ""
          }
         },
         "name": "SPACE_000181",
         "offsetgroup": "SPACE_000181",
         "orientation": "v",
         "showlegend": true,
         "textposition": "auto",
         "type": "bar",
         "x": [
          "stomach",
          "small bowel",
          "colon",
          "liver",
          "spleen",
          "omentum",
          "background"
         ],
         "xaxis": "x",
         "y": [
          2,
          2,
          1,
          2,
          1,
          2,
          2
         ],
         "yaxis": "y"
        },
        {
         "alignmentgroup": "True",
         "hovertemplate": "subject_name=SPACE_000182<br>species_name=human<br>label_name=%{x}<br>n_images=%{y}<extra></extra>",
         "legendgroup": "SPACE_000182",
         "marker": {
          "color": "#DDCB76",
          "pattern": {
           "shape": ""
          }
         },
         "name": "SPACE_000182",
         "offsetgroup": "SPACE_000182",
         "orientation": "v",
         "showlegend": true,
         "textposition": "auto",
         "type": "bar",
         "x": [
          "stomach",
          "colon",
          "liver",
          "omentum",
          "background"
         ],
         "xaxis": "x",
         "y": [
          2,
          1,
          2,
          2,
          2
         ],
         "yaxis": "y"
        },
        {
         "alignmentgroup": "True",
         "hovertemplate": "subject_name=SPACE_000183<br>species_name=human<br>label_name=%{x}<br>n_images=%{y}<extra></extra>",
         "legendgroup": "SPACE_000183",
         "marker": {
          "color": "#DDCB76",
          "pattern": {
           "shape": ""
          }
         },
         "name": "SPACE_000183",
         "offsetgroup": "SPACE_000183",
         "orientation": "v",
         "showlegend": true,
         "textposition": "auto",
         "type": "bar",
         "x": [
          "stomach",
          "small bowel",
          "colon",
          "liver",
          "kidney",
          "omentum",
          "background"
         ],
         "xaxis": "x",
         "y": [
          1,
          2,
          1,
          2,
          1,
          1,
          2
         ],
         "yaxis": "y"
        },
        {
         "alignmentgroup": "True",
         "hovertemplate": "subject_name=SPACE_000184<br>species_name=human<br>label_name=%{x}<br>n_images=%{y}<extra></extra>",
         "legendgroup": "SPACE_000184",
         "marker": {
          "color": "#DDCB76",
          "pattern": {
           "shape": ""
          }
         },
         "name": "SPACE_000184",
         "offsetgroup": "SPACE_000184",
         "orientation": "v",
         "showlegend": true,
         "textposition": "auto",
         "type": "bar",
         "x": [
          "colon",
          "liver",
          "skin",
          "peritoneum",
          "background"
         ],
         "xaxis": "x",
         "y": [
          1,
          2,
          2,
          1,
          2
         ],
         "yaxis": "y"
        },
        {
         "alignmentgroup": "True",
         "hovertemplate": "subject_name=SPACE_000185<br>species_name=human<br>label_name=%{x}<br>n_images=%{y}<extra></extra>",
         "legendgroup": "SPACE_000185",
         "marker": {
          "color": "#DDCB76",
          "pattern": {
           "shape": ""
          }
         },
         "name": "SPACE_000185",
         "offsetgroup": "SPACE_000185",
         "orientation": "v",
         "showlegend": true,
         "textposition": "auto",
         "type": "bar",
         "x": [
          "stomach",
          "small bowel",
          "liver",
          "pancreas",
          "omentum",
          "background"
         ],
         "xaxis": "x",
         "y": [
          3,
          2,
          3,
          3,
          3,
          3
         ],
         "yaxis": "y"
        },
        {
         "alignmentgroup": "True",
         "hovertemplate": "subject_name=SPACE_000186<br>species_name=human<br>label_name=%{x}<br>n_images=%{y}<extra></extra>",
         "legendgroup": "SPACE_000186",
         "marker": {
          "color": "#DDCB76",
          "pattern": {
           "shape": ""
          }
         },
         "name": "SPACE_000186",
         "offsetgroup": "SPACE_000186",
         "orientation": "v",
         "showlegend": true,
         "textposition": "auto",
         "type": "bar",
         "x": [
          "kidney",
          "skin",
          "background"
         ],
         "xaxis": "x",
         "y": [
          1,
          1,
          1
         ],
         "yaxis": "y"
        },
        {
         "alignmentgroup": "True",
         "hovertemplate": "subject_name=SPACE_000187<br>species_name=human<br>label_name=%{x}<br>n_images=%{y}<extra></extra>",
         "legendgroup": "SPACE_000187",
         "marker": {
          "color": "#DDCB76",
          "pattern": {
           "shape": ""
          }
         },
         "name": "SPACE_000187",
         "offsetgroup": "SPACE_000187",
         "orientation": "v",
         "showlegend": true,
         "textposition": "auto",
         "type": "bar",
         "x": [
          "small bowel",
          "liver",
          "omentum",
          "background"
         ],
         "xaxis": "x",
         "y": [
          2,
          2,
          1,
          2
         ],
         "yaxis": "y"
        },
        {
         "alignmentgroup": "True",
         "hovertemplate": "subject_name=SPACE_000188<br>species_name=human<br>label_name=%{x}<br>n_images=%{y}<extra></extra>",
         "legendgroup": "SPACE_000188",
         "marker": {
          "color": "#DDCB76",
          "pattern": {
           "shape": ""
          }
         },
         "name": "SPACE_000188",
         "offsetgroup": "SPACE_000188",
         "orientation": "v",
         "showlegend": true,
         "textposition": "auto",
         "type": "bar",
         "x": [
          "stomach",
          "small bowel",
          "pancreas",
          "omentum",
          "background"
         ],
         "xaxis": "x",
         "y": [
          1,
          1,
          1,
          2,
          2
         ],
         "yaxis": "y"
        },
        {
         "alignmentgroup": "True",
         "hovertemplate": "subject_name=SPACE_000189<br>species_name=human<br>label_name=%{x}<br>n_images=%{y}<extra></extra>",
         "legendgroup": "SPACE_000189",
         "marker": {
          "color": "#DDCB76",
          "pattern": {
           "shape": ""
          }
         },
         "name": "SPACE_000189",
         "offsetgroup": "SPACE_000189",
         "orientation": "v",
         "showlegend": true,
         "textposition": "auto",
         "type": "bar",
         "x": [
          "stomach",
          "small bowel",
          "colon",
          "liver",
          "background"
         ],
         "xaxis": "x",
         "y": [
          2,
          1,
          2,
          1,
          2
         ],
         "yaxis": "y"
        },
        {
         "alignmentgroup": "True",
         "hovertemplate": "subject_name=SPACE_000190<br>species_name=human<br>label_name=%{x}<br>n_images=%{y}<extra></extra>",
         "legendgroup": "SPACE_000190",
         "marker": {
          "color": "#DDCB76",
          "pattern": {
           "shape": ""
          }
         },
         "name": "SPACE_000190",
         "offsetgroup": "SPACE_000190",
         "orientation": "v",
         "showlegend": true,
         "textposition": "auto",
         "type": "bar",
         "x": [
          "kidney",
          "skin",
          "peritoneum",
          "background"
         ],
         "xaxis": "x",
         "y": [
          4,
          4,
          3,
          4
         ],
         "yaxis": "y"
        },
        {
         "alignmentgroup": "True",
         "hovertemplate": "subject_name=SPACE_000191<br>species_name=human<br>label_name=%{x}<br>n_images=%{y}<extra></extra>",
         "legendgroup": "SPACE_000191",
         "marker": {
          "color": "#DDCB76",
          "pattern": {
           "shape": ""
          }
         },
         "name": "SPACE_000191",
         "offsetgroup": "SPACE_000191",
         "orientation": "v",
         "showlegend": true,
         "textposition": "auto",
         "type": "bar",
         "x": [
          "small bowel",
          "colon",
          "liver",
          "skin",
          "peritoneum",
          "background"
         ],
         "xaxis": "x",
         "y": [
          2,
          1,
          2,
          2,
          1,
          2
         ],
         "yaxis": "y"
        },
        {
         "alignmentgroup": "True",
         "hovertemplate": "subject_name=SPACE_000192<br>species_name=human<br>label_name=%{x}<br>n_images=%{y}<extra></extra>",
         "legendgroup": "SPACE_000192",
         "marker": {
          "color": "#DDCB76",
          "pattern": {
           "shape": ""
          }
         },
         "name": "SPACE_000192",
         "offsetgroup": "SPACE_000192",
         "orientation": "v",
         "showlegend": true,
         "textposition": "auto",
         "type": "bar",
         "x": [
          "stomach",
          "colon",
          "omentum",
          "background"
         ],
         "xaxis": "x",
         "y": [
          1,
          1,
          2,
          2
         ],
         "yaxis": "y"
        },
        {
         "alignmentgroup": "True",
         "hovertemplate": "subject_name=SPACE_000193<br>species_name=human<br>label_name=%{x}<br>n_images=%{y}<extra></extra>",
         "legendgroup": "SPACE_000193",
         "marker": {
          "color": "#DDCB76",
          "pattern": {
           "shape": ""
          }
         },
         "name": "SPACE_000193",
         "offsetgroup": "SPACE_000193",
         "orientation": "v",
         "showlegend": true,
         "textposition": "auto",
         "type": "bar",
         "x": [
          "skin",
          "background"
         ],
         "xaxis": "x",
         "y": [
          2,
          2
         ],
         "yaxis": "y"
        },
        {
         "alignmentgroup": "True",
         "hovertemplate": "subject_name=SPACE_000194<br>species_name=human<br>label_name=%{x}<br>n_images=%{y}<extra></extra>",
         "legendgroup": "SPACE_000194",
         "marker": {
          "color": "#DDCB76",
          "pattern": {
           "shape": ""
          }
         },
         "name": "SPACE_000194",
         "offsetgroup": "SPACE_000194",
         "orientation": "v",
         "showlegend": true,
         "textposition": "auto",
         "type": "bar",
         "x": [
          "kidney"
         ],
         "xaxis": "x",
         "y": [
          7
         ],
         "yaxis": "y"
        },
        {
         "alignmentgroup": "True",
         "hovertemplate": "subject_name=SPACE_000195<br>species_name=human<br>label_name=%{x}<br>n_images=%{y}<extra></extra>",
         "legendgroup": "SPACE_000195",
         "marker": {
          "color": "#DDCB76",
          "pattern": {
           "shape": ""
          }
         },
         "name": "SPACE_000195",
         "offsetgroup": "SPACE_000195",
         "orientation": "v",
         "showlegend": true,
         "textposition": "auto",
         "type": "bar",
         "x": [
          "kidney"
         ],
         "xaxis": "x",
         "y": [
          3
         ],
         "yaxis": "y"
        },
        {
         "alignmentgroup": "True",
         "hovertemplate": "subject_name=SPACE_000196<br>species_name=human<br>label_name=%{x}<br>n_images=%{y}<extra></extra>",
         "legendgroup": "SPACE_000196",
         "marker": {
          "color": "#DDCB76",
          "pattern": {
           "shape": ""
          }
         },
         "name": "SPACE_000196",
         "offsetgroup": "SPACE_000196",
         "orientation": "v",
         "showlegend": true,
         "textposition": "auto",
         "type": "bar",
         "x": [
          "kidney",
          "skin",
          "background"
         ],
         "xaxis": "x",
         "y": [
          2,
          2,
          2
         ],
         "yaxis": "y"
        },
        {
         "alignmentgroup": "True",
         "hovertemplate": "subject_name=SPACE_000197<br>species_name=human<br>label_name=%{x}<br>n_images=%{y}<extra></extra>",
         "legendgroup": "SPACE_000197",
         "marker": {
          "color": "#DDCB76",
          "pattern": {
           "shape": ""
          }
         },
         "name": "SPACE_000197",
         "offsetgroup": "SPACE_000197",
         "orientation": "v",
         "showlegend": true,
         "textposition": "auto",
         "type": "bar",
         "x": [
          "kidney",
          "skin",
          "background"
         ],
         "xaxis": "x",
         "y": [
          2,
          2,
          2
         ],
         "yaxis": "y"
        },
        {
         "alignmentgroup": "True",
         "hovertemplate": "subject_name=SPACE_000198<br>species_name=human<br>label_name=%{x}<br>n_images=%{y}<extra></extra>",
         "legendgroup": "SPACE_000198",
         "marker": {
          "color": "#DDCB76",
          "pattern": {
           "shape": ""
          }
         },
         "name": "SPACE_000198",
         "offsetgroup": "SPACE_000198",
         "orientation": "v",
         "showlegend": true,
         "textposition": "auto",
         "type": "bar",
         "x": [
          "small bowel",
          "colon",
          "liver",
          "pancreas",
          "omentum",
          "background"
         ],
         "xaxis": "x",
         "y": [
          4,
          4,
          4,
          3,
          1,
          4
         ],
         "yaxis": "y"
        },
        {
         "alignmentgroup": "True",
         "hovertemplate": "subject_name=SPACE_000199<br>species_name=human<br>label_name=%{x}<br>n_images=%{y}<extra></extra>",
         "legendgroup": "SPACE_000199",
         "marker": {
          "color": "#DDCB76",
          "pattern": {
           "shape": ""
          }
         },
         "name": "SPACE_000199",
         "offsetgroup": "SPACE_000199",
         "orientation": "v",
         "showlegend": true,
         "textposition": "auto",
         "type": "bar",
         "x": [
          "skin",
          "background"
         ],
         "xaxis": "x",
         "y": [
          2,
          2
         ],
         "yaxis": "y"
        },
        {
         "alignmentgroup": "True",
         "hovertemplate": "subject_name=SPACE_000200<br>species_name=human<br>label_name=%{x}<br>n_images=%{y}<extra></extra>",
         "legendgroup": "SPACE_000200",
         "marker": {
          "color": "#DDCB76",
          "pattern": {
           "shape": ""
          }
         },
         "name": "SPACE_000200",
         "offsetgroup": "SPACE_000200",
         "orientation": "v",
         "showlegend": true,
         "textposition": "auto",
         "type": "bar",
         "x": [
          "small bowel",
          "background"
         ],
         "xaxis": "x",
         "y": [
          2,
          2
         ],
         "yaxis": "y"
        },
        {
         "alignmentgroup": "True",
         "hovertemplate": "subject_name=SPACE_000201<br>species_name=human<br>label_name=%{x}<br>n_images=%{y}<extra></extra>",
         "legendgroup": "SPACE_000201",
         "marker": {
          "color": "#DDCB76",
          "pattern": {
           "shape": ""
          }
         },
         "name": "SPACE_000201",
         "offsetgroup": "SPACE_000201",
         "orientation": "v",
         "showlegend": true,
         "textposition": "auto",
         "type": "bar",
         "x": [
          "stomach",
          "small bowel",
          "colon",
          "liver",
          "omentum",
          "peritoneum",
          "background"
         ],
         "xaxis": "x",
         "y": [
          1,
          1,
          1,
          2,
          1,
          1,
          2
         ],
         "yaxis": "y"
        },
        {
         "alignmentgroup": "True",
         "hovertemplate": "subject_name=SPACE_000202<br>species_name=human<br>label_name=%{x}<br>n_images=%{y}<extra></extra>",
         "legendgroup": "SPACE_000202",
         "marker": {
          "color": "#DDCB76",
          "pattern": {
           "shape": ""
          }
         },
         "name": "SPACE_000202",
         "offsetgroup": "SPACE_000202",
         "orientation": "v",
         "showlegend": true,
         "textposition": "auto",
         "type": "bar",
         "x": [
          "stomach",
          "small bowel",
          "colon",
          "liver",
          "omentum",
          "background"
         ],
         "xaxis": "x",
         "y": [
          1,
          1,
          1,
          2,
          2,
          2
         ],
         "yaxis": "y"
        },
        {
         "alignmentgroup": "True",
         "hovertemplate": "subject_name=SPACE_000203<br>species_name=human<br>label_name=%{x}<br>n_images=%{y}<extra></extra>",
         "legendgroup": "SPACE_000203",
         "marker": {
          "color": "#DDCB76",
          "pattern": {
           "shape": ""
          }
         },
         "name": "SPACE_000203",
         "offsetgroup": "SPACE_000203",
         "orientation": "v",
         "showlegend": true,
         "textposition": "auto",
         "type": "bar",
         "x": [
          "stomach",
          "small bowel",
          "colon",
          "liver",
          "pancreas",
          "omentum",
          "skin",
          "background"
         ],
         "xaxis": "x",
         "y": [
          1,
          1,
          3,
          5,
          6,
          4,
          1,
          7
         ],
         "yaxis": "y"
        },
        {
         "alignmentgroup": "True",
         "hovertemplate": "subject_name=SPACE_000204<br>species_name=human<br>label_name=%{x}<br>n_images=%{y}<extra></extra>",
         "legendgroup": "SPACE_000204",
         "marker": {
          "color": "#DDCB76",
          "pattern": {
           "shape": ""
          }
         },
         "name": "SPACE_000204",
         "offsetgroup": "SPACE_000204",
         "orientation": "v",
         "showlegend": true,
         "textposition": "auto",
         "type": "bar",
         "x": [
          "kidney"
         ],
         "xaxis": "x",
         "y": [
          3
         ],
         "yaxis": "y"
        },
        {
         "alignmentgroup": "True",
         "hovertemplate": "subject_name=SPACE_000205<br>species_name=human<br>label_name=%{x}<br>n_images=%{y}<extra></extra>",
         "legendgroup": "SPACE_000205",
         "marker": {
          "color": "#DDCB76",
          "pattern": {
           "shape": ""
          }
         },
         "name": "SPACE_000205",
         "offsetgroup": "SPACE_000205",
         "orientation": "v",
         "showlegend": true,
         "textposition": "auto",
         "type": "bar",
         "x": [
          "small bowel",
          "background"
         ],
         "xaxis": "x",
         "y": [
          2,
          2
         ],
         "yaxis": "y"
        },
        {
         "alignmentgroup": "True",
         "hovertemplate": "subject_name=SPACE_000206<br>species_name=human<br>label_name=%{x}<br>n_images=%{y}<extra></extra>",
         "legendgroup": "SPACE_000206",
         "marker": {
          "color": "#DDCB76",
          "pattern": {
           "shape": ""
          }
         },
         "name": "SPACE_000206",
         "offsetgroup": "SPACE_000206",
         "orientation": "v",
         "showlegend": true,
         "textposition": "auto",
         "type": "bar",
         "x": [
          "kidney",
          "skin",
          "peritoneum",
          "background"
         ],
         "xaxis": "x",
         "y": [
          2,
          2,
          2,
          2
         ],
         "yaxis": "y"
        },
        {
         "alignmentgroup": "True",
         "hovertemplate": "subject_name=SPACE_000207<br>species_name=human<br>label_name=%{x}<br>n_images=%{y}<extra></extra>",
         "legendgroup": "SPACE_000207",
         "marker": {
          "color": "#DDCB76",
          "pattern": {
           "shape": ""
          }
         },
         "name": "SPACE_000207",
         "offsetgroup": "SPACE_000207",
         "orientation": "v",
         "showlegend": true,
         "textposition": "auto",
         "type": "bar",
         "x": [
          "kidney",
          "skin",
          "background"
         ],
         "xaxis": "x",
         "y": [
          1,
          1,
          1
         ],
         "yaxis": "y"
        },
        {
         "alignmentgroup": "True",
         "hovertemplate": "subject_name=SPACE_000208<br>species_name=human<br>label_name=%{x}<br>n_images=%{y}<extra></extra>",
         "legendgroup": "SPACE_000208",
         "marker": {
          "color": "#DDCB76",
          "pattern": {
           "shape": ""
          }
         },
         "name": "SPACE_000208",
         "offsetgroup": "SPACE_000208",
         "orientation": "v",
         "showlegend": true,
         "textposition": "auto",
         "type": "bar",
         "x": [
          "skin",
          "background"
         ],
         "xaxis": "x",
         "y": [
          2,
          2
         ],
         "yaxis": "y"
        },
        {
         "alignmentgroup": "True",
         "hovertemplate": "subject_name=SPACE_000209<br>species_name=human<br>label_name=%{x}<br>n_images=%{y}<extra></extra>",
         "legendgroup": "SPACE_000209",
         "marker": {
          "color": "#DDCB76",
          "pattern": {
           "shape": ""
          }
         },
         "name": "SPACE_000209",
         "offsetgroup": "SPACE_000209",
         "orientation": "v",
         "showlegend": true,
         "textposition": "auto",
         "type": "bar",
         "x": [
          "kidney",
          "skin",
          "background"
         ],
         "xaxis": "x",
         "y": [
          2,
          2,
          2
         ],
         "yaxis": "y"
        },
        {
         "alignmentgroup": "True",
         "hovertemplate": "subject_name=SPACE_000210<br>species_name=human<br>label_name=%{x}<br>n_images=%{y}<extra></extra>",
         "legendgroup": "SPACE_000210",
         "marker": {
          "color": "#DDCB76",
          "pattern": {
           "shape": ""
          }
         },
         "name": "SPACE_000210",
         "offsetgroup": "SPACE_000210",
         "orientation": "v",
         "showlegend": true,
         "textposition": "auto",
         "type": "bar",
         "x": [
          "kidney",
          "skin",
          "background"
         ],
         "xaxis": "x",
         "y": [
          2,
          2,
          2
         ],
         "yaxis": "y"
        },
        {
         "alignmentgroup": "True",
         "hovertemplate": "subject_name=SPACE_000211<br>species_name=human<br>label_name=%{x}<br>n_images=%{y}<extra></extra>",
         "legendgroup": "SPACE_000211",
         "marker": {
          "color": "#DDCB76",
          "pattern": {
           "shape": ""
          }
         },
         "name": "SPACE_000211",
         "offsetgroup": "SPACE_000211",
         "orientation": "v",
         "showlegend": true,
         "textposition": "auto",
         "type": "bar",
         "x": [
          "colon",
          "liver",
          "omentum",
          "background"
         ],
         "xaxis": "x",
         "y": [
          3,
          3,
          3,
          3
         ],
         "yaxis": "y"
        },
        {
         "alignmentgroup": "True",
         "hovertemplate": "subject_name=SPACE_000212<br>species_name=human<br>label_name=%{x}<br>n_images=%{y}<extra></extra>",
         "legendgroup": "SPACE_000212",
         "marker": {
          "color": "#DDCB76",
          "pattern": {
           "shape": ""
          }
         },
         "name": "SPACE_000212",
         "offsetgroup": "SPACE_000212",
         "orientation": "v",
         "showlegend": true,
         "textposition": "auto",
         "type": "bar",
         "x": [
          "skin",
          "background"
         ],
         "xaxis": "x",
         "y": [
          2,
          2
         ],
         "yaxis": "y"
        },
        {
         "alignmentgroup": "True",
         "hovertemplate": "subject_name=SPACE_000213<br>species_name=human<br>label_name=%{x}<br>n_images=%{y}<extra></extra>",
         "legendgroup": "SPACE_000213",
         "marker": {
          "color": "#DDCB76",
          "pattern": {
           "shape": ""
          }
         },
         "name": "SPACE_000213",
         "offsetgroup": "SPACE_000213",
         "orientation": "v",
         "showlegend": true,
         "textposition": "auto",
         "type": "bar",
         "x": [
          "kidney",
          "skin",
          "background"
         ],
         "xaxis": "x",
         "y": [
          2,
          2,
          2
         ],
         "yaxis": "y"
        },
        {
         "alignmentgroup": "True",
         "hovertemplate": "subject_name=SPACE_000214<br>species_name=human<br>label_name=%{x}<br>n_images=%{y}<extra></extra>",
         "legendgroup": "SPACE_000214",
         "marker": {
          "color": "#DDCB76",
          "pattern": {
           "shape": ""
          }
         },
         "name": "SPACE_000214",
         "offsetgroup": "SPACE_000214",
         "orientation": "v",
         "showlegend": true,
         "textposition": "auto",
         "type": "bar",
         "x": [
          "kidney",
          "skin",
          "background"
         ],
         "xaxis": "x",
         "y": [
          2,
          2,
          2
         ],
         "yaxis": "y"
        },
        {
         "alignmentgroup": "True",
         "hovertemplate": "subject_name=SPACE_000215<br>species_name=human<br>label_name=%{x}<br>n_images=%{y}<extra></extra>",
         "legendgroup": "SPACE_000215",
         "marker": {
          "color": "#DDCB76",
          "pattern": {
           "shape": ""
          }
         },
         "name": "SPACE_000215",
         "offsetgroup": "SPACE_000215",
         "orientation": "v",
         "showlegend": true,
         "textposition": "auto",
         "type": "bar",
         "x": [
          "stomach",
          "small bowel",
          "colon",
          "liver",
          "omentum",
          "background"
         ],
         "xaxis": "x",
         "y": [
          2,
          2,
          2,
          3,
          3,
          3
         ],
         "yaxis": "y"
        },
        {
         "alignmentgroup": "True",
         "hovertemplate": "subject_name=SPACE_000216<br>species_name=human<br>label_name=%{x}<br>n_images=%{y}<extra></extra>",
         "legendgroup": "SPACE_000216",
         "marker": {
          "color": "#DDCB76",
          "pattern": {
           "shape": ""
          }
         },
         "name": "SPACE_000216",
         "offsetgroup": "SPACE_000216",
         "orientation": "v",
         "showlegend": true,
         "textposition": "auto",
         "type": "bar",
         "x": [
          "skin",
          "background"
         ],
         "xaxis": "x",
         "y": [
          2,
          2
         ],
         "yaxis": "y"
        },
        {
         "alignmentgroup": "True",
         "hovertemplate": "subject_name=SPACE_000217<br>species_name=human<br>label_name=%{x}<br>n_images=%{y}<extra></extra>",
         "legendgroup": "SPACE_000217",
         "marker": {
          "color": "#DDCB76",
          "pattern": {
           "shape": ""
          }
         },
         "name": "SPACE_000217",
         "offsetgroup": "SPACE_000217",
         "orientation": "v",
         "showlegend": true,
         "textposition": "auto",
         "type": "bar",
         "x": [
          "small bowel",
          "colon",
          "pancreas",
          "omentum",
          "background"
         ],
         "xaxis": "x",
         "y": [
          2,
          2,
          1,
          2,
          2
         ],
         "yaxis": "y"
        },
        {
         "alignmentgroup": "True",
         "hovertemplate": "subject_name=SPACE_000218<br>species_name=human<br>label_name=%{x}<br>n_images=%{y}<extra></extra>",
         "legendgroup": "SPACE_000218",
         "marker": {
          "color": "#DDCB76",
          "pattern": {
           "shape": ""
          }
         },
         "name": "SPACE_000218",
         "offsetgroup": "SPACE_000218",
         "orientation": "v",
         "showlegend": true,
         "textposition": "auto",
         "type": "bar",
         "x": [
          "stomach",
          "small bowel",
          "colon",
          "liver",
          "pancreas",
          "omentum",
          "background"
         ],
         "xaxis": "x",
         "y": [
          3,
          5,
          5,
          4,
          3,
          3,
          5
         ],
         "yaxis": "y"
        },
        {
         "alignmentgroup": "True",
         "hovertemplate": "subject_name=SPACE_000219<br>species_name=human<br>label_name=%{x}<br>n_images=%{y}<extra></extra>",
         "legendgroup": "SPACE_000219",
         "marker": {
          "color": "#DDCB76",
          "pattern": {
           "shape": ""
          }
         },
         "name": "SPACE_000219",
         "offsetgroup": "SPACE_000219",
         "orientation": "v",
         "showlegend": true,
         "textposition": "auto",
         "type": "bar",
         "x": [
          "stomach",
          "small bowel",
          "colon",
          "liver",
          "pancreas",
          "omentum",
          "background"
         ],
         "xaxis": "x",
         "y": [
          1,
          2,
          2,
          3,
          2,
          1,
          3
         ],
         "yaxis": "y"
        },
        {
         "alignmentgroup": "True",
         "hovertemplate": "subject_name=SPACE_000220<br>species_name=human<br>label_name=%{x}<br>n_images=%{y}<extra></extra>",
         "legendgroup": "SPACE_000220",
         "marker": {
          "color": "#DDCB76",
          "pattern": {
           "shape": ""
          }
         },
         "name": "SPACE_000220",
         "offsetgroup": "SPACE_000220",
         "orientation": "v",
         "showlegend": true,
         "textposition": "auto",
         "type": "bar",
         "x": [
          "stomach",
          "small bowel",
          "colon",
          "liver",
          "pancreas",
          "omentum",
          "background"
         ],
         "xaxis": "x",
         "y": [
          1,
          3,
          2,
          3,
          4,
          5,
          5
         ],
         "yaxis": "y"
        },
        {
         "alignmentgroup": "True",
         "hovertemplate": "subject_name=SPACE_000221<br>species_name=human<br>label_name=%{x}<br>n_images=%{y}<extra></extra>",
         "legendgroup": "SPACE_000221",
         "marker": {
          "color": "#DDCB76",
          "pattern": {
           "shape": ""
          }
         },
         "name": "SPACE_000221",
         "offsetgroup": "SPACE_000221",
         "orientation": "v",
         "showlegend": true,
         "textposition": "auto",
         "type": "bar",
         "x": [
          "skin",
          "background"
         ],
         "xaxis": "x",
         "y": [
          2,
          2
         ],
         "yaxis": "y"
        },
        {
         "alignmentgroup": "True",
         "hovertemplate": "subject_name=SPACE_000222<br>species_name=human<br>label_name=%{x}<br>n_images=%{y}<extra></extra>",
         "legendgroup": "SPACE_000222",
         "marker": {
          "color": "#DDCB76",
          "pattern": {
           "shape": ""
          }
         },
         "name": "SPACE_000222",
         "offsetgroup": "SPACE_000222",
         "orientation": "v",
         "showlegend": true,
         "textposition": "auto",
         "type": "bar",
         "x": [
          "stomach",
          "small bowel",
          "colon",
          "liver",
          "pancreas",
          "background"
         ],
         "xaxis": "x",
         "y": [
          1,
          3,
          1,
          3,
          2,
          3
         ],
         "yaxis": "y"
        },
        {
         "alignmentgroup": "True",
         "hovertemplate": "subject_name=SPACE_000223<br>species_name=human<br>label_name=%{x}<br>n_images=%{y}<extra></extra>",
         "legendgroup": "SPACE_000223",
         "marker": {
          "color": "#DDCB76",
          "pattern": {
           "shape": ""
          }
         },
         "name": "SPACE_000223",
         "offsetgroup": "SPACE_000223",
         "orientation": "v",
         "showlegend": true,
         "textposition": "auto",
         "type": "bar",
         "x": [
          "stomach",
          "small bowel",
          "liver",
          "pancreas",
          "omentum",
          "background"
         ],
         "xaxis": "x",
         "y": [
          2,
          4,
          4,
          3,
          4,
          4
         ],
         "yaxis": "y"
        },
        {
         "alignmentgroup": "True",
         "hovertemplate": "subject_name=SPACE_000224<br>species_name=human<br>label_name=%{x}<br>n_images=%{y}<extra></extra>",
         "legendgroup": "SPACE_000224",
         "marker": {
          "color": "#DDCB76",
          "pattern": {
           "shape": ""
          }
         },
         "name": "SPACE_000224",
         "offsetgroup": "SPACE_000224",
         "orientation": "v",
         "showlegend": true,
         "textposition": "auto",
         "type": "bar",
         "x": [
          "kidney",
          "skin",
          "background"
         ],
         "xaxis": "x",
         "y": [
          2,
          2,
          2
         ],
         "yaxis": "y"
        },
        {
         "alignmentgroup": "True",
         "hovertemplate": "subject_name=SPACE_000226<br>species_name=human<br>label_name=%{x}<br>n_images=%{y}<extra></extra>",
         "legendgroup": "SPACE_000226",
         "marker": {
          "color": "#DDCB76",
          "pattern": {
           "shape": ""
          }
         },
         "name": "SPACE_000226",
         "offsetgroup": "SPACE_000226",
         "orientation": "v",
         "showlegend": true,
         "textposition": "auto",
         "type": "bar",
         "x": [
          "stomach",
          "small bowel",
          "colon",
          "liver",
          "omentum",
          "skin",
          "background"
         ],
         "xaxis": "x",
         "y": [
          2,
          1,
          2,
          2,
          2,
          1,
          2
         ],
         "yaxis": "y"
        },
        {
         "alignmentgroup": "True",
         "hovertemplate": "subject_name=SPACE_000227<br>species_name=human<br>label_name=%{x}<br>n_images=%{y}<extra></extra>",
         "legendgroup": "SPACE_000227",
         "marker": {
          "color": "#DDCB76",
          "pattern": {
           "shape": ""
          }
         },
         "name": "SPACE_000227",
         "offsetgroup": "SPACE_000227",
         "orientation": "v",
         "showlegend": true,
         "textposition": "auto",
         "type": "bar",
         "x": [
          "kidney"
         ],
         "xaxis": "x",
         "y": [
          4
         ],
         "yaxis": "y"
        },
        {
         "alignmentgroup": "True",
         "hovertemplate": "subject_name=SPACE_000228<br>species_name=human<br>label_name=%{x}<br>n_images=%{y}<extra></extra>",
         "legendgroup": "SPACE_000228",
         "marker": {
          "color": "#DDCB76",
          "pattern": {
           "shape": ""
          }
         },
         "name": "SPACE_000228",
         "offsetgroup": "SPACE_000228",
         "orientation": "v",
         "showlegend": true,
         "textposition": "auto",
         "type": "bar",
         "x": [
          "stomach",
          "small bowel",
          "liver",
          "omentum",
          "background"
         ],
         "xaxis": "x",
         "y": [
          1,
          1,
          3,
          3,
          3
         ],
         "yaxis": "y"
        },
        {
         "alignmentgroup": "True",
         "hovertemplate": "subject_name=SPACE_000229<br>species_name=human<br>label_name=%{x}<br>n_images=%{y}<extra></extra>",
         "legendgroup": "SPACE_000229",
         "marker": {
          "color": "#DDCB76",
          "pattern": {
           "shape": ""
          }
         },
         "name": "SPACE_000229",
         "offsetgroup": "SPACE_000229",
         "orientation": "v",
         "showlegend": true,
         "textposition": "auto",
         "type": "bar",
         "x": [
          "colon",
          "liver",
          "omentum",
          "background"
         ],
         "xaxis": "x",
         "y": [
          2,
          2,
          1,
          2
         ],
         "yaxis": "y"
        },
        {
         "alignmentgroup": "True",
         "hovertemplate": "subject_name=SPACE_000230<br>species_name=human<br>label_name=%{x}<br>n_images=%{y}<extra></extra>",
         "legendgroup": "SPACE_000230",
         "marker": {
          "color": "#DDCB76",
          "pattern": {
           "shape": ""
          }
         },
         "name": "SPACE_000230",
         "offsetgroup": "SPACE_000230",
         "orientation": "v",
         "showlegend": true,
         "textposition": "auto",
         "type": "bar",
         "x": [
          "stomach",
          "small bowel",
          "omentum",
          "lung",
          "skin",
          "background"
         ],
         "xaxis": "x",
         "y": [
          1,
          2,
          2,
          4,
          4,
          4
         ],
         "yaxis": "y"
        },
        {
         "alignmentgroup": "True",
         "hovertemplate": "subject_name=SPACE_000231<br>species_name=human<br>label_name=%{x}<br>n_images=%{y}<extra></extra>",
         "legendgroup": "SPACE_000231",
         "marker": {
          "color": "#DDCB76",
          "pattern": {
           "shape": ""
          }
         },
         "name": "SPACE_000231",
         "offsetgroup": "SPACE_000231",
         "orientation": "v",
         "showlegend": true,
         "textposition": "auto",
         "type": "bar",
         "x": [
          "kidney"
         ],
         "xaxis": "x",
         "y": [
          1
         ],
         "yaxis": "y"
        },
        {
         "alignmentgroup": "True",
         "hovertemplate": "subject_name=SPACE_000232<br>species_name=human<br>label_name=%{x}<br>n_images=%{y}<extra></extra>",
         "legendgroup": "SPACE_000232",
         "marker": {
          "color": "#DDCB76",
          "pattern": {
           "shape": ""
          }
         },
         "name": "SPACE_000232",
         "offsetgroup": "SPACE_000232",
         "orientation": "v",
         "showlegend": true,
         "textposition": "auto",
         "type": "bar",
         "x": [
          "kidney"
         ],
         "xaxis": "x",
         "y": [
          1
         ],
         "yaxis": "y"
        },
        {
         "alignmentgroup": "True",
         "hovertemplate": "subject_name=SPACE_000233<br>species_name=human<br>label_name=%{x}<br>n_images=%{y}<extra></extra>",
         "legendgroup": "SPACE_000233",
         "marker": {
          "color": "#DDCB76",
          "pattern": {
           "shape": ""
          }
         },
         "name": "SPACE_000233",
         "offsetgroup": "SPACE_000233",
         "orientation": "v",
         "showlegend": true,
         "textposition": "auto",
         "type": "bar",
         "x": [
          "kidney",
          "skin",
          "background"
         ],
         "xaxis": "x",
         "y": [
          2,
          2,
          2
         ],
         "yaxis": "y"
        },
        {
         "alignmentgroup": "True",
         "hovertemplate": "subject_name=SPACE_000234<br>species_name=human<br>label_name=%{x}<br>n_images=%{y}<extra></extra>",
         "legendgroup": "SPACE_000234",
         "marker": {
          "color": "#DDCB76",
          "pattern": {
           "shape": ""
          }
         },
         "name": "SPACE_000234",
         "offsetgroup": "SPACE_000234",
         "orientation": "v",
         "showlegend": true,
         "textposition": "auto",
         "type": "bar",
         "x": [
          "stomach",
          "small bowel",
          "colon",
          "liver",
          "omentum",
          "background"
         ],
         "xaxis": "x",
         "y": [
          1,
          1,
          1,
          2,
          2,
          2
         ],
         "yaxis": "y"
        },
        {
         "alignmentgroup": "True",
         "hovertemplate": "subject_name=SPACE_000235<br>species_name=human<br>label_name=%{x}<br>n_images=%{y}<extra></extra>",
         "legendgroup": "SPACE_000235",
         "marker": {
          "color": "#DDCB76",
          "pattern": {
           "shape": ""
          }
         },
         "name": "SPACE_000235",
         "offsetgroup": "SPACE_000235",
         "orientation": "v",
         "showlegend": true,
         "textposition": "auto",
         "type": "bar",
         "x": [
          "small bowel",
          "background"
         ],
         "xaxis": "x",
         "y": [
          2,
          2
         ],
         "yaxis": "y"
        },
        {
         "alignmentgroup": "True",
         "hovertemplate": "subject_name=SPACE_000236<br>species_name=human<br>label_name=%{x}<br>n_images=%{y}<extra></extra>",
         "legendgroup": "SPACE_000236",
         "marker": {
          "color": "#DDCB76",
          "pattern": {
           "shape": ""
          }
         },
         "name": "SPACE_000236",
         "offsetgroup": "SPACE_000236",
         "orientation": "v",
         "showlegend": true,
         "textposition": "auto",
         "type": "bar",
         "x": [
          "stomach",
          "colon",
          "liver",
          "omentum",
          "background"
         ],
         "xaxis": "x",
         "y": [
          1,
          2,
          2,
          2,
          2
         ],
         "yaxis": "y"
        },
        {
         "alignmentgroup": "True",
         "hovertemplate": "subject_name=SPACE_000237<br>species_name=human<br>label_name=%{x}<br>n_images=%{y}<extra></extra>",
         "legendgroup": "SPACE_000237",
         "marker": {
          "color": "#DDCB76",
          "pattern": {
           "shape": ""
          }
         },
         "name": "SPACE_000237",
         "offsetgroup": "SPACE_000237",
         "orientation": "v",
         "showlegend": true,
         "textposition": "auto",
         "type": "bar",
         "x": [
          "small bowel",
          "colon",
          "liver",
          "skin",
          "peritoneum",
          "background"
         ],
         "xaxis": "x",
         "y": [
          1,
          1,
          2,
          2,
          1,
          2
         ],
         "yaxis": "y"
        },
        {
         "alignmentgroup": "True",
         "hovertemplate": "subject_name=SPACE_000238<br>species_name=human<br>label_name=%{x}<br>n_images=%{y}<extra></extra>",
         "legendgroup": "SPACE_000238",
         "marker": {
          "color": "#DDCB76",
          "pattern": {
           "shape": ""
          }
         },
         "name": "SPACE_000238",
         "offsetgroup": "SPACE_000238",
         "orientation": "v",
         "showlegend": true,
         "textposition": "auto",
         "type": "bar",
         "x": [
          "colon",
          "pancreas",
          "kidney",
          "omentum",
          "skin",
          "background"
         ],
         "xaxis": "x",
         "y": [
          1,
          1,
          2,
          1,
          2,
          3
         ],
         "yaxis": "y"
        },
        {
         "alignmentgroup": "True",
         "hovertemplate": "subject_name=SPACE_000239<br>species_name=human<br>label_name=%{x}<br>n_images=%{y}<extra></extra>",
         "legendgroup": "SPACE_000239",
         "marker": {
          "color": "#DDCB76",
          "pattern": {
           "shape": ""
          }
         },
         "name": "SPACE_000239",
         "offsetgroup": "SPACE_000239",
         "orientation": "v",
         "showlegend": true,
         "textposition": "auto",
         "type": "bar",
         "x": [
          "stomach",
          "small bowel",
          "liver",
          "background"
         ],
         "xaxis": "x",
         "y": [
          1,
          2,
          2,
          2
         ],
         "yaxis": "y"
        },
        {
         "alignmentgroup": "True",
         "hovertemplate": "subject_name=SPACE_000240<br>species_name=human<br>label_name=%{x}<br>n_images=%{y}<extra></extra>",
         "legendgroup": "SPACE_000240",
         "marker": {
          "color": "#DDCB76",
          "pattern": {
           "shape": ""
          }
         },
         "name": "SPACE_000240",
         "offsetgroup": "SPACE_000240",
         "orientation": "v",
         "showlegend": true,
         "textposition": "auto",
         "type": "bar",
         "x": [
          "small bowel",
          "colon",
          "liver",
          "omentum",
          "background"
         ],
         "xaxis": "x",
         "y": [
          1,
          1,
          1,
          2,
          2
         ],
         "yaxis": "y"
        }
       ],
       "layout": {
        "annotations": [
         {
          "font": {
           "size": 20
          },
          "showarrow": false,
          "text": "",
          "x": 0.5,
          "xanchor": "center",
          "xref": "paper",
          "y": 0.2866666666666666,
          "yanchor": "bottom",
          "yref": "paper"
         },
         {
          "font": {
           "size": 20
          },
          "showarrow": false,
          "text": "",
          "x": 0.5,
          "xanchor": "center",
          "xref": "paper",
          "y": 0.6433333333333333,
          "yanchor": "bottom",
          "yref": "paper"
         },
         {
          "font": {
           "size": 20
          },
          "showarrow": false,
          "text": "",
          "x": 0.5,
          "xanchor": "center",
          "xref": "paper",
          "y": 1,
          "yanchor": "bottom",
          "yref": "paper"
         },
         {
          "font": {
           "size": 20
          },
          "showarrow": false,
          "text": "213",
          "x": "background",
          "xanchor": "center",
          "xref": "x",
          "y": 792,
          "yanchor": "bottom",
          "yref": "y"
         },
         {
          "font": {
           "size": 20
          },
          "showarrow": false,
          "text": "124",
          "x": "colon",
          "xanchor": "center",
          "xref": "x",
          "y": 313,
          "yanchor": "bottom",
          "yref": "y"
         },
         {
          "font": {
           "size": 20
          },
          "showarrow": false,
          "text": "49",
          "x": "kidney",
          "xanchor": "center",
          "xref": "x",
          "y": 163,
          "yanchor": "bottom",
          "yref": "y"
         },
         {
          "font": {
           "size": 20
          },
          "showarrow": false,
          "text": "144",
          "x": "liver",
          "xanchor": "center",
          "xref": "x",
          "y": 482,
          "yanchor": "bottom",
          "yref": "y"
         },
         {
          "font": {
           "size": 20
          },
          "showarrow": false,
          "text": "10",
          "x": "lung",
          "xanchor": "center",
          "xref": "x",
          "y": 56,
          "yanchor": "bottom",
          "yref": "y"
         },
         {
          "font": {
           "size": 20
          },
          "showarrow": false,
          "text": "146",
          "x": "omentum",
          "xanchor": "center",
          "xref": "x",
          "y": 486,
          "yanchor": "bottom",
          "yref": "y"
         },
         {
          "font": {
           "size": 20
          },
          "showarrow": false,
          "text": "41",
          "x": "pancreas",
          "xanchor": "center",
          "xref": "x",
          "y": 109,
          "yanchor": "bottom",
          "yref": "y"
         },
         {
          "font": {
           "size": 20
          },
          "showarrow": false,
          "text": "51",
          "x": "peritoneum",
          "xanchor": "center",
          "xref": "x",
          "y": 160,
          "yanchor": "bottom",
          "yref": "y"
         },
         {
          "font": {
           "size": 20
          },
          "showarrow": false,
          "text": "96",
          "x": "skin",
          "xanchor": "center",
          "xref": "x",
          "y": 295,
          "yanchor": "bottom",
          "yref": "y"
         },
         {
          "font": {
           "size": 20
          },
          "showarrow": false,
          "text": "136",
          "x": "small bowel",
          "xanchor": "center",
          "xref": "x",
          "y": 352,
          "yanchor": "bottom",
          "yref": "y"
         },
         {
          "font": {
           "size": 20
          },
          "showarrow": false,
          "text": "16",
          "x": "spleen",
          "xanchor": "center",
          "xref": "x",
          "y": 46,
          "yanchor": "bottom",
          "yref": "y"
         },
         {
          "font": {
           "size": 20
          },
          "showarrow": false,
          "text": "122",
          "x": "stomach",
          "xanchor": "center",
          "xref": "x",
          "y": 322,
          "yanchor": "bottom",
          "yref": "y"
         },
         {
          "font": {
           "size": 20
          },
          "showarrow": false,
          "text": "13",
          "x": "background",
          "xanchor": "center",
          "xref": "x2",
          "y": 597,
          "yanchor": "bottom",
          "yref": "y2"
         },
         {
          "font": {
           "size": 20
          },
          "showarrow": false,
          "text": "13",
          "x": "colon",
          "xanchor": "center",
          "xref": "x2",
          "y": 622,
          "yanchor": "bottom",
          "yref": "y2"
         },
         {
          "font": {
           "size": 20
          },
          "showarrow": false,
          "text": "24",
          "x": "kidney",
          "xanchor": "center",
          "xref": "x2",
          "y": 2092,
          "yanchor": "bottom",
          "yref": "y2"
         },
         {
          "font": {
           "size": 20
          },
          "showarrow": false,
          "text": "13",
          "x": "liver",
          "xanchor": "center",
          "xref": "x2",
          "y": 758,
          "yanchor": "bottom",
          "yref": "y2"
         },
         {
          "font": {
           "size": 20
          },
          "showarrow": false,
          "text": "13",
          "x": "lung",
          "xanchor": "center",
          "xref": "x2",
          "y": 467,
          "yanchor": "bottom",
          "yref": "y2"
         },
         {
          "font": {
           "size": 20
          },
          "showarrow": false,
          "text": "13",
          "x": "omentum",
          "xanchor": "center",
          "xref": "x2",
          "y": 592,
          "yanchor": "bottom",
          "yref": "y2"
         },
         {
          "font": {
           "size": 20
          },
          "showarrow": false,
          "text": "13",
          "x": "pancreas",
          "xanchor": "center",
          "xref": "x2",
          "y": 480,
          "yanchor": "bottom",
          "yref": "y2"
         },
         {
          "font": {
           "size": 20
          },
          "showarrow": false,
          "text": "13",
          "x": "peritoneum",
          "xanchor": "center",
          "xref": "x2",
          "y": 860,
          "yanchor": "bottom",
          "yref": "y2"
         },
         {
          "font": {
           "size": 20
          },
          "showarrow": false,
          "text": "13",
          "x": "skin",
          "xanchor": "center",
          "xref": "x2",
          "y": 833,
          "yanchor": "bottom",
          "yref": "y2"
         },
         {
          "font": {
           "size": 20
          },
          "showarrow": false,
          "text": "13",
          "x": "small bowel",
          "xanchor": "center",
          "xref": "x2",
          "y": 802,
          "yanchor": "bottom",
          "yref": "y2"
         },
         {
          "font": {
           "size": 20
          },
          "showarrow": false,
          "text": "13",
          "x": "spleen",
          "xanchor": "center",
          "xref": "x2",
          "y": 603,
          "yanchor": "bottom",
          "yref": "y2"
         },
         {
          "font": {
           "size": 20
          },
          "showarrow": false,
          "text": "13",
          "x": "stomach",
          "xanchor": "center",
          "xref": "x2",
          "y": 608,
          "yanchor": "bottom",
          "yref": "y2"
         },
         {
          "font": {
           "size": 20
          },
          "showarrow": false,
          "text": "20",
          "x": "background",
          "xanchor": "center",
          "xref": "x3",
          "y": 506,
          "yanchor": "bottom",
          "yref": "y3"
         },
         {
          "font": {
           "size": 20
          },
          "showarrow": false,
          "text": "28",
          "x": "colon",
          "xanchor": "center",
          "xref": "x3",
          "y": 619,
          "yanchor": "bottom",
          "yref": "y3"
         },
         {
          "font": {
           "size": 20
          },
          "showarrow": false,
          "text": "24",
          "x": "kidney",
          "xanchor": "center",
          "xref": "x3",
          "y": 842,
          "yanchor": "bottom",
          "yref": "y3"
         },
         {
          "font": {
           "size": 20
          },
          "showarrow": false,
          "text": "28",
          "x": "liver",
          "xanchor": "center",
          "xref": "x3",
          "y": 602,
          "yanchor": "bottom",
          "yref": "y3"
         },
         {
          "font": {
           "size": 20
          },
          "showarrow": false,
          "text": "16",
          "x": "lung",
          "xanchor": "center",
          "xref": "x3",
          "y": 367,
          "yanchor": "bottom",
          "yref": "y3"
         },
         {
          "font": {
           "size": 20
          },
          "showarrow": false,
          "text": "26",
          "x": "omentum",
          "xanchor": "center",
          "xref": "x3",
          "y": 481,
          "yanchor": "bottom",
          "yref": "y3"
         },
         {
          "font": {
           "size": 20
          },
          "showarrow": false,
          "text": "18",
          "x": "pancreas",
          "xanchor": "center",
          "xref": "x3",
          "y": 355,
          "yanchor": "bottom",
          "yref": "y3"
         },
         {
          "font": {
           "size": 20
          },
          "showarrow": false,
          "text": "27",
          "x": "peritoneum",
          "xanchor": "center",
          "xref": "x3",
          "y": 587,
          "yanchor": "bottom",
          "yref": "y3"
         },
         {
          "font": {
           "size": 20
          },
          "showarrow": false,
          "text": "27",
          "x": "skin",
          "xanchor": "center",
          "xref": "x3",
          "y": 597,
          "yanchor": "bottom",
          "yref": "y3"
         },
         {
          "font": {
           "size": 20
          },
          "showarrow": false,
          "text": "28",
          "x": "small bowel",
          "xanchor": "center",
          "xref": "x3",
          "y": 693,
          "yanchor": "bottom",
          "yref": "y3"
         },
         {
          "font": {
           "size": 20
          },
          "showarrow": false,
          "text": "27",
          "x": "spleen",
          "xanchor": "center",
          "xref": "x3",
          "y": 558,
          "yanchor": "bottom",
          "yref": "y3"
         },
         {
          "font": {
           "size": 20
          },
          "showarrow": false,
          "text": "28",
          "x": "stomach",
          "xanchor": "center",
          "xref": "x3",
          "y": 552,
          "yanchor": "bottom",
          "yref": "y3"
         }
        ],
        "barmode": "relative",
        "font": {
         "family": "Libertinus Sans",
         "size": 16
        },
        "height": 1200,
        "legend": {
         "title": {
          "text": "subject_name"
         },
         "tracegroupgap": 0
        },
        "margin": {
         "t": 60
        },
        "showlegend": false,
        "template": {
         "data": {
          "bar": [
           {
            "error_x": {
             "color": "#2a3f5f"
            },
            "error_y": {
             "color": "#2a3f5f"
            },
            "marker": {
             "line": {
              "color": "white",
              "width": 0.5
             },
             "pattern": {
              "fillmode": "overlay",
              "size": 10,
              "solidity": 0.2
             }
            },
            "type": "bar"
           }
          ],
          "barpolar": [
           {
            "marker": {
             "line": {
              "color": "white",
              "width": 0.5
             },
             "pattern": {
              "fillmode": "overlay",
              "size": 10,
              "solidity": 0.2
             }
            },
            "type": "barpolar"
           }
          ],
          "carpet": [
           {
            "aaxis": {
             "endlinecolor": "#2a3f5f",
             "gridcolor": "#C8D4E3",
             "linecolor": "#C8D4E3",
             "minorgridcolor": "#C8D4E3",
             "startlinecolor": "#2a3f5f"
            },
            "baxis": {
             "endlinecolor": "#2a3f5f",
             "gridcolor": "#C8D4E3",
             "linecolor": "#C8D4E3",
             "minorgridcolor": "#C8D4E3",
             "startlinecolor": "#2a3f5f"
            },
            "type": "carpet"
           }
          ],
          "choropleth": [
           {
            "colorbar": {
             "outlinewidth": 0,
             "ticks": ""
            },
            "type": "choropleth"
           }
          ],
          "contour": [
           {
            "colorbar": {
             "outlinewidth": 0,
             "ticks": ""
            },
            "colorscale": [
             [
              0,
              "#0d0887"
             ],
             [
              0.1111111111111111,
              "#46039f"
             ],
             [
              0.2222222222222222,
              "#7201a8"
             ],
             [
              0.3333333333333333,
              "#9c179e"
             ],
             [
              0.4444444444444444,
              "#bd3786"
             ],
             [
              0.5555555555555556,
              "#d8576b"
             ],
             [
              0.6666666666666666,
              "#ed7953"
             ],
             [
              0.7777777777777778,
              "#fb9f3a"
             ],
             [
              0.8888888888888888,
              "#fdca26"
             ],
             [
              1,
              "#f0f921"
             ]
            ],
            "type": "contour"
           }
          ],
          "contourcarpet": [
           {
            "colorbar": {
             "outlinewidth": 0,
             "ticks": ""
            },
            "type": "contourcarpet"
           }
          ],
          "heatmap": [
           {
            "colorbar": {
             "outlinewidth": 0,
             "ticks": ""
            },
            "colorscale": [
             [
              0,
              "#0d0887"
             ],
             [
              0.1111111111111111,
              "#46039f"
             ],
             [
              0.2222222222222222,
              "#7201a8"
             ],
             [
              0.3333333333333333,
              "#9c179e"
             ],
             [
              0.4444444444444444,
              "#bd3786"
             ],
             [
              0.5555555555555556,
              "#d8576b"
             ],
             [
              0.6666666666666666,
              "#ed7953"
             ],
             [
              0.7777777777777778,
              "#fb9f3a"
             ],
             [
              0.8888888888888888,
              "#fdca26"
             ],
             [
              1,
              "#f0f921"
             ]
            ],
            "type": "heatmap"
           }
          ],
          "heatmapgl": [
           {
            "colorbar": {
             "outlinewidth": 0,
             "ticks": ""
            },
            "colorscale": [
             [
              0,
              "#0d0887"
             ],
             [
              0.1111111111111111,
              "#46039f"
             ],
             [
              0.2222222222222222,
              "#7201a8"
             ],
             [
              0.3333333333333333,
              "#9c179e"
             ],
             [
              0.4444444444444444,
              "#bd3786"
             ],
             [
              0.5555555555555556,
              "#d8576b"
             ],
             [
              0.6666666666666666,
              "#ed7953"
             ],
             [
              0.7777777777777778,
              "#fb9f3a"
             ],
             [
              0.8888888888888888,
              "#fdca26"
             ],
             [
              1,
              "#f0f921"
             ]
            ],
            "type": "heatmapgl"
           }
          ],
          "histogram": [
           {
            "marker": {
             "pattern": {
              "fillmode": "overlay",
              "size": 10,
              "solidity": 0.2
             }
            },
            "type": "histogram"
           }
          ],
          "histogram2d": [
           {
            "colorbar": {
             "outlinewidth": 0,
             "ticks": ""
            },
            "colorscale": [
             [
              0,
              "#0d0887"
             ],
             [
              0.1111111111111111,
              "#46039f"
             ],
             [
              0.2222222222222222,
              "#7201a8"
             ],
             [
              0.3333333333333333,
              "#9c179e"
             ],
             [
              0.4444444444444444,
              "#bd3786"
             ],
             [
              0.5555555555555556,
              "#d8576b"
             ],
             [
              0.6666666666666666,
              "#ed7953"
             ],
             [
              0.7777777777777778,
              "#fb9f3a"
             ],
             [
              0.8888888888888888,
              "#fdca26"
             ],
             [
              1,
              "#f0f921"
             ]
            ],
            "type": "histogram2d"
           }
          ],
          "histogram2dcontour": [
           {
            "colorbar": {
             "outlinewidth": 0,
             "ticks": ""
            },
            "colorscale": [
             [
              0,
              "#0d0887"
             ],
             [
              0.1111111111111111,
              "#46039f"
             ],
             [
              0.2222222222222222,
              "#7201a8"
             ],
             [
              0.3333333333333333,
              "#9c179e"
             ],
             [
              0.4444444444444444,
              "#bd3786"
             ],
             [
              0.5555555555555556,
              "#d8576b"
             ],
             [
              0.6666666666666666,
              "#ed7953"
             ],
             [
              0.7777777777777778,
              "#fb9f3a"
             ],
             [
              0.8888888888888888,
              "#fdca26"
             ],
             [
              1,
              "#f0f921"
             ]
            ],
            "type": "histogram2dcontour"
           }
          ],
          "mesh3d": [
           {
            "colorbar": {
             "outlinewidth": 0,
             "ticks": ""
            },
            "type": "mesh3d"
           }
          ],
          "parcoords": [
           {
            "line": {
             "colorbar": {
              "outlinewidth": 0,
              "ticks": ""
             }
            },
            "type": "parcoords"
           }
          ],
          "pie": [
           {
            "automargin": true,
            "type": "pie"
           }
          ],
          "scatter": [
           {
            "fillpattern": {
             "fillmode": "overlay",
             "size": 10,
             "solidity": 0.2
            },
            "type": "scatter"
           }
          ],
          "scatter3d": [
           {
            "line": {
             "colorbar": {
              "outlinewidth": 0,
              "ticks": ""
             }
            },
            "marker": {
             "colorbar": {
              "outlinewidth": 0,
              "ticks": ""
             }
            },
            "type": "scatter3d"
           }
          ],
          "scattercarpet": [
           {
            "marker": {
             "colorbar": {
              "outlinewidth": 0,
              "ticks": ""
             }
            },
            "type": "scattercarpet"
           }
          ],
          "scattergeo": [
           {
            "marker": {
             "colorbar": {
              "outlinewidth": 0,
              "ticks": ""
             }
            },
            "type": "scattergeo"
           }
          ],
          "scattergl": [
           {
            "marker": {
             "colorbar": {
              "outlinewidth": 0,
              "ticks": ""
             }
            },
            "type": "scattergl"
           }
          ],
          "scattermapbox": [
           {
            "marker": {
             "colorbar": {
              "outlinewidth": 0,
              "ticks": ""
             }
            },
            "type": "scattermapbox"
           }
          ],
          "scatterpolar": [
           {
            "marker": {
             "colorbar": {
              "outlinewidth": 0,
              "ticks": ""
             }
            },
            "type": "scatterpolar"
           }
          ],
          "scatterpolargl": [
           {
            "marker": {
             "colorbar": {
              "outlinewidth": 0,
              "ticks": ""
             }
            },
            "type": "scatterpolargl"
           }
          ],
          "scatterternary": [
           {
            "marker": {
             "colorbar": {
              "outlinewidth": 0,
              "ticks": ""
             }
            },
            "type": "scatterternary"
           }
          ],
          "surface": [
           {
            "colorbar": {
             "outlinewidth": 0,
             "ticks": ""
            },
            "colorscale": [
             [
              0,
              "#0d0887"
             ],
             [
              0.1111111111111111,
              "#46039f"
             ],
             [
              0.2222222222222222,
              "#7201a8"
             ],
             [
              0.3333333333333333,
              "#9c179e"
             ],
             [
              0.4444444444444444,
              "#bd3786"
             ],
             [
              0.5555555555555556,
              "#d8576b"
             ],
             [
              0.6666666666666666,
              "#ed7953"
             ],
             [
              0.7777777777777778,
              "#fb9f3a"
             ],
             [
              0.8888888888888888,
              "#fdca26"
             ],
             [
              1,
              "#f0f921"
             ]
            ],
            "type": "surface"
           }
          ],
          "table": [
           {
            "cells": {
             "fill": {
              "color": "#EBF0F8"
             },
             "line": {
              "color": "white"
             }
            },
            "header": {
             "fill": {
              "color": "#C8D4E3"
             },
             "line": {
              "color": "white"
             }
            },
            "type": "table"
           }
          ]
         },
         "layout": {
          "annotationdefaults": {
           "arrowcolor": "#2a3f5f",
           "arrowhead": 0,
           "arrowwidth": 1
          },
          "autotypenumbers": "strict",
          "coloraxis": {
           "colorbar": {
            "outlinewidth": 0,
            "ticks": ""
           }
          },
          "colorscale": {
           "diverging": [
            [
             0,
             "#8e0152"
            ],
            [
             0.1,
             "#c51b7d"
            ],
            [
             0.2,
             "#de77ae"
            ],
            [
             0.3,
             "#f1b6da"
            ],
            [
             0.4,
             "#fde0ef"
            ],
            [
             0.5,
             "#f7f7f7"
            ],
            [
             0.6,
             "#e6f5d0"
            ],
            [
             0.7,
             "#b8e186"
            ],
            [
             0.8,
             "#7fbc41"
            ],
            [
             0.9,
             "#4d9221"
            ],
            [
             1,
             "#276419"
            ]
           ],
           "sequential": [
            [
             0,
             "#0d0887"
            ],
            [
             0.1111111111111111,
             "#46039f"
            ],
            [
             0.2222222222222222,
             "#7201a8"
            ],
            [
             0.3333333333333333,
             "#9c179e"
            ],
            [
             0.4444444444444444,
             "#bd3786"
            ],
            [
             0.5555555555555556,
             "#d8576b"
            ],
            [
             0.6666666666666666,
             "#ed7953"
            ],
            [
             0.7777777777777778,
             "#fb9f3a"
            ],
            [
             0.8888888888888888,
             "#fdca26"
            ],
            [
             1,
             "#f0f921"
            ]
           ],
           "sequentialminus": [
            [
             0,
             "#0d0887"
            ],
            [
             0.1111111111111111,
             "#46039f"
            ],
            [
             0.2222222222222222,
             "#7201a8"
            ],
            [
             0.3333333333333333,
             "#9c179e"
            ],
            [
             0.4444444444444444,
             "#bd3786"
            ],
            [
             0.5555555555555556,
             "#d8576b"
            ],
            [
             0.6666666666666666,
             "#ed7953"
            ],
            [
             0.7777777777777778,
             "#fb9f3a"
            ],
            [
             0.8888888888888888,
             "#fdca26"
            ],
            [
             1,
             "#f0f921"
            ]
           ]
          },
          "colorway": [
           "#636efa",
           "#EF553B",
           "#00cc96",
           "#ab63fa",
           "#FFA15A",
           "#19d3f3",
           "#FF6692",
           "#B6E880",
           "#FF97FF",
           "#FECB52"
          ],
          "font": {
           "color": "#2a3f5f"
          },
          "geo": {
           "bgcolor": "white",
           "lakecolor": "white",
           "landcolor": "white",
           "showlakes": true,
           "showland": true,
           "subunitcolor": "#C8D4E3"
          },
          "hoverlabel": {
           "align": "left"
          },
          "hovermode": "closest",
          "mapbox": {
           "style": "light"
          },
          "paper_bgcolor": "white",
          "plot_bgcolor": "white",
          "polar": {
           "angularaxis": {
            "gridcolor": "#EBF0F8",
            "linecolor": "#EBF0F8",
            "ticks": ""
           },
           "bgcolor": "white",
           "radialaxis": {
            "gridcolor": "#EBF0F8",
            "linecolor": "#EBF0F8",
            "ticks": ""
           }
          },
          "scene": {
           "xaxis": {
            "backgroundcolor": "white",
            "gridcolor": "#DFE8F3",
            "gridwidth": 2,
            "linecolor": "#EBF0F8",
            "showbackground": true,
            "ticks": "",
            "zerolinecolor": "#EBF0F8"
           },
           "yaxis": {
            "backgroundcolor": "white",
            "gridcolor": "#DFE8F3",
            "gridwidth": 2,
            "linecolor": "#EBF0F8",
            "showbackground": true,
            "ticks": "",
            "zerolinecolor": "#EBF0F8"
           },
           "zaxis": {
            "backgroundcolor": "white",
            "gridcolor": "#DFE8F3",
            "gridwidth": 2,
            "linecolor": "#EBF0F8",
            "showbackground": true,
            "ticks": "",
            "zerolinecolor": "#EBF0F8"
           }
          },
          "shapedefaults": {
           "line": {
            "color": "#2a3f5f"
           }
          },
          "ternary": {
           "aaxis": {
            "gridcolor": "#DFE8F3",
            "linecolor": "#A2B1C6",
            "ticks": ""
           },
           "baxis": {
            "gridcolor": "#DFE8F3",
            "linecolor": "#A2B1C6",
            "ticks": ""
           },
           "bgcolor": "white",
           "caxis": {
            "gridcolor": "#DFE8F3",
            "linecolor": "#A2B1C6",
            "ticks": ""
           }
          },
          "title": {
           "x": 0.05
          },
          "xaxis": {
           "automargin": true,
           "gridcolor": "#EBF0F8",
           "linecolor": "#EBF0F8",
           "ticks": "",
           "title": {
            "standoff": 15
           },
           "zerolinecolor": "#EBF0F8",
           "zerolinewidth": 2
          },
          "yaxis": {
           "automargin": true,
           "gridcolor": "#EBF0F8",
           "linecolor": "#EBF0F8",
           "ticks": "",
           "title": {
            "standoff": 15
           },
           "zerolinecolor": "#EBF0F8",
           "zerolinewidth": 2
          }
         }
        },
        "width": 1200,
        "xaxis": {
         "anchor": "y",
         "categoryarray": [
          "stomach",
          "small bowel",
          "colon",
          "liver",
          "pancreas",
          "kidney",
          "spleen",
          "omentum",
          "lung",
          "skin",
          "peritoneum",
          "background"
         ],
         "categoryorder": "array",
         "domain": [
          0,
          1
         ],
         "title": {
          "text": "<b>label name</b>"
         }
        },
        "xaxis2": {
         "anchor": "y2",
         "domain": [
          0,
          1
         ],
         "matches": "x",
         "showticklabels": false
        },
        "xaxis3": {
         "anchor": "y3",
         "domain": [
          0,
          1
         ],
         "matches": "x",
         "showticklabels": false
        },
        "yaxis": {
         "anchor": "x",
         "domain": [
          0,
          0.2866666666666666
         ],
         "tickformat": ",",
         "title": {
          "standoff": 5,
          "text": "<b># images</b>"
         }
        },
        "yaxis2": {
         "anchor": "x2",
         "domain": [
          0.35666666666666663,
          0.6433333333333333
         ],
         "tickformat": ",",
         "title": {
          "standoff": 5,
          "text": "<b># images</b>"
         }
        },
        "yaxis3": {
         "anchor": "x3",
         "domain": [
          0.7133333333333333,
          1
         ],
         "tickformat": ",",
         "title": {
          "standoff": 5,
          "text": "<b># images</b>"
         }
        }
       }
      },
      "text/html": [
       "<div>                            <div id=\"cd072cd8-be6f-4f62-ac4c-09c28206e7e3\" class=\"plotly-graph-div\" style=\"height:1200px; width:1200px;\"></div>            <script type=\"text/javascript\">                require([\"plotly\"], function(Plotly) {                    window.PLOTLYENV=window.PLOTLYENV || {};                                    if (document.getElementById(\"cd072cd8-be6f-4f62-ac4c-09c28206e7e3\")) {                    Plotly.newPlot(                        \"cd072cd8-be6f-4f62-ac4c-09c28206e7e3\",                        [{\"alignmentgroup\":\"True\",\"hovertemplate\":\"subject_name=P041\\u003cbr\\u003especies_name=pig\\u003cbr\\u003elabel_name=%{x}\\u003cbr\\u003en_images=%{y}\\u003cextra\\u003e\\u003c\\u002fextra\\u003e\",\"legendgroup\":\"P041\",\"marker\":{\"color\":\"#44AA99\",\"pattern\":{\"shape\":\"\"}},\"name\":\"P041\",\"offsetgroup\":\"P041\",\"orientation\":\"v\",\"showlegend\":true,\"textposition\":\"auto\",\"x\":[\"stomach\",\"small bowel\",\"colon\",\"liver\",\"spleen\",\"omentum\",\"skin\",\"peritoneum\",\"background\"],\"xaxis\":\"x3\",\"y\":[2,4,4,2,2,2,2,2,4],\"yaxis\":\"y3\",\"type\":\"bar\"},{\"alignmentgroup\":\"True\",\"hovertemplate\":\"subject_name=P043\\u003cbr\\u003especies_name=pig\\u003cbr\\u003elabel_name=%{x}\\u003cbr\\u003en_images=%{y}\\u003cextra\\u003e\\u003c\\u002fextra\\u003e\",\"legendgroup\":\"P043\",\"marker\":{\"color\":\"#44AA99\",\"pattern\":{\"shape\":\"\"}},\"name\":\"P043\",\"offsetgroup\":\"P043\",\"orientation\":\"v\",\"showlegend\":true,\"textposition\":\"auto\",\"x\":[\"stomach\",\"small bowel\",\"colon\",\"liver\",\"omentum\",\"lung\",\"background\"],\"xaxis\":\"x3\",\"y\":[3,11,11,11,3,10,21],\"yaxis\":\"y3\",\"type\":\"bar\"},{\"alignmentgroup\":\"True\",\"hovertemplate\":\"subject_name=P044\\u003cbr\\u003especies_name=pig\\u003cbr\\u003elabel_name=%{x}\\u003cbr\\u003en_images=%{y}\\u003cextra\\u003e\\u003c\\u002fextra\\u003e\",\"legendgroup\":\"P044\",\"marker\":{\"color\":\"#44AA99\",\"pattern\":{\"shape\":\"\"}},\"name\":\"P044\",\"offsetgroup\":\"P044\",\"orientation\":\"v\",\"showlegend\":true,\"textposition\":\"auto\",\"x\":[\"stomach\",\"small bowel\",\"colon\",\"liver\",\"spleen\",\"omentum\",\"lung\",\"skin\",\"peritoneum\",\"background\"],\"xaxis\":\"x3\",\"y\":[5,17,17,14,14,5,6,22,17,23],\"yaxis\":\"y3\",\"type\":\"bar\"},{\"alignmentgroup\":\"True\",\"hovertemplate\":\"subject_name=P045\\u003cbr\\u003especies_name=pig\\u003cbr\\u003elabel_name=%{x}\\u003cbr\\u003en_images=%{y}\\u003cextra\\u003e\\u003c\\u002fextra\\u003e\",\"legendgroup\":\"P045\",\"marker\":{\"color\":\"#44AA99\",\"pattern\":{\"shape\":\"\"}},\"name\":\"P045\",\"offsetgroup\":\"P045\",\"orientation\":\"v\",\"showlegend\":true,\"textposition\":\"auto\",\"x\":[\"stomach\",\"small bowel\",\"colon\",\"liver\",\"spleen\",\"omentum\",\"lung\",\"skin\",\"peritoneum\",\"background\"],\"xaxis\":\"x3\",\"y\":[13,17,18,14,15,9,4,18,15,22],\"yaxis\":\"y3\",\"type\":\"bar\"},{\"alignmentgroup\":\"True\",\"hovertemplate\":\"subject_name=P046\\u003cbr\\u003especies_name=pig\\u003cbr\\u003elabel_name=%{x}\\u003cbr\\u003en_images=%{y}\\u003cextra\\u003e\\u003c\\u002fextra\\u003e\",\"legendgroup\":\"P046\",\"marker\":{\"color\":\"#44AA99\",\"pattern\":{\"shape\":\"\"}},\"name\":\"P046\",\"offsetgroup\":\"P046\",\"orientation\":\"v\",\"showlegend\":true,\"textposition\":\"auto\",\"x\":[\"stomach\",\"small bowel\",\"colon\",\"liver\",\"spleen\",\"omentum\",\"skin\",\"peritoneum\",\"background\"],\"xaxis\":\"x3\",\"y\":[12,16,14,13,14,13,16,15,16],\"yaxis\":\"y3\",\"type\":\"bar\"},{\"alignmentgroup\":\"True\",\"hovertemplate\":\"subject_name=P047\\u003cbr\\u003especies_name=pig\\u003cbr\\u003elabel_name=%{x}\\u003cbr\\u003en_images=%{y}\\u003cextra\\u003e\\u003c\\u002fextra\\u003e\",\"legendgroup\":\"P047\",\"marker\":{\"color\":\"#44AA99\",\"pattern\":{\"shape\":\"\"}},\"name\":\"P047\",\"offsetgroup\":\"P047\",\"orientation\":\"v\",\"showlegend\":true,\"textposition\":\"auto\",\"x\":[\"stomach\",\"small bowel\",\"colon\",\"liver\",\"spleen\",\"omentum\",\"skin\",\"peritoneum\",\"background\"],\"xaxis\":\"x3\",\"y\":[10,10,10,10,10,8,10,10,10],\"yaxis\":\"y3\",\"type\":\"bar\"},{\"alignmentgroup\":\"True\",\"hovertemplate\":\"subject_name=P048\\u003cbr\\u003especies_name=pig\\u003cbr\\u003elabel_name=%{x}\\u003cbr\\u003en_images=%{y}\\u003cextra\\u003e\\u003c\\u002fextra\\u003e\",\"legendgroup\":\"P048\",\"marker\":{\"color\":\"#44AA99\",\"pattern\":{\"shape\":\"\"}},\"name\":\"P048\",\"offsetgroup\":\"P048\",\"orientation\":\"v\",\"showlegend\":true,\"textposition\":\"auto\",\"x\":[\"stomach\",\"small bowel\",\"colon\",\"liver\",\"spleen\",\"skin\",\"peritoneum\",\"background\"],\"xaxis\":\"x3\",\"y\":[11,15,15,10,11,15,14,15],\"yaxis\":\"y3\",\"type\":\"bar\"},{\"alignmentgroup\":\"True\",\"hovertemplate\":\"subject_name=P049\\u003cbr\\u003especies_name=pig\\u003cbr\\u003elabel_name=%{x}\\u003cbr\\u003en_images=%{y}\\u003cextra\\u003e\\u003c\\u002fextra\\u003e\",\"legendgroup\":\"P049\",\"marker\":{\"color\":\"#44AA99\",\"pattern\":{\"shape\":\"\"}},\"name\":\"P049\",\"offsetgroup\":\"P049\",\"orientation\":\"v\",\"showlegend\":true,\"textposition\":\"auto\",\"x\":[\"stomach\",\"small bowel\",\"colon\",\"liver\",\"spleen\",\"skin\",\"peritoneum\",\"background\"],\"xaxis\":\"x3\",\"y\":[11,16,16,5,13,16,16,16],\"yaxis\":\"y3\",\"type\":\"bar\"},{\"alignmentgroup\":\"True\",\"hovertemplate\":\"subject_name=P050\\u003cbr\\u003especies_name=pig\\u003cbr\\u003elabel_name=%{x}\\u003cbr\\u003en_images=%{y}\\u003cextra\\u003e\\u003c\\u002fextra\\u003e\",\"legendgroup\":\"P050\",\"marker\":{\"color\":\"#44AA99\",\"pattern\":{\"shape\":\"\"}},\"name\":\"P050\",\"offsetgroup\":\"P050\",\"orientation\":\"v\",\"showlegend\":true,\"textposition\":\"auto\",\"x\":[\"stomach\",\"small bowel\",\"colon\",\"liver\",\"spleen\",\"omentum\",\"skin\",\"peritoneum\",\"background\"],\"xaxis\":\"x3\",\"y\":[5,5,5,5,5,5,5,5,5],\"yaxis\":\"y3\",\"type\":\"bar\"},{\"alignmentgroup\":\"True\",\"hovertemplate\":\"subject_name=P057\\u003cbr\\u003especies_name=pig\\u003cbr\\u003elabel_name=%{x}\\u003cbr\\u003en_images=%{y}\\u003cextra\\u003e\\u003c\\u002fextra\\u003e\",\"legendgroup\":\"P057\",\"marker\":{\"color\":\"#44AA99\",\"pattern\":{\"shape\":\"\"}},\"name\":\"P057\",\"offsetgroup\":\"P057\",\"orientation\":\"v\",\"showlegend\":true,\"textposition\":\"auto\",\"x\":[\"stomach\",\"small bowel\",\"colon\",\"liver\",\"pancreas\",\"spleen\",\"omentum\",\"skin\",\"peritoneum\",\"background\"],\"xaxis\":\"x3\",\"y\":[20,24,20,19,5,21,19,24,24,24],\"yaxis\":\"y3\",\"type\":\"bar\"},{\"alignmentgroup\":\"True\",\"hovertemplate\":\"subject_name=P058\\u003cbr\\u003especies_name=pig\\u003cbr\\u003elabel_name=%{x}\\u003cbr\\u003en_images=%{y}\\u003cextra\\u003e\\u003c\\u002fextra\\u003e\",\"legendgroup\":\"P058\",\"marker\":{\"color\":\"#44AA99\",\"pattern\":{\"shape\":\"\"}},\"name\":\"P058\",\"offsetgroup\":\"P058\",\"orientation\":\"v\",\"showlegend\":true,\"textposition\":\"auto\",\"x\":[\"stomach\",\"small bowel\",\"colon\",\"liver\",\"pancreas\",\"kidney\",\"spleen\",\"omentum\",\"lung\",\"skin\",\"peritoneum\",\"background\"],\"xaxis\":\"x3\",\"y\":[8,29,32,35,14,8,17,17,13,19,24,53],\"yaxis\":\"y3\",\"type\":\"bar\"},{\"alignmentgroup\":\"True\",\"hovertemplate\":\"subject_name=P059\\u003cbr\\u003especies_name=pig\\u003cbr\\u003elabel_name=%{x}\\u003cbr\\u003en_images=%{y}\\u003cextra\\u003e\\u003c\\u002fextra\\u003e\",\"legendgroup\":\"P059\",\"marker\":{\"color\":\"#44AA99\",\"pattern\":{\"shape\":\"\"}},\"name\":\"P059\",\"offsetgroup\":\"P059\",\"orientation\":\"v\",\"showlegend\":true,\"textposition\":\"auto\",\"x\":[\"stomach\",\"small bowel\",\"colon\",\"liver\",\"pancreas\",\"kidney\",\"spleen\",\"omentum\",\"skin\",\"peritoneum\",\"background\"],\"xaxis\":\"x3\",\"y\":[2,19,16,8,5,3,4,3,1,6,22],\"yaxis\":\"y3\",\"type\":\"bar\"},{\"alignmentgroup\":\"True\",\"hovertemplate\":\"subject_name=P060\\u003cbr\\u003especies_name=pig\\u003cbr\\u003elabel_name=%{x}\\u003cbr\\u003en_images=%{y}\\u003cextra\\u003e\\u003c\\u002fextra\\u003e\",\"legendgroup\":\"P060\",\"marker\":{\"color\":\"#44AA99\",\"pattern\":{\"shape\":\"\"}},\"name\":\"P060\",\"offsetgroup\":\"P060\",\"orientation\":\"v\",\"showlegend\":true,\"textposition\":\"auto\",\"x\":[\"stomach\",\"small bowel\",\"colon\",\"liver\",\"pancreas\",\"spleen\",\"omentum\",\"lung\",\"skin\",\"peritoneum\",\"background\"],\"xaxis\":\"x3\",\"y\":[26,36,26,28,8,24,16,14,13,18,50],\"yaxis\":\"y3\",\"type\":\"bar\"},{\"alignmentgroup\":\"True\",\"hovertemplate\":\"subject_name=P061\\u003cbr\\u003especies_name=pig\\u003cbr\\u003elabel_name=%{x}\\u003cbr\\u003en_images=%{y}\\u003cextra\\u003e\\u003c\\u002fextra\\u003e\",\"legendgroup\":\"P061\",\"marker\":{\"color\":\"#44AA99\",\"pattern\":{\"shape\":\"\"}},\"name\":\"P061\",\"offsetgroup\":\"P061\",\"orientation\":\"v\",\"showlegend\":true,\"textposition\":\"auto\",\"x\":[\"stomach\",\"small bowel\",\"colon\",\"liver\",\"pancreas\",\"kidney\",\"spleen\",\"omentum\",\"skin\",\"peritoneum\",\"background\"],\"xaxis\":\"x3\",\"y\":[8,18,12,12,1,6,12,1,18,18,18],\"yaxis\":\"y3\",\"type\":\"bar\"},{\"alignmentgroup\":\"True\",\"hovertemplate\":\"subject_name=P062\\u003cbr\\u003especies_name=pig\\u003cbr\\u003elabel_name=%{x}\\u003cbr\\u003en_images=%{y}\\u003cextra\\u003e\\u003c\\u002fextra\\u003e\",\"legendgroup\":\"P062\",\"marker\":{\"color\":\"#44AA99\",\"pattern\":{\"shape\":\"\"}},\"name\":\"P062\",\"offsetgroup\":\"P062\",\"orientation\":\"v\",\"showlegend\":true,\"textposition\":\"auto\",\"x\":[\"stomach\",\"small bowel\",\"colon\",\"liver\",\"pancreas\",\"kidney\",\"spleen\",\"omentum\",\"lung\",\"skin\",\"peritoneum\",\"background\"],\"xaxis\":\"x3\",\"y\":[33,47,25,31,6,17,18,23,12,29,26,59],\"yaxis\":\"y3\",\"type\":\"bar\"},{\"alignmentgroup\":\"True\",\"hovertemplate\":\"subject_name=P068\\u003cbr\\u003especies_name=pig\\u003cbr\\u003elabel_name=%{x}\\u003cbr\\u003en_images=%{y}\\u003cextra\\u003e\\u003c\\u002fextra\\u003e\",\"legendgroup\":\"P068\",\"marker\":{\"color\":\"#44AA99\",\"pattern\":{\"shape\":\"\"}},\"name\":\"P068\",\"offsetgroup\":\"P068\",\"orientation\":\"v\",\"showlegend\":true,\"textposition\":\"auto\",\"x\":[\"stomach\",\"small bowel\",\"colon\",\"liver\",\"pancreas\",\"spleen\",\"omentum\",\"skin\",\"peritoneum\",\"background\"],\"xaxis\":\"x3\",\"y\":[17,23,15,13,5,18,10,9,13,23],\"yaxis\":\"y3\",\"type\":\"bar\"},{\"alignmentgroup\":\"True\",\"hovertemplate\":\"subject_name=P069\\u003cbr\\u003especies_name=pig\\u003cbr\\u003elabel_name=%{x}\\u003cbr\\u003en_images=%{y}\\u003cextra\\u003e\\u003c\\u002fextra\\u003e\",\"legendgroup\":\"P069\",\"marker\":{\"color\":\"#44AA99\",\"pattern\":{\"shape\":\"\"}},\"name\":\"P069\",\"offsetgroup\":\"P069\",\"orientation\":\"v\",\"showlegend\":true,\"textposition\":\"auto\",\"x\":[\"stomach\",\"small bowel\",\"colon\",\"liver\",\"spleen\",\"omentum\",\"skin\",\"peritoneum\",\"background\"],\"xaxis\":\"x3\",\"y\":[13,20,20,13,19,13,15,13,20],\"yaxis\":\"y3\",\"type\":\"bar\"},{\"alignmentgroup\":\"True\",\"hovertemplate\":\"subject_name=P070\\u003cbr\\u003especies_name=pig\\u003cbr\\u003elabel_name=%{x}\\u003cbr\\u003en_images=%{y}\\u003cextra\\u003e\\u003c\\u002fextra\\u003e\",\"legendgroup\":\"P070\",\"marker\":{\"color\":\"#44AA99\",\"pattern\":{\"shape\":\"\"}},\"name\":\"P070\",\"offsetgroup\":\"P070\",\"orientation\":\"v\",\"showlegend\":true,\"textposition\":\"auto\",\"x\":[\"stomach\",\"small bowel\",\"colon\",\"liver\",\"pancreas\",\"spleen\",\"omentum\",\"lung\",\"skin\",\"peritoneum\",\"background\"],\"xaxis\":\"x3\",\"y\":[19,25,25,25,9,16,14,14,28,25,39],\"yaxis\":\"y3\",\"type\":\"bar\"},{\"alignmentgroup\":\"True\",\"hovertemplate\":\"subject_name=P071\\u003cbr\\u003especies_name=pig\\u003cbr\\u003elabel_name=%{x}\\u003cbr\\u003en_images=%{y}\\u003cextra\\u003e\\u003c\\u002fextra\\u003e\",\"legendgroup\":\"P071\",\"marker\":{\"color\":\"#44AA99\",\"pattern\":{\"shape\":\"\"}},\"name\":\"P071\",\"offsetgroup\":\"P071\",\"orientation\":\"v\",\"showlegend\":true,\"textposition\":\"auto\",\"x\":[\"stomach\",\"small bowel\",\"colon\",\"liver\",\"pancreas\",\"spleen\",\"omentum\",\"skin\",\"peritoneum\",\"background\"],\"xaxis\":\"x3\",\"y\":[19,15,7,10,7,12,14,14,1,19],\"yaxis\":\"y3\",\"type\":\"bar\"},{\"alignmentgroup\":\"True\",\"hovertemplate\":\"subject_name=P072\\u003cbr\\u003especies_name=pig\\u003cbr\\u003elabel_name=%{x}\\u003cbr\\u003en_images=%{y}\\u003cextra\\u003e\\u003c\\u002fextra\\u003e\",\"legendgroup\":\"P072\",\"marker\":{\"color\":\"#44AA99\",\"pattern\":{\"shape\":\"\"}},\"name\":\"P072\",\"offsetgroup\":\"P072\",\"orientation\":\"v\",\"showlegend\":true,\"textposition\":\"auto\",\"x\":[\"stomach\",\"small bowel\",\"colon\",\"liver\",\"pancreas\",\"kidney\",\"spleen\",\"omentum\",\"lung\",\"skin\",\"peritoneum\",\"background\"],\"xaxis\":\"x3\",\"y\":[27,38,23,36,7,9,25,18,6,35,37,47],\"yaxis\":\"y3\",\"type\":\"bar\"},{\"alignmentgroup\":\"True\",\"hovertemplate\":\"subject_name=P079\\u003cbr\\u003especies_name=pig\\u003cbr\\u003elabel_name=%{x}\\u003cbr\\u003en_images=%{y}\\u003cextra\\u003e\\u003c\\u002fextra\\u003e\",\"legendgroup\":\"P079\",\"marker\":{\"color\":\"#44AA99\",\"pattern\":{\"shape\":\"\"}},\"name\":\"P079\",\"offsetgroup\":\"P079\",\"orientation\":\"v\",\"showlegend\":true,\"textposition\":\"auto\",\"x\":[\"kidney\"],\"xaxis\":\"x3\",\"y\":[30],\"yaxis\":\"y3\",\"type\":\"bar\"},{\"alignmentgroup\":\"True\",\"hovertemplate\":\"subject_name=P080\\u003cbr\\u003especies_name=pig\\u003cbr\\u003elabel_name=%{x}\\u003cbr\\u003en_images=%{y}\\u003cextra\\u003e\\u003c\\u002fextra\\u003e\",\"legendgroup\":\"P080\",\"marker\":{\"color\":\"#44AA99\",\"pattern\":{\"shape\":\"\"}},\"name\":\"P080\",\"offsetgroup\":\"P080\",\"orientation\":\"v\",\"showlegend\":true,\"textposition\":\"auto\",\"x\":[\"kidney\"],\"xaxis\":\"x3\",\"y\":[70],\"yaxis\":\"y3\",\"type\":\"bar\"},{\"alignmentgroup\":\"True\",\"hovertemplate\":\"subject_name=P081\\u003cbr\\u003especies_name=pig\\u003cbr\\u003elabel_name=%{x}\\u003cbr\\u003en_images=%{y}\\u003cextra\\u003e\\u003c\\u002fextra\\u003e\",\"legendgroup\":\"P081\",\"marker\":{\"color\":\"#44AA99\",\"pattern\":{\"shape\":\"\"}},\"name\":\"P081\",\"offsetgroup\":\"P081\",\"orientation\":\"v\",\"showlegend\":true,\"textposition\":\"auto\",\"x\":[\"kidney\"],\"xaxis\":\"x3\",\"y\":[41],\"yaxis\":\"y3\",\"type\":\"bar\"},{\"alignmentgroup\":\"True\",\"hovertemplate\":\"subject_name=P082\\u003cbr\\u003especies_name=pig\\u003cbr\\u003elabel_name=%{x}\\u003cbr\\u003en_images=%{y}\\u003cextra\\u003e\\u003c\\u002fextra\\u003e\",\"legendgroup\":\"P082\",\"marker\":{\"color\":\"#44AA99\",\"pattern\":{\"shape\":\"\"}},\"name\":\"P082\",\"offsetgroup\":\"P082\",\"orientation\":\"v\",\"showlegend\":true,\"textposition\":\"auto\",\"x\":[\"kidney\"],\"xaxis\":\"x3\",\"y\":[31],\"yaxis\":\"y3\",\"type\":\"bar\"},{\"alignmentgroup\":\"True\",\"hovertemplate\":\"subject_name=P083\\u003cbr\\u003especies_name=pig\\u003cbr\\u003elabel_name=%{x}\\u003cbr\\u003en_images=%{y}\\u003cextra\\u003e\\u003c\\u002fextra\\u003e\",\"legendgroup\":\"P083\",\"marker\":{\"color\":\"#44AA99\",\"pattern\":{\"shape\":\"\"}},\"name\":\"P083\",\"offsetgroup\":\"P083\",\"orientation\":\"v\",\"showlegend\":true,\"textposition\":\"auto\",\"x\":[\"kidney\"],\"xaxis\":\"x3\",\"y\":[30],\"yaxis\":\"y3\",\"type\":\"bar\"},{\"alignmentgroup\":\"True\",\"hovertemplate\":\"subject_name=P084\\u003cbr\\u003especies_name=pig\\u003cbr\\u003elabel_name=%{x}\\u003cbr\\u003en_images=%{y}\\u003cextra\\u003e\\u003c\\u002fextra\\u003e\",\"legendgroup\":\"P084\",\"marker\":{\"color\":\"#44AA99\",\"pattern\":{\"shape\":\"\"}},\"name\":\"P084\",\"offsetgroup\":\"P084\",\"orientation\":\"v\",\"showlegend\":true,\"textposition\":\"auto\",\"x\":[\"kidney\"],\"xaxis\":\"x3\",\"y\":[26],\"yaxis\":\"y3\",\"type\":\"bar\"},{\"alignmentgroup\":\"True\",\"hovertemplate\":\"subject_name=P086\\u003cbr\\u003especies_name=pig\\u003cbr\\u003elabel_name=%{x}\\u003cbr\\u003en_images=%{y}\\u003cextra\\u003e\\u003c\\u002fextra\\u003e\",\"legendgroup\":\"P086\",\"marker\":{\"color\":\"#44AA99\",\"pattern\":{\"shape\":\"\"}},\"name\":\"P086\",\"offsetgroup\":\"P086\",\"orientation\":\"v\",\"showlegend\":true,\"textposition\":\"auto\",\"x\":[\"stomach\",\"small bowel\",\"colon\",\"liver\",\"pancreas\",\"kidney\",\"spleen\",\"lung\",\"skin\",\"peritoneum\"],\"xaxis\":\"x3\",\"y\":[36,36,36,36,36,36,36,36,36,36],\"yaxis\":\"y3\",\"type\":\"bar\"},{\"alignmentgroup\":\"True\",\"hovertemplate\":\"subject_name=P087\\u003cbr\\u003especies_name=pig\\u003cbr\\u003elabel_name=%{x}\\u003cbr\\u003en_images=%{y}\\u003cextra\\u003e\\u003c\\u002fextra\\u003e\",\"legendgroup\":\"P087\",\"marker\":{\"color\":\"#44AA99\",\"pattern\":{\"shape\":\"\"}},\"name\":\"P087\",\"offsetgroup\":\"P087\",\"orientation\":\"v\",\"showlegend\":true,\"textposition\":\"auto\",\"x\":[\"stomach\",\"small bowel\",\"colon\",\"liver\",\"kidney\",\"spleen\",\"omentum\",\"skin\"],\"xaxis\":\"x3\",\"y\":[36,36,36,36,36,36,36,36],\"yaxis\":\"y3\",\"type\":\"bar\"},{\"alignmentgroup\":\"True\",\"hovertemplate\":\"subject_name=P088\\u003cbr\\u003especies_name=pig\\u003cbr\\u003elabel_name=%{x}\\u003cbr\\u003en_images=%{y}\\u003cextra\\u003e\\u003c\\u002fextra\\u003e\",\"legendgroup\":\"P088\",\"marker\":{\"color\":\"#44AA99\",\"pattern\":{\"shape\":\"\"}},\"name\":\"P088\",\"offsetgroup\":\"P088\",\"orientation\":\"v\",\"showlegend\":true,\"textposition\":\"auto\",\"x\":[\"small bowel\",\"liver\",\"pancreas\",\"kidney\",\"spleen\",\"omentum\",\"lung\",\"skin\",\"peritoneum\"],\"xaxis\":\"x3\",\"y\":[36,36,36,36,36,36,36,36,36],\"yaxis\":\"y3\",\"type\":\"bar\"},{\"alignmentgroup\":\"True\",\"hovertemplate\":\"subject_name=P089\\u003cbr\\u003especies_name=pig\\u003cbr\\u003elabel_name=%{x}\\u003cbr\\u003en_images=%{y}\\u003cextra\\u003e\\u003c\\u002fextra\\u003e\",\"legendgroup\":\"P089\",\"marker\":{\"color\":\"#44AA99\",\"pattern\":{\"shape\":\"\"}},\"name\":\"P089\",\"offsetgroup\":\"P089\",\"orientation\":\"v\",\"showlegend\":true,\"textposition\":\"auto\",\"x\":[\"small bowel\",\"colon\",\"liver\",\"pancreas\",\"kidney\",\"spleen\",\"lung\",\"skin\"],\"xaxis\":\"x3\",\"y\":[36,36,36,36,36,36,36,36],\"yaxis\":\"y3\",\"type\":\"bar\"},{\"alignmentgroup\":\"True\",\"hovertemplate\":\"subject_name=P090\\u003cbr\\u003especies_name=pig\\u003cbr\\u003elabel_name=%{x}\\u003cbr\\u003en_images=%{y}\\u003cextra\\u003e\\u003c\\u002fextra\\u003e\",\"legendgroup\":\"P090\",\"marker\":{\"color\":\"#44AA99\",\"pattern\":{\"shape\":\"\"}},\"name\":\"P090\",\"offsetgroup\":\"P090\",\"orientation\":\"v\",\"showlegend\":true,\"textposition\":\"auto\",\"x\":[\"stomach\",\"small bowel\",\"pancreas\",\"kidney\",\"spleen\",\"omentum\",\"peritoneum\"],\"xaxis\":\"x3\",\"y\":[36,36,36,36,36,36,36],\"yaxis\":\"y3\",\"type\":\"bar\"},{\"alignmentgroup\":\"True\",\"hovertemplate\":\"subject_name=P091\\u003cbr\\u003especies_name=pig\\u003cbr\\u003elabel_name=%{x}\\u003cbr\\u003en_images=%{y}\\u003cextra\\u003e\\u003c\\u002fextra\\u003e\",\"legendgroup\":\"P091\",\"marker\":{\"color\":\"#44AA99\",\"pattern\":{\"shape\":\"\"}},\"name\":\"P091\",\"offsetgroup\":\"P091\",\"orientation\":\"v\",\"showlegend\":true,\"textposition\":\"auto\",\"x\":[\"kidney\",\"omentum\",\"lung\"],\"xaxis\":\"x3\",\"y\":[13,36,36],\"yaxis\":\"y3\",\"type\":\"bar\"},{\"alignmentgroup\":\"True\",\"hovertemplate\":\"subject_name=P092\\u003cbr\\u003especies_name=pig\\u003cbr\\u003elabel_name=%{x}\\u003cbr\\u003en_images=%{y}\\u003cextra\\u003e\\u003c\\u002fextra\\u003e\",\"legendgroup\":\"P092\",\"marker\":{\"color\":\"#44AA99\",\"pattern\":{\"shape\":\"\"}},\"name\":\"P092\",\"offsetgroup\":\"P092\",\"orientation\":\"v\",\"showlegend\":true,\"textposition\":\"auto\",\"x\":[\"stomach\",\"colon\",\"pancreas\",\"lung\",\"skin\",\"peritoneum\"],\"xaxis\":\"x3\",\"y\":[36,36,36,36,36,36],\"yaxis\":\"y3\",\"type\":\"bar\"},{\"alignmentgroup\":\"True\",\"hovertemplate\":\"subject_name=P093\\u003cbr\\u003especies_name=pig\\u003cbr\\u003elabel_name=%{x}\\u003cbr\\u003en_images=%{y}\\u003cextra\\u003e\\u003c\\u002fextra\\u003e\",\"legendgroup\":\"P093\",\"marker\":{\"color\":\"#44AA99\",\"pattern\":{\"shape\":\"\"}},\"name\":\"P093\",\"offsetgroup\":\"P093\",\"orientation\":\"v\",\"showlegend\":true,\"textposition\":\"auto\",\"x\":[\"stomach\",\"colon\",\"liver\",\"pancreas\",\"kidney\",\"spleen\",\"omentum\",\"lung\",\"skin\",\"peritoneum\"],\"xaxis\":\"x3\",\"y\":[36,36,36,36,36,36,36,36,36,36],\"yaxis\":\"y3\",\"type\":\"bar\"},{\"alignmentgroup\":\"True\",\"hovertemplate\":\"subject_name=P094\\u003cbr\\u003especies_name=pig\\u003cbr\\u003elabel_name=%{x}\\u003cbr\\u003en_images=%{y}\\u003cextra\\u003e\\u003c\\u002fextra\\u003e\",\"legendgroup\":\"P094\",\"marker\":{\"color\":\"#44AA99\",\"pattern\":{\"shape\":\"\"}},\"name\":\"P094\",\"offsetgroup\":\"P094\",\"orientation\":\"v\",\"showlegend\":true,\"textposition\":\"auto\",\"x\":[\"stomach\",\"small bowel\",\"colon\",\"liver\",\"pancreas\",\"kidney\",\"spleen\",\"omentum\",\"lung\",\"peritoneum\"],\"xaxis\":\"x3\",\"y\":[36,36,36,36,36,36,36,36,36,36],\"yaxis\":\"y3\",\"type\":\"bar\"},{\"alignmentgroup\":\"True\",\"hovertemplate\":\"subject_name=P095\\u003cbr\\u003especies_name=pig\\u003cbr\\u003elabel_name=%{x}\\u003cbr\\u003en_images=%{y}\\u003cextra\\u003e\\u003c\\u002fextra\\u003e\",\"legendgroup\":\"P095\",\"marker\":{\"color\":\"#44AA99\",\"pattern\":{\"shape\":\"\"}},\"name\":\"P095\",\"offsetgroup\":\"P095\",\"orientation\":\"v\",\"showlegend\":true,\"textposition\":\"auto\",\"x\":[\"stomach\",\"small bowel\",\"colon\",\"liver\",\"pancreas\",\"kidney\",\"spleen\",\"omentum\",\"lung\",\"skin\",\"peritoneum\"],\"xaxis\":\"x3\",\"y\":[36,36,36,36,36,61,36,36,36,36,36],\"yaxis\":\"y3\",\"type\":\"bar\"},{\"alignmentgroup\":\"True\",\"hovertemplate\":\"subject_name=P096\\u003cbr\\u003especies_name=pig\\u003cbr\\u003elabel_name=%{x}\\u003cbr\\u003en_images=%{y}\\u003cextra\\u003e\\u003c\\u002fextra\\u003e\",\"legendgroup\":\"P096\",\"marker\":{\"color\":\"#44AA99\",\"pattern\":{\"shape\":\"\"}},\"name\":\"P096\",\"offsetgroup\":\"P096\",\"orientation\":\"v\",\"showlegend\":true,\"textposition\":\"auto\",\"x\":[\"stomach\",\"small bowel\",\"colon\",\"liver\",\"kidney\",\"omentum\",\"skin\",\"peritoneum\"],\"xaxis\":\"x3\",\"y\":[36,36,36,36,99,36,36,36],\"yaxis\":\"y3\",\"type\":\"bar\"},{\"alignmentgroup\":\"True\",\"hovertemplate\":\"subject_name=P097\\u003cbr\\u003especies_name=pig\\u003cbr\\u003elabel_name=%{x}\\u003cbr\\u003en_images=%{y}\\u003cextra\\u003e\\u003c\\u002fextra\\u003e\",\"legendgroup\":\"P097\",\"marker\":{\"color\":\"#44AA99\",\"pattern\":{\"shape\":\"\"}},\"name\":\"P097\",\"offsetgroup\":\"P097\",\"orientation\":\"v\",\"showlegend\":true,\"textposition\":\"auto\",\"x\":[\"kidney\"],\"xaxis\":\"x3\",\"y\":[50],\"yaxis\":\"y3\",\"type\":\"bar\"},{\"alignmentgroup\":\"True\",\"hovertemplate\":\"subject_name=P098\\u003cbr\\u003especies_name=pig\\u003cbr\\u003elabel_name=%{x}\\u003cbr\\u003en_images=%{y}\\u003cextra\\u003e\\u003c\\u002fextra\\u003e\",\"legendgroup\":\"P098\",\"marker\":{\"color\":\"#44AA99\",\"pattern\":{\"shape\":\"\"}},\"name\":\"P098\",\"offsetgroup\":\"P098\",\"orientation\":\"v\",\"showlegend\":true,\"textposition\":\"auto\",\"x\":[\"kidney\"],\"xaxis\":\"x3\",\"y\":[55],\"yaxis\":\"y3\",\"type\":\"bar\"},{\"alignmentgroup\":\"True\",\"hovertemplate\":\"subject_name=P099\\u003cbr\\u003especies_name=pig\\u003cbr\\u003elabel_name=%{x}\\u003cbr\\u003en_images=%{y}\\u003cextra\\u003e\\u003c\\u002fextra\\u003e\",\"legendgroup\":\"P099\",\"marker\":{\"color\":\"#44AA99\",\"pattern\":{\"shape\":\"\"}},\"name\":\"P099\",\"offsetgroup\":\"P099\",\"orientation\":\"v\",\"showlegend\":true,\"textposition\":\"auto\",\"x\":[\"kidney\"],\"xaxis\":\"x3\",\"y\":[41],\"yaxis\":\"y3\",\"type\":\"bar\"},{\"alignmentgroup\":\"True\",\"hovertemplate\":\"subject_name=R002\\u003cbr\\u003especies_name=rat\\u003cbr\\u003elabel_name=%{x}\\u003cbr\\u003en_images=%{y}\\u003cextra\\u003e\\u003c\\u002fextra\\u003e\",\"legendgroup\":\"R002\",\"marker\":{\"color\":\"#89CCED\",\"pattern\":{\"shape\":\"\"}},\"name\":\"R002\",\"offsetgroup\":\"R002\",\"orientation\":\"v\",\"showlegend\":true,\"textposition\":\"auto\",\"x\":[\"stomach\",\"small bowel\",\"colon\",\"liver\",\"pancreas\",\"kidney\",\"spleen\",\"omentum\",\"lung\",\"skin\",\"peritoneum\",\"background\"],\"xaxis\":\"x2\",\"y\":[48,69,53,68,37,36,55,48,36,75,76,51],\"yaxis\":\"y2\",\"type\":\"bar\"},{\"alignmentgroup\":\"True\",\"hovertemplate\":\"subject_name=R003\\u003cbr\\u003especies_name=rat\\u003cbr\\u003elabel_name=%{x}\\u003cbr\\u003en_images=%{y}\\u003cextra\\u003e\\u003c\\u002fextra\\u003e\",\"legendgroup\":\"R003\",\"marker\":{\"color\":\"#89CCED\",\"pattern\":{\"shape\":\"\"}},\"name\":\"R003\",\"offsetgroup\":\"R003\",\"orientation\":\"v\",\"showlegend\":true,\"textposition\":\"auto\",\"x\":[\"stomach\",\"small bowel\",\"colon\",\"liver\",\"pancreas\",\"kidney\",\"spleen\",\"omentum\",\"lung\",\"skin\",\"peritoneum\",\"background\"],\"xaxis\":\"x2\",\"y\":[56,73,43,68,36,81,58,50,35,54,73,51],\"yaxis\":\"y2\",\"type\":\"bar\"},{\"alignmentgroup\":\"True\",\"hovertemplate\":\"subject_name=R014\\u003cbr\\u003especies_name=rat\\u003cbr\\u003elabel_name=%{x}\\u003cbr\\u003en_images=%{y}\\u003cextra\\u003e\\u003c\\u002fextra\\u003e\",\"legendgroup\":\"R014\",\"marker\":{\"color\":\"#89CCED\",\"pattern\":{\"shape\":\"\"}},\"name\":\"R014\",\"offsetgroup\":\"R014\",\"orientation\":\"v\",\"showlegend\":true,\"textposition\":\"auto\",\"x\":[\"stomach\",\"small bowel\",\"colon\",\"liver\",\"pancreas\",\"kidney\",\"spleen\",\"omentum\",\"lung\",\"skin\",\"peritoneum\",\"background\"],\"xaxis\":\"x2\",\"y\":[44,65,50,64,36,83,45,44,36,59,69,47],\"yaxis\":\"y2\",\"type\":\"bar\"},{\"alignmentgroup\":\"True\",\"hovertemplate\":\"subject_name=R015\\u003cbr\\u003especies_name=rat\\u003cbr\\u003elabel_name=%{x}\\u003cbr\\u003en_images=%{y}\\u003cextra\\u003e\\u003c\\u002fextra\\u003e\",\"legendgroup\":\"R015\",\"marker\":{\"color\":\"#89CCED\",\"pattern\":{\"shape\":\"\"}},\"name\":\"R015\",\"offsetgroup\":\"R015\",\"orientation\":\"v\",\"showlegend\":true,\"textposition\":\"auto\",\"x\":[\"stomach\",\"small bowel\",\"colon\",\"liver\",\"pancreas\",\"kidney\",\"spleen\",\"omentum\",\"lung\",\"skin\",\"peritoneum\",\"background\"],\"xaxis\":\"x2\",\"y\":[40,62,48,61,36,82,45,42,36,55,64,45],\"yaxis\":\"y2\",\"type\":\"bar\"},{\"alignmentgroup\":\"True\",\"hovertemplate\":\"subject_name=R016\\u003cbr\\u003especies_name=rat\\u003cbr\\u003elabel_name=%{x}\\u003cbr\\u003en_images=%{y}\\u003cextra\\u003e\\u003c\\u002fextra\\u003e\",\"legendgroup\":\"R016\",\"marker\":{\"color\":\"#89CCED\",\"pattern\":{\"shape\":\"\"}},\"name\":\"R016\",\"offsetgroup\":\"R016\",\"orientation\":\"v\",\"showlegend\":true,\"textposition\":\"auto\",\"x\":[\"stomach\",\"small bowel\",\"colon\",\"liver\",\"pancreas\",\"kidney\",\"spleen\",\"omentum\",\"lung\",\"skin\",\"peritoneum\",\"background\"],\"xaxis\":\"x2\",\"y\":[47,60,54,55,36,83,44,45,36,49,64,45],\"yaxis\":\"y2\",\"type\":\"bar\"},{\"alignmentgroup\":\"True\",\"hovertemplate\":\"subject_name=R017\\u003cbr\\u003especies_name=rat\\u003cbr\\u003elabel_name=%{x}\\u003cbr\\u003en_images=%{y}\\u003cextra\\u003e\\u003c\\u002fextra\\u003e\",\"legendgroup\":\"R017\",\"marker\":{\"color\":\"#89CCED\",\"pattern\":{\"shape\":\"\"}},\"name\":\"R017\",\"offsetgroup\":\"R017\",\"orientation\":\"v\",\"showlegend\":true,\"textposition\":\"auto\",\"x\":[\"stomach\",\"small bowel\",\"colon\",\"liver\",\"pancreas\",\"kidney\",\"spleen\",\"omentum\",\"lung\",\"skin\",\"peritoneum\",\"background\"],\"xaxis\":\"x2\",\"y\":[43,59,50,62,36,82,47,44,36,66,67,45],\"yaxis\":\"y2\",\"type\":\"bar\"},{\"alignmentgroup\":\"True\",\"hovertemplate\":\"subject_name=R018\\u003cbr\\u003especies_name=rat\\u003cbr\\u003elabel_name=%{x}\\u003cbr\\u003en_images=%{y}\\u003cextra\\u003e\\u003c\\u002fextra\\u003e\",\"legendgroup\":\"R018\",\"marker\":{\"color\":\"#89CCED\",\"pattern\":{\"shape\":\"\"}},\"name\":\"R018\",\"offsetgroup\":\"R018\",\"orientation\":\"v\",\"showlegend\":true,\"textposition\":\"auto\",\"x\":[\"stomach\",\"small bowel\",\"colon\",\"liver\",\"pancreas\",\"kidney\",\"spleen\",\"omentum\",\"lung\",\"skin\",\"peritoneum\",\"background\"],\"xaxis\":\"x2\",\"y\":[52,59,53,56,38,85,47,49,36,63,63,44],\"yaxis\":\"y2\",\"type\":\"bar\"},{\"alignmentgroup\":\"True\",\"hovertemplate\":\"subject_name=R019\\u003cbr\\u003especies_name=rat\\u003cbr\\u003elabel_name=%{x}\\u003cbr\\u003en_images=%{y}\\u003cextra\\u003e\\u003c\\u002fextra\\u003e\",\"legendgroup\":\"R019\",\"marker\":{\"color\":\"#89CCED\",\"pattern\":{\"shape\":\"\"}},\"name\":\"R019\",\"offsetgroup\":\"R019\",\"orientation\":\"v\",\"showlegend\":true,\"textposition\":\"auto\",\"x\":[\"stomach\",\"small bowel\",\"colon\",\"liver\",\"pancreas\",\"kidney\",\"spleen\",\"omentum\",\"lung\",\"skin\",\"peritoneum\",\"background\"],\"xaxis\":\"x2\",\"y\":[49,62,51,54,37,85,50,49,36,66,65,45],\"yaxis\":\"y2\",\"type\":\"bar\"},{\"alignmentgroup\":\"True\",\"hovertemplate\":\"subject_name=R020\\u003cbr\\u003especies_name=rat\\u003cbr\\u003elabel_name=%{x}\\u003cbr\\u003en_images=%{y}\\u003cextra\\u003e\\u003c\\u002fextra\\u003e\",\"legendgroup\":\"R020\",\"marker\":{\"color\":\"#89CCED\",\"pattern\":{\"shape\":\"\"}},\"name\":\"R020\",\"offsetgroup\":\"R020\",\"orientation\":\"v\",\"showlegend\":true,\"textposition\":\"auto\",\"x\":[\"stomach\",\"small bowel\",\"colon\",\"liver\",\"pancreas\",\"kidney\",\"spleen\",\"omentum\",\"lung\",\"skin\",\"peritoneum\",\"background\"],\"xaxis\":\"x2\",\"y\":[47,60,40,54,38,87,45,45,36,68,64,45],\"yaxis\":\"y2\",\"type\":\"bar\"},{\"alignmentgroup\":\"True\",\"hovertemplate\":\"subject_name=R021\\u003cbr\\u003especies_name=rat\\u003cbr\\u003elabel_name=%{x}\\u003cbr\\u003en_images=%{y}\\u003cextra\\u003e\\u003c\\u002fextra\\u003e\",\"legendgroup\":\"R021\",\"marker\":{\"color\":\"#89CCED\",\"pattern\":{\"shape\":\"\"}},\"name\":\"R021\",\"offsetgroup\":\"R021\",\"orientation\":\"v\",\"showlegend\":true,\"textposition\":\"auto\",\"x\":[\"stomach\",\"small bowel\",\"colon\",\"liver\",\"pancreas\",\"kidney\",\"spleen\",\"omentum\",\"lung\",\"skin\",\"peritoneum\",\"background\"],\"xaxis\":\"x2\",\"y\":[39,55,43,52,37,87,38,38,36,68,64,44],\"yaxis\":\"y2\",\"type\":\"bar\"},{\"alignmentgroup\":\"True\",\"hovertemplate\":\"subject_name=R022\\u003cbr\\u003especies_name=rat\\u003cbr\\u003elabel_name=%{x}\\u003cbr\\u003en_images=%{y}\\u003cextra\\u003e\\u003c\\u002fextra\\u003e\",\"legendgroup\":\"R022\",\"marker\":{\"color\":\"#89CCED\",\"pattern\":{\"shape\":\"\"}},\"name\":\"R022\",\"offsetgroup\":\"R022\",\"orientation\":\"v\",\"showlegend\":true,\"textposition\":\"auto\",\"x\":[\"stomach\",\"small bowel\",\"colon\",\"liver\",\"pancreas\",\"kidney\",\"spleen\",\"omentum\",\"lung\",\"skin\",\"peritoneum\",\"background\"],\"xaxis\":\"x2\",\"y\":[50,59,44,52,40,86,47,46,36,63,63,45],\"yaxis\":\"y2\",\"type\":\"bar\"},{\"alignmentgroup\":\"True\",\"hovertemplate\":\"subject_name=R023\\u003cbr\\u003especies_name=rat\\u003cbr\\u003elabel_name=%{x}\\u003cbr\\u003en_images=%{y}\\u003cextra\\u003e\\u003c\\u002fextra\\u003e\",\"legendgroup\":\"R023\",\"marker\":{\"color\":\"#89CCED\",\"pattern\":{\"shape\":\"\"}},\"name\":\"R023\",\"offsetgroup\":\"R023\",\"orientation\":\"v\",\"showlegend\":true,\"textposition\":\"auto\",\"x\":[\"stomach\",\"small bowel\",\"colon\",\"liver\",\"pancreas\",\"kidney\",\"spleen\",\"omentum\",\"lung\",\"skin\",\"peritoneum\",\"background\"],\"xaxis\":\"x2\",\"y\":[44,60,50,51,37,82,40,44,36,74,63,45],\"yaxis\":\"y2\",\"type\":\"bar\"},{\"alignmentgroup\":\"True\",\"hovertemplate\":\"subject_name=R024\\u003cbr\\u003especies_name=rat\\u003cbr\\u003elabel_name=%{x}\\u003cbr\\u003en_images=%{y}\\u003cextra\\u003e\\u003c\\u002fextra\\u003e\",\"legendgroup\":\"R024\",\"marker\":{\"color\":\"#89CCED\",\"pattern\":{\"shape\":\"\"}},\"name\":\"R024\",\"offsetgroup\":\"R024\",\"orientation\":\"v\",\"showlegend\":true,\"textposition\":\"auto\",\"x\":[\"stomach\",\"small bowel\",\"colon\",\"liver\",\"pancreas\",\"kidney\",\"spleen\",\"omentum\",\"lung\",\"skin\",\"peritoneum\",\"background\"],\"xaxis\":\"x2\",\"y\":[49,59,43,61,36,85,42,48,36,73,65,45],\"yaxis\":\"y2\",\"type\":\"bar\"},{\"alignmentgroup\":\"True\",\"hovertemplate\":\"subject_name=R025\\u003cbr\\u003especies_name=rat\\u003cbr\\u003elabel_name=%{x}\\u003cbr\\u003en_images=%{y}\\u003cextra\\u003e\\u003c\\u002fextra\\u003e\",\"legendgroup\":\"R025\",\"marker\":{\"color\":\"#89CCED\",\"pattern\":{\"shape\":\"\"}},\"name\":\"R025\",\"offsetgroup\":\"R025\",\"orientation\":\"v\",\"showlegend\":true,\"textposition\":\"auto\",\"x\":[\"kidney\"],\"xaxis\":\"x2\",\"y\":[98],\"yaxis\":\"y2\",\"type\":\"bar\"},{\"alignmentgroup\":\"True\",\"hovertemplate\":\"subject_name=R027\\u003cbr\\u003especies_name=rat\\u003cbr\\u003elabel_name=%{x}\\u003cbr\\u003en_images=%{y}\\u003cextra\\u003e\\u003c\\u002fextra\\u003e\",\"legendgroup\":\"R027\",\"marker\":{\"color\":\"#89CCED\",\"pattern\":{\"shape\":\"\"}},\"name\":\"R027\",\"offsetgroup\":\"R027\",\"orientation\":\"v\",\"showlegend\":true,\"textposition\":\"auto\",\"x\":[\"kidney\"],\"xaxis\":\"x2\",\"y\":[56],\"yaxis\":\"y2\",\"type\":\"bar\"},{\"alignmentgroup\":\"True\",\"hovertemplate\":\"subject_name=R028\\u003cbr\\u003especies_name=rat\\u003cbr\\u003elabel_name=%{x}\\u003cbr\\u003en_images=%{y}\\u003cextra\\u003e\\u003c\\u002fextra\\u003e\",\"legendgroup\":\"R028\",\"marker\":{\"color\":\"#89CCED\",\"pattern\":{\"shape\":\"\"}},\"name\":\"R028\",\"offsetgroup\":\"R028\",\"orientation\":\"v\",\"showlegend\":true,\"textposition\":\"auto\",\"x\":[\"kidney\"],\"xaxis\":\"x2\",\"y\":[89],\"yaxis\":\"y2\",\"type\":\"bar\"},{\"alignmentgroup\":\"True\",\"hovertemplate\":\"subject_name=R029\\u003cbr\\u003especies_name=rat\\u003cbr\\u003elabel_name=%{x}\\u003cbr\\u003en_images=%{y}\\u003cextra\\u003e\\u003c\\u002fextra\\u003e\",\"legendgroup\":\"R029\",\"marker\":{\"color\":\"#89CCED\",\"pattern\":{\"shape\":\"\"}},\"name\":\"R029\",\"offsetgroup\":\"R029\",\"orientation\":\"v\",\"showlegend\":true,\"textposition\":\"auto\",\"x\":[\"kidney\"],\"xaxis\":\"x2\",\"y\":[89],\"yaxis\":\"y2\",\"type\":\"bar\"},{\"alignmentgroup\":\"True\",\"hovertemplate\":\"subject_name=R030\\u003cbr\\u003especies_name=rat\\u003cbr\\u003elabel_name=%{x}\\u003cbr\\u003en_images=%{y}\\u003cextra\\u003e\\u003c\\u002fextra\\u003e\",\"legendgroup\":\"R030\",\"marker\":{\"color\":\"#89CCED\",\"pattern\":{\"shape\":\"\"}},\"name\":\"R030\",\"offsetgroup\":\"R030\",\"orientation\":\"v\",\"showlegend\":true,\"textposition\":\"auto\",\"x\":[\"kidney\"],\"xaxis\":\"x2\",\"y\":[89],\"yaxis\":\"y2\",\"type\":\"bar\"},{\"alignmentgroup\":\"True\",\"hovertemplate\":\"subject_name=R031\\u003cbr\\u003especies_name=rat\\u003cbr\\u003elabel_name=%{x}\\u003cbr\\u003en_images=%{y}\\u003cextra\\u003e\\u003c\\u002fextra\\u003e\",\"legendgroup\":\"R031\",\"marker\":{\"color\":\"#89CCED\",\"pattern\":{\"shape\":\"\"}},\"name\":\"R031\",\"offsetgroup\":\"R031\",\"orientation\":\"v\",\"showlegend\":true,\"textposition\":\"auto\",\"x\":[\"kidney\"],\"xaxis\":\"x2\",\"y\":[89],\"yaxis\":\"y2\",\"type\":\"bar\"},{\"alignmentgroup\":\"True\",\"hovertemplate\":\"subject_name=R032\\u003cbr\\u003especies_name=rat\\u003cbr\\u003elabel_name=%{x}\\u003cbr\\u003en_images=%{y}\\u003cextra\\u003e\\u003c\\u002fextra\\u003e\",\"legendgroup\":\"R032\",\"marker\":{\"color\":\"#89CCED\",\"pattern\":{\"shape\":\"\"}},\"name\":\"R032\",\"offsetgroup\":\"R032\",\"orientation\":\"v\",\"showlegend\":true,\"textposition\":\"auto\",\"x\":[\"kidney\"],\"xaxis\":\"x2\",\"y\":[89],\"yaxis\":\"y2\",\"type\":\"bar\"},{\"alignmentgroup\":\"True\",\"hovertemplate\":\"subject_name=R033\\u003cbr\\u003especies_name=rat\\u003cbr\\u003elabel_name=%{x}\\u003cbr\\u003en_images=%{y}\\u003cextra\\u003e\\u003c\\u002fextra\\u003e\",\"legendgroup\":\"R033\",\"marker\":{\"color\":\"#89CCED\",\"pattern\":{\"shape\":\"\"}},\"name\":\"R033\",\"offsetgroup\":\"R033\",\"orientation\":\"v\",\"showlegend\":true,\"textposition\":\"auto\",\"x\":[\"kidney\"],\"xaxis\":\"x2\",\"y\":[180],\"yaxis\":\"y2\",\"type\":\"bar\"},{\"alignmentgroup\":\"True\",\"hovertemplate\":\"subject_name=R034\\u003cbr\\u003especies_name=rat\\u003cbr\\u003elabel_name=%{x}\\u003cbr\\u003en_images=%{y}\\u003cextra\\u003e\\u003c\\u002fextra\\u003e\",\"legendgroup\":\"R034\",\"marker\":{\"color\":\"#89CCED\",\"pattern\":{\"shape\":\"\"}},\"name\":\"R034\",\"offsetgroup\":\"R034\",\"orientation\":\"v\",\"showlegend\":true,\"textposition\":\"auto\",\"x\":[\"kidney\"],\"xaxis\":\"x2\",\"y\":[89],\"yaxis\":\"y2\",\"type\":\"bar\"},{\"alignmentgroup\":\"True\",\"hovertemplate\":\"subject_name=R035\\u003cbr\\u003especies_name=rat\\u003cbr\\u003elabel_name=%{x}\\u003cbr\\u003en_images=%{y}\\u003cextra\\u003e\\u003c\\u002fextra\\u003e\",\"legendgroup\":\"R035\",\"marker\":{\"color\":\"#89CCED\",\"pattern\":{\"shape\":\"\"}},\"name\":\"R035\",\"offsetgroup\":\"R035\",\"orientation\":\"v\",\"showlegend\":true,\"textposition\":\"auto\",\"x\":[\"kidney\"],\"xaxis\":\"x2\",\"y\":[91],\"yaxis\":\"y2\",\"type\":\"bar\"},{\"alignmentgroup\":\"True\",\"hovertemplate\":\"subject_name=R036\\u003cbr\\u003especies_name=rat\\u003cbr\\u003elabel_name=%{x}\\u003cbr\\u003en_images=%{y}\\u003cextra\\u003e\\u003c\\u002fextra\\u003e\",\"legendgroup\":\"R036\",\"marker\":{\"color\":\"#89CCED\",\"pattern\":{\"shape\":\"\"}},\"name\":\"R036\",\"offsetgroup\":\"R036\",\"orientation\":\"v\",\"showlegend\":true,\"textposition\":\"auto\",\"x\":[\"kidney\"],\"xaxis\":\"x2\",\"y\":[89],\"yaxis\":\"y2\",\"type\":\"bar\"},{\"alignmentgroup\":\"True\",\"hovertemplate\":\"subject_name=SPACE_000001\\u003cbr\\u003especies_name=human\\u003cbr\\u003elabel_name=%{x}\\u003cbr\\u003en_images=%{y}\\u003cextra\\u003e\\u003c\\u002fextra\\u003e\",\"legendgroup\":\"SPACE_000001\",\"marker\":{\"color\":\"#DDCB76\",\"pattern\":{\"shape\":\"\"}},\"name\":\"SPACE_000001\",\"offsetgroup\":\"SPACE_000001\",\"orientation\":\"v\",\"showlegend\":true,\"textposition\":\"auto\",\"x\":[\"stomach\",\"small bowel\",\"colon\",\"liver\",\"omentum\",\"skin\",\"background\"],\"xaxis\":\"x\",\"y\":[6,1,1,6,7,6,7],\"yaxis\":\"y\",\"type\":\"bar\"},{\"alignmentgroup\":\"True\",\"hovertemplate\":\"subject_name=SPACE_000002\\u003cbr\\u003especies_name=human\\u003cbr\\u003elabel_name=%{x}\\u003cbr\\u003en_images=%{y}\\u003cextra\\u003e\\u003c\\u002fextra\\u003e\",\"legendgroup\":\"SPACE_000002\",\"marker\":{\"color\":\"#DDCB76\",\"pattern\":{\"shape\":\"\"}},\"name\":\"SPACE_000002\",\"offsetgroup\":\"SPACE_000002\",\"orientation\":\"v\",\"showlegend\":true,\"textposition\":\"auto\",\"x\":[\"stomach\",\"colon\",\"liver\",\"omentum\",\"skin\",\"background\"],\"xaxis\":\"x\",\"y\":[1,1,2,2,1,2],\"yaxis\":\"y\",\"type\":\"bar\"},{\"alignmentgroup\":\"True\",\"hovertemplate\":\"subject_name=SPACE_000003\\u003cbr\\u003especies_name=human\\u003cbr\\u003elabel_name=%{x}\\u003cbr\\u003en_images=%{y}\\u003cextra\\u003e\\u003c\\u002fextra\\u003e\",\"legendgroup\":\"SPACE_000003\",\"marker\":{\"color\":\"#DDCB76\",\"pattern\":{\"shape\":\"\"}},\"name\":\"SPACE_000003\",\"offsetgroup\":\"SPACE_000003\",\"orientation\":\"v\",\"showlegend\":true,\"textposition\":\"auto\",\"x\":[\"small bowel\",\"colon\",\"liver\",\"spleen\",\"background\"],\"xaxis\":\"x\",\"y\":[1,1,2,1,2],\"yaxis\":\"y\",\"type\":\"bar\"},{\"alignmentgroup\":\"True\",\"hovertemplate\":\"subject_name=SPACE_000004\\u003cbr\\u003especies_name=human\\u003cbr\\u003elabel_name=%{x}\\u003cbr\\u003en_images=%{y}\\u003cextra\\u003e\\u003c\\u002fextra\\u003e\",\"legendgroup\":\"SPACE_000004\",\"marker\":{\"color\":\"#DDCB76\",\"pattern\":{\"shape\":\"\"}},\"name\":\"SPACE_000004\",\"offsetgroup\":\"SPACE_000004\",\"orientation\":\"v\",\"showlegend\":true,\"textposition\":\"auto\",\"x\":[\"stomach\",\"colon\",\"liver\",\"omentum\",\"background\"],\"xaxis\":\"x\",\"y\":[1,1,1,2,2],\"yaxis\":\"y\",\"type\":\"bar\"},{\"alignmentgroup\":\"True\",\"hovertemplate\":\"subject_name=SPACE_000005\\u003cbr\\u003especies_name=human\\u003cbr\\u003elabel_name=%{x}\\u003cbr\\u003en_images=%{y}\\u003cextra\\u003e\\u003c\\u002fextra\\u003e\",\"legendgroup\":\"SPACE_000005\",\"marker\":{\"color\":\"#DDCB76\",\"pattern\":{\"shape\":\"\"}},\"name\":\"SPACE_000005\",\"offsetgroup\":\"SPACE_000005\",\"orientation\":\"v\",\"showlegend\":true,\"textposition\":\"auto\",\"x\":[\"kidney\"],\"xaxis\":\"x\",\"y\":[1],\"yaxis\":\"y\",\"type\":\"bar\"},{\"alignmentgroup\":\"True\",\"hovertemplate\":\"subject_name=SPACE_000006\\u003cbr\\u003especies_name=human\\u003cbr\\u003elabel_name=%{x}\\u003cbr\\u003en_images=%{y}\\u003cextra\\u003e\\u003c\\u002fextra\\u003e\",\"legendgroup\":\"SPACE_000006\",\"marker\":{\"color\":\"#DDCB76\",\"pattern\":{\"shape\":\"\"}},\"name\":\"SPACE_000006\",\"offsetgroup\":\"SPACE_000006\",\"orientation\":\"v\",\"showlegend\":true,\"textposition\":\"auto\",\"x\":[\"stomach\",\"small bowel\",\"liver\",\"spleen\",\"omentum\",\"peritoneum\",\"background\"],\"xaxis\":\"x\",\"y\":[5,2,5,5,5,1,5],\"yaxis\":\"y\",\"type\":\"bar\"},{\"alignmentgroup\":\"True\",\"hovertemplate\":\"subject_name=SPACE_000008\\u003cbr\\u003especies_name=human\\u003cbr\\u003elabel_name=%{x}\\u003cbr\\u003en_images=%{y}\\u003cextra\\u003e\\u003c\\u002fextra\\u003e\",\"legendgroup\":\"SPACE_000008\",\"marker\":{\"color\":\"#DDCB76\",\"pattern\":{\"shape\":\"\"}},\"name\":\"SPACE_000008\",\"offsetgroup\":\"SPACE_000008\",\"orientation\":\"v\",\"showlegend\":true,\"textposition\":\"auto\",\"x\":[\"stomach\",\"small bowel\",\"liver\",\"omentum\",\"background\"],\"xaxis\":\"x\",\"y\":[2,2,2,2,2],\"yaxis\":\"y\",\"type\":\"bar\"},{\"alignmentgroup\":\"True\",\"hovertemplate\":\"subject_name=SPACE_000009\\u003cbr\\u003especies_name=human\\u003cbr\\u003elabel_name=%{x}\\u003cbr\\u003en_images=%{y}\\u003cextra\\u003e\\u003c\\u002fextra\\u003e\",\"legendgroup\":\"SPACE_000009\",\"marker\":{\"color\":\"#DDCB76\",\"pattern\":{\"shape\":\"\"}},\"name\":\"SPACE_000009\",\"offsetgroup\":\"SPACE_000009\",\"orientation\":\"v\",\"showlegend\":true,\"textposition\":\"auto\",\"x\":[\"stomach\",\"small bowel\",\"liver\",\"omentum\",\"skin\",\"background\"],\"xaxis\":\"x\",\"y\":[1,2,2,2,2,2],\"yaxis\":\"y\",\"type\":\"bar\"},{\"alignmentgroup\":\"True\",\"hovertemplate\":\"subject_name=SPACE_000010\\u003cbr\\u003especies_name=human\\u003cbr\\u003elabel_name=%{x}\\u003cbr\\u003en_images=%{y}\\u003cextra\\u003e\\u003c\\u002fextra\\u003e\",\"legendgroup\":\"SPACE_000010\",\"marker\":{\"color\":\"#DDCB76\",\"pattern\":{\"shape\":\"\"}},\"name\":\"SPACE_000010\",\"offsetgroup\":\"SPACE_000010\",\"orientation\":\"v\",\"showlegend\":true,\"textposition\":\"auto\",\"x\":[\"small bowel\",\"colon\",\"skin\",\"background\"],\"xaxis\":\"x\",\"y\":[2,1,2,2],\"yaxis\":\"y\",\"type\":\"bar\"},{\"alignmentgroup\":\"True\",\"hovertemplate\":\"subject_name=SPACE_000011\\u003cbr\\u003especies_name=human\\u003cbr\\u003elabel_name=%{x}\\u003cbr\\u003en_images=%{y}\\u003cextra\\u003e\\u003c\\u002fextra\\u003e\",\"legendgroup\":\"SPACE_000011\",\"marker\":{\"color\":\"#DDCB76\",\"pattern\":{\"shape\":\"\"}},\"name\":\"SPACE_000011\",\"offsetgroup\":\"SPACE_000011\",\"orientation\":\"v\",\"showlegend\":true,\"textposition\":\"auto\",\"x\":[\"stomach\",\"small bowel\",\"colon\",\"liver\",\"omentum\",\"skin\",\"background\"],\"xaxis\":\"x\",\"y\":[11,12,2,10,9,7,12],\"yaxis\":\"y\",\"type\":\"bar\"},{\"alignmentgroup\":\"True\",\"hovertemplate\":\"subject_name=SPACE_000012\\u003cbr\\u003especies_name=human\\u003cbr\\u003elabel_name=%{x}\\u003cbr\\u003en_images=%{y}\\u003cextra\\u003e\\u003c\\u002fextra\\u003e\",\"legendgroup\":\"SPACE_000012\",\"marker\":{\"color\":\"#DDCB76\",\"pattern\":{\"shape\":\"\"}},\"name\":\"SPACE_000012\",\"offsetgroup\":\"SPACE_000012\",\"orientation\":\"v\",\"showlegend\":true,\"textposition\":\"auto\",\"x\":[\"stomach\",\"small bowel\",\"colon\",\"liver\",\"pancreas\",\"omentum\",\"skin\",\"peritoneum\",\"background\"],\"xaxis\":\"x\",\"y\":[1,9,9,10,2,8,2,8,11],\"yaxis\":\"y\",\"type\":\"bar\"},{\"alignmentgroup\":\"True\",\"hovertemplate\":\"subject_name=SPACE_000013\\u003cbr\\u003especies_name=human\\u003cbr\\u003elabel_name=%{x}\\u003cbr\\u003en_images=%{y}\\u003cextra\\u003e\\u003c\\u002fextra\\u003e\",\"legendgroup\":\"SPACE_000013\",\"marker\":{\"color\":\"#DDCB76\",\"pattern\":{\"shape\":\"\"}},\"name\":\"SPACE_000013\",\"offsetgroup\":\"SPACE_000013\",\"orientation\":\"v\",\"showlegend\":true,\"textposition\":\"auto\",\"x\":[\"stomach\",\"small bowel\",\"omentum\",\"background\"],\"xaxis\":\"x\",\"y\":[2,2,2,2],\"yaxis\":\"y\",\"type\":\"bar\"},{\"alignmentgroup\":\"True\",\"hovertemplate\":\"subject_name=SPACE_000014\\u003cbr\\u003especies_name=human\\u003cbr\\u003elabel_name=%{x}\\u003cbr\\u003en_images=%{y}\\u003cextra\\u003e\\u003c\\u002fextra\\u003e\",\"legendgroup\":\"SPACE_000014\",\"marker\":{\"color\":\"#DDCB76\",\"pattern\":{\"shape\":\"\"}},\"name\":\"SPACE_000014\",\"offsetgroup\":\"SPACE_000014\",\"orientation\":\"v\",\"showlegend\":true,\"textposition\":\"auto\",\"x\":[\"stomach\",\"small bowel\",\"colon\",\"liver\",\"pancreas\",\"spleen\",\"omentum\",\"peritoneum\",\"background\"],\"xaxis\":\"x\",\"y\":[5,3,1,1,2,3,4,1,6],\"yaxis\":\"y\",\"type\":\"bar\"},{\"alignmentgroup\":\"True\",\"hovertemplate\":\"subject_name=SPACE_000015\\u003cbr\\u003especies_name=human\\u003cbr\\u003elabel_name=%{x}\\u003cbr\\u003en_images=%{y}\\u003cextra\\u003e\\u003c\\u002fextra\\u003e\",\"legendgroup\":\"SPACE_000015\",\"marker\":{\"color\":\"#DDCB76\",\"pattern\":{\"shape\":\"\"}},\"name\":\"SPACE_000015\",\"offsetgroup\":\"SPACE_000015\",\"orientation\":\"v\",\"showlegend\":true,\"textposition\":\"auto\",\"x\":[\"colon\",\"liver\",\"omentum\",\"skin\",\"background\"],\"xaxis\":\"x\",\"y\":[1,2,2,2,2],\"yaxis\":\"y\",\"type\":\"bar\"},{\"alignmentgroup\":\"True\",\"hovertemplate\":\"subject_name=SPACE_000016\\u003cbr\\u003especies_name=human\\u003cbr\\u003elabel_name=%{x}\\u003cbr\\u003en_images=%{y}\\u003cextra\\u003e\\u003c\\u002fextra\\u003e\",\"legendgroup\":\"SPACE_000016\",\"marker\":{\"color\":\"#DDCB76\",\"pattern\":{\"shape\":\"\"}},\"name\":\"SPACE_000016\",\"offsetgroup\":\"SPACE_000016\",\"orientation\":\"v\",\"showlegend\":true,\"textposition\":\"auto\",\"x\":[\"small bowel\",\"skin\",\"background\"],\"xaxis\":\"x\",\"y\":[2,2,2],\"yaxis\":\"y\",\"type\":\"bar\"},{\"alignmentgroup\":\"True\",\"hovertemplate\":\"subject_name=SPACE_000017\\u003cbr\\u003especies_name=human\\u003cbr\\u003elabel_name=%{x}\\u003cbr\\u003en_images=%{y}\\u003cextra\\u003e\\u003c\\u002fextra\\u003e\",\"legendgroup\":\"SPACE_000017\",\"marker\":{\"color\":\"#DDCB76\",\"pattern\":{\"shape\":\"\"}},\"name\":\"SPACE_000017\",\"offsetgroup\":\"SPACE_000017\",\"orientation\":\"v\",\"showlegend\":true,\"textposition\":\"auto\",\"x\":[\"stomach\",\"small bowel\",\"colon\",\"liver\",\"omentum\",\"lung\",\"skin\",\"background\"],\"xaxis\":\"x\",\"y\":[1,2,2,2,1,4,5,5],\"yaxis\":\"y\",\"type\":\"bar\"},{\"alignmentgroup\":\"True\",\"hovertemplate\":\"subject_name=SPACE_000018\\u003cbr\\u003especies_name=human\\u003cbr\\u003elabel_name=%{x}\\u003cbr\\u003en_images=%{y}\\u003cextra\\u003e\\u003c\\u002fextra\\u003e\",\"legendgroup\":\"SPACE_000018\",\"marker\":{\"color\":\"#DDCB76\",\"pattern\":{\"shape\":\"\"}},\"name\":\"SPACE_000018\",\"offsetgroup\":\"SPACE_000018\",\"orientation\":\"v\",\"showlegend\":true,\"textposition\":\"auto\",\"x\":[\"colon\",\"liver\",\"omentum\",\"skin\",\"background\"],\"xaxis\":\"x\",\"y\":[1,2,2,1,2],\"yaxis\":\"y\",\"type\":\"bar\"},{\"alignmentgroup\":\"True\",\"hovertemplate\":\"subject_name=SPACE_000019\\u003cbr\\u003especies_name=human\\u003cbr\\u003elabel_name=%{x}\\u003cbr\\u003en_images=%{y}\\u003cextra\\u003e\\u003c\\u002fextra\\u003e\",\"legendgroup\":\"SPACE_000019\",\"marker\":{\"color\":\"#DDCB76\",\"pattern\":{\"shape\":\"\"}},\"name\":\"SPACE_000019\",\"offsetgroup\":\"SPACE_000019\",\"orientation\":\"v\",\"showlegend\":true,\"textposition\":\"auto\",\"x\":[\"stomach\",\"small bowel\",\"liver\",\"spleen\",\"omentum\",\"background\"],\"xaxis\":\"x\",\"y\":[4,11,11,3,9,11],\"yaxis\":\"y\",\"type\":\"bar\"},{\"alignmentgroup\":\"True\",\"hovertemplate\":\"subject_name=SPACE_000020\\u003cbr\\u003especies_name=human\\u003cbr\\u003elabel_name=%{x}\\u003cbr\\u003en_images=%{y}\\u003cextra\\u003e\\u003c\\u002fextra\\u003e\",\"legendgroup\":\"SPACE_000020\",\"marker\":{\"color\":\"#DDCB76\",\"pattern\":{\"shape\":\"\"}},\"name\":\"SPACE_000020\",\"offsetgroup\":\"SPACE_000020\",\"orientation\":\"v\",\"showlegend\":true,\"textposition\":\"auto\",\"x\":[\"kidney\",\"skin\",\"background\"],\"xaxis\":\"x\",\"y\":[1,2,2],\"yaxis\":\"y\",\"type\":\"bar\"},{\"alignmentgroup\":\"True\",\"hovertemplate\":\"subject_name=SPACE_000021\\u003cbr\\u003especies_name=human\\u003cbr\\u003elabel_name=%{x}\\u003cbr\\u003en_images=%{y}\\u003cextra\\u003e\\u003c\\u002fextra\\u003e\",\"legendgroup\":\"SPACE_000021\",\"marker\":{\"color\":\"#DDCB76\",\"pattern\":{\"shape\":\"\"}},\"name\":\"SPACE_000021\",\"offsetgroup\":\"SPACE_000021\",\"orientation\":\"v\",\"showlegend\":true,\"textposition\":\"auto\",\"x\":[\"stomach\",\"small bowel\",\"colon\",\"liver\",\"omentum\",\"background\"],\"xaxis\":\"x\",\"y\":[1,2,2,2,2,2],\"yaxis\":\"y\",\"type\":\"bar\"},{\"alignmentgroup\":\"True\",\"hovertemplate\":\"subject_name=SPACE_000022\\u003cbr\\u003especies_name=human\\u003cbr\\u003elabel_name=%{x}\\u003cbr\\u003en_images=%{y}\\u003cextra\\u003e\\u003c\\u002fextra\\u003e\",\"legendgroup\":\"SPACE_000022\",\"marker\":{\"color\":\"#DDCB76\",\"pattern\":{\"shape\":\"\"}},\"name\":\"SPACE_000022\",\"offsetgroup\":\"SPACE_000022\",\"orientation\":\"v\",\"showlegend\":true,\"textposition\":\"auto\",\"x\":[\"stomach\",\"small bowel\",\"liver\",\"omentum\",\"background\"],\"xaxis\":\"x\",\"y\":[1,1,1,2,2],\"yaxis\":\"y\",\"type\":\"bar\"},{\"alignmentgroup\":\"True\",\"hovertemplate\":\"subject_name=SPACE_000023\\u003cbr\\u003especies_name=human\\u003cbr\\u003elabel_name=%{x}\\u003cbr\\u003en_images=%{y}\\u003cextra\\u003e\\u003c\\u002fextra\\u003e\",\"legendgroup\":\"SPACE_000023\",\"marker\":{\"color\":\"#DDCB76\",\"pattern\":{\"shape\":\"\"}},\"name\":\"SPACE_000023\",\"offsetgroup\":\"SPACE_000023\",\"orientation\":\"v\",\"showlegend\":true,\"textposition\":\"auto\",\"x\":[\"stomach\",\"colon\",\"liver\",\"omentum\",\"peritoneum\",\"background\"],\"xaxis\":\"x\",\"y\":[2,1,2,2,1,2],\"yaxis\":\"y\",\"type\":\"bar\"},{\"alignmentgroup\":\"True\",\"hovertemplate\":\"subject_name=SPACE_000024\\u003cbr\\u003especies_name=human\\u003cbr\\u003elabel_name=%{x}\\u003cbr\\u003en_images=%{y}\\u003cextra\\u003e\\u003c\\u002fextra\\u003e\",\"legendgroup\":\"SPACE_000024\",\"marker\":{\"color\":\"#DDCB76\",\"pattern\":{\"shape\":\"\"}},\"name\":\"SPACE_000024\",\"offsetgroup\":\"SPACE_000024\",\"orientation\":\"v\",\"showlegend\":true,\"textposition\":\"auto\",\"x\":[\"colon\",\"liver\",\"spleen\",\"omentum\",\"background\"],\"xaxis\":\"x\",\"y\":[1,2,1,2,2],\"yaxis\":\"y\",\"type\":\"bar\"},{\"alignmentgroup\":\"True\",\"hovertemplate\":\"subject_name=SPACE_000025\\u003cbr\\u003especies_name=human\\u003cbr\\u003elabel_name=%{x}\\u003cbr\\u003en_images=%{y}\\u003cextra\\u003e\\u003c\\u002fextra\\u003e\",\"legendgroup\":\"SPACE_000025\",\"marker\":{\"color\":\"#DDCB76\",\"pattern\":{\"shape\":\"\"}},\"name\":\"SPACE_000025\",\"offsetgroup\":\"SPACE_000025\",\"orientation\":\"v\",\"showlegend\":true,\"textposition\":\"auto\",\"x\":[\"stomach\",\"small bowel\",\"colon\",\"liver\",\"omentum\",\"background\"],\"xaxis\":\"x\",\"y\":[2,2,2,2,2,2],\"yaxis\":\"y\",\"type\":\"bar\"},{\"alignmentgroup\":\"True\",\"hovertemplate\":\"subject_name=SPACE_000026\\u003cbr\\u003especies_name=human\\u003cbr\\u003elabel_name=%{x}\\u003cbr\\u003en_images=%{y}\\u003cextra\\u003e\\u003c\\u002fextra\\u003e\",\"legendgroup\":\"SPACE_000026\",\"marker\":{\"color\":\"#DDCB76\",\"pattern\":{\"shape\":\"\"}},\"name\":\"SPACE_000026\",\"offsetgroup\":\"SPACE_000026\",\"orientation\":\"v\",\"showlegend\":true,\"textposition\":\"auto\",\"x\":[\"kidney\"],\"xaxis\":\"x\",\"y\":[11],\"yaxis\":\"y\",\"type\":\"bar\"},{\"alignmentgroup\":\"True\",\"hovertemplate\":\"subject_name=SPACE_000027\\u003cbr\\u003especies_name=human\\u003cbr\\u003elabel_name=%{x}\\u003cbr\\u003en_images=%{y}\\u003cextra\\u003e\\u003c\\u002fextra\\u003e\",\"legendgroup\":\"SPACE_000027\",\"marker\":{\"color\":\"#DDCB76\",\"pattern\":{\"shape\":\"\"}},\"name\":\"SPACE_000027\",\"offsetgroup\":\"SPACE_000027\",\"orientation\":\"v\",\"showlegend\":true,\"textposition\":\"auto\",\"x\":[\"stomach\",\"small bowel\",\"colon\",\"liver\",\"omentum\",\"background\"],\"xaxis\":\"x\",\"y\":[1,2,2,2,1,2],\"yaxis\":\"y\",\"type\":\"bar\"},{\"alignmentgroup\":\"True\",\"hovertemplate\":\"subject_name=SPACE_000028\\u003cbr\\u003especies_name=human\\u003cbr\\u003elabel_name=%{x}\\u003cbr\\u003en_images=%{y}\\u003cextra\\u003e\\u003c\\u002fextra\\u003e\",\"legendgroup\":\"SPACE_000028\",\"marker\":{\"color\":\"#DDCB76\",\"pattern\":{\"shape\":\"\"}},\"name\":\"SPACE_000028\",\"offsetgroup\":\"SPACE_000028\",\"orientation\":\"v\",\"showlegend\":true,\"textposition\":\"auto\",\"x\":[\"stomach\",\"small bowel\",\"liver\",\"pancreas\",\"omentum\",\"background\"],\"xaxis\":\"x\",\"y\":[1,3,1,1,2,3],\"yaxis\":\"y\",\"type\":\"bar\"},{\"alignmentgroup\":\"True\",\"hovertemplate\":\"subject_name=SPACE_000029\\u003cbr\\u003especies_name=human\\u003cbr\\u003elabel_name=%{x}\\u003cbr\\u003en_images=%{y}\\u003cextra\\u003e\\u003c\\u002fextra\\u003e\",\"legendgroup\":\"SPACE_000029\",\"marker\":{\"color\":\"#DDCB76\",\"pattern\":{\"shape\":\"\"}},\"name\":\"SPACE_000029\",\"offsetgroup\":\"SPACE_000029\",\"orientation\":\"v\",\"showlegend\":true,\"textposition\":\"auto\",\"x\":[\"stomach\",\"small bowel\",\"colon\",\"liver\",\"omentum\",\"background\"],\"xaxis\":\"x\",\"y\":[1,2,2,2,1,2],\"yaxis\":\"y\",\"type\":\"bar\"},{\"alignmentgroup\":\"True\",\"hovertemplate\":\"subject_name=SPACE_000030\\u003cbr\\u003especies_name=human\\u003cbr\\u003elabel_name=%{x}\\u003cbr\\u003en_images=%{y}\\u003cextra\\u003e\\u003c\\u002fextra\\u003e\",\"legendgroup\":\"SPACE_000030\",\"marker\":{\"color\":\"#DDCB76\",\"pattern\":{\"shape\":\"\"}},\"name\":\"SPACE_000030\",\"offsetgroup\":\"SPACE_000030\",\"orientation\":\"v\",\"showlegend\":true,\"textposition\":\"auto\",\"x\":[\"stomach\",\"small bowel\",\"colon\",\"liver\",\"omentum\",\"lung\",\"skin\",\"peritoneum\",\"background\"],\"xaxis\":\"x\",\"y\":[16,2,9,11,15,5,9,10,16],\"yaxis\":\"y\",\"type\":\"bar\"},{\"alignmentgroup\":\"True\",\"hovertemplate\":\"subject_name=SPACE_000031\\u003cbr\\u003especies_name=human\\u003cbr\\u003elabel_name=%{x}\\u003cbr\\u003en_images=%{y}\\u003cextra\\u003e\\u003c\\u002fextra\\u003e\",\"legendgroup\":\"SPACE_000031\",\"marker\":{\"color\":\"#DDCB76\",\"pattern\":{\"shape\":\"\"}},\"name\":\"SPACE_000031\",\"offsetgroup\":\"SPACE_000031\",\"orientation\":\"v\",\"showlegend\":true,\"textposition\":\"auto\",\"x\":[\"stomach\",\"small bowel\",\"colon\",\"pancreas\",\"omentum\",\"background\"],\"xaxis\":\"x\",\"y\":[1,1,1,1,3,3],\"yaxis\":\"y\",\"type\":\"bar\"},{\"alignmentgroup\":\"True\",\"hovertemplate\":\"subject_name=SPACE_000032\\u003cbr\\u003especies_name=human\\u003cbr\\u003elabel_name=%{x}\\u003cbr\\u003en_images=%{y}\\u003cextra\\u003e\\u003c\\u002fextra\\u003e\",\"legendgroup\":\"SPACE_000032\",\"marker\":{\"color\":\"#DDCB76\",\"pattern\":{\"shape\":\"\"}},\"name\":\"SPACE_000032\",\"offsetgroup\":\"SPACE_000032\",\"orientation\":\"v\",\"showlegend\":true,\"textposition\":\"auto\",\"x\":[\"small bowel\",\"colon\",\"omentum\",\"background\"],\"xaxis\":\"x\",\"y\":[2,1,1,2],\"yaxis\":\"y\",\"type\":\"bar\"},{\"alignmentgroup\":\"True\",\"hovertemplate\":\"subject_name=SPACE_000033\\u003cbr\\u003especies_name=human\\u003cbr\\u003elabel_name=%{x}\\u003cbr\\u003en_images=%{y}\\u003cextra\\u003e\\u003c\\u002fextra\\u003e\",\"legendgroup\":\"SPACE_000033\",\"marker\":{\"color\":\"#DDCB76\",\"pattern\":{\"shape\":\"\"}},\"name\":\"SPACE_000033\",\"offsetgroup\":\"SPACE_000033\",\"orientation\":\"v\",\"showlegend\":true,\"textposition\":\"auto\",\"x\":[\"stomach\",\"colon\",\"liver\",\"pancreas\",\"omentum\",\"background\"],\"xaxis\":\"x\",\"y\":[6,1,4,2,5,6],\"yaxis\":\"y\",\"type\":\"bar\"},{\"alignmentgroup\":\"True\",\"hovertemplate\":\"subject_name=SPACE_000034\\u003cbr\\u003especies_name=human\\u003cbr\\u003elabel_name=%{x}\\u003cbr\\u003en_images=%{y}\\u003cextra\\u003e\\u003c\\u002fextra\\u003e\",\"legendgroup\":\"SPACE_000034\",\"marker\":{\"color\":\"#DDCB76\",\"pattern\":{\"shape\":\"\"}},\"name\":\"SPACE_000034\",\"offsetgroup\":\"SPACE_000034\",\"orientation\":\"v\",\"showlegend\":true,\"textposition\":\"auto\",\"x\":[\"stomach\",\"small bowel\",\"colon\",\"liver\",\"omentum\",\"background\"],\"xaxis\":\"x\",\"y\":[5,3,4,3,5,5],\"yaxis\":\"y\",\"type\":\"bar\"},{\"alignmentgroup\":\"True\",\"hovertemplate\":\"subject_name=SPACE_000035\\u003cbr\\u003especies_name=human\\u003cbr\\u003elabel_name=%{x}\\u003cbr\\u003en_images=%{y}\\u003cextra\\u003e\\u003c\\u002fextra\\u003e\",\"legendgroup\":\"SPACE_000035\",\"marker\":{\"color\":\"#DDCB76\",\"pattern\":{\"shape\":\"\"}},\"name\":\"SPACE_000035\",\"offsetgroup\":\"SPACE_000035\",\"orientation\":\"v\",\"showlegend\":true,\"textposition\":\"auto\",\"x\":[\"stomach\",\"liver\",\"pancreas\",\"omentum\",\"background\"],\"xaxis\":\"x\",\"y\":[1,3,2,1,3],\"yaxis\":\"y\",\"type\":\"bar\"},{\"alignmentgroup\":\"True\",\"hovertemplate\":\"subject_name=SPACE_000036\\u003cbr\\u003especies_name=human\\u003cbr\\u003elabel_name=%{x}\\u003cbr\\u003en_images=%{y}\\u003cextra\\u003e\\u003c\\u002fextra\\u003e\",\"legendgroup\":\"SPACE_000036\",\"marker\":{\"color\":\"#DDCB76\",\"pattern\":{\"shape\":\"\"}},\"name\":\"SPACE_000036\",\"offsetgroup\":\"SPACE_000036\",\"orientation\":\"v\",\"showlegend\":true,\"textposition\":\"auto\",\"x\":[\"stomach\",\"liver\",\"omentum\",\"lung\",\"skin\",\"peritoneum\",\"background\"],\"xaxis\":\"x\",\"y\":[1,1,1,6,6,1,7],\"yaxis\":\"y\",\"type\":\"bar\"},{\"alignmentgroup\":\"True\",\"hovertemplate\":\"subject_name=SPACE_000038\\u003cbr\\u003especies_name=human\\u003cbr\\u003elabel_name=%{x}\\u003cbr\\u003en_images=%{y}\\u003cextra\\u003e\\u003c\\u002fextra\\u003e\",\"legendgroup\":\"SPACE_000038\",\"marker\":{\"color\":\"#DDCB76\",\"pattern\":{\"shape\":\"\"}},\"name\":\"SPACE_000038\",\"offsetgroup\":\"SPACE_000038\",\"orientation\":\"v\",\"showlegend\":true,\"textposition\":\"auto\",\"x\":[\"stomach\",\"small bowel\",\"colon\",\"liver\",\"pancreas\",\"spleen\",\"omentum\",\"skin\",\"peritoneum\",\"background\"],\"xaxis\":\"x\",\"y\":[1,5,2,1,4,3,5,2,4,9],\"yaxis\":\"y\",\"type\":\"bar\"},{\"alignmentgroup\":\"True\",\"hovertemplate\":\"subject_name=SPACE_000039\\u003cbr\\u003especies_name=human\\u003cbr\\u003elabel_name=%{x}\\u003cbr\\u003en_images=%{y}\\u003cextra\\u003e\\u003c\\u002fextra\\u003e\",\"legendgroup\":\"SPACE_000039\",\"marker\":{\"color\":\"#DDCB76\",\"pattern\":{\"shape\":\"\"}},\"name\":\"SPACE_000039\",\"offsetgroup\":\"SPACE_000039\",\"orientation\":\"v\",\"showlegend\":true,\"textposition\":\"auto\",\"x\":[\"stomach\",\"small bowel\",\"colon\",\"pancreas\",\"omentum\",\"background\"],\"xaxis\":\"x\",\"y\":[2,2,1,1,2,2],\"yaxis\":\"y\",\"type\":\"bar\"},{\"alignmentgroup\":\"True\",\"hovertemplate\":\"subject_name=SPACE_000040\\u003cbr\\u003especies_name=human\\u003cbr\\u003elabel_name=%{x}\\u003cbr\\u003en_images=%{y}\\u003cextra\\u003e\\u003c\\u002fextra\\u003e\",\"legendgroup\":\"SPACE_000040\",\"marker\":{\"color\":\"#DDCB76\",\"pattern\":{\"shape\":\"\"}},\"name\":\"SPACE_000040\",\"offsetgroup\":\"SPACE_000040\",\"orientation\":\"v\",\"showlegend\":true,\"textposition\":\"auto\",\"x\":[\"stomach\",\"small bowel\",\"colon\",\"liver\",\"omentum\",\"background\"],\"xaxis\":\"x\",\"y\":[1,2,2,2,2,2],\"yaxis\":\"y\",\"type\":\"bar\"},{\"alignmentgroup\":\"True\",\"hovertemplate\":\"subject_name=SPACE_000041\\u003cbr\\u003especies_name=human\\u003cbr\\u003elabel_name=%{x}\\u003cbr\\u003en_images=%{y}\\u003cextra\\u003e\\u003c\\u002fextra\\u003e\",\"legendgroup\":\"SPACE_000041\",\"marker\":{\"color\":\"#DDCB76\",\"pattern\":{\"shape\":\"\"}},\"name\":\"SPACE_000041\",\"offsetgroup\":\"SPACE_000041\",\"orientation\":\"v\",\"showlegend\":true,\"textposition\":\"auto\",\"x\":[\"stomach\",\"small bowel\",\"colon\",\"liver\",\"omentum\",\"skin\",\"peritoneum\",\"background\"],\"xaxis\":\"x\",\"y\":[10,10,8,10,10,10,10,10],\"yaxis\":\"y\",\"type\":\"bar\"},{\"alignmentgroup\":\"True\",\"hovertemplate\":\"subject_name=SPACE_000042\\u003cbr\\u003especies_name=human\\u003cbr\\u003elabel_name=%{x}\\u003cbr\\u003en_images=%{y}\\u003cextra\\u003e\\u003c\\u002fextra\\u003e\",\"legendgroup\":\"SPACE_000042\",\"marker\":{\"color\":\"#DDCB76\",\"pattern\":{\"shape\":\"\"}},\"name\":\"SPACE_000042\",\"offsetgroup\":\"SPACE_000042\",\"orientation\":\"v\",\"showlegend\":true,\"textposition\":\"auto\",\"x\":[\"skin\",\"background\"],\"xaxis\":\"x\",\"y\":[2,2],\"yaxis\":\"y\",\"type\":\"bar\"},{\"alignmentgroup\":\"True\",\"hovertemplate\":\"subject_name=SPACE_000043\\u003cbr\\u003especies_name=human\\u003cbr\\u003elabel_name=%{x}\\u003cbr\\u003en_images=%{y}\\u003cextra\\u003e\\u003c\\u002fextra\\u003e\",\"legendgroup\":\"SPACE_000043\",\"marker\":{\"color\":\"#DDCB76\",\"pattern\":{\"shape\":\"\"}},\"name\":\"SPACE_000043\",\"offsetgroup\":\"SPACE_000043\",\"orientation\":\"v\",\"showlegend\":true,\"textposition\":\"auto\",\"x\":[\"small bowel\",\"omentum\",\"background\"],\"xaxis\":\"x\",\"y\":[2,1,2],\"yaxis\":\"y\",\"type\":\"bar\"},{\"alignmentgroup\":\"True\",\"hovertemplate\":\"subject_name=SPACE_000044\\u003cbr\\u003especies_name=human\\u003cbr\\u003elabel_name=%{x}\\u003cbr\\u003en_images=%{y}\\u003cextra\\u003e\\u003c\\u002fextra\\u003e\",\"legendgroup\":\"SPACE_000044\",\"marker\":{\"color\":\"#DDCB76\",\"pattern\":{\"shape\":\"\"}},\"name\":\"SPACE_000044\",\"offsetgroup\":\"SPACE_000044\",\"orientation\":\"v\",\"showlegend\":true,\"textposition\":\"auto\",\"x\":[\"stomach\",\"small bowel\",\"colon\",\"liver\",\"background\"],\"xaxis\":\"x\",\"y\":[1,2,2,1,2],\"yaxis\":\"y\",\"type\":\"bar\"},{\"alignmentgroup\":\"True\",\"hovertemplate\":\"subject_name=SPACE_000045\\u003cbr\\u003especies_name=human\\u003cbr\\u003elabel_name=%{x}\\u003cbr\\u003en_images=%{y}\\u003cextra\\u003e\\u003c\\u002fextra\\u003e\",\"legendgroup\":\"SPACE_000045\",\"marker\":{\"color\":\"#DDCB76\",\"pattern\":{\"shape\":\"\"}},\"name\":\"SPACE_000045\",\"offsetgroup\":\"SPACE_000045\",\"orientation\":\"v\",\"showlegend\":true,\"textposition\":\"auto\",\"x\":[\"stomach\",\"small bowel\",\"colon\",\"liver\",\"omentum\",\"background\"],\"xaxis\":\"x\",\"y\":[2,1,1,1,2,2],\"yaxis\":\"y\",\"type\":\"bar\"},{\"alignmentgroup\":\"True\",\"hovertemplate\":\"subject_name=SPACE_000046\\u003cbr\\u003especies_name=human\\u003cbr\\u003elabel_name=%{x}\\u003cbr\\u003en_images=%{y}\\u003cextra\\u003e\\u003c\\u002fextra\\u003e\",\"legendgroup\":\"SPACE_000046\",\"marker\":{\"color\":\"#DDCB76\",\"pattern\":{\"shape\":\"\"}},\"name\":\"SPACE_000046\",\"offsetgroup\":\"SPACE_000046\",\"orientation\":\"v\",\"showlegend\":true,\"textposition\":\"auto\",\"x\":[\"stomach\",\"small bowel\",\"liver\",\"omentum\",\"skin\",\"background\"],\"xaxis\":\"x\",\"y\":[1,1,1,1,2,2],\"yaxis\":\"y\",\"type\":\"bar\"},{\"alignmentgroup\":\"True\",\"hovertemplate\":\"subject_name=SPACE_000047\\u003cbr\\u003especies_name=human\\u003cbr\\u003elabel_name=%{x}\\u003cbr\\u003en_images=%{y}\\u003cextra\\u003e\\u003c\\u002fextra\\u003e\",\"legendgroup\":\"SPACE_000047\",\"marker\":{\"color\":\"#DDCB76\",\"pattern\":{\"shape\":\"\"}},\"name\":\"SPACE_000047\",\"offsetgroup\":\"SPACE_000047\",\"orientation\":\"v\",\"showlegend\":true,\"textposition\":\"auto\",\"x\":[\"small bowel\",\"colon\",\"omentum\",\"background\"],\"xaxis\":\"x\",\"y\":[1,2,1,2],\"yaxis\":\"y\",\"type\":\"bar\"},{\"alignmentgroup\":\"True\",\"hovertemplate\":\"subject_name=SPACE_000048\\u003cbr\\u003especies_name=human\\u003cbr\\u003elabel_name=%{x}\\u003cbr\\u003en_images=%{y}\\u003cextra\\u003e\\u003c\\u002fextra\\u003e\",\"legendgroup\":\"SPACE_000048\",\"marker\":{\"color\":\"#DDCB76\",\"pattern\":{\"shape\":\"\"}},\"name\":\"SPACE_000048\",\"offsetgroup\":\"SPACE_000048\",\"orientation\":\"v\",\"showlegend\":true,\"textposition\":\"auto\",\"x\":[\"stomach\",\"small bowel\",\"colon\",\"liver\",\"spleen\",\"omentum\",\"skin\",\"background\"],\"xaxis\":\"x\",\"y\":[6,7,5,11,3,9,4,11],\"yaxis\":\"y\",\"type\":\"bar\"},{\"alignmentgroup\":\"True\",\"hovertemplate\":\"subject_name=SPACE_000049\\u003cbr\\u003especies_name=human\\u003cbr\\u003elabel_name=%{x}\\u003cbr\\u003en_images=%{y}\\u003cextra\\u003e\\u003c\\u002fextra\\u003e\",\"legendgroup\":\"SPACE_000049\",\"marker\":{\"color\":\"#DDCB76\",\"pattern\":{\"shape\":\"\"}},\"name\":\"SPACE_000049\",\"offsetgroup\":\"SPACE_000049\",\"orientation\":\"v\",\"showlegend\":true,\"textposition\":\"auto\",\"x\":[\"small bowel\",\"colon\",\"liver\",\"omentum\",\"background\"],\"xaxis\":\"x\",\"y\":[2,2,2,1,2],\"yaxis\":\"y\",\"type\":\"bar\"},{\"alignmentgroup\":\"True\",\"hovertemplate\":\"subject_name=SPACE_000050\\u003cbr\\u003especies_name=human\\u003cbr\\u003elabel_name=%{x}\\u003cbr\\u003en_images=%{y}\\u003cextra\\u003e\\u003c\\u002fextra\\u003e\",\"legendgroup\":\"SPACE_000050\",\"marker\":{\"color\":\"#DDCB76\",\"pattern\":{\"shape\":\"\"}},\"name\":\"SPACE_000050\",\"offsetgroup\":\"SPACE_000050\",\"orientation\":\"v\",\"showlegend\":true,\"textposition\":\"auto\",\"x\":[\"kidney\",\"skin\",\"peritoneum\",\"background\"],\"xaxis\":\"x\",\"y\":[7,7,7,7],\"yaxis\":\"y\",\"type\":\"bar\"},{\"alignmentgroup\":\"True\",\"hovertemplate\":\"subject_name=SPACE_000051\\u003cbr\\u003especies_name=human\\u003cbr\\u003elabel_name=%{x}\\u003cbr\\u003en_images=%{y}\\u003cextra\\u003e\\u003c\\u002fextra\\u003e\",\"legendgroup\":\"SPACE_000051\",\"marker\":{\"color\":\"#DDCB76\",\"pattern\":{\"shape\":\"\"}},\"name\":\"SPACE_000051\",\"offsetgroup\":\"SPACE_000051\",\"orientation\":\"v\",\"showlegend\":true,\"textposition\":\"auto\",\"x\":[\"stomach\",\"colon\",\"liver\",\"omentum\",\"background\"],\"xaxis\":\"x\",\"y\":[1,2,2,2,2],\"yaxis\":\"y\",\"type\":\"bar\"},{\"alignmentgroup\":\"True\",\"hovertemplate\":\"subject_name=SPACE_000052\\u003cbr\\u003especies_name=human\\u003cbr\\u003elabel_name=%{x}\\u003cbr\\u003en_images=%{y}\\u003cextra\\u003e\\u003c\\u002fextra\\u003e\",\"legendgroup\":\"SPACE_000052\",\"marker\":{\"color\":\"#DDCB76\",\"pattern\":{\"shape\":\"\"}},\"name\":\"SPACE_000052\",\"offsetgroup\":\"SPACE_000052\",\"orientation\":\"v\",\"showlegend\":true,\"textposition\":\"auto\",\"x\":[\"stomach\",\"small bowel\",\"colon\",\"liver\",\"omentum\",\"peritoneum\",\"background\"],\"xaxis\":\"x\",\"y\":[4,3,4,4,4,3,5],\"yaxis\":\"y\",\"type\":\"bar\"},{\"alignmentgroup\":\"True\",\"hovertemplate\":\"subject_name=SPACE_000053\\u003cbr\\u003especies_name=human\\u003cbr\\u003elabel_name=%{x}\\u003cbr\\u003en_images=%{y}\\u003cextra\\u003e\\u003c\\u002fextra\\u003e\",\"legendgroup\":\"SPACE_000053\",\"marker\":{\"color\":\"#DDCB76\",\"pattern\":{\"shape\":\"\"}},\"name\":\"SPACE_000053\",\"offsetgroup\":\"SPACE_000053\",\"orientation\":\"v\",\"showlegend\":true,\"textposition\":\"auto\",\"x\":[\"stomach\",\"small bowel\",\"colon\",\"liver\",\"omentum\",\"background\"],\"xaxis\":\"x\",\"y\":[3,4,1,3,4,4],\"yaxis\":\"y\",\"type\":\"bar\"},{\"alignmentgroup\":\"True\",\"hovertemplate\":\"subject_name=SPACE_000056\\u003cbr\\u003especies_name=human\\u003cbr\\u003elabel_name=%{x}\\u003cbr\\u003en_images=%{y}\\u003cextra\\u003e\\u003c\\u002fextra\\u003e\",\"legendgroup\":\"SPACE_000056\",\"marker\":{\"color\":\"#DDCB76\",\"pattern\":{\"shape\":\"\"}},\"name\":\"SPACE_000056\",\"offsetgroup\":\"SPACE_000056\",\"orientation\":\"v\",\"showlegend\":true,\"textposition\":\"auto\",\"x\":[\"stomach\",\"small bowel\",\"colon\",\"liver\",\"pancreas\",\"background\"],\"xaxis\":\"x\",\"y\":[3,1,4,3,3,4],\"yaxis\":\"y\",\"type\":\"bar\"},{\"alignmentgroup\":\"True\",\"hovertemplate\":\"subject_name=SPACE_000057\\u003cbr\\u003especies_name=human\\u003cbr\\u003elabel_name=%{x}\\u003cbr\\u003en_images=%{y}\\u003cextra\\u003e\\u003c\\u002fextra\\u003e\",\"legendgroup\":\"SPACE_000057\",\"marker\":{\"color\":\"#DDCB76\",\"pattern\":{\"shape\":\"\"}},\"name\":\"SPACE_000057\",\"offsetgroup\":\"SPACE_000057\",\"orientation\":\"v\",\"showlegend\":true,\"textposition\":\"auto\",\"x\":[\"kidney\",\"skin\",\"background\"],\"xaxis\":\"x\",\"y\":[2,2,2],\"yaxis\":\"y\",\"type\":\"bar\"},{\"alignmentgroup\":\"True\",\"hovertemplate\":\"subject_name=SPACE_000058\\u003cbr\\u003especies_name=human\\u003cbr\\u003elabel_name=%{x}\\u003cbr\\u003en_images=%{y}\\u003cextra\\u003e\\u003c\\u002fextra\\u003e\",\"legendgroup\":\"SPACE_000058\",\"marker\":{\"color\":\"#DDCB76\",\"pattern\":{\"shape\":\"\"}},\"name\":\"SPACE_000058\",\"offsetgroup\":\"SPACE_000058\",\"orientation\":\"v\",\"showlegend\":true,\"textposition\":\"auto\",\"x\":[\"stomach\",\"small bowel\",\"liver\",\"pancreas\",\"spleen\",\"skin\",\"background\"],\"xaxis\":\"x\",\"y\":[2,4,5,1,2,2,5],\"yaxis\":\"y\",\"type\":\"bar\"},{\"alignmentgroup\":\"True\",\"hovertemplate\":\"subject_name=SPACE_000059\\u003cbr\\u003especies_name=human\\u003cbr\\u003elabel_name=%{x}\\u003cbr\\u003en_images=%{y}\\u003cextra\\u003e\\u003c\\u002fextra\\u003e\",\"legendgroup\":\"SPACE_000059\",\"marker\":{\"color\":\"#DDCB76\",\"pattern\":{\"shape\":\"\"}},\"name\":\"SPACE_000059\",\"offsetgroup\":\"SPACE_000059\",\"orientation\":\"v\",\"showlegend\":true,\"textposition\":\"auto\",\"x\":[\"stomach\",\"liver\",\"pancreas\",\"omentum\",\"background\"],\"xaxis\":\"x\",\"y\":[1,1,1,2,2],\"yaxis\":\"y\",\"type\":\"bar\"},{\"alignmentgroup\":\"True\",\"hovertemplate\":\"subject_name=SPACE_000060\\u003cbr\\u003especies_name=human\\u003cbr\\u003elabel_name=%{x}\\u003cbr\\u003en_images=%{y}\\u003cextra\\u003e\\u003c\\u002fextra\\u003e\",\"legendgroup\":\"SPACE_000060\",\"marker\":{\"color\":\"#DDCB76\",\"pattern\":{\"shape\":\"\"}},\"name\":\"SPACE_000060\",\"offsetgroup\":\"SPACE_000060\",\"orientation\":\"v\",\"showlegend\":true,\"textposition\":\"auto\",\"x\":[\"stomach\",\"colon\",\"liver\",\"background\"],\"xaxis\":\"x\",\"y\":[1,1,1,2],\"yaxis\":\"y\",\"type\":\"bar\"},{\"alignmentgroup\":\"True\",\"hovertemplate\":\"subject_name=SPACE_000061\\u003cbr\\u003especies_name=human\\u003cbr\\u003elabel_name=%{x}\\u003cbr\\u003en_images=%{y}\\u003cextra\\u003e\\u003c\\u002fextra\\u003e\",\"legendgroup\":\"SPACE_000061\",\"marker\":{\"color\":\"#DDCB76\",\"pattern\":{\"shape\":\"\"}},\"name\":\"SPACE_000061\",\"offsetgroup\":\"SPACE_000061\",\"orientation\":\"v\",\"showlegend\":true,\"textposition\":\"auto\",\"x\":[\"colon\",\"liver\",\"omentum\",\"skin\",\"background\"],\"xaxis\":\"x\",\"y\":[1,2,1,2,2],\"yaxis\":\"y\",\"type\":\"bar\"},{\"alignmentgroup\":\"True\",\"hovertemplate\":\"subject_name=SPACE_000062\\u003cbr\\u003especies_name=human\\u003cbr\\u003elabel_name=%{x}\\u003cbr\\u003en_images=%{y}\\u003cextra\\u003e\\u003c\\u002fextra\\u003e\",\"legendgroup\":\"SPACE_000062\",\"marker\":{\"color\":\"#DDCB76\",\"pattern\":{\"shape\":\"\"}},\"name\":\"SPACE_000062\",\"offsetgroup\":\"SPACE_000062\",\"orientation\":\"v\",\"showlegend\":true,\"textposition\":\"auto\",\"x\":[\"stomach\",\"small bowel\",\"colon\",\"liver\",\"pancreas\",\"omentum\",\"background\"],\"xaxis\":\"x\",\"y\":[5,5,4,9,5,8,9],\"yaxis\":\"y\",\"type\":\"bar\"},{\"alignmentgroup\":\"True\",\"hovertemplate\":\"subject_name=SPACE_000063\\u003cbr\\u003especies_name=human\\u003cbr\\u003elabel_name=%{x}\\u003cbr\\u003en_images=%{y}\\u003cextra\\u003e\\u003c\\u002fextra\\u003e\",\"legendgroup\":\"SPACE_000063\",\"marker\":{\"color\":\"#DDCB76\",\"pattern\":{\"shape\":\"\"}},\"name\":\"SPACE_000063\",\"offsetgroup\":\"SPACE_000063\",\"orientation\":\"v\",\"showlegend\":true,\"textposition\":\"auto\",\"x\":[\"stomach\",\"small bowel\",\"colon\",\"liver\",\"omentum\",\"peritoneum\",\"background\"],\"xaxis\":\"x\",\"y\":[6,3,5,8,7,3,8],\"yaxis\":\"y\",\"type\":\"bar\"},{\"alignmentgroup\":\"True\",\"hovertemplate\":\"subject_name=SPACE_000064\\u003cbr\\u003especies_name=human\\u003cbr\\u003elabel_name=%{x}\\u003cbr\\u003en_images=%{y}\\u003cextra\\u003e\\u003c\\u002fextra\\u003e\",\"legendgroup\":\"SPACE_000064\",\"marker\":{\"color\":\"#DDCB76\",\"pattern\":{\"shape\":\"\"}},\"name\":\"SPACE_000064\",\"offsetgroup\":\"SPACE_000064\",\"orientation\":\"v\",\"showlegend\":true,\"textposition\":\"auto\",\"x\":[\"stomach\",\"small bowel\",\"colon\",\"liver\",\"omentum\",\"background\"],\"xaxis\":\"x\",\"y\":[1,2,2,1,2,2],\"yaxis\":\"y\",\"type\":\"bar\"},{\"alignmentgroup\":\"True\",\"hovertemplate\":\"subject_name=SPACE_000065\\u003cbr\\u003especies_name=human\\u003cbr\\u003elabel_name=%{x}\\u003cbr\\u003en_images=%{y}\\u003cextra\\u003e\\u003c\\u002fextra\\u003e\",\"legendgroup\":\"SPACE_000065\",\"marker\":{\"color\":\"#DDCB76\",\"pattern\":{\"shape\":\"\"}},\"name\":\"SPACE_000065\",\"offsetgroup\":\"SPACE_000065\",\"orientation\":\"v\",\"showlegend\":true,\"textposition\":\"auto\",\"x\":[\"stomach\",\"small bowel\",\"colon\",\"liver\",\"omentum\",\"skin\",\"peritoneum\",\"background\"],\"xaxis\":\"x\",\"y\":[7,3,3,8,8,1,8,8],\"yaxis\":\"y\",\"type\":\"bar\"},{\"alignmentgroup\":\"True\",\"hovertemplate\":\"subject_name=SPACE_000066\\u003cbr\\u003especies_name=human\\u003cbr\\u003elabel_name=%{x}\\u003cbr\\u003en_images=%{y}\\u003cextra\\u003e\\u003c\\u002fextra\\u003e\",\"legendgroup\":\"SPACE_000066\",\"marker\":{\"color\":\"#DDCB76\",\"pattern\":{\"shape\":\"\"}},\"name\":\"SPACE_000066\",\"offsetgroup\":\"SPACE_000066\",\"orientation\":\"v\",\"showlegend\":true,\"textposition\":\"auto\",\"x\":[\"stomach\",\"small bowel\",\"colon\",\"liver\",\"omentum\",\"skin\",\"background\"],\"xaxis\":\"x\",\"y\":[3,3,3,4,1,1,4],\"yaxis\":\"y\",\"type\":\"bar\"},{\"alignmentgroup\":\"True\",\"hovertemplate\":\"subject_name=SPACE_000067\\u003cbr\\u003especies_name=human\\u003cbr\\u003elabel_name=%{x}\\u003cbr\\u003en_images=%{y}\\u003cextra\\u003e\\u003c\\u002fextra\\u003e\",\"legendgroup\":\"SPACE_000067\",\"marker\":{\"color\":\"#DDCB76\",\"pattern\":{\"shape\":\"\"}},\"name\":\"SPACE_000067\",\"offsetgroup\":\"SPACE_000067\",\"orientation\":\"v\",\"showlegend\":true,\"textposition\":\"auto\",\"x\":[\"stomach\",\"small bowel\",\"colon\",\"liver\",\"omentum\",\"background\"],\"xaxis\":\"x\",\"y\":[2,1,1,2,1,2],\"yaxis\":\"y\",\"type\":\"bar\"},{\"alignmentgroup\":\"True\",\"hovertemplate\":\"subject_name=SPACE_000068\\u003cbr\\u003especies_name=human\\u003cbr\\u003elabel_name=%{x}\\u003cbr\\u003en_images=%{y}\\u003cextra\\u003e\\u003c\\u002fextra\\u003e\",\"legendgroup\":\"SPACE_000068\",\"marker\":{\"color\":\"#DDCB76\",\"pattern\":{\"shape\":\"\"}},\"name\":\"SPACE_000068\",\"offsetgroup\":\"SPACE_000068\",\"orientation\":\"v\",\"showlegend\":true,\"textposition\":\"auto\",\"x\":[\"stomach\",\"small bowel\",\"liver\",\"pancreas\",\"omentum\",\"background\"],\"xaxis\":\"x\",\"y\":[2,2,1,1,2,2],\"yaxis\":\"y\",\"type\":\"bar\"},{\"alignmentgroup\":\"True\",\"hovertemplate\":\"subject_name=SPACE_000069\\u003cbr\\u003especies_name=human\\u003cbr\\u003elabel_name=%{x}\\u003cbr\\u003en_images=%{y}\\u003cextra\\u003e\\u003c\\u002fextra\\u003e\",\"legendgroup\":\"SPACE_000069\",\"marker\":{\"color\":\"#DDCB76\",\"pattern\":{\"shape\":\"\"}},\"name\":\"SPACE_000069\",\"offsetgroup\":\"SPACE_000069\",\"orientation\":\"v\",\"showlegend\":true,\"textposition\":\"auto\",\"x\":[\"stomach\",\"small bowel\",\"liver\",\"omentum\",\"background\"],\"xaxis\":\"x\",\"y\":[1,2,1,2,2],\"yaxis\":\"y\",\"type\":\"bar\"},{\"alignmentgroup\":\"True\",\"hovertemplate\":\"subject_name=SPACE_000070\\u003cbr\\u003especies_name=human\\u003cbr\\u003elabel_name=%{x}\\u003cbr\\u003en_images=%{y}\\u003cextra\\u003e\\u003c\\u002fextra\\u003e\",\"legendgroup\":\"SPACE_000070\",\"marker\":{\"color\":\"#DDCB76\",\"pattern\":{\"shape\":\"\"}},\"name\":\"SPACE_000070\",\"offsetgroup\":\"SPACE_000070\",\"orientation\":\"v\",\"showlegend\":true,\"textposition\":\"auto\",\"x\":[\"stomach\",\"small bowel\",\"colon\",\"liver\",\"pancreas\",\"omentum\",\"background\"],\"xaxis\":\"x\",\"y\":[2,1,2,2,1,4,4],\"yaxis\":\"y\",\"type\":\"bar\"},{\"alignmentgroup\":\"True\",\"hovertemplate\":\"subject_name=SPACE_000071\\u003cbr\\u003especies_name=human\\u003cbr\\u003elabel_name=%{x}\\u003cbr\\u003en_images=%{y}\\u003cextra\\u003e\\u003c\\u002fextra\\u003e\",\"legendgroup\":\"SPACE_000071\",\"marker\":{\"color\":\"#DDCB76\",\"pattern\":{\"shape\":\"\"}},\"name\":\"SPACE_000071\",\"offsetgroup\":\"SPACE_000071\",\"orientation\":\"v\",\"showlegend\":true,\"textposition\":\"auto\",\"x\":[\"stomach\",\"colon\",\"liver\",\"omentum\",\"skin\",\"background\"],\"xaxis\":\"x\",\"y\":[1,2,3,1,2,3],\"yaxis\":\"y\",\"type\":\"bar\"},{\"alignmentgroup\":\"True\",\"hovertemplate\":\"subject_name=SPACE_000072\\u003cbr\\u003especies_name=human\\u003cbr\\u003elabel_name=%{x}\\u003cbr\\u003en_images=%{y}\\u003cextra\\u003e\\u003c\\u002fextra\\u003e\",\"legendgroup\":\"SPACE_000072\",\"marker\":{\"color\":\"#DDCB76\",\"pattern\":{\"shape\":\"\"}},\"name\":\"SPACE_000072\",\"offsetgroup\":\"SPACE_000072\",\"orientation\":\"v\",\"showlegend\":true,\"textposition\":\"auto\",\"x\":[\"stomach\",\"small bowel\",\"colon\",\"liver\",\"pancreas\",\"spleen\",\"omentum\",\"skin\",\"peritoneum\",\"background\"],\"xaxis\":\"x\",\"y\":[8,12,9,17,5,3,17,2,2,17],\"yaxis\":\"y\",\"type\":\"bar\"},{\"alignmentgroup\":\"True\",\"hovertemplate\":\"subject_name=SPACE_000073\\u003cbr\\u003especies_name=human\\u003cbr\\u003elabel_name=%{x}\\u003cbr\\u003en_images=%{y}\\u003cextra\\u003e\\u003c\\u002fextra\\u003e\",\"legendgroup\":\"SPACE_000073\",\"marker\":{\"color\":\"#DDCB76\",\"pattern\":{\"shape\":\"\"}},\"name\":\"SPACE_000073\",\"offsetgroup\":\"SPACE_000073\",\"orientation\":\"v\",\"showlegend\":true,\"textposition\":\"auto\",\"x\":[\"stomach\",\"small bowel\",\"colon\",\"liver\",\"omentum\",\"background\"],\"xaxis\":\"x\",\"y\":[1,3,3,4,5,5],\"yaxis\":\"y\",\"type\":\"bar\"},{\"alignmentgroup\":\"True\",\"hovertemplate\":\"subject_name=SPACE_000074\\u003cbr\\u003especies_name=human\\u003cbr\\u003elabel_name=%{x}\\u003cbr\\u003en_images=%{y}\\u003cextra\\u003e\\u003c\\u002fextra\\u003e\",\"legendgroup\":\"SPACE_000074\",\"marker\":{\"color\":\"#DDCB76\",\"pattern\":{\"shape\":\"\"}},\"name\":\"SPACE_000074\",\"offsetgroup\":\"SPACE_000074\",\"orientation\":\"v\",\"showlegend\":true,\"textposition\":\"auto\",\"x\":[\"stomach\",\"small bowel\",\"colon\",\"liver\",\"pancreas\",\"omentum\",\"background\"],\"xaxis\":\"x\",\"y\":[7,4,6,7,3,7,7],\"yaxis\":\"y\",\"type\":\"bar\"},{\"alignmentgroup\":\"True\",\"hovertemplate\":\"subject_name=SPACE_000075\\u003cbr\\u003especies_name=human\\u003cbr\\u003elabel_name=%{x}\\u003cbr\\u003en_images=%{y}\\u003cextra\\u003e\\u003c\\u002fextra\\u003e\",\"legendgroup\":\"SPACE_000075\",\"marker\":{\"color\":\"#DDCB76\",\"pattern\":{\"shape\":\"\"}},\"name\":\"SPACE_000075\",\"offsetgroup\":\"SPACE_000075\",\"orientation\":\"v\",\"showlegend\":true,\"textposition\":\"auto\",\"x\":[\"stomach\",\"small bowel\",\"colon\",\"liver\",\"spleen\",\"omentum\",\"lung\",\"skin\",\"peritoneum\",\"background\"],\"xaxis\":\"x\",\"y\":[3,3,1,3,2,3,6,8,2,9],\"yaxis\":\"y\",\"type\":\"bar\"},{\"alignmentgroup\":\"True\",\"hovertemplate\":\"subject_name=SPACE_000076\\u003cbr\\u003especies_name=human\\u003cbr\\u003elabel_name=%{x}\\u003cbr\\u003en_images=%{y}\\u003cextra\\u003e\\u003c\\u002fextra\\u003e\",\"legendgroup\":\"SPACE_000076\",\"marker\":{\"color\":\"#DDCB76\",\"pattern\":{\"shape\":\"\"}},\"name\":\"SPACE_000076\",\"offsetgroup\":\"SPACE_000076\",\"orientation\":\"v\",\"showlegend\":true,\"textposition\":\"auto\",\"x\":[\"stomach\",\"small bowel\",\"colon\",\"liver\",\"omentum\",\"lung\",\"skin\",\"background\"],\"xaxis\":\"x\",\"y\":[1,1,1,1,1,6,6,7],\"yaxis\":\"y\",\"type\":\"bar\"},{\"alignmentgroup\":\"True\",\"hovertemplate\":\"subject_name=SPACE_000077\\u003cbr\\u003especies_name=human\\u003cbr\\u003elabel_name=%{x}\\u003cbr\\u003en_images=%{y}\\u003cextra\\u003e\\u003c\\u002fextra\\u003e\",\"legendgroup\":\"SPACE_000077\",\"marker\":{\"color\":\"#DDCB76\",\"pattern\":{\"shape\":\"\"}},\"name\":\"SPACE_000077\",\"offsetgroup\":\"SPACE_000077\",\"orientation\":\"v\",\"showlegend\":true,\"textposition\":\"auto\",\"x\":[\"small bowel\",\"colon\",\"liver\",\"background\"],\"xaxis\":\"x\",\"y\":[2,1,1,2],\"yaxis\":\"y\",\"type\":\"bar\"},{\"alignmentgroup\":\"True\",\"hovertemplate\":\"subject_name=SPACE_000078\\u003cbr\\u003especies_name=human\\u003cbr\\u003elabel_name=%{x}\\u003cbr\\u003en_images=%{y}\\u003cextra\\u003e\\u003c\\u002fextra\\u003e\",\"legendgroup\":\"SPACE_000078\",\"marker\":{\"color\":\"#DDCB76\",\"pattern\":{\"shape\":\"\"}},\"name\":\"SPACE_000078\",\"offsetgroup\":\"SPACE_000078\",\"orientation\":\"v\",\"showlegend\":true,\"textposition\":\"auto\",\"x\":[\"small bowel\",\"liver\",\"background\"],\"xaxis\":\"x\",\"y\":[2,2,2],\"yaxis\":\"y\",\"type\":\"bar\"},{\"alignmentgroup\":\"True\",\"hovertemplate\":\"subject_name=SPACE_000080\\u003cbr\\u003especies_name=human\\u003cbr\\u003elabel_name=%{x}\\u003cbr\\u003en_images=%{y}\\u003cextra\\u003e\\u003c\\u002fextra\\u003e\",\"legendgroup\":\"SPACE_000080\",\"marker\":{\"color\":\"#DDCB76\",\"pattern\":{\"shape\":\"\"}},\"name\":\"SPACE_000080\",\"offsetgroup\":\"SPACE_000080\",\"orientation\":\"v\",\"showlegend\":true,\"textposition\":\"auto\",\"x\":[\"small bowel\",\"colon\",\"liver\",\"omentum\",\"background\"],\"xaxis\":\"x\",\"y\":[1,1,1,2,3],\"yaxis\":\"y\",\"type\":\"bar\"},{\"alignmentgroup\":\"True\",\"hovertemplate\":\"subject_name=SPACE_000081\\u003cbr\\u003especies_name=human\\u003cbr\\u003elabel_name=%{x}\\u003cbr\\u003en_images=%{y}\\u003cextra\\u003e\\u003c\\u002fextra\\u003e\",\"legendgroup\":\"SPACE_000081\",\"marker\":{\"color\":\"#DDCB76\",\"pattern\":{\"shape\":\"\"}},\"name\":\"SPACE_000081\",\"offsetgroup\":\"SPACE_000081\",\"orientation\":\"v\",\"showlegend\":true,\"textposition\":\"auto\",\"x\":[\"stomach\",\"small bowel\",\"colon\",\"liver\",\"background\"],\"xaxis\":\"x\",\"y\":[1,1,2,1,2],\"yaxis\":\"y\",\"type\":\"bar\"},{\"alignmentgroup\":\"True\",\"hovertemplate\":\"subject_name=SPACE_000083\\u003cbr\\u003especies_name=human\\u003cbr\\u003elabel_name=%{x}\\u003cbr\\u003en_images=%{y}\\u003cextra\\u003e\\u003c\\u002fextra\\u003e\",\"legendgroup\":\"SPACE_000083\",\"marker\":{\"color\":\"#DDCB76\",\"pattern\":{\"shape\":\"\"}},\"name\":\"SPACE_000083\",\"offsetgroup\":\"SPACE_000083\",\"orientation\":\"v\",\"showlegend\":true,\"textposition\":\"auto\",\"x\":[\"stomach\",\"liver\",\"omentum\",\"peritoneum\",\"background\"],\"xaxis\":\"x\",\"y\":[4,5,5,2,5],\"yaxis\":\"y\",\"type\":\"bar\"},{\"alignmentgroup\":\"True\",\"hovertemplate\":\"subject_name=SPACE_000084\\u003cbr\\u003especies_name=human\\u003cbr\\u003elabel_name=%{x}\\u003cbr\\u003en_images=%{y}\\u003cextra\\u003e\\u003c\\u002fextra\\u003e\",\"legendgroup\":\"SPACE_000084\",\"marker\":{\"color\":\"#DDCB76\",\"pattern\":{\"shape\":\"\"}},\"name\":\"SPACE_000084\",\"offsetgroup\":\"SPACE_000084\",\"orientation\":\"v\",\"showlegend\":true,\"textposition\":\"auto\",\"x\":[\"stomach\",\"liver\",\"omentum\",\"background\"],\"xaxis\":\"x\",\"y\":[1,8,1,8],\"yaxis\":\"y\",\"type\":\"bar\"},{\"alignmentgroup\":\"True\",\"hovertemplate\":\"subject_name=SPACE_000085\\u003cbr\\u003especies_name=human\\u003cbr\\u003elabel_name=%{x}\\u003cbr\\u003en_images=%{y}\\u003cextra\\u003e\\u003c\\u002fextra\\u003e\",\"legendgroup\":\"SPACE_000085\",\"marker\":{\"color\":\"#DDCB76\",\"pattern\":{\"shape\":\"\"}},\"name\":\"SPACE_000085\",\"offsetgroup\":\"SPACE_000085\",\"orientation\":\"v\",\"showlegend\":true,\"textposition\":\"auto\",\"x\":[\"stomach\",\"small bowel\",\"colon\",\"liver\",\"omentum\",\"skin\",\"peritoneum\",\"background\"],\"xaxis\":\"x\",\"y\":[6,1,6,8,9,9,3,9],\"yaxis\":\"y\",\"type\":\"bar\"},{\"alignmentgroup\":\"True\",\"hovertemplate\":\"subject_name=SPACE_000086\\u003cbr\\u003especies_name=human\\u003cbr\\u003elabel_name=%{x}\\u003cbr\\u003en_images=%{y}\\u003cextra\\u003e\\u003c\\u002fextra\\u003e\",\"legendgroup\":\"SPACE_000086\",\"marker\":{\"color\":\"#DDCB76\",\"pattern\":{\"shape\":\"\"}},\"name\":\"SPACE_000086\",\"offsetgroup\":\"SPACE_000086\",\"orientation\":\"v\",\"showlegend\":true,\"textposition\":\"auto\",\"x\":[\"stomach\",\"small bowel\",\"colon\",\"liver\",\"pancreas\",\"spleen\",\"omentum\",\"background\"],\"xaxis\":\"x\",\"y\":[14,14,13,16,7,6,16,16],\"yaxis\":\"y\",\"type\":\"bar\"},{\"alignmentgroup\":\"True\",\"hovertemplate\":\"subject_name=SPACE_000087\\u003cbr\\u003especies_name=human\\u003cbr\\u003elabel_name=%{x}\\u003cbr\\u003en_images=%{y}\\u003cextra\\u003e\\u003c\\u002fextra\\u003e\",\"legendgroup\":\"SPACE_000087\",\"marker\":{\"color\":\"#DDCB76\",\"pattern\":{\"shape\":\"\"}},\"name\":\"SPACE_000087\",\"offsetgroup\":\"SPACE_000087\",\"orientation\":\"v\",\"showlegend\":true,\"textposition\":\"auto\",\"x\":[\"stomach\",\"small bowel\",\"colon\",\"liver\",\"omentum\",\"skin\",\"peritoneum\",\"background\"],\"xaxis\":\"x\",\"y\":[1,3,1,6,5,4,6,8],\"yaxis\":\"y\",\"type\":\"bar\"},{\"alignmentgroup\":\"True\",\"hovertemplate\":\"subject_name=SPACE_000088\\u003cbr\\u003especies_name=human\\u003cbr\\u003elabel_name=%{x}\\u003cbr\\u003en_images=%{y}\\u003cextra\\u003e\\u003c\\u002fextra\\u003e\",\"legendgroup\":\"SPACE_000088\",\"marker\":{\"color\":\"#DDCB76\",\"pattern\":{\"shape\":\"\"}},\"name\":\"SPACE_000088\",\"offsetgroup\":\"SPACE_000088\",\"orientation\":\"v\",\"showlegend\":true,\"textposition\":\"auto\",\"x\":[\"small bowel\",\"omentum\",\"skin\",\"background\"],\"xaxis\":\"x\",\"y\":[2,1,2,2],\"yaxis\":\"y\",\"type\":\"bar\"},{\"alignmentgroup\":\"True\",\"hovertemplate\":\"subject_name=SPACE_000089\\u003cbr\\u003especies_name=human\\u003cbr\\u003elabel_name=%{x}\\u003cbr\\u003en_images=%{y}\\u003cextra\\u003e\\u003c\\u002fextra\\u003e\",\"legendgroup\":\"SPACE_000089\",\"marker\":{\"color\":\"#DDCB76\",\"pattern\":{\"shape\":\"\"}},\"name\":\"SPACE_000089\",\"offsetgroup\":\"SPACE_000089\",\"orientation\":\"v\",\"showlegend\":true,\"textposition\":\"auto\",\"x\":[\"kidney\"],\"xaxis\":\"x\",\"y\":[2],\"yaxis\":\"y\",\"type\":\"bar\"},{\"alignmentgroup\":\"True\",\"hovertemplate\":\"subject_name=SPACE_000090\\u003cbr\\u003especies_name=human\\u003cbr\\u003elabel_name=%{x}\\u003cbr\\u003en_images=%{y}\\u003cextra\\u003e\\u003c\\u002fextra\\u003e\",\"legendgroup\":\"SPACE_000090\",\"marker\":{\"color\":\"#DDCB76\",\"pattern\":{\"shape\":\"\"}},\"name\":\"SPACE_000090\",\"offsetgroup\":\"SPACE_000090\",\"orientation\":\"v\",\"showlegend\":true,\"textposition\":\"auto\",\"x\":[\"kidney\",\"skin\",\"peritoneum\",\"background\"],\"xaxis\":\"x\",\"y\":[2,2,1,2],\"yaxis\":\"y\",\"type\":\"bar\"},{\"alignmentgroup\":\"True\",\"hovertemplate\":\"subject_name=SPACE_000091\\u003cbr\\u003especies_name=human\\u003cbr\\u003elabel_name=%{x}\\u003cbr\\u003en_images=%{y}\\u003cextra\\u003e\\u003c\\u002fextra\\u003e\",\"legendgroup\":\"SPACE_000091\",\"marker\":{\"color\":\"#DDCB76\",\"pattern\":{\"shape\":\"\"}},\"name\":\"SPACE_000091\",\"offsetgroup\":\"SPACE_000091\",\"orientation\":\"v\",\"showlegend\":true,\"textposition\":\"auto\",\"x\":[\"stomach\",\"small bowel\",\"colon\",\"liver\",\"spleen\",\"omentum\",\"skin\",\"background\"],\"xaxis\":\"x\",\"y\":[11,6,8,10,1,11,3,11],\"yaxis\":\"y\",\"type\":\"bar\"},{\"alignmentgroup\":\"True\",\"hovertemplate\":\"subject_name=SPACE_000092\\u003cbr\\u003especies_name=human\\u003cbr\\u003elabel_name=%{x}\\u003cbr\\u003en_images=%{y}\\u003cextra\\u003e\\u003c\\u002fextra\\u003e\",\"legendgroup\":\"SPACE_000092\",\"marker\":{\"color\":\"#DDCB76\",\"pattern\":{\"shape\":\"\"}},\"name\":\"SPACE_000092\",\"offsetgroup\":\"SPACE_000092\",\"orientation\":\"v\",\"showlegend\":true,\"textposition\":\"auto\",\"x\":[\"stomach\",\"small bowel\",\"colon\",\"liver\",\"omentum\",\"background\"],\"xaxis\":\"x\",\"y\":[1,1,1,2,2,2],\"yaxis\":\"y\",\"type\":\"bar\"},{\"alignmentgroup\":\"True\",\"hovertemplate\":\"subject_name=SPACE_000093\\u003cbr\\u003especies_name=human\\u003cbr\\u003elabel_name=%{x}\\u003cbr\\u003en_images=%{y}\\u003cextra\\u003e\\u003c\\u002fextra\\u003e\",\"legendgroup\":\"SPACE_000093\",\"marker\":{\"color\":\"#DDCB76\",\"pattern\":{\"shape\":\"\"}},\"name\":\"SPACE_000093\",\"offsetgroup\":\"SPACE_000093\",\"orientation\":\"v\",\"showlegend\":true,\"textposition\":\"auto\",\"x\":[\"small bowel\",\"colon\",\"omentum\",\"background\"],\"xaxis\":\"x\",\"y\":[1,2,2,2],\"yaxis\":\"y\",\"type\":\"bar\"},{\"alignmentgroup\":\"True\",\"hovertemplate\":\"subject_name=SPACE_000094\\u003cbr\\u003especies_name=human\\u003cbr\\u003elabel_name=%{x}\\u003cbr\\u003en_images=%{y}\\u003cextra\\u003e\\u003c\\u002fextra\\u003e\",\"legendgroup\":\"SPACE_000094\",\"marker\":{\"color\":\"#DDCB76\",\"pattern\":{\"shape\":\"\"}},\"name\":\"SPACE_000094\",\"offsetgroup\":\"SPACE_000094\",\"orientation\":\"v\",\"showlegend\":true,\"textposition\":\"auto\",\"x\":[\"small bowel\",\"colon\",\"pancreas\",\"omentum\",\"background\"],\"xaxis\":\"x\",\"y\":[1,1,1,1,2],\"yaxis\":\"y\",\"type\":\"bar\"},{\"alignmentgroup\":\"True\",\"hovertemplate\":\"subject_name=SPACE_000095\\u003cbr\\u003especies_name=human\\u003cbr\\u003elabel_name=%{x}\\u003cbr\\u003en_images=%{y}\\u003cextra\\u003e\\u003c\\u002fextra\\u003e\",\"legendgroup\":\"SPACE_000095\",\"marker\":{\"color\":\"#DDCB76\",\"pattern\":{\"shape\":\"\"}},\"name\":\"SPACE_000095\",\"offsetgroup\":\"SPACE_000095\",\"orientation\":\"v\",\"showlegend\":true,\"textposition\":\"auto\",\"x\":[\"kidney\",\"skin\",\"peritoneum\",\"background\"],\"xaxis\":\"x\",\"y\":[5,5,5,5],\"yaxis\":\"y\",\"type\":\"bar\"},{\"alignmentgroup\":\"True\",\"hovertemplate\":\"subject_name=SPACE_000096\\u003cbr\\u003especies_name=human\\u003cbr\\u003elabel_name=%{x}\\u003cbr\\u003en_images=%{y}\\u003cextra\\u003e\\u003c\\u002fextra\\u003e\",\"legendgroup\":\"SPACE_000096\",\"marker\":{\"color\":\"#DDCB76\",\"pattern\":{\"shape\":\"\"}},\"name\":\"SPACE_000096\",\"offsetgroup\":\"SPACE_000096\",\"orientation\":\"v\",\"showlegend\":true,\"textposition\":\"auto\",\"x\":[\"stomach\",\"small bowel\",\"colon\",\"liver\",\"omentum\",\"background\"],\"xaxis\":\"x\",\"y\":[2,2,1,1,2,2],\"yaxis\":\"y\",\"type\":\"bar\"},{\"alignmentgroup\":\"True\",\"hovertemplate\":\"subject_name=SPACE_000097\\u003cbr\\u003especies_name=human\\u003cbr\\u003elabel_name=%{x}\\u003cbr\\u003en_images=%{y}\\u003cextra\\u003e\\u003c\\u002fextra\\u003e\",\"legendgroup\":\"SPACE_000097\",\"marker\":{\"color\":\"#DDCB76\",\"pattern\":{\"shape\":\"\"}},\"name\":\"SPACE_000097\",\"offsetgroup\":\"SPACE_000097\",\"orientation\":\"v\",\"showlegend\":true,\"textposition\":\"auto\",\"x\":[\"small bowel\",\"colon\",\"liver\",\"lung\",\"skin\",\"background\"],\"xaxis\":\"x\",\"y\":[1,1,3,9,10,11],\"yaxis\":\"y\",\"type\":\"bar\"},{\"alignmentgroup\":\"True\",\"hovertemplate\":\"subject_name=SPACE_000098\\u003cbr\\u003especies_name=human\\u003cbr\\u003elabel_name=%{x}\\u003cbr\\u003en_images=%{y}\\u003cextra\\u003e\\u003c\\u002fextra\\u003e\",\"legendgroup\":\"SPACE_000098\",\"marker\":{\"color\":\"#DDCB76\",\"pattern\":{\"shape\":\"\"}},\"name\":\"SPACE_000098\",\"offsetgroup\":\"SPACE_000098\",\"orientation\":\"v\",\"showlegend\":true,\"textposition\":\"auto\",\"x\":[\"stomach\",\"small bowel\",\"liver\",\"omentum\",\"background\"],\"xaxis\":\"x\",\"y\":[1,1,2,1,2],\"yaxis\":\"y\",\"type\":\"bar\"},{\"alignmentgroup\":\"True\",\"hovertemplate\":\"subject_name=SPACE_000099\\u003cbr\\u003especies_name=human\\u003cbr\\u003elabel_name=%{x}\\u003cbr\\u003en_images=%{y}\\u003cextra\\u003e\\u003c\\u002fextra\\u003e\",\"legendgroup\":\"SPACE_000099\",\"marker\":{\"color\":\"#DDCB76\",\"pattern\":{\"shape\":\"\"}},\"name\":\"SPACE_000099\",\"offsetgroup\":\"SPACE_000099\",\"orientation\":\"v\",\"showlegend\":true,\"textposition\":\"auto\",\"x\":[\"small bowel\",\"colon\",\"liver\",\"omentum\",\"background\"],\"xaxis\":\"x\",\"y\":[2,2,2,1,2],\"yaxis\":\"y\",\"type\":\"bar\"},{\"alignmentgroup\":\"True\",\"hovertemplate\":\"subject_name=SPACE_000100\\u003cbr\\u003especies_name=human\\u003cbr\\u003elabel_name=%{x}\\u003cbr\\u003en_images=%{y}\\u003cextra\\u003e\\u003c\\u002fextra\\u003e\",\"legendgroup\":\"SPACE_000100\",\"marker\":{\"color\":\"#DDCB76\",\"pattern\":{\"shape\":\"\"}},\"name\":\"SPACE_000100\",\"offsetgroup\":\"SPACE_000100\",\"orientation\":\"v\",\"showlegend\":true,\"textposition\":\"auto\",\"x\":[\"stomach\",\"small bowel\",\"colon\",\"liver\",\"omentum\",\"background\"],\"xaxis\":\"x\",\"y\":[5,2,5,8,8,8],\"yaxis\":\"y\",\"type\":\"bar\"},{\"alignmentgroup\":\"True\",\"hovertemplate\":\"subject_name=SPACE_000101\\u003cbr\\u003especies_name=human\\u003cbr\\u003elabel_name=%{x}\\u003cbr\\u003en_images=%{y}\\u003cextra\\u003e\\u003c\\u002fextra\\u003e\",\"legendgroup\":\"SPACE_000101\",\"marker\":{\"color\":\"#DDCB76\",\"pattern\":{\"shape\":\"\"}},\"name\":\"SPACE_000101\",\"offsetgroup\":\"SPACE_000101\",\"orientation\":\"v\",\"showlegend\":true,\"textposition\":\"auto\",\"x\":[\"small bowel\",\"colon\",\"liver\",\"background\"],\"xaxis\":\"x\",\"y\":[2,1,1,2],\"yaxis\":\"y\",\"type\":\"bar\"},{\"alignmentgroup\":\"True\",\"hovertemplate\":\"subject_name=SPACE_000102\\u003cbr\\u003especies_name=human\\u003cbr\\u003elabel_name=%{x}\\u003cbr\\u003en_images=%{y}\\u003cextra\\u003e\\u003c\\u002fextra\\u003e\",\"legendgroup\":\"SPACE_000102\",\"marker\":{\"color\":\"#DDCB76\",\"pattern\":{\"shape\":\"\"}},\"name\":\"SPACE_000102\",\"offsetgroup\":\"SPACE_000102\",\"orientation\":\"v\",\"showlegend\":true,\"textposition\":\"auto\",\"x\":[\"kidney\",\"skin\",\"peritoneum\",\"background\"],\"xaxis\":\"x\",\"y\":[4,4,4,4],\"yaxis\":\"y\",\"type\":\"bar\"},{\"alignmentgroup\":\"True\",\"hovertemplate\":\"subject_name=SPACE_000103\\u003cbr\\u003especies_name=human\\u003cbr\\u003elabel_name=%{x}\\u003cbr\\u003en_images=%{y}\\u003cextra\\u003e\\u003c\\u002fextra\\u003e\",\"legendgroup\":\"SPACE_000103\",\"marker\":{\"color\":\"#DDCB76\",\"pattern\":{\"shape\":\"\"}},\"name\":\"SPACE_000103\",\"offsetgroup\":\"SPACE_000103\",\"orientation\":\"v\",\"showlegend\":true,\"textposition\":\"auto\",\"x\":[\"stomach\",\"small bowel\",\"colon\",\"liver\",\"pancreas\",\"spleen\",\"omentum\",\"background\"],\"xaxis\":\"x\",\"y\":[1,3,4,5,4,4,5,5],\"yaxis\":\"y\",\"type\":\"bar\"},{\"alignmentgroup\":\"True\",\"hovertemplate\":\"subject_name=SPACE_000104\\u003cbr\\u003especies_name=human\\u003cbr\\u003elabel_name=%{x}\\u003cbr\\u003en_images=%{y}\\u003cextra\\u003e\\u003c\\u002fextra\\u003e\",\"legendgroup\":\"SPACE_000104\",\"marker\":{\"color\":\"#DDCB76\",\"pattern\":{\"shape\":\"\"}},\"name\":\"SPACE_000104\",\"offsetgroup\":\"SPACE_000104\",\"orientation\":\"v\",\"showlegend\":true,\"textposition\":\"auto\",\"x\":[\"small bowel\",\"colon\",\"omentum\",\"lung\",\"skin\",\"background\"],\"xaxis\":\"x\",\"y\":[1,1,1,8,8,10],\"yaxis\":\"y\",\"type\":\"bar\"},{\"alignmentgroup\":\"True\",\"hovertemplate\":\"subject_name=SPACE_000105\\u003cbr\\u003especies_name=human\\u003cbr\\u003elabel_name=%{x}\\u003cbr\\u003en_images=%{y}\\u003cextra\\u003e\\u003c\\u002fextra\\u003e\",\"legendgroup\":\"SPACE_000105\",\"marker\":{\"color\":\"#DDCB76\",\"pattern\":{\"shape\":\"\"}},\"name\":\"SPACE_000105\",\"offsetgroup\":\"SPACE_000105\",\"orientation\":\"v\",\"showlegend\":true,\"textposition\":\"auto\",\"x\":[\"kidney\",\"skin\",\"peritoneum\",\"background\"],\"xaxis\":\"x\",\"y\":[5,5,3,5],\"yaxis\":\"y\",\"type\":\"bar\"},{\"alignmentgroup\":\"True\",\"hovertemplate\":\"subject_name=SPACE_000106\\u003cbr\\u003especies_name=human\\u003cbr\\u003elabel_name=%{x}\\u003cbr\\u003en_images=%{y}\\u003cextra\\u003e\\u003c\\u002fextra\\u003e\",\"legendgroup\":\"SPACE_000106\",\"marker\":{\"color\":\"#DDCB76\",\"pattern\":{\"shape\":\"\"}},\"name\":\"SPACE_000106\",\"offsetgroup\":\"SPACE_000106\",\"orientation\":\"v\",\"showlegend\":true,\"textposition\":\"auto\",\"x\":[\"kidney\"],\"xaxis\":\"x\",\"y\":[13],\"yaxis\":\"y\",\"type\":\"bar\"},{\"alignmentgroup\":\"True\",\"hovertemplate\":\"subject_name=SPACE_000107\\u003cbr\\u003especies_name=human\\u003cbr\\u003elabel_name=%{x}\\u003cbr\\u003en_images=%{y}\\u003cextra\\u003e\\u003c\\u002fextra\\u003e\",\"legendgroup\":\"SPACE_000107\",\"marker\":{\"color\":\"#DDCB76\",\"pattern\":{\"shape\":\"\"}},\"name\":\"SPACE_000107\",\"offsetgroup\":\"SPACE_000107\",\"orientation\":\"v\",\"showlegend\":true,\"textposition\":\"auto\",\"x\":[\"small bowel\",\"liver\",\"omentum\",\"background\"],\"xaxis\":\"x\",\"y\":[1,2,1,2],\"yaxis\":\"y\",\"type\":\"bar\"},{\"alignmentgroup\":\"True\",\"hovertemplate\":\"subject_name=SPACE_000108\\u003cbr\\u003especies_name=human\\u003cbr\\u003elabel_name=%{x}\\u003cbr\\u003en_images=%{y}\\u003cextra\\u003e\\u003c\\u002fextra\\u003e\",\"legendgroup\":\"SPACE_000108\",\"marker\":{\"color\":\"#DDCB76\",\"pattern\":{\"shape\":\"\"}},\"name\":\"SPACE_000108\",\"offsetgroup\":\"SPACE_000108\",\"orientation\":\"v\",\"showlegend\":true,\"textposition\":\"auto\",\"x\":[\"kidney\",\"skin\",\"background\"],\"xaxis\":\"x\",\"y\":[2,2,2],\"yaxis\":\"y\",\"type\":\"bar\"},{\"alignmentgroup\":\"True\",\"hovertemplate\":\"subject_name=SPACE_000109\\u003cbr\\u003especies_name=human\\u003cbr\\u003elabel_name=%{x}\\u003cbr\\u003en_images=%{y}\\u003cextra\\u003e\\u003c\\u002fextra\\u003e\",\"legendgroup\":\"SPACE_000109\",\"marker\":{\"color\":\"#DDCB76\",\"pattern\":{\"shape\":\"\"}},\"name\":\"SPACE_000109\",\"offsetgroup\":\"SPACE_000109\",\"orientation\":\"v\",\"showlegend\":true,\"textposition\":\"auto\",\"x\":[\"kidney\",\"skin\",\"background\"],\"xaxis\":\"x\",\"y\":[1,2,2],\"yaxis\":\"y\",\"type\":\"bar\"},{\"alignmentgroup\":\"True\",\"hovertemplate\":\"subject_name=SPACE_000110\\u003cbr\\u003especies_name=human\\u003cbr\\u003elabel_name=%{x}\\u003cbr\\u003en_images=%{y}\\u003cextra\\u003e\\u003c\\u002fextra\\u003e\",\"legendgroup\":\"SPACE_000110\",\"marker\":{\"color\":\"#DDCB76\",\"pattern\":{\"shape\":\"\"}},\"name\":\"SPACE_000110\",\"offsetgroup\":\"SPACE_000110\",\"orientation\":\"v\",\"showlegend\":true,\"textposition\":\"auto\",\"x\":[\"stomach\",\"small bowel\",\"colon\",\"liver\",\"omentum\",\"skin\",\"peritoneum\",\"background\"],\"xaxis\":\"x\",\"y\":[4,1,4,4,4,2,2,4],\"yaxis\":\"y\",\"type\":\"bar\"},{\"alignmentgroup\":\"True\",\"hovertemplate\":\"subject_name=SPACE_000111\\u003cbr\\u003especies_name=human\\u003cbr\\u003elabel_name=%{x}\\u003cbr\\u003en_images=%{y}\\u003cextra\\u003e\\u003c\\u002fextra\\u003e\",\"legendgroup\":\"SPACE_000111\",\"marker\":{\"color\":\"#DDCB76\",\"pattern\":{\"shape\":\"\"}},\"name\":\"SPACE_000111\",\"offsetgroup\":\"SPACE_000111\",\"orientation\":\"v\",\"showlegend\":true,\"textposition\":\"auto\",\"x\":[\"stomach\",\"small bowel\",\"colon\",\"liver\",\"omentum\",\"skin\",\"peritoneum\",\"background\"],\"xaxis\":\"x\",\"y\":[5,7,4,7,8,6,7,8],\"yaxis\":\"y\",\"type\":\"bar\"},{\"alignmentgroup\":\"True\",\"hovertemplate\":\"subject_name=SPACE_000112\\u003cbr\\u003especies_name=human\\u003cbr\\u003elabel_name=%{x}\\u003cbr\\u003en_images=%{y}\\u003cextra\\u003e\\u003c\\u002fextra\\u003e\",\"legendgroup\":\"SPACE_000112\",\"marker\":{\"color\":\"#DDCB76\",\"pattern\":{\"shape\":\"\"}},\"name\":\"SPACE_000112\",\"offsetgroup\":\"SPACE_000112\",\"orientation\":\"v\",\"showlegend\":true,\"textposition\":\"auto\",\"x\":[\"kidney\",\"skin\",\"peritoneum\",\"background\"],\"xaxis\":\"x\",\"y\":[11,10,6,11],\"yaxis\":\"y\",\"type\":\"bar\"},{\"alignmentgroup\":\"True\",\"hovertemplate\":\"subject_name=SPACE_000113\\u003cbr\\u003especies_name=human\\u003cbr\\u003elabel_name=%{x}\\u003cbr\\u003en_images=%{y}\\u003cextra\\u003e\\u003c\\u002fextra\\u003e\",\"legendgroup\":\"SPACE_000113\",\"marker\":{\"color\":\"#DDCB76\",\"pattern\":{\"shape\":\"\"}},\"name\":\"SPACE_000113\",\"offsetgroup\":\"SPACE_000113\",\"orientation\":\"v\",\"showlegend\":true,\"textposition\":\"auto\",\"x\":[\"kidney\",\"skin\",\"peritoneum\",\"background\"],\"xaxis\":\"x\",\"y\":[4,4,4,4],\"yaxis\":\"y\",\"type\":\"bar\"},{\"alignmentgroup\":\"True\",\"hovertemplate\":\"subject_name=SPACE_000115\\u003cbr\\u003especies_name=human\\u003cbr\\u003elabel_name=%{x}\\u003cbr\\u003en_images=%{y}\\u003cextra\\u003e\\u003c\\u002fextra\\u003e\",\"legendgroup\":\"SPACE_000115\",\"marker\":{\"color\":\"#DDCB76\",\"pattern\":{\"shape\":\"\"}},\"name\":\"SPACE_000115\",\"offsetgroup\":\"SPACE_000115\",\"orientation\":\"v\",\"showlegend\":true,\"textposition\":\"auto\",\"x\":[\"colon\",\"kidney\",\"skin\",\"background\"],\"xaxis\":\"x\",\"y\":[1,2,2,2],\"yaxis\":\"y\",\"type\":\"bar\"},{\"alignmentgroup\":\"True\",\"hovertemplate\":\"subject_name=SPACE_000116\\u003cbr\\u003especies_name=human\\u003cbr\\u003elabel_name=%{x}\\u003cbr\\u003en_images=%{y}\\u003cextra\\u003e\\u003c\\u002fextra\\u003e\",\"legendgroup\":\"SPACE_000116\",\"marker\":{\"color\":\"#DDCB76\",\"pattern\":{\"shape\":\"\"}},\"name\":\"SPACE_000116\",\"offsetgroup\":\"SPACE_000116\",\"orientation\":\"v\",\"showlegend\":true,\"textposition\":\"auto\",\"x\":[\"stomach\",\"liver\",\"omentum\",\"skin\",\"peritoneum\",\"background\"],\"xaxis\":\"x\",\"y\":[2,2,2,2,2,2],\"yaxis\":\"y\",\"type\":\"bar\"},{\"alignmentgroup\":\"True\",\"hovertemplate\":\"subject_name=SPACE_000118\\u003cbr\\u003especies_name=human\\u003cbr\\u003elabel_name=%{x}\\u003cbr\\u003en_images=%{y}\\u003cextra\\u003e\\u003c\\u002fextra\\u003e\",\"legendgroup\":\"SPACE_000118\",\"marker\":{\"color\":\"#DDCB76\",\"pattern\":{\"shape\":\"\"}},\"name\":\"SPACE_000118\",\"offsetgroup\":\"SPACE_000118\",\"orientation\":\"v\",\"showlegend\":true,\"textposition\":\"auto\",\"x\":[\"kidney\",\"skin\",\"peritoneum\",\"background\"],\"xaxis\":\"x\",\"y\":[5,5,4,5],\"yaxis\":\"y\",\"type\":\"bar\"},{\"alignmentgroup\":\"True\",\"hovertemplate\":\"subject_name=SPACE_000119\\u003cbr\\u003especies_name=human\\u003cbr\\u003elabel_name=%{x}\\u003cbr\\u003en_images=%{y}\\u003cextra\\u003e\\u003c\\u002fextra\\u003e\",\"legendgroup\":\"SPACE_000119\",\"marker\":{\"color\":\"#DDCB76\",\"pattern\":{\"shape\":\"\"}},\"name\":\"SPACE_000119\",\"offsetgroup\":\"SPACE_000119\",\"orientation\":\"v\",\"showlegend\":true,\"textposition\":\"auto\",\"x\":[\"stomach\",\"small bowel\",\"colon\",\"liver\",\"omentum\",\"skin\",\"peritoneum\",\"background\"],\"xaxis\":\"x\",\"y\":[4,6,6,6,5,4,5,6],\"yaxis\":\"y\",\"type\":\"bar\"},{\"alignmentgroup\":\"True\",\"hovertemplate\":\"subject_name=SPACE_000120\\u003cbr\\u003especies_name=human\\u003cbr\\u003elabel_name=%{x}\\u003cbr\\u003en_images=%{y}\\u003cextra\\u003e\\u003c\\u002fextra\\u003e\",\"legendgroup\":\"SPACE_000120\",\"marker\":{\"color\":\"#DDCB76\",\"pattern\":{\"shape\":\"\"}},\"name\":\"SPACE_000120\",\"offsetgroup\":\"SPACE_000120\",\"orientation\":\"v\",\"showlegend\":true,\"textposition\":\"auto\",\"x\":[\"kidney\",\"skin\",\"background\"],\"xaxis\":\"x\",\"y\":[2,2,2],\"yaxis\":\"y\",\"type\":\"bar\"},{\"alignmentgroup\":\"True\",\"hovertemplate\":\"subject_name=SPACE_000121\\u003cbr\\u003especies_name=human\\u003cbr\\u003elabel_name=%{x}\\u003cbr\\u003en_images=%{y}\\u003cextra\\u003e\\u003c\\u002fextra\\u003e\",\"legendgroup\":\"SPACE_000121\",\"marker\":{\"color\":\"#DDCB76\",\"pattern\":{\"shape\":\"\"}},\"name\":\"SPACE_000121\",\"offsetgroup\":\"SPACE_000121\",\"orientation\":\"v\",\"showlegend\":true,\"textposition\":\"auto\",\"x\":[\"kidney\",\"skin\",\"peritoneum\",\"background\"],\"xaxis\":\"x\",\"y\":[3,3,1,3],\"yaxis\":\"y\",\"type\":\"bar\"},{\"alignmentgroup\":\"True\",\"hovertemplate\":\"subject_name=SPACE_000122\\u003cbr\\u003especies_name=human\\u003cbr\\u003elabel_name=%{x}\\u003cbr\\u003en_images=%{y}\\u003cextra\\u003e\\u003c\\u002fextra\\u003e\",\"legendgroup\":\"SPACE_000122\",\"marker\":{\"color\":\"#DDCB76\",\"pattern\":{\"shape\":\"\"}},\"name\":\"SPACE_000122\",\"offsetgroup\":\"SPACE_000122\",\"orientation\":\"v\",\"showlegend\":true,\"textposition\":\"auto\",\"x\":[\"kidney\"],\"xaxis\":\"x\",\"y\":[5],\"yaxis\":\"y\",\"type\":\"bar\"},{\"alignmentgroup\":\"True\",\"hovertemplate\":\"subject_name=SPACE_000123\\u003cbr\\u003especies_name=human\\u003cbr\\u003elabel_name=%{x}\\u003cbr\\u003en_images=%{y}\\u003cextra\\u003e\\u003c\\u002fextra\\u003e\",\"legendgroup\":\"SPACE_000123\",\"marker\":{\"color\":\"#DDCB76\",\"pattern\":{\"shape\":\"\"}},\"name\":\"SPACE_000123\",\"offsetgroup\":\"SPACE_000123\",\"orientation\":\"v\",\"showlegend\":true,\"textposition\":\"auto\",\"x\":[\"stomach\",\"liver\",\"omentum\",\"skin\",\"peritoneum\",\"background\"],\"xaxis\":\"x\",\"y\":[3,7,1,6,6,5],\"yaxis\":\"y\",\"type\":\"bar\"},{\"alignmentgroup\":\"True\",\"hovertemplate\":\"subject_name=SPACE_000124\\u003cbr\\u003especies_name=human\\u003cbr\\u003elabel_name=%{x}\\u003cbr\\u003en_images=%{y}\\u003cextra\\u003e\\u003c\\u002fextra\\u003e\",\"legendgroup\":\"SPACE_000124\",\"marker\":{\"color\":\"#DDCB76\",\"pattern\":{\"shape\":\"\"}},\"name\":\"SPACE_000124\",\"offsetgroup\":\"SPACE_000124\",\"orientation\":\"v\",\"showlegend\":true,\"textposition\":\"auto\",\"x\":[\"stomach\",\"small bowel\",\"colon\",\"liver\",\"pancreas\",\"omentum\",\"background\"],\"xaxis\":\"x\",\"y\":[1,1,1,3,2,3,3],\"yaxis\":\"y\",\"type\":\"bar\"},{\"alignmentgroup\":\"True\",\"hovertemplate\":\"subject_name=SPACE_000125\\u003cbr\\u003especies_name=human\\u003cbr\\u003elabel_name=%{x}\\u003cbr\\u003en_images=%{y}\\u003cextra\\u003e\\u003c\\u002fextra\\u003e\",\"legendgroup\":\"SPACE_000125\",\"marker\":{\"color\":\"#DDCB76\",\"pattern\":{\"shape\":\"\"}},\"name\":\"SPACE_000125\",\"offsetgroup\":\"SPACE_000125\",\"orientation\":\"v\",\"showlegend\":true,\"textposition\":\"auto\",\"x\":[\"small bowel\",\"colon\",\"liver\",\"omentum\",\"background\"],\"xaxis\":\"x\",\"y\":[2,2,2,2,2],\"yaxis\":\"y\",\"type\":\"bar\"},{\"alignmentgroup\":\"True\",\"hovertemplate\":\"subject_name=SPACE_000126\\u003cbr\\u003especies_name=human\\u003cbr\\u003elabel_name=%{x}\\u003cbr\\u003en_images=%{y}\\u003cextra\\u003e\\u003c\\u002fextra\\u003e\",\"legendgroup\":\"SPACE_000126\",\"marker\":{\"color\":\"#DDCB76\",\"pattern\":{\"shape\":\"\"}},\"name\":\"SPACE_000126\",\"offsetgroup\":\"SPACE_000126\",\"orientation\":\"v\",\"showlegend\":true,\"textposition\":\"auto\",\"x\":[\"small bowel\",\"colon\",\"liver\",\"omentum\",\"background\"],\"xaxis\":\"x\",\"y\":[2,1,2,2,2],\"yaxis\":\"y\",\"type\":\"bar\"},{\"alignmentgroup\":\"True\",\"hovertemplate\":\"subject_name=SPACE_000127\\u003cbr\\u003especies_name=human\\u003cbr\\u003elabel_name=%{x}\\u003cbr\\u003en_images=%{y}\\u003cextra\\u003e\\u003c\\u002fextra\\u003e\",\"legendgroup\":\"SPACE_000127\",\"marker\":{\"color\":\"#DDCB76\",\"pattern\":{\"shape\":\"\"}},\"name\":\"SPACE_000127\",\"offsetgroup\":\"SPACE_000127\",\"orientation\":\"v\",\"showlegend\":true,\"textposition\":\"auto\",\"x\":[\"colon\",\"liver\",\"omentum\",\"background\"],\"xaxis\":\"x\",\"y\":[2,2,2,2],\"yaxis\":\"y\",\"type\":\"bar\"},{\"alignmentgroup\":\"True\",\"hovertemplate\":\"subject_name=SPACE_000128\\u003cbr\\u003especies_name=human\\u003cbr\\u003elabel_name=%{x}\\u003cbr\\u003en_images=%{y}\\u003cextra\\u003e\\u003c\\u002fextra\\u003e\",\"legendgroup\":\"SPACE_000128\",\"marker\":{\"color\":\"#DDCB76\",\"pattern\":{\"shape\":\"\"}},\"name\":\"SPACE_000128\",\"offsetgroup\":\"SPACE_000128\",\"orientation\":\"v\",\"showlegend\":true,\"textposition\":\"auto\",\"x\":[\"stomach\",\"small bowel\",\"liver\",\"spleen\",\"omentum\",\"skin\",\"background\"],\"xaxis\":\"x\",\"y\":[1,2,3,2,3,2,3],\"yaxis\":\"y\",\"type\":\"bar\"},{\"alignmentgroup\":\"True\",\"hovertemplate\":\"subject_name=SPACE_000129\\u003cbr\\u003especies_name=human\\u003cbr\\u003elabel_name=%{x}\\u003cbr\\u003en_images=%{y}\\u003cextra\\u003e\\u003c\\u002fextra\\u003e\",\"legendgroup\":\"SPACE_000129\",\"marker\":{\"color\":\"#DDCB76\",\"pattern\":{\"shape\":\"\"}},\"name\":\"SPACE_000129\",\"offsetgroup\":\"SPACE_000129\",\"orientation\":\"v\",\"showlegend\":true,\"textposition\":\"auto\",\"x\":[\"kidney\",\"skin\",\"background\"],\"xaxis\":\"x\",\"y\":[5,5,5],\"yaxis\":\"y\",\"type\":\"bar\"},{\"alignmentgroup\":\"True\",\"hovertemplate\":\"subject_name=SPACE_000130\\u003cbr\\u003especies_name=human\\u003cbr\\u003elabel_name=%{x}\\u003cbr\\u003en_images=%{y}\\u003cextra\\u003e\\u003c\\u002fextra\\u003e\",\"legendgroup\":\"SPACE_000130\",\"marker\":{\"color\":\"#DDCB76\",\"pattern\":{\"shape\":\"\"}},\"name\":\"SPACE_000130\",\"offsetgroup\":\"SPACE_000130\",\"orientation\":\"v\",\"showlegend\":true,\"textposition\":\"auto\",\"x\":[\"kidney\"],\"xaxis\":\"x\",\"y\":[3],\"yaxis\":\"y\",\"type\":\"bar\"},{\"alignmentgroup\":\"True\",\"hovertemplate\":\"subject_name=SPACE_000131\\u003cbr\\u003especies_name=human\\u003cbr\\u003elabel_name=%{x}\\u003cbr\\u003en_images=%{y}\\u003cextra\\u003e\\u003c\\u002fextra\\u003e\",\"legendgroup\":\"SPACE_000131\",\"marker\":{\"color\":\"#DDCB76\",\"pattern\":{\"shape\":\"\"}},\"name\":\"SPACE_000131\",\"offsetgroup\":\"SPACE_000131\",\"orientation\":\"v\",\"showlegend\":true,\"textposition\":\"auto\",\"x\":[\"kidney\",\"skin\",\"peritoneum\",\"background\"],\"xaxis\":\"x\",\"y\":[2,1,1,2],\"yaxis\":\"y\",\"type\":\"bar\"},{\"alignmentgroup\":\"True\",\"hovertemplate\":\"subject_name=SPACE_000132\\u003cbr\\u003especies_name=human\\u003cbr\\u003elabel_name=%{x}\\u003cbr\\u003en_images=%{y}\\u003cextra\\u003e\\u003c\\u002fextra\\u003e\",\"legendgroup\":\"SPACE_000132\",\"marker\":{\"color\":\"#DDCB76\",\"pattern\":{\"shape\":\"\"}},\"name\":\"SPACE_000132\",\"offsetgroup\":\"SPACE_000132\",\"orientation\":\"v\",\"showlegend\":true,\"textposition\":\"auto\",\"x\":[\"stomach\",\"small bowel\",\"omentum\",\"background\"],\"xaxis\":\"x\",\"y\":[2,2,2,2],\"yaxis\":\"y\",\"type\":\"bar\"},{\"alignmentgroup\":\"True\",\"hovertemplate\":\"subject_name=SPACE_000133\\u003cbr\\u003especies_name=human\\u003cbr\\u003elabel_name=%{x}\\u003cbr\\u003en_images=%{y}\\u003cextra\\u003e\\u003c\\u002fextra\\u003e\",\"legendgroup\":\"SPACE_000133\",\"marker\":{\"color\":\"#DDCB76\",\"pattern\":{\"shape\":\"\"}},\"name\":\"SPACE_000133\",\"offsetgroup\":\"SPACE_000133\",\"orientation\":\"v\",\"showlegend\":true,\"textposition\":\"auto\",\"x\":[\"liver\",\"skin\",\"peritoneum\",\"background\"],\"xaxis\":\"x\",\"y\":[2,1,1,2],\"yaxis\":\"y\",\"type\":\"bar\"},{\"alignmentgroup\":\"True\",\"hovertemplate\":\"subject_name=SPACE_000134\\u003cbr\\u003especies_name=human\\u003cbr\\u003elabel_name=%{x}\\u003cbr\\u003en_images=%{y}\\u003cextra\\u003e\\u003c\\u002fextra\\u003e\",\"legendgroup\":\"SPACE_000134\",\"marker\":{\"color\":\"#DDCB76\",\"pattern\":{\"shape\":\"\"}},\"name\":\"SPACE_000134\",\"offsetgroup\":\"SPACE_000134\",\"orientation\":\"v\",\"showlegend\":true,\"textposition\":\"auto\",\"x\":[\"stomach\",\"colon\",\"liver\",\"omentum\",\"skin\",\"background\"],\"xaxis\":\"x\",\"y\":[1,1,2,2,1,2],\"yaxis\":\"y\",\"type\":\"bar\"},{\"alignmentgroup\":\"True\",\"hovertemplate\":\"subject_name=SPACE_000135\\u003cbr\\u003especies_name=human\\u003cbr\\u003elabel_name=%{x}\\u003cbr\\u003en_images=%{y}\\u003cextra\\u003e\\u003c\\u002fextra\\u003e\",\"legendgroup\":\"SPACE_000135\",\"marker\":{\"color\":\"#DDCB76\",\"pattern\":{\"shape\":\"\"}},\"name\":\"SPACE_000135\",\"offsetgroup\":\"SPACE_000135\",\"orientation\":\"v\",\"showlegend\":true,\"textposition\":\"auto\",\"x\":[\"stomach\",\"liver\",\"omentum\",\"background\"],\"xaxis\":\"x\",\"y\":[2,2,2,2],\"yaxis\":\"y\",\"type\":\"bar\"},{\"alignmentgroup\":\"True\",\"hovertemplate\":\"subject_name=SPACE_000136\\u003cbr\\u003especies_name=human\\u003cbr\\u003elabel_name=%{x}\\u003cbr\\u003en_images=%{y}\\u003cextra\\u003e\\u003c\\u002fextra\\u003e\",\"legendgroup\":\"SPACE_000136\",\"marker\":{\"color\":\"#DDCB76\",\"pattern\":{\"shape\":\"\"}},\"name\":\"SPACE_000136\",\"offsetgroup\":\"SPACE_000136\",\"orientation\":\"v\",\"showlegend\":true,\"textposition\":\"auto\",\"x\":[\"kidney\"],\"xaxis\":\"x\",\"y\":[5],\"yaxis\":\"y\",\"type\":\"bar\"},{\"alignmentgroup\":\"True\",\"hovertemplate\":\"subject_name=SPACE_000137\\u003cbr\\u003especies_name=human\\u003cbr\\u003elabel_name=%{x}\\u003cbr\\u003en_images=%{y}\\u003cextra\\u003e\\u003c\\u002fextra\\u003e\",\"legendgroup\":\"SPACE_000137\",\"marker\":{\"color\":\"#DDCB76\",\"pattern\":{\"shape\":\"\"}},\"name\":\"SPACE_000137\",\"offsetgroup\":\"SPACE_000137\",\"orientation\":\"v\",\"showlegend\":true,\"textposition\":\"auto\",\"x\":[\"small bowel\",\"liver\",\"pancreas\",\"omentum\",\"background\"],\"xaxis\":\"x\",\"y\":[4,3,4,4,4],\"yaxis\":\"y\",\"type\":\"bar\"},{\"alignmentgroup\":\"True\",\"hovertemplate\":\"subject_name=SPACE_000138\\u003cbr\\u003especies_name=human\\u003cbr\\u003elabel_name=%{x}\\u003cbr\\u003en_images=%{y}\\u003cextra\\u003e\\u003c\\u002fextra\\u003e\",\"legendgroup\":\"SPACE_000138\",\"marker\":{\"color\":\"#DDCB76\",\"pattern\":{\"shape\":\"\"}},\"name\":\"SPACE_000138\",\"offsetgroup\":\"SPACE_000138\",\"orientation\":\"v\",\"showlegend\":true,\"textposition\":\"auto\",\"x\":[\"small bowel\",\"colon\",\"liver\",\"omentum\",\"lung\",\"skin\",\"background\"],\"xaxis\":\"x\",\"y\":[1,1,1,1,5,5,6],\"yaxis\":\"y\",\"type\":\"bar\"},{\"alignmentgroup\":\"True\",\"hovertemplate\":\"subject_name=SPACE_000139\\u003cbr\\u003especies_name=human\\u003cbr\\u003elabel_name=%{x}\\u003cbr\\u003en_images=%{y}\\u003cextra\\u003e\\u003c\\u002fextra\\u003e\",\"legendgroup\":\"SPACE_000139\",\"marker\":{\"color\":\"#DDCB76\",\"pattern\":{\"shape\":\"\"}},\"name\":\"SPACE_000139\",\"offsetgroup\":\"SPACE_000139\",\"orientation\":\"v\",\"showlegend\":true,\"textposition\":\"auto\",\"x\":[\"small bowel\",\"liver\",\"omentum\",\"background\"],\"xaxis\":\"x\",\"y\":[1,2,2,2],\"yaxis\":\"y\",\"type\":\"bar\"},{\"alignmentgroup\":\"True\",\"hovertemplate\":\"subject_name=SPACE_000140\\u003cbr\\u003especies_name=human\\u003cbr\\u003elabel_name=%{x}\\u003cbr\\u003en_images=%{y}\\u003cextra\\u003e\\u003c\\u002fextra\\u003e\",\"legendgroup\":\"SPACE_000140\",\"marker\":{\"color\":\"#DDCB76\",\"pattern\":{\"shape\":\"\"}},\"name\":\"SPACE_000140\",\"offsetgroup\":\"SPACE_000140\",\"orientation\":\"v\",\"showlegend\":true,\"textposition\":\"auto\",\"x\":[\"skin\",\"background\"],\"xaxis\":\"x\",\"y\":[2,2],\"yaxis\":\"y\",\"type\":\"bar\"},{\"alignmentgroup\":\"True\",\"hovertemplate\":\"subject_name=SPACE_000141\\u003cbr\\u003especies_name=human\\u003cbr\\u003elabel_name=%{x}\\u003cbr\\u003en_images=%{y}\\u003cextra\\u003e\\u003c\\u002fextra\\u003e\",\"legendgroup\":\"SPACE_000141\",\"marker\":{\"color\":\"#DDCB76\",\"pattern\":{\"shape\":\"\"}},\"name\":\"SPACE_000141\",\"offsetgroup\":\"SPACE_000141\",\"orientation\":\"v\",\"showlegend\":true,\"textposition\":\"auto\",\"x\":[\"stomach\",\"colon\",\"liver\",\"omentum\",\"background\"],\"xaxis\":\"x\",\"y\":[3,2,3,3,3],\"yaxis\":\"y\",\"type\":\"bar\"},{\"alignmentgroup\":\"True\",\"hovertemplate\":\"subject_name=SPACE_000142\\u003cbr\\u003especies_name=human\\u003cbr\\u003elabel_name=%{x}\\u003cbr\\u003en_images=%{y}\\u003cextra\\u003e\\u003c\\u002fextra\\u003e\",\"legendgroup\":\"SPACE_000142\",\"marker\":{\"color\":\"#DDCB76\",\"pattern\":{\"shape\":\"\"}},\"name\":\"SPACE_000142\",\"offsetgroup\":\"SPACE_000142\",\"orientation\":\"v\",\"showlegend\":true,\"textposition\":\"auto\",\"x\":[\"liver\",\"skin\",\"background\"],\"xaxis\":\"x\",\"y\":[1,1,2],\"yaxis\":\"y\",\"type\":\"bar\"},{\"alignmentgroup\":\"True\",\"hovertemplate\":\"subject_name=SPACE_000143\\u003cbr\\u003especies_name=human\\u003cbr\\u003elabel_name=%{x}\\u003cbr\\u003en_images=%{y}\\u003cextra\\u003e\\u003c\\u002fextra\\u003e\",\"legendgroup\":\"SPACE_000143\",\"marker\":{\"color\":\"#DDCB76\",\"pattern\":{\"shape\":\"\"}},\"name\":\"SPACE_000143\",\"offsetgroup\":\"SPACE_000143\",\"orientation\":\"v\",\"showlegend\":true,\"textposition\":\"auto\",\"x\":[\"small bowel\",\"colon\",\"background\"],\"xaxis\":\"x\",\"y\":[2,1,2],\"yaxis\":\"y\",\"type\":\"bar\"},{\"alignmentgroup\":\"True\",\"hovertemplate\":\"subject_name=SPACE_000144\\u003cbr\\u003especies_name=human\\u003cbr\\u003elabel_name=%{x}\\u003cbr\\u003en_images=%{y}\\u003cextra\\u003e\\u003c\\u002fextra\\u003e\",\"legendgroup\":\"SPACE_000144\",\"marker\":{\"color\":\"#DDCB76\",\"pattern\":{\"shape\":\"\"}},\"name\":\"SPACE_000144\",\"offsetgroup\":\"SPACE_000144\",\"orientation\":\"v\",\"showlegend\":true,\"textposition\":\"auto\",\"x\":[\"stomach\",\"small bowel\",\"colon\",\"liver\",\"omentum\",\"background\"],\"xaxis\":\"x\",\"y\":[1,1,1,2,2,2],\"yaxis\":\"y\",\"type\":\"bar\"},{\"alignmentgroup\":\"True\",\"hovertemplate\":\"subject_name=SPACE_000145\\u003cbr\\u003especies_name=human\\u003cbr\\u003elabel_name=%{x}\\u003cbr\\u003en_images=%{y}\\u003cextra\\u003e\\u003c\\u002fextra\\u003e\",\"legendgroup\":\"SPACE_000145\",\"marker\":{\"color\":\"#DDCB76\",\"pattern\":{\"shape\":\"\"}},\"name\":\"SPACE_000145\",\"offsetgroup\":\"SPACE_000145\",\"orientation\":\"v\",\"showlegend\":true,\"textposition\":\"auto\",\"x\":[\"liver\",\"omentum\",\"skin\",\"background\"],\"xaxis\":\"x\",\"y\":[2,2,2,2],\"yaxis\":\"y\",\"type\":\"bar\"},{\"alignmentgroup\":\"True\",\"hovertemplate\":\"subject_name=SPACE_000146\\u003cbr\\u003especies_name=human\\u003cbr\\u003elabel_name=%{x}\\u003cbr\\u003en_images=%{y}\\u003cextra\\u003e\\u003c\\u002fextra\\u003e\",\"legendgroup\":\"SPACE_000146\",\"marker\":{\"color\":\"#DDCB76\",\"pattern\":{\"shape\":\"\"}},\"name\":\"SPACE_000146\",\"offsetgroup\":\"SPACE_000146\",\"orientation\":\"v\",\"showlegend\":true,\"textposition\":\"auto\",\"x\":[\"stomach\",\"small bowel\",\"liver\",\"skin\",\"peritoneum\",\"background\"],\"xaxis\":\"x\",\"y\":[2,1,3,3,2,3],\"yaxis\":\"y\",\"type\":\"bar\"},{\"alignmentgroup\":\"True\",\"hovertemplate\":\"subject_name=SPACE_000147\\u003cbr\\u003especies_name=human\\u003cbr\\u003elabel_name=%{x}\\u003cbr\\u003en_images=%{y}\\u003cextra\\u003e\\u003c\\u002fextra\\u003e\",\"legendgroup\":\"SPACE_000147\",\"marker\":{\"color\":\"#DDCB76\",\"pattern\":{\"shape\":\"\"}},\"name\":\"SPACE_000147\",\"offsetgroup\":\"SPACE_000147\",\"orientation\":\"v\",\"showlegend\":true,\"textposition\":\"auto\",\"x\":[\"kidney\"],\"xaxis\":\"x\",\"y\":[5],\"yaxis\":\"y\",\"type\":\"bar\"},{\"alignmentgroup\":\"True\",\"hovertemplate\":\"subject_name=SPACE_000148\\u003cbr\\u003especies_name=human\\u003cbr\\u003elabel_name=%{x}\\u003cbr\\u003en_images=%{y}\\u003cextra\\u003e\\u003c\\u002fextra\\u003e\",\"legendgroup\":\"SPACE_000148\",\"marker\":{\"color\":\"#DDCB76\",\"pattern\":{\"shape\":\"\"}},\"name\":\"SPACE_000148\",\"offsetgroup\":\"SPACE_000148\",\"orientation\":\"v\",\"showlegend\":true,\"textposition\":\"auto\",\"x\":[\"kidney\"],\"xaxis\":\"x\",\"y\":[2],\"yaxis\":\"y\",\"type\":\"bar\"},{\"alignmentgroup\":\"True\",\"hovertemplate\":\"subject_name=SPACE_000149\\u003cbr\\u003especies_name=human\\u003cbr\\u003elabel_name=%{x}\\u003cbr\\u003en_images=%{y}\\u003cextra\\u003e\\u003c\\u002fextra\\u003e\",\"legendgroup\":\"SPACE_000149\",\"marker\":{\"color\":\"#DDCB76\",\"pattern\":{\"shape\":\"\"}},\"name\":\"SPACE_000149\",\"offsetgroup\":\"SPACE_000149\",\"orientation\":\"v\",\"showlegend\":true,\"textposition\":\"auto\",\"x\":[\"stomach\",\"small bowel\",\"colon\",\"liver\",\"omentum\",\"background\"],\"xaxis\":\"x\",\"y\":[2,1,2,2,2,2],\"yaxis\":\"y\",\"type\":\"bar\"},{\"alignmentgroup\":\"True\",\"hovertemplate\":\"subject_name=SPACE_000150\\u003cbr\\u003especies_name=human\\u003cbr\\u003elabel_name=%{x}\\u003cbr\\u003en_images=%{y}\\u003cextra\\u003e\\u003c\\u002fextra\\u003e\",\"legendgroup\":\"SPACE_000150\",\"marker\":{\"color\":\"#DDCB76\",\"pattern\":{\"shape\":\"\"}},\"name\":\"SPACE_000150\",\"offsetgroup\":\"SPACE_000150\",\"orientation\":\"v\",\"showlegend\":true,\"textposition\":\"auto\",\"x\":[\"stomach\",\"small bowel\",\"liver\",\"omentum\",\"background\"],\"xaxis\":\"x\",\"y\":[2,2,2,2,2],\"yaxis\":\"y\",\"type\":\"bar\"},{\"alignmentgroup\":\"True\",\"hovertemplate\":\"subject_name=SPACE_000151\\u003cbr\\u003especies_name=human\\u003cbr\\u003elabel_name=%{x}\\u003cbr\\u003en_images=%{y}\\u003cextra\\u003e\\u003c\\u002fextra\\u003e\",\"legendgroup\":\"SPACE_000151\",\"marker\":{\"color\":\"#DDCB76\",\"pattern\":{\"shape\":\"\"}},\"name\":\"SPACE_000151\",\"offsetgroup\":\"SPACE_000151\",\"orientation\":\"v\",\"showlegend\":true,\"textposition\":\"auto\",\"x\":[\"stomach\",\"colon\",\"liver\",\"omentum\",\"background\"],\"xaxis\":\"x\",\"y\":[2,2,2,2,2],\"yaxis\":\"y\",\"type\":\"bar\"},{\"alignmentgroup\":\"True\",\"hovertemplate\":\"subject_name=SPACE_000152\\u003cbr\\u003especies_name=human\\u003cbr\\u003elabel_name=%{x}\\u003cbr\\u003en_images=%{y}\\u003cextra\\u003e\\u003c\\u002fextra\\u003e\",\"legendgroup\":\"SPACE_000152\",\"marker\":{\"color\":\"#DDCB76\",\"pattern\":{\"shape\":\"\"}},\"name\":\"SPACE_000152\",\"offsetgroup\":\"SPACE_000152\",\"orientation\":\"v\",\"showlegend\":true,\"textposition\":\"auto\",\"x\":[\"stomach\",\"small bowel\",\"colon\",\"liver\",\"omentum\",\"background\"],\"xaxis\":\"x\",\"y\":[1,2,2,1,1,2],\"yaxis\":\"y\",\"type\":\"bar\"},{\"alignmentgroup\":\"True\",\"hovertemplate\":\"subject_name=SPACE_000153\\u003cbr\\u003especies_name=human\\u003cbr\\u003elabel_name=%{x}\\u003cbr\\u003en_images=%{y}\\u003cextra\\u003e\\u003c\\u002fextra\\u003e\",\"legendgroup\":\"SPACE_000153\",\"marker\":{\"color\":\"#DDCB76\",\"pattern\":{\"shape\":\"\"}},\"name\":\"SPACE_000153\",\"offsetgroup\":\"SPACE_000153\",\"orientation\":\"v\",\"showlegend\":true,\"textposition\":\"auto\",\"x\":[\"skin\",\"background\"],\"xaxis\":\"x\",\"y\":[2,2],\"yaxis\":\"y\",\"type\":\"bar\"},{\"alignmentgroup\":\"True\",\"hovertemplate\":\"subject_name=SPACE_000155\\u003cbr\\u003especies_name=human\\u003cbr\\u003elabel_name=%{x}\\u003cbr\\u003en_images=%{y}\\u003cextra\\u003e\\u003c\\u002fextra\\u003e\",\"legendgroup\":\"SPACE_000155\",\"marker\":{\"color\":\"#DDCB76\",\"pattern\":{\"shape\":\"\"}},\"name\":\"SPACE_000155\",\"offsetgroup\":\"SPACE_000155\",\"orientation\":\"v\",\"showlegend\":true,\"textposition\":\"auto\",\"x\":[\"small bowel\",\"liver\",\"omentum\",\"skin\",\"peritoneum\",\"background\"],\"xaxis\":\"x\",\"y\":[3,3,3,3,1,3],\"yaxis\":\"y\",\"type\":\"bar\"},{\"alignmentgroup\":\"True\",\"hovertemplate\":\"subject_name=SPACE_000156\\u003cbr\\u003especies_name=human\\u003cbr\\u003elabel_name=%{x}\\u003cbr\\u003en_images=%{y}\\u003cextra\\u003e\\u003c\\u002fextra\\u003e\",\"legendgroup\":\"SPACE_000156\",\"marker\":{\"color\":\"#DDCB76\",\"pattern\":{\"shape\":\"\"}},\"name\":\"SPACE_000156\",\"offsetgroup\":\"SPACE_000156\",\"orientation\":\"v\",\"showlegend\":true,\"textposition\":\"auto\",\"x\":[\"stomach\",\"small bowel\",\"colon\",\"liver\",\"omentum\",\"peritoneum\",\"background\"],\"xaxis\":\"x\",\"y\":[1,1,1,1,1,1,2],\"yaxis\":\"y\",\"type\":\"bar\"},{\"alignmentgroup\":\"True\",\"hovertemplate\":\"subject_name=SPACE_000157\\u003cbr\\u003especies_name=human\\u003cbr\\u003elabel_name=%{x}\\u003cbr\\u003en_images=%{y}\\u003cextra\\u003e\\u003c\\u002fextra\\u003e\",\"legendgroup\":\"SPACE_000157\",\"marker\":{\"color\":\"#DDCB76\",\"pattern\":{\"shape\":\"\"}},\"name\":\"SPACE_000157\",\"offsetgroup\":\"SPACE_000157\",\"orientation\":\"v\",\"showlegend\":true,\"textposition\":\"auto\",\"x\":[\"kidney\"],\"xaxis\":\"x\",\"y\":[4],\"yaxis\":\"y\",\"type\":\"bar\"},{\"alignmentgroup\":\"True\",\"hovertemplate\":\"subject_name=SPACE_000158\\u003cbr\\u003especies_name=human\\u003cbr\\u003elabel_name=%{x}\\u003cbr\\u003en_images=%{y}\\u003cextra\\u003e\\u003c\\u002fextra\\u003e\",\"legendgroup\":\"SPACE_000158\",\"marker\":{\"color\":\"#DDCB76\",\"pattern\":{\"shape\":\"\"}},\"name\":\"SPACE_000158\",\"offsetgroup\":\"SPACE_000158\",\"orientation\":\"v\",\"showlegend\":true,\"textposition\":\"auto\",\"x\":[\"stomach\",\"omentum\",\"background\"],\"xaxis\":\"x\",\"y\":[2,2,2],\"yaxis\":\"y\",\"type\":\"bar\"},{\"alignmentgroup\":\"True\",\"hovertemplate\":\"subject_name=SPACE_000159\\u003cbr\\u003especies_name=human\\u003cbr\\u003elabel_name=%{x}\\u003cbr\\u003en_images=%{y}\\u003cextra\\u003e\\u003c\\u002fextra\\u003e\",\"legendgroup\":\"SPACE_000159\",\"marker\":{\"color\":\"#DDCB76\",\"pattern\":{\"shape\":\"\"}},\"name\":\"SPACE_000159\",\"offsetgroup\":\"SPACE_000159\",\"orientation\":\"v\",\"showlegend\":true,\"textposition\":\"auto\",\"x\":[\"kidney\",\"skin\",\"peritoneum\",\"background\"],\"xaxis\":\"x\",\"y\":[2,2,1,2],\"yaxis\":\"y\",\"type\":\"bar\"},{\"alignmentgroup\":\"True\",\"hovertemplate\":\"subject_name=SPACE_000160\\u003cbr\\u003especies_name=human\\u003cbr\\u003elabel_name=%{x}\\u003cbr\\u003en_images=%{y}\\u003cextra\\u003e\\u003c\\u002fextra\\u003e\",\"legendgroup\":\"SPACE_000160\",\"marker\":{\"color\":\"#DDCB76\",\"pattern\":{\"shape\":\"\"}},\"name\":\"SPACE_000160\",\"offsetgroup\":\"SPACE_000160\",\"orientation\":\"v\",\"showlegend\":true,\"textposition\":\"auto\",\"x\":[\"stomach\",\"small bowel\",\"colon\",\"liver\",\"pancreas\",\"omentum\",\"background\"],\"xaxis\":\"x\",\"y\":[3,1,3,4,2,3,4],\"yaxis\":\"y\",\"type\":\"bar\"},{\"alignmentgroup\":\"True\",\"hovertemplate\":\"subject_name=SPACE_000161\\u003cbr\\u003especies_name=human\\u003cbr\\u003elabel_name=%{x}\\u003cbr\\u003en_images=%{y}\\u003cextra\\u003e\\u003c\\u002fextra\\u003e\",\"legendgroup\":\"SPACE_000161\",\"marker\":{\"color\":\"#DDCB76\",\"pattern\":{\"shape\":\"\"}},\"name\":\"SPACE_000161\",\"offsetgroup\":\"SPACE_000161\",\"orientation\":\"v\",\"showlegend\":true,\"textposition\":\"auto\",\"x\":[\"stomach\",\"small bowel\",\"liver\",\"omentum\",\"background\"],\"xaxis\":\"x\",\"y\":[2,1,2,2,2],\"yaxis\":\"y\",\"type\":\"bar\"},{\"alignmentgroup\":\"True\",\"hovertemplate\":\"subject_name=SPACE_000162\\u003cbr\\u003especies_name=human\\u003cbr\\u003elabel_name=%{x}\\u003cbr\\u003en_images=%{y}\\u003cextra\\u003e\\u003c\\u002fextra\\u003e\",\"legendgroup\":\"SPACE_000162\",\"marker\":{\"color\":\"#DDCB76\",\"pattern\":{\"shape\":\"\"}},\"name\":\"SPACE_000162\",\"offsetgroup\":\"SPACE_000162\",\"orientation\":\"v\",\"showlegend\":true,\"textposition\":\"auto\",\"x\":[\"stomach\",\"small bowel\",\"colon\",\"liver\",\"omentum\",\"background\"],\"xaxis\":\"x\",\"y\":[7,7,7,7,7,7],\"yaxis\":\"y\",\"type\":\"bar\"},{\"alignmentgroup\":\"True\",\"hovertemplate\":\"subject_name=SPACE_000163\\u003cbr\\u003especies_name=human\\u003cbr\\u003elabel_name=%{x}\\u003cbr\\u003en_images=%{y}\\u003cextra\\u003e\\u003c\\u002fextra\\u003e\",\"legendgroup\":\"SPACE_000163\",\"marker\":{\"color\":\"#DDCB76\",\"pattern\":{\"shape\":\"\"}},\"name\":\"SPACE_000163\",\"offsetgroup\":\"SPACE_000163\",\"orientation\":\"v\",\"showlegend\":true,\"textposition\":\"auto\",\"x\":[\"stomach\",\"small bowel\",\"colon\",\"omentum\",\"background\"],\"xaxis\":\"x\",\"y\":[1,2,1,1,2],\"yaxis\":\"y\",\"type\":\"bar\"},{\"alignmentgroup\":\"True\",\"hovertemplate\":\"subject_name=SPACE_000164\\u003cbr\\u003especies_name=human\\u003cbr\\u003elabel_name=%{x}\\u003cbr\\u003en_images=%{y}\\u003cextra\\u003e\\u003c\\u002fextra\\u003e\",\"legendgroup\":\"SPACE_000164\",\"marker\":{\"color\":\"#DDCB76\",\"pattern\":{\"shape\":\"\"}},\"name\":\"SPACE_000164\",\"offsetgroup\":\"SPACE_000164\",\"orientation\":\"v\",\"showlegend\":true,\"textposition\":\"auto\",\"x\":[\"small bowel\",\"colon\",\"liver\",\"pancreas\",\"omentum\",\"peritoneum\",\"background\"],\"xaxis\":\"x\",\"y\":[8,7,8,8,9,1,9],\"yaxis\":\"y\",\"type\":\"bar\"},{\"alignmentgroup\":\"True\",\"hovertemplate\":\"subject_name=SPACE_000165\\u003cbr\\u003especies_name=human\\u003cbr\\u003elabel_name=%{x}\\u003cbr\\u003en_images=%{y}\\u003cextra\\u003e\\u003c\\u002fextra\\u003e\",\"legendgroup\":\"SPACE_000165\",\"marker\":{\"color\":\"#DDCB76\",\"pattern\":{\"shape\":\"\"}},\"name\":\"SPACE_000165\",\"offsetgroup\":\"SPACE_000165\",\"orientation\":\"v\",\"showlegend\":true,\"textposition\":\"auto\",\"x\":[\"stomach\",\"small bowel\",\"colon\",\"pancreas\",\"omentum\",\"skin\",\"background\"],\"xaxis\":\"x\",\"y\":[1,1,1,1,2,1,2],\"yaxis\":\"y\",\"type\":\"bar\"},{\"alignmentgroup\":\"True\",\"hovertemplate\":\"subject_name=SPACE_000166\\u003cbr\\u003especies_name=human\\u003cbr\\u003elabel_name=%{x}\\u003cbr\\u003en_images=%{y}\\u003cextra\\u003e\\u003c\\u002fextra\\u003e\",\"legendgroup\":\"SPACE_000166\",\"marker\":{\"color\":\"#DDCB76\",\"pattern\":{\"shape\":\"\"}},\"name\":\"SPACE_000166\",\"offsetgroup\":\"SPACE_000166\",\"orientation\":\"v\",\"showlegend\":true,\"textposition\":\"auto\",\"x\":[\"skin\",\"background\"],\"xaxis\":\"x\",\"y\":[2,2],\"yaxis\":\"y\",\"type\":\"bar\"},{\"alignmentgroup\":\"True\",\"hovertemplate\":\"subject_name=SPACE_000167\\u003cbr\\u003especies_name=human\\u003cbr\\u003elabel_name=%{x}\\u003cbr\\u003en_images=%{y}\\u003cextra\\u003e\\u003c\\u002fextra\\u003e\",\"legendgroup\":\"SPACE_000167\",\"marker\":{\"color\":\"#DDCB76\",\"pattern\":{\"shape\":\"\"}},\"name\":\"SPACE_000167\",\"offsetgroup\":\"SPACE_000167\",\"orientation\":\"v\",\"showlegend\":true,\"textposition\":\"auto\",\"x\":[\"stomach\",\"small bowel\",\"colon\",\"liver\",\"pancreas\",\"omentum\",\"background\"],\"xaxis\":\"x\",\"y\":[1,1,2,1,1,1,2],\"yaxis\":\"y\",\"type\":\"bar\"},{\"alignmentgroup\":\"True\",\"hovertemplate\":\"subject_name=SPACE_000168\\u003cbr\\u003especies_name=human\\u003cbr\\u003elabel_name=%{x}\\u003cbr\\u003en_images=%{y}\\u003cextra\\u003e\\u003c\\u002fextra\\u003e\",\"legendgroup\":\"SPACE_000168\",\"marker\":{\"color\":\"#DDCB76\",\"pattern\":{\"shape\":\"\"}},\"name\":\"SPACE_000168\",\"offsetgroup\":\"SPACE_000168\",\"orientation\":\"v\",\"showlegend\":true,\"textposition\":\"auto\",\"x\":[\"liver\",\"peritoneum\",\"background\"],\"xaxis\":\"x\",\"y\":[1,3,3],\"yaxis\":\"y\",\"type\":\"bar\"},{\"alignmentgroup\":\"True\",\"hovertemplate\":\"subject_name=SPACE_000169\\u003cbr\\u003especies_name=human\\u003cbr\\u003elabel_name=%{x}\\u003cbr\\u003en_images=%{y}\\u003cextra\\u003e\\u003c\\u002fextra\\u003e\",\"legendgroup\":\"SPACE_000169\",\"marker\":{\"color\":\"#DDCB76\",\"pattern\":{\"shape\":\"\"}},\"name\":\"SPACE_000169\",\"offsetgroup\":\"SPACE_000169\",\"orientation\":\"v\",\"showlegend\":true,\"textposition\":\"auto\",\"x\":[\"stomach\",\"small bowel\",\"colon\",\"liver\",\"omentum\",\"peritoneum\",\"background\"],\"xaxis\":\"x\",\"y\":[1,2,2,2,1,1,2],\"yaxis\":\"y\",\"type\":\"bar\"},{\"alignmentgroup\":\"True\",\"hovertemplate\":\"subject_name=SPACE_000170\\u003cbr\\u003especies_name=human\\u003cbr\\u003elabel_name=%{x}\\u003cbr\\u003en_images=%{y}\\u003cextra\\u003e\\u003c\\u002fextra\\u003e\",\"legendgroup\":\"SPACE_000170\",\"marker\":{\"color\":\"#DDCB76\",\"pattern\":{\"shape\":\"\"}},\"name\":\"SPACE_000170\",\"offsetgroup\":\"SPACE_000170\",\"orientation\":\"v\",\"showlegend\":true,\"textposition\":\"auto\",\"x\":[\"stomach\",\"small bowel\",\"colon\",\"liver\",\"omentum\",\"skin\",\"peritoneum\",\"background\"],\"xaxis\":\"x\",\"y\":[2,2,3,5,5,3,5,5],\"yaxis\":\"y\",\"type\":\"bar\"},{\"alignmentgroup\":\"True\",\"hovertemplate\":\"subject_name=SPACE_000171\\u003cbr\\u003especies_name=human\\u003cbr\\u003elabel_name=%{x}\\u003cbr\\u003en_images=%{y}\\u003cextra\\u003e\\u003c\\u002fextra\\u003e\",\"legendgroup\":\"SPACE_000171\",\"marker\":{\"color\":\"#DDCB76\",\"pattern\":{\"shape\":\"\"}},\"name\":\"SPACE_000171\",\"offsetgroup\":\"SPACE_000171\",\"orientation\":\"v\",\"showlegend\":true,\"textposition\":\"auto\",\"x\":[\"stomach\",\"small bowel\",\"colon\",\"liver\",\"omentum\",\"background\"],\"xaxis\":\"x\",\"y\":[1,1,1,1,2,2],\"yaxis\":\"y\",\"type\":\"bar\"},{\"alignmentgroup\":\"True\",\"hovertemplate\":\"subject_name=SPACE_000172\\u003cbr\\u003especies_name=human\\u003cbr\\u003elabel_name=%{x}\\u003cbr\\u003en_images=%{y}\\u003cextra\\u003e\\u003c\\u002fextra\\u003e\",\"legendgroup\":\"SPACE_000172\",\"marker\":{\"color\":\"#DDCB76\",\"pattern\":{\"shape\":\"\"}},\"name\":\"SPACE_000172\",\"offsetgroup\":\"SPACE_000172\",\"orientation\":\"v\",\"showlegend\":true,\"textposition\":\"auto\",\"x\":[\"stomach\",\"colon\",\"liver\",\"pancreas\",\"omentum\",\"background\"],\"xaxis\":\"x\",\"y\":[4,6,2,4,8,8],\"yaxis\":\"y\",\"type\":\"bar\"},{\"alignmentgroup\":\"True\",\"hovertemplate\":\"subject_name=SPACE_000173\\u003cbr\\u003especies_name=human\\u003cbr\\u003elabel_name=%{x}\\u003cbr\\u003en_images=%{y}\\u003cextra\\u003e\\u003c\\u002fextra\\u003e\",\"legendgroup\":\"SPACE_000173\",\"marker\":{\"color\":\"#DDCB76\",\"pattern\":{\"shape\":\"\"}},\"name\":\"SPACE_000173\",\"offsetgroup\":\"SPACE_000173\",\"orientation\":\"v\",\"showlegend\":true,\"textposition\":\"auto\",\"x\":[\"stomach\",\"small bowel\",\"liver\",\"omentum\",\"lung\",\"skin\",\"peritoneum\",\"background\"],\"xaxis\":\"x\",\"y\":[1,1,1,1,3,3,1,4],\"yaxis\":\"y\",\"type\":\"bar\"},{\"alignmentgroup\":\"True\",\"hovertemplate\":\"subject_name=SPACE_000174\\u003cbr\\u003especies_name=human\\u003cbr\\u003elabel_name=%{x}\\u003cbr\\u003en_images=%{y}\\u003cextra\\u003e\\u003c\\u002fextra\\u003e\",\"legendgroup\":\"SPACE_000174\",\"marker\":{\"color\":\"#DDCB76\",\"pattern\":{\"shape\":\"\"}},\"name\":\"SPACE_000174\",\"offsetgroup\":\"SPACE_000174\",\"orientation\":\"v\",\"showlegend\":true,\"textposition\":\"auto\",\"x\":[\"small bowel\",\"pancreas\",\"omentum\",\"background\"],\"xaxis\":\"x\",\"y\":[4,3,4,4],\"yaxis\":\"y\",\"type\":\"bar\"},{\"alignmentgroup\":\"True\",\"hovertemplate\":\"subject_name=SPACE_000175\\u003cbr\\u003especies_name=human\\u003cbr\\u003elabel_name=%{x}\\u003cbr\\u003en_images=%{y}\\u003cextra\\u003e\\u003c\\u002fextra\\u003e\",\"legendgroup\":\"SPACE_000175\",\"marker\":{\"color\":\"#DDCB76\",\"pattern\":{\"shape\":\"\"}},\"name\":\"SPACE_000175\",\"offsetgroup\":\"SPACE_000175\",\"orientation\":\"v\",\"showlegend\":true,\"textposition\":\"auto\",\"x\":[\"small bowel\",\"colon\",\"pancreas\",\"peritoneum\",\"background\"],\"xaxis\":\"x\",\"y\":[4,3,2,1,4],\"yaxis\":\"y\",\"type\":\"bar\"},{\"alignmentgroup\":\"True\",\"hovertemplate\":\"subject_name=SPACE_000176\\u003cbr\\u003especies_name=human\\u003cbr\\u003elabel_name=%{x}\\u003cbr\\u003en_images=%{y}\\u003cextra\\u003e\\u003c\\u002fextra\\u003e\",\"legendgroup\":\"SPACE_000176\",\"marker\":{\"color\":\"#DDCB76\",\"pattern\":{\"shape\":\"\"}},\"name\":\"SPACE_000176\",\"offsetgroup\":\"SPACE_000176\",\"orientation\":\"v\",\"showlegend\":true,\"textposition\":\"auto\",\"x\":[\"stomach\",\"small bowel\",\"colon\",\"liver\",\"omentum\",\"skin\",\"peritoneum\",\"background\"],\"xaxis\":\"x\",\"y\":[1,3,5,5,5,2,5,5],\"yaxis\":\"y\",\"type\":\"bar\"},{\"alignmentgroup\":\"True\",\"hovertemplate\":\"subject_name=SPACE_000177\\u003cbr\\u003especies_name=human\\u003cbr\\u003elabel_name=%{x}\\u003cbr\\u003en_images=%{y}\\u003cextra\\u003e\\u003c\\u002fextra\\u003e\",\"legendgroup\":\"SPACE_000177\",\"marker\":{\"color\":\"#DDCB76\",\"pattern\":{\"shape\":\"\"}},\"name\":\"SPACE_000177\",\"offsetgroup\":\"SPACE_000177\",\"orientation\":\"v\",\"showlegend\":true,\"textposition\":\"auto\",\"x\":[\"stomach\",\"colon\",\"spleen\",\"omentum\",\"background\"],\"xaxis\":\"x\",\"y\":[6,1,6,6,6],\"yaxis\":\"y\",\"type\":\"bar\"},{\"alignmentgroup\":\"True\",\"hovertemplate\":\"subject_name=SPACE_000178\\u003cbr\\u003especies_name=human\\u003cbr\\u003elabel_name=%{x}\\u003cbr\\u003en_images=%{y}\\u003cextra\\u003e\\u003c\\u002fextra\\u003e\",\"legendgroup\":\"SPACE_000178\",\"marker\":{\"color\":\"#DDCB76\",\"pattern\":{\"shape\":\"\"}},\"name\":\"SPACE_000178\",\"offsetgroup\":\"SPACE_000178\",\"orientation\":\"v\",\"showlegend\":true,\"textposition\":\"auto\",\"x\":[\"small bowel\",\"colon\",\"pancreas\",\"omentum\",\"skin\",\"peritoneum\",\"background\"],\"xaxis\":\"x\",\"y\":[3,10,5,10,1,4,10],\"yaxis\":\"y\",\"type\":\"bar\"},{\"alignmentgroup\":\"True\",\"hovertemplate\":\"subject_name=SPACE_000179\\u003cbr\\u003especies_name=human\\u003cbr\\u003elabel_name=%{x}\\u003cbr\\u003en_images=%{y}\\u003cextra\\u003e\\u003c\\u002fextra\\u003e\",\"legendgroup\":\"SPACE_000179\",\"marker\":{\"color\":\"#DDCB76\",\"pattern\":{\"shape\":\"\"}},\"name\":\"SPACE_000179\",\"offsetgroup\":\"SPACE_000179\",\"orientation\":\"v\",\"showlegend\":true,\"textposition\":\"auto\",\"x\":[\"stomach\",\"small bowel\",\"colon\",\"liver\",\"pancreas\",\"omentum\",\"skin\",\"peritoneum\",\"background\"],\"xaxis\":\"x\",\"y\":[2,1,5,4,1,5,1,1,5],\"yaxis\":\"y\",\"type\":\"bar\"},{\"alignmentgroup\":\"True\",\"hovertemplate\":\"subject_name=SPACE_000180\\u003cbr\\u003especies_name=human\\u003cbr\\u003elabel_name=%{x}\\u003cbr\\u003en_images=%{y}\\u003cextra\\u003e\\u003c\\u002fextra\\u003e\",\"legendgroup\":\"SPACE_000180\",\"marker\":{\"color\":\"#DDCB76\",\"pattern\":{\"shape\":\"\"}},\"name\":\"SPACE_000180\",\"offsetgroup\":\"SPACE_000180\",\"orientation\":\"v\",\"showlegend\":true,\"textposition\":\"auto\",\"x\":[\"kidney\"],\"xaxis\":\"x\",\"y\":[1],\"yaxis\":\"y\",\"type\":\"bar\"},{\"alignmentgroup\":\"True\",\"hovertemplate\":\"subject_name=SPACE_000181\\u003cbr\\u003especies_name=human\\u003cbr\\u003elabel_name=%{x}\\u003cbr\\u003en_images=%{y}\\u003cextra\\u003e\\u003c\\u002fextra\\u003e\",\"legendgroup\":\"SPACE_000181\",\"marker\":{\"color\":\"#DDCB76\",\"pattern\":{\"shape\":\"\"}},\"name\":\"SPACE_000181\",\"offsetgroup\":\"SPACE_000181\",\"orientation\":\"v\",\"showlegend\":true,\"textposition\":\"auto\",\"x\":[\"stomach\",\"small bowel\",\"colon\",\"liver\",\"spleen\",\"omentum\",\"background\"],\"xaxis\":\"x\",\"y\":[2,2,1,2,1,2,2],\"yaxis\":\"y\",\"type\":\"bar\"},{\"alignmentgroup\":\"True\",\"hovertemplate\":\"subject_name=SPACE_000182\\u003cbr\\u003especies_name=human\\u003cbr\\u003elabel_name=%{x}\\u003cbr\\u003en_images=%{y}\\u003cextra\\u003e\\u003c\\u002fextra\\u003e\",\"legendgroup\":\"SPACE_000182\",\"marker\":{\"color\":\"#DDCB76\",\"pattern\":{\"shape\":\"\"}},\"name\":\"SPACE_000182\",\"offsetgroup\":\"SPACE_000182\",\"orientation\":\"v\",\"showlegend\":true,\"textposition\":\"auto\",\"x\":[\"stomach\",\"colon\",\"liver\",\"omentum\",\"background\"],\"xaxis\":\"x\",\"y\":[2,1,2,2,2],\"yaxis\":\"y\",\"type\":\"bar\"},{\"alignmentgroup\":\"True\",\"hovertemplate\":\"subject_name=SPACE_000183\\u003cbr\\u003especies_name=human\\u003cbr\\u003elabel_name=%{x}\\u003cbr\\u003en_images=%{y}\\u003cextra\\u003e\\u003c\\u002fextra\\u003e\",\"legendgroup\":\"SPACE_000183\",\"marker\":{\"color\":\"#DDCB76\",\"pattern\":{\"shape\":\"\"}},\"name\":\"SPACE_000183\",\"offsetgroup\":\"SPACE_000183\",\"orientation\":\"v\",\"showlegend\":true,\"textposition\":\"auto\",\"x\":[\"stomach\",\"small bowel\",\"colon\",\"liver\",\"kidney\",\"omentum\",\"background\"],\"xaxis\":\"x\",\"y\":[1,2,1,2,1,1,2],\"yaxis\":\"y\",\"type\":\"bar\"},{\"alignmentgroup\":\"True\",\"hovertemplate\":\"subject_name=SPACE_000184\\u003cbr\\u003especies_name=human\\u003cbr\\u003elabel_name=%{x}\\u003cbr\\u003en_images=%{y}\\u003cextra\\u003e\\u003c\\u002fextra\\u003e\",\"legendgroup\":\"SPACE_000184\",\"marker\":{\"color\":\"#DDCB76\",\"pattern\":{\"shape\":\"\"}},\"name\":\"SPACE_000184\",\"offsetgroup\":\"SPACE_000184\",\"orientation\":\"v\",\"showlegend\":true,\"textposition\":\"auto\",\"x\":[\"colon\",\"liver\",\"skin\",\"peritoneum\",\"background\"],\"xaxis\":\"x\",\"y\":[1,2,2,1,2],\"yaxis\":\"y\",\"type\":\"bar\"},{\"alignmentgroup\":\"True\",\"hovertemplate\":\"subject_name=SPACE_000185\\u003cbr\\u003especies_name=human\\u003cbr\\u003elabel_name=%{x}\\u003cbr\\u003en_images=%{y}\\u003cextra\\u003e\\u003c\\u002fextra\\u003e\",\"legendgroup\":\"SPACE_000185\",\"marker\":{\"color\":\"#DDCB76\",\"pattern\":{\"shape\":\"\"}},\"name\":\"SPACE_000185\",\"offsetgroup\":\"SPACE_000185\",\"orientation\":\"v\",\"showlegend\":true,\"textposition\":\"auto\",\"x\":[\"stomach\",\"small bowel\",\"liver\",\"pancreas\",\"omentum\",\"background\"],\"xaxis\":\"x\",\"y\":[3,2,3,3,3,3],\"yaxis\":\"y\",\"type\":\"bar\"},{\"alignmentgroup\":\"True\",\"hovertemplate\":\"subject_name=SPACE_000186\\u003cbr\\u003especies_name=human\\u003cbr\\u003elabel_name=%{x}\\u003cbr\\u003en_images=%{y}\\u003cextra\\u003e\\u003c\\u002fextra\\u003e\",\"legendgroup\":\"SPACE_000186\",\"marker\":{\"color\":\"#DDCB76\",\"pattern\":{\"shape\":\"\"}},\"name\":\"SPACE_000186\",\"offsetgroup\":\"SPACE_000186\",\"orientation\":\"v\",\"showlegend\":true,\"textposition\":\"auto\",\"x\":[\"kidney\",\"skin\",\"background\"],\"xaxis\":\"x\",\"y\":[1,1,1],\"yaxis\":\"y\",\"type\":\"bar\"},{\"alignmentgroup\":\"True\",\"hovertemplate\":\"subject_name=SPACE_000187\\u003cbr\\u003especies_name=human\\u003cbr\\u003elabel_name=%{x}\\u003cbr\\u003en_images=%{y}\\u003cextra\\u003e\\u003c\\u002fextra\\u003e\",\"legendgroup\":\"SPACE_000187\",\"marker\":{\"color\":\"#DDCB76\",\"pattern\":{\"shape\":\"\"}},\"name\":\"SPACE_000187\",\"offsetgroup\":\"SPACE_000187\",\"orientation\":\"v\",\"showlegend\":true,\"textposition\":\"auto\",\"x\":[\"small bowel\",\"liver\",\"omentum\",\"background\"],\"xaxis\":\"x\",\"y\":[2,2,1,2],\"yaxis\":\"y\",\"type\":\"bar\"},{\"alignmentgroup\":\"True\",\"hovertemplate\":\"subject_name=SPACE_000188\\u003cbr\\u003especies_name=human\\u003cbr\\u003elabel_name=%{x}\\u003cbr\\u003en_images=%{y}\\u003cextra\\u003e\\u003c\\u002fextra\\u003e\",\"legendgroup\":\"SPACE_000188\",\"marker\":{\"color\":\"#DDCB76\",\"pattern\":{\"shape\":\"\"}},\"name\":\"SPACE_000188\",\"offsetgroup\":\"SPACE_000188\",\"orientation\":\"v\",\"showlegend\":true,\"textposition\":\"auto\",\"x\":[\"stomach\",\"small bowel\",\"pancreas\",\"omentum\",\"background\"],\"xaxis\":\"x\",\"y\":[1,1,1,2,2],\"yaxis\":\"y\",\"type\":\"bar\"},{\"alignmentgroup\":\"True\",\"hovertemplate\":\"subject_name=SPACE_000189\\u003cbr\\u003especies_name=human\\u003cbr\\u003elabel_name=%{x}\\u003cbr\\u003en_images=%{y}\\u003cextra\\u003e\\u003c\\u002fextra\\u003e\",\"legendgroup\":\"SPACE_000189\",\"marker\":{\"color\":\"#DDCB76\",\"pattern\":{\"shape\":\"\"}},\"name\":\"SPACE_000189\",\"offsetgroup\":\"SPACE_000189\",\"orientation\":\"v\",\"showlegend\":true,\"textposition\":\"auto\",\"x\":[\"stomach\",\"small bowel\",\"colon\",\"liver\",\"background\"],\"xaxis\":\"x\",\"y\":[2,1,2,1,2],\"yaxis\":\"y\",\"type\":\"bar\"},{\"alignmentgroup\":\"True\",\"hovertemplate\":\"subject_name=SPACE_000190\\u003cbr\\u003especies_name=human\\u003cbr\\u003elabel_name=%{x}\\u003cbr\\u003en_images=%{y}\\u003cextra\\u003e\\u003c\\u002fextra\\u003e\",\"legendgroup\":\"SPACE_000190\",\"marker\":{\"color\":\"#DDCB76\",\"pattern\":{\"shape\":\"\"}},\"name\":\"SPACE_000190\",\"offsetgroup\":\"SPACE_000190\",\"orientation\":\"v\",\"showlegend\":true,\"textposition\":\"auto\",\"x\":[\"kidney\",\"skin\",\"peritoneum\",\"background\"],\"xaxis\":\"x\",\"y\":[4,4,3,4],\"yaxis\":\"y\",\"type\":\"bar\"},{\"alignmentgroup\":\"True\",\"hovertemplate\":\"subject_name=SPACE_000191\\u003cbr\\u003especies_name=human\\u003cbr\\u003elabel_name=%{x}\\u003cbr\\u003en_images=%{y}\\u003cextra\\u003e\\u003c\\u002fextra\\u003e\",\"legendgroup\":\"SPACE_000191\",\"marker\":{\"color\":\"#DDCB76\",\"pattern\":{\"shape\":\"\"}},\"name\":\"SPACE_000191\",\"offsetgroup\":\"SPACE_000191\",\"orientation\":\"v\",\"showlegend\":true,\"textposition\":\"auto\",\"x\":[\"small bowel\",\"colon\",\"liver\",\"skin\",\"peritoneum\",\"background\"],\"xaxis\":\"x\",\"y\":[2,1,2,2,1,2],\"yaxis\":\"y\",\"type\":\"bar\"},{\"alignmentgroup\":\"True\",\"hovertemplate\":\"subject_name=SPACE_000192\\u003cbr\\u003especies_name=human\\u003cbr\\u003elabel_name=%{x}\\u003cbr\\u003en_images=%{y}\\u003cextra\\u003e\\u003c\\u002fextra\\u003e\",\"legendgroup\":\"SPACE_000192\",\"marker\":{\"color\":\"#DDCB76\",\"pattern\":{\"shape\":\"\"}},\"name\":\"SPACE_000192\",\"offsetgroup\":\"SPACE_000192\",\"orientation\":\"v\",\"showlegend\":true,\"textposition\":\"auto\",\"x\":[\"stomach\",\"colon\",\"omentum\",\"background\"],\"xaxis\":\"x\",\"y\":[1,1,2,2],\"yaxis\":\"y\",\"type\":\"bar\"},{\"alignmentgroup\":\"True\",\"hovertemplate\":\"subject_name=SPACE_000193\\u003cbr\\u003especies_name=human\\u003cbr\\u003elabel_name=%{x}\\u003cbr\\u003en_images=%{y}\\u003cextra\\u003e\\u003c\\u002fextra\\u003e\",\"legendgroup\":\"SPACE_000193\",\"marker\":{\"color\":\"#DDCB76\",\"pattern\":{\"shape\":\"\"}},\"name\":\"SPACE_000193\",\"offsetgroup\":\"SPACE_000193\",\"orientation\":\"v\",\"showlegend\":true,\"textposition\":\"auto\",\"x\":[\"skin\",\"background\"],\"xaxis\":\"x\",\"y\":[2,2],\"yaxis\":\"y\",\"type\":\"bar\"},{\"alignmentgroup\":\"True\",\"hovertemplate\":\"subject_name=SPACE_000194\\u003cbr\\u003especies_name=human\\u003cbr\\u003elabel_name=%{x}\\u003cbr\\u003en_images=%{y}\\u003cextra\\u003e\\u003c\\u002fextra\\u003e\",\"legendgroup\":\"SPACE_000194\",\"marker\":{\"color\":\"#DDCB76\",\"pattern\":{\"shape\":\"\"}},\"name\":\"SPACE_000194\",\"offsetgroup\":\"SPACE_000194\",\"orientation\":\"v\",\"showlegend\":true,\"textposition\":\"auto\",\"x\":[\"kidney\"],\"xaxis\":\"x\",\"y\":[7],\"yaxis\":\"y\",\"type\":\"bar\"},{\"alignmentgroup\":\"True\",\"hovertemplate\":\"subject_name=SPACE_000195\\u003cbr\\u003especies_name=human\\u003cbr\\u003elabel_name=%{x}\\u003cbr\\u003en_images=%{y}\\u003cextra\\u003e\\u003c\\u002fextra\\u003e\",\"legendgroup\":\"SPACE_000195\",\"marker\":{\"color\":\"#DDCB76\",\"pattern\":{\"shape\":\"\"}},\"name\":\"SPACE_000195\",\"offsetgroup\":\"SPACE_000195\",\"orientation\":\"v\",\"showlegend\":true,\"textposition\":\"auto\",\"x\":[\"kidney\"],\"xaxis\":\"x\",\"y\":[3],\"yaxis\":\"y\",\"type\":\"bar\"},{\"alignmentgroup\":\"True\",\"hovertemplate\":\"subject_name=SPACE_000196\\u003cbr\\u003especies_name=human\\u003cbr\\u003elabel_name=%{x}\\u003cbr\\u003en_images=%{y}\\u003cextra\\u003e\\u003c\\u002fextra\\u003e\",\"legendgroup\":\"SPACE_000196\",\"marker\":{\"color\":\"#DDCB76\",\"pattern\":{\"shape\":\"\"}},\"name\":\"SPACE_000196\",\"offsetgroup\":\"SPACE_000196\",\"orientation\":\"v\",\"showlegend\":true,\"textposition\":\"auto\",\"x\":[\"kidney\",\"skin\",\"background\"],\"xaxis\":\"x\",\"y\":[2,2,2],\"yaxis\":\"y\",\"type\":\"bar\"},{\"alignmentgroup\":\"True\",\"hovertemplate\":\"subject_name=SPACE_000197\\u003cbr\\u003especies_name=human\\u003cbr\\u003elabel_name=%{x}\\u003cbr\\u003en_images=%{y}\\u003cextra\\u003e\\u003c\\u002fextra\\u003e\",\"legendgroup\":\"SPACE_000197\",\"marker\":{\"color\":\"#DDCB76\",\"pattern\":{\"shape\":\"\"}},\"name\":\"SPACE_000197\",\"offsetgroup\":\"SPACE_000197\",\"orientation\":\"v\",\"showlegend\":true,\"textposition\":\"auto\",\"x\":[\"kidney\",\"skin\",\"background\"],\"xaxis\":\"x\",\"y\":[2,2,2],\"yaxis\":\"y\",\"type\":\"bar\"},{\"alignmentgroup\":\"True\",\"hovertemplate\":\"subject_name=SPACE_000198\\u003cbr\\u003especies_name=human\\u003cbr\\u003elabel_name=%{x}\\u003cbr\\u003en_images=%{y}\\u003cextra\\u003e\\u003c\\u002fextra\\u003e\",\"legendgroup\":\"SPACE_000198\",\"marker\":{\"color\":\"#DDCB76\",\"pattern\":{\"shape\":\"\"}},\"name\":\"SPACE_000198\",\"offsetgroup\":\"SPACE_000198\",\"orientation\":\"v\",\"showlegend\":true,\"textposition\":\"auto\",\"x\":[\"small bowel\",\"colon\",\"liver\",\"pancreas\",\"omentum\",\"background\"],\"xaxis\":\"x\",\"y\":[4,4,4,3,1,4],\"yaxis\":\"y\",\"type\":\"bar\"},{\"alignmentgroup\":\"True\",\"hovertemplate\":\"subject_name=SPACE_000199\\u003cbr\\u003especies_name=human\\u003cbr\\u003elabel_name=%{x}\\u003cbr\\u003en_images=%{y}\\u003cextra\\u003e\\u003c\\u002fextra\\u003e\",\"legendgroup\":\"SPACE_000199\",\"marker\":{\"color\":\"#DDCB76\",\"pattern\":{\"shape\":\"\"}},\"name\":\"SPACE_000199\",\"offsetgroup\":\"SPACE_000199\",\"orientation\":\"v\",\"showlegend\":true,\"textposition\":\"auto\",\"x\":[\"skin\",\"background\"],\"xaxis\":\"x\",\"y\":[2,2],\"yaxis\":\"y\",\"type\":\"bar\"},{\"alignmentgroup\":\"True\",\"hovertemplate\":\"subject_name=SPACE_000200\\u003cbr\\u003especies_name=human\\u003cbr\\u003elabel_name=%{x}\\u003cbr\\u003en_images=%{y}\\u003cextra\\u003e\\u003c\\u002fextra\\u003e\",\"legendgroup\":\"SPACE_000200\",\"marker\":{\"color\":\"#DDCB76\",\"pattern\":{\"shape\":\"\"}},\"name\":\"SPACE_000200\",\"offsetgroup\":\"SPACE_000200\",\"orientation\":\"v\",\"showlegend\":true,\"textposition\":\"auto\",\"x\":[\"small bowel\",\"background\"],\"xaxis\":\"x\",\"y\":[2,2],\"yaxis\":\"y\",\"type\":\"bar\"},{\"alignmentgroup\":\"True\",\"hovertemplate\":\"subject_name=SPACE_000201\\u003cbr\\u003especies_name=human\\u003cbr\\u003elabel_name=%{x}\\u003cbr\\u003en_images=%{y}\\u003cextra\\u003e\\u003c\\u002fextra\\u003e\",\"legendgroup\":\"SPACE_000201\",\"marker\":{\"color\":\"#DDCB76\",\"pattern\":{\"shape\":\"\"}},\"name\":\"SPACE_000201\",\"offsetgroup\":\"SPACE_000201\",\"orientation\":\"v\",\"showlegend\":true,\"textposition\":\"auto\",\"x\":[\"stomach\",\"small bowel\",\"colon\",\"liver\",\"omentum\",\"peritoneum\",\"background\"],\"xaxis\":\"x\",\"y\":[1,1,1,2,1,1,2],\"yaxis\":\"y\",\"type\":\"bar\"},{\"alignmentgroup\":\"True\",\"hovertemplate\":\"subject_name=SPACE_000202\\u003cbr\\u003especies_name=human\\u003cbr\\u003elabel_name=%{x}\\u003cbr\\u003en_images=%{y}\\u003cextra\\u003e\\u003c\\u002fextra\\u003e\",\"legendgroup\":\"SPACE_000202\",\"marker\":{\"color\":\"#DDCB76\",\"pattern\":{\"shape\":\"\"}},\"name\":\"SPACE_000202\",\"offsetgroup\":\"SPACE_000202\",\"orientation\":\"v\",\"showlegend\":true,\"textposition\":\"auto\",\"x\":[\"stomach\",\"small bowel\",\"colon\",\"liver\",\"omentum\",\"background\"],\"xaxis\":\"x\",\"y\":[1,1,1,2,2,2],\"yaxis\":\"y\",\"type\":\"bar\"},{\"alignmentgroup\":\"True\",\"hovertemplate\":\"subject_name=SPACE_000203\\u003cbr\\u003especies_name=human\\u003cbr\\u003elabel_name=%{x}\\u003cbr\\u003en_images=%{y}\\u003cextra\\u003e\\u003c\\u002fextra\\u003e\",\"legendgroup\":\"SPACE_000203\",\"marker\":{\"color\":\"#DDCB76\",\"pattern\":{\"shape\":\"\"}},\"name\":\"SPACE_000203\",\"offsetgroup\":\"SPACE_000203\",\"orientation\":\"v\",\"showlegend\":true,\"textposition\":\"auto\",\"x\":[\"stomach\",\"small bowel\",\"colon\",\"liver\",\"pancreas\",\"omentum\",\"skin\",\"background\"],\"xaxis\":\"x\",\"y\":[1,1,3,5,6,4,1,7],\"yaxis\":\"y\",\"type\":\"bar\"},{\"alignmentgroup\":\"True\",\"hovertemplate\":\"subject_name=SPACE_000204\\u003cbr\\u003especies_name=human\\u003cbr\\u003elabel_name=%{x}\\u003cbr\\u003en_images=%{y}\\u003cextra\\u003e\\u003c\\u002fextra\\u003e\",\"legendgroup\":\"SPACE_000204\",\"marker\":{\"color\":\"#DDCB76\",\"pattern\":{\"shape\":\"\"}},\"name\":\"SPACE_000204\",\"offsetgroup\":\"SPACE_000204\",\"orientation\":\"v\",\"showlegend\":true,\"textposition\":\"auto\",\"x\":[\"kidney\"],\"xaxis\":\"x\",\"y\":[3],\"yaxis\":\"y\",\"type\":\"bar\"},{\"alignmentgroup\":\"True\",\"hovertemplate\":\"subject_name=SPACE_000205\\u003cbr\\u003especies_name=human\\u003cbr\\u003elabel_name=%{x}\\u003cbr\\u003en_images=%{y}\\u003cextra\\u003e\\u003c\\u002fextra\\u003e\",\"legendgroup\":\"SPACE_000205\",\"marker\":{\"color\":\"#DDCB76\",\"pattern\":{\"shape\":\"\"}},\"name\":\"SPACE_000205\",\"offsetgroup\":\"SPACE_000205\",\"orientation\":\"v\",\"showlegend\":true,\"textposition\":\"auto\",\"x\":[\"small bowel\",\"background\"],\"xaxis\":\"x\",\"y\":[2,2],\"yaxis\":\"y\",\"type\":\"bar\"},{\"alignmentgroup\":\"True\",\"hovertemplate\":\"subject_name=SPACE_000206\\u003cbr\\u003especies_name=human\\u003cbr\\u003elabel_name=%{x}\\u003cbr\\u003en_images=%{y}\\u003cextra\\u003e\\u003c\\u002fextra\\u003e\",\"legendgroup\":\"SPACE_000206\",\"marker\":{\"color\":\"#DDCB76\",\"pattern\":{\"shape\":\"\"}},\"name\":\"SPACE_000206\",\"offsetgroup\":\"SPACE_000206\",\"orientation\":\"v\",\"showlegend\":true,\"textposition\":\"auto\",\"x\":[\"kidney\",\"skin\",\"peritoneum\",\"background\"],\"xaxis\":\"x\",\"y\":[2,2,2,2],\"yaxis\":\"y\",\"type\":\"bar\"},{\"alignmentgroup\":\"True\",\"hovertemplate\":\"subject_name=SPACE_000207\\u003cbr\\u003especies_name=human\\u003cbr\\u003elabel_name=%{x}\\u003cbr\\u003en_images=%{y}\\u003cextra\\u003e\\u003c\\u002fextra\\u003e\",\"legendgroup\":\"SPACE_000207\",\"marker\":{\"color\":\"#DDCB76\",\"pattern\":{\"shape\":\"\"}},\"name\":\"SPACE_000207\",\"offsetgroup\":\"SPACE_000207\",\"orientation\":\"v\",\"showlegend\":true,\"textposition\":\"auto\",\"x\":[\"kidney\",\"skin\",\"background\"],\"xaxis\":\"x\",\"y\":[1,1,1],\"yaxis\":\"y\",\"type\":\"bar\"},{\"alignmentgroup\":\"True\",\"hovertemplate\":\"subject_name=SPACE_000208\\u003cbr\\u003especies_name=human\\u003cbr\\u003elabel_name=%{x}\\u003cbr\\u003en_images=%{y}\\u003cextra\\u003e\\u003c\\u002fextra\\u003e\",\"legendgroup\":\"SPACE_000208\",\"marker\":{\"color\":\"#DDCB76\",\"pattern\":{\"shape\":\"\"}},\"name\":\"SPACE_000208\",\"offsetgroup\":\"SPACE_000208\",\"orientation\":\"v\",\"showlegend\":true,\"textposition\":\"auto\",\"x\":[\"skin\",\"background\"],\"xaxis\":\"x\",\"y\":[2,2],\"yaxis\":\"y\",\"type\":\"bar\"},{\"alignmentgroup\":\"True\",\"hovertemplate\":\"subject_name=SPACE_000209\\u003cbr\\u003especies_name=human\\u003cbr\\u003elabel_name=%{x}\\u003cbr\\u003en_images=%{y}\\u003cextra\\u003e\\u003c\\u002fextra\\u003e\",\"legendgroup\":\"SPACE_000209\",\"marker\":{\"color\":\"#DDCB76\",\"pattern\":{\"shape\":\"\"}},\"name\":\"SPACE_000209\",\"offsetgroup\":\"SPACE_000209\",\"orientation\":\"v\",\"showlegend\":true,\"textposition\":\"auto\",\"x\":[\"kidney\",\"skin\",\"background\"],\"xaxis\":\"x\",\"y\":[2,2,2],\"yaxis\":\"y\",\"type\":\"bar\"},{\"alignmentgroup\":\"True\",\"hovertemplate\":\"subject_name=SPACE_000210\\u003cbr\\u003especies_name=human\\u003cbr\\u003elabel_name=%{x}\\u003cbr\\u003en_images=%{y}\\u003cextra\\u003e\\u003c\\u002fextra\\u003e\",\"legendgroup\":\"SPACE_000210\",\"marker\":{\"color\":\"#DDCB76\",\"pattern\":{\"shape\":\"\"}},\"name\":\"SPACE_000210\",\"offsetgroup\":\"SPACE_000210\",\"orientation\":\"v\",\"showlegend\":true,\"textposition\":\"auto\",\"x\":[\"kidney\",\"skin\",\"background\"],\"xaxis\":\"x\",\"y\":[2,2,2],\"yaxis\":\"y\",\"type\":\"bar\"},{\"alignmentgroup\":\"True\",\"hovertemplate\":\"subject_name=SPACE_000211\\u003cbr\\u003especies_name=human\\u003cbr\\u003elabel_name=%{x}\\u003cbr\\u003en_images=%{y}\\u003cextra\\u003e\\u003c\\u002fextra\\u003e\",\"legendgroup\":\"SPACE_000211\",\"marker\":{\"color\":\"#DDCB76\",\"pattern\":{\"shape\":\"\"}},\"name\":\"SPACE_000211\",\"offsetgroup\":\"SPACE_000211\",\"orientation\":\"v\",\"showlegend\":true,\"textposition\":\"auto\",\"x\":[\"colon\",\"liver\",\"omentum\",\"background\"],\"xaxis\":\"x\",\"y\":[3,3,3,3],\"yaxis\":\"y\",\"type\":\"bar\"},{\"alignmentgroup\":\"True\",\"hovertemplate\":\"subject_name=SPACE_000212\\u003cbr\\u003especies_name=human\\u003cbr\\u003elabel_name=%{x}\\u003cbr\\u003en_images=%{y}\\u003cextra\\u003e\\u003c\\u002fextra\\u003e\",\"legendgroup\":\"SPACE_000212\",\"marker\":{\"color\":\"#DDCB76\",\"pattern\":{\"shape\":\"\"}},\"name\":\"SPACE_000212\",\"offsetgroup\":\"SPACE_000212\",\"orientation\":\"v\",\"showlegend\":true,\"textposition\":\"auto\",\"x\":[\"skin\",\"background\"],\"xaxis\":\"x\",\"y\":[2,2],\"yaxis\":\"y\",\"type\":\"bar\"},{\"alignmentgroup\":\"True\",\"hovertemplate\":\"subject_name=SPACE_000213\\u003cbr\\u003especies_name=human\\u003cbr\\u003elabel_name=%{x}\\u003cbr\\u003en_images=%{y}\\u003cextra\\u003e\\u003c\\u002fextra\\u003e\",\"legendgroup\":\"SPACE_000213\",\"marker\":{\"color\":\"#DDCB76\",\"pattern\":{\"shape\":\"\"}},\"name\":\"SPACE_000213\",\"offsetgroup\":\"SPACE_000213\",\"orientation\":\"v\",\"showlegend\":true,\"textposition\":\"auto\",\"x\":[\"kidney\",\"skin\",\"background\"],\"xaxis\":\"x\",\"y\":[2,2,2],\"yaxis\":\"y\",\"type\":\"bar\"},{\"alignmentgroup\":\"True\",\"hovertemplate\":\"subject_name=SPACE_000214\\u003cbr\\u003especies_name=human\\u003cbr\\u003elabel_name=%{x}\\u003cbr\\u003en_images=%{y}\\u003cextra\\u003e\\u003c\\u002fextra\\u003e\",\"legendgroup\":\"SPACE_000214\",\"marker\":{\"color\":\"#DDCB76\",\"pattern\":{\"shape\":\"\"}},\"name\":\"SPACE_000214\",\"offsetgroup\":\"SPACE_000214\",\"orientation\":\"v\",\"showlegend\":true,\"textposition\":\"auto\",\"x\":[\"kidney\",\"skin\",\"background\"],\"xaxis\":\"x\",\"y\":[2,2,2],\"yaxis\":\"y\",\"type\":\"bar\"},{\"alignmentgroup\":\"True\",\"hovertemplate\":\"subject_name=SPACE_000215\\u003cbr\\u003especies_name=human\\u003cbr\\u003elabel_name=%{x}\\u003cbr\\u003en_images=%{y}\\u003cextra\\u003e\\u003c\\u002fextra\\u003e\",\"legendgroup\":\"SPACE_000215\",\"marker\":{\"color\":\"#DDCB76\",\"pattern\":{\"shape\":\"\"}},\"name\":\"SPACE_000215\",\"offsetgroup\":\"SPACE_000215\",\"orientation\":\"v\",\"showlegend\":true,\"textposition\":\"auto\",\"x\":[\"stomach\",\"small bowel\",\"colon\",\"liver\",\"omentum\",\"background\"],\"xaxis\":\"x\",\"y\":[2,2,2,3,3,3],\"yaxis\":\"y\",\"type\":\"bar\"},{\"alignmentgroup\":\"True\",\"hovertemplate\":\"subject_name=SPACE_000216\\u003cbr\\u003especies_name=human\\u003cbr\\u003elabel_name=%{x}\\u003cbr\\u003en_images=%{y}\\u003cextra\\u003e\\u003c\\u002fextra\\u003e\",\"legendgroup\":\"SPACE_000216\",\"marker\":{\"color\":\"#DDCB76\",\"pattern\":{\"shape\":\"\"}},\"name\":\"SPACE_000216\",\"offsetgroup\":\"SPACE_000216\",\"orientation\":\"v\",\"showlegend\":true,\"textposition\":\"auto\",\"x\":[\"skin\",\"background\"],\"xaxis\":\"x\",\"y\":[2,2],\"yaxis\":\"y\",\"type\":\"bar\"},{\"alignmentgroup\":\"True\",\"hovertemplate\":\"subject_name=SPACE_000217\\u003cbr\\u003especies_name=human\\u003cbr\\u003elabel_name=%{x}\\u003cbr\\u003en_images=%{y}\\u003cextra\\u003e\\u003c\\u002fextra\\u003e\",\"legendgroup\":\"SPACE_000217\",\"marker\":{\"color\":\"#DDCB76\",\"pattern\":{\"shape\":\"\"}},\"name\":\"SPACE_000217\",\"offsetgroup\":\"SPACE_000217\",\"orientation\":\"v\",\"showlegend\":true,\"textposition\":\"auto\",\"x\":[\"small bowel\",\"colon\",\"pancreas\",\"omentum\",\"background\"],\"xaxis\":\"x\",\"y\":[2,2,1,2,2],\"yaxis\":\"y\",\"type\":\"bar\"},{\"alignmentgroup\":\"True\",\"hovertemplate\":\"subject_name=SPACE_000218\\u003cbr\\u003especies_name=human\\u003cbr\\u003elabel_name=%{x}\\u003cbr\\u003en_images=%{y}\\u003cextra\\u003e\\u003c\\u002fextra\\u003e\",\"legendgroup\":\"SPACE_000218\",\"marker\":{\"color\":\"#DDCB76\",\"pattern\":{\"shape\":\"\"}},\"name\":\"SPACE_000218\",\"offsetgroup\":\"SPACE_000218\",\"orientation\":\"v\",\"showlegend\":true,\"textposition\":\"auto\",\"x\":[\"stomach\",\"small bowel\",\"colon\",\"liver\",\"pancreas\",\"omentum\",\"background\"],\"xaxis\":\"x\",\"y\":[3,5,5,4,3,3,5],\"yaxis\":\"y\",\"type\":\"bar\"},{\"alignmentgroup\":\"True\",\"hovertemplate\":\"subject_name=SPACE_000219\\u003cbr\\u003especies_name=human\\u003cbr\\u003elabel_name=%{x}\\u003cbr\\u003en_images=%{y}\\u003cextra\\u003e\\u003c\\u002fextra\\u003e\",\"legendgroup\":\"SPACE_000219\",\"marker\":{\"color\":\"#DDCB76\",\"pattern\":{\"shape\":\"\"}},\"name\":\"SPACE_000219\",\"offsetgroup\":\"SPACE_000219\",\"orientation\":\"v\",\"showlegend\":true,\"textposition\":\"auto\",\"x\":[\"stomach\",\"small bowel\",\"colon\",\"liver\",\"pancreas\",\"omentum\",\"background\"],\"xaxis\":\"x\",\"y\":[1,2,2,3,2,1,3],\"yaxis\":\"y\",\"type\":\"bar\"},{\"alignmentgroup\":\"True\",\"hovertemplate\":\"subject_name=SPACE_000220\\u003cbr\\u003especies_name=human\\u003cbr\\u003elabel_name=%{x}\\u003cbr\\u003en_images=%{y}\\u003cextra\\u003e\\u003c\\u002fextra\\u003e\",\"legendgroup\":\"SPACE_000220\",\"marker\":{\"color\":\"#DDCB76\",\"pattern\":{\"shape\":\"\"}},\"name\":\"SPACE_000220\",\"offsetgroup\":\"SPACE_000220\",\"orientation\":\"v\",\"showlegend\":true,\"textposition\":\"auto\",\"x\":[\"stomach\",\"small bowel\",\"colon\",\"liver\",\"pancreas\",\"omentum\",\"background\"],\"xaxis\":\"x\",\"y\":[1,3,2,3,4,5,5],\"yaxis\":\"y\",\"type\":\"bar\"},{\"alignmentgroup\":\"True\",\"hovertemplate\":\"subject_name=SPACE_000221\\u003cbr\\u003especies_name=human\\u003cbr\\u003elabel_name=%{x}\\u003cbr\\u003en_images=%{y}\\u003cextra\\u003e\\u003c\\u002fextra\\u003e\",\"legendgroup\":\"SPACE_000221\",\"marker\":{\"color\":\"#DDCB76\",\"pattern\":{\"shape\":\"\"}},\"name\":\"SPACE_000221\",\"offsetgroup\":\"SPACE_000221\",\"orientation\":\"v\",\"showlegend\":true,\"textposition\":\"auto\",\"x\":[\"skin\",\"background\"],\"xaxis\":\"x\",\"y\":[2,2],\"yaxis\":\"y\",\"type\":\"bar\"},{\"alignmentgroup\":\"True\",\"hovertemplate\":\"subject_name=SPACE_000222\\u003cbr\\u003especies_name=human\\u003cbr\\u003elabel_name=%{x}\\u003cbr\\u003en_images=%{y}\\u003cextra\\u003e\\u003c\\u002fextra\\u003e\",\"legendgroup\":\"SPACE_000222\",\"marker\":{\"color\":\"#DDCB76\",\"pattern\":{\"shape\":\"\"}},\"name\":\"SPACE_000222\",\"offsetgroup\":\"SPACE_000222\",\"orientation\":\"v\",\"showlegend\":true,\"textposition\":\"auto\",\"x\":[\"stomach\",\"small bowel\",\"colon\",\"liver\",\"pancreas\",\"background\"],\"xaxis\":\"x\",\"y\":[1,3,1,3,2,3],\"yaxis\":\"y\",\"type\":\"bar\"},{\"alignmentgroup\":\"True\",\"hovertemplate\":\"subject_name=SPACE_000223\\u003cbr\\u003especies_name=human\\u003cbr\\u003elabel_name=%{x}\\u003cbr\\u003en_images=%{y}\\u003cextra\\u003e\\u003c\\u002fextra\\u003e\",\"legendgroup\":\"SPACE_000223\",\"marker\":{\"color\":\"#DDCB76\",\"pattern\":{\"shape\":\"\"}},\"name\":\"SPACE_000223\",\"offsetgroup\":\"SPACE_000223\",\"orientation\":\"v\",\"showlegend\":true,\"textposition\":\"auto\",\"x\":[\"stomach\",\"small bowel\",\"liver\",\"pancreas\",\"omentum\",\"background\"],\"xaxis\":\"x\",\"y\":[2,4,4,3,4,4],\"yaxis\":\"y\",\"type\":\"bar\"},{\"alignmentgroup\":\"True\",\"hovertemplate\":\"subject_name=SPACE_000224\\u003cbr\\u003especies_name=human\\u003cbr\\u003elabel_name=%{x}\\u003cbr\\u003en_images=%{y}\\u003cextra\\u003e\\u003c\\u002fextra\\u003e\",\"legendgroup\":\"SPACE_000224\",\"marker\":{\"color\":\"#DDCB76\",\"pattern\":{\"shape\":\"\"}},\"name\":\"SPACE_000224\",\"offsetgroup\":\"SPACE_000224\",\"orientation\":\"v\",\"showlegend\":true,\"textposition\":\"auto\",\"x\":[\"kidney\",\"skin\",\"background\"],\"xaxis\":\"x\",\"y\":[2,2,2],\"yaxis\":\"y\",\"type\":\"bar\"},{\"alignmentgroup\":\"True\",\"hovertemplate\":\"subject_name=SPACE_000226\\u003cbr\\u003especies_name=human\\u003cbr\\u003elabel_name=%{x}\\u003cbr\\u003en_images=%{y}\\u003cextra\\u003e\\u003c\\u002fextra\\u003e\",\"legendgroup\":\"SPACE_000226\",\"marker\":{\"color\":\"#DDCB76\",\"pattern\":{\"shape\":\"\"}},\"name\":\"SPACE_000226\",\"offsetgroup\":\"SPACE_000226\",\"orientation\":\"v\",\"showlegend\":true,\"textposition\":\"auto\",\"x\":[\"stomach\",\"small bowel\",\"colon\",\"liver\",\"omentum\",\"skin\",\"background\"],\"xaxis\":\"x\",\"y\":[2,1,2,2,2,1,2],\"yaxis\":\"y\",\"type\":\"bar\"},{\"alignmentgroup\":\"True\",\"hovertemplate\":\"subject_name=SPACE_000227\\u003cbr\\u003especies_name=human\\u003cbr\\u003elabel_name=%{x}\\u003cbr\\u003en_images=%{y}\\u003cextra\\u003e\\u003c\\u002fextra\\u003e\",\"legendgroup\":\"SPACE_000227\",\"marker\":{\"color\":\"#DDCB76\",\"pattern\":{\"shape\":\"\"}},\"name\":\"SPACE_000227\",\"offsetgroup\":\"SPACE_000227\",\"orientation\":\"v\",\"showlegend\":true,\"textposition\":\"auto\",\"x\":[\"kidney\"],\"xaxis\":\"x\",\"y\":[4],\"yaxis\":\"y\",\"type\":\"bar\"},{\"alignmentgroup\":\"True\",\"hovertemplate\":\"subject_name=SPACE_000228\\u003cbr\\u003especies_name=human\\u003cbr\\u003elabel_name=%{x}\\u003cbr\\u003en_images=%{y}\\u003cextra\\u003e\\u003c\\u002fextra\\u003e\",\"legendgroup\":\"SPACE_000228\",\"marker\":{\"color\":\"#DDCB76\",\"pattern\":{\"shape\":\"\"}},\"name\":\"SPACE_000228\",\"offsetgroup\":\"SPACE_000228\",\"orientation\":\"v\",\"showlegend\":true,\"textposition\":\"auto\",\"x\":[\"stomach\",\"small bowel\",\"liver\",\"omentum\",\"background\"],\"xaxis\":\"x\",\"y\":[1,1,3,3,3],\"yaxis\":\"y\",\"type\":\"bar\"},{\"alignmentgroup\":\"True\",\"hovertemplate\":\"subject_name=SPACE_000229\\u003cbr\\u003especies_name=human\\u003cbr\\u003elabel_name=%{x}\\u003cbr\\u003en_images=%{y}\\u003cextra\\u003e\\u003c\\u002fextra\\u003e\",\"legendgroup\":\"SPACE_000229\",\"marker\":{\"color\":\"#DDCB76\",\"pattern\":{\"shape\":\"\"}},\"name\":\"SPACE_000229\",\"offsetgroup\":\"SPACE_000229\",\"orientation\":\"v\",\"showlegend\":true,\"textposition\":\"auto\",\"x\":[\"colon\",\"liver\",\"omentum\",\"background\"],\"xaxis\":\"x\",\"y\":[2,2,1,2],\"yaxis\":\"y\",\"type\":\"bar\"},{\"alignmentgroup\":\"True\",\"hovertemplate\":\"subject_name=SPACE_000230\\u003cbr\\u003especies_name=human\\u003cbr\\u003elabel_name=%{x}\\u003cbr\\u003en_images=%{y}\\u003cextra\\u003e\\u003c\\u002fextra\\u003e\",\"legendgroup\":\"SPACE_000230\",\"marker\":{\"color\":\"#DDCB76\",\"pattern\":{\"shape\":\"\"}},\"name\":\"SPACE_000230\",\"offsetgroup\":\"SPACE_000230\",\"orientation\":\"v\",\"showlegend\":true,\"textposition\":\"auto\",\"x\":[\"stomach\",\"small bowel\",\"omentum\",\"lung\",\"skin\",\"background\"],\"xaxis\":\"x\",\"y\":[1,2,2,4,4,4],\"yaxis\":\"y\",\"type\":\"bar\"},{\"alignmentgroup\":\"True\",\"hovertemplate\":\"subject_name=SPACE_000231\\u003cbr\\u003especies_name=human\\u003cbr\\u003elabel_name=%{x}\\u003cbr\\u003en_images=%{y}\\u003cextra\\u003e\\u003c\\u002fextra\\u003e\",\"legendgroup\":\"SPACE_000231\",\"marker\":{\"color\":\"#DDCB76\",\"pattern\":{\"shape\":\"\"}},\"name\":\"SPACE_000231\",\"offsetgroup\":\"SPACE_000231\",\"orientation\":\"v\",\"showlegend\":true,\"textposition\":\"auto\",\"x\":[\"kidney\"],\"xaxis\":\"x\",\"y\":[1],\"yaxis\":\"y\",\"type\":\"bar\"},{\"alignmentgroup\":\"True\",\"hovertemplate\":\"subject_name=SPACE_000232\\u003cbr\\u003especies_name=human\\u003cbr\\u003elabel_name=%{x}\\u003cbr\\u003en_images=%{y}\\u003cextra\\u003e\\u003c\\u002fextra\\u003e\",\"legendgroup\":\"SPACE_000232\",\"marker\":{\"color\":\"#DDCB76\",\"pattern\":{\"shape\":\"\"}},\"name\":\"SPACE_000232\",\"offsetgroup\":\"SPACE_000232\",\"orientation\":\"v\",\"showlegend\":true,\"textposition\":\"auto\",\"x\":[\"kidney\"],\"xaxis\":\"x\",\"y\":[1],\"yaxis\":\"y\",\"type\":\"bar\"},{\"alignmentgroup\":\"True\",\"hovertemplate\":\"subject_name=SPACE_000233\\u003cbr\\u003especies_name=human\\u003cbr\\u003elabel_name=%{x}\\u003cbr\\u003en_images=%{y}\\u003cextra\\u003e\\u003c\\u002fextra\\u003e\",\"legendgroup\":\"SPACE_000233\",\"marker\":{\"color\":\"#DDCB76\",\"pattern\":{\"shape\":\"\"}},\"name\":\"SPACE_000233\",\"offsetgroup\":\"SPACE_000233\",\"orientation\":\"v\",\"showlegend\":true,\"textposition\":\"auto\",\"x\":[\"kidney\",\"skin\",\"background\"],\"xaxis\":\"x\",\"y\":[2,2,2],\"yaxis\":\"y\",\"type\":\"bar\"},{\"alignmentgroup\":\"True\",\"hovertemplate\":\"subject_name=SPACE_000234\\u003cbr\\u003especies_name=human\\u003cbr\\u003elabel_name=%{x}\\u003cbr\\u003en_images=%{y}\\u003cextra\\u003e\\u003c\\u002fextra\\u003e\",\"legendgroup\":\"SPACE_000234\",\"marker\":{\"color\":\"#DDCB76\",\"pattern\":{\"shape\":\"\"}},\"name\":\"SPACE_000234\",\"offsetgroup\":\"SPACE_000234\",\"orientation\":\"v\",\"showlegend\":true,\"textposition\":\"auto\",\"x\":[\"stomach\",\"small bowel\",\"colon\",\"liver\",\"omentum\",\"background\"],\"xaxis\":\"x\",\"y\":[1,1,1,2,2,2],\"yaxis\":\"y\",\"type\":\"bar\"},{\"alignmentgroup\":\"True\",\"hovertemplate\":\"subject_name=SPACE_000235\\u003cbr\\u003especies_name=human\\u003cbr\\u003elabel_name=%{x}\\u003cbr\\u003en_images=%{y}\\u003cextra\\u003e\\u003c\\u002fextra\\u003e\",\"legendgroup\":\"SPACE_000235\",\"marker\":{\"color\":\"#DDCB76\",\"pattern\":{\"shape\":\"\"}},\"name\":\"SPACE_000235\",\"offsetgroup\":\"SPACE_000235\",\"orientation\":\"v\",\"showlegend\":true,\"textposition\":\"auto\",\"x\":[\"small bowel\",\"background\"],\"xaxis\":\"x\",\"y\":[2,2],\"yaxis\":\"y\",\"type\":\"bar\"},{\"alignmentgroup\":\"True\",\"hovertemplate\":\"subject_name=SPACE_000236\\u003cbr\\u003especies_name=human\\u003cbr\\u003elabel_name=%{x}\\u003cbr\\u003en_images=%{y}\\u003cextra\\u003e\\u003c\\u002fextra\\u003e\",\"legendgroup\":\"SPACE_000236\",\"marker\":{\"color\":\"#DDCB76\",\"pattern\":{\"shape\":\"\"}},\"name\":\"SPACE_000236\",\"offsetgroup\":\"SPACE_000236\",\"orientation\":\"v\",\"showlegend\":true,\"textposition\":\"auto\",\"x\":[\"stomach\",\"colon\",\"liver\",\"omentum\",\"background\"],\"xaxis\":\"x\",\"y\":[1,2,2,2,2],\"yaxis\":\"y\",\"type\":\"bar\"},{\"alignmentgroup\":\"True\",\"hovertemplate\":\"subject_name=SPACE_000237\\u003cbr\\u003especies_name=human\\u003cbr\\u003elabel_name=%{x}\\u003cbr\\u003en_images=%{y}\\u003cextra\\u003e\\u003c\\u002fextra\\u003e\",\"legendgroup\":\"SPACE_000237\",\"marker\":{\"color\":\"#DDCB76\",\"pattern\":{\"shape\":\"\"}},\"name\":\"SPACE_000237\",\"offsetgroup\":\"SPACE_000237\",\"orientation\":\"v\",\"showlegend\":true,\"textposition\":\"auto\",\"x\":[\"small bowel\",\"colon\",\"liver\",\"skin\",\"peritoneum\",\"background\"],\"xaxis\":\"x\",\"y\":[1,1,2,2,1,2],\"yaxis\":\"y\",\"type\":\"bar\"},{\"alignmentgroup\":\"True\",\"hovertemplate\":\"subject_name=SPACE_000238\\u003cbr\\u003especies_name=human\\u003cbr\\u003elabel_name=%{x}\\u003cbr\\u003en_images=%{y}\\u003cextra\\u003e\\u003c\\u002fextra\\u003e\",\"legendgroup\":\"SPACE_000238\",\"marker\":{\"color\":\"#DDCB76\",\"pattern\":{\"shape\":\"\"}},\"name\":\"SPACE_000238\",\"offsetgroup\":\"SPACE_000238\",\"orientation\":\"v\",\"showlegend\":true,\"textposition\":\"auto\",\"x\":[\"colon\",\"pancreas\",\"kidney\",\"omentum\",\"skin\",\"background\"],\"xaxis\":\"x\",\"y\":[1,1,2,1,2,3],\"yaxis\":\"y\",\"type\":\"bar\"},{\"alignmentgroup\":\"True\",\"hovertemplate\":\"subject_name=SPACE_000239\\u003cbr\\u003especies_name=human\\u003cbr\\u003elabel_name=%{x}\\u003cbr\\u003en_images=%{y}\\u003cextra\\u003e\\u003c\\u002fextra\\u003e\",\"legendgroup\":\"SPACE_000239\",\"marker\":{\"color\":\"#DDCB76\",\"pattern\":{\"shape\":\"\"}},\"name\":\"SPACE_000239\",\"offsetgroup\":\"SPACE_000239\",\"orientation\":\"v\",\"showlegend\":true,\"textposition\":\"auto\",\"x\":[\"stomach\",\"small bowel\",\"liver\",\"background\"],\"xaxis\":\"x\",\"y\":[1,2,2,2],\"yaxis\":\"y\",\"type\":\"bar\"},{\"alignmentgroup\":\"True\",\"hovertemplate\":\"subject_name=SPACE_000240\\u003cbr\\u003especies_name=human\\u003cbr\\u003elabel_name=%{x}\\u003cbr\\u003en_images=%{y}\\u003cextra\\u003e\\u003c\\u002fextra\\u003e\",\"legendgroup\":\"SPACE_000240\",\"marker\":{\"color\":\"#DDCB76\",\"pattern\":{\"shape\":\"\"}},\"name\":\"SPACE_000240\",\"offsetgroup\":\"SPACE_000240\",\"orientation\":\"v\",\"showlegend\":true,\"textposition\":\"auto\",\"x\":[\"small bowel\",\"colon\",\"liver\",\"omentum\",\"background\"],\"xaxis\":\"x\",\"y\":[1,1,1,2,2],\"yaxis\":\"y\",\"type\":\"bar\"}],                        {\"template\":{\"data\":{\"barpolar\":[{\"marker\":{\"line\":{\"color\":\"white\",\"width\":0.5},\"pattern\":{\"fillmode\":\"overlay\",\"size\":10,\"solidity\":0.2}},\"type\":\"barpolar\"}],\"bar\":[{\"error_x\":{\"color\":\"#2a3f5f\"},\"error_y\":{\"color\":\"#2a3f5f\"},\"marker\":{\"line\":{\"color\":\"white\",\"width\":0.5},\"pattern\":{\"fillmode\":\"overlay\",\"size\":10,\"solidity\":0.2}},\"type\":\"bar\"}],\"carpet\":[{\"aaxis\":{\"endlinecolor\":\"#2a3f5f\",\"gridcolor\":\"#C8D4E3\",\"linecolor\":\"#C8D4E3\",\"minorgridcolor\":\"#C8D4E3\",\"startlinecolor\":\"#2a3f5f\"},\"baxis\":{\"endlinecolor\":\"#2a3f5f\",\"gridcolor\":\"#C8D4E3\",\"linecolor\":\"#C8D4E3\",\"minorgridcolor\":\"#C8D4E3\",\"startlinecolor\":\"#2a3f5f\"},\"type\":\"carpet\"}],\"choropleth\":[{\"colorbar\":{\"outlinewidth\":0,\"ticks\":\"\"},\"type\":\"choropleth\"}],\"contourcarpet\":[{\"colorbar\":{\"outlinewidth\":0,\"ticks\":\"\"},\"type\":\"contourcarpet\"}],\"contour\":[{\"colorbar\":{\"outlinewidth\":0,\"ticks\":\"\"},\"colorscale\":[[0.0,\"#0d0887\"],[0.1111111111111111,\"#46039f\"],[0.2222222222222222,\"#7201a8\"],[0.3333333333333333,\"#9c179e\"],[0.4444444444444444,\"#bd3786\"],[0.5555555555555556,\"#d8576b\"],[0.6666666666666666,\"#ed7953\"],[0.7777777777777778,\"#fb9f3a\"],[0.8888888888888888,\"#fdca26\"],[1.0,\"#f0f921\"]],\"type\":\"contour\"}],\"heatmapgl\":[{\"colorbar\":{\"outlinewidth\":0,\"ticks\":\"\"},\"colorscale\":[[0.0,\"#0d0887\"],[0.1111111111111111,\"#46039f\"],[0.2222222222222222,\"#7201a8\"],[0.3333333333333333,\"#9c179e\"],[0.4444444444444444,\"#bd3786\"],[0.5555555555555556,\"#d8576b\"],[0.6666666666666666,\"#ed7953\"],[0.7777777777777778,\"#fb9f3a\"],[0.8888888888888888,\"#fdca26\"],[1.0,\"#f0f921\"]],\"type\":\"heatmapgl\"}],\"heatmap\":[{\"colorbar\":{\"outlinewidth\":0,\"ticks\":\"\"},\"colorscale\":[[0.0,\"#0d0887\"],[0.1111111111111111,\"#46039f\"],[0.2222222222222222,\"#7201a8\"],[0.3333333333333333,\"#9c179e\"],[0.4444444444444444,\"#bd3786\"],[0.5555555555555556,\"#d8576b\"],[0.6666666666666666,\"#ed7953\"],[0.7777777777777778,\"#fb9f3a\"],[0.8888888888888888,\"#fdca26\"],[1.0,\"#f0f921\"]],\"type\":\"heatmap\"}],\"histogram2dcontour\":[{\"colorbar\":{\"outlinewidth\":0,\"ticks\":\"\"},\"colorscale\":[[0.0,\"#0d0887\"],[0.1111111111111111,\"#46039f\"],[0.2222222222222222,\"#7201a8\"],[0.3333333333333333,\"#9c179e\"],[0.4444444444444444,\"#bd3786\"],[0.5555555555555556,\"#d8576b\"],[0.6666666666666666,\"#ed7953\"],[0.7777777777777778,\"#fb9f3a\"],[0.8888888888888888,\"#fdca26\"],[1.0,\"#f0f921\"]],\"type\":\"histogram2dcontour\"}],\"histogram2d\":[{\"colorbar\":{\"outlinewidth\":0,\"ticks\":\"\"},\"colorscale\":[[0.0,\"#0d0887\"],[0.1111111111111111,\"#46039f\"],[0.2222222222222222,\"#7201a8\"],[0.3333333333333333,\"#9c179e\"],[0.4444444444444444,\"#bd3786\"],[0.5555555555555556,\"#d8576b\"],[0.6666666666666666,\"#ed7953\"],[0.7777777777777778,\"#fb9f3a\"],[0.8888888888888888,\"#fdca26\"],[1.0,\"#f0f921\"]],\"type\":\"histogram2d\"}],\"histogram\":[{\"marker\":{\"pattern\":{\"fillmode\":\"overlay\",\"size\":10,\"solidity\":0.2}},\"type\":\"histogram\"}],\"mesh3d\":[{\"colorbar\":{\"outlinewidth\":0,\"ticks\":\"\"},\"type\":\"mesh3d\"}],\"parcoords\":[{\"line\":{\"colorbar\":{\"outlinewidth\":0,\"ticks\":\"\"}},\"type\":\"parcoords\"}],\"pie\":[{\"automargin\":true,\"type\":\"pie\"}],\"scatter3d\":[{\"line\":{\"colorbar\":{\"outlinewidth\":0,\"ticks\":\"\"}},\"marker\":{\"colorbar\":{\"outlinewidth\":0,\"ticks\":\"\"}},\"type\":\"scatter3d\"}],\"scattercarpet\":[{\"marker\":{\"colorbar\":{\"outlinewidth\":0,\"ticks\":\"\"}},\"type\":\"scattercarpet\"}],\"scattergeo\":[{\"marker\":{\"colorbar\":{\"outlinewidth\":0,\"ticks\":\"\"}},\"type\":\"scattergeo\"}],\"scattergl\":[{\"marker\":{\"colorbar\":{\"outlinewidth\":0,\"ticks\":\"\"}},\"type\":\"scattergl\"}],\"scattermapbox\":[{\"marker\":{\"colorbar\":{\"outlinewidth\":0,\"ticks\":\"\"}},\"type\":\"scattermapbox\"}],\"scatterpolargl\":[{\"marker\":{\"colorbar\":{\"outlinewidth\":0,\"ticks\":\"\"}},\"type\":\"scatterpolargl\"}],\"scatterpolar\":[{\"marker\":{\"colorbar\":{\"outlinewidth\":0,\"ticks\":\"\"}},\"type\":\"scatterpolar\"}],\"scatter\":[{\"fillpattern\":{\"fillmode\":\"overlay\",\"size\":10,\"solidity\":0.2},\"type\":\"scatter\"}],\"scatterternary\":[{\"marker\":{\"colorbar\":{\"outlinewidth\":0,\"ticks\":\"\"}},\"type\":\"scatterternary\"}],\"surface\":[{\"colorbar\":{\"outlinewidth\":0,\"ticks\":\"\"},\"colorscale\":[[0.0,\"#0d0887\"],[0.1111111111111111,\"#46039f\"],[0.2222222222222222,\"#7201a8\"],[0.3333333333333333,\"#9c179e\"],[0.4444444444444444,\"#bd3786\"],[0.5555555555555556,\"#d8576b\"],[0.6666666666666666,\"#ed7953\"],[0.7777777777777778,\"#fb9f3a\"],[0.8888888888888888,\"#fdca26\"],[1.0,\"#f0f921\"]],\"type\":\"surface\"}],\"table\":[{\"cells\":{\"fill\":{\"color\":\"#EBF0F8\"},\"line\":{\"color\":\"white\"}},\"header\":{\"fill\":{\"color\":\"#C8D4E3\"},\"line\":{\"color\":\"white\"}},\"type\":\"table\"}]},\"layout\":{\"annotationdefaults\":{\"arrowcolor\":\"#2a3f5f\",\"arrowhead\":0,\"arrowwidth\":1},\"autotypenumbers\":\"strict\",\"coloraxis\":{\"colorbar\":{\"outlinewidth\":0,\"ticks\":\"\"}},\"colorscale\":{\"diverging\":[[0,\"#8e0152\"],[0.1,\"#c51b7d\"],[0.2,\"#de77ae\"],[0.3,\"#f1b6da\"],[0.4,\"#fde0ef\"],[0.5,\"#f7f7f7\"],[0.6,\"#e6f5d0\"],[0.7,\"#b8e186\"],[0.8,\"#7fbc41\"],[0.9,\"#4d9221\"],[1,\"#276419\"]],\"sequential\":[[0.0,\"#0d0887\"],[0.1111111111111111,\"#46039f\"],[0.2222222222222222,\"#7201a8\"],[0.3333333333333333,\"#9c179e\"],[0.4444444444444444,\"#bd3786\"],[0.5555555555555556,\"#d8576b\"],[0.6666666666666666,\"#ed7953\"],[0.7777777777777778,\"#fb9f3a\"],[0.8888888888888888,\"#fdca26\"],[1.0,\"#f0f921\"]],\"sequentialminus\":[[0.0,\"#0d0887\"],[0.1111111111111111,\"#46039f\"],[0.2222222222222222,\"#7201a8\"],[0.3333333333333333,\"#9c179e\"],[0.4444444444444444,\"#bd3786\"],[0.5555555555555556,\"#d8576b\"],[0.6666666666666666,\"#ed7953\"],[0.7777777777777778,\"#fb9f3a\"],[0.8888888888888888,\"#fdca26\"],[1.0,\"#f0f921\"]]},\"colorway\":[\"#636efa\",\"#EF553B\",\"#00cc96\",\"#ab63fa\",\"#FFA15A\",\"#19d3f3\",\"#FF6692\",\"#B6E880\",\"#FF97FF\",\"#FECB52\"],\"font\":{\"color\":\"#2a3f5f\"},\"geo\":{\"bgcolor\":\"white\",\"lakecolor\":\"white\",\"landcolor\":\"white\",\"showlakes\":true,\"showland\":true,\"subunitcolor\":\"#C8D4E3\"},\"hoverlabel\":{\"align\":\"left\"},\"hovermode\":\"closest\",\"mapbox\":{\"style\":\"light\"},\"paper_bgcolor\":\"white\",\"plot_bgcolor\":\"white\",\"polar\":{\"angularaxis\":{\"gridcolor\":\"#EBF0F8\",\"linecolor\":\"#EBF0F8\",\"ticks\":\"\"},\"bgcolor\":\"white\",\"radialaxis\":{\"gridcolor\":\"#EBF0F8\",\"linecolor\":\"#EBF0F8\",\"ticks\":\"\"}},\"scene\":{\"xaxis\":{\"backgroundcolor\":\"white\",\"gridcolor\":\"#DFE8F3\",\"gridwidth\":2,\"linecolor\":\"#EBF0F8\",\"showbackground\":true,\"ticks\":\"\",\"zerolinecolor\":\"#EBF0F8\"},\"yaxis\":{\"backgroundcolor\":\"white\",\"gridcolor\":\"#DFE8F3\",\"gridwidth\":2,\"linecolor\":\"#EBF0F8\",\"showbackground\":true,\"ticks\":\"\",\"zerolinecolor\":\"#EBF0F8\"},\"zaxis\":{\"backgroundcolor\":\"white\",\"gridcolor\":\"#DFE8F3\",\"gridwidth\":2,\"linecolor\":\"#EBF0F8\",\"showbackground\":true,\"ticks\":\"\",\"zerolinecolor\":\"#EBF0F8\"}},\"shapedefaults\":{\"line\":{\"color\":\"#2a3f5f\"}},\"ternary\":{\"aaxis\":{\"gridcolor\":\"#DFE8F3\",\"linecolor\":\"#A2B1C6\",\"ticks\":\"\"},\"baxis\":{\"gridcolor\":\"#DFE8F3\",\"linecolor\":\"#A2B1C6\",\"ticks\":\"\"},\"bgcolor\":\"white\",\"caxis\":{\"gridcolor\":\"#DFE8F3\",\"linecolor\":\"#A2B1C6\",\"ticks\":\"\"}},\"title\":{\"x\":0.05},\"xaxis\":{\"automargin\":true,\"gridcolor\":\"#EBF0F8\",\"linecolor\":\"#EBF0F8\",\"ticks\":\"\",\"title\":{\"standoff\":15},\"zerolinecolor\":\"#EBF0F8\",\"zerolinewidth\":2},\"yaxis\":{\"automargin\":true,\"gridcolor\":\"#EBF0F8\",\"linecolor\":\"#EBF0F8\",\"ticks\":\"\",\"title\":{\"standoff\":15},\"zerolinecolor\":\"#EBF0F8\",\"zerolinewidth\":2}}},\"xaxis\":{\"anchor\":\"y\",\"domain\":[0.0,1.0],\"title\":{\"text\":\"\\u003cb\\u003elabel name\\u003c\\u002fb\\u003e\"},\"categoryorder\":\"array\",\"categoryarray\":[\"stomach\",\"small bowel\",\"colon\",\"liver\",\"pancreas\",\"kidney\",\"spleen\",\"omentum\",\"lung\",\"skin\",\"peritoneum\",\"background\"]},\"yaxis\":{\"anchor\":\"x\",\"domain\":[0.0,0.2866666666666666],\"title\":{\"text\":\"\\u003cb\\u003e# images\\u003c\\u002fb\\u003e\",\"standoff\":5},\"tickformat\":\",\"},\"xaxis2\":{\"anchor\":\"y2\",\"domain\":[0.0,1.0],\"matches\":\"x\",\"showticklabels\":false},\"yaxis2\":{\"anchor\":\"x2\",\"domain\":[0.35666666666666663,0.6433333333333333],\"title\":{\"text\":\"\\u003cb\\u003e# images\\u003c\\u002fb\\u003e\",\"standoff\":5},\"tickformat\":\",\"},\"xaxis3\":{\"anchor\":\"y3\",\"domain\":[0.0,1.0],\"matches\":\"x\",\"showticklabels\":false},\"yaxis3\":{\"anchor\":\"x3\",\"domain\":[0.7133333333333333,0.9999999999999999],\"title\":{\"text\":\"\\u003cb\\u003e# images\\u003c\\u002fb\\u003e\",\"standoff\":5},\"tickformat\":\",\"},\"annotations\":[{\"showarrow\":false,\"text\":\"\",\"x\":0.5,\"xanchor\":\"center\",\"xref\":\"paper\",\"y\":0.2866666666666666,\"yanchor\":\"bottom\",\"yref\":\"paper\",\"font\":{\"size\":20}},{\"showarrow\":false,\"text\":\"\",\"x\":0.5,\"xanchor\":\"center\",\"xref\":\"paper\",\"y\":0.6433333333333333,\"yanchor\":\"bottom\",\"yref\":\"paper\",\"font\":{\"size\":20}},{\"showarrow\":false,\"text\":\"\",\"x\":0.5,\"xanchor\":\"center\",\"xref\":\"paper\",\"y\":0.9999999999999999,\"yanchor\":\"bottom\",\"yref\":\"paper\",\"font\":{\"size\":20}},{\"showarrow\":false,\"text\":\"213\",\"x\":\"background\",\"xanchor\":\"center\",\"xref\":\"x\",\"y\":792,\"yanchor\":\"bottom\",\"yref\":\"y\",\"font\":{\"size\":20}},{\"showarrow\":false,\"text\":\"124\",\"x\":\"colon\",\"xanchor\":\"center\",\"xref\":\"x\",\"y\":313,\"yanchor\":\"bottom\",\"yref\":\"y\",\"font\":{\"size\":20}},{\"showarrow\":false,\"text\":\"49\",\"x\":\"kidney\",\"xanchor\":\"center\",\"xref\":\"x\",\"y\":163,\"yanchor\":\"bottom\",\"yref\":\"y\",\"font\":{\"size\":20}},{\"showarrow\":false,\"text\":\"144\",\"x\":\"liver\",\"xanchor\":\"center\",\"xref\":\"x\",\"y\":482,\"yanchor\":\"bottom\",\"yref\":\"y\",\"font\":{\"size\":20}},{\"showarrow\":false,\"text\":\"10\",\"x\":\"lung\",\"xanchor\":\"center\",\"xref\":\"x\",\"y\":56,\"yanchor\":\"bottom\",\"yref\":\"y\",\"font\":{\"size\":20}},{\"showarrow\":false,\"text\":\"146\",\"x\":\"omentum\",\"xanchor\":\"center\",\"xref\":\"x\",\"y\":486,\"yanchor\":\"bottom\",\"yref\":\"y\",\"font\":{\"size\":20}},{\"showarrow\":false,\"text\":\"41\",\"x\":\"pancreas\",\"xanchor\":\"center\",\"xref\":\"x\",\"y\":109,\"yanchor\":\"bottom\",\"yref\":\"y\",\"font\":{\"size\":20}},{\"showarrow\":false,\"text\":\"51\",\"x\":\"peritoneum\",\"xanchor\":\"center\",\"xref\":\"x\",\"y\":160,\"yanchor\":\"bottom\",\"yref\":\"y\",\"font\":{\"size\":20}},{\"showarrow\":false,\"text\":\"96\",\"x\":\"skin\",\"xanchor\":\"center\",\"xref\":\"x\",\"y\":295,\"yanchor\":\"bottom\",\"yref\":\"y\",\"font\":{\"size\":20}},{\"showarrow\":false,\"text\":\"136\",\"x\":\"small bowel\",\"xanchor\":\"center\",\"xref\":\"x\",\"y\":352,\"yanchor\":\"bottom\",\"yref\":\"y\",\"font\":{\"size\":20}},{\"showarrow\":false,\"text\":\"16\",\"x\":\"spleen\",\"xanchor\":\"center\",\"xref\":\"x\",\"y\":46,\"yanchor\":\"bottom\",\"yref\":\"y\",\"font\":{\"size\":20}},{\"showarrow\":false,\"text\":\"122\",\"x\":\"stomach\",\"xanchor\":\"center\",\"xref\":\"x\",\"y\":322,\"yanchor\":\"bottom\",\"yref\":\"y\",\"font\":{\"size\":20}},{\"showarrow\":false,\"text\":\"13\",\"x\":\"background\",\"xanchor\":\"center\",\"xref\":\"x2\",\"y\":597,\"yanchor\":\"bottom\",\"yref\":\"y2\",\"font\":{\"size\":20}},{\"showarrow\":false,\"text\":\"13\",\"x\":\"colon\",\"xanchor\":\"center\",\"xref\":\"x2\",\"y\":622,\"yanchor\":\"bottom\",\"yref\":\"y2\",\"font\":{\"size\":20}},{\"showarrow\":false,\"text\":\"24\",\"x\":\"kidney\",\"xanchor\":\"center\",\"xref\":\"x2\",\"y\":2092,\"yanchor\":\"bottom\",\"yref\":\"y2\",\"font\":{\"size\":20}},{\"showarrow\":false,\"text\":\"13\",\"x\":\"liver\",\"xanchor\":\"center\",\"xref\":\"x2\",\"y\":758,\"yanchor\":\"bottom\",\"yref\":\"y2\",\"font\":{\"size\":20}},{\"showarrow\":false,\"text\":\"13\",\"x\":\"lung\",\"xanchor\":\"center\",\"xref\":\"x2\",\"y\":467,\"yanchor\":\"bottom\",\"yref\":\"y2\",\"font\":{\"size\":20}},{\"showarrow\":false,\"text\":\"13\",\"x\":\"omentum\",\"xanchor\":\"center\",\"xref\":\"x2\",\"y\":592,\"yanchor\":\"bottom\",\"yref\":\"y2\",\"font\":{\"size\":20}},{\"showarrow\":false,\"text\":\"13\",\"x\":\"pancreas\",\"xanchor\":\"center\",\"xref\":\"x2\",\"y\":480,\"yanchor\":\"bottom\",\"yref\":\"y2\",\"font\":{\"size\":20}},{\"showarrow\":false,\"text\":\"13\",\"x\":\"peritoneum\",\"xanchor\":\"center\",\"xref\":\"x2\",\"y\":860,\"yanchor\":\"bottom\",\"yref\":\"y2\",\"font\":{\"size\":20}},{\"showarrow\":false,\"text\":\"13\",\"x\":\"skin\",\"xanchor\":\"center\",\"xref\":\"x2\",\"y\":833,\"yanchor\":\"bottom\",\"yref\":\"y2\",\"font\":{\"size\":20}},{\"showarrow\":false,\"text\":\"13\",\"x\":\"small bowel\",\"xanchor\":\"center\",\"xref\":\"x2\",\"y\":802,\"yanchor\":\"bottom\",\"yref\":\"y2\",\"font\":{\"size\":20}},{\"showarrow\":false,\"text\":\"13\",\"x\":\"spleen\",\"xanchor\":\"center\",\"xref\":\"x2\",\"y\":603,\"yanchor\":\"bottom\",\"yref\":\"y2\",\"font\":{\"size\":20}},{\"showarrow\":false,\"text\":\"13\",\"x\":\"stomach\",\"xanchor\":\"center\",\"xref\":\"x2\",\"y\":608,\"yanchor\":\"bottom\",\"yref\":\"y2\",\"font\":{\"size\":20}},{\"showarrow\":false,\"text\":\"20\",\"x\":\"background\",\"xanchor\":\"center\",\"xref\":\"x3\",\"y\":506,\"yanchor\":\"bottom\",\"yref\":\"y3\",\"font\":{\"size\":20}},{\"showarrow\":false,\"text\":\"28\",\"x\":\"colon\",\"xanchor\":\"center\",\"xref\":\"x3\",\"y\":619,\"yanchor\":\"bottom\",\"yref\":\"y3\",\"font\":{\"size\":20}},{\"showarrow\":false,\"text\":\"24\",\"x\":\"kidney\",\"xanchor\":\"center\",\"xref\":\"x3\",\"y\":842,\"yanchor\":\"bottom\",\"yref\":\"y3\",\"font\":{\"size\":20}},{\"showarrow\":false,\"text\":\"28\",\"x\":\"liver\",\"xanchor\":\"center\",\"xref\":\"x3\",\"y\":602,\"yanchor\":\"bottom\",\"yref\":\"y3\",\"font\":{\"size\":20}},{\"showarrow\":false,\"text\":\"16\",\"x\":\"lung\",\"xanchor\":\"center\",\"xref\":\"x3\",\"y\":367,\"yanchor\":\"bottom\",\"yref\":\"y3\",\"font\":{\"size\":20}},{\"showarrow\":false,\"text\":\"26\",\"x\":\"omentum\",\"xanchor\":\"center\",\"xref\":\"x3\",\"y\":481,\"yanchor\":\"bottom\",\"yref\":\"y3\",\"font\":{\"size\":20}},{\"showarrow\":false,\"text\":\"18\",\"x\":\"pancreas\",\"xanchor\":\"center\",\"xref\":\"x3\",\"y\":355,\"yanchor\":\"bottom\",\"yref\":\"y3\",\"font\":{\"size\":20}},{\"showarrow\":false,\"text\":\"27\",\"x\":\"peritoneum\",\"xanchor\":\"center\",\"xref\":\"x3\",\"y\":587,\"yanchor\":\"bottom\",\"yref\":\"y3\",\"font\":{\"size\":20}},{\"showarrow\":false,\"text\":\"27\",\"x\":\"skin\",\"xanchor\":\"center\",\"xref\":\"x3\",\"y\":597,\"yanchor\":\"bottom\",\"yref\":\"y3\",\"font\":{\"size\":20}},{\"showarrow\":false,\"text\":\"28\",\"x\":\"small bowel\",\"xanchor\":\"center\",\"xref\":\"x3\",\"y\":693,\"yanchor\":\"bottom\",\"yref\":\"y3\",\"font\":{\"size\":20}},{\"showarrow\":false,\"text\":\"27\",\"x\":\"spleen\",\"xanchor\":\"center\",\"xref\":\"x3\",\"y\":558,\"yanchor\":\"bottom\",\"yref\":\"y3\",\"font\":{\"size\":20}},{\"showarrow\":false,\"text\":\"28\",\"x\":\"stomach\",\"xanchor\":\"center\",\"xref\":\"x3\",\"y\":552,\"yanchor\":\"bottom\",\"yref\":\"y3\",\"font\":{\"size\":20}}],\"legend\":{\"title\":{\"text\":\"subject_name\"},\"tracegroupgap\":0},\"margin\":{\"t\":60},\"barmode\":\"relative\",\"height\":1200,\"width\":1200,\"font\":{\"family\":\"Libertinus Sans\",\"size\":16},\"showlegend\":false},                        {\"responsive\": true}                    ).then(function(){\n",
       "                            \n",
       "var gd = document.getElementById('cd072cd8-be6f-4f62-ac4c-09c28206e7e3');\n",
       "var x = new MutationObserver(function (mutations, observer) {{\n",
       "        var display = window.getComputedStyle(gd).display;\n",
       "        if (!display || display === 'none') {{\n",
       "            console.log([gd, 'removed!']);\n",
       "            Plotly.purge(gd);\n",
       "            observer.disconnect();\n",
       "        }}\n",
       "}});\n",
       "\n",
       "// Listen for the removal of the full notebook cells\n",
       "var notebookContainer = gd.closest('#notebook-container');\n",
       "if (notebookContainer) {{\n",
       "    x.observe(notebookContainer, {childList: true});\n",
       "}}\n",
       "\n",
       "// Listen for the clearing of the current output cell\n",
       "var outputEl = gd.closest('.output');\n",
       "if (outputEl) {{\n",
       "    x.observe(outputEl, {childList: true});\n",
       "}}\n",
       "\n",
       "                        })                };                });            </script>        </div>"
      ]
     },
     "metadata": {},
     "output_type": "display_data"
    }
   ],
   "source": [
    "df = paper_table()\n",
    "assert pd.isna(df[\"species_name\"]).sum() == 0\n",
    "\n",
    "df_labels = df.groupby([\"species_name\", \"label_name\", \"subject_name\"], as_index=False).agg(\n",
    "    n_images=pd.NamedAgg(column=\"image_name\", aggfunc=\"nunique\")\n",
    ")\n",
    "df_labels[\"species_name\"] = df_labels[\"species_name\"].astype(\"category\")\n",
    "df_labels[\"species_name\"] = df_labels[\"species_name\"].cat.set_categories(settings_species.species_colors.keys())\n",
    "\n",
    "df_labels = sort_labels(df_labels, sorting_cols=[\"species_name\", \"subject_name\", \"label_name\"])\n",
    "labels = sort_labels(df_labels.label_name.unique())\n",
    "labels_plotly = [settings_rat.labels_paper_renaming.get(l, l) for l in labels]\n",
    "df_labels = df_labels.replace(labels, labels_plotly)\n",
    "\n",
    "colors = {}\n",
    "for i, row in df_labels.iterrows():\n",
    "    if row[\"subject_name\"] not in colors:\n",
    "        colors[row[\"subject_name\"]] = settings_species.species_colors[row[\"species_name\"]]\n",
    "\n",
    "fig = px.bar(\n",
    "    df_labels,\n",
    "    x=\"label_name\",\n",
    "    y=\"n_images\",\n",
    "    color=\"subject_name\",\n",
    "    facet_col=\"species_name\",\n",
    "    facet_col_wrap=1,\n",
    "    color_discrete_map=colors,\n",
    "    category_orders={\"label_name\": labels_plotly},\n",
    ")\n",
    "\n",
    "for row_idx, species in enumerate(reversed(settings_species.species_colors.keys())):\n",
    "    df_labels_species = df_labels[df_labels.species_name == species]\n",
    "    df_labels_species = df_labels_species.groupby(\"label_name\", as_index=False).agg(\n",
    "        n_subjects=pd.NamedAgg(column=\"subject_name\", aggfunc=\"nunique\")\n",
    "    )\n",
    "    for i, row_data in df_labels_species.iterrows():\n",
    "        n_images = df_labels[\n",
    "            (df_labels.species_name == species) & (df_labels.label_name == row_data[\"label_name\"])\n",
    "        ].n_images.sum()\n",
    "        fig.add_annotation(\n",
    "            x=row_data[\"label_name\"],\n",
    "            y=n_images,\n",
    "            text=row_data[\"n_subjects\"],\n",
    "            xanchor=\"center\",\n",
    "            yanchor=\"bottom\",\n",
    "            xref=\"x\",\n",
    "            yref=\"y\",\n",
    "            showarrow=False,\n",
    "            row=row_idx + 1,\n",
    "            col=1,\n",
    "        )\n",
    "\n",
    "for i, annotation in enumerate(fig.layout.annotations):\n",
    "    if \"species_name\" in fig.layout.annotations[i].text:\n",
    "        fig.layout.annotations[i].text = \"\"\n",
    "\n",
    "fig.update_yaxes(matches=None)\n",
    "fig.update_xaxes(title=\"<b>label name</b>\", row=1)\n",
    "fig.update_yaxes(title=\"<b># images</b>\", title_standoff=5)\n",
    "fig.update_layout(height=1200, width=1200, template=\"plotly_white\")\n",
    "fig.update_layout(font_family=\"Libertinus Sans\", font_size=16)\n",
    "fig.update_layout(showlegend=False)\n",
    "fig.update_annotations(font=dict(size=20))\n",
    "fig.update_yaxes(tickformat=\",\")\n",
    "fig.write_image(settings_species.paper_dir / \"data_statistics.pdf\")\n",
    "fig.show()"
   ]
  }
 ],
 "metadata": {
  "kernelspec": {
   "display_name": "htc",
   "language": "python",
   "name": "python3"
  },
  "language_info": {
   "codemirror_mode": {
    "name": "ipython",
    "version": 3
   },
   "file_extension": ".py",
   "mimetype": "text/x-python",
   "name": "python",
   "nbconvert_exporter": "python",
   "pygments_lexer": "ipython3",
   "version": "3.12.7"
  }
 },
 "nbformat": 4,
 "nbformat_minor": 2
}
