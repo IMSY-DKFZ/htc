{
 "cells": [
  {
   "cell_type": "code",
   "execution_count": 1,
   "id": "fd9bddec-e02f-4f5b-bf94-3f6ad3ba49d4",
   "metadata": {},
   "outputs": [
    {
     "data": {
      "text/html": [
       "<pre style=\"white-space:pre;overflow-x:auto;line-height:normal;font-family:Menlo,'DejaVu Sans Mono',consolas,'Courier New',monospace\"><span style=\"font-weight: bold\">[</span><span style=\"color: #808000; text-decoration-color: #808000\">WARNING</span><span style=\"font-weight: bold\">][</span><span style=\"font-style: italic\">py.warnings</span><span style=\"font-weight: bold\">]</span>                                                                                   <span style=\"color: #7f7f7f; text-decoration-color: #7f7f7f\">warnings.py:110</span>\n",
       "<span style=\"color: #800080; text-decoration-color: #800080\">/home/j562r/miniconda3/envs/htc/lib/python3.11/site-packages/kornia/feature/</span><span style=\"color: #ff00ff; text-decoration-color: #ff00ff\">lightglue.py</span>:<span style=\"color: #afafaf; text-decoration-color: #afafaf\">44</span>:             <span style=\"color: #7f7f7f; text-decoration-color: #7f7f7f\">               </span>\n",
       "FutureWarning: `<span style=\"color: #800080; text-decoration-color: #800080; font-weight: bold\">torch.cuda.amp.custom_fwd</span><span style=\"font-weight: bold\">(</span>args<span style=\"color: #808000; text-decoration-color: #808000\">...</span><span style=\"font-weight: bold\">)</span>` is deprecated. Please use                            <span style=\"color: #7f7f7f; text-decoration-color: #7f7f7f\">               </span>\n",
       "`<span style=\"color: #800080; text-decoration-color: #800080; font-weight: bold\">torch.amp.custom_fwd</span><span style=\"font-weight: bold\">(</span>args<span style=\"color: #808000; text-decoration-color: #808000\">...</span>, <span style=\"color: #808000; text-decoration-color: #808000\">device_type</span>=<span style=\"color: #808080; text-decoration-color: #808080\">'cuda'</span><span style=\"font-weight: bold\">)</span>` instead.                                             <span style=\"color: #7f7f7f; text-decoration-color: #7f7f7f\">               </span>\n",
       "  @<span style=\"color: #800080; text-decoration-color: #800080; font-weight: bold\">torch.cuda.amp.custom_fwd</span><span style=\"font-weight: bold\">(</span><span style=\"color: #808000; text-decoration-color: #808000\">cast_inputs</span>=<span style=\"color: #800080; text-decoration-color: #800080\">torch</span>.float32<span style=\"font-weight: bold\">)</span>                                                  <span style=\"color: #7f7f7f; text-decoration-color: #7f7f7f\">               </span>\n",
       "                                                                                                         <span style=\"color: #7f7f7f; text-decoration-color: #7f7f7f\">               </span>\n",
       "</pre>\n"
      ],
      "text/plain": [
       "\u001b[1m[\u001b[0m\u001b[33mWARNING\u001b[0m\u001b[1m]\u001b[0m\u001b[1m[\u001b[0m\u001b[3mpy.warnings\u001b[0m\u001b[1m]\u001b[0m                                                                                   \u001b[2mwarnings.py:110\u001b[0m\n",
       "\u001b[35m/home/j562r/miniconda3/envs/htc/lib/python3.11/site-packages/kornia/feature/\u001b[0m\u001b[95mlightglue.py\u001b[0m:\u001b[38;5;145m44\u001b[0m:             \u001b[2m               \u001b[0m\n",
       "FutureWarning: `\u001b[1;35mtorch.cuda.amp.custom_fwd\u001b[0m\u001b[1m(\u001b[0margs\u001b[33m...\u001b[0m\u001b[1m)\u001b[0m` is deprecated. Please use                            \u001b[2m               \u001b[0m\n",
       "`\u001b[1;35mtorch.amp.custom_fwd\u001b[0m\u001b[1m(\u001b[0margs\u001b[33m...\u001b[0m, \u001b[33mdevice_type\u001b[0m=\u001b[90m'cuda'\u001b[0m\u001b[1m)\u001b[0m` instead.                                             \u001b[2m               \u001b[0m\n",
       "  @\u001b[1;35mtorch.cuda.amp.custom_fwd\u001b[0m\u001b[1m(\u001b[0m\u001b[33mcast_inputs\u001b[0m=\u001b[35mtorch\u001b[0m.float32\u001b[1m)\u001b[0m                                                  \u001b[2m               \u001b[0m\n",
       "                                                                                                         \u001b[2m               \u001b[0m\n"
      ]
     },
     "metadata": {},
     "output_type": "display_data"
    }
   ],
   "source": [
    "%load_ext autoreload\n",
    "%autoreload 2\n",
    "\n",
    "import base64\n",
    "import copy\n",
    "\n",
    "import numpy as np\n",
    "import plotly.graph_objects as go\n",
    "\n",
    "from htc.models.image.DatasetImage import DatasetImage\n",
    "from htc.settings_seg import settings_seg\n",
    "from htc.tivita.DataPath import DataPath\n",
    "from htc.tivita.hsi import tivita_wavelengths\n",
    "from htc.utils.Config import Config\n",
    "from htc.utils.visualization import add_std_fill, create_segmentation_overlay"
   ]
  },
  {
   "cell_type": "code",
   "execution_count": 2,
   "id": "d59318e2-b616-4625-bdd3-243862386870",
   "metadata": {},
   "outputs": [],
   "source": [
    "paths = [DataPath.from_image_name(\"P044#2020_02_01_09_51_31\")]\n",
    "config = Config({\n",
    "    \"label_mapping\": settings_seg.label_mapping,\n",
    "    \"input/n_channels\": 100,\n",
    "    \"input/preprocessing\": \"L1\",\n",
    "})\n",
    "img = DatasetImage(paths, train=False, config=config)[0]\n",
    "hsi = img[\"features\"].numpy().astype(np.float32)\n",
    "labels = img[\"labels\"].numpy()\n",
    "\n",
    "label_mapping = copy.deepcopy(settings_seg.label_mapping)\n",
    "label_mapping.label_colors = settings_seg.label_colors_paper\n",
    "label_mapping.rename(settings_seg.labels_paper_renaming)"
   ]
  },
  {
   "cell_type": "markdown",
   "id": "d53b0967-9c9d-4109-abd6-7a2d2ba3be6d",
   "metadata": {},
   "source": [
    "### Plot RGB overlaid with segmentation including opacity slider"
   ]
  },
  {
   "cell_type": "code",
   "execution_count": 3,
   "id": "84ca7759-4314-4dba-8600-63685cc84e06",
   "metadata": {},
   "outputs": [],
   "source": [
    "fig_image = create_segmentation_overlay(labels, path=paths[0], label_mapping=label_mapping)\n",
    "fig_image.update_layout(\n",
    "    title=None,\n",
    "    xaxis={\"visible\": False},\n",
    "    yaxis={\"visible\": False},\n",
    "    template=\"plotly_white\",\n",
    "    font_family=\"Libertinus Serif\",\n",
    "    font_size=16,\n",
    "    margin=dict(l=10, r=10, b=10, t=20),\n",
    ");"
   ]
  },
  {
   "cell_type": "markdown",
   "id": "cb832798-c97d-4465-9c36-1eeb9bdd96b4",
   "metadata": {},
   "source": [
    "### Plot class-specific median and std spectra"
   ]
  },
  {
   "cell_type": "code",
   "execution_count": 4,
   "id": "c1a15299-39fa-4b87-bbb3-1e3c373ce587",
   "metadata": {},
   "outputs": [],
   "source": [
    "fig_spectra = go.Figure()\n",
    "for l in np.unique(labels):\n",
    "    label = label_mapping.index_to_name(l)\n",
    "    hsi_l = hsi[labels == l]\n",
    "    median_l = np.median(hsi_l, axis=0)\n",
    "    std_l = np.std(hsi_l, axis=0)\n",
    "    add_std_fill(\n",
    "        fig_spectra,\n",
    "        x=tivita_wavelengths(),\n",
    "        mid_line=median_l,\n",
    "        std_range=std_l,\n",
    "        linecolor=label_mapping.name_to_color(label),\n",
    "        label=label,\n",
    "    )\n",
    "fig_spectra.update_layout(\n",
    "    template=\"plotly_white\",\n",
    "    font_family=\"Libertinus Serif\",\n",
    "    font_size=16,\n",
    "    width=960,\n",
    "    height=400,\n",
    "    legend=dict(title=None, orientation=\"h\", yanchor=\"bottom\", y=1.05, xanchor=\"center\", x=0.5),\n",
    "    margin=dict(l=10, r=10, b=0, t=20),\n",
    ")\n",
    "fig_spectra.update_xaxes(title_text=\"<b>wavelength</b> [nm]\")\n",
    "fig_spectra.update_yaxes(title_text=\"<b>reflectance</b> [a.u.]\");"
   ]
  },
  {
   "cell_type": "markdown",
   "id": "c76493ca-a17d-4137-952b-f1ab0f3e65fb",
   "metadata": {},
   "source": [
    "### Create mapping to per-pixel spectrum"
   ]
  },
  {
   "cell_type": "code",
   "execution_count": 5,
   "id": "485de794-09c4-4c73-9403-40ca67c2a808",
   "metadata": {},
   "outputs": [
    {
     "data": {
      "text/plain": [
       "True"
      ]
     },
     "execution_count": 5,
     "metadata": {},
     "output_type": "execute_result"
    }
   ],
   "source": [
    "hsi_encoded = base64.b64encode(hsi.astype(np.float16))\n",
    "hsi_decoded = base64.decodebytes(hsi_encoded)\n",
    "hsi_decoded = np.frombuffer(hsi_decoded, dtype=np.float16)\n",
    "\n",
    "np.allclose(hsi_decoded.reshape((480, 640, 100)), hsi)"
   ]
  },
  {
   "cell_type": "markdown",
   "id": "571451ba-cc61-42c3-9d78-0efb446e8410",
   "metadata": {},
   "source": [
    "### Create html"
   ]
  },
  {
   "cell_type": "code",
   "execution_count": 6,
   "id": "7955925f-4253-45b7-8071-c1f49908830b",
   "metadata": {},
   "outputs": [],
   "source": [
    "# js file containing the HSI cube. Stored as extra file to avoid browser freezing during loading\n",
    "js_data = (\n",
    "    f\"\"\"const spectra_base64 = \"{hsi_encoded.decode(\"ascii\")}\";\"\"\"\n",
    "    + \"\"\"\n",
    "\n",
    "// There is no float16 array in JS, so we use uint16 and cast it later manually to float16\n",
    "const spectra_data = new Uint16Array(Uint8Array.from(atob(spectra_base64), c => c.charCodeAt(0)).buffer);\n",
    "\"\"\"\n",
    ")\n",
    "\n",
    "# JavaScript from the main document\n",
    "js = \"\"\"\n",
    "// https://stackoverflow.com/a/8796597\n",
    "function decodeFloat16(binary) {\"use strict\";\n",
    "    var exponent = (binary & 0x7C00) >> 10,\n",
    "        fraction = binary & 0x03FF;\n",
    "    return (binary >> 15 ? -1 : 1) * (\n",
    "        exponent ?\n",
    "        (\n",
    "            exponent === 0x1F ?\n",
    "            fraction ? NaN : Infinity :\n",
    "            Math.pow(2, exponent - 15) * (1 + fraction / 0x400)\n",
    "        ) :\n",
    "        6.103515625e-5 * (fraction / 0x400)\n",
    "    );\n",
    "};\n",
    "\n",
    "document.addEventListener('DOMContentLoaded', function() {\n",
    "    document.getElementById('loading').remove();\n",
    "\n",
    "    img_div = document.getElementById('image');\n",
    "    img_div.on('plotly_click', function(event) {\n",
    "        let spectra_div = document.getElementById('spectra');\n",
    "        const selected_point = event.points[0];\n",
    "        const current_label = selected_point.text;\n",
    "\n",
    "        // First hide all traces\n",
    "        Plotly.restyle(spectra_div, {visible: 'legendonly'});\n",
    "\n",
    "        // Show currently selected traces\n",
    "        const traces = spectra_div.data;\n",
    "        let traces_to_show = [];\n",
    "        let traces_to_delete = [];\n",
    "        for (let i = 0; i < traces.length; i++) {\n",
    "            const trace = traces[i];\n",
    "\n",
    "            if (trace.name == current_label) {\n",
    "                traces_to_show.push(i);\n",
    "            }\n",
    "\n",
    "            if (trace.name == 'selected spectrum') {\n",
    "                traces_to_delete.push(i);\n",
    "            }\n",
    "        }\n",
    "        Plotly.restyle(spectra_div, {visible: true}, traces_to_show);\n",
    "\n",
    "        // Show currently selected trace\n",
    "        Plotly.deleteTraces(spectra_div, traces_to_delete);\n",
    "\n",
    "        // Plotly uses the usual x-y-coordinate system, but the HSI data is stored with y down instead of up\n",
    "        const y_transformed = (479 - selected_point.y);\n",
    "        const start = (y_transformed * 640 + selected_point.x) * 100;\n",
    "        const end = start + 100;\n",
    "        let spectra = [];\n",
    "        spectra_data.slice(start, end).forEach(function(x) {\n",
    "            spectra.push(decodeFloat16(x));\n",
    "        });\n",
    "        const wavelengths = traces[0].x;\n",
    "\n",
    "        Plotly.addTraces(spectra_div, [{\n",
    "            x: wavelengths,\n",
    "            y: spectra,\n",
    "            name: 'selected spectrum',\n",
    "            line: {color: 'black', dash: 'dash'}\n",
    "        }]);\n",
    "    });\n",
    "});\n",
    "\"\"\"\n",
    "\n",
    "# The fonts also need to be copied to the resulting folder\n",
    "css = \"\"\"\n",
    "/* Load custom font */\n",
    "@font-face {\n",
    "    font-family: libertinus;\n",
    "    font-style: normal;\n",
    "    src: url(\"fonts/LibertinusSerifDisplay-Regular.otf\"), url(\"LibertinusSerifDisplay-Regular.otf\");\n",
    "}\n",
    "@font-face {\n",
    "    font-family: libertinus;\n",
    "    font-weight: bold;\n",
    "    src: url(\"fonts/LibertinusSerif-Semibold.otf\"), url(\"LibertinusSerif-Semibold.otf\");\n",
    "}\n",
    "body {\n",
    "    font-family: libertinus, serif;\n",
    "    hyphens: auto;\n",
    "}\n",
    "#loading {\n",
    "    color: green;\n",
    "}\n",
    "#error {\n",
    "    color: red;\n",
    "}\n",
    "figure {\n",
    "    width: min-content;\n",
    "    margin-bottom: 25px;\n",
    "}\n",
    "figure > figcaption {\n",
    "    margin-left: 15px;\n",
    "    margin-right: 15px;\n",
    "}\n",
    "figcaption {\n",
    "    text-align: center;\n",
    "    margin-top: 10px;\n",
    "}\n",
    "figcaption.main_caption {\n",
    "    text-align: justify;\n",
    "    margin-top: 25px;\n",
    "}\n",
    "\"\"\"\n",
    "\n",
    "html = f\"\"\"\n",
    "<!DOCTYPE html>\n",
    "<html lang=\"en\">\n",
    "    <head>\n",
    "        <title>Interactive spectra visualization</title>\n",
    "        <meta charset=\"utf-8\">\n",
    "        <script defer src=\"interactive_example_spectra.js\" onerror=\"document.getElementById('error').innerHTML = 'Could not load the image data. Please unzip all the suplementary material into the same folder and then open the HTML file with any browser.'\"></script>\n",
    "        <style>\n",
    "        {css}\n",
    "        </style>\n",
    "    </head>\n",
    "    <body>\n",
    "        <p id=\"error\"></p>\n",
    "        <p id=\"loading\">Loading. Please wait...</p>\n",
    "        <figure>\n",
    "            {fig_image.to_html(full_html=False, include_plotlyjs=True, div_id=\"image\")}\n",
    "            <figcaption><strong>(a)</strong> Example image with reference segmentation</figcaption>\n",
    "        </figure>\n",
    "        <figure>\n",
    "            {fig_spectra.to_html(full_html=False, include_plotlyjs=False, div_id=\"spectra\")}\n",
    "            <figcaption><strong>(b)</strong> Spectrum exploration</figcaption>\n",
    "            <figcaption class='main_caption'><strong>Supplementary Figure:</strong> Interactive exploration of a hyperspectral imaging (HSI) cube. (a) The RGB reconstruction of an exemplary HSI cube is overlaid with the reference segmentation map. The opacity of the overlay can be adjusted through the opacity slider. (b) By default, the mean spectrum and one standard deviation range is shown for each of the eight classes present on the example image. Mean spectra and their standard deviations are computed from all &#8467;1-normalized pixel spectra in the example image that belong to the respective class label. By clicking on the RGB image, the respective &#8467;1-normalized pixel spectrum (dashed line), the mean spectrum of the corresponding class (solid line) and a one standard deviation range (shaded area) are displayed. Median spectra and standard deviations from any class can be added/removed by clicking on the respective label name in the legend.</figcaption>\n",
    "        </figure>\n",
    "        <script>\n",
    "            {js}\n",
    "        </script>\n",
    "    </body>\n",
    "</html>\"\"\"\n",
    "\n",
    "with (settings_seg.paper_dir / \"interactive_example_spectra.html\").open(\"w\") as f:\n",
    "    f.write(html)\n",
    "\n",
    "with (settings_seg.paper_dir / \"interactive_example_spectra.js\").open(\"w\") as f:\n",
    "    f.write(js_data)"
   ]
  }
 ],
 "metadata": {
  "kernelspec": {
   "display_name": "Python 3 (ipykernel)",
   "language": "python",
   "name": "python3"
  },
  "language_info": {
   "codemirror_mode": {
    "name": "ipython",
    "version": 3
   },
   "file_extension": ".py",
   "mimetype": "text/x-python",
   "name": "python",
   "nbconvert_exporter": "python",
   "pygments_lexer": "ipython3",
   "version": "3.10.8"
  },
  "vscode": {
   "interpreter": {
    "hash": "61170b39e877780504190538137489184be539aab65d19cb093e9e0273d7e14b"
   }
  }
 },
 "nbformat": 4,
 "nbformat_minor": 5
}
