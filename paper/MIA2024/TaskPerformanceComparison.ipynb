{
 "cells": [
  {
   "cell_type": "code",
   "execution_count": 1,
   "metadata": {},
   "outputs": [],
   "source": [
    "%load_ext autoreload\n",
    "%autoreload 2\n",
    "\n",
    "import pandas as pd\n",
    "import plotly.graph_objects as go\n",
    "import plotly.io as pio\n",
    "from plotly.subplots import make_subplots\n",
    "\n",
    "from htc.context.models.context_evaluation import best_run_data\n",
    "from htc.context.settings_context import settings_context\n",
    "from htc.settings_seg import settings_seg\n",
    "\n",
    "pio.kaleido.scope.mathjax = None"
   ]
  },
  {
   "cell_type": "code",
   "execution_count": 2,
   "metadata": {},
   "outputs": [
    {
     "data": {
      "text/html": [
       "<pre style=\"white-space:pre;overflow-x:auto;line-height:normal;font-family:Menlo,'DejaVu Sans Mono',consolas,'Courier New',monospace\"><span style=\"font-weight: bold\">[</span><span style=\"color: #008700; text-decoration-color: #008700\">INFO</span><span style=\"font-weight: bold\">][</span><span style=\"font-style: italic\">htc.no_duplicates</span><span style=\"font-weight: bold\">]</span> Found pretrained run in the local results dir at                               <span style=\"color: #7f7f7f; text-decoration-color: #7f7f7f\">HTCModel.py:481</span>\n",
       "<span style=\"color: #800080; text-decoration-color: #800080\">/mnt/ssd_8tb/htc/results_semantic/training/image/</span><span style=\"color: #ff00ff; text-decoration-color: #ff00ff\">2022-02-03_22-58-44_generated_default_model_comparison</span>  <span style=\"color: #7f7f7f; text-decoration-color: #7f7f7f\">               </span>\n",
       "</pre>\n"
      ],
      "text/plain": [
       "\u001b[1m[\u001b[0m\u001b[38;5;28mINFO\u001b[0m\u001b[1m]\u001b[0m\u001b[1m[\u001b[0m\u001b[3mhtc.no_duplicates\u001b[0m\u001b[1m]\u001b[0m Found pretrained run in the local results dir at                               \u001b[2mHTCModel.py:481\u001b[0m\n",
       "\u001b[35m/mnt/ssd_8tb/htc/results_semantic/training/image/\u001b[0m\u001b[95m2022-02-03_22-58-44_generated_default_model_comparison\u001b[0m  \u001b[2m               \u001b[0m\n"
      ]
     },
     "metadata": {},
     "output_type": "display_data"
    },
    {
     "data": {
      "text/html": [
       "<pre style=\"white-space:pre;overflow-x:auto;line-height:normal;font-family:Menlo,'DejaVu Sans Mono',consolas,'Courier New',monospace\"><span style=\"font-weight: bold\">[</span><span style=\"color: #008700; text-decoration-color: #008700\">INFO</span><span style=\"font-weight: bold\">][</span><span style=\"font-style: italic\">htc.no_duplicates</span><span style=\"font-weight: bold\">]</span> Found pretrained run in the local results dir at                               <span style=\"color: #7f7f7f; text-decoration-color: #7f7f7f\">HTCModel.py:481</span>\n",
       "<span style=\"color: #800080; text-decoration-color: #800080\">/mnt/ssd_8tb/htc/results_semantic/training/image/</span><span style=\"color: #ff00ff; text-decoration-color: #ff00ff\">2022-02-03_22-58-44_generated_default_rgb_model_compari</span> <span style=\"color: #7f7f7f; text-decoration-color: #7f7f7f\">               </span>\n",
       "<span style=\"color: #ff00ff; text-decoration-color: #ff00ff\">son</span>                                                                                                      <span style=\"color: #7f7f7f; text-decoration-color: #7f7f7f\">               </span>\n",
       "</pre>\n"
      ],
      "text/plain": [
       "\u001b[1m[\u001b[0m\u001b[38;5;28mINFO\u001b[0m\u001b[1m]\u001b[0m\u001b[1m[\u001b[0m\u001b[3mhtc.no_duplicates\u001b[0m\u001b[1m]\u001b[0m Found pretrained run in the local results dir at                               \u001b[2mHTCModel.py:481\u001b[0m\n",
       "\u001b[35m/mnt/ssd_8tb/htc/results_semantic/training/image/\u001b[0m\u001b[95m2022-02-03_22-58-44_generated_default_rgb_model_compari\u001b[0m \u001b[2m               \u001b[0m\n",
       "\u001b[95mson\u001b[0m                                                                                                      \u001b[2m               \u001b[0m\n"
      ]
     },
     "metadata": {},
     "output_type": "display_data"
    },
    {
     "data": {
      "text/html": [
       "<div>\n",
       "<style scoped>\n",
       "    .dataframe tbody tr th:only-of-type {\n",
       "        vertical-align: middle;\n",
       "    }\n",
       "\n",
       "    .dataframe tbody tr th {\n",
       "        vertical-align: top;\n",
       "    }\n",
       "\n",
       "    .dataframe thead th {\n",
       "        text-align: right;\n",
       "    }\n",
       "</style>\n",
       "<table border=\"1\" class=\"dataframe\">\n",
       "  <thead>\n",
       "    <tr style=\"text-align: right;\">\n",
       "      <th></th>\n",
       "      <th>network</th>\n",
       "      <th>dataset</th>\n",
       "      <th>label_index</th>\n",
       "      <th>dice_metric</th>\n",
       "      <th>surface_distance_metric</th>\n",
       "      <th>surface_dice_metric_mean</th>\n",
       "      <th>label_name</th>\n",
       "      <th>modality</th>\n",
       "    </tr>\n",
       "  </thead>\n",
       "  <tbody>\n",
       "    <tr>\n",
       "      <th>0</th>\n",
       "      <td>baseline</td>\n",
       "      <td>semantic</td>\n",
       "      <td>6</td>\n",
       "      <td>0.861474</td>\n",
       "      <td>9.262870</td>\n",
       "      <td>0.790171</td>\n",
       "      <td>stomach</td>\n",
       "      <td>HSI</td>\n",
       "    </tr>\n",
       "    <tr>\n",
       "      <th>1</th>\n",
       "      <td>baseline</td>\n",
       "      <td>semantic</td>\n",
       "      <td>5</td>\n",
       "      <td>0.957207</td>\n",
       "      <td>4.624576</td>\n",
       "      <td>0.791536</td>\n",
       "      <td>small_bowel</td>\n",
       "      <td>HSI</td>\n",
       "    </tr>\n",
       "    <tr>\n",
       "      <th>2</th>\n",
       "      <td>baseline</td>\n",
       "      <td>semantic</td>\n",
       "      <td>4</td>\n",
       "      <td>0.948589</td>\n",
       "      <td>3.187332</td>\n",
       "      <td>0.924161</td>\n",
       "      <td>colon</td>\n",
       "      <td>HSI</td>\n",
       "    </tr>\n",
       "    <tr>\n",
       "      <th>3</th>\n",
       "      <td>baseline</td>\n",
       "      <td>semantic</td>\n",
       "      <td>3</td>\n",
       "      <td>0.955587</td>\n",
       "      <td>3.820706</td>\n",
       "      <td>0.645928</td>\n",
       "      <td>liver</td>\n",
       "      <td>HSI</td>\n",
       "    </tr>\n",
       "    <tr>\n",
       "      <th>4</th>\n",
       "      <td>baseline</td>\n",
       "      <td>semantic</td>\n",
       "      <td>8</td>\n",
       "      <td>0.812361</td>\n",
       "      <td>2.863776</td>\n",
       "      <td>0.494350</td>\n",
       "      <td>gallbladder</td>\n",
       "      <td>HSI</td>\n",
       "    </tr>\n",
       "    <tr>\n",
       "      <th>...</th>\n",
       "      <td>...</td>\n",
       "      <td>...</td>\n",
       "      <td>...</td>\n",
       "      <td>...</td>\n",
       "      <td>...</td>\n",
       "      <td>...</td>\n",
       "      <td>...</td>\n",
       "      <td>...</td>\n",
       "    </tr>\n",
       "    <tr>\n",
       "      <th>663</th>\n",
       "      <td>organ_transplantation</td>\n",
       "      <td>semantic2</td>\n",
       "      <td>13</td>\n",
       "      <td>0.704187</td>\n",
       "      <td>38.340746</td>\n",
       "      <td>0.723531</td>\n",
       "      <td>fat_subcutaneous</td>\n",
       "      <td>RGB</td>\n",
       "    </tr>\n",
       "    <tr>\n",
       "      <th>664</th>\n",
       "      <td>organ_transplantation</td>\n",
       "      <td>semantic2</td>\n",
       "      <td>11</td>\n",
       "      <td>0.766200</td>\n",
       "      <td>22.827456</td>\n",
       "      <td>0.825938</td>\n",
       "      <td>peritoneum</td>\n",
       "      <td>RGB</td>\n",
       "    </tr>\n",
       "    <tr>\n",
       "      <th>665</th>\n",
       "      <td>organ_transplantation</td>\n",
       "      <td>semantic2</td>\n",
       "      <td>17</td>\n",
       "      <td>0.904380</td>\n",
       "      <td>2.448071</td>\n",
       "      <td>0.964088</td>\n",
       "      <td>major_vein</td>\n",
       "      <td>RGB</td>\n",
       "    </tr>\n",
       "    <tr>\n",
       "      <th>666</th>\n",
       "      <td>organ_transplantation</td>\n",
       "      <td>semantic2</td>\n",
       "      <td>18</td>\n",
       "      <td>0.888198</td>\n",
       "      <td>5.064728</td>\n",
       "      <td>0.485892</td>\n",
       "      <td>kidney_with_Gerotas_fascia</td>\n",
       "      <td>RGB</td>\n",
       "    </tr>\n",
       "    <tr>\n",
       "      <th>667</th>\n",
       "      <td>organ_transplantation</td>\n",
       "      <td>semantic2</td>\n",
       "      <td>0</td>\n",
       "      <td>0.989911</td>\n",
       "      <td>1.192947</td>\n",
       "      <td>0.921043</td>\n",
       "      <td>background</td>\n",
       "      <td>RGB</td>\n",
       "    </tr>\n",
       "  </tbody>\n",
       "</table>\n",
       "<p>668 rows × 8 columns</p>\n",
       "</div>"
      ],
      "text/plain": [
       "                   network    dataset  label_index  dice_metric  \\\n",
       "0                 baseline   semantic            6     0.861474   \n",
       "1                 baseline   semantic            5     0.957207   \n",
       "2                 baseline   semantic            4     0.948589   \n",
       "3                 baseline   semantic            3     0.955587   \n",
       "4                 baseline   semantic            8     0.812361   \n",
       "..                     ...        ...          ...          ...   \n",
       "663  organ_transplantation  semantic2           13     0.704187   \n",
       "664  organ_transplantation  semantic2           11     0.766200   \n",
       "665  organ_transplantation  semantic2           17     0.904380   \n",
       "666  organ_transplantation  semantic2           18     0.888198   \n",
       "667  organ_transplantation  semantic2            0     0.989911   \n",
       "\n",
       "     surface_distance_metric  surface_dice_metric_mean  \\\n",
       "0                   9.262870                  0.790171   \n",
       "1                   4.624576                  0.791536   \n",
       "2                   3.187332                  0.924161   \n",
       "3                   3.820706                  0.645928   \n",
       "4                   2.863776                  0.494350   \n",
       "..                       ...                       ...   \n",
       "663                38.340746                  0.723531   \n",
       "664                22.827456                  0.825938   \n",
       "665                 2.448071                  0.964088   \n",
       "666                 5.064728                  0.485892   \n",
       "667                 1.192947                  0.921043   \n",
       "\n",
       "                     label_name modality  \n",
       "0                       stomach      HSI  \n",
       "1                   small_bowel      HSI  \n",
       "2                         colon      HSI  \n",
       "3                         liver      HSI  \n",
       "4                   gallbladder      HSI  \n",
       "..                          ...      ...  \n",
       "663            fat_subcutaneous      RGB  \n",
       "664                  peritoneum      RGB  \n",
       "665                  major_vein      RGB  \n",
       "666  kidney_with_Gerotas_fascia      RGB  \n",
       "667                  background      RGB  \n",
       "\n",
       "[668 rows x 8 columns]"
      ]
     },
     "execution_count": 2,
     "metadata": {},
     "output_type": "execute_result"
    }
   ],
   "source": [
    "df = best_run_data(test=True)\n",
    "\n",
    "# Repeat reference for removal scenario\n",
    "semantic2 = df[df.dataset == \"semantic\"].copy()\n",
    "semantic2.replace({\"dataset\": {\"semantic\": \"semantic2\"}}, inplace=True)\n",
    "df = pd.concat([df, semantic2], ignore_index=True)\n",
    "\n",
    "df"
   ]
  },
  {
   "cell_type": "code",
   "execution_count": 3,
   "metadata": {},
   "outputs": [
    {
     "data": {
      "text/html": [
       "        <script type=\"text/javascript\">\n",
       "        window.PlotlyConfig = {MathJaxConfig: 'local'};\n",
       "        if (window.MathJax && window.MathJax.Hub && window.MathJax.Hub.Config) {window.MathJax.Hub.Config({SVG: {font: \"STIX-Web\"}});}\n",
       "        if (typeof require !== 'undefined') {\n",
       "        require.undef(\"plotly\");\n",
       "        requirejs.config({\n",
       "            paths: {\n",
       "                'plotly': ['https://cdn.plot.ly/plotly-2.32.0.min']\n",
       "            }\n",
       "        });\n",
       "        require(['plotly'], function(Plotly) {\n",
       "            window._Plotly = Plotly;\n",
       "        });\n",
       "        }\n",
       "        </script>\n",
       "        "
      ]
     },
     "metadata": {},
     "output_type": "display_data"
    },
    {
     "data": {
      "application/vnd.plotly.v1+json": {
       "config": {
        "plotlyServerURL": "https://plot.ly"
       },
       "data": [
        {
         "boxmean": true,
         "boxpoints": "all",
         "legendgroup": "baseline",
         "marker": {
          "color": "#508587"
         },
         "name": "Baseline",
         "offsetgroup": "baseline",
         "showlegend": false,
         "text": [
          "stomach",
          "small_bowel",
          "colon",
          "liver",
          "gallbladder",
          "pancreas",
          "kidney",
          "spleen",
          "bladder",
          "omentum",
          "lung",
          "heart",
          "skin",
          "muscle",
          "fat_subcutaneous",
          "peritoneum",
          "major_vein",
          "kidney_with_Gerotas_fascia",
          "background"
         ],
         "type": "box",
         "x": [
          "original",
          "original",
          "original",
          "original",
          "original",
          "original",
          "original",
          "original",
          "original",
          "original",
          "original",
          "original",
          "original",
          "original",
          "original",
          "original",
          "original",
          "original",
          "original"
         ],
         "xaxis": "x",
         "y": [
          0.861473641071633,
          0.9572065303861302,
          0.9485893705638366,
          0.9555865674609633,
          0.8123611938238926,
          0.9236893593318879,
          0.8996078640806908,
          0.9500669538407098,
          0.9558500068383815,
          0.767298252647227,
          0.8566362063090006,
          0.9327061706119113,
          0.7583362563473968,
          0.8854879140853882,
          0.6621610555058088,
          0.7739984667639888,
          0.7015092611312866,
          0.7966977834701539,
          0.9920313810608464
         ],
         "yaxis": "y"
        },
        {
         "boxmean": true,
         "boxpoints": "all",
         "legendgroup": "organ_transplantation",
         "marker": {
          "color": "#A39F5D"
         },
         "name": "Organ Transplantation",
         "offsetgroup": "organ_transplantation",
         "showlegend": false,
         "text": [
          "stomach",
          "small_bowel",
          "colon",
          "liver",
          "gallbladder",
          "pancreas",
          "kidney",
          "spleen",
          "bladder",
          "omentum",
          "lung",
          "heart",
          "skin",
          "muscle",
          "fat_subcutaneous",
          "peritoneum",
          "major_vein",
          "kidney_with_Gerotas_fascia",
          "background"
         ],
         "type": "box",
         "x": [
          "original",
          "original",
          "original",
          "original",
          "original",
          "original",
          "original",
          "original",
          "original",
          "original",
          "original",
          "original",
          "original",
          "original",
          "original",
          "original",
          "original",
          "original",
          "original"
         ],
         "xaxis": "x",
         "y": [
          0.871478492960077,
          0.953197890129721,
          0.9626351645232907,
          0.949342466239108,
          0.8397138351436906,
          0.9312997106521849,
          0.8913204654369479,
          0.938095459559607,
          0.9503241149728948,
          0.7545647466780749,
          0.8303254259957208,
          0.9294263362884522,
          0.7952009146860798,
          0.8911105791727703,
          0.7038704440770721,
          0.7843635316202398,
          0.8747839868068695,
          0.9263071715831757,
          0.9911609232055476
         ],
         "yaxis": "y"
        },
        {
         "boxmean": true,
         "boxpoints": "all",
         "legendgroup": "baseline",
         "marker": {
          "color": "#508587"
         },
         "name": "Baseline",
         "offsetgroup": "baseline",
         "showlegend": true,
         "text": [
          "stomach",
          "small_bowel",
          "colon",
          "liver",
          "gallbladder",
          "pancreas",
          "kidney",
          "spleen",
          "bladder",
          "omentum",
          "lung",
          "heart",
          "skin",
          "muscle",
          "fat_subcutaneous",
          "peritoneum",
          "major_vein",
          "kidney_with_Gerotas_fascia",
          "background"
         ],
         "type": "box",
         "x": [
          "isolation_zero",
          "isolation_zero",
          "isolation_zero",
          "isolation_zero",
          "isolation_zero",
          "isolation_zero",
          "isolation_zero",
          "isolation_zero",
          "isolation_zero",
          "isolation_zero",
          "isolation_zero",
          "isolation_zero",
          "isolation_zero",
          "isolation_zero",
          "isolation_zero",
          "isolation_zero",
          "isolation_zero",
          "isolation_zero",
          "isolation_zero"
         ],
         "xaxis": "x",
         "y": [
          0.39479507159114846,
          0.9911825057550361,
          0.8449777326614377,
          0.9621615207652136,
          0.2910822102393227,
          0.5774546278847589,
          0.8948847343719084,
          0.9168938959969416,
          0.7568019022363605,
          0.2674300310453134,
          0.8218441009521484,
          0.8628027862972684,
          0.8751007167331887,
          0.808013916015625,
          0.8416794393484835,
          0.2966142138423642,
          0.00765759265050292,
          0.47979618012905123,
          0.997153203386522
         ],
         "yaxis": "y"
        },
        {
         "boxmean": true,
         "boxpoints": "all",
         "legendgroup": "organ_transplantation",
         "marker": {
          "color": "#A39F5D"
         },
         "name": "Organ Transplantation",
         "offsetgroup": "organ_transplantation",
         "showlegend": true,
         "text": [
          "stomach",
          "small_bowel",
          "colon",
          "liver",
          "gallbladder",
          "pancreas",
          "kidney",
          "spleen",
          "bladder",
          "omentum",
          "lung",
          "heart",
          "skin",
          "muscle",
          "fat_subcutaneous",
          "peritoneum",
          "major_vein",
          "kidney_with_Gerotas_fascia",
          "background"
         ],
         "type": "box",
         "x": [
          "isolation_zero",
          "isolation_zero",
          "isolation_zero",
          "isolation_zero",
          "isolation_zero",
          "isolation_zero",
          "isolation_zero",
          "isolation_zero",
          "isolation_zero",
          "isolation_zero",
          "isolation_zero",
          "isolation_zero",
          "isolation_zero",
          "isolation_zero",
          "isolation_zero",
          "isolation_zero",
          "isolation_zero",
          "isolation_zero",
          "isolation_zero"
         ],
         "xaxis": "x",
         "y": [
          0.9421074786406269,
          0.9781582553073196,
          0.9593554542817214,
          0.9785389385543217,
          0.5860084553558091,
          0.9701881968785845,
          0.9372281311384214,
          0.9219912482821753,
          0.8184919691849581,
          0.8177816964471619,
          0.7274453401565552,
          0.9880592346191407,
          0.7420004522744984,
          0.8101866245269775,
          0.8296041384152735,
          0.6942861812113064,
          0.811734402179718,
          0.5464106634259224,
          0.998450558035341
         ],
         "yaxis": "y"
        },
        {
         "boxmean": true,
         "boxpoints": "all",
         "legendgroup": "baseline",
         "marker": {
          "color": "#508587"
         },
         "name": "Baseline",
         "offsetgroup": "baseline",
         "showlegend": false,
         "text": [
          "stomach",
          "small_bowel",
          "colon",
          "liver",
          "gallbladder",
          "pancreas",
          "kidney",
          "spleen",
          "bladder",
          "omentum",
          "lung",
          "heart",
          "skin",
          "muscle",
          "fat_subcutaneous",
          "peritoneum",
          "major_vein",
          "kidney_with_Gerotas_fascia",
          "background"
         ],
         "type": "box",
         "x": [
          "isolation_bgr",
          "isolation_bgr",
          "isolation_bgr",
          "isolation_bgr",
          "isolation_bgr",
          "isolation_bgr",
          "isolation_bgr",
          "isolation_bgr",
          "isolation_bgr",
          "isolation_bgr",
          "isolation_bgr",
          "isolation_bgr",
          "isolation_bgr",
          "isolation_bgr",
          "isolation_bgr",
          "isolation_bgr",
          "isolation_bgr",
          "isolation_bgr",
          "isolation_bgr"
         ],
         "xaxis": "x",
         "y": [
          0.1222906868085564,
          0.923075248105268,
          0.7889716621620068,
          0.800726407237031,
          0.1706418758151175,
          0.06559136505164798,
          0.10172106705459893,
          0.4341813049240718,
          0.831719294335419,
          0.0014894806495782877,
          0.9243188169267443,
          0.9717308097415499,
          0.8005093755295319,
          0.4895642300446828,
          0.1369766020999092,
          0.4176196208697429,
          0.09796871989965439,
          0,
          0.9969736815874558
         ],
         "yaxis": "y"
        },
        {
         "boxmean": true,
         "boxpoints": "all",
         "legendgroup": "organ_transplantation",
         "marker": {
          "color": "#A39F5D"
         },
         "name": "Organ Transplantation",
         "offsetgroup": "organ_transplantation",
         "showlegend": false,
         "text": [
          "stomach",
          "small_bowel",
          "colon",
          "liver",
          "gallbladder",
          "pancreas",
          "kidney",
          "spleen",
          "bladder",
          "omentum",
          "lung",
          "heart",
          "skin",
          "muscle",
          "fat_subcutaneous",
          "peritoneum",
          "major_vein",
          "kidney_with_Gerotas_fascia",
          "background"
         ],
         "type": "box",
         "x": [
          "isolation_bgr",
          "isolation_bgr",
          "isolation_bgr",
          "isolation_bgr",
          "isolation_bgr",
          "isolation_bgr",
          "isolation_bgr",
          "isolation_bgr",
          "isolation_bgr",
          "isolation_bgr",
          "isolation_bgr",
          "isolation_bgr",
          "isolation_bgr",
          "isolation_bgr",
          "isolation_bgr",
          "isolation_bgr",
          "isolation_bgr",
          "isolation_bgr",
          "isolation_bgr"
         ],
         "xaxis": "x",
         "y": [
          0.9375572358057932,
          0.9762218907247728,
          0.9782513992852374,
          0.97987361296701,
          0.6004172740091245,
          0.9441257370842827,
          0.9160289000841527,
          0.9252225526930794,
          0.9682169110007788,
          0.8819116042706657,
          0.8073557058970132,
          0.9881852626800537,
          0.7718660915018629,
          0.891126314798991,
          0.9251250398606863,
          0.8405767398168045,
          0.9638756036758422,
          0.9732827425003052,
          0.998933138016476
         ],
         "yaxis": "y"
        },
        {
         "boxmean": true,
         "boxpoints": "all",
         "legendgroup": "baseline",
         "marker": {
          "color": "#508587"
         },
         "name": "Baseline",
         "offsetgroup": "baseline",
         "showlegend": false,
         "text": [
          "stomach",
          "small_bowel",
          "colon",
          "liver",
          "gallbladder",
          "pancreas",
          "kidney",
          "spleen",
          "bladder",
          "omentum",
          "lung",
          "heart",
          "skin",
          "muscle",
          "peritoneum",
          "major_vein",
          "kidney_with_Gerotas_fascia",
          "background"
         ],
         "type": "box",
         "x": [
          "isolation_real",
          "isolation_real",
          "isolation_real",
          "isolation_real",
          "isolation_real",
          "isolation_real",
          "isolation_real",
          "isolation_real",
          "isolation_real",
          "isolation_real",
          "isolation_real",
          "isolation_real",
          "isolation_real",
          "isolation_real",
          "isolation_real",
          "isolation_real",
          "isolation_real",
          "isolation_real"
         ],
         "xaxis": "x",
         "y": [
          0.44649254437536,
          0.881641972064972,
          0.9920404553413391,
          0.5742735862731934,
          0.3522494410475095,
          0.12424157373607159,
          0.7868876829743385,
          0.6071382363637289,
          0.8282280564308167,
          0,
          0.9670775681734085,
          0.9716710249582926,
          0.954271534242128,
          0.2775430977344513,
          0.30901315808296204,
          0.27433519065380096,
          0.5462151020765305,
          0.9970833085674943
         ],
         "yaxis": "y"
        },
        {
         "boxmean": true,
         "boxpoints": "all",
         "legendgroup": "organ_transplantation",
         "marker": {
          "color": "#A39F5D"
         },
         "name": "Organ Transplantation",
         "offsetgroup": "organ_transplantation",
         "showlegend": false,
         "text": [
          "stomach",
          "small_bowel",
          "colon",
          "liver",
          "gallbladder",
          "pancreas",
          "kidney",
          "spleen",
          "bladder",
          "omentum",
          "lung",
          "heart",
          "skin",
          "muscle",
          "peritoneum",
          "major_vein",
          "kidney_with_Gerotas_fascia",
          "background"
         ],
         "type": "box",
         "x": [
          "isolation_real",
          "isolation_real",
          "isolation_real",
          "isolation_real",
          "isolation_real",
          "isolation_real",
          "isolation_real",
          "isolation_real",
          "isolation_real",
          "isolation_real",
          "isolation_real",
          "isolation_real",
          "isolation_real",
          "isolation_real",
          "isolation_real",
          "isolation_real",
          "isolation_real",
          "isolation_real"
         ],
         "xaxis": "x",
         "y": [
          0.9098750203847885,
          0.9696029663085938,
          0.9919309616088867,
          0.9561715573072433,
          0.954354445139567,
          0.7652827873826027,
          0.9852195456624031,
          0.9747649828592936,
          0.9837851673364639,
          0.908065676689148,
          0.9681917876005173,
          0.9812959035237631,
          0.9824876559408088,
          0.394196988743109,
          0.7286174297332764,
          0.9488683044910431,
          0.8905386030673981,
          0.9975172818274726
         ],
         "yaxis": "y"
        },
        {
         "boxmean": true,
         "boxpoints": "all",
         "legendgroup": "baseline",
         "marker": {
          "color": "#508587"
         },
         "name": "Baseline",
         "offsetgroup": "baseline",
         "showlegend": false,
         "text": [
          "stomach",
          "small_bowel",
          "colon",
          "liver",
          "gallbladder",
          "pancreas",
          "kidney",
          "spleen",
          "bladder",
          "omentum",
          "lung",
          "heart",
          "skin",
          "muscle",
          "fat_subcutaneous",
          "peritoneum",
          "major_vein",
          "kidney_with_Gerotas_fascia",
          "background"
         ],
         "type": "box",
         "x": [
          "original2",
          "original2",
          "original2",
          "original2",
          "original2",
          "original2",
          "original2",
          "original2",
          "original2",
          "original2",
          "original2",
          "original2",
          "original2",
          "original2",
          "original2",
          "original2",
          "original2",
          "original2",
          "original2"
         ],
         "xaxis": "x2",
         "y": [
          0.861473641071633,
          0.9572065303861302,
          0.9485893705638366,
          0.9555865674609633,
          0.8123611938238926,
          0.9236893593318879,
          0.8996078640806908,
          0.9500669538407098,
          0.9558500068383815,
          0.767298252647227,
          0.8566362063090006,
          0.9327061706119113,
          0.7583362563473968,
          0.8854879140853882,
          0.6621610555058088,
          0.7739984667639888,
          0.7015092611312866,
          0.7966977834701539,
          0.9920313810608464
         ],
         "yaxis": "y2"
        },
        {
         "boxmean": true,
         "boxpoints": "all",
         "legendgroup": "organ_transplantation",
         "marker": {
          "color": "#A39F5D"
         },
         "name": "Organ Transplantation",
         "offsetgroup": "organ_transplantation",
         "showlegend": false,
         "text": [
          "stomach",
          "small_bowel",
          "colon",
          "liver",
          "gallbladder",
          "pancreas",
          "kidney",
          "spleen",
          "bladder",
          "omentum",
          "lung",
          "heart",
          "skin",
          "muscle",
          "fat_subcutaneous",
          "peritoneum",
          "major_vein",
          "kidney_with_Gerotas_fascia",
          "background"
         ],
         "type": "box",
         "x": [
          "original2",
          "original2",
          "original2",
          "original2",
          "original2",
          "original2",
          "original2",
          "original2",
          "original2",
          "original2",
          "original2",
          "original2",
          "original2",
          "original2",
          "original2",
          "original2",
          "original2",
          "original2",
          "original2"
         ],
         "xaxis": "x2",
         "y": [
          0.871478492960077,
          0.953197890129721,
          0.9626351645232907,
          0.949342466239108,
          0.8397138351436906,
          0.9312997106521849,
          0.8913204654369479,
          0.938095459559607,
          0.9503241149728948,
          0.7545647466780749,
          0.8303254259957208,
          0.9294263362884522,
          0.7952009146860798,
          0.8911105791727703,
          0.7038704440770721,
          0.7843635316202398,
          0.8747839868068695,
          0.9263071715831757,
          0.9911609232055476
         ],
         "yaxis": "y2"
        },
        {
         "boxmean": true,
         "boxpoints": "all",
         "legendgroup": "baseline",
         "marker": {
          "color": "#508587"
         },
         "name": "Baseline",
         "offsetgroup": "baseline",
         "showlegend": false,
         "text": [
          "stomach",
          "small_bowel",
          "colon",
          "liver",
          "gallbladder",
          "pancreas",
          "kidney",
          "spleen",
          "bladder",
          "omentum",
          "lung",
          "heart",
          "skin",
          "muscle",
          "fat_subcutaneous",
          "peritoneum",
          "major_vein",
          "kidney_with_Gerotas_fascia",
          "background"
         ],
         "type": "box",
         "x": [
          "removal_zero",
          "removal_zero",
          "removal_zero",
          "removal_zero",
          "removal_zero",
          "removal_zero",
          "removal_zero",
          "removal_zero",
          "removal_zero",
          "removal_zero",
          "removal_zero",
          "removal_zero",
          "removal_zero",
          "removal_zero",
          "removal_zero",
          "removal_zero",
          "removal_zero",
          "removal_zero",
          "removal_zero"
         ],
         "xaxis": "x2",
         "y": [
          0.5989327321699878,
          0.918435989878047,
          0.8888181528117716,
          0.9288440644722874,
          0.2984862249278136,
          0.7884678306087615,
          0.868855586092846,
          0.9260405088227892,
          0.701270326700626,
          0.5785268536304196,
          0.7845829433865017,
          0.8958433190981547,
          0.7060077188276295,
          0.8862646395961443,
          0.5733582523882274,
          0.5083753532036069,
          0.3506607102463022,
          0.4654929727315903,
          0.9896595419075755
         ],
         "yaxis": "y2"
        },
        {
         "boxmean": true,
         "boxpoints": "all",
         "legendgroup": "organ_transplantation",
         "marker": {
          "color": "#A39F5D"
         },
         "name": "Organ Transplantation",
         "offsetgroup": "organ_transplantation",
         "showlegend": false,
         "text": [
          "stomach",
          "small_bowel",
          "colon",
          "liver",
          "gallbladder",
          "pancreas",
          "kidney",
          "spleen",
          "bladder",
          "omentum",
          "lung",
          "heart",
          "skin",
          "muscle",
          "fat_subcutaneous",
          "peritoneum",
          "major_vein",
          "kidney_with_Gerotas_fascia",
          "background"
         ],
         "type": "box",
         "x": [
          "removal_zero",
          "removal_zero",
          "removal_zero",
          "removal_zero",
          "removal_zero",
          "removal_zero",
          "removal_zero",
          "removal_zero",
          "removal_zero",
          "removal_zero",
          "removal_zero",
          "removal_zero",
          "removal_zero",
          "removal_zero",
          "removal_zero",
          "removal_zero",
          "removal_zero",
          "removal_zero",
          "removal_zero"
         ],
         "xaxis": "x2",
         "y": [
          0.8484424867071647,
          0.9456997003862118,
          0.9457238799233669,
          0.9410875962643402,
          0.5662399217586166,
          0.9163559126475501,
          0.8900546220685142,
          0.9082275401830437,
          0.9296521556079818,
          0.7221593995965445,
          0.8107435610559252,
          0.92975914047824,
          0.7355615524935001,
          0.8695576041936874,
          0.6138096313360473,
          0.6578828129905765,
          0.8137529343366623,
          0.9119228005409241,
          0.9902893494878219
         ],
         "yaxis": "y2"
        },
        {
         "boxmean": true,
         "boxpoints": "all",
         "legendgroup": "baseline",
         "marker": {
          "color": "#508587"
         },
         "name": "Baseline",
         "offsetgroup": "baseline",
         "showlegend": false,
         "text": [
          "stomach",
          "small_bowel",
          "colon",
          "liver",
          "gallbladder",
          "pancreas",
          "kidney",
          "spleen",
          "bladder",
          "omentum",
          "lung",
          "heart",
          "skin",
          "muscle",
          "fat_subcutaneous",
          "peritoneum",
          "major_vein",
          "kidney_with_Gerotas_fascia",
          "background"
         ],
         "type": "box",
         "x": [
          "removal_bgr",
          "removal_bgr",
          "removal_bgr",
          "removal_bgr",
          "removal_bgr",
          "removal_bgr",
          "removal_bgr",
          "removal_bgr",
          "removal_bgr",
          "removal_bgr",
          "removal_bgr",
          "removal_bgr",
          "removal_bgr",
          "removal_bgr",
          "removal_bgr",
          "removal_bgr",
          "removal_bgr",
          "removal_bgr",
          "removal_bgr"
         ],
         "xaxis": "x2",
         "y": [
          0.7240884797200472,
          0.9430636956980338,
          0.900261036252701,
          0.9292094366278375,
          0.41135962477966237,
          0.8578515456782446,
          0.8647343117037629,
          0.8940049872523735,
          0.8529970164499414,
          0.6570705681863682,
          0.7819036791721979,
          0.9078455868694517,
          0.7098014226959525,
          0.7142603099346161,
          0.5375261605091015,
          0.5858823930713002,
          0.5511288411915303,
          0.5488074593245983,
          0.9908720534067295
         ],
         "yaxis": "y2"
        },
        {
         "boxmean": true,
         "boxpoints": "all",
         "legendgroup": "organ_transplantation",
         "marker": {
          "color": "#A39F5D"
         },
         "name": "Organ Transplantation",
         "offsetgroup": "organ_transplantation",
         "showlegend": false,
         "text": [
          "stomach",
          "small_bowel",
          "colon",
          "liver",
          "gallbladder",
          "pancreas",
          "kidney",
          "spleen",
          "bladder",
          "omentum",
          "lung",
          "heart",
          "skin",
          "muscle",
          "fat_subcutaneous",
          "peritoneum",
          "major_vein",
          "kidney_with_Gerotas_fascia",
          "background"
         ],
         "type": "box",
         "x": [
          "removal_bgr",
          "removal_bgr",
          "removal_bgr",
          "removal_bgr",
          "removal_bgr",
          "removal_bgr",
          "removal_bgr",
          "removal_bgr",
          "removal_bgr",
          "removal_bgr",
          "removal_bgr",
          "removal_bgr",
          "removal_bgr",
          "removal_bgr",
          "removal_bgr",
          "removal_bgr",
          "removal_bgr",
          "removal_bgr",
          "removal_bgr"
         ],
         "xaxis": "x2",
         "y": [
          0.852614147844563,
          0.9502303098803664,
          0.9549792008940253,
          0.943212528282408,
          0.6077749840605526,
          0.9165134901092166,
          0.8874800688301037,
          0.9276204345954788,
          0.9442071072403314,
          0.7231576855443571,
          0.8222481121619541,
          0.9290893591112561,
          0.7679086836485154,
          0.8887849996487299,
          0.6275142210508944,
          0.6853136954337458,
          0.8602557592093945,
          0.9233467727899551,
          0.9904703115098098
         ],
         "yaxis": "y2"
        },
        {
         "boxmean": true,
         "boxpoints": "all",
         "legendgroup": "baseline",
         "marker": {
          "color": "#508587"
         },
         "name": "Baseline",
         "offsetgroup": "baseline",
         "showlegend": false,
         "text": [
          "stomach",
          "small_bowel",
          "colon",
          "liver",
          "gallbladder",
          "kidney",
          "spleen",
          "bladder",
          "omentum",
          "lung",
          "heart",
          "skin",
          "muscle",
          "fat_subcutaneous",
          "peritoneum",
          "background"
         ],
         "type": "box",
         "x": [
          "no-occlusion",
          "no-occlusion",
          "no-occlusion",
          "no-occlusion",
          "no-occlusion",
          "no-occlusion",
          "no-occlusion",
          "no-occlusion",
          "no-occlusion",
          "no-occlusion",
          "no-occlusion",
          "no-occlusion",
          "no-occlusion",
          "no-occlusion",
          "no-occlusion",
          "no-occlusion"
         ],
         "xaxis": "x3",
         "y": [
          0.8313180021750621,
          0.9355106407429747,
          0.9589920405846417,
          0.8827787432359371,
          0.6081084787071526,
          0,
          0.9272205641790598,
          0.963500446506909,
          0.7120040442393376,
          0.7945861895879109,
          0.949306599299113,
          0.9507478427263646,
          0.868590490023295,
          0.4969007407294379,
          0.7632127260920978,
          0.9882827617538779
         ],
         "yaxis": "y3"
        },
        {
         "boxmean": true,
         "boxpoints": "all",
         "legendgroup": "organ_transplantation",
         "marker": {
          "color": "#A39F5D"
         },
         "name": "Organ Transplantation",
         "offsetgroup": "organ_transplantation",
         "showlegend": false,
         "text": [
          "stomach",
          "small_bowel",
          "colon",
          "liver",
          "gallbladder",
          "kidney",
          "spleen",
          "bladder",
          "omentum",
          "lung",
          "heart",
          "skin",
          "muscle",
          "fat_subcutaneous",
          "peritoneum",
          "background"
         ],
         "type": "box",
         "x": [
          "no-occlusion",
          "no-occlusion",
          "no-occlusion",
          "no-occlusion",
          "no-occlusion",
          "no-occlusion",
          "no-occlusion",
          "no-occlusion",
          "no-occlusion",
          "no-occlusion",
          "no-occlusion",
          "no-occlusion",
          "no-occlusion",
          "no-occlusion",
          "no-occlusion",
          "no-occlusion"
         ],
         "xaxis": "x3",
         "y": [
          0.9135136298644237,
          0.9515187297066913,
          0.9723452292647605,
          0.9518393368709894,
          0.5988422291619437,
          0.8399546146392822,
          0.9417543095700881,
          0.9568881520203182,
          0.8088459881758079,
          0.7692059516906739,
          0.9401306417253282,
          0.9575428532619102,
          0.902607536315918,
          0.5319040722317165,
          0.7934259674765847,
          0.9896408709320921
         ],
         "yaxis": "y3"
        },
        {
         "boxmean": true,
         "boxpoints": "all",
         "legendgroup": "baseline",
         "marker": {
          "color": "#508587"
         },
         "name": "Baseline",
         "offsetgroup": "baseline",
         "showlegend": false,
         "text": [
          "stomach",
          "small_bowel",
          "colon",
          "liver",
          "gallbladder",
          "pancreas",
          "kidney",
          "spleen",
          "bladder",
          "omentum",
          "lung",
          "heart",
          "skin",
          "muscle",
          "fat_subcutaneous",
          "peritoneum",
          "major_vein",
          "kidney_with_Gerotas_fascia",
          "background"
         ],
         "type": "box",
         "x": [
          "occlusion",
          "occlusion",
          "occlusion",
          "occlusion",
          "occlusion",
          "occlusion",
          "occlusion",
          "occlusion",
          "occlusion",
          "occlusion",
          "occlusion",
          "occlusion",
          "occlusion",
          "occlusion",
          "occlusion",
          "occlusion",
          "occlusion",
          "occlusion",
          "occlusion"
         ],
         "xaxis": "x3",
         "y": [
          0.4178444168555043,
          0.8976419893098853,
          0.8624104994769191,
          0.8527668569453809,
          0.8327843717166356,
          0.1926916027825976,
          0.9112000796529982,
          0.7437798380851746,
          0.921928021135893,
          0.49992582760159926,
          0.9482386452811105,
          0.9004087448120117,
          0.5762820036874877,
          0.907912118094308,
          0.659190983289764,
          0.5707084915067395,
          0.7252314507961273,
          0.8326196491718292,
          0.92907874584198
         ],
         "yaxis": "y3"
        },
        {
         "boxmean": true,
         "boxpoints": "all",
         "legendgroup": "organ_transplantation",
         "marker": {
          "color": "#A39F5D"
         },
         "name": "Organ Transplantation",
         "offsetgroup": "organ_transplantation",
         "showlegend": false,
         "text": [
          "stomach",
          "small_bowel",
          "colon",
          "liver",
          "gallbladder",
          "pancreas",
          "kidney",
          "spleen",
          "bladder",
          "omentum",
          "lung",
          "heart",
          "skin",
          "muscle",
          "fat_subcutaneous",
          "peritoneum",
          "major_vein",
          "kidney_with_Gerotas_fascia",
          "background"
         ],
         "type": "box",
         "x": [
          "occlusion",
          "occlusion",
          "occlusion",
          "occlusion",
          "occlusion",
          "occlusion",
          "occlusion",
          "occlusion",
          "occlusion",
          "occlusion",
          "occlusion",
          "occlusion",
          "occlusion",
          "occlusion",
          "occlusion",
          "occlusion",
          "occlusion",
          "occlusion",
          "occlusion"
         ],
         "xaxis": "x3",
         "y": [
          0.7067442366685817,
          0.9369903080470382,
          0.920612938263837,
          0.8462948193625799,
          0.8400343136181907,
          0.737116171064831,
          0.9167368445131514,
          0.6724519828955332,
          0.9154073243316091,
          0.5812790386260502,
          0.960942132132394,
          0.9148463521684919,
          0.5829129761291875,
          0.9331097602844238,
          0.737312312164004,
          0.6394686473740472,
          0.7656322240829467,
          0.9208462715148926,
          0.9254603885942035
         ],
         "yaxis": "y3"
        },
        {
         "boxmean": true,
         "boxpoints": "all",
         "legendgroup": "baseline",
         "marker": {
          "color": "#508587"
         },
         "name": "Baseline",
         "offsetgroup": "baseline",
         "showlegend": false,
         "text": [
          "stomach",
          "small_bowel",
          "colon",
          "liver",
          "gallbladder",
          "pancreas",
          "kidney",
          "spleen",
          "bladder",
          "omentum",
          "lung",
          "heart",
          "skin",
          "muscle",
          "fat_subcutaneous",
          "peritoneum",
          "major_vein",
          "kidney_with_Gerotas_fascia",
          "background"
         ],
         "type": "box",
         "x": [
          "original",
          "original",
          "original",
          "original",
          "original",
          "original",
          "original",
          "original",
          "original",
          "original",
          "original",
          "original",
          "original",
          "original",
          "original",
          "original",
          "original",
          "original",
          "original"
         ],
         "xaxis": "x4",
         "y": [
          0.7824955355367889,
          0.9450368555903562,
          0.9469814192026815,
          0.9240282243297946,
          0.807597905372947,
          0.9540464832669212,
          0.8825857608146916,
          0.7922294622375852,
          0.799119303450784,
          0.7657403579266796,
          0.831808384259542,
          0.9281005170610216,
          0.7594127542377497,
          0.8567541837692261,
          0.6833133255539725,
          0.7216715267608336,
          0.592743992805481,
          0.8148314654827118,
          0.990822307828102
         ],
         "yaxis": "y4"
        },
        {
         "boxmean": true,
         "boxpoints": "all",
         "legendgroup": "organ_transplantation",
         "marker": {
          "color": "#A39F5D"
         },
         "name": "Organ Transplantation",
         "offsetgroup": "organ_transplantation",
         "showlegend": false,
         "text": [
          "stomach",
          "small_bowel",
          "colon",
          "liver",
          "gallbladder",
          "pancreas",
          "kidney",
          "spleen",
          "bladder",
          "omentum",
          "lung",
          "heart",
          "skin",
          "muscle",
          "fat_subcutaneous",
          "peritoneum",
          "major_vein",
          "kidney_with_Gerotas_fascia",
          "background"
         ],
         "type": "box",
         "x": [
          "original",
          "original",
          "original",
          "original",
          "original",
          "original",
          "original",
          "original",
          "original",
          "original",
          "original",
          "original",
          "original",
          "original",
          "original",
          "original",
          "original",
          "original",
          "original"
         ],
         "xaxis": "x4",
         "y": [
          0.8279000323747592,
          0.9458623969825422,
          0.9559748782655646,
          0.9356500438016397,
          0.7917375597607327,
          0.9529784104180715,
          0.8825142367992526,
          0.8425740397922576,
          0.9079341381989516,
          0.7575602977083589,
          0.8190641085306803,
          0.9214527024163139,
          0.7965604270277744,
          0.8819332520167034,
          0.7041868841498824,
          0.7661995957315753,
          0.9043801844120025,
          0.888197922706604,
          0.9899106672380512
         ],
         "yaxis": "y4"
        },
        {
         "boxmean": true,
         "boxpoints": "all",
         "legendgroup": "baseline",
         "marker": {
          "color": "#508587"
         },
         "name": "Baseline",
         "offsetgroup": "baseline",
         "showlegend": false,
         "text": [
          "stomach",
          "small_bowel",
          "colon",
          "liver",
          "gallbladder",
          "pancreas",
          "kidney",
          "spleen",
          "bladder",
          "omentum",
          "lung",
          "heart",
          "skin",
          "muscle",
          "fat_subcutaneous",
          "peritoneum",
          "major_vein",
          "kidney_with_Gerotas_fascia",
          "background"
         ],
         "type": "box",
         "x": [
          "isolation_zero",
          "isolation_zero",
          "isolation_zero",
          "isolation_zero",
          "isolation_zero",
          "isolation_zero",
          "isolation_zero",
          "isolation_zero",
          "isolation_zero",
          "isolation_zero",
          "isolation_zero",
          "isolation_zero",
          "isolation_zero",
          "isolation_zero",
          "isolation_zero",
          "isolation_zero",
          "isolation_zero",
          "isolation_zero",
          "isolation_zero"
         ],
         "xaxis": "x4",
         "y": [
          0.19707821449045382,
          0.7074664838682486,
          0.7953261851923358,
          0.8868039593026223,
          0.030388840420664042,
          0.1903529577785068,
          0.7102955120061738,
          0.41122533643766057,
          0.5140942184095947,
          0.08035904435764145,
          0.9300028800964356,
          0.9617720286051431,
          0.4751092022634557,
          0.001602140604518354,
          0.06082185707263289,
          0.40009286738648153,
          0.002747944928705692,
          0.10063978037796914,
          0.9944000527955446
         ],
         "yaxis": "y4"
        },
        {
         "boxmean": true,
         "boxpoints": "all",
         "legendgroup": "organ_transplantation",
         "marker": {
          "color": "#A39F5D"
         },
         "name": "Organ Transplantation",
         "offsetgroup": "organ_transplantation",
         "showlegend": false,
         "text": [
          "stomach",
          "small_bowel",
          "colon",
          "liver",
          "gallbladder",
          "pancreas",
          "kidney",
          "spleen",
          "bladder",
          "omentum",
          "lung",
          "heart",
          "skin",
          "muscle",
          "fat_subcutaneous",
          "peritoneum",
          "major_vein",
          "kidney_with_Gerotas_fascia",
          "background"
         ],
         "type": "box",
         "x": [
          "isolation_zero",
          "isolation_zero",
          "isolation_zero",
          "isolation_zero",
          "isolation_zero",
          "isolation_zero",
          "isolation_zero",
          "isolation_zero",
          "isolation_zero",
          "isolation_zero",
          "isolation_zero",
          "isolation_zero",
          "isolation_zero",
          "isolation_zero",
          "isolation_zero",
          "isolation_zero",
          "isolation_zero",
          "isolation_zero",
          "isolation_zero"
         ],
         "xaxis": "x4",
         "y": [
          0.7536162264584598,
          0.9256902320170262,
          0.9029559875407864,
          0.9059712837294391,
          0.08359360437968681,
          0.9739202688610743,
          0.9335232996473125,
          0.36373233832537183,
          0.48965273198111225,
          0.9241769528752231,
          0.8048961957295736,
          0.9757717821333144,
          0.705568609943335,
          0.5339397291342417,
          0.5899964295634217,
          0.6030732672906798,
          0.1395804002415389,
          0.44809154868125917,
          0.9982284183958556
         ],
         "yaxis": "y4"
        },
        {
         "boxmean": true,
         "boxpoints": "all",
         "legendgroup": "baseline",
         "marker": {
          "color": "#508587"
         },
         "name": "Baseline",
         "offsetgroup": "baseline",
         "showlegend": false,
         "text": [
          "stomach",
          "small_bowel",
          "colon",
          "liver",
          "gallbladder",
          "pancreas",
          "kidney",
          "spleen",
          "bladder",
          "omentum",
          "lung",
          "heart",
          "skin",
          "muscle",
          "fat_subcutaneous",
          "peritoneum",
          "major_vein",
          "kidney_with_Gerotas_fascia",
          "background"
         ],
         "type": "box",
         "x": [
          "isolation_bgr",
          "isolation_bgr",
          "isolation_bgr",
          "isolation_bgr",
          "isolation_bgr",
          "isolation_bgr",
          "isolation_bgr",
          "isolation_bgr",
          "isolation_bgr",
          "isolation_bgr",
          "isolation_bgr",
          "isolation_bgr",
          "isolation_bgr",
          "isolation_bgr",
          "isolation_bgr",
          "isolation_bgr",
          "isolation_bgr",
          "isolation_bgr",
          "isolation_bgr"
         ],
         "xaxis": "x4",
         "y": [
          0.12405765994034515,
          0.9503227080635647,
          0.8778580063716314,
          0.9921228229681327,
          0.15515441498268023,
          0.07932014988055305,
          0.5489288420459024,
          0.41461762493417603,
          0.6908462424835602,
          0.05728558237138002,
          0.9091114415062798,
          0.8672238667805989,
          0.49872241969244296,
          0.21650767574707666,
          0.5466300235504754,
          0.510513383125317,
          0.06833781003952026,
          0.40482147634029386,
          0.9973261754401614
         ],
         "yaxis": "y4"
        },
        {
         "boxmean": true,
         "boxpoints": "all",
         "legendgroup": "organ_transplantation",
         "marker": {
          "color": "#A39F5D"
         },
         "name": "Organ Transplantation",
         "offsetgroup": "organ_transplantation",
         "showlegend": false,
         "text": [
          "stomach",
          "small_bowel",
          "colon",
          "liver",
          "gallbladder",
          "pancreas",
          "kidney",
          "spleen",
          "bladder",
          "omentum",
          "lung",
          "heart",
          "skin",
          "muscle",
          "fat_subcutaneous",
          "peritoneum",
          "major_vein",
          "kidney_with_Gerotas_fascia",
          "background"
         ],
         "type": "box",
         "x": [
          "isolation_bgr",
          "isolation_bgr",
          "isolation_bgr",
          "isolation_bgr",
          "isolation_bgr",
          "isolation_bgr",
          "isolation_bgr",
          "isolation_bgr",
          "isolation_bgr",
          "isolation_bgr",
          "isolation_bgr",
          "isolation_bgr",
          "isolation_bgr",
          "isolation_bgr",
          "isolation_bgr",
          "isolation_bgr",
          "isolation_bgr",
          "isolation_bgr",
          "isolation_bgr"
         ],
         "xaxis": "x4",
         "y": [
          0.8232926293915395,
          0.9815734292984187,
          0.9856126982309983,
          0.9467161603878325,
          0.49193331814556085,
          0.9827056536598812,
          0.8957230343538172,
          0.8341278042112077,
          0.9216305895347098,
          0.855710473703833,
          0.8584616343180339,
          0.9892710632748075,
          0.7518390354949656,
          0.8991813659667969,
          0.7358520077891342,
          0.719879066580629,
          0.8917125523090362,
          0.9446665704250335,
          0.9981120170085953
         ],
         "yaxis": "y4"
        },
        {
         "boxmean": true,
         "boxpoints": "all",
         "legendgroup": "baseline",
         "marker": {
          "color": "#508587"
         },
         "name": "Baseline",
         "offsetgroup": "baseline",
         "showlegend": false,
         "text": [
          "stomach",
          "small_bowel",
          "colon",
          "liver",
          "gallbladder",
          "pancreas",
          "kidney",
          "spleen",
          "bladder",
          "omentum",
          "lung",
          "heart",
          "skin",
          "muscle",
          "peritoneum",
          "major_vein",
          "kidney_with_Gerotas_fascia",
          "background"
         ],
         "type": "box",
         "x": [
          "isolation_real",
          "isolation_real",
          "isolation_real",
          "isolation_real",
          "isolation_real",
          "isolation_real",
          "isolation_real",
          "isolation_real",
          "isolation_real",
          "isolation_real",
          "isolation_real",
          "isolation_real",
          "isolation_real",
          "isolation_real",
          "isolation_real",
          "isolation_real",
          "isolation_real",
          "isolation_real"
         ],
         "xaxis": "x4",
         "y": [
          0.6092109209857881,
          0.9422743678092956,
          0.9924092888832092,
          0.8980409950017929,
          0.3777156074841817,
          0.012680412270128727,
          0.7357332059182227,
          0.323336402575175,
          0.9166669249534607,
          0.0003274751652497798,
          0.9572533369064331,
          0.9364159901936849,
          0.6448374242766907,
          0.1926037257004888,
          0.2700892686843872,
          0.13258394226431847,
          0.5899998247623444,
          0.9972874705555674
         ],
         "yaxis": "y4"
        },
        {
         "boxmean": true,
         "boxpoints": "all",
         "legendgroup": "organ_transplantation",
         "marker": {
          "color": "#A39F5D"
         },
         "name": "Organ Transplantation",
         "offsetgroup": "organ_transplantation",
         "showlegend": false,
         "text": [
          "stomach",
          "small_bowel",
          "colon",
          "liver",
          "gallbladder",
          "pancreas",
          "kidney",
          "spleen",
          "bladder",
          "omentum",
          "lung",
          "heart",
          "skin",
          "muscle",
          "peritoneum",
          "major_vein",
          "kidney_with_Gerotas_fascia",
          "background"
         ],
         "type": "box",
         "x": [
          "isolation_real",
          "isolation_real",
          "isolation_real",
          "isolation_real",
          "isolation_real",
          "isolation_real",
          "isolation_real",
          "isolation_real",
          "isolation_real",
          "isolation_real",
          "isolation_real",
          "isolation_real",
          "isolation_real",
          "isolation_real",
          "isolation_real",
          "isolation_real",
          "isolation_real",
          "isolation_real"
         ],
         "xaxis": "x4",
         "y": [
          0.8683061450719833,
          0.9722974300384521,
          0.9925851821899414,
          0.935847282409668,
          0.628723161915938,
          0.9126102477312088,
          0.9844184517860413,
          0.9481713970502218,
          0.987303763628006,
          0.976811408996582,
          0.9658353626728058,
          0.9807827870051066,
          0.9697787335044459,
          0.3351037800312042,
          0.7543319463729858,
          0.40369945764541626,
          0.7908279895782471,
          0.997221044231247
         ],
         "yaxis": "y4"
        },
        {
         "boxmean": true,
         "boxpoints": "all",
         "legendgroup": "baseline",
         "marker": {
          "color": "#508587"
         },
         "name": "Baseline",
         "offsetgroup": "baseline",
         "showlegend": false,
         "text": [
          "stomach",
          "small_bowel",
          "colon",
          "liver",
          "gallbladder",
          "pancreas",
          "kidney",
          "spleen",
          "bladder",
          "omentum",
          "lung",
          "heart",
          "skin",
          "muscle",
          "fat_subcutaneous",
          "peritoneum",
          "major_vein",
          "kidney_with_Gerotas_fascia",
          "background"
         ],
         "type": "box",
         "x": [
          "original2",
          "original2",
          "original2",
          "original2",
          "original2",
          "original2",
          "original2",
          "original2",
          "original2",
          "original2",
          "original2",
          "original2",
          "original2",
          "original2",
          "original2",
          "original2",
          "original2",
          "original2",
          "original2"
         ],
         "xaxis": "x5",
         "y": [
          0.7824955355367889,
          0.9450368555903562,
          0.9469814192026815,
          0.9240282243297946,
          0.807597905372947,
          0.9540464832669212,
          0.8825857608146916,
          0.7922294622375852,
          0.799119303450784,
          0.7657403579266796,
          0.831808384259542,
          0.9281005170610216,
          0.7594127542377497,
          0.8567541837692261,
          0.6833133255539725,
          0.7216715267608336,
          0.592743992805481,
          0.8148314654827118,
          0.990822307828102
         ],
         "yaxis": "y5"
        },
        {
         "boxmean": true,
         "boxpoints": "all",
         "legendgroup": "organ_transplantation",
         "marker": {
          "color": "#A39F5D"
         },
         "name": "Organ Transplantation",
         "offsetgroup": "organ_transplantation",
         "showlegend": false,
         "text": [
          "stomach",
          "small_bowel",
          "colon",
          "liver",
          "gallbladder",
          "pancreas",
          "kidney",
          "spleen",
          "bladder",
          "omentum",
          "lung",
          "heart",
          "skin",
          "muscle",
          "fat_subcutaneous",
          "peritoneum",
          "major_vein",
          "kidney_with_Gerotas_fascia",
          "background"
         ],
         "type": "box",
         "x": [
          "original2",
          "original2",
          "original2",
          "original2",
          "original2",
          "original2",
          "original2",
          "original2",
          "original2",
          "original2",
          "original2",
          "original2",
          "original2",
          "original2",
          "original2",
          "original2",
          "original2",
          "original2",
          "original2"
         ],
         "xaxis": "x5",
         "y": [
          0.8279000323747592,
          0.9458623969825422,
          0.9559748782655646,
          0.9356500438016397,
          0.7917375597607327,
          0.9529784104180715,
          0.8825142367992526,
          0.8425740397922576,
          0.9079341381989516,
          0.7575602977083589,
          0.8190641085306803,
          0.9214527024163139,
          0.7965604270277744,
          0.8819332520167034,
          0.7041868841498824,
          0.7661995957315753,
          0.9043801844120025,
          0.888197922706604,
          0.9899106672380512
         ],
         "yaxis": "y5"
        },
        {
         "boxmean": true,
         "boxpoints": "all",
         "legendgroup": "baseline",
         "marker": {
          "color": "#508587"
         },
         "name": "Baseline",
         "offsetgroup": "baseline",
         "showlegend": false,
         "text": [
          "stomach",
          "small_bowel",
          "colon",
          "liver",
          "gallbladder",
          "pancreas",
          "kidney",
          "spleen",
          "bladder",
          "omentum",
          "lung",
          "heart",
          "skin",
          "muscle",
          "fat_subcutaneous",
          "peritoneum",
          "major_vein",
          "kidney_with_Gerotas_fascia",
          "background"
         ],
         "type": "box",
         "x": [
          "removal_zero",
          "removal_zero",
          "removal_zero",
          "removal_zero",
          "removal_zero",
          "removal_zero",
          "removal_zero",
          "removal_zero",
          "removal_zero",
          "removal_zero",
          "removal_zero",
          "removal_zero",
          "removal_zero",
          "removal_zero",
          "removal_zero",
          "removal_zero",
          "removal_zero",
          "removal_zero",
          "removal_zero"
         ],
         "xaxis": "x5",
         "y": [
          0.4624460832288764,
          0.8675557968733474,
          0.8262293362587876,
          0.8149656564176333,
          0.28991653222884306,
          0.4905544919479225,
          0.7700870861877608,
          0.46825251356930486,
          0.35130049263715507,
          0.5514395222998983,
          0.7020728909307056,
          0.8589168008830813,
          0.5495698667372988,
          0.4002043774429088,
          0.3298359416602611,
          0.46211423876512947,
          0.1738149955868721,
          0.38246158212423326,
          0.9844956154622757
         ],
         "yaxis": "y5"
        },
        {
         "boxmean": true,
         "boxpoints": "all",
         "legendgroup": "organ_transplantation",
         "marker": {
          "color": "#A39F5D"
         },
         "name": "Organ Transplantation",
         "offsetgroup": "organ_transplantation",
         "showlegend": false,
         "text": [
          "stomach",
          "small_bowel",
          "colon",
          "liver",
          "gallbladder",
          "pancreas",
          "kidney",
          "spleen",
          "bladder",
          "omentum",
          "lung",
          "heart",
          "skin",
          "muscle",
          "fat_subcutaneous",
          "peritoneum",
          "major_vein",
          "kidney_with_Gerotas_fascia",
          "background"
         ],
         "type": "box",
         "x": [
          "removal_zero",
          "removal_zero",
          "removal_zero",
          "removal_zero",
          "removal_zero",
          "removal_zero",
          "removal_zero",
          "removal_zero",
          "removal_zero",
          "removal_zero",
          "removal_zero",
          "removal_zero",
          "removal_zero",
          "removal_zero",
          "removal_zero",
          "removal_zero",
          "removal_zero",
          "removal_zero",
          "removal_zero"
         ],
         "xaxis": "x5",
         "y": [
          0.6978276066217004,
          0.9174738817472854,
          0.9032508015394345,
          0.8733630192638128,
          0.41860195097310104,
          0.7123211133101629,
          0.8743740670151667,
          0.636597252624564,
          0.6517134740097182,
          0.6897882575557517,
          0.7646371079815758,
          0.9168396075566609,
          0.7046743054702453,
          0.7838397324085236,
          0.6068018143999461,
          0.6309103644630476,
          0.44126312414882707,
          0.4831317842006683,
          0.9859431423438572
         ],
         "yaxis": "y5"
        },
        {
         "boxmean": true,
         "boxpoints": "all",
         "legendgroup": "baseline",
         "marker": {
          "color": "#508587"
         },
         "name": "Baseline",
         "offsetgroup": "baseline",
         "showlegend": false,
         "text": [
          "stomach",
          "small_bowel",
          "colon",
          "liver",
          "gallbladder",
          "pancreas",
          "kidney",
          "spleen",
          "bladder",
          "omentum",
          "lung",
          "heart",
          "skin",
          "muscle",
          "fat_subcutaneous",
          "peritoneum",
          "major_vein",
          "kidney_with_Gerotas_fascia",
          "background"
         ],
         "type": "box",
         "x": [
          "removal_bgr",
          "removal_bgr",
          "removal_bgr",
          "removal_bgr",
          "removal_bgr",
          "removal_bgr",
          "removal_bgr",
          "removal_bgr",
          "removal_bgr",
          "removal_bgr",
          "removal_bgr",
          "removal_bgr",
          "removal_bgr",
          "removal_bgr",
          "removal_bgr",
          "removal_bgr",
          "removal_bgr",
          "removal_bgr",
          "removal_bgr"
         ],
         "xaxis": "x5",
         "y": [
          0.6141895200810439,
          0.9209885401729017,
          0.8753698916060122,
          0.8716973015762761,
          0.21416121646467512,
          0.8708586470475272,
          0.7956633412079837,
          0.6166806982007591,
          0.5839259262077142,
          0.5852168062800248,
          0.7591146909528308,
          0.8426231056451797,
          0.6183524295012505,
          0.6666692979633808,
          0.5630115336940119,
          0.4889192704603904,
          0.10168536316195968,
          0.5039286732673645,
          0.9865075772752009
         ],
         "yaxis": "y5"
        },
        {
         "boxmean": true,
         "boxpoints": "all",
         "legendgroup": "organ_transplantation",
         "marker": {
          "color": "#A39F5D"
         },
         "name": "Organ Transplantation",
         "offsetgroup": "organ_transplantation",
         "showlegend": false,
         "text": [
          "stomach",
          "small_bowel",
          "colon",
          "liver",
          "gallbladder",
          "pancreas",
          "kidney",
          "spleen",
          "bladder",
          "omentum",
          "lung",
          "heart",
          "skin",
          "muscle",
          "fat_subcutaneous",
          "peritoneum",
          "major_vein",
          "kidney_with_Gerotas_fascia",
          "background"
         ],
         "type": "box",
         "x": [
          "removal_bgr",
          "removal_bgr",
          "removal_bgr",
          "removal_bgr",
          "removal_bgr",
          "removal_bgr",
          "removal_bgr",
          "removal_bgr",
          "removal_bgr",
          "removal_bgr",
          "removal_bgr",
          "removal_bgr",
          "removal_bgr",
          "removal_bgr",
          "removal_bgr",
          "removal_bgr",
          "removal_bgr",
          "removal_bgr",
          "removal_bgr"
         ],
         "xaxis": "x5",
         "y": [
          0.7608165925854526,
          0.9367164255622031,
          0.9421687955510789,
          0.9172535525614576,
          0.4903018573552908,
          0.9257741109719353,
          0.8788857921665789,
          0.785706781688223,
          0.8925054878808375,
          0.7065669639244126,
          0.8001380470063951,
          0.9189037048154408,
          0.7340254413701093,
          0.8768529668450356,
          0.6064330861532614,
          0.6511609232613373,
          0.8905197083950043,
          0.8600752145051956,
          0.9887408255665069
         ],
         "yaxis": "y5"
        },
        {
         "boxmean": true,
         "boxpoints": "all",
         "legendgroup": "baseline",
         "marker": {
          "color": "#508587"
         },
         "name": "Baseline",
         "offsetgroup": "baseline",
         "showlegend": false,
         "text": [
          "stomach",
          "small_bowel",
          "colon",
          "liver",
          "gallbladder",
          "kidney",
          "spleen",
          "bladder",
          "omentum",
          "lung",
          "heart",
          "skin",
          "muscle",
          "fat_subcutaneous",
          "peritoneum",
          "background"
         ],
         "type": "box",
         "x": [
          "no-occlusion",
          "no-occlusion",
          "no-occlusion",
          "no-occlusion",
          "no-occlusion",
          "no-occlusion",
          "no-occlusion",
          "no-occlusion",
          "no-occlusion",
          "no-occlusion",
          "no-occlusion",
          "no-occlusion",
          "no-occlusion",
          "no-occlusion",
          "no-occlusion",
          "no-occlusion"
         ],
         "xaxis": "x6",
         "y": [
          0.847332885937813,
          0.9450690176167014,
          0.9530979472405413,
          0.9162561968767837,
          0.5790435741474103,
          0,
          0.9294939742368811,
          0.8145018134798323,
          0.7851499169912095,
          0.751699087354872,
          0.9376576529608833,
          0.9274761991563186,
          0.8175854444503784,
          0.5213115946451823,
          0.7621244642469618,
          0.9877602168178715
         ],
         "yaxis": "y6"
        },
        {
         "boxmean": true,
         "boxpoints": "all",
         "legendgroup": "organ_transplantation",
         "marker": {
          "color": "#A39F5D"
         },
         "name": "Organ Transplantation",
         "offsetgroup": "organ_transplantation",
         "showlegend": false,
         "text": [
          "stomach",
          "small_bowel",
          "colon",
          "liver",
          "gallbladder",
          "kidney",
          "spleen",
          "bladder",
          "omentum",
          "lung",
          "heart",
          "skin",
          "muscle",
          "fat_subcutaneous",
          "peritoneum",
          "background"
         ],
         "type": "box",
         "x": [
          "no-occlusion",
          "no-occlusion",
          "no-occlusion",
          "no-occlusion",
          "no-occlusion",
          "no-occlusion",
          "no-occlusion",
          "no-occlusion",
          "no-occlusion",
          "no-occlusion",
          "no-occlusion",
          "no-occlusion",
          "no-occlusion",
          "no-occlusion",
          "no-occlusion",
          "no-occlusion"
         ],
         "xaxis": "x6",
         "y": [
          0.9150407204261193,
          0.9463546436414403,
          0.9699705560668177,
          0.9244188664954303,
          0.646627918466345,
          0.12631578743457794,
          0.9332936418657543,
          0.8718523127692086,
          0.7931511888748559,
          0.7888507154252794,
          0.9352311134338379,
          0.9206271782420039,
          0.8814027706782024,
          0.5432928771442836,
          0.7508282059370869,
          0.988155436868151
         ],
         "yaxis": "y6"
        },
        {
         "boxmean": true,
         "boxpoints": "all",
         "legendgroup": "baseline",
         "marker": {
          "color": "#508587"
         },
         "name": "Baseline",
         "offsetgroup": "baseline",
         "showlegend": false,
         "text": [
          "stomach",
          "small_bowel",
          "colon",
          "liver",
          "gallbladder",
          "pancreas",
          "kidney",
          "spleen",
          "bladder",
          "omentum",
          "lung",
          "heart",
          "skin",
          "muscle",
          "fat_subcutaneous",
          "peritoneum",
          "major_vein",
          "kidney_with_Gerotas_fascia",
          "background"
         ],
         "type": "box",
         "x": [
          "occlusion",
          "occlusion",
          "occlusion",
          "occlusion",
          "occlusion",
          "occlusion",
          "occlusion",
          "occlusion",
          "occlusion",
          "occlusion",
          "occlusion",
          "occlusion",
          "occlusion",
          "occlusion",
          "occlusion",
          "occlusion",
          "occlusion",
          "occlusion",
          "occlusion"
         ],
         "xaxis": "x6",
         "y": [
          0.35957533234641664,
          0.8986591877121675,
          0.8579814045452604,
          0.801390771512632,
          0.5342284692747016,
          0.5179322231383551,
          0.8901485436492496,
          0.5278921027978262,
          0.8796965903832773,
          0.28315333411807103,
          0.9483504295349121,
          0.8917897088187081,
          0.5701808639698558,
          0.8924469947814941,
          0.6918654482042979,
          0.5836514060313885,
          0.4518591225147247,
          0.8206532895565033,
          0.9480588297049204
         ],
         "yaxis": "y6"
        },
        {
         "boxmean": true,
         "boxpoints": "all",
         "legendgroup": "organ_transplantation",
         "marker": {
          "color": "#A39F5D"
         },
         "name": "Organ Transplantation",
         "offsetgroup": "organ_transplantation",
         "showlegend": false,
         "text": [
          "stomach",
          "small_bowel",
          "colon",
          "liver",
          "gallbladder",
          "pancreas",
          "kidney",
          "spleen",
          "bladder",
          "omentum",
          "lung",
          "heart",
          "skin",
          "muscle",
          "fat_subcutaneous",
          "peritoneum",
          "major_vein",
          "kidney_with_Gerotas_fascia",
          "background"
         ],
         "type": "box",
         "x": [
          "occlusion",
          "occlusion",
          "occlusion",
          "occlusion",
          "occlusion",
          "occlusion",
          "occlusion",
          "occlusion",
          "occlusion",
          "occlusion",
          "occlusion",
          "occlusion",
          "occlusion",
          "occlusion",
          "occlusion",
          "occlusion",
          "occlusion",
          "occlusion",
          "occlusion"
         ],
         "xaxis": "x6",
         "y": [
          0.4433185751475985,
          0.9219763666739937,
          0.8832301731203117,
          0.8453432769371719,
          0.6088221549751266,
          0.594933247187781,
          0.9088145792484283,
          0.6300591627756754,
          0.9047093996971226,
          0.40901276015100024,
          0.957451616014753,
          0.9141826629638672,
          0.5818667999572225,
          0.9222164154052734,
          0.7535274402489738,
          0.5544820960006144,
          0.8465569376945495,
          0.884892362356186,
          0.949018555217319
         ],
         "yaxis": "y6"
        }
       ],
       "layout": {
        "annotations": [
         {
          "font": {
           "size": 20
          },
          "showarrow": false,
          "text": "<b>image#HSI</b>",
          "x": 0,
          "xanchor": "left",
          "xref": "paper",
          "y": 1,
          "yanchor": "bottom",
          "yref": "paper"
         },
         {
          "font": {
           "size": 20
          },
          "showarrow": false,
          "text": "<b>image#RGB</b>",
          "x": 0,
          "xanchor": "left",
          "xref": "paper",
          "y": 0.45,
          "yanchor": "bottom",
          "yref": "paper"
         }
        ],
        "boxgap": 0.2,
        "boxgroupgap": 0.4,
        "boxmode": "group",
        "font": {
         "family": "Libertinus Serif",
         "size": 20
        },
        "height": 510,
        "legend": {
         "orientation": "h",
         "x": 0.5,
         "xanchor": "center",
         "y": 0.46,
         "yanchor": "bottom"
        },
        "margin": {
         "b": 0,
         "l": 0,
         "r": 0,
         "t": 20
        },
        "template": {
         "data": {
          "bar": [
           {
            "error_x": {
             "color": "#2a3f5f"
            },
            "error_y": {
             "color": "#2a3f5f"
            },
            "marker": {
             "line": {
              "color": "white",
              "width": 0.5
             },
             "pattern": {
              "fillmode": "overlay",
              "size": 10,
              "solidity": 0.2
             }
            },
            "type": "bar"
           }
          ],
          "barpolar": [
           {
            "marker": {
             "line": {
              "color": "white",
              "width": 0.5
             },
             "pattern": {
              "fillmode": "overlay",
              "size": 10,
              "solidity": 0.2
             }
            },
            "type": "barpolar"
           }
          ],
          "carpet": [
           {
            "aaxis": {
             "endlinecolor": "#2a3f5f",
             "gridcolor": "#C8D4E3",
             "linecolor": "#C8D4E3",
             "minorgridcolor": "#C8D4E3",
             "startlinecolor": "#2a3f5f"
            },
            "baxis": {
             "endlinecolor": "#2a3f5f",
             "gridcolor": "#C8D4E3",
             "linecolor": "#C8D4E3",
             "minorgridcolor": "#C8D4E3",
             "startlinecolor": "#2a3f5f"
            },
            "type": "carpet"
           }
          ],
          "choropleth": [
           {
            "colorbar": {
             "outlinewidth": 0,
             "ticks": ""
            },
            "type": "choropleth"
           }
          ],
          "contour": [
           {
            "colorbar": {
             "outlinewidth": 0,
             "ticks": ""
            },
            "colorscale": [
             [
              0,
              "#0d0887"
             ],
             [
              0.1111111111111111,
              "#46039f"
             ],
             [
              0.2222222222222222,
              "#7201a8"
             ],
             [
              0.3333333333333333,
              "#9c179e"
             ],
             [
              0.4444444444444444,
              "#bd3786"
             ],
             [
              0.5555555555555556,
              "#d8576b"
             ],
             [
              0.6666666666666666,
              "#ed7953"
             ],
             [
              0.7777777777777778,
              "#fb9f3a"
             ],
             [
              0.8888888888888888,
              "#fdca26"
             ],
             [
              1,
              "#f0f921"
             ]
            ],
            "type": "contour"
           }
          ],
          "contourcarpet": [
           {
            "colorbar": {
             "outlinewidth": 0,
             "ticks": ""
            },
            "type": "contourcarpet"
           }
          ],
          "heatmap": [
           {
            "colorbar": {
             "outlinewidth": 0,
             "ticks": ""
            },
            "colorscale": [
             [
              0,
              "#0d0887"
             ],
             [
              0.1111111111111111,
              "#46039f"
             ],
             [
              0.2222222222222222,
              "#7201a8"
             ],
             [
              0.3333333333333333,
              "#9c179e"
             ],
             [
              0.4444444444444444,
              "#bd3786"
             ],
             [
              0.5555555555555556,
              "#d8576b"
             ],
             [
              0.6666666666666666,
              "#ed7953"
             ],
             [
              0.7777777777777778,
              "#fb9f3a"
             ],
             [
              0.8888888888888888,
              "#fdca26"
             ],
             [
              1,
              "#f0f921"
             ]
            ],
            "type": "heatmap"
           }
          ],
          "heatmapgl": [
           {
            "colorbar": {
             "outlinewidth": 0,
             "ticks": ""
            },
            "colorscale": [
             [
              0,
              "#0d0887"
             ],
             [
              0.1111111111111111,
              "#46039f"
             ],
             [
              0.2222222222222222,
              "#7201a8"
             ],
             [
              0.3333333333333333,
              "#9c179e"
             ],
             [
              0.4444444444444444,
              "#bd3786"
             ],
             [
              0.5555555555555556,
              "#d8576b"
             ],
             [
              0.6666666666666666,
              "#ed7953"
             ],
             [
              0.7777777777777778,
              "#fb9f3a"
             ],
             [
              0.8888888888888888,
              "#fdca26"
             ],
             [
              1,
              "#f0f921"
             ]
            ],
            "type": "heatmapgl"
           }
          ],
          "histogram": [
           {
            "marker": {
             "pattern": {
              "fillmode": "overlay",
              "size": 10,
              "solidity": 0.2
             }
            },
            "type": "histogram"
           }
          ],
          "histogram2d": [
           {
            "colorbar": {
             "outlinewidth": 0,
             "ticks": ""
            },
            "colorscale": [
             [
              0,
              "#0d0887"
             ],
             [
              0.1111111111111111,
              "#46039f"
             ],
             [
              0.2222222222222222,
              "#7201a8"
             ],
             [
              0.3333333333333333,
              "#9c179e"
             ],
             [
              0.4444444444444444,
              "#bd3786"
             ],
             [
              0.5555555555555556,
              "#d8576b"
             ],
             [
              0.6666666666666666,
              "#ed7953"
             ],
             [
              0.7777777777777778,
              "#fb9f3a"
             ],
             [
              0.8888888888888888,
              "#fdca26"
             ],
             [
              1,
              "#f0f921"
             ]
            ],
            "type": "histogram2d"
           }
          ],
          "histogram2dcontour": [
           {
            "colorbar": {
             "outlinewidth": 0,
             "ticks": ""
            },
            "colorscale": [
             [
              0,
              "#0d0887"
             ],
             [
              0.1111111111111111,
              "#46039f"
             ],
             [
              0.2222222222222222,
              "#7201a8"
             ],
             [
              0.3333333333333333,
              "#9c179e"
             ],
             [
              0.4444444444444444,
              "#bd3786"
             ],
             [
              0.5555555555555556,
              "#d8576b"
             ],
             [
              0.6666666666666666,
              "#ed7953"
             ],
             [
              0.7777777777777778,
              "#fb9f3a"
             ],
             [
              0.8888888888888888,
              "#fdca26"
             ],
             [
              1,
              "#f0f921"
             ]
            ],
            "type": "histogram2dcontour"
           }
          ],
          "mesh3d": [
           {
            "colorbar": {
             "outlinewidth": 0,
             "ticks": ""
            },
            "type": "mesh3d"
           }
          ],
          "parcoords": [
           {
            "line": {
             "colorbar": {
              "outlinewidth": 0,
              "ticks": ""
             }
            },
            "type": "parcoords"
           }
          ],
          "pie": [
           {
            "automargin": true,
            "type": "pie"
           }
          ],
          "scatter": [
           {
            "fillpattern": {
             "fillmode": "overlay",
             "size": 10,
             "solidity": 0.2
            },
            "type": "scatter"
           }
          ],
          "scatter3d": [
           {
            "line": {
             "colorbar": {
              "outlinewidth": 0,
              "ticks": ""
             }
            },
            "marker": {
             "colorbar": {
              "outlinewidth": 0,
              "ticks": ""
             }
            },
            "type": "scatter3d"
           }
          ],
          "scattercarpet": [
           {
            "marker": {
             "colorbar": {
              "outlinewidth": 0,
              "ticks": ""
             }
            },
            "type": "scattercarpet"
           }
          ],
          "scattergeo": [
           {
            "marker": {
             "colorbar": {
              "outlinewidth": 0,
              "ticks": ""
             }
            },
            "type": "scattergeo"
           }
          ],
          "scattergl": [
           {
            "marker": {
             "colorbar": {
              "outlinewidth": 0,
              "ticks": ""
             }
            },
            "type": "scattergl"
           }
          ],
          "scattermapbox": [
           {
            "marker": {
             "colorbar": {
              "outlinewidth": 0,
              "ticks": ""
             }
            },
            "type": "scattermapbox"
           }
          ],
          "scatterpolar": [
           {
            "marker": {
             "colorbar": {
              "outlinewidth": 0,
              "ticks": ""
             }
            },
            "type": "scatterpolar"
           }
          ],
          "scatterpolargl": [
           {
            "marker": {
             "colorbar": {
              "outlinewidth": 0,
              "ticks": ""
             }
            },
            "type": "scatterpolargl"
           }
          ],
          "scatterternary": [
           {
            "marker": {
             "colorbar": {
              "outlinewidth": 0,
              "ticks": ""
             }
            },
            "type": "scatterternary"
           }
          ],
          "surface": [
           {
            "colorbar": {
             "outlinewidth": 0,
             "ticks": ""
            },
            "colorscale": [
             [
              0,
              "#0d0887"
             ],
             [
              0.1111111111111111,
              "#46039f"
             ],
             [
              0.2222222222222222,
              "#7201a8"
             ],
             [
              0.3333333333333333,
              "#9c179e"
             ],
             [
              0.4444444444444444,
              "#bd3786"
             ],
             [
              0.5555555555555556,
              "#d8576b"
             ],
             [
              0.6666666666666666,
              "#ed7953"
             ],
             [
              0.7777777777777778,
              "#fb9f3a"
             ],
             [
              0.8888888888888888,
              "#fdca26"
             ],
             [
              1,
              "#f0f921"
             ]
            ],
            "type": "surface"
           }
          ],
          "table": [
           {
            "cells": {
             "fill": {
              "color": "#EBF0F8"
             },
             "line": {
              "color": "white"
             }
            },
            "header": {
             "fill": {
              "color": "#C8D4E3"
             },
             "line": {
              "color": "white"
             }
            },
            "type": "table"
           }
          ]
         },
         "layout": {
          "annotationdefaults": {
           "arrowcolor": "#2a3f5f",
           "arrowhead": 0,
           "arrowwidth": 1
          },
          "autotypenumbers": "strict",
          "coloraxis": {
           "colorbar": {
            "outlinewidth": 0,
            "ticks": ""
           }
          },
          "colorscale": {
           "diverging": [
            [
             0,
             "#8e0152"
            ],
            [
             0.1,
             "#c51b7d"
            ],
            [
             0.2,
             "#de77ae"
            ],
            [
             0.3,
             "#f1b6da"
            ],
            [
             0.4,
             "#fde0ef"
            ],
            [
             0.5,
             "#f7f7f7"
            ],
            [
             0.6,
             "#e6f5d0"
            ],
            [
             0.7,
             "#b8e186"
            ],
            [
             0.8,
             "#7fbc41"
            ],
            [
             0.9,
             "#4d9221"
            ],
            [
             1,
             "#276419"
            ]
           ],
           "sequential": [
            [
             0,
             "#0d0887"
            ],
            [
             0.1111111111111111,
             "#46039f"
            ],
            [
             0.2222222222222222,
             "#7201a8"
            ],
            [
             0.3333333333333333,
             "#9c179e"
            ],
            [
             0.4444444444444444,
             "#bd3786"
            ],
            [
             0.5555555555555556,
             "#d8576b"
            ],
            [
             0.6666666666666666,
             "#ed7953"
            ],
            [
             0.7777777777777778,
             "#fb9f3a"
            ],
            [
             0.8888888888888888,
             "#fdca26"
            ],
            [
             1,
             "#f0f921"
            ]
           ],
           "sequentialminus": [
            [
             0,
             "#0d0887"
            ],
            [
             0.1111111111111111,
             "#46039f"
            ],
            [
             0.2222222222222222,
             "#7201a8"
            ],
            [
             0.3333333333333333,
             "#9c179e"
            ],
            [
             0.4444444444444444,
             "#bd3786"
            ],
            [
             0.5555555555555556,
             "#d8576b"
            ],
            [
             0.6666666666666666,
             "#ed7953"
            ],
            [
             0.7777777777777778,
             "#fb9f3a"
            ],
            [
             0.8888888888888888,
             "#fdca26"
            ],
            [
             1,
             "#f0f921"
            ]
           ]
          },
          "colorway": [
           "#636efa",
           "#EF553B",
           "#00cc96",
           "#ab63fa",
           "#FFA15A",
           "#19d3f3",
           "#FF6692",
           "#B6E880",
           "#FF97FF",
           "#FECB52"
          ],
          "font": {
           "color": "#2a3f5f"
          },
          "geo": {
           "bgcolor": "white",
           "lakecolor": "white",
           "landcolor": "white",
           "showlakes": true,
           "showland": true,
           "subunitcolor": "#C8D4E3"
          },
          "hoverlabel": {
           "align": "left"
          },
          "hovermode": "closest",
          "mapbox": {
           "style": "light"
          },
          "paper_bgcolor": "white",
          "plot_bgcolor": "white",
          "polar": {
           "angularaxis": {
            "gridcolor": "#EBF0F8",
            "linecolor": "#EBF0F8",
            "ticks": ""
           },
           "bgcolor": "white",
           "radialaxis": {
            "gridcolor": "#EBF0F8",
            "linecolor": "#EBF0F8",
            "ticks": ""
           }
          },
          "scene": {
           "xaxis": {
            "backgroundcolor": "white",
            "gridcolor": "#DFE8F3",
            "gridwidth": 2,
            "linecolor": "#EBF0F8",
            "showbackground": true,
            "ticks": "",
            "zerolinecolor": "#EBF0F8"
           },
           "yaxis": {
            "backgroundcolor": "white",
            "gridcolor": "#DFE8F3",
            "gridwidth": 2,
            "linecolor": "#EBF0F8",
            "showbackground": true,
            "ticks": "",
            "zerolinecolor": "#EBF0F8"
           },
           "zaxis": {
            "backgroundcolor": "white",
            "gridcolor": "#DFE8F3",
            "gridwidth": 2,
            "linecolor": "#EBF0F8",
            "showbackground": true,
            "ticks": "",
            "zerolinecolor": "#EBF0F8"
           }
          },
          "shapedefaults": {
           "line": {
            "color": "#2a3f5f"
           }
          },
          "ternary": {
           "aaxis": {
            "gridcolor": "#DFE8F3",
            "linecolor": "#A2B1C6",
            "ticks": ""
           },
           "baxis": {
            "gridcolor": "#DFE8F3",
            "linecolor": "#A2B1C6",
            "ticks": ""
           },
           "bgcolor": "white",
           "caxis": {
            "gridcolor": "#DFE8F3",
            "linecolor": "#A2B1C6",
            "ticks": ""
           }
          },
          "title": {
           "x": 0.05
          },
          "xaxis": {
           "automargin": true,
           "gridcolor": "#EBF0F8",
           "linecolor": "#EBF0F8",
           "ticks": "",
           "title": {
            "standoff": 15
           },
           "zerolinecolor": "#EBF0F8",
           "zerolinewidth": 2
          },
          "yaxis": {
           "automargin": true,
           "gridcolor": "#EBF0F8",
           "linecolor": "#EBF0F8",
           "ticks": "",
           "title": {
            "standoff": 15
           },
           "zerolinecolor": "#EBF0F8",
           "zerolinewidth": 2
          }
         }
        },
        "width": 1100,
        "xaxis": {
         "anchor": "y",
         "autorangeoptions": {
          "maxallowed": 3.4,
          "minallowed": -0.6
         },
         "domain": [
          0,
          0.41777777777777775
         ],
         "matches": "x4",
         "range": [
          -0.6,
          3.4
         ],
         "showticklabels": false,
         "tickfont": {
          "size": 16
         }
        },
        "xaxis2": {
         "anchor": "y2",
         "autorangeoptions": {
          "maxallowed": 2.4,
          "minallowed": -0.6
         },
         "domain": [
          0.4477777777777777,
          0.7611111111111111
         ],
         "matches": "x5",
         "range": [
          -0.6,
          2.4
         ],
         "showticklabels": false,
         "tickfont": {
          "size": 16
         }
        },
        "xaxis3": {
         "anchor": "y3",
         "autorangeoptions": {
          "maxallowed": 1.4,
          "minallowed": -0.6
         },
         "domain": [
          0.7911111111111111,
          1
         ],
         "matches": "x6",
         "range": [
          -0.6,
          1.4
         ],
         "showticklabels": false,
         "tickfont": {
          "size": 16
         }
        },
        "xaxis4": {
         "anchor": "y4",
         "autorangeoptions": {
          "maxallowed": 3.4,
          "minallowed": -0.6
         },
         "domain": [
          0,
          0.41777777777777775
         ],
         "range": [
          -0.6,
          3.4
         ],
         "tickfont": {
          "size": 16
         }
        },
        "xaxis5": {
         "anchor": "y5",
         "autorangeoptions": {
          "maxallowed": 2.4,
          "minallowed": -0.6
         },
         "domain": [
          0.4477777777777777,
          0.7611111111111111
         ],
         "range": [
          -0.6,
          2.4
         ],
         "tickfont": {
          "size": 16
         }
        },
        "xaxis6": {
         "anchor": "y6",
         "autorangeoptions": {
          "maxallowed": 1.4,
          "minallowed": -0.6
         },
         "domain": [
          0.7911111111111111,
          1
         ],
         "range": [
          -0.6,
          1.4
         ],
         "tickfont": {
          "size": 16
         }
        },
        "yaxis": {
         "anchor": "x",
         "domain": [
          0.55,
          1
         ],
         "range": [
          -0.05,
          1.05
         ],
         "tickfont": {
          "size": 16
         },
         "title": {
          "text": "<b>DSC</b>"
         }
        },
        "yaxis2": {
         "anchor": "x2",
         "domain": [
          0.55,
          1
         ],
         "matches": "y",
         "range": [
          -0.05,
          1.05
         ],
         "showticklabels": false,
         "tickfont": {
          "size": 16
         },
         "title": {
          "standoff": 12
         }
        },
        "yaxis3": {
         "anchor": "x3",
         "domain": [
          0.55,
          1
         ],
         "matches": "y",
         "range": [
          -0.05,
          1.05
         ],
         "showticklabels": false,
         "tickfont": {
          "size": 16
         },
         "title": {
          "standoff": 12
         }
        },
        "yaxis4": {
         "anchor": "x4",
         "domain": [
          0,
          0.45
         ],
         "range": [
          -0.05,
          1.05
         ],
         "tickfont": {
          "size": 16
         },
         "title": {
          "text": "<b>DSC</b>"
         }
        },
        "yaxis5": {
         "anchor": "x5",
         "domain": [
          0,
          0.45
         ],
         "matches": "y4",
         "range": [
          -0.05,
          1.05
         ],
         "showticklabels": false,
         "tickfont": {
          "size": 16
         },
         "title": {
          "standoff": 12
         }
        },
        "yaxis6": {
         "anchor": "x6",
         "domain": [
          0,
          0.45
         ],
         "matches": "y4",
         "range": [
          -0.05,
          1.05
         ],
         "showticklabels": false,
         "tickfont": {
          "size": 16
         },
         "title": {
          "standoff": 12
         }
        }
       }
      },
      "text/html": [
       "<div>                            <div id=\"cd072cd8-be6f-4f62-ac4c-09c28206e7e3\" class=\"plotly-graph-div\" style=\"height:510px; width:1100px;\"></div>            <script type=\"text/javascript\">                require([\"plotly\"], function(Plotly) {                    window.PLOTLYENV=window.PLOTLYENV || {};                                    if (document.getElementById(\"cd072cd8-be6f-4f62-ac4c-09c28206e7e3\")) {                    Plotly.newPlot(                        \"cd072cd8-be6f-4f62-ac4c-09c28206e7e3\",                        [{\"boxmean\":true,\"boxpoints\":\"all\",\"legendgroup\":\"baseline\",\"marker\":{\"color\":\"#508587\"},\"name\":\"Baseline\",\"offsetgroup\":\"baseline\",\"showlegend\":false,\"text\":[\"stomach\",\"small_bowel\",\"colon\",\"liver\",\"gallbladder\",\"pancreas\",\"kidney\",\"spleen\",\"bladder\",\"omentum\",\"lung\",\"heart\",\"skin\",\"muscle\",\"fat_subcutaneous\",\"peritoneum\",\"major_vein\",\"kidney_with_Gerotas_fascia\",\"background\"],\"x\":[\"original\",\"original\",\"original\",\"original\",\"original\",\"original\",\"original\",\"original\",\"original\",\"original\",\"original\",\"original\",\"original\",\"original\",\"original\",\"original\",\"original\",\"original\",\"original\"],\"y\":[0.861473641071633,0.9572065303861302,0.9485893705638366,0.9555865674609633,0.8123611938238926,0.9236893593318879,0.8996078640806908,0.9500669538407098,0.9558500068383815,0.767298252647227,0.8566362063090006,0.9327061706119113,0.7583362563473968,0.8854879140853882,0.6621610555058088,0.7739984667639888,0.7015092611312866,0.7966977834701539,0.9920313810608464],\"type\":\"box\",\"xaxis\":\"x\",\"yaxis\":\"y\"},{\"boxmean\":true,\"boxpoints\":\"all\",\"legendgroup\":\"organ_transplantation\",\"marker\":{\"color\":\"#A39F5D\"},\"name\":\"Organ Transplantation\",\"offsetgroup\":\"organ_transplantation\",\"showlegend\":false,\"text\":[\"stomach\",\"small_bowel\",\"colon\",\"liver\",\"gallbladder\",\"pancreas\",\"kidney\",\"spleen\",\"bladder\",\"omentum\",\"lung\",\"heart\",\"skin\",\"muscle\",\"fat_subcutaneous\",\"peritoneum\",\"major_vein\",\"kidney_with_Gerotas_fascia\",\"background\"],\"x\":[\"original\",\"original\",\"original\",\"original\",\"original\",\"original\",\"original\",\"original\",\"original\",\"original\",\"original\",\"original\",\"original\",\"original\",\"original\",\"original\",\"original\",\"original\",\"original\"],\"y\":[0.871478492960077,0.953197890129721,0.9626351645232907,0.949342466239108,0.8397138351436906,0.9312997106521849,0.8913204654369479,0.938095459559607,0.9503241149728948,0.7545647466780749,0.8303254259957208,0.9294263362884522,0.7952009146860798,0.8911105791727703,0.7038704440770721,0.7843635316202398,0.8747839868068695,0.9263071715831757,0.9911609232055476],\"type\":\"box\",\"xaxis\":\"x\",\"yaxis\":\"y\"},{\"boxmean\":true,\"boxpoints\":\"all\",\"legendgroup\":\"baseline\",\"marker\":{\"color\":\"#508587\"},\"name\":\"Baseline\",\"offsetgroup\":\"baseline\",\"showlegend\":true,\"text\":[\"stomach\",\"small_bowel\",\"colon\",\"liver\",\"gallbladder\",\"pancreas\",\"kidney\",\"spleen\",\"bladder\",\"omentum\",\"lung\",\"heart\",\"skin\",\"muscle\",\"fat_subcutaneous\",\"peritoneum\",\"major_vein\",\"kidney_with_Gerotas_fascia\",\"background\"],\"x\":[\"isolation_zero\",\"isolation_zero\",\"isolation_zero\",\"isolation_zero\",\"isolation_zero\",\"isolation_zero\",\"isolation_zero\",\"isolation_zero\",\"isolation_zero\",\"isolation_zero\",\"isolation_zero\",\"isolation_zero\",\"isolation_zero\",\"isolation_zero\",\"isolation_zero\",\"isolation_zero\",\"isolation_zero\",\"isolation_zero\",\"isolation_zero\"],\"y\":[0.39479507159114846,0.9911825057550361,0.8449777326614377,0.9621615207652136,0.2910822102393227,0.5774546278847589,0.8948847343719084,0.9168938959969416,0.7568019022363605,0.2674300310453134,0.8218441009521484,0.8628027862972684,0.8751007167331887,0.808013916015625,0.8416794393484835,0.2966142138423642,0.00765759265050292,0.47979618012905123,0.997153203386522],\"type\":\"box\",\"xaxis\":\"x\",\"yaxis\":\"y\"},{\"boxmean\":true,\"boxpoints\":\"all\",\"legendgroup\":\"organ_transplantation\",\"marker\":{\"color\":\"#A39F5D\"},\"name\":\"Organ Transplantation\",\"offsetgroup\":\"organ_transplantation\",\"showlegend\":true,\"text\":[\"stomach\",\"small_bowel\",\"colon\",\"liver\",\"gallbladder\",\"pancreas\",\"kidney\",\"spleen\",\"bladder\",\"omentum\",\"lung\",\"heart\",\"skin\",\"muscle\",\"fat_subcutaneous\",\"peritoneum\",\"major_vein\",\"kidney_with_Gerotas_fascia\",\"background\"],\"x\":[\"isolation_zero\",\"isolation_zero\",\"isolation_zero\",\"isolation_zero\",\"isolation_zero\",\"isolation_zero\",\"isolation_zero\",\"isolation_zero\",\"isolation_zero\",\"isolation_zero\",\"isolation_zero\",\"isolation_zero\",\"isolation_zero\",\"isolation_zero\",\"isolation_zero\",\"isolation_zero\",\"isolation_zero\",\"isolation_zero\",\"isolation_zero\"],\"y\":[0.9421074786406269,0.9781582553073196,0.9593554542817214,0.9785389385543217,0.5860084553558091,0.9701881968785845,0.9372281311384214,0.9219912482821753,0.8184919691849581,0.8177816964471619,0.7274453401565552,0.9880592346191407,0.7420004522744984,0.8101866245269775,0.8296041384152735,0.6942861812113064,0.811734402179718,0.5464106634259224,0.998450558035341],\"type\":\"box\",\"xaxis\":\"x\",\"yaxis\":\"y\"},{\"boxmean\":true,\"boxpoints\":\"all\",\"legendgroup\":\"baseline\",\"marker\":{\"color\":\"#508587\"},\"name\":\"Baseline\",\"offsetgroup\":\"baseline\",\"showlegend\":false,\"text\":[\"stomach\",\"small_bowel\",\"colon\",\"liver\",\"gallbladder\",\"pancreas\",\"kidney\",\"spleen\",\"bladder\",\"omentum\",\"lung\",\"heart\",\"skin\",\"muscle\",\"fat_subcutaneous\",\"peritoneum\",\"major_vein\",\"kidney_with_Gerotas_fascia\",\"background\"],\"x\":[\"isolation_bgr\",\"isolation_bgr\",\"isolation_bgr\",\"isolation_bgr\",\"isolation_bgr\",\"isolation_bgr\",\"isolation_bgr\",\"isolation_bgr\",\"isolation_bgr\",\"isolation_bgr\",\"isolation_bgr\",\"isolation_bgr\",\"isolation_bgr\",\"isolation_bgr\",\"isolation_bgr\",\"isolation_bgr\",\"isolation_bgr\",\"isolation_bgr\",\"isolation_bgr\"],\"y\":[0.1222906868085564,0.923075248105268,0.7889716621620068,0.800726407237031,0.1706418758151175,0.06559136505164798,0.10172106705459893,0.4341813049240718,0.831719294335419,0.0014894806495782877,0.9243188169267443,0.9717308097415499,0.8005093755295319,0.4895642300446828,0.1369766020999092,0.4176196208697429,0.09796871989965439,0.0,0.9969736815874558],\"type\":\"box\",\"xaxis\":\"x\",\"yaxis\":\"y\"},{\"boxmean\":true,\"boxpoints\":\"all\",\"legendgroup\":\"organ_transplantation\",\"marker\":{\"color\":\"#A39F5D\"},\"name\":\"Organ Transplantation\",\"offsetgroup\":\"organ_transplantation\",\"showlegend\":false,\"text\":[\"stomach\",\"small_bowel\",\"colon\",\"liver\",\"gallbladder\",\"pancreas\",\"kidney\",\"spleen\",\"bladder\",\"omentum\",\"lung\",\"heart\",\"skin\",\"muscle\",\"fat_subcutaneous\",\"peritoneum\",\"major_vein\",\"kidney_with_Gerotas_fascia\",\"background\"],\"x\":[\"isolation_bgr\",\"isolation_bgr\",\"isolation_bgr\",\"isolation_bgr\",\"isolation_bgr\",\"isolation_bgr\",\"isolation_bgr\",\"isolation_bgr\",\"isolation_bgr\",\"isolation_bgr\",\"isolation_bgr\",\"isolation_bgr\",\"isolation_bgr\",\"isolation_bgr\",\"isolation_bgr\",\"isolation_bgr\",\"isolation_bgr\",\"isolation_bgr\",\"isolation_bgr\"],\"y\":[0.9375572358057932,0.9762218907247728,0.9782513992852374,0.97987361296701,0.6004172740091245,0.9441257370842827,0.9160289000841527,0.9252225526930794,0.9682169110007788,0.8819116042706657,0.8073557058970132,0.9881852626800537,0.7718660915018629,0.891126314798991,0.9251250398606863,0.8405767398168045,0.9638756036758422,0.9732827425003052,0.998933138016476],\"type\":\"box\",\"xaxis\":\"x\",\"yaxis\":\"y\"},{\"boxmean\":true,\"boxpoints\":\"all\",\"legendgroup\":\"baseline\",\"marker\":{\"color\":\"#508587\"},\"name\":\"Baseline\",\"offsetgroup\":\"baseline\",\"showlegend\":false,\"text\":[\"stomach\",\"small_bowel\",\"colon\",\"liver\",\"gallbladder\",\"pancreas\",\"kidney\",\"spleen\",\"bladder\",\"omentum\",\"lung\",\"heart\",\"skin\",\"muscle\",\"peritoneum\",\"major_vein\",\"kidney_with_Gerotas_fascia\",\"background\"],\"x\":[\"isolation_real\",\"isolation_real\",\"isolation_real\",\"isolation_real\",\"isolation_real\",\"isolation_real\",\"isolation_real\",\"isolation_real\",\"isolation_real\",\"isolation_real\",\"isolation_real\",\"isolation_real\",\"isolation_real\",\"isolation_real\",\"isolation_real\",\"isolation_real\",\"isolation_real\",\"isolation_real\"],\"y\":[0.44649254437536,0.881641972064972,0.9920404553413391,0.5742735862731934,0.3522494410475095,0.12424157373607159,0.7868876829743385,0.6071382363637289,0.8282280564308167,0.0,0.9670775681734085,0.9716710249582926,0.954271534242128,0.2775430977344513,0.30901315808296204,0.27433519065380096,0.5462151020765305,0.9970833085674943],\"type\":\"box\",\"xaxis\":\"x\",\"yaxis\":\"y\"},{\"boxmean\":true,\"boxpoints\":\"all\",\"legendgroup\":\"organ_transplantation\",\"marker\":{\"color\":\"#A39F5D\"},\"name\":\"Organ Transplantation\",\"offsetgroup\":\"organ_transplantation\",\"showlegend\":false,\"text\":[\"stomach\",\"small_bowel\",\"colon\",\"liver\",\"gallbladder\",\"pancreas\",\"kidney\",\"spleen\",\"bladder\",\"omentum\",\"lung\",\"heart\",\"skin\",\"muscle\",\"peritoneum\",\"major_vein\",\"kidney_with_Gerotas_fascia\",\"background\"],\"x\":[\"isolation_real\",\"isolation_real\",\"isolation_real\",\"isolation_real\",\"isolation_real\",\"isolation_real\",\"isolation_real\",\"isolation_real\",\"isolation_real\",\"isolation_real\",\"isolation_real\",\"isolation_real\",\"isolation_real\",\"isolation_real\",\"isolation_real\",\"isolation_real\",\"isolation_real\",\"isolation_real\"],\"y\":[0.9098750203847885,0.9696029663085938,0.9919309616088867,0.9561715573072433,0.954354445139567,0.7652827873826027,0.9852195456624031,0.9747649828592936,0.9837851673364639,0.908065676689148,0.9681917876005173,0.9812959035237631,0.9824876559408088,0.394196988743109,0.7286174297332764,0.9488683044910431,0.8905386030673981,0.9975172818274726],\"type\":\"box\",\"xaxis\":\"x\",\"yaxis\":\"y\"},{\"boxmean\":true,\"boxpoints\":\"all\",\"legendgroup\":\"baseline\",\"marker\":{\"color\":\"#508587\"},\"name\":\"Baseline\",\"offsetgroup\":\"baseline\",\"showlegend\":false,\"text\":[\"stomach\",\"small_bowel\",\"colon\",\"liver\",\"gallbladder\",\"pancreas\",\"kidney\",\"spleen\",\"bladder\",\"omentum\",\"lung\",\"heart\",\"skin\",\"muscle\",\"fat_subcutaneous\",\"peritoneum\",\"major_vein\",\"kidney_with_Gerotas_fascia\",\"background\"],\"x\":[\"original2\",\"original2\",\"original2\",\"original2\",\"original2\",\"original2\",\"original2\",\"original2\",\"original2\",\"original2\",\"original2\",\"original2\",\"original2\",\"original2\",\"original2\",\"original2\",\"original2\",\"original2\",\"original2\"],\"y\":[0.861473641071633,0.9572065303861302,0.9485893705638366,0.9555865674609633,0.8123611938238926,0.9236893593318879,0.8996078640806908,0.9500669538407098,0.9558500068383815,0.767298252647227,0.8566362063090006,0.9327061706119113,0.7583362563473968,0.8854879140853882,0.6621610555058088,0.7739984667639888,0.7015092611312866,0.7966977834701539,0.9920313810608464],\"type\":\"box\",\"xaxis\":\"x2\",\"yaxis\":\"y2\"},{\"boxmean\":true,\"boxpoints\":\"all\",\"legendgroup\":\"organ_transplantation\",\"marker\":{\"color\":\"#A39F5D\"},\"name\":\"Organ Transplantation\",\"offsetgroup\":\"organ_transplantation\",\"showlegend\":false,\"text\":[\"stomach\",\"small_bowel\",\"colon\",\"liver\",\"gallbladder\",\"pancreas\",\"kidney\",\"spleen\",\"bladder\",\"omentum\",\"lung\",\"heart\",\"skin\",\"muscle\",\"fat_subcutaneous\",\"peritoneum\",\"major_vein\",\"kidney_with_Gerotas_fascia\",\"background\"],\"x\":[\"original2\",\"original2\",\"original2\",\"original2\",\"original2\",\"original2\",\"original2\",\"original2\",\"original2\",\"original2\",\"original2\",\"original2\",\"original2\",\"original2\",\"original2\",\"original2\",\"original2\",\"original2\",\"original2\"],\"y\":[0.871478492960077,0.953197890129721,0.9626351645232907,0.949342466239108,0.8397138351436906,0.9312997106521849,0.8913204654369479,0.938095459559607,0.9503241149728948,0.7545647466780749,0.8303254259957208,0.9294263362884522,0.7952009146860798,0.8911105791727703,0.7038704440770721,0.7843635316202398,0.8747839868068695,0.9263071715831757,0.9911609232055476],\"type\":\"box\",\"xaxis\":\"x2\",\"yaxis\":\"y2\"},{\"boxmean\":true,\"boxpoints\":\"all\",\"legendgroup\":\"baseline\",\"marker\":{\"color\":\"#508587\"},\"name\":\"Baseline\",\"offsetgroup\":\"baseline\",\"showlegend\":false,\"text\":[\"stomach\",\"small_bowel\",\"colon\",\"liver\",\"gallbladder\",\"pancreas\",\"kidney\",\"spleen\",\"bladder\",\"omentum\",\"lung\",\"heart\",\"skin\",\"muscle\",\"fat_subcutaneous\",\"peritoneum\",\"major_vein\",\"kidney_with_Gerotas_fascia\",\"background\"],\"x\":[\"removal_zero\",\"removal_zero\",\"removal_zero\",\"removal_zero\",\"removal_zero\",\"removal_zero\",\"removal_zero\",\"removal_zero\",\"removal_zero\",\"removal_zero\",\"removal_zero\",\"removal_zero\",\"removal_zero\",\"removal_zero\",\"removal_zero\",\"removal_zero\",\"removal_zero\",\"removal_zero\",\"removal_zero\"],\"y\":[0.5989327321699878,0.918435989878047,0.8888181528117716,0.9288440644722874,0.2984862249278136,0.7884678306087615,0.868855586092846,0.9260405088227892,0.701270326700626,0.5785268536304196,0.7845829433865017,0.8958433190981547,0.7060077188276295,0.8862646395961443,0.5733582523882274,0.5083753532036069,0.3506607102463022,0.4654929727315903,0.9896595419075755],\"type\":\"box\",\"xaxis\":\"x2\",\"yaxis\":\"y2\"},{\"boxmean\":true,\"boxpoints\":\"all\",\"legendgroup\":\"organ_transplantation\",\"marker\":{\"color\":\"#A39F5D\"},\"name\":\"Organ Transplantation\",\"offsetgroup\":\"organ_transplantation\",\"showlegend\":false,\"text\":[\"stomach\",\"small_bowel\",\"colon\",\"liver\",\"gallbladder\",\"pancreas\",\"kidney\",\"spleen\",\"bladder\",\"omentum\",\"lung\",\"heart\",\"skin\",\"muscle\",\"fat_subcutaneous\",\"peritoneum\",\"major_vein\",\"kidney_with_Gerotas_fascia\",\"background\"],\"x\":[\"removal_zero\",\"removal_zero\",\"removal_zero\",\"removal_zero\",\"removal_zero\",\"removal_zero\",\"removal_zero\",\"removal_zero\",\"removal_zero\",\"removal_zero\",\"removal_zero\",\"removal_zero\",\"removal_zero\",\"removal_zero\",\"removal_zero\",\"removal_zero\",\"removal_zero\",\"removal_zero\",\"removal_zero\"],\"y\":[0.8484424867071647,0.9456997003862118,0.9457238799233669,0.9410875962643402,0.5662399217586166,0.9163559126475501,0.8900546220685142,0.9082275401830437,0.9296521556079818,0.7221593995965445,0.8107435610559252,0.92975914047824,0.7355615524935001,0.8695576041936874,0.6138096313360473,0.6578828129905765,0.8137529343366623,0.9119228005409241,0.9902893494878219],\"type\":\"box\",\"xaxis\":\"x2\",\"yaxis\":\"y2\"},{\"boxmean\":true,\"boxpoints\":\"all\",\"legendgroup\":\"baseline\",\"marker\":{\"color\":\"#508587\"},\"name\":\"Baseline\",\"offsetgroup\":\"baseline\",\"showlegend\":false,\"text\":[\"stomach\",\"small_bowel\",\"colon\",\"liver\",\"gallbladder\",\"pancreas\",\"kidney\",\"spleen\",\"bladder\",\"omentum\",\"lung\",\"heart\",\"skin\",\"muscle\",\"fat_subcutaneous\",\"peritoneum\",\"major_vein\",\"kidney_with_Gerotas_fascia\",\"background\"],\"x\":[\"removal_bgr\",\"removal_bgr\",\"removal_bgr\",\"removal_bgr\",\"removal_bgr\",\"removal_bgr\",\"removal_bgr\",\"removal_bgr\",\"removal_bgr\",\"removal_bgr\",\"removal_bgr\",\"removal_bgr\",\"removal_bgr\",\"removal_bgr\",\"removal_bgr\",\"removal_bgr\",\"removal_bgr\",\"removal_bgr\",\"removal_bgr\"],\"y\":[0.7240884797200472,0.9430636956980338,0.900261036252701,0.9292094366278375,0.41135962477966237,0.8578515456782446,0.8647343117037629,0.8940049872523735,0.8529970164499414,0.6570705681863682,0.7819036791721979,0.9078455868694517,0.7098014226959525,0.7142603099346161,0.5375261605091015,0.5858823930713002,0.5511288411915303,0.5488074593245983,0.9908720534067295],\"type\":\"box\",\"xaxis\":\"x2\",\"yaxis\":\"y2\"},{\"boxmean\":true,\"boxpoints\":\"all\",\"legendgroup\":\"organ_transplantation\",\"marker\":{\"color\":\"#A39F5D\"},\"name\":\"Organ Transplantation\",\"offsetgroup\":\"organ_transplantation\",\"showlegend\":false,\"text\":[\"stomach\",\"small_bowel\",\"colon\",\"liver\",\"gallbladder\",\"pancreas\",\"kidney\",\"spleen\",\"bladder\",\"omentum\",\"lung\",\"heart\",\"skin\",\"muscle\",\"fat_subcutaneous\",\"peritoneum\",\"major_vein\",\"kidney_with_Gerotas_fascia\",\"background\"],\"x\":[\"removal_bgr\",\"removal_bgr\",\"removal_bgr\",\"removal_bgr\",\"removal_bgr\",\"removal_bgr\",\"removal_bgr\",\"removal_bgr\",\"removal_bgr\",\"removal_bgr\",\"removal_bgr\",\"removal_bgr\",\"removal_bgr\",\"removal_bgr\",\"removal_bgr\",\"removal_bgr\",\"removal_bgr\",\"removal_bgr\",\"removal_bgr\"],\"y\":[0.852614147844563,0.9502303098803664,0.9549792008940253,0.943212528282408,0.6077749840605526,0.9165134901092166,0.8874800688301037,0.9276204345954788,0.9442071072403314,0.7231576855443571,0.8222481121619541,0.9290893591112561,0.7679086836485154,0.8887849996487299,0.6275142210508944,0.6853136954337458,0.8602557592093945,0.9233467727899551,0.9904703115098098],\"type\":\"box\",\"xaxis\":\"x2\",\"yaxis\":\"y2\"},{\"boxmean\":true,\"boxpoints\":\"all\",\"legendgroup\":\"baseline\",\"marker\":{\"color\":\"#508587\"},\"name\":\"Baseline\",\"offsetgroup\":\"baseline\",\"showlegend\":false,\"text\":[\"stomach\",\"small_bowel\",\"colon\",\"liver\",\"gallbladder\",\"kidney\",\"spleen\",\"bladder\",\"omentum\",\"lung\",\"heart\",\"skin\",\"muscle\",\"fat_subcutaneous\",\"peritoneum\",\"background\"],\"x\":[\"no-occlusion\",\"no-occlusion\",\"no-occlusion\",\"no-occlusion\",\"no-occlusion\",\"no-occlusion\",\"no-occlusion\",\"no-occlusion\",\"no-occlusion\",\"no-occlusion\",\"no-occlusion\",\"no-occlusion\",\"no-occlusion\",\"no-occlusion\",\"no-occlusion\",\"no-occlusion\"],\"y\":[0.8313180021750621,0.9355106407429747,0.9589920405846417,0.8827787432359371,0.6081084787071526,0.0,0.9272205641790598,0.963500446506909,0.7120040442393376,0.7945861895879109,0.949306599299113,0.9507478427263646,0.868590490023295,0.4969007407294379,0.7632127260920978,0.9882827617538779],\"type\":\"box\",\"xaxis\":\"x3\",\"yaxis\":\"y3\"},{\"boxmean\":true,\"boxpoints\":\"all\",\"legendgroup\":\"organ_transplantation\",\"marker\":{\"color\":\"#A39F5D\"},\"name\":\"Organ Transplantation\",\"offsetgroup\":\"organ_transplantation\",\"showlegend\":false,\"text\":[\"stomach\",\"small_bowel\",\"colon\",\"liver\",\"gallbladder\",\"kidney\",\"spleen\",\"bladder\",\"omentum\",\"lung\",\"heart\",\"skin\",\"muscle\",\"fat_subcutaneous\",\"peritoneum\",\"background\"],\"x\":[\"no-occlusion\",\"no-occlusion\",\"no-occlusion\",\"no-occlusion\",\"no-occlusion\",\"no-occlusion\",\"no-occlusion\",\"no-occlusion\",\"no-occlusion\",\"no-occlusion\",\"no-occlusion\",\"no-occlusion\",\"no-occlusion\",\"no-occlusion\",\"no-occlusion\",\"no-occlusion\"],\"y\":[0.9135136298644237,0.9515187297066913,0.9723452292647605,0.9518393368709894,0.5988422291619437,0.8399546146392822,0.9417543095700881,0.9568881520203182,0.8088459881758079,0.7692059516906739,0.9401306417253282,0.9575428532619102,0.902607536315918,0.5319040722317165,0.7934259674765847,0.9896408709320921],\"type\":\"box\",\"xaxis\":\"x3\",\"yaxis\":\"y3\"},{\"boxmean\":true,\"boxpoints\":\"all\",\"legendgroup\":\"baseline\",\"marker\":{\"color\":\"#508587\"},\"name\":\"Baseline\",\"offsetgroup\":\"baseline\",\"showlegend\":false,\"text\":[\"stomach\",\"small_bowel\",\"colon\",\"liver\",\"gallbladder\",\"pancreas\",\"kidney\",\"spleen\",\"bladder\",\"omentum\",\"lung\",\"heart\",\"skin\",\"muscle\",\"fat_subcutaneous\",\"peritoneum\",\"major_vein\",\"kidney_with_Gerotas_fascia\",\"background\"],\"x\":[\"occlusion\",\"occlusion\",\"occlusion\",\"occlusion\",\"occlusion\",\"occlusion\",\"occlusion\",\"occlusion\",\"occlusion\",\"occlusion\",\"occlusion\",\"occlusion\",\"occlusion\",\"occlusion\",\"occlusion\",\"occlusion\",\"occlusion\",\"occlusion\",\"occlusion\"],\"y\":[0.4178444168555043,0.8976419893098853,0.8624104994769191,0.8527668569453809,0.8327843717166356,0.1926916027825976,0.9112000796529982,0.7437798380851746,0.921928021135893,0.49992582760159926,0.9482386452811105,0.9004087448120117,0.5762820036874877,0.907912118094308,0.659190983289764,0.5707084915067395,0.7252314507961273,0.8326196491718292,0.92907874584198],\"type\":\"box\",\"xaxis\":\"x3\",\"yaxis\":\"y3\"},{\"boxmean\":true,\"boxpoints\":\"all\",\"legendgroup\":\"organ_transplantation\",\"marker\":{\"color\":\"#A39F5D\"},\"name\":\"Organ Transplantation\",\"offsetgroup\":\"organ_transplantation\",\"showlegend\":false,\"text\":[\"stomach\",\"small_bowel\",\"colon\",\"liver\",\"gallbladder\",\"pancreas\",\"kidney\",\"spleen\",\"bladder\",\"omentum\",\"lung\",\"heart\",\"skin\",\"muscle\",\"fat_subcutaneous\",\"peritoneum\",\"major_vein\",\"kidney_with_Gerotas_fascia\",\"background\"],\"x\":[\"occlusion\",\"occlusion\",\"occlusion\",\"occlusion\",\"occlusion\",\"occlusion\",\"occlusion\",\"occlusion\",\"occlusion\",\"occlusion\",\"occlusion\",\"occlusion\",\"occlusion\",\"occlusion\",\"occlusion\",\"occlusion\",\"occlusion\",\"occlusion\",\"occlusion\"],\"y\":[0.7067442366685817,0.9369903080470382,0.920612938263837,0.8462948193625799,0.8400343136181907,0.737116171064831,0.9167368445131514,0.6724519828955332,0.9154073243316091,0.5812790386260502,0.960942132132394,0.9148463521684919,0.5829129761291875,0.9331097602844238,0.737312312164004,0.6394686473740472,0.7656322240829467,0.9208462715148926,0.9254603885942035],\"type\":\"box\",\"xaxis\":\"x3\",\"yaxis\":\"y3\"},{\"boxmean\":true,\"boxpoints\":\"all\",\"legendgroup\":\"baseline\",\"marker\":{\"color\":\"#508587\"},\"name\":\"Baseline\",\"offsetgroup\":\"baseline\",\"showlegend\":false,\"text\":[\"stomach\",\"small_bowel\",\"colon\",\"liver\",\"gallbladder\",\"pancreas\",\"kidney\",\"spleen\",\"bladder\",\"omentum\",\"lung\",\"heart\",\"skin\",\"muscle\",\"fat_subcutaneous\",\"peritoneum\",\"major_vein\",\"kidney_with_Gerotas_fascia\",\"background\"],\"x\":[\"original\",\"original\",\"original\",\"original\",\"original\",\"original\",\"original\",\"original\",\"original\",\"original\",\"original\",\"original\",\"original\",\"original\",\"original\",\"original\",\"original\",\"original\",\"original\"],\"y\":[0.7824955355367889,0.9450368555903562,0.9469814192026815,0.9240282243297946,0.807597905372947,0.9540464832669212,0.8825857608146916,0.7922294622375852,0.799119303450784,0.7657403579266796,0.831808384259542,0.9281005170610216,0.7594127542377497,0.8567541837692261,0.6833133255539725,0.7216715267608336,0.592743992805481,0.8148314654827118,0.990822307828102],\"type\":\"box\",\"xaxis\":\"x4\",\"yaxis\":\"y4\"},{\"boxmean\":true,\"boxpoints\":\"all\",\"legendgroup\":\"organ_transplantation\",\"marker\":{\"color\":\"#A39F5D\"},\"name\":\"Organ Transplantation\",\"offsetgroup\":\"organ_transplantation\",\"showlegend\":false,\"text\":[\"stomach\",\"small_bowel\",\"colon\",\"liver\",\"gallbladder\",\"pancreas\",\"kidney\",\"spleen\",\"bladder\",\"omentum\",\"lung\",\"heart\",\"skin\",\"muscle\",\"fat_subcutaneous\",\"peritoneum\",\"major_vein\",\"kidney_with_Gerotas_fascia\",\"background\"],\"x\":[\"original\",\"original\",\"original\",\"original\",\"original\",\"original\",\"original\",\"original\",\"original\",\"original\",\"original\",\"original\",\"original\",\"original\",\"original\",\"original\",\"original\",\"original\",\"original\"],\"y\":[0.8279000323747592,0.9458623969825422,0.9559748782655646,0.9356500438016397,0.7917375597607327,0.9529784104180715,0.8825142367992526,0.8425740397922576,0.9079341381989516,0.7575602977083589,0.8190641085306803,0.9214527024163139,0.7965604270277744,0.8819332520167034,0.7041868841498824,0.7661995957315753,0.9043801844120025,0.888197922706604,0.9899106672380512],\"type\":\"box\",\"xaxis\":\"x4\",\"yaxis\":\"y4\"},{\"boxmean\":true,\"boxpoints\":\"all\",\"legendgroup\":\"baseline\",\"marker\":{\"color\":\"#508587\"},\"name\":\"Baseline\",\"offsetgroup\":\"baseline\",\"showlegend\":false,\"text\":[\"stomach\",\"small_bowel\",\"colon\",\"liver\",\"gallbladder\",\"pancreas\",\"kidney\",\"spleen\",\"bladder\",\"omentum\",\"lung\",\"heart\",\"skin\",\"muscle\",\"fat_subcutaneous\",\"peritoneum\",\"major_vein\",\"kidney_with_Gerotas_fascia\",\"background\"],\"x\":[\"isolation_zero\",\"isolation_zero\",\"isolation_zero\",\"isolation_zero\",\"isolation_zero\",\"isolation_zero\",\"isolation_zero\",\"isolation_zero\",\"isolation_zero\",\"isolation_zero\",\"isolation_zero\",\"isolation_zero\",\"isolation_zero\",\"isolation_zero\",\"isolation_zero\",\"isolation_zero\",\"isolation_zero\",\"isolation_zero\",\"isolation_zero\"],\"y\":[0.19707821449045382,0.7074664838682486,0.7953261851923358,0.8868039593026223,0.030388840420664042,0.1903529577785068,0.7102955120061738,0.41122533643766057,0.5140942184095947,0.08035904435764145,0.9300028800964356,0.9617720286051431,0.4751092022634557,0.001602140604518354,0.06082185707263289,0.40009286738648153,0.002747944928705692,0.10063978037796914,0.9944000527955446],\"type\":\"box\",\"xaxis\":\"x4\",\"yaxis\":\"y4\"},{\"boxmean\":true,\"boxpoints\":\"all\",\"legendgroup\":\"organ_transplantation\",\"marker\":{\"color\":\"#A39F5D\"},\"name\":\"Organ Transplantation\",\"offsetgroup\":\"organ_transplantation\",\"showlegend\":false,\"text\":[\"stomach\",\"small_bowel\",\"colon\",\"liver\",\"gallbladder\",\"pancreas\",\"kidney\",\"spleen\",\"bladder\",\"omentum\",\"lung\",\"heart\",\"skin\",\"muscle\",\"fat_subcutaneous\",\"peritoneum\",\"major_vein\",\"kidney_with_Gerotas_fascia\",\"background\"],\"x\":[\"isolation_zero\",\"isolation_zero\",\"isolation_zero\",\"isolation_zero\",\"isolation_zero\",\"isolation_zero\",\"isolation_zero\",\"isolation_zero\",\"isolation_zero\",\"isolation_zero\",\"isolation_zero\",\"isolation_zero\",\"isolation_zero\",\"isolation_zero\",\"isolation_zero\",\"isolation_zero\",\"isolation_zero\",\"isolation_zero\",\"isolation_zero\"],\"y\":[0.7536162264584598,0.9256902320170262,0.9029559875407864,0.9059712837294391,0.08359360437968681,0.9739202688610743,0.9335232996473125,0.36373233832537183,0.48965273198111225,0.9241769528752231,0.8048961957295736,0.9757717821333144,0.705568609943335,0.5339397291342417,0.5899964295634217,0.6030732672906798,0.1395804002415389,0.44809154868125917,0.9982284183958556],\"type\":\"box\",\"xaxis\":\"x4\",\"yaxis\":\"y4\"},{\"boxmean\":true,\"boxpoints\":\"all\",\"legendgroup\":\"baseline\",\"marker\":{\"color\":\"#508587\"},\"name\":\"Baseline\",\"offsetgroup\":\"baseline\",\"showlegend\":false,\"text\":[\"stomach\",\"small_bowel\",\"colon\",\"liver\",\"gallbladder\",\"pancreas\",\"kidney\",\"spleen\",\"bladder\",\"omentum\",\"lung\",\"heart\",\"skin\",\"muscle\",\"fat_subcutaneous\",\"peritoneum\",\"major_vein\",\"kidney_with_Gerotas_fascia\",\"background\"],\"x\":[\"isolation_bgr\",\"isolation_bgr\",\"isolation_bgr\",\"isolation_bgr\",\"isolation_bgr\",\"isolation_bgr\",\"isolation_bgr\",\"isolation_bgr\",\"isolation_bgr\",\"isolation_bgr\",\"isolation_bgr\",\"isolation_bgr\",\"isolation_bgr\",\"isolation_bgr\",\"isolation_bgr\",\"isolation_bgr\",\"isolation_bgr\",\"isolation_bgr\",\"isolation_bgr\"],\"y\":[0.12405765994034515,0.9503227080635647,0.8778580063716314,0.9921228229681327,0.15515441498268023,0.07932014988055305,0.5489288420459024,0.41461762493417603,0.6908462424835602,0.05728558237138002,0.9091114415062798,0.8672238667805989,0.49872241969244296,0.21650767574707666,0.5466300235504754,0.510513383125317,0.06833781003952026,0.40482147634029386,0.9973261754401614],\"type\":\"box\",\"xaxis\":\"x4\",\"yaxis\":\"y4\"},{\"boxmean\":true,\"boxpoints\":\"all\",\"legendgroup\":\"organ_transplantation\",\"marker\":{\"color\":\"#A39F5D\"},\"name\":\"Organ Transplantation\",\"offsetgroup\":\"organ_transplantation\",\"showlegend\":false,\"text\":[\"stomach\",\"small_bowel\",\"colon\",\"liver\",\"gallbladder\",\"pancreas\",\"kidney\",\"spleen\",\"bladder\",\"omentum\",\"lung\",\"heart\",\"skin\",\"muscle\",\"fat_subcutaneous\",\"peritoneum\",\"major_vein\",\"kidney_with_Gerotas_fascia\",\"background\"],\"x\":[\"isolation_bgr\",\"isolation_bgr\",\"isolation_bgr\",\"isolation_bgr\",\"isolation_bgr\",\"isolation_bgr\",\"isolation_bgr\",\"isolation_bgr\",\"isolation_bgr\",\"isolation_bgr\",\"isolation_bgr\",\"isolation_bgr\",\"isolation_bgr\",\"isolation_bgr\",\"isolation_bgr\",\"isolation_bgr\",\"isolation_bgr\",\"isolation_bgr\",\"isolation_bgr\"],\"y\":[0.8232926293915395,0.9815734292984187,0.9856126982309983,0.9467161603878325,0.49193331814556085,0.9827056536598812,0.8957230343538172,0.8341278042112077,0.9216305895347098,0.855710473703833,0.8584616343180339,0.9892710632748075,0.7518390354949656,0.8991813659667969,0.7358520077891342,0.719879066580629,0.8917125523090362,0.9446665704250335,0.9981120170085953],\"type\":\"box\",\"xaxis\":\"x4\",\"yaxis\":\"y4\"},{\"boxmean\":true,\"boxpoints\":\"all\",\"legendgroup\":\"baseline\",\"marker\":{\"color\":\"#508587\"},\"name\":\"Baseline\",\"offsetgroup\":\"baseline\",\"showlegend\":false,\"text\":[\"stomach\",\"small_bowel\",\"colon\",\"liver\",\"gallbladder\",\"pancreas\",\"kidney\",\"spleen\",\"bladder\",\"omentum\",\"lung\",\"heart\",\"skin\",\"muscle\",\"peritoneum\",\"major_vein\",\"kidney_with_Gerotas_fascia\",\"background\"],\"x\":[\"isolation_real\",\"isolation_real\",\"isolation_real\",\"isolation_real\",\"isolation_real\",\"isolation_real\",\"isolation_real\",\"isolation_real\",\"isolation_real\",\"isolation_real\",\"isolation_real\",\"isolation_real\",\"isolation_real\",\"isolation_real\",\"isolation_real\",\"isolation_real\",\"isolation_real\",\"isolation_real\"],\"y\":[0.6092109209857881,0.9422743678092956,0.9924092888832092,0.8980409950017929,0.3777156074841817,0.012680412270128727,0.7357332059182227,0.323336402575175,0.9166669249534607,0.0003274751652497798,0.9572533369064331,0.9364159901936849,0.6448374242766907,0.1926037257004888,0.2700892686843872,0.13258394226431847,0.5899998247623444,0.9972874705555674],\"type\":\"box\",\"xaxis\":\"x4\",\"yaxis\":\"y4\"},{\"boxmean\":true,\"boxpoints\":\"all\",\"legendgroup\":\"organ_transplantation\",\"marker\":{\"color\":\"#A39F5D\"},\"name\":\"Organ Transplantation\",\"offsetgroup\":\"organ_transplantation\",\"showlegend\":false,\"text\":[\"stomach\",\"small_bowel\",\"colon\",\"liver\",\"gallbladder\",\"pancreas\",\"kidney\",\"spleen\",\"bladder\",\"omentum\",\"lung\",\"heart\",\"skin\",\"muscle\",\"peritoneum\",\"major_vein\",\"kidney_with_Gerotas_fascia\",\"background\"],\"x\":[\"isolation_real\",\"isolation_real\",\"isolation_real\",\"isolation_real\",\"isolation_real\",\"isolation_real\",\"isolation_real\",\"isolation_real\",\"isolation_real\",\"isolation_real\",\"isolation_real\",\"isolation_real\",\"isolation_real\",\"isolation_real\",\"isolation_real\",\"isolation_real\",\"isolation_real\",\"isolation_real\"],\"y\":[0.8683061450719833,0.9722974300384521,0.9925851821899414,0.935847282409668,0.628723161915938,0.9126102477312088,0.9844184517860413,0.9481713970502218,0.987303763628006,0.976811408996582,0.9658353626728058,0.9807827870051066,0.9697787335044459,0.3351037800312042,0.7543319463729858,0.40369945764541626,0.7908279895782471,0.997221044231247],\"type\":\"box\",\"xaxis\":\"x4\",\"yaxis\":\"y4\"},{\"boxmean\":true,\"boxpoints\":\"all\",\"legendgroup\":\"baseline\",\"marker\":{\"color\":\"#508587\"},\"name\":\"Baseline\",\"offsetgroup\":\"baseline\",\"showlegend\":false,\"text\":[\"stomach\",\"small_bowel\",\"colon\",\"liver\",\"gallbladder\",\"pancreas\",\"kidney\",\"spleen\",\"bladder\",\"omentum\",\"lung\",\"heart\",\"skin\",\"muscle\",\"fat_subcutaneous\",\"peritoneum\",\"major_vein\",\"kidney_with_Gerotas_fascia\",\"background\"],\"x\":[\"original2\",\"original2\",\"original2\",\"original2\",\"original2\",\"original2\",\"original2\",\"original2\",\"original2\",\"original2\",\"original2\",\"original2\",\"original2\",\"original2\",\"original2\",\"original2\",\"original2\",\"original2\",\"original2\"],\"y\":[0.7824955355367889,0.9450368555903562,0.9469814192026815,0.9240282243297946,0.807597905372947,0.9540464832669212,0.8825857608146916,0.7922294622375852,0.799119303450784,0.7657403579266796,0.831808384259542,0.9281005170610216,0.7594127542377497,0.8567541837692261,0.6833133255539725,0.7216715267608336,0.592743992805481,0.8148314654827118,0.990822307828102],\"type\":\"box\",\"xaxis\":\"x5\",\"yaxis\":\"y5\"},{\"boxmean\":true,\"boxpoints\":\"all\",\"legendgroup\":\"organ_transplantation\",\"marker\":{\"color\":\"#A39F5D\"},\"name\":\"Organ Transplantation\",\"offsetgroup\":\"organ_transplantation\",\"showlegend\":false,\"text\":[\"stomach\",\"small_bowel\",\"colon\",\"liver\",\"gallbladder\",\"pancreas\",\"kidney\",\"spleen\",\"bladder\",\"omentum\",\"lung\",\"heart\",\"skin\",\"muscle\",\"fat_subcutaneous\",\"peritoneum\",\"major_vein\",\"kidney_with_Gerotas_fascia\",\"background\"],\"x\":[\"original2\",\"original2\",\"original2\",\"original2\",\"original2\",\"original2\",\"original2\",\"original2\",\"original2\",\"original2\",\"original2\",\"original2\",\"original2\",\"original2\",\"original2\",\"original2\",\"original2\",\"original2\",\"original2\"],\"y\":[0.8279000323747592,0.9458623969825422,0.9559748782655646,0.9356500438016397,0.7917375597607327,0.9529784104180715,0.8825142367992526,0.8425740397922576,0.9079341381989516,0.7575602977083589,0.8190641085306803,0.9214527024163139,0.7965604270277744,0.8819332520167034,0.7041868841498824,0.7661995957315753,0.9043801844120025,0.888197922706604,0.9899106672380512],\"type\":\"box\",\"xaxis\":\"x5\",\"yaxis\":\"y5\"},{\"boxmean\":true,\"boxpoints\":\"all\",\"legendgroup\":\"baseline\",\"marker\":{\"color\":\"#508587\"},\"name\":\"Baseline\",\"offsetgroup\":\"baseline\",\"showlegend\":false,\"text\":[\"stomach\",\"small_bowel\",\"colon\",\"liver\",\"gallbladder\",\"pancreas\",\"kidney\",\"spleen\",\"bladder\",\"omentum\",\"lung\",\"heart\",\"skin\",\"muscle\",\"fat_subcutaneous\",\"peritoneum\",\"major_vein\",\"kidney_with_Gerotas_fascia\",\"background\"],\"x\":[\"removal_zero\",\"removal_zero\",\"removal_zero\",\"removal_zero\",\"removal_zero\",\"removal_zero\",\"removal_zero\",\"removal_zero\",\"removal_zero\",\"removal_zero\",\"removal_zero\",\"removal_zero\",\"removal_zero\",\"removal_zero\",\"removal_zero\",\"removal_zero\",\"removal_zero\",\"removal_zero\",\"removal_zero\"],\"y\":[0.4624460832288764,0.8675557968733474,0.8262293362587876,0.8149656564176333,0.28991653222884306,0.4905544919479225,0.7700870861877608,0.46825251356930486,0.35130049263715507,0.5514395222998983,0.7020728909307056,0.8589168008830813,0.5495698667372988,0.4002043774429088,0.3298359416602611,0.46211423876512947,0.1738149955868721,0.38246158212423326,0.9844956154622757],\"type\":\"box\",\"xaxis\":\"x5\",\"yaxis\":\"y5\"},{\"boxmean\":true,\"boxpoints\":\"all\",\"legendgroup\":\"organ_transplantation\",\"marker\":{\"color\":\"#A39F5D\"},\"name\":\"Organ Transplantation\",\"offsetgroup\":\"organ_transplantation\",\"showlegend\":false,\"text\":[\"stomach\",\"small_bowel\",\"colon\",\"liver\",\"gallbladder\",\"pancreas\",\"kidney\",\"spleen\",\"bladder\",\"omentum\",\"lung\",\"heart\",\"skin\",\"muscle\",\"fat_subcutaneous\",\"peritoneum\",\"major_vein\",\"kidney_with_Gerotas_fascia\",\"background\"],\"x\":[\"removal_zero\",\"removal_zero\",\"removal_zero\",\"removal_zero\",\"removal_zero\",\"removal_zero\",\"removal_zero\",\"removal_zero\",\"removal_zero\",\"removal_zero\",\"removal_zero\",\"removal_zero\",\"removal_zero\",\"removal_zero\",\"removal_zero\",\"removal_zero\",\"removal_zero\",\"removal_zero\",\"removal_zero\"],\"y\":[0.6978276066217004,0.9174738817472854,0.9032508015394345,0.8733630192638128,0.41860195097310104,0.7123211133101629,0.8743740670151667,0.636597252624564,0.6517134740097182,0.6897882575557517,0.7646371079815758,0.9168396075566609,0.7046743054702453,0.7838397324085236,0.6068018143999461,0.6309103644630476,0.44126312414882707,0.4831317842006683,0.9859431423438572],\"type\":\"box\",\"xaxis\":\"x5\",\"yaxis\":\"y5\"},{\"boxmean\":true,\"boxpoints\":\"all\",\"legendgroup\":\"baseline\",\"marker\":{\"color\":\"#508587\"},\"name\":\"Baseline\",\"offsetgroup\":\"baseline\",\"showlegend\":false,\"text\":[\"stomach\",\"small_bowel\",\"colon\",\"liver\",\"gallbladder\",\"pancreas\",\"kidney\",\"spleen\",\"bladder\",\"omentum\",\"lung\",\"heart\",\"skin\",\"muscle\",\"fat_subcutaneous\",\"peritoneum\",\"major_vein\",\"kidney_with_Gerotas_fascia\",\"background\"],\"x\":[\"removal_bgr\",\"removal_bgr\",\"removal_bgr\",\"removal_bgr\",\"removal_bgr\",\"removal_bgr\",\"removal_bgr\",\"removal_bgr\",\"removal_bgr\",\"removal_bgr\",\"removal_bgr\",\"removal_bgr\",\"removal_bgr\",\"removal_bgr\",\"removal_bgr\",\"removal_bgr\",\"removal_bgr\",\"removal_bgr\",\"removal_bgr\"],\"y\":[0.6141895200810439,0.9209885401729017,0.8753698916060122,0.8716973015762761,0.21416121646467512,0.8708586470475272,0.7956633412079837,0.6166806982007591,0.5839259262077142,0.5852168062800248,0.7591146909528308,0.8426231056451797,0.6183524295012505,0.6666692979633808,0.5630115336940119,0.4889192704603904,0.10168536316195968,0.5039286732673645,0.9865075772752009],\"type\":\"box\",\"xaxis\":\"x5\",\"yaxis\":\"y5\"},{\"boxmean\":true,\"boxpoints\":\"all\",\"legendgroup\":\"organ_transplantation\",\"marker\":{\"color\":\"#A39F5D\"},\"name\":\"Organ Transplantation\",\"offsetgroup\":\"organ_transplantation\",\"showlegend\":false,\"text\":[\"stomach\",\"small_bowel\",\"colon\",\"liver\",\"gallbladder\",\"pancreas\",\"kidney\",\"spleen\",\"bladder\",\"omentum\",\"lung\",\"heart\",\"skin\",\"muscle\",\"fat_subcutaneous\",\"peritoneum\",\"major_vein\",\"kidney_with_Gerotas_fascia\",\"background\"],\"x\":[\"removal_bgr\",\"removal_bgr\",\"removal_bgr\",\"removal_bgr\",\"removal_bgr\",\"removal_bgr\",\"removal_bgr\",\"removal_bgr\",\"removal_bgr\",\"removal_bgr\",\"removal_bgr\",\"removal_bgr\",\"removal_bgr\",\"removal_bgr\",\"removal_bgr\",\"removal_bgr\",\"removal_bgr\",\"removal_bgr\",\"removal_bgr\"],\"y\":[0.7608165925854526,0.9367164255622031,0.9421687955510789,0.9172535525614576,0.4903018573552908,0.9257741109719353,0.8788857921665789,0.785706781688223,0.8925054878808375,0.7065669639244126,0.8001380470063951,0.9189037048154408,0.7340254413701093,0.8768529668450356,0.6064330861532614,0.6511609232613373,0.8905197083950043,0.8600752145051956,0.9887408255665069],\"type\":\"box\",\"xaxis\":\"x5\",\"yaxis\":\"y5\"},{\"boxmean\":true,\"boxpoints\":\"all\",\"legendgroup\":\"baseline\",\"marker\":{\"color\":\"#508587\"},\"name\":\"Baseline\",\"offsetgroup\":\"baseline\",\"showlegend\":false,\"text\":[\"stomach\",\"small_bowel\",\"colon\",\"liver\",\"gallbladder\",\"kidney\",\"spleen\",\"bladder\",\"omentum\",\"lung\",\"heart\",\"skin\",\"muscle\",\"fat_subcutaneous\",\"peritoneum\",\"background\"],\"x\":[\"no-occlusion\",\"no-occlusion\",\"no-occlusion\",\"no-occlusion\",\"no-occlusion\",\"no-occlusion\",\"no-occlusion\",\"no-occlusion\",\"no-occlusion\",\"no-occlusion\",\"no-occlusion\",\"no-occlusion\",\"no-occlusion\",\"no-occlusion\",\"no-occlusion\",\"no-occlusion\"],\"y\":[0.847332885937813,0.9450690176167014,0.9530979472405413,0.9162561968767837,0.5790435741474103,0.0,0.9294939742368811,0.8145018134798323,0.7851499169912095,0.751699087354872,0.9376576529608833,0.9274761991563186,0.8175854444503784,0.5213115946451823,0.7621244642469618,0.9877602168178715],\"type\":\"box\",\"xaxis\":\"x6\",\"yaxis\":\"y6\"},{\"boxmean\":true,\"boxpoints\":\"all\",\"legendgroup\":\"organ_transplantation\",\"marker\":{\"color\":\"#A39F5D\"},\"name\":\"Organ Transplantation\",\"offsetgroup\":\"organ_transplantation\",\"showlegend\":false,\"text\":[\"stomach\",\"small_bowel\",\"colon\",\"liver\",\"gallbladder\",\"kidney\",\"spleen\",\"bladder\",\"omentum\",\"lung\",\"heart\",\"skin\",\"muscle\",\"fat_subcutaneous\",\"peritoneum\",\"background\"],\"x\":[\"no-occlusion\",\"no-occlusion\",\"no-occlusion\",\"no-occlusion\",\"no-occlusion\",\"no-occlusion\",\"no-occlusion\",\"no-occlusion\",\"no-occlusion\",\"no-occlusion\",\"no-occlusion\",\"no-occlusion\",\"no-occlusion\",\"no-occlusion\",\"no-occlusion\",\"no-occlusion\"],\"y\":[0.9150407204261193,0.9463546436414403,0.9699705560668177,0.9244188664954303,0.646627918466345,0.12631578743457794,0.9332936418657543,0.8718523127692086,0.7931511888748559,0.7888507154252794,0.9352311134338379,0.9206271782420039,0.8814027706782024,0.5432928771442836,0.7508282059370869,0.988155436868151],\"type\":\"box\",\"xaxis\":\"x6\",\"yaxis\":\"y6\"},{\"boxmean\":true,\"boxpoints\":\"all\",\"legendgroup\":\"baseline\",\"marker\":{\"color\":\"#508587\"},\"name\":\"Baseline\",\"offsetgroup\":\"baseline\",\"showlegend\":false,\"text\":[\"stomach\",\"small_bowel\",\"colon\",\"liver\",\"gallbladder\",\"pancreas\",\"kidney\",\"spleen\",\"bladder\",\"omentum\",\"lung\",\"heart\",\"skin\",\"muscle\",\"fat_subcutaneous\",\"peritoneum\",\"major_vein\",\"kidney_with_Gerotas_fascia\",\"background\"],\"x\":[\"occlusion\",\"occlusion\",\"occlusion\",\"occlusion\",\"occlusion\",\"occlusion\",\"occlusion\",\"occlusion\",\"occlusion\",\"occlusion\",\"occlusion\",\"occlusion\",\"occlusion\",\"occlusion\",\"occlusion\",\"occlusion\",\"occlusion\",\"occlusion\",\"occlusion\"],\"y\":[0.35957533234641664,0.8986591877121675,0.8579814045452604,0.801390771512632,0.5342284692747016,0.5179322231383551,0.8901485436492496,0.5278921027978262,0.8796965903832773,0.28315333411807103,0.9483504295349121,0.8917897088187081,0.5701808639698558,0.8924469947814941,0.6918654482042979,0.5836514060313885,0.4518591225147247,0.8206532895565033,0.9480588297049204],\"type\":\"box\",\"xaxis\":\"x6\",\"yaxis\":\"y6\"},{\"boxmean\":true,\"boxpoints\":\"all\",\"legendgroup\":\"organ_transplantation\",\"marker\":{\"color\":\"#A39F5D\"},\"name\":\"Organ Transplantation\",\"offsetgroup\":\"organ_transplantation\",\"showlegend\":false,\"text\":[\"stomach\",\"small_bowel\",\"colon\",\"liver\",\"gallbladder\",\"pancreas\",\"kidney\",\"spleen\",\"bladder\",\"omentum\",\"lung\",\"heart\",\"skin\",\"muscle\",\"fat_subcutaneous\",\"peritoneum\",\"major_vein\",\"kidney_with_Gerotas_fascia\",\"background\"],\"x\":[\"occlusion\",\"occlusion\",\"occlusion\",\"occlusion\",\"occlusion\",\"occlusion\",\"occlusion\",\"occlusion\",\"occlusion\",\"occlusion\",\"occlusion\",\"occlusion\",\"occlusion\",\"occlusion\",\"occlusion\",\"occlusion\",\"occlusion\",\"occlusion\",\"occlusion\"],\"y\":[0.4433185751475985,0.9219763666739937,0.8832301731203117,0.8453432769371719,0.6088221549751266,0.594933247187781,0.9088145792484283,0.6300591627756754,0.9047093996971226,0.40901276015100024,0.957451616014753,0.9141826629638672,0.5818667999572225,0.9222164154052734,0.7535274402489738,0.5544820960006144,0.8465569376945495,0.884892362356186,0.949018555217319],\"type\":\"box\",\"xaxis\":\"x6\",\"yaxis\":\"y6\"}],                        {\"template\":{\"data\":{\"barpolar\":[{\"marker\":{\"line\":{\"color\":\"white\",\"width\":0.5},\"pattern\":{\"fillmode\":\"overlay\",\"size\":10,\"solidity\":0.2}},\"type\":\"barpolar\"}],\"bar\":[{\"error_x\":{\"color\":\"#2a3f5f\"},\"error_y\":{\"color\":\"#2a3f5f\"},\"marker\":{\"line\":{\"color\":\"white\",\"width\":0.5},\"pattern\":{\"fillmode\":\"overlay\",\"size\":10,\"solidity\":0.2}},\"type\":\"bar\"}],\"carpet\":[{\"aaxis\":{\"endlinecolor\":\"#2a3f5f\",\"gridcolor\":\"#C8D4E3\",\"linecolor\":\"#C8D4E3\",\"minorgridcolor\":\"#C8D4E3\",\"startlinecolor\":\"#2a3f5f\"},\"baxis\":{\"endlinecolor\":\"#2a3f5f\",\"gridcolor\":\"#C8D4E3\",\"linecolor\":\"#C8D4E3\",\"minorgridcolor\":\"#C8D4E3\",\"startlinecolor\":\"#2a3f5f\"},\"type\":\"carpet\"}],\"choropleth\":[{\"colorbar\":{\"outlinewidth\":0,\"ticks\":\"\"},\"type\":\"choropleth\"}],\"contourcarpet\":[{\"colorbar\":{\"outlinewidth\":0,\"ticks\":\"\"},\"type\":\"contourcarpet\"}],\"contour\":[{\"colorbar\":{\"outlinewidth\":0,\"ticks\":\"\"},\"colorscale\":[[0.0,\"#0d0887\"],[0.1111111111111111,\"#46039f\"],[0.2222222222222222,\"#7201a8\"],[0.3333333333333333,\"#9c179e\"],[0.4444444444444444,\"#bd3786\"],[0.5555555555555556,\"#d8576b\"],[0.6666666666666666,\"#ed7953\"],[0.7777777777777778,\"#fb9f3a\"],[0.8888888888888888,\"#fdca26\"],[1.0,\"#f0f921\"]],\"type\":\"contour\"}],\"heatmapgl\":[{\"colorbar\":{\"outlinewidth\":0,\"ticks\":\"\"},\"colorscale\":[[0.0,\"#0d0887\"],[0.1111111111111111,\"#46039f\"],[0.2222222222222222,\"#7201a8\"],[0.3333333333333333,\"#9c179e\"],[0.4444444444444444,\"#bd3786\"],[0.5555555555555556,\"#d8576b\"],[0.6666666666666666,\"#ed7953\"],[0.7777777777777778,\"#fb9f3a\"],[0.8888888888888888,\"#fdca26\"],[1.0,\"#f0f921\"]],\"type\":\"heatmapgl\"}],\"heatmap\":[{\"colorbar\":{\"outlinewidth\":0,\"ticks\":\"\"},\"colorscale\":[[0.0,\"#0d0887\"],[0.1111111111111111,\"#46039f\"],[0.2222222222222222,\"#7201a8\"],[0.3333333333333333,\"#9c179e\"],[0.4444444444444444,\"#bd3786\"],[0.5555555555555556,\"#d8576b\"],[0.6666666666666666,\"#ed7953\"],[0.7777777777777778,\"#fb9f3a\"],[0.8888888888888888,\"#fdca26\"],[1.0,\"#f0f921\"]],\"type\":\"heatmap\"}],\"histogram2dcontour\":[{\"colorbar\":{\"outlinewidth\":0,\"ticks\":\"\"},\"colorscale\":[[0.0,\"#0d0887\"],[0.1111111111111111,\"#46039f\"],[0.2222222222222222,\"#7201a8\"],[0.3333333333333333,\"#9c179e\"],[0.4444444444444444,\"#bd3786\"],[0.5555555555555556,\"#d8576b\"],[0.6666666666666666,\"#ed7953\"],[0.7777777777777778,\"#fb9f3a\"],[0.8888888888888888,\"#fdca26\"],[1.0,\"#f0f921\"]],\"type\":\"histogram2dcontour\"}],\"histogram2d\":[{\"colorbar\":{\"outlinewidth\":0,\"ticks\":\"\"},\"colorscale\":[[0.0,\"#0d0887\"],[0.1111111111111111,\"#46039f\"],[0.2222222222222222,\"#7201a8\"],[0.3333333333333333,\"#9c179e\"],[0.4444444444444444,\"#bd3786\"],[0.5555555555555556,\"#d8576b\"],[0.6666666666666666,\"#ed7953\"],[0.7777777777777778,\"#fb9f3a\"],[0.8888888888888888,\"#fdca26\"],[1.0,\"#f0f921\"]],\"type\":\"histogram2d\"}],\"histogram\":[{\"marker\":{\"pattern\":{\"fillmode\":\"overlay\",\"size\":10,\"solidity\":0.2}},\"type\":\"histogram\"}],\"mesh3d\":[{\"colorbar\":{\"outlinewidth\":0,\"ticks\":\"\"},\"type\":\"mesh3d\"}],\"parcoords\":[{\"line\":{\"colorbar\":{\"outlinewidth\":0,\"ticks\":\"\"}},\"type\":\"parcoords\"}],\"pie\":[{\"automargin\":true,\"type\":\"pie\"}],\"scatter3d\":[{\"line\":{\"colorbar\":{\"outlinewidth\":0,\"ticks\":\"\"}},\"marker\":{\"colorbar\":{\"outlinewidth\":0,\"ticks\":\"\"}},\"type\":\"scatter3d\"}],\"scattercarpet\":[{\"marker\":{\"colorbar\":{\"outlinewidth\":0,\"ticks\":\"\"}},\"type\":\"scattercarpet\"}],\"scattergeo\":[{\"marker\":{\"colorbar\":{\"outlinewidth\":0,\"ticks\":\"\"}},\"type\":\"scattergeo\"}],\"scattergl\":[{\"marker\":{\"colorbar\":{\"outlinewidth\":0,\"ticks\":\"\"}},\"type\":\"scattergl\"}],\"scattermapbox\":[{\"marker\":{\"colorbar\":{\"outlinewidth\":0,\"ticks\":\"\"}},\"type\":\"scattermapbox\"}],\"scatterpolargl\":[{\"marker\":{\"colorbar\":{\"outlinewidth\":0,\"ticks\":\"\"}},\"type\":\"scatterpolargl\"}],\"scatterpolar\":[{\"marker\":{\"colorbar\":{\"outlinewidth\":0,\"ticks\":\"\"}},\"type\":\"scatterpolar\"}],\"scatter\":[{\"fillpattern\":{\"fillmode\":\"overlay\",\"size\":10,\"solidity\":0.2},\"type\":\"scatter\"}],\"scatterternary\":[{\"marker\":{\"colorbar\":{\"outlinewidth\":0,\"ticks\":\"\"}},\"type\":\"scatterternary\"}],\"surface\":[{\"colorbar\":{\"outlinewidth\":0,\"ticks\":\"\"},\"colorscale\":[[0.0,\"#0d0887\"],[0.1111111111111111,\"#46039f\"],[0.2222222222222222,\"#7201a8\"],[0.3333333333333333,\"#9c179e\"],[0.4444444444444444,\"#bd3786\"],[0.5555555555555556,\"#d8576b\"],[0.6666666666666666,\"#ed7953\"],[0.7777777777777778,\"#fb9f3a\"],[0.8888888888888888,\"#fdca26\"],[1.0,\"#f0f921\"]],\"type\":\"surface\"}],\"table\":[{\"cells\":{\"fill\":{\"color\":\"#EBF0F8\"},\"line\":{\"color\":\"white\"}},\"header\":{\"fill\":{\"color\":\"#C8D4E3\"},\"line\":{\"color\":\"white\"}},\"type\":\"table\"}]},\"layout\":{\"annotationdefaults\":{\"arrowcolor\":\"#2a3f5f\",\"arrowhead\":0,\"arrowwidth\":1},\"autotypenumbers\":\"strict\",\"coloraxis\":{\"colorbar\":{\"outlinewidth\":0,\"ticks\":\"\"}},\"colorscale\":{\"diverging\":[[0,\"#8e0152\"],[0.1,\"#c51b7d\"],[0.2,\"#de77ae\"],[0.3,\"#f1b6da\"],[0.4,\"#fde0ef\"],[0.5,\"#f7f7f7\"],[0.6,\"#e6f5d0\"],[0.7,\"#b8e186\"],[0.8,\"#7fbc41\"],[0.9,\"#4d9221\"],[1,\"#276419\"]],\"sequential\":[[0.0,\"#0d0887\"],[0.1111111111111111,\"#46039f\"],[0.2222222222222222,\"#7201a8\"],[0.3333333333333333,\"#9c179e\"],[0.4444444444444444,\"#bd3786\"],[0.5555555555555556,\"#d8576b\"],[0.6666666666666666,\"#ed7953\"],[0.7777777777777778,\"#fb9f3a\"],[0.8888888888888888,\"#fdca26\"],[1.0,\"#f0f921\"]],\"sequentialminus\":[[0.0,\"#0d0887\"],[0.1111111111111111,\"#46039f\"],[0.2222222222222222,\"#7201a8\"],[0.3333333333333333,\"#9c179e\"],[0.4444444444444444,\"#bd3786\"],[0.5555555555555556,\"#d8576b\"],[0.6666666666666666,\"#ed7953\"],[0.7777777777777778,\"#fb9f3a\"],[0.8888888888888888,\"#fdca26\"],[1.0,\"#f0f921\"]]},\"colorway\":[\"#636efa\",\"#EF553B\",\"#00cc96\",\"#ab63fa\",\"#FFA15A\",\"#19d3f3\",\"#FF6692\",\"#B6E880\",\"#FF97FF\",\"#FECB52\"],\"font\":{\"color\":\"#2a3f5f\"},\"geo\":{\"bgcolor\":\"white\",\"lakecolor\":\"white\",\"landcolor\":\"white\",\"showlakes\":true,\"showland\":true,\"subunitcolor\":\"#C8D4E3\"},\"hoverlabel\":{\"align\":\"left\"},\"hovermode\":\"closest\",\"mapbox\":{\"style\":\"light\"},\"paper_bgcolor\":\"white\",\"plot_bgcolor\":\"white\",\"polar\":{\"angularaxis\":{\"gridcolor\":\"#EBF0F8\",\"linecolor\":\"#EBF0F8\",\"ticks\":\"\"},\"bgcolor\":\"white\",\"radialaxis\":{\"gridcolor\":\"#EBF0F8\",\"linecolor\":\"#EBF0F8\",\"ticks\":\"\"}},\"scene\":{\"xaxis\":{\"backgroundcolor\":\"white\",\"gridcolor\":\"#DFE8F3\",\"gridwidth\":2,\"linecolor\":\"#EBF0F8\",\"showbackground\":true,\"ticks\":\"\",\"zerolinecolor\":\"#EBF0F8\"},\"yaxis\":{\"backgroundcolor\":\"white\",\"gridcolor\":\"#DFE8F3\",\"gridwidth\":2,\"linecolor\":\"#EBF0F8\",\"showbackground\":true,\"ticks\":\"\",\"zerolinecolor\":\"#EBF0F8\"},\"zaxis\":{\"backgroundcolor\":\"white\",\"gridcolor\":\"#DFE8F3\",\"gridwidth\":2,\"linecolor\":\"#EBF0F8\",\"showbackground\":true,\"ticks\":\"\",\"zerolinecolor\":\"#EBF0F8\"}},\"shapedefaults\":{\"line\":{\"color\":\"#2a3f5f\"}},\"ternary\":{\"aaxis\":{\"gridcolor\":\"#DFE8F3\",\"linecolor\":\"#A2B1C6\",\"ticks\":\"\"},\"baxis\":{\"gridcolor\":\"#DFE8F3\",\"linecolor\":\"#A2B1C6\",\"ticks\":\"\"},\"bgcolor\":\"white\",\"caxis\":{\"gridcolor\":\"#DFE8F3\",\"linecolor\":\"#A2B1C6\",\"ticks\":\"\"}},\"title\":{\"x\":0.05},\"xaxis\":{\"automargin\":true,\"gridcolor\":\"#EBF0F8\",\"linecolor\":\"#EBF0F8\",\"ticks\":\"\",\"title\":{\"standoff\":15},\"zerolinecolor\":\"#EBF0F8\",\"zerolinewidth\":2},\"yaxis\":{\"automargin\":true,\"gridcolor\":\"#EBF0F8\",\"linecolor\":\"#EBF0F8\",\"ticks\":\"\",\"title\":{\"standoff\":15},\"zerolinecolor\":\"#EBF0F8\",\"zerolinewidth\":2}}},\"xaxis\":{\"anchor\":\"y\",\"domain\":[0.0,0.41777777777777775],\"matches\":\"x4\",\"showticklabels\":false,\"tickfont\":{\"size\":16},\"autorangeoptions\":{\"minallowed\":-0.6,\"maxallowed\":3.4},\"range\":[-0.6,3.4]},\"yaxis\":{\"anchor\":\"x\",\"domain\":[0.55,1.0],\"title\":{\"text\":\"\\u003cb\\u003eDSC\\u003c\\u002fb\\u003e\"},\"tickfont\":{\"size\":16},\"range\":[-0.05,1.05]},\"xaxis2\":{\"anchor\":\"y2\",\"domain\":[0.4477777777777777,0.7611111111111111],\"matches\":\"x5\",\"showticklabels\":false,\"tickfont\":{\"size\":16},\"autorangeoptions\":{\"minallowed\":-0.6,\"maxallowed\":2.4},\"range\":[-0.6,2.4]},\"yaxis2\":{\"anchor\":\"x2\",\"domain\":[0.55,1.0],\"matches\":\"y\",\"showticklabels\":false,\"title\":{\"standoff\":12},\"tickfont\":{\"size\":16},\"range\":[-0.05,1.05]},\"xaxis3\":{\"anchor\":\"y3\",\"domain\":[0.7911111111111111,1.0],\"matches\":\"x6\",\"showticklabels\":false,\"tickfont\":{\"size\":16},\"autorangeoptions\":{\"minallowed\":-0.6,\"maxallowed\":1.4},\"range\":[-0.6,1.4]},\"yaxis3\":{\"anchor\":\"x3\",\"domain\":[0.55,1.0],\"matches\":\"y\",\"showticklabels\":false,\"title\":{\"standoff\":12},\"tickfont\":{\"size\":16},\"range\":[-0.05,1.05]},\"xaxis4\":{\"anchor\":\"y4\",\"domain\":[0.0,0.41777777777777775],\"tickfont\":{\"size\":16},\"autorangeoptions\":{\"minallowed\":-0.6,\"maxallowed\":3.4},\"range\":[-0.6,3.4]},\"yaxis4\":{\"anchor\":\"x4\",\"domain\":[0.0,0.45],\"title\":{\"text\":\"\\u003cb\\u003eDSC\\u003c\\u002fb\\u003e\"},\"tickfont\":{\"size\":16},\"range\":[-0.05,1.05]},\"xaxis5\":{\"anchor\":\"y5\",\"domain\":[0.4477777777777777,0.7611111111111111],\"tickfont\":{\"size\":16},\"autorangeoptions\":{\"minallowed\":-0.6,\"maxallowed\":2.4},\"range\":[-0.6,2.4]},\"yaxis5\":{\"anchor\":\"x5\",\"domain\":[0.0,0.45],\"matches\":\"y4\",\"showticklabels\":false,\"title\":{\"standoff\":12},\"tickfont\":{\"size\":16},\"range\":[-0.05,1.05]},\"xaxis6\":{\"anchor\":\"y6\",\"domain\":[0.7911111111111111,1.0],\"tickfont\":{\"size\":16},\"autorangeoptions\":{\"minallowed\":-0.6,\"maxallowed\":1.4},\"range\":[-0.6,1.4]},\"yaxis6\":{\"anchor\":\"x6\",\"domain\":[0.0,0.45],\"matches\":\"y4\",\"showticklabels\":false,\"title\":{\"standoff\":12},\"tickfont\":{\"size\":16},\"range\":[-0.05,1.05]},\"annotations\":[{\"font\":{\"size\":20},\"showarrow\":false,\"text\":\"\\u003cb\\u003eimage#HSI\\u003c\\u002fb\\u003e\",\"x\":0,\"xanchor\":\"left\",\"xref\":\"paper\",\"y\":1.0,\"yanchor\":\"bottom\",\"yref\":\"paper\"},{\"font\":{\"size\":20},\"showarrow\":false,\"text\":\"\\u003cb\\u003eimage#RGB\\u003c\\u002fb\\u003e\",\"x\":0,\"xanchor\":\"left\",\"xref\":\"paper\",\"y\":0.45,\"yanchor\":\"bottom\",\"yref\":\"paper\"}],\"boxmode\":\"group\",\"boxgap\":0.2,\"boxgroupgap\":0.4,\"legend\":{\"orientation\":\"h\",\"yanchor\":\"bottom\",\"y\":0.46,\"xanchor\":\"center\",\"x\":0.5},\"font\":{\"family\":\"Libertinus Serif\",\"size\":20},\"margin\":{\"l\":0,\"r\":0,\"b\":0,\"t\":20},\"height\":510,\"width\":1100},                        {\"responsive\": true}                    ).then(function(){\n",
       "                            \n",
       "var gd = document.getElementById('cd072cd8-be6f-4f62-ac4c-09c28206e7e3');\n",
       "var x = new MutationObserver(function (mutations, observer) {{\n",
       "        var display = window.getComputedStyle(gd).display;\n",
       "        if (!display || display === 'none') {{\n",
       "            console.log([gd, 'removed!']);\n",
       "            Plotly.purge(gd);\n",
       "            observer.disconnect();\n",
       "        }}\n",
       "}});\n",
       "\n",
       "// Listen for the removal of the full notebook cells\n",
       "var notebookContainer = gd.closest('#notebook-container');\n",
       "if (notebookContainer) {{\n",
       "    x.observe(notebookContainer, {childList: true});\n",
       "}}\n",
       "\n",
       "// Listen for the clearing of the current output cell\n",
       "var outputEl = gd.closest('.output');\n",
       "if (outputEl) {{\n",
       "    x.observe(outputEl, {childList: true});\n",
       "}}\n",
       "\n",
       "                        })                };                });            </script>        </div>"
      ]
     },
     "metadata": {},
     "output_type": "display_data"
    }
   ],
   "source": [
    "def dataset_comparison(metric_name: str) -> go.Figure:\n",
    "    fig = make_subplots(\n",
    "        rows=2,\n",
    "        cols=3,\n",
    "        subplot_titles=[\n",
    "            \"<b>image#HSI</b>\",\n",
    "            None,\n",
    "            None,\n",
    "            \"<b>image#RGB</b>\",\n",
    "            None,\n",
    "            None,\n",
    "        ],\n",
    "        shared_xaxes=True,\n",
    "        shared_yaxes=True,\n",
    "        vertical_spacing=0.1,\n",
    "        horizontal_spacing=0.03,\n",
    "        column_widths=[4, 3, 2],\n",
    "    )\n",
    "\n",
    "    network_renaming = {\n",
    "        \"baseline\": \"Baseline\",\n",
    "        \"organ_transplantation\": \"Organ Transplantation\",\n",
    "    }\n",
    "\n",
    "    datasets = list(settings_context.task_name_mapping.keys())\n",
    "    datasets.insert(datasets.index(\"removal_0\"), \"semantic2\")\n",
    "\n",
    "    def add_modality(modality: str, row: int) -> go.Figure:\n",
    "        df_m = df.query(\"modality == @modality\")\n",
    "        for dataset in datasets:\n",
    "            dataset_name = \"original2\" if dataset == \"semantic2\" else settings_context.task_name_mapping[dataset]\n",
    "            scenario = settings_context.scenario_mapping[dataset]\n",
    "            if scenario == \"isolation\":\n",
    "                col = 1\n",
    "            elif scenario == \"removal\":\n",
    "                col = 2\n",
    "            else:\n",
    "                col = 3\n",
    "\n",
    "            for network in df_m[\"network\"].unique():\n",
    "                df_box = df_m.query(\"dataset == @dataset and network == @network\")\n",
    "                fig.add_trace(\n",
    "                    go.Box(\n",
    "                        y=df_box[metric_name],\n",
    "                        x=[dataset_name] * len(df_box[metric_name]),\n",
    "                        offsetgroup=network,\n",
    "                        text=df_box[\"label_name\"],\n",
    "                        boxpoints=\"all\",\n",
    "                        boxmean=True,\n",
    "                        name=network_renaming.get(network, network),\n",
    "                        marker_color=settings_context.network_colors[network],\n",
    "                        legendgroup=network,\n",
    "                        showlegend=row == 1 and col == 1 and dataset == \"isolation_0\",\n",
    "                    ),\n",
    "                    row=row,\n",
    "                    col=col,\n",
    "                )\n",
    "\n",
    "        return fig\n",
    "\n",
    "    add_modality(\"HSI\", row=1)\n",
    "    add_modality(\"RGB\", row=2)\n",
    "\n",
    "    # Font size for subplot titles\n",
    "    for i in fig[\"layout\"][\"annotations\"]:\n",
    "        i[\"font\"] = dict(size=20)\n",
    "\n",
    "    fig.update_annotations(xanchor=\"left\", x=0)\n",
    "    fig.update_yaxes(title_standoff=12)\n",
    "    fig.update_yaxes(tickfont=dict(size=16))\n",
    "    fig.update_xaxes(tickfont=dict(size=16))\n",
    "\n",
    "    xmin = -0.6\n",
    "    xmax_margin = 0.6\n",
    "    fig.update_xaxes(\n",
    "        range=[xmin, 4 - xmax_margin],\n",
    "        autorangeoptions_minallowed=xmin,\n",
    "        autorangeoptions_maxallowed=4 - xmax_margin,\n",
    "        col=1,\n",
    "    )\n",
    "    fig.update_xaxes(\n",
    "        range=[xmin, 3 - xmax_margin],\n",
    "        autorangeoptions_minallowed=xmin,\n",
    "        autorangeoptions_maxallowed=3 - xmax_margin,\n",
    "        col=2,\n",
    "    )\n",
    "    fig.update_xaxes(\n",
    "        range=[xmin, 2 - xmax_margin],\n",
    "        autorangeoptions_minallowed=xmin,\n",
    "        autorangeoptions_maxallowed=2 - xmax_margin,\n",
    "        col=3,\n",
    "    )\n",
    "    fig.update_yaxes(range=[-0.05, 1.05])\n",
    "    fig.update_layout(boxmode=\"group\", boxgap=0.2, boxgroupgap=0.4)\n",
    "    fig.update_layout(legend=dict(orientation=\"h\", yanchor=\"bottom\", y=0.46, xanchor=\"center\", x=0.5))\n",
    "    fig.update_layout(\n",
    "        template=\"plotly_white\",\n",
    "        height=510,\n",
    "        width=1100,\n",
    "        font_family=\"Libertinus Serif\",\n",
    "        font_size=20,\n",
    "        margin=dict(l=0, r=0, b=0, t=20),\n",
    "    )\n",
    "\n",
    "    return fig\n",
    "\n",
    "\n",
    "fig = dataset_comparison(\"dice_metric\")\n",
    "fig.update_yaxes(title=\"<b>DSC</b>\", col=1)\n",
    "fig.write_image(settings_context.paper_extended_dir / \"task_performance_DSC.pdf\")\n",
    "fig"
   ]
  },
  {
   "cell_type": "code",
   "execution_count": 4,
   "metadata": {},
   "outputs": [
    {
     "data": {
      "application/vnd.plotly.v1+json": {
       "config": {
        "plotlyServerURL": "https://plot.ly"
       },
       "data": [
        {
         "boxmean": true,
         "boxpoints": "all",
         "legendgroup": "baseline",
         "marker": {
          "color": "#508587"
         },
         "name": "Baseline",
         "offsetgroup": "baseline",
         "showlegend": false,
         "text": [
          "stomach",
          "small_bowel",
          "colon",
          "liver",
          "gallbladder",
          "pancreas",
          "kidney",
          "spleen",
          "bladder",
          "omentum",
          "lung",
          "heart",
          "skin",
          "muscle",
          "fat_subcutaneous",
          "peritoneum",
          "major_vein",
          "kidney_with_Gerotas_fascia",
          "background"
         ],
         "type": "box",
         "x": [
          "original",
          "original",
          "original",
          "original",
          "original",
          "original",
          "original",
          "original",
          "original",
          "original",
          "original",
          "original",
          "original",
          "original",
          "original",
          "original",
          "original",
          "original",
          "original"
         ],
         "xaxis": "x",
         "y": [
          0.7901706198110576,
          0.7915355384255921,
          0.9241611601801809,
          0.6459282662933844,
          0.49435010777755795,
          0.917054711596692,
          0.5978680723824262,
          0.7034044675688863,
          0.6184213607374536,
          0.7746797864589444,
          0.7505131499845872,
          0.8728551620592241,
          0.8382372435503117,
          0.5057332957449897,
          0.6999965376666828,
          0.8680679262103425,
          0.8704387395704867,
          0.31164426334693374,
          0.9362453770016985
         ],
         "yaxis": "y"
        },
        {
         "boxmean": true,
         "boxpoints": "all",
         "legendgroup": "organ_transplantation",
         "marker": {
          "color": "#A39F5D"
         },
         "name": "Organ Transplantation",
         "offsetgroup": "organ_transplantation",
         "showlegend": false,
         "text": [
          "stomach",
          "small_bowel",
          "colon",
          "liver",
          "gallbladder",
          "pancreas",
          "kidney",
          "spleen",
          "bladder",
          "omentum",
          "lung",
          "heart",
          "skin",
          "muscle",
          "fat_subcutaneous",
          "peritoneum",
          "major_vein",
          "kidney_with_Gerotas_fascia",
          "background"
         ],
         "type": "box",
         "x": [
          "original",
          "original",
          "original",
          "original",
          "original",
          "original",
          "original",
          "original",
          "original",
          "original",
          "original",
          "original",
          "original",
          "original",
          "original",
          "original",
          "original",
          "original",
          "original"
         ],
         "xaxis": "x",
         "y": [
          0.8058508732500826,
          0.7824990970064578,
          0.927014256620132,
          0.6492548498979482,
          0.489446342914025,
          0.9281989893397488,
          0.6251823250954609,
          0.6878020526030928,
          0.5887739473580607,
          0.7712109292446163,
          0.7526013952056135,
          0.8584924406344561,
          0.8710257016204874,
          0.5714648735604635,
          0.7818072308034596,
          0.8584761343184588,
          0.9402443898364805,
          0.5878002912973903,
          0.925211372849087
         ],
         "yaxis": "y"
        },
        {
         "boxmean": true,
         "boxpoints": "all",
         "legendgroup": "baseline",
         "marker": {
          "color": "#508587"
         },
         "name": "Baseline",
         "offsetgroup": "baseline",
         "showlegend": true,
         "text": [
          "stomach",
          "small_bowel",
          "colon",
          "liver",
          "gallbladder",
          "pancreas",
          "kidney",
          "spleen",
          "bladder",
          "omentum",
          "lung",
          "heart",
          "skin",
          "muscle",
          "fat_subcutaneous",
          "peritoneum",
          "major_vein",
          "kidney_with_Gerotas_fascia",
          "background"
         ],
         "type": "box",
         "x": [
          "isolation_zero",
          "isolation_zero",
          "isolation_zero",
          "isolation_zero",
          "isolation_zero",
          "isolation_zero",
          "isolation_zero",
          "isolation_zero",
          "isolation_zero",
          "isolation_zero",
          "isolation_zero",
          "isolation_zero",
          "isolation_zero",
          "isolation_zero",
          "isolation_zero",
          "isolation_zero",
          "isolation_zero",
          "isolation_zero",
          "isolation_zero"
         ],
         "xaxis": "x",
         "y": [
          0.5325038686130612,
          0.9785623973296366,
          0.7782921615373845,
          0.8873125517987862,
          0.003812715684226785,
          0.5776924272848657,
          0.4687290218216794,
          0.7724106483547175,
          0.6603783332380241,
          0.30721960549580735,
          0.7444842785367821,
          0.7362415016213054,
          0.9336650857216401,
          0.5930535855974148,
          0.9158581725988393,
          0.37948357485705453,
          0.04846618395641322,
          0.04663693508899384,
          0.987245055419319
         ],
         "yaxis": "y"
        },
        {
         "boxmean": true,
         "boxpoints": "all",
         "legendgroup": "organ_transplantation",
         "marker": {
          "color": "#A39F5D"
         },
         "name": "Organ Transplantation",
         "offsetgroup": "organ_transplantation",
         "showlegend": true,
         "text": [
          "stomach",
          "small_bowel",
          "colon",
          "liver",
          "gallbladder",
          "pancreas",
          "kidney",
          "spleen",
          "bladder",
          "omentum",
          "lung",
          "heart",
          "skin",
          "muscle",
          "fat_subcutaneous",
          "peritoneum",
          "major_vein",
          "kidney_with_Gerotas_fascia",
          "background"
         ],
         "type": "box",
         "x": [
          "isolation_zero",
          "isolation_zero",
          "isolation_zero",
          "isolation_zero",
          "isolation_zero",
          "isolation_zero",
          "isolation_zero",
          "isolation_zero",
          "isolation_zero",
          "isolation_zero",
          "isolation_zero",
          "isolation_zero",
          "isolation_zero",
          "isolation_zero",
          "isolation_zero",
          "isolation_zero",
          "isolation_zero",
          "isolation_zero",
          "isolation_zero"
         ],
         "xaxis": "x",
         "y": [
          0.9387759670800616,
          0.9538233987242766,
          0.9437871483959146,
          0.9521331092411233,
          0.4716732818431758,
          0.9702721108352366,
          0.9057009011258705,
          0.8744437896611914,
          0.6057960959739964,
          0.8179689696186696,
          0.798774480882035,
          0.9853611050305894,
          0.8219573238982426,
          0.6673975199654977,
          0.8651595524972354,
          0.8211143079452418,
          0.9533076575975676,
          0.41808125889554937,
          0.9929675759555557
         ],
         "yaxis": "y"
        },
        {
         "boxmean": true,
         "boxpoints": "all",
         "legendgroup": "baseline",
         "marker": {
          "color": "#508587"
         },
         "name": "Baseline",
         "offsetgroup": "baseline",
         "showlegend": false,
         "text": [
          "stomach",
          "small_bowel",
          "colon",
          "liver",
          "gallbladder",
          "pancreas",
          "kidney",
          "spleen",
          "bladder",
          "omentum",
          "lung",
          "heart",
          "skin",
          "muscle",
          "fat_subcutaneous",
          "peritoneum",
          "major_vein",
          "kidney_with_Gerotas_fascia",
          "background"
         ],
         "type": "box",
         "x": [
          "isolation_bgr",
          "isolation_bgr",
          "isolation_bgr",
          "isolation_bgr",
          "isolation_bgr",
          "isolation_bgr",
          "isolation_bgr",
          "isolation_bgr",
          "isolation_bgr",
          "isolation_bgr",
          "isolation_bgr",
          "isolation_bgr",
          "isolation_bgr",
          "isolation_bgr",
          "isolation_bgr",
          "isolation_bgr",
          "isolation_bgr",
          "isolation_bgr",
          "isolation_bgr"
         ],
         "xaxis": "x",
         "y": [
          0.09987101264007478,
          0.8961474532565304,
          0.6579678542847196,
          0.6673795945191898,
          0.0867415035938316,
          0.09663171717170142,
          0.017501382725578787,
          0.1675617495722022,
          0.7845835425529234,
          0.005799626216778843,
          0.8905291126911564,
          0.9545029522710099,
          0.8793015649266921,
          0.3081303646547599,
          0.1874045253695602,
          0.6396175301404224,
          0.2641560767714632,
          0,
          0.9877243980699888
         ],
         "yaxis": "y"
        },
        {
         "boxmean": true,
         "boxpoints": "all",
         "legendgroup": "organ_transplantation",
         "marker": {
          "color": "#A39F5D"
         },
         "name": "Organ Transplantation",
         "offsetgroup": "organ_transplantation",
         "showlegend": false,
         "text": [
          "stomach",
          "small_bowel",
          "colon",
          "liver",
          "gallbladder",
          "pancreas",
          "kidney",
          "spleen",
          "bladder",
          "omentum",
          "lung",
          "heart",
          "skin",
          "muscle",
          "fat_subcutaneous",
          "peritoneum",
          "major_vein",
          "kidney_with_Gerotas_fascia",
          "background"
         ],
         "type": "box",
         "x": [
          "isolation_bgr",
          "isolation_bgr",
          "isolation_bgr",
          "isolation_bgr",
          "isolation_bgr",
          "isolation_bgr",
          "isolation_bgr",
          "isolation_bgr",
          "isolation_bgr",
          "isolation_bgr",
          "isolation_bgr",
          "isolation_bgr",
          "isolation_bgr",
          "isolation_bgr",
          "isolation_bgr",
          "isolation_bgr",
          "isolation_bgr",
          "isolation_bgr",
          "isolation_bgr"
         ],
         "xaxis": "x",
         "y": [
          0.9321252649463541,
          0.9448668255752757,
          0.9688980122454518,
          0.8935790918023354,
          0.5313212825050456,
          0.9317705329204383,
          0.8921012576494778,
          0.874072880645969,
          0.8602360112099305,
          0.8603453923089596,
          0.7814020811758483,
          0.9860740309659928,
          0.8345918167113032,
          0.7615253787136462,
          0.9596483698120858,
          0.919313265963547,
          0.9818946697241235,
          0.9293396317362532,
          0.9960371422799017
         ],
         "yaxis": "y"
        },
        {
         "boxmean": true,
         "boxpoints": "all",
         "legendgroup": "baseline",
         "marker": {
          "color": "#508587"
         },
         "name": "Baseline",
         "offsetgroup": "baseline",
         "showlegend": false,
         "text": [
          "stomach",
          "small_bowel",
          "colon",
          "liver",
          "gallbladder",
          "pancreas",
          "kidney",
          "spleen",
          "bladder",
          "omentum",
          "lung",
          "heart",
          "skin",
          "muscle",
          "peritoneum",
          "major_vein",
          "kidney_with_Gerotas_fascia",
          "background"
         ],
         "type": "box",
         "x": [
          "isolation_real",
          "isolation_real",
          "isolation_real",
          "isolation_real",
          "isolation_real",
          "isolation_real",
          "isolation_real",
          "isolation_real",
          "isolation_real",
          "isolation_real",
          "isolation_real",
          "isolation_real",
          "isolation_real",
          "isolation_real",
          "isolation_real",
          "isolation_real",
          "isolation_real",
          "isolation_real"
         ],
         "xaxis": "x",
         "y": [
          0.2541043148178689,
          0.7711820550288071,
          0.9849981031372934,
          0.2777493532679491,
          0.07218082633005568,
          0.08432791141855903,
          0.38904520409551135,
          0.15301543595527045,
          0.4255862908097277,
          0,
          0.9733466265549906,
          0.9557603686635945,
          0.9301262950065275,
          0.09041278295605859,
          0.6009294928150126,
          0.40897561985813813,
          0.21222790914089928,
          0.9653912863728609
         ],
         "yaxis": "y"
        },
        {
         "boxmean": true,
         "boxpoints": "all",
         "legendgroup": "organ_transplantation",
         "marker": {
          "color": "#A39F5D"
         },
         "name": "Organ Transplantation",
         "offsetgroup": "organ_transplantation",
         "showlegend": false,
         "text": [
          "stomach",
          "small_bowel",
          "colon",
          "liver",
          "gallbladder",
          "pancreas",
          "kidney",
          "spleen",
          "bladder",
          "omentum",
          "lung",
          "heart",
          "skin",
          "muscle",
          "peritoneum",
          "major_vein",
          "kidney_with_Gerotas_fascia",
          "background"
         ],
         "type": "box",
         "x": [
          "isolation_real",
          "isolation_real",
          "isolation_real",
          "isolation_real",
          "isolation_real",
          "isolation_real",
          "isolation_real",
          "isolation_real",
          "isolation_real",
          "isolation_real",
          "isolation_real",
          "isolation_real",
          "isolation_real",
          "isolation_real",
          "isolation_real",
          "isolation_real",
          "isolation_real",
          "isolation_real"
         ],
         "xaxis": "x",
         "y": [
          0.7084914886403854,
          0.8973183500128246,
          0.9696969696969697,
          0.5570396153752999,
          0.5448018982226092,
          0.6357568374449493,
          0.8073803773916896,
          0.766724928394146,
          0.7888200277753065,
          0.9045698739265822,
          0.9851556673866212,
          0.9919337282890952,
          0.9911126026145594,
          0.09751892523477025,
          0.821343088109109,
          1,
          0.5173323448563735,
          0.9764053973439745
         ],
         "yaxis": "y"
        },
        {
         "boxmean": true,
         "boxpoints": "all",
         "legendgroup": "baseline",
         "marker": {
          "color": "#508587"
         },
         "name": "Baseline",
         "offsetgroup": "baseline",
         "showlegend": false,
         "text": [
          "stomach",
          "small_bowel",
          "colon",
          "liver",
          "gallbladder",
          "pancreas",
          "kidney",
          "spleen",
          "bladder",
          "omentum",
          "lung",
          "heart",
          "skin",
          "muscle",
          "fat_subcutaneous",
          "peritoneum",
          "major_vein",
          "kidney_with_Gerotas_fascia",
          "background"
         ],
         "type": "box",
         "x": [
          "original2",
          "original2",
          "original2",
          "original2",
          "original2",
          "original2",
          "original2",
          "original2",
          "original2",
          "original2",
          "original2",
          "original2",
          "original2",
          "original2",
          "original2",
          "original2",
          "original2",
          "original2",
          "original2"
         ],
         "xaxis": "x2",
         "y": [
          0.7901706198110576,
          0.7915355384255921,
          0.9241611601801809,
          0.6459282662933844,
          0.49435010777755795,
          0.917054711596692,
          0.5978680723824262,
          0.7034044675688863,
          0.6184213607374536,
          0.7746797864589444,
          0.7505131499845872,
          0.8728551620592241,
          0.8382372435503117,
          0.5057332957449897,
          0.6999965376666828,
          0.8680679262103425,
          0.8704387395704867,
          0.31164426334693374,
          0.9362453770016985
         ],
         "yaxis": "y2"
        },
        {
         "boxmean": true,
         "boxpoints": "all",
         "legendgroup": "organ_transplantation",
         "marker": {
          "color": "#A39F5D"
         },
         "name": "Organ Transplantation",
         "offsetgroup": "organ_transplantation",
         "showlegend": false,
         "text": [
          "stomach",
          "small_bowel",
          "colon",
          "liver",
          "gallbladder",
          "pancreas",
          "kidney",
          "spleen",
          "bladder",
          "omentum",
          "lung",
          "heart",
          "skin",
          "muscle",
          "fat_subcutaneous",
          "peritoneum",
          "major_vein",
          "kidney_with_Gerotas_fascia",
          "background"
         ],
         "type": "box",
         "x": [
          "original2",
          "original2",
          "original2",
          "original2",
          "original2",
          "original2",
          "original2",
          "original2",
          "original2",
          "original2",
          "original2",
          "original2",
          "original2",
          "original2",
          "original2",
          "original2",
          "original2",
          "original2",
          "original2"
         ],
         "xaxis": "x2",
         "y": [
          0.8058508732500826,
          0.7824990970064578,
          0.927014256620132,
          0.6492548498979482,
          0.489446342914025,
          0.9281989893397488,
          0.6251823250954609,
          0.6878020526030928,
          0.5887739473580607,
          0.7712109292446163,
          0.7526013952056135,
          0.8584924406344561,
          0.8710257016204874,
          0.5714648735604635,
          0.7818072308034596,
          0.8584761343184588,
          0.9402443898364805,
          0.5878002912973903,
          0.925211372849087
         ],
         "yaxis": "y2"
        },
        {
         "boxmean": true,
         "boxpoints": "all",
         "legendgroup": "baseline",
         "marker": {
          "color": "#508587"
         },
         "name": "Baseline",
         "offsetgroup": "baseline",
         "showlegend": false,
         "text": [
          "stomach",
          "small_bowel",
          "colon",
          "liver",
          "gallbladder",
          "pancreas",
          "kidney",
          "spleen",
          "bladder",
          "omentum",
          "lung",
          "heart",
          "skin",
          "muscle",
          "fat_subcutaneous",
          "peritoneum",
          "major_vein",
          "kidney_with_Gerotas_fascia",
          "background"
         ],
         "type": "box",
         "x": [
          "removal_zero",
          "removal_zero",
          "removal_zero",
          "removal_zero",
          "removal_zero",
          "removal_zero",
          "removal_zero",
          "removal_zero",
          "removal_zero",
          "removal_zero",
          "removal_zero",
          "removal_zero",
          "removal_zero",
          "removal_zero",
          "removal_zero",
          "removal_zero",
          "removal_zero",
          "removal_zero",
          "removal_zero"
         ],
         "xaxis": "x2",
         "y": [
          0.5055953446109606,
          0.6641556050043238,
          0.7856675865861484,
          0.5656780626342168,
          0.027937378463820984,
          0.7890344812347386,
          0.4580526649649743,
          0.637170075639374,
          0.30292361969080916,
          0.5870942644978324,
          0.6312762884333178,
          0.781274961582822,
          0.7746996910813447,
          0.5159142295138297,
          0.5781762386441456,
          0.5712469102573046,
          0.564565922405435,
          0.0898325869678778,
          0.8786133260367557
         ],
         "yaxis": "y2"
        },
        {
         "boxmean": true,
         "boxpoints": "all",
         "legendgroup": "organ_transplantation",
         "marker": {
          "color": "#A39F5D"
         },
         "name": "Organ Transplantation",
         "offsetgroup": "organ_transplantation",
         "showlegend": false,
         "text": [
          "stomach",
          "small_bowel",
          "colon",
          "liver",
          "gallbladder",
          "pancreas",
          "kidney",
          "spleen",
          "bladder",
          "omentum",
          "lung",
          "heart",
          "skin",
          "muscle",
          "fat_subcutaneous",
          "peritoneum",
          "major_vein",
          "kidney_with_Gerotas_fascia",
          "background"
         ],
         "type": "box",
         "x": [
          "removal_zero",
          "removal_zero",
          "removal_zero",
          "removal_zero",
          "removal_zero",
          "removal_zero",
          "removal_zero",
          "removal_zero",
          "removal_zero",
          "removal_zero",
          "removal_zero",
          "removal_zero",
          "removal_zero",
          "removal_zero",
          "removal_zero",
          "removal_zero",
          "removal_zero",
          "removal_zero",
          "removal_zero"
         ],
         "xaxis": "x2",
         "y": [
          0.7505484122659905,
          0.7647688548827298,
          0.8985740883050071,
          0.6344929655255955,
          0.3187986470372595,
          0.9033149693072108,
          0.6071908787887308,
          0.6591946701498581,
          0.4894731290742137,
          0.7112597531031655,
          0.718569126369282,
          0.8495918659947664,
          0.7925597242465137,
          0.556224557786058,
          0.6282665801363113,
          0.7235020205227527,
          0.8979463160889357,
          0.5434866051797796,
          0.8884772863319566
         ],
         "yaxis": "y2"
        },
        {
         "boxmean": true,
         "boxpoints": "all",
         "legendgroup": "baseline",
         "marker": {
          "color": "#508587"
         },
         "name": "Baseline",
         "offsetgroup": "baseline",
         "showlegend": false,
         "text": [
          "stomach",
          "small_bowel",
          "colon",
          "liver",
          "gallbladder",
          "pancreas",
          "kidney",
          "spleen",
          "bladder",
          "omentum",
          "lung",
          "heart",
          "skin",
          "muscle",
          "fat_subcutaneous",
          "peritoneum",
          "major_vein",
          "kidney_with_Gerotas_fascia",
          "background"
         ],
         "type": "box",
         "x": [
          "removal_bgr",
          "removal_bgr",
          "removal_bgr",
          "removal_bgr",
          "removal_bgr",
          "removal_bgr",
          "removal_bgr",
          "removal_bgr",
          "removal_bgr",
          "removal_bgr",
          "removal_bgr",
          "removal_bgr",
          "removal_bgr",
          "removal_bgr",
          "removal_bgr",
          "removal_bgr",
          "removal_bgr",
          "removal_bgr",
          "removal_bgr"
         ],
         "xaxis": "x2",
         "y": [
          0.6033396588318055,
          0.7194830298834598,
          0.800668528034661,
          0.5831001401817952,
          0.18128514660269074,
          0.805484502117654,
          0.4941815027246458,
          0.6174609014995078,
          0.430038947965513,
          0.6472646243443382,
          0.6590504746883031,
          0.8005014886219423,
          0.7750564623251162,
          0.3915216820977813,
          0.5556790011465957,
          0.6214912475696357,
          0.7580237060947161,
          0.13504254454594225,
          0.9068066789192605
         ],
         "yaxis": "y2"
        },
        {
         "boxmean": true,
         "boxpoints": "all",
         "legendgroup": "organ_transplantation",
         "marker": {
          "color": "#A39F5D"
         },
         "name": "Organ Transplantation",
         "offsetgroup": "organ_transplantation",
         "showlegend": false,
         "text": [
          "stomach",
          "small_bowel",
          "colon",
          "liver",
          "gallbladder",
          "pancreas",
          "kidney",
          "spleen",
          "bladder",
          "omentum",
          "lung",
          "heart",
          "skin",
          "muscle",
          "fat_subcutaneous",
          "peritoneum",
          "major_vein",
          "kidney_with_Gerotas_fascia",
          "background"
         ],
         "type": "box",
         "x": [
          "removal_bgr",
          "removal_bgr",
          "removal_bgr",
          "removal_bgr",
          "removal_bgr",
          "removal_bgr",
          "removal_bgr",
          "removal_bgr",
          "removal_bgr",
          "removal_bgr",
          "removal_bgr",
          "removal_bgr",
          "removal_bgr",
          "removal_bgr",
          "removal_bgr",
          "removal_bgr",
          "removal_bgr",
          "removal_bgr",
          "removal_bgr"
         ],
         "xaxis": "x2",
         "y": [
          0.7540174999781972,
          0.7761217082410197,
          0.9102118127450959,
          0.6322689333366407,
          0.34094291187558756,
          0.9026907643817346,
          0.601161584161862,
          0.6689953052486957,
          0.5512557437356753,
          0.7292823658862424,
          0.7296886249954623,
          0.8530193247125615,
          0.8512801873450694,
          0.5752868089862588,
          0.6407642478575051,
          0.7388767485210095,
          0.9222692522678531,
          0.5719915631717691,
          0.893856391807164
         ],
         "yaxis": "y2"
        },
        {
         "boxmean": true,
         "boxpoints": "all",
         "legendgroup": "baseline",
         "marker": {
          "color": "#508587"
         },
         "name": "Baseline",
         "offsetgroup": "baseline",
         "showlegend": false,
         "text": [
          "stomach",
          "small_bowel",
          "colon",
          "liver",
          "gallbladder",
          "kidney",
          "spleen",
          "bladder",
          "omentum",
          "lung",
          "heart",
          "skin",
          "muscle",
          "fat_subcutaneous",
          "peritoneum",
          "background"
         ],
         "type": "box",
         "x": [
          "no-occlusion",
          "no-occlusion",
          "no-occlusion",
          "no-occlusion",
          "no-occlusion",
          "no-occlusion",
          "no-occlusion",
          "no-occlusion",
          "no-occlusion",
          "no-occlusion",
          "no-occlusion",
          "no-occlusion",
          "no-occlusion",
          "no-occlusion",
          "no-occlusion",
          "no-occlusion"
         ],
         "xaxis": "x3",
         "y": [
          0.7602398964369758,
          0.7580288976144478,
          0.912273071494373,
          0.5465125932198938,
          0.2529764660008487,
          0,
          0.6213263216934961,
          0.6163720088545608,
          0.7469726277888894,
          0.684440625950039,
          0.9000158165570852,
          0.9626984179517558,
          0.4397611854066516,
          0.5077875156404154,
          0.8554566441217247,
          0.9183256876846201
         ],
         "yaxis": "y3"
        },
        {
         "boxmean": true,
         "boxpoints": "all",
         "legendgroup": "organ_transplantation",
         "marker": {
          "color": "#A39F5D"
         },
         "name": "Organ Transplantation",
         "offsetgroup": "organ_transplantation",
         "showlegend": false,
         "text": [
          "stomach",
          "small_bowel",
          "colon",
          "liver",
          "gallbladder",
          "kidney",
          "spleen",
          "bladder",
          "omentum",
          "lung",
          "heart",
          "skin",
          "muscle",
          "fat_subcutaneous",
          "peritoneum",
          "background"
         ],
         "type": "box",
         "x": [
          "no-occlusion",
          "no-occlusion",
          "no-occlusion",
          "no-occlusion",
          "no-occlusion",
          "no-occlusion",
          "no-occlusion",
          "no-occlusion",
          "no-occlusion",
          "no-occlusion",
          "no-occlusion",
          "no-occlusion",
          "no-occlusion",
          "no-occlusion",
          "no-occlusion",
          "no-occlusion"
         ],
         "xaxis": "x3",
         "y": [
          0.8313052782757353,
          0.7704598896966026,
          0.939918194321748,
          0.6075614226875866,
          0.3322533502788661,
          0.43568464730290457,
          0.6575203687847871,
          0.6027454353613871,
          0.8368787702199061,
          0.6931131907188591,
          0.8770715878229338,
          0.9740331814506521,
          0.5556993939148278,
          0.5298745701999793,
          0.8878343705273436,
          0.9181279922844586
         ],
         "yaxis": "y3"
        },
        {
         "boxmean": true,
         "boxpoints": "all",
         "legendgroup": "baseline",
         "marker": {
          "color": "#508587"
         },
         "name": "Baseline",
         "offsetgroup": "baseline",
         "showlegend": false,
         "text": [
          "stomach",
          "small_bowel",
          "colon",
          "liver",
          "gallbladder",
          "pancreas",
          "kidney",
          "spleen",
          "bladder",
          "omentum",
          "lung",
          "heart",
          "skin",
          "muscle",
          "fat_subcutaneous",
          "peritoneum",
          "major_vein",
          "kidney_with_Gerotas_fascia",
          "background"
         ],
         "type": "box",
         "x": [
          "occlusion",
          "occlusion",
          "occlusion",
          "occlusion",
          "occlusion",
          "occlusion",
          "occlusion",
          "occlusion",
          "occlusion",
          "occlusion",
          "occlusion",
          "occlusion",
          "occlusion",
          "occlusion",
          "occlusion",
          "occlusion",
          "occlusion",
          "occlusion",
          "occlusion"
         ],
         "xaxis": "x3",
         "y": [
          0.30438926999531984,
          0.6668261028301827,
          0.6645400836499851,
          0.4597156786728111,
          0.38853835266785747,
          0.19821282152156505,
          0.5653253359771063,
          0.5405552135075454,
          0.542075174461991,
          0.6051048011499031,
          0.859524181660319,
          0.9484034652473651,
          0.6048378331692437,
          0.46403991478229945,
          0.6642824589906844,
          0.6111671646123537,
          0.8257696798848146,
          0.4023936895347905,
          0.7763082658720244
         ],
         "yaxis": "y3"
        },
        {
         "boxmean": true,
         "boxpoints": "all",
         "legendgroup": "organ_transplantation",
         "marker": {
          "color": "#A39F5D"
         },
         "name": "Organ Transplantation",
         "offsetgroup": "organ_transplantation",
         "showlegend": false,
         "text": [
          "stomach",
          "small_bowel",
          "colon",
          "liver",
          "gallbladder",
          "pancreas",
          "kidney",
          "spleen",
          "bladder",
          "omentum",
          "lung",
          "heart",
          "skin",
          "muscle",
          "fat_subcutaneous",
          "peritoneum",
          "major_vein",
          "kidney_with_Gerotas_fascia",
          "background"
         ],
         "type": "box",
         "x": [
          "occlusion",
          "occlusion",
          "occlusion",
          "occlusion",
          "occlusion",
          "occlusion",
          "occlusion",
          "occlusion",
          "occlusion",
          "occlusion",
          "occlusion",
          "occlusion",
          "occlusion",
          "occlusion",
          "occlusion",
          "occlusion",
          "occlusion",
          "occlusion",
          "occlusion"
         ],
         "xaxis": "x3",
         "y": [
          0.5943316090991737,
          0.7194289966133436,
          0.8151450503169523,
          0.5005755419478354,
          0.397449630980976,
          0.6837421339564408,
          0.6400415351578341,
          0.49233204461269775,
          0.5774791921308059,
          0.6593830082154187,
          0.8868095937597944,
          0.9534651587252597,
          0.6145360907320448,
          0.6212079517426323,
          0.7859759588393643,
          0.6853011139159196,
          0.920905200099422,
          0.5609345823585821,
          0.7842730834702007
         ],
         "yaxis": "y3"
        },
        {
         "boxmean": true,
         "boxpoints": "all",
         "legendgroup": "baseline",
         "marker": {
          "color": "#508587"
         },
         "name": "Baseline",
         "offsetgroup": "baseline",
         "showlegend": false,
         "text": [
          "stomach",
          "small_bowel",
          "colon",
          "liver",
          "gallbladder",
          "pancreas",
          "kidney",
          "spleen",
          "bladder",
          "omentum",
          "lung",
          "heart",
          "skin",
          "muscle",
          "fat_subcutaneous",
          "peritoneum",
          "major_vein",
          "kidney_with_Gerotas_fascia",
          "background"
         ],
         "type": "box",
         "x": [
          "original",
          "original",
          "original",
          "original",
          "original",
          "original",
          "original",
          "original",
          "original",
          "original",
          "original",
          "original",
          "original",
          "original",
          "original",
          "original",
          "original",
          "original",
          "original"
         ],
         "xaxis": "x4",
         "y": [
          0.7249684984545746,
          0.7946099966564181,
          0.8954275196896928,
          0.6165317988318947,
          0.5174414182515985,
          0.9436926712061534,
          0.5141770340319183,
          0.5671952833395315,
          0.5263707480086531,
          0.7708518317306412,
          0.7354685695058971,
          0.8685561982109412,
          0.8635949745299407,
          0.45359162142832216,
          0.7139573263805139,
          0.8302689940856889,
          0.8772346935009738,
          0.3777334603807851,
          0.9298054021404388
         ],
         "yaxis": "y4"
        },
        {
         "boxmean": true,
         "boxpoints": "all",
         "legendgroup": "organ_transplantation",
         "marker": {
          "color": "#A39F5D"
         },
         "name": "Organ Transplantation",
         "offsetgroup": "organ_transplantation",
         "showlegend": false,
         "text": [
          "stomach",
          "small_bowel",
          "colon",
          "liver",
          "gallbladder",
          "pancreas",
          "kidney",
          "spleen",
          "bladder",
          "omentum",
          "lung",
          "heart",
          "skin",
          "muscle",
          "fat_subcutaneous",
          "peritoneum",
          "major_vein",
          "kidney_with_Gerotas_fascia",
          "background"
         ],
         "type": "box",
         "x": [
          "original",
          "original",
          "original",
          "original",
          "original",
          "original",
          "original",
          "original",
          "original",
          "original",
          "original",
          "original",
          "original",
          "original",
          "original",
          "original",
          "original",
          "original",
          "original"
         ],
         "xaxis": "x4",
         "y": [
          0.7567582950872314,
          0.787679670688282,
          0.9123716766927938,
          0.6427953838443823,
          0.49045185931501245,
          0.9578990509865863,
          0.6276458448736502,
          0.6112764563344559,
          0.579348712765913,
          0.7591782422750155,
          0.7513970744057371,
          0.8575837030279004,
          0.8816134574464716,
          0.5667101684369116,
          0.723530968160647,
          0.8259384888818366,
          0.9640884188846854,
          0.4858924428252097,
          0.9210428406380313
         ],
         "yaxis": "y4"
        },
        {
         "boxmean": true,
         "boxpoints": "all",
         "legendgroup": "baseline",
         "marker": {
          "color": "#508587"
         },
         "name": "Baseline",
         "offsetgroup": "baseline",
         "showlegend": false,
         "text": [
          "stomach",
          "small_bowel",
          "colon",
          "liver",
          "gallbladder",
          "pancreas",
          "kidney",
          "spleen",
          "bladder",
          "omentum",
          "lung",
          "heart",
          "skin",
          "muscle",
          "fat_subcutaneous",
          "peritoneum",
          "major_vein",
          "kidney_with_Gerotas_fascia",
          "background"
         ],
         "type": "box",
         "x": [
          "isolation_zero",
          "isolation_zero",
          "isolation_zero",
          "isolation_zero",
          "isolation_zero",
          "isolation_zero",
          "isolation_zero",
          "isolation_zero",
          "isolation_zero",
          "isolation_zero",
          "isolation_zero",
          "isolation_zero",
          "isolation_zero",
          "isolation_zero",
          "isolation_zero",
          "isolation_zero",
          "isolation_zero",
          "isolation_zero",
          "isolation_zero"
         ],
         "xaxis": "x4",
         "y": [
          0.17987117923167803,
          0.34097205521659435,
          0.5481535218479615,
          0.6349720895028615,
          0.0033950954775414494,
          0.26606872961671363,
          0.07993366738459667,
          0.19053788585189543,
          0.07965763669201101,
          0.12588481429485993,
          0.8944861729921524,
          0.9345028513409154,
          0.6350353964644262,
          0.00702496262739143,
          0.11879565540014164,
          0.5764068659740301,
          0.017266744096012386,
          0.0016159955979118891,
          0.9772178533525299
         ],
         "yaxis": "y4"
        },
        {
         "boxmean": true,
         "boxpoints": "all",
         "legendgroup": "organ_transplantation",
         "marker": {
          "color": "#A39F5D"
         },
         "name": "Organ Transplantation",
         "offsetgroup": "organ_transplantation",
         "showlegend": false,
         "text": [
          "stomach",
          "small_bowel",
          "colon",
          "liver",
          "gallbladder",
          "pancreas",
          "kidney",
          "spleen",
          "bladder",
          "omentum",
          "lung",
          "heart",
          "skin",
          "muscle",
          "fat_subcutaneous",
          "peritoneum",
          "major_vein",
          "kidney_with_Gerotas_fascia",
          "background"
         ],
         "type": "box",
         "x": [
          "isolation_zero",
          "isolation_zero",
          "isolation_zero",
          "isolation_zero",
          "isolation_zero",
          "isolation_zero",
          "isolation_zero",
          "isolation_zero",
          "isolation_zero",
          "isolation_zero",
          "isolation_zero",
          "isolation_zero",
          "isolation_zero",
          "isolation_zero",
          "isolation_zero",
          "isolation_zero",
          "isolation_zero",
          "isolation_zero",
          "isolation_zero"
         ],
         "xaxis": "x4",
         "y": [
          0.7209428883023167,
          0.8250496404046892,
          0.8752257506078779,
          0.7118643137778478,
          0.007779665981593784,
          0.9878332879830841,
          0.7874821424488584,
          0.22440591581489777,
          0.08826439585658916,
          0.9716971210990291,
          0.7992205282945043,
          0.9751763980101663,
          0.8131101742802122,
          0.33325260831815967,
          0.6493964645023473,
          0.6909482874381481,
          0.19927646860794157,
          0.1555476906065448,
          0.9934194153611704
         ],
         "yaxis": "y4"
        },
        {
         "boxmean": true,
         "boxpoints": "all",
         "legendgroup": "baseline",
         "marker": {
          "color": "#508587"
         },
         "name": "Baseline",
         "offsetgroup": "baseline",
         "showlegend": false,
         "text": [
          "stomach",
          "small_bowel",
          "colon",
          "liver",
          "gallbladder",
          "pancreas",
          "kidney",
          "spleen",
          "bladder",
          "omentum",
          "lung",
          "heart",
          "skin",
          "muscle",
          "fat_subcutaneous",
          "peritoneum",
          "major_vein",
          "kidney_with_Gerotas_fascia",
          "background"
         ],
         "type": "box",
         "x": [
          "isolation_bgr",
          "isolation_bgr",
          "isolation_bgr",
          "isolation_bgr",
          "isolation_bgr",
          "isolation_bgr",
          "isolation_bgr",
          "isolation_bgr",
          "isolation_bgr",
          "isolation_bgr",
          "isolation_bgr",
          "isolation_bgr",
          "isolation_bgr",
          "isolation_bgr",
          "isolation_bgr",
          "isolation_bgr",
          "isolation_bgr",
          "isolation_bgr",
          "isolation_bgr"
         ],
         "xaxis": "x4",
         "y": [
          0.07796995416644993,
          0.9028829948711486,
          0.8090704094012604,
          0.9509484927370861,
          0.02212694338763477,
          0.14137711281125956,
          0.2645318185645927,
          0.22408184061039849,
          0.50130215982995,
          0.10058418729819665,
          0.8618183513115625,
          0.7677790445462399,
          0.6089353828303554,
          0.12535279879423228,
          0.6785717662588564,
          0.6216179983514787,
          0.15274723894360415,
          0.11014360496241529,
          0.9888303067300022
         ],
         "yaxis": "y4"
        },
        {
         "boxmean": true,
         "boxpoints": "all",
         "legendgroup": "organ_transplantation",
         "marker": {
          "color": "#A39F5D"
         },
         "name": "Organ Transplantation",
         "offsetgroup": "organ_transplantation",
         "showlegend": false,
         "text": [
          "stomach",
          "small_bowel",
          "colon",
          "liver",
          "gallbladder",
          "pancreas",
          "kidney",
          "spleen",
          "bladder",
          "omentum",
          "lung",
          "heart",
          "skin",
          "muscle",
          "fat_subcutaneous",
          "peritoneum",
          "major_vein",
          "kidney_with_Gerotas_fascia",
          "background"
         ],
         "type": "box",
         "x": [
          "isolation_bgr",
          "isolation_bgr",
          "isolation_bgr",
          "isolation_bgr",
          "isolation_bgr",
          "isolation_bgr",
          "isolation_bgr",
          "isolation_bgr",
          "isolation_bgr",
          "isolation_bgr",
          "isolation_bgr",
          "isolation_bgr",
          "isolation_bgr",
          "isolation_bgr",
          "isolation_bgr",
          "isolation_bgr",
          "isolation_bgr",
          "isolation_bgr",
          "isolation_bgr"
         ],
         "xaxis": "x4",
         "y": [
          0.7878378536357735,
          0.9649898746912507,
          0.9737560430636888,
          0.8634904934736956,
          0.4306993418901919,
          0.9865595153848689,
          0.7947348416505394,
          0.8014445239603384,
          0.7522967534963775,
          0.8523367230318165,
          0.801008740852473,
          0.9867365001335241,
          0.8697553913625864,
          0.7690609185024796,
          0.8130102932369722,
          0.7608493745377287,
          0.940125857133639,
          0.7787495759638123,
          0.9926904944286482
         ],
         "yaxis": "y4"
        },
        {
         "boxmean": true,
         "boxpoints": "all",
         "legendgroup": "baseline",
         "marker": {
          "color": "#508587"
         },
         "name": "Baseline",
         "offsetgroup": "baseline",
         "showlegend": false,
         "text": [
          "stomach",
          "small_bowel",
          "colon",
          "liver",
          "gallbladder",
          "pancreas",
          "kidney",
          "spleen",
          "bladder",
          "omentum",
          "lung",
          "heart",
          "skin",
          "muscle",
          "peritoneum",
          "major_vein",
          "kidney_with_Gerotas_fascia",
          "background"
         ],
         "type": "box",
         "x": [
          "isolation_real",
          "isolation_real",
          "isolation_real",
          "isolation_real",
          "isolation_real",
          "isolation_real",
          "isolation_real",
          "isolation_real",
          "isolation_real",
          "isolation_real",
          "isolation_real",
          "isolation_real",
          "isolation_real",
          "isolation_real",
          "isolation_real",
          "isolation_real",
          "isolation_real",
          "isolation_real"
         ],
         "xaxis": "x4",
         "y": [
          0.36724504022796906,
          0.8596543358443712,
          0.978682076566213,
          0.39099836554512196,
          0.10906786472035244,
          0.010948905109489052,
          0.4102516947357771,
          0.027790977477110252,
          0.5383530916483059,
          0,
          0.9701390667880805,
          0.9113313627390734,
          0.6568186135399244,
          0.11857779420552161,
          0.6622220005983843,
          0.25969998859917864,
          0.3178022269353128,
          0.9677068708334912
         ],
         "yaxis": "y4"
        },
        {
         "boxmean": true,
         "boxpoints": "all",
         "legendgroup": "organ_transplantation",
         "marker": {
          "color": "#A39F5D"
         },
         "name": "Organ Transplantation",
         "offsetgroup": "organ_transplantation",
         "showlegend": false,
         "text": [
          "stomach",
          "small_bowel",
          "colon",
          "liver",
          "gallbladder",
          "pancreas",
          "kidney",
          "spleen",
          "bladder",
          "omentum",
          "lung",
          "heart",
          "skin",
          "muscle",
          "peritoneum",
          "major_vein",
          "kidney_with_Gerotas_fascia",
          "background"
         ],
         "type": "box",
         "x": [
          "isolation_real",
          "isolation_real",
          "isolation_real",
          "isolation_real",
          "isolation_real",
          "isolation_real",
          "isolation_real",
          "isolation_real",
          "isolation_real",
          "isolation_real",
          "isolation_real",
          "isolation_real",
          "isolation_real",
          "isolation_real",
          "isolation_real",
          "isolation_real",
          "isolation_real",
          "isolation_real"
         ],
         "xaxis": "x4",
         "y": [
          0.8247854957381291,
          0.9287946873466068,
          0.9929824561403509,
          0.42640621239418985,
          0.22790813513550265,
          0.8513490605504141,
          0.803293304981367,
          0.5928635885567753,
          0.7557106370365926,
          1,
          0.9896678713637855,
          0.9965986394557823,
          0.9759473456444251,
          0.10153037916857012,
          0.9042863595302619,
          0.43361711177562384,
          0.48398617642182656,
          0.9683343813659095
         ],
         "yaxis": "y4"
        },
        {
         "boxmean": true,
         "boxpoints": "all",
         "legendgroup": "baseline",
         "marker": {
          "color": "#508587"
         },
         "name": "Baseline",
         "offsetgroup": "baseline",
         "showlegend": false,
         "text": [
          "stomach",
          "small_bowel",
          "colon",
          "liver",
          "gallbladder",
          "pancreas",
          "kidney",
          "spleen",
          "bladder",
          "omentum",
          "lung",
          "heart",
          "skin",
          "muscle",
          "fat_subcutaneous",
          "peritoneum",
          "major_vein",
          "kidney_with_Gerotas_fascia",
          "background"
         ],
         "type": "box",
         "x": [
          "original2",
          "original2",
          "original2",
          "original2",
          "original2",
          "original2",
          "original2",
          "original2",
          "original2",
          "original2",
          "original2",
          "original2",
          "original2",
          "original2",
          "original2",
          "original2",
          "original2",
          "original2",
          "original2"
         ],
         "xaxis": "x5",
         "y": [
          0.7249684984545746,
          0.7946099966564181,
          0.8954275196896928,
          0.6165317988318947,
          0.5174414182515985,
          0.9436926712061534,
          0.5141770340319183,
          0.5671952833395315,
          0.5263707480086531,
          0.7708518317306412,
          0.7354685695058971,
          0.8685561982109412,
          0.8635949745299407,
          0.45359162142832216,
          0.7139573263805139,
          0.8302689940856889,
          0.8772346935009738,
          0.3777334603807851,
          0.9298054021404388
         ],
         "yaxis": "y5"
        },
        {
         "boxmean": true,
         "boxpoints": "all",
         "legendgroup": "organ_transplantation",
         "marker": {
          "color": "#A39F5D"
         },
         "name": "Organ Transplantation",
         "offsetgroup": "organ_transplantation",
         "showlegend": false,
         "text": [
          "stomach",
          "small_bowel",
          "colon",
          "liver",
          "gallbladder",
          "pancreas",
          "kidney",
          "spleen",
          "bladder",
          "omentum",
          "lung",
          "heart",
          "skin",
          "muscle",
          "fat_subcutaneous",
          "peritoneum",
          "major_vein",
          "kidney_with_Gerotas_fascia",
          "background"
         ],
         "type": "box",
         "x": [
          "original2",
          "original2",
          "original2",
          "original2",
          "original2",
          "original2",
          "original2",
          "original2",
          "original2",
          "original2",
          "original2",
          "original2",
          "original2",
          "original2",
          "original2",
          "original2",
          "original2",
          "original2",
          "original2"
         ],
         "xaxis": "x5",
         "y": [
          0.7567582950872314,
          0.787679670688282,
          0.9123716766927938,
          0.6427953838443823,
          0.49045185931501245,
          0.9578990509865863,
          0.6276458448736502,
          0.6112764563344559,
          0.579348712765913,
          0.7591782422750155,
          0.7513970744057371,
          0.8575837030279004,
          0.8816134574464716,
          0.5667101684369116,
          0.723530968160647,
          0.8259384888818366,
          0.9640884188846854,
          0.4858924428252097,
          0.9210428406380313
         ],
         "yaxis": "y5"
        },
        {
         "boxmean": true,
         "boxpoints": "all",
         "legendgroup": "baseline",
         "marker": {
          "color": "#508587"
         },
         "name": "Baseline",
         "offsetgroup": "baseline",
         "showlegend": false,
         "text": [
          "stomach",
          "small_bowel",
          "colon",
          "liver",
          "gallbladder",
          "pancreas",
          "kidney",
          "spleen",
          "bladder",
          "omentum",
          "lung",
          "heart",
          "skin",
          "muscle",
          "fat_subcutaneous",
          "peritoneum",
          "major_vein",
          "kidney_with_Gerotas_fascia",
          "background"
         ],
         "type": "box",
         "x": [
          "removal_zero",
          "removal_zero",
          "removal_zero",
          "removal_zero",
          "removal_zero",
          "removal_zero",
          "removal_zero",
          "removal_zero",
          "removal_zero",
          "removal_zero",
          "removal_zero",
          "removal_zero",
          "removal_zero",
          "removal_zero",
          "removal_zero",
          "removal_zero",
          "removal_zero",
          "removal_zero",
          "removal_zero"
         ],
         "xaxis": "x5",
         "y": [
          0.35648297676004187,
          0.5610291539285266,
          0.6391333202586115,
          0.40646930125340985,
          0.06179891769078695,
          0.38594405853011554,
          0.27964699489890804,
          0.23215265223698506,
          0.06460922521198784,
          0.5317046526335265,
          0.5308898847756517,
          0.7392476423910508,
          0.6567618577781482,
          0.23160673754043132,
          0.3265958303029264,
          0.4741104304241517,
          0.42131555252743647,
          0.03407894769330679,
          0.8290598554935988
         ],
         "yaxis": "y5"
        },
        {
         "boxmean": true,
         "boxpoints": "all",
         "legendgroup": "organ_transplantation",
         "marker": {
          "color": "#A39F5D"
         },
         "name": "Organ Transplantation",
         "offsetgroup": "organ_transplantation",
         "showlegend": false,
         "text": [
          "stomach",
          "small_bowel",
          "colon",
          "liver",
          "gallbladder",
          "pancreas",
          "kidney",
          "spleen",
          "bladder",
          "omentum",
          "lung",
          "heart",
          "skin",
          "muscle",
          "fat_subcutaneous",
          "peritoneum",
          "major_vein",
          "kidney_with_Gerotas_fascia",
          "background"
         ],
         "type": "box",
         "x": [
          "removal_zero",
          "removal_zero",
          "removal_zero",
          "removal_zero",
          "removal_zero",
          "removal_zero",
          "removal_zero",
          "removal_zero",
          "removal_zero",
          "removal_zero",
          "removal_zero",
          "removal_zero",
          "removal_zero",
          "removal_zero",
          "removal_zero",
          "removal_zero",
          "removal_zero",
          "removal_zero",
          "removal_zero"
         ],
         "xaxis": "x5",
         "y": [
          0.5809052688212969,
          0.7244717387405689,
          0.8213803072066934,
          0.5426242579062093,
          0.1934017013187939,
          0.5566523170810719,
          0.5403948468647946,
          0.43774220038938805,
          0.2019677515598516,
          0.633300890092009,
          0.6388377125634036,
          0.8456895119014352,
          0.7653628907823006,
          0.4369567041069986,
          0.6115979802789049,
          0.6736529969750793,
          0.6010264510893204,
          0.26092171518586665,
          0.828874731438615
         ],
         "yaxis": "y5"
        },
        {
         "boxmean": true,
         "boxpoints": "all",
         "legendgroup": "baseline",
         "marker": {
          "color": "#508587"
         },
         "name": "Baseline",
         "offsetgroup": "baseline",
         "showlegend": false,
         "text": [
          "stomach",
          "small_bowel",
          "colon",
          "liver",
          "gallbladder",
          "pancreas",
          "kidney",
          "spleen",
          "bladder",
          "omentum",
          "lung",
          "heart",
          "skin",
          "muscle",
          "fat_subcutaneous",
          "peritoneum",
          "major_vein",
          "kidney_with_Gerotas_fascia",
          "background"
         ],
         "type": "box",
         "x": [
          "removal_bgr",
          "removal_bgr",
          "removal_bgr",
          "removal_bgr",
          "removal_bgr",
          "removal_bgr",
          "removal_bgr",
          "removal_bgr",
          "removal_bgr",
          "removal_bgr",
          "removal_bgr",
          "removal_bgr",
          "removal_bgr",
          "removal_bgr",
          "removal_bgr",
          "removal_bgr",
          "removal_bgr",
          "removal_bgr",
          "removal_bgr"
         ],
         "xaxis": "x5",
         "y": [
          0.5215691868150136,
          0.6878575749290684,
          0.7371450684524953,
          0.498013677784985,
          0.055406259072857136,
          0.7863203323240735,
          0.33113058440163096,
          0.3945680003097491,
          0.23148599614543758,
          0.589342335625345,
          0.6252942673933097,
          0.7200692023320175,
          0.6791844082426495,
          0.35851510060294545,
          0.5508432206581537,
          0.5382684713199621,
          0.2520998973669552,
          0.09356238468828844,
          0.8564441933224247
         ],
         "yaxis": "y5"
        },
        {
         "boxmean": true,
         "boxpoints": "all",
         "legendgroup": "organ_transplantation",
         "marker": {
          "color": "#A39F5D"
         },
         "name": "Organ Transplantation",
         "offsetgroup": "organ_transplantation",
         "showlegend": false,
         "text": [
          "stomach",
          "small_bowel",
          "colon",
          "liver",
          "gallbladder",
          "pancreas",
          "kidney",
          "spleen",
          "bladder",
          "omentum",
          "lung",
          "heart",
          "skin",
          "muscle",
          "fat_subcutaneous",
          "peritoneum",
          "major_vein",
          "kidney_with_Gerotas_fascia",
          "background"
         ],
         "type": "box",
         "x": [
          "removal_bgr",
          "removal_bgr",
          "removal_bgr",
          "removal_bgr",
          "removal_bgr",
          "removal_bgr",
          "removal_bgr",
          "removal_bgr",
          "removal_bgr",
          "removal_bgr",
          "removal_bgr",
          "removal_bgr",
          "removal_bgr",
          "removal_bgr",
          "removal_bgr",
          "removal_bgr",
          "removal_bgr",
          "removal_bgr",
          "removal_bgr"
         ],
         "xaxis": "x5",
         "y": [
          0.6634952039797184,
          0.7685605846288277,
          0.8830298850573352,
          0.6151246507078529,
          0.292458747666877,
          0.9003126075980497,
          0.6063613127214567,
          0.5665403097551467,
          0.524375320400194,
          0.677449026721762,
          0.7115806525439065,
          0.842153226628583,
          0.8153340654615162,
          0.5672743627593273,
          0.5982350073087207,
          0.6737089595987178,
          0.9401330064103113,
          0.4423305700012321,
          0.8792106519305335
         ],
         "yaxis": "y5"
        },
        {
         "boxmean": true,
         "boxpoints": "all",
         "legendgroup": "baseline",
         "marker": {
          "color": "#508587"
         },
         "name": "Baseline",
         "offsetgroup": "baseline",
         "showlegend": false,
         "text": [
          "stomach",
          "small_bowel",
          "colon",
          "liver",
          "gallbladder",
          "kidney",
          "spleen",
          "bladder",
          "omentum",
          "lung",
          "heart",
          "skin",
          "muscle",
          "fat_subcutaneous",
          "peritoneum",
          "background"
         ],
         "type": "box",
         "x": [
          "no-occlusion",
          "no-occlusion",
          "no-occlusion",
          "no-occlusion",
          "no-occlusion",
          "no-occlusion",
          "no-occlusion",
          "no-occlusion",
          "no-occlusion",
          "no-occlusion",
          "no-occlusion",
          "no-occlusion",
          "no-occlusion",
          "no-occlusion",
          "no-occlusion",
          "no-occlusion"
         ],
         "xaxis": "x6",
         "y": [
          0.8010240560117856,
          0.7817817628084377,
          0.9053828502246795,
          0.5673695851156861,
          0.22296474877191594,
          0,
          0.6134617837226697,
          0.4772215847954471,
          0.8261680967591166,
          0.6819158660510939,
          0.8769524309470045,
          0.9437739871742851,
          0.4738860363616776,
          0.537035862487473,
          0.8850863978424051,
          0.9162776467918551
         ],
         "yaxis": "y6"
        },
        {
         "boxmean": true,
         "boxpoints": "all",
         "legendgroup": "organ_transplantation",
         "marker": {
          "color": "#A39F5D"
         },
         "name": "Organ Transplantation",
         "offsetgroup": "organ_transplantation",
         "showlegend": false,
         "text": [
          "stomach",
          "small_bowel",
          "colon",
          "liver",
          "gallbladder",
          "kidney",
          "spleen",
          "bladder",
          "omentum",
          "lung",
          "heart",
          "skin",
          "muscle",
          "fat_subcutaneous",
          "peritoneum",
          "background"
         ],
         "type": "box",
         "x": [
          "no-occlusion",
          "no-occlusion",
          "no-occlusion",
          "no-occlusion",
          "no-occlusion",
          "no-occlusion",
          "no-occlusion",
          "no-occlusion",
          "no-occlusion",
          "no-occlusion",
          "no-occlusion",
          "no-occlusion",
          "no-occlusion",
          "no-occlusion",
          "no-occlusion",
          "no-occlusion"
         ],
         "xaxis": "x6",
         "y": [
          0.8629999061488434,
          0.7899693590464854,
          0.9259225713570458,
          0.5880965248955937,
          0.3149349799776348,
          0.47692307692307695,
          0.6358542031196298,
          0.5667036787943094,
          0.8064223879941819,
          0.7062154873232482,
          0.8831215145487441,
          0.9394208099936097,
          0.5609244993505121,
          0.5840421668634874,
          0.8315237437233081,
          0.9173937896661422
         ],
         "yaxis": "y6"
        },
        {
         "boxmean": true,
         "boxpoints": "all",
         "legendgroup": "baseline",
         "marker": {
          "color": "#508587"
         },
         "name": "Baseline",
         "offsetgroup": "baseline",
         "showlegend": false,
         "text": [
          "stomach",
          "small_bowel",
          "colon",
          "liver",
          "gallbladder",
          "pancreas",
          "kidney",
          "spleen",
          "bladder",
          "omentum",
          "lung",
          "heart",
          "skin",
          "muscle",
          "fat_subcutaneous",
          "peritoneum",
          "major_vein",
          "kidney_with_Gerotas_fascia",
          "background"
         ],
         "type": "box",
         "x": [
          "occlusion",
          "occlusion",
          "occlusion",
          "occlusion",
          "occlusion",
          "occlusion",
          "occlusion",
          "occlusion",
          "occlusion",
          "occlusion",
          "occlusion",
          "occlusion",
          "occlusion",
          "occlusion",
          "occlusion",
          "occlusion",
          "occlusion",
          "occlusion",
          "occlusion"
         ],
         "xaxis": "x6",
         "y": [
          0.3043331367740207,
          0.6644326481205949,
          0.6760711229895385,
          0.43403284214774845,
          0.20926421455324115,
          0.5529708928779575,
          0.5276895941423463,
          0.3501849670047752,
          0.4690986900606245,
          0.3339650619326802,
          0.8049718396161152,
          0.9374268259540485,
          0.5931933176965334,
          0.500927200792606,
          0.6862815848793844,
          0.632740907239214,
          0.6847536946124502,
          0.3409883010479252,
          0.7769153534781866
         ],
         "yaxis": "y6"
        },
        {
         "boxmean": true,
         "boxpoints": "all",
         "legendgroup": "organ_transplantation",
         "marker": {
          "color": "#A39F5D"
         },
         "name": "Organ Transplantation",
         "offsetgroup": "organ_transplantation",
         "showlegend": false,
         "text": [
          "stomach",
          "small_bowel",
          "colon",
          "liver",
          "gallbladder",
          "pancreas",
          "kidney",
          "spleen",
          "bladder",
          "omentum",
          "lung",
          "heart",
          "skin",
          "muscle",
          "fat_subcutaneous",
          "peritoneum",
          "major_vein",
          "kidney_with_Gerotas_fascia",
          "background"
         ],
         "type": "box",
         "x": [
          "occlusion",
          "occlusion",
          "occlusion",
          "occlusion",
          "occlusion",
          "occlusion",
          "occlusion",
          "occlusion",
          "occlusion",
          "occlusion",
          "occlusion",
          "occlusion",
          "occlusion",
          "occlusion",
          "occlusion",
          "occlusion",
          "occlusion",
          "occlusion",
          "occlusion"
         ],
         "xaxis": "x6",
         "y": [
          0.37631891575771137,
          0.7225336313986817,
          0.7315641249627614,
          0.48207100829142074,
          0.3511276793470497,
          0.6722012083588377,
          0.6203812859045112,
          0.482067751332715,
          0.5296655018964141,
          0.4687762676916834,
          0.8742021195603711,
          0.9632391512741052,
          0.6203413042314825,
          0.6309403628555471,
          0.7826320685796077,
          0.5974434290712963,
          0.9005348819617882,
          0.46930190217399015,
          0.8007032421248998
         ],
         "yaxis": "y6"
        }
       ],
       "layout": {
        "annotations": [
         {
          "font": {
           "size": 20
          },
          "showarrow": false,
          "text": "<b>image#HSI</b>",
          "x": 0,
          "xanchor": "left",
          "xref": "paper",
          "y": 1,
          "yanchor": "bottom",
          "yref": "paper"
         },
         {
          "font": {
           "size": 20
          },
          "showarrow": false,
          "text": "<b>image#RGB</b>",
          "x": 0,
          "xanchor": "left",
          "xref": "paper",
          "y": 0.45,
          "yanchor": "bottom",
          "yref": "paper"
         }
        ],
        "boxgap": 0.2,
        "boxgroupgap": 0.4,
        "boxmode": "group",
        "font": {
         "family": "Libertinus Serif",
         "size": 20
        },
        "height": 510,
        "legend": {
         "orientation": "h",
         "x": 0.5,
         "xanchor": "center",
         "y": 0.46,
         "yanchor": "bottom"
        },
        "margin": {
         "b": 0,
         "l": 0,
         "r": 0,
         "t": 20
        },
        "template": {
         "data": {
          "bar": [
           {
            "error_x": {
             "color": "#2a3f5f"
            },
            "error_y": {
             "color": "#2a3f5f"
            },
            "marker": {
             "line": {
              "color": "white",
              "width": 0.5
             },
             "pattern": {
              "fillmode": "overlay",
              "size": 10,
              "solidity": 0.2
             }
            },
            "type": "bar"
           }
          ],
          "barpolar": [
           {
            "marker": {
             "line": {
              "color": "white",
              "width": 0.5
             },
             "pattern": {
              "fillmode": "overlay",
              "size": 10,
              "solidity": 0.2
             }
            },
            "type": "barpolar"
           }
          ],
          "carpet": [
           {
            "aaxis": {
             "endlinecolor": "#2a3f5f",
             "gridcolor": "#C8D4E3",
             "linecolor": "#C8D4E3",
             "minorgridcolor": "#C8D4E3",
             "startlinecolor": "#2a3f5f"
            },
            "baxis": {
             "endlinecolor": "#2a3f5f",
             "gridcolor": "#C8D4E3",
             "linecolor": "#C8D4E3",
             "minorgridcolor": "#C8D4E3",
             "startlinecolor": "#2a3f5f"
            },
            "type": "carpet"
           }
          ],
          "choropleth": [
           {
            "colorbar": {
             "outlinewidth": 0,
             "ticks": ""
            },
            "type": "choropleth"
           }
          ],
          "contour": [
           {
            "colorbar": {
             "outlinewidth": 0,
             "ticks": ""
            },
            "colorscale": [
             [
              0,
              "#0d0887"
             ],
             [
              0.1111111111111111,
              "#46039f"
             ],
             [
              0.2222222222222222,
              "#7201a8"
             ],
             [
              0.3333333333333333,
              "#9c179e"
             ],
             [
              0.4444444444444444,
              "#bd3786"
             ],
             [
              0.5555555555555556,
              "#d8576b"
             ],
             [
              0.6666666666666666,
              "#ed7953"
             ],
             [
              0.7777777777777778,
              "#fb9f3a"
             ],
             [
              0.8888888888888888,
              "#fdca26"
             ],
             [
              1,
              "#f0f921"
             ]
            ],
            "type": "contour"
           }
          ],
          "contourcarpet": [
           {
            "colorbar": {
             "outlinewidth": 0,
             "ticks": ""
            },
            "type": "contourcarpet"
           }
          ],
          "heatmap": [
           {
            "colorbar": {
             "outlinewidth": 0,
             "ticks": ""
            },
            "colorscale": [
             [
              0,
              "#0d0887"
             ],
             [
              0.1111111111111111,
              "#46039f"
             ],
             [
              0.2222222222222222,
              "#7201a8"
             ],
             [
              0.3333333333333333,
              "#9c179e"
             ],
             [
              0.4444444444444444,
              "#bd3786"
             ],
             [
              0.5555555555555556,
              "#d8576b"
             ],
             [
              0.6666666666666666,
              "#ed7953"
             ],
             [
              0.7777777777777778,
              "#fb9f3a"
             ],
             [
              0.8888888888888888,
              "#fdca26"
             ],
             [
              1,
              "#f0f921"
             ]
            ],
            "type": "heatmap"
           }
          ],
          "heatmapgl": [
           {
            "colorbar": {
             "outlinewidth": 0,
             "ticks": ""
            },
            "colorscale": [
             [
              0,
              "#0d0887"
             ],
             [
              0.1111111111111111,
              "#46039f"
             ],
             [
              0.2222222222222222,
              "#7201a8"
             ],
             [
              0.3333333333333333,
              "#9c179e"
             ],
             [
              0.4444444444444444,
              "#bd3786"
             ],
             [
              0.5555555555555556,
              "#d8576b"
             ],
             [
              0.6666666666666666,
              "#ed7953"
             ],
             [
              0.7777777777777778,
              "#fb9f3a"
             ],
             [
              0.8888888888888888,
              "#fdca26"
             ],
             [
              1,
              "#f0f921"
             ]
            ],
            "type": "heatmapgl"
           }
          ],
          "histogram": [
           {
            "marker": {
             "pattern": {
              "fillmode": "overlay",
              "size": 10,
              "solidity": 0.2
             }
            },
            "type": "histogram"
           }
          ],
          "histogram2d": [
           {
            "colorbar": {
             "outlinewidth": 0,
             "ticks": ""
            },
            "colorscale": [
             [
              0,
              "#0d0887"
             ],
             [
              0.1111111111111111,
              "#46039f"
             ],
             [
              0.2222222222222222,
              "#7201a8"
             ],
             [
              0.3333333333333333,
              "#9c179e"
             ],
             [
              0.4444444444444444,
              "#bd3786"
             ],
             [
              0.5555555555555556,
              "#d8576b"
             ],
             [
              0.6666666666666666,
              "#ed7953"
             ],
             [
              0.7777777777777778,
              "#fb9f3a"
             ],
             [
              0.8888888888888888,
              "#fdca26"
             ],
             [
              1,
              "#f0f921"
             ]
            ],
            "type": "histogram2d"
           }
          ],
          "histogram2dcontour": [
           {
            "colorbar": {
             "outlinewidth": 0,
             "ticks": ""
            },
            "colorscale": [
             [
              0,
              "#0d0887"
             ],
             [
              0.1111111111111111,
              "#46039f"
             ],
             [
              0.2222222222222222,
              "#7201a8"
             ],
             [
              0.3333333333333333,
              "#9c179e"
             ],
             [
              0.4444444444444444,
              "#bd3786"
             ],
             [
              0.5555555555555556,
              "#d8576b"
             ],
             [
              0.6666666666666666,
              "#ed7953"
             ],
             [
              0.7777777777777778,
              "#fb9f3a"
             ],
             [
              0.8888888888888888,
              "#fdca26"
             ],
             [
              1,
              "#f0f921"
             ]
            ],
            "type": "histogram2dcontour"
           }
          ],
          "mesh3d": [
           {
            "colorbar": {
             "outlinewidth": 0,
             "ticks": ""
            },
            "type": "mesh3d"
           }
          ],
          "parcoords": [
           {
            "line": {
             "colorbar": {
              "outlinewidth": 0,
              "ticks": ""
             }
            },
            "type": "parcoords"
           }
          ],
          "pie": [
           {
            "automargin": true,
            "type": "pie"
           }
          ],
          "scatter": [
           {
            "fillpattern": {
             "fillmode": "overlay",
             "size": 10,
             "solidity": 0.2
            },
            "type": "scatter"
           }
          ],
          "scatter3d": [
           {
            "line": {
             "colorbar": {
              "outlinewidth": 0,
              "ticks": ""
             }
            },
            "marker": {
             "colorbar": {
              "outlinewidth": 0,
              "ticks": ""
             }
            },
            "type": "scatter3d"
           }
          ],
          "scattercarpet": [
           {
            "marker": {
             "colorbar": {
              "outlinewidth": 0,
              "ticks": ""
             }
            },
            "type": "scattercarpet"
           }
          ],
          "scattergeo": [
           {
            "marker": {
             "colorbar": {
              "outlinewidth": 0,
              "ticks": ""
             }
            },
            "type": "scattergeo"
           }
          ],
          "scattergl": [
           {
            "marker": {
             "colorbar": {
              "outlinewidth": 0,
              "ticks": ""
             }
            },
            "type": "scattergl"
           }
          ],
          "scattermapbox": [
           {
            "marker": {
             "colorbar": {
              "outlinewidth": 0,
              "ticks": ""
             }
            },
            "type": "scattermapbox"
           }
          ],
          "scatterpolar": [
           {
            "marker": {
             "colorbar": {
              "outlinewidth": 0,
              "ticks": ""
             }
            },
            "type": "scatterpolar"
           }
          ],
          "scatterpolargl": [
           {
            "marker": {
             "colorbar": {
              "outlinewidth": 0,
              "ticks": ""
             }
            },
            "type": "scatterpolargl"
           }
          ],
          "scatterternary": [
           {
            "marker": {
             "colorbar": {
              "outlinewidth": 0,
              "ticks": ""
             }
            },
            "type": "scatterternary"
           }
          ],
          "surface": [
           {
            "colorbar": {
             "outlinewidth": 0,
             "ticks": ""
            },
            "colorscale": [
             [
              0,
              "#0d0887"
             ],
             [
              0.1111111111111111,
              "#46039f"
             ],
             [
              0.2222222222222222,
              "#7201a8"
             ],
             [
              0.3333333333333333,
              "#9c179e"
             ],
             [
              0.4444444444444444,
              "#bd3786"
             ],
             [
              0.5555555555555556,
              "#d8576b"
             ],
             [
              0.6666666666666666,
              "#ed7953"
             ],
             [
              0.7777777777777778,
              "#fb9f3a"
             ],
             [
              0.8888888888888888,
              "#fdca26"
             ],
             [
              1,
              "#f0f921"
             ]
            ],
            "type": "surface"
           }
          ],
          "table": [
           {
            "cells": {
             "fill": {
              "color": "#EBF0F8"
             },
             "line": {
              "color": "white"
             }
            },
            "header": {
             "fill": {
              "color": "#C8D4E3"
             },
             "line": {
              "color": "white"
             }
            },
            "type": "table"
           }
          ]
         },
         "layout": {
          "annotationdefaults": {
           "arrowcolor": "#2a3f5f",
           "arrowhead": 0,
           "arrowwidth": 1
          },
          "autotypenumbers": "strict",
          "coloraxis": {
           "colorbar": {
            "outlinewidth": 0,
            "ticks": ""
           }
          },
          "colorscale": {
           "diverging": [
            [
             0,
             "#8e0152"
            ],
            [
             0.1,
             "#c51b7d"
            ],
            [
             0.2,
             "#de77ae"
            ],
            [
             0.3,
             "#f1b6da"
            ],
            [
             0.4,
             "#fde0ef"
            ],
            [
             0.5,
             "#f7f7f7"
            ],
            [
             0.6,
             "#e6f5d0"
            ],
            [
             0.7,
             "#b8e186"
            ],
            [
             0.8,
             "#7fbc41"
            ],
            [
             0.9,
             "#4d9221"
            ],
            [
             1,
             "#276419"
            ]
           ],
           "sequential": [
            [
             0,
             "#0d0887"
            ],
            [
             0.1111111111111111,
             "#46039f"
            ],
            [
             0.2222222222222222,
             "#7201a8"
            ],
            [
             0.3333333333333333,
             "#9c179e"
            ],
            [
             0.4444444444444444,
             "#bd3786"
            ],
            [
             0.5555555555555556,
             "#d8576b"
            ],
            [
             0.6666666666666666,
             "#ed7953"
            ],
            [
             0.7777777777777778,
             "#fb9f3a"
            ],
            [
             0.8888888888888888,
             "#fdca26"
            ],
            [
             1,
             "#f0f921"
            ]
           ],
           "sequentialminus": [
            [
             0,
             "#0d0887"
            ],
            [
             0.1111111111111111,
             "#46039f"
            ],
            [
             0.2222222222222222,
             "#7201a8"
            ],
            [
             0.3333333333333333,
             "#9c179e"
            ],
            [
             0.4444444444444444,
             "#bd3786"
            ],
            [
             0.5555555555555556,
             "#d8576b"
            ],
            [
             0.6666666666666666,
             "#ed7953"
            ],
            [
             0.7777777777777778,
             "#fb9f3a"
            ],
            [
             0.8888888888888888,
             "#fdca26"
            ],
            [
             1,
             "#f0f921"
            ]
           ]
          },
          "colorway": [
           "#636efa",
           "#EF553B",
           "#00cc96",
           "#ab63fa",
           "#FFA15A",
           "#19d3f3",
           "#FF6692",
           "#B6E880",
           "#FF97FF",
           "#FECB52"
          ],
          "font": {
           "color": "#2a3f5f"
          },
          "geo": {
           "bgcolor": "white",
           "lakecolor": "white",
           "landcolor": "white",
           "showlakes": true,
           "showland": true,
           "subunitcolor": "#C8D4E3"
          },
          "hoverlabel": {
           "align": "left"
          },
          "hovermode": "closest",
          "mapbox": {
           "style": "light"
          },
          "paper_bgcolor": "white",
          "plot_bgcolor": "white",
          "polar": {
           "angularaxis": {
            "gridcolor": "#EBF0F8",
            "linecolor": "#EBF0F8",
            "ticks": ""
           },
           "bgcolor": "white",
           "radialaxis": {
            "gridcolor": "#EBF0F8",
            "linecolor": "#EBF0F8",
            "ticks": ""
           }
          },
          "scene": {
           "xaxis": {
            "backgroundcolor": "white",
            "gridcolor": "#DFE8F3",
            "gridwidth": 2,
            "linecolor": "#EBF0F8",
            "showbackground": true,
            "ticks": "",
            "zerolinecolor": "#EBF0F8"
           },
           "yaxis": {
            "backgroundcolor": "white",
            "gridcolor": "#DFE8F3",
            "gridwidth": 2,
            "linecolor": "#EBF0F8",
            "showbackground": true,
            "ticks": "",
            "zerolinecolor": "#EBF0F8"
           },
           "zaxis": {
            "backgroundcolor": "white",
            "gridcolor": "#DFE8F3",
            "gridwidth": 2,
            "linecolor": "#EBF0F8",
            "showbackground": true,
            "ticks": "",
            "zerolinecolor": "#EBF0F8"
           }
          },
          "shapedefaults": {
           "line": {
            "color": "#2a3f5f"
           }
          },
          "ternary": {
           "aaxis": {
            "gridcolor": "#DFE8F3",
            "linecolor": "#A2B1C6",
            "ticks": ""
           },
           "baxis": {
            "gridcolor": "#DFE8F3",
            "linecolor": "#A2B1C6",
            "ticks": ""
           },
           "bgcolor": "white",
           "caxis": {
            "gridcolor": "#DFE8F3",
            "linecolor": "#A2B1C6",
            "ticks": ""
           }
          },
          "title": {
           "x": 0.05
          },
          "xaxis": {
           "automargin": true,
           "gridcolor": "#EBF0F8",
           "linecolor": "#EBF0F8",
           "ticks": "",
           "title": {
            "standoff": 15
           },
           "zerolinecolor": "#EBF0F8",
           "zerolinewidth": 2
          },
          "yaxis": {
           "automargin": true,
           "gridcolor": "#EBF0F8",
           "linecolor": "#EBF0F8",
           "ticks": "",
           "title": {
            "standoff": 15
           },
           "zerolinecolor": "#EBF0F8",
           "zerolinewidth": 2
          }
         }
        },
        "width": 1100,
        "xaxis": {
         "anchor": "y",
         "autorangeoptions": {
          "maxallowed": 3.4,
          "minallowed": -0.6
         },
         "domain": [
          0,
          0.41777777777777775
         ],
         "matches": "x4",
         "range": [
          -0.6,
          3.4
         ],
         "showticklabels": false,
         "tickfont": {
          "size": 16
         }
        },
        "xaxis2": {
         "anchor": "y2",
         "autorangeoptions": {
          "maxallowed": 2.4,
          "minallowed": -0.6
         },
         "domain": [
          0.4477777777777777,
          0.7611111111111111
         ],
         "matches": "x5",
         "range": [
          -0.6,
          2.4
         ],
         "showticklabels": false,
         "tickfont": {
          "size": 16
         }
        },
        "xaxis3": {
         "anchor": "y3",
         "autorangeoptions": {
          "maxallowed": 1.4,
          "minallowed": -0.6
         },
         "domain": [
          0.7911111111111111,
          1
         ],
         "matches": "x6",
         "range": [
          -0.6,
          1.4
         ],
         "showticklabels": false,
         "tickfont": {
          "size": 16
         }
        },
        "xaxis4": {
         "anchor": "y4",
         "autorangeoptions": {
          "maxallowed": 3.4,
          "minallowed": -0.6
         },
         "domain": [
          0,
          0.41777777777777775
         ],
         "range": [
          -0.6,
          3.4
         ],
         "tickfont": {
          "size": 16
         }
        },
        "xaxis5": {
         "anchor": "y5",
         "autorangeoptions": {
          "maxallowed": 2.4,
          "minallowed": -0.6
         },
         "domain": [
          0.4477777777777777,
          0.7611111111111111
         ],
         "range": [
          -0.6,
          2.4
         ],
         "tickfont": {
          "size": 16
         }
        },
        "xaxis6": {
         "anchor": "y6",
         "autorangeoptions": {
          "maxallowed": 1.4,
          "minallowed": -0.6
         },
         "domain": [
          0.7911111111111111,
          1
         ],
         "range": [
          -0.6,
          1.4
         ],
         "tickfont": {
          "size": 16
         }
        },
        "yaxis": {
         "anchor": "x",
         "domain": [
          0.55,
          1
         ],
         "range": [
          -0.05,
          1.05
         ],
         "tickfont": {
          "size": 16
         },
         "title": {
          "text": "<b>NSD</b>"
         }
        },
        "yaxis2": {
         "anchor": "x2",
         "domain": [
          0.55,
          1
         ],
         "matches": "y",
         "range": [
          -0.05,
          1.05
         ],
         "showticklabels": false,
         "tickfont": {
          "size": 16
         },
         "title": {
          "standoff": 12
         }
        },
        "yaxis3": {
         "anchor": "x3",
         "domain": [
          0.55,
          1
         ],
         "matches": "y",
         "range": [
          -0.05,
          1.05
         ],
         "showticklabels": false,
         "tickfont": {
          "size": 16
         },
         "title": {
          "standoff": 12
         }
        },
        "yaxis4": {
         "anchor": "x4",
         "domain": [
          0,
          0.45
         ],
         "range": [
          -0.05,
          1.05
         ],
         "tickfont": {
          "size": 16
         },
         "title": {
          "text": "<b>NSD</b>"
         }
        },
        "yaxis5": {
         "anchor": "x5",
         "domain": [
          0,
          0.45
         ],
         "matches": "y4",
         "range": [
          -0.05,
          1.05
         ],
         "showticklabels": false,
         "tickfont": {
          "size": 16
         },
         "title": {
          "standoff": 12
         }
        },
        "yaxis6": {
         "anchor": "x6",
         "domain": [
          0,
          0.45
         ],
         "matches": "y4",
         "range": [
          -0.05,
          1.05
         ],
         "showticklabels": false,
         "tickfont": {
          "size": 16
         },
         "title": {
          "standoff": 12
         }
        }
       }
      },
      "text/html": [
       "<div>                            <div id=\"5594aa6b-342f-4d0a-ba5e-4842fab428f7\" class=\"plotly-graph-div\" style=\"height:510px; width:1100px;\"></div>            <script type=\"text/javascript\">                require([\"plotly\"], function(Plotly) {                    window.PLOTLYENV=window.PLOTLYENV || {};                                    if (document.getElementById(\"5594aa6b-342f-4d0a-ba5e-4842fab428f7\")) {                    Plotly.newPlot(                        \"5594aa6b-342f-4d0a-ba5e-4842fab428f7\",                        [{\"boxmean\":true,\"boxpoints\":\"all\",\"legendgroup\":\"baseline\",\"marker\":{\"color\":\"#508587\"},\"name\":\"Baseline\",\"offsetgroup\":\"baseline\",\"showlegend\":false,\"text\":[\"stomach\",\"small_bowel\",\"colon\",\"liver\",\"gallbladder\",\"pancreas\",\"kidney\",\"spleen\",\"bladder\",\"omentum\",\"lung\",\"heart\",\"skin\",\"muscle\",\"fat_subcutaneous\",\"peritoneum\",\"major_vein\",\"kidney_with_Gerotas_fascia\",\"background\"],\"x\":[\"original\",\"original\",\"original\",\"original\",\"original\",\"original\",\"original\",\"original\",\"original\",\"original\",\"original\",\"original\",\"original\",\"original\",\"original\",\"original\",\"original\",\"original\",\"original\"],\"y\":[0.7901706198110576,0.7915355384255921,0.9241611601801809,0.6459282662933844,0.49435010777755795,0.917054711596692,0.5978680723824262,0.7034044675688863,0.6184213607374536,0.7746797864589444,0.7505131499845872,0.8728551620592241,0.8382372435503117,0.5057332957449897,0.6999965376666828,0.8680679262103425,0.8704387395704867,0.31164426334693374,0.9362453770016985],\"type\":\"box\",\"xaxis\":\"x\",\"yaxis\":\"y\"},{\"boxmean\":true,\"boxpoints\":\"all\",\"legendgroup\":\"organ_transplantation\",\"marker\":{\"color\":\"#A39F5D\"},\"name\":\"Organ Transplantation\",\"offsetgroup\":\"organ_transplantation\",\"showlegend\":false,\"text\":[\"stomach\",\"small_bowel\",\"colon\",\"liver\",\"gallbladder\",\"pancreas\",\"kidney\",\"spleen\",\"bladder\",\"omentum\",\"lung\",\"heart\",\"skin\",\"muscle\",\"fat_subcutaneous\",\"peritoneum\",\"major_vein\",\"kidney_with_Gerotas_fascia\",\"background\"],\"x\":[\"original\",\"original\",\"original\",\"original\",\"original\",\"original\",\"original\",\"original\",\"original\",\"original\",\"original\",\"original\",\"original\",\"original\",\"original\",\"original\",\"original\",\"original\",\"original\"],\"y\":[0.8058508732500826,0.7824990970064578,0.927014256620132,0.6492548498979482,0.489446342914025,0.9281989893397488,0.6251823250954609,0.6878020526030928,0.5887739473580607,0.7712109292446163,0.7526013952056135,0.8584924406344561,0.8710257016204874,0.5714648735604635,0.7818072308034596,0.8584761343184588,0.9402443898364805,0.5878002912973903,0.925211372849087],\"type\":\"box\",\"xaxis\":\"x\",\"yaxis\":\"y\"},{\"boxmean\":true,\"boxpoints\":\"all\",\"legendgroup\":\"baseline\",\"marker\":{\"color\":\"#508587\"},\"name\":\"Baseline\",\"offsetgroup\":\"baseline\",\"showlegend\":true,\"text\":[\"stomach\",\"small_bowel\",\"colon\",\"liver\",\"gallbladder\",\"pancreas\",\"kidney\",\"spleen\",\"bladder\",\"omentum\",\"lung\",\"heart\",\"skin\",\"muscle\",\"fat_subcutaneous\",\"peritoneum\",\"major_vein\",\"kidney_with_Gerotas_fascia\",\"background\"],\"x\":[\"isolation_zero\",\"isolation_zero\",\"isolation_zero\",\"isolation_zero\",\"isolation_zero\",\"isolation_zero\",\"isolation_zero\",\"isolation_zero\",\"isolation_zero\",\"isolation_zero\",\"isolation_zero\",\"isolation_zero\",\"isolation_zero\",\"isolation_zero\",\"isolation_zero\",\"isolation_zero\",\"isolation_zero\",\"isolation_zero\",\"isolation_zero\"],\"y\":[0.5325038686130612,0.9785623973296366,0.7782921615373845,0.8873125517987862,0.003812715684226785,0.5776924272848657,0.4687290218216794,0.7724106483547175,0.6603783332380241,0.30721960549580735,0.7444842785367821,0.7362415016213054,0.9336650857216401,0.5930535855974148,0.9158581725988393,0.37948357485705453,0.04846618395641322,0.04663693508899384,0.987245055419319],\"type\":\"box\",\"xaxis\":\"x\",\"yaxis\":\"y\"},{\"boxmean\":true,\"boxpoints\":\"all\",\"legendgroup\":\"organ_transplantation\",\"marker\":{\"color\":\"#A39F5D\"},\"name\":\"Organ Transplantation\",\"offsetgroup\":\"organ_transplantation\",\"showlegend\":true,\"text\":[\"stomach\",\"small_bowel\",\"colon\",\"liver\",\"gallbladder\",\"pancreas\",\"kidney\",\"spleen\",\"bladder\",\"omentum\",\"lung\",\"heart\",\"skin\",\"muscle\",\"fat_subcutaneous\",\"peritoneum\",\"major_vein\",\"kidney_with_Gerotas_fascia\",\"background\"],\"x\":[\"isolation_zero\",\"isolation_zero\",\"isolation_zero\",\"isolation_zero\",\"isolation_zero\",\"isolation_zero\",\"isolation_zero\",\"isolation_zero\",\"isolation_zero\",\"isolation_zero\",\"isolation_zero\",\"isolation_zero\",\"isolation_zero\",\"isolation_zero\",\"isolation_zero\",\"isolation_zero\",\"isolation_zero\",\"isolation_zero\",\"isolation_zero\"],\"y\":[0.9387759670800616,0.9538233987242766,0.9437871483959146,0.9521331092411233,0.4716732818431758,0.9702721108352366,0.9057009011258705,0.8744437896611914,0.6057960959739964,0.8179689696186696,0.798774480882035,0.9853611050305894,0.8219573238982426,0.6673975199654977,0.8651595524972354,0.8211143079452418,0.9533076575975676,0.41808125889554937,0.9929675759555557],\"type\":\"box\",\"xaxis\":\"x\",\"yaxis\":\"y\"},{\"boxmean\":true,\"boxpoints\":\"all\",\"legendgroup\":\"baseline\",\"marker\":{\"color\":\"#508587\"},\"name\":\"Baseline\",\"offsetgroup\":\"baseline\",\"showlegend\":false,\"text\":[\"stomach\",\"small_bowel\",\"colon\",\"liver\",\"gallbladder\",\"pancreas\",\"kidney\",\"spleen\",\"bladder\",\"omentum\",\"lung\",\"heart\",\"skin\",\"muscle\",\"fat_subcutaneous\",\"peritoneum\",\"major_vein\",\"kidney_with_Gerotas_fascia\",\"background\"],\"x\":[\"isolation_bgr\",\"isolation_bgr\",\"isolation_bgr\",\"isolation_bgr\",\"isolation_bgr\",\"isolation_bgr\",\"isolation_bgr\",\"isolation_bgr\",\"isolation_bgr\",\"isolation_bgr\",\"isolation_bgr\",\"isolation_bgr\",\"isolation_bgr\",\"isolation_bgr\",\"isolation_bgr\",\"isolation_bgr\",\"isolation_bgr\",\"isolation_bgr\",\"isolation_bgr\"],\"y\":[0.09987101264007478,0.8961474532565304,0.6579678542847196,0.6673795945191898,0.0867415035938316,0.09663171717170142,0.017501382725578787,0.1675617495722022,0.7845835425529234,0.005799626216778843,0.8905291126911564,0.9545029522710099,0.8793015649266921,0.3081303646547599,0.1874045253695602,0.6396175301404224,0.2641560767714632,0.0,0.9877243980699888],\"type\":\"box\",\"xaxis\":\"x\",\"yaxis\":\"y\"},{\"boxmean\":true,\"boxpoints\":\"all\",\"legendgroup\":\"organ_transplantation\",\"marker\":{\"color\":\"#A39F5D\"},\"name\":\"Organ Transplantation\",\"offsetgroup\":\"organ_transplantation\",\"showlegend\":false,\"text\":[\"stomach\",\"small_bowel\",\"colon\",\"liver\",\"gallbladder\",\"pancreas\",\"kidney\",\"spleen\",\"bladder\",\"omentum\",\"lung\",\"heart\",\"skin\",\"muscle\",\"fat_subcutaneous\",\"peritoneum\",\"major_vein\",\"kidney_with_Gerotas_fascia\",\"background\"],\"x\":[\"isolation_bgr\",\"isolation_bgr\",\"isolation_bgr\",\"isolation_bgr\",\"isolation_bgr\",\"isolation_bgr\",\"isolation_bgr\",\"isolation_bgr\",\"isolation_bgr\",\"isolation_bgr\",\"isolation_bgr\",\"isolation_bgr\",\"isolation_bgr\",\"isolation_bgr\",\"isolation_bgr\",\"isolation_bgr\",\"isolation_bgr\",\"isolation_bgr\",\"isolation_bgr\"],\"y\":[0.9321252649463541,0.9448668255752757,0.9688980122454518,0.8935790918023354,0.5313212825050456,0.9317705329204383,0.8921012576494778,0.874072880645969,0.8602360112099305,0.8603453923089596,0.7814020811758483,0.9860740309659928,0.8345918167113032,0.7615253787136462,0.9596483698120858,0.919313265963547,0.9818946697241235,0.9293396317362532,0.9960371422799017],\"type\":\"box\",\"xaxis\":\"x\",\"yaxis\":\"y\"},{\"boxmean\":true,\"boxpoints\":\"all\",\"legendgroup\":\"baseline\",\"marker\":{\"color\":\"#508587\"},\"name\":\"Baseline\",\"offsetgroup\":\"baseline\",\"showlegend\":false,\"text\":[\"stomach\",\"small_bowel\",\"colon\",\"liver\",\"gallbladder\",\"pancreas\",\"kidney\",\"spleen\",\"bladder\",\"omentum\",\"lung\",\"heart\",\"skin\",\"muscle\",\"peritoneum\",\"major_vein\",\"kidney_with_Gerotas_fascia\",\"background\"],\"x\":[\"isolation_real\",\"isolation_real\",\"isolation_real\",\"isolation_real\",\"isolation_real\",\"isolation_real\",\"isolation_real\",\"isolation_real\",\"isolation_real\",\"isolation_real\",\"isolation_real\",\"isolation_real\",\"isolation_real\",\"isolation_real\",\"isolation_real\",\"isolation_real\",\"isolation_real\",\"isolation_real\"],\"y\":[0.2541043148178689,0.7711820550288071,0.9849981031372934,0.2777493532679491,0.07218082633005568,0.08432791141855903,0.38904520409551135,0.15301543595527045,0.4255862908097277,0.0,0.9733466265549906,0.9557603686635945,0.9301262950065275,0.09041278295605859,0.6009294928150126,0.40897561985813813,0.21222790914089928,0.9653912863728609],\"type\":\"box\",\"xaxis\":\"x\",\"yaxis\":\"y\"},{\"boxmean\":true,\"boxpoints\":\"all\",\"legendgroup\":\"organ_transplantation\",\"marker\":{\"color\":\"#A39F5D\"},\"name\":\"Organ Transplantation\",\"offsetgroup\":\"organ_transplantation\",\"showlegend\":false,\"text\":[\"stomach\",\"small_bowel\",\"colon\",\"liver\",\"gallbladder\",\"pancreas\",\"kidney\",\"spleen\",\"bladder\",\"omentum\",\"lung\",\"heart\",\"skin\",\"muscle\",\"peritoneum\",\"major_vein\",\"kidney_with_Gerotas_fascia\",\"background\"],\"x\":[\"isolation_real\",\"isolation_real\",\"isolation_real\",\"isolation_real\",\"isolation_real\",\"isolation_real\",\"isolation_real\",\"isolation_real\",\"isolation_real\",\"isolation_real\",\"isolation_real\",\"isolation_real\",\"isolation_real\",\"isolation_real\",\"isolation_real\",\"isolation_real\",\"isolation_real\",\"isolation_real\"],\"y\":[0.7084914886403854,0.8973183500128246,0.9696969696969697,0.5570396153752999,0.5448018982226092,0.6357568374449493,0.8073803773916896,0.766724928394146,0.7888200277753065,0.9045698739265822,0.9851556673866212,0.9919337282890952,0.9911126026145594,0.09751892523477025,0.821343088109109,1.0,0.5173323448563735,0.9764053973439745],\"type\":\"box\",\"xaxis\":\"x\",\"yaxis\":\"y\"},{\"boxmean\":true,\"boxpoints\":\"all\",\"legendgroup\":\"baseline\",\"marker\":{\"color\":\"#508587\"},\"name\":\"Baseline\",\"offsetgroup\":\"baseline\",\"showlegend\":false,\"text\":[\"stomach\",\"small_bowel\",\"colon\",\"liver\",\"gallbladder\",\"pancreas\",\"kidney\",\"spleen\",\"bladder\",\"omentum\",\"lung\",\"heart\",\"skin\",\"muscle\",\"fat_subcutaneous\",\"peritoneum\",\"major_vein\",\"kidney_with_Gerotas_fascia\",\"background\"],\"x\":[\"original2\",\"original2\",\"original2\",\"original2\",\"original2\",\"original2\",\"original2\",\"original2\",\"original2\",\"original2\",\"original2\",\"original2\",\"original2\",\"original2\",\"original2\",\"original2\",\"original2\",\"original2\",\"original2\"],\"y\":[0.7901706198110576,0.7915355384255921,0.9241611601801809,0.6459282662933844,0.49435010777755795,0.917054711596692,0.5978680723824262,0.7034044675688863,0.6184213607374536,0.7746797864589444,0.7505131499845872,0.8728551620592241,0.8382372435503117,0.5057332957449897,0.6999965376666828,0.8680679262103425,0.8704387395704867,0.31164426334693374,0.9362453770016985],\"type\":\"box\",\"xaxis\":\"x2\",\"yaxis\":\"y2\"},{\"boxmean\":true,\"boxpoints\":\"all\",\"legendgroup\":\"organ_transplantation\",\"marker\":{\"color\":\"#A39F5D\"},\"name\":\"Organ Transplantation\",\"offsetgroup\":\"organ_transplantation\",\"showlegend\":false,\"text\":[\"stomach\",\"small_bowel\",\"colon\",\"liver\",\"gallbladder\",\"pancreas\",\"kidney\",\"spleen\",\"bladder\",\"omentum\",\"lung\",\"heart\",\"skin\",\"muscle\",\"fat_subcutaneous\",\"peritoneum\",\"major_vein\",\"kidney_with_Gerotas_fascia\",\"background\"],\"x\":[\"original2\",\"original2\",\"original2\",\"original2\",\"original2\",\"original2\",\"original2\",\"original2\",\"original2\",\"original2\",\"original2\",\"original2\",\"original2\",\"original2\",\"original2\",\"original2\",\"original2\",\"original2\",\"original2\"],\"y\":[0.8058508732500826,0.7824990970064578,0.927014256620132,0.6492548498979482,0.489446342914025,0.9281989893397488,0.6251823250954609,0.6878020526030928,0.5887739473580607,0.7712109292446163,0.7526013952056135,0.8584924406344561,0.8710257016204874,0.5714648735604635,0.7818072308034596,0.8584761343184588,0.9402443898364805,0.5878002912973903,0.925211372849087],\"type\":\"box\",\"xaxis\":\"x2\",\"yaxis\":\"y2\"},{\"boxmean\":true,\"boxpoints\":\"all\",\"legendgroup\":\"baseline\",\"marker\":{\"color\":\"#508587\"},\"name\":\"Baseline\",\"offsetgroup\":\"baseline\",\"showlegend\":false,\"text\":[\"stomach\",\"small_bowel\",\"colon\",\"liver\",\"gallbladder\",\"pancreas\",\"kidney\",\"spleen\",\"bladder\",\"omentum\",\"lung\",\"heart\",\"skin\",\"muscle\",\"fat_subcutaneous\",\"peritoneum\",\"major_vein\",\"kidney_with_Gerotas_fascia\",\"background\"],\"x\":[\"removal_zero\",\"removal_zero\",\"removal_zero\",\"removal_zero\",\"removal_zero\",\"removal_zero\",\"removal_zero\",\"removal_zero\",\"removal_zero\",\"removal_zero\",\"removal_zero\",\"removal_zero\",\"removal_zero\",\"removal_zero\",\"removal_zero\",\"removal_zero\",\"removal_zero\",\"removal_zero\",\"removal_zero\"],\"y\":[0.5055953446109606,0.6641556050043238,0.7856675865861484,0.5656780626342168,0.027937378463820984,0.7890344812347386,0.4580526649649743,0.637170075639374,0.30292361969080916,0.5870942644978324,0.6312762884333178,0.781274961582822,0.7746996910813447,0.5159142295138297,0.5781762386441456,0.5712469102573046,0.564565922405435,0.0898325869678778,0.8786133260367557],\"type\":\"box\",\"xaxis\":\"x2\",\"yaxis\":\"y2\"},{\"boxmean\":true,\"boxpoints\":\"all\",\"legendgroup\":\"organ_transplantation\",\"marker\":{\"color\":\"#A39F5D\"},\"name\":\"Organ Transplantation\",\"offsetgroup\":\"organ_transplantation\",\"showlegend\":false,\"text\":[\"stomach\",\"small_bowel\",\"colon\",\"liver\",\"gallbladder\",\"pancreas\",\"kidney\",\"spleen\",\"bladder\",\"omentum\",\"lung\",\"heart\",\"skin\",\"muscle\",\"fat_subcutaneous\",\"peritoneum\",\"major_vein\",\"kidney_with_Gerotas_fascia\",\"background\"],\"x\":[\"removal_zero\",\"removal_zero\",\"removal_zero\",\"removal_zero\",\"removal_zero\",\"removal_zero\",\"removal_zero\",\"removal_zero\",\"removal_zero\",\"removal_zero\",\"removal_zero\",\"removal_zero\",\"removal_zero\",\"removal_zero\",\"removal_zero\",\"removal_zero\",\"removal_zero\",\"removal_zero\",\"removal_zero\"],\"y\":[0.7505484122659905,0.7647688548827298,0.8985740883050071,0.6344929655255955,0.3187986470372595,0.9033149693072108,0.6071908787887308,0.6591946701498581,0.4894731290742137,0.7112597531031655,0.718569126369282,0.8495918659947664,0.7925597242465137,0.556224557786058,0.6282665801363113,0.7235020205227527,0.8979463160889357,0.5434866051797796,0.8884772863319566],\"type\":\"box\",\"xaxis\":\"x2\",\"yaxis\":\"y2\"},{\"boxmean\":true,\"boxpoints\":\"all\",\"legendgroup\":\"baseline\",\"marker\":{\"color\":\"#508587\"},\"name\":\"Baseline\",\"offsetgroup\":\"baseline\",\"showlegend\":false,\"text\":[\"stomach\",\"small_bowel\",\"colon\",\"liver\",\"gallbladder\",\"pancreas\",\"kidney\",\"spleen\",\"bladder\",\"omentum\",\"lung\",\"heart\",\"skin\",\"muscle\",\"fat_subcutaneous\",\"peritoneum\",\"major_vein\",\"kidney_with_Gerotas_fascia\",\"background\"],\"x\":[\"removal_bgr\",\"removal_bgr\",\"removal_bgr\",\"removal_bgr\",\"removal_bgr\",\"removal_bgr\",\"removal_bgr\",\"removal_bgr\",\"removal_bgr\",\"removal_bgr\",\"removal_bgr\",\"removal_bgr\",\"removal_bgr\",\"removal_bgr\",\"removal_bgr\",\"removal_bgr\",\"removal_bgr\",\"removal_bgr\",\"removal_bgr\"],\"y\":[0.6033396588318055,0.7194830298834598,0.800668528034661,0.5831001401817952,0.18128514660269074,0.805484502117654,0.4941815027246458,0.6174609014995078,0.430038947965513,0.6472646243443382,0.6590504746883031,0.8005014886219423,0.7750564623251162,0.3915216820977813,0.5556790011465957,0.6214912475696357,0.7580237060947161,0.13504254454594225,0.9068066789192605],\"type\":\"box\",\"xaxis\":\"x2\",\"yaxis\":\"y2\"},{\"boxmean\":true,\"boxpoints\":\"all\",\"legendgroup\":\"organ_transplantation\",\"marker\":{\"color\":\"#A39F5D\"},\"name\":\"Organ Transplantation\",\"offsetgroup\":\"organ_transplantation\",\"showlegend\":false,\"text\":[\"stomach\",\"small_bowel\",\"colon\",\"liver\",\"gallbladder\",\"pancreas\",\"kidney\",\"spleen\",\"bladder\",\"omentum\",\"lung\",\"heart\",\"skin\",\"muscle\",\"fat_subcutaneous\",\"peritoneum\",\"major_vein\",\"kidney_with_Gerotas_fascia\",\"background\"],\"x\":[\"removal_bgr\",\"removal_bgr\",\"removal_bgr\",\"removal_bgr\",\"removal_bgr\",\"removal_bgr\",\"removal_bgr\",\"removal_bgr\",\"removal_bgr\",\"removal_bgr\",\"removal_bgr\",\"removal_bgr\",\"removal_bgr\",\"removal_bgr\",\"removal_bgr\",\"removal_bgr\",\"removal_bgr\",\"removal_bgr\",\"removal_bgr\"],\"y\":[0.7540174999781972,0.7761217082410197,0.9102118127450959,0.6322689333366407,0.34094291187558756,0.9026907643817346,0.601161584161862,0.6689953052486957,0.5512557437356753,0.7292823658862424,0.7296886249954623,0.8530193247125615,0.8512801873450694,0.5752868089862588,0.6407642478575051,0.7388767485210095,0.9222692522678531,0.5719915631717691,0.893856391807164],\"type\":\"box\",\"xaxis\":\"x2\",\"yaxis\":\"y2\"},{\"boxmean\":true,\"boxpoints\":\"all\",\"legendgroup\":\"baseline\",\"marker\":{\"color\":\"#508587\"},\"name\":\"Baseline\",\"offsetgroup\":\"baseline\",\"showlegend\":false,\"text\":[\"stomach\",\"small_bowel\",\"colon\",\"liver\",\"gallbladder\",\"kidney\",\"spleen\",\"bladder\",\"omentum\",\"lung\",\"heart\",\"skin\",\"muscle\",\"fat_subcutaneous\",\"peritoneum\",\"background\"],\"x\":[\"no-occlusion\",\"no-occlusion\",\"no-occlusion\",\"no-occlusion\",\"no-occlusion\",\"no-occlusion\",\"no-occlusion\",\"no-occlusion\",\"no-occlusion\",\"no-occlusion\",\"no-occlusion\",\"no-occlusion\",\"no-occlusion\",\"no-occlusion\",\"no-occlusion\",\"no-occlusion\"],\"y\":[0.7602398964369758,0.7580288976144478,0.912273071494373,0.5465125932198938,0.2529764660008487,0.0,0.6213263216934961,0.6163720088545608,0.7469726277888894,0.684440625950039,0.9000158165570852,0.9626984179517558,0.4397611854066516,0.5077875156404154,0.8554566441217247,0.9183256876846201],\"type\":\"box\",\"xaxis\":\"x3\",\"yaxis\":\"y3\"},{\"boxmean\":true,\"boxpoints\":\"all\",\"legendgroup\":\"organ_transplantation\",\"marker\":{\"color\":\"#A39F5D\"},\"name\":\"Organ Transplantation\",\"offsetgroup\":\"organ_transplantation\",\"showlegend\":false,\"text\":[\"stomach\",\"small_bowel\",\"colon\",\"liver\",\"gallbladder\",\"kidney\",\"spleen\",\"bladder\",\"omentum\",\"lung\",\"heart\",\"skin\",\"muscle\",\"fat_subcutaneous\",\"peritoneum\",\"background\"],\"x\":[\"no-occlusion\",\"no-occlusion\",\"no-occlusion\",\"no-occlusion\",\"no-occlusion\",\"no-occlusion\",\"no-occlusion\",\"no-occlusion\",\"no-occlusion\",\"no-occlusion\",\"no-occlusion\",\"no-occlusion\",\"no-occlusion\",\"no-occlusion\",\"no-occlusion\",\"no-occlusion\"],\"y\":[0.8313052782757353,0.7704598896966026,0.939918194321748,0.6075614226875866,0.3322533502788661,0.43568464730290457,0.6575203687847871,0.6027454353613871,0.8368787702199061,0.6931131907188591,0.8770715878229338,0.9740331814506521,0.5556993939148278,0.5298745701999793,0.8878343705273436,0.9181279922844586],\"type\":\"box\",\"xaxis\":\"x3\",\"yaxis\":\"y3\"},{\"boxmean\":true,\"boxpoints\":\"all\",\"legendgroup\":\"baseline\",\"marker\":{\"color\":\"#508587\"},\"name\":\"Baseline\",\"offsetgroup\":\"baseline\",\"showlegend\":false,\"text\":[\"stomach\",\"small_bowel\",\"colon\",\"liver\",\"gallbladder\",\"pancreas\",\"kidney\",\"spleen\",\"bladder\",\"omentum\",\"lung\",\"heart\",\"skin\",\"muscle\",\"fat_subcutaneous\",\"peritoneum\",\"major_vein\",\"kidney_with_Gerotas_fascia\",\"background\"],\"x\":[\"occlusion\",\"occlusion\",\"occlusion\",\"occlusion\",\"occlusion\",\"occlusion\",\"occlusion\",\"occlusion\",\"occlusion\",\"occlusion\",\"occlusion\",\"occlusion\",\"occlusion\",\"occlusion\",\"occlusion\",\"occlusion\",\"occlusion\",\"occlusion\",\"occlusion\"],\"y\":[0.30438926999531984,0.6668261028301827,0.6645400836499851,0.4597156786728111,0.38853835266785747,0.19821282152156505,0.5653253359771063,0.5405552135075454,0.542075174461991,0.6051048011499031,0.859524181660319,0.9484034652473651,0.6048378331692437,0.46403991478229945,0.6642824589906844,0.6111671646123537,0.8257696798848146,0.4023936895347905,0.7763082658720244],\"type\":\"box\",\"xaxis\":\"x3\",\"yaxis\":\"y3\"},{\"boxmean\":true,\"boxpoints\":\"all\",\"legendgroup\":\"organ_transplantation\",\"marker\":{\"color\":\"#A39F5D\"},\"name\":\"Organ Transplantation\",\"offsetgroup\":\"organ_transplantation\",\"showlegend\":false,\"text\":[\"stomach\",\"small_bowel\",\"colon\",\"liver\",\"gallbladder\",\"pancreas\",\"kidney\",\"spleen\",\"bladder\",\"omentum\",\"lung\",\"heart\",\"skin\",\"muscle\",\"fat_subcutaneous\",\"peritoneum\",\"major_vein\",\"kidney_with_Gerotas_fascia\",\"background\"],\"x\":[\"occlusion\",\"occlusion\",\"occlusion\",\"occlusion\",\"occlusion\",\"occlusion\",\"occlusion\",\"occlusion\",\"occlusion\",\"occlusion\",\"occlusion\",\"occlusion\",\"occlusion\",\"occlusion\",\"occlusion\",\"occlusion\",\"occlusion\",\"occlusion\",\"occlusion\"],\"y\":[0.5943316090991737,0.7194289966133436,0.8151450503169523,0.5005755419478354,0.397449630980976,0.6837421339564408,0.6400415351578341,0.49233204461269775,0.5774791921308059,0.6593830082154187,0.8868095937597944,0.9534651587252597,0.6145360907320448,0.6212079517426323,0.7859759588393643,0.6853011139159196,0.920905200099422,0.5609345823585821,0.7842730834702007],\"type\":\"box\",\"xaxis\":\"x3\",\"yaxis\":\"y3\"},{\"boxmean\":true,\"boxpoints\":\"all\",\"legendgroup\":\"baseline\",\"marker\":{\"color\":\"#508587\"},\"name\":\"Baseline\",\"offsetgroup\":\"baseline\",\"showlegend\":false,\"text\":[\"stomach\",\"small_bowel\",\"colon\",\"liver\",\"gallbladder\",\"pancreas\",\"kidney\",\"spleen\",\"bladder\",\"omentum\",\"lung\",\"heart\",\"skin\",\"muscle\",\"fat_subcutaneous\",\"peritoneum\",\"major_vein\",\"kidney_with_Gerotas_fascia\",\"background\"],\"x\":[\"original\",\"original\",\"original\",\"original\",\"original\",\"original\",\"original\",\"original\",\"original\",\"original\",\"original\",\"original\",\"original\",\"original\",\"original\",\"original\",\"original\",\"original\",\"original\"],\"y\":[0.7249684984545746,0.7946099966564181,0.8954275196896928,0.6165317988318947,0.5174414182515985,0.9436926712061534,0.5141770340319183,0.5671952833395315,0.5263707480086531,0.7708518317306412,0.7354685695058971,0.8685561982109412,0.8635949745299407,0.45359162142832216,0.7139573263805139,0.8302689940856889,0.8772346935009738,0.3777334603807851,0.9298054021404388],\"type\":\"box\",\"xaxis\":\"x4\",\"yaxis\":\"y4\"},{\"boxmean\":true,\"boxpoints\":\"all\",\"legendgroup\":\"organ_transplantation\",\"marker\":{\"color\":\"#A39F5D\"},\"name\":\"Organ Transplantation\",\"offsetgroup\":\"organ_transplantation\",\"showlegend\":false,\"text\":[\"stomach\",\"small_bowel\",\"colon\",\"liver\",\"gallbladder\",\"pancreas\",\"kidney\",\"spleen\",\"bladder\",\"omentum\",\"lung\",\"heart\",\"skin\",\"muscle\",\"fat_subcutaneous\",\"peritoneum\",\"major_vein\",\"kidney_with_Gerotas_fascia\",\"background\"],\"x\":[\"original\",\"original\",\"original\",\"original\",\"original\",\"original\",\"original\",\"original\",\"original\",\"original\",\"original\",\"original\",\"original\",\"original\",\"original\",\"original\",\"original\",\"original\",\"original\"],\"y\":[0.7567582950872314,0.787679670688282,0.9123716766927938,0.6427953838443823,0.49045185931501245,0.9578990509865863,0.6276458448736502,0.6112764563344559,0.579348712765913,0.7591782422750155,0.7513970744057371,0.8575837030279004,0.8816134574464716,0.5667101684369116,0.723530968160647,0.8259384888818366,0.9640884188846854,0.4858924428252097,0.9210428406380313],\"type\":\"box\",\"xaxis\":\"x4\",\"yaxis\":\"y4\"},{\"boxmean\":true,\"boxpoints\":\"all\",\"legendgroup\":\"baseline\",\"marker\":{\"color\":\"#508587\"},\"name\":\"Baseline\",\"offsetgroup\":\"baseline\",\"showlegend\":false,\"text\":[\"stomach\",\"small_bowel\",\"colon\",\"liver\",\"gallbladder\",\"pancreas\",\"kidney\",\"spleen\",\"bladder\",\"omentum\",\"lung\",\"heart\",\"skin\",\"muscle\",\"fat_subcutaneous\",\"peritoneum\",\"major_vein\",\"kidney_with_Gerotas_fascia\",\"background\"],\"x\":[\"isolation_zero\",\"isolation_zero\",\"isolation_zero\",\"isolation_zero\",\"isolation_zero\",\"isolation_zero\",\"isolation_zero\",\"isolation_zero\",\"isolation_zero\",\"isolation_zero\",\"isolation_zero\",\"isolation_zero\",\"isolation_zero\",\"isolation_zero\",\"isolation_zero\",\"isolation_zero\",\"isolation_zero\",\"isolation_zero\",\"isolation_zero\"],\"y\":[0.17987117923167803,0.34097205521659435,0.5481535218479615,0.6349720895028615,0.0033950954775414494,0.26606872961671363,0.07993366738459667,0.19053788585189543,0.07965763669201101,0.12588481429485993,0.8944861729921524,0.9345028513409154,0.6350353964644262,0.00702496262739143,0.11879565540014164,0.5764068659740301,0.017266744096012386,0.0016159955979118891,0.9772178533525299],\"type\":\"box\",\"xaxis\":\"x4\",\"yaxis\":\"y4\"},{\"boxmean\":true,\"boxpoints\":\"all\",\"legendgroup\":\"organ_transplantation\",\"marker\":{\"color\":\"#A39F5D\"},\"name\":\"Organ Transplantation\",\"offsetgroup\":\"organ_transplantation\",\"showlegend\":false,\"text\":[\"stomach\",\"small_bowel\",\"colon\",\"liver\",\"gallbladder\",\"pancreas\",\"kidney\",\"spleen\",\"bladder\",\"omentum\",\"lung\",\"heart\",\"skin\",\"muscle\",\"fat_subcutaneous\",\"peritoneum\",\"major_vein\",\"kidney_with_Gerotas_fascia\",\"background\"],\"x\":[\"isolation_zero\",\"isolation_zero\",\"isolation_zero\",\"isolation_zero\",\"isolation_zero\",\"isolation_zero\",\"isolation_zero\",\"isolation_zero\",\"isolation_zero\",\"isolation_zero\",\"isolation_zero\",\"isolation_zero\",\"isolation_zero\",\"isolation_zero\",\"isolation_zero\",\"isolation_zero\",\"isolation_zero\",\"isolation_zero\",\"isolation_zero\"],\"y\":[0.7209428883023167,0.8250496404046892,0.8752257506078779,0.7118643137778478,0.007779665981593784,0.9878332879830841,0.7874821424488584,0.22440591581489777,0.08826439585658916,0.9716971210990291,0.7992205282945043,0.9751763980101663,0.8131101742802122,0.33325260831815967,0.6493964645023473,0.6909482874381481,0.19927646860794157,0.1555476906065448,0.9934194153611704],\"type\":\"box\",\"xaxis\":\"x4\",\"yaxis\":\"y4\"},{\"boxmean\":true,\"boxpoints\":\"all\",\"legendgroup\":\"baseline\",\"marker\":{\"color\":\"#508587\"},\"name\":\"Baseline\",\"offsetgroup\":\"baseline\",\"showlegend\":false,\"text\":[\"stomach\",\"small_bowel\",\"colon\",\"liver\",\"gallbladder\",\"pancreas\",\"kidney\",\"spleen\",\"bladder\",\"omentum\",\"lung\",\"heart\",\"skin\",\"muscle\",\"fat_subcutaneous\",\"peritoneum\",\"major_vein\",\"kidney_with_Gerotas_fascia\",\"background\"],\"x\":[\"isolation_bgr\",\"isolation_bgr\",\"isolation_bgr\",\"isolation_bgr\",\"isolation_bgr\",\"isolation_bgr\",\"isolation_bgr\",\"isolation_bgr\",\"isolation_bgr\",\"isolation_bgr\",\"isolation_bgr\",\"isolation_bgr\",\"isolation_bgr\",\"isolation_bgr\",\"isolation_bgr\",\"isolation_bgr\",\"isolation_bgr\",\"isolation_bgr\",\"isolation_bgr\"],\"y\":[0.07796995416644993,0.9028829948711486,0.8090704094012604,0.9509484927370861,0.02212694338763477,0.14137711281125956,0.2645318185645927,0.22408184061039849,0.50130215982995,0.10058418729819665,0.8618183513115625,0.7677790445462399,0.6089353828303554,0.12535279879423228,0.6785717662588564,0.6216179983514787,0.15274723894360415,0.11014360496241529,0.9888303067300022],\"type\":\"box\",\"xaxis\":\"x4\",\"yaxis\":\"y4\"},{\"boxmean\":true,\"boxpoints\":\"all\",\"legendgroup\":\"organ_transplantation\",\"marker\":{\"color\":\"#A39F5D\"},\"name\":\"Organ Transplantation\",\"offsetgroup\":\"organ_transplantation\",\"showlegend\":false,\"text\":[\"stomach\",\"small_bowel\",\"colon\",\"liver\",\"gallbladder\",\"pancreas\",\"kidney\",\"spleen\",\"bladder\",\"omentum\",\"lung\",\"heart\",\"skin\",\"muscle\",\"fat_subcutaneous\",\"peritoneum\",\"major_vein\",\"kidney_with_Gerotas_fascia\",\"background\"],\"x\":[\"isolation_bgr\",\"isolation_bgr\",\"isolation_bgr\",\"isolation_bgr\",\"isolation_bgr\",\"isolation_bgr\",\"isolation_bgr\",\"isolation_bgr\",\"isolation_bgr\",\"isolation_bgr\",\"isolation_bgr\",\"isolation_bgr\",\"isolation_bgr\",\"isolation_bgr\",\"isolation_bgr\",\"isolation_bgr\",\"isolation_bgr\",\"isolation_bgr\",\"isolation_bgr\"],\"y\":[0.7878378536357735,0.9649898746912507,0.9737560430636888,0.8634904934736956,0.4306993418901919,0.9865595153848689,0.7947348416505394,0.8014445239603384,0.7522967534963775,0.8523367230318165,0.801008740852473,0.9867365001335241,0.8697553913625864,0.7690609185024796,0.8130102932369722,0.7608493745377287,0.940125857133639,0.7787495759638123,0.9926904944286482],\"type\":\"box\",\"xaxis\":\"x4\",\"yaxis\":\"y4\"},{\"boxmean\":true,\"boxpoints\":\"all\",\"legendgroup\":\"baseline\",\"marker\":{\"color\":\"#508587\"},\"name\":\"Baseline\",\"offsetgroup\":\"baseline\",\"showlegend\":false,\"text\":[\"stomach\",\"small_bowel\",\"colon\",\"liver\",\"gallbladder\",\"pancreas\",\"kidney\",\"spleen\",\"bladder\",\"omentum\",\"lung\",\"heart\",\"skin\",\"muscle\",\"peritoneum\",\"major_vein\",\"kidney_with_Gerotas_fascia\",\"background\"],\"x\":[\"isolation_real\",\"isolation_real\",\"isolation_real\",\"isolation_real\",\"isolation_real\",\"isolation_real\",\"isolation_real\",\"isolation_real\",\"isolation_real\",\"isolation_real\",\"isolation_real\",\"isolation_real\",\"isolation_real\",\"isolation_real\",\"isolation_real\",\"isolation_real\",\"isolation_real\",\"isolation_real\"],\"y\":[0.36724504022796906,0.8596543358443712,0.978682076566213,0.39099836554512196,0.10906786472035244,0.010948905109489052,0.4102516947357771,0.027790977477110252,0.5383530916483059,0.0,0.9701390667880805,0.9113313627390734,0.6568186135399244,0.11857779420552161,0.6622220005983843,0.25969998859917864,0.3178022269353128,0.9677068708334912],\"type\":\"box\",\"xaxis\":\"x4\",\"yaxis\":\"y4\"},{\"boxmean\":true,\"boxpoints\":\"all\",\"legendgroup\":\"organ_transplantation\",\"marker\":{\"color\":\"#A39F5D\"},\"name\":\"Organ Transplantation\",\"offsetgroup\":\"organ_transplantation\",\"showlegend\":false,\"text\":[\"stomach\",\"small_bowel\",\"colon\",\"liver\",\"gallbladder\",\"pancreas\",\"kidney\",\"spleen\",\"bladder\",\"omentum\",\"lung\",\"heart\",\"skin\",\"muscle\",\"peritoneum\",\"major_vein\",\"kidney_with_Gerotas_fascia\",\"background\"],\"x\":[\"isolation_real\",\"isolation_real\",\"isolation_real\",\"isolation_real\",\"isolation_real\",\"isolation_real\",\"isolation_real\",\"isolation_real\",\"isolation_real\",\"isolation_real\",\"isolation_real\",\"isolation_real\",\"isolation_real\",\"isolation_real\",\"isolation_real\",\"isolation_real\",\"isolation_real\",\"isolation_real\"],\"y\":[0.8247854957381291,0.9287946873466068,0.9929824561403509,0.42640621239418985,0.22790813513550265,0.8513490605504141,0.803293304981367,0.5928635885567753,0.7557106370365926,1.0,0.9896678713637855,0.9965986394557823,0.9759473456444251,0.10153037916857012,0.9042863595302619,0.43361711177562384,0.48398617642182656,0.9683343813659095],\"type\":\"box\",\"xaxis\":\"x4\",\"yaxis\":\"y4\"},{\"boxmean\":true,\"boxpoints\":\"all\",\"legendgroup\":\"baseline\",\"marker\":{\"color\":\"#508587\"},\"name\":\"Baseline\",\"offsetgroup\":\"baseline\",\"showlegend\":false,\"text\":[\"stomach\",\"small_bowel\",\"colon\",\"liver\",\"gallbladder\",\"pancreas\",\"kidney\",\"spleen\",\"bladder\",\"omentum\",\"lung\",\"heart\",\"skin\",\"muscle\",\"fat_subcutaneous\",\"peritoneum\",\"major_vein\",\"kidney_with_Gerotas_fascia\",\"background\"],\"x\":[\"original2\",\"original2\",\"original2\",\"original2\",\"original2\",\"original2\",\"original2\",\"original2\",\"original2\",\"original2\",\"original2\",\"original2\",\"original2\",\"original2\",\"original2\",\"original2\",\"original2\",\"original2\",\"original2\"],\"y\":[0.7249684984545746,0.7946099966564181,0.8954275196896928,0.6165317988318947,0.5174414182515985,0.9436926712061534,0.5141770340319183,0.5671952833395315,0.5263707480086531,0.7708518317306412,0.7354685695058971,0.8685561982109412,0.8635949745299407,0.45359162142832216,0.7139573263805139,0.8302689940856889,0.8772346935009738,0.3777334603807851,0.9298054021404388],\"type\":\"box\",\"xaxis\":\"x5\",\"yaxis\":\"y5\"},{\"boxmean\":true,\"boxpoints\":\"all\",\"legendgroup\":\"organ_transplantation\",\"marker\":{\"color\":\"#A39F5D\"},\"name\":\"Organ Transplantation\",\"offsetgroup\":\"organ_transplantation\",\"showlegend\":false,\"text\":[\"stomach\",\"small_bowel\",\"colon\",\"liver\",\"gallbladder\",\"pancreas\",\"kidney\",\"spleen\",\"bladder\",\"omentum\",\"lung\",\"heart\",\"skin\",\"muscle\",\"fat_subcutaneous\",\"peritoneum\",\"major_vein\",\"kidney_with_Gerotas_fascia\",\"background\"],\"x\":[\"original2\",\"original2\",\"original2\",\"original2\",\"original2\",\"original2\",\"original2\",\"original2\",\"original2\",\"original2\",\"original2\",\"original2\",\"original2\",\"original2\",\"original2\",\"original2\",\"original2\",\"original2\",\"original2\"],\"y\":[0.7567582950872314,0.787679670688282,0.9123716766927938,0.6427953838443823,0.49045185931501245,0.9578990509865863,0.6276458448736502,0.6112764563344559,0.579348712765913,0.7591782422750155,0.7513970744057371,0.8575837030279004,0.8816134574464716,0.5667101684369116,0.723530968160647,0.8259384888818366,0.9640884188846854,0.4858924428252097,0.9210428406380313],\"type\":\"box\",\"xaxis\":\"x5\",\"yaxis\":\"y5\"},{\"boxmean\":true,\"boxpoints\":\"all\",\"legendgroup\":\"baseline\",\"marker\":{\"color\":\"#508587\"},\"name\":\"Baseline\",\"offsetgroup\":\"baseline\",\"showlegend\":false,\"text\":[\"stomach\",\"small_bowel\",\"colon\",\"liver\",\"gallbladder\",\"pancreas\",\"kidney\",\"spleen\",\"bladder\",\"omentum\",\"lung\",\"heart\",\"skin\",\"muscle\",\"fat_subcutaneous\",\"peritoneum\",\"major_vein\",\"kidney_with_Gerotas_fascia\",\"background\"],\"x\":[\"removal_zero\",\"removal_zero\",\"removal_zero\",\"removal_zero\",\"removal_zero\",\"removal_zero\",\"removal_zero\",\"removal_zero\",\"removal_zero\",\"removal_zero\",\"removal_zero\",\"removal_zero\",\"removal_zero\",\"removal_zero\",\"removal_zero\",\"removal_zero\",\"removal_zero\",\"removal_zero\",\"removal_zero\"],\"y\":[0.35648297676004187,0.5610291539285266,0.6391333202586115,0.40646930125340985,0.06179891769078695,0.38594405853011554,0.27964699489890804,0.23215265223698506,0.06460922521198784,0.5317046526335265,0.5308898847756517,0.7392476423910508,0.6567618577781482,0.23160673754043132,0.3265958303029264,0.4741104304241517,0.42131555252743647,0.03407894769330679,0.8290598554935988],\"type\":\"box\",\"xaxis\":\"x5\",\"yaxis\":\"y5\"},{\"boxmean\":true,\"boxpoints\":\"all\",\"legendgroup\":\"organ_transplantation\",\"marker\":{\"color\":\"#A39F5D\"},\"name\":\"Organ Transplantation\",\"offsetgroup\":\"organ_transplantation\",\"showlegend\":false,\"text\":[\"stomach\",\"small_bowel\",\"colon\",\"liver\",\"gallbladder\",\"pancreas\",\"kidney\",\"spleen\",\"bladder\",\"omentum\",\"lung\",\"heart\",\"skin\",\"muscle\",\"fat_subcutaneous\",\"peritoneum\",\"major_vein\",\"kidney_with_Gerotas_fascia\",\"background\"],\"x\":[\"removal_zero\",\"removal_zero\",\"removal_zero\",\"removal_zero\",\"removal_zero\",\"removal_zero\",\"removal_zero\",\"removal_zero\",\"removal_zero\",\"removal_zero\",\"removal_zero\",\"removal_zero\",\"removal_zero\",\"removal_zero\",\"removal_zero\",\"removal_zero\",\"removal_zero\",\"removal_zero\",\"removal_zero\"],\"y\":[0.5809052688212969,0.7244717387405689,0.8213803072066934,0.5426242579062093,0.1934017013187939,0.5566523170810719,0.5403948468647946,0.43774220038938805,0.2019677515598516,0.633300890092009,0.6388377125634036,0.8456895119014352,0.7653628907823006,0.4369567041069986,0.6115979802789049,0.6736529969750793,0.6010264510893204,0.26092171518586665,0.828874731438615],\"type\":\"box\",\"xaxis\":\"x5\",\"yaxis\":\"y5\"},{\"boxmean\":true,\"boxpoints\":\"all\",\"legendgroup\":\"baseline\",\"marker\":{\"color\":\"#508587\"},\"name\":\"Baseline\",\"offsetgroup\":\"baseline\",\"showlegend\":false,\"text\":[\"stomach\",\"small_bowel\",\"colon\",\"liver\",\"gallbladder\",\"pancreas\",\"kidney\",\"spleen\",\"bladder\",\"omentum\",\"lung\",\"heart\",\"skin\",\"muscle\",\"fat_subcutaneous\",\"peritoneum\",\"major_vein\",\"kidney_with_Gerotas_fascia\",\"background\"],\"x\":[\"removal_bgr\",\"removal_bgr\",\"removal_bgr\",\"removal_bgr\",\"removal_bgr\",\"removal_bgr\",\"removal_bgr\",\"removal_bgr\",\"removal_bgr\",\"removal_bgr\",\"removal_bgr\",\"removal_bgr\",\"removal_bgr\",\"removal_bgr\",\"removal_bgr\",\"removal_bgr\",\"removal_bgr\",\"removal_bgr\",\"removal_bgr\"],\"y\":[0.5215691868150136,0.6878575749290684,0.7371450684524953,0.498013677784985,0.055406259072857136,0.7863203323240735,0.33113058440163096,0.3945680003097491,0.23148599614543758,0.589342335625345,0.6252942673933097,0.7200692023320175,0.6791844082426495,0.35851510060294545,0.5508432206581537,0.5382684713199621,0.2520998973669552,0.09356238468828844,0.8564441933224247],\"type\":\"box\",\"xaxis\":\"x5\",\"yaxis\":\"y5\"},{\"boxmean\":true,\"boxpoints\":\"all\",\"legendgroup\":\"organ_transplantation\",\"marker\":{\"color\":\"#A39F5D\"},\"name\":\"Organ Transplantation\",\"offsetgroup\":\"organ_transplantation\",\"showlegend\":false,\"text\":[\"stomach\",\"small_bowel\",\"colon\",\"liver\",\"gallbladder\",\"pancreas\",\"kidney\",\"spleen\",\"bladder\",\"omentum\",\"lung\",\"heart\",\"skin\",\"muscle\",\"fat_subcutaneous\",\"peritoneum\",\"major_vein\",\"kidney_with_Gerotas_fascia\",\"background\"],\"x\":[\"removal_bgr\",\"removal_bgr\",\"removal_bgr\",\"removal_bgr\",\"removal_bgr\",\"removal_bgr\",\"removal_bgr\",\"removal_bgr\",\"removal_bgr\",\"removal_bgr\",\"removal_bgr\",\"removal_bgr\",\"removal_bgr\",\"removal_bgr\",\"removal_bgr\",\"removal_bgr\",\"removal_bgr\",\"removal_bgr\",\"removal_bgr\"],\"y\":[0.6634952039797184,0.7685605846288277,0.8830298850573352,0.6151246507078529,0.292458747666877,0.9003126075980497,0.6063613127214567,0.5665403097551467,0.524375320400194,0.677449026721762,0.7115806525439065,0.842153226628583,0.8153340654615162,0.5672743627593273,0.5982350073087207,0.6737089595987178,0.9401330064103113,0.4423305700012321,0.8792106519305335],\"type\":\"box\",\"xaxis\":\"x5\",\"yaxis\":\"y5\"},{\"boxmean\":true,\"boxpoints\":\"all\",\"legendgroup\":\"baseline\",\"marker\":{\"color\":\"#508587\"},\"name\":\"Baseline\",\"offsetgroup\":\"baseline\",\"showlegend\":false,\"text\":[\"stomach\",\"small_bowel\",\"colon\",\"liver\",\"gallbladder\",\"kidney\",\"spleen\",\"bladder\",\"omentum\",\"lung\",\"heart\",\"skin\",\"muscle\",\"fat_subcutaneous\",\"peritoneum\",\"background\"],\"x\":[\"no-occlusion\",\"no-occlusion\",\"no-occlusion\",\"no-occlusion\",\"no-occlusion\",\"no-occlusion\",\"no-occlusion\",\"no-occlusion\",\"no-occlusion\",\"no-occlusion\",\"no-occlusion\",\"no-occlusion\",\"no-occlusion\",\"no-occlusion\",\"no-occlusion\",\"no-occlusion\"],\"y\":[0.8010240560117856,0.7817817628084377,0.9053828502246795,0.5673695851156861,0.22296474877191594,0.0,0.6134617837226697,0.4772215847954471,0.8261680967591166,0.6819158660510939,0.8769524309470045,0.9437739871742851,0.4738860363616776,0.537035862487473,0.8850863978424051,0.9162776467918551],\"type\":\"box\",\"xaxis\":\"x6\",\"yaxis\":\"y6\"},{\"boxmean\":true,\"boxpoints\":\"all\",\"legendgroup\":\"organ_transplantation\",\"marker\":{\"color\":\"#A39F5D\"},\"name\":\"Organ Transplantation\",\"offsetgroup\":\"organ_transplantation\",\"showlegend\":false,\"text\":[\"stomach\",\"small_bowel\",\"colon\",\"liver\",\"gallbladder\",\"kidney\",\"spleen\",\"bladder\",\"omentum\",\"lung\",\"heart\",\"skin\",\"muscle\",\"fat_subcutaneous\",\"peritoneum\",\"background\"],\"x\":[\"no-occlusion\",\"no-occlusion\",\"no-occlusion\",\"no-occlusion\",\"no-occlusion\",\"no-occlusion\",\"no-occlusion\",\"no-occlusion\",\"no-occlusion\",\"no-occlusion\",\"no-occlusion\",\"no-occlusion\",\"no-occlusion\",\"no-occlusion\",\"no-occlusion\",\"no-occlusion\"],\"y\":[0.8629999061488434,0.7899693590464854,0.9259225713570458,0.5880965248955937,0.3149349799776348,0.47692307692307695,0.6358542031196298,0.5667036787943094,0.8064223879941819,0.7062154873232482,0.8831215145487441,0.9394208099936097,0.5609244993505121,0.5840421668634874,0.8315237437233081,0.9173937896661422],\"type\":\"box\",\"xaxis\":\"x6\",\"yaxis\":\"y6\"},{\"boxmean\":true,\"boxpoints\":\"all\",\"legendgroup\":\"baseline\",\"marker\":{\"color\":\"#508587\"},\"name\":\"Baseline\",\"offsetgroup\":\"baseline\",\"showlegend\":false,\"text\":[\"stomach\",\"small_bowel\",\"colon\",\"liver\",\"gallbladder\",\"pancreas\",\"kidney\",\"spleen\",\"bladder\",\"omentum\",\"lung\",\"heart\",\"skin\",\"muscle\",\"fat_subcutaneous\",\"peritoneum\",\"major_vein\",\"kidney_with_Gerotas_fascia\",\"background\"],\"x\":[\"occlusion\",\"occlusion\",\"occlusion\",\"occlusion\",\"occlusion\",\"occlusion\",\"occlusion\",\"occlusion\",\"occlusion\",\"occlusion\",\"occlusion\",\"occlusion\",\"occlusion\",\"occlusion\",\"occlusion\",\"occlusion\",\"occlusion\",\"occlusion\",\"occlusion\"],\"y\":[0.3043331367740207,0.6644326481205949,0.6760711229895385,0.43403284214774845,0.20926421455324115,0.5529708928779575,0.5276895941423463,0.3501849670047752,0.4690986900606245,0.3339650619326802,0.8049718396161152,0.9374268259540485,0.5931933176965334,0.500927200792606,0.6862815848793844,0.632740907239214,0.6847536946124502,0.3409883010479252,0.7769153534781866],\"type\":\"box\",\"xaxis\":\"x6\",\"yaxis\":\"y6\"},{\"boxmean\":true,\"boxpoints\":\"all\",\"legendgroup\":\"organ_transplantation\",\"marker\":{\"color\":\"#A39F5D\"},\"name\":\"Organ Transplantation\",\"offsetgroup\":\"organ_transplantation\",\"showlegend\":false,\"text\":[\"stomach\",\"small_bowel\",\"colon\",\"liver\",\"gallbladder\",\"pancreas\",\"kidney\",\"spleen\",\"bladder\",\"omentum\",\"lung\",\"heart\",\"skin\",\"muscle\",\"fat_subcutaneous\",\"peritoneum\",\"major_vein\",\"kidney_with_Gerotas_fascia\",\"background\"],\"x\":[\"occlusion\",\"occlusion\",\"occlusion\",\"occlusion\",\"occlusion\",\"occlusion\",\"occlusion\",\"occlusion\",\"occlusion\",\"occlusion\",\"occlusion\",\"occlusion\",\"occlusion\",\"occlusion\",\"occlusion\",\"occlusion\",\"occlusion\",\"occlusion\",\"occlusion\"],\"y\":[0.37631891575771137,0.7225336313986817,0.7315641249627614,0.48207100829142074,0.3511276793470497,0.6722012083588377,0.6203812859045112,0.482067751332715,0.5296655018964141,0.4687762676916834,0.8742021195603711,0.9632391512741052,0.6203413042314825,0.6309403628555471,0.7826320685796077,0.5974434290712963,0.9005348819617882,0.46930190217399015,0.8007032421248998],\"type\":\"box\",\"xaxis\":\"x6\",\"yaxis\":\"y6\"}],                        {\"template\":{\"data\":{\"barpolar\":[{\"marker\":{\"line\":{\"color\":\"white\",\"width\":0.5},\"pattern\":{\"fillmode\":\"overlay\",\"size\":10,\"solidity\":0.2}},\"type\":\"barpolar\"}],\"bar\":[{\"error_x\":{\"color\":\"#2a3f5f\"},\"error_y\":{\"color\":\"#2a3f5f\"},\"marker\":{\"line\":{\"color\":\"white\",\"width\":0.5},\"pattern\":{\"fillmode\":\"overlay\",\"size\":10,\"solidity\":0.2}},\"type\":\"bar\"}],\"carpet\":[{\"aaxis\":{\"endlinecolor\":\"#2a3f5f\",\"gridcolor\":\"#C8D4E3\",\"linecolor\":\"#C8D4E3\",\"minorgridcolor\":\"#C8D4E3\",\"startlinecolor\":\"#2a3f5f\"},\"baxis\":{\"endlinecolor\":\"#2a3f5f\",\"gridcolor\":\"#C8D4E3\",\"linecolor\":\"#C8D4E3\",\"minorgridcolor\":\"#C8D4E3\",\"startlinecolor\":\"#2a3f5f\"},\"type\":\"carpet\"}],\"choropleth\":[{\"colorbar\":{\"outlinewidth\":0,\"ticks\":\"\"},\"type\":\"choropleth\"}],\"contourcarpet\":[{\"colorbar\":{\"outlinewidth\":0,\"ticks\":\"\"},\"type\":\"contourcarpet\"}],\"contour\":[{\"colorbar\":{\"outlinewidth\":0,\"ticks\":\"\"},\"colorscale\":[[0.0,\"#0d0887\"],[0.1111111111111111,\"#46039f\"],[0.2222222222222222,\"#7201a8\"],[0.3333333333333333,\"#9c179e\"],[0.4444444444444444,\"#bd3786\"],[0.5555555555555556,\"#d8576b\"],[0.6666666666666666,\"#ed7953\"],[0.7777777777777778,\"#fb9f3a\"],[0.8888888888888888,\"#fdca26\"],[1.0,\"#f0f921\"]],\"type\":\"contour\"}],\"heatmapgl\":[{\"colorbar\":{\"outlinewidth\":0,\"ticks\":\"\"},\"colorscale\":[[0.0,\"#0d0887\"],[0.1111111111111111,\"#46039f\"],[0.2222222222222222,\"#7201a8\"],[0.3333333333333333,\"#9c179e\"],[0.4444444444444444,\"#bd3786\"],[0.5555555555555556,\"#d8576b\"],[0.6666666666666666,\"#ed7953\"],[0.7777777777777778,\"#fb9f3a\"],[0.8888888888888888,\"#fdca26\"],[1.0,\"#f0f921\"]],\"type\":\"heatmapgl\"}],\"heatmap\":[{\"colorbar\":{\"outlinewidth\":0,\"ticks\":\"\"},\"colorscale\":[[0.0,\"#0d0887\"],[0.1111111111111111,\"#46039f\"],[0.2222222222222222,\"#7201a8\"],[0.3333333333333333,\"#9c179e\"],[0.4444444444444444,\"#bd3786\"],[0.5555555555555556,\"#d8576b\"],[0.6666666666666666,\"#ed7953\"],[0.7777777777777778,\"#fb9f3a\"],[0.8888888888888888,\"#fdca26\"],[1.0,\"#f0f921\"]],\"type\":\"heatmap\"}],\"histogram2dcontour\":[{\"colorbar\":{\"outlinewidth\":0,\"ticks\":\"\"},\"colorscale\":[[0.0,\"#0d0887\"],[0.1111111111111111,\"#46039f\"],[0.2222222222222222,\"#7201a8\"],[0.3333333333333333,\"#9c179e\"],[0.4444444444444444,\"#bd3786\"],[0.5555555555555556,\"#d8576b\"],[0.6666666666666666,\"#ed7953\"],[0.7777777777777778,\"#fb9f3a\"],[0.8888888888888888,\"#fdca26\"],[1.0,\"#f0f921\"]],\"type\":\"histogram2dcontour\"}],\"histogram2d\":[{\"colorbar\":{\"outlinewidth\":0,\"ticks\":\"\"},\"colorscale\":[[0.0,\"#0d0887\"],[0.1111111111111111,\"#46039f\"],[0.2222222222222222,\"#7201a8\"],[0.3333333333333333,\"#9c179e\"],[0.4444444444444444,\"#bd3786\"],[0.5555555555555556,\"#d8576b\"],[0.6666666666666666,\"#ed7953\"],[0.7777777777777778,\"#fb9f3a\"],[0.8888888888888888,\"#fdca26\"],[1.0,\"#f0f921\"]],\"type\":\"histogram2d\"}],\"histogram\":[{\"marker\":{\"pattern\":{\"fillmode\":\"overlay\",\"size\":10,\"solidity\":0.2}},\"type\":\"histogram\"}],\"mesh3d\":[{\"colorbar\":{\"outlinewidth\":0,\"ticks\":\"\"},\"type\":\"mesh3d\"}],\"parcoords\":[{\"line\":{\"colorbar\":{\"outlinewidth\":0,\"ticks\":\"\"}},\"type\":\"parcoords\"}],\"pie\":[{\"automargin\":true,\"type\":\"pie\"}],\"scatter3d\":[{\"line\":{\"colorbar\":{\"outlinewidth\":0,\"ticks\":\"\"}},\"marker\":{\"colorbar\":{\"outlinewidth\":0,\"ticks\":\"\"}},\"type\":\"scatter3d\"}],\"scattercarpet\":[{\"marker\":{\"colorbar\":{\"outlinewidth\":0,\"ticks\":\"\"}},\"type\":\"scattercarpet\"}],\"scattergeo\":[{\"marker\":{\"colorbar\":{\"outlinewidth\":0,\"ticks\":\"\"}},\"type\":\"scattergeo\"}],\"scattergl\":[{\"marker\":{\"colorbar\":{\"outlinewidth\":0,\"ticks\":\"\"}},\"type\":\"scattergl\"}],\"scattermapbox\":[{\"marker\":{\"colorbar\":{\"outlinewidth\":0,\"ticks\":\"\"}},\"type\":\"scattermapbox\"}],\"scatterpolargl\":[{\"marker\":{\"colorbar\":{\"outlinewidth\":0,\"ticks\":\"\"}},\"type\":\"scatterpolargl\"}],\"scatterpolar\":[{\"marker\":{\"colorbar\":{\"outlinewidth\":0,\"ticks\":\"\"}},\"type\":\"scatterpolar\"}],\"scatter\":[{\"fillpattern\":{\"fillmode\":\"overlay\",\"size\":10,\"solidity\":0.2},\"type\":\"scatter\"}],\"scatterternary\":[{\"marker\":{\"colorbar\":{\"outlinewidth\":0,\"ticks\":\"\"}},\"type\":\"scatterternary\"}],\"surface\":[{\"colorbar\":{\"outlinewidth\":0,\"ticks\":\"\"},\"colorscale\":[[0.0,\"#0d0887\"],[0.1111111111111111,\"#46039f\"],[0.2222222222222222,\"#7201a8\"],[0.3333333333333333,\"#9c179e\"],[0.4444444444444444,\"#bd3786\"],[0.5555555555555556,\"#d8576b\"],[0.6666666666666666,\"#ed7953\"],[0.7777777777777778,\"#fb9f3a\"],[0.8888888888888888,\"#fdca26\"],[1.0,\"#f0f921\"]],\"type\":\"surface\"}],\"table\":[{\"cells\":{\"fill\":{\"color\":\"#EBF0F8\"},\"line\":{\"color\":\"white\"}},\"header\":{\"fill\":{\"color\":\"#C8D4E3\"},\"line\":{\"color\":\"white\"}},\"type\":\"table\"}]},\"layout\":{\"annotationdefaults\":{\"arrowcolor\":\"#2a3f5f\",\"arrowhead\":0,\"arrowwidth\":1},\"autotypenumbers\":\"strict\",\"coloraxis\":{\"colorbar\":{\"outlinewidth\":0,\"ticks\":\"\"}},\"colorscale\":{\"diverging\":[[0,\"#8e0152\"],[0.1,\"#c51b7d\"],[0.2,\"#de77ae\"],[0.3,\"#f1b6da\"],[0.4,\"#fde0ef\"],[0.5,\"#f7f7f7\"],[0.6,\"#e6f5d0\"],[0.7,\"#b8e186\"],[0.8,\"#7fbc41\"],[0.9,\"#4d9221\"],[1,\"#276419\"]],\"sequential\":[[0.0,\"#0d0887\"],[0.1111111111111111,\"#46039f\"],[0.2222222222222222,\"#7201a8\"],[0.3333333333333333,\"#9c179e\"],[0.4444444444444444,\"#bd3786\"],[0.5555555555555556,\"#d8576b\"],[0.6666666666666666,\"#ed7953\"],[0.7777777777777778,\"#fb9f3a\"],[0.8888888888888888,\"#fdca26\"],[1.0,\"#f0f921\"]],\"sequentialminus\":[[0.0,\"#0d0887\"],[0.1111111111111111,\"#46039f\"],[0.2222222222222222,\"#7201a8\"],[0.3333333333333333,\"#9c179e\"],[0.4444444444444444,\"#bd3786\"],[0.5555555555555556,\"#d8576b\"],[0.6666666666666666,\"#ed7953\"],[0.7777777777777778,\"#fb9f3a\"],[0.8888888888888888,\"#fdca26\"],[1.0,\"#f0f921\"]]},\"colorway\":[\"#636efa\",\"#EF553B\",\"#00cc96\",\"#ab63fa\",\"#FFA15A\",\"#19d3f3\",\"#FF6692\",\"#B6E880\",\"#FF97FF\",\"#FECB52\"],\"font\":{\"color\":\"#2a3f5f\"},\"geo\":{\"bgcolor\":\"white\",\"lakecolor\":\"white\",\"landcolor\":\"white\",\"showlakes\":true,\"showland\":true,\"subunitcolor\":\"#C8D4E3\"},\"hoverlabel\":{\"align\":\"left\"},\"hovermode\":\"closest\",\"mapbox\":{\"style\":\"light\"},\"paper_bgcolor\":\"white\",\"plot_bgcolor\":\"white\",\"polar\":{\"angularaxis\":{\"gridcolor\":\"#EBF0F8\",\"linecolor\":\"#EBF0F8\",\"ticks\":\"\"},\"bgcolor\":\"white\",\"radialaxis\":{\"gridcolor\":\"#EBF0F8\",\"linecolor\":\"#EBF0F8\",\"ticks\":\"\"}},\"scene\":{\"xaxis\":{\"backgroundcolor\":\"white\",\"gridcolor\":\"#DFE8F3\",\"gridwidth\":2,\"linecolor\":\"#EBF0F8\",\"showbackground\":true,\"ticks\":\"\",\"zerolinecolor\":\"#EBF0F8\"},\"yaxis\":{\"backgroundcolor\":\"white\",\"gridcolor\":\"#DFE8F3\",\"gridwidth\":2,\"linecolor\":\"#EBF0F8\",\"showbackground\":true,\"ticks\":\"\",\"zerolinecolor\":\"#EBF0F8\"},\"zaxis\":{\"backgroundcolor\":\"white\",\"gridcolor\":\"#DFE8F3\",\"gridwidth\":2,\"linecolor\":\"#EBF0F8\",\"showbackground\":true,\"ticks\":\"\",\"zerolinecolor\":\"#EBF0F8\"}},\"shapedefaults\":{\"line\":{\"color\":\"#2a3f5f\"}},\"ternary\":{\"aaxis\":{\"gridcolor\":\"#DFE8F3\",\"linecolor\":\"#A2B1C6\",\"ticks\":\"\"},\"baxis\":{\"gridcolor\":\"#DFE8F3\",\"linecolor\":\"#A2B1C6\",\"ticks\":\"\"},\"bgcolor\":\"white\",\"caxis\":{\"gridcolor\":\"#DFE8F3\",\"linecolor\":\"#A2B1C6\",\"ticks\":\"\"}},\"title\":{\"x\":0.05},\"xaxis\":{\"automargin\":true,\"gridcolor\":\"#EBF0F8\",\"linecolor\":\"#EBF0F8\",\"ticks\":\"\",\"title\":{\"standoff\":15},\"zerolinecolor\":\"#EBF0F8\",\"zerolinewidth\":2},\"yaxis\":{\"automargin\":true,\"gridcolor\":\"#EBF0F8\",\"linecolor\":\"#EBF0F8\",\"ticks\":\"\",\"title\":{\"standoff\":15},\"zerolinecolor\":\"#EBF0F8\",\"zerolinewidth\":2}}},\"xaxis\":{\"anchor\":\"y\",\"domain\":[0.0,0.41777777777777775],\"matches\":\"x4\",\"showticklabels\":false,\"tickfont\":{\"size\":16},\"autorangeoptions\":{\"minallowed\":-0.6,\"maxallowed\":3.4},\"range\":[-0.6,3.4]},\"yaxis\":{\"anchor\":\"x\",\"domain\":[0.55,1.0],\"title\":{\"text\":\"\\u003cb\\u003eNSD\\u003c\\u002fb\\u003e\"},\"tickfont\":{\"size\":16},\"range\":[-0.05,1.05]},\"xaxis2\":{\"anchor\":\"y2\",\"domain\":[0.4477777777777777,0.7611111111111111],\"matches\":\"x5\",\"showticklabels\":false,\"tickfont\":{\"size\":16},\"autorangeoptions\":{\"minallowed\":-0.6,\"maxallowed\":2.4},\"range\":[-0.6,2.4]},\"yaxis2\":{\"anchor\":\"x2\",\"domain\":[0.55,1.0],\"matches\":\"y\",\"showticklabels\":false,\"title\":{\"standoff\":12},\"tickfont\":{\"size\":16},\"range\":[-0.05,1.05]},\"xaxis3\":{\"anchor\":\"y3\",\"domain\":[0.7911111111111111,1.0],\"matches\":\"x6\",\"showticklabels\":false,\"tickfont\":{\"size\":16},\"autorangeoptions\":{\"minallowed\":-0.6,\"maxallowed\":1.4},\"range\":[-0.6,1.4]},\"yaxis3\":{\"anchor\":\"x3\",\"domain\":[0.55,1.0],\"matches\":\"y\",\"showticklabels\":false,\"title\":{\"standoff\":12},\"tickfont\":{\"size\":16},\"range\":[-0.05,1.05]},\"xaxis4\":{\"anchor\":\"y4\",\"domain\":[0.0,0.41777777777777775],\"tickfont\":{\"size\":16},\"autorangeoptions\":{\"minallowed\":-0.6,\"maxallowed\":3.4},\"range\":[-0.6,3.4]},\"yaxis4\":{\"anchor\":\"x4\",\"domain\":[0.0,0.45],\"title\":{\"text\":\"\\u003cb\\u003eNSD\\u003c\\u002fb\\u003e\"},\"tickfont\":{\"size\":16},\"range\":[-0.05,1.05]},\"xaxis5\":{\"anchor\":\"y5\",\"domain\":[0.4477777777777777,0.7611111111111111],\"tickfont\":{\"size\":16},\"autorangeoptions\":{\"minallowed\":-0.6,\"maxallowed\":2.4},\"range\":[-0.6,2.4]},\"yaxis5\":{\"anchor\":\"x5\",\"domain\":[0.0,0.45],\"matches\":\"y4\",\"showticklabels\":false,\"title\":{\"standoff\":12},\"tickfont\":{\"size\":16},\"range\":[-0.05,1.05]},\"xaxis6\":{\"anchor\":\"y6\",\"domain\":[0.7911111111111111,1.0],\"tickfont\":{\"size\":16},\"autorangeoptions\":{\"minallowed\":-0.6,\"maxallowed\":1.4},\"range\":[-0.6,1.4]},\"yaxis6\":{\"anchor\":\"x6\",\"domain\":[0.0,0.45],\"matches\":\"y4\",\"showticklabels\":false,\"title\":{\"standoff\":12},\"tickfont\":{\"size\":16},\"range\":[-0.05,1.05]},\"annotations\":[{\"font\":{\"size\":20},\"showarrow\":false,\"text\":\"\\u003cb\\u003eimage#HSI\\u003c\\u002fb\\u003e\",\"x\":0,\"xanchor\":\"left\",\"xref\":\"paper\",\"y\":1.0,\"yanchor\":\"bottom\",\"yref\":\"paper\"},{\"font\":{\"size\":20},\"showarrow\":false,\"text\":\"\\u003cb\\u003eimage#RGB\\u003c\\u002fb\\u003e\",\"x\":0,\"xanchor\":\"left\",\"xref\":\"paper\",\"y\":0.45,\"yanchor\":\"bottom\",\"yref\":\"paper\"}],\"boxmode\":\"group\",\"boxgap\":0.2,\"boxgroupgap\":0.4,\"legend\":{\"orientation\":\"h\",\"yanchor\":\"bottom\",\"y\":0.46,\"xanchor\":\"center\",\"x\":0.5},\"font\":{\"family\":\"Libertinus Serif\",\"size\":20},\"margin\":{\"l\":0,\"r\":0,\"b\":0,\"t\":20},\"height\":510,\"width\":1100},                        {\"responsive\": true}                    ).then(function(){\n",
       "                            \n",
       "var gd = document.getElementById('5594aa6b-342f-4d0a-ba5e-4842fab428f7');\n",
       "var x = new MutationObserver(function (mutations, observer) {{\n",
       "        var display = window.getComputedStyle(gd).display;\n",
       "        if (!display || display === 'none') {{\n",
       "            console.log([gd, 'removed!']);\n",
       "            Plotly.purge(gd);\n",
       "            observer.disconnect();\n",
       "        }}\n",
       "}});\n",
       "\n",
       "// Listen for the removal of the full notebook cells\n",
       "var notebookContainer = gd.closest('#notebook-container');\n",
       "if (notebookContainer) {{\n",
       "    x.observe(notebookContainer, {childList: true});\n",
       "}}\n",
       "\n",
       "// Listen for the clearing of the current output cell\n",
       "var outputEl = gd.closest('.output');\n",
       "if (outputEl) {{\n",
       "    x.observe(outputEl, {childList: true});\n",
       "}}\n",
       "\n",
       "                        })                };                });            </script>        </div>"
      ]
     },
     "metadata": {},
     "output_type": "display_data"
    }
   ],
   "source": [
    "fig = dataset_comparison(settings_seg.nsd_aggregation_short)\n",
    "fig.update_yaxes(title=\"<b>NSD</b>\", col=1)\n",
    "fig.write_image(settings_context.paper_extended_dir / \"task_performance_NSD.pdf\")\n",
    "fig"
   ]
  }
 ],
 "metadata": {
  "kernelspec": {
   "display_name": "htc2",
   "language": "python",
   "name": "python3"
  },
  "language_info": {
   "codemirror_mode": {
    "name": "ipython",
    "version": 3
   },
   "file_extension": ".py",
   "mimetype": "text/x-python",
   "name": "python",
   "nbconvert_exporter": "python",
   "pygments_lexer": "ipython3",
   "version": "3.11.9"
  }
 },
 "nbformat": 4,
 "nbformat_minor": 2
}
