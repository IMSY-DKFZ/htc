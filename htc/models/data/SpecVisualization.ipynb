{
 "cells": [
  {
   "cell_type": "markdown",
   "id": "fe4167b0-fe2b-445c-866f-241e5ea6434b",
   "metadata": {},
   "source": [
    "# Spec Visualization"
   ]
  },
  {
   "cell_type": "code",
   "execution_count": 1,
   "id": "5ab902da-ed4e-4d70-8ecf-4c719c8716fb",
   "metadata": {},
   "outputs": [],
   "source": [
    "from itertools import cycle\n",
    "from pathlib import Path\n",
    "\n",
    "import matplotlib\n",
    "import matplotlib.pyplot as plt\n",
    "import numpy as np\n",
    "import pandas as pd\n",
    "import plotly.express as px\n",
    "import seaborn as sns\n",
    "from matplotlib.colors import to_hex\n",
    "from rich.progress import track\n",
    "\n",
    "from htc.models.data.DataSpecification import DataSpecification\n",
    "from htc.settings import settings\n",
    "from htc.utils.visualization import compress_html\n",
    "from htc_projects.camera.settings_camera import settings_camera"
   ]
  },
  {
   "cell_type": "code",
   "execution_count": 2,
   "id": "76b52278-5b56-49ad-bf3c-9f1ced81be35",
   "metadata": {
    "tags": [
     "parameters"
    ]
   },
   "outputs": [],
   "source": [
    "# Parameter for papermill\n",
    "# Spec visualizations can easily be created via\n",
    "path = \"htc/models/data/pigs_semantic-only_5foldsV2.json\"\n",
    "mapping = None"
   ]
  },
  {
   "cell_type": "markdown",
   "id": "18432a49",
   "metadata": {},
   "source": [
    "## Spec Figure"
   ]
  },
  {
   "cell_type": "code",
   "execution_count": 3,
   "id": "f2629999-e56b-45d1-8bfb-ab02eee16b7f",
   "metadata": {},
   "outputs": [
    {
     "data": {
      "application/vnd.jupyter.widget-view+json": {
       "model_id": "5594aa6b342f4d0aba5e4842fab428f7",
       "version_major": 2,
       "version_minor": 0
      },
      "text/plain": [
       "Output()"
      ]
     },
     "metadata": {},
     "output_type": "display_data"
    },
    {
     "data": {
      "text/html": [
       "<pre style=\"white-space:pre;overflow-x:auto;line-height:normal;font-family:Menlo,'DejaVu Sans Mono',consolas,'Courier New',monospace\"></pre>\n"
      ],
      "text/plain": []
     },
     "metadata": {},
     "output_type": "display_data"
    },
    {
     "data": {
      "text/html": [
       "<pre style=\"white-space:pre;overflow-x:auto;line-height:normal;font-family:Menlo,'DejaVu Sans Mono',consolas,'Courier New',monospace\">\n",
       "</pre>\n"
      ],
      "text/plain": [
       "\n"
      ]
     },
     "metadata": {},
     "output_type": "display_data"
    },
    {
     "data": {
      "application/vnd.jupyter.widget-view+json": {
       "model_id": "3906a7c8603d41d489e7a54d87bdc1f7",
       "version_major": 2,
       "version_minor": 0
      },
      "text/plain": [
       "Output()"
      ]
     },
     "metadata": {},
     "output_type": "display_data"
    },
    {
     "data": {
      "text/html": [
       "<pre style=\"white-space:pre;overflow-x:auto;line-height:normal;font-family:Menlo,'DejaVu Sans Mono',consolas,'Courier New',monospace\"></pre>\n"
      ],
      "text/plain": []
     },
     "metadata": {},
     "output_type": "display_data"
    },
    {
     "data": {
      "text/html": [
       "<pre style=\"white-space:pre;overflow-x:auto;line-height:normal;font-family:Menlo,'DejaVu Sans Mono',consolas,'Courier New',monospace\">\n",
       "</pre>\n"
      ],
      "text/plain": [
       "\n"
      ]
     },
     "metadata": {},
     "output_type": "display_data"
    }
   ],
   "source": [
    "path = Path(path)\n",
    "spec = DataSpecification(path)\n",
    "spec.activate_test_set()\n",
    "\n",
    "# Special sorting for some specs\n",
    "sortings = {\n",
    "    \"weak_labels_validation_concept\": [\"train_partial\", \"validation\", \"train_weak\", \"test\"],\n",
    "    \"pigs_semantic-only_5foldsV2\": [\"val_semantic_unknown\", \"train_semantic\", \"val_semantic_known\", \"test\"],\n",
    "}\n",
    "\n",
    "if path.stem in sortings.keys():\n",
    "    sorting = sortings[path.stem]\n",
    "elif set(spec.split_names()) == {\"train\", \"val\", \"test\"}:\n",
    "    sorting = [\"val\", \"train\", \"test\"]\n",
    "else:\n",
    "    sorting = spec.split_names()\n",
    "\n",
    "paths = []\n",
    "for split_name in sorting:\n",
    "    for fold, splits in spec:\n",
    "        for p in splits[split_name]:\n",
    "            if p not in paths:\n",
    "                paths.append(p)\n",
    "\n",
    "image_names = [p.image_name() for p in paths]\n",
    "dataset_names = [\"none\", *spec.split_names()]\n",
    "folds = spec.fold_names()\n",
    "\n",
    "# Fold splits\n",
    "fold_matrix = np.zeros((len(folds), len(paths)), dtype=np.int64)\n",
    "for fold, splits in track(spec):\n",
    "    fold_name = folds.index(fold)\n",
    "\n",
    "    for split_name, split_paths in splits.items():\n",
    "        for p in split_paths:\n",
    "            path_idx = image_names.index(p.image_name())\n",
    "            fold_matrix[fold_name, path_idx] = dataset_names.index(split_name)\n",
    "\n",
    "if np.all(fold_matrix > 0):\n",
    "    dataset_names.remove(\"none\")\n",
    "\n",
    "# Subjects\n",
    "subjects = sorted({p.subject_name for p in paths})\n",
    "subject_matrix = np.zeros((1, len(paths)), dtype=np.int64)\n",
    "\n",
    "# Cameras\n",
    "cams = sorted({p.meta(\"camera_name\") for p in paths})\n",
    "cam_matrix = np.zeros((1, len(paths)), dtype=np.int64)\n",
    "\n",
    "for p in track(paths):\n",
    "    path_idx = image_names.index(p.image_name())\n",
    "    subject_matrix[0, path_idx] = subjects.index(p.subject_name)\n",
    "    cam_matrix[0, path_idx] = cams.index(p.meta(\"camera_name\"))\n",
    "\n",
    "if p.meta(\"image_label_name\") is not None:\n",
    "    classes = sorted({p.meta(\"image_label_name\") for p in paths})\n",
    "    class_matrix = np.zeros((1, len(paths)), dtype=np.int64)\n",
    "    for p in paths:\n",
    "        path_idx = image_names.index(p.image_name())\n",
    "        class_matrix[0, path_idx] = classes.index(p.meta(\"image_label_name\"))\n",
    "else:\n",
    "    classes = None\n",
    "\n",
    "# subject_name as ticks\n",
    "subject_borders = []\n",
    "subject_labels = []\n",
    "last_subject_name = \"\"\n",
    "for i, image_name in enumerate(image_names):\n",
    "    subject_name = image_name.split(\"#\")[0]\n",
    "    if subject_name != last_subject_name:\n",
    "        subject_borders.append(i)\n",
    "        subject_labels.append(subject_name)\n",
    "        last_subject_name = subject_name"
   ]
  },
  {
   "cell_type": "code",
   "execution_count": 4,
   "id": "d1e06dd1-0e66-477b-bd3a-7bd8a837b664",
   "metadata": {},
   "outputs": [
    {
     "data": {
      "image/png": "[encoded data removed]",
      "text/plain": [
       "<Figure size 1000x450 with 6 Axes>"
      ]
     },
     "metadata": {},
     "output_type": "display_data"
    }
   ],
   "source": [
    "def set_cbar_ticks(ax, labels: list[str]) -> None:\n",
    "    colorbar = ax.collections[0].colorbar\n",
    "    r = colorbar.vmax - colorbar.vmin\n",
    "    colorbar.set_ticks([colorbar.vmin + r / len(labels) * (0.5 + i) for i in range(len(labels))])\n",
    "    colorbar.set_ticklabels(labels)\n",
    "\n",
    "\n",
    "dataset_colors = [\"#FFFFCC\", \"#B3CDE3\", \"#85BDA6\", \"#D6EFB3\"]\n",
    "if \"none\" in dataset_names:\n",
    "    dataset_colors = [\"#FFFFFF\", *dataset_colors]\n",
    "assert len(dataset_names) <= len(dataset_colors), \"Not enough colors for the datasets available\"\n",
    "dataset_colors = dataset_colors[: len(dataset_names)]\n",
    "\n",
    "subject_colors = []\n",
    "for name in cycle([\"tab20b\", \"tab20c\", \"Set1\", \"Set2\", \"Set3\", \"Pastel1\", \"Pastel2\", \"Accent\", \"Dark2\"]):\n",
    "    for c in matplotlib.colormaps.get_cmap(name).colors:\n",
    "        subject_colors.append(to_hex(c))\n",
    "        if len(subject_colors) == len(subjects):\n",
    "            break\n",
    "    if len(subject_colors) == len(subjects):\n",
    "        break\n",
    "\n",
    "n_rows = 3 if classes is None else 4\n",
    "fig, axes = plt.subplots(\n",
    "    n_rows,\n",
    "    1,\n",
    "    tight_layout=True,\n",
    "    figsize=(10, 0.3 * n_rows * len(folds)),\n",
    "    edgecolor=\"k\",\n",
    "    gridspec_kw={\n",
    "        \"height_ratios\": [len(folds)] + [1] * (n_rows - 1) if classes is None else [len(folds)] + [1] * (n_rows - 1)\n",
    "    },\n",
    ")\n",
    "\n",
    "ax1 = axes[0]\n",
    "ax2 = axes[1]\n",
    "ax3 = axes[2]\n",
    "sns.heatmap(fold_matrix, cmap=dataset_colors, rasterized=True, ax=ax1)\n",
    "sns.heatmap(\n",
    "    cam_matrix,\n",
    "    cmap=[settings_camera.camera_name_colors[c] for c in cams],\n",
    "    alpha=0.5,\n",
    "    rasterized=True,\n",
    "    cbar_kws={\"aspect\": 4},\n",
    "    ax=ax2,\n",
    ")\n",
    "sns.heatmap(\n",
    "    subject_matrix,\n",
    "    cmap=subject_colors,\n",
    "    alpha=0.5,\n",
    "    rasterized=True,\n",
    "    cbar_kws={\"aspect\": 4},\n",
    "    ax=ax3,\n",
    ")\n",
    "\n",
    "if classes is not None:\n",
    "    ax4 = axes[3]\n",
    "    colors = [to_hex(c) for c in matplotlib.colormaps.get_cmap(\"Set1\").colors][: len(classes)]\n",
    "    sns.heatmap(class_matrix, cmap=colors, rasterized=True, cbar_kws={\"aspect\": 4}, alpha=0.5, ax=ax4)\n",
    "    set_cbar_ticks(ax4, classes)\n",
    "    ax4.set_xticks([])\n",
    "    ax4.set_xticklabels([])\n",
    "    ax4.get_yaxis().set_visible(False)\n",
    "    ax4.set_title(\"image label\", fontweight=\"semibold\")\n",
    "\n",
    "for ax in axes:\n",
    "    for b in subject_borders:\n",
    "        ax.axvline(b, linewidth=0.3, color=\"#a1a1a1\", linestyle=\"--\")\n",
    "\n",
    "ax1.set_ylabel(\"fold_name\")\n",
    "ax1.set_title(\"folds\", fontweight=\"semibold\")\n",
    "ax1.set_xticks([])\n",
    "ax1.set_yticklabels(folds, rotation=0)\n",
    "set_cbar_ticks(ax1, dataset_names)\n",
    "ax1.set_xlabel(\"images (dashed lines at subject borders)\")\n",
    "\n",
    "ax2.set_title(\"cameras\", fontweight=\"semibold\")\n",
    "set_cbar_ticks(ax2, cams)\n",
    "ax2.set_xticks([])\n",
    "ax2.set_xticklabels([])\n",
    "ax2.get_yaxis().set_visible(False)\n",
    "\n",
    "ax3.set_title(\"subjects\", fontweight=\"semibold\")\n",
    "ax3.set_xticks([])\n",
    "ax3.set_xticklabels([])\n",
    "ax3.get_yaxis().set_visible(False)\n",
    "\n",
    "fig.suptitle(f\"{path.stem} ({len(image_names)} images in total)\", fontweight=\"bold\", y=0.99);"
   ]
  },
  {
   "cell_type": "code",
   "execution_count": 5,
   "id": "3f777e57-fb0f-44b1-b064-41a978bd990f",
   "metadata": {},
   "outputs": [],
   "source": [
    "target_dir = settings.results_dir / \"specs_figures\"\n",
    "target_dir.mkdir(exist_ok=True, parents=True)\n",
    "fig.savefig(target_dir / f\"{path.stem}.pdf\")"
   ]
  },
  {
   "cell_type": "markdown",
   "id": "a3238a13",
   "metadata": {},
   "source": [
    "## Spec Statistics"
   ]
  },
  {
   "cell_type": "code",
   "execution_count": 6,
   "id": "5f860df9",
   "metadata": {},
   "outputs": [
    {
     "data": {
      "text/html": [
       "<div>\n",
       "<style scoped>\n",
       "    .dataframe tbody tr th:only-of-type {\n",
       "        vertical-align: middle;\n",
       "    }\n",
       "\n",
       "    .dataframe tbody tr th {\n",
       "        vertical-align: top;\n",
       "    }\n",
       "\n",
       "    .dataframe thead th {\n",
       "        text-align: right;\n",
       "    }\n",
       "</style>\n",
       "<table border=\"1\" class=\"dataframe\">\n",
       "  <thead>\n",
       "    <tr style=\"text-align: right;\">\n",
       "      <th></th>\n",
       "      <th>fold_name</th>\n",
       "      <th>split_name</th>\n",
       "      <th># images</th>\n",
       "      <th># subjects</th>\n",
       "      <th># cams</th>\n",
       "    </tr>\n",
       "  </thead>\n",
       "  <tbody>\n",
       "    <tr>\n",
       "      <th>0</th>\n",
       "      <td>fold_P041,P060,P069</td>\n",
       "      <td>train_semantic</td>\n",
       "      <td>254</td>\n",
       "      <td>12</td>\n",
       "      <td>1</td>\n",
       "    </tr>\n",
       "    <tr>\n",
       "      <th>1</th>\n",
       "      <td>fold_P041,P060,P069</td>\n",
       "      <td>val_semantic_unknown</td>\n",
       "      <td>74</td>\n",
       "      <td>3</td>\n",
       "      <td>1</td>\n",
       "    </tr>\n",
       "    <tr>\n",
       "      <th>2</th>\n",
       "      <td>fold_P041,P060,P069</td>\n",
       "      <td>val_semantic_known</td>\n",
       "      <td>12</td>\n",
       "      <td>12</td>\n",
       "      <td>1</td>\n",
       "    </tr>\n",
       "    <tr>\n",
       "      <th>3</th>\n",
       "      <td>fold_P041,P060,P069</td>\n",
       "      <td>test</td>\n",
       "      <td>166</td>\n",
       "      <td>5</td>\n",
       "      <td>1</td>\n",
       "    </tr>\n",
       "    <tr>\n",
       "      <th>4</th>\n",
       "      <td>fold_P044,P050,P059</td>\n",
       "      <td>train_semantic</td>\n",
       "      <td>278</td>\n",
       "      <td>12</td>\n",
       "      <td>1</td>\n",
       "    </tr>\n",
       "    <tr>\n",
       "      <th>5</th>\n",
       "      <td>fold_P044,P050,P059</td>\n",
       "      <td>val_semantic_unknown</td>\n",
       "      <td>50</td>\n",
       "      <td>3</td>\n",
       "      <td>1</td>\n",
       "    </tr>\n",
       "    <tr>\n",
       "      <th>6</th>\n",
       "      <td>fold_P044,P050,P059</td>\n",
       "      <td>val_semantic_known</td>\n",
       "      <td>12</td>\n",
       "      <td>12</td>\n",
       "      <td>1</td>\n",
       "    </tr>\n",
       "    <tr>\n",
       "      <th>7</th>\n",
       "      <td>fold_P044,P050,P059</td>\n",
       "      <td>test</td>\n",
       "      <td>166</td>\n",
       "      <td>5</td>\n",
       "      <td>1</td>\n",
       "    </tr>\n",
       "    <tr>\n",
       "      <th>8</th>\n",
       "      <td>fold_P045,P061,P071</td>\n",
       "      <td>train_semantic</td>\n",
       "      <td>269</td>\n",
       "      <td>12</td>\n",
       "      <td>1</td>\n",
       "    </tr>\n",
       "    <tr>\n",
       "      <th>9</th>\n",
       "      <td>fold_P045,P061,P071</td>\n",
       "      <td>val_semantic_unknown</td>\n",
       "      <td>59</td>\n",
       "      <td>3</td>\n",
       "      <td>1</td>\n",
       "    </tr>\n",
       "    <tr>\n",
       "      <th>10</th>\n",
       "      <td>fold_P045,P061,P071</td>\n",
       "      <td>val_semantic_known</td>\n",
       "      <td>12</td>\n",
       "      <td>12</td>\n",
       "      <td>1</td>\n",
       "    </tr>\n",
       "    <tr>\n",
       "      <th>11</th>\n",
       "      <td>fold_P045,P061,P071</td>\n",
       "      <td>test</td>\n",
       "      <td>166</td>\n",
       "      <td>5</td>\n",
       "      <td>1</td>\n",
       "    </tr>\n",
       "    <tr>\n",
       "      <th>12</th>\n",
       "      <td>fold_P047,P049,P070</td>\n",
       "      <td>train_semantic</td>\n",
       "      <td>263</td>\n",
       "      <td>12</td>\n",
       "      <td>1</td>\n",
       "    </tr>\n",
       "    <tr>\n",
       "      <th>13</th>\n",
       "      <td>fold_P047,P049,P070</td>\n",
       "      <td>val_semantic_unknown</td>\n",
       "      <td>65</td>\n",
       "      <td>3</td>\n",
       "      <td>1</td>\n",
       "    </tr>\n",
       "    <tr>\n",
       "      <th>14</th>\n",
       "      <td>fold_P047,P049,P070</td>\n",
       "      <td>val_semantic_known</td>\n",
       "      <td>12</td>\n",
       "      <td>12</td>\n",
       "      <td>1</td>\n",
       "    </tr>\n",
       "    <tr>\n",
       "      <th>15</th>\n",
       "      <td>fold_P047,P049,P070</td>\n",
       "      <td>test</td>\n",
       "      <td>166</td>\n",
       "      <td>5</td>\n",
       "      <td>1</td>\n",
       "    </tr>\n",
       "    <tr>\n",
       "      <th>16</th>\n",
       "      <td>fold_P048,P057,P058</td>\n",
       "      <td>train_semantic</td>\n",
       "      <td>236</td>\n",
       "      <td>12</td>\n",
       "      <td>1</td>\n",
       "    </tr>\n",
       "    <tr>\n",
       "      <th>17</th>\n",
       "      <td>fold_P048,P057,P058</td>\n",
       "      <td>val_semantic_unknown</td>\n",
       "      <td>92</td>\n",
       "      <td>3</td>\n",
       "      <td>1</td>\n",
       "    </tr>\n",
       "    <tr>\n",
       "      <th>18</th>\n",
       "      <td>fold_P048,P057,P058</td>\n",
       "      <td>val_semantic_known</td>\n",
       "      <td>12</td>\n",
       "      <td>12</td>\n",
       "      <td>1</td>\n",
       "    </tr>\n",
       "    <tr>\n",
       "      <th>19</th>\n",
       "      <td>fold_P048,P057,P058</td>\n",
       "      <td>test</td>\n",
       "      <td>166</td>\n",
       "      <td>5</td>\n",
       "      <td>1</td>\n",
       "    </tr>\n",
       "  </tbody>\n",
       "</table>\n",
       "</div>"
      ],
      "text/plain": [
       "              fold_name            split_name  # images  # subjects  # cams\n",
       "0   fold_P041,P060,P069        train_semantic       254          12       1\n",
       "1   fold_P041,P060,P069  val_semantic_unknown        74           3       1\n",
       "2   fold_P041,P060,P069    val_semantic_known        12          12       1\n",
       "3   fold_P041,P060,P069                  test       166           5       1\n",
       "4   fold_P044,P050,P059        train_semantic       278          12       1\n",
       "5   fold_P044,P050,P059  val_semantic_unknown        50           3       1\n",
       "6   fold_P044,P050,P059    val_semantic_known        12          12       1\n",
       "7   fold_P044,P050,P059                  test       166           5       1\n",
       "8   fold_P045,P061,P071        train_semantic       269          12       1\n",
       "9   fold_P045,P061,P071  val_semantic_unknown        59           3       1\n",
       "10  fold_P045,P061,P071    val_semantic_known        12          12       1\n",
       "11  fold_P045,P061,P071                  test       166           5       1\n",
       "12  fold_P047,P049,P070        train_semantic       263          12       1\n",
       "13  fold_P047,P049,P070  val_semantic_unknown        65           3       1\n",
       "14  fold_P047,P049,P070    val_semantic_known        12          12       1\n",
       "15  fold_P047,P049,P070                  test       166           5       1\n",
       "16  fold_P048,P057,P058        train_semantic       236          12       1\n",
       "17  fold_P048,P057,P058  val_semantic_unknown        92           3       1\n",
       "18  fold_P048,P057,P058    val_semantic_known        12          12       1\n",
       "19  fold_P048,P057,P058                  test       166           5       1"
      ]
     },
     "execution_count": 6,
     "metadata": {},
     "output_type": "execute_result"
    }
   ],
   "source": [
    "rows = []\n",
    "for fold_name, splits in spec:\n",
    "    for split_name, paths in splits.items():\n",
    "        r = {\n",
    "            \"fold_name\": fold_name,\n",
    "            \"split_name\": split_name,\n",
    "            \"# images\": len(paths),\n",
    "            \"# subjects\": len({p.subject_name for p in paths}),\n",
    "            \"# cams\": len({p.meta(\"camera_name\") for p in paths}),\n",
    "        }\n",
    "        if p.meta(\"image_label_name\") is not None:\n",
    "            names, counts = np.unique([p.meta(\"image_label_name\") for p in paths], return_counts=True)\n",
    "            for n, c in zip(names, counts, strict=True):\n",
    "                r[f\"# {n}\"] = c\n",
    "\n",
    "        rows.append(r)\n",
    "\n",
    "df = pd.DataFrame(rows)\n",
    "df.to_csv(target_dir / f\"{path.stem}.csv\", index=False)\n",
    "df"
   ]
  },
  {
   "cell_type": "code",
   "execution_count": 7,
   "id": "11f73ae8",
   "metadata": {},
   "outputs": [
    {
     "data": {
      "text/html": [
       "        <script type=\"text/javascript\">\n",
       "        window.PlotlyConfig = {MathJaxConfig: 'local'};\n",
       "        if (window.MathJax && window.MathJax.Hub && window.MathJax.Hub.Config) {window.MathJax.Hub.Config({SVG: {font: \"STIX-Web\"}});}\n",
       "        if (typeof require !== 'undefined') {\n",
       "        require.undef(\"plotly\");\n",
       "        requirejs.config({\n",
       "            paths: {\n",
       "                'plotly': ['https://cdn.plot.ly/plotly-2.32.0.min']\n",
       "            }\n",
       "        });\n",
       "        require(['plotly'], function(Plotly) {\n",
       "            window._Plotly = Plotly;\n",
       "        });\n",
       "        }\n",
       "        </script>\n",
       "        "
      ]
     },
     "metadata": {},
     "output_type": "display_data"
    },
    {
     "data": {
      "application/vnd.plotly.v1+json": {
       "config": {
        "plotlyServerURL": "https://plot.ly"
       },
       "data": [
        {
         "alignmentgroup": "True",
         "customdata": [
          [
           38
          ],
          [
           17
          ],
          [
           12
          ],
          [
           56
          ],
          [
           152
          ],
          [
           88
          ],
          [
           93
          ],
          [
           40
          ],
          [
           52
          ],
          [
           73
          ],
          [
           28
          ],
          [
           26
          ],
          [
           11
          ],
          [
           104
          ],
          [
           28
          ],
          [
           18
          ],
          [
           105
          ],
          [
           18
          ],
          [
           67
          ],
          [
           50
          ],
          [
           18
          ],
          [
           91
          ],
          [
           89
          ],
          [
           135
          ],
          [
           75
          ],
          [
           92
          ],
          [
           1
          ],
          [
           46
          ],
          [
           13
          ]
         ],
         "hovertemplate": "split_name=test<br>fold_name=fold_P041,P060,P069<br>label_name=%{x}<br># subjects=%{y}<br># images=%{customdata[0]}<extra></extra>",
         "legendgroup": "test",
         "marker": {
          "color": "#636efa",
          "pattern": {
           "shape": ""
          }
         },
         "name": "test",
         "offsetgroup": "test",
         "orientation": "v",
         "showlegend": true,
         "textposition": "auto",
         "type": "bar",
         "x": [
          "abdominal_linen",
          "anorganic_artifact",
          "background",
          "bladder",
          "blue_cloth",
          "colon",
          "fat_subcutaneous",
          "foil",
          "gallbladder",
          "glove",
          "heart",
          "kidney",
          "kidney_with_Gerotas_fascia",
          "liver",
          "lung",
          "major_vein",
          "metal",
          "muscle",
          "omentum",
          "organic_artifact",
          "pancreas",
          "peritoneum",
          "skin",
          "small_bowel",
          "spleen",
          "stomach",
          "tube",
          "unsure",
          "white_compress"
         ],
         "xaxis": "x5",
         "y": [
          2,
          3,
          3,
          5,
          5,
          5,
          4,
          3,
          4,
          4,
          3,
          2,
          2,
          5,
          3,
          2,
          4,
          2,
          5,
          4,
          3,
          4,
          4,
          5,
          4,
          5,
          1,
          4,
          2
         ],
         "yaxis": "y5"
        },
        {
         "alignmentgroup": "True",
         "customdata": [
          [
           38
          ],
          [
           17
          ],
          [
           12
          ],
          [
           56
          ],
          [
           152
          ],
          [
           88
          ],
          [
           93
          ],
          [
           40
          ],
          [
           52
          ],
          [
           73
          ],
          [
           28
          ],
          [
           26
          ],
          [
           11
          ],
          [
           104
          ],
          [
           28
          ],
          [
           18
          ],
          [
           105
          ],
          [
           18
          ],
          [
           67
          ],
          [
           50
          ],
          [
           18
          ],
          [
           91
          ],
          [
           89
          ],
          [
           135
          ],
          [
           75
          ],
          [
           92
          ],
          [
           1
          ],
          [
           46
          ],
          [
           13
          ]
         ],
         "hovertemplate": "split_name=test<br>fold_name=fold_P044,P050,P059<br>label_name=%{x}<br># subjects=%{y}<br># images=%{customdata[0]}<extra></extra>",
         "legendgroup": "test",
         "marker": {
          "color": "#636efa",
          "pattern": {
           "shape": ""
          }
         },
         "name": "test",
         "offsetgroup": "test",
         "orientation": "v",
         "showlegend": false,
         "textposition": "auto",
         "type": "bar",
         "x": [
          "abdominal_linen",
          "anorganic_artifact",
          "background",
          "bladder",
          "blue_cloth",
          "colon",
          "fat_subcutaneous",
          "foil",
          "gallbladder",
          "glove",
          "heart",
          "kidney",
          "kidney_with_Gerotas_fascia",
          "liver",
          "lung",
          "major_vein",
          "metal",
          "muscle",
          "omentum",
          "organic_artifact",
          "pancreas",
          "peritoneum",
          "skin",
          "small_bowel",
          "spleen",
          "stomach",
          "tube",
          "unsure",
          "white_compress"
         ],
         "xaxis": "x6",
         "y": [
          2,
          3,
          3,
          5,
          5,
          5,
          4,
          3,
          4,
          4,
          3,
          2,
          2,
          5,
          3,
          2,
          4,
          2,
          5,
          4,
          3,
          4,
          4,
          5,
          4,
          5,
          1,
          4,
          2
         ],
         "yaxis": "y6"
        },
        {
         "alignmentgroup": "True",
         "customdata": [
          [
           38
          ],
          [
           17
          ],
          [
           12
          ],
          [
           56
          ],
          [
           152
          ],
          [
           88
          ],
          [
           93
          ],
          [
           40
          ],
          [
           52
          ],
          [
           73
          ],
          [
           28
          ],
          [
           26
          ],
          [
           11
          ],
          [
           104
          ],
          [
           28
          ],
          [
           18
          ],
          [
           105
          ],
          [
           18
          ],
          [
           67
          ],
          [
           50
          ],
          [
           18
          ],
          [
           91
          ],
          [
           89
          ],
          [
           135
          ],
          [
           75
          ],
          [
           92
          ],
          [
           1
          ],
          [
           46
          ],
          [
           13
          ]
         ],
         "hovertemplate": "split_name=test<br>fold_name=fold_P045,P061,P071<br>label_name=%{x}<br># subjects=%{y}<br># images=%{customdata[0]}<extra></extra>",
         "legendgroup": "test",
         "marker": {
          "color": "#636efa",
          "pattern": {
           "shape": ""
          }
         },
         "name": "test",
         "offsetgroup": "test",
         "orientation": "v",
         "showlegend": false,
         "textposition": "auto",
         "type": "bar",
         "x": [
          "abdominal_linen",
          "anorganic_artifact",
          "background",
          "bladder",
          "blue_cloth",
          "colon",
          "fat_subcutaneous",
          "foil",
          "gallbladder",
          "glove",
          "heart",
          "kidney",
          "kidney_with_Gerotas_fascia",
          "liver",
          "lung",
          "major_vein",
          "metal",
          "muscle",
          "omentum",
          "organic_artifact",
          "pancreas",
          "peritoneum",
          "skin",
          "small_bowel",
          "spleen",
          "stomach",
          "tube",
          "unsure",
          "white_compress"
         ],
         "xaxis": "x3",
         "y": [
          2,
          3,
          3,
          5,
          5,
          5,
          4,
          3,
          4,
          4,
          3,
          2,
          2,
          5,
          3,
          2,
          4,
          2,
          5,
          4,
          3,
          4,
          4,
          5,
          4,
          5,
          1,
          4,
          2
         ],
         "yaxis": "y3"
        },
        {
         "alignmentgroup": "True",
         "customdata": [
          [
           38
          ],
          [
           17
          ],
          [
           12
          ],
          [
           56
          ],
          [
           152
          ],
          [
           88
          ],
          [
           93
          ],
          [
           40
          ],
          [
           52
          ],
          [
           73
          ],
          [
           28
          ],
          [
           26
          ],
          [
           11
          ],
          [
           104
          ],
          [
           28
          ],
          [
           18
          ],
          [
           105
          ],
          [
           18
          ],
          [
           67
          ],
          [
           50
          ],
          [
           18
          ],
          [
           91
          ],
          [
           89
          ],
          [
           135
          ],
          [
           75
          ],
          [
           92
          ],
          [
           1
          ],
          [
           46
          ],
          [
           13
          ]
         ],
         "hovertemplate": "split_name=test<br>fold_name=fold_P047,P049,P070<br>label_name=%{x}<br># subjects=%{y}<br># images=%{customdata[0]}<extra></extra>",
         "legendgroup": "test",
         "marker": {
          "color": "#636efa",
          "pattern": {
           "shape": ""
          }
         },
         "name": "test",
         "offsetgroup": "test",
         "orientation": "v",
         "showlegend": false,
         "textposition": "auto",
         "type": "bar",
         "x": [
          "abdominal_linen",
          "anorganic_artifact",
          "background",
          "bladder",
          "blue_cloth",
          "colon",
          "fat_subcutaneous",
          "foil",
          "gallbladder",
          "glove",
          "heart",
          "kidney",
          "kidney_with_Gerotas_fascia",
          "liver",
          "lung",
          "major_vein",
          "metal",
          "muscle",
          "omentum",
          "organic_artifact",
          "pancreas",
          "peritoneum",
          "skin",
          "small_bowel",
          "spleen",
          "stomach",
          "tube",
          "unsure",
          "white_compress"
         ],
         "xaxis": "x4",
         "y": [
          2,
          3,
          3,
          5,
          5,
          5,
          4,
          3,
          4,
          4,
          3,
          2,
          2,
          5,
          3,
          2,
          4,
          2,
          5,
          4,
          3,
          4,
          4,
          5,
          4,
          5,
          1,
          4,
          2
         ],
         "yaxis": "y4"
        },
        {
         "alignmentgroup": "True",
         "customdata": [
          [
           38
          ],
          [
           17
          ],
          [
           12
          ],
          [
           56
          ],
          [
           152
          ],
          [
           88
          ],
          [
           93
          ],
          [
           40
          ],
          [
           52
          ],
          [
           73
          ],
          [
           28
          ],
          [
           26
          ],
          [
           11
          ],
          [
           104
          ],
          [
           28
          ],
          [
           18
          ],
          [
           105
          ],
          [
           18
          ],
          [
           67
          ],
          [
           50
          ],
          [
           18
          ],
          [
           91
          ],
          [
           89
          ],
          [
           135
          ],
          [
           75
          ],
          [
           92
          ],
          [
           1
          ],
          [
           46
          ],
          [
           13
          ]
         ],
         "hovertemplate": "split_name=test<br>fold_name=fold_P048,P057,P058<br>label_name=%{x}<br># subjects=%{y}<br># images=%{customdata[0]}<extra></extra>",
         "legendgroup": "test",
         "marker": {
          "color": "#636efa",
          "pattern": {
           "shape": ""
          }
         },
         "name": "test",
         "offsetgroup": "test",
         "orientation": "v",
         "showlegend": false,
         "textposition": "auto",
         "type": "bar",
         "x": [
          "abdominal_linen",
          "anorganic_artifact",
          "background",
          "bladder",
          "blue_cloth",
          "colon",
          "fat_subcutaneous",
          "foil",
          "gallbladder",
          "glove",
          "heart",
          "kidney",
          "kidney_with_Gerotas_fascia",
          "liver",
          "lung",
          "major_vein",
          "metal",
          "muscle",
          "omentum",
          "organic_artifact",
          "pancreas",
          "peritoneum",
          "skin",
          "small_bowel",
          "spleen",
          "stomach",
          "tube",
          "unsure",
          "white_compress"
         ],
         "xaxis": "x",
         "y": [
          2,
          3,
          3,
          5,
          5,
          5,
          4,
          3,
          4,
          4,
          3,
          2,
          2,
          5,
          3,
          2,
          4,
          2,
          5,
          4,
          3,
          4,
          4,
          5,
          4,
          5,
          1,
          4,
          2
         ],
         "yaxis": "y"
        },
        {
         "alignmentgroup": "True",
         "customdata": [
          [
           41
          ],
          [
           46
          ],
          [
           24
          ],
          [
           41
          ],
          [
           202
          ],
          [
           181
          ],
          [
           7
          ],
          [
           172
          ],
          [
           124
          ],
          [
           51
          ],
          [
           53
          ],
          [
           37
          ],
          [
           16
          ],
          [
           18
          ],
          [
           157
          ],
          [
           37
          ],
          [
           10
          ],
          [
           89
          ],
          [
           18
          ],
          [
           90
          ],
          [
           45
          ],
          [
           39
          ],
          [
           165
          ],
          [
           181
          ],
          [
           199
          ],
          [
           141
          ],
          [
           121
          ],
          [
           66
          ],
          [
           90
          ]
         ],
         "hovertemplate": "split_name=train_semantic<br>fold_name=fold_P041,P060,P069<br>label_name=%{x}<br># subjects=%{y}<br># images=%{customdata[0]}<extra></extra>",
         "legendgroup": "train_semantic",
         "marker": {
          "color": "#EF553B",
          "pattern": {
           "shape": ""
          }
         },
         "name": "train_semantic",
         "offsetgroup": "train_semantic",
         "orientation": "v",
         "showlegend": true,
         "textposition": "auto",
         "type": "bar",
         "x": [
          "abdominal_linen",
          "anorganic_artifact",
          "background",
          "bladder",
          "blue_cloth",
          "colon",
          "colon_peritoneum",
          "fat_subcutaneous",
          "foil",
          "gallbladder",
          "glove",
          "heart",
          "kidney",
          "kidney_with_Gerotas_fascia",
          "liver",
          "lung",
          "major_vein",
          "metal",
          "muscle",
          "omentum",
          "organic_artifact",
          "pancreas",
          "peritoneum",
          "skin",
          "small_bowel",
          "spleen",
          "stomach",
          "unsure",
          "white_compress"
         ],
         "xaxis": "x5",
         "y": [
          3,
          7,
          7,
          7,
          12,
          12,
          2,
          11,
          10,
          7,
          5,
          4,
          3,
          2,
          12,
          4,
          2,
          6,
          3,
          10,
          8,
          6,
          12,
          12,
          12,
          12,
          12,
          10,
          8
         ],
         "yaxis": "y5"
        },
        {
         "alignmentgroup": "True",
         "customdata": [
          [
           31
          ],
          [
           42
          ],
          [
           22
          ],
          [
           45
          ],
          [
           233
          ],
          [
           195
          ],
          [
           7
          ],
          [
           167
          ],
          [
           103
          ],
          [
           62
          ],
          [
           56
          ],
          [
           45
          ],
          [
           13
          ],
          [
           21
          ],
          [
           172
          ],
          [
           45
          ],
          [
           11
          ],
          [
           124
          ],
          [
           18
          ],
          [
           106
          ],
          [
           56
          ],
          [
           44
          ],
          [
           170
          ],
          [
           182
          ],
          [
           217
          ],
          [
           162
          ],
          [
           150
          ],
          [
           77
          ],
          [
           73
          ]
         ],
         "hovertemplate": "split_name=train_semantic<br>fold_name=fold_P044,P050,P059<br>label_name=%{x}<br># subjects=%{y}<br># images=%{customdata[0]}<extra></extra>",
         "legendgroup": "train_semantic",
         "marker": {
          "color": "#EF553B",
          "pattern": {
           "shape": ""
          }
         },
         "name": "train_semantic",
         "offsetgroup": "train_semantic",
         "orientation": "v",
         "showlegend": false,
         "textposition": "auto",
         "type": "bar",
         "x": [
          "abdominal_linen",
          "anorganic_artifact",
          "background",
          "bladder",
          "blue_cloth",
          "colon",
          "colon_peritoneum",
          "fat_subcutaneous",
          "foil",
          "gallbladder",
          "glove",
          "heart",
          "kidney",
          "kidney_with_Gerotas_fascia",
          "liver",
          "lung",
          "major_vein",
          "metal",
          "muscle",
          "omentum",
          "organic_artifact",
          "pancreas",
          "peritoneum",
          "skin",
          "small_bowel",
          "spleen",
          "stomach",
          "unsure",
          "white_compress"
         ],
         "xaxis": "x6",
         "y": [
          3,
          5,
          6,
          8,
          12,
          12,
          2,
          12,
          9,
          7,
          5,
          4,
          2,
          2,
          12,
          4,
          2,
          8,
          3,
          10,
          8,
          6,
          12,
          12,
          12,
          12,
          12,
          12,
          8
         ],
         "yaxis": "y6"
        },
        {
         "alignmentgroup": "True",
         "customdata": [
          [
           40
          ],
          [
           41
          ],
          [
           19
          ],
          [
           45
          ],
          [
           220
          ],
          [
           197
          ],
          [
           6
          ],
          [
           151
          ],
          [
           101
          ],
          [
           66
          ],
          [
           52
          ],
          [
           45
          ],
          [
           11
          ],
          [
           23
          ],
          [
           167
          ],
          [
           45
          ],
          [
           13
          ],
          [
           94
          ],
          [
           16
          ],
          [
           97
          ],
          [
           47
          ],
          [
           41
          ],
          [
           166
          ],
          [
           162
          ],
          [
           210
          ],
          [
           150
          ],
          [
           125
          ],
          [
           73
          ],
          [
           74
          ]
         ],
         "hovertemplate": "split_name=train_semantic<br>fold_name=fold_P045,P061,P071<br>label_name=%{x}<br># subjects=%{y}<br># images=%{customdata[0]}<extra></extra>",
         "legendgroup": "train_semantic",
         "marker": {
          "color": "#EF553B",
          "pattern": {
           "shape": ""
          }
         },
         "name": "train_semantic",
         "offsetgroup": "train_semantic",
         "orientation": "v",
         "showlegend": false,
         "textposition": "auto",
         "type": "bar",
         "x": [
          "abdominal_linen",
          "anorganic_artifact",
          "background",
          "bladder",
          "blue_cloth",
          "colon",
          "colon_peritoneum",
          "fat_subcutaneous",
          "foil",
          "gallbladder",
          "glove",
          "heart",
          "kidney",
          "kidney_with_Gerotas_fascia",
          "liver",
          "lung",
          "major_vein",
          "metal",
          "muscle",
          "omentum",
          "organic_artifact",
          "pancreas",
          "peritoneum",
          "skin",
          "small_bowel",
          "spleen",
          "stomach",
          "unsure",
          "white_compress"
         ],
         "xaxis": "x3",
         "y": [
          3,
          5,
          6,
          7,
          12,
          12,
          1,
          11,
          10,
          8,
          4,
          4,
          2,
          3,
          12,
          4,
          3,
          7,
          3,
          10,
          7,
          5,
          12,
          12,
          12,
          12,
          12,
          11,
          9
         ],
         "yaxis": "y3"
        },
        {
         "alignmentgroup": "True",
         "customdata": [
          [
           28
          ],
          [
           27
          ],
          [
           12
          ],
          [
           50
          ],
          [
           236
          ],
          [
           182
          ],
          [
           7
          ],
          [
           142
          ],
          [
           90
          ],
          [
           46
          ],
          [
           47
          ],
          [
           36
          ],
          [
           17
          ],
          [
           24
          ],
          [
           162
          ],
          [
           36
          ],
          [
           14
          ],
          [
           87
          ],
          [
           7
          ],
          [
           98
          ],
          [
           36
          ],
          [
           39
          ],
          [
           148
          ],
          [
           156
          ],
          [
           208
          ],
          [
           148
          ],
          [
           123
          ],
          [
           59
          ],
          [
           68
          ]
         ],
         "hovertemplate": "split_name=train_semantic<br>fold_name=fold_P047,P049,P070<br>label_name=%{x}<br># subjects=%{y}<br># images=%{customdata[0]}<extra></extra>",
         "legendgroup": "train_semantic",
         "marker": {
          "color": "#EF553B",
          "pattern": {
           "shape": ""
          }
         },
         "name": "train_semantic",
         "offsetgroup": "train_semantic",
         "orientation": "v",
         "showlegend": false,
         "textposition": "auto",
         "type": "bar",
         "x": [
          "abdominal_linen",
          "anorganic_artifact",
          "background",
          "bladder",
          "blue_cloth",
          "colon",
          "colon_peritoneum",
          "fat_subcutaneous",
          "foil",
          "gallbladder",
          "glove",
          "heart",
          "kidney",
          "kidney_with_Gerotas_fascia",
          "liver",
          "lung",
          "major_vein",
          "metal",
          "muscle",
          "omentum",
          "organic_artifact",
          "pancreas",
          "peritoneum",
          "skin",
          "small_bowel",
          "spleen",
          "stomach",
          "unsure",
          "white_compress"
         ],
         "xaxis": "x4",
         "y": [
          3,
          4,
          6,
          7,
          12,
          12,
          2,
          11,
          9,
          7,
          5,
          4,
          3,
          3,
          12,
          4,
          3,
          7,
          3,
          11,
          6,
          6,
          12,
          12,
          12,
          12,
          12,
          9,
          7
         ],
         "yaxis": "y4"
        },
        {
         "alignmentgroup": "True",
         "customdata": [
          [
           47
          ],
          [
           21
          ],
          [
           20
          ],
          [
           44
          ],
          [
           184
          ],
          [
           166
          ],
          [
           1
          ],
          [
           140
          ],
          [
           89
          ],
          [
           55
          ],
          [
           60
          ],
          [
           37
          ],
          [
           9
          ],
          [
           9
          ],
          [
           138
          ],
          [
           37
          ],
          [
           6
          ],
          [
           109
          ],
          [
           19
          ],
          [
           84
          ],
          [
           47
          ],
          [
           29
          ],
          [
           137
          ],
          [
           152
          ],
          [
           192
          ],
          [
           137
          ],
          [
           126
          ],
          [
           61
          ],
          [
           64
          ]
         ],
         "hovertemplate": "split_name=train_semantic<br>fold_name=fold_P048,P057,P058<br>label_name=%{x}<br># subjects=%{y}<br># images=%{customdata[0]}<extra></extra>",
         "legendgroup": "train_semantic",
         "marker": {
          "color": "#EF553B",
          "pattern": {
           "shape": ""
          }
         },
         "name": "train_semantic",
         "offsetgroup": "train_semantic",
         "orientation": "v",
         "showlegend": false,
         "textposition": "auto",
         "type": "bar",
         "x": [
          "abdominal_linen",
          "anorganic_artifact",
          "background",
          "bladder",
          "blue_cloth",
          "colon",
          "colon_peritoneum",
          "fat_subcutaneous",
          "foil",
          "gallbladder",
          "glove",
          "heart",
          "kidney",
          "kidney_with_Gerotas_fascia",
          "liver",
          "lung",
          "major_vein",
          "metal",
          "muscle",
          "omentum",
          "organic_artifact",
          "pancreas",
          "peritoneum",
          "skin",
          "small_bowel",
          "spleen",
          "stomach",
          "unsure",
          "white_compress"
         ],
         "xaxis": "x",
         "y": [
          4,
          5,
          6,
          7,
          12,
          12,
          1,
          11,
          10,
          7,
          5,
          4,
          2,
          2,
          12,
          4,
          2,
          8,
          4,
          11,
          7,
          5,
          12,
          12,
          12,
          12,
          12,
          11,
          8
         ],
         "yaxis": "y"
        },
        {
         "alignmentgroup": "True",
         "customdata": [
          [
           2
          ],
          [
           2
          ],
          [
           1
          ],
          [
           1
          ],
          [
           6
          ],
          [
           12
          ],
          [
           9
          ],
          [
           8
          ],
          [
           2
          ],
          [
           1
          ],
          [
           1
          ],
          [
           10
          ],
          [
           1
          ],
          [
           4
          ],
          [
           5
          ],
          [
           1
          ],
          [
           2
          ],
          [
           10
          ],
          [
           9
          ],
          [
           11
          ],
          [
           9
          ],
          [
           10
          ],
          [
           4
          ],
          [
           5
          ]
         ],
         "hovertemplate": "split_name=val_semantic_known<br>fold_name=fold_P041,P060,P069<br>label_name=%{x}<br># subjects=%{y}<br># images=%{customdata[0]}<extra></extra>",
         "legendgroup": "val_semantic_known",
         "marker": {
          "color": "#00cc96",
          "pattern": {
           "shape": ""
          }
         },
         "name": "val_semantic_known",
         "offsetgroup": "val_semantic_known",
         "orientation": "v",
         "showlegend": true,
         "textposition": "auto",
         "type": "bar",
         "x": [
          "abdominal_linen",
          "anorganic_artifact",
          "background",
          "bladder",
          "blue_cloth",
          "colon",
          "fat_subcutaneous",
          "foil",
          "gallbladder",
          "glove",
          "kidney",
          "liver",
          "major_vein",
          "metal",
          "omentum",
          "organic_artifact",
          "pancreas",
          "peritoneum",
          "skin",
          "small_bowel",
          "spleen",
          "stomach",
          "unsure",
          "white_compress"
         ],
         "xaxis": "x5",
         "y": [
          2,
          2,
          1,
          1,
          6,
          12,
          9,
          8,
          2,
          1,
          1,
          10,
          1,
          4,
          5,
          1,
          2,
          10,
          9,
          11,
          9,
          10,
          4,
          5
         ],
         "yaxis": "y5"
        },
        {
         "alignmentgroup": "True",
         "customdata": [
          [
           1
          ],
          [
           4
          ],
          [
           2
          ],
          [
           2
          ],
          [
           10
          ],
          [
           10
          ],
          [
           10
          ],
          [
           5
          ],
          [
           4
          ],
          [
           2
          ],
          [
           1
          ],
          [
           11
          ],
          [
           7
          ],
          [
           1
          ],
          [
           7
          ],
          [
           2
          ],
          [
           10
          ],
          [
           10
          ],
          [
           12
          ],
          [
           10
          ],
          [
           10
          ],
          [
           4
          ],
          [
           3
          ]
         ],
         "hovertemplate": "split_name=val_semantic_known<br>fold_name=fold_P044,P050,P059<br>label_name=%{x}<br># subjects=%{y}<br># images=%{customdata[0]}<extra></extra>",
         "legendgroup": "val_semantic_known",
         "marker": {
          "color": "#00cc96",
          "pattern": {
           "shape": ""
          }
         },
         "name": "val_semantic_known",
         "offsetgroup": "val_semantic_known",
         "orientation": "v",
         "showlegend": false,
         "textposition": "auto",
         "type": "bar",
         "x": [
          "abdominal_linen",
          "anorganic_artifact",
          "background",
          "bladder",
          "blue_cloth",
          "colon",
          "fat_subcutaneous",
          "foil",
          "gallbladder",
          "glove",
          "kidney",
          "liver",
          "metal",
          "muscle",
          "omentum",
          "organic_artifact",
          "peritoneum",
          "skin",
          "small_bowel",
          "spleen",
          "stomach",
          "unsure",
          "white_compress"
         ],
         "xaxis": "x6",
         "y": [
          1,
          4,
          2,
          2,
          10,
          10,
          10,
          5,
          4,
          2,
          1,
          11,
          7,
          1,
          7,
          2,
          10,
          10,
          12,
          10,
          10,
          4,
          3
         ],
         "yaxis": "y6"
        },
        {
         "alignmentgroup": "True",
         "customdata": [
          [
           3
          ],
          [
           5
          ],
          [
           3
          ],
          [
           4
          ],
          [
           7
          ],
          [
           9
          ],
          [
           9
          ],
          [
           7
          ],
          [
           3
          ],
          [
           2
          ],
          [
           2
          ],
          [
           1
          ],
          [
           7
          ],
          [
           2
          ],
          [
           1
          ],
          [
           3
          ],
          [
           5
          ],
          [
           2
          ],
          [
           8
          ],
          [
           8
          ],
          [
           10
          ],
          [
           6
          ],
          [
           7
          ],
          [
           5
          ],
          [
           6
          ]
         ],
         "hovertemplate": "split_name=val_semantic_known<br>fold_name=fold_P045,P061,P071<br>label_name=%{x}<br># subjects=%{y}<br># images=%{customdata[0]}<extra></extra>",
         "legendgroup": "val_semantic_known",
         "marker": {
          "color": "#00cc96",
          "pattern": {
           "shape": ""
          }
         },
         "name": "val_semantic_known",
         "offsetgroup": "val_semantic_known",
         "orientation": "v",
         "showlegend": false,
         "textposition": "auto",
         "type": "bar",
         "x": [
          "abdominal_linen",
          "anorganic_artifact",
          "background",
          "bladder",
          "blue_cloth",
          "colon",
          "fat_subcutaneous",
          "foil",
          "gallbladder",
          "glove",
          "heart",
          "kidney_with_Gerotas_fascia",
          "liver",
          "lung",
          "major_vein",
          "metal",
          "omentum",
          "organic_artifact",
          "peritoneum",
          "skin",
          "small_bowel",
          "spleen",
          "stomach",
          "unsure",
          "white_compress"
         ],
         "xaxis": "x3",
         "y": [
          3,
          5,
          3,
          4,
          7,
          9,
          9,
          7,
          3,
          2,
          2,
          1,
          7,
          2,
          1,
          3,
          5,
          2,
          8,
          8,
          10,
          6,
          7,
          5,
          6
         ],
         "yaxis": "y3"
        },
        {
         "alignmentgroup": "True",
         "customdata": [
          [
           1
          ],
          [
           2
          ],
          [
           2
          ],
          [
           9
          ],
          [
           10
          ],
          [
           8
          ],
          [
           6
          ],
          [
           2
          ],
          [
           1
          ],
          [
           1
          ],
          [
           8
          ],
          [
           1
          ],
          [
           5
          ],
          [
           6
          ],
          [
           1
          ],
          [
           1
          ],
          [
           9
          ],
          [
           10
          ],
          [
           11
          ],
          [
           8
          ],
          [
           9
          ],
          [
           4
          ],
          [
           5
          ]
         ],
         "hovertemplate": "split_name=val_semantic_known<br>fold_name=fold_P047,P049,P070<br>label_name=%{x}<br># subjects=%{y}<br># images=%{customdata[0]}<extra></extra>",
         "legendgroup": "val_semantic_known",
         "marker": {
          "color": "#00cc96",
          "pattern": {
           "shape": ""
          }
         },
         "name": "val_semantic_known",
         "offsetgroup": "val_semantic_known",
         "orientation": "v",
         "showlegend": false,
         "textposition": "auto",
         "type": "bar",
         "x": [
          "abdominal_linen",
          "anorganic_artifact",
          "bladder",
          "blue_cloth",
          "colon",
          "fat_subcutaneous",
          "foil",
          "gallbladder",
          "glove",
          "heart",
          "liver",
          "lung",
          "metal",
          "omentum",
          "organic_artifact",
          "pancreas",
          "peritoneum",
          "skin",
          "small_bowel",
          "spleen",
          "stomach",
          "unsure",
          "white_compress"
         ],
         "xaxis": "x4",
         "y": [
          1,
          2,
          2,
          9,
          10,
          8,
          6,
          2,
          1,
          1,
          8,
          1,
          5,
          6,
          1,
          1,
          9,
          10,
          11,
          8,
          9,
          4,
          5
         ],
         "yaxis": "y4"
        },
        {
         "alignmentgroup": "True",
         "customdata": [
          [
           2
          ],
          [
           2
          ],
          [
           1
          ],
          [
           2
          ],
          [
           9
          ],
          [
           10
          ],
          [
           8
          ],
          [
           7
          ],
          [
           5
          ],
          [
           2
          ],
          [
           1
          ],
          [
           8
          ],
          [
           1
          ],
          [
           6
          ],
          [
           1
          ],
          [
           6
          ],
          [
           3
          ],
          [
           1
          ],
          [
           9
          ],
          [
           10
          ],
          [
           10
          ],
          [
           9
          ],
          [
           7
          ],
          [
           3
          ],
          [
           4
          ]
         ],
         "hovertemplate": "split_name=val_semantic_known<br>fold_name=fold_P048,P057,P058<br>label_name=%{x}<br># subjects=%{y}<br># images=%{customdata[0]}<extra></extra>",
         "legendgroup": "val_semantic_known",
         "marker": {
          "color": "#00cc96",
          "pattern": {
           "shape": ""
          }
         },
         "name": "val_semantic_known",
         "offsetgroup": "val_semantic_known",
         "orientation": "v",
         "showlegend": false,
         "textposition": "auto",
         "type": "bar",
         "x": [
          "abdominal_linen",
          "anorganic_artifact",
          "background",
          "bladder",
          "blue_cloth",
          "colon",
          "fat_subcutaneous",
          "foil",
          "gallbladder",
          "glove",
          "heart",
          "liver",
          "lung",
          "metal",
          "muscle",
          "omentum",
          "organic_artifact",
          "pancreas",
          "peritoneum",
          "skin",
          "small_bowel",
          "spleen",
          "stomach",
          "unsure",
          "white_compress"
         ],
         "xaxis": "x",
         "y": [
          2,
          2,
          1,
          2,
          9,
          10,
          8,
          7,
          5,
          2,
          1,
          8,
          1,
          6,
          1,
          6,
          3,
          1,
          9,
          10,
          10,
          9,
          7,
          3,
          4
         ],
         "yaxis": "y"
        },
        {
         "alignmentgroup": "True",
         "customdata": [
          [
           6
          ],
          [
           1
          ],
          [
           17
          ],
          [
           71
          ],
          [
           50
          ],
          [
           23
          ],
          [
           3
          ],
          [
           21
          ],
          [
           15
          ],
          [
           14
          ],
          [
           6
          ],
          [
           43
          ],
          [
           14
          ],
          [
           3
          ],
          [
           39
          ],
          [
           2
          ],
          [
           31
          ],
          [
           14
          ],
          [
           8
          ],
          [
           33
          ],
          [
           30
          ],
          [
           60
          ],
          [
           45
          ],
          [
           41
          ],
          [
           19
          ],
          [
           3
          ]
         ],
         "hovertemplate": "split_name=val_semantic_unknown<br>fold_name=fold_P041,P060,P069<br>label_name=%{x}<br># subjects=%{y}<br># images=%{customdata[0]}<extra></extra>",
         "legendgroup": "val_semantic_unknown",
         "marker": {
          "color": "#ab63fa",
          "pattern": {
           "shape": ""
          }
         },
         "name": "val_semantic_unknown",
         "offsetgroup": "val_semantic_unknown",
         "orientation": "v",
         "showlegend": true,
         "textposition": "auto",
         "type": "bar",
         "x": [
          "abdominal_linen",
          "background",
          "bladder",
          "blue_cloth",
          "colon",
          "fat_subcutaneous",
          "foil",
          "gallbladder",
          "glove",
          "heart",
          "kidney_with_Gerotas_fascia",
          "liver",
          "lung",
          "major_vein",
          "metal",
          "muscle",
          "omentum",
          "organic_artifact",
          "pancreas",
          "peritoneum",
          "skin",
          "small_bowel",
          "spleen",
          "stomach",
          "unsure",
          "white_compress"
         ],
         "xaxis": "x5",
         "y": [
          1,
          1,
          2,
          3,
          3,
          3,
          2,
          2,
          1,
          1,
          1,
          3,
          1,
          1,
          3,
          1,
          3,
          1,
          1,
          3,
          3,
          3,
          3,
          3,
          3,
          2
         ],
         "yaxis": "y5"
        },
        {
         "alignmentgroup": "True",
         "customdata": [
          [
           17
          ],
          [
           2
          ],
          [
           2
          ],
          [
           12
          ],
          [
           36
          ],
          [
           38
          ],
          [
           27
          ],
          [
           27
          ],
          [
           8
          ],
          [
           11
          ],
          [
           6
          ],
          [
           3
          ],
          [
           3
          ],
          [
           27
          ],
          [
           6
          ],
          [
           3
          ],
          [
           1
          ],
          [
           1
          ],
          [
           13
          ],
          [
           2
          ],
          [
           5
          ],
          [
           28
          ],
          [
           28
          ],
          [
           41
          ],
          [
           23
          ],
          [
           12
          ],
          [
           8
          ],
          [
           22
          ]
         ],
         "hovertemplate": "split_name=val_semantic_unknown<br>fold_name=fold_P044,P050,P059<br>label_name=%{x}<br># subjects=%{y}<br># images=%{customdata[0]}<extra></extra>",
         "legendgroup": "val_semantic_unknown",
         "marker": {
          "color": "#ab63fa",
          "pattern": {
           "shape": ""
          }
         },
         "name": "val_semantic_unknown",
         "offsetgroup": "val_semantic_unknown",
         "orientation": "v",
         "showlegend": false,
         "textposition": "auto",
         "type": "bar",
         "x": [
          "abdominal_linen",
          "anorganic_artifact",
          "background",
          "bladder",
          "blue_cloth",
          "colon",
          "fat_subcutaneous",
          "foil",
          "gallbladder",
          "glove",
          "heart",
          "kidney",
          "kidney_with_Gerotas_fascia",
          "liver",
          "lung",
          "major_vein",
          "metal",
          "muscle",
          "omentum",
          "organic_artifact",
          "pancreas",
          "peritoneum",
          "skin",
          "small_bowel",
          "spleen",
          "stomach",
          "unsure",
          "white_compress"
         ],
         "xaxis": "x6",
         "y": [
          1,
          1,
          1,
          1,
          3,
          3,
          2,
          3,
          2,
          1,
          1,
          1,
          1,
          3,
          1,
          1,
          1,
          1,
          3,
          1,
          1,
          3,
          3,
          3,
          3,
          3,
          2,
          2
         ],
         "yaxis": "y6"
        },
        {
         "alignmentgroup": "True",
         "customdata": [
          [
           6
          ],
          [
           2
          ],
          [
           4
          ],
          [
           10
          ],
          [
           52
          ],
          [
           37
          ],
          [
           1
          ],
          [
           44
          ],
          [
           27
          ],
          [
           5
          ],
          [
           15
          ],
          [
           4
          ],
          [
           6
          ],
          [
           36
          ],
          [
           4
          ],
          [
           35
          ],
          [
           4
          ],
          [
           24
          ],
          [
           11
          ],
          [
           8
          ],
          [
           34
          ],
          [
           50
          ],
          [
           50
          ],
          [
           39
          ],
          [
           40
          ],
          [
           11
          ],
          [
           18
          ]
         ],
         "hovertemplate": "split_name=val_semantic_unknown<br>fold_name=fold_P045,P061,P071<br>label_name=%{x}<br># subjects=%{y}<br># images=%{customdata[0]}<extra></extra>",
         "legendgroup": "val_semantic_unknown",
         "marker": {
          "color": "#ab63fa",
          "pattern": {
           "shape": ""
          }
         },
         "name": "val_semantic_unknown",
         "offsetgroup": "val_semantic_unknown",
         "orientation": "v",
         "showlegend": false,
         "textposition": "auto",
         "type": "bar",
         "x": [
          "abdominal_linen",
          "anorganic_artifact",
          "background",
          "bladder",
          "blue_cloth",
          "colon",
          "colon_peritoneum",
          "fat_subcutaneous",
          "foil",
          "gallbladder",
          "glove",
          "heart",
          "kidney",
          "liver",
          "lung",
          "metal",
          "muscle",
          "omentum",
          "organic_artifact",
          "pancreas",
          "peritoneum",
          "skin",
          "small_bowel",
          "spleen",
          "stomach",
          "unsure",
          "white_compress"
         ],
         "xaxis": "x3",
         "y": [
          1,
          1,
          2,
          2,
          3,
          3,
          1,
          3,
          2,
          1,
          2,
          1,
          1,
          3,
          1,
          2,
          1,
          3,
          2,
          2,
          3,
          3,
          3,
          3,
          3,
          3,
          1
         ],
         "yaxis": "y3"
        },
        {
         "alignmentgroup": "True",
         "customdata": [
          [
           20
          ],
          [
           19
          ],
          [
           14
          ],
          [
           7
          ],
          [
           34
          ],
          [
           51
          ],
          [
           54
          ],
          [
           39
          ],
          [
           26
          ],
          [
           21
          ],
          [
           14
          ],
          [
           40
          ],
          [
           14
          ],
          [
           40
          ],
          [
           13
          ],
          [
           22
          ],
          [
           23
          ],
          [
           9
          ],
          [
           51
          ],
          [
           54
          ],
          [
           51
          ],
          [
           39
          ],
          [
           40
          ],
          [
           26
          ],
          [
           25
          ]
         ],
         "hovertemplate": "split_name=val_semantic_unknown<br>fold_name=fold_P047,P049,P070<br>label_name=%{x}<br># subjects=%{y}<br># images=%{customdata[0]}<extra></extra>",
         "legendgroup": "val_semantic_unknown",
         "marker": {
          "color": "#ab63fa",
          "pattern": {
           "shape": ""
          }
         },
         "name": "val_semantic_unknown",
         "offsetgroup": "val_semantic_unknown",
         "orientation": "v",
         "showlegend": false,
         "textposition": "auto",
         "type": "bar",
         "x": [
          "abdominal_linen",
          "anorganic_artifact",
          "background",
          "bladder",
          "blue_cloth",
          "colon",
          "fat_subcutaneous",
          "foil",
          "gallbladder",
          "glove",
          "heart",
          "liver",
          "lung",
          "metal",
          "muscle",
          "omentum",
          "organic_artifact",
          "pancreas",
          "peritoneum",
          "skin",
          "small_bowel",
          "spleen",
          "stomach",
          "unsure",
          "white_compress"
         ],
         "xaxis": "x4",
         "y": [
          1,
          3,
          2,
          2,
          3,
          3,
          3,
          3,
          2,
          1,
          1,
          3,
          1,
          2,
          1,
          2,
          3,
          1,
          3,
          3,
          3,
          3,
          3,
          3,
          3
         ],
         "yaxis": "y4"
        },
        {
         "alignmentgroup": "True",
         "customdata": [
          [
           25
          ],
          [
           5
          ],
          [
           13
          ],
          [
           86
          ],
          [
           67
          ],
          [
           6
          ],
          [
           56
          ],
          [
           39
          ],
          [
           14
          ],
          [
           7
          ],
          [
           13
          ],
          [
           8
          ],
          [
           15
          ],
          [
           64
          ],
          [
           13
          ],
          [
           8
          ],
          [
           17
          ],
          [
           36
          ],
          [
           10
          ],
          [
           19
          ],
          [
           62
          ],
          [
           58
          ],
          [
           68
          ],
          [
           49
          ],
          [
           39
          ],
          [
           25
          ],
          [
           30
          ]
         ],
         "hovertemplate": "split_name=val_semantic_unknown<br>fold_name=fold_P048,P057,P058<br>label_name=%{x}<br># subjects=%{y}<br># images=%{customdata[0]}<extra></extra>",
         "legendgroup": "val_semantic_unknown",
         "marker": {
          "color": "#ab63fa",
          "pattern": {
           "shape": ""
          }
         },
         "name": "val_semantic_unknown",
         "offsetgroup": "val_semantic_unknown",
         "orientation": "v",
         "showlegend": false,
         "textposition": "auto",
         "type": "bar",
         "x": [
          "anorganic_artifact",
          "background",
          "bladder",
          "blue_cloth",
          "colon",
          "colon_peritoneum",
          "fat_subcutaneous",
          "foil",
          "gallbladder",
          "glove",
          "heart",
          "kidney",
          "kidney_with_Gerotas_fascia",
          "liver",
          "lung",
          "major_vein",
          "metal",
          "omentum",
          "organic_artifact",
          "pancreas",
          "peritoneum",
          "skin",
          "small_bowel",
          "spleen",
          "stomach",
          "unsure",
          "white_compress"
         ],
         "xaxis": "x",
         "y": [
          2,
          2,
          2,
          3,
          3,
          1,
          3,
          2,
          2,
          1,
          1,
          1,
          1,
          3,
          1,
          1,
          1,
          2,
          2,
          2,
          3,
          3,
          3,
          3,
          3,
          3,
          2
         ],
         "yaxis": "y"
        }
       ],
       "layout": {
        "annotations": [
         {
          "font": {},
          "showarrow": false,
          "text": "fold_name=fold_P048,P057,P058",
          "x": 0.245,
          "xanchor": "center",
          "xref": "paper",
          "y": 0.2866666666666666,
          "yanchor": "bottom",
          "yref": "paper"
         },
         {
          "font": {},
          "showarrow": false,
          "text": "fold_name=fold_P045,P061,P071",
          "x": 0.245,
          "xanchor": "center",
          "xref": "paper",
          "y": 0.6433333333333333,
          "yanchor": "bottom",
          "yref": "paper"
         },
         {
          "font": {},
          "showarrow": false,
          "text": "fold_name=fold_P047,P049,P070",
          "x": 0.755,
          "xanchor": "center",
          "xref": "paper",
          "y": 0.6433333333333333,
          "yanchor": "bottom",
          "yref": "paper"
         },
         {
          "font": {},
          "showarrow": false,
          "text": "fold_name=fold_P041,P060,P069",
          "x": 0.245,
          "xanchor": "center",
          "xref": "paper",
          "y": 1.0,
          "yanchor": "bottom",
          "yref": "paper"
         },
         {
          "font": {},
          "showarrow": false,
          "text": "fold_name=fold_P044,P050,P059",
          "x": 0.755,
          "xanchor": "center",
          "xref": "paper",
          "y": 1.0,
          "yanchor": "bottom",
          "yref": "paper"
         }
        ],
        "barmode": "relative",
        "height": 800,
        "legend": {
         "title": {
          "text": "split_name"
         },
         "tracegroupgap": 0
        },
        "margin": {
         "t": 60
        },
        "template": {
         "data": {
          "bar": [
           {
            "error_x": {
             "color": "#2a3f5f"
            },
            "error_y": {
             "color": "#2a3f5f"
            },
            "marker": {
             "line": {
              "color": "white",
              "width": 0.5
             },
             "pattern": {
              "fillmode": "overlay",
              "size": 10,
              "solidity": 0.2
             }
            },
            "type": "bar"
           }
          ],
          "barpolar": [
           {
            "marker": {
             "line": {
              "color": "white",
              "width": 0.5
             },
             "pattern": {
              "fillmode": "overlay",
              "size": 10,
              "solidity": 0.2
             }
            },
            "type": "barpolar"
           }
          ],
          "carpet": [
           {
            "aaxis": {
             "endlinecolor": "#2a3f5f",
             "gridcolor": "#C8D4E3",
             "linecolor": "#C8D4E3",
             "minorgridcolor": "#C8D4E3",
             "startlinecolor": "#2a3f5f"
            },
            "baxis": {
             "endlinecolor": "#2a3f5f",
             "gridcolor": "#C8D4E3",
             "linecolor": "#C8D4E3",
             "minorgridcolor": "#C8D4E3",
             "startlinecolor": "#2a3f5f"
            },
            "type": "carpet"
           }
          ],
          "choropleth": [
           {
            "colorbar": {
             "outlinewidth": 0,
             "ticks": ""
            },
            "type": "choropleth"
           }
          ],
          "contour": [
           {
            "colorbar": {
             "outlinewidth": 0,
             "ticks": ""
            },
            "colorscale": [
             [
              0,
              "#0d0887"
             ],
             [
              0.1111111111111111,
              "#46039f"
             ],
             [
              0.2222222222222222,
              "#7201a8"
             ],
             [
              0.3333333333333333,
              "#9c179e"
             ],
             [
              0.4444444444444444,
              "#bd3786"
             ],
             [
              0.5555555555555556,
              "#d8576b"
             ],
             [
              0.6666666666666666,
              "#ed7953"
             ],
             [
              0.7777777777777778,
              "#fb9f3a"
             ],
             [
              0.8888888888888888,
              "#fdca26"
             ],
             [
              1,
              "#f0f921"
             ]
            ],
            "type": "contour"
           }
          ],
          "contourcarpet": [
           {
            "colorbar": {
             "outlinewidth": 0,
             "ticks": ""
            },
            "type": "contourcarpet"
           }
          ],
          "heatmap": [
           {
            "colorbar": {
             "outlinewidth": 0,
             "ticks": ""
            },
            "colorscale": [
             [
              0,
              "#0d0887"
             ],
             [
              0.1111111111111111,
              "#46039f"
             ],
             [
              0.2222222222222222,
              "#7201a8"
             ],
             [
              0.3333333333333333,
              "#9c179e"
             ],
             [
              0.4444444444444444,
              "#bd3786"
             ],
             [
              0.5555555555555556,
              "#d8576b"
             ],
             [
              0.6666666666666666,
              "#ed7953"
             ],
             [
              0.7777777777777778,
              "#fb9f3a"
             ],
             [
              0.8888888888888888,
              "#fdca26"
             ],
             [
              1,
              "#f0f921"
             ]
            ],
            "type": "heatmap"
           }
          ],
          "heatmapgl": [
           {
            "colorbar": {
             "outlinewidth": 0,
             "ticks": ""
            },
            "colorscale": [
             [
              0,
              "#0d0887"
             ],
             [
              0.1111111111111111,
              "#46039f"
             ],
             [
              0.2222222222222222,
              "#7201a8"
             ],
             [
              0.3333333333333333,
              "#9c179e"
             ],
             [
              0.4444444444444444,
              "#bd3786"
             ],
             [
              0.5555555555555556,
              "#d8576b"
             ],
             [
              0.6666666666666666,
              "#ed7953"
             ],
             [
              0.7777777777777778,
              "#fb9f3a"
             ],
             [
              0.8888888888888888,
              "#fdca26"
             ],
             [
              1,
              "#f0f921"
             ]
            ],
            "type": "heatmapgl"
           }
          ],
          "histogram": [
           {
            "marker": {
             "pattern": {
              "fillmode": "overlay",
              "size": 10,
              "solidity": 0.2
             }
            },
            "type": "histogram"
           }
          ],
          "histogram2d": [
           {
            "colorbar": {
             "outlinewidth": 0,
             "ticks": ""
            },
            "colorscale": [
             [
              0,
              "#0d0887"
             ],
             [
              0.1111111111111111,
              "#46039f"
             ],
             [
              0.2222222222222222,
              "#7201a8"
             ],
             [
              0.3333333333333333,
              "#9c179e"
             ],
             [
              0.4444444444444444,
              "#bd3786"
             ],
             [
              0.5555555555555556,
              "#d8576b"
             ],
             [
              0.6666666666666666,
              "#ed7953"
             ],
             [
              0.7777777777777778,
              "#fb9f3a"
             ],
             [
              0.8888888888888888,
              "#fdca26"
             ],
             [
              1,
              "#f0f921"
             ]
            ],
            "type": "histogram2d"
           }
          ],
          "histogram2dcontour": [
           {
            "colorbar": {
             "outlinewidth": 0,
             "ticks": ""
            },
            "colorscale": [
             [
              0,
              "#0d0887"
             ],
             [
              0.1111111111111111,
              "#46039f"
             ],
             [
              0.2222222222222222,
              "#7201a8"
             ],
             [
              0.3333333333333333,
              "#9c179e"
             ],
             [
              0.4444444444444444,
              "#bd3786"
             ],
             [
              0.5555555555555556,
              "#d8576b"
             ],
             [
              0.6666666666666666,
              "#ed7953"
             ],
             [
              0.7777777777777778,
              "#fb9f3a"
             ],
             [
              0.8888888888888888,
              "#fdca26"
             ],
             [
              1,
              "#f0f921"
             ]
            ],
            "type": "histogram2dcontour"
           }
          ],
          "mesh3d": [
           {
            "colorbar": {
             "outlinewidth": 0,
             "ticks": ""
            },
            "type": "mesh3d"
           }
          ],
          "parcoords": [
           {
            "line": {
             "colorbar": {
              "outlinewidth": 0,
              "ticks": ""
             }
            },
            "type": "parcoords"
           }
          ],
          "pie": [
           {
            "automargin": true,
            "type": "pie"
           }
          ],
          "scatter": [
           {
            "fillpattern": {
             "fillmode": "overlay",
             "size": 10,
             "solidity": 0.2
            },
            "type": "scatter"
           }
          ],
          "scatter3d": [
           {
            "line": {
             "colorbar": {
              "outlinewidth": 0,
              "ticks": ""
             }
            },
            "marker": {
             "colorbar": {
              "outlinewidth": 0,
              "ticks": ""
             }
            },
            "type": "scatter3d"
           }
          ],
          "scattercarpet": [
           {
            "marker": {
             "colorbar": {
              "outlinewidth": 0,
              "ticks": ""
             }
            },
            "type": "scattercarpet"
           }
          ],
          "scattergeo": [
           {
            "marker": {
             "colorbar": {
              "outlinewidth": 0,
              "ticks": ""
             }
            },
            "type": "scattergeo"
           }
          ],
          "scattergl": [
           {
            "marker": {
             "colorbar": {
              "outlinewidth": 0,
              "ticks": ""
             }
            },
            "type": "scattergl"
           }
          ],
          "scattermapbox": [
           {
            "marker": {
             "colorbar": {
              "outlinewidth": 0,
              "ticks": ""
             }
            },
            "type": "scattermapbox"
           }
          ],
          "scatterpolar": [
           {
            "marker": {
             "colorbar": {
              "outlinewidth": 0,
              "ticks": ""
             }
            },
            "type": "scatterpolar"
           }
          ],
          "scatterpolargl": [
           {
            "marker": {
             "colorbar": {
              "outlinewidth": 0,
              "ticks": ""
             }
            },
            "type": "scatterpolargl"
           }
          ],
          "scatterternary": [
           {
            "marker": {
             "colorbar": {
              "outlinewidth": 0,
              "ticks": ""
             }
            },
            "type": "scatterternary"
           }
          ],
          "surface": [
           {
            "colorbar": {
             "outlinewidth": 0,
             "ticks": ""
            },
            "colorscale": [
             [
              0,
              "#0d0887"
             ],
             [
              0.1111111111111111,
              "#46039f"
             ],
             [
              0.2222222222222222,
              "#7201a8"
             ],
             [
              0.3333333333333333,
              "#9c179e"
             ],
             [
              0.4444444444444444,
              "#bd3786"
             ],
             [
              0.5555555555555556,
              "#d8576b"
             ],
             [
              0.6666666666666666,
              "#ed7953"
             ],
             [
              0.7777777777777778,
              "#fb9f3a"
             ],
             [
              0.8888888888888888,
              "#fdca26"
             ],
             [
              1,
              "#f0f921"
             ]
            ],
            "type": "surface"
           }
          ],
          "table": [
           {
            "cells": {
             "fill": {
              "color": "#EBF0F8"
             },
             "line": {
              "color": "white"
             }
            },
            "header": {
             "fill": {
              "color": "#C8D4E3"
             },
             "line": {
              "color": "white"
             }
            },
            "type": "table"
           }
          ]
         },
         "layout": {
          "annotationdefaults": {
           "arrowcolor": "#2a3f5f",
           "arrowhead": 0,
           "arrowwidth": 1
          },
          "autotypenumbers": "strict",
          "coloraxis": {
           "colorbar": {
            "outlinewidth": 0,
            "ticks": ""
           }
          },
          "colorscale": {
           "diverging": [
            [
             0,
             "#8e0152"
            ],
            [
             0.1,
             "#c51b7d"
            ],
            [
             0.2,
             "#de77ae"
            ],
            [
             0.3,
             "#f1b6da"
            ],
            [
             0.4,
             "#fde0ef"
            ],
            [
             0.5,
             "#f7f7f7"
            ],
            [
             0.6,
             "#e6f5d0"
            ],
            [
             0.7,
             "#b8e186"
            ],
            [
             0.8,
             "#7fbc41"
            ],
            [
             0.9,
             "#4d9221"
            ],
            [
             1,
             "#276419"
            ]
           ],
           "sequential": [
            [
             0,
             "#0d0887"
            ],
            [
             0.1111111111111111,
             "#46039f"
            ],
            [
             0.2222222222222222,
             "#7201a8"
            ],
            [
             0.3333333333333333,
             "#9c179e"
            ],
            [
             0.4444444444444444,
             "#bd3786"
            ],
            [
             0.5555555555555556,
             "#d8576b"
            ],
            [
             0.6666666666666666,
             "#ed7953"
            ],
            [
             0.7777777777777778,
             "#fb9f3a"
            ],
            [
             0.8888888888888888,
             "#fdca26"
            ],
            [
             1,
             "#f0f921"
            ]
           ],
           "sequentialminus": [
            [
             0,
             "#0d0887"
            ],
            [
             0.1111111111111111,
             "#46039f"
            ],
            [
             0.2222222222222222,
             "#7201a8"
            ],
            [
             0.3333333333333333,
             "#9c179e"
            ],
            [
             0.4444444444444444,
             "#bd3786"
            ],
            [
             0.5555555555555556,
             "#d8576b"
            ],
            [
             0.6666666666666666,
             "#ed7953"
            ],
            [
             0.7777777777777778,
             "#fb9f3a"
            ],
            [
             0.8888888888888888,
             "#fdca26"
            ],
            [
             1,
             "#f0f921"
            ]
           ]
          },
          "colorway": [
           "#636efa",
           "#EF553B",
           "#00cc96",
           "#ab63fa",
           "#FFA15A",
           "#19d3f3",
           "#FF6692",
           "#B6E880",
           "#FF97FF",
           "#FECB52"
          ],
          "font": {
           "color": "#2a3f5f"
          },
          "geo": {
           "bgcolor": "white",
           "lakecolor": "white",
           "landcolor": "white",
           "showlakes": true,
           "showland": true,
           "subunitcolor": "#C8D4E3"
          },
          "hoverlabel": {
           "align": "left"
          },
          "hovermode": "closest",
          "mapbox": {
           "style": "light"
          },
          "paper_bgcolor": "white",
          "plot_bgcolor": "white",
          "polar": {
           "angularaxis": {
            "gridcolor": "#EBF0F8",
            "linecolor": "#EBF0F8",
            "ticks": ""
           },
           "bgcolor": "white",
           "radialaxis": {
            "gridcolor": "#EBF0F8",
            "linecolor": "#EBF0F8",
            "ticks": ""
           }
          },
          "scene": {
           "xaxis": {
            "backgroundcolor": "white",
            "gridcolor": "#DFE8F3",
            "gridwidth": 2,
            "linecolor": "#EBF0F8",
            "showbackground": true,
            "ticks": "",
            "zerolinecolor": "#EBF0F8"
           },
           "yaxis": {
            "backgroundcolor": "white",
            "gridcolor": "#DFE8F3",
            "gridwidth": 2,
            "linecolor": "#EBF0F8",
            "showbackground": true,
            "ticks": "",
            "zerolinecolor": "#EBF0F8"
           },
           "zaxis": {
            "backgroundcolor": "white",
            "gridcolor": "#DFE8F3",
            "gridwidth": 2,
            "linecolor": "#EBF0F8",
            "showbackground": true,
            "ticks": "",
            "zerolinecolor": "#EBF0F8"
           }
          },
          "shapedefaults": {
           "line": {
            "color": "#2a3f5f"
           }
          },
          "ternary": {
           "aaxis": {
            "gridcolor": "#DFE8F3",
            "linecolor": "#A2B1C6",
            "ticks": ""
           },
           "baxis": {
            "gridcolor": "#DFE8F3",
            "linecolor": "#A2B1C6",
            "ticks": ""
           },
           "bgcolor": "white",
           "caxis": {
            "gridcolor": "#DFE8F3",
            "linecolor": "#A2B1C6",
            "ticks": ""
           }
          },
          "title": {
           "x": 0.05
          },
          "xaxis": {
           "automargin": true,
           "gridcolor": "#EBF0F8",
           "linecolor": "#EBF0F8",
           "ticks": "",
           "title": {
            "standoff": 15
           },
           "zerolinecolor": "#EBF0F8",
           "zerolinewidth": 2
          },
          "yaxis": {
           "automargin": true,
           "gridcolor": "#EBF0F8",
           "linecolor": "#EBF0F8",
           "ticks": "",
           "title": {
            "standoff": 15
           },
           "zerolinecolor": "#EBF0F8",
           "zerolinewidth": 2
          }
         }
        },
        "title": {
         "text": "image-level label distribution for each fold and split for the spec pigs_semantic-only_5foldsV2",
         "x": 0.5
        },
        "width": 1200,
        "xaxis": {
         "anchor": "y",
         "domain": [
          0,
          0.49
         ],
         "title": {
          "text": "label_name"
         }
        },
        "xaxis2": {
         "anchor": "y2",
         "domain": [
          0.51,
          1
         ],
         "matches": "x",
         "title": {
          "text": "label_name"
         }
        },
        "xaxis3": {
         "anchor": "y3",
         "domain": [
          0,
          0.49
         ],
         "matches": "x",
         "showticklabels": false
        },
        "xaxis4": {
         "anchor": "y4",
         "domain": [
          0.51,
          1
         ],
         "matches": "x",
         "showticklabels": false
        },
        "xaxis5": {
         "anchor": "y5",
         "domain": [
          0,
          0.49
         ],
         "matches": "x",
         "showticklabels": false
        },
        "xaxis6": {
         "anchor": "y6",
         "domain": [
          0.51,
          1
         ],
         "matches": "x",
         "showticklabels": false
        },
        "yaxis": {
         "anchor": "x",
         "domain": [
          0,
          0.2866666666666666
         ],
         "title": {
          "text": "# subjects"
         }
        },
        "yaxis2": {
         "anchor": "x2",
         "domain": [
          0,
          0.2866666666666666
         ],
         "matches": "y",
         "showticklabels": false
        },
        "yaxis3": {
         "anchor": "x3",
         "domain": [
          0.35666666666666663,
          0.6433333333333333
         ],
         "matches": "y",
         "title": {
          "text": "# subjects"
         }
        },
        "yaxis4": {
         "anchor": "x4",
         "domain": [
          0.35666666666666663,
          0.6433333333333333
         ],
         "matches": "y",
         "showticklabels": false
        },
        "yaxis5": {
         "anchor": "x5",
         "domain": [
          0.7133333333333333,
          1.0
         ],
         "matches": "y",
         "title": {
          "text": "# subjects"
         }
        },
        "yaxis6": {
         "anchor": "x6",
         "domain": [
          0.7133333333333333,
          1.0
         ],
         "matches": "y",
         "showticklabels": false
        }
       }
      },
      "text/html": [
       "<div>                            <div id=\"0442027a-af1f-495b-bf86-589578df43e4\" class=\"plotly-graph-div\" style=\"height:800px; width:1200px;\"></div>            <script type=\"text/javascript\">                require([\"plotly\"], function(Plotly) {                    window.PLOTLYENV=window.PLOTLYENV || {};                                    if (document.getElementById(\"0442027a-af1f-495b-bf86-589578df43e4\")) {                    Plotly.newPlot(                        \"0442027a-af1f-495b-bf86-589578df43e4\",                        [{\"alignmentgroup\":\"True\",\"customdata\":[[38],[17],[12],[56],[152],[88],[93],[40],[52],[73],[28],[26],[11],[104],[28],[18],[105],[18],[67],[50],[18],[91],[89],[135],[75],[92],[1],[46],[13]],\"hovertemplate\":\"split_name=test\\u003cbr\\u003efold_name=fold_P041,P060,P069\\u003cbr\\u003elabel_name=%{x}\\u003cbr\\u003e# subjects=%{y}\\u003cbr\\u003e# images=%{customdata[0]}\\u003cextra\\u003e\\u003c\\u002fextra\\u003e\",\"legendgroup\":\"test\",\"marker\":{\"color\":\"#636efa\",\"pattern\":{\"shape\":\"\"}},\"name\":\"test\",\"offsetgroup\":\"test\",\"orientation\":\"v\",\"showlegend\":true,\"textposition\":\"auto\",\"x\":[\"abdominal_linen\",\"anorganic_artifact\",\"background\",\"bladder\",\"blue_cloth\",\"colon\",\"fat_subcutaneous\",\"foil\",\"gallbladder\",\"glove\",\"heart\",\"kidney\",\"kidney_with_Gerotas_fascia\",\"liver\",\"lung\",\"major_vein\",\"metal\",\"muscle\",\"omentum\",\"organic_artifact\",\"pancreas\",\"peritoneum\",\"skin\",\"small_bowel\",\"spleen\",\"stomach\",\"tube\",\"unsure\",\"white_compress\"],\"xaxis\":\"x5\",\"y\":[2,3,3,5,5,5,4,3,4,4,3,2,2,5,3,2,4,2,5,4,3,4,4,5,4,5,1,4,2],\"yaxis\":\"y5\",\"type\":\"bar\"},{\"alignmentgroup\":\"True\",\"customdata\":[[38],[17],[12],[56],[152],[88],[93],[40],[52],[73],[28],[26],[11],[104],[28],[18],[105],[18],[67],[50],[18],[91],[89],[135],[75],[92],[1],[46],[13]],\"hovertemplate\":\"split_name=test\\u003cbr\\u003efold_name=fold_P044,P050,P059\\u003cbr\\u003elabel_name=%{x}\\u003cbr\\u003e# subjects=%{y}\\u003cbr\\u003e# images=%{customdata[0]}\\u003cextra\\u003e\\u003c\\u002fextra\\u003e\",\"legendgroup\":\"test\",\"marker\":{\"color\":\"#636efa\",\"pattern\":{\"shape\":\"\"}},\"name\":\"test\",\"offsetgroup\":\"test\",\"orientation\":\"v\",\"showlegend\":false,\"textposition\":\"auto\",\"x\":[\"abdominal_linen\",\"anorganic_artifact\",\"background\",\"bladder\",\"blue_cloth\",\"colon\",\"fat_subcutaneous\",\"foil\",\"gallbladder\",\"glove\",\"heart\",\"kidney\",\"kidney_with_Gerotas_fascia\",\"liver\",\"lung\",\"major_vein\",\"metal\",\"muscle\",\"omentum\",\"organic_artifact\",\"pancreas\",\"peritoneum\",\"skin\",\"small_bowel\",\"spleen\",\"stomach\",\"tube\",\"unsure\",\"white_compress\"],\"xaxis\":\"x6\",\"y\":[2,3,3,5,5,5,4,3,4,4,3,2,2,5,3,2,4,2,5,4,3,4,4,5,4,5,1,4,2],\"yaxis\":\"y6\",\"type\":\"bar\"},{\"alignmentgroup\":\"True\",\"customdata\":[[38],[17],[12],[56],[152],[88],[93],[40],[52],[73],[28],[26],[11],[104],[28],[18],[105],[18],[67],[50],[18],[91],[89],[135],[75],[92],[1],[46],[13]],\"hovertemplate\":\"split_name=test\\u003cbr\\u003efold_name=fold_P045,P061,P071\\u003cbr\\u003elabel_name=%{x}\\u003cbr\\u003e# subjects=%{y}\\u003cbr\\u003e# images=%{customdata[0]}\\u003cextra\\u003e\\u003c\\u002fextra\\u003e\",\"legendgroup\":\"test\",\"marker\":{\"color\":\"#636efa\",\"pattern\":{\"shape\":\"\"}},\"name\":\"test\",\"offsetgroup\":\"test\",\"orientation\":\"v\",\"showlegend\":false,\"textposition\":\"auto\",\"x\":[\"abdominal_linen\",\"anorganic_artifact\",\"background\",\"bladder\",\"blue_cloth\",\"colon\",\"fat_subcutaneous\",\"foil\",\"gallbladder\",\"glove\",\"heart\",\"kidney\",\"kidney_with_Gerotas_fascia\",\"liver\",\"lung\",\"major_vein\",\"metal\",\"muscle\",\"omentum\",\"organic_artifact\",\"pancreas\",\"peritoneum\",\"skin\",\"small_bowel\",\"spleen\",\"stomach\",\"tube\",\"unsure\",\"white_compress\"],\"xaxis\":\"x3\",\"y\":[2,3,3,5,5,5,4,3,4,4,3,2,2,5,3,2,4,2,5,4,3,4,4,5,4,5,1,4,2],\"yaxis\":\"y3\",\"type\":\"bar\"},{\"alignmentgroup\":\"True\",\"customdata\":[[38],[17],[12],[56],[152],[88],[93],[40],[52],[73],[28],[26],[11],[104],[28],[18],[105],[18],[67],[50],[18],[91],[89],[135],[75],[92],[1],[46],[13]],\"hovertemplate\":\"split_name=test\\u003cbr\\u003efold_name=fold_P047,P049,P070\\u003cbr\\u003elabel_name=%{x}\\u003cbr\\u003e# subjects=%{y}\\u003cbr\\u003e# images=%{customdata[0]}\\u003cextra\\u003e\\u003c\\u002fextra\\u003e\",\"legendgroup\":\"test\",\"marker\":{\"color\":\"#636efa\",\"pattern\":{\"shape\":\"\"}},\"name\":\"test\",\"offsetgroup\":\"test\",\"orientation\":\"v\",\"showlegend\":false,\"textposition\":\"auto\",\"x\":[\"abdominal_linen\",\"anorganic_artifact\",\"background\",\"bladder\",\"blue_cloth\",\"colon\",\"fat_subcutaneous\",\"foil\",\"gallbladder\",\"glove\",\"heart\",\"kidney\",\"kidney_with_Gerotas_fascia\",\"liver\",\"lung\",\"major_vein\",\"metal\",\"muscle\",\"omentum\",\"organic_artifact\",\"pancreas\",\"peritoneum\",\"skin\",\"small_bowel\",\"spleen\",\"stomach\",\"tube\",\"unsure\",\"white_compress\"],\"xaxis\":\"x4\",\"y\":[2,3,3,5,5,5,4,3,4,4,3,2,2,5,3,2,4,2,5,4,3,4,4,5,4,5,1,4,2],\"yaxis\":\"y4\",\"type\":\"bar\"},{\"alignmentgroup\":\"True\",\"customdata\":[[38],[17],[12],[56],[152],[88],[93],[40],[52],[73],[28],[26],[11],[104],[28],[18],[105],[18],[67],[50],[18],[91],[89],[135],[75],[92],[1],[46],[13]],\"hovertemplate\":\"split_name=test\\u003cbr\\u003efold_name=fold_P048,P057,P058\\u003cbr\\u003elabel_name=%{x}\\u003cbr\\u003e# subjects=%{y}\\u003cbr\\u003e# images=%{customdata[0]}\\u003cextra\\u003e\\u003c\\u002fextra\\u003e\",\"legendgroup\":\"test\",\"marker\":{\"color\":\"#636efa\",\"pattern\":{\"shape\":\"\"}},\"name\":\"test\",\"offsetgroup\":\"test\",\"orientation\":\"v\",\"showlegend\":false,\"textposition\":\"auto\",\"x\":[\"abdominal_linen\",\"anorganic_artifact\",\"background\",\"bladder\",\"blue_cloth\",\"colon\",\"fat_subcutaneous\",\"foil\",\"gallbladder\",\"glove\",\"heart\",\"kidney\",\"kidney_with_Gerotas_fascia\",\"liver\",\"lung\",\"major_vein\",\"metal\",\"muscle\",\"omentum\",\"organic_artifact\",\"pancreas\",\"peritoneum\",\"skin\",\"small_bowel\",\"spleen\",\"stomach\",\"tube\",\"unsure\",\"white_compress\"],\"xaxis\":\"x\",\"y\":[2,3,3,5,5,5,4,3,4,4,3,2,2,5,3,2,4,2,5,4,3,4,4,5,4,5,1,4,2],\"yaxis\":\"y\",\"type\":\"bar\"},{\"alignmentgroup\":\"True\",\"customdata\":[[41],[46],[24],[41],[202],[181],[7],[172],[124],[51],[53],[37],[16],[18],[157],[37],[10],[89],[18],[90],[45],[39],[165],[181],[199],[141],[121],[66],[90]],\"hovertemplate\":\"split_name=train_semantic\\u003cbr\\u003efold_name=fold_P041,P060,P069\\u003cbr\\u003elabel_name=%{x}\\u003cbr\\u003e# subjects=%{y}\\u003cbr\\u003e# images=%{customdata[0]}\\u003cextra\\u003e\\u003c\\u002fextra\\u003e\",\"legendgroup\":\"train_semantic\",\"marker\":{\"color\":\"#EF553B\",\"pattern\":{\"shape\":\"\"}},\"name\":\"train_semantic\",\"offsetgroup\":\"train_semantic\",\"orientation\":\"v\",\"showlegend\":true,\"textposition\":\"auto\",\"x\":[\"abdominal_linen\",\"anorganic_artifact\",\"background\",\"bladder\",\"blue_cloth\",\"colon\",\"colon_peritoneum\",\"fat_subcutaneous\",\"foil\",\"gallbladder\",\"glove\",\"heart\",\"kidney\",\"kidney_with_Gerotas_fascia\",\"liver\",\"lung\",\"major_vein\",\"metal\",\"muscle\",\"omentum\",\"organic_artifact\",\"pancreas\",\"peritoneum\",\"skin\",\"small_bowel\",\"spleen\",\"stomach\",\"unsure\",\"white_compress\"],\"xaxis\":\"x5\",\"y\":[3,7,7,7,12,12,2,11,10,7,5,4,3,2,12,4,2,6,3,10,8,6,12,12,12,12,12,10,8],\"yaxis\":\"y5\",\"type\":\"bar\"},{\"alignmentgroup\":\"True\",\"customdata\":[[31],[42],[22],[45],[233],[195],[7],[167],[103],[62],[56],[45],[13],[21],[172],[45],[11],[124],[18],[106],[56],[44],[170],[182],[217],[162],[150],[77],[73]],\"hovertemplate\":\"split_name=train_semantic\\u003cbr\\u003efold_name=fold_P044,P050,P059\\u003cbr\\u003elabel_name=%{x}\\u003cbr\\u003e# subjects=%{y}\\u003cbr\\u003e# images=%{customdata[0]}\\u003cextra\\u003e\\u003c\\u002fextra\\u003e\",\"legendgroup\":\"train_semantic\",\"marker\":{\"color\":\"#EF553B\",\"pattern\":{\"shape\":\"\"}},\"name\":\"train_semantic\",\"offsetgroup\":\"train_semantic\",\"orientation\":\"v\",\"showlegend\":false,\"textposition\":\"auto\",\"x\":[\"abdominal_linen\",\"anorganic_artifact\",\"background\",\"bladder\",\"blue_cloth\",\"colon\",\"colon_peritoneum\",\"fat_subcutaneous\",\"foil\",\"gallbladder\",\"glove\",\"heart\",\"kidney\",\"kidney_with_Gerotas_fascia\",\"liver\",\"lung\",\"major_vein\",\"metal\",\"muscle\",\"omentum\",\"organic_artifact\",\"pancreas\",\"peritoneum\",\"skin\",\"small_bowel\",\"spleen\",\"stomach\",\"unsure\",\"white_compress\"],\"xaxis\":\"x6\",\"y\":[3,5,6,8,12,12,2,12,9,7,5,4,2,2,12,4,2,8,3,10,8,6,12,12,12,12,12,12,8],\"yaxis\":\"y6\",\"type\":\"bar\"},{\"alignmentgroup\":\"True\",\"customdata\":[[40],[41],[19],[45],[220],[197],[6],[151],[101],[66],[52],[45],[11],[23],[167],[45],[13],[94],[16],[97],[47],[41],[166],[162],[210],[150],[125],[73],[74]],\"hovertemplate\":\"split_name=train_semantic\\u003cbr\\u003efold_name=fold_P045,P061,P071\\u003cbr\\u003elabel_name=%{x}\\u003cbr\\u003e# subjects=%{y}\\u003cbr\\u003e# images=%{customdata[0]}\\u003cextra\\u003e\\u003c\\u002fextra\\u003e\",\"legendgroup\":\"train_semantic\",\"marker\":{\"color\":\"#EF553B\",\"pattern\":{\"shape\":\"\"}},\"name\":\"train_semantic\",\"offsetgroup\":\"train_semantic\",\"orientation\":\"v\",\"showlegend\":false,\"textposition\":\"auto\",\"x\":[\"abdominal_linen\",\"anorganic_artifact\",\"background\",\"bladder\",\"blue_cloth\",\"colon\",\"colon_peritoneum\",\"fat_subcutaneous\",\"foil\",\"gallbladder\",\"glove\",\"heart\",\"kidney\",\"kidney_with_Gerotas_fascia\",\"liver\",\"lung\",\"major_vein\",\"metal\",\"muscle\",\"omentum\",\"organic_artifact\",\"pancreas\",\"peritoneum\",\"skin\",\"small_bowel\",\"spleen\",\"stomach\",\"unsure\",\"white_compress\"],\"xaxis\":\"x3\",\"y\":[3,5,6,7,12,12,1,11,10,8,4,4,2,3,12,4,3,7,3,10,7,5,12,12,12,12,12,11,9],\"yaxis\":\"y3\",\"type\":\"bar\"},{\"alignmentgroup\":\"True\",\"customdata\":[[28],[27],[12],[50],[236],[182],[7],[142],[90],[46],[47],[36],[17],[24],[162],[36],[14],[87],[7],[98],[36],[39],[148],[156],[208],[148],[123],[59],[68]],\"hovertemplate\":\"split_name=train_semantic\\u003cbr\\u003efold_name=fold_P047,P049,P070\\u003cbr\\u003elabel_name=%{x}\\u003cbr\\u003e# subjects=%{y}\\u003cbr\\u003e# images=%{customdata[0]}\\u003cextra\\u003e\\u003c\\u002fextra\\u003e\",\"legendgroup\":\"train_semantic\",\"marker\":{\"color\":\"#EF553B\",\"pattern\":{\"shape\":\"\"}},\"name\":\"train_semantic\",\"offsetgroup\":\"train_semantic\",\"orientation\":\"v\",\"showlegend\":false,\"textposition\":\"auto\",\"x\":[\"abdominal_linen\",\"anorganic_artifact\",\"background\",\"bladder\",\"blue_cloth\",\"colon\",\"colon_peritoneum\",\"fat_subcutaneous\",\"foil\",\"gallbladder\",\"glove\",\"heart\",\"kidney\",\"kidney_with_Gerotas_fascia\",\"liver\",\"lung\",\"major_vein\",\"metal\",\"muscle\",\"omentum\",\"organic_artifact\",\"pancreas\",\"peritoneum\",\"skin\",\"small_bowel\",\"spleen\",\"stomach\",\"unsure\",\"white_compress\"],\"xaxis\":\"x4\",\"y\":[3,4,6,7,12,12,2,11,9,7,5,4,3,3,12,4,3,7,3,11,6,6,12,12,12,12,12,9,7],\"yaxis\":\"y4\",\"type\":\"bar\"},{\"alignmentgroup\":\"True\",\"customdata\":[[47],[21],[20],[44],[184],[166],[1],[140],[89],[55],[60],[37],[9],[9],[138],[37],[6],[109],[19],[84],[47],[29],[137],[152],[192],[137],[126],[61],[64]],\"hovertemplate\":\"split_name=train_semantic\\u003cbr\\u003efold_name=fold_P048,P057,P058\\u003cbr\\u003elabel_name=%{x}\\u003cbr\\u003e# subjects=%{y}\\u003cbr\\u003e# images=%{customdata[0]}\\u003cextra\\u003e\\u003c\\u002fextra\\u003e\",\"legendgroup\":\"train_semantic\",\"marker\":{\"color\":\"#EF553B\",\"pattern\":{\"shape\":\"\"}},\"name\":\"train_semantic\",\"offsetgroup\":\"train_semantic\",\"orientation\":\"v\",\"showlegend\":false,\"textposition\":\"auto\",\"x\":[\"abdominal_linen\",\"anorganic_artifact\",\"background\",\"bladder\",\"blue_cloth\",\"colon\",\"colon_peritoneum\",\"fat_subcutaneous\",\"foil\",\"gallbladder\",\"glove\",\"heart\",\"kidney\",\"kidney_with_Gerotas_fascia\",\"liver\",\"lung\",\"major_vein\",\"metal\",\"muscle\",\"omentum\",\"organic_artifact\",\"pancreas\",\"peritoneum\",\"skin\",\"small_bowel\",\"spleen\",\"stomach\",\"unsure\",\"white_compress\"],\"xaxis\":\"x\",\"y\":[4,5,6,7,12,12,1,11,10,7,5,4,2,2,12,4,2,8,4,11,7,5,12,12,12,12,12,11,8],\"yaxis\":\"y\",\"type\":\"bar\"},{\"alignmentgroup\":\"True\",\"customdata\":[[2],[2],[1],[1],[6],[12],[9],[8],[2],[1],[1],[10],[1],[4],[5],[1],[2],[10],[9],[11],[9],[10],[4],[5]],\"hovertemplate\":\"split_name=val_semantic_known\\u003cbr\\u003efold_name=fold_P041,P060,P069\\u003cbr\\u003elabel_name=%{x}\\u003cbr\\u003e# subjects=%{y}\\u003cbr\\u003e# images=%{customdata[0]}\\u003cextra\\u003e\\u003c\\u002fextra\\u003e\",\"legendgroup\":\"val_semantic_known\",\"marker\":{\"color\":\"#00cc96\",\"pattern\":{\"shape\":\"\"}},\"name\":\"val_semantic_known\",\"offsetgroup\":\"val_semantic_known\",\"orientation\":\"v\",\"showlegend\":true,\"textposition\":\"auto\",\"x\":[\"abdominal_linen\",\"anorganic_artifact\",\"background\",\"bladder\",\"blue_cloth\",\"colon\",\"fat_subcutaneous\",\"foil\",\"gallbladder\",\"glove\",\"kidney\",\"liver\",\"major_vein\",\"metal\",\"omentum\",\"organic_artifact\",\"pancreas\",\"peritoneum\",\"skin\",\"small_bowel\",\"spleen\",\"stomach\",\"unsure\",\"white_compress\"],\"xaxis\":\"x5\",\"y\":[2,2,1,1,6,12,9,8,2,1,1,10,1,4,5,1,2,10,9,11,9,10,4,5],\"yaxis\":\"y5\",\"type\":\"bar\"},{\"alignmentgroup\":\"True\",\"customdata\":[[1],[4],[2],[2],[10],[10],[10],[5],[4],[2],[1],[11],[7],[1],[7],[2],[10],[10],[12],[10],[10],[4],[3]],\"hovertemplate\":\"split_name=val_semantic_known\\u003cbr\\u003efold_name=fold_P044,P050,P059\\u003cbr\\u003elabel_name=%{x}\\u003cbr\\u003e# subjects=%{y}\\u003cbr\\u003e# images=%{customdata[0]}\\u003cextra\\u003e\\u003c\\u002fextra\\u003e\",\"legendgroup\":\"val_semantic_known\",\"marker\":{\"color\":\"#00cc96\",\"pattern\":{\"shape\":\"\"}},\"name\":\"val_semantic_known\",\"offsetgroup\":\"val_semantic_known\",\"orientation\":\"v\",\"showlegend\":false,\"textposition\":\"auto\",\"x\":[\"abdominal_linen\",\"anorganic_artifact\",\"background\",\"bladder\",\"blue_cloth\",\"colon\",\"fat_subcutaneous\",\"foil\",\"gallbladder\",\"glove\",\"kidney\",\"liver\",\"metal\",\"muscle\",\"omentum\",\"organic_artifact\",\"peritoneum\",\"skin\",\"small_bowel\",\"spleen\",\"stomach\",\"unsure\",\"white_compress\"],\"xaxis\":\"x6\",\"y\":[1,4,2,2,10,10,10,5,4,2,1,11,7,1,7,2,10,10,12,10,10,4,3],\"yaxis\":\"y6\",\"type\":\"bar\"},{\"alignmentgroup\":\"True\",\"customdata\":[[3],[5],[3],[4],[7],[9],[9],[7],[3],[2],[2],[1],[7],[2],[1],[3],[5],[2],[8],[8],[10],[6],[7],[5],[6]],\"hovertemplate\":\"split_name=val_semantic_known\\u003cbr\\u003efold_name=fold_P045,P061,P071\\u003cbr\\u003elabel_name=%{x}\\u003cbr\\u003e# subjects=%{y}\\u003cbr\\u003e# images=%{customdata[0]}\\u003cextra\\u003e\\u003c\\u002fextra\\u003e\",\"legendgroup\":\"val_semantic_known\",\"marker\":{\"color\":\"#00cc96\",\"pattern\":{\"shape\":\"\"}},\"name\":\"val_semantic_known\",\"offsetgroup\":\"val_semantic_known\",\"orientation\":\"v\",\"showlegend\":false,\"textposition\":\"auto\",\"x\":[\"abdominal_linen\",\"anorganic_artifact\",\"background\",\"bladder\",\"blue_cloth\",\"colon\",\"fat_subcutaneous\",\"foil\",\"gallbladder\",\"glove\",\"heart\",\"kidney_with_Gerotas_fascia\",\"liver\",\"lung\",\"major_vein\",\"metal\",\"omentum\",\"organic_artifact\",\"peritoneum\",\"skin\",\"small_bowel\",\"spleen\",\"stomach\",\"unsure\",\"white_compress\"],\"xaxis\":\"x3\",\"y\":[3,5,3,4,7,9,9,7,3,2,2,1,7,2,1,3,5,2,8,8,10,6,7,5,6],\"yaxis\":\"y3\",\"type\":\"bar\"},{\"alignmentgroup\":\"True\",\"customdata\":[[1],[2],[2],[9],[10],[8],[6],[2],[1],[1],[8],[1],[5],[6],[1],[1],[9],[10],[11],[8],[9],[4],[5]],\"hovertemplate\":\"split_name=val_semantic_known\\u003cbr\\u003efold_name=fold_P047,P049,P070\\u003cbr\\u003elabel_name=%{x}\\u003cbr\\u003e# subjects=%{y}\\u003cbr\\u003e# images=%{customdata[0]}\\u003cextra\\u003e\\u003c\\u002fextra\\u003e\",\"legendgroup\":\"val_semantic_known\",\"marker\":{\"color\":\"#00cc96\",\"pattern\":{\"shape\":\"\"}},\"name\":\"val_semantic_known\",\"offsetgroup\":\"val_semantic_known\",\"orientation\":\"v\",\"showlegend\":false,\"textposition\":\"auto\",\"x\":[\"abdominal_linen\",\"anorganic_artifact\",\"bladder\",\"blue_cloth\",\"colon\",\"fat_subcutaneous\",\"foil\",\"gallbladder\",\"glove\",\"heart\",\"liver\",\"lung\",\"metal\",\"omentum\",\"organic_artifact\",\"pancreas\",\"peritoneum\",\"skin\",\"small_bowel\",\"spleen\",\"stomach\",\"unsure\",\"white_compress\"],\"xaxis\":\"x4\",\"y\":[1,2,2,9,10,8,6,2,1,1,8,1,5,6,1,1,9,10,11,8,9,4,5],\"yaxis\":\"y4\",\"type\":\"bar\"},{\"alignmentgroup\":\"True\",\"customdata\":[[2],[2],[1],[2],[9],[10],[8],[7],[5],[2],[1],[8],[1],[6],[1],[6],[3],[1],[9],[10],[10],[9],[7],[3],[4]],\"hovertemplate\":\"split_name=val_semantic_known\\u003cbr\\u003efold_name=fold_P048,P057,P058\\u003cbr\\u003elabel_name=%{x}\\u003cbr\\u003e# subjects=%{y}\\u003cbr\\u003e# images=%{customdata[0]}\\u003cextra\\u003e\\u003c\\u002fextra\\u003e\",\"legendgroup\":\"val_semantic_known\",\"marker\":{\"color\":\"#00cc96\",\"pattern\":{\"shape\":\"\"}},\"name\":\"val_semantic_known\",\"offsetgroup\":\"val_semantic_known\",\"orientation\":\"v\",\"showlegend\":false,\"textposition\":\"auto\",\"x\":[\"abdominal_linen\",\"anorganic_artifact\",\"background\",\"bladder\",\"blue_cloth\",\"colon\",\"fat_subcutaneous\",\"foil\",\"gallbladder\",\"glove\",\"heart\",\"liver\",\"lung\",\"metal\",\"muscle\",\"omentum\",\"organic_artifact\",\"pancreas\",\"peritoneum\",\"skin\",\"small_bowel\",\"spleen\",\"stomach\",\"unsure\",\"white_compress\"],\"xaxis\":\"x\",\"y\":[2,2,1,2,9,10,8,7,5,2,1,8,1,6,1,6,3,1,9,10,10,9,7,3,4],\"yaxis\":\"y\",\"type\":\"bar\"},{\"alignmentgroup\":\"True\",\"customdata\":[[6],[1],[17],[71],[50],[23],[3],[21],[15],[14],[6],[43],[14],[3],[39],[2],[31],[14],[8],[33],[30],[60],[45],[41],[19],[3]],\"hovertemplate\":\"split_name=val_semantic_unknown\\u003cbr\\u003efold_name=fold_P041,P060,P069\\u003cbr\\u003elabel_name=%{x}\\u003cbr\\u003e# subjects=%{y}\\u003cbr\\u003e# images=%{customdata[0]}\\u003cextra\\u003e\\u003c\\u002fextra\\u003e\",\"legendgroup\":\"val_semantic_unknown\",\"marker\":{\"color\":\"#ab63fa\",\"pattern\":{\"shape\":\"\"}},\"name\":\"val_semantic_unknown\",\"offsetgroup\":\"val_semantic_unknown\",\"orientation\":\"v\",\"showlegend\":true,\"textposition\":\"auto\",\"x\":[\"abdominal_linen\",\"background\",\"bladder\",\"blue_cloth\",\"colon\",\"fat_subcutaneous\",\"foil\",\"gallbladder\",\"glove\",\"heart\",\"kidney_with_Gerotas_fascia\",\"liver\",\"lung\",\"major_vein\",\"metal\",\"muscle\",\"omentum\",\"organic_artifact\",\"pancreas\",\"peritoneum\",\"skin\",\"small_bowel\",\"spleen\",\"stomach\",\"unsure\",\"white_compress\"],\"xaxis\":\"x5\",\"y\":[1,1,2,3,3,3,2,2,1,1,1,3,1,1,3,1,3,1,1,3,3,3,3,3,3,2],\"yaxis\":\"y5\",\"type\":\"bar\"},{\"alignmentgroup\":\"True\",\"customdata\":[[17],[2],[2],[12],[36],[38],[27],[27],[8],[11],[6],[3],[3],[27],[6],[3],[1],[1],[13],[2],[5],[28],[28],[41],[23],[12],[8],[22]],\"hovertemplate\":\"split_name=val_semantic_unknown\\u003cbr\\u003efold_name=fold_P044,P050,P059\\u003cbr\\u003elabel_name=%{x}\\u003cbr\\u003e# subjects=%{y}\\u003cbr\\u003e# images=%{customdata[0]}\\u003cextra\\u003e\\u003c\\u002fextra\\u003e\",\"legendgroup\":\"val_semantic_unknown\",\"marker\":{\"color\":\"#ab63fa\",\"pattern\":{\"shape\":\"\"}},\"name\":\"val_semantic_unknown\",\"offsetgroup\":\"val_semantic_unknown\",\"orientation\":\"v\",\"showlegend\":false,\"textposition\":\"auto\",\"x\":[\"abdominal_linen\",\"anorganic_artifact\",\"background\",\"bladder\",\"blue_cloth\",\"colon\",\"fat_subcutaneous\",\"foil\",\"gallbladder\",\"glove\",\"heart\",\"kidney\",\"kidney_with_Gerotas_fascia\",\"liver\",\"lung\",\"major_vein\",\"metal\",\"muscle\",\"omentum\",\"organic_artifact\",\"pancreas\",\"peritoneum\",\"skin\",\"small_bowel\",\"spleen\",\"stomach\",\"unsure\",\"white_compress\"],\"xaxis\":\"x6\",\"y\":[1,1,1,1,3,3,2,3,2,1,1,1,1,3,1,1,1,1,3,1,1,3,3,3,3,3,2,2],\"yaxis\":\"y6\",\"type\":\"bar\"},{\"alignmentgroup\":\"True\",\"customdata\":[[6],[2],[4],[10],[52],[37],[1],[44],[27],[5],[15],[4],[6],[36],[4],[35],[4],[24],[11],[8],[34],[50],[50],[39],[40],[11],[18]],\"hovertemplate\":\"split_name=val_semantic_unknown\\u003cbr\\u003efold_name=fold_P045,P061,P071\\u003cbr\\u003elabel_name=%{x}\\u003cbr\\u003e# subjects=%{y}\\u003cbr\\u003e# images=%{customdata[0]}\\u003cextra\\u003e\\u003c\\u002fextra\\u003e\",\"legendgroup\":\"val_semantic_unknown\",\"marker\":{\"color\":\"#ab63fa\",\"pattern\":{\"shape\":\"\"}},\"name\":\"val_semantic_unknown\",\"offsetgroup\":\"val_semantic_unknown\",\"orientation\":\"v\",\"showlegend\":false,\"textposition\":\"auto\",\"x\":[\"abdominal_linen\",\"anorganic_artifact\",\"background\",\"bladder\",\"blue_cloth\",\"colon\",\"colon_peritoneum\",\"fat_subcutaneous\",\"foil\",\"gallbladder\",\"glove\",\"heart\",\"kidney\",\"liver\",\"lung\",\"metal\",\"muscle\",\"omentum\",\"organic_artifact\",\"pancreas\",\"peritoneum\",\"skin\",\"small_bowel\",\"spleen\",\"stomach\",\"unsure\",\"white_compress\"],\"xaxis\":\"x3\",\"y\":[1,1,2,2,3,3,1,3,2,1,2,1,1,3,1,2,1,3,2,2,3,3,3,3,3,3,1],\"yaxis\":\"y3\",\"type\":\"bar\"},{\"alignmentgroup\":\"True\",\"customdata\":[[20],[19],[14],[7],[34],[51],[54],[39],[26],[21],[14],[40],[14],[40],[13],[22],[23],[9],[51],[54],[51],[39],[40],[26],[25]],\"hovertemplate\":\"split_name=val_semantic_unknown\\u003cbr\\u003efold_name=fold_P047,P049,P070\\u003cbr\\u003elabel_name=%{x}\\u003cbr\\u003e# subjects=%{y}\\u003cbr\\u003e# images=%{customdata[0]}\\u003cextra\\u003e\\u003c\\u002fextra\\u003e\",\"legendgroup\":\"val_semantic_unknown\",\"marker\":{\"color\":\"#ab63fa\",\"pattern\":{\"shape\":\"\"}},\"name\":\"val_semantic_unknown\",\"offsetgroup\":\"val_semantic_unknown\",\"orientation\":\"v\",\"showlegend\":false,\"textposition\":\"auto\",\"x\":[\"abdominal_linen\",\"anorganic_artifact\",\"background\",\"bladder\",\"blue_cloth\",\"colon\",\"fat_subcutaneous\",\"foil\",\"gallbladder\",\"glove\",\"heart\",\"liver\",\"lung\",\"metal\",\"muscle\",\"omentum\",\"organic_artifact\",\"pancreas\",\"peritoneum\",\"skin\",\"small_bowel\",\"spleen\",\"stomach\",\"unsure\",\"white_compress\"],\"xaxis\":\"x4\",\"y\":[1,3,2,2,3,3,3,3,2,1,1,3,1,2,1,2,3,1,3,3,3,3,3,3,3],\"yaxis\":\"y4\",\"type\":\"bar\"},{\"alignmentgroup\":\"True\",\"customdata\":[[25],[5],[13],[86],[67],[6],[56],[39],[14],[7],[13],[8],[15],[64],[13],[8],[17],[36],[10],[19],[62],[58],[68],[49],[39],[25],[30]],\"hovertemplate\":\"split_name=val_semantic_unknown\\u003cbr\\u003efold_name=fold_P048,P057,P058\\u003cbr\\u003elabel_name=%{x}\\u003cbr\\u003e# subjects=%{y}\\u003cbr\\u003e# images=%{customdata[0]}\\u003cextra\\u003e\\u003c\\u002fextra\\u003e\",\"legendgroup\":\"val_semantic_unknown\",\"marker\":{\"color\":\"#ab63fa\",\"pattern\":{\"shape\":\"\"}},\"name\":\"val_semantic_unknown\",\"offsetgroup\":\"val_semantic_unknown\",\"orientation\":\"v\",\"showlegend\":false,\"textposition\":\"auto\",\"x\":[\"anorganic_artifact\",\"background\",\"bladder\",\"blue_cloth\",\"colon\",\"colon_peritoneum\",\"fat_subcutaneous\",\"foil\",\"gallbladder\",\"glove\",\"heart\",\"kidney\",\"kidney_with_Gerotas_fascia\",\"liver\",\"lung\",\"major_vein\",\"metal\",\"omentum\",\"organic_artifact\",\"pancreas\",\"peritoneum\",\"skin\",\"small_bowel\",\"spleen\",\"stomach\",\"unsure\",\"white_compress\"],\"xaxis\":\"x\",\"y\":[2,2,2,3,3,1,3,2,2,1,1,1,1,3,1,1,1,2,2,2,3,3,3,3,3,3,2],\"yaxis\":\"y\",\"type\":\"bar\"}],                        {\"template\":{\"data\":{\"barpolar\":[{\"marker\":{\"line\":{\"color\":\"white\",\"width\":0.5},\"pattern\":{\"fillmode\":\"overlay\",\"size\":10,\"solidity\":0.2}},\"type\":\"barpolar\"}],\"bar\":[{\"error_x\":{\"color\":\"#2a3f5f\"},\"error_y\":{\"color\":\"#2a3f5f\"},\"marker\":{\"line\":{\"color\":\"white\",\"width\":0.5},\"pattern\":{\"fillmode\":\"overlay\",\"size\":10,\"solidity\":0.2}},\"type\":\"bar\"}],\"carpet\":[{\"aaxis\":{\"endlinecolor\":\"#2a3f5f\",\"gridcolor\":\"#C8D4E3\",\"linecolor\":\"#C8D4E3\",\"minorgridcolor\":\"#C8D4E3\",\"startlinecolor\":\"#2a3f5f\"},\"baxis\":{\"endlinecolor\":\"#2a3f5f\",\"gridcolor\":\"#C8D4E3\",\"linecolor\":\"#C8D4E3\",\"minorgridcolor\":\"#C8D4E3\",\"startlinecolor\":\"#2a3f5f\"},\"type\":\"carpet\"}],\"choropleth\":[{\"colorbar\":{\"outlinewidth\":0,\"ticks\":\"\"},\"type\":\"choropleth\"}],\"contourcarpet\":[{\"colorbar\":{\"outlinewidth\":0,\"ticks\":\"\"},\"type\":\"contourcarpet\"}],\"contour\":[{\"colorbar\":{\"outlinewidth\":0,\"ticks\":\"\"},\"colorscale\":[[0.0,\"#0d0887\"],[0.1111111111111111,\"#46039f\"],[0.2222222222222222,\"#7201a8\"],[0.3333333333333333,\"#9c179e\"],[0.4444444444444444,\"#bd3786\"],[0.5555555555555556,\"#d8576b\"],[0.6666666666666666,\"#ed7953\"],[0.7777777777777778,\"#fb9f3a\"],[0.8888888888888888,\"#fdca26\"],[1.0,\"#f0f921\"]],\"type\":\"contour\"}],\"heatmapgl\":[{\"colorbar\":{\"outlinewidth\":0,\"ticks\":\"\"},\"colorscale\":[[0.0,\"#0d0887\"],[0.1111111111111111,\"#46039f\"],[0.2222222222222222,\"#7201a8\"],[0.3333333333333333,\"#9c179e\"],[0.4444444444444444,\"#bd3786\"],[0.5555555555555556,\"#d8576b\"],[0.6666666666666666,\"#ed7953\"],[0.7777777777777778,\"#fb9f3a\"],[0.8888888888888888,\"#fdca26\"],[1.0,\"#f0f921\"]],\"type\":\"heatmapgl\"}],\"heatmap\":[{\"colorbar\":{\"outlinewidth\":0,\"ticks\":\"\"},\"colorscale\":[[0.0,\"#0d0887\"],[0.1111111111111111,\"#46039f\"],[0.2222222222222222,\"#7201a8\"],[0.3333333333333333,\"#9c179e\"],[0.4444444444444444,\"#bd3786\"],[0.5555555555555556,\"#d8576b\"],[0.6666666666666666,\"#ed7953\"],[0.7777777777777778,\"#fb9f3a\"],[0.8888888888888888,\"#fdca26\"],[1.0,\"#f0f921\"]],\"type\":\"heatmap\"}],\"histogram2dcontour\":[{\"colorbar\":{\"outlinewidth\":0,\"ticks\":\"\"},\"colorscale\":[[0.0,\"#0d0887\"],[0.1111111111111111,\"#46039f\"],[0.2222222222222222,\"#7201a8\"],[0.3333333333333333,\"#9c179e\"],[0.4444444444444444,\"#bd3786\"],[0.5555555555555556,\"#d8576b\"],[0.6666666666666666,\"#ed7953\"],[0.7777777777777778,\"#fb9f3a\"],[0.8888888888888888,\"#fdca26\"],[1.0,\"#f0f921\"]],\"type\":\"histogram2dcontour\"}],\"histogram2d\":[{\"colorbar\":{\"outlinewidth\":0,\"ticks\":\"\"},\"colorscale\":[[0.0,\"#0d0887\"],[0.1111111111111111,\"#46039f\"],[0.2222222222222222,\"#7201a8\"],[0.3333333333333333,\"#9c179e\"],[0.4444444444444444,\"#bd3786\"],[0.5555555555555556,\"#d8576b\"],[0.6666666666666666,\"#ed7953\"],[0.7777777777777778,\"#fb9f3a\"],[0.8888888888888888,\"#fdca26\"],[1.0,\"#f0f921\"]],\"type\":\"histogram2d\"}],\"histogram\":[{\"marker\":{\"pattern\":{\"fillmode\":\"overlay\",\"size\":10,\"solidity\":0.2}},\"type\":\"histogram\"}],\"mesh3d\":[{\"colorbar\":{\"outlinewidth\":0,\"ticks\":\"\"},\"type\":\"mesh3d\"}],\"parcoords\":[{\"line\":{\"colorbar\":{\"outlinewidth\":0,\"ticks\":\"\"}},\"type\":\"parcoords\"}],\"pie\":[{\"automargin\":true,\"type\":\"pie\"}],\"scatter3d\":[{\"line\":{\"colorbar\":{\"outlinewidth\":0,\"ticks\":\"\"}},\"marker\":{\"colorbar\":{\"outlinewidth\":0,\"ticks\":\"\"}},\"type\":\"scatter3d\"}],\"scattercarpet\":[{\"marker\":{\"colorbar\":{\"outlinewidth\":0,\"ticks\":\"\"}},\"type\":\"scattercarpet\"}],\"scattergeo\":[{\"marker\":{\"colorbar\":{\"outlinewidth\":0,\"ticks\":\"\"}},\"type\":\"scattergeo\"}],\"scattergl\":[{\"marker\":{\"colorbar\":{\"outlinewidth\":0,\"ticks\":\"\"}},\"type\":\"scattergl\"}],\"scattermapbox\":[{\"marker\":{\"colorbar\":{\"outlinewidth\":0,\"ticks\":\"\"}},\"type\":\"scattermapbox\"}],\"scatterpolargl\":[{\"marker\":{\"colorbar\":{\"outlinewidth\":0,\"ticks\":\"\"}},\"type\":\"scatterpolargl\"}],\"scatterpolar\":[{\"marker\":{\"colorbar\":{\"outlinewidth\":0,\"ticks\":\"\"}},\"type\":\"scatterpolar\"}],\"scatter\":[{\"fillpattern\":{\"fillmode\":\"overlay\",\"size\":10,\"solidity\":0.2},\"type\":\"scatter\"}],\"scatterternary\":[{\"marker\":{\"colorbar\":{\"outlinewidth\":0,\"ticks\":\"\"}},\"type\":\"scatterternary\"}],\"surface\":[{\"colorbar\":{\"outlinewidth\":0,\"ticks\":\"\"},\"colorscale\":[[0.0,\"#0d0887\"],[0.1111111111111111,\"#46039f\"],[0.2222222222222222,\"#7201a8\"],[0.3333333333333333,\"#9c179e\"],[0.4444444444444444,\"#bd3786\"],[0.5555555555555556,\"#d8576b\"],[0.6666666666666666,\"#ed7953\"],[0.7777777777777778,\"#fb9f3a\"],[0.8888888888888888,\"#fdca26\"],[1.0,\"#f0f921\"]],\"type\":\"surface\"}],\"table\":[{\"cells\":{\"fill\":{\"color\":\"#EBF0F8\"},\"line\":{\"color\":\"white\"}},\"header\":{\"fill\":{\"color\":\"#C8D4E3\"},\"line\":{\"color\":\"white\"}},\"type\":\"table\"}]},\"layout\":{\"annotationdefaults\":{\"arrowcolor\":\"#2a3f5f\",\"arrowhead\":0,\"arrowwidth\":1},\"autotypenumbers\":\"strict\",\"coloraxis\":{\"colorbar\":{\"outlinewidth\":0,\"ticks\":\"\"}},\"colorscale\":{\"diverging\":[[0,\"#8e0152\"],[0.1,\"#c51b7d\"],[0.2,\"#de77ae\"],[0.3,\"#f1b6da\"],[0.4,\"#fde0ef\"],[0.5,\"#f7f7f7\"],[0.6,\"#e6f5d0\"],[0.7,\"#b8e186\"],[0.8,\"#7fbc41\"],[0.9,\"#4d9221\"],[1,\"#276419\"]],\"sequential\":[[0.0,\"#0d0887\"],[0.1111111111111111,\"#46039f\"],[0.2222222222222222,\"#7201a8\"],[0.3333333333333333,\"#9c179e\"],[0.4444444444444444,\"#bd3786\"],[0.5555555555555556,\"#d8576b\"],[0.6666666666666666,\"#ed7953\"],[0.7777777777777778,\"#fb9f3a\"],[0.8888888888888888,\"#fdca26\"],[1.0,\"#f0f921\"]],\"sequentialminus\":[[0.0,\"#0d0887\"],[0.1111111111111111,\"#46039f\"],[0.2222222222222222,\"#7201a8\"],[0.3333333333333333,\"#9c179e\"],[0.4444444444444444,\"#bd3786\"],[0.5555555555555556,\"#d8576b\"],[0.6666666666666666,\"#ed7953\"],[0.7777777777777778,\"#fb9f3a\"],[0.8888888888888888,\"#fdca26\"],[1.0,\"#f0f921\"]]},\"colorway\":[\"#636efa\",\"#EF553B\",\"#00cc96\",\"#ab63fa\",\"#FFA15A\",\"#19d3f3\",\"#FF6692\",\"#B6E880\",\"#FF97FF\",\"#FECB52\"],\"font\":{\"color\":\"#2a3f5f\"},\"geo\":{\"bgcolor\":\"white\",\"lakecolor\":\"white\",\"landcolor\":\"white\",\"showlakes\":true,\"showland\":true,\"subunitcolor\":\"#C8D4E3\"},\"hoverlabel\":{\"align\":\"left\"},\"hovermode\":\"closest\",\"mapbox\":{\"style\":\"light\"},\"paper_bgcolor\":\"white\",\"plot_bgcolor\":\"white\",\"polar\":{\"angularaxis\":{\"gridcolor\":\"#EBF0F8\",\"linecolor\":\"#EBF0F8\",\"ticks\":\"\"},\"bgcolor\":\"white\",\"radialaxis\":{\"gridcolor\":\"#EBF0F8\",\"linecolor\":\"#EBF0F8\",\"ticks\":\"\"}},\"scene\":{\"xaxis\":{\"backgroundcolor\":\"white\",\"gridcolor\":\"#DFE8F3\",\"gridwidth\":2,\"linecolor\":\"#EBF0F8\",\"showbackground\":true,\"ticks\":\"\",\"zerolinecolor\":\"#EBF0F8\"},\"yaxis\":{\"backgroundcolor\":\"white\",\"gridcolor\":\"#DFE8F3\",\"gridwidth\":2,\"linecolor\":\"#EBF0F8\",\"showbackground\":true,\"ticks\":\"\",\"zerolinecolor\":\"#EBF0F8\"},\"zaxis\":{\"backgroundcolor\":\"white\",\"gridcolor\":\"#DFE8F3\",\"gridwidth\":2,\"linecolor\":\"#EBF0F8\",\"showbackground\":true,\"ticks\":\"\",\"zerolinecolor\":\"#EBF0F8\"}},\"shapedefaults\":{\"line\":{\"color\":\"#2a3f5f\"}},\"ternary\":{\"aaxis\":{\"gridcolor\":\"#DFE8F3\",\"linecolor\":\"#A2B1C6\",\"ticks\":\"\"},\"baxis\":{\"gridcolor\":\"#DFE8F3\",\"linecolor\":\"#A2B1C6\",\"ticks\":\"\"},\"bgcolor\":\"white\",\"caxis\":{\"gridcolor\":\"#DFE8F3\",\"linecolor\":\"#A2B1C6\",\"ticks\":\"\"}},\"title\":{\"x\":0.05},\"xaxis\":{\"automargin\":true,\"gridcolor\":\"#EBF0F8\",\"linecolor\":\"#EBF0F8\",\"ticks\":\"\",\"title\":{\"standoff\":15},\"zerolinecolor\":\"#EBF0F8\",\"zerolinewidth\":2},\"yaxis\":{\"automargin\":true,\"gridcolor\":\"#EBF0F8\",\"linecolor\":\"#EBF0F8\",\"ticks\":\"\",\"title\":{\"standoff\":15},\"zerolinecolor\":\"#EBF0F8\",\"zerolinewidth\":2}}},\"xaxis\":{\"anchor\":\"y\",\"domain\":[0.0,0.49],\"title\":{\"text\":\"label_name\"}},\"yaxis\":{\"anchor\":\"x\",\"domain\":[0.0,0.2866666666666666],\"title\":{\"text\":\"# subjects\"}},\"xaxis2\":{\"anchor\":\"y2\",\"domain\":[0.51,1.0],\"matches\":\"x\",\"title\":{\"text\":\"label_name\"}},\"yaxis2\":{\"anchor\":\"x2\",\"domain\":[0.0,0.2866666666666666],\"matches\":\"y\",\"showticklabels\":false},\"xaxis3\":{\"anchor\":\"y3\",\"domain\":[0.0,0.49],\"matches\":\"x\",\"showticklabels\":false},\"yaxis3\":{\"anchor\":\"x3\",\"domain\":[0.35666666666666663,0.6433333333333333],\"matches\":\"y\",\"title\":{\"text\":\"# subjects\"}},\"xaxis4\":{\"anchor\":\"y4\",\"domain\":[0.51,1.0],\"matches\":\"x\",\"showticklabels\":false},\"yaxis4\":{\"anchor\":\"x4\",\"domain\":[0.35666666666666663,0.6433333333333333],\"matches\":\"y\",\"showticklabels\":false},\"xaxis5\":{\"anchor\":\"y5\",\"domain\":[0.0,0.49],\"matches\":\"x\",\"showticklabels\":false},\"yaxis5\":{\"anchor\":\"x5\",\"domain\":[0.7133333333333333,0.9999999999999999],\"matches\":\"y\",\"title\":{\"text\":\"# subjects\"}},\"xaxis6\":{\"anchor\":\"y6\",\"domain\":[0.51,1.0],\"matches\":\"x\",\"showticklabels\":false},\"yaxis6\":{\"anchor\":\"x6\",\"domain\":[0.7133333333333333,0.9999999999999999],\"matches\":\"y\",\"showticklabels\":false},\"annotations\":[{\"font\":{},\"showarrow\":false,\"text\":\"fold_name=fold_P048,P057,P058\",\"x\":0.245,\"xanchor\":\"center\",\"xref\":\"paper\",\"y\":0.2866666666666666,\"yanchor\":\"bottom\",\"yref\":\"paper\"},{\"font\":{},\"showarrow\":false,\"text\":\"fold_name=fold_P045,P061,P071\",\"x\":0.245,\"xanchor\":\"center\",\"xref\":\"paper\",\"y\":0.6433333333333333,\"yanchor\":\"bottom\",\"yref\":\"paper\"},{\"font\":{},\"showarrow\":false,\"text\":\"fold_name=fold_P047,P049,P070\",\"x\":0.755,\"xanchor\":\"center\",\"xref\":\"paper\",\"y\":0.6433333333333333,\"yanchor\":\"bottom\",\"yref\":\"paper\"},{\"font\":{},\"showarrow\":false,\"text\":\"fold_name=fold_P041,P060,P069\",\"x\":0.245,\"xanchor\":\"center\",\"xref\":\"paper\",\"y\":0.9999999999999999,\"yanchor\":\"bottom\",\"yref\":\"paper\"},{\"font\":{},\"showarrow\":false,\"text\":\"fold_name=fold_P044,P050,P059\",\"x\":0.755,\"xanchor\":\"center\",\"xref\":\"paper\",\"y\":0.9999999999999999,\"yanchor\":\"bottom\",\"yref\":\"paper\"}],\"legend\":{\"title\":{\"text\":\"split_name\"},\"tracegroupgap\":0},\"margin\":{\"t\":60},\"barmode\":\"relative\",\"height\":800,\"width\":1200,\"title\":{\"x\":0.5,\"text\":\"image-level label distribution for each fold and split for the spec pigs_semantic-only_5foldsV2\"}},                        {\"responsive\": true}                    ).then(function(){\n",
       "                            \n",
       "var gd = document.getElementById('0442027a-af1f-495b-bf86-589578df43e4');\n",
       "var x = new MutationObserver(function (mutations, observer) {{\n",
       "        var display = window.getComputedStyle(gd).display;\n",
       "        if (!display || display === 'none') {{\n",
       "            console.log([gd, 'removed!']);\n",
       "            Plotly.purge(gd);\n",
       "            observer.disconnect();\n",
       "        }}\n",
       "}});\n",
       "\n",
       "// Listen for the removal of the full notebook cells\n",
       "var notebookContainer = gd.closest('#notebook-container');\n",
       "if (notebookContainer) {{\n",
       "    x.observe(notebookContainer, {childList: true});\n",
       "}}\n",
       "\n",
       "// Listen for the clearing of the current output cell\n",
       "var outputEl = gd.closest('.output');\n",
       "if (outputEl) {{\n",
       "    x.observe(outputEl, {childList: true});\n",
       "}}\n",
       "\n",
       "                        })                };                });            </script>        </div>"
      ]
     },
     "metadata": {},
     "output_type": "display_data"
    }
   ],
   "source": [
    "rows = []\n",
    "for fold_name, splits in spec:\n",
    "    for split_name, paths in splits.items():\n",
    "        for p in paths:\n",
    "            labels = set()\n",
    "            if mapping is not None:\n",
    "                for l in p.annotated_labels():\n",
    "                    if mapping.is_name_valid(l):\n",
    "                        labels.add(mapping.index_to_name(mapping.name_to_index(l)))\n",
    "            else:\n",
    "                labels.update(p.annotated_labels())\n",
    "\n",
    "            for l in sorted(labels):\n",
    "                rows.append({\n",
    "                    \"fold_name\": fold_name,\n",
    "                    \"split_name\": split_name,\n",
    "                    \"image_name\": p.image_name(),\n",
    "                    \"subject_name\": p.subject_name,\n",
    "                    \"label_name\": l,\n",
    "                })\n",
    "\n",
    "df_labels = pd.DataFrame(rows)\n",
    "df_labels = df_labels.groupby([\"fold_name\", \"split_name\", \"label_name\"], as_index=False).agg(**{\n",
    "    \"# images\": pd.NamedAgg(column=\"image_name\", aggfunc=\"nunique\"),\n",
    "    \"# subjects\": pd.NamedAgg(column=\"subject_name\", aggfunc=\"nunique\"),\n",
    "})\n",
    "\n",
    "fig = px.bar(\n",
    "    df_labels,\n",
    "    x=\"label_name\",\n",
    "    y=\"# subjects\",\n",
    "    hover_data=[\"# images\"],\n",
    "    color=\"split_name\",\n",
    "    facet_col=\"fold_name\",\n",
    "    facet_col_wrap=2,\n",
    ")\n",
    "fig.update_layout(height=800, width=1200, template=\"plotly_white\")\n",
    "fig.update_layout(\n",
    "    title_x=0.5, title_text=f\"image-level label distribution for each fold and split for the spec {path.stem}\"\n",
    ")\n",
    "\n",
    "compress_html(target_dir / f\"{path.stem}_labels.html\", fig)\n",
    "fig"
   ]
  }
 ],
 "metadata": {
  "kernelspec": {
   "display_name": "htc",
   "language": "python",
   "name": "python3"
  },
  "language_info": {
   "codemirror_mode": {
    "name": "ipython",
    "version": 3
   },
   "file_extension": ".py",
   "mimetype": "text/x-python",
   "name": "python",
   "nbconvert_exporter": "python",
   "pygments_lexer": "ipython3",
   "version": "3.12.7"
  }
 },
 "nbformat": 4,
 "nbformat_minor": 5
}
