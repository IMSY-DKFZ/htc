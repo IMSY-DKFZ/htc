{
 "cells": [
  {
   "cell_type": "markdown",
   "id": "d1e62014-70a0-464d-b144-03f2b52661d0",
   "metadata": {},
   "source": [
    "# File Reference (low level)\n",
    "This notebook serves as a reference for the different file format in the HeiPorSPECTRAL dataset. This is a low-level description and it is usually not required to load the files directly since the htc framework takes care of that. However, in case you cannot install the htc framework, you can copy the code for the respective functions directly without using the complete framework. The functions listed here are self-contained with no further dependencies than listed in the file itself."
   ]
  },
  {
   "cell_type": "code",
   "execution_count": 1,
   "id": "3525a149-568d-491a-b32b-c4622c58af36",
   "metadata": {
    "tags": []
   },
   "outputs": [],
   "source": [
    "%load_ext autoreload\n",
    "%autoreload 2\n",
    "\n",
    "import json\n",
    "\n",
    "import numpy as np\n",
    "import pandas as pd\n",
    "import torch\n",
    "from PIL import Image\n",
    "\n",
    "# You can copy the script files directly to use them without installing the htc framework (not recommended, but possible)\n",
    "from htc import decompress_file, read_meta_file, read_tivita_hsi, settings"
   ]
  },
  {
   "cell_type": "code",
   "execution_count": 2,
   "id": "8d91f6f1-1a98-4ff1-9aae-6193f6fdc914",
   "metadata": {
    "tags": []
   },
   "outputs": [],
   "source": [
    "example_image_name = \"P086#2021_04_15_09_22_02\"\n",
    "example_img = settings.data_dirs[\"HeiPorSPECTRAL\"] / \"subjects\" / example_image_name.replace(\"#\", \"/\")"
   ]
  },
  {
   "cell_type": "markdown",
   "id": "2e23ba69-d88d-4f16-b83f-db9df581da61",
   "metadata": {},
   "source": [
    "## Data cubes (`data/**/*Spec_Cube.dat` files)\n",
    "&#127752; htc framework: [`path.read_cube()`](../htc/tivita/DataPath.py)\n",
    "\n",
    "This file comes from the Tivita camera and stores the spectral data. The HSI cube has a file size of 122.880.012 bytes. The first 12 bytes encode the shape (640, 480, 100) = (width, height, channels) as three int32 values (in big-endian notation). The remaining bytes encode the reflactance values for all 307.200 pixels of the image as float32 numbers (in big-endian notation).\n",
    "> Please note that the raw spectral data (counts of the camera) are not available since the Tivita system always applies white and dark correction.\n",
    "\n",
    "You can read the HSI cube with the `read_tivita_hsi()` function. The first two axes are transposed so that first the rows and then the columns of the image are encoded (height, width, channels)."
   ]
  },
  {
   "cell_type": "code",
   "execution_count": 3,
   "id": "07de6440-c8ec-43fe-aabe-ecbe60a204bf",
   "metadata": {
    "tags": []
   },
   "outputs": [
    {
     "name": "stdout",
     "output_type": "stream",
     "text": [
      "(height, width, channels) = (480, 640, 100)\n",
      "cube.dtype = dtype('float32')\n"
     ]
    }
   ],
   "source": [
    "cube = read_tivita_hsi(example_img / \"2021_04_15_09_22_02_SpecCube.dat\")\n",
    "print(f\"(height, width, channels) = {cube.shape}\")\n",
    "print(f\"{cube.dtype = }\")"
   ]
  },
  {
   "cell_type": "code",
   "execution_count": 4,
   "id": "3d2e2d6b-b6c0-4e63-9b05-2bb792695654",
   "metadata": {
    "tags": []
   },
   "outputs": [
    {
     "data": {
      "text/plain": [
       "array([0.27184397, 0.18266782, 0.16965799, 0.1513006 , 0.1329092 ,\n",
       "       0.15426329, 0.14148699, 0.0999187 , 0.090902  , 0.12238958,\n",
       "       0.09820482, 0.08726134, 0.08246506, 0.08394987, 0.07913913,\n",
       "       0.08583497, 0.07791902, 0.07350975, 0.06822228, 0.05753687,\n",
       "       0.05778656, 0.05996892, 0.06155088, 0.06053223, 0.06277863,\n",
       "       0.06049408, 0.06231851, 0.06106466, 0.06252275, 0.06397039,\n",
       "       0.06673231, 0.07459199, 0.07646118, 0.08570325, 0.10915031,\n",
       "       0.11551961, 0.13204259, 0.1518341 , 0.18475193, 0.21778633,\n",
       "       0.26116806, 0.28271756, 0.3110851 , 0.36204976, 0.40289694,\n",
       "       0.4554861 , 0.50583446, 0.56842065, 0.5907381 , 0.6675972 ,\n",
       "       0.71503276, 0.7530693 , 0.82546747, 0.8446979 , 0.91822845,\n",
       "       0.9467858 , 0.99090135, 1.0418077 , 1.0990275 , 1.1299974 ,\n",
       "       1.1064113 , 1.1354612 , 1.1758112 , 1.1448709 , 1.2238101 ,\n",
       "       1.1803787 , 1.2609162 , 1.2796235 , 1.2335976 , 1.2471465 ,\n",
       "       1.2612877 , 1.289348  , 1.3076123 , 1.298694  , 1.297606  ,\n",
       "       1.2391493 , 1.3688908 , 1.2654203 , 1.2971412 , 1.2548807 ,\n",
       "       1.2390836 , 1.346463  , 1.3938502 , 1.308198  , 1.2199019 ,\n",
       "       1.3202422 , 1.1918683 , 1.2819467 , 1.2834493 , 1.165853  ,\n",
       "       1.0524155 , 1.1291634 , 1.0919939 , 1.1652404 , 0.9872655 ,\n",
       "       1.0524981 , 1.065005  , 1.0809537 , 0.7475363 , 0.73606837],\n",
       "      dtype=float32)"
      ]
     },
     "execution_count": 4,
     "metadata": {},
     "output_type": "execute_result"
    }
   ],
   "source": [
    "# Access a single spectra\n",
    "row = 10\n",
    "col = 20\n",
    "cube[row, col]"
   ]
  },
  {
   "cell_type": "markdown",
   "id": "73f3099d-8d71-4875-8d49-c5f68558dd8c",
   "metadata": {},
   "source": [
    "## Camera metadata (`data/**/*meta.log` files)\n",
    "&#127752; htc framework: [`path.read_camera_meta()`](../htc/tivita/DataPath.py)\n",
    "\n",
    "This file comes from the Tivita camera and contains meta information about the image like the software version or the camera identifier. It uses an INI file format which you can read with the following function. It returns a dictionary and the group identifiers (like `Camera`) are prepended to the attributes:"
   ]
  },
  {
   "cell_type": "code",
   "execution_count": 5,
   "id": "109fe87a-dfc7-4643-8a8b-97c01260cd83",
   "metadata": {},
   "outputs": [
    {
     "data": {
      "text/plain": [
       "{'Camera_CamID': '0202-00118',\n",
       " 'Camera_Exposure': 75,\n",
       " 'Camera_analoger Gain': 4,\n",
       " 'Camera_digitaler Gain': 32,\n",
       " 'Camera_Speed': 950,\n",
       " 'SW_Name': 'TIVITA® Suite',\n",
       " 'SW_Version': '1.6.0.1',\n",
       " 'Fremdlichterkennung_Fremdlicht erkannt?': False,\n",
       " 'Fremdlichterkennung_PixelmitFremdlicht': 0,\n",
       " 'Fremdlichterkennung_Breite LED Rot': 50,\n",
       " 'Fremdlichterkennung_Breite LED Gruen': 50,\n",
       " 'Fremdlichterkennung_Grenzwert Pixelanzahl': 100,\n",
       " 'Fremdlichterkennung_Intensity Grenzwert': 7.0,\n",
       " 'Aufnahme_Aufnahmemodus': 'Reflektanz'}"
      ]
     },
     "execution_count": 5,
     "metadata": {},
     "output_type": "execute_result"
    }
   ],
   "source": [
    "read_meta_file(example_img / \"2021_04_15_09_22_02_meta.log\")"
   ]
  },
  {
   "cell_type": "markdown",
   "id": "316bb190-ed77-4ef4-a488-323fe4703421",
   "metadata": {},
   "source": [
    "## Annotation metadata (`data/**/annotations/*_meta.json` files)\n",
    "&#127752; htc framework: [`path.read_annotation_meta()`](../htc/tivita/DataPath.py)\n",
    "\n",
    "This is a custom file where you can find additional information about the annotation or the image aquisition. Here, the `situs`, `angle`, `repetition` configuration for the annotated labels is stored. It is a JSON file which you can directly read in Python."
   ]
  },
  {
   "cell_type": "code",
   "execution_count": 6,
   "id": "37aa18e0-0c22-47bd-b8d5-d2962efad73b",
   "metadata": {},
   "outputs": [
    {
     "data": {
      "text/plain": [
       "{'label_meta': {'spleen': {'situs': 1, 'angle': 0, 'repetition': 1}}}"
      ]
     },
     "execution_count": 6,
     "metadata": {},
     "output_type": "execute_result"
    }
   ],
   "source": [
    "with (example_img / \"annotations/2021_04_15_09_22_02_meta.json\").open() as f:\n",
    "    annotation_meta = json.load(f)\n",
    "annotation_meta"
   ]
  },
  {
   "cell_type": "markdown",
   "id": "a210130b-6e4f-4d74-bce2-4dca2ef48307",
   "metadata": {},
   "source": [
    "## Annotations (`data/**/annotations/*binary.png` and `data/**/annotations/*coordinates.csv` files)\n",
    "&#127752; htc framework: [`path.read_segmentation()`](../tivita/DataPath.py)\n",
    "\n",
    "These files store the annotated polygon region in the image as binary mask and as a list of coordinates. The naming convention of the files is `timestamp#annotation_name#label_name#file_type`, e.g. `2021_04_15_09_22_02#polygon#annotator1#spleen#binary.png` (`polygon#annotator1` is the annotation_name). The binary mask contains white pixels for the annotated polygon and black pixels for the remaining pixels (only the values 0 and 1 exist). The coordinates is a CSV table denoting the corners of the polygon (in the order it was drawn). The first column denotes the x-position (image column) and the second column the y-position (image row).\n",
    "> &#x26a0;&#xfe0f; It is not recommended to convert the coordinates back to the polygon as there can be subtle differences (e.g. due to different anti-alising settings). Please use the binary mask directly.\n",
    "\n",
    "> &#x26a0;&#xfe0f; It is actually also not recommended to read the binary mask directly. If you want the polygon annotations, please have a look at how to read the segmentation annotations below. This gives you the polygons in a convenient array format and also includes always polygons from all labels."
   ]
  },
  {
   "cell_type": "code",
   "execution_count": 7,
   "id": "5acaf02b-5927-46a2-a80f-0e36960e4282",
   "metadata": {},
   "outputs": [
    {
     "name": "stdout",
     "output_type": "stream",
     "text": [
      "(480, 640) bool\n"
     ]
    },
    {
     "data": {
      "image/png": "[encoded data removed]",
      "text/plain": [
       "<PIL.PngImagePlugin.PngImageFile image mode=1 size=640x480>"
      ]
     },
     "execution_count": 7,
     "metadata": {},
     "output_type": "execute_result"
    }
   ],
   "source": [
    "img = Image.open(example_img / \"annotations/2021_04_15_09_22_02#polygon#annotator1#spleen#binary.png\")\n",
    "print(np.array(img).shape, np.array(img).dtype)\n",
    "img"
   ]
  },
  {
   "cell_type": "code",
   "execution_count": 8,
   "id": "428b0edf-ae39-41e9-bf17-fe51e2cc62e7",
   "metadata": {},
   "outputs": [
    {
     "data": {
      "text/html": [
       "<div>\n",
       "<style scoped>\n",
       "    .dataframe tbody tr th:only-of-type {\n",
       "        vertical-align: middle;\n",
       "    }\n",
       "\n",
       "    .dataframe tbody tr th {\n",
       "        vertical-align: top;\n",
       "    }\n",
       "\n",
       "    .dataframe thead th {\n",
       "        text-align: right;\n",
       "    }\n",
       "</style>\n",
       "<table border=\"1\" class=\"dataframe\">\n",
       "  <thead>\n",
       "    <tr style=\"text-align: right;\">\n",
       "      <th></th>\n",
       "      <th>col</th>\n",
       "      <th>row</th>\n",
       "    </tr>\n",
       "  </thead>\n",
       "  <tbody>\n",
       "    <tr>\n",
       "      <th>0</th>\n",
       "      <td>403.0</td>\n",
       "      <td>208.0</td>\n",
       "    </tr>\n",
       "    <tr>\n",
       "      <th>1</th>\n",
       "      <td>358.0</td>\n",
       "      <td>210.0</td>\n",
       "    </tr>\n",
       "    <tr>\n",
       "      <th>2</th>\n",
       "      <td>312.0</td>\n",
       "      <td>208.0</td>\n",
       "    </tr>\n",
       "    <tr>\n",
       "      <th>3</th>\n",
       "      <td>241.0</td>\n",
       "      <td>208.0</td>\n",
       "    </tr>\n",
       "    <tr>\n",
       "      <th>4</th>\n",
       "      <td>181.0</td>\n",
       "      <td>204.0</td>\n",
       "    </tr>\n",
       "    <tr>\n",
       "      <th>5</th>\n",
       "      <td>148.0</td>\n",
       "      <td>204.0</td>\n",
       "    </tr>\n",
       "    <tr>\n",
       "      <th>6</th>\n",
       "      <td>123.0</td>\n",
       "      <td>206.0</td>\n",
       "    </tr>\n",
       "    <tr>\n",
       "      <th>7</th>\n",
       "      <td>106.0</td>\n",
       "      <td>216.0</td>\n",
       "    </tr>\n",
       "    <tr>\n",
       "      <th>8</th>\n",
       "      <td>109.0</td>\n",
       "      <td>229.0</td>\n",
       "    </tr>\n",
       "    <tr>\n",
       "      <th>9</th>\n",
       "      <td>174.0</td>\n",
       "      <td>245.0</td>\n",
       "    </tr>\n",
       "    <tr>\n",
       "      <th>10</th>\n",
       "      <td>240.0</td>\n",
       "      <td>254.0</td>\n",
       "    </tr>\n",
       "    <tr>\n",
       "      <th>11</th>\n",
       "      <td>297.0</td>\n",
       "      <td>261.0</td>\n",
       "    </tr>\n",
       "    <tr>\n",
       "      <th>12</th>\n",
       "      <td>338.0</td>\n",
       "      <td>261.0</td>\n",
       "    </tr>\n",
       "    <tr>\n",
       "      <th>13</th>\n",
       "      <td>364.0</td>\n",
       "      <td>257.0</td>\n",
       "    </tr>\n",
       "    <tr>\n",
       "      <th>14</th>\n",
       "      <td>391.0</td>\n",
       "      <td>257.0</td>\n",
       "    </tr>\n",
       "    <tr>\n",
       "      <th>15</th>\n",
       "      <td>413.0</td>\n",
       "      <td>259.0</td>\n",
       "    </tr>\n",
       "    <tr>\n",
       "      <th>16</th>\n",
       "      <td>426.0</td>\n",
       "      <td>260.0</td>\n",
       "    </tr>\n",
       "    <tr>\n",
       "      <th>17</th>\n",
       "      <td>433.0</td>\n",
       "      <td>260.0</td>\n",
       "    </tr>\n",
       "    <tr>\n",
       "      <th>18</th>\n",
       "      <td>439.0</td>\n",
       "      <td>260.0</td>\n",
       "    </tr>\n",
       "    <tr>\n",
       "      <th>19</th>\n",
       "      <td>443.0</td>\n",
       "      <td>260.0</td>\n",
       "    </tr>\n",
       "    <tr>\n",
       "      <th>20</th>\n",
       "      <td>446.0</td>\n",
       "      <td>260.0</td>\n",
       "    </tr>\n",
       "    <tr>\n",
       "      <th>21</th>\n",
       "      <td>446.0</td>\n",
       "      <td>260.0</td>\n",
       "    </tr>\n",
       "    <tr>\n",
       "      <th>22</th>\n",
       "      <td>446.0</td>\n",
       "      <td>260.0</td>\n",
       "    </tr>\n",
       "    <tr>\n",
       "      <th>23</th>\n",
       "      <td>447.0</td>\n",
       "      <td>260.0</td>\n",
       "    </tr>\n",
       "  </tbody>\n",
       "</table>\n",
       "</div>"
      ],
      "text/plain": [
       "      col    row\n",
       "0   403.0  208.0\n",
       "1   358.0  210.0\n",
       "2   312.0  208.0\n",
       "3   241.0  208.0\n",
       "4   181.0  204.0\n",
       "5   148.0  204.0\n",
       "6   123.0  206.0\n",
       "7   106.0  216.0\n",
       "8   109.0  229.0\n",
       "9   174.0  245.0\n",
       "10  240.0  254.0\n",
       "11  297.0  261.0\n",
       "12  338.0  261.0\n",
       "13  364.0  257.0\n",
       "14  391.0  257.0\n",
       "15  413.0  259.0\n",
       "16  426.0  260.0\n",
       "17  433.0  260.0\n",
       "18  439.0  260.0\n",
       "19  443.0  260.0\n",
       "20  446.0  260.0\n",
       "21  446.0  260.0\n",
       "22  446.0  260.0\n",
       "23  447.0  260.0"
      ]
     },
     "execution_count": 8,
     "metadata": {},
     "output_type": "execute_result"
    }
   ],
   "source": [
    "pd.read_csv(\n",
    "    example_img / \"annotations/2021_04_15_09_22_02#polygon#annotator1#spleen#coordinates.csv\", names=[\"col\", \"row\"]\n",
    ")"
   ]
  },
  {
   "cell_type": "markdown",
   "id": "2c00de9e-75f3-498a-8c89-60f2e05ec353",
   "metadata": {},
   "source": [
    "## Preprocessed L1 images (`intermediates/preprocessing/L1/*` files)\n",
    "&#127752; htc framework: [`DatasetImage`](../htc/models/image/DatasetImage.py)\n",
    "\n",
    "Here are all L1 normalized HSI images stored as [blosc](https://www.blosc.org/) compressed numpy array."
   ]
  },
  {
   "cell_type": "code",
   "execution_count": 9,
   "id": "c851ed2c-7d05-4bfd-a247-c7085547d42b",
   "metadata": {},
   "outputs": [
    {
     "data": {
      "text/plain": [
       "((480, 640, 100), dtype('float16'))"
      ]
     },
     "execution_count": 9,
     "metadata": {},
     "output_type": "execute_result"
    }
   ],
   "source": [
    "data = decompress_file(settings.intermediates_dir_all / \"preprocessing/L1\" / f\"{example_image_name}.blosc\")\n",
    "(data.shape, data.dtype)"
   ]
  },
  {
   "cell_type": "code",
   "execution_count": 10,
   "id": "1f0758aa-2800-4d60-91ae-b5a2a3acfe15",
   "metadata": {},
   "outputs": [
    {
     "data": {
      "text/plain": [
       "1.0"
      ]
     },
     "execution_count": 10,
     "metadata": {},
     "output_type": "execute_result"
    }
   ],
   "source": [
    "np.sum(data[0, 0, :])"
   ]
  },
  {
   "cell_type": "markdown",
   "id": "9dfc692d-bc6a-4b14-a235-061e245ea55d",
   "metadata": {},
   "source": [
    "The spectra are stored in the float16 format for effeciency reasons: smaller size and faster to load. This is especially important when training on a GPU to ensure an efficient data loading. From our experience, float16 has enough precision for most spectra but it could still be advisable to convert the data to float32 before critical computations (see the [`PrecisionAnalysis`](../htc/data_exploration/PrecisionAnalysis.ipynb) notebook for further information). However, this should be only done *after* the data moved to the GPU to reduce memory transfer costs."
   ]
  },
  {
   "cell_type": "code",
   "execution_count": 11,
   "id": "406b405c-d271-4a3b-a53a-6fab11054084",
   "metadata": {},
   "outputs": [
    {
     "data": {
      "text/plain": [
       "(torch.Size([480, 640, 100]), torch.float32)"
      ]
     },
     "execution_count": 11,
     "metadata": {},
     "output_type": "execute_result"
    }
   ],
   "source": [
    "t = torch.from_numpy(data)\n",
    "# First move to the GPU\n",
    "t = t.cuda()\n",
    "# Then convert to float\n",
    "t = t.float()\n",
    "(t.shape, t.dtype)"
   ]
  },
  {
   "cell_type": "markdown",
   "id": "31d4d65d-0459-42b8-a435-ffa4a4b1a444",
   "metadata": {},
   "source": [
    "## Preprocessed parameter images (`intermediates/preprocessing/parameter_images/*` files)\n",
    "&#127752; htc framework: [`DatasetImage`](../models/image/DatasetImage.py) or [`path.compute_sto2()`](../tivita/DataPath.py), [`path.compute_nir()`](../tivita/DataPath.py), etc.\n",
    "\n",
    "Here are all the precomputed parameter images (e.g. TWI) stored as dict of [blosc](https://www.blosc.org/) compressed numpy arrays."
   ]
  },
  {
   "cell_type": "code",
   "execution_count": 12,
   "id": "4ad0987d-addf-4faa-9a4b-3d6283e552cc",
   "metadata": {},
   "outputs": [
    {
     "data": {
      "text/plain": [
       "{'StO2': array([[0.02002788, 0.01709557, 0.01709557, ..., 0.33653784, 0.33653784,\n",
       "         0.4033152 ],\n",
       "        [0.04322731, 0.01918328, 0.01918328, ..., 0.3284588 , 0.2712109 ,\n",
       "         0.35009134],\n",
       "        [0.04322731, 0.01918328, 0.01709557, ..., 0.2519877 , 0.22937965,\n",
       "         0.22407174],\n",
       "        ...,\n",
       "        [0.51141024, 0.51141024, 0.5116955 , ..., 0.6849694 , 0.6849694 ,\n",
       "         0.7202072 ],\n",
       "        [0.4780488 , 0.50316405, 0.5116955 , ..., 0.6849694 , 0.6849694 ,\n",
       "         0.6849694 ],\n",
       "        [0.4780488 , 0.4780488 , 0.53568697, ..., 0.66323185, 0.66323185,\n",
       "         0.6849694 ]], dtype=float32),\n",
       " 'NIR': array([[1.0000000e-06, 1.0000000e-06, 1.0000000e-06, ..., 3.3124089e-01,\n",
       "         3.6931872e-01, 2.4699521e-01],\n",
       "        [1.0000000e-06, 1.0000000e-06, 1.0000000e-06, ..., 3.3233237e-01,\n",
       "         2.8239799e-01, 2.6467824e-01],\n",
       "        [1.0000000e-06, 1.0000000e-06, 1.0000000e-06, ..., 2.3999858e-01,\n",
       "         2.6326299e-01, 3.2801270e-01],\n",
       "        ...,\n",
       "        [3.9863324e-01, 4.4687009e-01, 4.3977094e-01, ..., 5.0861239e-01,\n",
       "         5.8764482e-01, 5.8237195e-01],\n",
       "        [4.5521808e-01, 5.3078341e-01, 5.4618621e-01, ..., 4.8589778e-01,\n",
       "         5.7669568e-01, 5.5115294e-01],\n",
       "        [4.6374583e-01, 4.3740964e-01, 4.3383002e-01, ..., 5.7674241e-01,\n",
       "         5.3788829e-01, 5.1025414e-01]], dtype=float32),\n",
       " 'TWI': array([[4.5765060e-01, 4.8572761e-01, 4.4834998e-01, ..., 3.7103668e-01,\n",
       "         5.5545390e-01, 1.4150845e-01],\n",
       "        [6.2306750e-01, 7.0024258e-01, 4.8831099e-01, ..., 4.6747991e-01,\n",
       "         1.8476632e-01, 1.1094897e-01],\n",
       "        [4.4882980e-01, 4.6178925e-01, 4.2407447e-01, ..., 1.0000000e-06,\n",
       "         7.4369423e-02, 4.5659241e-01],\n",
       "        ...,\n",
       "        [3.7023846e-02, 8.6061621e-01, 6.2047239e-02, ..., 4.4166693e-01,\n",
       "         6.2122399e-01, 4.4543350e-01],\n",
       "        [2.7607337e-01, 4.2859522e-01, 1.0000000e+00, ..., 1.0475913e-02,\n",
       "         6.0383523e-01, 1.6602817e-01],\n",
       "        [2.5355944e-01, 5.1216221e-01, 4.0134478e-01, ..., 8.9857405e-01,\n",
       "         3.0177158e-01, 2.4006000e-01]], dtype=float32),\n",
       " 'OHI': array([[9.8918390e-01, 1.0000000e+00, 1.0000000e+00, ..., 1.0000000e-06,\n",
       "         1.0000000e-06, 1.0000000e-06],\n",
       "        [9.9653774e-01, 1.0000000e+00, 1.0000000e+00, ..., 1.0000000e-06,\n",
       "         1.0000000e-06, 1.0000000e-06],\n",
       "        [9.0429795e-01, 9.2395371e-01, 9.2124361e-01, ..., 1.0000000e-06,\n",
       "         1.0000000e-06, 1.0000000e-06],\n",
       "        ...,\n",
       "        [6.5225840e-01, 7.0247167e-01, 5.9640574e-01, ..., 6.6082162e-01,\n",
       "         6.4992785e-01, 5.6568587e-01],\n",
       "        [7.2157609e-01, 5.7120872e-01, 6.7044008e-01, ..., 6.7753226e-01,\n",
       "         5.9659111e-01, 5.5806077e-01],\n",
       "        [6.1894858e-01, 7.1480334e-01, 6.3119698e-01, ..., 6.9488966e-01,\n",
       "         6.4331728e-01, 5.5071920e-01]], dtype=float32),\n",
       " 'TLI': array([[1.0000000e-06, 1.0000000e-06, 1.0000000e-06, ..., 4.0920636e-01,\n",
       "         4.9146450e-01, 5.2092719e-01],\n",
       "        [1.0000000e-06, 1.0000000e-06, 1.0000000e-06, ..., 3.1010991e-01,\n",
       "         2.4663533e-01, 8.9398898e-02],\n",
       "        [1.0000000e-06, 1.0000000e-06, 1.0000000e-06, ..., 2.4663533e-01,\n",
       "         8.9398898e-02, 2.8499091e-02],\n",
       "        ...,\n",
       "        [1.0000000e-06, 1.0000000e-06, 1.0000000e-06, ..., 3.3700714e-01,\n",
       "         3.3700714e-01, 3.5785449e-01],\n",
       "        [1.0000000e-06, 1.0000000e-06, 1.0000000e-06, ..., 3.5785449e-01,\n",
       "         3.5785449e-01, 5.0867474e-01],\n",
       "        [1.0000000e-06, 1.0000000e-06, 1.0000000e-06, ..., 3.5785449e-01,\n",
       "         4.5820698e-01, 5.0867474e-01]], dtype=float32),\n",
       " 'THI': array([[1.e+00, 1.e+00, 1.e+00, ..., 2.e-06, 2.e-06, 2.e-06],\n",
       "        [1.e+00, 1.e+00, 1.e+00, ..., 2.e-06, 2.e-06, 2.e-06],\n",
       "        [1.e+00, 1.e+00, 1.e+00, ..., 2.e-06, 2.e-06, 2.e-06],\n",
       "        ...,\n",
       "        [1.e+00, 1.e+00, 1.e+00, ..., 1.e+00, 1.e+00, 1.e+00],\n",
       "        [1.e+00, 1.e+00, 1.e+00, ..., 1.e+00, 1.e+00, 1.e+00],\n",
       "        [1.e+00, 1.e+00, 1.e+00, ..., 1.e+00, 1.e+00, 1.e+00]],\n",
       "       dtype=float32),\n",
       " 'background': array([[False, False, False, ..., False, False, False],\n",
       "        [False, False, False, ..., False, False, False],\n",
       "        [False, False, False, ..., False, False, False],\n",
       "        ...,\n",
       "        [False, False, False, ..., False, False, False],\n",
       "        [False, False, False, ..., False, False, False],\n",
       "        [False, False, False, ..., False, False, False]])}"
      ]
     },
     "execution_count": 12,
     "metadata": {},
     "output_type": "execute_result"
    }
   ],
   "source": [
    "decompress_file(settings.intermediates_dir_all / \"preprocessing/parameter_images\" / f\"{example_image_name}.blosc\")"
   ]
  },
  {
   "cell_type": "markdown",
   "id": "6eac8cce-866d-4542-9f4e-42b24e2580d1",
   "metadata": {},
   "source": [
    "The Tivita camera usually runs a background predictions and automatically blacks out those areas in the parameter images. In contrast, the values above are the original values without any background predictions. Instead, the result of the background prediction is stored extra in the `background` key with `True` indicating a background (i.e. invalid) pixel."
   ]
  },
  {
   "cell_type": "markdown",
   "id": "429924f8-b353-4d3a-9f0e-6fc1fccf87d6",
   "metadata": {},
   "source": [
    "## Segmentation annotations (`intermediates/segmentations/*` files)\n",
    "&#127752; htc framework: [`path.read_segmentation()`](../htc/tivita/DataPath.py)\n",
    "\n",
    "These files store the combined polygon annotations for each image as [blosc](https://www.blosc.org/) compressed numpy arrays. In contrast to the binary PNG files from above, you read directly a label image with label indices according to the label mapping defined in the `dataset_settings.json`. Further, the label image contains polygons for all organs at once. That is, if an image has two polygon annotations, they are both included in the label mask. The loaded data is a dictionary with a label mask per `annotation_name`."
   ]
  },
  {
   "cell_type": "code",
   "execution_count": 13,
   "id": "4f3c880b-f052-4739-b82d-9571e80ab0c6",
   "metadata": {},
   "outputs": [
    {
     "data": {
      "text/plain": [
       "{'polygon#annotator1': array([[255, 255, 255, ..., 255, 255, 255],\n",
       "        [255, 255, 255, ..., 255, 255, 255],\n",
       "        [255, 255, 255, ..., 255, 255, 255],\n",
       "        ...,\n",
       "        [255, 255, 255, ..., 255, 255, 255],\n",
       "        [255, 255, 255, ..., 255, 255, 255],\n",
       "        [255, 255, 255, ..., 255, 255, 255]], dtype=uint8),\n",
       " 'polygon#annotator2': array([[255, 255, 255, ..., 255, 255, 255],\n",
       "        [255, 255, 255, ..., 255, 255, 255],\n",
       "        [255, 255, 255, ..., 255, 255, 255],\n",
       "        ...,\n",
       "        [255, 255, 255, ..., 255, 255, 255],\n",
       "        [255, 255, 255, ..., 255, 255, 255],\n",
       "        [255, 255, 255, ..., 255, 255, 255]], dtype=uint8),\n",
       " 'polygon#annotator3': array([[255, 255, 255, ..., 255, 255, 255],\n",
       "        [255, 255, 255, ..., 255, 255, 255],\n",
       "        [255, 255, 255, ..., 255, 255, 255],\n",
       "        ...,\n",
       "        [255, 255, 255, ..., 255, 255, 255],\n",
       "        [255, 255, 255, ..., 255, 255, 255],\n",
       "        [255, 255, 255, ..., 255, 255, 255]], dtype=uint8)}"
      ]
     },
     "execution_count": 13,
     "metadata": {},
     "output_type": "execute_result"
    }
   ],
   "source": [
    "seg = decompress_file(settings.intermediates_dir_all / \"segmentations\" / f\"{example_image_name}.blosc\")\n",
    "seg"
   ]
  },
  {
   "cell_type": "code",
   "execution_count": 14,
   "id": "97c9bbcf-0239-4ad6-a4db-947d274679fb",
   "metadata": {},
   "outputs": [
    {
     "data": {
      "text/plain": [
       "array([  7, 255], dtype=uint8)"
      ]
     },
     "execution_count": 14,
     "metadata": {},
     "output_type": "execute_result"
    }
   ],
   "source": [
    "np.unique(seg[\"polygon#annotator1\"])"
   ]
  },
  {
   "cell_type": "markdown",
   "id": "895feef9-3b29-40d0-bf4c-92943eacd335",
   "metadata": {},
   "source": [
    "The label mapping of the dataset settings tell you the meaning of the label indices (e.g. 7 corresponds to the spleen annotation).\n",
    "\n",
    "&#127752; htc framework: [`DatasetSettings`](../htc/tivita/DatasetSettings.py)"
   ]
  },
  {
   "cell_type": "code",
   "execution_count": 15,
   "id": "ff15380d-e989-48a7-8835-17f2f51291cd",
   "metadata": {},
   "outputs": [
    {
     "data": {
      "text/plain": [
       "{'dataset_name': 'HeiPorSPECTRAL',\n",
       " 'data_path_class': 'htc.tivita.DataPathMultiorgan>DataPathMultiorgan',\n",
       " 'shape': [480, 640, 100],\n",
       " 'shape_names': ['height', 'width', 'channels'],\n",
       " 'label_mapping': {'stomach': 0,\n",
       "  'small_bowel': 1,\n",
       "  'colon': 2,\n",
       "  'liver': 3,\n",
       "  'gallbladder': 4,\n",
       "  'pancreas': 5,\n",
       "  'kidney': 6,\n",
       "  'spleen': 7,\n",
       "  'bladder': 8,\n",
       "  'omentum': 9,\n",
       "  'lung': 10,\n",
       "  'heart': 11,\n",
       "  'cartilage': 12,\n",
       "  'bone': 13,\n",
       "  'skin': 14,\n",
       "  'muscle': 15,\n",
       "  'peritoneum': 16,\n",
       "  'major_vein': 17,\n",
       "  'kidney_with_Gerotas_fascia': 18,\n",
       "  'bile_fluid': 19,\n",
       "  'overlap': 254,\n",
       "  'unlabeled': 255},\n",
       " 'last_valid_label_index': 19,\n",
       " 'label_ordering': {'stomach': '01',\n",
       "  'small_bowel': '02',\n",
       "  'colon': '03',\n",
       "  'liver': '04',\n",
       "  'gallbladder': '05',\n",
       "  'pancreas': '06',\n",
       "  'kidney': '07',\n",
       "  'spleen': '08',\n",
       "  'bladder': '09',\n",
       "  'omentum': '10',\n",
       "  'lung': '11',\n",
       "  'heart': '12',\n",
       "  'cartilage': '13',\n",
       "  'bone': '14',\n",
       "  'skin': '15',\n",
       "  'muscle': '16',\n",
       "  'peritoneum': '17',\n",
       "  'major_vein': '18',\n",
       "  'kidney_with_Gerotas_fascia': '19',\n",
       "  'bile_fluid': '20'},\n",
       " 'annotator_mapping': {'annotator1': 'Marc Bressan',\n",
       "  'annotator2': 'Alexander Studier-Fischer',\n",
       "  'annotator3': 'Berkin Özdemir'},\n",
       " 'subject_mapping': {'P086': 'P01',\n",
       "  'P087': 'P02',\n",
       "  'P088': 'P03',\n",
       "  'P089': 'P04',\n",
       "  'P090': 'P05',\n",
       "  'P091': 'P06',\n",
       "  'P092': 'P07',\n",
       "  'P093': 'P08',\n",
       "  'P094': 'P09',\n",
       "  'P095': 'P10',\n",
       "  'P096': 'P11'}}"
      ]
     },
     "execution_count": 15,
     "metadata": {},
     "output_type": "execute_result"
    }
   ],
   "source": [
    "with (settings.data_dirs[\"HeiPorSPECTRAL\"] / \"dataset_settings.json\").open() as f:\n",
    "    seg_meta = json.load(f)\n",
    "seg_meta"
   ]
  },
  {
   "cell_type": "markdown",
   "id": "e6cbd336-8588-4cee-94d4-12ce6e355a8a",
   "metadata": {},
   "source": [
    "## Median spectra table (`intermediates/tables/HeiPorSPECTRAL@median_spectra@*` files)\n",
    "&#127752; htc framework: [`median_table()`](../htc/utils/helper_functions.py)\n",
    "\n",
    "It is very often convenient to work with median spectra instead of the raw spectra as the latter can be quite noisy. This is why computed the median spectra per image, label and annotator and stored them in tables in the precomputed files. The files are split per `annotation_name` and are stored as CSV and feather file. The CSV file can be useful for visualization to open in your favorite spreadsheet editor. However, for optimal performance it is highly recommended to use the feather files (smaller and faster to read)."
   ]
  },
  {
   "cell_type": "code",
   "execution_count": 16,
   "id": "f759afd9-23d0-4c46-aa5b-7d3739b4ad0e",
   "metadata": {},
   "outputs": [
    {
     "data": {
      "text/html": [
       "<div>\n",
       "<style scoped>\n",
       "    .dataframe tbody tr th:only-of-type {\n",
       "        vertical-align: middle;\n",
       "    }\n",
       "\n",
       "    .dataframe tbody tr th {\n",
       "        vertical-align: top;\n",
       "    }\n",
       "\n",
       "    .dataframe thead th {\n",
       "        text-align: right;\n",
       "    }\n",
       "</style>\n",
       "<table border=\"1\" class=\"dataframe\">\n",
       "  <thead>\n",
       "    <tr style=\"text-align: right;\">\n",
       "      <th></th>\n",
       "      <th>image_name</th>\n",
       "      <th>subject_name</th>\n",
       "      <th>timestamp</th>\n",
       "      <th>label_index</th>\n",
       "      <th>label_name</th>\n",
       "      <th>median_spectrum</th>\n",
       "      <th>std_spectrum</th>\n",
       "      <th>median_normalized_spectrum</th>\n",
       "      <th>std_normalized_spectrum</th>\n",
       "      <th>n_pixels</th>\n",
       "      <th>...</th>\n",
       "      <th>SW_Name</th>\n",
       "      <th>SW_Version</th>\n",
       "      <th>Fremdlichterkennung_Fremdlicht erkannt?</th>\n",
       "      <th>Fremdlichterkennung_PixelmitFremdlicht</th>\n",
       "      <th>Fremdlichterkennung_Breite LED Rot</th>\n",
       "      <th>Fremdlichterkennung_Breite LED Gruen</th>\n",
       "      <th>Fremdlichterkennung_Grenzwert Pixelanzahl</th>\n",
       "      <th>Fremdlichterkennung_Intensity Grenzwert</th>\n",
       "      <th>Aufnahme_Aufnahmemodus</th>\n",
       "      <th>camera_name</th>\n",
       "    </tr>\n",
       "  </thead>\n",
       "  <tbody>\n",
       "    <tr>\n",
       "      <th>0</th>\n",
       "      <td>P086#2021_04_15_11_38_04</td>\n",
       "      <td>P086</td>\n",
       "      <td>2021_04_15_11_38_04</td>\n",
       "      <td>0</td>\n",
       "      <td>stomach</td>\n",
       "      <td>[0.298144, 0.2833822, 0.2614737, 0.23648293, 0...</td>\n",
       "      <td>[0.17259361, 0.16893886, 0.16671665, 0.1658238...</td>\n",
       "      <td>[0.0063450593, 0.006019631, 0.005552271, 0.005...</td>\n",
       "      <td>[0.001271573, 0.0011821607, 0.0011256082, 0.00...</td>\n",
       "      <td>34203</td>\n",
       "      <td>...</td>\n",
       "      <td>TIVITA® Suite</td>\n",
       "      <td>1.6.0.1</td>\n",
       "      <td>False</td>\n",
       "      <td>6.0</td>\n",
       "      <td>50.0</td>\n",
       "      <td>50.0</td>\n",
       "      <td>100.0</td>\n",
       "      <td>7.0</td>\n",
       "      <td>Reflektanz</td>\n",
       "      <td>0202-00118_correct-1</td>\n",
       "    </tr>\n",
       "    <tr>\n",
       "      <th>1</th>\n",
       "      <td>P086#2021_04_15_11_38_26</td>\n",
       "      <td>P086</td>\n",
       "      <td>2021_04_15_11_38_26</td>\n",
       "      <td>0</td>\n",
       "      <td>stomach</td>\n",
       "      <td>[0.2836912, 0.26937896, 0.2474714, 0.2232979, ...</td>\n",
       "      <td>[0.15054636, 0.14754522, 0.14422333, 0.1433670...</td>\n",
       "      <td>[0.0063025337, 0.005978748, 0.0055006156, 0.00...</td>\n",
       "      <td>[0.0011646454, 0.0010641138, 0.0010057053, 0.0...</td>\n",
       "      <td>40668</td>\n",
       "      <td>...</td>\n",
       "      <td>TIVITA® Suite</td>\n",
       "      <td>1.6.0.1</td>\n",
       "      <td>False</td>\n",
       "      <td>0.0</td>\n",
       "      <td>50.0</td>\n",
       "      <td>50.0</td>\n",
       "      <td>100.0</td>\n",
       "      <td>7.0</td>\n",
       "      <td>Reflektanz</td>\n",
       "      <td>0202-00118_correct-1</td>\n",
       "    </tr>\n",
       "    <tr>\n",
       "      <th>2</th>\n",
       "      <td>P086#2021_04_15_11_38_46</td>\n",
       "      <td>P086</td>\n",
       "      <td>2021_04_15_11_38_46</td>\n",
       "      <td>0</td>\n",
       "      <td>stomach</td>\n",
       "      <td>[0.31284106, 0.29669726, 0.27237016, 0.2458267...</td>\n",
       "      <td>[0.22051434, 0.2156419, 0.21059874, 0.20798233...</td>\n",
       "      <td>[0.006193708, 0.005865203, 0.00539036, 0.00485...</td>\n",
       "      <td>[0.0013146227, 0.0012250107, 0.0011614197, 0.0...</td>\n",
       "      <td>40530</td>\n",
       "      <td>...</td>\n",
       "      <td>TIVITA® Suite</td>\n",
       "      <td>1.6.0.1</td>\n",
       "      <td>False</td>\n",
       "      <td>0.0</td>\n",
       "      <td>50.0</td>\n",
       "      <td>50.0</td>\n",
       "      <td>100.0</td>\n",
       "      <td>7.0</td>\n",
       "      <td>Reflektanz</td>\n",
       "      <td>0202-00118_correct-1</td>\n",
       "    </tr>\n",
       "    <tr>\n",
       "      <th>3</th>\n",
       "      <td>P086#2021_04_15_11_39_47</td>\n",
       "      <td>P086</td>\n",
       "      <td>2021_04_15_11_39_47</td>\n",
       "      <td>0</td>\n",
       "      <td>stomach</td>\n",
       "      <td>[0.21817692, 0.20727506, 0.19052061, 0.1700369...</td>\n",
       "      <td>[0.11722602, 0.11280198, 0.10882231, 0.1058688...</td>\n",
       "      <td>[0.005955641, 0.0056763296, 0.005219719, 0.004...</td>\n",
       "      <td>[0.0010781332, 0.0009825683, 0.000938003, 0.00...</td>\n",
       "      <td>32755</td>\n",
       "      <td>...</td>\n",
       "      <td>TIVITA® Suite</td>\n",
       "      <td>1.6.0.1</td>\n",
       "      <td>False</td>\n",
       "      <td>0.0</td>\n",
       "      <td>50.0</td>\n",
       "      <td>50.0</td>\n",
       "      <td>100.0</td>\n",
       "      <td>7.0</td>\n",
       "      <td>Reflektanz</td>\n",
       "      <td>0202-00118_correct-1</td>\n",
       "    </tr>\n",
       "    <tr>\n",
       "      <th>4</th>\n",
       "      <td>P086#2021_04_15_11_40_03</td>\n",
       "      <td>P086</td>\n",
       "      <td>2021_04_15_11_40_03</td>\n",
       "      <td>0</td>\n",
       "      <td>stomach</td>\n",
       "      <td>[0.22648579, 0.21569103, 0.19833657, 0.1769348...</td>\n",
       "      <td>[0.16263519, 0.1591804, 0.15491623, 0.15301572...</td>\n",
       "      <td>[0.005900712, 0.0056145145, 0.0051732482, 0.00...</td>\n",
       "      <td>[0.0011768824, 0.0010873155, 0.0010396767, 0.0...</td>\n",
       "      <td>29989</td>\n",
       "      <td>...</td>\n",
       "      <td>TIVITA® Suite</td>\n",
       "      <td>1.6.0.1</td>\n",
       "      <td>False</td>\n",
       "      <td>0.0</td>\n",
       "      <td>50.0</td>\n",
       "      <td>50.0</td>\n",
       "      <td>100.0</td>\n",
       "      <td>7.0</td>\n",
       "      <td>Reflektanz</td>\n",
       "      <td>0202-00118_correct-1</td>\n",
       "    </tr>\n",
       "    <tr>\n",
       "      <th>...</th>\n",
       "      <td>...</td>\n",
       "      <td>...</td>\n",
       "      <td>...</td>\n",
       "      <td>...</td>\n",
       "      <td>...</td>\n",
       "      <td>...</td>\n",
       "      <td>...</td>\n",
       "      <td>...</td>\n",
       "      <td>...</td>\n",
       "      <td>...</td>\n",
       "      <td>...</td>\n",
       "      <td>...</td>\n",
       "      <td>...</td>\n",
       "      <td>...</td>\n",
       "      <td>...</td>\n",
       "      <td>...</td>\n",
       "      <td>...</td>\n",
       "      <td>...</td>\n",
       "      <td>...</td>\n",
       "      <td>...</td>\n",
       "      <td>...</td>\n",
       "    </tr>\n",
       "    <tr>\n",
       "      <th>5753</th>\n",
       "      <td>P096#2021_05_06_15_28_36</td>\n",
       "      <td>P096</td>\n",
       "      <td>2021_05_06_15_28_36</td>\n",
       "      <td>19</td>\n",
       "      <td>bile_fluid</td>\n",
       "      <td>[0.2697025, 0.2929984, 0.31844398, 0.35280922,...</td>\n",
       "      <td>[0.023736877, 0.023094563, 0.022490172, 0.0239...</td>\n",
       "      <td>[0.003944449, 0.0042777774, 0.00469031, 0.0051...</td>\n",
       "      <td>[0.00027948705, 0.00023092398, 0.00021718781, ...</td>\n",
       "      <td>212</td>\n",
       "      <td>...</td>\n",
       "      <td>TIVITA® Suite</td>\n",
       "      <td>1.6.0.1</td>\n",
       "      <td>False</td>\n",
       "      <td>0.0</td>\n",
       "      <td>50.0</td>\n",
       "      <td>50.0</td>\n",
       "      <td>100.0</td>\n",
       "      <td>7.0</td>\n",
       "      <td>Reflektanz</td>\n",
       "      <td>0202-00118_correct-1</td>\n",
       "    </tr>\n",
       "    <tr>\n",
       "      <th>5754</th>\n",
       "      <td>P096#2021_05_06_15_28_54</td>\n",
       "      <td>P096</td>\n",
       "      <td>2021_05_06_15_28_54</td>\n",
       "      <td>19</td>\n",
       "      <td>bile_fluid</td>\n",
       "      <td>[0.2716373, 0.29821837, 0.32699224, 0.35788986...</td>\n",
       "      <td>[0.022481319, 0.02279567, 0.023404775, 0.02491...</td>\n",
       "      <td>[0.0040078103, 0.004326169, 0.0047555175, 0.00...</td>\n",
       "      <td>[0.00026184923, 0.00023373059, 0.00022477358, ...</td>\n",
       "      <td>217</td>\n",
       "      <td>...</td>\n",
       "      <td>TIVITA® Suite</td>\n",
       "      <td>1.6.0.1</td>\n",
       "      <td>False</td>\n",
       "      <td>0.0</td>\n",
       "      <td>50.0</td>\n",
       "      <td>50.0</td>\n",
       "      <td>100.0</td>\n",
       "      <td>7.0</td>\n",
       "      <td>Reflektanz</td>\n",
       "      <td>0202-00118_correct-1</td>\n",
       "    </tr>\n",
       "    <tr>\n",
       "      <th>5755</th>\n",
       "      <td>P096#2021_05_06_15_29_23</td>\n",
       "      <td>P096</td>\n",
       "      <td>2021_05_06_15_29_23</td>\n",
       "      <td>19</td>\n",
       "      <td>bile_fluid</td>\n",
       "      <td>[0.29648936, 0.32319617, 0.35186213, 0.3834723...</td>\n",
       "      <td>[0.031547118, 0.030895296, 0.031834405, 0.0334...</td>\n",
       "      <td>[0.0043794527, 0.0047872895, 0.0052062217, 0.0...</td>\n",
       "      <td>[0.00040560725, 0.0003736044, 0.00035140596, 0...</td>\n",
       "      <td>1078</td>\n",
       "      <td>...</td>\n",
       "      <td>TIVITA® Suite</td>\n",
       "      <td>1.6.0.1</td>\n",
       "      <td>False</td>\n",
       "      <td>0.0</td>\n",
       "      <td>50.0</td>\n",
       "      <td>50.0</td>\n",
       "      <td>100.0</td>\n",
       "      <td>7.0</td>\n",
       "      <td>Reflektanz</td>\n",
       "      <td>0202-00118_correct-1</td>\n",
       "    </tr>\n",
       "    <tr>\n",
       "      <th>5756</th>\n",
       "      <td>P096#2021_05_06_15_29_42</td>\n",
       "      <td>P096</td>\n",
       "      <td>2021_05_06_15_29_42</td>\n",
       "      <td>19</td>\n",
       "      <td>bile_fluid</td>\n",
       "      <td>[0.30476114, 0.33271345, 0.3607675, 0.39154196...</td>\n",
       "      <td>[0.030348146, 0.03109946, 0.031819478, 0.03337...</td>\n",
       "      <td>[0.004464597, 0.0048542684, 0.0053060246, 0.00...</td>\n",
       "      <td>[0.0003804933, 0.00036229528, 0.00034811712, 0...</td>\n",
       "      <td>1093</td>\n",
       "      <td>...</td>\n",
       "      <td>TIVITA® Suite</td>\n",
       "      <td>1.6.0.1</td>\n",
       "      <td>False</td>\n",
       "      <td>0.0</td>\n",
       "      <td>50.0</td>\n",
       "      <td>50.0</td>\n",
       "      <td>100.0</td>\n",
       "      <td>7.0</td>\n",
       "      <td>Reflektanz</td>\n",
       "      <td>0202-00118_correct-1</td>\n",
       "    </tr>\n",
       "    <tr>\n",
       "      <th>5757</th>\n",
       "      <td>P096#2021_05_06_15_30_05</td>\n",
       "      <td>P096</td>\n",
       "      <td>2021_05_06_15_30_05</td>\n",
       "      <td>19</td>\n",
       "      <td>bile_fluid</td>\n",
       "      <td>[0.30744898, 0.33477962, 0.36619064, 0.3994193...</td>\n",
       "      <td>[0.031559493, 0.03294732, 0.03370346, 0.035416...</td>\n",
       "      <td>[0.004467981, 0.0048671938, 0.005328843, 0.005...</td>\n",
       "      <td>[0.00039446805, 0.00037879418, 0.00036432064, ...</td>\n",
       "      <td>1095</td>\n",
       "      <td>...</td>\n",
       "      <td>TIVITA® Suite</td>\n",
       "      <td>1.6.0.1</td>\n",
       "      <td>False</td>\n",
       "      <td>0.0</td>\n",
       "      <td>50.0</td>\n",
       "      <td>50.0</td>\n",
       "      <td>100.0</td>\n",
       "      <td>7.0</td>\n",
       "      <td>Reflektanz</td>\n",
       "      <td>0202-00118_correct-1</td>\n",
       "    </tr>\n",
       "  </tbody>\n",
       "</table>\n",
       "<p>5758 rows × 30 columns</p>\n",
       "</div>"
      ],
      "text/plain": [
       "                    image_name subject_name            timestamp  label_index  \\\n",
       "0     P086#2021_04_15_11_38_04         P086  2021_04_15_11_38_04            0   \n",
       "1     P086#2021_04_15_11_38_26         P086  2021_04_15_11_38_26            0   \n",
       "2     P086#2021_04_15_11_38_46         P086  2021_04_15_11_38_46            0   \n",
       "3     P086#2021_04_15_11_39_47         P086  2021_04_15_11_39_47            0   \n",
       "4     P086#2021_04_15_11_40_03         P086  2021_04_15_11_40_03            0   \n",
       "...                        ...          ...                  ...          ...   \n",
       "5753  P096#2021_05_06_15_28_36         P096  2021_05_06_15_28_36           19   \n",
       "5754  P096#2021_05_06_15_28_54         P096  2021_05_06_15_28_54           19   \n",
       "5755  P096#2021_05_06_15_29_23         P096  2021_05_06_15_29_23           19   \n",
       "5756  P096#2021_05_06_15_29_42         P096  2021_05_06_15_29_42           19   \n",
       "5757  P096#2021_05_06_15_30_05         P096  2021_05_06_15_30_05           19   \n",
       "\n",
       "      label_name                                    median_spectrum  \\\n",
       "0        stomach  [0.298144, 0.2833822, 0.2614737, 0.23648293, 0...   \n",
       "1        stomach  [0.2836912, 0.26937896, 0.2474714, 0.2232979, ...   \n",
       "2        stomach  [0.31284106, 0.29669726, 0.27237016, 0.2458267...   \n",
       "3        stomach  [0.21817692, 0.20727506, 0.19052061, 0.1700369...   \n",
       "4        stomach  [0.22648579, 0.21569103, 0.19833657, 0.1769348...   \n",
       "...          ...                                                ...   \n",
       "5753  bile_fluid  [0.2697025, 0.2929984, 0.31844398, 0.35280922,...   \n",
       "5754  bile_fluid  [0.2716373, 0.29821837, 0.32699224, 0.35788986...   \n",
       "5755  bile_fluid  [0.29648936, 0.32319617, 0.35186213, 0.3834723...   \n",
       "5756  bile_fluid  [0.30476114, 0.33271345, 0.3607675, 0.39154196...   \n",
       "5757  bile_fluid  [0.30744898, 0.33477962, 0.36619064, 0.3994193...   \n",
       "\n",
       "                                           std_spectrum  \\\n",
       "0     [0.17259361, 0.16893886, 0.16671665, 0.1658238...   \n",
       "1     [0.15054636, 0.14754522, 0.14422333, 0.1433670...   \n",
       "2     [0.22051434, 0.2156419, 0.21059874, 0.20798233...   \n",
       "3     [0.11722602, 0.11280198, 0.10882231, 0.1058688...   \n",
       "4     [0.16263519, 0.1591804, 0.15491623, 0.15301572...   \n",
       "...                                                 ...   \n",
       "5753  [0.023736877, 0.023094563, 0.022490172, 0.0239...   \n",
       "5754  [0.022481319, 0.02279567, 0.023404775, 0.02491...   \n",
       "5755  [0.031547118, 0.030895296, 0.031834405, 0.0334...   \n",
       "5756  [0.030348146, 0.03109946, 0.031819478, 0.03337...   \n",
       "5757  [0.031559493, 0.03294732, 0.03370346, 0.035416...   \n",
       "\n",
       "                             median_normalized_spectrum  \\\n",
       "0     [0.0063450593, 0.006019631, 0.005552271, 0.005...   \n",
       "1     [0.0063025337, 0.005978748, 0.0055006156, 0.00...   \n",
       "2     [0.006193708, 0.005865203, 0.00539036, 0.00485...   \n",
       "3     [0.005955641, 0.0056763296, 0.005219719, 0.004...   \n",
       "4     [0.005900712, 0.0056145145, 0.0051732482, 0.00...   \n",
       "...                                                 ...   \n",
       "5753  [0.003944449, 0.0042777774, 0.00469031, 0.0051...   \n",
       "5754  [0.0040078103, 0.004326169, 0.0047555175, 0.00...   \n",
       "5755  [0.0043794527, 0.0047872895, 0.0052062217, 0.0...   \n",
       "5756  [0.004464597, 0.0048542684, 0.0053060246, 0.00...   \n",
       "5757  [0.004467981, 0.0048671938, 0.005328843, 0.005...   \n",
       "\n",
       "                                std_normalized_spectrum  n_pixels  ...  \\\n",
       "0     [0.001271573, 0.0011821607, 0.0011256082, 0.00...     34203  ...   \n",
       "1     [0.0011646454, 0.0010641138, 0.0010057053, 0.0...     40668  ...   \n",
       "2     [0.0013146227, 0.0012250107, 0.0011614197, 0.0...     40530  ...   \n",
       "3     [0.0010781332, 0.0009825683, 0.000938003, 0.00...     32755  ...   \n",
       "4     [0.0011768824, 0.0010873155, 0.0010396767, 0.0...     29989  ...   \n",
       "...                                                 ...       ...  ...   \n",
       "5753  [0.00027948705, 0.00023092398, 0.00021718781, ...       212  ...   \n",
       "5754  [0.00026184923, 0.00023373059, 0.00022477358, ...       217  ...   \n",
       "5755  [0.00040560725, 0.0003736044, 0.00035140596, 0...      1078  ...   \n",
       "5756  [0.0003804933, 0.00036229528, 0.00034811712, 0...      1093  ...   \n",
       "5757  [0.00039446805, 0.00037879418, 0.00036432064, ...      1095  ...   \n",
       "\n",
       "            SW_Name SW_Version  Fremdlichterkennung_Fremdlicht erkannt?  \\\n",
       "0     TIVITA® Suite    1.6.0.1                                    False   \n",
       "1     TIVITA® Suite    1.6.0.1                                    False   \n",
       "2     TIVITA® Suite    1.6.0.1                                    False   \n",
       "3     TIVITA® Suite    1.6.0.1                                    False   \n",
       "4     TIVITA® Suite    1.6.0.1                                    False   \n",
       "...             ...        ...                                      ...   \n",
       "5753  TIVITA® Suite    1.6.0.1                                    False   \n",
       "5754  TIVITA® Suite    1.6.0.1                                    False   \n",
       "5755  TIVITA® Suite    1.6.0.1                                    False   \n",
       "5756  TIVITA® Suite    1.6.0.1                                    False   \n",
       "5757  TIVITA® Suite    1.6.0.1                                    False   \n",
       "\n",
       "      Fremdlichterkennung_PixelmitFremdlicht  \\\n",
       "0                                        6.0   \n",
       "1                                        0.0   \n",
       "2                                        0.0   \n",
       "3                                        0.0   \n",
       "4                                        0.0   \n",
       "...                                      ...   \n",
       "5753                                     0.0   \n",
       "5754                                     0.0   \n",
       "5755                                     0.0   \n",
       "5756                                     0.0   \n",
       "5757                                     0.0   \n",
       "\n",
       "      Fremdlichterkennung_Breite LED Rot Fremdlichterkennung_Breite LED Gruen  \\\n",
       "0                                   50.0                                 50.0   \n",
       "1                                   50.0                                 50.0   \n",
       "2                                   50.0                                 50.0   \n",
       "3                                   50.0                                 50.0   \n",
       "4                                   50.0                                 50.0   \n",
       "...                                  ...                                  ...   \n",
       "5753                                50.0                                 50.0   \n",
       "5754                                50.0                                 50.0   \n",
       "5755                                50.0                                 50.0   \n",
       "5756                                50.0                                 50.0   \n",
       "5757                                50.0                                 50.0   \n",
       "\n",
       "      Fremdlichterkennung_Grenzwert Pixelanzahl  \\\n",
       "0                                         100.0   \n",
       "1                                         100.0   \n",
       "2                                         100.0   \n",
       "3                                         100.0   \n",
       "4                                         100.0   \n",
       "...                                         ...   \n",
       "5753                                      100.0   \n",
       "5754                                      100.0   \n",
       "5755                                      100.0   \n",
       "5756                                      100.0   \n",
       "5757                                      100.0   \n",
       "\n",
       "      Fremdlichterkennung_Intensity Grenzwert  Aufnahme_Aufnahmemodus  \\\n",
       "0                                         7.0              Reflektanz   \n",
       "1                                         7.0              Reflektanz   \n",
       "2                                         7.0              Reflektanz   \n",
       "3                                         7.0              Reflektanz   \n",
       "4                                         7.0              Reflektanz   \n",
       "...                                       ...                     ...   \n",
       "5753                                      7.0              Reflektanz   \n",
       "5754                                      7.0              Reflektanz   \n",
       "5755                                      7.0              Reflektanz   \n",
       "5756                                      7.0              Reflektanz   \n",
       "5757                                      7.0              Reflektanz   \n",
       "\n",
       "               camera_name  \n",
       "0     0202-00118_correct-1  \n",
       "1     0202-00118_correct-1  \n",
       "2     0202-00118_correct-1  \n",
       "3     0202-00118_correct-1  \n",
       "4     0202-00118_correct-1  \n",
       "...                    ...  \n",
       "5753  0202-00118_correct-1  \n",
       "5754  0202-00118_correct-1  \n",
       "5755  0202-00118_correct-1  \n",
       "5756  0202-00118_correct-1  \n",
       "5757  0202-00118_correct-1  \n",
       "\n",
       "[5758 rows x 30 columns]"
      ]
     },
     "execution_count": 16,
     "metadata": {},
     "output_type": "execute_result"
    }
   ],
   "source": [
    "df = pd.read_feather(settings.intermediates_dir_all / \"tables/HeiPorSPECTRAL@median_spectra@polygon#annotator1.feather\")\n",
    "df"
   ]
  },
  {
   "cell_type": "markdown",
   "id": "5d5bf859-66d5-4f5e-a6a4-f16d3aad9434",
   "metadata": {},
   "source": [
    "The median spectra are stored together with the standard deviation (across pixels) based on the original reflectance values (`median_spectrum` and `std_spectrum`) and L1 normalized values (`median_normalized_spectrum` and `std_normalized_spectrum`). The median or standard deviation are always computed  separately per channel. With this, you can e.g. compute the mean median for one label and subject:"
   ]
  },
  {
   "cell_type": "code",
   "execution_count": 17,
   "id": "23207091-4a4b-4890-9d45-2323779bb66d",
   "metadata": {},
   "outputs": [
    {
     "data": {
      "text/plain": [
       "array([0.00569556, 0.00539343, 0.00493511, 0.00439442, 0.00388978,\n",
       "       0.00341763, 0.00305485, 0.00289374, 0.00286906, 0.00297261,\n",
       "       0.00320141, 0.00337222, 0.00334488, 0.00311466, 0.00275871,\n",
       "       0.00260884, 0.00296069, 0.00398086, 0.00544276, 0.00691271,\n",
       "       0.00820837, 0.00925623, 0.01005311, 0.01066358, 0.01114419,\n",
       "       0.01149988, 0.01169644, 0.01184943, 0.01204176, 0.01217559,\n",
       "       0.01219215, 0.01219339, 0.01225503, 0.01237501, 0.0125388 ,\n",
       "       0.01269636, 0.01288586, 0.0130301 , 0.01314327, 0.01325227,\n",
       "       0.01331921, 0.01337158, 0.01336941, 0.01335011, 0.01331912,\n",
       "       0.01327379, 0.01316272, 0.01300617, 0.01280926, 0.01263029,\n",
       "       0.0124914 , 0.0124149 , 0.01241297, 0.01246099, 0.01251573,\n",
       "       0.01258401, 0.01263085, 0.01265569, 0.01266809, 0.012667  ,\n",
       "       0.01265957, 0.01262518, 0.01256868, 0.0125306 , 0.01245986,\n",
       "       0.01230729, 0.01216823, 0.01205354, 0.01195057, 0.01184324,\n",
       "       0.01175236, 0.0116702 , 0.01157559, 0.01148722, 0.01140498,\n",
       "       0.01134129, 0.01130129, 0.01123468, 0.01116338, 0.01108529,\n",
       "       0.01103969, 0.01098504, 0.010941  , 0.01086302, 0.01074514,\n",
       "       0.01065124, 0.01050422, 0.01026167, 0.00999673, 0.00974042,\n",
       "       0.00944226, 0.00903016, 0.00864469, 0.00849529, 0.00841708,\n",
       "       0.00832792, 0.00843262, 0.00851189, 0.00836974, 0.00838273],\n",
       "      dtype=float32)"
      ]
     },
     "execution_count": 17,
     "metadata": {},
     "output_type": "execute_result"
    }
   ],
   "source": [
    "np.mean(np.stack(df.query(\"subject_name == 'P086' and label_name == 'stomach'\")[\"median_normalized_spectrum\"]), axis=0)"
   ]
  },
  {
   "cell_type": "markdown",
   "id": "1122a256-e476-4493-aef0-fe95c4479446",
   "metadata": {},
   "source": [
    "> &#x26a0;&#xfe0f; With these kind of operations it is important to respect the hierarchy of the data, i.e. do not simply aggregate all median spectra from all subjects at once. Instead, first aggregate for one subject and then across subjects. In the htc framework, we have the [`group_median_spectra()`](../htc/utils/helper_functions.py) function for this.\n",
    "\n",
    "> Note: There is also a `HeiPorSPECTRAL@meta` table in this folder. It contains similar information as the median spectra table but without the spectra and one row denotes an image (and not a label from an image). It is mainly used for internal purposes and you probably don't need it.\n",
    "\n",
    "&#127752; htc framework: [`group_median_spectra()`](../htc/utils/helper_functions.py)"
   ]
  },
  {
   "cell_type": "markdown",
   "id": "ffd7ea7f-fcbc-4aa7-bde6-a01f1f72ca25",
   "metadata": {},
   "source": [
    "## Spectrometer measurements (`data/extra_technical_validation/spectrometer/2022_09_19_colorchecker/*` files)\n",
    "&#127752; htc framework: [`SpectrometerReader()`](../htc/utils/SpectrometerReader.py)\n",
    "\n",
    "These files contain the raw spectrometer measurements of the colorchecker image using the Ocean Insight HR2000+ spectrometer. Each file contains one spectrum with some header information in the beginning ending with a `>>>>>Begin Spectral Data<<<<<` section followed by the raw spectral data. In this section, there are two numbers per row with the wavelength in nm on the left and the reflectance data on the right side. For each color chip (+ white and dark calibrations), there are 100 measurements."
   ]
  },
  {
   "cell_type": "code",
   "execution_count": 18,
   "id": "cbec240e-ebb5-4485-a8d6-99bd71b0e83c",
   "metadata": {},
   "outputs": [
    {
     "data": {
      "text/plain": [
       "2600"
      ]
     },
     "execution_count": 18,
     "metadata": {},
     "output_type": "execute_result"
    }
   ],
   "source": [
    "colorchecker_dir = (\n",
    "    settings.data_dirs[\"HeiPorSPECTRAL\"] / \"extra_technical_validation/spectrometer/2022_09_19_colorchecker\"\n",
    ")\n",
    "len(list(colorchecker_dir.iterdir()))"
   ]
  },
  {
   "cell_type": "code",
   "execution_count": 19,
   "id": "2b86ed9d-a706-4e86-ba84-3bdea77ed98a",
   "metadata": {},
   "outputs": [
    {
     "name": "stdout",
     "output_type": "stream",
     "text": [
      "Data from blue_sky_HRC33631__0__00300.txt Node\n",
      "\n",
      "Date: Mon Sep 19 14:20:31 CEST 2022\n",
      "User: pai\n",
      "Spectrometer: HR+C3363\n",
      "Trigger mode: 0\n",
      "Integration Time (sec): 1.000000E-1\n",
      "Scans to average: 1\n",
      "Electric dark correction enabled: true\n",
      "Nonlinearity correction enabled: false\n",
      "Boxcar width: 0\n",
      "XAxis mode: Wavelengths\n",
      "Number of Pixels in Spectrum: 2048\n",
      ">>>>>Begin Spectral Data<<<<<\n",
      "187.255\t16.75\n",
      "187.731\t16.75\n",
      "188.206\t16.75\n",
      "188.682\t-7.25\n",
      "189.158\t18.75\n",
      "189.634\t1.75\n",
      "\n"
     ]
    }
   ],
   "source": [
    "with (colorchecker_dir / \"blue_sky_HRC33631__0__00300.txt\").open() as f:\n",
    "    raw_spectra = f.readlines()\n",
    "\n",
    "print(\"\".join(raw_spectra[:20]))"
   ]
  },
  {
   "cell_type": "markdown",
   "id": "1c3d1d4d-eb32-46a5-a5cf-176b19676cf1",
   "metadata": {},
   "source": [
    "## Colorchecker annotations (`data/extra_technical_validation/Tivita_0202-00118/**/annotations/*cc_classic.png` files)\n",
    "&#127752; htc framework: [`path.read_colorchecker_mask()`](../htc/tivita/DataPath.py)\n",
    "\n",
    "These images contain the automatically generated annotations (cf. [`ColorcheckerMaskCreation.ipynb`](../htc/utils/ColorcheckerMaskCreation.ipynb) notebook) for the colorchecker images. They are very similar to the blosc segmentations in the intermediates of the main dataset storing a label index for each pixel. For the colorchecker images, there are 24 labels (indices 1–24) and the background (index 0). The [`ColorcheckerReader`](../htc/utils/ColorcheckerReader.py) class contains the exact label mapping."
   ]
  },
  {
   "cell_type": "code",
   "execution_count": 20,
   "id": "6408d1e3-9ad9-4a83-a181-df3eadfaaf1c",
   "metadata": {},
   "outputs": [
    {
     "data": {
      "text/plain": [
       "(array([ 0,  1,  2,  3,  4,  5,  6,  7,  8,  9, 10, 11, 12, 13, 14, 15, 16,\n",
       "        17, 18, 19, 20, 21, 22, 23, 24], dtype=int32),\n",
       " array([208896,   4096,   4096,   4096,   4096,   4096,   4096,   4096,\n",
       "          4096,   4096,   4096,   4096,   4096,   4096,   4096,   4096,\n",
       "          4096,   4096,   4096,   4096,   4096,   4096,   4096,   4096,\n",
       "          4096]))"
      ]
     },
     "execution_count": 20,
     "metadata": {},
     "output_type": "execute_result"
    }
   ],
   "source": [
    "img = Image.open(\n",
    "    settings.data_dirs[\"HeiPorSPECTRAL\"]\n",
    "    / \"extra_technical_validation/Tivita_0202-00118/2022_12_25_colorchecker/2022_12_25_20_45_29/annotations/2022_12_25_20_45_29#squares#automask#cc_classic.png\"\n",
    ")\n",
    "np.unique(img, return_counts=True)"
   ]
  }
 ],
 "metadata": {
  "kernelspec": {
   "display_name": "Python 3 (ipykernel)",
   "language": "python",
   "name": "python3"
  },
  "language_info": {
   "codemirror_mode": {
    "name": "ipython",
    "version": 3
   },
   "file_extension": ".py",
   "mimetype": "text/x-python",
   "name": "python",
   "nbconvert_exporter": "python",
   "pygments_lexer": "ipython3",
   "version": "3.10.10"
  }
 },
 "nbformat": 4,
 "nbformat_minor": 5
}
