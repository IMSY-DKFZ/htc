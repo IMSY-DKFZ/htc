{
 "cells": [
  {
   "cell_type": "markdown",
   "id": "preceding-foster",
   "metadata": {},
   "source": [
    "# Data Statistics"
   ]
  },
  {
   "cell_type": "code",
   "execution_count": 3,
   "id": "considerable-society",
   "metadata": {},
   "outputs": [
    {
     "name": "stdout",
     "output_type": "stream",
     "text": [
      "The autoreload extension is already loaded. To reload it, use:\n",
      "  %reload_ext autoreload\n"
     ]
    }
   ],
   "source": [
    "%load_ext autoreload\n",
    "%autoreload 2\n",
    "\n",
    "import plotly.express as px\n",
    "\n",
    "from htc.settings import settings\n",
    "from htc.settings_seg import settings_seg  # noqa: F401\n",
    "from htc.utils.helper_functions import basic_statistics\n",
    "from htc.utils.LabelMapping import LabelMapping\n",
    "from htc.utils.sqldf import sqldf"
   ]
  },
  {
   "cell_type": "code",
   "execution_count": 4,
   "id": "f386c05f",
   "metadata": {},
   "outputs": [
    {
     "data": {
      "text/html": [
       "<div>\n",
       "<style scoped>\n",
       "    .dataframe tbody tr th:only-of-type {\n",
       "        vertical-align: middle;\n",
       "    }\n",
       "\n",
       "    .dataframe tbody tr th {\n",
       "        vertical-align: top;\n",
       "    }\n",
       "\n",
       "    .dataframe thead th {\n",
       "        text-align: right;\n",
       "    }\n",
       "</style>\n",
       "<table border=\"1\" class=\"dataframe\">\n",
       "  <thead>\n",
       "    <tr style=\"text-align: right;\">\n",
       "      <th></th>\n",
       "      <th>image_name</th>\n",
       "      <th>subject_name</th>\n",
       "      <th>timestamp</th>\n",
       "      <th>label_name</th>\n",
       "      <th>n_pixels</th>\n",
       "      <th>set_type</th>\n",
       "    </tr>\n",
       "  </thead>\n",
       "  <tbody>\n",
       "    <tr>\n",
       "      <th>0</th>\n",
       "      <td>P041#2019_12_14_12_00_16</td>\n",
       "      <td>P041</td>\n",
       "      <td>2019_12_14_12_00_16</td>\n",
       "      <td>bladder</td>\n",
       "      <td>10594</td>\n",
       "      <td>train</td>\n",
       "    </tr>\n",
       "    <tr>\n",
       "      <th>1</th>\n",
       "      <td>P041#2019_12_14_12_00_16</td>\n",
       "      <td>P041</td>\n",
       "      <td>2019_12_14_12_00_16</td>\n",
       "      <td>blue_cloth</td>\n",
       "      <td>158624</td>\n",
       "      <td>train</td>\n",
       "    </tr>\n",
       "    <tr>\n",
       "      <th>2</th>\n",
       "      <td>P041#2019_12_14_12_00_16</td>\n",
       "      <td>P041</td>\n",
       "      <td>2019_12_14_12_00_16</td>\n",
       "      <td>colon</td>\n",
       "      <td>67779</td>\n",
       "      <td>train</td>\n",
       "    </tr>\n",
       "    <tr>\n",
       "      <th>3</th>\n",
       "      <td>P041#2019_12_14_12_00_16</td>\n",
       "      <td>P041</td>\n",
       "      <td>2019_12_14_12_00_16</td>\n",
       "      <td>fat</td>\n",
       "      <td>4251</td>\n",
       "      <td>train</td>\n",
       "    </tr>\n",
       "    <tr>\n",
       "      <th>4</th>\n",
       "      <td>P041#2019_12_14_12_00_16</td>\n",
       "      <td>P041</td>\n",
       "      <td>2019_12_14_12_00_16</td>\n",
       "      <td>small_bowel</td>\n",
       "      <td>65634</td>\n",
       "      <td>train</td>\n",
       "    </tr>\n",
       "  </tbody>\n",
       "</table>\n",
       "</div>"
      ],
      "text/plain": [
       "                 image_name subject_name            timestamp  label_name  \\\n",
       "0  P041#2019_12_14_12_00_16         P041  2019_12_14_12_00_16     bladder   \n",
       "1  P041#2019_12_14_12_00_16         P041  2019_12_14_12_00_16  blue_cloth   \n",
       "2  P041#2019_12_14_12_00_16         P041  2019_12_14_12_00_16       colon   \n",
       "3  P041#2019_12_14_12_00_16         P041  2019_12_14_12_00_16         fat   \n",
       "4  P041#2019_12_14_12_00_16         P041  2019_12_14_12_00_16     small_bowel   \n",
       "\n",
       "   n_pixels set_type  \n",
       "0     10594    train  \n",
       "1    158624    train  \n",
       "2     67779    train  \n",
       "3      4251    train  \n",
       "4     65634    train  "
      ]
     },
     "execution_count": 4,
     "metadata": {},
     "output_type": "execute_result"
    }
   ],
   "source": [
    "sorted_labels = sorted(LabelMapping.from_data_dir(settings.data_dirs.semantic).label_names(include_invalid=True))\n",
    "df = basic_statistics(\"2021_02_05_Tivita_multiorgan_semantic\", \"pigs_semantic-only_5foldsV2.json\")\n",
    "df.head()"
   ]
  },
  {
   "cell_type": "markdown",
   "id": "later-instrument",
   "metadata": {},
   "source": [
    "## Label Distribution"
   ]
  },
  {
   "cell_type": "code",
   "execution_count": 5,
   "id": "forbidden-border",
   "metadata": {},
   "outputs": [
    {
     "data": {
      "text/html": [
       "        <script type=\"text/javascript\">\n",
       "        window.PlotlyConfig = {MathJaxConfig: 'local'};\n",
       "        if (window.MathJax && window.MathJax.Hub && window.MathJax.Hub.Config) {window.MathJax.Hub.Config({SVG: {font: \"STIX-Web\"}});}\n",
       "        if (typeof require !== 'undefined') {\n",
       "        require.undef(\"plotly\");\n",
       "        requirejs.config({\n",
       "            paths: {\n",
       "                'plotly': ['https://cdn.plot.ly/plotly-2.14.0.min']\n",
       "            }\n",
       "        });\n",
       "        require(['plotly'], function(Plotly) {\n",
       "            window._Plotly = Plotly;\n",
       "        });\n",
       "        }\n",
       "        </script>\n",
       "        "
      ]
     },
     "metadata": {},
     "output_type": "display_data"
    },
    {
     "data": {
      "application/vnd.plotly.v1+json": {
       "config": {
        "plotlyServerURL": "https://plot.ly"
       },
       "data": [
        {
         "alignmentgroup": "True",
         "hovertemplate": "subject_name=P059<br>label_name=%{x}<br>n_images=%{y}<extra></extra>",
         "legendgroup": "P059",
         "marker": {
          "color": "#636efa",
          "pattern": {
           "shape": ""
          }
         },
         "name": "P059",
         "offsetgroup": "P059",
         "orientation": "v",
         "showlegend": true,
         "textposition": "auto",
         "type": "bar",
         "x": [
          "abdominal_linen",
          "bladder",
          "blue_cloth",
          "colon",
          "foil",
          "gallbladder",
          "glove",
          "small_bowel",
          "kidney",
          "kidney_with_Gerotas_fascia",
          "liver",
          "omentum",
          "organic_artifact",
          "pancreas",
          "peritoneum",
          "skin",
          "spleen",
          "stomach",
          "unsure",
          "major_vein"
         ],
         "xaxis": "x",
         "y": [
          17,
          12,
          22,
          16,
          1,
          5,
          11,
          19,
          3,
          3,
          8,
          3,
          2,
          5,
          6,
          1,
          4,
          2,
          4,
          3
         ],
         "yaxis": "y"
        },
        {
         "alignmentgroup": "True",
         "hovertemplate": "subject_name=P060<br>label_name=%{x}<br>n_images=%{y}<extra></extra>",
         "legendgroup": "P060",
         "marker": {
          "color": "#EF553B",
          "pattern": {
           "shape": ""
          }
         },
         "name": "P060",
         "offsetgroup": "P060",
         "orientation": "v",
         "showlegend": true,
         "textposition": "auto",
         "type": "bar",
         "x": [
          "abdominal_linen",
          "bladder",
          "blue_cloth",
          "colon",
          "fat",
          "foil",
          "gallbladder",
          "glove",
          "heart",
          "small_bowel",
          "kidney_with_Gerotas_fascia",
          "liver",
          "lung",
          "metal",
          "muscle",
          "omentum",
          "organic_artifact",
          "pancreas",
          "peritoneum",
          "skin",
          "spleen",
          "stomach",
          "unsure",
          "major_vein",
          "white_compress"
         ],
         "xaxis": "x",
         "y": [
          6,
          15,
          48,
          26,
          2,
          2,
          8,
          15,
          14,
          36,
          6,
          28,
          14,
          16,
          2,
          16,
          14,
          8,
          18,
          13,
          24,
          26,
          3,
          3,
          2
         ],
         "yaxis": "y"
        },
        {
         "alignmentgroup": "True",
         "hovertemplate": "subject_name=P061<br>label_name=%{x}<br>n_images=%{y}<extra></extra>",
         "legendgroup": "P061",
         "marker": {
          "color": "#00cc96",
          "pattern": {
           "shape": ""
          }
         },
         "name": "P061",
         "offsetgroup": "P061",
         "orientation": "v",
         "showlegend": true,
         "textposition": "auto",
         "type": "bar",
         "x": [
          "abdominal_linen",
          "anorganic_artifact",
          "background",
          "bladder",
          "blue_cloth",
          "colon",
          "colon_peritoneum",
          "fat",
          "foil",
          "glove",
          "small_bowel",
          "kidney",
          "liver",
          "metal",
          "muscle",
          "omentum",
          "organic_artifact",
          "pancreas",
          "peritoneum",
          "skin",
          "spleen",
          "stomach",
          "unsure"
         ],
         "xaxis": "x",
         "y": [
          6,
          2,
          3,
          6,
          12,
          12,
          1,
          18,
          10,
          3,
          18,
          6,
          12,
          18,
          4,
          1,
          1,
          1,
          18,
          18,
          12,
          8,
          5
         ],
         "yaxis": "y"
        },
        {
         "alignmentgroup": "True",
         "hovertemplate": "subject_name=P062<br>label_name=%{x}<br>n_images=%{y}<extra></extra>",
         "legendgroup": "P062",
         "marker": {
          "color": "#ab63fa",
          "pattern": {
           "shape": ""
          }
         },
         "name": "P062",
         "offsetgroup": "P062",
         "orientation": "v",
         "showlegend": true,
         "textposition": "auto",
         "type": "bar",
         "x": [
          "abdominal_linen",
          "anorganic_artifact",
          "background",
          "bladder",
          "blue_cloth",
          "colon",
          "fat",
          "foil",
          "gallbladder",
          "glove",
          "heart",
          "small_bowel",
          "kidney",
          "kidney_with_Gerotas_fascia",
          "liver",
          "lung",
          "metal",
          "muscle",
          "omentum",
          "organic_artifact",
          "pancreas",
          "peritoneum",
          "skin",
          "spleen",
          "stomach",
          "unsure",
          "major_vein",
          "white_compress"
         ],
         "xaxis": "x",
         "y": [
          12,
          7,
          7,
          25,
          58,
          25,
          26,
          15,
          12,
          45,
          12,
          47,
          17,
          10,
          31,
          12,
          25,
          12,
          23,
          20,
          6,
          26,
          29,
          18,
          33,
          17,
          10,
          12
         ],
         "yaxis": "y"
        },
        {
         "alignmentgroup": "True",
         "hovertemplate": "subject_name=P070<br>label_name=%{x}<br>n_images=%{y}<extra></extra>",
         "legendgroup": "P070",
         "marker": {
          "color": "#FFA15A",
          "pattern": {
           "shape": ""
          }
         },
         "name": "P070",
         "offsetgroup": "P070",
         "orientation": "v",
         "showlegend": true,
         "textposition": "auto",
         "type": "bar",
         "x": [
          "abdominal_linen",
          "anorganic_artifact",
          "background",
          "blue_cloth",
          "colon",
          "fat",
          "foil",
          "gallbladder",
          "glove",
          "heart",
          "small_bowel",
          "liver",
          "lung",
          "metal",
          "muscle",
          "omentum",
          "organic_artifact",
          "pancreas",
          "peritoneum",
          "skin",
          "spleen",
          "stomach",
          "unsure",
          "white_compress"
         ],
         "xaxis": "x",
         "y": [
          20,
          11,
          12,
          25,
          25,
          28,
          13,
          16,
          21,
          14,
          25,
          25,
          14,
          30,
          13,
          14,
          21,
          9,
          25,
          28,
          16,
          19,
          11,
          7
         ],
         "yaxis": "y"
        },
        {
         "alignmentgroup": "True",
         "hovertemplate": "subject_name=P072<br>label_name=%{x}<br>n_images=%{y}<extra></extra>",
         "legendgroup": "P072",
         "marker": {
          "color": "#19d3f3",
          "pattern": {
           "shape": ""
          }
         },
         "name": "P072",
         "offsetgroup": "P072",
         "orientation": "v",
         "showlegend": true,
         "textposition": "auto",
         "type": "bar",
         "x": [
          "abdominal_linen",
          "anorganic_artifact",
          "background",
          "bladder",
          "blue_cloth",
          "colon",
          "fat",
          "foil",
          "gallbladder",
          "glove",
          "heart",
          "small_bowel",
          "kidney",
          "kidney_with_Gerotas_fascia",
          "liver",
          "lung",
          "metal",
          "muscle",
          "omentum",
          "organic_artifact",
          "pancreas",
          "peritoneum",
          "skin",
          "spleen",
          "stomach",
          "tube",
          "unsure",
          "major_vein",
          "white_compress"
         ],
         "xaxis": "x",
         "y": [
          26,
          3,
          4,
          11,
          38,
          23,
          43,
          9,
          29,
          18,
          6,
          38,
          9,
          1,
          36,
          6,
          47,
          6,
          18,
          19,
          7,
          37,
          35,
          25,
          27,
          1,
          14,
          8,
          1
         ],
         "yaxis": "y"
        },
        {
         "alignmentgroup": "True",
         "hovertemplate": "subject_name=P046<br>label_name=%{x}<br>n_images=%{y}<extra></extra>",
         "legendgroup": "P046",
         "marker": {
          "color": "#FF6692",
          "pattern": {
           "shape": ""
          }
         },
         "name": "P046",
         "offsetgroup": "P046",
         "orientation": "v",
         "showlegend": true,
         "textposition": "auto",
         "type": "bar",
         "x": [
          "anorganic_artifact",
          "background",
          "bladder",
          "blue_cloth",
          "colon",
          "fat",
          "foil",
          "glove",
          "small_bowel",
          "liver",
          "metal",
          "omentum",
          "organic_artifact",
          "peritoneum",
          "skin",
          "spleen",
          "stomach",
          "unsure"
         ],
         "xaxis": "x",
         "y": [
          7,
          1,
          9,
          12,
          14,
          16,
          16,
          1,
          16,
          13,
          16,
          13,
          4,
          15,
          16,
          14,
          12,
          5
         ],
         "yaxis": "y"
        },
        {
         "alignmentgroup": "True",
         "hovertemplate": "subject_name=P047<br>label_name=%{x}<br>n_images=%{y}<extra></extra>",
         "legendgroup": "P047",
         "marker": {
          "color": "#B6E880",
          "pattern": {
           "shape": ""
          }
         },
         "name": "P047",
         "offsetgroup": "P047",
         "orientation": "v",
         "showlegend": true,
         "textposition": "auto",
         "type": "bar",
         "x": [
          "anorganic_artifact",
          "background",
          "bladder",
          "blue_cloth",
          "colon",
          "fat",
          "foil",
          "gallbladder",
          "small_bowel",
          "liver",
          "metal",
          "omentum",
          "organic_artifact",
          "peritoneum",
          "skin",
          "spleen",
          "stomach",
          "unsure",
          "white_compress"
         ],
         "xaxis": "x",
         "y": [
          1,
          2,
          1,
          1,
          10,
          10,
          10,
          10,
          10,
          10,
          10,
          8,
          1,
          10,
          10,
          10,
          10,
          3,
          2
         ],
         "yaxis": "y"
        },
        {
         "alignmentgroup": "True",
         "hovertemplate": "subject_name=P048<br>label_name=%{x}<br>n_images=%{y}<extra></extra>",
         "legendgroup": "P048",
         "marker": {
          "color": "#FF97FF",
          "pattern": {
           "shape": ""
          }
         },
         "name": "P048",
         "offsetgroup": "P048",
         "orientation": "v",
         "showlegend": true,
         "textposition": "auto",
         "type": "bar",
         "x": [
          "anorganic_artifact",
          "background",
          "bladder",
          "blue_cloth",
          "colon",
          "fat",
          "foil",
          "gallbladder",
          "small_bowel",
          "liver",
          "organic_artifact",
          "peritoneum",
          "skin",
          "spleen",
          "stomach",
          "unsure",
          "white_compress"
         ],
         "xaxis": "x",
         "y": [
          12,
          4,
          7,
          9,
          15,
          15,
          15,
          10,
          15,
          10,
          6,
          14,
          15,
          11,
          11,
          1,
          15
         ],
         "yaxis": "y"
        },
        {
         "alignmentgroup": "True",
         "hovertemplate": "subject_name=P049<br>label_name=%{x}<br>n_images=%{y}<extra></extra>",
         "legendgroup": "P049",
         "marker": {
          "color": "#FECB52",
          "pattern": {
           "shape": ""
          }
         },
         "name": "P049",
         "offsetgroup": "P049",
         "orientation": "v",
         "showlegend": true,
         "textposition": "auto",
         "type": "bar",
         "x": [
          "anorganic_artifact",
          "bladder",
          "blue_cloth",
          "colon",
          "fat",
          "foil",
          "small_bowel",
          "liver",
          "organic_artifact",
          "peritoneum",
          "skin",
          "spleen",
          "stomach",
          "unsure",
          "white_compress"
         ],
         "xaxis": "x",
         "y": [
          7,
          6,
          8,
          16,
          16,
          16,
          16,
          5,
          1,
          16,
          16,
          13,
          11,
          12,
          16
         ],
         "yaxis": "y"
        },
        {
         "alignmentgroup": "True",
         "hovertemplate": "subject_name=P050<br>label_name=%{x}<br>n_images=%{y}<extra></extra>",
         "legendgroup": "P050",
         "marker": {
          "color": "#636efa",
          "pattern": {
           "shape": ""
          }
         },
         "name": "P050",
         "offsetgroup": "P050",
         "orientation": "v",
         "showlegend": true,
         "textposition": "auto",
         "type": "bar",
         "x": [
          "anorganic_artifact",
          "background",
          "blue_cloth",
          "colon",
          "fat",
          "foil",
          "gallbladder",
          "small_bowel",
          "liver",
          "omentum",
          "peritoneum",
          "skin",
          "spleen",
          "stomach",
          "unsure",
          "white_compress"
         ],
         "xaxis": "x",
         "y": [
          2,
          2,
          1,
          5,
          5,
          5,
          3,
          5,
          5,
          5,
          5,
          5,
          5,
          5,
          4,
          5
         ],
         "yaxis": "y"
        },
        {
         "alignmentgroup": "True",
         "hovertemplate": "subject_name=P057<br>label_name=%{x}<br>n_images=%{y}<extra></extra>",
         "legendgroup": "P057",
         "marker": {
          "color": "#EF553B",
          "pattern": {
           "shape": ""
          }
         },
         "name": "P057",
         "offsetgroup": "P057",
         "orientation": "v",
         "showlegend": true,
         "textposition": "auto",
         "type": "bar",
         "x": [
          "anorganic_artifact",
          "background",
          "bladder",
          "blue_cloth",
          "colon",
          "fat",
          "foil",
          "gallbladder",
          "glove",
          "small_bowel",
          "liver",
          "omentum",
          "organic_artifact",
          "pancreas",
          "peritoneum",
          "skin",
          "spleen",
          "stomach",
          "unsure",
          "white_compress"
         ],
         "xaxis": "x",
         "y": [
          13,
          1,
          6,
          24,
          20,
          24,
          24,
          4,
          7,
          24,
          19,
          19,
          4,
          5,
          24,
          24,
          21,
          20,
          14,
          15
         ],
         "yaxis": "y"
        },
        {
         "alignmentgroup": "True",
         "hovertemplate": "subject_name=P041<br>label_name=%{x}<br>n_images=%{y}<extra></extra>",
         "legendgroup": "P041",
         "marker": {
          "color": "#00cc96",
          "pattern": {
           "shape": ""
          }
         },
         "name": "P041",
         "offsetgroup": "P041",
         "orientation": "v",
         "showlegend": true,
         "textposition": "auto",
         "type": "bar",
         "x": [
          "background",
          "bladder",
          "blue_cloth",
          "colon",
          "fat",
          "foil",
          "small_bowel",
          "liver",
          "metal",
          "omentum",
          "peritoneum",
          "skin",
          "spleen",
          "stomach",
          "unsure",
          "white_compress"
         ],
         "xaxis": "x",
         "y": [
          1,
          2,
          3,
          4,
          4,
          1,
          4,
          2,
          3,
          2,
          2,
          2,
          2,
          2,
          2,
          1
         ],
         "yaxis": "y"
        },
        {
         "alignmentgroup": "True",
         "hovertemplate": "subject_name=P045<br>label_name=%{x}<br>n_images=%{y}<extra></extra>",
         "legendgroup": "P045",
         "marker": {
          "color": "#ab63fa",
          "pattern": {
           "shape": ""
          }
         },
         "name": "P045",
         "offsetgroup": "P045",
         "orientation": "v",
         "showlegend": true,
         "textposition": "auto",
         "type": "bar",
         "x": [
          "background",
          "bladder",
          "blue_cloth",
          "colon",
          "fat",
          "foil",
          "heart",
          "small_bowel",
          "liver",
          "lung",
          "omentum",
          "peritoneum",
          "skin",
          "spleen",
          "stomach",
          "unsure",
          "white_compress"
         ],
         "xaxis": "x",
         "y": [
          1,
          4,
          21,
          18,
          19,
          17,
          4,
          17,
          14,
          4,
          9,
          15,
          18,
          15,
          13,
          5,
          18
         ],
         "yaxis": "y"
        },
        {
         "alignmentgroup": "True",
         "hovertemplate": "subject_name=P043<br>label_name=%{x}<br>n_images=%{y}<extra></extra>",
         "legendgroup": "P043",
         "marker": {
          "color": "#FFA15A",
          "pattern": {
           "shape": ""
          }
         },
         "name": "P043",
         "offsetgroup": "P043",
         "orientation": "v",
         "showlegend": true,
         "textposition": "auto",
         "type": "bar",
         "x": [
          "bladder",
          "blue_cloth",
          "colon",
          "gallbladder",
          "heart",
          "small_bowel",
          "liver",
          "lung",
          "omentum",
          "stomach"
         ],
         "xaxis": "x",
         "y": [
          4,
          21,
          11,
          7,
          10,
          11,
          11,
          10,
          3,
          3
         ],
         "yaxis": "y"
        },
        {
         "alignmentgroup": "True",
         "hovertemplate": "subject_name=P068<br>label_name=%{x}<br>n_images=%{y}<extra></extra>",
         "legendgroup": "P068",
         "marker": {
          "color": "#19d3f3",
          "pattern": {
           "shape": ""
          }
         },
         "name": "P068",
         "offsetgroup": "P068",
         "orientation": "v",
         "showlegend": true,
         "textposition": "auto",
         "type": "bar",
         "x": [
          "bladder",
          "blue_cloth",
          "colon",
          "fat",
          "gallbladder",
          "glove",
          "small_bowel",
          "liver",
          "metal",
          "omentum",
          "organic_artifact",
          "pancreas",
          "peritoneum",
          "skin",
          "spleen",
          "stomach",
          "unsure"
         ],
         "xaxis": "x",
         "y": [
          7,
          23,
          15,
          8,
          4,
          9,
          23,
          13,
          17,
          10,
          7,
          5,
          13,
          9,
          18,
          17,
          10
         ],
         "yaxis": "y"
        },
        {
         "alignmentgroup": "True",
         "hovertemplate": "subject_name=P044<br>label_name=%{x}<br>n_images=%{y}<extra></extra>",
         "legendgroup": "P044",
         "marker": {
          "color": "#FF6692",
          "pattern": {
           "shape": ""
          }
         },
         "name": "P044",
         "offsetgroup": "P044",
         "orientation": "v",
         "showlegend": true,
         "textposition": "auto",
         "type": "bar",
         "x": [
          "blue_cloth",
          "colon",
          "fat",
          "foil",
          "heart",
          "small_bowel",
          "liver",
          "lung",
          "metal",
          "muscle",
          "omentum",
          "peritoneum",
          "skin",
          "spleen",
          "stomach",
          "white_compress"
         ],
         "xaxis": "x",
         "y": [
          13,
          17,
          22,
          21,
          6,
          17,
          14,
          6,
          1,
          1,
          5,
          17,
          22,
          14,
          5,
          17
         ],
         "yaxis": "y"
        },
        {
         "alignmentgroup": "True",
         "hovertemplate": "subject_name=P058<br>label_name=%{x}<br>n_images=%{y}<extra></extra>",
         "legendgroup": "P058",
         "marker": {
          "color": "#B6E880",
          "pattern": {
           "shape": ""
          }
         },
         "name": "P058",
         "offsetgroup": "P058",
         "orientation": "v",
         "showlegend": true,
         "textposition": "auto",
         "type": "bar",
         "x": [
          "blue_cloth",
          "colon",
          "colon_peritoneum",
          "fat",
          "heart",
          "small_bowel",
          "kidney",
          "kidney_with_Gerotas_fascia",
          "liver",
          "lung",
          "metal",
          "omentum",
          "pancreas",
          "peritoneum",
          "skin",
          "spleen",
          "stomach",
          "unsure",
          "major_vein"
         ],
         "xaxis": "x",
         "y": [
          53,
          32,
          6,
          17,
          13,
          29,
          8,
          15,
          35,
          13,
          17,
          17,
          14,
          24,
          19,
          17,
          8,
          10,
          8
         ],
         "yaxis": "y"
        },
        {
         "alignmentgroup": "True",
         "hovertemplate": "subject_name=P069<br>label_name=%{x}<br>n_images=%{y}<extra></extra>",
         "legendgroup": "P069",
         "marker": {
          "color": "#FF97FF",
          "pattern": {
           "shape": ""
          }
         },
         "name": "P069",
         "offsetgroup": "P069",
         "orientation": "v",
         "showlegend": true,
         "textposition": "auto",
         "type": "bar",
         "x": [
          "blue_cloth",
          "colon",
          "fat",
          "gallbladder",
          "small_bowel",
          "liver",
          "metal",
          "omentum",
          "peritoneum",
          "skin",
          "spleen",
          "stomach",
          "unsure"
         ],
         "xaxis": "x",
         "y": [
          20,
          20,
          17,
          13,
          20,
          13,
          20,
          13,
          13,
          15,
          19,
          13,
          14
         ],
         "yaxis": "y"
        },
        {
         "alignmentgroup": "True",
         "hovertemplate": "subject_name=P071<br>label_name=%{x}<br>n_images=%{y}<extra></extra>",
         "legendgroup": "P071",
         "marker": {
          "color": "#FECB52",
          "pattern": {
           "shape": ""
          }
         },
         "name": "P071",
         "offsetgroup": "P071",
         "orientation": "v",
         "showlegend": true,
         "textposition": "auto",
         "type": "bar",
         "x": [
          "blue_cloth",
          "colon",
          "fat",
          "gallbladder",
          "glove",
          "small_bowel",
          "liver",
          "metal",
          "omentum",
          "organic_artifact",
          "pancreas",
          "peritoneum",
          "skin",
          "spleen",
          "stomach",
          "unsure"
         ],
         "xaxis": "x",
         "y": [
          19,
          7,
          7,
          5,
          12,
          15,
          10,
          17,
          14,
          10,
          7,
          1,
          14,
          12,
          19,
          1
         ],
         "yaxis": "y"
        }
       ],
       "layout": {
        "barmode": "relative",
        "height": 500,
        "legend": {
         "title": {
          "text": "subject_name"
         },
         "tracegroupgap": 0
        },
        "margin": {
         "t": 60
        },
        "template": {
         "data": {
          "bar": [
           {
            "error_x": {
             "color": "#2a3f5f"
            },
            "error_y": {
             "color": "#2a3f5f"
            },
            "marker": {
             "line": {
              "color": "#E5ECF6",
              "width": 0.5
             },
             "pattern": {
              "fillmode": "overlay",
              "size": 10,
              "solidity": 0.2
             }
            },
            "type": "bar"
           }
          ],
          "barpolar": [
           {
            "marker": {
             "line": {
              "color": "#E5ECF6",
              "width": 0.5
             },
             "pattern": {
              "fillmode": "overlay",
              "size": 10,
              "solidity": 0.2
             }
            },
            "type": "barpolar"
           }
          ],
          "carpet": [
           {
            "aaxis": {
             "endlinecolor": "#2a3f5f",
             "gridcolor": "white",
             "linecolor": "white",
             "minorgridcolor": "white",
             "startlinecolor": "#2a3f5f"
            },
            "baxis": {
             "endlinecolor": "#2a3f5f",
             "gridcolor": "white",
             "linecolor": "white",
             "minorgridcolor": "white",
             "startlinecolor": "#2a3f5f"
            },
            "type": "carpet"
           }
          ],
          "choropleth": [
           {
            "colorbar": {
             "outlinewidth": 0,
             "ticks": ""
            },
            "type": "choropleth"
           }
          ],
          "contour": [
           {
            "colorbar": {
             "outlinewidth": 0,
             "ticks": ""
            },
            "colorscale": [
             [
              0,
              "#0d0887"
             ],
             [
              0.1111111111111111,
              "#46039f"
             ],
             [
              0.2222222222222222,
              "#7201a8"
             ],
             [
              0.3333333333333333,
              "#9c179e"
             ],
             [
              0.4444444444444444,
              "#bd3786"
             ],
             [
              0.5555555555555556,
              "#d8576b"
             ],
             [
              0.6666666666666666,
              "#ed7953"
             ],
             [
              0.7777777777777778,
              "#fb9f3a"
             ],
             [
              0.8888888888888888,
              "#fdca26"
             ],
             [
              1,
              "#f0f921"
             ]
            ],
            "type": "contour"
           }
          ],
          "contourcarpet": [
           {
            "colorbar": {
             "outlinewidth": 0,
             "ticks": ""
            },
            "type": "contourcarpet"
           }
          ],
          "heatmap": [
           {
            "colorbar": {
             "outlinewidth": 0,
             "ticks": ""
            },
            "colorscale": [
             [
              0,
              "#0d0887"
             ],
             [
              0.1111111111111111,
              "#46039f"
             ],
             [
              0.2222222222222222,
              "#7201a8"
             ],
             [
              0.3333333333333333,
              "#9c179e"
             ],
             [
              0.4444444444444444,
              "#bd3786"
             ],
             [
              0.5555555555555556,
              "#d8576b"
             ],
             [
              0.6666666666666666,
              "#ed7953"
             ],
             [
              0.7777777777777778,
              "#fb9f3a"
             ],
             [
              0.8888888888888888,
              "#fdca26"
             ],
             [
              1,
              "#f0f921"
             ]
            ],
            "type": "heatmap"
           }
          ],
          "heatmapgl": [
           {
            "colorbar": {
             "outlinewidth": 0,
             "ticks": ""
            },
            "colorscale": [
             [
              0,
              "#0d0887"
             ],
             [
              0.1111111111111111,
              "#46039f"
             ],
             [
              0.2222222222222222,
              "#7201a8"
             ],
             [
              0.3333333333333333,
              "#9c179e"
             ],
             [
              0.4444444444444444,
              "#bd3786"
             ],
             [
              0.5555555555555556,
              "#d8576b"
             ],
             [
              0.6666666666666666,
              "#ed7953"
             ],
             [
              0.7777777777777778,
              "#fb9f3a"
             ],
             [
              0.8888888888888888,
              "#fdca26"
             ],
             [
              1,
              "#f0f921"
             ]
            ],
            "type": "heatmapgl"
           }
          ],
          "histogram": [
           {
            "marker": {
             "pattern": {
              "fillmode": "overlay",
              "size": 10,
              "solidity": 0.2
             }
            },
            "type": "histogram"
           }
          ],
          "histogram2d": [
           {
            "colorbar": {
             "outlinewidth": 0,
             "ticks": ""
            },
            "colorscale": [
             [
              0,
              "#0d0887"
             ],
             [
              0.1111111111111111,
              "#46039f"
             ],
             [
              0.2222222222222222,
              "#7201a8"
             ],
             [
              0.3333333333333333,
              "#9c179e"
             ],
             [
              0.4444444444444444,
              "#bd3786"
             ],
             [
              0.5555555555555556,
              "#d8576b"
             ],
             [
              0.6666666666666666,
              "#ed7953"
             ],
             [
              0.7777777777777778,
              "#fb9f3a"
             ],
             [
              0.8888888888888888,
              "#fdca26"
             ],
             [
              1,
              "#f0f921"
             ]
            ],
            "type": "histogram2d"
           }
          ],
          "histogram2dcontour": [
           {
            "colorbar": {
             "outlinewidth": 0,
             "ticks": ""
            },
            "colorscale": [
             [
              0,
              "#0d0887"
             ],
             [
              0.1111111111111111,
              "#46039f"
             ],
             [
              0.2222222222222222,
              "#7201a8"
             ],
             [
              0.3333333333333333,
              "#9c179e"
             ],
             [
              0.4444444444444444,
              "#bd3786"
             ],
             [
              0.5555555555555556,
              "#d8576b"
             ],
             [
              0.6666666666666666,
              "#ed7953"
             ],
             [
              0.7777777777777778,
              "#fb9f3a"
             ],
             [
              0.8888888888888888,
              "#fdca26"
             ],
             [
              1,
              "#f0f921"
             ]
            ],
            "type": "histogram2dcontour"
           }
          ],
          "mesh3d": [
           {
            "colorbar": {
             "outlinewidth": 0,
             "ticks": ""
            },
            "type": "mesh3d"
           }
          ],
          "parcoords": [
           {
            "line": {
             "colorbar": {
              "outlinewidth": 0,
              "ticks": ""
             }
            },
            "type": "parcoords"
           }
          ],
          "pie": [
           {
            "automargin": true,
            "type": "pie"
           }
          ],
          "scatter": [
           {
            "fillpattern": {
             "fillmode": "overlay",
             "size": 10,
             "solidity": 0.2
            },
            "type": "scatter"
           }
          ],
          "scatter3d": [
           {
            "line": {
             "colorbar": {
              "outlinewidth": 0,
              "ticks": ""
             }
            },
            "marker": {
             "colorbar": {
              "outlinewidth": 0,
              "ticks": ""
             }
            },
            "type": "scatter3d"
           }
          ],
          "scattercarpet": [
           {
            "marker": {
             "colorbar": {
              "outlinewidth": 0,
              "ticks": ""
             }
            },
            "type": "scattercarpet"
           }
          ],
          "scattergeo": [
           {
            "marker": {
             "colorbar": {
              "outlinewidth": 0,
              "ticks": ""
             }
            },
            "type": "scattergeo"
           }
          ],
          "scattergl": [
           {
            "marker": {
             "colorbar": {
              "outlinewidth": 0,
              "ticks": ""
             }
            },
            "type": "scattergl"
           }
          ],
          "scattermapbox": [
           {
            "marker": {
             "colorbar": {
              "outlinewidth": 0,
              "ticks": ""
             }
            },
            "type": "scattermapbox"
           }
          ],
          "scatterpolar": [
           {
            "marker": {
             "colorbar": {
              "outlinewidth": 0,
              "ticks": ""
             }
            },
            "type": "scatterpolar"
           }
          ],
          "scatterpolargl": [
           {
            "marker": {
             "colorbar": {
              "outlinewidth": 0,
              "ticks": ""
             }
            },
            "type": "scatterpolargl"
           }
          ],
          "scatterternary": [
           {
            "marker": {
             "colorbar": {
              "outlinewidth": 0,
              "ticks": ""
             }
            },
            "type": "scatterternary"
           }
          ],
          "surface": [
           {
            "colorbar": {
             "outlinewidth": 0,
             "ticks": ""
            },
            "colorscale": [
             [
              0,
              "#0d0887"
             ],
             [
              0.1111111111111111,
              "#46039f"
             ],
             [
              0.2222222222222222,
              "#7201a8"
             ],
             [
              0.3333333333333333,
              "#9c179e"
             ],
             [
              0.4444444444444444,
              "#bd3786"
             ],
             [
              0.5555555555555556,
              "#d8576b"
             ],
             [
              0.6666666666666666,
              "#ed7953"
             ],
             [
              0.7777777777777778,
              "#fb9f3a"
             ],
             [
              0.8888888888888888,
              "#fdca26"
             ],
             [
              1,
              "#f0f921"
             ]
            ],
            "type": "surface"
           }
          ],
          "table": [
           {
            "cells": {
             "fill": {
              "color": "#EBF0F8"
             },
             "line": {
              "color": "white"
             }
            },
            "header": {
             "fill": {
              "color": "#C8D4E3"
             },
             "line": {
              "color": "white"
             }
            },
            "type": "table"
           }
          ]
         },
         "layout": {
          "annotationdefaults": {
           "arrowcolor": "#2a3f5f",
           "arrowhead": 0,
           "arrowwidth": 1
          },
          "autotypenumbers": "strict",
          "coloraxis": {
           "colorbar": {
            "outlinewidth": 0,
            "ticks": ""
           }
          },
          "colorscale": {
           "diverging": [
            [
             0,
             "#8e0152"
            ],
            [
             0.1,
             "#c51b7d"
            ],
            [
             0.2,
             "#de77ae"
            ],
            [
             0.3,
             "#f1b6da"
            ],
            [
             0.4,
             "#fde0ef"
            ],
            [
             0.5,
             "#f7f7f7"
            ],
            [
             0.6,
             "#e6f5d0"
            ],
            [
             0.7,
             "#b8e186"
            ],
            [
             0.8,
             "#7fbc41"
            ],
            [
             0.9,
             "#4d9221"
            ],
            [
             1,
             "#276419"
            ]
           ],
           "sequential": [
            [
             0,
             "#0d0887"
            ],
            [
             0.1111111111111111,
             "#46039f"
            ],
            [
             0.2222222222222222,
             "#7201a8"
            ],
            [
             0.3333333333333333,
             "#9c179e"
            ],
            [
             0.4444444444444444,
             "#bd3786"
            ],
            [
             0.5555555555555556,
             "#d8576b"
            ],
            [
             0.6666666666666666,
             "#ed7953"
            ],
            [
             0.7777777777777778,
             "#fb9f3a"
            ],
            [
             0.8888888888888888,
             "#fdca26"
            ],
            [
             1,
             "#f0f921"
            ]
           ],
           "sequentialminus": [
            [
             0,
             "#0d0887"
            ],
            [
             0.1111111111111111,
             "#46039f"
            ],
            [
             0.2222222222222222,
             "#7201a8"
            ],
            [
             0.3333333333333333,
             "#9c179e"
            ],
            [
             0.4444444444444444,
             "#bd3786"
            ],
            [
             0.5555555555555556,
             "#d8576b"
            ],
            [
             0.6666666666666666,
             "#ed7953"
            ],
            [
             0.7777777777777778,
             "#fb9f3a"
            ],
            [
             0.8888888888888888,
             "#fdca26"
            ],
            [
             1,
             "#f0f921"
            ]
           ]
          },
          "colorway": [
           "#636efa",
           "#EF553B",
           "#00cc96",
           "#ab63fa",
           "#FFA15A",
           "#19d3f3",
           "#FF6692",
           "#B6E880",
           "#FF97FF",
           "#FECB52"
          ],
          "font": {
           "color": "#2a3f5f"
          },
          "geo": {
           "bgcolor": "white",
           "lakecolor": "white",
           "landcolor": "#E5ECF6",
           "showlakes": true,
           "showland": true,
           "subunitcolor": "white"
          },
          "hoverlabel": {
           "align": "left"
          },
          "hovermode": "closest",
          "mapbox": {
           "style": "light"
          },
          "paper_bgcolor": "white",
          "plot_bgcolor": "#E5ECF6",
          "polar": {
           "angularaxis": {
            "gridcolor": "white",
            "linecolor": "white",
            "ticks": ""
           },
           "bgcolor": "#E5ECF6",
           "radialaxis": {
            "gridcolor": "white",
            "linecolor": "white",
            "ticks": ""
           }
          },
          "scene": {
           "xaxis": {
            "backgroundcolor": "#E5ECF6",
            "gridcolor": "white",
            "gridwidth": 2,
            "linecolor": "white",
            "showbackground": true,
            "ticks": "",
            "zerolinecolor": "white"
           },
           "yaxis": {
            "backgroundcolor": "#E5ECF6",
            "gridcolor": "white",
            "gridwidth": 2,
            "linecolor": "white",
            "showbackground": true,
            "ticks": "",
            "zerolinecolor": "white"
           },
           "zaxis": {
            "backgroundcolor": "#E5ECF6",
            "gridcolor": "white",
            "gridwidth": 2,
            "linecolor": "white",
            "showbackground": true,
            "ticks": "",
            "zerolinecolor": "white"
           }
          },
          "shapedefaults": {
           "line": {
            "color": "#2a3f5f"
           }
          },
          "ternary": {
           "aaxis": {
            "gridcolor": "white",
            "linecolor": "white",
            "ticks": ""
           },
           "baxis": {
            "gridcolor": "white",
            "linecolor": "white",
            "ticks": ""
           },
           "bgcolor": "#E5ECF6",
           "caxis": {
            "gridcolor": "white",
            "linecolor": "white",
            "ticks": ""
           }
          },
          "title": {
           "x": 0.05
          },
          "xaxis": {
           "automargin": true,
           "gridcolor": "white",
           "linecolor": "white",
           "ticks": "",
           "title": {
            "standoff": 15
           },
           "zerolinecolor": "white",
           "zerolinewidth": 2
          },
          "yaxis": {
           "automargin": true,
           "gridcolor": "white",
           "linecolor": "white",
           "ticks": "",
           "title": {
            "standoff": 15
           },
           "zerolinecolor": "white",
           "zerolinewidth": 2
          }
         }
        },
        "title": {
         "text": "Number of images per label",
         "x": 0.5
        },
        "width": 2000,
        "xaxis": {
         "anchor": "y",
         "categoryarray": [
          "abdominal_linen",
          "anorganic_artifact",
          "background",
          "bladder",
          "blue_cloth",
          "colon",
          "colon_peritoneum",
          "fat",
          "foil",
          "gallbladder",
          "glove",
          "heart",
          "small_bowel",
          "kidney",
          "kidney_with_Gerotas_fascia",
          "liver",
          "lung",
          "metal",
          "muscle",
          "omentum",
          "organic_artifact",
          "overlap",
          "pancreas",
          "peritoneum",
          "skin",
          "spleen",
          "stomach",
          "syringe",
          "tube",
          "unlabeled",
          "unsure",
          "major_vein",
          "white_compress"
         ],
         "categoryorder": "array",
         "domain": [
          0,
          1
         ],
         "title": {
          "text": "label_name"
         }
        },
        "yaxis": {
         "anchor": "x",
         "domain": [
          0,
          1
         ],
         "showticklabels": true,
         "title": {
          "text": "n_images"
         }
        }
       }
      },
      "text/html": [
       "<div>                            <div id=\"cd072cd8-be6f-4f62-ac4c-09c28206e7e3\" class=\"plotly-graph-div\" style=\"height:500px; width:2000px;\"></div>            <script type=\"text/javascript\">                require([\"plotly\"], function(Plotly) {                    window.PLOTLYENV=window.PLOTLYENV || {};                                    if (document.getElementById(\"cd072cd8-be6f-4f62-ac4c-09c28206e7e3\")) {                    Plotly.newPlot(                        \"cd072cd8-be6f-4f62-ac4c-09c28206e7e3\",                        [{\"alignmentgroup\":\"True\",\"hovertemplate\":\"subject_name=P059<br>label_name=%{x}<br>n_images=%{y}<extra></extra>\",\"legendgroup\":\"P059\",\"marker\":{\"color\":\"#636efa\",\"pattern\":{\"shape\":\"\"}},\"name\":\"P059\",\"offsetgroup\":\"P059\",\"orientation\":\"v\",\"showlegend\":true,\"textposition\":\"auto\",\"x\":[\"abdominal_linen\",\"bladder\",\"blue_cloth\",\"colon\",\"foil\",\"gallbladder\",\"glove\",\"small_bowel\",\"kidney\",\"kidney_with_Gerotas_fascia\",\"liver\",\"omentum\",\"organic_artifact\",\"pancreas\",\"peritoneum\",\"skin\",\"spleen\",\"stomach\",\"unsure\",\"major_vein\"],\"xaxis\":\"x\",\"y\":[17,12,22,16,1,5,11,19,3,3,8,3,2,5,6,1,4,2,4,3],\"yaxis\":\"y\",\"type\":\"bar\"},{\"alignmentgroup\":\"True\",\"hovertemplate\":\"subject_name=P060<br>label_name=%{x}<br>n_images=%{y}<extra></extra>\",\"legendgroup\":\"P060\",\"marker\":{\"color\":\"#EF553B\",\"pattern\":{\"shape\":\"\"}},\"name\":\"P060\",\"offsetgroup\":\"P060\",\"orientation\":\"v\",\"showlegend\":true,\"textposition\":\"auto\",\"x\":[\"abdominal_linen\",\"bladder\",\"blue_cloth\",\"colon\",\"fat\",\"foil\",\"gallbladder\",\"glove\",\"heart\",\"small_bowel\",\"kidney_with_Gerotas_fascia\",\"liver\",\"lung\",\"metal\",\"muscle\",\"omentum\",\"organic_artifact\",\"pancreas\",\"peritoneum\",\"skin\",\"spleen\",\"stomach\",\"unsure\",\"major_vein\",\"white_compress\"],\"xaxis\":\"x\",\"y\":[6,15,48,26,2,2,8,15,14,36,6,28,14,16,2,16,14,8,18,13,24,26,3,3,2],\"yaxis\":\"y\",\"type\":\"bar\"},{\"alignmentgroup\":\"True\",\"hovertemplate\":\"subject_name=P061<br>label_name=%{x}<br>n_images=%{y}<extra></extra>\",\"legendgroup\":\"P061\",\"marker\":{\"color\":\"#00cc96\",\"pattern\":{\"shape\":\"\"}},\"name\":\"P061\",\"offsetgroup\":\"P061\",\"orientation\":\"v\",\"showlegend\":true,\"textposition\":\"auto\",\"x\":[\"abdominal_linen\",\"anorganic_artifact\",\"background\",\"bladder\",\"blue_cloth\",\"colon\",\"colon_peritoneum\",\"fat\",\"foil\",\"glove\",\"small_bowel\",\"kidney\",\"liver\",\"metal\",\"muscle\",\"omentum\",\"organic_artifact\",\"pancreas\",\"peritoneum\",\"skin\",\"spleen\",\"stomach\",\"unsure\"],\"xaxis\":\"x\",\"y\":[6,2,3,6,12,12,1,18,10,3,18,6,12,18,4,1,1,1,18,18,12,8,5],\"yaxis\":\"y\",\"type\":\"bar\"},{\"alignmentgroup\":\"True\",\"hovertemplate\":\"subject_name=P062<br>label_name=%{x}<br>n_images=%{y}<extra></extra>\",\"legendgroup\":\"P062\",\"marker\":{\"color\":\"#ab63fa\",\"pattern\":{\"shape\":\"\"}},\"name\":\"P062\",\"offsetgroup\":\"P062\",\"orientation\":\"v\",\"showlegend\":true,\"textposition\":\"auto\",\"x\":[\"abdominal_linen\",\"anorganic_artifact\",\"background\",\"bladder\",\"blue_cloth\",\"colon\",\"fat\",\"foil\",\"gallbladder\",\"glove\",\"heart\",\"small_bowel\",\"kidney\",\"kidney_with_Gerotas_fascia\",\"liver\",\"lung\",\"metal\",\"muscle\",\"omentum\",\"organic_artifact\",\"pancreas\",\"peritoneum\",\"skin\",\"spleen\",\"stomach\",\"unsure\",\"major_vein\",\"white_compress\"],\"xaxis\":\"x\",\"y\":[12,7,7,25,58,25,26,15,12,45,12,47,17,10,31,12,25,12,23,20,6,26,29,18,33,17,10,12],\"yaxis\":\"y\",\"type\":\"bar\"},{\"alignmentgroup\":\"True\",\"hovertemplate\":\"subject_name=P070<br>label_name=%{x}<br>n_images=%{y}<extra></extra>\",\"legendgroup\":\"P070\",\"marker\":{\"color\":\"#FFA15A\",\"pattern\":{\"shape\":\"\"}},\"name\":\"P070\",\"offsetgroup\":\"P070\",\"orientation\":\"v\",\"showlegend\":true,\"textposition\":\"auto\",\"x\":[\"abdominal_linen\",\"anorganic_artifact\",\"background\",\"blue_cloth\",\"colon\",\"fat\",\"foil\",\"gallbladder\",\"glove\",\"heart\",\"small_bowel\",\"liver\",\"lung\",\"metal\",\"muscle\",\"omentum\",\"organic_artifact\",\"pancreas\",\"peritoneum\",\"skin\",\"spleen\",\"stomach\",\"unsure\",\"white_compress\"],\"xaxis\":\"x\",\"y\":[20,11,12,25,25,28,13,16,21,14,25,25,14,30,13,14,21,9,25,28,16,19,11,7],\"yaxis\":\"y\",\"type\":\"bar\"},{\"alignmentgroup\":\"True\",\"hovertemplate\":\"subject_name=P072<br>label_name=%{x}<br>n_images=%{y}<extra></extra>\",\"legendgroup\":\"P072\",\"marker\":{\"color\":\"#19d3f3\",\"pattern\":{\"shape\":\"\"}},\"name\":\"P072\",\"offsetgroup\":\"P072\",\"orientation\":\"v\",\"showlegend\":true,\"textposition\":\"auto\",\"x\":[\"abdominal_linen\",\"anorganic_artifact\",\"background\",\"bladder\",\"blue_cloth\",\"colon\",\"fat\",\"foil\",\"gallbladder\",\"glove\",\"heart\",\"small_bowel\",\"kidney\",\"kidney_with_Gerotas_fascia\",\"liver\",\"lung\",\"metal\",\"muscle\",\"omentum\",\"organic_artifact\",\"pancreas\",\"peritoneum\",\"skin\",\"spleen\",\"stomach\",\"tube\",\"unsure\",\"major_vein\",\"white_compress\"],\"xaxis\":\"x\",\"y\":[26,3,4,11,38,23,43,9,29,18,6,38,9,1,36,6,47,6,18,19,7,37,35,25,27,1,14,8,1],\"yaxis\":\"y\",\"type\":\"bar\"},{\"alignmentgroup\":\"True\",\"hovertemplate\":\"subject_name=P046<br>label_name=%{x}<br>n_images=%{y}<extra></extra>\",\"legendgroup\":\"P046\",\"marker\":{\"color\":\"#FF6692\",\"pattern\":{\"shape\":\"\"}},\"name\":\"P046\",\"offsetgroup\":\"P046\",\"orientation\":\"v\",\"showlegend\":true,\"textposition\":\"auto\",\"x\":[\"anorganic_artifact\",\"background\",\"bladder\",\"blue_cloth\",\"colon\",\"fat\",\"foil\",\"glove\",\"small_bowel\",\"liver\",\"metal\",\"omentum\",\"organic_artifact\",\"peritoneum\",\"skin\",\"spleen\",\"stomach\",\"unsure\"],\"xaxis\":\"x\",\"y\":[7,1,9,12,14,16,16,1,16,13,16,13,4,15,16,14,12,5],\"yaxis\":\"y\",\"type\":\"bar\"},{\"alignmentgroup\":\"True\",\"hovertemplate\":\"subject_name=P047<br>label_name=%{x}<br>n_images=%{y}<extra></extra>\",\"legendgroup\":\"P047\",\"marker\":{\"color\":\"#B6E880\",\"pattern\":{\"shape\":\"\"}},\"name\":\"P047\",\"offsetgroup\":\"P047\",\"orientation\":\"v\",\"showlegend\":true,\"textposition\":\"auto\",\"x\":[\"anorganic_artifact\",\"background\",\"bladder\",\"blue_cloth\",\"colon\",\"fat\",\"foil\",\"gallbladder\",\"small_bowel\",\"liver\",\"metal\",\"omentum\",\"organic_artifact\",\"peritoneum\",\"skin\",\"spleen\",\"stomach\",\"unsure\",\"white_compress\"],\"xaxis\":\"x\",\"y\":[1,2,1,1,10,10,10,10,10,10,10,8,1,10,10,10,10,3,2],\"yaxis\":\"y\",\"type\":\"bar\"},{\"alignmentgroup\":\"True\",\"hovertemplate\":\"subject_name=P048<br>label_name=%{x}<br>n_images=%{y}<extra></extra>\",\"legendgroup\":\"P048\",\"marker\":{\"color\":\"#FF97FF\",\"pattern\":{\"shape\":\"\"}},\"name\":\"P048\",\"offsetgroup\":\"P048\",\"orientation\":\"v\",\"showlegend\":true,\"textposition\":\"auto\",\"x\":[\"anorganic_artifact\",\"background\",\"bladder\",\"blue_cloth\",\"colon\",\"fat\",\"foil\",\"gallbladder\",\"small_bowel\",\"liver\",\"organic_artifact\",\"peritoneum\",\"skin\",\"spleen\",\"stomach\",\"unsure\",\"white_compress\"],\"xaxis\":\"x\",\"y\":[12,4,7,9,15,15,15,10,15,10,6,14,15,11,11,1,15],\"yaxis\":\"y\",\"type\":\"bar\"},{\"alignmentgroup\":\"True\",\"hovertemplate\":\"subject_name=P049<br>label_name=%{x}<br>n_images=%{y}<extra></extra>\",\"legendgroup\":\"P049\",\"marker\":{\"color\":\"#FECB52\",\"pattern\":{\"shape\":\"\"}},\"name\":\"P049\",\"offsetgroup\":\"P049\",\"orientation\":\"v\",\"showlegend\":true,\"textposition\":\"auto\",\"x\":[\"anorganic_artifact\",\"bladder\",\"blue_cloth\",\"colon\",\"fat\",\"foil\",\"small_bowel\",\"liver\",\"organic_artifact\",\"peritoneum\",\"skin\",\"spleen\",\"stomach\",\"unsure\",\"white_compress\"],\"xaxis\":\"x\",\"y\":[7,6,8,16,16,16,16,5,1,16,16,13,11,12,16],\"yaxis\":\"y\",\"type\":\"bar\"},{\"alignmentgroup\":\"True\",\"hovertemplate\":\"subject_name=P050<br>label_name=%{x}<br>n_images=%{y}<extra></extra>\",\"legendgroup\":\"P050\",\"marker\":{\"color\":\"#636efa\",\"pattern\":{\"shape\":\"\"}},\"name\":\"P050\",\"offsetgroup\":\"P050\",\"orientation\":\"v\",\"showlegend\":true,\"textposition\":\"auto\",\"x\":[\"anorganic_artifact\",\"background\",\"blue_cloth\",\"colon\",\"fat\",\"foil\",\"gallbladder\",\"small_bowel\",\"liver\",\"omentum\",\"peritoneum\",\"skin\",\"spleen\",\"stomach\",\"unsure\",\"white_compress\"],\"xaxis\":\"x\",\"y\":[2,2,1,5,5,5,3,5,5,5,5,5,5,5,4,5],\"yaxis\":\"y\",\"type\":\"bar\"},{\"alignmentgroup\":\"True\",\"hovertemplate\":\"subject_name=P057<br>label_name=%{x}<br>n_images=%{y}<extra></extra>\",\"legendgroup\":\"P057\",\"marker\":{\"color\":\"#EF553B\",\"pattern\":{\"shape\":\"\"}},\"name\":\"P057\",\"offsetgroup\":\"P057\",\"orientation\":\"v\",\"showlegend\":true,\"textposition\":\"auto\",\"x\":[\"anorganic_artifact\",\"background\",\"bladder\",\"blue_cloth\",\"colon\",\"fat\",\"foil\",\"gallbladder\",\"glove\",\"small_bowel\",\"liver\",\"omentum\",\"organic_artifact\",\"pancreas\",\"peritoneum\",\"skin\",\"spleen\",\"stomach\",\"unsure\",\"white_compress\"],\"xaxis\":\"x\",\"y\":[13,1,6,24,20,24,24,4,7,24,19,19,4,5,24,24,21,20,14,15],\"yaxis\":\"y\",\"type\":\"bar\"},{\"alignmentgroup\":\"True\",\"hovertemplate\":\"subject_name=P041<br>label_name=%{x}<br>n_images=%{y}<extra></extra>\",\"legendgroup\":\"P041\",\"marker\":{\"color\":\"#00cc96\",\"pattern\":{\"shape\":\"\"}},\"name\":\"P041\",\"offsetgroup\":\"P041\",\"orientation\":\"v\",\"showlegend\":true,\"textposition\":\"auto\",\"x\":[\"background\",\"bladder\",\"blue_cloth\",\"colon\",\"fat\",\"foil\",\"small_bowel\",\"liver\",\"metal\",\"omentum\",\"peritoneum\",\"skin\",\"spleen\",\"stomach\",\"unsure\",\"white_compress\"],\"xaxis\":\"x\",\"y\":[1,2,3,4,4,1,4,2,3,2,2,2,2,2,2,1],\"yaxis\":\"y\",\"type\":\"bar\"},{\"alignmentgroup\":\"True\",\"hovertemplate\":\"subject_name=P045<br>label_name=%{x}<br>n_images=%{y}<extra></extra>\",\"legendgroup\":\"P045\",\"marker\":{\"color\":\"#ab63fa\",\"pattern\":{\"shape\":\"\"}},\"name\":\"P045\",\"offsetgroup\":\"P045\",\"orientation\":\"v\",\"showlegend\":true,\"textposition\":\"auto\",\"x\":[\"background\",\"bladder\",\"blue_cloth\",\"colon\",\"fat\",\"foil\",\"heart\",\"small_bowel\",\"liver\",\"lung\",\"omentum\",\"peritoneum\",\"skin\",\"spleen\",\"stomach\",\"unsure\",\"white_compress\"],\"xaxis\":\"x\",\"y\":[1,4,21,18,19,17,4,17,14,4,9,15,18,15,13,5,18],\"yaxis\":\"y\",\"type\":\"bar\"},{\"alignmentgroup\":\"True\",\"hovertemplate\":\"subject_name=P043<br>label_name=%{x}<br>n_images=%{y}<extra></extra>\",\"legendgroup\":\"P043\",\"marker\":{\"color\":\"#FFA15A\",\"pattern\":{\"shape\":\"\"}},\"name\":\"P043\",\"offsetgroup\":\"P043\",\"orientation\":\"v\",\"showlegend\":true,\"textposition\":\"auto\",\"x\":[\"bladder\",\"blue_cloth\",\"colon\",\"gallbladder\",\"heart\",\"small_bowel\",\"liver\",\"lung\",\"omentum\",\"stomach\"],\"xaxis\":\"x\",\"y\":[4,21,11,7,10,11,11,10,3,3],\"yaxis\":\"y\",\"type\":\"bar\"},{\"alignmentgroup\":\"True\",\"hovertemplate\":\"subject_name=P068<br>label_name=%{x}<br>n_images=%{y}<extra></extra>\",\"legendgroup\":\"P068\",\"marker\":{\"color\":\"#19d3f3\",\"pattern\":{\"shape\":\"\"}},\"name\":\"P068\",\"offsetgroup\":\"P068\",\"orientation\":\"v\",\"showlegend\":true,\"textposition\":\"auto\",\"x\":[\"bladder\",\"blue_cloth\",\"colon\",\"fat\",\"gallbladder\",\"glove\",\"small_bowel\",\"liver\",\"metal\",\"omentum\",\"organic_artifact\",\"pancreas\",\"peritoneum\",\"skin\",\"spleen\",\"stomach\",\"unsure\"],\"xaxis\":\"x\",\"y\":[7,23,15,8,4,9,23,13,17,10,7,5,13,9,18,17,10],\"yaxis\":\"y\",\"type\":\"bar\"},{\"alignmentgroup\":\"True\",\"hovertemplate\":\"subject_name=P044<br>label_name=%{x}<br>n_images=%{y}<extra></extra>\",\"legendgroup\":\"P044\",\"marker\":{\"color\":\"#FF6692\",\"pattern\":{\"shape\":\"\"}},\"name\":\"P044\",\"offsetgroup\":\"P044\",\"orientation\":\"v\",\"showlegend\":true,\"textposition\":\"auto\",\"x\":[\"blue_cloth\",\"colon\",\"fat\",\"foil\",\"heart\",\"small_bowel\",\"liver\",\"lung\",\"metal\",\"muscle\",\"omentum\",\"peritoneum\",\"skin\",\"spleen\",\"stomach\",\"white_compress\"],\"xaxis\":\"x\",\"y\":[13,17,22,21,6,17,14,6,1,1,5,17,22,14,5,17],\"yaxis\":\"y\",\"type\":\"bar\"},{\"alignmentgroup\":\"True\",\"hovertemplate\":\"subject_name=P058<br>label_name=%{x}<br>n_images=%{y}<extra></extra>\",\"legendgroup\":\"P058\",\"marker\":{\"color\":\"#B6E880\",\"pattern\":{\"shape\":\"\"}},\"name\":\"P058\",\"offsetgroup\":\"P058\",\"orientation\":\"v\",\"showlegend\":true,\"textposition\":\"auto\",\"x\":[\"blue_cloth\",\"colon\",\"colon_peritoneum\",\"fat\",\"heart\",\"small_bowel\",\"kidney\",\"kidney_with_Gerotas_fascia\",\"liver\",\"lung\",\"metal\",\"omentum\",\"pancreas\",\"peritoneum\",\"skin\",\"spleen\",\"stomach\",\"unsure\",\"major_vein\"],\"xaxis\":\"x\",\"y\":[53,32,6,17,13,29,8,15,35,13,17,17,14,24,19,17,8,10,8],\"yaxis\":\"y\",\"type\":\"bar\"},{\"alignmentgroup\":\"True\",\"hovertemplate\":\"subject_name=P069<br>label_name=%{x}<br>n_images=%{y}<extra></extra>\",\"legendgroup\":\"P069\",\"marker\":{\"color\":\"#FF97FF\",\"pattern\":{\"shape\":\"\"}},\"name\":\"P069\",\"offsetgroup\":\"P069\",\"orientation\":\"v\",\"showlegend\":true,\"textposition\":\"auto\",\"x\":[\"blue_cloth\",\"colon\",\"fat\",\"gallbladder\",\"small_bowel\",\"liver\",\"metal\",\"omentum\",\"peritoneum\",\"skin\",\"spleen\",\"stomach\",\"unsure\"],\"xaxis\":\"x\",\"y\":[20,20,17,13,20,13,20,13,13,15,19,13,14],\"yaxis\":\"y\",\"type\":\"bar\"},{\"alignmentgroup\":\"True\",\"hovertemplate\":\"subject_name=P071<br>label_name=%{x}<br>n_images=%{y}<extra></extra>\",\"legendgroup\":\"P071\",\"marker\":{\"color\":\"#FECB52\",\"pattern\":{\"shape\":\"\"}},\"name\":\"P071\",\"offsetgroup\":\"P071\",\"orientation\":\"v\",\"showlegend\":true,\"textposition\":\"auto\",\"x\":[\"blue_cloth\",\"colon\",\"fat\",\"gallbladder\",\"glove\",\"small_bowel\",\"liver\",\"metal\",\"omentum\",\"organic_artifact\",\"pancreas\",\"peritoneum\",\"skin\",\"spleen\",\"stomach\",\"unsure\"],\"xaxis\":\"x\",\"y\":[19,7,7,5,12,15,10,17,14,10,7,1,14,12,19,1],\"yaxis\":\"y\",\"type\":\"bar\"}],                        {\"template\":{\"data\":{\"histogram2dcontour\":[{\"type\":\"histogram2dcontour\",\"colorbar\":{\"outlinewidth\":0,\"ticks\":\"\"},\"colorscale\":[[0.0,\"#0d0887\"],[0.1111111111111111,\"#46039f\"],[0.2222222222222222,\"#7201a8\"],[0.3333333333333333,\"#9c179e\"],[0.4444444444444444,\"#bd3786\"],[0.5555555555555556,\"#d8576b\"],[0.6666666666666666,\"#ed7953\"],[0.7777777777777778,\"#fb9f3a\"],[0.8888888888888888,\"#fdca26\"],[1.0,\"#f0f921\"]]}],\"choropleth\":[{\"type\":\"choropleth\",\"colorbar\":{\"outlinewidth\":0,\"ticks\":\"\"}}],\"histogram2d\":[{\"type\":\"histogram2d\",\"colorbar\":{\"outlinewidth\":0,\"ticks\":\"\"},\"colorscale\":[[0.0,\"#0d0887\"],[0.1111111111111111,\"#46039f\"],[0.2222222222222222,\"#7201a8\"],[0.3333333333333333,\"#9c179e\"],[0.4444444444444444,\"#bd3786\"],[0.5555555555555556,\"#d8576b\"],[0.6666666666666666,\"#ed7953\"],[0.7777777777777778,\"#fb9f3a\"],[0.8888888888888888,\"#fdca26\"],[1.0,\"#f0f921\"]]}],\"heatmap\":[{\"type\":\"heatmap\",\"colorbar\":{\"outlinewidth\":0,\"ticks\":\"\"},\"colorscale\":[[0.0,\"#0d0887\"],[0.1111111111111111,\"#46039f\"],[0.2222222222222222,\"#7201a8\"],[0.3333333333333333,\"#9c179e\"],[0.4444444444444444,\"#bd3786\"],[0.5555555555555556,\"#d8576b\"],[0.6666666666666666,\"#ed7953\"],[0.7777777777777778,\"#fb9f3a\"],[0.8888888888888888,\"#fdca26\"],[1.0,\"#f0f921\"]]}],\"heatmapgl\":[{\"type\":\"heatmapgl\",\"colorbar\":{\"outlinewidth\":0,\"ticks\":\"\"},\"colorscale\":[[0.0,\"#0d0887\"],[0.1111111111111111,\"#46039f\"],[0.2222222222222222,\"#7201a8\"],[0.3333333333333333,\"#9c179e\"],[0.4444444444444444,\"#bd3786\"],[0.5555555555555556,\"#d8576b\"],[0.6666666666666666,\"#ed7953\"],[0.7777777777777778,\"#fb9f3a\"],[0.8888888888888888,\"#fdca26\"],[1.0,\"#f0f921\"]]}],\"contourcarpet\":[{\"type\":\"contourcarpet\",\"colorbar\":{\"outlinewidth\":0,\"ticks\":\"\"}}],\"contour\":[{\"type\":\"contour\",\"colorbar\":{\"outlinewidth\":0,\"ticks\":\"\"},\"colorscale\":[[0.0,\"#0d0887\"],[0.1111111111111111,\"#46039f\"],[0.2222222222222222,\"#7201a8\"],[0.3333333333333333,\"#9c179e\"],[0.4444444444444444,\"#bd3786\"],[0.5555555555555556,\"#d8576b\"],[0.6666666666666666,\"#ed7953\"],[0.7777777777777778,\"#fb9f3a\"],[0.8888888888888888,\"#fdca26\"],[1.0,\"#f0f921\"]]}],\"surface\":[{\"type\":\"surface\",\"colorbar\":{\"outlinewidth\":0,\"ticks\":\"\"},\"colorscale\":[[0.0,\"#0d0887\"],[0.1111111111111111,\"#46039f\"],[0.2222222222222222,\"#7201a8\"],[0.3333333333333333,\"#9c179e\"],[0.4444444444444444,\"#bd3786\"],[0.5555555555555556,\"#d8576b\"],[0.6666666666666666,\"#ed7953\"],[0.7777777777777778,\"#fb9f3a\"],[0.8888888888888888,\"#fdca26\"],[1.0,\"#f0f921\"]]}],\"mesh3d\":[{\"type\":\"mesh3d\",\"colorbar\":{\"outlinewidth\":0,\"ticks\":\"\"}}],\"scatter\":[{\"fillpattern\":{\"fillmode\":\"overlay\",\"size\":10,\"solidity\":0.2},\"type\":\"scatter\"}],\"parcoords\":[{\"type\":\"parcoords\",\"line\":{\"colorbar\":{\"outlinewidth\":0,\"ticks\":\"\"}}}],\"scatterpolargl\":[{\"type\":\"scatterpolargl\",\"marker\":{\"colorbar\":{\"outlinewidth\":0,\"ticks\":\"\"}}}],\"bar\":[{\"error_x\":{\"color\":\"#2a3f5f\"},\"error_y\":{\"color\":\"#2a3f5f\"},\"marker\":{\"line\":{\"color\":\"#E5ECF6\",\"width\":0.5},\"pattern\":{\"fillmode\":\"overlay\",\"size\":10,\"solidity\":0.2}},\"type\":\"bar\"}],\"scattergeo\":[{\"type\":\"scattergeo\",\"marker\":{\"colorbar\":{\"outlinewidth\":0,\"ticks\":\"\"}}}],\"scatterpolar\":[{\"type\":\"scatterpolar\",\"marker\":{\"colorbar\":{\"outlinewidth\":0,\"ticks\":\"\"}}}],\"histogram\":[{\"marker\":{\"pattern\":{\"fillmode\":\"overlay\",\"size\":10,\"solidity\":0.2}},\"type\":\"histogram\"}],\"scattergl\":[{\"type\":\"scattergl\",\"marker\":{\"colorbar\":{\"outlinewidth\":0,\"ticks\":\"\"}}}],\"scatter3d\":[{\"type\":\"scatter3d\",\"line\":{\"colorbar\":{\"outlinewidth\":0,\"ticks\":\"\"}},\"marker\":{\"colorbar\":{\"outlinewidth\":0,\"ticks\":\"\"}}}],\"scattermapbox\":[{\"type\":\"scattermapbox\",\"marker\":{\"colorbar\":{\"outlinewidth\":0,\"ticks\":\"\"}}}],\"scatterternary\":[{\"type\":\"scatterternary\",\"marker\":{\"colorbar\":{\"outlinewidth\":0,\"ticks\":\"\"}}}],\"scattercarpet\":[{\"type\":\"scattercarpet\",\"marker\":{\"colorbar\":{\"outlinewidth\":0,\"ticks\":\"\"}}}],\"carpet\":[{\"aaxis\":{\"endlinecolor\":\"#2a3f5f\",\"gridcolor\":\"white\",\"linecolor\":\"white\",\"minorgridcolor\":\"white\",\"startlinecolor\":\"#2a3f5f\"},\"baxis\":{\"endlinecolor\":\"#2a3f5f\",\"gridcolor\":\"white\",\"linecolor\":\"white\",\"minorgridcolor\":\"white\",\"startlinecolor\":\"#2a3f5f\"},\"type\":\"carpet\"}],\"table\":[{\"cells\":{\"fill\":{\"color\":\"#EBF0F8\"},\"line\":{\"color\":\"white\"}},\"header\":{\"fill\":{\"color\":\"#C8D4E3\"},\"line\":{\"color\":\"white\"}},\"type\":\"table\"}],\"barpolar\":[{\"marker\":{\"line\":{\"color\":\"#E5ECF6\",\"width\":0.5},\"pattern\":{\"fillmode\":\"overlay\",\"size\":10,\"solidity\":0.2}},\"type\":\"barpolar\"}],\"pie\":[{\"automargin\":true,\"type\":\"pie\"}]},\"layout\":{\"autotypenumbers\":\"strict\",\"colorway\":[\"#636efa\",\"#EF553B\",\"#00cc96\",\"#ab63fa\",\"#FFA15A\",\"#19d3f3\",\"#FF6692\",\"#B6E880\",\"#FF97FF\",\"#FECB52\"],\"font\":{\"color\":\"#2a3f5f\"},\"hovermode\":\"closest\",\"hoverlabel\":{\"align\":\"left\"},\"paper_bgcolor\":\"white\",\"plot_bgcolor\":\"#E5ECF6\",\"polar\":{\"bgcolor\":\"#E5ECF6\",\"angularaxis\":{\"gridcolor\":\"white\",\"linecolor\":\"white\",\"ticks\":\"\"},\"radialaxis\":{\"gridcolor\":\"white\",\"linecolor\":\"white\",\"ticks\":\"\"}},\"ternary\":{\"bgcolor\":\"#E5ECF6\",\"aaxis\":{\"gridcolor\":\"white\",\"linecolor\":\"white\",\"ticks\":\"\"},\"baxis\":{\"gridcolor\":\"white\",\"linecolor\":\"white\",\"ticks\":\"\"},\"caxis\":{\"gridcolor\":\"white\",\"linecolor\":\"white\",\"ticks\":\"\"}},\"coloraxis\":{\"colorbar\":{\"outlinewidth\":0,\"ticks\":\"\"}},\"colorscale\":{\"sequential\":[[0.0,\"#0d0887\"],[0.1111111111111111,\"#46039f\"],[0.2222222222222222,\"#7201a8\"],[0.3333333333333333,\"#9c179e\"],[0.4444444444444444,\"#bd3786\"],[0.5555555555555556,\"#d8576b\"],[0.6666666666666666,\"#ed7953\"],[0.7777777777777778,\"#fb9f3a\"],[0.8888888888888888,\"#fdca26\"],[1.0,\"#f0f921\"]],\"sequentialminus\":[[0.0,\"#0d0887\"],[0.1111111111111111,\"#46039f\"],[0.2222222222222222,\"#7201a8\"],[0.3333333333333333,\"#9c179e\"],[0.4444444444444444,\"#bd3786\"],[0.5555555555555556,\"#d8576b\"],[0.6666666666666666,\"#ed7953\"],[0.7777777777777778,\"#fb9f3a\"],[0.8888888888888888,\"#fdca26\"],[1.0,\"#f0f921\"]],\"diverging\":[[0,\"#8e0152\"],[0.1,\"#c51b7d\"],[0.2,\"#de77ae\"],[0.3,\"#f1b6da\"],[0.4,\"#fde0ef\"],[0.5,\"#f7f7f7\"],[0.6,\"#e6f5d0\"],[0.7,\"#b8e186\"],[0.8,\"#7fbc41\"],[0.9,\"#4d9221\"],[1,\"#276419\"]]},\"xaxis\":{\"gridcolor\":\"white\",\"linecolor\":\"white\",\"ticks\":\"\",\"title\":{\"standoff\":15},\"zerolinecolor\":\"white\",\"automargin\":true,\"zerolinewidth\":2},\"yaxis\":{\"gridcolor\":\"white\",\"linecolor\":\"white\",\"ticks\":\"\",\"title\":{\"standoff\":15},\"zerolinecolor\":\"white\",\"automargin\":true,\"zerolinewidth\":2},\"scene\":{\"xaxis\":{\"backgroundcolor\":\"#E5ECF6\",\"gridcolor\":\"white\",\"linecolor\":\"white\",\"showbackground\":true,\"ticks\":\"\",\"zerolinecolor\":\"white\",\"gridwidth\":2},\"yaxis\":{\"backgroundcolor\":\"#E5ECF6\",\"gridcolor\":\"white\",\"linecolor\":\"white\",\"showbackground\":true,\"ticks\":\"\",\"zerolinecolor\":\"white\",\"gridwidth\":2},\"zaxis\":{\"backgroundcolor\":\"#E5ECF6\",\"gridcolor\":\"white\",\"linecolor\":\"white\",\"showbackground\":true,\"ticks\":\"\",\"zerolinecolor\":\"white\",\"gridwidth\":2}},\"shapedefaults\":{\"line\":{\"color\":\"#2a3f5f\"}},\"annotationdefaults\":{\"arrowcolor\":\"#2a3f5f\",\"arrowhead\":0,\"arrowwidth\":1},\"geo\":{\"bgcolor\":\"white\",\"landcolor\":\"#E5ECF6\",\"subunitcolor\":\"white\",\"showland\":true,\"showlakes\":true,\"lakecolor\":\"white\"},\"title\":{\"x\":0.05},\"mapbox\":{\"style\":\"light\"}}},\"xaxis\":{\"anchor\":\"y\",\"domain\":[0.0,1.0],\"title\":{\"text\":\"label_name\"},\"categoryorder\":\"array\",\"categoryarray\":[\"abdominal_linen\",\"anorganic_artifact\",\"background\",\"bladder\",\"blue_cloth\",\"colon\",\"colon_peritoneum\",\"fat\",\"foil\",\"gallbladder\",\"glove\",\"heart\",\"small_bowel\",\"kidney\",\"kidney_with_Gerotas_fascia\",\"liver\",\"lung\",\"metal\",\"muscle\",\"omentum\",\"organic_artifact\",\"overlap\",\"pancreas\",\"peritoneum\",\"skin\",\"spleen\",\"stomach\",\"syringe\",\"tube\",\"unlabeled\",\"unsure\",\"major_vein\",\"white_compress\"]},\"yaxis\":{\"anchor\":\"x\",\"domain\":[0.0,1.0],\"title\":{\"text\":\"n_images\"},\"showticklabels\":true},\"legend\":{\"title\":{\"text\":\"subject_name\"},\"tracegroupgap\":0},\"margin\":{\"t\":60},\"barmode\":\"relative\",\"title\":{\"text\":\"Number of images per label\",\"x\":0.5},\"height\":500,\"width\":2000},                        {\"responsive\": true}                    ).then(function(){\n",
       "                            \n",
       "var gd = document.getElementById('cd072cd8-be6f-4f62-ac4c-09c28206e7e3');\n",
       "var x = new MutationObserver(function (mutations, observer) {{\n",
       "        var display = window.getComputedStyle(gd).display;\n",
       "        if (!display || display === 'none') {{\n",
       "            console.log([gd, 'removed!']);\n",
       "            Plotly.purge(gd);\n",
       "            observer.disconnect();\n",
       "        }}\n",
       "}});\n",
       "\n",
       "// Listen for the removal of the full notebook cells\n",
       "var notebookContainer = gd.closest('#notebook-container');\n",
       "if (notebookContainer) {{\n",
       "    x.observe(notebookContainer, {childList: true});\n",
       "}}\n",
       "\n",
       "// Listen for the clearing of the current output cell\n",
       "var outputEl = gd.closest('.output');\n",
       "if (outputEl) {{\n",
       "    x.observe(outputEl, {childList: true});\n",
       "}}\n",
       "\n",
       "                        })                };                });            </script>        </div>"
      ]
     },
     "metadata": {},
     "output_type": "display_data"
    }
   ],
   "source": [
    "df_labels = sqldf(\n",
    "    \"\"\"\n",
    "    SELECT label_name, subject_name, COUNT(*) AS n_images, SUM(n_pixels) AS n_pixels\n",
    "    FROM df\n",
    "    WHERE label_name NOT IN ('unlabeled', 'overlap')\n",
    "    GROUP BY label_name, subject_name\n",
    "\"\"\"\n",
    ")\n",
    "\n",
    "fig = px.bar(df_labels, x=\"label_name\", y=\"n_images\", color=\"subject_name\")\n",
    "fig.update_layout(title_text=\"Number of images per label\", title_x=0.5)\n",
    "fig.layout.xaxis.categoryorder = \"array\"\n",
    "fig.layout.xaxis.categoryarray = sorted_labels\n",
    "fig.layout.height = 500\n",
    "fig.layout.width = 2000\n",
    "fig.update_yaxes(matches=None, showticklabels=True)\n",
    "fig.show()"
   ]
  },
  {
   "cell_type": "code",
   "execution_count": 6,
   "id": "following-taiwan",
   "metadata": {},
   "outputs": [
    {
     "data": {
      "application/vnd.plotly.v1+json": {
       "config": {
        "plotlyServerURL": "https://plot.ly"
       },
       "data": [
        {
         "alignmentgroup": "True",
         "hovertemplate": "subject_name=P059<br>label_name=%{x}<br>n_pixels=%{y}<extra></extra>",
         "legendgroup": "P059",
         "marker": {
          "color": "#636efa",
          "pattern": {
           "shape": ""
          }
         },
         "name": "P059",
         "offsetgroup": "P059",
         "orientation": "v",
         "showlegend": true,
         "textposition": "auto",
         "type": "bar",
         "x": [
          "abdominal_linen",
          "bladder",
          "blue_cloth",
          "colon",
          "foil",
          "gallbladder",
          "glove",
          "small_bowel",
          "kidney",
          "kidney_with_Gerotas_fascia",
          "liver",
          "omentum",
          "organic_artifact",
          "pancreas",
          "peritoneum",
          "skin",
          "spleen",
          "stomach",
          "unsure",
          "major_vein"
         ],
         "xaxis": "x",
         "y": [
          678833,
          210231,
          2024534,
          950981,
          7287,
          23499,
          1143977,
          1012785,
          69585,
          34067,
          104458,
          8757,
          2285,
          46524,
          355550,
          624,
          63109,
          3531,
          12985,
          4798
         ],
         "yaxis": "y"
        },
        {
         "alignmentgroup": "True",
         "hovertemplate": "subject_name=P060<br>label_name=%{x}<br>n_pixels=%{y}<extra></extra>",
         "legendgroup": "P060",
         "marker": {
          "color": "#EF553B",
          "pattern": {
           "shape": ""
          }
         },
         "name": "P060",
         "offsetgroup": "P060",
         "orientation": "v",
         "showlegend": true,
         "textposition": "auto",
         "type": "bar",
         "x": [
          "abdominal_linen",
          "bladder",
          "blue_cloth",
          "colon",
          "fat",
          "foil",
          "gallbladder",
          "glove",
          "heart",
          "small_bowel",
          "kidney_with_Gerotas_fascia",
          "liver",
          "lung",
          "metal",
          "muscle",
          "omentum",
          "organic_artifact",
          "pancreas",
          "peritoneum",
          "skin",
          "spleen",
          "stomach",
          "unsure",
          "major_vein",
          "white_compress"
         ],
         "xaxis": "x",
         "y": [
          365393,
          173954,
          7059998,
          986773,
          1537,
          102112,
          24148,
          897954,
          322532,
          2302419,
          90180,
          887503,
          350135,
          334018,
          116821,
          117195,
          44236,
          56213,
          406678,
          277007,
          278381,
          144422,
          10337,
          2351,
          7703
         ],
         "yaxis": "y"
        },
        {
         "alignmentgroup": "True",
         "hovertemplate": "subject_name=P061<br>label_name=%{x}<br>n_pixels=%{y}<extra></extra>",
         "legendgroup": "P061",
         "marker": {
          "color": "#00cc96",
          "pattern": {
           "shape": ""
          }
         },
         "name": "P061",
         "offsetgroup": "P061",
         "orientation": "v",
         "showlegend": true,
         "textposition": "auto",
         "type": "bar",
         "x": [
          "abdominal_linen",
          "anorganic_artifact",
          "background",
          "bladder",
          "blue_cloth",
          "colon",
          "colon_peritoneum",
          "fat",
          "foil",
          "glove",
          "small_bowel",
          "kidney",
          "liver",
          "metal",
          "muscle",
          "omentum",
          "organic_artifact",
          "pancreas",
          "peritoneum",
          "skin",
          "spleen",
          "stomach",
          "unsure"
         ],
         "xaxis": "x",
         "y": [
          157270,
          2948,
          5599,
          89356,
          339904,
          684132,
          28425,
          258409,
          132252,
          85601,
          1469287,
          118566,
          123374,
          724254,
          3343,
          2895,
          2603,
          5284,
          265394,
          584610,
          193362,
          193472,
          59260
         ],
         "yaxis": "y"
        },
        {
         "alignmentgroup": "True",
         "hovertemplate": "subject_name=P062<br>label_name=%{x}<br>n_pixels=%{y}<extra></extra>",
         "legendgroup": "P062",
         "marker": {
          "color": "#ab63fa",
          "pattern": {
           "shape": ""
          }
         },
         "name": "P062",
         "offsetgroup": "P062",
         "orientation": "v",
         "showlegend": true,
         "textposition": "auto",
         "type": "bar",
         "x": [
          "abdominal_linen",
          "anorganic_artifact",
          "background",
          "bladder",
          "blue_cloth",
          "colon",
          "fat",
          "foil",
          "gallbladder",
          "glove",
          "heart",
          "small_bowel",
          "kidney",
          "kidney_with_Gerotas_fascia",
          "liver",
          "lung",
          "metal",
          "muscle",
          "omentum",
          "organic_artifact",
          "pancreas",
          "peritoneum",
          "skin",
          "spleen",
          "stomach",
          "unsure",
          "major_vein",
          "white_compress"
         ],
         "xaxis": "x",
         "y": [
          657982,
          7563,
          12390,
          336663,
          5050683,
          1136697,
          90631,
          279911,
          67899,
          2639298,
          191815,
          2101479,
          196544,
          97186,
          699356,
          176447,
          703490,
          422701,
          228996,
          143841,
          37760,
          553096,
          1460324,
          141409,
          537690,
          36391,
          28751,
          87807
         ],
         "yaxis": "y"
        },
        {
         "alignmentgroup": "True",
         "hovertemplate": "subject_name=P070<br>label_name=%{x}<br>n_pixels=%{y}<extra></extra>",
         "legendgroup": "P070",
         "marker": {
          "color": "#FFA15A",
          "pattern": {
           "shape": ""
          }
         },
         "name": "P070",
         "offsetgroup": "P070",
         "orientation": "v",
         "showlegend": true,
         "textposition": "auto",
         "type": "bar",
         "x": [
          "abdominal_linen",
          "anorganic_artifact",
          "background",
          "blue_cloth",
          "colon",
          "fat",
          "foil",
          "gallbladder",
          "glove",
          "heart",
          "small_bowel",
          "liver",
          "lung",
          "metal",
          "muscle",
          "omentum",
          "organic_artifact",
          "pancreas",
          "peritoneum",
          "skin",
          "spleen",
          "stomach",
          "unsure",
          "white_compress"
         ],
         "xaxis": "x",
         "y": [
          2841489,
          30213,
          11989,
          2212111,
          641258,
          126082,
          165918,
          58813,
          1448867,
          105777,
          658984,
          825279,
          409972,
          486042,
          135603,
          92771,
          241699,
          75801,
          109930,
          464317,
          466637,
          342457,
          18303,
          10488
         ],
         "yaxis": "y"
        },
        {
         "alignmentgroup": "True",
         "hovertemplate": "subject_name=P072<br>label_name=%{x}<br>n_pixels=%{y}<extra></extra>",
         "legendgroup": "P072",
         "marker": {
          "color": "#19d3f3",
          "pattern": {
           "shape": ""
          }
         },
         "name": "P072",
         "offsetgroup": "P072",
         "orientation": "v",
         "showlegend": true,
         "textposition": "auto",
         "type": "bar",
         "x": [
          "abdominal_linen",
          "anorganic_artifact",
          "background",
          "bladder",
          "blue_cloth",
          "colon",
          "fat",
          "foil",
          "gallbladder",
          "glove",
          "heart",
          "small_bowel",
          "kidney",
          "kidney_with_Gerotas_fascia",
          "liver",
          "lung",
          "metal",
          "muscle",
          "omentum",
          "organic_artifact",
          "pancreas",
          "peritoneum",
          "skin",
          "spleen",
          "stomach",
          "tube",
          "unsure",
          "major_vein",
          "white_compress"
         ],
         "xaxis": "x",
         "y": [
          1561436,
          11088,
          37808,
          110850,
          3575825,
          744040,
          278154,
          87720,
          90647,
          1768989,
          198662,
          1343896,
          155822,
          5940,
          704002,
          106008,
          1339130,
          228905,
          169241,
          138764,
          35718,
          168458,
          650075,
          590553,
          259481,
          1715,
          56941,
          17158,
          1374
         ],
         "yaxis": "y"
        },
        {
         "alignmentgroup": "True",
         "hovertemplate": "subject_name=P046<br>label_name=%{x}<br>n_pixels=%{y}<extra></extra>",
         "legendgroup": "P046",
         "marker": {
          "color": "#FF6692",
          "pattern": {
           "shape": ""
          }
         },
         "name": "P046",
         "offsetgroup": "P046",
         "orientation": "v",
         "showlegend": true,
         "textposition": "auto",
         "type": "bar",
         "x": [
          "anorganic_artifact",
          "background",
          "bladder",
          "blue_cloth",
          "colon",
          "fat",
          "foil",
          "glove",
          "small_bowel",
          "liver",
          "metal",
          "omentum",
          "organic_artifact",
          "peritoneum",
          "skin",
          "spleen",
          "stomach",
          "unsure"
         ],
         "xaxis": "x",
         "y": [
          8156,
          5032,
          67026,
          304174,
          397693,
          335039,
          243011,
          3160,
          948669,
          537597,
          731227,
          115578,
          1485,
          191527,
          592433,
          303167,
          128055,
          2171
         ],
         "yaxis": "y"
        },
        {
         "alignmentgroup": "True",
         "hovertemplate": "subject_name=P047<br>label_name=%{x}<br>n_pixels=%{y}<extra></extra>",
         "legendgroup": "P047",
         "marker": {
          "color": "#B6E880",
          "pattern": {
           "shape": ""
          }
         },
         "name": "P047",
         "offsetgroup": "P047",
         "orientation": "v",
         "showlegend": true,
         "textposition": "auto",
         "type": "bar",
         "x": [
          "anorganic_artifact",
          "background",
          "bladder",
          "blue_cloth",
          "colon",
          "fat",
          "foil",
          "gallbladder",
          "small_bowel",
          "liver",
          "metal",
          "omentum",
          "organic_artifact",
          "peritoneum",
          "skin",
          "spleen",
          "stomach",
          "unsure",
          "white_compress"
         ],
         "xaxis": "x",
         "y": [
          1167,
          10181,
          5821,
          10795,
          178941,
          180379,
          98175,
          8943,
          608238,
          648589,
          511090,
          7214,
          102,
          102455,
          264457,
          234115,
          192707,
          3748,
          4883
         ],
         "yaxis": "y"
        },
        {
         "alignmentgroup": "True",
         "hovertemplate": "subject_name=P048<br>label_name=%{x}<br>n_pixels=%{y}<extra></extra>",
         "legendgroup": "P048",
         "marker": {
          "color": "#FF97FF",
          "pattern": {
           "shape": ""
          }
         },
         "name": "P048",
         "offsetgroup": "P048",
         "orientation": "v",
         "showlegend": true,
         "textposition": "auto",
         "type": "bar",
         "x": [
          "anorganic_artifact",
          "background",
          "bladder",
          "blue_cloth",
          "colon",
          "fat",
          "foil",
          "gallbladder",
          "small_bowel",
          "liver",
          "organic_artifact",
          "peritoneum",
          "skin",
          "spleen",
          "stomach",
          "unsure",
          "white_compress"
         ],
         "xaxis": "x",
         "y": [
          9298,
          32329,
          18265,
          192625,
          723007,
          298978,
          457930,
          6968,
          1098350,
          162242,
          20445,
          122116,
          1148459,
          126028,
          77340,
          1179,
          112441
         ],
         "yaxis": "y"
        },
        {
         "alignmentgroup": "True",
         "hovertemplate": "subject_name=P049<br>label_name=%{x}<br>n_pixels=%{y}<extra></extra>",
         "legendgroup": "P049",
         "marker": {
          "color": "#FECB52",
          "pattern": {
           "shape": ""
          }
         },
         "name": "P049",
         "offsetgroup": "P049",
         "orientation": "v",
         "showlegend": true,
         "textposition": "auto",
         "type": "bar",
         "x": [
          "anorganic_artifact",
          "bladder",
          "blue_cloth",
          "colon",
          "fat",
          "foil",
          "small_bowel",
          "liver",
          "organic_artifact",
          "peritoneum",
          "skin",
          "spleen",
          "stomach",
          "unsure",
          "white_compress"
         ],
         "xaxis": "x",
         "y": [
          5425,
          75443,
          120217,
          874958,
          226438,
          260325,
          1885292,
          46323,
          84,
          159060,
          619214,
          226178,
          302009,
          43732,
          70502
         ],
         "yaxis": "y"
        },
        {
         "alignmentgroup": "True",
         "hovertemplate": "subject_name=P050<br>label_name=%{x}<br>n_pixels=%{y}<extra></extra>",
         "legendgroup": "P050",
         "marker": {
          "color": "#636efa",
          "pattern": {
           "shape": ""
          }
         },
         "name": "P050",
         "offsetgroup": "P050",
         "orientation": "v",
         "showlegend": true,
         "textposition": "auto",
         "type": "bar",
         "x": [
          "anorganic_artifact",
          "background",
          "blue_cloth",
          "colon",
          "fat",
          "foil",
          "gallbladder",
          "small_bowel",
          "liver",
          "omentum",
          "peritoneum",
          "skin",
          "spleen",
          "stomach",
          "unsure",
          "white_compress"
         ],
         "xaxis": "x",
         "y": [
          17964,
          5687,
          1741,
          330046,
          86852,
          68705,
          2045,
          409177,
          150730,
          37789,
          58876,
          128343,
          119769,
          97290,
          1815,
          19171
         ],
         "yaxis": "y"
        },
        {
         "alignmentgroup": "True",
         "hovertemplate": "subject_name=P057<br>label_name=%{x}<br>n_pixels=%{y}<extra></extra>",
         "legendgroup": "P057",
         "marker": {
          "color": "#EF553B",
          "pattern": {
           "shape": ""
          }
         },
         "name": "P057",
         "offsetgroup": "P057",
         "orientation": "v",
         "showlegend": true,
         "textposition": "auto",
         "type": "bar",
         "x": [
          "anorganic_artifact",
          "background",
          "bladder",
          "blue_cloth",
          "colon",
          "fat",
          "foil",
          "gallbladder",
          "glove",
          "small_bowel",
          "liver",
          "omentum",
          "organic_artifact",
          "pancreas",
          "peritoneum",
          "skin",
          "spleen",
          "stomach",
          "unsure",
          "white_compress"
         ],
         "xaxis": "x",
         "y": [
          24611,
          860,
          28528,
          1000756,
          1359127,
          447201,
          617667,
          26134,
          576188,
          946920,
          511849,
          235274,
          4865,
          43528,
          339157,
          560401,
          301207,
          245768,
          29485,
          73274
         ],
         "yaxis": "y"
        },
        {
         "alignmentgroup": "True",
         "hovertemplate": "subject_name=P041<br>label_name=%{x}<br>n_pixels=%{y}<extra></extra>",
         "legendgroup": "P041",
         "marker": {
          "color": "#00cc96",
          "pattern": {
           "shape": ""
          }
         },
         "name": "P041",
         "offsetgroup": "P041",
         "orientation": "v",
         "showlegend": true,
         "textposition": "auto",
         "type": "bar",
         "x": [
          "background",
          "bladder",
          "blue_cloth",
          "colon",
          "fat",
          "foil",
          "small_bowel",
          "liver",
          "metal",
          "omentum",
          "peritoneum",
          "skin",
          "spleen",
          "stomach",
          "unsure",
          "white_compress"
         ],
         "xaxis": "x",
         "y": [
          3403,
          20242,
          322805,
          207037,
          23235,
          48984,
          280888,
          61400,
          5670,
          22361,
          28159,
          134855,
          26589,
          38899,
          823,
          3450
         ],
         "yaxis": "y"
        },
        {
         "alignmentgroup": "True",
         "hovertemplate": "subject_name=P045<br>label_name=%{x}<br>n_pixels=%{y}<extra></extra>",
         "legendgroup": "P045",
         "marker": {
          "color": "#ab63fa",
          "pattern": {
           "shape": ""
          }
         },
         "name": "P045",
         "offsetgroup": "P045",
         "orientation": "v",
         "showlegend": true,
         "textposition": "auto",
         "type": "bar",
         "x": [
          "background",
          "bladder",
          "blue_cloth",
          "colon",
          "fat",
          "foil",
          "heart",
          "small_bowel",
          "liver",
          "lung",
          "omentum",
          "peritoneum",
          "skin",
          "spleen",
          "stomach",
          "unsure",
          "white_compress"
         ],
         "xaxis": "x",
         "y": [
          3806,
          38390,
          1571891,
          2239734,
          251939,
          284147,
          60691,
          463297,
          399507,
          35707,
          20999,
          309644,
          567739,
          243444,
          203890,
          5530,
          58045
         ],
         "yaxis": "y"
        },
        {
         "alignmentgroup": "True",
         "hovertemplate": "subject_name=P043<br>label_name=%{x}<br>n_pixels=%{y}<extra></extra>",
         "legendgroup": "P043",
         "marker": {
          "color": "#FFA15A",
          "pattern": {
           "shape": ""
          }
         },
         "name": "P043",
         "offsetgroup": "P043",
         "orientation": "v",
         "showlegend": true,
         "textposition": "auto",
         "type": "bar",
         "x": [
          "bladder",
          "blue_cloth",
          "colon",
          "gallbladder",
          "heart",
          "small_bowel",
          "liver",
          "lung",
          "omentum",
          "stomach"
         ],
         "xaxis": "x",
         "y": [
          12084,
          4134078,
          485800,
          15173,
          299080,
          868617,
          472047,
          138006,
          5534,
          20781
         ],
         "yaxis": "y"
        },
        {
         "alignmentgroup": "True",
         "hovertemplate": "subject_name=P068<br>label_name=%{x}<br>n_pixels=%{y}<extra></extra>",
         "legendgroup": "P068",
         "marker": {
          "color": "#19d3f3",
          "pattern": {
           "shape": ""
          }
         },
         "name": "P068",
         "offsetgroup": "P068",
         "orientation": "v",
         "showlegend": true,
         "textposition": "auto",
         "type": "bar",
         "x": [
          "bladder",
          "blue_cloth",
          "colon",
          "fat",
          "gallbladder",
          "glove",
          "small_bowel",
          "liver",
          "metal",
          "omentum",
          "organic_artifact",
          "pancreas",
          "peritoneum",
          "skin",
          "spleen",
          "stomach",
          "unsure"
         ],
         "xaxis": "x",
         "y": [
          61163,
          3544839,
          653212,
          6169,
          16101,
          694343,
          775833,
          160268,
          160161,
          57922,
          15267,
          31731,
          11092,
          4549,
          401571,
          428975,
          42404
         ],
         "yaxis": "y"
        },
        {
         "alignmentgroup": "True",
         "hovertemplate": "subject_name=P044<br>label_name=%{x}<br>n_pixels=%{y}<extra></extra>",
         "legendgroup": "P044",
         "marker": {
          "color": "#FF6692",
          "pattern": {
           "shape": ""
          }
         },
         "name": "P044",
         "offsetgroup": "P044",
         "orientation": "v",
         "showlegend": true,
         "textposition": "auto",
         "type": "bar",
         "x": [
          "blue_cloth",
          "colon",
          "fat",
          "foil",
          "heart",
          "small_bowel",
          "liver",
          "lung",
          "metal",
          "muscle",
          "omentum",
          "peritoneum",
          "skin",
          "spleen",
          "stomach",
          "white_compress"
         ],
         "xaxis": "x",
         "y": [
          1629696,
          1167445,
          396217,
          500179,
          129031,
          1356749,
          354475,
          35656,
          52353,
          20820,
          11984,
          191229,
          908433,
          142739,
          52801,
          115793
         ],
         "yaxis": "y"
        },
        {
         "alignmentgroup": "True",
         "hovertemplate": "subject_name=P058<br>label_name=%{x}<br>n_pixels=%{y}<extra></extra>",
         "legendgroup": "P058",
         "marker": {
          "color": "#B6E880",
          "pattern": {
           "shape": ""
          }
         },
         "name": "P058",
         "offsetgroup": "P058",
         "orientation": "v",
         "showlegend": true,
         "textposition": "auto",
         "type": "bar",
         "x": [
          "blue_cloth",
          "colon",
          "colon_peritoneum",
          "fat",
          "heart",
          "small_bowel",
          "kidney",
          "kidney_with_Gerotas_fascia",
          "liver",
          "lung",
          "metal",
          "omentum",
          "pancreas",
          "peritoneum",
          "skin",
          "spleen",
          "stomach",
          "unsure",
          "major_vein"
         ],
         "xaxis": "x",
         "y": [
          8020256,
          1882029,
          158035,
          319913,
          412418,
          1139959,
          82958,
          232310,
          688786,
          384547,
          857801,
          67931,
          145214,
          749311,
          667542,
          246650,
          33669,
          111180,
          81091
         ],
         "yaxis": "y"
        },
        {
         "alignmentgroup": "True",
         "hovertemplate": "subject_name=P069<br>label_name=%{x}<br>n_pixels=%{y}<extra></extra>",
         "legendgroup": "P069",
         "marker": {
          "color": "#FF97FF",
          "pattern": {
           "shape": ""
          }
         },
         "name": "P069",
         "offsetgroup": "P069",
         "orientation": "v",
         "showlegend": true,
         "textposition": "auto",
         "type": "bar",
         "x": [
          "blue_cloth",
          "colon",
          "fat",
          "gallbladder",
          "small_bowel",
          "liver",
          "metal",
          "omentum",
          "peritoneum",
          "skin",
          "spleen",
          "stomach",
          "unsure"
         ],
         "xaxis": "x",
         "y": [
          1861123,
          996205,
          38661,
          50273,
          868826,
          364633,
          1260341,
          53971,
          33859,
          308041,
          135865,
          165472,
          6730
         ],
         "yaxis": "y"
        },
        {
         "alignmentgroup": "True",
         "hovertemplate": "subject_name=P071<br>label_name=%{x}<br>n_pixels=%{y}<extra></extra>",
         "legendgroup": "P071",
         "marker": {
          "color": "#FECB52",
          "pattern": {
           "shape": ""
          }
         },
         "name": "P071",
         "offsetgroup": "P071",
         "orientation": "v",
         "showlegend": true,
         "textposition": "auto",
         "type": "bar",
         "x": [
          "blue_cloth",
          "colon",
          "fat",
          "gallbladder",
          "glove",
          "small_bowel",
          "liver",
          "metal",
          "omentum",
          "organic_artifact",
          "pancreas",
          "peritoneum",
          "skin",
          "spleen",
          "stomach",
          "unsure"
         ],
         "xaxis": "x",
         "y": [
          2054848,
          325804,
          8830,
          27784,
          1274933,
          557684,
          140376,
          285584,
          135377,
          26788,
          66985,
          589,
          23562,
          182573,
          719042,
          6041
         ],
         "yaxis": "y"
        }
       ],
       "layout": {
        "barmode": "relative",
        "height": 500,
        "legend": {
         "title": {
          "text": "subject_name"
         },
         "tracegroupgap": 0
        },
        "margin": {
         "t": 60
        },
        "template": {
         "data": {
          "bar": [
           {
            "error_x": {
             "color": "#2a3f5f"
            },
            "error_y": {
             "color": "#2a3f5f"
            },
            "marker": {
             "line": {
              "color": "#E5ECF6",
              "width": 0.5
             },
             "pattern": {
              "fillmode": "overlay",
              "size": 10,
              "solidity": 0.2
             }
            },
            "type": "bar"
           }
          ],
          "barpolar": [
           {
            "marker": {
             "line": {
              "color": "#E5ECF6",
              "width": 0.5
             },
             "pattern": {
              "fillmode": "overlay",
              "size": 10,
              "solidity": 0.2
             }
            },
            "type": "barpolar"
           }
          ],
          "carpet": [
           {
            "aaxis": {
             "endlinecolor": "#2a3f5f",
             "gridcolor": "white",
             "linecolor": "white",
             "minorgridcolor": "white",
             "startlinecolor": "#2a3f5f"
            },
            "baxis": {
             "endlinecolor": "#2a3f5f",
             "gridcolor": "white",
             "linecolor": "white",
             "minorgridcolor": "white",
             "startlinecolor": "#2a3f5f"
            },
            "type": "carpet"
           }
          ],
          "choropleth": [
           {
            "colorbar": {
             "outlinewidth": 0,
             "ticks": ""
            },
            "type": "choropleth"
           }
          ],
          "contour": [
           {
            "colorbar": {
             "outlinewidth": 0,
             "ticks": ""
            },
            "colorscale": [
             [
              0,
              "#0d0887"
             ],
             [
              0.1111111111111111,
              "#46039f"
             ],
             [
              0.2222222222222222,
              "#7201a8"
             ],
             [
              0.3333333333333333,
              "#9c179e"
             ],
             [
              0.4444444444444444,
              "#bd3786"
             ],
             [
              0.5555555555555556,
              "#d8576b"
             ],
             [
              0.6666666666666666,
              "#ed7953"
             ],
             [
              0.7777777777777778,
              "#fb9f3a"
             ],
             [
              0.8888888888888888,
              "#fdca26"
             ],
             [
              1,
              "#f0f921"
             ]
            ],
            "type": "contour"
           }
          ],
          "contourcarpet": [
           {
            "colorbar": {
             "outlinewidth": 0,
             "ticks": ""
            },
            "type": "contourcarpet"
           }
          ],
          "heatmap": [
           {
            "colorbar": {
             "outlinewidth": 0,
             "ticks": ""
            },
            "colorscale": [
             [
              0,
              "#0d0887"
             ],
             [
              0.1111111111111111,
              "#46039f"
             ],
             [
              0.2222222222222222,
              "#7201a8"
             ],
             [
              0.3333333333333333,
              "#9c179e"
             ],
             [
              0.4444444444444444,
              "#bd3786"
             ],
             [
              0.5555555555555556,
              "#d8576b"
             ],
             [
              0.6666666666666666,
              "#ed7953"
             ],
             [
              0.7777777777777778,
              "#fb9f3a"
             ],
             [
              0.8888888888888888,
              "#fdca26"
             ],
             [
              1,
              "#f0f921"
             ]
            ],
            "type": "heatmap"
           }
          ],
          "heatmapgl": [
           {
            "colorbar": {
             "outlinewidth": 0,
             "ticks": ""
            },
            "colorscale": [
             [
              0,
              "#0d0887"
             ],
             [
              0.1111111111111111,
              "#46039f"
             ],
             [
              0.2222222222222222,
              "#7201a8"
             ],
             [
              0.3333333333333333,
              "#9c179e"
             ],
             [
              0.4444444444444444,
              "#bd3786"
             ],
             [
              0.5555555555555556,
              "#d8576b"
             ],
             [
              0.6666666666666666,
              "#ed7953"
             ],
             [
              0.7777777777777778,
              "#fb9f3a"
             ],
             [
              0.8888888888888888,
              "#fdca26"
             ],
             [
              1,
              "#f0f921"
             ]
            ],
            "type": "heatmapgl"
           }
          ],
          "histogram": [
           {
            "marker": {
             "pattern": {
              "fillmode": "overlay",
              "size": 10,
              "solidity": 0.2
             }
            },
            "type": "histogram"
           }
          ],
          "histogram2d": [
           {
            "colorbar": {
             "outlinewidth": 0,
             "ticks": ""
            },
            "colorscale": [
             [
              0,
              "#0d0887"
             ],
             [
              0.1111111111111111,
              "#46039f"
             ],
             [
              0.2222222222222222,
              "#7201a8"
             ],
             [
              0.3333333333333333,
              "#9c179e"
             ],
             [
              0.4444444444444444,
              "#bd3786"
             ],
             [
              0.5555555555555556,
              "#d8576b"
             ],
             [
              0.6666666666666666,
              "#ed7953"
             ],
             [
              0.7777777777777778,
              "#fb9f3a"
             ],
             [
              0.8888888888888888,
              "#fdca26"
             ],
             [
              1,
              "#f0f921"
             ]
            ],
            "type": "histogram2d"
           }
          ],
          "histogram2dcontour": [
           {
            "colorbar": {
             "outlinewidth": 0,
             "ticks": ""
            },
            "colorscale": [
             [
              0,
              "#0d0887"
             ],
             [
              0.1111111111111111,
              "#46039f"
             ],
             [
              0.2222222222222222,
              "#7201a8"
             ],
             [
              0.3333333333333333,
              "#9c179e"
             ],
             [
              0.4444444444444444,
              "#bd3786"
             ],
             [
              0.5555555555555556,
              "#d8576b"
             ],
             [
              0.6666666666666666,
              "#ed7953"
             ],
             [
              0.7777777777777778,
              "#fb9f3a"
             ],
             [
              0.8888888888888888,
              "#fdca26"
             ],
             [
              1,
              "#f0f921"
             ]
            ],
            "type": "histogram2dcontour"
           }
          ],
          "mesh3d": [
           {
            "colorbar": {
             "outlinewidth": 0,
             "ticks": ""
            },
            "type": "mesh3d"
           }
          ],
          "parcoords": [
           {
            "line": {
             "colorbar": {
              "outlinewidth": 0,
              "ticks": ""
             }
            },
            "type": "parcoords"
           }
          ],
          "pie": [
           {
            "automargin": true,
            "type": "pie"
           }
          ],
          "scatter": [
           {
            "fillpattern": {
             "fillmode": "overlay",
             "size": 10,
             "solidity": 0.2
            },
            "type": "scatter"
           }
          ],
          "scatter3d": [
           {
            "line": {
             "colorbar": {
              "outlinewidth": 0,
              "ticks": ""
             }
            },
            "marker": {
             "colorbar": {
              "outlinewidth": 0,
              "ticks": ""
             }
            },
            "type": "scatter3d"
           }
          ],
          "scattercarpet": [
           {
            "marker": {
             "colorbar": {
              "outlinewidth": 0,
              "ticks": ""
             }
            },
            "type": "scattercarpet"
           }
          ],
          "scattergeo": [
           {
            "marker": {
             "colorbar": {
              "outlinewidth": 0,
              "ticks": ""
             }
            },
            "type": "scattergeo"
           }
          ],
          "scattergl": [
           {
            "marker": {
             "colorbar": {
              "outlinewidth": 0,
              "ticks": ""
             }
            },
            "type": "scattergl"
           }
          ],
          "scattermapbox": [
           {
            "marker": {
             "colorbar": {
              "outlinewidth": 0,
              "ticks": ""
             }
            },
            "type": "scattermapbox"
           }
          ],
          "scatterpolar": [
           {
            "marker": {
             "colorbar": {
              "outlinewidth": 0,
              "ticks": ""
             }
            },
            "type": "scatterpolar"
           }
          ],
          "scatterpolargl": [
           {
            "marker": {
             "colorbar": {
              "outlinewidth": 0,
              "ticks": ""
             }
            },
            "type": "scatterpolargl"
           }
          ],
          "scatterternary": [
           {
            "marker": {
             "colorbar": {
              "outlinewidth": 0,
              "ticks": ""
             }
            },
            "type": "scatterternary"
           }
          ],
          "surface": [
           {
            "colorbar": {
             "outlinewidth": 0,
             "ticks": ""
            },
            "colorscale": [
             [
              0,
              "#0d0887"
             ],
             [
              0.1111111111111111,
              "#46039f"
             ],
             [
              0.2222222222222222,
              "#7201a8"
             ],
             [
              0.3333333333333333,
              "#9c179e"
             ],
             [
              0.4444444444444444,
              "#bd3786"
             ],
             [
              0.5555555555555556,
              "#d8576b"
             ],
             [
              0.6666666666666666,
              "#ed7953"
             ],
             [
              0.7777777777777778,
              "#fb9f3a"
             ],
             [
              0.8888888888888888,
              "#fdca26"
             ],
             [
              1,
              "#f0f921"
             ]
            ],
            "type": "surface"
           }
          ],
          "table": [
           {
            "cells": {
             "fill": {
              "color": "#EBF0F8"
             },
             "line": {
              "color": "white"
             }
            },
            "header": {
             "fill": {
              "color": "#C8D4E3"
             },
             "line": {
              "color": "white"
             }
            },
            "type": "table"
           }
          ]
         },
         "layout": {
          "annotationdefaults": {
           "arrowcolor": "#2a3f5f",
           "arrowhead": 0,
           "arrowwidth": 1
          },
          "autotypenumbers": "strict",
          "coloraxis": {
           "colorbar": {
            "outlinewidth": 0,
            "ticks": ""
           }
          },
          "colorscale": {
           "diverging": [
            [
             0,
             "#8e0152"
            ],
            [
             0.1,
             "#c51b7d"
            ],
            [
             0.2,
             "#de77ae"
            ],
            [
             0.3,
             "#f1b6da"
            ],
            [
             0.4,
             "#fde0ef"
            ],
            [
             0.5,
             "#f7f7f7"
            ],
            [
             0.6,
             "#e6f5d0"
            ],
            [
             0.7,
             "#b8e186"
            ],
            [
             0.8,
             "#7fbc41"
            ],
            [
             0.9,
             "#4d9221"
            ],
            [
             1,
             "#276419"
            ]
           ],
           "sequential": [
            [
             0,
             "#0d0887"
            ],
            [
             0.1111111111111111,
             "#46039f"
            ],
            [
             0.2222222222222222,
             "#7201a8"
            ],
            [
             0.3333333333333333,
             "#9c179e"
            ],
            [
             0.4444444444444444,
             "#bd3786"
            ],
            [
             0.5555555555555556,
             "#d8576b"
            ],
            [
             0.6666666666666666,
             "#ed7953"
            ],
            [
             0.7777777777777778,
             "#fb9f3a"
            ],
            [
             0.8888888888888888,
             "#fdca26"
            ],
            [
             1,
             "#f0f921"
            ]
           ],
           "sequentialminus": [
            [
             0,
             "#0d0887"
            ],
            [
             0.1111111111111111,
             "#46039f"
            ],
            [
             0.2222222222222222,
             "#7201a8"
            ],
            [
             0.3333333333333333,
             "#9c179e"
            ],
            [
             0.4444444444444444,
             "#bd3786"
            ],
            [
             0.5555555555555556,
             "#d8576b"
            ],
            [
             0.6666666666666666,
             "#ed7953"
            ],
            [
             0.7777777777777778,
             "#fb9f3a"
            ],
            [
             0.8888888888888888,
             "#fdca26"
            ],
            [
             1,
             "#f0f921"
            ]
           ]
          },
          "colorway": [
           "#636efa",
           "#EF553B",
           "#00cc96",
           "#ab63fa",
           "#FFA15A",
           "#19d3f3",
           "#FF6692",
           "#B6E880",
           "#FF97FF",
           "#FECB52"
          ],
          "font": {
           "color": "#2a3f5f"
          },
          "geo": {
           "bgcolor": "white",
           "lakecolor": "white",
           "landcolor": "#E5ECF6",
           "showlakes": true,
           "showland": true,
           "subunitcolor": "white"
          },
          "hoverlabel": {
           "align": "left"
          },
          "hovermode": "closest",
          "mapbox": {
           "style": "light"
          },
          "paper_bgcolor": "white",
          "plot_bgcolor": "#E5ECF6",
          "polar": {
           "angularaxis": {
            "gridcolor": "white",
            "linecolor": "white",
            "ticks": ""
           },
           "bgcolor": "#E5ECF6",
           "radialaxis": {
            "gridcolor": "white",
            "linecolor": "white",
            "ticks": ""
           }
          },
          "scene": {
           "xaxis": {
            "backgroundcolor": "#E5ECF6",
            "gridcolor": "white",
            "gridwidth": 2,
            "linecolor": "white",
            "showbackground": true,
            "ticks": "",
            "zerolinecolor": "white"
           },
           "yaxis": {
            "backgroundcolor": "#E5ECF6",
            "gridcolor": "white",
            "gridwidth": 2,
            "linecolor": "white",
            "showbackground": true,
            "ticks": "",
            "zerolinecolor": "white"
           },
           "zaxis": {
            "backgroundcolor": "#E5ECF6",
            "gridcolor": "white",
            "gridwidth": 2,
            "linecolor": "white",
            "showbackground": true,
            "ticks": "",
            "zerolinecolor": "white"
           }
          },
          "shapedefaults": {
           "line": {
            "color": "#2a3f5f"
           }
          },
          "ternary": {
           "aaxis": {
            "gridcolor": "white",
            "linecolor": "white",
            "ticks": ""
           },
           "baxis": {
            "gridcolor": "white",
            "linecolor": "white",
            "ticks": ""
           },
           "bgcolor": "#E5ECF6",
           "caxis": {
            "gridcolor": "white",
            "linecolor": "white",
            "ticks": ""
           }
          },
          "title": {
           "x": 0.05
          },
          "xaxis": {
           "automargin": true,
           "gridcolor": "white",
           "linecolor": "white",
           "ticks": "",
           "title": {
            "standoff": 15
           },
           "zerolinecolor": "white",
           "zerolinewidth": 2
          },
          "yaxis": {
           "automargin": true,
           "gridcolor": "white",
           "linecolor": "white",
           "ticks": "",
           "title": {
            "standoff": 15
           },
           "zerolinecolor": "white",
           "zerolinewidth": 2
          }
         }
        },
        "title": {
         "text": "Number of pixels per label",
         "x": 0.5
        },
        "width": 2000,
        "xaxis": {
         "anchor": "y",
         "categoryarray": [
          "abdominal_linen",
          "anorganic_artifact",
          "background",
          "bladder",
          "blue_cloth",
          "colon",
          "colon_peritoneum",
          "fat",
          "foil",
          "gallbladder",
          "glove",
          "heart",
          "small_bowel",
          "kidney",
          "kidney_with_Gerotas_fascia",
          "liver",
          "lung",
          "metal",
          "muscle",
          "omentum",
          "organic_artifact",
          "overlap",
          "pancreas",
          "peritoneum",
          "skin",
          "spleen",
          "stomach",
          "syringe",
          "tube",
          "unlabeled",
          "unsure",
          "major_vein",
          "white_compress"
         ],
         "categoryorder": "array",
         "domain": [
          0,
          1
         ],
         "title": {
          "text": "label_name"
         }
        },
        "yaxis": {
         "anchor": "x",
         "domain": [
          0,
          1
         ],
         "showticklabels": true,
         "title": {
          "text": "n_pixels"
         }
        }
       }
      },
      "text/html": [
       "<div>                            <div id=\"5594aa6b-342f-4d0a-ba5e-4842fab428f7\" class=\"plotly-graph-div\" style=\"height:500px; width:2000px;\"></div>            <script type=\"text/javascript\">                require([\"plotly\"], function(Plotly) {                    window.PLOTLYENV=window.PLOTLYENV || {};                                    if (document.getElementById(\"5594aa6b-342f-4d0a-ba5e-4842fab428f7\")) {                    Plotly.newPlot(                        \"5594aa6b-342f-4d0a-ba5e-4842fab428f7\",                        [{\"alignmentgroup\":\"True\",\"hovertemplate\":\"subject_name=P059<br>label_name=%{x}<br>n_pixels=%{y}<extra></extra>\",\"legendgroup\":\"P059\",\"marker\":{\"color\":\"#636efa\",\"pattern\":{\"shape\":\"\"}},\"name\":\"P059\",\"offsetgroup\":\"P059\",\"orientation\":\"v\",\"showlegend\":true,\"textposition\":\"auto\",\"x\":[\"abdominal_linen\",\"bladder\",\"blue_cloth\",\"colon\",\"foil\",\"gallbladder\",\"glove\",\"small_bowel\",\"kidney\",\"kidney_with_Gerotas_fascia\",\"liver\",\"omentum\",\"organic_artifact\",\"pancreas\",\"peritoneum\",\"skin\",\"spleen\",\"stomach\",\"unsure\",\"major_vein\"],\"xaxis\":\"x\",\"y\":[678833,210231,2024534,950981,7287,23499,1143977,1012785,69585,34067,104458,8757,2285,46524,355550,624,63109,3531,12985,4798],\"yaxis\":\"y\",\"type\":\"bar\"},{\"alignmentgroup\":\"True\",\"hovertemplate\":\"subject_name=P060<br>label_name=%{x}<br>n_pixels=%{y}<extra></extra>\",\"legendgroup\":\"P060\",\"marker\":{\"color\":\"#EF553B\",\"pattern\":{\"shape\":\"\"}},\"name\":\"P060\",\"offsetgroup\":\"P060\",\"orientation\":\"v\",\"showlegend\":true,\"textposition\":\"auto\",\"x\":[\"abdominal_linen\",\"bladder\",\"blue_cloth\",\"colon\",\"fat\",\"foil\",\"gallbladder\",\"glove\",\"heart\",\"small_bowel\",\"kidney_with_Gerotas_fascia\",\"liver\",\"lung\",\"metal\",\"muscle\",\"omentum\",\"organic_artifact\",\"pancreas\",\"peritoneum\",\"skin\",\"spleen\",\"stomach\",\"unsure\",\"major_vein\",\"white_compress\"],\"xaxis\":\"x\",\"y\":[365393,173954,7059998,986773,1537,102112,24148,897954,322532,2302419,90180,887503,350135,334018,116821,117195,44236,56213,406678,277007,278381,144422,10337,2351,7703],\"yaxis\":\"y\",\"type\":\"bar\"},{\"alignmentgroup\":\"True\",\"hovertemplate\":\"subject_name=P061<br>label_name=%{x}<br>n_pixels=%{y}<extra></extra>\",\"legendgroup\":\"P061\",\"marker\":{\"color\":\"#00cc96\",\"pattern\":{\"shape\":\"\"}},\"name\":\"P061\",\"offsetgroup\":\"P061\",\"orientation\":\"v\",\"showlegend\":true,\"textposition\":\"auto\",\"x\":[\"abdominal_linen\",\"anorganic_artifact\",\"background\",\"bladder\",\"blue_cloth\",\"colon\",\"colon_peritoneum\",\"fat\",\"foil\",\"glove\",\"small_bowel\",\"kidney\",\"liver\",\"metal\",\"muscle\",\"omentum\",\"organic_artifact\",\"pancreas\",\"peritoneum\",\"skin\",\"spleen\",\"stomach\",\"unsure\"],\"xaxis\":\"x\",\"y\":[157270,2948,5599,89356,339904,684132,28425,258409,132252,85601,1469287,118566,123374,724254,3343,2895,2603,5284,265394,584610,193362,193472,59260],\"yaxis\":\"y\",\"type\":\"bar\"},{\"alignmentgroup\":\"True\",\"hovertemplate\":\"subject_name=P062<br>label_name=%{x}<br>n_pixels=%{y}<extra></extra>\",\"legendgroup\":\"P062\",\"marker\":{\"color\":\"#ab63fa\",\"pattern\":{\"shape\":\"\"}},\"name\":\"P062\",\"offsetgroup\":\"P062\",\"orientation\":\"v\",\"showlegend\":true,\"textposition\":\"auto\",\"x\":[\"abdominal_linen\",\"anorganic_artifact\",\"background\",\"bladder\",\"blue_cloth\",\"colon\",\"fat\",\"foil\",\"gallbladder\",\"glove\",\"heart\",\"small_bowel\",\"kidney\",\"kidney_with_Gerotas_fascia\",\"liver\",\"lung\",\"metal\",\"muscle\",\"omentum\",\"organic_artifact\",\"pancreas\",\"peritoneum\",\"skin\",\"spleen\",\"stomach\",\"unsure\",\"major_vein\",\"white_compress\"],\"xaxis\":\"x\",\"y\":[657982,7563,12390,336663,5050683,1136697,90631,279911,67899,2639298,191815,2101479,196544,97186,699356,176447,703490,422701,228996,143841,37760,553096,1460324,141409,537690,36391,28751,87807],\"yaxis\":\"y\",\"type\":\"bar\"},{\"alignmentgroup\":\"True\",\"hovertemplate\":\"subject_name=P070<br>label_name=%{x}<br>n_pixels=%{y}<extra></extra>\",\"legendgroup\":\"P070\",\"marker\":{\"color\":\"#FFA15A\",\"pattern\":{\"shape\":\"\"}},\"name\":\"P070\",\"offsetgroup\":\"P070\",\"orientation\":\"v\",\"showlegend\":true,\"textposition\":\"auto\",\"x\":[\"abdominal_linen\",\"anorganic_artifact\",\"background\",\"blue_cloth\",\"colon\",\"fat\",\"foil\",\"gallbladder\",\"glove\",\"heart\",\"small_bowel\",\"liver\",\"lung\",\"metal\",\"muscle\",\"omentum\",\"organic_artifact\",\"pancreas\",\"peritoneum\",\"skin\",\"spleen\",\"stomach\",\"unsure\",\"white_compress\"],\"xaxis\":\"x\",\"y\":[2841489,30213,11989,2212111,641258,126082,165918,58813,1448867,105777,658984,825279,409972,486042,135603,92771,241699,75801,109930,464317,466637,342457,18303,10488],\"yaxis\":\"y\",\"type\":\"bar\"},{\"alignmentgroup\":\"True\",\"hovertemplate\":\"subject_name=P072<br>label_name=%{x}<br>n_pixels=%{y}<extra></extra>\",\"legendgroup\":\"P072\",\"marker\":{\"color\":\"#19d3f3\",\"pattern\":{\"shape\":\"\"}},\"name\":\"P072\",\"offsetgroup\":\"P072\",\"orientation\":\"v\",\"showlegend\":true,\"textposition\":\"auto\",\"x\":[\"abdominal_linen\",\"anorganic_artifact\",\"background\",\"bladder\",\"blue_cloth\",\"colon\",\"fat\",\"foil\",\"gallbladder\",\"glove\",\"heart\",\"small_bowel\",\"kidney\",\"kidney_with_Gerotas_fascia\",\"liver\",\"lung\",\"metal\",\"muscle\",\"omentum\",\"organic_artifact\",\"pancreas\",\"peritoneum\",\"skin\",\"spleen\",\"stomach\",\"tube\",\"unsure\",\"major_vein\",\"white_compress\"],\"xaxis\":\"x\",\"y\":[1561436,11088,37808,110850,3575825,744040,278154,87720,90647,1768989,198662,1343896,155822,5940,704002,106008,1339130,228905,169241,138764,35718,168458,650075,590553,259481,1715,56941,17158,1374],\"yaxis\":\"y\",\"type\":\"bar\"},{\"alignmentgroup\":\"True\",\"hovertemplate\":\"subject_name=P046<br>label_name=%{x}<br>n_pixels=%{y}<extra></extra>\",\"legendgroup\":\"P046\",\"marker\":{\"color\":\"#FF6692\",\"pattern\":{\"shape\":\"\"}},\"name\":\"P046\",\"offsetgroup\":\"P046\",\"orientation\":\"v\",\"showlegend\":true,\"textposition\":\"auto\",\"x\":[\"anorganic_artifact\",\"background\",\"bladder\",\"blue_cloth\",\"colon\",\"fat\",\"foil\",\"glove\",\"small_bowel\",\"liver\",\"metal\",\"omentum\",\"organic_artifact\",\"peritoneum\",\"skin\",\"spleen\",\"stomach\",\"unsure\"],\"xaxis\":\"x\",\"y\":[8156,5032,67026,304174,397693,335039,243011,3160,948669,537597,731227,115578,1485,191527,592433,303167,128055,2171],\"yaxis\":\"y\",\"type\":\"bar\"},{\"alignmentgroup\":\"True\",\"hovertemplate\":\"subject_name=P047<br>label_name=%{x}<br>n_pixels=%{y}<extra></extra>\",\"legendgroup\":\"P047\",\"marker\":{\"color\":\"#B6E880\",\"pattern\":{\"shape\":\"\"}},\"name\":\"P047\",\"offsetgroup\":\"P047\",\"orientation\":\"v\",\"showlegend\":true,\"textposition\":\"auto\",\"x\":[\"anorganic_artifact\",\"background\",\"bladder\",\"blue_cloth\",\"colon\",\"fat\",\"foil\",\"gallbladder\",\"small_bowel\",\"liver\",\"metal\",\"omentum\",\"organic_artifact\",\"peritoneum\",\"skin\",\"spleen\",\"stomach\",\"unsure\",\"white_compress\"],\"xaxis\":\"x\",\"y\":[1167,10181,5821,10795,178941,180379,98175,8943,608238,648589,511090,7214,102,102455,264457,234115,192707,3748,4883],\"yaxis\":\"y\",\"type\":\"bar\"},{\"alignmentgroup\":\"True\",\"hovertemplate\":\"subject_name=P048<br>label_name=%{x}<br>n_pixels=%{y}<extra></extra>\",\"legendgroup\":\"P048\",\"marker\":{\"color\":\"#FF97FF\",\"pattern\":{\"shape\":\"\"}},\"name\":\"P048\",\"offsetgroup\":\"P048\",\"orientation\":\"v\",\"showlegend\":true,\"textposition\":\"auto\",\"x\":[\"anorganic_artifact\",\"background\",\"bladder\",\"blue_cloth\",\"colon\",\"fat\",\"foil\",\"gallbladder\",\"small_bowel\",\"liver\",\"organic_artifact\",\"peritoneum\",\"skin\",\"spleen\",\"stomach\",\"unsure\",\"white_compress\"],\"xaxis\":\"x\",\"y\":[9298,32329,18265,192625,723007,298978,457930,6968,1098350,162242,20445,122116,1148459,126028,77340,1179,112441],\"yaxis\":\"y\",\"type\":\"bar\"},{\"alignmentgroup\":\"True\",\"hovertemplate\":\"subject_name=P049<br>label_name=%{x}<br>n_pixels=%{y}<extra></extra>\",\"legendgroup\":\"P049\",\"marker\":{\"color\":\"#FECB52\",\"pattern\":{\"shape\":\"\"}},\"name\":\"P049\",\"offsetgroup\":\"P049\",\"orientation\":\"v\",\"showlegend\":true,\"textposition\":\"auto\",\"x\":[\"anorganic_artifact\",\"bladder\",\"blue_cloth\",\"colon\",\"fat\",\"foil\",\"small_bowel\",\"liver\",\"organic_artifact\",\"peritoneum\",\"skin\",\"spleen\",\"stomach\",\"unsure\",\"white_compress\"],\"xaxis\":\"x\",\"y\":[5425,75443,120217,874958,226438,260325,1885292,46323,84,159060,619214,226178,302009,43732,70502],\"yaxis\":\"y\",\"type\":\"bar\"},{\"alignmentgroup\":\"True\",\"hovertemplate\":\"subject_name=P050<br>label_name=%{x}<br>n_pixels=%{y}<extra></extra>\",\"legendgroup\":\"P050\",\"marker\":{\"color\":\"#636efa\",\"pattern\":{\"shape\":\"\"}},\"name\":\"P050\",\"offsetgroup\":\"P050\",\"orientation\":\"v\",\"showlegend\":true,\"textposition\":\"auto\",\"x\":[\"anorganic_artifact\",\"background\",\"blue_cloth\",\"colon\",\"fat\",\"foil\",\"gallbladder\",\"small_bowel\",\"liver\",\"omentum\",\"peritoneum\",\"skin\",\"spleen\",\"stomach\",\"unsure\",\"white_compress\"],\"xaxis\":\"x\",\"y\":[17964,5687,1741,330046,86852,68705,2045,409177,150730,37789,58876,128343,119769,97290,1815,19171],\"yaxis\":\"y\",\"type\":\"bar\"},{\"alignmentgroup\":\"True\",\"hovertemplate\":\"subject_name=P057<br>label_name=%{x}<br>n_pixels=%{y}<extra></extra>\",\"legendgroup\":\"P057\",\"marker\":{\"color\":\"#EF553B\",\"pattern\":{\"shape\":\"\"}},\"name\":\"P057\",\"offsetgroup\":\"P057\",\"orientation\":\"v\",\"showlegend\":true,\"textposition\":\"auto\",\"x\":[\"anorganic_artifact\",\"background\",\"bladder\",\"blue_cloth\",\"colon\",\"fat\",\"foil\",\"gallbladder\",\"glove\",\"small_bowel\",\"liver\",\"omentum\",\"organic_artifact\",\"pancreas\",\"peritoneum\",\"skin\",\"spleen\",\"stomach\",\"unsure\",\"white_compress\"],\"xaxis\":\"x\",\"y\":[24611,860,28528,1000756,1359127,447201,617667,26134,576188,946920,511849,235274,4865,43528,339157,560401,301207,245768,29485,73274],\"yaxis\":\"y\",\"type\":\"bar\"},{\"alignmentgroup\":\"True\",\"hovertemplate\":\"subject_name=P041<br>label_name=%{x}<br>n_pixels=%{y}<extra></extra>\",\"legendgroup\":\"P041\",\"marker\":{\"color\":\"#00cc96\",\"pattern\":{\"shape\":\"\"}},\"name\":\"P041\",\"offsetgroup\":\"P041\",\"orientation\":\"v\",\"showlegend\":true,\"textposition\":\"auto\",\"x\":[\"background\",\"bladder\",\"blue_cloth\",\"colon\",\"fat\",\"foil\",\"small_bowel\",\"liver\",\"metal\",\"omentum\",\"peritoneum\",\"skin\",\"spleen\",\"stomach\",\"unsure\",\"white_compress\"],\"xaxis\":\"x\",\"y\":[3403,20242,322805,207037,23235,48984,280888,61400,5670,22361,28159,134855,26589,38899,823,3450],\"yaxis\":\"y\",\"type\":\"bar\"},{\"alignmentgroup\":\"True\",\"hovertemplate\":\"subject_name=P045<br>label_name=%{x}<br>n_pixels=%{y}<extra></extra>\",\"legendgroup\":\"P045\",\"marker\":{\"color\":\"#ab63fa\",\"pattern\":{\"shape\":\"\"}},\"name\":\"P045\",\"offsetgroup\":\"P045\",\"orientation\":\"v\",\"showlegend\":true,\"textposition\":\"auto\",\"x\":[\"background\",\"bladder\",\"blue_cloth\",\"colon\",\"fat\",\"foil\",\"heart\",\"small_bowel\",\"liver\",\"lung\",\"omentum\",\"peritoneum\",\"skin\",\"spleen\",\"stomach\",\"unsure\",\"white_compress\"],\"xaxis\":\"x\",\"y\":[3806,38390,1571891,2239734,251939,284147,60691,463297,399507,35707,20999,309644,567739,243444,203890,5530,58045],\"yaxis\":\"y\",\"type\":\"bar\"},{\"alignmentgroup\":\"True\",\"hovertemplate\":\"subject_name=P043<br>label_name=%{x}<br>n_pixels=%{y}<extra></extra>\",\"legendgroup\":\"P043\",\"marker\":{\"color\":\"#FFA15A\",\"pattern\":{\"shape\":\"\"}},\"name\":\"P043\",\"offsetgroup\":\"P043\",\"orientation\":\"v\",\"showlegend\":true,\"textposition\":\"auto\",\"x\":[\"bladder\",\"blue_cloth\",\"colon\",\"gallbladder\",\"heart\",\"small_bowel\",\"liver\",\"lung\",\"omentum\",\"stomach\"],\"xaxis\":\"x\",\"y\":[12084,4134078,485800,15173,299080,868617,472047,138006,5534,20781],\"yaxis\":\"y\",\"type\":\"bar\"},{\"alignmentgroup\":\"True\",\"hovertemplate\":\"subject_name=P068<br>label_name=%{x}<br>n_pixels=%{y}<extra></extra>\",\"legendgroup\":\"P068\",\"marker\":{\"color\":\"#19d3f3\",\"pattern\":{\"shape\":\"\"}},\"name\":\"P068\",\"offsetgroup\":\"P068\",\"orientation\":\"v\",\"showlegend\":true,\"textposition\":\"auto\",\"x\":[\"bladder\",\"blue_cloth\",\"colon\",\"fat\",\"gallbladder\",\"glove\",\"small_bowel\",\"liver\",\"metal\",\"omentum\",\"organic_artifact\",\"pancreas\",\"peritoneum\",\"skin\",\"spleen\",\"stomach\",\"unsure\"],\"xaxis\":\"x\",\"y\":[61163,3544839,653212,6169,16101,694343,775833,160268,160161,57922,15267,31731,11092,4549,401571,428975,42404],\"yaxis\":\"y\",\"type\":\"bar\"},{\"alignmentgroup\":\"True\",\"hovertemplate\":\"subject_name=P044<br>label_name=%{x}<br>n_pixels=%{y}<extra></extra>\",\"legendgroup\":\"P044\",\"marker\":{\"color\":\"#FF6692\",\"pattern\":{\"shape\":\"\"}},\"name\":\"P044\",\"offsetgroup\":\"P044\",\"orientation\":\"v\",\"showlegend\":true,\"textposition\":\"auto\",\"x\":[\"blue_cloth\",\"colon\",\"fat\",\"foil\",\"heart\",\"small_bowel\",\"liver\",\"lung\",\"metal\",\"muscle\",\"omentum\",\"peritoneum\",\"skin\",\"spleen\",\"stomach\",\"white_compress\"],\"xaxis\":\"x\",\"y\":[1629696,1167445,396217,500179,129031,1356749,354475,35656,52353,20820,11984,191229,908433,142739,52801,115793],\"yaxis\":\"y\",\"type\":\"bar\"},{\"alignmentgroup\":\"True\",\"hovertemplate\":\"subject_name=P058<br>label_name=%{x}<br>n_pixels=%{y}<extra></extra>\",\"legendgroup\":\"P058\",\"marker\":{\"color\":\"#B6E880\",\"pattern\":{\"shape\":\"\"}},\"name\":\"P058\",\"offsetgroup\":\"P058\",\"orientation\":\"v\",\"showlegend\":true,\"textposition\":\"auto\",\"x\":[\"blue_cloth\",\"colon\",\"colon_peritoneum\",\"fat\",\"heart\",\"small_bowel\",\"kidney\",\"kidney_with_Gerotas_fascia\",\"liver\",\"lung\",\"metal\",\"omentum\",\"pancreas\",\"peritoneum\",\"skin\",\"spleen\",\"stomach\",\"unsure\",\"major_vein\"],\"xaxis\":\"x\",\"y\":[8020256,1882029,158035,319913,412418,1139959,82958,232310,688786,384547,857801,67931,145214,749311,667542,246650,33669,111180,81091],\"yaxis\":\"y\",\"type\":\"bar\"},{\"alignmentgroup\":\"True\",\"hovertemplate\":\"subject_name=P069<br>label_name=%{x}<br>n_pixels=%{y}<extra></extra>\",\"legendgroup\":\"P069\",\"marker\":{\"color\":\"#FF97FF\",\"pattern\":{\"shape\":\"\"}},\"name\":\"P069\",\"offsetgroup\":\"P069\",\"orientation\":\"v\",\"showlegend\":true,\"textposition\":\"auto\",\"x\":[\"blue_cloth\",\"colon\",\"fat\",\"gallbladder\",\"small_bowel\",\"liver\",\"metal\",\"omentum\",\"peritoneum\",\"skin\",\"spleen\",\"stomach\",\"unsure\"],\"xaxis\":\"x\",\"y\":[1861123,996205,38661,50273,868826,364633,1260341,53971,33859,308041,135865,165472,6730],\"yaxis\":\"y\",\"type\":\"bar\"},{\"alignmentgroup\":\"True\",\"hovertemplate\":\"subject_name=P071<br>label_name=%{x}<br>n_pixels=%{y}<extra></extra>\",\"legendgroup\":\"P071\",\"marker\":{\"color\":\"#FECB52\",\"pattern\":{\"shape\":\"\"}},\"name\":\"P071\",\"offsetgroup\":\"P071\",\"orientation\":\"v\",\"showlegend\":true,\"textposition\":\"auto\",\"x\":[\"blue_cloth\",\"colon\",\"fat\",\"gallbladder\",\"glove\",\"small_bowel\",\"liver\",\"metal\",\"omentum\",\"organic_artifact\",\"pancreas\",\"peritoneum\",\"skin\",\"spleen\",\"stomach\",\"unsure\"],\"xaxis\":\"x\",\"y\":[2054848,325804,8830,27784,1274933,557684,140376,285584,135377,26788,66985,589,23562,182573,719042,6041],\"yaxis\":\"y\",\"type\":\"bar\"}],                        {\"template\":{\"data\":{\"histogram2dcontour\":[{\"type\":\"histogram2dcontour\",\"colorbar\":{\"outlinewidth\":0,\"ticks\":\"\"},\"colorscale\":[[0.0,\"#0d0887\"],[0.1111111111111111,\"#46039f\"],[0.2222222222222222,\"#7201a8\"],[0.3333333333333333,\"#9c179e\"],[0.4444444444444444,\"#bd3786\"],[0.5555555555555556,\"#d8576b\"],[0.6666666666666666,\"#ed7953\"],[0.7777777777777778,\"#fb9f3a\"],[0.8888888888888888,\"#fdca26\"],[1.0,\"#f0f921\"]]}],\"choropleth\":[{\"type\":\"choropleth\",\"colorbar\":{\"outlinewidth\":0,\"ticks\":\"\"}}],\"histogram2d\":[{\"type\":\"histogram2d\",\"colorbar\":{\"outlinewidth\":0,\"ticks\":\"\"},\"colorscale\":[[0.0,\"#0d0887\"],[0.1111111111111111,\"#46039f\"],[0.2222222222222222,\"#7201a8\"],[0.3333333333333333,\"#9c179e\"],[0.4444444444444444,\"#bd3786\"],[0.5555555555555556,\"#d8576b\"],[0.6666666666666666,\"#ed7953\"],[0.7777777777777778,\"#fb9f3a\"],[0.8888888888888888,\"#fdca26\"],[1.0,\"#f0f921\"]]}],\"heatmap\":[{\"type\":\"heatmap\",\"colorbar\":{\"outlinewidth\":0,\"ticks\":\"\"},\"colorscale\":[[0.0,\"#0d0887\"],[0.1111111111111111,\"#46039f\"],[0.2222222222222222,\"#7201a8\"],[0.3333333333333333,\"#9c179e\"],[0.4444444444444444,\"#bd3786\"],[0.5555555555555556,\"#d8576b\"],[0.6666666666666666,\"#ed7953\"],[0.7777777777777778,\"#fb9f3a\"],[0.8888888888888888,\"#fdca26\"],[1.0,\"#f0f921\"]]}],\"heatmapgl\":[{\"type\":\"heatmapgl\",\"colorbar\":{\"outlinewidth\":0,\"ticks\":\"\"},\"colorscale\":[[0.0,\"#0d0887\"],[0.1111111111111111,\"#46039f\"],[0.2222222222222222,\"#7201a8\"],[0.3333333333333333,\"#9c179e\"],[0.4444444444444444,\"#bd3786\"],[0.5555555555555556,\"#d8576b\"],[0.6666666666666666,\"#ed7953\"],[0.7777777777777778,\"#fb9f3a\"],[0.8888888888888888,\"#fdca26\"],[1.0,\"#f0f921\"]]}],\"contourcarpet\":[{\"type\":\"contourcarpet\",\"colorbar\":{\"outlinewidth\":0,\"ticks\":\"\"}}],\"contour\":[{\"type\":\"contour\",\"colorbar\":{\"outlinewidth\":0,\"ticks\":\"\"},\"colorscale\":[[0.0,\"#0d0887\"],[0.1111111111111111,\"#46039f\"],[0.2222222222222222,\"#7201a8\"],[0.3333333333333333,\"#9c179e\"],[0.4444444444444444,\"#bd3786\"],[0.5555555555555556,\"#d8576b\"],[0.6666666666666666,\"#ed7953\"],[0.7777777777777778,\"#fb9f3a\"],[0.8888888888888888,\"#fdca26\"],[1.0,\"#f0f921\"]]}],\"surface\":[{\"type\":\"surface\",\"colorbar\":{\"outlinewidth\":0,\"ticks\":\"\"},\"colorscale\":[[0.0,\"#0d0887\"],[0.1111111111111111,\"#46039f\"],[0.2222222222222222,\"#7201a8\"],[0.3333333333333333,\"#9c179e\"],[0.4444444444444444,\"#bd3786\"],[0.5555555555555556,\"#d8576b\"],[0.6666666666666666,\"#ed7953\"],[0.7777777777777778,\"#fb9f3a\"],[0.8888888888888888,\"#fdca26\"],[1.0,\"#f0f921\"]]}],\"mesh3d\":[{\"type\":\"mesh3d\",\"colorbar\":{\"outlinewidth\":0,\"ticks\":\"\"}}],\"scatter\":[{\"fillpattern\":{\"fillmode\":\"overlay\",\"size\":10,\"solidity\":0.2},\"type\":\"scatter\"}],\"parcoords\":[{\"type\":\"parcoords\",\"line\":{\"colorbar\":{\"outlinewidth\":0,\"ticks\":\"\"}}}],\"scatterpolargl\":[{\"type\":\"scatterpolargl\",\"marker\":{\"colorbar\":{\"outlinewidth\":0,\"ticks\":\"\"}}}],\"bar\":[{\"error_x\":{\"color\":\"#2a3f5f\"},\"error_y\":{\"color\":\"#2a3f5f\"},\"marker\":{\"line\":{\"color\":\"#E5ECF6\",\"width\":0.5},\"pattern\":{\"fillmode\":\"overlay\",\"size\":10,\"solidity\":0.2}},\"type\":\"bar\"}],\"scattergeo\":[{\"type\":\"scattergeo\",\"marker\":{\"colorbar\":{\"outlinewidth\":0,\"ticks\":\"\"}}}],\"scatterpolar\":[{\"type\":\"scatterpolar\",\"marker\":{\"colorbar\":{\"outlinewidth\":0,\"ticks\":\"\"}}}],\"histogram\":[{\"marker\":{\"pattern\":{\"fillmode\":\"overlay\",\"size\":10,\"solidity\":0.2}},\"type\":\"histogram\"}],\"scattergl\":[{\"type\":\"scattergl\",\"marker\":{\"colorbar\":{\"outlinewidth\":0,\"ticks\":\"\"}}}],\"scatter3d\":[{\"type\":\"scatter3d\",\"line\":{\"colorbar\":{\"outlinewidth\":0,\"ticks\":\"\"}},\"marker\":{\"colorbar\":{\"outlinewidth\":0,\"ticks\":\"\"}}}],\"scattermapbox\":[{\"type\":\"scattermapbox\",\"marker\":{\"colorbar\":{\"outlinewidth\":0,\"ticks\":\"\"}}}],\"scatterternary\":[{\"type\":\"scatterternary\",\"marker\":{\"colorbar\":{\"outlinewidth\":0,\"ticks\":\"\"}}}],\"scattercarpet\":[{\"type\":\"scattercarpet\",\"marker\":{\"colorbar\":{\"outlinewidth\":0,\"ticks\":\"\"}}}],\"carpet\":[{\"aaxis\":{\"endlinecolor\":\"#2a3f5f\",\"gridcolor\":\"white\",\"linecolor\":\"white\",\"minorgridcolor\":\"white\",\"startlinecolor\":\"#2a3f5f\"},\"baxis\":{\"endlinecolor\":\"#2a3f5f\",\"gridcolor\":\"white\",\"linecolor\":\"white\",\"minorgridcolor\":\"white\",\"startlinecolor\":\"#2a3f5f\"},\"type\":\"carpet\"}],\"table\":[{\"cells\":{\"fill\":{\"color\":\"#EBF0F8\"},\"line\":{\"color\":\"white\"}},\"header\":{\"fill\":{\"color\":\"#C8D4E3\"},\"line\":{\"color\":\"white\"}},\"type\":\"table\"}],\"barpolar\":[{\"marker\":{\"line\":{\"color\":\"#E5ECF6\",\"width\":0.5},\"pattern\":{\"fillmode\":\"overlay\",\"size\":10,\"solidity\":0.2}},\"type\":\"barpolar\"}],\"pie\":[{\"automargin\":true,\"type\":\"pie\"}]},\"layout\":{\"autotypenumbers\":\"strict\",\"colorway\":[\"#636efa\",\"#EF553B\",\"#00cc96\",\"#ab63fa\",\"#FFA15A\",\"#19d3f3\",\"#FF6692\",\"#B6E880\",\"#FF97FF\",\"#FECB52\"],\"font\":{\"color\":\"#2a3f5f\"},\"hovermode\":\"closest\",\"hoverlabel\":{\"align\":\"left\"},\"paper_bgcolor\":\"white\",\"plot_bgcolor\":\"#E5ECF6\",\"polar\":{\"bgcolor\":\"#E5ECF6\",\"angularaxis\":{\"gridcolor\":\"white\",\"linecolor\":\"white\",\"ticks\":\"\"},\"radialaxis\":{\"gridcolor\":\"white\",\"linecolor\":\"white\",\"ticks\":\"\"}},\"ternary\":{\"bgcolor\":\"#E5ECF6\",\"aaxis\":{\"gridcolor\":\"white\",\"linecolor\":\"white\",\"ticks\":\"\"},\"baxis\":{\"gridcolor\":\"white\",\"linecolor\":\"white\",\"ticks\":\"\"},\"caxis\":{\"gridcolor\":\"white\",\"linecolor\":\"white\",\"ticks\":\"\"}},\"coloraxis\":{\"colorbar\":{\"outlinewidth\":0,\"ticks\":\"\"}},\"colorscale\":{\"sequential\":[[0.0,\"#0d0887\"],[0.1111111111111111,\"#46039f\"],[0.2222222222222222,\"#7201a8\"],[0.3333333333333333,\"#9c179e\"],[0.4444444444444444,\"#bd3786\"],[0.5555555555555556,\"#d8576b\"],[0.6666666666666666,\"#ed7953\"],[0.7777777777777778,\"#fb9f3a\"],[0.8888888888888888,\"#fdca26\"],[1.0,\"#f0f921\"]],\"sequentialminus\":[[0.0,\"#0d0887\"],[0.1111111111111111,\"#46039f\"],[0.2222222222222222,\"#7201a8\"],[0.3333333333333333,\"#9c179e\"],[0.4444444444444444,\"#bd3786\"],[0.5555555555555556,\"#d8576b\"],[0.6666666666666666,\"#ed7953\"],[0.7777777777777778,\"#fb9f3a\"],[0.8888888888888888,\"#fdca26\"],[1.0,\"#f0f921\"]],\"diverging\":[[0,\"#8e0152\"],[0.1,\"#c51b7d\"],[0.2,\"#de77ae\"],[0.3,\"#f1b6da\"],[0.4,\"#fde0ef\"],[0.5,\"#f7f7f7\"],[0.6,\"#e6f5d0\"],[0.7,\"#b8e186\"],[0.8,\"#7fbc41\"],[0.9,\"#4d9221\"],[1,\"#276419\"]]},\"xaxis\":{\"gridcolor\":\"white\",\"linecolor\":\"white\",\"ticks\":\"\",\"title\":{\"standoff\":15},\"zerolinecolor\":\"white\",\"automargin\":true,\"zerolinewidth\":2},\"yaxis\":{\"gridcolor\":\"white\",\"linecolor\":\"white\",\"ticks\":\"\",\"title\":{\"standoff\":15},\"zerolinecolor\":\"white\",\"automargin\":true,\"zerolinewidth\":2},\"scene\":{\"xaxis\":{\"backgroundcolor\":\"#E5ECF6\",\"gridcolor\":\"white\",\"linecolor\":\"white\",\"showbackground\":true,\"ticks\":\"\",\"zerolinecolor\":\"white\",\"gridwidth\":2},\"yaxis\":{\"backgroundcolor\":\"#E5ECF6\",\"gridcolor\":\"white\",\"linecolor\":\"white\",\"showbackground\":true,\"ticks\":\"\",\"zerolinecolor\":\"white\",\"gridwidth\":2},\"zaxis\":{\"backgroundcolor\":\"#E5ECF6\",\"gridcolor\":\"white\",\"linecolor\":\"white\",\"showbackground\":true,\"ticks\":\"\",\"zerolinecolor\":\"white\",\"gridwidth\":2}},\"shapedefaults\":{\"line\":{\"color\":\"#2a3f5f\"}},\"annotationdefaults\":{\"arrowcolor\":\"#2a3f5f\",\"arrowhead\":0,\"arrowwidth\":1},\"geo\":{\"bgcolor\":\"white\",\"landcolor\":\"#E5ECF6\",\"subunitcolor\":\"white\",\"showland\":true,\"showlakes\":true,\"lakecolor\":\"white\"},\"title\":{\"x\":0.05},\"mapbox\":{\"style\":\"light\"}}},\"xaxis\":{\"anchor\":\"y\",\"domain\":[0.0,1.0],\"title\":{\"text\":\"label_name\"},\"categoryorder\":\"array\",\"categoryarray\":[\"abdominal_linen\",\"anorganic_artifact\",\"background\",\"bladder\",\"blue_cloth\",\"colon\",\"colon_peritoneum\",\"fat\",\"foil\",\"gallbladder\",\"glove\",\"heart\",\"small_bowel\",\"kidney\",\"kidney_with_Gerotas_fascia\",\"liver\",\"lung\",\"metal\",\"muscle\",\"omentum\",\"organic_artifact\",\"overlap\",\"pancreas\",\"peritoneum\",\"skin\",\"spleen\",\"stomach\",\"syringe\",\"tube\",\"unlabeled\",\"unsure\",\"major_vein\",\"white_compress\"]},\"yaxis\":{\"anchor\":\"x\",\"domain\":[0.0,1.0],\"title\":{\"text\":\"n_pixels\"},\"showticklabels\":true},\"legend\":{\"title\":{\"text\":\"subject_name\"},\"tracegroupgap\":0},\"margin\":{\"t\":60},\"barmode\":\"relative\",\"title\":{\"text\":\"Number of pixels per label\",\"x\":0.5},\"height\":500,\"width\":2000},                        {\"responsive\": true}                    ).then(function(){\n",
       "                            \n",
       "var gd = document.getElementById('5594aa6b-342f-4d0a-ba5e-4842fab428f7');\n",
       "var x = new MutationObserver(function (mutations, observer) {{\n",
       "        var display = window.getComputedStyle(gd).display;\n",
       "        if (!display || display === 'none') {{\n",
       "            console.log([gd, 'removed!']);\n",
       "            Plotly.purge(gd);\n",
       "            observer.disconnect();\n",
       "        }}\n",
       "}});\n",
       "\n",
       "// Listen for the removal of the full notebook cells\n",
       "var notebookContainer = gd.closest('#notebook-container');\n",
       "if (notebookContainer) {{\n",
       "    x.observe(notebookContainer, {childList: true});\n",
       "}}\n",
       "\n",
       "// Listen for the clearing of the current output cell\n",
       "var outputEl = gd.closest('.output');\n",
       "if (outputEl) {{\n",
       "    x.observe(outputEl, {childList: true});\n",
       "}}\n",
       "\n",
       "                        })                };                });            </script>        </div>"
      ]
     },
     "metadata": {},
     "output_type": "display_data"
    }
   ],
   "source": [
    "fig = px.bar(df_labels, x=\"label_name\", y=\"n_pixels\", color=\"subject_name\")\n",
    "fig.update_layout(title_text=\"Number of pixels per label\", title_x=0.5)\n",
    "fig.layout.xaxis.categoryorder = \"array\"\n",
    "fig.layout.xaxis.categoryarray = sorted_labels\n",
    "fig.layout.height = 500\n",
    "fig.layout.width = 2000\n",
    "fig.update_yaxes(matches=None, showticklabels=True)\n",
    "fig.show()"
   ]
  },
  {
   "cell_type": "code",
   "execution_count": 7,
   "id": "monetary-animation",
   "metadata": {},
   "outputs": [
    {
     "data": {
      "application/vnd.plotly.v1+json": {
       "config": {
        "plotlyServerURL": "https://plot.ly"
       },
       "data": [
        {
         "alignmentgroup": "True",
         "hovertemplate": "subject_name=P059<br>set_type=train<br>label_name=%{x}<br>n_images=%{y}<extra></extra>",
         "legendgroup": "P059",
         "marker": {
          "color": "#636efa",
          "pattern": {
           "shape": ""
          }
         },
         "name": "P059",
         "offsetgroup": "P059",
         "orientation": "v",
         "showlegend": true,
         "textposition": "auto",
         "type": "bar",
         "x": [
          "abdominal_linen",
          "bladder",
          "blue_cloth",
          "colon",
          "foil",
          "gallbladder",
          "glove",
          "small_bowel",
          "kidney",
          "kidney_with_Gerotas_fascia",
          "liver",
          "omentum",
          "organic_artifact",
          "pancreas",
          "peritoneum",
          "skin",
          "spleen",
          "stomach",
          "unsure",
          "major_vein"
         ],
         "xaxis": "x",
         "y": [
          17,
          12,
          22,
          16,
          1,
          5,
          11,
          19,
          3,
          3,
          8,
          3,
          2,
          5,
          6,
          1,
          4,
          2,
          4,
          3
         ],
         "yaxis": "y"
        },
        {
         "alignmentgroup": "True",
         "hovertemplate": "subject_name=P060<br>set_type=train<br>label_name=%{x}<br>n_images=%{y}<extra></extra>",
         "legendgroup": "P060",
         "marker": {
          "color": "#EF553B",
          "pattern": {
           "shape": ""
          }
         },
         "name": "P060",
         "offsetgroup": "P060",
         "orientation": "v",
         "showlegend": true,
         "textposition": "auto",
         "type": "bar",
         "x": [
          "abdominal_linen",
          "bladder",
          "blue_cloth",
          "colon",
          "fat",
          "foil",
          "gallbladder",
          "glove",
          "heart",
          "small_bowel",
          "kidney_with_Gerotas_fascia",
          "liver",
          "lung",
          "metal",
          "muscle",
          "omentum",
          "organic_artifact",
          "pancreas",
          "peritoneum",
          "skin",
          "spleen",
          "stomach",
          "unsure",
          "major_vein",
          "white_compress"
         ],
         "xaxis": "x",
         "y": [
          6,
          15,
          48,
          26,
          2,
          2,
          8,
          15,
          14,
          36,
          6,
          28,
          14,
          16,
          2,
          16,
          14,
          8,
          18,
          13,
          24,
          26,
          3,
          3,
          2
         ],
         "yaxis": "y"
        },
        {
         "alignmentgroup": "True",
         "hovertemplate": "subject_name=P061<br>set_type=train<br>label_name=%{x}<br>n_images=%{y}<extra></extra>",
         "legendgroup": "P061",
         "marker": {
          "color": "#00cc96",
          "pattern": {
           "shape": ""
          }
         },
         "name": "P061",
         "offsetgroup": "P061",
         "orientation": "v",
         "showlegend": true,
         "textposition": "auto",
         "type": "bar",
         "x": [
          "abdominal_linen",
          "anorganic_artifact",
          "background",
          "bladder",
          "blue_cloth",
          "colon",
          "colon_peritoneum",
          "fat",
          "foil",
          "glove",
          "small_bowel",
          "kidney",
          "liver",
          "metal",
          "muscle",
          "omentum",
          "organic_artifact",
          "pancreas",
          "peritoneum",
          "skin",
          "spleen",
          "stomach",
          "unsure"
         ],
         "xaxis": "x",
         "y": [
          6,
          2,
          3,
          6,
          12,
          12,
          1,
          18,
          10,
          3,
          18,
          6,
          12,
          18,
          4,
          1,
          1,
          1,
          18,
          18,
          12,
          8,
          5
         ],
         "yaxis": "y"
        },
        {
         "alignmentgroup": "True",
         "hovertemplate": "subject_name=P062<br>set_type=test<br>label_name=%{x}<br>n_images=%{y}<extra></extra>",
         "legendgroup": "P062",
         "marker": {
          "color": "#ab63fa",
          "pattern": {
           "shape": ""
          }
         },
         "name": "P062",
         "offsetgroup": "P062",
         "orientation": "v",
         "showlegend": true,
         "textposition": "auto",
         "type": "bar",
         "x": [
          "abdominal_linen",
          "anorganic_artifact",
          "background",
          "bladder",
          "blue_cloth",
          "colon",
          "fat",
          "foil",
          "gallbladder",
          "glove",
          "heart",
          "small_bowel",
          "kidney",
          "kidney_with_Gerotas_fascia",
          "liver",
          "lung",
          "metal",
          "muscle",
          "omentum",
          "organic_artifact",
          "pancreas",
          "peritoneum",
          "skin",
          "spleen",
          "stomach",
          "unsure",
          "major_vein",
          "white_compress"
         ],
         "xaxis": "x2",
         "y": [
          12,
          7,
          7,
          25,
          58,
          25,
          26,
          15,
          12,
          45,
          12,
          47,
          17,
          10,
          31,
          12,
          25,
          12,
          23,
          20,
          6,
          26,
          29,
          18,
          33,
          17,
          10,
          12
         ],
         "yaxis": "y2"
        },
        {
         "alignmentgroup": "True",
         "hovertemplate": "subject_name=P070<br>set_type=train<br>label_name=%{x}<br>n_images=%{y}<extra></extra>",
         "legendgroup": "P070",
         "marker": {
          "color": "#FFA15A",
          "pattern": {
           "shape": ""
          }
         },
         "name": "P070",
         "offsetgroup": "P070",
         "orientation": "v",
         "showlegend": true,
         "textposition": "auto",
         "type": "bar",
         "x": [
          "abdominal_linen",
          "anorganic_artifact",
          "background",
          "blue_cloth",
          "colon",
          "fat",
          "foil",
          "gallbladder",
          "glove",
          "heart",
          "small_bowel",
          "liver",
          "lung",
          "metal",
          "muscle",
          "omentum",
          "organic_artifact",
          "pancreas",
          "peritoneum",
          "skin",
          "spleen",
          "stomach",
          "unsure",
          "white_compress"
         ],
         "xaxis": "x",
         "y": [
          20,
          11,
          12,
          25,
          25,
          28,
          13,
          16,
          21,
          14,
          25,
          25,
          14,
          30,
          13,
          14,
          21,
          9,
          25,
          28,
          16,
          19,
          11,
          7
         ],
         "yaxis": "y"
        },
        {
         "alignmentgroup": "True",
         "hovertemplate": "subject_name=P072<br>set_type=test<br>label_name=%{x}<br>n_images=%{y}<extra></extra>",
         "legendgroup": "P072",
         "marker": {
          "color": "#19d3f3",
          "pattern": {
           "shape": ""
          }
         },
         "name": "P072",
         "offsetgroup": "P072",
         "orientation": "v",
         "showlegend": true,
         "textposition": "auto",
         "type": "bar",
         "x": [
          "abdominal_linen",
          "anorganic_artifact",
          "background",
          "bladder",
          "blue_cloth",
          "colon",
          "fat",
          "foil",
          "gallbladder",
          "glove",
          "heart",
          "small_bowel",
          "kidney",
          "kidney_with_Gerotas_fascia",
          "liver",
          "lung",
          "metal",
          "muscle",
          "omentum",
          "organic_artifact",
          "pancreas",
          "peritoneum",
          "skin",
          "spleen",
          "stomach",
          "tube",
          "unsure",
          "major_vein",
          "white_compress"
         ],
         "xaxis": "x2",
         "y": [
          26,
          3,
          4,
          11,
          38,
          23,
          43,
          9,
          29,
          18,
          6,
          38,
          9,
          1,
          36,
          6,
          47,
          6,
          18,
          19,
          7,
          37,
          35,
          25,
          27,
          1,
          14,
          8,
          1
         ],
         "yaxis": "y2"
        },
        {
         "alignmentgroup": "True",
         "hovertemplate": "subject_name=P046<br>set_type=test<br>label_name=%{x}<br>n_images=%{y}<extra></extra>",
         "legendgroup": "P046",
         "marker": {
          "color": "#FF6692",
          "pattern": {
           "shape": ""
          }
         },
         "name": "P046",
         "offsetgroup": "P046",
         "orientation": "v",
         "showlegend": true,
         "textposition": "auto",
         "type": "bar",
         "x": [
          "anorganic_artifact",
          "background",
          "bladder",
          "blue_cloth",
          "colon",
          "fat",
          "foil",
          "glove",
          "small_bowel",
          "liver",
          "metal",
          "omentum",
          "organic_artifact",
          "peritoneum",
          "skin",
          "spleen",
          "stomach",
          "unsure"
         ],
         "xaxis": "x2",
         "y": [
          7,
          1,
          9,
          12,
          14,
          16,
          16,
          1,
          16,
          13,
          16,
          13,
          4,
          15,
          16,
          14,
          12,
          5
         ],
         "yaxis": "y2"
        },
        {
         "alignmentgroup": "True",
         "hovertemplate": "subject_name=P047<br>set_type=train<br>label_name=%{x}<br>n_images=%{y}<extra></extra>",
         "legendgroup": "P047",
         "marker": {
          "color": "#B6E880",
          "pattern": {
           "shape": ""
          }
         },
         "name": "P047",
         "offsetgroup": "P047",
         "orientation": "v",
         "showlegend": true,
         "textposition": "auto",
         "type": "bar",
         "x": [
          "anorganic_artifact",
          "background",
          "bladder",
          "blue_cloth",
          "colon",
          "fat",
          "foil",
          "gallbladder",
          "small_bowel",
          "liver",
          "metal",
          "omentum",
          "organic_artifact",
          "peritoneum",
          "skin",
          "spleen",
          "stomach",
          "unsure",
          "white_compress"
         ],
         "xaxis": "x",
         "y": [
          1,
          2,
          1,
          1,
          10,
          10,
          10,
          10,
          10,
          10,
          10,
          8,
          1,
          10,
          10,
          10,
          10,
          3,
          2
         ],
         "yaxis": "y"
        },
        {
         "alignmentgroup": "True",
         "hovertemplate": "subject_name=P048<br>set_type=train<br>label_name=%{x}<br>n_images=%{y}<extra></extra>",
         "legendgroup": "P048",
         "marker": {
          "color": "#FF97FF",
          "pattern": {
           "shape": ""
          }
         },
         "name": "P048",
         "offsetgroup": "P048",
         "orientation": "v",
         "showlegend": true,
         "textposition": "auto",
         "type": "bar",
         "x": [
          "anorganic_artifact",
          "background",
          "bladder",
          "blue_cloth",
          "colon",
          "fat",
          "foil",
          "gallbladder",
          "small_bowel",
          "liver",
          "organic_artifact",
          "peritoneum",
          "skin",
          "spleen",
          "stomach",
          "unsure",
          "white_compress"
         ],
         "xaxis": "x",
         "y": [
          12,
          4,
          7,
          9,
          15,
          15,
          15,
          10,
          15,
          10,
          6,
          14,
          15,
          11,
          11,
          1,
          15
         ],
         "yaxis": "y"
        },
        {
         "alignmentgroup": "True",
         "hovertemplate": "subject_name=P049<br>set_type=train<br>label_name=%{x}<br>n_images=%{y}<extra></extra>",
         "legendgroup": "P049",
         "marker": {
          "color": "#FECB52",
          "pattern": {
           "shape": ""
          }
         },
         "name": "P049",
         "offsetgroup": "P049",
         "orientation": "v",
         "showlegend": true,
         "textposition": "auto",
         "type": "bar",
         "x": [
          "anorganic_artifact",
          "bladder",
          "blue_cloth",
          "colon",
          "fat",
          "foil",
          "small_bowel",
          "liver",
          "organic_artifact",
          "peritoneum",
          "skin",
          "spleen",
          "stomach",
          "unsure",
          "white_compress"
         ],
         "xaxis": "x",
         "y": [
          7,
          6,
          8,
          16,
          16,
          16,
          16,
          5,
          1,
          16,
          16,
          13,
          11,
          12,
          16
         ],
         "yaxis": "y"
        },
        {
         "alignmentgroup": "True",
         "hovertemplate": "subject_name=P050<br>set_type=train<br>label_name=%{x}<br>n_images=%{y}<extra></extra>",
         "legendgroup": "P050",
         "marker": {
          "color": "#636efa",
          "pattern": {
           "shape": ""
          }
         },
         "name": "P050",
         "offsetgroup": "P050",
         "orientation": "v",
         "showlegend": true,
         "textposition": "auto",
         "type": "bar",
         "x": [
          "anorganic_artifact",
          "background",
          "blue_cloth",
          "colon",
          "fat",
          "foil",
          "gallbladder",
          "small_bowel",
          "liver",
          "omentum",
          "peritoneum",
          "skin",
          "spleen",
          "stomach",
          "unsure",
          "white_compress"
         ],
         "xaxis": "x",
         "y": [
          2,
          2,
          1,
          5,
          5,
          5,
          3,
          5,
          5,
          5,
          5,
          5,
          5,
          5,
          4,
          5
         ],
         "yaxis": "y"
        },
        {
         "alignmentgroup": "True",
         "hovertemplate": "subject_name=P057<br>set_type=train<br>label_name=%{x}<br>n_images=%{y}<extra></extra>",
         "legendgroup": "P057",
         "marker": {
          "color": "#EF553B",
          "pattern": {
           "shape": ""
          }
         },
         "name": "P057",
         "offsetgroup": "P057",
         "orientation": "v",
         "showlegend": true,
         "textposition": "auto",
         "type": "bar",
         "x": [
          "anorganic_artifact",
          "background",
          "bladder",
          "blue_cloth",
          "colon",
          "fat",
          "foil",
          "gallbladder",
          "glove",
          "small_bowel",
          "liver",
          "omentum",
          "organic_artifact",
          "pancreas",
          "peritoneum",
          "skin",
          "spleen",
          "stomach",
          "unsure",
          "white_compress"
         ],
         "xaxis": "x",
         "y": [
          13,
          1,
          6,
          24,
          20,
          24,
          24,
          4,
          7,
          24,
          19,
          19,
          4,
          5,
          24,
          24,
          21,
          20,
          14,
          15
         ],
         "yaxis": "y"
        },
        {
         "alignmentgroup": "True",
         "hovertemplate": "subject_name=P041<br>set_type=train<br>label_name=%{x}<br>n_images=%{y}<extra></extra>",
         "legendgroup": "P041",
         "marker": {
          "color": "#00cc96",
          "pattern": {
           "shape": ""
          }
         },
         "name": "P041",
         "offsetgroup": "P041",
         "orientation": "v",
         "showlegend": true,
         "textposition": "auto",
         "type": "bar",
         "x": [
          "background",
          "bladder",
          "blue_cloth",
          "colon",
          "fat",
          "foil",
          "small_bowel",
          "liver",
          "metal",
          "omentum",
          "peritoneum",
          "skin",
          "spleen",
          "stomach",
          "unsure",
          "white_compress"
         ],
         "xaxis": "x",
         "y": [
          1,
          2,
          3,
          4,
          4,
          1,
          4,
          2,
          3,
          2,
          2,
          2,
          2,
          2,
          2,
          1
         ],
         "yaxis": "y"
        },
        {
         "alignmentgroup": "True",
         "hovertemplate": "subject_name=P045<br>set_type=train<br>label_name=%{x}<br>n_images=%{y}<extra></extra>",
         "legendgroup": "P045",
         "marker": {
          "color": "#ab63fa",
          "pattern": {
           "shape": ""
          }
         },
         "name": "P045",
         "offsetgroup": "P045",
         "orientation": "v",
         "showlegend": true,
         "textposition": "auto",
         "type": "bar",
         "x": [
          "background",
          "bladder",
          "blue_cloth",
          "colon",
          "fat",
          "foil",
          "heart",
          "small_bowel",
          "liver",
          "lung",
          "omentum",
          "peritoneum",
          "skin",
          "spleen",
          "stomach",
          "unsure",
          "white_compress"
         ],
         "xaxis": "x",
         "y": [
          1,
          4,
          21,
          18,
          19,
          17,
          4,
          17,
          14,
          4,
          9,
          15,
          18,
          15,
          13,
          5,
          18
         ],
         "yaxis": "y"
        },
        {
         "alignmentgroup": "True",
         "hovertemplate": "subject_name=P043<br>set_type=test<br>label_name=%{x}<br>n_images=%{y}<extra></extra>",
         "legendgroup": "P043",
         "marker": {
          "color": "#FFA15A",
          "pattern": {
           "shape": ""
          }
         },
         "name": "P043",
         "offsetgroup": "P043",
         "orientation": "v",
         "showlegend": true,
         "textposition": "auto",
         "type": "bar",
         "x": [
          "bladder",
          "blue_cloth",
          "colon",
          "gallbladder",
          "heart",
          "small_bowel",
          "liver",
          "lung",
          "omentum",
          "stomach"
         ],
         "xaxis": "x2",
         "y": [
          4,
          21,
          11,
          7,
          10,
          11,
          11,
          10,
          3,
          3
         ],
         "yaxis": "y2"
        },
        {
         "alignmentgroup": "True",
         "hovertemplate": "subject_name=P068<br>set_type=test<br>label_name=%{x}<br>n_images=%{y}<extra></extra>",
         "legendgroup": "P068",
         "marker": {
          "color": "#19d3f3",
          "pattern": {
           "shape": ""
          }
         },
         "name": "P068",
         "offsetgroup": "P068",
         "orientation": "v",
         "showlegend": true,
         "textposition": "auto",
         "type": "bar",
         "x": [
          "bladder",
          "blue_cloth",
          "colon",
          "fat",
          "gallbladder",
          "glove",
          "small_bowel",
          "liver",
          "metal",
          "omentum",
          "organic_artifact",
          "pancreas",
          "peritoneum",
          "skin",
          "spleen",
          "stomach",
          "unsure"
         ],
         "xaxis": "x2",
         "y": [
          7,
          23,
          15,
          8,
          4,
          9,
          23,
          13,
          17,
          10,
          7,
          5,
          13,
          9,
          18,
          17,
          10
         ],
         "yaxis": "y2"
        },
        {
         "alignmentgroup": "True",
         "hovertemplate": "subject_name=P044<br>set_type=train<br>label_name=%{x}<br>n_images=%{y}<extra></extra>",
         "legendgroup": "P044",
         "marker": {
          "color": "#FF6692",
          "pattern": {
           "shape": ""
          }
         },
         "name": "P044",
         "offsetgroup": "P044",
         "orientation": "v",
         "showlegend": true,
         "textposition": "auto",
         "type": "bar",
         "x": [
          "blue_cloth",
          "colon",
          "fat",
          "foil",
          "heart",
          "small_bowel",
          "liver",
          "lung",
          "metal",
          "muscle",
          "omentum",
          "peritoneum",
          "skin",
          "spleen",
          "stomach",
          "white_compress"
         ],
         "xaxis": "x",
         "y": [
          13,
          17,
          22,
          21,
          6,
          17,
          14,
          6,
          1,
          1,
          5,
          17,
          22,
          14,
          5,
          17
         ],
         "yaxis": "y"
        },
        {
         "alignmentgroup": "True",
         "hovertemplate": "subject_name=P058<br>set_type=train<br>label_name=%{x}<br>n_images=%{y}<extra></extra>",
         "legendgroup": "P058",
         "marker": {
          "color": "#B6E880",
          "pattern": {
           "shape": ""
          }
         },
         "name": "P058",
         "offsetgroup": "P058",
         "orientation": "v",
         "showlegend": true,
         "textposition": "auto",
         "type": "bar",
         "x": [
          "blue_cloth",
          "colon",
          "colon_peritoneum",
          "fat",
          "heart",
          "small_bowel",
          "kidney",
          "kidney_with_Gerotas_fascia",
          "liver",
          "lung",
          "metal",
          "omentum",
          "pancreas",
          "peritoneum",
          "skin",
          "spleen",
          "stomach",
          "unsure",
          "major_vein"
         ],
         "xaxis": "x",
         "y": [
          53,
          32,
          6,
          17,
          13,
          29,
          8,
          15,
          35,
          13,
          17,
          17,
          14,
          24,
          19,
          17,
          8,
          10,
          8
         ],
         "yaxis": "y"
        },
        {
         "alignmentgroup": "True",
         "hovertemplate": "subject_name=P069<br>set_type=train<br>label_name=%{x}<br>n_images=%{y}<extra></extra>",
         "legendgroup": "P069",
         "marker": {
          "color": "#FF97FF",
          "pattern": {
           "shape": ""
          }
         },
         "name": "P069",
         "offsetgroup": "P069",
         "orientation": "v",
         "showlegend": true,
         "textposition": "auto",
         "type": "bar",
         "x": [
          "blue_cloth",
          "colon",
          "fat",
          "gallbladder",
          "small_bowel",
          "liver",
          "metal",
          "omentum",
          "peritoneum",
          "skin",
          "spleen",
          "stomach",
          "unsure"
         ],
         "xaxis": "x",
         "y": [
          20,
          20,
          17,
          13,
          20,
          13,
          20,
          13,
          13,
          15,
          19,
          13,
          14
         ],
         "yaxis": "y"
        },
        {
         "alignmentgroup": "True",
         "hovertemplate": "subject_name=P071<br>set_type=train<br>label_name=%{x}<br>n_images=%{y}<extra></extra>",
         "legendgroup": "P071",
         "marker": {
          "color": "#FECB52",
          "pattern": {
           "shape": ""
          }
         },
         "name": "P071",
         "offsetgroup": "P071",
         "orientation": "v",
         "showlegend": true,
         "textposition": "auto",
         "type": "bar",
         "x": [
          "blue_cloth",
          "colon",
          "fat",
          "gallbladder",
          "glove",
          "small_bowel",
          "liver",
          "metal",
          "omentum",
          "organic_artifact",
          "pancreas",
          "peritoneum",
          "skin",
          "spleen",
          "stomach",
          "unsure"
         ],
         "xaxis": "x",
         "y": [
          19,
          7,
          7,
          5,
          12,
          15,
          10,
          17,
          14,
          10,
          7,
          1,
          14,
          12,
          19,
          1
         ],
         "yaxis": "y"
        }
       ],
       "layout": {
        "annotations": [
         {
          "font": {},
          "showarrow": false,
          "text": "set_type=train",
          "x": 0.245,
          "xanchor": "center",
          "xref": "paper",
          "y": 1,
          "yanchor": "bottom",
          "yref": "paper"
         },
         {
          "font": {},
          "showarrow": false,
          "text": "set_type=test",
          "x": 0.755,
          "xanchor": "center",
          "xref": "paper",
          "y": 1,
          "yanchor": "bottom",
          "yref": "paper"
         }
        ],
        "barmode": "relative",
        "height": 500,
        "legend": {
         "title": {
          "text": "subject_name"
         },
         "tracegroupgap": 0
        },
        "margin": {
         "t": 60
        },
        "template": {
         "data": {
          "bar": [
           {
            "error_x": {
             "color": "#2a3f5f"
            },
            "error_y": {
             "color": "#2a3f5f"
            },
            "marker": {
             "line": {
              "color": "#E5ECF6",
              "width": 0.5
             },
             "pattern": {
              "fillmode": "overlay",
              "size": 10,
              "solidity": 0.2
             }
            },
            "type": "bar"
           }
          ],
          "barpolar": [
           {
            "marker": {
             "line": {
              "color": "#E5ECF6",
              "width": 0.5
             },
             "pattern": {
              "fillmode": "overlay",
              "size": 10,
              "solidity": 0.2
             }
            },
            "type": "barpolar"
           }
          ],
          "carpet": [
           {
            "aaxis": {
             "endlinecolor": "#2a3f5f",
             "gridcolor": "white",
             "linecolor": "white",
             "minorgridcolor": "white",
             "startlinecolor": "#2a3f5f"
            },
            "baxis": {
             "endlinecolor": "#2a3f5f",
             "gridcolor": "white",
             "linecolor": "white",
             "minorgridcolor": "white",
             "startlinecolor": "#2a3f5f"
            },
            "type": "carpet"
           }
          ],
          "choropleth": [
           {
            "colorbar": {
             "outlinewidth": 0,
             "ticks": ""
            },
            "type": "choropleth"
           }
          ],
          "contour": [
           {
            "colorbar": {
             "outlinewidth": 0,
             "ticks": ""
            },
            "colorscale": [
             [
              0,
              "#0d0887"
             ],
             [
              0.1111111111111111,
              "#46039f"
             ],
             [
              0.2222222222222222,
              "#7201a8"
             ],
             [
              0.3333333333333333,
              "#9c179e"
             ],
             [
              0.4444444444444444,
              "#bd3786"
             ],
             [
              0.5555555555555556,
              "#d8576b"
             ],
             [
              0.6666666666666666,
              "#ed7953"
             ],
             [
              0.7777777777777778,
              "#fb9f3a"
             ],
             [
              0.8888888888888888,
              "#fdca26"
             ],
             [
              1,
              "#f0f921"
             ]
            ],
            "type": "contour"
           }
          ],
          "contourcarpet": [
           {
            "colorbar": {
             "outlinewidth": 0,
             "ticks": ""
            },
            "type": "contourcarpet"
           }
          ],
          "heatmap": [
           {
            "colorbar": {
             "outlinewidth": 0,
             "ticks": ""
            },
            "colorscale": [
             [
              0,
              "#0d0887"
             ],
             [
              0.1111111111111111,
              "#46039f"
             ],
             [
              0.2222222222222222,
              "#7201a8"
             ],
             [
              0.3333333333333333,
              "#9c179e"
             ],
             [
              0.4444444444444444,
              "#bd3786"
             ],
             [
              0.5555555555555556,
              "#d8576b"
             ],
             [
              0.6666666666666666,
              "#ed7953"
             ],
             [
              0.7777777777777778,
              "#fb9f3a"
             ],
             [
              0.8888888888888888,
              "#fdca26"
             ],
             [
              1,
              "#f0f921"
             ]
            ],
            "type": "heatmap"
           }
          ],
          "heatmapgl": [
           {
            "colorbar": {
             "outlinewidth": 0,
             "ticks": ""
            },
            "colorscale": [
             [
              0,
              "#0d0887"
             ],
             [
              0.1111111111111111,
              "#46039f"
             ],
             [
              0.2222222222222222,
              "#7201a8"
             ],
             [
              0.3333333333333333,
              "#9c179e"
             ],
             [
              0.4444444444444444,
              "#bd3786"
             ],
             [
              0.5555555555555556,
              "#d8576b"
             ],
             [
              0.6666666666666666,
              "#ed7953"
             ],
             [
              0.7777777777777778,
              "#fb9f3a"
             ],
             [
              0.8888888888888888,
              "#fdca26"
             ],
             [
              1,
              "#f0f921"
             ]
            ],
            "type": "heatmapgl"
           }
          ],
          "histogram": [
           {
            "marker": {
             "pattern": {
              "fillmode": "overlay",
              "size": 10,
              "solidity": 0.2
             }
            },
            "type": "histogram"
           }
          ],
          "histogram2d": [
           {
            "colorbar": {
             "outlinewidth": 0,
             "ticks": ""
            },
            "colorscale": [
             [
              0,
              "#0d0887"
             ],
             [
              0.1111111111111111,
              "#46039f"
             ],
             [
              0.2222222222222222,
              "#7201a8"
             ],
             [
              0.3333333333333333,
              "#9c179e"
             ],
             [
              0.4444444444444444,
              "#bd3786"
             ],
             [
              0.5555555555555556,
              "#d8576b"
             ],
             [
              0.6666666666666666,
              "#ed7953"
             ],
             [
              0.7777777777777778,
              "#fb9f3a"
             ],
             [
              0.8888888888888888,
              "#fdca26"
             ],
             [
              1,
              "#f0f921"
             ]
            ],
            "type": "histogram2d"
           }
          ],
          "histogram2dcontour": [
           {
            "colorbar": {
             "outlinewidth": 0,
             "ticks": ""
            },
            "colorscale": [
             [
              0,
              "#0d0887"
             ],
             [
              0.1111111111111111,
              "#46039f"
             ],
             [
              0.2222222222222222,
              "#7201a8"
             ],
             [
              0.3333333333333333,
              "#9c179e"
             ],
             [
              0.4444444444444444,
              "#bd3786"
             ],
             [
              0.5555555555555556,
              "#d8576b"
             ],
             [
              0.6666666666666666,
              "#ed7953"
             ],
             [
              0.7777777777777778,
              "#fb9f3a"
             ],
             [
              0.8888888888888888,
              "#fdca26"
             ],
             [
              1,
              "#f0f921"
             ]
            ],
            "type": "histogram2dcontour"
           }
          ],
          "mesh3d": [
           {
            "colorbar": {
             "outlinewidth": 0,
             "ticks": ""
            },
            "type": "mesh3d"
           }
          ],
          "parcoords": [
           {
            "line": {
             "colorbar": {
              "outlinewidth": 0,
              "ticks": ""
             }
            },
            "type": "parcoords"
           }
          ],
          "pie": [
           {
            "automargin": true,
            "type": "pie"
           }
          ],
          "scatter": [
           {
            "fillpattern": {
             "fillmode": "overlay",
             "size": 10,
             "solidity": 0.2
            },
            "type": "scatter"
           }
          ],
          "scatter3d": [
           {
            "line": {
             "colorbar": {
              "outlinewidth": 0,
              "ticks": ""
             }
            },
            "marker": {
             "colorbar": {
              "outlinewidth": 0,
              "ticks": ""
             }
            },
            "type": "scatter3d"
           }
          ],
          "scattercarpet": [
           {
            "marker": {
             "colorbar": {
              "outlinewidth": 0,
              "ticks": ""
             }
            },
            "type": "scattercarpet"
           }
          ],
          "scattergeo": [
           {
            "marker": {
             "colorbar": {
              "outlinewidth": 0,
              "ticks": ""
             }
            },
            "type": "scattergeo"
           }
          ],
          "scattergl": [
           {
            "marker": {
             "colorbar": {
              "outlinewidth": 0,
              "ticks": ""
             }
            },
            "type": "scattergl"
           }
          ],
          "scattermapbox": [
           {
            "marker": {
             "colorbar": {
              "outlinewidth": 0,
              "ticks": ""
             }
            },
            "type": "scattermapbox"
           }
          ],
          "scatterpolar": [
           {
            "marker": {
             "colorbar": {
              "outlinewidth": 0,
              "ticks": ""
             }
            },
            "type": "scatterpolar"
           }
          ],
          "scatterpolargl": [
           {
            "marker": {
             "colorbar": {
              "outlinewidth": 0,
              "ticks": ""
             }
            },
            "type": "scatterpolargl"
           }
          ],
          "scatterternary": [
           {
            "marker": {
             "colorbar": {
              "outlinewidth": 0,
              "ticks": ""
             }
            },
            "type": "scatterternary"
           }
          ],
          "surface": [
           {
            "colorbar": {
             "outlinewidth": 0,
             "ticks": ""
            },
            "colorscale": [
             [
              0,
              "#0d0887"
             ],
             [
              0.1111111111111111,
              "#46039f"
             ],
             [
              0.2222222222222222,
              "#7201a8"
             ],
             [
              0.3333333333333333,
              "#9c179e"
             ],
             [
              0.4444444444444444,
              "#bd3786"
             ],
             [
              0.5555555555555556,
              "#d8576b"
             ],
             [
              0.6666666666666666,
              "#ed7953"
             ],
             [
              0.7777777777777778,
              "#fb9f3a"
             ],
             [
              0.8888888888888888,
              "#fdca26"
             ],
             [
              1,
              "#f0f921"
             ]
            ],
            "type": "surface"
           }
          ],
          "table": [
           {
            "cells": {
             "fill": {
              "color": "#EBF0F8"
             },
             "line": {
              "color": "white"
             }
            },
            "header": {
             "fill": {
              "color": "#C8D4E3"
             },
             "line": {
              "color": "white"
             }
            },
            "type": "table"
           }
          ]
         },
         "layout": {
          "annotationdefaults": {
           "arrowcolor": "#2a3f5f",
           "arrowhead": 0,
           "arrowwidth": 1
          },
          "autotypenumbers": "strict",
          "coloraxis": {
           "colorbar": {
            "outlinewidth": 0,
            "ticks": ""
           }
          },
          "colorscale": {
           "diverging": [
            [
             0,
             "#8e0152"
            ],
            [
             0.1,
             "#c51b7d"
            ],
            [
             0.2,
             "#de77ae"
            ],
            [
             0.3,
             "#f1b6da"
            ],
            [
             0.4,
             "#fde0ef"
            ],
            [
             0.5,
             "#f7f7f7"
            ],
            [
             0.6,
             "#e6f5d0"
            ],
            [
             0.7,
             "#b8e186"
            ],
            [
             0.8,
             "#7fbc41"
            ],
            [
             0.9,
             "#4d9221"
            ],
            [
             1,
             "#276419"
            ]
           ],
           "sequential": [
            [
             0,
             "#0d0887"
            ],
            [
             0.1111111111111111,
             "#46039f"
            ],
            [
             0.2222222222222222,
             "#7201a8"
            ],
            [
             0.3333333333333333,
             "#9c179e"
            ],
            [
             0.4444444444444444,
             "#bd3786"
            ],
            [
             0.5555555555555556,
             "#d8576b"
            ],
            [
             0.6666666666666666,
             "#ed7953"
            ],
            [
             0.7777777777777778,
             "#fb9f3a"
            ],
            [
             0.8888888888888888,
             "#fdca26"
            ],
            [
             1,
             "#f0f921"
            ]
           ],
           "sequentialminus": [
            [
             0,
             "#0d0887"
            ],
            [
             0.1111111111111111,
             "#46039f"
            ],
            [
             0.2222222222222222,
             "#7201a8"
            ],
            [
             0.3333333333333333,
             "#9c179e"
            ],
            [
             0.4444444444444444,
             "#bd3786"
            ],
            [
             0.5555555555555556,
             "#d8576b"
            ],
            [
             0.6666666666666666,
             "#ed7953"
            ],
            [
             0.7777777777777778,
             "#fb9f3a"
            ],
            [
             0.8888888888888888,
             "#fdca26"
            ],
            [
             1,
             "#f0f921"
            ]
           ]
          },
          "colorway": [
           "#636efa",
           "#EF553B",
           "#00cc96",
           "#ab63fa",
           "#FFA15A",
           "#19d3f3",
           "#FF6692",
           "#B6E880",
           "#FF97FF",
           "#FECB52"
          ],
          "font": {
           "color": "#2a3f5f"
          },
          "geo": {
           "bgcolor": "white",
           "lakecolor": "white",
           "landcolor": "#E5ECF6",
           "showlakes": true,
           "showland": true,
           "subunitcolor": "white"
          },
          "hoverlabel": {
           "align": "left"
          },
          "hovermode": "closest",
          "mapbox": {
           "style": "light"
          },
          "paper_bgcolor": "white",
          "plot_bgcolor": "#E5ECF6",
          "polar": {
           "angularaxis": {
            "gridcolor": "white",
            "linecolor": "white",
            "ticks": ""
           },
           "bgcolor": "#E5ECF6",
           "radialaxis": {
            "gridcolor": "white",
            "linecolor": "white",
            "ticks": ""
           }
          },
          "scene": {
           "xaxis": {
            "backgroundcolor": "#E5ECF6",
            "gridcolor": "white",
            "gridwidth": 2,
            "linecolor": "white",
            "showbackground": true,
            "ticks": "",
            "zerolinecolor": "white"
           },
           "yaxis": {
            "backgroundcolor": "#E5ECF6",
            "gridcolor": "white",
            "gridwidth": 2,
            "linecolor": "white",
            "showbackground": true,
            "ticks": "",
            "zerolinecolor": "white"
           },
           "zaxis": {
            "backgroundcolor": "#E5ECF6",
            "gridcolor": "white",
            "gridwidth": 2,
            "linecolor": "white",
            "showbackground": true,
            "ticks": "",
            "zerolinecolor": "white"
           }
          },
          "shapedefaults": {
           "line": {
            "color": "#2a3f5f"
           }
          },
          "ternary": {
           "aaxis": {
            "gridcolor": "white",
            "linecolor": "white",
            "ticks": ""
           },
           "baxis": {
            "gridcolor": "white",
            "linecolor": "white",
            "ticks": ""
           },
           "bgcolor": "#E5ECF6",
           "caxis": {
            "gridcolor": "white",
            "linecolor": "white",
            "ticks": ""
           }
          },
          "title": {
           "x": 0.05
          },
          "xaxis": {
           "automargin": true,
           "gridcolor": "white",
           "linecolor": "white",
           "ticks": "",
           "title": {
            "standoff": 15
           },
           "zerolinecolor": "white",
           "zerolinewidth": 2
          },
          "yaxis": {
           "automargin": true,
           "gridcolor": "white",
           "linecolor": "white",
           "ticks": "",
           "title": {
            "standoff": 15
           },
           "zerolinecolor": "white",
           "zerolinewidth": 2
          }
         }
        },
        "title": {
         "text": "Number of images per label",
         "x": 0.5
        },
        "width": 2000,
        "xaxis": {
         "anchor": "y",
         "categoryarray": [
          "abdominal_linen",
          "anorganic_artifact",
          "background",
          "bladder",
          "blue_cloth",
          "colon",
          "colon_peritoneum",
          "fat",
          "foil",
          "gallbladder",
          "glove",
          "heart",
          "small_bowel",
          "kidney",
          "kidney_with_Gerotas_fascia",
          "liver",
          "lung",
          "metal",
          "muscle",
          "omentum",
          "organic_artifact",
          "overlap",
          "pancreas",
          "peritoneum",
          "skin",
          "spleen",
          "stomach",
          "syringe",
          "tube",
          "unlabeled",
          "unsure",
          "major_vein",
          "white_compress"
         ],
         "categoryorder": "array",
         "domain": [
          0,
          0.49
         ],
         "title": {
          "text": "label_name"
         }
        },
        "xaxis2": {
         "anchor": "y2",
         "domain": [
          0.51,
          1
         ],
         "matches": "x",
         "title": {
          "text": "label_name"
         }
        },
        "yaxis": {
         "anchor": "x",
         "domain": [
          0,
          1
         ],
         "showticklabels": true,
         "title": {
          "text": "n_images"
         }
        },
        "yaxis2": {
         "anchor": "x2",
         "domain": [
          0,
          1
         ],
         "showticklabels": true
        }
       }
      },
      "text/html": [
       "<div>                            <div id=\"62e6e282-e5c1-457c-b8c3-a967b36711eb\" class=\"plotly-graph-div\" style=\"height:500px; width:2000px;\"></div>            <script type=\"text/javascript\">                require([\"plotly\"], function(Plotly) {                    window.PLOTLYENV=window.PLOTLYENV || {};                                    if (document.getElementById(\"62e6e282-e5c1-457c-b8c3-a967b36711eb\")) {                    Plotly.newPlot(                        \"62e6e282-e5c1-457c-b8c3-a967b36711eb\",                        [{\"alignmentgroup\":\"True\",\"hovertemplate\":\"subject_name=P059<br>set_type=train<br>label_name=%{x}<br>n_images=%{y}<extra></extra>\",\"legendgroup\":\"P059\",\"marker\":{\"color\":\"#636efa\",\"pattern\":{\"shape\":\"\"}},\"name\":\"P059\",\"offsetgroup\":\"P059\",\"orientation\":\"v\",\"showlegend\":true,\"textposition\":\"auto\",\"x\":[\"abdominal_linen\",\"bladder\",\"blue_cloth\",\"colon\",\"foil\",\"gallbladder\",\"glove\",\"small_bowel\",\"kidney\",\"kidney_with_Gerotas_fascia\",\"liver\",\"omentum\",\"organic_artifact\",\"pancreas\",\"peritoneum\",\"skin\",\"spleen\",\"stomach\",\"unsure\",\"major_vein\"],\"xaxis\":\"x\",\"y\":[17,12,22,16,1,5,11,19,3,3,8,3,2,5,6,1,4,2,4,3],\"yaxis\":\"y\",\"type\":\"bar\"},{\"alignmentgroup\":\"True\",\"hovertemplate\":\"subject_name=P060<br>set_type=train<br>label_name=%{x}<br>n_images=%{y}<extra></extra>\",\"legendgroup\":\"P060\",\"marker\":{\"color\":\"#EF553B\",\"pattern\":{\"shape\":\"\"}},\"name\":\"P060\",\"offsetgroup\":\"P060\",\"orientation\":\"v\",\"showlegend\":true,\"textposition\":\"auto\",\"x\":[\"abdominal_linen\",\"bladder\",\"blue_cloth\",\"colon\",\"fat\",\"foil\",\"gallbladder\",\"glove\",\"heart\",\"small_bowel\",\"kidney_with_Gerotas_fascia\",\"liver\",\"lung\",\"metal\",\"muscle\",\"omentum\",\"organic_artifact\",\"pancreas\",\"peritoneum\",\"skin\",\"spleen\",\"stomach\",\"unsure\",\"major_vein\",\"white_compress\"],\"xaxis\":\"x\",\"y\":[6,15,48,26,2,2,8,15,14,36,6,28,14,16,2,16,14,8,18,13,24,26,3,3,2],\"yaxis\":\"y\",\"type\":\"bar\"},{\"alignmentgroup\":\"True\",\"hovertemplate\":\"subject_name=P061<br>set_type=train<br>label_name=%{x}<br>n_images=%{y}<extra></extra>\",\"legendgroup\":\"P061\",\"marker\":{\"color\":\"#00cc96\",\"pattern\":{\"shape\":\"\"}},\"name\":\"P061\",\"offsetgroup\":\"P061\",\"orientation\":\"v\",\"showlegend\":true,\"textposition\":\"auto\",\"x\":[\"abdominal_linen\",\"anorganic_artifact\",\"background\",\"bladder\",\"blue_cloth\",\"colon\",\"colon_peritoneum\",\"fat\",\"foil\",\"glove\",\"small_bowel\",\"kidney\",\"liver\",\"metal\",\"muscle\",\"omentum\",\"organic_artifact\",\"pancreas\",\"peritoneum\",\"skin\",\"spleen\",\"stomach\",\"unsure\"],\"xaxis\":\"x\",\"y\":[6,2,3,6,12,12,1,18,10,3,18,6,12,18,4,1,1,1,18,18,12,8,5],\"yaxis\":\"y\",\"type\":\"bar\"},{\"alignmentgroup\":\"True\",\"hovertemplate\":\"subject_name=P062<br>set_type=test<br>label_name=%{x}<br>n_images=%{y}<extra></extra>\",\"legendgroup\":\"P062\",\"marker\":{\"color\":\"#ab63fa\",\"pattern\":{\"shape\":\"\"}},\"name\":\"P062\",\"offsetgroup\":\"P062\",\"orientation\":\"v\",\"showlegend\":true,\"textposition\":\"auto\",\"x\":[\"abdominal_linen\",\"anorganic_artifact\",\"background\",\"bladder\",\"blue_cloth\",\"colon\",\"fat\",\"foil\",\"gallbladder\",\"glove\",\"heart\",\"small_bowel\",\"kidney\",\"kidney_with_Gerotas_fascia\",\"liver\",\"lung\",\"metal\",\"muscle\",\"omentum\",\"organic_artifact\",\"pancreas\",\"peritoneum\",\"skin\",\"spleen\",\"stomach\",\"unsure\",\"major_vein\",\"white_compress\"],\"xaxis\":\"x2\",\"y\":[12,7,7,25,58,25,26,15,12,45,12,47,17,10,31,12,25,12,23,20,6,26,29,18,33,17,10,12],\"yaxis\":\"y2\",\"type\":\"bar\"},{\"alignmentgroup\":\"True\",\"hovertemplate\":\"subject_name=P070<br>set_type=train<br>label_name=%{x}<br>n_images=%{y}<extra></extra>\",\"legendgroup\":\"P070\",\"marker\":{\"color\":\"#FFA15A\",\"pattern\":{\"shape\":\"\"}},\"name\":\"P070\",\"offsetgroup\":\"P070\",\"orientation\":\"v\",\"showlegend\":true,\"textposition\":\"auto\",\"x\":[\"abdominal_linen\",\"anorganic_artifact\",\"background\",\"blue_cloth\",\"colon\",\"fat\",\"foil\",\"gallbladder\",\"glove\",\"heart\",\"small_bowel\",\"liver\",\"lung\",\"metal\",\"muscle\",\"omentum\",\"organic_artifact\",\"pancreas\",\"peritoneum\",\"skin\",\"spleen\",\"stomach\",\"unsure\",\"white_compress\"],\"xaxis\":\"x\",\"y\":[20,11,12,25,25,28,13,16,21,14,25,25,14,30,13,14,21,9,25,28,16,19,11,7],\"yaxis\":\"y\",\"type\":\"bar\"},{\"alignmentgroup\":\"True\",\"hovertemplate\":\"subject_name=P072<br>set_type=test<br>label_name=%{x}<br>n_images=%{y}<extra></extra>\",\"legendgroup\":\"P072\",\"marker\":{\"color\":\"#19d3f3\",\"pattern\":{\"shape\":\"\"}},\"name\":\"P072\",\"offsetgroup\":\"P072\",\"orientation\":\"v\",\"showlegend\":true,\"textposition\":\"auto\",\"x\":[\"abdominal_linen\",\"anorganic_artifact\",\"background\",\"bladder\",\"blue_cloth\",\"colon\",\"fat\",\"foil\",\"gallbladder\",\"glove\",\"heart\",\"small_bowel\",\"kidney\",\"kidney_with_Gerotas_fascia\",\"liver\",\"lung\",\"metal\",\"muscle\",\"omentum\",\"organic_artifact\",\"pancreas\",\"peritoneum\",\"skin\",\"spleen\",\"stomach\",\"tube\",\"unsure\",\"major_vein\",\"white_compress\"],\"xaxis\":\"x2\",\"y\":[26,3,4,11,38,23,43,9,29,18,6,38,9,1,36,6,47,6,18,19,7,37,35,25,27,1,14,8,1],\"yaxis\":\"y2\",\"type\":\"bar\"},{\"alignmentgroup\":\"True\",\"hovertemplate\":\"subject_name=P046<br>set_type=test<br>label_name=%{x}<br>n_images=%{y}<extra></extra>\",\"legendgroup\":\"P046\",\"marker\":{\"color\":\"#FF6692\",\"pattern\":{\"shape\":\"\"}},\"name\":\"P046\",\"offsetgroup\":\"P046\",\"orientation\":\"v\",\"showlegend\":true,\"textposition\":\"auto\",\"x\":[\"anorganic_artifact\",\"background\",\"bladder\",\"blue_cloth\",\"colon\",\"fat\",\"foil\",\"glove\",\"small_bowel\",\"liver\",\"metal\",\"omentum\",\"organic_artifact\",\"peritoneum\",\"skin\",\"spleen\",\"stomach\",\"unsure\"],\"xaxis\":\"x2\",\"y\":[7,1,9,12,14,16,16,1,16,13,16,13,4,15,16,14,12,5],\"yaxis\":\"y2\",\"type\":\"bar\"},{\"alignmentgroup\":\"True\",\"hovertemplate\":\"subject_name=P047<br>set_type=train<br>label_name=%{x}<br>n_images=%{y}<extra></extra>\",\"legendgroup\":\"P047\",\"marker\":{\"color\":\"#B6E880\",\"pattern\":{\"shape\":\"\"}},\"name\":\"P047\",\"offsetgroup\":\"P047\",\"orientation\":\"v\",\"showlegend\":true,\"textposition\":\"auto\",\"x\":[\"anorganic_artifact\",\"background\",\"bladder\",\"blue_cloth\",\"colon\",\"fat\",\"foil\",\"gallbladder\",\"small_bowel\",\"liver\",\"metal\",\"omentum\",\"organic_artifact\",\"peritoneum\",\"skin\",\"spleen\",\"stomach\",\"unsure\",\"white_compress\"],\"xaxis\":\"x\",\"y\":[1,2,1,1,10,10,10,10,10,10,10,8,1,10,10,10,10,3,2],\"yaxis\":\"y\",\"type\":\"bar\"},{\"alignmentgroup\":\"True\",\"hovertemplate\":\"subject_name=P048<br>set_type=train<br>label_name=%{x}<br>n_images=%{y}<extra></extra>\",\"legendgroup\":\"P048\",\"marker\":{\"color\":\"#FF97FF\",\"pattern\":{\"shape\":\"\"}},\"name\":\"P048\",\"offsetgroup\":\"P048\",\"orientation\":\"v\",\"showlegend\":true,\"textposition\":\"auto\",\"x\":[\"anorganic_artifact\",\"background\",\"bladder\",\"blue_cloth\",\"colon\",\"fat\",\"foil\",\"gallbladder\",\"small_bowel\",\"liver\",\"organic_artifact\",\"peritoneum\",\"skin\",\"spleen\",\"stomach\",\"unsure\",\"white_compress\"],\"xaxis\":\"x\",\"y\":[12,4,7,9,15,15,15,10,15,10,6,14,15,11,11,1,15],\"yaxis\":\"y\",\"type\":\"bar\"},{\"alignmentgroup\":\"True\",\"hovertemplate\":\"subject_name=P049<br>set_type=train<br>label_name=%{x}<br>n_images=%{y}<extra></extra>\",\"legendgroup\":\"P049\",\"marker\":{\"color\":\"#FECB52\",\"pattern\":{\"shape\":\"\"}},\"name\":\"P049\",\"offsetgroup\":\"P049\",\"orientation\":\"v\",\"showlegend\":true,\"textposition\":\"auto\",\"x\":[\"anorganic_artifact\",\"bladder\",\"blue_cloth\",\"colon\",\"fat\",\"foil\",\"small_bowel\",\"liver\",\"organic_artifact\",\"peritoneum\",\"skin\",\"spleen\",\"stomach\",\"unsure\",\"white_compress\"],\"xaxis\":\"x\",\"y\":[7,6,8,16,16,16,16,5,1,16,16,13,11,12,16],\"yaxis\":\"y\",\"type\":\"bar\"},{\"alignmentgroup\":\"True\",\"hovertemplate\":\"subject_name=P050<br>set_type=train<br>label_name=%{x}<br>n_images=%{y}<extra></extra>\",\"legendgroup\":\"P050\",\"marker\":{\"color\":\"#636efa\",\"pattern\":{\"shape\":\"\"}},\"name\":\"P050\",\"offsetgroup\":\"P050\",\"orientation\":\"v\",\"showlegend\":true,\"textposition\":\"auto\",\"x\":[\"anorganic_artifact\",\"background\",\"blue_cloth\",\"colon\",\"fat\",\"foil\",\"gallbladder\",\"small_bowel\",\"liver\",\"omentum\",\"peritoneum\",\"skin\",\"spleen\",\"stomach\",\"unsure\",\"white_compress\"],\"xaxis\":\"x\",\"y\":[2,2,1,5,5,5,3,5,5,5,5,5,5,5,4,5],\"yaxis\":\"y\",\"type\":\"bar\"},{\"alignmentgroup\":\"True\",\"hovertemplate\":\"subject_name=P057<br>set_type=train<br>label_name=%{x}<br>n_images=%{y}<extra></extra>\",\"legendgroup\":\"P057\",\"marker\":{\"color\":\"#EF553B\",\"pattern\":{\"shape\":\"\"}},\"name\":\"P057\",\"offsetgroup\":\"P057\",\"orientation\":\"v\",\"showlegend\":true,\"textposition\":\"auto\",\"x\":[\"anorganic_artifact\",\"background\",\"bladder\",\"blue_cloth\",\"colon\",\"fat\",\"foil\",\"gallbladder\",\"glove\",\"small_bowel\",\"liver\",\"omentum\",\"organic_artifact\",\"pancreas\",\"peritoneum\",\"skin\",\"spleen\",\"stomach\",\"unsure\",\"white_compress\"],\"xaxis\":\"x\",\"y\":[13,1,6,24,20,24,24,4,7,24,19,19,4,5,24,24,21,20,14,15],\"yaxis\":\"y\",\"type\":\"bar\"},{\"alignmentgroup\":\"True\",\"hovertemplate\":\"subject_name=P041<br>set_type=train<br>label_name=%{x}<br>n_images=%{y}<extra></extra>\",\"legendgroup\":\"P041\",\"marker\":{\"color\":\"#00cc96\",\"pattern\":{\"shape\":\"\"}},\"name\":\"P041\",\"offsetgroup\":\"P041\",\"orientation\":\"v\",\"showlegend\":true,\"textposition\":\"auto\",\"x\":[\"background\",\"bladder\",\"blue_cloth\",\"colon\",\"fat\",\"foil\",\"small_bowel\",\"liver\",\"metal\",\"omentum\",\"peritoneum\",\"skin\",\"spleen\",\"stomach\",\"unsure\",\"white_compress\"],\"xaxis\":\"x\",\"y\":[1,2,3,4,4,1,4,2,3,2,2,2,2,2,2,1],\"yaxis\":\"y\",\"type\":\"bar\"},{\"alignmentgroup\":\"True\",\"hovertemplate\":\"subject_name=P045<br>set_type=train<br>label_name=%{x}<br>n_images=%{y}<extra></extra>\",\"legendgroup\":\"P045\",\"marker\":{\"color\":\"#ab63fa\",\"pattern\":{\"shape\":\"\"}},\"name\":\"P045\",\"offsetgroup\":\"P045\",\"orientation\":\"v\",\"showlegend\":true,\"textposition\":\"auto\",\"x\":[\"background\",\"bladder\",\"blue_cloth\",\"colon\",\"fat\",\"foil\",\"heart\",\"small_bowel\",\"liver\",\"lung\",\"omentum\",\"peritoneum\",\"skin\",\"spleen\",\"stomach\",\"unsure\",\"white_compress\"],\"xaxis\":\"x\",\"y\":[1,4,21,18,19,17,4,17,14,4,9,15,18,15,13,5,18],\"yaxis\":\"y\",\"type\":\"bar\"},{\"alignmentgroup\":\"True\",\"hovertemplate\":\"subject_name=P043<br>set_type=test<br>label_name=%{x}<br>n_images=%{y}<extra></extra>\",\"legendgroup\":\"P043\",\"marker\":{\"color\":\"#FFA15A\",\"pattern\":{\"shape\":\"\"}},\"name\":\"P043\",\"offsetgroup\":\"P043\",\"orientation\":\"v\",\"showlegend\":true,\"textposition\":\"auto\",\"x\":[\"bladder\",\"blue_cloth\",\"colon\",\"gallbladder\",\"heart\",\"small_bowel\",\"liver\",\"lung\",\"omentum\",\"stomach\"],\"xaxis\":\"x2\",\"y\":[4,21,11,7,10,11,11,10,3,3],\"yaxis\":\"y2\",\"type\":\"bar\"},{\"alignmentgroup\":\"True\",\"hovertemplate\":\"subject_name=P068<br>set_type=test<br>label_name=%{x}<br>n_images=%{y}<extra></extra>\",\"legendgroup\":\"P068\",\"marker\":{\"color\":\"#19d3f3\",\"pattern\":{\"shape\":\"\"}},\"name\":\"P068\",\"offsetgroup\":\"P068\",\"orientation\":\"v\",\"showlegend\":true,\"textposition\":\"auto\",\"x\":[\"bladder\",\"blue_cloth\",\"colon\",\"fat\",\"gallbladder\",\"glove\",\"small_bowel\",\"liver\",\"metal\",\"omentum\",\"organic_artifact\",\"pancreas\",\"peritoneum\",\"skin\",\"spleen\",\"stomach\",\"unsure\"],\"xaxis\":\"x2\",\"y\":[7,23,15,8,4,9,23,13,17,10,7,5,13,9,18,17,10],\"yaxis\":\"y2\",\"type\":\"bar\"},{\"alignmentgroup\":\"True\",\"hovertemplate\":\"subject_name=P044<br>set_type=train<br>label_name=%{x}<br>n_images=%{y}<extra></extra>\",\"legendgroup\":\"P044\",\"marker\":{\"color\":\"#FF6692\",\"pattern\":{\"shape\":\"\"}},\"name\":\"P044\",\"offsetgroup\":\"P044\",\"orientation\":\"v\",\"showlegend\":true,\"textposition\":\"auto\",\"x\":[\"blue_cloth\",\"colon\",\"fat\",\"foil\",\"heart\",\"small_bowel\",\"liver\",\"lung\",\"metal\",\"muscle\",\"omentum\",\"peritoneum\",\"skin\",\"spleen\",\"stomach\",\"white_compress\"],\"xaxis\":\"x\",\"y\":[13,17,22,21,6,17,14,6,1,1,5,17,22,14,5,17],\"yaxis\":\"y\",\"type\":\"bar\"},{\"alignmentgroup\":\"True\",\"hovertemplate\":\"subject_name=P058<br>set_type=train<br>label_name=%{x}<br>n_images=%{y}<extra></extra>\",\"legendgroup\":\"P058\",\"marker\":{\"color\":\"#B6E880\",\"pattern\":{\"shape\":\"\"}},\"name\":\"P058\",\"offsetgroup\":\"P058\",\"orientation\":\"v\",\"showlegend\":true,\"textposition\":\"auto\",\"x\":[\"blue_cloth\",\"colon\",\"colon_peritoneum\",\"fat\",\"heart\",\"small_bowel\",\"kidney\",\"kidney_with_Gerotas_fascia\",\"liver\",\"lung\",\"metal\",\"omentum\",\"pancreas\",\"peritoneum\",\"skin\",\"spleen\",\"stomach\",\"unsure\",\"major_vein\"],\"xaxis\":\"x\",\"y\":[53,32,6,17,13,29,8,15,35,13,17,17,14,24,19,17,8,10,8],\"yaxis\":\"y\",\"type\":\"bar\"},{\"alignmentgroup\":\"True\",\"hovertemplate\":\"subject_name=P069<br>set_type=train<br>label_name=%{x}<br>n_images=%{y}<extra></extra>\",\"legendgroup\":\"P069\",\"marker\":{\"color\":\"#FF97FF\",\"pattern\":{\"shape\":\"\"}},\"name\":\"P069\",\"offsetgroup\":\"P069\",\"orientation\":\"v\",\"showlegend\":true,\"textposition\":\"auto\",\"x\":[\"blue_cloth\",\"colon\",\"fat\",\"gallbladder\",\"small_bowel\",\"liver\",\"metal\",\"omentum\",\"peritoneum\",\"skin\",\"spleen\",\"stomach\",\"unsure\"],\"xaxis\":\"x\",\"y\":[20,20,17,13,20,13,20,13,13,15,19,13,14],\"yaxis\":\"y\",\"type\":\"bar\"},{\"alignmentgroup\":\"True\",\"hovertemplate\":\"subject_name=P071<br>set_type=train<br>label_name=%{x}<br>n_images=%{y}<extra></extra>\",\"legendgroup\":\"P071\",\"marker\":{\"color\":\"#FECB52\",\"pattern\":{\"shape\":\"\"}},\"name\":\"P071\",\"offsetgroup\":\"P071\",\"orientation\":\"v\",\"showlegend\":true,\"textposition\":\"auto\",\"x\":[\"blue_cloth\",\"colon\",\"fat\",\"gallbladder\",\"glove\",\"small_bowel\",\"liver\",\"metal\",\"omentum\",\"organic_artifact\",\"pancreas\",\"peritoneum\",\"skin\",\"spleen\",\"stomach\",\"unsure\"],\"xaxis\":\"x\",\"y\":[19,7,7,5,12,15,10,17,14,10,7,1,14,12,19,1],\"yaxis\":\"y\",\"type\":\"bar\"}],                        {\"template\":{\"data\":{\"histogram2dcontour\":[{\"type\":\"histogram2dcontour\",\"colorbar\":{\"outlinewidth\":0,\"ticks\":\"\"},\"colorscale\":[[0.0,\"#0d0887\"],[0.1111111111111111,\"#46039f\"],[0.2222222222222222,\"#7201a8\"],[0.3333333333333333,\"#9c179e\"],[0.4444444444444444,\"#bd3786\"],[0.5555555555555556,\"#d8576b\"],[0.6666666666666666,\"#ed7953\"],[0.7777777777777778,\"#fb9f3a\"],[0.8888888888888888,\"#fdca26\"],[1.0,\"#f0f921\"]]}],\"choropleth\":[{\"type\":\"choropleth\",\"colorbar\":{\"outlinewidth\":0,\"ticks\":\"\"}}],\"histogram2d\":[{\"type\":\"histogram2d\",\"colorbar\":{\"outlinewidth\":0,\"ticks\":\"\"},\"colorscale\":[[0.0,\"#0d0887\"],[0.1111111111111111,\"#46039f\"],[0.2222222222222222,\"#7201a8\"],[0.3333333333333333,\"#9c179e\"],[0.4444444444444444,\"#bd3786\"],[0.5555555555555556,\"#d8576b\"],[0.6666666666666666,\"#ed7953\"],[0.7777777777777778,\"#fb9f3a\"],[0.8888888888888888,\"#fdca26\"],[1.0,\"#f0f921\"]]}],\"heatmap\":[{\"type\":\"heatmap\",\"colorbar\":{\"outlinewidth\":0,\"ticks\":\"\"},\"colorscale\":[[0.0,\"#0d0887\"],[0.1111111111111111,\"#46039f\"],[0.2222222222222222,\"#7201a8\"],[0.3333333333333333,\"#9c179e\"],[0.4444444444444444,\"#bd3786\"],[0.5555555555555556,\"#d8576b\"],[0.6666666666666666,\"#ed7953\"],[0.7777777777777778,\"#fb9f3a\"],[0.8888888888888888,\"#fdca26\"],[1.0,\"#f0f921\"]]}],\"heatmapgl\":[{\"type\":\"heatmapgl\",\"colorbar\":{\"outlinewidth\":0,\"ticks\":\"\"},\"colorscale\":[[0.0,\"#0d0887\"],[0.1111111111111111,\"#46039f\"],[0.2222222222222222,\"#7201a8\"],[0.3333333333333333,\"#9c179e\"],[0.4444444444444444,\"#bd3786\"],[0.5555555555555556,\"#d8576b\"],[0.6666666666666666,\"#ed7953\"],[0.7777777777777778,\"#fb9f3a\"],[0.8888888888888888,\"#fdca26\"],[1.0,\"#f0f921\"]]}],\"contourcarpet\":[{\"type\":\"contourcarpet\",\"colorbar\":{\"outlinewidth\":0,\"ticks\":\"\"}}],\"contour\":[{\"type\":\"contour\",\"colorbar\":{\"outlinewidth\":0,\"ticks\":\"\"},\"colorscale\":[[0.0,\"#0d0887\"],[0.1111111111111111,\"#46039f\"],[0.2222222222222222,\"#7201a8\"],[0.3333333333333333,\"#9c179e\"],[0.4444444444444444,\"#bd3786\"],[0.5555555555555556,\"#d8576b\"],[0.6666666666666666,\"#ed7953\"],[0.7777777777777778,\"#fb9f3a\"],[0.8888888888888888,\"#fdca26\"],[1.0,\"#f0f921\"]]}],\"surface\":[{\"type\":\"surface\",\"colorbar\":{\"outlinewidth\":0,\"ticks\":\"\"},\"colorscale\":[[0.0,\"#0d0887\"],[0.1111111111111111,\"#46039f\"],[0.2222222222222222,\"#7201a8\"],[0.3333333333333333,\"#9c179e\"],[0.4444444444444444,\"#bd3786\"],[0.5555555555555556,\"#d8576b\"],[0.6666666666666666,\"#ed7953\"],[0.7777777777777778,\"#fb9f3a\"],[0.8888888888888888,\"#fdca26\"],[1.0,\"#f0f921\"]]}],\"mesh3d\":[{\"type\":\"mesh3d\",\"colorbar\":{\"outlinewidth\":0,\"ticks\":\"\"}}],\"scatter\":[{\"fillpattern\":{\"fillmode\":\"overlay\",\"size\":10,\"solidity\":0.2},\"type\":\"scatter\"}],\"parcoords\":[{\"type\":\"parcoords\",\"line\":{\"colorbar\":{\"outlinewidth\":0,\"ticks\":\"\"}}}],\"scatterpolargl\":[{\"type\":\"scatterpolargl\",\"marker\":{\"colorbar\":{\"outlinewidth\":0,\"ticks\":\"\"}}}],\"bar\":[{\"error_x\":{\"color\":\"#2a3f5f\"},\"error_y\":{\"color\":\"#2a3f5f\"},\"marker\":{\"line\":{\"color\":\"#E5ECF6\",\"width\":0.5},\"pattern\":{\"fillmode\":\"overlay\",\"size\":10,\"solidity\":0.2}},\"type\":\"bar\"}],\"scattergeo\":[{\"type\":\"scattergeo\",\"marker\":{\"colorbar\":{\"outlinewidth\":0,\"ticks\":\"\"}}}],\"scatterpolar\":[{\"type\":\"scatterpolar\",\"marker\":{\"colorbar\":{\"outlinewidth\":0,\"ticks\":\"\"}}}],\"histogram\":[{\"marker\":{\"pattern\":{\"fillmode\":\"overlay\",\"size\":10,\"solidity\":0.2}},\"type\":\"histogram\"}],\"scattergl\":[{\"type\":\"scattergl\",\"marker\":{\"colorbar\":{\"outlinewidth\":0,\"ticks\":\"\"}}}],\"scatter3d\":[{\"type\":\"scatter3d\",\"line\":{\"colorbar\":{\"outlinewidth\":0,\"ticks\":\"\"}},\"marker\":{\"colorbar\":{\"outlinewidth\":0,\"ticks\":\"\"}}}],\"scattermapbox\":[{\"type\":\"scattermapbox\",\"marker\":{\"colorbar\":{\"outlinewidth\":0,\"ticks\":\"\"}}}],\"scatterternary\":[{\"type\":\"scatterternary\",\"marker\":{\"colorbar\":{\"outlinewidth\":0,\"ticks\":\"\"}}}],\"scattercarpet\":[{\"type\":\"scattercarpet\",\"marker\":{\"colorbar\":{\"outlinewidth\":0,\"ticks\":\"\"}}}],\"carpet\":[{\"aaxis\":{\"endlinecolor\":\"#2a3f5f\",\"gridcolor\":\"white\",\"linecolor\":\"white\",\"minorgridcolor\":\"white\",\"startlinecolor\":\"#2a3f5f\"},\"baxis\":{\"endlinecolor\":\"#2a3f5f\",\"gridcolor\":\"white\",\"linecolor\":\"white\",\"minorgridcolor\":\"white\",\"startlinecolor\":\"#2a3f5f\"},\"type\":\"carpet\"}],\"table\":[{\"cells\":{\"fill\":{\"color\":\"#EBF0F8\"},\"line\":{\"color\":\"white\"}},\"header\":{\"fill\":{\"color\":\"#C8D4E3\"},\"line\":{\"color\":\"white\"}},\"type\":\"table\"}],\"barpolar\":[{\"marker\":{\"line\":{\"color\":\"#E5ECF6\",\"width\":0.5},\"pattern\":{\"fillmode\":\"overlay\",\"size\":10,\"solidity\":0.2}},\"type\":\"barpolar\"}],\"pie\":[{\"automargin\":true,\"type\":\"pie\"}]},\"layout\":{\"autotypenumbers\":\"strict\",\"colorway\":[\"#636efa\",\"#EF553B\",\"#00cc96\",\"#ab63fa\",\"#FFA15A\",\"#19d3f3\",\"#FF6692\",\"#B6E880\",\"#FF97FF\",\"#FECB52\"],\"font\":{\"color\":\"#2a3f5f\"},\"hovermode\":\"closest\",\"hoverlabel\":{\"align\":\"left\"},\"paper_bgcolor\":\"white\",\"plot_bgcolor\":\"#E5ECF6\",\"polar\":{\"bgcolor\":\"#E5ECF6\",\"angularaxis\":{\"gridcolor\":\"white\",\"linecolor\":\"white\",\"ticks\":\"\"},\"radialaxis\":{\"gridcolor\":\"white\",\"linecolor\":\"white\",\"ticks\":\"\"}},\"ternary\":{\"bgcolor\":\"#E5ECF6\",\"aaxis\":{\"gridcolor\":\"white\",\"linecolor\":\"white\",\"ticks\":\"\"},\"baxis\":{\"gridcolor\":\"white\",\"linecolor\":\"white\",\"ticks\":\"\"},\"caxis\":{\"gridcolor\":\"white\",\"linecolor\":\"white\",\"ticks\":\"\"}},\"coloraxis\":{\"colorbar\":{\"outlinewidth\":0,\"ticks\":\"\"}},\"colorscale\":{\"sequential\":[[0.0,\"#0d0887\"],[0.1111111111111111,\"#46039f\"],[0.2222222222222222,\"#7201a8\"],[0.3333333333333333,\"#9c179e\"],[0.4444444444444444,\"#bd3786\"],[0.5555555555555556,\"#d8576b\"],[0.6666666666666666,\"#ed7953\"],[0.7777777777777778,\"#fb9f3a\"],[0.8888888888888888,\"#fdca26\"],[1.0,\"#f0f921\"]],\"sequentialminus\":[[0.0,\"#0d0887\"],[0.1111111111111111,\"#46039f\"],[0.2222222222222222,\"#7201a8\"],[0.3333333333333333,\"#9c179e\"],[0.4444444444444444,\"#bd3786\"],[0.5555555555555556,\"#d8576b\"],[0.6666666666666666,\"#ed7953\"],[0.7777777777777778,\"#fb9f3a\"],[0.8888888888888888,\"#fdca26\"],[1.0,\"#f0f921\"]],\"diverging\":[[0,\"#8e0152\"],[0.1,\"#c51b7d\"],[0.2,\"#de77ae\"],[0.3,\"#f1b6da\"],[0.4,\"#fde0ef\"],[0.5,\"#f7f7f7\"],[0.6,\"#e6f5d0\"],[0.7,\"#b8e186\"],[0.8,\"#7fbc41\"],[0.9,\"#4d9221\"],[1,\"#276419\"]]},\"xaxis\":{\"gridcolor\":\"white\",\"linecolor\":\"white\",\"ticks\":\"\",\"title\":{\"standoff\":15},\"zerolinecolor\":\"white\",\"automargin\":true,\"zerolinewidth\":2},\"yaxis\":{\"gridcolor\":\"white\",\"linecolor\":\"white\",\"ticks\":\"\",\"title\":{\"standoff\":15},\"zerolinecolor\":\"white\",\"automargin\":true,\"zerolinewidth\":2},\"scene\":{\"xaxis\":{\"backgroundcolor\":\"#E5ECF6\",\"gridcolor\":\"white\",\"linecolor\":\"white\",\"showbackground\":true,\"ticks\":\"\",\"zerolinecolor\":\"white\",\"gridwidth\":2},\"yaxis\":{\"backgroundcolor\":\"#E5ECF6\",\"gridcolor\":\"white\",\"linecolor\":\"white\",\"showbackground\":true,\"ticks\":\"\",\"zerolinecolor\":\"white\",\"gridwidth\":2},\"zaxis\":{\"backgroundcolor\":\"#E5ECF6\",\"gridcolor\":\"white\",\"linecolor\":\"white\",\"showbackground\":true,\"ticks\":\"\",\"zerolinecolor\":\"white\",\"gridwidth\":2}},\"shapedefaults\":{\"line\":{\"color\":\"#2a3f5f\"}},\"annotationdefaults\":{\"arrowcolor\":\"#2a3f5f\",\"arrowhead\":0,\"arrowwidth\":1},\"geo\":{\"bgcolor\":\"white\",\"landcolor\":\"#E5ECF6\",\"subunitcolor\":\"white\",\"showland\":true,\"showlakes\":true,\"lakecolor\":\"white\"},\"title\":{\"x\":0.05},\"mapbox\":{\"style\":\"light\"}}},\"xaxis\":{\"anchor\":\"y\",\"domain\":[0.0,0.49],\"title\":{\"text\":\"label_name\"},\"categoryorder\":\"array\",\"categoryarray\":[\"abdominal_linen\",\"anorganic_artifact\",\"background\",\"bladder\",\"blue_cloth\",\"colon\",\"colon_peritoneum\",\"fat\",\"foil\",\"gallbladder\",\"glove\",\"heart\",\"small_bowel\",\"kidney\",\"kidney_with_Gerotas_fascia\",\"liver\",\"lung\",\"metal\",\"muscle\",\"omentum\",\"organic_artifact\",\"overlap\",\"pancreas\",\"peritoneum\",\"skin\",\"spleen\",\"stomach\",\"syringe\",\"tube\",\"unlabeled\",\"unsure\",\"major_vein\",\"white_compress\"]},\"yaxis\":{\"anchor\":\"x\",\"domain\":[0.0,1.0],\"title\":{\"text\":\"n_images\"},\"showticklabels\":true},\"xaxis2\":{\"anchor\":\"y2\",\"domain\":[0.51,1.0],\"matches\":\"x\",\"title\":{\"text\":\"label_name\"}},\"yaxis2\":{\"anchor\":\"x2\",\"domain\":[0.0,1.0],\"showticklabels\":true},\"annotations\":[{\"font\":{},\"showarrow\":false,\"text\":\"set_type=train\",\"x\":0.245,\"xanchor\":\"center\",\"xref\":\"paper\",\"y\":1.0,\"yanchor\":\"bottom\",\"yref\":\"paper\"},{\"font\":{},\"showarrow\":false,\"text\":\"set_type=test\",\"x\":0.755,\"xanchor\":\"center\",\"xref\":\"paper\",\"y\":1.0,\"yanchor\":\"bottom\",\"yref\":\"paper\"}],\"legend\":{\"title\":{\"text\":\"subject_name\"},\"tracegroupgap\":0},\"margin\":{\"t\":60},\"barmode\":\"relative\",\"title\":{\"text\":\"Number of images per label\",\"x\":0.5},\"height\":500,\"width\":2000},                        {\"responsive\": true}                    ).then(function(){\n",
       "                            \n",
       "var gd = document.getElementById('62e6e282-e5c1-457c-b8c3-a967b36711eb');\n",
       "var x = new MutationObserver(function (mutations, observer) {{\n",
       "        var display = window.getComputedStyle(gd).display;\n",
       "        if (!display || display === 'none') {{\n",
       "            console.log([gd, 'removed!']);\n",
       "            Plotly.purge(gd);\n",
       "            observer.disconnect();\n",
       "        }}\n",
       "}});\n",
       "\n",
       "// Listen for the removal of the full notebook cells\n",
       "var notebookContainer = gd.closest('#notebook-container');\n",
       "if (notebookContainer) {{\n",
       "    x.observe(notebookContainer, {childList: true});\n",
       "}}\n",
       "\n",
       "// Listen for the clearing of the current output cell\n",
       "var outputEl = gd.closest('.output');\n",
       "if (outputEl) {{\n",
       "    x.observe(outputEl, {childList: true});\n",
       "}}\n",
       "\n",
       "                        })                };                });            </script>        </div>"
      ]
     },
     "metadata": {},
     "output_type": "display_data"
    }
   ],
   "source": [
    "df_images = sqldf(\n",
    "    \"\"\"\n",
    "    SELECT label_name, subject_name, set_type, COUNT(*) AS n_images, SUM(n_pixels) AS n_pixels\n",
    "    FROM df\n",
    "    WHERE label_name NOT IN ('unlabeled', 'overlap')\n",
    "    GROUP BY label_name, subject_name, set_type\n",
    "\"\"\"\n",
    ")\n",
    "\n",
    "fig = px.bar(df_images, x=\"label_name\", y=\"n_images\", color=\"subject_name\", facet_col=\"set_type\")\n",
    "fig.update_layout(title_text=\"Number of images per label\", title_x=0.5)\n",
    "fig.layout.xaxis.categoryorder = \"array\"\n",
    "fig.layout.xaxis.categoryarray = sorted_labels\n",
    "fig.layout.height = 500\n",
    "fig.layout.width = 2000\n",
    "fig.update_yaxes(matches=None, showticklabels=True)\n",
    "fig.show()"
   ]
  },
  {
   "cell_type": "code",
   "execution_count": 8,
   "id": "athletic-cancellation",
   "metadata": {},
   "outputs": [
    {
     "data": {
      "application/vnd.plotly.v1+json": {
       "config": {
        "plotlyServerURL": "https://plot.ly"
       },
       "data": [
        {
         "alignmentgroup": "True",
         "hovertemplate": "subject_name=P059<br>set_type=train<br>label_name=%{x}<br>n_pixels=%{y}<extra></extra>",
         "legendgroup": "P059",
         "marker": {
          "color": "#636efa",
          "pattern": {
           "shape": ""
          }
         },
         "name": "P059",
         "offsetgroup": "P059",
         "orientation": "v",
         "showlegend": true,
         "textposition": "auto",
         "type": "bar",
         "x": [
          "abdominal_linen",
          "bladder",
          "blue_cloth",
          "colon",
          "foil",
          "gallbladder",
          "glove",
          "small_bowel",
          "kidney",
          "kidney_with_Gerotas_fascia",
          "liver",
          "omentum",
          "organic_artifact",
          "pancreas",
          "peritoneum",
          "skin",
          "spleen",
          "stomach",
          "unsure",
          "major_vein"
         ],
         "xaxis": "x",
         "y": [
          678833,
          210231,
          2024534,
          950981,
          7287,
          23499,
          1143977,
          1012785,
          69585,
          34067,
          104458,
          8757,
          2285,
          46524,
          355550,
          624,
          63109,
          3531,
          12985,
          4798
         ],
         "yaxis": "y"
        },
        {
         "alignmentgroup": "True",
         "hovertemplate": "subject_name=P060<br>set_type=train<br>label_name=%{x}<br>n_pixels=%{y}<extra></extra>",
         "legendgroup": "P060",
         "marker": {
          "color": "#EF553B",
          "pattern": {
           "shape": ""
          }
         },
         "name": "P060",
         "offsetgroup": "P060",
         "orientation": "v",
         "showlegend": true,
         "textposition": "auto",
         "type": "bar",
         "x": [
          "abdominal_linen",
          "bladder",
          "blue_cloth",
          "colon",
          "fat",
          "foil",
          "gallbladder",
          "glove",
          "heart",
          "small_bowel",
          "kidney_with_Gerotas_fascia",
          "liver",
          "lung",
          "metal",
          "muscle",
          "omentum",
          "organic_artifact",
          "pancreas",
          "peritoneum",
          "skin",
          "spleen",
          "stomach",
          "unsure",
          "major_vein",
          "white_compress"
         ],
         "xaxis": "x",
         "y": [
          365393,
          173954,
          7059998,
          986773,
          1537,
          102112,
          24148,
          897954,
          322532,
          2302419,
          90180,
          887503,
          350135,
          334018,
          116821,
          117195,
          44236,
          56213,
          406678,
          277007,
          278381,
          144422,
          10337,
          2351,
          7703
         ],
         "yaxis": "y"
        },
        {
         "alignmentgroup": "True",
         "hovertemplate": "subject_name=P061<br>set_type=train<br>label_name=%{x}<br>n_pixels=%{y}<extra></extra>",
         "legendgroup": "P061",
         "marker": {
          "color": "#00cc96",
          "pattern": {
           "shape": ""
          }
         },
         "name": "P061",
         "offsetgroup": "P061",
         "orientation": "v",
         "showlegend": true,
         "textposition": "auto",
         "type": "bar",
         "x": [
          "abdominal_linen",
          "anorganic_artifact",
          "background",
          "bladder",
          "blue_cloth",
          "colon",
          "colon_peritoneum",
          "fat",
          "foil",
          "glove",
          "small_bowel",
          "kidney",
          "liver",
          "metal",
          "muscle",
          "omentum",
          "organic_artifact",
          "pancreas",
          "peritoneum",
          "skin",
          "spleen",
          "stomach",
          "unsure"
         ],
         "xaxis": "x",
         "y": [
          157270,
          2948,
          5599,
          89356,
          339904,
          684132,
          28425,
          258409,
          132252,
          85601,
          1469287,
          118566,
          123374,
          724254,
          3343,
          2895,
          2603,
          5284,
          265394,
          584610,
          193362,
          193472,
          59260
         ],
         "yaxis": "y"
        },
        {
         "alignmentgroup": "True",
         "hovertemplate": "subject_name=P062<br>set_type=test<br>label_name=%{x}<br>n_pixels=%{y}<extra></extra>",
         "legendgroup": "P062",
         "marker": {
          "color": "#ab63fa",
          "pattern": {
           "shape": ""
          }
         },
         "name": "P062",
         "offsetgroup": "P062",
         "orientation": "v",
         "showlegend": true,
         "textposition": "auto",
         "type": "bar",
         "x": [
          "abdominal_linen",
          "anorganic_artifact",
          "background",
          "bladder",
          "blue_cloth",
          "colon",
          "fat",
          "foil",
          "gallbladder",
          "glove",
          "heart",
          "small_bowel",
          "kidney",
          "kidney_with_Gerotas_fascia",
          "liver",
          "lung",
          "metal",
          "muscle",
          "omentum",
          "organic_artifact",
          "pancreas",
          "peritoneum",
          "skin",
          "spleen",
          "stomach",
          "unsure",
          "major_vein",
          "white_compress"
         ],
         "xaxis": "x2",
         "y": [
          657982,
          7563,
          12390,
          336663,
          5050683,
          1136697,
          90631,
          279911,
          67899,
          2639298,
          191815,
          2101479,
          196544,
          97186,
          699356,
          176447,
          703490,
          422701,
          228996,
          143841,
          37760,
          553096,
          1460324,
          141409,
          537690,
          36391,
          28751,
          87807
         ],
         "yaxis": "y2"
        },
        {
         "alignmentgroup": "True",
         "hovertemplate": "subject_name=P070<br>set_type=train<br>label_name=%{x}<br>n_pixels=%{y}<extra></extra>",
         "legendgroup": "P070",
         "marker": {
          "color": "#FFA15A",
          "pattern": {
           "shape": ""
          }
         },
         "name": "P070",
         "offsetgroup": "P070",
         "orientation": "v",
         "showlegend": true,
         "textposition": "auto",
         "type": "bar",
         "x": [
          "abdominal_linen",
          "anorganic_artifact",
          "background",
          "blue_cloth",
          "colon",
          "fat",
          "foil",
          "gallbladder",
          "glove",
          "heart",
          "small_bowel",
          "liver",
          "lung",
          "metal",
          "muscle",
          "omentum",
          "organic_artifact",
          "pancreas",
          "peritoneum",
          "skin",
          "spleen",
          "stomach",
          "unsure",
          "white_compress"
         ],
         "xaxis": "x",
         "y": [
          2841489,
          30213,
          11989,
          2212111,
          641258,
          126082,
          165918,
          58813,
          1448867,
          105777,
          658984,
          825279,
          409972,
          486042,
          135603,
          92771,
          241699,
          75801,
          109930,
          464317,
          466637,
          342457,
          18303,
          10488
         ],
         "yaxis": "y"
        },
        {
         "alignmentgroup": "True",
         "hovertemplate": "subject_name=P072<br>set_type=test<br>label_name=%{x}<br>n_pixels=%{y}<extra></extra>",
         "legendgroup": "P072",
         "marker": {
          "color": "#19d3f3",
          "pattern": {
           "shape": ""
          }
         },
         "name": "P072",
         "offsetgroup": "P072",
         "orientation": "v",
         "showlegend": true,
         "textposition": "auto",
         "type": "bar",
         "x": [
          "abdominal_linen",
          "anorganic_artifact",
          "background",
          "bladder",
          "blue_cloth",
          "colon",
          "fat",
          "foil",
          "gallbladder",
          "glove",
          "heart",
          "small_bowel",
          "kidney",
          "kidney_with_Gerotas_fascia",
          "liver",
          "lung",
          "metal",
          "muscle",
          "omentum",
          "organic_artifact",
          "pancreas",
          "peritoneum",
          "skin",
          "spleen",
          "stomach",
          "tube",
          "unsure",
          "major_vein",
          "white_compress"
         ],
         "xaxis": "x2",
         "y": [
          1561436,
          11088,
          37808,
          110850,
          3575825,
          744040,
          278154,
          87720,
          90647,
          1768989,
          198662,
          1343896,
          155822,
          5940,
          704002,
          106008,
          1339130,
          228905,
          169241,
          138764,
          35718,
          168458,
          650075,
          590553,
          259481,
          1715,
          56941,
          17158,
          1374
         ],
         "yaxis": "y2"
        },
        {
         "alignmentgroup": "True",
         "hovertemplate": "subject_name=P046<br>set_type=test<br>label_name=%{x}<br>n_pixels=%{y}<extra></extra>",
         "legendgroup": "P046",
         "marker": {
          "color": "#FF6692",
          "pattern": {
           "shape": ""
          }
         },
         "name": "P046",
         "offsetgroup": "P046",
         "orientation": "v",
         "showlegend": true,
         "textposition": "auto",
         "type": "bar",
         "x": [
          "anorganic_artifact",
          "background",
          "bladder",
          "blue_cloth",
          "colon",
          "fat",
          "foil",
          "glove",
          "small_bowel",
          "liver",
          "metal",
          "omentum",
          "organic_artifact",
          "peritoneum",
          "skin",
          "spleen",
          "stomach",
          "unsure"
         ],
         "xaxis": "x2",
         "y": [
          8156,
          5032,
          67026,
          304174,
          397693,
          335039,
          243011,
          3160,
          948669,
          537597,
          731227,
          115578,
          1485,
          191527,
          592433,
          303167,
          128055,
          2171
         ],
         "yaxis": "y2"
        },
        {
         "alignmentgroup": "True",
         "hovertemplate": "subject_name=P047<br>set_type=train<br>label_name=%{x}<br>n_pixels=%{y}<extra></extra>",
         "legendgroup": "P047",
         "marker": {
          "color": "#B6E880",
          "pattern": {
           "shape": ""
          }
         },
         "name": "P047",
         "offsetgroup": "P047",
         "orientation": "v",
         "showlegend": true,
         "textposition": "auto",
         "type": "bar",
         "x": [
          "anorganic_artifact",
          "background",
          "bladder",
          "blue_cloth",
          "colon",
          "fat",
          "foil",
          "gallbladder",
          "small_bowel",
          "liver",
          "metal",
          "omentum",
          "organic_artifact",
          "peritoneum",
          "skin",
          "spleen",
          "stomach",
          "unsure",
          "white_compress"
         ],
         "xaxis": "x",
         "y": [
          1167,
          10181,
          5821,
          10795,
          178941,
          180379,
          98175,
          8943,
          608238,
          648589,
          511090,
          7214,
          102,
          102455,
          264457,
          234115,
          192707,
          3748,
          4883
         ],
         "yaxis": "y"
        },
        {
         "alignmentgroup": "True",
         "hovertemplate": "subject_name=P048<br>set_type=train<br>label_name=%{x}<br>n_pixels=%{y}<extra></extra>",
         "legendgroup": "P048",
         "marker": {
          "color": "#FF97FF",
          "pattern": {
           "shape": ""
          }
         },
         "name": "P048",
         "offsetgroup": "P048",
         "orientation": "v",
         "showlegend": true,
         "textposition": "auto",
         "type": "bar",
         "x": [
          "anorganic_artifact",
          "background",
          "bladder",
          "blue_cloth",
          "colon",
          "fat",
          "foil",
          "gallbladder",
          "small_bowel",
          "liver",
          "organic_artifact",
          "peritoneum",
          "skin",
          "spleen",
          "stomach",
          "unsure",
          "white_compress"
         ],
         "xaxis": "x",
         "y": [
          9298,
          32329,
          18265,
          192625,
          723007,
          298978,
          457930,
          6968,
          1098350,
          162242,
          20445,
          122116,
          1148459,
          126028,
          77340,
          1179,
          112441
         ],
         "yaxis": "y"
        },
        {
         "alignmentgroup": "True",
         "hovertemplate": "subject_name=P049<br>set_type=train<br>label_name=%{x}<br>n_pixels=%{y}<extra></extra>",
         "legendgroup": "P049",
         "marker": {
          "color": "#FECB52",
          "pattern": {
           "shape": ""
          }
         },
         "name": "P049",
         "offsetgroup": "P049",
         "orientation": "v",
         "showlegend": true,
         "textposition": "auto",
         "type": "bar",
         "x": [
          "anorganic_artifact",
          "bladder",
          "blue_cloth",
          "colon",
          "fat",
          "foil",
          "small_bowel",
          "liver",
          "organic_artifact",
          "peritoneum",
          "skin",
          "spleen",
          "stomach",
          "unsure",
          "white_compress"
         ],
         "xaxis": "x",
         "y": [
          5425,
          75443,
          120217,
          874958,
          226438,
          260325,
          1885292,
          46323,
          84,
          159060,
          619214,
          226178,
          302009,
          43732,
          70502
         ],
         "yaxis": "y"
        },
        {
         "alignmentgroup": "True",
         "hovertemplate": "subject_name=P050<br>set_type=train<br>label_name=%{x}<br>n_pixels=%{y}<extra></extra>",
         "legendgroup": "P050",
         "marker": {
          "color": "#636efa",
          "pattern": {
           "shape": ""
          }
         },
         "name": "P050",
         "offsetgroup": "P050",
         "orientation": "v",
         "showlegend": true,
         "textposition": "auto",
         "type": "bar",
         "x": [
          "anorganic_artifact",
          "background",
          "blue_cloth",
          "colon",
          "fat",
          "foil",
          "gallbladder",
          "small_bowel",
          "liver",
          "omentum",
          "peritoneum",
          "skin",
          "spleen",
          "stomach",
          "unsure",
          "white_compress"
         ],
         "xaxis": "x",
         "y": [
          17964,
          5687,
          1741,
          330046,
          86852,
          68705,
          2045,
          409177,
          150730,
          37789,
          58876,
          128343,
          119769,
          97290,
          1815,
          19171
         ],
         "yaxis": "y"
        },
        {
         "alignmentgroup": "True",
         "hovertemplate": "subject_name=P057<br>set_type=train<br>label_name=%{x}<br>n_pixels=%{y}<extra></extra>",
         "legendgroup": "P057",
         "marker": {
          "color": "#EF553B",
          "pattern": {
           "shape": ""
          }
         },
         "name": "P057",
         "offsetgroup": "P057",
         "orientation": "v",
         "showlegend": true,
         "textposition": "auto",
         "type": "bar",
         "x": [
          "anorganic_artifact",
          "background",
          "bladder",
          "blue_cloth",
          "colon",
          "fat",
          "foil",
          "gallbladder",
          "glove",
          "small_bowel",
          "liver",
          "omentum",
          "organic_artifact",
          "pancreas",
          "peritoneum",
          "skin",
          "spleen",
          "stomach",
          "unsure",
          "white_compress"
         ],
         "xaxis": "x",
         "y": [
          24611,
          860,
          28528,
          1000756,
          1359127,
          447201,
          617667,
          26134,
          576188,
          946920,
          511849,
          235274,
          4865,
          43528,
          339157,
          560401,
          301207,
          245768,
          29485,
          73274
         ],
         "yaxis": "y"
        },
        {
         "alignmentgroup": "True",
         "hovertemplate": "subject_name=P041<br>set_type=train<br>label_name=%{x}<br>n_pixels=%{y}<extra></extra>",
         "legendgroup": "P041",
         "marker": {
          "color": "#00cc96",
          "pattern": {
           "shape": ""
          }
         },
         "name": "P041",
         "offsetgroup": "P041",
         "orientation": "v",
         "showlegend": true,
         "textposition": "auto",
         "type": "bar",
         "x": [
          "background",
          "bladder",
          "blue_cloth",
          "colon",
          "fat",
          "foil",
          "small_bowel",
          "liver",
          "metal",
          "omentum",
          "peritoneum",
          "skin",
          "spleen",
          "stomach",
          "unsure",
          "white_compress"
         ],
         "xaxis": "x",
         "y": [
          3403,
          20242,
          322805,
          207037,
          23235,
          48984,
          280888,
          61400,
          5670,
          22361,
          28159,
          134855,
          26589,
          38899,
          823,
          3450
         ],
         "yaxis": "y"
        },
        {
         "alignmentgroup": "True",
         "hovertemplate": "subject_name=P045<br>set_type=train<br>label_name=%{x}<br>n_pixels=%{y}<extra></extra>",
         "legendgroup": "P045",
         "marker": {
          "color": "#ab63fa",
          "pattern": {
           "shape": ""
          }
         },
         "name": "P045",
         "offsetgroup": "P045",
         "orientation": "v",
         "showlegend": true,
         "textposition": "auto",
         "type": "bar",
         "x": [
          "background",
          "bladder",
          "blue_cloth",
          "colon",
          "fat",
          "foil",
          "heart",
          "small_bowel",
          "liver",
          "lung",
          "omentum",
          "peritoneum",
          "skin",
          "spleen",
          "stomach",
          "unsure",
          "white_compress"
         ],
         "xaxis": "x",
         "y": [
          3806,
          38390,
          1571891,
          2239734,
          251939,
          284147,
          60691,
          463297,
          399507,
          35707,
          20999,
          309644,
          567739,
          243444,
          203890,
          5530,
          58045
         ],
         "yaxis": "y"
        },
        {
         "alignmentgroup": "True",
         "hovertemplate": "subject_name=P043<br>set_type=test<br>label_name=%{x}<br>n_pixels=%{y}<extra></extra>",
         "legendgroup": "P043",
         "marker": {
          "color": "#FFA15A",
          "pattern": {
           "shape": ""
          }
         },
         "name": "P043",
         "offsetgroup": "P043",
         "orientation": "v",
         "showlegend": true,
         "textposition": "auto",
         "type": "bar",
         "x": [
          "bladder",
          "blue_cloth",
          "colon",
          "gallbladder",
          "heart",
          "small_bowel",
          "liver",
          "lung",
          "omentum",
          "stomach"
         ],
         "xaxis": "x2",
         "y": [
          12084,
          4134078,
          485800,
          15173,
          299080,
          868617,
          472047,
          138006,
          5534,
          20781
         ],
         "yaxis": "y2"
        },
        {
         "alignmentgroup": "True",
         "hovertemplate": "subject_name=P068<br>set_type=test<br>label_name=%{x}<br>n_pixels=%{y}<extra></extra>",
         "legendgroup": "P068",
         "marker": {
          "color": "#19d3f3",
          "pattern": {
           "shape": ""
          }
         },
         "name": "P068",
         "offsetgroup": "P068",
         "orientation": "v",
         "showlegend": true,
         "textposition": "auto",
         "type": "bar",
         "x": [
          "bladder",
          "blue_cloth",
          "colon",
          "fat",
          "gallbladder",
          "glove",
          "small_bowel",
          "liver",
          "metal",
          "omentum",
          "organic_artifact",
          "pancreas",
          "peritoneum",
          "skin",
          "spleen",
          "stomach",
          "unsure"
         ],
         "xaxis": "x2",
         "y": [
          61163,
          3544839,
          653212,
          6169,
          16101,
          694343,
          775833,
          160268,
          160161,
          57922,
          15267,
          31731,
          11092,
          4549,
          401571,
          428975,
          42404
         ],
         "yaxis": "y2"
        },
        {
         "alignmentgroup": "True",
         "hovertemplate": "subject_name=P044<br>set_type=train<br>label_name=%{x}<br>n_pixels=%{y}<extra></extra>",
         "legendgroup": "P044",
         "marker": {
          "color": "#FF6692",
          "pattern": {
           "shape": ""
          }
         },
         "name": "P044",
         "offsetgroup": "P044",
         "orientation": "v",
         "showlegend": true,
         "textposition": "auto",
         "type": "bar",
         "x": [
          "blue_cloth",
          "colon",
          "fat",
          "foil",
          "heart",
          "small_bowel",
          "liver",
          "lung",
          "metal",
          "muscle",
          "omentum",
          "peritoneum",
          "skin",
          "spleen",
          "stomach",
          "white_compress"
         ],
         "xaxis": "x",
         "y": [
          1629696,
          1167445,
          396217,
          500179,
          129031,
          1356749,
          354475,
          35656,
          52353,
          20820,
          11984,
          191229,
          908433,
          142739,
          52801,
          115793
         ],
         "yaxis": "y"
        },
        {
         "alignmentgroup": "True",
         "hovertemplate": "subject_name=P058<br>set_type=train<br>label_name=%{x}<br>n_pixels=%{y}<extra></extra>",
         "legendgroup": "P058",
         "marker": {
          "color": "#B6E880",
          "pattern": {
           "shape": ""
          }
         },
         "name": "P058",
         "offsetgroup": "P058",
         "orientation": "v",
         "showlegend": true,
         "textposition": "auto",
         "type": "bar",
         "x": [
          "blue_cloth",
          "colon",
          "colon_peritoneum",
          "fat",
          "heart",
          "small_bowel",
          "kidney",
          "kidney_with_Gerotas_fascia",
          "liver",
          "lung",
          "metal",
          "omentum",
          "pancreas",
          "peritoneum",
          "skin",
          "spleen",
          "stomach",
          "unsure",
          "major_vein"
         ],
         "xaxis": "x",
         "y": [
          8020256,
          1882029,
          158035,
          319913,
          412418,
          1139959,
          82958,
          232310,
          688786,
          384547,
          857801,
          67931,
          145214,
          749311,
          667542,
          246650,
          33669,
          111180,
          81091
         ],
         "yaxis": "y"
        },
        {
         "alignmentgroup": "True",
         "hovertemplate": "subject_name=P069<br>set_type=train<br>label_name=%{x}<br>n_pixels=%{y}<extra></extra>",
         "legendgroup": "P069",
         "marker": {
          "color": "#FF97FF",
          "pattern": {
           "shape": ""
          }
         },
         "name": "P069",
         "offsetgroup": "P069",
         "orientation": "v",
         "showlegend": true,
         "textposition": "auto",
         "type": "bar",
         "x": [
          "blue_cloth",
          "colon",
          "fat",
          "gallbladder",
          "small_bowel",
          "liver",
          "metal",
          "omentum",
          "peritoneum",
          "skin",
          "spleen",
          "stomach",
          "unsure"
         ],
         "xaxis": "x",
         "y": [
          1861123,
          996205,
          38661,
          50273,
          868826,
          364633,
          1260341,
          53971,
          33859,
          308041,
          135865,
          165472,
          6730
         ],
         "yaxis": "y"
        },
        {
         "alignmentgroup": "True",
         "hovertemplate": "subject_name=P071<br>set_type=train<br>label_name=%{x}<br>n_pixels=%{y}<extra></extra>",
         "legendgroup": "P071",
         "marker": {
          "color": "#FECB52",
          "pattern": {
           "shape": ""
          }
         },
         "name": "P071",
         "offsetgroup": "P071",
         "orientation": "v",
         "showlegend": true,
         "textposition": "auto",
         "type": "bar",
         "x": [
          "blue_cloth",
          "colon",
          "fat",
          "gallbladder",
          "glove",
          "small_bowel",
          "liver",
          "metal",
          "omentum",
          "organic_artifact",
          "pancreas",
          "peritoneum",
          "skin",
          "spleen",
          "stomach",
          "unsure"
         ],
         "xaxis": "x",
         "y": [
          2054848,
          325804,
          8830,
          27784,
          1274933,
          557684,
          140376,
          285584,
          135377,
          26788,
          66985,
          589,
          23562,
          182573,
          719042,
          6041
         ],
         "yaxis": "y"
        }
       ],
       "layout": {
        "annotations": [
         {
          "font": {},
          "showarrow": false,
          "text": "set_type=train",
          "x": 0.245,
          "xanchor": "center",
          "xref": "paper",
          "y": 1,
          "yanchor": "bottom",
          "yref": "paper"
         },
         {
          "font": {},
          "showarrow": false,
          "text": "set_type=test",
          "x": 0.755,
          "xanchor": "center",
          "xref": "paper",
          "y": 1,
          "yanchor": "bottom",
          "yref": "paper"
         }
        ],
        "barmode": "relative",
        "height": 500,
        "legend": {
         "title": {
          "text": "subject_name"
         },
         "tracegroupgap": 0
        },
        "margin": {
         "t": 60
        },
        "template": {
         "data": {
          "bar": [
           {
            "error_x": {
             "color": "#2a3f5f"
            },
            "error_y": {
             "color": "#2a3f5f"
            },
            "marker": {
             "line": {
              "color": "#E5ECF6",
              "width": 0.5
             },
             "pattern": {
              "fillmode": "overlay",
              "size": 10,
              "solidity": 0.2
             }
            },
            "type": "bar"
           }
          ],
          "barpolar": [
           {
            "marker": {
             "line": {
              "color": "#E5ECF6",
              "width": 0.5
             },
             "pattern": {
              "fillmode": "overlay",
              "size": 10,
              "solidity": 0.2
             }
            },
            "type": "barpolar"
           }
          ],
          "carpet": [
           {
            "aaxis": {
             "endlinecolor": "#2a3f5f",
             "gridcolor": "white",
             "linecolor": "white",
             "minorgridcolor": "white",
             "startlinecolor": "#2a3f5f"
            },
            "baxis": {
             "endlinecolor": "#2a3f5f",
             "gridcolor": "white",
             "linecolor": "white",
             "minorgridcolor": "white",
             "startlinecolor": "#2a3f5f"
            },
            "type": "carpet"
           }
          ],
          "choropleth": [
           {
            "colorbar": {
             "outlinewidth": 0,
             "ticks": ""
            },
            "type": "choropleth"
           }
          ],
          "contour": [
           {
            "colorbar": {
             "outlinewidth": 0,
             "ticks": ""
            },
            "colorscale": [
             [
              0,
              "#0d0887"
             ],
             [
              0.1111111111111111,
              "#46039f"
             ],
             [
              0.2222222222222222,
              "#7201a8"
             ],
             [
              0.3333333333333333,
              "#9c179e"
             ],
             [
              0.4444444444444444,
              "#bd3786"
             ],
             [
              0.5555555555555556,
              "#d8576b"
             ],
             [
              0.6666666666666666,
              "#ed7953"
             ],
             [
              0.7777777777777778,
              "#fb9f3a"
             ],
             [
              0.8888888888888888,
              "#fdca26"
             ],
             [
              1,
              "#f0f921"
             ]
            ],
            "type": "contour"
           }
          ],
          "contourcarpet": [
           {
            "colorbar": {
             "outlinewidth": 0,
             "ticks": ""
            },
            "type": "contourcarpet"
           }
          ],
          "heatmap": [
           {
            "colorbar": {
             "outlinewidth": 0,
             "ticks": ""
            },
            "colorscale": [
             [
              0,
              "#0d0887"
             ],
             [
              0.1111111111111111,
              "#46039f"
             ],
             [
              0.2222222222222222,
              "#7201a8"
             ],
             [
              0.3333333333333333,
              "#9c179e"
             ],
             [
              0.4444444444444444,
              "#bd3786"
             ],
             [
              0.5555555555555556,
              "#d8576b"
             ],
             [
              0.6666666666666666,
              "#ed7953"
             ],
             [
              0.7777777777777778,
              "#fb9f3a"
             ],
             [
              0.8888888888888888,
              "#fdca26"
             ],
             [
              1,
              "#f0f921"
             ]
            ],
            "type": "heatmap"
           }
          ],
          "heatmapgl": [
           {
            "colorbar": {
             "outlinewidth": 0,
             "ticks": ""
            },
            "colorscale": [
             [
              0,
              "#0d0887"
             ],
             [
              0.1111111111111111,
              "#46039f"
             ],
             [
              0.2222222222222222,
              "#7201a8"
             ],
             [
              0.3333333333333333,
              "#9c179e"
             ],
             [
              0.4444444444444444,
              "#bd3786"
             ],
             [
              0.5555555555555556,
              "#d8576b"
             ],
             [
              0.6666666666666666,
              "#ed7953"
             ],
             [
              0.7777777777777778,
              "#fb9f3a"
             ],
             [
              0.8888888888888888,
              "#fdca26"
             ],
             [
              1,
              "#f0f921"
             ]
            ],
            "type": "heatmapgl"
           }
          ],
          "histogram": [
           {
            "marker": {
             "pattern": {
              "fillmode": "overlay",
              "size": 10,
              "solidity": 0.2
             }
            },
            "type": "histogram"
           }
          ],
          "histogram2d": [
           {
            "colorbar": {
             "outlinewidth": 0,
             "ticks": ""
            },
            "colorscale": [
             [
              0,
              "#0d0887"
             ],
             [
              0.1111111111111111,
              "#46039f"
             ],
             [
              0.2222222222222222,
              "#7201a8"
             ],
             [
              0.3333333333333333,
              "#9c179e"
             ],
             [
              0.4444444444444444,
              "#bd3786"
             ],
             [
              0.5555555555555556,
              "#d8576b"
             ],
             [
              0.6666666666666666,
              "#ed7953"
             ],
             [
              0.7777777777777778,
              "#fb9f3a"
             ],
             [
              0.8888888888888888,
              "#fdca26"
             ],
             [
              1,
              "#f0f921"
             ]
            ],
            "type": "histogram2d"
           }
          ],
          "histogram2dcontour": [
           {
            "colorbar": {
             "outlinewidth": 0,
             "ticks": ""
            },
            "colorscale": [
             [
              0,
              "#0d0887"
             ],
             [
              0.1111111111111111,
              "#46039f"
             ],
             [
              0.2222222222222222,
              "#7201a8"
             ],
             [
              0.3333333333333333,
              "#9c179e"
             ],
             [
              0.4444444444444444,
              "#bd3786"
             ],
             [
              0.5555555555555556,
              "#d8576b"
             ],
             [
              0.6666666666666666,
              "#ed7953"
             ],
             [
              0.7777777777777778,
              "#fb9f3a"
             ],
             [
              0.8888888888888888,
              "#fdca26"
             ],
             [
              1,
              "#f0f921"
             ]
            ],
            "type": "histogram2dcontour"
           }
          ],
          "mesh3d": [
           {
            "colorbar": {
             "outlinewidth": 0,
             "ticks": ""
            },
            "type": "mesh3d"
           }
          ],
          "parcoords": [
           {
            "line": {
             "colorbar": {
              "outlinewidth": 0,
              "ticks": ""
             }
            },
            "type": "parcoords"
           }
          ],
          "pie": [
           {
            "automargin": true,
            "type": "pie"
           }
          ],
          "scatter": [
           {
            "fillpattern": {
             "fillmode": "overlay",
             "size": 10,
             "solidity": 0.2
            },
            "type": "scatter"
           }
          ],
          "scatter3d": [
           {
            "line": {
             "colorbar": {
              "outlinewidth": 0,
              "ticks": ""
             }
            },
            "marker": {
             "colorbar": {
              "outlinewidth": 0,
              "ticks": ""
             }
            },
            "type": "scatter3d"
           }
          ],
          "scattercarpet": [
           {
            "marker": {
             "colorbar": {
              "outlinewidth": 0,
              "ticks": ""
             }
            },
            "type": "scattercarpet"
           }
          ],
          "scattergeo": [
           {
            "marker": {
             "colorbar": {
              "outlinewidth": 0,
              "ticks": ""
             }
            },
            "type": "scattergeo"
           }
          ],
          "scattergl": [
           {
            "marker": {
             "colorbar": {
              "outlinewidth": 0,
              "ticks": ""
             }
            },
            "type": "scattergl"
           }
          ],
          "scattermapbox": [
           {
            "marker": {
             "colorbar": {
              "outlinewidth": 0,
              "ticks": ""
             }
            },
            "type": "scattermapbox"
           }
          ],
          "scatterpolar": [
           {
            "marker": {
             "colorbar": {
              "outlinewidth": 0,
              "ticks": ""
             }
            },
            "type": "scatterpolar"
           }
          ],
          "scatterpolargl": [
           {
            "marker": {
             "colorbar": {
              "outlinewidth": 0,
              "ticks": ""
             }
            },
            "type": "scatterpolargl"
           }
          ],
          "scatterternary": [
           {
            "marker": {
             "colorbar": {
              "outlinewidth": 0,
              "ticks": ""
             }
            },
            "type": "scatterternary"
           }
          ],
          "surface": [
           {
            "colorbar": {
             "outlinewidth": 0,
             "ticks": ""
            },
            "colorscale": [
             [
              0,
              "#0d0887"
             ],
             [
              0.1111111111111111,
              "#46039f"
             ],
             [
              0.2222222222222222,
              "#7201a8"
             ],
             [
              0.3333333333333333,
              "#9c179e"
             ],
             [
              0.4444444444444444,
              "#bd3786"
             ],
             [
              0.5555555555555556,
              "#d8576b"
             ],
             [
              0.6666666666666666,
              "#ed7953"
             ],
             [
              0.7777777777777778,
              "#fb9f3a"
             ],
             [
              0.8888888888888888,
              "#fdca26"
             ],
             [
              1,
              "#f0f921"
             ]
            ],
            "type": "surface"
           }
          ],
          "table": [
           {
            "cells": {
             "fill": {
              "color": "#EBF0F8"
             },
             "line": {
              "color": "white"
             }
            },
            "header": {
             "fill": {
              "color": "#C8D4E3"
             },
             "line": {
              "color": "white"
             }
            },
            "type": "table"
           }
          ]
         },
         "layout": {
          "annotationdefaults": {
           "arrowcolor": "#2a3f5f",
           "arrowhead": 0,
           "arrowwidth": 1
          },
          "autotypenumbers": "strict",
          "coloraxis": {
           "colorbar": {
            "outlinewidth": 0,
            "ticks": ""
           }
          },
          "colorscale": {
           "diverging": [
            [
             0,
             "#8e0152"
            ],
            [
             0.1,
             "#c51b7d"
            ],
            [
             0.2,
             "#de77ae"
            ],
            [
             0.3,
             "#f1b6da"
            ],
            [
             0.4,
             "#fde0ef"
            ],
            [
             0.5,
             "#f7f7f7"
            ],
            [
             0.6,
             "#e6f5d0"
            ],
            [
             0.7,
             "#b8e186"
            ],
            [
             0.8,
             "#7fbc41"
            ],
            [
             0.9,
             "#4d9221"
            ],
            [
             1,
             "#276419"
            ]
           ],
           "sequential": [
            [
             0,
             "#0d0887"
            ],
            [
             0.1111111111111111,
             "#46039f"
            ],
            [
             0.2222222222222222,
             "#7201a8"
            ],
            [
             0.3333333333333333,
             "#9c179e"
            ],
            [
             0.4444444444444444,
             "#bd3786"
            ],
            [
             0.5555555555555556,
             "#d8576b"
            ],
            [
             0.6666666666666666,
             "#ed7953"
            ],
            [
             0.7777777777777778,
             "#fb9f3a"
            ],
            [
             0.8888888888888888,
             "#fdca26"
            ],
            [
             1,
             "#f0f921"
            ]
           ],
           "sequentialminus": [
            [
             0,
             "#0d0887"
            ],
            [
             0.1111111111111111,
             "#46039f"
            ],
            [
             0.2222222222222222,
             "#7201a8"
            ],
            [
             0.3333333333333333,
             "#9c179e"
            ],
            [
             0.4444444444444444,
             "#bd3786"
            ],
            [
             0.5555555555555556,
             "#d8576b"
            ],
            [
             0.6666666666666666,
             "#ed7953"
            ],
            [
             0.7777777777777778,
             "#fb9f3a"
            ],
            [
             0.8888888888888888,
             "#fdca26"
            ],
            [
             1,
             "#f0f921"
            ]
           ]
          },
          "colorway": [
           "#636efa",
           "#EF553B",
           "#00cc96",
           "#ab63fa",
           "#FFA15A",
           "#19d3f3",
           "#FF6692",
           "#B6E880",
           "#FF97FF",
           "#FECB52"
          ],
          "font": {
           "color": "#2a3f5f"
          },
          "geo": {
           "bgcolor": "white",
           "lakecolor": "white",
           "landcolor": "#E5ECF6",
           "showlakes": true,
           "showland": true,
           "subunitcolor": "white"
          },
          "hoverlabel": {
           "align": "left"
          },
          "hovermode": "closest",
          "mapbox": {
           "style": "light"
          },
          "paper_bgcolor": "white",
          "plot_bgcolor": "#E5ECF6",
          "polar": {
           "angularaxis": {
            "gridcolor": "white",
            "linecolor": "white",
            "ticks": ""
           },
           "bgcolor": "#E5ECF6",
           "radialaxis": {
            "gridcolor": "white",
            "linecolor": "white",
            "ticks": ""
           }
          },
          "scene": {
           "xaxis": {
            "backgroundcolor": "#E5ECF6",
            "gridcolor": "white",
            "gridwidth": 2,
            "linecolor": "white",
            "showbackground": true,
            "ticks": "",
            "zerolinecolor": "white"
           },
           "yaxis": {
            "backgroundcolor": "#E5ECF6",
            "gridcolor": "white",
            "gridwidth": 2,
            "linecolor": "white",
            "showbackground": true,
            "ticks": "",
            "zerolinecolor": "white"
           },
           "zaxis": {
            "backgroundcolor": "#E5ECF6",
            "gridcolor": "white",
            "gridwidth": 2,
            "linecolor": "white",
            "showbackground": true,
            "ticks": "",
            "zerolinecolor": "white"
           }
          },
          "shapedefaults": {
           "line": {
            "color": "#2a3f5f"
           }
          },
          "ternary": {
           "aaxis": {
            "gridcolor": "white",
            "linecolor": "white",
            "ticks": ""
           },
           "baxis": {
            "gridcolor": "white",
            "linecolor": "white",
            "ticks": ""
           },
           "bgcolor": "#E5ECF6",
           "caxis": {
            "gridcolor": "white",
            "linecolor": "white",
            "ticks": ""
           }
          },
          "title": {
           "x": 0.05
          },
          "xaxis": {
           "automargin": true,
           "gridcolor": "white",
           "linecolor": "white",
           "ticks": "",
           "title": {
            "standoff": 15
           },
           "zerolinecolor": "white",
           "zerolinewidth": 2
          },
          "yaxis": {
           "automargin": true,
           "gridcolor": "white",
           "linecolor": "white",
           "ticks": "",
           "title": {
            "standoff": 15
           },
           "zerolinecolor": "white",
           "zerolinewidth": 2
          }
         }
        },
        "title": {
         "text": "Number of images per label",
         "x": 0.5
        },
        "width": 2000,
        "xaxis": {
         "anchor": "y",
         "categoryarray": [
          "abdominal_linen",
          "anorganic_artifact",
          "background",
          "bladder",
          "blue_cloth",
          "colon",
          "colon_peritoneum",
          "fat",
          "foil",
          "gallbladder",
          "glove",
          "heart",
          "small_bowel",
          "kidney",
          "kidney_with_Gerotas_fascia",
          "liver",
          "lung",
          "metal",
          "muscle",
          "omentum",
          "organic_artifact",
          "overlap",
          "pancreas",
          "peritoneum",
          "skin",
          "spleen",
          "stomach",
          "syringe",
          "tube",
          "unlabeled",
          "unsure",
          "major_vein",
          "white_compress"
         ],
         "categoryorder": "array",
         "domain": [
          0,
          0.49
         ],
         "title": {
          "text": "label_name"
         }
        },
        "xaxis2": {
         "anchor": "y2",
         "domain": [
          0.51,
          1
         ],
         "matches": "x",
         "title": {
          "text": "label_name"
         }
        },
        "yaxis": {
         "anchor": "x",
         "domain": [
          0,
          1
         ],
         "showticklabels": true,
         "title": {
          "text": "n_pixels"
         }
        },
        "yaxis2": {
         "anchor": "x2",
         "domain": [
          0,
          1
         ],
         "showticklabels": true
        }
       }
      },
      "text/html": [
       "<div>                            <div id=\"3906a7c8-603d-41d4-89e7-a54d87bdc1f7\" class=\"plotly-graph-div\" style=\"height:500px; width:2000px;\"></div>            <script type=\"text/javascript\">                require([\"plotly\"], function(Plotly) {                    window.PLOTLYENV=window.PLOTLYENV || {};                                    if (document.getElementById(\"3906a7c8-603d-41d4-89e7-a54d87bdc1f7\")) {                    Plotly.newPlot(                        \"3906a7c8-603d-41d4-89e7-a54d87bdc1f7\",                        [{\"alignmentgroup\":\"True\",\"hovertemplate\":\"subject_name=P059<br>set_type=train<br>label_name=%{x}<br>n_pixels=%{y}<extra></extra>\",\"legendgroup\":\"P059\",\"marker\":{\"color\":\"#636efa\",\"pattern\":{\"shape\":\"\"}},\"name\":\"P059\",\"offsetgroup\":\"P059\",\"orientation\":\"v\",\"showlegend\":true,\"textposition\":\"auto\",\"x\":[\"abdominal_linen\",\"bladder\",\"blue_cloth\",\"colon\",\"foil\",\"gallbladder\",\"glove\",\"small_bowel\",\"kidney\",\"kidney_with_Gerotas_fascia\",\"liver\",\"omentum\",\"organic_artifact\",\"pancreas\",\"peritoneum\",\"skin\",\"spleen\",\"stomach\",\"unsure\",\"major_vein\"],\"xaxis\":\"x\",\"y\":[678833,210231,2024534,950981,7287,23499,1143977,1012785,69585,34067,104458,8757,2285,46524,355550,624,63109,3531,12985,4798],\"yaxis\":\"y\",\"type\":\"bar\"},{\"alignmentgroup\":\"True\",\"hovertemplate\":\"subject_name=P060<br>set_type=train<br>label_name=%{x}<br>n_pixels=%{y}<extra></extra>\",\"legendgroup\":\"P060\",\"marker\":{\"color\":\"#EF553B\",\"pattern\":{\"shape\":\"\"}},\"name\":\"P060\",\"offsetgroup\":\"P060\",\"orientation\":\"v\",\"showlegend\":true,\"textposition\":\"auto\",\"x\":[\"abdominal_linen\",\"bladder\",\"blue_cloth\",\"colon\",\"fat\",\"foil\",\"gallbladder\",\"glove\",\"heart\",\"small_bowel\",\"kidney_with_Gerotas_fascia\",\"liver\",\"lung\",\"metal\",\"muscle\",\"omentum\",\"organic_artifact\",\"pancreas\",\"peritoneum\",\"skin\",\"spleen\",\"stomach\",\"unsure\",\"major_vein\",\"white_compress\"],\"xaxis\":\"x\",\"y\":[365393,173954,7059998,986773,1537,102112,24148,897954,322532,2302419,90180,887503,350135,334018,116821,117195,44236,56213,406678,277007,278381,144422,10337,2351,7703],\"yaxis\":\"y\",\"type\":\"bar\"},{\"alignmentgroup\":\"True\",\"hovertemplate\":\"subject_name=P061<br>set_type=train<br>label_name=%{x}<br>n_pixels=%{y}<extra></extra>\",\"legendgroup\":\"P061\",\"marker\":{\"color\":\"#00cc96\",\"pattern\":{\"shape\":\"\"}},\"name\":\"P061\",\"offsetgroup\":\"P061\",\"orientation\":\"v\",\"showlegend\":true,\"textposition\":\"auto\",\"x\":[\"abdominal_linen\",\"anorganic_artifact\",\"background\",\"bladder\",\"blue_cloth\",\"colon\",\"colon_peritoneum\",\"fat\",\"foil\",\"glove\",\"small_bowel\",\"kidney\",\"liver\",\"metal\",\"muscle\",\"omentum\",\"organic_artifact\",\"pancreas\",\"peritoneum\",\"skin\",\"spleen\",\"stomach\",\"unsure\"],\"xaxis\":\"x\",\"y\":[157270,2948,5599,89356,339904,684132,28425,258409,132252,85601,1469287,118566,123374,724254,3343,2895,2603,5284,265394,584610,193362,193472,59260],\"yaxis\":\"y\",\"type\":\"bar\"},{\"alignmentgroup\":\"True\",\"hovertemplate\":\"subject_name=P062<br>set_type=test<br>label_name=%{x}<br>n_pixels=%{y}<extra></extra>\",\"legendgroup\":\"P062\",\"marker\":{\"color\":\"#ab63fa\",\"pattern\":{\"shape\":\"\"}},\"name\":\"P062\",\"offsetgroup\":\"P062\",\"orientation\":\"v\",\"showlegend\":true,\"textposition\":\"auto\",\"x\":[\"abdominal_linen\",\"anorganic_artifact\",\"background\",\"bladder\",\"blue_cloth\",\"colon\",\"fat\",\"foil\",\"gallbladder\",\"glove\",\"heart\",\"small_bowel\",\"kidney\",\"kidney_with_Gerotas_fascia\",\"liver\",\"lung\",\"metal\",\"muscle\",\"omentum\",\"organic_artifact\",\"pancreas\",\"peritoneum\",\"skin\",\"spleen\",\"stomach\",\"unsure\",\"major_vein\",\"white_compress\"],\"xaxis\":\"x2\",\"y\":[657982,7563,12390,336663,5050683,1136697,90631,279911,67899,2639298,191815,2101479,196544,97186,699356,176447,703490,422701,228996,143841,37760,553096,1460324,141409,537690,36391,28751,87807],\"yaxis\":\"y2\",\"type\":\"bar\"},{\"alignmentgroup\":\"True\",\"hovertemplate\":\"subject_name=P070<br>set_type=train<br>label_name=%{x}<br>n_pixels=%{y}<extra></extra>\",\"legendgroup\":\"P070\",\"marker\":{\"color\":\"#FFA15A\",\"pattern\":{\"shape\":\"\"}},\"name\":\"P070\",\"offsetgroup\":\"P070\",\"orientation\":\"v\",\"showlegend\":true,\"textposition\":\"auto\",\"x\":[\"abdominal_linen\",\"anorganic_artifact\",\"background\",\"blue_cloth\",\"colon\",\"fat\",\"foil\",\"gallbladder\",\"glove\",\"heart\",\"small_bowel\",\"liver\",\"lung\",\"metal\",\"muscle\",\"omentum\",\"organic_artifact\",\"pancreas\",\"peritoneum\",\"skin\",\"spleen\",\"stomach\",\"unsure\",\"white_compress\"],\"xaxis\":\"x\",\"y\":[2841489,30213,11989,2212111,641258,126082,165918,58813,1448867,105777,658984,825279,409972,486042,135603,92771,241699,75801,109930,464317,466637,342457,18303,10488],\"yaxis\":\"y\",\"type\":\"bar\"},{\"alignmentgroup\":\"True\",\"hovertemplate\":\"subject_name=P072<br>set_type=test<br>label_name=%{x}<br>n_pixels=%{y}<extra></extra>\",\"legendgroup\":\"P072\",\"marker\":{\"color\":\"#19d3f3\",\"pattern\":{\"shape\":\"\"}},\"name\":\"P072\",\"offsetgroup\":\"P072\",\"orientation\":\"v\",\"showlegend\":true,\"textposition\":\"auto\",\"x\":[\"abdominal_linen\",\"anorganic_artifact\",\"background\",\"bladder\",\"blue_cloth\",\"colon\",\"fat\",\"foil\",\"gallbladder\",\"glove\",\"heart\",\"small_bowel\",\"kidney\",\"kidney_with_Gerotas_fascia\",\"liver\",\"lung\",\"metal\",\"muscle\",\"omentum\",\"organic_artifact\",\"pancreas\",\"peritoneum\",\"skin\",\"spleen\",\"stomach\",\"tube\",\"unsure\",\"major_vein\",\"white_compress\"],\"xaxis\":\"x2\",\"y\":[1561436,11088,37808,110850,3575825,744040,278154,87720,90647,1768989,198662,1343896,155822,5940,704002,106008,1339130,228905,169241,138764,35718,168458,650075,590553,259481,1715,56941,17158,1374],\"yaxis\":\"y2\",\"type\":\"bar\"},{\"alignmentgroup\":\"True\",\"hovertemplate\":\"subject_name=P046<br>set_type=test<br>label_name=%{x}<br>n_pixels=%{y}<extra></extra>\",\"legendgroup\":\"P046\",\"marker\":{\"color\":\"#FF6692\",\"pattern\":{\"shape\":\"\"}},\"name\":\"P046\",\"offsetgroup\":\"P046\",\"orientation\":\"v\",\"showlegend\":true,\"textposition\":\"auto\",\"x\":[\"anorganic_artifact\",\"background\",\"bladder\",\"blue_cloth\",\"colon\",\"fat\",\"foil\",\"glove\",\"small_bowel\",\"liver\",\"metal\",\"omentum\",\"organic_artifact\",\"peritoneum\",\"skin\",\"spleen\",\"stomach\",\"unsure\"],\"xaxis\":\"x2\",\"y\":[8156,5032,67026,304174,397693,335039,243011,3160,948669,537597,731227,115578,1485,191527,592433,303167,128055,2171],\"yaxis\":\"y2\",\"type\":\"bar\"},{\"alignmentgroup\":\"True\",\"hovertemplate\":\"subject_name=P047<br>set_type=train<br>label_name=%{x}<br>n_pixels=%{y}<extra></extra>\",\"legendgroup\":\"P047\",\"marker\":{\"color\":\"#B6E880\",\"pattern\":{\"shape\":\"\"}},\"name\":\"P047\",\"offsetgroup\":\"P047\",\"orientation\":\"v\",\"showlegend\":true,\"textposition\":\"auto\",\"x\":[\"anorganic_artifact\",\"background\",\"bladder\",\"blue_cloth\",\"colon\",\"fat\",\"foil\",\"gallbladder\",\"small_bowel\",\"liver\",\"metal\",\"omentum\",\"organic_artifact\",\"peritoneum\",\"skin\",\"spleen\",\"stomach\",\"unsure\",\"white_compress\"],\"xaxis\":\"x\",\"y\":[1167,10181,5821,10795,178941,180379,98175,8943,608238,648589,511090,7214,102,102455,264457,234115,192707,3748,4883],\"yaxis\":\"y\",\"type\":\"bar\"},{\"alignmentgroup\":\"True\",\"hovertemplate\":\"subject_name=P048<br>set_type=train<br>label_name=%{x}<br>n_pixels=%{y}<extra></extra>\",\"legendgroup\":\"P048\",\"marker\":{\"color\":\"#FF97FF\",\"pattern\":{\"shape\":\"\"}},\"name\":\"P048\",\"offsetgroup\":\"P048\",\"orientation\":\"v\",\"showlegend\":true,\"textposition\":\"auto\",\"x\":[\"anorganic_artifact\",\"background\",\"bladder\",\"blue_cloth\",\"colon\",\"fat\",\"foil\",\"gallbladder\",\"small_bowel\",\"liver\",\"organic_artifact\",\"peritoneum\",\"skin\",\"spleen\",\"stomach\",\"unsure\",\"white_compress\"],\"xaxis\":\"x\",\"y\":[9298,32329,18265,192625,723007,298978,457930,6968,1098350,162242,20445,122116,1148459,126028,77340,1179,112441],\"yaxis\":\"y\",\"type\":\"bar\"},{\"alignmentgroup\":\"True\",\"hovertemplate\":\"subject_name=P049<br>set_type=train<br>label_name=%{x}<br>n_pixels=%{y}<extra></extra>\",\"legendgroup\":\"P049\",\"marker\":{\"color\":\"#FECB52\",\"pattern\":{\"shape\":\"\"}},\"name\":\"P049\",\"offsetgroup\":\"P049\",\"orientation\":\"v\",\"showlegend\":true,\"textposition\":\"auto\",\"x\":[\"anorganic_artifact\",\"bladder\",\"blue_cloth\",\"colon\",\"fat\",\"foil\",\"small_bowel\",\"liver\",\"organic_artifact\",\"peritoneum\",\"skin\",\"spleen\",\"stomach\",\"unsure\",\"white_compress\"],\"xaxis\":\"x\",\"y\":[5425,75443,120217,874958,226438,260325,1885292,46323,84,159060,619214,226178,302009,43732,70502],\"yaxis\":\"y\",\"type\":\"bar\"},{\"alignmentgroup\":\"True\",\"hovertemplate\":\"subject_name=P050<br>set_type=train<br>label_name=%{x}<br>n_pixels=%{y}<extra></extra>\",\"legendgroup\":\"P050\",\"marker\":{\"color\":\"#636efa\",\"pattern\":{\"shape\":\"\"}},\"name\":\"P050\",\"offsetgroup\":\"P050\",\"orientation\":\"v\",\"showlegend\":true,\"textposition\":\"auto\",\"x\":[\"anorganic_artifact\",\"background\",\"blue_cloth\",\"colon\",\"fat\",\"foil\",\"gallbladder\",\"small_bowel\",\"liver\",\"omentum\",\"peritoneum\",\"skin\",\"spleen\",\"stomach\",\"unsure\",\"white_compress\"],\"xaxis\":\"x\",\"y\":[17964,5687,1741,330046,86852,68705,2045,409177,150730,37789,58876,128343,119769,97290,1815,19171],\"yaxis\":\"y\",\"type\":\"bar\"},{\"alignmentgroup\":\"True\",\"hovertemplate\":\"subject_name=P057<br>set_type=train<br>label_name=%{x}<br>n_pixels=%{y}<extra></extra>\",\"legendgroup\":\"P057\",\"marker\":{\"color\":\"#EF553B\",\"pattern\":{\"shape\":\"\"}},\"name\":\"P057\",\"offsetgroup\":\"P057\",\"orientation\":\"v\",\"showlegend\":true,\"textposition\":\"auto\",\"x\":[\"anorganic_artifact\",\"background\",\"bladder\",\"blue_cloth\",\"colon\",\"fat\",\"foil\",\"gallbladder\",\"glove\",\"small_bowel\",\"liver\",\"omentum\",\"organic_artifact\",\"pancreas\",\"peritoneum\",\"skin\",\"spleen\",\"stomach\",\"unsure\",\"white_compress\"],\"xaxis\":\"x\",\"y\":[24611,860,28528,1000756,1359127,447201,617667,26134,576188,946920,511849,235274,4865,43528,339157,560401,301207,245768,29485,73274],\"yaxis\":\"y\",\"type\":\"bar\"},{\"alignmentgroup\":\"True\",\"hovertemplate\":\"subject_name=P041<br>set_type=train<br>label_name=%{x}<br>n_pixels=%{y}<extra></extra>\",\"legendgroup\":\"P041\",\"marker\":{\"color\":\"#00cc96\",\"pattern\":{\"shape\":\"\"}},\"name\":\"P041\",\"offsetgroup\":\"P041\",\"orientation\":\"v\",\"showlegend\":true,\"textposition\":\"auto\",\"x\":[\"background\",\"bladder\",\"blue_cloth\",\"colon\",\"fat\",\"foil\",\"small_bowel\",\"liver\",\"metal\",\"omentum\",\"peritoneum\",\"skin\",\"spleen\",\"stomach\",\"unsure\",\"white_compress\"],\"xaxis\":\"x\",\"y\":[3403,20242,322805,207037,23235,48984,280888,61400,5670,22361,28159,134855,26589,38899,823,3450],\"yaxis\":\"y\",\"type\":\"bar\"},{\"alignmentgroup\":\"True\",\"hovertemplate\":\"subject_name=P045<br>set_type=train<br>label_name=%{x}<br>n_pixels=%{y}<extra></extra>\",\"legendgroup\":\"P045\",\"marker\":{\"color\":\"#ab63fa\",\"pattern\":{\"shape\":\"\"}},\"name\":\"P045\",\"offsetgroup\":\"P045\",\"orientation\":\"v\",\"showlegend\":true,\"textposition\":\"auto\",\"x\":[\"background\",\"bladder\",\"blue_cloth\",\"colon\",\"fat\",\"foil\",\"heart\",\"small_bowel\",\"liver\",\"lung\",\"omentum\",\"peritoneum\",\"skin\",\"spleen\",\"stomach\",\"unsure\",\"white_compress\"],\"xaxis\":\"x\",\"y\":[3806,38390,1571891,2239734,251939,284147,60691,463297,399507,35707,20999,309644,567739,243444,203890,5530,58045],\"yaxis\":\"y\",\"type\":\"bar\"},{\"alignmentgroup\":\"True\",\"hovertemplate\":\"subject_name=P043<br>set_type=test<br>label_name=%{x}<br>n_pixels=%{y}<extra></extra>\",\"legendgroup\":\"P043\",\"marker\":{\"color\":\"#FFA15A\",\"pattern\":{\"shape\":\"\"}},\"name\":\"P043\",\"offsetgroup\":\"P043\",\"orientation\":\"v\",\"showlegend\":true,\"textposition\":\"auto\",\"x\":[\"bladder\",\"blue_cloth\",\"colon\",\"gallbladder\",\"heart\",\"small_bowel\",\"liver\",\"lung\",\"omentum\",\"stomach\"],\"xaxis\":\"x2\",\"y\":[12084,4134078,485800,15173,299080,868617,472047,138006,5534,20781],\"yaxis\":\"y2\",\"type\":\"bar\"},{\"alignmentgroup\":\"True\",\"hovertemplate\":\"subject_name=P068<br>set_type=test<br>label_name=%{x}<br>n_pixels=%{y}<extra></extra>\",\"legendgroup\":\"P068\",\"marker\":{\"color\":\"#19d3f3\",\"pattern\":{\"shape\":\"\"}},\"name\":\"P068\",\"offsetgroup\":\"P068\",\"orientation\":\"v\",\"showlegend\":true,\"textposition\":\"auto\",\"x\":[\"bladder\",\"blue_cloth\",\"colon\",\"fat\",\"gallbladder\",\"glove\",\"small_bowel\",\"liver\",\"metal\",\"omentum\",\"organic_artifact\",\"pancreas\",\"peritoneum\",\"skin\",\"spleen\",\"stomach\",\"unsure\"],\"xaxis\":\"x2\",\"y\":[61163,3544839,653212,6169,16101,694343,775833,160268,160161,57922,15267,31731,11092,4549,401571,428975,42404],\"yaxis\":\"y2\",\"type\":\"bar\"},{\"alignmentgroup\":\"True\",\"hovertemplate\":\"subject_name=P044<br>set_type=train<br>label_name=%{x}<br>n_pixels=%{y}<extra></extra>\",\"legendgroup\":\"P044\",\"marker\":{\"color\":\"#FF6692\",\"pattern\":{\"shape\":\"\"}},\"name\":\"P044\",\"offsetgroup\":\"P044\",\"orientation\":\"v\",\"showlegend\":true,\"textposition\":\"auto\",\"x\":[\"blue_cloth\",\"colon\",\"fat\",\"foil\",\"heart\",\"small_bowel\",\"liver\",\"lung\",\"metal\",\"muscle\",\"omentum\",\"peritoneum\",\"skin\",\"spleen\",\"stomach\",\"white_compress\"],\"xaxis\":\"x\",\"y\":[1629696,1167445,396217,500179,129031,1356749,354475,35656,52353,20820,11984,191229,908433,142739,52801,115793],\"yaxis\":\"y\",\"type\":\"bar\"},{\"alignmentgroup\":\"True\",\"hovertemplate\":\"subject_name=P058<br>set_type=train<br>label_name=%{x}<br>n_pixels=%{y}<extra></extra>\",\"legendgroup\":\"P058\",\"marker\":{\"color\":\"#B6E880\",\"pattern\":{\"shape\":\"\"}},\"name\":\"P058\",\"offsetgroup\":\"P058\",\"orientation\":\"v\",\"showlegend\":true,\"textposition\":\"auto\",\"x\":[\"blue_cloth\",\"colon\",\"colon_peritoneum\",\"fat\",\"heart\",\"small_bowel\",\"kidney\",\"kidney_with_Gerotas_fascia\",\"liver\",\"lung\",\"metal\",\"omentum\",\"pancreas\",\"peritoneum\",\"skin\",\"spleen\",\"stomach\",\"unsure\",\"major_vein\"],\"xaxis\":\"x\",\"y\":[8020256,1882029,158035,319913,412418,1139959,82958,232310,688786,384547,857801,67931,145214,749311,667542,246650,33669,111180,81091],\"yaxis\":\"y\",\"type\":\"bar\"},{\"alignmentgroup\":\"True\",\"hovertemplate\":\"subject_name=P069<br>set_type=train<br>label_name=%{x}<br>n_pixels=%{y}<extra></extra>\",\"legendgroup\":\"P069\",\"marker\":{\"color\":\"#FF97FF\",\"pattern\":{\"shape\":\"\"}},\"name\":\"P069\",\"offsetgroup\":\"P069\",\"orientation\":\"v\",\"showlegend\":true,\"textposition\":\"auto\",\"x\":[\"blue_cloth\",\"colon\",\"fat\",\"gallbladder\",\"small_bowel\",\"liver\",\"metal\",\"omentum\",\"peritoneum\",\"skin\",\"spleen\",\"stomach\",\"unsure\"],\"xaxis\":\"x\",\"y\":[1861123,996205,38661,50273,868826,364633,1260341,53971,33859,308041,135865,165472,6730],\"yaxis\":\"y\",\"type\":\"bar\"},{\"alignmentgroup\":\"True\",\"hovertemplate\":\"subject_name=P071<br>set_type=train<br>label_name=%{x}<br>n_pixels=%{y}<extra></extra>\",\"legendgroup\":\"P071\",\"marker\":{\"color\":\"#FECB52\",\"pattern\":{\"shape\":\"\"}},\"name\":\"P071\",\"offsetgroup\":\"P071\",\"orientation\":\"v\",\"showlegend\":true,\"textposition\":\"auto\",\"x\":[\"blue_cloth\",\"colon\",\"fat\",\"gallbladder\",\"glove\",\"small_bowel\",\"liver\",\"metal\",\"omentum\",\"organic_artifact\",\"pancreas\",\"peritoneum\",\"skin\",\"spleen\",\"stomach\",\"unsure\"],\"xaxis\":\"x\",\"y\":[2054848,325804,8830,27784,1274933,557684,140376,285584,135377,26788,66985,589,23562,182573,719042,6041],\"yaxis\":\"y\",\"type\":\"bar\"}],                        {\"template\":{\"data\":{\"histogram2dcontour\":[{\"type\":\"histogram2dcontour\",\"colorbar\":{\"outlinewidth\":0,\"ticks\":\"\"},\"colorscale\":[[0.0,\"#0d0887\"],[0.1111111111111111,\"#46039f\"],[0.2222222222222222,\"#7201a8\"],[0.3333333333333333,\"#9c179e\"],[0.4444444444444444,\"#bd3786\"],[0.5555555555555556,\"#d8576b\"],[0.6666666666666666,\"#ed7953\"],[0.7777777777777778,\"#fb9f3a\"],[0.8888888888888888,\"#fdca26\"],[1.0,\"#f0f921\"]]}],\"choropleth\":[{\"type\":\"choropleth\",\"colorbar\":{\"outlinewidth\":0,\"ticks\":\"\"}}],\"histogram2d\":[{\"type\":\"histogram2d\",\"colorbar\":{\"outlinewidth\":0,\"ticks\":\"\"},\"colorscale\":[[0.0,\"#0d0887\"],[0.1111111111111111,\"#46039f\"],[0.2222222222222222,\"#7201a8\"],[0.3333333333333333,\"#9c179e\"],[0.4444444444444444,\"#bd3786\"],[0.5555555555555556,\"#d8576b\"],[0.6666666666666666,\"#ed7953\"],[0.7777777777777778,\"#fb9f3a\"],[0.8888888888888888,\"#fdca26\"],[1.0,\"#f0f921\"]]}],\"heatmap\":[{\"type\":\"heatmap\",\"colorbar\":{\"outlinewidth\":0,\"ticks\":\"\"},\"colorscale\":[[0.0,\"#0d0887\"],[0.1111111111111111,\"#46039f\"],[0.2222222222222222,\"#7201a8\"],[0.3333333333333333,\"#9c179e\"],[0.4444444444444444,\"#bd3786\"],[0.5555555555555556,\"#d8576b\"],[0.6666666666666666,\"#ed7953\"],[0.7777777777777778,\"#fb9f3a\"],[0.8888888888888888,\"#fdca26\"],[1.0,\"#f0f921\"]]}],\"heatmapgl\":[{\"type\":\"heatmapgl\",\"colorbar\":{\"outlinewidth\":0,\"ticks\":\"\"},\"colorscale\":[[0.0,\"#0d0887\"],[0.1111111111111111,\"#46039f\"],[0.2222222222222222,\"#7201a8\"],[0.3333333333333333,\"#9c179e\"],[0.4444444444444444,\"#bd3786\"],[0.5555555555555556,\"#d8576b\"],[0.6666666666666666,\"#ed7953\"],[0.7777777777777778,\"#fb9f3a\"],[0.8888888888888888,\"#fdca26\"],[1.0,\"#f0f921\"]]}],\"contourcarpet\":[{\"type\":\"contourcarpet\",\"colorbar\":{\"outlinewidth\":0,\"ticks\":\"\"}}],\"contour\":[{\"type\":\"contour\",\"colorbar\":{\"outlinewidth\":0,\"ticks\":\"\"},\"colorscale\":[[0.0,\"#0d0887\"],[0.1111111111111111,\"#46039f\"],[0.2222222222222222,\"#7201a8\"],[0.3333333333333333,\"#9c179e\"],[0.4444444444444444,\"#bd3786\"],[0.5555555555555556,\"#d8576b\"],[0.6666666666666666,\"#ed7953\"],[0.7777777777777778,\"#fb9f3a\"],[0.8888888888888888,\"#fdca26\"],[1.0,\"#f0f921\"]]}],\"surface\":[{\"type\":\"surface\",\"colorbar\":{\"outlinewidth\":0,\"ticks\":\"\"},\"colorscale\":[[0.0,\"#0d0887\"],[0.1111111111111111,\"#46039f\"],[0.2222222222222222,\"#7201a8\"],[0.3333333333333333,\"#9c179e\"],[0.4444444444444444,\"#bd3786\"],[0.5555555555555556,\"#d8576b\"],[0.6666666666666666,\"#ed7953\"],[0.7777777777777778,\"#fb9f3a\"],[0.8888888888888888,\"#fdca26\"],[1.0,\"#f0f921\"]]}],\"mesh3d\":[{\"type\":\"mesh3d\",\"colorbar\":{\"outlinewidth\":0,\"ticks\":\"\"}}],\"scatter\":[{\"fillpattern\":{\"fillmode\":\"overlay\",\"size\":10,\"solidity\":0.2},\"type\":\"scatter\"}],\"parcoords\":[{\"type\":\"parcoords\",\"line\":{\"colorbar\":{\"outlinewidth\":0,\"ticks\":\"\"}}}],\"scatterpolargl\":[{\"type\":\"scatterpolargl\",\"marker\":{\"colorbar\":{\"outlinewidth\":0,\"ticks\":\"\"}}}],\"bar\":[{\"error_x\":{\"color\":\"#2a3f5f\"},\"error_y\":{\"color\":\"#2a3f5f\"},\"marker\":{\"line\":{\"color\":\"#E5ECF6\",\"width\":0.5},\"pattern\":{\"fillmode\":\"overlay\",\"size\":10,\"solidity\":0.2}},\"type\":\"bar\"}],\"scattergeo\":[{\"type\":\"scattergeo\",\"marker\":{\"colorbar\":{\"outlinewidth\":0,\"ticks\":\"\"}}}],\"scatterpolar\":[{\"type\":\"scatterpolar\",\"marker\":{\"colorbar\":{\"outlinewidth\":0,\"ticks\":\"\"}}}],\"histogram\":[{\"marker\":{\"pattern\":{\"fillmode\":\"overlay\",\"size\":10,\"solidity\":0.2}},\"type\":\"histogram\"}],\"scattergl\":[{\"type\":\"scattergl\",\"marker\":{\"colorbar\":{\"outlinewidth\":0,\"ticks\":\"\"}}}],\"scatter3d\":[{\"type\":\"scatter3d\",\"line\":{\"colorbar\":{\"outlinewidth\":0,\"ticks\":\"\"}},\"marker\":{\"colorbar\":{\"outlinewidth\":0,\"ticks\":\"\"}}}],\"scattermapbox\":[{\"type\":\"scattermapbox\",\"marker\":{\"colorbar\":{\"outlinewidth\":0,\"ticks\":\"\"}}}],\"scatterternary\":[{\"type\":\"scatterternary\",\"marker\":{\"colorbar\":{\"outlinewidth\":0,\"ticks\":\"\"}}}],\"scattercarpet\":[{\"type\":\"scattercarpet\",\"marker\":{\"colorbar\":{\"outlinewidth\":0,\"ticks\":\"\"}}}],\"carpet\":[{\"aaxis\":{\"endlinecolor\":\"#2a3f5f\",\"gridcolor\":\"white\",\"linecolor\":\"white\",\"minorgridcolor\":\"white\",\"startlinecolor\":\"#2a3f5f\"},\"baxis\":{\"endlinecolor\":\"#2a3f5f\",\"gridcolor\":\"white\",\"linecolor\":\"white\",\"minorgridcolor\":\"white\",\"startlinecolor\":\"#2a3f5f\"},\"type\":\"carpet\"}],\"table\":[{\"cells\":{\"fill\":{\"color\":\"#EBF0F8\"},\"line\":{\"color\":\"white\"}},\"header\":{\"fill\":{\"color\":\"#C8D4E3\"},\"line\":{\"color\":\"white\"}},\"type\":\"table\"}],\"barpolar\":[{\"marker\":{\"line\":{\"color\":\"#E5ECF6\",\"width\":0.5},\"pattern\":{\"fillmode\":\"overlay\",\"size\":10,\"solidity\":0.2}},\"type\":\"barpolar\"}],\"pie\":[{\"automargin\":true,\"type\":\"pie\"}]},\"layout\":{\"autotypenumbers\":\"strict\",\"colorway\":[\"#636efa\",\"#EF553B\",\"#00cc96\",\"#ab63fa\",\"#FFA15A\",\"#19d3f3\",\"#FF6692\",\"#B6E880\",\"#FF97FF\",\"#FECB52\"],\"font\":{\"color\":\"#2a3f5f\"},\"hovermode\":\"closest\",\"hoverlabel\":{\"align\":\"left\"},\"paper_bgcolor\":\"white\",\"plot_bgcolor\":\"#E5ECF6\",\"polar\":{\"bgcolor\":\"#E5ECF6\",\"angularaxis\":{\"gridcolor\":\"white\",\"linecolor\":\"white\",\"ticks\":\"\"},\"radialaxis\":{\"gridcolor\":\"white\",\"linecolor\":\"white\",\"ticks\":\"\"}},\"ternary\":{\"bgcolor\":\"#E5ECF6\",\"aaxis\":{\"gridcolor\":\"white\",\"linecolor\":\"white\",\"ticks\":\"\"},\"baxis\":{\"gridcolor\":\"white\",\"linecolor\":\"white\",\"ticks\":\"\"},\"caxis\":{\"gridcolor\":\"white\",\"linecolor\":\"white\",\"ticks\":\"\"}},\"coloraxis\":{\"colorbar\":{\"outlinewidth\":0,\"ticks\":\"\"}},\"colorscale\":{\"sequential\":[[0.0,\"#0d0887\"],[0.1111111111111111,\"#46039f\"],[0.2222222222222222,\"#7201a8\"],[0.3333333333333333,\"#9c179e\"],[0.4444444444444444,\"#bd3786\"],[0.5555555555555556,\"#d8576b\"],[0.6666666666666666,\"#ed7953\"],[0.7777777777777778,\"#fb9f3a\"],[0.8888888888888888,\"#fdca26\"],[1.0,\"#f0f921\"]],\"sequentialminus\":[[0.0,\"#0d0887\"],[0.1111111111111111,\"#46039f\"],[0.2222222222222222,\"#7201a8\"],[0.3333333333333333,\"#9c179e\"],[0.4444444444444444,\"#bd3786\"],[0.5555555555555556,\"#d8576b\"],[0.6666666666666666,\"#ed7953\"],[0.7777777777777778,\"#fb9f3a\"],[0.8888888888888888,\"#fdca26\"],[1.0,\"#f0f921\"]],\"diverging\":[[0,\"#8e0152\"],[0.1,\"#c51b7d\"],[0.2,\"#de77ae\"],[0.3,\"#f1b6da\"],[0.4,\"#fde0ef\"],[0.5,\"#f7f7f7\"],[0.6,\"#e6f5d0\"],[0.7,\"#b8e186\"],[0.8,\"#7fbc41\"],[0.9,\"#4d9221\"],[1,\"#276419\"]]},\"xaxis\":{\"gridcolor\":\"white\",\"linecolor\":\"white\",\"ticks\":\"\",\"title\":{\"standoff\":15},\"zerolinecolor\":\"white\",\"automargin\":true,\"zerolinewidth\":2},\"yaxis\":{\"gridcolor\":\"white\",\"linecolor\":\"white\",\"ticks\":\"\",\"title\":{\"standoff\":15},\"zerolinecolor\":\"white\",\"automargin\":true,\"zerolinewidth\":2},\"scene\":{\"xaxis\":{\"backgroundcolor\":\"#E5ECF6\",\"gridcolor\":\"white\",\"linecolor\":\"white\",\"showbackground\":true,\"ticks\":\"\",\"zerolinecolor\":\"white\",\"gridwidth\":2},\"yaxis\":{\"backgroundcolor\":\"#E5ECF6\",\"gridcolor\":\"white\",\"linecolor\":\"white\",\"showbackground\":true,\"ticks\":\"\",\"zerolinecolor\":\"white\",\"gridwidth\":2},\"zaxis\":{\"backgroundcolor\":\"#E5ECF6\",\"gridcolor\":\"white\",\"linecolor\":\"white\",\"showbackground\":true,\"ticks\":\"\",\"zerolinecolor\":\"white\",\"gridwidth\":2}},\"shapedefaults\":{\"line\":{\"color\":\"#2a3f5f\"}},\"annotationdefaults\":{\"arrowcolor\":\"#2a3f5f\",\"arrowhead\":0,\"arrowwidth\":1},\"geo\":{\"bgcolor\":\"white\",\"landcolor\":\"#E5ECF6\",\"subunitcolor\":\"white\",\"showland\":true,\"showlakes\":true,\"lakecolor\":\"white\"},\"title\":{\"x\":0.05},\"mapbox\":{\"style\":\"light\"}}},\"xaxis\":{\"anchor\":\"y\",\"domain\":[0.0,0.49],\"title\":{\"text\":\"label_name\"},\"categoryorder\":\"array\",\"categoryarray\":[\"abdominal_linen\",\"anorganic_artifact\",\"background\",\"bladder\",\"blue_cloth\",\"colon\",\"colon_peritoneum\",\"fat\",\"foil\",\"gallbladder\",\"glove\",\"heart\",\"small_bowel\",\"kidney\",\"kidney_with_Gerotas_fascia\",\"liver\",\"lung\",\"metal\",\"muscle\",\"omentum\",\"organic_artifact\",\"overlap\",\"pancreas\",\"peritoneum\",\"skin\",\"spleen\",\"stomach\",\"syringe\",\"tube\",\"unlabeled\",\"unsure\",\"major_vein\",\"white_compress\"]},\"yaxis\":{\"anchor\":\"x\",\"domain\":[0.0,1.0],\"title\":{\"text\":\"n_pixels\"},\"showticklabels\":true},\"xaxis2\":{\"anchor\":\"y2\",\"domain\":[0.51,1.0],\"matches\":\"x\",\"title\":{\"text\":\"label_name\"}},\"yaxis2\":{\"anchor\":\"x2\",\"domain\":[0.0,1.0],\"showticklabels\":true},\"annotations\":[{\"font\":{},\"showarrow\":false,\"text\":\"set_type=train\",\"x\":0.245,\"xanchor\":\"center\",\"xref\":\"paper\",\"y\":1.0,\"yanchor\":\"bottom\",\"yref\":\"paper\"},{\"font\":{},\"showarrow\":false,\"text\":\"set_type=test\",\"x\":0.755,\"xanchor\":\"center\",\"xref\":\"paper\",\"y\":1.0,\"yanchor\":\"bottom\",\"yref\":\"paper\"}],\"legend\":{\"title\":{\"text\":\"subject_name\"},\"tracegroupgap\":0},\"margin\":{\"t\":60},\"barmode\":\"relative\",\"title\":{\"text\":\"Number of images per label\",\"x\":0.5},\"height\":500,\"width\":2000},                        {\"responsive\": true}                    ).then(function(){\n",
       "                            \n",
       "var gd = document.getElementById('3906a7c8-603d-41d4-89e7-a54d87bdc1f7');\n",
       "var x = new MutationObserver(function (mutations, observer) {{\n",
       "        var display = window.getComputedStyle(gd).display;\n",
       "        if (!display || display === 'none') {{\n",
       "            console.log([gd, 'removed!']);\n",
       "            Plotly.purge(gd);\n",
       "            observer.disconnect();\n",
       "        }}\n",
       "}});\n",
       "\n",
       "// Listen for the removal of the full notebook cells\n",
       "var notebookContainer = gd.closest('#notebook-container');\n",
       "if (notebookContainer) {{\n",
       "    x.observe(notebookContainer, {childList: true});\n",
       "}}\n",
       "\n",
       "// Listen for the clearing of the current output cell\n",
       "var outputEl = gd.closest('.output');\n",
       "if (outputEl) {{\n",
       "    x.observe(outputEl, {childList: true});\n",
       "}}\n",
       "\n",
       "                        })                };                });            </script>        </div>"
      ]
     },
     "metadata": {},
     "output_type": "display_data"
    }
   ],
   "source": [
    "fig = px.bar(df_images, x=\"label_name\", y=\"n_pixels\", color=\"subject_name\", facet_col=\"set_type\")\n",
    "fig.update_layout(title_text=\"Number of images per label\", title_x=0.5)\n",
    "fig.layout.xaxis.categoryorder = \"array\"\n",
    "fig.layout.xaxis.categoryarray = sorted_labels\n",
    "fig.layout.height = 500\n",
    "fig.layout.width = 2000\n",
    "fig.update_yaxes(matches=None, showticklabels=True)\n",
    "fig.show()"
   ]
  },
  {
   "cell_type": "markdown",
   "id": "worse-suite",
   "metadata": {},
   "source": [
    "## Label Counts"
   ]
  },
  {
   "cell_type": "code",
   "execution_count": 9,
   "id": "informal-enough",
   "metadata": {},
   "outputs": [
    {
     "data": {
      "application/vnd.plotly.v1+json": {
       "config": {
        "plotlyServerURL": "https://plot.ly"
       },
       "data": [
        {
         "alignmentgroup": "True",
         "hovertemplate": "n_labels=%{x}<br>n_images=%{y}<extra></extra>",
         "legendgroup": "",
         "marker": {
          "color": "#636efa",
          "pattern": {
           "shape": ""
          }
         },
         "name": "",
         "offsetgroup": "",
         "orientation": "v",
         "showlegend": false,
         "textposition": "auto",
         "type": "bar",
         "x": [
          0,
          3,
          4,
          5,
          6,
          7,
          8,
          9,
          10,
          11,
          12,
          13,
          14,
          15,
          16,
          17
         ],
         "xaxis": "x",
         "y": [
          0,
          38,
          3,
          34,
          20,
          29,
          46,
          61,
          60,
          54,
          62,
          51,
          29,
          14,
          3,
          2
         ],
         "yaxis": "y"
        }
       ],
       "layout": {
        "barmode": "relative",
        "legend": {
         "tracegroupgap": 0
        },
        "margin": {
         "t": 60
        },
        "template": {
         "data": {
          "bar": [
           {
            "error_x": {
             "color": "#2a3f5f"
            },
            "error_y": {
             "color": "#2a3f5f"
            },
            "marker": {
             "line": {
              "color": "#E5ECF6",
              "width": 0.5
             },
             "pattern": {
              "fillmode": "overlay",
              "size": 10,
              "solidity": 0.2
             }
            },
            "type": "bar"
           }
          ],
          "barpolar": [
           {
            "marker": {
             "line": {
              "color": "#E5ECF6",
              "width": 0.5
             },
             "pattern": {
              "fillmode": "overlay",
              "size": 10,
              "solidity": 0.2
             }
            },
            "type": "barpolar"
           }
          ],
          "carpet": [
           {
            "aaxis": {
             "endlinecolor": "#2a3f5f",
             "gridcolor": "white",
             "linecolor": "white",
             "minorgridcolor": "white",
             "startlinecolor": "#2a3f5f"
            },
            "baxis": {
             "endlinecolor": "#2a3f5f",
             "gridcolor": "white",
             "linecolor": "white",
             "minorgridcolor": "white",
             "startlinecolor": "#2a3f5f"
            },
            "type": "carpet"
           }
          ],
          "choropleth": [
           {
            "colorbar": {
             "outlinewidth": 0,
             "ticks": ""
            },
            "type": "choropleth"
           }
          ],
          "contour": [
           {
            "colorbar": {
             "outlinewidth": 0,
             "ticks": ""
            },
            "colorscale": [
             [
              0,
              "#0d0887"
             ],
             [
              0.1111111111111111,
              "#46039f"
             ],
             [
              0.2222222222222222,
              "#7201a8"
             ],
             [
              0.3333333333333333,
              "#9c179e"
             ],
             [
              0.4444444444444444,
              "#bd3786"
             ],
             [
              0.5555555555555556,
              "#d8576b"
             ],
             [
              0.6666666666666666,
              "#ed7953"
             ],
             [
              0.7777777777777778,
              "#fb9f3a"
             ],
             [
              0.8888888888888888,
              "#fdca26"
             ],
             [
              1,
              "#f0f921"
             ]
            ],
            "type": "contour"
           }
          ],
          "contourcarpet": [
           {
            "colorbar": {
             "outlinewidth": 0,
             "ticks": ""
            },
            "type": "contourcarpet"
           }
          ],
          "heatmap": [
           {
            "colorbar": {
             "outlinewidth": 0,
             "ticks": ""
            },
            "colorscale": [
             [
              0,
              "#0d0887"
             ],
             [
              0.1111111111111111,
              "#46039f"
             ],
             [
              0.2222222222222222,
              "#7201a8"
             ],
             [
              0.3333333333333333,
              "#9c179e"
             ],
             [
              0.4444444444444444,
              "#bd3786"
             ],
             [
              0.5555555555555556,
              "#d8576b"
             ],
             [
              0.6666666666666666,
              "#ed7953"
             ],
             [
              0.7777777777777778,
              "#fb9f3a"
             ],
             [
              0.8888888888888888,
              "#fdca26"
             ],
             [
              1,
              "#f0f921"
             ]
            ],
            "type": "heatmap"
           }
          ],
          "heatmapgl": [
           {
            "colorbar": {
             "outlinewidth": 0,
             "ticks": ""
            },
            "colorscale": [
             [
              0,
              "#0d0887"
             ],
             [
              0.1111111111111111,
              "#46039f"
             ],
             [
              0.2222222222222222,
              "#7201a8"
             ],
             [
              0.3333333333333333,
              "#9c179e"
             ],
             [
              0.4444444444444444,
              "#bd3786"
             ],
             [
              0.5555555555555556,
              "#d8576b"
             ],
             [
              0.6666666666666666,
              "#ed7953"
             ],
             [
              0.7777777777777778,
              "#fb9f3a"
             ],
             [
              0.8888888888888888,
              "#fdca26"
             ],
             [
              1,
              "#f0f921"
             ]
            ],
            "type": "heatmapgl"
           }
          ],
          "histogram": [
           {
            "marker": {
             "pattern": {
              "fillmode": "overlay",
              "size": 10,
              "solidity": 0.2
             }
            },
            "type": "histogram"
           }
          ],
          "histogram2d": [
           {
            "colorbar": {
             "outlinewidth": 0,
             "ticks": ""
            },
            "colorscale": [
             [
              0,
              "#0d0887"
             ],
             [
              0.1111111111111111,
              "#46039f"
             ],
             [
              0.2222222222222222,
              "#7201a8"
             ],
             [
              0.3333333333333333,
              "#9c179e"
             ],
             [
              0.4444444444444444,
              "#bd3786"
             ],
             [
              0.5555555555555556,
              "#d8576b"
             ],
             [
              0.6666666666666666,
              "#ed7953"
             ],
             [
              0.7777777777777778,
              "#fb9f3a"
             ],
             [
              0.8888888888888888,
              "#fdca26"
             ],
             [
              1,
              "#f0f921"
             ]
            ],
            "type": "histogram2d"
           }
          ],
          "histogram2dcontour": [
           {
            "colorbar": {
             "outlinewidth": 0,
             "ticks": ""
            },
            "colorscale": [
             [
              0,
              "#0d0887"
             ],
             [
              0.1111111111111111,
              "#46039f"
             ],
             [
              0.2222222222222222,
              "#7201a8"
             ],
             [
              0.3333333333333333,
              "#9c179e"
             ],
             [
              0.4444444444444444,
              "#bd3786"
             ],
             [
              0.5555555555555556,
              "#d8576b"
             ],
             [
              0.6666666666666666,
              "#ed7953"
             ],
             [
              0.7777777777777778,
              "#fb9f3a"
             ],
             [
              0.8888888888888888,
              "#fdca26"
             ],
             [
              1,
              "#f0f921"
             ]
            ],
            "type": "histogram2dcontour"
           }
          ],
          "mesh3d": [
           {
            "colorbar": {
             "outlinewidth": 0,
             "ticks": ""
            },
            "type": "mesh3d"
           }
          ],
          "parcoords": [
           {
            "line": {
             "colorbar": {
              "outlinewidth": 0,
              "ticks": ""
             }
            },
            "type": "parcoords"
           }
          ],
          "pie": [
           {
            "automargin": true,
            "type": "pie"
           }
          ],
          "scatter": [
           {
            "fillpattern": {
             "fillmode": "overlay",
             "size": 10,
             "solidity": 0.2
            },
            "type": "scatter"
           }
          ],
          "scatter3d": [
           {
            "line": {
             "colorbar": {
              "outlinewidth": 0,
              "ticks": ""
             }
            },
            "marker": {
             "colorbar": {
              "outlinewidth": 0,
              "ticks": ""
             }
            },
            "type": "scatter3d"
           }
          ],
          "scattercarpet": [
           {
            "marker": {
             "colorbar": {
              "outlinewidth": 0,
              "ticks": ""
             }
            },
            "type": "scattercarpet"
           }
          ],
          "scattergeo": [
           {
            "marker": {
             "colorbar": {
              "outlinewidth": 0,
              "ticks": ""
             }
            },
            "type": "scattergeo"
           }
          ],
          "scattergl": [
           {
            "marker": {
             "colorbar": {
              "outlinewidth": 0,
              "ticks": ""
             }
            },
            "type": "scattergl"
           }
          ],
          "scattermapbox": [
           {
            "marker": {
             "colorbar": {
              "outlinewidth": 0,
              "ticks": ""
             }
            },
            "type": "scattermapbox"
           }
          ],
          "scatterpolar": [
           {
            "marker": {
             "colorbar": {
              "outlinewidth": 0,
              "ticks": ""
             }
            },
            "type": "scatterpolar"
           }
          ],
          "scatterpolargl": [
           {
            "marker": {
             "colorbar": {
              "outlinewidth": 0,
              "ticks": ""
             }
            },
            "type": "scatterpolargl"
           }
          ],
          "scatterternary": [
           {
            "marker": {
             "colorbar": {
              "outlinewidth": 0,
              "ticks": ""
             }
            },
            "type": "scatterternary"
           }
          ],
          "surface": [
           {
            "colorbar": {
             "outlinewidth": 0,
             "ticks": ""
            },
            "colorscale": [
             [
              0,
              "#0d0887"
             ],
             [
              0.1111111111111111,
              "#46039f"
             ],
             [
              0.2222222222222222,
              "#7201a8"
             ],
             [
              0.3333333333333333,
              "#9c179e"
             ],
             [
              0.4444444444444444,
              "#bd3786"
             ],
             [
              0.5555555555555556,
              "#d8576b"
             ],
             [
              0.6666666666666666,
              "#ed7953"
             ],
             [
              0.7777777777777778,
              "#fb9f3a"
             ],
             [
              0.8888888888888888,
              "#fdca26"
             ],
             [
              1,
              "#f0f921"
             ]
            ],
            "type": "surface"
           }
          ],
          "table": [
           {
            "cells": {
             "fill": {
              "color": "#EBF0F8"
             },
             "line": {
              "color": "white"
             }
            },
            "header": {
             "fill": {
              "color": "#C8D4E3"
             },
             "line": {
              "color": "white"
             }
            },
            "type": "table"
           }
          ]
         },
         "layout": {
          "annotationdefaults": {
           "arrowcolor": "#2a3f5f",
           "arrowhead": 0,
           "arrowwidth": 1
          },
          "autotypenumbers": "strict",
          "coloraxis": {
           "colorbar": {
            "outlinewidth": 0,
            "ticks": ""
           }
          },
          "colorscale": {
           "diverging": [
            [
             0,
             "#8e0152"
            ],
            [
             0.1,
             "#c51b7d"
            ],
            [
             0.2,
             "#de77ae"
            ],
            [
             0.3,
             "#f1b6da"
            ],
            [
             0.4,
             "#fde0ef"
            ],
            [
             0.5,
             "#f7f7f7"
            ],
            [
             0.6,
             "#e6f5d0"
            ],
            [
             0.7,
             "#b8e186"
            ],
            [
             0.8,
             "#7fbc41"
            ],
            [
             0.9,
             "#4d9221"
            ],
            [
             1,
             "#276419"
            ]
           ],
           "sequential": [
            [
             0,
             "#0d0887"
            ],
            [
             0.1111111111111111,
             "#46039f"
            ],
            [
             0.2222222222222222,
             "#7201a8"
            ],
            [
             0.3333333333333333,
             "#9c179e"
            ],
            [
             0.4444444444444444,
             "#bd3786"
            ],
            [
             0.5555555555555556,
             "#d8576b"
            ],
            [
             0.6666666666666666,
             "#ed7953"
            ],
            [
             0.7777777777777778,
             "#fb9f3a"
            ],
            [
             0.8888888888888888,
             "#fdca26"
            ],
            [
             1,
             "#f0f921"
            ]
           ],
           "sequentialminus": [
            [
             0,
             "#0d0887"
            ],
            [
             0.1111111111111111,
             "#46039f"
            ],
            [
             0.2222222222222222,
             "#7201a8"
            ],
            [
             0.3333333333333333,
             "#9c179e"
            ],
            [
             0.4444444444444444,
             "#bd3786"
            ],
            [
             0.5555555555555556,
             "#d8576b"
            ],
            [
             0.6666666666666666,
             "#ed7953"
            ],
            [
             0.7777777777777778,
             "#fb9f3a"
            ],
            [
             0.8888888888888888,
             "#fdca26"
            ],
            [
             1,
             "#f0f921"
            ]
           ]
          },
          "colorway": [
           "#636efa",
           "#EF553B",
           "#00cc96",
           "#ab63fa",
           "#FFA15A",
           "#19d3f3",
           "#FF6692",
           "#B6E880",
           "#FF97FF",
           "#FECB52"
          ],
          "font": {
           "color": "#2a3f5f"
          },
          "geo": {
           "bgcolor": "white",
           "lakecolor": "white",
           "landcolor": "#E5ECF6",
           "showlakes": true,
           "showland": true,
           "subunitcolor": "white"
          },
          "hoverlabel": {
           "align": "left"
          },
          "hovermode": "closest",
          "mapbox": {
           "style": "light"
          },
          "paper_bgcolor": "white",
          "plot_bgcolor": "#E5ECF6",
          "polar": {
           "angularaxis": {
            "gridcolor": "white",
            "linecolor": "white",
            "ticks": ""
           },
           "bgcolor": "#E5ECF6",
           "radialaxis": {
            "gridcolor": "white",
            "linecolor": "white",
            "ticks": ""
           }
          },
          "scene": {
           "xaxis": {
            "backgroundcolor": "#E5ECF6",
            "gridcolor": "white",
            "gridwidth": 2,
            "linecolor": "white",
            "showbackground": true,
            "ticks": "",
            "zerolinecolor": "white"
           },
           "yaxis": {
            "backgroundcolor": "#E5ECF6",
            "gridcolor": "white",
            "gridwidth": 2,
            "linecolor": "white",
            "showbackground": true,
            "ticks": "",
            "zerolinecolor": "white"
           },
           "zaxis": {
            "backgroundcolor": "#E5ECF6",
            "gridcolor": "white",
            "gridwidth": 2,
            "linecolor": "white",
            "showbackground": true,
            "ticks": "",
            "zerolinecolor": "white"
           }
          },
          "shapedefaults": {
           "line": {
            "color": "#2a3f5f"
           }
          },
          "ternary": {
           "aaxis": {
            "gridcolor": "white",
            "linecolor": "white",
            "ticks": ""
           },
           "baxis": {
            "gridcolor": "white",
            "linecolor": "white",
            "ticks": ""
           },
           "bgcolor": "#E5ECF6",
           "caxis": {
            "gridcolor": "white",
            "linecolor": "white",
            "ticks": ""
           }
          },
          "title": {
           "x": 0.05
          },
          "xaxis": {
           "automargin": true,
           "gridcolor": "white",
           "linecolor": "white",
           "ticks": "",
           "title": {
            "standoff": 15
           },
           "zerolinecolor": "white",
           "zerolinewidth": 2
          },
          "yaxis": {
           "automargin": true,
           "gridcolor": "white",
           "linecolor": "white",
           "ticks": "",
           "title": {
            "standoff": 15
           },
           "zerolinecolor": "white",
           "zerolinewidth": 2
          }
         }
        },
        "title": {
         "text": "How many images do we have which contain n different labels?",
         "x": 0.5
        },
        "xaxis": {
         "anchor": "y",
         "domain": [
          0,
          1
         ],
         "title": {
          "text": "n_labels"
         }
        },
        "yaxis": {
         "anchor": "x",
         "domain": [
          0,
          1
         ],
         "title": {
          "text": "n_images"
         }
        }
       }
      },
      "text/html": [
       "<div>                            <div id=\"0442027a-af1f-495b-bf86-589578df43e4\" class=\"plotly-graph-div\" style=\"height:525px; width:100%;\"></div>            <script type=\"text/javascript\">                require([\"plotly\"], function(Plotly) {                    window.PLOTLYENV=window.PLOTLYENV || {};                                    if (document.getElementById(\"0442027a-af1f-495b-bf86-589578df43e4\")) {                    Plotly.newPlot(                        \"0442027a-af1f-495b-bf86-589578df43e4\",                        [{\"alignmentgroup\":\"True\",\"hovertemplate\":\"n_labels=%{x}<br>n_images=%{y}<extra></extra>\",\"legendgroup\":\"\",\"marker\":{\"color\":\"#636efa\",\"pattern\":{\"shape\":\"\"}},\"name\":\"\",\"offsetgroup\":\"\",\"orientation\":\"v\",\"showlegend\":false,\"textposition\":\"auto\",\"x\":[0,3,4,5,6,7,8,9,10,11,12,13,14,15,16,17],\"xaxis\":\"x\",\"y\":[0,38,3,34,20,29,46,61,60,54,62,51,29,14,3,2],\"yaxis\":\"y\",\"type\":\"bar\"}],                        {\"template\":{\"data\":{\"histogram2dcontour\":[{\"type\":\"histogram2dcontour\",\"colorbar\":{\"outlinewidth\":0,\"ticks\":\"\"},\"colorscale\":[[0.0,\"#0d0887\"],[0.1111111111111111,\"#46039f\"],[0.2222222222222222,\"#7201a8\"],[0.3333333333333333,\"#9c179e\"],[0.4444444444444444,\"#bd3786\"],[0.5555555555555556,\"#d8576b\"],[0.6666666666666666,\"#ed7953\"],[0.7777777777777778,\"#fb9f3a\"],[0.8888888888888888,\"#fdca26\"],[1.0,\"#f0f921\"]]}],\"choropleth\":[{\"type\":\"choropleth\",\"colorbar\":{\"outlinewidth\":0,\"ticks\":\"\"}}],\"histogram2d\":[{\"type\":\"histogram2d\",\"colorbar\":{\"outlinewidth\":0,\"ticks\":\"\"},\"colorscale\":[[0.0,\"#0d0887\"],[0.1111111111111111,\"#46039f\"],[0.2222222222222222,\"#7201a8\"],[0.3333333333333333,\"#9c179e\"],[0.4444444444444444,\"#bd3786\"],[0.5555555555555556,\"#d8576b\"],[0.6666666666666666,\"#ed7953\"],[0.7777777777777778,\"#fb9f3a\"],[0.8888888888888888,\"#fdca26\"],[1.0,\"#f0f921\"]]}],\"heatmap\":[{\"type\":\"heatmap\",\"colorbar\":{\"outlinewidth\":0,\"ticks\":\"\"},\"colorscale\":[[0.0,\"#0d0887\"],[0.1111111111111111,\"#46039f\"],[0.2222222222222222,\"#7201a8\"],[0.3333333333333333,\"#9c179e\"],[0.4444444444444444,\"#bd3786\"],[0.5555555555555556,\"#d8576b\"],[0.6666666666666666,\"#ed7953\"],[0.7777777777777778,\"#fb9f3a\"],[0.8888888888888888,\"#fdca26\"],[1.0,\"#f0f921\"]]}],\"heatmapgl\":[{\"type\":\"heatmapgl\",\"colorbar\":{\"outlinewidth\":0,\"ticks\":\"\"},\"colorscale\":[[0.0,\"#0d0887\"],[0.1111111111111111,\"#46039f\"],[0.2222222222222222,\"#7201a8\"],[0.3333333333333333,\"#9c179e\"],[0.4444444444444444,\"#bd3786\"],[0.5555555555555556,\"#d8576b\"],[0.6666666666666666,\"#ed7953\"],[0.7777777777777778,\"#fb9f3a\"],[0.8888888888888888,\"#fdca26\"],[1.0,\"#f0f921\"]]}],\"contourcarpet\":[{\"type\":\"contourcarpet\",\"colorbar\":{\"outlinewidth\":0,\"ticks\":\"\"}}],\"contour\":[{\"type\":\"contour\",\"colorbar\":{\"outlinewidth\":0,\"ticks\":\"\"},\"colorscale\":[[0.0,\"#0d0887\"],[0.1111111111111111,\"#46039f\"],[0.2222222222222222,\"#7201a8\"],[0.3333333333333333,\"#9c179e\"],[0.4444444444444444,\"#bd3786\"],[0.5555555555555556,\"#d8576b\"],[0.6666666666666666,\"#ed7953\"],[0.7777777777777778,\"#fb9f3a\"],[0.8888888888888888,\"#fdca26\"],[1.0,\"#f0f921\"]]}],\"surface\":[{\"type\":\"surface\",\"colorbar\":{\"outlinewidth\":0,\"ticks\":\"\"},\"colorscale\":[[0.0,\"#0d0887\"],[0.1111111111111111,\"#46039f\"],[0.2222222222222222,\"#7201a8\"],[0.3333333333333333,\"#9c179e\"],[0.4444444444444444,\"#bd3786\"],[0.5555555555555556,\"#d8576b\"],[0.6666666666666666,\"#ed7953\"],[0.7777777777777778,\"#fb9f3a\"],[0.8888888888888888,\"#fdca26\"],[1.0,\"#f0f921\"]]}],\"mesh3d\":[{\"type\":\"mesh3d\",\"colorbar\":{\"outlinewidth\":0,\"ticks\":\"\"}}],\"scatter\":[{\"fillpattern\":{\"fillmode\":\"overlay\",\"size\":10,\"solidity\":0.2},\"type\":\"scatter\"}],\"parcoords\":[{\"type\":\"parcoords\",\"line\":{\"colorbar\":{\"outlinewidth\":0,\"ticks\":\"\"}}}],\"scatterpolargl\":[{\"type\":\"scatterpolargl\",\"marker\":{\"colorbar\":{\"outlinewidth\":0,\"ticks\":\"\"}}}],\"bar\":[{\"error_x\":{\"color\":\"#2a3f5f\"},\"error_y\":{\"color\":\"#2a3f5f\"},\"marker\":{\"line\":{\"color\":\"#E5ECF6\",\"width\":0.5},\"pattern\":{\"fillmode\":\"overlay\",\"size\":10,\"solidity\":0.2}},\"type\":\"bar\"}],\"scattergeo\":[{\"type\":\"scattergeo\",\"marker\":{\"colorbar\":{\"outlinewidth\":0,\"ticks\":\"\"}}}],\"scatterpolar\":[{\"type\":\"scatterpolar\",\"marker\":{\"colorbar\":{\"outlinewidth\":0,\"ticks\":\"\"}}}],\"histogram\":[{\"marker\":{\"pattern\":{\"fillmode\":\"overlay\",\"size\":10,\"solidity\":0.2}},\"type\":\"histogram\"}],\"scattergl\":[{\"type\":\"scattergl\",\"marker\":{\"colorbar\":{\"outlinewidth\":0,\"ticks\":\"\"}}}],\"scatter3d\":[{\"type\":\"scatter3d\",\"line\":{\"colorbar\":{\"outlinewidth\":0,\"ticks\":\"\"}},\"marker\":{\"colorbar\":{\"outlinewidth\":0,\"ticks\":\"\"}}}],\"scattermapbox\":[{\"type\":\"scattermapbox\",\"marker\":{\"colorbar\":{\"outlinewidth\":0,\"ticks\":\"\"}}}],\"scatterternary\":[{\"type\":\"scatterternary\",\"marker\":{\"colorbar\":{\"outlinewidth\":0,\"ticks\":\"\"}}}],\"scattercarpet\":[{\"type\":\"scattercarpet\",\"marker\":{\"colorbar\":{\"outlinewidth\":0,\"ticks\":\"\"}}}],\"carpet\":[{\"aaxis\":{\"endlinecolor\":\"#2a3f5f\",\"gridcolor\":\"white\",\"linecolor\":\"white\",\"minorgridcolor\":\"white\",\"startlinecolor\":\"#2a3f5f\"},\"baxis\":{\"endlinecolor\":\"#2a3f5f\",\"gridcolor\":\"white\",\"linecolor\":\"white\",\"minorgridcolor\":\"white\",\"startlinecolor\":\"#2a3f5f\"},\"type\":\"carpet\"}],\"table\":[{\"cells\":{\"fill\":{\"color\":\"#EBF0F8\"},\"line\":{\"color\":\"white\"}},\"header\":{\"fill\":{\"color\":\"#C8D4E3\"},\"line\":{\"color\":\"white\"}},\"type\":\"table\"}],\"barpolar\":[{\"marker\":{\"line\":{\"color\":\"#E5ECF6\",\"width\":0.5},\"pattern\":{\"fillmode\":\"overlay\",\"size\":10,\"solidity\":0.2}},\"type\":\"barpolar\"}],\"pie\":[{\"automargin\":true,\"type\":\"pie\"}]},\"layout\":{\"autotypenumbers\":\"strict\",\"colorway\":[\"#636efa\",\"#EF553B\",\"#00cc96\",\"#ab63fa\",\"#FFA15A\",\"#19d3f3\",\"#FF6692\",\"#B6E880\",\"#FF97FF\",\"#FECB52\"],\"font\":{\"color\":\"#2a3f5f\"},\"hovermode\":\"closest\",\"hoverlabel\":{\"align\":\"left\"},\"paper_bgcolor\":\"white\",\"plot_bgcolor\":\"#E5ECF6\",\"polar\":{\"bgcolor\":\"#E5ECF6\",\"angularaxis\":{\"gridcolor\":\"white\",\"linecolor\":\"white\",\"ticks\":\"\"},\"radialaxis\":{\"gridcolor\":\"white\",\"linecolor\":\"white\",\"ticks\":\"\"}},\"ternary\":{\"bgcolor\":\"#E5ECF6\",\"aaxis\":{\"gridcolor\":\"white\",\"linecolor\":\"white\",\"ticks\":\"\"},\"baxis\":{\"gridcolor\":\"white\",\"linecolor\":\"white\",\"ticks\":\"\"},\"caxis\":{\"gridcolor\":\"white\",\"linecolor\":\"white\",\"ticks\":\"\"}},\"coloraxis\":{\"colorbar\":{\"outlinewidth\":0,\"ticks\":\"\"}},\"colorscale\":{\"sequential\":[[0.0,\"#0d0887\"],[0.1111111111111111,\"#46039f\"],[0.2222222222222222,\"#7201a8\"],[0.3333333333333333,\"#9c179e\"],[0.4444444444444444,\"#bd3786\"],[0.5555555555555556,\"#d8576b\"],[0.6666666666666666,\"#ed7953\"],[0.7777777777777778,\"#fb9f3a\"],[0.8888888888888888,\"#fdca26\"],[1.0,\"#f0f921\"]],\"sequentialminus\":[[0.0,\"#0d0887\"],[0.1111111111111111,\"#46039f\"],[0.2222222222222222,\"#7201a8\"],[0.3333333333333333,\"#9c179e\"],[0.4444444444444444,\"#bd3786\"],[0.5555555555555556,\"#d8576b\"],[0.6666666666666666,\"#ed7953\"],[0.7777777777777778,\"#fb9f3a\"],[0.8888888888888888,\"#fdca26\"],[1.0,\"#f0f921\"]],\"diverging\":[[0,\"#8e0152\"],[0.1,\"#c51b7d\"],[0.2,\"#de77ae\"],[0.3,\"#f1b6da\"],[0.4,\"#fde0ef\"],[0.5,\"#f7f7f7\"],[0.6,\"#e6f5d0\"],[0.7,\"#b8e186\"],[0.8,\"#7fbc41\"],[0.9,\"#4d9221\"],[1,\"#276419\"]]},\"xaxis\":{\"gridcolor\":\"white\",\"linecolor\":\"white\",\"ticks\":\"\",\"title\":{\"standoff\":15},\"zerolinecolor\":\"white\",\"automargin\":true,\"zerolinewidth\":2},\"yaxis\":{\"gridcolor\":\"white\",\"linecolor\":\"white\",\"ticks\":\"\",\"title\":{\"standoff\":15},\"zerolinecolor\":\"white\",\"automargin\":true,\"zerolinewidth\":2},\"scene\":{\"xaxis\":{\"backgroundcolor\":\"#E5ECF6\",\"gridcolor\":\"white\",\"linecolor\":\"white\",\"showbackground\":true,\"ticks\":\"\",\"zerolinecolor\":\"white\",\"gridwidth\":2},\"yaxis\":{\"backgroundcolor\":\"#E5ECF6\",\"gridcolor\":\"white\",\"linecolor\":\"white\",\"showbackground\":true,\"ticks\":\"\",\"zerolinecolor\":\"white\",\"gridwidth\":2},\"zaxis\":{\"backgroundcolor\":\"#E5ECF6\",\"gridcolor\":\"white\",\"linecolor\":\"white\",\"showbackground\":true,\"ticks\":\"\",\"zerolinecolor\":\"white\",\"gridwidth\":2}},\"shapedefaults\":{\"line\":{\"color\":\"#2a3f5f\"}},\"annotationdefaults\":{\"arrowcolor\":\"#2a3f5f\",\"arrowhead\":0,\"arrowwidth\":1},\"geo\":{\"bgcolor\":\"white\",\"landcolor\":\"#E5ECF6\",\"subunitcolor\":\"white\",\"showland\":true,\"showlakes\":true,\"lakecolor\":\"white\"},\"title\":{\"x\":0.05},\"mapbox\":{\"style\":\"light\"}}},\"xaxis\":{\"anchor\":\"y\",\"domain\":[0.0,1.0],\"title\":{\"text\":\"n_labels\"}},\"yaxis\":{\"anchor\":\"x\",\"domain\":[0.0,1.0],\"title\":{\"text\":\"n_images\"}},\"legend\":{\"tracegroupgap\":0},\"margin\":{\"t\":60},\"barmode\":\"relative\",\"title\":{\"x\":0.5,\"text\":\"How many images do we have which contain n different labels?\"}},                        {\"responsive\": true}                    ).then(function(){\n",
       "                            \n",
       "var gd = document.getElementById('0442027a-af1f-495b-bf86-589578df43e4');\n",
       "var x = new MutationObserver(function (mutations, observer) {{\n",
       "        var display = window.getComputedStyle(gd).display;\n",
       "        if (!display || display === 'none') {{\n",
       "            console.log([gd, 'removed!']);\n",
       "            Plotly.purge(gd);\n",
       "            observer.disconnect();\n",
       "        }}\n",
       "}});\n",
       "\n",
       "// Listen for the removal of the full notebook cells\n",
       "var notebookContainer = gd.closest('#notebook-container');\n",
       "if (notebookContainer) {{\n",
       "    x.observe(notebookContainer, {childList: true});\n",
       "}}\n",
       "\n",
       "// Listen for the clearing of the current output cell\n",
       "var outputEl = gd.closest('.output');\n",
       "if (outputEl) {{\n",
       "    x.observe(outputEl, {childList: true});\n",
       "}}\n",
       "\n",
       "                        })                };                });            </script>        </div>"
      ]
     },
     "metadata": {},
     "output_type": "display_data"
    }
   ],
   "source": [
    "df_label_count = sqldf(\n",
    "    \"\"\"\n",
    "    SELECT n_labels, COUNT(*) n_images\n",
    "    FROM (\n",
    "        SELECT timestamp, COUNT(label_name) AS n_labels\n",
    "        FROM df\n",
    "        WHERE label_name NOT IN ('unlabeled', 'overlap')\n",
    "        GROUP BY timestamp\n",
    "    )\n",
    "    GROUP BY n_labels\n",
    "\n",
    "    UNION\n",
    "\n",
    "    SELECT 0, COUNT(*)\n",
    "    FROM (\n",
    "        SELECT timestamp, COUNT(label_name) AS n_labels\n",
    "        FROM df\n",
    "        GROUP BY timestamp\n",
    "        HAVING n_labels = 1 AND label_name = 'unlabeled'\n",
    "    )\n",
    "\"\"\"\n",
    ")\n",
    "\n",
    "fig = px.bar(df_label_count, x=\"n_labels\", y=\"n_images\")\n",
    "fig.update_layout(title_x=0.5, title_text=\"How many images do we have which contain n different labels?\")\n",
    "fig.show()"
   ]
  },
  {
   "cell_type": "code",
   "execution_count": 10,
   "id": "czech-potato",
   "metadata": {},
   "outputs": [
    {
     "data": {
      "text/plain": [
       "True"
      ]
     },
     "execution_count": 10,
     "metadata": {},
     "output_type": "execute_result"
    }
   ],
   "source": [
    "# If only 1 label is present in the image, it must be unlabeled\n",
    "df_1label = sqldf(\n",
    "    \"\"\"\n",
    "    SELECT timestamp\n",
    "    FROM df\n",
    "    GROUP BY timestamp\n",
    "    HAVING COUNT(label_name) = 1\n",
    "\"\"\"\n",
    ")\n",
    "df_unlabeled = sqldf(\n",
    "    \"\"\"\n",
    "    SELECT timestamp\n",
    "    FROM df\n",
    "    GROUP BY timestamp\n",
    "    HAVING COUNT(label_name) = 1 AND label_name = 'unlabeled'\n",
    "\"\"\"\n",
    ")\n",
    "all(df_1label == df_unlabeled)"
   ]
  },
  {
   "cell_type": "markdown",
   "id": "comprehensive-potato",
   "metadata": {},
   "source": [
    "## Additional Test Set Pig"
   ]
  },
  {
   "cell_type": "code",
   "execution_count": 11,
   "id": "useful-beaver",
   "metadata": {},
   "outputs": [
    {
     "data": {
      "text/html": [
       "<div>\n",
       "<style scoped>\n",
       "    .dataframe tbody tr th:only-of-type {\n",
       "        vertical-align: middle;\n",
       "    }\n",
       "\n",
       "    .dataframe tbody tr th {\n",
       "        vertical-align: top;\n",
       "    }\n",
       "\n",
       "    .dataframe thead th {\n",
       "        text-align: right;\n",
       "    }\n",
       "</style>\n",
       "<table border=\"1\" class=\"dataframe\">\n",
       "  <thead>\n",
       "    <tr style=\"text-align: right;\">\n",
       "      <th></th>\n",
       "      <th>label_name</th>\n",
       "      <th>pigs</th>\n",
       "    </tr>\n",
       "  </thead>\n",
       "  <tbody>\n",
       "    <tr>\n",
       "      <th>0</th>\n",
       "      <td>kidney</td>\n",
       "      <td>P058,P059,P061,P062,P072</td>\n",
       "    </tr>\n",
       "    <tr>\n",
       "      <th>1</th>\n",
       "      <td>kidney_with_Gerotas_fascia</td>\n",
       "      <td>P058,P059,P060,P062,P072</td>\n",
       "    </tr>\n",
       "    <tr>\n",
       "      <th>2</th>\n",
       "      <td>muscle</td>\n",
       "      <td>P044,P060,P061,P062,P070,P072</td>\n",
       "    </tr>\n",
       "    <tr>\n",
       "      <th>3</th>\n",
       "      <td>major_vein</td>\n",
       "      <td>P058,P059,P060,P062,P072</td>\n",
       "    </tr>\n",
       "  </tbody>\n",
       "</table>\n",
       "</div>"
      ],
      "text/plain": [
       "          label_name                           pigs\n",
       "0             kidney       P058,P059,P061,P062,P072\n",
       "1  kidney_with_Gerotas_fascia       P058,P059,P060,P062,P072\n",
       "2             muscle  P044,P060,P061,P062,P070,P072\n",
       "3          major_vein       P058,P059,P060,P062,P072"
      ]
     },
     "execution_count": 11,
     "metadata": {},
     "output_type": "execute_result"
    }
   ],
   "source": [
    "new_labels = [\"muscle\", \"kidney\", \"major_vein\", \"kidney_with_Gerotas_fascia\"]\n",
    "df_new = df.query(\"label_name in @new_labels\")\n",
    "df_new_pigs = sqldf(\n",
    "    \"\"\"\n",
    "    SELECT label_name, GROUP_CONCAT(subject_name, ',') AS pigs\n",
    "    FROM (\n",
    "        SELECT DISTINCT label_name, subject_name\n",
    "        FROM df_new\n",
    "    )\n",
    "    GROUP BY label_name\n",
    "\"\"\"\n",
    ")\n",
    "\n",
    "df_new_pigs"
   ]
  },
  {
   "cell_type": "code",
   "execution_count": 12,
   "id": "private-julian",
   "metadata": {},
   "outputs": [
    {
     "data": {
      "text/html": [
       "<div>\n",
       "<style scoped>\n",
       "    .dataframe tbody tr th:only-of-type {\n",
       "        vertical-align: middle;\n",
       "    }\n",
       "\n",
       "    .dataframe tbody tr th {\n",
       "        vertical-align: top;\n",
       "    }\n",
       "\n",
       "    .dataframe thead th {\n",
       "        text-align: right;\n",
       "    }\n",
       "</style>\n",
       "<table border=\"1\" class=\"dataframe\">\n",
       "  <thead>\n",
       "    <tr style=\"text-align: right;\">\n",
       "      <th></th>\n",
       "      <th>subject_name</th>\n",
       "      <th>label_name</th>\n",
       "      <th>n_images</th>\n",
       "    </tr>\n",
       "  </thead>\n",
       "  <tbody>\n",
       "    <tr>\n",
       "      <th>0</th>\n",
       "      <td>P062</td>\n",
       "      <td>kidney</td>\n",
       "      <td>17</td>\n",
       "    </tr>\n",
       "    <tr>\n",
       "      <th>1</th>\n",
       "      <td>P062</td>\n",
       "      <td>kidney_with_Gerotas_fascia</td>\n",
       "      <td>10</td>\n",
       "    </tr>\n",
       "    <tr>\n",
       "      <th>2</th>\n",
       "      <td>P062</td>\n",
       "      <td>muscle</td>\n",
       "      <td>12</td>\n",
       "    </tr>\n",
       "    <tr>\n",
       "      <th>3</th>\n",
       "      <td>P062</td>\n",
       "      <td>major_vein</td>\n",
       "      <td>10</td>\n",
       "    </tr>\n",
       "    <tr>\n",
       "      <th>4</th>\n",
       "      <td>P072</td>\n",
       "      <td>kidney</td>\n",
       "      <td>9</td>\n",
       "    </tr>\n",
       "    <tr>\n",
       "      <th>5</th>\n",
       "      <td>P072</td>\n",
       "      <td>kidney_with_Gerotas_fascia</td>\n",
       "      <td>1</td>\n",
       "    </tr>\n",
       "    <tr>\n",
       "      <th>6</th>\n",
       "      <td>P072</td>\n",
       "      <td>muscle</td>\n",
       "      <td>6</td>\n",
       "    </tr>\n",
       "    <tr>\n",
       "      <th>7</th>\n",
       "      <td>P072</td>\n",
       "      <td>major_vein</td>\n",
       "      <td>8</td>\n",
       "    </tr>\n",
       "  </tbody>\n",
       "</table>\n",
       "</div>"
      ],
      "text/plain": [
       "  subject_name         label_name  n_images\n",
       "0         P062             kidney        17\n",
       "1         P062  kidney_with_Gerotas_fascia        10\n",
       "2         P062             muscle        12\n",
       "3         P062          major_vein        10\n",
       "4         P072             kidney         9\n",
       "5         P072  kidney_with_Gerotas_fascia         1\n",
       "6         P072             muscle         6\n",
       "7         P072          major_vein         8"
      ]
     },
     "execution_count": 12,
     "metadata": {},
     "output_type": "execute_result"
    }
   ],
   "source": [
    "sqldf(\n",
    "    \"\"\"\n",
    "    SELECT subject_name, label_name, COUNT(*) AS n_images\n",
    "    FROM df_new\n",
    "    WHERE subject_name IN ('P062', 'P072')\n",
    "    GROUP BY subject_name, label_name\n",
    "\"\"\"\n",
    ")"
   ]
  },
  {
   "cell_type": "code",
   "execution_count": 13,
   "id": "proud-principle",
   "metadata": {},
   "outputs": [
    {
     "data": {
      "text/html": [
       "<div>\n",
       "<style scoped>\n",
       "    .dataframe tbody tr th:only-of-type {\n",
       "        vertical-align: middle;\n",
       "    }\n",
       "\n",
       "    .dataframe tbody tr th {\n",
       "        vertical-align: top;\n",
       "    }\n",
       "\n",
       "    .dataframe thead th {\n",
       "        text-align: right;\n",
       "    }\n",
       "</style>\n",
       "<table border=\"1\" class=\"dataframe\">\n",
       "  <thead>\n",
       "    <tr style=\"text-align: right;\">\n",
       "      <th></th>\n",
       "      <th>label_name</th>\n",
       "      <th>n_pigs</th>\n",
       "    </tr>\n",
       "  </thead>\n",
       "  <tbody>\n",
       "    <tr>\n",
       "      <th>0</th>\n",
       "      <td>kidney</td>\n",
       "      <td>5</td>\n",
       "    </tr>\n",
       "    <tr>\n",
       "      <th>1</th>\n",
       "      <td>kidney_with_Gerotas_fascia</td>\n",
       "      <td>5</td>\n",
       "    </tr>\n",
       "    <tr>\n",
       "      <th>2</th>\n",
       "      <td>major_vein</td>\n",
       "      <td>5</td>\n",
       "    </tr>\n",
       "    <tr>\n",
       "      <th>3</th>\n",
       "      <td>muscle</td>\n",
       "      <td>6</td>\n",
       "    </tr>\n",
       "    <tr>\n",
       "      <th>4</th>\n",
       "      <td>heart</td>\n",
       "      <td>8</td>\n",
       "    </tr>\n",
       "    <tr>\n",
       "      <th>5</th>\n",
       "      <td>lung</td>\n",
       "      <td>8</td>\n",
       "    </tr>\n",
       "    <tr>\n",
       "      <th>6</th>\n",
       "      <td>pancreas</td>\n",
       "      <td>10</td>\n",
       "    </tr>\n",
       "    <tr>\n",
       "      <th>7</th>\n",
       "      <td>background</td>\n",
       "      <td>11</td>\n",
       "    </tr>\n",
       "    <tr>\n",
       "      <th>8</th>\n",
       "      <td>gallbladder</td>\n",
       "      <td>13</td>\n",
       "    </tr>\n",
       "    <tr>\n",
       "      <th>9</th>\n",
       "      <td>bladder</td>\n",
       "      <td>14</td>\n",
       "    </tr>\n",
       "    <tr>\n",
       "      <th>10</th>\n",
       "      <td>fat</td>\n",
       "      <td>18</td>\n",
       "    </tr>\n",
       "    <tr>\n",
       "      <th>11</th>\n",
       "      <td>omentum</td>\n",
       "      <td>18</td>\n",
       "    </tr>\n",
       "    <tr>\n",
       "      <th>12</th>\n",
       "      <td>peritoneum</td>\n",
       "      <td>19</td>\n",
       "    </tr>\n",
       "    <tr>\n",
       "      <th>13</th>\n",
       "      <td>skin</td>\n",
       "      <td>19</td>\n",
       "    </tr>\n",
       "    <tr>\n",
       "      <th>14</th>\n",
       "      <td>spleen</td>\n",
       "      <td>19</td>\n",
       "    </tr>\n",
       "    <tr>\n",
       "      <th>15</th>\n",
       "      <td>colon</td>\n",
       "      <td>20</td>\n",
       "    </tr>\n",
       "    <tr>\n",
       "      <th>16</th>\n",
       "      <td>small_bowel</td>\n",
       "      <td>20</td>\n",
       "    </tr>\n",
       "    <tr>\n",
       "      <th>17</th>\n",
       "      <td>liver</td>\n",
       "      <td>20</td>\n",
       "    </tr>\n",
       "    <tr>\n",
       "      <th>18</th>\n",
       "      <td>stomach</td>\n",
       "      <td>20</td>\n",
       "    </tr>\n",
       "  </tbody>\n",
       "</table>\n",
       "</div>"
      ],
      "text/plain": [
       "           label_name  n_pigs\n",
       "0              kidney       5\n",
       "1   kidney_with_Gerotas_fascia       5\n",
       "2           major_vein       5\n",
       "3              muscle       6\n",
       "4               heart       8\n",
       "5                lung       8\n",
       "6            pancreas      10\n",
       "7          background      11\n",
       "8         gallbladder      13\n",
       "9             bladder      14\n",
       "10                fat      18\n",
       "11            omentum      18\n",
       "12         peritoneum      19\n",
       "13               skin      19\n",
       "14             spleen      19\n",
       "15              colon      20\n",
       "16            small_bowel      20\n",
       "17              liver      20\n",
       "18            stomach      20"
      ]
     },
     "execution_count": 13,
     "metadata": {},
     "output_type": "execute_result"
    }
   ],
   "source": [
    "df_organs = df.query(\"label_name in @settings_seg.labels\")\n",
    "sqldf(\n",
    "    \"\"\"\n",
    "    SELECT label_name, COUNT(DISTINCT subject_name) AS n_pigs\n",
    "    FROM df_organs\n",
    "    GROUP BY label_name\n",
    "    ORDER BY n_pigs\n",
    "\"\"\"\n",
    ")"
   ]
  },
  {
   "cell_type": "code",
   "execution_count": null,
   "id": "ccfa8374-392b-4623-b8c3-452b866818dc",
   "metadata": {},
   "outputs": [],
   "source": []
  }
 ],
 "metadata": {
  "kernelspec": {
   "display_name": "Python 3.9.12 ('htc')",
   "language": "python",
   "name": "python3"
  },
  "language_info": {
   "codemirror_mode": {
    "name": "ipython",
    "version": 3
   },
   "file_extension": ".py",
   "mimetype": "text/x-python",
   "name": "python",
   "nbconvert_exporter": "python",
   "pygments_lexer": "ipython3",
   "version": "3.10.6"
  },
  "vscode": {
   "interpreter": {
    "hash": "61170b39e877780504190538137489184be539aab65d19cb093e9e0273d7e14b"
   }
  }
 },
 "nbformat": 4,
 "nbformat_minor": 5
}
