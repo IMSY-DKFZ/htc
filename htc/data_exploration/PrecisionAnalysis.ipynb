{
 "cells": [
  {
   "cell_type": "markdown",
   "id": "8e4f7e97-6727-4e75-bef0-6d4c4c3347f4",
   "metadata": {},
   "source": [
    "# Precision Analysis"
   ]
  },
  {
   "cell_type": "code",
   "execution_count": 1,
   "id": "8585735d-7be1-47e3-9acf-43e3ddf90097",
   "metadata": {},
   "outputs": [
    {
     "name": "stderr",
     "output_type": "stream",
     "text": [
      "/home/j562r/miniconda3/envs/htc/lib/python3.10/site-packages/tqdm/auto.py:22: TqdmWarning: IProgress not found. Please update jupyter and ipywidgets. See https://ipywidgets.readthedocs.io/en/stable/user_install.html\n",
      "  from .autonotebook import tqdm as notebook_tqdm\n"
     ]
    }
   ],
   "source": [
    "%load_ext autoreload\n",
    "%autoreload 2\n",
    "\n",
    "import plotly.graph_objects as go\n",
    "import torch\n",
    "\n",
    "from htc.models.image.DatasetImage import DatasetImage\n",
    "from htc.settings import settings\n",
    "from htc.tivita.DataPath import DataPath\n",
    "from htc.utils.Config import Config"
   ]
  },
  {
   "cell_type": "code",
   "execution_count": 2,
   "id": "8850bb0d-9fb2-49e2-a4b5-1ee145496fa8",
   "metadata": {},
   "outputs": [],
   "source": [
    "paths = list(DataPath.iterate(settings.data_dirs.semantic))[:10]\n",
    "dataset_16 = DatasetImage(\n",
    "    paths, train=False, config=Config({\"input/preprocessing\": \"L1\", \"trainer_kwargs/precision\": 16})\n",
    ")\n",
    "dataset_32 = DatasetImage(paths, train=False, config=Config({\"input/normalization\": \"L1\"}))"
   ]
  },
  {
   "cell_type": "markdown",
   "id": "ddd7fb66-1d9b-42b7-b8f8-373adc2fa927",
   "metadata": {},
   "source": [
    "## Load as fp16 but cast to fp32"
   ]
  },
  {
   "cell_type": "code",
   "execution_count": 3,
   "id": "beb9997b-b7c4-4ebf-94bf-dea32960ba01",
   "metadata": {},
   "outputs": [
    {
     "name": "stdout",
     "output_type": "stream",
     "text": [
      "Average absolute difference between reflectance values: 1.6563968756599934e-06\n",
      "Average absolute difference of spectra sums: 0.00016563966346438974\n",
      "Average mean spectra value differences: 3.4010736271739006e-07\n"
     ]
    }
   ],
   "source": [
    "abs_diffs = []\n",
    "spectra_diffs = []\n",
    "mean_spectra_diffs = []\n",
    "for sample_16, sample_32 in zip(dataset_16, dataset_32):\n",
    "    diffs = torch.abs(sample_16[\"features\"].float() - sample_32[\"features\"])\n",
    "    abs_diffs.append(diffs.mean())\n",
    "\n",
    "    spectra_diffs.append(diffs.sum(dim=-1).mean())\n",
    "\n",
    "    sum_16 = sample_16[\"features\"].float().mean(dim=(0, 1))\n",
    "    sum_32 = sample_32[\"features\"].mean(dim=(0, 1))\n",
    "    mean_spectra_diffs.append(torch.abs(sum_16 - sum_32).sum())\n",
    "\n",
    "print(f\"Average absolute difference between reflectance values: {torch.mean(torch.stack(abs_diffs))}\")\n",
    "print(f\"Average absolute difference of spectra sums: {torch.mean(torch.stack(spectra_diffs))}\")\n",
    "print(f\"Average mean spectra value differences: {torch.mean(torch.stack(mean_spectra_diffs))}\")"
   ]
  },
  {
   "cell_type": "markdown",
   "id": "8cc0ffba-d484-4604-8872-94bf6247e73e",
   "metadata": {},
   "source": [
    "## Load as fp16, use as fp16"
   ]
  },
  {
   "cell_type": "code",
   "execution_count": 4,
   "id": "e81ffcc1-da8f-4096-8ac3-f880ab18ee40",
   "metadata": {},
   "outputs": [
    {
     "name": "stdout",
     "output_type": "stream",
     "text": [
      "Average absolute difference between reflectance values: 1.6563968756599934e-06\n",
      "Average absolute difference of spectra sums: 0.00016563966346438974\n",
      "Average mean spectra value differences: 0.9988231658935547\n"
     ]
    }
   ],
   "source": [
    "with torch.autocast(device_type=\"cpu\"):\n",
    "    abs_diffs = []\n",
    "    spectra_diffs = []\n",
    "    mean_spectra_diffs = []\n",
    "    for sample_16, sample_32 in zip(dataset_16, dataset_32):\n",
    "        diffs = torch.abs(sample_16[\"features\"] - sample_32[\"features\"])\n",
    "        abs_diffs.append(diffs.mean())\n",
    "\n",
    "        spectra_diffs.append(diffs.sum(dim=-1).mean())\n",
    "\n",
    "        sum_16 = sample_16[\"features\"].mean(dim=(0, 1))\n",
    "        sum_32 = sample_32[\"features\"].mean(dim=(0, 1))\n",
    "        mean_spectra_diffs.append(torch.abs(sum_16 - sum_32).sum())\n",
    "\n",
    "    print(f\"Average absolute difference between reflectance values: {torch.mean(torch.stack(abs_diffs))}\")\n",
    "    print(f\"Average absolute difference of spectra sums: {torch.mean(torch.stack(spectra_diffs))}\")\n",
    "    print(f\"Average mean spectra value differences: {torch.mean(torch.stack(mean_spectra_diffs))}\")"
   ]
  },
  {
   "cell_type": "markdown",
   "id": "fb30466f-07f0-438e-9f17-19f592195917",
   "metadata": {},
   "source": [
    "## Visual comparison"
   ]
  },
  {
   "cell_type": "code",
   "execution_count": 5,
   "id": "e81e38cf-1c38-47a4-b703-4233aa45289f",
   "metadata": {},
   "outputs": [
    {
     "data": {
      "text/html": [
       "        <script type=\"text/javascript\">\n",
       "        window.PlotlyConfig = {MathJaxConfig: 'local'};\n",
       "        if (window.MathJax && window.MathJax.Hub && window.MathJax.Hub.Config) {window.MathJax.Hub.Config({SVG: {font: \"STIX-Web\"}});}\n",
       "        if (typeof require !== 'undefined') {\n",
       "        require.undef(\"plotly\");\n",
       "        requirejs.config({\n",
       "            paths: {\n",
       "                'plotly': ['https://cdn.plot.ly/plotly-2.14.0.min']\n",
       "            }\n",
       "        });\n",
       "        require(['plotly'], function(Plotly) {\n",
       "            window._Plotly = Plotly;\n",
       "        });\n",
       "        }\n",
       "        </script>\n",
       "        "
      ]
     },
     "metadata": {},
     "output_type": "display_data"
    },
    {
     "data": {
      "application/vnd.plotly.v1+json": {
       "config": {
        "plotlyServerURL": "https://plot.ly"
       },
       "data": [
        {
         "name": "fp16",
         "type": "scatter",
         "y": [
          0.004114895593374968,
          0.0036180380266159773,
          0.0037185887340456247,
          0.0034904361236840487,
          0.0032028132118284702,
          0.0030216211453080177,
          0.0028724921867251396,
          0.0029119495302438736,
          0.002956281416118145,
          0.0029773693531751633,
          0.003008152125403285,
          0.0030637860763818026,
          0.0030948666390031576,
          0.0030373167246580124,
          0.002961360616609454,
          0.002935096388682723,
          0.0030556628480553627,
          0.0034611893352121115,
          0.004017576575279236,
          0.00468156673014164,
          0.005322120152413845,
          0.005936747416853905,
          0.006451241206377745,
          0.006874790880829096,
          0.0071914768777787685,
          0.007507581729441881,
          0.007764147128909826,
          0.007947509177029133,
          0.008135669864714146,
          0.008342322893440723,
          0.008507724851369858,
          0.008660538122057915,
          0.008813748136162758,
          0.008989529684185982,
          0.009222074411809444,
          0.009460615925490856,
          0.009737253189086914,
          0.010008195415139198,
          0.010284158401191235,
          0.010533151216804981,
          0.010722317732870579,
          0.010871179401874542,
          0.010997124947607517,
          0.01108626089990139,
          0.01114735845476389,
          0.0111918356269598,
          0.011174885556101799,
          0.011111685074865818,
          0.011033039540052414,
          0.010865344665944576,
          0.010719060897827148,
          0.010607166215777397,
          0.010570150800049305,
          0.01063629612326622,
          0.010769087821245193,
          0.010875439271330833,
          0.010982688516378403,
          0.011080218479037285,
          0.011146510019898415,
          0.011209654621779919,
          0.011271041817963123,
          0.011326941661536694,
          0.011374961584806442,
          0.011429587379097939,
          0.011470634490251541,
          0.011521678417921066,
          0.011577403172850609,
          0.011675176210701466,
          0.011818048544228077,
          0.011962967924773693,
          0.012108961120247841,
          0.012262591160833836,
          0.012446558102965355,
          0.012614420615136623,
          0.012786757200956345,
          0.012971903197467327,
          0.01313888467848301,
          0.013323858380317688,
          0.013520407490432262,
          0.0137567650526762,
          0.013975388370454311,
          0.014179889112710953,
          0.014391563832759857,
          0.014588257297873497,
          0.014761117286980152,
          0.014905758202075958,
          0.015031075105071068,
          0.01524423249065876,
          0.015415974892675877,
          0.015501267276704311,
          0.015582055784761906,
          0.015696963295340538,
          0.015524241141974926,
          0.015440139919519424,
          0.015589858405292034,
          0.015640705823898315,
          0.015607809647917747,
          0.015555532649159431,
          0.015684587880969048,
          0.01580703631043434
         ]
        },
        {
         "name": "fp32",
         "type": "scatter",
         "y": [
          0.00411489512771368,
          0.0036180352326482534,
          0.003718589199706912,
          0.0034904361236840487,
          0.0032028122805058956,
          0.0030216185841709375,
          0.002872493816539645,
          0.00291194929741323,
          0.0029562797863036394,
          0.002977366792038083,
          0.003008153522387147,
          0.0030637867748737335,
          0.0030948666390031576,
          0.003037314862012863,
          0.002961360616609454,
          0.002935099648311734,
          0.003055664012208581,
          0.003461187705397606,
          0.004017573781311512,
          0.004681563936173916,
          0.005322118755429983,
          0.0059367455542087555,
          0.0064512393437325954,
          0.006874786224216223,
          0.007191479206085205,
          0.007507581729441881,
          0.00776414480060339,
          0.007947512902319431,
          0.008135669864714146,
          0.008342321030795574,
          0.008507730439305305,
          0.008660535328090191,
          0.008813746273517609,
          0.008989529684185982,
          0.009222072549164295,
          0.009460614062845707,
          0.009737245738506317,
          0.010008197277784348,
          0.010284156538546085,
          0.010533151216804981,
          0.010722314938902855,
          0.010871173813939095,
          0.010997130535542965,
          0.011086264625191689,
          0.011147365905344486,
          0.011191844008862972,
          0.0111748818308115,
          0.011111690662801266,
          0.011033037677407265,
          0.010865344665944576,
          0.010719073005020618,
          0.01060716062784195,
          0.010570148937404156,
          0.010636291466653347,
          0.010769088752567768,
          0.010875433683395386,
          0.010982695035636425,
          0.011080224998295307,
          0.011146510019898415,
          0.011209653690457344,
          0.011271040886640549,
          0.011326942592859268,
          0.011374963447451591,
          0.011429587379097939,
          0.011470644734799862,
          0.011521672829985619,
          0.011577400378882885,
          0.01167517900466919,
          0.011818055994808674,
          0.011962968856096268,
          0.01210896484553814,
          0.012262585572898388,
          0.012446555308997631,
          0.012614419683814049,
          0.012786759994924068,
          0.012971912510693073,
          0.01313888467848301,
          0.013323857448995113,
          0.013520411215722561,
          0.013756760396063328,
          0.013975384645164013,
          0.014179890975356102,
          0.014391565695405006,
          0.014588270336389542,
          0.014761115424335003,
          0.014905758202075958,
          0.015031078830361366,
          0.015244227834045887,
          0.015415972098708153,
          0.015501287765800953,
          0.015582059510052204,
          0.015696965157985687,
          0.015524247661232948,
          0.015440144576132298,
          0.015589844435453415,
          0.01564069651067257,
          0.015607798472046852,
          0.015555525198578835,
          0.0156845860183239,
          0.01580704003572464
         ]
        }
       ],
       "layout": {
        "autosize": true,
        "template": {
         "data": {
          "bar": [
           {
            "error_x": {
             "color": "#2a3f5f"
            },
            "error_y": {
             "color": "#2a3f5f"
            },
            "marker": {
             "line": {
              "color": "#E5ECF6",
              "width": 0.5
             },
             "pattern": {
              "fillmode": "overlay",
              "size": 10,
              "solidity": 0.2
             }
            },
            "type": "bar"
           }
          ],
          "barpolar": [
           {
            "marker": {
             "line": {
              "color": "#E5ECF6",
              "width": 0.5
             },
             "pattern": {
              "fillmode": "overlay",
              "size": 10,
              "solidity": 0.2
             }
            },
            "type": "barpolar"
           }
          ],
          "carpet": [
           {
            "aaxis": {
             "endlinecolor": "#2a3f5f",
             "gridcolor": "white",
             "linecolor": "white",
             "minorgridcolor": "white",
             "startlinecolor": "#2a3f5f"
            },
            "baxis": {
             "endlinecolor": "#2a3f5f",
             "gridcolor": "white",
             "linecolor": "white",
             "minorgridcolor": "white",
             "startlinecolor": "#2a3f5f"
            },
            "type": "carpet"
           }
          ],
          "choropleth": [
           {
            "colorbar": {
             "outlinewidth": 0,
             "ticks": ""
            },
            "type": "choropleth"
           }
          ],
          "contour": [
           {
            "colorbar": {
             "outlinewidth": 0,
             "ticks": ""
            },
            "colorscale": [
             [
              0,
              "#0d0887"
             ],
             [
              0.1111111111111111,
              "#46039f"
             ],
             [
              0.2222222222222222,
              "#7201a8"
             ],
             [
              0.3333333333333333,
              "#9c179e"
             ],
             [
              0.4444444444444444,
              "#bd3786"
             ],
             [
              0.5555555555555556,
              "#d8576b"
             ],
             [
              0.6666666666666666,
              "#ed7953"
             ],
             [
              0.7777777777777778,
              "#fb9f3a"
             ],
             [
              0.8888888888888888,
              "#fdca26"
             ],
             [
              1,
              "#f0f921"
             ]
            ],
            "type": "contour"
           }
          ],
          "contourcarpet": [
           {
            "colorbar": {
             "outlinewidth": 0,
             "ticks": ""
            },
            "type": "contourcarpet"
           }
          ],
          "heatmap": [
           {
            "colorbar": {
             "outlinewidth": 0,
             "ticks": ""
            },
            "colorscale": [
             [
              0,
              "#0d0887"
             ],
             [
              0.1111111111111111,
              "#46039f"
             ],
             [
              0.2222222222222222,
              "#7201a8"
             ],
             [
              0.3333333333333333,
              "#9c179e"
             ],
             [
              0.4444444444444444,
              "#bd3786"
             ],
             [
              0.5555555555555556,
              "#d8576b"
             ],
             [
              0.6666666666666666,
              "#ed7953"
             ],
             [
              0.7777777777777778,
              "#fb9f3a"
             ],
             [
              0.8888888888888888,
              "#fdca26"
             ],
             [
              1,
              "#f0f921"
             ]
            ],
            "type": "heatmap"
           }
          ],
          "heatmapgl": [
           {
            "colorbar": {
             "outlinewidth": 0,
             "ticks": ""
            },
            "colorscale": [
             [
              0,
              "#0d0887"
             ],
             [
              0.1111111111111111,
              "#46039f"
             ],
             [
              0.2222222222222222,
              "#7201a8"
             ],
             [
              0.3333333333333333,
              "#9c179e"
             ],
             [
              0.4444444444444444,
              "#bd3786"
             ],
             [
              0.5555555555555556,
              "#d8576b"
             ],
             [
              0.6666666666666666,
              "#ed7953"
             ],
             [
              0.7777777777777778,
              "#fb9f3a"
             ],
             [
              0.8888888888888888,
              "#fdca26"
             ],
             [
              1,
              "#f0f921"
             ]
            ],
            "type": "heatmapgl"
           }
          ],
          "histogram": [
           {
            "marker": {
             "pattern": {
              "fillmode": "overlay",
              "size": 10,
              "solidity": 0.2
             }
            },
            "type": "histogram"
           }
          ],
          "histogram2d": [
           {
            "colorbar": {
             "outlinewidth": 0,
             "ticks": ""
            },
            "colorscale": [
             [
              0,
              "#0d0887"
             ],
             [
              0.1111111111111111,
              "#46039f"
             ],
             [
              0.2222222222222222,
              "#7201a8"
             ],
             [
              0.3333333333333333,
              "#9c179e"
             ],
             [
              0.4444444444444444,
              "#bd3786"
             ],
             [
              0.5555555555555556,
              "#d8576b"
             ],
             [
              0.6666666666666666,
              "#ed7953"
             ],
             [
              0.7777777777777778,
              "#fb9f3a"
             ],
             [
              0.8888888888888888,
              "#fdca26"
             ],
             [
              1,
              "#f0f921"
             ]
            ],
            "type": "histogram2d"
           }
          ],
          "histogram2dcontour": [
           {
            "colorbar": {
             "outlinewidth": 0,
             "ticks": ""
            },
            "colorscale": [
             [
              0,
              "#0d0887"
             ],
             [
              0.1111111111111111,
              "#46039f"
             ],
             [
              0.2222222222222222,
              "#7201a8"
             ],
             [
              0.3333333333333333,
              "#9c179e"
             ],
             [
              0.4444444444444444,
              "#bd3786"
             ],
             [
              0.5555555555555556,
              "#d8576b"
             ],
             [
              0.6666666666666666,
              "#ed7953"
             ],
             [
              0.7777777777777778,
              "#fb9f3a"
             ],
             [
              0.8888888888888888,
              "#fdca26"
             ],
             [
              1,
              "#f0f921"
             ]
            ],
            "type": "histogram2dcontour"
           }
          ],
          "mesh3d": [
           {
            "colorbar": {
             "outlinewidth": 0,
             "ticks": ""
            },
            "type": "mesh3d"
           }
          ],
          "parcoords": [
           {
            "line": {
             "colorbar": {
              "outlinewidth": 0,
              "ticks": ""
             }
            },
            "type": "parcoords"
           }
          ],
          "pie": [
           {
            "automargin": true,
            "type": "pie"
           }
          ],
          "scatter": [
           {
            "fillpattern": {
             "fillmode": "overlay",
             "size": 10,
             "solidity": 0.2
            },
            "type": "scatter"
           }
          ],
          "scatter3d": [
           {
            "line": {
             "colorbar": {
              "outlinewidth": 0,
              "ticks": ""
             }
            },
            "marker": {
             "colorbar": {
              "outlinewidth": 0,
              "ticks": ""
             }
            },
            "type": "scatter3d"
           }
          ],
          "scattercarpet": [
           {
            "marker": {
             "colorbar": {
              "outlinewidth": 0,
              "ticks": ""
             }
            },
            "type": "scattercarpet"
           }
          ],
          "scattergeo": [
           {
            "marker": {
             "colorbar": {
              "outlinewidth": 0,
              "ticks": ""
             }
            },
            "type": "scattergeo"
           }
          ],
          "scattergl": [
           {
            "marker": {
             "colorbar": {
              "outlinewidth": 0,
              "ticks": ""
             }
            },
            "type": "scattergl"
           }
          ],
          "scattermapbox": [
           {
            "marker": {
             "colorbar": {
              "outlinewidth": 0,
              "ticks": ""
             }
            },
            "type": "scattermapbox"
           }
          ],
          "scatterpolar": [
           {
            "marker": {
             "colorbar": {
              "outlinewidth": 0,
              "ticks": ""
             }
            },
            "type": "scatterpolar"
           }
          ],
          "scatterpolargl": [
           {
            "marker": {
             "colorbar": {
              "outlinewidth": 0,
              "ticks": ""
             }
            },
            "type": "scatterpolargl"
           }
          ],
          "scatterternary": [
           {
            "marker": {
             "colorbar": {
              "outlinewidth": 0,
              "ticks": ""
             }
            },
            "type": "scatterternary"
           }
          ],
          "surface": [
           {
            "colorbar": {
             "outlinewidth": 0,
             "ticks": ""
            },
            "colorscale": [
             [
              0,
              "#0d0887"
             ],
             [
              0.1111111111111111,
              "#46039f"
             ],
             [
              0.2222222222222222,
              "#7201a8"
             ],
             [
              0.3333333333333333,
              "#9c179e"
             ],
             [
              0.4444444444444444,
              "#bd3786"
             ],
             [
              0.5555555555555556,
              "#d8576b"
             ],
             [
              0.6666666666666666,
              "#ed7953"
             ],
             [
              0.7777777777777778,
              "#fb9f3a"
             ],
             [
              0.8888888888888888,
              "#fdca26"
             ],
             [
              1,
              "#f0f921"
             ]
            ],
            "type": "surface"
           }
          ],
          "table": [
           {
            "cells": {
             "fill": {
              "color": "#EBF0F8"
             },
             "line": {
              "color": "white"
             }
            },
            "header": {
             "fill": {
              "color": "#C8D4E3"
             },
             "line": {
              "color": "white"
             }
            },
            "type": "table"
           }
          ]
         },
         "layout": {
          "annotationdefaults": {
           "arrowcolor": "#2a3f5f",
           "arrowhead": 0,
           "arrowwidth": 1
          },
          "autotypenumbers": "strict",
          "coloraxis": {
           "colorbar": {
            "outlinewidth": 0,
            "ticks": ""
           }
          },
          "colorscale": {
           "diverging": [
            [
             0,
             "#8e0152"
            ],
            [
             0.1,
             "#c51b7d"
            ],
            [
             0.2,
             "#de77ae"
            ],
            [
             0.3,
             "#f1b6da"
            ],
            [
             0.4,
             "#fde0ef"
            ],
            [
             0.5,
             "#f7f7f7"
            ],
            [
             0.6,
             "#e6f5d0"
            ],
            [
             0.7,
             "#b8e186"
            ],
            [
             0.8,
             "#7fbc41"
            ],
            [
             0.9,
             "#4d9221"
            ],
            [
             1,
             "#276419"
            ]
           ],
           "sequential": [
            [
             0,
             "#0d0887"
            ],
            [
             0.1111111111111111,
             "#46039f"
            ],
            [
             0.2222222222222222,
             "#7201a8"
            ],
            [
             0.3333333333333333,
             "#9c179e"
            ],
            [
             0.4444444444444444,
             "#bd3786"
            ],
            [
             0.5555555555555556,
             "#d8576b"
            ],
            [
             0.6666666666666666,
             "#ed7953"
            ],
            [
             0.7777777777777778,
             "#fb9f3a"
            ],
            [
             0.8888888888888888,
             "#fdca26"
            ],
            [
             1,
             "#f0f921"
            ]
           ],
           "sequentialminus": [
            [
             0,
             "#0d0887"
            ],
            [
             0.1111111111111111,
             "#46039f"
            ],
            [
             0.2222222222222222,
             "#7201a8"
            ],
            [
             0.3333333333333333,
             "#9c179e"
            ],
            [
             0.4444444444444444,
             "#bd3786"
            ],
            [
             0.5555555555555556,
             "#d8576b"
            ],
            [
             0.6666666666666666,
             "#ed7953"
            ],
            [
             0.7777777777777778,
             "#fb9f3a"
            ],
            [
             0.8888888888888888,
             "#fdca26"
            ],
            [
             1,
             "#f0f921"
            ]
           ]
          },
          "colorway": [
           "#636efa",
           "#EF553B",
           "#00cc96",
           "#ab63fa",
           "#FFA15A",
           "#19d3f3",
           "#FF6692",
           "#B6E880",
           "#FF97FF",
           "#FECB52"
          ],
          "font": {
           "color": "#2a3f5f"
          },
          "geo": {
           "bgcolor": "white",
           "lakecolor": "white",
           "landcolor": "#E5ECF6",
           "showlakes": true,
           "showland": true,
           "subunitcolor": "white"
          },
          "hoverlabel": {
           "align": "left"
          },
          "hovermode": "closest",
          "mapbox": {
           "style": "light"
          },
          "paper_bgcolor": "white",
          "plot_bgcolor": "#E5ECF6",
          "polar": {
           "angularaxis": {
            "gridcolor": "white",
            "linecolor": "white",
            "ticks": ""
           },
           "bgcolor": "#E5ECF6",
           "radialaxis": {
            "gridcolor": "white",
            "linecolor": "white",
            "ticks": ""
           }
          },
          "scene": {
           "xaxis": {
            "backgroundcolor": "#E5ECF6",
            "gridcolor": "white",
            "gridwidth": 2,
            "linecolor": "white",
            "showbackground": true,
            "ticks": "",
            "zerolinecolor": "white"
           },
           "yaxis": {
            "backgroundcolor": "#E5ECF6",
            "gridcolor": "white",
            "gridwidth": 2,
            "linecolor": "white",
            "showbackground": true,
            "ticks": "",
            "zerolinecolor": "white"
           },
           "zaxis": {
            "backgroundcolor": "#E5ECF6",
            "gridcolor": "white",
            "gridwidth": 2,
            "linecolor": "white",
            "showbackground": true,
            "ticks": "",
            "zerolinecolor": "white"
           }
          },
          "shapedefaults": {
           "line": {
            "color": "#2a3f5f"
           }
          },
          "ternary": {
           "aaxis": {
            "gridcolor": "white",
            "linecolor": "white",
            "ticks": ""
           },
           "baxis": {
            "gridcolor": "white",
            "linecolor": "white",
            "ticks": ""
           },
           "bgcolor": "#E5ECF6",
           "caxis": {
            "gridcolor": "white",
            "linecolor": "white",
            "ticks": ""
           }
          },
          "title": {
           "x": 0.05
          },
          "xaxis": {
           "automargin": true,
           "gridcolor": "white",
           "linecolor": "white",
           "ticks": "",
           "title": {
            "standoff": 15
           },
           "zerolinecolor": "white",
           "zerolinewidth": 2
          },
          "yaxis": {
           "automargin": true,
           "gridcolor": "white",
           "linecolor": "white",
           "ticks": "",
           "title": {
            "standoff": 15
           },
           "zerolinecolor": "white",
           "zerolinewidth": 2
          }
         }
        },
        "title": {
         "text": "Image median spectrum",
         "x": 0.5
        },
        "xaxis": {
         "autorange": true,
         "range": [
          0,
          99
         ]
        },
        "yaxis": {
         "autorange": true,
         "range": [
          0.0021539061951140566,
          0.016525626027335722
         ],
         "type": "linear"
        }
       }
      },
      "image/png": "[encoded data removed]",
      "text/html": [
       "<div>                            <div id=\"cd072cd8-be6f-4f62-ac4c-09c28206e7e3\" class=\"plotly-graph-div\" style=\"height:525px; width:100%;\"></div>            <script type=\"text/javascript\">                require([\"plotly\"], function(Plotly) {                    window.PLOTLYENV=window.PLOTLYENV || {};                                    if (document.getElementById(\"cd072cd8-be6f-4f62-ac4c-09c28206e7e3\")) {                    Plotly.newPlot(                        \"cd072cd8-be6f-4f62-ac4c-09c28206e7e3\",                        [{\"name\":\"fp16\",\"y\":[0.004114895593374968,0.0036180380266159773,0.0037185887340456247,0.0034904361236840487,0.0032028132118284702,0.0030216211453080177,0.0028724921867251396,0.0029119495302438736,0.002956281416118145,0.0029773693531751633,0.003008152125403285,0.0030637860763818026,0.0030948666390031576,0.0030373167246580124,0.002961360616609454,0.002935096388682723,0.0030556628480553627,0.0034611893352121115,0.004017576575279236,0.00468156673014164,0.005322120152413845,0.005936747416853905,0.006451241206377745,0.006874790880829096,0.0071914768777787685,0.007507581729441881,0.007764147128909826,0.007947509177029133,0.008135669864714146,0.008342322893440723,0.008507724851369858,0.008660538122057915,0.008813748136162758,0.008989529684185982,0.009222074411809444,0.009460615925490856,0.009737253189086914,0.010008195415139198,0.010284158401191235,0.010533151216804981,0.010722317732870579,0.010871179401874542,0.010997124947607517,0.01108626089990139,0.01114735845476389,0.0111918356269598,0.011174885556101799,0.011111685074865818,0.011033039540052414,0.010865344665944576,0.010719060897827148,0.010607166215777397,0.010570150800049305,0.01063629612326622,0.010769087821245193,0.010875439271330833,0.010982688516378403,0.011080218479037285,0.011146510019898415,0.011209654621779919,0.011271041817963123,0.011326941661536694,0.011374961584806442,0.011429587379097939,0.011470634490251541,0.011521678417921066,0.011577403172850609,0.011675176210701466,0.011818048544228077,0.011962967924773693,0.012108961120247841,0.012262591160833836,0.012446558102965355,0.012614420615136623,0.012786757200956345,0.012971903197467327,0.01313888467848301,0.013323858380317688,0.013520407490432262,0.0137567650526762,0.013975388370454311,0.014179889112710953,0.014391563832759857,0.014588257297873497,0.014761117286980152,0.014905758202075958,0.015031075105071068,0.01524423249065876,0.015415974892675877,0.015501267276704311,0.015582055784761906,0.015696963295340538,0.015524241141974926,0.015440139919519424,0.015589858405292034,0.015640705823898315,0.015607809647917747,0.015555532649159431,0.015684587880969048,0.01580703631043434],\"type\":\"scatter\"},{\"name\":\"fp32\",\"y\":[0.00411489512771368,0.0036180352326482534,0.003718589199706912,0.0034904361236840487,0.0032028122805058956,0.0030216185841709375,0.002872493816539645,0.00291194929741323,0.0029562797863036394,0.002977366792038083,0.003008153522387147,0.0030637867748737335,0.0030948666390031576,0.003037314862012863,0.002961360616609454,0.002935099648311734,0.003055664012208581,0.003461187705397606,0.004017573781311512,0.004681563936173916,0.005322118755429983,0.0059367455542087555,0.0064512393437325954,0.006874786224216223,0.007191479206085205,0.007507581729441881,0.00776414480060339,0.007947512902319431,0.008135669864714146,0.008342321030795574,0.008507730439305305,0.008660535328090191,0.008813746273517609,0.008989529684185982,0.009222072549164295,0.009460614062845707,0.009737245738506317,0.010008197277784348,0.010284156538546085,0.010533151216804981,0.010722314938902855,0.010871173813939095,0.010997130535542965,0.011086264625191689,0.011147365905344486,0.011191844008862972,0.0111748818308115,0.011111690662801266,0.011033037677407265,0.010865344665944576,0.010719073005020618,0.01060716062784195,0.010570148937404156,0.010636291466653347,0.010769088752567768,0.010875433683395386,0.010982695035636425,0.011080224998295307,0.011146510019898415,0.011209653690457344,0.011271040886640549,0.011326942592859268,0.011374963447451591,0.011429587379097939,0.011470644734799862,0.011521672829985619,0.011577400378882885,0.01167517900466919,0.011818055994808674,0.011962968856096268,0.01210896484553814,0.012262585572898388,0.012446555308997631,0.012614419683814049,0.012786759994924068,0.012971912510693073,0.01313888467848301,0.013323857448995113,0.013520411215722561,0.013756760396063328,0.013975384645164013,0.014179890975356102,0.014391565695405006,0.014588270336389542,0.014761115424335003,0.014905758202075958,0.015031078830361366,0.015244227834045887,0.015415972098708153,0.015501287765800953,0.015582059510052204,0.015696965157985687,0.015524247661232948,0.015440144576132298,0.015589844435453415,0.01564069651067257,0.015607798472046852,0.015555525198578835,0.0156845860183239,0.01580704003572464],\"type\":\"scatter\"}],                        {\"template\":{\"data\":{\"histogram2dcontour\":[{\"type\":\"histogram2dcontour\",\"colorbar\":{\"outlinewidth\":0,\"ticks\":\"\"},\"colorscale\":[[0.0,\"#0d0887\"],[0.1111111111111111,\"#46039f\"],[0.2222222222222222,\"#7201a8\"],[0.3333333333333333,\"#9c179e\"],[0.4444444444444444,\"#bd3786\"],[0.5555555555555556,\"#d8576b\"],[0.6666666666666666,\"#ed7953\"],[0.7777777777777778,\"#fb9f3a\"],[0.8888888888888888,\"#fdca26\"],[1.0,\"#f0f921\"]]}],\"choropleth\":[{\"type\":\"choropleth\",\"colorbar\":{\"outlinewidth\":0,\"ticks\":\"\"}}],\"histogram2d\":[{\"type\":\"histogram2d\",\"colorbar\":{\"outlinewidth\":0,\"ticks\":\"\"},\"colorscale\":[[0.0,\"#0d0887\"],[0.1111111111111111,\"#46039f\"],[0.2222222222222222,\"#7201a8\"],[0.3333333333333333,\"#9c179e\"],[0.4444444444444444,\"#bd3786\"],[0.5555555555555556,\"#d8576b\"],[0.6666666666666666,\"#ed7953\"],[0.7777777777777778,\"#fb9f3a\"],[0.8888888888888888,\"#fdca26\"],[1.0,\"#f0f921\"]]}],\"heatmap\":[{\"type\":\"heatmap\",\"colorbar\":{\"outlinewidth\":0,\"ticks\":\"\"},\"colorscale\":[[0.0,\"#0d0887\"],[0.1111111111111111,\"#46039f\"],[0.2222222222222222,\"#7201a8\"],[0.3333333333333333,\"#9c179e\"],[0.4444444444444444,\"#bd3786\"],[0.5555555555555556,\"#d8576b\"],[0.6666666666666666,\"#ed7953\"],[0.7777777777777778,\"#fb9f3a\"],[0.8888888888888888,\"#fdca26\"],[1.0,\"#f0f921\"]]}],\"heatmapgl\":[{\"type\":\"heatmapgl\",\"colorbar\":{\"outlinewidth\":0,\"ticks\":\"\"},\"colorscale\":[[0.0,\"#0d0887\"],[0.1111111111111111,\"#46039f\"],[0.2222222222222222,\"#7201a8\"],[0.3333333333333333,\"#9c179e\"],[0.4444444444444444,\"#bd3786\"],[0.5555555555555556,\"#d8576b\"],[0.6666666666666666,\"#ed7953\"],[0.7777777777777778,\"#fb9f3a\"],[0.8888888888888888,\"#fdca26\"],[1.0,\"#f0f921\"]]}],\"contourcarpet\":[{\"type\":\"contourcarpet\",\"colorbar\":{\"outlinewidth\":0,\"ticks\":\"\"}}],\"contour\":[{\"type\":\"contour\",\"colorbar\":{\"outlinewidth\":0,\"ticks\":\"\"},\"colorscale\":[[0.0,\"#0d0887\"],[0.1111111111111111,\"#46039f\"],[0.2222222222222222,\"#7201a8\"],[0.3333333333333333,\"#9c179e\"],[0.4444444444444444,\"#bd3786\"],[0.5555555555555556,\"#d8576b\"],[0.6666666666666666,\"#ed7953\"],[0.7777777777777778,\"#fb9f3a\"],[0.8888888888888888,\"#fdca26\"],[1.0,\"#f0f921\"]]}],\"surface\":[{\"type\":\"surface\",\"colorbar\":{\"outlinewidth\":0,\"ticks\":\"\"},\"colorscale\":[[0.0,\"#0d0887\"],[0.1111111111111111,\"#46039f\"],[0.2222222222222222,\"#7201a8\"],[0.3333333333333333,\"#9c179e\"],[0.4444444444444444,\"#bd3786\"],[0.5555555555555556,\"#d8576b\"],[0.6666666666666666,\"#ed7953\"],[0.7777777777777778,\"#fb9f3a\"],[0.8888888888888888,\"#fdca26\"],[1.0,\"#f0f921\"]]}],\"mesh3d\":[{\"type\":\"mesh3d\",\"colorbar\":{\"outlinewidth\":0,\"ticks\":\"\"}}],\"scatter\":[{\"fillpattern\":{\"fillmode\":\"overlay\",\"size\":10,\"solidity\":0.2},\"type\":\"scatter\"}],\"parcoords\":[{\"type\":\"parcoords\",\"line\":{\"colorbar\":{\"outlinewidth\":0,\"ticks\":\"\"}}}],\"scatterpolargl\":[{\"type\":\"scatterpolargl\",\"marker\":{\"colorbar\":{\"outlinewidth\":0,\"ticks\":\"\"}}}],\"bar\":[{\"error_x\":{\"color\":\"#2a3f5f\"},\"error_y\":{\"color\":\"#2a3f5f\"},\"marker\":{\"line\":{\"color\":\"#E5ECF6\",\"width\":0.5},\"pattern\":{\"fillmode\":\"overlay\",\"size\":10,\"solidity\":0.2}},\"type\":\"bar\"}],\"scattergeo\":[{\"type\":\"scattergeo\",\"marker\":{\"colorbar\":{\"outlinewidth\":0,\"ticks\":\"\"}}}],\"scatterpolar\":[{\"type\":\"scatterpolar\",\"marker\":{\"colorbar\":{\"outlinewidth\":0,\"ticks\":\"\"}}}],\"histogram\":[{\"marker\":{\"pattern\":{\"fillmode\":\"overlay\",\"size\":10,\"solidity\":0.2}},\"type\":\"histogram\"}],\"scattergl\":[{\"type\":\"scattergl\",\"marker\":{\"colorbar\":{\"outlinewidth\":0,\"ticks\":\"\"}}}],\"scatter3d\":[{\"type\":\"scatter3d\",\"line\":{\"colorbar\":{\"outlinewidth\":0,\"ticks\":\"\"}},\"marker\":{\"colorbar\":{\"outlinewidth\":0,\"ticks\":\"\"}}}],\"scattermapbox\":[{\"type\":\"scattermapbox\",\"marker\":{\"colorbar\":{\"outlinewidth\":0,\"ticks\":\"\"}}}],\"scatterternary\":[{\"type\":\"scatterternary\",\"marker\":{\"colorbar\":{\"outlinewidth\":0,\"ticks\":\"\"}}}],\"scattercarpet\":[{\"type\":\"scattercarpet\",\"marker\":{\"colorbar\":{\"outlinewidth\":0,\"ticks\":\"\"}}}],\"carpet\":[{\"aaxis\":{\"endlinecolor\":\"#2a3f5f\",\"gridcolor\":\"white\",\"linecolor\":\"white\",\"minorgridcolor\":\"white\",\"startlinecolor\":\"#2a3f5f\"},\"baxis\":{\"endlinecolor\":\"#2a3f5f\",\"gridcolor\":\"white\",\"linecolor\":\"white\",\"minorgridcolor\":\"white\",\"startlinecolor\":\"#2a3f5f\"},\"type\":\"carpet\"}],\"table\":[{\"cells\":{\"fill\":{\"color\":\"#EBF0F8\"},\"line\":{\"color\":\"white\"}},\"header\":{\"fill\":{\"color\":\"#C8D4E3\"},\"line\":{\"color\":\"white\"}},\"type\":\"table\"}],\"barpolar\":[{\"marker\":{\"line\":{\"color\":\"#E5ECF6\",\"width\":0.5},\"pattern\":{\"fillmode\":\"overlay\",\"size\":10,\"solidity\":0.2}},\"type\":\"barpolar\"}],\"pie\":[{\"automargin\":true,\"type\":\"pie\"}]},\"layout\":{\"autotypenumbers\":\"strict\",\"colorway\":[\"#636efa\",\"#EF553B\",\"#00cc96\",\"#ab63fa\",\"#FFA15A\",\"#19d3f3\",\"#FF6692\",\"#B6E880\",\"#FF97FF\",\"#FECB52\"],\"font\":{\"color\":\"#2a3f5f\"},\"hovermode\":\"closest\",\"hoverlabel\":{\"align\":\"left\"},\"paper_bgcolor\":\"white\",\"plot_bgcolor\":\"#E5ECF6\",\"polar\":{\"bgcolor\":\"#E5ECF6\",\"angularaxis\":{\"gridcolor\":\"white\",\"linecolor\":\"white\",\"ticks\":\"\"},\"radialaxis\":{\"gridcolor\":\"white\",\"linecolor\":\"white\",\"ticks\":\"\"}},\"ternary\":{\"bgcolor\":\"#E5ECF6\",\"aaxis\":{\"gridcolor\":\"white\",\"linecolor\":\"white\",\"ticks\":\"\"},\"baxis\":{\"gridcolor\":\"white\",\"linecolor\":\"white\",\"ticks\":\"\"},\"caxis\":{\"gridcolor\":\"white\",\"linecolor\":\"white\",\"ticks\":\"\"}},\"coloraxis\":{\"colorbar\":{\"outlinewidth\":0,\"ticks\":\"\"}},\"colorscale\":{\"sequential\":[[0.0,\"#0d0887\"],[0.1111111111111111,\"#46039f\"],[0.2222222222222222,\"#7201a8\"],[0.3333333333333333,\"#9c179e\"],[0.4444444444444444,\"#bd3786\"],[0.5555555555555556,\"#d8576b\"],[0.6666666666666666,\"#ed7953\"],[0.7777777777777778,\"#fb9f3a\"],[0.8888888888888888,\"#fdca26\"],[1.0,\"#f0f921\"]],\"sequentialminus\":[[0.0,\"#0d0887\"],[0.1111111111111111,\"#46039f\"],[0.2222222222222222,\"#7201a8\"],[0.3333333333333333,\"#9c179e\"],[0.4444444444444444,\"#bd3786\"],[0.5555555555555556,\"#d8576b\"],[0.6666666666666666,\"#ed7953\"],[0.7777777777777778,\"#fb9f3a\"],[0.8888888888888888,\"#fdca26\"],[1.0,\"#f0f921\"]],\"diverging\":[[0,\"#8e0152\"],[0.1,\"#c51b7d\"],[0.2,\"#de77ae\"],[0.3,\"#f1b6da\"],[0.4,\"#fde0ef\"],[0.5,\"#f7f7f7\"],[0.6,\"#e6f5d0\"],[0.7,\"#b8e186\"],[0.8,\"#7fbc41\"],[0.9,\"#4d9221\"],[1,\"#276419\"]]},\"xaxis\":{\"gridcolor\":\"white\",\"linecolor\":\"white\",\"ticks\":\"\",\"title\":{\"standoff\":15},\"zerolinecolor\":\"white\",\"automargin\":true,\"zerolinewidth\":2},\"yaxis\":{\"gridcolor\":\"white\",\"linecolor\":\"white\",\"ticks\":\"\",\"title\":{\"standoff\":15},\"zerolinecolor\":\"white\",\"automargin\":true,\"zerolinewidth\":2},\"scene\":{\"xaxis\":{\"backgroundcolor\":\"#E5ECF6\",\"gridcolor\":\"white\",\"linecolor\":\"white\",\"showbackground\":true,\"ticks\":\"\",\"zerolinecolor\":\"white\",\"gridwidth\":2},\"yaxis\":{\"backgroundcolor\":\"#E5ECF6\",\"gridcolor\":\"white\",\"linecolor\":\"white\",\"showbackground\":true,\"ticks\":\"\",\"zerolinecolor\":\"white\",\"gridwidth\":2},\"zaxis\":{\"backgroundcolor\":\"#E5ECF6\",\"gridcolor\":\"white\",\"linecolor\":\"white\",\"showbackground\":true,\"ticks\":\"\",\"zerolinecolor\":\"white\",\"gridwidth\":2}},\"shapedefaults\":{\"line\":{\"color\":\"#2a3f5f\"}},\"annotationdefaults\":{\"arrowcolor\":\"#2a3f5f\",\"arrowhead\":0,\"arrowwidth\":1},\"geo\":{\"bgcolor\":\"white\",\"landcolor\":\"#E5ECF6\",\"subunitcolor\":\"white\",\"showland\":true,\"showlakes\":true,\"lakecolor\":\"white\"},\"title\":{\"x\":0.05},\"mapbox\":{\"style\":\"light\"}}},\"title\":{\"x\":0.5,\"text\":\"Image median spectrum\"}},                        {\"responsive\": true}                    ).then(function(){\n",
       "                            \n",
       "var gd = document.getElementById('cd072cd8-be6f-4f62-ac4c-09c28206e7e3');\n",
       "var x = new MutationObserver(function (mutations, observer) {{\n",
       "        var display = window.getComputedStyle(gd).display;\n",
       "        if (!display || display === 'none') {{\n",
       "            console.log([gd, 'removed!']);\n",
       "            Plotly.purge(gd);\n",
       "            observer.disconnect();\n",
       "        }}\n",
       "}});\n",
       "\n",
       "// Listen for the removal of the full notebook cells\n",
       "var notebookContainer = gd.closest('#notebook-container');\n",
       "if (notebookContainer) {{\n",
       "    x.observe(notebookContainer, {childList: true});\n",
       "}}\n",
       "\n",
       "// Listen for the clearing of the current output cell\n",
       "var outputEl = gd.closest('.output');\n",
       "if (outputEl) {{\n",
       "    x.observe(outputEl, {childList: true});\n",
       "}}\n",
       "\n",
       "                        })                };                });            </script>        </div>"
      ]
     },
     "metadata": {},
     "output_type": "display_data"
    }
   ],
   "source": [
    "sample_16 = dataset_16[2]\n",
    "sample_32 = dataset_32[2]\n",
    "s_16 = sample_16[\"features\"].float().reshape(-1, 100).mean(dim=0)\n",
    "s_32 = sample_32[\"features\"].reshape(-1, 100).mean(dim=0)\n",
    "\n",
    "fig = go.Figure()\n",
    "fig.add_trace(go.Scatter(y=s_16, name=\"fp16\"))\n",
    "fig.add_trace(go.Scatter(y=s_32, name=\"fp32\"))\n",
    "fig.update_layout(title_x=0.5, title_text=\"Image median spectrum\")"
   ]
  },
  {
   "cell_type": "code",
   "execution_count": 6,
   "id": "b1b1ec6e-283e-4da6-9166-475a17aa741f",
   "metadata": {},
   "outputs": [
    {
     "data": {
      "application/vnd.plotly.v1+json": {
       "config": {
        "plotlyServerURL": "https://plot.ly"
       },
       "data": [
        {
         "name": "fp16",
         "type": "scatter",
         "y": [
          0.005397796630859375,
          0.006595611572265625,
          0.005840301513671875,
          0.00440216064453125,
          0.00545501708984375,
          0.004825592041015625,
          0.005367279052734375,
          0.005619049072265625,
          0.00501251220703125,
          0.00530242919921875,
          0.0054473876953125,
          0.0056915283203125,
          0.00555419921875,
          0.0054931640625,
          0.00554656982421875,
          0.00576019287109375,
          0.005863189697265625,
          0.006397247314453125,
          0.0071258544921875,
          0.0079803466796875,
          0.0086822509765625,
          0.0093231201171875,
          0.00988006591796875,
          0.01007080078125,
          0.0105133056640625,
          0.01081085205078125,
          0.01096343994140625,
          0.01088714599609375,
          0.01090240478515625,
          0.0113067626953125,
          0.01151275634765625,
          0.01119232177734375,
          0.011077880859375,
          0.01134490966796875,
          0.011322021484375,
          0.01180267333984375,
          0.011932373046875,
          0.0120391845703125,
          0.012451171875,
          0.012451171875,
          0.0124664306640625,
          0.0123748779296875,
          0.01248931884765625,
          0.0125732421875,
          0.0125885009765625,
          0.01220703125,
          0.01241302490234375,
          0.01239776611328125,
          0.0122528076171875,
          0.01206207275390625,
          0.0118865966796875,
          0.011627197265625,
          0.011749267578125,
          0.0119781494140625,
          0.0119476318359375,
          0.0120391845703125,
          0.01189422607421875,
          0.01207733154296875,
          0.01204681396484375,
          0.01213836669921875,
          0.0121612548828125,
          0.01202392578125,
          0.0120086669921875,
          0.01221466064453125,
          0.01197052001953125,
          0.01218414306640625,
          0.01186370849609375,
          0.0116119384765625,
          0.01153564453125,
          0.01158905029296875,
          0.011383056640625,
          0.01151275634765625,
          0.01131439208984375,
          0.01160430908203125,
          0.0113677978515625,
          0.01160430908203125,
          0.0110626220703125,
          0.010955810546875,
          0.0113067626953125,
          0.01073455810546875,
          0.0108489990234375,
          0.0109710693359375,
          0.01103973388671875,
          0.01039886474609375,
          0.01043701171875,
          0.01041412353515625,
          0.01050567626953125,
          0.01026153564453125,
          0.01001739501953125,
          0.0090789794921875,
          0.00962066650390625,
          0.009429931640625,
          0.00921630859375,
          0.00888824462890625,
          0.00797271728515625,
          0.00858306884765625,
          0.008148193359375,
          0.007144927978515625,
          0.00826263427734375,
          0.00836944580078125
         ]
        },
        {
         "name": "fp32",
         "type": "scatter",
         "y": [
          0.005396729800850153,
          0.006595467682927847,
          0.005839863326400518,
          0.004402478225529194,
          0.0054536969400942326,
          0.0048247710801661015,
          0.005367883946746588,
          0.005618643015623093,
          0.005011310800909996,
          0.005301554221659899,
          0.005448958370834589,
          0.005691281519830227,
          0.0055557372979819775,
          0.005493604578077793,
          0.00554762315005064,
          0.005758984014391899,
          0.00586360041052103,
          0.006395889911800623,
          0.007126316428184509,
          0.0079821040853858,
          0.008684409782290459,
          0.009322105906903744,
          0.009881936013698578,
          0.010067347437143326,
          0.010514475405216217,
          0.01080844271928072,
          0.010966726578772068,
          0.010890637524425983,
          0.01090498361736536,
          0.011303519830107689,
          0.01150908600538969,
          0.011190398596227169,
          0.011078829877078533,
          0.011344839818775654,
          0.011322909034788609,
          0.011805343441665173,
          0.011935204267501831,
          0.012038812041282654,
          0.012452648021280766,
          0.01245444267988205,
          0.012466887943446636,
          0.012377435341477394,
          0.012492191977798939,
          0.01257344614714384,
          0.012589676305651665,
          0.012209770269691944,
          0.012416058219969273,
          0.012396249920129776,
          0.012256507761776447,
          0.012064522132277489,
          0.011889923363924026,
          0.011625433340668678,
          0.011746741831302643,
          0.011976164765655994,
          0.011945025064051151,
          0.012041973881423473,
          0.011897032149136066,
          0.012079354375600815,
          0.012043721042573452,
          0.012136723846197128,
          0.012160989455878735,
          0.012022856622934341,
          0.012004910036921501,
          0.012211193330585957,
          0.011971259489655495,
          0.012183720245957375,
          0.011866956949234009,
          0.011614619754254818,
          0.011533251032233238,
          0.01159203052520752,
          0.011382676661014557,
          0.011513124220073223,
          0.01131207961589098,
          0.011606392450630665,
          0.011370185762643814,
          0.011604588478803635,
          0.011060543358325958,
          0.010952282696962357,
          0.011303899809718132,
          0.010736198164522648,
          0.010849821381270885,
          0.0109725845977664,
          0.01103891246020794,
          0.010400158353149891,
          0.010436824522912502,
          0.010414942167699337,
          0.010507317259907722,
          0.010263165459036827,
          0.010014301165938377,
          0.009080624207854271,
          0.009619826450943947,
          0.0094284787774086,
          0.009219758212566376,
          0.008884490467607975,
          0.007975631393492222,
          0.008581390604376793,
          0.008151511661708355,
          0.00714515196159482,
          0.00825983565300703,
          0.00837305374443531
         ]
        }
       ],
       "layout": {
        "autosize": true,
        "template": {
         "data": {
          "bar": [
           {
            "error_x": {
             "color": "#2a3f5f"
            },
            "error_y": {
             "color": "#2a3f5f"
            },
            "marker": {
             "line": {
              "color": "#E5ECF6",
              "width": 0.5
             },
             "pattern": {
              "fillmode": "overlay",
              "size": 10,
              "solidity": 0.2
             }
            },
            "type": "bar"
           }
          ],
          "barpolar": [
           {
            "marker": {
             "line": {
              "color": "#E5ECF6",
              "width": 0.5
             },
             "pattern": {
              "fillmode": "overlay",
              "size": 10,
              "solidity": 0.2
             }
            },
            "type": "barpolar"
           }
          ],
          "carpet": [
           {
            "aaxis": {
             "endlinecolor": "#2a3f5f",
             "gridcolor": "white",
             "linecolor": "white",
             "minorgridcolor": "white",
             "startlinecolor": "#2a3f5f"
            },
            "baxis": {
             "endlinecolor": "#2a3f5f",
             "gridcolor": "white",
             "linecolor": "white",
             "minorgridcolor": "white",
             "startlinecolor": "#2a3f5f"
            },
            "type": "carpet"
           }
          ],
          "choropleth": [
           {
            "colorbar": {
             "outlinewidth": 0,
             "ticks": ""
            },
            "type": "choropleth"
           }
          ],
          "contour": [
           {
            "colorbar": {
             "outlinewidth": 0,
             "ticks": ""
            },
            "colorscale": [
             [
              0,
              "#0d0887"
             ],
             [
              0.1111111111111111,
              "#46039f"
             ],
             [
              0.2222222222222222,
              "#7201a8"
             ],
             [
              0.3333333333333333,
              "#9c179e"
             ],
             [
              0.4444444444444444,
              "#bd3786"
             ],
             [
              0.5555555555555556,
              "#d8576b"
             ],
             [
              0.6666666666666666,
              "#ed7953"
             ],
             [
              0.7777777777777778,
              "#fb9f3a"
             ],
             [
              0.8888888888888888,
              "#fdca26"
             ],
             [
              1,
              "#f0f921"
             ]
            ],
            "type": "contour"
           }
          ],
          "contourcarpet": [
           {
            "colorbar": {
             "outlinewidth": 0,
             "ticks": ""
            },
            "type": "contourcarpet"
           }
          ],
          "heatmap": [
           {
            "colorbar": {
             "outlinewidth": 0,
             "ticks": ""
            },
            "colorscale": [
             [
              0,
              "#0d0887"
             ],
             [
              0.1111111111111111,
              "#46039f"
             ],
             [
              0.2222222222222222,
              "#7201a8"
             ],
             [
              0.3333333333333333,
              "#9c179e"
             ],
             [
              0.4444444444444444,
              "#bd3786"
             ],
             [
              0.5555555555555556,
              "#d8576b"
             ],
             [
              0.6666666666666666,
              "#ed7953"
             ],
             [
              0.7777777777777778,
              "#fb9f3a"
             ],
             [
              0.8888888888888888,
              "#fdca26"
             ],
             [
              1,
              "#f0f921"
             ]
            ],
            "type": "heatmap"
           }
          ],
          "heatmapgl": [
           {
            "colorbar": {
             "outlinewidth": 0,
             "ticks": ""
            },
            "colorscale": [
             [
              0,
              "#0d0887"
             ],
             [
              0.1111111111111111,
              "#46039f"
             ],
             [
              0.2222222222222222,
              "#7201a8"
             ],
             [
              0.3333333333333333,
              "#9c179e"
             ],
             [
              0.4444444444444444,
              "#bd3786"
             ],
             [
              0.5555555555555556,
              "#d8576b"
             ],
             [
              0.6666666666666666,
              "#ed7953"
             ],
             [
              0.7777777777777778,
              "#fb9f3a"
             ],
             [
              0.8888888888888888,
              "#fdca26"
             ],
             [
              1,
              "#f0f921"
             ]
            ],
            "type": "heatmapgl"
           }
          ],
          "histogram": [
           {
            "marker": {
             "pattern": {
              "fillmode": "overlay",
              "size": 10,
              "solidity": 0.2
             }
            },
            "type": "histogram"
           }
          ],
          "histogram2d": [
           {
            "colorbar": {
             "outlinewidth": 0,
             "ticks": ""
            },
            "colorscale": [
             [
              0,
              "#0d0887"
             ],
             [
              0.1111111111111111,
              "#46039f"
             ],
             [
              0.2222222222222222,
              "#7201a8"
             ],
             [
              0.3333333333333333,
              "#9c179e"
             ],
             [
              0.4444444444444444,
              "#bd3786"
             ],
             [
              0.5555555555555556,
              "#d8576b"
             ],
             [
              0.6666666666666666,
              "#ed7953"
             ],
             [
              0.7777777777777778,
              "#fb9f3a"
             ],
             [
              0.8888888888888888,
              "#fdca26"
             ],
             [
              1,
              "#f0f921"
             ]
            ],
            "type": "histogram2d"
           }
          ],
          "histogram2dcontour": [
           {
            "colorbar": {
             "outlinewidth": 0,
             "ticks": ""
            },
            "colorscale": [
             [
              0,
              "#0d0887"
             ],
             [
              0.1111111111111111,
              "#46039f"
             ],
             [
              0.2222222222222222,
              "#7201a8"
             ],
             [
              0.3333333333333333,
              "#9c179e"
             ],
             [
              0.4444444444444444,
              "#bd3786"
             ],
             [
              0.5555555555555556,
              "#d8576b"
             ],
             [
              0.6666666666666666,
              "#ed7953"
             ],
             [
              0.7777777777777778,
              "#fb9f3a"
             ],
             [
              0.8888888888888888,
              "#fdca26"
             ],
             [
              1,
              "#f0f921"
             ]
            ],
            "type": "histogram2dcontour"
           }
          ],
          "mesh3d": [
           {
            "colorbar": {
             "outlinewidth": 0,
             "ticks": ""
            },
            "type": "mesh3d"
           }
          ],
          "parcoords": [
           {
            "line": {
             "colorbar": {
              "outlinewidth": 0,
              "ticks": ""
             }
            },
            "type": "parcoords"
           }
          ],
          "pie": [
           {
            "automargin": true,
            "type": "pie"
           }
          ],
          "scatter": [
           {
            "fillpattern": {
             "fillmode": "overlay",
             "size": 10,
             "solidity": 0.2
            },
            "type": "scatter"
           }
          ],
          "scatter3d": [
           {
            "line": {
             "colorbar": {
              "outlinewidth": 0,
              "ticks": ""
             }
            },
            "marker": {
             "colorbar": {
              "outlinewidth": 0,
              "ticks": ""
             }
            },
            "type": "scatter3d"
           }
          ],
          "scattercarpet": [
           {
            "marker": {
             "colorbar": {
              "outlinewidth": 0,
              "ticks": ""
             }
            },
            "type": "scattercarpet"
           }
          ],
          "scattergeo": [
           {
            "marker": {
             "colorbar": {
              "outlinewidth": 0,
              "ticks": ""
             }
            },
            "type": "scattergeo"
           }
          ],
          "scattergl": [
           {
            "marker": {
             "colorbar": {
              "outlinewidth": 0,
              "ticks": ""
             }
            },
            "type": "scattergl"
           }
          ],
          "scattermapbox": [
           {
            "marker": {
             "colorbar": {
              "outlinewidth": 0,
              "ticks": ""
             }
            },
            "type": "scattermapbox"
           }
          ],
          "scatterpolar": [
           {
            "marker": {
             "colorbar": {
              "outlinewidth": 0,
              "ticks": ""
             }
            },
            "type": "scatterpolar"
           }
          ],
          "scatterpolargl": [
           {
            "marker": {
             "colorbar": {
              "outlinewidth": 0,
              "ticks": ""
             }
            },
            "type": "scatterpolargl"
           }
          ],
          "scatterternary": [
           {
            "marker": {
             "colorbar": {
              "outlinewidth": 0,
              "ticks": ""
             }
            },
            "type": "scatterternary"
           }
          ],
          "surface": [
           {
            "colorbar": {
             "outlinewidth": 0,
             "ticks": ""
            },
            "colorscale": [
             [
              0,
              "#0d0887"
             ],
             [
              0.1111111111111111,
              "#46039f"
             ],
             [
              0.2222222222222222,
              "#7201a8"
             ],
             [
              0.3333333333333333,
              "#9c179e"
             ],
             [
              0.4444444444444444,
              "#bd3786"
             ],
             [
              0.5555555555555556,
              "#d8576b"
             ],
             [
              0.6666666666666666,
              "#ed7953"
             ],
             [
              0.7777777777777778,
              "#fb9f3a"
             ],
             [
              0.8888888888888888,
              "#fdca26"
             ],
             [
              1,
              "#f0f921"
             ]
            ],
            "type": "surface"
           }
          ],
          "table": [
           {
            "cells": {
             "fill": {
              "color": "#EBF0F8"
             },
             "line": {
              "color": "white"
             }
            },
            "header": {
             "fill": {
              "color": "#C8D4E3"
             },
             "line": {
              "color": "white"
             }
            },
            "type": "table"
           }
          ]
         },
         "layout": {
          "annotationdefaults": {
           "arrowcolor": "#2a3f5f",
           "arrowhead": 0,
           "arrowwidth": 1
          },
          "autotypenumbers": "strict",
          "coloraxis": {
           "colorbar": {
            "outlinewidth": 0,
            "ticks": ""
           }
          },
          "colorscale": {
           "diverging": [
            [
             0,
             "#8e0152"
            ],
            [
             0.1,
             "#c51b7d"
            ],
            [
             0.2,
             "#de77ae"
            ],
            [
             0.3,
             "#f1b6da"
            ],
            [
             0.4,
             "#fde0ef"
            ],
            [
             0.5,
             "#f7f7f7"
            ],
            [
             0.6,
             "#e6f5d0"
            ],
            [
             0.7,
             "#b8e186"
            ],
            [
             0.8,
             "#7fbc41"
            ],
            [
             0.9,
             "#4d9221"
            ],
            [
             1,
             "#276419"
            ]
           ],
           "sequential": [
            [
             0,
             "#0d0887"
            ],
            [
             0.1111111111111111,
             "#46039f"
            ],
            [
             0.2222222222222222,
             "#7201a8"
            ],
            [
             0.3333333333333333,
             "#9c179e"
            ],
            [
             0.4444444444444444,
             "#bd3786"
            ],
            [
             0.5555555555555556,
             "#d8576b"
            ],
            [
             0.6666666666666666,
             "#ed7953"
            ],
            [
             0.7777777777777778,
             "#fb9f3a"
            ],
            [
             0.8888888888888888,
             "#fdca26"
            ],
            [
             1,
             "#f0f921"
            ]
           ],
           "sequentialminus": [
            [
             0,
             "#0d0887"
            ],
            [
             0.1111111111111111,
             "#46039f"
            ],
            [
             0.2222222222222222,
             "#7201a8"
            ],
            [
             0.3333333333333333,
             "#9c179e"
            ],
            [
             0.4444444444444444,
             "#bd3786"
            ],
            [
             0.5555555555555556,
             "#d8576b"
            ],
            [
             0.6666666666666666,
             "#ed7953"
            ],
            [
             0.7777777777777778,
             "#fb9f3a"
            ],
            [
             0.8888888888888888,
             "#fdca26"
            ],
            [
             1,
             "#f0f921"
            ]
           ]
          },
          "colorway": [
           "#636efa",
           "#EF553B",
           "#00cc96",
           "#ab63fa",
           "#FFA15A",
           "#19d3f3",
           "#FF6692",
           "#B6E880",
           "#FF97FF",
           "#FECB52"
          ],
          "font": {
           "color": "#2a3f5f"
          },
          "geo": {
           "bgcolor": "white",
           "lakecolor": "white",
           "landcolor": "#E5ECF6",
           "showlakes": true,
           "showland": true,
           "subunitcolor": "white"
          },
          "hoverlabel": {
           "align": "left"
          },
          "hovermode": "closest",
          "mapbox": {
           "style": "light"
          },
          "paper_bgcolor": "white",
          "plot_bgcolor": "#E5ECF6",
          "polar": {
           "angularaxis": {
            "gridcolor": "white",
            "linecolor": "white",
            "ticks": ""
           },
           "bgcolor": "#E5ECF6",
           "radialaxis": {
            "gridcolor": "white",
            "linecolor": "white",
            "ticks": ""
           }
          },
          "scene": {
           "xaxis": {
            "backgroundcolor": "#E5ECF6",
            "gridcolor": "white",
            "gridwidth": 2,
            "linecolor": "white",
            "showbackground": true,
            "ticks": "",
            "zerolinecolor": "white"
           },
           "yaxis": {
            "backgroundcolor": "#E5ECF6",
            "gridcolor": "white",
            "gridwidth": 2,
            "linecolor": "white",
            "showbackground": true,
            "ticks": "",
            "zerolinecolor": "white"
           },
           "zaxis": {
            "backgroundcolor": "#E5ECF6",
            "gridcolor": "white",
            "gridwidth": 2,
            "linecolor": "white",
            "showbackground": true,
            "ticks": "",
            "zerolinecolor": "white"
           }
          },
          "shapedefaults": {
           "line": {
            "color": "#2a3f5f"
           }
          },
          "ternary": {
           "aaxis": {
            "gridcolor": "white",
            "linecolor": "white",
            "ticks": ""
           },
           "baxis": {
            "gridcolor": "white",
            "linecolor": "white",
            "ticks": ""
           },
           "bgcolor": "#E5ECF6",
           "caxis": {
            "gridcolor": "white",
            "linecolor": "white",
            "ticks": ""
           }
          },
          "title": {
           "x": 0.05
          },
          "xaxis": {
           "automargin": true,
           "gridcolor": "white",
           "linecolor": "white",
           "ticks": "",
           "title": {
            "standoff": 15
           },
           "zerolinecolor": "white",
           "zerolinewidth": 2
          },
          "yaxis": {
           "automargin": true,
           "gridcolor": "white",
           "linecolor": "white",
           "ticks": "",
           "title": {
            "standoff": 15
           },
           "zerolinecolor": "white",
           "zerolinewidth": 2
          }
         }
        },
        "title": {
         "text": "Example spectrum",
         "x": 0.5
        },
        "xaxis": {
         "autorange": true,
         "range": [
          0,
          99
         ]
        },
        "yaxis": {
         "autorange": true,
         "range": [
          0.003947298663357894,
          0.013044538286825022
         ],
         "type": "linear"
        }
       }
      },
      "image/png": "[encoded data removed]",
      "text/html": [
       "<div>                            <div id=\"5594aa6b-342f-4d0a-ba5e-4842fab428f7\" class=\"plotly-graph-div\" style=\"height:525px; width:100%;\"></div>            <script type=\"text/javascript\">                require([\"plotly\"], function(Plotly) {                    window.PLOTLYENV=window.PLOTLYENV || {};                                    if (document.getElementById(\"5594aa6b-342f-4d0a-ba5e-4842fab428f7\")) {                    Plotly.newPlot(                        \"5594aa6b-342f-4d0a-ba5e-4842fab428f7\",                        [{\"name\":\"fp16\",\"y\":[0.005397796630859375,0.006595611572265625,0.005840301513671875,0.00440216064453125,0.00545501708984375,0.004825592041015625,0.005367279052734375,0.005619049072265625,0.00501251220703125,0.00530242919921875,0.0054473876953125,0.0056915283203125,0.00555419921875,0.0054931640625,0.00554656982421875,0.00576019287109375,0.005863189697265625,0.006397247314453125,0.0071258544921875,0.0079803466796875,0.0086822509765625,0.0093231201171875,0.00988006591796875,0.01007080078125,0.0105133056640625,0.01081085205078125,0.01096343994140625,0.01088714599609375,0.01090240478515625,0.0113067626953125,0.01151275634765625,0.01119232177734375,0.011077880859375,0.01134490966796875,0.011322021484375,0.01180267333984375,0.011932373046875,0.0120391845703125,0.012451171875,0.012451171875,0.0124664306640625,0.0123748779296875,0.01248931884765625,0.0125732421875,0.0125885009765625,0.01220703125,0.01241302490234375,0.01239776611328125,0.0122528076171875,0.01206207275390625,0.0118865966796875,0.011627197265625,0.011749267578125,0.0119781494140625,0.0119476318359375,0.0120391845703125,0.01189422607421875,0.01207733154296875,0.01204681396484375,0.01213836669921875,0.0121612548828125,0.01202392578125,0.0120086669921875,0.01221466064453125,0.01197052001953125,0.01218414306640625,0.01186370849609375,0.0116119384765625,0.01153564453125,0.01158905029296875,0.011383056640625,0.01151275634765625,0.01131439208984375,0.01160430908203125,0.0113677978515625,0.01160430908203125,0.0110626220703125,0.010955810546875,0.0113067626953125,0.01073455810546875,0.0108489990234375,0.0109710693359375,0.01103973388671875,0.01039886474609375,0.01043701171875,0.01041412353515625,0.01050567626953125,0.01026153564453125,0.01001739501953125,0.0090789794921875,0.00962066650390625,0.009429931640625,0.00921630859375,0.00888824462890625,0.00797271728515625,0.00858306884765625,0.008148193359375,0.007144927978515625,0.00826263427734375,0.00836944580078125],\"type\":\"scatter\"},{\"name\":\"fp32\",\"y\":[0.005396729800850153,0.006595467682927847,0.005839863326400518,0.004402478225529194,0.0054536969400942326,0.0048247710801661015,0.005367883946746588,0.005618643015623093,0.005011310800909996,0.005301554221659899,0.005448958370834589,0.005691281519830227,0.0055557372979819775,0.005493604578077793,0.00554762315005064,0.005758984014391899,0.00586360041052103,0.006395889911800623,0.007126316428184509,0.0079821040853858,0.008684409782290459,0.009322105906903744,0.009881936013698578,0.010067347437143326,0.010514475405216217,0.01080844271928072,0.010966726578772068,0.010890637524425983,0.01090498361736536,0.011303519830107689,0.01150908600538969,0.011190398596227169,0.011078829877078533,0.011344839818775654,0.011322909034788609,0.011805343441665173,0.011935204267501831,0.012038812041282654,0.012452648021280766,0.01245444267988205,0.012466887943446636,0.012377435341477394,0.012492191977798939,0.01257344614714384,0.012589676305651665,0.012209770269691944,0.012416058219969273,0.012396249920129776,0.012256507761776447,0.012064522132277489,0.011889923363924026,0.011625433340668678,0.011746741831302643,0.011976164765655994,0.011945025064051151,0.012041973881423473,0.011897032149136066,0.012079354375600815,0.012043721042573452,0.012136723846197128,0.012160989455878735,0.012022856622934341,0.012004910036921501,0.012211193330585957,0.011971259489655495,0.012183720245957375,0.011866956949234009,0.011614619754254818,0.011533251032233238,0.01159203052520752,0.011382676661014557,0.011513124220073223,0.01131207961589098,0.011606392450630665,0.011370185762643814,0.011604588478803635,0.011060543358325958,0.010952282696962357,0.011303899809718132,0.010736198164522648,0.010849821381270885,0.0109725845977664,0.01103891246020794,0.010400158353149891,0.010436824522912502,0.010414942167699337,0.010507317259907722,0.010263165459036827,0.010014301165938377,0.009080624207854271,0.009619826450943947,0.0094284787774086,0.009219758212566376,0.008884490467607975,0.007975631393492222,0.008581390604376793,0.008151511661708355,0.00714515196159482,0.00825983565300703,0.00837305374443531],\"type\":\"scatter\"}],                        {\"template\":{\"data\":{\"histogram2dcontour\":[{\"type\":\"histogram2dcontour\",\"colorbar\":{\"outlinewidth\":0,\"ticks\":\"\"},\"colorscale\":[[0.0,\"#0d0887\"],[0.1111111111111111,\"#46039f\"],[0.2222222222222222,\"#7201a8\"],[0.3333333333333333,\"#9c179e\"],[0.4444444444444444,\"#bd3786\"],[0.5555555555555556,\"#d8576b\"],[0.6666666666666666,\"#ed7953\"],[0.7777777777777778,\"#fb9f3a\"],[0.8888888888888888,\"#fdca26\"],[1.0,\"#f0f921\"]]}],\"choropleth\":[{\"type\":\"choropleth\",\"colorbar\":{\"outlinewidth\":0,\"ticks\":\"\"}}],\"histogram2d\":[{\"type\":\"histogram2d\",\"colorbar\":{\"outlinewidth\":0,\"ticks\":\"\"},\"colorscale\":[[0.0,\"#0d0887\"],[0.1111111111111111,\"#46039f\"],[0.2222222222222222,\"#7201a8\"],[0.3333333333333333,\"#9c179e\"],[0.4444444444444444,\"#bd3786\"],[0.5555555555555556,\"#d8576b\"],[0.6666666666666666,\"#ed7953\"],[0.7777777777777778,\"#fb9f3a\"],[0.8888888888888888,\"#fdca26\"],[1.0,\"#f0f921\"]]}],\"heatmap\":[{\"type\":\"heatmap\",\"colorbar\":{\"outlinewidth\":0,\"ticks\":\"\"},\"colorscale\":[[0.0,\"#0d0887\"],[0.1111111111111111,\"#46039f\"],[0.2222222222222222,\"#7201a8\"],[0.3333333333333333,\"#9c179e\"],[0.4444444444444444,\"#bd3786\"],[0.5555555555555556,\"#d8576b\"],[0.6666666666666666,\"#ed7953\"],[0.7777777777777778,\"#fb9f3a\"],[0.8888888888888888,\"#fdca26\"],[1.0,\"#f0f921\"]]}],\"heatmapgl\":[{\"type\":\"heatmapgl\",\"colorbar\":{\"outlinewidth\":0,\"ticks\":\"\"},\"colorscale\":[[0.0,\"#0d0887\"],[0.1111111111111111,\"#46039f\"],[0.2222222222222222,\"#7201a8\"],[0.3333333333333333,\"#9c179e\"],[0.4444444444444444,\"#bd3786\"],[0.5555555555555556,\"#d8576b\"],[0.6666666666666666,\"#ed7953\"],[0.7777777777777778,\"#fb9f3a\"],[0.8888888888888888,\"#fdca26\"],[1.0,\"#f0f921\"]]}],\"contourcarpet\":[{\"type\":\"contourcarpet\",\"colorbar\":{\"outlinewidth\":0,\"ticks\":\"\"}}],\"contour\":[{\"type\":\"contour\",\"colorbar\":{\"outlinewidth\":0,\"ticks\":\"\"},\"colorscale\":[[0.0,\"#0d0887\"],[0.1111111111111111,\"#46039f\"],[0.2222222222222222,\"#7201a8\"],[0.3333333333333333,\"#9c179e\"],[0.4444444444444444,\"#bd3786\"],[0.5555555555555556,\"#d8576b\"],[0.6666666666666666,\"#ed7953\"],[0.7777777777777778,\"#fb9f3a\"],[0.8888888888888888,\"#fdca26\"],[1.0,\"#f0f921\"]]}],\"surface\":[{\"type\":\"surface\",\"colorbar\":{\"outlinewidth\":0,\"ticks\":\"\"},\"colorscale\":[[0.0,\"#0d0887\"],[0.1111111111111111,\"#46039f\"],[0.2222222222222222,\"#7201a8\"],[0.3333333333333333,\"#9c179e\"],[0.4444444444444444,\"#bd3786\"],[0.5555555555555556,\"#d8576b\"],[0.6666666666666666,\"#ed7953\"],[0.7777777777777778,\"#fb9f3a\"],[0.8888888888888888,\"#fdca26\"],[1.0,\"#f0f921\"]]}],\"mesh3d\":[{\"type\":\"mesh3d\",\"colorbar\":{\"outlinewidth\":0,\"ticks\":\"\"}}],\"scatter\":[{\"fillpattern\":{\"fillmode\":\"overlay\",\"size\":10,\"solidity\":0.2},\"type\":\"scatter\"}],\"parcoords\":[{\"type\":\"parcoords\",\"line\":{\"colorbar\":{\"outlinewidth\":0,\"ticks\":\"\"}}}],\"scatterpolargl\":[{\"type\":\"scatterpolargl\",\"marker\":{\"colorbar\":{\"outlinewidth\":0,\"ticks\":\"\"}}}],\"bar\":[{\"error_x\":{\"color\":\"#2a3f5f\"},\"error_y\":{\"color\":\"#2a3f5f\"},\"marker\":{\"line\":{\"color\":\"#E5ECF6\",\"width\":0.5},\"pattern\":{\"fillmode\":\"overlay\",\"size\":10,\"solidity\":0.2}},\"type\":\"bar\"}],\"scattergeo\":[{\"type\":\"scattergeo\",\"marker\":{\"colorbar\":{\"outlinewidth\":0,\"ticks\":\"\"}}}],\"scatterpolar\":[{\"type\":\"scatterpolar\",\"marker\":{\"colorbar\":{\"outlinewidth\":0,\"ticks\":\"\"}}}],\"histogram\":[{\"marker\":{\"pattern\":{\"fillmode\":\"overlay\",\"size\":10,\"solidity\":0.2}},\"type\":\"histogram\"}],\"scattergl\":[{\"type\":\"scattergl\",\"marker\":{\"colorbar\":{\"outlinewidth\":0,\"ticks\":\"\"}}}],\"scatter3d\":[{\"type\":\"scatter3d\",\"line\":{\"colorbar\":{\"outlinewidth\":0,\"ticks\":\"\"}},\"marker\":{\"colorbar\":{\"outlinewidth\":0,\"ticks\":\"\"}}}],\"scattermapbox\":[{\"type\":\"scattermapbox\",\"marker\":{\"colorbar\":{\"outlinewidth\":0,\"ticks\":\"\"}}}],\"scatterternary\":[{\"type\":\"scatterternary\",\"marker\":{\"colorbar\":{\"outlinewidth\":0,\"ticks\":\"\"}}}],\"scattercarpet\":[{\"type\":\"scattercarpet\",\"marker\":{\"colorbar\":{\"outlinewidth\":0,\"ticks\":\"\"}}}],\"carpet\":[{\"aaxis\":{\"endlinecolor\":\"#2a3f5f\",\"gridcolor\":\"white\",\"linecolor\":\"white\",\"minorgridcolor\":\"white\",\"startlinecolor\":\"#2a3f5f\"},\"baxis\":{\"endlinecolor\":\"#2a3f5f\",\"gridcolor\":\"white\",\"linecolor\":\"white\",\"minorgridcolor\":\"white\",\"startlinecolor\":\"#2a3f5f\"},\"type\":\"carpet\"}],\"table\":[{\"cells\":{\"fill\":{\"color\":\"#EBF0F8\"},\"line\":{\"color\":\"white\"}},\"header\":{\"fill\":{\"color\":\"#C8D4E3\"},\"line\":{\"color\":\"white\"}},\"type\":\"table\"}],\"barpolar\":[{\"marker\":{\"line\":{\"color\":\"#E5ECF6\",\"width\":0.5},\"pattern\":{\"fillmode\":\"overlay\",\"size\":10,\"solidity\":0.2}},\"type\":\"barpolar\"}],\"pie\":[{\"automargin\":true,\"type\":\"pie\"}]},\"layout\":{\"autotypenumbers\":\"strict\",\"colorway\":[\"#636efa\",\"#EF553B\",\"#00cc96\",\"#ab63fa\",\"#FFA15A\",\"#19d3f3\",\"#FF6692\",\"#B6E880\",\"#FF97FF\",\"#FECB52\"],\"font\":{\"color\":\"#2a3f5f\"},\"hovermode\":\"closest\",\"hoverlabel\":{\"align\":\"left\"},\"paper_bgcolor\":\"white\",\"plot_bgcolor\":\"#E5ECF6\",\"polar\":{\"bgcolor\":\"#E5ECF6\",\"angularaxis\":{\"gridcolor\":\"white\",\"linecolor\":\"white\",\"ticks\":\"\"},\"radialaxis\":{\"gridcolor\":\"white\",\"linecolor\":\"white\",\"ticks\":\"\"}},\"ternary\":{\"bgcolor\":\"#E5ECF6\",\"aaxis\":{\"gridcolor\":\"white\",\"linecolor\":\"white\",\"ticks\":\"\"},\"baxis\":{\"gridcolor\":\"white\",\"linecolor\":\"white\",\"ticks\":\"\"},\"caxis\":{\"gridcolor\":\"white\",\"linecolor\":\"white\",\"ticks\":\"\"}},\"coloraxis\":{\"colorbar\":{\"outlinewidth\":0,\"ticks\":\"\"}},\"colorscale\":{\"sequential\":[[0.0,\"#0d0887\"],[0.1111111111111111,\"#46039f\"],[0.2222222222222222,\"#7201a8\"],[0.3333333333333333,\"#9c179e\"],[0.4444444444444444,\"#bd3786\"],[0.5555555555555556,\"#d8576b\"],[0.6666666666666666,\"#ed7953\"],[0.7777777777777778,\"#fb9f3a\"],[0.8888888888888888,\"#fdca26\"],[1.0,\"#f0f921\"]],\"sequentialminus\":[[0.0,\"#0d0887\"],[0.1111111111111111,\"#46039f\"],[0.2222222222222222,\"#7201a8\"],[0.3333333333333333,\"#9c179e\"],[0.4444444444444444,\"#bd3786\"],[0.5555555555555556,\"#d8576b\"],[0.6666666666666666,\"#ed7953\"],[0.7777777777777778,\"#fb9f3a\"],[0.8888888888888888,\"#fdca26\"],[1.0,\"#f0f921\"]],\"diverging\":[[0,\"#8e0152\"],[0.1,\"#c51b7d\"],[0.2,\"#de77ae\"],[0.3,\"#f1b6da\"],[0.4,\"#fde0ef\"],[0.5,\"#f7f7f7\"],[0.6,\"#e6f5d0\"],[0.7,\"#b8e186\"],[0.8,\"#7fbc41\"],[0.9,\"#4d9221\"],[1,\"#276419\"]]},\"xaxis\":{\"gridcolor\":\"white\",\"linecolor\":\"white\",\"ticks\":\"\",\"title\":{\"standoff\":15},\"zerolinecolor\":\"white\",\"automargin\":true,\"zerolinewidth\":2},\"yaxis\":{\"gridcolor\":\"white\",\"linecolor\":\"white\",\"ticks\":\"\",\"title\":{\"standoff\":15},\"zerolinecolor\":\"white\",\"automargin\":true,\"zerolinewidth\":2},\"scene\":{\"xaxis\":{\"backgroundcolor\":\"#E5ECF6\",\"gridcolor\":\"white\",\"linecolor\":\"white\",\"showbackground\":true,\"ticks\":\"\",\"zerolinecolor\":\"white\",\"gridwidth\":2},\"yaxis\":{\"backgroundcolor\":\"#E5ECF6\",\"gridcolor\":\"white\",\"linecolor\":\"white\",\"showbackground\":true,\"ticks\":\"\",\"zerolinecolor\":\"white\",\"gridwidth\":2},\"zaxis\":{\"backgroundcolor\":\"#E5ECF6\",\"gridcolor\":\"white\",\"linecolor\":\"white\",\"showbackground\":true,\"ticks\":\"\",\"zerolinecolor\":\"white\",\"gridwidth\":2}},\"shapedefaults\":{\"line\":{\"color\":\"#2a3f5f\"}},\"annotationdefaults\":{\"arrowcolor\":\"#2a3f5f\",\"arrowhead\":0,\"arrowwidth\":1},\"geo\":{\"bgcolor\":\"white\",\"landcolor\":\"#E5ECF6\",\"subunitcolor\":\"white\",\"showland\":true,\"showlakes\":true,\"lakecolor\":\"white\"},\"title\":{\"x\":0.05},\"mapbox\":{\"style\":\"light\"}}},\"title\":{\"x\":0.5,\"text\":\"Example spectrum\"}},                        {\"responsive\": true}                    ).then(function(){\n",
       "                            \n",
       "var gd = document.getElementById('5594aa6b-342f-4d0a-ba5e-4842fab428f7');\n",
       "var x = new MutationObserver(function (mutations, observer) {{\n",
       "        var display = window.getComputedStyle(gd).display;\n",
       "        if (!display || display === 'none') {{\n",
       "            console.log([gd, 'removed!']);\n",
       "            Plotly.purge(gd);\n",
       "            observer.disconnect();\n",
       "        }}\n",
       "}});\n",
       "\n",
       "// Listen for the removal of the full notebook cells\n",
       "var notebookContainer = gd.closest('#notebook-container');\n",
       "if (notebookContainer) {{\n",
       "    x.observe(notebookContainer, {childList: true});\n",
       "}}\n",
       "\n",
       "// Listen for the clearing of the current output cell\n",
       "var outputEl = gd.closest('.output');\n",
       "if (outputEl) {{\n",
       "    x.observe(outputEl, {childList: true});\n",
       "}}\n",
       "\n",
       "                        })                };                });            </script>        </div>"
      ]
     },
     "metadata": {},
     "output_type": "display_data"
    }
   ],
   "source": [
    "sample_16 = dataset_16[2]\n",
    "sample_32 = dataset_32[2]\n",
    "s_16 = sample_16[\"features\"][100, 200, :]\n",
    "s_32 = sample_32[\"features\"][100, 200, :]\n",
    "fig = go.Figure()\n",
    "fig.add_trace(go.Scatter(y=s_16, name=\"fp16\"))\n",
    "fig.add_trace(go.Scatter(y=s_32, name=\"fp32\"))\n",
    "fig.update_layout(title_x=0.5, title_text=\"Example spectrum\")"
   ]
  },
  {
   "cell_type": "code",
   "execution_count": null,
   "id": "6c98ae46-45c4-4870-ada8-d4893869a83f",
   "metadata": {},
   "outputs": [],
   "source": []
  }
 ],
 "metadata": {
  "kernelspec": {
   "display_name": "Python 3 (ipykernel)",
   "language": "python",
   "name": "python3"
  },
  "language_info": {
   "codemirror_mode": {
    "name": "ipython",
    "version": 3
   },
   "file_extension": ".py",
   "mimetype": "text/x-python",
   "name": "python",
   "nbconvert_exporter": "python",
   "pygments_lexer": "ipython3",
   "version": "3.10.6"
  }
 },
 "nbformat": 4,
 "nbformat_minor": 5
}
