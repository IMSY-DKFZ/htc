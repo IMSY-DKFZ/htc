{
 "cells": [
  {
   "cell_type": "markdown",
   "id": "37558b7e-3992-40d8-8bb7-565b770f5403",
   "metadata": {},
   "source": [
    "# K-Fold Selection"
   ]
  },
  {
   "cell_type": "code",
   "execution_count": 1,
   "id": "f4a32da2-32f3-41d6-95c4-518d34fa065b",
   "metadata": {},
   "outputs": [],
   "source": [
    "%load_ext autoreload\n",
    "%autoreload 2\n",
    "\n",
    "import numpy as np\n",
    "import pandas as pd\n",
    "import plotly.graph_objects as go\n",
    "\n",
    "from htc.cpp import kfold_combinations\n",
    "from htc.models.data.DataSpecification import DataSpecification\n",
    "from htc.settings_seg import settings_seg"
   ]
  },
  {
   "cell_type": "code",
   "execution_count": 2,
   "id": "7d9ba10b-c662-4a51-ac34-f8e71c23d276",
   "metadata": {},
   "outputs": [
    {
     "data": {
      "text/html": [
       "<div>\n",
       "<style scoped>\n",
       "    .dataframe tbody tr th:only-of-type {\n",
       "        vertical-align: middle;\n",
       "    }\n",
       "\n",
       "    .dataframe tbody tr th {\n",
       "        vertical-align: top;\n",
       "    }\n",
       "\n",
       "    .dataframe thead th {\n",
       "        text-align: right;\n",
       "    }\n",
       "</style>\n",
       "<table border=\"1\" class=\"dataframe\">\n",
       "  <thead>\n",
       "    <tr style=\"text-align: right;\">\n",
       "      <th></th>\n",
       "      <th>subject_name</th>\n",
       "      <th>pig_index</th>\n",
       "      <th>timestamp</th>\n",
       "      <th>label_index</th>\n",
       "    </tr>\n",
       "  </thead>\n",
       "  <tbody>\n",
       "    <tr>\n",
       "      <th>0</th>\n",
       "      <td>P041</td>\n",
       "      <td>0</td>\n",
       "      <td>2019_12_14_12_00_16</td>\n",
       "      <td>9</td>\n",
       "    </tr>\n",
       "    <tr>\n",
       "      <th>1</th>\n",
       "      <td>P041</td>\n",
       "      <td>0</td>\n",
       "      <td>2019_12_14_12_00_16</td>\n",
       "      <td>4</td>\n",
       "    </tr>\n",
       "    <tr>\n",
       "      <th>2</th>\n",
       "      <td>P041</td>\n",
       "      <td>0</td>\n",
       "      <td>2019_12_14_12_00_16</td>\n",
       "      <td>13</td>\n",
       "    </tr>\n",
       "    <tr>\n",
       "      <th>3</th>\n",
       "      <td>P041</td>\n",
       "      <td>0</td>\n",
       "      <td>2019_12_14_12_00_16</td>\n",
       "      <td>5</td>\n",
       "    </tr>\n",
       "    <tr>\n",
       "      <th>4</th>\n",
       "      <td>P041</td>\n",
       "      <td>0</td>\n",
       "      <td>2019_12_14_12_01_09</td>\n",
       "      <td>4</td>\n",
       "    </tr>\n",
       "    <tr>\n",
       "      <th>...</th>\n",
       "      <td>...</td>\n",
       "      <td>...</td>\n",
       "      <td>...</td>\n",
       "      <td>...</td>\n",
       "    </tr>\n",
       "    <tr>\n",
       "      <th>2228</th>\n",
       "      <td>P071</td>\n",
       "      <td>14</td>\n",
       "      <td>2020_08_05_11_57_30</td>\n",
       "      <td>10</td>\n",
       "    </tr>\n",
       "    <tr>\n",
       "      <th>2229</th>\n",
       "      <td>P071</td>\n",
       "      <td>14</td>\n",
       "      <td>2020_08_05_11_57_30</td>\n",
       "      <td>14</td>\n",
       "    </tr>\n",
       "    <tr>\n",
       "      <th>2230</th>\n",
       "      <td>P071</td>\n",
       "      <td>14</td>\n",
       "      <td>2020_08_05_11_57_30</td>\n",
       "      <td>11</td>\n",
       "    </tr>\n",
       "    <tr>\n",
       "      <th>2231</th>\n",
       "      <td>P071</td>\n",
       "      <td>14</td>\n",
       "      <td>2020_08_05_11_57_30</td>\n",
       "      <td>12</td>\n",
       "    </tr>\n",
       "    <tr>\n",
       "      <th>2232</th>\n",
       "      <td>P071</td>\n",
       "      <td>14</td>\n",
       "      <td>2020_08_05_11_57_30</td>\n",
       "      <td>6</td>\n",
       "    </tr>\n",
       "  </tbody>\n",
       "</table>\n",
       "<p>2233 rows × 4 columns</p>\n",
       "</div>"
      ],
      "text/plain": [
       "     subject_name  pig_index               timestamp  label_index\n",
       "0      P041          0  2019_12_14_12_00_16         9\n",
       "1      P041          0  2019_12_14_12_00_16         4\n",
       "2      P041          0  2019_12_14_12_00_16        13\n",
       "3      P041          0  2019_12_14_12_00_16         5\n",
       "4      P041          0  2019_12_14_12_01_09         4\n",
       "...     ...        ...                  ...       ...\n",
       "2228   P071         14  2020_08_05_11_57_30        10\n",
       "2229   P071         14  2020_08_05_11_57_30        14\n",
       "2230   P071         14  2020_08_05_11_57_30        11\n",
       "2231   P071         14  2020_08_05_11_57_30        12\n",
       "2232   P071         14  2020_08_05_11_57_30         6\n",
       "\n",
       "[2233 rows x 4 columns]"
      ]
     },
     "execution_count": 2,
     "metadata": {},
     "output_type": "execute_result"
    }
   ],
   "source": [
    "paths = DataSpecification(\"pigs_semantic-only_5foldsV2.json\").paths()\n",
    "pigs = sorted({p.subject_name for p in paths})\n",
    "\n",
    "rows = []\n",
    "for path in paths:\n",
    "    for label in filter(lambda l: l in settings_seg.labels, path.annotated_labels()):\n",
    "        label_index = settings_seg.label_mapping.name_to_index(label)\n",
    "        rows.append([path.subject_name, pigs.index(path.subject_name), path.timestamp, label_index])\n",
    "\n",
    "df = pd.DataFrame(rows, columns=[\"subject_name\", \"pig_index\", \"timestamp\", \"label_index\"])\n",
    "df"
   ]
  },
  {
   "cell_type": "markdown",
   "id": "ff880018-b5f2-479e-bbc0-f407594e0850",
   "metadata": {},
   "source": [
    "## Find all $k$-fold combinations with the maximum number of labels"
   ]
  },
  {
   "cell_type": "code",
   "execution_count": 3,
   "id": "2a75cd8c-19ea-4bec-9f2e-17ddc8b42984",
   "metadata": {},
   "outputs": [
    {
     "data": {
      "text/plain": [
       "2015"
      ]
     },
     "execution_count": 3,
     "metadata": {},
     "output_type": "execute_result"
    }
   ],
   "source": [
    "pig_indices = df[\"pig_index\"].unique().tolist()\n",
    "pig_labels = {\n",
    "    pig_index: sorted(df.query(f\"pig_index == {pig_index}\")[\"label_index\"].unique().tolist())\n",
    "    for pig_index in df[\"pig_index\"].unique()\n",
    "}\n",
    "min_labels = 88\n",
    "folds = kfold_combinations(pig_indices, pig_labels, min_labels)\n",
    "len(folds)"
   ]
  },
  {
   "cell_type": "markdown",
   "id": "62a0e608-4d1e-4c09-8665-3ab1c407a4de",
   "metadata": {},
   "source": [
    "## Additional statistics of the remaining folds"
   ]
  },
  {
   "cell_type": "code",
   "execution_count": 4,
   "id": "41589f42-b831-46cb-b847-3b17bd3958bc",
   "metadata": {},
   "outputs": [],
   "source": [
    "rows = []\n",
    "for fold in folds:\n",
    "    splits = []\n",
    "    for g in range(5):\n",
    "        splits.append([fold[g * 3], fold[g * 3 + 1], fold[g * 3 + 2]])\n",
    "\n",
    "    total_std_pigs = 0\n",
    "    total_std_images = 0\n",
    "    n_pigs = 0\n",
    "    n_labels = []\n",
    "    for split in splits:\n",
    "        df_test = df.query(\"pig_index in @split\")\n",
    "        label_dist_pigs = df_test.groupby(\"label_index\")[\"subject_name\"].nunique().values\n",
    "        label_dist_images = df_test.groupby([\"label_index\"])[\"timestamp\"].nunique().values\n",
    "\n",
    "        n_pigs += np.sum(label_dist_pigs)\n",
    "        total_std_pigs += np.std(label_dist_pigs)\n",
    "        total_std_images += np.std(label_dist_images)\n",
    "        n_labels.append(len(label_dist_pigs))\n",
    "\n",
    "    rows.append([splits, total_std_pigs, np.std(n_labels), total_std_images, n_pigs])\n",
    "\n",
    "df_folds = pd.DataFrame(rows, columns=[\"splits\", \"std_pigs\", \"n_labels_std\", \"std_images\", \"n_pigs\"])"
   ]
  },
  {
   "cell_type": "code",
   "execution_count": 5,
   "id": "ac3d2a03-23d8-4114-8dbc-4952d446a8d0",
   "metadata": {},
   "outputs": [
    {
     "data": {
      "text/html": [
       "<div>\n",
       "<style scoped>\n",
       "    .dataframe tbody tr th:only-of-type {\n",
       "        vertical-align: middle;\n",
       "    }\n",
       "\n",
       "    .dataframe tbody tr th {\n",
       "        vertical-align: top;\n",
       "    }\n",
       "\n",
       "    .dataframe thead th {\n",
       "        text-align: right;\n",
       "    }\n",
       "</style>\n",
       "<table border=\"1\" class=\"dataframe\">\n",
       "  <thead>\n",
       "    <tr style=\"text-align: right;\">\n",
       "      <th></th>\n",
       "      <th>splits</th>\n",
       "      <th>std_pigs</th>\n",
       "      <th>n_labels_std</th>\n",
       "      <th>std_images</th>\n",
       "      <th>n_pigs</th>\n",
       "    </tr>\n",
       "  </thead>\n",
       "  <tbody>\n",
       "    <tr>\n",
       "      <th>1100</th>\n",
       "      <td>[[0, 6, 10], [1, 4, 9], [2, 11, 14], [3, 8, 12...</td>\n",
       "      <td>4.399190</td>\n",
       "      <td>1.019804</td>\n",
       "      <td>89.640749</td>\n",
       "      <td>188</td>\n",
       "    </tr>\n",
       "    <tr>\n",
       "      <th>1741</th>\n",
       "      <td>[[0, 10, 12], [1, 6, 9], [2, 11, 14], [3, 4, 8...</td>\n",
       "      <td>4.400032</td>\n",
       "      <td>1.019804</td>\n",
       "      <td>88.449107</td>\n",
       "      <td>188</td>\n",
       "    </tr>\n",
       "    <tr>\n",
       "      <th>1075</th>\n",
       "      <td>[[0, 6, 10], [1, 3, 9], [2, 11, 14], [4, 8, 12...</td>\n",
       "      <td>4.402463</td>\n",
       "      <td>1.019804</td>\n",
       "      <td>88.771202</td>\n",
       "      <td>188</td>\n",
       "    </tr>\n",
       "    <tr>\n",
       "      <th>1696</th>\n",
       "      <td>[[0, 10, 12], [1, 4, 9], [2, 11, 14], [3, 6, 8...</td>\n",
       "      <td>4.403905</td>\n",
       "      <td>1.019804</td>\n",
       "      <td>89.405186</td>\n",
       "      <td>188</td>\n",
       "    </tr>\n",
       "    <tr>\n",
       "      <th>1851</th>\n",
       "      <td>[[0, 10, 14], [1, 6, 9], [2, 11, 12], [3, 4, 8...</td>\n",
       "      <td>4.407481</td>\n",
       "      <td>1.019804</td>\n",
       "      <td>89.608142</td>\n",
       "      <td>188</td>\n",
       "    </tr>\n",
       "    <tr>\n",
       "      <th>...</th>\n",
       "      <td>...</td>\n",
       "      <td>...</td>\n",
       "      <td>...</td>\n",
       "      <td>...</td>\n",
       "      <td>...</td>\n",
       "    </tr>\n",
       "    <tr>\n",
       "      <th>396</th>\n",
       "      <td>[[0, 1, 14], [2, 6, 11], [3, 8, 12], [4, 5, 10...</td>\n",
       "      <td>4.766993</td>\n",
       "      <td>1.019804</td>\n",
       "      <td>90.078500</td>\n",
       "      <td>188</td>\n",
       "    </tr>\n",
       "    <tr>\n",
       "      <th>0</th>\n",
       "      <td>[[0, 1, 7], [2, 3, 11], [4, 5, 8], [6, 10, 12]...</td>\n",
       "      <td>4.788821</td>\n",
       "      <td>1.019804</td>\n",
       "      <td>90.474055</td>\n",
       "      <td>188</td>\n",
       "    </tr>\n",
       "    <tr>\n",
       "      <th>1367</th>\n",
       "      <td>[[0, 8, 12], [1, 6, 7], [2, 3, 11], [4, 5, 10]...</td>\n",
       "      <td>4.795013</td>\n",
       "      <td>1.019804</td>\n",
       "      <td>90.445178</td>\n",
       "      <td>188</td>\n",
       "    </tr>\n",
       "    <tr>\n",
       "      <th>342</th>\n",
       "      <td>[[0, 1, 14], [2, 3, 11], [4, 5, 8], [6, 10, 12...</td>\n",
       "      <td>4.805158</td>\n",
       "      <td>1.019804</td>\n",
       "      <td>90.012832</td>\n",
       "      <td>188</td>\n",
       "    </tr>\n",
       "    <tr>\n",
       "      <th>1045</th>\n",
       "      <td>[[0, 6, 8], [1, 7, 12], [2, 3, 11], [4, 5, 10]...</td>\n",
       "      <td>4.813779</td>\n",
       "      <td>1.019804</td>\n",
       "      <td>90.816205</td>\n",
       "      <td>188</td>\n",
       "    </tr>\n",
       "  </tbody>\n",
       "</table>\n",
       "<p>2015 rows × 5 columns</p>\n",
       "</div>"
      ],
      "text/plain": [
       "                                                 splits  std_pigs  \\\n",
       "1100  [[0, 6, 10], [1, 4, 9], [2, 11, 14], [3, 8, 12...  4.399190   \n",
       "1741  [[0, 10, 12], [1, 6, 9], [2, 11, 14], [3, 4, 8...  4.400032   \n",
       "1075  [[0, 6, 10], [1, 3, 9], [2, 11, 14], [4, 8, 12...  4.402463   \n",
       "1696  [[0, 10, 12], [1, 4, 9], [2, 11, 14], [3, 6, 8...  4.403905   \n",
       "1851  [[0, 10, 14], [1, 6, 9], [2, 11, 12], [3, 4, 8...  4.407481   \n",
       "...                                                 ...       ...   \n",
       "396   [[0, 1, 14], [2, 6, 11], [3, 8, 12], [4, 5, 10...  4.766993   \n",
       "0     [[0, 1, 7], [2, 3, 11], [4, 5, 8], [6, 10, 12]...  4.788821   \n",
       "1367  [[0, 8, 12], [1, 6, 7], [2, 3, 11], [4, 5, 10]...  4.795013   \n",
       "342   [[0, 1, 14], [2, 3, 11], [4, 5, 8], [6, 10, 12...  4.805158   \n",
       "1045  [[0, 6, 8], [1, 7, 12], [2, 3, 11], [4, 5, 10]...  4.813779   \n",
       "\n",
       "      n_labels_std  std_images  n_pigs  \n",
       "1100      1.019804   89.640749     188  \n",
       "1741      1.019804   88.449107     188  \n",
       "1075      1.019804   88.771202     188  \n",
       "1696      1.019804   89.405186     188  \n",
       "1851      1.019804   89.608142     188  \n",
       "...            ...         ...     ...  \n",
       "396       1.019804   90.078500     188  \n",
       "0         1.019804   90.474055     188  \n",
       "1367      1.019804   90.445178     188  \n",
       "342       1.019804   90.012832     188  \n",
       "1045      1.019804   90.816205     188  \n",
       "\n",
       "[2015 rows x 5 columns]"
      ]
     },
     "execution_count": 5,
     "metadata": {},
     "output_type": "execute_result"
    }
   ],
   "source": [
    "df_folds.sort_values(by=\"std_pigs\", inplace=True)\n",
    "df_folds"
   ]
  },
  {
   "cell_type": "code",
   "execution_count": 6,
   "id": "7db972eb-cdf7-4221-9008-805c2ead286d",
   "metadata": {},
   "outputs": [
    {
     "name": "stdout",
     "output_type": "stream",
     "text": [
      "[2 1 1 3 3 3 3 3 2 2 3 3 3 3 1 1 1 1]\n",
      "[1 1 1 3 3 3 3 3 2 2 2 3 3 2 1 1 1 1 1]\n",
      "[2 1 1 3 3 3 3 3 1 2 3 3 3 3 2 1 1]\n",
      "[1 1 1 3 3 3 3 3 2 1 3 3 3 3 1 1 1 1]\n",
      "[2 1 1 3 3 3 3 3 2 2 2 3 3 3 2 1]\n"
     ]
    }
   ],
   "source": [
    "for split in df_folds.iloc[0][\"splits\"]:\n",
    "    df_test = df.query(\"pig_index in @split\")\n",
    "    print(df_test.groupby(\"label_index\")[\"subject_name\"].nunique().values)"
   ]
  },
  {
   "cell_type": "code",
   "execution_count": 7,
   "id": "fb23f3fd-eb8c-43ff-ad2f-c72cd08bd004",
   "metadata": {},
   "outputs": [
    {
     "name": "stdout",
     "output_type": "stream",
     "text": [
      "[ 3 14 14 35 35 45 33 31 11 17 23 25 20 11  8  2  3  6]\n",
      "[ 4  6  6 32 48 51 18 29 15 19  8 37 38 37  5  1  3  3  3]\n",
      "[ 4  4  4 36 37 50 40 39  5 10 24 34 50 44  8  4  6]\n",
      "[ 2 13 13 58 62 59 31 46 23  1 38 47 44 44 14  8  8 15]\n",
      "[13 14 14 49 61 65 50 50 20 12 33 65 68 68 14 13]\n"
     ]
    }
   ],
   "source": [
    "for split in df_folds.iloc[0][\"splits\"]:\n",
    "    df_test = df.query(\"pig_index in @split\")\n",
    "    print(df_test.groupby(\"label_index\")[\"timestamp\"].nunique().values)"
   ]
  },
  {
   "cell_type": "markdown",
   "id": "360157c2-6ac3-413e-96b9-90cecf600d2d",
   "metadata": {},
   "source": [
    "Minimizing the standard deviation of the label distribution is not enough."
   ]
  },
  {
   "cell_type": "code",
   "execution_count": 8,
   "id": "460dbd99-b289-4cfc-b90d-a288d55ac11b",
   "metadata": {},
   "outputs": [
    {
     "data": {
      "text/html": [
       "<div>\n",
       "<style scoped>\n",
       "    .dataframe tbody tr th:only-of-type {\n",
       "        vertical-align: middle;\n",
       "    }\n",
       "\n",
       "    .dataframe tbody tr th {\n",
       "        vertical-align: top;\n",
       "    }\n",
       "\n",
       "    .dataframe thead th {\n",
       "        text-align: right;\n",
       "    }\n",
       "</style>\n",
       "<table border=\"1\" class=\"dataframe\">\n",
       "  <thead>\n",
       "    <tr style=\"text-align: right;\">\n",
       "      <th></th>\n",
       "      <th>splits</th>\n",
       "      <th>std_pigs</th>\n",
       "      <th>n_labels_std</th>\n",
       "      <th>std_images</th>\n",
       "      <th>n_pigs</th>\n",
       "    </tr>\n",
       "  </thead>\n",
       "  <tbody>\n",
       "    <tr>\n",
       "      <th>1100</th>\n",
       "      <td>[[0, 6, 10], [1, 4, 9], [2, 11, 14], [3, 8, 12...</td>\n",
       "      <td>4.399190</td>\n",
       "      <td>1.019804</td>\n",
       "      <td>89.640749</td>\n",
       "      <td>188</td>\n",
       "    </tr>\n",
       "    <tr>\n",
       "      <th>1741</th>\n",
       "      <td>[[0, 10, 12], [1, 6, 9], [2, 11, 14], [3, 4, 8...</td>\n",
       "      <td>4.400032</td>\n",
       "      <td>1.019804</td>\n",
       "      <td>88.449107</td>\n",
       "      <td>188</td>\n",
       "    </tr>\n",
       "    <tr>\n",
       "      <th>1075</th>\n",
       "      <td>[[0, 6, 10], [1, 3, 9], [2, 11, 14], [4, 8, 12...</td>\n",
       "      <td>4.402463</td>\n",
       "      <td>1.019804</td>\n",
       "      <td>88.771202</td>\n",
       "      <td>188</td>\n",
       "    </tr>\n",
       "    <tr>\n",
       "      <th>1696</th>\n",
       "      <td>[[0, 10, 12], [1, 4, 9], [2, 11, 14], [3, 6, 8...</td>\n",
       "      <td>4.403905</td>\n",
       "      <td>1.019804</td>\n",
       "      <td>89.405186</td>\n",
       "      <td>188</td>\n",
       "    </tr>\n",
       "    <tr>\n",
       "      <th>1851</th>\n",
       "      <td>[[0, 10, 14], [1, 6, 9], [2, 11, 12], [3, 4, 8...</td>\n",
       "      <td>4.407481</td>\n",
       "      <td>1.019804</td>\n",
       "      <td>89.608142</td>\n",
       "      <td>188</td>\n",
       "    </tr>\n",
       "    <tr>\n",
       "      <th>...</th>\n",
       "      <td>...</td>\n",
       "      <td>...</td>\n",
       "      <td>...</td>\n",
       "      <td>...</td>\n",
       "      <td>...</td>\n",
       "    </tr>\n",
       "    <tr>\n",
       "      <th>843</th>\n",
       "      <td>[[0, 5, 10], [1, 6, 9], [2, 4, 11], [3, 12, 13...</td>\n",
       "      <td>4.729709</td>\n",
       "      <td>1.019804</td>\n",
       "      <td>89.810726</td>\n",
       "      <td>188</td>\n",
       "    </tr>\n",
       "    <tr>\n",
       "      <th>72</th>\n",
       "      <td>[[0, 1, 9], [2, 3, 11], [4, 5, 13], [6, 10, 12...</td>\n",
       "      <td>4.733115</td>\n",
       "      <td>1.019804</td>\n",
       "      <td>89.950701</td>\n",
       "      <td>188</td>\n",
       "    </tr>\n",
       "    <tr>\n",
       "      <th>421</th>\n",
       "      <td>[[0, 1, 14], [2, 7, 11], [3, 9, 13], [4, 5, 8]...</td>\n",
       "      <td>4.734246</td>\n",
       "      <td>1.019804</td>\n",
       "      <td>90.656024</td>\n",
       "      <td>188</td>\n",
       "    </tr>\n",
       "    <tr>\n",
       "      <th>341</th>\n",
       "      <td>[[0, 1, 14], [2, 3, 11], [4, 5, 8], [6, 9, 13]...</td>\n",
       "      <td>4.746013</td>\n",
       "      <td>1.019804</td>\n",
       "      <td>89.861880</td>\n",
       "      <td>188</td>\n",
       "    </tr>\n",
       "    <tr>\n",
       "      <th>344</th>\n",
       "      <td>[[0, 1, 14], [2, 3, 11], [4, 5, 10], [6, 9, 13...</td>\n",
       "      <td>4.766007</td>\n",
       "      <td>1.019804</td>\n",
       "      <td>90.017990</td>\n",
       "      <td>188</td>\n",
       "    </tr>\n",
       "  </tbody>\n",
       "</table>\n",
       "<p>2015 rows × 5 columns</p>\n",
       "</div>"
      ],
      "text/plain": [
       "                                                 splits  std_pigs  \\\n",
       "1100  [[0, 6, 10], [1, 4, 9], [2, 11, 14], [3, 8, 12...  4.399190   \n",
       "1741  [[0, 10, 12], [1, 6, 9], [2, 11, 14], [3, 4, 8...  4.400032   \n",
       "1075  [[0, 6, 10], [1, 3, 9], [2, 11, 14], [4, 8, 12...  4.402463   \n",
       "1696  [[0, 10, 12], [1, 4, 9], [2, 11, 14], [3, 6, 8...  4.403905   \n",
       "1851  [[0, 10, 14], [1, 6, 9], [2, 11, 12], [3, 4, 8...  4.407481   \n",
       "...                                                 ...       ...   \n",
       "843   [[0, 5, 10], [1, 6, 9], [2, 4, 11], [3, 12, 13...  4.729709   \n",
       "72    [[0, 1, 9], [2, 3, 11], [4, 5, 13], [6, 10, 12...  4.733115   \n",
       "421   [[0, 1, 14], [2, 7, 11], [3, 9, 13], [4, 5, 8]...  4.734246   \n",
       "341   [[0, 1, 14], [2, 3, 11], [4, 5, 8], [6, 9, 13]...  4.746013   \n",
       "344   [[0, 1, 14], [2, 3, 11], [4, 5, 10], [6, 9, 13...  4.766007   \n",
       "\n",
       "      n_labels_std  std_images  n_pigs  \n",
       "1100      1.019804   89.640749     188  \n",
       "1741      1.019804   88.449107     188  \n",
       "1075      1.019804   88.771202     188  \n",
       "1696      1.019804   89.405186     188  \n",
       "1851      1.019804   89.608142     188  \n",
       "...            ...         ...     ...  \n",
       "843       1.019804   89.810726     188  \n",
       "72        1.019804   89.950701     188  \n",
       "421       1.019804   90.656024     188  \n",
       "341       1.019804   89.861880     188  \n",
       "344       1.019804   90.017990     188  \n",
       "\n",
       "[2015 rows x 5 columns]"
      ]
     },
     "execution_count": 8,
     "metadata": {},
     "output_type": "execute_result"
    }
   ],
   "source": [
    "df_folds_best = df_folds.sort_values(by=[\"n_labels_std\", \"std_pigs\", \"std_images\"])\n",
    "df_folds_best"
   ]
  },
  {
   "cell_type": "code",
   "execution_count": 9,
   "id": "6dd81010-1fcc-4aa4-9aa8-65ea93a1dd26",
   "metadata": {},
   "outputs": [
    {
     "name": "stdout",
     "output_type": "stream",
     "text": [
      "[2 1 1 3 3 3 3 3 2 2 3 3 3 3 1 1 1 1]\n",
      "[1 1 1 3 3 3 3 3 2 2 2 3 3 2 1 1 1 1 1]\n",
      "[2 1 1 3 3 3 3 3 1 2 3 3 3 3 2 1 1]\n",
      "[1 1 1 3 3 3 3 3 2 1 3 3 3 3 1 1 1 1]\n",
      "[2 1 1 3 3 3 3 3 2 2 2 3 3 3 2 1]\n"
     ]
    }
   ],
   "source": [
    "for split in df_folds_best.iloc[0][\"splits\"]:\n",
    "    df_test = df.query(\"pig_index in @split\")\n",
    "    print(df_test.groupby(\"label_index\")[\"subject_name\"].nunique().values)"
   ]
  },
  {
   "cell_type": "code",
   "execution_count": 10,
   "id": "fb74a204-c66e-468f-82b4-84d62d862323",
   "metadata": {},
   "outputs": [
    {
     "name": "stdout",
     "output_type": "stream",
     "text": [
      "[ 3 14 14 35 35 45 33 31 11 17 23 25 20 11  8  2  3  6]\n",
      "[ 4  6  6 32 48 51 18 29 15 19  8 37 38 37  5  1  3  3  3]\n",
      "[ 4  4  4 36 37 50 40 39  5 10 24 34 50 44  8  4  6]\n",
      "[ 2 13 13 58 62 59 31 46 23  1 38 47 44 44 14  8  8 15]\n",
      "[13 14 14 49 61 65 50 50 20 12 33 65 68 68 14 13]\n"
     ]
    }
   ],
   "source": [
    "for split in df_folds_best.iloc[0][\"splits\"]:\n",
    "    df_test = df.query(\"pig_index in @split\")\n",
    "    print(df_test.groupby(\"label_index\")[\"timestamp\"].nunique().values)"
   ]
  },
  {
   "cell_type": "code",
   "execution_count": 11,
   "id": "d1a158ac-efc5-4c58-b1e3-e134fe5b81d6",
   "metadata": {},
   "outputs": [
    {
     "data": {
      "text/plain": [
       "[['P041', 'P050', 'P060'],\n",
       " ['P044', 'P048', 'P059'],\n",
       " ['P045', 'P061', 'P071'],\n",
       " ['P047', 'P058', 'P069'],\n",
       " ['P049', 'P057', 'P070']]"
      ]
     },
     "execution_count": 11,
     "metadata": {},
     "output_type": "execute_result"
    }
   ],
   "source": [
    "[[pigs[s] for s in split] for split in df_folds_best.iloc[0][\"splits\"]]"
   ]
  },
  {
   "cell_type": "markdown",
   "id": "975212dc-6b0b-4351-9f08-0ef50912daef",
   "metadata": {},
   "source": [
    "In the end, we optimized three criteria to get a balanced label distribution:\n",
    "- Each fold should have as many label classes as possible\n",
    "- The number of pigs per label should be similar\n",
    "- The number of images per label should be similar (has only a minor effect)"
   ]
  },
  {
   "cell_type": "code",
   "execution_count": 12,
   "id": "e10b0488-fe18-4fac-88f9-d0c4a2df6e76",
   "metadata": {},
   "outputs": [
    {
     "data": {
      "text/html": [
       "        <script type=\"text/javascript\">\n",
       "        window.PlotlyConfig = {MathJaxConfig: 'local'};\n",
       "        if (window.MathJax) {MathJax.Hub.Config({SVG: {font: \"STIX-Web\"}});}\n",
       "        if (typeof require !== 'undefined') {\n",
       "        require.undef(\"plotly\");\n",
       "        requirejs.config({\n",
       "            paths: {\n",
       "                'plotly': ['https://cdn.plot.ly/plotly-2.9.0.min']\n",
       "            }\n",
       "        });\n",
       "        require(['plotly'], function(Plotly) {\n",
       "            window._Plotly = Plotly;\n",
       "        });\n",
       "        }\n",
       "        </script>\n",
       "        "
      ]
     },
     "metadata": {},
     "output_type": "display_data"
    },
    {
     "data": {
      "application/vnd.plotly.v1+json": {
       "config": {
        "plotlyServerURL": "https://plot.ly"
       },
       "data": [
        {
         "marker": {
          "color": "rgb(20, 20, 20)"
         },
         "name": "fold_P041,P050,P060",
         "type": "bar",
         "x": [
          "background",
          "heart",
          "lung",
          "liver",
          "colon",
          "small_bowel",
          "stomach",
          "spleen",
          "gallbladder",
          "bladder",
          "omentum",
          "peritoneum",
          "skin",
          "fat",
          "pancreas",
          "muscle",
          "kidney",
          "major_vein",
          "kidney_with_Gerotas_fascia"
         ],
         "y": [
          2,
          1,
          1,
          3,
          3,
          3,
          3,
          3,
          2,
          2,
          3,
          3,
          3,
          3,
          1,
          1,
          1,
          1
         ]
        },
        {
         "marker": {
          "color": "rgb(80, 80, 80)"
         },
         "name": "fold_P044,P048,P059",
         "type": "bar",
         "x": [
          "background",
          "heart",
          "lung",
          "liver",
          "colon",
          "small_bowel",
          "stomach",
          "spleen",
          "gallbladder",
          "bladder",
          "omentum",
          "peritoneum",
          "skin",
          "fat",
          "pancreas",
          "muscle",
          "kidney",
          "major_vein",
          "kidney_with_Gerotas_fascia"
         ],
         "y": [
          1,
          1,
          1,
          3,
          3,
          3,
          3,
          3,
          2,
          2,
          2,
          3,
          3,
          2,
          1,
          1,
          1,
          1,
          1
         ]
        },
        {
         "marker": {
          "color": "rgb(120, 120, 120)"
         },
         "name": "fold_P045,P061,P071",
         "type": "bar",
         "x": [
          "background",
          "heart",
          "lung",
          "liver",
          "colon",
          "small_bowel",
          "stomach",
          "spleen",
          "gallbladder",
          "bladder",
          "omentum",
          "peritoneum",
          "skin",
          "fat",
          "pancreas",
          "muscle",
          "kidney",
          "major_vein",
          "kidney_with_Gerotas_fascia"
         ],
         "y": [
          2,
          1,
          1,
          3,
          3,
          3,
          3,
          3,
          1,
          2,
          3,
          3,
          3,
          3,
          2,
          1,
          1
         ]
        },
        {
         "marker": {
          "color": "rgb(160, 160, 160)"
         },
         "name": "fold_P047,P058,P069",
         "type": "bar",
         "x": [
          "background",
          "heart",
          "lung",
          "liver",
          "colon",
          "small_bowel",
          "stomach",
          "spleen",
          "gallbladder",
          "bladder",
          "omentum",
          "peritoneum",
          "skin",
          "fat",
          "pancreas",
          "muscle",
          "kidney",
          "major_vein",
          "kidney_with_Gerotas_fascia"
         ],
         "y": [
          1,
          1,
          1,
          3,
          3,
          3,
          3,
          3,
          2,
          1,
          3,
          3,
          3,
          3,
          1,
          1,
          1,
          1
         ]
        },
        {
         "marker": {
          "color": "rgb(200, 200, 200)"
         },
         "name": "fold_P049,P057,P070",
         "type": "bar",
         "x": [
          "background",
          "heart",
          "lung",
          "liver",
          "colon",
          "small_bowel",
          "stomach",
          "spleen",
          "gallbladder",
          "bladder",
          "omentum",
          "peritoneum",
          "skin",
          "fat",
          "pancreas",
          "muscle",
          "kidney",
          "major_vein",
          "kidney_with_Gerotas_fascia"
         ],
         "y": [
          2,
          1,
          1,
          3,
          3,
          3,
          3,
          3,
          2,
          2,
          2,
          3,
          3,
          3,
          2,
          1
         ]
        }
       ],
       "layout": {
        "template": {
         "data": {
          "bar": [
           {
            "error_x": {
             "color": "#2a3f5f"
            },
            "error_y": {
             "color": "#2a3f5f"
            },
            "marker": {
             "line": {
              "color": "#E5ECF6",
              "width": 0.5
             },
             "pattern": {
              "fillmode": "overlay",
              "size": 10,
              "solidity": 0.2
             }
            },
            "type": "bar"
           }
          ],
          "barpolar": [
           {
            "marker": {
             "line": {
              "color": "#E5ECF6",
              "width": 0.5
             },
             "pattern": {
              "fillmode": "overlay",
              "size": 10,
              "solidity": 0.2
             }
            },
            "type": "barpolar"
           }
          ],
          "carpet": [
           {
            "aaxis": {
             "endlinecolor": "#2a3f5f",
             "gridcolor": "white",
             "linecolor": "white",
             "minorgridcolor": "white",
             "startlinecolor": "#2a3f5f"
            },
            "baxis": {
             "endlinecolor": "#2a3f5f",
             "gridcolor": "white",
             "linecolor": "white",
             "minorgridcolor": "white",
             "startlinecolor": "#2a3f5f"
            },
            "type": "carpet"
           }
          ],
          "choropleth": [
           {
            "colorbar": {
             "outlinewidth": 0,
             "ticks": ""
            },
            "type": "choropleth"
           }
          ],
          "contour": [
           {
            "colorbar": {
             "outlinewidth": 0,
             "ticks": ""
            },
            "colorscale": [
             [
              0,
              "#0d0887"
             ],
             [
              0.1111111111111111,
              "#46039f"
             ],
             [
              0.2222222222222222,
              "#7201a8"
             ],
             [
              0.3333333333333333,
              "#9c179e"
             ],
             [
              0.4444444444444444,
              "#bd3786"
             ],
             [
              0.5555555555555556,
              "#d8576b"
             ],
             [
              0.6666666666666666,
              "#ed7953"
             ],
             [
              0.7777777777777778,
              "#fb9f3a"
             ],
             [
              0.8888888888888888,
              "#fdca26"
             ],
             [
              1,
              "#f0f921"
             ]
            ],
            "type": "contour"
           }
          ],
          "contourcarpet": [
           {
            "colorbar": {
             "outlinewidth": 0,
             "ticks": ""
            },
            "type": "contourcarpet"
           }
          ],
          "heatmap": [
           {
            "colorbar": {
             "outlinewidth": 0,
             "ticks": ""
            },
            "colorscale": [
             [
              0,
              "#0d0887"
             ],
             [
              0.1111111111111111,
              "#46039f"
             ],
             [
              0.2222222222222222,
              "#7201a8"
             ],
             [
              0.3333333333333333,
              "#9c179e"
             ],
             [
              0.4444444444444444,
              "#bd3786"
             ],
             [
              0.5555555555555556,
              "#d8576b"
             ],
             [
              0.6666666666666666,
              "#ed7953"
             ],
             [
              0.7777777777777778,
              "#fb9f3a"
             ],
             [
              0.8888888888888888,
              "#fdca26"
             ],
             [
              1,
              "#f0f921"
             ]
            ],
            "type": "heatmap"
           }
          ],
          "heatmapgl": [
           {
            "colorbar": {
             "outlinewidth": 0,
             "ticks": ""
            },
            "colorscale": [
             [
              0,
              "#0d0887"
             ],
             [
              0.1111111111111111,
              "#46039f"
             ],
             [
              0.2222222222222222,
              "#7201a8"
             ],
             [
              0.3333333333333333,
              "#9c179e"
             ],
             [
              0.4444444444444444,
              "#bd3786"
             ],
             [
              0.5555555555555556,
              "#d8576b"
             ],
             [
              0.6666666666666666,
              "#ed7953"
             ],
             [
              0.7777777777777778,
              "#fb9f3a"
             ],
             [
              0.8888888888888888,
              "#fdca26"
             ],
             [
              1,
              "#f0f921"
             ]
            ],
            "type": "heatmapgl"
           }
          ],
          "histogram": [
           {
            "marker": {
             "pattern": {
              "fillmode": "overlay",
              "size": 10,
              "solidity": 0.2
             }
            },
            "type": "histogram"
           }
          ],
          "histogram2d": [
           {
            "colorbar": {
             "outlinewidth": 0,
             "ticks": ""
            },
            "colorscale": [
             [
              0,
              "#0d0887"
             ],
             [
              0.1111111111111111,
              "#46039f"
             ],
             [
              0.2222222222222222,
              "#7201a8"
             ],
             [
              0.3333333333333333,
              "#9c179e"
             ],
             [
              0.4444444444444444,
              "#bd3786"
             ],
             [
              0.5555555555555556,
              "#d8576b"
             ],
             [
              0.6666666666666666,
              "#ed7953"
             ],
             [
              0.7777777777777778,
              "#fb9f3a"
             ],
             [
              0.8888888888888888,
              "#fdca26"
             ],
             [
              1,
              "#f0f921"
             ]
            ],
            "type": "histogram2d"
           }
          ],
          "histogram2dcontour": [
           {
            "colorbar": {
             "outlinewidth": 0,
             "ticks": ""
            },
            "colorscale": [
             [
              0,
              "#0d0887"
             ],
             [
              0.1111111111111111,
              "#46039f"
             ],
             [
              0.2222222222222222,
              "#7201a8"
             ],
             [
              0.3333333333333333,
              "#9c179e"
             ],
             [
              0.4444444444444444,
              "#bd3786"
             ],
             [
              0.5555555555555556,
              "#d8576b"
             ],
             [
              0.6666666666666666,
              "#ed7953"
             ],
             [
              0.7777777777777778,
              "#fb9f3a"
             ],
             [
              0.8888888888888888,
              "#fdca26"
             ],
             [
              1,
              "#f0f921"
             ]
            ],
            "type": "histogram2dcontour"
           }
          ],
          "mesh3d": [
           {
            "colorbar": {
             "outlinewidth": 0,
             "ticks": ""
            },
            "type": "mesh3d"
           }
          ],
          "parcoords": [
           {
            "line": {
             "colorbar": {
              "outlinewidth": 0,
              "ticks": ""
             }
            },
            "type": "parcoords"
           }
          ],
          "pie": [
           {
            "automargin": true,
            "type": "pie"
           }
          ],
          "scatter": [
           {
            "marker": {
             "colorbar": {
              "outlinewidth": 0,
              "ticks": ""
             }
            },
            "type": "scatter"
           }
          ],
          "scatter3d": [
           {
            "line": {
             "colorbar": {
              "outlinewidth": 0,
              "ticks": ""
             }
            },
            "marker": {
             "colorbar": {
              "outlinewidth": 0,
              "ticks": ""
             }
            },
            "type": "scatter3d"
           }
          ],
          "scattercarpet": [
           {
            "marker": {
             "colorbar": {
              "outlinewidth": 0,
              "ticks": ""
             }
            },
            "type": "scattercarpet"
           }
          ],
          "scattergeo": [
           {
            "marker": {
             "colorbar": {
              "outlinewidth": 0,
              "ticks": ""
             }
            },
            "type": "scattergeo"
           }
          ],
          "scattergl": [
           {
            "marker": {
             "colorbar": {
              "outlinewidth": 0,
              "ticks": ""
             }
            },
            "type": "scattergl"
           }
          ],
          "scattermapbox": [
           {
            "marker": {
             "colorbar": {
              "outlinewidth": 0,
              "ticks": ""
             }
            },
            "type": "scattermapbox"
           }
          ],
          "scatterpolar": [
           {
            "marker": {
             "colorbar": {
              "outlinewidth": 0,
              "ticks": ""
             }
            },
            "type": "scatterpolar"
           }
          ],
          "scatterpolargl": [
           {
            "marker": {
             "colorbar": {
              "outlinewidth": 0,
              "ticks": ""
             }
            },
            "type": "scatterpolargl"
           }
          ],
          "scatterternary": [
           {
            "marker": {
             "colorbar": {
              "outlinewidth": 0,
              "ticks": ""
             }
            },
            "type": "scatterternary"
           }
          ],
          "surface": [
           {
            "colorbar": {
             "outlinewidth": 0,
             "ticks": ""
            },
            "colorscale": [
             [
              0,
              "#0d0887"
             ],
             [
              0.1111111111111111,
              "#46039f"
             ],
             [
              0.2222222222222222,
              "#7201a8"
             ],
             [
              0.3333333333333333,
              "#9c179e"
             ],
             [
              0.4444444444444444,
              "#bd3786"
             ],
             [
              0.5555555555555556,
              "#d8576b"
             ],
             [
              0.6666666666666666,
              "#ed7953"
             ],
             [
              0.7777777777777778,
              "#fb9f3a"
             ],
             [
              0.8888888888888888,
              "#fdca26"
             ],
             [
              1,
              "#f0f921"
             ]
            ],
            "type": "surface"
           }
          ],
          "table": [
           {
            "cells": {
             "fill": {
              "color": "#EBF0F8"
             },
             "line": {
              "color": "white"
             }
            },
            "header": {
             "fill": {
              "color": "#C8D4E3"
             },
             "line": {
              "color": "white"
             }
            },
            "type": "table"
           }
          ]
         },
         "layout": {
          "annotationdefaults": {
           "arrowcolor": "#2a3f5f",
           "arrowhead": 0,
           "arrowwidth": 1
          },
          "autotypenumbers": "strict",
          "coloraxis": {
           "colorbar": {
            "outlinewidth": 0,
            "ticks": ""
           }
          },
          "colorscale": {
           "diverging": [
            [
             0,
             "#8e0152"
            ],
            [
             0.1,
             "#c51b7d"
            ],
            [
             0.2,
             "#de77ae"
            ],
            [
             0.3,
             "#f1b6da"
            ],
            [
             0.4,
             "#fde0ef"
            ],
            [
             0.5,
             "#f7f7f7"
            ],
            [
             0.6,
             "#e6f5d0"
            ],
            [
             0.7,
             "#b8e186"
            ],
            [
             0.8,
             "#7fbc41"
            ],
            [
             0.9,
             "#4d9221"
            ],
            [
             1,
             "#276419"
            ]
           ],
           "sequential": [
            [
             0,
             "#0d0887"
            ],
            [
             0.1111111111111111,
             "#46039f"
            ],
            [
             0.2222222222222222,
             "#7201a8"
            ],
            [
             0.3333333333333333,
             "#9c179e"
            ],
            [
             0.4444444444444444,
             "#bd3786"
            ],
            [
             0.5555555555555556,
             "#d8576b"
            ],
            [
             0.6666666666666666,
             "#ed7953"
            ],
            [
             0.7777777777777778,
             "#fb9f3a"
            ],
            [
             0.8888888888888888,
             "#fdca26"
            ],
            [
             1,
             "#f0f921"
            ]
           ],
           "sequentialminus": [
            [
             0,
             "#0d0887"
            ],
            [
             0.1111111111111111,
             "#46039f"
            ],
            [
             0.2222222222222222,
             "#7201a8"
            ],
            [
             0.3333333333333333,
             "#9c179e"
            ],
            [
             0.4444444444444444,
             "#bd3786"
            ],
            [
             0.5555555555555556,
             "#d8576b"
            ],
            [
             0.6666666666666666,
             "#ed7953"
            ],
            [
             0.7777777777777778,
             "#fb9f3a"
            ],
            [
             0.8888888888888888,
             "#fdca26"
            ],
            [
             1,
             "#f0f921"
            ]
           ]
          },
          "colorway": [
           "#636efa",
           "#EF553B",
           "#00cc96",
           "#ab63fa",
           "#FFA15A",
           "#19d3f3",
           "#FF6692",
           "#B6E880",
           "#FF97FF",
           "#FECB52"
          ],
          "font": {
           "color": "#2a3f5f"
          },
          "geo": {
           "bgcolor": "white",
           "lakecolor": "white",
           "landcolor": "#E5ECF6",
           "showlakes": true,
           "showland": true,
           "subunitcolor": "white"
          },
          "hoverlabel": {
           "align": "left"
          },
          "hovermode": "closest",
          "mapbox": {
           "style": "light"
          },
          "paper_bgcolor": "white",
          "plot_bgcolor": "#E5ECF6",
          "polar": {
           "angularaxis": {
            "gridcolor": "white",
            "linecolor": "white",
            "ticks": ""
           },
           "bgcolor": "#E5ECF6",
           "radialaxis": {
            "gridcolor": "white",
            "linecolor": "white",
            "ticks": ""
           }
          },
          "scene": {
           "xaxis": {
            "backgroundcolor": "#E5ECF6",
            "gridcolor": "white",
            "gridwidth": 2,
            "linecolor": "white",
            "showbackground": true,
            "ticks": "",
            "zerolinecolor": "white"
           },
           "yaxis": {
            "backgroundcolor": "#E5ECF6",
            "gridcolor": "white",
            "gridwidth": 2,
            "linecolor": "white",
            "showbackground": true,
            "ticks": "",
            "zerolinecolor": "white"
           },
           "zaxis": {
            "backgroundcolor": "#E5ECF6",
            "gridcolor": "white",
            "gridwidth": 2,
            "linecolor": "white",
            "showbackground": true,
            "ticks": "",
            "zerolinecolor": "white"
           }
          },
          "shapedefaults": {
           "line": {
            "color": "#2a3f5f"
           }
          },
          "ternary": {
           "aaxis": {
            "gridcolor": "white",
            "linecolor": "white",
            "ticks": ""
           },
           "baxis": {
            "gridcolor": "white",
            "linecolor": "white",
            "ticks": ""
           },
           "bgcolor": "#E5ECF6",
           "caxis": {
            "gridcolor": "white",
            "linecolor": "white",
            "ticks": ""
           }
          },
          "title": {
           "x": 0.05
          },
          "xaxis": {
           "automargin": true,
           "gridcolor": "white",
           "linecolor": "white",
           "ticks": "",
           "title": {
            "standoff": 15
           },
           "zerolinecolor": "white",
           "zerolinewidth": 2
          },
          "yaxis": {
           "automargin": true,
           "gridcolor": "white",
           "linecolor": "white",
           "ticks": "",
           "title": {
            "standoff": 15
           },
           "zerolinecolor": "white",
           "zerolinewidth": 2
          }
         }
        },
        "title": {
         "text": "KFold Label Distribution",
         "x": 0.5
        }
       }
      },
      "text/html": [
       "<div>                            <div id=\"73862648-2f61-4623-b962-7cc124d44618\" class=\"plotly-graph-div\" style=\"height:525px; width:100%;\"></div>            <script type=\"text/javascript\">                require([\"plotly\"], function(Plotly) {                    window.PLOTLYENV=window.PLOTLYENV || {};                                    if (document.getElementById(\"73862648-2f61-4623-b962-7cc124d44618\")) {                    Plotly.newPlot(                        \"73862648-2f61-4623-b962-7cc124d44618\",                        [{\"marker\":{\"color\":\"rgb(20, 20, 20)\"},\"name\":\"fold_P041,P050,P060\",\"x\":[\"background\",\"heart\",\"lung\",\"liver\",\"colon\",\"small_bowel\",\"stomach\",\"spleen\",\"gallbladder\",\"bladder\",\"omentum\",\"peritoneum\",\"skin\",\"fat\",\"pancreas\",\"muscle\",\"kidney\",\"major_vein\",\"kidney_with_Gerotas_fascia\"],\"y\":[2,1,1,3,3,3,3,3,2,2,3,3,3,3,1,1,1,1],\"type\":\"bar\"},{\"marker\":{\"color\":\"rgb(80, 80, 80)\"},\"name\":\"fold_P044,P048,P059\",\"x\":[\"background\",\"heart\",\"lung\",\"liver\",\"colon\",\"small_bowel\",\"stomach\",\"spleen\",\"gallbladder\",\"bladder\",\"omentum\",\"peritoneum\",\"skin\",\"fat\",\"pancreas\",\"muscle\",\"kidney\",\"major_vein\",\"kidney_with_Gerotas_fascia\"],\"y\":[1,1,1,3,3,3,3,3,2,2,2,3,3,2,1,1,1,1,1],\"type\":\"bar\"},{\"marker\":{\"color\":\"rgb(120, 120, 120)\"},\"name\":\"fold_P045,P061,P071\",\"x\":[\"background\",\"heart\",\"lung\",\"liver\",\"colon\",\"small_bowel\",\"stomach\",\"spleen\",\"gallbladder\",\"bladder\",\"omentum\",\"peritoneum\",\"skin\",\"fat\",\"pancreas\",\"muscle\",\"kidney\",\"major_vein\",\"kidney_with_Gerotas_fascia\"],\"y\":[2,1,1,3,3,3,3,3,1,2,3,3,3,3,2,1,1],\"type\":\"bar\"},{\"marker\":{\"color\":\"rgb(160, 160, 160)\"},\"name\":\"fold_P047,P058,P069\",\"x\":[\"background\",\"heart\",\"lung\",\"liver\",\"colon\",\"small_bowel\",\"stomach\",\"spleen\",\"gallbladder\",\"bladder\",\"omentum\",\"peritoneum\",\"skin\",\"fat\",\"pancreas\",\"muscle\",\"kidney\",\"major_vein\",\"kidney_with_Gerotas_fascia\"],\"y\":[1,1,1,3,3,3,3,3,2,1,3,3,3,3,1,1,1,1],\"type\":\"bar\"},{\"marker\":{\"color\":\"rgb(200, 200, 200)\"},\"name\":\"fold_P049,P057,P070\",\"x\":[\"background\",\"heart\",\"lung\",\"liver\",\"colon\",\"small_bowel\",\"stomach\",\"spleen\",\"gallbladder\",\"bladder\",\"omentum\",\"peritoneum\",\"skin\",\"fat\",\"pancreas\",\"muscle\",\"kidney\",\"major_vein\",\"kidney_with_Gerotas_fascia\"],\"y\":[2,1,1,3,3,3,3,3,2,2,2,3,3,3,2,1],\"type\":\"bar\"}],                        {\"template\":{\"data\":{\"bar\":[{\"error_x\":{\"color\":\"#2a3f5f\"},\"error_y\":{\"color\":\"#2a3f5f\"},\"marker\":{\"line\":{\"color\":\"#E5ECF6\",\"width\":0.5},\"pattern\":{\"fillmode\":\"overlay\",\"size\":10,\"solidity\":0.2}},\"type\":\"bar\"}],\"barpolar\":[{\"marker\":{\"line\":{\"color\":\"#E5ECF6\",\"width\":0.5},\"pattern\":{\"fillmode\":\"overlay\",\"size\":10,\"solidity\":0.2}},\"type\":\"barpolar\"}],\"carpet\":[{\"aaxis\":{\"endlinecolor\":\"#2a3f5f\",\"gridcolor\":\"white\",\"linecolor\":\"white\",\"minorgridcolor\":\"white\",\"startlinecolor\":\"#2a3f5f\"},\"baxis\":{\"endlinecolor\":\"#2a3f5f\",\"gridcolor\":\"white\",\"linecolor\":\"white\",\"minorgridcolor\":\"white\",\"startlinecolor\":\"#2a3f5f\"},\"type\":\"carpet\"}],\"choropleth\":[{\"colorbar\":{\"outlinewidth\":0,\"ticks\":\"\"},\"type\":\"choropleth\"}],\"contour\":[{\"colorbar\":{\"outlinewidth\":0,\"ticks\":\"\"},\"colorscale\":[[0.0,\"#0d0887\"],[0.1111111111111111,\"#46039f\"],[0.2222222222222222,\"#7201a8\"],[0.3333333333333333,\"#9c179e\"],[0.4444444444444444,\"#bd3786\"],[0.5555555555555556,\"#d8576b\"],[0.6666666666666666,\"#ed7953\"],[0.7777777777777778,\"#fb9f3a\"],[0.8888888888888888,\"#fdca26\"],[1.0,\"#f0f921\"]],\"type\":\"contour\"}],\"contourcarpet\":[{\"colorbar\":{\"outlinewidth\":0,\"ticks\":\"\"},\"type\":\"contourcarpet\"}],\"heatmap\":[{\"colorbar\":{\"outlinewidth\":0,\"ticks\":\"\"},\"colorscale\":[[0.0,\"#0d0887\"],[0.1111111111111111,\"#46039f\"],[0.2222222222222222,\"#7201a8\"],[0.3333333333333333,\"#9c179e\"],[0.4444444444444444,\"#bd3786\"],[0.5555555555555556,\"#d8576b\"],[0.6666666666666666,\"#ed7953\"],[0.7777777777777778,\"#fb9f3a\"],[0.8888888888888888,\"#fdca26\"],[1.0,\"#f0f921\"]],\"type\":\"heatmap\"}],\"heatmapgl\":[{\"colorbar\":{\"outlinewidth\":0,\"ticks\":\"\"},\"colorscale\":[[0.0,\"#0d0887\"],[0.1111111111111111,\"#46039f\"],[0.2222222222222222,\"#7201a8\"],[0.3333333333333333,\"#9c179e\"],[0.4444444444444444,\"#bd3786\"],[0.5555555555555556,\"#d8576b\"],[0.6666666666666666,\"#ed7953\"],[0.7777777777777778,\"#fb9f3a\"],[0.8888888888888888,\"#fdca26\"],[1.0,\"#f0f921\"]],\"type\":\"heatmapgl\"}],\"histogram\":[{\"marker\":{\"pattern\":{\"fillmode\":\"overlay\",\"size\":10,\"solidity\":0.2}},\"type\":\"histogram\"}],\"histogram2d\":[{\"colorbar\":{\"outlinewidth\":0,\"ticks\":\"\"},\"colorscale\":[[0.0,\"#0d0887\"],[0.1111111111111111,\"#46039f\"],[0.2222222222222222,\"#7201a8\"],[0.3333333333333333,\"#9c179e\"],[0.4444444444444444,\"#bd3786\"],[0.5555555555555556,\"#d8576b\"],[0.6666666666666666,\"#ed7953\"],[0.7777777777777778,\"#fb9f3a\"],[0.8888888888888888,\"#fdca26\"],[1.0,\"#f0f921\"]],\"type\":\"histogram2d\"}],\"histogram2dcontour\":[{\"colorbar\":{\"outlinewidth\":0,\"ticks\":\"\"},\"colorscale\":[[0.0,\"#0d0887\"],[0.1111111111111111,\"#46039f\"],[0.2222222222222222,\"#7201a8\"],[0.3333333333333333,\"#9c179e\"],[0.4444444444444444,\"#bd3786\"],[0.5555555555555556,\"#d8576b\"],[0.6666666666666666,\"#ed7953\"],[0.7777777777777778,\"#fb9f3a\"],[0.8888888888888888,\"#fdca26\"],[1.0,\"#f0f921\"]],\"type\":\"histogram2dcontour\"}],\"mesh3d\":[{\"colorbar\":{\"outlinewidth\":0,\"ticks\":\"\"},\"type\":\"mesh3d\"}],\"parcoords\":[{\"line\":{\"colorbar\":{\"outlinewidth\":0,\"ticks\":\"\"}},\"type\":\"parcoords\"}],\"pie\":[{\"automargin\":true,\"type\":\"pie\"}],\"scatter\":[{\"marker\":{\"colorbar\":{\"outlinewidth\":0,\"ticks\":\"\"}},\"type\":\"scatter\"}],\"scatter3d\":[{\"line\":{\"colorbar\":{\"outlinewidth\":0,\"ticks\":\"\"}},\"marker\":{\"colorbar\":{\"outlinewidth\":0,\"ticks\":\"\"}},\"type\":\"scatter3d\"}],\"scattercarpet\":[{\"marker\":{\"colorbar\":{\"outlinewidth\":0,\"ticks\":\"\"}},\"type\":\"scattercarpet\"}],\"scattergeo\":[{\"marker\":{\"colorbar\":{\"outlinewidth\":0,\"ticks\":\"\"}},\"type\":\"scattergeo\"}],\"scattergl\":[{\"marker\":{\"colorbar\":{\"outlinewidth\":0,\"ticks\":\"\"}},\"type\":\"scattergl\"}],\"scattermapbox\":[{\"marker\":{\"colorbar\":{\"outlinewidth\":0,\"ticks\":\"\"}},\"type\":\"scattermapbox\"}],\"scatterpolar\":[{\"marker\":{\"colorbar\":{\"outlinewidth\":0,\"ticks\":\"\"}},\"type\":\"scatterpolar\"}],\"scatterpolargl\":[{\"marker\":{\"colorbar\":{\"outlinewidth\":0,\"ticks\":\"\"}},\"type\":\"scatterpolargl\"}],\"scatterternary\":[{\"marker\":{\"colorbar\":{\"outlinewidth\":0,\"ticks\":\"\"}},\"type\":\"scatterternary\"}],\"surface\":[{\"colorbar\":{\"outlinewidth\":0,\"ticks\":\"\"},\"colorscale\":[[0.0,\"#0d0887\"],[0.1111111111111111,\"#46039f\"],[0.2222222222222222,\"#7201a8\"],[0.3333333333333333,\"#9c179e\"],[0.4444444444444444,\"#bd3786\"],[0.5555555555555556,\"#d8576b\"],[0.6666666666666666,\"#ed7953\"],[0.7777777777777778,\"#fb9f3a\"],[0.8888888888888888,\"#fdca26\"],[1.0,\"#f0f921\"]],\"type\":\"surface\"}],\"table\":[{\"cells\":{\"fill\":{\"color\":\"#EBF0F8\"},\"line\":{\"color\":\"white\"}},\"header\":{\"fill\":{\"color\":\"#C8D4E3\"},\"line\":{\"color\":\"white\"}},\"type\":\"table\"}]},\"layout\":{\"annotationdefaults\":{\"arrowcolor\":\"#2a3f5f\",\"arrowhead\":0,\"arrowwidth\":1},\"autotypenumbers\":\"strict\",\"coloraxis\":{\"colorbar\":{\"outlinewidth\":0,\"ticks\":\"\"}},\"colorscale\":{\"diverging\":[[0,\"#8e0152\"],[0.1,\"#c51b7d\"],[0.2,\"#de77ae\"],[0.3,\"#f1b6da\"],[0.4,\"#fde0ef\"],[0.5,\"#f7f7f7\"],[0.6,\"#e6f5d0\"],[0.7,\"#b8e186\"],[0.8,\"#7fbc41\"],[0.9,\"#4d9221\"],[1,\"#276419\"]],\"sequential\":[[0.0,\"#0d0887\"],[0.1111111111111111,\"#46039f\"],[0.2222222222222222,\"#7201a8\"],[0.3333333333333333,\"#9c179e\"],[0.4444444444444444,\"#bd3786\"],[0.5555555555555556,\"#d8576b\"],[0.6666666666666666,\"#ed7953\"],[0.7777777777777778,\"#fb9f3a\"],[0.8888888888888888,\"#fdca26\"],[1.0,\"#f0f921\"]],\"sequentialminus\":[[0.0,\"#0d0887\"],[0.1111111111111111,\"#46039f\"],[0.2222222222222222,\"#7201a8\"],[0.3333333333333333,\"#9c179e\"],[0.4444444444444444,\"#bd3786\"],[0.5555555555555556,\"#d8576b\"],[0.6666666666666666,\"#ed7953\"],[0.7777777777777778,\"#fb9f3a\"],[0.8888888888888888,\"#fdca26\"],[1.0,\"#f0f921\"]]},\"colorway\":[\"#636efa\",\"#EF553B\",\"#00cc96\",\"#ab63fa\",\"#FFA15A\",\"#19d3f3\",\"#FF6692\",\"#B6E880\",\"#FF97FF\",\"#FECB52\"],\"font\":{\"color\":\"#2a3f5f\"},\"geo\":{\"bgcolor\":\"white\",\"lakecolor\":\"white\",\"landcolor\":\"#E5ECF6\",\"showlakes\":true,\"showland\":true,\"subunitcolor\":\"white\"},\"hoverlabel\":{\"align\":\"left\"},\"hovermode\":\"closest\",\"mapbox\":{\"style\":\"light\"},\"paper_bgcolor\":\"white\",\"plot_bgcolor\":\"#E5ECF6\",\"polar\":{\"angularaxis\":{\"gridcolor\":\"white\",\"linecolor\":\"white\",\"ticks\":\"\"},\"bgcolor\":\"#E5ECF6\",\"radialaxis\":{\"gridcolor\":\"white\",\"linecolor\":\"white\",\"ticks\":\"\"}},\"scene\":{\"xaxis\":{\"backgroundcolor\":\"#E5ECF6\",\"gridcolor\":\"white\",\"gridwidth\":2,\"linecolor\":\"white\",\"showbackground\":true,\"ticks\":\"\",\"zerolinecolor\":\"white\"},\"yaxis\":{\"backgroundcolor\":\"#E5ECF6\",\"gridcolor\":\"white\",\"gridwidth\":2,\"linecolor\":\"white\",\"showbackground\":true,\"ticks\":\"\",\"zerolinecolor\":\"white\"},\"zaxis\":{\"backgroundcolor\":\"#E5ECF6\",\"gridcolor\":\"white\",\"gridwidth\":2,\"linecolor\":\"white\",\"showbackground\":true,\"ticks\":\"\",\"zerolinecolor\":\"white\"}},\"shapedefaults\":{\"line\":{\"color\":\"#2a3f5f\"}},\"ternary\":{\"aaxis\":{\"gridcolor\":\"white\",\"linecolor\":\"white\",\"ticks\":\"\"},\"baxis\":{\"gridcolor\":\"white\",\"linecolor\":\"white\",\"ticks\":\"\"},\"bgcolor\":\"#E5ECF6\",\"caxis\":{\"gridcolor\":\"white\",\"linecolor\":\"white\",\"ticks\":\"\"}},\"title\":{\"x\":0.05},\"xaxis\":{\"automargin\":true,\"gridcolor\":\"white\",\"linecolor\":\"white\",\"ticks\":\"\",\"title\":{\"standoff\":15},\"zerolinecolor\":\"white\",\"zerolinewidth\":2},\"yaxis\":{\"automargin\":true,\"gridcolor\":\"white\",\"linecolor\":\"white\",\"ticks\":\"\",\"title\":{\"standoff\":15},\"zerolinecolor\":\"white\",\"zerolinewidth\":2}}},\"title\":{\"x\":0.5,\"text\":\"KFold Label Distribution\"}},                        {\"responsive\": true}                    ).then(function(){\n",
       "                            \n",
       "var gd = document.getElementById('73862648-2f61-4623-b962-7cc124d44618');\n",
       "var x = new MutationObserver(function (mutations, observer) {{\n",
       "        var display = window.getComputedStyle(gd).display;\n",
       "        if (!display || display === 'none') {{\n",
       "            console.log([gd, 'removed!']);\n",
       "            Plotly.purge(gd);\n",
       "            observer.disconnect();\n",
       "        }}\n",
       "}});\n",
       "\n",
       "// Listen for the removal of the full notebook cells\n",
       "var notebookContainer = gd.closest('#notebook-container');\n",
       "if (notebookContainer) {{\n",
       "    x.observe(notebookContainer, {childList: true});\n",
       "}}\n",
       "\n",
       "// Listen for the clearing of the current output cell\n",
       "var outputEl = gd.closest('.output');\n",
       "if (outputEl) {{\n",
       "    x.observe(outputEl, {childList: true});\n",
       "}}\n",
       "\n",
       "                        })                };                });            </script>        </div>"
      ]
     },
     "metadata": {},
     "output_type": "display_data"
    }
   ],
   "source": [
    "fig = go.Figure()\n",
    "colors = [\"rgb(20, 20, 20)\", \"rgb(80, 80, 80)\", \"rgb(120, 120, 120)\", \"rgb(160, 160, 160)\", \"rgb(200, 200, 200)\"]\n",
    "\n",
    "for color, split in zip(colors, df_folds_best.iloc[0][\"splits\"]):\n",
    "    df_test = df.query(\"pig_index in @split\")\n",
    "    values = df_test.groupby(\"label_index\")[\"subject_name\"].nunique().values\n",
    "    fold_name = \"fold_\" + \",\".join(df_test[\"subject_name\"].unique().tolist())\n",
    "    fig.add_trace(go.Bar(x=settings_seg.labels, y=values, marker_color=color, name=fold_name))\n",
    "\n",
    "fig.update_layout(title_x=0.5, title_text=\"KFold Label Distribution\")\n",
    "fig.show()"
   ]
  },
  {
   "cell_type": "markdown",
   "id": "ebc09f4e",
   "metadata": {},
   "source": [
    "## Existing validation folds\n",
    "The best fold from above does not match with the existing fold because this notebook has not been updated after the new dataset. However, the existing fold still matches the criterion of maximal number of organs across folds (88 of 90)."
   ]
  },
  {
   "cell_type": "code",
   "execution_count": 13,
   "id": "fe72f4cc-c9f2-4654-ac56-282986d05690",
   "metadata": {},
   "outputs": [
    {
     "data": {
      "text/plain": [
       "splits          [[0, 10, 12], [1, 6, 9], [2, 11, 14], [3, 5, 1...\n",
       "std_pigs                                                 4.419619\n",
       "n_labels_std                                             1.019804\n",
       "std_images                                              88.570138\n",
       "n_pigs                                                        188\n",
       "Name: 1744, dtype: object"
      ]
     },
     "execution_count": 13,
     "metadata": {},
     "output_type": "execute_result"
    }
   ],
   "source": [
    "from htc.models.data.run_pig_dataset import folds_pigs\n",
    "\n",
    "existing_id = None\n",
    "for i in range(len(df_folds_best)):\n",
    "    val_pigs = [[pigs[s] for s in split] for split in df_folds_best.iloc[i][\"splits\"]]\n",
    "    if val_pigs == folds_pigs:\n",
    "        existing_id = i\n",
    "        break\n",
    "\n",
    "assert existing_id is not None\n",
    "df_folds_best.iloc[existing_id]"
   ]
  }
 ],
 "metadata": {
  "kernelspec": {
   "display_name": "Python 3.9.12 ('htc')",
   "language": "python",
   "name": "python3"
  },
  "language_info": {
   "codemirror_mode": {
    "name": "ipython",
    "version": 3
   },
   "file_extension": ".py",
   "mimetype": "text/x-python",
   "name": "python",
   "nbconvert_exporter": "python",
   "pygments_lexer": "ipython3",
   "version": "3.10.6"
  },
  "vscode": {
   "interpreter": {
    "hash": "61170b39e877780504190538137489184be539aab65d19cb093e9e0273d7e14b"
   }
  }
 },
 "nbformat": 4,
 "nbformat_minor": 5
}
