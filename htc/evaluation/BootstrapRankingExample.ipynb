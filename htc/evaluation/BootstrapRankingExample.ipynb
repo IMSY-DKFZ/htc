{
 "cells": [
  {
   "cell_type": "markdown",
   "id": "b696e0b6-58b6-42b4-954e-104279351fd4",
   "metadata": {},
   "source": [
    "# Bootstrap Ranking Example"
   ]
  },
  {
   "cell_type": "code",
   "execution_count": 1,
   "id": "fa739808-cdc0-4dcf-a263-cc8ff3cbb50a",
   "metadata": {
    "tags": []
   },
   "outputs": [],
   "source": [
    "%load_ext autoreload\n",
    "%autoreload 2\n",
    "\n",
    "from pathlib import Path\n",
    "\n",
    "import matplotlib.pyplot as plt\n",
    "import numpy as np\n",
    "import pandas as pd\n",
    "import seaborn as sns\n",
    "from matplotlib import ticker\n",
    "from matplotlib.lines import Line2D\n",
    "\n",
    "from htc.evaluation.ranking import BootstrapRanking\n",
    "from htc.models.common.MetricAggregation import MetricAggregation\n",
    "from htc.settings import settings\n",
    "from htc.utils.Config import Config"
   ]
  },
  {
   "cell_type": "markdown",
   "id": "ce6947cc-9a3f-4b64-b0e8-531e779902bc",
   "metadata": {},
   "source": [
    "## Select runs to compare\n",
    "Algorithm comparison based on bootstraping similar to [challengeR](https://github.com/wiesenfa/challengeR). In our case, one algorithm is usually one training run."
   ]
  },
  {
   "cell_type": "code",
   "execution_count": 2,
   "id": "bc81988b-ddb8-48ee-b81e-338e3345d164",
   "metadata": {
    "tags": []
   },
   "outputs": [],
   "source": [
    "def load_data(run_dir: Path, name: str) -> pd.DataFrame:\n",
    "    config = Config(run_dir / \"config.json\")\n",
    "    df = pd.read_pickle(run_dir / \"test_table.pkl.xz\")\n",
    "    df = MetricAggregation(df, config=config).grouped_metrics()\n",
    "    df[\"run_folder\"] = name\n",
    "\n",
    "    return df\n",
    "\n",
    "\n",
    "run_dir1 = settings.training_dir / \"image\" / \"2022-02-15_20-00-11_generated_default_seed=0\"\n",
    "run_dir2 = settings.training_dir / \"image\" / \"2022-02-15_20-00-11_generated_default_seed=1\"\n",
    "df = pd.concat([load_data(run_dir1, \"seed=0\"), load_data(run_dir2, \"seed=1\")])\n",
    "\n",
    "ranking = BootstrapRanking(df, algorithm=\"run_folder\", case=\"label_name\", value=\"dice_metric\", task=None)"
   ]
  },
  {
   "cell_type": "code",
   "execution_count": 3,
   "id": "fae4950b",
   "metadata": {},
   "outputs": [
    {
     "data": {
      "text/plain": [
       "<htc.evaluation.ranking.BootstrapRanking at 0x7f433a82e0b0>"
      ]
     },
     "execution_count": 3,
     "metadata": {},
     "output_type": "execute_result"
    }
   ],
   "source": [
    "ranking"
   ]
  },
  {
   "cell_type": "markdown",
   "id": "64978d70-824d-4b1a-b5fe-496732874ae7",
   "metadata": {},
   "source": [
    "## Bubble plot\n",
    "Note: The plot code below may not work for all cases yet, so you need to adjust it to your case."
   ]
  },
  {
   "cell_type": "code",
   "execution_count": 4,
   "id": "21baecde-7ffa-4209-88cd-9036a9f8943a",
   "metadata": {
    "tags": []
   },
   "outputs": [
    {
     "data": {
      "image/png": "[encoded data removed]",
      "text/plain": [
       "<Figure size 200x300 with 1 Axes>"
      ]
     },
     "metadata": {},
     "output_type": "display_data"
    }
   ],
   "source": [
    "fig, ax = plt.subplots(1, 1, figsize=(2, 3), constrained_layout=True)\n",
    "\n",
    "# Scatter plot\n",
    "alg_order = list(ranking.statistics.algorithm.values)  # determine ordering\n",
    "alg_positions = list(range(len(alg_order)))\n",
    "df_counts = ranking.counts.sort_values(by=\"algorithm\", key=lambda column: column.map(lambda e: alg_order.index(e)))\n",
    "base_scaling = 500\n",
    "sns.scatterplot(\n",
    "    df_counts,\n",
    "    x=\"algorithm\",\n",
    "    y=\"rank\",\n",
    "    hue=\"algorithm\",\n",
    "    size=\"count\",\n",
    "    sizes={x: base_scaling * x / df_counts[\"count\"].max() for x in df_counts[\"count\"]},\n",
    "    ax=ax,\n",
    ")\n",
    "\n",
    "# Confidence intervals, median and mean rank\n",
    "for _, series in ranking.statistics.iterrows():\n",
    "    ax.vlines(alg_order.index(series[\"algorithm\"]), series[\"min_CI\"], series[\"max_CI\"], colors=\"black\", alpha=0.5)\n",
    "    ax.scatter(\n",
    "        alg_order.index(series[\"algorithm\"]), series[\"median_rank\"], marker=\"x\", s=0.8 * base_scaling, color=\"black\"\n",
    "    )\n",
    "    ax.scatter(\n",
    "        alg_order.index(series[\"algorithm\"]),\n",
    "        series[\"mean_rank\"],\n",
    "        marker=\"D\",\n",
    "        s=0.1 * base_scaling,\n",
    "        color=\"gray\",\n",
    "        alpha=0.7,\n",
    "    )\n",
    "\n",
    "# Formatting\n",
    "ax.xaxis.set_major_locator(ticker.FixedLocator(alg_positions))\n",
    "ax.set_xticklabels(alg_order, rotation=90)\n",
    "ax.get_legend().set_visible(False)\n",
    "ax.set_yticks(list(range(1, len(alg_order) + 1)))\n",
    "ax.set_ylim([0.8, len(alg_order) + 0.2])\n",
    "ax.set_xlim([-0.5, len(alg_order) - 0.5])\n",
    "\n",
    "#  Bubble legend\n",
    "bubble_handles = []\n",
    "for p in [0.25, 0.5, 0.75, 1]:\n",
    "    bubble_handles.append(\n",
    "        Line2D(\n",
    "            [0],\n",
    "            [0],\n",
    "            marker=\"o\",\n",
    "            color=\"black\",\n",
    "            label=f\"{p * 100:.0f} %\",\n",
    "            # scatter size = markersize**2 (https://stackoverflow.com/a/47403507)\n",
    "            markersize=p * np.sqrt(500),\n",
    "            linewidth=0,\n",
    "        )\n",
    "    )\n",
    "\n",
    "plt.figlegend(\n",
    "    handles=bubble_handles,\n",
    "    loc=\"upper center\",\n",
    "    borderaxespad=0.8,\n",
    "    ncol=5,\n",
    "    labelspacing=0.0,\n",
    "    prop={\"size\": 10},\n",
    "    bbox_to_anchor=(0.60, 1.16),\n",
    "    borderpad=0.8,\n",
    "    markerscale=1,\n",
    ")\n",
    "\n",
    "# Icon legend\n",
    "legend_elements = [\n",
    "    Line2D(\n",
    "        [0],\n",
    "        [0],\n",
    "        marker=\"x\",\n",
    "        color=\"black\",\n",
    "        label=\"median rank\",\n",
    "        markerfacecolor=\"black\",\n",
    "        markersize=10,\n",
    "        linewidth=0,\n",
    "    ),\n",
    "    Line2D(\n",
    "        [0],\n",
    "        [0],\n",
    "        marker=\"D\",\n",
    "        color=\"gray\",\n",
    "        label=\"mean rank\",\n",
    "        markerfacecolor=\"gray\",\n",
    "        markersize=10,\n",
    "        linewidth=0,\n",
    "        alpha=0.7,\n",
    "    ),\n",
    "    Line2D(\n",
    "        [0],\n",
    "        [0],\n",
    "        marker=\"|\",\n",
    "        color=\"black\",\n",
    "        linestyle=\"None\",\n",
    "        label=\"95 % confidence interval\",\n",
    "        markerfacecolor=\"gray\",\n",
    "        markersize=12,\n",
    "        linewidth=12,\n",
    "        alpha=0.5,\n",
    "    ),\n",
    "]\n",
    "\n",
    "plt.figlegend(\n",
    "    handles=legend_elements,\n",
    "    loc=\"upper center\",\n",
    "    borderaxespad=0.7,\n",
    "    ncol=3,\n",
    "    labelspacing=0.0,\n",
    "    prop={\"size\": 10},\n",
    "    bbox_to_anchor=(0.67, 1.28),\n",
    "    borderpad=0.7,\n",
    ");"
   ]
  }
 ],
 "metadata": {
  "kernelspec": {
   "display_name": "Python 3 (ipykernel)",
   "language": "python",
   "name": "python3"
  },
  "language_info": {
   "codemirror_mode": {
    "name": "ipython",
    "version": 3
   },
   "file_extension": ".py",
   "mimetype": "text/x-python",
   "name": "python",
   "nbconvert_exporter": "python",
   "pygments_lexer": "ipython3",
   "version": "3.10.10"
  }
 },
 "nbformat": 4,
 "nbformat_minor": 5
}
