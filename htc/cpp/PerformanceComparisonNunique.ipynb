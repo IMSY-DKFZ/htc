{
 "cells": [
  {
   "cell_type": "markdown",
   "id": "26bf8bca-6ceb-4df1-bff4-852814037fe5",
   "metadata": {},
   "source": [
    "# Performance Comparison nunique"
   ]
  },
  {
   "cell_type": "code",
   "execution_count": 1,
   "id": "abe054fe-478c-4939-8207-ebc5f7b17705",
   "metadata": {},
   "outputs": [],
   "source": [
    "import torch\n",
    "from torch.utils.cpp_extension import load_inline\n",
    "\n",
    "from htc.cpp import nunique"
   ]
  },
  {
   "cell_type": "code",
   "execution_count": 2,
   "id": "3166c7ae-3a51-482a-9478-868bf3e4d222",
   "metadata": {},
   "outputs": [],
   "source": [
    "def with_python(inp: torch.Tensor, dim: int):\n",
    "    inp_last = inp.unsqueeze(-1).transpose(dim, -1).squeeze(dim)\n",
    "    out = torch.empty(inp_last.shape[:-1], dtype=torch.int64)\n",
    "\n",
    "    for i in range(inp_last.size(0)):\n",
    "        for j in range(inp_last.size(1)):\n",
    "            n_unique = len(inp_last[i, j].unique(return_counts=True)[1])\n",
    "            out[i, j] = n_unique\n",
    "\n",
    "    return out"
   ]
  },
  {
   "cell_type": "code",
   "execution_count": 3,
   "id": "498be7bb-da3b-445a-8e9d-4c1fa952dd79",
   "metadata": {},
   "outputs": [],
   "source": [
    "@torch.jit.script\n",
    "def with_python_jit(inp: torch.Tensor, dim: int):\n",
    "    inp_last = inp.unsqueeze(-1).transpose(dim, -1).squeeze(dim)\n",
    "    out = torch.empty(inp_last.shape[:-1], dtype=torch.int64)\n",
    "\n",
    "    for i in range(inp_last.size(0)):\n",
    "        for j in range(inp_last.size(1)):\n",
    "            n_unique = len(torch.unique(inp_last[i, j], return_counts=True)[1])\n",
    "            # n_unique = len(inp_last[i, j].unique(return_counts=True)[1])\n",
    "            out[i, j] = n_unique\n",
    "\n",
    "    return out"
   ]
  },
  {
   "cell_type": "code",
   "execution_count": 4,
   "id": "6eee499e-096a-4f6a-a06c-d6bd34ed8ac4",
   "metadata": {},
   "outputs": [],
   "source": [
    "source = \"\"\"\n",
    "using namespace torch::indexing;\n",
    "\n",
    "torch::Tensor with_accesors(torch::Tensor in, int64_t dim) {\n",
    "    // Move reduce dim to the last dimension\n",
    "    auto in_last = in.unsqueeze(-1).transpose(dim, -1).squeeze(dim);\n",
    "    auto size_in = in_last.sizes();\n",
    "\n",
    "    c10::IntArrayRef out_size(size_in.begin(), size_in.begin() + (in.ndimension() - 2) + 1); // [:-1]\n",
    "    auto out = torch::empty(out_size, torch::kInt64);\n",
    "\n",
    "    auto in_last_a = in_last.accessor<int64_t, 3>();\n",
    "    auto out_a = out.accessor<int64_t, 2>();\n",
    "\n",
    "    for (int i = 0; i < in_last_a.size(0); ++i) {\n",
    "        for (int j = 0; j < in_last_a.size(1); ++j) {\n",
    "            auto values = in_last.index({i, j, Slice(None)});\n",
    "            auto n_unique = std::get<2>(torch::_unique2(values, true, false, true)).numel();\n",
    "            out_a[i][j] = n_unique;\n",
    "        }\n",
    "    }\n",
    "\n",
    "    return out;\n",
    "}\n",
    "\n",
    "torch::Tensor with_accesors_set(torch::Tensor in, int64_t dim) {\n",
    "    // Move reduce dim to the last dimension\n",
    "    auto in_last = in.unsqueeze(-1).transpose(dim, -1).squeeze(dim);\n",
    "    auto size_in = in_last.sizes();\n",
    "\n",
    "    c10::IntArrayRef out_size(size_in.begin(), size_in.begin() + (in.ndimension() - 2) + 1); // [:-1]\n",
    "    auto out = torch::empty(out_size, torch::kInt64);\n",
    "\n",
    "    auto in_last_a = in_last.accessor<int64_t, 3>();\n",
    "    auto out_a = out.accessor<int64_t, 2>();\n",
    "\n",
    "    for (int i = 0; i < in_last_a.size(0); ++i) {\n",
    "        for (int j = 0; j < in_last_a.size(1); ++j) {\n",
    "            std::unordered_set<int64_t> values;\n",
    "            for (int k = 0; k < in_last_a.size(2); ++k) {\n",
    "                values.insert(in_last_a[i][j][k]);\n",
    "            }\n",
    "            out_a[i][j] = values.size();\n",
    "        }\n",
    "    }\n",
    "\n",
    "    return out;\n",
    "}\n",
    "\"\"\"\n",
    "module = load_inline(\n",
    "    name=\"inline_extension\",\n",
    "    cpp_sources=[source],\n",
    "    functions=[\"with_accesors\", \"with_accesors_set\"],\n",
    "    extra_cflags=[\n",
    "        \"-O3\",\n",
    "        \"-std=c++2a\",\n",
    "    ],\n",
    ")"
   ]
  },
  {
   "cell_type": "markdown",
   "id": "19fbd0b9-2d89-4e30-8e15-ad4b6bf61851",
   "metadata": {},
   "source": [
    "## Test Implementations"
   ]
  },
  {
   "cell_type": "code",
   "execution_count": 5,
   "id": "832fb95c-8902-4ad5-8981-038d7127170d",
   "metadata": {},
   "outputs": [],
   "source": [
    "x_small = torch.tensor([\n",
    "    [[1, 2], [3, 2]],\n",
    "    [[5, 2], [2, 2]],\n",
    "])\n",
    "y = torch.tensor([[2, 1], [2, 1]])\n",
    "\n",
    "assert torch.all(y == with_python(x_small, 0))\n",
    "assert torch.all(y == with_python_jit(x_small, 0))\n",
    "assert torch.all(y == module.with_accesors(x_small, 0))\n",
    "assert torch.all(y == module.with_accesors_set(x_small, 0))\n",
    "assert torch.all(y == nunique(x_small, 0))"
   ]
  },
  {
   "cell_type": "markdown",
   "id": "6a6dc478-8fd7-4613-8531-4a7c60248bc3",
   "metadata": {},
   "source": [
    "## Performance"
   ]
  },
  {
   "cell_type": "code",
   "execution_count": 6,
   "id": "620a7c77-84ae-427a-aea7-8f22f6731b16",
   "metadata": {},
   "outputs": [],
   "source": [
    "torch.manual_seed(0)\n",
    "x_large = torch.randint(0, 10, (5, 480, 640))"
   ]
  },
  {
   "cell_type": "code",
   "execution_count": 7,
   "id": "eea30093-63a3-49f6-92a1-9568d32b5a40",
   "metadata": {},
   "outputs": [
    {
     "name": "stdout",
     "output_type": "stream",
     "text": [
      "4.43 s ± 78.3 ms per loop (mean ± std. dev. of 7 runs, 1 loop each)\n"
     ]
    }
   ],
   "source": [
    "%timeit with_python(x_large, 0)"
   ]
  },
  {
   "cell_type": "code",
   "execution_count": 8,
   "id": "d70de77e-cbf5-4dab-9c04-7e62ff667dbe",
   "metadata": {},
   "outputs": [
    {
     "name": "stdout",
     "output_type": "stream",
     "text": [
      "2.59 s ± 65.6 ms per loop (mean ± std. dev. of 7 runs, 1 loop each)\n"
     ]
    }
   ],
   "source": [
    "%timeit with_python_jit(x_large, 0)"
   ]
  },
  {
   "cell_type": "code",
   "execution_count": 9,
   "id": "8222c402-7bdb-448a-b1e5-2145f5980645",
   "metadata": {},
   "outputs": [
    {
     "name": "stdout",
     "output_type": "stream",
     "text": [
      "1.91 s ± 9.75 ms per loop (mean ± std. dev. of 7 runs, 1 loop each)\n"
     ]
    }
   ],
   "source": [
    "%timeit module.with_accesors(x_large, 0)"
   ]
  },
  {
   "cell_type": "code",
   "execution_count": 10,
   "id": "3c2bc185-bf88-4111-9c96-7ebf604bdcb1",
   "metadata": {},
   "outputs": [
    {
     "name": "stdout",
     "output_type": "stream",
     "text": [
      "50.7 ms ± 153 µs per loop (mean ± std. dev. of 7 runs, 10 loops each)\n"
     ]
    }
   ],
   "source": [
    "%timeit module.with_accesors_set(x_large, 0)"
   ]
  },
  {
   "cell_type": "code",
   "execution_count": 11,
   "id": "1f1b746a-1695-48cb-ba80-aaa130e8847e",
   "metadata": {},
   "outputs": [
    {
     "name": "stdout",
     "output_type": "stream",
     "text": [
      "5.33 ms ± 692 µs per loop (mean ± std. dev. of 7 runs, 100 loops each)\n"
     ]
    }
   ],
   "source": [
    "%timeit nunique(x_large, 0)"
   ]
  },
  {
   "cell_type": "code",
   "execution_count": null,
   "id": "08f6b09a-84bb-4650-9338-69e185d08e70",
   "metadata": {},
   "outputs": [],
   "source": []
  }
 ],
 "metadata": {
  "kernelspec": {
   "display_name": "Python 3",
   "language": "python",
   "name": "python3"
  },
  "language_info": {
   "codemirror_mode": {
    "name": "ipython",
    "version": 3
   },
   "file_extension": ".py",
   "mimetype": "text/x-python",
   "name": "python",
   "nbconvert_exporter": "python",
   "pygments_lexer": "ipython3",
   "version": "3.9.7"
  }
 },
 "nbformat": 4,
 "nbformat_minor": 5
}
