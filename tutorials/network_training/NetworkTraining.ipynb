{
 "cells": [
  {
   "cell_type": "markdown",
   "id": "a7afd40d-4a68-4278-be59-f9d0517b9c08",
   "metadata": {},
   "source": [
    "# Training a Network\n",
    "This notebook will guide you through the task of training a segmentation network within the htc framework. This is a complex task and a full training setup with all the details would be too much for a single tutorial. Hence, we consider an artificial simple example of segmenting only heart and lung in images from all annotators and we also don't use the full dataset but only a reduced version to keep the training time short.\n",
    "\n",
    "In summary, we need the following components to solve this training task:\n",
    "- Data specification which defines our training setup (folds and splits).\n",
    "- A lightning class where we define the model and our training/validation.\n",
    "- A configuration file with all our training settings.\n",
    "- Training of the network.\n",
    "- Aggregating the fold results and visualizing the results.\n",
    "- At the very end of our experiments: compute the results on the (untouched) test set."
   ]
  },
  {
   "cell_type": "code",
   "execution_count": 1,
   "id": "e0834bae-acbf-4e36-ad79-888b4cdd13b9",
   "metadata": {},
   "outputs": [],
   "source": [
    "%load_ext autoreload\n",
    "%autoreload 2\n",
    "\n",
    "from pathlib import Path\n",
    "\n",
    "import pandas as pd\n",
    "from IPython.display import JSON\n",
    "\n",
    "from htc import (\n",
    "    Config,\n",
    "    DataPath,\n",
    "    DataSpecification,\n",
    "    LabelMapping,\n",
    "    MetricAggregation,\n",
    "    SpecsGeneration,\n",
    "    create_class_scores_figure,\n",
    "    settings,\n",
    ")\n",
    "\n",
    "tutorial_dir = Path().absolute()\n",
    "assert (tutorial_dir / \"LightningImageThoracic.py\").exists(), (\n",
    "    \"Cannot find the network_training directory. Please make sure that the working directory contains this notebook\"\n",
    "    f\" (current working directory: {tutorial_dir})\"\n",
    ")"
   ]
  },
  {
   "cell_type": "markdown",
   "id": "9ef18d3c-d9f1-4d31-a2d7-7fd840602452",
   "metadata": {
    "tags": []
   },
   "source": [
    "## Data Specification\n",
    "The data specification is a fundamental concept and is required for any training task. Here you define which images should be loaded in which fold/split. Since we deal with hierarchical data (multiple images per subject), we usually make cuts on the subject and not on the image level, i.e. we put all  images from the same subject into one split.\n",
    "\n",
    "To keep it simple, we use only 2 folds with three splits each (train, validation and test). We will use images from 3 pigs in total. For the generation of the specs file, we can use the `SpecsGeneration` class and here we only need to overwrite the `generate_folds()` method which returns a list of dicts with each dict defining one fold."
   ]
  },
  {
   "cell_type": "code",
   "execution_count": 2,
   "id": "4b08edd0-35b1-423e-939b-c17b7a9e8e5a",
   "metadata": {},
   "outputs": [],
   "source": [
    "class SpecsGenerationThoracic(SpecsGeneration):\n",
    "    def __init__(self):\n",
    "        # Unique name of the resulting specs file\n",
    "        super().__init__(name=\"pigs_thoracic_2folds\")\n",
    "\n",
    "        # We will divide the data into an untouched test set and the rest will be divided into 2 folds\n",
    "        # Here, we are doing leave-one-subject-out cross validation with two subjects and have an additional subject in the untouched test set\n",
    "        self.subjects_folds = [\"P093\", \"P094\"]\n",
    "        self.subjects_test = [\"P095\"]\n",
    "\n",
    "    def generate_folds(self) -> list[dict]:\n",
    "        # We only need a subset of the available images: those from our selected subjects (filter_subjects_*) and here only the images which contain our labels (filter_labels)\n",
    "        data_dir = settings.data_dirs[\"HeiPorSPECTRAL\"]\n",
    "        filter_labels = lambda p: set(p.annotated_labels(annotation_name=\"all\")) & {\"heart\", \"lung\"}\n",
    "        filter_subjects_test = lambda p: p.subject_name in self.subjects_test\n",
    "        filter_subjects_folds = lambda p: p.subject_name in self.subjects_folds\n",
    "\n",
    "        # Untouched test set\n",
    "        paths_test = list(DataPath.iterate(data_dir, filters=[filter_subjects_test, filter_labels]))\n",
    "        imgs_test = [p.image_name() for p in paths_test]\n",
    "\n",
    "        # Fold paths\n",
    "        paths_folds = list(DataPath.iterate(data_dir, filters=[filter_subjects_folds, filter_labels]))\n",
    "\n",
    "        data_specs = []\n",
    "        for fold_subject in self.subjects_folds:\n",
    "            # Divide the folds into train and validation\n",
    "            imgs_train = [p.image_name() for p in paths_folds if p.subject_name == fold_subject]\n",
    "            imgs_val = [p.image_name() for p in paths_folds if p.subject_name != fold_subject]\n",
    "\n",
    "            fold_specs = {\n",
    "                \"fold_name\": f\"fold_{fold_subject}\",\n",
    "                \"train\": {\n",
    "                    \"image_names\": imgs_train,\n",
    "                },\n",
    "                \"val\": {\n",
    "                    \"image_names\": imgs_val,\n",
    "                },\n",
    "                \"test\": {\n",
    "                    \"image_names\": imgs_test,\n",
    "                },\n",
    "            }\n",
    "\n",
    "            data_specs.append(fold_specs)\n",
    "\n",
    "        return data_specs\n",
    "\n",
    "\n",
    "SpecsGenerationThoracic().generate_dataset(target_folder=tutorial_dir)\n",
    "specs_path = tutorial_dir / \"pigs_thoracic_2folds.json\""
   ]
  },
  {
   "cell_type": "markdown",
   "id": "dd43f358-bede-4f81-9a7d-92ecc0a43032",
   "metadata": {},
   "source": [
    "When you exectue the above cell, a JSON file will be created in the folder of this notebook. This file defines our two folds and the subject which is used for training (`P093` in the first and `P094` in the second fold) and validation (`P094` in the first and `P093` in the second fold). For each split, we simply list the images which belong to this split. `P095` is used as test set for all folds The test set must remain untouched until all experiments are complete and we are happy with the performance on the validation set. Only then is it time to take a look at the test set.\n",
    "> The list of image names is as flexible as the `DataPath.from_image_name()` function. This means you can also specify the annotations you want to use on a per image basis, i.e. `image_name@name1&name`."
   ]
  },
  {
   "cell_type": "code",
   "execution_count": 3,
   "id": "61131646-6607-42e0-85ee-965cc5450593",
   "metadata": {},
   "outputs": [
    {
     "data": {
      "text/plain": [
       "<IPython.core.display.JSON object>"
      ]
     },
     "execution_count": 3,
     "metadata": {
      "application/json": {
       "expanded": false,
       "root": "root"
      }
     },
     "output_type": "execute_result"
    }
   ],
   "source": [
    "JSON(specs_path)"
   ]
  },
  {
   "cell_type": "code",
   "execution_count": 4,
   "id": "acef89a8-f82d-4ba3-8c69-0b40065d16f0",
   "metadata": {},
   "outputs": [
    {
     "data": {
      "text/html": [
       "<div>\n",
       "<style scoped>\n",
       "    .dataframe tbody tr th:only-of-type {\n",
       "        vertical-align: middle;\n",
       "    }\n",
       "\n",
       "    .dataframe tbody tr th {\n",
       "        vertical-align: top;\n",
       "    }\n",
       "\n",
       "    .dataframe thead th {\n",
       "        text-align: right;\n",
       "    }\n",
       "</style>\n",
       "<table border=\"1\" class=\"dataframe\">\n",
       "  <thead>\n",
       "    <tr style=\"text-align: right;\">\n",
       "      <th></th>\n",
       "      <th>fold_name</th>\n",
       "      <th>split_name</th>\n",
       "      <th>image_name</th>\n",
       "      <th>subject_name</th>\n",
       "      <th>timestamp</th>\n",
       "      <th>annotation_name</th>\n",
       "    </tr>\n",
       "  </thead>\n",
       "  <tbody>\n",
       "    <tr>\n",
       "      <th>0</th>\n",
       "      <td>fold_P093</td>\n",
       "      <td>train</td>\n",
       "      <td>P093#2021_04_28_15_30_33</td>\n",
       "      <td>P093</td>\n",
       "      <td>2021_04_28_15_30_33</td>\n",
       "      <td>None</td>\n",
       "    </tr>\n",
       "    <tr>\n",
       "      <th>1</th>\n",
       "      <td>fold_P093</td>\n",
       "      <td>train</td>\n",
       "      <td>P093#2021_04_28_15_30_50</td>\n",
       "      <td>P093</td>\n",
       "      <td>2021_04_28_15_30_50</td>\n",
       "      <td>None</td>\n",
       "    </tr>\n",
       "    <tr>\n",
       "      <th>2</th>\n",
       "      <td>fold_P093</td>\n",
       "      <td>train</td>\n",
       "      <td>P093#2021_04_28_15_31_07</td>\n",
       "      <td>P093</td>\n",
       "      <td>2021_04_28_15_31_07</td>\n",
       "      <td>None</td>\n",
       "    </tr>\n",
       "    <tr>\n",
       "      <th>3</th>\n",
       "      <td>fold_P093</td>\n",
       "      <td>train</td>\n",
       "      <td>P093#2021_04_28_15_31_48</td>\n",
       "      <td>P093</td>\n",
       "      <td>2021_04_28_15_31_48</td>\n",
       "      <td>None</td>\n",
       "    </tr>\n",
       "    <tr>\n",
       "      <th>4</th>\n",
       "      <td>fold_P093</td>\n",
       "      <td>train</td>\n",
       "      <td>P093#2021_04_28_15_32_06</td>\n",
       "      <td>P093</td>\n",
       "      <td>2021_04_28_15_32_06</td>\n",
       "      <td>None</td>\n",
       "    </tr>\n",
       "    <tr>\n",
       "      <th>...</th>\n",
       "      <td>...</td>\n",
       "      <td>...</td>\n",
       "      <td>...</td>\n",
       "      <td>...</td>\n",
       "      <td>...</td>\n",
       "      <td>...</td>\n",
       "    </tr>\n",
       "    <tr>\n",
       "      <th>283</th>\n",
       "      <td>fold_P094</td>\n",
       "      <td>val</td>\n",
       "      <td>P093#2021_04_28_15_58_20</td>\n",
       "      <td>P093</td>\n",
       "      <td>2021_04_28_15_58_20</td>\n",
       "      <td>None</td>\n",
       "    </tr>\n",
       "    <tr>\n",
       "      <th>284</th>\n",
       "      <td>fold_P094</td>\n",
       "      <td>val</td>\n",
       "      <td>P093#2021_04_28_15_58_37</td>\n",
       "      <td>P093</td>\n",
       "      <td>2021_04_28_15_58_37</td>\n",
       "      <td>None</td>\n",
       "    </tr>\n",
       "    <tr>\n",
       "      <th>285</th>\n",
       "      <td>fold_P094</td>\n",
       "      <td>val</td>\n",
       "      <td>P093#2021_04_28_15_59_13</td>\n",
       "      <td>P093</td>\n",
       "      <td>2021_04_28_15_59_13</td>\n",
       "      <td>None</td>\n",
       "    </tr>\n",
       "    <tr>\n",
       "      <th>286</th>\n",
       "      <td>fold_P094</td>\n",
       "      <td>val</td>\n",
       "      <td>P093#2021_04_28_15_59_31</td>\n",
       "      <td>P093</td>\n",
       "      <td>2021_04_28_15_59_31</td>\n",
       "      <td>None</td>\n",
       "    </tr>\n",
       "    <tr>\n",
       "      <th>287</th>\n",
       "      <td>fold_P094</td>\n",
       "      <td>val</td>\n",
       "      <td>P093#2021_04_28_15_59_47</td>\n",
       "      <td>P093</td>\n",
       "      <td>2021_04_28_15_59_47</td>\n",
       "      <td>None</td>\n",
       "    </tr>\n",
       "  </tbody>\n",
       "</table>\n",
       "<p>288 rows × 6 columns</p>\n",
       "</div>"
      ],
      "text/plain": [
       "     fold_name split_name                image_name subject_name  \\\n",
       "0    fold_P093      train  P093#2021_04_28_15_30_33         P093   \n",
       "1    fold_P093      train  P093#2021_04_28_15_30_50         P093   \n",
       "2    fold_P093      train  P093#2021_04_28_15_31_07         P093   \n",
       "3    fold_P093      train  P093#2021_04_28_15_31_48         P093   \n",
       "4    fold_P093      train  P093#2021_04_28_15_32_06         P093   \n",
       "..         ...        ...                       ...          ...   \n",
       "283  fold_P094        val  P093#2021_04_28_15_58_20         P093   \n",
       "284  fold_P094        val  P093#2021_04_28_15_58_37         P093   \n",
       "285  fold_P094        val  P093#2021_04_28_15_59_13         P093   \n",
       "286  fold_P094        val  P093#2021_04_28_15_59_31         P093   \n",
       "287  fold_P094        val  P093#2021_04_28_15_59_47         P093   \n",
       "\n",
       "               timestamp annotation_name  \n",
       "0    2021_04_28_15_30_33            None  \n",
       "1    2021_04_28_15_30_50            None  \n",
       "2    2021_04_28_15_31_07            None  \n",
       "3    2021_04_28_15_31_48            None  \n",
       "4    2021_04_28_15_32_06            None  \n",
       "..                   ...             ...  \n",
       "283  2021_04_28_15_58_20            None  \n",
       "284  2021_04_28_15_58_37            None  \n",
       "285  2021_04_28_15_59_13            None  \n",
       "286  2021_04_28_15_59_31            None  \n",
       "287  2021_04_28_15_59_47            None  \n",
       "\n",
       "[288 rows x 6 columns]"
      ]
     },
     "execution_count": 4,
     "metadata": {},
     "output_type": "execute_result"
    }
   ],
   "source": [
    "# We can also easily use this specs file in the htc framework\n",
    "DataSpecification(specs_path).table()"
   ]
  },
  {
   "cell_type": "markdown",
   "id": "cf8efd3f-1ed1-4515-90d3-6e4eff32fc03",
   "metadata": {},
   "source": [
    "## Lightning Class\n",
    "The lightning class defines our training based on a batch of images, i.e. the model we want to use, the computation of the loss or the validation of images. This is based on the [Lightning framework](https://www.pytorchlightning.ai/) with some additional extensions for our data. In our task, we want to predict segmentation masks on full images, so we can re-use a lot of the existing [`LightningImage`](../../htc/models/image/LightningImage.py) class which, for example, already computes the dice loss during training.\n",
    "\n",
    "Hence, in our own class, we inherit form [`LightningImage`](../../htc/models/image/LightningImage.py) and just overwrite the parts which we want to change.  For showcase purposes, we overwrite the `training_step()` method and add the [focal loss](https://docs.monai.io/en/latest/losses.html#focalloss) as additional loss (additional to the dice and cross entropy loss) for our training. In similar ways, you can basically overwrite any methods and adapt the training to your needs. You can find the class [`LightningImageThoracic`](LightningImageThoracic.py) in the same folder as this notebook.\n",
    "\n",
    "Please note that we also did not overwrite any validation or test methods (e.g. `validation_step()`). This is because LightningImage already inherits from [`EvaluationMixin`](../../htc/models/common/EvaluationMixin.py) which computes some default metrics like the dice score useful for segmentation tasks as ours."
   ]
  },
  {
   "cell_type": "markdown",
   "id": "d9b13d01-0723-45fc-8ecd-e83ff7654547",
   "metadata": {},
   "source": [
    "## Training Configuration\n",
    "The specification of your training is summarized in a configuration file. In the htc framework, we are using simple JSON files for this purpose. Here you define which data you want to use, the augmentations, etc. To make it simple, we inherit from the default configuration of the image model and just adapt the parts we need. These are:\n",
    "- Which lightning class do we want to use?\n",
    "- On which data do we want to train? (i.e. which specs file to use)\n",
    "- Which annotations to load?\n",
    "- How do we want to aggregate the metric scores? On the class-level or on the image-level? In the pretrained networks, we aggregated on the image-level yielding one score per subject. This makes only sense if the complete image is annotated and you want to know the segmentation performance for an image. Here, however, we do not have fully-segmented images, so an image-level score is less meaningful. Instead, we want to look at the class-level scores yielding a metric score per organ.\n",
    "- Which classes do we want to use?"
   ]
  },
  {
   "cell_type": "code",
   "execution_count": 5,
   "id": "62e3ad0a-bc77-4fe8-84dd-c503730a7e6f",
   "metadata": {},
   "outputs": [
    {
     "data": {
      "application/json": {
       "config_name": "default",
       "dataloader_kwargs": {
        "batch_size": 5,
        "num_workers": 1
       },
       "inherits": "models/image/configs/default",
       "input": {
        "annotation_name": [
         "polygon#annotator1",
         "polygon#annotator2",
         "polygon#annotator3"
        ],
        "data_spec": "/home/j562r/htc/src/tutorials/network_training/pigs_thoracic_2folds.json",
        "epoch_size": 500,
        "merge_annotations": "union",
        "n_channels": 100,
        "preprocessing": "L1",
        "transforms_gpu": [
         {
          "class": "KorniaTransform",
          "degrees": 45,
          "p": 0.5,
          "padding_mode": "reflection",
          "scale": [
           0.9,
           1.1
          ],
          "transformation_name": "RandomAffine",
          "translate": [
           0.0625,
           0.0625
          ]
         },
         {
          "class": "KorniaTransform",
          "p": 0.25,
          "transformation_name": "RandomHorizontalFlip"
         },
         {
          "class": "KorniaTransform",
          "p": 0.25,
          "transformation_name": "RandomVerticalFlip"
         }
        ]
       },
       "label_mapping": {
        "last_valid_label_index": 1,
        "mapping_index_name": {
         "0": "heart",
         "1": "lung"
        },
        "mapping_name_index": {
         "heart": 0,
         "lung": 1
        },
        "unknown_invalid": true,
        "zero_is_invalid": false
       },
       "lightning_class": "/home/j562r/htc/src/tutorials/network_training/LightningImageThoracic.py>LightningImageThoracic",
       "model": {
        "architecture_kwargs": {
         "encoder_name": "efficientnet-b5",
         "encoder_weights": "imagenet"
        },
        "architecture_name": "Unet",
        "model_name": "ModelImage"
       },
       "optimization": {
        "lr_scheduler": {
         "gamma": 0.99,
         "name": "ExponentialLR"
        },
        "optimizer": {
         "lr": 0.001,
         "name": "Adam",
         "weight_decay": 0
        }
       },
       "swa_kwargs": {
        "annealing_epochs": 0
       },
       "trainer_kwargs": {
        "accelerator": "gpu",
        "devices": 1,
        "enable_progress_bar": false,
        "max_epochs": 2,
        "precision": "16-mixed"
       },
       "validation": {
        "checkpoint_metric": "dice_metric",
        "checkpoint_metric_mode": "class_level",
        "dataset_index": 0
       }
      },
      "text/plain": [
       "<IPython.core.display.JSON object>"
      ]
     },
     "execution_count": 5,
     "metadata": {
      "application/json": {
       "expanded": false,
       "root": "root"
      }
     },
     "output_type": "execute_result"
    }
   ],
   "source": [
    "config = Config.from_model_name(\"default\", \"image\")\n",
    "config[\"inherits\"] = \"models/image/configs/default\"\n",
    "\n",
    "if tutorial_dir.is_relative_to(settings.src_dir):\n",
    "    # If run from the cloned repository\n",
    "    config[\"lightning_class\"] = (tutorial_dir / \"LightningImageThoracic.py>LightningImageThoracic\").relative_to(\n",
    "        settings.src_dir\n",
    "    )\n",
    "    config[\"input/data_spec\"] = (tutorial_dir / \"pigs_thoracic_2folds.json\").relative_to(settings.src_dir)\n",
    "else:\n",
    "    # If run from somewhere else via the installed htc package\n",
    "    config[\"lightning_class\"] = tutorial_dir / \"LightningImageThoracic.py>LightningImageThoracic\"\n",
    "    config[\"input/data_spec\"] = tutorial_dir / \"pigs_thoracic_2folds.json\"\n",
    "\n",
    "config[\"input/annotation_name\"] = [\"polygon#annotator1\", \"polygon#annotator2\", \"polygon#annotator3\"]\n",
    "config[\"validation/checkpoint_metric_mode\"] = \"class_level\"\n",
    "\n",
    "# We want to merge the annotations from all annotators into one label mask\n",
    "config[\"input/merge_annotations\"] = \"union\"\n",
    "\n",
    "# We have a two-class problem and we want to ignore all unlabeled pixels\n",
    "# Every label not listed here will be considered invalid\n",
    "config[\"label_mapping\"] = LabelMapping({\n",
    "    \"heart\": 0,\n",
    "    \"lung\": 1,\n",
    "})\n",
    "\n",
    "# Reduce the training time\n",
    "config[\"trainer_kwargs/max_epochs\"] = 2\n",
    "\n",
    "# Progress bars can cause problems in Jupyter notebooks so we disable them here (training does not take super long)\n",
    "config[\"trainer_kwargs/enable_progress_bar\"] = False\n",
    "\n",
    "# Uncomment the following lines if you want to use one of the pretrained models as basis for our training\n",
    "# config[\"model/pretrained_model\"] = {\n",
    "#     \"model\": \"image\",\n",
    "#     \"run_folder\": \"2022-02-03_22-58-44_generated_default_model_comparison\",\n",
    "# }\n",
    "\n",
    "config_path = tutorial_dir / \"config_thoracic.json\"\n",
    "config.save_config(config_path)\n",
    "JSON(config_path)"
   ]
  },
  {
   "cell_type": "markdown",
   "id": "45ed9af8-003f-4ebe-8016-bb88bacd46c3",
   "metadata": {},
   "source": [
    "## Start the Training\n",
    "We now have everything together to start the training of our network. Simply run the `htc training` command and pass the modle type (image model in our case) and path to the config as arguments.\n",
    "> &#x26a0;&#xfe0f; Starting a training session in a Jupyter notebook is usually not a good idea. Instead, it is advisable to use a `screen` environment so that your training runs in the background and you can return later to check for the status.\n",
    "\n",
    "> There is also a `--fold FOLD_NAME` switch if you only want to train only one fold. This is useful for debugging."
   ]
  },
  {
   "cell_type": "code",
   "execution_count": 6,
   "id": "9b656586-026a-4153-a2c5-f6871c6ec18b",
   "metadata": {},
   "outputs": [
    {
     "name": "stdout",
     "output_type": "stream",
     "text": [
      "\u001b[1m[\u001b[0m\u001b[33mWARNING\u001b[0m\u001b[1m]\u001b[0m\u001b[1m[\u001b[0m\u001b[3mpy.warnings\u001b[0m\u001b[1m]\u001b[0m                                            \u001b[2m__init__.py:28\u001b[0m\n",
      "\u001b[35m/home/j562r/miniconda3/envs/htc/lib/python3.12/site-packages/korn\u001b[0m \u001b[2m              \u001b[0m\n",
      "\u001b[35mia/feature/\u001b[0m\u001b[95mlightglue.py\u001b[0m:\u001b[37m44\u001b[0m: FutureWarning:                        \u001b[2m              \u001b[0m\n",
      "`\u001b[1;35mtorch.cuda.amp.custom_fwd\u001b[0m\u001b[1m(\u001b[0margs\u001b[33m...\u001b[0m\u001b[1m)\u001b[0m` is deprecated. Please use    \u001b[2m              \u001b[0m\n",
      "`\u001b[1;35mtorch.amp.custom_fwd\u001b[0m\u001b[1m(\u001b[0margs\u001b[33m...\u001b[0m, \u001b[33mdevice_type\u001b[0m=\u001b[90m'cuda'\u001b[0m\u001b[1m)\u001b[0m` instead.      \u001b[2m              \u001b[0m\n",
      "  @\u001b[1;35mtorch.cuda.amp.custom_fwd\u001b[0m\u001b[1m(\u001b[0m\u001b[33mcast_inputs\u001b[0m=\u001b[35mtorch\u001b[0m.float32\u001b[1m)\u001b[0m           \u001b[2m              \u001b[0m\n",
      "                                                                  \u001b[2m              \u001b[0m\n",
      "\u001b[1m[\u001b[0m\u001b[32mINFO\u001b[0m\u001b[1m]\u001b[0m\u001b[1m[\u001b[0m\u001b[3mhtc\u001b[0m\u001b[1m]\u001b[0m Starting training of the fold fold_P093 \u001b[1m[\u001b[0m\u001b[37m1\u001b[0m/\u001b[37m2\u001b[0m\u001b[1m]\u001b[0m    \u001b[2mrun_training.py:293\u001b[0m\n",
      "\u001b[1m[\u001b[0m\u001b[33mWARNING\u001b[0m\u001b[1m]\u001b[0m\u001b[1m[\u001b[0m\u001b[3mpy.warnings\u001b[0m\u001b[1m]\u001b[0m                                            \u001b[2m__init__.py:28\u001b[0m\n",
      "\u001b[35m/home/j562r/miniconda3/envs/htc/lib/python3.12/site-packages/korn\u001b[0m \u001b[2m              \u001b[0m\n",
      "\u001b[35mia/feature/\u001b[0m\u001b[95mlightglue.py\u001b[0m:\u001b[37m44\u001b[0m: FutureWarning:                        \u001b[2m              \u001b[0m\n",
      "`\u001b[1;35mtorch.cuda.amp.custom_fwd\u001b[0m\u001b[1m(\u001b[0margs\u001b[33m...\u001b[0m\u001b[1m)\u001b[0m` is deprecated. Please use    \u001b[2m              \u001b[0m\n",
      "`\u001b[1;35mtorch.amp.custom_fwd\u001b[0m\u001b[1m(\u001b[0margs\u001b[33m...\u001b[0m, \u001b[33mdevice_type\u001b[0m=\u001b[90m'cuda'\u001b[0m\u001b[1m)\u001b[0m` instead.      \u001b[2m              \u001b[0m\n",
      "  @\u001b[1;35mtorch.cuda.amp.custom_fwd\u001b[0m\u001b[1m(\u001b[0m\u001b[33mcast_inputs\u001b[0m=\u001b[35mtorch\u001b[0m.float32\u001b[1m)\u001b[0m           \u001b[2m              \u001b[0m\n",
      "                                                                  \u001b[2m              \u001b[0m\n",
      "\u001b[1m[\u001b[0m\u001b[32mINFO\u001b[0m\u001b[1m]\u001b[0m\u001b[1m[\u001b[0m\u001b[3mhtc\u001b[0m\u001b[1m]\u001b[0m The following config will be used for training    \u001b[2mrun_training.py:80\u001b[0m\n",
      "the segmentation task:                                        \u001b[2m                  \u001b[0m\n",
      "\u001b[1m[\u001b[0m\u001b[32mINFO\u001b[0m\u001b[1m]\u001b[0m\u001b[1m[\u001b[0m\u001b[3mhtc\u001b[0m\u001b[1m]\u001b[0m \u001b[1m{\u001b[0m\u001b[90m'config_name'\u001b[0m: \u001b[90m'config_thoracic'\u001b[0m,                \u001b[2mrun_training.py:81\u001b[0m\n",
      " \u001b[90m'dataloader_kwargs'\u001b[0m: \u001b[1m{\u001b[0m\u001b[90m'batch_size'\u001b[0m: \u001b[37m5\u001b[0m, \u001b[90m'num_workers'\u001b[0m: \u001b[37m1\u001b[0m\u001b[1m}\u001b[0m,    \u001b[2m                  \u001b[0m\n",
      " \u001b[90m'input'\u001b[0m: \u001b[1m{\u001b[0m\u001b[90m'annotation_name'\u001b[0m: \u001b[1m[\u001b[0m\u001b[90m'\u001b[0m\u001b[36mpolygon#annotator1\u001b[0m\u001b[90m'\u001b[0m,          \u001b[2m                  \u001b[0m\n",
      "                               \u001b[90m'\u001b[0m\u001b[36mpolygon#annotator2\u001b[0m\u001b[90m'\u001b[0m,          \u001b[2m                  \u001b[0m\n",
      "                               \u001b[90m'\u001b[0m\u001b[36mpolygon#annotator3\u001b[0m\u001b[90m'\u001b[0m\u001b[1m]\u001b[0m,         \u001b[2m                  \u001b[0m\n",
      "           \u001b[90m'data_spec'\u001b[0m:                                       \u001b[2m                  \u001b[0m\n",
      "\u001b[90m'/home/j562r/htc/src/tutorials/network_training/pigs_thoracic\u001b[0m \u001b[2m                  \u001b[0m\n",
      "\u001b[90m_2folds.json'\u001b[0m,                                                \u001b[2m                  \u001b[0m\n",
      "           \u001b[90m'epoch_size'\u001b[0m: \u001b[37m500\u001b[0m,                                 \u001b[2m                  \u001b[0m\n",
      "           \u001b[90m'merge_annotations'\u001b[0m: \u001b[90m'union'\u001b[0m,                      \u001b[2m                  \u001b[0m\n",
      "           \u001b[90m'n_channels'\u001b[0m: \u001b[37m100\u001b[0m,                                 \u001b[2m                  \u001b[0m\n",
      "           \u001b[90m'preprocessing'\u001b[0m: \u001b[90m'L1'\u001b[0m,                             \u001b[2m                  \u001b[0m\n",
      "           \u001b[90m'transforms_gpu'\u001b[0m: \u001b[1m[\u001b[0m\u001b[1m{\u001b[0m\u001b[90m'class'\u001b[0m: \u001b[90m'KorniaTransform'\u001b[0m,    \u001b[2m                  \u001b[0m\n",
      "                               \u001b[90m'degrees'\u001b[0m: \u001b[37m45\u001b[0m,                 \u001b[2m                  \u001b[0m\n",
      "                               \u001b[90m'p'\u001b[0m: \u001b[37m0.5\u001b[0m,                      \u001b[2m                  \u001b[0m\n",
      "                               \u001b[90m'padding_mode'\u001b[0m: \u001b[90m'reflection'\u001b[0m,  \u001b[2m                  \u001b[0m\n",
      "                               \u001b[90m'scale'\u001b[0m: \u001b[1m[\u001b[0m\u001b[37m0.9\u001b[0m, \u001b[37m1.1\u001b[0m\u001b[1m]\u001b[0m,           \u001b[2m                  \u001b[0m\n",
      "                               \u001b[90m'transformation_name'\u001b[0m:         \u001b[2m                  \u001b[0m\n",
      "\u001b[90m'RandomAffine'\u001b[0m,                                               \u001b[2m                  \u001b[0m\n",
      "                               \u001b[90m'translate'\u001b[0m: \u001b[1m[\u001b[0m\u001b[37m0.0625\u001b[0m,          \u001b[2m                  \u001b[0m\n",
      "\u001b[37m0.0625\u001b[0m\u001b[1m]\u001b[0m\u001b[1m}\u001b[0m,                                                     \u001b[2m                  \u001b[0m\n",
      "                              \u001b[1m{\u001b[0m\u001b[90m'class'\u001b[0m: \u001b[90m'KorniaTransform'\u001b[0m,    \u001b[2m                  \u001b[0m\n",
      "                               \u001b[90m'p'\u001b[0m: \u001b[37m0.25\u001b[0m,                     \u001b[2m                  \u001b[0m\n",
      "                               \u001b[90m'transformation_name'\u001b[0m:         \u001b[2m                  \u001b[0m\n",
      "\u001b[90m'RandomHorizontalFlip'\u001b[0m\u001b[1m}\u001b[0m,                                      \u001b[2m                  \u001b[0m\n",
      "                              \u001b[1m{\u001b[0m\u001b[90m'class'\u001b[0m: \u001b[90m'KorniaTransform'\u001b[0m,    \u001b[2m                  \u001b[0m\n",
      "                               \u001b[90m'p'\u001b[0m: \u001b[37m0.25\u001b[0m,                     \u001b[2m                  \u001b[0m\n",
      "                               \u001b[90m'transformation_name'\u001b[0m:         \u001b[2m                  \u001b[0m\n",
      "\u001b[90m'RandomVerticalFlip'\u001b[0m\u001b[1m}\u001b[0m\u001b[1m]\u001b[0m\u001b[1m}\u001b[0m,                                      \u001b[2m                  \u001b[0m\n",
      " \u001b[90m'label_mapping'\u001b[0m: \u001b[1m{\u001b[0m\u001b[90m'last_valid_label_index'\u001b[0m: \u001b[37m1\u001b[0m,               \u001b[2m                  \u001b[0m\n",
      "                   \u001b[90m'mapping_index_name'\u001b[0m: \u001b[1m{\u001b[0m\u001b[90m'0'\u001b[0m: \u001b[90m'heart'\u001b[0m, \u001b[90m'1'\u001b[0m:  \u001b[2m                  \u001b[0m\n",
      "\u001b[90m'lung'\u001b[0m\u001b[1m}\u001b[0m,                                                      \u001b[2m                  \u001b[0m\n",
      "                   \u001b[90m'mapping_name_index'\u001b[0m: \u001b[1m{\u001b[0m\u001b[90m'heart'\u001b[0m: \u001b[37m0\u001b[0m, \u001b[90m'lung'\u001b[0m: \u001b[2m                  \u001b[0m\n",
      "\u001b[37m1\u001b[0m\u001b[1m}\u001b[0m,                                                           \u001b[2m                  \u001b[0m\n",
      "                   \u001b[90m'unknown_invalid'\u001b[0m: \u001b[3;92mTrue\u001b[0m,                   \u001b[2m                  \u001b[0m\n",
      "                   \u001b[90m'zero_is_invalid'\u001b[0m: \u001b[3;91mFalse\u001b[0m\u001b[1m}\u001b[0m,                 \u001b[2m                  \u001b[0m\n",
      " \u001b[90m'lightning_class'\u001b[0m:                                           \u001b[2m                  \u001b[0m\n",
      "\u001b[90m'/home/j562r/htc/src/tutorials/network_training/LightningImag\u001b[0m \u001b[2m                  \u001b[0m\n",
      "\u001b[90meThoracic.py>LightningImageThoracic'\u001b[0m,                         \u001b[2m                  \u001b[0m\n",
      " \u001b[90m'model'\u001b[0m: \u001b[1m{\u001b[0m\u001b[90m'architecture_kwargs'\u001b[0m: \u001b[1m{\u001b[0m\u001b[90m'encoder_name'\u001b[0m:            \u001b[2m                  \u001b[0m\n",
      "\u001b[90m'efficientnet-b5'\u001b[0m,                                            \u001b[2m                  \u001b[0m\n",
      "                                   \u001b[90m'encoder_weights'\u001b[0m:         \u001b[2m                  \u001b[0m\n",
      "\u001b[90m'imagenet'\u001b[0m\u001b[1m}\u001b[0m,                                                  \u001b[2m                  \u001b[0m\n",
      "           \u001b[90m'architecture_name'\u001b[0m: \u001b[90m'Unet'\u001b[0m,                       \u001b[2m                  \u001b[0m\n",
      "           \u001b[90m'model_name'\u001b[0m: \u001b[90m'ModelImage'\u001b[0m\u001b[1m}\u001b[0m,                       \u001b[2m                  \u001b[0m\n",
      " \u001b[90m'optimization'\u001b[0m: \u001b[1m{\u001b[0m\u001b[90m'lr_scheduler'\u001b[0m: \u001b[1m{\u001b[0m\u001b[90m'gamma'\u001b[0m: \u001b[37m0.99\u001b[0m, \u001b[90m'name'\u001b[0m:     \u001b[2m                  \u001b[0m\n",
      "\u001b[90m'ExponentialLR'\u001b[0m\u001b[1m}\u001b[0m,                                             \u001b[2m                  \u001b[0m\n",
      "                  \u001b[90m'optimizer'\u001b[0m: \u001b[1m{\u001b[0m\u001b[90m'lr'\u001b[0m: \u001b[37m0.001\u001b[0m,                  \u001b[2m                  \u001b[0m\n",
      "                                \u001b[90m'name'\u001b[0m: \u001b[90m'Adam'\u001b[0m,               \u001b[2m                  \u001b[0m\n",
      "                                \u001b[90m'weight_decay'\u001b[0m: \u001b[37m0\u001b[0m\u001b[1m}\u001b[0m\u001b[1m}\u001b[0m,          \u001b[2m                  \u001b[0m\n",
      " \u001b[90m'swa_kwargs'\u001b[0m: \u001b[1m{\u001b[0m\u001b[90m'annealing_epochs'\u001b[0m: \u001b[37m0\u001b[0m\u001b[1m}\u001b[0m,                       \u001b[2m                  \u001b[0m\n",
      " \u001b[90m'trainer_kwargs'\u001b[0m: \u001b[1m{\u001b[0m\u001b[90m'accelerator'\u001b[0m: \u001b[90m'gpu'\u001b[0m,                     \u001b[2m                  \u001b[0m\n",
      "                    \u001b[90m'devices'\u001b[0m: \u001b[37m1\u001b[0m,                             \u001b[2m                  \u001b[0m\n",
      "                    \u001b[90m'enable_progress_bar'\u001b[0m: \u001b[3;91mFalse\u001b[0m,             \u001b[2m                  \u001b[0m\n",
      "                    \u001b[90m'max_epochs'\u001b[0m: \u001b[37m2\u001b[0m,                          \u001b[2m                  \u001b[0m\n",
      "                    \u001b[90m'precision'\u001b[0m: \u001b[90m'16-mixed'\u001b[0m\u001b[1m}\u001b[0m,                 \u001b[2m                  \u001b[0m\n",
      " \u001b[90m'validation'\u001b[0m: \u001b[1m{\u001b[0m\u001b[90m'checkpoint_metric'\u001b[0m: \u001b[90m'dice_metric'\u001b[0m,           \u001b[2m                  \u001b[0m\n",
      "                \u001b[90m'checkpoint_metric_mode'\u001b[0m: \u001b[90m'class_level'\u001b[0m,      \u001b[2m                  \u001b[0m\n",
      "                \u001b[90m'dataset_index'\u001b[0m: \u001b[37m0\u001b[0m\u001b[1m}\u001b[0m\u001b[1m}\u001b[0m                          \u001b[2m                  \u001b[0m\n",
      "Seed set to 1337\n",
      "\u001b[1m[\u001b[0m\u001b[94mDEBUG\u001b[0m\u001b[1m]\u001b[0m\u001b[1m[\u001b[0m\u001b[3mhtc\u001b[0m\u001b[1m]\u001b[0m Used transformations:                             \u001b[2mtransforms.py:127\u001b[0m\n",
      "\u001b[1m[\u001b[0m\u001b[1;35mToType\u001b[0m\u001b[1m(\u001b[0m\u001b[33mdtype\u001b[0m=\u001b[35mtorch\u001b[0m.float16\u001b[1m)\u001b[0m\u001b[1m]\u001b[0m                                  \u001b[2m                 \u001b[0m\n",
      "\u001b[1m[\u001b[0m\u001b[94mDEBUG\u001b[0m\u001b[1m]\u001b[0m\u001b[1m[\u001b[0m\u001b[3mhtc\u001b[0m\u001b[1m]\u001b[0m Used transformations:                             \u001b[2mtransforms.py:127\u001b[0m\n",
      "\u001b[1m[\u001b[0m\u001b[1;35mToType\u001b[0m\u001b[1m(\u001b[0m\u001b[33mdtype\u001b[0m=\u001b[35mtorch\u001b[0m.float16\u001b[1m)\u001b[0m\u001b[1m]\u001b[0m                                  \u001b[2m                 \u001b[0m\n",
      "Using 16bit Automatic Mixed Precision (AMP)\n",
      "GPU available: True (cuda), used: True\n",
      "TPU available: False, using: 0 TPU cores\n",
      "HPU available: False, using: 0 HPUs\n",
      "LOCAL_RANK: 0 - CUDA_VISIBLE_DEVICES: [0]\n",
      "\n",
      "  | Name             | Type             | Params | Mode \n",
      "--------------------------------------------------------------\n",
      "0 | model            | ModelImage       | 31.3 M | train\n",
      "1 | ce_loss_weighted | CrossEntropyLoss | 0      | train\n",
      "2 | dice_loss        | DiceLoss         | 0      | train\n",
      "3 | focal_loss       | FocalLoss        | 0      | train\n",
      "--------------------------------------------------------------\n",
      "31.3 M    Trainable params\n",
      "0         Non-trainable params\n",
      "31.3 M    Total params\n",
      "125.032   Total estimated model params size (MB)\n",
      "666       Modules in train mode\n",
      "0         Modules in eval mode\n",
      "Swapping scheduler `ExponentialLR` for `SWALR`\n",
      "\u001b[1m[\u001b[0m\u001b[94mDEBUG\u001b[0m\u001b[1m]\u001b[0m\u001b[1m[\u001b[0m\u001b[3mhtc\u001b[0m\u001b[1m]\u001b[0m Used transformations:                             \u001b[2mtransforms.py:127\u001b[0m\n",
      "\u001b[1m[\u001b[0m\u001b[1;35mToType\u001b[0m\u001b[1m(\u001b[0m\u001b[33mdtype\u001b[0m=\u001b[35mtorch\u001b[0m.float32\u001b[1m)\u001b[0m, KorniaTransform\u001b[1m]\u001b[0m                 \u001b[2m                 \u001b[0m\n",
      "\u001b[1m[\u001b[0m\u001b[94mDEBUG\u001b[0m\u001b[1m]\u001b[0m\u001b[1m[\u001b[0m\u001b[3mhtc\u001b[0m\u001b[1m]\u001b[0m Used transformations:                             \u001b[2mtransforms.py:127\u001b[0m\n",
      "\u001b[1m[\u001b[0m\u001b[1;35mToType\u001b[0m\u001b[1m(\u001b[0m\u001b[33mdtype\u001b[0m=\u001b[35mtorch\u001b[0m.float32\u001b[1m)\u001b[0m\u001b[1m]\u001b[0m                                  \u001b[2m                 \u001b[0m\n",
      "\u001b[1m[\u001b[0m\u001b[32mINFO\u001b[0m\u001b[1m]\u001b[0m\u001b[1m[\u001b[0m\u001b[3mhtc\u001b[0m\u001b[1m]\u001b[0m Changed check_val_every_n_epoch to \u001b[37m1\u001b[0m and         \u001b[2mHTCLightning.py:213\u001b[0m\n",
      "switched to manual optimization                              \u001b[2m                   \u001b[0m\n",
      "`Trainer.fit` stopped: `max_epochs=3` reached.\n",
      "\u001b[1m[\u001b[0m\u001b[32mINFO\u001b[0m\u001b[1m]\u001b[0m\u001b[1m[\u001b[0m\u001b[3mhtc\u001b[0m\u001b[1m]\u001b[0m Training time for the fold fold_P093: \u001b[37m1\u001b[0m minutes   \u001b[2mrun_training.py:68\u001b[0m\n",
      "and \u001b[37m16.98\u001b[0m seconds                                             \u001b[2m                  \u001b[0m\n",
      "\u001b[1m[\u001b[0m\u001b[32mINFO\u001b[0m\u001b[1m]\u001b[0m\u001b[1m[\u001b[0m\u001b[3mhtc\u001b[0m\u001b[1m]\u001b[0m Peak memory consumption for the fold fold_P093:   \u001b[2mrun_training.py:72\u001b[0m\n",
      "\u001b[37m6.71\u001b[0m GiB                                                      \u001b[2m                  \u001b[0m\n",
      "\u001b[1m[\u001b[0m\u001b[32mINFO\u001b[0m\u001b[1m]\u001b[0m\u001b[1m[\u001b[0m\u001b[3mhtc\u001b[0m\u001b[1m]\u001b[0m Starting training of the fold fold_P094 \u001b[1m[\u001b[0m\u001b[37m2\u001b[0m/\u001b[37m2\u001b[0m\u001b[1m]\u001b[0m    \u001b[2mrun_training.py:293\u001b[0m\n",
      "\u001b[1m[\u001b[0m\u001b[33mWARNING\u001b[0m\u001b[1m]\u001b[0m\u001b[1m[\u001b[0m\u001b[3mpy.warnings\u001b[0m\u001b[1m]\u001b[0m                                            \u001b[2m__init__.py:28\u001b[0m\n",
      "\u001b[35m/home/j562r/miniconda3/envs/htc/lib/python3.12/site-packages/korn\u001b[0m \u001b[2m              \u001b[0m\n",
      "\u001b[35mia/feature/\u001b[0m\u001b[95mlightglue.py\u001b[0m:\u001b[37m44\u001b[0m: FutureWarning:                        \u001b[2m              \u001b[0m\n",
      "`\u001b[1;35mtorch.cuda.amp.custom_fwd\u001b[0m\u001b[1m(\u001b[0margs\u001b[33m...\u001b[0m\u001b[1m)\u001b[0m` is deprecated. Please use    \u001b[2m              \u001b[0m\n",
      "`\u001b[1;35mtorch.amp.custom_fwd\u001b[0m\u001b[1m(\u001b[0margs\u001b[33m...\u001b[0m, \u001b[33mdevice_type\u001b[0m=\u001b[90m'cuda'\u001b[0m\u001b[1m)\u001b[0m` instead.      \u001b[2m              \u001b[0m\n",
      "  @\u001b[1;35mtorch.cuda.amp.custom_fwd\u001b[0m\u001b[1m(\u001b[0m\u001b[33mcast_inputs\u001b[0m=\u001b[35mtorch\u001b[0m.float32\u001b[1m)\u001b[0m           \u001b[2m              \u001b[0m\n",
      "                                                                  \u001b[2m              \u001b[0m\n",
      "\u001b[1m[\u001b[0m\u001b[32mINFO\u001b[0m\u001b[1m]\u001b[0m\u001b[1m[\u001b[0m\u001b[3mhtc\u001b[0m\u001b[1m]\u001b[0m The following config will be used for training    \u001b[2mrun_training.py:80\u001b[0m\n",
      "the segmentation task:                                        \u001b[2m                  \u001b[0m\n",
      "\u001b[1m[\u001b[0m\u001b[32mINFO\u001b[0m\u001b[1m]\u001b[0m\u001b[1m[\u001b[0m\u001b[3mhtc\u001b[0m\u001b[1m]\u001b[0m \u001b[1m{\u001b[0m\u001b[90m'config_name'\u001b[0m: \u001b[90m'config_thoracic'\u001b[0m,                \u001b[2mrun_training.py:81\u001b[0m\n",
      " \u001b[90m'dataloader_kwargs'\u001b[0m: \u001b[1m{\u001b[0m\u001b[90m'batch_size'\u001b[0m: \u001b[37m5\u001b[0m, \u001b[90m'num_workers'\u001b[0m: \u001b[37m1\u001b[0m\u001b[1m}\u001b[0m,    \u001b[2m                  \u001b[0m\n",
      " \u001b[90m'input'\u001b[0m: \u001b[1m{\u001b[0m\u001b[90m'annotation_name'\u001b[0m: \u001b[1m[\u001b[0m\u001b[90m'\u001b[0m\u001b[36mpolygon#annotator1\u001b[0m\u001b[90m'\u001b[0m,          \u001b[2m                  \u001b[0m\n",
      "                               \u001b[90m'\u001b[0m\u001b[36mpolygon#annotator2\u001b[0m\u001b[90m'\u001b[0m,          \u001b[2m                  \u001b[0m\n",
      "                               \u001b[90m'\u001b[0m\u001b[36mpolygon#annotator3\u001b[0m\u001b[90m'\u001b[0m\u001b[1m]\u001b[0m,         \u001b[2m                  \u001b[0m\n",
      "           \u001b[90m'data_spec'\u001b[0m:                                       \u001b[2m                  \u001b[0m\n",
      "\u001b[90m'/home/j562r/htc/src/tutorials/network_training/pigs_thoracic\u001b[0m \u001b[2m                  \u001b[0m\n",
      "\u001b[90m_2folds.json'\u001b[0m,                                                \u001b[2m                  \u001b[0m\n",
      "           \u001b[90m'epoch_size'\u001b[0m: \u001b[37m500\u001b[0m,                                 \u001b[2m                  \u001b[0m\n",
      "           \u001b[90m'merge_annotations'\u001b[0m: \u001b[90m'union'\u001b[0m,                      \u001b[2m                  \u001b[0m\n",
      "           \u001b[90m'n_channels'\u001b[0m: \u001b[37m100\u001b[0m,                                 \u001b[2m                  \u001b[0m\n",
      "           \u001b[90m'preprocessing'\u001b[0m: \u001b[90m'L1'\u001b[0m,                             \u001b[2m                  \u001b[0m\n",
      "           \u001b[90m'transforms_gpu'\u001b[0m: \u001b[1m[\u001b[0m\u001b[1m{\u001b[0m\u001b[90m'class'\u001b[0m: \u001b[90m'KorniaTransform'\u001b[0m,    \u001b[2m                  \u001b[0m\n",
      "                               \u001b[90m'degrees'\u001b[0m: \u001b[37m45\u001b[0m,                 \u001b[2m                  \u001b[0m\n",
      "                               \u001b[90m'p'\u001b[0m: \u001b[37m0.5\u001b[0m,                      \u001b[2m                  \u001b[0m\n",
      "                               \u001b[90m'padding_mode'\u001b[0m: \u001b[90m'reflection'\u001b[0m,  \u001b[2m                  \u001b[0m\n",
      "                               \u001b[90m'scale'\u001b[0m: \u001b[1m[\u001b[0m\u001b[37m0.9\u001b[0m, \u001b[37m1.1\u001b[0m\u001b[1m]\u001b[0m,           \u001b[2m                  \u001b[0m\n",
      "                               \u001b[90m'transformation_name'\u001b[0m:         \u001b[2m                  \u001b[0m\n",
      "\u001b[90m'RandomAffine'\u001b[0m,                                               \u001b[2m                  \u001b[0m\n",
      "                               \u001b[90m'translate'\u001b[0m: \u001b[1m[\u001b[0m\u001b[37m0.0625\u001b[0m,          \u001b[2m                  \u001b[0m\n",
      "\u001b[37m0.0625\u001b[0m\u001b[1m]\u001b[0m\u001b[1m}\u001b[0m,                                                     \u001b[2m                  \u001b[0m\n",
      "                              \u001b[1m{\u001b[0m\u001b[90m'class'\u001b[0m: \u001b[90m'KorniaTransform'\u001b[0m,    \u001b[2m                  \u001b[0m\n",
      "                               \u001b[90m'p'\u001b[0m: \u001b[37m0.25\u001b[0m,                     \u001b[2m                  \u001b[0m\n",
      "                               \u001b[90m'transformation_name'\u001b[0m:         \u001b[2m                  \u001b[0m\n",
      "\u001b[90m'RandomHorizontalFlip'\u001b[0m\u001b[1m}\u001b[0m,                                      \u001b[2m                  \u001b[0m\n",
      "                              \u001b[1m{\u001b[0m\u001b[90m'class'\u001b[0m: \u001b[90m'KorniaTransform'\u001b[0m,    \u001b[2m                  \u001b[0m\n",
      "                               \u001b[90m'p'\u001b[0m: \u001b[37m0.25\u001b[0m,                     \u001b[2m                  \u001b[0m\n",
      "                               \u001b[90m'transformation_name'\u001b[0m:         \u001b[2m                  \u001b[0m\n",
      "\u001b[90m'RandomVerticalFlip'\u001b[0m\u001b[1m}\u001b[0m\u001b[1m]\u001b[0m\u001b[1m}\u001b[0m,                                      \u001b[2m                  \u001b[0m\n",
      " \u001b[90m'label_mapping'\u001b[0m: \u001b[1m{\u001b[0m\u001b[90m'last_valid_label_index'\u001b[0m: \u001b[37m1\u001b[0m,               \u001b[2m                  \u001b[0m\n",
      "                   \u001b[90m'mapping_index_name'\u001b[0m: \u001b[1m{\u001b[0m\u001b[90m'0'\u001b[0m: \u001b[90m'heart'\u001b[0m, \u001b[90m'1'\u001b[0m:  \u001b[2m                  \u001b[0m\n",
      "\u001b[90m'lung'\u001b[0m\u001b[1m}\u001b[0m,                                                      \u001b[2m                  \u001b[0m\n",
      "                   \u001b[90m'mapping_name_index'\u001b[0m: \u001b[1m{\u001b[0m\u001b[90m'heart'\u001b[0m: \u001b[37m0\u001b[0m, \u001b[90m'lung'\u001b[0m: \u001b[2m                  \u001b[0m\n",
      "\u001b[37m1\u001b[0m\u001b[1m}\u001b[0m,                                                           \u001b[2m                  \u001b[0m\n",
      "                   \u001b[90m'unknown_invalid'\u001b[0m: \u001b[3;92mTrue\u001b[0m,                   \u001b[2m                  \u001b[0m\n",
      "                   \u001b[90m'zero_is_invalid'\u001b[0m: \u001b[3;91mFalse\u001b[0m\u001b[1m}\u001b[0m,                 \u001b[2m                  \u001b[0m\n",
      " \u001b[90m'lightning_class'\u001b[0m:                                           \u001b[2m                  \u001b[0m\n",
      "\u001b[90m'/home/j562r/htc/src/tutorials/network_training/LightningImag\u001b[0m \u001b[2m                  \u001b[0m\n",
      "\u001b[90meThoracic.py>LightningImageThoracic'\u001b[0m,                         \u001b[2m                  \u001b[0m\n",
      " \u001b[90m'model'\u001b[0m: \u001b[1m{\u001b[0m\u001b[90m'architecture_kwargs'\u001b[0m: \u001b[1m{\u001b[0m\u001b[90m'encoder_name'\u001b[0m:            \u001b[2m                  \u001b[0m\n",
      "\u001b[90m'efficientnet-b5'\u001b[0m,                                            \u001b[2m                  \u001b[0m\n",
      "                                   \u001b[90m'encoder_weights'\u001b[0m:         \u001b[2m                  \u001b[0m\n",
      "\u001b[90m'imagenet'\u001b[0m\u001b[1m}\u001b[0m,                                                  \u001b[2m                  \u001b[0m\n",
      "           \u001b[90m'architecture_name'\u001b[0m: \u001b[90m'Unet'\u001b[0m,                       \u001b[2m                  \u001b[0m\n",
      "           \u001b[90m'model_name'\u001b[0m: \u001b[90m'ModelImage'\u001b[0m\u001b[1m}\u001b[0m,                       \u001b[2m                  \u001b[0m\n",
      " \u001b[90m'optimization'\u001b[0m: \u001b[1m{\u001b[0m\u001b[90m'lr_scheduler'\u001b[0m: \u001b[1m{\u001b[0m\u001b[90m'gamma'\u001b[0m: \u001b[37m0.99\u001b[0m, \u001b[90m'name'\u001b[0m:     \u001b[2m                  \u001b[0m\n",
      "\u001b[90m'ExponentialLR'\u001b[0m\u001b[1m}\u001b[0m,                                             \u001b[2m                  \u001b[0m\n",
      "                  \u001b[90m'optimizer'\u001b[0m: \u001b[1m{\u001b[0m\u001b[90m'lr'\u001b[0m: \u001b[37m0.001\u001b[0m,                  \u001b[2m                  \u001b[0m\n",
      "                                \u001b[90m'name'\u001b[0m: \u001b[90m'Adam'\u001b[0m,               \u001b[2m                  \u001b[0m\n",
      "                                \u001b[90m'weight_decay'\u001b[0m: \u001b[37m0\u001b[0m\u001b[1m}\u001b[0m\u001b[1m}\u001b[0m,          \u001b[2m                  \u001b[0m\n",
      " \u001b[90m'swa_kwargs'\u001b[0m: \u001b[1m{\u001b[0m\u001b[90m'annealing_epochs'\u001b[0m: \u001b[37m0\u001b[0m\u001b[1m}\u001b[0m,                       \u001b[2m                  \u001b[0m\n",
      " \u001b[90m'trainer_kwargs'\u001b[0m: \u001b[1m{\u001b[0m\u001b[90m'accelerator'\u001b[0m: \u001b[90m'gpu'\u001b[0m,                     \u001b[2m                  \u001b[0m\n",
      "                    \u001b[90m'devices'\u001b[0m: \u001b[37m1\u001b[0m,                             \u001b[2m                  \u001b[0m\n",
      "                    \u001b[90m'enable_progress_bar'\u001b[0m: \u001b[3;91mFalse\u001b[0m,             \u001b[2m                  \u001b[0m\n",
      "                    \u001b[90m'max_epochs'\u001b[0m: \u001b[37m2\u001b[0m,                          \u001b[2m                  \u001b[0m\n",
      "                    \u001b[90m'precision'\u001b[0m: \u001b[90m'16-mixed'\u001b[0m\u001b[1m}\u001b[0m,                 \u001b[2m                  \u001b[0m\n",
      " \u001b[90m'validation'\u001b[0m: \u001b[1m{\u001b[0m\u001b[90m'checkpoint_metric'\u001b[0m: \u001b[90m'dice_metric'\u001b[0m,           \u001b[2m                  \u001b[0m\n",
      "                \u001b[90m'checkpoint_metric_mode'\u001b[0m: \u001b[90m'class_level'\u001b[0m,      \u001b[2m                  \u001b[0m\n",
      "                \u001b[90m'dataset_index'\u001b[0m: \u001b[37m0\u001b[0m\u001b[1m}\u001b[0m\u001b[1m}\u001b[0m                          \u001b[2m                  \u001b[0m\n",
      "Seed set to 1337\n",
      "\u001b[1m[\u001b[0m\u001b[94mDEBUG\u001b[0m\u001b[1m]\u001b[0m\u001b[1m[\u001b[0m\u001b[3mhtc\u001b[0m\u001b[1m]\u001b[0m Used transformations:                             \u001b[2mtransforms.py:127\u001b[0m\n",
      "\u001b[1m[\u001b[0m\u001b[1;35mToType\u001b[0m\u001b[1m(\u001b[0m\u001b[33mdtype\u001b[0m=\u001b[35mtorch\u001b[0m.float16\u001b[1m)\u001b[0m\u001b[1m]\u001b[0m                                  \u001b[2m                 \u001b[0m\n",
      "\u001b[1m[\u001b[0m\u001b[94mDEBUG\u001b[0m\u001b[1m]\u001b[0m\u001b[1m[\u001b[0m\u001b[3mhtc\u001b[0m\u001b[1m]\u001b[0m Used transformations:                             \u001b[2mtransforms.py:127\u001b[0m\n",
      "\u001b[1m[\u001b[0m\u001b[1;35mToType\u001b[0m\u001b[1m(\u001b[0m\u001b[33mdtype\u001b[0m=\u001b[35mtorch\u001b[0m.float16\u001b[1m)\u001b[0m\u001b[1m]\u001b[0m                                  \u001b[2m                 \u001b[0m\n",
      "Using 16bit Automatic Mixed Precision (AMP)\n",
      "GPU available: True (cuda), used: True\n",
      "TPU available: False, using: 0 TPU cores\n",
      "HPU available: False, using: 0 HPUs\n",
      "LOCAL_RANK: 0 - CUDA_VISIBLE_DEVICES: [0]\n",
      "\n",
      "  | Name             | Type             | Params | Mode \n",
      "--------------------------------------------------------------\n",
      "0 | model            | ModelImage       | 31.3 M | train\n",
      "1 | ce_loss_weighted | CrossEntropyLoss | 0      | train\n",
      "2 | dice_loss        | DiceLoss         | 0      | train\n",
      "3 | focal_loss       | FocalLoss        | 0      | train\n",
      "--------------------------------------------------------------\n",
      "31.3 M    Trainable params\n",
      "0         Non-trainable params\n",
      "31.3 M    Total params\n",
      "125.032   Total estimated model params size (MB)\n",
      "666       Modules in train mode\n",
      "0         Modules in eval mode\n",
      "Swapping scheduler `ExponentialLR` for `SWALR`\n",
      "\u001b[1m[\u001b[0m\u001b[94mDEBUG\u001b[0m\u001b[1m]\u001b[0m\u001b[1m[\u001b[0m\u001b[3mhtc\u001b[0m\u001b[1m]\u001b[0m Used transformations:                             \u001b[2mtransforms.py:127\u001b[0m\n",
      "\u001b[1m[\u001b[0m\u001b[1;35mToType\u001b[0m\u001b[1m(\u001b[0m\u001b[33mdtype\u001b[0m=\u001b[35mtorch\u001b[0m.float32\u001b[1m)\u001b[0m, KorniaTransform\u001b[1m]\u001b[0m                 \u001b[2m                 \u001b[0m\n",
      "\u001b[1m[\u001b[0m\u001b[94mDEBUG\u001b[0m\u001b[1m]\u001b[0m\u001b[1m[\u001b[0m\u001b[3mhtc\u001b[0m\u001b[1m]\u001b[0m Used transformations:                             \u001b[2mtransforms.py:127\u001b[0m\n",
      "\u001b[1m[\u001b[0m\u001b[1;35mToType\u001b[0m\u001b[1m(\u001b[0m\u001b[33mdtype\u001b[0m=\u001b[35mtorch\u001b[0m.float32\u001b[1m)\u001b[0m\u001b[1m]\u001b[0m                                  \u001b[2m                 \u001b[0m\n",
      "\u001b[1m[\u001b[0m\u001b[32mINFO\u001b[0m\u001b[1m]\u001b[0m\u001b[1m[\u001b[0m\u001b[3mhtc\u001b[0m\u001b[1m]\u001b[0m Changed check_val_every_n_epoch to \u001b[37m1\u001b[0m and         \u001b[2mHTCLightning.py:213\u001b[0m\n",
      "switched to manual optimization                              \u001b[2m                   \u001b[0m\n",
      "`Trainer.fit` stopped: `max_epochs=3` reached.\n",
      "\u001b[1m[\u001b[0m\u001b[32mINFO\u001b[0m\u001b[1m]\u001b[0m\u001b[1m[\u001b[0m\u001b[3mhtc\u001b[0m\u001b[1m]\u001b[0m Training time for the fold fold_P094: \u001b[37m1\u001b[0m minutes   \u001b[2mrun_training.py:68\u001b[0m\n",
      "and \u001b[37m10.98\u001b[0m seconds                                             \u001b[2m                  \u001b[0m\n",
      "\u001b[1m[\u001b[0m\u001b[32mINFO\u001b[0m\u001b[1m]\u001b[0m\u001b[1m[\u001b[0m\u001b[3mhtc\u001b[0m\u001b[1m]\u001b[0m Peak memory consumption for the fold fold_P094:   \u001b[2mrun_training.py:72\u001b[0m\n",
      "\u001b[37m6.71\u001b[0m GiB                                                      \u001b[2m                  \u001b[0m\n",
      "\u001b[1m[\u001b[0m\u001b[32mINFO\u001b[0m\u001b[1m]\u001b[0m\u001b[1m[\u001b[0m\u001b[3mhtc\u001b[0m\u001b[1m]\u001b[0m Training time for the all folds: \u001b[37m2\u001b[0m minutes and   \u001b[2mrun_training.py:302\u001b[0m\n",
      "\u001b[37m35.20\u001b[0m seconds                                                \u001b[2m                   \u001b[0m\n"
     ]
    }
   ],
   "source": [
    "!htc training --model image --config $config_path\n",
    "assert _exit_code == 0, \"Training was not successful\"  # noqa: F821"
   ]
  },
  {
   "cell_type": "markdown",
   "id": "0ddcd7d1-df01-4288-b0e5-dbd2465c8e68",
   "metadata": {},
   "source": [
    "The results will be stored in your results folder (as set by the `PATH_HTC_RESULTS` environment variable). There will be a subfolder for each fold with the following files:\n",
    "- A copy of your configuration file (`config.json`).\n",
    "- A copy of your data specification file (`data.json`).\n",
    "- The trained network (e.g. `epoch=02-dice_metric=0.90.ckpt`).\n",
    "- TensorBoard events file (e.g. `events.out.tfevents.1670877422.e130-pc27.2610059.0`). This file contains the variables you logged via `self.log()`, e.g. the value of our focal loss. It is also possible to start TensorBoard in the results folder and visualize the values while the network is still training (helpful for debugging).\n",
    "- The log messages you may have seen in your console (or in the above cell) during training saved in a text file (`log.txt`).\n",
    "- Statistics about your CPU and GPU utilization during training (e.g. `system_log_2022-12-12_21-37-00.json`).\n",
    "- Statistics about the seen images during training (`trainings_stats.npz`).\n",
    "- A table with the result of the validation metrics like the dice score computed in the validation step (`validation_results.pkl.xz`)."
   ]
  },
  {
   "cell_type": "code",
   "execution_count": 7,
   "id": "7bc2e9fa-841b-4b64-b4ab-9439c00d9a27",
   "metadata": {},
   "outputs": [
    {
     "data": {
      "text/plain": [
       "[PosixPath('/mnt/ssd_8tb/htc/results_test/training/image'),\n",
       " PosixPath('/mnt/ssd_8tb/htc/results_test/training/image/2024-11-11_11-01-36_config_thoracic'),\n",
       " PosixPath('/mnt/ssd_8tb/htc/results_test/training/image/2024-11-11_11-01-36_config_thoracic/fold_P093'),\n",
       " PosixPath('/mnt/ssd_8tb/htc/results_test/training/image/2024-11-11_11-01-36_config_thoracic/fold_P093/config.json'),\n",
       " PosixPath('/mnt/ssd_8tb/htc/results_test/training/image/2024-11-11_11-01-36_config_thoracic/fold_P093/data.json'),\n",
       " PosixPath('/mnt/ssd_8tb/htc/results_test/training/image/2024-11-11_11-01-36_config_thoracic/fold_P093/events.out.tfevents.1731319299.E130-PC010.989373.0'),\n",
       " PosixPath('/mnt/ssd_8tb/htc/results_test/training/image/2024-11-11_11-01-36_config_thoracic/fold_P093/hparams.yaml'),\n",
       " PosixPath('/mnt/ssd_8tb/htc/results_test/training/image/2024-11-11_11-01-36_config_thoracic/fold_P093/last.ckpt'),\n",
       " PosixPath('/mnt/ssd_8tb/htc/results_test/training/image/2024-11-11_11-01-36_config_thoracic/fold_P093/log.txt'),\n",
       " PosixPath('/mnt/ssd_8tb/htc/results_test/training/image/2024-11-11_11-01-36_config_thoracic/fold_P093/system_log_2024-11-11_11-01-39.json'),\n",
       " PosixPath('/mnt/ssd_8tb/htc/results_test/training/image/2024-11-11_11-01-36_config_thoracic/fold_P093/trainings_stats.npz'),\n",
       " PosixPath('/mnt/ssd_8tb/htc/results_test/training/image/2024-11-11_11-01-36_config_thoracic/fold_P093/validation_results.pkl.xz'),\n",
       " PosixPath('/mnt/ssd_8tb/htc/results_test/training/image/2024-11-11_11-01-36_config_thoracic/fold_P094'),\n",
       " PosixPath('/mnt/ssd_8tb/htc/results_test/training/image/2024-11-11_11-01-36_config_thoracic/fold_P094/config.json'),\n",
       " PosixPath('/mnt/ssd_8tb/htc/results_test/training/image/2024-11-11_11-01-36_config_thoracic/fold_P094/data.json'),\n",
       " PosixPath('/mnt/ssd_8tb/htc/results_test/training/image/2024-11-11_11-01-36_config_thoracic/fold_P094/events.out.tfevents.1731319380.E130-PC010.989844.0'),\n",
       " PosixPath('/mnt/ssd_8tb/htc/results_test/training/image/2024-11-11_11-01-36_config_thoracic/fold_P094/hparams.yaml'),\n",
       " PosixPath('/mnt/ssd_8tb/htc/results_test/training/image/2024-11-11_11-01-36_config_thoracic/fold_P094/last.ckpt'),\n",
       " PosixPath('/mnt/ssd_8tb/htc/results_test/training/image/2024-11-11_11-01-36_config_thoracic/fold_P094/log.txt'),\n",
       " PosixPath('/mnt/ssd_8tb/htc/results_test/training/image/2024-11-11_11-01-36_config_thoracic/fold_P094/system_log_2024-11-11_11-03-00.json'),\n",
       " PosixPath('/mnt/ssd_8tb/htc/results_test/training/image/2024-11-11_11-01-36_config_thoracic/fold_P094/trainings_stats.npz'),\n",
       " PosixPath('/mnt/ssd_8tb/htc/results_test/training/image/2024-11-11_11-01-36_config_thoracic/fold_P094/validation_results.pkl.xz'),\n",
       " PosixPath('/mnt/ssd_8tb/htc/results_test/training/image/2024-11-11_11-01-36_config_thoracic/log.txt')]"
      ]
     },
     "execution_count": 7,
     "metadata": {},
     "output_type": "execute_result"
    }
   ],
   "source": [
    "sorted(settings.training_dir.rglob(\"*\"))"
   ]
  },
  {
   "cell_type": "markdown",
   "id": "aaa6fd23-6278-4708-bb37-3e04124e2b5e",
   "metadata": {},
   "source": [
    "## Aggregating and Visualizing\n",
    "After we trained our network, we would like to know wheter it performs well. You could have visualized the metric scores with TensorBoard but this is only a single view on a single fold. What we want is a holistic view on our network performance. This includes aggregation across folds and correctly aggregating with respect to the hierarchy in the data. The later is easy to miss: we cannot simply average our performance scores across all images as the number of images per subject is not always the same (even not in our standardized dataset). What is more, images from one subject are not independent from each other leading to common [pitfalls](https://arxiv.org/abs/2206.01653). Hence, we always first want to aggregate for each subject independently from each other and then across subjects. In the htc framework, the [`MetricAggregation`](../../htc/models/common/MetricAggregation.py) class is responsible for this.\n",
    "\n",
    "So, what we would like to have is a summary of our training run with nice visualizations for our scores which are aggregated while respecting the hierarchy in the data. Here, the general idea is to write one Jupyter Notebook which contains all these aggregations and visualizations for one training run and then use this as a template to generate it for every trained network. The notebook itself is highly task-specific but there are some notebook in this repository which you can use as reference. Especially for this tutorial, there is also a notebook in this folder which we now want to use. To use this as template for our training run, execute the following command:"
   ]
  },
  {
   "cell_type": "code",
   "execution_count": 8,
   "id": "fcb95067-aa3d-487f-8cee-2a9c34df93f6",
   "metadata": {},
   "outputs": [],
   "source": [
    "notebook_path = tutorial_dir / \"ExperimentAnalysis.ipynb\"\n",
    "assert notebook_path.exists()"
   ]
  },
  {
   "cell_type": "code",
   "execution_count": 9,
   "id": "72d183ac-6154-4ec4-8d38-65fa5d16ebd8",
   "metadata": {},
   "outputs": [
    {
     "name": "stdout",
     "output_type": "stream",
     "text": [
      "\u001b[1m[\u001b[0m\u001b[33mWARNING\u001b[0m\u001b[1m]\u001b[0m\u001b[1m[\u001b[0m\u001b[3mpy.warnings\u001b[0m\u001b[1m]\u001b[0m                                           \u001b[2mwarnings.py:112\u001b[0m\n",
      "\u001b[35m/home/j562r/miniconda3/envs/htc/lib/python3.12/site-packages/kor\u001b[0m \u001b[2m               \u001b[0m\n",
      "\u001b[35mnia/feature/\u001b[0m\u001b[95mlightglue.py\u001b[0m:\u001b[37m44\u001b[0m: FutureWarning:                      \u001b[2m               \u001b[0m\n",
      "`\u001b[1;35mtorch.cuda.amp.custom_fwd\u001b[0m\u001b[1m(\u001b[0margs\u001b[33m...\u001b[0m\u001b[1m)\u001b[0m` is deprecated. Please use   \u001b[2m               \u001b[0m\n",
      "`\u001b[1;35mtorch.amp.custom_fwd\u001b[0m\u001b[1m(\u001b[0margs\u001b[33m...\u001b[0m, \u001b[33mdevice_type\u001b[0m=\u001b[90m'cuda'\u001b[0m\u001b[1m)\u001b[0m` instead.     \u001b[2m               \u001b[0m\n",
      "  @\u001b[1;35mtorch.cuda.amp.custom_fwd\u001b[0m\u001b[1m(\u001b[0m\u001b[33mcast_inputs\u001b[0m=\u001b[35mtorch\u001b[0m.float32\u001b[1m)\u001b[0m          \u001b[2m               \u001b[0m\n",
      "                                                                 \u001b[2m               \u001b[0m\n",
      "\u001b[1m[\u001b[0m\u001b[32mINFO\u001b[0m\u001b[1m]\u001b[0m\u001b[1m[\u001b[0m\u001b[3mhtc\u001b[0m\u001b[1m]\u001b[0m Will generate results for the following  \u001b[2mrun_table_generation.py:455\u001b[0m\n",
      "runs:                                                \u001b[2m                           \u001b[0m\n",
      "\u001b[1m[\u001b[0m\u001b[32mINFO\u001b[0m\u001b[1m]\u001b[0m\u001b[1m[\u001b[0m\u001b[3mhtc\u001b[0m\u001b[1m]\u001b[0m                                          \u001b[2mrun_table_generation.py:457\u001b[0m\n",
      "image/\u001b[37m2024\u001b[0m-\u001b[37m11\u001b[0m-11_11-\u001b[37m01\u001b[0m-36_config_thoracic            \u001b[2m                           \u001b[0m\n",
      "\u001b[2K\u001b[36mCheck for necessary files\u001b[0m \u001b[90m━━━━━━━━━━━━━━━━━━━━━━━━━━━━━━━\u001b[0m \u001b[35m100%\u001b[0m \u001b[36m0:00:00\u001b[0m \u001b[33m0:00:00\u001b[0m \u001b[31m?\u001b[0m\n",
      "\u001b[2K\u001b[36mCreate validation table\u001b[0m \u001b[90m━━━━━━━━━━━━━━━━━━━━━━━━━━━━━━━━━\u001b[0m \u001b[35m100%\u001b[0m \u001b[36m0:00:00\u001b[0m \u001b[33m0:00:00\u001b[0m \u001b[31m?\u001b[0m\n",
      "\u001b[2K\u001b[36mCreate test table\u001b[0m \u001b[90m━━━━━━━━━━━━━━━━━━━━━━━━━━━━━━━━━━━━━━━\u001b[0m \u001b[35m100%\u001b[0m \u001b[36m0:00:00\u001b[0m \u001b[33m0:00:00\u001b[0m \u001b[31m?\u001b[0m\n",
      "\u001b[2K\u001b[36mValidate tables\u001b[0m \u001b[90m━━━━━━━━━━━━━━━━━━━━━━━━━━━━━━━━━━━━━━━━\u001b[0m \u001b[35m100%\u001b[0m \u001b[36m0:00:00\u001b[0m \u001b[33m0:00:00\u001b[0m \u001b[31m?\u001b[0m\n",
      "\u001b[?25h\u001b[1m[\u001b[0m\u001b[32mINFO\u001b[0m\u001b[1m]\u001b[0m\u001b[1m[\u001b[0m\u001b[3mhtc\u001b[0m\u001b[1m]\u001b[0m Creating notebooks\u001b[33m...\u001b[0m                    \u001b[2mrun_table_generation.py:469\u001b[0m\n",
      "\u001b[2KGenerate notebooks \u001b[90m━━━━━━━━━━━━━━━━━━━━━━━━━━━━━━━━━━━━━━━━\u001b[0m \u001b[35m  0%\u001b[0m \u001b[36m-:--:--\u001b[0m\u001b[1m[\u001b[0m\u001b[32mINFO\u001b[0m\u001b[1m]\u001b[0m\u001b[1m[\u001b[0m\u001b[3mhtc.no_duplicates\u001b[0m\u001b[1m]\u001b[0m Using the notebook         \u001b[2mrun_table_generation.py:405\u001b[0m\n",
      "\u001b[35m/home/j562r/htc/src/tutorials/network_training/\u001b[0m\u001b[95mExper\u001b[0m \u001b[2m                           \u001b[0m\n",
      "\u001b[95mimentAnalysis.ipynb\u001b[0m                                  \u001b[2m                           \u001b[0m\n",
      "\u001b[2KGenerate notebooks \u001b[90m━━━━━━━━━━━━━━━━━━━━━━━━━━━━━━━━━━━━━━━━\u001b[0m \u001b[35m100%\u001b[0m \u001b[33m0:00:03\u001b[0m\n",
      "\u001b[?25h"
     ]
    }
   ],
   "source": [
    "!htc table_generation --notebook $notebook_path\n",
    "assert _exit_code == 0, \"Table generation was not successful\"  # noqa: F821"
   ]
  },
  {
   "cell_type": "markdown",
   "id": "63dd91f4-930f-47c6-ac60-b8ad10db85fc",
   "metadata": {},
   "source": [
    "In the run directory for our training run, there are now several new files:\n",
    "- Most importantly, `ExperimentAnalysis.html` which gives you all the promised visualizations from before.\n",
    "- `config.json` and `data.json` for easier access the configuration and data specifcation for the complete training run.\n",
    "- `validation_table.pkl.xz` is a table with all the validation data from all folds (we are using this table in the generated notebook)."
   ]
  },
  {
   "cell_type": "code",
   "execution_count": 10,
   "id": "44d9773e-03bc-43ee-9d3d-093de992d008",
   "metadata": {},
   "outputs": [
    {
     "data": {
      "text/plain": [
       "[PosixPath('/mnt/ssd_8tb/htc/results_test/training/image/2024-11-11_11-01-36_config_thoracic/ExperimentAnalysis.html'),\n",
       " PosixPath('/mnt/ssd_8tb/htc/results_test/training/image/2024-11-11_11-01-36_config_thoracic/config.json'),\n",
       " PosixPath('/mnt/ssd_8tb/htc/results_test/training/image/2024-11-11_11-01-36_config_thoracic/data.json'),\n",
       " PosixPath('/mnt/ssd_8tb/htc/results_test/training/image/2024-11-11_11-01-36_config_thoracic/fold_P093'),\n",
       " PosixPath('/mnt/ssd_8tb/htc/results_test/training/image/2024-11-11_11-01-36_config_thoracic/fold_P094'),\n",
       " PosixPath('/mnt/ssd_8tb/htc/results_test/training/image/2024-11-11_11-01-36_config_thoracic/log.txt'),\n",
       " PosixPath('/mnt/ssd_8tb/htc/results_test/training/image/2024-11-11_11-01-36_config_thoracic/validation_table.pkl.xz')]"
      ]
     },
     "execution_count": 10,
     "metadata": {},
     "output_type": "execute_result"
    }
   ],
   "source": [
    "run_dir = sorted((settings.training_dir / \"image\").iterdir())[-1]\n",
    "run_folder = run_dir.name\n",
    "sorted(run_dir.iterdir())"
   ]
  },
  {
   "cell_type": "markdown",
   "id": "7711632a-175c-4e61-a89e-e1e83d0ba9ac",
   "metadata": {},
   "source": [
    "> The `table_generation` command iterates over all available run directories and applies your notebook template to all \"empty\" runs. That is, if you want to re-apply a notebook, simply delete the existing `ExperimentAnalysis.html` and `validation_table.pkl.xz` files. They will be re-generated."
   ]
  },
  {
   "cell_type": "markdown",
   "id": "761e2674-7cd3-4fb9-be0e-2db30d1d73b2",
   "metadata": {},
   "source": [
    "## Bonus: Visualizing Network Predictions\n",
    "If you are (not only) interested in the aggregated visualizations but would also get a feeling of the network predictions, then we got you covered. With the following command, you will get a figure for each image in the validation set which visualized the network output together with the network confidence (but uncalibrated!) and the reference segmentation as comparison. The command works on each fold separately. It will load the network for the corresponding fold and then make predictions for all images which are part of the validation set of this fold. This means that not the same network is used for all images.\n",
    "> Adding the `--test` switch will give you the predictions for all images in the test set (by default with network ensembling across the folds)."
   ]
  },
  {
   "cell_type": "code",
   "execution_count": 11,
   "id": "7045b02c-e279-4a12-a0c4-a4a5e305dc0c",
   "metadata": {},
   "outputs": [
    {
     "name": "stdout",
     "output_type": "stream",
     "text": [
      "\u001b[1m[\u001b[0m\u001b[33mWARNING\u001b[0m\u001b[1m]\u001b[0m\u001b[1m[\u001b[0m\u001b[3mpy.warnings\u001b[0m\u001b[1m]\u001b[0m                                            \u001b[2m__init__.py:28\u001b[0m\n",
      "\u001b[35m/home/j562r/miniconda3/envs/htc/lib/python3.12/site-packages/korn\u001b[0m \u001b[2m              \u001b[0m\n",
      "\u001b[35mia/feature/\u001b[0m\u001b[95mlightglue.py\u001b[0m:\u001b[37m44\u001b[0m: FutureWarning:                        \u001b[2m              \u001b[0m\n",
      "`\u001b[1;35mtorch.cuda.amp.custom_fwd\u001b[0m\u001b[1m(\u001b[0margs\u001b[33m...\u001b[0m\u001b[1m)\u001b[0m` is deprecated. Please use    \u001b[2m              \u001b[0m\n",
      "`\u001b[1;35mtorch.amp.custom_fwd\u001b[0m\u001b[1m(\u001b[0margs\u001b[33m...\u001b[0m, \u001b[33mdevice_type\u001b[0m=\u001b[90m'cuda'\u001b[0m\u001b[1m)\u001b[0m` instead.      \u001b[2m              \u001b[0m\n",
      "  @\u001b[1;35mtorch.cuda.amp.custom_fwd\u001b[0m\u001b[1m(\u001b[0m\u001b[33mcast_inputs\u001b[0m=\u001b[35mtorch\u001b[0m.float32\u001b[1m)\u001b[0m           \u001b[2m              \u001b[0m\n",
      "                                                                  \u001b[2m              \u001b[0m\n",
      "\u001b[1m[\u001b[0m\u001b[32mINFO\u001b[0m\u001b[1m]\u001b[0m\u001b[1m[\u001b[0m\u001b[3mhtc.no_duplicates\u001b[0m\u001b[1m]\u001b[0m Found pretrained run in the local      \u001b[2mHTCModel.py:600\u001b[0m\n",
      "results dir at                                                   \u001b[2m               \u001b[0m\n",
      "\u001b[35m/mnt/ssd_8tb/htc/results_test/training/image/\u001b[0m\u001b[95m2024-11-11_11-01-36\u001b[0m \u001b[2m               \u001b[0m\n",
      "\u001b[95m_config_thoracic\u001b[0m                                                 \u001b[2m               \u001b[0m\n",
      "\u001b[1m[\u001b[0m\u001b[32mINFO\u001b[0m\u001b[1m]\u001b[0m\u001b[1m[\u001b[0m\u001b[3mhtc\u001b[0m\u001b[1m]\u001b[0m Activating the test set of the data specification file \u001b[2mRunner.py:252\u001b[0m\n",
      "\u001b[1m[\u001b[0m\u001b[32mINFO\u001b[0m\u001b[1m]\u001b[0m\u001b[1m[\u001b[0m\u001b[3mhtc\u001b[0m\u001b[1m]\u001b[0m Working on run dir:                        \u001b[2mValidationPredictor.py:18\u001b[0m\n",
      "\u001b[35m/mnt/ssd_8tb/htc/results_test/training/image/\u001b[0m\u001b[95m2024-11-1\u001b[0m \u001b[2m                         \u001b[0m\n",
      "\u001b[95m1_11-01-36_config_thoracic\u001b[0m                             \u001b[2m                         \u001b[0m\n"
     ]
    }
   ],
   "source": [
    "!htc image_figures --model image --run-folder $run_folder --hide-progressbar\n",
    "assert _exit_code == 0, \"Figure generation was not successful\"  # noqa: F821"
   ]
  },
  {
   "cell_type": "markdown",
   "id": "047b3289-a540-40b9-b3f2-42dc574be19b",
   "metadata": {},
   "source": [
    "## Performance On the Untouched Test Set\n",
    "So far, we only assessed our network performance on the validation data and this is a good thing. For all your experiments and network comparisons, you should use the validation set. Only at the very end, it is time to analyse the performance on the untouched test set. Let's assume we are finished with our experiments and would like to know about the performance on the test set. For this you can use the following command which will create a `test_table.pkl.xz` in our run directory. This is very similar to our `validation_table.pkl.xz` just with scores on the test set and no per epoch values."
   ]
  },
  {
   "cell_type": "code",
   "execution_count": 12,
   "id": "e4d15615-739c-460f-a410-915bf3e9fa4a",
   "metadata": {},
   "outputs": [
    {
     "name": "stdout",
     "output_type": "stream",
     "text": [
      "\u001b[1m[\u001b[0m\u001b[33mWARNING\u001b[0m\u001b[1m]\u001b[0m\u001b[1m[\u001b[0m\u001b[3mpy.warnings\u001b[0m\u001b[1m]\u001b[0m                                            \u001b[2m__init__.py:28\u001b[0m\n",
      "\u001b[35m/home/j562r/miniconda3/envs/htc/lib/python3.12/site-packages/korn\u001b[0m \u001b[2m              \u001b[0m\n",
      "\u001b[35mia/feature/\u001b[0m\u001b[95mlightglue.py\u001b[0m:\u001b[37m44\u001b[0m: FutureWarning:                        \u001b[2m              \u001b[0m\n",
      "`\u001b[1;35mtorch.cuda.amp.custom_fwd\u001b[0m\u001b[1m(\u001b[0margs\u001b[33m...\u001b[0m\u001b[1m)\u001b[0m` is deprecated. Please use    \u001b[2m              \u001b[0m\n",
      "`\u001b[1;35mtorch.amp.custom_fwd\u001b[0m\u001b[1m(\u001b[0margs\u001b[33m...\u001b[0m, \u001b[33mdevice_type\u001b[0m=\u001b[90m'cuda'\u001b[0m\u001b[1m)\u001b[0m` instead.      \u001b[2m              \u001b[0m\n",
      "  @\u001b[1;35mtorch.cuda.amp.custom_fwd\u001b[0m\u001b[1m(\u001b[0m\u001b[33mcast_inputs\u001b[0m=\u001b[35mtorch\u001b[0m.float32\u001b[1m)\u001b[0m           \u001b[2m              \u001b[0m\n",
      "                                                                  \u001b[2m              \u001b[0m\n",
      "\u001b[1m[\u001b[0m\u001b[32mINFO\u001b[0m\u001b[1m]\u001b[0m\u001b[1m[\u001b[0m\u001b[3mhtc.no_duplicates\u001b[0m\u001b[1m]\u001b[0m Found pretrained run in the local      \u001b[2mHTCModel.py:600\u001b[0m\n",
      "results dir at                                                   \u001b[2m               \u001b[0m\n",
      "\u001b[35m/mnt/ssd_8tb/htc/results_test/training/image/\u001b[0m\u001b[95m2024-11-11_11-01-36\u001b[0m \u001b[2m               \u001b[0m\n",
      "\u001b[95m_config_thoracic\u001b[0m                                                 \u001b[2m               \u001b[0m\n",
      "\u001b[1m[\u001b[0m\u001b[32mINFO\u001b[0m\u001b[1m]\u001b[0m\u001b[1m[\u001b[0m\u001b[3mhtc\u001b[0m\u001b[1m]\u001b[0m Activating the test set of the data specification file \u001b[2mRunner.py:252\u001b[0m\n",
      "\u001b[2KDataloader \u001b[90m━━━━━━━━━━━━━━━━━━━━━━━━━━━━━━━━━━━━━━━━\u001b[0m \u001b[35m100%\u001b[0m \u001b[36m0:00:00\u001b[0m \u001b[33m0:00:25\u001b[0mm \u001b[33m0:00:25\u001b[0m\n",
      "\u001b[?25h"
     ]
    }
   ],
   "source": [
    "!htc tables --model image --run-folder $run_folder --test --metrics DSC\n",
    "assert _exit_code == 0, \"Table generation was not successful\"  # noqa: F821"
   ]
  },
  {
   "cell_type": "code",
   "execution_count": 13,
   "id": "15d87c40-552f-4964-a6ff-288341ae4a30",
   "metadata": {},
   "outputs": [
    {
     "data": {
      "text/html": [
       "<div>\n",
       "<style scoped>\n",
       "    .dataframe tbody tr th:only-of-type {\n",
       "        vertical-align: middle;\n",
       "    }\n",
       "\n",
       "    .dataframe tbody tr th {\n",
       "        vertical-align: top;\n",
       "    }\n",
       "\n",
       "    .dataframe thead th {\n",
       "        text-align: right;\n",
       "    }\n",
       "</style>\n",
       "<table border=\"1\" class=\"dataframe\">\n",
       "  <thead>\n",
       "    <tr style=\"text-align: right;\">\n",
       "      <th></th>\n",
       "      <th>dice_metric</th>\n",
       "      <th>dice_metric_image</th>\n",
       "      <th>confusion_matrix</th>\n",
       "      <th>ece</th>\n",
       "      <th>used_labels</th>\n",
       "      <th>image_name</th>\n",
       "      <th>subject_name</th>\n",
       "      <th>timestamp</th>\n",
       "      <th>annotation_name</th>\n",
       "    </tr>\n",
       "  </thead>\n",
       "  <tbody>\n",
       "    <tr>\n",
       "      <th>0</th>\n",
       "      <td>[1.0]</td>\n",
       "      <td>1.0</td>\n",
       "      <td>[[0, 0], [0, 11137]]</td>\n",
       "      <td>{'error': 0.0026515661738812923, 'accuracies':...</td>\n",
       "      <td>[1]</td>\n",
       "      <td>P095#2021_05_02_19_40_40</td>\n",
       "      <td>P095</td>\n",
       "      <td>2021_05_02_19_40_40</td>\n",
       "      <td>None</td>\n",
       "    </tr>\n",
       "    <tr>\n",
       "      <th>1</th>\n",
       "      <td>[1.0]</td>\n",
       "      <td>1.0</td>\n",
       "      <td>[[0, 0], [0, 22304]]</td>\n",
       "      <td>{'error': 0.0018224716186523438, 'accuracies':...</td>\n",
       "      <td>[1]</td>\n",
       "      <td>P095#2021_05_02_19_38_54</td>\n",
       "      <td>P095</td>\n",
       "      <td>2021_05_02_19_38_54</td>\n",
       "      <td>None</td>\n",
       "    </tr>\n",
       "    <tr>\n",
       "      <th>2</th>\n",
       "      <td>[1.0]</td>\n",
       "      <td>1.0</td>\n",
       "      <td>[[0, 0], [0, 24448]]</td>\n",
       "      <td>{'error': 0.0030228495597839355, 'accuracies':...</td>\n",
       "      <td>[1]</td>\n",
       "      <td>P095#2021_05_02_19_37_28</td>\n",
       "      <td>P095</td>\n",
       "      <td>2021_05_02_19_37_28</td>\n",
       "      <td>None</td>\n",
       "    </tr>\n",
       "    <tr>\n",
       "      <th>3</th>\n",
       "      <td>[1.0]</td>\n",
       "      <td>1.0</td>\n",
       "      <td>[[0, 0], [0, 12006]]</td>\n",
       "      <td>{'error': 0.002128005027770996, 'accuracies': ...</td>\n",
       "      <td>[1]</td>\n",
       "      <td>P095#2021_05_02_19_40_06</td>\n",
       "      <td>P095</td>\n",
       "      <td>2021_05_02_19_40_06</td>\n",
       "      <td>None</td>\n",
       "    </tr>\n",
       "    <tr>\n",
       "      <th>4</th>\n",
       "      <td>[1.0]</td>\n",
       "      <td>1.0</td>\n",
       "      <td>[[0, 0], [0, 12090]]</td>\n",
       "      <td>{'error': 0.0024472211953252554, 'accuracies':...</td>\n",
       "      <td>[1]</td>\n",
       "      <td>P095#2021_05_02_19_40_23</td>\n",
       "      <td>P095</td>\n",
       "      <td>2021_05_02_19_40_23</td>\n",
       "      <td>None</td>\n",
       "    </tr>\n",
       "  </tbody>\n",
       "</table>\n",
       "</div>"
      ],
      "text/plain": [
       "  dice_metric  dice_metric_image      confusion_matrix  \\\n",
       "0       [1.0]                1.0  [[0, 0], [0, 11137]]   \n",
       "1       [1.0]                1.0  [[0, 0], [0, 22304]]   \n",
       "2       [1.0]                1.0  [[0, 0], [0, 24448]]   \n",
       "3       [1.0]                1.0  [[0, 0], [0, 12006]]   \n",
       "4       [1.0]                1.0  [[0, 0], [0, 12090]]   \n",
       "\n",
       "                                                 ece used_labels  \\\n",
       "0  {'error': 0.0026515661738812923, 'accuracies':...         [1]   \n",
       "1  {'error': 0.0018224716186523438, 'accuracies':...         [1]   \n",
       "2  {'error': 0.0030228495597839355, 'accuracies':...         [1]   \n",
       "3  {'error': 0.002128005027770996, 'accuracies': ...         [1]   \n",
       "4  {'error': 0.0024472211953252554, 'accuracies':...         [1]   \n",
       "\n",
       "                 image_name subject_name            timestamp annotation_name  \n",
       "0  P095#2021_05_02_19_40_40         P095  2021_05_02_19_40_40            None  \n",
       "1  P095#2021_05_02_19_38_54         P095  2021_05_02_19_38_54            None  \n",
       "2  P095#2021_05_02_19_37_28         P095  2021_05_02_19_37_28            None  \n",
       "3  P095#2021_05_02_19_40_06         P095  2021_05_02_19_40_06            None  \n",
       "4  P095#2021_05_02_19_40_23         P095  2021_05_02_19_40_23            None  "
      ]
     },
     "execution_count": 13,
     "metadata": {},
     "output_type": "execute_result"
    }
   ],
   "source": [
    "df_test = pd.read_pickle(run_dir / \"test_table.pkl.xz\")\n",
    "config = Config(run_dir / \"config.json\")\n",
    "agg_test = MetricAggregation(df_test, config, metrics=[\"dice_metric\"])\n",
    "df_test.head()"
   ]
  },
  {
   "cell_type": "markdown",
   "id": "a9e7541d-449b-4c5e-bc6a-09f807713e62",
   "metadata": {},
   "source": [
    "We could now show similar visualizations as before but to keep it simple, we only look at the class scores."
   ]
  },
  {
   "cell_type": "code",
   "execution_count": 14,
   "id": "901c1ce7-328d-432f-96e5-2c0aaec4a220",
   "metadata": {},
   "outputs": [
    {
     "data": {
      "text/html": [
       "        <script type=\"text/javascript\">\n",
       "        window.PlotlyConfig = {MathJaxConfig: 'local'};\n",
       "        if (window.MathJax && window.MathJax.Hub && window.MathJax.Hub.Config) {window.MathJax.Hub.Config({SVG: {font: \"STIX-Web\"}});}\n",
       "        if (typeof require !== 'undefined') {\n",
       "        require.undef(\"plotly\");\n",
       "        requirejs.config({\n",
       "            paths: {\n",
       "                'plotly': ['https://cdn.plot.ly/plotly-2.35.2.min']\n",
       "            }\n",
       "        });\n",
       "        require(['plotly'], function(Plotly) {\n",
       "            window._Plotly = Plotly;\n",
       "        });\n",
       "        }\n",
       "        </script>\n",
       "        "
      ]
     },
     "metadata": {},
     "output_type": "display_data"
    },
    {
     "data": {
      "application/vnd.plotly.v1+json": {
       "config": {
        "plotlyServerURL": "https://plot.ly"
       },
       "data": [
        {
         "marker": {
          "color": [
           "#5267C7",
           "#0DA07C"
          ]
         },
         "name": "counts",
         "showlegend": false,
         "type": "bar",
         "x": [
          "lung",
          "heart"
         ],
         "xaxis": "x",
         "y": [
          36,
          36
         ],
         "yaxis": "y"
        },
        {
         "marker": {
          "color": [
           "#5267C7",
           "#0DA07C"
          ]
         },
         "name": "counts",
         "showlegend": false,
         "type": "bar",
         "x": [
          "lung",
          "heart"
         ],
         "xaxis": "x2",
         "y": [
          828261,
          473202
         ],
         "yaxis": "y2"
        },
        {
         "alignmentgroup": "True",
         "boxpoints": "all",
         "customdata": [
          [
           "P095"
          ]
         ],
         "hovertemplate": "label_name=%{x}<br>dice_metric=%{y}<br>subject_name=%{customdata[0]}<extra></extra>",
         "legendgroup": "lung",
         "marker": {
          "color": "#5267C7"
         },
         "name": "lung",
         "notched": false,
         "offsetgroup": "lung",
         "orientation": "v",
         "showlegend": true,
         "type": "box",
         "x": [
          "lung"
         ],
         "x0": " ",
         "xaxis": "x3",
         "y": [
          0.9999937481350368
         ],
         "y0": " ",
         "yaxis": "y3"
        },
        {
         "alignmentgroup": "True",
         "boxpoints": "all",
         "customdata": [
          [
           "P095"
          ]
         ],
         "hovertemplate": "label_name=%{x}<br>dice_metric=%{y}<br>subject_name=%{customdata[0]}<extra></extra>",
         "legendgroup": "heart",
         "marker": {
          "color": "#0DA07C"
         },
         "name": "heart",
         "notched": false,
         "offsetgroup": "heart",
         "orientation": "v",
         "showlegend": true,
         "type": "box",
         "x": [
          "heart"
         ],
         "x0": " ",
         "xaxis": "x3",
         "y": [
          0.7840678956773546
         ],
         "y0": " ",
         "yaxis": "y3"
        }
       ],
       "layout": {
        "annotations": [
         {
          "font": {
           "size": 16
          },
          "showarrow": false,
          "text": "Total image counts",
          "x": 0.5,
          "xanchor": "center",
          "xref": "paper",
          "y": 1,
          "yanchor": "bottom",
          "yref": "paper"
         },
         {
          "font": {
           "size": 16
          },
          "showarrow": false,
          "text": "Total pixel counts ",
          "x": 0.5,
          "xanchor": "center",
          "xref": "paper",
          "y": 0.6111111111111112,
          "yanchor": "bottom",
          "yref": "paper"
         },
         {
          "font": {
           "size": 16
          },
          "showarrow": false,
          "text": "Class dice across subjects",
          "x": 0.5,
          "xanchor": "center",
          "xref": "paper",
          "y": 0.22222222222222224,
          "yanchor": "bottom",
          "yref": "paper"
         }
        ],
        "height": 700,
        "template": {
         "data": {
          "bar": [
           {
            "error_x": {
             "color": "#2a3f5f"
            },
            "error_y": {
             "color": "#2a3f5f"
            },
            "marker": {
             "line": {
              "color": "#E5ECF6",
              "width": 0.5
             },
             "pattern": {
              "fillmode": "overlay",
              "size": 10,
              "solidity": 0.2
             }
            },
            "type": "bar"
           }
          ],
          "barpolar": [
           {
            "marker": {
             "line": {
              "color": "#E5ECF6",
              "width": 0.5
             },
             "pattern": {
              "fillmode": "overlay",
              "size": 10,
              "solidity": 0.2
             }
            },
            "type": "barpolar"
           }
          ],
          "carpet": [
           {
            "aaxis": {
             "endlinecolor": "#2a3f5f",
             "gridcolor": "white",
             "linecolor": "white",
             "minorgridcolor": "white",
             "startlinecolor": "#2a3f5f"
            },
            "baxis": {
             "endlinecolor": "#2a3f5f",
             "gridcolor": "white",
             "linecolor": "white",
             "minorgridcolor": "white",
             "startlinecolor": "#2a3f5f"
            },
            "type": "carpet"
           }
          ],
          "choropleth": [
           {
            "colorbar": {
             "outlinewidth": 0,
             "ticks": ""
            },
            "type": "choropleth"
           }
          ],
          "contour": [
           {
            "colorbar": {
             "outlinewidth": 0,
             "ticks": ""
            },
            "colorscale": [
             [
              0,
              "#0d0887"
             ],
             [
              0.1111111111111111,
              "#46039f"
             ],
             [
              0.2222222222222222,
              "#7201a8"
             ],
             [
              0.3333333333333333,
              "#9c179e"
             ],
             [
              0.4444444444444444,
              "#bd3786"
             ],
             [
              0.5555555555555556,
              "#d8576b"
             ],
             [
              0.6666666666666666,
              "#ed7953"
             ],
             [
              0.7777777777777778,
              "#fb9f3a"
             ],
             [
              0.8888888888888888,
              "#fdca26"
             ],
             [
              1,
              "#f0f921"
             ]
            ],
            "type": "contour"
           }
          ],
          "contourcarpet": [
           {
            "colorbar": {
             "outlinewidth": 0,
             "ticks": ""
            },
            "type": "contourcarpet"
           }
          ],
          "heatmap": [
           {
            "colorbar": {
             "outlinewidth": 0,
             "ticks": ""
            },
            "colorscale": [
             [
              0,
              "#0d0887"
             ],
             [
              0.1111111111111111,
              "#46039f"
             ],
             [
              0.2222222222222222,
              "#7201a8"
             ],
             [
              0.3333333333333333,
              "#9c179e"
             ],
             [
              0.4444444444444444,
              "#bd3786"
             ],
             [
              0.5555555555555556,
              "#d8576b"
             ],
             [
              0.6666666666666666,
              "#ed7953"
             ],
             [
              0.7777777777777778,
              "#fb9f3a"
             ],
             [
              0.8888888888888888,
              "#fdca26"
             ],
             [
              1,
              "#f0f921"
             ]
            ],
            "type": "heatmap"
           }
          ],
          "heatmapgl": [
           {
            "colorbar": {
             "outlinewidth": 0,
             "ticks": ""
            },
            "colorscale": [
             [
              0,
              "#0d0887"
             ],
             [
              0.1111111111111111,
              "#46039f"
             ],
             [
              0.2222222222222222,
              "#7201a8"
             ],
             [
              0.3333333333333333,
              "#9c179e"
             ],
             [
              0.4444444444444444,
              "#bd3786"
             ],
             [
              0.5555555555555556,
              "#d8576b"
             ],
             [
              0.6666666666666666,
              "#ed7953"
             ],
             [
              0.7777777777777778,
              "#fb9f3a"
             ],
             [
              0.8888888888888888,
              "#fdca26"
             ],
             [
              1,
              "#f0f921"
             ]
            ],
            "type": "heatmapgl"
           }
          ],
          "histogram": [
           {
            "marker": {
             "pattern": {
              "fillmode": "overlay",
              "size": 10,
              "solidity": 0.2
             }
            },
            "type": "histogram"
           }
          ],
          "histogram2d": [
           {
            "colorbar": {
             "outlinewidth": 0,
             "ticks": ""
            },
            "colorscale": [
             [
              0,
              "#0d0887"
             ],
             [
              0.1111111111111111,
              "#46039f"
             ],
             [
              0.2222222222222222,
              "#7201a8"
             ],
             [
              0.3333333333333333,
              "#9c179e"
             ],
             [
              0.4444444444444444,
              "#bd3786"
             ],
             [
              0.5555555555555556,
              "#d8576b"
             ],
             [
              0.6666666666666666,
              "#ed7953"
             ],
             [
              0.7777777777777778,
              "#fb9f3a"
             ],
             [
              0.8888888888888888,
              "#fdca26"
             ],
             [
              1,
              "#f0f921"
             ]
            ],
            "type": "histogram2d"
           }
          ],
          "histogram2dcontour": [
           {
            "colorbar": {
             "outlinewidth": 0,
             "ticks": ""
            },
            "colorscale": [
             [
              0,
              "#0d0887"
             ],
             [
              0.1111111111111111,
              "#46039f"
             ],
             [
              0.2222222222222222,
              "#7201a8"
             ],
             [
              0.3333333333333333,
              "#9c179e"
             ],
             [
              0.4444444444444444,
              "#bd3786"
             ],
             [
              0.5555555555555556,
              "#d8576b"
             ],
             [
              0.6666666666666666,
              "#ed7953"
             ],
             [
              0.7777777777777778,
              "#fb9f3a"
             ],
             [
              0.8888888888888888,
              "#fdca26"
             ],
             [
              1,
              "#f0f921"
             ]
            ],
            "type": "histogram2dcontour"
           }
          ],
          "mesh3d": [
           {
            "colorbar": {
             "outlinewidth": 0,
             "ticks": ""
            },
            "type": "mesh3d"
           }
          ],
          "parcoords": [
           {
            "line": {
             "colorbar": {
              "outlinewidth": 0,
              "ticks": ""
             }
            },
            "type": "parcoords"
           }
          ],
          "pie": [
           {
            "automargin": true,
            "type": "pie"
           }
          ],
          "scatter": [
           {
            "fillpattern": {
             "fillmode": "overlay",
             "size": 10,
             "solidity": 0.2
            },
            "type": "scatter"
           }
          ],
          "scatter3d": [
           {
            "line": {
             "colorbar": {
              "outlinewidth": 0,
              "ticks": ""
             }
            },
            "marker": {
             "colorbar": {
              "outlinewidth": 0,
              "ticks": ""
             }
            },
            "type": "scatter3d"
           }
          ],
          "scattercarpet": [
           {
            "marker": {
             "colorbar": {
              "outlinewidth": 0,
              "ticks": ""
             }
            },
            "type": "scattercarpet"
           }
          ],
          "scattergeo": [
           {
            "marker": {
             "colorbar": {
              "outlinewidth": 0,
              "ticks": ""
             }
            },
            "type": "scattergeo"
           }
          ],
          "scattergl": [
           {
            "marker": {
             "colorbar": {
              "outlinewidth": 0,
              "ticks": ""
             }
            },
            "type": "scattergl"
           }
          ],
          "scattermapbox": [
           {
            "marker": {
             "colorbar": {
              "outlinewidth": 0,
              "ticks": ""
             }
            },
            "type": "scattermapbox"
           }
          ],
          "scatterpolar": [
           {
            "marker": {
             "colorbar": {
              "outlinewidth": 0,
              "ticks": ""
             }
            },
            "type": "scatterpolar"
           }
          ],
          "scatterpolargl": [
           {
            "marker": {
             "colorbar": {
              "outlinewidth": 0,
              "ticks": ""
             }
            },
            "type": "scatterpolargl"
           }
          ],
          "scatterternary": [
           {
            "marker": {
             "colorbar": {
              "outlinewidth": 0,
              "ticks": ""
             }
            },
            "type": "scatterternary"
           }
          ],
          "surface": [
           {
            "colorbar": {
             "outlinewidth": 0,
             "ticks": ""
            },
            "colorscale": [
             [
              0,
              "#0d0887"
             ],
             [
              0.1111111111111111,
              "#46039f"
             ],
             [
              0.2222222222222222,
              "#7201a8"
             ],
             [
              0.3333333333333333,
              "#9c179e"
             ],
             [
              0.4444444444444444,
              "#bd3786"
             ],
             [
              0.5555555555555556,
              "#d8576b"
             ],
             [
              0.6666666666666666,
              "#ed7953"
             ],
             [
              0.7777777777777778,
              "#fb9f3a"
             ],
             [
              0.8888888888888888,
              "#fdca26"
             ],
             [
              1,
              "#f0f921"
             ]
            ],
            "type": "surface"
           }
          ],
          "table": [
           {
            "cells": {
             "fill": {
              "color": "#EBF0F8"
             },
             "line": {
              "color": "white"
             }
            },
            "header": {
             "fill": {
              "color": "#C8D4E3"
             },
             "line": {
              "color": "white"
             }
            },
            "type": "table"
           }
          ]
         },
         "layout": {
          "annotationdefaults": {
           "arrowcolor": "#2a3f5f",
           "arrowhead": 0,
           "arrowwidth": 1
          },
          "autotypenumbers": "strict",
          "coloraxis": {
           "colorbar": {
            "outlinewidth": 0,
            "ticks": ""
           }
          },
          "colorscale": {
           "diverging": [
            [
             0,
             "#8e0152"
            ],
            [
             0.1,
             "#c51b7d"
            ],
            [
             0.2,
             "#de77ae"
            ],
            [
             0.3,
             "#f1b6da"
            ],
            [
             0.4,
             "#fde0ef"
            ],
            [
             0.5,
             "#f7f7f7"
            ],
            [
             0.6,
             "#e6f5d0"
            ],
            [
             0.7,
             "#b8e186"
            ],
            [
             0.8,
             "#7fbc41"
            ],
            [
             0.9,
             "#4d9221"
            ],
            [
             1,
             "#276419"
            ]
           ],
           "sequential": [
            [
             0,
             "#0d0887"
            ],
            [
             0.1111111111111111,
             "#46039f"
            ],
            [
             0.2222222222222222,
             "#7201a8"
            ],
            [
             0.3333333333333333,
             "#9c179e"
            ],
            [
             0.4444444444444444,
             "#bd3786"
            ],
            [
             0.5555555555555556,
             "#d8576b"
            ],
            [
             0.6666666666666666,
             "#ed7953"
            ],
            [
             0.7777777777777778,
             "#fb9f3a"
            ],
            [
             0.8888888888888888,
             "#fdca26"
            ],
            [
             1,
             "#f0f921"
            ]
           ],
           "sequentialminus": [
            [
             0,
             "#0d0887"
            ],
            [
             0.1111111111111111,
             "#46039f"
            ],
            [
             0.2222222222222222,
             "#7201a8"
            ],
            [
             0.3333333333333333,
             "#9c179e"
            ],
            [
             0.4444444444444444,
             "#bd3786"
            ],
            [
             0.5555555555555556,
             "#d8576b"
            ],
            [
             0.6666666666666666,
             "#ed7953"
            ],
            [
             0.7777777777777778,
             "#fb9f3a"
            ],
            [
             0.8888888888888888,
             "#fdca26"
            ],
            [
             1,
             "#f0f921"
            ]
           ]
          },
          "colorway": [
           "#636efa",
           "#EF553B",
           "#00cc96",
           "#ab63fa",
           "#FFA15A",
           "#19d3f3",
           "#FF6692",
           "#B6E880",
           "#FF97FF",
           "#FECB52"
          ],
          "font": {
           "color": "#2a3f5f"
          },
          "geo": {
           "bgcolor": "white",
           "lakecolor": "white",
           "landcolor": "#E5ECF6",
           "showlakes": true,
           "showland": true,
           "subunitcolor": "white"
          },
          "hoverlabel": {
           "align": "left"
          },
          "hovermode": "closest",
          "mapbox": {
           "style": "light"
          },
          "paper_bgcolor": "white",
          "plot_bgcolor": "#E5ECF6",
          "polar": {
           "angularaxis": {
            "gridcolor": "white",
            "linecolor": "white",
            "ticks": ""
           },
           "bgcolor": "#E5ECF6",
           "radialaxis": {
            "gridcolor": "white",
            "linecolor": "white",
            "ticks": ""
           }
          },
          "scene": {
           "xaxis": {
            "backgroundcolor": "#E5ECF6",
            "gridcolor": "white",
            "gridwidth": 2,
            "linecolor": "white",
            "showbackground": true,
            "ticks": "",
            "zerolinecolor": "white"
           },
           "yaxis": {
            "backgroundcolor": "#E5ECF6",
            "gridcolor": "white",
            "gridwidth": 2,
            "linecolor": "white",
            "showbackground": true,
            "ticks": "",
            "zerolinecolor": "white"
           },
           "zaxis": {
            "backgroundcolor": "#E5ECF6",
            "gridcolor": "white",
            "gridwidth": 2,
            "linecolor": "white",
            "showbackground": true,
            "ticks": "",
            "zerolinecolor": "white"
           }
          },
          "shapedefaults": {
           "line": {
            "color": "#2a3f5f"
           }
          },
          "ternary": {
           "aaxis": {
            "gridcolor": "white",
            "linecolor": "white",
            "ticks": ""
           },
           "baxis": {
            "gridcolor": "white",
            "linecolor": "white",
            "ticks": ""
           },
           "bgcolor": "#E5ECF6",
           "caxis": {
            "gridcolor": "white",
            "linecolor": "white",
            "ticks": ""
           }
          },
          "title": {
           "x": 0.05
          },
          "xaxis": {
           "automargin": true,
           "gridcolor": "white",
           "linecolor": "white",
           "ticks": "",
           "title": {
            "standoff": 15
           },
           "zerolinecolor": "white",
           "zerolinewidth": 2
          },
          "yaxis": {
           "automargin": true,
           "gridcolor": "white",
           "linecolor": "white",
           "ticks": "",
           "title": {
            "standoff": 15
           },
           "zerolinecolor": "white",
           "zerolinewidth": 2
          }
         }
        },
        "width": 1000,
        "xaxis": {
         "anchor": "y",
         "domain": [
          0,
          1
         ]
        },
        "xaxis2": {
         "anchor": "y2",
         "domain": [
          0,
          1
         ]
        },
        "xaxis3": {
         "anchor": "y3",
         "domain": [
          0,
          1
         ]
        },
        "yaxis": {
         "anchor": "x",
         "domain": [
          0.7777777777777778,
          1
         ],
         "title": {
          "text": "Counts"
         }
        },
        "yaxis2": {
         "anchor": "x2",
         "domain": [
          0.3888888888888889,
          0.6111111111111112
         ],
         "title": {
          "text": "Counts"
         }
        },
        "yaxis3": {
         "anchor": "x3",
         "domain": [
          0,
          0.22222222222222224
         ],
         "range": [
          -0.05,
          1.05
         ],
         "title": {
          "text": "Dice metric"
         }
        }
       }
      },
      "text/html": [
       "<div>                            <div id=\"62e6e282-e5c1-457c-b8c3-a967b36711eb\" class=\"plotly-graph-div\" style=\"height:700px; width:1000px;\"></div>            <script type=\"text/javascript\">                require([\"plotly\"], function(Plotly) {                    window.PLOTLYENV=window.PLOTLYENV || {};                                    if (document.getElementById(\"62e6e282-e5c1-457c-b8c3-a967b36711eb\")) {                    Plotly.newPlot(                        \"62e6e282-e5c1-457c-b8c3-a967b36711eb\",                        [{\"marker\":{\"color\":[\"#5267C7\",\"#0DA07C\"]},\"name\":\"counts\",\"showlegend\":false,\"x\":[\"lung\",\"heart\"],\"y\":[36.0,36.0],\"type\":\"bar\",\"xaxis\":\"x\",\"yaxis\":\"y\"},{\"marker\":{\"color\":[\"#5267C7\",\"#0DA07C\"]},\"name\":\"counts\",\"showlegend\":false,\"x\":[\"lung\",\"heart\"],\"y\":[828261.0,473202.0],\"type\":\"bar\",\"xaxis\":\"x2\",\"yaxis\":\"y2\"},{\"alignmentgroup\":\"True\",\"boxpoints\":\"all\",\"customdata\":[[\"P095\"]],\"hovertemplate\":\"label_name=%{x}\\u003cbr\\u003edice_metric=%{y}\\u003cbr\\u003esubject_name=%{customdata[0]}\\u003cextra\\u003e\\u003c\\u002fextra\\u003e\",\"legendgroup\":\"lung\",\"marker\":{\"color\":\"#5267C7\"},\"name\":\"lung\",\"notched\":false,\"offsetgroup\":\"lung\",\"orientation\":\"v\",\"showlegend\":true,\"x\":[\"lung\"],\"x0\":\" \",\"xaxis\":\"x3\",\"y\":[0.9999937481350369],\"y0\":\" \",\"yaxis\":\"y3\",\"type\":\"box\"},{\"alignmentgroup\":\"True\",\"boxpoints\":\"all\",\"customdata\":[[\"P095\"]],\"hovertemplate\":\"label_name=%{x}\\u003cbr\\u003edice_metric=%{y}\\u003cbr\\u003esubject_name=%{customdata[0]}\\u003cextra\\u003e\\u003c\\u002fextra\\u003e\",\"legendgroup\":\"heart\",\"marker\":{\"color\":\"#0DA07C\"},\"name\":\"heart\",\"notched\":false,\"offsetgroup\":\"heart\",\"orientation\":\"v\",\"showlegend\":true,\"x\":[\"heart\"],\"x0\":\" \",\"xaxis\":\"x3\",\"y\":[0.7840678956773546],\"y0\":\" \",\"yaxis\":\"y3\",\"type\":\"box\"}],                        {\"template\":{\"data\":{\"histogram2dcontour\":[{\"type\":\"histogram2dcontour\",\"colorbar\":{\"outlinewidth\":0,\"ticks\":\"\"},\"colorscale\":[[0.0,\"#0d0887\"],[0.1111111111111111,\"#46039f\"],[0.2222222222222222,\"#7201a8\"],[0.3333333333333333,\"#9c179e\"],[0.4444444444444444,\"#bd3786\"],[0.5555555555555556,\"#d8576b\"],[0.6666666666666666,\"#ed7953\"],[0.7777777777777778,\"#fb9f3a\"],[0.8888888888888888,\"#fdca26\"],[1.0,\"#f0f921\"]]}],\"choropleth\":[{\"type\":\"choropleth\",\"colorbar\":{\"outlinewidth\":0,\"ticks\":\"\"}}],\"histogram2d\":[{\"type\":\"histogram2d\",\"colorbar\":{\"outlinewidth\":0,\"ticks\":\"\"},\"colorscale\":[[0.0,\"#0d0887\"],[0.1111111111111111,\"#46039f\"],[0.2222222222222222,\"#7201a8\"],[0.3333333333333333,\"#9c179e\"],[0.4444444444444444,\"#bd3786\"],[0.5555555555555556,\"#d8576b\"],[0.6666666666666666,\"#ed7953\"],[0.7777777777777778,\"#fb9f3a\"],[0.8888888888888888,\"#fdca26\"],[1.0,\"#f0f921\"]]}],\"heatmap\":[{\"type\":\"heatmap\",\"colorbar\":{\"outlinewidth\":0,\"ticks\":\"\"},\"colorscale\":[[0.0,\"#0d0887\"],[0.1111111111111111,\"#46039f\"],[0.2222222222222222,\"#7201a8\"],[0.3333333333333333,\"#9c179e\"],[0.4444444444444444,\"#bd3786\"],[0.5555555555555556,\"#d8576b\"],[0.6666666666666666,\"#ed7953\"],[0.7777777777777778,\"#fb9f3a\"],[0.8888888888888888,\"#fdca26\"],[1.0,\"#f0f921\"]]}],\"heatmapgl\":[{\"type\":\"heatmapgl\",\"colorbar\":{\"outlinewidth\":0,\"ticks\":\"\"},\"colorscale\":[[0.0,\"#0d0887\"],[0.1111111111111111,\"#46039f\"],[0.2222222222222222,\"#7201a8\"],[0.3333333333333333,\"#9c179e\"],[0.4444444444444444,\"#bd3786\"],[0.5555555555555556,\"#d8576b\"],[0.6666666666666666,\"#ed7953\"],[0.7777777777777778,\"#fb9f3a\"],[0.8888888888888888,\"#fdca26\"],[1.0,\"#f0f921\"]]}],\"contourcarpet\":[{\"type\":\"contourcarpet\",\"colorbar\":{\"outlinewidth\":0,\"ticks\":\"\"}}],\"contour\":[{\"type\":\"contour\",\"colorbar\":{\"outlinewidth\":0,\"ticks\":\"\"},\"colorscale\":[[0.0,\"#0d0887\"],[0.1111111111111111,\"#46039f\"],[0.2222222222222222,\"#7201a8\"],[0.3333333333333333,\"#9c179e\"],[0.4444444444444444,\"#bd3786\"],[0.5555555555555556,\"#d8576b\"],[0.6666666666666666,\"#ed7953\"],[0.7777777777777778,\"#fb9f3a\"],[0.8888888888888888,\"#fdca26\"],[1.0,\"#f0f921\"]]}],\"surface\":[{\"type\":\"surface\",\"colorbar\":{\"outlinewidth\":0,\"ticks\":\"\"},\"colorscale\":[[0.0,\"#0d0887\"],[0.1111111111111111,\"#46039f\"],[0.2222222222222222,\"#7201a8\"],[0.3333333333333333,\"#9c179e\"],[0.4444444444444444,\"#bd3786\"],[0.5555555555555556,\"#d8576b\"],[0.6666666666666666,\"#ed7953\"],[0.7777777777777778,\"#fb9f3a\"],[0.8888888888888888,\"#fdca26\"],[1.0,\"#f0f921\"]]}],\"mesh3d\":[{\"type\":\"mesh3d\",\"colorbar\":{\"outlinewidth\":0,\"ticks\":\"\"}}],\"scatter\":[{\"fillpattern\":{\"fillmode\":\"overlay\",\"size\":10,\"solidity\":0.2},\"type\":\"scatter\"}],\"parcoords\":[{\"type\":\"parcoords\",\"line\":{\"colorbar\":{\"outlinewidth\":0,\"ticks\":\"\"}}}],\"scatterpolargl\":[{\"type\":\"scatterpolargl\",\"marker\":{\"colorbar\":{\"outlinewidth\":0,\"ticks\":\"\"}}}],\"bar\":[{\"error_x\":{\"color\":\"#2a3f5f\"},\"error_y\":{\"color\":\"#2a3f5f\"},\"marker\":{\"line\":{\"color\":\"#E5ECF6\",\"width\":0.5},\"pattern\":{\"fillmode\":\"overlay\",\"size\":10,\"solidity\":0.2}},\"type\":\"bar\"}],\"scattergeo\":[{\"type\":\"scattergeo\",\"marker\":{\"colorbar\":{\"outlinewidth\":0,\"ticks\":\"\"}}}],\"scatterpolar\":[{\"type\":\"scatterpolar\",\"marker\":{\"colorbar\":{\"outlinewidth\":0,\"ticks\":\"\"}}}],\"histogram\":[{\"marker\":{\"pattern\":{\"fillmode\":\"overlay\",\"size\":10,\"solidity\":0.2}},\"type\":\"histogram\"}],\"scattergl\":[{\"type\":\"scattergl\",\"marker\":{\"colorbar\":{\"outlinewidth\":0,\"ticks\":\"\"}}}],\"scatter3d\":[{\"type\":\"scatter3d\",\"line\":{\"colorbar\":{\"outlinewidth\":0,\"ticks\":\"\"}},\"marker\":{\"colorbar\":{\"outlinewidth\":0,\"ticks\":\"\"}}}],\"scattermapbox\":[{\"type\":\"scattermapbox\",\"marker\":{\"colorbar\":{\"outlinewidth\":0,\"ticks\":\"\"}}}],\"scatterternary\":[{\"type\":\"scatterternary\",\"marker\":{\"colorbar\":{\"outlinewidth\":0,\"ticks\":\"\"}}}],\"scattercarpet\":[{\"type\":\"scattercarpet\",\"marker\":{\"colorbar\":{\"outlinewidth\":0,\"ticks\":\"\"}}}],\"carpet\":[{\"aaxis\":{\"endlinecolor\":\"#2a3f5f\",\"gridcolor\":\"white\",\"linecolor\":\"white\",\"minorgridcolor\":\"white\",\"startlinecolor\":\"#2a3f5f\"},\"baxis\":{\"endlinecolor\":\"#2a3f5f\",\"gridcolor\":\"white\",\"linecolor\":\"white\",\"minorgridcolor\":\"white\",\"startlinecolor\":\"#2a3f5f\"},\"type\":\"carpet\"}],\"table\":[{\"cells\":{\"fill\":{\"color\":\"#EBF0F8\"},\"line\":{\"color\":\"white\"}},\"header\":{\"fill\":{\"color\":\"#C8D4E3\"},\"line\":{\"color\":\"white\"}},\"type\":\"table\"}],\"barpolar\":[{\"marker\":{\"line\":{\"color\":\"#E5ECF6\",\"width\":0.5},\"pattern\":{\"fillmode\":\"overlay\",\"size\":10,\"solidity\":0.2}},\"type\":\"barpolar\"}],\"pie\":[{\"automargin\":true,\"type\":\"pie\"}]},\"layout\":{\"autotypenumbers\":\"strict\",\"colorway\":[\"#636efa\",\"#EF553B\",\"#00cc96\",\"#ab63fa\",\"#FFA15A\",\"#19d3f3\",\"#FF6692\",\"#B6E880\",\"#FF97FF\",\"#FECB52\"],\"font\":{\"color\":\"#2a3f5f\"},\"hovermode\":\"closest\",\"hoverlabel\":{\"align\":\"left\"},\"paper_bgcolor\":\"white\",\"plot_bgcolor\":\"#E5ECF6\",\"polar\":{\"bgcolor\":\"#E5ECF6\",\"angularaxis\":{\"gridcolor\":\"white\",\"linecolor\":\"white\",\"ticks\":\"\"},\"radialaxis\":{\"gridcolor\":\"white\",\"linecolor\":\"white\",\"ticks\":\"\"}},\"ternary\":{\"bgcolor\":\"#E5ECF6\",\"aaxis\":{\"gridcolor\":\"white\",\"linecolor\":\"white\",\"ticks\":\"\"},\"baxis\":{\"gridcolor\":\"white\",\"linecolor\":\"white\",\"ticks\":\"\"},\"caxis\":{\"gridcolor\":\"white\",\"linecolor\":\"white\",\"ticks\":\"\"}},\"coloraxis\":{\"colorbar\":{\"outlinewidth\":0,\"ticks\":\"\"}},\"colorscale\":{\"sequential\":[[0.0,\"#0d0887\"],[0.1111111111111111,\"#46039f\"],[0.2222222222222222,\"#7201a8\"],[0.3333333333333333,\"#9c179e\"],[0.4444444444444444,\"#bd3786\"],[0.5555555555555556,\"#d8576b\"],[0.6666666666666666,\"#ed7953\"],[0.7777777777777778,\"#fb9f3a\"],[0.8888888888888888,\"#fdca26\"],[1.0,\"#f0f921\"]],\"sequentialminus\":[[0.0,\"#0d0887\"],[0.1111111111111111,\"#46039f\"],[0.2222222222222222,\"#7201a8\"],[0.3333333333333333,\"#9c179e\"],[0.4444444444444444,\"#bd3786\"],[0.5555555555555556,\"#d8576b\"],[0.6666666666666666,\"#ed7953\"],[0.7777777777777778,\"#fb9f3a\"],[0.8888888888888888,\"#fdca26\"],[1.0,\"#f0f921\"]],\"diverging\":[[0,\"#8e0152\"],[0.1,\"#c51b7d\"],[0.2,\"#de77ae\"],[0.3,\"#f1b6da\"],[0.4,\"#fde0ef\"],[0.5,\"#f7f7f7\"],[0.6,\"#e6f5d0\"],[0.7,\"#b8e186\"],[0.8,\"#7fbc41\"],[0.9,\"#4d9221\"],[1,\"#276419\"]]},\"xaxis\":{\"gridcolor\":\"white\",\"linecolor\":\"white\",\"ticks\":\"\",\"title\":{\"standoff\":15},\"zerolinecolor\":\"white\",\"automargin\":true,\"zerolinewidth\":2},\"yaxis\":{\"gridcolor\":\"white\",\"linecolor\":\"white\",\"ticks\":\"\",\"title\":{\"standoff\":15},\"zerolinecolor\":\"white\",\"automargin\":true,\"zerolinewidth\":2},\"scene\":{\"xaxis\":{\"backgroundcolor\":\"#E5ECF6\",\"gridcolor\":\"white\",\"linecolor\":\"white\",\"showbackground\":true,\"ticks\":\"\",\"zerolinecolor\":\"white\",\"gridwidth\":2},\"yaxis\":{\"backgroundcolor\":\"#E5ECF6\",\"gridcolor\":\"white\",\"linecolor\":\"white\",\"showbackground\":true,\"ticks\":\"\",\"zerolinecolor\":\"white\",\"gridwidth\":2},\"zaxis\":{\"backgroundcolor\":\"#E5ECF6\",\"gridcolor\":\"white\",\"linecolor\":\"white\",\"showbackground\":true,\"ticks\":\"\",\"zerolinecolor\":\"white\",\"gridwidth\":2}},\"shapedefaults\":{\"line\":{\"color\":\"#2a3f5f\"}},\"annotationdefaults\":{\"arrowcolor\":\"#2a3f5f\",\"arrowhead\":0,\"arrowwidth\":1},\"geo\":{\"bgcolor\":\"white\",\"landcolor\":\"#E5ECF6\",\"subunitcolor\":\"white\",\"showland\":true,\"showlakes\":true,\"lakecolor\":\"white\"},\"title\":{\"x\":0.05},\"mapbox\":{\"style\":\"light\"}}},\"xaxis\":{\"anchor\":\"y\",\"domain\":[0.0,1.0]},\"yaxis\":{\"anchor\":\"x\",\"domain\":[0.7777777777777778,1.0],\"title\":{\"text\":\"Counts\"}},\"xaxis2\":{\"anchor\":\"y2\",\"domain\":[0.0,1.0]},\"yaxis2\":{\"anchor\":\"x2\",\"domain\":[0.3888888888888889,0.6111111111111112],\"title\":{\"text\":\"Counts\"}},\"xaxis3\":{\"anchor\":\"y3\",\"domain\":[0.0,1.0]},\"yaxis3\":{\"anchor\":\"x3\",\"domain\":[0.0,0.22222222222222224],\"title\":{\"text\":\"Dice metric\"},\"range\":[-0.05,1.05]},\"annotations\":[{\"font\":{\"size\":16},\"showarrow\":false,\"text\":\"Total image counts\",\"x\":0.5,\"xanchor\":\"center\",\"xref\":\"paper\",\"y\":1.0,\"yanchor\":\"bottom\",\"yref\":\"paper\"},{\"font\":{\"size\":16},\"showarrow\":false,\"text\":\"Total pixel counts \",\"x\":0.5,\"xanchor\":\"center\",\"xref\":\"paper\",\"y\":0.6111111111111112,\"yanchor\":\"bottom\",\"yref\":\"paper\"},{\"font\":{\"size\":16},\"showarrow\":false,\"text\":\"Class dice across subjects\",\"x\":0.5,\"xanchor\":\"center\",\"xref\":\"paper\",\"y\":0.22222222222222224,\"yanchor\":\"bottom\",\"yref\":\"paper\"}],\"height\":700,\"width\":1000},                        {\"responsive\": true}                    ).then(function(){\n",
       "                            \n",
       "var gd = document.getElementById('62e6e282-e5c1-457c-b8c3-a967b36711eb');\n",
       "var x = new MutationObserver(function (mutations, observer) {{\n",
       "        var display = window.getComputedStyle(gd).display;\n",
       "        if (!display || display === 'none') {{\n",
       "            console.log([gd, 'removed!']);\n",
       "            Plotly.purge(gd);\n",
       "            observer.disconnect();\n",
       "        }}\n",
       "}});\n",
       "\n",
       "// Listen for the removal of the full notebook cells\n",
       "var notebookContainer = gd.closest('#notebook-container');\n",
       "if (notebookContainer) {{\n",
       "    x.observe(notebookContainer, {childList: true});\n",
       "}}\n",
       "\n",
       "// Listen for the clearing of the current output cell\n",
       "var outputEl = gd.closest('.output');\n",
       "if (outputEl) {{\n",
       "    x.observe(outputEl, {childList: true});\n",
       "}}\n",
       "\n",
       "                        })                };                });            </script>        </div>"
      ]
     },
     "metadata": {},
     "output_type": "display_data"
    }
   ],
   "source": [
    "create_class_scores_figure(agg_test)"
   ]
  }
 ],
 "metadata": {
  "kernelspec": {
   "display_name": "htc",
   "language": "python",
   "name": "python3"
  },
  "language_info": {
   "codemirror_mode": {
    "name": "ipython",
    "version": 3
   },
   "file_extension": ".py",
   "mimetype": "text/x-python",
   "name": "python",
   "nbconvert_exporter": "python",
   "pygments_lexer": "ipython3",
   "version": "3.12.8"
  }
 },
 "nbformat": 4,
 "nbformat_minor": 5
}
