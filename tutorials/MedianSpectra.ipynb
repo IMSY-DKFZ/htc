{
 "cells": [
  {
   "cell_type": "markdown",
   "metadata": {},
   "source": [
    "# Median Spectra\n",
    "It is very common for spectral data to reduce the complexity by performing an analysis based on median spectra first. Media spectra are computed per image an annotated region and are computed by calculating the median per channel across all values of the annotated region. For the HSI data of the HeiPorSPECTRAL dataset, this yields a 100-dimensional vector per image and annotated region. Since those vectors are commonly needed, they are precomputed for each dataset for easy access and its usage is shown here."
   ]
  },
  {
   "cell_type": "code",
   "execution_count": 1,
   "metadata": {},
   "outputs": [],
   "source": [
    "%load_ext autoreload\n",
    "%autoreload 2\n",
    "\n",
    "import numpy as np\n",
    "import pandas as pd\n",
    "import plotly.express as px\n",
    "import plotly.graph_objects as go\n",
    "from sklearn.decomposition import PCA\n",
    "\n",
    "from htc import DataPath, add_std_fill, median_table, tivita_wavelengths"
   ]
  },
  {
   "cell_type": "markdown",
   "metadata": {},
   "source": [
    "## Median Table\n",
    "\n",
    "The central entry point for loading median spectra is the [`median_table()`](../htc/utils/helper_functions.py) function. If you already have the data paths at hand from which you want to get the median spectra from, you can simply provide it with a list of those paths:"
   ]
  },
  {
   "cell_type": "code",
   "execution_count": 2,
   "metadata": {},
   "outputs": [
    {
     "data": {
      "text/html": [
       "<div>\n",
       "<style scoped>\n",
       "    .dataframe tbody tr th:only-of-type {\n",
       "        vertical-align: middle;\n",
       "    }\n",
       "\n",
       "    .dataframe tbody tr th {\n",
       "        vertical-align: top;\n",
       "    }\n",
       "\n",
       "    .dataframe thead th {\n",
       "        text-align: right;\n",
       "    }\n",
       "</style>\n",
       "<table border=\"1\" class=\"dataframe\">\n",
       "  <thead>\n",
       "    <tr style=\"text-align: right;\">\n",
       "      <th></th>\n",
       "      <th>image_name</th>\n",
       "      <th>subject_name</th>\n",
       "      <th>timestamp</th>\n",
       "      <th>label_name</th>\n",
       "      <th>median_spectrum</th>\n",
       "      <th>std_spectrum</th>\n",
       "      <th>median_normalized_spectrum</th>\n",
       "      <th>std_normalized_spectrum</th>\n",
       "      <th>n_pixels</th>\n",
       "      <th>median_sto2</th>\n",
       "      <th>...</th>\n",
       "      <th>SW_Version</th>\n",
       "      <th>Fremdlichterkennung_Fremdlicht erkannt?</th>\n",
       "      <th>Fremdlichterkennung_PixelmitFremdlicht</th>\n",
       "      <th>Fremdlichterkennung_Breite LED Rot</th>\n",
       "      <th>Fremdlichterkennung_Breite LED Gruen</th>\n",
       "      <th>Fremdlichterkennung_Grenzwert Pixelanzahl</th>\n",
       "      <th>Fremdlichterkennung_Intensity Grenzwert</th>\n",
       "      <th>Aufnahme_Aufnahmemodus</th>\n",
       "      <th>camera_name</th>\n",
       "      <th>annotation_name</th>\n",
       "    </tr>\n",
       "  </thead>\n",
       "  <tbody>\n",
       "    <tr>\n",
       "      <th>0</th>\n",
       "      <td>P086#2021_04_15_09_22_02</td>\n",
       "      <td>P086</td>\n",
       "      <td>2021_04_15_09_22_02</td>\n",
       "      <td>spleen</td>\n",
       "      <td>[0.04814308, 0.045386504, 0.042081352, 0.03791...</td>\n",
       "      <td>[0.017346695, 0.013489561, 0.011369096, 0.0100...</td>\n",
       "      <td>[0.003749312, 0.0035218908, 0.0032769735, 0.00...</td>\n",
       "      <td>[0.001293977, 0.000981235, 0.0008071454, 0.000...</td>\n",
       "      <td>14370</td>\n",
       "      <td>0.438706</td>\n",
       "      <td>...</td>\n",
       "      <td>1.6.0.1</td>\n",
       "      <td>False</td>\n",
       "      <td>0.0</td>\n",
       "      <td>50.0</td>\n",
       "      <td>50.0</td>\n",
       "      <td>100.0</td>\n",
       "      <td>7.0</td>\n",
       "      <td>Reflektanz</td>\n",
       "      <td>0202-00118_correct-1</td>\n",
       "      <td>polygon#annotator1</td>\n",
       "    </tr>\n",
       "    <tr>\n",
       "      <th>1</th>\n",
       "      <td>P086#2021_04_15_09_22_02</td>\n",
       "      <td>P086</td>\n",
       "      <td>2021_04_15_09_22_02</td>\n",
       "      <td>spleen</td>\n",
       "      <td>[0.04673159, 0.043991182, 0.040661428, 0.03656...</td>\n",
       "      <td>[0.018447485, 0.014333139, 0.01225138, 0.01095...</td>\n",
       "      <td>[0.0036932975, 0.0034690085, 0.0032145875, 0.0...</td>\n",
       "      <td>[0.0014224425, 0.0010762984, 0.00089630607, 0....</td>\n",
       "      <td>21437</td>\n",
       "      <td>0.424235</td>\n",
       "      <td>...</td>\n",
       "      <td>1.6.0.1</td>\n",
       "      <td>False</td>\n",
       "      <td>0.0</td>\n",
       "      <td>50.0</td>\n",
       "      <td>50.0</td>\n",
       "      <td>100.0</td>\n",
       "      <td>7.0</td>\n",
       "      <td>Reflektanz</td>\n",
       "      <td>0202-00118_correct-1</td>\n",
       "      <td>polygon#annotator2</td>\n",
       "    </tr>\n",
       "  </tbody>\n",
       "</table>\n",
       "<p>2 rows × 40 columns</p>\n",
       "</div>"
      ],
      "text/plain": [
       "                 image_name subject_name            timestamp label_name  \\\n",
       "0  P086#2021_04_15_09_22_02         P086  2021_04_15_09_22_02     spleen   \n",
       "1  P086#2021_04_15_09_22_02         P086  2021_04_15_09_22_02     spleen   \n",
       "\n",
       "                                     median_spectrum  \\\n",
       "0  [0.04814308, 0.045386504, 0.042081352, 0.03791...   \n",
       "1  [0.04673159, 0.043991182, 0.040661428, 0.03656...   \n",
       "\n",
       "                                        std_spectrum  \\\n",
       "0  [0.017346695, 0.013489561, 0.011369096, 0.0100...   \n",
       "1  [0.018447485, 0.014333139, 0.01225138, 0.01095...   \n",
       "\n",
       "                          median_normalized_spectrum  \\\n",
       "0  [0.003749312, 0.0035218908, 0.0032769735, 0.00...   \n",
       "1  [0.0036932975, 0.0034690085, 0.0032145875, 0.0...   \n",
       "\n",
       "                             std_normalized_spectrum  n_pixels  median_sto2  \\\n",
       "0  [0.001293977, 0.000981235, 0.0008071454, 0.000...     14370     0.438706   \n",
       "1  [0.0014224425, 0.0010762984, 0.00089630607, 0....     21437     0.424235   \n",
       "\n",
       "   ...  SW_Version  Fremdlichterkennung_Fremdlicht erkannt?  \\\n",
       "0  ...     1.6.0.1                                    False   \n",
       "1  ...     1.6.0.1                                    False   \n",
       "\n",
       "   Fremdlichterkennung_PixelmitFremdlicht  Fremdlichterkennung_Breite LED Rot  \\\n",
       "0                                     0.0                                50.0   \n",
       "1                                     0.0                                50.0   \n",
       "\n",
       "   Fremdlichterkennung_Breite LED Gruen  \\\n",
       "0                                  50.0   \n",
       "1                                  50.0   \n",
       "\n",
       "   Fremdlichterkennung_Grenzwert Pixelanzahl  \\\n",
       "0                                      100.0   \n",
       "1                                      100.0   \n",
       "\n",
       "   Fremdlichterkennung_Intensity Grenzwert  Aufnahme_Aufnahmemodus  \\\n",
       "0                                      7.0              Reflektanz   \n",
       "1                                      7.0              Reflektanz   \n",
       "\n",
       "            camera_name     annotation_name  \n",
       "0  0202-00118_correct-1  polygon#annotator1  \n",
       "1  0202-00118_correct-1  polygon#annotator2  \n",
       "\n",
       "[2 rows x 40 columns]"
      ]
     },
     "execution_count": 2,
     "metadata": {},
     "output_type": "execute_result"
    }
   ],
   "source": [
    "df = median_table(\n",
    "    paths=[\n",
    "        DataPath.from_image_name(\"P086#2021_04_15_09_22_02@polygon#annotator1\"),\n",
    "        DataPath.from_image_name(\"P086#2021_04_15_09_22_02@polygon#annotator2\"),\n",
    "    ]\n",
    ")\n",
    "df.head()"
   ]
  },
  {
   "cell_type": "markdown",
   "metadata": {},
   "source": [
    "The output is a table and the `median_normalized_spectrum` column contains the precomputed median spectra. For each row, there is a list with the 100 normalized reflectance values. It is often easier to work the median spectra by concatenating all vectors to a matrix."
   ]
  },
  {
   "cell_type": "code",
   "execution_count": 3,
   "metadata": {},
   "outputs": [
    {
     "data": {
      "text/plain": [
       "(2, 100)"
      ]
     },
     "execution_count": 3,
     "metadata": {},
     "output_type": "execute_result"
    }
   ],
   "source": [
    "median_spectra = np.stack(df[\"median_normalized_spectrum\"])\n",
    "median_spectra.shape"
   ]
  },
  {
   "cell_type": "markdown",
   "metadata": {},
   "source": [
    "Let's calculate the average median spectra of our selection:"
   ]
  },
  {
   "cell_type": "code",
   "execution_count": 4,
   "metadata": {},
   "outputs": [
    {
     "data": {
      "text/plain": [
       "(100,)"
      ]
     },
     "execution_count": 4,
     "metadata": {},
     "output_type": "execute_result"
    }
   ],
   "source": [
    "np.mean(median_spectra, axis=0).shape"
   ]
  },
  {
   "cell_type": "markdown",
   "metadata": {},
   "source": [
    "Instead of providing a list of all data paths, it is also possible to retrieve the median spectra for all images of a dataset via the name of the dataset."
   ]
  },
  {
   "cell_type": "code",
   "execution_count": 5,
   "metadata": {},
   "outputs": [
    {
     "data": {
      "text/html": [
       "<div>\n",
       "<style scoped>\n",
       "    .dataframe tbody tr th:only-of-type {\n",
       "        vertical-align: middle;\n",
       "    }\n",
       "\n",
       "    .dataframe tbody tr th {\n",
       "        vertical-align: top;\n",
       "    }\n",
       "\n",
       "    .dataframe thead th {\n",
       "        text-align: right;\n",
       "    }\n",
       "</style>\n",
       "<table border=\"1\" class=\"dataframe\">\n",
       "  <thead>\n",
       "    <tr style=\"text-align: right;\">\n",
       "      <th></th>\n",
       "      <th>image_name</th>\n",
       "      <th>subject_name</th>\n",
       "      <th>timestamp</th>\n",
       "      <th>label_index</th>\n",
       "      <th>label_name</th>\n",
       "      <th>median_spectrum</th>\n",
       "      <th>std_spectrum</th>\n",
       "      <th>median_normalized_spectrum</th>\n",
       "      <th>std_normalized_spectrum</th>\n",
       "      <th>n_pixels</th>\n",
       "      <th>...</th>\n",
       "      <th>SW_Version</th>\n",
       "      <th>Fremdlichterkennung_Fremdlicht erkannt?</th>\n",
       "      <th>Fremdlichterkennung_PixelmitFremdlicht</th>\n",
       "      <th>Fremdlichterkennung_Breite LED Rot</th>\n",
       "      <th>Fremdlichterkennung_Breite LED Gruen</th>\n",
       "      <th>Fremdlichterkennung_Grenzwert Pixelanzahl</th>\n",
       "      <th>Fremdlichterkennung_Intensity Grenzwert</th>\n",
       "      <th>Aufnahme_Aufnahmemodus</th>\n",
       "      <th>camera_name</th>\n",
       "      <th>annotation_name</th>\n",
       "    </tr>\n",
       "  </thead>\n",
       "  <tbody>\n",
       "    <tr>\n",
       "      <th>0</th>\n",
       "      <td>P086#2021_04_15_11_38_04</td>\n",
       "      <td>P086</td>\n",
       "      <td>2021_04_15_11_38_04</td>\n",
       "      <td>0</td>\n",
       "      <td>stomach</td>\n",
       "      <td>[0.298144, 0.2833822, 0.2614737, 0.23648293, 0...</td>\n",
       "      <td>[0.17259361, 0.16893886, 0.16671665, 0.1658238...</td>\n",
       "      <td>[0.0063450593, 0.006019631, 0.005552271, 0.005...</td>\n",
       "      <td>[0.001271573, 0.0011821607, 0.0011256082, 0.00...</td>\n",
       "      <td>34203</td>\n",
       "      <td>...</td>\n",
       "      <td>1.6.0.1</td>\n",
       "      <td>False</td>\n",
       "      <td>6.0</td>\n",
       "      <td>50.0</td>\n",
       "      <td>50.0</td>\n",
       "      <td>100.0</td>\n",
       "      <td>7.0</td>\n",
       "      <td>Reflektanz</td>\n",
       "      <td>0202-00118_correct-1</td>\n",
       "      <td>polygon#annotator1</td>\n",
       "    </tr>\n",
       "    <tr>\n",
       "      <th>1</th>\n",
       "      <td>P086#2021_04_15_11_38_04</td>\n",
       "      <td>P086</td>\n",
       "      <td>2021_04_15_11_38_04</td>\n",
       "      <td>0</td>\n",
       "      <td>stomach</td>\n",
       "      <td>[0.28387108, 0.26972988, 0.24867523, 0.2245793...</td>\n",
       "      <td>[0.06143358, 0.05755748, 0.05417795, 0.0519581...</td>\n",
       "      <td>[0.006142241, 0.005821412, 0.005361867, 0.0048...</td>\n",
       "      <td>[0.0010590239, 0.0009730612, 0.00091588503, 0....</td>\n",
       "      <td>42426</td>\n",
       "      <td>...</td>\n",
       "      <td>1.6.0.1</td>\n",
       "      <td>False</td>\n",
       "      <td>6.0</td>\n",
       "      <td>50.0</td>\n",
       "      <td>50.0</td>\n",
       "      <td>100.0</td>\n",
       "      <td>7.0</td>\n",
       "      <td>Reflektanz</td>\n",
       "      <td>0202-00118_correct-1</td>\n",
       "      <td>polygon#annotator2</td>\n",
       "    </tr>\n",
       "    <tr>\n",
       "      <th>2</th>\n",
       "      <td>P086#2021_04_15_11_38_04</td>\n",
       "      <td>P086</td>\n",
       "      <td>2021_04_15_11_38_04</td>\n",
       "      <td>0</td>\n",
       "      <td>stomach</td>\n",
       "      <td>[0.27330333, 0.259961, 0.23922777, 0.2155934, ...</td>\n",
       "      <td>[0.06579228, 0.061461516, 0.057752986, 0.05486...</td>\n",
       "      <td>[0.0060464954, 0.0057365242, 0.005281097, 0.00...</td>\n",
       "      <td>[0.001107502, 0.0010132897, 0.00094938924, 0.0...</td>\n",
       "      <td>51609</td>\n",
       "      <td>...</td>\n",
       "      <td>1.6.0.1</td>\n",
       "      <td>False</td>\n",
       "      <td>6.0</td>\n",
       "      <td>50.0</td>\n",
       "      <td>50.0</td>\n",
       "      <td>100.0</td>\n",
       "      <td>7.0</td>\n",
       "      <td>Reflektanz</td>\n",
       "      <td>0202-00118_correct-1</td>\n",
       "      <td>polygon#annotator3</td>\n",
       "    </tr>\n",
       "    <tr>\n",
       "      <th>3</th>\n",
       "      <td>P086#2021_04_15_11_38_26</td>\n",
       "      <td>P086</td>\n",
       "      <td>2021_04_15_11_38_26</td>\n",
       "      <td>0</td>\n",
       "      <td>stomach</td>\n",
       "      <td>[0.2836912, 0.26937896, 0.2474714, 0.2232979, ...</td>\n",
       "      <td>[0.15054636, 0.14754522, 0.14422333, 0.1433670...</td>\n",
       "      <td>[0.0063025337, 0.005978748, 0.0055006156, 0.00...</td>\n",
       "      <td>[0.0011646454, 0.0010641138, 0.0010057053, 0.0...</td>\n",
       "      <td>40668</td>\n",
       "      <td>...</td>\n",
       "      <td>1.6.0.1</td>\n",
       "      <td>False</td>\n",
       "      <td>0.0</td>\n",
       "      <td>50.0</td>\n",
       "      <td>50.0</td>\n",
       "      <td>100.0</td>\n",
       "      <td>7.0</td>\n",
       "      <td>Reflektanz</td>\n",
       "      <td>0202-00118_correct-1</td>\n",
       "      <td>polygon#annotator1</td>\n",
       "    </tr>\n",
       "    <tr>\n",
       "      <th>4</th>\n",
       "      <td>P086#2021_04_15_11_38_26</td>\n",
       "      <td>P086</td>\n",
       "      <td>2021_04_15_11_38_26</td>\n",
       "      <td>0</td>\n",
       "      <td>stomach</td>\n",
       "      <td>[0.26858327, 0.2554159, 0.23456676, 0.21172526...</td>\n",
       "      <td>[0.057310455, 0.05293087, 0.049723584, 0.04716...</td>\n",
       "      <td>[0.0060783997, 0.005771285, 0.005312352, 0.004...</td>\n",
       "      <td>[0.0010364179, 0.00093886565, 0.00088119856, 0...</td>\n",
       "      <td>49729</td>\n",
       "      <td>...</td>\n",
       "      <td>1.6.0.1</td>\n",
       "      <td>False</td>\n",
       "      <td>0.0</td>\n",
       "      <td>50.0</td>\n",
       "      <td>50.0</td>\n",
       "      <td>100.0</td>\n",
       "      <td>7.0</td>\n",
       "      <td>Reflektanz</td>\n",
       "      <td>0202-00118_correct-1</td>\n",
       "      <td>polygon#annotator2</td>\n",
       "    </tr>\n",
       "  </tbody>\n",
       "</table>\n",
       "<p>5 rows × 41 columns</p>\n",
       "</div>"
      ],
      "text/plain": [
       "                 image_name subject_name            timestamp  label_index  \\\n",
       "0  P086#2021_04_15_11_38_04         P086  2021_04_15_11_38_04            0   \n",
       "1  P086#2021_04_15_11_38_04         P086  2021_04_15_11_38_04            0   \n",
       "2  P086#2021_04_15_11_38_04         P086  2021_04_15_11_38_04            0   \n",
       "3  P086#2021_04_15_11_38_26         P086  2021_04_15_11_38_26            0   \n",
       "4  P086#2021_04_15_11_38_26         P086  2021_04_15_11_38_26            0   \n",
       "\n",
       "  label_name                                    median_spectrum  \\\n",
       "0    stomach  [0.298144, 0.2833822, 0.2614737, 0.23648293, 0...   \n",
       "1    stomach  [0.28387108, 0.26972988, 0.24867523, 0.2245793...   \n",
       "2    stomach  [0.27330333, 0.259961, 0.23922777, 0.2155934, ...   \n",
       "3    stomach  [0.2836912, 0.26937896, 0.2474714, 0.2232979, ...   \n",
       "4    stomach  [0.26858327, 0.2554159, 0.23456676, 0.21172526...   \n",
       "\n",
       "                                        std_spectrum  \\\n",
       "0  [0.17259361, 0.16893886, 0.16671665, 0.1658238...   \n",
       "1  [0.06143358, 0.05755748, 0.05417795, 0.0519581...   \n",
       "2  [0.06579228, 0.061461516, 0.057752986, 0.05486...   \n",
       "3  [0.15054636, 0.14754522, 0.14422333, 0.1433670...   \n",
       "4  [0.057310455, 0.05293087, 0.049723584, 0.04716...   \n",
       "\n",
       "                          median_normalized_spectrum  \\\n",
       "0  [0.0063450593, 0.006019631, 0.005552271, 0.005...   \n",
       "1  [0.006142241, 0.005821412, 0.005361867, 0.0048...   \n",
       "2  [0.0060464954, 0.0057365242, 0.005281097, 0.00...   \n",
       "3  [0.0063025337, 0.005978748, 0.0055006156, 0.00...   \n",
       "4  [0.0060783997, 0.005771285, 0.005312352, 0.004...   \n",
       "\n",
       "                             std_normalized_spectrum  n_pixels  ...  \\\n",
       "0  [0.001271573, 0.0011821607, 0.0011256082, 0.00...     34203  ...   \n",
       "1  [0.0010590239, 0.0009730612, 0.00091588503, 0....     42426  ...   \n",
       "2  [0.001107502, 0.0010132897, 0.00094938924, 0.0...     51609  ...   \n",
       "3  [0.0011646454, 0.0010641138, 0.0010057053, 0.0...     40668  ...   \n",
       "4  [0.0010364179, 0.00093886565, 0.00088119856, 0...     49729  ...   \n",
       "\n",
       "   SW_Version  Fremdlichterkennung_Fremdlicht erkannt?  \\\n",
       "0     1.6.0.1                                    False   \n",
       "1     1.6.0.1                                    False   \n",
       "2     1.6.0.1                                    False   \n",
       "3     1.6.0.1                                    False   \n",
       "4     1.6.0.1                                    False   \n",
       "\n",
       "   Fremdlichterkennung_PixelmitFremdlicht  Fremdlichterkennung_Breite LED Rot  \\\n",
       "0                                     6.0                                50.0   \n",
       "1                                     6.0                                50.0   \n",
       "2                                     6.0                                50.0   \n",
       "3                                     0.0                                50.0   \n",
       "4                                     0.0                                50.0   \n",
       "\n",
       "   Fremdlichterkennung_Breite LED Gruen  \\\n",
       "0                                  50.0   \n",
       "1                                  50.0   \n",
       "2                                  50.0   \n",
       "3                                  50.0   \n",
       "4                                  50.0   \n",
       "\n",
       "   Fremdlichterkennung_Grenzwert Pixelanzahl  \\\n",
       "0                                      100.0   \n",
       "1                                      100.0   \n",
       "2                                      100.0   \n",
       "3                                      100.0   \n",
       "4                                      100.0   \n",
       "\n",
       "   Fremdlichterkennung_Intensity Grenzwert  Aufnahme_Aufnahmemodus  \\\n",
       "0                                      7.0              Reflektanz   \n",
       "1                                      7.0              Reflektanz   \n",
       "2                                      7.0              Reflektanz   \n",
       "3                                      7.0              Reflektanz   \n",
       "4                                      7.0              Reflektanz   \n",
       "\n",
       "            camera_name     annotation_name  \n",
       "0  0202-00118_correct-1  polygon#annotator1  \n",
       "1  0202-00118_correct-1  polygon#annotator2  \n",
       "2  0202-00118_correct-1  polygon#annotator3  \n",
       "3  0202-00118_correct-1  polygon#annotator1  \n",
       "4  0202-00118_correct-1  polygon#annotator2  \n",
       "\n",
       "[5 rows x 41 columns]"
      ]
     },
     "execution_count": 5,
     "metadata": {},
     "output_type": "execute_result"
    }
   ],
   "source": [
    "df = median_table(dataset_name=\"HeiPorSPECTRAL\")\n",
    "df.head()"
   ]
  },
  {
   "cell_type": "markdown",
   "metadata": {},
   "source": [
    "In the case of the HeiPorSPECTRAL dataset, this includes all available annotations because no default annotation is set for this dataset (the `dataset_settings.json` file does not contain an `annotation_name_default` key). The [`median_table()`](../htc/utils/helper_functions.py) function has more options to customize the resulting table like restring the output to specific labels (cf. documentation).\n",
    "\n",
    "The table does not only contain the median spectra but also every other available information for the images. This is useful to make selections based on the metadata or simply to explore the data."
   ]
  },
  {
   "cell_type": "code",
   "execution_count": 6,
   "metadata": {},
   "outputs": [
    {
     "data": {
      "text/plain": [
       "array([1, 2, 3, 4])"
      ]
     },
     "execution_count": 6,
     "metadata": {},
     "output_type": "execute_result"
    }
   ],
   "source": [
    "df[\"situs\"].unique()"
   ]
  },
  {
   "cell_type": "markdown",
   "metadata": {},
   "source": [
    "## Hierarchical Aggregation\n",
    "It is very common to make a selection of the median table and then visualize the resulting median table. However, it is important to hierarchically aggregate the data first. In the following, we compare the median spectra for the three different angles while aggregating first across the annotations and then across images per subject."
   ]
  },
  {
   "cell_type": "code",
   "execution_count": 7,
   "metadata": {},
   "outputs": [
    {
     "data": {
      "text/html": [
       "<div>\n",
       "<style scoped>\n",
       "    .dataframe tbody tr th:only-of-type {\n",
       "        vertical-align: middle;\n",
       "    }\n",
       "\n",
       "    .dataframe tbody tr th {\n",
       "        vertical-align: top;\n",
       "    }\n",
       "\n",
       "    .dataframe thead th {\n",
       "        text-align: right;\n",
       "    }\n",
       "</style>\n",
       "<table border=\"1\" class=\"dataframe\">\n",
       "  <thead>\n",
       "    <tr style=\"text-align: right;\">\n",
       "      <th></th>\n",
       "      <th>angle</th>\n",
       "      <th>subject_name</th>\n",
       "      <th>median_normalized_spectrum</th>\n",
       "    </tr>\n",
       "  </thead>\n",
       "  <tbody>\n",
       "    <tr>\n",
       "      <th>0</th>\n",
       "      <td>-25</td>\n",
       "      <td>P086</td>\n",
       "      <td>[0.0055898433, 0.0052947137, 0.0048663896, 0.0...</td>\n",
       "    </tr>\n",
       "    <tr>\n",
       "      <th>1</th>\n",
       "      <td>-25</td>\n",
       "      <td>P087</td>\n",
       "      <td>[0.005636148, 0.0054836264, 0.0052139885, 0.00...</td>\n",
       "    </tr>\n",
       "    <tr>\n",
       "      <th>2</th>\n",
       "      <td>-25</td>\n",
       "      <td>P088</td>\n",
       "      <td>[0.0054585948, 0.005202231, 0.004885306, 0.004...</td>\n",
       "    </tr>\n",
       "    <tr>\n",
       "      <th>3</th>\n",
       "      <td>-25</td>\n",
       "      <td>P089</td>\n",
       "      <td>[0.0055314223, 0.005321091, 0.0050316732, 0.00...</td>\n",
       "    </tr>\n",
       "    <tr>\n",
       "      <th>4</th>\n",
       "      <td>-25</td>\n",
       "      <td>P090</td>\n",
       "      <td>[0.0054063853, 0.0050607696, 0.004734265, 0.00...</td>\n",
       "    </tr>\n",
       "    <tr>\n",
       "      <th>5</th>\n",
       "      <td>-25</td>\n",
       "      <td>P091</td>\n",
       "      <td>[0.005126051, 0.0049619856, 0.00480613, 0.0045...</td>\n",
       "    </tr>\n",
       "    <tr>\n",
       "      <th>6</th>\n",
       "      <td>-25</td>\n",
       "      <td>P092</td>\n",
       "      <td>[0.006394498, 0.006092998, 0.0057552275, 0.005...</td>\n",
       "    </tr>\n",
       "    <tr>\n",
       "      <th>7</th>\n",
       "      <td>-25</td>\n",
       "      <td>P093</td>\n",
       "      <td>[0.0056002075, 0.0054592527, 0.005240095, 0.00...</td>\n",
       "    </tr>\n",
       "    <tr>\n",
       "      <th>8</th>\n",
       "      <td>-25</td>\n",
       "      <td>P094</td>\n",
       "      <td>[0.004935036, 0.0046973573, 0.0044305148, 0.00...</td>\n",
       "    </tr>\n",
       "    <tr>\n",
       "      <th>9</th>\n",
       "      <td>-25</td>\n",
       "      <td>P095</td>\n",
       "      <td>[0.005486307, 0.0052765626, 0.0049359836, 0.00...</td>\n",
       "    </tr>\n",
       "    <tr>\n",
       "      <th>10</th>\n",
       "      <td>-25</td>\n",
       "      <td>P096</td>\n",
       "      <td>[0.005252155, 0.0051086675, 0.0048543494, 0.00...</td>\n",
       "    </tr>\n",
       "    <tr>\n",
       "      <th>11</th>\n",
       "      <td>0</td>\n",
       "      <td>P086</td>\n",
       "      <td>[0.0056549674, 0.005345024, 0.0049152398, 0.00...</td>\n",
       "    </tr>\n",
       "    <tr>\n",
       "      <th>12</th>\n",
       "      <td>0</td>\n",
       "      <td>P087</td>\n",
       "      <td>[0.0058373557, 0.005670952, 0.0053957305, 0.00...</td>\n",
       "    </tr>\n",
       "    <tr>\n",
       "      <th>13</th>\n",
       "      <td>0</td>\n",
       "      <td>P088</td>\n",
       "      <td>[0.0054861093, 0.005220477, 0.0048982897, 0.00...</td>\n",
       "    </tr>\n",
       "    <tr>\n",
       "      <th>14</th>\n",
       "      <td>0</td>\n",
       "      <td>P089</td>\n",
       "      <td>[0.0055918633, 0.0053735306, 0.0050797756, 0.0...</td>\n",
       "    </tr>\n",
       "    <tr>\n",
       "      <th>15</th>\n",
       "      <td>0</td>\n",
       "      <td>P090</td>\n",
       "      <td>[0.005539711, 0.0051886477, 0.004854554, 0.004...</td>\n",
       "    </tr>\n",
       "    <tr>\n",
       "      <th>16</th>\n",
       "      <td>0</td>\n",
       "      <td>P091</td>\n",
       "      <td>[0.0052933446, 0.0051337513, 0.0049676993, 0.0...</td>\n",
       "    </tr>\n",
       "    <tr>\n",
       "      <th>17</th>\n",
       "      <td>0</td>\n",
       "      <td>P092</td>\n",
       "      <td>[0.00650458, 0.006200806, 0.005859152, 0.00546...</td>\n",
       "    </tr>\n",
       "    <tr>\n",
       "      <th>18</th>\n",
       "      <td>0</td>\n",
       "      <td>P093</td>\n",
       "      <td>[0.005717795, 0.00557082, 0.0053460803, 0.0049...</td>\n",
       "    </tr>\n",
       "    <tr>\n",
       "      <th>19</th>\n",
       "      <td>0</td>\n",
       "      <td>P094</td>\n",
       "      <td>[0.005115861, 0.0048763496, 0.004606265, 0.004...</td>\n",
       "    </tr>\n",
       "    <tr>\n",
       "      <th>20</th>\n",
       "      <td>0</td>\n",
       "      <td>P095</td>\n",
       "      <td>[0.005664017, 0.005448836, 0.005103193, 0.0046...</td>\n",
       "    </tr>\n",
       "    <tr>\n",
       "      <th>21</th>\n",
       "      <td>0</td>\n",
       "      <td>P096</td>\n",
       "      <td>[0.0052579637, 0.005107892, 0.00485072, 0.0045...</td>\n",
       "    </tr>\n",
       "    <tr>\n",
       "      <th>22</th>\n",
       "      <td>25</td>\n",
       "      <td>P086</td>\n",
       "      <td>[0.0054061166, 0.00510407, 0.0046724747, 0.004...</td>\n",
       "    </tr>\n",
       "    <tr>\n",
       "      <th>23</th>\n",
       "      <td>25</td>\n",
       "      <td>P087</td>\n",
       "      <td>[0.0055853236, 0.0054256017, 0.005144132, 0.00...</td>\n",
       "    </tr>\n",
       "    <tr>\n",
       "      <th>24</th>\n",
       "      <td>25</td>\n",
       "      <td>P088</td>\n",
       "      <td>[0.0052643674, 0.0049901484, 0.004663556, 0.00...</td>\n",
       "    </tr>\n",
       "    <tr>\n",
       "      <th>25</th>\n",
       "      <td>25</td>\n",
       "      <td>P089</td>\n",
       "      <td>[0.0052981474, 0.0050681606, 0.004771113, 0.00...</td>\n",
       "    </tr>\n",
       "    <tr>\n",
       "      <th>26</th>\n",
       "      <td>25</td>\n",
       "      <td>P090</td>\n",
       "      <td>[0.0053106486, 0.004946606, 0.0046096058, 0.00...</td>\n",
       "    </tr>\n",
       "    <tr>\n",
       "      <th>27</th>\n",
       "      <td>25</td>\n",
       "      <td>P091</td>\n",
       "      <td>[0.0049808193, 0.004797741, 0.004629288, 0.004...</td>\n",
       "    </tr>\n",
       "    <tr>\n",
       "      <th>28</th>\n",
       "      <td>25</td>\n",
       "      <td>P092</td>\n",
       "      <td>[0.006397262, 0.0060786037, 0.0057309894, 0.00...</td>\n",
       "    </tr>\n",
       "    <tr>\n",
       "      <th>29</th>\n",
       "      <td>25</td>\n",
       "      <td>P093</td>\n",
       "      <td>[0.0054713003, 0.005317813, 0.0050921445, 0.00...</td>\n",
       "    </tr>\n",
       "    <tr>\n",
       "      <th>30</th>\n",
       "      <td>25</td>\n",
       "      <td>P094</td>\n",
       "      <td>[0.0049291947, 0.004690463, 0.004417817, 0.004...</td>\n",
       "    </tr>\n",
       "    <tr>\n",
       "      <th>31</th>\n",
       "      <td>25</td>\n",
       "      <td>P095</td>\n",
       "      <td>[0.0053983224, 0.0051762722, 0.0048286305, 0.0...</td>\n",
       "    </tr>\n",
       "    <tr>\n",
       "      <th>32</th>\n",
       "      <td>25</td>\n",
       "      <td>P096</td>\n",
       "      <td>[0.0049918294, 0.0048436727, 0.0045914403, 0.0...</td>\n",
       "    </tr>\n",
       "  </tbody>\n",
       "</table>\n",
       "</div>"
      ],
      "text/plain": [
       "    angle subject_name                         median_normalized_spectrum\n",
       "0     -25         P086  [0.0055898433, 0.0052947137, 0.0048663896, 0.0...\n",
       "1     -25         P087  [0.005636148, 0.0054836264, 0.0052139885, 0.00...\n",
       "2     -25         P088  [0.0054585948, 0.005202231, 0.004885306, 0.004...\n",
       "3     -25         P089  [0.0055314223, 0.005321091, 0.0050316732, 0.00...\n",
       "4     -25         P090  [0.0054063853, 0.0050607696, 0.004734265, 0.00...\n",
       "5     -25         P091  [0.005126051, 0.0049619856, 0.00480613, 0.0045...\n",
       "6     -25         P092  [0.006394498, 0.006092998, 0.0057552275, 0.005...\n",
       "7     -25         P093  [0.0056002075, 0.0054592527, 0.005240095, 0.00...\n",
       "8     -25         P094  [0.004935036, 0.0046973573, 0.0044305148, 0.00...\n",
       "9     -25         P095  [0.005486307, 0.0052765626, 0.0049359836, 0.00...\n",
       "10    -25         P096  [0.005252155, 0.0051086675, 0.0048543494, 0.00...\n",
       "11      0         P086  [0.0056549674, 0.005345024, 0.0049152398, 0.00...\n",
       "12      0         P087  [0.0058373557, 0.005670952, 0.0053957305, 0.00...\n",
       "13      0         P088  [0.0054861093, 0.005220477, 0.0048982897, 0.00...\n",
       "14      0         P089  [0.0055918633, 0.0053735306, 0.0050797756, 0.0...\n",
       "15      0         P090  [0.005539711, 0.0051886477, 0.004854554, 0.004...\n",
       "16      0         P091  [0.0052933446, 0.0051337513, 0.0049676993, 0.0...\n",
       "17      0         P092  [0.00650458, 0.006200806, 0.005859152, 0.00546...\n",
       "18      0         P093  [0.005717795, 0.00557082, 0.0053460803, 0.0049...\n",
       "19      0         P094  [0.005115861, 0.0048763496, 0.004606265, 0.004...\n",
       "20      0         P095  [0.005664017, 0.005448836, 0.005103193, 0.0046...\n",
       "21      0         P096  [0.0052579637, 0.005107892, 0.00485072, 0.0045...\n",
       "22     25         P086  [0.0054061166, 0.00510407, 0.0046724747, 0.004...\n",
       "23     25         P087  [0.0055853236, 0.0054256017, 0.005144132, 0.00...\n",
       "24     25         P088  [0.0052643674, 0.0049901484, 0.004663556, 0.00...\n",
       "25     25         P089  [0.0052981474, 0.0050681606, 0.004771113, 0.00...\n",
       "26     25         P090  [0.0053106486, 0.004946606, 0.0046096058, 0.00...\n",
       "27     25         P091  [0.0049808193, 0.004797741, 0.004629288, 0.004...\n",
       "28     25         P092  [0.006397262, 0.0060786037, 0.0057309894, 0.00...\n",
       "29     25         P093  [0.0054713003, 0.005317813, 0.0050921445, 0.00...\n",
       "30     25         P094  [0.0049291947, 0.004690463, 0.004417817, 0.004...\n",
       "31     25         P095  [0.0053983224, 0.0051762722, 0.0048286305, 0.0...\n",
       "32     25         P096  [0.0049918294, 0.0048436727, 0.0045914403, 0.0..."
      ]
     },
     "execution_count": 7,
     "metadata": {},
     "output_type": "execute_result"
    }
   ],
   "source": [
    "# Average the median spectra across all annotators\n",
    "dfg = df.groupby([\"angle\", \"subject_name\", \"image_name\"], as_index=False).agg(\n",
    "    median_normalized_spectrum=pd.NamedAgg(\n",
    "        column=\"median_normalized_spectrum\",\n",
    "        aggfunc=lambda x: np.mean(np.stack(x), axis=0),\n",
    "    ),\n",
    ")\n",
    "# Average the median spectra across all images of one subject\n",
    "dfg = dfg.groupby([\"angle\", \"subject_name\"], as_index=False).agg(\n",
    "    median_normalized_spectrum=pd.NamedAgg(\n",
    "        column=\"median_normalized_spectrum\",\n",
    "        aggfunc=lambda x: np.mean(np.stack(x), axis=0),\n",
    "    ),\n",
    ")\n",
    "dfg"
   ]
  },
  {
   "cell_type": "markdown",
   "metadata": {},
   "source": [
    "We will use this table to report an averaged median spectra curve per angle (average from all subjects). The standard deviation is indicated by the variation across subjects."
   ]
  },
  {
   "cell_type": "code",
   "execution_count": 8,
   "metadata": {},
   "outputs": [
    {
     "data": {
      "text/html": [
       "        <script type=\"text/javascript\">\n",
       "        window.PlotlyConfig = {MathJaxConfig: 'local'};\n",
       "        if (window.MathJax && window.MathJax.Hub && window.MathJax.Hub.Config) {window.MathJax.Hub.Config({SVG: {font: \"STIX-Web\"}});}\n",
       "        </script>\n",
       "        <script type=\"module\">import \"https://cdn.plot.ly/plotly-3.0.0.min\"</script>\n",
       "        "
      ]
     },
     "metadata": {},
     "output_type": "display_data"
    },
    {
     "data": {
      "application/vnd.plotly.v1+json": {
       "config": {
        "plotlyServerURL": "https://plot.ly"
       },
       "data": [
        {
         "hovertemplate": "wavelength: %{x:.1f}<br>normalized reflectance: %{y:.5f}<br>standard deviation: %{text:.5f}",
         "legendgroup": "-25",
         "line": {
          "color": "#008B8B"
         },
         "name": "-25",
         "text": {
          "bdata": "AAAA4A4dNz8AAADAbCw2PwAAAIDQQzU/AAAAoP9jNT8AAACg47Q2PwAAACDAjzc/AAAAQH5COD8AAAAALSA5PwAAAIDVTjk/AAAAwNsEOT8AAADgDc84PwAAAKBi0jg/AAAA4NHbOD8AAABAH1I5PwAAAIBPFDo/AAAAYI5uOj8AAADAmPg5PwAAAKBsszg/AAAAwKBRNz8AAABArDQ2PwAAAAC1rjQ/AAAAAP+3Mj8AAAAgK2oxPwAAAKCBDzE/AAAAoPOXMT8AAAAgjcoyPwAAAIC4izQ/AAAAYP9zNj8AAADgV7o4PwAAAIDo+Do/AAAAoGCcPD8AAADAZKk9PwAAACD1eD4/AAAAIN4FPz8AAADA+lg/PwAAAIDYRz8/AAAAgCRkPz8AAABAB1U/PwAAAEA0Gj8/AAAAwO2jPj8AAADAvMU9PwAAAGAwzDw/AAAA4BZrOz8AAABgLvo5PwAAAEB0jzg/AAAAoJQhNz8AAACg14Y1PwAAAKDhBDQ/AAAAgM5rMj8AAABAiAMxPwAAAED/pi8/AAAAwEKmLT8AAABgAAksPwAAAAB8His/AAAAQHWwKj8AAAAg6gIrPwAAAOBLmis/AAAAoEgZLD8AAADAmZAsPwAAAMB3pCw/AAAAoLPoLD8AAABgHP8sPwAAAIBt6Sw/AAAAIAPjLD8AAAAAgBotPwAAAICGsiw/AAAAwN4TLT8AAAAAyWctPwAAAMDTnS0/AAAAQL5aLj8AAACAXtAuPwAAAGAUXi8/AAAAYJnfLz8AAACgRssvPwAAACDtDzA/AAAAYFdOMD8AAABgjWQwPwAAAOADZTA/AAAAAFN3MD8AAAAg+n0wPwAAAIDIbjA/AAAAQIljMD8AAACA0GwwPwAAAEDffzA/AAAAoOSwMD8AAABAkMcwPwAAAADkGjE/AAAAQOcBMj8AAADgK1UyPwAAAKBImjI/AAAAoNtQMz8AAADgdjI0PwAAAGAMyzU/AAAAAIRXNT8AAADgCQg3PwAAAODs6zo/AAAAAMD9Oj8AAABg2Xo+PwAAACCVqkI/AAAAgLa1Qz8=",
          "dtype": "f8"
         },
         "type": "scatter",
         "x": [
          500,
          505.050505050505,
          510.1010101010101,
          515.1515151515151,
          520.2020202020202,
          525.2525252525253,
          530.3030303030303,
          535.3535353535353,
          540.4040404040404,
          545.4545454545455,
          550.5050505050505,
          555.5555555555555,
          560.6060606060606,
          565.6565656565656,
          570.7070707070707,
          575.7575757575758,
          580.8080808080808,
          585.8585858585859,
          590.9090909090909,
          595.959595959596,
          601.010101010101,
          606.060606060606,
          611.1111111111111,
          616.1616161616162,
          621.2121212121212,
          626.2626262626262,
          631.3131313131313,
          636.3636363636364,
          641.4141414141413,
          646.4646464646464,
          651.5151515151515,
          656.5656565656566,
          661.6161616161617,
          666.6666666666666,
          671.7171717171717,
          676.7676767676768,
          681.8181818181818,
          686.8686868686868,
          691.9191919191919,
          696.969696969697,
          702.0202020202021,
          707.070707070707,
          712.1212121212121,
          717.1717171717171,
          722.2222222222222,
          727.2727272727273,
          732.3232323232323,
          737.3737373737374,
          742.4242424242424,
          747.4747474747475,
          752.5252525252525,
          757.5757575757575,
          762.6262626262626,
          767.6767676767677,
          772.7272727272727,
          777.7777777777778,
          782.8282828282828,
          787.8787878787879,
          792.9292929292928,
          797.9797979797979,
          803.030303030303,
          808.0808080808081,
          813.1313131313132,
          818.1818181818182,
          823.2323232323232,
          828.2828282828282,
          833.3333333333333,
          838.3838383838383,
          843.4343434343434,
          848.4848484848485,
          853.5353535353536,
          858.5858585858585,
          863.6363636363636,
          868.6868686868686,
          873.7373737373737,
          878.7878787878788,
          883.8383838383838,
          888.8888888888889,
          893.939393939394,
          898.989898989899,
          904.040404040404,
          909.090909090909,
          914.141414141414,
          919.1919191919192,
          924.2424242424242,
          929.2929292929292,
          934.3434343434344,
          939.3939393939394,
          944.4444444444443,
          949.4949494949494,
          954.5454545454544,
          959.5959595959596,
          964.6464646464648,
          969.6969696969696,
          974.7474747474748,
          979.7979797979798,
          984.8484848484848,
          989.8989898989898,
          994.9494949494948,
          1000
         ],
         "y": {
          "bdata": "yPmzO8anrDthG6M7wXaWO79RiTuZKXw7QPlpO1zkYTsTPWE7KRNoOwYGdTvkp3076b17O8bwbTuZXVo7etdSO40EZztPjI87xTG4O8EW4jtYLgM8L9sRPEZyHTzkqiY8EOAtPKd7Mzy0lDc8fPI6PCD5PTz/IUA8yUdBPHx1QjyQJUQ894xGPL+ISTyHxUw8xkRQPPlKUzzE2VU8/NlXPIr5WDwnglk87FtZPDEDWTwHYlg8LWVXPCZmVTz0j1I8CkxPPBAWTDx/OEk8ZyJHPMFbRjxjekY8Nh9HPGnvRzxXZUg8x6xIPLSeSDyqXkg8HOZHPM0bRzwdJkY8ahxFPPaRQzyWfkE8/WM/PB/SPTyWejw8vUI7PCQiOjwDHDk8fxY4PH0UNzyPGzY8dXI1PEzSNDzOGDQ8X2MzPNS5MjzhgzI83jYyPBGtMTy0BDE8pDgwPMlgLzxMvC08WcYrPL24KTzEQyc80ZEkPGdKIDysoRw8dAMbPGDiGjz9+Bs8mb8dPHSiIDyAECA8SaMgPA==",
          "dtype": "f4"
         }
        },
        {
         "fill": "toself",
         "fillcolor": "#008B8B",
         "hoverinfo": "skip",
         "legendgroup": "-25",
         "line": {
          "color": "#008B8B"
         },
         "name": "-25",
         "opacity": 0.15,
         "showlegend": false,
         "type": "scatter",
         "x": [
          500,
          505.050505050505,
          510.1010101010101,
          515.1515151515151,
          520.2020202020202,
          525.2525252525253,
          530.3030303030303,
          535.3535353535353,
          540.4040404040404,
          545.4545454545455,
          550.5050505050505,
          555.5555555555555,
          560.6060606060606,
          565.6565656565656,
          570.7070707070707,
          575.7575757575758,
          580.8080808080808,
          585.8585858585859,
          590.9090909090909,
          595.959595959596,
          601.010101010101,
          606.060606060606,
          611.1111111111111,
          616.1616161616162,
          621.2121212121212,
          626.2626262626262,
          631.3131313131313,
          636.3636363636364,
          641.4141414141413,
          646.4646464646464,
          651.5151515151515,
          656.5656565656566,
          661.6161616161617,
          666.6666666666666,
          671.7171717171717,
          676.7676767676768,
          681.8181818181818,
          686.8686868686868,
          691.9191919191919,
          696.969696969697,
          702.0202020202021,
          707.070707070707,
          712.1212121212121,
          717.1717171717171,
          722.2222222222222,
          727.2727272727273,
          732.3232323232323,
          737.3737373737374,
          742.4242424242424,
          747.4747474747475,
          752.5252525252525,
          757.5757575757575,
          762.6262626262626,
          767.6767676767677,
          772.7272727272727,
          777.7777777777778,
          782.8282828282828,
          787.8787878787879,
          792.9292929292928,
          797.9797979797979,
          803.030303030303,
          808.0808080808081,
          813.1313131313132,
          818.1818181818182,
          823.2323232323232,
          828.2828282828282,
          833.3333333333333,
          838.3838383838383,
          843.4343434343434,
          848.4848484848485,
          853.5353535353536,
          858.5858585858585,
          863.6363636363636,
          868.6868686868686,
          873.7373737373737,
          878.7878787878788,
          883.8383838383838,
          888.8888888888889,
          893.939393939394,
          898.989898989899,
          904.040404040404,
          909.090909090909,
          914.141414141414,
          919.1919191919192,
          924.2424242424242,
          929.2929292929292,
          934.3434343434344,
          939.3939393939394,
          944.4444444444443,
          949.4949494949494,
          954.5454545454544,
          959.5959595959596,
          964.6464646464648,
          969.6969696969696,
          974.7474747474748,
          979.7979797979798,
          984.8484848484848,
          989.8989898989898,
          994.9494949494948,
          1000,
          1000,
          994.9494949494948,
          989.8989898989898,
          984.8484848484848,
          979.7979797979798,
          974.7474747474748,
          969.6969696969696,
          964.6464646464648,
          959.5959595959596,
          954.5454545454544,
          949.4949494949494,
          944.4444444444443,
          939.3939393939394,
          934.3434343434344,
          929.2929292929292,
          924.2424242424242,
          919.1919191919192,
          914.141414141414,
          909.090909090909,
          904.040404040404,
          898.989898989899,
          893.939393939394,
          888.8888888888889,
          883.8383838383838,
          878.7878787878788,
          873.7373737373737,
          868.6868686868686,
          863.6363636363636,
          858.5858585858585,
          853.5353535353536,
          848.4848484848485,
          843.4343434343434,
          838.3838383838383,
          833.3333333333333,
          828.2828282828282,
          823.2323232323232,
          818.1818181818182,
          813.1313131313132,
          808.0808080808081,
          803.030303030303,
          797.9797979797979,
          792.9292929292928,
          787.8787878787879,
          782.8282828282828,
          777.7777777777778,
          772.7272727272727,
          767.6767676767677,
          762.6262626262626,
          757.5757575757575,
          752.5252525252525,
          747.4747474747475,
          742.4242424242424,
          737.3737373737374,
          732.3232323232323,
          727.2727272727273,
          722.2222222222222,
          717.1717171717171,
          712.1212121212121,
          707.070707070707,
          702.0202020202021,
          696.969696969697,
          691.9191919191919,
          686.8686868686868,
          681.8181818181818,
          676.7676767676768,
          671.7171717171717,
          666.6666666666666,
          661.6161616161617,
          656.5656565656566,
          651.5151515151515,
          646.4646464646464,
          641.4141414141413,
          636.3636363636364,
          631.3131313131313,
          626.2626262626262,
          621.2121212121212,
          616.1616161616162,
          611.1111111111111,
          606.060606060606,
          601.010101010101,
          595.959595959596,
          590.9090909090909,
          585.8585858585859,
          580.8080808080808,
          575.7575757575758,
          570.7070707070707,
          565.6565656565656,
          560.6060606060606,
          555.5555555555555,
          550.5050505050505,
          545.4545454545455,
          540.4040404040404,
          535.3535353535353,
          530.3030303030303,
          525.2525252525253,
          520.2020202020202,
          515.1515151515151,
          510.1010101010101,
          505.050505050505,
          500
         ],
         "y": [
          0.0058451066724956036,
          0.005607364699244499,
          0.005302105564624071,
          0.004918188322335482,
          0.0045371283777058125,
          0.004207214806228876,
          0.003940328489989042,
          0.003830226371064782,
          0.003823036327958107,
          0.003922940231859684,
          0.004117314703762531,
          0.004249231424182653,
          0.004220588598400354,
          0.004017048981040716,
          0.003729933872818947,
          0.0036205071955919266,
          0.003921338822692633,
          0.004757645074278116,
          0.005976984743028879,
          0.007238517981022596,
          0.008322243578732014,
          0.00918798055499792,
          0.009875492192804812,
          0.010432902723550797,
          0.01088095922023058,
          0.011241504922509192,
          0.011518390849232674,
          0.011752959340810776,
          0.01197235845029354,
          0.012138419784605505,
          0.01223346684128046,
          0.012321432121098042,
          0.0124368192628026,
          0.012591942213475704,
          0.0127789955586195,
          0.012975570745766165,
          0.01319070067256689,
          0.013374383561313152,
          0.013526991941034794,
          0.013642064295709131,
          0.013697379268705843,
          0.013715076260268688,
          0.013684915378689766,
          0.013641771860420704,
          0.01358172670006752,
          0.013499634340405464,
          0.013353314250707626,
          0.01315717026591301,
          0.012933490797877312,
          0.012716041877865791,
          0.01252302434295416,
          0.012380405329167845,
          0.012320728041231632,
          0.012321041896939278,
          0.012357060797512531,
          0.012409156188368796,
          0.012441784143447876,
          0.01246260106563568,
          0.012462801299989223,
          0.012448125518858433,
          0.012421416118741035,
          0.0123738506808877,
          0.0123146278783679,
          0.01225108839571476,
          0.012158697471022606,
          0.012028909288346767,
          0.011903398670256138,
          0.01181008666753769,
          0.01172979176044464,
          0.011661072261631489,
          0.011595770716667175,
          0.011537497863173485,
          0.011479007080197334,
          0.011416887864470482,
          0.011360058560967444,
          0.01132346224039793,
          0.01128660049289465,
          0.011242403648793696,
          0.011200238019227982,
          0.011160212568938732,
          0.011146443895995615,
          0.01112741231918335,
          0.01109511125832796,
          0.01105610653758049,
          0.011010375805199146,
          0.010960263200104237,
          0.010864977724850178,
          0.010759073309600352,
          0.01063872128725052,
          0.010492881760001184,
          0.010339267551898956,
          0.010091547854244707,
          0.009892567060887814,
          0.00978692341595888,
          0.009804816916584969,
          0.009930603206157684,
          0.01004005316644907,
          0.010269442573189735,
          0.010339210741221905,
          0.010406050831079485,
          0.00920305959880352,
          0.009199907071888449,
          0.009339271113276482,
          0.00921634677797556,
          0.009109022095799446,
          0.009101955220103264,
          0.00913562159985304,
          0.009227492846548556,
          0.009475179947912691,
          0.009749794378876686,
          0.009925173595547676,
          0.01007925160229206,
          0.010209529660642149,
          0.010342973284423351,
          0.01044819224625826,
          0.010501007549464704,
          0.010552581399679184,
          0.010593858547508717,
          0.010627266019582748,
          0.01064495649188757,
          0.010656912811100485,
          0.010697731748223305,
          0.01074208039790392,
          0.010786333121359348,
          0.010825841687619686,
          0.01086987927556038,
          0.010931748896837234,
          0.010992657393217089,
          0.01105886697769165,
          0.011125586926937103,
          0.011197899468243122,
          0.011277880519628525,
          0.011361395940184591,
          0.011459709145128729,
          0.011591021902859213,
          0.011714613065123558,
          0.011810312047600746,
          0.011873467825353146,
          0.011931397952139378,
          0.011980300769209862,
          0.01201107632368803,
          0.012026936747133732,
          0.012033848091959952,
          0.012020600959658624,
          0.01199699565768242,
          0.011949813924729824,
          0.011907238513231276,
          0.011892945505678654,
          0.011927991174161434,
          0.012040047906339169,
          0.012196822091937063,
          0.012371322140097618,
          0.01254623755812645,
          0.012696370482444763,
          0.012793727219104769,
          0.01283220387995243,
          0.012849007733166218,
          0.012848174199461935,
          0.012836243025958538,
          0.012788797728717329,
          0.012706995941698551,
          0.012577823363244534,
          0.012418202124536036,
          0.01223271805793047,
          0.012020961381495,
          0.011822342872619627,
          0.011645196937024592,
          0.011506873182952404,
          0.011416229419410229,
          0.011360333301126955,
          0.011315290816128254,
          0.011217722669243813,
          0.011067744344472883,
          0.01089138351380825,
          0.010668043047189713,
          0.010344046168029308,
          0.00991225615143776,
          0.009344036690890787,
          0.008616729639470577,
          0.007691065780818462,
          0.006560852285474539,
          0.005265349987894297,
          0.004003834445029497,
          0.003128764219582081,
          0.002813871018588543,
          0.002934055868536234,
          0.003244319697842002,
          0.0034619623329490423,
          0.0034917297307401896,
          0.0033602099865674973,
          0.003159421728923917,
          0.0030506993643939495,
          0.0030634512659162283,
          0.00319998012855649,
          0.0034881739411503077,
          0.0038441778160631657,
          0.0042653982527554035,
          0.004653152544051409,
          0.004930682480335236,
          0.005139738786965609
         ]
        },
        {
         "hovertemplate": "wavelength: %{x:.1f}<br>normalized reflectance: %{y:.5f}<br>standard deviation: %{text:.5f}",
         "legendgroup": "0",
         "line": {
          "color": "#8B008B"
         },
         "name": "0",
         "text": {
          "bdata": "AAAAwGEFNz8AAACg7hk2PwAAAADsczU/AAAAAA3ENT8AAABgL0M3PwAAAMCASzg/AAAA4BgwOT8AAACAFRU6PwAAAGDTTDo/AAAAAOP6OT8AAABg77s5PwAAACADuTk/AAAA4PfDOT8AAADg2E06PwAAAEAJHjs/AAAAwMpwOz8AAAAAf8s6PwAAAACQNTk/AAAAYMtkNz8AAACAxQY2PwAAAKDsmjQ/AAAAAIvqMj8AAABAIO4xPwAAAMDNzTE/AAAAgFaFMj8AAACgtcUzPwAAAOAfhzU/AAAAgJRlNz8AAACgvp45PwAAACCi0js/AAAAoNFZPT8AAACAYVY+PwAAAEA2FT8/AAAAwAKWPz8AAABAxdA/PwAAAABnrj8/AAAAAOGiPz8AAADAb3Q/PwAAAADwFD8/AAAAQJuKPj8AAADAup89PwAAAOB8mDw/AAAA4E41Oz8AAABgdLw5PwAAAMCiRTg/AAAAQP3UNj8AAACAYj41PwAAAICcyDM/AAAAoHNDMj8AAADgw/UwPwAAAIAP3S8/AAAAgDURLj8AAABgMnksPwAAAABwbys/AAAAgOXXKj8AAACAegkrPwAAAMB5lys/AAAAwBUTLD8AAABgP5csPwAAAEDCzSw/AAAAwHgyLT8AAACAlF4tPwAAACBLay0/AAAAQOV7LT8AAACAPs4tPwAAAOB4bS0/AAAA4K7MLT8AAACA6ykuPwAAAOBfbS4/AAAAoMkkLz8AAABgyqMvPwAAAMADJzA/AAAAQPFwMD8AAACA6m0wPwAAAECApDA/AAAAgPDrMD8AAAAgBAsxPwAAAKB4GTE/AAAAAFI2MT8AAADgsEQxPwAAAABSNzE/AAAAQGw5MT8AAAAgBEExPwAAAICCOzE/AAAAAHJfMT8AAABA41oxPwAAAIBkgjE/AAAAoGFBMj8AAABgk3oyPwAAACAfoTI/AAAAIH4GMz8AAADgin8zPwAAAMBSpjQ/AAAAoM4LND8AAACAyEc1PwAAAICgjjg/AAAAQJA0OD8AAABg5Ds7PwAAAOA1f0A/AAAAAOGBQT8=",
          "dtype": "f8"
         },
         "type": "scatter",
         "x": [
          500,
          505.050505050505,
          510.1010101010101,
          515.1515151515151,
          520.2020202020202,
          525.2525252525253,
          530.3030303030303,
          535.3535353535353,
          540.4040404040404,
          545.4545454545455,
          550.5050505050505,
          555.5555555555555,
          560.6060606060606,
          565.6565656565656,
          570.7070707070707,
          575.7575757575758,
          580.8080808080808,
          585.8585858585859,
          590.9090909090909,
          595.959595959596,
          601.010101010101,
          606.060606060606,
          611.1111111111111,
          616.1616161616162,
          621.2121212121212,
          626.2626262626262,
          631.3131313131313,
          636.3636363636364,
          641.4141414141413,
          646.4646464646464,
          651.5151515151515,
          656.5656565656566,
          661.6161616161617,
          666.6666666666666,
          671.7171717171717,
          676.7676767676768,
          681.8181818181818,
          686.8686868686868,
          691.9191919191919,
          696.969696969697,
          702.0202020202021,
          707.070707070707,
          712.1212121212121,
          717.1717171717171,
          722.2222222222222,
          727.2727272727273,
          732.3232323232323,
          737.3737373737374,
          742.4242424242424,
          747.4747474747475,
          752.5252525252525,
          757.5757575757575,
          762.6262626262626,
          767.6767676767677,
          772.7272727272727,
          777.7777777777778,
          782.8282828282828,
          787.8787878787879,
          792.9292929292928,
          797.9797979797979,
          803.030303030303,
          808.0808080808081,
          813.1313131313132,
          818.1818181818182,
          823.2323232323232,
          828.2828282828282,
          833.3333333333333,
          838.3838383838383,
          843.4343434343434,
          848.4848484848485,
          853.5353535353536,
          858.5858585858585,
          863.6363636363636,
          868.6868686868686,
          873.7373737373737,
          878.7878787878788,
          883.8383838383838,
          888.8888888888889,
          893.939393939394,
          898.989898989899,
          904.040404040404,
          909.090909090909,
          914.141414141414,
          919.1919191919192,
          924.2424242424242,
          929.2929292929292,
          934.3434343434344,
          939.3939393939394,
          944.4444444444443,
          949.4949494949494,
          954.5454545454544,
          959.5959595959596,
          964.6464646464648,
          969.6969696969696,
          974.7474747474748,
          979.7979797979798,
          984.8484848484848,
          989.8989898989898,
          994.9494949494948,
          1000
         ],
         "y": {
          "bdata": "r7C3O/wpsDudc6Y7jeOZO9bGjDsGh4E77e9wOya2aDsWymc7T09uOwHbejsdooE7LKyAOz+3czscT2A7XLxYOySQbDtb1ZE7UI+5Ow9o4jsT7wI8JlARPP2uHDwauyU8QM4sPOJHMjxsRDY84os5PIF8PDzjkj48Zqw/PNTUQDy8hUI8MO1EPC3sRzyAMEs8I7NOPO++UTwsUVQ83VlWPNGHVzwhJFg8txdYPK3YVzz8TVc8h2NWPBNzVDyXq1E8kHVOPKZLSzyXeUg8l25GPEe4RTwc6kU8E6NGPBOFRzwEB0g8UVtIPCFZSDz3IUg8f7RHPAr1RjzdBkY8IwdFPNODQzxTeEE8PGM/PLraPTznjTw8wF87PAxJOjx1Sjk8NUo4PE1PNzwPWzY8+bA1PPsPNTyDUjQ82JozPCLvMjxMsjI8j10yPGTVMTzMLzE8zmEwPOOALzx/2C08R9wrPFbNKTylVSc8R6EkPLheIDxtsBw8URcbPHQLGzzsOxw8CxkePL7+IDzErSA8WVohPA==",
          "dtype": "f4"
         }
        },
        {
         "fill": "toself",
         "fillcolor": "#8B008B",
         "hoverinfo": "skip",
         "legendgroup": "0",
         "line": {
          "color": "#8B008B"
         },
         "name": "0",
         "opacity": 0.15,
         "showlegend": false,
         "type": "scatter",
         "x": [
          500,
          505.050505050505,
          510.1010101010101,
          515.1515151515151,
          520.2020202020202,
          525.2525252525253,
          530.3030303030303,
          535.3535353535353,
          540.4040404040404,
          545.4545454545455,
          550.5050505050505,
          555.5555555555555,
          560.6060606060606,
          565.6565656565656,
          570.7070707070707,
          575.7575757575758,
          580.8080808080808,
          585.8585858585859,
          590.9090909090909,
          595.959595959596,
          601.010101010101,
          606.060606060606,
          611.1111111111111,
          616.1616161616162,
          621.2121212121212,
          626.2626262626262,
          631.3131313131313,
          636.3636363636364,
          641.4141414141413,
          646.4646464646464,
          651.5151515151515,
          656.5656565656566,
          661.6161616161617,
          666.6666666666666,
          671.7171717171717,
          676.7676767676768,
          681.8181818181818,
          686.8686868686868,
          691.9191919191919,
          696.969696969697,
          702.0202020202021,
          707.070707070707,
          712.1212121212121,
          717.1717171717171,
          722.2222222222222,
          727.2727272727273,
          732.3232323232323,
          737.3737373737374,
          742.4242424242424,
          747.4747474747475,
          752.5252525252525,
          757.5757575757575,
          762.6262626262626,
          767.6767676767677,
          772.7272727272727,
          777.7777777777778,
          782.8282828282828,
          787.8787878787879,
          792.9292929292928,
          797.9797979797979,
          803.030303030303,
          808.0808080808081,
          813.1313131313132,
          818.1818181818182,
          823.2323232323232,
          828.2828282828282,
          833.3333333333333,
          838.3838383838383,
          843.4343434343434,
          848.4848484848485,
          853.5353535353536,
          858.5858585858585,
          863.6363636363636,
          868.6868686868686,
          873.7373737373737,
          878.7878787878788,
          883.8383838383838,
          888.8888888888889,
          893.939393939394,
          898.989898989899,
          904.040404040404,
          909.090909090909,
          914.141414141414,
          919.1919191919192,
          924.2424242424242,
          929.2929292929292,
          934.3434343434344,
          939.3939393939394,
          944.4444444444443,
          949.4949494949494,
          954.5454545454544,
          959.5959595959596,
          964.6464646464648,
          969.6969696969696,
          974.7474747474748,
          979.7979797979798,
          984.8484848484848,
          989.8989898989898,
          994.9494949494948,
          1000,
          1000,
          994.9494949494948,
          989.8989898989898,
          984.8484848484848,
          979.7979797979798,
          974.7474747474748,
          969.6969696969696,
          964.6464646464648,
          959.5959595959596,
          954.5454545454544,
          949.4949494949494,
          944.4444444444443,
          939.3939393939394,
          934.3434343434344,
          929.2929292929292,
          924.2424242424242,
          919.1919191919192,
          914.141414141414,
          909.090909090909,
          904.040404040404,
          898.989898989899,
          893.939393939394,
          888.8888888888889,
          883.8383838383838,
          878.7878787878788,
          873.7373737373737,
          868.6868686868686,
          863.6363636363636,
          858.5858585858585,
          853.5353535353536,
          848.4848484848485,
          843.4343434343434,
          838.3838383838383,
          833.3333333333333,
          828.2828282828282,
          823.2323232323232,
          818.1818181818182,
          813.1313131313132,
          808.0808080808081,
          803.030303030303,
          797.9797979797979,
          792.9292929292928,
          787.8787878787879,
          782.8282828282828,
          777.7777777777778,
          772.7272727272727,
          767.6767676767677,
          762.6262626262626,
          757.5757575757575,
          752.5252525252525,
          747.4747474747475,
          742.4242424242424,
          737.3737373737374,
          732.3232323232323,
          727.2727272727273,
          722.2222222222222,
          717.1717171717171,
          712.1212121212121,
          707.070707070707,
          702.0202020202021,
          696.969696969697,
          691.9191919191919,
          686.8686868686868,
          681.8181818181818,
          676.7676767676768,
          671.7171717171717,
          666.6666666666666,
          661.6161616161617,
          656.5656565656566,
          651.5151515151515,
          646.4646464646464,
          641.4141414141413,
          636.3636363636364,
          631.3131313131313,
          626.2626262626262,
          621.2121212121212,
          616.1616161616162,
          611.1111111111111,
          606.060606060606,
          601.010101010101,
          595.959595959596,
          590.9090909090909,
          585.8585858585859,
          580.8080808080808,
          575.7575757575758,
          570.7070707070707,
          565.6565656565656,
          560.6060606060606,
          555.5555555555555,
          550.5050505050505,
          545.4545454545455,
          540.4040404040404,
          535.3535353535353,
          530.3030303030303,
          525.2525252525253,
          520.2020202020202,
          515.1515151515151,
          510.1010101010101,
          505.050505050505,
          500
         ],
         "y": [
          0.005957052111625671,
          0.005713337566703558,
          0.005407044198364019,
          0.0050284359604120255,
          0.004651120863854885,
          0.004323574714362621,
          0.004060746636241674,
          0.0039488812908530235,
          0.003938133362680674,
          0.004032742697745562,
          0.0042204223573207855,
          0.00434859050437808,
          0.004319924861192703,
          0.004120176658034325,
          0.0038364615757018328,
          0.003725835820659995,
          0.00401852373033762,
          0.004835145082324743,
          0.006019796244800091,
          0.007245474494993687,
          0.008305979892611504,
          0.009157844819128512,
          0.00983679760247469,
          0.010387075133621693,
          0.010829826816916466,
          0.011183097027242184,
          0.01145320013165474,
          0.011681861244142056,
          0.011895225383341312,
          0.012056242674589155,
          0.01214667595922947,
          0.012232404202222824,
          0.012346992269158363,
          0.012501404620707037,
          0.012687770649790764,
          0.012885117903351784,
          0.013098682276904585,
          0.013281832449138165,
          0.013433076441287994,
          0.013548973947763445,
          0.0136069655418396,
          0.013628542423248293,
          0.01360441278666258,
          0.013566920533776283,
          0.013511513359844685,
          0.013433640822768211,
          0.013291042298078535,
          0.013099132105708122,
          0.012879949994385242,
          0.01266696210950613,
          0.012479119934141636,
          0.012340722605586052,
          0.012285095639526844,
          0.012289056554436684,
          0.01232863962650299,
          0.012383999302983284,
          0.01241921167820692,
          0.012442994862794876,
          0.01244641188532114,
          0.01243488397449255,
          0.012411786243319511,
          0.01236745435744524,
          0.012311046943068504,
          0.012250572443008425,
          0.01216068398207426,
          0.012032987549901009,
          0.011908726766705511,
          0.011817923747003078,
          0.01174058299511671,
          0.011674010194838049,
          0.01161134708672762,
          0.01155572198331356,
          0.011499033309519293,
          0.011439032852649689,
          0.011384054087102411,
          0.011347760446369648,
          0.011311229318380356,
          0.011266917921602726,
          0.01122484728693962,
          0.01118476502597332,
          0.011169463396072388,
          0.011149385944008827,
          0.01111737359315157,
          0.011077565141022204,
          0.011030593886971474,
          0.010976698249578476,
          0.01087787002325058,
          0.010768084786832333,
          0.010645861737430096,
          0.01049755234271288,
          0.01033852156251669,
          0.010085727088153362,
          0.00987863726913929,
          0.009771888144314287,
          0.009787892922759056,
          0.009910482913255692,
          0.010018869303166866,
          0.010241917334496977,
          0.01031049992889166,
          0.010382482782006264,
          0.0093139186501503,
          0.009303607977926733,
          0.009410803206264973,
          0.009280181489884852,
          0.009161058813333511,
          0.009138466790318487,
          0.00916012842208147,
          0.009248457849025726,
          0.00949068833142519,
          0.00975791271775961,
          0.00992902833968401,
          0.01008193287998438,
          0.01021097507327795,
          0.010343527421355247,
          0.0104470644146204,
          0.010500418022274973,
          0.010551671497523785,
          0.01059082429856062,
          0.010623741894960403,
          0.01064407080411911,
          0.0106577780097723,
          0.010699573904275894,
          0.01074508298188448,
          0.010791117325425148,
          0.01083135325461626,
          0.01087616290897131,
          0.010937647894024847,
          0.01099728886038065,
          0.01106278970837593,
          0.011128562502563,
          0.011198795400559902,
          0.011276300065219402,
          0.01135766226798296,
          0.01145402155816555,
          0.011583957821130753,
          0.011705885641276836,
          0.011800682172179222,
          0.011862147599458694,
          0.011919311247766018,
          0.011966273188591003,
          0.011995374225080012,
          0.012010150589048862,
          0.012014610692858696,
          0.011998196132481098,
          0.011971447616815569,
          0.011919042095541954,
          0.011870427057147026,
          0.011850626207888126,
          0.011881932616233826,
          0.011992921121418476,
          0.012149383313953876,
          0.012322592549026012,
          0.012495383620262146,
          0.012642735615372658,
          0.012736864387989044,
          0.012770789675414562,
          0.012781515717506409,
          0.012774082832038404,
          0.012755872681736946,
          0.012702913954854012,
          0.012616923078894615,
          0.012484535574913023,
          0.012321907095611095,
          0.012133221141994,
          0.011918282136321068,
          0.011716838926076887,
          0.011537476442754269,
          0.011398417875170708,
          0.011306580156087875,
          0.01125095970928669,
          0.011207157745957376,
          0.011113361455500126,
          0.010967847891151903,
          0.01079622283577919,
          0.010579694993793964,
          0.010264614596962929,
          0.009843743406236172,
          0.00928961206227541,
          0.008580568246543407,
          0.007677160203456879,
          0.006573280319571495,
          0.005305876024067402,
          0.0040658204816281796,
          0.0032008078414946795,
          0.002888415241613984,
          0.0030089064966887236,
          0.0033174394629895687,
          0.0035336241126060486,
          0.0035635957028716803,
          0.003435079474002123,
          0.003239895217120647,
          0.0031355179380625486,
          0.0031529106199741364,
          0.0032920734956860542,
          0.0035821523051708937,
          0.003941207192838192,
          0.00436419527977705,
          0.004752356093376875,
          0.005038859788328409,
          0.005254506133496761
         ]
        },
        {
         "hovertemplate": "wavelength: %{x:.1f}<br>normalized reflectance: %{y:.5f}<br>standard deviation: %{text:.5f}",
         "legendgroup": "25",
         "line": {
          "color": "#8FBC8F"
         },
         "name": "25",
         "text": {
          "bdata": "AAAAQGwrOT8AAADgvfA3PwAAAGAx9zY/AAAAQBb4Nj8AAADAlCg4PwAAAGCI6zg/AAAA4MSPOT8AAAAA70w6PwAAAECPTDo/AAAAQCLVOT8AAABAYnM5PwAAAEC3XTk/AAAAAK5VOT8AAACgINM5PwAAAMAEnzo/AAAAoF/nOj8AAADA4Uo6PwAAAIDPyzg/AAAAgC8VNz8AAAAgdJ81PwAAAEBr5zM/AAAA4JnkMT8AAADgYJ8wPwAAAKDNbjA/AAAAoDU9MT8AAABgEasyPwAAAABEmDQ/AAAAoOukNj8AAADAxSE5PwAAACBHhDs/AAAAQC8tPT8AAAAAk0I+PwAAAIC3Iz8/AAAAgMDEPz8AAADApxdAPwAAAAANF0A/AAAAYBktQD8AAADA6SpAPwAAAMCMB0A/AAAAQLCTPz8AAAAgnKI+PwAAAMDzkT0/AAAAQEIZPD8AAACgHpE6PwAAAOAQDzk/AAAAoH+XNz8AAAAABPI1PwAAAICoazQ/AAAAADrNMj8AAACgk2gxPwAAAMAJQjA/AAAAQDKALj8AAAAgIMYsPwAAAIAdmCs/AAAAoB/OKj8AAADgd9IqPwAAAMDKQCs/AAAAQCmeKz8AAACAhf8rPwAAACCbBiw/AAAAQKVILD8AAACAEEosPwAAAGDrNyw/AAAAYIgrLD8AAADgo3csPwAAAOBmKSw/AAAAgPGtLD8AAADgMhEtPwAAAAB+XC0/AAAAIA01Lj8AAAAA/LwuPwAAAKAoZi8/AAAAQGkBMD8AAACgpvwvPwAAAEB+PzA/AAAAoL6FMD8AAABgBqAwPwAAAKCgqzA/AAAAYD3BMD8AAAAgTsYwPwAAAADUrzA/AAAAwFCfMD8AAACg24kwPwAAAGCmijA/AAAAABKyMD8AAABACrMwPwAAAKCm9zA/AAAA4PruMT8AAADAejsyPwAAAKB8iTI/AAAAYPlPMz8AAACA9i80PwAAAIBI2DU/AAAAIAVqNT8AAADA3e82PwAAAGCNtDo/AAAAgD15Oj8AAACAPeI9PwAAAMDhT0I/AAAAQGFwQz8=",
          "dtype": "f8"
         },
         "type": "scatter",
         "x": [
          500,
          505.050505050505,
          510.1010101010101,
          515.1515151515151,
          520.2020202020202,
          525.2525252525253,
          530.3030303030303,
          535.3535353535353,
          540.4040404040404,
          545.4545454545455,
          550.5050505050505,
          555.5555555555555,
          560.6060606060606,
          565.6565656565656,
          570.7070707070707,
          575.7575757575758,
          580.8080808080808,
          585.8585858585859,
          590.9090909090909,
          595.959595959596,
          601.010101010101,
          606.060606060606,
          611.1111111111111,
          616.1616161616162,
          621.2121212121212,
          626.2626262626262,
          631.3131313131313,
          636.3636363636364,
          641.4141414141413,
          646.4646464646464,
          651.5151515151515,
          656.5656565656566,
          661.6161616161617,
          666.6666666666666,
          671.7171717171717,
          676.7676767676768,
          681.8181818181818,
          686.8686868686868,
          691.9191919191919,
          696.969696969697,
          702.0202020202021,
          707.070707070707,
          712.1212121212121,
          717.1717171717171,
          722.2222222222222,
          727.2727272727273,
          732.3232323232323,
          737.3737373737374,
          742.4242424242424,
          747.4747474747475,
          752.5252525252525,
          757.5757575757575,
          762.6262626262626,
          767.6767676767677,
          772.7272727272727,
          777.7777777777778,
          782.8282828282828,
          787.8787878787879,
          792.9292929292928,
          797.9797979797979,
          803.030303030303,
          808.0808080808081,
          813.1313131313132,
          818.1818181818182,
          823.2323232323232,
          828.2828282828282,
          833.3333333333333,
          838.3838383838383,
          843.4343434343434,
          848.4848484848485,
          853.5353535353536,
          858.5858585858585,
          863.6363636363636,
          868.6868686868686,
          873.7373737373737,
          878.7878787878788,
          883.8383838383838,
          888.8888888888889,
          893.939393939394,
          898.989898989899,
          904.040404040404,
          909.090909090909,
          914.141414141414,
          919.1919191919192,
          924.2424242424242,
          929.2929292929292,
          934.3434343434344,
          939.3939393939394,
          944.4444444444443,
          949.4949494949494,
          954.5454545454544,
          959.5959595959596,
          964.6464646464648,
          969.6969696969696,
          974.7474747474748,
          979.7979797979798,
          984.8484848484848,
          989.8989898989898,
          994.9494949494948,
          1000
         ],
         "y": {
          "bdata": "3NqvO4ogqDsjVZ47r4uRO+1lhDvfpHI7v+RgOzcXWTvGgVg7r0hfO2cebDtjiXQ7wXtyOy3AZDtDh1E7nJJKO2MTXzts34s7mkK1OzYQ4DujlAI86ZgRPLF2HTxT8CY8gV4uPEsqNDwAZDg81to7PPnzPjzJIkE8cEVCPGZ6QzzvPkU8XcNHPNDXSjxAKU4877RRPES3VDzPMlc8IR1ZPK8lWjzcm1o8rWVaPIcAWjwgV1k8z1VYPN9SVjwEeFM8XS5QPAH2TDxfGUo8uQFIPJA1RzzvRUc8ZtVHPGyQSDyt7kg8RyNJPDEHSTyNu0g8yjpIPJFmRzxjZkY8cFZFPAbBQzx/n0E8zHs/PIbgPTy3fzw87Ts7PPoROjxnBjk83Pk3PCrwNjy+8DU8sEE1PGiaNDyB1zM8lxkzPFNlMjw4JjI8LdAxPCNBMTzglzA8vcsvPNv/LjwtbS08SIsrPPSZKTxaRSc8Wb4kPAWcIDyVJB08mdEbPPTiGzwsNx08D0UfPGZ5IjyNHCI89OYiPA==",
          "dtype": "f4"
         }
        },
        {
         "fill": "toself",
         "fillcolor": "#8FBC8F",
         "hoverinfo": "skip",
         "legendgroup": "25",
         "line": {
          "color": "#8FBC8F"
         },
         "name": "25",
         "opacity": 0.15,
         "showlegend": false,
         "type": "scatter",
         "x": [
          500,
          505.050505050505,
          510.1010101010101,
          515.1515151515151,
          520.2020202020202,
          525.2525252525253,
          530.3030303030303,
          535.3535353535353,
          540.4040404040404,
          545.4545454545455,
          550.5050505050505,
          555.5555555555555,
          560.6060606060606,
          565.6565656565656,
          570.7070707070707,
          575.7575757575758,
          580.8080808080808,
          585.8585858585859,
          590.9090909090909,
          595.959595959596,
          601.010101010101,
          606.060606060606,
          611.1111111111111,
          616.1616161616162,
          621.2121212121212,
          626.2626262626262,
          631.3131313131313,
          636.3636363636364,
          641.4141414141413,
          646.4646464646464,
          651.5151515151515,
          656.5656565656566,
          661.6161616161617,
          666.6666666666666,
          671.7171717171717,
          676.7676767676768,
          681.8181818181818,
          686.8686868686868,
          691.9191919191919,
          696.969696969697,
          702.0202020202021,
          707.070707070707,
          712.1212121212121,
          717.1717171717171,
          722.2222222222222,
          727.2727272727273,
          732.3232323232323,
          737.3737373737374,
          742.4242424242424,
          747.4747474747475,
          752.5252525252525,
          757.5757575757575,
          762.6262626262626,
          767.6767676767677,
          772.7272727272727,
          777.7777777777778,
          782.8282828282828,
          787.8787878787879,
          792.9292929292928,
          797.9797979797979,
          803.030303030303,
          808.0808080808081,
          813.1313131313132,
          818.1818181818182,
          823.2323232323232,
          828.2828282828282,
          833.3333333333333,
          838.3838383838383,
          843.4343434343434,
          848.4848484848485,
          853.5353535353536,
          858.5858585858585,
          863.6363636363636,
          868.6868686868686,
          873.7373737373737,
          878.7878787878788,
          883.8383838383838,
          888.8888888888889,
          893.939393939394,
          898.989898989899,
          904.040404040404,
          909.090909090909,
          914.141414141414,
          919.1919191919192,
          924.2424242424242,
          929.2929292929292,
          934.3434343434344,
          939.3939393939394,
          944.4444444444443,
          949.4949494949494,
          954.5454545454544,
          959.5959595959596,
          964.6464646464648,
          969.6969696969696,
          974.7474747474748,
          979.7979797979798,
          984.8484848484848,
          989.8989898989898,
          994.9494949494948,
          1000,
          1000,
          994.9494949494948,
          989.8989898989898,
          984.8484848484848,
          979.7979797979798,
          974.7474747474748,
          969.6969696969696,
          964.6464646464648,
          959.5959595959596,
          954.5454545454544,
          949.4949494949494,
          944.4444444444443,
          939.3939393939394,
          934.3434343434344,
          929.2929292929292,
          924.2424242424242,
          919.1919191919192,
          914.141414141414,
          909.090909090909,
          904.040404040404,
          898.989898989899,
          893.939393939394,
          888.8888888888889,
          883.8383838383838,
          878.7878787878788,
          873.7373737373737,
          868.6868686868686,
          863.6363636363636,
          858.5858585858585,
          853.5353535353536,
          848.4848484848485,
          843.4343434343434,
          838.3838383838383,
          833.3333333333333,
          828.2828282828282,
          823.2323232323232,
          818.1818181818182,
          813.1313131313132,
          808.0808080808081,
          803.030303030303,
          797.9797979797979,
          792.9292929292928,
          787.8787878787879,
          782.8282828282828,
          777.7777777777778,
          772.7272727272727,
          767.6767676767677,
          762.6262626262626,
          757.5757575757575,
          752.5252525252525,
          747.4747474747475,
          742.4242424242424,
          737.3737373737374,
          732.3232323232323,
          727.2727272727273,
          722.2222222222222,
          717.1717171717171,
          712.1212121212121,
          707.070707070707,
          702.0202020202021,
          696.969696969697,
          691.9191919191919,
          686.8686868686868,
          681.8181818181818,
          676.7676767676768,
          671.7171717171717,
          666.6666666666666,
          661.6161616161617,
          656.5656565656566,
          651.5151515151515,
          646.4646464646464,
          641.4141414141413,
          636.3636363636364,
          631.3131313131313,
          626.2626262626262,
          621.2121212121212,
          616.1616161616162,
          611.1111111111111,
          606.060606060606,
          601.010101010101,
          595.959595959596,
          590.9090909090909,
          585.8585858585859,
          580.8080808080808,
          575.7575757575758,
          570.7070707070707,
          565.6565656565656,
          560.6060606060606,
          555.5555555555555,
          550.5050505050505,
          545.4545454545455,
          540.4040404040404,
          535.3535353535353,
          530.3030303030303,
          525.2525252525253,
          520.2020202020202,
          515.1515151515151,
          510.1010101010101,
          505.050505050505,
          500
         ],
         "y": [
          0.005750724114477634,
          0.0054961335845291615,
          0.005182353779673576,
          0.004792180843651295,
          0.004409100394695997,
          0.004082703962922096,
          0.003821642138063907,
          0.003713855054229498,
          0.003704925300553441,
          0.00380121567286551,
          0.00399123365059495,
          0.00411838898435235,
          0.004086580127477646,
          0.003884512465447187,
          0.003603355959057808,
          0.003501533530652523,
          0.003805057378485799,
          0.004646936431527138,
          0.0058838361874222755,
          0.007167808711528778,
          0.008273718878626823,
          0.009159578941762447,
          0.00986445788294077,
          0.010439878329634666,
          0.01090569607913494,
          0.011281265877187252,
          0.011568562127649784,
          0.011811272241175176,
          0.012038329616189005,
          0.012207950465381144,
          0.012302573770284653,
          0.012392769567668438,
          0.0125140817835927,
          0.012677324004471302,
          0.012871656566858292,
          0.013074105605483057,
          0.01329314336180687,
          0.013476544059813024,
          0.013623853214085102,
          0.013733399100601671,
          0.01378210447728634,
          0.01379402820020914,
          0.01375865750014782,
          0.013711168430745602,
          0.013647768646478651,
          0.01356403436511755,
          0.013416141271591188,
          0.013218624517321588,
          0.012993257492780684,
          0.01277545653283596,
          0.012583226896822453,
          0.012440144084393978,
          0.01237829402089119,
          0.01237319689244032,
          0.012401381507515907,
          0.01244610082358122,
          0.012471860274672508,
          0.012487184256315231,
          0.012483390048146248,
          0.012465566396713257,
          0.012436836026608944,
          0.012386280111968516,
          0.012324661016464232,
          0.01225945446640253,
          0.012165063992142676,
          0.01203266903758049,
          0.011906037107110023,
          0.011810939759016035,
          0.011729068122804163,
          0.011658324860036371,
          0.011591339483857157,
          0.011532586067914965,
          0.01147322915494442,
          0.011409698985517023,
          0.01135268621146679,
          0.011315137147903442,
          0.011276820674538612,
          0.011231043376028538,
          0.011187052354216576,
          0.01114437635987997,
          0.011127990670502186,
          0.011106492020189762,
          0.011071110144257544,
          0.011030802503228188,
          0.010984482243657112,
          0.010935930535197258,
          0.010844013653695583,
          0.010743862949311732,
          0.010629850439727306,
          0.010492258705198765,
          0.01034983154386282,
          0.010110857896506786,
          0.0099245673045516,
          0.009837174788117409,
          0.009864549152553082,
          0.010003163479268553,
          0.010125009343028069,
          0.010372628457844256,
          0.010453341528773308,
          0.01053598988801241,
          0.009349527768790722,
          0.00933566316962242,
          0.009460649453103542,
          0.009317100048065186,
          0.009188183583319187,
          0.009164568968117235,
          0.009183667600154877,
          0.009257915429770948,
          0.009494788013398647,
          0.009760464541614056,
          0.009926552884280682,
          0.010073442943394184,
          0.010196574963629246,
          0.010326209478080273,
          0.01042630523443222,
          0.010474972426891329,
          0.010525992140173912,
          0.01056639477610588,
          0.010599219240248203,
          0.01061874907463789,
          0.010632454417645931,
          0.010675735771656036,
          0.010722302831709383,
          0.010769462212920187,
          0.010810911655426024,
          0.010856835171580316,
          0.010921617038547993,
          0.010984780266880987,
          0.011053474619984629,
          0.011122310534119606,
          0.01119739841669798,
          0.01128104981034994,
          0.01136741042137146,
          0.011468423530459404,
          0.01160295493900776,
          0.01173068769276142,
          0.011829613707959652,
          0.01189408265054226,
          0.01195461954921484,
          0.012005259282886982,
          0.012037927284836767,
          0.012056171894073486,
          0.012065770104527472,
          0.012056011706590652,
          0.012036827392876148,
          0.01199236698448658,
          0.011952142231166364,
          0.011939238756895064,
          0.011974739842116833,
          0.012087074108421804,
          0.012244191020727158,
          0.012419475242495537,
          0.012595439329743384,
          0.012746421620249748,
          0.012844069860875608,
          0.012883033603429794,
          0.012900411151349545,
          0.012901153415441511,
          0.012891619466245174,
          0.012847192585468292,
          0.012769748456776142,
          0.012645491398870943,
          0.012489750050008295,
          0.01230582781136036,
          0.012092048302292824,
          0.01188945397734642,
          0.011707824654877186,
          0.01156377885490656,
          0.011469305492937565,
          0.011412177234888077,
          0.011368206702172756,
          0.011271364986896517,
          0.011120225302875042,
          0.010940059088170528,
          0.010711557231843472,
          0.010379601269960403,
          0.00993838906288147,
          0.009357177652418612,
          0.008613529615104198,
          0.007666297256946564,
          0.006507931277155876,
          0.005179406143724918,
          0.003890218213200569,
          0.0030026736203581095,
          0.002680494450032711,
          0.002790942322462797,
          0.003096404485404491,
          0.0033134266268461943,
          0.0033442778512835503,
          0.00321453926153481,
          0.003012868808582425,
          0.0029023417737334967,
          0.002911226823925972,
          0.0030415640212595463,
          0.003322204342111945,
          0.003671840997412801,
          0.00409121997654438,
          0.004481499083340168,
          0.0047655305825173855,
          0.004982608370482922
         ]
        }
       ],
       "layout": {
        "height": 350,
        "hovermode": "x",
        "legend": {
         "title": {
          "text": "angle"
         }
        },
        "margin": {
         "b": 0,
         "l": 0,
         "r": 0,
         "t": 40
        },
        "template": {
         "data": {
          "bar": [
           {
            "error_x": {
             "color": "#2a3f5f"
            },
            "error_y": {
             "color": "#2a3f5f"
            },
            "marker": {
             "line": {
              "color": "white",
              "width": 0.5
             },
             "pattern": {
              "fillmode": "overlay",
              "size": 10,
              "solidity": 0.2
             }
            },
            "type": "bar"
           }
          ],
          "barpolar": [
           {
            "marker": {
             "line": {
              "color": "white",
              "width": 0.5
             },
             "pattern": {
              "fillmode": "overlay",
              "size": 10,
              "solidity": 0.2
             }
            },
            "type": "barpolar"
           }
          ],
          "carpet": [
           {
            "aaxis": {
             "endlinecolor": "#2a3f5f",
             "gridcolor": "#C8D4E3",
             "linecolor": "#C8D4E3",
             "minorgridcolor": "#C8D4E3",
             "startlinecolor": "#2a3f5f"
            },
            "baxis": {
             "endlinecolor": "#2a3f5f",
             "gridcolor": "#C8D4E3",
             "linecolor": "#C8D4E3",
             "minorgridcolor": "#C8D4E3",
             "startlinecolor": "#2a3f5f"
            },
            "type": "carpet"
           }
          ],
          "choropleth": [
           {
            "colorbar": {
             "outlinewidth": 0,
             "ticks": ""
            },
            "type": "choropleth"
           }
          ],
          "contour": [
           {
            "colorbar": {
             "outlinewidth": 0,
             "ticks": ""
            },
            "colorscale": [
             [
              0,
              "#0d0887"
             ],
             [
              0.1111111111111111,
              "#46039f"
             ],
             [
              0.2222222222222222,
              "#7201a8"
             ],
             [
              0.3333333333333333,
              "#9c179e"
             ],
             [
              0.4444444444444444,
              "#bd3786"
             ],
             [
              0.5555555555555556,
              "#d8576b"
             ],
             [
              0.6666666666666666,
              "#ed7953"
             ],
             [
              0.7777777777777778,
              "#fb9f3a"
             ],
             [
              0.8888888888888888,
              "#fdca26"
             ],
             [
              1,
              "#f0f921"
             ]
            ],
            "type": "contour"
           }
          ],
          "contourcarpet": [
           {
            "colorbar": {
             "outlinewidth": 0,
             "ticks": ""
            },
            "type": "contourcarpet"
           }
          ],
          "heatmap": [
           {
            "colorbar": {
             "outlinewidth": 0,
             "ticks": ""
            },
            "colorscale": [
             [
              0,
              "#0d0887"
             ],
             [
              0.1111111111111111,
              "#46039f"
             ],
             [
              0.2222222222222222,
              "#7201a8"
             ],
             [
              0.3333333333333333,
              "#9c179e"
             ],
             [
              0.4444444444444444,
              "#bd3786"
             ],
             [
              0.5555555555555556,
              "#d8576b"
             ],
             [
              0.6666666666666666,
              "#ed7953"
             ],
             [
              0.7777777777777778,
              "#fb9f3a"
             ],
             [
              0.8888888888888888,
              "#fdca26"
             ],
             [
              1,
              "#f0f921"
             ]
            ],
            "type": "heatmap"
           }
          ],
          "histogram": [
           {
            "marker": {
             "pattern": {
              "fillmode": "overlay",
              "size": 10,
              "solidity": 0.2
             }
            },
            "type": "histogram"
           }
          ],
          "histogram2d": [
           {
            "colorbar": {
             "outlinewidth": 0,
             "ticks": ""
            },
            "colorscale": [
             [
              0,
              "#0d0887"
             ],
             [
              0.1111111111111111,
              "#46039f"
             ],
             [
              0.2222222222222222,
              "#7201a8"
             ],
             [
              0.3333333333333333,
              "#9c179e"
             ],
             [
              0.4444444444444444,
              "#bd3786"
             ],
             [
              0.5555555555555556,
              "#d8576b"
             ],
             [
              0.6666666666666666,
              "#ed7953"
             ],
             [
              0.7777777777777778,
              "#fb9f3a"
             ],
             [
              0.8888888888888888,
              "#fdca26"
             ],
             [
              1,
              "#f0f921"
             ]
            ],
            "type": "histogram2d"
           }
          ],
          "histogram2dcontour": [
           {
            "colorbar": {
             "outlinewidth": 0,
             "ticks": ""
            },
            "colorscale": [
             [
              0,
              "#0d0887"
             ],
             [
              0.1111111111111111,
              "#46039f"
             ],
             [
              0.2222222222222222,
              "#7201a8"
             ],
             [
              0.3333333333333333,
              "#9c179e"
             ],
             [
              0.4444444444444444,
              "#bd3786"
             ],
             [
              0.5555555555555556,
              "#d8576b"
             ],
             [
              0.6666666666666666,
              "#ed7953"
             ],
             [
              0.7777777777777778,
              "#fb9f3a"
             ],
             [
              0.8888888888888888,
              "#fdca26"
             ],
             [
              1,
              "#f0f921"
             ]
            ],
            "type": "histogram2dcontour"
           }
          ],
          "mesh3d": [
           {
            "colorbar": {
             "outlinewidth": 0,
             "ticks": ""
            },
            "type": "mesh3d"
           }
          ],
          "parcoords": [
           {
            "line": {
             "colorbar": {
              "outlinewidth": 0,
              "ticks": ""
             }
            },
            "type": "parcoords"
           }
          ],
          "pie": [
           {
            "automargin": true,
            "type": "pie"
           }
          ],
          "scatter": [
           {
            "fillpattern": {
             "fillmode": "overlay",
             "size": 10,
             "solidity": 0.2
            },
            "type": "scatter"
           }
          ],
          "scatter3d": [
           {
            "line": {
             "colorbar": {
              "outlinewidth": 0,
              "ticks": ""
             }
            },
            "marker": {
             "colorbar": {
              "outlinewidth": 0,
              "ticks": ""
             }
            },
            "type": "scatter3d"
           }
          ],
          "scattercarpet": [
           {
            "marker": {
             "colorbar": {
              "outlinewidth": 0,
              "ticks": ""
             }
            },
            "type": "scattercarpet"
           }
          ],
          "scattergeo": [
           {
            "marker": {
             "colorbar": {
              "outlinewidth": 0,
              "ticks": ""
             }
            },
            "type": "scattergeo"
           }
          ],
          "scattergl": [
           {
            "marker": {
             "colorbar": {
              "outlinewidth": 0,
              "ticks": ""
             }
            },
            "type": "scattergl"
           }
          ],
          "scattermap": [
           {
            "marker": {
             "colorbar": {
              "outlinewidth": 0,
              "ticks": ""
             }
            },
            "type": "scattermap"
           }
          ],
          "scattermapbox": [
           {
            "marker": {
             "colorbar": {
              "outlinewidth": 0,
              "ticks": ""
             }
            },
            "type": "scattermapbox"
           }
          ],
          "scatterpolar": [
           {
            "marker": {
             "colorbar": {
              "outlinewidth": 0,
              "ticks": ""
             }
            },
            "type": "scatterpolar"
           }
          ],
          "scatterpolargl": [
           {
            "marker": {
             "colorbar": {
              "outlinewidth": 0,
              "ticks": ""
             }
            },
            "type": "scatterpolargl"
           }
          ],
          "scatterternary": [
           {
            "marker": {
             "colorbar": {
              "outlinewidth": 0,
              "ticks": ""
             }
            },
            "type": "scatterternary"
           }
          ],
          "surface": [
           {
            "colorbar": {
             "outlinewidth": 0,
             "ticks": ""
            },
            "colorscale": [
             [
              0,
              "#0d0887"
             ],
             [
              0.1111111111111111,
              "#46039f"
             ],
             [
              0.2222222222222222,
              "#7201a8"
             ],
             [
              0.3333333333333333,
              "#9c179e"
             ],
             [
              0.4444444444444444,
              "#bd3786"
             ],
             [
              0.5555555555555556,
              "#d8576b"
             ],
             [
              0.6666666666666666,
              "#ed7953"
             ],
             [
              0.7777777777777778,
              "#fb9f3a"
             ],
             [
              0.8888888888888888,
              "#fdca26"
             ],
             [
              1,
              "#f0f921"
             ]
            ],
            "type": "surface"
           }
          ],
          "table": [
           {
            "cells": {
             "fill": {
              "color": "#EBF0F8"
             },
             "line": {
              "color": "white"
             }
            },
            "header": {
             "fill": {
              "color": "#C8D4E3"
             },
             "line": {
              "color": "white"
             }
            },
            "type": "table"
           }
          ]
         },
         "layout": {
          "annotationdefaults": {
           "arrowcolor": "#2a3f5f",
           "arrowhead": 0,
           "arrowwidth": 1
          },
          "autotypenumbers": "strict",
          "coloraxis": {
           "colorbar": {
            "outlinewidth": 0,
            "ticks": ""
           }
          },
          "colorscale": {
           "diverging": [
            [
             0,
             "#8e0152"
            ],
            [
             0.1,
             "#c51b7d"
            ],
            [
             0.2,
             "#de77ae"
            ],
            [
             0.3,
             "#f1b6da"
            ],
            [
             0.4,
             "#fde0ef"
            ],
            [
             0.5,
             "#f7f7f7"
            ],
            [
             0.6,
             "#e6f5d0"
            ],
            [
             0.7,
             "#b8e186"
            ],
            [
             0.8,
             "#7fbc41"
            ],
            [
             0.9,
             "#4d9221"
            ],
            [
             1,
             "#276419"
            ]
           ],
           "sequential": [
            [
             0,
             "#0d0887"
            ],
            [
             0.1111111111111111,
             "#46039f"
            ],
            [
             0.2222222222222222,
             "#7201a8"
            ],
            [
             0.3333333333333333,
             "#9c179e"
            ],
            [
             0.4444444444444444,
             "#bd3786"
            ],
            [
             0.5555555555555556,
             "#d8576b"
            ],
            [
             0.6666666666666666,
             "#ed7953"
            ],
            [
             0.7777777777777778,
             "#fb9f3a"
            ],
            [
             0.8888888888888888,
             "#fdca26"
            ],
            [
             1,
             "#f0f921"
            ]
           ],
           "sequentialminus": [
            [
             0,
             "#0d0887"
            ],
            [
             0.1111111111111111,
             "#46039f"
            ],
            [
             0.2222222222222222,
             "#7201a8"
            ],
            [
             0.3333333333333333,
             "#9c179e"
            ],
            [
             0.4444444444444444,
             "#bd3786"
            ],
            [
             0.5555555555555556,
             "#d8576b"
            ],
            [
             0.6666666666666666,
             "#ed7953"
            ],
            [
             0.7777777777777778,
             "#fb9f3a"
            ],
            [
             0.8888888888888888,
             "#fdca26"
            ],
            [
             1,
             "#f0f921"
            ]
           ]
          },
          "colorway": [
           "#636efa",
           "#EF553B",
           "#00cc96",
           "#ab63fa",
           "#FFA15A",
           "#19d3f3",
           "#FF6692",
           "#B6E880",
           "#FF97FF",
           "#FECB52"
          ],
          "font": {
           "color": "#2a3f5f"
          },
          "geo": {
           "bgcolor": "white",
           "lakecolor": "white",
           "landcolor": "white",
           "showlakes": true,
           "showland": true,
           "subunitcolor": "#C8D4E3"
          },
          "hoverlabel": {
           "align": "left"
          },
          "hovermode": "closest",
          "mapbox": {
           "style": "light"
          },
          "paper_bgcolor": "white",
          "plot_bgcolor": "white",
          "polar": {
           "angularaxis": {
            "gridcolor": "#EBF0F8",
            "linecolor": "#EBF0F8",
            "ticks": ""
           },
           "bgcolor": "white",
           "radialaxis": {
            "gridcolor": "#EBF0F8",
            "linecolor": "#EBF0F8",
            "ticks": ""
           }
          },
          "scene": {
           "xaxis": {
            "backgroundcolor": "white",
            "gridcolor": "#DFE8F3",
            "gridwidth": 2,
            "linecolor": "#EBF0F8",
            "showbackground": true,
            "ticks": "",
            "zerolinecolor": "#EBF0F8"
           },
           "yaxis": {
            "backgroundcolor": "white",
            "gridcolor": "#DFE8F3",
            "gridwidth": 2,
            "linecolor": "#EBF0F8",
            "showbackground": true,
            "ticks": "",
            "zerolinecolor": "#EBF0F8"
           },
           "zaxis": {
            "backgroundcolor": "white",
            "gridcolor": "#DFE8F3",
            "gridwidth": 2,
            "linecolor": "#EBF0F8",
            "showbackground": true,
            "ticks": "",
            "zerolinecolor": "#EBF0F8"
           }
          },
          "shapedefaults": {
           "line": {
            "color": "#2a3f5f"
           }
          },
          "ternary": {
           "aaxis": {
            "gridcolor": "#DFE8F3",
            "linecolor": "#A2B1C6",
            "ticks": ""
           },
           "baxis": {
            "gridcolor": "#DFE8F3",
            "linecolor": "#A2B1C6",
            "ticks": ""
           },
           "bgcolor": "white",
           "caxis": {
            "gridcolor": "#DFE8F3",
            "linecolor": "#A2B1C6",
            "ticks": ""
           }
          },
          "title": {
           "x": 0.05
          },
          "xaxis": {
           "automargin": true,
           "gridcolor": "#EBF0F8",
           "linecolor": "#EBF0F8",
           "ticks": "",
           "title": {
            "standoff": 15
           },
           "zerolinecolor": "#EBF0F8",
           "zerolinewidth": 2
          },
          "yaxis": {
           "automargin": true,
           "gridcolor": "#EBF0F8",
           "linecolor": "#EBF0F8",
           "ticks": "",
           "title": {
            "standoff": 15
           },
           "zerolinecolor": "#EBF0F8",
           "zerolinewidth": 2
          }
         }
        },
        "title": {
         "text": "Median spectra for different angle",
         "x": 0.5
        },
        "width": 600,
        "xaxis": {
         "hoverformat": ".1f",
         "title": {
          "text": "<b>wavelength [nm]</b>"
         }
        },
        "yaxis": {
         "title": {
          "text": "<b>normalized reflectance [a.u.]</b>"
         }
        }
       }
      },
      "text/html": [
       "<div>            <script src=\"https://cdnjs.cloudflare.com/ajax/libs/mathjax/2.7.5/MathJax.js?config=TeX-AMS-MML_SVG\"></script><script type=\"text/javascript\">if (window.MathJax && window.MathJax.Hub && window.MathJax.Hub.Config) {window.MathJax.Hub.Config({SVG: {font: \"STIX-Web\"}});}</script>                <script type=\"text/javascript\">window.PlotlyConfig = {MathJaxConfig: 'local'};</script>\n",
       "        <script charset=\"utf-8\" src=\"https://cdn.plot.ly/plotly-3.0.0.min.js\"></script>                <div id=\"cd072cd8-be6f-4f62-ac4c-09c28206e7e3\" class=\"plotly-graph-div\" style=\"height:350px; width:600px;\"></div>            <script type=\"text/javascript\">                window.PLOTLYENV=window.PLOTLYENV || {};                                if (document.getElementById(\"cd072cd8-be6f-4f62-ac4c-09c28206e7e3\")) {                    Plotly.newPlot(                        \"cd072cd8-be6f-4f62-ac4c-09c28206e7e3\",                        [{\"hovertemplate\":\"wavelength: %{x:.1f}\\u003cbr\\u003enormalized reflectance: %{y:.5f}\\u003cbr\\u003estandard deviation: %{text:.5f}\",\"legendgroup\":\"-25\",\"line\":{\"color\":\"#008B8B\"},\"name\":\"-25\",\"text\":{\"dtype\":\"f8\",\"bdata\":\"AAAA4A4dNz8AAADAbCw2PwAAAIDQQzU\\u002fAAAAoP9jNT8AAACg47Q2PwAAACDAjzc\\u002fAAAAQH5COD8AAAAALSA5PwAAAIDVTjk\\u002fAAAAwNsEOT8AAADgDc84PwAAAKBi0jg\\u002fAAAA4NHbOD8AAABAH1I5PwAAAIBPFDo\\u002fAAAAYI5uOj8AAADAmPg5PwAAAKBsszg\\u002fAAAAwKBRNz8AAABArDQ2PwAAAAC1rjQ\\u002fAAAAAP+3Mj8AAAAgK2oxPwAAAKCBDzE\\u002fAAAAoPOXMT8AAAAgjcoyPwAAAIC4izQ\\u002fAAAAYP9zNj8AAADgV7o4PwAAAIDo+Do\\u002fAAAAoGCcPD8AAADAZKk9PwAAACD1eD4\\u002fAAAAIN4FPz8AAADA+lg\\u002fPwAAAIDYRz8\\u002fAAAAgCRkPz8AAABAB1U\\u002fPwAAAEA0Gj8\\u002fAAAAwO2jPj8AAADAvMU9PwAAAGAwzDw\\u002fAAAA4BZrOz8AAABgLvo5PwAAAEB0jzg\\u002fAAAAoJQhNz8AAACg14Y1PwAAAKDhBDQ\\u002fAAAAgM5rMj8AAABAiAMxPwAAAED\\u002fpi8\\u002fAAAAwEKmLT8AAABgAAksPwAAAAB8His\\u002fAAAAQHWwKj8AAAAg6gIrPwAAAOBLmis\\u002fAAAAoEgZLD8AAADAmZAsPwAAAMB3pCw\\u002fAAAAoLPoLD8AAABgHP8sPwAAAIBt6Sw\\u002fAAAAIAPjLD8AAAAAgBotPwAAAICGsiw\\u002fAAAAwN4TLT8AAAAAyWctPwAAAMDTnS0\\u002fAAAAQL5aLj8AAACAXtAuPwAAAGAUXi8\\u002fAAAAYJnfLz8AAACgRssvPwAAACDtDzA\\u002fAAAAYFdOMD8AAABgjWQwPwAAAOADZTA\\u002fAAAAAFN3MD8AAAAg+n0wPwAAAIDIbjA\\u002fAAAAQIljMD8AAACA0GwwPwAAAEDffzA\\u002fAAAAoOSwMD8AAABAkMcwPwAAAADkGjE\\u002fAAAAQOcBMj8AAADgK1UyPwAAAKBImjI\\u002fAAAAoNtQMz8AAADgdjI0PwAAAGAMyzU\\u002fAAAAAIRXNT8AAADgCQg3PwAAAODs6zo\\u002fAAAAAMD9Oj8AAABg2Xo+PwAAACCVqkI\\u002fAAAAgLa1Qz8=\"},\"x\":[500.0,505.050505050505,510.1010101010101,515.1515151515151,520.2020202020202,525.2525252525253,530.3030303030303,535.3535353535353,540.4040404040404,545.4545454545455,550.5050505050505,555.5555555555555,560.6060606060606,565.6565656565656,570.7070707070707,575.7575757575758,580.8080808080808,585.8585858585859,590.9090909090909,595.959595959596,601.010101010101,606.060606060606,611.1111111111111,616.1616161616162,621.2121212121212,626.2626262626262,631.3131313131313,636.3636363636364,641.4141414141413,646.4646464646464,651.5151515151515,656.5656565656566,661.6161616161617,666.6666666666666,671.7171717171717,676.7676767676768,681.8181818181818,686.8686868686868,691.9191919191919,696.969696969697,702.0202020202021,707.070707070707,712.1212121212121,717.1717171717171,722.2222222222222,727.2727272727273,732.3232323232323,737.3737373737374,742.4242424242424,747.4747474747475,752.5252525252525,757.5757575757575,762.6262626262626,767.6767676767677,772.7272727272727,777.7777777777778,782.8282828282828,787.8787878787879,792.9292929292928,797.9797979797979,803.030303030303,808.0808080808081,813.1313131313132,818.1818181818182,823.2323232323232,828.2828282828282,833.3333333333333,838.3838383838383,843.4343434343434,848.4848484848485,853.5353535353536,858.5858585858585,863.6363636363636,868.6868686868686,873.7373737373737,878.7878787878788,883.8383838383838,888.8888888888889,893.939393939394,898.989898989899,904.040404040404,909.090909090909,914.1414141414141,919.1919191919192,924.2424242424242,929.2929292929293,934.3434343434343,939.3939393939394,944.4444444444443,949.4949494949494,954.5454545454545,959.5959595959596,964.6464646464647,969.6969696969697,974.7474747474747,979.7979797979798,984.8484848484848,989.8989898989898,994.9494949494949,1000.0],\"y\":{\"dtype\":\"f4\",\"bdata\":\"yPmzO8anrDthG6M7wXaWO79RiTuZKXw7QPlpO1zkYTsTPWE7KRNoOwYGdTvkp3076b17O8bwbTuZXVo7etdSO40EZztPjI87xTG4O8EW4jtYLgM8L9sRPEZyHTzkqiY8EOAtPKd7Mzy0lDc8fPI6PCD5PTz\\u002fIUA8yUdBPHx1QjyQJUQ894xGPL+ISTyHxUw8xkRQPPlKUzzE2VU8\\u002fNlXPIr5WDwnglk87FtZPDEDWTwHYlg8LWVXPCZmVTz0j1I8CkxPPBAWTDx\\u002fOEk8ZyJHPMFbRjxjekY8Nh9HPGnvRzxXZUg8x6xIPLSeSDyqXkg8HOZHPM0bRzwdJkY8ahxFPPaRQzyWfkE8\\u002fWM\\u002fPB\\u002fSPTyWejw8vUI7PCQiOjwDHDk8fxY4PH0UNzyPGzY8dXI1PEzSNDzOGDQ8X2MzPNS5MjzhgzI83jYyPBGtMTy0BDE8pDgwPMlgLzxMvC08WcYrPL24KTzEQyc80ZEkPGdKIDysoRw8dAMbPGDiGjz9+Bs8mb8dPHSiIDyAECA8SaMgPA==\"},\"type\":\"scatter\"},{\"fill\":\"toself\",\"fillcolor\":\"#008B8B\",\"hoverinfo\":\"skip\",\"legendgroup\":\"-25\",\"line\":{\"color\":\"#008B8B\"},\"name\":\"-25\",\"opacity\":0.15,\"showlegend\":false,\"x\":[500.0,505.050505050505,510.1010101010101,515.1515151515151,520.2020202020202,525.2525252525253,530.3030303030303,535.3535353535353,540.4040404040404,545.4545454545455,550.5050505050505,555.5555555555555,560.6060606060606,565.6565656565656,570.7070707070707,575.7575757575758,580.8080808080808,585.8585858585859,590.9090909090909,595.959595959596,601.010101010101,606.060606060606,611.1111111111111,616.1616161616162,621.2121212121212,626.2626262626262,631.3131313131313,636.3636363636364,641.4141414141413,646.4646464646464,651.5151515151515,656.5656565656566,661.6161616161617,666.6666666666666,671.7171717171717,676.7676767676768,681.8181818181818,686.8686868686868,691.9191919191919,696.969696969697,702.0202020202021,707.070707070707,712.1212121212121,717.1717171717171,722.2222222222222,727.2727272727273,732.3232323232323,737.3737373737374,742.4242424242424,747.4747474747475,752.5252525252525,757.5757575757575,762.6262626262626,767.6767676767677,772.7272727272727,777.7777777777778,782.8282828282828,787.8787878787879,792.9292929292928,797.9797979797979,803.030303030303,808.0808080808081,813.1313131313132,818.1818181818182,823.2323232323232,828.2828282828282,833.3333333333333,838.3838383838383,843.4343434343434,848.4848484848485,853.5353535353536,858.5858585858585,863.6363636363636,868.6868686868686,873.7373737373737,878.7878787878788,883.8383838383838,888.8888888888889,893.939393939394,898.989898989899,904.040404040404,909.090909090909,914.1414141414141,919.1919191919192,924.2424242424242,929.2929292929293,934.3434343434343,939.3939393939394,944.4444444444443,949.4949494949494,954.5454545454545,959.5959595959596,964.6464646464647,969.6969696969697,974.7474747474747,979.7979797979798,984.8484848484848,989.8989898989898,994.9494949494949,1000.0,1000.0,994.9494949494949,989.8989898989898,984.8484848484848,979.7979797979798,974.7474747474747,969.6969696969697,964.6464646464647,959.5959595959596,954.5454545454545,949.4949494949494,944.4444444444443,939.3939393939394,934.3434343434343,929.2929292929293,924.2424242424242,919.1919191919192,914.1414141414141,909.090909090909,904.040404040404,898.989898989899,893.939393939394,888.8888888888889,883.8383838383838,878.7878787878788,873.7373737373737,868.6868686868686,863.6363636363636,858.5858585858585,853.5353535353536,848.4848484848485,843.4343434343434,838.3838383838383,833.3333333333333,828.2828282828282,823.2323232323232,818.1818181818182,813.1313131313132,808.0808080808081,803.030303030303,797.9797979797979,792.9292929292928,787.8787878787879,782.8282828282828,777.7777777777778,772.7272727272727,767.6767676767677,762.6262626262626,757.5757575757575,752.5252525252525,747.4747474747475,742.4242424242424,737.3737373737374,732.3232323232323,727.2727272727273,722.2222222222222,717.1717171717171,712.1212121212121,707.070707070707,702.0202020202021,696.969696969697,691.9191919191919,686.8686868686868,681.8181818181818,676.7676767676768,671.7171717171717,666.6666666666666,661.6161616161617,656.5656565656566,651.5151515151515,646.4646464646464,641.4141414141413,636.3636363636364,631.3131313131313,626.2626262626262,621.2121212121212,616.1616161616162,611.1111111111111,606.060606060606,601.010101010101,595.959595959596,590.9090909090909,585.8585858585859,580.8080808080808,575.7575757575758,570.7070707070707,565.6565656565656,560.6060606060606,555.5555555555555,550.5050505050505,545.4545454545455,540.4040404040404,535.3535353535353,530.3030303030303,525.2525252525253,520.2020202020202,515.1515151515151,510.1010101010101,505.050505050505,500.0],\"y\":[0.0058451066724956036,0.005607364699244499,0.005302105564624071,0.004918188322335482,0.0045371283777058125,0.004207214806228876,0.003940328489989042,0.003830226371064782,0.003823036327958107,0.003922940231859684,0.004117314703762531,0.004249231424182653,0.004220588598400354,0.004017048981040716,0.003729933872818947,0.0036205071955919266,0.003921338822692633,0.004757645074278116,0.005976984743028879,0.007238517981022596,0.008322243578732014,0.009187980554997921,0.009875492192804813,0.010432902723550797,0.01088095922023058,0.011241504922509193,0.011518390849232674,0.011752959340810776,0.011972358450293541,0.012138419784605503,0.01223346684128046,0.012321432121098042,0.0124368192628026,0.012591942213475704,0.0127789955586195,0.012975570745766163,0.01319070067256689,0.013374383561313152,0.013526991941034794,0.013642064295709133,0.013697379268705845,0.013715076260268688,0.013684915378689766,0.013641771860420704,0.01358172670006752,0.013499634340405464,0.013353314250707626,0.01315717026591301,0.012933490797877312,0.012716041877865791,0.012523024342954159,0.012380405329167843,0.012320728041231632,0.012321041896939278,0.012357060797512531,0.012409156188368797,0.012441784143447876,0.012462601065635681,0.012462801299989223,0.012448125518858433,0.012421416118741035,0.012373850680887699,0.0123146278783679,0.01225108839571476,0.012158697471022606,0.012028909288346767,0.011903398670256138,0.01181008666753769,0.011729791760444641,0.011661072261631489,0.011595770716667175,0.011537497863173485,0.011479007080197334,0.011416887864470482,0.011360058560967445,0.01132346224039793,0.01128660049289465,0.011242403648793697,0.011200238019227982,0.011160212568938732,0.011146443895995617,0.01112741231918335,0.011095111258327961,0.01105610653758049,0.011010375805199146,0.010960263200104237,0.010864977724850178,0.010759073309600353,0.010638721287250519,0.010492881760001183,0.010339267551898956,0.010091547854244709,0.009892567060887814,0.009786923415958881,0.009804816916584969,0.009930603206157684,0.01004005316644907,0.010269442573189735,0.010339210741221905,0.010406050831079483,0.00920305959880352,0.009199907071888447,0.009339271113276482,0.00921634677797556,0.009109022095799446,0.009101955220103264,0.009135621599853039,0.009227492846548557,0.009475179947912693,0.009749794378876686,0.009925173595547676,0.01007925160229206,0.010209529660642147,0.010342973284423351,0.010448192246258259,0.010501007549464703,0.010552581399679184,0.010593858547508717,0.010627266019582748,0.01064495649188757,0.010656912811100483,0.010697731748223305,0.01074208039790392,0.010786333121359348,0.010825841687619686,0.010869879275560379,0.010931748896837234,0.010992657393217087,0.01105886697769165,0.011125586926937103,0.011197899468243122,0.011277880519628525,0.011361395940184593,0.011459709145128727,0.011591021902859211,0.011714613065123558,0.011810312047600746,0.011873467825353146,0.011931397952139378,0.011980300769209862,0.01201107632368803,0.012026936747133732,0.012033848091959953,0.012020600959658623,0.011996995657682419,0.011949813924729824,0.011907238513231277,0.011892945505678654,0.011927991174161434,0.012040047906339169,0.012196822091937065,0.012371322140097618,0.01254623755812645,0.012696370482444763,0.012793727219104767,0.01283220387995243,0.012849007733166218,0.012848174199461937,0.012836243025958538,0.012788797728717327,0.012706995941698551,0.012577823363244534,0.012418202124536037,0.01223271805793047,0.012020961381494999,0.011822342872619629,0.011645196937024593,0.011506873182952404,0.011416229419410229,0.011360333301126957,0.011315290816128254,0.011217722669243813,0.011067744344472885,0.01089138351380825,0.010668043047189713,0.010344046168029308,0.00991225615143776,0.009344036690890789,0.008616729639470577,0.007691065780818462,0.006560852285474539,0.005265349987894297,0.004003834445029497,0.003128764219582081,0.002813871018588543,0.002934055868536234,0.003244319697842002,0.0034619623329490423,0.0034917297307401896,0.0033602099865674973,0.003159421728923917,0.0030506993643939495,0.0030634512659162283,0.00319998012855649,0.0034881739411503077,0.0038441778160631657,0.0042653982527554035,0.004653152544051409,0.004930682480335236,0.005139738786965609],\"type\":\"scatter\"},{\"hovertemplate\":\"wavelength: %{x:.1f}\\u003cbr\\u003enormalized reflectance: %{y:.5f}\\u003cbr\\u003estandard deviation: %{text:.5f}\",\"legendgroup\":\"0\",\"line\":{\"color\":\"#8B008B\"},\"name\":\"0\",\"text\":{\"dtype\":\"f8\",\"bdata\":\"AAAAwGEFNz8AAACg7hk2PwAAAADsczU\\u002fAAAAAA3ENT8AAABgL0M3PwAAAMCASzg\\u002fAAAA4BgwOT8AAACAFRU6PwAAAGDTTDo\\u002fAAAAAOP6OT8AAABg77s5PwAAACADuTk\\u002fAAAA4PfDOT8AAADg2E06PwAAAEAJHjs\\u002fAAAAwMpwOz8AAAAAf8s6PwAAAACQNTk\\u002fAAAAYMtkNz8AAACAxQY2PwAAAKDsmjQ\\u002fAAAAAIvqMj8AAABAIO4xPwAAAMDNzTE\\u002fAAAAgFaFMj8AAACgtcUzPwAAAOAfhzU\\u002fAAAAgJRlNz8AAACgvp45PwAAACCi0js\\u002fAAAAoNFZPT8AAACAYVY+PwAAAEA2FT8\\u002fAAAAwAKWPz8AAABAxdA\\u002fPwAAAABnrj8\\u002fAAAAAOGiPz8AAADAb3Q\\u002fPwAAAADwFD8\\u002fAAAAQJuKPj8AAADAup89PwAAAOB8mDw\\u002fAAAA4E41Oz8AAABgdLw5PwAAAMCiRTg\\u002fAAAAQP3UNj8AAACAYj41PwAAAICcyDM\\u002fAAAAoHNDMj8AAADgw\\u002fUwPwAAAIAP3S8\\u002fAAAAgDURLj8AAABgMnksPwAAAABwbys\\u002fAAAAgOXXKj8AAACAegkrPwAAAMB5lys\\u002fAAAAwBUTLD8AAABgP5csPwAAAEDCzSw\\u002fAAAAwHgyLT8AAACAlF4tPwAAACBLay0\\u002fAAAAQOV7LT8AAACAPs4tPwAAAOB4bS0\\u002fAAAA4K7MLT8AAACA6ykuPwAAAOBfbS4\\u002fAAAAoMkkLz8AAABgyqMvPwAAAMADJzA\\u002fAAAAQPFwMD8AAACA6m0wPwAAAECApDA\\u002fAAAAgPDrMD8AAAAgBAsxPwAAAKB4GTE\\u002fAAAAAFI2MT8AAADgsEQxPwAAAABSNzE\\u002fAAAAQGw5MT8AAAAgBEExPwAAAICCOzE\\u002fAAAAAHJfMT8AAABA41oxPwAAAIBkgjE\\u002fAAAAoGFBMj8AAABgk3oyPwAAACAfoTI\\u002fAAAAIH4GMz8AAADgin8zPwAAAMBSpjQ\\u002fAAAAoM4LND8AAACAyEc1PwAAAICgjjg\\u002fAAAAQJA0OD8AAABg5Ds7PwAAAOA1f0A\\u002fAAAAAOGBQT8=\"},\"x\":[500.0,505.050505050505,510.1010101010101,515.1515151515151,520.2020202020202,525.2525252525253,530.3030303030303,535.3535353535353,540.4040404040404,545.4545454545455,550.5050505050505,555.5555555555555,560.6060606060606,565.6565656565656,570.7070707070707,575.7575757575758,580.8080808080808,585.8585858585859,590.9090909090909,595.959595959596,601.010101010101,606.060606060606,611.1111111111111,616.1616161616162,621.2121212121212,626.2626262626262,631.3131313131313,636.3636363636364,641.4141414141413,646.4646464646464,651.5151515151515,656.5656565656566,661.6161616161617,666.6666666666666,671.7171717171717,676.7676767676768,681.8181818181818,686.8686868686868,691.9191919191919,696.969696969697,702.0202020202021,707.070707070707,712.1212121212121,717.1717171717171,722.2222222222222,727.2727272727273,732.3232323232323,737.3737373737374,742.4242424242424,747.4747474747475,752.5252525252525,757.5757575757575,762.6262626262626,767.6767676767677,772.7272727272727,777.7777777777778,782.8282828282828,787.8787878787879,792.9292929292928,797.9797979797979,803.030303030303,808.0808080808081,813.1313131313132,818.1818181818182,823.2323232323232,828.2828282828282,833.3333333333333,838.3838383838383,843.4343434343434,848.4848484848485,853.5353535353536,858.5858585858585,863.6363636363636,868.6868686868686,873.7373737373737,878.7878787878788,883.8383838383838,888.8888888888889,893.939393939394,898.989898989899,904.040404040404,909.090909090909,914.1414141414141,919.1919191919192,924.2424242424242,929.2929292929293,934.3434343434343,939.3939393939394,944.4444444444443,949.4949494949494,954.5454545454545,959.5959595959596,964.6464646464647,969.6969696969697,974.7474747474747,979.7979797979798,984.8484848484848,989.8989898989898,994.9494949494949,1000.0],\"y\":{\"dtype\":\"f4\",\"bdata\":\"r7C3O\\u002fwpsDudc6Y7jeOZO9bGjDsGh4E77e9wOya2aDsWymc7T09uOwHbejsdooE7LKyAOz+3czscT2A7XLxYOySQbDtb1ZE7UI+5Ow9o4jsT7wI8JlARPP2uHDwauyU8QM4sPOJHMjxsRDY84os5PIF8PDzjkj48Zqw\\u002fPNTUQDy8hUI8MO1EPC3sRzyAMEs8I7NOPO++UTwsUVQ83VlWPNGHVzwhJFg8txdYPK3YVzz8TVc8h2NWPBNzVDyXq1E8kHVOPKZLSzyXeUg8l25GPEe4RTwc6kU8E6NGPBOFRzwEB0g8UVtIPCFZSDz3IUg8f7RHPAr1RjzdBkY8IwdFPNODQzxTeEE8PGM\\u002fPLraPTznjTw8wF87PAxJOjx1Sjk8NUo4PE1PNzwPWzY8+bA1PPsPNTyDUjQ82JozPCLvMjxMsjI8j10yPGTVMTzMLzE8zmEwPOOALzx\\u002f2C08R9wrPFbNKTylVSc8R6EkPLheIDxtsBw8URcbPHQLGzzsOxw8CxkePL7+IDzErSA8WVohPA==\"},\"type\":\"scatter\"},{\"fill\":\"toself\",\"fillcolor\":\"#8B008B\",\"hoverinfo\":\"skip\",\"legendgroup\":\"0\",\"line\":{\"color\":\"#8B008B\"},\"name\":\"0\",\"opacity\":0.15,\"showlegend\":false,\"x\":[500.0,505.050505050505,510.1010101010101,515.1515151515151,520.2020202020202,525.2525252525253,530.3030303030303,535.3535353535353,540.4040404040404,545.4545454545455,550.5050505050505,555.5555555555555,560.6060606060606,565.6565656565656,570.7070707070707,575.7575757575758,580.8080808080808,585.8585858585859,590.9090909090909,595.959595959596,601.010101010101,606.060606060606,611.1111111111111,616.1616161616162,621.2121212121212,626.2626262626262,631.3131313131313,636.3636363636364,641.4141414141413,646.4646464646464,651.5151515151515,656.5656565656566,661.6161616161617,666.6666666666666,671.7171717171717,676.7676767676768,681.8181818181818,686.8686868686868,691.9191919191919,696.969696969697,702.0202020202021,707.070707070707,712.1212121212121,717.1717171717171,722.2222222222222,727.2727272727273,732.3232323232323,737.3737373737374,742.4242424242424,747.4747474747475,752.5252525252525,757.5757575757575,762.6262626262626,767.6767676767677,772.7272727272727,777.7777777777778,782.8282828282828,787.8787878787879,792.9292929292928,797.9797979797979,803.030303030303,808.0808080808081,813.1313131313132,818.1818181818182,823.2323232323232,828.2828282828282,833.3333333333333,838.3838383838383,843.4343434343434,848.4848484848485,853.5353535353536,858.5858585858585,863.6363636363636,868.6868686868686,873.7373737373737,878.7878787878788,883.8383838383838,888.8888888888889,893.939393939394,898.989898989899,904.040404040404,909.090909090909,914.1414141414141,919.1919191919192,924.2424242424242,929.2929292929293,934.3434343434343,939.3939393939394,944.4444444444443,949.4949494949494,954.5454545454545,959.5959595959596,964.6464646464647,969.6969696969697,974.7474747474747,979.7979797979798,984.8484848484848,989.8989898989898,994.9494949494949,1000.0,1000.0,994.9494949494949,989.8989898989898,984.8484848484848,979.7979797979798,974.7474747474747,969.6969696969697,964.6464646464647,959.5959595959596,954.5454545454545,949.4949494949494,944.4444444444443,939.3939393939394,934.3434343434343,929.2929292929293,924.2424242424242,919.1919191919192,914.1414141414141,909.090909090909,904.040404040404,898.989898989899,893.939393939394,888.8888888888889,883.8383838383838,878.7878787878788,873.7373737373737,868.6868686868686,863.6363636363636,858.5858585858585,853.5353535353536,848.4848484848485,843.4343434343434,838.3838383838383,833.3333333333333,828.2828282828282,823.2323232323232,818.1818181818182,813.1313131313132,808.0808080808081,803.030303030303,797.9797979797979,792.9292929292928,787.8787878787879,782.8282828282828,777.7777777777778,772.7272727272727,767.6767676767677,762.6262626262626,757.5757575757575,752.5252525252525,747.4747474747475,742.4242424242424,737.3737373737374,732.3232323232323,727.2727272727273,722.2222222222222,717.1717171717171,712.1212121212121,707.070707070707,702.0202020202021,696.969696969697,691.9191919191919,686.8686868686868,681.8181818181818,676.7676767676768,671.7171717171717,666.6666666666666,661.6161616161617,656.5656565656566,651.5151515151515,646.4646464646464,641.4141414141413,636.3636363636364,631.3131313131313,626.2626262626262,621.2121212121212,616.1616161616162,611.1111111111111,606.060606060606,601.010101010101,595.959595959596,590.9090909090909,585.8585858585859,580.8080808080808,575.7575757575758,570.7070707070707,565.6565656565656,560.6060606060606,555.5555555555555,550.5050505050505,545.4545454545455,540.4040404040404,535.3535353535353,530.3030303030303,525.2525252525253,520.2020202020202,515.1515151515151,510.1010101010101,505.050505050505,500.0],\"y\":[0.005957052111625671,0.005713337566703558,0.005407044198364019,0.0050284359604120255,0.004651120863854885,0.004323574714362621,0.004060746636241674,0.0039488812908530235,0.003938133362680674,0.004032742697745562,0.0042204223573207855,0.00434859050437808,0.004319924861192703,0.004120176658034325,0.0038364615757018328,0.003725835820659995,0.00401852373033762,0.004835145082324743,0.006019796244800091,0.007245474494993687,0.008305979892611504,0.009157844819128513,0.00983679760247469,0.010387075133621693,0.010829826816916466,0.011183097027242184,0.01145320013165474,0.011681861244142056,0.011895225383341312,0.012056242674589157,0.01214667595922947,0.012232404202222824,0.012346992269158363,0.012501404620707035,0.012687770649790764,0.012885117903351784,0.013098682276904583,0.013281832449138165,0.013433076441287994,0.013548973947763443,0.0136069655418396,0.013628542423248291,0.013604412786662579,0.013566920533776283,0.013511513359844685,0.013433640822768211,0.013291042298078537,0.013099132105708122,0.012879949994385242,0.01266696210950613,0.012479119934141636,0.012340722605586052,0.012285095639526844,0.012289056554436684,0.01232863962650299,0.012383999302983284,0.01241921167820692,0.012442994862794876,0.01244641188532114,0.01243488397449255,0.012411786243319511,0.01236745435744524,0.012311046943068504,0.012250572443008423,0.01216068398207426,0.012032987549901009,0.011908726766705513,0.011817923747003078,0.01174058299511671,0.011674010194838047,0.01161134708672762,0.01155572198331356,0.011499033309519291,0.011439032852649689,0.011384054087102413,0.011347760446369648,0.011311229318380356,0.011266917921602726,0.011224847286939621,0.01118476502597332,0.011169463396072388,0.011149385944008827,0.01111737359315157,0.011077565141022205,0.011030593886971474,0.010976698249578476,0.01087787002325058,0.010768084786832333,0.010645861737430096,0.01049755234271288,0.01033852156251669,0.010085727088153362,0.00987863726913929,0.009771888144314289,0.009787892922759056,0.009910482913255692,0.010018869303166866,0.010241917334496975,0.010310499928891659,0.010382482782006264,0.009313918650150299,0.009303607977926731,0.009410803206264973,0.009280181489884853,0.009161058813333511,0.009138466790318489,0.00916012842208147,0.009248457849025726,0.00949068833142519,0.00975791271775961,0.00992902833968401,0.010081932879984379,0.01021097507327795,0.010343527421355247,0.0104470644146204,0.010500418022274971,0.010551671497523785,0.01059082429856062,0.010623741894960403,0.01064407080411911,0.0106577780097723,0.010699573904275894,0.01074508298188448,0.010791117325425148,0.01083135325461626,0.01087616290897131,0.010937647894024849,0.01099728886038065,0.01106278970837593,0.011128562502563,0.011198795400559902,0.011276300065219402,0.01135766226798296,0.01145402155816555,0.011583957821130753,0.011705885641276836,0.011800682172179222,0.011862147599458694,0.011919311247766018,0.011966273188591003,0.011995374225080013,0.012010150589048862,0.012014610692858696,0.011998196132481098,0.011971447616815567,0.011919042095541954,0.011870427057147026,0.011850626207888126,0.011881932616233826,0.011992921121418476,0.012149383313953876,0.012322592549026012,0.012495383620262146,0.012642735615372658,0.012736864387989044,0.012770789675414562,0.012781515717506409,0.012774082832038403,0.012755872681736946,0.012702913954854012,0.012616923078894615,0.012484535574913025,0.012321907095611095,0.012133221141994,0.011918282136321068,0.011716838926076889,0.011537476442754269,0.011398417875170708,0.011306580156087875,0.01125095970928669,0.011207157745957375,0.011113361455500126,0.010967847891151905,0.01079622283577919,0.010579694993793964,0.010264614596962929,0.009843743406236172,0.00928961206227541,0.008580568246543407,0.007677160203456879,0.006573280319571495,0.005305876024067402,0.0040658204816281796,0.0032008078414946795,0.002888415241613984,0.0030089064966887236,0.0033174394629895687,0.0035336241126060486,0.0035635957028716803,0.003435079474002123,0.0032398952171206474,0.0031355179380625486,0.0031529106199741364,0.0032920734956860542,0.0035821523051708937,0.003941207192838192,0.00436419527977705,0.004752356093376875,0.005038859788328409,0.005254506133496761],\"type\":\"scatter\"},{\"hovertemplate\":\"wavelength: %{x:.1f}\\u003cbr\\u003enormalized reflectance: %{y:.5f}\\u003cbr\\u003estandard deviation: %{text:.5f}\",\"legendgroup\":\"25\",\"line\":{\"color\":\"#8FBC8F\"},\"name\":\"25\",\"text\":{\"dtype\":\"f8\",\"bdata\":\"AAAAQGwrOT8AAADgvfA3PwAAAGAx9zY\\u002fAAAAQBb4Nj8AAADAlCg4PwAAAGCI6zg\\u002fAAAA4MSPOT8AAAAA70w6PwAAAECPTDo\\u002fAAAAQCLVOT8AAABAYnM5PwAAAEC3XTk\\u002fAAAAAK5VOT8AAACgINM5PwAAAMAEnzo\\u002fAAAAoF\\u002fnOj8AAADA4Uo6PwAAAIDPyzg\\u002fAAAAgC8VNz8AAAAgdJ81PwAAAEBr5zM\\u002fAAAA4JnkMT8AAADgYJ8wPwAAAKDNbjA\\u002fAAAAoDU9MT8AAABgEasyPwAAAABEmDQ\\u002fAAAAoOukNj8AAADAxSE5PwAAACBHhDs\\u002fAAAAQC8tPT8AAAAAk0I+PwAAAIC3Iz8\\u002fAAAAgMDEPz8AAADApxdAPwAAAAANF0A\\u002fAAAAYBktQD8AAADA6SpAPwAAAMCMB0A\\u002fAAAAQLCTPz8AAAAgnKI+PwAAAMDzkT0\\u002fAAAAQEIZPD8AAACgHpE6PwAAAOAQDzk\\u002fAAAAoH+XNz8AAAAABPI1PwAAAICoazQ\\u002fAAAAADrNMj8AAACgk2gxPwAAAMAJQjA\\u002fAAAAQDKALj8AAAAgIMYsPwAAAIAdmCs\\u002fAAAAoB\\u002fOKj8AAADgd9IqPwAAAMDKQCs\\u002fAAAAQCmeKz8AAACAhf8rPwAAACCbBiw\\u002fAAAAQKVILD8AAACAEEosPwAAAGDrNyw\\u002fAAAAYIgrLD8AAADgo3csPwAAAOBmKSw\\u002fAAAAgPGtLD8AAADgMhEtPwAAAAB+XC0\\u002fAAAAIA01Lj8AAAAA\\u002fLwuPwAAAKAoZi8\\u002fAAAAQGkBMD8AAACgpvwvPwAAAEB+PzA\\u002fAAAAoL6FMD8AAABgBqAwPwAAAKCgqzA\\u002fAAAAYD3BMD8AAAAgTsYwPwAAAADUrzA\\u002fAAAAwFCfMD8AAACg24kwPwAAAGCmijA\\u002fAAAAABKyMD8AAABACrMwPwAAAKCm9zA\\u002fAAAA4PruMT8AAADAejsyPwAAAKB8iTI\\u002fAAAAYPlPMz8AAACA9i80PwAAAIBI2DU\\u002fAAAAIAVqNT8AAADA3e82PwAAAGCNtDo\\u002fAAAAgD15Oj8AAACAPeI9PwAAAMDhT0I\\u002fAAAAQGFwQz8=\"},\"x\":[500.0,505.050505050505,510.1010101010101,515.1515151515151,520.2020202020202,525.2525252525253,530.3030303030303,535.3535353535353,540.4040404040404,545.4545454545455,550.5050505050505,555.5555555555555,560.6060606060606,565.6565656565656,570.7070707070707,575.7575757575758,580.8080808080808,585.8585858585859,590.9090909090909,595.959595959596,601.010101010101,606.060606060606,611.1111111111111,616.1616161616162,621.2121212121212,626.2626262626262,631.3131313131313,636.3636363636364,641.4141414141413,646.4646464646464,651.5151515151515,656.5656565656566,661.6161616161617,666.6666666666666,671.7171717171717,676.7676767676768,681.8181818181818,686.8686868686868,691.9191919191919,696.969696969697,702.0202020202021,707.070707070707,712.1212121212121,717.1717171717171,722.2222222222222,727.2727272727273,732.3232323232323,737.3737373737374,742.4242424242424,747.4747474747475,752.5252525252525,757.5757575757575,762.6262626262626,767.6767676767677,772.7272727272727,777.7777777777778,782.8282828282828,787.8787878787879,792.9292929292928,797.9797979797979,803.030303030303,808.0808080808081,813.1313131313132,818.1818181818182,823.2323232323232,828.2828282828282,833.3333333333333,838.3838383838383,843.4343434343434,848.4848484848485,853.5353535353536,858.5858585858585,863.6363636363636,868.6868686868686,873.7373737373737,878.7878787878788,883.8383838383838,888.8888888888889,893.939393939394,898.989898989899,904.040404040404,909.090909090909,914.1414141414141,919.1919191919192,924.2424242424242,929.2929292929293,934.3434343434343,939.3939393939394,944.4444444444443,949.4949494949494,954.5454545454545,959.5959595959596,964.6464646464647,969.6969696969697,974.7474747474747,979.7979797979798,984.8484848484848,989.8989898989898,994.9494949494949,1000.0],\"y\":{\"dtype\":\"f4\",\"bdata\":\"3NqvO4ogqDsjVZ47r4uRO+1lhDvfpHI7v+RgOzcXWTvGgVg7r0hfO2cebDtjiXQ7wXtyOy3AZDtDh1E7nJJKO2MTXzts34s7mkK1OzYQ4DujlAI86ZgRPLF2HTxT8CY8gV4uPEsqNDwAZDg81to7PPnzPjzJIkE8cEVCPGZ6QzzvPkU8XcNHPNDXSjxAKU4877RRPES3VDzPMlc8IR1ZPK8lWjzcm1o8rWVaPIcAWjwgV1k8z1VYPN9SVjwEeFM8XS5QPAH2TDxfGUo8uQFIPJA1RzzvRUc8ZtVHPGyQSDyt7kg8RyNJPDEHSTyNu0g8yjpIPJFmRzxjZkY8cFZFPAbBQzx\\u002fn0E8zHs\\u002fPIbgPTy3fzw87Ts7PPoROjxnBjk83Pk3PCrwNjy+8DU8sEE1PGiaNDyB1zM8lxkzPFNlMjw4JjI8LdAxPCNBMTzglzA8vcsvPNv\\u002fLjwtbS08SIsrPPSZKTxaRSc8Wb4kPAWcIDyVJB08mdEbPPTiGzwsNx08D0UfPGZ5IjyNHCI89OYiPA==\"},\"type\":\"scatter\"},{\"fill\":\"toself\",\"fillcolor\":\"#8FBC8F\",\"hoverinfo\":\"skip\",\"legendgroup\":\"25\",\"line\":{\"color\":\"#8FBC8F\"},\"name\":\"25\",\"opacity\":0.15,\"showlegend\":false,\"x\":[500.0,505.050505050505,510.1010101010101,515.1515151515151,520.2020202020202,525.2525252525253,530.3030303030303,535.3535353535353,540.4040404040404,545.4545454545455,550.5050505050505,555.5555555555555,560.6060606060606,565.6565656565656,570.7070707070707,575.7575757575758,580.8080808080808,585.8585858585859,590.9090909090909,595.959595959596,601.010101010101,606.060606060606,611.1111111111111,616.1616161616162,621.2121212121212,626.2626262626262,631.3131313131313,636.3636363636364,641.4141414141413,646.4646464646464,651.5151515151515,656.5656565656566,661.6161616161617,666.6666666666666,671.7171717171717,676.7676767676768,681.8181818181818,686.8686868686868,691.9191919191919,696.969696969697,702.0202020202021,707.070707070707,712.1212121212121,717.1717171717171,722.2222222222222,727.2727272727273,732.3232323232323,737.3737373737374,742.4242424242424,747.4747474747475,752.5252525252525,757.5757575757575,762.6262626262626,767.6767676767677,772.7272727272727,777.7777777777778,782.8282828282828,787.8787878787879,792.9292929292928,797.9797979797979,803.030303030303,808.0808080808081,813.1313131313132,818.1818181818182,823.2323232323232,828.2828282828282,833.3333333333333,838.3838383838383,843.4343434343434,848.4848484848485,853.5353535353536,858.5858585858585,863.6363636363636,868.6868686868686,873.7373737373737,878.7878787878788,883.8383838383838,888.8888888888889,893.939393939394,898.989898989899,904.040404040404,909.090909090909,914.1414141414141,919.1919191919192,924.2424242424242,929.2929292929293,934.3434343434343,939.3939393939394,944.4444444444443,949.4949494949494,954.5454545454545,959.5959595959596,964.6464646464647,969.6969696969697,974.7474747474747,979.7979797979798,984.8484848484848,989.8989898989898,994.9494949494949,1000.0,1000.0,994.9494949494949,989.8989898989898,984.8484848484848,979.7979797979798,974.7474747474747,969.6969696969697,964.6464646464647,959.5959595959596,954.5454545454545,949.4949494949494,944.4444444444443,939.3939393939394,934.3434343434343,929.2929292929293,924.2424242424242,919.1919191919192,914.1414141414141,909.090909090909,904.040404040404,898.989898989899,893.939393939394,888.8888888888889,883.8383838383838,878.7878787878788,873.7373737373737,868.6868686868686,863.6363636363636,858.5858585858585,853.5353535353536,848.4848484848485,843.4343434343434,838.3838383838383,833.3333333333333,828.2828282828282,823.2323232323232,818.1818181818182,813.1313131313132,808.0808080808081,803.030303030303,797.9797979797979,792.9292929292928,787.8787878787879,782.8282828282828,777.7777777777778,772.7272727272727,767.6767676767677,762.6262626262626,757.5757575757575,752.5252525252525,747.4747474747475,742.4242424242424,737.3737373737374,732.3232323232323,727.2727272727273,722.2222222222222,717.1717171717171,712.1212121212121,707.070707070707,702.0202020202021,696.969696969697,691.9191919191919,686.8686868686868,681.8181818181818,676.7676767676768,671.7171717171717,666.6666666666666,661.6161616161617,656.5656565656566,651.5151515151515,646.4646464646464,641.4141414141413,636.3636363636364,631.3131313131313,626.2626262626262,621.2121212121212,616.1616161616162,611.1111111111111,606.060606060606,601.010101010101,595.959595959596,590.9090909090909,585.8585858585859,580.8080808080808,575.7575757575758,570.7070707070707,565.6565656565656,560.6060606060606,555.5555555555555,550.5050505050505,545.4545454545455,540.4040404040404,535.3535353535353,530.3030303030303,525.2525252525253,520.2020202020202,515.1515151515151,510.1010101010101,505.050505050505,500.0],\"y\":[0.005750724114477634,0.0054961335845291615,0.005182353779673576,0.004792180843651295,0.004409100394695997,0.004082703962922096,0.0038216421380639076,0.003713855054229498,0.003704925300553441,0.00380121567286551,0.00399123365059495,0.00411838898435235,0.004086580127477646,0.0038845124654471874,0.003603355959057808,0.003501533530652523,0.003805057378485799,0.004646936431527138,0.0058838361874222755,0.007167808711528778,0.008273718878626823,0.009159578941762447,0.00986445788294077,0.010439878329634666,0.010905696079134941,0.011281265877187252,0.011568562127649784,0.011811272241175175,0.012038329616189003,0.012207950465381145,0.012302573770284653,0.012392769567668438,0.012514081783592701,0.012677324004471302,0.012871656566858292,0.013074105605483055,0.01329314336180687,0.013476544059813023,0.013623853214085102,0.013733399100601673,0.013782104477286339,0.01379402820020914,0.01375865750014782,0.013711168430745602,0.013647768646478653,0.01356403436511755,0.013416141271591187,0.013218624517321587,0.012993257492780685,0.01277545653283596,0.012583226896822453,0.012440144084393978,0.01237829402089119,0.012373196892440319,0.012401381507515907,0.012446100823581219,0.012471860274672508,0.012487184256315231,0.012483390048146248,0.012465566396713257,0.012436836026608944,0.012386280111968517,0.012324661016464233,0.01225945446640253,0.012165063992142677,0.01203266903758049,0.011906037107110023,0.011810939759016037,0.011729068122804165,0.011658324860036373,0.011591339483857155,0.011532586067914963,0.01147322915494442,0.011409698985517025,0.01135268621146679,0.011315137147903442,0.011276820674538612,0.011231043376028538,0.011187052354216576,0.01114437635987997,0.011127990670502186,0.011106492020189762,0.011071110144257545,0.011030802503228188,0.010984482243657112,0.010935930535197258,0.010844013653695583,0.010743862949311733,0.010629850439727306,0.010492258705198765,0.01034983154386282,0.010110857896506786,0.009924567304551601,0.009837174788117409,0.009864549152553082,0.010003163479268551,0.010125009343028069,0.010372628457844257,0.010453341528773308,0.01053598988801241,0.009349527768790722,0.009335663169622421,0.009460649453103542,0.009317100048065186,0.009188183583319187,0.009164568968117237,0.009183667600154877,0.009257915429770947,0.009494788013398647,0.009760464541614056,0.009926552884280682,0.010073442943394184,0.010196574963629246,0.010326209478080273,0.01042630523443222,0.010474972426891327,0.010525992140173912,0.01056639477610588,0.010599219240248203,0.01061874907463789,0.010632454417645931,0.010675735771656036,0.010722302831709385,0.010769462212920189,0.010810911655426025,0.010856835171580315,0.010921617038547993,0.010984780266880989,0.011053474619984627,0.011122310534119606,0.011197398416697979,0.011281049810349941,0.01136741042137146,0.011468423530459404,0.011602954939007759,0.011730687692761421,0.011829613707959652,0.01189408265054226,0.01195461954921484,0.012005259282886982,0.012037927284836769,0.012056171894073486,0.012065770104527473,0.012056011706590652,0.012036827392876148,0.01199236698448658,0.011952142231166363,0.011939238756895065,0.011974739842116833,0.012087074108421803,0.012244191020727158,0.012419475242495537,0.012595439329743385,0.012746421620249748,0.012844069860875607,0.012883033603429794,0.012900411151349545,0.012901153415441513,0.012891619466245174,0.012847192585468292,0.012769748456776142,0.012645491398870945,0.012489750050008297,0.01230582781136036,0.012092048302292824,0.01188945397734642,0.011707824654877186,0.011563778854906559,0.011469305492937565,0.011412177234888077,0.011368206702172756,0.011271364986896515,0.011120225302875042,0.010940059088170528,0.010711557231843472,0.010379601269960403,0.00993838906288147,0.009357177652418613,0.008613529615104198,0.007666297256946564,0.006507931277155876,0.005179406143724918,0.003890218213200569,0.0030026736203581095,0.002680494450032711,0.002790942322462797,0.0030964044854044914,0.0033134266268461943,0.0033442778512835503,0.00321453926153481,0.003012868808582425,0.0029023417737334967,0.002911226823925972,0.0030415640212595463,0.003322204342111945,0.003671840997412801,0.00409121997654438,0.004481499083340168,0.0047655305825173855,0.004982608370482922],\"type\":\"scatter\"}],                        {\"template\":{\"data\":{\"barpolar\":[{\"marker\":{\"line\":{\"color\":\"white\",\"width\":0.5},\"pattern\":{\"fillmode\":\"overlay\",\"size\":10,\"solidity\":0.2}},\"type\":\"barpolar\"}],\"bar\":[{\"error_x\":{\"color\":\"#2a3f5f\"},\"error_y\":{\"color\":\"#2a3f5f\"},\"marker\":{\"line\":{\"color\":\"white\",\"width\":0.5},\"pattern\":{\"fillmode\":\"overlay\",\"size\":10,\"solidity\":0.2}},\"type\":\"bar\"}],\"carpet\":[{\"aaxis\":{\"endlinecolor\":\"#2a3f5f\",\"gridcolor\":\"#C8D4E3\",\"linecolor\":\"#C8D4E3\",\"minorgridcolor\":\"#C8D4E3\",\"startlinecolor\":\"#2a3f5f\"},\"baxis\":{\"endlinecolor\":\"#2a3f5f\",\"gridcolor\":\"#C8D4E3\",\"linecolor\":\"#C8D4E3\",\"minorgridcolor\":\"#C8D4E3\",\"startlinecolor\":\"#2a3f5f\"},\"type\":\"carpet\"}],\"choropleth\":[{\"colorbar\":{\"outlinewidth\":0,\"ticks\":\"\"},\"type\":\"choropleth\"}],\"contourcarpet\":[{\"colorbar\":{\"outlinewidth\":0,\"ticks\":\"\"},\"type\":\"contourcarpet\"}],\"contour\":[{\"colorbar\":{\"outlinewidth\":0,\"ticks\":\"\"},\"colorscale\":[[0.0,\"#0d0887\"],[0.1111111111111111,\"#46039f\"],[0.2222222222222222,\"#7201a8\"],[0.3333333333333333,\"#9c179e\"],[0.4444444444444444,\"#bd3786\"],[0.5555555555555556,\"#d8576b\"],[0.6666666666666666,\"#ed7953\"],[0.7777777777777778,\"#fb9f3a\"],[0.8888888888888888,\"#fdca26\"],[1.0,\"#f0f921\"]],\"type\":\"contour\"}],\"heatmap\":[{\"colorbar\":{\"outlinewidth\":0,\"ticks\":\"\"},\"colorscale\":[[0.0,\"#0d0887\"],[0.1111111111111111,\"#46039f\"],[0.2222222222222222,\"#7201a8\"],[0.3333333333333333,\"#9c179e\"],[0.4444444444444444,\"#bd3786\"],[0.5555555555555556,\"#d8576b\"],[0.6666666666666666,\"#ed7953\"],[0.7777777777777778,\"#fb9f3a\"],[0.8888888888888888,\"#fdca26\"],[1.0,\"#f0f921\"]],\"type\":\"heatmap\"}],\"histogram2dcontour\":[{\"colorbar\":{\"outlinewidth\":0,\"ticks\":\"\"},\"colorscale\":[[0.0,\"#0d0887\"],[0.1111111111111111,\"#46039f\"],[0.2222222222222222,\"#7201a8\"],[0.3333333333333333,\"#9c179e\"],[0.4444444444444444,\"#bd3786\"],[0.5555555555555556,\"#d8576b\"],[0.6666666666666666,\"#ed7953\"],[0.7777777777777778,\"#fb9f3a\"],[0.8888888888888888,\"#fdca26\"],[1.0,\"#f0f921\"]],\"type\":\"histogram2dcontour\"}],\"histogram2d\":[{\"colorbar\":{\"outlinewidth\":0,\"ticks\":\"\"},\"colorscale\":[[0.0,\"#0d0887\"],[0.1111111111111111,\"#46039f\"],[0.2222222222222222,\"#7201a8\"],[0.3333333333333333,\"#9c179e\"],[0.4444444444444444,\"#bd3786\"],[0.5555555555555556,\"#d8576b\"],[0.6666666666666666,\"#ed7953\"],[0.7777777777777778,\"#fb9f3a\"],[0.8888888888888888,\"#fdca26\"],[1.0,\"#f0f921\"]],\"type\":\"histogram2d\"}],\"histogram\":[{\"marker\":{\"pattern\":{\"fillmode\":\"overlay\",\"size\":10,\"solidity\":0.2}},\"type\":\"histogram\"}],\"mesh3d\":[{\"colorbar\":{\"outlinewidth\":0,\"ticks\":\"\"},\"type\":\"mesh3d\"}],\"parcoords\":[{\"line\":{\"colorbar\":{\"outlinewidth\":0,\"ticks\":\"\"}},\"type\":\"parcoords\"}],\"pie\":[{\"automargin\":true,\"type\":\"pie\"}],\"scatter3d\":[{\"line\":{\"colorbar\":{\"outlinewidth\":0,\"ticks\":\"\"}},\"marker\":{\"colorbar\":{\"outlinewidth\":0,\"ticks\":\"\"}},\"type\":\"scatter3d\"}],\"scattercarpet\":[{\"marker\":{\"colorbar\":{\"outlinewidth\":0,\"ticks\":\"\"}},\"type\":\"scattercarpet\"}],\"scattergeo\":[{\"marker\":{\"colorbar\":{\"outlinewidth\":0,\"ticks\":\"\"}},\"type\":\"scattergeo\"}],\"scattergl\":[{\"marker\":{\"colorbar\":{\"outlinewidth\":0,\"ticks\":\"\"}},\"type\":\"scattergl\"}],\"scattermapbox\":[{\"marker\":{\"colorbar\":{\"outlinewidth\":0,\"ticks\":\"\"}},\"type\":\"scattermapbox\"}],\"scattermap\":[{\"marker\":{\"colorbar\":{\"outlinewidth\":0,\"ticks\":\"\"}},\"type\":\"scattermap\"}],\"scatterpolargl\":[{\"marker\":{\"colorbar\":{\"outlinewidth\":0,\"ticks\":\"\"}},\"type\":\"scatterpolargl\"}],\"scatterpolar\":[{\"marker\":{\"colorbar\":{\"outlinewidth\":0,\"ticks\":\"\"}},\"type\":\"scatterpolar\"}],\"scatter\":[{\"fillpattern\":{\"fillmode\":\"overlay\",\"size\":10,\"solidity\":0.2},\"type\":\"scatter\"}],\"scatterternary\":[{\"marker\":{\"colorbar\":{\"outlinewidth\":0,\"ticks\":\"\"}},\"type\":\"scatterternary\"}],\"surface\":[{\"colorbar\":{\"outlinewidth\":0,\"ticks\":\"\"},\"colorscale\":[[0.0,\"#0d0887\"],[0.1111111111111111,\"#46039f\"],[0.2222222222222222,\"#7201a8\"],[0.3333333333333333,\"#9c179e\"],[0.4444444444444444,\"#bd3786\"],[0.5555555555555556,\"#d8576b\"],[0.6666666666666666,\"#ed7953\"],[0.7777777777777778,\"#fb9f3a\"],[0.8888888888888888,\"#fdca26\"],[1.0,\"#f0f921\"]],\"type\":\"surface\"}],\"table\":[{\"cells\":{\"fill\":{\"color\":\"#EBF0F8\"},\"line\":{\"color\":\"white\"}},\"header\":{\"fill\":{\"color\":\"#C8D4E3\"},\"line\":{\"color\":\"white\"}},\"type\":\"table\"}]},\"layout\":{\"annotationdefaults\":{\"arrowcolor\":\"#2a3f5f\",\"arrowhead\":0,\"arrowwidth\":1},\"autotypenumbers\":\"strict\",\"coloraxis\":{\"colorbar\":{\"outlinewidth\":0,\"ticks\":\"\"}},\"colorscale\":{\"diverging\":[[0,\"#8e0152\"],[0.1,\"#c51b7d\"],[0.2,\"#de77ae\"],[0.3,\"#f1b6da\"],[0.4,\"#fde0ef\"],[0.5,\"#f7f7f7\"],[0.6,\"#e6f5d0\"],[0.7,\"#b8e186\"],[0.8,\"#7fbc41\"],[0.9,\"#4d9221\"],[1,\"#276419\"]],\"sequential\":[[0.0,\"#0d0887\"],[0.1111111111111111,\"#46039f\"],[0.2222222222222222,\"#7201a8\"],[0.3333333333333333,\"#9c179e\"],[0.4444444444444444,\"#bd3786\"],[0.5555555555555556,\"#d8576b\"],[0.6666666666666666,\"#ed7953\"],[0.7777777777777778,\"#fb9f3a\"],[0.8888888888888888,\"#fdca26\"],[1.0,\"#f0f921\"]],\"sequentialminus\":[[0.0,\"#0d0887\"],[0.1111111111111111,\"#46039f\"],[0.2222222222222222,\"#7201a8\"],[0.3333333333333333,\"#9c179e\"],[0.4444444444444444,\"#bd3786\"],[0.5555555555555556,\"#d8576b\"],[0.6666666666666666,\"#ed7953\"],[0.7777777777777778,\"#fb9f3a\"],[0.8888888888888888,\"#fdca26\"],[1.0,\"#f0f921\"]]},\"colorway\":[\"#636efa\",\"#EF553B\",\"#00cc96\",\"#ab63fa\",\"#FFA15A\",\"#19d3f3\",\"#FF6692\",\"#B6E880\",\"#FF97FF\",\"#FECB52\"],\"font\":{\"color\":\"#2a3f5f\"},\"geo\":{\"bgcolor\":\"white\",\"lakecolor\":\"white\",\"landcolor\":\"white\",\"showlakes\":true,\"showland\":true,\"subunitcolor\":\"#C8D4E3\"},\"hoverlabel\":{\"align\":\"left\"},\"hovermode\":\"closest\",\"mapbox\":{\"style\":\"light\"},\"paper_bgcolor\":\"white\",\"plot_bgcolor\":\"white\",\"polar\":{\"angularaxis\":{\"gridcolor\":\"#EBF0F8\",\"linecolor\":\"#EBF0F8\",\"ticks\":\"\"},\"bgcolor\":\"white\",\"radialaxis\":{\"gridcolor\":\"#EBF0F8\",\"linecolor\":\"#EBF0F8\",\"ticks\":\"\"}},\"scene\":{\"xaxis\":{\"backgroundcolor\":\"white\",\"gridcolor\":\"#DFE8F3\",\"gridwidth\":2,\"linecolor\":\"#EBF0F8\",\"showbackground\":true,\"ticks\":\"\",\"zerolinecolor\":\"#EBF0F8\"},\"yaxis\":{\"backgroundcolor\":\"white\",\"gridcolor\":\"#DFE8F3\",\"gridwidth\":2,\"linecolor\":\"#EBF0F8\",\"showbackground\":true,\"ticks\":\"\",\"zerolinecolor\":\"#EBF0F8\"},\"zaxis\":{\"backgroundcolor\":\"white\",\"gridcolor\":\"#DFE8F3\",\"gridwidth\":2,\"linecolor\":\"#EBF0F8\",\"showbackground\":true,\"ticks\":\"\",\"zerolinecolor\":\"#EBF0F8\"}},\"shapedefaults\":{\"line\":{\"color\":\"#2a3f5f\"}},\"ternary\":{\"aaxis\":{\"gridcolor\":\"#DFE8F3\",\"linecolor\":\"#A2B1C6\",\"ticks\":\"\"},\"baxis\":{\"gridcolor\":\"#DFE8F3\",\"linecolor\":\"#A2B1C6\",\"ticks\":\"\"},\"bgcolor\":\"white\",\"caxis\":{\"gridcolor\":\"#DFE8F3\",\"linecolor\":\"#A2B1C6\",\"ticks\":\"\"}},\"title\":{\"x\":0.05},\"xaxis\":{\"automargin\":true,\"gridcolor\":\"#EBF0F8\",\"linecolor\":\"#EBF0F8\",\"ticks\":\"\",\"title\":{\"standoff\":15},\"zerolinecolor\":\"#EBF0F8\",\"zerolinewidth\":2},\"yaxis\":{\"automargin\":true,\"gridcolor\":\"#EBF0F8\",\"linecolor\":\"#EBF0F8\",\"ticks\":\"\",\"title\":{\"standoff\":15},\"zerolinecolor\":\"#EBF0F8\",\"zerolinewidth\":2}}},\"hovermode\":\"x\",\"xaxis\":{\"hoverformat\":\".1f\",\"title\":{\"text\":\"\\u003cb\\u003ewavelength [nm]\\u003c\\u002fb\\u003e\"}},\"margin\":{\"l\":0,\"r\":0,\"t\":40,\"b\":0},\"height\":350,\"width\":600,\"title\":{\"text\":\"Median spectra for different angle\",\"x\":0.5},\"legend\":{\"title\":{\"text\":\"angle\"}},\"yaxis\":{\"title\":{\"text\":\"\\u003cb\\u003enormalized reflectance [a.u.]\\u003c\\u002fb\\u003e\"}}},                        {\"responsive\": true}                    ).then(function(){\n",
       "                            \n",
       "var gd = document.getElementById('cd072cd8-be6f-4f62-ac4c-09c28206e7e3');\n",
       "var x = new MutationObserver(function (mutations, observer) {{\n",
       "        var display = window.getComputedStyle(gd).display;\n",
       "        if (!display || display === 'none') {{\n",
       "            console.log([gd, 'removed!']);\n",
       "            Plotly.purge(gd);\n",
       "            observer.disconnect();\n",
       "        }}\n",
       "}});\n",
       "\n",
       "// Listen for the removal of the full notebook cells\n",
       "var notebookContainer = gd.closest('#notebook-container');\n",
       "if (notebookContainer) {{\n",
       "    x.observe(notebookContainer, {childList: true});\n",
       "}}\n",
       "\n",
       "// Listen for the clearing of the current output cell\n",
       "var outputEl = gd.closest('.output');\n",
       "if (outputEl) {{\n",
       "    x.observe(outputEl, {childList: true});\n",
       "}}\n",
       "\n",
       "                        })                };            </script>        </div>"
      ]
     },
     "metadata": {},
     "output_type": "display_data"
    }
   ],
   "source": [
    "fig = go.Figure()\n",
    "angle_colors = {\n",
    "    -25: \"#008B8B\",\n",
    "    0: \"#8B008B\",\n",
    "    25: \"#8FBC8F\",\n",
    "}\n",
    "\n",
    "for angle in dfg[\"angle\"].unique():\n",
    "    dfa = dfg[dfg[\"angle\"] == angle]\n",
    "\n",
    "    mean = np.mean(np.stack(dfa[\"median_normalized_spectrum\"]), axis=0)\n",
    "    std = np.std(np.stack(dfa[\"median_normalized_spectrum\"]), axis=0)\n",
    "\n",
    "    fig = add_std_fill(\n",
    "        fig,\n",
    "        mid_line=mean,\n",
    "        std_range=std,\n",
    "        x=tivita_wavelengths(),\n",
    "        linecolor=angle_colors[angle],\n",
    "        label=str(angle),\n",
    "    )\n",
    "\n",
    "fig.update_layout(margin=dict(l=0, r=0, t=40, b=0))\n",
    "fig.update_layout(height=350, width=600, template=\"plotly_white\")\n",
    "fig.update_layout(title_text=\"Median spectra for different angle\", title_x=0.5)\n",
    "fig.update_layout(legend_title_text=\"angle\")\n",
    "fig.update_yaxes(title=\"<b>normalized reflectance [a.u.]</b>\")\n",
    "fig.update_xaxes(title=\"<b>wavelength [nm]</b>\")"
   ]
  },
  {
   "cell_type": "markdown",
   "metadata": {},
   "source": [
    "## PCA\n",
    "It is very common to visualize the high-dimensional median spectra with the help of PCA. This can be used to compare different groups or properties in the data (we have many examples of PCA plots in our papers). In general, we prefer PCA plots over non-linear visualization techniques like t-SNE or UMAP since PCA plots are much easier to interpret."
   ]
  },
  {
   "cell_type": "code",
   "execution_count": 9,
   "metadata": {},
   "outputs": [
    {
     "data": {
      "application/vnd.plotly.v1+json": {
       "config": {
        "plotlyServerURL": "https://plot.ly"
       },
       "data": [
        {
         "customdata": {
          "bdata": "AQEBAQEBAQIBAgECAQMBAwEDAgECAQIBAgICAgICAgMCAwIDAwEDAQMBAwIDAgMCAwMDAwMDBAEEAQQBBAIEAgQCBAMEAwQD",
          "dtype": "i1",
          "shape": "36, 2"
         },
         "hovertemplate": "angle=0<br>subject_name=P086<br>pca_1=%{x}<br>pca_2=%{y}<br>situs=%{customdata[0]}<br>repetition=%{customdata[1]}<extra></extra>",
         "legendgroup": "0, P086",
         "marker": {
          "color": "#636efa",
          "symbol": "circle"
         },
         "mode": "markers",
         "name": "0, P086",
         "orientation": "v",
         "showlegend": true,
         "type": "scatter",
         "x": {
          "bdata": "PGCJu/i5Mbu2H+q6yXePu/dOF7vpDfu6p2mBu8C+Fbsmx9S6sxAWu7FazLrvQrG69sAbu6GM3bpj87m6hCIbu62Fzbo8ybe6yjmCu1BxWLv2b/y6GVWFu4blS7tolAu7urCEu6DSS7sx6xe7Bt5vu/+8MrvKYQ67ACWAuyf/NruMMha7HwiEu1nWQLumKRC7",
          "dtype": "f4"
         },
         "xaxis": "x",
         "y": {
          "bdata": "DhcTO06nhDq/zh864a4mO/ncdjqiHzo6os7qOv2nFjpk/II5uaMkO2R3Ezs3Txk7cZ0mOzTgDzuYbRc7mKgjO7nMDjsMzhQ70jMIOrbAHbnFI3e6+lpoOjbx7Lco/w+6zdgAOlZwkrmzb3y6DW2VOrRjkzl3lhW5XlmVOoLVVTkQa1C5ngepOmmpajmu1ge6",
          "dtype": "f4"
         },
         "yaxis": "y"
        },
        {
         "customdata": {
          "bdata": "AQEBAQEBAQIBAgECAQMBAwEDAgECAQIBAgICAgICAgMCAwIDAwEDAQMBAwIDAgMCAwMDAwMDBAEEAQQBBAIEAgQCBAMEAwQD",
          "dtype": "i1",
          "shape": "36, 2"
         },
         "hovertemplate": "angle=0<br>subject_name=P087<br>pca_1=%{x}<br>pca_2=%{y}<br>situs=%{customdata[0]}<br>repetition=%{customdata[1]}<extra></extra>",
         "legendgroup": "0, P087",
         "marker": {
          "color": "#636efa",
          "symbol": "diamond"
         },
         "mode": "markers",
         "name": "0, P087",
         "orientation": "v",
         "showlegend": true,
         "type": "scatter",
         "x": {
          "bdata": "xuMvu/LAbLqOQj25340Ou8hXG7rdpRS4IJsBu2PszLhdZi85yAstOni86TojFw47EgSkOhCjFTsBcTw7vOL0Oir2NDuCB0c78INHu5YuvrpHukA5AzBru5gC/7qKWHW6HCQtu4XIq7q4kCs67vl0uljKMbpzUiG6RZSzuh6tjbruGDe6Kb97utkulbqaOde5",
          "dtype": "f4"
         },
         "xaxis": "x",
         "y": {
          "bdata": "Jjt1O69Y3DrXwn863B5fOxNZ0ToT8oU6ICVoO7kfxTpI/Zg6W/6YuuHGyboMpuK6M3Kxuhlj0bq+MuO6Al/iulFD8rqfafC6G6fNO2B/nzvtQoc7T/OcO5PIZztes0A781SMO+++UTvxDzA7Qoh7O2xBZjvq62c7mJlAOypJLTuejRc7oa9KO2gLPjuttyA7",
          "dtype": "f4"
         },
         "yaxis": "y"
        },
        {
         "customdata": {
          "bdata": "AQEBAQEBAQIBAgECAQMBAwEDAgECAQIBAgICAgICAgMCAwIDAwEDAQMBAwIDAgMCAwMDAwMDBAEEAQQBBAIEAgQCBAMEAwQD",
          "dtype": "i1",
          "shape": "36, 2"
         },
         "hovertemplate": "angle=0<br>subject_name=P088<br>pca_1=%{x}<br>pca_2=%{y}<br>situs=%{customdata[0]}<br>repetition=%{customdata[1]}<extra></extra>",
         "legendgroup": "0, P088",
         "marker": {
          "color": "#636efa",
          "symbol": "square"
         },
         "mode": "markers",
         "name": "0, P088",
         "orientation": "v",
         "showlegend": true,
         "type": "scatter",
         "x": {
          "bdata": "T5eku/dXarvYZhC7VhWNu+o/Rbu90lq6rt2luyxdcLv0Dji7DUMOu/lSzroKnIm6YyPdusWzpLoaAlu60V68ujnkjLoqhTm6yfgVu8akurrjL+G5ZcHput9Virqsjda5xjj0utCTiLru4ti5o6V0ugKcAzovr3c6o9Mwum3G4jlWvZA62hxjup/BHjrZMJw6",
          "dtype": "f4"
         },
         "xaxis": "x",
         "y": {
          "bdata": "mxdfO4oQyTqJiHU5o5QrO9LajzpBfF26GnpAO5WFqToM+cA5Y2yAumyKrbo5Pci6VUGfulsJyro4UOC6VnTkui51BLsZlAy7EPqJOtP/0zkoD3e5cverOt9hMTqj48E4wQKJOrQAkDlZ1oa5h5fkutanILusCSm7cdPsuv95ILtyfCy7wwnPuvoqG7v4uCe7",
          "dtype": "f4"
         },
         "yaxis": "y"
        },
        {
         "customdata": {
          "bdata": "AQEBAQEBAQIBAgECAQMBAwEDAgECAQIBAgICAgICAgMCAwIDAwEDAQMBAwIDAgMCAwMDAwMDBAEEAQQBBAIEAgQCBAMEAwQD",
          "dtype": "i1",
          "shape": "36, 2"
         },
         "hovertemplate": "angle=0<br>subject_name=P089<br>pca_1=%{x}<br>pca_2=%{y}<br>situs=%{customdata[0]}<br>repetition=%{customdata[1]}<extra></extra>",
         "legendgroup": "0, P089",
         "marker": {
          "color": "#636efa",
          "symbol": "x"
         },
         "mode": "markers",
         "name": "0, P089",
         "orientation": "v",
         "showlegend": true,
         "type": "scatter",
         "x": {
          "bdata": "NIjQusG49zcO1T+4AZlauvvWKzrwVPo5RvuUumf/7jiOFHw4nM/nuFawZjrDlH465HM+OMkyZjpt+II6vADGOXNzrTo1naE6ydGqurGCLbqXlv+5ZJeUuhaQvLl/jKO5p2xtuj25grkhteS45Pj3uqTsQ7pocim6DErHuoUp/Lmlc6K5wcujuu2foLmSota5",
          "dtype": "f4"
         },
         "xaxis": "x",
         "y": {
          "bdata": "Piutuf8pprov25y6Xtf4uUN0nrroQZa61CeDujpl2bpebNi6AlTOummf/boM5wS70Vv0urb0F7tYzxm7Jg75unpLILssLB+7Rl6EOpAoCjp6r+s5JrsNOqvqBTjvG3I3an0KOd14qrmPyNK5nkG5ug5CD7s4YxO74hnDuox4Frt15hu70fvguoavI7snTB+7",
          "dtype": "f4"
         },
         "yaxis": "y"
        },
        {
         "customdata": {
          "bdata": "AQEBAQEBAQIBAgECAQMBAwEDAgECAQIBAgICAgICAgMCAwIDAwEDAQMBAwIDAgMCAwMDAwMDBAEEAQQBBAIEAgQCBAMEAwQD",
          "dtype": "i1",
          "shape": "36, 2"
         },
         "hovertemplate": "angle=0<br>subject_name=P090<br>pca_1=%{x}<br>pca_2=%{y}<br>situs=%{customdata[0]}<br>repetition=%{customdata[1]}<extra></extra>",
         "legendgroup": "0, P090",
         "marker": {
          "color": "#636efa",
          "symbol": "cross"
         },
         "mode": "markers",
         "name": "0, P090",
         "orientation": "v",
         "showlegend": true,
         "type": "scatter",
         "x": {
          "bdata": "6e6Zuy0ITLuy90C7MAaau6FQLrvd/h67oSKKu0rXLbt6qRi7p6Ahu5B+qro7CZW6RgEXu2I/dLqMwTi61L0Au0+wbbpIa0G6HDGIu0qhcbvKgXK7rS6Ku2K7abuP3G67tLJtu4vDTbvxaUy7KiuhuoNy/rnkqwC6b8KBuo/al7m4B8i5t1mxuqnjIbpbESG6",
          "dtype": "f4"
         },
         "xaxis": "x",
         "y": {
          "bdata": "eCuAO9qxADvwnPY6+B+IO5kJ6zpRf+Y6untNO9WvsDqlVZM6or1Gug2I4Lo8bfW6SNEGusYQ4Low1u66THpVumJS67rARPe6dTOkOrcuKTqbKC46LyOQOm+63TmQRO85O0JcOu7JvDnICrs5NYqduoUI7roAzum65f3MunbVDLtmyAe7Uvjeuu7IHrvIbRq7",
          "dtype": "f4"
         },
         "yaxis": "y"
        },
        {
         "customdata": {
          "bdata": "AQEBAQEBAQIBAgECAQMBAwEDAgECAQIBAgICAgICAgMCAwIDAwEDAQMBAwIDAgMCAwMDAwMDBAEEAQQBBAIEAgQCBAMEAwQD",
          "dtype": "i1",
          "shape": "36, 2"
         },
         "hovertemplate": "angle=0<br>subject_name=P093<br>pca_1=%{x}<br>pca_2=%{y}<br>situs=%{customdata[0]}<br>repetition=%{customdata[1]}<extra></extra>",
         "legendgroup": "0, P093",
         "marker": {
          "color": "#636efa",
          "symbol": "circle"
         },
         "mode": "markers",
         "name": "0, P093",
         "orientation": "v",
         "showlegend": true,
         "type": "scatter",
         "x": {
          "bdata": "uZyguyynhbv3rXC75BSWu8RqdLvrDmy75VWXu83oabvC61W7Dt93u/57QrvtTSi7nBZfu30pF7sg9gy7Gv9bu+dO87oYtOu6veiqu1F2jrs2m3G741yVu13vcrtk4EW76AZsu4s/JrssuAG7ARsFuw6jILntJ0W7slqkuwbUYbtS1bK7qXCMu+nzSrvFxK67",
          "dtype": "f4"
         },
         "xaxis": "x",
         "y": {
          "bdata": "8va4O25NjzvZdog7SdatO6u/hju1lIE73WWvO4nkgzv8IHk7zxpyOwE0SjuIKC87q5JkO8yDHTtV9xc7dYNgO0unATuaYwc7UP4QO8+Xnjqz1Cc6N+0RO/s8tzo/zUk6CagiO8wwpTroLl86AFKFO44eAzsm2xk7xtUQO4uh9TkBtfa4vDXOOrozuTkenSc5",
          "dtype": "f4"
         },
         "yaxis": "y"
        },
        {
         "customdata": {
          "bdata": "AQEBAQEBAQIBAgECAQMBAwEDAgECAQIBAgICAgICAgMCAwIDAwEDAQMBAwIDAgMCAwMDAwMDBAEEAQQBBAIEAgQCBAMEAwQD",
          "dtype": "i1",
          "shape": "36, 2"
         },
         "hovertemplate": "angle=0<br>subject_name=P094<br>pca_1=%{x}<br>pca_2=%{y}<br>situs=%{customdata[0]}<br>repetition=%{customdata[1]}<extra></extra>",
         "legendgroup": "0, P094",
         "marker": {
          "color": "#636efa",
          "symbol": "diamond"
         },
         "mode": "markers",
         "name": "0, P094",
         "orientation": "v",
         "showlegend": true,
         "type": "scatter",
         "x": {
          "bdata": "Uz6xu0hmhruTVUS7GE+au9EBYrv3qAW7Ppa2u8NFart25zW7Qs2su216Z7tD1hi7qj2tu55xY7sm+gW7MCmou9CWSLu7qAK7kK+XOyEN1zsFA+87nH+jOxhH4jvHNPo7mCitO4UvyDvtaPg7GtPFO8UlBzwOwwc8oUXCO9AvCjxNABA8ARm/O9uYCDxXSBA8",
          "dtype": "f4"
         },
         "xaxis": "x",
         "y": {
          "bdata": "HjWOOxeqPjtFUe860DxYO4sTATvyAkM69B2GO1EACDs72506RMhVOybRnTqa/Aq5tAw8OzyZYTrGg565hpAyO5s0sDk1dPO5n4miOlVNBzpe6VM5a4qOOmNhqDl3oME4IGFbOrJxBjoavR25NfGUucFWtLojWPW69rVYuFINqLosrdO6W/O8OV/JqbpaTNy6",
          "dtype": "f4"
         },
         "yaxis": "y"
        },
        {
         "customdata": {
          "bdata": "AQEBAQEBAQIBAgECAQMBAwEDAgECAQIBAgICAgICAgMCAwIDAwEDAQMBAwIDAgMCAwMDAwMDBAEEAQQBBAIEAgQCBAMEAwQD",
          "dtype": "i1",
          "shape": "36, 2"
         },
         "hovertemplate": "angle=0<br>subject_name=P096<br>pca_1=%{x}<br>pca_2=%{y}<br>situs=%{customdata[0]}<br>repetition=%{customdata[1]}<extra></extra>",
         "legendgroup": "0, P096",
         "marker": {
          "color": "#636efa",
          "symbol": "square"
         },
         "mode": "markers",
         "name": "0, P096",
         "orientation": "v",
         "showlegend": true,
         "type": "scatter",
         "x": {
          "bdata": "e9qdOstKGDsrKS07RxGYOrjrJTskeDw7I0W1Op1AMTsjQks7Z5qWukKTlbcKcoI6ROJcOVAuwDr8iB07VzVVugdACDo/paQ6SH4JPMFTIjx0oxY8R0kPPFK9HjxDwBk8ACEUPJonJjxNRh48RGvMO9Aa7zupmN07kBPUOz4e6jue/+I73YrdO9t37DtrAeY7",
          "dtype": "f4"
         },
         "xaxis": "x",
         "y": {
          "bdata": "nGAGOySwhjosYCM6tEfkOqSGRTrudpQ5LOCqOvrLqznOEma5oJcrO+gw4DqWyjE6IGh4O1DmMTs4vNg69BlZO+4rEDv/zqk6taCsO806nDtaOpo75vuwO4sDoDtQwqE7cfa0O5nPozuA3qQ7xgdrO2tOVzuhQl07eMpdO9O1RztGyUY7Wh9XOya9SDtqJEU7",
          "dtype": "f4"
         },
         "yaxis": "y"
        },
        {
         "customdata": {
          "bdata": "AQEBAQEBAQIBAgECAQMBAwEDAgECAQIBAgICAgICAgMCAwIDAwEDAQMBAwIDAgMCAwMDAwMDBAEEAQQBBAIEAgQCBAMEAwQD",
          "dtype": "i1",
          "shape": "36, 2"
         },
         "hovertemplate": "angle=-25<br>subject_name=P086<br>pca_1=%{x}<br>pca_2=%{y}<br>situs=%{customdata[0]}<br>repetition=%{customdata[1]}<extra></extra>",
         "legendgroup": "-25, P086",
         "marker": {
          "color": "#EF553B",
          "symbol": "circle"
         },
         "mode": "markers",
         "name": "-25, P086",
         "orientation": "v",
         "showlegend": true,
         "type": "scatter",
         "x": {
          "bdata": "6RE0u2h587rH17q6MQ/CutwnYrowJfm5CRQauwvi3boMkZ26++2Ruk5HeLmppX64Xzpuug4eyLgyz105ZPGDuqEv7DSHGCc5VYBwu/x6TLs+mEm7n5x0u8cQT7uf4zu7ARVru8aFSLuyET+7pKhyux9QN7tOYSm7Ykliu5yxLrsncQ+7jv5cuzeQHrszCwa7",
          "dtype": "f4"
         },
         "xaxis": "x",
         "y": {
          "bdata": "ynVdOewksziy7IC3wOzuOc1ftTkGQ4c5kbUDuaamPbkegZK5bgtIO7QdQDvD80M7Ya85O5lLODuLUDw7/J5DO7R+QjsE5EI7xeSYupWzmLqIiaq62+WBusgsgroYn5O6+hmxukOyoLoOuKu6AS5nuTUIUrr3TXq6GCBXOc5lwbnIMDK6gbv7OVwAm7k4VQu6",
          "dtype": "f4"
         },
         "yaxis": "y"
        },
        {
         "customdata": {
          "bdata": "AQEBAQEBAQIBAgECAQMBAwEDAgECAQIBAgICAgICAgMCAwIDAwEDAQMBAwIDAgMCAwMDAwMDBAEEAQQBBAIEAgQCBAMEAwQD",
          "dtype": "i1",
          "shape": "36, 2"
         },
         "hovertemplate": "angle=-25<br>subject_name=P087<br>pca_1=%{x}<br>pca_2=%{y}<br>situs=%{customdata[0]}<br>repetition=%{customdata[1]}<extra></extra>",
         "legendgroup": "-25, P087",
         "marker": {
          "color": "#EF553B",
          "symbol": "diamond"
         },
         "mode": "markers",
         "name": "-25, P087",
         "orientation": "v",
         "showlegend": true,
         "type": "scatter",
         "x": {
          "bdata": "/U6LujxHvzmmY486jHRcuinpBDpMC806YHICujwHdjqECgM7N5SWOzOHpTvTEK47lCWXO05cozvvfbA7j6ysO/RnsztOVcM7i3hYu/6rFrtuvJe6w31Mu07VE7tpJnu69tJAu9zX+7q3XEi6eD5guz2KJ7vqqNa6tWtOu5AKFLvAtsa65wpSu9NwFLt8ELa6",
          "dtype": "f4"
         },
         "xaxis": "x",
         "y": {
          "bdata": "npM0Oy9buzp0JGM6A4YnO4SNtDrfnO85UE0RO5jOiDqTk5s5nPrvuvJezLrcjb+6Vkv6ur286Lq0A9i6HeL9uv1j6roeJdi6qK2QO7+cbTuZ5CM7URSWO5H2fTtRQSk7CIuXOyxfeTtlQyU7zd9DO3jTADs15ns6+DNZO/5PFDvjg8I6/lo/O9GG6jpbDmo6",
          "dtype": "f4"
         },
         "yaxis": "y"
        },
        {
         "customdata": {
          "bdata": "AQEBAQEBAQIBAgECAQMBAwEDAgECAQIBAgICAgICAgMCAwIDAwEDAQMBAwIDAgMCAwMDAwMDBAEEAQQBBAIEAgQCBAMEAwQD",
          "dtype": "i1",
          "shape": "36, 2"
         },
         "hovertemplate": "angle=-25<br>subject_name=P088<br>pca_1=%{x}<br>pca_2=%{y}<br>situs=%{customdata[0]}<br>repetition=%{customdata[1]}<extra></extra>",
         "legendgroup": "-25, P088",
         "marker": {
          "color": "#EF553B",
          "symbol": "square"
         },
         "mode": "markers",
         "name": "-25, P088",
         "orientation": "v",
         "showlegend": true,
         "type": "scatter",
         "x": {
          "bdata": "Et6Fuwb9Bbv3dKu6asBvu14T3bq2rY+6Yotmu5Ad37pkRYy6fGKVOtzT2Tph/hY7xP4COhmLjTpxr8060cJ2OeTMWDq8S5g6pZynurJFbLq/kEm6ys6AurQlbrr8mU26h4rHurIgl7rH+IC6TvyaukdAE7rq0ZW5Prl3uvJTvrkT8Yg4QqMMusAGsrnGpjY4",
          "dtype": "f4"
         },
         "xaxis": "x",
         "y": {
          "bdata": "ibYaOwksTzqvuhg6UVMFO8UvNDogYcQ5e3r6Onj6Jzp/z6M5A0LuuqLz+7p0XvK6iC0fu+MAH7siNx67klg1u1OlMrsWNjK74dvuugCLCrt/hhC7Eqkau5GuE7sVbRy7khIjuyZFNrsfVT27zBFyu5y/f7usW4O7ruhSu5w5bbtdYHS7zu94uw1ygbuADoS7",
          "dtype": "f4"
         },
         "yaxis": "y"
        },
        {
         "customdata": {
          "bdata": "AQEBAQEBAQIBAgECAQMBAwEDAgECAQIBAgICAgICAgMCAwIDAwEDAQMBAwIDAgMCAwMDAwMDBAEEAQQBBAIEAgQCBAMEAwQD",
          "dtype": "i1",
          "shape": "36, 2"
         },
         "hovertemplate": "angle=-25<br>subject_name=P089<br>pca_1=%{x}<br>pca_2=%{y}<br>situs=%{customdata[0]}<br>repetition=%{customdata[1]}<extra></extra>",
         "legendgroup": "-25, P089",
         "marker": {
          "color": "#EF553B",
          "symbol": "x"
         },
         "mode": "markers",
         "name": "-25, P089",
         "orientation": "v",
         "showlegend": true,
         "type": "scatter",
         "x": {
          "bdata": "YM5hufoHiDpFD6462gsPOalaojrJstc6bzMYOkMj7DoAIvc6dppdOhic9Tpg8BQ7rrt8OlkJFTvXhCM7IQefOit/IzvZwSk77Zv8ulgf67nTSxa6VF7xuqieFLr5Vwy6AX9GuuCxKDkv0C055jmqugvSRbpOkzq6LdJuugIx0rkUZ7e5BgI3uhXkpLlUCJe5",
          "dtype": "f4"
         },
         "xaxis": "x",
         "y": {
          "bdata": "3i63uj5A5Lr6EuG6QOXCuos6+Loe9P+6BgGzurAw4bq0mOC6gQLmuv9ICbtmegu7X7zmunsoDrueAwy7rhz5ulDpDbscqxS73SYyuktmvLqsvLi6xu15unkO7rqgV++6InRjulEdy7qrGMu63Aw2uxptQrvbnEO7d91Ku28ESrvtvEi7bqxiuwcxUrspTFW7",
          "dtype": "f4"
         },
         "yaxis": "y"
        },
        {
         "customdata": {
          "bdata": "AQEBAQEBAQIBAgECAQMBAwEDAgECAQIBAgICAgICAgMCAwIDAwEDAQMBAwIDAgMCAwMDAwMDBAEEAQQBBAIEAgQCBAMEAwQD",
          "dtype": "i1",
          "shape": "36, 2"
         },
         "hovertemplate": "angle=-25<br>subject_name=P090<br>pca_1=%{x}<br>pca_2=%{y}<br>situs=%{customdata[0]}<br>repetition=%{customdata[1]}<extra></extra>",
         "legendgroup": "-25, P090",
         "marker": {
          "color": "#EF553B",
          "symbol": "cross"
         },
         "mode": "markers",
         "name": "-25, P090",
         "orientation": "v",
         "showlegend": true,
         "type": "scatter",
         "x": {
          "bdata": "ck4Lux782brPdM266eEIu+C8vbr23ba6MqY5umLphbnuvh650SfTuukSmbcgbgQ3YC/BuqXyDrjVE6U4UzhauhEQvTlk+Aw6/YI+u7/FKLvUGCq7kNMvu/1MFrtMDRu7Qagcu007A7srIAi7AqTBumvuWLrreT+6AJaoui2X0bmNE+m5QSKMujXtgLl22Km5",
          "dtype": "f4"
         },
         "xaxis": "x",
         "y": {
          "bdata": "ItRnunrnQLp3VT26jGqEug5Eg7p3qn+6Xa6UuiTJcroLfnC6odWfuns+CrtyTQG7CVykuno//bpD0fa63rOZuoKHzrrUDOe6C3+DujwKorrALpq6rqyduvoYybq8N7y6Q4S9uk4g87qTzdy6A1jrusjbGLthnBO7x4fJui1hDrt43ge7GovbusvwDLtNFgm7",
          "dtype": "f4"
         },
         "yaxis": "y"
        },
        {
         "customdata": {
          "bdata": "AQEBAQEBAQIBAgECAQMBAwEDAgECAQIBAgICAgICAgMCAwIDAwEDAQMBAwIDAgMCAwMDAwMDBAEEAQQBBAIEAgQCBAMEAwQD",
          "dtype": "i1",
          "shape": "36, 2"
         },
         "hovertemplate": "angle=-25<br>subject_name=P093<br>pca_1=%{x}<br>pca_2=%{y}<br>situs=%{customdata[0]}<br>repetition=%{customdata[1]}<extra></extra>",
         "legendgroup": "-25, P093",
         "marker": {
          "color": "#EF553B",
          "symbol": "circle"
         },
         "mode": "markers",
         "name": "-25, P093",
         "orientation": "v",
         "showlegend": true,
         "type": "scatter",
         "x": {
          "bdata": "0lpwu8pz9bpvm/m6xJhpuzSr7bp15+i6+GNgu1RH1boY88a6MZRUuwLv+7qDyfC6yhZLu+elBbtxTb66ETNSu0s46brLl4W6LGZpu+UtS7tBwDi7mp9IuxLnIrtlggy7QH85u+SdHbvLwQu7RHaKu3fhcrvg3I+7QjJ+u4kRUbsDi3i7wVp5uwISUrtm8W27",
          "dtype": "f4"
         },
         "xaxis": "x",
         "y": {
          "bdata": "qx2EO3ftPDv0DEE7/Tl9O0jTNDtYDjQ7tAqCO5VGPTs2WDs7E8pwO3UdIzs3KiQ7mQFfO3ppHjsiVQg7DOBROzeaATuQd7k64QVJug+VkLpXQea6K6fMuXJacLoijti6iW/7uQEUkroIivm6D7eZupdn2brKpi67KqyuuiEc/7ptRj27VDO7urY1Arvwl0a7",
          "dtype": "f4"
         },
         "yaxis": "y"
        },
        {
         "customdata": {
          "bdata": "AQEBAQEBAQIBAgECAQMBAwEDAgECAQIBAgICAgICAgMCAwIDAwEDAQMBAwIDAgMCAwMDAwMDBAEEAQQBBAIEAgQCBAMEAwQD",
          "dtype": "i1",
          "shape": "36, 2"
         },
         "hovertemplate": "angle=-25<br>subject_name=P094<br>pca_1=%{x}<br>pca_2=%{y}<br>situs=%{customdata[0]}<br>repetition=%{customdata[1]}<extra></extra>",
         "legendgroup": "-25, P094",
         "marker": {
          "color": "#EF553B",
          "symbol": "diamond"
         },
         "mode": "markers",
         "name": "-25, P094",
         "orientation": "v",
         "showlegend": true,
         "type": "scatter",
         "x": {
          "bdata": "Bkygu3WRY7sqqki7EQqUu0C1TruRITO7fw+Ou1ITT7t3dR67P11Wu0Uj7LplhMy6rMI7uwgc8LoTCsy64YdOuwsG8bqgYcG65O2MOz4Gqzt3+bU7tuyVO9K3tDuHQr07sYmXO81wuTtIUsI7aMveO8Hf5TtLBPg7ty/aO0zU7Tu8bf87vAnbO5+J6jsaIPM7",
          "dtype": "f4"
         },
         "xaxis": "x",
         "y": {
          "bdata": "i0hAO+KOAztUrMo65U86OwMq9zoycM86yz1OOyjoCzsZKNs66u6mOl2CeznLRbw4/H8sOuJC6rjSq4i5gLtcOinFULljQ6q5Z+ujul6Jz7otmMy633mguncczbq9Z8a6dfu/utOb+bqdFve6AvAVu9NMB7ulmxS74XUFu6sAB7suiQq7xwkMuxnEEbubyhS7",
          "dtype": "f4"
         },
         "yaxis": "y"
        },
        {
         "customdata": {
          "bdata": "AQEBAQEBAQIBAgECAQMBAwEDAgECAQIBAgICAgICAgMCAwIDAwEDAQMBAwIDAgMCAwMDAwMDBAEEAQQBBAIEAgQCBAMEAwQD",
          "dtype": "i1",
          "shape": "36, 2"
         },
         "hovertemplate": "angle=-25<br>subject_name=P096<br>pca_1=%{x}<br>pca_2=%{y}<br>situs=%{customdata[0]}<br>repetition=%{customdata[1]}<extra></extra>",
         "legendgroup": "-25, P096",
         "marker": {
          "color": "#EF553B",
          "symbol": "square"
         },
         "mode": "markers",
         "name": "-25, P096",
         "orientation": "v",
         "showlegend": true,
         "type": "scatter",
         "x": {
          "bdata": "1di5tzTKGjsNWFI7NbvMuMD+KjtfVWo7MIUrOZsYMzuKb3A7B//kunza3bmvnRo73xbgurKL2Dhunhc7s1CtuoiS0Lf50Yk7ZiMiPNR2Kjz6YSw8mHkiPB7HLTzt3S08cacjPKcuMjze0C08mpAEPLo1DTwJ6g08FqUCPC2RCTw8hAs8sV4DPPd0DTwIJA88",
          "dtype": "f4"
         },
         "xaxis": "x",
         "y": {
          "bdata": "J5szO7MWhzoVsp85xYA2O/96Jzr6cZC4ZFkVO6hTcznUGvC5J6CVO1yKYDtHGfM6R6KZOwiqVzsg4wc7yYCZOzBkaTtcRK86rh+iO46lnzuSa6M7oDeZOxDmlzt2dJs78E+hO4GVnDuBqZ87LHztOnfI5jo/V/I6Y9rYOphvzjoWrt86zo+1OnUvnjrOa7I6",
          "dtype": "f4"
         },
         "yaxis": "y"
        },
        {
         "customdata": {
          "bdata": "AQEBAQEBAQIBAgECAQMBAwEDAgECAQIBAgICAgICAgMCAwIDAwEDAQMBAwIDAgMCAwMDAwMDBAEEAQQBBAIEAgQCBAMEAwQD",
          "dtype": "i1",
          "shape": "36, 2"
         },
         "hovertemplate": "angle=25<br>subject_name=P086<br>pca_1=%{x}<br>pca_2=%{y}<br>situs=%{customdata[0]}<br>repetition=%{customdata[1]}<extra></extra>",
         "legendgroup": "25, P086",
         "marker": {
          "color": "#00cc96",
          "symbol": "circle"
         },
         "mode": "markers",
         "name": "25, P086",
         "orientation": "v",
         "showlegend": true,
         "type": "scatter",
         "x": {
          "bdata": "wdeku45VYbuRY0m7X6aAu8Y9Frsaexu7iSKeu9kbRLvdwT67ub63u2N/i7uLJl274gCvu3JhhbuiDEe7JLOvu01jibsAx0m7RHhhu/viPrsW4i+74WJyu6gET7tPKDm7M0Bdu5vqQrvqzCy7nGlNufLBX7kKUpw53NxdudZyArkza6c53x+zuZ5Ga7iwzvM5",
          "dtype": "f4"
         },
         "xaxis": "x",
         "y": {
          "bdata": "usPOOuzVyrl3o/e5JfyrOtCSjLlDqj654O6XOhccQrqp8Sy6dVidO7XPTztrzBc799yUO3eAUjusMBI7zzGQOwdjTjv5tQQ7ccSnuQK7KLpcdT26cbeAuisvmrr3C6+6u4hpuiZ3hLrPNZ+6nYOXOUq7qLg4boS4Wv8NOkMgOTmi3BM5BMhxt+72bLmTmku5",
          "dtype": "f4"
         },
         "yaxis": "y"
        },
        {
         "customdata": {
          "bdata": "AQEBAQEBAQIBAgECAQMBAwEDAgECAQIBAgICAgICAgMCAwIDAwEDAQMBAwIDAgMCAwMDAwMDBAEEAQQBBAIEAgQCBAMEAwQD",
          "dtype": "i1",
          "shape": "36, 2"
         },
         "hovertemplate": "angle=25<br>subject_name=P087<br>pca_1=%{x}<br>pca_2=%{y}<br>situs=%{customdata[0]}<br>repetition=%{customdata[1]}<extra></extra>",
         "legendgroup": "25, P087",
         "marker": {
          "color": "#00cc96",
          "symbol": "diamond"
         },
         "mode": "markers",
         "name": "25, P087",
         "orientation": "v",
         "showlegend": true,
         "type": "scatter",
         "x": {
          "bdata": "fkcnOrZP/DlEa346SWJsOkqlXzp+Xps6W3G6OgTtjjr9Q806iFnZOvH1BzuzvRc7xGzdOm5MEztI8CA7jsvnOlgrFDsXvik7cvrxuFVRQLnIeJE5qYwnOvOiATqUk2A6eHkRO0KR/TqEwxc7k6+OOvDWiToOSY06nLK0Oml8pDrIK8s6Ety+OnGUsTrfEdE6",
          "dtype": "f4"
         },
         "xaxis": "x",
         "y": {
          "bdata": "Y77OuiaQxroupbm6uWriuhbg1roT1te6wqrrum9N1LruJNm6lA4puwmiMLsCry27d2ZOu1lfVLtXNU67ecpDuw00S7uYI0S7ddgxOy7SGTsqBR87F4oZO96DFTv32RU7S3giOyIJBDu6BA47MASzOmFWdzpSPYU6aCOlOsOLeDqRx4I69ah8OjolQjrKT1w6",
          "dtype": "f4"
         },
         "yaxis": "y"
        },
        {
         "customdata": {
          "bdata": "AQEBAQEBAQIBAgECAQMBAwEDAgECAQIBAgICAgICAgMCAwIDAwEDAQMBAwIDAgMCAwMDAwMDBAEEAQQBBAIEAgQCBAMEAwQD",
          "dtype": "i1",
          "shape": "36, 2"
         },
         "hovertemplate": "angle=25<br>subject_name=P088<br>pca_1=%{x}<br>pca_2=%{y}<br>situs=%{customdata[0]}<br>repetition=%{customdata[1]}<extra></extra>",
         "legendgroup": "25, P088",
         "marker": {
          "color": "#00cc96",
          "symbol": "square"
         },
         "mode": "markers",
         "name": "25, P088",
         "orientation": "v",
         "showlegend": true,
         "type": "scatter",
         "x": {
          "bdata": "Yd+JuxsLf7sf7127ASyGu22gbrudlVS7R/Vnu1qnTrv20Dy786oTuw3D6LqYA7W6XvD8ugNq3LpKt5y69tzguqBhw7pn75K6FJ5uuvTLsbnRknM5+Y6nuc/KObnmyqc5psBSukT4qDiDl5g5OM9gO/RgdjtvHos7Z2iMO1i7gjtNJJw7OJHEOyaqlDuhEa07",
          "dtype": "f4"
         },
         "xaxis": "x",
         "y": {
          "bdata": "Xc54unwRjLrWZcK62J2Puj4grLoqmdO66G6QurtXsLq+hNm6IEaEu0eVhLuhZYi7jnOGuw/ihLsWioa7GDSMuzOxi7v7Bo67F3Meu0j+F7t1Shy79EEpu9a/ELsMdRu7kNc3u+fKNrttwTe73PYau4bFCbuf9Pi6hhjwuq2DALsmlNm6LVzJugEaArsqBd26",
          "dtype": "f4"
         },
         "yaxis": "y"
        },
        {
         "customdata": {
          "bdata": "AQEBAQEBAQIBAgECAQMBAwEDAgECAQIBAgICAgICAgMCAwIDAwEDAQMBAwIDAgMCAwMDAwMDBAEEAQQBBAIEAgQCBAMEAwQD",
          "dtype": "i1",
          "shape": "36, 2"
         },
         "hovertemplate": "angle=25<br>subject_name=P089<br>pca_1=%{x}<br>pca_2=%{y}<br>situs=%{customdata[0]}<br>repetition=%{customdata[1]}<extra></extra>",
         "legendgroup": "25, P089",
         "marker": {
          "color": "#00cc96",
          "symbol": "x"
         },
         "mode": "markers",
         "name": "25, P089",
         "orientation": "v",
         "showlegend": true,
         "type": "scatter",
         "x": {
          "bdata": "iEkIu1ktj7oAX5m6ns0Gu0vvYrpsfl+6Y38Ju9MVs7pNmmi60ZvbuX9eHjq+dVA63BXVudvBxTkCtg46BtqsuPpMVDqQviU6ytB8tuq8LzrCv0E6Mz7GOEP5XTpNSlY6mmITOauGcDpNK2Y6aoNRuSKOKzoQ2Ec64mafOUWfizpYJYQ6rohgOTzLiTqsPm06",
          "dtype": "f4"
         },
         "xaxis": "x",
         "y": {
          "bdata": "jXFGu1KsWrsqAVy73pQ/ux0gYbsP5F+7iutUu0rEcbsW/Xa7w9pZu6TNY7s/ql+7d1ttu8Ugdbtp3m+73UNfuw/aZLtOsmO71inmutCWCrtf7we7cn4Eu+LMGLvMix27jWQJu4GXGruz+xq7U15LuwxAZbvCu2C7RxYzu4U6TLsj4ku7MOxGu6mpXrsO9lm7",
          "dtype": "f4"
         },
         "yaxis": "y"
        },
        {
         "customdata": {
          "bdata": "AQEBAQEBAQIBAgECAQMBAwEDAgECAQIBAgICAgICAgMCAwIDAwEDAQMBAwIDAgMCAwMDAwMDBAEEAQQBBAIEAgQCBAMEAwQD",
          "dtype": "i1",
          "shape": "36, 2"
         },
         "hovertemplate": "angle=25<br>subject_name=P090<br>pca_1=%{x}<br>pca_2=%{y}<br>situs=%{customdata[0]}<br>repetition=%{customdata[1]}<extra></extra>",
         "legendgroup": "25, P090",
         "marker": {
          "color": "#00cc96",
          "symbol": "cross"
         },
         "mode": "markers",
         "name": "25, P090",
         "orientation": "v",
         "showlegend": true,
         "type": "scatter",
         "x": {
          "bdata": "u+84u5MOG7s+yxe7JWQwu0v9EbsTxRC7rBQeu/urAbuGYvu6DLGAuli+PLoJwDy6c7/TuqaGa7oLSHy6CwW1uvUaK7pRoia6Y3/WuiXMNrpsyaS6TXW+ut1QUrozlF261IWfuuG/F7rnP1C659jPOuMX1zpWado64fZsOql0kzrcK4g6Vq/TOvmgADsSleY6",
          "dtype": "f4"
         },
         "xaxis": "x",
         "y": {
          "bdata": "tv0hu/eQNrvAMjW7Ddk4u78PTbvXXku7XQY7u0OFTruu0kq74DNgu2Z0Tbu0CE27Bc9UuyHqYbtgGli7sqQ+u/eDULuNYEy7oxuFuvwuz7ruga26cAGgutnQ07o78Mm6MQyoupqr2rrXF8y6eVDduj316rpnQuS6EOL7usawAbtc1/i6GcTWujJe07pBktG6",
          "dtype": "f4"
         },
         "yaxis": "y"
        },
        {
         "customdata": {
          "bdata": "AQEBAQEBAQIBAgECAQMBAwEDAgECAQIBAgICAgICAgMCAwIDAwEDAQMBAwIDAgMCAwMDAwMDBAEEAQQBBAIEAgQCBAMEAwQD",
          "dtype": "i1",
          "shape": "36, 2"
         },
         "hovertemplate": "angle=25<br>subject_name=P093<br>pca_1=%{x}<br>pca_2=%{y}<br>situs=%{customdata[0]}<br>repetition=%{customdata[1]}<extra></extra>",
         "legendgroup": "25, P093",
         "marker": {
          "color": "#00cc96",
          "symbol": "circle"
         },
         "mode": "markers",
         "name": "25, P093",
         "orientation": "v",
         "showlegend": true,
         "type": "scatter",
         "x": {
          "bdata": "PtCRu4XCZ7vBu2O77gGGuwb3VLuuplm7RdyHu/dtWLtsHVS7ADUmu5eZ6Lrdj4e6Gt06u0CeA7sxuKS6JFEou1y127qY2vC5jyqtuf5qjzmAUSA6iueTuvHI1LnVuZq5XDrque5UATpReUM68I3Bujji/rn1OLS6TJuUutHX1rmy9ai6v6WVugsY5bk00q26",
          "dtype": "f4"
         },
         "xaxis": "x",
         "y": {
          "bdata": "dFghO+pP0Tpz0OA6gFcTO486wDoGHLo6cEgFOxKhmjqPAJg6IySiOqfP/DmJKJq5klu7Ouf6EDqHzre5Q4C4OimVtzmkCFS6Uqm+ueXO57lP6Mu69Y5huhR2NbqmLOG6a/6IumOMUrpXg+u6rnObugDvqbog+cq64svIutYn0rqHvP+6mYcAu1ujBbvCuiK7",
          "dtype": "f4"
         },
         "yaxis": "y"
        },
        {
         "customdata": {
          "bdata": "AQEBAQEBAQIBAgECAQMBAwEDAgECAQIBAgICAgICAgMCAwIDAwEDAQMBAwIDAgMCAwMDAwMDBAEEAQQBBAIEAgQCBAMEAwQD",
          "dtype": "i1",
          "shape": "36, 2"
         },
         "hovertemplate": "angle=25<br>subject_name=P094<br>pca_1=%{x}<br>pca_2=%{y}<br>situs=%{customdata[0]}<br>repetition=%{customdata[1]}<extra></extra>",
         "legendgroup": "25, P094",
         "marker": {
          "color": "#00cc96",
          "symbol": "diamond"
         },
         "mode": "markers",
         "name": "25, P094",
         "orientation": "v",
         "showlegend": true,
         "type": "scatter",
         "x": {
          "bdata": "8iScu5pZk7sja4i7X6qiu5gXkrukboW7tsOhuymjkbuICYq7VFW7uxaxl7vJ94O7eGyzu1IBkbtw03y7EU2xu7Rrjrvnw2y7BafpO2T7DTw+sxc8TB3bO+RNCjwYfxc86pAIPCF+Ijwr8S48EQLDO1q6BDxegxE8cDvJO6Y/CjwzixM8R5TIOyo5CTyB8hk8",
          "dtype": "f4"
         },
         "xaxis": "x",
         "y": {
          "bdata": "VGqZOulIljod8Ww6AFmTOq4naDrUPyk6d6xrOg3SITp7ZAw6QmvROYCWBLqpXpy6b55iNKruaLqfRMi6hyLrOFIbX7rTZMu6M8Yium58SrreMGG6FTOCuqQimroI16K6e/zquIyEubnNGOa54Gu2uMUJjbrBTqu6+DgwuTq+orpWLa66AMZHObu0irp8wYy6",
          "dtype": "f4"
         },
         "yaxis": "y"
        },
        {
         "customdata": {
          "bdata": "AQEBAQEBAQIBAgECAQMBAwEDAgECAQIBAgICAgICAgMCAwIDAwEDAQMBAwIDAgMCAwMDAwMDBAEEAQQBBAIEAgQCBAMEAwQD",
          "dtype": "i1",
          "shape": "36, 2"
         },
         "hovertemplate": "angle=25<br>subject_name=P096<br>pca_1=%{x}<br>pca_2=%{y}<br>situs=%{customdata[0]}<br>repetition=%{customdata[1]}<extra></extra>",
         "legendgroup": "25, P096",
         "marker": {
          "color": "#00cc96",
          "symbol": "square"
         },
         "mode": "markers",
         "name": "25, P096",
         "orientation": "v",
         "showlegend": true,
         "type": "scatter",
         "x": {
          "bdata": "jb2WOyPelzvIpJw7LzlQO2+9YzvUZXM7JxxdO22Hbzscx4A7/B/yOq902zrjoQw7+yIXO/MHJTu4Pjk7tgn3Os1/CTth4yA7t2PPO0p0CTwbrRM80lfQOwKrDDxn7RQ8zMHOO4PRBDyCJhc89yaHOzD4qDvNs8Y7rTedO+kmwTu5wes7wH2HO0KYwztcj9c7",
          "dtype": "f4"
         },
         "xaxis": "x",
         "y": {
          "bdata": "crnNugBJ5Lq48ta6x7kSuyJpIbtvOiO7708UuybEHbuiViO7/z5qN88FXTeHHdS4FjwmOgQz7zk5XfY58emzt2G4SLnBbXW5hcvbO8lXsjuxd647p1TUO+akqDst/6E7yInJO+9yojsUU5Q7aANKOzSoFjuLLME6gz1EO4bTCjtHNqo6AsJEO0NY2Tr5m7s6",
          "dtype": "f4"
         },
         "yaxis": "y"
        }
       ],
       "layout": {
        "height": 600,
        "legend": {
         "title": {
          "text": "angle, subject_name"
         },
         "tracegroupgap": 0
        },
        "margin": {
         "t": 60
        },
        "template": {
         "data": {
          "bar": [
           {
            "error_x": {
             "color": "#2a3f5f"
            },
            "error_y": {
             "color": "#2a3f5f"
            },
            "marker": {
             "line": {
              "color": "white",
              "width": 0.5
             },
             "pattern": {
              "fillmode": "overlay",
              "size": 10,
              "solidity": 0.2
             }
            },
            "type": "bar"
           }
          ],
          "barpolar": [
           {
            "marker": {
             "line": {
              "color": "white",
              "width": 0.5
             },
             "pattern": {
              "fillmode": "overlay",
              "size": 10,
              "solidity": 0.2
             }
            },
            "type": "barpolar"
           }
          ],
          "carpet": [
           {
            "aaxis": {
             "endlinecolor": "#2a3f5f",
             "gridcolor": "#C8D4E3",
             "linecolor": "#C8D4E3",
             "minorgridcolor": "#C8D4E3",
             "startlinecolor": "#2a3f5f"
            },
            "baxis": {
             "endlinecolor": "#2a3f5f",
             "gridcolor": "#C8D4E3",
             "linecolor": "#C8D4E3",
             "minorgridcolor": "#C8D4E3",
             "startlinecolor": "#2a3f5f"
            },
            "type": "carpet"
           }
          ],
          "choropleth": [
           {
            "colorbar": {
             "outlinewidth": 0,
             "ticks": ""
            },
            "type": "choropleth"
           }
          ],
          "contour": [
           {
            "colorbar": {
             "outlinewidth": 0,
             "ticks": ""
            },
            "colorscale": [
             [
              0,
              "#0d0887"
             ],
             [
              0.1111111111111111,
              "#46039f"
             ],
             [
              0.2222222222222222,
              "#7201a8"
             ],
             [
              0.3333333333333333,
              "#9c179e"
             ],
             [
              0.4444444444444444,
              "#bd3786"
             ],
             [
              0.5555555555555556,
              "#d8576b"
             ],
             [
              0.6666666666666666,
              "#ed7953"
             ],
             [
              0.7777777777777778,
              "#fb9f3a"
             ],
             [
              0.8888888888888888,
              "#fdca26"
             ],
             [
              1,
              "#f0f921"
             ]
            ],
            "type": "contour"
           }
          ],
          "contourcarpet": [
           {
            "colorbar": {
             "outlinewidth": 0,
             "ticks": ""
            },
            "type": "contourcarpet"
           }
          ],
          "heatmap": [
           {
            "colorbar": {
             "outlinewidth": 0,
             "ticks": ""
            },
            "colorscale": [
             [
              0,
              "#0d0887"
             ],
             [
              0.1111111111111111,
              "#46039f"
             ],
             [
              0.2222222222222222,
              "#7201a8"
             ],
             [
              0.3333333333333333,
              "#9c179e"
             ],
             [
              0.4444444444444444,
              "#bd3786"
             ],
             [
              0.5555555555555556,
              "#d8576b"
             ],
             [
              0.6666666666666666,
              "#ed7953"
             ],
             [
              0.7777777777777778,
              "#fb9f3a"
             ],
             [
              0.8888888888888888,
              "#fdca26"
             ],
             [
              1,
              "#f0f921"
             ]
            ],
            "type": "heatmap"
           }
          ],
          "histogram": [
           {
            "marker": {
             "pattern": {
              "fillmode": "overlay",
              "size": 10,
              "solidity": 0.2
             }
            },
            "type": "histogram"
           }
          ],
          "histogram2d": [
           {
            "colorbar": {
             "outlinewidth": 0,
             "ticks": ""
            },
            "colorscale": [
             [
              0,
              "#0d0887"
             ],
             [
              0.1111111111111111,
              "#46039f"
             ],
             [
              0.2222222222222222,
              "#7201a8"
             ],
             [
              0.3333333333333333,
              "#9c179e"
             ],
             [
              0.4444444444444444,
              "#bd3786"
             ],
             [
              0.5555555555555556,
              "#d8576b"
             ],
             [
              0.6666666666666666,
              "#ed7953"
             ],
             [
              0.7777777777777778,
              "#fb9f3a"
             ],
             [
              0.8888888888888888,
              "#fdca26"
             ],
             [
              1,
              "#f0f921"
             ]
            ],
            "type": "histogram2d"
           }
          ],
          "histogram2dcontour": [
           {
            "colorbar": {
             "outlinewidth": 0,
             "ticks": ""
            },
            "colorscale": [
             [
              0,
              "#0d0887"
             ],
             [
              0.1111111111111111,
              "#46039f"
             ],
             [
              0.2222222222222222,
              "#7201a8"
             ],
             [
              0.3333333333333333,
              "#9c179e"
             ],
             [
              0.4444444444444444,
              "#bd3786"
             ],
             [
              0.5555555555555556,
              "#d8576b"
             ],
             [
              0.6666666666666666,
              "#ed7953"
             ],
             [
              0.7777777777777778,
              "#fb9f3a"
             ],
             [
              0.8888888888888888,
              "#fdca26"
             ],
             [
              1,
              "#f0f921"
             ]
            ],
            "type": "histogram2dcontour"
           }
          ],
          "mesh3d": [
           {
            "colorbar": {
             "outlinewidth": 0,
             "ticks": ""
            },
            "type": "mesh3d"
           }
          ],
          "parcoords": [
           {
            "line": {
             "colorbar": {
              "outlinewidth": 0,
              "ticks": ""
             }
            },
            "type": "parcoords"
           }
          ],
          "pie": [
           {
            "automargin": true,
            "type": "pie"
           }
          ],
          "scatter": [
           {
            "fillpattern": {
             "fillmode": "overlay",
             "size": 10,
             "solidity": 0.2
            },
            "type": "scatter"
           }
          ],
          "scatter3d": [
           {
            "line": {
             "colorbar": {
              "outlinewidth": 0,
              "ticks": ""
             }
            },
            "marker": {
             "colorbar": {
              "outlinewidth": 0,
              "ticks": ""
             }
            },
            "type": "scatter3d"
           }
          ],
          "scattercarpet": [
           {
            "marker": {
             "colorbar": {
              "outlinewidth": 0,
              "ticks": ""
             }
            },
            "type": "scattercarpet"
           }
          ],
          "scattergeo": [
           {
            "marker": {
             "colorbar": {
              "outlinewidth": 0,
              "ticks": ""
             }
            },
            "type": "scattergeo"
           }
          ],
          "scattergl": [
           {
            "marker": {
             "colorbar": {
              "outlinewidth": 0,
              "ticks": ""
             }
            },
            "type": "scattergl"
           }
          ],
          "scattermap": [
           {
            "marker": {
             "colorbar": {
              "outlinewidth": 0,
              "ticks": ""
             }
            },
            "type": "scattermap"
           }
          ],
          "scattermapbox": [
           {
            "marker": {
             "colorbar": {
              "outlinewidth": 0,
              "ticks": ""
             }
            },
            "type": "scattermapbox"
           }
          ],
          "scatterpolar": [
           {
            "marker": {
             "colorbar": {
              "outlinewidth": 0,
              "ticks": ""
             }
            },
            "type": "scatterpolar"
           }
          ],
          "scatterpolargl": [
           {
            "marker": {
             "colorbar": {
              "outlinewidth": 0,
              "ticks": ""
             }
            },
            "type": "scatterpolargl"
           }
          ],
          "scatterternary": [
           {
            "marker": {
             "colorbar": {
              "outlinewidth": 0,
              "ticks": ""
             }
            },
            "type": "scatterternary"
           }
          ],
          "surface": [
           {
            "colorbar": {
             "outlinewidth": 0,
             "ticks": ""
            },
            "colorscale": [
             [
              0,
              "#0d0887"
             ],
             [
              0.1111111111111111,
              "#46039f"
             ],
             [
              0.2222222222222222,
              "#7201a8"
             ],
             [
              0.3333333333333333,
              "#9c179e"
             ],
             [
              0.4444444444444444,
              "#bd3786"
             ],
             [
              0.5555555555555556,
              "#d8576b"
             ],
             [
              0.6666666666666666,
              "#ed7953"
             ],
             [
              0.7777777777777778,
              "#fb9f3a"
             ],
             [
              0.8888888888888888,
              "#fdca26"
             ],
             [
              1,
              "#f0f921"
             ]
            ],
            "type": "surface"
           }
          ],
          "table": [
           {
            "cells": {
             "fill": {
              "color": "#EBF0F8"
             },
             "line": {
              "color": "white"
             }
            },
            "header": {
             "fill": {
              "color": "#C8D4E3"
             },
             "line": {
              "color": "white"
             }
            },
            "type": "table"
           }
          ]
         },
         "layout": {
          "annotationdefaults": {
           "arrowcolor": "#2a3f5f",
           "arrowhead": 0,
           "arrowwidth": 1
          },
          "autotypenumbers": "strict",
          "coloraxis": {
           "colorbar": {
            "outlinewidth": 0,
            "ticks": ""
           }
          },
          "colorscale": {
           "diverging": [
            [
             0,
             "#8e0152"
            ],
            [
             0.1,
             "#c51b7d"
            ],
            [
             0.2,
             "#de77ae"
            ],
            [
             0.3,
             "#f1b6da"
            ],
            [
             0.4,
             "#fde0ef"
            ],
            [
             0.5,
             "#f7f7f7"
            ],
            [
             0.6,
             "#e6f5d0"
            ],
            [
             0.7,
             "#b8e186"
            ],
            [
             0.8,
             "#7fbc41"
            ],
            [
             0.9,
             "#4d9221"
            ],
            [
             1,
             "#276419"
            ]
           ],
           "sequential": [
            [
             0,
             "#0d0887"
            ],
            [
             0.1111111111111111,
             "#46039f"
            ],
            [
             0.2222222222222222,
             "#7201a8"
            ],
            [
             0.3333333333333333,
             "#9c179e"
            ],
            [
             0.4444444444444444,
             "#bd3786"
            ],
            [
             0.5555555555555556,
             "#d8576b"
            ],
            [
             0.6666666666666666,
             "#ed7953"
            ],
            [
             0.7777777777777778,
             "#fb9f3a"
            ],
            [
             0.8888888888888888,
             "#fdca26"
            ],
            [
             1,
             "#f0f921"
            ]
           ],
           "sequentialminus": [
            [
             0,
             "#0d0887"
            ],
            [
             0.1111111111111111,
             "#46039f"
            ],
            [
             0.2222222222222222,
             "#7201a8"
            ],
            [
             0.3333333333333333,
             "#9c179e"
            ],
            [
             0.4444444444444444,
             "#bd3786"
            ],
            [
             0.5555555555555556,
             "#d8576b"
            ],
            [
             0.6666666666666666,
             "#ed7953"
            ],
            [
             0.7777777777777778,
             "#fb9f3a"
            ],
            [
             0.8888888888888888,
             "#fdca26"
            ],
            [
             1,
             "#f0f921"
            ]
           ]
          },
          "colorway": [
           "#636efa",
           "#EF553B",
           "#00cc96",
           "#ab63fa",
           "#FFA15A",
           "#19d3f3",
           "#FF6692",
           "#B6E880",
           "#FF97FF",
           "#FECB52"
          ],
          "font": {
           "color": "#2a3f5f"
          },
          "geo": {
           "bgcolor": "white",
           "lakecolor": "white",
           "landcolor": "white",
           "showlakes": true,
           "showland": true,
           "subunitcolor": "#C8D4E3"
          },
          "hoverlabel": {
           "align": "left"
          },
          "hovermode": "closest",
          "mapbox": {
           "style": "light"
          },
          "paper_bgcolor": "white",
          "plot_bgcolor": "white",
          "polar": {
           "angularaxis": {
            "gridcolor": "#EBF0F8",
            "linecolor": "#EBF0F8",
            "ticks": ""
           },
           "bgcolor": "white",
           "radialaxis": {
            "gridcolor": "#EBF0F8",
            "linecolor": "#EBF0F8",
            "ticks": ""
           }
          },
          "scene": {
           "xaxis": {
            "backgroundcolor": "white",
            "gridcolor": "#DFE8F3",
            "gridwidth": 2,
            "linecolor": "#EBF0F8",
            "showbackground": true,
            "ticks": "",
            "zerolinecolor": "#EBF0F8"
           },
           "yaxis": {
            "backgroundcolor": "white",
            "gridcolor": "#DFE8F3",
            "gridwidth": 2,
            "linecolor": "#EBF0F8",
            "showbackground": true,
            "ticks": "",
            "zerolinecolor": "#EBF0F8"
           },
           "zaxis": {
            "backgroundcolor": "white",
            "gridcolor": "#DFE8F3",
            "gridwidth": 2,
            "linecolor": "#EBF0F8",
            "showbackground": true,
            "ticks": "",
            "zerolinecolor": "#EBF0F8"
           }
          },
          "shapedefaults": {
           "line": {
            "color": "#2a3f5f"
           }
          },
          "ternary": {
           "aaxis": {
            "gridcolor": "#DFE8F3",
            "linecolor": "#A2B1C6",
            "ticks": ""
           },
           "baxis": {
            "gridcolor": "#DFE8F3",
            "linecolor": "#A2B1C6",
            "ticks": ""
           },
           "bgcolor": "white",
           "caxis": {
            "gridcolor": "#DFE8F3",
            "linecolor": "#A2B1C6",
            "ticks": ""
           }
          },
          "title": {
           "x": 0.05
          },
          "xaxis": {
           "automargin": true,
           "gridcolor": "#EBF0F8",
           "linecolor": "#EBF0F8",
           "ticks": "",
           "title": {
            "standoff": 15
           },
           "zerolinecolor": "#EBF0F8",
           "zerolinewidth": 2
          },
          "yaxis": {
           "automargin": true,
           "gridcolor": "#EBF0F8",
           "linecolor": "#EBF0F8",
           "ticks": "",
           "title": {
            "standoff": 15
           },
           "zerolinecolor": "#EBF0F8",
           "zerolinewidth": 2
          }
         }
        },
        "title": {
         "text": "PCA of kidney to visualize situs, angle and repetition",
         "x": 0.5
        },
        "width": 800,
        "xaxis": {
         "anchor": "y",
         "domain": [
          0,
          1
         ],
         "title": {
          "text": "<b>PC 1 [0.60]</b>"
         }
        },
        "yaxis": {
         "anchor": "x",
         "domain": [
          0,
          1
         ],
         "title": {
          "text": "<b>PC 2 [0.25]</b>"
         }
        }
       }
      },
      "text/html": [
       "<div>            <script src=\"https://cdnjs.cloudflare.com/ajax/libs/mathjax/2.7.5/MathJax.js?config=TeX-AMS-MML_SVG\"></script><script type=\"text/javascript\">if (window.MathJax && window.MathJax.Hub && window.MathJax.Hub.Config) {window.MathJax.Hub.Config({SVG: {font: \"STIX-Web\"}});}</script>                <script type=\"text/javascript\">window.PlotlyConfig = {MathJaxConfig: 'local'};</script>\n",
       "        <script charset=\"utf-8\" src=\"https://cdn.plot.ly/plotly-3.0.0.min.js\"></script>                <div id=\"5594aa6b-342f-4d0a-ba5e-4842fab428f7\" class=\"plotly-graph-div\" style=\"height:600px; width:800px;\"></div>            <script type=\"text/javascript\">                window.PLOTLYENV=window.PLOTLYENV || {};                                if (document.getElementById(\"5594aa6b-342f-4d0a-ba5e-4842fab428f7\")) {                    Plotly.newPlot(                        \"5594aa6b-342f-4d0a-ba5e-4842fab428f7\",                        [{\"customdata\":{\"dtype\":\"i1\",\"bdata\":\"AQEBAQEBAQIBAgECAQMBAwEDAgECAQIBAgICAgICAgMCAwIDAwEDAQMBAwIDAgMCAwMDAwMDBAEEAQQBBAIEAgQCBAMEAwQD\",\"shape\":\"36, 2\"},\"hovertemplate\":\"angle=0\\u003cbr\\u003esubject_name=P086\\u003cbr\\u003epca_1=%{x}\\u003cbr\\u003epca_2=%{y}\\u003cbr\\u003esitus=%{customdata[0]}\\u003cbr\\u003erepetition=%{customdata[1]}\\u003cextra\\u003e\\u003c\\u002fextra\\u003e\",\"legendgroup\":\"0, P086\",\"marker\":{\"color\":\"#636efa\",\"symbol\":\"circle\"},\"mode\":\"markers\",\"name\":\"0, P086\",\"orientation\":\"v\",\"showlegend\":true,\"x\":{\"dtype\":\"f4\",\"bdata\":\"PGCJu\\u002fi5Mbu2H+q6yXePu\\u002fdOF7vpDfu6p2mBu8C+Fbsmx9S6sxAWu7FazLrvQrG69sAbu6GM3bpj87m6hCIbu62Fzbo8ybe6yjmCu1BxWLv2b\\u002fy6GVWFu4blS7tolAu7urCEu6DSS7sx6xe7Bt5vu\\u002f+8MrvKYQ67ACWAuyf\\u002fNruMMha7HwiEu1nWQLumKRC7\"},\"xaxis\":\"x\",\"y\":{\"dtype\":\"f4\",\"bdata\":\"DhcTO06nhDq\\u002fzh864a4mO\\u002fncdjqiHzo6os7qOv2nFjpk\\u002fII5uaMkO2R3Ezs3Txk7cZ0mOzTgDzuYbRc7mKgjO7nMDjsMzhQ70jMIOrbAHbnFI3e6+lpoOjbx7Lco\\u002fw+6zdgAOlZwkrmzb3y6DW2VOrRjkzl3lhW5XlmVOoLVVTkQa1C5ngepOmmpajmu1ge6\"},\"yaxis\":\"y\",\"type\":\"scatter\"},{\"customdata\":{\"dtype\":\"i1\",\"bdata\":\"AQEBAQEBAQIBAgECAQMBAwEDAgECAQIBAgICAgICAgMCAwIDAwEDAQMBAwIDAgMCAwMDAwMDBAEEAQQBBAIEAgQCBAMEAwQD\",\"shape\":\"36, 2\"},\"hovertemplate\":\"angle=0\\u003cbr\\u003esubject_name=P087\\u003cbr\\u003epca_1=%{x}\\u003cbr\\u003epca_2=%{y}\\u003cbr\\u003esitus=%{customdata[0]}\\u003cbr\\u003erepetition=%{customdata[1]}\\u003cextra\\u003e\\u003c\\u002fextra\\u003e\",\"legendgroup\":\"0, P087\",\"marker\":{\"color\":\"#636efa\",\"symbol\":\"diamond\"},\"mode\":\"markers\",\"name\":\"0, P087\",\"orientation\":\"v\",\"showlegend\":true,\"x\":{\"dtype\":\"f4\",\"bdata\":\"xuMvu\\u002fLAbLqOQj25340Ou8hXG7rdpRS4IJsBu2PszLhdZi85yAstOni86TojFw47EgSkOhCjFTsBcTw7vOL0Oir2NDuCB0c78INHu5YuvrpHukA5AzBru5gC\\u002f7qKWHW6HCQtu4XIq7q4kCs67vl0uljKMbpzUiG6RZSzuh6tjbruGDe6Kb97utkulbqaOde5\"},\"xaxis\":\"x\",\"y\":{\"dtype\":\"f4\",\"bdata\":\"Jjt1O69Y3DrXwn863B5fOxNZ0ToT8oU6ICVoO7kfxTpI\\u002fZg6W\\u002f6YuuHGyboMpuK6M3Kxuhlj0bq+MuO6Al\\u002fiulFD8rqfafC6G6fNO2B\\u002fnzvtQoc7T\\u002fOcO5PIZztes0A781SMO+++UTvxDzA7Qoh7O2xBZjvq62c7mJlAOypJLTuejRc7oa9KO2gLPjuttyA7\"},\"yaxis\":\"y\",\"type\":\"scatter\"},{\"customdata\":{\"dtype\":\"i1\",\"bdata\":\"AQEBAQEBAQIBAgECAQMBAwEDAgECAQIBAgICAgICAgMCAwIDAwEDAQMBAwIDAgMCAwMDAwMDBAEEAQQBBAIEAgQCBAMEAwQD\",\"shape\":\"36, 2\"},\"hovertemplate\":\"angle=0\\u003cbr\\u003esubject_name=P088\\u003cbr\\u003epca_1=%{x}\\u003cbr\\u003epca_2=%{y}\\u003cbr\\u003esitus=%{customdata[0]}\\u003cbr\\u003erepetition=%{customdata[1]}\\u003cextra\\u003e\\u003c\\u002fextra\\u003e\",\"legendgroup\":\"0, P088\",\"marker\":{\"color\":\"#636efa\",\"symbol\":\"square\"},\"mode\":\"markers\",\"name\":\"0, P088\",\"orientation\":\"v\",\"showlegend\":true,\"x\":{\"dtype\":\"f4\",\"bdata\":\"T5eku\\u002fdXarvYZhC7VhWNu+o\\u002fRbu90lq6rt2luyxdcLv0Dji7DUMOu\\u002flSzroKnIm6YyPdusWzpLoaAlu60V68ujnkjLoqhTm6yfgVu8akurrjL+G5ZcHput9Virqsjda5xjj0utCTiLru4ti5o6V0ugKcAzovr3c6o9Mwum3G4jlWvZA62hxjup\\u002fBHjrZMJw6\"},\"xaxis\":\"x\",\"y\":{\"dtype\":\"f4\",\"bdata\":\"mxdfO4oQyTqJiHU5o5QrO9LajzpBfF26GnpAO5WFqToM+cA5Y2yAumyKrbo5Pci6VUGfulsJyro4UOC6VnTkui51BLsZlAy7EPqJOtP\\u002f0zkoD3e5cverOt9hMTqj48E4wQKJOrQAkDlZ1oa5h5fkutanILusCSm7cdPsuv95ILtyfCy7wwnPuvoqG7v4uCe7\"},\"yaxis\":\"y\",\"type\":\"scatter\"},{\"customdata\":{\"dtype\":\"i1\",\"bdata\":\"AQEBAQEBAQIBAgECAQMBAwEDAgECAQIBAgICAgICAgMCAwIDAwEDAQMBAwIDAgMCAwMDAwMDBAEEAQQBBAIEAgQCBAMEAwQD\",\"shape\":\"36, 2\"},\"hovertemplate\":\"angle=0\\u003cbr\\u003esubject_name=P089\\u003cbr\\u003epca_1=%{x}\\u003cbr\\u003epca_2=%{y}\\u003cbr\\u003esitus=%{customdata[0]}\\u003cbr\\u003erepetition=%{customdata[1]}\\u003cextra\\u003e\\u003c\\u002fextra\\u003e\",\"legendgroup\":\"0, P089\",\"marker\":{\"color\":\"#636efa\",\"symbol\":\"x\"},\"mode\":\"markers\",\"name\":\"0, P089\",\"orientation\":\"v\",\"showlegend\":true,\"x\":{\"dtype\":\"f4\",\"bdata\":\"NIjQusG49zcO1T+4AZlauvvWKzrwVPo5RvuUumf\\u002f7jiOFHw4nM\\u002fnuFawZjrDlH465HM+OMkyZjpt+II6vADGOXNzrTo1naE6ydGqurGCLbqXlv+5ZJeUuhaQvLl\\u002fjKO5p2xtuj25grkhteS45Pj3uqTsQ7pocim6DErHuoUp\\u002fLmlc6K5wcujuu2foLmSota5\"},\"xaxis\":\"x\",\"y\":{\"dtype\":\"f4\",\"bdata\":\"Piutuf8pprov25y6Xtf4uUN0nrroQZa61CeDujpl2bpebNi6AlTOummf\\u002fboM5wS70Vv0urb0F7tYzxm7Jg75unpLILssLB+7Rl6EOpAoCjp6r+s5JrsNOqvqBTjvG3I3an0KOd14qrmPyNK5nkG5ug5CD7s4YxO74hnDuox4Frt15hu70fvguoavI7snTB+7\"},\"yaxis\":\"y\",\"type\":\"scatter\"},{\"customdata\":{\"dtype\":\"i1\",\"bdata\":\"AQEBAQEBAQIBAgECAQMBAwEDAgECAQIBAgICAgICAgMCAwIDAwEDAQMBAwIDAgMCAwMDAwMDBAEEAQQBBAIEAgQCBAMEAwQD\",\"shape\":\"36, 2\"},\"hovertemplate\":\"angle=0\\u003cbr\\u003esubject_name=P090\\u003cbr\\u003epca_1=%{x}\\u003cbr\\u003epca_2=%{y}\\u003cbr\\u003esitus=%{customdata[0]}\\u003cbr\\u003erepetition=%{customdata[1]}\\u003cextra\\u003e\\u003c\\u002fextra\\u003e\",\"legendgroup\":\"0, P090\",\"marker\":{\"color\":\"#636efa\",\"symbol\":\"cross\"},\"mode\":\"markers\",\"name\":\"0, P090\",\"orientation\":\"v\",\"showlegend\":true,\"x\":{\"dtype\":\"f4\",\"bdata\":\"6e6Zuy0ITLuy90C7MAaau6FQLrvd\\u002fh67oSKKu0rXLbt6qRi7p6Ahu5B+qro7CZW6RgEXu2I\\u002fdLqMwTi61L0Au0+wbbpIa0G6HDGIu0qhcbvKgXK7rS6Ku2K7abuP3G67tLJtu4vDTbvxaUy7KiuhuoNy\\u002frnkqwC6b8KBuo\\u002fal7m4B8i5t1mxuqnjIbpbESG6\"},\"xaxis\":\"x\",\"y\":{\"dtype\":\"f4\",\"bdata\":\"eCuAO9qxADvwnPY6+B+IO5kJ6zpRf+Y6untNO9WvsDqlVZM6or1Gug2I4Lo8bfW6SNEGusYQ4Low1u66THpVumJS67rARPe6dTOkOrcuKTqbKC46LyOQOm+63TmQRO85O0JcOu7JvDnICrs5NYqduoUI7roAzum65f3MunbVDLtmyAe7Uvjeuu7IHrvIbRq7\"},\"yaxis\":\"y\",\"type\":\"scatter\"},{\"customdata\":{\"dtype\":\"i1\",\"bdata\":\"AQEBAQEBAQIBAgECAQMBAwEDAgECAQIBAgICAgICAgMCAwIDAwEDAQMBAwIDAgMCAwMDAwMDBAEEAQQBBAIEAgQCBAMEAwQD\",\"shape\":\"36, 2\"},\"hovertemplate\":\"angle=0\\u003cbr\\u003esubject_name=P093\\u003cbr\\u003epca_1=%{x}\\u003cbr\\u003epca_2=%{y}\\u003cbr\\u003esitus=%{customdata[0]}\\u003cbr\\u003erepetition=%{customdata[1]}\\u003cextra\\u003e\\u003c\\u002fextra\\u003e\",\"legendgroup\":\"0, P093\",\"marker\":{\"color\":\"#636efa\",\"symbol\":\"circle\"},\"mode\":\"markers\",\"name\":\"0, P093\",\"orientation\":\"v\",\"showlegend\":true,\"x\":{\"dtype\":\"f4\",\"bdata\":\"uZyguyynhbv3rXC75BSWu8RqdLvrDmy75VWXu83oabvC61W7Dt93u\\u002f57QrvtTSi7nBZfu30pF7sg9gy7Gv9bu+dO87oYtOu6veiqu1F2jrs2m3G741yVu13vcrtk4EW76AZsu4s\\u002fJrssuAG7ARsFuw6jILntJ0W7slqkuwbUYbtS1bK7qXCMu+nzSrvFxK67\"},\"xaxis\":\"x\",\"y\":{\"dtype\":\"f4\",\"bdata\":\"8va4O25NjzvZdog7SdatO6u\\u002fhju1lIE73WWvO4nkgzv8IHk7zxpyOwE0SjuIKC87q5JkO8yDHTtV9xc7dYNgO0unATuaYwc7UP4QO8+Xnjqz1Cc6N+0RO\\u002fs8tzo\\u002fzUk6CagiO8wwpTroLl86AFKFO44eAzsm2xk7xtUQO4uh9TkBtfa4vDXOOrozuTkenSc5\"},\"yaxis\":\"y\",\"type\":\"scatter\"},{\"customdata\":{\"dtype\":\"i1\",\"bdata\":\"AQEBAQEBAQIBAgECAQMBAwEDAgECAQIBAgICAgICAgMCAwIDAwEDAQMBAwIDAgMCAwMDAwMDBAEEAQQBBAIEAgQCBAMEAwQD\",\"shape\":\"36, 2\"},\"hovertemplate\":\"angle=0\\u003cbr\\u003esubject_name=P094\\u003cbr\\u003epca_1=%{x}\\u003cbr\\u003epca_2=%{y}\\u003cbr\\u003esitus=%{customdata[0]}\\u003cbr\\u003erepetition=%{customdata[1]}\\u003cextra\\u003e\\u003c\\u002fextra\\u003e\",\"legendgroup\":\"0, P094\",\"marker\":{\"color\":\"#636efa\",\"symbol\":\"diamond\"},\"mode\":\"markers\",\"name\":\"0, P094\",\"orientation\":\"v\",\"showlegend\":true,\"x\":{\"dtype\":\"f4\",\"bdata\":\"Uz6xu0hmhruTVUS7GE+au9EBYrv3qAW7Ppa2u8NFart25zW7Qs2su216Z7tD1hi7qj2tu55xY7sm+gW7MCmou9CWSLu7qAK7kK+XOyEN1zsFA+87nH+jOxhH4jvHNPo7mCitO4UvyDvtaPg7GtPFO8UlBzwOwwc8oUXCO9AvCjxNABA8ARm\\u002fO9uYCDxXSBA8\"},\"xaxis\":\"x\",\"y\":{\"dtype\":\"f4\",\"bdata\":\"HjWOOxeqPjtFUe860DxYO4sTATvyAkM69B2GO1EACDs72506RMhVOybRnTqa\\u002fAq5tAw8OzyZYTrGg565hpAyO5s0sDk1dPO5n4miOlVNBzpe6VM5a4qOOmNhqDl3oME4IGFbOrJxBjoavR25NfGUucFWtLojWPW69rVYuFINqLosrdO6W\\u002fO8OV\\u002fJqbpaTNy6\"},\"yaxis\":\"y\",\"type\":\"scatter\"},{\"customdata\":{\"dtype\":\"i1\",\"bdata\":\"AQEBAQEBAQIBAgECAQMBAwEDAgECAQIBAgICAgICAgMCAwIDAwEDAQMBAwIDAgMCAwMDAwMDBAEEAQQBBAIEAgQCBAMEAwQD\",\"shape\":\"36, 2\"},\"hovertemplate\":\"angle=0\\u003cbr\\u003esubject_name=P096\\u003cbr\\u003epca_1=%{x}\\u003cbr\\u003epca_2=%{y}\\u003cbr\\u003esitus=%{customdata[0]}\\u003cbr\\u003erepetition=%{customdata[1]}\\u003cextra\\u003e\\u003c\\u002fextra\\u003e\",\"legendgroup\":\"0, P096\",\"marker\":{\"color\":\"#636efa\",\"symbol\":\"square\"},\"mode\":\"markers\",\"name\":\"0, P096\",\"orientation\":\"v\",\"showlegend\":true,\"x\":{\"dtype\":\"f4\",\"bdata\":\"e9qdOstKGDsrKS07RxGYOrjrJTskeDw7I0W1Op1AMTsjQks7Z5qWukKTlbcKcoI6ROJcOVAuwDr8iB07VzVVugdACDo\\u002fpaQ6SH4JPMFTIjx0oxY8R0kPPFK9HjxDwBk8ACEUPJonJjxNRh48RGvMO9Aa7zupmN07kBPUOz4e6jue\\u002f+I73YrdO9t37DtrAeY7\"},\"xaxis\":\"x\",\"y\":{\"dtype\":\"f4\",\"bdata\":\"nGAGOySwhjosYCM6tEfkOqSGRTrudpQ5LOCqOvrLqznOEma5oJcrO+gw4DqWyjE6IGh4O1DmMTs4vNg69BlZO+4rEDv\\u002fzqk6taCsO806nDtaOpo75vuwO4sDoDtQwqE7cfa0O5nPozuA3qQ7xgdrO2tOVzuhQl07eMpdO9O1RztGyUY7Wh9XOya9SDtqJEU7\"},\"yaxis\":\"y\",\"type\":\"scatter\"},{\"customdata\":{\"dtype\":\"i1\",\"bdata\":\"AQEBAQEBAQIBAgECAQMBAwEDAgECAQIBAgICAgICAgMCAwIDAwEDAQMBAwIDAgMCAwMDAwMDBAEEAQQBBAIEAgQCBAMEAwQD\",\"shape\":\"36, 2\"},\"hovertemplate\":\"angle=-25\\u003cbr\\u003esubject_name=P086\\u003cbr\\u003epca_1=%{x}\\u003cbr\\u003epca_2=%{y}\\u003cbr\\u003esitus=%{customdata[0]}\\u003cbr\\u003erepetition=%{customdata[1]}\\u003cextra\\u003e\\u003c\\u002fextra\\u003e\",\"legendgroup\":\"-25, P086\",\"marker\":{\"color\":\"#EF553B\",\"symbol\":\"circle\"},\"mode\":\"markers\",\"name\":\"-25, P086\",\"orientation\":\"v\",\"showlegend\":true,\"x\":{\"dtype\":\"f4\",\"bdata\":\"6RE0u2h587rH17q6MQ\\u002fCutwnYrowJfm5CRQauwvi3boMkZ26++2Ruk5HeLmppX64Xzpuug4eyLgyz105ZPGDuqEv7DSHGCc5VYBwu\\u002fx6TLs+mEm7n5x0u8cQT7uf4zu7ARVru8aFSLuyET+7pKhyux9QN7tOYSm7Ykliu5yxLrsncQ+7jv5cuzeQHrszCwa7\"},\"xaxis\":\"x\",\"y\":{\"dtype\":\"f4\",\"bdata\":\"ynVdOewksziy7IC3wOzuOc1ftTkGQ4c5kbUDuaamPbkegZK5bgtIO7QdQDvD80M7Ya85O5lLODuLUDw7\\u002fJ5DO7R+QjsE5EI7xeSYupWzmLqIiaq62+WBusgsgroYn5O6+hmxukOyoLoOuKu6AS5nuTUIUrr3TXq6GCBXOc5lwbnIMDK6gbv7OVwAm7k4VQu6\"},\"yaxis\":\"y\",\"type\":\"scatter\"},{\"customdata\":{\"dtype\":\"i1\",\"bdata\":\"AQEBAQEBAQIBAgECAQMBAwEDAgECAQIBAgICAgICAgMCAwIDAwEDAQMBAwIDAgMCAwMDAwMDBAEEAQQBBAIEAgQCBAMEAwQD\",\"shape\":\"36, 2\"},\"hovertemplate\":\"angle=-25\\u003cbr\\u003esubject_name=P087\\u003cbr\\u003epca_1=%{x}\\u003cbr\\u003epca_2=%{y}\\u003cbr\\u003esitus=%{customdata[0]}\\u003cbr\\u003erepetition=%{customdata[1]}\\u003cextra\\u003e\\u003c\\u002fextra\\u003e\",\"legendgroup\":\"-25, P087\",\"marker\":{\"color\":\"#EF553B\",\"symbol\":\"diamond\"},\"mode\":\"markers\",\"name\":\"-25, P087\",\"orientation\":\"v\",\"showlegend\":true,\"x\":{\"dtype\":\"f4\",\"bdata\":\"\\u002fU6LujxHvzmmY486jHRcuinpBDpMC806YHICujwHdjqECgM7N5SWOzOHpTvTEK47lCWXO05cozvvfbA7j6ysO\\u002fRnsztOVcM7i3hYu\\u002f6rFrtuvJe6w31Mu07VE7tpJnu69tJAu9zX+7q3XEi6eD5guz2KJ7vqqNa6tWtOu5AKFLvAtsa65wpSu9NwFLt8ELa6\"},\"xaxis\":\"x\",\"y\":{\"dtype\":\"f4\",\"bdata\":\"npM0Oy9buzp0JGM6A4YnO4SNtDrfnO85UE0RO5jOiDqTk5s5nPrvuvJezLrcjb+6Vkv6ur286Lq0A9i6HeL9uv1j6roeJdi6qK2QO7+cbTuZ5CM7URSWO5H2fTtRQSk7CIuXOyxfeTtlQyU7zd9DO3jTADs15ns6+DNZO\\u002f5PFDvjg8I6\\u002flo\\u002fO9GG6jpbDmo6\"},\"yaxis\":\"y\",\"type\":\"scatter\"},{\"customdata\":{\"dtype\":\"i1\",\"bdata\":\"AQEBAQEBAQIBAgECAQMBAwEDAgECAQIBAgICAgICAgMCAwIDAwEDAQMBAwIDAgMCAwMDAwMDBAEEAQQBBAIEAgQCBAMEAwQD\",\"shape\":\"36, 2\"},\"hovertemplate\":\"angle=-25\\u003cbr\\u003esubject_name=P088\\u003cbr\\u003epca_1=%{x}\\u003cbr\\u003epca_2=%{y}\\u003cbr\\u003esitus=%{customdata[0]}\\u003cbr\\u003erepetition=%{customdata[1]}\\u003cextra\\u003e\\u003c\\u002fextra\\u003e\",\"legendgroup\":\"-25, P088\",\"marker\":{\"color\":\"#EF553B\",\"symbol\":\"square\"},\"mode\":\"markers\",\"name\":\"-25, P088\",\"orientation\":\"v\",\"showlegend\":true,\"x\":{\"dtype\":\"f4\",\"bdata\":\"Et6Fuwb9Bbv3dKu6asBvu14T3bq2rY+6Yotmu5Ad37pkRYy6fGKVOtzT2Tph\\u002fhY7xP4COhmLjTpxr8060cJ2OeTMWDq8S5g6pZynurJFbLq\\u002fkEm6ys6AurQlbrr8mU26h4rHurIgl7rH+IC6TvyaukdAE7rq0ZW5Prl3uvJTvrkT8Yg4QqMMusAGsrnGpjY4\"},\"xaxis\":\"x\",\"y\":{\"dtype\":\"f4\",\"bdata\":\"ibYaOwksTzqvuhg6UVMFO8UvNDogYcQ5e3r6Onj6Jzp\\u002fz6M5A0LuuqLz+7p0XvK6iC0fu+MAH7siNx67klg1u1OlMrsWNjK74dvuugCLCrt\\u002fhhC7Eqkau5GuE7sVbRy7khIjuyZFNrsfVT27zBFyu5y\\u002ff7usW4O7ruhSu5w5bbtdYHS7zu94uw1ygbuADoS7\"},\"yaxis\":\"y\",\"type\":\"scatter\"},{\"customdata\":{\"dtype\":\"i1\",\"bdata\":\"AQEBAQEBAQIBAgECAQMBAwEDAgECAQIBAgICAgICAgMCAwIDAwEDAQMBAwIDAgMCAwMDAwMDBAEEAQQBBAIEAgQCBAMEAwQD\",\"shape\":\"36, 2\"},\"hovertemplate\":\"angle=-25\\u003cbr\\u003esubject_name=P089\\u003cbr\\u003epca_1=%{x}\\u003cbr\\u003epca_2=%{y}\\u003cbr\\u003esitus=%{customdata[0]}\\u003cbr\\u003erepetition=%{customdata[1]}\\u003cextra\\u003e\\u003c\\u002fextra\\u003e\",\"legendgroup\":\"-25, P089\",\"marker\":{\"color\":\"#EF553B\",\"symbol\":\"x\"},\"mode\":\"markers\",\"name\":\"-25, P089\",\"orientation\":\"v\",\"showlegend\":true,\"x\":{\"dtype\":\"f4\",\"bdata\":\"YM5hufoHiDpFD6462gsPOalaojrJstc6bzMYOkMj7DoAIvc6dppdOhic9Tpg8BQ7rrt8OlkJFTvXhCM7IQefOit\\u002fIzvZwSk77Zv8ulgf67nTSxa6VF7xuqieFLr5Vwy6AX9GuuCxKDkv0C055jmqugvSRbpOkzq6LdJuugIx0rkUZ7e5BgI3uhXkpLlUCJe5\"},\"xaxis\":\"x\",\"y\":{\"dtype\":\"f4\",\"bdata\":\"3i63uj5A5Lr6EuG6QOXCuos6+Loe9P+6BgGzurAw4bq0mOC6gQLmuv9ICbtmegu7X7zmunsoDrueAwy7rhz5ulDpDbscqxS73SYyuktmvLqsvLi6xu15unkO7rqgV++6InRjulEdy7qrGMu63Aw2uxptQrvbnEO7d91Ku28ESrvtvEi7bqxiuwcxUrspTFW7\"},\"yaxis\":\"y\",\"type\":\"scatter\"},{\"customdata\":{\"dtype\":\"i1\",\"bdata\":\"AQEBAQEBAQIBAgECAQMBAwEDAgECAQIBAgICAgICAgMCAwIDAwEDAQMBAwIDAgMCAwMDAwMDBAEEAQQBBAIEAgQCBAMEAwQD\",\"shape\":\"36, 2\"},\"hovertemplate\":\"angle=-25\\u003cbr\\u003esubject_name=P090\\u003cbr\\u003epca_1=%{x}\\u003cbr\\u003epca_2=%{y}\\u003cbr\\u003esitus=%{customdata[0]}\\u003cbr\\u003erepetition=%{customdata[1]}\\u003cextra\\u003e\\u003c\\u002fextra\\u003e\",\"legendgroup\":\"-25, P090\",\"marker\":{\"color\":\"#EF553B\",\"symbol\":\"cross\"},\"mode\":\"markers\",\"name\":\"-25, P090\",\"orientation\":\"v\",\"showlegend\":true,\"x\":{\"dtype\":\"f4\",\"bdata\":\"ck4Lux782brPdM266eEIu+C8vbr23ba6MqY5umLphbnuvh650SfTuukSmbcgbgQ3YC\\u002fBuqXyDrjVE6U4UzhauhEQvTlk+Aw6\\u002fYI+u7\\u002fFKLvUGCq7kNMvu\\u002f1MFrtMDRu7Qagcu007A7srIAi7AqTBumvuWLrreT+6AJaoui2X0bmNE+m5QSKMujXtgLl22Km5\"},\"xaxis\":\"x\",\"y\":{\"dtype\":\"f4\",\"bdata\":\"ItRnunrnQLp3VT26jGqEug5Eg7p3qn+6Xa6UuiTJcroLfnC6odWfuns+CrtyTQG7CVykuno\\u002f\\u002fbpD0fa63rOZuoKHzrrUDOe6C3+DujwKorrALpq6rqyduvoYybq8N7y6Q4S9uk4g87qTzdy6A1jrusjbGLthnBO7x4fJui1hDrt43ge7GovbusvwDLtNFgm7\"},\"yaxis\":\"y\",\"type\":\"scatter\"},{\"customdata\":{\"dtype\":\"i1\",\"bdata\":\"AQEBAQEBAQIBAgECAQMBAwEDAgECAQIBAgICAgICAgMCAwIDAwEDAQMBAwIDAgMCAwMDAwMDBAEEAQQBBAIEAgQCBAMEAwQD\",\"shape\":\"36, 2\"},\"hovertemplate\":\"angle=-25\\u003cbr\\u003esubject_name=P093\\u003cbr\\u003epca_1=%{x}\\u003cbr\\u003epca_2=%{y}\\u003cbr\\u003esitus=%{customdata[0]}\\u003cbr\\u003erepetition=%{customdata[1]}\\u003cextra\\u003e\\u003c\\u002fextra\\u003e\",\"legendgroup\":\"-25, P093\",\"marker\":{\"color\":\"#EF553B\",\"symbol\":\"circle\"},\"mode\":\"markers\",\"name\":\"-25, P093\",\"orientation\":\"v\",\"showlegend\":true,\"x\":{\"dtype\":\"f4\",\"bdata\":\"0lpwu8pz9bpvm\\u002fm6xJhpuzSr7bp15+i6+GNgu1RH1boY88a6MZRUuwLv+7qDyfC6yhZLu+elBbtxTb66ETNSu0s46brLl4W6LGZpu+UtS7tBwDi7mp9IuxLnIrtlggy7QH85u+SdHbvLwQu7RHaKu3fhcrvg3I+7QjJ+u4kRUbsDi3i7wVp5uwISUrtm8W27\"},\"xaxis\":\"x\",\"y\":{\"dtype\":\"f4\",\"bdata\":\"qx2EO3ftPDv0DEE7\\u002fTl9O0jTNDtYDjQ7tAqCO5VGPTs2WDs7E8pwO3UdIzs3KiQ7mQFfO3ppHjsiVQg7DOBROzeaATuQd7k64QVJug+VkLpXQea6K6fMuXJacLoijti6iW\\u002f7uQEUkroIivm6D7eZupdn2brKpi67KqyuuiEc\\u002f7ptRj27VDO7urY1Arvwl0a7\"},\"yaxis\":\"y\",\"type\":\"scatter\"},{\"customdata\":{\"dtype\":\"i1\",\"bdata\":\"AQEBAQEBAQIBAgECAQMBAwEDAgECAQIBAgICAgICAgMCAwIDAwEDAQMBAwIDAgMCAwMDAwMDBAEEAQQBBAIEAgQCBAMEAwQD\",\"shape\":\"36, 2\"},\"hovertemplate\":\"angle=-25\\u003cbr\\u003esubject_name=P094\\u003cbr\\u003epca_1=%{x}\\u003cbr\\u003epca_2=%{y}\\u003cbr\\u003esitus=%{customdata[0]}\\u003cbr\\u003erepetition=%{customdata[1]}\\u003cextra\\u003e\\u003c\\u002fextra\\u003e\",\"legendgroup\":\"-25, P094\",\"marker\":{\"color\":\"#EF553B\",\"symbol\":\"diamond\"},\"mode\":\"markers\",\"name\":\"-25, P094\",\"orientation\":\"v\",\"showlegend\":true,\"x\":{\"dtype\":\"f4\",\"bdata\":\"Bkygu3WRY7sqqki7EQqUu0C1TruRITO7fw+Ou1ITT7t3dR67P11Wu0Uj7LplhMy6rMI7uwgc8LoTCsy64YdOuwsG8bqgYcG65O2MOz4Gqzt3+bU7tuyVO9K3tDuHQr07sYmXO81wuTtIUsI7aMveO8Hf5TtLBPg7ty\\u002faO0zU7Tu8bf87vAnbO5+J6jsaIPM7\"},\"xaxis\":\"x\",\"y\":{\"dtype\":\"f4\",\"bdata\":\"i0hAO+KOAztUrMo65U86OwMq9zoycM86yz1OOyjoCzsZKNs66u6mOl2CeznLRbw4\\u002fH8sOuJC6rjSq4i5gLtcOinFULljQ6q5Z+ujul6Jz7otmMy633mguncczbq9Z8a6dfu\\u002futOb+bqdFve6AvAVu9NMB7ulmxS74XUFu6sAB7suiQq7xwkMuxnEEbubyhS7\"},\"yaxis\":\"y\",\"type\":\"scatter\"},{\"customdata\":{\"dtype\":\"i1\",\"bdata\":\"AQEBAQEBAQIBAgECAQMBAwEDAgECAQIBAgICAgICAgMCAwIDAwEDAQMBAwIDAgMCAwMDAwMDBAEEAQQBBAIEAgQCBAMEAwQD\",\"shape\":\"36, 2\"},\"hovertemplate\":\"angle=-25\\u003cbr\\u003esubject_name=P096\\u003cbr\\u003epca_1=%{x}\\u003cbr\\u003epca_2=%{y}\\u003cbr\\u003esitus=%{customdata[0]}\\u003cbr\\u003erepetition=%{customdata[1]}\\u003cextra\\u003e\\u003c\\u002fextra\\u003e\",\"legendgroup\":\"-25, P096\",\"marker\":{\"color\":\"#EF553B\",\"symbol\":\"square\"},\"mode\":\"markers\",\"name\":\"-25, P096\",\"orientation\":\"v\",\"showlegend\":true,\"x\":{\"dtype\":\"f4\",\"bdata\":\"1di5tzTKGjsNWFI7NbvMuMD+KjtfVWo7MIUrOZsYMzuKb3A7B\\u002f\\u002fkunza3bmvnRo73xbgurKL2Dhunhc7s1CtuoiS0Lf50Yk7ZiMiPNR2Kjz6YSw8mHkiPB7HLTzt3S08cacjPKcuMjze0C08mpAEPLo1DTwJ6g08FqUCPC2RCTw8hAs8sV4DPPd0DTwIJA88\"},\"xaxis\":\"x\",\"y\":{\"dtype\":\"f4\",\"bdata\":\"J5szO7MWhzoVsp85xYA2O\\u002f96Jzr6cZC4ZFkVO6hTcznUGvC5J6CVO1yKYDtHGfM6R6KZOwiqVzsg4wc7yYCZOzBkaTtcRK86rh+iO46lnzuSa6M7oDeZOxDmlzt2dJs78E+hO4GVnDuBqZ87LHztOnfI5jo\\u002fV\\u002fI6Y9rYOphvzjoWrt86zo+1OnUvnjrOa7I6\"},\"yaxis\":\"y\",\"type\":\"scatter\"},{\"customdata\":{\"dtype\":\"i1\",\"bdata\":\"AQEBAQEBAQIBAgECAQMBAwEDAgECAQIBAgICAgICAgMCAwIDAwEDAQMBAwIDAgMCAwMDAwMDBAEEAQQBBAIEAgQCBAMEAwQD\",\"shape\":\"36, 2\"},\"hovertemplate\":\"angle=25\\u003cbr\\u003esubject_name=P086\\u003cbr\\u003epca_1=%{x}\\u003cbr\\u003epca_2=%{y}\\u003cbr\\u003esitus=%{customdata[0]}\\u003cbr\\u003erepetition=%{customdata[1]}\\u003cextra\\u003e\\u003c\\u002fextra\\u003e\",\"legendgroup\":\"25, P086\",\"marker\":{\"color\":\"#00cc96\",\"symbol\":\"circle\"},\"mode\":\"markers\",\"name\":\"25, P086\",\"orientation\":\"v\",\"showlegend\":true,\"x\":{\"dtype\":\"f4\",\"bdata\":\"wdeku45VYbuRY0m7X6aAu8Y9Frsaexu7iSKeu9kbRLvdwT67ub63u2N\\u002fi7uLJl274gCvu3JhhbuiDEe7JLOvu01jibsAx0m7RHhhu\\u002fviPrsW4i+74WJyu6gET7tPKDm7M0Bdu5vqQrvqzCy7nGlNufLBX7kKUpw53NxdudZyArkza6c53x+zuZ5Ga7iwzvM5\"},\"xaxis\":\"x\",\"y\":{\"dtype\":\"f4\",\"bdata\":\"usPOOuzVyrl3o\\u002fe5JfyrOtCSjLlDqj654O6XOhccQrqp8Sy6dVidO7XPTztrzBc799yUO3eAUjusMBI7zzGQOwdjTjv5tQQ7ccSnuQK7KLpcdT26cbeAuisvmrr3C6+6u4hpuiZ3hLrPNZ+6nYOXOUq7qLg4boS4Wv8NOkMgOTmi3BM5BMhxt+72bLmTmku5\"},\"yaxis\":\"y\",\"type\":\"scatter\"},{\"customdata\":{\"dtype\":\"i1\",\"bdata\":\"AQEBAQEBAQIBAgECAQMBAwEDAgECAQIBAgICAgICAgMCAwIDAwEDAQMBAwIDAgMCAwMDAwMDBAEEAQQBBAIEAgQCBAMEAwQD\",\"shape\":\"36, 2\"},\"hovertemplate\":\"angle=25\\u003cbr\\u003esubject_name=P087\\u003cbr\\u003epca_1=%{x}\\u003cbr\\u003epca_2=%{y}\\u003cbr\\u003esitus=%{customdata[0]}\\u003cbr\\u003erepetition=%{customdata[1]}\\u003cextra\\u003e\\u003c\\u002fextra\\u003e\",\"legendgroup\":\"25, P087\",\"marker\":{\"color\":\"#00cc96\",\"symbol\":\"diamond\"},\"mode\":\"markers\",\"name\":\"25, P087\",\"orientation\":\"v\",\"showlegend\":true,\"x\":{\"dtype\":\"f4\",\"bdata\":\"fkcnOrZP\\u002fDlEa346SWJsOkqlXzp+Xps6W3G6OgTtjjr9Q806iFnZOvH1BzuzvRc7xGzdOm5MEztI8CA7jsvnOlgrFDsXvik7cvrxuFVRQLnIeJE5qYwnOvOiATqUk2A6eHkRO0KR\\u002fTqEwxc7k6+OOvDWiToOSY06nLK0Oml8pDrIK8s6Ety+OnGUsTrfEdE6\"},\"xaxis\":\"x\",\"y\":{\"dtype\":\"f4\",\"bdata\":\"Y77OuiaQxroupbm6uWriuhbg1roT1te6wqrrum9N1LruJNm6lA4puwmiMLsCry27d2ZOu1lfVLtXNU67ecpDuw00S7uYI0S7ddgxOy7SGTsqBR87F4oZO96DFTv32RU7S3giOyIJBDu6BA47MASzOmFWdzpSPYU6aCOlOsOLeDqRx4I69ah8OjolQjrKT1w6\"},\"yaxis\":\"y\",\"type\":\"scatter\"},{\"customdata\":{\"dtype\":\"i1\",\"bdata\":\"AQEBAQEBAQIBAgECAQMBAwEDAgECAQIBAgICAgICAgMCAwIDAwEDAQMBAwIDAgMCAwMDAwMDBAEEAQQBBAIEAgQCBAMEAwQD\",\"shape\":\"36, 2\"},\"hovertemplate\":\"angle=25\\u003cbr\\u003esubject_name=P088\\u003cbr\\u003epca_1=%{x}\\u003cbr\\u003epca_2=%{y}\\u003cbr\\u003esitus=%{customdata[0]}\\u003cbr\\u003erepetition=%{customdata[1]}\\u003cextra\\u003e\\u003c\\u002fextra\\u003e\",\"legendgroup\":\"25, P088\",\"marker\":{\"color\":\"#00cc96\",\"symbol\":\"square\"},\"mode\":\"markers\",\"name\":\"25, P088\",\"orientation\":\"v\",\"showlegend\":true,\"x\":{\"dtype\":\"f4\",\"bdata\":\"Yd+JuxsLf7sf7127ASyGu22gbrudlVS7R\\u002fVnu1qnTrv20Dy786oTuw3D6LqYA7W6XvD8ugNq3LpKt5y69tzguqBhw7pn75K6FJ5uuvTLsbnRknM5+Y6nuc\\u002fKObnmyqc5psBSukT4qDiDl5g5OM9gO\\u002fRgdjtvHos7Z2iMO1i7gjtNJJw7OJHEOyaqlDuhEa07\"},\"xaxis\":\"x\",\"y\":{\"dtype\":\"f4\",\"bdata\":\"Xc54unwRjLrWZcK62J2Puj4grLoqmdO66G6QurtXsLq+hNm6IEaEu0eVhLuhZYi7jnOGuw\\u002fihLsWioa7GDSMuzOxi7v7Bo67F3Meu0j+F7t1Shy79EEpu9a\\u002fELsMdRu7kNc3u+fKNrttwTe73PYau4bFCbuf9Pi6hhjwuq2DALsmlNm6LVzJugEaArsqBd26\"},\"yaxis\":\"y\",\"type\":\"scatter\"},{\"customdata\":{\"dtype\":\"i1\",\"bdata\":\"AQEBAQEBAQIBAgECAQMBAwEDAgECAQIBAgICAgICAgMCAwIDAwEDAQMBAwIDAgMCAwMDAwMDBAEEAQQBBAIEAgQCBAMEAwQD\",\"shape\":\"36, 2\"},\"hovertemplate\":\"angle=25\\u003cbr\\u003esubject_name=P089\\u003cbr\\u003epca_1=%{x}\\u003cbr\\u003epca_2=%{y}\\u003cbr\\u003esitus=%{customdata[0]}\\u003cbr\\u003erepetition=%{customdata[1]}\\u003cextra\\u003e\\u003c\\u002fextra\\u003e\",\"legendgroup\":\"25, P089\",\"marker\":{\"color\":\"#00cc96\",\"symbol\":\"x\"},\"mode\":\"markers\",\"name\":\"25, P089\",\"orientation\":\"v\",\"showlegend\":true,\"x\":{\"dtype\":\"f4\",\"bdata\":\"iEkIu1ktj7oAX5m6ns0Gu0vvYrpsfl+6Y38Ju9MVs7pNmmi60ZvbuX9eHjq+dVA63BXVudvBxTkCtg46BtqsuPpMVDqQviU6ytB8tuq8LzrCv0E6Mz7GOEP5XTpNSlY6mmITOauGcDpNK2Y6aoNRuSKOKzoQ2Ec64mafOUWfizpYJYQ6rohgOTzLiTqsPm06\"},\"xaxis\":\"x\",\"y\":{\"dtype\":\"f4\",\"bdata\":\"jXFGu1KsWrsqAVy73pQ\\u002fux0gYbsP5F+7iutUu0rEcbsW\\u002fXa7w9pZu6TNY7s\\u002fql+7d1ttu8Ugdbtp3m+73UNfuw\\u002faZLtOsmO71inmutCWCrtf7we7cn4Eu+LMGLvMix27jWQJu4GXGruz+xq7U15LuwxAZbvCu2C7RxYzu4U6TLsj4ku7MOxGu6mpXrsO9lm7\"},\"yaxis\":\"y\",\"type\":\"scatter\"},{\"customdata\":{\"dtype\":\"i1\",\"bdata\":\"AQEBAQEBAQIBAgECAQMBAwEDAgECAQIBAgICAgICAgMCAwIDAwEDAQMBAwIDAgMCAwMDAwMDBAEEAQQBBAIEAgQCBAMEAwQD\",\"shape\":\"36, 2\"},\"hovertemplate\":\"angle=25\\u003cbr\\u003esubject_name=P090\\u003cbr\\u003epca_1=%{x}\\u003cbr\\u003epca_2=%{y}\\u003cbr\\u003esitus=%{customdata[0]}\\u003cbr\\u003erepetition=%{customdata[1]}\\u003cextra\\u003e\\u003c\\u002fextra\\u003e\",\"legendgroup\":\"25, P090\",\"marker\":{\"color\":\"#00cc96\",\"symbol\":\"cross\"},\"mode\":\"markers\",\"name\":\"25, P090\",\"orientation\":\"v\",\"showlegend\":true,\"x\":{\"dtype\":\"f4\",\"bdata\":\"u+84u5MOG7s+yxe7JWQwu0v9EbsTxRC7rBQeu\\u002furAbuGYvu6DLGAuli+PLoJwDy6c7\\u002fTuqaGa7oLSHy6CwW1uvUaK7pRoia6Y3\\u002fWuiXMNrpsyaS6TXW+ut1QUrozlF261IWfuuG\\u002fF7rnP1C659jPOuMX1zpWado64fZsOql0kzrcK4g6Vq\\u002fTOvmgADsSleY6\"},\"xaxis\":\"x\",\"y\":{\"dtype\":\"f4\",\"bdata\":\"tv0hu\\u002feQNrvAMjW7Ddk4u78PTbvXXku7XQY7u0OFTruu0kq74DNgu2Z0Tbu0CE27Bc9UuyHqYbtgGli7sqQ+u\\u002feDULuNYEy7oxuFuvwuz7ruga26cAGgutnQ07o78Mm6MQyoupqr2rrXF8y6eVDduj316rpnQuS6EOL7usawAbtc1\\u002fi6GcTWujJe07pBktG6\"},\"yaxis\":\"y\",\"type\":\"scatter\"},{\"customdata\":{\"dtype\":\"i1\",\"bdata\":\"AQEBAQEBAQIBAgECAQMBAwEDAgECAQIBAgICAgICAgMCAwIDAwEDAQMBAwIDAgMCAwMDAwMDBAEEAQQBBAIEAgQCBAMEAwQD\",\"shape\":\"36, 2\"},\"hovertemplate\":\"angle=25\\u003cbr\\u003esubject_name=P093\\u003cbr\\u003epca_1=%{x}\\u003cbr\\u003epca_2=%{y}\\u003cbr\\u003esitus=%{customdata[0]}\\u003cbr\\u003erepetition=%{customdata[1]}\\u003cextra\\u003e\\u003c\\u002fextra\\u003e\",\"legendgroup\":\"25, P093\",\"marker\":{\"color\":\"#00cc96\",\"symbol\":\"circle\"},\"mode\":\"markers\",\"name\":\"25, P093\",\"orientation\":\"v\",\"showlegend\":true,\"x\":{\"dtype\":\"f4\",\"bdata\":\"PtCRu4XCZ7vBu2O77gGGuwb3VLuuplm7RdyHu\\u002fdtWLtsHVS7ADUmu5eZ6Lrdj4e6Gt06u0CeA7sxuKS6JFEou1y127qY2vC5jyqtuf5qjzmAUSA6iueTuvHI1LnVuZq5XDrque5UATpReUM68I3Bujji\\u002frn1OLS6TJuUutHX1rmy9ai6v6WVugsY5bk00q26\"},\"xaxis\":\"x\",\"y\":{\"dtype\":\"f4\",\"bdata\":\"dFghO+pP0Tpz0OA6gFcTO486wDoGHLo6cEgFOxKhmjqPAJg6IySiOqfP\\u002fDmJKJq5klu7Ouf6EDqHzre5Q4C4OimVtzmkCFS6Uqm+ueXO57lP6Mu69Y5huhR2NbqmLOG6a\\u002f6IumOMUrpXg+u6rnObugDvqbog+cq64svIutYn0rqHvP+6mYcAu1ujBbvCuiK7\"},\"yaxis\":\"y\",\"type\":\"scatter\"},{\"customdata\":{\"dtype\":\"i1\",\"bdata\":\"AQEBAQEBAQIBAgECAQMBAwEDAgECAQIBAgICAgICAgMCAwIDAwEDAQMBAwIDAgMCAwMDAwMDBAEEAQQBBAIEAgQCBAMEAwQD\",\"shape\":\"36, 2\"},\"hovertemplate\":\"angle=25\\u003cbr\\u003esubject_name=P094\\u003cbr\\u003epca_1=%{x}\\u003cbr\\u003epca_2=%{y}\\u003cbr\\u003esitus=%{customdata[0]}\\u003cbr\\u003erepetition=%{customdata[1]}\\u003cextra\\u003e\\u003c\\u002fextra\\u003e\",\"legendgroup\":\"25, P094\",\"marker\":{\"color\":\"#00cc96\",\"symbol\":\"diamond\"},\"mode\":\"markers\",\"name\":\"25, P094\",\"orientation\":\"v\",\"showlegend\":true,\"x\":{\"dtype\":\"f4\",\"bdata\":\"8iScu5pZk7sja4i7X6qiu5gXkrukboW7tsOhuymjkbuICYq7VFW7uxaxl7vJ94O7eGyzu1IBkbtw03y7EU2xu7Rrjrvnw2y7BafpO2T7DTw+sxc8TB3bO+RNCjwYfxc86pAIPCF+Ijwr8S48EQLDO1q6BDxegxE8cDvJO6Y\\u002fCjwzixM8R5TIOyo5CTyB8hk8\"},\"xaxis\":\"x\",\"y\":{\"dtype\":\"f4\",\"bdata\":\"VGqZOulIljod8Ww6AFmTOq4naDrUPyk6d6xrOg3SITp7ZAw6QmvROYCWBLqpXpy6b55iNKruaLqfRMi6hyLrOFIbX7rTZMu6M8Yium58SrreMGG6FTOCuqQimroI16K6e\\u002fzquIyEubnNGOa54Gu2uMUJjbrBTqu6+DgwuTq+orpWLa66AMZHObu0irp8wYy6\"},\"yaxis\":\"y\",\"type\":\"scatter\"},{\"customdata\":{\"dtype\":\"i1\",\"bdata\":\"AQEBAQEBAQIBAgECAQMBAwEDAgECAQIBAgICAgICAgMCAwIDAwEDAQMBAwIDAgMCAwMDAwMDBAEEAQQBBAIEAgQCBAMEAwQD\",\"shape\":\"36, 2\"},\"hovertemplate\":\"angle=25\\u003cbr\\u003esubject_name=P096\\u003cbr\\u003epca_1=%{x}\\u003cbr\\u003epca_2=%{y}\\u003cbr\\u003esitus=%{customdata[0]}\\u003cbr\\u003erepetition=%{customdata[1]}\\u003cextra\\u003e\\u003c\\u002fextra\\u003e\",\"legendgroup\":\"25, P096\",\"marker\":{\"color\":\"#00cc96\",\"symbol\":\"square\"},\"mode\":\"markers\",\"name\":\"25, P096\",\"orientation\":\"v\",\"showlegend\":true,\"x\":{\"dtype\":\"f4\",\"bdata\":\"jb2WOyPelzvIpJw7LzlQO2+9YzvUZXM7JxxdO22Hbzscx4A7\\u002fB\\u002fyOq902zrjoQw7+yIXO\\u002fMHJTu4Pjk7tgn3Os1\\u002fCTth4yA7t2PPO0p0CTwbrRM80lfQOwKrDDxn7RQ8zMHOO4PRBDyCJhc89yaHOzD4qDvNs8Y7rTedO+kmwTu5wes7wH2HO0KYwztcj9c7\"},\"xaxis\":\"x\",\"y\":{\"dtype\":\"f4\",\"bdata\":\"crnNugBJ5Lq48ta6x7kSuyJpIbtvOiO7708UuybEHbuiViO7\\u002fz5qN88FXTeHHdS4FjwmOgQz7zk5XfY58emzt2G4SLnBbXW5hcvbO8lXsjuxd647p1TUO+akqDst\\u002f6E7yInJO+9yojsUU5Q7aANKOzSoFjuLLME6gz1EO4bTCjtHNqo6AsJEO0NY2Tr5m7s6\"},\"yaxis\":\"y\",\"type\":\"scatter\"}],                        {\"template\":{\"data\":{\"barpolar\":[{\"marker\":{\"line\":{\"color\":\"white\",\"width\":0.5},\"pattern\":{\"fillmode\":\"overlay\",\"size\":10,\"solidity\":0.2}},\"type\":\"barpolar\"}],\"bar\":[{\"error_x\":{\"color\":\"#2a3f5f\"},\"error_y\":{\"color\":\"#2a3f5f\"},\"marker\":{\"line\":{\"color\":\"white\",\"width\":0.5},\"pattern\":{\"fillmode\":\"overlay\",\"size\":10,\"solidity\":0.2}},\"type\":\"bar\"}],\"carpet\":[{\"aaxis\":{\"endlinecolor\":\"#2a3f5f\",\"gridcolor\":\"#C8D4E3\",\"linecolor\":\"#C8D4E3\",\"minorgridcolor\":\"#C8D4E3\",\"startlinecolor\":\"#2a3f5f\"},\"baxis\":{\"endlinecolor\":\"#2a3f5f\",\"gridcolor\":\"#C8D4E3\",\"linecolor\":\"#C8D4E3\",\"minorgridcolor\":\"#C8D4E3\",\"startlinecolor\":\"#2a3f5f\"},\"type\":\"carpet\"}],\"choropleth\":[{\"colorbar\":{\"outlinewidth\":0,\"ticks\":\"\"},\"type\":\"choropleth\"}],\"contourcarpet\":[{\"colorbar\":{\"outlinewidth\":0,\"ticks\":\"\"},\"type\":\"contourcarpet\"}],\"contour\":[{\"colorbar\":{\"outlinewidth\":0,\"ticks\":\"\"},\"colorscale\":[[0.0,\"#0d0887\"],[0.1111111111111111,\"#46039f\"],[0.2222222222222222,\"#7201a8\"],[0.3333333333333333,\"#9c179e\"],[0.4444444444444444,\"#bd3786\"],[0.5555555555555556,\"#d8576b\"],[0.6666666666666666,\"#ed7953\"],[0.7777777777777778,\"#fb9f3a\"],[0.8888888888888888,\"#fdca26\"],[1.0,\"#f0f921\"]],\"type\":\"contour\"}],\"heatmap\":[{\"colorbar\":{\"outlinewidth\":0,\"ticks\":\"\"},\"colorscale\":[[0.0,\"#0d0887\"],[0.1111111111111111,\"#46039f\"],[0.2222222222222222,\"#7201a8\"],[0.3333333333333333,\"#9c179e\"],[0.4444444444444444,\"#bd3786\"],[0.5555555555555556,\"#d8576b\"],[0.6666666666666666,\"#ed7953\"],[0.7777777777777778,\"#fb9f3a\"],[0.8888888888888888,\"#fdca26\"],[1.0,\"#f0f921\"]],\"type\":\"heatmap\"}],\"histogram2dcontour\":[{\"colorbar\":{\"outlinewidth\":0,\"ticks\":\"\"},\"colorscale\":[[0.0,\"#0d0887\"],[0.1111111111111111,\"#46039f\"],[0.2222222222222222,\"#7201a8\"],[0.3333333333333333,\"#9c179e\"],[0.4444444444444444,\"#bd3786\"],[0.5555555555555556,\"#d8576b\"],[0.6666666666666666,\"#ed7953\"],[0.7777777777777778,\"#fb9f3a\"],[0.8888888888888888,\"#fdca26\"],[1.0,\"#f0f921\"]],\"type\":\"histogram2dcontour\"}],\"histogram2d\":[{\"colorbar\":{\"outlinewidth\":0,\"ticks\":\"\"},\"colorscale\":[[0.0,\"#0d0887\"],[0.1111111111111111,\"#46039f\"],[0.2222222222222222,\"#7201a8\"],[0.3333333333333333,\"#9c179e\"],[0.4444444444444444,\"#bd3786\"],[0.5555555555555556,\"#d8576b\"],[0.6666666666666666,\"#ed7953\"],[0.7777777777777778,\"#fb9f3a\"],[0.8888888888888888,\"#fdca26\"],[1.0,\"#f0f921\"]],\"type\":\"histogram2d\"}],\"histogram\":[{\"marker\":{\"pattern\":{\"fillmode\":\"overlay\",\"size\":10,\"solidity\":0.2}},\"type\":\"histogram\"}],\"mesh3d\":[{\"colorbar\":{\"outlinewidth\":0,\"ticks\":\"\"},\"type\":\"mesh3d\"}],\"parcoords\":[{\"line\":{\"colorbar\":{\"outlinewidth\":0,\"ticks\":\"\"}},\"type\":\"parcoords\"}],\"pie\":[{\"automargin\":true,\"type\":\"pie\"}],\"scatter3d\":[{\"line\":{\"colorbar\":{\"outlinewidth\":0,\"ticks\":\"\"}},\"marker\":{\"colorbar\":{\"outlinewidth\":0,\"ticks\":\"\"}},\"type\":\"scatter3d\"}],\"scattercarpet\":[{\"marker\":{\"colorbar\":{\"outlinewidth\":0,\"ticks\":\"\"}},\"type\":\"scattercarpet\"}],\"scattergeo\":[{\"marker\":{\"colorbar\":{\"outlinewidth\":0,\"ticks\":\"\"}},\"type\":\"scattergeo\"}],\"scattergl\":[{\"marker\":{\"colorbar\":{\"outlinewidth\":0,\"ticks\":\"\"}},\"type\":\"scattergl\"}],\"scattermapbox\":[{\"marker\":{\"colorbar\":{\"outlinewidth\":0,\"ticks\":\"\"}},\"type\":\"scattermapbox\"}],\"scattermap\":[{\"marker\":{\"colorbar\":{\"outlinewidth\":0,\"ticks\":\"\"}},\"type\":\"scattermap\"}],\"scatterpolargl\":[{\"marker\":{\"colorbar\":{\"outlinewidth\":0,\"ticks\":\"\"}},\"type\":\"scatterpolargl\"}],\"scatterpolar\":[{\"marker\":{\"colorbar\":{\"outlinewidth\":0,\"ticks\":\"\"}},\"type\":\"scatterpolar\"}],\"scatter\":[{\"fillpattern\":{\"fillmode\":\"overlay\",\"size\":10,\"solidity\":0.2},\"type\":\"scatter\"}],\"scatterternary\":[{\"marker\":{\"colorbar\":{\"outlinewidth\":0,\"ticks\":\"\"}},\"type\":\"scatterternary\"}],\"surface\":[{\"colorbar\":{\"outlinewidth\":0,\"ticks\":\"\"},\"colorscale\":[[0.0,\"#0d0887\"],[0.1111111111111111,\"#46039f\"],[0.2222222222222222,\"#7201a8\"],[0.3333333333333333,\"#9c179e\"],[0.4444444444444444,\"#bd3786\"],[0.5555555555555556,\"#d8576b\"],[0.6666666666666666,\"#ed7953\"],[0.7777777777777778,\"#fb9f3a\"],[0.8888888888888888,\"#fdca26\"],[1.0,\"#f0f921\"]],\"type\":\"surface\"}],\"table\":[{\"cells\":{\"fill\":{\"color\":\"#EBF0F8\"},\"line\":{\"color\":\"white\"}},\"header\":{\"fill\":{\"color\":\"#C8D4E3\"},\"line\":{\"color\":\"white\"}},\"type\":\"table\"}]},\"layout\":{\"annotationdefaults\":{\"arrowcolor\":\"#2a3f5f\",\"arrowhead\":0,\"arrowwidth\":1},\"autotypenumbers\":\"strict\",\"coloraxis\":{\"colorbar\":{\"outlinewidth\":0,\"ticks\":\"\"}},\"colorscale\":{\"diverging\":[[0,\"#8e0152\"],[0.1,\"#c51b7d\"],[0.2,\"#de77ae\"],[0.3,\"#f1b6da\"],[0.4,\"#fde0ef\"],[0.5,\"#f7f7f7\"],[0.6,\"#e6f5d0\"],[0.7,\"#b8e186\"],[0.8,\"#7fbc41\"],[0.9,\"#4d9221\"],[1,\"#276419\"]],\"sequential\":[[0.0,\"#0d0887\"],[0.1111111111111111,\"#46039f\"],[0.2222222222222222,\"#7201a8\"],[0.3333333333333333,\"#9c179e\"],[0.4444444444444444,\"#bd3786\"],[0.5555555555555556,\"#d8576b\"],[0.6666666666666666,\"#ed7953\"],[0.7777777777777778,\"#fb9f3a\"],[0.8888888888888888,\"#fdca26\"],[1.0,\"#f0f921\"]],\"sequentialminus\":[[0.0,\"#0d0887\"],[0.1111111111111111,\"#46039f\"],[0.2222222222222222,\"#7201a8\"],[0.3333333333333333,\"#9c179e\"],[0.4444444444444444,\"#bd3786\"],[0.5555555555555556,\"#d8576b\"],[0.6666666666666666,\"#ed7953\"],[0.7777777777777778,\"#fb9f3a\"],[0.8888888888888888,\"#fdca26\"],[1.0,\"#f0f921\"]]},\"colorway\":[\"#636efa\",\"#EF553B\",\"#00cc96\",\"#ab63fa\",\"#FFA15A\",\"#19d3f3\",\"#FF6692\",\"#B6E880\",\"#FF97FF\",\"#FECB52\"],\"font\":{\"color\":\"#2a3f5f\"},\"geo\":{\"bgcolor\":\"white\",\"lakecolor\":\"white\",\"landcolor\":\"white\",\"showlakes\":true,\"showland\":true,\"subunitcolor\":\"#C8D4E3\"},\"hoverlabel\":{\"align\":\"left\"},\"hovermode\":\"closest\",\"mapbox\":{\"style\":\"light\"},\"paper_bgcolor\":\"white\",\"plot_bgcolor\":\"white\",\"polar\":{\"angularaxis\":{\"gridcolor\":\"#EBF0F8\",\"linecolor\":\"#EBF0F8\",\"ticks\":\"\"},\"bgcolor\":\"white\",\"radialaxis\":{\"gridcolor\":\"#EBF0F8\",\"linecolor\":\"#EBF0F8\",\"ticks\":\"\"}},\"scene\":{\"xaxis\":{\"backgroundcolor\":\"white\",\"gridcolor\":\"#DFE8F3\",\"gridwidth\":2,\"linecolor\":\"#EBF0F8\",\"showbackground\":true,\"ticks\":\"\",\"zerolinecolor\":\"#EBF0F8\"},\"yaxis\":{\"backgroundcolor\":\"white\",\"gridcolor\":\"#DFE8F3\",\"gridwidth\":2,\"linecolor\":\"#EBF0F8\",\"showbackground\":true,\"ticks\":\"\",\"zerolinecolor\":\"#EBF0F8\"},\"zaxis\":{\"backgroundcolor\":\"white\",\"gridcolor\":\"#DFE8F3\",\"gridwidth\":2,\"linecolor\":\"#EBF0F8\",\"showbackground\":true,\"ticks\":\"\",\"zerolinecolor\":\"#EBF0F8\"}},\"shapedefaults\":{\"line\":{\"color\":\"#2a3f5f\"}},\"ternary\":{\"aaxis\":{\"gridcolor\":\"#DFE8F3\",\"linecolor\":\"#A2B1C6\",\"ticks\":\"\"},\"baxis\":{\"gridcolor\":\"#DFE8F3\",\"linecolor\":\"#A2B1C6\",\"ticks\":\"\"},\"bgcolor\":\"white\",\"caxis\":{\"gridcolor\":\"#DFE8F3\",\"linecolor\":\"#A2B1C6\",\"ticks\":\"\"}},\"title\":{\"x\":0.05},\"xaxis\":{\"automargin\":true,\"gridcolor\":\"#EBF0F8\",\"linecolor\":\"#EBF0F8\",\"ticks\":\"\",\"title\":{\"standoff\":15},\"zerolinecolor\":\"#EBF0F8\",\"zerolinewidth\":2},\"yaxis\":{\"automargin\":true,\"gridcolor\":\"#EBF0F8\",\"linecolor\":\"#EBF0F8\",\"ticks\":\"\",\"title\":{\"standoff\":15},\"zerolinecolor\":\"#EBF0F8\",\"zerolinewidth\":2}}},\"xaxis\":{\"anchor\":\"y\",\"domain\":[0.0,1.0],\"title\":{\"text\":\"\\u003cb\\u003ePC 1 [0.60]\\u003c\\u002fb\\u003e\"}},\"yaxis\":{\"anchor\":\"x\",\"domain\":[0.0,1.0],\"title\":{\"text\":\"\\u003cb\\u003ePC 2 [0.25]\\u003c\\u002fb\\u003e\"}},\"legend\":{\"title\":{\"text\":\"angle, subject_name\"},\"tracegroupgap\":0},\"margin\":{\"t\":60},\"title\":{\"text\":\"PCA of kidney to visualize situs, angle and repetition\",\"x\":0.5},\"height\":600,\"width\":800},                        {\"responsive\": true}                    ).then(function(){\n",
       "                            \n",
       "var gd = document.getElementById('5594aa6b-342f-4d0a-ba5e-4842fab428f7');\n",
       "var x = new MutationObserver(function (mutations, observer) {{\n",
       "        var display = window.getComputedStyle(gd).display;\n",
       "        if (!display || display === 'none') {{\n",
       "            console.log([gd, 'removed!']);\n",
       "            Plotly.purge(gd);\n",
       "            observer.disconnect();\n",
       "        }}\n",
       "}});\n",
       "\n",
       "// Listen for the removal of the full notebook cells\n",
       "var notebookContainer = gd.closest('#notebook-container');\n",
       "if (notebookContainer) {{\n",
       "    x.observe(notebookContainer, {childList: true});\n",
       "}}\n",
       "\n",
       "// Listen for the clearing of the current output cell\n",
       "var outputEl = gd.closest('.output');\n",
       "if (outputEl) {{\n",
       "    x.observe(outputEl, {childList: true});\n",
       "}}\n",
       "\n",
       "                        })                };            </script>        </div>"
      ]
     },
     "metadata": {},
     "output_type": "display_data"
    }
   ],
   "source": [
    "dfp = df[df.label_name == \"kidney\"].copy()  # For simplicity, we show only one label in the plot\n",
    "dfp[\"angle\"] = dfp[\"angle\"].astype(str)  # Plotly should consider the angle as a categorical variable\n",
    "\n",
    "# Compute the PCA\n",
    "pca = PCA(n_components=2, random_state=1337)\n",
    "X = np.stack(dfp[\"median_normalized_spectrum\"])\n",
    "X_pca = pca.fit_transform(X)\n",
    "dfp[\"pca_1\"] = X_pca[:, 0]\n",
    "dfp[\"pca_2\"] = X_pca[:, 1]\n",
    "\n",
    "# Visualize the result\n",
    "fig = px.scatter(dfp, x=\"pca_1\", y=\"pca_2\", color=\"angle\", symbol=\"subject_name\", hover_data=[\"situs\", \"repetition\"])\n",
    "fig.update_layout(title_text=\"PCA of kidney to visualize situs, angle and repetition\", title_x=0.5)\n",
    "fig.update_xaxes(title=f\"<b>PC 1 [{pca.explained_variance_ratio_[0]:.2f}]</b>\")\n",
    "fig.update_yaxes(title=f\"<b>PC 2 [{pca.explained_variance_ratio_[1]:.2f}]</b>\")\n",
    "fig.update_layout(template=\"plotly_white\", height=600, width=800)"
   ]
  }
 ],
 "metadata": {
  "kernelspec": {
   "display_name": "htc",
   "language": "python",
   "name": "python3"
  },
  "language_info": {
   "codemirror_mode": {
    "name": "ipython",
    "version": 3
   },
   "file_extension": ".py",
   "mimetype": "text/x-python",
   "name": "python",
   "nbconvert_exporter": "python",
   "pygments_lexer": "ipython3",
   "version": "3.13.2"
  }
 },
 "nbformat": 4,
 "nbformat_minor": 2
}
